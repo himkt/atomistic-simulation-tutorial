{
 "cells": [
  {
   "cell_type": "markdown",
   "id": "8d33b76b-0e85-4fdd-949b-ccc932486d82",
   "metadata": {},
   "source": [
    "# Phonon"
   ]
  },
  {
   "cell_type": "markdown",
   "id": "fe928b69-32e2-4cb9-b2cb-f669002bb6e2",
   "metadata": {},
   "source": [
    "<a id='section_1'></a>\n",
    "## 1. Introduction\n",
    "### 1.1 What is phonon?\n",
    "**Essentially, a phonon is the vibration mode of atoms in the crystal.** \n",
    "Before we go to the concepts, let's look at what is a phonon from this [website](http://henriquemiranda.github.io/phononwebsite/phonon.html). \n",
    "\n",
    "<figure style=\"width:600px\">\n",
    "    <img src=\"../assets/phonon-0-play-with-phonon.gif\"/>\n",
    "    <figcaption>Animation visualization of phonon. Cite from <a href=\"http://henriquemiranda.github.io/phononwebsite/phonon.html\">http://henriquemiranda.github.io/phononwebsite/phonon.html</a>.</figcaption>\n",
    "</figure>\n",
    "\n",
    "\n",
    "Let's open the website -> select `Si` in the left-upper `materials` column -> click any point in right figure, i.e. `phonon dispersion`.\n",
    "Then, you can see every atoms (yellow balls) in the middle window show periodic motion, and collection movement of all atoms seem like a wave that travels from one end to another.\n",
    "\n",
    "Such a vibration mode in the crystal is called lattice vibration. Lattice vibration is usually dealed with quantum effects and it is called phonon. In this tutorial explanation, we don't distinguish the term lattice vibration and phonon. Please refer appendix & reference books for more detail.\n",
    "\n",
    "The direction of wave propagration is usually represented by a vector $\\vec q$ (called wave vector). The most important problem in the phonon analysis is to know what kind of vibration modes are allowed for a given wave vector $\\vec q$, and the frequency of atomic vibration in those vibration modes.\n",
    "\n",
    "Phonon is a kind of [quasiparticle](https://en.wikipedia.org/wiki/Quasiparticle). It has energy ($E$) and momentum ($\\mathbf{p}$). The phonon in a solid is directly related to its thermal and acoustic properties. For example, the excitation of a phonon causes the increase of internal energy ($U$); the transportation of the phonon causes the conduction of sound and heat. As a consequence, the phonon analysis has been a very important simulation tool to obtain the properties of solid."
   ]
  },
  {
   "cell_type": "markdown",
   "id": "afcde4ca-c6fb-43ca-94fb-2b4dca603b44",
   "metadata": {},
   "source": [
    "### 1.2 How to calculate the phonon frequency?\n",
    "\n",
    "Similar with the vibration analysis (Chapter 4-1), the phonon is also calculated with the harmonic approximation. However, the atom interacts with those in the neigboring unit cell in the crystal. By considering the periodical boundary condition, the potential energy of a small distorted crystal structure can be expressed as:\n",
    "\n",
    "$$ V(\\mathbf{r}) \\approx V(\\mathbf{r_0}) +　\\frac{1}{2} \\sum_{ij} \\frac{\\partial^2 V(\\mathbf{r_0})}{\\partial r_i^a \\partial r_j^b} \\Delta \\mathbf{r}_i^a \\Delta \\mathbf{r}_j^b $$\n",
    "\n",
    "where, $r_i^a$ indicates the coordination of the $i$-th atom at the $a$-th supercell. The force constant (explained in the Chapter 4.1) of a crystal should be a $3NM \\times 3NM$ matrix, where $N$ is number of atoms per unit cell and $M$ is the number of unit cell to be considered. The force constant can be a very large martix.\n",
    "\n",
    "We assume that the atomic displacement from its equilibrium position $u$ in a vibration mode in the crystal should have the following form (plane-wave like function)\n",
    "\n",
    "$$ u(\\vec R, t) = A e^{ \\vec{q} \\vec{R} -i\\omega_{m} t} $$\n",
    "\n",
    "Then, the large force constant matrix can be converted into a $3N \\times 3N$ dynamical matrix by discrete Fourier transform in the real space. The dynamical matrix depends on the wave vector $\\vec q$. The eigenvalue and eigenvector of the dynamical matrix is the vibration frequencies and vibration modes of the phonon. For the detailed explanation of phonon calculation formula, please refer to the [appendix](#section_5.1).\n",
    "\n",
    "In the next section, we show how to calculate the phonon properties using the `matlantis-features` package. Some important concepts of phonon are introduced at the same time."
   ]
  },
  {
   "cell_type": "markdown",
   "id": "c15895c4-065e-40ae-8b5c-f248cd491470",
   "metadata": {},
   "source": [
    "<a id='section_2'></a>\n",
    "## 2. Example: phonon calculation of Si"
   ]
  },
  {
   "cell_type": "markdown",
   "id": "dfd7305b-8449-44cd-b59e-5013d8ed914b",
   "metadata": {},
   "source": [
    "### 2.1 Material preparation\n",
    "\n",
    "Here, we use crystal silicon as an example to run the phonon calculation. As the first step, we should relax the crystal structure. Usually, we use the primitive cell of the crystal to calculate phonon dispersion since it contains the least number of atoms."
   ]
  },
  {
   "cell_type": "code",
   "execution_count": 1,
   "id": "3596c1d9-c563-4515-a67d-527f670dcf98",
   "metadata": {},
   "outputs": [
    {
     "name": "stdout",
     "output_type": "stream",
     "text": [
      "      Step     Time          Energy         fmax\n",
      "BFGS:    0 01:30:05       -9.092463        0.4849\n",
      "BFGS:    1 01:30:05       -9.097614        0.0140\n",
      "BFGS:    2 01:30:05       -9.097622        0.0002\n"
     ]
    },
    {
     "data": {
      "text/plain": [
       "True"
      ]
     },
     "execution_count": 1,
     "metadata": {},
     "output_type": "execute_result"
    }
   ],
   "source": [
    "import numpy as np\n",
    "np.set_printoptions(precision=3)\n",
    "\n",
    "from ase.build import bulk\n",
    "from ase.optimize import BFGS\n",
    "from ase.constraints import ExpCellFilter\n",
    "\n",
    "import pfp_api_client\n",
    "from pfp_api_client.pfp.calculators.ase_calculator import ASECalculator\n",
    "from pfp_api_client.pfp.estimator import Estimator, EstimatorCalcMode\n",
    "\n",
    "estimator = Estimator(calc_mode=EstimatorCalcMode.CRYSTAL, model_version=\"v2.0.0\")\n",
    "calculator = ASECalculator(estimator)\n",
    "atoms = bulk(\"Si\")\n",
    "atoms.calc = calculator\n",
    "\n",
    "exp = ExpCellFilter(atoms)\n",
    "BFGS(exp).run(fmax=0.01)"
   ]
  },
  {
   "cell_type": "markdown",
   "id": "cace8f5d-4b8b-45b5-8418-c7f308054a50",
   "metadata": {},
   "source": [
    "### 2.2 Calculation of force constant matrix\n",
    "\n",
    "Same with the vibration analysis, the force constant is necessary for calculating the vibration frequencies of phonon. \n",
    "Here, we obtain the force constant of the crystal using the `ForceConstantFeature`. \n",
    "\n",
    "The primitive cell of crystal Si contains only 2 atoms. We should repeat the unit cell many times to obtain the accurate result. It is because the force constant element $\\frac{\\partial^2 V(\\mathbf{r_0})}{\\partial r_i^a \\partial r_j^b} $ will decay with the distance between atoms $i$ of unit cell $a$ and the atoms $j$ of unit cell $b$. Only if the supercell is large enough, all non-negligible elements of the force constant matrix can be included. In this example, we expand the crystal Si structure by 10x10x10 time.\n",
    "\n",
    "The `ForceConstantFeature` in `matlantis-features` is used to compute the force constant of crystal silicon."
   ]
  },
  {
   "cell_type": "code",
   "execution_count": 2,
   "id": "cbbccc27-163f-4e46-a35c-9e7dd1769317",
   "metadata": {},
   "outputs": [
    {
     "name": "stdout",
     "output_type": "stream",
     "text": [
      "(1000, 6, 6)\n"
     ]
    }
   ],
   "source": [
    "from matlantis_features.features.phonon import ForceConstantFeature\n",
    "\n",
    "fc = ForceConstantFeature(\n",
    "    supercell = (10,10,10),\n",
    "    delta = 0.1,\n",
    ")\n",
    "force_constant = fc(atoms)\n",
    "print(force_constant.force_constant.shape)"
   ]
  },
  {
   "cell_type": "markdown",
   "id": "fa6c652d-8c6e-4099-b8fc-88ef5d4c7698",
   "metadata": {},
   "source": [
    "The calculation result, i.e. force constant $C$, is a 1000x6x6 tensor. "
   ]
  },
  {
   "cell_type": "code",
   "execution_count": 3,
   "id": "1dda15b5-a7b0-4388-9460-90593111bfd0",
   "metadata": {},
   "outputs": [
    {
     "name": "stdout",
     "output_type": "stream",
     "text": [
      "[[-0.221 -0.215 -0.054  0.005 -0.01   0.051]\n",
      " [-0.215 -0.221 -0.054 -0.01   0.005  0.051]\n",
      " [ 0.054  0.054  0.396  0.051  0.051 -0.2  ]\n",
      " [-3.086 -2.142  2.142 -0.221 -0.215  0.054]\n",
      " [-2.142 -3.086  2.142 -0.215 -0.221  0.054]\n",
      " [ 2.142  2.142 -3.086 -0.054 -0.054  0.396]]\n"
     ]
    }
   ],
   "source": [
    "print(force_constant.force_constant[1])"
   ]
  },
  {
   "cell_type": "markdown",
   "id": "f21f3f5b-bc43-4986-bc30-070f343c7841",
   "metadata": {},
   "source": [
    "The `force_constant.force_constant[1]` is a 6x6 tensor. It is the force constant between the first and second unit cell $C^{1,2}$, i.e. $\\frac{\\partial^2 V(\\mathbf{r_0})}{\\partial r_i^1 \\partial r_j^2} $.\n",
    "Same as the vibration analysis, the element of $C^{1,2}$ is approximated with finite differences method.\n",
    "\n",
    "$$C^{1,2}[i,j]=\\frac{\\partial^2 V(\\mathbf{r_0})}{\\partial r_i^1 \\partial r_j^2} \\approx \\frac{F(\\mathbf{r_0} + \\Delta r_i^1)_j^2 - F(\\mathbf{r_0})_j^2}{|\\Delta{r_i^1}|} $$\n",
    "\n",
    "Since we used 10x10x10 unit cells, we should have 1000x1000 such 6x6 matrix. However, the crystal has trasnlational invarince, which makes the $C^{a,b} = C^{0, b-a}$. Thus, we can represent the force constant with 1000x6x6 tensor."
   ]
  },
  {
   "cell_type": "markdown",
   "id": "6ee9de8a-b70a-43ae-835e-50ffff37b4e7",
   "metadata": {},
   "source": [
    "### 2.3 Calculation of dynamical matrix\n",
    "\n",
    "Unlike the molecular vibration, in which the vibration frequency is obtrain from digonlization of force constant $C$, the vibration frequency of crystal is the eigenvalue of the dynamical matrix $D_{\\vec q}$, which is the discrete Fourier transform of the force constant in the real space. To obtain the dynamical matrix, we introduced another parameter, wave vector $\\vec q$. \n",
    "\n",
    "Then, we use the `PhononFreqency` provided by `matlantis-features` to obtain the dynamical matrix of crystal silicon for the wave vector $\\vec q = [0.1, 0.0, 0.0]$."
   ]
  },
  {
   "cell_type": "code",
   "execution_count": 4,
   "id": "fcb51a2f-5b69-468c-9f08-924f18d25987",
   "metadata": {},
   "outputs": [
    {
     "name": "stdout",
     "output_type": "stream",
     "text": [
      "Dynamical matrix of q=[0.1, 0.0, 0.0]:\n",
      "[[ 0.436 -0.003 -0.003 -0.413 -0.012 -0.012]\n",
      " [-0.003  0.437  0.003 -0.012 -0.413  0.012]\n",
      " [-0.003  0.003  0.437 -0.012  0.012 -0.413]\n",
      " [-0.413 -0.012 -0.012  0.437 -0.003 -0.003]\n",
      " [-0.012 -0.413  0.012 -0.003  0.437  0.003]\n",
      " [-0.012  0.012 -0.413 -0.003  0.003  0.437]]\n"
     ]
    }
   ],
   "source": [
    "from matlantis_features.features.phonon.utils import PhononFrequency\n",
    "\n",
    "phonon_frequency = PhononFrequency(\n",
    "    force_constant.force_constant, force_constant.supercell, force_constant.unit_cell_atoms\n",
    ")\n",
    "dynamic_matrix = phonon_frequency._dynamic_matrix_q(np.array([0.1, 0.0, 0.0])).real\n",
    "print(\"Dynamical matrix of q=[0.1, 0.0, 0.0]:\")\n",
    "print(dynamic_matrix)"
   ]
  },
  {
   "cell_type": "markdown",
   "id": "6830071f-2148-4af2-9f8d-b7f7cbc0b54e",
   "metadata": {},
   "source": [
    "The dynamical matrix is a symmetric 6x6 matrix. It is calculated from the force constant $C$ with the following formula.\n",
    "$$\n",
    "\\tilde{D}_{\\vec{q}}[k\\alpha, k'\\beta] = \\frac{1}{\\sqrt{M_k M_{k'}}} \\tilde{C}(\\vec{q})[k\\alpha, k'\\beta] \n",
    "$$\n",
    "$$ \\tilde{C}_{\\vec{q}}[k\\alpha, k'\\beta] = \\sum_{b} {\\left( \\frac{\\partial ^{2} E}{\\partial{u_{k}^{a\\alpha}} \\partial{u_{k'}^{b\\beta}}} \\right) e^{i\\vec{q}(\\vec{R_b} - \\vec{R_a})}} = \\sum_{b} {C^{0,b}[k\\alpha, k'\\beta] e^{i\\vec{q}(\\vec{R_b} - \\vec{R_a})}}$$\n",
    "\n",
    "Then, we can diagonalize this matrix and obtain the eigenvalue and eigenvector. Same as the molecular vibration, the eigenvalue is the vibration freqency of phonon, and the eigenvector is related to the displacement of atoms in the phonon mode. Please see the [appendix](#section_5.1) for the deduction of above equations.\n",
    "\n",
    "So, let's get the phonon frequency of crystal silicon at $\\vec q = [0.1, 0.0, 0.0]$."
   ]
  },
  {
   "cell_type": "code",
   "execution_count": 5,
   "id": "ff166964-c536-400c-bc6a-b0f12d6676a3",
   "metadata": {},
   "outputs": [
    {
     "name": "stdout",
     "output_type": "stream",
     "text": [
      "Band 0\n",
      "    Frequency: 5.642 meV\n",
      "    Eigenvector:\n",
      "[[ 0.065  0.105 -0.041]\n",
      " [ 0.063  0.104 -0.041]]\n",
      "Band 1\n",
      "    Frequency: 5.656 meV\n",
      "    Eigenvector:\n",
      "[[ 0.085 -0.016  0.101]\n",
      " [ 0.084 -0.017  0.101]]\n",
      "Band 2\n",
      "    Frequency: 10.978 meV\n",
      "    Eigenvector:\n",
      "[[-0.073  0.073  0.072]\n",
      " [-0.077  0.077  0.077]]\n",
      "Band 3\n",
      "    Frequency: 59.793 meV\n",
      "    Eigenvector:\n",
      "[[-0.072  0.073  0.073]\n",
      " [ 0.077 -0.077 -0.077]]\n",
      "Band 4\n",
      "    Frequency: 59.955 meV\n",
      "    Eigenvector:\n",
      "[[-0.042 -0.067  0.025]\n",
      " [ 0.038  0.063 -0.025]]\n",
      "Band 5\n",
      "    Frequency: 59.956 meV\n",
      "    Eigenvector:\n",
      "[[-0.066  0.04  -0.106]\n",
      " [ 0.065 -0.041  0.106]]\n"
     ]
    }
   ],
   "source": [
    "frequency, eigenvector = phonon_frequency._frequency_mode_q(np.array([0.1, 0.0, 0.0]), return_mode=True)\n",
    "for i in range(6):\n",
    "    print(f\"Band {i}\")\n",
    "    print(f\"    Frequency: {frequency[i]:.3f} meV\")\n",
    "    print(f\"    Eigenvector:\")\n",
    "    print(eigenvector[i].real)"
   ]
  },
  {
   "cell_type": "markdown",
   "id": "3540cfb8-7246-407c-a890-f4dde99d05b9",
   "metadata": {},
   "source": [
    "**wave number $\\vec q$**\n",
    "\n",
    "The wave vector $\\vec q$ is introduced into the phonon calculation. The physical meaning of wave vector is the propagation direction of vibration mode. Theoretically, the $\\vec q$ is limited to the [first Brillouin zone](https://en.wikipedia.org/wiki/Brillouin_zone) (please see the [appendix](#section_5.2) for the detailed explaination).\n",
    "\n",
    "Let's use the function `get_brillouin_zone_3d` to see the first brillouin zone of crystal sillicon.\n",
    "Please compare with the figure in Wikipedia:\n",
    "\n",
    "<figure>\n",
    "    <img src=\"https://upload.wikimedia.org/wikipedia/commons/c/c1/Brillouin_Zone_%281st%2C_FCC%29.svg\" style=\"width:300px\"/>\n",
    "    <figcaption>First Brillouin zone of FCC lattice, showing symmetry labels for high symmetry lines and points.<br/> Cite from <a href=\"https://en.wikipedia.org/wiki/Brillouin_zone\">https://en.wikipedia.org/wiki/Brillouin_zone</a></figcaption>\n",
    "</figure>"
   ]
  },
  {
   "cell_type": "code",
   "execution_count": 7,
   "id": "4050f28e-f386-49b5-b737-85351e5753ec",
   "metadata": {},
   "outputs": [
    {
     "data": {
      "application/vnd.plotly.v1+json": {
       "config": {
        "plotlyServerURL": "https://plot.ly"
       },
       "data": [
        {
         "line": {
          "color": "black",
          "width": 2
         },
         "mode": "lines",
         "showlegend": false,
         "type": "scatter3d",
         "x": [
          3.015220584730955e-09,
          0.09142664397309554,
          5.1504645771163575e-09,
          -0.09142663580741035,
          3.015220584730955e-09
         ],
         "y": [
          -0.1828533108836958,
          -0.18285331118452067,
          -0.1828533155681872,
          -0.1828533152673624,
          -0.1828533108836958
         ],
         "z": [
          0.09142664965155305,
          1.8243255449256778e-09,
          -0.09142664028256907,
          7.544658470285806e-09,
          0.09142664965155305
         ]
        },
        {
         "line": {
          "color": "black",
          "width": 2
         },
         "mode": "lines",
         "showlegend": false,
         "type": "scatter3d",
         "x": [
          -0.18285331018878312,
          -0.1828533103974446,
          -0.18285330750429882,
          -0.18285330729563737,
          -0.18285331018878312
         ],
         "y": [
          -0.09142664377486937,
          4.7277755110721316e-09,
          0.09142664914383868,
          6.411937647499144e-10,
          -0.09142664377486937
         ],
         "z": [
          7.636821923857295e-09,
          -0.09142665062405544,
          -1.4332072473255408e-09,
          0.09142665682767011,
          7.636821923857295e-09
         ]
        },
        {
         "line": {
          "color": "black",
          "width": 2
         },
         "mode": "lines",
         "showlegend": false,
         "type": "scatter3d",
         "x": [
          -0.18285331018878312,
          -0.09142663580741035,
          5.1504645771163575e-09,
          4.941803125686886e-09,
          -0.09142666943956973,
          -0.1828533103974446,
          -0.18285331018878312
         ],
         "y": [
          -0.09142664377486937,
          -0.1828533152673624,
          -0.1828533155681872,
          -0.0914266670655423,
          4.426950700514547e-09,
          4.7277755110721316e-09,
          -0.09142664377486937
         ],
         "z": [
          7.636821923857295e-09,
          7.544658470285806e-09,
          -0.09142664028256907,
          -0.18285329854344634,
          -0.1828532984512829,
          -0.09142665062405544,
          7.636821923857295e-09
         ]
        },
        {
         "line": {
          "color": "black",
          "width": 2
         },
         "mode": "lines",
         "showlegend": false,
         "type": "scatter3d",
         "x": [
          -0.18285331018878312,
          -0.09142663580741035,
          3.015220584730955e-09,
          5.908366363244897e-09,
          -0.09142666847300648,
          -0.18285330729563737,
          -0.18285331018878312
         ],
         "y": [
          -0.09142664377486937,
          -0.1828533152673624,
          -0.1828533108836958,
          -0.0914266664676327,
          5.0248603373424215e-09,
          6.411937647499144e-10,
          -0.09142664377486937
         ],
         "z": [
          7.636821923857295e-09,
          7.544658470285806e-09,
          0.09142664965155305,
          0.1828532988424012,
          0.18285329893456465,
          0.09142665682767011,
          7.636821923857295e-09
         ]
        },
        {
         "line": {
          "color": "black",
          "width": 2
         },
         "mode": "lines",
         "showlegend": false,
         "type": "scatter3d",
         "x": [
          4.941803125686886e-09,
          -0.09142666943956973,
          -5.908366351725647e-09,
          0.09142666847300647,
          4.941803125686886e-09
         ],
         "y": [
          -0.0914266670655423,
          4.426950700514547e-09,
          0.09142666646763264,
          -5.0248603056246566e-09,
          -0.0914266670655423
         ],
         "z": [
          -0.18285329854344634,
          -0.1828532984512829,
          -0.1828532988424012,
          -0.18285329893456465,
          -0.18285329854344634
         ]
        },
        {
         "line": {
          "color": "black",
          "width": 2
         },
         "mode": "lines",
         "showlegend": false,
         "type": "scatter3d",
         "x": [
          4.941803125686886e-09,
          5.1504645771163575e-09,
          0.09142664397309554,
          0.18285330750429885,
          0.18285330729563737,
          0.09142666847300647,
          4.941803125686886e-09
         ],
         "y": [
          -0.0914266670655423,
          -0.1828533155681872,
          -0.18285331118452067,
          -0.09142664914383869,
          -6.411938019463025e-10,
          -5.0248603056246566e-09,
          -0.0914266670655423
         ],
         "z": [
          -0.18285329854344634,
          -0.09142664028256907,
          1.8243255449256778e-09,
          1.4332072757208745e-09,
          -0.09142665682767007,
          -0.18285329893456465,
          -0.18285329854344634
         ]
        },
        {
         "line": {
          "color": "black",
          "width": 2
         },
         "mode": "lines",
         "showlegend": false,
         "type": "scatter3d",
         "x": [
          -0.1828533103974446,
          -0.09142666943956973,
          -5.908366351725647e-09,
          -3.015220584730955e-09,
          -0.09142664397309554,
          -0.18285330750429882,
          -0.1828533103974446
         ],
         "y": [
          4.7277755110721316e-09,
          4.426950700514547e-09,
          0.09142666646763264,
          0.1828533108836958,
          0.18285331118452067,
          0.09142664914383868,
          4.7277755110721316e-09
         ],
         "z": [
          -0.09142665062405544,
          -0.1828532984512829,
          -0.1828532988424012,
          -0.09142664965155305,
          -1.8243255449256778e-09,
          -1.4332072473255408e-09,
          -0.09142665062405544
         ]
        },
        {
         "line": {
          "color": "black",
          "width": 2
         },
         "mode": "lines",
         "showlegend": false,
         "type": "scatter3d",
         "x": [
          0.09142666943956969,
          0.1828533103974446,
          0.18285331018878315,
          0.09142663580741031,
          -5.1504646103595064e-09,
          -4.941803133373668e-09,
          0.09142666943956969
         ],
         "y": [
          -4.426950667157925e-09,
          -4.727775532176182e-09,
          0.09142664377486937,
          0.18285331526736237,
          0.18285331556818715,
          0.09142666706554231,
          -4.426950667157925e-09
         ],
         "z": [
          0.1828532984512829,
          0.09142665062405544,
          -7.636821869327903e-09,
          -7.544658425784334e-09,
          0.09142664028256903,
          0.18285329854344634,
          0.1828532984512829
         ]
        },
        {
         "line": {
          "color": "black",
          "width": 2
         },
         "mode": "lines",
         "showlegend": false,
         "type": "scatter3d",
         "x": [
          0.18285330729563737,
          0.18285330750429885,
          0.1828533103974446,
          0.18285331018878315,
          0.18285330729563737
         ],
         "y": [
          -6.411938019463025e-10,
          -0.09142664914383869,
          -4.727775532176182e-09,
          0.09142664377486937,
          -6.411938019463025e-10
         ],
         "z": [
          -0.09142665682767007,
          1.4332072757208745e-09,
          0.09142665062405544,
          -7.636821869327903e-09,
          -0.09142665682767007
         ]
        },
        {
         "line": {
          "color": "black",
          "width": 2
         },
         "mode": "lines",
         "showlegend": false,
         "type": "scatter3d",
         "x": [
          -0.09142666847300648,
          5.908366363244897e-09,
          0.09142666943956969,
          -4.941803133373668e-09,
          -0.09142666847300648
         ],
         "y": [
          5.0248603373424215e-09,
          -0.0914266664676327,
          -4.426950667157925e-09,
          0.09142666706554231,
          5.0248603373424215e-09
         ],
         "z": [
          0.18285329893456465,
          0.1828532988424012,
          0.1828532984512829,
          0.18285329854344634,
          0.18285329893456465
         ]
        },
        {
         "line": {
          "color": "black",
          "width": 2
         },
         "mode": "lines",
         "showlegend": false,
         "type": "scatter3d",
         "x": [
          3.015220584730955e-09,
          5.908366363244897e-09,
          0.09142666943956969,
          0.1828533103974446,
          0.18285330750429885,
          0.09142664397309554,
          3.015220584730955e-09
         ],
         "y": [
          -0.1828533108836958,
          -0.0914266664676327,
          -4.426950667157925e-09,
          -4.727775532176182e-09,
          -0.09142664914383869,
          -0.18285331118452067,
          -0.1828533108836958
         ],
         "z": [
          0.09142664965155305,
          0.1828532988424012,
          0.1828532984512829,
          0.09142665062405544,
          1.4332072757208745e-09,
          1.8243255449256778e-09,
          0.09142664965155305
         ]
        },
        {
         "line": {
          "color": "black",
          "width": 2
         },
         "mode": "lines",
         "showlegend": false,
         "type": "scatter3d",
         "x": [
          -0.09142666847300648,
          -0.18285330729563737,
          -0.18285330750429882,
          -0.09142664397309554,
          -5.1504646103595064e-09,
          -4.941803133373668e-09,
          -0.09142666847300648
         ],
         "y": [
          5.0248603373424215e-09,
          6.411937647499144e-10,
          0.09142664914383868,
          0.18285331118452067,
          0.18285331556818715,
          0.09142666706554231,
          5.0248603373424215e-09
         ],
         "z": [
          0.18285329893456465,
          0.09142665682767011,
          -1.4332072473255408e-09,
          -1.8243255449256778e-09,
          0.09142664028256903,
          0.18285329854344634,
          0.18285329893456465
         ]
        },
        {
         "line": {
          "color": "black",
          "width": 2
         },
         "mode": "lines",
         "showlegend": false,
         "type": "scatter3d",
         "x": [
          0.09142666847300647,
          0.18285330729563737,
          0.18285331018878315,
          0.09142663580741031,
          -3.015220584730955e-09,
          -5.908366351725647e-09,
          0.09142666847300647
         ],
         "y": [
          -5.0248603056246566e-09,
          -6.411938019463025e-10,
          0.09142664377486937,
          0.18285331526736237,
          0.1828533108836958,
          0.09142666646763264,
          -5.0248603056246566e-09
         ],
         "z": [
          -0.18285329893456465,
          -0.09142665682767007,
          -7.636821869327903e-09,
          -7.544658425784334e-09,
          -0.09142664965155305,
          -0.1828532988424012,
          -0.18285329893456465
         ]
        },
        {
         "line": {
          "color": "black",
          "width": 2
         },
         "mode": "lines",
         "showlegend": false,
         "type": "scatter3d",
         "x": [
          -0.09142664397309554,
          -3.015220584730955e-09,
          0.09142663580741031,
          -5.1504646103595064e-09,
          -0.09142664397309554
         ],
         "y": [
          0.18285331118452067,
          0.1828533108836958,
          0.18285331526736237,
          0.18285331556818715,
          0.18285331118452067
         ],
         "z": [
          -1.8243255449256778e-09,
          -0.09142664965155305,
          -7.544658425784334e-09,
          0.09142664028256903,
          -1.8243255449256778e-09
         ]
        },
        {
         "line": {
          "color": "red",
          "width": 2
         },
         "mode": "lines",
         "showlegend": false,
         "type": "scatter3d",
         "x": [
          0,
          -0.1279973187122714
         ],
         "y": [
          0,
          0.12799731938886566
         ],
         "z": [
          0,
          0.12799731299629175
         ]
        },
        {
         "line": {
          "color": "red",
          "width": 2
         },
         "mode": "lines",
         "showlegend": false,
         "type": "scatter3d",
         "x": [
          0,
          0.12799732134656666
         ],
         "y": [
          0,
          -0.12799732092802993
         ],
         "z": [
          0,
          0.1279973171697514
         ]
        },
        {
         "line": {
          "color": "red",
          "width": 2
         },
         "mode": "lines",
         "showlegend": false,
         "type": "scatter3d",
         "x": [
          0,
          0.12799730797716735
         ],
         "y": [
          0,
          0.1279973101929259
         ],
         "z": [
          0,
          -0.12799731453545615
         ]
        },
        {
         "marker": {
          "color": "green",
          "size": 5
         },
         "mode": "markers",
         "showlegend": false,
         "text": [
          "G [0 0 0]",
          "K [0.375 0.375 0.75 ]",
          "L [0.5 0.5 0.5]",
          "U [0.625 0.25  0.625]",
          "W [0.5  0.25 0.75]",
          "X [0.5 0.  0.5]"
         ],
         "type": "scatter3d",
         "x": [
          0,
          0.13713997424390895,
          0.09142665043675903,
          0.04571331946743093,
          0.09142664566197356,
          -7.6679314564565e-09
         ],
         "y": [
          0,
          0.13713997438215406,
          0.09142664903840117,
          0.1828533046523032,
          0.1828533030101711,
          0.18285330684413684
         ],
         "z": [
          0,
          5.866772692653122e-10,
          0.0914266540218479,
          0.0457133261863716,
          -1.5858338947571937e-10,
          -1.099403137971855e-09
         ]
        }
       ],
       "layout": {
        "height": 500,
        "scene": {
         "aspectmode": "auto",
         "aspectratio": {
          "x": 1.0000000114702832,
          "y": 1.0000000397483748,
          "z": 0.9999999487813439
         },
         "xaxis": {
          "type": "linear",
          "visible": false
         },
         "yaxis": {
          "type": "linear",
          "visible": false
         },
         "zaxis": {
          "type": "linear",
          "visible": false
         }
        },
        "template": {
         "data": {
          "bar": [
           {
            "error_x": {
             "color": "#2a3f5f"
            },
            "error_y": {
             "color": "#2a3f5f"
            },
            "marker": {
             "line": {
              "color": "#E5ECF6",
              "width": 0.5
             },
             "pattern": {
              "fillmode": "overlay",
              "size": 10,
              "solidity": 0.2
             }
            },
            "type": "bar"
           }
          ],
          "barpolar": [
           {
            "marker": {
             "line": {
              "color": "#E5ECF6",
              "width": 0.5
             },
             "pattern": {
              "fillmode": "overlay",
              "size": 10,
              "solidity": 0.2
             }
            },
            "type": "barpolar"
           }
          ],
          "carpet": [
           {
            "aaxis": {
             "endlinecolor": "#2a3f5f",
             "gridcolor": "white",
             "linecolor": "white",
             "minorgridcolor": "white",
             "startlinecolor": "#2a3f5f"
            },
            "baxis": {
             "endlinecolor": "#2a3f5f",
             "gridcolor": "white",
             "linecolor": "white",
             "minorgridcolor": "white",
             "startlinecolor": "#2a3f5f"
            },
            "type": "carpet"
           }
          ],
          "choropleth": [
           {
            "colorbar": {
             "outlinewidth": 0,
             "ticks": ""
            },
            "type": "choropleth"
           }
          ],
          "contour": [
           {
            "colorbar": {
             "outlinewidth": 0,
             "ticks": ""
            },
            "colorscale": [
             [
              0,
              "#0d0887"
             ],
             [
              0.1111111111111111,
              "#46039f"
             ],
             [
              0.2222222222222222,
              "#7201a8"
             ],
             [
              0.3333333333333333,
              "#9c179e"
             ],
             [
              0.4444444444444444,
              "#bd3786"
             ],
             [
              0.5555555555555556,
              "#d8576b"
             ],
             [
              0.6666666666666666,
              "#ed7953"
             ],
             [
              0.7777777777777778,
              "#fb9f3a"
             ],
             [
              0.8888888888888888,
              "#fdca26"
             ],
             [
              1,
              "#f0f921"
             ]
            ],
            "type": "contour"
           }
          ],
          "contourcarpet": [
           {
            "colorbar": {
             "outlinewidth": 0,
             "ticks": ""
            },
            "type": "contourcarpet"
           }
          ],
          "heatmap": [
           {
            "colorbar": {
             "outlinewidth": 0,
             "ticks": ""
            },
            "colorscale": [
             [
              0,
              "#0d0887"
             ],
             [
              0.1111111111111111,
              "#46039f"
             ],
             [
              0.2222222222222222,
              "#7201a8"
             ],
             [
              0.3333333333333333,
              "#9c179e"
             ],
             [
              0.4444444444444444,
              "#bd3786"
             ],
             [
              0.5555555555555556,
              "#d8576b"
             ],
             [
              0.6666666666666666,
              "#ed7953"
             ],
             [
              0.7777777777777778,
              "#fb9f3a"
             ],
             [
              0.8888888888888888,
              "#fdca26"
             ],
             [
              1,
              "#f0f921"
             ]
            ],
            "type": "heatmap"
           }
          ],
          "heatmapgl": [
           {
            "colorbar": {
             "outlinewidth": 0,
             "ticks": ""
            },
            "colorscale": [
             [
              0,
              "#0d0887"
             ],
             [
              0.1111111111111111,
              "#46039f"
             ],
             [
              0.2222222222222222,
              "#7201a8"
             ],
             [
              0.3333333333333333,
              "#9c179e"
             ],
             [
              0.4444444444444444,
              "#bd3786"
             ],
             [
              0.5555555555555556,
              "#d8576b"
             ],
             [
              0.6666666666666666,
              "#ed7953"
             ],
             [
              0.7777777777777778,
              "#fb9f3a"
             ],
             [
              0.8888888888888888,
              "#fdca26"
             ],
             [
              1,
              "#f0f921"
             ]
            ],
            "type": "heatmapgl"
           }
          ],
          "histogram": [
           {
            "marker": {
             "pattern": {
              "fillmode": "overlay",
              "size": 10,
              "solidity": 0.2
             }
            },
            "type": "histogram"
           }
          ],
          "histogram2d": [
           {
            "colorbar": {
             "outlinewidth": 0,
             "ticks": ""
            },
            "colorscale": [
             [
              0,
              "#0d0887"
             ],
             [
              0.1111111111111111,
              "#46039f"
             ],
             [
              0.2222222222222222,
              "#7201a8"
             ],
             [
              0.3333333333333333,
              "#9c179e"
             ],
             [
              0.4444444444444444,
              "#bd3786"
             ],
             [
              0.5555555555555556,
              "#d8576b"
             ],
             [
              0.6666666666666666,
              "#ed7953"
             ],
             [
              0.7777777777777778,
              "#fb9f3a"
             ],
             [
              0.8888888888888888,
              "#fdca26"
             ],
             [
              1,
              "#f0f921"
             ]
            ],
            "type": "histogram2d"
           }
          ],
          "histogram2dcontour": [
           {
            "colorbar": {
             "outlinewidth": 0,
             "ticks": ""
            },
            "colorscale": [
             [
              0,
              "#0d0887"
             ],
             [
              0.1111111111111111,
              "#46039f"
             ],
             [
              0.2222222222222222,
              "#7201a8"
             ],
             [
              0.3333333333333333,
              "#9c179e"
             ],
             [
              0.4444444444444444,
              "#bd3786"
             ],
             [
              0.5555555555555556,
              "#d8576b"
             ],
             [
              0.6666666666666666,
              "#ed7953"
             ],
             [
              0.7777777777777778,
              "#fb9f3a"
             ],
             [
              0.8888888888888888,
              "#fdca26"
             ],
             [
              1,
              "#f0f921"
             ]
            ],
            "type": "histogram2dcontour"
           }
          ],
          "mesh3d": [
           {
            "colorbar": {
             "outlinewidth": 0,
             "ticks": ""
            },
            "type": "mesh3d"
           }
          ],
          "parcoords": [
           {
            "line": {
             "colorbar": {
              "outlinewidth": 0,
              "ticks": ""
             }
            },
            "type": "parcoords"
           }
          ],
          "pie": [
           {
            "automargin": true,
            "type": "pie"
           }
          ],
          "scatter": [
           {
            "fillpattern": {
             "fillmode": "overlay",
             "size": 10,
             "solidity": 0.2
            },
            "type": "scatter"
           }
          ],
          "scatter3d": [
           {
            "line": {
             "colorbar": {
              "outlinewidth": 0,
              "ticks": ""
             }
            },
            "marker": {
             "colorbar": {
              "outlinewidth": 0,
              "ticks": ""
             }
            },
            "type": "scatter3d"
           }
          ],
          "scattercarpet": [
           {
            "marker": {
             "colorbar": {
              "outlinewidth": 0,
              "ticks": ""
             }
            },
            "type": "scattercarpet"
           }
          ],
          "scattergeo": [
           {
            "marker": {
             "colorbar": {
              "outlinewidth": 0,
              "ticks": ""
             }
            },
            "type": "scattergeo"
           }
          ],
          "scattergl": [
           {
            "marker": {
             "colorbar": {
              "outlinewidth": 0,
              "ticks": ""
             }
            },
            "type": "scattergl"
           }
          ],
          "scattermapbox": [
           {
            "marker": {
             "colorbar": {
              "outlinewidth": 0,
              "ticks": ""
             }
            },
            "type": "scattermapbox"
           }
          ],
          "scatterpolar": [
           {
            "marker": {
             "colorbar": {
              "outlinewidth": 0,
              "ticks": ""
             }
            },
            "type": "scatterpolar"
           }
          ],
          "scatterpolargl": [
           {
            "marker": {
             "colorbar": {
              "outlinewidth": 0,
              "ticks": ""
             }
            },
            "type": "scatterpolargl"
           }
          ],
          "scatterternary": [
           {
            "marker": {
             "colorbar": {
              "outlinewidth": 0,
              "ticks": ""
             }
            },
            "type": "scatterternary"
           }
          ],
          "surface": [
           {
            "colorbar": {
             "outlinewidth": 0,
             "ticks": ""
            },
            "colorscale": [
             [
              0,
              "#0d0887"
             ],
             [
              0.1111111111111111,
              "#46039f"
             ],
             [
              0.2222222222222222,
              "#7201a8"
             ],
             [
              0.3333333333333333,
              "#9c179e"
             ],
             [
              0.4444444444444444,
              "#bd3786"
             ],
             [
              0.5555555555555556,
              "#d8576b"
             ],
             [
              0.6666666666666666,
              "#ed7953"
             ],
             [
              0.7777777777777778,
              "#fb9f3a"
             ],
             [
              0.8888888888888888,
              "#fdca26"
             ],
             [
              1,
              "#f0f921"
             ]
            ],
            "type": "surface"
           }
          ],
          "table": [
           {
            "cells": {
             "fill": {
              "color": "#EBF0F8"
             },
             "line": {
              "color": "white"
             }
            },
            "header": {
             "fill": {
              "color": "#C8D4E3"
             },
             "line": {
              "color": "white"
             }
            },
            "type": "table"
           }
          ]
         },
         "layout": {
          "annotationdefaults": {
           "arrowcolor": "#2a3f5f",
           "arrowhead": 0,
           "arrowwidth": 1
          },
          "autotypenumbers": "strict",
          "coloraxis": {
           "colorbar": {
            "outlinewidth": 0,
            "ticks": ""
           }
          },
          "colorscale": {
           "diverging": [
            [
             0,
             "#8e0152"
            ],
            [
             0.1,
             "#c51b7d"
            ],
            [
             0.2,
             "#de77ae"
            ],
            [
             0.3,
             "#f1b6da"
            ],
            [
             0.4,
             "#fde0ef"
            ],
            [
             0.5,
             "#f7f7f7"
            ],
            [
             0.6,
             "#e6f5d0"
            ],
            [
             0.7,
             "#b8e186"
            ],
            [
             0.8,
             "#7fbc41"
            ],
            [
             0.9,
             "#4d9221"
            ],
            [
             1,
             "#276419"
            ]
           ],
           "sequential": [
            [
             0,
             "#0d0887"
            ],
            [
             0.1111111111111111,
             "#46039f"
            ],
            [
             0.2222222222222222,
             "#7201a8"
            ],
            [
             0.3333333333333333,
             "#9c179e"
            ],
            [
             0.4444444444444444,
             "#bd3786"
            ],
            [
             0.5555555555555556,
             "#d8576b"
            ],
            [
             0.6666666666666666,
             "#ed7953"
            ],
            [
             0.7777777777777778,
             "#fb9f3a"
            ],
            [
             0.8888888888888888,
             "#fdca26"
            ],
            [
             1,
             "#f0f921"
            ]
           ],
           "sequentialminus": [
            [
             0,
             "#0d0887"
            ],
            [
             0.1111111111111111,
             "#46039f"
            ],
            [
             0.2222222222222222,
             "#7201a8"
            ],
            [
             0.3333333333333333,
             "#9c179e"
            ],
            [
             0.4444444444444444,
             "#bd3786"
            ],
            [
             0.5555555555555556,
             "#d8576b"
            ],
            [
             0.6666666666666666,
             "#ed7953"
            ],
            [
             0.7777777777777778,
             "#fb9f3a"
            ],
            [
             0.8888888888888888,
             "#fdca26"
            ],
            [
             1,
             "#f0f921"
            ]
           ]
          },
          "colorway": [
           "#636efa",
           "#EF553B",
           "#00cc96",
           "#ab63fa",
           "#FFA15A",
           "#19d3f3",
           "#FF6692",
           "#B6E880",
           "#FF97FF",
           "#FECB52"
          ],
          "font": {
           "color": "#2a3f5f"
          },
          "geo": {
           "bgcolor": "white",
           "lakecolor": "white",
           "landcolor": "#E5ECF6",
           "showlakes": true,
           "showland": true,
           "subunitcolor": "white"
          },
          "hoverlabel": {
           "align": "left"
          },
          "hovermode": "closest",
          "mapbox": {
           "style": "light"
          },
          "paper_bgcolor": "white",
          "plot_bgcolor": "#E5ECF6",
          "polar": {
           "angularaxis": {
            "gridcolor": "white",
            "linecolor": "white",
            "ticks": ""
           },
           "bgcolor": "#E5ECF6",
           "radialaxis": {
            "gridcolor": "white",
            "linecolor": "white",
            "ticks": ""
           }
          },
          "scene": {
           "xaxis": {
            "backgroundcolor": "#E5ECF6",
            "gridcolor": "white",
            "gridwidth": 2,
            "linecolor": "white",
            "showbackground": true,
            "ticks": "",
            "zerolinecolor": "white"
           },
           "yaxis": {
            "backgroundcolor": "#E5ECF6",
            "gridcolor": "white",
            "gridwidth": 2,
            "linecolor": "white",
            "showbackground": true,
            "ticks": "",
            "zerolinecolor": "white"
           },
           "zaxis": {
            "backgroundcolor": "#E5ECF6",
            "gridcolor": "white",
            "gridwidth": 2,
            "linecolor": "white",
            "showbackground": true,
            "ticks": "",
            "zerolinecolor": "white"
           }
          },
          "shapedefaults": {
           "line": {
            "color": "#2a3f5f"
           }
          },
          "ternary": {
           "aaxis": {
            "gridcolor": "white",
            "linecolor": "white",
            "ticks": ""
           },
           "baxis": {
            "gridcolor": "white",
            "linecolor": "white",
            "ticks": ""
           },
           "bgcolor": "#E5ECF6",
           "caxis": {
            "gridcolor": "white",
            "linecolor": "white",
            "ticks": ""
           }
          },
          "title": {
           "x": 0.05
          },
          "xaxis": {
           "automargin": true,
           "gridcolor": "white",
           "linecolor": "white",
           "ticks": "",
           "title": {
            "standoff": 15
           },
           "zerolinecolor": "white",
           "zerolinewidth": 2
          },
          "yaxis": {
           "automargin": true,
           "gridcolor": "white",
           "linecolor": "white",
           "ticks": "",
           "title": {
            "standoff": 15
           },
           "zerolinecolor": "white",
           "zerolinewidth": 2
          }
         }
        },
        "width": 600
       }
      },
      "image/png": "[encoded data removed]",
      "text/html": [
       "<div>                            <div id=\"dcb37641-1274-4219-b165-d6e6c10925d1\" class=\"plotly-graph-div\" style=\"height:500px; width:600px;\"></div>            <script type=\"text/javascript\">                require([\"plotly\"], function(Plotly) {                    window.PLOTLYENV=window.PLOTLYENV || {};                                    if (document.getElementById(\"dcb37641-1274-4219-b165-d6e6c10925d1\")) {                    Plotly.newPlot(                        \"dcb37641-1274-4219-b165-d6e6c10925d1\",                        [{\"line\":{\"color\":\"black\",\"width\":2},\"mode\":\"lines\",\"showlegend\":false,\"x\":[3.015220584730955e-09,0.09142664397309554,5.1504645771163575e-09,-0.09142663580741035,3.015220584730955e-09],\"y\":[-0.1828533108836958,-0.18285331118452067,-0.1828533155681872,-0.1828533152673624,-0.1828533108836958],\"z\":[0.09142664965155305,1.8243255449256778e-09,-0.09142664028256907,7.544658470285806e-09,0.09142664965155305],\"type\":\"scatter3d\"},{\"line\":{\"color\":\"black\",\"width\":2},\"mode\":\"lines\",\"showlegend\":false,\"x\":[-0.18285331018878312,-0.1828533103974446,-0.18285330750429882,-0.18285330729563737,-0.18285331018878312],\"y\":[-0.09142664377486937,4.7277755110721316e-09,0.09142664914383868,6.411937647499144e-10,-0.09142664377486937],\"z\":[7.636821923857295e-09,-0.09142665062405544,-1.4332072473255408e-09,0.09142665682767011,7.636821923857295e-09],\"type\":\"scatter3d\"},{\"line\":{\"color\":\"black\",\"width\":2},\"mode\":\"lines\",\"showlegend\":false,\"x\":[-0.18285331018878312,-0.09142663580741035,5.1504645771163575e-09,4.941803125686886e-09,-0.09142666943956973,-0.1828533103974446,-0.18285331018878312],\"y\":[-0.09142664377486937,-0.1828533152673624,-0.1828533155681872,-0.0914266670655423,4.426950700514547e-09,4.7277755110721316e-09,-0.09142664377486937],\"z\":[7.636821923857295e-09,7.544658470285806e-09,-0.09142664028256907,-0.18285329854344634,-0.1828532984512829,-0.09142665062405544,7.636821923857295e-09],\"type\":\"scatter3d\"},{\"line\":{\"color\":\"black\",\"width\":2},\"mode\":\"lines\",\"showlegend\":false,\"x\":[-0.18285331018878312,-0.09142663580741035,3.015220584730955e-09,5.908366363244897e-09,-0.09142666847300648,-0.18285330729563737,-0.18285331018878312],\"y\":[-0.09142664377486937,-0.1828533152673624,-0.1828533108836958,-0.0914266664676327,5.0248603373424215e-09,6.411937647499144e-10,-0.09142664377486937],\"z\":[7.636821923857295e-09,7.544658470285806e-09,0.09142664965155305,0.1828532988424012,0.18285329893456465,0.09142665682767011,7.636821923857295e-09],\"type\":\"scatter3d\"},{\"line\":{\"color\":\"black\",\"width\":2},\"mode\":\"lines\",\"showlegend\":false,\"x\":[4.941803125686886e-09,-0.09142666943956973,-5.908366351725647e-09,0.09142666847300647,4.941803125686886e-09],\"y\":[-0.0914266670655423,4.426950700514547e-09,0.09142666646763264,-5.0248603056246566e-09,-0.0914266670655423],\"z\":[-0.18285329854344634,-0.1828532984512829,-0.1828532988424012,-0.18285329893456465,-0.18285329854344634],\"type\":\"scatter3d\"},{\"line\":{\"color\":\"black\",\"width\":2},\"mode\":\"lines\",\"showlegend\":false,\"x\":[4.941803125686886e-09,5.1504645771163575e-09,0.09142664397309554,0.18285330750429885,0.18285330729563737,0.09142666847300647,4.941803125686886e-09],\"y\":[-0.0914266670655423,-0.1828533155681872,-0.18285331118452067,-0.09142664914383869,-6.411938019463025e-10,-5.0248603056246566e-09,-0.0914266670655423],\"z\":[-0.18285329854344634,-0.09142664028256907,1.8243255449256778e-09,1.4332072757208745e-09,-0.09142665682767007,-0.18285329893456465,-0.18285329854344634],\"type\":\"scatter3d\"},{\"line\":{\"color\":\"black\",\"width\":2},\"mode\":\"lines\",\"showlegend\":false,\"x\":[-0.1828533103974446,-0.09142666943956973,-5.908366351725647e-09,-3.015220584730955e-09,-0.09142664397309554,-0.18285330750429882,-0.1828533103974446],\"y\":[4.7277755110721316e-09,4.426950700514547e-09,0.09142666646763264,0.1828533108836958,0.18285331118452067,0.09142664914383868,4.7277755110721316e-09],\"z\":[-0.09142665062405544,-0.1828532984512829,-0.1828532988424012,-0.09142664965155305,-1.8243255449256778e-09,-1.4332072473255408e-09,-0.09142665062405544],\"type\":\"scatter3d\"},{\"line\":{\"color\":\"black\",\"width\":2},\"mode\":\"lines\",\"showlegend\":false,\"x\":[0.09142666943956969,0.1828533103974446,0.18285331018878315,0.09142663580741031,-5.1504646103595064e-09,-4.941803133373668e-09,0.09142666943956969],\"y\":[-4.426950667157925e-09,-4.727775532176182e-09,0.09142664377486937,0.18285331526736237,0.18285331556818715,0.09142666706554231,-4.426950667157925e-09],\"z\":[0.1828532984512829,0.09142665062405544,-7.636821869327903e-09,-7.544658425784334e-09,0.09142664028256903,0.18285329854344634,0.1828532984512829],\"type\":\"scatter3d\"},{\"line\":{\"color\":\"black\",\"width\":2},\"mode\":\"lines\",\"showlegend\":false,\"x\":[0.18285330729563737,0.18285330750429885,0.1828533103974446,0.18285331018878315,0.18285330729563737],\"y\":[-6.411938019463025e-10,-0.09142664914383869,-4.727775532176182e-09,0.09142664377486937,-6.411938019463025e-10],\"z\":[-0.09142665682767007,1.4332072757208745e-09,0.09142665062405544,-7.636821869327903e-09,-0.09142665682767007],\"type\":\"scatter3d\"},{\"line\":{\"color\":\"black\",\"width\":2},\"mode\":\"lines\",\"showlegend\":false,\"x\":[-0.09142666847300648,5.908366363244897e-09,0.09142666943956969,-4.941803133373668e-09,-0.09142666847300648],\"y\":[5.0248603373424215e-09,-0.0914266664676327,-4.426950667157925e-09,0.09142666706554231,5.0248603373424215e-09],\"z\":[0.18285329893456465,0.1828532988424012,0.1828532984512829,0.18285329854344634,0.18285329893456465],\"type\":\"scatter3d\"},{\"line\":{\"color\":\"black\",\"width\":2},\"mode\":\"lines\",\"showlegend\":false,\"x\":[3.015220584730955e-09,5.908366363244897e-09,0.09142666943956969,0.1828533103974446,0.18285330750429885,0.09142664397309554,3.015220584730955e-09],\"y\":[-0.1828533108836958,-0.0914266664676327,-4.426950667157925e-09,-4.727775532176182e-09,-0.09142664914383869,-0.18285331118452067,-0.1828533108836958],\"z\":[0.09142664965155305,0.1828532988424012,0.1828532984512829,0.09142665062405544,1.4332072757208745e-09,1.8243255449256778e-09,0.09142664965155305],\"type\":\"scatter3d\"},{\"line\":{\"color\":\"black\",\"width\":2},\"mode\":\"lines\",\"showlegend\":false,\"x\":[-0.09142666847300648,-0.18285330729563737,-0.18285330750429882,-0.09142664397309554,-5.1504646103595064e-09,-4.941803133373668e-09,-0.09142666847300648],\"y\":[5.0248603373424215e-09,6.411937647499144e-10,0.09142664914383868,0.18285331118452067,0.18285331556818715,0.09142666706554231,5.0248603373424215e-09],\"z\":[0.18285329893456465,0.09142665682767011,-1.4332072473255408e-09,-1.8243255449256778e-09,0.09142664028256903,0.18285329854344634,0.18285329893456465],\"type\":\"scatter3d\"},{\"line\":{\"color\":\"black\",\"width\":2},\"mode\":\"lines\",\"showlegend\":false,\"x\":[0.09142666847300647,0.18285330729563737,0.18285331018878315,0.09142663580741031,-3.015220584730955e-09,-5.908366351725647e-09,0.09142666847300647],\"y\":[-5.0248603056246566e-09,-6.411938019463025e-10,0.09142664377486937,0.18285331526736237,0.1828533108836958,0.09142666646763264,-5.0248603056246566e-09],\"z\":[-0.18285329893456465,-0.09142665682767007,-7.636821869327903e-09,-7.544658425784334e-09,-0.09142664965155305,-0.1828532988424012,-0.18285329893456465],\"type\":\"scatter3d\"},{\"line\":{\"color\":\"black\",\"width\":2},\"mode\":\"lines\",\"showlegend\":false,\"x\":[-0.09142664397309554,-3.015220584730955e-09,0.09142663580741031,-5.1504646103595064e-09,-0.09142664397309554],\"y\":[0.18285331118452067,0.1828533108836958,0.18285331526736237,0.18285331556818715,0.18285331118452067],\"z\":[-1.8243255449256778e-09,-0.09142664965155305,-7.544658425784334e-09,0.09142664028256903,-1.8243255449256778e-09],\"type\":\"scatter3d\"},{\"line\":{\"color\":\"red\",\"width\":2},\"mode\":\"lines\",\"showlegend\":false,\"x\":[0,-0.1279973187122714],\"y\":[0,0.12799731938886566],\"z\":[0,0.12799731299629175],\"type\":\"scatter3d\"},{\"line\":{\"color\":\"red\",\"width\":2},\"mode\":\"lines\",\"showlegend\":false,\"x\":[0,0.12799732134656666],\"y\":[0,-0.12799732092802993],\"z\":[0,0.1279973171697514],\"type\":\"scatter3d\"},{\"line\":{\"color\":\"red\",\"width\":2},\"mode\":\"lines\",\"showlegend\":false,\"x\":[0,0.12799730797716735],\"y\":[0,0.1279973101929259],\"z\":[0,-0.12799731453545615],\"type\":\"scatter3d\"},{\"marker\":{\"color\":\"green\",\"size\":5},\"mode\":\"markers\",\"showlegend\":false,\"text\":[\"G [0 0 0]\",\"K [0.375 0.375 0.75 ]\",\"L [0.5 0.5 0.5]\",\"U [0.625 0.25  0.625]\",\"W [0.5  0.25 0.75]\",\"X [0.5 0.  0.5]\"],\"x\":[0.0,0.13713997424390895,0.09142665043675903,0.04571331946743093,0.09142664566197356,-7.6679314564565e-09],\"y\":[0.0,0.13713997438215406,0.09142664903840117,0.1828533046523032,0.1828533030101711,0.18285330684413684],\"z\":[0.0,5.866772692653122e-10,0.0914266540218479,0.0457133261863716,-1.5858338947571937e-10,-1.099403137971855e-09],\"type\":\"scatter3d\"}],                        {\"template\":{\"data\":{\"histogram2dcontour\":[{\"type\":\"histogram2dcontour\",\"colorbar\":{\"outlinewidth\":0,\"ticks\":\"\"},\"colorscale\":[[0.0,\"#0d0887\"],[0.1111111111111111,\"#46039f\"],[0.2222222222222222,\"#7201a8\"],[0.3333333333333333,\"#9c179e\"],[0.4444444444444444,\"#bd3786\"],[0.5555555555555556,\"#d8576b\"],[0.6666666666666666,\"#ed7953\"],[0.7777777777777778,\"#fb9f3a\"],[0.8888888888888888,\"#fdca26\"],[1.0,\"#f0f921\"]]}],\"choropleth\":[{\"type\":\"choropleth\",\"colorbar\":{\"outlinewidth\":0,\"ticks\":\"\"}}],\"histogram2d\":[{\"type\":\"histogram2d\",\"colorbar\":{\"outlinewidth\":0,\"ticks\":\"\"},\"colorscale\":[[0.0,\"#0d0887\"],[0.1111111111111111,\"#46039f\"],[0.2222222222222222,\"#7201a8\"],[0.3333333333333333,\"#9c179e\"],[0.4444444444444444,\"#bd3786\"],[0.5555555555555556,\"#d8576b\"],[0.6666666666666666,\"#ed7953\"],[0.7777777777777778,\"#fb9f3a\"],[0.8888888888888888,\"#fdca26\"],[1.0,\"#f0f921\"]]}],\"heatmap\":[{\"type\":\"heatmap\",\"colorbar\":{\"outlinewidth\":0,\"ticks\":\"\"},\"colorscale\":[[0.0,\"#0d0887\"],[0.1111111111111111,\"#46039f\"],[0.2222222222222222,\"#7201a8\"],[0.3333333333333333,\"#9c179e\"],[0.4444444444444444,\"#bd3786\"],[0.5555555555555556,\"#d8576b\"],[0.6666666666666666,\"#ed7953\"],[0.7777777777777778,\"#fb9f3a\"],[0.8888888888888888,\"#fdca26\"],[1.0,\"#f0f921\"]]}],\"heatmapgl\":[{\"type\":\"heatmapgl\",\"colorbar\":{\"outlinewidth\":0,\"ticks\":\"\"},\"colorscale\":[[0.0,\"#0d0887\"],[0.1111111111111111,\"#46039f\"],[0.2222222222222222,\"#7201a8\"],[0.3333333333333333,\"#9c179e\"],[0.4444444444444444,\"#bd3786\"],[0.5555555555555556,\"#d8576b\"],[0.6666666666666666,\"#ed7953\"],[0.7777777777777778,\"#fb9f3a\"],[0.8888888888888888,\"#fdca26\"],[1.0,\"#f0f921\"]]}],\"contourcarpet\":[{\"type\":\"contourcarpet\",\"colorbar\":{\"outlinewidth\":0,\"ticks\":\"\"}}],\"contour\":[{\"type\":\"contour\",\"colorbar\":{\"outlinewidth\":0,\"ticks\":\"\"},\"colorscale\":[[0.0,\"#0d0887\"],[0.1111111111111111,\"#46039f\"],[0.2222222222222222,\"#7201a8\"],[0.3333333333333333,\"#9c179e\"],[0.4444444444444444,\"#bd3786\"],[0.5555555555555556,\"#d8576b\"],[0.6666666666666666,\"#ed7953\"],[0.7777777777777778,\"#fb9f3a\"],[0.8888888888888888,\"#fdca26\"],[1.0,\"#f0f921\"]]}],\"surface\":[{\"type\":\"surface\",\"colorbar\":{\"outlinewidth\":0,\"ticks\":\"\"},\"colorscale\":[[0.0,\"#0d0887\"],[0.1111111111111111,\"#46039f\"],[0.2222222222222222,\"#7201a8\"],[0.3333333333333333,\"#9c179e\"],[0.4444444444444444,\"#bd3786\"],[0.5555555555555556,\"#d8576b\"],[0.6666666666666666,\"#ed7953\"],[0.7777777777777778,\"#fb9f3a\"],[0.8888888888888888,\"#fdca26\"],[1.0,\"#f0f921\"]]}],\"mesh3d\":[{\"type\":\"mesh3d\",\"colorbar\":{\"outlinewidth\":0,\"ticks\":\"\"}}],\"scatter\":[{\"fillpattern\":{\"fillmode\":\"overlay\",\"size\":10,\"solidity\":0.2},\"type\":\"scatter\"}],\"parcoords\":[{\"type\":\"parcoords\",\"line\":{\"colorbar\":{\"outlinewidth\":0,\"ticks\":\"\"}}}],\"scatterpolargl\":[{\"type\":\"scatterpolargl\",\"marker\":{\"colorbar\":{\"outlinewidth\":0,\"ticks\":\"\"}}}],\"bar\":[{\"error_x\":{\"color\":\"#2a3f5f\"},\"error_y\":{\"color\":\"#2a3f5f\"},\"marker\":{\"line\":{\"color\":\"#E5ECF6\",\"width\":0.5},\"pattern\":{\"fillmode\":\"overlay\",\"size\":10,\"solidity\":0.2}},\"type\":\"bar\"}],\"scattergeo\":[{\"type\":\"scattergeo\",\"marker\":{\"colorbar\":{\"outlinewidth\":0,\"ticks\":\"\"}}}],\"scatterpolar\":[{\"type\":\"scatterpolar\",\"marker\":{\"colorbar\":{\"outlinewidth\":0,\"ticks\":\"\"}}}],\"histogram\":[{\"marker\":{\"pattern\":{\"fillmode\":\"overlay\",\"size\":10,\"solidity\":0.2}},\"type\":\"histogram\"}],\"scattergl\":[{\"type\":\"scattergl\",\"marker\":{\"colorbar\":{\"outlinewidth\":0,\"ticks\":\"\"}}}],\"scatter3d\":[{\"type\":\"scatter3d\",\"line\":{\"colorbar\":{\"outlinewidth\":0,\"ticks\":\"\"}},\"marker\":{\"colorbar\":{\"outlinewidth\":0,\"ticks\":\"\"}}}],\"scattermapbox\":[{\"type\":\"scattermapbox\",\"marker\":{\"colorbar\":{\"outlinewidth\":0,\"ticks\":\"\"}}}],\"scatterternary\":[{\"type\":\"scatterternary\",\"marker\":{\"colorbar\":{\"outlinewidth\":0,\"ticks\":\"\"}}}],\"scattercarpet\":[{\"type\":\"scattercarpet\",\"marker\":{\"colorbar\":{\"outlinewidth\":0,\"ticks\":\"\"}}}],\"carpet\":[{\"aaxis\":{\"endlinecolor\":\"#2a3f5f\",\"gridcolor\":\"white\",\"linecolor\":\"white\",\"minorgridcolor\":\"white\",\"startlinecolor\":\"#2a3f5f\"},\"baxis\":{\"endlinecolor\":\"#2a3f5f\",\"gridcolor\":\"white\",\"linecolor\":\"white\",\"minorgridcolor\":\"white\",\"startlinecolor\":\"#2a3f5f\"},\"type\":\"carpet\"}],\"table\":[{\"cells\":{\"fill\":{\"color\":\"#EBF0F8\"},\"line\":{\"color\":\"white\"}},\"header\":{\"fill\":{\"color\":\"#C8D4E3\"},\"line\":{\"color\":\"white\"}},\"type\":\"table\"}],\"barpolar\":[{\"marker\":{\"line\":{\"color\":\"#E5ECF6\",\"width\":0.5},\"pattern\":{\"fillmode\":\"overlay\",\"size\":10,\"solidity\":0.2}},\"type\":\"barpolar\"}],\"pie\":[{\"automargin\":true,\"type\":\"pie\"}]},\"layout\":{\"autotypenumbers\":\"strict\",\"colorway\":[\"#636efa\",\"#EF553B\",\"#00cc96\",\"#ab63fa\",\"#FFA15A\",\"#19d3f3\",\"#FF6692\",\"#B6E880\",\"#FF97FF\",\"#FECB52\"],\"font\":{\"color\":\"#2a3f5f\"},\"hovermode\":\"closest\",\"hoverlabel\":{\"align\":\"left\"},\"paper_bgcolor\":\"white\",\"plot_bgcolor\":\"#E5ECF6\",\"polar\":{\"bgcolor\":\"#E5ECF6\",\"angularaxis\":{\"gridcolor\":\"white\",\"linecolor\":\"white\",\"ticks\":\"\"},\"radialaxis\":{\"gridcolor\":\"white\",\"linecolor\":\"white\",\"ticks\":\"\"}},\"ternary\":{\"bgcolor\":\"#E5ECF6\",\"aaxis\":{\"gridcolor\":\"white\",\"linecolor\":\"white\",\"ticks\":\"\"},\"baxis\":{\"gridcolor\":\"white\",\"linecolor\":\"white\",\"ticks\":\"\"},\"caxis\":{\"gridcolor\":\"white\",\"linecolor\":\"white\",\"ticks\":\"\"}},\"coloraxis\":{\"colorbar\":{\"outlinewidth\":0,\"ticks\":\"\"}},\"colorscale\":{\"sequential\":[[0.0,\"#0d0887\"],[0.1111111111111111,\"#46039f\"],[0.2222222222222222,\"#7201a8\"],[0.3333333333333333,\"#9c179e\"],[0.4444444444444444,\"#bd3786\"],[0.5555555555555556,\"#d8576b\"],[0.6666666666666666,\"#ed7953\"],[0.7777777777777778,\"#fb9f3a\"],[0.8888888888888888,\"#fdca26\"],[1.0,\"#f0f921\"]],\"sequentialminus\":[[0.0,\"#0d0887\"],[0.1111111111111111,\"#46039f\"],[0.2222222222222222,\"#7201a8\"],[0.3333333333333333,\"#9c179e\"],[0.4444444444444444,\"#bd3786\"],[0.5555555555555556,\"#d8576b\"],[0.6666666666666666,\"#ed7953\"],[0.7777777777777778,\"#fb9f3a\"],[0.8888888888888888,\"#fdca26\"],[1.0,\"#f0f921\"]],\"diverging\":[[0,\"#8e0152\"],[0.1,\"#c51b7d\"],[0.2,\"#de77ae\"],[0.3,\"#f1b6da\"],[0.4,\"#fde0ef\"],[0.5,\"#f7f7f7\"],[0.6,\"#e6f5d0\"],[0.7,\"#b8e186\"],[0.8,\"#7fbc41\"],[0.9,\"#4d9221\"],[1,\"#276419\"]]},\"xaxis\":{\"gridcolor\":\"white\",\"linecolor\":\"white\",\"ticks\":\"\",\"title\":{\"standoff\":15},\"zerolinecolor\":\"white\",\"automargin\":true,\"zerolinewidth\":2},\"yaxis\":{\"gridcolor\":\"white\",\"linecolor\":\"white\",\"ticks\":\"\",\"title\":{\"standoff\":15},\"zerolinecolor\":\"white\",\"automargin\":true,\"zerolinewidth\":2},\"scene\":{\"xaxis\":{\"backgroundcolor\":\"#E5ECF6\",\"gridcolor\":\"white\",\"linecolor\":\"white\",\"showbackground\":true,\"ticks\":\"\",\"zerolinecolor\":\"white\",\"gridwidth\":2},\"yaxis\":{\"backgroundcolor\":\"#E5ECF6\",\"gridcolor\":\"white\",\"linecolor\":\"white\",\"showbackground\":true,\"ticks\":\"\",\"zerolinecolor\":\"white\",\"gridwidth\":2},\"zaxis\":{\"backgroundcolor\":\"#E5ECF6\",\"gridcolor\":\"white\",\"linecolor\":\"white\",\"showbackground\":true,\"ticks\":\"\",\"zerolinecolor\":\"white\",\"gridwidth\":2}},\"shapedefaults\":{\"line\":{\"color\":\"#2a3f5f\"}},\"annotationdefaults\":{\"arrowcolor\":\"#2a3f5f\",\"arrowhead\":0,\"arrowwidth\":1},\"geo\":{\"bgcolor\":\"white\",\"landcolor\":\"#E5ECF6\",\"subunitcolor\":\"white\",\"showland\":true,\"showlakes\":true,\"lakecolor\":\"white\"},\"title\":{\"x\":0.05},\"mapbox\":{\"style\":\"light\"}}},\"scene\":{\"xaxis\":{\"visible\":false},\"yaxis\":{\"visible\":false},\"zaxis\":{\"visible\":false}},\"width\":600,\"height\":500},                        {\"responsive\": true}                    ).then(function(){\n",
       "                            \n",
       "var gd = document.getElementById('dcb37641-1274-4219-b165-d6e6c10925d1');\n",
       "var x = new MutationObserver(function (mutations, observer) {{\n",
       "        var display = window.getComputedStyle(gd).display;\n",
       "        if (!display || display === 'none') {{\n",
       "            console.log([gd, 'removed!']);\n",
       "            Plotly.purge(gd);\n",
       "            observer.disconnect();\n",
       "        }}\n",
       "}});\n",
       "\n",
       "// Listen for the removal of the full notebook cells\n",
       "var notebookContainer = gd.closest('#notebook-container');\n",
       "if (notebookContainer) {{\n",
       "    x.observe(notebookContainer, {childList: true});\n",
       "}}\n",
       "\n",
       "// Listen for the clearing of the current output cell\n",
       "var outputEl = gd.closest('.output');\n",
       "if (outputEl) {{\n",
       "    x.observe(outputEl, {childList: true});\n",
       "}}\n",
       "\n",
       "                        })                };                });            </script>        </div>"
      ]
     },
     "metadata": {},
     "output_type": "display_data"
    }
   ],
   "source": [
    "from matlantis_features.utils.visual_utils.brillouin_zone import get_brillouin_zone_3d\n",
    "\n",
    "fig = get_brillouin_zone_3d(atoms.cell, show_reciprocal_basis=True, show_special_k_points=True)\n",
    "fig.update_layout(width=600, height=500)"
   ]
  },
  {
   "cell_type": "markdown",
   "id": "08fb9bc1-8eaf-4cac-bda5-e4db441c4702",
   "metadata": {},
   "source": [
    "The crystall sillicon has a FCC lattice, and its first brillouin zone is a [truncated octahedron](https://en.wikipedia.org/wiki/Truncated_octahedron). The green dot in the figure indicates the high-symmetry points, e.g. K=[0.375, 0.375, 0.75]. Please check it by mouse-over the green dot in the above figure to show each label. The center of first brillouin zone in named as $\\Gamma$ (or G) point.\n",
    "\n",
    "To obtain all the allowed phonon frequency, we should calculate the phonon frequency at all $\\vec q$ points that defines the first brillouin zone. However, a more common-used way is to represent the first brillouin zone by some high-symmetry path, such as the path connects $\\Gamma$ and K points. The plot of phonon frequency along the high-symmetric path is called phonon dispersion.\n",
    "\n",
    "In the next step, we use the `PostPhononBandFeature` in `matlantis-features` package to get the phonon dispersion of crystal Si."
   ]
  },
  {
   "cell_type": "markdown",
   "id": "65b37d84-052b-426f-b196-a2387bb0fa8a",
   "metadata": {},
   "source": [
    "### 2.4 Calculation of phonon dispersion\n",
    "\n",
    "The `PostPhononBandFeature` uses the calculation result of `ForceConstantFeature`. We should specify the high symmetry path by the label of high symmetric points. Here, we calculate the path G -> X -> W -> K -> G -> L -> U -> W -> L -> K and U -> X.\n"
   ]
  },
  {
   "cell_type": "code",
   "execution_count": 8,
   "id": "5894ec8d-874d-4d81-a5a7-1d1970a1bfb4",
   "metadata": {},
   "outputs": [
    {
     "data": {
      "application/vnd.plotly.v1+json": {
       "config": {
        "plotlyServerURL": "https://plot.ly"
       },
       "data": [
        {
         "marker": {
          "color": "#636EFA"
         },
         "mode": "lines",
         "showlegend": false,
         "type": "scatter",
         "x": [
          0,
          0.04419417382415922,
          0.08838834764831845,
          0.13258252147247768,
          0.1767766952966369,
          0.2209708691207961,
          0.26516504294495535,
          0.3093592167691146,
          0.35355339059327384,
          0.3977475644174331,
          0.44194173824159233,
          0.4861359120657516,
          0.5303300858899108,
          0.5745242597140701,
          0.6187184335382293,
          0.6629126073623886,
          0.7071067811865478,
          0.751300955010707,
          0.7954951288348663,
          0.8396893026590255,
          0.8838834764831848,
          0.928077650307344,
          0.9722718241315033,
          1.0164659979556625,
          1.0606601717798216,
          1.1048543456039808,
          1.14904851942814,
          1.193242693252299,
          1.2374368670764582,
          1.2811777553404435,
          1.3249186436044287,
          1.368659531868414,
          1.4124004201323994,
          1.4561413083963848,
          1.4998821966603701,
          1.5436230849243555,
          1.5873639731883409,
          1.6311048614523262,
          1.6748457497163114,
          1.7185866379802968,
          1.7623275262442821,
          1.8060684145082675,
          1.8498093027722529,
          1.893550191036238,
          1.9372910793002234,
          1.9810319675642087,
          2.024772855828194,
          2.0685137440921793,
          2.112254632356165,
          2.1559955206201504,
          2.201575805029858,
          2.2471560894395655,
          2.292736373849273,
          2.3383166582589805,
          2.383896942668688,
          2.4294772270783955,
          2.475057511488103,
          2.5206377958978106,
          2.566218080307518,
          2.6117983647172256,
          2.657378649126933,
          2.70295893353664,
          2.7485392179463473,
          2.7941195023560548,
          2.8396997867657623,
          2.8852800711754694,
          2.9308603555851764,
          2.976440639994884,
          3.0220209244045915,
          3.0657618126685766,
          3.1095027009325618,
          3.1532435891965473,
          3.1969844774605325,
          3.2407253657245176,
          3.2844662539885032,
          3.3282071422524884,
          3.3724013160766475,
          3.4165954899008066,
          3.4607896637249658,
          3.504983837549125,
          3.549178011373284,
          3.593372185197443,
          3.6375663590216023,
          3.6817605328457614,
          3.7259547066699206,
          3.7701488804940797,
          3.814343054318239,
          3.858537228142398,
          3.902278116406383,
          3.9460190046703683,
          3.9897598929343534,
          4.033500781198339,
          4.077241669462325,
          4.12098255772631,
          4.164723445990296,
          4.164723445990296,
          4.208464334254281,
          4.252205222518266,
          4.295946110782252,
          4.339686999046237,
          4.383427887310222,
          4.4271687755742075,
          4.470909663838193
         ],
         "y": [
          -0.5153997649373006,
          2.3288221996483944,
          4.665238667326247,
          6.857000492607051,
          8.862431143644654,
          10.635298604746879,
          12.139751480185575,
          13.351041817006806,
          14.27035427875199,
          14.923666583338415,
          15.353545163374745,
          15.61148158240609,
          15.750342099631256,
          15.818407217691346,
          15.848485520712716,
          15.859816963542084,
          15.862262310596504,
          16.14147483403145,
          16.92908269715422,
          18.096144695674074,
          19.473290208568336,
          20.873084024482086,
          22.09771348488912,
          22.94731276877971,
          23.253815191604115,
          22.1959263874282,
          20.334622509741443,
          18.61983053943424,
          17.926711416419028,
          18.188325898175922,
          18.3444833267916,
          18.37707616921372,
          18.275141209918498,
          18.032758557460017,
          17.650492357992395,
          17.13413769078551,
          16.49178375441236,
          15.732128425527453,
          14.865456473445958,
          13.902280880086835,
          12.848872213648715,
          11.709763558183942,
          10.48973710538973,
          9.189813424559112,
          7.809397861099602,
          6.351567242114103,
          4.8262123782878765,
          3.24424539990965,
          1.59068942311156,
          -0.5153997649373006,
          1.4866185095502802,
          3.0723882171024837,
          4.5437475666954334,
          5.90536519977743,
          7.130572066394802,
          8.213732292800492,
          9.142727117931408,
          9.911424295990251,
          10.526431205353566,
          11.003032288151802,
          11.365136019094388,
          11.635976409357962,
          11.832706350163532,
          11.977200336907659,
          12.08363404715636,
          12.161029909259437,
          12.213209455144064,
          12.244671505936685,
          12.256059936352772,
          12.735876578115283,
          13.955981707119435,
          15.449650103857214,
          16.783657471050045,
          17.680691773645318,
          18.042229136215884,
          17.926759132981054,
          18.621431733815847,
          20.3354089407641,
          22.19541384128568,
          23.253815191604115,
          22.425089315138365,
          21.193108280828632,
          19.616095384237113,
          17.789429893129185,
          15.86309696247091,
          14.072472957795542,
          12.751621464750128,
          12.256059936352772,
          12.736215592616535,
          13.956931498079346,
          15.451409391512342,
          16.78521538812968,
          17.681038685067545,
          18.042012243186047,
          17.926711416419028,
          17.926759132981054,
          17.584966065784958,
          17.196202851239615,
          16.79824663438829,
          16.429206703803366,
          16.12858594492392,
          15.932677653886145,
          15.862262310596504
         ]
        },
        {
         "marker": {
          "color": "#636EFA"
         },
         "mode": "lines",
         "showlegend": false,
         "type": "scatter",
         "x": [
          0,
          0.04419417382415922,
          0.08838834764831845,
          0.13258252147247768,
          0.1767766952966369,
          0.2209708691207961,
          0.26516504294495535,
          0.3093592167691146,
          0.35355339059327384,
          0.3977475644174331,
          0.44194173824159233,
          0.4861359120657516,
          0.5303300858899108,
          0.5745242597140701,
          0.6187184335382293,
          0.6629126073623886,
          0.7071067811865478,
          0.751300955010707,
          0.7954951288348663,
          0.8396893026590255,
          0.8838834764831848,
          0.928077650307344,
          0.9722718241315033,
          1.0164659979556625,
          1.0606601717798216,
          1.1048543456039808,
          1.14904851942814,
          1.193242693252299,
          1.2374368670764582,
          1.2811777553404435,
          1.3249186436044287,
          1.368659531868414,
          1.4124004201323994,
          1.4561413083963848,
          1.4998821966603701,
          1.5436230849243555,
          1.5873639731883409,
          1.6311048614523262,
          1.6748457497163114,
          1.7185866379802968,
          1.7623275262442821,
          1.8060684145082675,
          1.8498093027722529,
          1.893550191036238,
          1.9372910793002234,
          1.9810319675642087,
          2.024772855828194,
          2.0685137440921793,
          2.112254632356165,
          2.1559955206201504,
          2.201575805029858,
          2.2471560894395655,
          2.292736373849273,
          2.3383166582589805,
          2.383896942668688,
          2.4294772270783955,
          2.475057511488103,
          2.5206377958978106,
          2.566218080307518,
          2.6117983647172256,
          2.657378649126933,
          2.70295893353664,
          2.7485392179463473,
          2.7941195023560548,
          2.8396997867657623,
          2.8852800711754694,
          2.9308603555851764,
          2.976440639994884,
          3.0220209244045915,
          3.0657618126685766,
          3.1095027009325618,
          3.1532435891965473,
          3.1969844774605325,
          3.2407253657245176,
          3.2844662539885032,
          3.3282071422524884,
          3.3724013160766475,
          3.4165954899008066,
          3.4607896637249658,
          3.504983837549125,
          3.549178011373284,
          3.593372185197443,
          3.6375663590216023,
          3.6817605328457614,
          3.7259547066699206,
          3.7701488804940797,
          3.814343054318239,
          3.858537228142398,
          3.902278116406383,
          3.9460190046703683,
          3.9897598929343534,
          4.033500781198339,
          4.077241669462325,
          4.12098255772631,
          4.164723445990296,
          4.164723445990296,
          4.208464334254281,
          4.252205222518266,
          4.295946110782252,
          4.339686999046237,
          4.383427887310222,
          4.4271687755742075,
          4.470909663838193
         ],
         "y": [
          -0.0684328740440945,
          2.3921865290201842,
          4.683735651069488,
          6.863101848404377,
          8.8686276937199,
          10.64244900218256,
          12.142505398596468,
          13.354197261540575,
          14.27648825801904,
          14.929481821459147,
          15.357681397078839,
          15.615293399871033,
          15.755544786852468,
          15.823674571802352,
          15.853871744906911,
          15.865392832520861,
          15.868321532227617,
          16.147586233037256,
          16.93516704933943,
          18.102010466877925,
          19.478424141101115,
          20.877797846326335,
          22.103045000197227,
          22.953401788652595,
          23.259735955287496,
          23.538128507785256,
          23.580216375673288,
          23.523585933939984,
          23.48895390702719,
          24.080649126946728,
          24.24802919952142,
          24.066661555555893,
          23.645837771367223,
          23.07270952321504,
          22.38959205023194,
          21.60644914016276,
          20.715772452337514,
          19.703634658560894,
          18.56320246599309,
          17.29557180424477,
          15.906006385855834,
          14.406945665470028,
          12.812309178057436,
          11.132048736635124,
          9.379652912635901,
          7.571087159392984,
          5.716704114302375,
          3.8264758669771606,
          1.9177181396039493,
          -0.0684328740440945,
          1.6045709598639661,
          3.093103706000747,
          4.5529334799985355,
          5.907356118888551,
          7.136115212688687,
          8.219141862069513,
          9.14595355611461,
          9.915341951260592,
          10.529887095414889,
          11.00524846071898,
          11.368312806522438,
          11.639442045322442,
          11.836349936999355,
          11.979034946069275,
          12.086915308940913,
          12.163838431610882,
          12.21569985500596,
          12.247058713630773,
          12.257262505024036,
          13.308728178784493,
          15.906178283597036,
          19.037574643383326,
          21.82318713247583,
          23.55695646938766,
          23.992153443197456,
          23.488834802918287,
          23.523987089703176,
          23.5806190002401,
          23.53837150929404,
          23.259735955287496,
          23.667118856494305,
          23.62343676724749,
          22.95495940628981,
          21.376078759066324,
          18.866013670680676,
          15.894809734019582,
          13.32273891308079,
          12.257262505024036,
          13.306976590534703,
          15.903624226331118,
          19.0361989553304,
          21.82217633310295,
          23.55587207907176,
          23.991649924690385,
          23.48895390702719,
          23.488834802918287,
          22.48232125985199,
          21.161240911197424,
          19.682597947962893,
          18.231139807079746,
          16.998565836770737,
          16.1632291477407,
          15.868321532227617
         ]
        },
        {
         "marker": {
          "color": "#636EFA"
         },
         "mode": "lines",
         "showlegend": false,
         "type": "scatter",
         "x": [
          0,
          0.04419417382415922,
          0.08838834764831845,
          0.13258252147247768,
          0.1767766952966369,
          0.2209708691207961,
          0.26516504294495535,
          0.3093592167691146,
          0.35355339059327384,
          0.3977475644174331,
          0.44194173824159233,
          0.4861359120657516,
          0.5303300858899108,
          0.5745242597140701,
          0.6187184335382293,
          0.6629126073623886,
          0.7071067811865478,
          0.751300955010707,
          0.7954951288348663,
          0.8396893026590255,
          0.8838834764831848,
          0.928077650307344,
          0.9722718241315033,
          1.0164659979556625,
          1.0606601717798216,
          1.1048543456039808,
          1.14904851942814,
          1.193242693252299,
          1.2374368670764582,
          1.2811777553404435,
          1.3249186436044287,
          1.368659531868414,
          1.4124004201323994,
          1.4561413083963848,
          1.4998821966603701,
          1.5436230849243555,
          1.5873639731883409,
          1.6311048614523262,
          1.6748457497163114,
          1.7185866379802968,
          1.7623275262442821,
          1.8060684145082675,
          1.8498093027722529,
          1.893550191036238,
          1.9372910793002234,
          1.9810319675642087,
          2.024772855828194,
          2.0685137440921793,
          2.112254632356165,
          2.1559955206201504,
          2.201575805029858,
          2.2471560894395655,
          2.292736373849273,
          2.3383166582589805,
          2.383896942668688,
          2.4294772270783955,
          2.475057511488103,
          2.5206377958978106,
          2.566218080307518,
          2.6117983647172256,
          2.657378649126933,
          2.70295893353664,
          2.7485392179463473,
          2.7941195023560548,
          2.8396997867657623,
          2.8852800711754694,
          2.9308603555851764,
          2.976440639994884,
          3.0220209244045915,
          3.0657618126685766,
          3.1095027009325618,
          3.1532435891965473,
          3.1969844774605325,
          3.2407253657245176,
          3.2844662539885032,
          3.3282071422524884,
          3.3724013160766475,
          3.4165954899008066,
          3.4607896637249658,
          3.504983837549125,
          3.549178011373284,
          3.593372185197443,
          3.6375663590216023,
          3.6817605328457614,
          3.7259547066699206,
          3.7701488804940797,
          3.814343054318239,
          3.858537228142398,
          3.902278116406383,
          3.9460190046703683,
          3.9897598929343534,
          4.033500781198339,
          4.077241669462325,
          4.12098255772631,
          4.164723445990296,
          4.164723445990296,
          4.208464334254281,
          4.252205222518266,
          4.295946110782252,
          4.339686999046237,
          4.383427887310222,
          4.4271687755742075,
          4.470909663838193
         ],
         "y": [
          0.40699471798237474,
          3.670322619767437,
          7.341188527979758,
          11.01216670002259,
          14.67164583115506,
          18.303971748331374,
          21.88508658997014,
          25.382477775489257,
          28.761543340900868,
          31.990948019207316,
          35.04582036134154,
          37.9114782325704,
          40.585431455278524,
          43.07527485936905,
          45.3936646264715,
          47.55221617428654,
          49.55568530172645,
          49.28958495927889,
          48.55657478843001,
          47.49655995257873,
          46.26097111077743,
          45.00539014803619,
          43.89974331358554,
          43.127050461152784,
          42.84759290081222,
          42.64317809066342,
          43.19340165137111,
          43.80365604406302,
          44.04779290797614,
          42.86812321929031,
          41.660778851204164,
          40.43144689375538,
          39.17608194708286,
          37.880602097260564,
          36.52166561743469,
          35.070003209078585,
          33.49497339518518,
          31.770428321082857,
          29.879373891763827,
          27.814054725983958,
          25.57650426951795,
          23.178234332008735,
          20.634091283398003,
          17.957479265010004,
          15.16249670083926,
          12.265716107257166,
          9.28280359531031,
          6.230541022246186,
          3.1376533298538054,
          0.40699471798237474,
          2.876401929099971,
          5.76164246252644,
          8.654114704797689,
          11.563675917384517,
          14.491912541505158,
          17.43106847077432,
          20.368831576885803,
          23.289873431076334,
          26.170614017942167,
          28.979903927131183,
          31.685261582964017,
          34.25742332212079,
          36.67016439399025,
          38.90210547408787,
          40.941647833419566,
          42.7816822432423,
          44.402467246919365,
          45.71145280934568,
          46.31179471100522,
          45.790702415598346,
          44.39005462616439,
          42.59420166812965,
          41.15768607759182,
          40.88009881212606,
          42.062289535662885,
          44.047286815325556,
          43.802778741113734,
          43.192973137990144,
          42.64331301375664,
          42.84759290081222,
          41.782811281604715,
          40.90825474785092,
          40.54269227698466,
          41.09298883456717,
          42.554068087283845,
          44.35776411732232,
          45.78023317282075,
          46.31179471100522,
          45.79083041882971,
          44.39017284162561,
          42.59419857895237,
          41.15797620397305,
          40.880642465387915,
          42.06280925085511,
          44.04779290797614,
          44.047286815325556,
          45.187102293266996,
          46.20920153938942,
          47.174452507124236,
          48.11037135173695,
          48.87965034656873,
          49.38022139940834,
          49.55568530172645
         ]
        },
        {
         "marker": {
          "color": "#636EFA"
         },
         "mode": "lines",
         "showlegend": false,
         "type": "scatter",
         "x": [
          0,
          0.04419417382415922,
          0.08838834764831845,
          0.13258252147247768,
          0.1767766952966369,
          0.2209708691207961,
          0.26516504294495535,
          0.3093592167691146,
          0.35355339059327384,
          0.3977475644174331,
          0.44194173824159233,
          0.4861359120657516,
          0.5303300858899108,
          0.5745242597140701,
          0.6187184335382293,
          0.6629126073623886,
          0.7071067811865478,
          0.751300955010707,
          0.7954951288348663,
          0.8396893026590255,
          0.8838834764831848,
          0.928077650307344,
          0.9722718241315033,
          1.0164659979556625,
          1.0606601717798216,
          1.1048543456039808,
          1.14904851942814,
          1.193242693252299,
          1.2374368670764582,
          1.2811777553404435,
          1.3249186436044287,
          1.368659531868414,
          1.4124004201323994,
          1.4561413083963848,
          1.4998821966603701,
          1.5436230849243555,
          1.5873639731883409,
          1.6311048614523262,
          1.6748457497163114,
          1.7185866379802968,
          1.7623275262442821,
          1.8060684145082675,
          1.8498093027722529,
          1.893550191036238,
          1.9372910793002234,
          1.9810319675642087,
          2.024772855828194,
          2.0685137440921793,
          2.112254632356165,
          2.1559955206201504,
          2.201575805029858,
          2.2471560894395655,
          2.292736373849273,
          2.3383166582589805,
          2.383896942668688,
          2.4294772270783955,
          2.475057511488103,
          2.5206377958978106,
          2.566218080307518,
          2.6117983647172256,
          2.657378649126933,
          2.70295893353664,
          2.7485392179463473,
          2.7941195023560548,
          2.8396997867657623,
          2.8852800711754694,
          2.9308603555851764,
          2.976440639994884,
          3.0220209244045915,
          3.0657618126685766,
          3.1095027009325618,
          3.1532435891965473,
          3.1969844774605325,
          3.2407253657245176,
          3.2844662539885032,
          3.3282071422524884,
          3.3724013160766475,
          3.4165954899008066,
          3.4607896637249658,
          3.504983837549125,
          3.549178011373284,
          3.593372185197443,
          3.6375663590216023,
          3.6817605328457614,
          3.7259547066699206,
          3.7701488804940797,
          3.814343054318239,
          3.858537228142398,
          3.902278116406383,
          3.9460190046703683,
          3.9897598929343534,
          4.033500781198339,
          4.077241669462325,
          4.12098255772631,
          4.164723445990296,
          4.164723445990296,
          4.208464334254281,
          4.252205222518266,
          4.295946110782252,
          4.339686999046237,
          4.383427887310222,
          4.4271687755742075,
          4.470909663838193
         ],
         "y": [
          60.40943329870688,
          60.29854456539762,
          59.97308344708572,
          59.46824680137212,
          58.84467143993701,
          58.17459384042373,
          57.525849520692994,
          56.952833070242455,
          56.48766547039203,
          56.13928954578733,
          55.895860764863215,
          55.73274840555998,
          55.62361190481018,
          54.597036684457095,
          53.08806068070674,
          51.404410665247475,
          49.55730436037251,
          49.29167746818585,
          48.558093642101205,
          47.49724975543415,
          46.2619961577039,
          45.007004692851666,
          43.901511750697,
          43.12863606623628,
          42.84841968965569,
          43.60874792510774,
          44.25627935902492,
          44.697699187234896,
          44.855278621391236,
          44.76482817594775,
          45.14418838668667,
          45.93446755264559,
          47.02371215327253,
          48.29544794849903,
          49.654615128125215,
          51.03013873615732,
          52.369272391038024,
          53.633472409431725,
          54.7965146520708,
          55.84278469814274,
          56.765097400202606,
          57.56412343178625,
          58.24764514185279,
          58.82683523188612,
          59.18491492783413,
          59.5004511433959,
          59.83681638987305,
          60.13767885580673,
          60.345164058588296,
          60.40943329870688,
          60.367953200286244,
          60.22885531600222,
          60.011212478735665,
          59.736313105652634,
          59.42450936484904,
          59.09123092203669,
          58.7406591100755,
          58.363059692643745,
          57.940084275087685,
          57.447791887045504,
          56.86144621434574,
          56.16357605084101,
          55.346679534347054,
          54.415149735029196,
          53.385187794252396,
          52.28364157874935,
          51.15811666444595,
          50.131286002750386,
          49.622356657059264,
          49.521902682512,
          49.19957203660895,
          48.61827321483322,
          47.77993632391672,
          46.75941709447703,
          45.679034105068304,
          44.85501966571936,
          44.69741412685199,
          44.25563846409843,
          43.60832947070768,
          42.84841968965569,
          44.011354030968825,
          45.255096611074684,
          46.51412545005,
          47.663244889061936,
          48.575003437327545,
          49.18758077175857,
          49.51978493826291,
          49.622356657059264,
          49.522032393316856,
          49.19947141568201,
          48.617563615886105,
          47.77917397833125,
          46.759134353159745,
          45.67926748884313,
          44.855278621391236,
          44.85501966571936,
          45.3796788376365,
          46.27003570299348,
          47.27367495073301,
          48.16429591098266,
          48.890713279814264,
          49.38268281378072,
          49.55730436037251
         ]
        },
        {
         "marker": {
          "color": "#636EFA"
         },
         "mode": "lines",
         "showlegend": false,
         "type": "scatter",
         "x": [
          0,
          0.04419417382415922,
          0.08838834764831845,
          0.13258252147247768,
          0.1767766952966369,
          0.2209708691207961,
          0.26516504294495535,
          0.3093592167691146,
          0.35355339059327384,
          0.3977475644174331,
          0.44194173824159233,
          0.4861359120657516,
          0.5303300858899108,
          0.5745242597140701,
          0.6187184335382293,
          0.6629126073623886,
          0.7071067811865478,
          0.751300955010707,
          0.7954951288348663,
          0.8396893026590255,
          0.8838834764831848,
          0.928077650307344,
          0.9722718241315033,
          1.0164659979556625,
          1.0606601717798216,
          1.1048543456039808,
          1.14904851942814,
          1.193242693252299,
          1.2374368670764582,
          1.2811777553404435,
          1.3249186436044287,
          1.368659531868414,
          1.4124004201323994,
          1.4561413083963848,
          1.4998821966603701,
          1.5436230849243555,
          1.5873639731883409,
          1.6311048614523262,
          1.6748457497163114,
          1.7185866379802968,
          1.7623275262442821,
          1.8060684145082675,
          1.8498093027722529,
          1.893550191036238,
          1.9372910793002234,
          1.9810319675642087,
          2.024772855828194,
          2.0685137440921793,
          2.112254632356165,
          2.1559955206201504,
          2.201575805029858,
          2.2471560894395655,
          2.292736373849273,
          2.3383166582589805,
          2.383896942668688,
          2.4294772270783955,
          2.475057511488103,
          2.5206377958978106,
          2.566218080307518,
          2.6117983647172256,
          2.657378649126933,
          2.70295893353664,
          2.7485392179463473,
          2.7941195023560548,
          2.8396997867657623,
          2.8852800711754694,
          2.9308603555851764,
          2.976440639994884,
          3.0220209244045915,
          3.0657618126685766,
          3.1095027009325618,
          3.1532435891965473,
          3.1969844774605325,
          3.2407253657245176,
          3.2844662539885032,
          3.3282071422524884,
          3.3724013160766475,
          3.4165954899008066,
          3.4607896637249658,
          3.504983837549125,
          3.549178011373284,
          3.593372185197443,
          3.6375663590216023,
          3.6817605328457614,
          3.7259547066699206,
          3.7701488804940797,
          3.814343054318239,
          3.858537228142398,
          3.902278116406383,
          3.9460190046703683,
          3.9897598929343534,
          4.033500781198339,
          4.077241669462325,
          4.12098255772631,
          4.164723445990296,
          4.164723445990296,
          4.208464334254281,
          4.252205222518266,
          4.295946110782252,
          4.339686999046237,
          4.383427887310222,
          4.4271687755742075,
          4.470909663838193
         ],
         "y": [
          60.42041745015768,
          60.306364795607564,
          59.975487634933806,
          59.469166346788164,
          58.845985216746534,
          58.17610794319176,
          57.527930643746366,
          56.954716060935446,
          56.489828689551715,
          56.141435786214956,
          55.89710455584302,
          55.73380168870284,
          55.62591085180722,
          55.54893545198542,
          55.49851532514376,
          55.468427646183265,
          55.458330276168965,
          55.53366404767433,
          55.71504469364746,
          55.92080973030833,
          56.095283331028575,
          56.21834107062156,
          56.29369693240623,
          56.33186893226095,
          56.3426798729341,
          56.10540043244759,
          55.845186598573534,
          55.64105024592952,
          55.56293535037013,
          55.646226011485794,
          55.762474770499196,
          55.913988892430744,
          56.100685771228456,
          56.32162655770568,
          56.574895151156554,
          56.85678671950052,
          57.161979481440035,
          57.485256236835525,
          57.82150644556126,
          58.16443587487597,
          58.50728256282904,
          58.66194116993523,
          58.75909881896357,
          58.93152060974329,
          59.311725729454565,
          59.70809437158634,
          60.01750585699541,
          60.23988886642707,
          60.37414988170138,
          60.42041745015768,
          60.37994643652678,
          60.277735112335414,
          60.11539434393936,
          59.91108030351238,
          59.68545958761312,
          59.45814202811135,
          59.247772211442175,
          59.07034083941784,
          58.93415898856692,
          58.84142512184841,
          58.78905238615201,
          58.77121001978791,
          58.778589563300024,
          58.80148308550368,
          58.83051035944397,
          58.860164137442275,
          58.8844856995426,
          58.90015507093891,
          58.905356219135356,
          58.7212355814315,
          58.21333927389739,
          57.503847562630554,
          56.758478342839574,
          56.1351935196492,
          55.732130790634024,
          55.561927122035115,
          55.63936231916724,
          55.84389572101267,
          56.10494936274705,
          56.3426798729341,
          56.13104939493442,
          56.14331646427644,
          56.42793248490926,
          56.943650418641695,
          57.58886044317547,
          58.23209926101878,
          58.720800737833756,
          58.905356219135356,
          58.72273908161302,
          58.214218899469124,
          57.50433569442513,
          56.75887079211526,
          56.13600927029937,
          55.73340774556899,
          55.56293535037013,
          55.561927122035115,
          55.507119111136824,
          55.47444928649983,
          55.45855248544512,
          55.45380013978173,
          55.45475319371873,
          55.457226225461376,
          55.458330276168965
         ]
        },
        {
         "marker": {
          "color": "#636EFA"
         },
         "mode": "lines",
         "showlegend": false,
         "type": "scatter",
         "x": [
          0,
          0.04419417382415922,
          0.08838834764831845,
          0.13258252147247768,
          0.1767766952966369,
          0.2209708691207961,
          0.26516504294495535,
          0.3093592167691146,
          0.35355339059327384,
          0.3977475644174331,
          0.44194173824159233,
          0.4861359120657516,
          0.5303300858899108,
          0.5745242597140701,
          0.6187184335382293,
          0.6629126073623886,
          0.7071067811865478,
          0.751300955010707,
          0.7954951288348663,
          0.8396893026590255,
          0.8838834764831848,
          0.928077650307344,
          0.9722718241315033,
          1.0164659979556625,
          1.0606601717798216,
          1.1048543456039808,
          1.14904851942814,
          1.193242693252299,
          1.2374368670764582,
          1.2811777553404435,
          1.3249186436044287,
          1.368659531868414,
          1.4124004201323994,
          1.4561413083963848,
          1.4998821966603701,
          1.5436230849243555,
          1.5873639731883409,
          1.6311048614523262,
          1.6748457497163114,
          1.7185866379802968,
          1.7623275262442821,
          1.8060684145082675,
          1.8498093027722529,
          1.893550191036238,
          1.9372910793002234,
          1.9810319675642087,
          2.024772855828194,
          2.0685137440921793,
          2.112254632356165,
          2.1559955206201504,
          2.201575805029858,
          2.2471560894395655,
          2.292736373849273,
          2.3383166582589805,
          2.383896942668688,
          2.4294772270783955,
          2.475057511488103,
          2.5206377958978106,
          2.566218080307518,
          2.6117983647172256,
          2.657378649126933,
          2.70295893353664,
          2.7485392179463473,
          2.7941195023560548,
          2.8396997867657623,
          2.8852800711754694,
          2.9308603555851764,
          2.976440639994884,
          3.0220209244045915,
          3.0657618126685766,
          3.1095027009325618,
          3.1532435891965473,
          3.1969844774605325,
          3.2407253657245176,
          3.2844662539885032,
          3.3282071422524884,
          3.3724013160766475,
          3.4165954899008066,
          3.4607896637249658,
          3.504983837549125,
          3.549178011373284,
          3.593372185197443,
          3.6375663590216023,
          3.6817605328457614,
          3.7259547066699206,
          3.7701488804940797,
          3.814343054318239,
          3.858537228142398,
          3.902278116406383,
          3.9460190046703683,
          3.9897598929343534,
          4.033500781198339,
          4.077241669462325,
          4.12098255772631,
          4.164723445990296,
          4.164723445990296,
          4.208464334254281,
          4.252205222518266,
          4.295946110782252,
          4.339686999046237,
          4.383427887310222,
          4.4271687755742075,
          4.470909663838193
         ],
         "y": [
          60.422134423185575,
          60.42152463886847,
          60.42189959552053,
          60.40926981714171,
          60.363881995865434,
          60.26108368487402,
          60.074711745127786,
          59.778611113359155,
          59.3476390632992,
          58.760208759685,
          58.00008927061054,
          57.055999974788016,
          55.92166757959266,
          55.552218115513405,
          55.501078028827905,
          55.469950257662056,
          55.459402485041885,
          55.53493489955386,
          55.71686762181597,
          55.92272228474432,
          56.096943991282856,
          56.22063723806399,
          56.29555189222878,
          56.33323457734612,
          56.34477709384741,
          56.622964508585554,
          57.007323932933666,
          57.36021590172449,
          57.50581845212735,
          57.71351196625972,
          57.87636993845736,
          58.005746320469655,
          58.11372550834914,
          58.210762647115196,
          58.30313164430895,
          58.39065082863204,
          58.468177402176146,
          58.52922073978528,
          58.56991425781047,
          58.59412092371489,
          58.61662206649795,
          58.84333378794825,
          59.16567892060535,
          59.467047337694595,
          59.73896979125621,
          59.97342605757303,
          60.16375343905137,
          60.302862517693754,
          60.386421541654904,
          60.422134423185575,
          60.38543704309454,
          60.27948554488437,
          60.11657687070965,
          59.91268404308459,
          59.68704246745791,
          59.45939088886195,
          59.24902325806786,
          59.07130601972219,
          58.93521792421194,
          58.84201839815713,
          58.78979389142597,
          58.77183653565704,
          58.77942994764167,
          58.80195272159318,
          58.83130300612251,
          58.8609679330329,
          58.885939093334635,
          58.90188314627756,
          58.90761032973175,
          58.79365412808475,
          58.517076848713955,
          58.21396514668352,
          57.98316714445326,
          57.83181401617362,
          57.69717187996744,
          57.506404688682224,
          57.36066877492036,
          57.00727431734179,
          56.62257294434611,
          56.34477709384741,
          56.67049773515141,
          57.01433933658671,
          57.34480123464093,
          57.68957671655919,
          58.07730500348656,
          58.4762924823896,
          58.788070974084704,
          58.90761032973175,
          58.79196038441648,
          58.51598760226552,
          58.21360475266771,
          57.983283119696814,
          57.8320355955071,
          57.69704851323287,
          57.50581845212735,
          57.506404688682224,
          57.2460449244737,
          56.93164279926182,
          56.57191511666464,
          56.190247567832486,
          55.83046866579447,
          55.56120779357164,
          55.459402485041885
         ]
        }
       ],
       "layout": {
        "height": 500,
        "shapes": [
         {
          "line": {
           "color": "gray",
           "dash": "dash",
           "width": 1
          },
          "type": "line",
          "x0": 4.164723445990296,
          "x1": 4.164723445990296,
          "xref": "x",
          "y0": 0,
          "y1": 1,
          "yref": "y domain"
         }
        ],
        "template": {
         "data": {
          "bar": [
           {
            "error_x": {
             "color": "#2a3f5f"
            },
            "error_y": {
             "color": "#2a3f5f"
            },
            "marker": {
             "line": {
              "color": "#E5ECF6",
              "width": 0.5
             },
             "pattern": {
              "fillmode": "overlay",
              "size": 10,
              "solidity": 0.2
             }
            },
            "type": "bar"
           }
          ],
          "barpolar": [
           {
            "marker": {
             "line": {
              "color": "#E5ECF6",
              "width": 0.5
             },
             "pattern": {
              "fillmode": "overlay",
              "size": 10,
              "solidity": 0.2
             }
            },
            "type": "barpolar"
           }
          ],
          "carpet": [
           {
            "aaxis": {
             "endlinecolor": "#2a3f5f",
             "gridcolor": "white",
             "linecolor": "white",
             "minorgridcolor": "white",
             "startlinecolor": "#2a3f5f"
            },
            "baxis": {
             "endlinecolor": "#2a3f5f",
             "gridcolor": "white",
             "linecolor": "white",
             "minorgridcolor": "white",
             "startlinecolor": "#2a3f5f"
            },
            "type": "carpet"
           }
          ],
          "choropleth": [
           {
            "colorbar": {
             "outlinewidth": 0,
             "ticks": ""
            },
            "type": "choropleth"
           }
          ],
          "contour": [
           {
            "colorbar": {
             "outlinewidth": 0,
             "ticks": ""
            },
            "colorscale": [
             [
              0,
              "#0d0887"
             ],
             [
              0.1111111111111111,
              "#46039f"
             ],
             [
              0.2222222222222222,
              "#7201a8"
             ],
             [
              0.3333333333333333,
              "#9c179e"
             ],
             [
              0.4444444444444444,
              "#bd3786"
             ],
             [
              0.5555555555555556,
              "#d8576b"
             ],
             [
              0.6666666666666666,
              "#ed7953"
             ],
             [
              0.7777777777777778,
              "#fb9f3a"
             ],
             [
              0.8888888888888888,
              "#fdca26"
             ],
             [
              1,
              "#f0f921"
             ]
            ],
            "type": "contour"
           }
          ],
          "contourcarpet": [
           {
            "colorbar": {
             "outlinewidth": 0,
             "ticks": ""
            },
            "type": "contourcarpet"
           }
          ],
          "heatmap": [
           {
            "colorbar": {
             "outlinewidth": 0,
             "ticks": ""
            },
            "colorscale": [
             [
              0,
              "#0d0887"
             ],
             [
              0.1111111111111111,
              "#46039f"
             ],
             [
              0.2222222222222222,
              "#7201a8"
             ],
             [
              0.3333333333333333,
              "#9c179e"
             ],
             [
              0.4444444444444444,
              "#bd3786"
             ],
             [
              0.5555555555555556,
              "#d8576b"
             ],
             [
              0.6666666666666666,
              "#ed7953"
             ],
             [
              0.7777777777777778,
              "#fb9f3a"
             ],
             [
              0.8888888888888888,
              "#fdca26"
             ],
             [
              1,
              "#f0f921"
             ]
            ],
            "type": "heatmap"
           }
          ],
          "heatmapgl": [
           {
            "colorbar": {
             "outlinewidth": 0,
             "ticks": ""
            },
            "colorscale": [
             [
              0,
              "#0d0887"
             ],
             [
              0.1111111111111111,
              "#46039f"
             ],
             [
              0.2222222222222222,
              "#7201a8"
             ],
             [
              0.3333333333333333,
              "#9c179e"
             ],
             [
              0.4444444444444444,
              "#bd3786"
             ],
             [
              0.5555555555555556,
              "#d8576b"
             ],
             [
              0.6666666666666666,
              "#ed7953"
             ],
             [
              0.7777777777777778,
              "#fb9f3a"
             ],
             [
              0.8888888888888888,
              "#fdca26"
             ],
             [
              1,
              "#f0f921"
             ]
            ],
            "type": "heatmapgl"
           }
          ],
          "histogram": [
           {
            "marker": {
             "pattern": {
              "fillmode": "overlay",
              "size": 10,
              "solidity": 0.2
             }
            },
            "type": "histogram"
           }
          ],
          "histogram2d": [
           {
            "colorbar": {
             "outlinewidth": 0,
             "ticks": ""
            },
            "colorscale": [
             [
              0,
              "#0d0887"
             ],
             [
              0.1111111111111111,
              "#46039f"
             ],
             [
              0.2222222222222222,
              "#7201a8"
             ],
             [
              0.3333333333333333,
              "#9c179e"
             ],
             [
              0.4444444444444444,
              "#bd3786"
             ],
             [
              0.5555555555555556,
              "#d8576b"
             ],
             [
              0.6666666666666666,
              "#ed7953"
             ],
             [
              0.7777777777777778,
              "#fb9f3a"
             ],
             [
              0.8888888888888888,
              "#fdca26"
             ],
             [
              1,
              "#f0f921"
             ]
            ],
            "type": "histogram2d"
           }
          ],
          "histogram2dcontour": [
           {
            "colorbar": {
             "outlinewidth": 0,
             "ticks": ""
            },
            "colorscale": [
             [
              0,
              "#0d0887"
             ],
             [
              0.1111111111111111,
              "#46039f"
             ],
             [
              0.2222222222222222,
              "#7201a8"
             ],
             [
              0.3333333333333333,
              "#9c179e"
             ],
             [
              0.4444444444444444,
              "#bd3786"
             ],
             [
              0.5555555555555556,
              "#d8576b"
             ],
             [
              0.6666666666666666,
              "#ed7953"
             ],
             [
              0.7777777777777778,
              "#fb9f3a"
             ],
             [
              0.8888888888888888,
              "#fdca26"
             ],
             [
              1,
              "#f0f921"
             ]
            ],
            "type": "histogram2dcontour"
           }
          ],
          "mesh3d": [
           {
            "colorbar": {
             "outlinewidth": 0,
             "ticks": ""
            },
            "type": "mesh3d"
           }
          ],
          "parcoords": [
           {
            "line": {
             "colorbar": {
              "outlinewidth": 0,
              "ticks": ""
             }
            },
            "type": "parcoords"
           }
          ],
          "pie": [
           {
            "automargin": true,
            "type": "pie"
           }
          ],
          "scatter": [
           {
            "fillpattern": {
             "fillmode": "overlay",
             "size": 10,
             "solidity": 0.2
            },
            "type": "scatter"
           }
          ],
          "scatter3d": [
           {
            "line": {
             "colorbar": {
              "outlinewidth": 0,
              "ticks": ""
             }
            },
            "marker": {
             "colorbar": {
              "outlinewidth": 0,
              "ticks": ""
             }
            },
            "type": "scatter3d"
           }
          ],
          "scattercarpet": [
           {
            "marker": {
             "colorbar": {
              "outlinewidth": 0,
              "ticks": ""
             }
            },
            "type": "scattercarpet"
           }
          ],
          "scattergeo": [
           {
            "marker": {
             "colorbar": {
              "outlinewidth": 0,
              "ticks": ""
             }
            },
            "type": "scattergeo"
           }
          ],
          "scattergl": [
           {
            "marker": {
             "colorbar": {
              "outlinewidth": 0,
              "ticks": ""
             }
            },
            "type": "scattergl"
           }
          ],
          "scattermapbox": [
           {
            "marker": {
             "colorbar": {
              "outlinewidth": 0,
              "ticks": ""
             }
            },
            "type": "scattermapbox"
           }
          ],
          "scatterpolar": [
           {
            "marker": {
             "colorbar": {
              "outlinewidth": 0,
              "ticks": ""
             }
            },
            "type": "scatterpolar"
           }
          ],
          "scatterpolargl": [
           {
            "marker": {
             "colorbar": {
              "outlinewidth": 0,
              "ticks": ""
             }
            },
            "type": "scatterpolargl"
           }
          ],
          "scatterternary": [
           {
            "marker": {
             "colorbar": {
              "outlinewidth": 0,
              "ticks": ""
             }
            },
            "type": "scatterternary"
           }
          ],
          "surface": [
           {
            "colorbar": {
             "outlinewidth": 0,
             "ticks": ""
            },
            "colorscale": [
             [
              0,
              "#0d0887"
             ],
             [
              0.1111111111111111,
              "#46039f"
             ],
             [
              0.2222222222222222,
              "#7201a8"
             ],
             [
              0.3333333333333333,
              "#9c179e"
             ],
             [
              0.4444444444444444,
              "#bd3786"
             ],
             [
              0.5555555555555556,
              "#d8576b"
             ],
             [
              0.6666666666666666,
              "#ed7953"
             ],
             [
              0.7777777777777778,
              "#fb9f3a"
             ],
             [
              0.8888888888888888,
              "#fdca26"
             ],
             [
              1,
              "#f0f921"
             ]
            ],
            "type": "surface"
           }
          ],
          "table": [
           {
            "cells": {
             "fill": {
              "color": "#EBF0F8"
             },
             "line": {
              "color": "white"
             }
            },
            "header": {
             "fill": {
              "color": "#C8D4E3"
             },
             "line": {
              "color": "white"
             }
            },
            "type": "table"
           }
          ]
         },
         "layout": {
          "annotationdefaults": {
           "arrowcolor": "#2a3f5f",
           "arrowhead": 0,
           "arrowwidth": 1
          },
          "autotypenumbers": "strict",
          "coloraxis": {
           "colorbar": {
            "outlinewidth": 0,
            "ticks": ""
           }
          },
          "colorscale": {
           "diverging": [
            [
             0,
             "#8e0152"
            ],
            [
             0.1,
             "#c51b7d"
            ],
            [
             0.2,
             "#de77ae"
            ],
            [
             0.3,
             "#f1b6da"
            ],
            [
             0.4,
             "#fde0ef"
            ],
            [
             0.5,
             "#f7f7f7"
            ],
            [
             0.6,
             "#e6f5d0"
            ],
            [
             0.7,
             "#b8e186"
            ],
            [
             0.8,
             "#7fbc41"
            ],
            [
             0.9,
             "#4d9221"
            ],
            [
             1,
             "#276419"
            ]
           ],
           "sequential": [
            [
             0,
             "#0d0887"
            ],
            [
             0.1111111111111111,
             "#46039f"
            ],
            [
             0.2222222222222222,
             "#7201a8"
            ],
            [
             0.3333333333333333,
             "#9c179e"
            ],
            [
             0.4444444444444444,
             "#bd3786"
            ],
            [
             0.5555555555555556,
             "#d8576b"
            ],
            [
             0.6666666666666666,
             "#ed7953"
            ],
            [
             0.7777777777777778,
             "#fb9f3a"
            ],
            [
             0.8888888888888888,
             "#fdca26"
            ],
            [
             1,
             "#f0f921"
            ]
           ],
           "sequentialminus": [
            [
             0,
             "#0d0887"
            ],
            [
             0.1111111111111111,
             "#46039f"
            ],
            [
             0.2222222222222222,
             "#7201a8"
            ],
            [
             0.3333333333333333,
             "#9c179e"
            ],
            [
             0.4444444444444444,
             "#bd3786"
            ],
            [
             0.5555555555555556,
             "#d8576b"
            ],
            [
             0.6666666666666666,
             "#ed7953"
            ],
            [
             0.7777777777777778,
             "#fb9f3a"
            ],
            [
             0.8888888888888888,
             "#fdca26"
            ],
            [
             1,
             "#f0f921"
            ]
           ]
          },
          "colorway": [
           "#636efa",
           "#EF553B",
           "#00cc96",
           "#ab63fa",
           "#FFA15A",
           "#19d3f3",
           "#FF6692",
           "#B6E880",
           "#FF97FF",
           "#FECB52"
          ],
          "font": {
           "color": "#2a3f5f"
          },
          "geo": {
           "bgcolor": "white",
           "lakecolor": "white",
           "landcolor": "#E5ECF6",
           "showlakes": true,
           "showland": true,
           "subunitcolor": "white"
          },
          "hoverlabel": {
           "align": "left"
          },
          "hovermode": "closest",
          "mapbox": {
           "style": "light"
          },
          "paper_bgcolor": "white",
          "plot_bgcolor": "#E5ECF6",
          "polar": {
           "angularaxis": {
            "gridcolor": "white",
            "linecolor": "white",
            "ticks": ""
           },
           "bgcolor": "#E5ECF6",
           "radialaxis": {
            "gridcolor": "white",
            "linecolor": "white",
            "ticks": ""
           }
          },
          "scene": {
           "xaxis": {
            "backgroundcolor": "#E5ECF6",
            "gridcolor": "white",
            "gridwidth": 2,
            "linecolor": "white",
            "showbackground": true,
            "ticks": "",
            "zerolinecolor": "white"
           },
           "yaxis": {
            "backgroundcolor": "#E5ECF6",
            "gridcolor": "white",
            "gridwidth": 2,
            "linecolor": "white",
            "showbackground": true,
            "ticks": "",
            "zerolinecolor": "white"
           },
           "zaxis": {
            "backgroundcolor": "#E5ECF6",
            "gridcolor": "white",
            "gridwidth": 2,
            "linecolor": "white",
            "showbackground": true,
            "ticks": "",
            "zerolinecolor": "white"
           }
          },
          "shapedefaults": {
           "line": {
            "color": "#2a3f5f"
           }
          },
          "ternary": {
           "aaxis": {
            "gridcolor": "white",
            "linecolor": "white",
            "ticks": ""
           },
           "baxis": {
            "gridcolor": "white",
            "linecolor": "white",
            "ticks": ""
           },
           "bgcolor": "#E5ECF6",
           "caxis": {
            "gridcolor": "white",
            "linecolor": "white",
            "ticks": ""
           }
          },
          "title": {
           "x": 0.05
          },
          "xaxis": {
           "automargin": true,
           "gridcolor": "white",
           "linecolor": "white",
           "ticks": "",
           "title": {
            "standoff": 15
           },
           "zerolinecolor": "white",
           "zerolinewidth": 2
          },
          "yaxis": {
           "automargin": true,
           "gridcolor": "white",
           "linecolor": "white",
           "ticks": "",
           "title": {
            "standoff": 15
           },
           "zerolinecolor": "white",
           "zerolinewidth": 2
          }
         }
        },
        "width": 700,
        "xaxis": {
         "autorange": true,
         "range": [
          0,
          4.470909663838193
         ],
         "ticktext": [
          "G",
          "X",
          "W",
          "K",
          "G",
          "L",
          "U",
          "W",
          "L",
          "K|U",
          "X"
         ],
         "tickvals": [
          0,
          0.7071067811865478,
          1.0606601717798216,
          1.2374368670764582,
          2.1559955206201504,
          3.0220209244045915,
          3.3282071422524884,
          3.504983837549125,
          3.858537228142398,
          4.164723445990296,
          4.470909663838193
         ],
         "type": "linear"
        },
        "yaxis": {
         "autorange": true,
         "range": [
          -3.900818330944127,
          63.8075529891924
         ],
         "title": {
          "text": "Frequency (meV)"
         },
         "type": "linear"
        }
       }
      },
      "image/png": "[encoded data removed]",
      "text/html": [
       "<div>                            <div id=\"581de1a2-1b07-4776-b044-c19d4af3fb08\" class=\"plotly-graph-div\" style=\"height:500px; width:700px;\"></div>            <script type=\"text/javascript\">                require([\"plotly\"], function(Plotly) {                    window.PLOTLYENV=window.PLOTLYENV || {};                                    if (document.getElementById(\"581de1a2-1b07-4776-b044-c19d4af3fb08\")) {                    Plotly.newPlot(                        \"581de1a2-1b07-4776-b044-c19d4af3fb08\",                        [{\"marker\":{\"color\":\"#636EFA\"},\"mode\":\"lines\",\"showlegend\":false,\"x\":[0.0,0.04419417382415922,0.08838834764831845,0.13258252147247768,0.1767766952966369,0.2209708691207961,0.26516504294495535,0.3093592167691146,0.35355339059327384,0.3977475644174331,0.44194173824159233,0.4861359120657516,0.5303300858899108,0.5745242597140701,0.6187184335382293,0.6629126073623886,0.7071067811865478,0.751300955010707,0.7954951288348663,0.8396893026590255,0.8838834764831848,0.928077650307344,0.9722718241315033,1.0164659979556625,1.0606601717798216,1.1048543456039808,1.14904851942814,1.193242693252299,1.2374368670764582,1.2811777553404435,1.3249186436044287,1.368659531868414,1.4124004201323994,1.4561413083963848,1.4998821966603701,1.5436230849243555,1.5873639731883409,1.6311048614523262,1.6748457497163114,1.7185866379802968,1.7623275262442821,1.8060684145082675,1.8498093027722529,1.893550191036238,1.9372910793002234,1.9810319675642087,2.024772855828194,2.0685137440921793,2.112254632356165,2.1559955206201504,2.201575805029858,2.2471560894395655,2.292736373849273,2.3383166582589805,2.383896942668688,2.4294772270783955,2.475057511488103,2.5206377958978106,2.566218080307518,2.6117983647172256,2.657378649126933,2.70295893353664,2.7485392179463473,2.7941195023560548,2.8396997867657623,2.8852800711754694,2.9308603555851764,2.976440639994884,3.0220209244045915,3.0657618126685766,3.1095027009325618,3.1532435891965473,3.1969844774605325,3.2407253657245176,3.2844662539885032,3.3282071422524884,3.3724013160766475,3.4165954899008066,3.4607896637249658,3.504983837549125,3.549178011373284,3.593372185197443,3.6375663590216023,3.6817605328457614,3.7259547066699206,3.7701488804940797,3.814343054318239,3.858537228142398,3.902278116406383,3.9460190046703683,3.9897598929343534,4.033500781198339,4.077241669462325,4.12098255772631,4.164723445990296,4.164723445990296,4.208464334254281,4.252205222518266,4.295946110782252,4.339686999046237,4.383427887310222,4.4271687755742075,4.470909663838193],\"y\":[-0.5153997649373006,2.3288221996483944,4.665238667326247,6.857000492607051,8.862431143644654,10.635298604746879,12.139751480185575,13.351041817006806,14.27035427875199,14.923666583338415,15.353545163374745,15.61148158240609,15.750342099631256,15.818407217691346,15.848485520712716,15.859816963542084,15.862262310596504,16.14147483403145,16.92908269715422,18.096144695674074,19.473290208568336,20.873084024482086,22.09771348488912,22.94731276877971,23.253815191604115,22.1959263874282,20.334622509741443,18.61983053943424,17.926711416419028,18.188325898175922,18.3444833267916,18.37707616921372,18.275141209918498,18.032758557460017,17.650492357992395,17.13413769078551,16.49178375441236,15.732128425527453,14.865456473445958,13.902280880086835,12.848872213648715,11.709763558183942,10.48973710538973,9.189813424559112,7.809397861099602,6.351567242114103,4.8262123782878765,3.24424539990965,1.59068942311156,-0.5153997649373006,1.4866185095502802,3.0723882171024837,4.5437475666954334,5.90536519977743,7.130572066394802,8.213732292800492,9.142727117931408,9.911424295990251,10.526431205353566,11.003032288151802,11.365136019094388,11.635976409357962,11.832706350163532,11.977200336907659,12.08363404715636,12.161029909259437,12.213209455144064,12.244671505936685,12.256059936352772,12.735876578115283,13.955981707119435,15.449650103857214,16.783657471050045,17.680691773645318,18.042229136215884,17.926759132981054,18.621431733815847,20.3354089407641,22.19541384128568,23.253815191604115,22.425089315138365,21.193108280828632,19.616095384237113,17.789429893129185,15.86309696247091,14.072472957795542,12.751621464750128,12.256059936352772,12.736215592616535,13.956931498079346,15.451409391512342,16.78521538812968,17.681038685067545,18.042012243186047,17.926711416419028,17.926759132981054,17.584966065784958,17.196202851239615,16.79824663438829,16.429206703803366,16.12858594492392,15.932677653886145,15.862262310596504],\"type\":\"scatter\"},{\"marker\":{\"color\":\"#636EFA\"},\"mode\":\"lines\",\"showlegend\":false,\"x\":[0.0,0.04419417382415922,0.08838834764831845,0.13258252147247768,0.1767766952966369,0.2209708691207961,0.26516504294495535,0.3093592167691146,0.35355339059327384,0.3977475644174331,0.44194173824159233,0.4861359120657516,0.5303300858899108,0.5745242597140701,0.6187184335382293,0.6629126073623886,0.7071067811865478,0.751300955010707,0.7954951288348663,0.8396893026590255,0.8838834764831848,0.928077650307344,0.9722718241315033,1.0164659979556625,1.0606601717798216,1.1048543456039808,1.14904851942814,1.193242693252299,1.2374368670764582,1.2811777553404435,1.3249186436044287,1.368659531868414,1.4124004201323994,1.4561413083963848,1.4998821966603701,1.5436230849243555,1.5873639731883409,1.6311048614523262,1.6748457497163114,1.7185866379802968,1.7623275262442821,1.8060684145082675,1.8498093027722529,1.893550191036238,1.9372910793002234,1.9810319675642087,2.024772855828194,2.0685137440921793,2.112254632356165,2.1559955206201504,2.201575805029858,2.2471560894395655,2.292736373849273,2.3383166582589805,2.383896942668688,2.4294772270783955,2.475057511488103,2.5206377958978106,2.566218080307518,2.6117983647172256,2.657378649126933,2.70295893353664,2.7485392179463473,2.7941195023560548,2.8396997867657623,2.8852800711754694,2.9308603555851764,2.976440639994884,3.0220209244045915,3.0657618126685766,3.1095027009325618,3.1532435891965473,3.1969844774605325,3.2407253657245176,3.2844662539885032,3.3282071422524884,3.3724013160766475,3.4165954899008066,3.4607896637249658,3.504983837549125,3.549178011373284,3.593372185197443,3.6375663590216023,3.6817605328457614,3.7259547066699206,3.7701488804940797,3.814343054318239,3.858537228142398,3.902278116406383,3.9460190046703683,3.9897598929343534,4.033500781198339,4.077241669462325,4.12098255772631,4.164723445990296,4.164723445990296,4.208464334254281,4.252205222518266,4.295946110782252,4.339686999046237,4.383427887310222,4.4271687755742075,4.470909663838193],\"y\":[-0.0684328740440945,2.3921865290201842,4.683735651069488,6.863101848404377,8.8686276937199,10.64244900218256,12.142505398596468,13.354197261540575,14.27648825801904,14.929481821459147,15.357681397078839,15.615293399871033,15.755544786852468,15.823674571802352,15.853871744906911,15.865392832520861,15.868321532227617,16.147586233037256,16.93516704933943,18.102010466877925,19.478424141101115,20.877797846326335,22.103045000197227,22.953401788652595,23.259735955287496,23.538128507785256,23.580216375673288,23.523585933939984,23.48895390702719,24.080649126946728,24.24802919952142,24.066661555555893,23.645837771367223,23.07270952321504,22.38959205023194,21.60644914016276,20.715772452337514,19.703634658560894,18.56320246599309,17.29557180424477,15.906006385855834,14.406945665470028,12.812309178057436,11.132048736635124,9.379652912635901,7.571087159392984,5.716704114302375,3.8264758669771606,1.9177181396039493,-0.0684328740440945,1.6045709598639661,3.093103706000747,4.5529334799985355,5.907356118888551,7.136115212688687,8.219141862069513,9.14595355611461,9.915341951260592,10.529887095414889,11.00524846071898,11.368312806522438,11.639442045322442,11.836349936999355,11.979034946069275,12.086915308940913,12.163838431610882,12.21569985500596,12.247058713630773,12.257262505024036,13.308728178784493,15.906178283597036,19.037574643383326,21.82318713247583,23.55695646938766,23.992153443197456,23.488834802918287,23.523987089703176,23.5806190002401,23.53837150929404,23.259735955287496,23.667118856494305,23.62343676724749,22.95495940628981,21.376078759066324,18.866013670680676,15.894809734019582,13.32273891308079,12.257262505024036,13.306976590534703,15.903624226331118,19.0361989553304,21.82217633310295,23.55587207907176,23.991649924690385,23.48895390702719,23.488834802918287,22.48232125985199,21.161240911197424,19.682597947962893,18.231139807079746,16.998565836770737,16.1632291477407,15.868321532227617],\"type\":\"scatter\"},{\"marker\":{\"color\":\"#636EFA\"},\"mode\":\"lines\",\"showlegend\":false,\"x\":[0.0,0.04419417382415922,0.08838834764831845,0.13258252147247768,0.1767766952966369,0.2209708691207961,0.26516504294495535,0.3093592167691146,0.35355339059327384,0.3977475644174331,0.44194173824159233,0.4861359120657516,0.5303300858899108,0.5745242597140701,0.6187184335382293,0.6629126073623886,0.7071067811865478,0.751300955010707,0.7954951288348663,0.8396893026590255,0.8838834764831848,0.928077650307344,0.9722718241315033,1.0164659979556625,1.0606601717798216,1.1048543456039808,1.14904851942814,1.193242693252299,1.2374368670764582,1.2811777553404435,1.3249186436044287,1.368659531868414,1.4124004201323994,1.4561413083963848,1.4998821966603701,1.5436230849243555,1.5873639731883409,1.6311048614523262,1.6748457497163114,1.7185866379802968,1.7623275262442821,1.8060684145082675,1.8498093027722529,1.893550191036238,1.9372910793002234,1.9810319675642087,2.024772855828194,2.0685137440921793,2.112254632356165,2.1559955206201504,2.201575805029858,2.2471560894395655,2.292736373849273,2.3383166582589805,2.383896942668688,2.4294772270783955,2.475057511488103,2.5206377958978106,2.566218080307518,2.6117983647172256,2.657378649126933,2.70295893353664,2.7485392179463473,2.7941195023560548,2.8396997867657623,2.8852800711754694,2.9308603555851764,2.976440639994884,3.0220209244045915,3.0657618126685766,3.1095027009325618,3.1532435891965473,3.1969844774605325,3.2407253657245176,3.2844662539885032,3.3282071422524884,3.3724013160766475,3.4165954899008066,3.4607896637249658,3.504983837549125,3.549178011373284,3.593372185197443,3.6375663590216023,3.6817605328457614,3.7259547066699206,3.7701488804940797,3.814343054318239,3.858537228142398,3.902278116406383,3.9460190046703683,3.9897598929343534,4.033500781198339,4.077241669462325,4.12098255772631,4.164723445990296,4.164723445990296,4.208464334254281,4.252205222518266,4.295946110782252,4.339686999046237,4.383427887310222,4.4271687755742075,4.470909663838193],\"y\":[0.40699471798237474,3.670322619767437,7.341188527979758,11.01216670002259,14.67164583115506,18.303971748331374,21.88508658997014,25.382477775489257,28.761543340900868,31.990948019207316,35.04582036134154,37.9114782325704,40.585431455278524,43.07527485936905,45.3936646264715,47.55221617428654,49.55568530172645,49.28958495927889,48.55657478843001,47.49655995257873,46.26097111077743,45.00539014803619,43.89974331358554,43.127050461152784,42.84759290081222,42.64317809066342,43.19340165137111,43.80365604406302,44.04779290797614,42.86812321929031,41.660778851204164,40.43144689375538,39.17608194708286,37.880602097260564,36.52166561743469,35.070003209078585,33.49497339518518,31.770428321082857,29.879373891763827,27.814054725983958,25.57650426951795,23.178234332008735,20.634091283398003,17.957479265010004,15.16249670083926,12.265716107257166,9.28280359531031,6.230541022246186,3.1376533298538054,0.40699471798237474,2.876401929099971,5.76164246252644,8.654114704797689,11.563675917384517,14.491912541505158,17.43106847077432,20.368831576885803,23.289873431076334,26.170614017942167,28.979903927131183,31.685261582964017,34.25742332212079,36.67016439399025,38.90210547408787,40.941647833419566,42.7816822432423,44.402467246919365,45.71145280934568,46.31179471100522,45.790702415598346,44.39005462616439,42.59420166812965,41.15768607759182,40.88009881212606,42.062289535662885,44.047286815325556,43.802778741113734,43.192973137990144,42.64331301375664,42.84759290081222,41.782811281604715,40.90825474785092,40.54269227698466,41.09298883456717,42.554068087283845,44.35776411732232,45.78023317282075,46.31179471100522,45.79083041882971,44.39017284162561,42.59419857895237,41.15797620397305,40.880642465387915,42.06280925085511,44.04779290797614,44.047286815325556,45.187102293266996,46.20920153938942,47.174452507124236,48.11037135173695,48.87965034656873,49.38022139940834,49.55568530172645],\"type\":\"scatter\"},{\"marker\":{\"color\":\"#636EFA\"},\"mode\":\"lines\",\"showlegend\":false,\"x\":[0.0,0.04419417382415922,0.08838834764831845,0.13258252147247768,0.1767766952966369,0.2209708691207961,0.26516504294495535,0.3093592167691146,0.35355339059327384,0.3977475644174331,0.44194173824159233,0.4861359120657516,0.5303300858899108,0.5745242597140701,0.6187184335382293,0.6629126073623886,0.7071067811865478,0.751300955010707,0.7954951288348663,0.8396893026590255,0.8838834764831848,0.928077650307344,0.9722718241315033,1.0164659979556625,1.0606601717798216,1.1048543456039808,1.14904851942814,1.193242693252299,1.2374368670764582,1.2811777553404435,1.3249186436044287,1.368659531868414,1.4124004201323994,1.4561413083963848,1.4998821966603701,1.5436230849243555,1.5873639731883409,1.6311048614523262,1.6748457497163114,1.7185866379802968,1.7623275262442821,1.8060684145082675,1.8498093027722529,1.893550191036238,1.9372910793002234,1.9810319675642087,2.024772855828194,2.0685137440921793,2.112254632356165,2.1559955206201504,2.201575805029858,2.2471560894395655,2.292736373849273,2.3383166582589805,2.383896942668688,2.4294772270783955,2.475057511488103,2.5206377958978106,2.566218080307518,2.6117983647172256,2.657378649126933,2.70295893353664,2.7485392179463473,2.7941195023560548,2.8396997867657623,2.8852800711754694,2.9308603555851764,2.976440639994884,3.0220209244045915,3.0657618126685766,3.1095027009325618,3.1532435891965473,3.1969844774605325,3.2407253657245176,3.2844662539885032,3.3282071422524884,3.3724013160766475,3.4165954899008066,3.4607896637249658,3.504983837549125,3.549178011373284,3.593372185197443,3.6375663590216023,3.6817605328457614,3.7259547066699206,3.7701488804940797,3.814343054318239,3.858537228142398,3.902278116406383,3.9460190046703683,3.9897598929343534,4.033500781198339,4.077241669462325,4.12098255772631,4.164723445990296,4.164723445990296,4.208464334254281,4.252205222518266,4.295946110782252,4.339686999046237,4.383427887310222,4.4271687755742075,4.470909663838193],\"y\":[60.40943329870688,60.29854456539762,59.97308344708572,59.46824680137212,58.84467143993701,58.17459384042373,57.525849520692994,56.952833070242455,56.48766547039203,56.13928954578733,55.895860764863215,55.73274840555998,55.62361190481018,54.597036684457095,53.08806068070674,51.404410665247475,49.55730436037251,49.29167746818585,48.558093642101205,47.49724975543415,46.2619961577039,45.007004692851666,43.901511750697,43.12863606623628,42.84841968965569,43.60874792510774,44.25627935902492,44.697699187234896,44.855278621391236,44.76482817594775,45.14418838668667,45.93446755264559,47.02371215327253,48.29544794849903,49.654615128125215,51.03013873615732,52.369272391038024,53.633472409431725,54.7965146520708,55.84278469814274,56.765097400202606,57.56412343178625,58.24764514185279,58.82683523188612,59.18491492783413,59.5004511433959,59.83681638987305,60.13767885580673,60.345164058588296,60.40943329870688,60.367953200286244,60.22885531600222,60.011212478735665,59.736313105652634,59.42450936484904,59.09123092203669,58.7406591100755,58.363059692643745,57.940084275087685,57.447791887045504,56.86144621434574,56.16357605084101,55.346679534347054,54.415149735029196,53.385187794252396,52.28364157874935,51.15811666444595,50.131286002750386,49.622356657059264,49.521902682512,49.19957203660895,48.61827321483322,47.77993632391672,46.75941709447703,45.679034105068304,44.85501966571936,44.69741412685199,44.25563846409843,43.60832947070768,42.84841968965569,44.011354030968825,45.255096611074684,46.51412545005,47.663244889061936,48.575003437327545,49.18758077175857,49.51978493826291,49.622356657059264,49.522032393316856,49.19947141568201,48.617563615886105,47.77917397833125,46.759134353159745,45.67926748884313,44.855278621391236,44.85501966571936,45.3796788376365,46.27003570299348,47.27367495073301,48.16429591098266,48.890713279814264,49.38268281378072,49.55730436037251],\"type\":\"scatter\"},{\"marker\":{\"color\":\"#636EFA\"},\"mode\":\"lines\",\"showlegend\":false,\"x\":[0.0,0.04419417382415922,0.08838834764831845,0.13258252147247768,0.1767766952966369,0.2209708691207961,0.26516504294495535,0.3093592167691146,0.35355339059327384,0.3977475644174331,0.44194173824159233,0.4861359120657516,0.5303300858899108,0.5745242597140701,0.6187184335382293,0.6629126073623886,0.7071067811865478,0.751300955010707,0.7954951288348663,0.8396893026590255,0.8838834764831848,0.928077650307344,0.9722718241315033,1.0164659979556625,1.0606601717798216,1.1048543456039808,1.14904851942814,1.193242693252299,1.2374368670764582,1.2811777553404435,1.3249186436044287,1.368659531868414,1.4124004201323994,1.4561413083963848,1.4998821966603701,1.5436230849243555,1.5873639731883409,1.6311048614523262,1.6748457497163114,1.7185866379802968,1.7623275262442821,1.8060684145082675,1.8498093027722529,1.893550191036238,1.9372910793002234,1.9810319675642087,2.024772855828194,2.0685137440921793,2.112254632356165,2.1559955206201504,2.201575805029858,2.2471560894395655,2.292736373849273,2.3383166582589805,2.383896942668688,2.4294772270783955,2.475057511488103,2.5206377958978106,2.566218080307518,2.6117983647172256,2.657378649126933,2.70295893353664,2.7485392179463473,2.7941195023560548,2.8396997867657623,2.8852800711754694,2.9308603555851764,2.976440639994884,3.0220209244045915,3.0657618126685766,3.1095027009325618,3.1532435891965473,3.1969844774605325,3.2407253657245176,3.2844662539885032,3.3282071422524884,3.3724013160766475,3.4165954899008066,3.4607896637249658,3.504983837549125,3.549178011373284,3.593372185197443,3.6375663590216023,3.6817605328457614,3.7259547066699206,3.7701488804940797,3.814343054318239,3.858537228142398,3.902278116406383,3.9460190046703683,3.9897598929343534,4.033500781198339,4.077241669462325,4.12098255772631,4.164723445990296,4.164723445990296,4.208464334254281,4.252205222518266,4.295946110782252,4.339686999046237,4.383427887310222,4.4271687755742075,4.470909663838193],\"y\":[60.42041745015768,60.306364795607564,59.975487634933806,59.469166346788164,58.845985216746534,58.17610794319176,57.527930643746366,56.954716060935446,56.489828689551715,56.141435786214956,55.89710455584302,55.73380168870284,55.62591085180722,55.54893545198542,55.49851532514376,55.468427646183265,55.458330276168965,55.53366404767433,55.71504469364746,55.92080973030833,56.095283331028575,56.21834107062156,56.29369693240623,56.33186893226095,56.3426798729341,56.10540043244759,55.845186598573534,55.64105024592952,55.56293535037013,55.646226011485794,55.762474770499196,55.913988892430744,56.100685771228456,56.32162655770568,56.574895151156554,56.85678671950052,57.161979481440035,57.485256236835525,57.82150644556126,58.16443587487597,58.50728256282904,58.66194116993523,58.75909881896357,58.93152060974329,59.311725729454565,59.70809437158634,60.01750585699541,60.23988886642707,60.37414988170138,60.42041745015768,60.37994643652678,60.277735112335414,60.11539434393936,59.91108030351238,59.68545958761312,59.45814202811135,59.247772211442175,59.07034083941784,58.93415898856692,58.84142512184841,58.78905238615201,58.77121001978791,58.778589563300024,58.80148308550368,58.83051035944397,58.860164137442275,58.8844856995426,58.90015507093891,58.905356219135356,58.7212355814315,58.21333927389739,57.503847562630554,56.758478342839574,56.1351935196492,55.732130790634024,55.561927122035115,55.63936231916724,55.84389572101267,56.10494936274705,56.3426798729341,56.13104939493442,56.14331646427644,56.42793248490926,56.943650418641695,57.58886044317547,58.23209926101878,58.720800737833756,58.905356219135356,58.72273908161302,58.214218899469124,57.50433569442513,56.75887079211526,56.13600927029937,55.73340774556899,55.56293535037013,55.561927122035115,55.507119111136824,55.47444928649983,55.45855248544512,55.45380013978173,55.45475319371873,55.457226225461376,55.458330276168965],\"type\":\"scatter\"},{\"marker\":{\"color\":\"#636EFA\"},\"mode\":\"lines\",\"showlegend\":false,\"x\":[0.0,0.04419417382415922,0.08838834764831845,0.13258252147247768,0.1767766952966369,0.2209708691207961,0.26516504294495535,0.3093592167691146,0.35355339059327384,0.3977475644174331,0.44194173824159233,0.4861359120657516,0.5303300858899108,0.5745242597140701,0.6187184335382293,0.6629126073623886,0.7071067811865478,0.751300955010707,0.7954951288348663,0.8396893026590255,0.8838834764831848,0.928077650307344,0.9722718241315033,1.0164659979556625,1.0606601717798216,1.1048543456039808,1.14904851942814,1.193242693252299,1.2374368670764582,1.2811777553404435,1.3249186436044287,1.368659531868414,1.4124004201323994,1.4561413083963848,1.4998821966603701,1.5436230849243555,1.5873639731883409,1.6311048614523262,1.6748457497163114,1.7185866379802968,1.7623275262442821,1.8060684145082675,1.8498093027722529,1.893550191036238,1.9372910793002234,1.9810319675642087,2.024772855828194,2.0685137440921793,2.112254632356165,2.1559955206201504,2.201575805029858,2.2471560894395655,2.292736373849273,2.3383166582589805,2.383896942668688,2.4294772270783955,2.475057511488103,2.5206377958978106,2.566218080307518,2.6117983647172256,2.657378649126933,2.70295893353664,2.7485392179463473,2.7941195023560548,2.8396997867657623,2.8852800711754694,2.9308603555851764,2.976440639994884,3.0220209244045915,3.0657618126685766,3.1095027009325618,3.1532435891965473,3.1969844774605325,3.2407253657245176,3.2844662539885032,3.3282071422524884,3.3724013160766475,3.4165954899008066,3.4607896637249658,3.504983837549125,3.549178011373284,3.593372185197443,3.6375663590216023,3.6817605328457614,3.7259547066699206,3.7701488804940797,3.814343054318239,3.858537228142398,3.902278116406383,3.9460190046703683,3.9897598929343534,4.033500781198339,4.077241669462325,4.12098255772631,4.164723445990296,4.164723445990296,4.208464334254281,4.252205222518266,4.295946110782252,4.339686999046237,4.383427887310222,4.4271687755742075,4.470909663838193],\"y\":[60.422134423185575,60.42152463886847,60.42189959552053,60.40926981714171,60.363881995865434,60.26108368487402,60.074711745127786,59.778611113359155,59.3476390632992,58.760208759685,58.00008927061054,57.055999974788016,55.92166757959266,55.552218115513405,55.501078028827905,55.469950257662056,55.459402485041885,55.53493489955386,55.71686762181597,55.92272228474432,56.096943991282856,56.22063723806399,56.29555189222878,56.33323457734612,56.34477709384741,56.622964508585554,57.007323932933666,57.36021590172449,57.50581845212735,57.71351196625972,57.87636993845736,58.005746320469655,58.11372550834914,58.210762647115196,58.30313164430895,58.39065082863204,58.468177402176146,58.52922073978528,58.56991425781047,58.59412092371489,58.61662206649795,58.84333378794825,59.16567892060535,59.467047337694595,59.73896979125621,59.97342605757303,60.16375343905137,60.302862517693754,60.386421541654904,60.422134423185575,60.38543704309454,60.27948554488437,60.11657687070965,59.91268404308459,59.68704246745791,59.45939088886195,59.24902325806786,59.07130601972219,58.93521792421194,58.84201839815713,58.78979389142597,58.77183653565704,58.77942994764167,58.80195272159318,58.83130300612251,58.8609679330329,58.885939093334635,58.90188314627756,58.90761032973175,58.79365412808475,58.517076848713955,58.21396514668352,57.98316714445326,57.83181401617362,57.69717187996744,57.506404688682224,57.36066877492036,57.00727431734179,56.62257294434611,56.34477709384741,56.67049773515141,57.01433933658671,57.34480123464093,57.68957671655919,58.07730500348656,58.4762924823896,58.788070974084704,58.90761032973175,58.79196038441648,58.51598760226552,58.21360475266771,57.983283119696814,57.8320355955071,57.69704851323287,57.50581845212735,57.506404688682224,57.2460449244737,56.93164279926182,56.57191511666464,56.190247567832486,55.83046866579447,55.56120779357164,55.459402485041885],\"type\":\"scatter\"}],                        {\"template\":{\"data\":{\"histogram2dcontour\":[{\"type\":\"histogram2dcontour\",\"colorbar\":{\"outlinewidth\":0,\"ticks\":\"\"},\"colorscale\":[[0.0,\"#0d0887\"],[0.1111111111111111,\"#46039f\"],[0.2222222222222222,\"#7201a8\"],[0.3333333333333333,\"#9c179e\"],[0.4444444444444444,\"#bd3786\"],[0.5555555555555556,\"#d8576b\"],[0.6666666666666666,\"#ed7953\"],[0.7777777777777778,\"#fb9f3a\"],[0.8888888888888888,\"#fdca26\"],[1.0,\"#f0f921\"]]}],\"choropleth\":[{\"type\":\"choropleth\",\"colorbar\":{\"outlinewidth\":0,\"ticks\":\"\"}}],\"histogram2d\":[{\"type\":\"histogram2d\",\"colorbar\":{\"outlinewidth\":0,\"ticks\":\"\"},\"colorscale\":[[0.0,\"#0d0887\"],[0.1111111111111111,\"#46039f\"],[0.2222222222222222,\"#7201a8\"],[0.3333333333333333,\"#9c179e\"],[0.4444444444444444,\"#bd3786\"],[0.5555555555555556,\"#d8576b\"],[0.6666666666666666,\"#ed7953\"],[0.7777777777777778,\"#fb9f3a\"],[0.8888888888888888,\"#fdca26\"],[1.0,\"#f0f921\"]]}],\"heatmap\":[{\"type\":\"heatmap\",\"colorbar\":{\"outlinewidth\":0,\"ticks\":\"\"},\"colorscale\":[[0.0,\"#0d0887\"],[0.1111111111111111,\"#46039f\"],[0.2222222222222222,\"#7201a8\"],[0.3333333333333333,\"#9c179e\"],[0.4444444444444444,\"#bd3786\"],[0.5555555555555556,\"#d8576b\"],[0.6666666666666666,\"#ed7953\"],[0.7777777777777778,\"#fb9f3a\"],[0.8888888888888888,\"#fdca26\"],[1.0,\"#f0f921\"]]}],\"heatmapgl\":[{\"type\":\"heatmapgl\",\"colorbar\":{\"outlinewidth\":0,\"ticks\":\"\"},\"colorscale\":[[0.0,\"#0d0887\"],[0.1111111111111111,\"#46039f\"],[0.2222222222222222,\"#7201a8\"],[0.3333333333333333,\"#9c179e\"],[0.4444444444444444,\"#bd3786\"],[0.5555555555555556,\"#d8576b\"],[0.6666666666666666,\"#ed7953\"],[0.7777777777777778,\"#fb9f3a\"],[0.8888888888888888,\"#fdca26\"],[1.0,\"#f0f921\"]]}],\"contourcarpet\":[{\"type\":\"contourcarpet\",\"colorbar\":{\"outlinewidth\":0,\"ticks\":\"\"}}],\"contour\":[{\"type\":\"contour\",\"colorbar\":{\"outlinewidth\":0,\"ticks\":\"\"},\"colorscale\":[[0.0,\"#0d0887\"],[0.1111111111111111,\"#46039f\"],[0.2222222222222222,\"#7201a8\"],[0.3333333333333333,\"#9c179e\"],[0.4444444444444444,\"#bd3786\"],[0.5555555555555556,\"#d8576b\"],[0.6666666666666666,\"#ed7953\"],[0.7777777777777778,\"#fb9f3a\"],[0.8888888888888888,\"#fdca26\"],[1.0,\"#f0f921\"]]}],\"surface\":[{\"type\":\"surface\",\"colorbar\":{\"outlinewidth\":0,\"ticks\":\"\"},\"colorscale\":[[0.0,\"#0d0887\"],[0.1111111111111111,\"#46039f\"],[0.2222222222222222,\"#7201a8\"],[0.3333333333333333,\"#9c179e\"],[0.4444444444444444,\"#bd3786\"],[0.5555555555555556,\"#d8576b\"],[0.6666666666666666,\"#ed7953\"],[0.7777777777777778,\"#fb9f3a\"],[0.8888888888888888,\"#fdca26\"],[1.0,\"#f0f921\"]]}],\"mesh3d\":[{\"type\":\"mesh3d\",\"colorbar\":{\"outlinewidth\":0,\"ticks\":\"\"}}],\"scatter\":[{\"fillpattern\":{\"fillmode\":\"overlay\",\"size\":10,\"solidity\":0.2},\"type\":\"scatter\"}],\"parcoords\":[{\"type\":\"parcoords\",\"line\":{\"colorbar\":{\"outlinewidth\":0,\"ticks\":\"\"}}}],\"scatterpolargl\":[{\"type\":\"scatterpolargl\",\"marker\":{\"colorbar\":{\"outlinewidth\":0,\"ticks\":\"\"}}}],\"bar\":[{\"error_x\":{\"color\":\"#2a3f5f\"},\"error_y\":{\"color\":\"#2a3f5f\"},\"marker\":{\"line\":{\"color\":\"#E5ECF6\",\"width\":0.5},\"pattern\":{\"fillmode\":\"overlay\",\"size\":10,\"solidity\":0.2}},\"type\":\"bar\"}],\"scattergeo\":[{\"type\":\"scattergeo\",\"marker\":{\"colorbar\":{\"outlinewidth\":0,\"ticks\":\"\"}}}],\"scatterpolar\":[{\"type\":\"scatterpolar\",\"marker\":{\"colorbar\":{\"outlinewidth\":0,\"ticks\":\"\"}}}],\"histogram\":[{\"marker\":{\"pattern\":{\"fillmode\":\"overlay\",\"size\":10,\"solidity\":0.2}},\"type\":\"histogram\"}],\"scattergl\":[{\"type\":\"scattergl\",\"marker\":{\"colorbar\":{\"outlinewidth\":0,\"ticks\":\"\"}}}],\"scatter3d\":[{\"type\":\"scatter3d\",\"line\":{\"colorbar\":{\"outlinewidth\":0,\"ticks\":\"\"}},\"marker\":{\"colorbar\":{\"outlinewidth\":0,\"ticks\":\"\"}}}],\"scattermapbox\":[{\"type\":\"scattermapbox\",\"marker\":{\"colorbar\":{\"outlinewidth\":0,\"ticks\":\"\"}}}],\"scatterternary\":[{\"type\":\"scatterternary\",\"marker\":{\"colorbar\":{\"outlinewidth\":0,\"ticks\":\"\"}}}],\"scattercarpet\":[{\"type\":\"scattercarpet\",\"marker\":{\"colorbar\":{\"outlinewidth\":0,\"ticks\":\"\"}}}],\"carpet\":[{\"aaxis\":{\"endlinecolor\":\"#2a3f5f\",\"gridcolor\":\"white\",\"linecolor\":\"white\",\"minorgridcolor\":\"white\",\"startlinecolor\":\"#2a3f5f\"},\"baxis\":{\"endlinecolor\":\"#2a3f5f\",\"gridcolor\":\"white\",\"linecolor\":\"white\",\"minorgridcolor\":\"white\",\"startlinecolor\":\"#2a3f5f\"},\"type\":\"carpet\"}],\"table\":[{\"cells\":{\"fill\":{\"color\":\"#EBF0F8\"},\"line\":{\"color\":\"white\"}},\"header\":{\"fill\":{\"color\":\"#C8D4E3\"},\"line\":{\"color\":\"white\"}},\"type\":\"table\"}],\"barpolar\":[{\"marker\":{\"line\":{\"color\":\"#E5ECF6\",\"width\":0.5},\"pattern\":{\"fillmode\":\"overlay\",\"size\":10,\"solidity\":0.2}},\"type\":\"barpolar\"}],\"pie\":[{\"automargin\":true,\"type\":\"pie\"}]},\"layout\":{\"autotypenumbers\":\"strict\",\"colorway\":[\"#636efa\",\"#EF553B\",\"#00cc96\",\"#ab63fa\",\"#FFA15A\",\"#19d3f3\",\"#FF6692\",\"#B6E880\",\"#FF97FF\",\"#FECB52\"],\"font\":{\"color\":\"#2a3f5f\"},\"hovermode\":\"closest\",\"hoverlabel\":{\"align\":\"left\"},\"paper_bgcolor\":\"white\",\"plot_bgcolor\":\"#E5ECF6\",\"polar\":{\"bgcolor\":\"#E5ECF6\",\"angularaxis\":{\"gridcolor\":\"white\",\"linecolor\":\"white\",\"ticks\":\"\"},\"radialaxis\":{\"gridcolor\":\"white\",\"linecolor\":\"white\",\"ticks\":\"\"}},\"ternary\":{\"bgcolor\":\"#E5ECF6\",\"aaxis\":{\"gridcolor\":\"white\",\"linecolor\":\"white\",\"ticks\":\"\"},\"baxis\":{\"gridcolor\":\"white\",\"linecolor\":\"white\",\"ticks\":\"\"},\"caxis\":{\"gridcolor\":\"white\",\"linecolor\":\"white\",\"ticks\":\"\"}},\"coloraxis\":{\"colorbar\":{\"outlinewidth\":0,\"ticks\":\"\"}},\"colorscale\":{\"sequential\":[[0.0,\"#0d0887\"],[0.1111111111111111,\"#46039f\"],[0.2222222222222222,\"#7201a8\"],[0.3333333333333333,\"#9c179e\"],[0.4444444444444444,\"#bd3786\"],[0.5555555555555556,\"#d8576b\"],[0.6666666666666666,\"#ed7953\"],[0.7777777777777778,\"#fb9f3a\"],[0.8888888888888888,\"#fdca26\"],[1.0,\"#f0f921\"]],\"sequentialminus\":[[0.0,\"#0d0887\"],[0.1111111111111111,\"#46039f\"],[0.2222222222222222,\"#7201a8\"],[0.3333333333333333,\"#9c179e\"],[0.4444444444444444,\"#bd3786\"],[0.5555555555555556,\"#d8576b\"],[0.6666666666666666,\"#ed7953\"],[0.7777777777777778,\"#fb9f3a\"],[0.8888888888888888,\"#fdca26\"],[1.0,\"#f0f921\"]],\"diverging\":[[0,\"#8e0152\"],[0.1,\"#c51b7d\"],[0.2,\"#de77ae\"],[0.3,\"#f1b6da\"],[0.4,\"#fde0ef\"],[0.5,\"#f7f7f7\"],[0.6,\"#e6f5d0\"],[0.7,\"#b8e186\"],[0.8,\"#7fbc41\"],[0.9,\"#4d9221\"],[1,\"#276419\"]]},\"xaxis\":{\"gridcolor\":\"white\",\"linecolor\":\"white\",\"ticks\":\"\",\"title\":{\"standoff\":15},\"zerolinecolor\":\"white\",\"automargin\":true,\"zerolinewidth\":2},\"yaxis\":{\"gridcolor\":\"white\",\"linecolor\":\"white\",\"ticks\":\"\",\"title\":{\"standoff\":15},\"zerolinecolor\":\"white\",\"automargin\":true,\"zerolinewidth\":2},\"scene\":{\"xaxis\":{\"backgroundcolor\":\"#E5ECF6\",\"gridcolor\":\"white\",\"linecolor\":\"white\",\"showbackground\":true,\"ticks\":\"\",\"zerolinecolor\":\"white\",\"gridwidth\":2},\"yaxis\":{\"backgroundcolor\":\"#E5ECF6\",\"gridcolor\":\"white\",\"linecolor\":\"white\",\"showbackground\":true,\"ticks\":\"\",\"zerolinecolor\":\"white\",\"gridwidth\":2},\"zaxis\":{\"backgroundcolor\":\"#E5ECF6\",\"gridcolor\":\"white\",\"linecolor\":\"white\",\"showbackground\":true,\"ticks\":\"\",\"zerolinecolor\":\"white\",\"gridwidth\":2}},\"shapedefaults\":{\"line\":{\"color\":\"#2a3f5f\"}},\"annotationdefaults\":{\"arrowcolor\":\"#2a3f5f\",\"arrowhead\":0,\"arrowwidth\":1},\"geo\":{\"bgcolor\":\"white\",\"landcolor\":\"#E5ECF6\",\"subunitcolor\":\"white\",\"showland\":true,\"showlakes\":true,\"lakecolor\":\"white\"},\"title\":{\"x\":0.05},\"mapbox\":{\"style\":\"light\"}}},\"shapes\":[{\"line\":{\"color\":\"gray\",\"dash\":\"dash\",\"width\":1},\"type\":\"line\",\"x0\":4.164723445990296,\"x1\":4.164723445990296,\"xref\":\"x\",\"y0\":0,\"y1\":1,\"yref\":\"y domain\"}],\"xaxis\":{\"tickvals\":[0.0,0.7071067811865478,1.0606601717798216,1.2374368670764582,2.1559955206201504,3.0220209244045915,3.3282071422524884,3.504983837549125,3.858537228142398,4.164723445990296,4.470909663838193],\"ticktext\":[\"G\",\"X\",\"W\",\"K\",\"G\",\"L\",\"U\",\"W\",\"L\",\"K|U\",\"X\"]},\"yaxis\":{\"title\":{\"text\":\"Frequency (meV)\"}},\"width\":700,\"height\":500},                        {\"responsive\": true}                    ).then(function(){\n",
       "                            \n",
       "var gd = document.getElementById('581de1a2-1b07-4776-b044-c19d4af3fb08');\n",
       "var x = new MutationObserver(function (mutations, observer) {{\n",
       "        var display = window.getComputedStyle(gd).display;\n",
       "        if (!display || display === 'none') {{\n",
       "            console.log([gd, 'removed!']);\n",
       "            Plotly.purge(gd);\n",
       "            observer.disconnect();\n",
       "        }}\n",
       "}});\n",
       "\n",
       "// Listen for the removal of the full notebook cells\n",
       "var notebookContainer = gd.closest('#notebook-container');\n",
       "if (notebookContainer) {{\n",
       "    x.observe(notebookContainer, {childList: true});\n",
       "}}\n",
       "\n",
       "// Listen for the clearing of the current output cell\n",
       "var outputEl = gd.closest('.output');\n",
       "if (outputEl) {{\n",
       "    x.observe(outputEl, {childList: true});\n",
       "}}\n",
       "\n",
       "                        })                };                });            </script>        </div>"
      ]
     },
     "metadata": {},
     "output_type": "display_data"
    }
   ],
   "source": [
    "from matlantis_features.features.phonon import PostPhononBandFeature\n",
    "\n",
    "band = PostPhononBandFeature()\n",
    "band_results = band(\n",
    "    force_constant, \n",
    "    labels = ['G', 'X', 'W', 'K', 'G', 'L', 'U', 'W', 'L', 'K', '|', 'U', 'X'], \n",
    "    total_n_kpts = 100,\n",
    ")\n",
    "fig = band_results.plot()\n",
    "fig.update_layout(width=700, height=500)"
   ]
  },
  {
   "cell_type": "markdown",
   "id": "54f5c0e6-5cdc-4b30-ac15-777b3d5b2586",
   "metadata": {},
   "source": [
    "We can see there are 6 branches in the phonon dispersion of sillicon (two branches may be degenerated into one at specific q points). It indicates there are 6 vibration modes for each wave vector.\n",
    "\n",
    "The branches can be categorized as optical/accoustic branch according to the vibration mode. In addition, they can also be grouped as transverse and longitudinal branch according to the vibration mode propagation direction. In the next step, we analyze the type of phonon branch."
   ]
  },
  {
   "cell_type": "markdown",
   "id": "5c10fc1e-fb7b-4a2a-8200-ec1d5b1e0f7f",
   "metadata": {},
   "source": [
    "### 2.5 Phonon branch\n",
    "\n",
    "**Optical and acoustic branch**\n",
    "\n",
    "As explained above, we can get $3N$ vibration frequencies for a given $\\vec q$. There will be $3N$ branches in the phonon dispersion. These branches can be classified into $3$ acoustic band and $3N-3$ optical bands.\n",
    "The acoustic branches have the following characteristics:\n",
    "\n",
    "- The acoustic branches have lower freqencies.\n",
    "- The freqency of acoustic bands $\\omega$ also goes to 0 at the center of Brillouin zone, i.e Gamma point. The slope $\\frac{\\partial \\omega} {\\partial q}$ gives the sound velocity.\n",
    "- If we look at the lattice vibration of the acoustic band at $q=0$, we can see that the lattice move as a whole. This is just like the elastic wave.\n",
    "\n",
    "The optical branches have the following characteristics:\n",
    "\n",
    "- The optical branches have higher frequencies. \n",
    "- The neighboring atoms vibrate against each other in the optical mode.\n",
    "- For the crystal containing multiple element, such as NaCl, the vibration between cation and anion (refer [ion](https://en.wikipedia.org/wiki/Ion#Anions_and_cations)) will cause the change in the total [dipole moment](https://en.wikipedia.org/wiki/Dipole). The dipole can interact with the externally applied electromagnetic waves. Hence, they are called optical modes."
   ]
  },
  {
   "cell_type": "code",
   "execution_count": 9,
   "id": "2a2ddf07-5e41-4bdf-a487-a928259bc579",
   "metadata": {},
   "outputs": [
    {
     "name": "stderr",
     "output_type": "stream",
     "text": [
      "[Parallel(n_jobs=16)]: Using backend ThreadingBackend with 16 concurrent workers.\n",
      "[Parallel(n_jobs=16)]: Done  30 out of  30 | elapsed:   22.6s remaining:    0.0s\n",
      "[Parallel(n_jobs=16)]: Done  30 out of  30 | elapsed:   22.6s finished\n",
      "[Parallel(n_jobs=16)]: Using backend ThreadingBackend with 16 concurrent workers.\n",
      "[Parallel(n_jobs=16)]: Done  30 out of  30 | elapsed:   23.1s remaining:    0.0s\n",
      "[Parallel(n_jobs=16)]: Done  30 out of  30 | elapsed:   23.1s finished\n",
      "[Parallel(n_jobs=16)]: Using backend ThreadingBackend with 16 concurrent workers.\n",
      "[Parallel(n_jobs=16)]: Done  30 out of  30 | elapsed:   22.3s remaining:    0.0s\n",
      "[Parallel(n_jobs=16)]: Done  30 out of  30 | elapsed:   22.3s finished\n",
      "[Parallel(n_jobs=16)]: Using backend ThreadingBackend with 16 concurrent workers.\n",
      "[Parallel(n_jobs=16)]: Done  30 out of  30 | elapsed:   22.4s remaining:    0.0s\n",
      "[Parallel(n_jobs=16)]: Done  30 out of  30 | elapsed:   22.4s finished\n",
      "[Parallel(n_jobs=16)]: Using backend ThreadingBackend with 16 concurrent workers.\n",
      "[Parallel(n_jobs=16)]: Done  30 out of  30 | elapsed:   21.9s remaining:    0.0s\n",
      "[Parallel(n_jobs=16)]: Done  30 out of  30 | elapsed:   21.9s finished\n",
      "[Parallel(n_jobs=16)]: Using backend ThreadingBackend with 16 concurrent workers.\n",
      "[Parallel(n_jobs=16)]: Done  30 out of  30 | elapsed:   21.9s remaining:    0.0s\n",
      "[Parallel(n_jobs=16)]: Done  30 out of  30 | elapsed:   21.9s finished\n"
     ]
    }
   ],
   "source": [
    "from ipywidgets import HBox\n",
    "from ase.visualize import view\n",
    "from matlantis_features.features.phonon import PostPhononModeFeature\n",
    "from pfcc_extras.visualize.povray import traj_to_apng\n",
    "\n",
    "mode = PostPhononModeFeature()\n",
    "mode_results = mode(\n",
    "    force_constant,\n",
    "    k_point=(0.1, 0.0, 0.0),\n",
    "    repeat_of_cell=(4, 4, 4),\n",
    "    n_images=30,\n",
    "    amplitude=5.0\n",
    ")\n",
    "\n",
    "for i in range(6):\n",
    "    traj_to_apng(mode_results.trajectories[i], f\"output/vib.{i}.png\", rotation=\"0x,0y,0z\", clean=True, n_jobs=16)\n"
   ]
  },
  {
   "cell_type": "markdown",
   "id": "09359a40-df31-4187-a47e-7ba640ccf3ef",
   "metadata": {},
   "source": [
    "**Acoustic vibration modes**\n",
    "<div style=\"clear:both;display:table\">\n",
    "<figure style=\"width:30%;float:left;margin:1px\">\n",
    "  <img src=\"./output/vib.0.png\" alt=\"mode0\">\n",
    "  <figcaption>Mode #0</figcaption>\n",
    "</figure>\n",
    "<figure style=\"width:30%;float:left;margin:1px\">\n",
    "  <img src=\"./output/vib.1.png\" alt=\"mode1\">\n",
    "  <figcaption>Mode #1</figcaption>\n",
    "</figure>\n",
    "<figure style=\"width:30%;float:left;margin:1px\">\n",
    "  <img src=\"./output/vib.2.png\" alt=\"mode2\">\n",
    "  <figcaption>Mode #2</figcaption>\n",
    "</figure>\n",
    "</div>"
   ]
  },
  {
   "cell_type": "markdown",
   "id": "26e31236-b3a2-4c1c-9df5-0f0a1b2fab07",
   "metadata": {},
   "source": [
    "**Optical vibration modes**\n",
    "<div style=\"clear:both;display:table\">\n",
    "<figure style=\"width:30%;float:left;margin:1px\">\n",
    "  <img src=\"./output/vib.3.png\" alt=\"mode3\">\n",
    "  <figcaption>Mode #3</figcaption>\n",
    "</figure>\n",
    "<figure style=\"width:30%;float:left;margin:1px\">\n",
    "  <img src=\"./output/vib.4.png\" alt=\"mode4\">\n",
    "  <figcaption>Mode #4</figcaption>\n",
    "</figure>\n",
    "<figure style=\"width:30%;float:left;margin:1px\">\n",
    "  <img src=\"./output/vib.5.png\" alt=\"mode5\">\n",
    "  <figcaption>Mode #5</figcaption>\n",
    "</figure>\n",
    "</div>"
   ]
  },
  {
   "cell_type": "markdown",
   "id": "e2d4b124-877f-4e51-9926-8bf3c08d7189",
   "metadata": {},
   "source": [
    "We can clearly see that the atoms in band 0, 1 and 2 moves towards the same direction as a whole, while the atoms in band 3, 4, and 5 vibrate against each other. Thus, three phonon branches with lower frequencies are acoustic branches, and the other three phonon branches are optical branches."
   ]
  },
  {
   "cell_type": "markdown",
   "id": "fbcd6052-6bf3-4599-b5c5-f519533e5f0d",
   "metadata": {},
   "source": [
    "**Transverse and Longitudinal branch**\n",
    "\n",
    "The phonon branches can also be grouped into transverse and longitudinal branches according the direction of atom vibration and wave vector. In a transverse phonon mode, the atomic displacement is perpendicular to the wave vector $\\vec q$. In a longitudinal phonon mode, the atomic displacement is parallel to the wave vector $\\vec q$.\n",
    "\n",
    "\n",
    "We can also determinate the vibration mode is longitudinal or transverse from follwing calculation.\n"
   ]
  },
  {
   "cell_type": "code",
   "execution_count": 10,
   "id": "3a20e5d5-da8c-4797-8b4a-2851983c4155",
   "metadata": {},
   "outputs": [
    {
     "name": "stdout",
     "output_type": "stream",
     "text": [
      "Band 0:\n",
      "    Angles between q and eigenvectors: [1.571 1.571]\n",
      "Band 1:\n",
      "    Angles between q and eigenvectors: [1.57 1.57]\n",
      "Band 2:\n",
      "    Angles between q and eigenvectors: [0.001 0.001]\n",
      "Band 3:\n",
      "    Angles between q and eigenvectors: [2.103e-03 3.140e+00]\n",
      "Band 4:\n",
      "    Angles between q and eigenvectors: [1.569 1.573]\n",
      "Band 5:\n",
      "    Angles between q and eigenvectors: [1.568 1.572]\n"
     ]
    }
   ],
   "source": [
    "reciprocal_basis = atoms.cell.reciprocal()\n",
    "q_real = reciprocal_basis.dot(np.array([0.1, 0, 0]))\n",
    "\n",
    "def get_angles(eigenvector, q_real):\n",
    "    return np.arccos(eigenvector.dot(q_real) / np.linalg.norm(eigenvector, axis=1) / np.linalg.norm(q_real))\n",
    "\n",
    "for i in range(6):\n",
    "    angles = get_angles(eigenvector[i].real, q_real)\n",
    "    print(f\"Band {i}:\")\n",
    "    print(f\"    Angles between q and eigenvectors:\", angles)"
   ]
  },
  {
   "cell_type": "markdown",
   "id": "9d13911a-d3df-48b2-a82f-41bdf0458d18",
   "metadata": {},
   "source": [
    "We can see that $\\vec{q}$ and eigenvectors are parallel in band 2 and 3, thus, they are longitudinal wave. On the contrary, $\\vec{q}$ and eigenvectors are perpendicular to each other in band 0, 1, 4 and 5, and they are transverse wave."
   ]
  },
  {
   "cell_type": "markdown",
   "id": "d2a7a555-1611-4a2d-ad6e-78d632971a7e",
   "metadata": {},
   "source": [
    "In general, the 6 phonon branches of crystal silicon are:\n",
    "\n",
    "- Transverse acoustic branch   (TA): branch 0 and 1\n",
    "- Longitudinal acoustic branch (LA): branch 2\n",
    "- Transverse optic branch      (TO): branch 4 and 5\n",
    "- Longitudinal optic branch    (LO): branch 3"
   ]
  },
  {
   "cell_type": "markdown",
   "id": "685d517a-d25f-4469-aff7-f8c1135920e4",
   "metadata": {},
   "source": [
    "### 2.6 Phonon density of state (DOS)\n",
    "\n",
    "Phonon dispersion can provide insight into material properties; however, the phonon dispersion is a non-trivial function in 3D and it is often helpful to bin modes by energy to simplify the description of what modes are present in a solid. As a consequence, we define the phonon density of states (DOS), which is the number of modes within $\\omega$ to $\\omega+d\\omega$.\n",
    "\n",
    "$$D(\\omega) = \\frac{1} {N} \\sum_{m, \\vec q} \\delta (\\omega - \\omega_{m, \\vec q})$$\n",
    "\n",
    "Here, we use `PostPhononDOSFeature` to calculate the phonon DOS of crystal silicon"
   ]
  },
  {
   "cell_type": "code",
   "execution_count": 11,
   "id": "9a8ed50a-83e1-42f3-bd07-a4c43075fe34",
   "metadata": {},
   "outputs": [],
   "source": [
    "from matlantis_features.features.phonon import PostPhononDOSFeature, plot_band_dos\n",
    "\n",
    "dos = PostPhononDOSFeature()\n",
    "dos_results = dos(\n",
    "    force_constant,\n",
    "    kpts = [20,20,20],\n",
    "    freq_min = -5.0,\n",
    "    freq_max = 70.0,\n",
    "    freq_bin =  1.0,\n",
    "    scheme = \"mp\",\n",
    "    unit = \"meV\"\n",
    ")"
   ]
  },
  {
   "cell_type": "code",
   "execution_count": 12,
   "id": "495686c1-ae8f-48fd-88c4-94976606f964",
   "metadata": {},
   "outputs": [
    {
     "data": {
      "application/vnd.plotly.v1+json": {
       "config": {
        "linkText": "Export to plot.ly",
        "plotlyServerURL": "https://plot.ly",
        "showLink": false
       },
       "data": [
        {
         "marker": {
          "color": "#636EFA"
         },
         "mode": "lines",
         "showlegend": false,
         "type": "scatter",
         "x": [
          0,
          0.04419417382415922,
          0.08838834764831845,
          0.13258252147247768,
          0.1767766952966369,
          0.2209708691207961,
          0.26516504294495535,
          0.3093592167691146,
          0.35355339059327384,
          0.3977475644174331,
          0.44194173824159233,
          0.4861359120657516,
          0.5303300858899108,
          0.5745242597140701,
          0.6187184335382293,
          0.6629126073623886,
          0.7071067811865478,
          0.751300955010707,
          0.7954951288348663,
          0.8396893026590255,
          0.8838834764831848,
          0.928077650307344,
          0.9722718241315033,
          1.0164659979556625,
          1.0606601717798216,
          1.1048543456039808,
          1.14904851942814,
          1.193242693252299,
          1.2374368670764582,
          1.2811777553404435,
          1.3249186436044287,
          1.368659531868414,
          1.4124004201323994,
          1.4561413083963848,
          1.4998821966603701,
          1.5436230849243555,
          1.5873639731883409,
          1.6311048614523262,
          1.6748457497163114,
          1.7185866379802968,
          1.7623275262442821,
          1.8060684145082675,
          1.8498093027722529,
          1.893550191036238,
          1.9372910793002234,
          1.9810319675642087,
          2.024772855828194,
          2.0685137440921793,
          2.112254632356165,
          2.1559955206201504,
          2.201575805029858,
          2.2471560894395655,
          2.292736373849273,
          2.3383166582589805,
          2.383896942668688,
          2.4294772270783955,
          2.475057511488103,
          2.5206377958978106,
          2.566218080307518,
          2.6117983647172256,
          2.657378649126933,
          2.70295893353664,
          2.7485392179463473,
          2.7941195023560548,
          2.8396997867657623,
          2.8852800711754694,
          2.9308603555851764,
          2.976440639994884,
          3.0220209244045915,
          3.0657618126685766,
          3.1095027009325618,
          3.1532435891965473,
          3.1969844774605325,
          3.2407253657245176,
          3.2844662539885032,
          3.3282071422524884,
          3.3724013160766475,
          3.4165954899008066,
          3.4607896637249658,
          3.504983837549125,
          3.549178011373284,
          3.593372185197443,
          3.6375663590216023,
          3.6817605328457614,
          3.7259547066699206,
          3.7701488804940797,
          3.814343054318239,
          3.858537228142398,
          3.902278116406383,
          3.9460190046703683,
          3.9897598929343534,
          4.033500781198339,
          4.077241669462325,
          4.12098255772631,
          4.164723445990296,
          4.164723445990296,
          4.208464334254281,
          4.252205222518266,
          4.295946110782252,
          4.339686999046237,
          4.383427887310222,
          4.4271687755742075,
          4.470909663838193
         ],
         "xaxis": "x",
         "y": [
          -0.5153997649373006,
          2.3288221996483944,
          4.665238667326247,
          6.857000492607051,
          8.862431143644654,
          10.635298604746879,
          12.139751480185575,
          13.351041817006806,
          14.27035427875199,
          14.923666583338415,
          15.353545163374745,
          15.61148158240609,
          15.750342099631256,
          15.818407217691346,
          15.848485520712716,
          15.859816963542084,
          15.862262310596504,
          16.14147483403145,
          16.92908269715422,
          18.096144695674074,
          19.473290208568336,
          20.873084024482086,
          22.09771348488912,
          22.94731276877971,
          23.253815191604115,
          22.1959263874282,
          20.334622509741443,
          18.61983053943424,
          17.926711416419028,
          18.188325898175922,
          18.3444833267916,
          18.37707616921372,
          18.275141209918498,
          18.032758557460017,
          17.650492357992395,
          17.13413769078551,
          16.49178375441236,
          15.732128425527453,
          14.865456473445958,
          13.902280880086835,
          12.848872213648715,
          11.709763558183942,
          10.48973710538973,
          9.189813424559112,
          7.809397861099602,
          6.351567242114103,
          4.8262123782878765,
          3.24424539990965,
          1.59068942311156,
          -0.5153997649373006,
          1.4866185095502802,
          3.0723882171024837,
          4.5437475666954334,
          5.90536519977743,
          7.130572066394802,
          8.213732292800492,
          9.142727117931408,
          9.911424295990251,
          10.526431205353566,
          11.003032288151802,
          11.365136019094388,
          11.635976409357962,
          11.832706350163532,
          11.977200336907659,
          12.08363404715636,
          12.161029909259437,
          12.213209455144064,
          12.244671505936685,
          12.256059936352772,
          12.735876578115283,
          13.955981707119435,
          15.449650103857214,
          16.783657471050045,
          17.680691773645318,
          18.042229136215884,
          17.926759132981054,
          18.621431733815847,
          20.3354089407641,
          22.19541384128568,
          23.253815191604115,
          22.425089315138365,
          21.193108280828632,
          19.616095384237113,
          17.789429893129185,
          15.86309696247091,
          14.072472957795542,
          12.751621464750128,
          12.256059936352772,
          12.736215592616535,
          13.956931498079346,
          15.451409391512342,
          16.78521538812968,
          17.681038685067545,
          18.042012243186047,
          17.926711416419028,
          17.926759132981054,
          17.584966065784958,
          17.196202851239615,
          16.79824663438829,
          16.429206703803366,
          16.12858594492392,
          15.932677653886145,
          15.862262310596504
         ],
         "yaxis": "y"
        },
        {
         "marker": {
          "color": "#636EFA"
         },
         "mode": "lines",
         "showlegend": false,
         "type": "scatter",
         "x": [
          0,
          0.04419417382415922,
          0.08838834764831845,
          0.13258252147247768,
          0.1767766952966369,
          0.2209708691207961,
          0.26516504294495535,
          0.3093592167691146,
          0.35355339059327384,
          0.3977475644174331,
          0.44194173824159233,
          0.4861359120657516,
          0.5303300858899108,
          0.5745242597140701,
          0.6187184335382293,
          0.6629126073623886,
          0.7071067811865478,
          0.751300955010707,
          0.7954951288348663,
          0.8396893026590255,
          0.8838834764831848,
          0.928077650307344,
          0.9722718241315033,
          1.0164659979556625,
          1.0606601717798216,
          1.1048543456039808,
          1.14904851942814,
          1.193242693252299,
          1.2374368670764582,
          1.2811777553404435,
          1.3249186436044287,
          1.368659531868414,
          1.4124004201323994,
          1.4561413083963848,
          1.4998821966603701,
          1.5436230849243555,
          1.5873639731883409,
          1.6311048614523262,
          1.6748457497163114,
          1.7185866379802968,
          1.7623275262442821,
          1.8060684145082675,
          1.8498093027722529,
          1.893550191036238,
          1.9372910793002234,
          1.9810319675642087,
          2.024772855828194,
          2.0685137440921793,
          2.112254632356165,
          2.1559955206201504,
          2.201575805029858,
          2.2471560894395655,
          2.292736373849273,
          2.3383166582589805,
          2.383896942668688,
          2.4294772270783955,
          2.475057511488103,
          2.5206377958978106,
          2.566218080307518,
          2.6117983647172256,
          2.657378649126933,
          2.70295893353664,
          2.7485392179463473,
          2.7941195023560548,
          2.8396997867657623,
          2.8852800711754694,
          2.9308603555851764,
          2.976440639994884,
          3.0220209244045915,
          3.0657618126685766,
          3.1095027009325618,
          3.1532435891965473,
          3.1969844774605325,
          3.2407253657245176,
          3.2844662539885032,
          3.3282071422524884,
          3.3724013160766475,
          3.4165954899008066,
          3.4607896637249658,
          3.504983837549125,
          3.549178011373284,
          3.593372185197443,
          3.6375663590216023,
          3.6817605328457614,
          3.7259547066699206,
          3.7701488804940797,
          3.814343054318239,
          3.858537228142398,
          3.902278116406383,
          3.9460190046703683,
          3.9897598929343534,
          4.033500781198339,
          4.077241669462325,
          4.12098255772631,
          4.164723445990296,
          4.164723445990296,
          4.208464334254281,
          4.252205222518266,
          4.295946110782252,
          4.339686999046237,
          4.383427887310222,
          4.4271687755742075,
          4.470909663838193
         ],
         "xaxis": "x",
         "y": [
          -0.0684328740440945,
          2.3921865290201842,
          4.683735651069488,
          6.863101848404377,
          8.8686276937199,
          10.64244900218256,
          12.142505398596468,
          13.354197261540575,
          14.27648825801904,
          14.929481821459147,
          15.357681397078839,
          15.615293399871033,
          15.755544786852468,
          15.823674571802352,
          15.853871744906911,
          15.865392832520861,
          15.868321532227617,
          16.147586233037256,
          16.93516704933943,
          18.102010466877925,
          19.478424141101115,
          20.877797846326335,
          22.103045000197227,
          22.953401788652595,
          23.259735955287496,
          23.538128507785256,
          23.580216375673288,
          23.523585933939984,
          23.48895390702719,
          24.080649126946728,
          24.24802919952142,
          24.066661555555893,
          23.645837771367223,
          23.07270952321504,
          22.38959205023194,
          21.60644914016276,
          20.715772452337514,
          19.703634658560894,
          18.56320246599309,
          17.29557180424477,
          15.906006385855834,
          14.406945665470028,
          12.812309178057436,
          11.132048736635124,
          9.379652912635901,
          7.571087159392984,
          5.716704114302375,
          3.8264758669771606,
          1.9177181396039493,
          -0.0684328740440945,
          1.6045709598639661,
          3.093103706000747,
          4.5529334799985355,
          5.907356118888551,
          7.136115212688687,
          8.219141862069513,
          9.14595355611461,
          9.915341951260592,
          10.529887095414889,
          11.00524846071898,
          11.368312806522438,
          11.639442045322442,
          11.836349936999355,
          11.979034946069275,
          12.086915308940913,
          12.163838431610882,
          12.21569985500596,
          12.247058713630773,
          12.257262505024036,
          13.308728178784493,
          15.906178283597036,
          19.037574643383326,
          21.82318713247583,
          23.55695646938766,
          23.992153443197456,
          23.488834802918287,
          23.523987089703176,
          23.5806190002401,
          23.53837150929404,
          23.259735955287496,
          23.667118856494305,
          23.62343676724749,
          22.95495940628981,
          21.376078759066324,
          18.866013670680676,
          15.894809734019582,
          13.32273891308079,
          12.257262505024036,
          13.306976590534703,
          15.903624226331118,
          19.0361989553304,
          21.82217633310295,
          23.55587207907176,
          23.991649924690385,
          23.48895390702719,
          23.488834802918287,
          22.48232125985199,
          21.161240911197424,
          19.682597947962893,
          18.231139807079746,
          16.998565836770737,
          16.1632291477407,
          15.868321532227617
         ],
         "yaxis": "y"
        },
        {
         "marker": {
          "color": "#636EFA"
         },
         "mode": "lines",
         "showlegend": false,
         "type": "scatter",
         "x": [
          0,
          0.04419417382415922,
          0.08838834764831845,
          0.13258252147247768,
          0.1767766952966369,
          0.2209708691207961,
          0.26516504294495535,
          0.3093592167691146,
          0.35355339059327384,
          0.3977475644174331,
          0.44194173824159233,
          0.4861359120657516,
          0.5303300858899108,
          0.5745242597140701,
          0.6187184335382293,
          0.6629126073623886,
          0.7071067811865478,
          0.751300955010707,
          0.7954951288348663,
          0.8396893026590255,
          0.8838834764831848,
          0.928077650307344,
          0.9722718241315033,
          1.0164659979556625,
          1.0606601717798216,
          1.1048543456039808,
          1.14904851942814,
          1.193242693252299,
          1.2374368670764582,
          1.2811777553404435,
          1.3249186436044287,
          1.368659531868414,
          1.4124004201323994,
          1.4561413083963848,
          1.4998821966603701,
          1.5436230849243555,
          1.5873639731883409,
          1.6311048614523262,
          1.6748457497163114,
          1.7185866379802968,
          1.7623275262442821,
          1.8060684145082675,
          1.8498093027722529,
          1.893550191036238,
          1.9372910793002234,
          1.9810319675642087,
          2.024772855828194,
          2.0685137440921793,
          2.112254632356165,
          2.1559955206201504,
          2.201575805029858,
          2.2471560894395655,
          2.292736373849273,
          2.3383166582589805,
          2.383896942668688,
          2.4294772270783955,
          2.475057511488103,
          2.5206377958978106,
          2.566218080307518,
          2.6117983647172256,
          2.657378649126933,
          2.70295893353664,
          2.7485392179463473,
          2.7941195023560548,
          2.8396997867657623,
          2.8852800711754694,
          2.9308603555851764,
          2.976440639994884,
          3.0220209244045915,
          3.0657618126685766,
          3.1095027009325618,
          3.1532435891965473,
          3.1969844774605325,
          3.2407253657245176,
          3.2844662539885032,
          3.3282071422524884,
          3.3724013160766475,
          3.4165954899008066,
          3.4607896637249658,
          3.504983837549125,
          3.549178011373284,
          3.593372185197443,
          3.6375663590216023,
          3.6817605328457614,
          3.7259547066699206,
          3.7701488804940797,
          3.814343054318239,
          3.858537228142398,
          3.902278116406383,
          3.9460190046703683,
          3.9897598929343534,
          4.033500781198339,
          4.077241669462325,
          4.12098255772631,
          4.164723445990296,
          4.164723445990296,
          4.208464334254281,
          4.252205222518266,
          4.295946110782252,
          4.339686999046237,
          4.383427887310222,
          4.4271687755742075,
          4.470909663838193
         ],
         "xaxis": "x",
         "y": [
          0.40699471798237474,
          3.670322619767437,
          7.341188527979758,
          11.01216670002259,
          14.67164583115506,
          18.303971748331374,
          21.88508658997014,
          25.382477775489257,
          28.761543340900868,
          31.990948019207316,
          35.04582036134154,
          37.9114782325704,
          40.585431455278524,
          43.07527485936905,
          45.3936646264715,
          47.55221617428654,
          49.55568530172645,
          49.28958495927889,
          48.55657478843001,
          47.49655995257873,
          46.26097111077743,
          45.00539014803619,
          43.89974331358554,
          43.127050461152784,
          42.84759290081222,
          42.64317809066342,
          43.19340165137111,
          43.80365604406302,
          44.04779290797614,
          42.86812321929031,
          41.660778851204164,
          40.43144689375538,
          39.17608194708286,
          37.880602097260564,
          36.52166561743469,
          35.070003209078585,
          33.49497339518518,
          31.770428321082857,
          29.879373891763827,
          27.814054725983958,
          25.57650426951795,
          23.178234332008735,
          20.634091283398003,
          17.957479265010004,
          15.16249670083926,
          12.265716107257166,
          9.28280359531031,
          6.230541022246186,
          3.1376533298538054,
          0.40699471798237474,
          2.876401929099971,
          5.76164246252644,
          8.654114704797689,
          11.563675917384517,
          14.491912541505158,
          17.43106847077432,
          20.368831576885803,
          23.289873431076334,
          26.170614017942167,
          28.979903927131183,
          31.685261582964017,
          34.25742332212079,
          36.67016439399025,
          38.90210547408787,
          40.941647833419566,
          42.7816822432423,
          44.402467246919365,
          45.71145280934568,
          46.31179471100522,
          45.790702415598346,
          44.39005462616439,
          42.59420166812965,
          41.15768607759182,
          40.88009881212606,
          42.062289535662885,
          44.047286815325556,
          43.802778741113734,
          43.192973137990144,
          42.64331301375664,
          42.84759290081222,
          41.782811281604715,
          40.90825474785092,
          40.54269227698466,
          41.09298883456717,
          42.554068087283845,
          44.35776411732232,
          45.78023317282075,
          46.31179471100522,
          45.79083041882971,
          44.39017284162561,
          42.59419857895237,
          41.15797620397305,
          40.880642465387915,
          42.06280925085511,
          44.04779290797614,
          44.047286815325556,
          45.187102293266996,
          46.20920153938942,
          47.174452507124236,
          48.11037135173695,
          48.87965034656873,
          49.38022139940834,
          49.55568530172645
         ],
         "yaxis": "y"
        },
        {
         "marker": {
          "color": "#636EFA"
         },
         "mode": "lines",
         "showlegend": false,
         "type": "scatter",
         "x": [
          0,
          0.04419417382415922,
          0.08838834764831845,
          0.13258252147247768,
          0.1767766952966369,
          0.2209708691207961,
          0.26516504294495535,
          0.3093592167691146,
          0.35355339059327384,
          0.3977475644174331,
          0.44194173824159233,
          0.4861359120657516,
          0.5303300858899108,
          0.5745242597140701,
          0.6187184335382293,
          0.6629126073623886,
          0.7071067811865478,
          0.751300955010707,
          0.7954951288348663,
          0.8396893026590255,
          0.8838834764831848,
          0.928077650307344,
          0.9722718241315033,
          1.0164659979556625,
          1.0606601717798216,
          1.1048543456039808,
          1.14904851942814,
          1.193242693252299,
          1.2374368670764582,
          1.2811777553404435,
          1.3249186436044287,
          1.368659531868414,
          1.4124004201323994,
          1.4561413083963848,
          1.4998821966603701,
          1.5436230849243555,
          1.5873639731883409,
          1.6311048614523262,
          1.6748457497163114,
          1.7185866379802968,
          1.7623275262442821,
          1.8060684145082675,
          1.8498093027722529,
          1.893550191036238,
          1.9372910793002234,
          1.9810319675642087,
          2.024772855828194,
          2.0685137440921793,
          2.112254632356165,
          2.1559955206201504,
          2.201575805029858,
          2.2471560894395655,
          2.292736373849273,
          2.3383166582589805,
          2.383896942668688,
          2.4294772270783955,
          2.475057511488103,
          2.5206377958978106,
          2.566218080307518,
          2.6117983647172256,
          2.657378649126933,
          2.70295893353664,
          2.7485392179463473,
          2.7941195023560548,
          2.8396997867657623,
          2.8852800711754694,
          2.9308603555851764,
          2.976440639994884,
          3.0220209244045915,
          3.0657618126685766,
          3.1095027009325618,
          3.1532435891965473,
          3.1969844774605325,
          3.2407253657245176,
          3.2844662539885032,
          3.3282071422524884,
          3.3724013160766475,
          3.4165954899008066,
          3.4607896637249658,
          3.504983837549125,
          3.549178011373284,
          3.593372185197443,
          3.6375663590216023,
          3.6817605328457614,
          3.7259547066699206,
          3.7701488804940797,
          3.814343054318239,
          3.858537228142398,
          3.902278116406383,
          3.9460190046703683,
          3.9897598929343534,
          4.033500781198339,
          4.077241669462325,
          4.12098255772631,
          4.164723445990296,
          4.164723445990296,
          4.208464334254281,
          4.252205222518266,
          4.295946110782252,
          4.339686999046237,
          4.383427887310222,
          4.4271687755742075,
          4.470909663838193
         ],
         "xaxis": "x",
         "y": [
          60.40943329870688,
          60.29854456539762,
          59.97308344708572,
          59.46824680137212,
          58.84467143993701,
          58.17459384042373,
          57.525849520692994,
          56.952833070242455,
          56.48766547039203,
          56.13928954578733,
          55.895860764863215,
          55.73274840555998,
          55.62361190481018,
          54.597036684457095,
          53.08806068070674,
          51.404410665247475,
          49.55730436037251,
          49.29167746818585,
          48.558093642101205,
          47.49724975543415,
          46.2619961577039,
          45.007004692851666,
          43.901511750697,
          43.12863606623628,
          42.84841968965569,
          43.60874792510774,
          44.25627935902492,
          44.697699187234896,
          44.855278621391236,
          44.76482817594775,
          45.14418838668667,
          45.93446755264559,
          47.02371215327253,
          48.29544794849903,
          49.654615128125215,
          51.03013873615732,
          52.369272391038024,
          53.633472409431725,
          54.7965146520708,
          55.84278469814274,
          56.765097400202606,
          57.56412343178625,
          58.24764514185279,
          58.82683523188612,
          59.18491492783413,
          59.5004511433959,
          59.83681638987305,
          60.13767885580673,
          60.345164058588296,
          60.40943329870688,
          60.367953200286244,
          60.22885531600222,
          60.011212478735665,
          59.736313105652634,
          59.42450936484904,
          59.09123092203669,
          58.7406591100755,
          58.363059692643745,
          57.940084275087685,
          57.447791887045504,
          56.86144621434574,
          56.16357605084101,
          55.346679534347054,
          54.415149735029196,
          53.385187794252396,
          52.28364157874935,
          51.15811666444595,
          50.131286002750386,
          49.622356657059264,
          49.521902682512,
          49.19957203660895,
          48.61827321483322,
          47.77993632391672,
          46.75941709447703,
          45.679034105068304,
          44.85501966571936,
          44.69741412685199,
          44.25563846409843,
          43.60832947070768,
          42.84841968965569,
          44.011354030968825,
          45.255096611074684,
          46.51412545005,
          47.663244889061936,
          48.575003437327545,
          49.18758077175857,
          49.51978493826291,
          49.622356657059264,
          49.522032393316856,
          49.19947141568201,
          48.617563615886105,
          47.77917397833125,
          46.759134353159745,
          45.67926748884313,
          44.855278621391236,
          44.85501966571936,
          45.3796788376365,
          46.27003570299348,
          47.27367495073301,
          48.16429591098266,
          48.890713279814264,
          49.38268281378072,
          49.55730436037251
         ],
         "yaxis": "y"
        },
        {
         "marker": {
          "color": "#636EFA"
         },
         "mode": "lines",
         "showlegend": false,
         "type": "scatter",
         "x": [
          0,
          0.04419417382415922,
          0.08838834764831845,
          0.13258252147247768,
          0.1767766952966369,
          0.2209708691207961,
          0.26516504294495535,
          0.3093592167691146,
          0.35355339059327384,
          0.3977475644174331,
          0.44194173824159233,
          0.4861359120657516,
          0.5303300858899108,
          0.5745242597140701,
          0.6187184335382293,
          0.6629126073623886,
          0.7071067811865478,
          0.751300955010707,
          0.7954951288348663,
          0.8396893026590255,
          0.8838834764831848,
          0.928077650307344,
          0.9722718241315033,
          1.0164659979556625,
          1.0606601717798216,
          1.1048543456039808,
          1.14904851942814,
          1.193242693252299,
          1.2374368670764582,
          1.2811777553404435,
          1.3249186436044287,
          1.368659531868414,
          1.4124004201323994,
          1.4561413083963848,
          1.4998821966603701,
          1.5436230849243555,
          1.5873639731883409,
          1.6311048614523262,
          1.6748457497163114,
          1.7185866379802968,
          1.7623275262442821,
          1.8060684145082675,
          1.8498093027722529,
          1.893550191036238,
          1.9372910793002234,
          1.9810319675642087,
          2.024772855828194,
          2.0685137440921793,
          2.112254632356165,
          2.1559955206201504,
          2.201575805029858,
          2.2471560894395655,
          2.292736373849273,
          2.3383166582589805,
          2.383896942668688,
          2.4294772270783955,
          2.475057511488103,
          2.5206377958978106,
          2.566218080307518,
          2.6117983647172256,
          2.657378649126933,
          2.70295893353664,
          2.7485392179463473,
          2.7941195023560548,
          2.8396997867657623,
          2.8852800711754694,
          2.9308603555851764,
          2.976440639994884,
          3.0220209244045915,
          3.0657618126685766,
          3.1095027009325618,
          3.1532435891965473,
          3.1969844774605325,
          3.2407253657245176,
          3.2844662539885032,
          3.3282071422524884,
          3.3724013160766475,
          3.4165954899008066,
          3.4607896637249658,
          3.504983837549125,
          3.549178011373284,
          3.593372185197443,
          3.6375663590216023,
          3.6817605328457614,
          3.7259547066699206,
          3.7701488804940797,
          3.814343054318239,
          3.858537228142398,
          3.902278116406383,
          3.9460190046703683,
          3.9897598929343534,
          4.033500781198339,
          4.077241669462325,
          4.12098255772631,
          4.164723445990296,
          4.164723445990296,
          4.208464334254281,
          4.252205222518266,
          4.295946110782252,
          4.339686999046237,
          4.383427887310222,
          4.4271687755742075,
          4.470909663838193
         ],
         "xaxis": "x",
         "y": [
          60.42041745015768,
          60.306364795607564,
          59.975487634933806,
          59.469166346788164,
          58.845985216746534,
          58.17610794319176,
          57.527930643746366,
          56.954716060935446,
          56.489828689551715,
          56.141435786214956,
          55.89710455584302,
          55.73380168870284,
          55.62591085180722,
          55.54893545198542,
          55.49851532514376,
          55.468427646183265,
          55.458330276168965,
          55.53366404767433,
          55.71504469364746,
          55.92080973030833,
          56.095283331028575,
          56.21834107062156,
          56.29369693240623,
          56.33186893226095,
          56.3426798729341,
          56.10540043244759,
          55.845186598573534,
          55.64105024592952,
          55.56293535037013,
          55.646226011485794,
          55.762474770499196,
          55.913988892430744,
          56.100685771228456,
          56.32162655770568,
          56.574895151156554,
          56.85678671950052,
          57.161979481440035,
          57.485256236835525,
          57.82150644556126,
          58.16443587487597,
          58.50728256282904,
          58.66194116993523,
          58.75909881896357,
          58.93152060974329,
          59.311725729454565,
          59.70809437158634,
          60.01750585699541,
          60.23988886642707,
          60.37414988170138,
          60.42041745015768,
          60.37994643652678,
          60.277735112335414,
          60.11539434393936,
          59.91108030351238,
          59.68545958761312,
          59.45814202811135,
          59.247772211442175,
          59.07034083941784,
          58.93415898856692,
          58.84142512184841,
          58.78905238615201,
          58.77121001978791,
          58.778589563300024,
          58.80148308550368,
          58.83051035944397,
          58.860164137442275,
          58.8844856995426,
          58.90015507093891,
          58.905356219135356,
          58.7212355814315,
          58.21333927389739,
          57.503847562630554,
          56.758478342839574,
          56.1351935196492,
          55.732130790634024,
          55.561927122035115,
          55.63936231916724,
          55.84389572101267,
          56.10494936274705,
          56.3426798729341,
          56.13104939493442,
          56.14331646427644,
          56.42793248490926,
          56.943650418641695,
          57.58886044317547,
          58.23209926101878,
          58.720800737833756,
          58.905356219135356,
          58.72273908161302,
          58.214218899469124,
          57.50433569442513,
          56.75887079211526,
          56.13600927029937,
          55.73340774556899,
          55.56293535037013,
          55.561927122035115,
          55.507119111136824,
          55.47444928649983,
          55.45855248544512,
          55.45380013978173,
          55.45475319371873,
          55.457226225461376,
          55.458330276168965
         ],
         "yaxis": "y"
        },
        {
         "marker": {
          "color": "#636EFA"
         },
         "mode": "lines",
         "showlegend": false,
         "type": "scatter",
         "x": [
          0,
          0.04419417382415922,
          0.08838834764831845,
          0.13258252147247768,
          0.1767766952966369,
          0.2209708691207961,
          0.26516504294495535,
          0.3093592167691146,
          0.35355339059327384,
          0.3977475644174331,
          0.44194173824159233,
          0.4861359120657516,
          0.5303300858899108,
          0.5745242597140701,
          0.6187184335382293,
          0.6629126073623886,
          0.7071067811865478,
          0.751300955010707,
          0.7954951288348663,
          0.8396893026590255,
          0.8838834764831848,
          0.928077650307344,
          0.9722718241315033,
          1.0164659979556625,
          1.0606601717798216,
          1.1048543456039808,
          1.14904851942814,
          1.193242693252299,
          1.2374368670764582,
          1.2811777553404435,
          1.3249186436044287,
          1.368659531868414,
          1.4124004201323994,
          1.4561413083963848,
          1.4998821966603701,
          1.5436230849243555,
          1.5873639731883409,
          1.6311048614523262,
          1.6748457497163114,
          1.7185866379802968,
          1.7623275262442821,
          1.8060684145082675,
          1.8498093027722529,
          1.893550191036238,
          1.9372910793002234,
          1.9810319675642087,
          2.024772855828194,
          2.0685137440921793,
          2.112254632356165,
          2.1559955206201504,
          2.201575805029858,
          2.2471560894395655,
          2.292736373849273,
          2.3383166582589805,
          2.383896942668688,
          2.4294772270783955,
          2.475057511488103,
          2.5206377958978106,
          2.566218080307518,
          2.6117983647172256,
          2.657378649126933,
          2.70295893353664,
          2.7485392179463473,
          2.7941195023560548,
          2.8396997867657623,
          2.8852800711754694,
          2.9308603555851764,
          2.976440639994884,
          3.0220209244045915,
          3.0657618126685766,
          3.1095027009325618,
          3.1532435891965473,
          3.1969844774605325,
          3.2407253657245176,
          3.2844662539885032,
          3.3282071422524884,
          3.3724013160766475,
          3.4165954899008066,
          3.4607896637249658,
          3.504983837549125,
          3.549178011373284,
          3.593372185197443,
          3.6375663590216023,
          3.6817605328457614,
          3.7259547066699206,
          3.7701488804940797,
          3.814343054318239,
          3.858537228142398,
          3.902278116406383,
          3.9460190046703683,
          3.9897598929343534,
          4.033500781198339,
          4.077241669462325,
          4.12098255772631,
          4.164723445990296,
          4.164723445990296,
          4.208464334254281,
          4.252205222518266,
          4.295946110782252,
          4.339686999046237,
          4.383427887310222,
          4.4271687755742075,
          4.470909663838193
         ],
         "xaxis": "x",
         "y": [
          60.422134423185575,
          60.42152463886847,
          60.42189959552053,
          60.40926981714171,
          60.363881995865434,
          60.26108368487402,
          60.074711745127786,
          59.778611113359155,
          59.3476390632992,
          58.760208759685,
          58.00008927061054,
          57.055999974788016,
          55.92166757959266,
          55.552218115513405,
          55.501078028827905,
          55.469950257662056,
          55.459402485041885,
          55.53493489955386,
          55.71686762181597,
          55.92272228474432,
          56.096943991282856,
          56.22063723806399,
          56.29555189222878,
          56.33323457734612,
          56.34477709384741,
          56.622964508585554,
          57.007323932933666,
          57.36021590172449,
          57.50581845212735,
          57.71351196625972,
          57.87636993845736,
          58.005746320469655,
          58.11372550834914,
          58.210762647115196,
          58.30313164430895,
          58.39065082863204,
          58.468177402176146,
          58.52922073978528,
          58.56991425781047,
          58.59412092371489,
          58.61662206649795,
          58.84333378794825,
          59.16567892060535,
          59.467047337694595,
          59.73896979125621,
          59.97342605757303,
          60.16375343905137,
          60.302862517693754,
          60.386421541654904,
          60.422134423185575,
          60.38543704309454,
          60.27948554488437,
          60.11657687070965,
          59.91268404308459,
          59.68704246745791,
          59.45939088886195,
          59.24902325806786,
          59.07130601972219,
          58.93521792421194,
          58.84201839815713,
          58.78979389142597,
          58.77183653565704,
          58.77942994764167,
          58.80195272159318,
          58.83130300612251,
          58.8609679330329,
          58.885939093334635,
          58.90188314627756,
          58.90761032973175,
          58.79365412808475,
          58.517076848713955,
          58.21396514668352,
          57.98316714445326,
          57.83181401617362,
          57.69717187996744,
          57.506404688682224,
          57.36066877492036,
          57.00727431734179,
          56.62257294434611,
          56.34477709384741,
          56.67049773515141,
          57.01433933658671,
          57.34480123464093,
          57.68957671655919,
          58.07730500348656,
          58.4762924823896,
          58.788070974084704,
          58.90761032973175,
          58.79196038441648,
          58.51598760226552,
          58.21360475266771,
          57.983283119696814,
          57.8320355955071,
          57.69704851323287,
          57.50581845212735,
          57.506404688682224,
          57.2460449244737,
          56.93164279926182,
          56.57191511666464,
          56.190247567832486,
          55.83046866579447,
          55.56120779357164,
          55.459402485041885
         ],
         "yaxis": "y"
        },
        {
         "mode": "lines+markers",
         "showlegend": false,
         "type": "scatter",
         "x": [
          0,
          0,
          0,
          0,
          0,
          0,
          8.333333333333333e-05,
          0.00016666666666666666,
          0.00025,
          0.0007083333333333334,
          0.00075,
          0.0015833333333333333,
          0.001625,
          0.002625,
          0.003625,
          0.005208333333333333,
          0.008666666666666666,
          0.01775,
          0.020416666666666666,
          0.021916666666666668,
          0.029083333333333333,
          0.0365,
          0.03870833333333334,
          0.03225,
          0.02733333333333333,
          0.025291666666666667,
          0.022708333333333334,
          0.022875,
          0.0225,
          0.004166666666666667,
          0.001875,
          0.002625,
          0.00175,
          0.00325,
          0.0020416666666666665,
          0.003875,
          0.003625,
          0.005125,
          0.004,
          0.006375,
          0.005916666666666667,
          0.008875,
          0.00825,
          0.011416666666666665,
          0.015875,
          0.023375,
          0.015875,
          0.011375,
          0.007916666666666667,
          0.009625,
          0.011791666666666666,
          0.012833333333333334,
          0.013166666666666667,
          0.01525,
          0.015625,
          0.013166666666666667,
          0.011875,
          0.013041666666666667,
          0.0115,
          0.009791666666666666,
          0.043541666666666666,
          0.10091666666666667,
          0.11,
          0.09483333333333333,
          0.01920833333333333,
          0.003625,
          0,
          0,
          0,
          0,
          0,
          0,
          0,
          0,
          0
         ],
         "xaxis": "x2",
         "y": [
          -4.5,
          -3.5,
          -2.5,
          -1.5,
          -0.5,
          0.5,
          1.5,
          2.5,
          3.5,
          4.5,
          5.5,
          6.5,
          7.5,
          8.5,
          9.5,
          10.5,
          11.5,
          12.5,
          13.5,
          14.5,
          15.5,
          16.5,
          17.5,
          18.5,
          19.5,
          20.5,
          21.5,
          22.5,
          23.5,
          24.5,
          25.5,
          26.5,
          27.5,
          28.5,
          29.5,
          30.5,
          31.5,
          32.5,
          33.5,
          34.5,
          35.5,
          36.5,
          37.5,
          38.5,
          39.5,
          40.5,
          41.5,
          42.5,
          43.5,
          44.5,
          45.5,
          46.5,
          47.5,
          48.5,
          49.5,
          50.5,
          51.5,
          52.5,
          53.5,
          54.5,
          55.5,
          56.5,
          57.5,
          58.5,
          59.5,
          60.5,
          61.5,
          62.5,
          63.5,
          64.5,
          65.5,
          66.5,
          67.5,
          68.5,
          69.5
         ],
         "yaxis": "y2"
        }
       ],
       "layout": {
        "height": 500,
        "shapes": [
         {
          "line": {
           "color": "gray",
           "dash": "dash",
           "width": 1
          },
          "type": "line",
          "x0": 4.164723445990296,
          "x1": 4.164723445990296,
          "xref": "x",
          "y0": 0,
          "y1": 1,
          "yref": "y domain"
         }
        ],
        "template": {
         "data": {
          "bar": [
           {
            "error_x": {
             "color": "#2a3f5f"
            },
            "error_y": {
             "color": "#2a3f5f"
            },
            "marker": {
             "line": {
              "color": "#E5ECF6",
              "width": 0.5
             },
             "pattern": {
              "fillmode": "overlay",
              "size": 10,
              "solidity": 0.2
             }
            },
            "type": "bar"
           }
          ],
          "barpolar": [
           {
            "marker": {
             "line": {
              "color": "#E5ECF6",
              "width": 0.5
             },
             "pattern": {
              "fillmode": "overlay",
              "size": 10,
              "solidity": 0.2
             }
            },
            "type": "barpolar"
           }
          ],
          "carpet": [
           {
            "aaxis": {
             "endlinecolor": "#2a3f5f",
             "gridcolor": "white",
             "linecolor": "white",
             "minorgridcolor": "white",
             "startlinecolor": "#2a3f5f"
            },
            "baxis": {
             "endlinecolor": "#2a3f5f",
             "gridcolor": "white",
             "linecolor": "white",
             "minorgridcolor": "white",
             "startlinecolor": "#2a3f5f"
            },
            "type": "carpet"
           }
          ],
          "choropleth": [
           {
            "colorbar": {
             "outlinewidth": 0,
             "ticks": ""
            },
            "type": "choropleth"
           }
          ],
          "contour": [
           {
            "colorbar": {
             "outlinewidth": 0,
             "ticks": ""
            },
            "colorscale": [
             [
              0,
              "#0d0887"
             ],
             [
              0.1111111111111111,
              "#46039f"
             ],
             [
              0.2222222222222222,
              "#7201a8"
             ],
             [
              0.3333333333333333,
              "#9c179e"
             ],
             [
              0.4444444444444444,
              "#bd3786"
             ],
             [
              0.5555555555555556,
              "#d8576b"
             ],
             [
              0.6666666666666666,
              "#ed7953"
             ],
             [
              0.7777777777777778,
              "#fb9f3a"
             ],
             [
              0.8888888888888888,
              "#fdca26"
             ],
             [
              1,
              "#f0f921"
             ]
            ],
            "type": "contour"
           }
          ],
          "contourcarpet": [
           {
            "colorbar": {
             "outlinewidth": 0,
             "ticks": ""
            },
            "type": "contourcarpet"
           }
          ],
          "heatmap": [
           {
            "colorbar": {
             "outlinewidth": 0,
             "ticks": ""
            },
            "colorscale": [
             [
              0,
              "#0d0887"
             ],
             [
              0.1111111111111111,
              "#46039f"
             ],
             [
              0.2222222222222222,
              "#7201a8"
             ],
             [
              0.3333333333333333,
              "#9c179e"
             ],
             [
              0.4444444444444444,
              "#bd3786"
             ],
             [
              0.5555555555555556,
              "#d8576b"
             ],
             [
              0.6666666666666666,
              "#ed7953"
             ],
             [
              0.7777777777777778,
              "#fb9f3a"
             ],
             [
              0.8888888888888888,
              "#fdca26"
             ],
             [
              1,
              "#f0f921"
             ]
            ],
            "type": "heatmap"
           }
          ],
          "heatmapgl": [
           {
            "colorbar": {
             "outlinewidth": 0,
             "ticks": ""
            },
            "colorscale": [
             [
              0,
              "#0d0887"
             ],
             [
              0.1111111111111111,
              "#46039f"
             ],
             [
              0.2222222222222222,
              "#7201a8"
             ],
             [
              0.3333333333333333,
              "#9c179e"
             ],
             [
              0.4444444444444444,
              "#bd3786"
             ],
             [
              0.5555555555555556,
              "#d8576b"
             ],
             [
              0.6666666666666666,
              "#ed7953"
             ],
             [
              0.7777777777777778,
              "#fb9f3a"
             ],
             [
              0.8888888888888888,
              "#fdca26"
             ],
             [
              1,
              "#f0f921"
             ]
            ],
            "type": "heatmapgl"
           }
          ],
          "histogram": [
           {
            "marker": {
             "pattern": {
              "fillmode": "overlay",
              "size": 10,
              "solidity": 0.2
             }
            },
            "type": "histogram"
           }
          ],
          "histogram2d": [
           {
            "colorbar": {
             "outlinewidth": 0,
             "ticks": ""
            },
            "colorscale": [
             [
              0,
              "#0d0887"
             ],
             [
              0.1111111111111111,
              "#46039f"
             ],
             [
              0.2222222222222222,
              "#7201a8"
             ],
             [
              0.3333333333333333,
              "#9c179e"
             ],
             [
              0.4444444444444444,
              "#bd3786"
             ],
             [
              0.5555555555555556,
              "#d8576b"
             ],
             [
              0.6666666666666666,
              "#ed7953"
             ],
             [
              0.7777777777777778,
              "#fb9f3a"
             ],
             [
              0.8888888888888888,
              "#fdca26"
             ],
             [
              1,
              "#f0f921"
             ]
            ],
            "type": "histogram2d"
           }
          ],
          "histogram2dcontour": [
           {
            "colorbar": {
             "outlinewidth": 0,
             "ticks": ""
            },
            "colorscale": [
             [
              0,
              "#0d0887"
             ],
             [
              0.1111111111111111,
              "#46039f"
             ],
             [
              0.2222222222222222,
              "#7201a8"
             ],
             [
              0.3333333333333333,
              "#9c179e"
             ],
             [
              0.4444444444444444,
              "#bd3786"
             ],
             [
              0.5555555555555556,
              "#d8576b"
             ],
             [
              0.6666666666666666,
              "#ed7953"
             ],
             [
              0.7777777777777778,
              "#fb9f3a"
             ],
             [
              0.8888888888888888,
              "#fdca26"
             ],
             [
              1,
              "#f0f921"
             ]
            ],
            "type": "histogram2dcontour"
           }
          ],
          "mesh3d": [
           {
            "colorbar": {
             "outlinewidth": 0,
             "ticks": ""
            },
            "type": "mesh3d"
           }
          ],
          "parcoords": [
           {
            "line": {
             "colorbar": {
              "outlinewidth": 0,
              "ticks": ""
             }
            },
            "type": "parcoords"
           }
          ],
          "pie": [
           {
            "automargin": true,
            "type": "pie"
           }
          ],
          "scatter": [
           {
            "fillpattern": {
             "fillmode": "overlay",
             "size": 10,
             "solidity": 0.2
            },
            "type": "scatter"
           }
          ],
          "scatter3d": [
           {
            "line": {
             "colorbar": {
              "outlinewidth": 0,
              "ticks": ""
             }
            },
            "marker": {
             "colorbar": {
              "outlinewidth": 0,
              "ticks": ""
             }
            },
            "type": "scatter3d"
           }
          ],
          "scattercarpet": [
           {
            "marker": {
             "colorbar": {
              "outlinewidth": 0,
              "ticks": ""
             }
            },
            "type": "scattercarpet"
           }
          ],
          "scattergeo": [
           {
            "marker": {
             "colorbar": {
              "outlinewidth": 0,
              "ticks": ""
             }
            },
            "type": "scattergeo"
           }
          ],
          "scattergl": [
           {
            "marker": {
             "colorbar": {
              "outlinewidth": 0,
              "ticks": ""
             }
            },
            "type": "scattergl"
           }
          ],
          "scattermapbox": [
           {
            "marker": {
             "colorbar": {
              "outlinewidth": 0,
              "ticks": ""
             }
            },
            "type": "scattermapbox"
           }
          ],
          "scatterpolar": [
           {
            "marker": {
             "colorbar": {
              "outlinewidth": 0,
              "ticks": ""
             }
            },
            "type": "scatterpolar"
           }
          ],
          "scatterpolargl": [
           {
            "marker": {
             "colorbar": {
              "outlinewidth": 0,
              "ticks": ""
             }
            },
            "type": "scatterpolargl"
           }
          ],
          "scatterternary": [
           {
            "marker": {
             "colorbar": {
              "outlinewidth": 0,
              "ticks": ""
             }
            },
            "type": "scatterternary"
           }
          ],
          "surface": [
           {
            "colorbar": {
             "outlinewidth": 0,
             "ticks": ""
            },
            "colorscale": [
             [
              0,
              "#0d0887"
             ],
             [
              0.1111111111111111,
              "#46039f"
             ],
             [
              0.2222222222222222,
              "#7201a8"
             ],
             [
              0.3333333333333333,
              "#9c179e"
             ],
             [
              0.4444444444444444,
              "#bd3786"
             ],
             [
              0.5555555555555556,
              "#d8576b"
             ],
             [
              0.6666666666666666,
              "#ed7953"
             ],
             [
              0.7777777777777778,
              "#fb9f3a"
             ],
             [
              0.8888888888888888,
              "#fdca26"
             ],
             [
              1,
              "#f0f921"
             ]
            ],
            "type": "surface"
           }
          ],
          "table": [
           {
            "cells": {
             "fill": {
              "color": "#EBF0F8"
             },
             "line": {
              "color": "white"
             }
            },
            "header": {
             "fill": {
              "color": "#C8D4E3"
             },
             "line": {
              "color": "white"
             }
            },
            "type": "table"
           }
          ]
         },
         "layout": {
          "annotationdefaults": {
           "arrowcolor": "#2a3f5f",
           "arrowhead": 0,
           "arrowwidth": 1
          },
          "autotypenumbers": "strict",
          "coloraxis": {
           "colorbar": {
            "outlinewidth": 0,
            "ticks": ""
           }
          },
          "colorscale": {
           "diverging": [
            [
             0,
             "#8e0152"
            ],
            [
             0.1,
             "#c51b7d"
            ],
            [
             0.2,
             "#de77ae"
            ],
            [
             0.3,
             "#f1b6da"
            ],
            [
             0.4,
             "#fde0ef"
            ],
            [
             0.5,
             "#f7f7f7"
            ],
            [
             0.6,
             "#e6f5d0"
            ],
            [
             0.7,
             "#b8e186"
            ],
            [
             0.8,
             "#7fbc41"
            ],
            [
             0.9,
             "#4d9221"
            ],
            [
             1,
             "#276419"
            ]
           ],
           "sequential": [
            [
             0,
             "#0d0887"
            ],
            [
             0.1111111111111111,
             "#46039f"
            ],
            [
             0.2222222222222222,
             "#7201a8"
            ],
            [
             0.3333333333333333,
             "#9c179e"
            ],
            [
             0.4444444444444444,
             "#bd3786"
            ],
            [
             0.5555555555555556,
             "#d8576b"
            ],
            [
             0.6666666666666666,
             "#ed7953"
            ],
            [
             0.7777777777777778,
             "#fb9f3a"
            ],
            [
             0.8888888888888888,
             "#fdca26"
            ],
            [
             1,
             "#f0f921"
            ]
           ],
           "sequentialminus": [
            [
             0,
             "#0d0887"
            ],
            [
             0.1111111111111111,
             "#46039f"
            ],
            [
             0.2222222222222222,
             "#7201a8"
            ],
            [
             0.3333333333333333,
             "#9c179e"
            ],
            [
             0.4444444444444444,
             "#bd3786"
            ],
            [
             0.5555555555555556,
             "#d8576b"
            ],
            [
             0.6666666666666666,
             "#ed7953"
            ],
            [
             0.7777777777777778,
             "#fb9f3a"
            ],
            [
             0.8888888888888888,
             "#fdca26"
            ],
            [
             1,
             "#f0f921"
            ]
           ]
          },
          "colorway": [
           "#636efa",
           "#EF553B",
           "#00cc96",
           "#ab63fa",
           "#FFA15A",
           "#19d3f3",
           "#FF6692",
           "#B6E880",
           "#FF97FF",
           "#FECB52"
          ],
          "font": {
           "color": "#2a3f5f"
          },
          "geo": {
           "bgcolor": "white",
           "lakecolor": "white",
           "landcolor": "#E5ECF6",
           "showlakes": true,
           "showland": true,
           "subunitcolor": "white"
          },
          "hoverlabel": {
           "align": "left"
          },
          "hovermode": "closest",
          "mapbox": {
           "style": "light"
          },
          "paper_bgcolor": "white",
          "plot_bgcolor": "#E5ECF6",
          "polar": {
           "angularaxis": {
            "gridcolor": "white",
            "linecolor": "white",
            "ticks": ""
           },
           "bgcolor": "#E5ECF6",
           "radialaxis": {
            "gridcolor": "white",
            "linecolor": "white",
            "ticks": ""
           }
          },
          "scene": {
           "xaxis": {
            "backgroundcolor": "#E5ECF6",
            "gridcolor": "white",
            "gridwidth": 2,
            "linecolor": "white",
            "showbackground": true,
            "ticks": "",
            "zerolinecolor": "white"
           },
           "yaxis": {
            "backgroundcolor": "#E5ECF6",
            "gridcolor": "white",
            "gridwidth": 2,
            "linecolor": "white",
            "showbackground": true,
            "ticks": "",
            "zerolinecolor": "white"
           },
           "zaxis": {
            "backgroundcolor": "#E5ECF6",
            "gridcolor": "white",
            "gridwidth": 2,
            "linecolor": "white",
            "showbackground": true,
            "ticks": "",
            "zerolinecolor": "white"
           }
          },
          "shapedefaults": {
           "line": {
            "color": "#2a3f5f"
           }
          },
          "ternary": {
           "aaxis": {
            "gridcolor": "white",
            "linecolor": "white",
            "ticks": ""
           },
           "baxis": {
            "gridcolor": "white",
            "linecolor": "white",
            "ticks": ""
           },
           "bgcolor": "#E5ECF6",
           "caxis": {
            "gridcolor": "white",
            "linecolor": "white",
            "ticks": ""
           }
          },
          "title": {
           "x": 0.05
          },
          "xaxis": {
           "automargin": true,
           "gridcolor": "white",
           "linecolor": "white",
           "ticks": "",
           "title": {
            "standoff": 15
           },
           "zerolinecolor": "white",
           "zerolinewidth": 2
          },
          "yaxis": {
           "automargin": true,
           "gridcolor": "white",
           "linecolor": "white",
           "ticks": "",
           "title": {
            "standoff": 15
           },
           "zerolinecolor": "white",
           "zerolinewidth": 2
          }
         }
        },
        "width": 1000,
        "xaxis": {
         "anchor": "y",
         "autorange": true,
         "domain": [
          0,
          0.63
         ],
         "range": [
          0,
          4.470909663838193
         ],
         "ticktext": [
          "G",
          "X",
          "W",
          "K",
          "G",
          "L",
          "U",
          "W",
          "L",
          "K|U",
          "X"
         ],
         "tickvals": [
          0,
          0.7071067811865478,
          1.0606601717798216,
          1.2374368670764582,
          2.1559955206201504,
          3.0220209244045915,
          3.3282071422524884,
          3.504983837549125,
          3.858537228142398,
          4.164723445990296,
          4.470909663838193
         ],
         "type": "linear"
        },
        "xaxis2": {
         "anchor": "y2",
         "autorange": true,
         "domain": [
          0.73,
          1
         ],
         "range": [
          -0.00844217271895026,
          0.11844217271895026
         ],
         "showticklabels": false,
         "title": {
          "text": "DOS"
         },
         "type": "linear"
        },
        "yaxis": {
         "anchor": "x",
         "domain": [
          0,
          1
         ],
         "range": [
          -4.5,
          69.5
         ],
         "title": {
          "text": "Frequency (meV)"
         },
         "type": "linear"
        },
        "yaxis2": {
         "anchor": "x2",
         "domain": [
          0,
          1
         ],
         "range": [
          -4.5,
          69.5
         ],
         "showticklabels": false,
         "title": {
          "text": ""
         },
         "type": "linear"
        }
       }
      },
      "image/png": "[encoded data removed]",
      "text/html": [
       "<div>                            <div id=\"ec3d695f-6930-4f9c-ac57-8309430239a7\" class=\"plotly-graph-div\" style=\"height:500px; width:1000px;\"></div>            <script type=\"text/javascript\">                require([\"plotly\"], function(Plotly) {                    window.PLOTLYENV=window.PLOTLYENV || {};                                    if (document.getElementById(\"ec3d695f-6930-4f9c-ac57-8309430239a7\")) {                    Plotly.newPlot(                        \"ec3d695f-6930-4f9c-ac57-8309430239a7\",                        [{\"marker\":{\"color\":\"#636EFA\"},\"mode\":\"lines\",\"showlegend\":false,\"x\":[0.0,0.04419417382415922,0.08838834764831845,0.13258252147247768,0.1767766952966369,0.2209708691207961,0.26516504294495535,0.3093592167691146,0.35355339059327384,0.3977475644174331,0.44194173824159233,0.4861359120657516,0.5303300858899108,0.5745242597140701,0.6187184335382293,0.6629126073623886,0.7071067811865478,0.751300955010707,0.7954951288348663,0.8396893026590255,0.8838834764831848,0.928077650307344,0.9722718241315033,1.0164659979556625,1.0606601717798216,1.1048543456039808,1.14904851942814,1.193242693252299,1.2374368670764582,1.2811777553404435,1.3249186436044287,1.368659531868414,1.4124004201323994,1.4561413083963848,1.4998821966603701,1.5436230849243555,1.5873639731883409,1.6311048614523262,1.6748457497163114,1.7185866379802968,1.7623275262442821,1.8060684145082675,1.8498093027722529,1.893550191036238,1.9372910793002234,1.9810319675642087,2.024772855828194,2.0685137440921793,2.112254632356165,2.1559955206201504,2.201575805029858,2.2471560894395655,2.292736373849273,2.3383166582589805,2.383896942668688,2.4294772270783955,2.475057511488103,2.5206377958978106,2.566218080307518,2.6117983647172256,2.657378649126933,2.70295893353664,2.7485392179463473,2.7941195023560548,2.8396997867657623,2.8852800711754694,2.9308603555851764,2.976440639994884,3.0220209244045915,3.0657618126685766,3.1095027009325618,3.1532435891965473,3.1969844774605325,3.2407253657245176,3.2844662539885032,3.3282071422524884,3.3724013160766475,3.4165954899008066,3.4607896637249658,3.504983837549125,3.549178011373284,3.593372185197443,3.6375663590216023,3.6817605328457614,3.7259547066699206,3.7701488804940797,3.814343054318239,3.858537228142398,3.902278116406383,3.9460190046703683,3.9897598929343534,4.033500781198339,4.077241669462325,4.12098255772631,4.164723445990296,4.164723445990296,4.208464334254281,4.252205222518266,4.295946110782252,4.339686999046237,4.383427887310222,4.4271687755742075,4.470909663838193],\"xaxis\":\"x\",\"y\":[-0.5153997649373006,2.3288221996483944,4.665238667326247,6.857000492607051,8.862431143644654,10.635298604746879,12.139751480185575,13.351041817006806,14.27035427875199,14.923666583338415,15.353545163374745,15.61148158240609,15.750342099631256,15.818407217691346,15.848485520712716,15.859816963542084,15.862262310596504,16.14147483403145,16.92908269715422,18.096144695674074,19.473290208568336,20.873084024482086,22.09771348488912,22.94731276877971,23.253815191604115,22.1959263874282,20.334622509741443,18.61983053943424,17.926711416419028,18.188325898175922,18.3444833267916,18.37707616921372,18.275141209918498,18.032758557460017,17.650492357992395,17.13413769078551,16.49178375441236,15.732128425527453,14.865456473445958,13.902280880086835,12.848872213648715,11.709763558183942,10.48973710538973,9.189813424559112,7.809397861099602,6.351567242114103,4.8262123782878765,3.24424539990965,1.59068942311156,-0.5153997649373006,1.4866185095502802,3.0723882171024837,4.5437475666954334,5.90536519977743,7.130572066394802,8.213732292800492,9.142727117931408,9.911424295990251,10.526431205353566,11.003032288151802,11.365136019094388,11.635976409357962,11.832706350163532,11.977200336907659,12.08363404715636,12.161029909259437,12.213209455144064,12.244671505936685,12.256059936352772,12.735876578115283,13.955981707119435,15.449650103857214,16.783657471050045,17.680691773645318,18.042229136215884,17.926759132981054,18.621431733815847,20.3354089407641,22.19541384128568,23.253815191604115,22.425089315138365,21.193108280828632,19.616095384237113,17.789429893129185,15.86309696247091,14.072472957795542,12.751621464750128,12.256059936352772,12.736215592616535,13.956931498079346,15.451409391512342,16.78521538812968,17.681038685067545,18.042012243186047,17.926711416419028,17.926759132981054,17.584966065784958,17.196202851239615,16.79824663438829,16.429206703803366,16.12858594492392,15.932677653886145,15.862262310596504],\"yaxis\":\"y\",\"type\":\"scatter\"},{\"marker\":{\"color\":\"#636EFA\"},\"mode\":\"lines\",\"showlegend\":false,\"x\":[0.0,0.04419417382415922,0.08838834764831845,0.13258252147247768,0.1767766952966369,0.2209708691207961,0.26516504294495535,0.3093592167691146,0.35355339059327384,0.3977475644174331,0.44194173824159233,0.4861359120657516,0.5303300858899108,0.5745242597140701,0.6187184335382293,0.6629126073623886,0.7071067811865478,0.751300955010707,0.7954951288348663,0.8396893026590255,0.8838834764831848,0.928077650307344,0.9722718241315033,1.0164659979556625,1.0606601717798216,1.1048543456039808,1.14904851942814,1.193242693252299,1.2374368670764582,1.2811777553404435,1.3249186436044287,1.368659531868414,1.4124004201323994,1.4561413083963848,1.4998821966603701,1.5436230849243555,1.5873639731883409,1.6311048614523262,1.6748457497163114,1.7185866379802968,1.7623275262442821,1.8060684145082675,1.8498093027722529,1.893550191036238,1.9372910793002234,1.9810319675642087,2.024772855828194,2.0685137440921793,2.112254632356165,2.1559955206201504,2.201575805029858,2.2471560894395655,2.292736373849273,2.3383166582589805,2.383896942668688,2.4294772270783955,2.475057511488103,2.5206377958978106,2.566218080307518,2.6117983647172256,2.657378649126933,2.70295893353664,2.7485392179463473,2.7941195023560548,2.8396997867657623,2.8852800711754694,2.9308603555851764,2.976440639994884,3.0220209244045915,3.0657618126685766,3.1095027009325618,3.1532435891965473,3.1969844774605325,3.2407253657245176,3.2844662539885032,3.3282071422524884,3.3724013160766475,3.4165954899008066,3.4607896637249658,3.504983837549125,3.549178011373284,3.593372185197443,3.6375663590216023,3.6817605328457614,3.7259547066699206,3.7701488804940797,3.814343054318239,3.858537228142398,3.902278116406383,3.9460190046703683,3.9897598929343534,4.033500781198339,4.077241669462325,4.12098255772631,4.164723445990296,4.164723445990296,4.208464334254281,4.252205222518266,4.295946110782252,4.339686999046237,4.383427887310222,4.4271687755742075,4.470909663838193],\"xaxis\":\"x\",\"y\":[-0.0684328740440945,2.3921865290201842,4.683735651069488,6.863101848404377,8.8686276937199,10.64244900218256,12.142505398596468,13.354197261540575,14.27648825801904,14.929481821459147,15.357681397078839,15.615293399871033,15.755544786852468,15.823674571802352,15.853871744906911,15.865392832520861,15.868321532227617,16.147586233037256,16.93516704933943,18.102010466877925,19.478424141101115,20.877797846326335,22.103045000197227,22.953401788652595,23.259735955287496,23.538128507785256,23.580216375673288,23.523585933939984,23.48895390702719,24.080649126946728,24.24802919952142,24.066661555555893,23.645837771367223,23.07270952321504,22.38959205023194,21.60644914016276,20.715772452337514,19.703634658560894,18.56320246599309,17.29557180424477,15.906006385855834,14.406945665470028,12.812309178057436,11.132048736635124,9.379652912635901,7.571087159392984,5.716704114302375,3.8264758669771606,1.9177181396039493,-0.0684328740440945,1.6045709598639661,3.093103706000747,4.5529334799985355,5.907356118888551,7.136115212688687,8.219141862069513,9.14595355611461,9.915341951260592,10.529887095414889,11.00524846071898,11.368312806522438,11.639442045322442,11.836349936999355,11.979034946069275,12.086915308940913,12.163838431610882,12.21569985500596,12.247058713630773,12.257262505024036,13.308728178784493,15.906178283597036,19.037574643383326,21.82318713247583,23.55695646938766,23.992153443197456,23.488834802918287,23.523987089703176,23.5806190002401,23.53837150929404,23.259735955287496,23.667118856494305,23.62343676724749,22.95495940628981,21.376078759066324,18.866013670680676,15.894809734019582,13.32273891308079,12.257262505024036,13.306976590534703,15.903624226331118,19.0361989553304,21.82217633310295,23.55587207907176,23.991649924690385,23.48895390702719,23.488834802918287,22.48232125985199,21.161240911197424,19.682597947962893,18.231139807079746,16.998565836770737,16.1632291477407,15.868321532227617],\"yaxis\":\"y\",\"type\":\"scatter\"},{\"marker\":{\"color\":\"#636EFA\"},\"mode\":\"lines\",\"showlegend\":false,\"x\":[0.0,0.04419417382415922,0.08838834764831845,0.13258252147247768,0.1767766952966369,0.2209708691207961,0.26516504294495535,0.3093592167691146,0.35355339059327384,0.3977475644174331,0.44194173824159233,0.4861359120657516,0.5303300858899108,0.5745242597140701,0.6187184335382293,0.6629126073623886,0.7071067811865478,0.751300955010707,0.7954951288348663,0.8396893026590255,0.8838834764831848,0.928077650307344,0.9722718241315033,1.0164659979556625,1.0606601717798216,1.1048543456039808,1.14904851942814,1.193242693252299,1.2374368670764582,1.2811777553404435,1.3249186436044287,1.368659531868414,1.4124004201323994,1.4561413083963848,1.4998821966603701,1.5436230849243555,1.5873639731883409,1.6311048614523262,1.6748457497163114,1.7185866379802968,1.7623275262442821,1.8060684145082675,1.8498093027722529,1.893550191036238,1.9372910793002234,1.9810319675642087,2.024772855828194,2.0685137440921793,2.112254632356165,2.1559955206201504,2.201575805029858,2.2471560894395655,2.292736373849273,2.3383166582589805,2.383896942668688,2.4294772270783955,2.475057511488103,2.5206377958978106,2.566218080307518,2.6117983647172256,2.657378649126933,2.70295893353664,2.7485392179463473,2.7941195023560548,2.8396997867657623,2.8852800711754694,2.9308603555851764,2.976440639994884,3.0220209244045915,3.0657618126685766,3.1095027009325618,3.1532435891965473,3.1969844774605325,3.2407253657245176,3.2844662539885032,3.3282071422524884,3.3724013160766475,3.4165954899008066,3.4607896637249658,3.504983837549125,3.549178011373284,3.593372185197443,3.6375663590216023,3.6817605328457614,3.7259547066699206,3.7701488804940797,3.814343054318239,3.858537228142398,3.902278116406383,3.9460190046703683,3.9897598929343534,4.033500781198339,4.077241669462325,4.12098255772631,4.164723445990296,4.164723445990296,4.208464334254281,4.252205222518266,4.295946110782252,4.339686999046237,4.383427887310222,4.4271687755742075,4.470909663838193],\"xaxis\":\"x\",\"y\":[0.40699471798237474,3.670322619767437,7.341188527979758,11.01216670002259,14.67164583115506,18.303971748331374,21.88508658997014,25.382477775489257,28.761543340900868,31.990948019207316,35.04582036134154,37.9114782325704,40.585431455278524,43.07527485936905,45.3936646264715,47.55221617428654,49.55568530172645,49.28958495927889,48.55657478843001,47.49655995257873,46.26097111077743,45.00539014803619,43.89974331358554,43.127050461152784,42.84759290081222,42.64317809066342,43.19340165137111,43.80365604406302,44.04779290797614,42.86812321929031,41.660778851204164,40.43144689375538,39.17608194708286,37.880602097260564,36.52166561743469,35.070003209078585,33.49497339518518,31.770428321082857,29.879373891763827,27.814054725983958,25.57650426951795,23.178234332008735,20.634091283398003,17.957479265010004,15.16249670083926,12.265716107257166,9.28280359531031,6.230541022246186,3.1376533298538054,0.40699471798237474,2.876401929099971,5.76164246252644,8.654114704797689,11.563675917384517,14.491912541505158,17.43106847077432,20.368831576885803,23.289873431076334,26.170614017942167,28.979903927131183,31.685261582964017,34.25742332212079,36.67016439399025,38.90210547408787,40.941647833419566,42.7816822432423,44.402467246919365,45.71145280934568,46.31179471100522,45.790702415598346,44.39005462616439,42.59420166812965,41.15768607759182,40.88009881212606,42.062289535662885,44.047286815325556,43.802778741113734,43.192973137990144,42.64331301375664,42.84759290081222,41.782811281604715,40.90825474785092,40.54269227698466,41.09298883456717,42.554068087283845,44.35776411732232,45.78023317282075,46.31179471100522,45.79083041882971,44.39017284162561,42.59419857895237,41.15797620397305,40.880642465387915,42.06280925085511,44.04779290797614,44.047286815325556,45.187102293266996,46.20920153938942,47.174452507124236,48.11037135173695,48.87965034656873,49.38022139940834,49.55568530172645],\"yaxis\":\"y\",\"type\":\"scatter\"},{\"marker\":{\"color\":\"#636EFA\"},\"mode\":\"lines\",\"showlegend\":false,\"x\":[0.0,0.04419417382415922,0.08838834764831845,0.13258252147247768,0.1767766952966369,0.2209708691207961,0.26516504294495535,0.3093592167691146,0.35355339059327384,0.3977475644174331,0.44194173824159233,0.4861359120657516,0.5303300858899108,0.5745242597140701,0.6187184335382293,0.6629126073623886,0.7071067811865478,0.751300955010707,0.7954951288348663,0.8396893026590255,0.8838834764831848,0.928077650307344,0.9722718241315033,1.0164659979556625,1.0606601717798216,1.1048543456039808,1.14904851942814,1.193242693252299,1.2374368670764582,1.2811777553404435,1.3249186436044287,1.368659531868414,1.4124004201323994,1.4561413083963848,1.4998821966603701,1.5436230849243555,1.5873639731883409,1.6311048614523262,1.6748457497163114,1.7185866379802968,1.7623275262442821,1.8060684145082675,1.8498093027722529,1.893550191036238,1.9372910793002234,1.9810319675642087,2.024772855828194,2.0685137440921793,2.112254632356165,2.1559955206201504,2.201575805029858,2.2471560894395655,2.292736373849273,2.3383166582589805,2.383896942668688,2.4294772270783955,2.475057511488103,2.5206377958978106,2.566218080307518,2.6117983647172256,2.657378649126933,2.70295893353664,2.7485392179463473,2.7941195023560548,2.8396997867657623,2.8852800711754694,2.9308603555851764,2.976440639994884,3.0220209244045915,3.0657618126685766,3.1095027009325618,3.1532435891965473,3.1969844774605325,3.2407253657245176,3.2844662539885032,3.3282071422524884,3.3724013160766475,3.4165954899008066,3.4607896637249658,3.504983837549125,3.549178011373284,3.593372185197443,3.6375663590216023,3.6817605328457614,3.7259547066699206,3.7701488804940797,3.814343054318239,3.858537228142398,3.902278116406383,3.9460190046703683,3.9897598929343534,4.033500781198339,4.077241669462325,4.12098255772631,4.164723445990296,4.164723445990296,4.208464334254281,4.252205222518266,4.295946110782252,4.339686999046237,4.383427887310222,4.4271687755742075,4.470909663838193],\"xaxis\":\"x\",\"y\":[60.40943329870688,60.29854456539762,59.97308344708572,59.46824680137212,58.84467143993701,58.17459384042373,57.525849520692994,56.952833070242455,56.48766547039203,56.13928954578733,55.895860764863215,55.73274840555998,55.62361190481018,54.597036684457095,53.08806068070674,51.404410665247475,49.55730436037251,49.29167746818585,48.558093642101205,47.49724975543415,46.2619961577039,45.007004692851666,43.901511750697,43.12863606623628,42.84841968965569,43.60874792510774,44.25627935902492,44.697699187234896,44.855278621391236,44.76482817594775,45.14418838668667,45.93446755264559,47.02371215327253,48.29544794849903,49.654615128125215,51.03013873615732,52.369272391038024,53.633472409431725,54.7965146520708,55.84278469814274,56.765097400202606,57.56412343178625,58.24764514185279,58.82683523188612,59.18491492783413,59.5004511433959,59.83681638987305,60.13767885580673,60.345164058588296,60.40943329870688,60.367953200286244,60.22885531600222,60.011212478735665,59.736313105652634,59.42450936484904,59.09123092203669,58.7406591100755,58.363059692643745,57.940084275087685,57.447791887045504,56.86144621434574,56.16357605084101,55.346679534347054,54.415149735029196,53.385187794252396,52.28364157874935,51.15811666444595,50.131286002750386,49.622356657059264,49.521902682512,49.19957203660895,48.61827321483322,47.77993632391672,46.75941709447703,45.679034105068304,44.85501966571936,44.69741412685199,44.25563846409843,43.60832947070768,42.84841968965569,44.011354030968825,45.255096611074684,46.51412545005,47.663244889061936,48.575003437327545,49.18758077175857,49.51978493826291,49.622356657059264,49.522032393316856,49.19947141568201,48.617563615886105,47.77917397833125,46.759134353159745,45.67926748884313,44.855278621391236,44.85501966571936,45.3796788376365,46.27003570299348,47.27367495073301,48.16429591098266,48.890713279814264,49.38268281378072,49.55730436037251],\"yaxis\":\"y\",\"type\":\"scatter\"},{\"marker\":{\"color\":\"#636EFA\"},\"mode\":\"lines\",\"showlegend\":false,\"x\":[0.0,0.04419417382415922,0.08838834764831845,0.13258252147247768,0.1767766952966369,0.2209708691207961,0.26516504294495535,0.3093592167691146,0.35355339059327384,0.3977475644174331,0.44194173824159233,0.4861359120657516,0.5303300858899108,0.5745242597140701,0.6187184335382293,0.6629126073623886,0.7071067811865478,0.751300955010707,0.7954951288348663,0.8396893026590255,0.8838834764831848,0.928077650307344,0.9722718241315033,1.0164659979556625,1.0606601717798216,1.1048543456039808,1.14904851942814,1.193242693252299,1.2374368670764582,1.2811777553404435,1.3249186436044287,1.368659531868414,1.4124004201323994,1.4561413083963848,1.4998821966603701,1.5436230849243555,1.5873639731883409,1.6311048614523262,1.6748457497163114,1.7185866379802968,1.7623275262442821,1.8060684145082675,1.8498093027722529,1.893550191036238,1.9372910793002234,1.9810319675642087,2.024772855828194,2.0685137440921793,2.112254632356165,2.1559955206201504,2.201575805029858,2.2471560894395655,2.292736373849273,2.3383166582589805,2.383896942668688,2.4294772270783955,2.475057511488103,2.5206377958978106,2.566218080307518,2.6117983647172256,2.657378649126933,2.70295893353664,2.7485392179463473,2.7941195023560548,2.8396997867657623,2.8852800711754694,2.9308603555851764,2.976440639994884,3.0220209244045915,3.0657618126685766,3.1095027009325618,3.1532435891965473,3.1969844774605325,3.2407253657245176,3.2844662539885032,3.3282071422524884,3.3724013160766475,3.4165954899008066,3.4607896637249658,3.504983837549125,3.549178011373284,3.593372185197443,3.6375663590216023,3.6817605328457614,3.7259547066699206,3.7701488804940797,3.814343054318239,3.858537228142398,3.902278116406383,3.9460190046703683,3.9897598929343534,4.033500781198339,4.077241669462325,4.12098255772631,4.164723445990296,4.164723445990296,4.208464334254281,4.252205222518266,4.295946110782252,4.339686999046237,4.383427887310222,4.4271687755742075,4.470909663838193],\"xaxis\":\"x\",\"y\":[60.42041745015768,60.306364795607564,59.975487634933806,59.469166346788164,58.845985216746534,58.17610794319176,57.527930643746366,56.954716060935446,56.489828689551715,56.141435786214956,55.89710455584302,55.73380168870284,55.62591085180722,55.54893545198542,55.49851532514376,55.468427646183265,55.458330276168965,55.53366404767433,55.71504469364746,55.92080973030833,56.095283331028575,56.21834107062156,56.29369693240623,56.33186893226095,56.3426798729341,56.10540043244759,55.845186598573534,55.64105024592952,55.56293535037013,55.646226011485794,55.762474770499196,55.913988892430744,56.100685771228456,56.32162655770568,56.574895151156554,56.85678671950052,57.161979481440035,57.485256236835525,57.82150644556126,58.16443587487597,58.50728256282904,58.66194116993523,58.75909881896357,58.93152060974329,59.311725729454565,59.70809437158634,60.01750585699541,60.23988886642707,60.37414988170138,60.42041745015768,60.37994643652678,60.277735112335414,60.11539434393936,59.91108030351238,59.68545958761312,59.45814202811135,59.247772211442175,59.07034083941784,58.93415898856692,58.84142512184841,58.78905238615201,58.77121001978791,58.778589563300024,58.80148308550368,58.83051035944397,58.860164137442275,58.8844856995426,58.90015507093891,58.905356219135356,58.7212355814315,58.21333927389739,57.503847562630554,56.758478342839574,56.1351935196492,55.732130790634024,55.561927122035115,55.63936231916724,55.84389572101267,56.10494936274705,56.3426798729341,56.13104939493442,56.14331646427644,56.42793248490926,56.943650418641695,57.58886044317547,58.23209926101878,58.720800737833756,58.905356219135356,58.72273908161302,58.214218899469124,57.50433569442513,56.75887079211526,56.13600927029937,55.73340774556899,55.56293535037013,55.561927122035115,55.507119111136824,55.47444928649983,55.45855248544512,55.45380013978173,55.45475319371873,55.457226225461376,55.458330276168965],\"yaxis\":\"y\",\"type\":\"scatter\"},{\"marker\":{\"color\":\"#636EFA\"},\"mode\":\"lines\",\"showlegend\":false,\"x\":[0.0,0.04419417382415922,0.08838834764831845,0.13258252147247768,0.1767766952966369,0.2209708691207961,0.26516504294495535,0.3093592167691146,0.35355339059327384,0.3977475644174331,0.44194173824159233,0.4861359120657516,0.5303300858899108,0.5745242597140701,0.6187184335382293,0.6629126073623886,0.7071067811865478,0.751300955010707,0.7954951288348663,0.8396893026590255,0.8838834764831848,0.928077650307344,0.9722718241315033,1.0164659979556625,1.0606601717798216,1.1048543456039808,1.14904851942814,1.193242693252299,1.2374368670764582,1.2811777553404435,1.3249186436044287,1.368659531868414,1.4124004201323994,1.4561413083963848,1.4998821966603701,1.5436230849243555,1.5873639731883409,1.6311048614523262,1.6748457497163114,1.7185866379802968,1.7623275262442821,1.8060684145082675,1.8498093027722529,1.893550191036238,1.9372910793002234,1.9810319675642087,2.024772855828194,2.0685137440921793,2.112254632356165,2.1559955206201504,2.201575805029858,2.2471560894395655,2.292736373849273,2.3383166582589805,2.383896942668688,2.4294772270783955,2.475057511488103,2.5206377958978106,2.566218080307518,2.6117983647172256,2.657378649126933,2.70295893353664,2.7485392179463473,2.7941195023560548,2.8396997867657623,2.8852800711754694,2.9308603555851764,2.976440639994884,3.0220209244045915,3.0657618126685766,3.1095027009325618,3.1532435891965473,3.1969844774605325,3.2407253657245176,3.2844662539885032,3.3282071422524884,3.3724013160766475,3.4165954899008066,3.4607896637249658,3.504983837549125,3.549178011373284,3.593372185197443,3.6375663590216023,3.6817605328457614,3.7259547066699206,3.7701488804940797,3.814343054318239,3.858537228142398,3.902278116406383,3.9460190046703683,3.9897598929343534,4.033500781198339,4.077241669462325,4.12098255772631,4.164723445990296,4.164723445990296,4.208464334254281,4.252205222518266,4.295946110782252,4.339686999046237,4.383427887310222,4.4271687755742075,4.470909663838193],\"xaxis\":\"x\",\"y\":[60.422134423185575,60.42152463886847,60.42189959552053,60.40926981714171,60.363881995865434,60.26108368487402,60.074711745127786,59.778611113359155,59.3476390632992,58.760208759685,58.00008927061054,57.055999974788016,55.92166757959266,55.552218115513405,55.501078028827905,55.469950257662056,55.459402485041885,55.53493489955386,55.71686762181597,55.92272228474432,56.096943991282856,56.22063723806399,56.29555189222878,56.33323457734612,56.34477709384741,56.622964508585554,57.007323932933666,57.36021590172449,57.50581845212735,57.71351196625972,57.87636993845736,58.005746320469655,58.11372550834914,58.210762647115196,58.30313164430895,58.39065082863204,58.468177402176146,58.52922073978528,58.56991425781047,58.59412092371489,58.61662206649795,58.84333378794825,59.16567892060535,59.467047337694595,59.73896979125621,59.97342605757303,60.16375343905137,60.302862517693754,60.386421541654904,60.422134423185575,60.38543704309454,60.27948554488437,60.11657687070965,59.91268404308459,59.68704246745791,59.45939088886195,59.24902325806786,59.07130601972219,58.93521792421194,58.84201839815713,58.78979389142597,58.77183653565704,58.77942994764167,58.80195272159318,58.83130300612251,58.8609679330329,58.885939093334635,58.90188314627756,58.90761032973175,58.79365412808475,58.517076848713955,58.21396514668352,57.98316714445326,57.83181401617362,57.69717187996744,57.506404688682224,57.36066877492036,57.00727431734179,56.62257294434611,56.34477709384741,56.67049773515141,57.01433933658671,57.34480123464093,57.68957671655919,58.07730500348656,58.4762924823896,58.788070974084704,58.90761032973175,58.79196038441648,58.51598760226552,58.21360475266771,57.983283119696814,57.8320355955071,57.69704851323287,57.50581845212735,57.506404688682224,57.2460449244737,56.93164279926182,56.57191511666464,56.190247567832486,55.83046866579447,55.56120779357164,55.459402485041885],\"yaxis\":\"y\",\"type\":\"scatter\"},{\"mode\":\"lines+markers\",\"showlegend\":false,\"x\":[0.0,0.0,0.0,0.0,0.0,0.0,8.333333333333333e-05,0.00016666666666666666,0.00025,0.0007083333333333334,0.00075,0.0015833333333333333,0.001625,0.002625,0.003625,0.005208333333333333,0.008666666666666666,0.01775,0.020416666666666666,0.021916666666666668,0.029083333333333333,0.0365,0.03870833333333334,0.03225,0.02733333333333333,0.025291666666666667,0.022708333333333334,0.022875,0.0225,0.004166666666666667,0.001875,0.002625,0.00175,0.00325,0.0020416666666666665,0.003875,0.003625,0.005125,0.004,0.006375,0.005916666666666667,0.008875,0.00825,0.011416666666666665,0.015875,0.023375,0.015875,0.011375,0.007916666666666667,0.009625,0.011791666666666666,0.012833333333333334,0.013166666666666667,0.01525,0.015625,0.013166666666666667,0.011875,0.013041666666666667,0.0115,0.009791666666666666,0.043541666666666666,0.10091666666666667,0.11,0.09483333333333333,0.01920833333333333,0.003625,0.0,0.0,0.0,0.0,0.0,0.0,0.0,0.0,0.0],\"xaxis\":\"x2\",\"y\":[-4.5,-3.5,-2.5,-1.5,-0.5,0.5,1.5,2.5,3.5,4.5,5.5,6.5,7.5,8.5,9.5,10.5,11.5,12.5,13.5,14.5,15.5,16.5,17.5,18.5,19.5,20.5,21.5,22.5,23.5,24.5,25.5,26.5,27.5,28.5,29.5,30.5,31.5,32.5,33.5,34.5,35.5,36.5,37.5,38.5,39.5,40.5,41.5,42.5,43.5,44.5,45.5,46.5,47.5,48.5,49.5,50.5,51.5,52.5,53.5,54.5,55.5,56.5,57.5,58.5,59.5,60.5,61.5,62.5,63.5,64.5,65.5,66.5,67.5,68.5,69.5],\"yaxis\":\"y2\",\"type\":\"scatter\"}],                        {\"height\":500,\"shapes\":[{\"line\":{\"color\":\"gray\",\"dash\":\"dash\",\"width\":1},\"type\":\"line\",\"x0\":4.164723445990296,\"x1\":4.164723445990296,\"xref\":\"x\",\"y0\":0,\"y1\":1,\"yref\":\"y domain\"}],\"template\":{\"data\":{\"barpolar\":[{\"marker\":{\"line\":{\"color\":\"#E5ECF6\",\"width\":0.5},\"pattern\":{\"fillmode\":\"overlay\",\"size\":10,\"solidity\":0.2}},\"type\":\"barpolar\"}],\"bar\":[{\"error_x\":{\"color\":\"#2a3f5f\"},\"error_y\":{\"color\":\"#2a3f5f\"},\"marker\":{\"line\":{\"color\":\"#E5ECF6\",\"width\":0.5},\"pattern\":{\"fillmode\":\"overlay\",\"size\":10,\"solidity\":0.2}},\"type\":\"bar\"}],\"carpet\":[{\"aaxis\":{\"endlinecolor\":\"#2a3f5f\",\"gridcolor\":\"white\",\"linecolor\":\"white\",\"minorgridcolor\":\"white\",\"startlinecolor\":\"#2a3f5f\"},\"baxis\":{\"endlinecolor\":\"#2a3f5f\",\"gridcolor\":\"white\",\"linecolor\":\"white\",\"minorgridcolor\":\"white\",\"startlinecolor\":\"#2a3f5f\"},\"type\":\"carpet\"}],\"choropleth\":[{\"colorbar\":{\"outlinewidth\":0,\"ticks\":\"\"},\"type\":\"choropleth\"}],\"contourcarpet\":[{\"colorbar\":{\"outlinewidth\":0,\"ticks\":\"\"},\"type\":\"contourcarpet\"}],\"contour\":[{\"colorbar\":{\"outlinewidth\":0,\"ticks\":\"\"},\"colorscale\":[[0.0,\"#0d0887\"],[0.1111111111111111,\"#46039f\"],[0.2222222222222222,\"#7201a8\"],[0.3333333333333333,\"#9c179e\"],[0.4444444444444444,\"#bd3786\"],[0.5555555555555556,\"#d8576b\"],[0.6666666666666666,\"#ed7953\"],[0.7777777777777778,\"#fb9f3a\"],[0.8888888888888888,\"#fdca26\"],[1.0,\"#f0f921\"]],\"type\":\"contour\"}],\"heatmapgl\":[{\"colorbar\":{\"outlinewidth\":0,\"ticks\":\"\"},\"colorscale\":[[0.0,\"#0d0887\"],[0.1111111111111111,\"#46039f\"],[0.2222222222222222,\"#7201a8\"],[0.3333333333333333,\"#9c179e\"],[0.4444444444444444,\"#bd3786\"],[0.5555555555555556,\"#d8576b\"],[0.6666666666666666,\"#ed7953\"],[0.7777777777777778,\"#fb9f3a\"],[0.8888888888888888,\"#fdca26\"],[1.0,\"#f0f921\"]],\"type\":\"heatmapgl\"}],\"heatmap\":[{\"colorbar\":{\"outlinewidth\":0,\"ticks\":\"\"},\"colorscale\":[[0.0,\"#0d0887\"],[0.1111111111111111,\"#46039f\"],[0.2222222222222222,\"#7201a8\"],[0.3333333333333333,\"#9c179e\"],[0.4444444444444444,\"#bd3786\"],[0.5555555555555556,\"#d8576b\"],[0.6666666666666666,\"#ed7953\"],[0.7777777777777778,\"#fb9f3a\"],[0.8888888888888888,\"#fdca26\"],[1.0,\"#f0f921\"]],\"type\":\"heatmap\"}],\"histogram2dcontour\":[{\"colorbar\":{\"outlinewidth\":0,\"ticks\":\"\"},\"colorscale\":[[0.0,\"#0d0887\"],[0.1111111111111111,\"#46039f\"],[0.2222222222222222,\"#7201a8\"],[0.3333333333333333,\"#9c179e\"],[0.4444444444444444,\"#bd3786\"],[0.5555555555555556,\"#d8576b\"],[0.6666666666666666,\"#ed7953\"],[0.7777777777777778,\"#fb9f3a\"],[0.8888888888888888,\"#fdca26\"],[1.0,\"#f0f921\"]],\"type\":\"histogram2dcontour\"}],\"histogram2d\":[{\"colorbar\":{\"outlinewidth\":0,\"ticks\":\"\"},\"colorscale\":[[0.0,\"#0d0887\"],[0.1111111111111111,\"#46039f\"],[0.2222222222222222,\"#7201a8\"],[0.3333333333333333,\"#9c179e\"],[0.4444444444444444,\"#bd3786\"],[0.5555555555555556,\"#d8576b\"],[0.6666666666666666,\"#ed7953\"],[0.7777777777777778,\"#fb9f3a\"],[0.8888888888888888,\"#fdca26\"],[1.0,\"#f0f921\"]],\"type\":\"histogram2d\"}],\"histogram\":[{\"marker\":{\"pattern\":{\"fillmode\":\"overlay\",\"size\":10,\"solidity\":0.2}},\"type\":\"histogram\"}],\"mesh3d\":[{\"colorbar\":{\"outlinewidth\":0,\"ticks\":\"\"},\"type\":\"mesh3d\"}],\"parcoords\":[{\"line\":{\"colorbar\":{\"outlinewidth\":0,\"ticks\":\"\"}},\"type\":\"parcoords\"}],\"pie\":[{\"automargin\":true,\"type\":\"pie\"}],\"scatter3d\":[{\"line\":{\"colorbar\":{\"outlinewidth\":0,\"ticks\":\"\"}},\"marker\":{\"colorbar\":{\"outlinewidth\":0,\"ticks\":\"\"}},\"type\":\"scatter3d\"}],\"scattercarpet\":[{\"marker\":{\"colorbar\":{\"outlinewidth\":0,\"ticks\":\"\"}},\"type\":\"scattercarpet\"}],\"scattergeo\":[{\"marker\":{\"colorbar\":{\"outlinewidth\":0,\"ticks\":\"\"}},\"type\":\"scattergeo\"}],\"scattergl\":[{\"marker\":{\"colorbar\":{\"outlinewidth\":0,\"ticks\":\"\"}},\"type\":\"scattergl\"}],\"scattermapbox\":[{\"marker\":{\"colorbar\":{\"outlinewidth\":0,\"ticks\":\"\"}},\"type\":\"scattermapbox\"}],\"scatterpolargl\":[{\"marker\":{\"colorbar\":{\"outlinewidth\":0,\"ticks\":\"\"}},\"type\":\"scatterpolargl\"}],\"scatterpolar\":[{\"marker\":{\"colorbar\":{\"outlinewidth\":0,\"ticks\":\"\"}},\"type\":\"scatterpolar\"}],\"scatter\":[{\"fillpattern\":{\"fillmode\":\"overlay\",\"size\":10,\"solidity\":0.2},\"type\":\"scatter\"}],\"scatterternary\":[{\"marker\":{\"colorbar\":{\"outlinewidth\":0,\"ticks\":\"\"}},\"type\":\"scatterternary\"}],\"surface\":[{\"colorbar\":{\"outlinewidth\":0,\"ticks\":\"\"},\"colorscale\":[[0.0,\"#0d0887\"],[0.1111111111111111,\"#46039f\"],[0.2222222222222222,\"#7201a8\"],[0.3333333333333333,\"#9c179e\"],[0.4444444444444444,\"#bd3786\"],[0.5555555555555556,\"#d8576b\"],[0.6666666666666666,\"#ed7953\"],[0.7777777777777778,\"#fb9f3a\"],[0.8888888888888888,\"#fdca26\"],[1.0,\"#f0f921\"]],\"type\":\"surface\"}],\"table\":[{\"cells\":{\"fill\":{\"color\":\"#EBF0F8\"},\"line\":{\"color\":\"white\"}},\"header\":{\"fill\":{\"color\":\"#C8D4E3\"},\"line\":{\"color\":\"white\"}},\"type\":\"table\"}]},\"layout\":{\"annotationdefaults\":{\"arrowcolor\":\"#2a3f5f\",\"arrowhead\":0,\"arrowwidth\":1},\"autotypenumbers\":\"strict\",\"coloraxis\":{\"colorbar\":{\"outlinewidth\":0,\"ticks\":\"\"}},\"colorscale\":{\"diverging\":[[0,\"#8e0152\"],[0.1,\"#c51b7d\"],[0.2,\"#de77ae\"],[0.3,\"#f1b6da\"],[0.4,\"#fde0ef\"],[0.5,\"#f7f7f7\"],[0.6,\"#e6f5d0\"],[0.7,\"#b8e186\"],[0.8,\"#7fbc41\"],[0.9,\"#4d9221\"],[1,\"#276419\"]],\"sequential\":[[0.0,\"#0d0887\"],[0.1111111111111111,\"#46039f\"],[0.2222222222222222,\"#7201a8\"],[0.3333333333333333,\"#9c179e\"],[0.4444444444444444,\"#bd3786\"],[0.5555555555555556,\"#d8576b\"],[0.6666666666666666,\"#ed7953\"],[0.7777777777777778,\"#fb9f3a\"],[0.8888888888888888,\"#fdca26\"],[1.0,\"#f0f921\"]],\"sequentialminus\":[[0.0,\"#0d0887\"],[0.1111111111111111,\"#46039f\"],[0.2222222222222222,\"#7201a8\"],[0.3333333333333333,\"#9c179e\"],[0.4444444444444444,\"#bd3786\"],[0.5555555555555556,\"#d8576b\"],[0.6666666666666666,\"#ed7953\"],[0.7777777777777778,\"#fb9f3a\"],[0.8888888888888888,\"#fdca26\"],[1.0,\"#f0f921\"]]},\"colorway\":[\"#636efa\",\"#EF553B\",\"#00cc96\",\"#ab63fa\",\"#FFA15A\",\"#19d3f3\",\"#FF6692\",\"#B6E880\",\"#FF97FF\",\"#FECB52\"],\"font\":{\"color\":\"#2a3f5f\"},\"geo\":{\"bgcolor\":\"white\",\"lakecolor\":\"white\",\"landcolor\":\"#E5ECF6\",\"showlakes\":true,\"showland\":true,\"subunitcolor\":\"white\"},\"hoverlabel\":{\"align\":\"left\"},\"hovermode\":\"closest\",\"mapbox\":{\"style\":\"light\"},\"paper_bgcolor\":\"white\",\"plot_bgcolor\":\"#E5ECF6\",\"polar\":{\"angularaxis\":{\"gridcolor\":\"white\",\"linecolor\":\"white\",\"ticks\":\"\"},\"bgcolor\":\"#E5ECF6\",\"radialaxis\":{\"gridcolor\":\"white\",\"linecolor\":\"white\",\"ticks\":\"\"}},\"scene\":{\"xaxis\":{\"backgroundcolor\":\"#E5ECF6\",\"gridcolor\":\"white\",\"gridwidth\":2,\"linecolor\":\"white\",\"showbackground\":true,\"ticks\":\"\",\"zerolinecolor\":\"white\"},\"yaxis\":{\"backgroundcolor\":\"#E5ECF6\",\"gridcolor\":\"white\",\"gridwidth\":2,\"linecolor\":\"white\",\"showbackground\":true,\"ticks\":\"\",\"zerolinecolor\":\"white\"},\"zaxis\":{\"backgroundcolor\":\"#E5ECF6\",\"gridcolor\":\"white\",\"gridwidth\":2,\"linecolor\":\"white\",\"showbackground\":true,\"ticks\":\"\",\"zerolinecolor\":\"white\"}},\"shapedefaults\":{\"line\":{\"color\":\"#2a3f5f\"}},\"ternary\":{\"aaxis\":{\"gridcolor\":\"white\",\"linecolor\":\"white\",\"ticks\":\"\"},\"baxis\":{\"gridcolor\":\"white\",\"linecolor\":\"white\",\"ticks\":\"\"},\"bgcolor\":\"#E5ECF6\",\"caxis\":{\"gridcolor\":\"white\",\"linecolor\":\"white\",\"ticks\":\"\"}},\"title\":{\"x\":0.05},\"xaxis\":{\"automargin\":true,\"gridcolor\":\"white\",\"linecolor\":\"white\",\"ticks\":\"\",\"title\":{\"standoff\":15},\"zerolinecolor\":\"white\",\"zerolinewidth\":2},\"yaxis\":{\"automargin\":true,\"gridcolor\":\"white\",\"linecolor\":\"white\",\"ticks\":\"\",\"title\":{\"standoff\":15},\"zerolinecolor\":\"white\",\"zerolinewidth\":2}}},\"width\":1000,\"xaxis\":{\"anchor\":\"y\",\"domain\":[0.0,0.63],\"ticktext\":[\"G\",\"X\",\"W\",\"K\",\"G\",\"L\",\"U\",\"W\",\"L\",\"K|U\",\"X\"],\"tickvals\":[0.0,0.7071067811865478,1.0606601717798216,1.2374368670764582,2.1559955206201504,3.0220209244045915,3.3282071422524884,3.504983837549125,3.858537228142398,4.164723445990296,4.470909663838193]},\"yaxis\":{\"anchor\":\"x\",\"domain\":[0.0,1.0],\"range\":[-4.5,69.5],\"title\":{\"text\":\"Frequency (meV)\"}},\"xaxis2\":{\"anchor\":\"y2\",\"domain\":[0.73,1.0],\"showticklabels\":false,\"title\":{\"text\":\"DOS\"}},\"yaxis2\":{\"anchor\":\"x2\",\"domain\":[0.0,1.0],\"range\":[-4.5,69.5],\"showticklabels\":false,\"title\":{\"text\":\"\"}}},                        {\"responsive\": true}                    ).then(function(){\n",
       "                            \n",
       "var gd = document.getElementById('ec3d695f-6930-4f9c-ac57-8309430239a7');\n",
       "var x = new MutationObserver(function (mutations, observer) {{\n",
       "        var display = window.getComputedStyle(gd).display;\n",
       "        if (!display || display === 'none') {{\n",
       "            console.log([gd, 'removed!']);\n",
       "            Plotly.purge(gd);\n",
       "            observer.disconnect();\n",
       "        }}\n",
       "}});\n",
       "\n",
       "// Listen for the removal of the full notebook cells\n",
       "var notebookContainer = gd.closest('#notebook-container');\n",
       "if (notebookContainer) {{\n",
       "    x.observe(notebookContainer, {childList: true});\n",
       "}}\n",
       "\n",
       "// Listen for the clearing of the current output cell\n",
       "var outputEl = gd.closest('.output');\n",
       "if (outputEl) {{\n",
       "    x.observe(outputEl, {childList: true});\n",
       "}}\n",
       "\n",
       "                        })                };                });            </script>        </div>"
      ]
     },
     "metadata": {},
     "output_type": "display_data"
    }
   ],
   "source": [
    "from plotly.offline import iplot\n",
    "\n",
    "fig = plot_band_dos(band_results, dos_results)\n",
    "fig.update_layout(width=1000, height=500)\n",
    "iplot(fig)"
   ]
  },
  {
   "cell_type": "markdown",
   "id": "384060f4-82a8-45ec-b794-022bab3b3dcb",
   "metadata": {},
   "source": [
    "The phonon dispersion and phonon DOS are diplayed togater in the above figure. In the `PostPhononDOSFeature`, we calculate the phonon frequencies on a uniform meshes of $\\vec q$ points in the first Brillouin zone. Usually, the mesh grids can be Monkhorst-Pack scheme or Gamma-centered scheme. In the above example, a $20 \\times 20 \\times 20 $ Monkhorst-Pack style grid is used. Please refer to the [appendix](#section_5.3) for the detailed explaination of Phonon DOS.\n"
   ]
  },
  {
   "cell_type": "markdown",
   "id": "65eceaaf-7b65-409c-9b07-617b11ef6445",
   "metadata": {},
   "source": [
    "### 2.7 Thermochemistry properties\n",
    "\n",
    "As we mentioned, the thermal property of solid is closely related with phonon dispersion. Actually, as long as we know the phonon DOS, we can obtain several thermal properties, including specific heat $C_V$, entropy $S$, internal energy $U$ and Helmholtz free energy $A$.\n",
    "\n",
    "The above properties are calculated with the following formula."
   ]
  },
  {
   "cell_type": "markdown",
   "id": "ec2fbdc0-dba1-4155-8cd6-b59cf37019ee",
   "metadata": {},
   "source": [
    "$$C_V = \\int_{0}^{\\infty} d {\\omega} D(\\omega) \\; k_B\\left( \\frac{\\hbar \\omega}{k_B T} \\right)^2 \\frac{e^{\\frac{\\hbar \\omega}{k_B T}}}{\\left( e^{\\frac{\\hbar \\omega}{k_B T}} - 1 \\right)^2}$$"
   ]
  },
  {
   "cell_type": "markdown",
   "id": "09f38012-4b34-455c-ab4e-b5a3994bb80e",
   "metadata": {},
   "source": [
    "$$\n",
    "S = \\int_{0}^{\\infty} d {\\omega} D(\\omega) \\; \\left[ ln \\left( \\frac {1}{e^{\\frac{\\hbar \\omega}{k_B T}}-1} + 1  \\right ) \\left( \\frac {1}{e^{\\frac{\\hbar \\omega}{k_B T}}-1} + 1  \\right ) - ln \\left( \\frac {1}{e^{\\frac{\\hbar \\omega}{k_B T}}-1}  \\right ) \\left( \\frac {1}{e^{\\frac{\\hbar \\omega}{k_B T}}-1} \\right ) \\right]\n",
    "$$"
   ]
  },
  {
   "cell_type": "markdown",
   "id": "cc37ed27-4e24-4f67-9269-b76c6ecc639f",
   "metadata": {},
   "source": [
    "$$ U = \\int_{0}^{\\infty} d {\\omega} D(\\omega) \\; \\left[ \\frac{\\hbar \\omega}{2} + \\frac {\\hbar \\omega}{e^{\\frac{\\hbar \\omega}{k_B T}} -1} \\right] $$"
   ]
  },
  {
   "cell_type": "markdown",
   "id": "fd6a2e33-840b-4d97-836c-8687d687091e",
   "metadata": {},
   "source": [
    "$$A = \\int_{0}^{\\infty} d {\\omega} D(\\omega) \\; \\left[ \\frac{\\hbar \\omega}{2} + k_BT ln \\left( 1-e^{-\\frac{\\hbar \\omega}{k_BT}} \\right) \\right]$$"
   ]
  },
  {
   "cell_type": "markdown",
   "id": "a849985f-f59d-4c8a-89af-654b5583c1f5",
   "metadata": {},
   "source": [
    "[Note]\n",
    "\n",
    "Phonon, which includes quantum effects, can only take discrete energies. It is known that phonon's temperature dependency (quantum statistics) is different compared to classical lattice vibration. Due to this fact, [Dirac constant](https://en.wikipedia.org/wiki/Planck_constant#Reduced_Planck_constant) $\\hbar$ appeared in the above equations."
   ]
  },
  {
   "cell_type": "markdown",
   "id": "85b066a2-7684-44d7-b669-7e514691e8f6",
   "metadata": {},
   "source": [
    "We can simply use the `PostPhononThermochemistryFeature` in the Matlantis-Features package to do the above calculation. Simlar to the `PostPhononDOSFeature`, we should define the mesh of $\\vec q$ points. The `PostPhononThermochemistryFeature` will calculate the DOS from the force constant at first and then obtain the thermal properties according to the above formula."
   ]
  },
  {
   "cell_type": "code",
   "execution_count": 13,
   "id": "7de76799-9bef-41e7-8ae0-3458f3045d76",
   "metadata": {},
   "outputs": [],
   "source": [
    "from matlantis_features.features.phonon import PostPhononThermochemistryFeature\n",
    "\n",
    "thermo = PostPhononThermochemistryFeature()\n",
    "thermo_results = thermo(\n",
    "    force_constant,\n",
    "    kpts = [20, 20, 20],\n",
    "    tmin = 0.0,\n",
    "    tmax = 1000.0,\n",
    "    tstep = 10.0,\n",
    "    scheme = \"mp\",\n",
    ")"
   ]
  },
  {
   "cell_type": "code",
   "execution_count": 14,
   "id": "4934290a-6895-4999-ad35-b073f0700b77",
   "metadata": {},
   "outputs": [
    {
     "data": {
      "application/vnd.plotly.v1+json": {
       "config": {
        "plotlyServerURL": "https://plot.ly"
       },
       "data": [
        {
         "name": "S (J/K/g)",
         "type": "scatter",
         "x": [
          0,
          10,
          20,
          30,
          40,
          50,
          60,
          70,
          80,
          90,
          100,
          110,
          120,
          130,
          140,
          150,
          160,
          170,
          180,
          190,
          200,
          210,
          220,
          230,
          240,
          250,
          260,
          270,
          280,
          290,
          300,
          310,
          320,
          330,
          340,
          350,
          360,
          370,
          380,
          390,
          400,
          410,
          420,
          430,
          440,
          450,
          460,
          470,
          480,
          490,
          500,
          510,
          520,
          530,
          540,
          550,
          560,
          570,
          580,
          590,
          600,
          610,
          620,
          630,
          640,
          650,
          660,
          670,
          680,
          690,
          700,
          710,
          720,
          730,
          740,
          750,
          760,
          770,
          780,
          790,
          800,
          810,
          820,
          830,
          840,
          850,
          860,
          870,
          880,
          890,
          900,
          910,
          920,
          930,
          940,
          950,
          960,
          970,
          980,
          990,
          1000
         ],
         "y": [
          1.3997331178279026e-05,
          0.00013092149926643767,
          0.0014443921456989133,
          0.0069399880555326005,
          0.01886049488013255,
          0.03652267631878295,
          0.058200220153710354,
          0.08247142930047942,
          0.10844898227971467,
          0.13562592460146888,
          0.16369995877690863,
          0.1924615764525546,
          0.2217389891439325,
          0.25137683186505116,
          0.2812309370146015,
          0.3111690847826035,
          0.34107296211234955,
          0.3708395157485695,
          0.4003812832475161,
          0.42962583878568916,
          0.4585146413878904,
          0.4870015590612386,
          0.515051276684334,
          0.5426377262920918,
          0.5697426221199282,
          0.5963541423217392,
          0.6224657725240795,
          0.6480753099548325,
          0.6731840176531716,
          0.697795913763718,
          0.7219171793633888,
          0.7455556684508451,
          0.768720504851606,
          0.7914217523567677,
          0.8136701461178087,
          0.835476874991257,
          0.8568534060739114,
          0.8778113440509251,
          0.8983623191841807,
          0.9185178988024102,
          0.9382895180314241,
          0.9576884262401331,
          0.9767256462941749,
          0.9954119442214082,
          1.0137578073183384,
          1.0317734290777933,
          1.0494686996080926,
          1.0668532004529552,
          1.0839362029182174,
          1.1007266691734765,
          1.1172332555300648,
          1.1334643174064358,
          1.1494279155822347,
          1.1651318234164914,
          1.1805835347663742,
          1.1957902723930878,
          1.210758996682697,
          1.225496414543559,
          1.2400089883698284,
          1.2543029449833492,
          1.2683842844849715,
          1.2822587889616432,
          1.2959320310081979,
          1.3094093820329746,
          1.3226960203247535,
          1.3357969388652684,
          1.3487169528770158,
          1.3614607071005245,
          1.3740326827987561,
          1.386437204489135,
          1.3986784464059216,
          1.4107604386973702,
          1.4226870733634396,
          1.4344621099408252,
          1.446089180942817,
          1.457571797061987,
          1.4689133521440663,
          1.4801171279415408,
          1.4911862986555964,
          1.502123935275009,
          1.5129330097205032,
          1.523616398802953,
          1.534176888003615,
          1.5446171750843687,
          1.5549398735356825,
          1.565147515869783,
          1.5752425567662154,
          1.585227376076727,
          1.5951042816960943,
          1.6048755123052778,
          1.6145432399929665,
          1.624109572761338,
          1.6335765569215759,
          1.6429461793844369,
          1.6522203698508957,
          1.6614010029076753,
          1.6704899000322215,
          1.679488831511464,
          1.6883995182784841,
          1.6972236336710185,
          1.705962805115525
         ]
        },
        {
         "name": "Cv (J/K/g)",
         "type": "scatter",
         "x": [
          0,
          10,
          20,
          30,
          40,
          50,
          60,
          70,
          80,
          90,
          100,
          110,
          120,
          130,
          140,
          150,
          160,
          170,
          180,
          190,
          200,
          210,
          220,
          230,
          240,
          250,
          260,
          270,
          280,
          290,
          300,
          310,
          320,
          330,
          340,
          350,
          360,
          370,
          380,
          390,
          400,
          410,
          420,
          430,
          440,
          450,
          460,
          470,
          480,
          490,
          500,
          510,
          520,
          530,
          540,
          550,
          560,
          570,
          580,
          590,
          600,
          610,
          620,
          630,
          640,
          650,
          660,
          670,
          680,
          690,
          700,
          710,
          720,
          730,
          740,
          750,
          760,
          770,
          780,
          790,
          800,
          810,
          820,
          830,
          840,
          850,
          860,
          870,
          880,
          890,
          900,
          910,
          920,
          930,
          940,
          950,
          960,
          970,
          980,
          990,
          1000
         ],
         "y": [
          4.8241895467968386e-05,
          0.00041603606101451923,
          0.005570767831751763,
          0.025851182465411085,
          0.06025244375107337,
          0.09976196919092317,
          0.13898380340910527,
          0.17663710759005727,
          0.21311840760418335,
          0.2489897078915209,
          0.284484841408548,
          0.3195107580140306,
          0.35379075468778226,
          0.38699793256890613,
          0.4188389178213955,
          0.4490923186076438,
          0.4776173786161687,
          0.5043467182249242,
          0.5292725377949863,
          0.5524316397715535,
          0.5738918787309122,
          0.5937410200685341,
          0.612078130126071,
          0.6290072292905107,
          0.6446328050962968,
          0.6590567758353871,
          0.6723765438583059,
          0.6846838435122073,
          0.6960641533117747,
          0.7065964980391564,
          0.7163535120190553,
          0.7254016703126421,
          0.7338016214800713,
          0.7416085755469162,
          0.7488727154216309,
          0.7556396105520696,
          0.7619506191201106,
          0.7678432703593423,
          0.7733516222500117,
          0.7785065923510388,
          0.7833362612040911,
          0.7878661488324964,
          0.7921194655340754,
          0.7961173385582169,
          0.7998790164541278,
          0.8034220529433393,
          0.8067624721505208,
          0.8099149169541251,
          0.812892782114314,
          0.8157083337149722,
          0.8183728163295401,
          0.8208965491934687,
          0.8232890125435525,
          0.8255589251687092,
          0.8277143141093455,
          0.8297625773438293,
          0.8317105402108641,
          0.8335645062354784,
          0.8353303029534168,
          0.8370133232634234,
          0.8386185627785794,
          0.8401506535959061,
          0.8416138948572207,
          0.8430122804331862,
          0.8443495240260531,
          0.8456290819542759,
          0.8468541738535167,
          0.8480278015031495,
          0.8491527659648311,
          0.8502316831997289,
          0.8512669983132651,
          0.8522609985604999,
          0.8532158252312995,
          0.8541334845220299,
          0.855015857489466,
          0.8558647091727916,
          0.8566816969608293,
          0.8574683782738286,
          0.8582262176222202,
          0.8589565930985131,
          0.8596608023530118,
          0.8603400680990373,
          0.860995543188944,
          0.8616283152982355,
          0.8622394112515348,
          0.8628298010209772,
          0.8634004014247266,
          0.8639520795507482,
          0.8644856559286485,
          0.865001907470323,
          0.8655015701982582,
          0.8659853417786619,
          0.8664538838750464,
          0.8669078243365321,
          0.8673477592338683,
          0.8677742547550594,
          0.8681878489714535,
          0.8685890534842173,
          0.8689783549602971,
          0.869356216566185,
          0.8697230793071336
         ]
        },
        {
         "name": "U (kJ/g)",
         "type": "scatter",
         "x": [
          0,
          10,
          20,
          30,
          40,
          50,
          60,
          70,
          80,
          90,
          100,
          110,
          120,
          130,
          140,
          150,
          160,
          170,
          180,
          190,
          200,
          210,
          220,
          230,
          240,
          250,
          260,
          270,
          280,
          290,
          300,
          310,
          320,
          330,
          340,
          350,
          360,
          370,
          380,
          390,
          400,
          410,
          420,
          430,
          440,
          450,
          460,
          470,
          480,
          490,
          500,
          510,
          520,
          530,
          540,
          550,
          560,
          570,
          580,
          590,
          600,
          610,
          620,
          630,
          640,
          650,
          660,
          670,
          680,
          690,
          700,
          710,
          720,
          730,
          740,
          750,
          760,
          770,
          780,
          790,
          800,
          810,
          820,
          830,
          840,
          850,
          860,
          870,
          880,
          890,
          900,
          910,
          920,
          930,
          940,
          950,
          960,
          970,
          980,
          990,
          1000
         ],
         "y": [
          0.20430636094248303,
          0.20430730383367102,
          0.20432893718230563,
          0.2044712426691404,
          0.20489386190783182,
          0.20569273358051562,
          0.2068876664229104,
          0.2084670131902883,
          0.2104164974302262,
          0.2127273904922082,
          0.21539507547056144,
          0.21841554332776988,
          0.22178280907310977,
          0.22548777801987882,
          0.2295182053630215,
          0.2338592552682516,
          0.2384942823681195,
          0.2434056104757656,
          0.24857520006542466,
          0.2539851687562753,
          0.2596181678060243,
          0.2654576347799899,
          0.2714879475772708,
          0.27769450398003787,
          0.2840637473849649,
          0.29058315524389033,
          0.29724120286307937,
          0.3040273119266513,
          0.3109317904876071,
          0.3179457691548642,
          0.32506113669823133,
          0.33227047719104763,
          0.33956701001863443,
          0.34694453352223026,
          0.354397372661377,
          0.3619203308158302,
          0.3695086456756518,
          0.37715794905913924,
          0.38486423043358087,
          0.3926238038797076,
          0.4004332782272696,
          0.4082895300893574,
          0.4161896795319845,
          0.42413106812958773,
          0.4321112391741224,
          0.44012791982371335,
          0.4481790049953197,
          0.45626254282387757,
          0.464376721527504,
          0.47251985753432146,
          0.4806903847412021,
          0.48888684478818284,
          0.49710787824452685,
          0.505352216613406,
          0.513618675072099,
          0.5219061458734585,
          0.5302135923423307,
          0.5385400434076962,
          0.5468845886175915,
          0.5552463735895005,
          0.5636245958538921,
          0.5720185010530361,
          0.5804273794611751,
          0.5888505627956621,
          0.5972874212917993,
          0.6057373610169076,
          0.6141998214016388,
          0.622674272968761,
          0.631160215241624,
          0.6396571748162694,
          0.6481647035827381,
          0.6566823770825188,
          0.6652097929903583,
          0.6737465697097712,
          0.6822923450726022,
          0.6908467751338989,
          0.699409533054173,
          0.7079803080618479,
          0.7165588044893628,
          0.7251447408769838,
          0.7337378491389144,
          0.742337873786773,
          0.7509445712059453,
          0.7595577089807065,
          0.7681770652643694,
          0.7768024281910267,
          0.7854335953257591,
          0.7940703731504325,
          0.8027125765824573,
          0.811360028524092,
          0.8200125594400774,
          0.8286700069615635,
          0.8373322155144589,
          0.8459990359704772,
          0.8546703253192942,
          0.8633459463603564,
          0.8720257674129858,
          0.8807096620435424,
          0.8893975088084913,
          0.898089191012309,
          0.906784596479254
         ]
        },
        {
         "name": "F (kJ/g)",
         "type": "scatter",
         "x": [
          0,
          10,
          20,
          30,
          40,
          50,
          60,
          70,
          80,
          90,
          100,
          110,
          120,
          130,
          140,
          150,
          160,
          170,
          180,
          190,
          200,
          210,
          220,
          230,
          240,
          250,
          260,
          270,
          280,
          290,
          300,
          310,
          320,
          330,
          340,
          350,
          360,
          370,
          380,
          390,
          400,
          410,
          420,
          430,
          440,
          450,
          460,
          470,
          480,
          490,
          500,
          510,
          520,
          530,
          540,
          550,
          560,
          570,
          580,
          590,
          600,
          610,
          620,
          630,
          640,
          650,
          660,
          670,
          680,
          690,
          700,
          710,
          720,
          730,
          740,
          750,
          760,
          770,
          780,
          790,
          800,
          810,
          820,
          830,
          840,
          850,
          860,
          870,
          880,
          890,
          900,
          910,
          920,
          930,
          940,
          950,
          960,
          970,
          980,
          990,
          1000
         ],
         "y": [
          0.20430629095582714,
          0.20430599461867832,
          0.2043000493393917,
          0.2042630430274745,
          0.20413944211262658,
          0.2038665997645764,
          0.20339565321368774,
          0.20269401313925473,
          0.20174057884784902,
          0.200521057278076,
          0.1990250795928706,
          0.19724476991798884,
          0.1951741303758379,
          0.19280878987742217,
          0.1901458741809773,
          0.18718389255086113,
          0.1839226084301436,
          0.18036289279850878,
          0.17650656908087176,
          0.17235625938699436,
          0.16791523952844623,
          0.16318730737712986,
          0.15817666670671734,
          0.1528878269328567,
          0.14732551807618222,
          0.14149461966345558,
          0.13540010200681873,
          0.1290469782388465,
          0.12244026554471901,
          0.11558495416338596,
          0.10848598288921472,
          0.10114821997128556,
          0.0935764484661206,
          0.08577535524449693,
          0.07774952298132203,
          0.06950342456889028,
          0.0610414194890437,
          0.05236775176029695,
          0.043486549143592165,
          0.03440182334676758,
          0.025117471014699966,
          0.015637275330902877,
          0.005964908088431057,
          -0.003896067885617722,
          -0.013942196045946436,
          -0.024170123261293443,
          -0.0345765968244028,
          -0.045158461389011154,
          -0.05591265587324026,
          -0.06683621036068188,
          -0.07792624302383035,
          -0.08917995708909938,
          -0.10059463785823526,
          -0.11216764979733443,
          -0.12389643370174301,
          -0.13577850394273971,
          -0.14781144579997946,
          -0.15999291288213247,
          -0.1723206246369088,
          -0.1847923639506758,
          -0.1974059748370908,
          -0.21015936021356604,
          -0.22305047976390738,
          -0.2360773478851118,
          -0.24923803171604317,
          -0.2625306492455168,
          -0.27595336749719146,
          -0.2895044007885902,
          -0.3031820090615302,
          -0.3169844962812339,
          -0.33091020890140715,
          -0.34495753439261423,
          -0.35912489983131807,
          -0.3734107705470312,
          -0.3878136488250826,
          -0.4023320726625915,
          -0.4169646145753174,
          -0.4317098804531383,
          -0.4465665084620022,
          -0.4615331679902733,
          -0.47660855863748813,
          -0.49179140924361864,
          -0.507080476957019,
          -0.5224745463393193,
          -0.5379724285056039,
          -0.5535729602982885,
          -0.5692750034931866,
          -0.58507744403632,
          -0.6009791913101059,
          -0.6169791774276054,
          -0.6330763565535925,
          -0.6492697042512536,
          -0.6655582168533907,
          -0.6819409108570493,
          -0.6984168223405474,
          -0.7149850064019347,
          -0.7316445366179469,
          -0.7483945045225777,
          -0.7652340191044229,
          -0.7821622063219992,
          -0.7991782086362712
         ]
        },
        {
         "name": "S DFT(J/K/g)",
         "type": "scatter",
         "x": [
          0,
          10,
          20,
          30,
          40,
          50,
          60,
          70,
          80,
          90,
          100,
          110,
          120,
          130,
          140,
          150,
          160,
          170,
          180,
          190,
          200,
          210,
          220,
          230,
          240,
          250,
          260,
          270,
          280,
          290,
          300,
          310,
          320,
          330,
          340,
          350,
          360,
          370,
          380,
          390,
          400,
          410,
          420,
          430,
          440,
          450,
          460,
          470,
          480,
          490,
          500,
          510,
          520,
          530,
          540,
          550,
          560,
          570,
          580,
          590,
          600,
          610,
          620,
          630,
          640,
          650,
          660,
          670,
          680,
          690,
          700,
          710,
          720,
          730,
          740,
          750,
          760,
          770,
          780,
          790,
          800,
          810,
          820,
          830,
          840,
          850,
          860,
          870,
          880,
          890,
          900,
          910,
          920,
          930,
          940,
          950,
          960,
          970,
          980,
          990,
          1000
         ],
         "y": [
          0,
          0.00010591886078712176,
          0.0011437966748325046,
          0.005723024757453726,
          0.0161587215103639,
          0.03216031302903681,
          0.0522775379026563,
          0.07518375168012033,
          0.09998438648585418,
          0.12613201247071612,
          0.15328449470154953,
          0.18120355709884303,
          0.20969967128215325,
          0.23860761152410004,
          0.26777806098200063,
          0.29707606778287093,
          0.3263815971608748,
          0.355590130235443,
          0.38461265209531487,
          0.4133749864963869,
          0.4418166492192826,
          0.4698894260426864,
          0.4975558470504172,
          0.5247876785891614,
          0.5515645084062302,
          0.5778724644679911,
          0.6037030837228069,
          0.629052331592305,
          0.653919763895508,
          0.6783078182006504,
          0.7022212197108676,
          0.7256664866222331,
          0.7486515207020042,
          0.7711852701385256,
          0.793277453211209,
          0.8149383328406058,
          0.8361785335055862,
          0.8570088933080792,
          0.8774403451072498,
          0.8974838216339383,
          0.9171501803418297,
          0.9364501444680502,
          0.9553942573783012,
          0.9739928477756237,
          0.9922560037719618,
          1.0101935541707752,
          1.0278150555984522,
          1.0451297843620149,
          1.0621467321088767,
          1.0788746045283253,
          1.095321822469801,
          1.111496524964857,
          1.1274065737320367,
          1.143059558820128,
          1.1584628051081944,
          1.1736233794327333,
          1.1885480981551935,
          1.2032435350184718,
          1.217716029170184,
          1.2319716932545997,
          1.2460164214949465,
          1.2598558977041319,
          1.2734956031753653,
          1.2869408244151948,
          1.3001966606905304,
          1.313268031368616,
          1.3261596830349753,
          1.3388761963792468,
          1.351421992842836,
          1.3638013410254874,
          1.3760183628504778,
          1.3880770394901654,
          1.3999812170552295,
          1.4117346120521976,
          1.4233408166148018,
          1.4348033035154182,
          1.4461254309633573,
          1.4573104471971219,
          1.4683614948779675,
          1.4792816152922197,
          1.4900737523698098,
          1.5007407565264745,
          1.5112853883369533,
          1.5217103220463692,
          1.532018148926846,
          1.5422113804861737,
          1.5522924515351562,
          1.5622637231200318,
          1.5721274853261418,
          1.581885959958764,
          1.5915413031068095,
          1.6010956075948395,
          1.6105509053286124,
          1.619909169539163,
          1.6291723169301728,
          1.6383422097331848,
          1.6474206576749906,
          1.6564094198613333,
          1.6653102065808567,
          1.6741246810330432,
          1.682854460983712
         ]
        },
        {
         "name": "Cv DFT(J/K/g)",
         "type": "scatter",
         "x": [
          0,
          10,
          20,
          30,
          40,
          50,
          60,
          70,
          80,
          90,
          100,
          110,
          120,
          130,
          140,
          150,
          160,
          170,
          180,
          190,
          200,
          210,
          220,
          230,
          240,
          250,
          260,
          270,
          280,
          290,
          300,
          310,
          320,
          330,
          340,
          350,
          360,
          370,
          380,
          390,
          400,
          410,
          420,
          430,
          440,
          450,
          460,
          470,
          480,
          490,
          500,
          510,
          520,
          530,
          540,
          550,
          560,
          570,
          580,
          590,
          600,
          610,
          620,
          630,
          640,
          650,
          660,
          670,
          680,
          690,
          700,
          710,
          720,
          730,
          740,
          750,
          760,
          770,
          780,
          790,
          800,
          810,
          820,
          830,
          840,
          850,
          860,
          870,
          880,
          890,
          900,
          910,
          920,
          930,
          940,
          950,
          960,
          970,
          980,
          990,
          1000
         ],
         "y": [
          0,
          0.00032617689737190456,
          0.0044685327275268355,
          0.02206942309050097,
          0.053709976241273445,
          0.09156517252783002,
          0.1301814278294435,
          0.16777993814825298,
          0.20435202783962184,
          0.24026315951263805,
          0.2757021942969593,
          0.31060357893740587,
          0.3447374446349766,
          0.3778175585911912,
          0.409577059519734,
          0.4398073845864336,
          0.4683703500900838,
          0.49519461520809116,
          0.5202649012346063,
          0.5436091251797567,
          0.5652861773623301,
          0.5853755271394447,
          0.6039689695107786,
          0.6211643912551478,
          0.6370612568631091,
          0.651757472482918,
          0.6653473090281189,
          0.6779201139103972,
          0.6895595942592478,
          0.7003435036419943,
          0.7103436057476832,
          0.7196258217118578,
          0.7282504935002776,
          0.736272715255408,
          0.7437426989997677,
          0.7507061517112457,
          0.7572046484725061,
          0.7632759918934233,
          0.7689545518870438,
          0.7742715825818668,
          0.7792555150021916,
          0.7839322253849761,
          0.7883252798029898,
          0.7924561562587291,
          0.7963444456949116,
          0.8000080335023388,
          0.803463263142499,
          0.8067250834744765,
          0.8098071813074763,
          0.8127221006082997,
          0.8154813496888418,
          0.8180954975899566,
          0.8205742607699225,
          0.8229265811015304,
          0.8251606960834632,
          0.8272842020802177,
          0.829304111320766,
          0.8312269033095545,
          0.8330585712340364,
          0.8348046638903989,
          0.8364703235929917,
          0.8380603204826873,
          0.8395790836045022,
          0.8410307290847525,
          0.8424190857023752,
          0.843747718117278,
          0.8450199479903966,
          0.8462388732050123,
          0.8474073853766161,
          0.8485281858187533,
          0.8496038001146877,
          0.8506365914290337,
          0.8516287726795778,
          0.852582417677099,
          0.8534994713299483,
          0.8543817590003125,
          0.8552309950902998,
          0.8560487909281638,
          0.8568366620179915,
          0.8575960347099256,
          0.8583282523424229,
          0.8590345809030348,
          0.859716214249731,
          0.8603742789307771,
          0.8610098386375659,
          0.8616238983215831,
          0.8622174080037792,
          0.8627912663020079,
          0.8633463236998372,
          0.8638833855779401,
          0.864403215027329,
          0.8649065354620157,
          0.8653940330470872,
          0.8658663589568101,
          0.8663241314760812,
          0.8667679379574075,
          0.8671983366445476,
          0.867615858373,
          0.8680210081566693,
          0.8684142666692558,
          0.8687960916282126
         ]
        },
        {
         "name": "U DFT (kJ/g)",
         "type": "scatter",
         "x": [
          0,
          10,
          20,
          30,
          40,
          50,
          60,
          70,
          80,
          90,
          100,
          110,
          120,
          130,
          140,
          150,
          160,
          170,
          180,
          190,
          200,
          210,
          220,
          230,
          240,
          250,
          260,
          270,
          280,
          290,
          300,
          310,
          320,
          330,
          340,
          350,
          360,
          370,
          380,
          390,
          400,
          410,
          420,
          430,
          440,
          450,
          460,
          470,
          480,
          490,
          500,
          510,
          520,
          530,
          540,
          550,
          560,
          570,
          580,
          590,
          600,
          610,
          620,
          630,
          640,
          650,
          660,
          670,
          680,
          690,
          700,
          710,
          720,
          730,
          740,
          750,
          760,
          770,
          780,
          790,
          800,
          810,
          820,
          830,
          840,
          850,
          860,
          870,
          880,
          890,
          900,
          910,
          920,
          930,
          940,
          950,
          960,
          970,
          980,
          990,
          1000
         ],
         "y": [
          0.20881531708393644,
          0.20881610919233787,
          0.2088332235018342,
          0.2089520185831476,
          0.20932235736660773,
          0.21004650246805034,
          0.21115576339426598,
          0.21264655438268837,
          0.21450791112662734,
          0.21673141730985968,
          0.2193116308053602,
          0.22224368732445784,
          0.22552114974048104,
          0.22913492104760266,
          0.23307309203535442,
          0.23732135696427376,
          0.24186367434447723,
          0.24668296204483572,
          0.2517617152621266,
          0.25708250311197917,
          0.26262833826735316,
          0.2683829329735881,
          0.2743308617961994,
          0.2804576521359856,
          0.2867498212859191,
          0.2931948755188218,
          0.299781283357762,
          0.3064984322236676,
          0.31333657521713054,
          0.32028677287134966,
          0.32734083324747915,
          0.33449125265100765,
          0.34173115844902374,
          0.3490542548945028,
          0.35645477245890894,
          0.3639274208942567,
          0.3714673460564674,
          0.3790700903979255,
          0.38673155695968253,
          0.39444797664890224,
          0.40221587856481633,
          0.4100320631293853,
          0.41789357778185826,
          0.4257976950058017,
          0.43374189247037254,
          0.4417238350828375,
          0.4497413587654006,
          0.4577924557854787,
          0.4658752614841406,
          0.4739880422621981,
          0.4821291846972121,
          0.49029718567738895,
          0.49849064344995675,
          0.5067082494921771,
          0.5149487811226815,
          0.5232110947794237,
          0.5314941198982486,
          0.539796853332994,
          0.5481183542642275,
          0.5564577395492373,
          0.5648141794708332,
          0.5731868938469105,
          0.5815751484666517,
          0.5899782518227435,
          0.5983955521121038,
          0.6068264344803995,
          0.6152703184881235,
          0.6237266557782118,
          0.6321949279271704,
          0.6406746444634482,
          0.6491653410383795,
          0.657666577736437,
          0.666177937512808,
          0.674699024747443,
          0.6832294639057506,
          0.6917688982970273,
          0.7003169889225377,
          0.7088734134059009,
          0.7174378649991059,
          0.7260100516580814,
          0.7345896951822891,
          0.7431765304132913,
          0.7517703044877003,
          0.7603707761403009,
          0.7689777150535096,
          0.777590901249659,
          0.7862101245228911,
          0.7948351839077127,
          0.8034658871815162,
          0.8121020503985825,
          0.820743497453293,
          0.8293900596704558,
          0.8380415754208246,
          0.846697889760035,
          0.8553588540893288,
          0.8640243258365623,
          0.8726941681561051,
          0.8813682496463554,
          0.890046444083681,
          0.8987286301716956,
          0.9074146913048531
         ]
        },
        {
         "name": "F DFT(kJ/g)",
         "type": "scatter",
         "x": [
          0,
          10,
          20,
          30,
          40,
          50,
          60,
          70,
          80,
          90,
          100,
          110,
          120,
          130,
          140,
          150,
          160,
          170,
          180,
          190,
          200,
          210,
          220,
          230,
          240,
          250,
          260,
          270,
          280,
          290,
          300,
          310,
          320,
          330,
          340,
          350,
          360,
          370,
          380,
          390,
          400,
          410,
          420,
          430,
          440,
          450,
          460,
          470,
          480,
          490,
          500,
          510,
          520,
          530,
          540,
          550,
          560,
          570,
          580,
          590,
          600,
          610,
          620,
          630,
          640,
          650,
          660,
          670,
          680,
          690,
          700,
          710,
          720,
          730,
          740,
          750,
          760,
          770,
          780,
          790,
          800,
          810,
          820,
          830,
          840,
          850,
          860,
          870,
          880,
          890,
          900,
          910,
          920,
          930,
          940,
          950,
          960,
          970,
          980,
          990,
          1000
         ],
         "y": [
          0.20881531708393644,
          0.20881505003707757,
          0.2088103476016879,
          0.2087803278737933,
          0.20867600853962162,
          0.20843848685014255,
          0.20801911115382782,
          0.20738369179903926,
          0.2065091602420156,
          0.20537953622210686,
          0.20398318137022892,
          0.20231129607907708,
          0.20035718922263795,
          0.19811593158606203,
          0.19558416353509578,
          0.19275994683474296,
          0.1896426188373625,
          0.18623263994420536,
          0.18253143792517587,
          0.1785412557187212,
          0.17426500846543785,
          0.16970615354748428,
          0.16486857548891792,
          0.1597564861052671,
          0.15437433931421732,
          0.14872675944864674,
          0.1428184816377068,
          0.1366543027426926,
          0.13023904137642764,
          0.12357750564431033,
          0.1166744673864947,
          0.10953464185153307,
          0.10216267187895627,
          0.09456311580453268,
          0.0867404384240231,
          0.07869900445816341,
          0.07044307405377909,
          0.06197679993447305,
          0.05330422588068802,
          0.044429286274659016,
          0.03535580649231759,
          0.026087503962966035,
          0.01662798974970856,
          0.006980770530282678,
          -0.0028507491200228698,
          -0.01286326422346886,
          -0.023053566738064517,
          -0.03341854279155965,
          -0.043955169853720645,
          -0.05466051388098629,
          -0.0655317264606932,
          -0.07656604197638847,
          -0.08776077481109412,
          -0.09911331660157038,
          -0.11062113355350706,
          -0.12228176382502355,
          -0.1340928149837813,
          -0.14605196154133046,
          -0.15815694256694568,
          -0.1704055593821112,
          -0.18279567333593472,
          -0.19532520366107303,
          -0.2079921254091981,
          -0.22079446746461062,
          -0.23373031063427288,
          -0.24679778581229195,
          -0.2599950722167025,
          -0.27332039569627564,
          -0.28677202710499766,
          -0.3003482807418233,
          -0.31404751285328447,
          -0.3278681201965525,
          -0.34180853866056976,
          -0.3558672419429129,
          -0.37004274028009204,
          -0.38433357922906214,
          -0.39873833849777457,
          -0.4132556308226771,
          -0.4278841008911352,
          -0.44262242430682947,
          -0.4574693065962458,
          -0.47242348225446945,
          -0.48748371382854483,
          -0.5026487910367554,
          -0.5179175299222366,
          -0.5332887720394085,
          -0.5487613836717866,
          -0.5643342550797809,
          -0.5800062997771765,
          -0.595776453835026,
          -0.6116436752117645,
          -0.6276069431083963,
          -0.6436652573476652,
          -0.6598176377761708,
          -0.6760631236884347,
          -0.6924007732719801,
          -0.7088296630725176,
          -0.7253488874783848,
          -0.7419575582234195,
          -0.7586548039074916,
          -0.7754397695339466
         ]
        },
        {
         "mode": "markers",
         "name": "Cp expt(J/k/g)",
         "type": "scatter",
         "x": [
          298,
          300,
          400,
          500,
          600,
          700,
          800,
          900,
          1000
         ],
         "y": [
          0.711641153,
          0.713777145,
          0.788536846,
          0.830900676,
          0.859736561,
          0.882876468,
          0.90245639,
          0.920256319,
          0.936988252
         ]
        },
        {
         "mode": "markers",
         "name": "S expt(J/k/g)",
         "type": "scatter",
         "x": [
          298,
          300,
          400,
          500,
          600,
          700,
          800,
          900,
          1000
         ],
         "y": [
          0.669633321,
          0.674261303,
          0.891064436,
          1.071911712,
          1.226059096,
          1.360626557,
          1.479530082,
          1.587041652,
          1.68494126
         ]
        }
       ],
       "layout": {
        "height": 500,
        "legend": {
         "orientation": "h",
         "x": 1,
         "xanchor": "right",
         "y": 1,
         "yanchor": "bottom"
        },
        "template": {
         "data": {
          "bar": [
           {
            "error_x": {
             "color": "#2a3f5f"
            },
            "error_y": {
             "color": "#2a3f5f"
            },
            "marker": {
             "line": {
              "color": "#E5ECF6",
              "width": 0.5
             },
             "pattern": {
              "fillmode": "overlay",
              "size": 10,
              "solidity": 0.2
             }
            },
            "type": "bar"
           }
          ],
          "barpolar": [
           {
            "marker": {
             "line": {
              "color": "#E5ECF6",
              "width": 0.5
             },
             "pattern": {
              "fillmode": "overlay",
              "size": 10,
              "solidity": 0.2
             }
            },
            "type": "barpolar"
           }
          ],
          "carpet": [
           {
            "aaxis": {
             "endlinecolor": "#2a3f5f",
             "gridcolor": "white",
             "linecolor": "white",
             "minorgridcolor": "white",
             "startlinecolor": "#2a3f5f"
            },
            "baxis": {
             "endlinecolor": "#2a3f5f",
             "gridcolor": "white",
             "linecolor": "white",
             "minorgridcolor": "white",
             "startlinecolor": "#2a3f5f"
            },
            "type": "carpet"
           }
          ],
          "choropleth": [
           {
            "colorbar": {
             "outlinewidth": 0,
             "ticks": ""
            },
            "type": "choropleth"
           }
          ],
          "contour": [
           {
            "colorbar": {
             "outlinewidth": 0,
             "ticks": ""
            },
            "colorscale": [
             [
              0,
              "#0d0887"
             ],
             [
              0.1111111111111111,
              "#46039f"
             ],
             [
              0.2222222222222222,
              "#7201a8"
             ],
             [
              0.3333333333333333,
              "#9c179e"
             ],
             [
              0.4444444444444444,
              "#bd3786"
             ],
             [
              0.5555555555555556,
              "#d8576b"
             ],
             [
              0.6666666666666666,
              "#ed7953"
             ],
             [
              0.7777777777777778,
              "#fb9f3a"
             ],
             [
              0.8888888888888888,
              "#fdca26"
             ],
             [
              1,
              "#f0f921"
             ]
            ],
            "type": "contour"
           }
          ],
          "contourcarpet": [
           {
            "colorbar": {
             "outlinewidth": 0,
             "ticks": ""
            },
            "type": "contourcarpet"
           }
          ],
          "heatmap": [
           {
            "colorbar": {
             "outlinewidth": 0,
             "ticks": ""
            },
            "colorscale": [
             [
              0,
              "#0d0887"
             ],
             [
              0.1111111111111111,
              "#46039f"
             ],
             [
              0.2222222222222222,
              "#7201a8"
             ],
             [
              0.3333333333333333,
              "#9c179e"
             ],
             [
              0.4444444444444444,
              "#bd3786"
             ],
             [
              0.5555555555555556,
              "#d8576b"
             ],
             [
              0.6666666666666666,
              "#ed7953"
             ],
             [
              0.7777777777777778,
              "#fb9f3a"
             ],
             [
              0.8888888888888888,
              "#fdca26"
             ],
             [
              1,
              "#f0f921"
             ]
            ],
            "type": "heatmap"
           }
          ],
          "heatmapgl": [
           {
            "colorbar": {
             "outlinewidth": 0,
             "ticks": ""
            },
            "colorscale": [
             [
              0,
              "#0d0887"
             ],
             [
              0.1111111111111111,
              "#46039f"
             ],
             [
              0.2222222222222222,
              "#7201a8"
             ],
             [
              0.3333333333333333,
              "#9c179e"
             ],
             [
              0.4444444444444444,
              "#bd3786"
             ],
             [
              0.5555555555555556,
              "#d8576b"
             ],
             [
              0.6666666666666666,
              "#ed7953"
             ],
             [
              0.7777777777777778,
              "#fb9f3a"
             ],
             [
              0.8888888888888888,
              "#fdca26"
             ],
             [
              1,
              "#f0f921"
             ]
            ],
            "type": "heatmapgl"
           }
          ],
          "histogram": [
           {
            "marker": {
             "pattern": {
              "fillmode": "overlay",
              "size": 10,
              "solidity": 0.2
             }
            },
            "type": "histogram"
           }
          ],
          "histogram2d": [
           {
            "colorbar": {
             "outlinewidth": 0,
             "ticks": ""
            },
            "colorscale": [
             [
              0,
              "#0d0887"
             ],
             [
              0.1111111111111111,
              "#46039f"
             ],
             [
              0.2222222222222222,
              "#7201a8"
             ],
             [
              0.3333333333333333,
              "#9c179e"
             ],
             [
              0.4444444444444444,
              "#bd3786"
             ],
             [
              0.5555555555555556,
              "#d8576b"
             ],
             [
              0.6666666666666666,
              "#ed7953"
             ],
             [
              0.7777777777777778,
              "#fb9f3a"
             ],
             [
              0.8888888888888888,
              "#fdca26"
             ],
             [
              1,
              "#f0f921"
             ]
            ],
            "type": "histogram2d"
           }
          ],
          "histogram2dcontour": [
           {
            "colorbar": {
             "outlinewidth": 0,
             "ticks": ""
            },
            "colorscale": [
             [
              0,
              "#0d0887"
             ],
             [
              0.1111111111111111,
              "#46039f"
             ],
             [
              0.2222222222222222,
              "#7201a8"
             ],
             [
              0.3333333333333333,
              "#9c179e"
             ],
             [
              0.4444444444444444,
              "#bd3786"
             ],
             [
              0.5555555555555556,
              "#d8576b"
             ],
             [
              0.6666666666666666,
              "#ed7953"
             ],
             [
              0.7777777777777778,
              "#fb9f3a"
             ],
             [
              0.8888888888888888,
              "#fdca26"
             ],
             [
              1,
              "#f0f921"
             ]
            ],
            "type": "histogram2dcontour"
           }
          ],
          "mesh3d": [
           {
            "colorbar": {
             "outlinewidth": 0,
             "ticks": ""
            },
            "type": "mesh3d"
           }
          ],
          "parcoords": [
           {
            "line": {
             "colorbar": {
              "outlinewidth": 0,
              "ticks": ""
             }
            },
            "type": "parcoords"
           }
          ],
          "pie": [
           {
            "automargin": true,
            "type": "pie"
           }
          ],
          "scatter": [
           {
            "fillpattern": {
             "fillmode": "overlay",
             "size": 10,
             "solidity": 0.2
            },
            "type": "scatter"
           }
          ],
          "scatter3d": [
           {
            "line": {
             "colorbar": {
              "outlinewidth": 0,
              "ticks": ""
             }
            },
            "marker": {
             "colorbar": {
              "outlinewidth": 0,
              "ticks": ""
             }
            },
            "type": "scatter3d"
           }
          ],
          "scattercarpet": [
           {
            "marker": {
             "colorbar": {
              "outlinewidth": 0,
              "ticks": ""
             }
            },
            "type": "scattercarpet"
           }
          ],
          "scattergeo": [
           {
            "marker": {
             "colorbar": {
              "outlinewidth": 0,
              "ticks": ""
             }
            },
            "type": "scattergeo"
           }
          ],
          "scattergl": [
           {
            "marker": {
             "colorbar": {
              "outlinewidth": 0,
              "ticks": ""
             }
            },
            "type": "scattergl"
           }
          ],
          "scattermapbox": [
           {
            "marker": {
             "colorbar": {
              "outlinewidth": 0,
              "ticks": ""
             }
            },
            "type": "scattermapbox"
           }
          ],
          "scatterpolar": [
           {
            "marker": {
             "colorbar": {
              "outlinewidth": 0,
              "ticks": ""
             }
            },
            "type": "scatterpolar"
           }
          ],
          "scatterpolargl": [
           {
            "marker": {
             "colorbar": {
              "outlinewidth": 0,
              "ticks": ""
             }
            },
            "type": "scatterpolargl"
           }
          ],
          "scatterternary": [
           {
            "marker": {
             "colorbar": {
              "outlinewidth": 0,
              "ticks": ""
             }
            },
            "type": "scatterternary"
           }
          ],
          "surface": [
           {
            "colorbar": {
             "outlinewidth": 0,
             "ticks": ""
            },
            "colorscale": [
             [
              0,
              "#0d0887"
             ],
             [
              0.1111111111111111,
              "#46039f"
             ],
             [
              0.2222222222222222,
              "#7201a8"
             ],
             [
              0.3333333333333333,
              "#9c179e"
             ],
             [
              0.4444444444444444,
              "#bd3786"
             ],
             [
              0.5555555555555556,
              "#d8576b"
             ],
             [
              0.6666666666666666,
              "#ed7953"
             ],
             [
              0.7777777777777778,
              "#fb9f3a"
             ],
             [
              0.8888888888888888,
              "#fdca26"
             ],
             [
              1,
              "#f0f921"
             ]
            ],
            "type": "surface"
           }
          ],
          "table": [
           {
            "cells": {
             "fill": {
              "color": "#EBF0F8"
             },
             "line": {
              "color": "white"
             }
            },
            "header": {
             "fill": {
              "color": "#C8D4E3"
             },
             "line": {
              "color": "white"
             }
            },
            "type": "table"
           }
          ]
         },
         "layout": {
          "annotationdefaults": {
           "arrowcolor": "#2a3f5f",
           "arrowhead": 0,
           "arrowwidth": 1
          },
          "autotypenumbers": "strict",
          "coloraxis": {
           "colorbar": {
            "outlinewidth": 0,
            "ticks": ""
           }
          },
          "colorscale": {
           "diverging": [
            [
             0,
             "#8e0152"
            ],
            [
             0.1,
             "#c51b7d"
            ],
            [
             0.2,
             "#de77ae"
            ],
            [
             0.3,
             "#f1b6da"
            ],
            [
             0.4,
             "#fde0ef"
            ],
            [
             0.5,
             "#f7f7f7"
            ],
            [
             0.6,
             "#e6f5d0"
            ],
            [
             0.7,
             "#b8e186"
            ],
            [
             0.8,
             "#7fbc41"
            ],
            [
             0.9,
             "#4d9221"
            ],
            [
             1,
             "#276419"
            ]
           ],
           "sequential": [
            [
             0,
             "#0d0887"
            ],
            [
             0.1111111111111111,
             "#46039f"
            ],
            [
             0.2222222222222222,
             "#7201a8"
            ],
            [
             0.3333333333333333,
             "#9c179e"
            ],
            [
             0.4444444444444444,
             "#bd3786"
            ],
            [
             0.5555555555555556,
             "#d8576b"
            ],
            [
             0.6666666666666666,
             "#ed7953"
            ],
            [
             0.7777777777777778,
             "#fb9f3a"
            ],
            [
             0.8888888888888888,
             "#fdca26"
            ],
            [
             1,
             "#f0f921"
            ]
           ],
           "sequentialminus": [
            [
             0,
             "#0d0887"
            ],
            [
             0.1111111111111111,
             "#46039f"
            ],
            [
             0.2222222222222222,
             "#7201a8"
            ],
            [
             0.3333333333333333,
             "#9c179e"
            ],
            [
             0.4444444444444444,
             "#bd3786"
            ],
            [
             0.5555555555555556,
             "#d8576b"
            ],
            [
             0.6666666666666666,
             "#ed7953"
            ],
            [
             0.7777777777777778,
             "#fb9f3a"
            ],
            [
             0.8888888888888888,
             "#fdca26"
            ],
            [
             1,
             "#f0f921"
            ]
           ]
          },
          "colorway": [
           "#636efa",
           "#EF553B",
           "#00cc96",
           "#ab63fa",
           "#FFA15A",
           "#19d3f3",
           "#FF6692",
           "#B6E880",
           "#FF97FF",
           "#FECB52"
          ],
          "font": {
           "color": "#2a3f5f"
          },
          "geo": {
           "bgcolor": "white",
           "lakecolor": "white",
           "landcolor": "#E5ECF6",
           "showlakes": true,
           "showland": true,
           "subunitcolor": "white"
          },
          "hoverlabel": {
           "align": "left"
          },
          "hovermode": "closest",
          "mapbox": {
           "style": "light"
          },
          "paper_bgcolor": "white",
          "plot_bgcolor": "#E5ECF6",
          "polar": {
           "angularaxis": {
            "gridcolor": "white",
            "linecolor": "white",
            "ticks": ""
           },
           "bgcolor": "#E5ECF6",
           "radialaxis": {
            "gridcolor": "white",
            "linecolor": "white",
            "ticks": ""
           }
          },
          "scene": {
           "xaxis": {
            "backgroundcolor": "#E5ECF6",
            "gridcolor": "white",
            "gridwidth": 2,
            "linecolor": "white",
            "showbackground": true,
            "ticks": "",
            "zerolinecolor": "white"
           },
           "yaxis": {
            "backgroundcolor": "#E5ECF6",
            "gridcolor": "white",
            "gridwidth": 2,
            "linecolor": "white",
            "showbackground": true,
            "ticks": "",
            "zerolinecolor": "white"
           },
           "zaxis": {
            "backgroundcolor": "#E5ECF6",
            "gridcolor": "white",
            "gridwidth": 2,
            "linecolor": "white",
            "showbackground": true,
            "ticks": "",
            "zerolinecolor": "white"
           }
          },
          "shapedefaults": {
           "line": {
            "color": "#2a3f5f"
           }
          },
          "ternary": {
           "aaxis": {
            "gridcolor": "white",
            "linecolor": "white",
            "ticks": ""
           },
           "baxis": {
            "gridcolor": "white",
            "linecolor": "white",
            "ticks": ""
           },
           "bgcolor": "#E5ECF6",
           "caxis": {
            "gridcolor": "white",
            "linecolor": "white",
            "ticks": ""
           }
          },
          "title": {
           "x": 0.05
          },
          "xaxis": {
           "automargin": true,
           "gridcolor": "white",
           "linecolor": "white",
           "ticks": "",
           "title": {
            "standoff": 15
           },
           "zerolinecolor": "white",
           "zerolinewidth": 2
          },
          "yaxis": {
           "automargin": true,
           "gridcolor": "white",
           "linecolor": "white",
           "ticks": "",
           "title": {
            "standoff": 15
           },
           "zerolinecolor": "white",
           "zerolinewidth": 2
          }
         }
        },
        "width": 800,
        "xaxis": {
         "autorange": true,
         "range": [
          0,
          1059.1642532064543
         ],
         "title": {
          "text": "temperature [K]"
         },
         "type": "linear"
        },
        "yaxis": {
         "autorange": true,
         "range": [
          -0.9390055138189637,
          1.857540589834886
         ],
         "title": {
          "text": "themochemistry"
         },
         "type": "linear"
        }
       }
      },
      "image/png": "[encoded data removed]",
      "text/html": [
       "<div>                            <div id=\"1e7f5872-d587-4c03-a3e2-542ec821f44f\" class=\"plotly-graph-div\" style=\"height:500px; width:800px;\"></div>            <script type=\"text/javascript\">                require([\"plotly\"], function(Plotly) {                    window.PLOTLYENV=window.PLOTLYENV || {};                                    if (document.getElementById(\"1e7f5872-d587-4c03-a3e2-542ec821f44f\")) {                    Plotly.newPlot(                        \"1e7f5872-d587-4c03-a3e2-542ec821f44f\",                        [{\"name\":\"S (J/K/g)\",\"x\":[0.0,10.0,20.0,30.0,40.0,50.0,60.0,70.0,80.0,90.0,100.0,110.0,120.0,130.0,140.0,150.0,160.0,170.0,180.0,190.0,200.0,210.0,220.0,230.0,240.0,250.0,260.0,270.0,280.0,290.0,300.0,310.0,320.0,330.0,340.0,350.0,360.0,370.0,380.0,390.0,400.0,410.0,420.0,430.0,440.0,450.0,460.0,470.0,480.0,490.0,500.0,510.0,520.0,530.0,540.0,550.0,560.0,570.0,580.0,590.0,600.0,610.0,620.0,630.0,640.0,650.0,660.0,670.0,680.0,690.0,700.0,710.0,720.0,730.0,740.0,750.0,760.0,770.0,780.0,790.0,800.0,810.0,820.0,830.0,840.0,850.0,860.0,870.0,880.0,890.0,900.0,910.0,920.0,930.0,940.0,950.0,960.0,970.0,980.0,990.0,1000.0],\"y\":[1.3997331178279026e-05,0.00013092149926643767,0.0014443921456989133,0.0069399880555326005,0.01886049488013255,0.03652267631878295,0.058200220153710354,0.08247142930047942,0.10844898227971467,0.13562592460146888,0.16369995877690863,0.1924615764525546,0.2217389891439325,0.25137683186505116,0.2812309370146015,0.3111690847826035,0.34107296211234955,0.3708395157485695,0.4003812832475161,0.42962583878568916,0.4585146413878904,0.4870015590612386,0.515051276684334,0.5426377262920918,0.5697426221199282,0.5963541423217392,0.6224657725240795,0.6480753099548325,0.6731840176531716,0.697795913763718,0.7219171793633888,0.7455556684508451,0.768720504851606,0.7914217523567677,0.8136701461178087,0.835476874991257,0.8568534060739114,0.8778113440509251,0.8983623191841807,0.9185178988024102,0.9382895180314241,0.9576884262401331,0.9767256462941749,0.9954119442214082,1.0137578073183384,1.0317734290777933,1.0494686996080926,1.0668532004529552,1.0839362029182174,1.1007266691734765,1.1172332555300648,1.1334643174064358,1.1494279155822347,1.1651318234164914,1.1805835347663742,1.1957902723930878,1.210758996682697,1.225496414543559,1.2400089883698284,1.2543029449833492,1.2683842844849715,1.2822587889616432,1.2959320310081979,1.3094093820329746,1.3226960203247535,1.3357969388652684,1.3487169528770158,1.3614607071005245,1.3740326827987561,1.386437204489135,1.3986784464059216,1.4107604386973702,1.4226870733634396,1.4344621099408252,1.446089180942817,1.457571797061987,1.4689133521440663,1.4801171279415408,1.4911862986555964,1.502123935275009,1.5129330097205032,1.523616398802953,1.534176888003615,1.5446171750843687,1.5549398735356825,1.565147515869783,1.5752425567662154,1.585227376076727,1.5951042816960943,1.6048755123052778,1.6145432399929665,1.624109572761338,1.6335765569215759,1.6429461793844369,1.6522203698508957,1.6614010029076753,1.6704899000322215,1.679488831511464,1.6883995182784841,1.6972236336710185,1.705962805115525],\"type\":\"scatter\"},{\"name\":\"Cv (J/K/g)\",\"x\":[0.0,10.0,20.0,30.0,40.0,50.0,60.0,70.0,80.0,90.0,100.0,110.0,120.0,130.0,140.0,150.0,160.0,170.0,180.0,190.0,200.0,210.0,220.0,230.0,240.0,250.0,260.0,270.0,280.0,290.0,300.0,310.0,320.0,330.0,340.0,350.0,360.0,370.0,380.0,390.0,400.0,410.0,420.0,430.0,440.0,450.0,460.0,470.0,480.0,490.0,500.0,510.0,520.0,530.0,540.0,550.0,560.0,570.0,580.0,590.0,600.0,610.0,620.0,630.0,640.0,650.0,660.0,670.0,680.0,690.0,700.0,710.0,720.0,730.0,740.0,750.0,760.0,770.0,780.0,790.0,800.0,810.0,820.0,830.0,840.0,850.0,860.0,870.0,880.0,890.0,900.0,910.0,920.0,930.0,940.0,950.0,960.0,970.0,980.0,990.0,1000.0],\"y\":[4.8241895467968386e-05,0.00041603606101451923,0.005570767831751763,0.025851182465411085,0.06025244375107337,0.09976196919092317,0.13898380340910527,0.17663710759005727,0.21311840760418335,0.2489897078915209,0.284484841408548,0.3195107580140306,0.35379075468778226,0.38699793256890613,0.4188389178213955,0.4490923186076438,0.4776173786161687,0.5043467182249242,0.5292725377949863,0.5524316397715535,0.5738918787309122,0.5937410200685341,0.612078130126071,0.6290072292905107,0.6446328050962968,0.6590567758353871,0.6723765438583059,0.6846838435122073,0.6960641533117747,0.7065964980391564,0.7163535120190553,0.7254016703126421,0.7338016214800713,0.7416085755469162,0.7488727154216309,0.7556396105520696,0.7619506191201106,0.7678432703593423,0.7733516222500117,0.7785065923510388,0.7833362612040911,0.7878661488324964,0.7921194655340754,0.7961173385582169,0.7998790164541278,0.8034220529433393,0.8067624721505208,0.8099149169541251,0.812892782114314,0.8157083337149722,0.8183728163295401,0.8208965491934687,0.8232890125435525,0.8255589251687092,0.8277143141093455,0.8297625773438293,0.8317105402108641,0.8335645062354784,0.8353303029534168,0.8370133232634234,0.8386185627785794,0.8401506535959061,0.8416138948572207,0.8430122804331862,0.8443495240260531,0.8456290819542759,0.8468541738535167,0.8480278015031495,0.8491527659648311,0.8502316831997289,0.8512669983132651,0.8522609985604999,0.8532158252312995,0.8541334845220299,0.855015857489466,0.8558647091727916,0.8566816969608293,0.8574683782738286,0.8582262176222202,0.8589565930985131,0.8596608023530118,0.8603400680990373,0.860995543188944,0.8616283152982355,0.8622394112515348,0.8628298010209772,0.8634004014247266,0.8639520795507482,0.8644856559286485,0.865001907470323,0.8655015701982582,0.8659853417786619,0.8664538838750464,0.8669078243365321,0.8673477592338683,0.8677742547550594,0.8681878489714535,0.8685890534842173,0.8689783549602971,0.869356216566185,0.8697230793071336],\"type\":\"scatter\"},{\"name\":\"U (kJ/g)\",\"x\":[0.0,10.0,20.0,30.0,40.0,50.0,60.0,70.0,80.0,90.0,100.0,110.0,120.0,130.0,140.0,150.0,160.0,170.0,180.0,190.0,200.0,210.0,220.0,230.0,240.0,250.0,260.0,270.0,280.0,290.0,300.0,310.0,320.0,330.0,340.0,350.0,360.0,370.0,380.0,390.0,400.0,410.0,420.0,430.0,440.0,450.0,460.0,470.0,480.0,490.0,500.0,510.0,520.0,530.0,540.0,550.0,560.0,570.0,580.0,590.0,600.0,610.0,620.0,630.0,640.0,650.0,660.0,670.0,680.0,690.0,700.0,710.0,720.0,730.0,740.0,750.0,760.0,770.0,780.0,790.0,800.0,810.0,820.0,830.0,840.0,850.0,860.0,870.0,880.0,890.0,900.0,910.0,920.0,930.0,940.0,950.0,960.0,970.0,980.0,990.0,1000.0],\"y\":[0.20430636094248303,0.20430730383367102,0.20432893718230563,0.2044712426691404,0.20489386190783182,0.20569273358051562,0.2068876664229104,0.2084670131902883,0.2104164974302262,0.2127273904922082,0.21539507547056144,0.21841554332776988,0.22178280907310977,0.22548777801987882,0.2295182053630215,0.2338592552682516,0.2384942823681195,0.2434056104757656,0.24857520006542466,0.2539851687562753,0.2596181678060243,0.2654576347799899,0.2714879475772708,0.27769450398003787,0.2840637473849649,0.29058315524389033,0.29724120286307937,0.3040273119266513,0.3109317904876071,0.3179457691548642,0.32506113669823133,0.33227047719104763,0.33956701001863443,0.34694453352223026,0.354397372661377,0.3619203308158302,0.3695086456756518,0.37715794905913924,0.38486423043358087,0.3926238038797076,0.4004332782272696,0.4082895300893574,0.4161896795319845,0.42413106812958773,0.4321112391741224,0.44012791982371335,0.4481790049953197,0.45626254282387757,0.464376721527504,0.47251985753432146,0.4806903847412021,0.48888684478818284,0.49710787824452685,0.505352216613406,0.513618675072099,0.5219061458734585,0.5302135923423307,0.5385400434076962,0.5468845886175915,0.5552463735895005,0.5636245958538921,0.5720185010530361,0.5804273794611751,0.5888505627956621,0.5972874212917993,0.6057373610169076,0.6141998214016388,0.622674272968761,0.631160215241624,0.6396571748162694,0.6481647035827381,0.6566823770825188,0.6652097929903583,0.6737465697097712,0.6822923450726022,0.6908467751338989,0.699409533054173,0.7079803080618479,0.7165588044893628,0.7251447408769838,0.7337378491389144,0.742337873786773,0.7509445712059453,0.7595577089807065,0.7681770652643694,0.7768024281910267,0.7854335953257591,0.7940703731504325,0.8027125765824573,0.811360028524092,0.8200125594400774,0.8286700069615635,0.8373322155144589,0.8459990359704772,0.8546703253192942,0.8633459463603564,0.8720257674129858,0.8807096620435424,0.8893975088084913,0.898089191012309,0.906784596479254],\"type\":\"scatter\"},{\"name\":\"F (kJ/g)\",\"x\":[0.0,10.0,20.0,30.0,40.0,50.0,60.0,70.0,80.0,90.0,100.0,110.0,120.0,130.0,140.0,150.0,160.0,170.0,180.0,190.0,200.0,210.0,220.0,230.0,240.0,250.0,260.0,270.0,280.0,290.0,300.0,310.0,320.0,330.0,340.0,350.0,360.0,370.0,380.0,390.0,400.0,410.0,420.0,430.0,440.0,450.0,460.0,470.0,480.0,490.0,500.0,510.0,520.0,530.0,540.0,550.0,560.0,570.0,580.0,590.0,600.0,610.0,620.0,630.0,640.0,650.0,660.0,670.0,680.0,690.0,700.0,710.0,720.0,730.0,740.0,750.0,760.0,770.0,780.0,790.0,800.0,810.0,820.0,830.0,840.0,850.0,860.0,870.0,880.0,890.0,900.0,910.0,920.0,930.0,940.0,950.0,960.0,970.0,980.0,990.0,1000.0],\"y\":[0.20430629095582714,0.20430599461867832,0.2043000493393917,0.2042630430274745,0.20413944211262658,0.2038665997645764,0.20339565321368774,0.20269401313925473,0.20174057884784902,0.200521057278076,0.1990250795928706,0.19724476991798884,0.1951741303758379,0.19280878987742217,0.1901458741809773,0.18718389255086113,0.1839226084301436,0.18036289279850878,0.17650656908087176,0.17235625938699436,0.16791523952844623,0.16318730737712986,0.15817666670671734,0.1528878269328567,0.14732551807618222,0.14149461966345558,0.13540010200681873,0.1290469782388465,0.12244026554471901,0.11558495416338596,0.10848598288921472,0.10114821997128556,0.0935764484661206,0.08577535524449693,0.07774952298132203,0.06950342456889028,0.0610414194890437,0.05236775176029695,0.043486549143592165,0.03440182334676758,0.025117471014699966,0.015637275330902877,0.005964908088431057,-0.003896067885617722,-0.013942196045946436,-0.024170123261293443,-0.0345765968244028,-0.045158461389011154,-0.05591265587324026,-0.06683621036068188,-0.07792624302383035,-0.08917995708909938,-0.10059463785823526,-0.11216764979733443,-0.12389643370174301,-0.13577850394273971,-0.14781144579997946,-0.15999291288213247,-0.1723206246369088,-0.1847923639506758,-0.1974059748370908,-0.21015936021356604,-0.22305047976390738,-0.2360773478851118,-0.24923803171604317,-0.2625306492455168,-0.27595336749719146,-0.2895044007885902,-0.3031820090615302,-0.3169844962812339,-0.33091020890140715,-0.34495753439261423,-0.35912489983131807,-0.3734107705470312,-0.3878136488250826,-0.4023320726625915,-0.4169646145753174,-0.4317098804531383,-0.4465665084620022,-0.4615331679902733,-0.47660855863748813,-0.49179140924361864,-0.507080476957019,-0.5224745463393193,-0.5379724285056039,-0.5535729602982885,-0.5692750034931866,-0.58507744403632,-0.6009791913101059,-0.6169791774276054,-0.6330763565535925,-0.6492697042512536,-0.6655582168533907,-0.6819409108570493,-0.6984168223405474,-0.7149850064019347,-0.7316445366179469,-0.7483945045225777,-0.7652340191044229,-0.7821622063219992,-0.7991782086362712],\"type\":\"scatter\"},{\"name\":\"S DFT(J/K/g)\",\"x\":[0.0,10.0,20.0,30.0,40.0,50.0,60.0,70.0,80.0,90.0,100.0,110.0,120.0,130.0,140.0,150.0,160.0,170.0,180.0,190.0,200.0,210.0,220.0,230.0,240.0,250.0,260.0,270.0,280.0,290.0,300.0,310.0,320.0,330.0,340.0,350.0,360.0,370.0,380.0,390.0,400.0,410.0,420.0,430.0,440.0,450.0,460.0,470.0,480.0,490.0,500.0,510.0,520.0,530.0,540.0,550.0,560.0,570.0,580.0,590.0,600.0,610.0,620.0,630.0,640.0,650.0,660.0,670.0,680.0,690.0,700.0,710.0,720.0,730.0,740.0,750.0,760.0,770.0,780.0,790.0,800.0,810.0,820.0,830.0,840.0,850.0,860.0,870.0,880.0,890.0,900.0,910.0,920.0,930.0,940.0,950.0,960.0,970.0,980.0,990.0,1000.0],\"y\":[0.0,0.00010591886078712176,0.0011437966748325046,0.005723024757453726,0.0161587215103639,0.03216031302903681,0.0522775379026563,0.07518375168012033,0.09998438648585418,0.12613201247071612,0.15328449470154953,0.18120355709884303,0.20969967128215325,0.23860761152410004,0.26777806098200063,0.29707606778287093,0.3263815971608748,0.355590130235443,0.38461265209531487,0.4133749864963869,0.4418166492192826,0.4698894260426864,0.4975558470504172,0.5247876785891614,0.5515645084062302,0.5778724644679911,0.6037030837228069,0.629052331592305,0.653919763895508,0.6783078182006504,0.7022212197108676,0.7256664866222331,0.7486515207020042,0.7711852701385256,0.793277453211209,0.8149383328406058,0.8361785335055862,0.8570088933080792,0.8774403451072498,0.8974838216339383,0.9171501803418297,0.9364501444680502,0.9553942573783012,0.9739928477756237,0.9922560037719618,1.0101935541707752,1.0278150555984522,1.0451297843620149,1.0621467321088767,1.0788746045283253,1.095321822469801,1.111496524964857,1.1274065737320367,1.143059558820128,1.1584628051081944,1.1736233794327333,1.1885480981551935,1.2032435350184718,1.217716029170184,1.2319716932545997,1.2460164214949465,1.2598558977041319,1.2734956031753653,1.2869408244151948,1.3001966606905304,1.313268031368616,1.3261596830349753,1.3388761963792468,1.351421992842836,1.3638013410254874,1.3760183628504778,1.3880770394901654,1.3999812170552295,1.4117346120521976,1.4233408166148018,1.4348033035154182,1.4461254309633573,1.4573104471971219,1.4683614948779675,1.4792816152922197,1.4900737523698098,1.5007407565264745,1.5112853883369533,1.5217103220463692,1.532018148926846,1.5422113804861737,1.5522924515351562,1.5622637231200318,1.5721274853261418,1.581885959958764,1.5915413031068095,1.6010956075948395,1.6105509053286124,1.619909169539163,1.6291723169301728,1.6383422097331848,1.6474206576749906,1.6564094198613333,1.6653102065808567,1.6741246810330432,1.682854460983712],\"type\":\"scatter\"},{\"name\":\"Cv DFT(J/K/g)\",\"x\":[0.0,10.0,20.0,30.0,40.0,50.0,60.0,70.0,80.0,90.0,100.0,110.0,120.0,130.0,140.0,150.0,160.0,170.0,180.0,190.0,200.0,210.0,220.0,230.0,240.0,250.0,260.0,270.0,280.0,290.0,300.0,310.0,320.0,330.0,340.0,350.0,360.0,370.0,380.0,390.0,400.0,410.0,420.0,430.0,440.0,450.0,460.0,470.0,480.0,490.0,500.0,510.0,520.0,530.0,540.0,550.0,560.0,570.0,580.0,590.0,600.0,610.0,620.0,630.0,640.0,650.0,660.0,670.0,680.0,690.0,700.0,710.0,720.0,730.0,740.0,750.0,760.0,770.0,780.0,790.0,800.0,810.0,820.0,830.0,840.0,850.0,860.0,870.0,880.0,890.0,900.0,910.0,920.0,930.0,940.0,950.0,960.0,970.0,980.0,990.0,1000.0],\"y\":[0.0,0.00032617689737190456,0.0044685327275268355,0.02206942309050097,0.053709976241273445,0.09156517252783002,0.1301814278294435,0.16777993814825298,0.20435202783962184,0.24026315951263805,0.2757021942969593,0.31060357893740587,0.3447374446349766,0.3778175585911912,0.409577059519734,0.4398073845864336,0.4683703500900838,0.49519461520809116,0.5202649012346063,0.5436091251797567,0.5652861773623301,0.5853755271394447,0.6039689695107786,0.6211643912551478,0.6370612568631091,0.651757472482918,0.6653473090281189,0.6779201139103972,0.6895595942592478,0.7003435036419943,0.7103436057476832,0.7196258217118578,0.7282504935002776,0.736272715255408,0.7437426989997677,0.7507061517112457,0.7572046484725061,0.7632759918934233,0.7689545518870438,0.7742715825818668,0.7792555150021916,0.7839322253849761,0.7883252798029898,0.7924561562587291,0.7963444456949116,0.8000080335023388,0.803463263142499,0.8067250834744765,0.8098071813074763,0.8127221006082997,0.8154813496888418,0.8180954975899566,0.8205742607699225,0.8229265811015304,0.8251606960834632,0.8272842020802177,0.829304111320766,0.8312269033095545,0.8330585712340364,0.8348046638903989,0.8364703235929917,0.8380603204826873,0.8395790836045022,0.8410307290847525,0.8424190857023752,0.843747718117278,0.8450199479903966,0.8462388732050123,0.8474073853766161,0.8485281858187533,0.8496038001146877,0.8506365914290337,0.8516287726795778,0.852582417677099,0.8534994713299483,0.8543817590003125,0.8552309950902998,0.8560487909281638,0.8568366620179915,0.8575960347099256,0.8583282523424229,0.8590345809030348,0.859716214249731,0.8603742789307771,0.8610098386375659,0.8616238983215831,0.8622174080037792,0.8627912663020079,0.8633463236998372,0.8638833855779401,0.864403215027329,0.8649065354620157,0.8653940330470872,0.8658663589568101,0.8663241314760812,0.8667679379574075,0.8671983366445476,0.867615858373,0.8680210081566693,0.8684142666692558,0.8687960916282126],\"type\":\"scatter\"},{\"name\":\"U DFT (kJ/g)\",\"x\":[0.0,10.0,20.0,30.0,40.0,50.0,60.0,70.0,80.0,90.0,100.0,110.0,120.0,130.0,140.0,150.0,160.0,170.0,180.0,190.0,200.0,210.0,220.0,230.0,240.0,250.0,260.0,270.0,280.0,290.0,300.0,310.0,320.0,330.0,340.0,350.0,360.0,370.0,380.0,390.0,400.0,410.0,420.0,430.0,440.0,450.0,460.0,470.0,480.0,490.0,500.0,510.0,520.0,530.0,540.0,550.0,560.0,570.0,580.0,590.0,600.0,610.0,620.0,630.0,640.0,650.0,660.0,670.0,680.0,690.0,700.0,710.0,720.0,730.0,740.0,750.0,760.0,770.0,780.0,790.0,800.0,810.0,820.0,830.0,840.0,850.0,860.0,870.0,880.0,890.0,900.0,910.0,920.0,930.0,940.0,950.0,960.0,970.0,980.0,990.0,1000.0],\"y\":[0.20881531708393644,0.20881610919233787,0.2088332235018342,0.2089520185831476,0.20932235736660773,0.21004650246805034,0.21115576339426598,0.21264655438268837,0.21450791112662734,0.21673141730985968,0.2193116308053602,0.22224368732445784,0.22552114974048104,0.22913492104760266,0.23307309203535442,0.23732135696427376,0.24186367434447723,0.24668296204483572,0.2517617152621266,0.25708250311197917,0.26262833826735316,0.2683829329735881,0.2743308617961994,0.2804576521359856,0.2867498212859191,0.2931948755188218,0.299781283357762,0.3064984322236676,0.31333657521713054,0.32028677287134966,0.32734083324747915,0.33449125265100765,0.34173115844902374,0.3490542548945028,0.35645477245890894,0.3639274208942567,0.3714673460564674,0.3790700903979255,0.38673155695968253,0.39444797664890224,0.40221587856481633,0.4100320631293853,0.41789357778185826,0.4257976950058017,0.43374189247037254,0.4417238350828375,0.4497413587654006,0.4577924557854787,0.4658752614841406,0.4739880422621981,0.4821291846972121,0.49029718567738895,0.49849064344995675,0.5067082494921771,0.5149487811226815,0.5232110947794237,0.5314941198982486,0.539796853332994,0.5481183542642275,0.5564577395492373,0.5648141794708332,0.5731868938469105,0.5815751484666517,0.5899782518227435,0.5983955521121038,0.6068264344803995,0.6152703184881235,0.6237266557782118,0.6321949279271704,0.6406746444634482,0.6491653410383795,0.657666577736437,0.666177937512808,0.674699024747443,0.6832294639057506,0.6917688982970273,0.7003169889225377,0.7088734134059009,0.7174378649991059,0.7260100516580814,0.7345896951822891,0.7431765304132913,0.7517703044877003,0.7603707761403009,0.7689777150535096,0.777590901249659,0.7862101245228911,0.7948351839077127,0.8034658871815162,0.8121020503985825,0.820743497453293,0.8293900596704558,0.8380415754208246,0.846697889760035,0.8553588540893288,0.8640243258365623,0.8726941681561051,0.8813682496463554,0.890046444083681,0.8987286301716956,0.9074146913048531],\"type\":\"scatter\"},{\"name\":\"F DFT(kJ/g)\",\"x\":[0.0,10.0,20.0,30.0,40.0,50.0,60.0,70.0,80.0,90.0,100.0,110.0,120.0,130.0,140.0,150.0,160.0,170.0,180.0,190.0,200.0,210.0,220.0,230.0,240.0,250.0,260.0,270.0,280.0,290.0,300.0,310.0,320.0,330.0,340.0,350.0,360.0,370.0,380.0,390.0,400.0,410.0,420.0,430.0,440.0,450.0,460.0,470.0,480.0,490.0,500.0,510.0,520.0,530.0,540.0,550.0,560.0,570.0,580.0,590.0,600.0,610.0,620.0,630.0,640.0,650.0,660.0,670.0,680.0,690.0,700.0,710.0,720.0,730.0,740.0,750.0,760.0,770.0,780.0,790.0,800.0,810.0,820.0,830.0,840.0,850.0,860.0,870.0,880.0,890.0,900.0,910.0,920.0,930.0,940.0,950.0,960.0,970.0,980.0,990.0,1000.0],\"y\":[0.20881531708393644,0.20881505003707757,0.2088103476016879,0.2087803278737933,0.20867600853962162,0.20843848685014255,0.20801911115382782,0.20738369179903926,0.2065091602420156,0.20537953622210686,0.20398318137022892,0.20231129607907708,0.20035718922263795,0.19811593158606203,0.19558416353509578,0.19275994683474296,0.1896426188373625,0.18623263994420536,0.18253143792517587,0.1785412557187212,0.17426500846543785,0.16970615354748428,0.16486857548891792,0.1597564861052671,0.15437433931421732,0.14872675944864674,0.1428184816377068,0.1366543027426926,0.13023904137642764,0.12357750564431033,0.1166744673864947,0.10953464185153307,0.10216267187895627,0.09456311580453268,0.0867404384240231,0.07869900445816341,0.07044307405377909,0.06197679993447305,0.05330422588068802,0.044429286274659016,0.03535580649231759,0.026087503962966035,0.01662798974970856,0.006980770530282678,-0.0028507491200228698,-0.01286326422346886,-0.023053566738064517,-0.03341854279155965,-0.043955169853720645,-0.05466051388098629,-0.0655317264606932,-0.07656604197638847,-0.08776077481109412,-0.09911331660157038,-0.11062113355350706,-0.12228176382502355,-0.1340928149837813,-0.14605196154133046,-0.15815694256694568,-0.1704055593821112,-0.18279567333593472,-0.19532520366107303,-0.2079921254091981,-0.22079446746461062,-0.23373031063427288,-0.24679778581229195,-0.2599950722167025,-0.27332039569627564,-0.28677202710499766,-0.3003482807418233,-0.31404751285328447,-0.3278681201965525,-0.34180853866056976,-0.3558672419429129,-0.37004274028009204,-0.38433357922906214,-0.39873833849777457,-0.4132556308226771,-0.4278841008911352,-0.44262242430682947,-0.4574693065962458,-0.47242348225446945,-0.48748371382854483,-0.5026487910367554,-0.5179175299222366,-0.5332887720394085,-0.5487613836717866,-0.5643342550797809,-0.5800062997771765,-0.595776453835026,-0.6116436752117645,-0.6276069431083963,-0.6436652573476652,-0.6598176377761708,-0.6760631236884347,-0.6924007732719801,-0.7088296630725176,-0.7253488874783848,-0.7419575582234195,-0.7586548039074916,-0.7754397695339466],\"type\":\"scatter\"},{\"mode\":\"markers\",\"name\":\"Cp expt(J/k/g)\",\"x\":[298,300,400,500,600,700,800,900,1000],\"y\":[0.711641153,0.713777145,0.788536846,0.830900676,0.859736561,0.882876468,0.90245639,0.920256319,0.936988252],\"type\":\"scatter\"},{\"mode\":\"markers\",\"name\":\"S expt(J/k/g)\",\"x\":[298,300,400,500,600,700,800,900,1000],\"y\":[0.669633321,0.674261303,0.891064436,1.071911712,1.226059096,1.360626557,1.479530082,1.587041652,1.68494126],\"type\":\"scatter\"}],                        {\"template\":{\"data\":{\"histogram2dcontour\":[{\"type\":\"histogram2dcontour\",\"colorbar\":{\"outlinewidth\":0,\"ticks\":\"\"},\"colorscale\":[[0.0,\"#0d0887\"],[0.1111111111111111,\"#46039f\"],[0.2222222222222222,\"#7201a8\"],[0.3333333333333333,\"#9c179e\"],[0.4444444444444444,\"#bd3786\"],[0.5555555555555556,\"#d8576b\"],[0.6666666666666666,\"#ed7953\"],[0.7777777777777778,\"#fb9f3a\"],[0.8888888888888888,\"#fdca26\"],[1.0,\"#f0f921\"]]}],\"choropleth\":[{\"type\":\"choropleth\",\"colorbar\":{\"outlinewidth\":0,\"ticks\":\"\"}}],\"histogram2d\":[{\"type\":\"histogram2d\",\"colorbar\":{\"outlinewidth\":0,\"ticks\":\"\"},\"colorscale\":[[0.0,\"#0d0887\"],[0.1111111111111111,\"#46039f\"],[0.2222222222222222,\"#7201a8\"],[0.3333333333333333,\"#9c179e\"],[0.4444444444444444,\"#bd3786\"],[0.5555555555555556,\"#d8576b\"],[0.6666666666666666,\"#ed7953\"],[0.7777777777777778,\"#fb9f3a\"],[0.8888888888888888,\"#fdca26\"],[1.0,\"#f0f921\"]]}],\"heatmap\":[{\"type\":\"heatmap\",\"colorbar\":{\"outlinewidth\":0,\"ticks\":\"\"},\"colorscale\":[[0.0,\"#0d0887\"],[0.1111111111111111,\"#46039f\"],[0.2222222222222222,\"#7201a8\"],[0.3333333333333333,\"#9c179e\"],[0.4444444444444444,\"#bd3786\"],[0.5555555555555556,\"#d8576b\"],[0.6666666666666666,\"#ed7953\"],[0.7777777777777778,\"#fb9f3a\"],[0.8888888888888888,\"#fdca26\"],[1.0,\"#f0f921\"]]}],\"heatmapgl\":[{\"type\":\"heatmapgl\",\"colorbar\":{\"outlinewidth\":0,\"ticks\":\"\"},\"colorscale\":[[0.0,\"#0d0887\"],[0.1111111111111111,\"#46039f\"],[0.2222222222222222,\"#7201a8\"],[0.3333333333333333,\"#9c179e\"],[0.4444444444444444,\"#bd3786\"],[0.5555555555555556,\"#d8576b\"],[0.6666666666666666,\"#ed7953\"],[0.7777777777777778,\"#fb9f3a\"],[0.8888888888888888,\"#fdca26\"],[1.0,\"#f0f921\"]]}],\"contourcarpet\":[{\"type\":\"contourcarpet\",\"colorbar\":{\"outlinewidth\":0,\"ticks\":\"\"}}],\"contour\":[{\"type\":\"contour\",\"colorbar\":{\"outlinewidth\":0,\"ticks\":\"\"},\"colorscale\":[[0.0,\"#0d0887\"],[0.1111111111111111,\"#46039f\"],[0.2222222222222222,\"#7201a8\"],[0.3333333333333333,\"#9c179e\"],[0.4444444444444444,\"#bd3786\"],[0.5555555555555556,\"#d8576b\"],[0.6666666666666666,\"#ed7953\"],[0.7777777777777778,\"#fb9f3a\"],[0.8888888888888888,\"#fdca26\"],[1.0,\"#f0f921\"]]}],\"surface\":[{\"type\":\"surface\",\"colorbar\":{\"outlinewidth\":0,\"ticks\":\"\"},\"colorscale\":[[0.0,\"#0d0887\"],[0.1111111111111111,\"#46039f\"],[0.2222222222222222,\"#7201a8\"],[0.3333333333333333,\"#9c179e\"],[0.4444444444444444,\"#bd3786\"],[0.5555555555555556,\"#d8576b\"],[0.6666666666666666,\"#ed7953\"],[0.7777777777777778,\"#fb9f3a\"],[0.8888888888888888,\"#fdca26\"],[1.0,\"#f0f921\"]]}],\"mesh3d\":[{\"type\":\"mesh3d\",\"colorbar\":{\"outlinewidth\":0,\"ticks\":\"\"}}],\"scatter\":[{\"fillpattern\":{\"fillmode\":\"overlay\",\"size\":10,\"solidity\":0.2},\"type\":\"scatter\"}],\"parcoords\":[{\"type\":\"parcoords\",\"line\":{\"colorbar\":{\"outlinewidth\":0,\"ticks\":\"\"}}}],\"scatterpolargl\":[{\"type\":\"scatterpolargl\",\"marker\":{\"colorbar\":{\"outlinewidth\":0,\"ticks\":\"\"}}}],\"bar\":[{\"error_x\":{\"color\":\"#2a3f5f\"},\"error_y\":{\"color\":\"#2a3f5f\"},\"marker\":{\"line\":{\"color\":\"#E5ECF6\",\"width\":0.5},\"pattern\":{\"fillmode\":\"overlay\",\"size\":10,\"solidity\":0.2}},\"type\":\"bar\"}],\"scattergeo\":[{\"type\":\"scattergeo\",\"marker\":{\"colorbar\":{\"outlinewidth\":0,\"ticks\":\"\"}}}],\"scatterpolar\":[{\"type\":\"scatterpolar\",\"marker\":{\"colorbar\":{\"outlinewidth\":0,\"ticks\":\"\"}}}],\"histogram\":[{\"marker\":{\"pattern\":{\"fillmode\":\"overlay\",\"size\":10,\"solidity\":0.2}},\"type\":\"histogram\"}],\"scattergl\":[{\"type\":\"scattergl\",\"marker\":{\"colorbar\":{\"outlinewidth\":0,\"ticks\":\"\"}}}],\"scatter3d\":[{\"type\":\"scatter3d\",\"line\":{\"colorbar\":{\"outlinewidth\":0,\"ticks\":\"\"}},\"marker\":{\"colorbar\":{\"outlinewidth\":0,\"ticks\":\"\"}}}],\"scattermapbox\":[{\"type\":\"scattermapbox\",\"marker\":{\"colorbar\":{\"outlinewidth\":0,\"ticks\":\"\"}}}],\"scatterternary\":[{\"type\":\"scatterternary\",\"marker\":{\"colorbar\":{\"outlinewidth\":0,\"ticks\":\"\"}}}],\"scattercarpet\":[{\"type\":\"scattercarpet\",\"marker\":{\"colorbar\":{\"outlinewidth\":0,\"ticks\":\"\"}}}],\"carpet\":[{\"aaxis\":{\"endlinecolor\":\"#2a3f5f\",\"gridcolor\":\"white\",\"linecolor\":\"white\",\"minorgridcolor\":\"white\",\"startlinecolor\":\"#2a3f5f\"},\"baxis\":{\"endlinecolor\":\"#2a3f5f\",\"gridcolor\":\"white\",\"linecolor\":\"white\",\"minorgridcolor\":\"white\",\"startlinecolor\":\"#2a3f5f\"},\"type\":\"carpet\"}],\"table\":[{\"cells\":{\"fill\":{\"color\":\"#EBF0F8\"},\"line\":{\"color\":\"white\"}},\"header\":{\"fill\":{\"color\":\"#C8D4E3\"},\"line\":{\"color\":\"white\"}},\"type\":\"table\"}],\"barpolar\":[{\"marker\":{\"line\":{\"color\":\"#E5ECF6\",\"width\":0.5},\"pattern\":{\"fillmode\":\"overlay\",\"size\":10,\"solidity\":0.2}},\"type\":\"barpolar\"}],\"pie\":[{\"automargin\":true,\"type\":\"pie\"}]},\"layout\":{\"autotypenumbers\":\"strict\",\"colorway\":[\"#636efa\",\"#EF553B\",\"#00cc96\",\"#ab63fa\",\"#FFA15A\",\"#19d3f3\",\"#FF6692\",\"#B6E880\",\"#FF97FF\",\"#FECB52\"],\"font\":{\"color\":\"#2a3f5f\"},\"hovermode\":\"closest\",\"hoverlabel\":{\"align\":\"left\"},\"paper_bgcolor\":\"white\",\"plot_bgcolor\":\"#E5ECF6\",\"polar\":{\"bgcolor\":\"#E5ECF6\",\"angularaxis\":{\"gridcolor\":\"white\",\"linecolor\":\"white\",\"ticks\":\"\"},\"radialaxis\":{\"gridcolor\":\"white\",\"linecolor\":\"white\",\"ticks\":\"\"}},\"ternary\":{\"bgcolor\":\"#E5ECF6\",\"aaxis\":{\"gridcolor\":\"white\",\"linecolor\":\"white\",\"ticks\":\"\"},\"baxis\":{\"gridcolor\":\"white\",\"linecolor\":\"white\",\"ticks\":\"\"},\"caxis\":{\"gridcolor\":\"white\",\"linecolor\":\"white\",\"ticks\":\"\"}},\"coloraxis\":{\"colorbar\":{\"outlinewidth\":0,\"ticks\":\"\"}},\"colorscale\":{\"sequential\":[[0.0,\"#0d0887\"],[0.1111111111111111,\"#46039f\"],[0.2222222222222222,\"#7201a8\"],[0.3333333333333333,\"#9c179e\"],[0.4444444444444444,\"#bd3786\"],[0.5555555555555556,\"#d8576b\"],[0.6666666666666666,\"#ed7953\"],[0.7777777777777778,\"#fb9f3a\"],[0.8888888888888888,\"#fdca26\"],[1.0,\"#f0f921\"]],\"sequentialminus\":[[0.0,\"#0d0887\"],[0.1111111111111111,\"#46039f\"],[0.2222222222222222,\"#7201a8\"],[0.3333333333333333,\"#9c179e\"],[0.4444444444444444,\"#bd3786\"],[0.5555555555555556,\"#d8576b\"],[0.6666666666666666,\"#ed7953\"],[0.7777777777777778,\"#fb9f3a\"],[0.8888888888888888,\"#fdca26\"],[1.0,\"#f0f921\"]],\"diverging\":[[0,\"#8e0152\"],[0.1,\"#c51b7d\"],[0.2,\"#de77ae\"],[0.3,\"#f1b6da\"],[0.4,\"#fde0ef\"],[0.5,\"#f7f7f7\"],[0.6,\"#e6f5d0\"],[0.7,\"#b8e186\"],[0.8,\"#7fbc41\"],[0.9,\"#4d9221\"],[1,\"#276419\"]]},\"xaxis\":{\"gridcolor\":\"white\",\"linecolor\":\"white\",\"ticks\":\"\",\"title\":{\"standoff\":15},\"zerolinecolor\":\"white\",\"automargin\":true,\"zerolinewidth\":2},\"yaxis\":{\"gridcolor\":\"white\",\"linecolor\":\"white\",\"ticks\":\"\",\"title\":{\"standoff\":15},\"zerolinecolor\":\"white\",\"automargin\":true,\"zerolinewidth\":2},\"scene\":{\"xaxis\":{\"backgroundcolor\":\"#E5ECF6\",\"gridcolor\":\"white\",\"linecolor\":\"white\",\"showbackground\":true,\"ticks\":\"\",\"zerolinecolor\":\"white\",\"gridwidth\":2},\"yaxis\":{\"backgroundcolor\":\"#E5ECF6\",\"gridcolor\":\"white\",\"linecolor\":\"white\",\"showbackground\":true,\"ticks\":\"\",\"zerolinecolor\":\"white\",\"gridwidth\":2},\"zaxis\":{\"backgroundcolor\":\"#E5ECF6\",\"gridcolor\":\"white\",\"linecolor\":\"white\",\"showbackground\":true,\"ticks\":\"\",\"zerolinecolor\":\"white\",\"gridwidth\":2}},\"shapedefaults\":{\"line\":{\"color\":\"#2a3f5f\"}},\"annotationdefaults\":{\"arrowcolor\":\"#2a3f5f\",\"arrowhead\":0,\"arrowwidth\":1},\"geo\":{\"bgcolor\":\"white\",\"landcolor\":\"#E5ECF6\",\"subunitcolor\":\"white\",\"showland\":true,\"showlakes\":true,\"lakecolor\":\"white\"},\"title\":{\"x\":0.05},\"mapbox\":{\"style\":\"light\"}}},\"xaxis\":{\"title\":{\"text\":\"temperature [K]\"}},\"yaxis\":{\"title\":{\"text\":\"themochemistry\"}},\"legend\":{\"x\":1.0,\"xanchor\":\"right\",\"y\":1.0,\"yanchor\":\"bottom\",\"orientation\":\"h\"},\"width\":800,\"height\":500},                        {\"responsive\": true}                    ).then(function(){\n",
       "                            \n",
       "var gd = document.getElementById('1e7f5872-d587-4c03-a3e2-542ec821f44f');\n",
       "var x = new MutationObserver(function (mutations, observer) {{\n",
       "        var display = window.getComputedStyle(gd).display;\n",
       "        if (!display || display === 'none') {{\n",
       "            console.log([gd, 'removed!']);\n",
       "            Plotly.purge(gd);\n",
       "            observer.disconnect();\n",
       "        }}\n",
       "}});\n",
       "\n",
       "// Listen for the removal of the full notebook cells\n",
       "var notebookContainer = gd.closest('#notebook-container');\n",
       "if (notebookContainer) {{\n",
       "    x.observe(notebookContainer, {childList: true});\n",
       "}}\n",
       "\n",
       "// Listen for the clearing of the current output cell\n",
       "var outputEl = gd.closest('.output');\n",
       "if (outputEl) {{\n",
       "    x.observe(outputEl, {childList: true});\n",
       "}}\n",
       "\n",
       "                        })                };                });            </script>        </div>"
      ]
     },
     "metadata": {},
     "output_type": "display_data"
    }
   ],
   "source": [
    "import pandas as pd\n",
    "import plotly.graph_objects as go\n",
    "\n",
    "thermo_dft = pd.read_csv(\"../assets/Si_thermo_dft.csv\")\n",
    "thermo_expt = pd.read_csv(\"../assets/Si_thermo_expt.csv\")\n",
    "\n",
    "fig = thermo_results.plot()\n",
    "fig.add_trace(\n",
    "    go.Scatter(\n",
    "        x = thermo_dft[\"T\"].loc[:100],\n",
    "        y = thermo_dft[\"entropy\"].loc[:100] / 28.09 / 2.,\n",
    "        name = \"S DFT(J/K/g)\"\n",
    "    )\n",
    ")\n",
    "fig.add_trace(\n",
    "    go.Scatter(\n",
    "        x = thermo_dft[\"T\"].loc[:100],\n",
    "        y = thermo_dft[\"cv\"].loc[:100] / 28.09 / 2.,\n",
    "        name = \"Cv DFT(J/K/g)\"\n",
    "    )\n",
    ")\n",
    "fig.add_trace(\n",
    "    go.Scatter(\n",
    "        x = thermo_dft[\"T\"].loc[:100],\n",
    "        y = thermo_dft[\"internal_energy\"].loc[:100] / 28.09 / 2./1000.,\n",
    "        name = \"U DFT (kJ/g)\"\n",
    "    )\n",
    ")\n",
    "fig.add_trace(\n",
    "    go.Scatter(\n",
    "        x = thermo_dft[\"T\"].loc[:100],\n",
    "        y = thermo_dft[\"helmholtz_free_energy\"].loc[:100] / 28.09 / 2./1000.,\n",
    "        name = \"F DFT(kJ/g)\"\n",
    "    )\n",
    ")\n",
    "fig.add_trace(\n",
    "    go.Scatter(\n",
    "        x = thermo_expt[\"T\"],\n",
    "        y = thermo_expt[\"cp\"],\n",
    "        mode = \"markers\",\n",
    "        name = \"Cp expt(J/k/g)\"\n",
    "    )\n",
    ")\n",
    "fig.add_trace(\n",
    "    go.Scatter(\n",
    "        x = thermo_expt[\"T\"],\n",
    "        y = thermo_expt[\"entropy\"],\n",
    "        mode = \"markers\",\n",
    "        name = \"S expt(J/k/g)\"\n",
    "    )\n",
    ")\n",
    "fig.update_layout(width=800, height=500)"
   ]
  },
  {
   "cell_type": "markdown",
   "id": "a8f5b75e-4e4c-4068-a941-3a45e8b6180b",
   "metadata": {},
   "source": [
    "The calculation result is plotted in the above figure. We can see the result is agree with the [DFT](https://materialsproject.org/materials/mp-149/) and [experiment](https://webbook.nist.gov/cgi/cbook.cgi?ID=C7440213&Units=SI&Mask=2#Thermo-Condensed) results.\n",
    "\n",
    "DFT calculation results from\n",
    "\n",
    "A. Jain*, S.P. Ong*, G. Hautier, W. Chen, W.D. Richards, S. Dacek, S. Cholia, D. Gunter, D. Skinner, G. Ceder, K.A. Persson (*=equal contributions)  \n",
    "The Materials Project: A materials genome approach to accelerating materials innovation\n",
    "APL Materials, 2013, 1(1), 011002.  \n",
    "[doi:10.1063/1.4812323](http://dx.doi.org/10.1063/1.4812323)  \n",
    "[[bibtex]](https://materialsproject.org/static/docs/jain_ong2013.349ca3156250.bib)  \n",
    "Licensed under [CC BY 4.0](https://creativecommons.org/licenses/by/4.0/)  \n",
    "\n",
    "Experiment results from\n",
    "\n",
    "\"Condensed Phase Heat Capacity Data\" by Eugene S. Domalski and Elizabeth D. Hearing in NIST Chemistry WebBook, NIST Standard Reference Database Number 69, Eds. P.J. Linstrom and W.G. Mallard, National Institute of Standards and Technology, Gaithersburg MD, 20899, https://doi.org/10.18434/T4D303, (retrieved May, 2022)."
   ]
  },
  {
   "cell_type": "markdown",
   "id": "ce58ba98-1778-4c01-85a6-4eb3621f1c07",
   "metadata": {},
   "source": [
    "<a id='section_3'></a>\n",
    "## 3. Limitation of harmonic approximation\n",
    "\n",
    "As shown in the above example, we can calculate the phonon dispersion, phonon DOS and some thermal properties of a crystal based on the harmonic approximation. However, such an approximation also hinder the application of phonon analysis in some physical properties since it totally ignores the anharmonicity of potential energy surface. The most important two aspects are thermal expansion and thermal conductivity."
   ]
  },
  {
   "cell_type": "markdown",
   "id": "c45556a6-0f62-4b9c-be61-7606a925a4fc",
   "metadata": {},
   "source": [
    "**Thermal expansion**\n",
    "\n",
    "Thermal expansion can not be directly obtained from the phonon analysis. It is because that the phonon calculation is based on the harmonic approximation, which assumes neighboring atoms are connected with perfect springs. In another word, the local potential energy surface is a quadratic function. But the real potential energy surface is actually not a quadratic function (please refer to the Fig 1 in chapter 4.1). If two atoms are connected with the perfect spring, the bond length will not increase when the temperature is higher. Thus the volume of solid will not increase with temperature. The thermal expansion is zero. \n",
    "\n",
    "However, the thermal expansion can be calculated from the [quasi-harmonic approximation](https://en.wikipedia.org/wiki/Quasi-harmonic_approximation). In the quasi-harmonic approximation, the phonon calculation is performed for a series of structures with compressesed or stretched lattice. The volume dependent properties, not only thermal expansion but also specific heat (Cp), Gibbs free energy (G) etc, can be obtained accordingly."
   ]
  },
  {
   "cell_type": "markdown",
   "id": "cf97b828-b04f-4e8e-911e-bd6fcf764e91",
   "metadata": {},
   "source": [
    "**Thermal conductivity**\n",
    "\n",
    "Since the phonon carries energy and momentum. The thermal transportation can be explained as the movement of phonons in the crystal. However, since the phonon analysis is based on the harmonic approximation, the scattering between two phonons is ignored. In this case, one phonon can transport to a inifinite long distance without collision to another phonon, which leads to the infinite large thermal conductivity. As a consequence, we cannot get thermal conductivity from simple phonon calculation.\n",
    "\n",
    "To consider the anharmonicity and phonon-phonon scattering, the third order Taylor series of potential energy should be considered.\n",
    "$$E(\\{\\vec{R_{k}^{a}}\\}) = E(\\{\\vec{R_{k,0}^{a}}\\}) + \\sum_{ak\\alpha}{\\sum_{bk'\\beta}{\\frac{1}{2} \\left (\\frac{\\partial^2{E}}{\\partial{u_{k}^{a\\alpha}} \\partial{u_{k'}^{b\\beta}}} \\right ) }} u_{k}^{a\\alpha} u_{k'}^{b\\beta} + \\sum_{ak\\alpha}{\\sum_{bk'\\beta} \\sum_{ck''\\gamma} {\\frac{1}{3!} \\left (\\frac{\\partial^3{E}}{\\partial{u_{k}^{a\\alpha}} \\partial{u_{k'}^{b\\beta}} \\partial{u_{k''}^{c\\gamma}}} \\right ) }} u_{k}^{a\\alpha} u_{k'}^{b\\beta} u_{k''}^{c\\gamma} $$\n",
    "Thus, we should calculate the third order force constant, i.e. $\\frac{\\partial^3{E}}{\\partial{u_{k}^{a\\alpha}} \\partial{u_{k'}^{b\\beta}} \\partial{u_{k''}^{c\\gamma}}}$. Several methods have been developed for the calculation of lattice thermal conductivity, such as real-time approximation."
   ]
  },
  {
   "cell_type": "markdown",
   "id": "4e0755dc-edd6-47ed-873d-b40cf6be1e1a",
   "metadata": {},
   "source": [
    "<a id='section_4'></a>\n",
    "## 4. References\n",
    "\n",
    "[1] https://personales.unican.es/junqueraj/JavierJunquera_files/Metodos/Latticedynamics/Lattice-dynamics.pdf <br>\n",
    "[2] http://www-personal.umich.edu/~sunkai/teaching/Winter_2013/chapter5.pdf <br>\n",
    "[3] http://staff.ustc.edu.cn/~zqj/posts/LinearTetrahedronMethod/ <br>\n",
    "[4] Otero-De-La-Roza, et. al.  Comput. Phys. Commun. 182, 2232–2248 (2011). <br>\n",
    "[5] \"Introduction to Solid State Physics\" Charles Kittel <br>"
   ]
  },
  {
   "cell_type": "markdown",
   "id": "c7cd6169-69f8-4922-ae62-9144f5db75d3",
   "metadata": {},
   "source": [
    "<a id='section_5'></a>\n",
    "## 5. Appendix"
   ]
  },
  {
   "cell_type": "markdown",
   "id": "128c2e72-0097-4b6a-a9f8-b7ecdef4e498",
   "metadata": {},
   "source": [
    "<a id='section_5.1'></a>\n",
    "\n",
    "### 5.1 Formulations of phonon calculation\n",
    "\n",
    "**Illustration**\n",
    "\n",
    "<figure style=\"width:400px\">\n",
    "<img src=\"../assets/phonon-1-illustration.png\"/>\n",
    "</figure>\n",
    "\n",
    "Before go to the formula deduction, we first show an 2D illustration of crystal structure. The meaning of several vectors in the figure is given as follow.\n",
    "\n",
    "* $\\vec{R^{a}}$ the vector from original point of original unit cell to the original point of unit cell $\\mathit{a}$.\n",
    "* $\\vec{R_{k}^{a}}$ the vector from original point of original unit cell to the atom $\\mathit{k}$ of unit cell $\\mathit{a}$.\n",
    "* $\\vec{R_{k}}$ the vector from original point to the atom $\\mathit{k}$ in the same unit cell.\n"
   ]
  },
  {
   "cell_type": "markdown",
   "id": "9004ef9c-1bbc-466c-8401-a3ae4bd9ad70",
   "metadata": {},
   "source": [
    "**Harmonic approximation**\n",
    "\n",
    "* Similar to the vibration calculation, the potential energy of system can be expressed as the following equation when atoms slightly deviated from the equilibrium position.\n",
    "\n",
    "$$E(\\{\\vec{R_{k}^{a}}\\}) = E(\\{\\vec{R_{k,0}^{a}}\\}) + \\sum_{ak\\alpha}{\\sum_{bk'\\beta}{\\frac{1}{2} \\left (\\frac{\\partial^2{E}}{\\partial{u_{k}^{a\\alpha}} \\partial{u_{k'}^{b\\beta}}} \\right ) }} u_{k}^{a\\alpha} u_{k'}^{b\\beta} $$\n",
    "\n",
    "In this equation, $\\vec {u^a}$ is the displacement of an atoms from its equilibrium position $\\vec {R^a} - \\vec {R_0^a}$, $\\alpha$ and $\\beta$ represent the cartesian directions, i.e. x, y and z.\n",
    "\n",
    "* Please note that the harmonic approximation is valid only when atoms slightly displaced from its equilibrium position. That's why we can only get the low-temperature thermal properties of crystal from phonon analysis."
   ]
  },
  {
   "cell_type": "markdown",
   "id": "f9d4b08c-fb20-48a1-80c0-69665e16dc4f",
   "metadata": {},
   "source": [
    "**Motion equation**\n",
    "\n",
    "* The force act on the atom $\\mathit{k}$ can be calculated from the derivative of the potential energy\n",
    "\n",
    "$$\\vec{F_{k}^{a\\alpha}} = -\\frac{E \\left( \\{R_{k}^{a} \\} \\right)}{\\partial R_{k}^{a\\alpha}} = -\\frac{E \\left( \\{R_{k}^{a} \\} \\right)}{\\partial u_{k}^{a\\alpha}} = -\\sum_{bk'\\beta} \\left ( \\frac{\\partial ^{2} E}{\\partial{u_{k}^{a\\alpha}} \\partial{u_{k'}^{b\\beta}}} \\right ) u_{k'}^{b\\beta}$$\n",
    "\n"
   ]
  },
  {
   "cell_type": "markdown",
   "id": "c9211566-9b7f-4625-853e-66ff81eddeb3",
   "metadata": {},
   "source": [
    "* Acceleration of atom $\\mathit{k}$\n",
    "\n",
    "$$\\vec{a_{k}^{a\\alpha}} = \\frac{\\partial^2 u_{k}^{a\\alpha}}{\\partial t^2}$$"
   ]
  },
  {
   "cell_type": "markdown",
   "id": "30883506-244b-4f4f-9301-02f05969cd74",
   "metadata": {},
   "source": [
    "* So, the motion equation can be written as\n",
    "\n",
    "$$ M_k \\frac{\\partial^2 u_{k}^{a\\alpha}}{\\partial t^2} = -\\sum_{bk'\\beta} \\left ( \\frac{\\partial ^{2} E}{\\partial{u_{k}^{a\\alpha}} \\partial{u_{k'}^{b\\beta}}} \\right ) u_{k'}^{b\\beta} $$"
   ]
  },
  {
   "cell_type": "markdown",
   "id": "fa4e7d7f-bc48-4800-9cfd-adb4d1e7cadd",
   "metadata": {},
   "source": [
    "* There are 3 motion equations for each atom. In total, there are $3N \\times M$ equations for the system ($N$ is the number of atoms in a unit cell, and $M$ is the number of unit cells).\n",
    "* The motion equations are coupled. \n",
    "The atomic displacement of the atom $k$ in the $a^{th}$ unit cell $u_{k}^{a\\alpha}(t)$ depends on the $u_{k'}^{b\\beta}$ of all the other atoms in the whole system."
   ]
  },
  {
   "cell_type": "markdown",
   "id": "c2d30f92-b6e7-4c82-b378-9acbaf903c1b",
   "metadata": {},
   "source": [
    "**Assumption**\n",
    "\n",
    "* To solve the above equations, we introduce two assumptions.\n",
    "* 1. We assume that the $u_{k}^{a\\alpha}(t)$ has the following format.\n",
    "$$ u_{k}^{a\\alpha}(t) = A_{k}^{\\alpha} e^{-i\\omega t} $$\n",
    "\n",
    "        Considering that the equation might have multiple solutions, we add letter $\\mathit{m}$ as the index of different solution.\n",
    "\n",
    "$$ u_{k}^{a\\alpha}(t) = A_{k, m}^{\\alpha} e^{-i\\omega_{m} t} \\;\\;\\;  m={1, 2, ..., 3N} $$\n",
    "\n",
    "\n",
    "* 2. Considering the perodical boundary condition, we assume the solution has the simlar format as plane wave,\n",
    "which is, \n",
    "\n",
    "$$ u_{k}^{a\\alpha}(t) = A_{k, m \\vec{q}}^{\\alpha} e^{i \\vec{q} \\vec{R_a}} e^{-i\\omega_{m} t} $$"
   ]
  },
  {
   "cell_type": "markdown",
   "id": "fafdc36f-b19e-4cd5-90b5-a9dab895e13f",
   "metadata": {},
   "source": [
    "* With the above assumptions, the solution of the motion equation depends on a new parameter $\\vec{q}$, which is the wavevector."
   ]
  },
  {
   "cell_type": "markdown",
   "id": "d6282eac-70b2-47cb-bc64-fd718e7569d2",
   "metadata": {},
   "source": [
    "**Solve the motion equation**\n",
    "\n",
    "* With the above assumptions, the motion equation can be writen as \n",
    "\n",
    "$$ M_{k} \\omega_{m\\vec{q}}^{2} A_{m\\vec{q}}^{k\\alpha} = \\sum_{k'\\beta} {\\left[ \\sum_{b} {\\left( \\frac{\\partial ^{2} E}{\\partial{u_{k}^{a\\alpha}} \\partial{u_{k'}^{b\\beta}}} \\right) e^{i\\vec{q}(\\vec{R_b} - \\vec{R_a})}} \\right] A_{m\\vec{q}}^{k'\\beta}}$$\n"
   ]
  },
  {
   "cell_type": "markdown",
   "id": "86d84af8-4436-4c4e-a80a-353e6d181f78",
   "metadata": {},
   "source": [
    "* Here, we define the force constant, which is a $3N \\times 3N$ matrix, in a similar way as that in vibration analysis. However, considering the periodical boundary condition, the force constant between the unit $a$ and the unit $b$ is represented as follow.\n",
    "\n",
    "$$\n",
    "C^{a,b} = \\begin{bmatrix}\n",
    " & \\frac{\\partial ^2 E}{\\partial u_{0}^{a x} \\partial u_{0}^{bx}} & \\frac{\\partial ^2 E}{\\partial u_{0}^{a x} \\partial u_{0}^{by}} & ... & \\frac{\\partial ^2 E}{\\partial u_{0}^{a x} \\partial u_{N}^{bz}} \\\\ \n",
    " & \\frac{\\partial ^2 E}{\\partial u_{0}^{a y} \\partial u_{0}^{bx}} & \\frac{\\partial ^2 E}{\\partial u_{0}^{a y} \\partial u_{0}^{by}} & ... & \\frac{\\partial ^2 E}{\\partial u_{0}^{a y} \\partial u_{N}^{bz}} \\\\\n",
    " & ... & ... &  & ...\\\\ \n",
    " & \\frac{\\partial ^2 E}{\\partial u_{N}^{a z} \\partial u_{N}^{bx}} & \\frac{\\partial ^2 E}{\\partial u_{N}^{a z} \\partial u_{0}^{by}} & ... & \\frac{\\partial ^2 E}{\\partial u_{N}^{a z} \\partial u_{N}^{bz}}\n",
    "\\end{bmatrix}\n",
    "$$\n",
    "\n",
    "* Considering the translational inveriant of the crystal lattice, the $C^{a,b} = C^{0, b-a}$"
   ]
  },
  {
   "cell_type": "markdown",
   "id": "3ec3f8e6-fae0-479c-bc03-d8192ecc528e",
   "metadata": {},
   "source": [
    "* In this case, the part between the brackets [...] in the motion equation can be regard as the discrete Fourier transform of the force constant in the real space.\n",
    "\n",
    "$$ \\tilde{C}_{\\vec{q}}[k\\alpha, k'\\beta] = \\sum_{b} {\\left( \\frac{\\partial ^{2} E}{\\partial{u_{k}^{a\\alpha}} \\partial{u_{k'}^{b\\beta}}} \\right) e^{i\\vec{q}(\\vec{R_b} - \\vec{R_a})}} = \\sum_{b} {C^{0,b}[k\\alpha, k'\\beta] e^{i\\vec{q}(\\vec{R_b} - \\vec{R_a})}}$$\n",
    "\n",
    "* To further simplify the motion equation, we define another $3N \\times 3N$ matrix called the dynamics matrix \n",
    "\n",
    "$$ \\tilde{D}_{\\vec{q}}[k\\alpha, k'\\beta] = \\frac{1}{\\sqrt{M_k M_{k'}}} \\tilde{C}(\\vec{q})[k\\alpha, k'\\beta] $$\n"
   ]
  },
  {
   "cell_type": "markdown",
   "id": "cd4b424f-9ee7-410c-92cd-7e703835f720",
   "metadata": {},
   "source": [
    "* Then, the motion equation for given $q$ vector can be simplified as a linear homogenous system of equations\n",
    "\n",
    "$$ \\boldsymbol{\\tilde{D}_{\\vec{q}}} \\cdot \\vec{\\gamma}_{\\vec{q}} = \\omega^2_{\\vec{q}} \\vec{\\gamma}_{\\vec{q}}  $$\n",
    "\n",
    "where, the $\\vec{\\gamma}_{\\vec{q}}$ is called eigenvector, which is related with the amplitude of each atom by the following equation\n",
    "\n",
    "$$ A_{k, m \\vec{q}}^{\\alpha} = \\frac{1}{\\sqrt{M_k}} \\gamma_{k, m\\vec{q}}^{\\alpha} $$"
   ]
  },
  {
   "cell_type": "markdown",
   "id": "f8e6a7c2-4e32-48d9-aa9b-333168c7f726",
   "metadata": {},
   "source": [
    "* Diagonlize the dynamical matrix $\\boldsymbol{\\tilde{D}_{\\vec{q}}}$, we can easily get the $3N$ vibration frequencies $\\omega$ of the lattice for the given wave vector $\\vec{q}$."
   ]
  },
  {
   "cell_type": "markdown",
   "id": "31a95a51-5d8b-48f5-84e6-10c62df0fe3c",
   "metadata": {},
   "source": [
    "<a id='section_5.2'></a>\n",
    "### 5.2 Why $\\vec{q}$ is limited to first Brillouin zone?\n",
    "\n",
    "We will explain why the  $\\vec{q}$ is limited in the first Brillouin zone using an simple 1D case. \n",
    "Essentially, this limitation is originate from the discreted lattice points of the crystal atomic structure.\n",
    "\n",
    "As we explained before, the atomic displacement of atom $a$ in a 1D lattice should be \n",
    "\n",
    "$$ u_{q}^{a}(t) = A e^{i q x_a} e^{-i\\omega_{m} t} $$\n",
    "\n",
    "Suppose that the coordinate of atoms $a$ is $x=0.0$, and the lattice constant is 1.0. Then the reciprocial lattice point $G \\in (... -2\\pi, 0, 2\\pi, 4\\pi, ...)$, and the first Brillouin zone is $[-\\pi, \\pi]$.\n",
    "\n",
    "The following figure shows the $u_{q}^{a}(t)$ when $q$ is $-\\pi/3$ (blue line), $-\\pi/3+2\\pi$ (green line) and $-\\pi/3+4\\pi$ (yellow line). We can see that the displacement of atoms $a$, which is indicated by the red dot, is exactly same in the three waves.\n",
    "\n",
    "<figure style=\"width:400px\">\n",
    "<img src=\"../assets/phonon-2-why-first-brillouin-zone.gif\"/>\n",
    "</figure>\n",
    "\n",
    "$u_{q}^{a}(t) = u_{q+G}^{a}(t)$\n",
    "\n",
    "In another word, for any $\\vec{q}$, there will be an equivalent $\\vec{q}'$ in the first Brillouin zone which have the same displacement of atoms $u_{q}^{a}(t)$"
   ]
  },
  {
   "cell_type": "markdown",
   "id": "d2fc5e30-b9d3-49b8-a774-178fe4dff9a2",
   "metadata": {},
   "source": [
    "<a id='section_5.3'></a>\n",
    "\n",
    "### 5.3 Phonon density of state and thermochemistry properties\n",
    "\n",
    "**Planck distribution**\n",
    "\n",
    "In a solid, there will be many phonon excited at the same time. To get the thermal properies from phonon analysis, it is important to understand the distribution of phonon. The energy of a phonon is given by $E=\\hbar\\omega$. For a given phonon mode (fixed $\\vec q$ and $\\omega$) the probility of having $n$ phonons is $P(n)=\\frac{1}{Z}e^{-\\frac{n\\hbar\\omega}{k_B T}}$, where $Z$ is the normalization factor. So, the average number of phonons at given temperature $T$ can be expressed as\n",
    "\n",
    "$$<n> = \\sum_{0}^{\\infty} {n P(n)} = \\frac{1}{e^{\\frac{\\hbar\\omega}{k_BT}}-1}$$\n",
    "This is known as Planck distribution. The plot of planck distribution is given below."
   ]
  },
  {
   "cell_type": "markdown",
   "id": "a4e94336-a39b-4e1d-8194-cb532dc83735",
   "metadata": {},
   "source": [
    "<img src=\"../assets/phonon-3-planck_distribution.png\" style=\"width:600px\"/>\n",
    "\n",
    "\n",
    "* From the left figure, we can see that the number of low-frequency phonon is much larger than that of high-frequency phonon, especially at the low temperature.\n",
    "* From the right figure, we can see that the number of phonon will increase with the temperature. "
   ]
  },
  {
   "cell_type": "markdown",
   "id": "bea27960-4d5e-4250-be96-a5164e93c261",
   "metadata": {},
   "source": [
    "* The total energy carried by the phonon with frequency $\\omega$ is simply obtained by:\n",
    "$$<E_{\\omega}> = <n> \\hbar \\omega = \\frac{\\hbar \\omega}{e^{\\frac{\\hbar \\omega}{k_B T}}-1}$$"
   ]
  },
  {
   "cell_type": "markdown",
   "id": "be247b42-c782-47e0-aa0e-e43a54950f78",
   "metadata": {},
   "source": [
    "**Phonon density of state**\n",
    "\n",
    "* One of the most important properties for a crystal system is its phonon density of states (DOS), which is defined by:\n",
    "$$D(\\omega) = \\frac{1} {N} \\sum_{m, \\vec q} \\delta (\\omega - \\omega_{m, \\vec q})$$\n",
    "in which, $m$ is the band index, $\\vec q$ should walk through the first Brillouin zone.\n",
    "The DOS $D(\\omega)$ should follow the constraint\n",
    "$$ N =\\int_{0}^{\\infty} D(\\omega) d \\omega $$\n",
    "in which $N$ is the total number of phonon modes.\n",
    "\n",
    "\n",
    "* If we know the density of states of phonon $D(\\omega)$, we can easily get the energy contribution from phonon\n",
    "$$ U' = \\int_{0}^{\\infty} d {\\omega} D(\\omega) E_{\\omega} = \\int_{0}^{\\infty} d {\\omega} D(\\omega) \\; \\left[ \\frac{\\hbar \\omega}{2} + \\frac {\\hbar \\omega}{e^{\\frac{\\hbar \\omega}{k_B T}} -1} \\right] = \\int_{0}^{\\infty} d {\\omega} D(\\omega) \\frac{\\hbar \\omega}{e^{\\frac{\\hbar \\omega}{k_B T}}-1} $$\n",
    "Note that the [zero-point energy](https://en.wikipedia.org/wiki/Zero-point_energy) of a phonon, just like the quantum harmonic oscillator, is $\\frac {\\hbar \\omega}{2}$. If we include the zero point energy, the internal energy of a crystal can be expressed as\n",
    "$$ U = \\int_{0}^{\\infty} d {\\omega} D(\\omega) \\; \\left[ \\frac{\\hbar \\omega}{2} + \\frac {\\hbar \\omega}{e^{\\frac{\\hbar \\omega}{k_B T}} -1} \\right] $$\n",
    "\n",
    "* Many properties of the crystal can be related with the total internal energy $U$. For example the heat capacity $C_V$ is\n",
    "$$C_V = \\left( \\frac{\\partial U}{\\partial T} \\right)_V = \\int_{0}^{\\infty} d {\\omega} D(\\omega) Nk_B\\left( \\frac{\\hbar \\omega}{k_B T} \\right)^2 \\frac{e^{\\frac{\\hbar \\omega}{k_B T}}}{\\left( e^{\\frac{\\hbar \\omega}{k_B T}} - 1 \\right)^2}$$\n",
    "\n",
    "* The specific heat $C_V$, entropy $S$, internal energy $U$ and Helmholtz free energy $A$ can be calculated from phonon DOS as well."
   ]
  },
  {
   "cell_type": "markdown",
   "id": "fa198132-71a1-45f9-866f-c06cabcba397",
   "metadata": {},
   "source": [
    "**How to get phonon density of states**\n",
    "\n",
    "* From the above analysis, we can understand the many thermal properties can be obtained from the phonon density of states. But, how can we get the phonon DOS?\n",
    "* Firstly, we should calculate the phonon frequencies on a uniform meshes of $\\vec q$ points in the first Brillouin zone. Usually, the mesh grids can be Monkhorst-Pack scheme or Gamma-centered scheme.\n",
    "* Then the phonon frequency is integrated over the first Brillouin zone. Usually two methods can be used, smearing method or tetrahedral integral method\n",
    "    * In the tetrahedron method, the mesh grids are divided into tetrahedra. Within each tetrahedral, the phonon frequency can be interpolated linearly. In this way, the phonon DOS can be obtained analytically. [3]\n",
    "    * In the smearing method, the gaussian smearing function is added to all the phonon frequencies get from the mesh grid of $\\vec q$."
   ]
  }
 ],
 "metadata": {
  "kernelspec": {
   "display_name": "Python 3.7",
   "language": "python",
   "name": "python37"
  },
  "language_info": {
   "codemirror_mode": {
    "name": "ipython",
    "version": 3
   },
   "file_extension": ".py",
   "mimetype": "text/x-python",
   "name": "python",
   "nbconvert_exporter": "python",
   "pygments_lexer": "ipython3",
   "version": "3.7.13"
  },
  "widgets": {
   "application/vnd.jupyter.widget-state+json": {
    "state": {},
    "version_major": 2,
    "version_minor": 0
   }
  }
 },
 "nbformat": 4,
 "nbformat_minor": 5
}
