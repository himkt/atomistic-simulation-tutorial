{
 "cells": [
  {
   "cell_type": "markdown",
   "id": "3f4738f9-033a-46e2-a583-5772feea5781",
   "metadata": {},
   "source": [
    "# [Advanced] 対称性を考慮した構造最適化\n",
    "\n",
    "前章で基本的な事例に対する構造最適化を学びました。\n",
    "本章はより発展的な内容として、系の対称性を保ちながら構造最適化を行う方法について学びます。\n",
    "\n",
    "ASEでは空間群 (spacegroup)を扱う機能があり、 `FixSymmetry` というConstraintsクラスを利用することで対称性を考慮した構造最適化が行なえます。\n",
    "\n",
    " - [Using the spacegroup subpackage](https://databases.fysik.dtu.dk/ase/ase/spacegroup/spacegroup.html)\n",
    " - [FixSymmetry Constraints](https://wiki.fysik.dtu.dk/ase/ase/constraints.html#the-fixsymmetry-class)\n",
    "\n",
    "\n",
    "\n",
    "本章は発展的な位置付けとします。次章へ急ぎたい方はスキップし、後から読んでいただいても構いません。"
   ]
  },
  {
   "cell_type": "markdown",
   "id": "6f7b7676-de4c-45a9-90a8-f0c505f970ab",
   "metadata": {},
   "source": [
    "## BaTiO3 の構造最適化\n",
    "\n",
    "空間群や本章でいう\"対称性\"とは何なのかの詳細説明の前に、具体例を見ていきます。\n",
    "\n",
    "ここでは[ペロブスカイト構造](https://ja.wikipedia.org/wiki/%E3%83%9A%E3%83%AD%E3%83%96%E3%82%B9%E3%82%AB%E3%82%A4%E3%83%88%E6%A7%8B%E9%80%A0)をもつ物質として知られる、BaTiO3(チタン酸バリウム)の構造最適化を考えてみます。\n",
    "\n",
    "BaTiO3は高い比誘電率を持つことからセラミック積層コンデンサなどの誘電体材料として使用されている人工鉱物で、室温では[正方晶](https://ja.wikipedia.org/wiki/%E6%AD%A3%E6%96%B9%E6%99%B6%E7%B3%BB) (tetragonal)の構造をとっています。詳しくは、以下のページが参考になります。\n",
    "\n",
    " - [チタン酸バリウム - Wikipedia](https://ja.wikipedia.org/wiki/%E3%83%81%E3%82%BF%E3%83%B3%E9%85%B8%E3%83%90%E3%83%AA%E3%82%A6%E3%83%A0)"
   ]
  },
  {
   "cell_type": "markdown",
   "id": "13cc75d6-8c4d-4559-b67e-ca629cd6309c",
   "metadata": {},
   "source": [
    "構造ファイルはMaterials Projectより取得しています。\n",
    "\n",
    " - https://materialsproject.org/materials/mp-5986/\n",
    "\n",
    "Input cif file is from  \n",
    "A. Jain*, S.P. Ong*, G. Hautier, W. Chen, W.D. Richards, S. Dacek, S. Cholia, D. Gunter, D. Skinner, G. Ceder, K.A. Persson (*=equal contributions)  \n",
    "The Materials Project: A materials genome approach to accelerating materials innovation\n",
    "APL Materials, 2013, 1(1), 011002.  \n",
    "[doi:10.1063/1.4812323](http://dx.doi.org/10.1063/1.4812323)  \n",
    "[[bibtex]](https://materialsproject.org/static/docs/jain_ong2013.349ca3156250.bib)  \n",
    "Licensed under [CC BY 4.0](https://creativecommons.org/licenses/by/4.0/)  "
   ]
  },
  {
   "cell_type": "markdown",
   "id": "93cb4508-eb7f-46e7-8fdc-1e49f6f613d2",
   "metadata": {},
   "source": [
    "以下の正方晶(tetragonal)構造を持つBaTiO3のセルは、$a = b \\neq c$, $\\alpha = \\beta = \\gamma = $ 90°となっています。($a = b = c$, $\\alpha = \\beta = \\gamma = $ 90°の場合は[立方晶](https://ja.wikipedia.org/wiki/%E7%AB%8B%E6%96%B9%E6%99%B6%E7%B3%BB) (cubic)となります。)"
   ]
  },
  {
   "cell_type": "code",
   "execution_count": 1,
   "id": "f8500176-baf8-47af-9063-ca2063311501",
   "metadata": {},
   "outputs": [
    {
     "data": {
      "application/vnd.jupyter.widget-view+json": {
       "model_id": "6546f5f67a8246078c06067e4c7139a1",
       "version_major": 2,
       "version_minor": 0
      },
      "text/plain": []
     },
     "metadata": {},
     "output_type": "display_data"
    },
    {
     "name": "stdout",
     "output_type": "stream",
     "text": [
      "BaTiO3 (Tetragonal): cell = [ 4.004457  4.004457  4.200636 90.       90.       90.      ]\n"
     ]
    },
    {
     "data": {
      "application/vnd.jupyter.widget-view+json": {
       "model_id": "66c99665879a4fef939bb87f09579719",
       "version_major": 2,
       "version_minor": 0
      },
      "text/plain": [
       "HBox(children=(NGLWidget(), VBox(children=(Dropdown(description='Show', options=('All', 'Ba', 'Ti', 'O'), valu…"
      ]
     },
     "metadata": {},
     "output_type": "display_data"
    }
   ],
   "source": [
    "from ase.io import read\n",
    "from pfcc_extras.visualize.view import view_ngl\n",
    "\n",
    "bto_tetra = read(\"../input/BaTiO3_mp-5986_computed.cif\")\n",
    "print(f\"BaTiO3 (Tetragonal): cell = {bto_tetra.cell.cellpar()}\")\n",
    "view_ngl(bto_tetra, representations=[])"
   ]
  },
  {
   "cell_type": "code",
   "execution_count": 2,
   "id": "68b6e3ca-149f-4496-bdf9-b73d8b86ef83",
   "metadata": {},
   "outputs": [
    {
     "data": {
      "application/vnd.jupyter.widget-view+json": {
       "model_id": "d48a00bf2b2948b18786c37d4442e497",
       "version_major": 2,
       "version_minor": 0
      },
      "text/plain": [
       "HBox(children=(NGLWidget(), VBox(children=(Dropdown(description='Show', options=('All', 'Ba', 'Ti', 'O'), valu…"
      ]
     },
     "metadata": {},
     "output_type": "display_data"
    }
   ],
   "source": [
    "view_ngl(bto_tetra * (4, 4, 4), representations=[])"
   ]
  },
  {
   "cell_type": "markdown",
   "id": "ac09f792-1911-44eb-b509-0cb956a9a937",
   "metadata": {},
   "source": [
    "`get_scaled_positions`関数を用いると、各原子の絶対座標ではなく、ユニットセルにおける相対座標を得ることができます。(つまり、`[0, 0, 0]`を原点、`[1, 1, 1]` がユニットセルの逆端の点となるような座標スケールです。)\n",
    "\n",
    "今回の構造で`scaled_positions`を確認してみると、xy座標に関しては `0`や`0.5` といったきりの良い数字をとっていることがわかります。"
   ]
  },
  {
   "cell_type": "code",
   "execution_count": 3,
   "id": "fb60bf89-9084-41de-83a2-11a1c9954403",
   "metadata": {},
   "outputs": [
    {
     "data": {
      "text/plain": [
       "array([[0.5     , 0.5     , 0.004136],\n",
       "       [0.      , 0.      , 0.524313],\n",
       "       [0.      , 0.5     , 0.479349],\n",
       "       [0.5     , 0.      , 0.479349],\n",
       "       [0.      , 0.      , 0.958854]])"
      ]
     },
     "execution_count": 3,
     "metadata": {},
     "output_type": "execute_result"
    }
   ],
   "source": [
    "bto_tetra.get_scaled_positions()"
   ]
  },
  {
   "cell_type": "markdown",
   "id": "1604e220-c4f2-40ca-a980-6cab84da7a1f",
   "metadata": {},
   "source": [
    "この構造に対して、\n",
    "\n",
    " - 本章で説明する、`FixSymmetry` を用いる・用いない場合\n",
    " - 前章で説明済みの`ExpCellFilter`の`hydrostatic_strain` が `True`, `False` の場合\n",
    "\n",
    "の以下4通りの方法で構造最適化してみましょう。\n",
    "\n"
   ]
  },
  {
   "cell_type": "code",
   "execution_count": 4,
   "id": "db05ecda-17c9-4d0d-ae0c-ce57cfe96027",
   "metadata": {},
   "outputs": [],
   "source": [
    "import pfp_api_client\n",
    "from pfp_api_client.pfp.calculators.ase_calculator import ASECalculator\n",
    "from pfp_api_client.pfp.estimator import Estimator, EstimatorCalcMode\n",
    "\n",
    "\n",
    "estimator = Estimator(calc_mode=EstimatorCalcMode.CRYSTAL, model_version=\"v2.0.0\")\n",
    "calculator = ASECalculator(estimator)"
   ]
  },
  {
   "cell_type": "markdown",
   "id": "0f6c8a89-6be0-4571-aea7-c617648917c6",
   "metadata": {},
   "source": [
    "構造最適化前のポテンシャルエネルギー"
   ]
  },
  {
   "cell_type": "code",
   "execution_count": 5,
   "id": "1b53fc66-b49e-4dd0-aa57-a94e9e06b385",
   "metadata": {},
   "outputs": [
    {
     "name": "stdout",
     "output_type": "stream",
     "text": [
      "Epot before opt: -31.497284641756742 eV\n"
     ]
    }
   ],
   "source": [
    "bto_tetra.calc = calculator\n",
    "Epot = bto_tetra.get_potential_energy()\n",
    "print(f\"Epot before opt: {Epot} eV\")"
   ]
  },
  {
   "cell_type": "code",
   "execution_count": 6,
   "id": "e3fe1612-9403-473c-8c1a-c0164177415b",
   "metadata": {},
   "outputs": [],
   "source": [
    "from ase import Atoms\n",
    "from ase.calculators.calculator import Calculator\n",
    "from ase.constraints import ExpCellFilter\n",
    "from ase.optimize import FIRE\n",
    "from ase.spacegroup.symmetrize import FixSymmetry\n",
    "\n",
    "\n",
    "def opt_with_symmetry(\n",
    "    atoms_in: Atoms,\n",
    "    calculator: Calculator,\n",
    "    fix_symmetry: bool = False,\n",
    "    hydrostatic_strain: bool = False,\n",
    ") -> Atoms:\n",
    "    atoms = atoms_in.copy()\n",
    "    atoms.calc = calculator\n",
    "    if fix_symmetry:\n",
    "        atoms.set_constraint([FixSymmetry(atoms)])\n",
    "    ecf = ExpCellFilter(atoms, hydrostatic_strain=hydrostatic_strain)\n",
    "    opt = FIRE(ecf, logfile=None)\n",
    "    opt.run(fmax=0.005)\n",
    "\n",
    "    cell_diff = (atoms.cell.cellpar() / atoms_in.cell.cellpar() - 1.0) * 100\n",
    "    print(\"Optimized Cell         :\", atoms.cell.cellpar())\n",
    "    print(\"Optimized Cell diff (%):\", cell_diff)\n",
    "    print(\"Scaled positions       :\\n\", atoms.get_scaled_positions())\n",
    "    print(f\"Epot after opt: {atoms.get_potential_energy()} eV\")\n",
    "    return atoms\n"
   ]
  },
  {
   "cell_type": "markdown",
   "id": "e0204e13-96d8-4256-b27a-887ea5f6d05a",
   "metadata": {},
   "source": [
    "### 1. FixSymmetryなし, hydrostatic_strain=False\n",
    "\n",
    "結晶軸のa, b, c, $\\alpha, \\beta, \\gamma$ が全て独立に最適化されるため、ごく僅かではありますが角度が90°からずれるなど、正方晶の対称性が崩れてしまっていることがわかります。原子座標も自由に動いています。"
   ]
  },
  {
   "cell_type": "code",
   "execution_count": 7,
   "id": "1478789c-ac7d-4ee2-a69a-0c0e6619d8f7",
   "metadata": {},
   "outputs": [
    {
     "name": "stdout",
     "output_type": "stream",
     "text": [
      "Optimized Cell         : [ 3.99967731  3.9996773   4.26208123 90.00000122 90.0000008  90.0000006 ]\n",
      "Optimized Cell diff (%): [-1.19359194e-01 -1.19359477e-01  1.46276021e+00  1.35654450e-06\n",
      "  8.93428309e-07  6.63874755e-07]\n",
      "Scaled positions       :\n",
      " [[4.99999981e-01 4.99999971e-01 1.29638575e-02]\n",
      " [9.99999890e-01 9.99999803e-01 5.27750427e-01]\n",
      " [3.17677469e-08 5.00000134e-01 4.76041077e-01]\n",
      " [5.00000085e-01 7.18399746e-08 4.76041081e-01]\n",
      " [1.32416459e-08 1.94824495e-08 9.53204558e-01]]\n",
      "Epot after opt: -31.50062584975033 eV\n"
     ]
    }
   ],
   "source": [
    "atoms1 = opt_with_symmetry(bto_tetra, calculator, fix_symmetry=False, hydrostatic_strain=False)"
   ]
  },
  {
   "cell_type": "markdown",
   "id": "f1137db3-8e04-4e38-bfb6-76729d27b5e9",
   "metadata": {},
   "source": [
    "### 2. FixSymmetryあり, hydrostatic_strain=False\n",
    "\n",
    "正方晶(tetragonal)構造の持つ対称性である、$a = b \\neq c$, $\\alpha = \\beta = \\gamma = $ 90°を保ちつつきちんと最適化ができており、**今回の構造最適化における所望の結果が得られる**ことがわかります。\n",
    "\n",
    "また、xy座標の`scaled_positions`も`0`や`0.5` といったきりの良い数字を(ものすごく小さな数値誤差を除いて)保っていることがわかります。<br/>\n",
    "※ これは後述する `P 4 m m` という対称性に課されるサイト間の関係を保っているということになります。"
   ]
  },
  {
   "cell_type": "code",
   "execution_count": 8,
   "id": "4aac8c33-170f-4499-ad0d-11ec87d555f1",
   "metadata": {},
   "outputs": [
    {
     "name": "stdout",
     "output_type": "stream",
     "text": [
      "Optimized Cell         : [ 3.99967962  3.99967962  4.26208589 90.         90.         90.        ]\n",
      "Optimized Cell diff (%): [-0.11930149 -0.11930149  1.46287109  0.          0.          0.        ]\n",
      "Scaled positions       :\n",
      " [[5.00000000e-01 5.00000000e-01 1.29642674e-02]\n",
      " [0.00000000e+00 0.00000000e+00 5.27750504e-01]\n",
      " [0.00000000e+00 5.00000000e-01 4.76040903e-01]\n",
      " [5.00000000e-01 1.68532369e-34 4.76040903e-01]\n",
      " [0.00000000e+00 4.81521053e-34 9.53204423e-01]]\n",
      "Epot after opt: -31.50062774984776 eV\n"
     ]
    }
   ],
   "source": [
    "atoms2 = opt_with_symmetry(bto_tetra, calculator, fix_symmetry=True, hydrostatic_strain=False)"
   ]
  },
  {
   "cell_type": "markdown",
   "id": "e5a0127e-6d03-403e-8353-f5604d0b9394",
   "metadata": {},
   "source": [
    "### 3. FixSymmetryなし, hydrostatic_strain=True\n",
    "\n",
    "`hydrostatic_strain=True`の場合、等方的に圧力がかかるよう補正をするので、格子長の比と格子角を維持して最適化されます。\n",
    "Optimized Cell diff (%)の部分を見るとわかるように、角度が90°なまま最適化できていますが、a, b, c軸が全て同じ比率で最適化されてしまっています。\n",
    "結果として、c軸方向に伸びる構造最適化が進まずに極小値まで落ちきれていない事がわかります。(1, 2と比べると `Epot`が大きい値で構造最適化が終了してしまっています。)\n",
    "\n",
    "また、原子座標に関しては自由に動くため、xy座標の`scaled_positions`が`0`や`0.5` といったきりの良い数字から少し離れていることがわかります。"
   ]
  },
  {
   "cell_type": "code",
   "execution_count": 9,
   "id": "d0c5ce40-7078-4771-9d2a-354e41ca0aa4",
   "metadata": {},
   "outputs": [
    {
     "name": "stdout",
     "output_type": "stream",
     "text": [
      "Optimized Cell         : [ 4.01270313  4.01270313  4.20928611 90.         90.         90.        ]\n",
      "Optimized Cell diff (%): [0.20592371 0.20592371 0.20592371 0.         0.         0.        ]\n",
      "Scaled positions       :\n",
      " [[5.00000008e-01 4.99999994e-01 9.89108271e-03]\n",
      " [1.11106572e-08 9.99999911e-01 5.24864351e-01]\n",
      " [9.99999987e-01 5.00000061e-01 4.77019937e-01]\n",
      " [4.99999994e-01 2.14225119e-08 4.77019929e-01]\n",
      " [2.15720326e-10 1.25089468e-08 9.57205700e-01]]\n",
      "Epot after opt: -31.4997303967836 eV\n"
     ]
    }
   ],
   "source": [
    "atoms3 = opt_with_symmetry(bto_tetra, calculator, fix_symmetry=False, hydrostatic_strain=True)"
   ]
  },
  {
   "cell_type": "markdown",
   "id": "d0a2b1cf-1c3b-486f-8255-00370e213978",
   "metadata": {},
   "source": [
    "### 4. FixSymmetryあり, hydrostatic_strain=True\n",
    "\n",
    "セルに関しては3.と同様の結果となりました。`hydrostatic_strain=True`として格子長の比と格子角を維持するということが、`FixSymmetry`で課される制約よりも厳しいものとなっています。\n",
    "\n",
    "原子座標に関しては`FixSymmetry`の制約により、xy座標の`scaled_positions`が`0`や`0.5` といったきりの良い数字を保っています。"
   ]
  },
  {
   "cell_type": "code",
   "execution_count": 27,
   "id": "f609f635-05cf-4214-a155-20a989183f8c",
   "metadata": {},
   "outputs": [
    {
     "name": "stdout",
     "output_type": "stream",
     "text": [
      "Optimized Cell         : [ 4.01270314  4.01270314  4.20928612 90.         90.         90.        ]\n",
      "Optimized Cell diff (%): [0.20592401 0.20592401 0.20592401 0.         0.         0.        ]\n",
      "Scaled positions       :\n",
      " [[5.00000000e-01 5.00000000e-01 9.89107701e-03]\n",
      " [0.00000000e+00 3.11088259e-43 5.24864324e-01]\n",
      " [0.00000000e+00 5.00000000e-01 4.77019942e-01]\n",
      " [5.00000000e-01 1.96181785e-43 4.77019942e-01]\n",
      " [0.00000000e+00 0.00000000e+00 9.57205715e-01]]\n",
      "Epot after opt: -31.499728636465193 eV\n"
     ]
    }
   ],
   "source": [
    "atoms4 = opt_with_symmetry(bto_tetra, calculator, fix_symmetry=True, hydrostatic_strain=True)"
   ]
  },
  {
   "cell_type": "markdown",
   "id": "2cc6dedb-b98d-4edb-889c-f8219eafa302",
   "metadata": {},
   "source": [
    "### まとめ\n",
    "\n",
    "結果を表にまとめると以下のようになります。\n",
    "\n",
    "| 方法 | `FixSymmetry` | `hydtrostatic_strain` | 結果 |\n",
    "|:------|:------:|:---------:|:---------|\n",
    "| 1 |  | | 対称性が考慮されないため、セルの角度などが微小変化してしまう。 |\n",
    "| 2 | ✓ |  | <b>所望の結果が得られる。</b>正方晶という対称性を保ちながら、十分な構造最適化が行える。<br/>原子座標のサイトの関係もきちんと制約がかかる |\n",
    "| 3 |  | ✓ | a, b, c軸全てが同じ割合で最適化されてしまうため、c軸方向の構造最適化が十分に行えない。<br/>原子座標も自由に動いてしまう。 |\n",
    "| 4 | ✓ | ✓ | セルは3と同様。原子座標のサイトの関係は制約がかかる。 |\n",
    "\n",
    "\n",
    "**格子の対称性とは「格子ベクトル・等価であるサイトの関係」のことであり（a=b, α=β=γ=90°など）**、`FixSymmetry`を用いることでこの対称性を保ちながら構造最適化を行えます。より正確には、初期構造が属する**空間群を保つ**ような変位のみで構造最適化が行われます。\n",
    "\n",
    "以下では、対称性に関する定義、つまり空間群について説明します。"
   ]
  },
  {
   "cell_type": "markdown",
   "id": "f8eb4217-27bf-4d7c-a1d6-7ecc648f7f5b",
   "metadata": {},
   "source": [
    "## 空間群 (spacegroup)\n",
    "\n",
    "3次元の空間に周期境界条件をもって規則的に続く結晶構造が取ることのできるパターンは、全部で**230種類**となることが知られており、これを空間群といいます。\n",
    "全ての結晶は230種類の空間群のなかのどれか１つに属することとなります。\n",
    "\n",
    " - [空間群](https://ja.wikipedia.org/wiki/%E7%A9%BA%E9%96%93%E7%BE%A4)\n",
    "\n",
    "空間群の230種のリストに関しては、例えば以下のサイトなどで確認することができます。\n",
    "\n",
    " - [High-Resolution Space Group Diagrams and Tables](http://img.chem.ucl.ac.uk/sgp/large/sgp.htm)\n",
    "\n",
    "\n",
    "ASEでは、`get_spacegroup`関数を用いることで`atoms`の空間群を判定することができます。"
   ]
  },
  {
   "cell_type": "markdown",
   "id": "567b9e77-4c74-488d-ba8c-f523c43da17b",
   "metadata": {},
   "source": [
    "[Note]\n",
    "\n",
    "`get_spacegroup`関数内では`spglib`というライブラリが内部で用いられています。<br/>\n",
    "`spglib`は、ユニットセルや原子座標の情報から、その空間群を判定するライブラリです。\n",
    "\n",
    " - [Spglib Document](https://spglib.github.io/spglib/)\n",
    " - [github](https://github.com/spglib/spglib)\n",
    " - \"`Spglib`: a software library for crystal symmetry search\", Atsushi Togo and Isao Tanaka, https://arxiv.org/abs/1808.01590\n"
   ]
  },
  {
   "cell_type": "markdown",
   "id": "eaf0386c-6e18-4299-91ba-b2212d27569e",
   "metadata": {},
   "source": [
    "今回のBaTiO3 tetragonal構造に対して、空間群の判定を行ってみましょう。"
   ]
  },
  {
   "cell_type": "code",
   "execution_count": 11,
   "id": "f8b7d233-fa2b-4ba5-a9b0-f80ad84d95ab",
   "metadata": {},
   "outputs": [
    {
     "data": {
      "text/plain": [
       "Spacegroup(99, setting=1)"
      ]
     },
     "execution_count": 11,
     "metadata": {},
     "output_type": "execute_result"
    }
   ],
   "source": [
    "from ase.spacegroup import get_spacegroup\n",
    "\n",
    "sg = get_spacegroup(bto_tetra)\n",
    "sg"
   ]
  },
  {
   "cell_type": "markdown",
   "id": "c12b62fa-04f3-4642-a567-1fc22f09a8ad",
   "metadata": {},
   "source": [
    "ここで返ってきた `Spacegroup` クラスからは以下のような情報を得ることができます。\n",
    "\n",
    " - `no`: 空間群の番号\n",
    " - `symbol`: 空間群の[ヘルマン・モーガン記号](https://ja.wikipedia.org/wiki/%E3%83%98%E3%83%AB%E3%83%9E%E3%83%B3%E3%83%BB%E3%83%A2%E3%83%BC%E3%82%AC%E3%83%B3%E8%A8%98%E5%8F%B7)([Hermann-Mauguin](https://en.wikipedia.org/wiki/Hermann%E2%80%93Mauguin_notation))。(他の表現方法としては[シェーンフリース記号](https://ja.wikipedia.org/wiki/%E3%82%B7%E3%82%A7%E3%83%BC%E3%83%B3%E3%83%95%E3%83%AA%E3%83%BC%E3%82%B9%E8%A8%98%E5%8F%B7)([Schoenflies](https://en.wikipedia.org/wiki/Schoenflies_notation))が知られています。)\n",
    " - `lattice`: 格子タイプ。`P` 単純格子, `I` 体心, `F` 面心など。\n",
    " - `scaled_primitive_cell`: 規格化された単位胞\n",
    " - `reciprocal_cell`: 逆格子"
   ]
  },
  {
   "cell_type": "code",
   "execution_count": 12,
   "id": "50abac4a-e5d4-4d8e-bee7-aa9e796bdbc8",
   "metadata": {},
   "outputs": [
    {
     "data": {
      "text/plain": [
       "ase.spacegroup.spacegroup.Spacegroup"
      ]
     },
     "execution_count": 12,
     "metadata": {},
     "output_type": "execute_result"
    }
   ],
   "source": [
    "type(sg)"
   ]
  },
  {
   "cell_type": "code",
   "execution_count": 13,
   "id": "775ade43-4542-491f-aab7-7e48d3875d4a",
   "metadata": {},
   "outputs": [
    {
     "name": "stdout",
     "output_type": "stream",
     "text": [
      "no      :  99\n",
      "symbol  :  P 4 m m\n",
      "lattice :  P\n",
      "scaled_primitive_cell: \n",
      " [[1. 0. 0.]\n",
      " [0. 1. 0.]\n",
      " [0. 0. 1.]]\n",
      "reciprocal_cell      : \n",
      " [[1 0 0]\n",
      " [0 1 0]\n",
      " [0 0 1]]\n"
     ]
    }
   ],
   "source": [
    "print(\"no      : \", sg.no)\n",
    "print(\"symbol  : \", sg.symbol)\n",
    "print(\"lattice : \", sg.lattice)\n",
    "print(\"scaled_primitive_cell: \\n\", sg.scaled_primitive_cell)\n",
    "print(\"reciprocal_cell      : \\n\", sg.reciprocal_cell)"
   ]
  },
  {
   "cell_type": "markdown",
   "id": "b2c78d7f-891f-4cc4-b379-8c8abec056b4",
   "metadata": {},
   "source": [
    "今回のBaTiO3構造は、99番目の `P 4 m m` 空間群と判定されました。\n",
    "\n",
    " - P4mm: http://img.chem.ucl.ac.uk/sgp/large/099az1.htm\n",
    "\n",
    "空間群は並進移動・回転・鏡像反転などのうち、どのような操作に対してその結晶構造が変わらない変換となるかを規定しています。<br/>\n",
    "空間群の記号の読み方などに関しては、それだけで１冊の本になるほどの内容なので、ここでは割愛します。<br/>\n",
    "詳細を勉強したい方は末尾の参考文献などをご参照ください。\n",
    "\n",
    "本tutorialでは、可視化をしながら空間群がどういうものなのか感覚的な説明を試みます。\n",
    "`P 4 m m` は、4回回転対称性を持ち(z軸方向に90度回転させる変換に対して不変)、xz平面およびyz平面に対して鏡像反転対称性を持つ空間群となっています。\n",
    "\n",
    "ある１つの原子配置に対して、この対称性から課される\"等価なサイト\"は、`equivalent_lattice_points`という関数で計算できます。\n",
    "以下のように、適当な点 (`[0.3, 0.1, 0.6]`)に対して等価なサイトを計算し、表示してみましょう。"
   ]
  },
  {
   "cell_type": "code",
   "execution_count": 14,
   "id": "5bce760d-d610-4564-85e4-9d07c2a0086c",
   "metadata": {},
   "outputs": [
    {
     "name": "stdout",
     "output_type": "stream",
     "text": [
      "sites [[0.3 0.1 0.6]\n",
      " [0.7 0.9 0.6]\n",
      " [0.9 0.3 0.6]\n",
      " [0.1 0.7 0.6]\n",
      " [0.3 0.9 0.6]\n",
      " [0.7 0.1 0.6]\n",
      " [0.9 0.7 0.6]\n",
      " [0.1 0.3 0.6]]\n"
     ]
    },
    {
     "data": {
      "application/vnd.jupyter.widget-view+json": {
       "model_id": "248fe7dd0717472a896e766d11fc9a83",
       "version_major": 2,
       "version_minor": 0
      },
      "text/plain": [
       "HBox(children=(NGLWidget(), VBox(children=(Dropdown(description='Show', options=('All', 'C'), value='All'), Dr…"
      ]
     },
     "metadata": {},
     "output_type": "display_data"
    }
   ],
   "source": [
    "sites, kinds = sg.equivalent_sites([[0.3, 0.1, 0.6]])\n",
    "print(\"sites\", sites)\n",
    "\n",
    "p4mm_atoms = Atoms(symbols=\"C8\", scaled_positions=sites, cell=[5, 5, 5], pbc=True)\n",
    "view_ngl(p4mm_atoms)"
   ]
  },
  {
   "cell_type": "markdown",
   "id": "c9ceba41-f63b-456a-b1f3-5f501c0ff06b",
   "metadata": {},
   "source": [
    "このように、`[0.3, 0.1, 0.6]`からz軸方向に90度回転して得られる点や、それらの点からxz平面/yz平面に対する鏡像反転を行って得られる点、合計8点が等価なサイトとして含まれることがわかります。\n",
    "\n",
    "BaTiO3の構造を再度見てみましょう。"
   ]
  },
  {
   "cell_type": "code",
   "execution_count": 15,
   "id": "a7f34962-f21f-42c9-a3ff-ac1030f3a7ef",
   "metadata": {},
   "outputs": [
    {
     "data": {
      "application/vnd.jupyter.widget-view+json": {
       "model_id": "4d931816aaae4fdd9c239a58b34030f7",
       "version_major": 2,
       "version_minor": 0
      },
      "text/plain": [
       "HBox(children=(NGLWidget(), VBox(children=(Dropdown(description='Show', options=('All', 'Ba', 'Ti', 'O'), valu…"
      ]
     },
     "metadata": {},
     "output_type": "display_data"
    }
   ],
   "source": [
    "view_ngl(bto_tetra)"
   ]
  },
  {
   "cell_type": "code",
   "execution_count": 16,
   "id": "57852d8d-7094-4c63-8977-af8a521fe4ad",
   "metadata": {},
   "outputs": [
    {
     "data": {
      "image/png": "[encoded data removed]",
      "text/plain": [
       "<Figure size 288x288 with 1 Axes>"
      ]
     },
     "metadata": {
      "needs_background": "light"
     },
     "output_type": "display_data"
    }
   ],
   "source": [
    "from pfcc_extras.visualize.ase import view_ase_atoms\n",
    "\n",
    "view_ase_atoms(bto_tetra, figsize=(4, 4), title=\"BaTiO3 tetragonal atoms\", scale=100, rotation=\"0x,0y,0z\")"
   ]
  },
  {
   "cell_type": "markdown",
   "id": "d5fffcc7-a8ac-4392-b2b7-483fb9aa8bf3",
   "metadata": {},
   "source": [
    "今回のBaTiO3構造に関しては、\n",
    "`index=0`のBa、`index=1`のTi、`index=4`のOに関しては、回転や鏡像反転を行ってもユニットセル分の移動を除いて同じ場所に移るため、等価なサイトは自分自身のみとなっています。\n",
    "`index2, 3`のO構造は4回回転対称性によりお互いに等価なサイトとなっていることがわかります。"
   ]
  },
  {
   "cell_type": "code",
   "execution_count": 17,
   "id": "f8239bda-0ddf-4de6-b388-3cc4ed10e711",
   "metadata": {},
   "outputs": [
    {
     "name": "stdout",
     "output_type": "stream",
     "text": [
      "0 Ba (array([[0.5     , 0.5     , 0.004136]]), [0])\n",
      "1 Ti (array([[0.      , 0.      , 0.524313]]), [0])\n",
      "2 O (array([[0.      , 0.5     , 0.479349],\n",
      "       [0.5     , 0.      , 0.479349]]), [0, 0])\n",
      "3 O (array([[0.5     , 0.      , 0.479349],\n",
      "       [0.      , 0.5     , 0.479349]]), [0, 0])\n",
      "4 O (array([[0.      , 0.      , 0.958854]]), [0])\n"
     ]
    }
   ],
   "source": [
    "spos = bto_tetra.get_scaled_positions()\n",
    "symbols = bto_tetra.symbols\n",
    "\n",
    "for i in range(len(spos)):\n",
    "    print(i, symbols[i], sg.equivalent_sites(spos[i]))    "
   ]
  },
  {
   "cell_type": "markdown",
   "id": "a13e8d6c-ff90-49f7-9f91-e3b45ec5f6d3",
   "metadata": {},
   "source": [
    "最後に、本tutorial で構造最適化を行った後の4構造それぞれに対する空間群の判定をしてみます。\n",
    "\n",
    "`get_spacegroup`関数の`symprec` で対称性判定を行う際の各原子座標のずれの許容範囲を設定できます。\n",
    "今回、defaultの`symprec=1e-5`では全て `P 4 m m`となってしまったため、厳しく小さな値を設定して空間群の判定を行っています。"
   ]
  },
  {
   "cell_type": "code",
   "execution_count": 18,
   "id": "74421e53-6a00-4829-863d-e64c372d7fb6",
   "metadata": {},
   "outputs": [
    {
     "name": "stdout",
     "output_type": "stream",
     "text": [
      "atoms1:  P 1\n",
      "atoms2:  P 4 m m\n",
      "atoms3:  P 1\n",
      "atoms4:  P 4 m m\n"
     ]
    }
   ],
   "source": [
    "symprec = 1e-10\n",
    "\n",
    "print(\"atoms1: \", get_spacegroup(atoms1, symprec=symprec).symbol)\n",
    "print(\"atoms2: \", get_spacegroup(atoms2, symprec=symprec).symbol)\n",
    "print(\"atoms3: \", get_spacegroup(atoms3, symprec=symprec).symbol)\n",
    "print(\"atoms4: \", get_spacegroup(atoms4, symprec=symprec).symbol)"
   ]
  },
  {
   "cell_type": "markdown",
   "id": "e9bd2adc-69fe-40f8-a9f4-15c9fbbe1727",
   "metadata": {},
   "source": [
    "このように `FixSymmetry` を適用した `atoms2`, `atoms4` は`P 4 m m` **空間群を保って**いますが、\n",
    "`atoms1`, `atoms3` は空間群が崩れ、一番対称性の低い`P 1` になってしまっています。\n",
    "\n",
    " - 1  P1  : http://img.chem.ucl.ac.uk/sgp/large/001az1.htm\n",
    " - 99 P4mm: http://img.chem.ucl.ac.uk/sgp/large/099az1.htm"
   ]
  },
  {
   "cell_type": "markdown",
   "id": "ba23985d-2b97-48cf-b3e1-5d110b322f97",
   "metadata": {},
   "source": [
    "## ブラべー格子\n",
    "\n",
    "空間群について説明を行ったので、関連する概念としてブラべー格子の説明をします。\n",
    "\n",
    " - [結晶構造 - Wikipedia](https://ja.wikipedia.org/wiki/%E7%B5%90%E6%99%B6%E6%A7%8B%E9%80%A0)\n",
    " - https://wiki.fysik.dtu.dk/ase/ase/lattice.html\n",
    " \n",
    "空間群は`atoms`のセル及び原子配置双方に依存して決まる対称性ですが、ブラべー格子はセル(単位胞)のみから決まるものです。\n",
    "\n",
    "ブラべー格子は以下の**14種類**のいずれかになることが知られています。\n",
    "これら14種類は上記のwikipediaのリンクでも図示されているのでご確認ください。"
   ]
  },
  {
   "cell_type": "code",
   "execution_count": 19,
   "id": "4e0dabe7-bccc-45d6-82c7-5726a975e321",
   "metadata": {},
   "outputs": [
    {
     "name": "stdout",
     "output_type": "stream",
     "text": [
      " 1. CUB: primitive cubic , cubic\n",
      " 2. FCC: face-centred cubic , cubic\n",
      " 3. BCC: body-centred cubic , cubic\n",
      " 4. TET: primitive tetragonal , tetragonal\n",
      " 5. BCT: body-centred tetragonal , tetragonal\n",
      " 6. HEX: primitive hexagonal , hexagonal\n",
      " 7. RHL: primitive rhombohedral , hexagonal\n",
      " 8. ORC: primitive orthorhombic , orthorhombic\n",
      " 9. ORCF: face-centred orthorhombic , orthorhombic\n",
      "10. ORCI: body-centred orthorhombic , orthorhombic\n",
      "11. ORCC: base-centred orthorhombic , orthorhombic\n",
      "12. MCL : primitive monoclinic , monoclinic\n",
      "13. MCLC: base-centred monoclinic , monoclinic\n",
      "14. TRI : primitive triclinic , triclinic\n"
     ]
    }
   ],
   "source": [
    "from ase.lattice import CUB, FCC, BCC, TET, BCT, HEX, RHL, ORC, ORCF, ORCI, ORCC, MCL, MCLC, TRI\n",
    "\n",
    "print(\" 1. CUB:\", CUB.longname, \",\", CUB.crystal_family)\n",
    "print(\" 2. FCC:\", FCC.longname, \",\", FCC.crystal_family)\n",
    "print(\" 3. BCC:\", BCC.longname, \",\", BCC.crystal_family)\n",
    "print(\" 4. TET:\", TET.longname, \",\", TET.crystal_family)\n",
    "print(\" 5. BCT:\", BCT.longname, \",\", BCT.crystal_family)\n",
    "print(\" 6. HEX:\", HEX.longname, \",\", HEX.crystal_family)\n",
    "print(\" 7. RHL:\", RHL.longname, \",\", RHL.crystal_family)\n",
    "print(\" 8. ORC:\", ORC.longname, \",\", ORC.crystal_family)\n",
    "print(\" 9. ORCF:\", ORCF.longname, \",\", ORCF.crystal_family)\n",
    "print(\"10. ORCI:\", ORCI.longname, \",\", ORCI.crystal_family)\n",
    "print(\"11. ORCC:\", ORCC.longname, \",\", ORCC.crystal_family)\n",
    "print(\"12. MCL :\", MCL.longname, \",\", MCL.crystal_family)\n",
    "print(\"13. MCLC:\", MCLC.longname, \",\", MCLC.crystal_family)\n",
    "print(\"14. TRI :\", TRI.longname, \",\", TRI.crystal_family)"
   ]
  },
  {
   "cell_type": "markdown",
   "id": "af30272b-e01f-4b9d-be10-f7bbc991d5fb",
   "metadata": {},
   "source": [
    "ASEでは`get_bravais_lattice`関数を用いてブラべー格子の判定を行うことができます。"
   ]
  },
  {
   "cell_type": "code",
   "execution_count": 20,
   "id": "b9ed68d5-016f-438e-b9d9-b2c286777fad",
   "metadata": {},
   "outputs": [
    {
     "data": {
      "text/plain": [
       "TET(a=4.0044570000000003773, c=4.2006360000000002586)"
      ]
     },
     "execution_count": 20,
     "metadata": {},
     "output_type": "execute_result"
    }
   ],
   "source": [
    "bto_tetra.cell.get_bravais_lattice()"
   ]
  },
  {
   "cell_type": "markdown",
   "id": "2f5fc22a-3dae-4b44-b830-732010f00bb4",
   "metadata": {},
   "source": [
    "正方晶であるBaTiO3構造に対して、期待通り`TET`が得られました。"
   ]
  },
  {
   "cell_type": "markdown",
   "id": "0b8bbb77-51bd-4456-972b-4e7d3f77e434",
   "metadata": {},
   "source": [
    "ここで注意すべき内容として、`cell`は単位胞 (primitive cell) を指定する必要があります。\n",
    "\n",
    "以下Fe BCC構造を作成して、`get_bravais_lattice`を用いた際、単位胞を指定した場合は期待通り`BCC`が返って来ますが、\n",
    "`cubic=True`として立方体のユニットセルを作った構造に対して`get_bravais_lattice`を呼ぶと`CUB`が返ってきています。"
   ]
  },
  {
   "cell_type": "code",
   "execution_count": 21,
   "id": "5003fd2a-4864-475e-b54f-17baf7a1b4b4",
   "metadata": {},
   "outputs": [
    {
     "data": {
      "image/png": "[encoded data removed]",
      "text/plain": [
       "<Figure size 288x288 with 1 Axes>"
      ]
     },
     "metadata": {
      "needs_background": "light"
     },
     "output_type": "display_data"
    }
   ],
   "source": [
    "from ase.build import bulk\n",
    "from pfcc_extras.visualize.ase import view_ase_atoms\n",
    "\n",
    "fe_bcc = bulk(\"Fe\")\n",
    "view_ase_atoms(fe_bcc, figsize=(4, 4), title=\"Fe BCC atoms\", scale=100, rotation=\"0x,0y,0z\")"
   ]
  },
  {
   "cell_type": "code",
   "execution_count": 22,
   "id": "352e0a28-f401-4221-9a6e-48c7bf540047",
   "metadata": {},
   "outputs": [],
   "source": [
    "# view_ngl(fe_bcc)"
   ]
  },
  {
   "cell_type": "code",
   "execution_count": 23,
   "id": "10b73c14-29e4-46b6-9956-cf7c18f4edb9",
   "metadata": {},
   "outputs": [
    {
     "name": "stdout",
     "output_type": "stream",
     "text": [
      "fe_bcc Bravais lattice: BCC(a=2.87)\n",
      "fe_bcc cell           : Cell([[-1.435, 1.435, 1.435], [1.435, -1.435, 1.435], [1.435, 1.435, -1.435]])\n"
     ]
    }
   ],
   "source": [
    "print(\"fe_bcc Bravais lattice:\", fe_bcc.cell.get_bravais_lattice())\n",
    "print(\"fe_bcc cell           :\", fe_bcc.cell)"
   ]
  },
  {
   "cell_type": "code",
   "execution_count": 24,
   "id": "d8df02e5-4fb4-416a-a0f0-30f132e97bc1",
   "metadata": {},
   "outputs": [
    {
     "data": {
      "image/png": "[encoded data removed]",
      "text/plain": [
       "<Figure size 288x288 with 1 Axes>"
      ]
     },
     "metadata": {
      "needs_background": "light"
     },
     "output_type": "display_data"
    }
   ],
   "source": [
    "fe_cubic = bulk(\"Fe\", cubic=True)\n",
    "view_ase_atoms(fe_cubic, figsize=(4, 4), title=\"Fe BCC cubic=True\", scale=100, rotation=\"0x,0y,0z\")"
   ]
  },
  {
   "cell_type": "code",
   "execution_count": 25,
   "id": "97681d3c-90e8-4153-980f-e71490ff8353",
   "metadata": {},
   "outputs": [],
   "source": [
    "# view_ngl(fe_cubic)"
   ]
  },
  {
   "cell_type": "code",
   "execution_count": 26,
   "id": "d6c7d713-2aa9-4fe7-917c-61f3e35460c1",
   "metadata": {},
   "outputs": [
    {
     "name": "stdout",
     "output_type": "stream",
     "text": [
      "fe_cubic Bravais lattice: CUB(a=2.87)\n",
      "fe_cubic cell           : Cell([2.87, 2.87, 2.87])\n"
     ]
    }
   ],
   "source": [
    "print(\"fe_cubic Bravais lattice:\", fe_cubic.cell.get_bravais_lattice())\n",
    "print(\"fe_cubic cell           :\", fe_cubic.cell)"
   ]
  },
  {
   "cell_type": "markdown",
   "id": "27a14097-7c45-449a-8bac-bbe85fe2ce9d",
   "metadata": {},
   "source": [
    "## 参考文献\n",
    "\n",
    "空間群について、より詳しく勉強したい方は以下が参考になるでしょう。\n",
    "\n",
    " - 「物質の対称性と群論」 今野 豊彦"
   ]
  }
 ],
 "metadata": {
  "kernelspec": {
   "display_name": "Python 3.7",
   "language": "python",
   "name": "python37"
  },
  "language_info": {
   "codemirror_mode": {
    "name": "ipython",
    "version": 3
   },
   "file_extension": ".py",
   "mimetype": "text/x-python",
   "name": "python",
   "nbconvert_exporter": "python",
   "pygments_lexer": "ipython3",
   "version": "3.7.13"
  },
  "widgets": {
   "application/vnd.jupyter.widget-state+json": {
    "state": {
     "04976423d2ee46d59a869c165eefefde": {
      "model_module": "@jupyter-widgets/base",
      "model_module_version": "1.2.0",
      "model_name": "LayoutModel",
      "state": {}
     },
     "04c6569fd375422a80ce69eaa650f23c": {
      "model_module": "@jupyter-widgets/controls",
      "model_module_version": "1.5.0",
      "model_name": "CheckboxModel",
      "state": {
       "description": "Show charge",
       "disabled": false,
       "layout": "IPY_MODEL_f4c32f9b0fb34536a5ba3578e5531434",
       "style": "IPY_MODEL_90cf3fb017cb435eac76bc70e15c0121",
       "value": false
      }
     },
     "05740dbc79de4daa8f516e0d29c85e6f": {
      "model_module": "@jupyter-widgets/base",
      "model_module_version": "1.2.0",
      "model_name": "LayoutModel",
      "state": {}
     },
     "058a90d1d85f4c46a81a3db7a4ccdd76": {
      "model_module": "@jupyter-widgets/controls",
      "model_module_version": "1.5.0",
      "model_name": "SliderStyleModel",
      "state": {
       "description_width": ""
      }
     },
     "07469fd9a8a8407280e0a8f26860e42f": {
      "model_module": "@jupyter-widgets/base",
      "model_module_version": "1.2.0",
      "model_name": "LayoutModel",
      "state": {}
     },
     "07e0b83caed04dcaa1f30f1fa5488462": {
      "model_module": "@jupyter-widgets/controls",
      "model_module_version": "1.5.0",
      "model_name": "SliderStyleModel",
      "state": {
       "description_width": ""
      }
     },
     "0861674546d543e2a42553b1fed2e768": {
      "model_module": "@jupyter-widgets/controls",
      "model_module_version": "1.5.0",
      "model_name": "ButtonStyleModel",
      "state": {}
     },
     "08b812914b19432f8f9d41c6bc821b74": {
      "model_module": "@jupyter-widgets/controls",
      "model_module_version": "1.5.0",
      "model_name": "FloatSliderModel",
      "state": {
       "description": "Charge scale",
       "layout": "IPY_MODEL_2d4f278a6f484f83a109d1408929d870",
       "step": 0.1,
       "style": "IPY_MODEL_359d5f370895453b929b4ba81f00f18b",
       "value": 1
      }
     },
     "08c3797d94fa4cb5a6c30d23254fbe69": {
      "model_module": "@jupyter-widgets/base",
      "model_module_version": "1.2.0",
      "model_name": "LayoutModel",
      "state": {}
     },
     "0a2849ccd4a24a38be9f23ee29002c1a": {
      "model_module": "@jupyter-widgets/controls",
      "model_module_version": "1.5.0",
      "model_name": "HBoxModel",
      "state": {
       "children": [
        "IPY_MODEL_0e125442ddce4650a4377ce756dbf66a",
        "IPY_MODEL_53ae6077ed8a475c9c3bb898eaabb96b"
       ],
       "layout": "IPY_MODEL_08c3797d94fa4cb5a6c30d23254fbe69"
      }
     },
     "0c584b69676f44c3a8663b06d142b782": {
      "model_module": "@jupyter-widgets/controls",
      "model_module_version": "1.5.0",
      "model_name": "IntSliderModel",
      "state": {
       "layout": "IPY_MODEL_420c2a4305484afabce594f03487a2e8",
       "max": 0,
       "style": "IPY_MODEL_058a90d1d85f4c46a81a3db7a4ccdd76"
      }
     },
     "0dd7e427e56c452fab49717d9106d45b": {
      "model_module": "@jupyter-widgets/base",
      "model_module_version": "1.2.0",
      "model_name": "LayoutModel",
      "state": {}
     },
     "0e125442ddce4650a4377ce756dbf66a": {
      "model_module": "@jupyter-widgets/controls",
      "model_module_version": "1.5.0",
      "model_name": "ButtonModel",
      "state": {
       "description": "Download image",
       "layout": "IPY_MODEL_e1cb6bb25b2b426b858f76736c888b94",
       "style": "IPY_MODEL_add219a2c46d49088752fd988d46b371",
       "tooltip": "Download current frame to your local PC"
      }
     },
     "0fc9d9618671405e9889a945fca539a7": {
      "model_module": "@jupyter-widgets/controls",
      "model_module_version": "1.5.0",
      "model_name": "DropdownModel",
      "state": {
       "_options_labels": [
        "All",
        "Ba",
        "Ti",
        "O"
       ],
       "description": "Show",
       "index": 0,
       "layout": "IPY_MODEL_ad082a184bad439a86842f7f4df405d5",
       "style": "IPY_MODEL_aa1bbbb24c3144d5b3dbd4ba7682374e"
      }
     },
     "114b476d9a144f328ac8a0aba0e696b0": {
      "model_module": "@jupyter-widgets/base",
      "model_module_version": "1.2.0",
      "model_name": "LayoutModel",
      "state": {}
     },
     "1577884628b240fa9a04b33741733ed7": {
      "model_module": "@jupyter-widgets/controls",
      "model_module_version": "1.5.0",
      "model_name": "SliderStyleModel",
      "state": {
       "description_width": ""
      }
     },
     "16e0b99db10b443f8fb1d7a0ed084a30": {
      "model_module": "@jupyter-widgets/base",
      "model_module_version": "1.2.0",
      "model_name": "LayoutModel",
      "state": {}
     },
     "16f7af636fef4d4c954a53bd178ba03d": {
      "model_module": "@jupyter-widgets/controls",
      "model_module_version": "1.5.0",
      "model_name": "SliderStyleModel",
      "state": {
       "description_width": ""
      }
     },
     "1829fa2c90d542c4b0b2ba217a331e39": {
      "model_module": "@jupyter-widgets/controls",
      "model_module_version": "1.5.0",
      "model_name": "DescriptionStyleModel",
      "state": {
       "description_width": ""
      }
     },
     "184d28a2bce04be69c5533086a0f295d": {
      "model_module": "@jupyter-widgets/base",
      "model_module_version": "1.2.0",
      "model_name": "LayoutModel",
      "state": {}
     },
     "189d636be0954b8092e36f285a6be254": {
      "model_module": "@jupyter-widgets/base",
      "model_module_version": "1.2.0",
      "model_name": "LayoutModel",
      "state": {}
     },
     "18e17f73605442d6bbbe87dd58cafd80": {
      "model_module": "@jupyter-widgets/controls",
      "model_module_version": "1.5.0",
      "model_name": "HBoxModel",
      "state": {
       "children": [
        "IPY_MODEL_a07672dc3b004c8b98440af18e91d7f2",
        "IPY_MODEL_fc42eebafe95419f95250afa5ddb89f4"
       ],
       "layout": "IPY_MODEL_5f6cde7623ec4b0283162f5d9f4e8f02"
      }
     },
     "18e3a40e88b144fabe1c23ab78c76fac": {
      "model_module": "nglview-js-widgets",
      "model_module_version": "3.0.1",
      "model_name": "NGLModel",
      "state": {
       "_camera_orientation": [
        7.93360035776314,
        0,
        0,
        0,
        0,
        7.93360035776314,
        0,
        0,
        0,
        0,
        7.93360035776314,
        0,
        -1.0010000467300415,
        -1.0010000467300415,
        -2.0224999394267797,
        1
       ],
       "_camera_str": "orthographic",
       "_gui_theme": null,
       "_ibtn_fullscreen": "IPY_MODEL_f26623dc9d4c4f7280895ed8bba580e9",
       "_igui": null,
       "_iplayer": "IPY_MODEL_f5f10fdb36544c3887597db4906f502b",
       "_ngl_color_dict": {},
       "_ngl_coordinate_resource": {},
       "_ngl_full_stage_parameters": {
        "ambientColor": 14540253,
        "ambientIntensity": 0.2,
        "backgroundColor": "white",
        "cameraEyeSep": 0.3,
        "cameraFov": 40,
        "cameraType": "orthographic",
        "clipDist": 0,
        "clipFar": 100,
        "clipNear": 0,
        "fogFar": 100,
        "fogNear": 50,
        "hoverTimeout": 0,
        "impostor": true,
        "lightColor": 14540253,
        "lightIntensity": 1,
        "mousePreset": "default",
        "panSpeed": 1,
        "quality": "medium",
        "rotateSpeed": 2,
        "sampleLevel": 0,
        "tooltip": true,
        "workerDefault": true,
        "zoomSpeed": 1.2
       },
       "_ngl_msg_archive": [
        {
         "args": [
          {
           "binary": false,
           "data": "CRYST1    4.004    4.004    4.201  90.00  90.00  90.00 P 1\nMODEL     1\nATOM      1   Ba MOL     1       2.002   2.002   0.017  1.00  0.00          BA  \nATOM      2   Ti MOL     1       0.000   0.000   2.202  1.00  0.00          TI  \nATOM      3    O MOL     1       0.000   2.002   2.014  1.00  0.00           O  \nATOM      4    O MOL     1       2.002   0.000   2.014  1.00  0.00           O  \nATOM      5    O MOL     1       0.000   0.000   4.028  1.00  0.00           O  \nENDMDL\n",
           "type": "blob"
          }
         ],
         "kwargs": {
          "defaultRepresentation": false,
          "ext": "pdb"
         },
         "methodName": "loadFile",
         "reconstruc_color_scheme": false,
         "target": "Stage",
         "type": "call_method"
        },
        {
         "args": [
          "500px",
          "500px"
         ],
         "kwargs": {},
         "methodName": "setSize",
         "reconstruc_color_scheme": false,
         "target": "Widget",
         "type": "call_method"
        },
        {
         "args": [
          "unitcell"
         ],
         "component_index": 0,
         "kwargs": {
          "sele": "all"
         },
         "methodName": "addRepresentation",
         "reconstruc_color_scheme": false,
         "target": "compList",
         "type": "call_method"
        },
        {
         "args": [
          "spacefill"
         ],
         "component_index": 0,
         "kwargs": {
          "sele": "all"
         },
         "methodName": "addRepresentation",
         "reconstruc_color_scheme": false,
         "target": "compList",
         "type": "call_method"
        },
        {
         "args": [],
         "kwargs": {
          "cameraType": "orthographic"
         },
         "methodName": "setParameters",
         "reconstruc_color_scheme": false,
         "target": "Stage",
         "type": "call_method"
        },
        {
         "args": [
          {
           "clipDist": 0
          }
         ],
         "kwargs": {},
         "methodName": "setParameters",
         "reconstruc_color_scheme": false,
         "target": "Widget",
         "type": "call_method"
        },
        {
         "args": [
          "spacefill",
          0
         ],
         "kwargs": {
          "colorScale": "rainbow",
          "colorScheme": "element",
          "radiusScale": 0.5,
          "radiusType": "covalent"
         },
         "methodName": "updateRepresentationsByName",
         "reconstruc_color_scheme": false,
         "target": "Widget",
         "type": "call_method"
        },
        {
         "args": [
          "this._Q = [[1.0, 0.0, 0.0], [0.0, 1.0, 0.0], [0.0, 0.0, 1.0]]\n    var tooltip = document.createElement('div')\n    Object.assign(tooltip.style, {\n      display: 'none',\n      position: 'fixed',\n      zIndex: 10,\n      pointerEvents: 'none',\n      backgroundColor: 'rgba( 0, 0, 0, 0.6 )',\n      color: 'lightgrey',\n      padding: '8px',\n      fontFamily: 'sans-serif'\n    })\n    document.body.appendChild(tooltip)\n\n    var that = this\n    this.stage.mouseControls.remove('hoverPick')\n    this.stage.signals.hovered.add(function (pickingProxy) {\n      if (pickingProxy && (pickingProxy.atom || pickingProxy.bond)) {\n        var atom = pickingProxy.atom || pickingProxy.closestBondAtom\n        var mp = pickingProxy.mouse.position\n        //tooltip.innerText = atom.element + ' i=' + atom.index + ' (' + atom.x.toFixed(2) +  ', ' + atom.y.toFixed(2) +  ', ' + atom.z.toFixed(2) + ')'\n        //var pos = that._atoms_pos[atom.index]\n        var Q = that._Q\n        var pos_x = Q[0][0] * atom.x + Q[0][1] * atom.y + Q[0][2] * atom.z \n        var pos_y = Q[1][0] * atom.x + Q[1][1] * atom.y + Q[1][2] * atom.z\n        var pos_z = Q[2][0] * atom.x + Q[2][1] * atom.y + Q[2][2] * atom.z\n        tooltip.innerText = 'i=' + atom.index + ' ' + atom.element + ' (' + pos_x.toFixed(2) +  ', ' + pos_y.toFixed(2) +  ', ' + pos_z.toFixed(2) + ')'\n        tooltip.style.bottom = window.innerHeight - mp.y + 3 + 'px'\n        tooltip.style.left = mp.x + 3 + 'px'\n        tooltip.style.display = 'block'\n      } else {\n        tooltip.style.display = 'none'\n      }\n    })\n    "
         ],
         "kwargs": {},
         "methodName": "executeCode",
         "reconstruc_color_scheme": false,
         "target": "Widget",
         "type": "call_method"
        }
       ],
       "_ngl_original_stage_parameters": {
        "ambientColor": 14540253,
        "ambientIntensity": 0.2,
        "backgroundColor": "white",
        "cameraEyeSep": 0.3,
        "cameraFov": 40,
        "cameraType": "perspective",
        "clipDist": 10,
        "clipFar": 100,
        "clipNear": 0,
        "fogFar": 100,
        "fogNear": 50,
        "hoverTimeout": 0,
        "impostor": true,
        "lightColor": 14540253,
        "lightIntensity": 1,
        "mousePreset": "default",
        "panSpeed": 1,
        "quality": "medium",
        "rotateSpeed": 2,
        "sampleLevel": 0,
        "tooltip": true,
        "workerDefault": true,
        "zoomSpeed": 1.2
       },
       "_ngl_repr_dict": {
        "0": {
         "0": {
          "params": {
           "clipCenter": {
            "x": 0,
            "y": 0,
            "z": 0
           },
           "clipNear": 0,
           "clipRadius": 0,
           "colorMode": "hcl",
           "colorReverse": false,
           "colorScale": "",
           "colorScheme": "element",
           "colorValue": "orange",
           "defaultAssembly": "",
           "depthWrite": true,
           "diffuse": 16777215,
           "diffuseInterior": false,
           "disableImpostor": false,
           "disablePicking": false,
           "flatShaded": false,
           "interiorColor": 2236962,
           "interiorDarkening": 0,
           "lazy": false,
           "matrix": {
            "elements": [
             1,
             0,
             0,
             0,
             0,
             1,
             0,
             0,
             0,
             0,
             1,
             0,
             0,
             0,
             0,
             1
            ]
           },
           "metalness": 0,
           "opacity": 1,
           "quality": "medium",
           "radialSegments": 10,
           "radiusData": {},
           "radiusScale": 1,
           "radiusSize": 0.020343090211896044,
           "radiusType": "vdw",
           "roughness": 0.4,
           "sele": "all",
           "side": "double",
           "sphereDetail": 1,
           "useInteriorColor": true,
           "visible": true,
           "wireframe": false
          },
          "type": "unitcell"
         },
         "1": {
          "params": {
           "assembly": "default",
           "clipCenter": {
            "x": 0,
            "y": 0,
            "z": 0
           },
           "clipNear": 0,
           "clipRadius": 0,
           "colorMode": "hcl",
           "colorReverse": false,
           "colorScale": "rainbow",
           "colorScheme": "element",
           "colorValue": 9474192,
           "defaultAssembly": "",
           "depthWrite": true,
           "diffuse": 16777215,
           "diffuseInterior": false,
           "disableImpostor": false,
           "disablePicking": false,
           "flatShaded": false,
           "interiorColor": 2236962,
           "interiorDarkening": 0,
           "lazy": false,
           "matrix": {
            "elements": [
             1,
             0,
             0,
             0,
             0,
             1,
             0,
             0,
             0,
             0,
             1,
             0,
             0,
             0,
             0,
             1
            ]
           },
           "metalness": 0,
           "opacity": 1,
           "quality": "medium",
           "radiusData": {},
           "radiusScale": 0.5,
           "radiusSize": 1,
           "radiusType": "covalent",
           "roughness": 0.4,
           "sele": "all",
           "side": "double",
           "sphereDetail": 1,
           "useInteriorColor": true,
           "visible": true,
           "wireframe": false
          },
          "type": "spacefill"
         }
        }
       },
       "_ngl_serialize": false,
       "_ngl_version": "2.0.0-dev.36",
       "_ngl_view_id": [
        "08F76145-6FCE-4F14-9178-FA2DF8D20CDF"
       ],
       "_player_dict": {},
       "_scene_position": {},
       "_scene_rotation": {},
       "_synced_model_ids": [],
       "_synced_repr_model_ids": [],
       "_view_height": "",
       "_view_width": "",
       "background": "white",
       "frame": 0,
       "gui_style": null,
       "layout": "IPY_MODEL_b76070a2419743ecb779454e58cd5012",
       "max_frame": 0,
       "n_components": 1,
       "picked": {}
      }
     },
     "1c7d1f4236cc4cd6a0606753d3352f60": {
      "model_module": "@jupyter-widgets/base",
      "model_module_version": "1.2.0",
      "model_name": "LayoutModel",
      "state": {}
     },
     "1e8de37008084e649d78efed985c89d7": {
      "model_module": "@jupyter-widgets/base",
      "model_module_version": "1.2.0",
      "model_name": "LayoutModel",
      "state": {}
     },
     "1e9be6ffaab04ffd89eccb280b066e9b": {
      "model_module": "@jupyter-widgets/base",
      "model_module_version": "1.2.0",
      "model_name": "LayoutModel",
      "state": {}
     },
     "1eb02e7d009a4025b05bcd68a090e8ff": {
      "model_module": "@jupyter-widgets/base",
      "model_module_version": "1.2.0",
      "model_name": "LayoutModel",
      "state": {
       "border": "0px solid black"
      }
     },
     "1fe70b83424c4eadbae9ca62e9e91ef6": {
      "model_module": "nglview-js-widgets",
      "model_module_version": "3.0.1",
      "model_name": "NGLModel",
      "state": {
       "_camera_orientation": [
        8.079286121510751,
        0,
        0,
        0,
        0,
        8.079286121510751,
        0,
        0,
        0,
        0,
        8.079286121510751,
        0,
        -2.5,
        -2.5,
        -3,
        1
       ],
       "_camera_str": "orthographic",
       "_gui_theme": null,
       "_ibtn_fullscreen": "IPY_MODEL_77b5a9a5626c489cb0f82dd4b8484995",
       "_igui": null,
       "_iplayer": "IPY_MODEL_54db1f8ed6704998952184c8dfed387c",
       "_ngl_color_dict": {},
       "_ngl_coordinate_resource": {},
       "_ngl_full_stage_parameters": {
        "ambientColor": 14540253,
        "ambientIntensity": 0.2,
        "backgroundColor": "white",
        "cameraEyeSep": 0.3,
        "cameraFov": 40,
        "cameraType": "orthographic",
        "clipDist": 0,
        "clipFar": 100,
        "clipNear": 0,
        "fogFar": 100,
        "fogNear": 50,
        "hoverTimeout": 0,
        "impostor": true,
        "lightColor": 14540253,
        "lightIntensity": 1,
        "mousePreset": "default",
        "panSpeed": 1,
        "quality": "medium",
        "rotateSpeed": 2,
        "sampleLevel": 0,
        "tooltip": true,
        "workerDefault": true,
        "zoomSpeed": 1.2
       },
       "_ngl_msg_archive": [
        {
         "args": [
          {
           "binary": false,
           "data": "CRYST1    5.000    5.000    5.000  90.00  90.00  90.00 P 1\nMODEL     1\nATOM      1    C MOL     1       1.500   0.500   3.000  1.00  0.00           C  \nATOM      2    C MOL     1       3.500   4.500   3.000  1.00  0.00           C  \nATOM      3    C MOL     1       4.500   1.500   3.000  1.00  0.00           C  \nATOM      4    C MOL     1       0.500   3.500   3.000  1.00  0.00           C  \nATOM      5    C MOL     1       1.500   4.500   3.000  1.00  0.00           C  \nATOM      6    C MOL     1       3.500   0.500   3.000  1.00  0.00           C  \nATOM      7    C MOL     1       4.500   3.500   3.000  1.00  0.00           C  \nATOM      8    C MOL     1       0.500   1.500   3.000  1.00  0.00           C  \nENDMDL\n",
           "type": "blob"
          }
         ],
         "kwargs": {
          "defaultRepresentation": false,
          "ext": "pdb"
         },
         "methodName": "loadFile",
         "reconstruc_color_scheme": false,
         "target": "Stage",
         "type": "call_method"
        },
        {
         "args": [
          "500px",
          "500px"
         ],
         "kwargs": {},
         "methodName": "setSize",
         "reconstruc_color_scheme": false,
         "target": "Widget",
         "type": "call_method"
        },
        {
         "args": [
          "unitcell"
         ],
         "component_index": 0,
         "kwargs": {
          "sele": "all"
         },
         "methodName": "addRepresentation",
         "reconstruc_color_scheme": false,
         "target": "compList",
         "type": "call_method"
        },
        {
         "args": [
          "spacefill"
         ],
         "component_index": 0,
         "kwargs": {
          "sele": "all"
         },
         "methodName": "addRepresentation",
         "reconstruc_color_scheme": false,
         "target": "compList",
         "type": "call_method"
        },
        {
         "args": [],
         "kwargs": {
          "cameraType": "orthographic"
         },
         "methodName": "setParameters",
         "reconstruc_color_scheme": false,
         "target": "Stage",
         "type": "call_method"
        },
        {
         "args": [
          {
           "clipDist": 0
          }
         ],
         "kwargs": {},
         "methodName": "setParameters",
         "reconstruc_color_scheme": false,
         "target": "Widget",
         "type": "call_method"
        },
        {
         "args": [
          "spacefill",
          0
         ],
         "kwargs": {
          "colorScale": "rainbow",
          "colorScheme": "element",
          "radiusScale": 0.5,
          "radiusType": "covalent"
         },
         "methodName": "updateRepresentationsByName",
         "reconstruc_color_scheme": false,
         "target": "Widget",
         "type": "call_method"
        },
        {
         "args": [
          "this._Q = [[1.0, 0.0, 0.0], [0.0, 1.0, 0.0], [0.0, 0.0, 1.0]]\n    var tooltip = document.createElement('div')\n    Object.assign(tooltip.style, {\n      display: 'none',\n      position: 'fixed',\n      zIndex: 10,\n      pointerEvents: 'none',\n      backgroundColor: 'rgba( 0, 0, 0, 0.6 )',\n      color: 'lightgrey',\n      padding: '8px',\n      fontFamily: 'sans-serif'\n    })\n    document.body.appendChild(tooltip)\n\n    var that = this\n    this.stage.mouseControls.remove('hoverPick')\n    this.stage.signals.hovered.add(function (pickingProxy) {\n      if (pickingProxy && (pickingProxy.atom || pickingProxy.bond)) {\n        var atom = pickingProxy.atom || pickingProxy.closestBondAtom\n        var mp = pickingProxy.mouse.position\n        //tooltip.innerText = atom.element + ' i=' + atom.index + ' (' + atom.x.toFixed(2) +  ', ' + atom.y.toFixed(2) +  ', ' + atom.z.toFixed(2) + ')'\n        //var pos = that._atoms_pos[atom.index]\n        var Q = that._Q\n        var pos_x = Q[0][0] * atom.x + Q[0][1] * atom.y + Q[0][2] * atom.z \n        var pos_y = Q[1][0] * atom.x + Q[1][1] * atom.y + Q[1][2] * atom.z\n        var pos_z = Q[2][0] * atom.x + Q[2][1] * atom.y + Q[2][2] * atom.z\n        tooltip.innerText = 'i=' + atom.index + ' ' + atom.element + ' (' + pos_x.toFixed(2) +  ', ' + pos_y.toFixed(2) +  ', ' + pos_z.toFixed(2) + ')'\n        tooltip.style.bottom = window.innerHeight - mp.y + 3 + 'px'\n        tooltip.style.left = mp.x + 3 + 'px'\n        tooltip.style.display = 'block'\n      } else {\n        tooltip.style.display = 'none'\n      }\n    })\n    "
         ],
         "kwargs": {},
         "methodName": "executeCode",
         "reconstruc_color_scheme": false,
         "target": "Widget",
         "type": "call_method"
        }
       ],
       "_ngl_original_stage_parameters": {
        "ambientColor": 14540253,
        "ambientIntensity": 0.2,
        "backgroundColor": "white",
        "cameraEyeSep": 0.3,
        "cameraFov": 40,
        "cameraType": "perspective",
        "clipDist": 10,
        "clipFar": 100,
        "clipNear": 0,
        "fogFar": 100,
        "fogNear": 50,
        "hoverTimeout": 0,
        "impostor": true,
        "lightColor": 14540253,
        "lightIntensity": 1,
        "mousePreset": "default",
        "panSpeed": 1,
        "quality": "medium",
        "rotateSpeed": 2,
        "sampleLevel": 0,
        "tooltip": true,
        "workerDefault": true,
        "zoomSpeed": 1.2
       },
       "_ngl_repr_dict": {
        "0": {
         "0": {
          "params": {
           "clipCenter": {
            "x": 0,
            "y": 0,
            "z": 0
           },
           "clipNear": 0,
           "clipRadius": 0,
           "colorMode": "hcl",
           "colorReverse": false,
           "colorScale": "",
           "colorScheme": "element",
           "colorValue": "orange",
           "defaultAssembly": "",
           "depthWrite": true,
           "diffuse": 16777215,
           "diffuseInterior": false,
           "disableImpostor": false,
           "disablePicking": false,
           "flatShaded": false,
           "interiorColor": 2236962,
           "interiorDarkening": 0,
           "lazy": false,
           "matrix": {
            "elements": [
             1,
             0,
             0,
             0,
             0,
             1,
             0,
             0,
             0,
             0,
             1,
             0,
             0,
             0,
             0,
             1
            ]
           },
           "metalness": 0,
           "opacity": 1,
           "quality": "medium",
           "radialSegments": 10,
           "radiusData": {},
           "radiusScale": 1,
           "radiusSize": 0.024999998902597128,
           "radiusType": "vdw",
           "roughness": 0.4,
           "sele": "all",
           "side": "double",
           "sphereDetail": 1,
           "useInteriorColor": true,
           "visible": true,
           "wireframe": false
          },
          "type": "unitcell"
         },
         "1": {
          "params": {
           "assembly": "default",
           "clipCenter": {
            "x": 0,
            "y": 0,
            "z": 0
           },
           "clipNear": 0,
           "clipRadius": 0,
           "colorMode": "hcl",
           "colorReverse": false,
           "colorScale": "rainbow",
           "colorScheme": "element",
           "colorValue": 9474192,
           "defaultAssembly": "",
           "depthWrite": true,
           "diffuse": 16777215,
           "diffuseInterior": false,
           "disableImpostor": false,
           "disablePicking": false,
           "flatShaded": false,
           "interiorColor": 2236962,
           "interiorDarkening": 0,
           "lazy": false,
           "matrix": {
            "elements": [
             1,
             0,
             0,
             0,
             0,
             1,
             0,
             0,
             0,
             0,
             1,
             0,
             0,
             0,
             0,
             1
            ]
           },
           "metalness": 0,
           "opacity": 1,
           "quality": "medium",
           "radiusData": {},
           "radiusScale": 0.5,
           "radiusSize": 1,
           "radiusType": "covalent",
           "roughness": 0.4,
           "sele": "all",
           "side": "double",
           "sphereDetail": 1,
           "useInteriorColor": true,
           "visible": true,
           "wireframe": false
          },
          "type": "spacefill"
         }
        }
       },
       "_ngl_serialize": false,
       "_ngl_version": "2.0.0-dev.36",
       "_ngl_view_id": [
        "A609ABFD-87F3-4C68-88B4-A1D7CD0F0B98"
       ],
       "_player_dict": {},
       "_scene_position": {},
       "_scene_rotation": {},
       "_synced_model_ids": [],
       "_synced_repr_model_ids": [],
       "_view_height": "",
       "_view_width": "",
       "background": "white",
       "frame": 0,
       "gui_style": null,
       "layout": "IPY_MODEL_8d343328355a4df49867b763995982e9",
       "max_frame": 0,
       "n_components": 1,
       "picked": {}
      }
     },
     "210aa366ce5149cba0de6375cd7afb4b": {
      "model_module": "@jupyter-widgets/controls",
      "model_module_version": "1.5.0",
      "model_name": "LinkModel",
      "state": {
       "source": [
        "IPY_MODEL_6f69f1bfff6e4126b7a61363bbb3d5e9",
        "value"
       ],
       "target": [
        "IPY_MODEL_eee198863bac494c9578eb4c8e6d8f51",
        "value"
       ]
      }
     },
     "21a5872836824a58a67fd23663912d49": {
      "model_module": "@jupyter-widgets/controls",
      "model_module_version": "1.5.0",
      "model_name": "DescriptionStyleModel",
      "state": {
       "description_width": ""
      }
     },
     "224319a5f2584864990b32df615e03af": {
      "model_module": "@jupyter-widgets/controls",
      "model_module_version": "1.5.0",
      "model_name": "SliderStyleModel",
      "state": {
       "description_width": ""
      }
     },
     "22cca7d2ac8146d09d6743257bede10c": {
      "model_module": "@jupyter-widgets/controls",
      "model_module_version": "1.5.0",
      "model_name": "DescriptionStyleModel",
      "state": {
       "description_width": ""
      }
     },
     "248fe7dd0717472a896e766d11fc9a83": {
      "model_module": "@jupyter-widgets/controls",
      "model_module_version": "1.5.0",
      "model_name": "HBoxModel",
      "state": {
       "children": [
        "IPY_MODEL_1fe70b83424c4eadbae9ca62e9e91ef6",
        "IPY_MODEL_2ad1821c9de9405288bfd0d9df140228"
       ],
       "layout": "IPY_MODEL_c4d5f5b829034ac6894e91f9248c58e9"
      }
     },
     "278b8e5265454dffbc6e9d1c7ca2caa5": {
      "model_module": "@jupyter-widgets/controls",
      "model_module_version": "1.5.0",
      "model_name": "DescriptionStyleModel",
      "state": {
       "description_width": ""
      }
     },
     "28c15e2c4d304dc2a7c49e2269880446": {
      "model_module": "@jupyter-widgets/base",
      "model_module_version": "1.2.0",
      "model_name": "LayoutModel",
      "state": {}
     },
     "29a0b2f1f64941c8930e05b4ca25d170": {
      "model_module": "@jupyter-widgets/base",
      "model_module_version": "1.2.0",
      "model_name": "LayoutModel",
      "state": {}
     },
     "29baaebf5658458aaa0a1c1f45226c27": {
      "model_module": "@jupyter-widgets/base",
      "model_module_version": "1.2.0",
      "model_name": "LayoutModel",
      "state": {}
     },
     "2a556c641b0b40b6923919c1c1e4117e": {
      "model_module": "@jupyter-widgets/controls",
      "model_module_version": "1.5.0",
      "model_name": "SliderStyleModel",
      "state": {
       "description_width": ""
      }
     },
     "2ad1821c9de9405288bfd0d9df140228": {
      "model_module": "@jupyter-widgets/controls",
      "model_module_version": "1.5.0",
      "model_name": "VBoxModel",
      "state": {
       "children": [
        "IPY_MODEL_649f3dbec7984ef2a7bf2e8ca9197726",
        "IPY_MODEL_cf9d10c006a94f2daa86842650c008e7",
        "IPY_MODEL_9c84d1df3f6d432aa8f79f06717e8e27",
        "IPY_MODEL_d517bd1a94a24ff287534338362b9e25",
        "IPY_MODEL_0a2849ccd4a24a38be9f23ee29002c1a",
        "IPY_MODEL_dc79df9980594123a5ecca2f141210ed",
        "IPY_MODEL_5639d69ab6b044ed82ea7dd983f5bcc7",
        "IPY_MODEL_bde9c242ecc046629c7cf1804a10b065",
        "IPY_MODEL_08b812914b19432f8f9d41c6bc821b74",
        "IPY_MODEL_fe0720afcd254836880ae4aa7f76c122"
       ],
       "layout": "IPY_MODEL_d1db70e7b2064433a15c48ae01f5472f"
      }
     },
     "2ba85de3ffd64930bc29bf7c4c3a6357": {
      "model_module": "@jupyter-widgets/base",
      "model_module_version": "1.2.0",
      "model_name": "LayoutModel",
      "state": {}
     },
     "2d42891646224a9c817bad22bc81988c": {
      "model_module": "@jupyter-widgets/controls",
      "model_module_version": "1.5.0",
      "model_name": "CheckboxModel",
      "state": {
       "description": "Show charge",
       "disabled": false,
       "layout": "IPY_MODEL_abac9599f3754b8aad71136dd1ca726e",
       "style": "IPY_MODEL_21a5872836824a58a67fd23663912d49",
       "value": false
      }
     },
     "2d484eb25ed64f8395acc5ecad5a26d8": {
      "model_module": "@jupyter-widgets/base",
      "model_module_version": "1.2.0",
      "model_name": "LayoutModel",
      "state": {}
     },
     "2d4f278a6f484f83a109d1408929d870": {
      "model_module": "@jupyter-widgets/base",
      "model_module_version": "1.2.0",
      "model_name": "LayoutModel",
      "state": {}
     },
     "318a10ff368c4109af0677eefd961d97": {
      "model_module": "@jupyter-widgets/controls",
      "model_module_version": "1.5.0",
      "model_name": "TextModel",
      "state": {
       "description": "Filename: ",
       "layout": "IPY_MODEL_f9c3fa6d02dd4156b95d701318d9f207",
       "style": "IPY_MODEL_826a08e6530c45339af8e89cac12bc7b",
       "value": "screenshot.png"
      }
     },
     "31b7040dbb7746a6b06868bd20c77263": {
      "model_module": "@jupyter-widgets/controls",
      "model_module_version": "1.5.0",
      "model_name": "HBoxModel",
      "state": {
       "children": [
        "IPY_MODEL_459379efb0a5468ebb571463f86614f3",
        "IPY_MODEL_342984ba768f4066aee718b33f30d222"
       ],
       "layout": "IPY_MODEL_2ba85de3ffd64930bc29bf7c4c3a6357"
      }
     },
     "32b4d21361254f5280e80114531b18ab": {
      "model_module": "@jupyter-widgets/output",
      "model_module_version": "1.0.0",
      "model_name": "OutputModel",
      "state": {
       "layout": "IPY_MODEL_1eb02e7d009a4025b05bcd68a090e8ff"
      }
     },
     "340d85f7d3ef4fdda57222520d59357c": {
      "model_module": "@jupyter-widgets/base",
      "model_module_version": "1.2.0",
      "model_name": "LayoutModel",
      "state": {
       "width": "34px"
      }
     },
     "342984ba768f4066aee718b33f30d222": {
      "model_module": "@jupyter-widgets/controls",
      "model_module_version": "1.5.0",
      "model_name": "ButtonModel",
      "state": {
       "description": "Save image",
       "layout": "IPY_MODEL_adf94f3449f14ccbbe7a526e8bde0da0",
       "style": "IPY_MODEL_c78a91861bd8405eaedd9aba38223277",
       "tooltip": "Save current frame to file.\nCurrently .png and .html are supported.\nIt takes a bit time, please be patient."
      }
     },
     "359d5f370895453b929b4ba81f00f18b": {
      "model_module": "@jupyter-widgets/controls",
      "model_module_version": "1.5.0",
      "model_name": "SliderStyleModel",
      "state": {
       "description_width": ""
      }
     },
     "37700310aaaa4f8fb80eb94c62442cf9": {
      "model_module": "@jupyter-widgets/base",
      "model_module_version": "1.2.0",
      "model_name": "LayoutModel",
      "state": {
       "width": "34px"
      }
     },
     "3e3297c5deaa48a8a1c30ac8907a3b20": {
      "model_module": "@jupyter-widgets/base",
      "model_module_version": "1.2.0",
      "model_name": "LayoutModel",
      "state": {}
     },
     "3ec671a70b4142049ccc53e3e22e384e": {
      "model_module": "@jupyter-widgets/controls",
      "model_module_version": "1.5.0",
      "model_name": "SliderStyleModel",
      "state": {
       "description_width": ""
      }
     },
     "3fc357a8c5c64f31bbdfc1b01ddf3a87": {
      "model_module": "@jupyter-widgets/controls",
      "model_module_version": "1.5.0",
      "model_name": "DescriptionStyleModel",
      "state": {
       "description_width": ""
      }
     },
     "41e9a9eefa0047af9aa22bc776017c92": {
      "model_module": "@jupyter-widgets/controls",
      "model_module_version": "1.5.0",
      "model_name": "PlayModel",
      "state": {
       "layout": "IPY_MODEL_edab487d78bf46f5831d9bfcda7dc4a6",
       "max": 0,
       "style": "IPY_MODEL_7afdb5c74c974608bc5e7f5dd4701668"
      }
     },
     "420c2a4305484afabce594f03487a2e8": {
      "model_module": "@jupyter-widgets/base",
      "model_module_version": "1.2.0",
      "model_name": "LayoutModel",
      "state": {}
     },
     "4424593cc2d1406a83ce2df9cf5e6435": {
      "model_module": "@jupyter-widgets/base",
      "model_module_version": "1.2.0",
      "model_name": "LayoutModel",
      "state": {}
     },
     "447e635ac2e24fc6a773c6b3fd140ebc": {
      "model_module": "@jupyter-widgets/controls",
      "model_module_version": "1.5.0",
      "model_name": "ButtonModel",
      "state": {
       "description": "Save image",
       "layout": "IPY_MODEL_1c7d1f4236cc4cd6a0606753d3352f60",
       "style": "IPY_MODEL_73edef4b80a64eba856a113c28768289",
       "tooltip": "Save current frame to file.\nCurrently .png and .html are supported.\nIt takes a bit time, please be patient."
      }
     },
     "459379efb0a5468ebb571463f86614f3": {
      "model_module": "@jupyter-widgets/controls",
      "model_module_version": "1.5.0",
      "model_name": "ButtonModel",
      "state": {
       "description": "Download image",
       "layout": "IPY_MODEL_81a9565694094d5799a5819fb5ecedd9",
       "style": "IPY_MODEL_bfe7c9c1f2ca44009644a222d9d3a79d",
       "tooltip": "Download current frame to your local PC"
      }
     },
     "45b3221be75b460b95483e131b592fa1": {
      "model_module": "@jupyter-widgets/base",
      "model_module_version": "1.2.0",
      "model_name": "LayoutModel",
      "state": {}
     },
     "49bb2de01bbd44ccadc97e0bcb356f51": {
      "model_module": "@jupyter-widgets/controls",
      "model_module_version": "1.5.0",
      "model_name": "FloatSliderModel",
      "state": {
       "description": "Ball size",
       "layout": "IPY_MODEL_4b25cecdd32e44b7afcf0eaa5044695c",
       "max": 1.5,
       "step": 0.01,
       "style": "IPY_MODEL_7ad8c5ba54d244c4a58dee1309f929cb",
       "value": 0.5
      }
     },
     "4a83ff939b9044bdb37bde82a9690d2d": {
      "model_module": "@jupyter-widgets/controls",
      "model_module_version": "1.5.0",
      "model_name": "DescriptionStyleModel",
      "state": {
       "description_width": ""
      }
     },
     "4b25cecdd32e44b7afcf0eaa5044695c": {
      "model_module": "@jupyter-widgets/base",
      "model_module_version": "1.2.0",
      "model_name": "LayoutModel",
      "state": {}
     },
     "4b93f6951ade4ad5ba777e7d2d4e3451": {
      "model_module": "@jupyter-widgets/controls",
      "model_module_version": "1.5.0",
      "model_name": "SliderStyleModel",
      "state": {
       "description_width": ""
      }
     },
     "4d931816aaae4fdd9c239a58b34030f7": {
      "model_module": "@jupyter-widgets/controls",
      "model_module_version": "1.5.0",
      "model_name": "HBoxModel",
      "state": {
       "children": [
        "IPY_MODEL_18e3a40e88b144fabe1c23ab78c76fac",
        "IPY_MODEL_954b472764ec4d1489a349e14f2a8cca"
       ],
       "layout": "IPY_MODEL_b0e69cf5a2b44b83b1bf441a99a0413f"
      }
     },
     "4ea9fdf72ac54305823293f8be06dc88": {
      "model_module": "@jupyter-widgets/base",
      "model_module_version": "1.2.0",
      "model_name": "LayoutModel",
      "state": {}
     },
     "50825e875e23459584d326700d4f0916": {
      "model_module": "@jupyter-widgets/controls",
      "model_module_version": "1.5.0",
      "model_name": "FloatSliderModel",
      "state": {
       "description": "Charge scale",
       "layout": "IPY_MODEL_ad91209987254e239bac6279617e9f38",
       "step": 0.1,
       "style": "IPY_MODEL_224319a5f2584864990b32df615e03af",
       "value": 1
      }
     },
     "50ed06be1ac3441b859a62ada31489dc": {
      "model_module": "@jupyter-widgets/base",
      "model_module_version": "1.2.0",
      "model_name": "LayoutModel",
      "state": {}
     },
     "5148c37c97e448e0a2ed829a4575b648": {
      "model_module": "@jupyter-widgets/base",
      "model_module_version": "1.2.0",
      "model_name": "LayoutModel",
      "state": {}
     },
     "519ab5fe5ad84d5d8c0d0e2441435f7c": {
      "model_module": "@jupyter-widgets/controls",
      "model_module_version": "1.5.0",
      "model_name": "LinkModel",
      "state": {
       "source": [
        "IPY_MODEL_cb120c1d704e4b1c916c7cc41aba88ed",
        "value"
       ],
       "target": [
        "IPY_MODEL_18e3a40e88b144fabe1c23ab78c76fac",
        "frame"
       ]
      }
     },
     "51ba2b82248f46a8bb0adcc87c62d42c": {
      "model_module": "@jupyter-widgets/controls",
      "model_module_version": "1.5.0",
      "model_name": "DescriptionStyleModel",
      "state": {
       "description_width": ""
      }
     },
     "53ae6077ed8a475c9c3bb898eaabb96b": {
      "model_module": "@jupyter-widgets/controls",
      "model_module_version": "1.5.0",
      "model_name": "ButtonModel",
      "state": {
       "description": "Save image",
       "layout": "IPY_MODEL_28c15e2c4d304dc2a7c49e2269880446",
       "style": "IPY_MODEL_d2a3a5b1524e4998b2944a1d1766de20",
       "tooltip": "Save current frame to file.\nCurrently .png and .html are supported.\nIt takes a bit time, please be patient."
      }
     },
     "54db1f8ed6704998952184c8dfed387c": {
      "model_module": "@jupyter-widgets/controls",
      "model_module_version": "1.5.0",
      "model_name": "HBoxModel",
      "state": {
       "children": [
        "IPY_MODEL_6f69f1bfff6e4126b7a61363bbb3d5e9",
        "IPY_MODEL_eee198863bac494c9578eb4c8e6d8f51"
       ],
       "layout": "IPY_MODEL_dff5345d3a7d4f589fca8689e47aba11"
      }
     },
     "554a535b99214f48b65bb7ffd3ba2563": {
      "model_module": "@jupyter-widgets/controls",
      "model_module_version": "1.5.0",
      "model_name": "ImageModel",
      "state": {
       "layout": "IPY_MODEL_07469fd9a8a8407280e0a8f26860e42f",
       "width": "900.0"
      }
     },
     "55557ae7f7e54e549e5eb1c1bc2df234": {
      "model_module": "@jupyter-widgets/controls",
      "model_module_version": "1.5.0",
      "model_name": "DropdownModel",
      "state": {
       "_options_labels": [
        " ",
        "picking",
        "random",
        "uniform",
        "atomindex",
        "residueindex",
        "chainindex",
        "modelindex",
        "sstruc",
        "element",
        "resname",
        "bfactor",
        "hydrophobicity",
        "value",
        "volume",
        "occupancy"
       ],
       "description": "Color scheme",
       "index": 9,
       "layout": "IPY_MODEL_cf4a7ce6eca1475d86bffe7f09fd7d90",
       "style": "IPY_MODEL_22cca7d2ac8146d09d6743257bede10c"
      }
     },
     "5639d69ab6b044ed82ea7dd983f5bcc7": {
      "model_module": "@jupyter-widgets/controls",
      "model_module_version": "1.5.0",
      "model_name": "FloatSliderModel",
      "state": {
       "description": "Force scale",
       "layout": "IPY_MODEL_04976423d2ee46d59a869c165eefefde",
       "step": 0.1,
       "style": "IPY_MODEL_16f7af636fef4d4c954a53bd178ba03d",
       "value": 0.5
      }
     },
     "56bb0e6fbdb545ebab7cb5c8cd3ffff8": {
      "model_module": "@jupyter-widgets/base",
      "model_module_version": "1.2.0",
      "model_name": "LayoutModel",
      "state": {}
     },
     "58e8e44407844064b26d753f4ca12ad7": {
      "model_module": "@jupyter-widgets/controls",
      "model_module_version": "1.5.0",
      "model_name": "VBoxModel",
      "state": {
       "children": [
        "IPY_MODEL_9ab9eea1b9094f72933a30555dbc6e5d",
        "IPY_MODEL_d5958c69cab144f291a0494875c7a905",
        "IPY_MODEL_74c5268b43ba48409485d5934731fbc5",
        "IPY_MODEL_318a10ff368c4109af0677eefd961d97",
        "IPY_MODEL_ddc5864636aa40a99df7d58c609da674",
        "IPY_MODEL_e8c5ea7329bc47e1a6a507ee3d5e81a1",
        "IPY_MODEL_9a210c39ca9c4da5970a6ed6a610616a",
        "IPY_MODEL_04c6569fd375422a80ce69eaa650f23c",
        "IPY_MODEL_c691b58a85484521b619a03477b63318",
        "IPY_MODEL_a16546c38a2d4430a7d98933199816e6"
       ],
       "layout": "IPY_MODEL_71c0d61c39c949f98992e5be57aa20c2"
      }
     },
     "59203c8db9da453584635758e7048055": {
      "model_module": "@jupyter-widgets/controls",
      "model_module_version": "1.5.0",
      "model_name": "HBoxModel",
      "state": {
       "children": [
        "IPY_MODEL_41e9a9eefa0047af9aa22bc776017c92",
        "IPY_MODEL_0c584b69676f44c3a8663b06d142b782"
       ],
       "layout": "IPY_MODEL_f3473aeb0fbc469f8377e9ad09e48cac"
      }
     },
     "59826e3a11ae41d8843d4908009255c3": {
      "model_module": "@jupyter-widgets/base",
      "model_module_version": "1.2.0",
      "model_name": "LayoutModel",
      "state": {}
     },
     "5ae115386d5b49eaa1810ad4a8a3189a": {
      "model_module": "@jupyter-widgets/base",
      "model_module_version": "1.2.0",
      "model_name": "LayoutModel",
      "state": {}
     },
     "5b0bc0df7b644737ba3cb54d9547058d": {
      "model_module": "@jupyter-widgets/controls",
      "model_module_version": "1.5.0",
      "model_name": "ImageModel",
      "state": {
       "layout": "IPY_MODEL_8623e5744c234b69afc74c0c326fd8c5",
       "width": "900.0"
      }
     },
     "5cf689c9646a477a9b95007d6a1b403b": {
      "model_module": "@jupyter-widgets/controls",
      "model_module_version": "1.5.0",
      "model_name": "DescriptionStyleModel",
      "state": {
       "description_width": ""
      }
     },
     "5dc3dfa264824a759be07d5033047abb": {
      "model_module": "@jupyter-widgets/base",
      "model_module_version": "1.2.0",
      "model_name": "LayoutModel",
      "state": {}
     },
     "5dfebf9d9271461899d421b32b9def2c": {
      "model_module": "@jupyter-widgets/controls",
      "model_module_version": "1.5.0",
      "model_name": "ButtonModel",
      "state": {
       "icon": "compress",
       "layout": "IPY_MODEL_b6475e3b237f4d1eba7450309ee67a3a",
       "style": "IPY_MODEL_64ed94802ab54aafbb51eb5edfdd887a"
      }
     },
     "5e4b227014d54d35adc401ab823f1f8e": {
      "model_module": "@jupyter-widgets/base",
      "model_module_version": "1.2.0",
      "model_name": "LayoutModel",
      "state": {
       "border": "0px solid black"
      }
     },
     "5f6cde7623ec4b0283162f5d9f4e8f02": {
      "model_module": "@jupyter-widgets/base",
      "model_module_version": "1.2.0",
      "model_name": "LayoutModel",
      "state": {}
     },
     "60aa2dd6c07d4cf2bc265f24f341e8cf": {
      "model_module": "@jupyter-widgets/controls",
      "model_module_version": "1.5.0",
      "model_name": "TextModel",
      "state": {
       "description": "Filename: ",
       "layout": "IPY_MODEL_98debf89c0f0452e8b9694f19876abbb",
       "style": "IPY_MODEL_cd7bedb153664adbbcaec544736ff832",
       "value": "screenshot.png"
      }
     },
     "621da63b4f1446e1bd12b576c78804dc": {
      "model_module": "@jupyter-widgets/controls",
      "model_module_version": "1.5.0",
      "model_name": "DescriptionStyleModel",
      "state": {
       "description_width": ""
      }
     },
     "63d1fbf5f3f94798ad9781201974e429": {
      "model_module": "@jupyter-widgets/base",
      "model_module_version": "1.2.0",
      "model_name": "LayoutModel",
      "state": {}
     },
     "649f3dbec7984ef2a7bf2e8ca9197726": {
      "model_module": "@jupyter-widgets/controls",
      "model_module_version": "1.5.0",
      "model_name": "DropdownModel",
      "state": {
       "_options_labels": [
        "All",
        "C"
       ],
       "description": "Show",
       "index": 0,
       "layout": "IPY_MODEL_56bb0e6fbdb545ebab7cb5c8cd3ffff8",
       "style": "IPY_MODEL_278b8e5265454dffbc6e9d1c7ca2caa5"
      }
     },
     "64a012a5630e4df990c7245a89b30af9": {
      "model_module": "@jupyter-widgets/controls",
      "model_module_version": "1.5.0",
      "model_name": "ButtonStyleModel",
      "state": {}
     },
     "64a5714956fd42d1bcbe3d4d9c7c2c81": {
      "model_module": "@jupyter-widgets/base",
      "model_module_version": "1.2.0",
      "model_name": "LayoutModel",
      "state": {}
     },
     "64ed94802ab54aafbb51eb5edfdd887a": {
      "model_module": "@jupyter-widgets/controls",
      "model_module_version": "1.5.0",
      "model_name": "ButtonStyleModel",
      "state": {}
     },
     "6546f5f67a8246078c06067e4c7139a1": {
      "model_module": "nglview-js-widgets",
      "model_module_version": "3.0.1",
      "model_name": "ColormakerRegistryModel",
      "state": {
       "_msg_ar": [],
       "_msg_q": [],
       "_ready": true,
       "layout": "IPY_MODEL_3e3297c5deaa48a8a1c30ac8907a3b20"
      }
     },
     "658b03825240432b80474cbd4ee30a08": {
      "model_module": "@jupyter-widgets/output",
      "model_module_version": "1.0.0",
      "model_name": "OutputModel",
      "state": {
       "layout": "IPY_MODEL_5e4b227014d54d35adc401ab823f1f8e"
      }
     },
     "66c99665879a4fef939bb87f09579719": {
      "model_module": "@jupyter-widgets/controls",
      "model_module_version": "1.5.0",
      "model_name": "HBoxModel",
      "state": {
       "children": [
        "IPY_MODEL_71a2e97d346a494a95f71291bf40b47f",
        "IPY_MODEL_c5608636571c4f558d3a59ef1aae3e33"
       ],
       "layout": "IPY_MODEL_1e9be6ffaab04ffd89eccb280b066e9b"
      }
     },
     "6a3d281282f743559d4335c2bd7c1c67": {
      "model_module": "@jupyter-widgets/controls",
      "model_module_version": "1.5.0",
      "model_name": "LinkModel",
      "state": {
       "source": [
        "IPY_MODEL_41e9a9eefa0047af9aa22bc776017c92",
        "value"
       ],
       "target": [
        "IPY_MODEL_0c584b69676f44c3a8663b06d142b782",
        "value"
       ]
      }
     },
     "6b6593c50d0a4fedac4ec6204381ccad": {
      "model_module": "@jupyter-widgets/controls",
      "model_module_version": "1.5.0",
      "model_name": "LinkModel",
      "state": {
       "source": [
        "IPY_MODEL_9ff1ff29fff0418a936bbeb18f0666c6",
        "max"
       ],
       "target": [
        "IPY_MODEL_18e3a40e88b144fabe1c23ab78c76fac",
        "max_frame"
       ]
      }
     },
     "6e2c5004c71641a9b0a485b5433d57b2": {
      "model_module": "@jupyter-widgets/controls",
      "model_module_version": "1.5.0",
      "model_name": "LinkModel",
      "state": {
       "source": [
        "IPY_MODEL_cb120c1d704e4b1c916c7cc41aba88ed",
        "max"
       ],
       "target": [
        "IPY_MODEL_18e3a40e88b144fabe1c23ab78c76fac",
        "max_frame"
       ]
      }
     },
     "6f69f1bfff6e4126b7a61363bbb3d5e9": {
      "model_module": "@jupyter-widgets/controls",
      "model_module_version": "1.5.0",
      "model_name": "PlayModel",
      "state": {
       "layout": "IPY_MODEL_9348388505454b149604d1041472cedf",
       "max": 0,
       "style": "IPY_MODEL_621da63b4f1446e1bd12b576c78804dc"
      }
     },
     "704d8c5ce686420e8775175c93d357b6": {
      "model_module": "@jupyter-widgets/controls",
      "model_module_version": "1.5.0",
      "model_name": "ImageModel",
      "state": {
       "layout": "IPY_MODEL_4424593cc2d1406a83ce2df9cf5e6435",
       "width": "900.0"
      }
     },
     "71a2e97d346a494a95f71291bf40b47f": {
      "model_module": "nglview-js-widgets",
      "model_module_version": "3.0.1",
      "model_name": "NGLModel",
      "state": {
       "_camera_orientation": [
        -0.6415418095641974,
        -1.3474627920751614,
        -8.17411691045729,
        0,
        8.26614535362758,
        0.4403501856049541,
        -0.7213541723791045,
        0,
        0.5501674604628689,
        -8.187420526226845,
        1.3064761870915012,
        0,
        -1.0010000467300415,
        -1.0010000467300415,
        -2.0224999394267797,
        1
       ],
       "_camera_str": "orthographic",
       "_gui_theme": null,
       "_ibtn_fullscreen": "IPY_MODEL_9263576005184d0f9bcff8fd72240d2e",
       "_igui": null,
       "_iplayer": "IPY_MODEL_d488c88083d14b59a49d3a2c9efa36aa",
       "_ngl_color_dict": {},
       "_ngl_coordinate_resource": {},
       "_ngl_full_stage_parameters": {
        "ambientColor": 14540253,
        "ambientIntensity": 0.2,
        "backgroundColor": "white",
        "cameraEyeSep": 0.3,
        "cameraFov": 40,
        "cameraType": "orthographic",
        "clipDist": 0,
        "clipFar": 100,
        "clipNear": 0,
        "fogFar": 100,
        "fogNear": 50,
        "hoverTimeout": 0,
        "impostor": true,
        "lightColor": 14540253,
        "lightIntensity": 1,
        "mousePreset": "default",
        "panSpeed": 1,
        "quality": "medium",
        "rotateSpeed": 2,
        "sampleLevel": 0,
        "tooltip": true,
        "workerDefault": true,
        "zoomSpeed": 1.2
       },
       "_ngl_msg_archive": [
        {
         "args": [
          {
           "binary": false,
           "data": "CRYST1    4.004    4.004    4.201  90.00  90.00  90.00 P 1\nMODEL     1\nATOM      1   Ba MOL     1       2.002   2.002   0.017  1.00  0.00          BA  \nATOM      2   Ti MOL     1       0.000   0.000   2.202  1.00  0.00          TI  \nATOM      3    O MOL     1       0.000   2.002   2.014  1.00  0.00           O  \nATOM      4    O MOL     1       2.002   0.000   2.014  1.00  0.00           O  \nATOM      5    O MOL     1       0.000   0.000   4.028  1.00  0.00           O  \nENDMDL\n",
           "type": "blob"
          }
         ],
         "kwargs": {
          "defaultRepresentation": false,
          "ext": "pdb"
         },
         "methodName": "loadFile",
         "reconstruc_color_scheme": false,
         "target": "Stage",
         "type": "call_method"
        },
        {
         "args": [
          "500px",
          "500px"
         ],
         "kwargs": {},
         "methodName": "setSize",
         "reconstruc_color_scheme": false,
         "target": "Widget",
         "type": "call_method"
        },
        {
         "args": [
          "unitcell"
         ],
         "component_index": 0,
         "kwargs": {
          "sele": "all"
         },
         "methodName": "addRepresentation",
         "reconstruc_color_scheme": false,
         "target": "compList",
         "type": "call_method"
        },
        {
         "args": [
          "spacefill"
         ],
         "component_index": 0,
         "kwargs": {
          "sele": "all"
         },
         "methodName": "addRepresentation",
         "reconstruc_color_scheme": false,
         "target": "compList",
         "type": "call_method"
        },
        {
         "args": [],
         "kwargs": {
          "cameraType": "orthographic"
         },
         "methodName": "setParameters",
         "reconstruc_color_scheme": false,
         "target": "Stage",
         "type": "call_method"
        },
        {
         "args": [
          {
           "clipDist": 0
          }
         ],
         "kwargs": {},
         "methodName": "setParameters",
         "reconstruc_color_scheme": false,
         "target": "Widget",
         "type": "call_method"
        },
        {
         "args": [
          "spacefill",
          0
         ],
         "kwargs": {
          "colorScale": "rainbow",
          "colorScheme": "element",
          "radiusScale": 0.5,
          "radiusType": "covalent"
         },
         "methodName": "updateRepresentationsByName",
         "reconstruc_color_scheme": false,
         "target": "Widget",
         "type": "call_method"
        },
        {
         "args": [
          "this._Q = [[1.0, 0.0, 0.0], [0.0, 1.0, 0.0], [0.0, 0.0, 1.0]]\n    var tooltip = document.createElement('div')\n    Object.assign(tooltip.style, {\n      display: 'none',\n      position: 'fixed',\n      zIndex: 10,\n      pointerEvents: 'none',\n      backgroundColor: 'rgba( 0, 0, 0, 0.6 )',\n      color: 'lightgrey',\n      padding: '8px',\n      fontFamily: 'sans-serif'\n    })\n    document.body.appendChild(tooltip)\n\n    var that = this\n    this.stage.mouseControls.remove('hoverPick')\n    this.stage.signals.hovered.add(function (pickingProxy) {\n      if (pickingProxy && (pickingProxy.atom || pickingProxy.bond)) {\n        var atom = pickingProxy.atom || pickingProxy.closestBondAtom\n        var mp = pickingProxy.mouse.position\n        //tooltip.innerText = atom.element + ' i=' + atom.index + ' (' + atom.x.toFixed(2) +  ', ' + atom.y.toFixed(2) +  ', ' + atom.z.toFixed(2) + ')'\n        //var pos = that._atoms_pos[atom.index]\n        var Q = that._Q\n        var pos_x = Q[0][0] * atom.x + Q[0][1] * atom.y + Q[0][2] * atom.z \n        var pos_y = Q[1][0] * atom.x + Q[1][1] * atom.y + Q[1][2] * atom.z\n        var pos_z = Q[2][0] * atom.x + Q[2][1] * atom.y + Q[2][2] * atom.z\n        tooltip.innerText = 'i=' + atom.index + ' ' + atom.element + ' (' + pos_x.toFixed(2) +  ', ' + pos_y.toFixed(2) +  ', ' + pos_z.toFixed(2) + ')'\n        tooltip.style.bottom = window.innerHeight - mp.y + 3 + 'px'\n        tooltip.style.left = mp.x + 3 + 'px'\n        tooltip.style.display = 'block'\n      } else {\n        tooltip.style.display = 'none'\n      }\n    })\n    "
         ],
         "kwargs": {},
         "methodName": "executeCode",
         "reconstruc_color_scheme": false,
         "target": "Widget",
         "type": "call_method"
        }
       ],
       "_ngl_original_stage_parameters": {
        "ambientColor": 14540253,
        "ambientIntensity": 0.2,
        "backgroundColor": "white",
        "cameraEyeSep": 0.3,
        "cameraFov": 40,
        "cameraType": "perspective",
        "clipDist": 10,
        "clipFar": 100,
        "clipNear": 0,
        "fogFar": 100,
        "fogNear": 50,
        "hoverTimeout": 0,
        "impostor": true,
        "lightColor": 14540253,
        "lightIntensity": 1,
        "mousePreset": "default",
        "panSpeed": 1,
        "quality": "medium",
        "rotateSpeed": 2,
        "sampleLevel": 0,
        "tooltip": true,
        "workerDefault": true,
        "zoomSpeed": 1.2
       },
       "_ngl_repr_dict": {
        "0": {
         "0": {
          "params": {
           "clipCenter": {
            "x": 0,
            "y": 0,
            "z": 0
           },
           "clipNear": 0,
           "clipRadius": 0,
           "colorMode": "hcl",
           "colorReverse": false,
           "colorScale": "",
           "colorScheme": "element",
           "colorValue": "orange",
           "defaultAssembly": "",
           "depthWrite": true,
           "diffuse": 16777215,
           "diffuseInterior": false,
           "disableImpostor": false,
           "disablePicking": false,
           "flatShaded": false,
           "interiorColor": 2236962,
           "interiorDarkening": 0,
           "lazy": false,
           "matrix": {
            "elements": [
             1,
             0,
             0,
             0,
             0,
             1,
             0,
             0,
             0,
             0,
             1,
             0,
             0,
             0,
             0,
             1
            ]
           },
           "metalness": 0,
           "opacity": 1,
           "quality": "medium",
           "radialSegments": 10,
           "radiusData": {},
           "radiusScale": 1,
           "radiusSize": 0.020343090211896044,
           "radiusType": "vdw",
           "roughness": 0.4,
           "sele": "all",
           "side": "double",
           "sphereDetail": 1,
           "useInteriorColor": true,
           "visible": true,
           "wireframe": false
          },
          "type": "unitcell"
         },
         "1": {
          "params": {
           "assembly": "default",
           "clipCenter": {
            "x": 0,
            "y": 0,
            "z": 0
           },
           "clipNear": 0,
           "clipRadius": 0,
           "colorMode": "hcl",
           "colorReverse": false,
           "colorScale": "rainbow",
           "colorScheme": "element",
           "colorValue": 9474192,
           "defaultAssembly": "",
           "depthWrite": true,
           "diffuse": 16777215,
           "diffuseInterior": false,
           "disableImpostor": false,
           "disablePicking": false,
           "flatShaded": false,
           "interiorColor": 2236962,
           "interiorDarkening": 0,
           "lazy": false,
           "matrix": {
            "elements": [
             1,
             0,
             0,
             0,
             0,
             1,
             0,
             0,
             0,
             0,
             1,
             0,
             0,
             0,
             0,
             1
            ]
           },
           "metalness": 0,
           "opacity": 1,
           "quality": "medium",
           "radiusData": {},
           "radiusScale": 0.5,
           "radiusSize": 1,
           "radiusType": "covalent",
           "roughness": 0.4,
           "sele": "all",
           "side": "double",
           "sphereDetail": 1,
           "useInteriorColor": true,
           "visible": true,
           "wireframe": false
          },
          "type": "spacefill"
         }
        }
       },
       "_ngl_serialize": false,
       "_ngl_version": "2.0.0-dev.36",
       "_ngl_view_id": [
        "72C1198D-CBA4-481A-91E0-2B66AFA309AA"
       ],
       "_player_dict": {},
       "_scene_position": {},
       "_scene_rotation": {},
       "_synced_model_ids": [],
       "_synced_repr_model_ids": [],
       "_view_height": "",
       "_view_width": "",
       "background": "white",
       "frame": 0,
       "gui_style": null,
       "layout": "IPY_MODEL_dd22bfc5775e44d0a669da0608becef7",
       "max_frame": 0,
       "n_components": 1,
       "picked": {}
      }
     },
     "71c0d61c39c949f98992e5be57aa20c2": {
      "model_module": "@jupyter-widgets/base",
      "model_module_version": "1.2.0",
      "model_name": "LayoutModel",
      "state": {}
     },
     "73edef4b80a64eba856a113c28768289": {
      "model_module": "@jupyter-widgets/controls",
      "model_module_version": "1.5.0",
      "model_name": "ButtonStyleModel",
      "state": {}
     },
     "74c5268b43ba48409485d5934731fbc5": {
      "model_module": "@jupyter-widgets/controls",
      "model_module_version": "1.5.0",
      "model_name": "FloatSliderModel",
      "state": {
       "description": "Ball size",
       "layout": "IPY_MODEL_64a5714956fd42d1bcbe3d4d9c7c2c81",
       "max": 1.5,
       "step": 0.01,
       "style": "IPY_MODEL_07e0b83caed04dcaa1f30f1fa5488462",
       "value": 0.5
      }
     },
     "74ebffb7a7484cd3bca8254164f1401a": {
      "model_module": "@jupyter-widgets/controls",
      "model_module_version": "1.5.0",
      "model_name": "SliderStyleModel",
      "state": {
       "description_width": ""
      }
     },
     "7659b0e97e2b459bbbfac59af9d6f7f8": {
      "model_module": "@jupyter-widgets/base",
      "model_module_version": "1.2.0",
      "model_name": "LayoutModel",
      "state": {}
     },
     "76928b3efcfa43e9bd5b10bf6109f585": {
      "model_module": "@jupyter-widgets/base",
      "model_module_version": "1.2.0",
      "model_name": "LayoutModel",
      "state": {}
     },
     "76e0c5f884dd4b6bb977db0e16fb1806": {
      "model_module": "@jupyter-widgets/controls",
      "model_module_version": "1.5.0",
      "model_name": "FloatSliderModel",
      "state": {
       "description": "Ball size",
       "layout": "IPY_MODEL_45b3221be75b460b95483e131b592fa1",
       "max": 1.5,
       "step": 0.01,
       "style": "IPY_MODEL_e1ca7b78db79426cb1747e6704551342",
       "value": 0.5
      }
     },
     "77b5a9a5626c489cb0f82dd4b8484995": {
      "model_module": "@jupyter-widgets/controls",
      "model_module_version": "1.5.0",
      "model_name": "ButtonModel",
      "state": {
       "icon": "compress",
       "layout": "IPY_MODEL_37700310aaaa4f8fb80eb94c62442cf9",
       "style": "IPY_MODEL_a5e6b73c476e4ebab58b7d2a5a596dd1"
      }
     },
     "7803558c6b8c4197933099d69d653cd1": {
      "model_module": "nglview-js-widgets",
      "model_module_version": "3.0.1",
      "model_name": "NGLModel",
      "state": {
       "_camera_orientation": [
        29.765027160202912,
        0,
        0,
        0,
        0,
        29.765027160202912,
        0,
        0,
        0,
        0,
        29.765027160202912,
        0,
        -7.007999897003174,
        -7.007999897003174,
        -8.323499580845237,
        1
       ],
       "_camera_str": "orthographic",
       "_gui_theme": null,
       "_ibtn_fullscreen": "IPY_MODEL_5dfebf9d9271461899d421b32b9def2c",
       "_igui": null,
       "_iplayer": "IPY_MODEL_59203c8db9da453584635758e7048055",
       "_ngl_color_dict": {},
       "_ngl_coordinate_resource": {},
       "_ngl_full_stage_parameters": {
        "ambientColor": 14540253,
        "ambientIntensity": 0.2,
        "backgroundColor": "white",
        "cameraEyeSep": 0.3,
        "cameraFov": 40,
        "cameraType": "orthographic",
        "clipDist": 0,
        "clipFar": 100,
        "clipNear": 0,
        "fogFar": 100,
        "fogNear": 50,
        "hoverTimeout": 0,
        "impostor": true,
        "lightColor": 14540253,
        "lightIntensity": 1,
        "mousePreset": "default",
        "panSpeed": 1,
        "quality": "medium",
        "rotateSpeed": 2,
        "sampleLevel": 0,
        "tooltip": true,
        "workerDefault": true,
        "zoomSpeed": 1.2
       },
       "_ngl_msg_archive": [
        {
         "args": [
          {
           "binary": false,
           "data": "CRYST1   16.018   16.018   16.803  90.00  90.00  90.00 P 1\nMODEL     1\nATOM      1   Ba MOL     1       2.002   2.002   0.017  1.00  0.00          BA  \nATOM      2   Ti MOL     1       0.000   0.000   2.202  1.00  0.00          TI  \nATOM      3    O MOL     1       0.000   2.002   2.014  1.00  0.00           O  \nATOM      4    O MOL     1       2.002   0.000   2.014  1.00  0.00           O  \nATOM      5    O MOL     1       0.000   0.000   4.028  1.00  0.00           O  \nATOM      6   Ba MOL     1       2.002   2.002   4.218  1.00  0.00          BA  \nATOM      7   Ti MOL     1       0.000   0.000   6.403  1.00  0.00          TI  \nATOM      8    O MOL     1       0.000   2.002   6.214  1.00  0.00           O  \nATOM      9    O MOL     1       2.002   0.000   6.214  1.00  0.00           O  \nATOM     10    O MOL     1       0.000   0.000   8.228  1.00  0.00           O  \nATOM     11   Ba MOL     1       2.002   2.002   8.419  1.00  0.00          BA  \nATOM     12   Ti MOL     1       0.000   0.000  10.604  1.00  0.00          TI  \nATOM     13    O MOL     1       0.000   2.002  10.415  1.00  0.00           O  \nATOM     14    O MOL     1       2.002   0.000  10.415  1.00  0.00           O  \nATOM     15    O MOL     1       0.000   0.000  12.429  1.00  0.00           O  \nATOM     16   Ba MOL     1       2.002   2.002  12.619  1.00  0.00          BA  \nATOM     17   Ti MOL     1       0.000   0.000  14.804  1.00  0.00          TI  \nATOM     18    O MOL     1       0.000   2.002  14.615  1.00  0.00           O  \nATOM     19    O MOL     1       2.002   0.000  14.615  1.00  0.00           O  \nATOM     20    O MOL     1       0.000   0.000  16.630  1.00  0.00           O  \nATOM     21   Ba MOL     1       2.002   6.007   0.017  1.00  0.00          BA  \nATOM     22   Ti MOL     1       0.000   4.004   2.202  1.00  0.00          TI  \nATOM     23    O MOL     1       0.000   6.007   2.014  1.00  0.00           O  \nATOM     24    O MOL     1       2.002   4.004   2.014  1.00  0.00           O  \nATOM     25    O MOL     1       0.000   4.004   4.028  1.00  0.00           O  \nATOM     26   Ba MOL     1       2.002   6.007   4.218  1.00  0.00          BA  \nATOM     27   Ti MOL     1       0.000   4.004   6.403  1.00  0.00          TI  \nATOM     28    O MOL     1       0.000   6.007   6.214  1.00  0.00           O  \nATOM     29    O MOL     1       2.002   4.004   6.214  1.00  0.00           O  \nATOM     30    O MOL     1       0.000   4.004   8.228  1.00  0.00           O  \nATOM     31   Ba MOL     1       2.002   6.007   8.419  1.00  0.00          BA  \nATOM     32   Ti MOL     1       0.000   4.004  10.604  1.00  0.00          TI  \nATOM     33    O MOL     1       0.000   6.007  10.415  1.00  0.00           O  \nATOM     34    O MOL     1       2.002   4.004  10.415  1.00  0.00           O  \nATOM     35    O MOL     1       0.000   4.004  12.429  1.00  0.00           O  \nATOM     36   Ba MOL     1       2.002   6.007  12.619  1.00  0.00          BA  \nATOM     37   Ti MOL     1       0.000   4.004  14.804  1.00  0.00          TI  \nATOM     38    O MOL     1       0.000   6.007  14.615  1.00  0.00           O  \nATOM     39    O MOL     1       2.002   4.004  14.615  1.00  0.00           O  \nATOM     40    O MOL     1       0.000   4.004  16.630  1.00  0.00           O  \nATOM     41   Ba MOL     1       2.002  10.011   0.017  1.00  0.00          BA  \nATOM     42   Ti MOL     1       0.000   8.009   2.202  1.00  0.00          TI  \nATOM     43    O MOL     1       0.000  10.011   2.014  1.00  0.00           O  \nATOM     44    O MOL     1       2.002   8.009   2.014  1.00  0.00           O  \nATOM     45    O MOL     1       0.000   8.009   4.028  1.00  0.00           O  \nATOM     46   Ba MOL     1       2.002  10.011   4.218  1.00  0.00          BA  \nATOM     47   Ti MOL     1       0.000   8.009   6.403  1.00  0.00          TI  \nATOM     48    O MOL     1       0.000  10.011   6.214  1.00  0.00           O  \nATOM     49    O MOL     1       2.002   8.009   6.214  1.00  0.00           O  \nATOM     50    O MOL     1       0.000   8.009   8.228  1.00  0.00           O  \nATOM     51   Ba MOL     1       2.002  10.011   8.419  1.00  0.00          BA  \nATOM     52   Ti MOL     1       0.000   8.009  10.604  1.00  0.00          TI  \nATOM     53    O MOL     1       0.000  10.011  10.415  1.00  0.00           O  \nATOM     54    O MOL     1       2.002   8.009  10.415  1.00  0.00           O  \nATOM     55    O MOL     1       0.000   8.009  12.429  1.00  0.00           O  \nATOM     56   Ba MOL     1       2.002  10.011  12.619  1.00  0.00          BA  \nATOM     57   Ti MOL     1       0.000   8.009  14.804  1.00  0.00          TI  \nATOM     58    O MOL     1       0.000  10.011  14.615  1.00  0.00           O  \nATOM     59    O MOL     1       2.002   8.009  14.615  1.00  0.00           O  \nATOM     60    O MOL     1       0.000   8.009  16.630  1.00  0.00           O  \nATOM     61   Ba MOL     1       2.002  14.016   0.017  1.00  0.00          BA  \nATOM     62   Ti MOL     1       0.000  12.013   2.202  1.00  0.00          TI  \nATOM     63    O MOL     1       0.000  14.016   2.014  1.00  0.00           O  \nATOM     64    O MOL     1       2.002  12.013   2.014  1.00  0.00           O  \nATOM     65    O MOL     1       0.000  12.013   4.028  1.00  0.00           O  \nATOM     66   Ba MOL     1       2.002  14.016   4.218  1.00  0.00          BA  \nATOM     67   Ti MOL     1       0.000  12.013   6.403  1.00  0.00          TI  \nATOM     68    O MOL     1       0.000  14.016   6.214  1.00  0.00           O  \nATOM     69    O MOL     1       2.002  12.013   6.214  1.00  0.00           O  \nATOM     70    O MOL     1       0.000  12.013   8.228  1.00  0.00           O  \nATOM     71   Ba MOL     1       2.002  14.016   8.419  1.00  0.00          BA  \nATOM     72   Ti MOL     1       0.000  12.013  10.604  1.00  0.00          TI  \nATOM     73    O MOL     1       0.000  14.016  10.415  1.00  0.00           O  \nATOM     74    O MOL     1       2.002  12.013  10.415  1.00  0.00           O  \nATOM     75    O MOL     1       0.000  12.013  12.429  1.00  0.00           O  \nATOM     76   Ba MOL     1       2.002  14.016  12.619  1.00  0.00          BA  \nATOM     77   Ti MOL     1       0.000  12.013  14.804  1.00  0.00          TI  \nATOM     78    O MOL     1       0.000  14.016  14.615  1.00  0.00           O  \nATOM     79    O MOL     1       2.002  12.013  14.615  1.00  0.00           O  \nATOM     80    O MOL     1       0.000  12.013  16.630  1.00  0.00           O  \nATOM     81   Ba MOL     1       6.007   2.002   0.017  1.00  0.00          BA  \nATOM     82   Ti MOL     1       4.004   0.000   2.202  1.00  0.00          TI  \nATOM     83    O MOL     1       4.004   2.002   2.014  1.00  0.00           O  \nATOM     84    O MOL     1       6.007   0.000   2.014  1.00  0.00           O  \nATOM     85    O MOL     1       4.004   0.000   4.028  1.00  0.00           O  \nATOM     86   Ba MOL     1       6.007   2.002   4.218  1.00  0.00          BA  \nATOM     87   Ti MOL     1       4.004   0.000   6.403  1.00  0.00          TI  \nATOM     88    O MOL     1       4.004   2.002   6.214  1.00  0.00           O  \nATOM     89    O MOL     1       6.007   0.000   6.214  1.00  0.00           O  \nATOM     90    O MOL     1       4.004   0.000   8.228  1.00  0.00           O  \nATOM     91   Ba MOL     1       6.007   2.002   8.419  1.00  0.00          BA  \nATOM     92   Ti MOL     1       4.004   0.000  10.604  1.00  0.00          TI  \nATOM     93    O MOL     1       4.004   2.002  10.415  1.00  0.00           O  \nATOM     94    O MOL     1       6.007   0.000  10.415  1.00  0.00           O  \nATOM     95    O MOL     1       4.004   0.000  12.429  1.00  0.00           O  \nATOM     96   Ba MOL     1       6.007   2.002  12.619  1.00  0.00          BA  \nATOM     97   Ti MOL     1       4.004   0.000  14.804  1.00  0.00          TI  \nATOM     98    O MOL     1       4.004   2.002  14.615  1.00  0.00           O  \nATOM     99    O MOL     1       6.007   0.000  14.615  1.00  0.00           O  \nATOM    100    O MOL     1       4.004   0.000  16.630  1.00  0.00           O  \nATOM    101   Ba MOL     1       6.007   6.007   0.017  1.00  0.00          BA  \nATOM    102   Ti MOL     1       4.004   4.004   2.202  1.00  0.00          TI  \nATOM    103    O MOL     1       4.004   6.007   2.014  1.00  0.00           O  \nATOM    104    O MOL     1       6.007   4.004   2.014  1.00  0.00           O  \nATOM    105    O MOL     1       4.004   4.004   4.028  1.00  0.00           O  \nATOM    106   Ba MOL     1       6.007   6.007   4.218  1.00  0.00          BA  \nATOM    107   Ti MOL     1       4.004   4.004   6.403  1.00  0.00          TI  \nATOM    108    O MOL     1       4.004   6.007   6.214  1.00  0.00           O  \nATOM    109    O MOL     1       6.007   4.004   6.214  1.00  0.00           O  \nATOM    110    O MOL     1       4.004   4.004   8.228  1.00  0.00           O  \nATOM    111   Ba MOL     1       6.007   6.007   8.419  1.00  0.00          BA  \nATOM    112   Ti MOL     1       4.004   4.004  10.604  1.00  0.00          TI  \nATOM    113    O MOL     1       4.004   6.007  10.415  1.00  0.00           O  \nATOM    114    O MOL     1       6.007   4.004  10.415  1.00  0.00           O  \nATOM    115    O MOL     1       4.004   4.004  12.429  1.00  0.00           O  \nATOM    116   Ba MOL     1       6.007   6.007  12.619  1.00  0.00          BA  \nATOM    117   Ti MOL     1       4.004   4.004  14.804  1.00  0.00          TI  \nATOM    118    O MOL     1       4.004   6.007  14.615  1.00  0.00           O  \nATOM    119    O MOL     1       6.007   4.004  14.615  1.00  0.00           O  \nATOM    120    O MOL     1       4.004   4.004  16.630  1.00  0.00           O  \nATOM    121   Ba MOL     1       6.007  10.011   0.017  1.00  0.00          BA  \nATOM    122   Ti MOL     1       4.004   8.009   2.202  1.00  0.00          TI  \nATOM    123    O MOL     1       4.004  10.011   2.014  1.00  0.00           O  \nATOM    124    O MOL     1       6.007   8.009   2.014  1.00  0.00           O  \nATOM    125    O MOL     1       4.004   8.009   4.028  1.00  0.00           O  \nATOM    126   Ba MOL     1       6.007  10.011   4.218  1.00  0.00          BA  \nATOM    127   Ti MOL     1       4.004   8.009   6.403  1.00  0.00          TI  \nATOM    128    O MOL     1       4.004  10.011   6.214  1.00  0.00           O  \nATOM    129    O MOL     1       6.007   8.009   6.214  1.00  0.00           O  \nATOM    130    O MOL     1       4.004   8.009   8.228  1.00  0.00           O  \nATOM    131   Ba MOL     1       6.007  10.011   8.419  1.00  0.00          BA  \nATOM    132   Ti MOL     1       4.004   8.009  10.604  1.00  0.00          TI  \nATOM    133    O MOL     1       4.004  10.011  10.415  1.00  0.00           O  \nATOM    134    O MOL     1       6.007   8.009  10.415  1.00  0.00           O  \nATOM    135    O MOL     1       4.004   8.009  12.429  1.00  0.00           O  \nATOM    136   Ba MOL     1       6.007  10.011  12.619  1.00  0.00          BA  \nATOM    137   Ti MOL     1       4.004   8.009  14.804  1.00  0.00          TI  \nATOM    138    O MOL     1       4.004  10.011  14.615  1.00  0.00           O  \nATOM    139    O MOL     1       6.007   8.009  14.615  1.00  0.00           O  \nATOM    140    O MOL     1       4.004   8.009  16.630  1.00  0.00           O  \nATOM    141   Ba MOL     1       6.007  14.016   0.017  1.00  0.00          BA  \nATOM    142   Ti MOL     1       4.004  12.013   2.202  1.00  0.00          TI  \nATOM    143    O MOL     1       4.004  14.016   2.014  1.00  0.00           O  \nATOM    144    O MOL     1       6.007  12.013   2.014  1.00  0.00           O  \nATOM    145    O MOL     1       4.004  12.013   4.028  1.00  0.00           O  \nATOM    146   Ba MOL     1       6.007  14.016   4.218  1.00  0.00          BA  \nATOM    147   Ti MOL     1       4.004  12.013   6.403  1.00  0.00          TI  \nATOM    148    O MOL     1       4.004  14.016   6.214  1.00  0.00           O  \nATOM    149    O MOL     1       6.007  12.013   6.214  1.00  0.00           O  \nATOM    150    O MOL     1       4.004  12.013   8.228  1.00  0.00           O  \nATOM    151   Ba MOL     1       6.007  14.016   8.419  1.00  0.00          BA  \nATOM    152   Ti MOL     1       4.004  12.013  10.604  1.00  0.00          TI  \nATOM    153    O MOL     1       4.004  14.016  10.415  1.00  0.00           O  \nATOM    154    O MOL     1       6.007  12.013  10.415  1.00  0.00           O  \nATOM    155    O MOL     1       4.004  12.013  12.429  1.00  0.00           O  \nATOM    156   Ba MOL     1       6.007  14.016  12.619  1.00  0.00          BA  \nATOM    157   Ti MOL     1       4.004  12.013  14.804  1.00  0.00          TI  \nATOM    158    O MOL     1       4.004  14.016  14.615  1.00  0.00           O  \nATOM    159    O MOL     1       6.007  12.013  14.615  1.00  0.00           O  \nATOM    160    O MOL     1       4.004  12.013  16.630  1.00  0.00           O  \nATOM    161   Ba MOL     1      10.011   2.002   0.017  1.00  0.00          BA  \nATOM    162   Ti MOL     1       8.009   0.000   2.202  1.00  0.00          TI  \nATOM    163    O MOL     1       8.009   2.002   2.014  1.00  0.00           O  \nATOM    164    O MOL     1      10.011   0.000   2.014  1.00  0.00           O  \nATOM    165    O MOL     1       8.009   0.000   4.028  1.00  0.00           O  \nATOM    166   Ba MOL     1      10.011   2.002   4.218  1.00  0.00          BA  \nATOM    167   Ti MOL     1       8.009   0.000   6.403  1.00  0.00          TI  \nATOM    168    O MOL     1       8.009   2.002   6.214  1.00  0.00           O  \nATOM    169    O MOL     1      10.011   0.000   6.214  1.00  0.00           O  \nATOM    170    O MOL     1       8.009   0.000   8.228  1.00  0.00           O  \nATOM    171   Ba MOL     1      10.011   2.002   8.419  1.00  0.00          BA  \nATOM    172   Ti MOL     1       8.009   0.000  10.604  1.00  0.00          TI  \nATOM    173    O MOL     1       8.009   2.002  10.415  1.00  0.00           O  \nATOM    174    O MOL     1      10.011   0.000  10.415  1.00  0.00           O  \nATOM    175    O MOL     1       8.009   0.000  12.429  1.00  0.00           O  \nATOM    176   Ba MOL     1      10.011   2.002  12.619  1.00  0.00          BA  \nATOM    177   Ti MOL     1       8.009   0.000  14.804  1.00  0.00          TI  \nATOM    178    O MOL     1       8.009   2.002  14.615  1.00  0.00           O  \nATOM    179    O MOL     1      10.011   0.000  14.615  1.00  0.00           O  \nATOM    180    O MOL     1       8.009   0.000  16.630  1.00  0.00           O  \nATOM    181   Ba MOL     1      10.011   6.007   0.017  1.00  0.00          BA  \nATOM    182   Ti MOL     1       8.009   4.004   2.202  1.00  0.00          TI  \nATOM    183    O MOL     1       8.009   6.007   2.014  1.00  0.00           O  \nATOM    184    O MOL     1      10.011   4.004   2.014  1.00  0.00           O  \nATOM    185    O MOL     1       8.009   4.004   4.028  1.00  0.00           O  \nATOM    186   Ba MOL     1      10.011   6.007   4.218  1.00  0.00          BA  \nATOM    187   Ti MOL     1       8.009   4.004   6.403  1.00  0.00          TI  \nATOM    188    O MOL     1       8.009   6.007   6.214  1.00  0.00           O  \nATOM    189    O MOL     1      10.011   4.004   6.214  1.00  0.00           O  \nATOM    190    O MOL     1       8.009   4.004   8.228  1.00  0.00           O  \nATOM    191   Ba MOL     1      10.011   6.007   8.419  1.00  0.00          BA  \nATOM    192   Ti MOL     1       8.009   4.004  10.604  1.00  0.00          TI  \nATOM    193    O MOL     1       8.009   6.007  10.415  1.00  0.00           O  \nATOM    194    O MOL     1      10.011   4.004  10.415  1.00  0.00           O  \nATOM    195    O MOL     1       8.009   4.004  12.429  1.00  0.00           O  \nATOM    196   Ba MOL     1      10.011   6.007  12.619  1.00  0.00          BA  \nATOM    197   Ti MOL     1       8.009   4.004  14.804  1.00  0.00          TI  \nATOM    198    O MOL     1       8.009   6.007  14.615  1.00  0.00           O  \nATOM    199    O MOL     1      10.011   4.004  14.615  1.00  0.00           O  \nATOM    200    O MOL     1       8.009   4.004  16.630  1.00  0.00           O  \nATOM    201   Ba MOL     1      10.011  10.011   0.017  1.00  0.00          BA  \nATOM    202   Ti MOL     1       8.009   8.009   2.202  1.00  0.00          TI  \nATOM    203    O MOL     1       8.009  10.011   2.014  1.00  0.00           O  \nATOM    204    O MOL     1      10.011   8.009   2.014  1.00  0.00           O  \nATOM    205    O MOL     1       8.009   8.009   4.028  1.00  0.00           O  \nATOM    206   Ba MOL     1      10.011  10.011   4.218  1.00  0.00          BA  \nATOM    207   Ti MOL     1       8.009   8.009   6.403  1.00  0.00          TI  \nATOM    208    O MOL     1       8.009  10.011   6.214  1.00  0.00           O  \nATOM    209    O MOL     1      10.011   8.009   6.214  1.00  0.00           O  \nATOM    210    O MOL     1       8.009   8.009   8.228  1.00  0.00           O  \nATOM    211   Ba MOL     1      10.011  10.011   8.419  1.00  0.00          BA  \nATOM    212   Ti MOL     1       8.009   8.009  10.604  1.00  0.00          TI  \nATOM    213    O MOL     1       8.009  10.011  10.415  1.00  0.00           O  \nATOM    214    O MOL     1      10.011   8.009  10.415  1.00  0.00           O  \nATOM    215    O MOL     1       8.009   8.009  12.429  1.00  0.00           O  \nATOM    216   Ba MOL     1      10.011  10.011  12.619  1.00  0.00          BA  \nATOM    217   Ti MOL     1       8.009   8.009  14.804  1.00  0.00          TI  \nATOM    218    O MOL     1       8.009  10.011  14.615  1.00  0.00           O  \nATOM    219    O MOL     1      10.011   8.009  14.615  1.00  0.00           O  \nATOM    220    O MOL     1       8.009   8.009  16.630  1.00  0.00           O  \nATOM    221   Ba MOL     1      10.011  14.016   0.017  1.00  0.00          BA  \nATOM    222   Ti MOL     1       8.009  12.013   2.202  1.00  0.00          TI  \nATOM    223    O MOL     1       8.009  14.016   2.014  1.00  0.00           O  \nATOM    224    O MOL     1      10.011  12.013   2.014  1.00  0.00           O  \nATOM    225    O MOL     1       8.009  12.013   4.028  1.00  0.00           O  \nATOM    226   Ba MOL     1      10.011  14.016   4.218  1.00  0.00          BA  \nATOM    227   Ti MOL     1       8.009  12.013   6.403  1.00  0.00          TI  \nATOM    228    O MOL     1       8.009  14.016   6.214  1.00  0.00           O  \nATOM    229    O MOL     1      10.011  12.013   6.214  1.00  0.00           O  \nATOM    230    O MOL     1       8.009  12.013   8.228  1.00  0.00           O  \nATOM    231   Ba MOL     1      10.011  14.016   8.419  1.00  0.00          BA  \nATOM    232   Ti MOL     1       8.009  12.013  10.604  1.00  0.00          TI  \nATOM    233    O MOL     1       8.009  14.016  10.415  1.00  0.00           O  \nATOM    234    O MOL     1      10.011  12.013  10.415  1.00  0.00           O  \nATOM    235    O MOL     1       8.009  12.013  12.429  1.00  0.00           O  \nATOM    236   Ba MOL     1      10.011  14.016  12.619  1.00  0.00          BA  \nATOM    237   Ti MOL     1       8.009  12.013  14.804  1.00  0.00          TI  \nATOM    238    O MOL     1       8.009  14.016  14.615  1.00  0.00           O  \nATOM    239    O MOL     1      10.011  12.013  14.615  1.00  0.00           O  \nATOM    240    O MOL     1       8.009  12.013  16.630  1.00  0.00           O  \nATOM    241   Ba MOL     1      14.016   2.002   0.017  1.00  0.00          BA  \nATOM    242   Ti MOL     1      12.013   0.000   2.202  1.00  0.00          TI  \nATOM    243    O MOL     1      12.013   2.002   2.014  1.00  0.00           O  \nATOM    244    O MOL     1      14.016   0.000   2.014  1.00  0.00           O  \nATOM    245    O MOL     1      12.013   0.000   4.028  1.00  0.00           O  \nATOM    246   Ba MOL     1      14.016   2.002   4.218  1.00  0.00          BA  \nATOM    247   Ti MOL     1      12.013   0.000   6.403  1.00  0.00          TI  \nATOM    248    O MOL     1      12.013   2.002   6.214  1.00  0.00           O  \nATOM    249    O MOL     1      14.016   0.000   6.214  1.00  0.00           O  \nATOM    250    O MOL     1      12.013   0.000   8.228  1.00  0.00           O  \nATOM    251   Ba MOL     1      14.016   2.002   8.419  1.00  0.00          BA  \nATOM    252   Ti MOL     1      12.013   0.000  10.604  1.00  0.00          TI  \nATOM    253    O MOL     1      12.013   2.002  10.415  1.00  0.00           O  \nATOM    254    O MOL     1      14.016   0.000  10.415  1.00  0.00           O  \nATOM    255    O MOL     1      12.013   0.000  12.429  1.00  0.00           O  \nATOM    256   Ba MOL     1      14.016   2.002  12.619  1.00  0.00          BA  \nATOM    257   Ti MOL     1      12.013   0.000  14.804  1.00  0.00          TI  \nATOM    258    O MOL     1      12.013   2.002  14.615  1.00  0.00           O  \nATOM    259    O MOL     1      14.016   0.000  14.615  1.00  0.00           O  \nATOM    260    O MOL     1      12.013   0.000  16.630  1.00  0.00           O  \nATOM    261   Ba MOL     1      14.016   6.007   0.017  1.00  0.00          BA  \nATOM    262   Ti MOL     1      12.013   4.004   2.202  1.00  0.00          TI  \nATOM    263    O MOL     1      12.013   6.007   2.014  1.00  0.00           O  \nATOM    264    O MOL     1      14.016   4.004   2.014  1.00  0.00           O  \nATOM    265    O MOL     1      12.013   4.004   4.028  1.00  0.00           O  \nATOM    266   Ba MOL     1      14.016   6.007   4.218  1.00  0.00          BA  \nATOM    267   Ti MOL     1      12.013   4.004   6.403  1.00  0.00          TI  \nATOM    268    O MOL     1      12.013   6.007   6.214  1.00  0.00           O  \nATOM    269    O MOL     1      14.016   4.004   6.214  1.00  0.00           O  \nATOM    270    O MOL     1      12.013   4.004   8.228  1.00  0.00           O  \nATOM    271   Ba MOL     1      14.016   6.007   8.419  1.00  0.00          BA  \nATOM    272   Ti MOL     1      12.013   4.004  10.604  1.00  0.00          TI  \nATOM    273    O MOL     1      12.013   6.007  10.415  1.00  0.00           O  \nATOM    274    O MOL     1      14.016   4.004  10.415  1.00  0.00           O  \nATOM    275    O MOL     1      12.013   4.004  12.429  1.00  0.00           O  \nATOM    276   Ba MOL     1      14.016   6.007  12.619  1.00  0.00          BA  \nATOM    277   Ti MOL     1      12.013   4.004  14.804  1.00  0.00          TI  \nATOM    278    O MOL     1      12.013   6.007  14.615  1.00  0.00           O  \nATOM    279    O MOL     1      14.016   4.004  14.615  1.00  0.00           O  \nATOM    280    O MOL     1      12.013   4.004  16.630  1.00  0.00           O  \nATOM    281   Ba MOL     1      14.016  10.011   0.017  1.00  0.00          BA  \nATOM    282   Ti MOL     1      12.013   8.009   2.202  1.00  0.00          TI  \nATOM    283    O MOL     1      12.013  10.011   2.014  1.00  0.00           O  \nATOM    284    O MOL     1      14.016   8.009   2.014  1.00  0.00           O  \nATOM    285    O MOL     1      12.013   8.009   4.028  1.00  0.00           O  \nATOM    286   Ba MOL     1      14.016  10.011   4.218  1.00  0.00          BA  \nATOM    287   Ti MOL     1      12.013   8.009   6.403  1.00  0.00          TI  \nATOM    288    O MOL     1      12.013  10.011   6.214  1.00  0.00           O  \nATOM    289    O MOL     1      14.016   8.009   6.214  1.00  0.00           O  \nATOM    290    O MOL     1      12.013   8.009   8.228  1.00  0.00           O  \nATOM    291   Ba MOL     1      14.016  10.011   8.419  1.00  0.00          BA  \nATOM    292   Ti MOL     1      12.013   8.009  10.604  1.00  0.00          TI  \nATOM    293    O MOL     1      12.013  10.011  10.415  1.00  0.00           O  \nATOM    294    O MOL     1      14.016   8.009  10.415  1.00  0.00           O  \nATOM    295    O MOL     1      12.013   8.009  12.429  1.00  0.00           O  \nATOM    296   Ba MOL     1      14.016  10.011  12.619  1.00  0.00          BA  \nATOM    297   Ti MOL     1      12.013   8.009  14.804  1.00  0.00          TI  \nATOM    298    O MOL     1      12.013  10.011  14.615  1.00  0.00           O  \nATOM    299    O MOL     1      14.016   8.009  14.615  1.00  0.00           O  \nATOM    300    O MOL     1      12.013   8.009  16.630  1.00  0.00           O  \nATOM    301   Ba MOL     1      14.016  14.016   0.017  1.00  0.00          BA  \nATOM    302   Ti MOL     1      12.013  12.013   2.202  1.00  0.00          TI  \nATOM    303    O MOL     1      12.013  14.016   2.014  1.00  0.00           O  \nATOM    304    O MOL     1      14.016  12.013   2.014  1.00  0.00           O  \nATOM    305    O MOL     1      12.013  12.013   4.028  1.00  0.00           O  \nATOM    306   Ba MOL     1      14.016  14.016   4.218  1.00  0.00          BA  \nATOM    307   Ti MOL     1      12.013  12.013   6.403  1.00  0.00          TI  \nATOM    308    O MOL     1      12.013  14.016   6.214  1.00  0.00           O  \nATOM    309    O MOL     1      14.016  12.013   6.214  1.00  0.00           O  \nATOM    310    O MOL     1      12.013  12.013   8.228  1.00  0.00           O  \nATOM    311   Ba MOL     1      14.016  14.016   8.419  1.00  0.00          BA  \nATOM    312   Ti MOL     1      12.013  12.013  10.604  1.00  0.00          TI  \nATOM    313    O MOL     1      12.013  14.016  10.415  1.00  0.00           O  \nATOM    314    O MOL     1      14.016  12.013  10.415  1.00  0.00           O  \nATOM    315    O MOL     1      12.013  12.013  12.429  1.00  0.00           O  \nATOM    316   Ba MOL     1      14.016  14.016  12.619  1.00  0.00          BA  \nATOM    317   Ti MOL     1      12.013  12.013  14.804  1.00  0.00          TI  \nATOM    318    O MOL     1      12.013  14.016  14.615  1.00  0.00           O  \nATOM    319    O MOL     1      14.016  12.013  14.615  1.00  0.00           O  \nATOM    320    O MOL     1      12.013  12.013  16.630  1.00  0.00           O  \nENDMDL\n",
           "type": "blob"
          }
         ],
         "kwargs": {
          "defaultRepresentation": false,
          "ext": "pdb"
         },
         "methodName": "loadFile",
         "reconstruc_color_scheme": false,
         "target": "Stage",
         "type": "call_method"
        },
        {
         "args": [
          "500px",
          "500px"
         ],
         "kwargs": {},
         "methodName": "setSize",
         "reconstruc_color_scheme": false,
         "target": "Widget",
         "type": "call_method"
        },
        {
         "args": [
          "unitcell"
         ],
         "component_index": 0,
         "kwargs": {
          "sele": "all"
         },
         "methodName": "addRepresentation",
         "reconstruc_color_scheme": false,
         "target": "compList",
         "type": "call_method"
        },
        {
         "args": [
          "spacefill"
         ],
         "component_index": 0,
         "kwargs": {
          "sele": "all"
         },
         "methodName": "addRepresentation",
         "reconstruc_color_scheme": false,
         "target": "compList",
         "type": "call_method"
        },
        {
         "args": [],
         "kwargs": {
          "cameraType": "orthographic"
         },
         "methodName": "setParameters",
         "reconstruc_color_scheme": false,
         "target": "Stage",
         "type": "call_method"
        },
        {
         "args": [
          {
           "clipDist": 0
          }
         ],
         "kwargs": {},
         "methodName": "setParameters",
         "reconstruc_color_scheme": false,
         "target": "Widget",
         "type": "call_method"
        },
        {
         "args": [
          "spacefill",
          0
         ],
         "kwargs": {
          "colorScale": "rainbow",
          "colorScheme": "element",
          "radiusScale": 0.5,
          "radiusType": "covalent"
         },
         "methodName": "updateRepresentationsByName",
         "reconstruc_color_scheme": false,
         "target": "Widget",
         "type": "call_method"
        },
        {
         "args": [
          "this._Q = [[1.0, 0.0, 0.0], [0.0, 1.0, 0.0], [0.0, 0.0, 1.0]]\n    var tooltip = document.createElement('div')\n    Object.assign(tooltip.style, {\n      display: 'none',\n      position: 'fixed',\n      zIndex: 10,\n      pointerEvents: 'none',\n      backgroundColor: 'rgba( 0, 0, 0, 0.6 )',\n      color: 'lightgrey',\n      padding: '8px',\n      fontFamily: 'sans-serif'\n    })\n    document.body.appendChild(tooltip)\n\n    var that = this\n    this.stage.mouseControls.remove('hoverPick')\n    this.stage.signals.hovered.add(function (pickingProxy) {\n      if (pickingProxy && (pickingProxy.atom || pickingProxy.bond)) {\n        var atom = pickingProxy.atom || pickingProxy.closestBondAtom\n        var mp = pickingProxy.mouse.position\n        //tooltip.innerText = atom.element + ' i=' + atom.index + ' (' + atom.x.toFixed(2) +  ', ' + atom.y.toFixed(2) +  ', ' + atom.z.toFixed(2) + ')'\n        //var pos = that._atoms_pos[atom.index]\n        var Q = that._Q\n        var pos_x = Q[0][0] * atom.x + Q[0][1] * atom.y + Q[0][2] * atom.z \n        var pos_y = Q[1][0] * atom.x + Q[1][1] * atom.y + Q[1][2] * atom.z\n        var pos_z = Q[2][0] * atom.x + Q[2][1] * atom.y + Q[2][2] * atom.z\n        tooltip.innerText = 'i=' + atom.index + ' ' + atom.element + ' (' + pos_x.toFixed(2) +  ', ' + pos_y.toFixed(2) +  ', ' + pos_z.toFixed(2) + ')'\n        tooltip.style.bottom = window.innerHeight - mp.y + 3 + 'px'\n        tooltip.style.left = mp.x + 3 + 'px'\n        tooltip.style.display = 'block'\n      } else {\n        tooltip.style.display = 'none'\n      }\n    })\n    "
         ],
         "kwargs": {},
         "methodName": "executeCode",
         "reconstruc_color_scheme": false,
         "target": "Widget",
         "type": "call_method"
        }
       ],
       "_ngl_original_stage_parameters": {
        "ambientColor": 14540253,
        "ambientIntensity": 0.2,
        "backgroundColor": "white",
        "cameraEyeSep": 0.3,
        "cameraFov": 40,
        "cameraType": "perspective",
        "clipDist": 10,
        "clipFar": 100,
        "clipNear": 0,
        "fogFar": 100,
        "fogNear": 50,
        "hoverTimeout": 0,
        "impostor": true,
        "lightColor": 14540253,
        "lightIntensity": 1,
        "mousePreset": "default",
        "panSpeed": 1,
        "quality": "medium",
        "rotateSpeed": 2,
        "sampleLevel": 0,
        "tooltip": true,
        "workerDefault": true,
        "zoomSpeed": 1.2
       },
       "_ngl_repr_dict": {
        "0": {
         "0": {
          "params": {
           "clipCenter": {
            "x": 0,
            "y": 0,
            "z": 0
           },
           "clipNear": 0,
           "clipRadius": 0,
           "colorMode": "hcl",
           "colorReverse": false,
           "colorScale": "",
           "colorScheme": "element",
           "colorValue": "orange",
           "defaultAssembly": "",
           "depthWrite": true,
           "diffuse": 16777215,
           "diffuseInterior": false,
           "disableImpostor": false,
           "disablePicking": false,
           "flatShaded": false,
           "interiorColor": 2236962,
           "interiorDarkening": 0,
           "lazy": false,
           "matrix": {
            "elements": [
             1,
             0,
             0,
             0,
             0,
             1,
             0,
             0,
             0,
             0,
             1,
             0,
             0,
             0,
             0,
             1
            ]
           },
           "metalness": 0,
           "opacity": 1,
           "quality": "medium",
           "radialSegments": 10,
           "radiusData": {},
           "radiusScale": 1,
           "radiusSize": 0.08137752064937105,
           "radiusType": "vdw",
           "roughness": 0.4,
           "sele": "all",
           "side": "double",
           "sphereDetail": 1,
           "useInteriorColor": true,
           "visible": true,
           "wireframe": false
          },
          "type": "unitcell"
         },
         "1": {
          "params": {
           "assembly": "default",
           "clipCenter": {
            "x": 0,
            "y": 0,
            "z": 0
           },
           "clipNear": 0,
           "clipRadius": 0,
           "colorMode": "hcl",
           "colorReverse": false,
           "colorScale": "rainbow",
           "colorScheme": "element",
           "colorValue": 9474192,
           "defaultAssembly": "",
           "depthWrite": true,
           "diffuse": 16777215,
           "diffuseInterior": false,
           "disableImpostor": false,
           "disablePicking": false,
           "flatShaded": false,
           "interiorColor": 2236962,
           "interiorDarkening": 0,
           "lazy": false,
           "matrix": {
            "elements": [
             1,
             0,
             0,
             0,
             0,
             1,
             0,
             0,
             0,
             0,
             1,
             0,
             0,
             0,
             0,
             1
            ]
           },
           "metalness": 0,
           "opacity": 1,
           "quality": "medium",
           "radiusData": {},
           "radiusScale": 0.5,
           "radiusSize": 1,
           "radiusType": "covalent",
           "roughness": 0.4,
           "sele": "all",
           "side": "double",
           "sphereDetail": 1,
           "useInteriorColor": true,
           "visible": true,
           "wireframe": false
          },
          "type": "spacefill"
         }
        }
       },
       "_ngl_serialize": false,
       "_ngl_version": "2.0.0-dev.36",
       "_ngl_view_id": [
        "2BAA7418-D106-49E4-B7A5-0B876A645FCE"
       ],
       "_player_dict": {},
       "_scene_position": {},
       "_scene_rotation": {},
       "_synced_model_ids": [],
       "_synced_repr_model_ids": [],
       "_view_height": "",
       "_view_width": "",
       "background": "white",
       "frame": 0,
       "gui_style": null,
       "layout": "IPY_MODEL_50ed06be1ac3441b859a62ada31489dc",
       "max_frame": 0,
       "n_components": 1,
       "picked": {}
      }
     },
     "7a42f188656741d1a0345ef10263a2ee": {
      "model_module": "@jupyter-widgets/controls",
      "model_module_version": "1.5.0",
      "model_name": "FloatSliderModel",
      "state": {
       "description": "Force scale",
       "layout": "IPY_MODEL_189d636be0954b8092e36f285a6be254",
       "step": 0.1,
       "style": "IPY_MODEL_891f5b9e20844be28a5275d1225052d9",
       "value": 0.5
      }
     },
     "7ad8c5ba54d244c4a58dee1309f929cb": {
      "model_module": "@jupyter-widgets/controls",
      "model_module_version": "1.5.0",
      "model_name": "SliderStyleModel",
      "state": {
       "description_width": ""
      }
     },
     "7afdb5c74c974608bc5e7f5dd4701668": {
      "model_module": "@jupyter-widgets/controls",
      "model_module_version": "1.5.0",
      "model_name": "DescriptionStyleModel",
      "state": {
       "description_width": ""
      }
     },
     "7b845ca26cd345e192a894e2af7ae230": {
      "model_module": "@jupyter-widgets/controls",
      "model_module_version": "1.5.0",
      "model_name": "LinkModel",
      "state": {
       "source": [
        "IPY_MODEL_7f94127e1e1741388cad4a6ef2d0c2af",
        "value"
       ],
       "target": [
        "IPY_MODEL_e9bb50f53fdf437e868b037be51531dc",
        "value"
       ]
      }
     },
     "7db970656aa8468a9b3077093697c816": {
      "model_module": "@jupyter-widgets/controls",
      "model_module_version": "1.5.0",
      "model_name": "DescriptionStyleModel",
      "state": {
       "description_width": ""
      }
     },
     "7ee62c971629487a88b957803eb1524f": {
      "model_module": "@jupyter-widgets/controls",
      "model_module_version": "1.5.0",
      "model_name": "LinkModel",
      "state": {
       "source": [
        "IPY_MODEL_6f69f1bfff6e4126b7a61363bbb3d5e9",
        "value"
       ],
       "target": [
        "IPY_MODEL_1fe70b83424c4eadbae9ca62e9e91ef6",
        "frame"
       ]
      }
     },
     "7f94127e1e1741388cad4a6ef2d0c2af": {
      "model_module": "@jupyter-widgets/controls",
      "model_module_version": "1.5.0",
      "model_name": "PlayModel",
      "state": {
       "layout": "IPY_MODEL_0dd7e427e56c452fab49717d9106d45b",
       "max": 0,
       "style": "IPY_MODEL_ddc431c47c8141b6b93dc152609217d4"
      }
     },
     "80625495191c41a79a49830ce9d8668d": {
      "model_module": "@jupyter-widgets/controls",
      "model_module_version": "1.5.0",
      "model_name": "DescriptionStyleModel",
      "state": {
       "description_width": ""
      }
     },
     "81a9565694094d5799a5819fb5ecedd9": {
      "model_module": "@jupyter-widgets/base",
      "model_module_version": "1.2.0",
      "model_name": "LayoutModel",
      "state": {}
     },
     "826a08e6530c45339af8e89cac12bc7b": {
      "model_module": "@jupyter-widgets/controls",
      "model_module_version": "1.5.0",
      "model_name": "DescriptionStyleModel",
      "state": {
       "description_width": ""
      }
     },
     "855055cdb5ce4f209c73dac94277050b": {
      "model_module": "@jupyter-widgets/controls",
      "model_module_version": "1.5.0",
      "model_name": "LinkModel",
      "state": {
       "source": [
        "IPY_MODEL_0c584b69676f44c3a8663b06d142b782",
        "max"
       ],
       "target": [
        "IPY_MODEL_7803558c6b8c4197933099d69d653cd1",
        "max_frame"
       ]
      }
     },
     "8623e5744c234b69afc74c0c326fd8c5": {
      "model_module": "@jupyter-widgets/base",
      "model_module_version": "1.2.0",
      "model_name": "LayoutModel",
      "state": {}
     },
     "891f5b9e20844be28a5275d1225052d9": {
      "model_module": "@jupyter-widgets/controls",
      "model_module_version": "1.5.0",
      "model_name": "SliderStyleModel",
      "state": {
       "description_width": ""
      }
     },
     "8cda6e62faa24fdf96cc8d15bb64984d": {
      "model_module": "@jupyter-widgets/controls",
      "model_module_version": "1.5.0",
      "model_name": "DescriptionStyleModel",
      "state": {
       "description_width": ""
      }
     },
     "8d343328355a4df49867b763995982e9": {
      "model_module": "@jupyter-widgets/base",
      "model_module_version": "1.2.0",
      "model_name": "LayoutModel",
      "state": {}
     },
     "8d3a85d421ae4755913cc332d0530bd9": {
      "model_module": "@jupyter-widgets/controls",
      "model_module_version": "1.5.0",
      "model_name": "LinkModel",
      "state": {
       "source": [
        "IPY_MODEL_7f94127e1e1741388cad4a6ef2d0c2af",
        "value"
       ],
       "target": [
        "IPY_MODEL_71a2e97d346a494a95f71291bf40b47f",
        "frame"
       ]
      }
     },
     "8e5c40d5f0e64704aa4ac620c06a79cb": {
      "model_module": "@jupyter-widgets/controls",
      "model_module_version": "1.5.0",
      "model_name": "LinkModel",
      "state": {
       "source": [
        "IPY_MODEL_cb120c1d704e4b1c916c7cc41aba88ed",
        "value"
       ],
       "target": [
        "IPY_MODEL_9ff1ff29fff0418a936bbeb18f0666c6",
        "value"
       ]
      }
     },
     "90cf3fb017cb435eac76bc70e15c0121": {
      "model_module": "@jupyter-widgets/controls",
      "model_module_version": "1.5.0",
      "model_name": "DescriptionStyleModel",
      "state": {
       "description_width": ""
      }
     },
     "9227e439e68c4e4298e41ebde2ec5d81": {
      "model_module": "@jupyter-widgets/controls",
      "model_module_version": "1.5.0",
      "model_name": "ButtonModel",
      "state": {
       "description": "Download image",
       "layout": "IPY_MODEL_b6092d52dd244e5f9a84994e696f3e59",
       "style": "IPY_MODEL_bf43e69f9f534316a9ef501024184ef2",
       "tooltip": "Download current frame to your local PC"
      }
     },
     "9263576005184d0f9bcff8fd72240d2e": {
      "model_module": "@jupyter-widgets/controls",
      "model_module_version": "1.5.0",
      "model_name": "ButtonModel",
      "state": {
       "icon": "compress",
       "layout": "IPY_MODEL_c00f8d5efdb0477998b4b02a20e30ca2",
       "style": "IPY_MODEL_a701f65ab7d34090af8f2aee803bce16"
      }
     },
     "9348388505454b149604d1041472cedf": {
      "model_module": "@jupyter-widgets/base",
      "model_module_version": "1.2.0",
      "model_name": "LayoutModel",
      "state": {}
     },
     "93a0f4d606ce4fc8a7d7e6e3a817870d": {
      "model_module": "@jupyter-widgets/controls",
      "model_module_version": "1.5.0",
      "model_name": "SliderStyleModel",
      "state": {
       "description_width": ""
      }
     },
     "954b472764ec4d1489a349e14f2a8cca": {
      "model_module": "@jupyter-widgets/controls",
      "model_module_version": "1.5.0",
      "model_name": "VBoxModel",
      "state": {
       "children": [
        "IPY_MODEL_0fc9d9618671405e9889a945fca539a7",
        "IPY_MODEL_55557ae7f7e54e549e5eb1c1bc2df234",
        "IPY_MODEL_49bb2de01bbd44ccadc97e0bcb356f51",
        "IPY_MODEL_acc6abd5e6414a6dac70b5fb380a9175",
        "IPY_MODEL_18e17f73605442d6bbbe87dd58cafd80",
        "IPY_MODEL_e20d85b04fba421a87786fc9af9a1ae2",
        "IPY_MODEL_ef305942d7bf4f26b6d3139b8cf6b46f",
        "IPY_MODEL_f0c77ccc5d2c447f979f843edd3b6582",
        "IPY_MODEL_eae7cefb87f84b098511e32dc2833b4b",
        "IPY_MODEL_32b4d21361254f5280e80114531b18ab"
       ],
       "layout": "IPY_MODEL_a7422b300bd640c2a08dd6983b1a9181"
      }
     },
     "97c3efda6fb94708ad4b64ebe97bc63a": {
      "model_module": "@jupyter-widgets/controls",
      "model_module_version": "1.5.0",
      "model_name": "LinkModel",
      "state": {
       "source": [
        "IPY_MODEL_6f69f1bfff6e4126b7a61363bbb3d5e9",
        "max"
       ],
       "target": [
        "IPY_MODEL_1fe70b83424c4eadbae9ca62e9e91ef6",
        "max_frame"
       ]
      }
     },
     "98debf89c0f0452e8b9694f19876abbb": {
      "model_module": "@jupyter-widgets/base",
      "model_module_version": "1.2.0",
      "model_name": "LayoutModel",
      "state": {}
     },
     "9a210c39ca9c4da5970a6ed6a610616a": {
      "model_module": "@jupyter-widgets/controls",
      "model_module_version": "1.5.0",
      "model_name": "FloatSliderModel",
      "state": {
       "description": "Force scale",
       "layout": "IPY_MODEL_29baaebf5658458aaa0a1c1f45226c27",
       "step": 0.1,
       "style": "IPY_MODEL_d8d8ae9a56274aa4929f5cb55479839e",
       "value": 0.5
      }
     },
     "9aad582a5bd14834b0b887405d83051a": {
      "model_module": "@jupyter-widgets/controls",
      "model_module_version": "1.5.0",
      "model_name": "DropdownModel",
      "state": {
       "_options_labels": [
        " ",
        "picking",
        "random",
        "uniform",
        "atomindex",
        "residueindex",
        "chainindex",
        "modelindex",
        "sstruc",
        "element",
        "resname",
        "bfactor",
        "hydrophobicity",
        "value",
        "volume",
        "occupancy"
       ],
       "description": "Color scheme",
       "index": 9,
       "layout": "IPY_MODEL_184d28a2bce04be69c5533086a0f295d",
       "style": "IPY_MODEL_3fc357a8c5c64f31bbdfc1b01ddf3a87"
      }
     },
     "9ab9eea1b9094f72933a30555dbc6e5d": {
      "model_module": "@jupyter-widgets/controls",
      "model_module_version": "1.5.0",
      "model_name": "DropdownModel",
      "state": {
       "_options_labels": [
        "All",
        "Ba",
        "Ti",
        "O"
       ],
       "description": "Show",
       "index": 0,
       "layout": "IPY_MODEL_63d1fbf5f3f94798ad9781201974e429",
       "style": "IPY_MODEL_a7fcb2a363c54509baf287780ff1dfda"
      }
     },
     "9b01d9b130c84312bc50313b8ed9b36b": {
      "model_module": "@jupyter-widgets/controls",
      "model_module_version": "1.5.0",
      "model_name": "DescriptionStyleModel",
      "state": {
       "description_width": ""
      }
     },
     "9c84d1df3f6d432aa8f79f06717e8e27": {
      "model_module": "@jupyter-widgets/controls",
      "model_module_version": "1.5.0",
      "model_name": "FloatSliderModel",
      "state": {
       "description": "Ball size",
       "layout": "IPY_MODEL_a4db1bd881c44a889793690c5d9dea1d",
       "max": 1.5,
       "step": 0.01,
       "style": "IPY_MODEL_1577884628b240fa9a04b33741733ed7",
       "value": 0.5
      }
     },
     "9ff1ff29fff0418a936bbeb18f0666c6": {
      "model_module": "@jupyter-widgets/controls",
      "model_module_version": "1.5.0",
      "model_name": "IntSliderModel",
      "state": {
       "layout": "IPY_MODEL_29a0b2f1f64941c8930e05b4ca25d170",
       "max": 0,
       "style": "IPY_MODEL_74ebffb7a7484cd3bca8254164f1401a"
      }
     },
     "a07672dc3b004c8b98440af18e91d7f2": {
      "model_module": "@jupyter-widgets/controls",
      "model_module_version": "1.5.0",
      "model_name": "ButtonModel",
      "state": {
       "description": "Download image",
       "layout": "IPY_MODEL_5dc3dfa264824a759be07d5033047abb",
       "style": "IPY_MODEL_0861674546d543e2a42553b1fed2e768",
       "tooltip": "Download current frame to your local PC"
      }
     },
     "a125d5baba3340f5a42e30877c64cb4d": {
      "model_module": "@jupyter-widgets/base",
      "model_module_version": "1.2.0",
      "model_name": "LayoutModel",
      "state": {}
     },
     "a16546c38a2d4430a7d98933199816e6": {
      "model_module": "@jupyter-widgets/output",
      "model_module_version": "1.0.0",
      "model_name": "OutputModel",
      "state": {
       "layout": "IPY_MODEL_e67beb521d7e47c5be7b18c33da2ff5d"
      }
     },
     "a4db1bd881c44a889793690c5d9dea1d": {
      "model_module": "@jupyter-widgets/base",
      "model_module_version": "1.2.0",
      "model_name": "LayoutModel",
      "state": {}
     },
     "a50987ad787541ff840aef8107f7e12f": {
      "model_module": "@jupyter-widgets/base",
      "model_module_version": "1.2.0",
      "model_name": "LayoutModel",
      "state": {}
     },
     "a5e6b73c476e4ebab58b7d2a5a596dd1": {
      "model_module": "@jupyter-widgets/controls",
      "model_module_version": "1.5.0",
      "model_name": "ButtonStyleModel",
      "state": {}
     },
     "a701f65ab7d34090af8f2aee803bce16": {
      "model_module": "@jupyter-widgets/controls",
      "model_module_version": "1.5.0",
      "model_name": "ButtonStyleModel",
      "state": {}
     },
     "a7422b300bd640c2a08dd6983b1a9181": {
      "model_module": "@jupyter-widgets/base",
      "model_module_version": "1.2.0",
      "model_name": "LayoutModel",
      "state": {}
     },
     "a7fcb2a363c54509baf287780ff1dfda": {
      "model_module": "@jupyter-widgets/controls",
      "model_module_version": "1.5.0",
      "model_name": "DescriptionStyleModel",
      "state": {
       "description_width": ""
      }
     },
     "aa1bbbb24c3144d5b3dbd4ba7682374e": {
      "model_module": "@jupyter-widgets/controls",
      "model_module_version": "1.5.0",
      "model_name": "DescriptionStyleModel",
      "state": {
       "description_width": ""
      }
     },
     "abac9599f3754b8aad71136dd1ca726e": {
      "model_module": "@jupyter-widgets/base",
      "model_module_version": "1.2.0",
      "model_name": "LayoutModel",
      "state": {}
     },
     "acc6abd5e6414a6dac70b5fb380a9175": {
      "model_module": "@jupyter-widgets/controls",
      "model_module_version": "1.5.0",
      "model_name": "TextModel",
      "state": {
       "description": "Filename: ",
       "layout": "IPY_MODEL_4ea9fdf72ac54305823293f8be06dc88",
       "style": "IPY_MODEL_5cf689c9646a477a9b95007d6a1b403b",
       "value": "screenshot.png"
      }
     },
     "ad082a184bad439a86842f7f4df405d5": {
      "model_module": "@jupyter-widgets/base",
      "model_module_version": "1.2.0",
      "model_name": "LayoutModel",
      "state": {}
     },
     "ad91209987254e239bac6279617e9f38": {
      "model_module": "@jupyter-widgets/base",
      "model_module_version": "1.2.0",
      "model_name": "LayoutModel",
      "state": {}
     },
     "add219a2c46d49088752fd988d46b371": {
      "model_module": "@jupyter-widgets/controls",
      "model_module_version": "1.5.0",
      "model_name": "ButtonStyleModel",
      "state": {}
     },
     "adf94f3449f14ccbbe7a526e8bde0da0": {
      "model_module": "@jupyter-widgets/base",
      "model_module_version": "1.2.0",
      "model_name": "LayoutModel",
      "state": {}
     },
     "b0e69cf5a2b44b83b1bf441a99a0413f": {
      "model_module": "@jupyter-widgets/base",
      "model_module_version": "1.2.0",
      "model_name": "LayoutModel",
      "state": {}
     },
     "b4b7b42e7f9a4c659af5369667e6a1e7": {
      "model_module": "@jupyter-widgets/controls",
      "model_module_version": "1.5.0",
      "model_name": "LinkModel",
      "state": {
       "source": [
        "IPY_MODEL_eee198863bac494c9578eb4c8e6d8f51",
        "max"
       ],
       "target": [
        "IPY_MODEL_1fe70b83424c4eadbae9ca62e9e91ef6",
        "max_frame"
       ]
      }
     },
     "b6092d52dd244e5f9a84994e696f3e59": {
      "model_module": "@jupyter-widgets/base",
      "model_module_version": "1.2.0",
      "model_name": "LayoutModel",
      "state": {}
     },
     "b6475e3b237f4d1eba7450309ee67a3a": {
      "model_module": "@jupyter-widgets/base",
      "model_module_version": "1.2.0",
      "model_name": "LayoutModel",
      "state": {
       "width": "34px"
      }
     },
     "b6678a19378b4dac89fe1156742c39c2": {
      "model_module": "@jupyter-widgets/controls",
      "model_module_version": "1.5.0",
      "model_name": "SliderStyleModel",
      "state": {
       "description_width": ""
      }
     },
     "b6f42a1b9b24443a80cf20fcd72b284a": {
      "model_module": "@jupyter-widgets/base",
      "model_module_version": "1.2.0",
      "model_name": "LayoutModel",
      "state": {}
     },
     "b76070a2419743ecb779454e58cd5012": {
      "model_module": "@jupyter-widgets/base",
      "model_module_version": "1.2.0",
      "model_name": "LayoutModel",
      "state": {}
     },
     "bcc188cb30d14e18aca867a770ddb67c": {
      "model_module": "@jupyter-widgets/base",
      "model_module_version": "1.2.0",
      "model_name": "LayoutModel",
      "state": {}
     },
     "bcd627ffb5574975a9f8188269f84465": {
      "model_module": "@jupyter-widgets/base",
      "model_module_version": "1.2.0",
      "model_name": "LayoutModel",
      "state": {}
     },
     "bde9c242ecc046629c7cf1804a10b065": {
      "model_module": "@jupyter-widgets/controls",
      "model_module_version": "1.5.0",
      "model_name": "CheckboxModel",
      "state": {
       "description": "Show charge",
       "disabled": false,
       "layout": "IPY_MODEL_114b476d9a144f328ac8a0aba0e696b0",
       "style": "IPY_MODEL_8cda6e62faa24fdf96cc8d15bb64984d",
       "value": false
      }
     },
     "bf43e69f9f534316a9ef501024184ef2": {
      "model_module": "@jupyter-widgets/controls",
      "model_module_version": "1.5.0",
      "model_name": "ButtonStyleModel",
      "state": {}
     },
     "bfe7c9c1f2ca44009644a222d9d3a79d": {
      "model_module": "@jupyter-widgets/controls",
      "model_module_version": "1.5.0",
      "model_name": "ButtonStyleModel",
      "state": {}
     },
     "c00f8d5efdb0477998b4b02a20e30ca2": {
      "model_module": "@jupyter-widgets/base",
      "model_module_version": "1.2.0",
      "model_name": "LayoutModel",
      "state": {
       "width": "34px"
      }
     },
     "c19858c12bc4434389b518fe400802d4": {
      "model_module": "@jupyter-widgets/controls",
      "model_module_version": "1.5.0",
      "model_name": "DescriptionStyleModel",
      "state": {
       "description_width": ""
      }
     },
     "c4940ff3c40d4aaeaff6779d67b8da99": {
      "model_module": "@jupyter-widgets/controls",
      "model_module_version": "1.5.0",
      "model_name": "ImageModel",
      "state": {
       "layout": "IPY_MODEL_d43374f01c0a4c57ad6162ad5252276f",
       "width": "900.0"
      }
     },
     "c4d5f5b829034ac6894e91f9248c58e9": {
      "model_module": "@jupyter-widgets/base",
      "model_module_version": "1.2.0",
      "model_name": "LayoutModel",
      "state": {}
     },
     "c5608636571c4f558d3a59ef1aae3e33": {
      "model_module": "@jupyter-widgets/controls",
      "model_module_version": "1.5.0",
      "model_name": "VBoxModel",
      "state": {
       "children": [
        "IPY_MODEL_dc4bf987f2154fd9a67bc782f1fa9d5b",
        "IPY_MODEL_9aad582a5bd14834b0b887405d83051a",
        "IPY_MODEL_76e0c5f884dd4b6bb977db0e16fb1806",
        "IPY_MODEL_60aa2dd6c07d4cf2bc265f24f341e8cf",
        "IPY_MODEL_31b7040dbb7746a6b06868bd20c77263",
        "IPY_MODEL_fb80df4f471441f18ec51d8488c693c0",
        "IPY_MODEL_7a42f188656741d1a0345ef10263a2ee",
        "IPY_MODEL_2d42891646224a9c817bad22bc81988c",
        "IPY_MODEL_50825e875e23459584d326700d4f0916",
        "IPY_MODEL_658b03825240432b80474cbd4ee30a08"
       ],
       "layout": "IPY_MODEL_bcd627ffb5574975a9f8188269f84465"
      }
     },
     "c691b58a85484521b619a03477b63318": {
      "model_module": "@jupyter-widgets/controls",
      "model_module_version": "1.5.0",
      "model_name": "FloatSliderModel",
      "state": {
       "description": "Charge scale",
       "layout": "IPY_MODEL_bcc188cb30d14e18aca867a770ddb67c",
       "step": 0.1,
       "style": "IPY_MODEL_3ec671a70b4142049ccc53e3e22e384e",
       "value": 1
      }
     },
     "c78a91861bd8405eaedd9aba38223277": {
      "model_module": "@jupyter-widgets/controls",
      "model_module_version": "1.5.0",
      "model_name": "ButtonStyleModel",
      "state": {}
     },
     "caa461555bb54cedbff3ccb6cadbf925": {
      "model_module": "@jupyter-widgets/controls",
      "model_module_version": "1.5.0",
      "model_name": "LinkModel",
      "state": {
       "source": [
        "IPY_MODEL_7f94127e1e1741388cad4a6ef2d0c2af",
        "max"
       ],
       "target": [
        "IPY_MODEL_71a2e97d346a494a95f71291bf40b47f",
        "max_frame"
       ]
      }
     },
     "cb120c1d704e4b1c916c7cc41aba88ed": {
      "model_module": "@jupyter-widgets/controls",
      "model_module_version": "1.5.0",
      "model_name": "PlayModel",
      "state": {
       "layout": "IPY_MODEL_2d484eb25ed64f8395acc5ecad5a26d8",
       "max": 0,
       "style": "IPY_MODEL_f0edc1e2f5404c54a824a197ad39de01"
      }
     },
     "cc411554af3149dbbaa71715e89d4272": {
      "model_module": "@jupyter-widgets/controls",
      "model_module_version": "1.5.0",
      "model_name": "DescriptionStyleModel",
      "state": {
       "description_width": ""
      }
     },
     "cd7bedb153664adbbcaec544736ff832": {
      "model_module": "@jupyter-widgets/controls",
      "model_module_version": "1.5.0",
      "model_name": "DescriptionStyleModel",
      "state": {
       "description_width": ""
      }
     },
     "cf4a7ce6eca1475d86bffe7f09fd7d90": {
      "model_module": "@jupyter-widgets/base",
      "model_module_version": "1.2.0",
      "model_name": "LayoutModel",
      "state": {}
     },
     "cf9d10c006a94f2daa86842650c008e7": {
      "model_module": "@jupyter-widgets/controls",
      "model_module_version": "1.5.0",
      "model_name": "DropdownModel",
      "state": {
       "_options_labels": [
        " ",
        "picking",
        "random",
        "uniform",
        "atomindex",
        "residueindex",
        "chainindex",
        "modelindex",
        "sstruc",
        "element",
        "resname",
        "bfactor",
        "hydrophobicity",
        "value",
        "volume",
        "occupancy"
       ],
       "description": "Color scheme",
       "index": 9,
       "layout": "IPY_MODEL_de812bd0074a4b27aa59c7c6f49f5c7e",
       "style": "IPY_MODEL_4a83ff939b9044bdb37bde82a9690d2d"
      }
     },
     "d1db70e7b2064433a15c48ae01f5472f": {
      "model_module": "@jupyter-widgets/base",
      "model_module_version": "1.2.0",
      "model_name": "LayoutModel",
      "state": {}
     },
     "d26270d3b872428b96dab3be0ce4ff2c": {
      "model_module": "@jupyter-widgets/controls",
      "model_module_version": "1.5.0",
      "model_name": "LinkModel",
      "state": {
       "source": [
        "IPY_MODEL_41e9a9eefa0047af9aa22bc776017c92",
        "value"
       ],
       "target": [
        "IPY_MODEL_7803558c6b8c4197933099d69d653cd1",
        "frame"
       ]
      }
     },
     "d2a3a5b1524e4998b2944a1d1766de20": {
      "model_module": "@jupyter-widgets/controls",
      "model_module_version": "1.5.0",
      "model_name": "ButtonStyleModel",
      "state": {}
     },
     "d40e08a2d4f042a79c967aa089d0cb4b": {
      "model_module": "@jupyter-widgets/base",
      "model_module_version": "1.2.0",
      "model_name": "LayoutModel",
      "state": {}
     },
     "d43374f01c0a4c57ad6162ad5252276f": {
      "model_module": "@jupyter-widgets/base",
      "model_module_version": "1.2.0",
      "model_name": "LayoutModel",
      "state": {}
     },
     "d488c88083d14b59a49d3a2c9efa36aa": {
      "model_module": "@jupyter-widgets/controls",
      "model_module_version": "1.5.0",
      "model_name": "HBoxModel",
      "state": {
       "children": [
        "IPY_MODEL_7f94127e1e1741388cad4a6ef2d0c2af",
        "IPY_MODEL_e9bb50f53fdf437e868b037be51531dc"
       ],
       "layout": "IPY_MODEL_76928b3efcfa43e9bd5b10bf6109f585"
      }
     },
     "d48a00bf2b2948b18786c37d4442e497": {
      "model_module": "@jupyter-widgets/controls",
      "model_module_version": "1.5.0",
      "model_name": "HBoxModel",
      "state": {
       "children": [
        "IPY_MODEL_7803558c6b8c4197933099d69d653cd1",
        "IPY_MODEL_58e8e44407844064b26d753f4ca12ad7"
       ],
       "layout": "IPY_MODEL_59826e3a11ae41d8843d4908009255c3"
      }
     },
     "d517bd1a94a24ff287534338362b9e25": {
      "model_module": "@jupyter-widgets/controls",
      "model_module_version": "1.5.0",
      "model_name": "TextModel",
      "state": {
       "description": "Filename: ",
       "layout": "IPY_MODEL_5148c37c97e448e0a2ed829a4575b648",
       "style": "IPY_MODEL_80625495191c41a79a49830ce9d8668d",
       "value": "screenshot.png"
      }
     },
     "d5958c69cab144f291a0494875c7a905": {
      "model_module": "@jupyter-widgets/controls",
      "model_module_version": "1.5.0",
      "model_name": "DropdownModel",
      "state": {
       "_options_labels": [
        " ",
        "picking",
        "random",
        "uniform",
        "atomindex",
        "residueindex",
        "chainindex",
        "modelindex",
        "sstruc",
        "element",
        "resname",
        "bfactor",
        "hydrophobicity",
        "value",
        "volume",
        "occupancy"
       ],
       "description": "Color scheme",
       "index": 9,
       "layout": "IPY_MODEL_a50987ad787541ff840aef8107f7e12f",
       "style": "IPY_MODEL_9b01d9b130c84312bc50313b8ed9b36b"
      }
     },
     "d8d8ae9a56274aa4929f5cb55479839e": {
      "model_module": "@jupyter-widgets/controls",
      "model_module_version": "1.5.0",
      "model_name": "SliderStyleModel",
      "state": {
       "description_width": ""
      }
     },
     "dc4bf987f2154fd9a67bc782f1fa9d5b": {
      "model_module": "@jupyter-widgets/controls",
      "model_module_version": "1.5.0",
      "model_name": "DropdownModel",
      "state": {
       "_options_labels": [
        "All",
        "Ba",
        "Ti",
        "O"
       ],
       "description": "Show",
       "index": 0,
       "layout": "IPY_MODEL_eca246b0440a41bcaa96e974eb728b64",
       "style": "IPY_MODEL_51ba2b82248f46a8bb0adcc87c62d42c"
      }
     },
     "dc79df9980594123a5ecca2f141210ed": {
      "model_module": "@jupyter-widgets/controls",
      "model_module_version": "1.5.0",
      "model_name": "CheckboxModel",
      "state": {
       "description": "Show force",
       "disabled": false,
       "layout": "IPY_MODEL_fc2403bdcc9146cbaed206b12bf8993b",
       "style": "IPY_MODEL_cc411554af3149dbbaa71715e89d4272",
       "value": false
      }
     },
     "dd22bfc5775e44d0a669da0608becef7": {
      "model_module": "@jupyter-widgets/base",
      "model_module_version": "1.2.0",
      "model_name": "LayoutModel",
      "state": {}
     },
     "ddc431c47c8141b6b93dc152609217d4": {
      "model_module": "@jupyter-widgets/controls",
      "model_module_version": "1.5.0",
      "model_name": "DescriptionStyleModel",
      "state": {
       "description_width": ""
      }
     },
     "ddc5864636aa40a99df7d58c609da674": {
      "model_module": "@jupyter-widgets/controls",
      "model_module_version": "1.5.0",
      "model_name": "HBoxModel",
      "state": {
       "children": [
        "IPY_MODEL_9227e439e68c4e4298e41ebde2ec5d81",
        "IPY_MODEL_447e635ac2e24fc6a773c6b3fd140ebc"
       ],
       "layout": "IPY_MODEL_d40e08a2d4f042a79c967aa089d0cb4b"
      }
     },
     "de812bd0074a4b27aa59c7c6f49f5c7e": {
      "model_module": "@jupyter-widgets/base",
      "model_module_version": "1.2.0",
      "model_name": "LayoutModel",
      "state": {}
     },
     "dff5345d3a7d4f589fca8689e47aba11": {
      "model_module": "@jupyter-widgets/base",
      "model_module_version": "1.2.0",
      "model_name": "LayoutModel",
      "state": {}
     },
     "e194e409c5734f65be23fa1ca8480939": {
      "model_module": "@jupyter-widgets/base",
      "model_module_version": "1.2.0",
      "model_name": "LayoutModel",
      "state": {}
     },
     "e1ca7b78db79426cb1747e6704551342": {
      "model_module": "@jupyter-widgets/controls",
      "model_module_version": "1.5.0",
      "model_name": "SliderStyleModel",
      "state": {
       "description_width": ""
      }
     },
     "e1cb6bb25b2b426b858f76736c888b94": {
      "model_module": "@jupyter-widgets/base",
      "model_module_version": "1.2.0",
      "model_name": "LayoutModel",
      "state": {}
     },
     "e20d85b04fba421a87786fc9af9a1ae2": {
      "model_module": "@jupyter-widgets/controls",
      "model_module_version": "1.5.0",
      "model_name": "CheckboxModel",
      "state": {
       "description": "Show force",
       "disabled": false,
       "layout": "IPY_MODEL_e194e409c5734f65be23fa1ca8480939",
       "style": "IPY_MODEL_c19858c12bc4434389b518fe400802d4",
       "value": false
      }
     },
     "e4a1846a14be4725a9ec61cf3d608861": {
      "model_module": "@jupyter-widgets/controls",
      "model_module_version": "1.5.0",
      "model_name": "LinkModel",
      "state": {
       "source": [
        "IPY_MODEL_41e9a9eefa0047af9aa22bc776017c92",
        "max"
       ],
       "target": [
        "IPY_MODEL_7803558c6b8c4197933099d69d653cd1",
        "max_frame"
       ]
      }
     },
     "e67beb521d7e47c5be7b18c33da2ff5d": {
      "model_module": "@jupyter-widgets/base",
      "model_module_version": "1.2.0",
      "model_name": "LayoutModel",
      "state": {
       "border": "0px solid black"
      }
     },
     "e7358f86b562478d87c56e6d6e3be21b": {
      "model_module": "@jupyter-widgets/controls",
      "model_module_version": "1.5.0",
      "model_name": "DescriptionStyleModel",
      "state": {
       "description_width": ""
      }
     },
     "e8c5ea7329bc47e1a6a507ee3d5e81a1": {
      "model_module": "@jupyter-widgets/controls",
      "model_module_version": "1.5.0",
      "model_name": "CheckboxModel",
      "state": {
       "description": "Show force",
       "disabled": false,
       "layout": "IPY_MODEL_7659b0e97e2b459bbbfac59af9d6f7f8",
       "style": "IPY_MODEL_1829fa2c90d542c4b0b2ba217a331e39",
       "value": false
      }
     },
     "e9bb50f53fdf437e868b037be51531dc": {
      "model_module": "@jupyter-widgets/controls",
      "model_module_version": "1.5.0",
      "model_name": "IntSliderModel",
      "state": {
       "layout": "IPY_MODEL_a125d5baba3340f5a42e30877c64cb4d",
       "max": 0,
       "style": "IPY_MODEL_4b93f6951ade4ad5ba777e7d2d4e3451"
      }
     },
     "eae7cefb87f84b098511e32dc2833b4b": {
      "model_module": "@jupyter-widgets/controls",
      "model_module_version": "1.5.0",
      "model_name": "FloatSliderModel",
      "state": {
       "description": "Charge scale",
       "layout": "IPY_MODEL_5ae115386d5b49eaa1810ad4a8a3189a",
       "step": 0.1,
       "style": "IPY_MODEL_2a556c641b0b40b6923919c1c1e4117e",
       "value": 1
      }
     },
     "eca246b0440a41bcaa96e974eb728b64": {
      "model_module": "@jupyter-widgets/base",
      "model_module_version": "1.2.0",
      "model_name": "LayoutModel",
      "state": {}
     },
     "edab487d78bf46f5831d9bfcda7dc4a6": {
      "model_module": "@jupyter-widgets/base",
      "model_module_version": "1.2.0",
      "model_name": "LayoutModel",
      "state": {}
     },
     "edc30a48782141d3bb3fc04a46566939": {
      "model_module": "@jupyter-widgets/controls",
      "model_module_version": "1.5.0",
      "model_name": "ButtonStyleModel",
      "state": {}
     },
     "ee617d91c1e1472cb1033b39a907ea34": {
      "model_module": "@jupyter-widgets/base",
      "model_module_version": "1.2.0",
      "model_name": "LayoutModel",
      "state": {
       "border": "0px solid black"
      }
     },
     "eee198863bac494c9578eb4c8e6d8f51": {
      "model_module": "@jupyter-widgets/controls",
      "model_module_version": "1.5.0",
      "model_name": "IntSliderModel",
      "state": {
       "layout": "IPY_MODEL_b6f42a1b9b24443a80cf20fcd72b284a",
       "max": 0,
       "style": "IPY_MODEL_93a0f4d606ce4fc8a7d7e6e3a817870d"
      }
     },
     "ef305942d7bf4f26b6d3139b8cf6b46f": {
      "model_module": "@jupyter-widgets/controls",
      "model_module_version": "1.5.0",
      "model_name": "FloatSliderModel",
      "state": {
       "description": "Force scale",
       "layout": "IPY_MODEL_fc9a71de04a54598bfbc596344a2bfa6",
       "step": 0.1,
       "style": "IPY_MODEL_b6678a19378b4dac89fe1156742c39c2",
       "value": 0.5
      }
     },
     "f0c77ccc5d2c447f979f843edd3b6582": {
      "model_module": "@jupyter-widgets/controls",
      "model_module_version": "1.5.0",
      "model_name": "CheckboxModel",
      "state": {
       "description": "Show charge",
       "disabled": false,
       "layout": "IPY_MODEL_ffe12603aa7442dd9a973695ebf00e87",
       "style": "IPY_MODEL_7db970656aa8468a9b3077093697c816",
       "value": false
      }
     },
     "f0edc1e2f5404c54a824a197ad39de01": {
      "model_module": "@jupyter-widgets/controls",
      "model_module_version": "1.5.0",
      "model_name": "DescriptionStyleModel",
      "state": {
       "description_width": ""
      }
     },
     "f26623dc9d4c4f7280895ed8bba580e9": {
      "model_module": "@jupyter-widgets/controls",
      "model_module_version": "1.5.0",
      "model_name": "ButtonModel",
      "state": {
       "icon": "compress",
       "layout": "IPY_MODEL_340d85f7d3ef4fdda57222520d59357c",
       "style": "IPY_MODEL_edc30a48782141d3bb3fc04a46566939"
      }
     },
     "f2e0ce85bc20470c89f31874a3bb9eb7": {
      "model_module": "@jupyter-widgets/controls",
      "model_module_version": "1.5.0",
      "model_name": "LinkModel",
      "state": {
       "source": [
        "IPY_MODEL_e9bb50f53fdf437e868b037be51531dc",
        "max"
       ],
       "target": [
        "IPY_MODEL_71a2e97d346a494a95f71291bf40b47f",
        "max_frame"
       ]
      }
     },
     "f3473aeb0fbc469f8377e9ad09e48cac": {
      "model_module": "@jupyter-widgets/base",
      "model_module_version": "1.2.0",
      "model_name": "LayoutModel",
      "state": {}
     },
     "f4c32f9b0fb34536a5ba3578e5531434": {
      "model_module": "@jupyter-widgets/base",
      "model_module_version": "1.2.0",
      "model_name": "LayoutModel",
      "state": {}
     },
     "f5f10fdb36544c3887597db4906f502b": {
      "model_module": "@jupyter-widgets/controls",
      "model_module_version": "1.5.0",
      "model_name": "HBoxModel",
      "state": {
       "children": [
        "IPY_MODEL_cb120c1d704e4b1c916c7cc41aba88ed",
        "IPY_MODEL_9ff1ff29fff0418a936bbeb18f0666c6"
       ],
       "layout": "IPY_MODEL_05740dbc79de4daa8f516e0d29c85e6f"
      }
     },
     "f9c3fa6d02dd4156b95d701318d9f207": {
      "model_module": "@jupyter-widgets/base",
      "model_module_version": "1.2.0",
      "model_name": "LayoutModel",
      "state": {}
     },
     "fb80df4f471441f18ec51d8488c693c0": {
      "model_module": "@jupyter-widgets/controls",
      "model_module_version": "1.5.0",
      "model_name": "CheckboxModel",
      "state": {
       "description": "Show force",
       "disabled": false,
       "layout": "IPY_MODEL_1e8de37008084e649d78efed985c89d7",
       "style": "IPY_MODEL_e7358f86b562478d87c56e6d6e3be21b",
       "value": false
      }
     },
     "fc2403bdcc9146cbaed206b12bf8993b": {
      "model_module": "@jupyter-widgets/base",
      "model_module_version": "1.2.0",
      "model_name": "LayoutModel",
      "state": {}
     },
     "fc42eebafe95419f95250afa5ddb89f4": {
      "model_module": "@jupyter-widgets/controls",
      "model_module_version": "1.5.0",
      "model_name": "ButtonModel",
      "state": {
       "description": "Save image",
       "layout": "IPY_MODEL_16e0b99db10b443f8fb1d7a0ed084a30",
       "style": "IPY_MODEL_64a012a5630e4df990c7245a89b30af9",
       "tooltip": "Save current frame to file.\nCurrently .png and .html are supported.\nIt takes a bit time, please be patient."
      }
     },
     "fc9a71de04a54598bfbc596344a2bfa6": {
      "model_module": "@jupyter-widgets/base",
      "model_module_version": "1.2.0",
      "model_name": "LayoutModel",
      "state": {}
     },
     "fe0720afcd254836880ae4aa7f76c122": {
      "model_module": "@jupyter-widgets/output",
      "model_module_version": "1.0.0",
      "model_name": "OutputModel",
      "state": {
       "layout": "IPY_MODEL_ee617d91c1e1472cb1033b39a907ea34"
      }
     },
     "ffe12603aa7442dd9a973695ebf00e87": {
      "model_module": "@jupyter-widgets/base",
      "model_module_version": "1.2.0",
      "model_name": "LayoutModel",
      "state": {}
     }
    },
    "version_major": 2,
    "version_minor": 0
   }
  }
 },
 "nbformat": 4,
 "nbformat_minor": 5
}
