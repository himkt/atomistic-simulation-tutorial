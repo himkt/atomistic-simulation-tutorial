{
 "cells": [
  {
   "cell_type": "markdown",
   "id": "f9d34c5b-14b6-4d0e-84d1-30e11f23033f",
   "metadata": {},
   "source": [
    "# カノニカル（NVT）アンサンブル"
   ]
  },
  {
   "cell_type": "markdown",
   "id": "4c74ad8c-bcdd-429c-8c82-33b30f63869d",
   "metadata": {},
   "source": [
    "-----\n",
    "## TL;DR\n",
    "\n",
    "- NVT-MDシミュレーションは温度および体積を一定とするシミュレーションで、体積変化や温度変化を無視したいときに使える計算方法。\n",
    "\n",
    "- 用途としては固体中のイオン拡散、スラブ構造表面での吸着や反応、クラスター上の吸着や反応など。\n",
    "\n",
    "- NVT-MDシミュレーションの方法は温度をコントロールする熱浴法によりバリエーションがいくつか存在し、Berendsen熱浴、Langevin熱浴、NoseHoover熱浴などが一般的でASEにも実装されている。\n",
    "\n",
    "- Berendsen熱浴法は簡便で収束性も良いが、系全体の原子の速度分布を一律に変更するため不自然な現象が起こり得る。\n",
    "\n",
    "- Langevin熱浴法は統計的手法で適切にサンプリングされたランダム力を個々の原子に与えることで温度を制御する。各原子を個別に制御するため混相のようなものでも適切に扱える。計算を繰り返しても同じ軌道を再現しないため精密に軌道を解析するのには不向き。\n",
    "\n",
    "- Nosé–Hoover熱浴法は最も汎用的に利用される温度制御法のひとつ。原理的に正しいNVTアンサンブルを再現するが特殊な系で例外が存在する。\n",
    "\n",
    "-----\n",
    "</br>\n",
    "\n",
    "前節ではMDシミュレーションの最もシンプルな形であるNVEアンサンブルのMDシミュレーションついて学びました。\n",
    "\n",
    "つづいて、よく使われる状態分布のひとつである<a href=\"https://ja.wikipedia.org/wiki/%E6%AD%A3%E6%BA%96%E9%9B%86%E5%9B%A3\">カノニカルアンサンブル</a>（正準状態分布とも呼びます）におけるMDシミュレーションについて説明します。カノニカルアンサンブルは粒子数（N）、体積（V）、温度（T）が一定の統計力学的な状態分布です。検討したい対象で体積変化が無視できるような場合に適用されます。たとえば比較的低温領域で体積膨張が無視できるようなシミュレーションが良い例になります。\n",
    "\n",
    "いくつかの実践的な具体的な例を通して、代表的な手法についてみていきましょう。"
   ]
  },
  {
   "cell_type": "markdown",
   "id": "c5780a7e-2a98-4cc2-84e4-3c2b883bbff2",
   "metadata": {},
   "source": [
    "## 計算事例１： fcc-Alの溶融\n",
    "\n",
    "一つ目の事例としてSection 6-1で扱った金属アルミニウムの溶融状態の計算方法についてみてみましょう。\n",
    "\n",
    "Section 6-1では金属アルミニウムが十分に溶融して見えるように1600 Kという高い初期温度でシミュレーションを行いました。しかし、**今回は初期温度を1000 K**で計算してみます。NVEアンサンブルでの計算方法は前Sectionと一緒で温度を1000 Kに設定するだけです。これを実行した結果が以下のようになります。"
   ]
  },
  {
   "cell_type": "markdown",
   "id": "bf3e4431-c18d-4abf-b2e7-d0024663621c",
   "metadata": {},
   "source": [
    "<br>\n",
    "<figure style=\"text-align:center\">\n",
    "  <img src=\"../assets/ch6/Fig6-2_fcc-Al_NVE_1000Kstart.png\" alt=\"fcc-Al_NVE_1000Kstart\">\n",
    "  <figcaption>Fig6-2a. Fcc-Al in NVE ensemble starting at 1000 K</figcaption>\n",
    "  <figcaption>(File: ../input/ch6/6-2_fcc-Al_NVE_1000Kstart.traj)</figcaption>\n",
    "</figure>"
   ]
  },
  {
   "cell_type": "markdown",
   "id": "01c54633-9665-44c0-923b-9f4e9e0336bc",
   "metadata": {},
   "source": [
    "確かに格子はだいぶ揺らいではいますが、元のFCCの結晶構造が明らかに見て取れると思います。Alの融点は933 Kですが、初期温度1000 Kでは不十分なようです。\n",
    "\n",
    "続いてNVTアンサンブルで設定温度1000 Kで実行してみます。計算方法は以下のとおりです。計算時間は最初のNVEアンサンブルの計算と殆ど変わらないと思います。"
   ]
  },
  {
   "cell_type": "code",
   "execution_count": 1,
   "id": "8c566581-49c3-4727-8081-53b782c7d40d",
   "metadata": {},
   "outputs": [
    {
     "name": "stdout",
     "output_type": "stream",
     "text": [
      "atoms =  Atoms(symbols='Al108', pbc=True, cell=[12.899999999999999, 12.899999999999999, 12.899999999999999])\n",
      "taut = 1.000\n",
      "output_filename =  ./output/ch6/fcc-Al_NVT-Berendsen_1000K\n",
      "log_filename =  ./output/ch6/fcc-Al_NVT-Berendsen_1000K.log\n",
      "traj_filename =  ./output/ch6/fcc-Al_NVT-Berendsen_1000K.traj\n",
      "    imd     Etot(eV)    T(K)    stress(mean,xx,yy,zz,yz,xz,xy)(GPa)  elapsed_time(sec)\n",
      "    0   23.764    1000.00    7.17  7.25  7.21  7.05  -0.02  0.01  0.08    0.006\n",
      "  10000   42.595    996.30    0.78  1.39  0.55  0.38  -0.28  -0.70  -0.16    2.817\n",
      "  20000   42.736    1000.18    0.77  0.32  0.53  1.48  -0.64  0.09  0.31    5.308\n",
      "  30000   43.615    1005.25    0.39  0.66  0.04  0.46  -0.22  -0.05  -0.43    7.638\n",
      "  40000   41.198    998.62    1.03  0.88  1.57  0.65  0.15  -0.14  -0.24    9.988\n",
      "  50000   44.245    1003.54    0.46  0.31  0.87  0.20  0.44  0.05  0.09    12.439\n",
      "  60000   43.443    996.85    0.54  0.33  0.95  0.33  -0.01  -0.01  0.12    14.942\n",
      "  70000   42.820    1001.98    0.62  0.68  0.01  1.16  -0.12  -0.15  -0.14    17.407\n",
      "  80000   43.193    997.51    0.67  0.90  0.32  0.79  0.06  -0.42  0.60    19.874\n",
      "  90000   42.709    999.14    0.72  1.04  0.89  0.23  -0.15  0.43  -0.52    22.440\n",
      "  100000   43.472    1005.77    0.79  0.83  0.50  1.02  -0.27  0.15  -0.43    24.910\n",
      "  110000   42.527    1001.55    0.70  0.65  1.09  0.37  -0.03  0.28  -0.21    27.244\n",
      "  120000   41.839    997.81    0.91  1.67  0.80  0.27  -0.13  -0.30  -0.04    29.604\n",
      "  130000   41.808    1002.03    1.05  1.23  0.45  1.47  0.39  -0.09  -0.04    32.158\n",
      "  140000   44.299    999.11    0.38  0.34  0.63  0.16  -0.69  -0.05  0.25    34.649\n",
      "  150000   42.938    1000.57    0.69  0.77  0.40  0.91  0.43  0.34  0.14    36.981\n",
      "  160000   42.212    1001.24    0.95  1.05  0.93  0.87  0.01  0.29  0.24    39.342\n",
      "  170000   45.433    1003.98    0.15  -0.16  0.64  -0.05  -0.49  -0.31  -0.03    41.786\n",
      "  180000   41.399    995.98    1.00  1.40  0.84  0.76  0.16  -0.38  0.15    44.262\n",
      "  190000   42.877    995.20    0.60  0.59  0.82  0.40  0.27  -0.38  -0.11    46.697\n",
      "  200000   43.484    998.53    0.39  0.41  0.49  0.27  0.11  -0.11  -0.17    49.045\n",
      "  210000   42.759    1004.10    0.68  0.70  0.38  0.97  -0.11  0.06  0.33    51.742\n",
      "  220000   43.137    1005.53    0.61  0.38  0.87  0.58  0.47  -0.07  0.34    54.215\n",
      "  230000   41.940    995.78    0.96  0.63  0.99  1.25  0.33  0.07  -0.04    56.760\n",
      "  240000   43.036    1003.38    0.65  0.94  0.13  0.87  0.14  -0.29  0.51    59.170\n",
      "  250000   42.665    996.84    0.87  1.66  0.42  0.51  -0.43  0.30  0.04    61.692\n",
      "  260000   44.228    1003.50    0.42  0.50  0.31  0.46  0.06  -0.39  -0.17    64.245\n",
      "  270000   43.197    995.48    0.54  0.39  0.53  0.70  -0.52  0.37  -0.11    66.569\n",
      "  280000   44.436    1004.10    0.19  0.49  -0.02  0.10  -0.42  0.01  -0.65    69.043\n",
      "  290000   42.370    1004.59    0.92  1.01  0.79  0.95  -0.03  0.41  0.12    71.481\n",
      "  300000   42.416    997.51    0.74  0.67  0.72  0.84  -0.39  0.06  0.35    73.916\n",
      "  310000   42.846    1004.15    0.97  1.59  1.27  0.04  -0.05  0.05  -0.07    76.367\n",
      "  320000   42.884    1001.20    0.68  0.20  0.95  0.90  0.45  -0.11  0.18    78.677\n",
      "  330000   43.735    1002.07    0.46  1.01  0.26  0.12  -0.03  -0.39  -0.13    81.149\n",
      "  340000   40.921    996.90    1.14  1.16  1.30  0.97  0.03  -0.22  -0.37    83.704\n",
      "  350000   42.052    1004.65    0.86  0.58  0.57  1.41  -0.08  0.55  0.41    86.228\n",
      "  360000   42.357    998.21    0.87  1.61  0.37  0.63  -0.08  0.07  -0.19    88.643\n",
      "  370000   43.842    1001.56    0.44  0.33  0.30  0.69  0.04  0.08  -0.07    91.071\n",
      "  380000   42.165    992.93    0.81  0.89  0.56  1.00  0.19  0.28  -0.02    93.538\n",
      "  390000   42.289    999.40    0.77  0.82  0.44  1.06  0.57  0.06  0.14    95.923\n",
      "  400000   41.256    1001.20    1.05  1.32  0.87  0.97  0.21  0.18  0.07    98.280\n",
      "  410000   43.277    1004.14    0.60  0.96  -0.46  1.30  0.15  -0.24  0.32    100.717\n",
      "  420000   42.706    998.98    0.78  0.26  0.70  1.38  0.08  -0.17  0.16    103.225\n",
      "  430000   43.487    1002.87    0.55  0.61  0.95  0.09  0.65  0.00  0.44    105.610\n",
      "  440000   42.766    996.84    0.65  0.38  1.21  0.37  -0.10  0.06  -0.05    108.240\n",
      "  450000   44.156    999.21    0.34  0.90  -0.02  0.14  0.24  -0.57  -0.05    110.721\n",
      "  460000   42.984    994.01    0.39  0.25  0.50  0.40  0.42  -0.49  0.10    113.245\n",
      "  470000   43.123    1000.27    0.76  1.01  0.16  1.13  0.23  0.28  -0.20    115.621\n",
      "  480000   41.686    996.88    1.16  1.48  0.92  1.08  -0.24  -0.32  -0.39    117.992\n",
      "  490000   42.242    1001.48    0.82  0.85  1.25  0.38  -0.19  0.40  -0.24    120.775\n",
      "  500000   41.491    994.26    0.98  0.56  0.82  1.55  -0.40  0.46  0.35    123.383\n",
      "  510000   43.859    1002.16    0.42  0.42  0.06  0.79  0.15  -0.02  0.44    125.704\n",
      "  520000   42.586    990.46    0.69  0.41  0.85  0.80  0.04  -0.26  0.16    128.063\n",
      "  530000   42.460    997.25    0.86  1.10  0.61  0.86  0.27  0.33  -0.39    130.502\n",
      "  540000   42.955    999.53    0.70  0.53  0.88  0.71  -0.37  0.05  -0.71    132.813\n",
      "  550000   42.771    1001.21    0.70  0.29  1.03  0.79  -0.31  -0.01  -0.47    135.228\n",
      "  560000   42.256    997.22    0.77  0.87  0.54  0.89  -0.05  0.22  0.17    137.605\n",
      "  570000   42.087    996.02    0.88  0.99  1.04  0.62  0.63  0.57  0.11    140.115\n",
      "  580000   43.320    997.77    0.35  0.11  0.25  0.70  -0.06  0.52  0.14    142.783\n",
      "  590000   42.736    1000.36    0.88  0.83  0.90  0.91  0.18  -0.19  -0.34    145.267\n",
      "  600000   44.854    992.56    0.28  0.87  -0.30  0.27  -0.36  -0.31  0.41    147.615\n",
      "  610000   41.468    998.07    1.13  0.65  0.72  2.04  0.18  -0.71  -0.50    149.948\n",
      "  620000   43.426    1005.46    0.62  0.68  0.44  0.73  0.10  0.48  0.42    152.408\n",
      "  630000   41.008    998.78    1.11  0.85  0.97  1.51  -0.25  0.15  -0.07    154.852\n",
      "  640000   43.396    1001.12    0.49  0.32  1.00  0.14  -0.27  -0.36  0.41    157.427\n",
      "  650000   41.417    1001.28    0.94  1.25  0.68  0.89  0.07  0.11  0.22    159.765\n",
      "  660000   43.590    1000.58    0.59  0.66  0.67  0.45  -0.79  0.05  -0.79    162.219\n",
      "  670000   43.132    1000.19    0.58  0.71  0.69  0.33  -0.26  0.39  0.34    164.652\n",
      "  680000   44.617    1000.65    0.16  -0.01  -0.23  0.71  -0.02  -0.14  -0.04    166.990\n",
      "  690000   43.604    995.64    0.52  -0.12  1.12  0.56  0.22  0.10  0.22    169.359\n",
      "  700000   42.537    998.31    0.76  1.48  0.78  0.01  -0.34  -0.16  0.52    171.805\n",
      "  710000   42.710    999.26    0.72  1.20  0.08  0.87  0.01  0.55  0.51    174.262\n",
      "  720000   44.009    1005.94    0.56  0.95  0.17  0.55  0.06  0.05  0.10    176.734\n",
      "  730000   42.832    999.42    0.70  -0.02  0.85  1.25  -0.13  0.02  -0.18    179.110\n",
      "  740000   42.963    997.23    0.51  0.49  1.16  -0.13  0.47  0.26  -0.33    181.594\n",
      "  750000   42.596    1003.66    0.68  0.65  0.55  0.84  0.27  0.11  0.41    184.251\n",
      "  760000   43.098    1002.18    0.52  0.66  0.73  0.18  0.20  -0.70  -0.25    186.577\n",
      "  770000   42.849    994.84    0.78  0.52  0.56  1.25  0.22  0.14  -0.31    188.946\n",
      "  780000   42.522    997.69    0.72  0.86  0.33  0.97  0.43  -0.10  -0.12    191.431\n",
      "  790000   43.977    1001.04    0.56  -0.10  0.59  1.19  0.06  -0.34  -0.49    193.843\n",
      "  800000   40.925    1004.56    1.17  0.94  1.42  1.14  -0.20  0.11  -0.07    196.175\n",
      "  810000   43.481    1004.98    0.52  1.24  -0.01  0.34  0.31  0.31  -0.22    198.484\n",
      "  820000   42.603    999.05    0.80  1.45  0.73  0.23  0.47  0.13  -0.35    201.063\n",
      "  830000   42.442    1003.38    0.84  0.61  0.94  0.96  0.20  -0.10  -0.25    203.552\n",
      "  840000   41.750    1003.34    1.12  1.69  0.26  1.41  -0.35  -0.11  0.31    205.986\n",
      "  850000   43.920    1002.67    0.39  1.14  0.08  -0.06  -0.44  0.09  0.40    208.374\n",
      "  860000   44.527    1002.97    0.23  0.03  0.47  0.17  -0.31  0.13  0.46    210.990\n",
      "  870000   43.191    1002.37    0.63  0.75  0.70  0.44  -0.63  0.18  0.32    213.471\n",
      "  880000   43.037    1004.45    0.56  0.98  0.34  0.37  0.07  0.47  0.04    215.827\n",
      "  890000   42.714    1003.43    0.60  0.92  0.67  0.21  0.19  -0.17  -0.23    218.330\n",
      "  900000   40.844    1000.29    1.23  1.61  1.17  0.91  0.05  -0.29  0.49    221.024\n",
      "  910000   45.053    993.79    0.08  0.24  -0.82  0.82  -0.08  0.11  0.46    223.686\n",
      "  920000   43.974    1004.16    0.63  0.20  0.44  1.26  -0.13  -0.19  -0.15    226.195\n",
      "  930000   42.760    999.99    0.66  0.70  0.67  0.62  -0.05  -0.15  0.38    228.824\n",
      "  940000   42.405    997.24    0.87  0.93  0.71  0.98  -0.47  -0.27  -0.00    231.584\n",
      "  950000   43.402    998.64    0.65  0.45  1.19  0.30  1.17  -0.00  0.23    234.054\n",
      "  960000   43.751    998.52    0.37  -0.19  0.90  0.40  -0.40  0.01  -0.09    236.526\n",
      "  970000   44.087    1005.80    0.47  0.33  0.52  0.57  -0.16  -0.14  -0.23    238.863\n",
      "  980000   42.597    1002.03    0.85  0.87  0.27  1.41  -0.02  0.05  -0.32    241.371\n",
      "  990000   44.347    998.92    0.31  -0.11  0.42  0.63  0.52  -0.50  0.55    243.971\n",
      "  1000000   44.655    1001.03    0.27  0.09  0.16  0.55  0.34  0.17  -0.21    246.325\n"
     ]
    },
    {
     "data": {
      "text/plain": [
       "True"
      ]
     },
     "execution_count": 1,
     "metadata": {},
     "output_type": "execute_result"
    }
   ],
   "source": [
    "import os\n",
    "from asap3 import EMT\n",
    "calculator = EMT()\n",
    "\n",
    "import ase\n",
    "from ase.build import bulk\n",
    "from ase.md.velocitydistribution import MaxwellBoltzmannDistribution,Stationary\n",
    "from ase.md.nvtberendsen import NVTBerendsen\n",
    "from ase.md import MDLogger\n",
    "from ase import units\n",
    "from time import perf_counter\n",
    "\n",
    "# Set up a crystal\n",
    "atoms = bulk(\"Al\",\"fcc\",a=4.3,cubic=True)\n",
    "atoms.pbc = True\n",
    "atoms *= 3\n",
    "print(\"atoms = \",atoms)\n",
    "\n",
    "# input parameters\n",
    "time_step    = 1.0    # fsec\n",
    "temperature  = 1000    # Kelvin\n",
    "num_md_steps = 1000000 \n",
    "num_interval = 10000\n",
    "taut         = 1.0    # fs\n",
    "    \n",
    "atoms.calc = calculator\n",
    "    \n",
    "print(f\"taut = {taut:.3f}\")\n",
    "\n",
    "output_filename = \"./output/ch6/fcc-Al_NVT-Berendsen_1000K\"\n",
    "print(\"output_filename = \",output_filename)\n",
    "\n",
    "log_filename = output_filename + \".log\"\n",
    "print(\"log_filename = \",log_filename)\n",
    "traj_filename = output_filename + \".traj\"\n",
    "print(\"traj_filename = \",traj_filename)\n",
    "\n",
    "\n",
    "# Set the momenta corresponding to the given \"temperature\"\n",
    "MaxwellBoltzmannDistribution(atoms, temperature_K=temperature,force_temp=True)\n",
    "Stationary(atoms)  # Set zero total momentum to avoid drifting\n",
    "\n",
    "# run MD\n",
    "dyn = NVTBerendsen(atoms, time_step*units.fs, temperature_K = temperature, taut=taut*units.fs, loginterval=num_interval, trajectory=traj_filename)\n",
    "\n",
    "# Print statements\n",
    "def print_dyn():\n",
    "    imd = dyn.get_number_of_steps()\n",
    "    etot  = atoms.get_total_energy()\n",
    "    temp_K = atoms.get_temperature()\n",
    "    stress = atoms.get_stress(include_ideal_gas=True)/units.GPa\n",
    "    stress_ave = (stress[0]+stress[1]+stress[2])/3.0 \n",
    "    elapsed_time = perf_counter() - start_time\n",
    "    print(f\"  {imd: >3}   {etot:.3f}    {temp_K:.2f}    {stress_ave:.2f}  {stress[0]:.2f}  {stress[1]:.2f}  {stress[2]:.2f}  {stress[3]:.2f}  {stress[4]:.2f}  {stress[5]:.2f}    {elapsed_time:.3f}\")\n",
    "\n",
    "\n",
    "dyn.attach(print_dyn, interval=num_interval)\n",
    "dyn.attach(MDLogger(dyn, atoms, output_filename+\".log\", header=True, stress=True, peratom=True, mode=\"a\"), interval=num_interval)\n",
    "\n",
    "# Now run the dynamics\n",
    "start_time = perf_counter()\n",
    "print(f\"    imd     Etot(eV)    T(K)    stress(mean,xx,yy,zz,yz,xz,xy)(GPa)  elapsed_time(sec)\")\n",
    "dyn.run(num_md_steps)"
   ]
  },
  {
   "cell_type": "markdown",
   "id": "a7ca8f08-509c-44ab-b623-c895517ac9f5",
   "metadata": {},
   "source": [
    "今回は**Berendsen熱浴法**という方法を使っています。この計算手法では原子の速度を目標温度に近づくようにスケーリングして温度調整する方法です。（参考文献[1-3]）\n",
    "\n",
    "具体的には、Section 6-1でも解説したように、温度と速度の関係は\\$$ K = \\sum_{i=1}^{N} \\frac{1}{2} m_i {\\mathbf{v}}_i^2 = \\frac{3}{2} k_B T$$で与えられるため、温度をコントロールするために計算対象である系全体の原子の速度をスケールして制御しています。実際に速度をスケールする係数は以下の式で記述されます。\n",
    "\n",
    "$$\n",
    "\\lambda = \\sqrt{1+\\frac{\\Delta t}{\\tau_T}\\left(\\frac{T_0}{T(t)}-1\\right)}\n",
    "$$\n",
    "\n",
    "ここで$\\Delta t$は時間ステップサイズ、$\\tau_T$は熱浴の時定数です。この方法では時定数$\\tau$をコントロールすることでより緩やかに目標温度に到達することが可能です。$\\tau_T=\\Delta t$のとき、いわゆる速度スケーリング法と呼ばれる最も単純な温度制御法と同一になります。（つまり$\\lambda = \\sqrt{T_0/T(t)} $）この場合、温度は常に所定の温度一定になり、温度の拘束条件が最大になっていると考えられます。逆に$\\tau$が大きくなるにつれて温度制御は緩くなり、目標温度到達するのに時間がかかることになります。現実の物質の状態を考えるとある程度の緩和時間はあってしかるべきで、実用上はMDの計算時間に対して十分短くて済むような設定しするのが一般的です。ちなみに、この方法では系の温度は以下のように指数関数的に減衰するように補正されます。\n",
    "\n",
    "$$\n",
    "\\frac{dT}{dt} = \\frac{T_0-T}{\\tau_T}\n",
    "$$\n",
    "\n",
    "それでは上記のNVT-MDシミュレーションの結果を見てみましょう。"
   ]
  },
  {
   "cell_type": "code",
   "execution_count": 34,
   "id": "07078f15-9cac-4d42-9522-c53919765b88",
   "metadata": {},
   "outputs": [
    {
     "name": "stderr",
     "output_type": "stream",
     "text": [
      "[Parallel(n_jobs=16)]: Using backend ThreadingBackend with 16 concurrent workers.\n",
      "[Parallel(n_jobs=16)]: Done  18 tasks      | elapsed:    5.9s\n",
      "[Parallel(n_jobs=16)]: Done 101 out of 101 | elapsed:   11.7s finished\n"
     ]
    },
    {
     "data": {
      "text/html": [
       "<img src=\"output/ch6/Fig6-2_fcc-Al_NVT-Berendsen_1000K_unwrap.png\"/>"
      ],
      "text/plain": [
       "<IPython.core.display.Image object>"
      ]
     },
     "execution_count": 34,
     "metadata": {},
     "output_type": "execute_result"
    }
   ],
   "source": [
    "from ase.io import Trajectory\n",
    "from pfcc_extras.visualize.povray import traj_to_apng\n",
    "from IPython.display import Image\n",
    "\n",
    "\n",
    "traj = Trajectory(traj_filename)\n",
    "traj_to_apng(traj, f\"output/ch6/Fig6-2_fcc-Al_NVT-Berendsen_1000K_unwrap.png\", rotation=\"0x,0y,0z\", clean=True, n_jobs=16)\n",
    "\n",
    "Image(url=\"output/ch6/Fig6-2_fcc-Al_NVT-Berendsen_1000K_unwrap.png\")"
   ]
  },
  {
   "cell_type": "code",
   "execution_count": 4,
   "id": "759e23f5-b4a9-4aac-8ad9-450209bde3cc",
   "metadata": {},
   "outputs": [],
   "source": [
    "# Please remove comment out if you want to show trajectory in nglviewer.\n",
    "\n",
    "# from pfcc_extras.visualize.view import view_ngl\n",
    "# view_ngl(traj)"
   ]
  },
  {
   "cell_type": "markdown",
   "id": "c2a6ebe4-5edd-4bca-a94c-63f5f8782401",
   "metadata": {},
   "source": [
    "<br>\n",
    "<figure style=\"text-align:center\">\n",
    "  <img src=\"../assets/ch6/Fig6-2_fcc-Al_NVT-Berendsen_1000K.png\" alt=\"fcc-Al_NVE_1000Kstart\">\n",
    "  <figcaption>Fig6-2b. Fcc-Al in NVT ensemble using Berendsen thermostat at 1000 K</figcaption>\n",
    "  <figcaption>(File: ../input/ch6/6-2_fcc-Al_NVT-Berendsen_1000K.traj\")</figcaption>\n",
    "</figure>"
   ]
  },
  {
   "cell_type": "markdown",
   "id": "6ecbae1d-931f-4b7b-9f0f-bb5c2489529e",
   "metadata": {},
   "source": [
    "先ほどのNVE計算と打って変わって構造は非常にダイナミックに動いており、挙動は複雑でほぼランダムに配置された溶融状態であることが見て取れます。これはNVTアンサンブルでの計算で常に温度が1000 Kになるようにコントロールされているので常に融点を超えた状態になっているためです。（注釈：実際ASEで実行した結果を見ると原子が激しく拡散してセルの外に広がっていくことが分かります。表示の便宜上、上図はwrap関数を用いて原子をセルの内側に戻して描画しています。）\n",
    "\n",
    "以下のプロットがNVEとNVTアンサンブルで計算した場合の全エネルギー（Tot.E）、ポテンシャルエネルギー（PE）、運動エネルギー（KE）、系全体の温度（Temp.）の時間発展になります。当然ではありますが、NVEアンサンブルでは全エネルギー、NVTアンサンブルでは温度が一定になっていることが見て取れます。それに対してBerendsen 熱浴法では全エネルギーは揺らぎますが、運動エネルギーと温度はほぼ一定に保たれています。（実際は小さな揺らぎらありますが、グラフのスケールの問題で揺らぎが小さくて見えていません。）"
   ]
  },
  {
   "cell_type": "markdown",
   "id": "3818e922-bffa-41e6-8463-6f46394b47ab",
   "metadata": {},
   "source": [
    "<p class=\"aligncenter\">\n",
    "<div>\n",
    "    <figure style=\"text-align: center\">\n",
    "        <img src=\"../assets/ch6/Fig6-2_fcc-Al_NVE-VelocityVerlet_1000K.png\"/>\n",
    "        <img src=\"../assets/ch6/Fig6-2_fcc-Al_NVT-Berendsen_1000K_E_vs_t.png\"/>\n",
    "        <figcaption align = \"center\">Fig.6-2c. Comparison of energies and temperatures between NVE (top) and NVT (bottom) calculations.</figcaption>\n",
    "    </figure>\n",
    "</div>\n",
    "</p>\n",
    "</br>"
   ]
  },
  {
   "cell_type": "markdown",
   "id": "ba7b2f6c-43ab-4edd-843b-d404b85538e5",
   "metadata": {},
   "source": [
    "上記のNVTに関するプロットは以下のように行うことができます。NVEに関しては前章をご参照ください。"
   ]
  },
  {
   "cell_type": "code",
   "execution_count": 16,
   "id": "9fd111b4-b579-45ff-a0d4-928436105fa7",
   "metadata": {},
   "outputs": [
    {
     "name": "stdout",
     "output_type": "stream",
     "text": [
      "Time[ps]    Etot/N[eV]   Epot/N[eV]   Ekin/N[eV]    T[K]      ---------------------- stress [GPa] -----------------------\n",
      "0.0000           0.2200       0.0908       0.1293  1000.0      7.254      7.207      7.053     -0.024      0.005      0.077\n",
      "10.0000          0.3944       0.2656       0.1288   996.3      1.394      0.554      0.384     -0.275     -0.700     -0.159\n",
      "20.0000          0.3957       0.2664       0.1293  1000.2      0.319      0.527      1.478     -0.642      0.093      0.307\n",
      "30.0000          0.4038       0.2739       0.1299  1005.2      0.665      0.036      0.455     -0.216     -0.050     -0.433\n",
      "40.0000          0.3815       0.2524       0.1291   998.6      0.882      1.565      0.654      0.153     -0.140     -0.239\n",
      "50.0000          0.4097       0.2800       0.1297  1003.5      0.311      0.870      0.201      0.444      0.050      0.090\n",
      "60.0000          0.4023       0.2734       0.1289   996.9      0.330      0.954      0.332     -0.006     -0.014      0.119\n",
      "70.0000          0.3965       0.2670       0.1295  1002.0      0.683      0.009      1.156     -0.118     -0.154     -0.139\n",
      "80.0000          0.3999       0.2710       0.1289   997.5      0.904      0.321      0.791      0.060     -0.415      0.601\n"
     ]
    }
   ],
   "source": [
    "!head ./output/ch6/fcc-Al_NVT-Berendsen_1000K.log"
   ]
  },
  {
   "cell_type": "code",
   "execution_count": 24,
   "id": "4aeacf01-6aa9-416d-985c-1d32ab02f5db",
   "metadata": {},
   "outputs": [
    {
     "data": {
      "text/html": [
       "<div>\n",
       "<style scoped>\n",
       "    .dataframe tbody tr th:only-of-type {\n",
       "        vertical-align: middle;\n",
       "    }\n",
       "\n",
       "    .dataframe tbody tr th {\n",
       "        vertical-align: top;\n",
       "    }\n",
       "\n",
       "    .dataframe thead th {\n",
       "        text-align: right;\n",
       "    }\n",
       "</style>\n",
       "<table border=\"1\" class=\"dataframe\">\n",
       "  <thead>\n",
       "    <tr style=\"text-align: right;\">\n",
       "      <th></th>\n",
       "      <th>Time[ps]</th>\n",
       "      <th>Etot/N[eV]</th>\n",
       "      <th>Epot/N[eV]</th>\n",
       "      <th>Ekin/N[eV]</th>\n",
       "      <th>T[K]</th>\n",
       "      <th>stressxx</th>\n",
       "      <th>stressyy</th>\n",
       "      <th>stresszz</th>\n",
       "      <th>stressyz</th>\n",
       "      <th>stressxz</th>\n",
       "      <th>stressxy</th>\n",
       "    </tr>\n",
       "  </thead>\n",
       "  <tbody>\n",
       "    <tr>\n",
       "      <th>0</th>\n",
       "      <td>0.0</td>\n",
       "      <td>0.2200</td>\n",
       "      <td>0.0908</td>\n",
       "      <td>0.1293</td>\n",
       "      <td>1000.0</td>\n",
       "      <td>7.254</td>\n",
       "      <td>7.207</td>\n",
       "      <td>7.053</td>\n",
       "      <td>-0.024</td>\n",
       "      <td>0.005</td>\n",
       "      <td>0.077</td>\n",
       "    </tr>\n",
       "    <tr>\n",
       "      <th>1</th>\n",
       "      <td>10.0</td>\n",
       "      <td>0.3944</td>\n",
       "      <td>0.2656</td>\n",
       "      <td>0.1288</td>\n",
       "      <td>996.3</td>\n",
       "      <td>1.394</td>\n",
       "      <td>0.554</td>\n",
       "      <td>0.384</td>\n",
       "      <td>-0.275</td>\n",
       "      <td>-0.700</td>\n",
       "      <td>-0.159</td>\n",
       "    </tr>\n",
       "    <tr>\n",
       "      <th>2</th>\n",
       "      <td>20.0</td>\n",
       "      <td>0.3957</td>\n",
       "      <td>0.2664</td>\n",
       "      <td>0.1293</td>\n",
       "      <td>1000.2</td>\n",
       "      <td>0.319</td>\n",
       "      <td>0.527</td>\n",
       "      <td>1.478</td>\n",
       "      <td>-0.642</td>\n",
       "      <td>0.093</td>\n",
       "      <td>0.307</td>\n",
       "    </tr>\n",
       "    <tr>\n",
       "      <th>3</th>\n",
       "      <td>30.0</td>\n",
       "      <td>0.4038</td>\n",
       "      <td>0.2739</td>\n",
       "      <td>0.1299</td>\n",
       "      <td>1005.2</td>\n",
       "      <td>0.665</td>\n",
       "      <td>0.036</td>\n",
       "      <td>0.455</td>\n",
       "      <td>-0.216</td>\n",
       "      <td>-0.050</td>\n",
       "      <td>-0.433</td>\n",
       "    </tr>\n",
       "    <tr>\n",
       "      <th>4</th>\n",
       "      <td>40.0</td>\n",
       "      <td>0.3815</td>\n",
       "      <td>0.2524</td>\n",
       "      <td>0.1291</td>\n",
       "      <td>998.6</td>\n",
       "      <td>0.882</td>\n",
       "      <td>1.565</td>\n",
       "      <td>0.654</td>\n",
       "      <td>0.153</td>\n",
       "      <td>-0.140</td>\n",
       "      <td>-0.239</td>\n",
       "    </tr>\n",
       "    <tr>\n",
       "      <th>...</th>\n",
       "      <td>...</td>\n",
       "      <td>...</td>\n",
       "      <td>...</td>\n",
       "      <td>...</td>\n",
       "      <td>...</td>\n",
       "      <td>...</td>\n",
       "      <td>...</td>\n",
       "      <td>...</td>\n",
       "      <td>...</td>\n",
       "      <td>...</td>\n",
       "      <td>...</td>\n",
       "    </tr>\n",
       "    <tr>\n",
       "      <th>96</th>\n",
       "      <td>960.0</td>\n",
       "      <td>0.4051</td>\n",
       "      <td>0.2760</td>\n",
       "      <td>0.1291</td>\n",
       "      <td>998.5</td>\n",
       "      <td>-0.185</td>\n",
       "      <td>0.898</td>\n",
       "      <td>0.396</td>\n",
       "      <td>-0.396</td>\n",
       "      <td>0.007</td>\n",
       "      <td>-0.086</td>\n",
       "    </tr>\n",
       "    <tr>\n",
       "      <th>97</th>\n",
       "      <td>970.0</td>\n",
       "      <td>0.4082</td>\n",
       "      <td>0.2782</td>\n",
       "      <td>0.1300</td>\n",
       "      <td>1005.8</td>\n",
       "      <td>0.333</td>\n",
       "      <td>0.519</td>\n",
       "      <td>0.572</td>\n",
       "      <td>-0.160</td>\n",
       "      <td>-0.140</td>\n",
       "      <td>-0.234</td>\n",
       "    </tr>\n",
       "    <tr>\n",
       "      <th>98</th>\n",
       "      <td>980.0</td>\n",
       "      <td>0.3944</td>\n",
       "      <td>0.2649</td>\n",
       "      <td>0.1295</td>\n",
       "      <td>1002.0</td>\n",
       "      <td>0.873</td>\n",
       "      <td>0.273</td>\n",
       "      <td>1.408</td>\n",
       "      <td>-0.015</td>\n",
       "      <td>0.048</td>\n",
       "      <td>-0.325</td>\n",
       "    </tr>\n",
       "    <tr>\n",
       "      <th>99</th>\n",
       "      <td>990.0</td>\n",
       "      <td>0.4106</td>\n",
       "      <td>0.2815</td>\n",
       "      <td>0.1291</td>\n",
       "      <td>998.9</td>\n",
       "      <td>-0.108</td>\n",
       "      <td>0.416</td>\n",
       "      <td>0.628</td>\n",
       "      <td>0.519</td>\n",
       "      <td>-0.498</td>\n",
       "      <td>0.553</td>\n",
       "    </tr>\n",
       "    <tr>\n",
       "      <th>100</th>\n",
       "      <td>1000.0</td>\n",
       "      <td>0.4135</td>\n",
       "      <td>0.2841</td>\n",
       "      <td>0.1294</td>\n",
       "      <td>1001.0</td>\n",
       "      <td>0.093</td>\n",
       "      <td>0.162</td>\n",
       "      <td>0.550</td>\n",
       "      <td>0.335</td>\n",
       "      <td>0.173</td>\n",
       "      <td>-0.206</td>\n",
       "    </tr>\n",
       "  </tbody>\n",
       "</table>\n",
       "<p>101 rows × 11 columns</p>\n",
       "</div>"
      ],
      "text/plain": [
       "     Time[ps]  Etot/N[eV]  Epot/N[eV]  Ekin/N[eV]    T[K]  stressxx  stressyy  \\\n",
       "0         0.0      0.2200      0.0908      0.1293  1000.0     7.254     7.207   \n",
       "1        10.0      0.3944      0.2656      0.1288   996.3     1.394     0.554   \n",
       "2        20.0      0.3957      0.2664      0.1293  1000.2     0.319     0.527   \n",
       "3        30.0      0.4038      0.2739      0.1299  1005.2     0.665     0.036   \n",
       "4        40.0      0.3815      0.2524      0.1291   998.6     0.882     1.565   \n",
       "..        ...         ...         ...         ...     ...       ...       ...   \n",
       "96      960.0      0.4051      0.2760      0.1291   998.5    -0.185     0.898   \n",
       "97      970.0      0.4082      0.2782      0.1300  1005.8     0.333     0.519   \n",
       "98      980.0      0.3944      0.2649      0.1295  1002.0     0.873     0.273   \n",
       "99      990.0      0.4106      0.2815      0.1291   998.9    -0.108     0.416   \n",
       "100    1000.0      0.4135      0.2841      0.1294  1001.0     0.093     0.162   \n",
       "\n",
       "     stresszz  stressyz  stressxz  stressxy  \n",
       "0       7.053    -0.024     0.005     0.077  \n",
       "1       0.384    -0.275    -0.700    -0.159  \n",
       "2       1.478    -0.642     0.093     0.307  \n",
       "3       0.455    -0.216    -0.050    -0.433  \n",
       "4       0.654     0.153    -0.140    -0.239  \n",
       "..        ...       ...       ...       ...  \n",
       "96      0.396    -0.396     0.007    -0.086  \n",
       "97      0.572    -0.160    -0.140    -0.234  \n",
       "98      1.408    -0.015     0.048    -0.325  \n",
       "99      0.628     0.519    -0.498     0.553  \n",
       "100     0.550     0.335     0.173    -0.206  \n",
       "\n",
       "[101 rows x 11 columns]"
      ]
     },
     "execution_count": 24,
     "metadata": {},
     "output_type": "execute_result"
    }
   ],
   "source": [
    "import pandas as pd\n",
    "\n",
    "df = pd.read_csv(\n",
    "    log_filename,\n",
    "    delim_whitespace=True,\n",
    "    names=[\"Time[ps]\", \"Etot/N[eV]\", \"Epot/N[eV]\", \"Ekin/N[eV]\", \"T[K]\",\n",
    "           \"stressxx\", \"stressyy\", \"stresszz\", \"stressyz\", \"stressxz\", \"stressxy\"],\n",
    "    skiprows=1,\n",
    "    header=None,\n",
    ")\n",
    "df"
   ]
  },
  {
   "cell_type": "code",
   "execution_count": 23,
   "id": "b3899be4-fcb0-4b8d-8c28-7be256a3a82f",
   "metadata": {},
   "outputs": [
    {
     "data": {
      "image/png": "[encoded data removed]",
      "text/plain": [
       "<Figure size 720x360 with 4 Axes>"
      ]
     },
     "metadata": {
      "needs_background": "light"
     },
     "output_type": "display_data"
    }
   ],
   "source": [
    "import numpy as np\n",
    "import matplotlib.pyplot as plt\n",
    "\n",
    "\n",
    "fig = plt.figure(figsize=(10, 5))\n",
    "\n",
    "ax1 = fig.add_subplot(4, 1, 1)\n",
    "ax1.set_xticklabels([])  # x軸ラベル\n",
    "ax1.set_ylabel('Tot E (eV)')  # y軸ラベル\n",
    "ax1.plot(df[\"Time[ps]\"], df[\"Etot/N[eV]\"], color=\"blue\",alpha=0.5)\n",
    "\n",
    "ax2 = fig.add_subplot(4, 1, 2)\n",
    "ax2.set_xticklabels([])  # x軸ラベル\n",
    "ax2.set_ylabel('P.E. (eV)')  # y軸ラベル\n",
    "ax2.plot(df[\"Time[ps]\"], df[\"Epot/N[eV]\"], color=\"green\",alpha=0.5)\n",
    "\n",
    "ax3 = fig.add_subplot(4, 1, 3)\n",
    "ax3.set_xticklabels([])  # x軸ラベル\n",
    "ax3.set_ylabel('K.E. (eV)')  # y軸ラベル\n",
    "ax3.set_ylim([0.0, 0.2])\n",
    "ax3.plot(df[\"Time[ps]\"], df[\"Ekin/N[eV]\"], color=\"orange\",alpha=0.5)\n",
    "\n",
    "ax4 = fig.add_subplot(4, 1, 4)\n",
    "ax4.set_xlabel('time (ps)')  # x軸ラベル\n",
    "ax4.set_ylabel('Temp. (K)')  # y軸ラベル\n",
    "ax4.plot(df[\"Time[ps]\"], df[\"T[K]\"], color=\"red\",alpha=0.5)\n",
    "ax4.set_ylim([500., 1700])\n",
    "\n",
    "fig.suptitle(\"Time evolution of total, potential, and kinetic energies, and temperature in NVT.\", y=0)\n",
    "\n",
    "#plt.savefig(\"Fig6-2_fcc-Al_NVT-Berendsen_1000K_E_vs_t.png\")  # <- Use if saving to an image file is desired\n",
    "plt.show()"
   ]
  },
  {
   "cell_type": "markdown",
   "id": "9892c6eb-6360-4364-b62e-87087f147cb5",
   "metadata": {},
   "source": [
    "Berendsen熱浴法を用いた計算に関する注意点について。\n",
    "\n",
    "1. 適切な時定数の設定。\n",
    "Berendsen熱浴法には温度制御パラメーターに時定数$\\tau$があります。この$\\tau$は目的温度に到達するための緩和時間を決めるパラメーターであり、$\\tau$が小さいと収束の速度が速まります。$\\tau$が余りに小さいと計算が不安定になり温度の値が不自然な挙動を示します。一般に$\\tau$はMDシミュレーションの<b>タイムステップの数倍から5倍程度が適切です</b>。上記のfcc-Alの系に対して時定数$\\tau$を変化した際の系全体の温度の挙動が以下のグラフで示しています。(Fig.6-2d参照）前記のとおり、$\\tau$が0.2 fsの場合非常に不安定な挙動を示しており、大きく温度が上下に遷移して平衡状態を保てなくなっています。$\\tau$が1もしくは2 fsではかなりタイトに温度が制御されており、5～10 fsで温度制御が緩くなり、比較的揺らぎは大きいですがより現実的な領域の揺らぎになっていると考えられます。"
   ]
  },
  {
   "cell_type": "markdown",
   "id": "812bccf0-d278-4840-a261-2fc42bb284e2",
   "metadata": {},
   "source": [
    "<figure style=\"text-align: center\">\n",
    "    <img src=\"../assets/ch6/Fig6-2_fcc-Al_NVT-Berendsen_1000K_taut.png\"/>\n",
    "    <figcaption align = \"center\">Fig.6-2d. Temperature evolution with various time constant $\\tau$.</figcaption>\n",
    "</figure>\n",
    "</br>"
   ]
  },
  {
   "cell_type": "markdown",
   "id": "62f3e4fd-0b7c-48c1-954d-519c0ae03bd6",
   "metadata": {},
   "source": [
    "2. 非現実的な状態に陥る可能性。Berendsen熱浴法はいわゆる速度スケーリング法と呼ばれる部類の手法で、計算対象の全原子の速度を一律に変更します。速度分布全体を移動することで系全体の温度を目標温度に合わせに行きますが、この操作自体が非常に人工的で、熱力学的に正しいカノニカル（NVT）アンサンブルとは異なります。この手法の大きな問題は複数の挙動が大きく異なる物質が共存している系に対して適用すると非現実的な状態を作ってしまうことです。例えば固体と液体の界面の計算をNVTで行いたい場合、安易にBerendsen熱浴法を適用すると片方は高温に、もう一方は定温になり、トータルでは目標温度になるという不自然なことが起こり得ます。(本章末尾で具体例を解説しています。)\n",
    "\n",
    "上記の点を気を付けて熱力学的な厳密性を求めるのでなければ、Berendsen熱浴法は平衡状態への収束が早く、原理的にもシンプルで分かりやすいので非常に便利な計算手法です。例えば単純に「熱による揺らぎを与えた状態を作りたい」などの場合には非常に有効な計算手法です。"
   ]
  },
  {
   "cell_type": "markdown",
   "id": "ef5b2b87-f36f-4591-a62c-76aef98ed1ce",
   "metadata": {},
   "source": [
    "## 計算事例２： 固体中のイオン拡散"
   ]
  },
  {
   "cell_type": "markdown",
   "id": "18563bb8-2a96-4346-987f-11c0a5e3c633",
   "metadata": {},
   "source": [
    "さて、次のNVTアンサンブルの計算事例として固体電解質中におけるイオン拡散を考えてみます。\n",
    "\n",
    "Li$_{10}$GeP$_{2}$S$_{12}$（LGPS）は近年注目を浴びている全固体電池の固体電解質として注目を集めている物質のひとつで、液系電解質に匹敵する非常に高いイオン伝導度（12 mS/cm @ 298 K）が特徴です。結晶構造は以下のとおりです。（基準となる構造は<a href=\"https://materialsproject.org/\">Materials Project</a>の<a href=\"https://materialsproject.org/materials/mp-696138/\">Li10Ge(PS6)2_mp-696138_computed</a>を用いています。以下に示す構造は、その構造をベースにPFPで最適化したものを使用しています。）\n",
    "\n",
    "Input cif file is modified from  \n",
    "A. Jain*, S.P. Ong*, G. Hautier, W. Chen, W.D. Richards, S. Dacek, S. Cholia, D. Gunter, D. Skinner, G. Ceder, K.A. Persson (*=equal contributions)  \n",
    "The Materials Project: A materials genome approach to accelerating materials innovation\n",
    "APL Materials, 2013, 1(1), 011002.  \n",
    "[doi:10.1063/1.4812323](http://dx.doi.org/10.1063/1.4812323)  \n",
    "[[bibtex]](https://materialsproject.org/static/docs/jain_ong2013.349ca3156250.bib)  \n",
    "Licensed under [CC BY 4.0](https://creativecommons.org/licenses/by/4.0/)  "
   ]
  },
  {
   "cell_type": "code",
   "execution_count": 25,
   "id": "0ec43bc7-71a8-4069-b24a-19b1ec66db5d",
   "metadata": {},
   "outputs": [
    {
     "data": {
      "application/vnd.jupyter.widget-view+json": {
       "model_id": "3b24a3b035824a8eaf9488beb59d9619",
       "version_major": 2,
       "version_minor": 0
      },
      "text/plain": [
       "HBox(children=(NGLWidget(), VBox(children=(Dropdown(description='Show', options=('All', 'Li', 'S', 'Ge', 'P'),…"
      ]
     },
     "metadata": {},
     "output_type": "display_data"
    }
   ],
   "source": [
    "atoms = ase.io.read(\"../input/ch6/LGPS_2x2x1_pfp-opt.cif\")\n",
    "\n",
    "view_ngl(atoms, representations=[\"ball+stick\"])"
   ]
  },
  {
   "cell_type": "markdown",
   "id": "040025a9-3bc9-4a9a-bbb5-43bd886ee7f2",
   "metadata": {},
   "source": [
    "<figure style=\"text-align: center\">\n",
    "    <img src=\"../assets/ch6/Fig6-2_LGPS_2x2x1_pfp-opt.png\", width=\"360pt\">\n",
    "    <figcaption align = \"center\">Fig.6-2e. Crystal structure of Li$_{10}$GeP$_2$S$_{12}$.</figcaption>\n",
    "    <figcaption align = \"center\">(File: ../input/ch6/LGPS_2x2x1_pfp-opt.cif)</figcaption>\n",
    "</figure>\n",
    "</br>"
   ]
  },
  {
   "cell_type": "markdown",
   "id": "32cd6386-888b-4460-91f0-0637495c45ff",
   "metadata": {},
   "source": [
    "計算の便宜上、Unit Cellを2x2x1に拡張しています。これはLiイオンの数を増やすことで統計的に誤差が小さくなることを期待しているからです。計算時間は若干増えるかもしれませんが、実用上、拡張した構造でも全原子含め200原子程度なので特に問題はありません。\n",
    "\n",
    "この材料内でのLiイオン拡散係数をMDシミュレーションを用いて求めてみたいと思います。この材料は組成も複雑で汎用の古典力場が存在しないので[Matlantis](https://matlantis.com/)に実装されているPFPを使います。（学術論文を詳しく調べれば存在する可能性はありますが、すぐに見つからなかった事、見つかったとしても実装の難易度が不明なのでこれらのプロセスに係る時間や労力、精度の問題を考慮しても汎用的な機械学習ポテンシャルであるPFPを使えることは大きな利点です。）\n",
    "\n",
    "今回のNVT-MDシミュレーションの実行スクリプトは以下のとおりです。\n",
    "以下はテスト計算のためMDステップを10ステップとしています。\n",
    "本計算では、1 fs/step で 10^6 steps計算を行い、1 nsのＭＤシミュレーションを行っています。"
   ]
  },
  {
   "cell_type": "code",
   "execution_count": 26,
   "id": "ec499a17-ef4f-4acd-84f2-4f670f28b9eb",
   "metadata": {},
   "outputs": [
    {
     "name": "stdout",
     "output_type": "stream",
     "text": [
      "atoms =  Atoms(symbols='Ge8Li80P16S96', pbc=True, cell=[[17.2189, 0.0, 0.0], [-0.07190443131522067, 17.742454297891182, 0.0], [-0.13259731631828015, -0.4464045597143071, 13.005365377826626]], spacegroup_kinds=...)\n",
      "friction_coeff = 0.002\n",
      "output_filename =  ./output/ch6/Li10Ge(PS6)2_mp-696138_Langevin_773K\n",
      "log_filename =  ./output/ch6/Li10Ge(PS6)2_mp-696138_Langevin_773K.log\n",
      "traj_filename =  ./output/ch6/Li10Ge(PS6)2_mp-696138_Langevin_773K.traj\n",
      "    imd     Etot(eV)    T(K)    stress(mean,xx,yy,zz,yz,xz,xy)(GPa)  elapsed_time(sec)\n",
      "    0   -699.887    0.00    0.00  0.00  0.00  0.00  -0.00  -0.00  0.00    0.094\n",
      "    1   -699.879    0.33    0.00  0.00  0.00  0.00  -0.00  -0.00  0.00    0.361\n",
      "    2   -699.869    0.70    0.00  0.00  0.00  0.00  -0.00  -0.00  0.00    0.521\n",
      "    3   -699.863    0.93    -0.00  -0.00  0.00  -0.00  -0.00  -0.00  0.00    0.608\n",
      "    4   -699.856    1.25    -0.00  -0.01  0.00  -0.00  -0.00  -0.00  0.00    0.866\n",
      "    5   -699.848    1.53    -0.01  -0.01  -0.00  -0.01  -0.00  -0.00  0.00    0.999\n",
      "    6   -699.843    1.75    -0.01  -0.01  -0.00  -0.01  -0.00  -0.01  0.00    1.281\n",
      "    7   -699.834    2.08    -0.01  -0.01  -0.01  -0.01  -0.01  -0.01  0.00    1.359\n",
      "    8   -699.825    2.42    -0.01  -0.02  -0.01  -0.01  -0.00  -0.01  0.00    1.507\n",
      "    9   -699.818    2.67    -0.01  -0.02  -0.01  -0.01  -0.00  -0.01  0.00    1.581\n",
      "   10   -699.811    2.93    -0.02  -0.02  -0.01  -0.02  -0.00  -0.01  0.00    1.769\n"
     ]
    },
    {
     "data": {
      "text/plain": [
       "True"
      ]
     },
     "execution_count": 26,
     "metadata": {},
     "output_type": "execute_result"
    }
   ],
   "source": [
    "from pfp_api_client.pfp.estimator import Estimator, EstimatorCalcMode\n",
    "from pfp_api_client.pfp.calculators.ase_calculator import ASECalculator\n",
    "estimator = Estimator(model_version=\"v2.0.0\",calc_mode=EstimatorCalcMode.CRYSTAL_U0)\n",
    "calculator = ASECalculator(estimator)\n",
    "\n",
    "import ase\n",
    "from ase.md.velocitydistribution import MaxwellBoltzmannDistribution\n",
    "from ase.md.langevin import Langevin\n",
    "from ase.md import MDLogger\n",
    "from ase import units\n",
    "from time import perf_counter\n",
    "\n",
    "# Set up a crystal\n",
    "atoms = ase.io.read(\"../input/ch6/LGPS_2x2x1_pfp-opt.cif\")\n",
    "atoms.pbc=True\n",
    "print(\"atoms = \",atoms)\n",
    "atoms.calc = calculator\n",
    "\n",
    "# input parameters\n",
    "time_step    = 1.0    # fsec\n",
    "temperature  = 773    # Kelvin\n",
    "num_md_steps = 10     # Total MD step, for testing.\n",
    "# num_md_steps = 1e6    # Total MD step, for actual run.\n",
    "num_interval = 1      # Output printing interval\n",
    "friction_coeff = 0.002\n",
    "print(f\"friction_coeff = {friction_coeff:.3f}\")\n",
    "\n",
    "# Define output filenames\n",
    "output_filename = \"./output/ch6/Li10Ge(PS6)2_mp-696138_Langevin_773K\"\n",
    "print(\"output_filename = \",output_filename)\n",
    "log_filename = output_filename + \".log\"\n",
    "print(\"log_filename = \",log_filename)\n",
    "traj_filename = output_filename + \".traj\"\n",
    "print(\"traj_filename = \",traj_filename)\n",
    "\n",
    "# run MD\n",
    "dyn = Langevin(atoms, time_step*units.fs, friction=friction_coeff, temperature_K=temperature, loginterval=num_interval, trajectory=traj_filename)\n",
    "    \n",
    "# Print statements\n",
    "def print_dyn():\n",
    "    imd = dyn.get_number_of_steps()\n",
    "    etot  = atoms.get_total_energy()\n",
    "    temp_K = atoms.get_temperature()\n",
    "    stress = atoms.get_stress(include_ideal_gas=True)/units.GPa\n",
    "    stress_ave = (stress[0]+stress[1]+stress[2])/3.0 \n",
    "    elapsed_time = perf_counter() - start_time\n",
    "    print(f\"  {imd: >3}   {etot:.3f}    {temp_K:.2f}    {stress_ave:.2f}  {stress[0]:.2f}  {stress[1]:.2f}  {stress[2]:.2f}  {stress[3]:.2f}  {stress[4]:.2f}  {stress[5]:.2f}    {elapsed_time:.3f}\")\n",
    "\n",
    "\n",
    "dyn.attach(print_dyn, interval=num_interval)\n",
    "dyn.attach(MDLogger(dyn, atoms, log_filename, header=True, stress=True, peratom=True, mode=\"w\"), interval=num_interval)\n",
    "\n",
    "# Now run the dynamics\n",
    "start_time = perf_counter()\n",
    "print(f\"    imd     Etot(eV)    T(K)    stress(mean,xx,yy,zz,yz,xz,xy)(GPa)  elapsed_time(sec)\")\n",
    "dyn.run(num_md_steps)"
   ]
  },
  {
   "cell_type": "markdown",
   "id": "88a5a4b8-44e1-4594-9abd-feea480690ed",
   "metadata": {},
   "source": [
    "本計算の時間でMDを実行した場合、Trajectoryを可視化すると以下の図が得られました。\n",
    "紫色のLi イオンが大きく動いている(拡散している) ことが見てとれます。\n",
    "なにもない場所に行っているように表示されていますが、周期境界条件のため、実際にはUnit cell外にもGe, P, Sが存在しています。\n",
    "\n",
    "<figure style=\"text-align: center\">\n",
    "    <img src=\"../assets/ch6/Fig6-2_LGPS_2x2x1_Langevin_773K.png\"/>\n",
    "    <figcaption align = \"center\">Li$_{10}$GeP$_{2}$S$_{12}$ crystal at 773 K.</figcaption>\n",
    "</figure>\n",
    "</br>\n"
   ]
  },
  {
   "cell_type": "markdown",
   "id": "c23af361-f1f7-496c-8708-4e70a0fdc9e4",
   "metadata": {},
   "source": [
    "今回は**Langevin熱浴法**を用いてNVT-MDシミュレーションを行います。本手法では個々の原子に係る力をランダムフォースと呼ばれるある確率分布に従う力を作用させることで温度を制御する統計的なアプローチです。（参考文献[1,4]）\n",
    "\n",
    "具体的には、Langevin動力学の運動方程式は以下のような形で書けます。\n",
    "\n",
    "$$\n",
    "m_i\\ddot{\\mathbf{x}_i}(t)=\\mathbf{F}(\\mathbf{x}_i(t)) -\\gamma m_i\\dot{\\mathbf{x}_i}(t)+\\sqrt{2k_B T\\gamma m_i}\\mathbf{\\eta}_i(t)\n",
    "$$\n",
    "\n",
    "ここで$m_i$は対象原子の質量、$\\mathbf{x}_i(t)$は時間$t$における原子$i$の座標ベクトル、$\\mathbf{F}(\\mathbf{x}_i(t))$が原子$i$にかかる力、$\\gamma$は摩擦係数です。右辺最後の項がランダムフォースで、関数$\\mathbf{\\eta}_i(t)$が$<\\mathbf{\\eta}_i(0)\\mathbf{\\eta}_j(t)>=\\delta_{ij}\\delta(t)$の関係を満たす必要があります。これによりカノニカル分布を再現することが出来ます。\n",
    "\n",
    "計算事例１で出てきたBerendsen熱浴法の問題点のところで言及したように、高速に拡散するLiとそれ以外のアニオン構造の運動が極端に異なる場合、Berendsen熱浴法を用いるとこれらの挙動が乖離して非現実的な結果をもたらす危険があります。Langevin熱浴法では個々の原子にかかる力を制御するためこのような問題が起きません。\n",
    "\n",
    "Langevin熱浴法では摩擦係数$\\gamma$を設定する必要があり、計算対象にもよりますが、一般的に1e-4が1e-2が概ね適切な範囲とされています。（値が大きいほど収束条件がタイトになり、目標温度に到達する速度が早まります。）概ね上記の値の範囲で問題ないことが多いですが、新規の計算対象を検討する際には事前検討として、この摩擦係数の値に対するセンシティビティを確認することをオススメします。\n",
    "\n",
    "今回の計算事例は比較的高温状態の773 Kで、シミュレーション時間を1 nsに設定しています。高温でMDを行う理由は十分なLiイオンの拡散を保証するためで、あまり現実的ではない温度領域かもしれません。実際の物質がこの温度領域で安定な保証はありませんが、NVTアンサンブルでは密度が一定に保たれるため、構造は比較的安定に保たれるので拡散係数を計算することが可能です。このような高温状態での計算は一般的によく用いられる手法であり、比較的きれいなデータになりやすいこともあって本Tutorialの目的に適しています。\n",
    "\n",
    "それでは上記のMDのTrajectoryから拡散係数を求めます。まずは対象の原子の初期位置からの平均二乗距離（mean-squared dispacement, MSD）を計算します。（参考文献[5]）\n",
    "\n",
    "$$\n",
    "MSD = \\frac{\\Sigma_i(\\mathbf{x}_i(t)-\\mathbf{x}_i(0))^2}{N}\n",
    "$$\n",
    "\n",
    "ここで$\\mathbf{x}_i(t)$は時間$t$における原子$i$の座標,$N$は対象の原子数です。このMSDを横軸を時間にしてプロットしたものが以下のグラフになります。\n",
    "\n",
    "<figure style=\"text-align: center\">\n",
    "    <img src=\"../assets/ch6/Fig6-2_LGPS_NVT-Langevin_773K.png\"/>\n",
    "    <figcaption align = \"center\">Fig.6-2f. Mean-square displacement of Li-ion in Li$_{10}$GeP$_{2}$S$_{12}$ crystal at 773 K.</figcaption>\n",
    "</figure>\n",
    "</br>\n",
    "\n",
    "ここで得られたMSDから拡散係数は以下の式で計算出来ます。\n",
    "\n",
    "$$\n",
    "D = \\frac{MSD}{6\\Delta t}\n",
    "$$\n",
    "\n",
    "注意点としては、この式は系が十分に平衡状態に達した状態を仮定していて、計算結果に平衡状態でないデータが含まれる場合はその範囲のデータを除去しておく必要があることです。また、温度が低く拡散が起こりにくい、または対象の原子数が少ないなどの場合にMSDのプロットにノイズが含まれる場合、線形回帰などで傾きを計算することでより安定した結果を得ることが出来ます。\n",
    "\n",
    "ここでの計算結果は拡散係数が2.7x10$^{-5}$ cm$^2$/sとなり、概ね既報の計算値とよく一致しています。(参考文献[6]) ただし今回は簡単のため計算条件を最適化していません。実際に精度良い計算を効率よく行いたい場合には、あらかじめ計算ステップ数、計算ステップサイズ、温度、計算対象のサイズなど事前検討でこれらのパラメーターに対する依存性を調べ、良く吟味しておく必要があります。\n",
    "\n",
    "このようにNVTアンサンブルを使うと特定温度での物質の拡散状態を評価できます。これを例えばNVEで検討しようとすると初期温度と定常状態に達した時の温度で差があるので正しく評価することが難しくなります。したがって特定温度での熱平衡状態を観察するのにNVTアンサンブルは有効な手法になります。\n",
    "\n",
    "本計算事例に関して詳しくは、以下もご覧ください。\n",
    "\n",
    " - [硫化物固体電解質中のLi拡散 | MATLANTIS](https://matlantis.com/ja/calculation/li-diffusion-in-li10gep2s12-sulfide-solid-electrolyte)\n",
    " - [matlantis-contrib/matlantis_contrib_examples/MD_Li_diffusion_in_LGPS](https://github.com/matlantis-pfcc/matlantis-contrib/tree/main/matlantis_contrib_examples/MD_Li_diffusion_in_LGPS)"
   ]
  },
  {
   "cell_type": "markdown",
   "id": "5bb03fa5-04fa-4b04-b4e0-af9d30ea8654",
   "metadata": {},
   "source": [
    "## 計算事例３： 金属表面での酸化反応"
   ]
  },
  {
   "cell_type": "markdown",
   "id": "985f9bce-6fbc-420c-a377-d3db8ae343b8",
   "metadata": {},
   "source": [
    "最後の事例として、金属表面における酸化反応の事例を検討します。キレイなfcc-Alの(111)表面があり、酸素雰囲気下に暴露されている状態を考えます。Alは室温で酸化するので、計算上そのような状態が再現出来るのか試行してみます。\n",
    "\n",
    "計算対象のモデルとしては、fcc-Alの(111)のスラブモデルに10Åの真空層を作り、そこにランダムに酸素分子を配置した状態を初期状態とします。"
   ]
  },
  {
   "cell_type": "code",
   "execution_count": 28,
   "id": "baf19272-3b7c-41ff-a1e2-66dd1d7ef059",
   "metadata": {},
   "outputs": [
    {
     "data": {
      "application/vnd.jupyter.widget-view+json": {
       "model_id": "cefce91295a74af0bb71a799369dab3b",
       "version_major": 2,
       "version_minor": 0
      },
      "text/plain": [
       "HBox(children=(NGLWidget(), VBox(children=(Dropdown(description='Show', options=('All', 'O', 'Al'), value='All…"
      ]
     },
     "metadata": {},
     "output_type": "display_data"
    }
   ],
   "source": [
    "atoms = ase.io.read(\"../input/ch6/fcc111_Al_3x4x6_vac10A_20O2_NVT-NoseHoover_300K_wrapped.cif\")\n",
    "\n",
    "view_ngl(atoms, representations=[\"ball+stick\"])"
   ]
  },
  {
   "cell_type": "markdown",
   "id": "1700ec67-98a2-49d7-9e94-7a026b0b6e76",
   "metadata": {},
   "source": [
    "<figure style=\"text-align: center\">\n",
    "    <img src=\"../assets/ch6/Fig6-2_fcc111_Al_3x4x6_vac10A_20O2.png\", width=\"420\"/>\n",
    "    <figcaption align = \"center\">Fig.6-2g. Starting structure of fcc-Al(111) slab with 20 O$_{2}$ molecules.</figcaption>\n",
    "    <figcaption align = \"center\">(File: ../input/ch6/fcc111_Al_3x4x6_vac10A_20O2_NVT-NoseHoover_300K_wrapped.cif)</figcaption>\n",
    "</figure>\n",
    "<br>"
   ]
  },
  {
   "cell_type": "markdown",
   "id": "6f61c045-3be3-419e-99d6-d2431796b2b4",
   "metadata": {},
   "source": [
    "この事例においては金属界面と気相分子の反応を扱う必要があるので[Matlantis](https://matlantis.com/)に実装されているPFPを使います。一般的には精度よく検討するにはDFTのような計算手法が必要になりますが、原子数も多くセルサイズも大きいため計算負荷が非常に高くなります。その点、PFPをもちいればDFTに匹敵する精度で反応プロセスも再現でき、原子数も十分確保できるので非常に高速に試行検討することが可能です。\n",
    "\n",
    "それではこれを300 KでNVTアンサンブルのMDシミュレーションを行ってみます。計算スクリプトは以下のとおりです。<br/>\n",
    "(テスト計算のため`num_md_steps`を小さく設定しています。実際の計算時は大きくして実行してください。)"
   ]
  },
  {
   "cell_type": "code",
   "execution_count": 30,
   "id": "115afdc7-805b-4645-91c2-e56f95f912b6",
   "metadata": {},
   "outputs": [
    {
     "name": "stdout",
     "output_type": "stream",
     "text": [
      "atoms =  Atoms(symbols='Al72O40', pbc=True, cell=[8.59135, 9.92043, 31.6913], spacegroup_kinds=..., calculator=ASECalculator(...))\n",
      "ttime = 20.000\n",
      "output_filename =  ./output/ch6/fcc111_Al_3x4x6_vac10A_20O2_NVT-NoseHoover_300K\n",
      "log_filename =  ./output/ch6/fcc111_Al_3x4x6_vac10A_20O2_NVT-NoseHoover_300K.log\n",
      "traj_filename =  ./output/ch6/fcc111_Al_3x4x6_vac10A_20O2_NVT-NoseHoover_300K.traj\n",
      "    imd     Etot(eV)    T(K)    stress(mean,xx,yy,zz,yz,xz,xy)(GPa)  elapsed_time(sec)\n",
      "  100   -385.605    259.76    1.55  1.81  1.83  1.01  0.13  -0.22  0.11    22.222\n",
      "  200   -396.027    325.38    0.86  0.85  1.16  0.58  0.11  0.00  -0.36    46.589\n"
     ]
    }
   ],
   "source": [
    "import os\n",
    "from pfp_api_client.pfp.estimator import Estimator, EstimatorCalcMode\n",
    "from pfp_api_client.pfp.calculators.ase_calculator import ASECalculator\n",
    "estimator = Estimator(model_version=\"v2.0.0\",calc_mode=EstimatorCalcMode.CRYSTAL_U0_PLUS_D3)\n",
    "calculator = ASECalculator(estimator)\n",
    "\n",
    "from ase.io import read,write\n",
    "from ase.build import bulk\n",
    "from ase.md.velocitydistribution import MaxwellBoltzmannDistribution,Stationary\n",
    "from ase.md.npt import NPT\n",
    "from ase.md import MDLogger\n",
    "from ase import units\n",
    "from time import perf_counter\n",
    "\n",
    "# Set up a crystal\n",
    "atoms = read(\"../input/ch6/fcc111_Al_3x4x6_vac10A_20O2_NVT-NoseHoover_300K_wrapped.cif\")\n",
    "atoms.pbc = True\n",
    "atoms.calc = calculator\n",
    "print(\"atoms = \",atoms)\n",
    "\n",
    "# input parameters\n",
    "time_step    = 1.0    # fsec\n",
    "temperature  = 300    # Kelvin\n",
    "num_md_steps = 200    # For test\n",
    "# num_md_steps = 10000  # For actual run \n",
    "num_interval = 100\n",
    "ttime        = 20.0   # tau_T thermostat time constant in fsec    \n",
    "print(f\"ttime = {ttime:.3f}\")\n",
    "\n",
    "output_filename = \"./output/ch6/fcc111_Al_3x4x6_vac10A_20O2_NVT-NoseHoover_300K\"\n",
    "print(\"output_filename = \",output_filename)\n",
    "\n",
    "log_filename = output_filename + \".log\"\n",
    "print(\"log_filename = \",log_filename)\n",
    "traj_filename = output_filename + \".traj\"\n",
    "print(\"traj_filename = \",traj_filename)\n",
    "\n",
    "\n",
    "# Set the momenta corresponding to the given \"temperature\"\n",
    "MaxwellBoltzmannDistribution(atoms, temperature_K=temperature,force_temp=True)\n",
    "Stationary(atoms)  # Set zero total momentum to avoid drifting\n",
    "\n",
    "# run MD\n",
    "dyn = NPT(atoms,\n",
    "          time_step*units.fs,\n",
    "          temperature_K = temperature,\n",
    "          externalstress = 0.1e-6 * units.GPa,  # Ignored in NVT\n",
    "          ttime = ttime*units.fs,\n",
    "          pfactor = None,   # None for NVT\n",
    "          loginterval=num_interval,\n",
    "          trajectory=traj_filename\n",
    "          )\n",
    "\n",
    "# Print statements\n",
    "def print_dyn():\n",
    "    imd = dyn.get_number_of_steps()\n",
    "    etot  = atoms.get_total_energy()\n",
    "    temp_K = atoms.get_temperature()\n",
    "    stress = atoms.get_stress(include_ideal_gas=True)/units.GPa\n",
    "    stress_ave = (stress[0]+stress[1]+stress[2])/3.0 \n",
    "    elapsed_time = perf_counter() - start_time\n",
    "    print(f\"  {imd: >3}   {etot:.3f}    {temp_K:.2f}    {stress_ave:.2f}  {stress[0]:.2f}  {stress[1]:.2f}  {stress[2]:.2f}  {stress[3]:.2f}  {stress[4]:.2f}  {stress[5]:.2f}    {elapsed_time:.3f}\")\n",
    "\n",
    "\n",
    "dyn.attach(print_dyn, interval=num_interval)\n",
    "dyn.attach(MDLogger(dyn, atoms, log_filename, header=True, stress=True, peratom=True, mode=\"w\"), interval=num_interval)\n",
    "\n",
    "# Now run the dynamics\n",
    "start_time = perf_counter()\n",
    "print(f\"    imd     Etot(eV)    T(K)    stress(mean,xx,yy,zz,yz,xz,xy)(GPa)  elapsed_time(sec)\")\n",
    "dyn.run(num_md_steps)"
   ]
  },
  {
   "cell_type": "markdown",
   "id": "319b9d48-2b39-4cff-ad07-2cbb8652067a",
   "metadata": {},
   "source": [
    "今回、熱浴法としては**Nosé–Hoover熱浴**を使用しています。\n",
    "上記コードでは`NPT` moduleが指定されていますが、`pfactor=None` と指定することでNosé–Hoover熱浴を用いたNVTのシミュレーションを行う事ができます。\n",
    "\n",
    " - https://wiki.fysik.dtu.dk/ase/ase/md.html#nose-hoover-dynamics\n",
    "\n",
    "この方法では2つの新たな独立変数（$\\xi$と$s$）を運動方程式に導入することで、仮想の熱浴と接している状態を再現し温度を制御します。（参考文献[1,3-5]）解かなければいけない運動方程式は以下のような形になります。\n",
    "\n",
    "$$ \\dot{\\mathbf{x}_i} = \\mathbf{p}_i/m_i $$\n",
    "\n",
    "$$ \\dot{\\mathbf{p}_i} = \\mathbf{F_i}-\\zeta \\mathbf{p}_i $$\n",
    "\n",
    "$$ \\dot{\\zeta} = \\frac{1}{\\tau_T^2}\\left(\\frac{T(t)}{T_o}-1\\right) $$\n",
    "\n",
    "$$ \\dot{s} = 3N s\\zeta $$\n",
    "\n",
    "制御変数は新たな時定数（$\\tau_T$）でユーザーはこれを適切な値に設定する必要があります。[ASEのマニュアル](https://wiki.fysik.dtu.dk/ase/ase/md.html#module-ase.md.npt)に従うと、25 fs付近が適切な値とされています。あまり小さい値は計算を不安定にし、大きすぎる値は収束が極端に悪くなり目標温度に到達するまでの時間がかかりすぎることになります。\n",
    "\n",
    "それでは計算結果のtrajectoryを見てみましょう。(以下はAPNGファイルのみですが、キャプションにtrajファイル名が記載されているので、Matlantis上で実際にtrajectoryファイルを可視化して挙動を確認してみてください。"
   ]
  },
  {
   "cell_type": "code",
   "execution_count": 31,
   "id": "e476077e-84ab-4fdf-8212-a84df2bfeeac",
   "metadata": {},
   "outputs": [
    {
     "data": {
      "application/vnd.jupyter.widget-view+json": {
       "model_id": "99e8ab2feccd411c95caaf8af6fb5107",
       "version_major": 2,
       "version_minor": 0
      },
      "text/plain": [
       "HBox(children=(NGLWidget(max_frame=99), VBox(children=(Dropdown(description='Show', options=('All', 'O', 'Al')…"
      ]
     },
     "metadata": {},
     "output_type": "display_data"
    }
   ],
   "source": [
    "from pfcc_extras.visualize.view import view_ngl\n",
    "from ase.io import Trajectory\n",
    "traj = Trajectory(\"./output/ch6/fcc111_Al_3x4x6_vac10A_20O2_NVT-NoseHoover_300K_wrapped.traj\")\n",
    "\n",
    "v = view_ngl(traj, representations=[\"ball+stick\"], replace_structure=True)\n",
    "display(v)"
   ]
  },
  {
   "cell_type": "markdown",
   "id": "eb3da359-1394-4240-b73b-b166019998cb",
   "metadata": {},
   "source": [
    "<figure style=\"text-align: center\">\n",
    "    <img src=\"../assets/ch6/Fig6-2_fcc111_Al_3x4x6_vac10A_20O2_NVT-NoseHoover_300K.png\", width=\"160pt\"/>\n",
    "    <figcaption align = \"center\">Fig.6-2h. Starting structure of fcc-Al(111) slab with 20 O$_{2}$ molecules.</figcaption>\n",
    "    <figcaption align = \"center\">(File: ./ouput/ch6/fcc111_Al_3x4x6_vac10A_20O2_NVT-NoseHoover_300K_wrapped.traj)</figcaption>\n",
    "</figure>\n",
    "<br>"
   ]
  },
  {
   "cell_type": "markdown",
   "id": "a7775481-b4ab-4d3a-9943-54b830912d2d",
   "metadata": {},
   "source": [
    "ご覧のとおり、最初はランダムに空隙中に配置された酸素分子が短時間のうちにAl表面に吸着、乖離して酸化アルミニウムを形成していく様子が見てとれます。アルミニウムは室温でも低酸素分圧下（$pO_2$=10$^{-18}$ atm程度）で酸化物相を形成するので、今回のような僅か9x10x10Å$^3$程の空間に20もの酸素分子が詰め込まれている状態では、たった10 psの時間にも関わらず酸化アルミ被膜が形成されていきます。（アルミニウムの酸化平衡について知りたい方は<a href=\"https://en.wikipedia.org/wiki/Ellingham_diagram\">Ellignham diagram</a>というキーワードで調べてみてください。具体的な温度と酸素分圧領域のイメージが分かるかとおもいます。）\n",
    "\n",
    "上記のデータから確認できるとおり、**MDシミュレーションを行うことによって個々の反応プロセスをつぶさに観察することが可能です**。例えば以下のような状態がシミュレーションの初期段階で確認出来ます。Fig.6-2eでは左から緑の丸で囲まれた$O_2$分子が表面のAlのbridgeサイトに吸着し2つのAl原子に結合、その後$O_2$結合が開裂して表面構造に取り込まれます。その後３つのO原子に配位されたAlが次の$O_2$分子と吸着する様子が見て取れます。"
   ]
  },
  {
   "cell_type": "markdown",
   "id": "df24c961-e487-4bcf-8f76-5aaae01605a5",
   "metadata": {},
   "source": [
    "<figure style=\"text-align: center\">\n",
    "    <img src=\"../assets/ch6/Fig6-2_O2_adsorption_on_fcc111_Al.png\"/>\n",
    "    <figcaption align = \"center\">Fig.6-2i. Reaction process of an O$_2$ molecule on fcc(111) Al.</figcaption>\n",
    "</figure>\n",
    "</br>"
   ]
  },
  {
   "cell_type": "markdown",
   "id": "b5810ac1-9467-4d10-acae-58f7f7ca6899",
   "metadata": {},
   "source": [
    "このようにNVT－MDシミュレーションを使うとガスと固体表面の吸着プロセスのダイナミクスを詳細に観察できます。これが例えばより複雑な分子や表面構造になっても、解析は難しくなるかもしれませんが基本的なプロセスと考え方は変わりません。\n",
    "\n",
    "最後にNosé–Hoover熱浴について補足します。Nosé–Hoover熱浴は統計力学的に正しいカノニカルアンサンブルを再現することが知られており、非常によく用いられる熱浴法のひとつです。この手法の欠点は特殊なケース（例えば調和振動子等）で、意図しない保存則を満たすような系に対して適用すると正しいカノニカルアンサンブルを再現出来なくなります。これがどういう意味かというと、物理的に起こり得る状態を正しくサンプリング出来ないことを意味します。ただし実用的には、計算対象の系の重心を固定するなどでこのような問題を回避することが出来きるので非常に汎用的な手法です。（一般には、Nosé–Hoover法以外にも、Nosé–Hoover chain法のようなより発展的な手法も存在するので興味のある方は参考文献をご確認ください。[4,5]）"
   ]
  },
  {
   "cell_type": "markdown",
   "id": "819d97c2-b75b-4e63-a0ea-b44f7633ca00",
   "metadata": {},
   "source": [
    "<br>\n",
    "\n",
    "## まとめ"
   ]
  },
  {
   "cell_type": "markdown",
   "id": "86766e70-5695-4efd-ae56-fa86f40ab98e",
   "metadata": {},
   "source": [
    "最後にこのセクションのまとめとして、現時点で利用可能なASEのNVTアンサンブルでのシミュレーション手法を整理してみます。\n",
    "\n",
    " - https://wiki.fysik.dtu.dk/ase/ase/md.html#constant-nvt-simulations-the-canonical-ensemble\n",
    "\n",
    "| クラス名 | ensemble | パラメーター | 解説 | メリット | デメリット |\n",
    "|----------|----------|-------------|------|----------|------------|\n",
    "| NVTBerensen | NVT | 時定数($\\tau_T$) | 速度スケーリング法の一種。決定論的手法。| シンプルで汎用的 | 非カノニカル分布。系全体の温度のみ制御。 |\n",
    "| Langevin | NVT | 摩擦係数($\\gamma$) | 確率的手法。ランダムな力と仮想的な摩擦項によって温度制御。| カノニカル分布を再現。個別の原子の温度制御。|統計的手法|\n",
    "| NPT(pfactor=None) | NVT | 時定数($\\tau_T$) | Nosé–Hoover熱浴。決定論的手法。|多くの系でカノニカル分布を再現。| 非カノニカル分布な系も存在。人工的な運動モードが入り得る。系全体の温度のみ制御。 |\n",
    "| Andersen | NVT | 頻度因子($\\nu$) | 確率的手法。ランダムに選択された原子群の速度を変更。 | シンプル。個別の原子の温度制御。 | 非カノニカル分布。統計的手法|\n",
    "\n",
    "実際にNVTアンサンブルの計算を行う際に、どの手法を適用するか迷ったらNosé–Hoover熱浴法を用いるのが無難な選択肢であると思います。原理的に正しく、欠点が少ないため多くの分子シミュレーションプログラムに実装されているため結果を比較しやすいことは確かです。決定論的な手法であり、各原子の位相空間上の軌道（i.e.座標、速度の軌跡）を調べたいときにも再現性の観点で適しています。\n",
    "\n",
    "Langevin熱浴法は液系の計算やブラウン運動のような計算を行いたいときによく用いられます。原理的もにNVTアンサンブルを再現し、効率よく温度制御出来るため良く用いられる手法です。ただし確率論的手法であり、精密な原子軌道の再現を期待できるものではありません。ASEのマニュアルには吸熱反応を伴う系に適用すると温度制御がうまくできないというような記述もありますが、少なくともそのような事実示すデータが確認できていません。\n",
    "\n",
    "Berendsen熱浴法（NVTBerendsen）はシンプルで汎用的手法であり、実装も簡単です。ただし、厳密な意味でNVTアンサンブルを再現できるとは言えず、熱的な揺らぎも人工的なので精度を欠きます。熱的に揺らいだ構造を作成したい、非平衡状態を作り出したいなどのような条件の時に有用な手法と言えるでしょう。\n",
    "\n",
    "最後にASEに実装されている手法でAndersen熱浴法というのがありますが、特に他の手法と比較して特筆すべき利点もなく、上の3つの計算方法があれば事足りることが殆どのため用いられることが殆どないと思われるので今回は説明は割愛しています。"
   ]
  },
  {
   "cell_type": "markdown",
   "id": "086f7c5b-b3f4-4ef9-bedc-544956282eae",
   "metadata": {},
   "source": [
    "## [Advanced] Nosé–Hoover熱浴法のパラメーター依存性"
   ]
  },
  {
   "cell_type": "markdown",
   "id": "15f13e7c-9c27-42dc-888d-49c284599aff",
   "metadata": {},
   "source": [
    "</p>\n",
    "\n",
    "温度制御に用いられるNosé–Hoover熱浴の時定数$\\tau$に対する系全体の温度の依存性をみてみます。fcc-Al（3x3x3 unit cells）を$\\tau_t$を変えて計算した結果が以下の通りです。\n",
    "計算にはPFP(v2.0.0)を用いています。初期温度は特に設定していません。\n",
    "\n",
    "<p>\n",
    "<figure style=\"text-align: center\">\n",
    "    <img src=\"../assets/ch6/Fig6-2_NoseHoover_T_vs_t.png\"/>\n",
    "    <figcaption align = \"center\">Fig.6-2j. Time evolution of temperature in Nose-Hoover thermostat</figcaption>\n",
    "</figure>\n",
    "<br/>\n",
    "</p>\n",
    "\n",
    "$\\tau$の値で挙動が大きく異なるので３つの領域に分けて見てみましょう。\n",
    "\n",
    "- 小さいほど目的温度に近づく速度は早くなりますが、5 fsでは平均値が目的温度に到達しても温度振動の振幅が大きく上は750 Kから下は100 Kまで変動しています。これでは平均値は安定していても「定温」と仮定するのは難しいと思われます。\n",
    "- 0-40の範囲では比較的目標温度への収束も早く、温度の収束性も安定しています。(上図下部）ただし、40 fsの場合振動の周期に人工的な周期性があるように見えます。\n",
    "- $\\tau$が100 fs以上の場合、温度上昇も遅く非常に大きく波打つように振動しています。いずれは目標温度に収束するのかもしれませんが、大きく波打つ挙動の中で温度が数千Kに達しているところもみられ、検討している対象によっては大きなな影響を受ける可能性があります。\n",
    "\n",
    "上記の例では$\\tau$が10か20 fs辺りが妥当な時定数なようです。ただし、計算の初期で瞬間的にですが1000 Kを超える温度になるところがあります。この問題を回避することが出来るのでしょうか？ためしに事前にコンディショニングとしてMB分布を利用した温度の初期化、もしくはBerendsen熱浴法等の方法による平衡状態を作って計算してみましょう。Berendsen熱浴は計算開始から1 psだけ実行したのちにNosé–Hoover熱浴に切り替えます。実際このようなプレコンディショニングはどの程度有効でしょうか？\n",
    "\n",
    "<figure style=\"text-align: center\">\n",
    "    <img src=\"../assets/ch6/Fig6-2_NoseHoover_T_vs_t_taut_20.0_pre-MB.png\"/>\n",
    "    <figcaption align = \"center\">Initialized by the Maxwell-Boltzmann Distribution</figcaption>\n",
    "    \n",
    "    <img src=\"../assets/ch6/Fig6-2_NoseHoover_T_vs_t_taut_20.0_pre-Berendsen_taut_1.0.png\"/>\n",
    "    <figcaption align = \"center\">Initialized by Berendsen thermostat (τ=1.0fs)</figcaption>\n",
    "    \n",
    "    <img src=\"../assets/ch6/Fig6-2_NoseHoover_T_vs_t_taut_20.0_pre-Berendsen_taut_10.0.png\"/>\n",
    "    <figcaption align = \"center\">Initialized by Berendsen thermostat (τ=10.0fs)</figcaption>\n",
    "    \n",
    "    <img src=\"../assets/ch6/Fig6-2_NoseHoover_T_vs_t_taut_20.0_pre-Berendsen_taut_30.0.png\"/>\n",
    "    <figcaption align = \"center\">Initialized by Berendsen thermostat (τ=30.0fs)</figcaption>\n",
    "    <br>\n",
    "    <figcaption align = \"center\">Fig.6-2k. Time evolution of temperature with various initialization methods:</figcaption>\n",
    "    <figcaption style=\"font-size:medium;\"> Log-Log scale (left), Linear scale (right) </figcaption>\n",
    "</figure>\n",
    "\n",
    "構造最適化された系（i.e. 0 K）に対して、単純にNosé–Hoover法を適用した時は、瞬間的にですが、約1000-2000Kまで温度が上昇していました。これに対してこれらいずれの方法を用いても計算初期の温度上昇が約500-600 Kまでに抑えられていることが確認できます。問題は完全に解消されませんでしたが、それなりに緩和されたと考えられそうです。\n",
    "</br>"
   ]
  },
  {
   "cell_type": "markdown",
   "id": "750dae62-d741-47b0-b8de-4275286157c8",
   "metadata": {},
   "source": [
    "## [Advanced] Berendsen熱浴法の問題 - ２相共存状態でのNVTアンサンブル"
   ]
  },
  {
   "cell_type": "markdown",
   "id": "83cc0278-03b0-4fa2-b9b8-9316222e3599",
   "metadata": {},
   "source": [
    "Berendsen熱浴法の問題点を示すための典型的な事例として、水中に沈んだAl原子クラスターの例を見てみます。計算対象は水分子が165分子、Al原子クラスター（135原子）です。水分子はおおよそ1g/ccとなるように設計しています。\n",
    "細かい設定はあまり重要ではないのですが、比較的現実的な密度や温度の範囲の設定にしています。以下が計算対象の構造を可視化したものです。\n",
    "<br>"
   ]
  },
  {
   "cell_type": "markdown",
   "id": "b8937b91-16db-4783-b197-c691181a2cec",
   "metadata": {},
   "source": [
    "<figure style=\"text-align: center\">\n",
    "    <img src=\"../assets/ch6/Fig6-2_165h2o_and_135Al_20x20x20_opt.png\", width=\"420\"/>\n",
    "    <figcaption align = \"center\">Fig.6-2l. Starting structure of fcc-Al(111) slab with 20 O$_{2}$ molecules.</figcaption>\n",
    "    <figcaption align = \"center\">(File: ../input/ch6/165h2o_and_135Al_20x20x20_opt.cif)</figcaption>\n",
    "</figure>\n",
    "<br>"
   ]
  },
  {
   "cell_type": "markdown",
   "id": "74570537-1cb2-46b8-864f-5c554b45a266",
   "metadata": {},
   "source": [
    "さて、この系をMDシミュレーションでBerendsen熱浴法とNosé–Hoover熱浴法を適用して100℃で熱平衡状態にしてみます。MDの時間ステップは1 fs, 計算時間は10 psとします。以下に水分子、Alクラスター、そして系全体の温度のプロットを示します。\n",
    "\n",
    "<figure style=\"text-align: center\">\n",
    "    <img src=\"../assets/ch6/Fig6-2_165h2o_and_135Al_NVTBerendsen_taut_1.0_373K.png\"/>\n",
    "    <img src=\"../assets/ch6/Fig6-2_165h2o_and_135Al_NoseHoover_ttime_20fs_373K.png\"/>\n",
    "    <figcaption align = \"center\">Fig.6-2m. Comparison of the temperature evolution in Berendsen and Nosé–Hoover thermostats. Each line represents the temperature of the entire system (blue), Al cluster (gray), and water (orange), respectively. </figcaption>\n",
    "</figure>"
   ]
  },
  {
   "cell_type": "markdown",
   "id": "a044f7d8-e318-44f2-ac1a-b199eb9f2d0b",
   "metadata": {},
   "source": [
    "それぞれのグラフで青色の線が系全体の温度、グレーとオレンジがそれぞれAlクラスターと水の温度です。Berendsen熱浴の場合、Alクラスターの温度が\n",
    "平均420Kぐらいなのに対し、H$_2$Oは360Kぐらいを推移しています。これはBerendsen熱浴法で全ての原子を一つの速度スケーリングパラメーターで制御しているためです。\n",
    "系全体の温度は非常に良く安定しているのですが、AlクラスターとH$_2$O分子とでは原子の挙動が大きく異なるので、それぞれの温度が分離（decouple）してしまっています。\n",
    "比較的ぬるいお湯の中に熱いAlの球が浮いているようなものです。現実的には起こり得ない現象で正しい熱平衡状態が再現されていない良い例です。\n",
    "\n",
    "これに対して、Nosé–Hoover熱浴法を用いた方は、系全体の温度と構成要素のそれぞれの温度が概ねよく一致していて問題ないことが確認出来ます。"
   ]
  },
  {
   "cell_type": "markdown",
   "id": "06ec2d08-57cf-49b3-a9e8-e714e5c858d2",
   "metadata": {},
   "source": [
    "## 参考文献：\n",
    "\n",
    "[1] M.P. Allen and D.J. Tildesley, \"Computer simulaiton of liquid\", 2nd Ed., Oxford University Press (2017) ISBN 978-0-19-880319-5. [DOI:10.1093/oso/9780198803195.001.0001](https://doi.org/10.1093/oso/9780198803195.001.0001)\n",
    "\n",
    "[2] H. J. C. Berendsen, J. P. M. Postma, W. F. van Gunsteren, A. DiNola, and J. R. Haak, \"Molecular dynamics with coupling to an external bath\", J. Chem. Phys. (1984) 81 3684, [DOI:10.1063/1.448118](https://doi.org/10.1063/1.448118)\n",
    "\n",
    "[3] \"GROMACS 2019-rc1 Reference Manual\", https://manual.gromacs.org/documentation/2019-rc1/reference-manual/index.html\n",
    "\n",
    "[4] M.E. Tuckerman, \"Statistical mechanics: Theory and molecular simulation\", Oxford University Press (2010) ISBN 978-0-19-852526-4. https://global.oup.com/academic/product/statistical-mechanics-9780198525264?q=Statistical%20mechanics:%20Theory%20and%20molecular%20simulation&cc=gb&lang=en#\n",
    "\n",
    "[5] D. Frenkel and B. Smit \"Understanding molecular simulation - from algorithms to applications\", 2nd Ed., Academic Press (2002) ISBN 978-0-12-267351-1. [DOI:10.1016/B978-0-12-267351-1.X5000-7](https://doi.org/10.1016/B978-0-12-267351-1.X5000-7)\n",
    "\n",
    "[6] Mo et al. \"First Principles Study of the Li10GeP2S12 Lithium Super Ionic Conductor Material\", Chem.Mater. (2012) 24, 15-17\n",
    "https://pubs.acs.org/doi/10.1021/cm203303y"
   ]
  }
 ],
 "metadata": {
  "kernelspec": {
   "display_name": "Python 3.7",
   "language": "python",
   "name": "python37"
  },
  "language_info": {
   "codemirror_mode": {
    "name": "ipython",
    "version": 3
   },
   "file_extension": ".py",
   "mimetype": "text/x-python",
   "name": "python",
   "nbconvert_exporter": "python",
   "pygments_lexer": "ipython3",
   "version": "3.7.13"
  },
  "widgets": {
   "application/vnd.jupyter.widget-state+json": {
    "state": {
     "000c6313d41b46db802056f97083f332": {
      "model_module": "@jupyter-widgets/base",
      "model_module_version": "1.2.0",
      "model_name": "LayoutModel",
      "state": {}
     },
     "003deccdf7d94a6388fae332050726e9": {
      "model_module": "@jupyter-widgets/controls",
      "model_module_version": "1.5.0",
      "model_name": "CheckboxModel",
      "state": {
       "description": "Show force",
       "disabled": false,
       "layout": "IPY_MODEL_c143f6915b5c48c4964bf634335c7d62",
       "style": "IPY_MODEL_b707e546a65e4b93a063ba8a6cd5291c",
       "value": false
      }
     },
     "0054a7e99e84494091bc7aa74740ea6b": {
      "model_module": "@jupyter-widgets/controls",
      "model_module_version": "1.5.0",
      "model_name": "LinkModel",
      "state": {
       "source": [
        "IPY_MODEL_111137225baa4ba6b008e52a4d5bb306",
        "value"
       ],
       "target": [
        "IPY_MODEL_28587f7fd27d4dc1b93fb1a490c69e24",
        "frame"
       ]
      }
     },
     "00e0311368c0481e81a0b0f918cc239b": {
      "model_module": "@jupyter-widgets/controls",
      "model_module_version": "1.5.0",
      "model_name": "SliderStyleModel",
      "state": {
       "description_width": ""
      }
     },
     "01635f17a4e548beb8fe582f0d1138c0": {
      "model_module": "@jupyter-widgets/controls",
      "model_module_version": "1.5.0",
      "model_name": "HBoxModel",
      "state": {
       "children": [
        "IPY_MODEL_7907fcb1c02c4f62857d1d81fb7131a2",
        "IPY_MODEL_70953ec5e4ab4992af47ef0874b281fb"
       ],
       "layout": "IPY_MODEL_949c2a255a684ad196303263fcc47655"
      }
     },
     "017d2326c5974b7b9f451077cbb90018": {
      "model_module": "@jupyter-widgets/controls",
      "model_module_version": "1.5.0",
      "model_name": "SliderStyleModel",
      "state": {
       "description_width": ""
      }
     },
     "01ea062011dc4c98b6a91ea15f52701f": {
      "model_module": "@jupyter-widgets/controls",
      "model_module_version": "1.5.0",
      "model_name": "ButtonStyleModel",
      "state": {}
     },
     "027eb3b749494bbd8aa7a9f27968f076": {
      "model_module": "@jupyter-widgets/controls",
      "model_module_version": "1.5.0",
      "model_name": "ButtonStyleModel",
      "state": {}
     },
     "03300bbbdb6845d7a477b4de12250f54": {
      "model_module": "@jupyter-widgets/base",
      "model_module_version": "1.2.0",
      "model_name": "LayoutModel",
      "state": {}
     },
     "04fbed8330644de7b73aadad815f2eb6": {
      "model_module": "@jupyter-widgets/controls",
      "model_module_version": "1.5.0",
      "model_name": "IntSliderModel",
      "state": {
       "layout": "IPY_MODEL_fd1029eead0d4e25a6bf970f0556a456",
       "max": 99,
       "style": "IPY_MODEL_586228f089124804b9f8b301c3a735e2"
      }
     },
     "05ac121313724ce2a232244f708a4920": {
      "model_module": "@jupyter-widgets/base",
      "model_module_version": "1.2.0",
      "model_name": "LayoutModel",
      "state": {}
     },
     "060c1dafb22f49359c9f351a21cc7488": {
      "model_module": "@jupyter-widgets/controls",
      "model_module_version": "1.5.0",
      "model_name": "TextModel",
      "state": {
       "description": "Filename: ",
       "layout": "IPY_MODEL_6b1634cf7e00472a826a0ac45d1e96a1",
       "style": "IPY_MODEL_fbd59e5d88f8425c892dcf5c3ebce130",
       "value": "screenshot.png"
      }
     },
     "07f4583056b64e429298beb61e71127d": {
      "model_module": "@jupyter-widgets/controls",
      "model_module_version": "1.5.0",
      "model_name": "IntSliderModel",
      "state": {
       "layout": "IPY_MODEL_ed7796a045d34b2b8140f15a90bb66c8",
       "max": 0,
       "style": "IPY_MODEL_9c32933d1b8a47c681e8b7908b76d7df"
      }
     },
     "088571dad6294b70ab74b1b0de52895a": {
      "model_module": "@jupyter-widgets/base",
      "model_module_version": "1.2.0",
      "model_name": "LayoutModel",
      "state": {}
     },
     "0a5267d71b574429aae2b3492596a161": {
      "model_module": "@jupyter-widgets/controls",
      "model_module_version": "1.5.0",
      "model_name": "PlayModel",
      "state": {
       "layout": "IPY_MODEL_b945bbc206c54e9db52ea1358c398c4d",
       "style": "IPY_MODEL_5f809bc68332486bb1584ed771a11b5d"
      }
     },
     "0cc002e1d3c9489d8a5eb5ed508e69ba": {
      "model_module": "@jupyter-widgets/base",
      "model_module_version": "1.2.0",
      "model_name": "LayoutModel",
      "state": {}
     },
     "0d1f66f1eefe409da27c661e05563fbf": {
      "model_module": "@jupyter-widgets/base",
      "model_module_version": "1.2.0",
      "model_name": "LayoutModel",
      "state": {}
     },
     "0efdaa5a6f0e4dbb805bc56656229d16": {
      "model_module": "@jupyter-widgets/controls",
      "model_module_version": "1.5.0",
      "model_name": "CheckboxModel",
      "state": {
       "description": "Show force",
       "disabled": false,
       "layout": "IPY_MODEL_5a98a34b9b2640b59fa84477e1c5cfdc",
       "style": "IPY_MODEL_87521081dfdd4376be3ea808905ed26d",
       "value": false
      }
     },
     "0f54046df50f4a7489198368a32e6227": {
      "model_module": "@jupyter-widgets/output",
      "model_module_version": "1.0.0",
      "model_name": "OutputModel",
      "state": {
       "layout": "IPY_MODEL_a4cba3c0dbd64bf4a2e7f522018c291a"
      }
     },
     "0f8f1387951f4d4e877a132e0c5b85e2": {
      "model_module": "@jupyter-widgets/base",
      "model_module_version": "1.2.0",
      "model_name": "LayoutModel",
      "state": {}
     },
     "107508c5a1a34cfa815f7c326ee7c8da": {
      "model_module": "@jupyter-widgets/base",
      "model_module_version": "1.2.0",
      "model_name": "LayoutModel",
      "state": {}
     },
     "111137225baa4ba6b008e52a4d5bb306": {
      "model_module": "@jupyter-widgets/controls",
      "model_module_version": "1.5.0",
      "model_name": "PlayModel",
      "state": {
       "layout": "IPY_MODEL_0f8f1387951f4d4e877a132e0c5b85e2",
       "max": 0,
       "style": "IPY_MODEL_8ad7f564a5fc407b80b11c252501035e"
      }
     },
     "111498effcad45919b3d5d1f7e417ba2": {
      "model_module": "@jupyter-widgets/base",
      "model_module_version": "1.2.0",
      "model_name": "LayoutModel",
      "state": {}
     },
     "144cfe618c734b2c9caad90040d316bd": {
      "model_module": "@jupyter-widgets/base",
      "model_module_version": "1.2.0",
      "model_name": "LayoutModel",
      "state": {}
     },
     "1561c6cc44c14105adc37bc1ecc8650c": {
      "model_module": "@jupyter-widgets/controls",
      "model_module_version": "1.5.0",
      "model_name": "ButtonModel",
      "state": {
       "description": "Save image",
       "layout": "IPY_MODEL_e9485806149e4426ad77d447e056eaa8",
       "style": "IPY_MODEL_c15556605e194e6c9a61359e1764090c",
       "tooltip": "Save current frame to file.\nCurrently .png and .html are supported.\nIt takes a bit time, please be patient."
      }
     },
     "1649261ad0c2468db5c2fc3af68e87b3": {
      "model_module": "@jupyter-widgets/base",
      "model_module_version": "1.2.0",
      "model_name": "LayoutModel",
      "state": {}
     },
     "1b1c787cec344b04bf0d0da880691c5e": {
      "model_module": "@jupyter-widgets/controls",
      "model_module_version": "1.5.0",
      "model_name": "LinkModel",
      "state": {
       "source": [
        "IPY_MODEL_c1a4a70b27f448f6afa333cdf863cd71",
        "max"
       ],
       "target": [
        "IPY_MODEL_c997bd359191467e825dac5b60a05ba3",
        "max_frame"
       ]
      }
     },
     "1d7e23f3b32f4dc6bca0777a7c8af731": {
      "model_module": "@jupyter-widgets/controls",
      "model_module_version": "1.5.0",
      "model_name": "DescriptionStyleModel",
      "state": {
       "description_width": ""
      }
     },
     "1dc67bf447754f3b8e3678962f2b95a8": {
      "model_module": "@jupyter-widgets/base",
      "model_module_version": "1.2.0",
      "model_name": "LayoutModel",
      "state": {}
     },
     "1dd8189199ef40f195ed024e44f0038b": {
      "model_module": "@jupyter-widgets/controls",
      "model_module_version": "1.5.0",
      "model_name": "LinkModel",
      "state": {
       "source": [
        "IPY_MODEL_fe31fea721f746c6978a3170f905f50a",
        "max"
       ],
       "target": [
        "IPY_MODEL_28587f7fd27d4dc1b93fb1a490c69e24",
        "max_frame"
       ]
      }
     },
     "1fc3262187b043ada67faa67d1c0f607": {
      "model_module": "@jupyter-widgets/base",
      "model_module_version": "1.2.0",
      "model_name": "LayoutModel",
      "state": {
       "border": "0px solid black"
      }
     },
     "20a563f4b1844d5abf17adecbf43665d": {
      "model_module": "@jupyter-widgets/controls",
      "model_module_version": "1.5.0",
      "model_name": "ButtonModel",
      "state": {
       "description": "Save image",
       "layout": "IPY_MODEL_d32716a5103f4579b3ac525e0528fc4a",
       "style": "IPY_MODEL_3bdf6d5d9c4b43ff9d67d15c4a63fdda",
       "tooltip": "Save current frame to file.\nCurrently .png and .html are supported.\nIt takes a bit time, please be patient."
      }
     },
     "20c8e1b4e3b141b6a4221592fc5f1f5f": {
      "model_module": "@jupyter-widgets/controls",
      "model_module_version": "1.5.0",
      "model_name": "FloatSliderModel",
      "state": {
       "description": "Charge scale",
       "layout": "IPY_MODEL_ab4b6db3a47041458f3832b6c33fd376",
       "step": 0.1,
       "style": "IPY_MODEL_b1e083cb1c4e4b67b258b27dceba868b",
       "value": 1
      }
     },
     "22473f4bc4ed4b59a870f9ff204484d1": {
      "model_module": "@jupyter-widgets/base",
      "model_module_version": "1.2.0",
      "model_name": "LayoutModel",
      "state": {}
     },
     "241ceafc3edb4b7c85838027547cfa4e": {
      "model_module": "@jupyter-widgets/base",
      "model_module_version": "1.2.0",
      "model_name": "LayoutModel",
      "state": {}
     },
     "242ac908b2ec4a02a8026b00ae4a02a0": {
      "model_module": "@jupyter-widgets/controls",
      "model_module_version": "1.5.0",
      "model_name": "DescriptionStyleModel",
      "state": {
       "description_width": ""
      }
     },
     "24387d9043c84c63ae371fd63b68485f": {
      "model_module": "@jupyter-widgets/base",
      "model_module_version": "1.2.0",
      "model_name": "LayoutModel",
      "state": {}
     },
     "24bc0ec7a2c7457bb9b5baa9ac9bbce7": {
      "model_module": "@jupyter-widgets/controls",
      "model_module_version": "1.5.0",
      "model_name": "SliderStyleModel",
      "state": {
       "description_width": ""
      }
     },
     "2642047da3b14c9aa86c3fa03b1752ac": {
      "model_module": "@jupyter-widgets/base",
      "model_module_version": "1.2.0",
      "model_name": "LayoutModel",
      "state": {
       "border": "0px solid black"
      }
     },
     "269b032f3ba243bd9efa1d9496bb336b": {
      "model_module": "nglview-js-widgets",
      "model_module_version": "3.0.1",
      "model_name": "ColormakerRegistryModel",
      "state": {
       "_msg_ar": [],
       "_msg_q": [],
       "_ready": true,
       "layout": "IPY_MODEL_24387d9043c84c63ae371fd63b68485f"
      }
     },
     "28587f7fd27d4dc1b93fb1a490c69e24": {
      "model_module": "nglview-js-widgets",
      "model_module_version": "3.0.1",
      "model_name": "NGLModel",
      "state": {
       "_camera_orientation": [
        60.04124495867501,
        2.076532856035199,
        14.76252625409523,
        0,
        14.906003250945,
        -9.327974713877506,
        -59.312690219823565,
        0,
        0.2350259301916035,
        61.12178143123562,
        -9.553421574340229,
        0,
        -4.084999797865748,
        -5.202999979257584,
        -16.296000361442566,
        1
       ],
       "_camera_str": "orthographic",
       "_gui_theme": null,
       "_ibtn_fullscreen": "IPY_MODEL_995eaf3444a24d1e91bfec296b162cc5",
       "_igui": null,
       "_iplayer": "IPY_MODEL_604d4e5e2ae64f1f947e3c093639c706",
       "_ngl_color_dict": {},
       "_ngl_coordinate_resource": {},
       "_ngl_full_stage_parameters": {
        "ambientColor": 14540253,
        "ambientIntensity": 0.2,
        "backgroundColor": "white",
        "cameraEyeSep": 0.3,
        "cameraFov": 40,
        "cameraType": "orthographic",
        "clipDist": 0,
        "clipFar": 100,
        "clipNear": 0,
        "fogFar": 100,
        "fogNear": 50,
        "hoverTimeout": 0,
        "impostor": true,
        "lightColor": 14540253,
        "lightIntensity": 1,
        "mousePreset": "default",
        "panSpeed": 1,
        "quality": "medium",
        "rotateSpeed": 2,
        "sampleLevel": 0,
        "tooltip": true,
        "workerDefault": true,
        "zoomSpeed": 1.2
       },
       "_ngl_msg_archive": [
        {
         "args": [
          {
           "binary": false,
           "data": "CRYST1    8.591    9.920   31.691  90.00  90.00  90.00 P 1\nMODEL     1\nATOM      1   Al MOL     1       2.290   1.439  10.059  1.00  0.00          AL  \nATOM      2   Al MOL     1       5.132   1.652   9.953  1.00  0.00          AL  \nATOM      3   Al MOL     1       7.932   1.370  10.041  1.00  0.00          AL  \nATOM      4   Al MOL     1       0.845   3.918   9.989  1.00  0.00          AL  \nATOM      5   Al MOL     1       3.571   3.979   9.695  1.00  0.00          AL  \nATOM      6   Al MOL     1       6.632   4.006   9.972  1.00  0.00          AL  \nATOM      7   Al MOL     1       2.139   6.425   9.854  1.00  0.00          AL  \nATOM      8   Al MOL     1       5.018   6.431  10.083  1.00  0.00          AL  \nATOM      9   Al MOL     1       8.124   6.532   9.574  1.00  0.00          AL  \nATOM     10   Al MOL     1       0.669   8.904  10.052  1.00  0.00          AL  \nATOM     11   Al MOL     1       3.634   8.954   9.910  1.00  0.00          AL  \nATOM     12   Al MOL     1       6.393   8.864  10.159  1.00  0.00          AL  \nATOM     13   Al MOL     1       0.736   2.298  12.459  1.00  0.00          AL  \nATOM     14   Al MOL     1       3.589   2.309  12.341  1.00  0.00          AL  \nATOM     15   Al MOL     1       6.630   2.329  12.372  1.00  0.00          AL  \nATOM     16   Al MOL     1       2.273   4.955  12.294  1.00  0.00          AL  \nATOM     17   Al MOL     1       5.170   4.741  12.357  1.00  0.00          AL  \nATOM     18   Al MOL     1       8.053   4.841  12.326  1.00  0.00          AL  \nATOM     19   Al MOL     1       0.730   7.288  12.339  1.00  0.00          AL  \nATOM     20   Al MOL     1       3.656   7.293  12.368  1.00  0.00          AL  \nATOM     21   Al MOL     1       6.472   7.253  12.430  1.00  0.00          AL  \nATOM     22   Al MOL     1       2.061   9.788  12.521  1.00  0.00          AL  \nATOM     23   Al MOL     1       5.021   9.844  12.480  1.00  0.00          AL  \nATOM     24   Al MOL     1       7.843   9.602  12.375  1.00  0.00          AL  \nATOM     25   Al MOL     1       0.700   0.687  14.823  1.00  0.00          AL  \nATOM     26   Al MOL     1       3.466   0.752  14.789  1.00  0.00          AL  \nATOM     27   Al MOL     1       6.327   0.611  14.761  1.00  0.00          AL  \nATOM     28   Al MOL     1       2.242   3.212  14.743  1.00  0.00          AL  \nATOM     29   Al MOL     1       5.045   3.156  14.701  1.00  0.00          AL  \nATOM     30   Al MOL     1       7.976   3.168  14.623  1.00  0.00          AL  \nATOM     31   Al MOL     1       0.782   5.720  14.709  1.00  0.00          AL  \nATOM     32   Al MOL     1       3.640   5.635  14.690  1.00  0.00          AL  \nATOM     33   Al MOL     1       6.475   5.611  14.666  1.00  0.00          AL  \nATOM     34   Al MOL     1       2.011   8.127  14.731  1.00  0.00          AL  \nATOM     35   Al MOL     1       4.798   8.170  14.765  1.00  0.00          AL  \nATOM     36   Al MOL     1       7.792   8.168  14.773  1.00  0.00          AL  \nATOM     37   Al MOL     1       2.165   1.612  17.095  1.00  0.00          AL  \nATOM     38   Al MOL     1       4.908   1.631  17.005  1.00  0.00          AL  \nATOM     39   Al MOL     1       7.793   1.606  16.865  1.00  0.00          AL  \nATOM     40   Al MOL     1       0.697   4.092  16.957  1.00  0.00          AL  \nATOM     41   Al MOL     1       3.642   4.129  17.052  1.00  0.00          AL  \nATOM     42   Al MOL     1       6.483   4.038  16.906  1.00  0.00          AL  \nATOM     43   Al MOL     1       2.105   6.569  17.085  1.00  0.00          AL  \nATOM     44   Al MOL     1       4.998   6.586  16.995  1.00  0.00          AL  \nATOM     45   Al MOL     1       7.785   6.521  17.022  1.00  0.00          AL  \nATOM     46   Al MOL     1       0.573   9.020  17.055  1.00  0.00          AL  \nATOM     47   Al MOL     1       3.504   8.979  17.129  1.00  0.00          AL  \nATOM     48   Al MOL     1       6.255   9.116  17.059  1.00  0.00          AL  \nATOM     49   Al MOL     1       0.720   2.336  19.259  1.00  0.00          AL  \nATOM     50   Al MOL     1       3.544   2.436  19.400  1.00  0.00          AL  \nATOM     51   Al MOL     1       6.445   2.303  19.224  1.00  0.00          AL  \nATOM     52   Al MOL     1       2.185   4.855  19.285  1.00  0.00          AL  \nATOM     53   Al MOL     1       5.025   4.861  19.366  1.00  0.00          AL  \nATOM     54   Al MOL     1       7.784   4.842  19.297  1.00  0.00          AL  \nATOM     55   Al MOL     1       0.652   7.350  19.341  1.00  0.00          AL  \nATOM     56   Al MOL     1       3.570   7.296  19.421  1.00  0.00          AL  \nATOM     57   Al MOL     1       6.366   7.436  19.478  1.00  0.00          AL  \nATOM     58   Al MOL     1       2.016   9.805  19.263  1.00  0.00          AL  \nATOM     59   Al MOL     1       4.904   9.825  19.530  1.00  0.00          AL  \nATOM     60   Al MOL     1       7.832   9.805  19.259  1.00  0.00          AL  \nATOM     61   Al MOL     1       0.645   0.517  21.581  1.00  0.00          AL  \nATOM     62   Al MOL     1       3.515   0.692  21.784  1.00  0.00          AL  \nATOM     63   Al MOL     1       6.414   0.658  21.780  1.00  0.00          AL  \nATOM     64   Al MOL     1       2.084   3.125  21.708  1.00  0.00          AL  \nATOM     65   Al MOL     1       5.026   3.121  21.715  1.00  0.00          AL  \nATOM     66   Al MOL     1       7.878   2.994  21.646  1.00  0.00          AL  \nATOM     67   Al MOL     1       0.659   5.543  21.635  1.00  0.00          AL  \nATOM     68   Al MOL     1       3.604   5.501  21.701  1.00  0.00          AL  \nATOM     69   Al MOL     1       6.459   5.585  21.712  1.00  0.00          AL  \nATOM     70   Al MOL     1       2.189   7.912  21.733  1.00  0.00          AL  \nATOM     71   Al MOL     1       4.940   8.070  22.216  1.00  0.00          AL  \nATOM     72   Al MOL     1       8.031   7.968  21.824  1.00  0.00          AL  \nATOM     73    O MOL     1       5.827   3.130  27.731  1.00  0.00           O  \nATOM     74    O MOL     1       5.477   3.174  26.546  1.00  0.00           O  \nATOM     75    O MOL     1       2.396   8.563  28.273  1.00  0.00           O  \nATOM     76    O MOL     1       2.235   7.737  27.377  1.00  0.00           O  \nATOM     77    O MOL     1       4.217   9.515   2.564  1.00  0.00           O  \nATOM     78    O MOL     1       3.784   9.889   1.481  1.00  0.00           O  \nATOM     79    O MOL     1       4.666   5.834   2.393  1.00  0.00           O  \nATOM     80    O MOL     1       5.579   6.486   1.919  1.00  0.00           O  \nATOM     81    O MOL     1       7.456   3.787   3.981  1.00  0.00           O  \nATOM     82    O MOL     1       7.889   4.953   3.933  1.00  0.00           O  \nATOM     83    O MOL     1       7.434   9.695   4.129  1.00  0.00           O  \nATOM     84    O MOL     1       7.312   9.403   2.942  1.00  0.00           O  \nATOM     85    O MOL     1       3.167   5.739  31.075  1.00  0.00           O  \nATOM     86    O MOL     1       2.258   6.142  30.286  1.00  0.00           O  \nATOM     87    O MOL     1       3.250   5.601  25.422  1.00  0.00           O  \nATOM     88    O MOL     1       2.977   4.598  26.086  1.00  0.00           O  \nATOM     89    O MOL     1       0.299   3.519  30.487  1.00  0.00           O  \nATOM     90    O MOL     1       0.718   2.687  31.325  1.00  0.00           O  \nATOM     91    O MOL     1       7.155   6.415   7.884  1.00  0.00           O  \nATOM     92    O MOL     1       6.178   5.360   7.450  1.00  0.00           O  \nATOM     93    O MOL     1       1.907   4.896   6.822  1.00  0.00           O  \nATOM     94    O MOL     1       2.898   5.317   7.466  1.00  0.00           O  \nATOM     95    O MOL     1       7.894   5.340  25.511  1.00  0.00           O  \nATOM     96    O MOL     1       7.244   5.298  24.446  1.00  0.00           O  \nATOM     97    O MOL     1       4.438   2.331   6.268  1.00  0.00           O  \nATOM     98    O MOL     1       4.707   2.926   5.214  1.00  0.00           O  \nATOM     99    O MOL     1       2.351   9.387   6.790  1.00  0.00           O  \nATOM    100    O MOL     1       3.376   9.163   6.122  1.00  0.00           O  \nATOM    101    O MOL     1       5.902   8.853  28.172  1.00  0.00           O  \nATOM    102    O MOL     1       5.323   7.974  27.542  1.00  0.00           O  \nATOM    103    O MOL     1       1.422   7.527   1.267  1.00  0.00           O  \nATOM    104    O MOL     1       1.094   6.577   2.010  1.00  0.00           O  \nATOM    105    O MOL     1       6.672   5.703  28.938  1.00  0.00           O  \nATOM    106    O MOL     1       6.459   6.453  29.912  1.00  0.00           O  \nATOM    107    O MOL     1       6.446   9.635  23.688  1.00  0.00           O  \nATOM    108    O MOL     1       5.096   8.916  23.689  1.00  0.00           O  \nATOM    109    O MOL     1       3.524   1.491  29.685  1.00  0.00           O  \nATOM    110    O MOL     1       2.764   0.553  29.943  1.00  0.00           O  \nATOM    111    O MOL     1       0.046   2.037  28.204  1.00  0.00           O  \nATOM    112    O MOL     1       0.921   2.152  27.335  1.00  0.00           O  \nENDMDL\n",
           "type": "blob"
          }
         ],
         "kwargs": {
          "defaultRepresentation": false,
          "ext": "pdb"
         },
         "methodName": "loadFile",
         "reconstruc_color_scheme": false,
         "target": "Stage",
         "type": "call_method"
        },
        {
         "args": [
          "500px",
          "500px"
         ],
         "kwargs": {},
         "methodName": "setSize",
         "reconstruc_color_scheme": false,
         "target": "Widget",
         "type": "call_method"
        },
        {
         "args": [
          "unitcell"
         ],
         "component_index": 0,
         "kwargs": {
          "sele": "all"
         },
         "methodName": "addRepresentation",
         "reconstruc_color_scheme": false,
         "target": "compList",
         "type": "call_method"
        },
        {
         "args": [
          "spacefill"
         ],
         "component_index": 0,
         "kwargs": {
          "sele": "all"
         },
         "methodName": "addRepresentation",
         "reconstruc_color_scheme": false,
         "target": "compList",
         "type": "call_method"
        },
        {
         "args": [],
         "kwargs": {
          "cameraType": "orthographic"
         },
         "methodName": "setParameters",
         "reconstruc_color_scheme": false,
         "target": "Stage",
         "type": "call_method"
        },
        {
         "args": [
          {
           "clipDist": 0
          }
         ],
         "kwargs": {},
         "methodName": "setParameters",
         "reconstruc_color_scheme": false,
         "target": "Widget",
         "type": "call_method"
        },
        {
         "args": [
          "spacefill",
          0
         ],
         "kwargs": {
          "colorScale": "rainbow",
          "colorScheme": "element",
          "radiusScale": 0.5,
          "radiusType": "covalent"
         },
         "methodName": "updateRepresentationsByName",
         "reconstruc_color_scheme": false,
         "target": "Widget",
         "type": "call_method"
        },
        {
         "args": [
          "this._Q = [[1.0, 0.0, 0.0], [0.0, 1.0, 0.0], [0.0, 0.0, 1.0]]\n    var tooltip = document.createElement('div')\n    Object.assign(tooltip.style, {\n      display: 'none',\n      position: 'fixed',\n      zIndex: 10,\n      pointerEvents: 'none',\n      backgroundColor: 'rgba( 0, 0, 0, 0.6 )',\n      color: 'lightgrey',\n      padding: '8px',\n      fontFamily: 'sans-serif'\n    })\n    document.body.appendChild(tooltip)\n\n    var that = this\n    this.stage.mouseControls.remove('hoverPick')\n    this.stage.signals.hovered.add(function (pickingProxy) {\n      if (pickingProxy && (pickingProxy.atom || pickingProxy.bond)) {\n        var atom = pickingProxy.atom || pickingProxy.closestBondAtom\n        var mp = pickingProxy.mouse.position\n        //tooltip.innerText = atom.element + ' i=' + atom.index + ' (' + atom.x.toFixed(2) +  ', ' + atom.y.toFixed(2) +  ', ' + atom.z.toFixed(2) + ')'\n        //var pos = that._atoms_pos[atom.index]\n        var Q = that._Q\n        var pos_x = Q[0][0] * atom.x + Q[0][1] * atom.y + Q[0][2] * atom.z \n        var pos_y = Q[1][0] * atom.x + Q[1][1] * atom.y + Q[1][2] * atom.z\n        var pos_z = Q[2][0] * atom.x + Q[2][1] * atom.y + Q[2][2] * atom.z\n        tooltip.innerText = 'i=' + atom.index + ' ' + atom.element + ' (' + pos_x.toFixed(2) +  ', ' + pos_y.toFixed(2) +  ', ' + pos_z.toFixed(2) + ')'\n        tooltip.style.bottom = window.innerHeight - mp.y + 3 + 'px'\n        tooltip.style.left = mp.x + 3 + 'px'\n        tooltip.style.display = 'block'\n      } else {\n        tooltip.style.display = 'none'\n      }\n    })\n    "
         ],
         "kwargs": {},
         "methodName": "executeCode",
         "reconstruc_color_scheme": false,
         "target": "Widget",
         "type": "call_method"
        },
        {
         "args": [
          "ball+stick"
         ],
         "component_index": 0,
         "kwargs": {
          "sele": "all"
         },
         "methodName": "addRepresentation",
         "reconstruc_color_scheme": false,
         "target": "compList",
         "type": "call_method"
        }
       ],
       "_ngl_original_stage_parameters": {
        "ambientColor": 14540253,
        "ambientIntensity": 0.2,
        "backgroundColor": "white",
        "cameraEyeSep": 0.3,
        "cameraFov": 40,
        "cameraType": "perspective",
        "clipDist": 10,
        "clipFar": 100,
        "clipNear": 0,
        "fogFar": 100,
        "fogNear": 50,
        "hoverTimeout": 0,
        "impostor": true,
        "lightColor": 14540253,
        "lightIntensity": 1,
        "mousePreset": "default",
        "panSpeed": 1,
        "quality": "medium",
        "rotateSpeed": 2,
        "sampleLevel": 0,
        "tooltip": true,
        "workerDefault": true,
        "zoomSpeed": 1.2
       },
       "_ngl_repr_dict": {
        "0": {
         "0": {
          "params": {
           "clipCenter": {
            "x": 0,
            "y": 0,
            "z": 0
           },
           "clipNear": 0,
           "clipRadius": 0,
           "colorMode": "hcl",
           "colorReverse": false,
           "colorScale": "",
           "colorScheme": "element",
           "colorValue": "orange",
           "defaultAssembly": "",
           "depthWrite": true,
           "diffuse": 16777215,
           "diffuseInterior": false,
           "disableImpostor": false,
           "disablePicking": false,
           "flatShaded": false,
           "interiorColor": 2236962,
           "interiorDarkening": 0,
           "lazy": false,
           "matrix": {
            "elements": [
             1,
             0,
             0,
             0,
             0,
             1,
             0,
             0,
             0,
             0,
             1,
             0,
             0,
             0,
             0,
             1
            ]
           },
           "metalness": 0,
           "opacity": 1,
           "quality": "medium",
           "radialSegments": 10,
           "radiusData": {},
           "radiusScale": 1,
           "radiusSize": 0.06963064692614526,
           "radiusType": "vdw",
           "roughness": 0.4,
           "sele": "all",
           "side": "double",
           "sphereDetail": 1,
           "useInteriorColor": true,
           "visible": true,
           "wireframe": false
          },
          "type": "unitcell"
         },
         "1": {
          "params": {
           "assembly": "default",
           "clipCenter": {
            "x": 0,
            "y": 0,
            "z": 0
           },
           "clipNear": 0,
           "clipRadius": 0,
           "colorMode": "hcl",
           "colorReverse": false,
           "colorScale": "rainbow",
           "colorScheme": "element",
           "colorValue": 9474192,
           "defaultAssembly": "",
           "depthWrite": true,
           "diffuse": 16777215,
           "diffuseInterior": false,
           "disableImpostor": false,
           "disablePicking": false,
           "flatShaded": false,
           "interiorColor": 2236962,
           "interiorDarkening": 0,
           "lazy": false,
           "matrix": {
            "elements": [
             1,
             0,
             0,
             0,
             0,
             1,
             0,
             0,
             0,
             0,
             1,
             0,
             0,
             0,
             0,
             1
            ]
           },
           "metalness": 0,
           "opacity": 1,
           "quality": "medium",
           "radiusData": {},
           "radiusScale": 0.5,
           "radiusSize": 1,
           "radiusType": "covalent",
           "roughness": 0.4,
           "sele": "all",
           "side": "double",
           "sphereDetail": 1,
           "useInteriorColor": true,
           "visible": true,
           "wireframe": false
          },
          "type": "spacefill"
         },
         "2": {
          "params": {
           "aspectRatio": 2,
           "assembly": "default",
           "bondScale": 0.4,
           "bondSpacing": 1,
           "clipCenter": {
            "x": 0,
            "y": 0,
            "z": 0
           },
           "clipNear": 0,
           "clipRadius": 0,
           "colorMode": "hcl",
           "colorReverse": false,
           "colorScale": "",
           "colorScheme": "element",
           "colorValue": 9474192,
           "cylinderOnly": false,
           "defaultAssembly": "",
           "depthWrite": true,
           "diffuse": 16777215,
           "diffuseInterior": false,
           "disableImpostor": false,
           "disablePicking": false,
           "flatShaded": false,
           "interiorColor": 2236962,
           "interiorDarkening": 0,
           "lazy": false,
           "lineOnly": false,
           "linewidth": 2,
           "matrix": {
            "elements": [
             1,
             0,
             0,
             0,
             0,
             1,
             0,
             0,
             0,
             0,
             1,
             0,
             0,
             0,
             0,
             1
            ]
           },
           "metalness": 0,
           "multipleBond": "off",
           "opacity": 1,
           "openEnded": true,
           "quality": "medium",
           "radialSegments": 10,
           "radiusData": {},
           "radiusScale": 1,
           "radiusSize": 0.15,
           "radiusType": "size",
           "roughness": 0.4,
           "sele": "all",
           "side": "double",
           "sphereDetail": 1,
           "useInteriorColor": true,
           "visible": true,
           "wireframe": false
          },
          "type": "ball+stick"
         }
        }
       },
       "_ngl_serialize": false,
       "_ngl_version": "2.0.0-dev.36",
       "_ngl_view_id": [
        "6C3ED4A4-B3FD-4DB5-8851-0BFB48B87E0C"
       ],
       "_player_dict": {},
       "_scene_position": {},
       "_scene_rotation": {},
       "_synced_model_ids": [],
       "_synced_repr_model_ids": [],
       "_view_height": "",
       "_view_width": "",
       "background": "white",
       "frame": 0,
       "gui_style": null,
       "layout": "IPY_MODEL_525041574dd44923ada4e486295e1a50",
       "max_frame": 0,
       "n_components": 1,
       "picked": {}
      }
     },
     "2c77d8ea7f4644d0b199e4dbeeb92fbb": {
      "model_module": "@jupyter-widgets/controls",
      "model_module_version": "1.5.0",
      "model_name": "FloatSliderModel",
      "state": {
       "description": "Charge scale",
       "layout": "IPY_MODEL_7b12cb0b91ef470eb4eee941bbd58c48",
       "step": 0.1,
       "style": "IPY_MODEL_7987e3edf07d4b58b43d1a6af0c6f44d",
       "value": 1
      }
     },
     "305e3d77579d49ff87c784d23eac9933": {
      "model_module": "@jupyter-widgets/base",
      "model_module_version": "1.2.0",
      "model_name": "LayoutModel",
      "state": {}
     },
     "30e41cc12c9f4a02a3e7f94677087e8c": {
      "model_module": "@jupyter-widgets/controls",
      "model_module_version": "1.5.0",
      "model_name": "FloatSliderModel",
      "state": {
       "description": "Force scale",
       "layout": "IPY_MODEL_7c0e4411be884d5d97751aa5752801e3",
       "step": 0.1,
       "style": "IPY_MODEL_fcf64f35cb1240f391da91336579a03c",
       "value": 0.5
      }
     },
     "335b00a04f144e659a434cad7eb2ae57": {
      "model_module": "@jupyter-widgets/base",
      "model_module_version": "1.2.0",
      "model_name": "LayoutModel",
      "state": {}
     },
     "35305a804d214c90925fd9dde54cff95": {
      "model_module": "@jupyter-widgets/base",
      "model_module_version": "1.2.0",
      "model_name": "LayoutModel",
      "state": {}
     },
     "35cc6dd8b6f4472e805072fb677ca717": {
      "model_module": "@jupyter-widgets/base",
      "model_module_version": "1.2.0",
      "model_name": "LayoutModel",
      "state": {}
     },
     "35d6bcc21b03469bb2a7e43a7150ee14": {
      "model_module": "@jupyter-widgets/base",
      "model_module_version": "1.2.0",
      "model_name": "LayoutModel",
      "state": {}
     },
     "381c3e129676425f8b94725139a2a801": {
      "model_module": "@jupyter-widgets/base",
      "model_module_version": "1.2.0",
      "model_name": "LayoutModel",
      "state": {}
     },
     "384f1c631e0e4527a88bbcaf7b531e8b": {
      "model_module": "nglview-js-widgets",
      "model_module_version": "3.0.1",
      "model_name": "NGLModel",
      "state": {
       "_camera_orientation": [
        35.08731010200246,
        -5.336130625976888,
        -3.2318673865796606,
        0,
        4.965268995992919,
        35.063973267951525,
        -3.9877900543835874,
        0,
        3.776951238678869,
        3.4759280290190615,
        35.26600559651966,
        0,
        -8.515000082552433,
        -8.813500137999654,
        -6.493999779224396,
        1
       ],
       "_camera_str": "orthographic",
       "_gui_theme": null,
       "_ibtn_fullscreen": "IPY_MODEL_989ef7e7e58f446189b98461a0b0ddcb",
       "_igui": null,
       "_iplayer": "IPY_MODEL_44d26390a2034bca9e9d29d1c0048229",
       "_ngl_color_dict": {},
       "_ngl_coordinate_resource": {},
       "_ngl_full_stage_parameters": {
        "ambientColor": 14540253,
        "ambientIntensity": 0.2,
        "backgroundColor": "white",
        "cameraEyeSep": 0.3,
        "cameraFov": 40,
        "cameraType": "orthographic",
        "clipDist": 0,
        "clipFar": 100,
        "clipNear": 0,
        "fogFar": 100,
        "fogNear": 50,
        "hoverTimeout": 0,
        "impostor": true,
        "lightColor": 14540253,
        "lightIntensity": 1,
        "mousePreset": "default",
        "panSpeed": 1,
        "quality": "medium",
        "rotateSpeed": 2,
        "sampleLevel": 0,
        "tooltip": true,
        "workerDefault": true,
        "zoomSpeed": 1.2
       },
       "_ngl_msg_archive": [
        {
         "args": [
          {
           "binary": false,
           "data": "CRYST1   17.219   17.743   13.014  91.96  90.58  90.23 P 1\nMODEL     1\nATOM      1   Li MOL     1       8.368   4.164  12.378  1.00  0.00          LI  \nATOM      2   Li MOL     1       8.226   4.396   5.543  1.00  0.00          LI  \nATOM      3   Li MOL     1       4.288   8.312   7.139  1.00  0.00          LI  \nATOM      4   Li MOL     1       4.229   8.816   0.661  1.00  0.00          LI  \nATOM      5   Li MOL     1       2.211   2.493   2.048  1.00  0.00          LI  \nATOM      6   Li MOL     1       6.339   6.502   3.671  1.00  0.00          LI  \nATOM      7   Li MOL     1       1.729   6.919   9.797  1.00  0.00          LI  \nATOM      8   Li MOL     1       1.914   6.603   3.275  1.00  0.00          LI  \nATOM      9   Li MOL     1       6.440   1.796   4.571  1.00  0.00          LI  \nATOM     10   Li MOL     1       3.860   4.245   9.762  1.00  0.00          LI  \nATOM     11   Li MOL     1       1.920   1.861   4.760  1.00  0.00          LI  \nATOM     12   Li MOL     1       6.197   1.890  11.151  1.00  0.00          LI  \nATOM     13   Li MOL     1       2.080   6.751   0.074  1.00  0.00          LI  \nATOM     14   Li MOL     1       6.353   2.273   1.709  1.00  0.00          LI  \nATOM     15   Li MOL     1       6.459   6.159   8.967  1.00  0.00          LI  \nATOM     16   Li MOL     1       1.771   1.883  11.960  1.00  0.00          LI  \nATOM     17   Li MOL     1       6.411   6.750   0.109  1.00  0.00          LI  \nATOM     18   Li MOL     1       2.015   6.165   6.310  1.00  0.00          LI  \nATOM     19   Li MOL     1       6.654   1.627   8.137  1.00  0.00          LI  \nATOM     20   Li MOL     1       1.981   1.593   8.451  1.00  0.00          LI  \nATOM     21   Ge MOL     1       8.540   4.248   2.384  1.00  0.00          GE  \nATOM     22   Ge MOL     1       4.238   8.423  10.607  1.00  0.00          GE  \nATOM     23    P MOL     1       8.451   8.340   6.524  1.00  0.00           P  \nATOM     24    P MOL     1       4.088   4.129  12.914  1.00  0.00           P  \nATOM     25    P MOL     1      -0.034   3.981   8.905  1.00  0.00           P  \nATOM     26    P MOL     1       4.158  -0.060   4.033  1.00  0.00           P  \nATOM     27    S MOL     1       8.448   1.370   5.769  1.00  0.00           S  \nATOM     28    S MOL     1      -0.039   6.867   5.076  1.00  0.00           S  \nATOM     29    S MOL     1       2.413   4.295  11.723  1.00  0.00           S  \nATOM     30    S MOL     1       5.749   4.295  11.706  1.00  0.00           S  \nATOM     31    S MOL     1       4.229   6.127   1.257  1.00  0.00           S  \nATOM     32    S MOL     1       4.177   2.722   0.775  1.00  0.00           S  \nATOM     33    S MOL     1       1.571   8.149   7.644  1.00  0.00           S  \nATOM     34    S MOL     1       6.789   8.135   7.673  1.00  0.00           S  \nATOM     35    S MOL     1       0.041   2.605   0.851  1.00  0.00           S  \nATOM     36    S MOL     1      -0.030   6.240   1.347  1.00  0.00           S  \nATOM     37    S MOL     1       1.729   4.044   7.819  1.00  0.00           S  \nATOM     38    S MOL     1       6.928   4.091   7.674  1.00  0.00           S  \nATOM     39    S MOL     1       4.095   6.935   4.881  1.00  0.00           S  \nATOM     40    S MOL     1       4.204   1.390   5.490  1.00  0.00           S  \nATOM     41    S MOL     1       2.305   8.368  11.772  1.00  0.00           S  \nATOM     42    S MOL     1       5.972   8.451  11.982  1.00  0.00           S  \nATOM     43    S MOL     1       8.421   5.541  10.233  1.00  0.00           S  \nATOM     44    S MOL     1      -0.083   2.157   9.893  1.00  0.00           S  \nATOM     45    S MOL     1       6.662   4.012   3.551  1.00  0.00           S  \nATOM     46    S MOL     1       1.669   4.113   3.786  1.00  0.00           S  \nATOM     47    S MOL     1       4.352   1.464   9.387  1.00  0.00           S  \nATOM     48    S MOL     1       4.122   6.713   9.153  1.00  0.00           S  \nATOM     49    S MOL     1       5.875   0.047   2.881  1.00  0.00           S  \nATOM     50    S MOL     1       2.487   0.177   2.852  1.00  0.00           S  \nATOM     51   Li MOL     1       8.332  13.035  12.378  1.00  0.00          LI  \nATOM     52   Li MOL     1       8.190  13.267   5.543  1.00  0.00          LI  \nATOM     53   Li MOL     1       4.252  17.183   7.139  1.00  0.00          LI  \nATOM     54   Li MOL     1       4.193  17.687   0.661  1.00  0.00          LI  \nATOM     55   Li MOL     1       2.175  11.364   2.048  1.00  0.00          LI  \nATOM     56   Li MOL     1       6.303  15.373   3.671  1.00  0.00          LI  \nATOM     57   Li MOL     1       1.693  15.790   9.797  1.00  0.00          LI  \nATOM     58   Li MOL     1       1.878  15.474   3.275  1.00  0.00          LI  \nATOM     59   Li MOL     1       6.404  10.667   4.571  1.00  0.00          LI  \nATOM     60   Li MOL     1       3.824  13.116   9.762  1.00  0.00          LI  \nATOM     61   Li MOL     1       1.884  10.732   4.760  1.00  0.00          LI  \nATOM     62   Li MOL     1       6.161  10.761  11.151  1.00  0.00          LI  \nATOM     63   Li MOL     1       2.044  15.623   0.074  1.00  0.00          LI  \nATOM     64   Li MOL     1       6.317  11.145   1.709  1.00  0.00          LI  \nATOM     65   Li MOL     1       6.423  15.030   8.967  1.00  0.00          LI  \nATOM     66   Li MOL     1       1.735  10.754  11.960  1.00  0.00          LI  \nATOM     67   Li MOL     1       6.375  15.621   0.109  1.00  0.00          LI  \nATOM     68   Li MOL     1       1.979  15.036   6.310  1.00  0.00          LI  \nATOM     69   Li MOL     1       6.618  10.498   8.137  1.00  0.00          LI  \nATOM     70   Li MOL     1       1.945  10.465   8.451  1.00  0.00          LI  \nATOM     71   Ge MOL     1       8.504  13.119   2.384  1.00  0.00          GE  \nATOM     72   Ge MOL     1       4.202  17.294  10.607  1.00  0.00          GE  \nATOM     73    P MOL     1       8.415  17.212   6.524  1.00  0.00           P  \nATOM     74    P MOL     1       4.052  13.000  12.914  1.00  0.00           P  \nATOM     75    P MOL     1      -0.070  12.852   8.905  1.00  0.00           P  \nATOM     76    P MOL     1       4.122   8.811   4.033  1.00  0.00           P  \nATOM     77    S MOL     1       8.412  10.241   5.769  1.00  0.00           S  \nATOM     78    S MOL     1      -0.075  15.738   5.076  1.00  0.00           S  \nATOM     79    S MOL     1       2.377  13.167  11.723  1.00  0.00           S  \nATOM     80    S MOL     1       5.713  13.166  11.706  1.00  0.00           S  \nATOM     81    S MOL     1       4.193  14.999   1.257  1.00  0.00           S  \nATOM     82    S MOL     1       4.141  11.593   0.775  1.00  0.00           S  \nATOM     83    S MOL     1       1.535  17.020   7.644  1.00  0.00           S  \nATOM     84    S MOL     1       6.753  17.006   7.673  1.00  0.00           S  \nATOM     85    S MOL     1       0.005  11.477   0.851  1.00  0.00           S  \nATOM     86    S MOL     1      -0.066  15.111   1.347  1.00  0.00           S  \nATOM     87    S MOL     1       1.693  12.916   7.819  1.00  0.00           S  \nATOM     88    S MOL     1       6.892  12.962   7.674  1.00  0.00           S  \nATOM     89    S MOL     1       4.059  15.807   4.881  1.00  0.00           S  \nATOM     90    S MOL     1       4.168  10.261   5.490  1.00  0.00           S  \nATOM     91    S MOL     1       2.269  17.240  11.772  1.00  0.00           S  \nATOM     92    S MOL     1       5.936  17.322  11.982  1.00  0.00           S  \nATOM     93    S MOL     1       8.385  14.412  10.233  1.00  0.00           S  \nATOM     94    S MOL     1      -0.119  11.029   9.893  1.00  0.00           S  \nATOM     95    S MOL     1       6.626  12.883   3.551  1.00  0.00           S  \nATOM     96    S MOL     1       1.633  12.984   3.786  1.00  0.00           S  \nATOM     97    S MOL     1       4.316  10.335   9.387  1.00  0.00           S  \nATOM     98    S MOL     1       4.086  15.584   9.153  1.00  0.00           S  \nATOM     99    S MOL     1       5.839   8.918   2.881  1.00  0.00           S  \nATOM    100    S MOL     1       2.451   9.048   2.852  1.00  0.00           S  \nATOM    101   Li MOL     1      16.978   4.164  12.378  1.00  0.00          LI  \nATOM    102   Li MOL     1      16.836   4.396   5.543  1.00  0.00          LI  \nATOM    103   Li MOL     1      12.898   8.312   7.139  1.00  0.00          LI  \nATOM    104   Li MOL     1      12.838   8.816   0.661  1.00  0.00          LI  \nATOM    105   Li MOL     1      10.820   2.493   2.048  1.00  0.00          LI  \nATOM    106   Li MOL     1      14.948   6.502   3.671  1.00  0.00          LI  \nATOM    107   Li MOL     1      10.338   6.919   9.797  1.00  0.00          LI  \nATOM    108   Li MOL     1      10.523   6.603   3.275  1.00  0.00          LI  \nATOM    109   Li MOL     1      15.049   1.796   4.571  1.00  0.00          LI  \nATOM    110   Li MOL     1      12.470   4.245   9.762  1.00  0.00          LI  \nATOM    111   Li MOL     1      10.529   1.861   4.760  1.00  0.00          LI  \nATOM    112   Li MOL     1      14.806   1.890  11.151  1.00  0.00          LI  \nATOM    113   Li MOL     1      10.690   6.751   0.074  1.00  0.00          LI  \nATOM    114   Li MOL     1      14.963   2.273   1.709  1.00  0.00          LI  \nATOM    115   Li MOL     1      15.069   6.159   8.967  1.00  0.00          LI  \nATOM    116   Li MOL     1      10.381   1.883  11.960  1.00  0.00          LI  \nATOM    117   Li MOL     1      15.020   6.750   0.109  1.00  0.00          LI  \nATOM    118   Li MOL     1      10.624   6.165   6.310  1.00  0.00          LI  \nATOM    119   Li MOL     1      15.264   1.627   8.137  1.00  0.00          LI  \nATOM    120   Li MOL     1      10.591   1.593   8.451  1.00  0.00          LI  \nATOM    121   Ge MOL     1      17.149   4.248   2.384  1.00  0.00          GE  \nATOM    122   Ge MOL     1      12.848   8.423  10.607  1.00  0.00          GE  \nATOM    123    P MOL     1      17.060   8.340   6.524  1.00  0.00           P  \nATOM    124    P MOL     1      12.698   4.129  12.914  1.00  0.00           P  \nATOM    125    P MOL     1       8.575   3.981   8.905  1.00  0.00           P  \nATOM    126    P MOL     1      12.767  -0.060   4.033  1.00  0.00           P  \nATOM    127    S MOL     1      17.057   1.370   5.769  1.00  0.00           S  \nATOM    128    S MOL     1       8.570   6.867   5.076  1.00  0.00           S  \nATOM    129    S MOL     1      11.022   4.295  11.723  1.00  0.00           S  \nATOM    130    S MOL     1      14.359   4.295  11.706  1.00  0.00           S  \nATOM    131    S MOL     1      12.838   6.127   1.257  1.00  0.00           S  \nATOM    132    S MOL     1      12.786   2.722   0.775  1.00  0.00           S  \nATOM    133    S MOL     1      10.180   8.149   7.644  1.00  0.00           S  \nATOM    134    S MOL     1      15.399   8.135   7.673  1.00  0.00           S  \nATOM    135    S MOL     1       8.650   2.605   0.851  1.00  0.00           S  \nATOM    136    S MOL     1       8.580   6.240   1.347  1.00  0.00           S  \nATOM    137    S MOL     1      10.338   4.044   7.819  1.00  0.00           S  \nATOM    138    S MOL     1      15.537   4.091   7.674  1.00  0.00           S  \nATOM    139    S MOL     1      12.704   6.935   4.881  1.00  0.00           S  \nATOM    140    S MOL     1      12.813   1.390   5.490  1.00  0.00           S  \nATOM    141    S MOL     1      10.914   8.368  11.772  1.00  0.00           S  \nATOM    142    S MOL     1      14.581   8.451  11.982  1.00  0.00           S  \nATOM    143    S MOL     1      17.030   5.541  10.233  1.00  0.00           S  \nATOM    144    S MOL     1       8.527   2.157   9.893  1.00  0.00           S  \nATOM    145    S MOL     1      15.272   4.012   3.551  1.00  0.00           S  \nATOM    146    S MOL     1      10.279   4.113   3.786  1.00  0.00           S  \nATOM    147    S MOL     1      12.962   1.464   9.387  1.00  0.00           S  \nATOM    148    S MOL     1      12.732   6.713   9.153  1.00  0.00           S  \nATOM    149    S MOL     1      14.484   0.047   2.881  1.00  0.00           S  \nATOM    150    S MOL     1      11.096   0.177   2.852  1.00  0.00           S  \nATOM    151   Li MOL     1      16.942  13.035  12.378  1.00  0.00          LI  \nATOM    152   Li MOL     1      16.800  13.267   5.543  1.00  0.00          LI  \nATOM    153   Li MOL     1      12.862  17.183   7.139  1.00  0.00          LI  \nATOM    154   Li MOL     1      12.802  17.687   0.661  1.00  0.00          LI  \nATOM    155   Li MOL     1      10.784  11.364   2.048  1.00  0.00          LI  \nATOM    156   Li MOL     1      14.912  15.373   3.671  1.00  0.00          LI  \nATOM    157   Li MOL     1      10.302  15.790   9.797  1.00  0.00          LI  \nATOM    158   Li MOL     1      10.487  15.474   3.275  1.00  0.00          LI  \nATOM    159   Li MOL     1      15.013  10.667   4.571  1.00  0.00          LI  \nATOM    160   Li MOL     1      12.434  13.116   9.762  1.00  0.00          LI  \nATOM    161   Li MOL     1      10.493  10.732   4.760  1.00  0.00          LI  \nATOM    162   Li MOL     1      14.770  10.761  11.151  1.00  0.00          LI  \nATOM    163   Li MOL     1      10.654  15.623   0.074  1.00  0.00          LI  \nATOM    164   Li MOL     1      14.927  11.145   1.709  1.00  0.00          LI  \nATOM    165   Li MOL     1      15.033  15.030   8.967  1.00  0.00          LI  \nATOM    166   Li MOL     1      10.345  10.754  11.960  1.00  0.00          LI  \nATOM    167   Li MOL     1      14.984  15.621   0.109  1.00  0.00          LI  \nATOM    168   Li MOL     1      10.588  15.036   6.310  1.00  0.00          LI  \nATOM    169   Li MOL     1      15.228  10.498   8.137  1.00  0.00          LI  \nATOM    170   Li MOL     1      10.555  10.465   8.451  1.00  0.00          LI  \nATOM    171   Ge MOL     1      17.113  13.119   2.384  1.00  0.00          GE  \nATOM    172   Ge MOL     1      12.812  17.294  10.607  1.00  0.00          GE  \nATOM    173    P MOL     1      17.024  17.212   6.524  1.00  0.00           P  \nATOM    174    P MOL     1      12.662  13.000  12.914  1.00  0.00           P  \nATOM    175    P MOL     1       8.539  12.852   8.905  1.00  0.00           P  \nATOM    176    P MOL     1      12.731   8.811   4.033  1.00  0.00           P  \nATOM    177    S MOL     1      17.021  10.241   5.769  1.00  0.00           S  \nATOM    178    S MOL     1       8.534  15.738   5.076  1.00  0.00           S  \nATOM    179    S MOL     1      10.986  13.167  11.723  1.00  0.00           S  \nATOM    180    S MOL     1      14.323  13.166  11.706  1.00  0.00           S  \nATOM    181    S MOL     1      12.802  14.999   1.257  1.00  0.00           S  \nATOM    182    S MOL     1      12.751  11.593   0.775  1.00  0.00           S  \nATOM    183    S MOL     1      10.144  17.020   7.644  1.00  0.00           S  \nATOM    184    S MOL     1      15.363  17.006   7.673  1.00  0.00           S  \nATOM    185    S MOL     1       8.614  11.477   0.851  1.00  0.00           S  \nATOM    186    S MOL     1       8.544  15.111   1.347  1.00  0.00           S  \nATOM    187    S MOL     1      10.302  12.916   7.819  1.00  0.00           S  \nATOM    188    S MOL     1      15.502  12.962   7.674  1.00  0.00           S  \nATOM    189    S MOL     1      12.668  15.807   4.881  1.00  0.00           S  \nATOM    190    S MOL     1      12.777  10.261   5.490  1.00  0.00           S  \nATOM    191    S MOL     1      10.878  17.240  11.772  1.00  0.00           S  \nATOM    192    S MOL     1      14.546  17.322  11.982  1.00  0.00           S  \nATOM    193    S MOL     1      16.994  14.412  10.233  1.00  0.00           S  \nATOM    194    S MOL     1       8.491  11.029   9.893  1.00  0.00           S  \nATOM    195    S MOL     1      15.236  12.883   3.551  1.00  0.00           S  \nATOM    196    S MOL     1      10.243  12.984   3.786  1.00  0.00           S  \nATOM    197    S MOL     1      12.926  10.335   9.387  1.00  0.00           S  \nATOM    198    S MOL     1      12.696  15.584   9.153  1.00  0.00           S  \nATOM    199    S MOL     1      14.448   8.918   2.881  1.00  0.00           S  \nATOM    200    S MOL     1      11.060   9.048   2.852  1.00  0.00           S  \nENDMDL\n",
           "type": "blob"
          }
         ],
         "kwargs": {
          "defaultRepresentation": false,
          "ext": "pdb"
         },
         "methodName": "loadFile",
         "reconstruc_color_scheme": false,
         "target": "Stage",
         "type": "call_method"
        },
        {
         "args": [
          "500px",
          "500px"
         ],
         "kwargs": {},
         "methodName": "setSize",
         "reconstruc_color_scheme": false,
         "target": "Widget",
         "type": "call_method"
        },
        {
         "args": [
          "unitcell"
         ],
         "component_index": 0,
         "kwargs": {
          "sele": "all"
         },
         "methodName": "addRepresentation",
         "reconstruc_color_scheme": false,
         "target": "compList",
         "type": "call_method"
        },
        {
         "args": [
          "spacefill"
         ],
         "component_index": 0,
         "kwargs": {
          "sele": "all"
         },
         "methodName": "addRepresentation",
         "reconstruc_color_scheme": false,
         "target": "compList",
         "type": "call_method"
        },
        {
         "args": [],
         "kwargs": {
          "cameraType": "orthographic"
         },
         "methodName": "setParameters",
         "reconstruc_color_scheme": false,
         "target": "Stage",
         "type": "call_method"
        },
        {
         "args": [
          {
           "clipDist": 0
          }
         ],
         "kwargs": {},
         "methodName": "setParameters",
         "reconstruc_color_scheme": false,
         "target": "Widget",
         "type": "call_method"
        },
        {
         "args": [
          "spacefill",
          0
         ],
         "kwargs": {
          "colorScale": "rainbow",
          "colorScheme": "element",
          "radiusScale": 0.5,
          "radiusType": "covalent"
         },
         "methodName": "updateRepresentationsByName",
         "reconstruc_color_scheme": false,
         "target": "Widget",
         "type": "call_method"
        },
        {
         "args": [
          "this._Q = [[1.0, 0.0, 0.0], [0.0, 1.0, 0.0], [0.0, 0.0, 1.0]]\n    var tooltip = document.createElement('div')\n    Object.assign(tooltip.style, {\n      display: 'none',\n      position: 'fixed',\n      zIndex: 10,\n      pointerEvents: 'none',\n      backgroundColor: 'rgba( 0, 0, 0, 0.6 )',\n      color: 'lightgrey',\n      padding: '8px',\n      fontFamily: 'sans-serif'\n    })\n    document.body.appendChild(tooltip)\n\n    var that = this\n    this.stage.mouseControls.remove('hoverPick')\n    this.stage.signals.hovered.add(function (pickingProxy) {\n      if (pickingProxy && (pickingProxy.atom || pickingProxy.bond)) {\n        var atom = pickingProxy.atom || pickingProxy.closestBondAtom\n        var mp = pickingProxy.mouse.position\n        //tooltip.innerText = atom.element + ' i=' + atom.index + ' (' + atom.x.toFixed(2) +  ', ' + atom.y.toFixed(2) +  ', ' + atom.z.toFixed(2) + ')'\n        //var pos = that._atoms_pos[atom.index]\n        var Q = that._Q\n        var pos_x = Q[0][0] * atom.x + Q[0][1] * atom.y + Q[0][2] * atom.z \n        var pos_y = Q[1][0] * atom.x + Q[1][1] * atom.y + Q[1][2] * atom.z\n        var pos_z = Q[2][0] * atom.x + Q[2][1] * atom.y + Q[2][2] * atom.z\n        tooltip.innerText = 'i=' + atom.index + ' ' + atom.element + ' (' + pos_x.toFixed(2) +  ', ' + pos_y.toFixed(2) +  ', ' + pos_z.toFixed(2) + ')'\n        tooltip.style.bottom = window.innerHeight - mp.y + 3 + 'px'\n        tooltip.style.left = mp.x + 3 + 'px'\n        tooltip.style.display = 'block'\n      } else {\n        tooltip.style.display = 'none'\n      }\n    })\n    "
         ],
         "kwargs": {},
         "methodName": "executeCode",
         "reconstruc_color_scheme": false,
         "target": "Widget",
         "type": "call_method"
        },
        {
         "args": [
          "ball+stick"
         ],
         "component_index": 0,
         "kwargs": {
          "sele": "all"
         },
         "methodName": "addRepresentation",
         "reconstruc_color_scheme": false,
         "target": "compList",
         "type": "call_method"
        }
       ],
       "_ngl_original_stage_parameters": {
        "ambientColor": 14540253,
        "ambientIntensity": 0.2,
        "backgroundColor": "white",
        "cameraEyeSep": 0.3,
        "cameraFov": 40,
        "cameraType": "perspective",
        "clipDist": 10,
        "clipFar": 100,
        "clipNear": 0,
        "fogFar": 100,
        "fogNear": 50,
        "hoverTimeout": 0,
        "impostor": true,
        "lightColor": 14540253,
        "lightIntensity": 1,
        "mousePreset": "default",
        "panSpeed": 1,
        "quality": "medium",
        "rotateSpeed": 2,
        "sampleLevel": 0,
        "tooltip": true,
        "workerDefault": true,
        "zoomSpeed": 1.2
       },
       "_ngl_repr_dict": {
        "0": {
         "0": {
          "params": {
           "clipCenter": {
            "x": 0,
            "y": 0,
            "z": 0
           },
           "clipNear": 0,
           "clipRadius": 0,
           "colorMode": "hcl",
           "colorReverse": false,
           "colorScale": "",
           "colorScheme": "element",
           "colorValue": "orange",
           "defaultAssembly": "",
           "depthWrite": true,
           "diffuse": 16777215,
           "diffuseInterior": false,
           "disableImpostor": false,
           "disablePicking": false,
           "flatShaded": false,
           "interiorColor": 2236962,
           "interiorDarkening": 0,
           "lazy": false,
           "matrix": {
            "elements": [
             1,
             0,
             0,
             0,
             0,
             1,
             0,
             0,
             0,
             0,
             1,
             0,
             0,
             0,
             0,
             1
            ]
           },
           "metalness": 0,
           "opacity": 1,
           "quality": "medium",
           "radialSegments": 10,
           "radiusData": {},
           "radiusScale": 1,
           "radiusSize": 0.07919428873467649,
           "radiusType": "vdw",
           "roughness": 0.4,
           "sele": "all",
           "side": "double",
           "sphereDetail": 1,
           "useInteriorColor": true,
           "visible": true,
           "wireframe": false
          },
          "type": "unitcell"
         },
         "1": {
          "params": {
           "assembly": "default",
           "clipCenter": {
            "x": 0,
            "y": 0,
            "z": 0
           },
           "clipNear": 0,
           "clipRadius": 0,
           "colorMode": "hcl",
           "colorReverse": false,
           "colorScale": "rainbow",
           "colorScheme": "element",
           "colorValue": 9474192,
           "defaultAssembly": "",
           "depthWrite": true,
           "diffuse": 16777215,
           "diffuseInterior": false,
           "disableImpostor": false,
           "disablePicking": false,
           "flatShaded": false,
           "interiorColor": 2236962,
           "interiorDarkening": 0,
           "lazy": false,
           "matrix": {
            "elements": [
             1,
             0,
             0,
             0,
             0,
             1,
             0,
             0,
             0,
             0,
             1,
             0,
             0,
             0,
             0,
             1
            ]
           },
           "metalness": 0,
           "opacity": 1,
           "quality": "medium",
           "radiusData": {},
           "radiusScale": 0.5,
           "radiusSize": 1,
           "radiusType": "covalent",
           "roughness": 0.4,
           "sele": "all",
           "side": "double",
           "sphereDetail": 1,
           "useInteriorColor": true,
           "visible": true,
           "wireframe": false
          },
          "type": "spacefill"
         },
         "2": {
          "params": {
           "aspectRatio": 2,
           "assembly": "default",
           "bondScale": 0.4,
           "bondSpacing": 1,
           "clipCenter": {
            "x": 0,
            "y": 0,
            "z": 0
           },
           "clipNear": 0,
           "clipRadius": 0,
           "colorMode": "hcl",
           "colorReverse": false,
           "colorScale": "",
           "colorScheme": "element",
           "colorValue": 9474192,
           "cylinderOnly": false,
           "defaultAssembly": "",
           "depthWrite": true,
           "diffuse": 16777215,
           "diffuseInterior": false,
           "disableImpostor": false,
           "disablePicking": false,
           "flatShaded": false,
           "interiorColor": 2236962,
           "interiorDarkening": 0,
           "lazy": false,
           "lineOnly": false,
           "linewidth": 2,
           "matrix": {
            "elements": [
             1,
             0,
             0,
             0,
             0,
             1,
             0,
             0,
             0,
             0,
             1,
             0,
             0,
             0,
             0,
             1
            ]
           },
           "metalness": 0,
           "multipleBond": "off",
           "opacity": 1,
           "openEnded": true,
           "quality": "medium",
           "radialSegments": 10,
           "radiusData": {},
           "radiusScale": 1,
           "radiusSize": 0.15,
           "radiusType": "size",
           "roughness": 0.4,
           "sele": "all",
           "side": "double",
           "sphereDetail": 1,
           "useInteriorColor": true,
           "visible": true,
           "wireframe": false
          },
          "type": "ball+stick"
         }
        }
       },
       "_ngl_serialize": false,
       "_ngl_version": "2.0.0-dev.36",
       "_ngl_view_id": [
        "6E9BBEFA-C46F-48E8-8542-5F9EF942F109"
       ],
       "_player_dict": {},
       "_scene_position": {},
       "_scene_rotation": {},
       "_synced_model_ids": [],
       "_synced_repr_model_ids": [],
       "_view_height": "",
       "_view_width": "",
       "background": "white",
       "frame": 0,
       "gui_style": null,
       "layout": "IPY_MODEL_0d1f66f1eefe409da27c661e05563fbf",
       "max_frame": 0,
       "n_components": 1,
       "picked": {}
      }
     },
     "394f6ad8c88d4706b87f8b63b10f890d": {
      "model_module": "@jupyter-widgets/controls",
      "model_module_version": "1.5.0",
      "model_name": "FloatSliderModel",
      "state": {
       "description": "Ball size",
       "layout": "IPY_MODEL_22473f4bc4ed4b59a870f9ff204484d1",
       "max": 1.5,
       "step": 0.01,
       "style": "IPY_MODEL_c76f607b737f44e89bfeae91d7f36e8b",
       "value": 0.5
      }
     },
     "3acf3dd07cba4001a8d621967e5716ba": {
      "model_module": "@jupyter-widgets/controls",
      "model_module_version": "1.5.0",
      "model_name": "SliderStyleModel",
      "state": {
       "description_width": ""
      }
     },
     "3ad361484fdc422bbc55ce80076249e5": {
      "model_module": "@jupyter-widgets/output",
      "model_module_version": "1.0.0",
      "model_name": "OutputModel",
      "state": {
       "layout": "IPY_MODEL_1fc3262187b043ada67faa67d1c0f607"
      }
     },
     "3b0b9060c42a468cb858f2c35404a998": {
      "model_module": "@jupyter-widgets/controls",
      "model_module_version": "1.5.0",
      "model_name": "ButtonModel",
      "state": {
       "description": "Save image",
       "layout": "IPY_MODEL_7963b9b0f52644e49c367753793af35d",
       "style": "IPY_MODEL_f9a1759db64445e58e7c56194f0af70c",
       "tooltip": "Save current frame to file.\nCurrently .png and .html are supported.\nIt takes a bit time, please be patient."
      }
     },
     "3b24a3b035824a8eaf9488beb59d9619": {
      "model_module": "@jupyter-widgets/controls",
      "model_module_version": "1.5.0",
      "model_name": "HBoxModel",
      "state": {
       "children": [
        "IPY_MODEL_384f1c631e0e4527a88bbcaf7b531e8b",
        "IPY_MODEL_560d5692de984ea1ac99a41259241580"
       ],
       "layout": "IPY_MODEL_50dc469c0da5441e9202bce93802dae8"
      }
     },
     "3bdf6d5d9c4b43ff9d67d15c4a63fdda": {
      "model_module": "@jupyter-widgets/controls",
      "model_module_version": "1.5.0",
      "model_name": "ButtonStyleModel",
      "state": {}
     },
     "3be391a5ff9444ad85b51dfa4ae7892c": {
      "model_module": "@jupyter-widgets/base",
      "model_module_version": "1.2.0",
      "model_name": "LayoutModel",
      "state": {}
     },
     "3d49b9b5fecf433987dff710f9484501": {
      "model_module": "@jupyter-widgets/controls",
      "model_module_version": "1.5.0",
      "model_name": "FloatSliderModel",
      "state": {
       "description": "Force scale",
       "layout": "IPY_MODEL_05ac121313724ce2a232244f708a4920",
       "step": 0.1,
       "style": "IPY_MODEL_c331ad0643da4b98bc82e6bad37fc261",
       "value": 0.5
      }
     },
     "401a43f0acae46fa9cf809ec1c2bee00": {
      "model_module": "@jupyter-widgets/controls",
      "model_module_version": "1.5.0",
      "model_name": "LinkModel",
      "state": {
       "source": [
        "IPY_MODEL_0a5267d71b574429aae2b3492596a161",
        "value"
       ],
       "target": [
        "IPY_MODEL_c1a4a70b27f448f6afa333cdf863cd71",
        "value"
       ]
      }
     },
     "403a13416a564f8d90dce6fd03c41d31": {
      "model_module": "@jupyter-widgets/base",
      "model_module_version": "1.2.0",
      "model_name": "LayoutModel",
      "state": {}
     },
     "408f9bd4992a4d77a30ccf3ddf888e2d": {
      "model_module": "@jupyter-widgets/base",
      "model_module_version": "1.2.0",
      "model_name": "LayoutModel",
      "state": {}
     },
     "42e8c6d8a048486186d9f819d5357dc7": {
      "model_module": "@jupyter-widgets/base",
      "model_module_version": "1.2.0",
      "model_name": "LayoutModel",
      "state": {}
     },
     "43cc589a6fee4ebcb0b8ae020e77fcdd": {
      "model_module": "@jupyter-widgets/controls",
      "model_module_version": "1.5.0",
      "model_name": "CheckboxModel",
      "state": {
       "description": "Show charge",
       "disabled": false,
       "layout": "IPY_MODEL_789dad00c7e4442eb751cfae7141664d",
       "style": "IPY_MODEL_befba668182b474483e53f660302338f",
       "value": false
      }
     },
     "43e1fc5d881f4e528e2fe6a3af05ef3a": {
      "model_module": "@jupyter-widgets/base",
      "model_module_version": "1.2.0",
      "model_name": "LayoutModel",
      "state": {}
     },
     "44ae129de8064ea9889a6e035b9e9b87": {
      "model_module": "@jupyter-widgets/controls",
      "model_module_version": "1.5.0",
      "model_name": "SliderStyleModel",
      "state": {
       "description_width": ""
      }
     },
     "44d26390a2034bca9e9d29d1c0048229": {
      "model_module": "@jupyter-widgets/controls",
      "model_module_version": "1.5.0",
      "model_name": "HBoxModel",
      "state": {
       "children": [
        "IPY_MODEL_d8e4d5fec2774dc39529ff261f5a93a6",
        "IPY_MODEL_07f4583056b64e429298beb61e71127d"
       ],
       "layout": "IPY_MODEL_a146574723f5445781cdec64af173dea"
      }
     },
     "47198eb043da4700b8354b5834b7a9ad": {
      "model_module": "@jupyter-widgets/controls",
      "model_module_version": "1.5.0",
      "model_name": "FloatSliderModel",
      "state": {
       "description": "Ball size",
       "layout": "IPY_MODEL_aadb80ccf5d1496792924924e2a9655f",
       "max": 1.5,
       "step": 0.01,
       "style": "IPY_MODEL_957b2fb602a4442c9d8427433bb9b36b",
       "value": 0.5
      }
     },
     "496cccb8596c4b6dbd425389dcd3b419": {
      "model_module": "@jupyter-widgets/base",
      "model_module_version": "1.2.0",
      "model_name": "LayoutModel",
      "state": {}
     },
     "4a1fef264e104829bc76aa0eba1657aa": {
      "model_module": "@jupyter-widgets/controls",
      "model_module_version": "1.5.0",
      "model_name": "HBoxModel",
      "state": {
       "children": [
        "IPY_MODEL_ce398beed9004267a48414e1138eacfc",
        "IPY_MODEL_1561c6cc44c14105adc37bc1ecc8650c"
       ],
       "layout": "IPY_MODEL_f3359ffaeef74b14826a7a9eab6c8402"
      }
     },
     "4a341416a80448129cf1c315996af4c1": {
      "model_module": "@jupyter-widgets/base",
      "model_module_version": "1.2.0",
      "model_name": "LayoutModel",
      "state": {}
     },
     "4b1b0dcf844d4ddb87052c33d79afefc": {
      "model_module": "@jupyter-widgets/controls",
      "model_module_version": "1.5.0",
      "model_name": "CheckboxModel",
      "state": {
       "description": "Show force",
       "disabled": false,
       "layout": "IPY_MODEL_305e3d77579d49ff87c784d23eac9933",
       "style": "IPY_MODEL_b947a5ad4e9d417eb2f96823f83051cd",
       "value": false
      }
     },
     "4b740a3cdf0c4ac4862faab6d3b3dba4": {
      "model_module": "@jupyter-widgets/base",
      "model_module_version": "1.2.0",
      "model_name": "LayoutModel",
      "state": {
       "width": "34px"
      }
     },
     "4c4f98c826fc499a8f28fc639f5adcc5": {
      "model_module": "@jupyter-widgets/controls",
      "model_module_version": "1.5.0",
      "model_name": "HBoxModel",
      "state": {
       "children": [
        "IPY_MODEL_0a5267d71b574429aae2b3492596a161",
        "IPY_MODEL_c1a4a70b27f448f6afa333cdf863cd71"
       ],
       "layout": "IPY_MODEL_381c3e129676425f8b94725139a2a801"
      }
     },
     "4ef79518009c434b8a2fa7a42105ca2f": {
      "model_module": "@jupyter-widgets/controls",
      "model_module_version": "1.5.0",
      "model_name": "HBoxModel",
      "state": {
       "children": [
        "IPY_MODEL_fd65fc9915024a95a59504ba4aef434e",
        "IPY_MODEL_20a563f4b1844d5abf17adecbf43665d"
       ],
       "layout": "IPY_MODEL_5bce5815d3294a7f9db03dfd32385a1e"
      }
     },
     "4ff52da69c9f4557a9548739388e3cc3": {
      "model_module": "@jupyter-widgets/controls",
      "model_module_version": "1.5.0",
      "model_name": "DescriptionStyleModel",
      "state": {
       "description_width": ""
      }
     },
     "50dc469c0da5441e9202bce93802dae8": {
      "model_module": "@jupyter-widgets/base",
      "model_module_version": "1.2.0",
      "model_name": "LayoutModel",
      "state": {}
     },
     "50ff483090914542abc06a7896f8c401": {
      "model_module": "@jupyter-widgets/controls",
      "model_module_version": "1.5.0",
      "model_name": "TextModel",
      "state": {
       "description": "Filename: ",
       "layout": "IPY_MODEL_4a341416a80448129cf1c315996af4c1",
       "style": "IPY_MODEL_ed691b2a62fe4a6782be1fdaeee6d29b",
       "value": "screenshot.png"
      }
     },
     "525041574dd44923ada4e486295e1a50": {
      "model_module": "@jupyter-widgets/base",
      "model_module_version": "1.2.0",
      "model_name": "LayoutModel",
      "state": {}
     },
     "560d5692de984ea1ac99a41259241580": {
      "model_module": "@jupyter-widgets/controls",
      "model_module_version": "1.5.0",
      "model_name": "VBoxModel",
      "state": {
       "children": [
        "IPY_MODEL_870c2fbbc57b49a59968a7af56e3f0d9",
        "IPY_MODEL_8c27dcb7ae5d4202b073a209aa2d5f22",
        "IPY_MODEL_89400336b5904b60a6193869e7e4b556",
        "IPY_MODEL_8f41634f56094fc8bd44d64ddc1f37fa",
        "IPY_MODEL_4ef79518009c434b8a2fa7a42105ca2f",
        "IPY_MODEL_0efdaa5a6f0e4dbb805bc56656229d16",
        "IPY_MODEL_bf81a866d78a41b1a49a7cfaca9df388",
        "IPY_MODEL_ff28441fbd5f4d9a96e32b94d3b308ba",
        "IPY_MODEL_6630471582b84b0c902bbcee6f3de681",
        "IPY_MODEL_0f54046df50f4a7489198368a32e6227"
       ],
       "layout": "IPY_MODEL_35d6bcc21b03469bb2a7e43a7150ee14"
      }
     },
     "565972e6f4f04fb08dd164840d49724f": {
      "model_module": "@jupyter-widgets/controls",
      "model_module_version": "1.5.0",
      "model_name": "ButtonStyleModel",
      "state": {}
     },
     "56a21993b1094afab46ac9ed170c02e0": {
      "model_module": "@jupyter-widgets/base",
      "model_module_version": "1.2.0",
      "model_name": "LayoutModel",
      "state": {}
     },
     "56a66abbc8ac4630800644a5d0d22ca3": {
      "model_module": "@jupyter-widgets/controls",
      "model_module_version": "1.5.0",
      "model_name": "ButtonStyleModel",
      "state": {}
     },
     "56e454a413504f638cff27da410e7afe": {
      "model_module": "@jupyter-widgets/controls",
      "model_module_version": "1.5.0",
      "model_name": "DropdownModel",
      "state": {
       "_options_labels": [
        "All",
        "Al"
       ],
       "description": "Show",
       "index": 0,
       "layout": "IPY_MODEL_35cc6dd8b6f4472e805072fb677ca717",
       "style": "IPY_MODEL_994fb964f6274ed69f5c2214f94a32ea"
      }
     },
     "57af5fde2a7f4b5ba7cf8aa5f1893dc4": {
      "model_module": "@jupyter-widgets/controls",
      "model_module_version": "1.5.0",
      "model_name": "DropdownModel",
      "state": {
       "_options_labels": [
        " ",
        "picking",
        "random",
        "uniform",
        "atomindex",
        "residueindex",
        "chainindex",
        "modelindex",
        "sstruc",
        "element",
        "resname",
        "bfactor",
        "hydrophobicity",
        "value",
        "volume",
        "occupancy"
       ],
       "description": "Color scheme",
       "index": 9,
       "layout": "IPY_MODEL_cbbe66145c7d46189e843f9fec9c4eef",
       "style": "IPY_MODEL_b08ceafa39d74e9d900291c9574203f4"
      }
     },
     "586228f089124804b9f8b301c3a735e2": {
      "model_module": "@jupyter-widgets/controls",
      "model_module_version": "1.5.0",
      "model_name": "SliderStyleModel",
      "state": {
       "description_width": ""
      }
     },
     "5900dd92ff724594bee118f6f3208bf7": {
      "model_module": "@jupyter-widgets/controls",
      "model_module_version": "1.5.0",
      "model_name": "HBoxModel",
      "state": {
       "children": [
        "IPY_MODEL_c997bd359191467e825dac5b60a05ba3",
        "IPY_MODEL_84cd9b83bc69450da1821fe7ae6fdba0"
       ],
       "layout": "IPY_MODEL_c614e3e51d6d44a1b19ad4ab54ca814b"
      }
     },
     "5a2b33acfeff4f7ca8aecebe60df2f51": {
      "model_module": "@jupyter-widgets/controls",
      "model_module_version": "1.5.0",
      "model_name": "DescriptionStyleModel",
      "state": {
       "description_width": ""
      }
     },
     "5a98a34b9b2640b59fa84477e1c5cfdc": {
      "model_module": "@jupyter-widgets/base",
      "model_module_version": "1.2.0",
      "model_name": "LayoutModel",
      "state": {}
     },
     "5bce5815d3294a7f9db03dfd32385a1e": {
      "model_module": "@jupyter-widgets/base",
      "model_module_version": "1.2.0",
      "model_name": "LayoutModel",
      "state": {}
     },
     "5db03fe825a74608a798577bbaada4bd": {
      "model_module": "@jupyter-widgets/controls",
      "model_module_version": "1.5.0",
      "model_name": "DescriptionStyleModel",
      "state": {
       "description_width": ""
      }
     },
     "5f809bc68332486bb1584ed771a11b5d": {
      "model_module": "@jupyter-widgets/controls",
      "model_module_version": "1.5.0",
      "model_name": "DescriptionStyleModel",
      "state": {
       "description_width": ""
      }
     },
     "60245a07b3d34c17bca129ae02deb9c8": {
      "model_module": "@jupyter-widgets/base",
      "model_module_version": "1.2.0",
      "model_name": "LayoutModel",
      "state": {
       "border": "0px solid black"
      }
     },
     "604d4e5e2ae64f1f947e3c093639c706": {
      "model_module": "@jupyter-widgets/controls",
      "model_module_version": "1.5.0",
      "model_name": "HBoxModel",
      "state": {
       "children": [
        "IPY_MODEL_111137225baa4ba6b008e52a4d5bb306",
        "IPY_MODEL_fe31fea721f746c6978a3170f905f50a"
       ],
       "layout": "IPY_MODEL_63e6e139f182481a964b2805257175c7"
      }
     },
     "63e6e139f182481a964b2805257175c7": {
      "model_module": "@jupyter-widgets/base",
      "model_module_version": "1.2.0",
      "model_name": "LayoutModel",
      "state": {}
     },
     "64ca204762ef48d48941afaa9f16910d": {
      "model_module": "@jupyter-widgets/base",
      "model_module_version": "1.2.0",
      "model_name": "LayoutModel",
      "state": {}
     },
     "6630471582b84b0c902bbcee6f3de681": {
      "model_module": "@jupyter-widgets/controls",
      "model_module_version": "1.5.0",
      "model_name": "FloatSliderModel",
      "state": {
       "description": "Charge scale",
       "layout": "IPY_MODEL_f4ad131785eb44dea81c485d54534408",
       "step": 0.1,
       "style": "IPY_MODEL_df241d7f2ffc48a7b5c3029b80d21c6c",
       "value": 1
      }
     },
     "69049031ee0847bdb5e3236790aa94f9": {
      "model_module": "@jupyter-widgets/controls",
      "model_module_version": "1.5.0",
      "model_name": "LinkModel",
      "state": {
       "source": [
        "IPY_MODEL_0a5267d71b574429aae2b3492596a161",
        "value"
       ],
       "target": [
        "IPY_MODEL_c997bd359191467e825dac5b60a05ba3",
        "frame"
       ]
      }
     },
     "69e4ff14773043db9381aee386f14792": {
      "model_module": "@jupyter-widgets/output",
      "model_module_version": "1.0.0",
      "model_name": "OutputModel",
      "state": {
       "layout": "IPY_MODEL_60245a07b3d34c17bca129ae02deb9c8"
      }
     },
     "6b1634cf7e00472a826a0ac45d1e96a1": {
      "model_module": "@jupyter-widgets/base",
      "model_module_version": "1.2.0",
      "model_name": "LayoutModel",
      "state": {}
     },
     "6bf78c01d72b43419011fb49cddb805d": {
      "model_module": "@jupyter-widgets/controls",
      "model_module_version": "1.5.0",
      "model_name": "ButtonStyleModel",
      "state": {}
     },
     "6cad6a358eef469aa85bf2c2b45b531f": {
      "model_module": "@jupyter-widgets/controls",
      "model_module_version": "1.5.0",
      "model_name": "DescriptionStyleModel",
      "state": {
       "description_width": ""
      }
     },
     "6f8cdacf384743a1a047424533207d8b": {
      "model_module": "@jupyter-widgets/controls",
      "model_module_version": "1.5.0",
      "model_name": "ButtonModel",
      "state": {
       "description": "Save image",
       "layout": "IPY_MODEL_b4c529d0ffd04fa7a642b5d033645d81",
       "style": "IPY_MODEL_01ea062011dc4c98b6a91ea15f52701f",
       "tooltip": "Save current frame to file.\nCurrently .png and .html are supported.\nIt takes a bit time, please be patient."
      }
     },
     "70953ec5e4ab4992af47ef0874b281fb": {
      "model_module": "@jupyter-widgets/controls",
      "model_module_version": "1.5.0",
      "model_name": "IntSliderModel",
      "state": {
       "layout": "IPY_MODEL_42e8c6d8a048486186d9f819d5357dc7",
       "max": 99,
       "style": "IPY_MODEL_24bc0ec7a2c7457bb9b5baa9ac9bbce7",
       "value": 99
      }
     },
     "70d85542399048eaa9d13b5828e8a261": {
      "model_module": "@jupyter-widgets/base",
      "model_module_version": "1.2.0",
      "model_name": "LayoutModel",
      "state": {}
     },
     "74859c15cae44e61ba8a27da91595bd7": {
      "model_module": "@jupyter-widgets/base",
      "model_module_version": "1.2.0",
      "model_name": "LayoutModel",
      "state": {}
     },
     "77c4b57d5c9f4bbc867cba6d43c19ae7": {
      "model_module": "@jupyter-widgets/controls",
      "model_module_version": "1.5.0",
      "model_name": "DropdownModel",
      "state": {
       "_options_labels": [
        " ",
        "picking",
        "random",
        "uniform",
        "atomindex",
        "residueindex",
        "chainindex",
        "modelindex",
        "sstruc",
        "element",
        "resname",
        "bfactor",
        "hydrophobicity",
        "value",
        "volume",
        "occupancy"
       ],
       "description": "Color scheme",
       "index": 9,
       "layout": "IPY_MODEL_241ceafc3edb4b7c85838027547cfa4e",
       "style": "IPY_MODEL_5db03fe825a74608a798577bbaada4bd"
      }
     },
     "789dad00c7e4442eb751cfae7141664d": {
      "model_module": "@jupyter-widgets/base",
      "model_module_version": "1.2.0",
      "model_name": "LayoutModel",
      "state": {}
     },
     "7907fcb1c02c4f62857d1d81fb7131a2": {
      "model_module": "@jupyter-widgets/controls",
      "model_module_version": "1.5.0",
      "model_name": "PlayModel",
      "state": {
       "layout": "IPY_MODEL_82065192d0c14aafa4fbb3f59b5e9047",
       "max": 99,
       "style": "IPY_MODEL_a16daf0c05d24ff69c880c281cf10187",
       "value": 99
      }
     },
     "7963b9b0f52644e49c367753793af35d": {
      "model_module": "@jupyter-widgets/base",
      "model_module_version": "1.2.0",
      "model_name": "LayoutModel",
      "state": {}
     },
     "7987e3edf07d4b58b43d1a6af0c6f44d": {
      "model_module": "@jupyter-widgets/controls",
      "model_module_version": "1.5.0",
      "model_name": "SliderStyleModel",
      "state": {
       "description_width": ""
      }
     },
     "79d80b7f9f98482881097eaf0b595d22": {
      "model_module": "@jupyter-widgets/controls",
      "model_module_version": "1.5.0",
      "model_name": "HBoxModel",
      "state": {
       "children": [
        "IPY_MODEL_9b9ffdd35c78444a824563fef9b1caea",
        "IPY_MODEL_3b0b9060c42a468cb858f2c35404a998"
       ],
       "layout": "IPY_MODEL_b6aed9ed7285493aafa797c9bec04b35"
      }
     },
     "7b12cb0b91ef470eb4eee941bbd58c48": {
      "model_module": "@jupyter-widgets/base",
      "model_module_version": "1.2.0",
      "model_name": "LayoutModel",
      "state": {}
     },
     "7c0e4411be884d5d97751aa5752801e3": {
      "model_module": "@jupyter-widgets/base",
      "model_module_version": "1.2.0",
      "model_name": "LayoutModel",
      "state": {}
     },
     "803e5c68c2ef4addbc4dc446cbe5cc58": {
      "model_module": "@jupyter-widgets/controls",
      "model_module_version": "1.5.0",
      "model_name": "DescriptionStyleModel",
      "state": {
       "description_width": ""
      }
     },
     "80ed47befbb94e3fa378273caa584a76": {
      "model_module": "@jupyter-widgets/base",
      "model_module_version": "1.2.0",
      "model_name": "LayoutModel",
      "state": {}
     },
     "81011f33f9c4405db0a2c9424bf8ffdf": {
      "model_module": "@jupyter-widgets/controls",
      "model_module_version": "1.5.0",
      "model_name": "LinkModel",
      "state": {
       "source": [
        "IPY_MODEL_d8e4d5fec2774dc39529ff261f5a93a6",
        "value"
       ],
       "target": [
        "IPY_MODEL_07f4583056b64e429298beb61e71127d",
        "value"
       ]
      }
     },
     "813fd2c6054c4bf0962106beb845c3f9": {
      "model_module": "@jupyter-widgets/controls",
      "model_module_version": "1.5.0",
      "model_name": "DropdownModel",
      "state": {
       "_options_labels": [
        "All",
        "O",
        "Al"
       ],
       "description": "Show",
       "index": 0,
       "layout": "IPY_MODEL_e1f897c3611540beafd97340fc987bf1",
       "style": "IPY_MODEL_f3914aa1cbda4d4c901b7253bc05a384"
      }
     },
     "82065192d0c14aafa4fbb3f59b5e9047": {
      "model_module": "@jupyter-widgets/base",
      "model_module_version": "1.2.0",
      "model_name": "LayoutModel",
      "state": {}
     },
     "82c5abf3c581457aa2c6d2ecad07b7dc": {
      "model_module": "@jupyter-widgets/base",
      "model_module_version": "1.2.0",
      "model_name": "LayoutModel",
      "state": {}
     },
     "8360cbcf9c8341a79ad2b4bbf12c76c5": {
      "model_module": "@jupyter-widgets/controls",
      "model_module_version": "1.5.0",
      "model_name": "SliderStyleModel",
      "state": {
       "description_width": ""
      }
     },
     "84cd9b83bc69450da1821fe7ae6fdba0": {
      "model_module": "@jupyter-widgets/controls",
      "model_module_version": "1.5.0",
      "model_name": "VBoxModel",
      "state": {
       "children": [
        "IPY_MODEL_56e454a413504f638cff27da410e7afe",
        "IPY_MODEL_77c4b57d5c9f4bbc867cba6d43c19ae7",
        "IPY_MODEL_47198eb043da4700b8354b5834b7a9ad",
        "IPY_MODEL_aba3e20c096f47d8a6c3b4fe402e69af",
        "IPY_MODEL_060c1dafb22f49359c9f351a21cc7488",
        "IPY_MODEL_79d80b7f9f98482881097eaf0b595d22",
        "IPY_MODEL_4b1b0dcf844d4ddb87052c33d79afefc",
        "IPY_MODEL_30e41cc12c9f4a02a3e7f94677087e8c",
        "IPY_MODEL_43cc589a6fee4ebcb0b8ae020e77fcdd",
        "IPY_MODEL_9570fa525f3f4a0fb8b4a920f10f8068",
        "IPY_MODEL_3ad361484fdc422bbc55ce80076249e5"
       ],
       "layout": "IPY_MODEL_03300bbbdb6845d7a477b4de12250f54"
      }
     },
     "856d755ba4a04d2a90f4bc19c63e06b3": {
      "model_module": "@jupyter-widgets/controls",
      "model_module_version": "1.5.0",
      "model_name": "LinkModel",
      "state": {
       "source": [
        "IPY_MODEL_111137225baa4ba6b008e52a4d5bb306",
        "max"
       ],
       "target": [
        "IPY_MODEL_28587f7fd27d4dc1b93fb1a490c69e24",
        "max_frame"
       ]
      }
     },
     "86b870d10cd8496aa0e633e10f2a8649": {
      "model_module": "@jupyter-widgets/controls",
      "model_module_version": "1.5.0",
      "model_name": "CheckboxModel",
      "state": {
       "description": "Show force",
       "disabled": false,
       "layout": "IPY_MODEL_335b00a04f144e659a434cad7eb2ae57",
       "style": "IPY_MODEL_ef6359bd6ca74caa942c6b3d30f05bda",
       "value": false
      }
     },
     "870c2fbbc57b49a59968a7af56e3f0d9": {
      "model_module": "@jupyter-widgets/controls",
      "model_module_version": "1.5.0",
      "model_name": "DropdownModel",
      "state": {
       "_options_labels": [
        "All",
        "Li",
        "S",
        "Ge",
        "P"
       ],
       "description": "Show",
       "index": 0,
       "layout": "IPY_MODEL_cd9a0e0e02fd4e0a9675670899c516db",
       "style": "IPY_MODEL_f93cc3faed19423f9916fcf6c8c62b72"
      }
     },
     "87521081dfdd4376be3ea808905ed26d": {
      "model_module": "@jupyter-widgets/controls",
      "model_module_version": "1.5.0",
      "model_name": "DescriptionStyleModel",
      "state": {
       "description_width": ""
      }
     },
     "893c4d52ae6642fc9563c415a51e21db": {
      "model_module": "@jupyter-widgets/base",
      "model_module_version": "1.2.0",
      "model_name": "LayoutModel",
      "state": {}
     },
     "89400336b5904b60a6193869e7e4b556": {
      "model_module": "@jupyter-widgets/controls",
      "model_module_version": "1.5.0",
      "model_name": "FloatSliderModel",
      "state": {
       "description": "Ball size",
       "layout": "IPY_MODEL_93e34082613c44c7a0b0184d0eafa6a0",
       "max": 1.5,
       "step": 0.01,
       "style": "IPY_MODEL_3acf3dd07cba4001a8d621967e5716ba",
       "value": 0.5
      }
     },
     "8a03ec2aef93441e818f288493d3f413": {
      "model_module": "@jupyter-widgets/controls",
      "model_module_version": "1.5.0",
      "model_name": "DropdownModel",
      "state": {
       "_options_labels": [
        " ",
        "picking",
        "random",
        "uniform",
        "atomindex",
        "residueindex",
        "chainindex",
        "modelindex",
        "sstruc",
        "element",
        "resname",
        "bfactor",
        "hydrophobicity",
        "value",
        "volume",
        "occupancy"
       ],
       "description": "Color scheme",
       "index": 9,
       "layout": "IPY_MODEL_496cccb8596c4b6dbd425389dcd3b419",
       "style": "IPY_MODEL_5a2b33acfeff4f7ca8aecebe60df2f51"
      }
     },
     "8a6031b1a6d44897a24bfa1bcb96c8d9": {
      "model_module": "@jupyter-widgets/controls",
      "model_module_version": "1.5.0",
      "model_name": "ButtonStyleModel",
      "state": {}
     },
     "8ad7f564a5fc407b80b11c252501035e": {
      "model_module": "@jupyter-widgets/controls",
      "model_module_version": "1.5.0",
      "model_name": "DescriptionStyleModel",
      "state": {
       "description_width": ""
      }
     },
     "8c27dcb7ae5d4202b073a209aa2d5f22": {
      "model_module": "@jupyter-widgets/controls",
      "model_module_version": "1.5.0",
      "model_name": "DropdownModel",
      "state": {
       "_options_labels": [
        " ",
        "picking",
        "random",
        "uniform",
        "atomindex",
        "residueindex",
        "chainindex",
        "modelindex",
        "sstruc",
        "element",
        "resname",
        "bfactor",
        "hydrophobicity",
        "value",
        "volume",
        "occupancy"
       ],
       "description": "Color scheme",
       "index": 9,
       "layout": "IPY_MODEL_000c6313d41b46db802056f97083f332",
       "style": "IPY_MODEL_242ac908b2ec4a02a8026b00ae4a02a0"
      }
     },
     "8f3a63cc9fb0451f8a1827328156b832": {
      "model_module": "@jupyter-widgets/controls",
      "model_module_version": "1.5.0",
      "model_name": "VBoxModel",
      "state": {
       "children": [
        "IPY_MODEL_813fd2c6054c4bf0962106beb845c3f9",
        "IPY_MODEL_8a03ec2aef93441e818f288493d3f413",
        "IPY_MODEL_394f6ad8c88d4706b87f8b63b10f890d",
        "IPY_MODEL_04fbed8330644de7b73aadad815f2eb6",
        "IPY_MODEL_50ff483090914542abc06a7896f8c401",
        "IPY_MODEL_4a1fef264e104829bc76aa0eba1657aa",
        "IPY_MODEL_86b870d10cd8496aa0e633e10f2a8649",
        "IPY_MODEL_d471c8264bf54567a29facb99b18a3b7",
        "IPY_MODEL_c0086e91adcb413b8684fdba0a6610ff",
        "IPY_MODEL_20c8e1b4e3b141b6a4221592fc5f1f5f",
        "IPY_MODEL_d667fa642e2f42ea971ae19f4545cdfb"
       ],
       "layout": "IPY_MODEL_64ca204762ef48d48941afaa9f16910d"
      }
     },
     "8f41634f56094fc8bd44d64ddc1f37fa": {
      "model_module": "@jupyter-widgets/controls",
      "model_module_version": "1.5.0",
      "model_name": "TextModel",
      "state": {
       "description": "Filename: ",
       "layout": "IPY_MODEL_ccc3f9da1c8a48b9a6ba1273d85c2625",
       "style": "IPY_MODEL_a52ad8aefa2f4f1d864e1979d4d59fbf",
       "value": "screenshot.png"
      }
     },
     "8f54e4921b4b439e8d759d65d22bccd6": {
      "model_module": "@jupyter-widgets/controls",
      "model_module_version": "1.5.0",
      "model_name": "LinkModel",
      "state": {
       "source": [
        "IPY_MODEL_70953ec5e4ab4992af47ef0874b281fb",
        "max"
       ],
       "target": [
        "IPY_MODEL_bb794d697a9d4dc3901980f5f176d62e",
        "max_frame"
       ]
      }
     },
     "90ba8bc8a6744805904a11c3b14b87ef": {
      "model_module": "@jupyter-widgets/controls",
      "model_module_version": "1.5.0",
      "model_name": "ButtonStyleModel",
      "state": {}
     },
     "938dc9f2408c4c8cab7b302c5a130bca": {
      "model_module": "@jupyter-widgets/base",
      "model_module_version": "1.2.0",
      "model_name": "LayoutModel",
      "state": {}
     },
     "93a874578857473d8cd7f0e7037fc2b8": {
      "model_module": "@jupyter-widgets/controls",
      "model_module_version": "1.5.0",
      "model_name": "DescriptionStyleModel",
      "state": {
       "description_width": ""
      }
     },
     "93e34082613c44c7a0b0184d0eafa6a0": {
      "model_module": "@jupyter-widgets/base",
      "model_module_version": "1.2.0",
      "model_name": "LayoutModel",
      "state": {}
     },
     "949c2a255a684ad196303263fcc47655": {
      "model_module": "@jupyter-widgets/base",
      "model_module_version": "1.2.0",
      "model_name": "LayoutModel",
      "state": {}
     },
     "9570fa525f3f4a0fb8b4a920f10f8068": {
      "model_module": "@jupyter-widgets/controls",
      "model_module_version": "1.5.0",
      "model_name": "FloatSliderModel",
      "state": {
       "description": "Charge scale",
       "layout": "IPY_MODEL_e3515b3a234e4857a35abb3baf6c5de2",
       "step": 0.1,
       "style": "IPY_MODEL_44ae129de8064ea9889a6e035b9e9b87",
       "value": 1
      }
     },
     "957b2fb602a4442c9d8427433bb9b36b": {
      "model_module": "@jupyter-widgets/controls",
      "model_module_version": "1.5.0",
      "model_name": "SliderStyleModel",
      "state": {
       "description_width": ""
      }
     },
     "964df02cc4fd46249befd3a0d5df2836": {
      "model_module": "@jupyter-widgets/base",
      "model_module_version": "1.2.0",
      "model_name": "LayoutModel",
      "state": {}
     },
     "989ef7e7e58f446189b98461a0b0ddcb": {
      "model_module": "@jupyter-widgets/controls",
      "model_module_version": "1.5.0",
      "model_name": "ButtonModel",
      "state": {
       "icon": "compress",
       "layout": "IPY_MODEL_4b740a3cdf0c4ac4862faab6d3b3dba4",
       "style": "IPY_MODEL_565972e6f4f04fb08dd164840d49724f"
      }
     },
     "98e1aa0a08aa44bcbf0d85515a09f894": {
      "model_module": "@jupyter-widgets/base",
      "model_module_version": "1.2.0",
      "model_name": "LayoutModel",
      "state": {
       "width": "34px"
      }
     },
     "994fb964f6274ed69f5c2214f94a32ea": {
      "model_module": "@jupyter-widgets/controls",
      "model_module_version": "1.5.0",
      "model_name": "DescriptionStyleModel",
      "state": {
       "description_width": ""
      }
     },
     "995eaf3444a24d1e91bfec296b162cc5": {
      "model_module": "@jupyter-widgets/controls",
      "model_module_version": "1.5.0",
      "model_name": "ButtonModel",
      "state": {
       "icon": "compress",
       "layout": "IPY_MODEL_98e1aa0a08aa44bcbf0d85515a09f894",
       "style": "IPY_MODEL_56a66abbc8ac4630800644a5d0d22ca3"
      }
     },
     "99e8ab2feccd411c95caaf8af6fb5107": {
      "model_module": "@jupyter-widgets/controls",
      "model_module_version": "1.5.0",
      "model_name": "HBoxModel",
      "state": {
       "children": [
        "IPY_MODEL_bb794d697a9d4dc3901980f5f176d62e",
        "IPY_MODEL_8f3a63cc9fb0451f8a1827328156b832"
       ],
       "layout": "IPY_MODEL_c38ccb9f2b954b71a76aa91e09668fbe"
      }
     },
     "9b9ffdd35c78444a824563fef9b1caea": {
      "model_module": "@jupyter-widgets/controls",
      "model_module_version": "1.5.0",
      "model_name": "ButtonModel",
      "state": {
       "description": "Download image",
       "layout": "IPY_MODEL_111498effcad45919b3d5d1f7e417ba2",
       "style": "IPY_MODEL_9cb0da6f366742ec9e49f192ac93b15a",
       "tooltip": "Download current frame to your local PC"
      }
     },
     "9c32933d1b8a47c681e8b7908b76d7df": {
      "model_module": "@jupyter-widgets/controls",
      "model_module_version": "1.5.0",
      "model_name": "SliderStyleModel",
      "state": {
       "description_width": ""
      }
     },
     "9cb0da6f366742ec9e49f192ac93b15a": {
      "model_module": "@jupyter-widgets/controls",
      "model_module_version": "1.5.0",
      "model_name": "ButtonStyleModel",
      "state": {}
     },
     "9fffff9bd5554b4bac373f2c4ed8c58a": {
      "model_module": "@jupyter-widgets/controls",
      "model_module_version": "1.5.0",
      "model_name": "FloatSliderModel",
      "state": {
       "description": "Ball size",
       "layout": "IPY_MODEL_82c5abf3c581457aa2c6d2ecad07b7dc",
       "max": 1.5,
       "step": 0.01,
       "style": "IPY_MODEL_00e0311368c0481e81a0b0f918cc239b",
       "value": 0.5
      }
     },
     "a146574723f5445781cdec64af173dea": {
      "model_module": "@jupyter-widgets/base",
      "model_module_version": "1.2.0",
      "model_name": "LayoutModel",
      "state": {}
     },
     "a16daf0c05d24ff69c880c281cf10187": {
      "model_module": "@jupyter-widgets/controls",
      "model_module_version": "1.5.0",
      "model_name": "DescriptionStyleModel",
      "state": {
       "description_width": ""
      }
     },
     "a255e617615e47c1b131f996e8d3d200": {
      "model_module": "@jupyter-widgets/controls",
      "model_module_version": "1.5.0",
      "model_name": "LinkModel",
      "state": {
       "source": [
        "IPY_MODEL_7907fcb1c02c4f62857d1d81fb7131a2",
        "value"
       ],
       "target": [
        "IPY_MODEL_bb794d697a9d4dc3901980f5f176d62e",
        "frame"
       ]
      }
     },
     "a4cba3c0dbd64bf4a2e7f522018c291a": {
      "model_module": "@jupyter-widgets/base",
      "model_module_version": "1.2.0",
      "model_name": "LayoutModel",
      "state": {
       "border": "0px solid black"
      }
     },
     "a52ad8aefa2f4f1d864e1979d4d59fbf": {
      "model_module": "@jupyter-widgets/controls",
      "model_module_version": "1.5.0",
      "model_name": "DescriptionStyleModel",
      "state": {
       "description_width": ""
      }
     },
     "a94a662f83d44c99891d3823f3ae94b3": {
      "model_module": "@jupyter-widgets/controls",
      "model_module_version": "1.5.0",
      "model_name": "ImageModel",
      "state": {
       "layout": "IPY_MODEL_403a13416a564f8d90dce6fd03c41d31",
       "width": "900.0"
      }
     },
     "aadb80ccf5d1496792924924e2a9655f": {
      "model_module": "@jupyter-widgets/base",
      "model_module_version": "1.2.0",
      "model_name": "LayoutModel",
      "state": {}
     },
     "ab4b6db3a47041458f3832b6c33fd376": {
      "model_module": "@jupyter-widgets/base",
      "model_module_version": "1.2.0",
      "model_name": "LayoutModel",
      "state": {}
     },
     "aba3e20c096f47d8a6c3b4fe402e69af": {
      "model_module": "@jupyter-widgets/controls",
      "model_module_version": "1.5.0",
      "model_name": "IntSliderModel",
      "state": {
       "layout": "IPY_MODEL_acfca52a8f2848abbfdb339aa2d8ae74",
       "style": "IPY_MODEL_8360cbcf9c8341a79ad2b4bbf12c76c5"
      }
     },
     "ac76b2cce3104b1bb014693f92116092": {
      "model_module": "@jupyter-widgets/controls",
      "model_module_version": "1.5.0",
      "model_name": "ButtonModel",
      "state": {
       "description": "Download image",
       "layout": "IPY_MODEL_0cc002e1d3c9489d8a5eb5ed508e69ba",
       "style": "IPY_MODEL_90ba8bc8a6744805904a11c3b14b87ef",
       "tooltip": "Download current frame to your local PC"
      }
     },
     "acfca52a8f2848abbfdb339aa2d8ae74": {
      "model_module": "@jupyter-widgets/base",
      "model_module_version": "1.2.0",
      "model_name": "LayoutModel",
      "state": {}
     },
     "b08ceafa39d74e9d900291c9574203f4": {
      "model_module": "@jupyter-widgets/controls",
      "model_module_version": "1.5.0",
      "model_name": "DescriptionStyleModel",
      "state": {
       "description_width": ""
      }
     },
     "b1e083cb1c4e4b67b258b27dceba868b": {
      "model_module": "@jupyter-widgets/controls",
      "model_module_version": "1.5.0",
      "model_name": "SliderStyleModel",
      "state": {
       "description_width": ""
      }
     },
     "b23e626a6dba4028929c8f41047534e5": {
      "model_module": "@jupyter-widgets/base",
      "model_module_version": "1.2.0",
      "model_name": "LayoutModel",
      "state": {}
     },
     "b4c529d0ffd04fa7a642b5d033645d81": {
      "model_module": "@jupyter-widgets/base",
      "model_module_version": "1.2.0",
      "model_name": "LayoutModel",
      "state": {}
     },
     "b4e0f788d5b345e09e781f10f20523dc": {
      "model_module": "@jupyter-widgets/controls",
      "model_module_version": "1.5.0",
      "model_name": "LinkModel",
      "state": {
       "source": [
        "IPY_MODEL_07f4583056b64e429298beb61e71127d",
        "max"
       ],
       "target": [
        "IPY_MODEL_384f1c631e0e4527a88bbcaf7b531e8b",
        "max_frame"
       ]
      }
     },
     "b6aed9ed7285493aafa797c9bec04b35": {
      "model_module": "@jupyter-widgets/base",
      "model_module_version": "1.2.0",
      "model_name": "LayoutModel",
      "state": {}
     },
     "b707e546a65e4b93a063ba8a6cd5291c": {
      "model_module": "@jupyter-widgets/controls",
      "model_module_version": "1.5.0",
      "model_name": "DescriptionStyleModel",
      "state": {
       "description_width": ""
      }
     },
     "b945bbc206c54e9db52ea1358c398c4d": {
      "model_module": "@jupyter-widgets/base",
      "model_module_version": "1.2.0",
      "model_name": "LayoutModel",
      "state": {}
     },
     "b947a5ad4e9d417eb2f96823f83051cd": {
      "model_module": "@jupyter-widgets/controls",
      "model_module_version": "1.5.0",
      "model_name": "DescriptionStyleModel",
      "state": {
       "description_width": ""
      }
     },
     "ba7c97d8e46e43c6815d7a8d266fd52b": {
      "model_module": "@jupyter-widgets/controls",
      "model_module_version": "1.5.0",
      "model_name": "ButtonModel",
      "state": {
       "icon": "compress",
       "layout": "IPY_MODEL_c29a8749727e48bea4a29a55529dcaf4",
       "style": "IPY_MODEL_027eb3b749494bbd8aa7a9f27968f076"
      }
     },
     "bb794d697a9d4dc3901980f5f176d62e": {
      "model_module": "nglview-js-widgets",
      "model_module_version": "3.0.1",
      "model_name": "NGLModel",
      "state": {
       "_camera_orientation": [
        32.09169672816443,
        1.109951465014873,
        -3.842894498176639,
        0,
        -3.998554790682426,
        8.072952468213957,
        -31.05987487584509,
        0,
        -0.10672377764845915,
        31.29652177898616,
        8.148200037064324,
        0,
        -4.084999797865748,
        -4.662999927997589,
        -16.296000361442566,
        1
       ],
       "_camera_str": "orthographic",
       "_gui_theme": null,
       "_ibtn_fullscreen": "IPY_MODEL_ba7c97d8e46e43c6815d7a8d266fd52b",
       "_igui": null,
       "_iplayer": "IPY_MODEL_01635f17a4e548beb8fe582f0d1138c0",
       "_ngl_color_dict": {},
       "_ngl_coordinate_resource": {},
       "_ngl_full_stage_parameters": {
        "ambientColor": 14540253,
        "ambientIntensity": 0.2,
        "backgroundColor": "white",
        "cameraEyeSep": 0.3,
        "cameraFov": 40,
        "cameraType": "orthographic",
        "clipDist": 0,
        "clipFar": 100,
        "clipNear": 0,
        "fogFar": 100,
        "fogNear": 50,
        "hoverTimeout": 0,
        "impostor": true,
        "lightColor": 14540253,
        "lightIntensity": 1,
        "mousePreset": "default",
        "panSpeed": 1,
        "quality": "medium",
        "rotateSpeed": 2,
        "sampleLevel": 0,
        "tooltip": true,
        "workerDefault": true,
        "zoomSpeed": 1.2
       },
       "_ngl_msg_archive": [
        {
         "args": [
          {
           "binary": false,
           "data": "CRYST1    8.591    9.920   31.691  90.00  90.00  90.00 P 1\nMODEL     1\nATOM      1   Al MOL     1       2.290   1.439  10.060  1.00  0.00          AL  \nATOM      2   Al MOL     1       5.132   1.652   9.953  1.00  0.00          AL  \nATOM      3   Al MOL     1       7.932   1.370  10.041  1.00  0.00          AL  \nATOM      4   Al MOL     1       0.845   3.918   9.989  1.00  0.00          AL  \nATOM      5   Al MOL     1       3.571   3.979   9.695  1.00  0.00          AL  \nATOM      6   Al MOL     1       6.632   4.006   9.972  1.00  0.00          AL  \nATOM      7   Al MOL     1       2.139   6.425   9.854  1.00  0.00          AL  \nATOM      8   Al MOL     1       5.018   6.431  10.083  1.00  0.00          AL  \nATOM      9   Al MOL     1       8.124   6.531   9.574  1.00  0.00          AL  \nATOM     10   Al MOL     1       0.669   8.904  10.052  1.00  0.00          AL  \nATOM     11   Al MOL     1       3.634   8.954   9.910  1.00  0.00          AL  \nATOM     12   Al MOL     1       6.393   8.864  10.159  1.00  0.00          AL  \nATOM     13   Al MOL     1       0.736   2.298  12.459  1.00  0.00          AL  \nATOM     14   Al MOL     1       3.589   2.309  12.341  1.00  0.00          AL  \nATOM     15   Al MOL     1       6.630   2.329  12.372  1.00  0.00          AL  \nATOM     16   Al MOL     1       2.273   4.955  12.294  1.00  0.00          AL  \nATOM     17   Al MOL     1       5.170   4.741  12.357  1.00  0.00          AL  \nATOM     18   Al MOL     1       8.053   4.841  12.326  1.00  0.00          AL  \nATOM     19   Al MOL     1       0.730   7.288  12.339  1.00  0.00          AL  \nATOM     20   Al MOL     1       3.656   7.293  12.368  1.00  0.00          AL  \nATOM     21   Al MOL     1       6.472   7.253  12.430  1.00  0.00          AL  \nATOM     22   Al MOL     1       2.062   9.788  12.520  1.00  0.00          AL  \nATOM     23   Al MOL     1       5.021   9.844  12.480  1.00  0.00          AL  \nATOM     24   Al MOL     1       7.843   9.602  12.375  1.00  0.00          AL  \nATOM     25   Al MOL     1       0.700   0.687  14.823  1.00  0.00          AL  \nATOM     26   Al MOL     1       3.466   0.752  14.790  1.00  0.00          AL  \nATOM     27   Al MOL     1       6.327   0.611  14.761  1.00  0.00          AL  \nATOM     28   Al MOL     1       2.242   3.212  14.743  1.00  0.00          AL  \nATOM     29   Al MOL     1       5.045   3.156  14.701  1.00  0.00          AL  \nATOM     30   Al MOL     1       7.976   3.168  14.623  1.00  0.00          AL  \nATOM     31   Al MOL     1       0.782   5.720  14.709  1.00  0.00          AL  \nATOM     32   Al MOL     1       3.640   5.635  14.690  1.00  0.00          AL  \nATOM     33   Al MOL     1       6.475   5.611  14.666  1.00  0.00          AL  \nATOM     34   Al MOL     1       2.011   8.127  14.731  1.00  0.00          AL  \nATOM     35   Al MOL     1       4.798   8.170  14.765  1.00  0.00          AL  \nATOM     36   Al MOL     1       7.792   8.168  14.773  1.00  0.00          AL  \nATOM     37   Al MOL     1       2.164   1.612  17.095  1.00  0.00          AL  \nATOM     38   Al MOL     1       4.908   1.631  17.005  1.00  0.00          AL  \nATOM     39   Al MOL     1       7.792   1.606  16.865  1.00  0.00          AL  \nATOM     40   Al MOL     1       0.697   4.092  16.957  1.00  0.00          AL  \nATOM     41   Al MOL     1       3.642   4.129  17.052  1.00  0.00          AL  \nATOM     42   Al MOL     1       6.483   4.038  16.906  1.00  0.00          AL  \nATOM     43   Al MOL     1       2.105   6.569  17.085  1.00  0.00          AL  \nATOM     44   Al MOL     1       4.998   6.586  16.996  1.00  0.00          AL  \nATOM     45   Al MOL     1       7.785   6.521  17.022  1.00  0.00          AL  \nATOM     46   Al MOL     1       0.573   9.020  17.055  1.00  0.00          AL  \nATOM     47   Al MOL     1       3.504   8.979  17.129  1.00  0.00          AL  \nATOM     48   Al MOL     1       6.255   9.116  17.059  1.00  0.00          AL  \nATOM     49   Al MOL     1       0.720   2.336  19.259  1.00  0.00          AL  \nATOM     50   Al MOL     1       3.544   2.436  19.400  1.00  0.00          AL  \nATOM     51   Al MOL     1       6.445   2.303  19.224  1.00  0.00          AL  \nATOM     52   Al MOL     1       2.185   4.855  19.285  1.00  0.00          AL  \nATOM     53   Al MOL     1       5.025   4.861  19.366  1.00  0.00          AL  \nATOM     54   Al MOL     1       7.783   4.842  19.298  1.00  0.00          AL  \nATOM     55   Al MOL     1       0.652   7.350  19.340  1.00  0.00          AL  \nATOM     56   Al MOL     1       3.570   7.296  19.421  1.00  0.00          AL  \nATOM     57   Al MOL     1       6.366   7.436  19.478  1.00  0.00          AL  \nATOM     58   Al MOL     1       2.016   9.805  19.263  1.00  0.00          AL  \nATOM     59   Al MOL     1       4.904   9.825  19.530  1.00  0.00          AL  \nATOM     60   Al MOL     1       7.832   9.805  19.259  1.00  0.00          AL  \nATOM     61   Al MOL     1       0.645   0.517  21.581  1.00  0.00          AL  \nATOM     62   Al MOL     1       3.515   0.692  21.784  1.00  0.00          AL  \nATOM     63   Al MOL     1       6.414   0.658  21.780  1.00  0.00          AL  \nATOM     64   Al MOL     1       2.084   3.125  21.708  1.00  0.00          AL  \nATOM     65   Al MOL     1       5.026   3.121  21.715  1.00  0.00          AL  \nATOM     66   Al MOL     1       7.878   2.994  21.646  1.00  0.00          AL  \nATOM     67   Al MOL     1       0.659   5.543  21.635  1.00  0.00          AL  \nATOM     68   Al MOL     1       3.604   5.501  21.701  1.00  0.00          AL  \nATOM     69   Al MOL     1       6.459   5.585  21.712  1.00  0.00          AL  \nATOM     70   Al MOL     1       2.189   7.912  21.733  1.00  0.00          AL  \nATOM     71   Al MOL     1       4.940   8.070  22.216  1.00  0.00          AL  \nATOM     72   Al MOL     1       8.031   7.968  21.824  1.00  0.00          AL  \nATOM     73    O MOL     1       5.827   3.130  27.731  1.00  0.00           O  \nATOM     74    O MOL     1       5.477   3.174  26.546  1.00  0.00           O  \nATOM     75    O MOL     1       2.396   8.563  28.273  1.00  0.00           O  \nATOM     76    O MOL     1       2.235   7.737  27.377  1.00  0.00           O  \nATOM     77    O MOL     1       4.217  -0.406   2.564  1.00  0.00           O  \nATOM     78    O MOL     1       3.784  -0.031   1.481  1.00  0.00           O  \nATOM     79    O MOL     1       4.666   5.834   2.393  1.00  0.00           O  \nATOM     80    O MOL     1       5.579   6.486   1.919  1.00  0.00           O  \nATOM     81    O MOL     1       7.456   3.787   3.981  1.00  0.00           O  \nATOM     82    O MOL     1       7.889   4.953   3.933  1.00  0.00           O  \nATOM     83    O MOL     1       7.434  -0.225   4.129  1.00  0.00           O  \nATOM     84    O MOL     1       7.312  -0.518   2.942  1.00  0.00           O  \nATOM     85    O MOL     1       3.167   5.739  31.075  1.00  0.00           O  \nATOM     86    O MOL     1       2.258   6.142  30.286  1.00  0.00           O  \nATOM     87    O MOL     1       3.250   5.601  25.423  1.00  0.00           O  \nATOM     88    O MOL     1       2.977   4.598  26.086  1.00  0.00           O  \nATOM     89    O MOL     1       0.299   3.519  30.487  1.00  0.00           O  \nATOM     90    O MOL     1       0.718   2.687  31.325  1.00  0.00           O  \nATOM     91    O MOL     1       7.155   6.415   7.884  1.00  0.00           O  \nATOM     92    O MOL     1       6.178   5.360   7.450  1.00  0.00           O  \nATOM     93    O MOL     1       1.907   4.896   6.822  1.00  0.00           O  \nATOM     94    O MOL     1       2.898   5.317   7.466  1.00  0.00           O  \nATOM     95    O MOL     1       7.894   5.340  25.511  1.00  0.00           O  \nATOM     96    O MOL     1       7.244   5.298  24.446  1.00  0.00           O  \nATOM     97    O MOL     1       4.438   2.331   6.268  1.00  0.00           O  \nATOM     98    O MOL     1       4.707   2.926   5.214  1.00  0.00           O  \nATOM     99    O MOL     1       2.351   9.387   6.790  1.00  0.00           O  \nATOM    100    O MOL     1       3.376   9.163   6.122  1.00  0.00           O  \nATOM    101    O MOL     1       5.902   8.853  28.172  1.00  0.00           O  \nATOM    102    O MOL     1       5.323   7.974  27.542  1.00  0.00           O  \nATOM    103    O MOL     1       1.422   7.527   1.267  1.00  0.00           O  \nATOM    104    O MOL     1       1.094   6.577   2.011  1.00  0.00           O  \nATOM    105    O MOL     1       6.672   5.703  28.938  1.00  0.00           O  \nATOM    106    O MOL     1       6.459   6.453  29.911  1.00  0.00           O  \nATOM    107    O MOL     1       6.446   9.635  23.688  1.00  0.00           O  \nATOM    108    O MOL     1       5.096   8.916  23.689  1.00  0.00           O  \nATOM    109    O MOL     1       3.524   1.491  29.685  1.00  0.00           O  \nATOM    110    O MOL     1       2.764   0.553  29.943  1.00  0.00           O  \nATOM    111    O MOL     1       0.046   2.037  28.204  1.00  0.00           O  \nATOM    112    O MOL     1       0.921   2.152  27.335  1.00  0.00           O  \nENDMDL\n",
           "type": "blob"
          }
         ],
         "kwargs": {
          "defaultRepresentation": false,
          "ext": "pdb"
         },
         "methodName": "loadFile",
         "reconstruc_color_scheme": false,
         "target": "Stage",
         "type": "call_method"
        },
        {
         "args": [
          "500px",
          "500px"
         ],
         "kwargs": {},
         "methodName": "setSize",
         "reconstruc_color_scheme": false,
         "target": "Widget",
         "type": "call_method"
        },
        {
         "args": [
          "unitcell"
         ],
         "component_index": 0,
         "kwargs": {
          "sele": "all"
         },
         "methodName": "addRepresentation",
         "reconstruc_color_scheme": false,
         "target": "compList",
         "type": "call_method"
        },
        {
         "args": [
          "spacefill"
         ],
         "component_index": 0,
         "kwargs": {
          "sele": "all"
         },
         "methodName": "addRepresentation",
         "reconstruc_color_scheme": false,
         "target": "compList",
         "type": "call_method"
        },
        {
         "args": [],
         "kwargs": {
          "cameraType": "orthographic"
         },
         "methodName": "setParameters",
         "reconstruc_color_scheme": false,
         "target": "Stage",
         "type": "call_method"
        },
        {
         "args": [
          {
           "clipDist": 0
          }
         ],
         "kwargs": {},
         "methodName": "setParameters",
         "reconstruc_color_scheme": false,
         "target": "Widget",
         "type": "call_method"
        },
        {
         "args": [
          "spacefill",
          0
         ],
         "kwargs": {
          "colorScale": "rainbow",
          "colorScheme": "element",
          "radiusScale": 0.5,
          "radiusType": "covalent"
         },
         "methodName": "updateRepresentationsByName",
         "reconstruc_color_scheme": false,
         "target": "Widget",
         "type": "call_method"
        },
        {
         "args": [
          "this._Q = [[1.0, 0.0, 0.0], [0.0, 1.0, 0.0], [0.0, 0.0, 1.0]]\n    var tooltip = document.createElement('div')\n    Object.assign(tooltip.style, {\n      display: 'none',\n      position: 'fixed',\n      zIndex: 10,\n      pointerEvents: 'none',\n      backgroundColor: 'rgba( 0, 0, 0, 0.6 )',\n      color: 'lightgrey',\n      padding: '8px',\n      fontFamily: 'sans-serif'\n    })\n    document.body.appendChild(tooltip)\n\n    var that = this\n    this.stage.mouseControls.remove('hoverPick')\n    this.stage.signals.hovered.add(function (pickingProxy) {\n      if (pickingProxy && (pickingProxy.atom || pickingProxy.bond)) {\n        var atom = pickingProxy.atom || pickingProxy.closestBondAtom\n        var mp = pickingProxy.mouse.position\n        //tooltip.innerText = atom.element + ' i=' + atom.index + ' (' + atom.x.toFixed(2) +  ', ' + atom.y.toFixed(2) +  ', ' + atom.z.toFixed(2) + ')'\n        //var pos = that._atoms_pos[atom.index]\n        var Q = that._Q\n        var pos_x = Q[0][0] * atom.x + Q[0][1] * atom.y + Q[0][2] * atom.z \n        var pos_y = Q[1][0] * atom.x + Q[1][1] * atom.y + Q[1][2] * atom.z\n        var pos_z = Q[2][0] * atom.x + Q[2][1] * atom.y + Q[2][2] * atom.z\n        tooltip.innerText = 'i=' + atom.index + ' ' + atom.element + ' (' + pos_x.toFixed(2) +  ', ' + pos_y.toFixed(2) +  ', ' + pos_z.toFixed(2) + ')'\n        tooltip.style.bottom = window.innerHeight - mp.y + 3 + 'px'\n        tooltip.style.left = mp.x + 3 + 'px'\n        tooltip.style.display = 'block'\n      } else {\n        tooltip.style.display = 'none'\n      }\n    })\n    "
         ],
         "kwargs": {},
         "methodName": "executeCode",
         "reconstruc_color_scheme": false,
         "target": "Widget",
         "type": "call_method"
        },
        {
         "args": [
          "ball+stick"
         ],
         "component_index": 0,
         "kwargs": {
          "sele": "all"
         },
         "methodName": "addRepresentation",
         "reconstruc_color_scheme": false,
         "target": "compList",
         "type": "call_method"
        },
        {
         "args": [
          {
           "data": "CRYST1    8.591    9.920   31.691  90.00  90.00  90.00 P 1\nMODEL     1\nATOM      1   Al MOL     1       2.198   1.541  10.014  1.00  0.00          AL  \nATOM      2   Al MOL     1       4.989   1.391  10.073  1.00  0.00          AL  \nATOM      3   Al MOL     1       7.997   1.355  10.135  1.00  0.00          AL  \nATOM      4   Al MOL     1       0.697   4.020   9.844  1.00  0.00          AL  \nATOM      5   Al MOL     1       3.791   3.866   9.740  1.00  0.00          AL  \nATOM      6   Al MOL     1       6.593   3.544   9.938  1.00  0.00          AL  \nATOM      7   Al MOL     1       2.214   6.553   9.841  1.00  0.00          AL  \nATOM      8   Al MOL     1       5.005   6.800   9.975  1.00  0.00          AL  \nATOM      9   Al MOL     1       8.089   6.425   9.468  1.00  0.00          AL  \nATOM     10   Al MOL     1       0.799   8.886  10.038  1.00  0.00          AL  \nATOM     11   Al MOL     1       3.573   8.984  10.041  1.00  0.00          AL  \nATOM     12   Al MOL     1       6.659   8.891   9.822  1.00  0.00          AL  \nATOM     13   Al MOL     1       0.799   2.358  12.355  1.00  0.00          AL  \nATOM     14   Al MOL     1       3.649   2.338  12.338  1.00  0.00          AL  \nATOM     15   Al MOL     1       6.432   2.371  12.378  1.00  0.00          AL  \nATOM     16   Al MOL     1       2.196   4.802  12.172  1.00  0.00          AL  \nATOM     17   Al MOL     1       4.993   4.860  12.244  1.00  0.00          AL  \nATOM     18   Al MOL     1       7.836   4.806  12.249  1.00  0.00          AL  \nATOM     19   Al MOL     1       0.738   7.229  12.331  1.00  0.00          AL  \nATOM     20   Al MOL     1       3.570   7.219  12.381  1.00  0.00          AL  \nATOM     21   Al MOL     1       6.497   7.285  12.189  1.00  0.00          AL  \nATOM     22   Al MOL     1       2.196   9.778  12.360  1.00  0.00          AL  \nATOM     23   Al MOL     1       5.061   9.724  12.345  1.00  0.00          AL  \nATOM     24   Al MOL     1       7.906   9.827  12.400  1.00  0.00          AL  \nATOM     25   Al MOL     1       0.730   0.760  14.636  1.00  0.00          AL  \nATOM     26   Al MOL     1       3.630   0.714  14.610  1.00  0.00          AL  \nATOM     27   Al MOL     1       6.471   0.780  14.727  1.00  0.00          AL  \nATOM     28   Al MOL     1       2.125   3.203  14.632  1.00  0.00          AL  \nATOM     29   Al MOL     1       5.011   3.251  14.714  1.00  0.00          AL  \nATOM     30   Al MOL     1       7.841   3.259  14.709  1.00  0.00          AL  \nATOM     31   Al MOL     1       0.700   5.661  14.658  1.00  0.00          AL  \nATOM     32   Al MOL     1       3.590   5.711  14.652  1.00  0.00          AL  \nATOM     33   Al MOL     1       6.403   5.684  14.755  1.00  0.00          AL  \nATOM     34   Al MOL     1       2.176   8.161  14.691  1.00  0.00          AL  \nATOM     35   Al MOL     1       5.107   8.157  14.681  1.00  0.00          AL  \nATOM     36   Al MOL     1       7.906   8.132  14.674  1.00  0.00          AL  \nATOM     37   Al MOL     1       2.065   1.519  16.981  1.00  0.00          AL  \nATOM     38   Al MOL     1       5.026   1.476  17.033  1.00  0.00          AL  \nATOM     39   Al MOL     1       7.836   1.505  17.134  1.00  0.00          AL  \nATOM     40   Al MOL     1       0.701   4.015  17.028  1.00  0.00          AL  \nATOM     41   Al MOL     1       3.538   3.949  17.010  1.00  0.00          AL  \nATOM     42   Al MOL     1       6.410   4.035  17.082  1.00  0.00          AL  \nATOM     43   Al MOL     1       2.145   6.475  17.002  1.00  0.00          AL  \nATOM     44   Al MOL     1       4.958   6.485  17.080  1.00  0.00          AL  \nATOM     45   Al MOL     1       7.886   6.510  17.071  1.00  0.00          AL  \nATOM     46   Al MOL     1       0.696   9.003  17.083  1.00  0.00          AL  \nATOM     47   Al MOL     1       3.555   9.010  17.014  1.00  0.00          AL  \nATOM     48   Al MOL     1       6.419   8.917  17.046  1.00  0.00          AL  \nATOM     49   Al MOL     1       0.681   2.345  19.354  1.00  0.00          AL  \nATOM     50   Al MOL     1       3.523   2.301  19.272  1.00  0.00          AL  \nATOM     51   Al MOL     1       6.370   2.397  19.387  1.00  0.00          AL  \nATOM     52   Al MOL     1       2.166   4.820  19.337  1.00  0.00          AL  \nATOM     53   Al MOL     1       4.958   4.838  19.412  1.00  0.00          AL  \nATOM     54   Al MOL     1       7.873   4.892  19.344  1.00  0.00          AL  \nATOM     55   Al MOL     1       0.706   7.320  19.372  1.00  0.00          AL  \nATOM     56   Al MOL     1       3.548   7.318  19.418  1.00  0.00          AL  \nATOM     57   Al MOL     1       6.388   7.251  19.439  1.00  0.00          AL  \nATOM     58   Al MOL     1       2.122   9.787  19.371  1.00  0.00          AL  \nATOM     59   Al MOL     1       4.987   9.747  19.462  1.00  0.00          AL  \nATOM     60   Al MOL     1       7.828   9.776  19.485  1.00  0.00          AL  \nATOM     61   Al MOL     1       0.746   0.748  21.685  1.00  0.00          AL  \nATOM     62   Al MOL     1       3.677   0.599  21.839  1.00  0.00          AL  \nATOM     63   Al MOL     1       6.431   0.859  21.796  1.00  0.00          AL  \nATOM     64   Al MOL     1       2.161   3.068  21.595  1.00  0.00          AL  \nATOM     65   Al MOL     1       4.946   3.103  21.644  1.00  0.00          AL  \nATOM     66   Al MOL     1       7.868   3.252  21.654  1.00  0.00          AL  \nATOM     67   Al MOL     1       0.729   5.635  21.722  1.00  0.00          AL  \nATOM     68   Al MOL     1       3.504   5.564  21.701  1.00  0.00          AL  \nATOM     69   Al MOL     1       6.452   5.594  21.845  1.00  0.00          AL  \nATOM     70   Al MOL     1       1.990   8.114  21.723  1.00  0.00          AL  \nATOM     71   Al MOL     1       4.992   7.919  22.061  1.00  0.00          AL  \nATOM     72   Al MOL     1       7.933   7.901  21.633  1.00  0.00          AL  \nATOM     73    O MOL     1       5.781   3.327  27.728  1.00  0.00           O  \nATOM     74    O MOL     1       5.430   3.336  26.544  1.00  0.00           O  \nATOM     75    O MOL     1       2.239   8.289  28.072  1.00  0.00           O  \nATOM     76    O MOL     1       2.155   7.152  27.596  1.00  0.00           O  \nATOM     77    O MOL     1       4.475  -0.533   2.398  1.00  0.00           O  \nATOM     78    O MOL     1       3.553  -0.158   1.656  1.00  0.00           O  \nATOM     79    O MOL     1       4.832   6.061   2.288  1.00  0.00           O  \nATOM     80    O MOL     1       5.776   6.653   1.742  1.00  0.00           O  \nATOM     81    O MOL     1       7.688   3.696   4.155  1.00  0.00           O  \nATOM     82    O MOL     1       7.639   4.896   3.907  1.00  0.00           O  \nATOM     83    O MOL     1       7.274  -0.421   3.876  1.00  0.00           O  \nATOM     84    O MOL     1       7.300  -0.755   2.686  1.00  0.00           O  \nATOM     85    O MOL     1       3.029   5.990  31.184  1.00  0.00           O  \nATOM     86    O MOL     1       1.975   6.147  30.591  1.00  0.00           O  \nATOM     87    O MOL     1       3.648   5.754  25.188  1.00  0.00           O  \nATOM     88    O MOL     1       2.759   5.130  25.792  1.00  0.00           O  \nATOM     89    O MOL     1       0.175   3.756  30.587  1.00  0.00           O  \nATOM     90    O MOL     1       0.866   2.863  31.064  1.00  0.00           O  \nATOM     91    O MOL     1       7.681   7.942   8.536  1.00  0.00           O  \nATOM     92    O MOL     1       5.339   4.725   9.450  1.00  0.00           O  \nATOM     93    O MOL     1       1.822   4.618   7.994  1.00  0.00           O  \nATOM     94    O MOL     1       3.027   5.249   8.674  1.00  0.00           O  \nATOM     95    O MOL     1       7.799   5.529  24.980  1.00  0.00           O  \nATOM     96    O MOL     1       7.359   5.094  23.850  1.00  0.00           O  \nATOM     97    O MOL     1       4.321   2.571   6.447  1.00  0.00           O  \nATOM     98    O MOL     1       4.790   2.919   5.354  1.00  0.00           O  \nATOM     99    O MOL     1       2.617   9.290   6.961  1.00  0.00           O  \nATOM    100    O MOL     1       3.456   9.500   6.064  1.00  0.00           O  \nATOM    101    O MOL     1       5.706   8.725  28.259  1.00  0.00           O  \nATOM    102    O MOL     1       5.278   8.095  27.280  1.00  0.00           O  \nATOM    103    O MOL     1       1.544   7.407   1.785  1.00  0.00           O  \nATOM    104    O MOL     1       1.284   6.285   2.211  1.00  0.00           O  \nATOM    105    O MOL     1       6.994   5.678  29.040  1.00  0.00           O  \nATOM    106    O MOL     1       5.990   6.099  29.602  1.00  0.00           O  \nATOM    107    O MOL     1       6.888   9.189  22.674  1.00  0.00           O  \nATOM    108    O MOL     1       3.658   9.092  22.959  1.00  0.00           O  \nATOM    109    O MOL     1       3.645   1.618  29.856  1.00  0.00           O  \nATOM    110    O MOL     1       2.848   0.686  29.994  1.00  0.00           O  \nATOM    111    O MOL     1      -0.078   1.950  27.956  1.00  0.00           O  \nATOM    112    O MOL     1       0.979   2.287  27.418  1.00  0.00           O  \nENDMDL\n",
           "ext": "pdb"
          }
         ],
         "kwargs": {},
         "methodName": "replaceStructure",
         "reconstruc_color_scheme": false,
         "target": "Widget",
         "type": "call_method"
        },
        {
         "args": [
          "this._Q = [[1.0, 0.0, 0.0], [0.0, 1.0, 0.0], [0.0, 0.0, 1.0]]"
         ],
         "kwargs": {},
         "methodName": "executeCode",
         "reconstruc_color_scheme": false,
         "target": "Widget",
         "type": "call_method"
        },
        {
         "args": [
          {
           "data": "CRYST1    8.591    9.920   31.691  90.00  90.00  90.00 P 1\nMODEL     1\nATOM      1   Al MOL     1       2.332   1.550  10.092  1.00  0.00          AL  \nATOM      2   Al MOL     1       5.048   1.586  10.120  1.00  0.00          AL  \nATOM      3   Al MOL     1       7.805   1.386  10.136  1.00  0.00          AL  \nATOM      4   Al MOL     1       0.916   3.842  10.090  1.00  0.00          AL  \nATOM      5   Al MOL     1       3.417   4.366   9.233  1.00  0.00          AL  \nATOM      6   Al MOL     1       6.585   3.825  10.407  1.00  0.00          AL  \nATOM      7   Al MOL     1       2.003   6.709  10.331  1.00  0.00          AL  \nATOM      8   Al MOL     1       5.491   6.187  10.136  1.00  0.00          AL  \nATOM      9   Al MOL     1       7.990   6.575  10.123  1.00  0.00          AL  \nATOM     10   Al MOL     1       0.757   9.111   9.951  1.00  0.00          AL  \nATOM     11   Al MOL     1       3.683   9.033  10.048  1.00  0.00          AL  \nATOM     12   Al MOL     1       6.451   8.744  10.029  1.00  0.00          AL  \nATOM     13   Al MOL     1       0.717   2.292  12.438  1.00  0.00          AL  \nATOM     14   Al MOL     1       3.603   2.395  12.373  1.00  0.00          AL  \nATOM     15   Al MOL     1       6.419   2.226  12.490  1.00  0.00          AL  \nATOM     16   Al MOL     1       2.177   4.775  12.334  1.00  0.00          AL  \nATOM     17   Al MOL     1       4.999   4.817  12.566  1.00  0.00          AL  \nATOM     18   Al MOL     1       7.957   4.894  12.498  1.00  0.00          AL  \nATOM     19   Al MOL     1       0.762   7.362  12.425  1.00  0.00          AL  \nATOM     20   Al MOL     1       3.668   7.368  12.368  1.00  0.00          AL  \nATOM     21   Al MOL     1       6.451   7.288  12.426  1.00  0.00          AL  \nATOM     22   Al MOL     1       2.202   9.852  12.461  1.00  0.00          AL  \nATOM     23   Al MOL     1       4.989   9.822  12.403  1.00  0.00          AL  \nATOM     24   Al MOL     1       7.922   9.753  12.329  1.00  0.00          AL  \nATOM     25   Al MOL     1       0.729   0.672  14.701  1.00  0.00          AL  \nATOM     26   Al MOL     1       3.569   0.685  14.731  1.00  0.00          AL  \nATOM     27   Al MOL     1       6.459   0.610  14.672  1.00  0.00          AL  \nATOM     28   Al MOL     1       2.132   3.188  14.692  1.00  0.00          AL  \nATOM     29   Al MOL     1       5.034   3.057  14.776  1.00  0.00          AL  \nATOM     30   Al MOL     1       7.890   3.137  14.656  1.00  0.00          AL  \nATOM     31   Al MOL     1       0.756   5.662  14.630  1.00  0.00          AL  \nATOM     32   Al MOL     1       3.505   5.692  14.730  1.00  0.00          AL  \nATOM     33   Al MOL     1       6.532   5.692  14.706  1.00  0.00          AL  \nATOM     34   Al MOL     1       2.156   8.102  14.651  1.00  0.00          AL  \nATOM     35   Al MOL     1       4.987   8.092  14.673  1.00  0.00          AL  \nATOM     36   Al MOL     1       7.859   8.114  14.707  1.00  0.00          AL  \nATOM     37   Al MOL     1       2.191   1.520  17.043  1.00  0.00          AL  \nATOM     38   Al MOL     1       5.016   1.510  17.035  1.00  0.00          AL  \nATOM     39   Al MOL     1       7.894   1.538  16.942  1.00  0.00          AL  \nATOM     40   Al MOL     1       0.703   4.025  16.952  1.00  0.00          AL  \nATOM     41   Al MOL     1       3.574   4.060  17.023  1.00  0.00          AL  \nATOM     42   Al MOL     1       6.446   4.008  16.928  1.00  0.00          AL  \nATOM     43   Al MOL     1       2.136   6.489  16.992  1.00  0.00          AL  \nATOM     44   Al MOL     1       5.048   6.496  16.987  1.00  0.00          AL  \nATOM     45   Al MOL     1       7.834   6.448  16.974  1.00  0.00          AL  \nATOM     46   Al MOL     1       0.753   8.938  16.976  1.00  0.00          AL  \nATOM     47   Al MOL     1       3.615   8.907  17.030  1.00  0.00          AL  \nATOM     48   Al MOL     1       6.439   8.966  17.019  1.00  0.00          AL  \nATOM     49   Al MOL     1       0.738   2.382  19.222  1.00  0.00          AL  \nATOM     50   Al MOL     1       3.624   2.426  19.323  1.00  0.00          AL  \nATOM     51   Al MOL     1       6.475   2.348  19.233  1.00  0.00          AL  \nATOM     52   Al MOL     1       2.105   4.825  19.252  1.00  0.00          AL  \nATOM     53   Al MOL     1       5.046   4.847  19.269  1.00  0.00          AL  \nATOM     54   Al MOL     1       7.788   4.809  19.433  1.00  0.00          AL  \nATOM     55   Al MOL     1       0.654   7.253  19.243  1.00  0.00          AL  \nATOM     56   Al MOL     1       3.593   7.273  19.321  1.00  0.00          AL  \nATOM     57   Al MOL     1       6.471   7.298  19.412  1.00  0.00          AL  \nATOM     58   Al MOL     1       2.191   9.751  19.222  1.00  0.00          AL  \nATOM     59   Al MOL     1       5.044   9.829  19.312  1.00  0.00          AL  \nATOM     60   Al MOL     1       7.906   9.737  19.241  1.00  0.00          AL  \nATOM     61   Al MOL     1       0.737   0.726  21.419  1.00  0.00          AL  \nATOM     62   Al MOL     1       3.492   0.813  21.524  1.00  0.00          AL  \nATOM     63   Al MOL     1       6.508   0.747  21.548  1.00  0.00          AL  \nATOM     64   Al MOL     1       2.140   3.233  21.598  1.00  0.00          AL  \nATOM     65   Al MOL     1       5.060   3.091  21.572  1.00  0.00          AL  \nATOM     66   Al MOL     1       7.909   3.136  21.767  1.00  0.00          AL  \nATOM     67   Al MOL     1       0.660   5.668  21.609  1.00  0.00          AL  \nATOM     68   Al MOL     1       3.540   5.552  21.596  1.00  0.00          AL  \nATOM     69   Al MOL     1       6.382   5.570  22.133  1.00  0.00          AL  \nATOM     70   Al MOL     1       2.173   8.146  21.617  1.00  0.00          AL  \nATOM     71   Al MOL     1       4.993   8.040  21.773  1.00  0.00          AL  \nATOM     72   Al MOL     1       7.886   8.223  21.752  1.00  0.00          AL  \nATOM     73    O MOL     1       5.654   3.318  27.688  1.00  0.00           O  \nATOM     74    O MOL     1       5.500   3.338  26.464  1.00  0.00           O  \nATOM     75    O MOL     1       2.119   8.263  28.113  1.00  0.00           O  \nATOM     76    O MOL     1       2.152   7.152  27.578  1.00  0.00           O  \nATOM     77    O MOL     1       4.334  -0.450   2.480  1.00  0.00           O  \nATOM     78    O MOL     1       3.492  -0.192   1.620  1.00  0.00           O  \nATOM     79    O MOL     1       4.859   6.103   2.294  1.00  0.00           O  \nATOM     80    O MOL     1       5.775   6.593   1.628  1.00  0.00           O  \nATOM     81    O MOL     1       7.832   3.698   4.098  1.00  0.00           O  \nATOM     82    O MOL     1       7.432   4.864   3.997  1.00  0.00           O  \nATOM     83    O MOL     1       7.263  -0.510   3.842  1.00  0.00           O  \nATOM     84    O MOL     1       7.512  -0.705   2.650  1.00  0.00           O  \nATOM     85    O MOL     1       3.028   5.951  31.213  1.00  0.00           O  \nATOM     86    O MOL     1       1.992   6.234  30.603  1.00  0.00           O  \nATOM     87    O MOL     1       3.637   5.768  24.974  1.00  0.00           O  \nATOM     88    O MOL     1       2.768   5.089  25.523  1.00  0.00           O  \nATOM     89    O MOL     1       0.023   3.727  30.641  1.00  0.00           O  \nATOM     90    O MOL     1       0.941   2.983  30.990  1.00  0.00           O  \nATOM     91    O MOL     1       7.870   8.373   9.359  1.00  0.00           O  \nATOM     92    O MOL     1       5.130   4.109   9.359  1.00  0.00           O  \nATOM     93    O MOL     1       1.356   3.447   8.485  1.00  0.00           O  \nATOM     94    O MOL     1       3.151   5.994   9.008  1.00  0.00           O  \nATOM     95    O MOL     1       7.200   5.743  23.973  1.00  0.00           O  \nATOM     96    O MOL     1       7.736   4.633  23.026  1.00  0.00           O  \nATOM     97    O MOL     1       4.275   2.676   6.610  1.00  0.00           O  \nATOM     98    O MOL     1       4.834   2.901   5.525  1.00  0.00           O  \nATOM     99    O MOL     1       2.825   9.377   7.249  1.00  0.00           O  \nATOM    100    O MOL     1       3.419   9.479   6.159  1.00  0.00           O  \nATOM    101    O MOL     1       5.606   8.918  28.155  1.00  0.00           O  \nATOM    102    O MOL     1       5.322   8.169  27.219  1.00  0.00           O  \nATOM    103    O MOL     1       1.655   7.378   2.073  1.00  0.00           O  \nATOM    104    O MOL     1       1.250   6.221   2.222  1.00  0.00           O  \nATOM    105    O MOL     1       7.038   5.860  29.020  1.00  0.00           O  \nATOM    106    O MOL     1       5.988   5.750  29.663  1.00  0.00           O  \nATOM    107    O MOL     1       6.340   8.976  22.442  1.00  0.00           O  \nATOM    108    O MOL     1       3.557   8.798  22.325  1.00  0.00           O  \nATOM    109    O MOL     1       3.704   1.604  29.847  1.00  0.00           O  \nATOM    110    O MOL     1       2.835   0.753  30.051  1.00  0.00           O  \nATOM    111    O MOL     1      -0.063   1.821  27.917  1.00  0.00           O  \nATOM    112    O MOL     1       0.965   2.337  27.470  1.00  0.00           O  \nENDMDL\n",
           "ext": "pdb"
          }
         ],
         "kwargs": {},
         "methodName": "replaceStructure",
         "reconstruc_color_scheme": false,
         "target": "Widget",
         "type": "call_method"
        },
        {
         "args": [
          "this._Q = [[1.0, 0.0, 0.0], [0.0, 1.0, 0.0], [0.0, 0.0, 1.0]]"
         ],
         "kwargs": {},
         "methodName": "executeCode",
         "reconstruc_color_scheme": false,
         "target": "Widget",
         "type": "call_method"
        },
        {
         "args": [
          {
           "data": "CRYST1    8.591    9.920   31.691  90.00  90.00  90.00 P 1\nMODEL     1\nATOM      1   Al MOL     1       2.186   1.604  10.041  1.00  0.00          AL  \nATOM      2   Al MOL     1       5.150   1.201  10.306  1.00  0.00          AL  \nATOM      3   Al MOL     1       7.990   1.533  10.248  1.00  0.00          AL  \nATOM      4   Al MOL     1       0.575   4.025  10.233  1.00  0.00          AL  \nATOM      5   Al MOL     1       3.703   4.021   8.470  1.00  0.00          AL  \nATOM      6   Al MOL     1       6.356   3.888  10.121  1.00  0.00          AL  \nATOM      7   Al MOL     1       2.110   6.553  10.099  1.00  0.00          AL  \nATOM      8   Al MOL     1       4.844   6.583  10.098  1.00  0.00          AL  \nATOM      9   Al MOL     1       7.934   6.443  10.285  1.00  0.00          AL  \nATOM     10   Al MOL     1       0.771   9.084  10.133  1.00  0.00          AL  \nATOM     11   Al MOL     1       3.474   8.957   9.949  1.00  0.00          AL  \nATOM     12   Al MOL     1       6.307   8.838  10.192  1.00  0.00          AL  \nATOM     13   Al MOL     1       0.792   2.369  12.437  1.00  0.00          AL  \nATOM     14   Al MOL     1       3.599   2.347  12.416  1.00  0.00          AL  \nATOM     15   Al MOL     1       6.460   2.350  12.536  1.00  0.00          AL  \nATOM     16   Al MOL     1       2.182   4.869  12.404  1.00  0.00          AL  \nATOM     17   Al MOL     1       5.090   4.799  12.516  1.00  0.00          AL  \nATOM     18   Al MOL     1       7.836   4.820  12.620  1.00  0.00          AL  \nATOM     19   Al MOL     1       0.769   7.288  12.461  1.00  0.00          AL  \nATOM     20   Al MOL     1       3.615   7.291  12.426  1.00  0.00          AL  \nATOM     21   Al MOL     1       6.479   7.266  12.477  1.00  0.00          AL  \nATOM     22   Al MOL     1       2.141   9.734  12.449  1.00  0.00          AL  \nATOM     23   Al MOL     1       5.010   9.680  12.576  1.00  0.00          AL  \nATOM     24   Al MOL     1       7.897   9.782  12.490  1.00  0.00          AL  \nATOM     25   Al MOL     1       0.738   0.704  14.694  1.00  0.00          AL  \nATOM     26   Al MOL     1       3.589   0.717  14.702  1.00  0.00          AL  \nATOM     27   Al MOL     1       6.459   0.710  14.777  1.00  0.00          AL  \nATOM     28   Al MOL     1       2.169   3.176  14.722  1.00  0.00          AL  \nATOM     29   Al MOL     1       5.013   3.185  14.765  1.00  0.00          AL  \nATOM     30   Al MOL     1       7.940   3.137  14.777  1.00  0.00          AL  \nATOM     31   Al MOL     1       0.774   5.661  14.755  1.00  0.00          AL  \nATOM     32   Al MOL     1       3.616   5.669  14.743  1.00  0.00          AL  \nATOM     33   Al MOL     1       6.485   5.656  14.794  1.00  0.00          AL  \nATOM     34   Al MOL     1       2.191   8.133  14.739  1.00  0.00          AL  \nATOM     35   Al MOL     1       5.038   8.087  14.763  1.00  0.00          AL  \nATOM     36   Al MOL     1       7.904   8.097  14.811  1.00  0.00          AL  \nATOM     37   Al MOL     1       2.140   1.497  16.961  1.00  0.00          AL  \nATOM     38   Al MOL     1       5.038   1.499  16.971  1.00  0.00          AL  \nATOM     39   Al MOL     1       7.897   1.476  17.016  1.00  0.00          AL  \nATOM     40   Al MOL     1       0.734   3.994  17.008  1.00  0.00          AL  \nATOM     41   Al MOL     1       3.618   4.029  17.009  1.00  0.00          AL  \nATOM     42   Al MOL     1       6.473   3.998  17.027  1.00  0.00          AL  \nATOM     43   Al MOL     1       2.202   6.479  17.027  1.00  0.00          AL  \nATOM     44   Al MOL     1       5.039   6.469  17.084  1.00  0.00          AL  \nATOM     45   Al MOL     1       7.866   6.473  17.052  1.00  0.00          AL  \nATOM     46   Al MOL     1       0.738   8.961  17.021  1.00  0.00          AL  \nATOM     47   Al MOL     1       3.600   8.974  16.998  1.00  0.00          AL  \nATOM     48   Al MOL     1       6.433   8.897  17.069  1.00  0.00          AL  \nATOM     49   Al MOL     1       0.741   2.365  19.202  1.00  0.00          AL  \nATOM     50   Al MOL     1       3.604   2.321  19.143  1.00  0.00          AL  \nATOM     51   Al MOL     1       6.414   2.376  19.192  1.00  0.00          AL  \nATOM     52   Al MOL     1       2.123   4.831  19.259  1.00  0.00          AL  \nATOM     53   Al MOL     1       5.012   4.814  19.317  1.00  0.00          AL  \nATOM     54   Al MOL     1       7.869   4.880  19.312  1.00  0.00          AL  \nATOM     55   Al MOL     1       0.729   7.332  19.260  1.00  0.00          AL  \nATOM     56   Al MOL     1       3.600   7.327  19.320  1.00  0.00          AL  \nATOM     57   Al MOL     1       6.437   7.286  19.413  1.00  0.00          AL  \nATOM     58   Al MOL     1       2.176   9.767  19.209  1.00  0.00          AL  \nATOM     59   Al MOL     1       4.995   9.741  19.232  1.00  0.00          AL  \nATOM     60   Al MOL     1       7.861   9.746  19.246  1.00  0.00          AL  \nATOM     61   Al MOL     1       0.755   0.560  21.413  1.00  0.00          AL  \nATOM     62   Al MOL     1       3.590   0.729  21.459  1.00  0.00          AL  \nATOM     63   Al MOL     1       6.389   1.000  21.245  1.00  0.00          AL  \nATOM     64   Al MOL     1       2.174   3.108  21.505  1.00  0.00          AL  \nATOM     65   Al MOL     1       4.938   3.182  21.559  1.00  0.00          AL  \nATOM     66   Al MOL     1       7.872   3.193  21.483  1.00  0.00          AL  \nATOM     67   Al MOL     1       0.789   5.622  21.622  1.00  0.00          AL  \nATOM     68   Al MOL     1       3.490   5.607  21.503  1.00  0.00          AL  \nATOM     69   Al MOL     1       6.199   5.297  21.840  1.00  0.00          AL  \nATOM     70   Al MOL     1       2.107   8.177  21.552  1.00  0.00          AL  \nATOM     71   Al MOL     1       4.974   8.064  21.951  1.00  0.00          AL  \nATOM     72   Al MOL     1       7.719   7.960  21.986  1.00  0.00          AL  \nATOM     73    O MOL     1       5.568   3.311  27.611  1.00  0.00           O  \nATOM     74    O MOL     1       5.590   3.320  26.375  1.00  0.00           O  \nATOM     75    O MOL     1       2.071   8.262  28.127  1.00  0.00           O  \nATOM     76    O MOL     1       2.173   7.192  27.522  1.00  0.00           O  \nATOM     77    O MOL     1       4.183  -0.373   2.591  1.00  0.00           O  \nATOM     78    O MOL     1       3.521  -0.215   1.563  1.00  0.00           O  \nATOM     79    O MOL     1       4.862   6.115   2.295  1.00  0.00           O  \nATOM     80    O MOL     1       5.738   6.588   1.573  1.00  0.00           O  \nATOM     81    O MOL     1       7.935   3.763   3.998  1.00  0.00           O  \nATOM     82    O MOL     1       7.269   4.795   4.117  1.00  0.00           O  \nATOM     83    O MOL     1       7.282  -0.604   3.821  1.00  0.00           O  \nATOM     84    O MOL     1       7.642  -0.631   2.643  1.00  0.00           O  \nATOM     85    O MOL     1       3.020   5.878  31.249  1.00  0.00           O  \nATOM     86    O MOL     1       2.034   6.277  30.612  1.00  0.00           O  \nATOM     87    O MOL     1       3.544   5.757  24.681  1.00  0.00           O  \nATOM     88    O MOL     1       2.794   5.006  25.335  1.00  0.00           O  \nATOM     89    O MOL     1      -0.096   3.695  30.674  1.00  0.00           O  \nATOM     90    O MOL     1       0.967   3.106  30.907  1.00  0.00           O  \nATOM     91    O MOL     1       7.881   8.104   9.274  1.00  0.00           O  \nATOM     92    O MOL     1       5.328   4.864   9.175  1.00  0.00           O  \nATOM     93    O MOL     1       2.298   3.269   9.228  1.00  0.00           O  \nATOM     94    O MOL     1       3.162   5.784   8.954  1.00  0.00           O  \nATOM     95    O MOL     1       6.521   6.665  22.757  1.00  0.00           O  \nATOM     96    O MOL     1       9.502   3.893  22.279  1.00  0.00           O  \nATOM     97    O MOL     1       4.036   3.052   6.997  1.00  0.00           O  \nATOM     98    O MOL     1       4.871   2.999   5.936  1.00  0.00           O  \nATOM     99    O MOL     1       2.962   9.481   7.840  1.00  0.00           O  \nATOM    100    O MOL     1       3.428   9.364   6.646  1.00  0.00           O  \nATOM    101    O MOL     1       5.543   9.030  28.104  1.00  0.00           O  \nATOM    102    O MOL     1       5.299   8.224  27.205  1.00  0.00           O  \nATOM    103    O MOL     1       1.750   7.302   2.241  1.00  0.00           O  \nATOM    104    O MOL     1       1.164   6.213   2.288  1.00  0.00           O  \nATOM    105    O MOL     1       7.008   5.983  28.994  1.00  0.00           O  \nATOM    106    O MOL     1       6.059   5.619  29.696  1.00  0.00           O  \nATOM    107    O MOL     1       6.419   9.334  22.329  1.00  0.00           O  \nATOM    108    O MOL     1       3.580   9.017  22.424  1.00  0.00           O  \nATOM    109    O MOL     1       3.724   1.570  29.861  1.00  0.00           O  \nATOM    110    O MOL     1       2.828   0.748  30.075  1.00  0.00           O  \nATOM    111    O MOL     1      -0.054   1.730  27.915  1.00  0.00           O  \nATOM    112    O MOL     1       0.916   2.389  27.527  1.00  0.00           O  \nENDMDL\n",
           "ext": "pdb"
          }
         ],
         "kwargs": {},
         "methodName": "replaceStructure",
         "reconstruc_color_scheme": false,
         "target": "Widget",
         "type": "call_method"
        },
        {
         "args": [
          "this._Q = [[1.0, 0.0, 0.0], [0.0, 1.0, 0.0], [0.0, 0.0, 1.0]]"
         ],
         "kwargs": {},
         "methodName": "executeCode",
         "reconstruc_color_scheme": false,
         "target": "Widget",
         "type": "call_method"
        },
        {
         "args": [
          {
           "data": "CRYST1    8.591    9.920   31.691  90.00  90.00  90.00 P 1\nMODEL     1\nATOM      1   Al MOL     1       2.452   1.447  10.135  1.00  0.00          AL  \nATOM      2   Al MOL     1       5.252   1.522  10.131  1.00  0.00          AL  \nATOM      3   Al MOL     1       8.032   1.455  10.311  1.00  0.00          AL  \nATOM      4   Al MOL     1       0.673   3.992  10.086  1.00  0.00          AL  \nATOM      5   Al MOL     1       3.474   4.143   8.598  1.00  0.00          AL  \nATOM      6   Al MOL     1       6.621   3.929  10.076  1.00  0.00          AL  \nATOM      7   Al MOL     1       2.155   6.510  10.186  1.00  0.00          AL  \nATOM      8   Al MOL     1       4.993   6.421   9.687  1.00  0.00          AL  \nATOM      9   Al MOL     1       7.730   6.487   9.963  1.00  0.00          AL  \nATOM     10   Al MOL     1       0.670   8.911  10.034  1.00  0.00          AL  \nATOM     11   Al MOL     1       3.529   9.074   9.793  1.00  0.00          AL  \nATOM     12   Al MOL     1       6.156   8.779   9.988  1.00  0.00          AL  \nATOM     13   Al MOL     1       0.823   2.289  12.486  1.00  0.00          AL  \nATOM     14   Al MOL     1       3.701   2.351  12.500  1.00  0.00          AL  \nATOM     15   Al MOL     1       6.518   2.274  12.512  1.00  0.00          AL  \nATOM     16   Al MOL     1       2.115   4.760  12.378  1.00  0.00          AL  \nATOM     17   Al MOL     1       4.899   4.812  12.304  1.00  0.00          AL  \nATOM     18   Al MOL     1       7.877   4.809  12.406  1.00  0.00          AL  \nATOM     19   Al MOL     1       0.611   7.297  12.491  1.00  0.00          AL  \nATOM     20   Al MOL     1       3.562   7.270  12.184  1.00  0.00          AL  \nATOM     21   Al MOL     1       6.328   7.194  12.328  1.00  0.00          AL  \nATOM     22   Al MOL     1       2.248   9.800  12.374  1.00  0.00          AL  \nATOM     23   Al MOL     1       5.078   9.739  12.382  1.00  0.00          AL  \nATOM     24   Al MOL     1       7.945   9.694  12.422  1.00  0.00          AL  \nATOM     25   Al MOL     1       0.772   0.665  14.728  1.00  0.00          AL  \nATOM     26   Al MOL     1       3.626   0.660  14.682  1.00  0.00          AL  \nATOM     27   Al MOL     1       6.475   0.625  14.663  1.00  0.00          AL  \nATOM     28   Al MOL     1       2.190   3.178  14.726  1.00  0.00          AL  \nATOM     29   Al MOL     1       5.049   3.197  14.638  1.00  0.00          AL  \nATOM     30   Al MOL     1       7.895   3.203  14.680  1.00  0.00          AL  \nATOM     31   Al MOL     1       0.717   5.639  14.712  1.00  0.00          AL  \nATOM     32   Al MOL     1       3.611   5.692  14.685  1.00  0.00          AL  \nATOM     33   Al MOL     1       6.428   5.675  14.589  1.00  0.00          AL  \nATOM     34   Al MOL     1       2.223   8.113  14.678  1.00  0.00          AL  \nATOM     35   Al MOL     1       5.023   8.122  14.666  1.00  0.00          AL  \nATOM     36   Al MOL     1       7.875   8.096  14.738  1.00  0.00          AL  \nATOM     37   Al MOL     1       2.131   1.511  16.997  1.00  0.00          AL  \nATOM     38   Al MOL     1       5.019   1.489  16.944  1.00  0.00          AL  \nATOM     39   Al MOL     1       7.877   1.548  16.948  1.00  0.00          AL  \nATOM     40   Al MOL     1       0.728   4.031  17.006  1.00  0.00          AL  \nATOM     41   Al MOL     1       3.578   4.022  16.909  1.00  0.00          AL  \nATOM     42   Al MOL     1       6.454   4.095  16.953  1.00  0.00          AL  \nATOM     43   Al MOL     1       2.129   6.500  17.086  1.00  0.00          AL  \nATOM     44   Al MOL     1       5.025   6.559  17.027  1.00  0.00          AL  \nATOM     45   Al MOL     1       7.936   6.539  17.063  1.00  0.00          AL  \nATOM     46   Al MOL     1       0.724   8.936  17.027  1.00  0.00          AL  \nATOM     47   Al MOL     1       3.587   8.946  17.024  1.00  0.00          AL  \nATOM     48   Al MOL     1       6.485   8.989  16.960  1.00  0.00          AL  \nATOM     49   Al MOL     1       0.657   2.397  19.214  1.00  0.00          AL  \nATOM     50   Al MOL     1       3.550   2.351  19.243  1.00  0.00          AL  \nATOM     51   Al MOL     1       6.458   2.348  19.311  1.00  0.00          AL  \nATOM     52   Al MOL     1       2.187   4.802  19.397  1.00  0.00          AL  \nATOM     53   Al MOL     1       4.949   4.832  19.206  1.00  0.00          AL  \nATOM     54   Al MOL     1       7.929   4.766  19.293  1.00  0.00          AL  \nATOM     55   Al MOL     1       0.691   7.293  19.458  1.00  0.00          AL  \nATOM     56   Al MOL     1       3.485   7.362  19.324  1.00  0.00          AL  \nATOM     57   Al MOL     1       6.438   7.380  19.264  1.00  0.00          AL  \nATOM     58   Al MOL     1       2.064   9.748  19.307  1.00  0.00          AL  \nATOM     59   Al MOL     1       5.016   9.879  19.433  1.00  0.00          AL  \nATOM     60   Al MOL     1       7.790   9.806  19.258  1.00  0.00          AL  \nATOM     61   Al MOL     1       0.640   0.650  21.478  1.00  0.00          AL  \nATOM     62   Al MOL     1       3.274   0.701  21.670  1.00  0.00          AL  \nATOM     63   Al MOL     1       6.439   0.430  21.838  1.00  0.00          AL  \nATOM     64   Al MOL     1       2.049   3.030  21.633  1.00  0.00          AL  \nATOM     65   Al MOL     1       5.148   3.071  21.503  1.00  0.00          AL  \nATOM     66   Al MOL     1       7.752   2.970  21.744  1.00  0.00          AL  \nATOM     67   Al MOL     1       0.944   5.740  21.837  1.00  0.00          AL  \nATOM     68   Al MOL     1       3.808   5.584  21.821  1.00  0.00          AL  \nATOM     69   Al MOL     1       6.533   5.766  21.527  1.00  0.00          AL  \nATOM     70   Al MOL     1       1.934   8.180  21.965  1.00  0.00          AL  \nATOM     71   Al MOL     1       4.893   8.082  21.610  1.00  0.00          AL  \nATOM     72   Al MOL     1       7.958   8.184  21.815  1.00  0.00          AL  \nATOM     73    O MOL     1       5.485   3.353  27.432  1.00  0.00           O  \nATOM     74    O MOL     1       5.747   3.310  26.226  1.00  0.00           O  \nATOM     75    O MOL     1       2.099   8.259  28.048  1.00  0.00           O  \nATOM     76    O MOL     1       2.188   7.182  27.452  1.00  0.00           O  \nATOM     77    O MOL     1       4.082  -0.334   2.633  1.00  0.00           O  \nATOM     78    O MOL     1       3.646  -0.234   1.481  1.00  0.00           O  \nATOM     79    O MOL     1       4.854   6.094   2.275  1.00  0.00           O  \nATOM     80    O MOL     1       5.674   6.727   1.601  1.00  0.00           O  \nATOM     81    O MOL     1       7.962   3.870   3.875  1.00  0.00           O  \nATOM     82    O MOL     1       7.175   4.719   4.292  1.00  0.00           O  \nATOM     83    O MOL     1       7.318  -0.798   3.764  1.00  0.00           O  \nATOM     84    O MOL     1       7.687  -0.540   2.615  1.00  0.00           O  \nATOM     85    O MOL     1       2.991   5.782  31.318  1.00  0.00           O  \nATOM     86    O MOL     1       2.078   6.262  30.649  1.00  0.00           O  \nATOM     87    O MOL     1       3.438   5.672  24.035  1.00  0.00           O  \nATOM     88    O MOL     1       2.879   4.991  24.978  1.00  0.00           O  \nATOM     89    O MOL     1      -0.188   3.719  30.708  1.00  0.00           O  \nATOM     90    O MOL     1       0.935   3.216  30.760  1.00  0.00           O  \nATOM     91    O MOL     1       7.790   8.190   9.365  1.00  0.00           O  \nATOM     92    O MOL     1       5.105   4.520   9.406  1.00  0.00           O  \nATOM     93    O MOL     1       2.262   3.200   9.342  1.00  0.00           O  \nATOM     94    O MOL     1       3.369   5.972   9.064  1.00  0.00           O  \nATOM     95    O MOL     1       7.986   6.278  22.234  1.00  0.00           O  \nATOM     96    O MOL     1       9.150   3.994  22.393  1.00  0.00           O  \nATOM     97    O MOL     1       3.640   3.373   6.933  1.00  0.00           O  \nATOM     98    O MOL     1       5.022   3.671   6.743  1.00  0.00           O  \nATOM     99    O MOL     1       2.233   9.848   8.768  1.00  0.00           O  \nATOM    100    O MOL     1       3.873   8.964   8.255  1.00  0.00           O  \nATOM    101    O MOL     1       5.472   9.060  28.086  1.00  0.00           O  \nATOM    102    O MOL     1       5.223   8.268  27.170  1.00  0.00           O  \nATOM    103    O MOL     1       1.784   7.221   2.264  1.00  0.00           O  \nATOM    104    O MOL     1       1.071   6.236   2.463  1.00  0.00           O  \nATOM    105    O MOL     1       7.013   6.035  28.917  1.00  0.00           O  \nATOM    106    O MOL     1       6.130   5.705  29.708  1.00  0.00           O  \nATOM    107    O MOL     1       6.373   8.641  22.525  1.00  0.00           O  \nATOM    108    O MOL     1       3.399   9.030  22.560  1.00  0.00           O  \nATOM    109    O MOL     1       3.707   1.531  29.983  1.00  0.00           O  \nATOM    110    O MOL     1       2.830   0.667  30.056  1.00  0.00           O  \nATOM    111    O MOL     1      -0.081   1.672  27.911  1.00  0.00           O  \nATOM    112    O MOL     1       0.817   2.462  27.610  1.00  0.00           O  \nENDMDL\n",
           "ext": "pdb"
          }
         ],
         "kwargs": {},
         "methodName": "replaceStructure",
         "reconstruc_color_scheme": false,
         "target": "Widget",
         "type": "call_method"
        },
        {
         "args": [
          "this._Q = [[1.0, 0.0, 0.0], [0.0, 1.0, 0.0], [0.0, 0.0, 1.0]]"
         ],
         "kwargs": {},
         "methodName": "executeCode",
         "reconstruc_color_scheme": false,
         "target": "Widget",
         "type": "call_method"
        },
        {
         "args": [
          {
           "data": "CRYST1    8.591    9.920   31.691  90.00  90.00  90.00 P 1\nMODEL     1\nATOM      1   Al MOL     1       2.314   1.569   9.882  1.00  0.00          AL  \nATOM      2   Al MOL     1       4.882   1.351  10.194  1.00  0.00          AL  \nATOM      3   Al MOL     1       7.880   1.517  10.106  1.00  0.00          AL  \nATOM      4   Al MOL     1       0.801   4.108  10.197  1.00  0.00          AL  \nATOM      5   Al MOL     1       3.613   4.179   8.277  1.00  0.00          AL  \nATOM      6   Al MOL     1       6.653   3.895  10.119  1.00  0.00          AL  \nATOM      7   Al MOL     1       1.984   6.437  10.060  1.00  0.00          AL  \nATOM      8   Al MOL     1       4.708   6.117  10.133  1.00  0.00          AL  \nATOM      9   Al MOL     1       7.918   6.352   9.955  1.00  0.00          AL  \nATOM     10   Al MOL     1       0.938   8.950  10.021  1.00  0.00          AL  \nATOM     11   Al MOL     1       3.631   8.893   9.973  1.00  0.00          AL  \nATOM     12   Al MOL     1       6.639   9.005  10.016  1.00  0.00          AL  \nATOM     13   Al MOL     1       0.764   2.390  12.426  1.00  0.00          AL  \nATOM     14   Al MOL     1       3.612   2.353  12.496  1.00  0.00          AL  \nATOM     15   Al MOL     1       6.387   2.376  12.454  1.00  0.00          AL  \nATOM     16   Al MOL     1       2.223   4.881  12.401  1.00  0.00          AL  \nATOM     17   Al MOL     1       4.993   4.833  12.578  1.00  0.00          AL  \nATOM     18   Al MOL     1       7.838   4.820  12.497  1.00  0.00          AL  \nATOM     19   Al MOL     1       0.696   7.304  12.415  1.00  0.00          AL  \nATOM     20   Al MOL     1       3.554   7.188  12.268  1.00  0.00          AL  \nATOM     21   Al MOL     1       6.477   7.264  12.183  1.00  0.00          AL  \nATOM     22   Al MOL     1       2.218   9.728  12.473  1.00  0.00          AL  \nATOM     23   Al MOL     1       5.022   9.665  12.415  1.00  0.00          AL  \nATOM     24   Al MOL     1       7.879   9.818  12.356  1.00  0.00          AL  \nATOM     25   Al MOL     1       0.716   0.671  14.736  1.00  0.00          AL  \nATOM     26   Al MOL     1       3.609   0.702  14.722  1.00  0.00          AL  \nATOM     27   Al MOL     1       6.458   0.712  14.671  1.00  0.00          AL  \nATOM     28   Al MOL     1       2.194   3.178  14.703  1.00  0.00          AL  \nATOM     29   Al MOL     1       4.997   3.149  14.804  1.00  0.00          AL  \nATOM     30   Al MOL     1       7.917   3.149  14.714  1.00  0.00          AL  \nATOM     31   Al MOL     1       0.715   5.642  14.671  1.00  0.00          AL  \nATOM     32   Al MOL     1       3.574   5.641  14.719  1.00  0.00          AL  \nATOM     33   Al MOL     1       6.459   5.663  14.770  1.00  0.00          AL  \nATOM     34   Al MOL     1       2.119   8.123  14.758  1.00  0.00          AL  \nATOM     35   Al MOL     1       5.051   8.111  14.702  1.00  0.00          AL  \nATOM     36   Al MOL     1       7.858   8.140  14.647  1.00  0.00          AL  \nATOM     37   Al MOL     1       2.148   1.540  17.013  1.00  0.00          AL  \nATOM     38   Al MOL     1       4.979   1.514  17.039  1.00  0.00          AL  \nATOM     39   Al MOL     1       7.923   1.469  17.056  1.00  0.00          AL  \nATOM     40   Al MOL     1       0.738   3.989  17.020  1.00  0.00          AL  \nATOM     41   Al MOL     1       3.536   4.023  17.048  1.00  0.00          AL  \nATOM     42   Al MOL     1       6.465   3.986  16.976  1.00  0.00          AL  \nATOM     43   Al MOL     1       2.167   6.513  16.993  1.00  0.00          AL  \nATOM     44   Al MOL     1       4.958   6.473  17.029  1.00  0.00          AL  \nATOM     45   Al MOL     1       7.858   6.466  16.979  1.00  0.00          AL  \nATOM     46   Al MOL     1       0.687   8.925  17.019  1.00  0.00          AL  \nATOM     47   Al MOL     1       3.559   8.920  16.970  1.00  0.00          AL  \nATOM     48   Al MOL     1       6.410   8.950  17.010  1.00  0.00          AL  \nATOM     49   Al MOL     1       0.707   2.392  19.332  1.00  0.00          AL  \nATOM     50   Al MOL     1       3.589   2.392  19.254  1.00  0.00          AL  \nATOM     51   Al MOL     1       6.408   2.385  19.270  1.00  0.00          AL  \nATOM     52   Al MOL     1       2.117   4.873  19.349  1.00  0.00          AL  \nATOM     53   Al MOL     1       4.948   4.798  19.263  1.00  0.00          AL  \nATOM     54   Al MOL     1       7.889   4.817  19.279  1.00  0.00          AL  \nATOM     55   Al MOL     1       0.662   7.286  19.238  1.00  0.00          AL  \nATOM     56   Al MOL     1       3.599   7.269  19.386  1.00  0.00          AL  \nATOM     57   Al MOL     1       6.415   7.247  19.353  1.00  0.00          AL  \nATOM     58   Al MOL     1       2.179   9.758  19.352  1.00  0.00          AL  \nATOM     59   Al MOL     1       4.982   9.723  19.242  1.00  0.00          AL  \nATOM     60   Al MOL     1       7.837   9.704  19.269  1.00  0.00          AL  \nATOM     61   Al MOL     1       0.755   0.688  21.509  1.00  0.00          AL  \nATOM     62   Al MOL     1       3.593   0.633  21.622  1.00  0.00          AL  \nATOM     63   Al MOL     1       6.499   0.797  21.525  1.00  0.00          AL  \nATOM     64   Al MOL     1       2.136   3.113  21.699  1.00  0.00          AL  \nATOM     65   Al MOL     1       4.957   3.111  21.644  1.00  0.00          AL  \nATOM     66   Al MOL     1       8.020   3.158  21.580  1.00  0.00          AL  \nATOM     67   Al MOL     1       0.758   5.732  21.758  1.00  0.00          AL  \nATOM     68   Al MOL     1       3.705   5.668  21.954  1.00  0.00          AL  \nATOM     69   Al MOL     1       6.372   5.374  21.546  1.00  0.00          AL  \nATOM     70   Al MOL     1       2.068   8.032  21.490  1.00  0.00          AL  \nATOM     71   Al MOL     1       4.979   7.988  21.802  1.00  0.00          AL  \nATOM     72   Al MOL     1       7.944   8.144  21.653  1.00  0.00          AL  \nATOM     73    O MOL     1       5.445   3.388  27.267  1.00  0.00           O  \nATOM     74    O MOL     1       5.894   3.316  26.120  1.00  0.00           O  \nATOM     75    O MOL     1       2.119   8.243  27.976  1.00  0.00           O  \nATOM     76    O MOL     1       2.181   7.138  27.432  1.00  0.00           O  \nATOM     77    O MOL     1       4.099  -0.355   2.599  1.00  0.00           O  \nATOM     78    O MOL     1       3.708  -0.226   1.437  1.00  0.00           O  \nATOM     79    O MOL     1       4.870   6.061   2.277  1.00  0.00           O  \nATOM     80    O MOL     1       5.622   6.821   1.661  1.00  0.00           O  \nATOM     81    O MOL     1       7.874   3.889   3.778  1.00  0.00           O  \nATOM     82    O MOL     1       7.221   4.764   4.350  1.00  0.00           O  \nATOM     83    O MOL     1       7.363  -0.993   3.701  1.00  0.00           O  \nATOM     84    O MOL     1       7.657  -0.471   2.624  1.00  0.00           O  \nATOM     85    O MOL     1       2.964   5.720  31.360  1.00  0.00           O  \nATOM     86    O MOL     1       2.120   6.271  30.650  1.00  0.00           O  \nATOM     87    O MOL     1       3.341   5.933  23.728  1.00  0.00           O  \nATOM     88    O MOL     1       3.084   4.747  24.373  1.00  0.00           O  \nATOM     89    O MOL     1      -0.205   3.764  30.709  1.00  0.00           O  \nATOM     90    O MOL     1       0.899   3.218  30.707  1.00  0.00           O  \nATOM     91    O MOL     1       8.093   8.163   9.277  1.00  0.00           O  \nATOM     92    O MOL     1       5.035   4.355   9.459  1.00  0.00           O  \nATOM     93    O MOL     1       2.221   3.307   9.163  1.00  0.00           O  \nATOM     94    O MOL     1       3.049   5.777   8.837  1.00  0.00           O  \nATOM     95    O MOL     1       7.823   6.379  22.536  1.00  0.00           O  \nATOM     96    O MOL     1       9.321   4.078  22.561  1.00  0.00           O  \nATOM     97    O MOL     1       3.522   3.440   6.587  1.00  0.00           O  \nATOM     98    O MOL     1       4.853   4.187   7.107  1.00  0.00           O  \nATOM     99    O MOL     1       0.695  10.855   9.406  1.00  0.00           O  \nATOM    100    O MOL     1       5.255   8.200   9.405  1.00  0.00           O  \nATOM    101    O MOL     1       5.416   9.053  28.107  1.00  0.00           O  \nATOM    102    O MOL     1       5.215   8.298  27.152  1.00  0.00           O  \nATOM    103    O MOL     1       1.734   7.263   2.258  1.00  0.00           O  \nATOM    104    O MOL     1       1.050   6.269   2.518  1.00  0.00           O  \nATOM    105    O MOL     1       7.048   6.011  28.859  1.00  0.00           O  \nATOM    106    O MOL     1       6.150   5.804  29.677  1.00  0.00           O  \nATOM    107    O MOL     1       6.440   8.999  22.235  1.00  0.00           O  \nATOM    108    O MOL     1       3.489   8.836  22.361  1.00  0.00           O  \nATOM    109    O MOL     1       3.688   1.527  30.055  1.00  0.00           O  \nATOM    110    O MOL     1       2.815   0.658  30.017  1.00  0.00           O  \nATOM    111    O MOL     1      -0.122   1.650  27.919  1.00  0.00           O  \nATOM    112    O MOL     1       0.741   2.487  27.650  1.00  0.00           O  \nENDMDL\n",
           "ext": "pdb"
          }
         ],
         "kwargs": {},
         "methodName": "replaceStructure",
         "reconstruc_color_scheme": false,
         "target": "Widget",
         "type": "call_method"
        },
        {
         "args": [
          "this._Q = [[1.0, 0.0, 0.0], [0.0, 1.0, 0.0], [0.0, 0.0, 1.0]]"
         ],
         "kwargs": {},
         "methodName": "executeCode",
         "reconstruc_color_scheme": false,
         "target": "Widget",
         "type": "call_method"
        },
        {
         "args": [
          {
           "data": "CRYST1    8.591    9.920   31.691  90.00  90.00  90.00 P 1\nMODEL     1\nATOM      1   Al MOL     1       2.442   1.652   9.345  1.00  0.00          AL  \nATOM      2   Al MOL     1       4.808   1.329  10.466  1.00  0.00          AL  \nATOM      3   Al MOL     1       7.601   1.600  10.205  1.00  0.00          AL  \nATOM      4   Al MOL     1       0.732   3.899  10.125  1.00  0.00          AL  \nATOM      5   Al MOL     1       3.554   4.321   8.262  1.00  0.00          AL  \nATOM      6   Al MOL     1       6.712   4.222  10.260  1.00  0.00          AL  \nATOM      7   Al MOL     1       2.170   6.480  10.328  1.00  0.00          AL  \nATOM      8   Al MOL     1       4.790   6.157   9.951  1.00  0.00          AL  \nATOM      9   Al MOL     1       8.113   6.470  10.247  1.00  0.00          AL  \nATOM     10   Al MOL     1       0.931   8.838   9.664  1.00  0.00          AL  \nATOM     11   Al MOL     1       3.758   8.735  10.476  1.00  0.00          AL  \nATOM     12   Al MOL     1       6.581   8.966  10.342  1.00  0.00          AL  \nATOM     13   Al MOL     1       0.601   2.354  12.323  1.00  0.00          AL  \nATOM     14   Al MOL     1       3.406   2.394  12.551  1.00  0.00          AL  \nATOM     15   Al MOL     1       6.327   2.392  12.572  1.00  0.00          AL  \nATOM     16   Al MOL     1       2.120   4.791  12.498  1.00  0.00          AL  \nATOM     17   Al MOL     1       4.950   4.808  12.586  1.00  0.00          AL  \nATOM     18   Al MOL     1       7.918   4.784  12.596  1.00  0.00          AL  \nATOM     19   Al MOL     1       0.681   7.371  12.517  1.00  0.00          AL  \nATOM     20   Al MOL     1       3.617   7.189  12.611  1.00  0.00          AL  \nATOM     21   Al MOL     1       6.454   7.243  12.536  1.00  0.00          AL  \nATOM     22   Al MOL     1       2.016   9.908  12.287  1.00  0.00          AL  \nATOM     23   Al MOL     1       5.050   9.758  12.685  1.00  0.00          AL  \nATOM     24   Al MOL     1       7.851   9.873  12.514  1.00  0.00          AL  \nATOM     25   Al MOL     1       0.708   0.756  14.740  1.00  0.00          AL  \nATOM     26   Al MOL     1       3.477   0.685  14.714  1.00  0.00          AL  \nATOM     27   Al MOL     1       6.428   0.661  14.808  1.00  0.00          AL  \nATOM     28   Al MOL     1       2.106   3.170  14.806  1.00  0.00          AL  \nATOM     29   Al MOL     1       4.950   3.145  14.867  1.00  0.00          AL  \nATOM     30   Al MOL     1       7.844   3.181  14.795  1.00  0.00          AL  \nATOM     31   Al MOL     1       0.750   5.672  14.741  1.00  0.00          AL  \nATOM     32   Al MOL     1       3.564   5.622  14.880  1.00  0.00          AL  \nATOM     33   Al MOL     1       6.477   5.611  14.802  1.00  0.00          AL  \nATOM     34   Al MOL     1       2.107   8.178  14.702  1.00  0.00          AL  \nATOM     35   Al MOL     1       5.007   8.068  14.821  1.00  0.00          AL  \nATOM     36   Al MOL     1       7.884   8.137  14.739  1.00  0.00          AL  \nATOM     37   Al MOL     1       2.162   1.506  16.960  1.00  0.00          AL  \nATOM     38   Al MOL     1       4.974   1.420  17.027  1.00  0.00          AL  \nATOM     39   Al MOL     1       7.831   1.520  16.983  1.00  0.00          AL  \nATOM     40   Al MOL     1       0.685   4.009  17.048  1.00  0.00          AL  \nATOM     41   Al MOL     1       3.577   3.935  17.105  1.00  0.00          AL  \nATOM     42   Al MOL     1       6.404   4.006  17.090  1.00  0.00          AL  \nATOM     43   Al MOL     1       2.101   6.409  17.064  1.00  0.00          AL  \nATOM     44   Al MOL     1       5.052   6.404  17.071  1.00  0.00          AL  \nATOM     45   Al MOL     1       7.868   6.437  17.005  1.00  0.00          AL  \nATOM     46   Al MOL     1       0.709   8.919  16.870  1.00  0.00          AL  \nATOM     47   Al MOL     1       3.617   8.876  16.965  1.00  0.00          AL  \nATOM     48   Al MOL     1       6.444   8.888  16.994  1.00  0.00          AL  \nATOM     49   Al MOL     1       0.749   2.359  19.193  1.00  0.00          AL  \nATOM     50   Al MOL     1       3.568   2.328  19.281  1.00  0.00          AL  \nATOM     51   Al MOL     1       6.419   2.295  19.202  1.00  0.00          AL  \nATOM     52   Al MOL     1       2.213   4.786  19.476  1.00  0.00          AL  \nATOM     53   Al MOL     1       4.973   4.757  19.421  1.00  0.00          AL  \nATOM     54   Al MOL     1       7.852   4.802  19.320  1.00  0.00          AL  \nATOM     55   Al MOL     1       0.709   7.245  19.299  1.00  0.00          AL  \nATOM     56   Al MOL     1       3.547   7.255  19.295  1.00  0.00          AL  \nATOM     57   Al MOL     1       6.436   7.286  19.325  1.00  0.00          AL  \nATOM     58   Al MOL     1       2.190   9.706  19.163  1.00  0.00          AL  \nATOM     59   Al MOL     1       5.079   9.738  19.278  1.00  0.00          AL  \nATOM     60   Al MOL     1       7.950   9.704  19.155  1.00  0.00          AL  \nATOM     61   Al MOL     1       0.762   0.752  21.336  1.00  0.00          AL  \nATOM     62   Al MOL     1       3.565   0.818  21.463  1.00  0.00          AL  \nATOM     63   Al MOL     1       6.498   0.751  21.520  1.00  0.00          AL  \nATOM     64   Al MOL     1       2.129   2.943  22.049  1.00  0.00          AL  \nATOM     65   Al MOL     1       5.414   2.878  21.525  1.00  0.00          AL  \nATOM     66   Al MOL     1       7.833   3.103  21.555  1.00  0.00          AL  \nATOM     67   Al MOL     1       0.899   5.714  21.843  1.00  0.00          AL  \nATOM     68   Al MOL     1       3.667   5.730  22.029  1.00  0.00          AL  \nATOM     69   Al MOL     1       6.407   5.722  21.646  1.00  0.00          AL  \nATOM     70   Al MOL     1       2.193   8.193  21.603  1.00  0.00          AL  \nATOM     71   Al MOL     1       5.038   8.094  21.566  1.00  0.00          AL  \nATOM     72   Al MOL     1       8.034   8.205  21.667  1.00  0.00          AL  \nATOM     73    O MOL     1       5.409   3.402  26.978  1.00  0.00           O  \nATOM     74    O MOL     1       6.157   3.352  25.997  1.00  0.00           O  \nATOM     75    O MOL     1       2.120   8.200  27.877  1.00  0.00           O  \nATOM     76    O MOL     1       2.166   7.041  27.459  1.00  0.00           O  \nATOM     77    O MOL     1       4.168  -0.401   2.535  1.00  0.00           O  \nATOM     78    O MOL     1       3.758  -0.209   1.388  1.00  0.00           O  \nATOM     79    O MOL     1       4.907   6.002   2.316  1.00  0.00           O  \nATOM     80    O MOL     1       5.547   6.871   1.719  1.00  0.00           O  \nATOM     81    O MOL     1       7.639   3.937   3.616  1.00  0.00           O  \nATOM     82    O MOL     1       7.376   4.871   4.376  1.00  0.00           O  \nATOM     83    O MOL     1       7.441  -1.248   3.584  1.00  0.00           O  \nATOM     84    O MOL     1       7.570  -0.413   2.687  1.00  0.00           O  \nATOM     85    O MOL     1       2.936   5.666  31.414  1.00  0.00           O  \nATOM     86    O MOL     1       2.209   6.289  30.633  1.00  0.00           O  \nATOM     87    O MOL     1       2.075   6.455  22.666  1.00  0.00           O  \nATOM     88    O MOL     1       3.761   3.824  22.441  1.00  0.00           O  \nATOM     89    O MOL     1      -0.199   3.834  30.701  1.00  0.00           O  \nATOM     90    O MOL     1       0.854   3.190  30.717  1.00  0.00           O  \nATOM     91    O MOL     1       7.963   8.070   9.354  1.00  0.00           O  \nATOM     92    O MOL     1       5.160   4.431   9.421  1.00  0.00           O  \nATOM     93    O MOL     1       2.171   3.352   9.134  1.00  0.00           O  \nATOM     94    O MOL     1       3.297   5.980   9.063  1.00  0.00           O  \nATOM     95    O MOL     1       7.836   6.548  22.334  1.00  0.00           O  \nATOM     96    O MOL     1       9.213   4.014  22.329  1.00  0.00           O  \nATOM     97    O MOL     1       3.424   3.379   6.794  1.00  0.00           O  \nATOM     98    O MOL     1       4.397   4.539   6.775  1.00  0.00           O  \nATOM     99    O MOL     1       1.551  10.218   8.885  1.00  0.00           O  \nATOM    100    O MOL     1       5.027   7.875   9.496  1.00  0.00           O  \nATOM    101    O MOL     1       5.330   9.031  28.155  1.00  0.00           O  \nATOM    102    O MOL     1       5.259   8.339  27.137  1.00  0.00           O  \nATOM    103    O MOL     1       1.627   7.401   2.246  1.00  0.00           O  \nATOM    104    O MOL     1       1.057   6.331   2.483  1.00  0.00           O  \nATOM    105    O MOL     1       7.077   5.942  28.756  1.00  0.00           O  \nATOM    106    O MOL     1       6.163   5.923  29.585  1.00  0.00           O  \nATOM    107    O MOL     1       6.506   9.010  22.354  1.00  0.00           O  \nATOM    108    O MOL     1       3.668   9.071  22.262  1.00  0.00           O  \nATOM    109    O MOL     1       3.667   1.561  30.071  1.00  0.00           O  \nATOM    110    O MOL     1       2.773   0.720  29.954  1.00  0.00           O  \nATOM    111    O MOL     1      -0.225   1.633  27.964  1.00  0.00           O  \nATOM    112    O MOL     1       0.616   2.482  27.656  1.00  0.00           O  \nENDMDL\n",
           "ext": "pdb"
          }
         ],
         "kwargs": {},
         "methodName": "replaceStructure",
         "reconstruc_color_scheme": false,
         "target": "Widget",
         "type": "call_method"
        },
        {
         "args": [
          "this._Q = [[1.0, 0.0, 0.0], [0.0, 1.0, 0.0], [0.0, 0.0, 1.0]]"
         ],
         "kwargs": {},
         "methodName": "executeCode",
         "reconstruc_color_scheme": false,
         "target": "Widget",
         "type": "call_method"
        },
        {
         "args": [
          {
           "data": "CRYST1    8.591    9.920   31.691  90.00  90.00  90.00 P 1\nMODEL     1\nATOM      1   Al MOL     1       2.568   1.655   9.368  1.00  0.00          AL  \nATOM      2   Al MOL     1       5.174   1.372  10.019  1.00  0.00          AL  \nATOM      3   Al MOL     1       8.086   1.496  10.273  1.00  0.00          AL  \nATOM      4   Al MOL     1       0.961   3.971  10.248  1.00  0.00          AL  \nATOM      5   Al MOL     1       3.648   4.338   8.295  1.00  0.00          AL  \nATOM      6   Al MOL     1       6.274   3.638  10.129  1.00  0.00          AL  \nATOM      7   Al MOL     1       1.984   6.579  10.369  1.00  0.00          AL  \nATOM      8   Al MOL     1       4.925   6.223   9.977  1.00  0.00          AL  \nATOM      9   Al MOL     1       7.837   6.495  10.161  1.00  0.00          AL  \nATOM     10   Al MOL     1       0.850   9.210  10.267  1.00  0.00          AL  \nATOM     11   Al MOL     1       3.640   8.907  10.007  1.00  0.00          AL  \nATOM     12   Al MOL     1       6.401   8.975   9.725  1.00  0.00          AL  \nATOM     13   Al MOL     1       0.879   2.321  12.548  1.00  0.00          AL  \nATOM     14   Al MOL     1       3.675   2.270  12.204  1.00  0.00          AL  \nATOM     15   Al MOL     1       6.463   2.249  12.585  1.00  0.00          AL  \nATOM     16   Al MOL     1       2.120   4.759  12.572  1.00  0.00          AL  \nATOM     17   Al MOL     1       4.991   4.832  12.364  1.00  0.00          AL  \nATOM     18   Al MOL     1       7.771   4.827  12.464  1.00  0.00          AL  \nATOM     19   Al MOL     1       0.641   7.261  12.662  1.00  0.00          AL  \nATOM     20   Al MOL     1       3.504   7.285  12.442  1.00  0.00          AL  \nATOM     21   Al MOL     1       6.366   7.290  12.359  1.00  0.00          AL  \nATOM     22   Al MOL     1       2.178   9.758  12.655  1.00  0.00          AL  \nATOM     23   Al MOL     1       4.928   9.635  12.361  1.00  0.00          AL  \nATOM     24   Al MOL     1       7.874   9.676  12.371  1.00  0.00          AL  \nATOM     25   Al MOL     1       0.701   0.466  14.791  1.00  0.00          AL  \nATOM     26   Al MOL     1       3.607   0.687  14.828  1.00  0.00          AL  \nATOM     27   Al MOL     1       6.427   0.619  14.634  1.00  0.00          AL  \nATOM     28   Al MOL     1       2.191   3.099  14.797  1.00  0.00          AL  \nATOM     29   Al MOL     1       4.959   3.176  14.663  1.00  0.00          AL  \nATOM     30   Al MOL     1       7.879   3.127  14.756  1.00  0.00          AL  \nATOM     31   Al MOL     1       0.653   5.676  14.895  1.00  0.00          AL  \nATOM     32   Al MOL     1       3.572   5.662  14.659  1.00  0.00          AL  \nATOM     33   Al MOL     1       6.324   5.684  14.832  1.00  0.00          AL  \nATOM     34   Al MOL     1       2.199   8.067  14.919  1.00  0.00          AL  \nATOM     35   Al MOL     1       4.992   8.120  14.751  1.00  0.00          AL  \nATOM     36   Al MOL     1       7.839   8.102  14.922  1.00  0.00          AL  \nATOM     37   Al MOL     1       2.141   1.505  17.072  1.00  0.00          AL  \nATOM     38   Al MOL     1       5.017   1.616  17.002  1.00  0.00          AL  \nATOM     39   Al MOL     1       7.964   1.441  17.031  1.00  0.00          AL  \nATOM     40   Al MOL     1       0.688   3.988  17.031  1.00  0.00          AL  \nATOM     41   Al MOL     1       3.541   4.034  16.934  1.00  0.00          AL  \nATOM     42   Al MOL     1       6.514   3.967  16.964  1.00  0.00          AL  \nATOM     43   Al MOL     1       2.182   6.569  17.105  1.00  0.00          AL  \nATOM     44   Al MOL     1       4.995   6.554  17.075  1.00  0.00          AL  \nATOM     45   Al MOL     1       7.877   6.467  17.160  1.00  0.00          AL  \nATOM     46   Al MOL     1       0.718   8.924  17.225  1.00  0.00          AL  \nATOM     47   Al MOL     1       3.559   9.031  17.150  1.00  0.00          AL  \nATOM     48   Al MOL     1       6.400   9.016  17.031  1.00  0.00          AL  \nATOM     49   Al MOL     1       0.832   2.278  19.385  1.00  0.00          AL  \nATOM     50   Al MOL     1       3.620   2.440  19.325  1.00  0.00          AL  \nATOM     51   Al MOL     1       6.428   2.435  19.280  1.00  0.00          AL  \nATOM     52   Al MOL     1       2.070   4.815  19.257  1.00  0.00          AL  \nATOM     53   Al MOL     1       4.980   4.785  19.202  1.00  0.00          AL  \nATOM     54   Al MOL     1       7.947   4.763  19.357  1.00  0.00          AL  \nATOM     55   Al MOL     1       0.761   7.360  19.402  1.00  0.00          AL  \nATOM     56   Al MOL     1       3.659   7.335  19.355  1.00  0.00          AL  \nATOM     57   Al MOL     1       6.524   7.266  19.387  1.00  0.00          AL  \nATOM     58   Al MOL     1       2.200   9.835  19.505  1.00  0.00          AL  \nATOM     59   Al MOL     1       4.996   9.801  19.339  1.00  0.00          AL  \nATOM     60   Al MOL     1       7.835   9.763  19.388  1.00  0.00          AL  \nATOM     61   Al MOL     1       0.805   0.659  21.651  1.00  0.00          AL  \nATOM     62   Al MOL     1       3.805   0.744  21.747  1.00  0.00          AL  \nATOM     63   Al MOL     1       6.417   0.811  21.605  1.00  0.00          AL  \nATOM     64   Al MOL     1       2.293   3.164  21.693  1.00  0.00          AL  \nATOM     65   Al MOL     1       5.063   3.121  21.540  1.00  0.00          AL  \nATOM     66   Al MOL     1       7.639   2.960  21.649  1.00  0.00          AL  \nATOM     67   Al MOL     1       0.901   5.435  21.761  1.00  0.00          AL  \nATOM     68   Al MOL     1       3.759   5.745  21.591  1.00  0.00          AL  \nATOM     69   Al MOL     1       6.483   5.315  21.517  1.00  0.00          AL  \nATOM     70   Al MOL     1       2.043   8.260  21.768  1.00  0.00          AL  \nATOM     71   Al MOL     1       5.083   8.072  21.805  1.00  0.00          AL  \nATOM     72   Al MOL     1       7.847   7.965  21.766  1.00  0.00          AL  \nATOM     73    O MOL     1       5.477   3.357  26.734  1.00  0.00           O  \nATOM     74    O MOL     1       6.329   3.417  25.841  1.00  0.00           O  \nATOM     75    O MOL     1       2.099   8.133  27.855  1.00  0.00           O  \nATOM     76    O MOL     1       2.190   6.979  27.431  1.00  0.00           O  \nATOM     77    O MOL     1       4.135  -0.373   2.543  1.00  0.00           O  \nATOM     78    O MOL     1       3.810  -0.210   1.363  1.00  0.00           O  \nATOM     79    O MOL     1       4.902   5.992   2.386  1.00  0.00           O  \nATOM     80    O MOL     1       5.535   6.744   1.639  1.00  0.00           O  \nATOM     81    O MOL     1       7.440   4.128   3.469  1.00  0.00           O  \nATOM     82    O MOL     1       7.437   4.942   4.393  1.00  0.00           O  \nATOM     83    O MOL     1       7.423  -1.360   3.550  1.00  0.00           O  \nATOM     84    O MOL     1       7.544  -0.460   2.716  1.00  0.00           O  \nATOM     85    O MOL     1       2.976   5.696  31.478  1.00  0.00           O  \nATOM     86    O MOL     1       2.257   6.300  30.680  1.00  0.00           O  \nATOM     87    O MOL     1       2.179   6.393  22.408  1.00  0.00           O  \nATOM     88    O MOL     1       3.527   4.332  22.601  1.00  0.00           O  \nATOM     89    O MOL     1      -0.196   3.869  30.717  1.00  0.00           O  \nATOM     90    O MOL     1       0.851   3.218  30.749  1.00  0.00           O  \nATOM     91    O MOL     1       7.849   8.155   9.365  1.00  0.00           O  \nATOM     92    O MOL     1       5.466   4.788   8.945  1.00  0.00           O  \nATOM     93    O MOL     1       2.437   3.374   9.309  1.00  0.00           O  \nATOM     94    O MOL     1       3.154   5.853   9.276  1.00  0.00           O  \nATOM     95    O MOL     1       7.774   6.367  22.610  1.00  0.00           O  \nATOM     96    O MOL     1       9.328   3.557  22.527  1.00  0.00           O  \nATOM     97    O MOL     1       4.265   3.081   7.129  1.00  0.00           O  \nATOM     98    O MOL     1       3.248   4.144   6.575  1.00  0.00           O  \nATOM     99    O MOL     1       0.786  10.884   9.217  1.00  0.00           O  \nATOM    100    O MOL     1       5.047   7.956   9.174  1.00  0.00           O  \nATOM    101    O MOL     1       5.254   9.058  28.160  1.00  0.00           O  \nATOM    102    O MOL     1       5.291   8.335  27.160  1.00  0.00           O  \nATOM    103    O MOL     1       1.639   7.447   2.176  1.00  0.00           O  \nATOM    104    O MOL     1       1.079   6.363   2.359  1.00  0.00           O  \nATOM    105    O MOL     1       7.030   5.906  28.600  1.00  0.00           O  \nATOM    106    O MOL     1       6.153   5.892  29.467  1.00  0.00           O  \nATOM    107    O MOL     1       6.467   9.012  22.374  1.00  0.00           O  \nATOM    108    O MOL     1       3.643   9.026  22.464  1.00  0.00           O  \nATOM    109    O MOL     1       3.640   1.605  30.005  1.00  0.00           O  \nATOM    110    O MOL     1       2.717   0.790  29.944  1.00  0.00           O  \nATOM    111    O MOL     1      -0.351   1.682  28.014  1.00  0.00           O  \nATOM    112    O MOL     1       0.555   2.417  27.613  1.00  0.00           O  \nENDMDL\n",
           "ext": "pdb"
          }
         ],
         "kwargs": {},
         "methodName": "replaceStructure",
         "reconstruc_color_scheme": false,
         "target": "Widget",
         "type": "call_method"
        },
        {
         "args": [
          "this._Q = [[1.0, 0.0, 0.0], [0.0, 1.0, 0.0], [0.0, 0.0, 1.0]]"
         ],
         "kwargs": {},
         "methodName": "executeCode",
         "reconstruc_color_scheme": false,
         "target": "Widget",
         "type": "call_method"
        },
        {
         "args": [
          {
           "data": "CRYST1    8.591    9.920   31.691  90.00  90.00  90.00 P 1\nMODEL     1\nATOM      1   Al MOL     1       2.576   1.548   9.433  1.00  0.00          AL  \nATOM      2   Al MOL     1       5.332   1.716  10.008  1.00  0.00          AL  \nATOM      3   Al MOL     1       7.971   1.555  10.069  1.00  0.00          AL  \nATOM      4   Al MOL     1       0.673   4.183  10.337  1.00  0.00          AL  \nATOM      5   Al MOL     1       3.450   4.071   8.464  1.00  0.00          AL  \nATOM      6   Al MOL     1       6.725   4.342  10.063  1.00  0.00          AL  \nATOM      7   Al MOL     1       2.141   6.498  10.356  1.00  0.00          AL  \nATOM      8   Al MOL     1       4.681   6.357   9.618  1.00  0.00          AL  \nATOM      9   Al MOL     1       8.028   6.472  10.200  1.00  0.00          AL  \nATOM     10   Al MOL     1       0.918   8.981   9.918  1.00  0.00          AL  \nATOM     11   Al MOL     1       3.649   8.986  10.109  1.00  0.00          AL  \nATOM     12   Al MOL     1       6.466   9.023  10.123  1.00  0.00          AL  \nATOM     13   Al MOL     1       0.749   2.291  12.527  1.00  0.00          AL  \nATOM     14   Al MOL     1       3.575   2.330  12.363  1.00  0.00          AL  \nATOM     15   Al MOL     1       6.339   2.349  12.422  1.00  0.00          AL  \nATOM     16   Al MOL     1       2.211   4.850  12.524  1.00  0.00          AL  \nATOM     17   Al MOL     1       4.964   4.755  12.375  1.00  0.00          AL  \nATOM     18   Al MOL     1       7.871   4.688  12.492  1.00  0.00          AL  \nATOM     19   Al MOL     1       0.699   7.342  12.492  1.00  0.00          AL  \nATOM     20   Al MOL     1       3.672   7.314  12.418  1.00  0.00          AL  \nATOM     21   Al MOL     1       6.425   7.173  12.205  1.00  0.00          AL  \nATOM     22   Al MOL     1       2.162   9.751  12.329  1.00  0.00          AL  \nATOM     23   Al MOL     1       5.118   9.747  12.359  1.00  0.00          AL  \nATOM     24   Al MOL     1       7.974   9.757  12.497  1.00  0.00          AL  \nATOM     25   Al MOL     1       0.780   0.769  14.807  1.00  0.00          AL  \nATOM     26   Al MOL     1       3.622   0.680  14.551  1.00  0.00          AL  \nATOM     27   Al MOL     1       6.491   0.693  14.804  1.00  0.00          AL  \nATOM     28   Al MOL     1       2.240   3.198  14.804  1.00  0.00          AL  \nATOM     29   Al MOL     1       5.071   3.099  14.750  1.00  0.00          AL  \nATOM     30   Al MOL     1       7.839   3.112  14.799  1.00  0.00          AL  \nATOM     31   Al MOL     1       0.774   5.537  14.757  1.00  0.00          AL  \nATOM     32   Al MOL     1       3.609   5.662  14.821  1.00  0.00          AL  \nATOM     33   Al MOL     1       6.421   5.609  14.611  1.00  0.00          AL  \nATOM     34   Al MOL     1       2.058   8.184  14.693  1.00  0.00          AL  \nATOM     35   Al MOL     1       5.028   8.105  14.675  1.00  0.00          AL  \nATOM     36   Al MOL     1       7.803   8.084  14.749  1.00  0.00          AL  \nATOM     37   Al MOL     1       2.178   1.501  17.085  1.00  0.00          AL  \nATOM     38   Al MOL     1       4.972   1.459  17.033  1.00  0.00          AL  \nATOM     39   Al MOL     1       7.870   1.563  17.068  1.00  0.00          AL  \nATOM     40   Al MOL     1       0.805   3.994  17.115  1.00  0.00          AL  \nATOM     41   Al MOL     1       3.644   3.968  17.128  1.00  0.00          AL  \nATOM     42   Al MOL     1       6.423   4.076  16.997  1.00  0.00          AL  \nATOM     43   Al MOL     1       2.092   6.429  17.101  1.00  0.00          AL  \nATOM     44   Al MOL     1       5.011   6.517  17.005  1.00  0.00          AL  \nATOM     45   Al MOL     1       7.928   6.478  17.070  1.00  0.00          AL  \nATOM     46   Al MOL     1       0.750   8.944  17.075  1.00  0.00          AL  \nATOM     47   Al MOL     1       3.601   8.876  16.991  1.00  0.00          AL  \nATOM     48   Al MOL     1       6.517   8.899  17.160  1.00  0.00          AL  \nATOM     49   Al MOL     1       0.679   2.407  19.334  1.00  0.00          AL  \nATOM     50   Al MOL     1       3.590   2.310  19.407  1.00  0.00          AL  \nATOM     51   Al MOL     1       6.452   2.328  19.438  1.00  0.00          AL  \nATOM     52   Al MOL     1       2.261   4.812  19.400  1.00  0.00          AL  \nATOM     53   Al MOL     1       5.107   4.866  19.351  1.00  0.00          AL  \nATOM     54   Al MOL     1       7.898   4.854  19.418  1.00  0.00          AL  \nATOM     55   Al MOL     1       0.677   7.259  19.419  1.00  0.00          AL  \nATOM     56   Al MOL     1       3.536   7.326  19.411  1.00  0.00          AL  \nATOM     57   Al MOL     1       6.422   7.414  19.319  1.00  0.00          AL  \nATOM     58   Al MOL     1       2.099   9.740  19.319  1.00  0.00          AL  \nATOM     59   Al MOL     1       5.020   9.805  19.493  1.00  0.00          AL  \nATOM     60   Al MOL     1       7.911   9.719  19.326  1.00  0.00          AL  \nATOM     61   Al MOL     1       0.636   0.606  21.513  1.00  0.00          AL  \nATOM     62   Al MOL     1       3.564   0.539  21.569  1.00  0.00          AL  \nATOM     63   Al MOL     1       6.452   0.739  21.863  1.00  0.00          AL  \nATOM     64   Al MOL     1       2.155   3.054  21.634  1.00  0.00          AL  \nATOM     65   Al MOL     1       5.159   2.991  21.709  1.00  0.00          AL  \nATOM     66   Al MOL     1       7.961   3.047  21.626  1.00  0.00          AL  \nATOM     67   Al MOL     1       0.745   5.701  21.805  1.00  0.00          AL  \nATOM     68   Al MOL     1       3.829   5.449  21.774  1.00  0.00          AL  \nATOM     69   Al MOL     1       6.444   5.846  21.602  1.00  0.00          AL  \nATOM     70   Al MOL     1       2.045   8.236  21.838  1.00  0.00          AL  \nATOM     71   Al MOL     1       4.858   8.045  21.717  1.00  0.00          AL  \nATOM     72   Al MOL     1       7.838   8.200  21.906  1.00  0.00          AL  \nATOM     73    O MOL     1       5.569   3.347  26.436  1.00  0.00           O  \nATOM     74    O MOL     1       6.509   3.455  25.641  1.00  0.00           O  \nATOM     75    O MOL     1       2.090   8.036  27.838  1.00  0.00           O  \nATOM     76    O MOL     1       2.229   6.907  27.362  1.00  0.00           O  \nATOM     77    O MOL     1       4.092  -0.384   2.545  1.00  0.00           O  \nATOM     78    O MOL     1       3.900  -0.188   1.343  1.00  0.00           O  \nATOM     79    O MOL     1       4.830   6.061   2.453  1.00  0.00           O  \nATOM     80    O MOL     1       5.510   6.597   1.574  1.00  0.00           O  \nATOM     81    O MOL     1       7.307   4.383   3.322  1.00  0.00           O  \nATOM     82    O MOL     1       7.440   5.001   4.380  1.00  0.00           O  \nATOM     83    O MOL     1       7.369  -1.455   3.541  1.00  0.00           O  \nATOM     84    O MOL     1       7.504  -0.537   2.727  1.00  0.00           O  \nATOM     85    O MOL     1       3.066   5.711  31.484  1.00  0.00           O  \nATOM     86    O MOL     1       2.314   6.318  30.719  1.00  0.00           O  \nATOM     87    O MOL     1       2.352   6.306  22.525  1.00  0.00           O  \nATOM     88    O MOL     1       3.682   3.704  22.633  1.00  0.00           O  \nATOM     89    O MOL     1      -0.182   3.923  30.702  1.00  0.00           O  \nATOM     90    O MOL     1       0.864   3.272  30.746  1.00  0.00           O  \nATOM     91    O MOL     1       8.063   8.174   9.259  1.00  0.00           O  \nATOM     92    O MOL     1       5.249   4.714   9.008  1.00  0.00           O  \nATOM     93    O MOL     1       2.191   3.471   9.729  1.00  0.00           O  \nATOM     94    O MOL     1       3.076   5.924   8.910  1.00  0.00           O  \nATOM     95    O MOL     1       7.927   6.458  22.384  1.00  0.00           O  \nATOM     96    O MOL     1       9.228   4.073  22.578  1.00  0.00           O  \nATOM     97    O MOL     1       3.677   1.921   8.424  1.00  0.00           O  \nATOM     98    O MOL     1       3.124   3.661   6.830  1.00  0.00           O  \nATOM     99    O MOL     1       0.956  10.644   9.236  1.00  0.00           O  \nATOM    100    O MOL     1       5.116   8.098   9.314  1.00  0.00           O  \nATOM    101    O MOL     1       5.175   9.101  28.141  1.00  0.00           O  \nATOM    102    O MOL     1       5.289   8.343  27.175  1.00  0.00           O  \nATOM    103    O MOL     1       1.682   7.477   2.080  1.00  0.00           O  \nATOM    104    O MOL     1       1.096   6.401   2.221  1.00  0.00           O  \nATOM    105    O MOL     1       6.989   5.820  28.420  1.00  0.00           O  \nATOM    106    O MOL     1       6.097   5.808  29.271  1.00  0.00           O  \nATOM    107    O MOL     1       6.281   8.946  22.603  1.00  0.00           O  \nATOM    108    O MOL     1       3.525   8.918  22.592  1.00  0.00           O  \nATOM    109    O MOL     1       3.581   1.660  29.916  1.00  0.00           O  \nATOM    110    O MOL     1       2.665   0.836  29.940  1.00  0.00           O  \nATOM    111    O MOL     1      -0.490   1.768  28.074  1.00  0.00           O  \nATOM    112    O MOL     1       0.493   2.331  27.584  1.00  0.00           O  \nENDMDL\n",
           "ext": "pdb"
          }
         ],
         "kwargs": {},
         "methodName": "replaceStructure",
         "reconstruc_color_scheme": false,
         "target": "Widget",
         "type": "call_method"
        },
        {
         "args": [
          "this._Q = [[1.0, 0.0, 0.0], [0.0, 1.0, 0.0], [0.0, 0.0, 1.0]]"
         ],
         "kwargs": {},
         "methodName": "executeCode",
         "reconstruc_color_scheme": false,
         "target": "Widget",
         "type": "call_method"
        },
        {
         "args": [
          {
           "data": "CRYST1    8.591    9.920   31.691  90.00  90.00  90.00 P 1\nMODEL     1\nATOM      1   Al MOL     1       2.193   1.855  10.034  1.00  0.00          AL  \nATOM      2   Al MOL     1       5.156   1.325  10.247  1.00  0.00          AL  \nATOM      3   Al MOL     1       7.838   1.245  10.289  1.00  0.00          AL  \nATOM      4   Al MOL     1       0.704   3.925  10.323  1.00  0.00          AL  \nATOM      5   Al MOL     1       3.299   3.768   8.527  1.00  0.00          AL  \nATOM      6   Al MOL     1       6.660   3.737  10.068  1.00  0.00          AL  \nATOM      7   Al MOL     1       2.374   6.335  10.380  1.00  0.00          AL  \nATOM      8   Al MOL     1       4.926   6.230   9.985  1.00  0.00          AL  \nATOM      9   Al MOL     1       7.977   6.390  10.180  1.00  0.00          AL  \nATOM     10   Al MOL     1       0.918   8.875  10.177  1.00  0.00          AL  \nATOM     11   Al MOL     1       3.692   8.848  10.240  1.00  0.00          AL  \nATOM     12   Al MOL     1       6.511   8.899  10.055  1.00  0.00          AL  \nATOM     13   Al MOL     1       0.823   2.418  12.525  1.00  0.00          AL  \nATOM     14   Al MOL     1       3.587   2.441  12.520  1.00  0.00          AL  \nATOM     15   Al MOL     1       6.382   2.315  12.586  1.00  0.00          AL  \nATOM     16   Al MOL     1       2.181   4.844  12.603  1.00  0.00          AL  \nATOM     17   Al MOL     1       5.036   4.792  12.491  1.00  0.00          AL  \nATOM     18   Al MOL     1       7.858   4.718  12.538  1.00  0.00          AL  \nATOM     19   Al MOL     1       0.592   7.368  12.710  1.00  0.00          AL  \nATOM     20   Al MOL     1       3.537   7.382  12.618  1.00  0.00          AL  \nATOM     21   Al MOL     1       6.407   7.254  12.385  1.00  0.00          AL  \nATOM     22   Al MOL     1       2.098   9.862  12.456  1.00  0.00          AL  \nATOM     23   Al MOL     1       4.984   9.775  12.516  1.00  0.00          AL  \nATOM     24   Al MOL     1       7.797   9.727  12.690  1.00  0.00          AL  \nATOM     25   Al MOL     1       0.727   0.842  14.762  1.00  0.00          AL  \nATOM     26   Al MOL     1       3.599   0.716  14.826  1.00  0.00          AL  \nATOM     27   Al MOL     1       6.426   0.715  14.884  1.00  0.00          AL  \nATOM     28   Al MOL     1       2.207   3.309  14.855  1.00  0.00          AL  \nATOM     29   Al MOL     1       5.068   3.277  14.800  1.00  0.00          AL  \nATOM     30   Al MOL     1       7.877   3.150  14.677  1.00  0.00          AL  \nATOM     31   Al MOL     1       0.736   5.621  14.774  1.00  0.00          AL  \nATOM     32   Al MOL     1       3.563   5.787  14.832  1.00  0.00          AL  \nATOM     33   Al MOL     1       6.399   5.764  14.681  1.00  0.00          AL  \nATOM     34   Al MOL     1       2.128   8.174  14.795  1.00  0.00          AL  \nATOM     35   Al MOL     1       4.966   8.161  14.821  1.00  0.00          AL  \nATOM     36   Al MOL     1       7.838   8.119  14.915  1.00  0.00          AL  \nATOM     37   Al MOL     1       2.143   1.563  17.053  1.00  0.00          AL  \nATOM     38   Al MOL     1       4.922   1.487  17.004  1.00  0.00          AL  \nATOM     39   Al MOL     1       7.858   1.609  17.033  1.00  0.00          AL  \nATOM     40   Al MOL     1       0.713   3.954  17.074  1.00  0.00          AL  \nATOM     41   Al MOL     1       3.586   4.015  17.072  1.00  0.00          AL  \nATOM     42   Al MOL     1       6.462   4.090  16.944  1.00  0.00          AL  \nATOM     43   Al MOL     1       2.133   6.383  17.105  1.00  0.00          AL  \nATOM     44   Al MOL     1       4.965   6.464  17.037  1.00  0.00          AL  \nATOM     45   Al MOL     1       7.958   6.412  17.057  1.00  0.00          AL  \nATOM     46   Al MOL     1       0.781   8.980  17.071  1.00  0.00          AL  \nATOM     47   Al MOL     1       3.634   8.945  17.026  1.00  0.00          AL  \nATOM     48   Al MOL     1       6.562   8.947  17.052  1.00  0.00          AL  \nATOM     49   Al MOL     1       0.659   2.388  19.330  1.00  0.00          AL  \nATOM     50   Al MOL     1       3.530   2.413  19.298  1.00  0.00          AL  \nATOM     51   Al MOL     1       6.410   2.343  19.210  1.00  0.00          AL  \nATOM     52   Al MOL     1       2.168   4.796  19.375  1.00  0.00          AL  \nATOM     53   Al MOL     1       4.994   4.854  19.217  1.00  0.00          AL  \nATOM     54   Al MOL     1       7.858   4.803  19.393  1.00  0.00          AL  \nATOM     55   Al MOL     1       0.787   7.205  19.408  1.00  0.00          AL  \nATOM     56   Al MOL     1       3.572   7.370  19.314  1.00  0.00          AL  \nATOM     57   Al MOL     1       6.402   7.305  19.194  1.00  0.00          AL  \nATOM     58   Al MOL     1       2.232   9.798  19.294  1.00  0.00          AL  \nATOM     59   Al MOL     1       4.998   9.831  19.291  1.00  0.00          AL  \nATOM     60   Al MOL     1       7.974   9.790  19.314  1.00  0.00          AL  \nATOM     61   Al MOL     1       0.662   0.667  21.475  1.00  0.00          AL  \nATOM     62   Al MOL     1       3.636   0.648  21.520  1.00  0.00          AL  \nATOM     63   Al MOL     1       6.512   0.721  21.526  1.00  0.00          AL  \nATOM     64   Al MOL     1       2.207   3.013  21.695  1.00  0.00          AL  \nATOM     65   Al MOL     1       5.166   3.223  21.535  1.00  0.00          AL  \nATOM     66   Al MOL     1       7.780   3.070  21.728  1.00  0.00          AL  \nATOM     67   Al MOL     1       0.695   5.633  21.695  1.00  0.00          AL  \nATOM     68   Al MOL     1       3.801   5.561  21.563  1.00  0.00          AL  \nATOM     69   Al MOL     1       6.497   5.576  21.577  1.00  0.00          AL  \nATOM     70   Al MOL     1       1.974   8.118  21.898  1.00  0.00          AL  \nATOM     71   Al MOL     1       4.974   8.168  21.636  1.00  0.00          AL  \nATOM     72   Al MOL     1       7.897   8.117  21.601  1.00  0.00          AL  \nATOM     73    O MOL     1       5.686   3.499  25.665  1.00  0.00           O  \nATOM     74    O MOL     1       6.835   3.409  25.210  1.00  0.00           O  \nATOM     75    O MOL     1       2.182   7.812  27.728  1.00  0.00           O  \nATOM     76    O MOL     1       2.287   6.678  27.257  1.00  0.00           O  \nATOM     77    O MOL     1       4.147  -0.330   2.475  1.00  0.00           O  \nATOM     78    O MOL     1       4.182  -0.090   1.265  1.00  0.00           O  \nATOM     79    O MOL     1       4.520   6.239   2.338  1.00  0.00           O  \nATOM     80    O MOL     1       5.376   6.798   1.646  1.00  0.00           O  \nATOM     81    O MOL     1       7.585   4.430   3.134  1.00  0.00           O  \nATOM     82    O MOL     1       7.444   5.217   4.070  1.00  0.00           O  \nATOM     83    O MOL     1       7.316  -1.512   3.512  1.00  0.00           O  \nATOM     84    O MOL     1       7.298  -0.608   2.671  1.00  0.00           O  \nATOM     85    O MOL     1       3.209   5.570  31.154  1.00  0.00           O  \nATOM     86    O MOL     1       2.504   6.366  30.529  1.00  0.00           O  \nATOM     87    O MOL     1       2.402   6.413  22.481  1.00  0.00           O  \nATOM     88    O MOL     1       3.673   3.803  22.399  1.00  0.00           O  \nATOM     89    O MOL     1      -0.110   4.124  30.533  1.00  0.00           O  \nATOM     90    O MOL     1       0.891   3.402  30.548  1.00  0.00           O  \nATOM     91    O MOL     1       7.905   8.105   9.376  1.00  0.00           O  \nATOM     92    O MOL     1       6.523   5.645   9.632  1.00  0.00           O  \nATOM     93    O MOL     1       1.565   3.259   8.919  1.00  0.00           O  \nATOM     94    O MOL     1       3.528   5.351   9.530  1.00  0.00           O  \nATOM     95    O MOL     1       7.673   6.544  22.411  1.00  0.00           O  \nATOM     96    O MOL     1       9.343   3.884  22.361  1.00  0.00           O  \nATOM     97    O MOL     1       3.959   2.263   9.428  1.00  0.00           O  \nATOM     98    O MOL     1       4.165   3.739   7.164  1.00  0.00           O  \nATOM     99    O MOL     1       0.767  10.560   9.461  1.00  0.00           O  \nATOM    100    O MOL     1       5.037   8.009   9.357  1.00  0.00           O  \nATOM    101    O MOL     1       5.038   9.198  28.066  1.00  0.00           O  \nATOM    102    O MOL     1       5.228   8.449  27.104  1.00  0.00           O  \nATOM    103    O MOL     1       1.638   7.580   1.964  1.00  0.00           O  \nATOM    104    O MOL     1       1.046   6.499   2.033  1.00  0.00           O  \nATOM    105    O MOL     1       6.953   5.509  28.046  1.00  0.00           O  \nATOM    106    O MOL     1       6.004   5.575  28.832  1.00  0.00           O  \nATOM    107    O MOL     1       6.416   8.949  22.281  1.00  0.00           O  \nATOM    108    O MOL     1       3.482   9.016  22.409  1.00  0.00           O  \nATOM    109    O MOL     1       3.397   1.609  29.852  1.00  0.00           O  \nATOM    110    O MOL     1       2.506   0.758  29.906  1.00  0.00           O  \nATOM    111    O MOL     1      -0.722   2.054  28.207  1.00  0.00           O  \nATOM    112    O MOL     1       0.348   2.222  27.614  1.00  0.00           O  \nENDMDL\n",
           "ext": "pdb"
          }
         ],
         "kwargs": {},
         "methodName": "replaceStructure",
         "reconstruc_color_scheme": false,
         "target": "Widget",
         "type": "call_method"
        },
        {
         "args": [
          "this._Q = [[1.0, 0.0, 0.0], [0.0, 1.0, 0.0], [0.0, 0.0, 1.0]]"
         ],
         "kwargs": {},
         "methodName": "executeCode",
         "reconstruc_color_scheme": false,
         "target": "Widget",
         "type": "call_method"
        },
        {
         "args": [
          {
           "data": "CRYST1    8.591    9.920   31.691  90.00  90.00  90.00 P 1\nMODEL     1\nATOM      1   Al MOL     1       2.348   1.527   9.863  1.00  0.00          AL  \nATOM      2   Al MOL     1       5.310   1.783  10.142  1.00  0.00          AL  \nATOM      3   Al MOL     1       7.894   1.661  10.055  1.00  0.00          AL  \nATOM      4   Al MOL     1       0.639   3.894  10.361  1.00  0.00          AL  \nATOM      5   Al MOL     1       3.631   3.652   8.886  1.00  0.00          AL  \nATOM      6   Al MOL     1       6.371   4.050   9.939  1.00  0.00          AL  \nATOM      7   Al MOL     1       2.252   6.379  10.205  1.00  0.00          AL  \nATOM      8   Al MOL     1       4.922   6.233   9.706  1.00  0.00          AL  \nATOM      9   Al MOL     1       8.005   6.157  10.191  1.00  0.00          AL  \nATOM     10   Al MOL     1       0.708   8.916  10.031  1.00  0.00          AL  \nATOM     11   Al MOL     1       3.482   8.921  10.305  1.00  0.00          AL  \nATOM     12   Al MOL     1       6.315   9.020  10.405  1.00  0.00          AL  \nATOM     13   Al MOL     1       0.656   2.219  12.561  1.00  0.00          AL  \nATOM     14   Al MOL     1       3.501   2.253  12.353  1.00  0.00          AL  \nATOM     15   Al MOL     1       6.460   2.431  12.599  1.00  0.00          AL  \nATOM     16   Al MOL     1       2.067   4.646  12.645  1.00  0.00          AL  \nATOM     17   Al MOL     1       4.963   4.779  12.231  1.00  0.00          AL  \nATOM     18   Al MOL     1       7.726   4.893  12.666  1.00  0.00          AL  \nATOM     19   Al MOL     1       0.767   7.253  12.557  1.00  0.00          AL  \nATOM     20   Al MOL     1       3.624   7.096  12.538  1.00  0.00          AL  \nATOM     21   Al MOL     1       6.398   7.247  12.563  1.00  0.00          AL  \nATOM     22   Al MOL     1       2.135   9.584  12.417  1.00  0.00          AL  \nATOM     23   Al MOL     1       4.976   9.818  12.483  1.00  0.00          AL  \nATOM     24   Al MOL     1       7.967   9.721  12.397  1.00  0.00          AL  \nATOM     25   Al MOL     1       0.658   0.523  14.872  1.00  0.00          AL  \nATOM     26   Al MOL     1       3.548   0.609  14.885  1.00  0.00          AL  \nATOM     27   Al MOL     1       6.518   0.657  14.690  1.00  0.00          AL  \nATOM     28   Al MOL     1       1.974   3.010  14.814  1.00  0.00          AL  \nATOM     29   Al MOL     1       4.974   3.092  14.738  1.00  0.00          AL  \nATOM     30   Al MOL     1       7.828   3.140  14.878  1.00  0.00          AL  \nATOM     31   Al MOL     1       0.651   5.733  14.797  1.00  0.00          AL  \nATOM     32   Al MOL     1       3.588   5.626  14.803  1.00  0.00          AL  \nATOM     33   Al MOL     1       6.378   5.516  14.928  1.00  0.00          AL  \nATOM     34   Al MOL     1       2.142   8.043  14.679  1.00  0.00          AL  \nATOM     35   Al MOL     1       5.011   8.071  14.813  1.00  0.00          AL  \nATOM     36   Al MOL     1       7.842   8.135  14.687  1.00  0.00          AL  \nATOM     37   Al MOL     1       2.216   1.530  17.095  1.00  0.00          AL  \nATOM     38   Al MOL     1       5.022   1.561  17.089  1.00  0.00          AL  \nATOM     39   Al MOL     1       7.895   1.468  17.150  1.00  0.00          AL  \nATOM     40   Al MOL     1       0.785   4.132  17.099  1.00  0.00          AL  \nATOM     41   Al MOL     1       3.551   4.056  17.072  1.00  0.00          AL  \nATOM     42   Al MOL     1       6.456   4.020  17.187  1.00  0.00          AL  \nATOM     43   Al MOL     1       2.175   6.656  17.003  1.00  0.00          AL  \nATOM     44   Al MOL     1       4.993   6.591  17.106  1.00  0.00          AL  \nATOM     45   Al MOL     1       7.803   6.643  17.025  1.00  0.00          AL  \nATOM     46   Al MOL     1       0.657   8.918  17.101  1.00  0.00          AL  \nATOM     47   Al MOL     1       3.510   9.066  17.099  1.00  0.00          AL  \nATOM     48   Al MOL     1       6.249   9.048  16.980  1.00  0.00          AL  \nATOM     49   Al MOL     1       0.828   2.328  19.278  1.00  0.00          AL  \nATOM     50   Al MOL     1       3.628   2.334  19.361  1.00  0.00          AL  \nATOM     51   Al MOL     1       6.516   2.395  19.360  1.00  0.00          AL  \nATOM     52   Al MOL     1       2.205   4.902  19.391  1.00  0.00          AL  \nATOM     53   Al MOL     1       5.024   4.834  19.292  1.00  0.00          AL  \nATOM     54   Al MOL     1       7.980   4.904  19.379  1.00  0.00          AL  \nATOM     55   Al MOL     1       0.656   7.413  19.467  1.00  0.00          AL  \nATOM     56   Al MOL     1       3.611   7.250  19.383  1.00  0.00          AL  \nATOM     57   Al MOL     1       6.526   7.361  19.388  1.00  0.00          AL  \nATOM     58   Al MOL     1       2.092   9.784  19.350  1.00  0.00          AL  \nATOM     59   Al MOL     1       4.906   9.773  19.432  1.00  0.00          AL  \nATOM     60   Al MOL     1       7.759   9.868  19.469  1.00  0.00          AL  \nATOM     61   Al MOL     1       0.719   0.642  21.570  1.00  0.00          AL  \nATOM     62   Al MOL     1       3.563   0.845  21.651  1.00  0.00          AL  \nATOM     63   Al MOL     1       6.386   0.719  21.772  1.00  0.00          AL  \nATOM     64   Al MOL     1       2.144   3.034  21.812  1.00  0.00          AL  \nATOM     65   Al MOL     1       5.096   3.148  21.681  1.00  0.00          AL  \nATOM     66   Al MOL     1       7.828   3.025  21.513  1.00  0.00          AL  \nATOM     67   Al MOL     1       0.824   5.676  21.838  1.00  0.00          AL  \nATOM     68   Al MOL     1       3.731   5.664  21.769  1.00  0.00          AL  \nATOM     69   Al MOL     1       6.468   5.516  21.510  1.00  0.00          AL  \nATOM     70   Al MOL     1       2.139   8.220  21.615  1.00  0.00          AL  \nATOM     71   Al MOL     1       5.001   8.046  21.737  1.00  0.00          AL  \nATOM     72   Al MOL     1       8.060   8.268  21.969  1.00  0.00          AL  \nATOM     73    O MOL     1       5.812   3.537  25.270  1.00  0.00           O  \nATOM     74    O MOL     1       6.976   3.429  24.855  1.00  0.00           O  \nATOM     75    O MOL     1       2.193   7.719  27.617  1.00  0.00           O  \nATOM     76    O MOL     1       2.303   6.566  27.194  1.00  0.00           O  \nATOM     77    O MOL     1       4.142  -0.127   2.428  1.00  0.00           O  \nATOM     78    O MOL     1       4.242  -0.025   1.202  1.00  0.00           O  \nATOM     79    O MOL     1       4.545   6.240   2.356  1.00  0.00           O  \nATOM     80    O MOL     1       5.242   6.886   1.566  1.00  0.00           O  \nATOM     81    O MOL     1       7.669   4.403   2.992  1.00  0.00           O  \nATOM     82    O MOL     1       7.554   5.241   3.888  1.00  0.00           O  \nATOM     83    O MOL     1       7.281  -1.467   3.481  1.00  0.00           O  \nATOM     84    O MOL     1       7.321  -0.574   2.630  1.00  0.00           O  \nATOM     85    O MOL     1       3.302   5.499  30.980  1.00  0.00           O  \nATOM     86    O MOL     1       2.659   6.397  30.433  1.00  0.00           O  \nATOM     87    O MOL     1       2.181   6.423  22.225  1.00  0.00           O  \nATOM     88    O MOL     1       3.520   3.861  22.559  1.00  0.00           O  \nATOM     89    O MOL     1      -0.054   4.312  30.488  1.00  0.00           O  \nATOM     90    O MOL     1       0.866   3.492  30.439  1.00  0.00           O  \nATOM     91    O MOL     1       7.843   8.158   9.462  1.00  0.00           O  \nATOM     92    O MOL     1       6.612   5.662   9.140  1.00  0.00           O  \nATOM     93    O MOL     1       2.003   3.444   9.169  1.00  0.00           O  \nATOM     94    O MOL     1       3.369   5.422   9.231  1.00  0.00           O  \nATOM     95    O MOL     1       7.972   6.536  22.557  1.00  0.00           O  \nATOM     96    O MOL     1       9.251   3.946  22.376  1.00  0.00           O  \nATOM     97    O MOL     1       3.989   1.485   8.911  1.00  0.00           O  \nATOM     98    O MOL     1       5.335   3.892   8.404  1.00  0.00           O  \nATOM     99    O MOL     1       0.834  10.828   9.229  1.00  0.00           O  \nATOM    100    O MOL     1       5.029   8.064   9.610  1.00  0.00           O  \nATOM    101    O MOL     1       4.991   9.213  27.992  1.00  0.00           O  \nATOM    102    O MOL     1       5.263   8.491  27.028  1.00  0.00           O  \nATOM    103    O MOL     1       1.579   7.661   1.882  1.00  0.00           O  \nATOM    104    O MOL     1       1.056   6.544   1.928  1.00  0.00           O  \nATOM    105    O MOL     1       6.944   5.370  27.772  1.00  0.00           O  \nATOM    106    O MOL     1       6.031   5.428  28.601  1.00  0.00           O  \nATOM    107    O MOL     1       6.412   8.952  22.666  1.00  0.00           O  \nATOM    108    O MOL     1       3.557   9.035  22.351  1.00  0.00           O  \nATOM    109    O MOL     1       3.307   1.452  29.822  1.00  0.00           O  \nATOM    110    O MOL     1       2.351   0.680  29.915  1.00  0.00           O  \nATOM    111    O MOL     1      -0.890   2.211  28.140  1.00  0.00           O  \nATOM    112    O MOL     1       0.218   2.207  27.595  1.00  0.00           O  \nENDMDL\n",
           "ext": "pdb"
          }
         ],
         "kwargs": {},
         "methodName": "replaceStructure",
         "reconstruc_color_scheme": false,
         "target": "Widget",
         "type": "call_method"
        },
        {
         "args": [
          "this._Q = [[1.0, 0.0, 0.0], [0.0, 1.0, 0.0], [0.0, 0.0, 1.0]]"
         ],
         "kwargs": {},
         "methodName": "executeCode",
         "reconstruc_color_scheme": false,
         "target": "Widget",
         "type": "call_method"
        },
        {
         "args": [
          {
           "data": "CRYST1    8.591    9.920   31.691  90.00  90.00  90.00 P 1\nMODEL     1\nATOM      1   Al MOL     1       2.071   1.578   9.948  1.00  0.00          AL  \nATOM      2   Al MOL     1       5.276   1.496   9.914  1.00  0.00          AL  \nATOM      3   Al MOL     1       7.886   1.417  10.428  1.00  0.00          AL  \nATOM      4   Al MOL     1       0.826   4.148  10.393  1.00  0.00          AL  \nATOM      5   Al MOL     1       3.680   3.515   9.172  1.00  0.00          AL  \nATOM      6   Al MOL     1       6.949   4.050   9.985  1.00  0.00          AL  \nATOM      7   Al MOL     1       2.312   6.197   9.994  1.00  0.00          AL  \nATOM      8   Al MOL     1       4.923   6.399   9.917  1.00  0.00          AL  \nATOM      9   Al MOL     1       7.975   6.615  10.158  1.00  0.00          AL  \nATOM     10   Al MOL     1       0.756   8.853  10.075  1.00  0.00          AL  \nATOM     11   Al MOL     1       3.661   8.715  10.260  1.00  0.00          AL  \nATOM     12   Al MOL     1       6.369   9.020   9.983  1.00  0.00          AL  \nATOM     13   Al MOL     1       0.724   2.405  12.458  1.00  0.00          AL  \nATOM     14   Al MOL     1       3.614   2.397  12.464  1.00  0.00          AL  \nATOM     15   Al MOL     1       6.316   2.258  12.377  1.00  0.00          AL  \nATOM     16   Al MOL     1       2.217   4.902  12.508  1.00  0.00          AL  \nATOM     17   Al MOL     1       4.960   4.782  12.360  1.00  0.00          AL  \nATOM     18   Al MOL     1       7.829   4.761  12.492  1.00  0.00          AL  \nATOM     19   Al MOL     1       0.622   7.388  12.610  1.00  0.00          AL  \nATOM     20   Al MOL     1       3.520   7.224  12.459  1.00  0.00          AL  \nATOM     21   Al MOL     1       6.381   7.322  12.390  1.00  0.00          AL  \nATOM     22   Al MOL     1       2.095   9.904  12.459  1.00  0.00          AL  \nATOM     23   Al MOL     1       4.991   9.692  12.336  1.00  0.00          AL  \nATOM     24   Al MOL     1       7.737   9.812  12.579  1.00  0.00          AL  \nATOM     25   Al MOL     1       0.709   0.737  14.791  1.00  0.00          AL  \nATOM     26   Al MOL     1       3.538   0.759  14.711  1.00  0.00          AL  \nATOM     27   Al MOL     1       6.344   0.688  14.834  1.00  0.00          AL  \nATOM     28   Al MOL     1       2.199   3.179  14.699  1.00  0.00          AL  \nATOM     29   Al MOL     1       5.039   3.158  14.666  1.00  0.00          AL  \nATOM     30   Al MOL     1       7.831   3.162  14.661  1.00  0.00          AL  \nATOM     31   Al MOL     1       0.683   5.568  14.778  1.00  0.00          AL  \nATOM     32   Al MOL     1       3.541   5.668  14.679  1.00  0.00          AL  \nATOM     33   Al MOL     1       6.410   5.640  14.635  1.00  0.00          AL  \nATOM     34   Al MOL     1       2.049   8.088  14.889  1.00  0.00          AL  \nATOM     35   Al MOL     1       4.984   8.106  14.766  1.00  0.00          AL  \nATOM     36   Al MOL     1       7.902   8.090  14.879  1.00  0.00          AL  \nATOM     37   Al MOL     1       2.102   1.471  17.106  1.00  0.00          AL  \nATOM     38   Al MOL     1       4.945   1.452  17.049  1.00  0.00          AL  \nATOM     39   Al MOL     1       7.855   1.546  17.057  1.00  0.00          AL  \nATOM     40   Al MOL     1       0.666   3.857  17.087  1.00  0.00          AL  \nATOM     41   Al MOL     1       3.594   3.951  17.120  1.00  0.00          AL  \nATOM     42   Al MOL     1       6.364   3.976  17.035  1.00  0.00          AL  \nATOM     43   Al MOL     1       2.086   6.382  17.124  1.00  0.00          AL  \nATOM     44   Al MOL     1       5.028   6.407  17.074  1.00  0.00          AL  \nATOM     45   Al MOL     1       7.819   6.370  17.178  1.00  0.00          AL  \nATOM     46   Al MOL     1       0.786   8.993  17.064  1.00  0.00          AL  \nATOM     47   Al MOL     1       3.638   8.916  17.044  1.00  0.00          AL  \nATOM     48   Al MOL     1       6.434   8.836  17.109  1.00  0.00          AL  \nATOM     49   Al MOL     1       0.588   2.453  19.452  1.00  0.00          AL  \nATOM     50   Al MOL     1       3.532   2.359  19.373  1.00  0.00          AL  \nATOM     51   Al MOL     1       6.438   2.379  19.337  1.00  0.00          AL  \nATOM     52   Al MOL     1       2.118   4.833  19.435  1.00  0.00          AL  \nATOM     53   Al MOL     1       4.996   4.845  19.462  1.00  0.00          AL  \nATOM     54   Al MOL     1       7.733   4.764  19.500  1.00  0.00          AL  \nATOM     55   Al MOL     1       0.696   7.294  19.422  1.00  0.00          AL  \nATOM     56   Al MOL     1       3.499   7.392  19.485  1.00  0.00          AL  \nATOM     57   Al MOL     1       6.410   7.258  19.540  1.00  0.00          AL  \nATOM     58   Al MOL     1       2.180   9.864  19.403  1.00  0.00          AL  \nATOM     59   Al MOL     1       5.109   9.865  19.350  1.00  0.00          AL  \nATOM     60   Al MOL     1       7.955   9.743  19.341  1.00  0.00          AL  \nATOM     61   Al MOL     1       0.751   0.742  21.532  1.00  0.00          AL  \nATOM     62   Al MOL     1       3.524   0.690  21.663  1.00  0.00          AL  \nATOM     63   Al MOL     1       6.523   0.823  21.633  1.00  0.00          AL  \nATOM     64   Al MOL     1       2.275   2.984  21.862  1.00  0.00          AL  \nATOM     65   Al MOL     1       5.076   3.092  21.753  1.00  0.00          AL  \nATOM     66   Al MOL     1       7.788   3.272  21.931  1.00  0.00          AL  \nATOM     67   Al MOL     1       0.759   5.630  21.853  1.00  0.00          AL  \nATOM     68   Al MOL     1       3.631   5.777  21.834  1.00  0.00          AL  \nATOM     69   Al MOL     1       6.445   5.728  21.723  1.00  0.00          AL  \nATOM     70   Al MOL     1       1.996   8.267  21.890  1.00  0.00          AL  \nATOM     71   Al MOL     1       5.043   8.117  21.794  1.00  0.00          AL  \nATOM     72   Al MOL     1       7.950   8.255  21.682  1.00  0.00          AL  \nATOM     73    O MOL     1       5.964   3.496  24.952  1.00  0.00           O  \nATOM     74    O MOL     1       7.125   3.495  24.448  1.00  0.00           O  \nATOM     75    O MOL     1       2.185   7.671  27.483  1.00  0.00           O  \nATOM     76    O MOL     1       2.333   6.498  27.131  1.00  0.00           O  \nATOM     77    O MOL     1       4.155   0.013   2.379  1.00  0.00           O  \nATOM     78    O MOL     1       4.190   0.073   1.148  1.00  0.00           O  \nATOM     79    O MOL     1       4.630   6.226   2.426  1.00  0.00           O  \nATOM     80    O MOL     1       5.144   6.852   1.495  1.00  0.00           O  \nATOM     81    O MOL     1       7.612   4.420   2.846  1.00  0.00           O  \nATOM     82    O MOL     1       7.632   5.180   3.817  1.00  0.00           O  \nATOM     83    O MOL     1       7.235  -1.401   3.430  1.00  0.00           O  \nATOM     84    O MOL     1       7.370  -0.496   2.602  1.00  0.00           O  \nATOM     85    O MOL     1       3.412   5.439  30.877  1.00  0.00           O  \nATOM     86    O MOL     1       2.845   6.441  30.431  1.00  0.00           O  \nATOM     87    O MOL     1       2.029   6.567  22.689  1.00  0.00           O  \nATOM     88    O MOL     1       3.659   4.087  22.450  1.00  0.00           O  \nATOM     89    O MOL     1      -0.019   4.482  30.452  1.00  0.00           O  \nATOM     90    O MOL     1       0.823   3.583  30.370  1.00  0.00           O  \nATOM     91    O MOL     1       7.854   8.201   9.398  1.00  0.00           O  \nATOM     92    O MOL     1       6.522   5.653   9.249  1.00  0.00           O  \nATOM     93    O MOL     1       1.780   3.120   9.443  1.00  0.00           O  \nATOM     94    O MOL     1       3.672   5.218   9.247  1.00  0.00           O  \nATOM     95    O MOL     1       7.815   6.564  22.487  1.00  0.00           O  \nATOM     96    O MOL     1       9.459   3.927  22.661  1.00  0.00           O  \nATOM     97    O MOL     1       3.621   1.573   9.038  1.00  0.00           O  \nATOM     98    O MOL     1       5.509   3.237   9.668  1.00  0.00           O  \nATOM     99    O MOL     1       0.659  10.606   9.424  1.00  0.00           O  \nATOM    100    O MOL     1       4.859   8.054   9.235  1.00  0.00           O  \nATOM    101    O MOL     1       4.966   9.214  27.891  1.00  0.00           O  \nATOM    102    O MOL     1       5.297   8.490  26.949  1.00  0.00           O  \nATOM    103    O MOL     1       1.618   7.711   1.804  1.00  0.00           O  \nATOM    104    O MOL     1       1.101   6.589   1.791  1.00  0.00           O  \nATOM    105    O MOL     1       6.963   5.348  27.554  1.00  0.00           O  \nATOM    106    O MOL     1       6.041   5.317  28.375  1.00  0.00           O  \nATOM    107    O MOL     1       6.530   9.049  22.436  1.00  0.00           O  \nATOM    108    O MOL     1       3.716   9.027  22.552  1.00  0.00           O  \nATOM    109    O MOL     1       3.212   1.313  29.794  1.00  0.00           O  \nATOM    110    O MOL     1       2.221   0.586  29.893  1.00  0.00           O  \nATOM    111    O MOL     1      -1.038   2.263  28.018  1.00  0.00           O  \nATOM    112    O MOL     1       0.081   2.217  27.496  1.00  0.00           O  \nENDMDL\n",
           "ext": "pdb"
          }
         ],
         "kwargs": {},
         "methodName": "replaceStructure",
         "reconstruc_color_scheme": false,
         "target": "Widget",
         "type": "call_method"
        },
        {
         "args": [
          "this._Q = [[1.0, 0.0, 0.0], [0.0, 1.0, 0.0], [0.0, 0.0, 1.0]]"
         ],
         "kwargs": {},
         "methodName": "executeCode",
         "reconstruc_color_scheme": false,
         "target": "Widget",
         "type": "call_method"
        },
        {
         "args": [
          {
           "data": "CRYST1    8.591    9.920   31.691  90.00  90.00  90.00 P 1\nMODEL     1\nATOM      1   Al MOL     1       2.036   1.466  10.174  1.00  0.00          AL  \nATOM      2   Al MOL     1       5.023   1.446  10.056  1.00  0.00          AL  \nATOM      3   Al MOL     1       7.835   1.449  10.424  1.00  0.00          AL  \nATOM      4   Al MOL     1       0.831   3.918  10.505  1.00  0.00          AL  \nATOM      5   Al MOL     1       3.650   4.024   9.483  1.00  0.00          AL  \nATOM      6   Al MOL     1       6.602   3.699  10.314  1.00  0.00          AL  \nATOM      7   Al MOL     1       2.165   6.319  10.425  1.00  0.00          AL  \nATOM      8   Al MOL     1       5.129   6.352  10.173  1.00  0.00          AL  \nATOM      9   Al MOL     1       8.137   6.308  10.026  1.00  0.00          AL  \nATOM     10   Al MOL     1       0.860   8.799  10.033  1.00  0.00          AL  \nATOM     11   Al MOL     1       3.603   8.798  10.150  1.00  0.00          AL  \nATOM     12   Al MOL     1       6.570   9.027  10.096  1.00  0.00          AL  \nATOM     13   Al MOL     1       0.711   2.307  12.620  1.00  0.00          AL  \nATOM     14   Al MOL     1       3.582   2.447  12.396  1.00  0.00          AL  \nATOM     15   Al MOL     1       6.434   2.425  12.662  1.00  0.00          AL  \nATOM     16   Al MOL     1       2.189   4.921  12.623  1.00  0.00          AL  \nATOM     17   Al MOL     1       4.898   4.852  12.479  1.00  0.00          AL  \nATOM     18   Al MOL     1       7.870   4.918  12.678  1.00  0.00          AL  \nATOM     19   Al MOL     1       0.677   7.287  12.512  1.00  0.00          AL  \nATOM     20   Al MOL     1       3.608   7.400  12.444  1.00  0.00          AL  \nATOM     21   Al MOL     1       6.432   7.405  12.482  1.00  0.00          AL  \nATOM     22   Al MOL     1       2.082   9.833  12.508  1.00  0.00          AL  \nATOM     23   Al MOL     1       4.950   9.903  12.467  1.00  0.00          AL  \nATOM     24   Al MOL     1       7.835   9.744  12.449  1.00  0.00          AL  \nATOM     25   Al MOL     1       0.737   0.636  14.859  1.00  0.00          AL  \nATOM     26   Al MOL     1       3.555   0.731  14.773  1.00  0.00          AL  \nATOM     27   Al MOL     1       6.409   0.698  14.771  1.00  0.00          AL  \nATOM     28   Al MOL     1       2.132   3.223  14.803  1.00  0.00          AL  \nATOM     29   Al MOL     1       4.861   3.146  14.870  1.00  0.00          AL  \nATOM     30   Al MOL     1       7.857   3.225  14.929  1.00  0.00          AL  \nATOM     31   Al MOL     1       0.793   5.784  14.802  1.00  0.00          AL  \nATOM     32   Al MOL     1       3.588   5.763  14.820  1.00  0.00          AL  \nATOM     33   Al MOL     1       6.388   5.778  14.963  1.00  0.00          AL  \nATOM     34   Al MOL     1       2.132   8.182  14.761  1.00  0.00          AL  \nATOM     35   Al MOL     1       5.038   8.178  14.747  1.00  0.00          AL  \nATOM     36   Al MOL     1       7.903   8.141  14.760  1.00  0.00          AL  \nATOM     37   Al MOL     1       2.084   1.482  17.061  1.00  0.00          AL  \nATOM     38   Al MOL     1       4.956   1.466  17.067  1.00  0.00          AL  \nATOM     39   Al MOL     1       7.880   1.493  17.049  1.00  0.00          AL  \nATOM     40   Al MOL     1       0.674   4.040  17.125  1.00  0.00          AL  \nATOM     41   Al MOL     1       3.511   4.025  17.138  1.00  0.00          AL  \nATOM     42   Al MOL     1       6.483   4.037  17.152  1.00  0.00          AL  \nATOM     43   Al MOL     1       2.098   6.468  17.165  1.00  0.00          AL  \nATOM     44   Al MOL     1       5.006   6.520  17.190  1.00  0.00          AL  \nATOM     45   Al MOL     1       7.949   6.446  17.169  1.00  0.00          AL  \nATOM     46   Al MOL     1       0.686   8.836  17.058  1.00  0.00          AL  \nATOM     47   Al MOL     1       3.550   8.902  17.050  1.00  0.00          AL  \nATOM     48   Al MOL     1       6.424   9.000  17.045  1.00  0.00          AL  \nATOM     49   Al MOL     1       0.710   2.341  19.252  1.00  0.00          AL  \nATOM     50   Al MOL     1       3.509   2.406  19.286  1.00  0.00          AL  \nATOM     51   Al MOL     1       6.347   2.384  19.293  1.00  0.00          AL  \nATOM     52   Al MOL     1       2.067   4.790  19.415  1.00  0.00          AL  \nATOM     53   Al MOL     1       4.926   4.764  19.292  1.00  0.00          AL  \nATOM     54   Al MOL     1       7.827   4.781  19.422  1.00  0.00          AL  \nATOM     55   Al MOL     1       0.750   7.247  19.496  1.00  0.00          AL  \nATOM     56   Al MOL     1       3.583   7.189  19.396  1.00  0.00          AL  \nATOM     57   Al MOL     1       6.513   7.275  19.346  1.00  0.00          AL  \nATOM     58   Al MOL     1       2.108   9.663  19.402  1.00  0.00          AL  \nATOM     59   Al MOL     1       4.954   9.761  19.281  1.00  0.00          AL  \nATOM     60   Al MOL     1       7.825   9.796  19.348  1.00  0.00          AL  \nATOM     61   Al MOL     1       0.725   0.766  21.507  1.00  0.00          AL  \nATOM     62   Al MOL     1       3.579   0.772  21.572  1.00  0.00          AL  \nATOM     63   Al MOL     1       6.393   0.775  21.511  1.00  0.00          AL  \nATOM     64   Al MOL     1       2.065   3.050  21.752  1.00  0.00          AL  \nATOM     65   Al MOL     1       5.057   3.149  21.896  1.00  0.00          AL  \nATOM     66   Al MOL     1       7.800   3.103  22.567  1.00  0.00          AL  \nATOM     67   Al MOL     1       0.688   5.762  21.952  1.00  0.00          AL  \nATOM     68   Al MOL     1       3.756   5.725  21.800  1.00  0.00          AL  \nATOM     69   Al MOL     1       6.422   5.632  21.556  1.00  0.00          AL  \nATOM     70   Al MOL     1       2.083   8.263  21.823  1.00  0.00          AL  \nATOM     71   Al MOL     1       4.993   8.198  21.592  1.00  0.00          AL  \nATOM     72   Al MOL     1       7.959   8.217  21.707  1.00  0.00          AL  \nATOM     73    O MOL     1       5.899   3.047  23.676  1.00  0.00           O  \nATOM     74    O MOL     1       7.349   3.710  23.975  1.00  0.00           O  \nATOM     75    O MOL     1       2.181   7.652  27.295  1.00  0.00           O  \nATOM     76    O MOL     1       2.405   6.459  27.073  1.00  0.00           O  \nATOM     77    O MOL     1       4.196   0.015   2.303  1.00  0.00           O  \nATOM     78    O MOL     1       4.067   0.203   1.090  1.00  0.00           O  \nATOM     79    O MOL     1       4.671   6.214   2.480  1.00  0.00           O  \nATOM     80    O MOL     1       5.164   6.812   1.518  1.00  0.00           O  \nATOM     81    O MOL     1       7.480   4.518   2.693  1.00  0.00           O  \nATOM     82    O MOL     1       7.669   5.046   3.791  1.00  0.00           O  \nATOM     83    O MOL     1       7.219  -1.325   3.329  1.00  0.00           O  \nATOM     84    O MOL     1       7.385  -0.380   2.555  1.00  0.00           O  \nATOM     85    O MOL     1       3.515   5.372  30.774  1.00  0.00           O  \nATOM     86    O MOL     1       3.088   6.489  30.474  1.00  0.00           O  \nATOM     87    O MOL     1       2.318   6.599  22.531  1.00  0.00           O  \nATOM     88    O MOL     1       3.549   4.043  22.427  1.00  0.00           O  \nATOM     89    O MOL     1       0.012   4.665  30.399  1.00  0.00           O  \nATOM     90    O MOL     1       0.739   3.676  30.269  1.00  0.00           O  \nATOM     91    O MOL     1       7.995   7.986   9.346  1.00  0.00           O  \nATOM     92    O MOL     1       6.633   5.452   9.637  1.00  0.00           O  \nATOM     93    O MOL     1       2.199   2.961   9.189  1.00  0.00           O  \nATOM     94    O MOL     1       3.553   5.704   9.277  1.00  0.00           O  \nATOM     95    O MOL     1       7.829   6.548  22.556  1.00  0.00           O  \nATOM     96    O MOL     1       9.383   4.104  22.371  1.00  0.00           O  \nATOM     97    O MOL     1       3.774   0.476   9.199  1.00  0.00           O  \nATOM     98    O MOL     1       5.120   3.065   9.237  1.00  0.00           O  \nATOM     99    O MOL     1       0.577  10.582   9.413  1.00  0.00           O  \nATOM    100    O MOL     1       5.134   7.911   9.306  1.00  0.00           O  \nATOM    101    O MOL     1       4.936   9.189  27.766  1.00  0.00           O  \nATOM    102    O MOL     1       5.302   8.455  26.845  1.00  0.00           O  \nATOM    103    O MOL     1       1.728   7.734   1.726  1.00  0.00           O  \nATOM    104    O MOL     1       1.176   6.640   1.577  1.00  0.00           O  \nATOM    105    O MOL     1       6.986   5.438  27.384  1.00  0.00           O  \nATOM    106    O MOL     1       6.023   5.264  28.133  1.00  0.00           O  \nATOM    107    O MOL     1       6.386   9.056  22.324  1.00  0.00           O  \nATOM    108    O MOL     1       3.527   9.093  22.470  1.00  0.00           O  \nATOM    109    O MOL     1       3.086   1.208  29.744  1.00  0.00           O  \nATOM    110    O MOL     1       2.119   0.445  29.791  1.00  0.00           O  \nATOM    111    O MOL     1      -1.159   2.213  27.912  1.00  0.00           O  \nATOM    112    O MOL     1      -0.081   2.239  27.313  1.00  0.00           O  \nENDMDL\n",
           "ext": "pdb"
          }
         ],
         "kwargs": {},
         "methodName": "replaceStructure",
         "reconstruc_color_scheme": false,
         "target": "Widget",
         "type": "call_method"
        },
        {
         "args": [
          "this._Q = [[1.0, 0.0, 0.0], [0.0, 1.0, 0.0], [0.0, 0.0, 1.0]]"
         ],
         "kwargs": {},
         "methodName": "executeCode",
         "reconstruc_color_scheme": false,
         "target": "Widget",
         "type": "call_method"
        },
        {
         "args": [
          {
           "data": "CRYST1    8.591    9.920   31.691  90.00  90.00  90.00 P 1\nMODEL     1\nATOM      1   Al MOL     1       2.165   1.504  10.003  1.00  0.00          AL  \nATOM      2   Al MOL     1       5.328   1.449  10.138  1.00  0.00          AL  \nATOM      3   Al MOL     1       8.000   1.434  10.212  1.00  0.00          AL  \nATOM      4   Al MOL     1       0.691   3.942  10.213  1.00  0.00          AL  \nATOM      5   Al MOL     1       3.550   3.868  10.402  1.00  0.00          AL  \nATOM      6   Al MOL     1       6.588   4.018   9.998  1.00  0.00          AL  \nATOM      7   Al MOL     1       2.091   6.526  10.312  1.00  0.00          AL  \nATOM      8   Al MOL     1       5.105   6.343  10.143  1.00  0.00          AL  \nATOM      9   Al MOL     1       7.998   6.388  10.241  1.00  0.00          AL  \nATOM     10   Al MOL     1       0.876   8.861  10.301  1.00  0.00          AL  \nATOM     11   Al MOL     1       3.591   9.101  10.190  1.00  0.00          AL  \nATOM     12   Al MOL     1       6.363   8.879  10.452  1.00  0.00          AL  \nATOM     13   Al MOL     1       0.716   2.281  12.414  1.00  0.00          AL  \nATOM     14   Al MOL     1       3.556   2.166  12.537  1.00  0.00          AL  \nATOM     15   Al MOL     1       6.444   2.282  12.411  1.00  0.00          AL  \nATOM     16   Al MOL     1       2.096   4.712  12.560  1.00  0.00          AL  \nATOM     17   Al MOL     1       5.123   4.805  12.509  1.00  0.00          AL  \nATOM     18   Al MOL     1       7.893   4.854  12.473  1.00  0.00          AL  \nATOM     19   Al MOL     1       0.776   7.241  12.638  1.00  0.00          AL  \nATOM     20   Al MOL     1       3.538   7.184  12.595  1.00  0.00          AL  \nATOM     21   Al MOL     1       6.480   7.227  12.580  1.00  0.00          AL  \nATOM     22   Al MOL     1       2.210   9.744  12.531  1.00  0.00          AL  \nATOM     23   Al MOL     1       5.078   9.699  12.647  1.00  0.00          AL  \nATOM     24   Al MOL     1       7.941   9.778  12.606  1.00  0.00          AL  \nATOM     25   Al MOL     1       0.725   0.720  14.825  1.00  0.00          AL  \nATOM     26   Al MOL     1       3.582   0.702  14.765  1.00  0.00          AL  \nATOM     27   Al MOL     1       6.413   0.751  14.825  1.00  0.00          AL  \nATOM     28   Al MOL     1       2.158   3.109  14.811  1.00  0.00          AL  \nATOM     29   Al MOL     1       5.023   3.142  14.652  1.00  0.00          AL  \nATOM     30   Al MOL     1       7.866   3.124  14.769  1.00  0.00          AL  \nATOM     31   Al MOL     1       0.598   5.629  14.825  1.00  0.00          AL  \nATOM     32   Al MOL     1       3.524   5.567  14.785  1.00  0.00          AL  \nATOM     33   Al MOL     1       6.465   5.682  14.837  1.00  0.00          AL  \nATOM     34   Al MOL     1       2.094   8.156  14.805  1.00  0.00          AL  \nATOM     35   Al MOL     1       5.008   8.149  14.831  1.00  0.00          AL  \nATOM     36   Al MOL     1       7.851   8.125  14.899  1.00  0.00          AL  \nATOM     37   Al MOL     1       2.172   1.648  17.061  1.00  0.00          AL  \nATOM     38   Al MOL     1       5.064   1.620  17.046  1.00  0.00          AL  \nATOM     39   Al MOL     1       7.763   1.612  17.118  1.00  0.00          AL  \nATOM     40   Al MOL     1       0.674   4.030  17.105  1.00  0.00          AL  \nATOM     41   Al MOL     1       3.603   4.043  17.024  1.00  0.00          AL  \nATOM     42   Al MOL     1       6.422   4.063  17.131  1.00  0.00          AL  \nATOM     43   Al MOL     1       2.157   6.568  17.059  1.00  0.00          AL  \nATOM     44   Al MOL     1       4.992   6.471  17.066  1.00  0.00          AL  \nATOM     45   Al MOL     1       7.786   6.464  17.089  1.00  0.00          AL  \nATOM     46   Al MOL     1       0.680   9.066  17.069  1.00  0.00          AL  \nATOM     47   Al MOL     1       3.596   9.079  17.079  1.00  0.00          AL  \nATOM     48   Al MOL     1       6.356   9.021  17.113  1.00  0.00          AL  \nATOM     49   Al MOL     1       0.708   2.422  19.313  1.00  0.00          AL  \nATOM     50   Al MOL     1       3.680   2.447  19.220  1.00  0.00          AL  \nATOM     51   Al MOL     1       6.500   2.394  19.579  1.00  0.00          AL  \nATOM     52   Al MOL     1       2.238   4.881  19.379  1.00  0.00          AL  \nATOM     53   Al MOL     1       5.041   4.869  19.391  1.00  0.00          AL  \nATOM     54   Al MOL     1       7.907   4.912  19.410  1.00  0.00          AL  \nATOM     55   Al MOL     1       0.634   7.370  19.240  1.00  0.00          AL  \nATOM     56   Al MOL     1       3.551   7.427  19.311  1.00  0.00          AL  \nATOM     57   Al MOL     1       6.329   7.342  19.370  1.00  0.00          AL  \nATOM     58   Al MOL     1       2.124   9.904  19.350  1.00  0.00          AL  \nATOM     59   Al MOL     1       5.059   9.842  19.396  1.00  0.00          AL  \nATOM     60   Al MOL     1       7.821   9.809  19.381  1.00  0.00          AL  \nATOM     61   Al MOL     1       0.681   0.729  21.559  1.00  0.00          AL  \nATOM     62   Al MOL     1       3.574   0.847  21.514  1.00  0.00          AL  \nATOM     63   Al MOL     1       6.371   0.435  21.532  1.00  0.00          AL  \nATOM     64   Al MOL     1       2.157   3.177  21.672  1.00  0.00          AL  \nATOM     65   Al MOL     1       5.073   3.128  21.952  1.00  0.00          AL  \nATOM     66   Al MOL     1       7.626   3.031  22.809  1.00  0.00          AL  \nATOM     67   Al MOL     1       0.630   5.536  21.736  1.00  0.00          AL  \nATOM     68   Al MOL     1       3.658   5.693  21.707  1.00  0.00          AL  \nATOM     69   Al MOL     1       6.460   5.743  21.938  1.00  0.00          AL  \nATOM     70   Al MOL     1       2.011   8.293  21.665  1.00  0.00          AL  \nATOM     71   Al MOL     1       4.963   8.105  21.774  1.00  0.00          AL  \nATOM     72   Al MOL     1       7.946   8.203  21.843  1.00  0.00          AL  \nATOM     73    O MOL     1       6.942   1.603  23.375  1.00  0.00           O  \nATOM     74    O MOL     1       6.356   4.221  22.804  1.00  0.00           O  \nATOM     75    O MOL     1       2.173   7.639  27.144  1.00  0.00           O  \nATOM     76    O MOL     1       2.479   6.447  27.064  1.00  0.00           O  \nATOM     77    O MOL     1       4.156  -0.057   2.238  1.00  0.00           O  \nATOM     78    O MOL     1       4.034   0.253   1.050  1.00  0.00           O  \nATOM     79    O MOL     1       4.625   6.237   2.456  1.00  0.00           O  \nATOM     80    O MOL     1       5.235   6.830   1.561  1.00  0.00           O  \nATOM     81    O MOL     1       7.456   4.555   2.599  1.00  0.00           O  \nATOM     82    O MOL     1       7.653   5.003   3.730  1.00  0.00           O  \nATOM     83    O MOL     1       7.301  -1.286   3.245  1.00  0.00           O  \nATOM     84    O MOL     1       7.372  -0.323   2.477  1.00  0.00           O  \nATOM     85    O MOL     1       3.554   5.352  30.741  1.00  0.00           O  \nATOM     86    O MOL     1       3.213   6.505  30.469  1.00  0.00           O  \nATOM     87    O MOL     1       2.182   6.512  22.321  1.00  0.00           O  \nATOM     88    O MOL     1       3.564   4.035  22.382  1.00  0.00           O  \nATOM     89    O MOL     1       0.036   4.742  30.311  1.00  0.00           O  \nATOM     90    O MOL     1       0.694   3.711  30.149  1.00  0.00           O  \nATOM     91    O MOL     1       7.769   8.127   9.593  1.00  0.00           O  \nATOM     92    O MOL     1       6.486   5.679   9.254  1.00  0.00           O  \nATOM     93    O MOL     1       2.016   3.169   9.534  1.00  0.00           O  \nATOM     94    O MOL     1       3.499   5.551   9.686  1.00  0.00           O  \nATOM     95    O MOL     1       7.917   6.524  22.397  1.00  0.00           O  \nATOM     96    O MOL     1       9.273   3.939  22.627  1.00  0.00           O  \nATOM     97    O MOL     1       3.735   0.781   9.426  1.00  0.00           O  \nATOM     98    O MOL     1       5.049   3.189   9.527  1.00  0.00           O  \nATOM     99    O MOL     1       0.793  10.416   9.358  1.00  0.00           O  \nATOM    100    O MOL     1       4.995   8.085   9.687  1.00  0.00           O  \nATOM    101    O MOL     1       4.910   9.154  27.719  1.00  0.00           O  \nATOM    102    O MOL     1       5.270   8.446  26.774  1.00  0.00           O  \nATOM    103    O MOL     1       1.749   7.755   1.665  1.00  0.00           O  \nATOM    104    O MOL     1       1.220   6.657   1.473  1.00  0.00           O  \nATOM    105    O MOL     1       6.999   5.492  27.345  1.00  0.00           O  \nATOM    106    O MOL     1       5.983   5.311  28.021  1.00  0.00           O  \nATOM    107    O MOL     1       6.410   8.827  22.552  1.00  0.00           O  \nATOM    108    O MOL     1       3.500   9.023  22.375  1.00  0.00           O  \nATOM    109    O MOL     1       3.019   1.166  29.670  1.00  0.00           O  \nATOM    110    O MOL     1       2.060   0.392  29.683  1.00  0.00           O  \nATOM    111    O MOL     1      -1.195   2.169  27.850  1.00  0.00           O  \nATOM    112    O MOL     1      -0.149   2.230  27.198  1.00  0.00           O  \nENDMDL\n",
           "ext": "pdb"
          }
         ],
         "kwargs": {},
         "methodName": "replaceStructure",
         "reconstruc_color_scheme": false,
         "target": "Widget",
         "type": "call_method"
        },
        {
         "args": [
          "this._Q = [[1.0, 0.0, 0.0], [0.0, 1.0, 0.0], [0.0, 0.0, 1.0]]"
         ],
         "kwargs": {},
         "methodName": "executeCode",
         "reconstruc_color_scheme": false,
         "target": "Widget",
         "type": "call_method"
        },
        {
         "args": [
          {
           "data": "CRYST1    8.591    9.920   31.691  90.00  90.00  90.00 P 1\nMODEL     1\nATOM      1   Al MOL     1       2.128   1.529  10.281  1.00  0.00          AL  \nATOM      2   Al MOL     1       4.997   1.421  10.326  1.00  0.00          AL  \nATOM      3   Al MOL     1       7.856   1.462  10.444  1.00  0.00          AL  \nATOM      4   Al MOL     1       0.787   4.003  10.456  1.00  0.00          AL  \nATOM      5   Al MOL     1       3.688   4.008   9.799  1.00  0.00          AL  \nATOM      6   Al MOL     1       6.604   3.808  10.243  1.00  0.00          AL  \nATOM      7   Al MOL     1       2.221   6.491  10.364  1.00  0.00          AL  \nATOM      8   Al MOL     1       5.001   6.462  10.216  1.00  0.00          AL  \nATOM      9   Al MOL     1       8.157   6.349  10.178  1.00  0.00          AL  \nATOM     10   Al MOL     1       0.804   8.828  10.090  1.00  0.00          AL  \nATOM     11   Al MOL     1       3.410   8.899  10.241  1.00  0.00          AL  \nATOM     12   Al MOL     1       6.601   9.052  10.012  1.00  0.00          AL  \nATOM     13   Al MOL     1       0.783   2.348  12.584  1.00  0.00          AL  \nATOM     14   Al MOL     1       3.650   2.466  12.472  1.00  0.00          AL  \nATOM     15   Al MOL     1       6.401   2.350  12.682  1.00  0.00          AL  \nATOM     16   Al MOL     1       2.188   4.853  12.534  1.00  0.00          AL  \nATOM     17   Al MOL     1       4.863   4.788  12.523  1.00  0.00          AL  \nATOM     18   Al MOL     1       7.819   4.770  12.643  1.00  0.00          AL  \nATOM     19   Al MOL     1       0.611   7.289  12.509  1.00  0.00          AL  \nATOM     20   Al MOL     1       3.643   7.374  12.571  1.00  0.00          AL  \nATOM     21   Al MOL     1       6.407   7.293  12.562  1.00  0.00          AL  \nATOM     22   Al MOL     1       2.089   9.777  12.593  1.00  0.00          AL  \nATOM     23   Al MOL     1       5.009   9.899  12.567  1.00  0.00          AL  \nATOM     24   Al MOL     1       7.802   9.783  12.482  1.00  0.00          AL  \nATOM     25   Al MOL     1       0.738   0.681  14.805  1.00  0.00          AL  \nATOM     26   Al MOL     1       3.607   0.759  14.780  1.00  0.00          AL  \nATOM     27   Al MOL     1       6.461   0.640  14.846  1.00  0.00          AL  \nATOM     28   Al MOL     1       2.198   3.181  14.852  1.00  0.00          AL  \nATOM     29   Al MOL     1       4.956   3.154  14.987  1.00  0.00          AL  \nATOM     30   Al MOL     1       7.888   3.174  14.955  1.00  0.00          AL  \nATOM     31   Al MOL     1       0.745   5.688  14.800  1.00  0.00          AL  \nATOM     32   Al MOL     1       3.621   5.697  14.864  1.00  0.00          AL  \nATOM     33   Al MOL     1       6.438   5.596  14.840  1.00  0.00          AL  \nATOM     34   Al MOL     1       2.146   8.116  14.810  1.00  0.00          AL  \nATOM     35   Al MOL     1       5.048   8.137  14.841  1.00  0.00          AL  \nATOM     36   Al MOL     1       7.885   8.036  14.811  1.00  0.00          AL  \nATOM     37   Al MOL     1       2.147   1.599  17.138  1.00  0.00          AL  \nATOM     38   Al MOL     1       5.009   1.505  17.234  1.00  0.00          AL  \nATOM     39   Al MOL     1       7.943   1.545  17.119  1.00  0.00          AL  \nATOM     40   Al MOL     1       0.736   3.997  17.088  1.00  0.00          AL  \nATOM     41   Al MOL     1       3.535   3.998  17.174  1.00  0.00          AL  \nATOM     42   Al MOL     1       6.483   3.994  17.153  1.00  0.00          AL  \nATOM     43   Al MOL     1       2.107   6.471  17.188  1.00  0.00          AL  \nATOM     44   Al MOL     1       5.030   6.522  17.192  1.00  0.00          AL  \nATOM     45   Al MOL     1       7.869   6.538  17.100  1.00  0.00          AL  \nATOM     46   Al MOL     1       0.718   8.922  17.133  1.00  0.00          AL  \nATOM     47   Al MOL     1       3.565   8.856  17.103  1.00  0.00          AL  \nATOM     48   Al MOL     1       6.479   9.023  17.043  1.00  0.00          AL  \nATOM     49   Al MOL     1       0.668   2.442  19.554  1.00  0.00          AL  \nATOM     50   Al MOL     1       3.467   2.385  19.502  1.00  0.00          AL  \nATOM     51   Al MOL     1       6.448   2.368  19.443  1.00  0.00          AL  \nATOM     52   Al MOL     1       1.993   4.894  19.427  1.00  0.00          AL  \nATOM     53   Al MOL     1       4.873   4.838  19.223  1.00  0.00          AL  \nATOM     54   Al MOL     1       7.892   4.811  19.314  1.00  0.00          AL  \nATOM     55   Al MOL     1       0.738   7.340  19.465  1.00  0.00          AL  \nATOM     56   Al MOL     1       3.552   7.283  19.407  1.00  0.00          AL  \nATOM     57   Al MOL     1       6.505   7.484  19.288  1.00  0.00          AL  \nATOM     58   Al MOL     1       2.149   9.825  19.320  1.00  0.00          AL  \nATOM     59   Al MOL     1       4.998   9.889  19.426  1.00  0.00          AL  \nATOM     60   Al MOL     1       7.797  10.001  19.396  1.00  0.00          AL  \nATOM     61   Al MOL     1       0.591   0.629  21.739  1.00  0.00          AL  \nATOM     62   Al MOL     1       3.453   0.540  21.760  1.00  0.00          AL  \nATOM     63   Al MOL     1       6.294   0.980  21.795  1.00  0.00          AL  \nATOM     64   Al MOL     1       2.040   3.007  21.964  1.00  0.00          AL  \nATOM     65   Al MOL     1       4.830   3.073  21.569  1.00  0.00          AL  \nATOM     66   Al MOL     1       7.912   3.065  22.480  1.00  0.00          AL  \nATOM     67   Al MOL     1       0.628   5.815  21.815  1.00  0.00          AL  \nATOM     68   Al MOL     1       3.481   5.677  21.650  1.00  0.00          AL  \nATOM     69   Al MOL     1       6.265   5.474  21.408  1.00  0.00          AL  \nATOM     70   Al MOL     1       2.037   8.155  21.806  1.00  0.00          AL  \nATOM     71   Al MOL     1       5.081   8.060  21.512  1.00  0.00          AL  \nATOM     72   Al MOL     1       7.817   8.301  21.542  1.00  0.00          AL  \nATOM     73    O MOL     1       8.804   1.512  22.951  1.00  0.00           O  \nATOM     74    O MOL     1       6.289   3.904  22.838  1.00  0.00           O  \nATOM     75    O MOL     1       2.168   7.601  27.049  1.00  0.00           O  \nATOM     76    O MOL     1       2.540   6.425  27.069  1.00  0.00           O  \nATOM     77    O MOL     1       4.072  -0.087   2.198  1.00  0.00           O  \nATOM     78    O MOL     1       4.048   0.202   1.000  1.00  0.00           O  \nATOM     79    O MOL     1       4.620   6.264   2.417  1.00  0.00           O  \nATOM     80    O MOL     1       5.242   6.857   1.531  1.00  0.00           O  \nATOM     81    O MOL     1       7.501   4.516   2.539  1.00  0.00           O  \nATOM     82    O MOL     1       7.609   5.071   3.635  1.00  0.00           O  \nATOM     83    O MOL     1       7.390  -1.268   3.187  1.00  0.00           O  \nATOM     84    O MOL     1       7.378  -0.320   2.399  1.00  0.00           O  \nATOM     85    O MOL     1       3.565   5.363  30.744  1.00  0.00           O  \nATOM     86    O MOL     1       3.236   6.507  30.422  1.00  0.00           O  \nATOM     87    O MOL     1       2.226   6.602  22.505  1.00  0.00           O  \nATOM     88    O MOL     1       3.445   3.906  22.412  1.00  0.00           O  \nATOM     89    O MOL     1       0.053   4.739  30.201  1.00  0.00           O  \nATOM     90    O MOL     1       0.702   3.708  30.003  1.00  0.00           O  \nATOM     91    O MOL     1       7.910   7.984   9.341  1.00  0.00           O  \nATOM     92    O MOL     1       6.532   5.662   9.662  1.00  0.00           O  \nATOM     93    O MOL     1       2.233   3.164   9.364  1.00  0.00           O  \nATOM     94    O MOL     1       3.602   5.734   9.295  1.00  0.00           O  \nATOM     95    O MOL     1       7.677   6.422  22.306  1.00  0.00           O  \nATOM     96    O MOL     1       9.367   4.077  22.715  1.00  0.00           O  \nATOM     97    O MOL     1       3.519   0.661   9.518  1.00  0.00           O  \nATOM     98    O MOL     1       5.176   3.043   9.385  1.00  0.00           O  \nATOM     99    O MOL     1       0.573  10.521   9.501  1.00  0.00           O  \nATOM    100    O MOL     1       5.004   8.259   9.501  1.00  0.00           O  \nATOM    101    O MOL     1       4.879   9.124  27.699  1.00  0.00           O  \nATOM    102    O MOL     1       5.247   8.465  26.723  1.00  0.00           O  \nATOM    103    O MOL     1       1.711   7.779   1.598  1.00  0.00           O  \nATOM    104    O MOL     1       1.222   6.652   1.476  1.00  0.00           O  \nATOM    105    O MOL     1       6.972   5.425  27.284  1.00  0.00           O  \nATOM    106    O MOL     1       5.964   5.425  27.996  1.00  0.00           O  \nATOM    107    O MOL     1       6.395   9.203  22.364  1.00  0.00           O  \nATOM    108    O MOL     1       3.683   8.803  22.402  1.00  0.00           O  \nATOM    109    O MOL     1       3.011   1.161  29.588  1.00  0.00           O  \nATOM    110    O MOL     1       2.030   0.415  29.614  1.00  0.00           O  \nATOM    111    O MOL     1      -1.171   2.166  27.820  1.00  0.00           O  \nATOM    112    O MOL     1      -0.175   2.246  27.094  1.00  0.00           O  \nENDMDL\n",
           "ext": "pdb"
          }
         ],
         "kwargs": {},
         "methodName": "replaceStructure",
         "reconstruc_color_scheme": false,
         "target": "Widget",
         "type": "call_method"
        },
        {
         "args": [
          "this._Q = [[1.0, 0.0, 0.0], [0.0, 1.0, 0.0], [0.0, 0.0, 1.0]]"
         ],
         "kwargs": {},
         "methodName": "executeCode",
         "reconstruc_color_scheme": false,
         "target": "Widget",
         "type": "call_method"
        },
        {
         "args": [
          {
           "data": "CRYST1    8.591    9.920   31.691  90.00  90.00  90.00 P 1\nMODEL     1\nATOM      1   Al MOL     1       2.205   1.430  10.171  1.00  0.00          AL  \nATOM      2   Al MOL     1       5.246   1.483  10.196  1.00  0.00          AL  \nATOM      3   Al MOL     1       7.838   1.551  10.551  1.00  0.00          AL  \nATOM      4   Al MOL     1       0.760   4.015  10.517  1.00  0.00          AL  \nATOM      5   Al MOL     1       3.538   3.994  10.171  1.00  0.00          AL  \nATOM      6   Al MOL     1       6.654   3.992  10.162  1.00  0.00          AL  \nATOM      7   Al MOL     1       2.064   6.446  10.296  1.00  0.00          AL  \nATOM      8   Al MOL     1       4.970   6.484   9.992  1.00  0.00          AL  \nATOM      9   Al MOL     1       8.023   6.447  10.043  1.00  0.00          AL  \nATOM     10   Al MOL     1       0.884   8.900  10.152  1.00  0.00          AL  \nATOM     11   Al MOL     1       3.543   8.898  10.172  1.00  0.00          AL  \nATOM     12   Al MOL     1       6.454   9.035  10.411  1.00  0.00          AL  \nATOM     13   Al MOL     1       0.635   2.351  12.647  1.00  0.00          AL  \nATOM     14   Al MOL     1       3.565   2.442  12.502  1.00  0.00          AL  \nATOM     15   Al MOL     1       6.355   2.376  12.611  1.00  0.00          AL  \nATOM     16   Al MOL     1       2.197   4.873  12.525  1.00  0.00          AL  \nATOM     17   Al MOL     1       5.018   4.887  12.576  1.00  0.00          AL  \nATOM     18   Al MOL     1       7.952   5.034  12.629  1.00  0.00          AL  \nATOM     19   Al MOL     1       0.687   7.415  12.582  1.00  0.00          AL  \nATOM     20   Al MOL     1       3.550   7.325  12.469  1.00  0.00          AL  \nATOM     21   Al MOL     1       6.444   7.356  12.476  1.00  0.00          AL  \nATOM     22   Al MOL     1       2.108   9.862  12.491  1.00  0.00          AL  \nATOM     23   Al MOL     1       4.912   9.829  12.491  1.00  0.00          AL  \nATOM     24   Al MOL     1       7.887   9.863  12.642  1.00  0.00          AL  \nATOM     25   Al MOL     1       0.683   0.700  14.840  1.00  0.00          AL  \nATOM     26   Al MOL     1       3.509   0.693  14.819  1.00  0.00          AL  \nATOM     27   Al MOL     1       6.395   0.735  14.832  1.00  0.00          AL  \nATOM     28   Al MOL     1       2.101   3.153  14.925  1.00  0.00          AL  \nATOM     29   Al MOL     1       4.959   3.259  14.760  1.00  0.00          AL  \nATOM     30   Al MOL     1       7.903   3.296  14.912  1.00  0.00          AL  \nATOM     31   Al MOL     1       0.739   5.642  14.943  1.00  0.00          AL  \nATOM     32   Al MOL     1       3.592   5.704  14.767  1.00  0.00          AL  \nATOM     33   Al MOL     1       6.445   5.759  14.805  1.00  0.00          AL  \nATOM     34   Al MOL     1       2.196   8.127  14.832  1.00  0.00          AL  \nATOM     35   Al MOL     1       5.005   8.154  14.806  1.00  0.00          AL  \nATOM     36   Al MOL     1       7.871   8.181  14.914  1.00  0.00          AL  \nATOM     37   Al MOL     1       2.021   1.420  17.156  1.00  0.00          AL  \nATOM     38   Al MOL     1       4.943   1.583  17.065  1.00  0.00          AL  \nATOM     39   Al MOL     1       7.819   1.540  17.198  1.00  0.00          AL  \nATOM     40   Al MOL     1       0.648   3.966  17.265  1.00  0.00          AL  \nATOM     41   Al MOL     1       3.577   3.991  17.151  1.00  0.00          AL  \nATOM     42   Al MOL     1       6.337   3.985  17.059  1.00  0.00          AL  \nATOM     43   Al MOL     1       2.201   6.474  17.126  1.00  0.00          AL  \nATOM     44   Al MOL     1       4.961   6.478  17.173  1.00  0.00          AL  \nATOM     45   Al MOL     1       7.929   6.459  17.165  1.00  0.00          AL  \nATOM     46   Al MOL     1       0.725   8.841  17.107  1.00  0.00          AL  \nATOM     47   Al MOL     1       3.524   8.924  17.103  1.00  0.00          AL  \nATOM     48   Al MOL     1       6.478   8.878  17.121  1.00  0.00          AL  \nATOM     49   Al MOL     1       0.567   2.305  19.370  1.00  0.00          AL  \nATOM     50   Al MOL     1       3.474   2.366  19.413  1.00  0.00          AL  \nATOM     51   Al MOL     1       6.320   2.335  19.400  1.00  0.00          AL  \nATOM     52   Al MOL     1       2.188   4.770  19.348  1.00  0.00          AL  \nATOM     53   Al MOL     1       4.962   4.801  19.606  1.00  0.00          AL  \nATOM     54   Al MOL     1       7.776   4.847  19.429  1.00  0.00          AL  \nATOM     55   Al MOL     1       0.715   7.235  19.456  1.00  0.00          AL  \nATOM     56   Al MOL     1       3.564   7.274  19.433  1.00  0.00          AL  \nATOM     57   Al MOL     1       6.330   7.213  19.430  1.00  0.00          AL  \nATOM     58   Al MOL     1       2.087   9.690  19.410  1.00  0.00          AL  \nATOM     59   Al MOL     1       4.900   9.744  19.245  1.00  0.00          AL  \nATOM     60   Al MOL     1       7.838   9.560  19.337  1.00  0.00          AL  \nATOM     61   Al MOL     1       0.626   0.632  21.675  1.00  0.00          AL  \nATOM     62   Al MOL     1       3.740   0.703  21.482  1.00  0.00          AL  \nATOM     63   Al MOL     1       6.472   0.661  21.462  1.00  0.00          AL  \nATOM     64   Al MOL     1       2.098   2.878  22.343  1.00  0.00          AL  \nATOM     65   Al MOL     1       4.916   3.004  21.997  1.00  0.00          AL  \nATOM     66   Al MOL     1       8.002   2.911  22.070  1.00  0.00          AL  \nATOM     67   Al MOL     1       0.712   5.787  21.763  1.00  0.00          AL  \nATOM     68   Al MOL     1       3.658   5.663  21.820  1.00  0.00          AL  \nATOM     69   Al MOL     1       6.414   5.622  21.856  1.00  0.00          AL  \nATOM     70   Al MOL     1       2.078   8.271  21.850  1.00  0.00          AL  \nATOM     71   Al MOL     1       4.697   8.164  21.818  1.00  0.00          AL  \nATOM     72   Al MOL     1       7.984   8.219  21.917  1.00  0.00          AL  \nATOM     73    O MOL     1       9.270   1.977  23.038  1.00  0.00           O  \nATOM     74    O MOL     1       6.401   3.855  22.496  1.00  0.00           O  \nATOM     75    O MOL     1       2.167   7.527  26.922  1.00  0.00           O  \nATOM     76    O MOL     1       2.611   6.381  27.040  1.00  0.00           O  \nATOM     77    O MOL     1       3.987  -0.100   2.137  1.00  0.00           O  \nATOM     78    O MOL     1       4.045   0.054   0.915  1.00  0.00           O  \nATOM     79    O MOL     1       4.653   6.307   2.344  1.00  0.00           O  \nATOM     80    O MOL     1       5.228   6.902   1.426  1.00  0.00           O  \nATOM     81    O MOL     1       7.563   4.464   2.462  1.00  0.00           O  \nATOM     82    O MOL     1       7.558   5.185   3.462  1.00  0.00           O  \nATOM     83    O MOL     1       7.453  -1.237   3.099  1.00  0.00           O  \nATOM     84    O MOL     1       7.408  -0.329   2.265  1.00  0.00           O  \nATOM     85    O MOL     1       3.567   5.384  30.723  1.00  0.00           O  \nATOM     86    O MOL     1       3.212   6.497  30.329  1.00  0.00           O  \nATOM     87    O MOL     1       2.062   6.582  22.466  1.00  0.00           O  \nATOM     88    O MOL     1       3.578   3.996  22.835  1.00  0.00           O  \nATOM     89    O MOL     1       0.086   4.721  30.034  1.00  0.00           O  \nATOM     90    O MOL     1       0.759   3.730  29.735  1.00  0.00           O  \nATOM     91    O MOL     1       7.918   8.260   9.518  1.00  0.00           O  \nATOM     92    O MOL     1       6.465   5.711   9.508  1.00  0.00           O  \nATOM     93    O MOL     1       2.069   3.135   9.429  1.00  0.00           O  \nATOM     94    O MOL     1       3.552   5.673   9.408  1.00  0.00           O  \nATOM     95    O MOL     1       7.897   6.491  22.516  1.00  0.00           O  \nATOM     96    O MOL     1       9.408   4.091  22.092  1.00  0.00           O  \nATOM     97    O MOL     1       3.689   0.641   9.458  1.00  0.00           O  \nATOM     98    O MOL     1       5.023   3.180   9.521  1.00  0.00           O  \nATOM     99    O MOL     1       0.648  10.600   9.508  1.00  0.00           O  \nATOM    100    O MOL     1       5.051   8.195   9.365  1.00  0.00           O  \nATOM    101    O MOL     1       4.815   9.047  27.654  1.00  0.00           O  \nATOM    102    O MOL     1       5.234   8.520  26.620  1.00  0.00           O  \nATOM    103    O MOL     1       1.652   7.785   1.476  1.00  0.00           O  \nATOM    104    O MOL     1       1.196   6.638   1.490  1.00  0.00           O  \nATOM    105    O MOL     1       6.858   5.323  27.209  1.00  0.00           O  \nATOM    106    O MOL     1       5.990   5.623  28.033  1.00  0.00           O  \nATOM    107    O MOL     1       6.327   8.823  22.313  1.00  0.00           O  \nATOM    108    O MOL     1       3.482   9.148  22.719  1.00  0.00           O  \nATOM    109    O MOL     1       3.020   1.180  29.467  1.00  0.00           O  \nATOM    110    O MOL     1       2.020   0.460  29.512  1.00  0.00           O  \nATOM    111    O MOL     1      -1.153   2.175  27.752  1.00  0.00           O  \nATOM    112    O MOL     1      -0.177   2.274  27.002  1.00  0.00           O  \nENDMDL\n",
           "ext": "pdb"
          }
         ],
         "kwargs": {},
         "methodName": "replaceStructure",
         "reconstruc_color_scheme": false,
         "target": "Widget",
         "type": "call_method"
        },
        {
         "args": [
          "this._Q = [[1.0, 0.0, 0.0], [0.0, 1.0, 0.0], [0.0, 0.0, 1.0]]"
         ],
         "kwargs": {},
         "methodName": "executeCode",
         "reconstruc_color_scheme": false,
         "target": "Widget",
         "type": "call_method"
        },
        {
         "args": [
          {
           "data": "CRYST1    8.591    9.920   31.691  90.00  90.00  90.00 P 1\nMODEL     1\nATOM      1   Al MOL     1       2.031   1.630  10.093  1.00  0.00          AL  \nATOM      2   Al MOL     1       5.178   1.602  10.248  1.00  0.00          AL  \nATOM      3   Al MOL     1       7.850   1.487  10.095  1.00  0.00          AL  \nATOM      4   Al MOL     1       0.654   4.166  10.160  1.00  0.00          AL  \nATOM      5   Al MOL     1       3.527   3.957  10.104  1.00  0.00          AL  \nATOM      6   Al MOL     1       6.537   3.939  10.036  1.00  0.00          AL  \nATOM      7   Al MOL     1       2.230   6.650  10.431  1.00  0.00          AL  \nATOM      8   Al MOL     1       5.139   6.484  10.263  1.00  0.00          AL  \nATOM      9   Al MOL     1       7.924   6.421  10.350  1.00  0.00          AL  \nATOM     10   Al MOL     1       0.757   8.944  10.276  1.00  0.00          AL  \nATOM     11   Al MOL     1       3.573   9.116  10.346  1.00  0.00          AL  \nATOM     12   Al MOL     1       6.395   9.088  10.209  1.00  0.00          AL  \nATOM     13   Al MOL     1       0.688   2.334  12.459  1.00  0.00          AL  \nATOM     14   Al MOL     1       3.599   2.275  12.586  1.00  0.00          AL  \nATOM     15   Al MOL     1       6.462   2.324  12.440  1.00  0.00          AL  \nATOM     16   Al MOL     1       2.021   4.927  12.557  1.00  0.00          AL  \nATOM     17   Al MOL     1       4.981   4.909  12.607  1.00  0.00          AL  \nATOM     18   Al MOL     1       7.810   4.726  12.544  1.00  0.00          AL  \nATOM     19   Al MOL     1       0.694   7.294  12.568  1.00  0.00          AL  \nATOM     20   Al MOL     1       3.606   7.362  12.657  1.00  0.00          AL  \nATOM     21   Al MOL     1       6.524   7.315  12.609  1.00  0.00          AL  \nATOM     22   Al MOL     1       2.106   9.771  12.558  1.00  0.00          AL  \nATOM     23   Al MOL     1       5.106   9.776  12.564  1.00  0.00          AL  \nATOM     24   Al MOL     1       7.910   9.883  12.531  1.00  0.00          AL  \nATOM     25   Al MOL     1       0.677   0.778  14.898  1.00  0.00          AL  \nATOM     26   Al MOL     1       3.502   0.710  14.959  1.00  0.00          AL  \nATOM     27   Al MOL     1       6.370   0.688  14.818  1.00  0.00          AL  \nATOM     28   Al MOL     1       2.102   3.242  14.730  1.00  0.00          AL  \nATOM     29   Al MOL     1       5.031   3.145  14.876  1.00  0.00          AL  \nATOM     30   Al MOL     1       7.743   3.089  14.798  1.00  0.00          AL  \nATOM     31   Al MOL     1       0.515   5.703  14.803  1.00  0.00          AL  \nATOM     32   Al MOL     1       3.588   5.689  14.888  1.00  0.00          AL  \nATOM     33   Al MOL     1       6.356   5.564  14.911  1.00  0.00          AL  \nATOM     34   Al MOL     1       2.067   8.238  14.894  1.00  0.00          AL  \nATOM     35   Al MOL     1       4.855   8.115  14.890  1.00  0.00          AL  \nATOM     36   Al MOL     1       7.811   8.148  14.900  1.00  0.00          AL  \nATOM     37   Al MOL     1       2.163   1.725  17.083  1.00  0.00          AL  \nATOM     38   Al MOL     1       4.900   1.487  17.234  1.00  0.00          AL  \nATOM     39   Al MOL     1       7.766   1.508  17.151  1.00  0.00          AL  \nATOM     40   Al MOL     1       0.624   4.023  16.930  1.00  0.00          AL  \nATOM     41   Al MOL     1       3.532   4.074  17.106  1.00  0.00          AL  \nATOM     42   Al MOL     1       6.428   3.940  17.148  1.00  0.00          AL  \nATOM     43   Al MOL     1       1.955   6.487  17.124  1.00  0.00          AL  \nATOM     44   Al MOL     1       4.882   6.512  17.189  1.00  0.00          AL  \nATOM     45   Al MOL     1       7.739   6.539  17.198  1.00  0.00          AL  \nATOM     46   Al MOL     1       0.607   9.038  17.094  1.00  0.00          AL  \nATOM     47   Al MOL     1       3.474   8.955  17.118  1.00  0.00          AL  \nATOM     48   Al MOL     1       6.260   8.946  17.149  1.00  0.00          AL  \nATOM     49   Al MOL     1       0.729   2.443  19.260  1.00  0.00          AL  \nATOM     50   Al MOL     1       3.549   2.422  19.540  1.00  0.00          AL  \nATOM     51   Al MOL     1       6.442   2.388  19.399  1.00  0.00          AL  \nATOM     52   Al MOL     1       2.079   4.846  19.501  1.00  0.00          AL  \nATOM     53   Al MOL     1       4.943   4.862  19.523  1.00  0.00          AL  \nATOM     54   Al MOL     1       7.897   4.791  19.638  1.00  0.00          AL  \nATOM     55   Al MOL     1       0.586   7.319  19.421  1.00  0.00          AL  \nATOM     56   Al MOL     1       3.550   7.329  19.274  1.00  0.00          AL  \nATOM     57   Al MOL     1       6.401   7.307  19.539  1.00  0.00          AL  \nATOM     58   Al MOL     1       2.230   9.862  19.232  1.00  0.00          AL  \nATOM     59   Al MOL     1       4.968   9.833  19.466  1.00  0.00          AL  \nATOM     60   Al MOL     1       7.805   9.838  19.299  1.00  0.00          AL  \nATOM     61   Al MOL     1       0.722   0.443  21.478  1.00  0.00          AL  \nATOM     62   Al MOL     1       3.602   0.698  21.598  1.00  0.00          AL  \nATOM     63   Al MOL     1       6.349   0.565  21.732  1.00  0.00          AL  \nATOM     64   Al MOL     1       2.093   2.725  22.521  1.00  0.00          AL  \nATOM     65   Al MOL     1       5.243   2.883  22.173  1.00  0.00          AL  \nATOM     66   Al MOL     1       7.948   2.751  22.271  1.00  0.00          AL  \nATOM     67   Al MOL     1       0.789   5.646  21.984  1.00  0.00          AL  \nATOM     68   Al MOL     1       3.727   5.634  21.901  1.00  0.00          AL  \nATOM     69   Al MOL     1       6.528   5.552  21.927  1.00  0.00          AL  \nATOM     70   Al MOL     1       2.179   8.069  21.625  1.00  0.00          AL  \nATOM     71   Al MOL     1       5.173   7.968  21.951  1.00  0.00          AL  \nATOM     72   Al MOL     1       7.974   8.275  21.659  1.00  0.00          AL  \nATOM     73    O MOL     1       9.234   1.669  22.828  1.00  0.00           O  \nATOM     74    O MOL     1       6.447   3.950  22.698  1.00  0.00           O  \nATOM     75    O MOL     1       2.168   7.422  26.748  1.00  0.00           O  \nATOM     76    O MOL     1       2.680   6.309  26.892  1.00  0.00           O  \nATOM     77    O MOL     1       4.034  -0.125   2.049  1.00  0.00           O  \nATOM     78    O MOL     1       3.973  -0.090   0.817  1.00  0.00           O  \nATOM     79    O MOL     1       4.664   6.355   2.206  1.00  0.00           O  \nATOM     80    O MOL     1       5.257   6.937   1.291  1.00  0.00           O  \nATOM     81    O MOL     1       7.556   4.469   2.338  1.00  0.00           O  \nATOM     82    O MOL     1       7.579   5.218   3.316  1.00  0.00           O  \nATOM     83    O MOL     1       7.388  -1.168   2.980  1.00  0.00           O  \nATOM     84    O MOL     1       7.440  -0.318   2.088  1.00  0.00           O  \nATOM     85    O MOL     1       3.537   5.378  30.634  1.00  0.00           O  \nATOM     86    O MOL     1       3.141   6.472  30.226  1.00  0.00           O  \nATOM     87    O MOL     1       2.260   6.265  22.793  1.00  0.00           O  \nATOM     88    O MOL     1       3.834   3.712  22.848  1.00  0.00           O  \nATOM     89    O MOL     1       0.122   4.743  29.852  1.00  0.00           O  \nATOM     90    O MOL     1       0.865   3.857  29.420  1.00  0.00           O  \nATOM     91    O MOL     1       7.767   8.144   9.709  1.00  0.00           O  \nATOM     92    O MOL     1       6.506   5.647   9.332  1.00  0.00           O  \nATOM     93    O MOL     1       2.163   3.241   9.377  1.00  0.00           O  \nATOM     94    O MOL     1       3.574   5.750   9.605  1.00  0.00           O  \nATOM     95    O MOL     1       7.872   6.440  22.787  1.00  0.00           O  \nATOM     96    O MOL     1       9.385   4.063  22.640  1.00  0.00           O  \nATOM     97    O MOL     1       3.657   0.897   9.605  1.00  0.00           O  \nATOM     98    O MOL     1       5.071   3.287   9.400  1.00  0.00           O  \nATOM     99    O MOL     1       0.693  10.581   9.398  1.00  0.00           O  \nATOM    100    O MOL     1       4.984   8.267   9.560  1.00  0.00           O  \nATOM    101    O MOL     1       4.765   9.007  27.531  1.00  0.00           O  \nATOM    102    O MOL     1       5.225   8.539  26.485  1.00  0.00           O  \nATOM    103    O MOL     1       1.642   7.737   1.325  1.00  0.00           O  \nATOM    104    O MOL     1       1.145   6.613   1.441  1.00  0.00           O  \nATOM    105    O MOL     1       6.733   5.369  27.204  1.00  0.00           O  \nATOM    106    O MOL     1       6.053   5.745  28.163  1.00  0.00           O  \nATOM    107    O MOL     1       6.451   8.938  22.727  1.00  0.00           O  \nATOM    108    O MOL     1       3.692   8.914  22.306  1.00  0.00           O  \nATOM    109    O MOL     1       3.030   1.210  29.367  1.00  0.00           O  \nATOM    110    O MOL     1       2.033   0.485  29.389  1.00  0.00           O  \nATOM    111    O MOL     1      -1.175   2.178  27.594  1.00  0.00           O  \nATOM    112    O MOL     1      -0.156   2.281  26.904  1.00  0.00           O  \nENDMDL\n",
           "ext": "pdb"
          }
         ],
         "kwargs": {},
         "methodName": "replaceStructure",
         "reconstruc_color_scheme": false,
         "target": "Widget",
         "type": "call_method"
        },
        {
         "args": [
          "this._Q = [[1.0, 0.0, 0.0], [0.0, 1.0, 0.0], [0.0, 0.0, 1.0]]"
         ],
         "kwargs": {},
         "methodName": "executeCode",
         "reconstruc_color_scheme": false,
         "target": "Widget",
         "type": "call_method"
        },
        {
         "args": [
          {
           "data": "CRYST1    8.591    9.920   31.691  90.00  90.00  90.00 P 1\nMODEL     1\nATOM      1   Al MOL     1       2.129   1.560   9.990  1.00  0.00          AL  \nATOM      2   Al MOL     1       5.007   1.466  10.205  1.00  0.00          AL  \nATOM      3   Al MOL     1       7.775   1.498  10.515  1.00  0.00          AL  \nATOM      4   Al MOL     1       0.661   3.982  10.412  1.00  0.00          AL  \nATOM      5   Al MOL     1       3.613   4.147  10.025  1.00  0.00          AL  \nATOM      6   Al MOL     1       6.585   3.955  10.283  1.00  0.00          AL  \nATOM      7   Al MOL     1       2.061   6.436  10.449  1.00  0.00          AL  \nATOM      8   Al MOL     1       4.927   6.483  10.153  1.00  0.00          AL  \nATOM      9   Al MOL     1       7.986   6.473  10.081  1.00  0.00          AL  \nATOM     10   Al MOL     1       0.737   8.994  10.105  1.00  0.00          AL  \nATOM     11   Al MOL     1       3.436   9.070  10.239  1.00  0.00          AL  \nATOM     12   Al MOL     1       6.510   9.055  10.311  1.00  0.00          AL  \nATOM     13   Al MOL     1       0.678   2.437  12.681  1.00  0.00          AL  \nATOM     14   Al MOL     1       3.440   2.341  12.352  1.00  0.00          AL  \nATOM     15   Al MOL     1       6.369   2.480  12.747  1.00  0.00          AL  \nATOM     16   Al MOL     1       2.124   4.848  12.675  1.00  0.00          AL  \nATOM     17   Al MOL     1       5.059   4.911  12.560  1.00  0.00          AL  \nATOM     18   Al MOL     1       7.792   4.946  12.608  1.00  0.00          AL  \nATOM     19   Al MOL     1       0.555   7.295  12.502  1.00  0.00          AL  \nATOM     20   Al MOL     1       3.460   7.254  12.580  1.00  0.00          AL  \nATOM     21   Al MOL     1       6.222   7.358  12.681  1.00  0.00          AL  \nATOM     22   Al MOL     1       2.090   9.878  12.479  1.00  0.00          AL  \nATOM     23   Al MOL     1       4.891   9.910  12.598  1.00  0.00          AL  \nATOM     24   Al MOL     1       7.696   9.740  12.571  1.00  0.00          AL  \nATOM     25   Al MOL     1       0.673   0.677  14.861  1.00  0.00          AL  \nATOM     26   Al MOL     1       3.541   0.765  14.802  1.00  0.00          AL  \nATOM     27   Al MOL     1       6.460   0.843  14.896  1.00  0.00          AL  \nATOM     28   Al MOL     1       2.131   3.107  14.984  1.00  0.00          AL  \nATOM     29   Al MOL     1       4.906   3.314  14.968  1.00  0.00          AL  \nATOM     30   Al MOL     1       7.838   3.334  14.901  1.00  0.00          AL  \nATOM     31   Al MOL     1       0.709   5.595  14.944  1.00  0.00          AL  \nATOM     32   Al MOL     1       3.488   5.615  14.910  1.00  0.00          AL  \nATOM     33   Al MOL     1       6.327   5.673  14.933  1.00  0.00          AL  \nATOM     34   Al MOL     1       2.096   8.136  14.896  1.00  0.00          AL  \nATOM     35   Al MOL     1       4.931   8.168  14.922  1.00  0.00          AL  \nATOM     36   Al MOL     1       7.876   8.127  14.871  1.00  0.00          AL  \nATOM     37   Al MOL     1       2.131   1.510  17.107  1.00  0.00          AL  \nATOM     38   Al MOL     1       5.025   1.623  17.190  1.00  0.00          AL  \nATOM     39   Al MOL     1       7.857   1.686  17.253  1.00  0.00          AL  \nATOM     40   Al MOL     1       0.704   4.022  17.372  1.00  0.00          AL  \nATOM     41   Al MOL     1       3.461   3.990  17.194  1.00  0.00          AL  \nATOM     42   Al MOL     1       6.362   4.080  17.212  1.00  0.00          AL  \nATOM     43   Al MOL     1       2.247   6.540  17.274  1.00  0.00          AL  \nATOM     44   Al MOL     1       4.919   6.515  17.196  1.00  0.00          AL  \nATOM     45   Al MOL     1       7.839   6.540  17.151  1.00  0.00          AL  \nATOM     46   Al MOL     1       0.667   8.969  17.157  1.00  0.00          AL  \nATOM     47   Al MOL     1       3.659   9.012  17.105  1.00  0.00          AL  \nATOM     48   Al MOL     1       6.506   9.125  17.167  1.00  0.00          AL  \nATOM     49   Al MOL     1       0.646   2.448  19.910  1.00  0.00          AL  \nATOM     50   Al MOL     1       3.489   2.310  19.497  1.00  0.00          AL  \nATOM     51   Al MOL     1       6.577   2.520  19.569  1.00  0.00          AL  \nATOM     52   Al MOL     1       2.056   4.878  19.521  1.00  0.00          AL  \nATOM     53   Al MOL     1       5.033   4.793  19.486  1.00  0.00          AL  \nATOM     54   Al MOL     1       7.847   4.927  19.463  1.00  0.00          AL  \nATOM     55   Al MOL     1       0.736   7.385  19.395  1.00  0.00          AL  \nATOM     56   Al MOL     1       3.694   7.326  19.485  1.00  0.00          AL  \nATOM     57   Al MOL     1       6.459   7.347  19.353  1.00  0.00          AL  \nATOM     58   Al MOL     1       2.218   9.837  19.341  1.00  0.00          AL  \nATOM     59   Al MOL     1       4.950   9.899  19.439  1.00  0.00          AL  \nATOM     60   Al MOL     1       7.937   9.834  19.492  1.00  0.00          AL  \nATOM     61   Al MOL     1       0.700   0.368  21.772  1.00  0.00          AL  \nATOM     62   Al MOL     1       3.738   0.538  21.850  1.00  0.00          AL  \nATOM     63   Al MOL     1       6.274   0.611  21.604  1.00  0.00          AL  \nATOM     64   Al MOL     1       2.040   2.728  22.365  1.00  0.00          AL  \nATOM     65   Al MOL     1       5.027   2.965  21.665  1.00  0.00          AL  \nATOM     66   Al MOL     1       8.043   2.707  22.345  1.00  0.00          AL  \nATOM     67   Al MOL     1       0.821   5.664  21.782  1.00  0.00          AL  \nATOM     68   Al MOL     1       3.676   5.663  21.736  1.00  0.00          AL  \nATOM     69   Al MOL     1       6.328   5.395  21.874  1.00  0.00          AL  \nATOM     70   Al MOL     1       2.191   8.089  21.920  1.00  0.00          AL  \nATOM     71   Al MOL     1       5.278   7.954  21.726  1.00  0.00          AL  \nATOM     72   Al MOL     1       7.914   7.984  21.734  1.00  0.00          AL  \nATOM     73    O MOL     1       9.439   1.531  23.247  1.00  0.00           O  \nATOM     74    O MOL     1       6.494   3.911  22.915  1.00  0.00           O  \nATOM     75    O MOL     1       2.168   7.261  26.524  1.00  0.00           O  \nATOM     76    O MOL     1       2.804   6.208  26.632  1.00  0.00           O  \nATOM     77    O MOL     1       4.108  -0.159   1.921  1.00  0.00           O  \nATOM     78    O MOL     1       3.890  -0.086   0.709  1.00  0.00           O  \nATOM     79    O MOL     1       4.652   6.363   2.027  1.00  0.00           O  \nATOM     80    O MOL     1       5.321   6.908   1.144  1.00  0.00           O  \nATOM     81    O MOL     1       7.487   4.506   2.185  1.00  0.00           O  \nATOM     82    O MOL     1       7.619   5.160   3.222  1.00  0.00           O  \nATOM     83    O MOL     1       7.318  -1.073   2.828  1.00  0.00           O  \nATOM     84    O MOL     1       7.436  -0.285   1.886  1.00  0.00           O  \nATOM     85    O MOL     1       3.501   5.358  30.551  1.00  0.00           O  \nATOM     86    O MOL     1       3.048   6.415  30.105  1.00  0.00           O  \nATOM     87    O MOL     1       2.212   6.423  22.542  1.00  0.00           O  \nATOM     88    O MOL     1       3.508   3.439  22.815  1.00  0.00           O  \nATOM     89    O MOL     1       0.159   4.796  29.633  1.00  0.00           O  \nATOM     90    O MOL     1       0.966   4.014  29.121  1.00  0.00           O  \nATOM     91    O MOL     1       7.902   8.049   9.274  1.00  0.00           O  \nATOM     92    O MOL     1       6.428   5.681   9.623  1.00  0.00           O  \nATOM     93    O MOL     1       2.163   3.287   9.563  1.00  0.00           O  \nATOM     94    O MOL     1       3.503   5.835   9.307  1.00  0.00           O  \nATOM     95    O MOL     1       7.830   6.397  22.467  1.00  0.00           O  \nATOM     96    O MOL     1       9.211   3.971  22.597  1.00  0.00           O  \nATOM     97    O MOL     1       3.818   0.576   9.206  1.00  0.00           O  \nATOM     98    O MOL     1       5.074   3.161   9.493  1.00  0.00           O  \nATOM     99    O MOL     1       0.589  10.720   9.454  1.00  0.00           O  \nATOM    100    O MOL     1       4.920   8.173   9.729  1.00  0.00           O  \nATOM    101    O MOL     1       4.749   9.066  27.314  1.00  0.00           O  \nATOM    102    O MOL     1       5.177   8.491  26.308  1.00  0.00           O  \nATOM    103    O MOL     1       1.661   7.679   1.188  1.00  0.00           O  \nATOM    104    O MOL     1       1.106   6.586   1.332  1.00  0.00           O  \nATOM    105    O MOL     1       6.736   5.503  27.282  1.00  0.00           O  \nATOM    106    O MOL     1       6.034   5.808  28.250  1.00  0.00           O  \nATOM    107    O MOL     1       6.628   8.881  22.571  1.00  0.00           O  \nATOM    108    O MOL     1       3.793   8.787  22.386  1.00  0.00           O  \nATOM    109    O MOL     1       3.048   1.235  29.298  1.00  0.00           O  \nATOM    110    O MOL     1       2.030   0.540  29.281  1.00  0.00           O  \nATOM    111    O MOL     1      -1.170   2.197  27.404  1.00  0.00           O  \nATOM    112    O MOL     1      -0.182   2.269  26.667  1.00  0.00           O  \nENDMDL\n",
           "ext": "pdb"
          }
         ],
         "kwargs": {},
         "methodName": "replaceStructure",
         "reconstruc_color_scheme": false,
         "target": "Widget",
         "type": "call_method"
        },
        {
         "args": [
          "this._Q = [[1.0, 0.0, 0.0], [0.0, 1.0, 0.0], [0.0, 0.0, 1.0]]"
         ],
         "kwargs": {},
         "methodName": "executeCode",
         "reconstruc_color_scheme": false,
         "target": "Widget",
         "type": "call_method"
        },
        {
         "args": [
          {
           "data": "CRYST1    8.591    9.920   31.691  90.00  90.00  90.00 P 1\nMODEL     1\nATOM      1   Al MOL     1       2.062   1.568  10.165  1.00  0.00          AL  \nATOM      2   Al MOL     1       4.964   1.631  10.494  1.00  0.00          AL  \nATOM      3   Al MOL     1       7.732   1.444  10.328  1.00  0.00          AL  \nATOM      4   Al MOL     1       0.764   4.106  10.343  1.00  0.00          AL  \nATOM      5   Al MOL     1       3.487   4.017  10.232  1.00  0.00          AL  \nATOM      6   Al MOL     1       6.575   3.870  10.104  1.00  0.00          AL  \nATOM      7   Al MOL     1       2.054   6.635  10.533  1.00  0.00          AL  \nATOM      8   Al MOL     1       4.996   6.425  10.306  1.00  0.00          AL  \nATOM      9   Al MOL     1       7.922   6.322  10.293  1.00  0.00          AL  \nATOM     10   Al MOL     1       0.762   8.792  10.243  1.00  0.00          AL  \nATOM     11   Al MOL     1       3.526   8.898  10.489  1.00  0.00          AL  \nATOM     12   Al MOL     1       6.321   9.042  10.285  1.00  0.00          AL  \nATOM     13   Al MOL     1       0.733   2.241  12.565  1.00  0.00          AL  \nATOM     14   Al MOL     1       3.595   2.379  12.661  1.00  0.00          AL  \nATOM     15   Al MOL     1       6.567   2.330  12.623  1.00  0.00          AL  \nATOM     16   Al MOL     1       2.105   4.855  12.608  1.00  0.00          AL  \nATOM     17   Al MOL     1       5.087   4.820  12.516  1.00  0.00          AL  \nATOM     18   Al MOL     1       7.899   4.860  12.715  1.00  0.00          AL  \nATOM     19   Al MOL     1       0.693   7.280  12.735  1.00  0.00          AL  \nATOM     20   Al MOL     1       3.606   7.316  12.766  1.00  0.00          AL  \nATOM     21   Al MOL     1       6.469   7.345  12.704  1.00  0.00          AL  \nATOM     22   Al MOL     1       2.159   9.780  12.719  1.00  0.00          AL  \nATOM     23   Al MOL     1       5.039   9.772  12.671  1.00  0.00          AL  \nATOM     24   Al MOL     1       7.947   9.809  12.640  1.00  0.00          AL  \nATOM     25   Al MOL     1       0.652   0.709  14.998  1.00  0.00          AL  \nATOM     26   Al MOL     1       3.743   0.745  14.912  1.00  0.00          AL  \nATOM     27   Al MOL     1       6.571   0.717  14.999  1.00  0.00          AL  \nATOM     28   Al MOL     1       2.143   3.186  14.916  1.00  0.00          AL  \nATOM     29   Al MOL     1       5.065   3.210  15.026  1.00  0.00          AL  \nATOM     30   Al MOL     1       7.834   3.205  14.953  1.00  0.00          AL  \nATOM     31   Al MOL     1       0.762   5.716  14.931  1.00  0.00          AL  \nATOM     32   Al MOL     1       3.592   5.614  15.035  1.00  0.00          AL  \nATOM     33   Al MOL     1       6.370   5.577  14.863  1.00  0.00          AL  \nATOM     34   Al MOL     1       2.111   8.236  14.984  1.00  0.00          AL  \nATOM     35   Al MOL     1       5.141   8.170  14.982  1.00  0.00          AL  \nATOM     36   Al MOL     1       7.831   8.153  15.004  1.00  0.00          AL  \nATOM     37   Al MOL     1       2.075   1.510  17.192  1.00  0.00          AL  \nATOM     38   Al MOL     1       5.019   1.534  17.312  1.00  0.00          AL  \nATOM     39   Al MOL     1       8.022   1.568  17.291  1.00  0.00          AL  \nATOM     40   Al MOL     1       0.723   4.004  17.278  1.00  0.00          AL  \nATOM     41   Al MOL     1       3.541   3.970  17.257  1.00  0.00          AL  \nATOM     42   Al MOL     1       6.476   3.950  17.311  1.00  0.00          AL  \nATOM     43   Al MOL     1       1.964   6.489  17.293  1.00  0.00          AL  \nATOM     44   Al MOL     1       4.997   6.448  17.331  1.00  0.00          AL  \nATOM     45   Al MOL     1       7.837   6.500  17.253  1.00  0.00          AL  \nATOM     46   Al MOL     1       0.690   9.052  17.221  1.00  0.00          AL  \nATOM     47   Al MOL     1       3.525   9.025  17.226  1.00  0.00          AL  \nATOM     48   Al MOL     1       6.402   8.902  17.175  1.00  0.00          AL  \nATOM     49   Al MOL     1       0.806   2.372  19.551  1.00  0.00          AL  \nATOM     50   Al MOL     1       3.539   2.314  19.556  1.00  0.00          AL  \nATOM     51   Al MOL     1       6.470   2.356  19.643  1.00  0.00          AL  \nATOM     52   Al MOL     1       2.135   4.762  19.603  1.00  0.00          AL  \nATOM     53   Al MOL     1       5.046   4.677  19.651  1.00  0.00          AL  \nATOM     54   Al MOL     1       7.884   4.868  19.502  1.00  0.00          AL  \nATOM     55   Al MOL     1       0.714   7.390  19.454  1.00  0.00          AL  \nATOM     56   Al MOL     1       3.531   7.260  19.501  1.00  0.00          AL  \nATOM     57   Al MOL     1       6.344   7.248  19.610  1.00  0.00          AL  \nATOM     58   Al MOL     1       2.111   9.800  19.355  1.00  0.00          AL  \nATOM     59   Al MOL     1       4.968   9.839  19.659  1.00  0.00          AL  \nATOM     60   Al MOL     1       7.638   9.802  19.471  1.00  0.00          AL  \nATOM     61   Al MOL     1       0.838   0.525  21.546  1.00  0.00          AL  \nATOM     62   Al MOL     1       3.551   0.652  21.742  1.00  0.00          AL  \nATOM     63   Al MOL     1       6.396   0.724  21.955  1.00  0.00          AL  \nATOM     64   Al MOL     1       2.077   2.889  22.409  1.00  0.00          AL  \nATOM     65   Al MOL     1       5.127   3.059  21.941  1.00  0.00          AL  \nATOM     66   Al MOL     1       7.890   2.979  22.559  1.00  0.00          AL  \nATOM     67   Al MOL     1       0.625   5.741  21.901  1.00  0.00          AL  \nATOM     68   Al MOL     1       3.652   5.755  22.006  1.00  0.00          AL  \nATOM     69   Al MOL     1       6.394   5.679  22.075  1.00  0.00          AL  \nATOM     70   Al MOL     1       2.203   8.098  21.606  1.00  0.00          AL  \nATOM     71   Al MOL     1       4.987   7.937  21.929  1.00  0.00          AL  \nATOM     72   Al MOL     1       7.840   8.215  21.890  1.00  0.00          AL  \nATOM     73    O MOL     1       9.313   1.731  22.861  1.00  0.00           O  \nATOM     74    O MOL     1       6.323   4.014  23.050  1.00  0.00           O  \nATOM     75    O MOL     1       2.238   6.792  25.923  1.00  0.00           O  \nATOM     76    O MOL     1       3.122   5.939  25.791  1.00  0.00           O  \nATOM     77    O MOL     1       4.061  -0.148   1.598  1.00  0.00           O  \nATOM     78    O MOL     1       3.899   0.111   0.402  1.00  0.00           O  \nATOM     79    O MOL     1       4.708   6.279   1.651  1.00  0.00           O  \nATOM     80    O MOL     1       5.313   6.898   0.771  1.00  0.00           O  \nATOM     81    O MOL     1       7.365   4.464   1.957  1.00  0.00           O  \nATOM     82    O MOL     1       7.513   5.069   3.021  1.00  0.00           O  \nATOM     83    O MOL     1       7.334  -1.036   2.347  1.00  0.00           O  \nATOM     84    O MOL     1       7.385  -0.213   1.430  1.00  0.00           O  \nATOM     85    O MOL     1       3.449   5.284  30.404  1.00  0.00           O  \nATOM     86    O MOL     1       3.060   6.326  29.871  1.00  0.00           O  \nATOM     87    O MOL     1       2.157   6.623  22.524  1.00  0.00           O  \nATOM     88    O MOL     1       3.420   3.992  22.495  1.00  0.00           O  \nATOM     89    O MOL     1       0.368   4.741  29.205  1.00  0.00           O  \nATOM     90    O MOL     1       1.062   4.178  28.351  1.00  0.00           O  \nATOM     91    O MOL     1       7.716   7.967   9.623  1.00  0.00           O  \nATOM     92    O MOL     1       6.348   5.553   9.604  1.00  0.00           O  \nATOM     93    O MOL     1       2.011   3.267   9.335  1.00  0.00           O  \nATOM     94    O MOL     1       3.460   5.750   9.765  1.00  0.00           O  \nATOM     95    O MOL     1       7.825   6.508  22.649  1.00  0.00           O  \nATOM     96    O MOL     1       9.402   4.175  22.679  1.00  0.00           O  \nATOM     97    O MOL     1       3.526   0.731   9.697  1.00  0.00           O  \nATOM     98    O MOL     1       5.019   3.137   9.496  1.00  0.00           O  \nATOM     99    O MOL     1       0.693  10.552   9.457  1.00  0.00           O  \nATOM    100    O MOL     1       4.889   8.104   9.614  1.00  0.00           O  \nATOM    101    O MOL     1       4.576   9.166  26.693  1.00  0.00           O  \nATOM    102    O MOL     1       5.066   8.486  25.782  1.00  0.00           O  \nATOM    103    O MOL     1       1.655   7.689   0.929  1.00  0.00           O  \nATOM    104    O MOL     1       1.077   6.605   1.050  1.00  0.00           O  \nATOM    105    O MOL     1       6.712   5.844  27.111  1.00  0.00           O  \nATOM    106    O MOL     1       5.917   5.939  28.051  1.00  0.00           O  \nATOM    107    O MOL     1       6.280   8.907  22.712  1.00  0.00           O  \nATOM    108    O MOL     1       3.605   8.975  22.463  1.00  0.00           O  \nATOM    109    O MOL     1       3.169   1.264  29.208  1.00  0.00           O  \nATOM    110    O MOL     1       2.085   0.695  29.047  1.00  0.00           O  \nATOM    111    O MOL     1      -1.095   2.338  26.876  1.00  0.00           O  \nATOM    112    O MOL     1      -0.691   2.542  25.723  1.00  0.00           O  \nENDMDL\n",
           "ext": "pdb"
          }
         ],
         "kwargs": {},
         "methodName": "replaceStructure",
         "reconstruc_color_scheme": false,
         "target": "Widget",
         "type": "call_method"
        },
        {
         "args": [
          "this._Q = [[1.0, 0.0, 0.0], [0.0, 1.0, 0.0], [0.0, 0.0, 1.0]]"
         ],
         "kwargs": {},
         "methodName": "executeCode",
         "reconstruc_color_scheme": false,
         "target": "Widget",
         "type": "call_method"
        },
        {
         "args": [
          {
           "data": "CRYST1    8.591    9.920   31.691  90.00  90.00  90.00 P 1\nMODEL     1\nATOM      1   Al MOL     1       2.272   1.499  10.002  1.00  0.00          AL  \nATOM      2   Al MOL     1       5.226   1.555  10.254  1.00  0.00          AL  \nATOM      3   Al MOL     1       7.827   1.484  10.577  1.00  0.00          AL  \nATOM      4   Al MOL     1       0.737   4.007  10.462  1.00  0.00          AL  \nATOM      5   Al MOL     1       3.688   4.046  10.319  1.00  0.00          AL  \nATOM      6   Al MOL     1       6.649   3.992  10.355  1.00  0.00          AL  \nATOM      7   Al MOL     1       2.097   6.403  10.444  1.00  0.00          AL  \nATOM      8   Al MOL     1       4.939   6.522  10.278  1.00  0.00          AL  \nATOM      9   Al MOL     1       8.123   6.447  10.208  1.00  0.00          AL  \nATOM     10   Al MOL     1       0.809   8.999  10.335  1.00  0.00          AL  \nATOM     11   Al MOL     1       3.504   9.005  10.409  1.00  0.00          AL  \nATOM     12   Al MOL     1       6.628   8.987  10.641  1.00  0.00          AL  \nATOM     13   Al MOL     1       0.698   2.251  12.799  1.00  0.00          AL  \nATOM     14   Al MOL     1       3.729   2.225  12.599  1.00  0.00          AL  \nATOM     15   Al MOL     1       6.459   2.353  12.790  1.00  0.00          AL  \nATOM     16   Al MOL     1       2.243   4.711  12.743  1.00  0.00          AL  \nATOM     17   Al MOL     1       5.021   4.783  12.739  1.00  0.00          AL  \nATOM     18   Al MOL     1       7.793   4.786  12.758  1.00  0.00          AL  \nATOM     19   Al MOL     1       0.668   7.215  12.680  1.00  0.00          AL  \nATOM     20   Al MOL     1       3.523   7.173  12.630  1.00  0.00          AL  \nATOM     21   Al MOL     1       6.315   7.125  12.821  1.00  0.00          AL  \nATOM     22   Al MOL     1       2.141   9.684  12.709  1.00  0.00          AL  \nATOM     23   Al MOL     1       4.971   9.757  12.795  1.00  0.00          AL  \nATOM     24   Al MOL     1       7.848   9.731  12.765  1.00  0.00          AL  \nATOM     25   Al MOL     1       0.608   0.643  15.058  1.00  0.00          AL  \nATOM     26   Al MOL     1       3.487   0.548  14.989  1.00  0.00          AL  \nATOM     27   Al MOL     1       6.475   0.613  14.973  1.00  0.00          AL  \nATOM     28   Al MOL     1       2.190   3.104  15.087  1.00  0.00          AL  \nATOM     29   Al MOL     1       4.891   3.071  15.004  1.00  0.00          AL  \nATOM     30   Al MOL     1       7.865   3.120  15.053  1.00  0.00          AL  \nATOM     31   Al MOL     1       0.659   5.509  15.002  1.00  0.00          AL  \nATOM     32   Al MOL     1       3.566   5.458  14.998  1.00  0.00          AL  \nATOM     33   Al MOL     1       6.472   5.595  15.134  1.00  0.00          AL  \nATOM     34   Al MOL     1       2.041   7.905  15.009  1.00  0.00          AL  \nATOM     35   Al MOL     1       4.990   7.968  14.965  1.00  0.00          AL  \nATOM     36   Al MOL     1       7.813   8.042  14.981  1.00  0.00          AL  \nATOM     37   Al MOL     1       2.067   1.493  17.455  1.00  0.00          AL  \nATOM     38   Al MOL     1       4.972   1.585  17.229  1.00  0.00          AL  \nATOM     39   Al MOL     1       7.831   1.583  17.276  1.00  0.00          AL  \nATOM     40   Al MOL     1       0.628   4.012  17.478  1.00  0.00          AL  \nATOM     41   Al MOL     1       3.541   3.993  17.360  1.00  0.00          AL  \nATOM     42   Al MOL     1       6.347   4.021  17.312  1.00  0.00          AL  \nATOM     43   Al MOL     1       2.187   6.501  17.368  1.00  0.00          AL  \nATOM     44   Al MOL     1       4.999   6.501  17.263  1.00  0.00          AL  \nATOM     45   Al MOL     1       7.854   6.418  17.369  1.00  0.00          AL  \nATOM     46   Al MOL     1       0.705   8.909  17.231  1.00  0.00          AL  \nATOM     47   Al MOL     1       3.596   8.866  17.255  1.00  0.00          AL  \nATOM     48   Al MOL     1       6.489   8.937  17.112  1.00  0.00          AL  \nATOM     49   Al MOL     1       0.700   2.489  19.676  1.00  0.00          AL  \nATOM     50   Al MOL     1       3.544   2.556  19.727  1.00  0.00          AL  \nATOM     51   Al MOL     1       6.327   2.547  19.535  1.00  0.00          AL  \nATOM     52   Al MOL     1       2.097   4.916  19.739  1.00  0.00          AL  \nATOM     53   Al MOL     1       4.861   4.976  19.463  1.00  0.00          AL  \nATOM     54   Al MOL     1       7.688   4.903  19.607  1.00  0.00          AL  \nATOM     55   Al MOL     1       0.706   7.251  19.573  1.00  0.00          AL  \nATOM     56   Al MOL     1       3.477   7.476  19.809  1.00  0.00          AL  \nATOM     57   Al MOL     1       6.392   7.471  19.485  1.00  0.00          AL  \nATOM     58   Al MOL     1       2.184   9.894  19.702  1.00  0.00          AL  \nATOM     59   Al MOL     1       5.020   9.903  19.499  1.00  0.00          AL  \nATOM     60   Al MOL     1       8.061   9.915  19.490  1.00  0.00          AL  \nATOM     61   Al MOL     1       0.759   0.605  21.866  1.00  0.00          AL  \nATOM     62   Al MOL     1       3.727   0.810  21.650  1.00  0.00          AL  \nATOM     63   Al MOL     1       6.455   0.589  21.563  1.00  0.00          AL  \nATOM     64   Al MOL     1       2.053   3.154  22.034  1.00  0.00          AL  \nATOM     65   Al MOL     1       4.727   2.996  22.267  1.00  0.00          AL  \nATOM     66   Al MOL     1       7.770   2.927  22.189  1.00  0.00          AL  \nATOM     67   Al MOL     1       0.540   5.819  21.965  1.00  0.00          AL  \nATOM     68   Al MOL     1       3.494   5.525  21.959  1.00  0.00          AL  \nATOM     69   Al MOL     1       6.151   5.666  21.817  1.00  0.00          AL  \nATOM     70   Al MOL     1       2.025   8.347  22.324  1.00  0.00          AL  \nATOM     71   Al MOL     1       5.105   8.050  21.970  1.00  0.00          AL  \nATOM     72   Al MOL     1       7.867   8.234  21.990  1.00  0.00          AL  \nATOM     73    O MOL     1      10.025   1.770  22.929  1.00  0.00           O  \nATOM     74    O MOL     1       6.215   3.836  22.617  1.00  0.00           O  \nATOM     75    O MOL     1       2.399   6.548  25.697  1.00  0.00           O  \nATOM     76    O MOL     1       3.247   5.789  25.214  1.00  0.00           O  \nATOM     77    O MOL     1       4.001  -0.072   1.429  1.00  0.00           O  \nATOM     78    O MOL     1       3.934   0.142   0.216  1.00  0.00           O  \nATOM     79    O MOL     1       4.678   6.303   1.473  1.00  0.00           O  \nATOM     80    O MOL     1       5.266   6.943   0.598  1.00  0.00           O  \nATOM     81    O MOL     1       7.405   4.399   1.891  1.00  0.00           O  \nATOM     82    O MOL     1       7.396   5.108   2.899  1.00  0.00           O  \nATOM     83    O MOL     1       7.364  -1.096   2.057  1.00  0.00           O  \nATOM     84    O MOL     1       7.404  -0.223   1.187  1.00  0.00           O  \nATOM     85    O MOL     1       3.385   5.177  30.249  1.00  0.00           O  \nATOM     86    O MOL     1       3.197   6.318  29.820  1.00  0.00           O  \nATOM     87    O MOL     1       2.245   6.379  22.716  1.00  0.00           O  \nATOM     88    O MOL     1       3.401   4.041  22.978  1.00  0.00           O  \nATOM     89    O MOL     1       0.446   4.471  28.827  1.00  0.00           O  \nATOM     90    O MOL     1       1.156   4.290  27.832  1.00  0.00           O  \nATOM     91    O MOL     1       7.997   8.125   9.595  1.00  0.00           O  \nATOM     92    O MOL     1       6.627   5.835   9.589  1.00  0.00           O  \nATOM     93    O MOL     1       2.209   3.208   9.490  1.00  0.00           O  \nATOM     94    O MOL     1       3.532   5.646   9.557  1.00  0.00           O  \nATOM     95    O MOL     1       7.742   6.625  22.705  1.00  0.00           O  \nATOM     96    O MOL     1       9.091   4.036  22.564  1.00  0.00           O  \nATOM     97    O MOL     1       3.693   0.639   9.419  1.00  0.00           O  \nATOM     98    O MOL     1       5.175   3.294   9.567  1.00  0.00           O  \nATOM     99    O MOL     1       0.697  10.654   9.669  1.00  0.00           O  \nATOM    100    O MOL     1       5.074   8.315   9.855  1.00  0.00           O  \nATOM    101    O MOL     1       4.375   9.163  26.380  1.00  0.00           O  \nATOM    102    O MOL     1       5.063   8.583  25.529  1.00  0.00           O  \nATOM    103    O MOL     1       1.612   7.757   0.795  1.00  0.00           O  \nATOM    104    O MOL     1       1.083   6.648   0.908  1.00  0.00           O  \nATOM    105    O MOL     1       6.665   5.867  26.808  1.00  0.00           O  \nATOM    106    O MOL     1       5.878   6.090  27.735  1.00  0.00           O  \nATOM    107    O MOL     1       6.395   9.082  22.708  1.00  0.00           O  \nATOM    108    O MOL     1       3.756   9.038  22.563  1.00  0.00           O  \nATOM    109    O MOL     1       3.277   1.305  29.093  1.00  0.00           O  \nATOM    110    O MOL     1       2.192   0.746  28.912  1.00  0.00           O  \nATOM    111    O MOL     1      -1.395   2.414  26.229  1.00  0.00           O  \nATOM    112    O MOL     1      -0.859   2.913  25.229  1.00  0.00           O  \nENDMDL\n",
           "ext": "pdb"
          }
         ],
         "kwargs": {},
         "methodName": "replaceStructure",
         "reconstruc_color_scheme": false,
         "target": "Widget",
         "type": "call_method"
        },
        {
         "args": [
          "this._Q = [[1.0, 0.0, 0.0], [0.0, 1.0, 0.0], [0.0, 0.0, 1.0]]"
         ],
         "kwargs": {},
         "methodName": "executeCode",
         "reconstruc_color_scheme": false,
         "target": "Widget",
         "type": "call_method"
        },
        {
         "args": [
          {
           "data": "CRYST1    8.591    9.920   31.691  90.00  90.00  90.00 P 1\nMODEL     1\nATOM      1   Al MOL     1       2.170   1.390  10.469  1.00  0.00          AL  \nATOM      2   Al MOL     1       5.296   1.278  10.401  1.00  0.00          AL  \nATOM      3   Al MOL     1       8.048   1.409  10.642  1.00  0.00          AL  \nATOM      4   Al MOL     1       0.726   3.947  10.584  1.00  0.00          AL  \nATOM      5   Al MOL     1       3.675   3.951  10.268  1.00  0.00          AL  \nATOM      6   Al MOL     1       6.695   3.870  10.382  1.00  0.00          AL  \nATOM      7   Al MOL     1       2.327   6.479  10.527  1.00  0.00          AL  \nATOM      8   Al MOL     1       5.233   6.460  10.265  1.00  0.00          AL  \nATOM      9   Al MOL     1       8.147   6.316  10.455  1.00  0.00          AL  \nATOM     10   Al MOL     1       0.917   8.744  10.482  1.00  0.00          AL  \nATOM     11   Al MOL     1       3.631   8.901  10.246  1.00  0.00          AL  \nATOM     12   Al MOL     1       6.559   9.022  10.242  1.00  0.00          AL  \nATOM     13   Al MOL     1       0.690   2.329  12.709  1.00  0.00          AL  \nATOM     14   Al MOL     1       3.466   2.348  12.910  1.00  0.00          AL  \nATOM     15   Al MOL     1       6.301   2.221  12.838  1.00  0.00          AL  \nATOM     16   Al MOL     1       2.199   4.869  12.831  1.00  0.00          AL  \nATOM     17   Al MOL     1       4.919   4.742  12.775  1.00  0.00          AL  \nATOM     18   Al MOL     1       7.838   4.714  12.822  1.00  0.00          AL  \nATOM     19   Al MOL     1       0.801   7.357  12.881  1.00  0.00          AL  \nATOM     20   Al MOL     1       3.624   7.300  12.717  1.00  0.00          AL  \nATOM     21   Al MOL     1       6.530   7.332  12.628  1.00  0.00          AL  \nATOM     22   Al MOL     1       2.150   9.733  12.706  1.00  0.00          AL  \nATOM     23   Al MOL     1       4.998   9.749  12.702  1.00  0.00          AL  \nATOM     24   Al MOL     1       7.853   9.810  12.869  1.00  0.00          AL  \nATOM     25   Al MOL     1       0.734   0.597  15.081  1.00  0.00          AL  \nATOM     26   Al MOL     1       3.484   0.712  15.029  1.00  0.00          AL  \nATOM     27   Al MOL     1       6.325   0.607  15.106  1.00  0.00          AL  \nATOM     28   Al MOL     1       2.050   3.167  14.978  1.00  0.00          AL  \nATOM     29   Al MOL     1       4.799   3.136  14.986  1.00  0.00          AL  \nATOM     30   Al MOL     1       7.814   3.022  15.037  1.00  0.00          AL  \nATOM     31   Al MOL     1       0.748   5.615  15.063  1.00  0.00          AL  \nATOM     32   Al MOL     1       3.561   5.699  15.034  1.00  0.00          AL  \nATOM     33   Al MOL     1       6.347   5.737  14.936  1.00  0.00          AL  \nATOM     34   Al MOL     1       2.225   8.200  15.099  1.00  0.00          AL  \nATOM     35   Al MOL     1       4.959   8.182  15.031  1.00  0.00          AL  \nATOM     36   Al MOL     1       7.877   8.064  15.120  1.00  0.00          AL  \nATOM     37   Al MOL     1       2.123   1.610  17.344  1.00  0.00          AL  \nATOM     38   Al MOL     1       4.948   1.578  17.371  1.00  0.00          AL  \nATOM     39   Al MOL     1       7.748   1.422  17.348  1.00  0.00          AL  \nATOM     40   Al MOL     1       0.603   3.967  17.213  1.00  0.00          AL  \nATOM     41   Al MOL     1       3.649   4.002  17.293  1.00  0.00          AL  \nATOM     42   Al MOL     1       6.372   4.041  17.344  1.00  0.00          AL  \nATOM     43   Al MOL     1       2.172   6.507  17.298  1.00  0.00          AL  \nATOM     44   Al MOL     1       5.010   6.433  17.282  1.00  0.00          AL  \nATOM     45   Al MOL     1       7.709   6.511  17.324  1.00  0.00          AL  \nATOM     46   Al MOL     1       0.682   8.882  17.427  1.00  0.00          AL  \nATOM     47   Al MOL     1       3.556   8.904  17.317  1.00  0.00          AL  \nATOM     48   Al MOL     1       6.304   8.977  17.351  1.00  0.00          AL  \nATOM     49   Al MOL     1       0.547   2.317  19.630  1.00  0.00          AL  \nATOM     50   Al MOL     1       3.453   2.300  19.681  1.00  0.00          AL  \nATOM     51   Al MOL     1       6.340   2.344  19.687  1.00  0.00          AL  \nATOM     52   Al MOL     1       1.965   4.955  19.627  1.00  0.00          AL  \nATOM     53   Al MOL     1       4.907   4.826  19.590  1.00  0.00          AL  \nATOM     54   Al MOL     1       7.845   4.846  19.595  1.00  0.00          AL  \nATOM     55   Al MOL     1       0.566   7.357  19.703  1.00  0.00          AL  \nATOM     56   Al MOL     1       3.539   7.293  19.622  1.00  0.00          AL  \nATOM     57   Al MOL     1       6.357   7.248  19.612  1.00  0.00          AL  \nATOM     58   Al MOL     1       2.068   9.817  19.741  1.00  0.00          AL  \nATOM     59   Al MOL     1       4.897   9.781  19.803  1.00  0.00          AL  \nATOM     60   Al MOL     1       7.700   9.781  19.676  1.00  0.00          AL  \nATOM     61   Al MOL     1       0.597   0.836  21.887  1.00  0.00          AL  \nATOM     62   Al MOL     1       3.669   0.858  22.245  1.00  0.00          AL  \nATOM     63   Al MOL     1       6.443   0.810  22.003  1.00  0.00          AL  \nATOM     64   Al MOL     1       2.042   3.197  22.090  1.00  0.00          AL  \nATOM     65   Al MOL     1       4.919   3.105  21.897  1.00  0.00          AL  \nATOM     66   Al MOL     1       7.779   3.274  21.867  1.00  0.00          AL  \nATOM     67   Al MOL     1       0.596   5.642  22.141  1.00  0.00          AL  \nATOM     68   Al MOL     1       3.729   5.754  21.945  1.00  0.00          AL  \nATOM     69   Al MOL     1       6.276   5.910  21.901  1.00  0.00          AL  \nATOM     70   Al MOL     1       1.915   8.233  21.919  1.00  0.00          AL  \nATOM     71   Al MOL     1       4.805   8.105  21.940  1.00  0.00          AL  \nATOM     72   Al MOL     1       7.892   8.274  21.911  1.00  0.00          AL  \nATOM     73    O MOL     1      10.528   1.555  22.876  1.00  0.00           O  \nATOM     74    O MOL     1       6.297   4.074  22.443  1.00  0.00           O  \nATOM     75    O MOL     1       2.744   6.488  25.763  1.00  0.00           O  \nATOM     76    O MOL     1       3.549   5.672  25.301  1.00  0.00           O  \nATOM     77    O MOL     1       4.020  -0.003   1.273  1.00  0.00           O  \nATOM     78    O MOL     1       3.929   0.148   0.052  1.00  0.00           O  \nATOM     79    O MOL     1       4.589   6.369   1.348  1.00  0.00           O  \nATOM     80    O MOL     1       5.225   6.942   0.456  1.00  0.00           O  \nATOM     81    O MOL     1       7.434   4.424   1.806  1.00  0.00           O  \nATOM     82    O MOL     1       7.327   5.182   2.772  1.00  0.00           O  \nATOM     83    O MOL     1       7.350  -1.137   1.844  1.00  0.00           O  \nATOM     84    O MOL     1       7.431  -0.277   0.964  1.00  0.00           O  \nATOM     85    O MOL     1       3.426   5.074  30.073  1.00  0.00           O  \nATOM     86    O MOL     1       3.197   6.229  29.704  1.00  0.00           O  \nATOM     87    O MOL     1       1.998   6.537  22.676  1.00  0.00           O  \nATOM     88    O MOL     1       3.657   4.127  22.764  1.00  0.00           O  \nATOM     89    O MOL     1       0.460   4.138  28.315  1.00  0.00           O  \nATOM     90    O MOL     1       1.245   4.291  27.373  1.00  0.00           O  \nATOM     91    O MOL     1       7.974   8.091   9.714  1.00  0.00           O  \nATOM     92    O MOL     1       6.660   5.475   9.709  1.00  0.00           O  \nATOM     93    O MOL     1       2.068   3.098   9.757  1.00  0.00           O  \nATOM     94    O MOL     1       3.722   5.609   9.682  1.00  0.00           O  \nATOM     95    O MOL     1       7.836   6.554  22.533  1.00  0.00           O  \nATOM     96    O MOL     1       9.207   4.051  22.903  1.00  0.00           O  \nATOM     97    O MOL     1       3.724   0.745   9.800  1.00  0.00           O  \nATOM     98    O MOL     1       5.105   3.020   9.799  1.00  0.00           O  \nATOM     99    O MOL     1       0.777  10.487   9.627  1.00  0.00           O  \nATOM    100    O MOL     1       5.212   8.084   9.578  1.00  0.00           O  \nATOM    101    O MOL     1       4.153   9.180  26.058  1.00  0.00           O  \nATOM    102    O MOL     1       5.136   8.653  25.519  1.00  0.00           O  \nATOM    103    O MOL     1       1.621   7.802   0.657  1.00  0.00           O  \nATOM    104    O MOL     1       1.097   6.689   0.750  1.00  0.00           O  \nATOM    105    O MOL     1       6.649   5.788  26.508  1.00  0.00           O  \nATOM    106    O MOL     1       5.841   6.230  27.333  1.00  0.00           O  \nATOM    107    O MOL     1       6.316   8.973  22.741  1.00  0.00           O  \nATOM    108    O MOL     1       3.248   8.999  22.723  1.00  0.00           O  \nATOM    109    O MOL     1       3.375   1.381  28.853  1.00  0.00           O  \nATOM    110    O MOL     1       2.267   0.841  28.766  1.00  0.00           O  \nATOM    111    O MOL     1      -1.788   2.497  25.431  1.00  0.00           O  \nATOM    112    O MOL     1      -0.771   3.098  25.054  1.00  0.00           O  \nENDMDL\n",
           "ext": "pdb"
          }
         ],
         "kwargs": {},
         "methodName": "replaceStructure",
         "reconstruc_color_scheme": false,
         "target": "Widget",
         "type": "call_method"
        },
        {
         "args": [
          "this._Q = [[1.0, 0.0, 0.0], [0.0, 1.0, 0.0], [0.0, 0.0, 1.0]]"
         ],
         "kwargs": {},
         "methodName": "executeCode",
         "reconstruc_color_scheme": false,
         "target": "Widget",
         "type": "call_method"
        },
        {
         "args": [
          {
           "data": "CRYST1    8.591    9.920   31.691  90.00  90.00  90.00 P 1\nMODEL     1\nATOM      1   Al MOL     1       2.276   1.352  10.158  1.00  0.00          AL  \nATOM      2   Al MOL     1       5.207   1.402  10.506  1.00  0.00          AL  \nATOM      3   Al MOL     1       7.846   1.275  10.501  1.00  0.00          AL  \nATOM      4   Al MOL     1       0.709   3.805  10.674  1.00  0.00          AL  \nATOM      5   Al MOL     1       3.672   3.929  10.382  1.00  0.00          AL  \nATOM      6   Al MOL     1       6.684   3.742  10.287  1.00  0.00          AL  \nATOM      7   Al MOL     1       2.108   6.359  10.713  1.00  0.00          AL  \nATOM      8   Al MOL     1       5.037   6.269  10.451  1.00  0.00          AL  \nATOM      9   Al MOL     1       8.083   6.257  10.265  1.00  0.00          AL  \nATOM     10   Al MOL     1       0.898   8.726  10.345  1.00  0.00          AL  \nATOM     11   Al MOL     1       3.723   8.882  10.686  1.00  0.00          AL  \nATOM     12   Al MOL     1       6.449   8.787  10.687  1.00  0.00          AL  \nATOM     13   Al MOL     1       0.762   2.321  12.843  1.00  0.00          AL  \nATOM     14   Al MOL     1       3.677   2.350  12.793  1.00  0.00          AL  \nATOM     15   Al MOL     1       6.542   2.485  12.817  1.00  0.00          AL  \nATOM     16   Al MOL     1       2.119   4.683  13.032  1.00  0.00          AL  \nATOM     17   Al MOL     1       5.063   4.871  12.801  1.00  0.00          AL  \nATOM     18   Al MOL     1       8.007   4.932  12.766  1.00  0.00          AL  \nATOM     19   Al MOL     1       0.700   7.285  12.753  1.00  0.00          AL  \nATOM     20   Al MOL     1       3.534   7.245  12.942  1.00  0.00          AL  \nATOM     21   Al MOL     1       6.499   7.285  12.896  1.00  0.00          AL  \nATOM     22   Al MOL     1       2.122   9.851  12.904  1.00  0.00          AL  \nATOM     23   Al MOL     1       5.158   9.878  12.867  1.00  0.00          AL  \nATOM     24   Al MOL     1       8.019   9.683  12.661  1.00  0.00          AL  \nATOM     25   Al MOL     1       0.694   0.812  15.102  1.00  0.00          AL  \nATOM     26   Al MOL     1       3.676   0.797  15.068  1.00  0.00          AL  \nATOM     27   Al MOL     1       6.427   0.870  15.090  1.00  0.00          AL  \nATOM     28   Al MOL     1       2.162   3.182  15.177  1.00  0.00          AL  \nATOM     29   Al MOL     1       4.977   3.224  15.071  1.00  0.00          AL  \nATOM     30   Al MOL     1       8.006   3.362  15.124  1.00  0.00          AL  \nATOM     31   Al MOL     1       0.646   5.771  15.080  1.00  0.00          AL  \nATOM     32   Al MOL     1       3.539   5.645  15.072  1.00  0.00          AL  \nATOM     33   Al MOL     1       6.317   5.677  15.250  1.00  0.00          AL  \nATOM     34   Al MOL     1       2.058   8.181  15.078  1.00  0.00          AL  \nATOM     35   Al MOL     1       4.973   8.149  15.234  1.00  0.00          AL  \nATOM     36   Al MOL     1       7.801   8.298  14.998  1.00  0.00          AL  \nATOM     37   Al MOL     1       2.069   1.505  17.302  1.00  0.00          AL  \nATOM     38   Al MOL     1       4.875   1.461  17.337  1.00  0.00          AL  \nATOM     39   Al MOL     1       7.869   1.720  17.413  1.00  0.00          AL  \nATOM     40   Al MOL     1       0.665   4.078  17.447  1.00  0.00          AL  \nATOM     41   Al MOL     1       3.412   3.863  17.358  1.00  0.00          AL  \nATOM     42   Al MOL     1       6.387   4.002  17.467  1.00  0.00          AL  \nATOM     43   Al MOL     1       2.002   6.508  17.339  1.00  0.00          AL  \nATOM     44   Al MOL     1       4.825   6.530  17.390  1.00  0.00          AL  \nATOM     45   Al MOL     1       7.827   6.558  17.385  1.00  0.00          AL  \nATOM     46   Al MOL     1       0.527   9.034  17.269  1.00  0.00          AL  \nATOM     47   Al MOL     1       3.336   8.977  17.277  1.00  0.00          AL  \nATOM     48   Al MOL     1       6.439   8.917  17.381  1.00  0.00          AL  \nATOM     49   Al MOL     1       0.616   2.292  19.766  1.00  0.00          AL  \nATOM     50   Al MOL     1       3.586   2.279  19.613  1.00  0.00          AL  \nATOM     51   Al MOL     1       6.360   2.349  19.643  1.00  0.00          AL  \nATOM     52   Al MOL     1       2.148   4.740  19.711  1.00  0.00          AL  \nATOM     53   Al MOL     1       5.020   4.864  19.576  1.00  0.00          AL  \nATOM     54   Al MOL     1       7.684   4.903  19.686  1.00  0.00          AL  \nATOM     55   Al MOL     1       0.551   7.357  19.760  1.00  0.00          AL  \nATOM     56   Al MOL     1       3.414   7.376  19.524  1.00  0.00          AL  \nATOM     57   Al MOL     1       6.386   7.412  19.797  1.00  0.00          AL  \nATOM     58   Al MOL     1       1.874   9.782  19.593  1.00  0.00          AL  \nATOM     59   Al MOL     1       4.935   9.802  19.619  1.00  0.00          AL  \nATOM     60   Al MOL     1       7.730   9.693  19.663  1.00  0.00          AL  \nATOM     61   Al MOL     1       0.540   0.644  21.804  1.00  0.00          AL  \nATOM     62   Al MOL     1       3.535   0.656  21.703  1.00  0.00          AL  \nATOM     63   Al MOL     1       6.272   0.787  21.992  1.00  0.00          AL  \nATOM     64   Al MOL     1       2.066   3.128  22.152  1.00  0.00          AL  \nATOM     65   Al MOL     1       4.985   3.141  22.204  1.00  0.00          AL  \nATOM     66   Al MOL     1       7.702   3.078  21.969  1.00  0.00          AL  \nATOM     67   Al MOL     1       0.541   5.802  21.854  1.00  0.00          AL  \nATOM     68   Al MOL     1       3.589   5.798  21.832  1.00  0.00          AL  \nATOM     69   Al MOL     1       6.315   5.704  22.018  1.00  0.00          AL  \nATOM     70   Al MOL     1       2.161   8.190  21.841  1.00  0.00          AL  \nATOM     71   Al MOL     1       4.984   8.141  22.030  1.00  0.00          AL  \nATOM     72   Al MOL     1       7.851   8.426  22.271  1.00  0.00          AL  \nATOM     73    O MOL     1      10.681   1.512  22.692  1.00  0.00           O  \nATOM     74    O MOL     1       6.377   4.070  22.904  1.00  0.00           O  \nATOM     75    O MOL     1       3.147   6.492  25.998  1.00  0.00           O  \nATOM     76    O MOL     1       3.794   5.563  25.501  1.00  0.00           O  \nATOM     77    O MOL     1       4.132   0.038   1.102  1.00  0.00           O  \nATOM     78    O MOL     1       3.912   0.161  -0.107  1.00  0.00           O  \nATOM     79    O MOL     1       4.494   6.425   1.241  1.00  0.00           O  \nATOM     80    O MOL     1       5.166   6.877   0.309  1.00  0.00           O  \nATOM     81    O MOL     1       7.387   4.559   1.652  1.00  0.00           O  \nATOM     82    O MOL     1       7.339   5.285   2.648  1.00  0.00           O  \nATOM     83    O MOL     1       7.303  -1.105   1.709  1.00  0.00           O  \nATOM     84    O MOL     1       7.423  -0.355   0.736  1.00  0.00           O  \nATOM     85    O MOL     1       3.524   4.964  29.821  1.00  0.00           O  \nATOM     86    O MOL     1       3.035   6.031  29.439  1.00  0.00           O  \nATOM     87    O MOL     1       2.090   6.566  22.629  1.00  0.00           O  \nATOM     88    O MOL     1       3.505   4.163  22.526  1.00  0.00           O  \nATOM     89    O MOL     1       0.411   3.832  27.781  1.00  0.00           O  \nATOM     90    O MOL     1       1.362   4.068  27.026  1.00  0.00           O  \nATOM     91    O MOL     1       7.902   8.016   9.811  1.00  0.00           O  \nATOM     92    O MOL     1       6.578   5.445   9.710  1.00  0.00           O  \nATOM     93    O MOL     1       2.253   2.993   9.671  1.00  0.00           O  \nATOM     94    O MOL     1       3.446   5.575   9.704  1.00  0.00           O  \nATOM     95    O MOL     1       7.786   6.646  22.786  1.00  0.00           O  \nATOM     96    O MOL     1       9.269   4.108  22.391  1.00  0.00           O  \nATOM     97    O MOL     1       3.738   0.583   9.565  1.00  0.00           O  \nATOM     98    O MOL     1       5.089   3.112   9.674  1.00  0.00           O  \nATOM     99    O MOL     1       0.729  10.392   9.635  1.00  0.00           O  \nATOM    100    O MOL     1       4.963   7.958   9.849  1.00  0.00           O  \nATOM    101    O MOL     1       4.053   9.434  25.720  1.00  0.00           O  \nATOM    102    O MOL     1       5.152   8.864  25.731  1.00  0.00           O  \nATOM    103    O MOL     1       1.682   7.808   0.492  1.00  0.00           O  \nATOM    104    O MOL     1       1.153   6.693   0.536  1.00  0.00           O  \nATOM    105    O MOL     1       6.670   5.727  26.168  1.00  0.00           O  \nATOM    106    O MOL     1       6.081   6.180  27.158  1.00  0.00           O  \nATOM    107    O MOL     1       6.251   9.078  22.684  1.00  0.00           O  \nATOM    108    O MOL     1       3.610   9.046  22.715  1.00  0.00           O  \nATOM    109    O MOL     1       3.435   1.531  28.492  1.00  0.00           O  \nATOM    110    O MOL     1       2.329   0.990  28.599  1.00  0.00           O  \nATOM    111    O MOL     1      -2.132   2.488  24.932  1.00  0.00           O  \nATOM    112    O MOL     1      -0.963   2.660  25.324  1.00  0.00           O  \nENDMDL\n",
           "ext": "pdb"
          }
         ],
         "kwargs": {},
         "methodName": "replaceStructure",
         "reconstruc_color_scheme": false,
         "target": "Widget",
         "type": "call_method"
        },
        {
         "args": [
          "this._Q = [[1.0, 0.0, 0.0], [0.0, 1.0, 0.0], [0.0, 0.0, 1.0]]"
         ],
         "kwargs": {},
         "methodName": "executeCode",
         "reconstruc_color_scheme": false,
         "target": "Widget",
         "type": "call_method"
        },
        {
         "args": [
          {
           "data": "CRYST1    8.591    9.920   31.691  90.00  90.00  90.00 P 1\nMODEL     1\nATOM      1   Al MOL     1       2.202   1.506  10.312  1.00  0.00          AL  \nATOM      2   Al MOL     1       5.177   1.378  10.497  1.00  0.00          AL  \nATOM      3   Al MOL     1       7.739   1.553  10.529  1.00  0.00          AL  \nATOM      4   Al MOL     1       0.804   3.889  10.437  1.00  0.00          AL  \nATOM      5   Al MOL     1       3.636   3.874  10.382  1.00  0.00          AL  \nATOM      6   Al MOL     1       6.632   3.897  10.541  1.00  0.00          AL  \nATOM      7   Al MOL     1       2.163   6.418  10.455  1.00  0.00          AL  \nATOM      8   Al MOL     1       5.047   6.434  10.466  1.00  0.00          AL  \nATOM      9   Al MOL     1       8.040   6.302  10.533  1.00  0.00          AL  \nATOM     10   Al MOL     1       0.783   8.736  10.539  1.00  0.00          AL  \nATOM     11   Al MOL     1       3.567   8.698  10.364  1.00  0.00          AL  \nATOM     12   Al MOL     1       6.514   8.902  10.626  1.00  0.00          AL  \nATOM     13   Al MOL     1       0.792   2.357  12.840  1.00  0.00          AL  \nATOM     14   Al MOL     1       3.630   2.277  12.704  1.00  0.00          AL  \nATOM     15   Al MOL     1       6.360   2.264  12.782  1.00  0.00          AL  \nATOM     16   Al MOL     1       2.069   4.832  12.821  1.00  0.00          AL  \nATOM     17   Al MOL     1       4.938   4.745  12.911  1.00  0.00          AL  \nATOM     18   Al MOL     1       7.799   4.770  12.827  1.00  0.00          AL  \nATOM     19   Al MOL     1       0.504   7.286  12.873  1.00  0.00          AL  \nATOM     20   Al MOL     1       3.552   7.239  12.797  1.00  0.00          AL  \nATOM     21   Al MOL     1       6.402   7.306  12.736  1.00  0.00          AL  \nATOM     22   Al MOL     1       2.110   9.703  12.840  1.00  0.00          AL  \nATOM     23   Al MOL     1       4.981   9.844  12.831  1.00  0.00          AL  \nATOM     24   Al MOL     1       7.809   9.736  12.859  1.00  0.00          AL  \nATOM     25   Al MOL     1       0.768   0.704  15.208  1.00  0.00          AL  \nATOM     26   Al MOL     1       3.501   0.775  15.196  1.00  0.00          AL  \nATOM     27   Al MOL     1       6.374   0.643  15.032  1.00  0.00          AL  \nATOM     28   Al MOL     1       2.129   3.277  15.069  1.00  0.00          AL  \nATOM     29   Al MOL     1       5.028   3.143  15.125  1.00  0.00          AL  \nATOM     30   Al MOL     1       7.822   3.095  15.064  1.00  0.00          AL  \nATOM     31   Al MOL     1       0.678   5.564  15.092  1.00  0.00          AL  \nATOM     32   Al MOL     1       3.506   5.734  15.020  1.00  0.00          AL  \nATOM     33   Al MOL     1       6.469   5.677  15.041  1.00  0.00          AL  \nATOM     34   Al MOL     1       2.091   8.136  15.161  1.00  0.00          AL  \nATOM     35   Al MOL     1       4.986   8.071  15.042  1.00  0.00          AL  \nATOM     36   Al MOL     1       7.866   8.093  15.283  1.00  0.00          AL  \nATOM     37   Al MOL     1       2.181   1.686  17.393  1.00  0.00          AL  \nATOM     38   Al MOL     1       4.869   1.744  17.377  1.00  0.00          AL  \nATOM     39   Al MOL     1       7.870   1.543  17.304  1.00  0.00          AL  \nATOM     40   Al MOL     1       0.697   4.041  17.267  1.00  0.00          AL  \nATOM     41   Al MOL     1       3.446   4.149  17.393  1.00  0.00          AL  \nATOM     42   Al MOL     1       6.596   4.056  17.328  1.00  0.00          AL  \nATOM     43   Al MOL     1       2.144   6.554  17.434  1.00  0.00          AL  \nATOM     44   Al MOL     1       4.980   6.620  17.322  1.00  0.00          AL  \nATOM     45   Al MOL     1       7.848   6.459  17.354  1.00  0.00          AL  \nATOM     46   Al MOL     1       0.750   9.059  17.474  1.00  0.00          AL  \nATOM     47   Al MOL     1       3.661   9.058  17.445  1.00  0.00          AL  \nATOM     48   Al MOL     1       6.361   9.044  17.344  1.00  0.00          AL  \nATOM     49   Al MOL     1       0.657   2.572  19.704  1.00  0.00          AL  \nATOM     50   Al MOL     1       3.394   2.527  19.805  1.00  0.00          AL  \nATOM     51   Al MOL     1       6.288   2.597  19.493  1.00  0.00          AL  \nATOM     52   Al MOL     1       1.983   4.986  19.974  1.00  0.00          AL  \nATOM     53   Al MOL     1       4.852   4.912  19.643  1.00  0.00          AL  \nATOM     54   Al MOL     1       7.814   4.883  19.710  1.00  0.00          AL  \nATOM     55   Al MOL     1       0.696   7.411  19.676  1.00  0.00          AL  \nATOM     56   Al MOL     1       3.486   7.310  19.761  1.00  0.00          AL  \nATOM     57   Al MOL     1       6.425   7.387  19.642  1.00  0.00          AL  \nATOM     58   Al MOL     1       2.226   9.982  19.709  1.00  0.00          AL  \nATOM     59   Al MOL     1       4.993   9.983  19.730  1.00  0.00          AL  \nATOM     60   Al MOL     1       7.931   9.929  19.577  1.00  0.00          AL  \nATOM     61   Al MOL     1       0.541   0.759  21.758  1.00  0.00          AL  \nATOM     62   Al MOL     1       3.572   0.725  22.122  1.00  0.00          AL  \nATOM     63   Al MOL     1       6.471   0.728  21.888  1.00  0.00          AL  \nATOM     64   Al MOL     1       1.994   3.121  22.121  1.00  0.00          AL  \nATOM     65   Al MOL     1       5.066   3.003  22.017  1.00  0.00          AL  \nATOM     66   Al MOL     1       7.823   2.996  22.055  1.00  0.00          AL  \nATOM     67   Al MOL     1       0.545   5.662  22.401  1.00  0.00          AL  \nATOM     68   Al MOL     1       3.485   5.716  22.149  1.00  0.00          AL  \nATOM     69   Al MOL     1       6.235   5.681  21.944  1.00  0.00          AL  \nATOM     70   Al MOL     1       2.026   8.201  22.053  1.00  0.00          AL  \nATOM     71   Al MOL     1       4.889   8.140  21.882  1.00  0.00          AL  \nATOM     72   Al MOL     1       7.838   8.108  21.918  1.00  0.00          AL  \nATOM     73    O MOL     1      10.655   1.413  22.803  1.00  0.00           O  \nATOM     74    O MOL     1       6.395   4.103  22.710  1.00  0.00           O  \nATOM     75    O MOL     1       3.390   6.512  26.014  1.00  0.00           O  \nATOM     76    O MOL     1       3.589   5.383  25.548  1.00  0.00           O  \nATOM     77    O MOL     1       4.239   0.071   0.926  1.00  0.00           O  \nATOM     78    O MOL     1       3.947   0.178  -0.268  1.00  0.00           O  \nATOM     79    O MOL     1       4.475   6.389   1.116  1.00  0.00           O  \nATOM     80    O MOL     1       5.058   6.865   0.137  1.00  0.00           O  \nATOM     81    O MOL     1       7.293   4.705   1.473  1.00  0.00           O  \nATOM     82    O MOL     1       7.403   5.374   2.503  1.00  0.00           O  \nATOM     83    O MOL     1       7.287  -1.067   1.560  1.00  0.00           O  \nATOM     84    O MOL     1       7.382  -0.391   0.533  1.00  0.00           O  \nATOM     85    O MOL     1       3.508   4.847  29.570  1.00  0.00           O  \nATOM     86    O MOL     1       2.905   5.854  29.187  1.00  0.00           O  \nATOM     87    O MOL     1       2.173   6.543  22.936  1.00  0.00           O  \nATOM     88    O MOL     1       3.508   3.866  22.841  1.00  0.00           O  \nATOM     89    O MOL     1       0.448   3.706  27.489  1.00  0.00           O  \nATOM     90    O MOL     1       1.345   3.679  26.637  1.00  0.00           O  \nATOM     91    O MOL     1       7.979   7.977   9.778  1.00  0.00           O  \nATOM     92    O MOL     1       6.526   5.566   9.808  1.00  0.00           O  \nATOM     93    O MOL     1       2.185   3.080   9.537  1.00  0.00           O  \nATOM     94    O MOL     1       3.630   5.497   9.731  1.00  0.00           O  \nATOM     95    O MOL     1       7.600   6.472  22.798  1.00  0.00           O  \nATOM     96    O MOL     1       9.196   3.938  22.875  1.00  0.00           O  \nATOM     97    O MOL     1       3.598   0.534   9.764  1.00  0.00           O  \nATOM     98    O MOL     1       5.058   2.993   9.629  1.00  0.00           O  \nATOM     99    O MOL     1       0.628  10.554   9.807  1.00  0.00           O  \nATOM    100    O MOL     1       5.057   8.073   9.772  1.00  0.00           O  \nATOM    101    O MOL     1       4.089   9.875  25.542  1.00  0.00           O  \nATOM    102    O MOL     1       5.055   9.211  25.937  1.00  0.00           O  \nATOM    103    O MOL     1       1.687   7.794   0.285  1.00  0.00           O  \nATOM    104    O MOL     1       1.220   6.653   0.348  1.00  0.00           O  \nATOM    105    O MOL     1       6.904   5.757  25.962  1.00  0.00           O  \nATOM    106    O MOL     1       6.694   5.975  27.162  1.00  0.00           O  \nATOM    107    O MOL     1       6.514   9.032  22.756  1.00  0.00           O  \nATOM    108    O MOL     1       3.646   9.022  22.814  1.00  0.00           O  \nATOM    109    O MOL     1       3.502   1.680  28.099  1.00  0.00           O  \nATOM    110    O MOL     1       2.436   1.142  28.417  1.00  0.00           O  \nATOM    111    O MOL     1      -2.478   1.680  25.391  1.00  0.00           O  \nATOM    112    O MOL     1      -1.327   2.134  25.429  1.00  0.00           O  \nENDMDL\n",
           "ext": "pdb"
          }
         ],
         "kwargs": {},
         "methodName": "replaceStructure",
         "reconstruc_color_scheme": false,
         "target": "Widget",
         "type": "call_method"
        },
        {
         "args": [
          "this._Q = [[1.0, 0.0, 0.0], [0.0, 1.0, 0.0], [0.0, 0.0, 1.0]]"
         ],
         "kwargs": {},
         "methodName": "executeCode",
         "reconstruc_color_scheme": false,
         "target": "Widget",
         "type": "call_method"
        },
        {
         "args": [
          {
           "data": "CRYST1    8.591    9.920   31.691  90.00  90.00  90.00 P 1\nMODEL     1\nATOM      1   Al MOL     1       2.064   1.533  10.390  1.00  0.00          AL  \nATOM      2   Al MOL     1       5.189   1.530  10.421  1.00  0.00          AL  \nATOM      3   Al MOL     1       7.852   1.457  10.739  1.00  0.00          AL  \nATOM      4   Al MOL     1       0.591   4.019  10.845  1.00  0.00          AL  \nATOM      5   Al MOL     1       3.516   4.038  10.281  1.00  0.00          AL  \nATOM      6   Al MOL     1       6.586   3.932  10.357  1.00  0.00          AL  \nATOM      7   Al MOL     1       2.100   6.555  10.512  1.00  0.00          AL  \nATOM      8   Al MOL     1       4.938   6.516  10.103  1.00  0.00          AL  \nATOM      9   Al MOL     1       7.951   6.452  10.410  1.00  0.00          AL  \nATOM     10   Al MOL     1       0.730   8.830  10.475  1.00  0.00          AL  \nATOM     11   Al MOL     1       3.451   8.946  10.323  1.00  0.00          AL  \nATOM     12   Al MOL     1       6.371   9.170  10.289  1.00  0.00          AL  \nATOM     13   Al MOL     1       0.603   2.270  13.000  1.00  0.00          AL  \nATOM     14   Al MOL     1       3.445   2.239  12.732  1.00  0.00          AL  \nATOM     15   Al MOL     1       6.155   2.169  12.954  1.00  0.00          AL  \nATOM     16   Al MOL     1       2.276   4.715  12.883  1.00  0.00          AL  \nATOM     17   Al MOL     1       4.946   4.772  12.515  1.00  0.00          AL  \nATOM     18   Al MOL     1       7.755   4.857  12.956  1.00  0.00          AL  \nATOM     19   Al MOL     1       0.809   7.278  12.914  1.00  0.00          AL  \nATOM     20   Al MOL     1       3.682   7.177  12.747  1.00  0.00          AL  \nATOM     21   Al MOL     1       6.374   7.191  12.781  1.00  0.00          AL  \nATOM     22   Al MOL     1       2.106   9.784  12.745  1.00  0.00          AL  \nATOM     23   Al MOL     1       4.946   9.676  12.651  1.00  0.00          AL  \nATOM     24   Al MOL     1       7.613   9.664  12.918  1.00  0.00          AL  \nATOM     25   Al MOL     1       0.595   0.676  15.211  1.00  0.00          AL  \nATOM     26   Al MOL     1       3.561   0.639  15.067  1.00  0.00          AL  \nATOM     27   Al MOL     1       6.464   0.776  15.234  1.00  0.00          AL  \nATOM     28   Al MOL     1       2.017   3.088  15.175  1.00  0.00          AL  \nATOM     29   Al MOL     1       4.934   3.242  15.022  1.00  0.00          AL  \nATOM     30   Al MOL     1       7.877   3.301  15.287  1.00  0.00          AL  \nATOM     31   Al MOL     1       0.727   5.663  15.302  1.00  0.00          AL  \nATOM     32   Al MOL     1       3.515   5.656  15.014  1.00  0.00          AL  \nATOM     33   Al MOL     1       6.475   5.696  15.217  1.00  0.00          AL  \nATOM     34   Al MOL     1       2.250   8.142  15.138  1.00  0.00          AL  \nATOM     35   Al MOL     1       4.999   8.135  15.137  1.00  0.00          AL  \nATOM     36   Al MOL     1       7.882   8.110  15.100  1.00  0.00          AL  \nATOM     37   Al MOL     1       2.083   1.512  17.407  1.00  0.00          AL  \nATOM     38   Al MOL     1       5.087   1.489  17.403  1.00  0.00          AL  \nATOM     39   Al MOL     1       7.801   1.644  17.504  1.00  0.00          AL  \nATOM     40   Al MOL     1       0.532   4.110  17.575  1.00  0.00          AL  \nATOM     41   Al MOL     1       3.593   3.970  17.383  1.00  0.00          AL  \nATOM     42   Al MOL     1       6.337   4.026  17.457  1.00  0.00          AL  \nATOM     43   Al MOL     1       2.135   6.491  17.516  1.00  0.00          AL  \nATOM     44   Al MOL     1       4.979   6.572  17.420  1.00  0.00          AL  \nATOM     45   Al MOL     1       7.805   6.665  17.422  1.00  0.00          AL  \nATOM     46   Al MOL     1       0.643   8.952  17.365  1.00  0.00          AL  \nATOM     47   Al MOL     1       3.578   9.033  17.332  1.00  0.00          AL  \nATOM     48   Al MOL     1       6.442   8.924  17.273  1.00  0.00          AL  \nATOM     49   Al MOL     1       0.809   2.262  19.896  1.00  0.00          AL  \nATOM     50   Al MOL     1       3.555   2.455  19.685  1.00  0.00          AL  \nATOM     51   Al MOL     1       6.501   2.445  19.729  1.00  0.00          AL  \nATOM     52   Al MOL     1       2.213   4.866  19.640  1.00  0.00          AL  \nATOM     53   Al MOL     1       4.999   4.861  19.899  1.00  0.00          AL  \nATOM     54   Al MOL     1       7.880   4.897  19.752  1.00  0.00          AL  \nATOM     55   Al MOL     1       0.708   7.337  19.788  1.00  0.00          AL  \nATOM     56   Al MOL     1       3.609   7.361  19.674  1.00  0.00          AL  \nATOM     57   Al MOL     1       6.305   7.312  19.678  1.00  0.00          AL  \nATOM     58   Al MOL     1       2.054   9.751  19.735  1.00  0.00          AL  \nATOM     59   Al MOL     1       4.869   9.746  19.633  1.00  0.00          AL  \nATOM     60   Al MOL     1       7.819   9.769  19.774  1.00  0.00          AL  \nATOM     61   Al MOL     1       0.773   0.715  22.148  1.00  0.00          AL  \nATOM     62   Al MOL     1       3.675   0.864  22.059  1.00  0.00          AL  \nATOM     63   Al MOL     1       6.511   0.807  22.031  1.00  0.00          AL  \nATOM     64   Al MOL     1       1.972   3.225  22.454  1.00  0.00          AL  \nATOM     65   Al MOL     1       4.861   3.125  22.117  1.00  0.00          AL  \nATOM     66   Al MOL     1       7.804   3.095  22.039  1.00  0.00          AL  \nATOM     67   Al MOL     1       0.739   5.608  22.044  1.00  0.00          AL  \nATOM     68   Al MOL     1       3.620   5.607  22.098  1.00  0.00          AL  \nATOM     69   Al MOL     1       6.469   5.976  21.986  1.00  0.00          AL  \nATOM     70   Al MOL     1       2.097   8.164  22.071  1.00  0.00          AL  \nATOM     71   Al MOL     1       5.035   8.113  22.057  1.00  0.00          AL  \nATOM     72   Al MOL     1       7.940   8.305  22.186  1.00  0.00          AL  \nATOM     73    O MOL     1      10.777   1.501  23.080  1.00  0.00           O  \nATOM     74    O MOL     1       6.381   4.122  22.660  1.00  0.00           O  \nATOM     75    O MOL     1       3.657   6.521  26.016  1.00  0.00           O  \nATOM     76    O MOL     1       3.511   5.351  25.642  1.00  0.00           O  \nATOM     77    O MOL     1       4.247   0.118   0.704  1.00  0.00           O  \nATOM     78    O MOL     1       4.063   0.225  -0.511  1.00  0.00           O  \nATOM     79    O MOL     1       4.487   6.304   0.902  1.00  0.00           O  \nATOM     80    O MOL     1       4.907   6.913  -0.087  1.00  0.00           O  \nATOM     81    O MOL     1       7.233   4.814   1.253  1.00  0.00           O  \nATOM     82    O MOL     1       7.483   5.452   2.278  1.00  0.00           O  \nATOM     83    O MOL     1       7.299  -1.113   1.307  1.00  0.00           O  \nATOM     84    O MOL     1       7.371  -0.370   0.326  1.00  0.00           O  \nATOM     85    O MOL     1       3.337   4.722  29.384  1.00  0.00           O  \nATOM     86    O MOL     1       2.805   5.740  28.927  1.00  0.00           O  \nATOM     87    O MOL     1       2.193   6.592  22.832  1.00  0.00           O  \nATOM     88    O MOL     1       3.571   3.978  23.002  1.00  0.00           O  \nATOM     89    O MOL     1       0.626   3.579  27.284  1.00  0.00           O  \nATOM     90    O MOL     1       1.076   3.278  26.172  1.00  0.00           O  \nATOM     91    O MOL     1       7.850   8.164   9.771  1.00  0.00           O  \nATOM     92    O MOL     1       6.418   5.617   9.662  1.00  0.00           O  \nATOM     93    O MOL     1       1.933   3.146   9.752  1.00  0.00           O  \nATOM     94    O MOL     1       3.430   5.642   9.529  1.00  0.00           O  \nATOM     95    O MOL     1       7.965   6.585  22.794  1.00  0.00           O  \nATOM     96    O MOL     1       9.143   4.008  23.032  1.00  0.00           O  \nATOM     97    O MOL     1       3.591   0.841   9.713  1.00  0.00           O  \nATOM     98    O MOL     1       5.145   3.213   9.678  1.00  0.00           O  \nATOM     99    O MOL     1       0.583  10.533   9.813  1.00  0.00           O  \nATOM    100    O MOL     1       5.037   8.191   9.641  1.00  0.00           O  \nATOM    101    O MOL     1       3.636   9.809  25.604  1.00  0.00           O  \nATOM    102    O MOL     1       4.424   9.115  26.258  1.00  0.00           O  \nATOM    103    O MOL     1       1.661   7.746  -0.004  1.00  0.00           O  \nATOM    104    O MOL     1       1.253   6.595   0.178  1.00  0.00           O  \nATOM    105    O MOL     1       7.305   5.649  25.830  1.00  0.00           O  \nATOM    106    O MOL     1       7.227   5.823  27.051  1.00  0.00           O  \nATOM    107    O MOL     1       6.391   8.965  22.905  1.00  0.00           O  \nATOM    108    O MOL     1       3.523   8.928  22.626  1.00  0.00           O  \nATOM    109    O MOL     1       3.646   1.842  27.852  1.00  0.00           O  \nATOM    110    O MOL     1       2.576   1.316  28.181  1.00  0.00           O  \nATOM    111    O MOL     1      -2.287   1.610  25.636  1.00  0.00           O  \nATOM    112    O MOL     1      -1.202   2.017  25.185  1.00  0.00           O  \nENDMDL\n",
           "ext": "pdb"
          }
         ],
         "kwargs": {},
         "methodName": "replaceStructure",
         "reconstruc_color_scheme": false,
         "target": "Widget",
         "type": "call_method"
        },
        {
         "args": [
          "this._Q = [[1.0, 0.0, 0.0], [0.0, 1.0, 0.0], [0.0, 0.0, 1.0]]"
         ],
         "kwargs": {},
         "methodName": "executeCode",
         "reconstruc_color_scheme": false,
         "target": "Widget",
         "type": "call_method"
        },
        {
         "args": [
          {
           "data": "CRYST1    8.591    9.920   31.691  90.00  90.00  90.00 P 1\nMODEL     1\nATOM      1   Al MOL     1       2.054   1.520  10.444  1.00  0.00          AL  \nATOM      2   Al MOL     1       4.993   1.455  10.485  1.00  0.00          AL  \nATOM      3   Al MOL     1       7.673   1.565  10.428  1.00  0.00          AL  \nATOM      4   Al MOL     1       0.495   4.042  10.485  1.00  0.00          AL  \nATOM      5   Al MOL     1       3.398   4.050  10.516  1.00  0.00          AL  \nATOM      6   Al MOL     1       6.425   3.869  10.506  1.00  0.00          AL  \nATOM      7   Al MOL     1       1.993   6.510  10.684  1.00  0.00          AL  \nATOM      8   Al MOL     1       4.921   6.569  10.511  1.00  0.00          AL  \nATOM      9   Al MOL     1       7.911   6.474  10.349  1.00  0.00          AL  \nATOM     10   Al MOL     1       0.753   8.972  10.435  1.00  0.00          AL  \nATOM     11   Al MOL     1       3.403   9.051  10.600  1.00  0.00          AL  \nATOM     12   Al MOL     1       6.383   9.083  10.685  1.00  0.00          AL  \nATOM     13   Al MOL     1       0.823   2.420  12.776  1.00  0.00          AL  \nATOM     14   Al MOL     1       3.530   2.495  12.769  1.00  0.00          AL  \nATOM     15   Al MOL     1       6.522   2.591  12.912  1.00  0.00          AL  \nATOM     16   Al MOL     1       2.084   4.910  12.836  1.00  0.00          AL  \nATOM     17   Al MOL     1       4.866   4.963  12.831  1.00  0.00          AL  \nATOM     18   Al MOL     1       7.872   4.885  12.875  1.00  0.00          AL  \nATOM     19   Al MOL     1       0.549   7.341  12.785  1.00  0.00          AL  \nATOM     20   Al MOL     1       3.430   7.320  12.880  1.00  0.00          AL  \nATOM     21   Al MOL     1       6.352   7.338  12.835  1.00  0.00          AL  \nATOM     22   Al MOL     1       2.104   9.860  12.918  1.00  0.00          AL  \nATOM     23   Al MOL     1       4.966   9.978  12.823  1.00  0.00          AL  \nATOM     24   Al MOL     1       8.012   9.921  12.792  1.00  0.00          AL  \nATOM     25   Al MOL     1       0.695   0.764  15.162  1.00  0.00          AL  \nATOM     26   Al MOL     1       3.496   0.711  15.164  1.00  0.00          AL  \nATOM     27   Al MOL     1       6.426   0.591  15.042  1.00  0.00          AL  \nATOM     28   Al MOL     1       2.185   3.221  15.056  1.00  0.00          AL  \nATOM     29   Al MOL     1       4.953   3.139  15.281  1.00  0.00          AL  \nATOM     30   Al MOL     1       7.794   3.036  15.230  1.00  0.00          AL  \nATOM     31   Al MOL     1       0.588   5.659  15.089  1.00  0.00          AL  \nATOM     32   Al MOL     1       3.591   5.682  15.125  1.00  0.00          AL  \nATOM     33   Al MOL     1       6.423   5.641  15.172  1.00  0.00          AL  \nATOM     34   Al MOL     1       2.068   8.068  15.101  1.00  0.00          AL  \nATOM     35   Al MOL     1       4.900   8.180  15.103  1.00  0.00          AL  \nATOM     36   Al MOL     1       7.708   8.164  15.275  1.00  0.00          AL  \nATOM     37   Al MOL     1       2.094   1.425  17.549  1.00  0.00          AL  \nATOM     38   Al MOL     1       4.909   1.496  17.431  1.00  0.00          AL  \nATOM     39   Al MOL     1       7.898   1.509  17.417  1.00  0.00          AL  \nATOM     40   Al MOL     1       0.821   3.922  17.404  1.00  0.00          AL  \nATOM     41   Al MOL     1       3.520   4.059  17.582  1.00  0.00          AL  \nATOM     42   Al MOL     1       6.528   3.823  17.374  1.00  0.00          AL  \nATOM     43   Al MOL     1       1.980   6.415  17.348  1.00  0.00          AL  \nATOM     44   Al MOL     1       5.023   6.551  17.524  1.00  0.00          AL  \nATOM     45   Al MOL     1       7.907   6.278  17.393  1.00  0.00          AL  \nATOM     46   Al MOL     1       0.685   8.915  17.426  1.00  0.00          AL  \nATOM     47   Al MOL     1       3.514   8.879  17.380  1.00  0.00          AL  \nATOM     48   Al MOL     1       6.302   8.966  17.458  1.00  0.00          AL  \nATOM     49   Al MOL     1       0.477   2.366  19.738  1.00  0.00          AL  \nATOM     50   Al MOL     1       3.574   2.308  19.771  1.00  0.00          AL  \nATOM     51   Al MOL     1       6.482   2.313  19.760  1.00  0.00          AL  \nATOM     52   Al MOL     1       2.154   4.771  19.710  1.00  0.00          AL  \nATOM     53   Al MOL     1       5.044   4.812  19.655  1.00  0.00          AL  \nATOM     54   Al MOL     1       7.735   4.745  19.917  1.00  0.00          AL  \nATOM     55   Al MOL     1       0.698   7.184  19.706  1.00  0.00          AL  \nATOM     56   Al MOL     1       3.531   7.364  19.585  1.00  0.00          AL  \nATOM     57   Al MOL     1       6.386   7.270  19.726  1.00  0.00          AL  \nATOM     58   Al MOL     1       2.291   9.743  19.789  1.00  0.00          AL  \nATOM     59   Al MOL     1       5.037   9.704  19.796  1.00  0.00          AL  \nATOM     60   Al MOL     1       7.948   9.828  19.760  1.00  0.00          AL  \nATOM     61   Al MOL     1       0.784   0.734  21.792  1.00  0.00          AL  \nATOM     62   Al MOL     1       3.584   0.740  22.215  1.00  0.00          AL  \nATOM     63   Al MOL     1       6.460   0.728  22.111  1.00  0.00          AL  \nATOM     64   Al MOL     1       2.302   3.256  22.070  1.00  0.00          AL  \nATOM     65   Al MOL     1       5.073   3.021  22.244  1.00  0.00          AL  \nATOM     66   Al MOL     1       7.929   3.058  22.387  1.00  0.00          AL  \nATOM     67   Al MOL     1       0.810   5.789  22.111  1.00  0.00          AL  \nATOM     68   Al MOL     1       3.643   5.794  21.914  1.00  0.00          AL  \nATOM     69   Al MOL     1       6.447   5.627  22.227  1.00  0.00          AL  \nATOM     70   Al MOL     1       2.091   8.179  21.958  1.00  0.00          AL  \nATOM     71   Al MOL     1       5.120   8.066  22.078  1.00  0.00          AL  \nATOM     72   Al MOL     1       7.962   8.379  22.427  1.00  0.00          AL  \nATOM     73    O MOL     1      10.777   1.572  22.763  1.00  0.00           O  \nATOM     74    O MOL     1       6.461   3.918  22.927  1.00  0.00           O  \nATOM     75    O MOL     1       4.036   6.246  25.919  1.00  0.00           O  \nATOM     76    O MOL     1       3.452   5.156  25.903  1.00  0.00           O  \nATOM     77    O MOL     1       4.154   0.149   0.450  1.00  0.00           O  \nATOM     78    O MOL     1       4.211   0.256  -0.778  1.00  0.00           O  \nATOM     79    O MOL     1       4.426   6.339   0.663  1.00  0.00           O  \nATOM     80    O MOL     1       4.818   6.941  -0.341  1.00  0.00           O  \nATOM     81    O MOL     1       7.334   4.829   1.030  1.00  0.00           O  \nATOM     82    O MOL     1       7.479   5.511   2.047  1.00  0.00           O  \nATOM     83    O MOL     1       7.310  -1.254   0.978  1.00  0.00           O  \nATOM     84    O MOL     1       7.386  -0.327   0.166  1.00  0.00           O  \nATOM     85    O MOL     1       3.132   4.674  29.331  1.00  0.00           O  \nATOM     86    O MOL     1       2.719   5.694  28.769  1.00  0.00           O  \nATOM     87    O MOL     1       2.137   6.649  22.849  1.00  0.00           O  \nATOM     88    O MOL     1       3.791   4.228  22.714  1.00  0.00           O  \nATOM     89    O MOL     1       0.846   3.378  27.071  1.00  0.00           O  \nATOM     90    O MOL     1       1.194   3.147  25.908  1.00  0.00           O  \nATOM     91    O MOL     1       7.685   8.179   9.817  1.00  0.00           O  \nATOM     92    O MOL     1       6.366   5.650   9.827  1.00  0.00           O  \nATOM     93    O MOL     1       1.902   3.215   9.844  1.00  0.00           O  \nATOM     94    O MOL     1       3.384   5.686   9.898  1.00  0.00           O  \nATOM     95    O MOL     1       7.848   6.584  22.893  1.00  0.00           O  \nATOM     96    O MOL     1       9.486   4.056  22.804  1.00  0.00           O  \nATOM     97    O MOL     1       3.448   0.635   9.718  1.00  0.00           O  \nATOM     98    O MOL     1       4.828   3.136   9.844  1.00  0.00           O  \nATOM     99    O MOL     1       0.585  10.645   9.594  1.00  0.00           O  \nATOM    100    O MOL     1       4.818   8.197   9.901  1.00  0.00           O  \nATOM    101    O MOL     1       3.021   9.467  25.704  1.00  0.00           O  \nATOM    102    O MOL     1       3.946   9.371  26.520  1.00  0.00           O  \nATOM    103    O MOL     1       1.664   7.696  -0.256  1.00  0.00           O  \nATOM    104    O MOL     1       1.227   6.564  -0.025  1.00  0.00           O  \nATOM    105    O MOL     1       7.564   5.464  25.787  1.00  0.00           O  \nATOM    106    O MOL     1       7.359   5.925  26.917  1.00  0.00           O  \nATOM    107    O MOL     1       6.396   9.163  22.995  1.00  0.00           O  \nATOM    108    O MOL     1       3.586   8.924  23.014  1.00  0.00           O  \nATOM    109    O MOL     1       3.790   2.104  27.886  1.00  0.00           O  \nATOM    110    O MOL     1       2.753   1.480  28.132  1.00  0.00           O  \nATOM    111    O MOL     1      -1.852   1.943  25.454  1.00  0.00           O  \nATOM    112    O MOL     1      -1.029   1.712  24.496  1.00  0.00           O  \nENDMDL\n",
           "ext": "pdb"
          }
         ],
         "kwargs": {},
         "methodName": "replaceStructure",
         "reconstruc_color_scheme": false,
         "target": "Widget",
         "type": "call_method"
        },
        {
         "args": [
          "this._Q = [[1.0, 0.0, 0.0], [0.0, 1.0, 0.0], [0.0, 0.0, 1.0]]"
         ],
         "kwargs": {},
         "methodName": "executeCode",
         "reconstruc_color_scheme": false,
         "target": "Widget",
         "type": "call_method"
        },
        {
         "args": [
          {
           "data": "CRYST1    8.591    9.920   31.691  90.00  90.00  90.00 P 1\nMODEL     1\nATOM      1   Al MOL     1       2.013   1.502  10.268  1.00  0.00          AL  \nATOM      2   Al MOL     1       5.054   1.587  10.587  1.00  0.00          AL  \nATOM      3   Al MOL     1       7.747   1.603  10.677  1.00  0.00          AL  \nATOM      4   Al MOL     1       0.649   4.081  10.612  1.00  0.00          AL  \nATOM      5   Al MOL     1       3.480   4.105  10.431  1.00  0.00          AL  \nATOM      6   Al MOL     1       6.462   4.007  10.487  1.00  0.00          AL  \nATOM      7   Al MOL     1       1.984   6.589  10.729  1.00  0.00          AL  \nATOM      8   Al MOL     1       4.895   6.586  10.612  1.00  0.00          AL  \nATOM      9   Al MOL     1       7.892   6.370  10.533  1.00  0.00          AL  \nATOM     10   Al MOL     1       0.649   8.958  10.593  1.00  0.00          AL  \nATOM     11   Al MOL     1       3.406   9.073  10.729  1.00  0.00          AL  \nATOM     12   Al MOL     1       6.259   9.022  10.648  1.00  0.00          AL  \nATOM     13   Al MOL     1       0.593   2.350  12.763  1.00  0.00          AL  \nATOM     14   Al MOL     1       3.412   2.461  12.891  1.00  0.00          AL  \nATOM     15   Al MOL     1       6.374   2.402  12.784  1.00  0.00          AL  \nATOM     16   Al MOL     1       1.928   4.916  12.830  1.00  0.00          AL  \nATOM     17   Al MOL     1       4.895   4.901  12.967  1.00  0.00          AL  \nATOM     18   Al MOL     1       7.710   5.007  12.872  1.00  0.00          AL  \nATOM     19   Al MOL     1       0.613   7.445  12.850  1.00  0.00          AL  \nATOM     20   Al MOL     1       3.400   7.400  12.944  1.00  0.00          AL  \nATOM     21   Al MOL     1       6.339   7.429  12.913  1.00  0.00          AL  \nATOM     22   Al MOL     1       1.985   9.966  12.797  1.00  0.00          AL  \nATOM     23   Al MOL     1       4.866   9.733  13.070  1.00  0.00          AL  \nATOM     24   Al MOL     1       7.749   9.836  12.925  1.00  0.00          AL  \nATOM     25   Al MOL     1       0.667   0.648  15.120  1.00  0.00          AL  \nATOM     26   Al MOL     1       3.555   0.729  15.218  1.00  0.00          AL  \nATOM     27   Al MOL     1       6.405   0.815  15.268  1.00  0.00          AL  \nATOM     28   Al MOL     1       2.099   3.135  15.185  1.00  0.00          AL  \nATOM     29   Al MOL     1       5.072   3.174  15.191  1.00  0.00          AL  \nATOM     30   Al MOL     1       7.819   3.253  15.022  1.00  0.00          AL  \nATOM     31   Al MOL     1       0.700   5.726  15.258  1.00  0.00          AL  \nATOM     32   Al MOL     1       3.422   5.708  15.193  1.00  0.00          AL  \nATOM     33   Al MOL     1       6.393   5.634  15.192  1.00  0.00          AL  \nATOM     34   Al MOL     1       2.132   8.209  15.252  1.00  0.00          AL  \nATOM     35   Al MOL     1       4.945   8.141  15.330  1.00  0.00          AL  \nATOM     36   Al MOL     1       7.819   8.105  15.272  1.00  0.00          AL  \nATOM     37   Al MOL     1       2.104   1.611  17.404  1.00  0.00          AL  \nATOM     38   Al MOL     1       4.960   1.518  17.522  1.00  0.00          AL  \nATOM     39   Al MOL     1       7.916   1.489  17.499  1.00  0.00          AL  \nATOM     40   Al MOL     1       0.621   4.002  17.412  1.00  0.00          AL  \nATOM     41   Al MOL     1       3.529   3.875  17.452  1.00  0.00          AL  \nATOM     42   Al MOL     1       6.382   4.003  17.470  1.00  0.00          AL  \nATOM     43   Al MOL     1       2.179   6.477  17.560  1.00  0.00          AL  \nATOM     44   Al MOL     1       4.911   6.388  17.544  1.00  0.00          AL  \nATOM     45   Al MOL     1       7.859   6.527  17.489  1.00  0.00          AL  \nATOM     46   Al MOL     1       0.729   8.911  17.553  1.00  0.00          AL  \nATOM     47   Al MOL     1       3.597   8.961  17.639  1.00  0.00          AL  \nATOM     48   Al MOL     1       6.364   8.842  17.471  1.00  0.00          AL  \nATOM     49   Al MOL     1       0.690   2.330  19.775  1.00  0.00          AL  \nATOM     50   Al MOL     1       3.525   2.348  19.678  1.00  0.00          AL  \nATOM     51   Al MOL     1       6.603   2.340  19.861  1.00  0.00          AL  \nATOM     52   Al MOL     1       2.129   4.784  19.782  1.00  0.00          AL  \nATOM     53   Al MOL     1       4.968   4.806  19.631  1.00  0.00          AL  \nATOM     54   Al MOL     1       7.969   4.790  19.683  1.00  0.00          AL  \nATOM     55   Al MOL     1       0.826   7.349  19.759  1.00  0.00          AL  \nATOM     56   Al MOL     1       3.640   7.288  19.814  1.00  0.00          AL  \nATOM     57   Al MOL     1       6.404   7.268  19.790  1.00  0.00          AL  \nATOM     58   Al MOL     1       2.006   9.819  19.717  1.00  0.00          AL  \nATOM     59   Al MOL     1       4.993   9.810  19.785  1.00  0.00          AL  \nATOM     60   Al MOL     1       7.796   9.836  19.813  1.00  0.00          AL  \nATOM     61   Al MOL     1       0.712   0.552  21.964  1.00  0.00          AL  \nATOM     62   Al MOL     1       3.785   0.673  22.053  1.00  0.00          AL  \nATOM     63   Al MOL     1       6.358   0.549  22.004  1.00  0.00          AL  \nATOM     64   Al MOL     1       2.200   3.092  22.076  1.00  0.00          AL  \nATOM     65   Al MOL     1       5.021   3.132  21.956  1.00  0.00          AL  \nATOM     66   Al MOL     1       7.821   3.276  23.034  1.00  0.00          AL  \nATOM     67   Al MOL     1       0.800   5.649  22.213  1.00  0.00          AL  \nATOM     68   Al MOL     1       3.693   5.692  22.190  1.00  0.00          AL  \nATOM     69   Al MOL     1       6.388   5.778  21.870  1.00  0.00          AL  \nATOM     70   Al MOL     1       2.253   8.181  22.055  1.00  0.00          AL  \nATOM     71   Al MOL     1       4.997   8.089  22.016  1.00  0.00          AL  \nATOM     72   Al MOL     1       8.022   8.048  22.042  1.00  0.00          AL  \nATOM     73    O MOL     1      10.757   1.299  22.718  1.00  0.00           O  \nATOM     74    O MOL     1       6.220   4.193  22.831  1.00  0.00           O  \nATOM     75    O MOL     1       4.428   5.918  25.730  1.00  0.00           O  \nATOM     76    O MOL     1       3.544   5.072  25.905  1.00  0.00           O  \nATOM     77    O MOL     1       4.099   0.147   0.231  1.00  0.00           O  \nATOM     78    O MOL     1       4.328   0.234  -0.978  1.00  0.00           O  \nATOM     79    O MOL     1       4.437   6.411   0.464  1.00  0.00           O  \nATOM     80    O MOL     1       4.820   6.938  -0.585  1.00  0.00           O  \nATOM     81    O MOL     1       7.425   4.860   0.831  1.00  0.00           O  \nATOM     82    O MOL     1       7.419   5.533   1.864  1.00  0.00           O  \nATOM     83    O MOL     1       7.301  -1.402   0.674  1.00  0.00           O  \nATOM     84    O MOL     1       7.372  -0.331   0.063  1.00  0.00           O  \nATOM     85    O MOL     1       2.952   4.747  29.468  1.00  0.00           O  \nATOM     86    O MOL     1       2.625   5.740  28.810  1.00  0.00           O  \nATOM     87    O MOL     1       2.201   6.464  22.813  1.00  0.00           O  \nATOM     88    O MOL     1       3.613   3.940  22.752  1.00  0.00           O  \nATOM     89    O MOL     1       0.830   3.287  26.828  1.00  0.00           O  \nATOM     90    O MOL     1       1.545   3.073  25.847  1.00  0.00           O  \nATOM     91    O MOL     1       7.735   8.149   9.896  1.00  0.00           O  \nATOM     92    O MOL     1       6.376   5.722   9.867  1.00  0.00           O  \nATOM     93    O MOL     1       2.067   3.210   9.678  1.00  0.00           O  \nATOM     94    O MOL     1       3.391   5.820   9.816  1.00  0.00           O  \nATOM     95    O MOL     1       7.933   6.418  22.749  1.00  0.00           O  \nATOM     96    O MOL     1       9.377   3.957  22.921  1.00  0.00           O  \nATOM     97    O MOL     1       3.610   0.860   9.817  1.00  0.00           O  \nATOM     98    O MOL     1       4.989   3.261   9.905  1.00  0.00           O  \nATOM     99    O MOL     1       0.434  10.607   9.768  1.00  0.00           O  \nATOM    100    O MOL     1       4.888   8.223   9.837  1.00  0.00           O  \nATOM    101    O MOL     1       2.533   9.219  26.044  1.00  0.00           O  \nATOM    102    O MOL     1       3.748   9.279  26.260  1.00  0.00           O  \nATOM    103    O MOL     1       1.643   7.705  -0.443  1.00  0.00           O  \nATOM    104    O MOL     1       1.163   6.586  -0.238  1.00  0.00           O  \nATOM    105    O MOL     1       7.547   5.407  25.821  1.00  0.00           O  \nATOM    106    O MOL     1       7.338   6.080  26.837  1.00  0.00           O  \nATOM    107    O MOL     1       6.488   8.680  22.858  1.00  0.00           O  \nATOM    108    O MOL     1       3.695   9.058  22.842  1.00  0.00           O  \nATOM    109    O MOL     1       3.947   2.272  27.900  1.00  0.00           O  \nATOM    110    O MOL     1       2.946   1.782  28.430  1.00  0.00           O  \nATOM    111    O MOL     1      -1.242   2.391  24.619  1.00  0.00           O  \nATOM    112    O MOL     1      -0.491   1.025  22.803  1.00  0.00           O  \nENDMDL\n",
           "ext": "pdb"
          }
         ],
         "kwargs": {},
         "methodName": "replaceStructure",
         "reconstruc_color_scheme": false,
         "target": "Widget",
         "type": "call_method"
        },
        {
         "args": [
          "this._Q = [[1.0, 0.0, 0.0], [0.0, 1.0, 0.0], [0.0, 0.0, 1.0]]"
         ],
         "kwargs": {},
         "methodName": "executeCode",
         "reconstruc_color_scheme": false,
         "target": "Widget",
         "type": "call_method"
        },
        {
         "args": [
          {
           "data": "CRYST1    8.591    9.920   31.691  90.00  90.00  90.00 P 1\nMODEL     1\nATOM      1   Al MOL     1       2.056   1.594  10.649  1.00  0.00          AL  \nATOM      2   Al MOL     1       5.001   1.591  10.548  1.00  0.00          AL  \nATOM      3   Al MOL     1       7.752   1.597  10.825  1.00  0.00          AL  \nATOM      4   Al MOL     1       0.610   4.075  10.860  1.00  0.00          AL  \nATOM      5   Al MOL     1       3.457   4.096  10.529  1.00  0.00          AL  \nATOM      6   Al MOL     1       6.510   4.005  10.556  1.00  0.00          AL  \nATOM      7   Al MOL     1       2.025   6.494  10.738  1.00  0.00          AL  \nATOM      8   Al MOL     1       4.942   6.452  10.409  1.00  0.00          AL  \nATOM      9   Al MOL     1       7.892   6.497  10.640  1.00  0.00          AL  \nATOM     10   Al MOL     1       0.731   8.945  10.561  1.00  0.00          AL  \nATOM     11   Al MOL     1       3.394   8.996  10.559  1.00  0.00          AL  \nATOM     12   Al MOL     1       6.370   9.084  10.641  1.00  0.00          AL  \nATOM     13   Al MOL     1       0.566   2.316  12.965  1.00  0.00          AL  \nATOM     14   Al MOL     1       3.468   2.295  12.879  1.00  0.00          AL  \nATOM     15   Al MOL     1       6.335   2.393  13.049  1.00  0.00          AL  \nATOM     16   Al MOL     1       2.150   4.928  12.912  1.00  0.00          AL  \nATOM     17   Al MOL     1       4.999   4.824  12.836  1.00  0.00          AL  \nATOM     18   Al MOL     1       7.675   4.799  13.021  1.00  0.00          AL  \nATOM     19   Al MOL     1       0.630   7.365  12.928  1.00  0.00          AL  \nATOM     20   Al MOL     1       3.581   7.444  12.857  1.00  0.00          AL  \nATOM     21   Al MOL     1       6.366   7.296  12.931  1.00  0.00          AL  \nATOM     22   Al MOL     1       2.107   9.741  12.940  1.00  0.00          AL  \nATOM     23   Al MOL     1       4.935   9.899  12.828  1.00  0.00          AL  \nATOM     24   Al MOL     1       7.802   9.873  12.921  1.00  0.00          AL  \nATOM     25   Al MOL     1       0.727   0.792  15.198  1.00  0.00          AL  \nATOM     26   Al MOL     1       3.480   0.821  15.124  1.00  0.00          AL  \nATOM     27   Al MOL     1       6.190   0.729  15.104  1.00  0.00          AL  \nATOM     28   Al MOL     1       2.058   3.241  15.258  1.00  0.00          AL  \nATOM     29   Al MOL     1       4.797   3.248  15.200  1.00  0.00          AL  \nATOM     30   Al MOL     1       7.806   3.248  15.307  1.00  0.00          AL  \nATOM     31   Al MOL     1       0.645   5.609  15.213  1.00  0.00          AL  \nATOM     32   Al MOL     1       3.570   5.723  15.149  1.00  0.00          AL  \nATOM     33   Al MOL     1       6.366   5.637  15.180  1.00  0.00          AL  \nATOM     34   Al MOL     1       2.002   8.098  15.139  1.00  0.00          AL  \nATOM     35   Al MOL     1       4.928   8.244  15.021  1.00  0.00          AL  \nATOM     36   Al MOL     1       7.812   8.234  15.151  1.00  0.00          AL  \nATOM     37   Al MOL     1       2.240   1.610  17.475  1.00  0.00          AL  \nATOM     38   Al MOL     1       4.937   1.564  17.365  1.00  0.00          AL  \nATOM     39   Al MOL     1       7.820   1.593  17.402  1.00  0.00          AL  \nATOM     40   Al MOL     1       0.797   4.000  17.520  1.00  0.00          AL  \nATOM     41   Al MOL     1       3.617   4.068  17.518  1.00  0.00          AL  \nATOM     42   Al MOL     1       6.283   4.144  17.419  1.00  0.00          AL  \nATOM     43   Al MOL     1       2.085   6.567  17.356  1.00  0.00          AL  \nATOM     44   Al MOL     1       5.040   6.580  17.415  1.00  0.00          AL  \nATOM     45   Al MOL     1       7.824   6.525  17.359  1.00  0.00          AL  \nATOM     46   Al MOL     1       0.629   8.928  17.378  1.00  0.00          AL  \nATOM     47   Al MOL     1       3.589   8.946  17.218  1.00  0.00          AL  \nATOM     48   Al MOL     1       6.421   9.072  17.310  1.00  0.00          AL  \nATOM     49   Al MOL     1       0.783   2.321  19.672  1.00  0.00          AL  \nATOM     50   Al MOL     1       3.635   2.341  19.720  1.00  0.00          AL  \nATOM     51   Al MOL     1       6.328   2.256  19.608  1.00  0.00          AL  \nATOM     52   Al MOL     1       2.115   4.811  19.830  1.00  0.00          AL  \nATOM     53   Al MOL     1       5.020   4.894  19.692  1.00  0.00          AL  \nATOM     54   Al MOL     1       7.859   4.787  19.612  1.00  0.00          AL  \nATOM     55   Al MOL     1       0.680   7.303  19.702  1.00  0.00          AL  \nATOM     56   Al MOL     1       3.581   7.210  19.630  1.00  0.00          AL  \nATOM     57   Al MOL     1       6.350   7.306  19.752  1.00  0.00          AL  \nATOM     58   Al MOL     1       2.226   9.629  19.733  1.00  0.00          AL  \nATOM     59   Al MOL     1       5.149   9.735  19.718  1.00  0.00          AL  \nATOM     60   Al MOL     1       8.064   9.801  19.686  1.00  0.00          AL  \nATOM     61   Al MOL     1       0.557   0.582  22.107  1.00  0.00          AL  \nATOM     62   Al MOL     1       3.685   0.706  22.093  1.00  0.00          AL  \nATOM     63   Al MOL     1       6.392   0.714  21.770  1.00  0.00          AL  \nATOM     64   Al MOL     1       2.089   3.164  22.328  1.00  0.00          AL  \nATOM     65   Al MOL     1       5.070   3.007  22.160  1.00  0.00          AL  \nATOM     66   Al MOL     1       7.804   3.223  23.820  1.00  0.00          AL  \nATOM     67   Al MOL     1       0.570   5.454  22.254  1.00  0.00          AL  \nATOM     68   Al MOL     1       3.739   5.492  21.964  1.00  0.00          AL  \nATOM     69   Al MOL     1       6.471   5.465  21.955  1.00  0.00          AL  \nATOM     70   Al MOL     1       1.976   8.067  22.133  1.00  0.00          AL  \nATOM     71   Al MOL     1       5.130   8.046  22.087  1.00  0.00          AL  \nATOM     72   Al MOL     1       7.984   8.291  21.926  1.00  0.00          AL  \nATOM     73    O MOL     1      10.583   1.378  22.901  1.00  0.00           O  \nATOM     74    O MOL     1       6.472   3.873  22.963  1.00  0.00           O  \nATOM     75    O MOL     1       4.574   5.889  25.493  1.00  0.00           O  \nATOM     76    O MOL     1       3.644   5.110  25.729  1.00  0.00           O  \nATOM     77    O MOL     1       4.125   0.132   0.137  1.00  0.00           O  \nATOM     78    O MOL     1       4.414   0.136  -1.062  1.00  0.00           O  \nATOM     79    O MOL     1       4.512   6.436   0.364  1.00  0.00           O  \nATOM     80    O MOL     1       4.885   6.926  -0.706  1.00  0.00           O  \nATOM     81    O MOL     1       7.396   4.860   0.716  1.00  0.00           O  \nATOM     82    O MOL     1       7.382   5.504   1.766  1.00  0.00           O  \nATOM     83    O MOL     1       7.242  -1.420   0.610  1.00  0.00           O  \nATOM     84    O MOL     1       7.364  -0.368  -0.023  1.00  0.00           O  \nATOM     85    O MOL     1       2.880   4.857  29.565  1.00  0.00           O  \nATOM     86    O MOL     1       2.646   5.773  28.770  1.00  0.00           O  \nATOM     87    O MOL     1       2.148   6.279  22.575  1.00  0.00           O  \nATOM     88    O MOL     1       3.656   3.833  22.929  1.00  0.00           O  \nATOM     89    O MOL     1       0.897   3.266  26.666  1.00  0.00           O  \nATOM     90    O MOL     1       1.777   2.834  25.917  1.00  0.00           O  \nATOM     91    O MOL     1       7.750   8.218   9.854  1.00  0.00           O  \nATOM     92    O MOL     1       6.467   5.700   9.797  1.00  0.00           O  \nATOM     93    O MOL     1       1.985   3.289   9.938  1.00  0.00           O  \nATOM     94    O MOL     1       3.417   5.800   9.812  1.00  0.00           O  \nATOM     95    O MOL     1       7.682   6.532  22.844  1.00  0.00           O  \nATOM     96    O MOL     1       9.401   4.046  23.407  1.00  0.00           O  \nATOM     97    O MOL     1       3.428   0.738   9.896  1.00  0.00           O  \nATOM     98    O MOL     1       4.889   3.233   9.740  1.00  0.00           O  \nATOM     99    O MOL     1       0.602  10.660   9.933  1.00  0.00           O  \nATOM    100    O MOL     1       4.944   8.160   9.909  1.00  0.00           O  \nATOM    101    O MOL     1       2.367   8.983  26.173  1.00  0.00           O  \nATOM    102    O MOL     1       3.567   9.153  25.929  1.00  0.00           O  \nATOM    103    O MOL     1       1.638   7.784  -0.544  1.00  0.00           O  \nATOM    104    O MOL     1       1.070   6.716  -0.293  1.00  0.00           O  \nATOM    105    O MOL     1       7.481   5.633  25.695  1.00  0.00           O  \nATOM    106    O MOL     1       7.342   6.027  26.857  1.00  0.00           O  \nATOM    107    O MOL     1       6.463   9.021  22.621  1.00  0.00           O  \nATOM    108    O MOL     1       3.638   8.865  22.658  1.00  0.00           O  \nATOM    109    O MOL     1       4.062   2.293  27.940  1.00  0.00           O  \nATOM    110    O MOL     1       3.070   1.896  28.560  1.00  0.00           O  \nATOM    111    O MOL     1      -1.399   2.868  25.450  1.00  0.00           O  \nATOM    112    O MOL     1      -0.666   1.357  23.226  1.00  0.00           O  \nENDMDL\n",
           "ext": "pdb"
          }
         ],
         "kwargs": {},
         "methodName": "replaceStructure",
         "reconstruc_color_scheme": false,
         "target": "Widget",
         "type": "call_method"
        },
        {
         "args": [
          "this._Q = [[1.0, 0.0, 0.0], [0.0, 1.0, 0.0], [0.0, 0.0, 1.0]]"
         ],
         "kwargs": {},
         "methodName": "executeCode",
         "reconstruc_color_scheme": false,
         "target": "Widget",
         "type": "call_method"
        },
        {
         "args": [
          {
           "data": "CRYST1    8.591    9.920   31.691  90.00  90.00  90.00 P 1\nMODEL     1\nATOM      1   Al MOL     1       2.100   1.499  10.488  1.00  0.00          AL  \nATOM      2   Al MOL     1       5.075   1.475  10.521  1.00  0.00          AL  \nATOM      3   Al MOL     1       7.976   1.499  10.688  1.00  0.00          AL  \nATOM      4   Al MOL     1       0.634   3.998  10.684  1.00  0.00          AL  \nATOM      5   Al MOL     1       3.557   3.941  10.555  1.00  0.00          AL  \nATOM      6   Al MOL     1       6.494   3.943  10.573  1.00  0.00          AL  \nATOM      7   Al MOL     1       2.051   6.527  10.568  1.00  0.00          AL  \nATOM      8   Al MOL     1       4.886   6.510  10.402  1.00  0.00          AL  \nATOM      9   Al MOL     1       8.019   6.443  10.341  1.00  0.00          AL  \nATOM     10   Al MOL     1       0.713   8.896  10.536  1.00  0.00          AL  \nATOM     11   Al MOL     1       3.461   8.912  10.447  1.00  0.00          AL  \nATOM     12   Al MOL     1       6.449   9.079  10.470  1.00  0.00          AL  \nATOM     13   Al MOL     1       0.708   2.399  12.941  1.00  0.00          AL  \nATOM     14   Al MOL     1       3.646   2.433  12.910  1.00  0.00          AL  \nATOM     15   Al MOL     1       6.363   2.454  12.934  1.00  0.00          AL  \nATOM     16   Al MOL     1       2.050   4.883  12.872  1.00  0.00          AL  \nATOM     17   Al MOL     1       4.986   4.971  12.853  1.00  0.00          AL  \nATOM     18   Al MOL     1       7.821   4.912  12.923  1.00  0.00          AL  \nATOM     19   Al MOL     1       0.686   7.334  12.926  1.00  0.00          AL  \nATOM     20   Al MOL     1       3.482   7.349  12.818  1.00  0.00          AL  \nATOM     21   Al MOL     1       6.310   7.368  12.792  1.00  0.00          AL  \nATOM     22   Al MOL     1       2.107   9.889  12.849  1.00  0.00          AL  \nATOM     23   Al MOL     1       4.908   9.878  12.874  1.00  0.00          AL  \nATOM     24   Al MOL     1       7.809   9.865  12.826  1.00  0.00          AL  \nATOM     25   Al MOL     1       0.611   0.653  15.177  1.00  0.00          AL  \nATOM     26   Al MOL     1       3.570   0.716  15.200  1.00  0.00          AL  \nATOM     27   Al MOL     1       6.447   0.654  15.180  1.00  0.00          AL  \nATOM     28   Al MOL     1       2.184   3.230  15.296  1.00  0.00          AL  \nATOM     29   Al MOL     1       5.008   3.284  15.234  1.00  0.00          AL  \nATOM     30   Al MOL     1       7.899   3.212  15.135  1.00  0.00          AL  \nATOM     31   Al MOL     1       0.641   5.741  15.212  1.00  0.00          AL  \nATOM     32   Al MOL     1       3.528   5.691  15.145  1.00  0.00          AL  \nATOM     33   Al MOL     1       6.364   5.764  15.088  1.00  0.00          AL  \nATOM     34   Al MOL     1       2.116   8.202  15.144  1.00  0.00          AL  \nATOM     35   Al MOL     1       4.966   8.235  15.116  1.00  0.00          AL  \nATOM     36   Al MOL     1       7.809   8.118  15.235  1.00  0.00          AL  \nATOM     37   Al MOL     1       1.980   1.680  17.488  1.00  0.00          AL  \nATOM     38   Al MOL     1       5.000   1.664  17.498  1.00  0.00          AL  \nATOM     39   Al MOL     1       7.841   1.530  17.560  1.00  0.00          AL  \nATOM     40   Al MOL     1       0.561   3.990  17.507  1.00  0.00          AL  \nATOM     41   Al MOL     1       3.495   3.995  17.461  1.00  0.00          AL  \nATOM     42   Al MOL     1       6.500   4.007  17.479  1.00  0.00          AL  \nATOM     43   Al MOL     1       2.032   6.470  17.418  1.00  0.00          AL  \nATOM     44   Al MOL     1       4.942   6.410  17.432  1.00  0.00          AL  \nATOM     45   Al MOL     1       7.868   6.397  17.421  1.00  0.00          AL  \nATOM     46   Al MOL     1       0.642   8.945  17.475  1.00  0.00          AL  \nATOM     47   Al MOL     1       3.482   8.979  17.339  1.00  0.00          AL  \nATOM     48   Al MOL     1       6.470   9.024  17.419  1.00  0.00          AL  \nATOM     49   Al MOL     1       0.652   2.443  19.928  1.00  0.00          AL  \nATOM     50   Al MOL     1       3.542   2.409  19.776  1.00  0.00          AL  \nATOM     51   Al MOL     1       6.444   2.347  19.871  1.00  0.00          AL  \nATOM     52   Al MOL     1       2.035   4.838  19.928  1.00  0.00          AL  \nATOM     53   Al MOL     1       4.976   4.730  19.765  1.00  0.00          AL  \nATOM     54   Al MOL     1       7.793   4.853  19.899  1.00  0.00          AL  \nATOM     55   Al MOL     1       0.673   7.328  19.712  1.00  0.00          AL  \nATOM     56   Al MOL     1       3.553   7.224  19.686  1.00  0.00          AL  \nATOM     57   Al MOL     1       6.456   7.281  19.608  1.00  0.00          AL  \nATOM     58   Al MOL     1       1.973   9.965  19.651  1.00  0.00          AL  \nATOM     59   Al MOL     1       5.006   9.870  19.763  1.00  0.00          AL  \nATOM     60   Al MOL     1       7.623   9.769  19.860  1.00  0.00          AL  \nATOM     61   Al MOL     1       0.614   0.588  22.125  1.00  0.00          AL  \nATOM     62   Al MOL     1       3.649   0.832  22.057  1.00  0.00          AL  \nATOM     63   Al MOL     1       6.235   0.645  22.359  1.00  0.00          AL  \nATOM     64   Al MOL     1       2.073   3.066  22.381  1.00  0.00          AL  \nATOM     65   Al MOL     1       4.881   3.006  22.057  1.00  0.00          AL  \nATOM     66   Al MOL     1       7.839   3.183  24.042  1.00  0.00          AL  \nATOM     67   Al MOL     1       0.599   5.585  22.418  1.00  0.00          AL  \nATOM     68   Al MOL     1       3.486   5.730  22.048  1.00  0.00          AL  \nATOM     69   Al MOL     1       6.472   5.473  22.321  1.00  0.00          AL  \nATOM     70   Al MOL     1       1.925   8.048  22.008  1.00  0.00          AL  \nATOM     71   Al MOL     1       4.992   7.978  21.859  1.00  0.00          AL  \nATOM     72   Al MOL     1       7.889   8.205  21.929  1.00  0.00          AL  \nATOM     73    O MOL     1      10.684   1.324  22.890  1.00  0.00           O  \nATOM     74    O MOL     1       6.208   3.943  23.221  1.00  0.00           O  \nATOM     75    O MOL     1       4.506   5.977  25.063  1.00  0.00           O  \nATOM     76    O MOL     1       3.683   5.222  25.599  1.00  0.00           O  \nATOM     77    O MOL     1       4.204   0.135   0.028  1.00  0.00           O  \nATOM     78    O MOL     1       4.503  -0.055  -1.153  1.00  0.00           O  \nATOM     79    O MOL     1       4.563   6.450   0.280  1.00  0.00           O  \nATOM     80    O MOL     1       4.999   6.858  -0.800  1.00  0.00           O  \nATOM     81    O MOL     1       7.340   4.843   0.576  1.00  0.00           O  \nATOM     82    O MOL     1       7.354   5.409   1.671  1.00  0.00           O  \nATOM     83    O MOL     1       7.144  -1.299   0.705  1.00  0.00           O  \nATOM     84    O MOL     1       7.409  -0.435  -0.136  1.00  0.00           O  \nATOM     85    O MOL     1       2.849   4.982  29.523  1.00  0.00           O  \nATOM     86    O MOL     1       2.793   5.783  28.586  1.00  0.00           O  \nATOM     87    O MOL     1       2.038   6.509  22.844  1.00  0.00           O  \nATOM     88    O MOL     1       3.325   4.058  22.811  1.00  0.00           O  \nATOM     89    O MOL     1       1.284   3.271  26.562  1.00  0.00           O  \nATOM     90    O MOL     1       1.982   2.439  25.973  1.00  0.00           O  \nATOM     91    O MOL     1       7.787   8.142   9.696  1.00  0.00           O  \nATOM     92    O MOL     1       6.450   5.643   9.820  1.00  0.00           O  \nATOM     93    O MOL     1       2.078   3.212   9.819  1.00  0.00           O  \nATOM     94    O MOL     1       3.510   5.591   9.769  1.00  0.00           O  \nATOM     95    O MOL     1       7.744   6.521  22.897  1.00  0.00           O  \nATOM     96    O MOL     1       9.349   3.935  23.226  1.00  0.00           O  \nATOM     97    O MOL     1       3.537   0.712   9.757  1.00  0.00           O  \nATOM     98    O MOL     1       5.078   3.185   9.821  1.00  0.00           O  \nATOM     99    O MOL     1       0.700  10.531   9.694  1.00  0.00           O  \nATOM    100    O MOL     1       4.929   8.197   9.646  1.00  0.00           O  \nATOM    101    O MOL     1       2.255   8.587  25.992  1.00  0.00           O  \nATOM    102    O MOL     1       3.351   9.082  25.709  1.00  0.00           O  \nATOM    103    O MOL     1       1.660   7.931  -0.628  1.00  0.00           O  \nATOM    104    O MOL     1       0.966   6.948  -0.353  1.00  0.00           O  \nATOM    105    O MOL     1       7.597   6.334  25.736  1.00  0.00           O  \nATOM    106    O MOL     1       7.399   5.959  26.893  1.00  0.00           O  \nATOM    107    O MOL     1       6.390   8.742  22.888  1.00  0.00           O  \nATOM    108    O MOL     1       3.374   8.891  22.450  1.00  0.00           O  \nATOM    109    O MOL     1       4.232   2.319  28.129  1.00  0.00           O  \nATOM    110    O MOL     1       3.212   1.887  28.672  1.00  0.00           O  \nATOM    111    O MOL     1      -0.834   3.096  25.639  1.00  0.00           O  \nATOM    112    O MOL     1      -0.745   1.387  23.200  1.00  0.00           O  \nENDMDL\n",
           "ext": "pdb"
          }
         ],
         "kwargs": {},
         "methodName": "replaceStructure",
         "reconstruc_color_scheme": false,
         "target": "Widget",
         "type": "call_method"
        },
        {
         "args": [
          "this._Q = [[1.0, 0.0, 0.0], [0.0, 1.0, 0.0], [0.0, 0.0, 1.0]]"
         ],
         "kwargs": {},
         "methodName": "executeCode",
         "reconstruc_color_scheme": false,
         "target": "Widget",
         "type": "call_method"
        },
        {
         "args": [
          {
           "data": "CRYST1    8.591    9.920   31.691  90.00  90.00  90.00 P 1\nMODEL     1\nATOM      1   Al MOL     1       2.126   1.483  10.238  1.00  0.00          AL  \nATOM      2   Al MOL     1       5.069   1.520  10.577  1.00  0.00          AL  \nATOM      3   Al MOL     1       7.858   1.479  10.580  1.00  0.00          AL  \nATOM      4   Al MOL     1       0.822   4.011  10.581  1.00  0.00          AL  \nATOM      5   Al MOL     1       3.486   4.013  10.309  1.00  0.00          AL  \nATOM      6   Al MOL     1       6.706   3.937  10.315  1.00  0.00          AL  \nATOM      7   Al MOL     1       2.218   6.536  10.715  1.00  0.00          AL  \nATOM      8   Al MOL     1       5.056   6.435  10.525  1.00  0.00          AL  \nATOM      9   Al MOL     1       8.102   6.332  10.449  1.00  0.00          AL  \nATOM     10   Al MOL     1       0.829   8.841  10.373  1.00  0.00          AL  \nATOM     11   Al MOL     1       3.559   8.982  10.682  1.00  0.00          AL  \nATOM     12   Al MOL     1       6.456   8.948  10.756  1.00  0.00          AL  \nATOM     13   Al MOL     1       0.646   2.366  12.718  1.00  0.00          AL  \nATOM     14   Al MOL     1       3.521   2.337  12.740  1.00  0.00          AL  \nATOM     15   Al MOL     1       6.460   2.400  12.894  1.00  0.00          AL  \nATOM     16   Al MOL     1       2.133   4.846  12.757  1.00  0.00          AL  \nATOM     17   Al MOL     1       4.953   4.812  12.840  1.00  0.00          AL  \nATOM     18   Al MOL     1       7.833   4.875  12.886  1.00  0.00          AL  \nATOM     19   Al MOL     1       0.664   7.327  12.867  1.00  0.00          AL  \nATOM     20   Al MOL     1       3.544   7.264  13.005  1.00  0.00          AL  \nATOM     21   Al MOL     1       6.342   7.219  12.976  1.00  0.00          AL  \nATOM     22   Al MOL     1       2.035   9.755  12.863  1.00  0.00          AL  \nATOM     23   Al MOL     1       5.036   9.818  13.038  1.00  0.00          AL  \nATOM     24   Al MOL     1       7.907   9.914  12.941  1.00  0.00          AL  \nATOM     25   Al MOL     1       0.660   0.775  15.203  1.00  0.00          AL  \nATOM     26   Al MOL     1       3.501   0.625  15.098  1.00  0.00          AL  \nATOM     27   Al MOL     1       6.419   0.746  15.291  1.00  0.00          AL  \nATOM     28   Al MOL     1       2.100   3.255  15.024  1.00  0.00          AL  \nATOM     29   Al MOL     1       4.896   3.226  15.105  1.00  0.00          AL  \nATOM     30   Al MOL     1       7.781   3.256  15.328  1.00  0.00          AL  \nATOM     31   Al MOL     1       0.666   5.733  15.130  1.00  0.00          AL  \nATOM     32   Al MOL     1       3.585   5.615  15.193  1.00  0.00          AL  \nATOM     33   Al MOL     1       6.476   5.624  15.274  1.00  0.00          AL  \nATOM     34   Al MOL     1       2.096   8.204  15.228  1.00  0.00          AL  \nATOM     35   Al MOL     1       5.006   8.134  15.308  1.00  0.00          AL  \nATOM     36   Al MOL     1       7.847   8.198  15.220  1.00  0.00          AL  \nATOM     37   Al MOL     1       2.107   1.409  17.549  1.00  0.00          AL  \nATOM     38   Al MOL     1       4.906   1.475  17.566  1.00  0.00          AL  \nATOM     39   Al MOL     1       7.796   1.563  17.427  1.00  0.00          AL  \nATOM     40   Al MOL     1       0.724   4.072  17.448  1.00  0.00          AL  \nATOM     41   Al MOL     1       3.526   3.984  17.476  1.00  0.00          AL  \nATOM     42   Al MOL     1       6.283   3.984  17.641  1.00  0.00          AL  \nATOM     43   Al MOL     1       2.096   6.561  17.470  1.00  0.00          AL  \nATOM     44   Al MOL     1       4.877   6.545  17.563  1.00  0.00          AL  \nATOM     45   Al MOL     1       7.798   6.621  17.593  1.00  0.00          AL  \nATOM     46   Al MOL     1       0.610   9.051  17.482  1.00  0.00          AL  \nATOM     47   Al MOL     1       3.328   8.940  17.458  1.00  0.00          AL  \nATOM     48   Al MOL     1       6.399   8.924  17.555  1.00  0.00          AL  \nATOM     49   Al MOL     1       0.587   2.377  19.627  1.00  0.00          AL  \nATOM     50   Al MOL     1       3.382   2.329  19.863  1.00  0.00          AL  \nATOM     51   Al MOL     1       6.300   2.404  19.678  1.00  0.00          AL  \nATOM     52   Al MOL     1       2.130   4.839  19.840  1.00  0.00          AL  \nATOM     53   Al MOL     1       4.796   4.841  19.920  1.00  0.00          AL  \nATOM     54   Al MOL     1       7.815   4.788  19.660  1.00  0.00          AL  \nATOM     55   Al MOL     1       0.435   7.281  19.864  1.00  0.00          AL  \nATOM     56   Al MOL     1       3.393   7.314  19.990  1.00  0.00          AL  \nATOM     57   Al MOL     1       6.339   7.478  19.924  1.00  0.00          AL  \nATOM     58   Al MOL     1       2.059   9.703  19.872  1.00  0.00          AL  \nATOM     59   Al MOL     1       4.851   9.759  19.939  1.00  0.00          AL  \nATOM     60   Al MOL     1       7.806   9.825  19.813  1.00  0.00          AL  \nATOM     61   Al MOL     1       0.467   0.613  22.135  1.00  0.00          AL  \nATOM     62   Al MOL     1       3.484   0.688  22.175  1.00  0.00          AL  \nATOM     63   Al MOL     1       6.279   0.644  22.021  1.00  0.00          AL  \nATOM     64   Al MOL     1       2.141   3.131  21.995  1.00  0.00          AL  \nATOM     65   Al MOL     1       4.920   2.963  22.165  1.00  0.00          AL  \nATOM     66   Al MOL     1       7.845   3.240  23.559  1.00  0.00          AL  \nATOM     67   Al MOL     1       0.543   5.609  22.061  1.00  0.00          AL  \nATOM     68   Al MOL     1       3.703   5.738  22.812  1.00  0.00          AL  \nATOM     69   Al MOL     1       6.329   5.750  22.036  1.00  0.00          AL  \nATOM     70   Al MOL     1       1.958   8.133  22.212  1.00  0.00          AL  \nATOM     71   Al MOL     1       4.674   8.236  22.357  1.00  0.00          AL  \nATOM     72   Al MOL     1       7.827   8.214  22.275  1.00  0.00          AL  \nATOM     73    O MOL     1      10.626   1.353  22.870  1.00  0.00           O  \nATOM     74    O MOL     1       6.184   4.010  22.895  1.00  0.00           O  \nATOM     75    O MOL     1       4.209   6.029  24.340  1.00  0.00           O  \nATOM     76    O MOL     1       3.839   5.487  25.498  1.00  0.00           O  \nATOM     77    O MOL     1       4.284   0.184  -0.097  1.00  0.00           O  \nATOM     78    O MOL     1       4.525  -0.257  -1.224  1.00  0.00           O  \nATOM     79    O MOL     1       4.468   6.471   0.241  1.00  0.00           O  \nATOM     80    O MOL     1       5.123   6.658  -0.788  1.00  0.00           O  \nATOM     81    O MOL     1       7.398   4.870   0.455  1.00  0.00           O  \nATOM     82    O MOL     1       7.348   5.293   1.612  1.00  0.00           O  \nATOM     83    O MOL     1       7.107  -1.123   0.841  1.00  0.00           O  \nATOM     84    O MOL     1       7.482  -0.458  -0.129  1.00  0.00           O  \nATOM     85    O MOL     1       2.826   5.008  29.316  1.00  0.00           O  \nATOM     86    O MOL     1       2.936   5.873  28.443  1.00  0.00           O  \nATOM     87    O MOL     1       1.996   6.338  22.840  1.00  0.00           O  \nATOM     88    O MOL     1       3.461   3.777  22.908  1.00  0.00           O  \nATOM     89    O MOL     1       1.370   3.158  25.797  1.00  0.00           O  \nATOM     90    O MOL     1       2.229   2.283  25.881  1.00  0.00           O  \nATOM     91    O MOL     1       7.894   8.081   9.836  1.00  0.00           O  \nATOM     92    O MOL     1       6.478   5.677   9.710  1.00  0.00           O  \nATOM     93    O MOL     1       2.111   3.176   9.517  1.00  0.00           O  \nATOM     94    O MOL     1       3.620   5.798   9.773  1.00  0.00           O  \nATOM     95    O MOL     1       7.828   6.630  22.988  1.00  0.00           O  \nATOM     96    O MOL     1       9.260   3.891  22.693  1.00  0.00           O  \nATOM     97    O MOL     1       3.640   0.640   9.777  1.00  0.00           O  \nATOM     98    O MOL     1       5.064   3.211   9.772  1.00  0.00           O  \nATOM     99    O MOL     1       0.663  10.535   9.617  1.00  0.00           O  \nATOM    100    O MOL     1       5.088   8.146   9.977  1.00  0.00           O  \nATOM    101    O MOL     1       2.246   8.281  25.582  1.00  0.00           O  \nATOM    102    O MOL     1       3.157   9.043  25.925  1.00  0.00           O  \nATOM    103    O MOL     1       1.726   8.020  -0.665  1.00  0.00           O  \nATOM    104    O MOL     1       0.987   7.042  -0.522  1.00  0.00           O  \nATOM    105    O MOL     1       7.793   7.078  26.088  1.00  0.00           O  \nATOM    106    O MOL     1       7.453   6.282  26.974  1.00  0.00           O  \nATOM    107    O MOL     1       6.272   8.873  22.916  1.00  0.00           O  \nATOM    108    O MOL     1       3.347   9.065  23.144  1.00  0.00           O  \nATOM    109    O MOL     1       4.402   2.373  28.480  1.00  0.00           O  \nATOM    110    O MOL     1       3.297   1.921  28.799  1.00  0.00           O  \nATOM    111    O MOL     1      -0.768   2.943  25.342  1.00  0.00           O  \nATOM    112    O MOL     1      -0.862   1.556  22.677  1.00  0.00           O  \nENDMDL\n",
           "ext": "pdb"
          }
         ],
         "kwargs": {},
         "methodName": "replaceStructure",
         "reconstruc_color_scheme": false,
         "target": "Widget",
         "type": "call_method"
        },
        {
         "args": [
          "this._Q = [[1.0, 0.0, 0.0], [0.0, 1.0, 0.0], [0.0, 0.0, 1.0]]"
         ],
         "kwargs": {},
         "methodName": "executeCode",
         "reconstruc_color_scheme": false,
         "target": "Widget",
         "type": "call_method"
        },
        {
         "args": [
          {
           "data": "CRYST1    8.591    9.920   31.691  90.00  90.00  90.00 P 1\nMODEL     1\nATOM      1   Al MOL     1       2.240   1.495  10.594  1.00  0.00          AL  \nATOM      2   Al MOL     1       5.238   1.451  10.470  1.00  0.00          AL  \nATOM      3   Al MOL     1       7.906   1.476  10.805  1.00  0.00          AL  \nATOM      4   Al MOL     1       0.729   3.911  10.734  1.00  0.00          AL  \nATOM      5   Al MOL     1       3.671   3.963  10.586  1.00  0.00          AL  \nATOM      6   Al MOL     1       6.609   3.908  10.567  1.00  0.00          AL  \nATOM      7   Al MOL     1       2.149   6.395  10.738  1.00  0.00          AL  \nATOM      8   Al MOL     1       5.073   6.461  10.611  1.00  0.00          AL  \nATOM      9   Al MOL     1       7.990   6.374  10.676  1.00  0.00          AL  \nATOM     10   Al MOL     1       0.859   8.896  10.714  1.00  0.00          AL  \nATOM     11   Al MOL     1       3.572   8.938  10.602  1.00  0.00          AL  \nATOM     12   Al MOL     1       6.490   9.006  10.604  1.00  0.00          AL  \nATOM     13   Al MOL     1       0.754   2.232  12.863  1.00  0.00          AL  \nATOM     14   Al MOL     1       3.591   2.399  12.930  1.00  0.00          AL  \nATOM     15   Al MOL     1       6.386   2.287  12.855  1.00  0.00          AL  \nATOM     16   Al MOL     1       2.182   4.863  12.982  1.00  0.00          AL  \nATOM     17   Al MOL     1       4.938   4.857  12.907  1.00  0.00          AL  \nATOM     18   Al MOL     1       7.840   4.820  12.937  1.00  0.00          AL  \nATOM     19   Al MOL     1       0.696   7.277  12.967  1.00  0.00          AL  \nATOM     20   Al MOL     1       3.570   7.350  12.866  1.00  0.00          AL  \nATOM     21   Al MOL     1       6.489   7.386  12.928  1.00  0.00          AL  \nATOM     22   Al MOL     1       2.174   9.818  12.999  1.00  0.00          AL  \nATOM     23   Al MOL     1       4.914   9.814  12.922  1.00  0.00          AL  \nATOM     24   Al MOL     1       7.874   9.747  12.956  1.00  0.00          AL  \nATOM     25   Al MOL     1       0.644   0.619  15.190  1.00  0.00          AL  \nATOM     26   Al MOL     1       3.469   0.719  15.229  1.00  0.00          AL  \nATOM     27   Al MOL     1       6.333   0.677  15.055  1.00  0.00          AL  \nATOM     28   Al MOL     1       2.086   3.207  15.144  1.00  0.00          AL  \nATOM     29   Al MOL     1       4.919   3.173  15.156  1.00  0.00          AL  \nATOM     30   Al MOL     1       7.824   3.065  15.058  1.00  0.00          AL  \nATOM     31   Al MOL     1       0.634   5.521  15.147  1.00  0.00          AL  \nATOM     32   Al MOL     1       3.434   5.679  15.247  1.00  0.00          AL  \nATOM     33   Al MOL     1       6.240   5.691  15.095  1.00  0.00          AL  \nATOM     34   Al MOL     1       2.098   8.176  15.295  1.00  0.00          AL  \nATOM     35   Al MOL     1       4.813   8.157  15.188  1.00  0.00          AL  \nATOM     36   Al MOL     1       7.793   8.189  15.280  1.00  0.00          AL  \nATOM     37   Al MOL     1       1.965   1.492  17.456  1.00  0.00          AL  \nATOM     38   Al MOL     1       4.953   1.581  17.433  1.00  0.00          AL  \nATOM     39   Al MOL     1       7.661   1.566  17.379  1.00  0.00          AL  \nATOM     40   Al MOL     1       0.440   3.937  17.466  1.00  0.00          AL  \nATOM     41   Al MOL     1       3.498   4.133  17.472  1.00  0.00          AL  \nATOM     42   Al MOL     1       6.319   3.921  17.353  1.00  0.00          AL  \nATOM     43   Al MOL     1       2.075   6.514  17.521  1.00  0.00          AL  \nATOM     44   Al MOL     1       4.869   6.519  17.437  1.00  0.00          AL  \nATOM     45   Al MOL     1       7.682   6.464  17.474  1.00  0.00          AL  \nATOM     46   Al MOL     1       0.686   8.909  17.472  1.00  0.00          AL  \nATOM     47   Al MOL     1       3.520   8.927  17.520  1.00  0.00          AL  \nATOM     48   Al MOL     1       6.329   8.946  17.440  1.00  0.00          AL  \nATOM     49   Al MOL     1       0.587   2.364  19.725  1.00  0.00          AL  \nATOM     50   Al MOL     1       3.443   2.360  19.700  1.00  0.00          AL  \nATOM     51   Al MOL     1       6.371   2.313  19.685  1.00  0.00          AL  \nATOM     52   Al MOL     1       1.864   4.722  19.728  1.00  0.00          AL  \nATOM     53   Al MOL     1       4.868   4.681  19.653  1.00  0.00          AL  \nATOM     54   Al MOL     1       7.649   4.776  19.635  1.00  0.00          AL  \nATOM     55   Al MOL     1       0.721   7.337  19.803  1.00  0.00          AL  \nATOM     56   Al MOL     1       3.538   7.241  19.840  1.00  0.00          AL  \nATOM     57   Al MOL     1       6.415   7.249  19.745  1.00  0.00          AL  \nATOM     58   Al MOL     1       2.137   9.817  19.677  1.00  0.00          AL  \nATOM     59   Al MOL     1       4.856   9.768  19.745  1.00  0.00          AL  \nATOM     60   Al MOL     1       7.707   9.647  19.686  1.00  0.00          AL  \nATOM     61   Al MOL     1       0.506   0.755  21.923  1.00  0.00          AL  \nATOM     62   Al MOL     1       3.554   0.652  21.946  1.00  0.00          AL  \nATOM     63   Al MOL     1       6.241   0.877  22.124  1.00  0.00          AL  \nATOM     64   Al MOL     1       1.914   3.298  22.065  1.00  0.00          AL  \nATOM     65   Al MOL     1       4.808   3.218  22.004  1.00  0.00          AL  \nATOM     66   Al MOL     1       7.723   3.164  23.731  1.00  0.00          AL  \nATOM     67   Al MOL     1       0.638   5.819  22.148  1.00  0.00          AL  \nATOM     68   Al MOL     1       3.310   5.630  23.617  1.00  0.00          AL  \nATOM     69   Al MOL     1       6.221   5.443  22.069  1.00  0.00          AL  \nATOM     70   Al MOL     1       1.972   8.268  22.163  1.00  0.00          AL  \nATOM     71   Al MOL     1       4.921   7.886  22.390  1.00  0.00          AL  \nATOM     72   Al MOL     1       7.788   8.140  22.041  1.00  0.00          AL  \nATOM     73    O MOL     1      10.521   1.588  22.666  1.00  0.00           O  \nATOM     74    O MOL     1       6.216   3.847  22.841  1.00  0.00           O  \nATOM     75    O MOL     1       5.253   6.748  24.155  1.00  0.00           O  \nATOM     76    O MOL     1       4.068   6.097  25.109  1.00  0.00           O  \nATOM     77    O MOL     1       4.330   0.279  -0.262  1.00  0.00           O  \nATOM     78    O MOL     1       4.521  -0.473  -1.221  1.00  0.00           O  \nATOM     79    O MOL     1       4.396   6.463   0.207  1.00  0.00           O  \nATOM     80    O MOL     1       5.180   6.422  -0.745  1.00  0.00           O  \nATOM     81    O MOL     1       7.546   4.761   0.383  1.00  0.00           O  \nATOM     82    O MOL     1       7.384   5.253   1.502  1.00  0.00           O  \nATOM     83    O MOL     1       7.176  -1.029   0.936  1.00  0.00           O  \nATOM     84    O MOL     1       7.480  -0.352  -0.050  1.00  0.00           O  \nATOM     85    O MOL     1       2.795   5.036  28.982  1.00  0.00           O  \nATOM     86    O MOL     1       2.953   6.096  28.369  1.00  0.00           O  \nATOM     87    O MOL     1       2.168   6.529  22.834  1.00  0.00           O  \nATOM     88    O MOL     1       3.365   3.981  22.715  1.00  0.00           O  \nATOM     89    O MOL     1       1.279   3.105  25.134  1.00  0.00           O  \nATOM     90    O MOL     1       1.995   2.312  25.816  1.00  0.00           O  \nATOM     91    O MOL     1       7.938   8.054  10.023  1.00  0.00           O  \nATOM     92    O MOL     1       6.500   5.615   9.890  1.00  0.00           O  \nATOM     93    O MOL     1       2.232   3.166   9.957  1.00  0.00           O  \nATOM     94    O MOL     1       3.597   5.651   9.856  1.00  0.00           O  \nATOM     95    O MOL     1       7.672   6.470  22.759  1.00  0.00           O  \nATOM     96    O MOL     1       9.063   4.048  22.806  1.00  0.00           O  \nATOM     97    O MOL     1       3.720   0.708   9.837  1.00  0.00           O  \nATOM     98    O MOL     1       5.103   3.158   9.825  1.00  0.00           O  \nATOM     99    O MOL     1       0.717  10.576   9.966  1.00  0.00           O  \nATOM    100    O MOL     1       5.054   8.109   9.800  1.00  0.00           O  \nATOM    101    O MOL     1       2.126   8.168  25.723  1.00  0.00           O  \nATOM    102    O MOL     1       2.834   8.830  26.487  1.00  0.00           O  \nATOM    103    O MOL     1       1.785   8.027  -0.732  1.00  0.00           O  \nATOM    104    O MOL     1       1.040   7.045  -0.671  1.00  0.00           O  \nATOM    105    O MOL     1       7.833   7.704  26.486  1.00  0.00           O  \nATOM    106    O MOL     1       7.521   6.568  26.853  1.00  0.00           O  \nATOM    107    O MOL     1       6.293   9.031  22.739  1.00  0.00           O  \nATOM    108    O MOL     1       3.544   9.039  22.848  1.00  0.00           O  \nATOM    109    O MOL     1       4.481   2.454  28.893  1.00  0.00           O  \nATOM    110    O MOL     1       3.305   2.094  28.783  1.00  0.00           O  \nATOM    111    O MOL     1      -0.322   3.184  25.381  1.00  0.00           O  \nATOM    112    O MOL     1      -0.978   1.444  23.029  1.00  0.00           O  \nENDMDL\n",
           "ext": "pdb"
          }
         ],
         "kwargs": {},
         "methodName": "replaceStructure",
         "reconstruc_color_scheme": false,
         "target": "Widget",
         "type": "call_method"
        },
        {
         "args": [
          "this._Q = [[1.0, 0.0, 0.0], [0.0, 1.0, 0.0], [0.0, 0.0, 1.0]]"
         ],
         "kwargs": {},
         "methodName": "executeCode",
         "reconstruc_color_scheme": false,
         "target": "Widget",
         "type": "call_method"
        },
        {
         "args": [
          {
           "data": "CRYST1    8.591    9.920   31.691  90.00  90.00  90.00 P 1\nMODEL     1\nATOM      1   Al MOL     1       2.134   1.465  10.542  1.00  0.00          AL  \nATOM      2   Al MOL     1       5.199   1.442  10.607  1.00  0.00          AL  \nATOM      3   Al MOL     1       7.898   1.473  10.794  1.00  0.00          AL  \nATOM      4   Al MOL     1       0.681   3.965  10.796  1.00  0.00          AL  \nATOM      5   Al MOL     1       3.608   3.919  10.573  1.00  0.00          AL  \nATOM      6   Al MOL     1       6.597   3.830  10.605  1.00  0.00          AL  \nATOM      7   Al MOL     1       2.187   6.461  10.773  1.00  0.00          AL  \nATOM      8   Al MOL     1       5.059   6.434  10.463  1.00  0.00          AL  \nATOM      9   Al MOL     1       8.033   6.346  10.498  1.00  0.00          AL  \nATOM     10   Al MOL     1       0.783   8.893  10.537  1.00  0.00          AL  \nATOM     11   Al MOL     1       3.582   8.923  10.614  1.00  0.00          AL  \nATOM     12   Al MOL     1       6.461   8.984  10.626  1.00  0.00          AL  \nATOM     13   Al MOL     1       0.601   2.328  12.993  1.00  0.00          AL  \nATOM     14   Al MOL     1       3.509   2.300  12.907  1.00  0.00          AL  \nATOM     15   Al MOL     1       6.408   2.356  13.017  1.00  0.00          AL  \nATOM     16   Al MOL     1       2.081   4.786  13.065  1.00  0.00          AL  \nATOM     17   Al MOL     1       4.966   4.791  12.919  1.00  0.00          AL  \nATOM     18   Al MOL     1       7.848   4.869  12.999  1.00  0.00          AL  \nATOM     19   Al MOL     1       0.567   7.266  12.829  1.00  0.00          AL  \nATOM     20   Al MOL     1       3.545   7.316  12.885  1.00  0.00          AL  \nATOM     21   Al MOL     1       6.410   7.248  12.824  1.00  0.00          AL  \nATOM     22   Al MOL     1       2.104   9.786  12.855  1.00  0.00          AL  \nATOM     23   Al MOL     1       5.023   9.770  12.895  1.00  0.00          AL  \nATOM     24   Al MOL     1       7.823   9.806  12.943  1.00  0.00          AL  \nATOM     25   Al MOL     1       0.672   0.607  15.193  1.00  0.00          AL  \nATOM     26   Al MOL     1       3.518   0.640  15.119  1.00  0.00          AL  \nATOM     27   Al MOL     1       6.361   0.697  15.199  1.00  0.00          AL  \nATOM     28   Al MOL     1       2.084   3.133  15.234  1.00  0.00          AL  \nATOM     29   Al MOL     1       4.914   3.122  15.252  1.00  0.00          AL  \nATOM     30   Al MOL     1       7.745   3.218  15.352  1.00  0.00          AL  \nATOM     31   Al MOL     1       0.695   5.633  15.221  1.00  0.00          AL  \nATOM     32   Al MOL     1       3.569   5.644  15.213  1.00  0.00          AL  \nATOM     33   Al MOL     1       6.345   5.651  15.241  1.00  0.00          AL  \nATOM     34   Al MOL     1       2.101   8.157  15.226  1.00  0.00          AL  \nATOM     35   Al MOL     1       4.969   8.102  15.182  1.00  0.00          AL  \nATOM     36   Al MOL     1       7.763   8.131  15.147  1.00  0.00          AL  \nATOM     37   Al MOL     1       2.057   1.471  17.463  1.00  0.00          AL  \nATOM     38   Al MOL     1       4.939   1.482  17.466  1.00  0.00          AL  \nATOM     39   Al MOL     1       7.739   1.531  17.492  1.00  0.00          AL  \nATOM     40   Al MOL     1       0.572   3.995  17.561  1.00  0.00          AL  \nATOM     41   Al MOL     1       3.558   3.984  17.487  1.00  0.00          AL  \nATOM     42   Al MOL     1       6.324   3.997  17.591  1.00  0.00          AL  \nATOM     43   Al MOL     1       2.127   6.435  17.454  1.00  0.00          AL  \nATOM     44   Al MOL     1       4.837   6.400  17.462  1.00  0.00          AL  \nATOM     45   Al MOL     1       7.762   6.416  17.560  1.00  0.00          AL  \nATOM     46   Al MOL     1       0.609   8.887  17.415  1.00  0.00          AL  \nATOM     47   Al MOL     1       3.448   8.895  17.474  1.00  0.00          AL  \nATOM     48   Al MOL     1       6.335   8.893  17.458  1.00  0.00          AL  \nATOM     49   Al MOL     1       0.631   2.408  19.698  1.00  0.00          AL  \nATOM     50   Al MOL     1       3.447   2.362  19.819  1.00  0.00          AL  \nATOM     51   Al MOL     1       6.217   2.455  19.728  1.00  0.00          AL  \nATOM     52   Al MOL     1       2.164   4.816  19.750  1.00  0.00          AL  \nATOM     53   Al MOL     1       4.948   4.813  19.795  1.00  0.00          AL  \nATOM     54   Al MOL     1       7.783   4.760  19.819  1.00  0.00          AL  \nATOM     55   Al MOL     1       0.578   7.285  19.714  1.00  0.00          AL  \nATOM     56   Al MOL     1       3.406   7.353  19.645  1.00  0.00          AL  \nATOM     57   Al MOL     1       6.361   7.330  19.647  1.00  0.00          AL  \nATOM     58   Al MOL     1       2.045   9.719  19.726  1.00  0.00          AL  \nATOM     59   Al MOL     1       4.854   9.722  19.758  1.00  0.00          AL  \nATOM     60   Al MOL     1       7.732   9.805  19.752  1.00  0.00          AL  \nATOM     61   Al MOL     1       0.570   0.683  22.042  1.00  0.00          AL  \nATOM     62   Al MOL     1       3.483   0.741  21.989  1.00  0.00          AL  \nATOM     63   Al MOL     1       6.214   0.663  22.003  1.00  0.00          AL  \nATOM     64   Al MOL     1       2.204   3.283  22.271  1.00  0.00          AL  \nATOM     65   Al MOL     1       4.957   3.223  22.269  1.00  0.00          AL  \nATOM     66   Al MOL     1       7.947   3.112  23.579  1.00  0.00          AL  \nATOM     67   Al MOL     1       0.595   5.666  22.102  1.00  0.00          AL  \nATOM     68   Al MOL     1       3.531   5.858  23.468  1.00  0.00          AL  \nATOM     69   Al MOL     1       6.361   5.630  21.844  1.00  0.00          AL  \nATOM     70   Al MOL     1       2.059   8.029  22.033  1.00  0.00          AL  \nATOM     71   Al MOL     1       4.889   8.287  22.425  1.00  0.00          AL  \nATOM     72   Al MOL     1       7.705   8.128  22.032  1.00  0.00          AL  \nATOM     73    O MOL     1      10.577   1.541  22.717  1.00  0.00           O  \nATOM     74    O MOL     1       6.312   4.172  23.089  1.00  0.00           O  \nATOM     75    O MOL     1       4.833   6.490  22.382  1.00  0.00           O  \nATOM     76    O MOL     1       3.816   6.291  25.081  1.00  0.00           O  \nATOM     77    O MOL     1       4.312   0.274  -0.313  1.00  0.00           O  \nATOM     78    O MOL     1       4.519  -0.487  -1.261  1.00  0.00           O  \nATOM     79    O MOL     1       4.390   6.460   0.193  1.00  0.00           O  \nATOM     80    O MOL     1       5.155   6.288  -0.760  1.00  0.00           O  \nATOM     81    O MOL     1       7.700   4.565   0.395  1.00  0.00           O  \nATOM     82    O MOL     1       7.441   5.275   1.369  1.00  0.00           O  \nATOM     83    O MOL     1       7.256  -1.034   0.936  1.00  0.00           O  \nATOM     84    O MOL     1       7.491  -0.251   0.012  1.00  0.00           O  \nATOM     85    O MOL     1       2.761   5.139  28.734  1.00  0.00           O  \nATOM     86    O MOL     1       2.854   6.305  28.345  1.00  0.00           O  \nATOM     87    O MOL     1       1.893   6.531  23.009  1.00  0.00           O  \nATOM     88    O MOL     1       3.540   3.976  22.988  1.00  0.00           O  \nATOM     89    O MOL     1       1.319   3.015  25.256  1.00  0.00           O  \nATOM     90    O MOL     1       1.590   2.381  26.284  1.00  0.00           O  \nATOM     91    O MOL     1       7.837   8.108   9.816  1.00  0.00           O  \nATOM     92    O MOL     1       6.491   5.570   9.870  1.00  0.00           O  \nATOM     93    O MOL     1       2.119   3.161   9.933  1.00  0.00           O  \nATOM     94    O MOL     1       3.567   5.618   9.800  1.00  0.00           O  \nATOM     95    O MOL     1       7.761   6.445  22.656  1.00  0.00           O  \nATOM     96    O MOL     1       9.235   3.910  22.642  1.00  0.00           O  \nATOM     97    O MOL     1       3.688   0.661   9.861  1.00  0.00           O  \nATOM     98    O MOL     1       5.059   3.125   9.860  1.00  0.00           O  \nATOM     99    O MOL     1       0.647  10.585   9.807  1.00  0.00           O  \nATOM    100    O MOL     1       4.990   8.112   9.815  1.00  0.00           O  \nATOM    101    O MOL     1       2.049   8.156  25.835  1.00  0.00           O  \nATOM    102    O MOL     1       2.619   8.801  26.719  1.00  0.00           O  \nATOM    103    O MOL     1       1.757   8.021  -0.789  1.00  0.00           O  \nATOM    104    O MOL     1       1.061   7.006  -0.691  1.00  0.00           O  \nATOM    105    O MOL     1       7.632   8.003  26.607  1.00  0.00           O  \nATOM    106    O MOL     1       7.619   6.773  26.697  1.00  0.00           O  \nATOM    107    O MOL     1       6.412   8.977  22.982  1.00  0.00           O  \nATOM    108    O MOL     1       3.331   8.977  22.829  1.00  0.00           O  \nATOM    109    O MOL     1       4.496   2.494  29.094  1.00  0.00           O  \nATOM    110    O MOL     1       3.359   2.125  28.795  1.00  0.00           O  \nATOM    111    O MOL     1      -0.447   3.296  25.294  1.00  0.00           O  \nATOM    112    O MOL     1      -0.810   1.493  22.731  1.00  0.00           O  \nENDMDL\n",
           "ext": "pdb"
          }
         ],
         "kwargs": {},
         "methodName": "replaceStructure",
         "reconstruc_color_scheme": false,
         "target": "Widget",
         "type": "call_method"
        },
        {
         "args": [
          "this._Q = [[1.0, 0.0, 0.0], [0.0, 1.0, 0.0], [0.0, 0.0, 1.0]]"
         ],
         "kwargs": {},
         "methodName": "executeCode",
         "reconstruc_color_scheme": false,
         "target": "Widget",
         "type": "call_method"
        },
        {
         "args": [
          {
           "data": "CRYST1    8.591    9.920   31.691  90.00  90.00  90.00 P 1\nMODEL     1\nATOM      1   Al MOL     1       1.958   1.456  10.347  1.00  0.00          AL  \nATOM      2   Al MOL     1       4.976   1.466  10.692  1.00  0.00          AL  \nATOM      3   Al MOL     1       7.728   1.386  10.600  1.00  0.00          AL  \nATOM      4   Al MOL     1       0.636   3.946  10.630  1.00  0.00          AL  \nATOM      5   Al MOL     1       3.417   3.993  10.444  1.00  0.00          AL  \nATOM      6   Al MOL     1       6.586   3.851  10.439  1.00  0.00          AL  \nATOM      7   Al MOL     1       2.094   6.482  10.617  1.00  0.00          AL  \nATOM      8   Al MOL     1       4.975   6.408  10.568  1.00  0.00          AL  \nATOM      9   Al MOL     1       7.990   6.345  10.422  1.00  0.00          AL  \nATOM     10   Al MOL     1       0.737   8.768  10.396  1.00  0.00          AL  \nATOM     11   Al MOL     1       3.438   8.917  10.624  1.00  0.00          AL  \nATOM     12   Al MOL     1       6.412   8.961  10.760  1.00  0.00          AL  \nATOM     13   Al MOL     1       0.724   2.298  12.785  1.00  0.00          AL  \nATOM     14   Al MOL     1       3.464   2.288  12.902  1.00  0.00          AL  \nATOM     15   Al MOL     1       6.362   2.263  12.975  1.00  0.00          AL  \nATOM     16   Al MOL     1       2.092   4.789  12.846  1.00  0.00          AL  \nATOM     17   Al MOL     1       4.984   4.802  12.874  1.00  0.00          AL  \nATOM     18   Al MOL     1       7.780   4.796  12.811  1.00  0.00          AL  \nATOM     19   Al MOL     1       0.623   7.221  12.833  1.00  0.00          AL  \nATOM     20   Al MOL     1       3.536   7.216  12.877  1.00  0.00          AL  \nATOM     21   Al MOL     1       6.381   7.213  12.971  1.00  0.00          AL  \nATOM     22   Al MOL     1       2.025   9.767  12.873  1.00  0.00          AL  \nATOM     23   Al MOL     1       4.873   9.738  12.962  1.00  0.00          AL  \nATOM     24   Al MOL     1       7.784   9.719  12.961  1.00  0.00          AL  \nATOM     25   Al MOL     1       0.653   0.714  15.243  1.00  0.00          AL  \nATOM     26   Al MOL     1       3.456   0.683  15.217  1.00  0.00          AL  \nATOM     27   Al MOL     1       6.399   0.648  15.256  1.00  0.00          AL  \nATOM     28   Al MOL     1       2.134   3.150  15.074  1.00  0.00          AL  \nATOM     29   Al MOL     1       4.972   3.126  15.224  1.00  0.00          AL  \nATOM     30   Al MOL     1       7.875   3.115  15.131  1.00  0.00          AL  \nATOM     31   Al MOL     1       0.635   5.582  15.045  1.00  0.00          AL  \nATOM     32   Al MOL     1       3.518   5.557  15.218  1.00  0.00          AL  \nATOM     33   Al MOL     1       6.431   5.543  15.194  1.00  0.00          AL  \nATOM     34   Al MOL     1       2.077   8.106  15.209  1.00  0.00          AL  \nATOM     35   Al MOL     1       4.979   8.055  15.209  1.00  0.00          AL  \nATOM     36   Al MOL     1       7.832   8.109  15.199  1.00  0.00          AL  \nATOM     37   Al MOL     1       2.102   1.526  17.487  1.00  0.00          AL  \nATOM     38   Al MOL     1       4.965   1.504  17.626  1.00  0.00          AL  \nATOM     39   Al MOL     1       7.897   1.556  17.486  1.00  0.00          AL  \nATOM     40   Al MOL     1       0.779   3.983  17.369  1.00  0.00          AL  \nATOM     41   Al MOL     1       3.525   3.908  17.462  1.00  0.00          AL  \nATOM     42   Al MOL     1       6.412   3.973  17.423  1.00  0.00          AL  \nATOM     43   Al MOL     1       2.115   6.553  17.441  1.00  0.00          AL  \nATOM     44   Al MOL     1       5.022   6.558  17.499  1.00  0.00          AL  \nATOM     45   Al MOL     1       7.868   6.533  17.446  1.00  0.00          AL  \nATOM     46   Al MOL     1       0.690   9.036  17.462  1.00  0.00          AL  \nATOM     47   Al MOL     1       3.497   8.929  17.523  1.00  0.00          AL  \nATOM     48   Al MOL     1       6.409   9.019  17.513  1.00  0.00          AL  \nATOM     49   Al MOL     1       0.686   2.372  19.689  1.00  0.00          AL  \nATOM     50   Al MOL     1       3.586   2.313  19.830  1.00  0.00          AL  \nATOM     51   Al MOL     1       6.462   2.370  19.830  1.00  0.00          AL  \nATOM     52   Al MOL     1       2.060   4.787  19.618  1.00  0.00          AL  \nATOM     53   Al MOL     1       4.964   4.876  19.727  1.00  0.00          AL  \nATOM     54   Al MOL     1       7.772   4.860  19.642  1.00  0.00          AL  \nATOM     55   Al MOL     1       0.536   7.418  19.636  1.00  0.00          AL  \nATOM     56   Al MOL     1       3.460   7.272  19.681  1.00  0.00          AL  \nATOM     57   Al MOL     1       6.295   7.300  19.857  1.00  0.00          AL  \nATOM     58   Al MOL     1       2.069   9.690  19.776  1.00  0.00          AL  \nATOM     59   Al MOL     1       4.866   9.764  19.836  1.00  0.00          AL  \nATOM     60   Al MOL     1       7.788   9.766  19.794  1.00  0.00          AL  \nATOM     61   Al MOL     1       0.667   0.732  21.986  1.00  0.00          AL  \nATOM     62   Al MOL     1       3.647   0.881  22.326  1.00  0.00          AL  \nATOM     63   Al MOL     1       6.412   0.787  22.225  1.00  0.00          AL  \nATOM     64   Al MOL     1       2.080   3.281  22.185  1.00  0.00          AL  \nATOM     65   Al MOL     1       4.976   3.260  22.159  1.00  0.00          AL  \nATOM     66   Al MOL     1       7.879   3.203  23.711  1.00  0.00          AL  \nATOM     67   Al MOL     1       0.796   5.646  21.863  1.00  0.00          AL  \nATOM     68   Al MOL     1       3.491   5.754  23.764  1.00  0.00          AL  \nATOM     69   Al MOL     1       6.660   5.466  22.120  1.00  0.00          AL  \nATOM     70   Al MOL     1       1.992   8.175  22.035  1.00  0.00          AL  \nATOM     71   Al MOL     1       4.973   8.160  22.144  1.00  0.00          AL  \nATOM     72   Al MOL     1       7.942   8.269  22.204  1.00  0.00          AL  \nATOM     73    O MOL     1      10.653   1.507  23.024  1.00  0.00           O  \nATOM     74    O MOL     1       6.397   3.878  22.963  1.00  0.00           O  \nATOM     75    O MOL     1       5.039   6.343  22.563  1.00  0.00           O  \nATOM     76    O MOL     1       3.336   6.276  25.314  1.00  0.00           O  \nATOM     77    O MOL     1       4.248   0.068  -0.243  1.00  0.00           O  \nATOM     78    O MOL     1       4.587  -0.416  -1.326  1.00  0.00           O  \nATOM     79    O MOL     1       4.430   6.503   0.142  1.00  0.00           O  \nATOM     80    O MOL     1       5.100   6.168  -0.839  1.00  0.00           O  \nATOM     81    O MOL     1       7.900   4.324   0.424  1.00  0.00           O  \nATOM     82    O MOL     1       7.539   5.229   1.179  1.00  0.00           O  \nATOM     83    O MOL     1       7.330  -1.080   0.825  1.00  0.00           O  \nATOM     84    O MOL     1       7.537  -0.128   0.069  1.00  0.00           O  \nATOM     85    O MOL     1       2.699   5.283  28.398  1.00  0.00           O  \nATOM     86    O MOL     1       2.610   6.511  28.381  1.00  0.00           O  \nATOM     87    O MOL     1       2.157   6.455  22.737  1.00  0.00           O  \nATOM     88    O MOL     1       3.599   4.000  23.054  1.00  0.00           O  \nATOM     89    O MOL     1       0.798   3.099  26.007  1.00  0.00           O  \nATOM     90    O MOL     1       1.189   2.426  26.967  1.00  0.00           O  \nATOM     91    O MOL     1       7.758   8.080   9.810  1.00  0.00           O  \nATOM     92    O MOL     1       6.369   5.588   9.843  1.00  0.00           O  \nATOM     93    O MOL     1       2.021   3.128   9.709  1.00  0.00           O  \nATOM     94    O MOL     1       3.510   5.695   9.738  1.00  0.00           O  \nATOM     95    O MOL     1       8.081   6.482  22.850  1.00  0.00           O  \nATOM     96    O MOL     1       9.291   4.089  23.020  1.00  0.00           O  \nATOM     97    O MOL     1       3.552   0.677   9.861  1.00  0.00           O  \nATOM     98    O MOL     1       4.923   3.178   9.962  1.00  0.00           O  \nATOM     99    O MOL     1       0.563  10.470   9.715  1.00  0.00           O  \nATOM    100    O MOL     1       5.014   8.121   9.960  1.00  0.00           O  \nATOM    101    O MOL     1       2.000   8.059  25.736  1.00  0.00           O  \nATOM    102    O MOL     1       2.390   8.764  26.661  1.00  0.00           O  \nATOM    103    O MOL     1       1.613   8.020  -0.749  1.00  0.00           O  \nATOM    104    O MOL     1       1.081   6.915  -0.618  1.00  0.00           O  \nATOM    105    O MOL     1       7.185   8.236  26.539  1.00  0.00           O  \nATOM    106    O MOL     1       7.703   7.123  26.403  1.00  0.00           O  \nATOM    107    O MOL     1       6.454   9.014  22.875  1.00  0.00           O  \nATOM    108    O MOL     1       3.449   8.995  22.909  1.00  0.00           O  \nATOM    109    O MOL     1       4.546   2.606  29.214  1.00  0.00           O  \nATOM    110    O MOL     1       3.432   2.157  28.932  1.00  0.00           O  \nATOM    111    O MOL     1      -0.960   3.078  25.476  1.00  0.00           O  \nATOM    112    O MOL     1      -0.652   1.519  23.028  1.00  0.00           O  \nENDMDL\n",
           "ext": "pdb"
          }
         ],
         "kwargs": {},
         "methodName": "replaceStructure",
         "reconstruc_color_scheme": false,
         "target": "Widget",
         "type": "call_method"
        },
        {
         "args": [
          "this._Q = [[1.0, 0.0, 0.0], [0.0, 1.0, 0.0], [0.0, 0.0, 1.0]]"
         ],
         "kwargs": {},
         "methodName": "executeCode",
         "reconstruc_color_scheme": false,
         "target": "Widget",
         "type": "call_method"
        },
        {
         "args": [
          {
           "data": "CRYST1    8.591    9.920   31.691  90.00  90.00  90.00 P 1\nMODEL     1\nATOM      1   Al MOL     1       2.054   1.435  10.544  1.00  0.00          AL  \nATOM      2   Al MOL     1       5.062   1.342  10.367  1.00  0.00          AL  \nATOM      3   Al MOL     1       7.774   1.528  10.646  1.00  0.00          AL  \nATOM      4   Al MOL     1       0.576   3.896  10.627  1.00  0.00          AL  \nATOM      5   Al MOL     1       3.565   3.829  10.410  1.00  0.00          AL  \nATOM      6   Al MOL     1       6.428   3.904  10.515  1.00  0.00          AL  \nATOM      7   Al MOL     1       1.901   6.436  10.726  1.00  0.00          AL  \nATOM      8   Al MOL     1       4.824   6.389  10.440  1.00  0.00          AL  \nATOM      9   Al MOL     1       7.837   6.349  10.562  1.00  0.00          AL  \nATOM     10   Al MOL     1       0.619   8.823  10.681  1.00  0.00          AL  \nATOM     11   Al MOL     1       3.344   8.811  10.581  1.00  0.00          AL  \nATOM     12   Al MOL     1       6.287   8.957  10.460  1.00  0.00          AL  \nATOM     13   Al MOL     1       0.753   2.332  12.954  1.00  0.00          AL  \nATOM     14   Al MOL     1       3.499   2.290  12.796  1.00  0.00          AL  \nATOM     15   Al MOL     1       6.301   2.369  12.800  1.00  0.00          AL  \nATOM     16   Al MOL     1       1.990   4.733  12.878  1.00  0.00          AL  \nATOM     17   Al MOL     1       4.900   4.868  12.742  1.00  0.00          AL  \nATOM     18   Al MOL     1       7.783   4.786  12.999  1.00  0.00          AL  \nATOM     19   Al MOL     1       0.590   7.267  13.057  1.00  0.00          AL  \nATOM     20   Al MOL     1       3.468   7.284  12.802  1.00  0.00          AL  \nATOM     21   Al MOL     1       6.239   7.290  12.843  1.00  0.00          AL  \nATOM     22   Al MOL     1       2.127   9.798  12.865  1.00  0.00          AL  \nATOM     23   Al MOL     1       4.996   9.767  12.818  1.00  0.00          AL  \nATOM     24   Al MOL     1       7.783   9.725  12.883  1.00  0.00          AL  \nATOM     25   Al MOL     1       0.696   0.683  15.207  1.00  0.00          AL  \nATOM     26   Al MOL     1       3.521   0.725  15.129  1.00  0.00          AL  \nATOM     27   Al MOL     1       6.498   0.667  15.080  1.00  0.00          AL  \nATOM     28   Al MOL     1       2.064   3.122  15.279  1.00  0.00          AL  \nATOM     29   Al MOL     1       4.916   3.203  15.080  1.00  0.00          AL  \nATOM     30   Al MOL     1       7.803   3.143  15.196  1.00  0.00          AL  \nATOM     31   Al MOL     1       0.704   5.649  15.204  1.00  0.00          AL  \nATOM     32   Al MOL     1       3.475   5.604  15.042  1.00  0.00          AL  \nATOM     33   Al MOL     1       6.354   5.721  15.043  1.00  0.00          AL  \nATOM     34   Al MOL     1       2.093   8.133  15.226  1.00  0.00          AL  \nATOM     35   Al MOL     1       4.965   8.143  15.195  1.00  0.00          AL  \nATOM     36   Al MOL     1       7.814   8.121  15.227  1.00  0.00          AL  \nATOM     37   Al MOL     1       2.093   1.610  17.493  1.00  0.00          AL  \nATOM     38   Al MOL     1       4.974   1.555  17.461  1.00  0.00          AL  \nATOM     39   Al MOL     1       7.840   1.426  17.419  1.00  0.00          AL  \nATOM     40   Al MOL     1       0.666   3.921  17.549  1.00  0.00          AL  \nATOM     41   Al MOL     1       3.438   3.959  17.402  1.00  0.00          AL  \nATOM     42   Al MOL     1       6.381   4.048  17.441  1.00  0.00          AL  \nATOM     43   Al MOL     1       2.052   6.356  17.527  1.00  0.00          AL  \nATOM     44   Al MOL     1       4.938   6.461  17.502  1.00  0.00          AL  \nATOM     45   Al MOL     1       7.794   6.445  17.466  1.00  0.00          AL  \nATOM     46   Al MOL     1       0.709   8.824  17.633  1.00  0.00          AL  \nATOM     47   Al MOL     1       3.608   8.970  17.556  1.00  0.00          AL  \nATOM     48   Al MOL     1       6.436   8.911  17.344  1.00  0.00          AL  \nATOM     49   Al MOL     1       0.691   2.435  19.786  1.00  0.00          AL  \nATOM     50   Al MOL     1       3.547   2.491  19.702  1.00  0.00          AL  \nATOM     51   Al MOL     1       6.404   2.384  19.791  1.00  0.00          AL  \nATOM     52   Al MOL     1       2.149   4.819  20.056  1.00  0.00          AL  \nATOM     53   Al MOL     1       4.977   4.894  19.815  1.00  0.00          AL  \nATOM     54   Al MOL     1       8.027   4.776  19.863  1.00  0.00          AL  \nATOM     55   Al MOL     1       0.984   7.228  19.802  1.00  0.00          AL  \nATOM     56   Al MOL     1       3.745   7.316  19.839  1.00  0.00          AL  \nATOM     57   Al MOL     1       6.498   7.340  19.822  1.00  0.00          AL  \nATOM     58   Al MOL     1       2.192   9.974  19.681  1.00  0.00          AL  \nATOM     59   Al MOL     1       5.156   9.886  19.681  1.00  0.00          AL  \nATOM     60   Al MOL     1       8.026  10.001  19.693  1.00  0.00          AL  \nATOM     61   Al MOL     1       0.724   0.623  22.303  1.00  0.00          AL  \nATOM     62   Al MOL     1       3.627   0.662  21.866  1.00  0.00          AL  \nATOM     63   Al MOL     1       6.578   0.928  22.072  1.00  0.00          AL  \nATOM     64   Al MOL     1       2.185   3.079  22.194  1.00  0.00          AL  \nATOM     65   Al MOL     1       4.947   2.907  22.049  1.00  0.00          AL  \nATOM     66   Al MOL     1       7.899   3.284  23.619  1.00  0.00          AL  \nATOM     67   Al MOL     1       0.819   5.654  22.476  1.00  0.00          AL  \nATOM     68   Al MOL     1       3.582   5.669  24.163  1.00  0.00          AL  \nATOM     69   Al MOL     1       6.276   5.738  22.447  1.00  0.00          AL  \nATOM     70   Al MOL     1       2.140   8.163  21.999  1.00  0.00          AL  \nATOM     71   Al MOL     1       5.128   8.203  22.278  1.00  0.00          AL  \nATOM     72   Al MOL     1       8.083   8.091  21.873  1.00  0.00          AL  \nATOM     73    O MOL     1      10.757   1.352  22.850  1.00  0.00           O  \nATOM     74    O MOL     1       6.534   4.059  22.702  1.00  0.00           O  \nATOM     75    O MOL     1       4.888   6.682  23.294  1.00  0.00           O  \nATOM     76    O MOL     1       3.048   5.055  25.701  1.00  0.00           O  \nATOM     77    O MOL     1       4.222  -0.102  -0.202  1.00  0.00           O  \nATOM     78    O MOL     1       4.640  -0.492  -1.296  1.00  0.00           O  \nATOM     79    O MOL     1       4.522   6.576   0.029  1.00  0.00           O  \nATOM     80    O MOL     1       5.124   6.044  -0.908  1.00  0.00           O  \nATOM     81    O MOL     1       8.037   4.281   0.286  1.00  0.00           O  \nATOM     82    O MOL     1       7.602   5.062   1.134  1.00  0.00           O  \nATOM     83    O MOL     1       7.311  -1.112   0.644  1.00  0.00           O  \nATOM     84    O MOL     1       7.531  -0.006   0.146  1.00  0.00           O  \nATOM     85    O MOL     1       2.532   5.245  28.288  1.00  0.00           O  \nATOM     86    O MOL     1       2.423   6.470  28.322  1.00  0.00           O  \nATOM     87    O MOL     1       2.129   6.650  22.929  1.00  0.00           O  \nATOM     88    O MOL     1       3.605   3.966  22.741  1.00  0.00           O  \nATOM     89    O MOL     1       0.723   3.135  26.296  1.00  0.00           O  \nATOM     90    O MOL     1       0.434   2.641  27.386  1.00  0.00           O  \nATOM     91    O MOL     1       7.736   8.003   9.877  1.00  0.00           O  \nATOM     92    O MOL     1       6.285   5.614   9.772  1.00  0.00           O  \nATOM     93    O MOL     1       2.043   3.097   9.774  1.00  0.00           O  \nATOM     94    O MOL     1       3.378   5.559   9.852  1.00  0.00           O  \nATOM     95    O MOL     1       7.861   6.516  22.725  1.00  0.00           O  \nATOM     96    O MOL     1       9.487   3.979  23.161  1.00  0.00           O  \nATOM     97    O MOL     1       3.507   0.564   9.829  1.00  0.00           O  \nATOM     98    O MOL     1       5.005   3.066   9.632  1.00  0.00           O  \nATOM     99    O MOL     1       0.568  10.523   9.900  1.00  0.00           O  \nATOM    100    O MOL     1       4.817   8.061   9.729  1.00  0.00           O  \nATOM    101    O MOL     1       1.603   8.035  25.355  1.00  0.00           O  \nATOM    102    O MOL     1       2.477   8.566  26.053  1.00  0.00           O  \nATOM    103    O MOL     1       1.494   7.978  -0.578  1.00  0.00           O  \nATOM    104    O MOL     1       1.091   6.815  -0.482  1.00  0.00           O  \nATOM    105    O MOL     1       6.855   8.445  26.245  1.00  0.00           O  \nATOM    106    O MOL     1       7.596   7.464  26.109  1.00  0.00           O  \nATOM    107    O MOL     1       6.721   9.113  22.568  1.00  0.00           O  \nATOM    108    O MOL     1       3.525   9.140  22.686  1.00  0.00           O  \nATOM    109    O MOL     1       4.652   2.719  29.341  1.00  0.00           O  \nATOM    110    O MOL     1       3.492   2.359  29.131  1.00  0.00           O  \nATOM    111    O MOL     1      -0.973   3.366  25.227  1.00  0.00           O  \nATOM    112    O MOL     1      -0.566   1.628  22.975  1.00  0.00           O  \nENDMDL\n",
           "ext": "pdb"
          }
         ],
         "kwargs": {},
         "methodName": "replaceStructure",
         "reconstruc_color_scheme": false,
         "target": "Widget",
         "type": "call_method"
        },
        {
         "args": [
          "this._Q = [[1.0, 0.0, 0.0], [0.0, 1.0, 0.0], [0.0, 0.0, 1.0]]"
         ],
         "kwargs": {},
         "methodName": "executeCode",
         "reconstruc_color_scheme": false,
         "target": "Widget",
         "type": "call_method"
        },
        {
         "args": [
          {
           "data": "CRYST1    8.591    9.920   31.691  90.00  90.00  90.00 P 1\nMODEL     1\nATOM      1   Al MOL     1       1.999   1.406  10.432  1.00  0.00          AL  \nATOM      2   Al MOL     1       5.015   1.418  10.570  1.00  0.00          AL  \nATOM      3   Al MOL     1       7.662   1.392  10.760  1.00  0.00          AL  \nATOM      4   Al MOL     1       0.583   3.969  10.904  1.00  0.00          AL  \nATOM      5   Al MOL     1       3.432   3.903  10.476  1.00  0.00          AL  \nATOM      6   Al MOL     1       6.533   3.771  10.447  1.00  0.00          AL  \nATOM      7   Al MOL     1       2.012   6.483  10.658  1.00  0.00          AL  \nATOM      8   Al MOL     1       4.920   6.387  10.400  1.00  0.00          AL  \nATOM      9   Al MOL     1       7.955   6.306  10.489  1.00  0.00          AL  \nATOM     10   Al MOL     1       0.757   8.803  10.367  1.00  0.00          AL  \nATOM     11   Al MOL     1       3.419   8.880  10.494  1.00  0.00          AL  \nATOM     12   Al MOL     1       6.336   8.941  10.652  1.00  0.00          AL  \nATOM     13   Al MOL     1       0.501   2.300  13.001  1.00  0.00          AL  \nATOM     14   Al MOL     1       3.388   2.310  12.854  1.00  0.00          AL  \nATOM     15   Al MOL     1       6.274   2.341  12.990  1.00  0.00          AL  \nATOM     16   Al MOL     1       2.047   4.914  13.002  1.00  0.00          AL  \nATOM     17   Al MOL     1       4.887   4.857  12.958  1.00  0.00          AL  \nATOM     18   Al MOL     1       7.649   4.829  13.036  1.00  0.00          AL  \nATOM     19   Al MOL     1       0.607   7.305  12.905  1.00  0.00          AL  \nATOM     20   Al MOL     1       3.509   7.260  12.818  1.00  0.00          AL  \nATOM     21   Al MOL     1       6.351   7.287  12.902  1.00  0.00          AL  \nATOM     22   Al MOL     1       2.003   9.740  12.799  1.00  0.00          AL  \nATOM     23   Al MOL     1       4.834   9.811  12.838  1.00  0.00          AL  \nATOM     24   Al MOL     1       7.739   9.680  12.985  1.00  0.00          AL  \nATOM     25   Al MOL     1       0.617   0.664  15.109  1.00  0.00          AL  \nATOM     26   Al MOL     1       3.476   0.681  15.087  1.00  0.00          AL  \nATOM     27   Al MOL     1       6.326   0.640  15.179  1.00  0.00          AL  \nATOM     28   Al MOL     1       2.080   3.117  15.241  1.00  0.00          AL  \nATOM     29   Al MOL     1       4.858   3.219  15.196  1.00  0.00          AL  \nATOM     30   Al MOL     1       7.790   3.186  15.198  1.00  0.00          AL  \nATOM     31   Al MOL     1       0.577   5.708  15.273  1.00  0.00          AL  \nATOM     32   Al MOL     1       3.553   5.703  15.281  1.00  0.00          AL  \nATOM     33   Al MOL     1       6.371   5.699  15.207  1.00  0.00          AL  \nATOM     34   Al MOL     1       2.059   7.999  15.060  1.00  0.00          AL  \nATOM     35   Al MOL     1       5.082   8.157  15.074  1.00  0.00          AL  \nATOM     36   Al MOL     1       7.724   8.087  15.169  1.00  0.00          AL  \nATOM     37   Al MOL     1       2.216   1.524  17.481  1.00  0.00          AL  \nATOM     38   Al MOL     1       4.970   1.509  17.440  1.00  0.00          AL  \nATOM     39   Al MOL     1       7.947   1.607  17.406  1.00  0.00          AL  \nATOM     40   Al MOL     1       0.788   4.061  17.552  1.00  0.00          AL  \nATOM     41   Al MOL     1       3.625   4.016  17.554  1.00  0.00          AL  \nATOM     42   Al MOL     1       6.412   4.061  17.486  1.00  0.00          AL  \nATOM     43   Al MOL     1       2.164   6.582  17.562  1.00  0.00          AL  \nATOM     44   Al MOL     1       5.134   6.626  17.538  1.00  0.00          AL  \nATOM     45   Al MOL     1       7.917   6.580  17.533  1.00  0.00          AL  \nATOM     46   Al MOL     1       0.617   8.973  17.414  1.00  0.00          AL  \nATOM     47   Al MOL     1       3.653   8.970  17.305  1.00  0.00          AL  \nATOM     48   Al MOL     1       6.468   9.015  17.433  1.00  0.00          AL  \nATOM     49   Al MOL     1       0.885   2.375  19.654  1.00  0.00          AL  \nATOM     50   Al MOL     1       3.724   2.251  19.727  1.00  0.00          AL  \nATOM     51   Al MOL     1       6.608   2.292  19.742  1.00  0.00          AL  \nATOM     52   Al MOL     1       2.249   4.905  19.884  1.00  0.00          AL  \nATOM     53   Al MOL     1       4.997   4.847  19.882  1.00  0.00          AL  \nATOM     54   Al MOL     1       8.040   4.856  19.879  1.00  0.00          AL  \nATOM     55   Al MOL     1       0.669   7.291  19.918  1.00  0.00          AL  \nATOM     56   Al MOL     1       3.598   7.260  19.975  1.00  0.00          AL  \nATOM     57   Al MOL     1       6.355   7.380  19.852  1.00  0.00          AL  \nATOM     58   Al MOL     1       2.155   9.690  19.755  1.00  0.00          AL  \nATOM     59   Al MOL     1       5.014   9.807  19.724  1.00  0.00          AL  \nATOM     60   Al MOL     1       7.860   9.711  19.752  1.00  0.00          AL  \nATOM     61   Al MOL     1       0.637   0.747  21.935  1.00  0.00          AL  \nATOM     62   Al MOL     1       3.894   0.744  22.068  1.00  0.00          AL  \nATOM     63   Al MOL     1       6.409   0.671  22.043  1.00  0.00          AL  \nATOM     64   Al MOL     1       2.194   3.282  22.307  1.00  0.00          AL  \nATOM     65   Al MOL     1       5.338   3.080  21.898  1.00  0.00          AL  \nATOM     66   Al MOL     1       7.782   3.122  23.641  1.00  0.00          AL  \nATOM     67   Al MOL     1       0.774   5.660  22.237  1.00  0.00          AL  \nATOM     68   Al MOL     1       3.856   5.358  23.845  1.00  0.00          AL  \nATOM     69   Al MOL     1       6.574   5.617  22.171  1.00  0.00          AL  \nATOM     70   Al MOL     1       2.090   8.274  22.143  1.00  0.00          AL  \nATOM     71   Al MOL     1       5.050   8.014  22.224  1.00  0.00          AL  \nATOM     72   Al MOL     1       8.083   8.304  22.336  1.00  0.00          AL  \nATOM     73    O MOL     1      10.844   1.389  22.532  1.00  0.00           O  \nATOM     74    O MOL     1       6.495   3.905  22.913  1.00  0.00           O  \nATOM     75    O MOL     1       5.117   6.373  22.832  1.00  0.00           O  \nATOM     76    O MOL     1       3.538   4.953  25.370  1.00  0.00           O  \nATOM     77    O MOL     1       4.233  -0.156  -0.191  1.00  0.00           O  \nATOM     78    O MOL     1       4.563  -0.541  -1.316  1.00  0.00           O  \nATOM     79    O MOL     1       4.624   6.552  -0.095  1.00  0.00           O  \nATOM     80    O MOL     1       5.242   5.900  -0.943  1.00  0.00           O  \nATOM     81    O MOL     1       8.104   4.344   0.049  1.00  0.00           O  \nATOM     82    O MOL     1       7.656   4.797   1.105  1.00  0.00           O  \nATOM     83    O MOL     1       7.159  -1.094   0.436  1.00  0.00           O  \nATOM     84    O MOL     1       7.501   0.078   0.262  1.00  0.00           O  \nATOM     85    O MOL     1       2.319   5.222  28.548  1.00  0.00           O  \nATOM     86    O MOL     1       2.226   6.353  28.072  1.00  0.00           O  \nATOM     87    O MOL     1       2.297   6.433  22.655  1.00  0.00           O  \nATOM     88    O MOL     1       3.770   4.029  22.679  1.00  0.00           O  \nATOM     89    O MOL     1       0.298   2.913  26.323  1.00  0.00           O  \nATOM     90    O MOL     1      -0.030   3.174  27.489  1.00  0.00           O  \nATOM     91    O MOL     1       7.765   8.059   9.846  1.00  0.00           O  \nATOM     92    O MOL     1       6.384   5.557   9.772  1.00  0.00           O  \nATOM     93    O MOL     1       1.920   3.143   9.861  1.00  0.00           O  \nATOM     94    O MOL     1       3.439   5.611   9.789  1.00  0.00           O  \nATOM     95    O MOL     1       7.938   6.429  22.941  1.00  0.00           O  \nATOM     96    O MOL     1       9.331   3.863  23.031  1.00  0.00           O  \nATOM     97    O MOL     1       3.503   0.654   9.727  1.00  0.00           O  \nATOM     98    O MOL     1       4.921   3.152   9.804  1.00  0.00           O  \nATOM     99    O MOL     1       0.539  10.541   9.818  1.00  0.00           O  \nATOM    100    O MOL     1       4.915   8.108   9.776  1.00  0.00           O  \nATOM    101    O MOL     1       1.416   8.415  25.585  1.00  0.00           O  \nATOM    102    O MOL     1       2.611   8.729  25.524  1.00  0.00           O  \nATOM    103    O MOL     1       1.573   7.865  -0.415  1.00  0.00           O  \nATOM    104    O MOL     1       1.123   6.720  -0.302  1.00  0.00           O  \nATOM    105    O MOL     1       6.441   8.781  25.828  1.00  0.00           O  \nATOM    106    O MOL     1       7.107   7.746  25.758  1.00  0.00           O  \nATOM    107    O MOL     1       6.464   8.992  22.914  1.00  0.00           O  \nATOM    108    O MOL     1       3.551   8.989  22.972  1.00  0.00           O  \nATOM    109    O MOL     1       4.774   2.792  29.518  1.00  0.00           O  \nATOM    110    O MOL     1       3.556   2.639  29.426  1.00  0.00           O  \nATOM    111    O MOL     1      -1.044   3.188  25.383  1.00  0.00           O  \nATOM    112    O MOL     1      -0.741   1.405  23.033  1.00  0.00           O  \nENDMDL\n",
           "ext": "pdb"
          }
         ],
         "kwargs": {},
         "methodName": "replaceStructure",
         "reconstruc_color_scheme": false,
         "target": "Widget",
         "type": "call_method"
        },
        {
         "args": [
          "this._Q = [[1.0, 0.0, 0.0], [0.0, 1.0, 0.0], [0.0, 0.0, 1.0]]"
         ],
         "kwargs": {},
         "methodName": "executeCode",
         "reconstruc_color_scheme": false,
         "target": "Widget",
         "type": "call_method"
        },
        {
         "args": [
          {
           "data": "CRYST1    8.591    9.920   31.691  90.00  90.00  90.00 P 1\nMODEL     1\nATOM      1   Al MOL     1       2.024   1.403  10.408  1.00  0.00          AL  \nATOM      2   Al MOL     1       5.127   1.438  10.696  1.00  0.00          AL  \nATOM      3   Al MOL     1       7.816   1.513  10.576  1.00  0.00          AL  \nATOM      4   Al MOL     1       0.602   3.984  10.443  1.00  0.00          AL  \nATOM      5   Al MOL     1       3.469   4.033  10.567  1.00  0.00          AL  \nATOM      6   Al MOL     1       6.492   3.916  10.682  1.00  0.00          AL  \nATOM      7   Al MOL     1       2.067   6.482  10.735  1.00  0.00          AL  \nATOM      8   Al MOL     1       4.979   6.468  10.593  1.00  0.00          AL  \nATOM      9   Al MOL     1       7.995   6.382  10.439  1.00  0.00          AL  \nATOM     10   Al MOL     1       0.724   8.842  10.535  1.00  0.00          AL  \nATOM     11   Al MOL     1       3.358   8.935  10.659  1.00  0.00          AL  \nATOM     12   Al MOL     1       6.384   9.062  10.500  1.00  0.00          AL  \nATOM     13   Al MOL     1       0.563   2.266  12.841  1.00  0.00          AL  \nATOM     14   Al MOL     1       3.582   2.258  13.076  1.00  0.00          AL  \nATOM     15   Al MOL     1       6.413   2.373  13.022  1.00  0.00          AL  \nATOM     16   Al MOL     1       2.090   4.818  12.813  1.00  0.00          AL  \nATOM     17   Al MOL     1       4.944   4.757  13.006  1.00  0.00          AL  \nATOM     18   Al MOL     1       7.852   4.758  12.924  1.00  0.00          AL  \nATOM     19   Al MOL     1       0.566   7.300  12.915  1.00  0.00          AL  \nATOM     20   Al MOL     1       3.296   7.324  13.074  1.00  0.00          AL  \nATOM     21   Al MOL     1       6.380   7.253  13.125  1.00  0.00          AL  \nATOM     22   Al MOL     1       1.963   9.735  12.971  1.00  0.00          AL  \nATOM     23   Al MOL     1       4.902   9.686  13.042  1.00  0.00          AL  \nATOM     24   Al MOL     1       7.760   9.810  12.941  1.00  0.00          AL  \nATOM     25   Al MOL     1       0.627   0.807  15.179  1.00  0.00          AL  \nATOM     26   Al MOL     1       3.685   0.798  15.327  1.00  0.00          AL  \nATOM     27   Al MOL     1       6.375   0.675  15.269  1.00  0.00          AL  \nATOM     28   Al MOL     1       2.113   3.193  15.060  1.00  0.00          AL  \nATOM     29   Al MOL     1       5.045   3.162  15.281  1.00  0.00          AL  \nATOM     30   Al MOL     1       7.898   3.243  15.124  1.00  0.00          AL  \nATOM     31   Al MOL     1       0.658   5.737  15.106  1.00  0.00          AL  \nATOM     32   Al MOL     1       3.550   5.631  15.083  1.00  0.00          AL  \nATOM     33   Al MOL     1       6.476   5.629  15.251  1.00  0.00          AL  \nATOM     34   Al MOL     1       2.083   8.220  15.245  1.00  0.00          AL  \nATOM     35   Al MOL     1       4.871   8.130  15.348  1.00  0.00          AL  \nATOM     36   Al MOL     1       7.874   8.134  15.256  1.00  0.00          AL  \nATOM     37   Al MOL     1       2.099   1.577  17.428  1.00  0.00          AL  \nATOM     38   Al MOL     1       5.041   1.579  17.544  1.00  0.00          AL  \nATOM     39   Al MOL     1       7.862   1.434  17.561  1.00  0.00          AL  \nATOM     40   Al MOL     1       0.701   3.994  17.366  1.00  0.00          AL  \nATOM     41   Al MOL     1       3.522   3.976  17.320  1.00  0.00          AL  \nATOM     42   Al MOL     1       6.535   3.873  17.320  1.00  0.00          AL  \nATOM     43   Al MOL     1       2.014   6.423  17.260  1.00  0.00          AL  \nATOM     44   Al MOL     1       4.921   6.365  17.339  1.00  0.00          AL  \nATOM     45   Al MOL     1       7.740   6.502  17.441  1.00  0.00          AL  \nATOM     46   Al MOL     1       0.696   8.914  17.508  1.00  0.00          AL  \nATOM     47   Al MOL     1       3.626   9.079  17.548  1.00  0.00          AL  \nATOM     48   Al MOL     1       6.377   8.870  17.573  1.00  0.00          AL  \nATOM     49   Al MOL     1       0.642   2.223  19.790  1.00  0.00          AL  \nATOM     50   Al MOL     1       3.573   2.272  19.687  1.00  0.00          AL  \nATOM     51   Al MOL     1       6.347   2.306  19.851  1.00  0.00          AL  \nATOM     52   Al MOL     1       2.068   4.859  19.663  1.00  0.00          AL  \nATOM     53   Al MOL     1       5.071   4.748  19.717  1.00  0.00          AL  \nATOM     54   Al MOL     1       7.842   4.760  19.656  1.00  0.00          AL  \nATOM     55   Al MOL     1       0.720   7.241  19.666  1.00  0.00          AL  \nATOM     56   Al MOL     1       3.527   7.205  19.679  1.00  0.00          AL  \nATOM     57   Al MOL     1       6.531   7.151  19.724  1.00  0.00          AL  \nATOM     58   Al MOL     1       2.195   9.824  19.898  1.00  0.00          AL  \nATOM     59   Al MOL     1       5.091   9.782  19.874  1.00  0.00          AL  \nATOM     60   Al MOL     1       7.834   9.659  19.741  1.00  0.00          AL  \nATOM     61   Al MOL     1       0.724   0.448  22.132  1.00  0.00          AL  \nATOM     62   Al MOL     1       3.722   0.637  22.193  1.00  0.00          AL  \nATOM     63   Al MOL     1       6.383   0.873  22.238  1.00  0.00          AL  \nATOM     64   Al MOL     1       2.210   3.142  22.252  1.00  0.00          AL  \nATOM     65   Al MOL     1       5.112   3.104  22.083  1.00  0.00          AL  \nATOM     66   Al MOL     1       7.924   2.961  23.641  1.00  0.00          AL  \nATOM     67   Al MOL     1       0.846   5.660  22.059  1.00  0.00          AL  \nATOM     68   Al MOL     1       3.631   5.649  23.739  1.00  0.00          AL  \nATOM     69   Al MOL     1       6.568   5.457  22.029  1.00  0.00          AL  \nATOM     70   Al MOL     1       2.356   7.969  21.874  1.00  0.00          AL  \nATOM     71   Al MOL     1       5.263   8.082  22.116  1.00  0.00          AL  \nATOM     72   Al MOL     1       8.009   8.139  21.949  1.00  0.00          AL  \nATOM     73    O MOL     1      10.856   1.526  22.861  1.00  0.00           O  \nATOM     74    O MOL     1       6.452   3.864  23.037  1.00  0.00           O  \nATOM     75    O MOL     1       5.095   6.368  22.488  1.00  0.00           O  \nATOM     76    O MOL     1       3.945   5.807  25.417  1.00  0.00           O  \nATOM     77    O MOL     1       4.187  -0.075  -0.284  1.00  0.00           O  \nATOM     78    O MOL     1       4.323  -0.437  -1.455  1.00  0.00           O  \nATOM     79    O MOL     1       4.658   6.321  -0.130  1.00  0.00           O  \nATOM     80    O MOL     1       5.374   5.790  -0.983  1.00  0.00           O  \nATOM     81    O MOL     1       8.087   4.294  -0.148  1.00  0.00           O  \nATOM     82    O MOL     1       7.693   4.561   0.989  1.00  0.00           O  \nATOM     83    O MOL     1       7.089  -1.078   0.295  1.00  0.00           O  \nATOM     84    O MOL     1       7.533   0.072   0.307  1.00  0.00           O  \nATOM     85    O MOL     1       2.206   5.432  28.772  1.00  0.00           O  \nATOM     86    O MOL     1       2.028   6.126  27.768  1.00  0.00           O  \nATOM     87    O MOL     1       2.168   6.452  23.020  1.00  0.00           O  \nATOM     88    O MOL     1       3.571   4.164  22.803  1.00  0.00           O  \nATOM     89    O MOL     1       0.374   3.075  26.542  1.00  0.00           O  \nATOM     90    O MOL     1      -0.257   3.295  27.561  1.00  0.00           O  \nATOM     91    O MOL     1       7.749   8.094   9.806  1.00  0.00           O  \nATOM     92    O MOL     1       6.387   5.576   9.949  1.00  0.00           O  \nATOM     93    O MOL     1       2.104   3.125   9.787  1.00  0.00           O  \nATOM     94    O MOL     1       3.541   5.719   9.823  1.00  0.00           O  \nATOM     95    O MOL     1       7.871   6.478  22.635  1.00  0.00           O  \nATOM     96    O MOL     1       9.395   4.023  22.980  1.00  0.00           O  \nATOM     97    O MOL     1       3.604   0.712   9.935  1.00  0.00           O  \nATOM     98    O MOL     1       4.935   3.144  10.057  1.00  0.00           O  \nATOM     99    O MOL     1       0.588  10.542   9.708  1.00  0.00           O  \nATOM    100    O MOL     1       4.944   8.168   9.899  1.00  0.00           O  \nATOM    101    O MOL     1       1.366   9.073  25.930  1.00  0.00           O  \nATOM    102    O MOL     1       2.549   8.767  25.737  1.00  0.00           O  \nATOM    103    O MOL     1       1.747   7.767  -0.263  1.00  0.00           O  \nATOM    104    O MOL     1       1.179   6.672  -0.228  1.00  0.00           O  \nATOM    105    O MOL     1       5.985   9.117  25.776  1.00  0.00           O  \nATOM    106    O MOL     1       6.448   8.006  25.496  1.00  0.00           O  \nATOM    107    O MOL     1       6.575   8.902  22.784  1.00  0.00           O  \nATOM    108    O MOL     1       3.720   8.847  22.815  1.00  0.00           O  \nATOM    109    O MOL     1       4.871   2.835  29.726  1.00  0.00           O  \nATOM    110    O MOL     1       3.652   2.789  29.905  1.00  0.00           O  \nATOM    111    O MOL     1      -0.971   2.875  25.365  1.00  0.00           O  \nATOM    112    O MOL     1      -0.607   1.444  22.740  1.00  0.00           O  \nENDMDL\n",
           "ext": "pdb"
          }
         ],
         "kwargs": {},
         "methodName": "replaceStructure",
         "reconstruc_color_scheme": false,
         "target": "Widget",
         "type": "call_method"
        },
        {
         "args": [
          "this._Q = [[1.0, 0.0, 0.0], [0.0, 1.0, 0.0], [0.0, 0.0, 1.0]]"
         ],
         "kwargs": {},
         "methodName": "executeCode",
         "reconstruc_color_scheme": false,
         "target": "Widget",
         "type": "call_method"
        },
        {
         "args": [
          {
           "data": "CRYST1    8.591    9.920   31.691  90.00  90.00  90.00 P 1\nMODEL     1\nATOM      1   Al MOL     1       2.101   1.555  10.455  1.00  0.00          AL  \nATOM      2   Al MOL     1       5.139   1.510  10.488  1.00  0.00          AL  \nATOM      3   Al MOL     1       7.811   1.484  10.780  1.00  0.00          AL  \nATOM      4   Al MOL     1       0.651   4.032  10.737  1.00  0.00          AL  \nATOM      5   Al MOL     1       3.628   4.006  10.381  1.00  0.00          AL  \nATOM      6   Al MOL     1       6.564   3.896  10.394  1.00  0.00          AL  \nATOM      7   Al MOL     1       2.076   6.512  10.749  1.00  0.00          AL  \nATOM      8   Al MOL     1       4.996   6.492  10.394  1.00  0.00          AL  \nATOM      9   Al MOL     1       7.896   6.469  10.553  1.00  0.00          AL  \nATOM     10   Al MOL     1       0.791   8.914  10.676  1.00  0.00          AL  \nATOM     11   Al MOL     1       3.524   9.065  10.723  1.00  0.00          AL  \nATOM     12   Al MOL     1       6.413   9.002  10.723  1.00  0.00          AL  \nATOM     13   Al MOL     1       0.796   2.331  13.059  1.00  0.00          AL  \nATOM     14   Al MOL     1       3.625   2.527  12.711  1.00  0.00          AL  \nATOM     15   Al MOL     1       6.522   2.380  12.880  1.00  0.00          AL  \nATOM     16   Al MOL     1       2.227   4.842  12.934  1.00  0.00          AL  \nATOM     17   Al MOL     1       4.998   4.754  12.785  1.00  0.00          AL  \nATOM     18   Al MOL     1       7.775   4.897  12.958  1.00  0.00          AL  \nATOM     19   Al MOL     1       0.760   7.293  13.004  1.00  0.00          AL  \nATOM     20   Al MOL     1       3.544   7.229  12.976  1.00  0.00          AL  \nATOM     21   Al MOL     1       6.448   7.324  12.882  1.00  0.00          AL  \nATOM     22   Al MOL     1       2.156   9.760  12.853  1.00  0.00          AL  \nATOM     23   Al MOL     1       5.021   9.939  13.031  1.00  0.00          AL  \nATOM     24   Al MOL     1       8.052   9.870  13.004  1.00  0.00          AL  \nATOM     25   Al MOL     1       0.750   0.562  15.221  1.00  0.00          AL  \nATOM     26   Al MOL     1       3.486   0.605  15.172  1.00  0.00          AL  \nATOM     27   Al MOL     1       6.337   0.778  15.136  1.00  0.00          AL  \nATOM     28   Al MOL     1       2.197   3.059  15.302  1.00  0.00          AL  \nATOM     29   Al MOL     1       4.898   3.056  15.121  1.00  0.00          AL  \nATOM     30   Al MOL     1       7.796   3.128  15.188  1.00  0.00          AL  \nATOM     31   Al MOL     1       0.726   5.510  15.194  1.00  0.00          AL  \nATOM     32   Al MOL     1       3.480   5.623  15.248  1.00  0.00          AL  \nATOM     33   Al MOL     1       6.290   5.539  15.153  1.00  0.00          AL  \nATOM     34   Al MOL     1       2.131   7.954  15.120  1.00  0.00          AL  \nATOM     35   Al MOL     1       4.920   8.052  15.156  1.00  0.00          AL  \nATOM     36   Al MOL     1       7.890   7.994  15.171  1.00  0.00          AL  \nATOM     37   Al MOL     1       2.159   1.423  17.544  1.00  0.00          AL  \nATOM     38   Al MOL     1       4.903   1.462  17.478  1.00  0.00          AL  \nATOM     39   Al MOL     1       7.769   1.591  17.390  1.00  0.00          AL  \nATOM     40   Al MOL     1       0.677   3.948  17.485  1.00  0.00          AL  \nATOM     41   Al MOL     1       3.480   3.822  17.548  1.00  0.00          AL  \nATOM     42   Al MOL     1       6.264   4.008  17.506  1.00  0.00          AL  \nATOM     43   Al MOL     1       2.160   6.329  17.560  1.00  0.00          AL  \nATOM     44   Al MOL     1       5.053   6.431  17.371  1.00  0.00          AL  \nATOM     45   Al MOL     1       7.937   6.302  17.483  1.00  0.00          AL  \nATOM     46   Al MOL     1       0.633   8.844  17.455  1.00  0.00          AL  \nATOM     47   Al MOL     1       3.472   8.724  17.314  1.00  0.00          AL  \nATOM     48   Al MOL     1       6.426   8.934  17.391  1.00  0.00          AL  \nATOM     49   Al MOL     1       0.691   2.342  19.861  1.00  0.00          AL  \nATOM     50   Al MOL     1       3.531   2.284  19.968  1.00  0.00          AL  \nATOM     51   Al MOL     1       6.477   2.314  19.732  1.00  0.00          AL  \nATOM     52   Al MOL     1       2.098   4.754  19.917  1.00  0.00          AL  \nATOM     53   Al MOL     1       4.947   4.800  19.837  1.00  0.00          AL  \nATOM     54   Al MOL     1       7.849   4.803  19.824  1.00  0.00          AL  \nATOM     55   Al MOL     1       0.725   7.231  19.706  1.00  0.00          AL  \nATOM     56   Al MOL     1       3.472   7.223  19.814  1.00  0.00          AL  \nATOM     57   Al MOL     1       6.536   7.300  19.617  1.00  0.00          AL  \nATOM     58   Al MOL     1       2.139   9.723  19.789  1.00  0.00          AL  \nATOM     59   Al MOL     1       4.911   9.810  19.642  1.00  0.00          AL  \nATOM     60   Al MOL     1       8.037   9.860  19.699  1.00  0.00          AL  \nATOM     61   Al MOL     1       0.764   0.682  22.018  1.00  0.00          AL  \nATOM     62   Al MOL     1       3.564   0.744  22.087  1.00  0.00          AL  \nATOM     63   Al MOL     1       6.657   0.764  21.799  1.00  0.00          AL  \nATOM     64   Al MOL     1       2.255   3.041  22.431  1.00  0.00          AL  \nATOM     65   Al MOL     1       5.000   2.966  22.310  1.00  0.00          AL  \nATOM     66   Al MOL     1       7.824   3.119  23.822  1.00  0.00          AL  \nATOM     67   Al MOL     1       0.993   5.382  22.139  1.00  0.00          AL  \nATOM     68   Al MOL     1       3.593   5.694  23.678  1.00  0.00          AL  \nATOM     69   Al MOL     1       6.380   5.523  22.007  1.00  0.00          AL  \nATOM     70   Al MOL     1       1.970   8.004  22.116  1.00  0.00          AL  \nATOM     71   Al MOL     1       4.989   8.018  22.102  1.00  0.00          AL  \nATOM     72   Al MOL     1       8.028   7.874  21.950  1.00  0.00          AL  \nATOM     73    O MOL     1      10.749   1.490  23.051  1.00  0.00           O  \nATOM     74    O MOL     1       6.520   3.812  22.697  1.00  0.00           O  \nATOM     75    O MOL     1       5.071   6.379  22.739  1.00  0.00           O  \nATOM     76    O MOL     1       3.641   6.391  25.251  1.00  0.00           O  \nATOM     77    O MOL     1       4.046  -0.029  -0.415  1.00  0.00           O  \nATOM     78    O MOL     1       4.132  -0.429  -1.578  1.00  0.00           O  \nATOM     79    O MOL     1       4.609   6.071  -0.145  1.00  0.00           O  \nATOM     80    O MOL     1       5.437   5.892  -1.042  1.00  0.00           O  \nATOM     81    O MOL     1       8.078   4.085  -0.311  1.00  0.00           O  \nATOM     82    O MOL     1       7.697   4.393   0.820  1.00  0.00           O  \nATOM     83    O MOL     1       7.126  -1.139   0.165  1.00  0.00           O  \nATOM     84    O MOL     1       7.595  -0.005   0.276  1.00  0.00           O  \nATOM     85    O MOL     1       2.333   5.641  28.624  1.00  0.00           O  \nATOM     86    O MOL     1       1.688   6.010  27.643  1.00  0.00           O  \nATOM     87    O MOL     1       2.254   6.316  22.913  1.00  0.00           O  \nATOM     88    O MOL     1       3.786   3.984  23.223  1.00  0.00           O  \nATOM     89    O MOL     1       0.148   3.685  26.475  1.00  0.00           O  \nATOM     90    O MOL     1       0.112   3.210  27.644  1.00  0.00           O  \nATOM     91    O MOL     1       7.828   8.174   9.907  1.00  0.00           O  \nATOM     92    O MOL     1       6.442   5.706   9.704  1.00  0.00           O  \nATOM     93    O MOL     1       2.085   3.276   9.783  1.00  0.00           O  \nATOM     94    O MOL     1       3.466   5.739   9.799  1.00  0.00           O  \nATOM     95    O MOL     1       7.941   6.272  22.659  1.00  0.00           O  \nATOM     96    O MOL     1       9.463   3.851  23.062  1.00  0.00           O  \nATOM     97    O MOL     1       3.603   0.744   9.801  1.00  0.00           O  \nATOM     98    O MOL     1       5.012   3.165   9.603  1.00  0.00           O  \nATOM     99    O MOL     1       0.631  10.599   9.902  1.00  0.00           O  \nATOM    100    O MOL     1       4.933   8.229   9.862  1.00  0.00           O  \nATOM    101    O MOL     1       1.380   9.501  26.007  1.00  0.00           O  \nATOM    102    O MOL     1       2.453   8.888  26.080  1.00  0.00           O  \nATOM    103    O MOL     1       1.816   7.744  -0.138  1.00  0.00           O  \nATOM    104    O MOL     1       1.244   6.652  -0.187  1.00  0.00           O  \nATOM    105    O MOL     1       5.526   9.346  25.802  1.00  0.00           O  \nATOM    106    O MOL     1       5.664   8.132  25.607  1.00  0.00           O  \nATOM    107    O MOL     1       6.447   8.737  22.517  1.00  0.00           O  \nATOM    108    O MOL     1       3.452   8.962  22.507  1.00  0.00           O  \nATOM    109    O MOL     1       4.934   2.801  29.968  1.00  0.00           O  \nATOM    110    O MOL     1       3.786   3.002  30.370  1.00  0.00           O  \nATOM    111    O MOL     1      -0.935   3.032  25.514  1.00  0.00           O  \nATOM    112    O MOL     1      -0.619   1.404  22.846  1.00  0.00           O  \nENDMDL\n",
           "ext": "pdb"
          }
         ],
         "kwargs": {},
         "methodName": "replaceStructure",
         "reconstruc_color_scheme": false,
         "target": "Widget",
         "type": "call_method"
        },
        {
         "args": [
          "this._Q = [[1.0, 0.0, 0.0], [0.0, 1.0, 0.0], [0.0, 0.0, 1.0]]"
         ],
         "kwargs": {},
         "methodName": "executeCode",
         "reconstruc_color_scheme": false,
         "target": "Widget",
         "type": "call_method"
        },
        {
         "args": [
          {
           "data": "CRYST1    8.591    9.920   31.691  90.00  90.00  90.00 P 1\nMODEL     1\nATOM      1   Al MOL     1       2.207   1.481  10.552  1.00  0.00          AL  \nATOM      2   Al MOL     1       5.196   1.547  10.465  1.00  0.00          AL  \nATOM      3   Al MOL     1       7.893   1.572  10.747  1.00  0.00          AL  \nATOM      4   Al MOL     1       0.877   3.996  10.734  1.00  0.00          AL  \nATOM      5   Al MOL     1       3.636   4.083  10.516  1.00  0.00          AL  \nATOM      6   Al MOL     1       6.727   3.925  10.396  1.00  0.00          AL  \nATOM      7   Al MOL     1       2.233   6.547  10.524  1.00  0.00          AL  \nATOM      8   Al MOL     1       5.093   6.491  10.291  1.00  0.00          AL  \nATOM      9   Al MOL     1       8.133   6.449  10.554  1.00  0.00          AL  \nATOM     10   Al MOL     1       0.966   8.934  10.470  1.00  0.00          AL  \nATOM     11   Al MOL     1       3.596   8.954  10.248  1.00  0.00          AL  \nATOM     12   Al MOL     1       6.496   9.072  10.457  1.00  0.00          AL  \nATOM     13   Al MOL     1       0.563   2.244  12.917  1.00  0.00          AL  \nATOM     14   Al MOL     1       3.402   2.187  12.947  1.00  0.00          AL  \nATOM     15   Al MOL     1       6.140   2.341  12.866  1.00  0.00          AL  \nATOM     16   Al MOL     1       2.263   4.774  13.014  1.00  0.00          AL  \nATOM     17   Al MOL     1       4.969   4.928  12.715  1.00  0.00          AL  \nATOM     18   Al MOL     1       7.799   4.843  12.953  1.00  0.00          AL  \nATOM     19   Al MOL     1       0.786   7.345  12.968  1.00  0.00          AL  \nATOM     20   Al MOL     1       3.671   7.463  12.704  1.00  0.00          AL  \nATOM     21   Al MOL     1       6.471   7.233  12.705  1.00  0.00          AL  \nATOM     22   Al MOL     1       2.007   9.702  12.896  1.00  0.00          AL  \nATOM     23   Al MOL     1       4.995   9.767  12.737  1.00  0.00          AL  \nATOM     24   Al MOL     1       7.780   9.698  12.825  1.00  0.00          AL  \nATOM     25   Al MOL     1       0.689   0.601  15.100  1.00  0.00          AL  \nATOM     26   Al MOL     1       3.585   0.584  15.150  1.00  0.00          AL  \nATOM     27   Al MOL     1       6.481   0.665  15.052  1.00  0.00          AL  \nATOM     28   Al MOL     1       2.067   3.079  15.224  1.00  0.00          AL  \nATOM     29   Al MOL     1       5.025   3.089  15.189  1.00  0.00          AL  \nATOM     30   Al MOL     1       7.852   2.989  15.203  1.00  0.00          AL  \nATOM     31   Al MOL     1       0.737   5.640  15.275  1.00  0.00          AL  \nATOM     32   Al MOL     1       3.643   5.691  15.140  1.00  0.00          AL  \nATOM     33   Al MOL     1       6.481   5.667  15.246  1.00  0.00          AL  \nATOM     34   Al MOL     1       2.308   8.087  15.148  1.00  0.00          AL  \nATOM     35   Al MOL     1       4.979   8.084  15.105  1.00  0.00          AL  \nATOM     36   Al MOL     1       7.948   8.144  15.193  1.00  0.00          AL  \nATOM     37   Al MOL     1       2.215   1.455  17.472  1.00  0.00          AL  \nATOM     38   Al MOL     1       5.054   1.480  17.482  1.00  0.00          AL  \nATOM     39   Al MOL     1       7.871   1.341  17.508  1.00  0.00          AL  \nATOM     40   Al MOL     1       0.792   3.907  17.510  1.00  0.00          AL  \nATOM     41   Al MOL     1       3.616   4.001  17.491  1.00  0.00          AL  \nATOM     42   Al MOL     1       6.519   3.924  17.549  1.00  0.00          AL  \nATOM     43   Al MOL     1       2.117   6.427  17.478  1.00  0.00          AL  \nATOM     44   Al MOL     1       4.942   6.432  17.453  1.00  0.00          AL  \nATOM     45   Al MOL     1       7.801   6.451  17.569  1.00  0.00          AL  \nATOM     46   Al MOL     1       0.818   8.841  17.529  1.00  0.00          AL  \nATOM     47   Al MOL     1       3.668   8.973  17.525  1.00  0.00          AL  \nATOM     48   Al MOL     1       6.423   8.867  17.447  1.00  0.00          AL  \nATOM     49   Al MOL     1       0.665   2.132  19.818  1.00  0.00          AL  \nATOM     50   Al MOL     1       3.543   2.250  19.846  1.00  0.00          AL  \nATOM     51   Al MOL     1       6.470   2.195  19.799  1.00  0.00          AL  \nATOM     52   Al MOL     1       2.132   4.694  20.022  1.00  0.00          AL  \nATOM     53   Al MOL     1       5.055   4.744  19.878  1.00  0.00          AL  \nATOM     54   Al MOL     1       7.898   4.762  19.836  1.00  0.00          AL  \nATOM     55   Al MOL     1       0.700   7.228  19.811  1.00  0.00          AL  \nATOM     56   Al MOL     1       3.528   7.198  19.785  1.00  0.00          AL  \nATOM     57   Al MOL     1       6.319   7.164  19.833  1.00  0.00          AL  \nATOM     58   Al MOL     1       2.185   9.639  19.781  1.00  0.00          AL  \nATOM     59   Al MOL     1       4.953   9.796  19.896  1.00  0.00          AL  \nATOM     60   Al MOL     1       7.730   9.749  19.833  1.00  0.00          AL  \nATOM     61   Al MOL     1       0.665   0.519  21.973  1.00  0.00          AL  \nATOM     62   Al MOL     1       3.632   0.613  22.062  1.00  0.00          AL  \nATOM     63   Al MOL     1       6.341   0.704  22.394  1.00  0.00          AL  \nATOM     64   Al MOL     1       2.020   3.209  22.215  1.00  0.00          AL  \nATOM     65   Al MOL     1       4.845   3.202  22.176  1.00  0.00          AL  \nATOM     66   Al MOL     1       7.684   3.105  23.795  1.00  0.00          AL  \nATOM     67   Al MOL     1       0.779   5.495  22.386  1.00  0.00          AL  \nATOM     68   Al MOL     1       3.515   5.621  23.733  1.00  0.00          AL  \nATOM     69   Al MOL     1       6.351   5.716  22.364  1.00  0.00          AL  \nATOM     70   Al MOL     1       2.094   8.075  22.050  1.00  0.00          AL  \nATOM     71   Al MOL     1       4.955   7.904  22.287  1.00  0.00          AL  \nATOM     72   Al MOL     1       7.955   8.128  22.056  1.00  0.00          AL  \nATOM     73    O MOL     1      10.595   1.402  22.760  1.00  0.00           O  \nATOM     74    O MOL     1       6.480   3.954  22.695  1.00  0.00           O  \nATOM     75    O MOL     1       4.982   6.325  23.039  1.00  0.00           O  \nATOM     76    O MOL     1       3.661   5.809  25.396  1.00  0.00           O  \nATOM     77    O MOL     1       3.909  -0.173  -0.488  1.00  0.00           O  \nATOM     78    O MOL     1       4.037  -0.521  -1.664  1.00  0.00           O  \nATOM     79    O MOL     1       4.605   6.034  -0.190  1.00  0.00           O  \nATOM     80    O MOL     1       5.394   6.153  -1.131  1.00  0.00           O  \nATOM     81    O MOL     1       8.095   3.789  -0.477  1.00  0.00           O  \nATOM     82    O MOL     1       7.645   4.217   0.589  1.00  0.00           O  \nATOM     83    O MOL     1       7.136  -1.243  -0.007  1.00  0.00           O  \nATOM     84    O MOL     1       7.661  -0.145   0.189  1.00  0.00           O  \nATOM     85    O MOL     1       2.518   5.879  28.261  1.00  0.00           O  \nATOM     86    O MOL     1       1.431   6.191  27.770  1.00  0.00           O  \nATOM     87    O MOL     1       2.116   6.386  22.931  1.00  0.00           O  \nATOM     88    O MOL     1       3.604   3.864  23.236  1.00  0.00           O  \nATOM     89    O MOL     1       0.132   3.887  26.221  1.00  0.00           O  \nATOM     90    O MOL     1       0.645   3.363  27.215  1.00  0.00           O  \nATOM     91    O MOL     1       7.972   8.167   9.791  1.00  0.00           O  \nATOM     92    O MOL     1       6.587   5.674   9.750  1.00  0.00           O  \nATOM     93    O MOL     1       2.256   3.156   9.822  1.00  0.00           O  \nATOM     94    O MOL     1       3.597   5.669   9.601  1.00  0.00           O  \nATOM     95    O MOL     1       7.825   6.505  22.876  1.00  0.00           O  \nATOM     96    O MOL     1       9.158   3.923  22.907  1.00  0.00           O  \nATOM     97    O MOL     1       3.703   0.766   9.737  1.00  0.00           O  \nATOM     98    O MOL     1       5.117   3.251   9.796  1.00  0.00           O  \nATOM     99    O MOL     1       0.715  10.656   9.886  1.00  0.00           O  \nATOM    100    O MOL     1       5.130   8.206   9.597  1.00  0.00           O  \nATOM    101    O MOL     1       1.277   9.681  25.829  1.00  0.00           O  \nATOM    102    O MOL     1       2.302   9.205  26.325  1.00  0.00           O  \nATOM    103    O MOL     1       1.728   7.742  -0.037  1.00  0.00           O  \nATOM    104    O MOL     1       1.277   6.600  -0.167  1.00  0.00           O  \nATOM    105    O MOL     1       4.924   9.429  25.627  1.00  0.00           O  \nATOM    106    O MOL     1       5.050   8.209  25.799  1.00  0.00           O  \nATOM    107    O MOL     1       6.329   8.936  22.902  1.00  0.00           O  \nATOM    108    O MOL     1       3.521   8.857  22.843  1.00  0.00           O  \nATOM    109    O MOL     1       5.029   2.766  30.319  1.00  0.00           O  \nATOM    110    O MOL     1       3.949   3.245  30.673  1.00  0.00           O  \nATOM    111    O MOL     1      -1.021   2.803  25.454  1.00  0.00           O  \nATOM    112    O MOL     1      -0.791   1.399  23.039  1.00  0.00           O  \nENDMDL\n",
           "ext": "pdb"
          }
         ],
         "kwargs": {},
         "methodName": "replaceStructure",
         "reconstruc_color_scheme": false,
         "target": "Widget",
         "type": "call_method"
        },
        {
         "args": [
          "this._Q = [[1.0, 0.0, 0.0], [0.0, 1.0, 0.0], [0.0, 0.0, 1.0]]"
         ],
         "kwargs": {},
         "methodName": "executeCode",
         "reconstruc_color_scheme": false,
         "target": "Widget",
         "type": "call_method"
        },
        {
         "args": [
          {
           "data": "CRYST1    8.591    9.920   31.691  90.00  90.00  90.00 P 1\nMODEL     1\nATOM      1   Al MOL     1       2.204   1.441  10.255  1.00  0.00          AL  \nATOM      2   Al MOL     1       5.274   1.388  10.593  1.00  0.00          AL  \nATOM      3   Al MOL     1       8.091   1.477  10.533  1.00  0.00          AL  \nATOM      4   Al MOL     1       0.780   3.899  10.578  1.00  0.00          AL  \nATOM      5   Al MOL     1       3.632   3.896  10.579  1.00  0.00          AL  \nATOM      6   Al MOL     1       6.633   3.883  10.622  1.00  0.00          AL  \nATOM      7   Al MOL     1       2.261   6.478  10.651  1.00  0.00          AL  \nATOM      8   Al MOL     1       5.097   6.459  10.629  1.00  0.00          AL  \nATOM      9   Al MOL     1       8.126   6.322  10.247  1.00  0.00          AL  \nATOM     10   Al MOL     1       0.874   8.788  10.365  1.00  0.00          AL  \nATOM     11   Al MOL     1       3.564   8.910  10.697  1.00  0.00          AL  \nATOM     12   Al MOL     1       6.625   9.009  10.471  1.00  0.00          AL  \nATOM     13   Al MOL     1       0.960   2.345  12.838  1.00  0.00          AL  \nATOM     14   Al MOL     1       3.823   2.416  12.844  1.00  0.00          AL  \nATOM     15   Al MOL     1       6.741   2.169  13.114  1.00  0.00          AL  \nATOM     16   Al MOL     1       2.132   4.863  12.899  1.00  0.00          AL  \nATOM     17   Al MOL     1       5.176   4.767  12.906  1.00  0.00          AL  \nATOM     18   Al MOL     1       7.946   4.859  12.933  1.00  0.00          AL  \nATOM     19   Al MOL     1       0.459   7.329  12.741  1.00  0.00          AL  \nATOM     20   Al MOL     1       3.635   7.243  13.070  1.00  0.00          AL  \nATOM     21   Al MOL     1       6.398   7.328  12.851  1.00  0.00          AL  \nATOM     22   Al MOL     1       2.279   9.871  12.908  1.00  0.00          AL  \nATOM     23   Al MOL     1       5.068   9.831  12.874  1.00  0.00          AL  \nATOM     24   Al MOL     1       8.031   9.743  12.846  1.00  0.00          AL  \nATOM     25   Al MOL     1       0.730   0.825  15.204  1.00  0.00          AL  \nATOM     26   Al MOL     1       3.586   0.746  15.244  1.00  0.00          AL  \nATOM     27   Al MOL     1       6.484   0.679  15.383  1.00  0.00          AL  \nATOM     28   Al MOL     1       2.179   3.285  15.102  1.00  0.00          AL  \nATOM     29   Al MOL     1       5.096   3.138  15.244  1.00  0.00          AL  \nATOM     30   Al MOL     1       7.963   3.277  15.288  1.00  0.00          AL  \nATOM     31   Al MOL     1       0.749   5.680  15.178  1.00  0.00          AL  \nATOM     32   Al MOL     1       3.534   5.665  15.187  1.00  0.00          AL  \nATOM     33   Al MOL     1       6.460   5.654  15.179  1.00  0.00          AL  \nATOM     34   Al MOL     1       2.022   8.159  15.149  1.00  0.00          AL  \nATOM     35   Al MOL     1       5.012   8.059  15.278  1.00  0.00          AL  \nATOM     36   Al MOL     1       7.873   8.038  15.201  1.00  0.00          AL  \nATOM     37   Al MOL     1       2.111   1.483  17.467  1.00  0.00          AL  \nATOM     38   Al MOL     1       5.039   1.399  17.610  1.00  0.00          AL  \nATOM     39   Al MOL     1       7.856   1.600  17.528  1.00  0.00          AL  \nATOM     40   Al MOL     1       0.664   4.004  17.426  1.00  0.00          AL  \nATOM     41   Al MOL     1       3.557   3.980  17.366  1.00  0.00          AL  \nATOM     42   Al MOL     1       6.399   3.928  17.475  1.00  0.00          AL  \nATOM     43   Al MOL     1       2.179   6.449  17.342  1.00  0.00          AL  \nATOM     44   Al MOL     1       5.130   6.379  17.496  1.00  0.00          AL  \nATOM     45   Al MOL     1       7.912   6.363  17.414  1.00  0.00          AL  \nATOM     46   Al MOL     1       0.609   8.889  17.417  1.00  0.00          AL  \nATOM     47   Al MOL     1       3.537   8.854  17.492  1.00  0.00          AL  \nATOM     48   Al MOL     1       6.471   8.824  17.549  1.00  0.00          AL  \nATOM     49   Al MOL     1       0.728   2.358  19.772  1.00  0.00          AL  \nATOM     50   Al MOL     1       3.520   2.258  19.703  1.00  0.00          AL  \nATOM     51   Al MOL     1       6.410   2.315  19.763  1.00  0.00          AL  \nATOM     52   Al MOL     1       2.160   4.772  19.581  1.00  0.00          AL  \nATOM     53   Al MOL     1       5.018   4.788  19.696  1.00  0.00          AL  \nATOM     54   Al MOL     1       7.768   4.685  19.816  1.00  0.00          AL  \nATOM     55   Al MOL     1       0.787   7.196  19.852  1.00  0.00          AL  \nATOM     56   Al MOL     1       3.642   7.212  19.729  1.00  0.00          AL  \nATOM     57   Al MOL     1       6.503   7.178  19.818  1.00  0.00          AL  \nATOM     58   Al MOL     1       2.145   9.797  19.809  1.00  0.00          AL  \nATOM     59   Al MOL     1       5.018   9.598  19.814  1.00  0.00          AL  \nATOM     60   Al MOL     1       7.973   9.741  19.796  1.00  0.00          AL  \nATOM     61   Al MOL     1       0.486   0.653  22.312  1.00  0.00          AL  \nATOM     62   Al MOL     1       3.327   0.584  22.188  1.00  0.00          AL  \nATOM     63   Al MOL     1       6.334   0.705  21.941  1.00  0.00          AL  \nATOM     64   Al MOL     1       2.073   3.195  22.228  1.00  0.00          AL  \nATOM     65   Al MOL     1       4.961   3.020  22.101  1.00  0.00          AL  \nATOM     66   Al MOL     1       7.752   3.014  23.673  1.00  0.00          AL  \nATOM     67   Al MOL     1       0.555   5.625  22.291  1.00  0.00          AL  \nATOM     68   Al MOL     1       3.472   5.478  23.817  1.00  0.00          AL  \nATOM     69   Al MOL     1       6.124   5.509  22.306  1.00  0.00          AL  \nATOM     70   Al MOL     1       2.091   8.018  22.135  1.00  0.00          AL  \nATOM     71   Al MOL     1       4.929   8.073  22.328  1.00  0.00          AL  \nATOM     72   Al MOL     1       7.771   8.160  22.337  1.00  0.00          AL  \nATOM     73    O MOL     1      10.545   1.352  22.779  1.00  0.00           O  \nATOM     74    O MOL     1       6.185   3.776  23.210  1.00  0.00           O  \nATOM     75    O MOL     1       4.882   6.534  23.101  1.00  0.00           O  \nATOM     76    O MOL     1       3.470   4.845  25.401  1.00  0.00           O  \nATOM     77    O MOL     1       3.921  -0.295  -0.501  1.00  0.00           O  \nATOM     78    O MOL     1       4.000  -0.589  -1.697  1.00  0.00           O  \nATOM     79    O MOL     1       4.726   6.454  -0.190  1.00  0.00           O  \nATOM     80    O MOL     1       5.336   6.289  -1.251  1.00  0.00           O  \nATOM     81    O MOL     1       8.145   3.595  -0.671  1.00  0.00           O  \nATOM     82    O MOL     1       7.524   3.988   0.320  1.00  0.00           O  \nATOM     83    O MOL     1       7.140  -1.306  -0.222  1.00  0.00           O  \nATOM     84    O MOL     1       7.664  -0.233   0.088  1.00  0.00           O  \nATOM     85    O MOL     1       2.463   6.159  28.042  1.00  0.00           O  \nATOM     86    O MOL     1       1.356   6.707  28.055  1.00  0.00           O  \nATOM     87    O MOL     1       1.889   6.486  23.058  1.00  0.00           O  \nATOM     88    O MOL     1       3.564   4.108  22.697  1.00  0.00           O  \nATOM     89    O MOL     1       0.754   3.909  26.028  1.00  0.00           O  \nATOM     90    O MOL     1       0.977   3.300  27.043  1.00  0.00           O  \nATOM     91    O MOL     1       7.951   8.042   9.655  1.00  0.00           O  \nATOM     92    O MOL     1       6.468   5.570   9.910  1.00  0.00           O  \nATOM     93    O MOL     1       2.243   3.161   9.686  1.00  0.00           O  \nATOM     94    O MOL     1       3.679   5.580   9.910  1.00  0.00           O  \nATOM     95    O MOL     1       7.657   6.342  22.833  1.00  0.00           O  \nATOM     96    O MOL     1       9.167   3.932  22.867  1.00  0.00           O  \nATOM     97    O MOL     1       3.771   0.649   9.869  1.00  0.00           O  \nATOM     98    O MOL     1       5.155   3.089   9.869  1.00  0.00           O  \nATOM     99    O MOL     1       0.836  10.475   9.516  1.00  0.00           O  \nATOM    100    O MOL     1       5.121   8.132   9.912  1.00  0.00           O  \nATOM    101    O MOL     1       0.917   9.785  25.511  1.00  0.00           O  \nATOM    102    O MOL     1       1.726   9.612  26.435  1.00  0.00           O  \nATOM    103    O MOL     1       1.579   7.621  -0.041  1.00  0.00           O  \nATOM    104    O MOL     1       1.162   6.468  -0.178  1.00  0.00           O  \nATOM    105    O MOL     1       4.628   9.372  25.509  1.00  0.00           O  \nATOM    106    O MOL     1       4.827   8.283  26.059  1.00  0.00           O  \nATOM    107    O MOL     1       6.414   9.025  23.022  1.00  0.00           O  \nATOM    108    O MOL     1       3.388   8.966  23.077  1.00  0.00           O  \nATOM    109    O MOL     1       5.221   2.874  30.708  1.00  0.00           O  \nATOM    110    O MOL     1       4.005   3.064  30.792  1.00  0.00           O  \nATOM    111    O MOL     1      -0.934   3.058  25.426  1.00  0.00           O  \nATOM    112    O MOL     1      -0.867   1.560  22.742  1.00  0.00           O  \nENDMDL\n",
           "ext": "pdb"
          }
         ],
         "kwargs": {},
         "methodName": "replaceStructure",
         "reconstruc_color_scheme": false,
         "target": "Widget",
         "type": "call_method"
        },
        {
         "args": [
          "this._Q = [[1.0, 0.0, 0.0], [0.0, 1.0, 0.0], [0.0, 0.0, 1.0]]"
         ],
         "kwargs": {},
         "methodName": "executeCode",
         "reconstruc_color_scheme": false,
         "target": "Widget",
         "type": "call_method"
        },
        {
         "args": [
          {
           "data": "CRYST1    8.591    9.920   31.691  90.00  90.00  90.00 P 1\nMODEL     1\nATOM      1   Al MOL     1       2.189   1.411  10.457  1.00  0.00          AL  \nATOM      2   Al MOL     1       5.218   1.424  10.669  1.00  0.00          AL  \nATOM      3   Al MOL     1       7.920   1.300  10.671  1.00  0.00          AL  \nATOM      4   Al MOL     1       0.826   3.937  10.686  1.00  0.00          AL  \nATOM      5   Al MOL     1       3.671   3.915  10.432  1.00  0.00          AL  \nATOM      6   Al MOL     1       6.777   3.782  10.401  1.00  0.00          AL  \nATOM      7   Al MOL     1       2.246   6.338  10.711  1.00  0.00          AL  \nATOM      8   Al MOL     1       5.176   6.349  10.516  1.00  0.00          AL  \nATOM      9   Al MOL     1       8.092   6.291  10.652  1.00  0.00          AL  \nATOM     10   Al MOL     1       0.909   8.784  10.678  1.00  0.00          AL  \nATOM     11   Al MOL     1       3.676   8.853  10.650  1.00  0.00          AL  \nATOM     12   Al MOL     1       6.537   8.824  10.958  1.00  0.00          AL  \nATOM     13   Al MOL     1       0.930   2.262  12.855  1.00  0.00          AL  \nATOM     14   Al MOL     1       3.739   2.284  12.830  1.00  0.00          AL  \nATOM     15   Al MOL     1       6.467   2.564  12.882  1.00  0.00          AL  \nATOM     16   Al MOL     1       2.288   4.593  12.902  1.00  0.00          AL  \nATOM     17   Al MOL     1       4.994   4.858  12.956  1.00  0.00          AL  \nATOM     18   Al MOL     1       8.066   4.849  12.863  1.00  0.00          AL  \nATOM     19   Al MOL     1       0.858   7.195  13.088  1.00  0.00          AL  \nATOM     20   Al MOL     1       3.697   7.255  12.980  1.00  0.00          AL  \nATOM     21   Al MOL     1       6.608   7.180  13.132  1.00  0.00          AL  \nATOM     22   Al MOL     1       2.234   9.762  12.829  1.00  0.00          AL  \nATOM     23   Al MOL     1       5.062   9.788  12.944  1.00  0.00          AL  \nATOM     24   Al MOL     1       8.038   9.731  13.022  1.00  0.00          AL  \nATOM     25   Al MOL     1       0.927   0.580  15.219  1.00  0.00          AL  \nATOM     26   Al MOL     1       3.567   0.672  15.159  1.00  0.00          AL  \nATOM     27   Al MOL     1       6.531   0.814  15.171  1.00  0.00          AL  \nATOM     28   Al MOL     1       2.229   3.099  15.210  1.00  0.00          AL  \nATOM     29   Al MOL     1       5.055   3.172  15.228  1.00  0.00          AL  \nATOM     30   Al MOL     1       7.946   3.165  15.183  1.00  0.00          AL  \nATOM     31   Al MOL     1       0.776   5.571  15.240  1.00  0.00          AL  \nATOM     32   Al MOL     1       3.594   5.581  15.253  1.00  0.00          AL  \nATOM     33   Al MOL     1       6.539   5.636  15.312  1.00  0.00          AL  \nATOM     34   Al MOL     1       2.206   8.047  15.402  1.00  0.00          AL  \nATOM     35   Al MOL     1       5.071   8.100  15.256  1.00  0.00          AL  \nATOM     36   Al MOL     1       8.022   8.189  15.389  1.00  0.00          AL  \nATOM     37   Al MOL     1       2.118   1.526  17.540  1.00  0.00          AL  \nATOM     38   Al MOL     1       5.012   1.568  17.425  1.00  0.00          AL  \nATOM     39   Al MOL     1       7.864   1.493  17.319  1.00  0.00          AL  \nATOM     40   Al MOL     1       0.773   4.018  17.460  1.00  0.00          AL  \nATOM     41   Al MOL     1       3.627   3.975  17.631  1.00  0.00          AL  \nATOM     42   Al MOL     1       6.513   4.039  17.501  1.00  0.00          AL  \nATOM     43   Al MOL     1       2.123   6.406  17.603  1.00  0.00          AL  \nATOM     44   Al MOL     1       4.903   6.551  17.582  1.00  0.00          AL  \nATOM     45   Al MOL     1       7.842   6.615  17.462  1.00  0.00          AL  \nATOM     46   Al MOL     1       0.687   8.998  17.510  1.00  0.00          AL  \nATOM     47   Al MOL     1       3.581   8.921  17.490  1.00  0.00          AL  \nATOM     48   Al MOL     1       6.420   9.014  17.480  1.00  0.00          AL  \nATOM     49   Al MOL     1       0.589   2.329  19.723  1.00  0.00          AL  \nATOM     50   Al MOL     1       3.475   2.234  19.768  1.00  0.00          AL  \nATOM     51   Al MOL     1       6.393   2.345  19.771  1.00  0.00          AL  \nATOM     52   Al MOL     1       2.150   4.845  19.910  1.00  0.00          AL  \nATOM     53   Al MOL     1       5.008   4.854  19.693  1.00  0.00          AL  \nATOM     54   Al MOL     1       7.903   4.827  19.713  1.00  0.00          AL  \nATOM     55   Al MOL     1       0.631   7.307  19.754  1.00  0.00          AL  \nATOM     56   Al MOL     1       3.530   7.251  19.832  1.00  0.00          AL  \nATOM     57   Al MOL     1       6.234   7.366  19.717  1.00  0.00          AL  \nATOM     58   Al MOL     1       1.976   9.750  19.716  1.00  0.00          AL  \nATOM     59   Al MOL     1       4.910   9.847  19.646  1.00  0.00          AL  \nATOM     60   Al MOL     1       7.727   9.805  19.737  1.00  0.00          AL  \nATOM     61   Al MOL     1       0.524   0.554  21.909  1.00  0.00          AL  \nATOM     62   Al MOL     1       3.711   0.768  22.053  1.00  0.00          AL  \nATOM     63   Al MOL     1       6.308   0.635  22.205  1.00  0.00          AL  \nATOM     64   Al MOL     1       1.921   3.008  21.997  1.00  0.00          AL  \nATOM     65   Al MOL     1       5.020   3.207  21.885  1.00  0.00          AL  \nATOM     66   Al MOL     1       7.843   3.117  23.741  1.00  0.00          AL  \nATOM     67   Al MOL     1       0.569   5.576  22.122  1.00  0.00          AL  \nATOM     68   Al MOL     1       3.250   5.329  23.749  1.00  0.00          AL  \nATOM     69   Al MOL     1       6.328   5.434  22.104  1.00  0.00          AL  \nATOM     70   Al MOL     1       1.854   8.172  22.217  1.00  0.00          AL  \nATOM     71   Al MOL     1       4.782   7.855  22.089  1.00  0.00          AL  \nATOM     72   Al MOL     1       7.682   8.071  21.915  1.00  0.00          AL  \nATOM     73    O MOL     1      10.626   1.334  22.835  1.00  0.00           O  \nATOM     74    O MOL     1       6.273   3.771  23.153  1.00  0.00           O  \nATOM     75    O MOL     1       4.943   6.300  22.971  1.00  0.00           O  \nATOM     76    O MOL     1       2.881   5.092  25.413  1.00  0.00           O  \nATOM     77    O MOL     1       4.011  -0.280  -0.483  1.00  0.00           O  \nATOM     78    O MOL     1       3.992  -0.521  -1.693  1.00  0.00           O  \nATOM     79    O MOL     1       4.840   6.703  -0.232  1.00  0.00           O  \nATOM     80    O MOL     1       5.338   6.275  -1.276  1.00  0.00           O  \nATOM     81    O MOL     1       8.177   3.480  -0.886  1.00  0.00           O  \nATOM     82    O MOL     1       7.709   3.876   0.182  1.00  0.00           O  \nATOM     83    O MOL     1       7.174  -1.270  -0.490  1.00  0.00           O  \nATOM     84    O MOL     1       7.618  -0.215  -0.030  1.00  0.00           O  \nATOM     85    O MOL     1       2.295   6.566  27.922  1.00  0.00           O  \nATOM     86    O MOL     1       1.243   7.134  28.219  1.00  0.00           O  \nATOM     87    O MOL     1       1.964   6.457  22.858  1.00  0.00           O  \nATOM     88    O MOL     1       3.532   3.843  22.710  1.00  0.00           O  \nATOM     89    O MOL     1       1.767   3.609  25.752  1.00  0.00           O  \nATOM     90    O MOL     1       1.555   3.625  26.964  1.00  0.00           O  \nATOM     91    O MOL     1       7.974   8.025  10.082  1.00  0.00           O  \nATOM     92    O MOL     1       6.598   5.542   9.771  1.00  0.00           O  \nATOM     93    O MOL     1       2.187   3.101   9.754  1.00  0.00           O  \nATOM     94    O MOL     1       3.716   5.544   9.754  1.00  0.00           O  \nATOM     95    O MOL     1       7.761   6.440  22.694  1.00  0.00           O  \nATOM     96    O MOL     1       9.225   3.959  22.833  1.00  0.00           O  \nATOM     97    O MOL     1       3.748   0.603   9.864  1.00  0.00           O  \nATOM     98    O MOL     1       5.192   3.070   9.853  1.00  0.00           O  \nATOM     99    O MOL     1       0.774  10.427   9.799  1.00  0.00           O  \nATOM    100    O MOL     1       5.139   8.047   9.946  1.00  0.00           O  \nATOM    101    O MOL     1       0.336   9.820  25.284  1.00  0.00           O  \nATOM    102    O MOL     1       1.061  10.134  26.234  1.00  0.00           O  \nATOM    103    O MOL     1       1.482   7.407  -0.143  1.00  0.00           O  \nATOM    104    O MOL     1       1.022   6.266  -0.235  1.00  0.00           O  \nATOM    105    O MOL     1       4.564   9.518  25.999  1.00  0.00           O  \nATOM    106    O MOL     1       4.701   8.308  26.208  1.00  0.00           O  \nATOM    107    O MOL     1       6.296   8.865  22.649  1.00  0.00           O  \nATOM    108    O MOL     1       3.447   8.978  22.760  1.00  0.00           O  \nATOM    109    O MOL     1       5.169   2.893  31.010  1.00  0.00           O  \nATOM    110    O MOL     1       3.957   2.789  30.804  1.00  0.00           O  \nATOM    111    O MOL     1      -0.640   3.325  25.331  1.00  0.00           O  \nATOM    112    O MOL     1      -0.910   1.294  23.077  1.00  0.00           O  \nENDMDL\n",
           "ext": "pdb"
          }
         ],
         "kwargs": {},
         "methodName": "replaceStructure",
         "reconstruc_color_scheme": false,
         "target": "Widget",
         "type": "call_method"
        },
        {
         "args": [
          "this._Q = [[1.0, 0.0, 0.0], [0.0, 1.0, 0.0], [0.0, 0.0, 1.0]]"
         ],
         "kwargs": {},
         "methodName": "executeCode",
         "reconstruc_color_scheme": false,
         "target": "Widget",
         "type": "call_method"
        },
        {
         "args": [
          {
           "data": "CRYST1    8.591    9.920   31.691  90.00  90.00  90.00 P 1\nMODEL     1\nATOM      1   Al MOL     1       2.312   1.368  10.625  1.00  0.00          AL  \nATOM      2   Al MOL     1       5.278   1.323  10.504  1.00  0.00          AL  \nATOM      3   Al MOL     1       7.947   1.420  10.881  1.00  0.00          AL  \nATOM      4   Al MOL     1       0.836   3.835  10.892  1.00  0.00          AL  \nATOM      5   Al MOL     1       3.742   3.890  10.515  1.00  0.00          AL  \nATOM      6   Al MOL     1       6.739   3.768  10.524  1.00  0.00          AL  \nATOM      7   Al MOL     1       2.259   6.354  10.789  1.00  0.00          AL  \nATOM      8   Al MOL     1       5.229   6.339  10.525  1.00  0.00          AL  \nATOM      9   Al MOL     1       8.148   6.230  10.629  1.00  0.00          AL  \nATOM     10   Al MOL     1       0.882   8.767  10.704  1.00  0.00          AL  \nATOM     11   Al MOL     1       3.701   8.808  10.602  1.00  0.00          AL  \nATOM     12   Al MOL     1       6.540   8.911  10.473  1.00  0.00          AL  \nATOM     13   Al MOL     1       0.777   2.206  12.980  1.00  0.00          AL  \nATOM     14   Al MOL     1       3.499   2.307  12.975  1.00  0.00          AL  \nATOM     15   Al MOL     1       6.279   2.133  12.852  1.00  0.00          AL  \nATOM     16   Al MOL     1       2.189   4.851  13.028  1.00  0.00          AL  \nATOM     17   Al MOL     1       5.148   4.666  12.805  1.00  0.00          AL  \nATOM     18   Al MOL     1       7.932   4.704  12.980  1.00  0.00          AL  \nATOM     19   Al MOL     1       0.799   7.245  12.980  1.00  0.00          AL  \nATOM     20   Al MOL     1       3.702   7.224  12.806  1.00  0.00          AL  \nATOM     21   Al MOL     1       6.469   7.268  12.859  1.00  0.00          AL  \nATOM     22   Al MOL     1       2.196   9.704  13.093  1.00  0.00          AL  \nATOM     23   Al MOL     1       5.076   9.693  12.819  1.00  0.00          AL  \nATOM     24   Al MOL     1       7.830   9.654  12.910  1.00  0.00          AL  \nATOM     25   Al MOL     1       0.610   0.670  15.304  1.00  0.00          AL  \nATOM     26   Al MOL     1       3.648   0.698  15.239  1.00  0.00          AL  \nATOM     27   Al MOL     1       6.526   0.633  15.294  1.00  0.00          AL  \nATOM     28   Al MOL     1       2.115   3.114  15.141  1.00  0.00          AL  \nATOM     29   Al MOL     1       5.114   3.087  15.075  1.00  0.00          AL  \nATOM     30   Al MOL     1       7.828   3.082  15.412  1.00  0.00          AL  \nATOM     31   Al MOL     1       0.716   5.645  15.285  1.00  0.00          AL  \nATOM     32   Al MOL     1       3.763   5.653  15.037  1.00  0.00          AL  \nATOM     33   Al MOL     1       6.486   5.621  15.115  1.00  0.00          AL  \nATOM     34   Al MOL     1       2.292   8.230  15.262  1.00  0.00          AL  \nATOM     35   Al MOL     1       5.045   8.098  15.125  1.00  0.00          AL  \nATOM     36   Al MOL     1       7.935   8.005  15.239  1.00  0.00          AL  \nATOM     37   Al MOL     1       2.232   1.505  17.444  1.00  0.00          AL  \nATOM     38   Al MOL     1       5.006   1.518  17.489  1.00  0.00          AL  \nATOM     39   Al MOL     1       7.860   1.360  17.560  1.00  0.00          AL  \nATOM     40   Al MOL     1       0.730   3.978  17.555  1.00  0.00          AL  \nATOM     41   Al MOL     1       3.588   4.020  17.405  1.00  0.00          AL  \nATOM     42   Al MOL     1       6.288   3.956  17.500  1.00  0.00          AL  \nATOM     43   Al MOL     1       2.170   6.635  17.404  1.00  0.00          AL  \nATOM     44   Al MOL     1       5.054   6.483  17.530  1.00  0.00          AL  \nATOM     45   Al MOL     1       7.864   6.402  17.526  1.00  0.00          AL  \nATOM     46   Al MOL     1       0.697   8.926  17.489  1.00  0.00          AL  \nATOM     47   Al MOL     1       3.590   9.042  17.496  1.00  0.00          AL  \nATOM     48   Al MOL     1       6.445   8.925  17.499  1.00  0.00          AL  \nATOM     49   Al MOL     1       0.731   2.257  19.783  1.00  0.00          AL  \nATOM     50   Al MOL     1       3.578   2.393  19.774  1.00  0.00          AL  \nATOM     51   Al MOL     1       6.351   2.299  19.821  1.00  0.00          AL  \nATOM     52   Al MOL     1       2.090   4.807  19.764  1.00  0.00          AL  \nATOM     53   Al MOL     1       4.896   4.819  19.929  1.00  0.00          AL  \nATOM     54   Al MOL     1       7.841   4.734  19.759  1.00  0.00          AL  \nATOM     55   Al MOL     1       0.552   7.231  19.759  1.00  0.00          AL  \nATOM     56   Al MOL     1       3.562   7.317  19.636  1.00  0.00          AL  \nATOM     57   Al MOL     1       6.279   7.281  19.897  1.00  0.00          AL  \nATOM     58   Al MOL     1       2.085   9.876  19.761  1.00  0.00          AL  \nATOM     59   Al MOL     1       4.944   9.735  19.835  1.00  0.00          AL  \nATOM     60   Al MOL     1       7.849   9.719  19.769  1.00  0.00          AL  \nATOM     61   Al MOL     1       0.571   0.477  22.233  1.00  0.00          AL  \nATOM     62   Al MOL     1       3.363   0.595  22.050  1.00  0.00          AL  \nATOM     63   Al MOL     1       6.281   0.638  22.046  1.00  0.00          AL  \nATOM     64   Al MOL     1       2.008   3.009  22.142  1.00  0.00          AL  \nATOM     65   Al MOL     1       4.933   2.855  22.359  1.00  0.00          AL  \nATOM     66   Al MOL     1       7.714   3.058  23.572  1.00  0.00          AL  \nATOM     67   Al MOL     1       0.443   5.523  21.973  1.00  0.00          AL  \nATOM     68   Al MOL     1       3.521   5.846  23.761  1.00  0.00          AL  \nATOM     69   Al MOL     1       6.200   5.629  22.261  1.00  0.00          AL  \nATOM     70   Al MOL     1       2.062   7.950  21.920  1.00  0.00          AL  \nATOM     71   Al MOL     1       4.873   8.157  22.357  1.00  0.00          AL  \nATOM     72   Al MOL     1       7.943   8.120  22.077  1.00  0.00          AL  \nATOM     73    O MOL     1      10.618   1.430  22.962  1.00  0.00           O  \nATOM     74    O MOL     1       6.315   3.925  23.014  1.00  0.00           O  \nATOM     75    O MOL     1       4.981   6.557  23.109  1.00  0.00           O  \nATOM     76    O MOL     1       3.449   5.769  25.466  1.00  0.00           O  \nATOM     77    O MOL     1       4.077  -0.264  -0.440  1.00  0.00           O  \nATOM     78    O MOL     1       3.983  -0.382  -1.666  1.00  0.00           O  \nATOM     79    O MOL     1       4.849   6.418  -0.210  1.00  0.00           O  \nATOM     80    O MOL     1       5.400   6.175  -1.287  1.00  0.00           O  \nATOM     81    O MOL     1       8.228   3.444  -1.046  1.00  0.00           O  \nATOM     82    O MOL     1       8.094   3.789   0.130  1.00  0.00           O  \nATOM     83    O MOL     1       7.209  -1.141  -0.761  1.00  0.00           O  \nATOM     84    O MOL     1       7.627  -0.135  -0.182  1.00  0.00           O  \nATOM     85    O MOL     1       2.147   7.153  28.132  1.00  0.00           O  \nATOM     86    O MOL     1       0.982   7.553  28.244  1.00  0.00           O  \nATOM     87    O MOL     1       2.181   6.408  22.799  1.00  0.00           O  \nATOM     88    O MOL     1       3.443   3.815  22.978  1.00  0.00           O  \nATOM     89    O MOL     1       2.971   4.054  25.443  1.00  0.00           O  \nATOM     90    O MOL     1       1.986   3.825  26.140  1.00  0.00           O  \nATOM     91    O MOL     1       8.017   7.940   9.959  1.00  0.00           O  \nATOM     92    O MOL     1       6.666   5.518   9.840  1.00  0.00           O  \nATOM     93    O MOL     1       2.258   3.050   9.972  1.00  0.00           O  \nATOM     94    O MOL     1       3.657   5.559   9.887  1.00  0.00           O  \nATOM     95    O MOL     1       7.689   6.496  22.894  1.00  0.00           O  \nATOM     96    O MOL     1       9.295   4.005  22.749  1.00  0.00           O  \nATOM     97    O MOL     1       3.742   0.571   9.801  1.00  0.00           O  \nATOM     98    O MOL     1       5.216   3.062   9.825  1.00  0.00           O  \nATOM     99    O MOL     1       0.811  10.499  10.030  1.00  0.00           O  \nATOM    100    O MOL     1       5.123   7.973   9.798  1.00  0.00           O  \nATOM    101    O MOL     1      -0.121   9.665  25.265  1.00  0.00           O  \nATOM    102    O MOL     1       0.451  10.677  25.701  1.00  0.00           O  \nATOM    103    O MOL     1       1.516   7.226  -0.282  1.00  0.00           O  \nATOM    104    O MOL     1       1.000   6.110  -0.396  1.00  0.00           O  \nATOM    105    O MOL     1       4.577   9.585  26.404  1.00  0.00           O  \nATOM    106    O MOL     1       4.545   8.412  26.012  1.00  0.00           O  \nATOM    107    O MOL     1       6.341   8.946  22.831  1.00  0.00           O  \nATOM    108    O MOL     1       3.319   8.879  22.768  1.00  0.00           O  \nATOM    109    O MOL     1       4.870   2.830  31.261  1.00  0.00           O  \nATOM    110    O MOL     1       3.800   2.856  30.648  1.00  0.00           O  \nATOM    111    O MOL     1      -0.590   3.006  25.337  1.00  0.00           O  \nATOM    112    O MOL     1      -0.847   1.388  22.984  1.00  0.00           O  \nENDMDL\n",
           "ext": "pdb"
          }
         ],
         "kwargs": {},
         "methodName": "replaceStructure",
         "reconstruc_color_scheme": false,
         "target": "Widget",
         "type": "call_method"
        },
        {
         "args": [
          "this._Q = [[1.0, 0.0, 0.0], [0.0, 1.0, 0.0], [0.0, 0.0, 1.0]]"
         ],
         "kwargs": {},
         "methodName": "executeCode",
         "reconstruc_color_scheme": false,
         "target": "Widget",
         "type": "call_method"
        },
        {
         "args": [
          {
           "data": "CRYST1    8.591    9.920   31.691  90.00  90.00  90.00 P 1\nMODEL     1\nATOM      1   Al MOL     1       2.263   1.316  10.310  1.00  0.00          AL  \nATOM      2   Al MOL     1       5.316   1.345  10.517  1.00  0.00          AL  \nATOM      3   Al MOL     1       8.019   1.419  10.652  1.00  0.00          AL  \nATOM      4   Al MOL     1       0.730   3.941  10.702  1.00  0.00          AL  \nATOM      5   Al MOL     1       3.646   3.812  10.564  1.00  0.00          AL  \nATOM      6   Al MOL     1       6.715   3.837  10.639  1.00  0.00          AL  \nATOM      7   Al MOL     1       2.216   6.393  10.748  1.00  0.00          AL  \nATOM      8   Al MOL     1       5.041   6.377  10.498  1.00  0.00          AL  \nATOM      9   Al MOL     1       8.157   6.265  10.261  1.00  0.00          AL  \nATOM     10   Al MOL     1       0.850   8.709  10.222  1.00  0.00          AL  \nATOM     11   Al MOL     1       3.581   8.800  10.514  1.00  0.00          AL  \nATOM     12   Al MOL     1       6.574   8.890  10.647  1.00  0.00          AL  \nATOM     13   Al MOL     1       0.835   2.290  12.877  1.00  0.00          AL  \nATOM     14   Al MOL     1       3.820   2.212  12.965  1.00  0.00          AL  \nATOM     15   Al MOL     1       6.617   2.267  13.001  1.00  0.00          AL  \nATOM     16   Al MOL     1       2.233   4.716  12.904  1.00  0.00          AL  \nATOM     17   Al MOL     1       5.002   4.820  13.050  1.00  0.00          AL  \nATOM     18   Al MOL     1       7.830   4.827  13.001  1.00  0.00          AL  \nATOM     19   Al MOL     1       0.676   7.166  12.699  1.00  0.00          AL  \nATOM     20   Al MOL     1       3.530   7.202  12.959  1.00  0.00          AL  \nATOM     21   Al MOL     1       6.377   7.210  12.856  1.00  0.00          AL  \nATOM     22   Al MOL     1       2.141   9.718  12.815  1.00  0.00          AL  \nATOM     23   Al MOL     1       5.103   9.639  12.988  1.00  0.00          AL  \nATOM     24   Al MOL     1       7.916   9.695  12.846  1.00  0.00          AL  \nATOM     25   Al MOL     1       0.756   0.666  15.329  1.00  0.00          AL  \nATOM     26   Al MOL     1       3.469   0.560  15.256  1.00  0.00          AL  \nATOM     27   Al MOL     1       6.320   0.683  15.298  1.00  0.00          AL  \nATOM     28   Al MOL     1       2.201   3.081  15.267  1.00  0.00          AL  \nATOM     29   Al MOL     1       4.898   3.118  15.402  1.00  0.00          AL  \nATOM     30   Al MOL     1       7.923   3.078  15.344  1.00  0.00          AL  \nATOM     31   Al MOL     1       0.661   5.603  15.157  1.00  0.00          AL  \nATOM     32   Al MOL     1       3.471   5.556  15.272  1.00  0.00          AL  \nATOM     33   Al MOL     1       6.361   5.533  15.285  1.00  0.00          AL  \nATOM     34   Al MOL     1       2.000   7.965  15.077  1.00  0.00          AL  \nATOM     35   Al MOL     1       4.960   8.016  15.272  1.00  0.00          AL  \nATOM     36   Al MOL     1       7.727   8.031  15.147  1.00  0.00          AL  \nATOM     37   Al MOL     1       2.059   1.447  17.644  1.00  0.00          AL  \nATOM     38   Al MOL     1       4.893   1.396  17.632  1.00  0.00          AL  \nATOM     39   Al MOL     1       7.781   1.526  17.425  1.00  0.00          AL  \nATOM     40   Al MOL     1       0.538   3.942  17.552  1.00  0.00          AL  \nATOM     41   Al MOL     1       3.578   3.795  17.736  1.00  0.00          AL  \nATOM     42   Al MOL     1       6.444   3.876  17.434  1.00  0.00          AL  \nATOM     43   Al MOL     1       2.040   6.325  17.550  1.00  0.00          AL  \nATOM     44   Al MOL     1       4.996   6.336  17.524  1.00  0.00          AL  \nATOM     45   Al MOL     1       7.879   6.375  17.495  1.00  0.00          AL  \nATOM     46   Al MOL     1       0.685   8.893  17.507  1.00  0.00          AL  \nATOM     47   Al MOL     1       3.482   8.773  17.453  1.00  0.00          AL  \nATOM     48   Al MOL     1       6.522   8.972  17.596  1.00  0.00          AL  \nATOM     49   Al MOL     1       0.588   2.410  19.792  1.00  0.00          AL  \nATOM     50   Al MOL     1       3.438   2.273  19.826  1.00  0.00          AL  \nATOM     51   Al MOL     1       6.453   2.302  19.742  1.00  0.00          AL  \nATOM     52   Al MOL     1       2.101   4.673  19.876  1.00  0.00          AL  \nATOM     53   Al MOL     1       5.016   4.650  19.769  1.00  0.00          AL  \nATOM     54   Al MOL     1       7.875   4.863  19.869  1.00  0.00          AL  \nATOM     55   Al MOL     1       0.791   7.151  19.820  1.00  0.00          AL  \nATOM     56   Al MOL     1       3.561   7.206  19.784  1.00  0.00          AL  \nATOM     57   Al MOL     1       6.553   7.173  19.807  1.00  0.00          AL  \nATOM     58   Al MOL     1       2.157   9.698  19.799  1.00  0.00          AL  \nATOM     59   Al MOL     1       5.027   9.775  19.844  1.00  0.00          AL  \nATOM     60   Al MOL     1       7.850   9.714  19.802  1.00  0.00          AL  \nATOM     61   Al MOL     1       0.691   0.738  22.001  1.00  0.00          AL  \nATOM     62   Al MOL     1       3.762   0.783  22.282  1.00  0.00          AL  \nATOM     63   Al MOL     1       6.411   0.747  22.173  1.00  0.00          AL  \nATOM     64   Al MOL     1       2.080   3.246  22.285  1.00  0.00          AL  \nATOM     65   Al MOL     1       4.953   3.200  21.973  1.00  0.00          AL  \nATOM     66   Al MOL     1       7.756   3.037  23.851  1.00  0.00          AL  \nATOM     67   Al MOL     1       0.801   5.682  22.294  1.00  0.00          AL  \nATOM     68   Al MOL     1       3.578   5.575  23.654  1.00  0.00          AL  \nATOM     69   Al MOL     1       6.483   5.567  22.170  1.00  0.00          AL  \nATOM     70   Al MOL     1       2.010   8.287  22.230  1.00  0.00          AL  \nATOM     71   Al MOL     1       5.020   8.120  22.027  1.00  0.00          AL  \nATOM     72   Al MOL     1       7.940   8.236  22.273  1.00  0.00          AL  \nATOM     73    O MOL     1      10.715   1.460  22.805  1.00  0.00           O  \nATOM     74    O MOL     1       6.334   3.844  22.991  1.00  0.00           O  \nATOM     75    O MOL     1       5.025   6.409  22.930  1.00  0.00           O  \nATOM     76    O MOL     1       4.031   5.700  25.389  1.00  0.00           O  \nATOM     77    O MOL     1       4.101  -0.399  -0.385  1.00  0.00           O  \nATOM     78    O MOL     1       4.011  -0.361  -1.616  1.00  0.00           O  \nATOM     79    O MOL     1       4.873   5.929  -0.176  1.00  0.00           O  \nATOM     80    O MOL     1       5.354   6.083  -1.302  1.00  0.00           O  \nATOM     81    O MOL     1       8.330   3.457  -1.151  1.00  0.00           O  \nATOM     82    O MOL     1       8.259   3.507   0.079  1.00  0.00           O  \nATOM     83    O MOL     1       7.220  -1.037  -0.977  1.00  0.00           O  \nATOM     84    O MOL     1       7.717  -0.052  -0.423  1.00  0.00           O  \nATOM     85    O MOL     1       1.967   7.898  28.368  1.00  0.00           O  \nATOM     86    O MOL     1       0.751   7.987  28.194  1.00  0.00           O  \nATOM     87    O MOL     1       2.056   6.407  23.258  1.00  0.00           O  \nATOM     88    O MOL     1       3.443   3.923  22.944  1.00  0.00           O  \nATOM     89    O MOL     1       3.161   4.542  26.360  1.00  0.00           O  \nATOM     90    O MOL     1       2.424   3.648  25.848  1.00  0.00           O  \nATOM     91    O MOL     1       7.900   8.000   9.663  1.00  0.00           O  \nATOM     92    O MOL     1       6.524   5.491   9.919  1.00  0.00           O  \nATOM     93    O MOL     1       2.152   3.035   9.856  1.00  0.00           O  \nATOM     94    O MOL     1       3.574   5.478   9.848  1.00  0.00           O  \nATOM     95    O MOL     1       7.831   6.556  22.833  1.00  0.00           O  \nATOM     96    O MOL     1       9.385   4.120  23.079  1.00  0.00           O  \nATOM     97    O MOL     1       3.809   0.567   9.736  1.00  0.00           O  \nATOM     98    O MOL     1       5.143   3.038   9.872  1.00  0.00           O  \nATOM     99    O MOL     1       0.744  10.487   9.692  1.00  0.00           O  \nATOM    100    O MOL     1       5.147   8.049   9.884  1.00  0.00           O  \nATOM    101    O MOL     1      -0.482   9.887  25.088  1.00  0.00           O  \nATOM    102    O MOL     1       0.224  10.719  25.666  1.00  0.00           O  \nATOM    103    O MOL     1       1.640   7.199  -0.382  1.00  0.00           O  \nATOM    104    O MOL     1       1.117   6.119  -0.672  1.00  0.00           O  \nATOM    105    O MOL     1       4.478   9.614  26.524  1.00  0.00           O  \nATOM    106    O MOL     1       4.461   8.610  25.802  1.00  0.00           O  \nATOM    107    O MOL     1       6.485   8.919  22.867  1.00  0.00           O  \nATOM    108    O MOL     1       3.586   8.905  22.849  1.00  0.00           O  \nATOM    109    O MOL     1       4.498   2.912  31.416  1.00  0.00           O  \nATOM    110    O MOL     1       3.732   3.144  30.477  1.00  0.00           O  \nATOM    111    O MOL     1      -1.104   2.616  25.386  1.00  0.00           O  \nATOM    112    O MOL     1      -0.645   1.516  22.862  1.00  0.00           O  \nENDMDL\n",
           "ext": "pdb"
          }
         ],
         "kwargs": {},
         "methodName": "replaceStructure",
         "reconstruc_color_scheme": false,
         "target": "Widget",
         "type": "call_method"
        },
        {
         "args": [
          "this._Q = [[1.0, 0.0, 0.0], [0.0, 1.0, 0.0], [0.0, 0.0, 1.0]]"
         ],
         "kwargs": {},
         "methodName": "executeCode",
         "reconstruc_color_scheme": false,
         "target": "Widget",
         "type": "call_method"
        },
        {
         "args": [
          {
           "data": "CRYST1    8.591    9.920   31.691  90.00  90.00  90.00 P 1\nMODEL     1\nATOM      1   Al MOL     1       2.054   1.471  10.444  1.00  0.00          AL  \nATOM      2   Al MOL     1       5.084   1.419  10.709  1.00  0.00          AL  \nATOM      3   Al MOL     1       7.795   1.282  10.636  1.00  0.00          AL  \nATOM      4   Al MOL     1       0.640   3.856  10.616  1.00  0.00          AL  \nATOM      5   Al MOL     1       3.599   3.897  10.507  1.00  0.00          AL  \nATOM      6   Al MOL     1       6.714   3.750  10.425  1.00  0.00          AL  \nATOM      7   Al MOL     1       2.126   6.366  10.550  1.00  0.00          AL  \nATOM      8   Al MOL     1       5.068   6.341  10.487  1.00  0.00          AL  \nATOM      9   Al MOL     1       8.083   6.268  10.677  1.00  0.00          AL  \nATOM     10   Al MOL     1       0.839   8.710  10.630  1.00  0.00          AL  \nATOM     11   Al MOL     1       3.574   8.775  10.653  1.00  0.00          AL  \nATOM     12   Al MOL     1       6.487   8.980  10.673  1.00  0.00          AL  \nATOM     13   Al MOL     1       0.592   2.145  12.759  1.00  0.00          AL  \nATOM     14   Al MOL     1       3.344   2.255  12.867  1.00  0.00          AL  \nATOM     15   Al MOL     1       6.448   2.337  12.856  1.00  0.00          AL  \nATOM     16   Al MOL     1       2.065   4.798  12.863  1.00  0.00          AL  \nATOM     17   Al MOL     1       4.893   4.765  12.865  1.00  0.00          AL  \nATOM     18   Al MOL     1       7.921   4.721  12.820  1.00  0.00          AL  \nATOM     19   Al MOL     1       0.733   7.219  13.138  1.00  0.00          AL  \nATOM     20   Al MOL     1       3.430   7.137  12.955  1.00  0.00          AL  \nATOM     21   Al MOL     1       6.497   7.187  12.966  1.00  0.00          AL  \nATOM     22   Al MOL     1       2.099   9.573  12.826  1.00  0.00          AL  \nATOM     23   Al MOL     1       4.959   9.688  12.951  1.00  0.00          AL  \nATOM     24   Al MOL     1       7.780   9.677  12.852  1.00  0.00          AL  \nATOM     25   Al MOL     1       0.799   0.501  15.152  1.00  0.00          AL  \nATOM     26   Al MOL     1       3.547   0.556  15.094  1.00  0.00          AL  \nATOM     27   Al MOL     1       6.473   0.516  15.087  1.00  0.00          AL  \nATOM     28   Al MOL     1       2.105   2.943  15.207  1.00  0.00          AL  \nATOM     29   Al MOL     1       4.993   3.100  15.209  1.00  0.00          AL  \nATOM     30   Al MOL     1       7.827   3.085  15.125  1.00  0.00          AL  \nATOM     31   Al MOL     1       0.687   5.558  15.319  1.00  0.00          AL  \nATOM     32   Al MOL     1       3.481   5.502  15.101  1.00  0.00          AL  \nATOM     33   Al MOL     1       6.492   5.532  15.217  1.00  0.00          AL  \nATOM     34   Al MOL     1       2.152   7.994  15.285  1.00  0.00          AL  \nATOM     35   Al MOL     1       4.834   7.989  15.108  1.00  0.00          AL  \nATOM     36   Al MOL     1       7.886   8.022  15.345  1.00  0.00          AL  \nATOM     37   Al MOL     1       2.128   1.287  17.375  1.00  0.00          AL  \nATOM     38   Al MOL     1       5.068   1.524  17.383  1.00  0.00          AL  \nATOM     39   Al MOL     1       7.863   1.416  17.392  1.00  0.00          AL  \nATOM     40   Al MOL     1       0.652   3.848  17.520  1.00  0.00          AL  \nATOM     41   Al MOL     1       3.617   3.937  17.403  1.00  0.00          AL  \nATOM     42   Al MOL     1       6.475   3.904  17.491  1.00  0.00          AL  \nATOM     43   Al MOL     1       2.118   6.364  17.619  1.00  0.00          AL  \nATOM     44   Al MOL     1       4.866   6.323  17.405  1.00  0.00          AL  \nATOM     45   Al MOL     1       7.790   6.353  17.654  1.00  0.00          AL  \nATOM     46   Al MOL     1       0.670   8.789  17.577  1.00  0.00          AL  \nATOM     47   Al MOL     1       3.469   8.826  17.657  1.00  0.00          AL  \nATOM     48   Al MOL     1       6.202   8.770  17.325  1.00  0.00          AL  \nATOM     49   Al MOL     1       0.893   2.254  19.763  1.00  0.00          AL  \nATOM     50   Al MOL     1       3.595   2.461  19.666  1.00  0.00          AL  \nATOM     51   Al MOL     1       6.341   2.254  19.789  1.00  0.00          AL  \nATOM     52   Al MOL     1       2.170   4.808  19.972  1.00  0.00          AL  \nATOM     53   Al MOL     1       4.952   4.784  19.780  1.00  0.00          AL  \nATOM     54   Al MOL     1       7.918   4.670  19.750  1.00  0.00          AL  \nATOM     55   Al MOL     1       0.791   7.181  19.817  1.00  0.00          AL  \nATOM     56   Al MOL     1       3.522   7.234  20.109  1.00  0.00          AL  \nATOM     57   Al MOL     1       6.474   7.292  19.870  1.00  0.00          AL  \nATOM     58   Al MOL     1       2.176   9.660  19.809  1.00  0.00          AL  \nATOM     59   Al MOL     1       4.938   9.655  19.741  1.00  0.00          AL  \nATOM     60   Al MOL     1       7.768   9.643  19.663  1.00  0.00          AL  \nATOM     61   Al MOL     1       0.641   0.599  22.164  1.00  0.00          AL  \nATOM     62   Al MOL     1       3.705   0.667  22.053  1.00  0.00          AL  \nATOM     63   Al MOL     1       6.375   0.857  21.909  1.00  0.00          AL  \nATOM     64   Al MOL     1       2.333   3.284  22.592  1.00  0.00          AL  \nATOM     65   Al MOL     1       5.202   3.229  22.218  1.00  0.00          AL  \nATOM     66   Al MOL     1       7.832   3.162  23.755  1.00  0.00          AL  \nATOM     67   Al MOL     1       0.971   5.546  22.517  1.00  0.00          AL  \nATOM     68   Al MOL     1       3.936   5.693  23.807  1.00  0.00          AL  \nATOM     69   Al MOL     1       6.561   5.683  22.139  1.00  0.00          AL  \nATOM     70   Al MOL     1       2.270   8.006  22.290  1.00  0.00          AL  \nATOM     71   Al MOL     1       5.029   8.093  22.300  1.00  0.00          AL  \nATOM     72   Al MOL     1       8.058   8.219  22.118  1.00  0.00          AL  \nATOM     73    O MOL     1      10.703   1.374  22.937  1.00  0.00           O  \nATOM     74    O MOL     1       6.594   4.017  22.837  1.00  0.00           O  \nATOM     75    O MOL     1       5.113   6.419  22.908  1.00  0.00           O  \nATOM     76    O MOL     1       4.259   5.805  25.500  1.00  0.00           O  \nATOM     77    O MOL     1       4.089  -0.666  -0.317  1.00  0.00           O  \nATOM     78    O MOL     1       4.151  -0.343  -1.506  1.00  0.00           O  \nATOM     79    O MOL     1       5.062   5.777  -0.130  1.00  0.00           O  \nATOM     80    O MOL     1       5.183   6.030  -1.331  1.00  0.00           O  \nATOM     81    O MOL     1       8.338   3.470  -1.200  1.00  0.00           O  \nATOM     82    O MOL     1       8.332   3.149  -0.011  1.00  0.00           O  \nATOM     83    O MOL     1       7.297  -1.034  -1.079  1.00  0.00           O  \nATOM     84    O MOL     1       7.833   0.045  -0.816  1.00  0.00           O  \nATOM     85    O MOL     1       1.701   8.775  28.283  1.00  0.00           O  \nATOM     86    O MOL     1       0.529   8.431  28.113  1.00  0.00           O  \nATOM     87    O MOL     1       2.340   6.597  23.437  1.00  0.00           O  \nATOM     88    O MOL     1       3.677   3.991  23.317  1.00  0.00           O  \nATOM     89    O MOL     1       2.918   4.753  25.928  1.00  0.00           O  \nATOM     90    O MOL     1       3.181   3.651  26.496  1.00  0.00           O  \nATOM     91    O MOL     1       7.890   7.985   9.989  1.00  0.00           O  \nATOM     92    O MOL     1       6.586   5.529   9.928  1.00  0.00           O  \nATOM     93    O MOL     1       2.141   3.154   9.709  1.00  0.00           O  \nATOM     94    O MOL     1       3.618   5.540   9.802  1.00  0.00           O  \nATOM     95    O MOL     1       7.961   6.413  22.908  1.00  0.00           O  \nATOM     96    O MOL     1       9.409   3.984  23.180  1.00  0.00           O  \nATOM     97    O MOL     1       3.605   0.620   9.979  1.00  0.00           O  \nATOM     98    O MOL     1       5.081   3.100   9.859  1.00  0.00           O  \nATOM     99    O MOL     1       0.706  10.365   9.791  1.00  0.00           O  \nATOM    100    O MOL     1       5.039   8.022   9.942  1.00  0.00           O  \nATOM    101    O MOL     1      -0.388   9.529  25.477  1.00  0.00           O  \nATOM    102    O MOL     1      -0.277  10.716  25.809  1.00  0.00           O  \nATOM    103    O MOL     1       1.759   7.234  -0.411  1.00  0.00           O  \nATOM    104    O MOL     1       1.303   6.262  -1.021  1.00  0.00           O  \nATOM    105    O MOL     1       4.305   9.898  26.324  1.00  0.00           O  \nATOM    106    O MOL     1       4.463   8.734  25.935  1.00  0.00           O  \nATOM    107    O MOL     1       6.540   9.025  22.844  1.00  0.00           O  \nATOM    108    O MOL     1       3.640   8.969  22.909  1.00  0.00           O  \nATOM    109    O MOL     1       4.153   2.870  31.375  1.00  0.00           O  \nATOM    110    O MOL     1       3.632   3.276  30.333  1.00  0.00           O  \nATOM    111    O MOL     1      -1.365   3.096  25.399  1.00  0.00           O  \nATOM    112    O MOL     1      -0.694   1.600  22.761  1.00  0.00           O  \nENDMDL\n",
           "ext": "pdb"
          }
         ],
         "kwargs": {},
         "methodName": "replaceStructure",
         "reconstruc_color_scheme": false,
         "target": "Widget",
         "type": "call_method"
        },
        {
         "args": [
          "this._Q = [[1.0, 0.0, 0.0], [0.0, 1.0, 0.0], [0.0, 0.0, 1.0]]"
         ],
         "kwargs": {},
         "methodName": "executeCode",
         "reconstruc_color_scheme": false,
         "target": "Widget",
         "type": "call_method"
        },
        {
         "args": [
          {
           "data": "CRYST1    8.591    9.920   31.691  90.00  90.00  90.00 P 1\nMODEL     1\nATOM      1   Al MOL     1       1.983   1.241  10.417  1.00  0.00          AL  \nATOM      2   Al MOL     1       4.922   1.309  10.832  1.00  0.00          AL  \nATOM      3   Al MOL     1       7.672   1.375  10.729  1.00  0.00          AL  \nATOM      4   Al MOL     1       0.569   3.788  10.692  1.00  0.00          AL  \nATOM      5   Al MOL     1       3.421   3.833  10.696  1.00  0.00          AL  \nATOM      6   Al MOL     1       6.513   3.762  10.683  1.00  0.00          AL  \nATOM      7   Al MOL     1       2.006   6.290  10.564  1.00  0.00          AL  \nATOM      8   Al MOL     1       4.918   6.371  10.607  1.00  0.00          AL  \nATOM      9   Al MOL     1       7.943   6.198  10.495  1.00  0.00          AL  \nATOM     10   Al MOL     1       0.622   8.728  10.407  1.00  0.00          AL  \nATOM     11   Al MOL     1       3.338   8.786  10.513  1.00  0.00          AL  \nATOM     12   Al MOL     1       6.272   8.886  10.676  1.00  0.00          AL  \nATOM     13   Al MOL     1       0.666   2.179  12.831  1.00  0.00          AL  \nATOM     14   Al MOL     1       3.518   2.196  13.026  1.00  0.00          AL  \nATOM     15   Al MOL     1       6.409   2.399  12.966  1.00  0.00          AL  \nATOM     16   Al MOL     1       1.932   4.600  12.907  1.00  0.00          AL  \nATOM     17   Al MOL     1       4.948   4.787  13.053  1.00  0.00          AL  \nATOM     18   Al MOL     1       7.782   4.819  12.981  1.00  0.00          AL  \nATOM     19   Al MOL     1       0.619   7.115  12.884  1.00  0.00          AL  \nATOM     20   Al MOL     1       3.483   7.087  12.856  1.00  0.00          AL  \nATOM     21   Al MOL     1       6.329   7.188  12.924  1.00  0.00          AL  \nATOM     22   Al MOL     1       2.014   9.627  12.892  1.00  0.00          AL  \nATOM     23   Al MOL     1       4.948   9.710  12.961  1.00  0.00          AL  \nATOM     24   Al MOL     1       7.785   9.680  12.954  1.00  0.00          AL  \nATOM     25   Al MOL     1       0.732   0.579  15.147  1.00  0.00          AL  \nATOM     26   Al MOL     1       3.682   0.604  15.199  1.00  0.00          AL  \nATOM     27   Al MOL     1       6.496   0.650  15.228  1.00  0.00          AL  \nATOM     28   Al MOL     1       2.099   3.051  15.297  1.00  0.00          AL  \nATOM     29   Al MOL     1       5.037   3.102  15.408  1.00  0.00          AL  \nATOM     30   Al MOL     1       7.862   3.044  15.181  1.00  0.00          AL  \nATOM     31   Al MOL     1       0.782   5.648  15.273  1.00  0.00          AL  \nATOM     32   Al MOL     1       3.575   5.478  15.145  1.00  0.00          AL  \nATOM     33   Al MOL     1       6.410   5.607  15.324  1.00  0.00          AL  \nATOM     34   Al MOL     1       2.226   8.024  15.165  1.00  0.00          AL  \nATOM     35   Al MOL     1       4.891   7.933  15.103  1.00  0.00          AL  \nATOM     36   Al MOL     1       7.824   8.072  15.192  1.00  0.00          AL  \nATOM     37   Al MOL     1       2.149   1.400  17.509  1.00  0.00          AL  \nATOM     38   Al MOL     1       5.077   1.407  17.526  1.00  0.00          AL  \nATOM     39   Al MOL     1       7.870   1.439  17.403  1.00  0.00          AL  \nATOM     40   Al MOL     1       0.719   3.998  17.587  1.00  0.00          AL  \nATOM     41   Al MOL     1       3.566   3.874  17.498  1.00  0.00          AL  \nATOM     42   Al MOL     1       6.503   4.054  17.684  1.00  0.00          AL  \nATOM     43   Al MOL     1       2.221   6.389  17.469  1.00  0.00          AL  \nATOM     44   Al MOL     1       5.041   6.296  17.442  1.00  0.00          AL  \nATOM     45   Al MOL     1       7.816   6.440  17.411  1.00  0.00          AL  \nATOM     46   Al MOL     1       0.802   8.937  17.387  1.00  0.00          AL  \nATOM     47   Al MOL     1       3.609   8.757  17.605  1.00  0.00          AL  \nATOM     48   Al MOL     1       6.255   8.873  17.413  1.00  0.00          AL  \nATOM     49   Al MOL     1       0.688   2.280  19.678  1.00  0.00          AL  \nATOM     50   Al MOL     1       3.854   2.328  19.792  1.00  0.00          AL  \nATOM     51   Al MOL     1       6.572   2.379  19.888  1.00  0.00          AL  \nATOM     52   Al MOL     1       2.178   4.779  19.707  1.00  0.00          AL  \nATOM     53   Al MOL     1       5.167   4.646  20.028  1.00  0.00          AL  \nATOM     54   Al MOL     1       8.044   4.565  20.052  1.00  0.00          AL  \nATOM     55   Al MOL     1       0.773   7.228  19.609  1.00  0.00          AL  \nATOM     56   Al MOL     1       3.855   7.129  19.845  1.00  0.00          AL  \nATOM     57   Al MOL     1       6.692   7.288  19.766  1.00  0.00          AL  \nATOM     58   Al MOL     1       2.186   9.647  19.864  1.00  0.00          AL  \nATOM     59   Al MOL     1       5.057   9.744  19.859  1.00  0.00          AL  \nATOM     60   Al MOL     1       7.905   9.771  19.634  1.00  0.00          AL  \nATOM     61   Al MOL     1       0.793   0.488  21.988  1.00  0.00          AL  \nATOM     62   Al MOL     1       3.759   0.677  22.334  1.00  0.00          AL  \nATOM     63   Al MOL     1       6.495   0.739  22.163  1.00  0.00          AL  \nATOM     64   Al MOL     1       2.307   3.115  22.151  1.00  0.00          AL  \nATOM     65   Al MOL     1       5.321   3.144  22.397  1.00  0.00          AL  \nATOM     66   Al MOL     1       8.179   2.955  23.761  1.00  0.00          AL  \nATOM     67   Al MOL     1       0.952   5.522  22.083  1.00  0.00          AL  \nATOM     68   Al MOL     1       3.586   5.371  23.582  1.00  0.00          AL  \nATOM     69   Al MOL     1       6.566   5.595  22.363  1.00  0.00          AL  \nATOM     70   Al MOL     1       2.243   8.188  21.973  1.00  0.00          AL  \nATOM     71   Al MOL     1       5.001   8.061  22.297  1.00  0.00          AL  \nATOM     72   Al MOL     1       7.985   8.230  22.030  1.00  0.00          AL  \nATOM     73    O MOL     1      10.791   1.370  22.809  1.00  0.00           O  \nATOM     74    O MOL     1       6.720   3.955  23.180  1.00  0.00           O  \nATOM     75    O MOL     1       5.094   6.368  23.101  1.00  0.00           O  \nATOM     76    O MOL     1       2.805   5.408  25.054  1.00  0.00           O  \nATOM     77    O MOL     1       4.517  -0.758  -0.180  1.00  0.00           O  \nATOM     78    O MOL     1       4.416  -0.448  -1.371  1.00  0.00           O  \nATOM     79    O MOL     1       5.706   6.079  -0.212  1.00  0.00           O  \nATOM     80    O MOL     1       4.997   6.135  -1.221  1.00  0.00           O  \nATOM     81    O MOL     1       8.085   3.149  -1.307  1.00  0.00           O  \nATOM     82    O MOL     1       8.714   3.301  -0.256  1.00  0.00           O  \nATOM     83    O MOL     1       7.515  -1.122  -0.846  1.00  0.00           O  \nATOM     84    O MOL     1       7.590   0.045  -1.248  1.00  0.00           O  \nATOM     85    O MOL     1       1.213   9.892  28.200  1.00  0.00           O  \nATOM     86    O MOL     1       1.171   8.661  28.182  1.00  0.00           O  \nATOM     87    O MOL     1       2.318   6.415  22.708  1.00  0.00           O  \nATOM     88    O MOL     1       3.760   3.796  22.709  1.00  0.00           O  \nATOM     89    O MOL     1       3.240   3.953  27.020  1.00  0.00           O  \nATOM     90    O MOL     1       3.393   4.560  28.089  1.00  0.00           O  \nATOM     91    O MOL     1       7.664   7.928   9.841  1.00  0.00           O  \nATOM     92    O MOL     1       6.321   5.441   9.988  1.00  0.00           O  \nATOM     93    O MOL     1       2.030   2.971   9.871  1.00  0.00           O  \nATOM     94    O MOL     1       3.521   5.451   9.935  1.00  0.00           O  \nATOM     95    O MOL     1       8.142   6.444  22.837  1.00  0.00           O  \nATOM     96    O MOL     1       9.455   3.782  22.788  1.00  0.00           O  \nATOM     97    O MOL     1       3.533   0.599   9.845  1.00  0.00           O  \nATOM     98    O MOL     1       4.917   3.021  10.184  1.00  0.00           O  \nATOM     99    O MOL     1       0.476  10.477   9.688  1.00  0.00           O  \nATOM    100    O MOL     1       4.874   7.977   9.865  1.00  0.00           O  \nATOM    101    O MOL     1      -0.579  10.267  25.203  1.00  0.00           O  \nATOM    102    O MOL     1      -0.657  11.301  25.973  1.00  0.00           O  \nATOM    103    O MOL     1       1.892   7.322  -1.037  1.00  0.00           O  \nATOM    104    O MOL     1       1.409   6.224  -1.325  1.00  0.00           O  \nATOM    105    O MOL     1       4.068  10.333  25.453  1.00  0.00           O  \nATOM    106    O MOL     1       4.504   9.605  26.354  1.00  0.00           O  \nATOM    107    O MOL     1       6.513   8.867  22.751  1.00  0.00           O  \nATOM    108    O MOL     1       3.518   8.875  22.928  1.00  0.00           O  \nATOM    109    O MOL     1       3.587   2.640  31.182  1.00  0.00           O  \nATOM    110    O MOL     1       2.980   2.769  30.115  1.00  0.00           O  \nATOM    111    O MOL     1      -0.154   2.838  25.562  1.00  0.00           O  \nATOM    112    O MOL     1      -0.562   1.472  22.738  1.00  0.00           O  \nENDMDL\n",
           "ext": "pdb"
          }
         ],
         "kwargs": {},
         "methodName": "replaceStructure",
         "reconstruc_color_scheme": false,
         "target": "Widget",
         "type": "call_method"
        },
        {
         "args": [
          "this._Q = [[1.0, 0.0, 0.0], [0.0, 1.0, 0.0], [0.0, 0.0, 1.0]]"
         ],
         "kwargs": {},
         "methodName": "executeCode",
         "reconstruc_color_scheme": false,
         "target": "Widget",
         "type": "call_method"
        },
        {
         "args": [
          {
           "data": "CRYST1    8.591    9.920   31.691  90.00  90.00  90.00 P 1\nMODEL     1\nATOM      1   Al MOL     1       2.039   1.386  10.488  1.00  0.00          AL  \nATOM      2   Al MOL     1       5.119   1.346  10.564  1.00  0.00          AL  \nATOM      3   Al MOL     1       7.773   1.200  10.451  1.00  0.00          AL  \nATOM      4   Al MOL     1       0.588   3.941  10.761  1.00  0.00          AL  \nATOM      5   Al MOL     1       3.494   3.868  10.493  1.00  0.00          AL  \nATOM      6   Al MOL     1       6.498   3.676  10.516  1.00  0.00          AL  \nATOM      7   Al MOL     1       2.083   6.310  10.808  1.00  0.00          AL  \nATOM      8   Al MOL     1       4.936   6.294  10.483  1.00  0.00          AL  \nATOM      9   Al MOL     1       7.864   6.255  10.608  1.00  0.00          AL  \nATOM     10   Al MOL     1       0.735   8.684  10.551  1.00  0.00          AL  \nATOM     11   Al MOL     1       3.469   8.866  10.742  1.00  0.00          AL  \nATOM     12   Al MOL     1       6.409   8.822  10.626  1.00  0.00          AL  \nATOM     13   Al MOL     1       0.652   2.309  12.946  1.00  0.00          AL  \nATOM     14   Al MOL     1       3.459   2.246  12.869  1.00  0.00          AL  \nATOM     15   Al MOL     1       6.347   2.065  12.964  1.00  0.00          AL  \nATOM     16   Al MOL     1       2.089   4.872  12.940  1.00  0.00          AL  \nATOM     17   Al MOL     1       4.956   4.744  12.908  1.00  0.00          AL  \nATOM     18   Al MOL     1       7.804   4.641  12.857  1.00  0.00          AL  \nATOM     19   Al MOL     1       0.632   7.280  13.037  1.00  0.00          AL  \nATOM     20   Al MOL     1       3.547   7.170  13.062  1.00  0.00          AL  \nATOM     21   Al MOL     1       6.304   7.105  12.951  1.00  0.00          AL  \nATOM     22   Al MOL     1       2.009   9.754  12.864  1.00  0.00          AL  \nATOM     23   Al MOL     1       4.853   9.599  12.982  1.00  0.00          AL  \nATOM     24   Al MOL     1       7.851   9.632  12.853  1.00  0.00          AL  \nATOM     25   Al MOL     1       0.650   0.654  15.160  1.00  0.00          AL  \nATOM     26   Al MOL     1       3.446   0.615  15.090  1.00  0.00          AL  \nATOM     27   Al MOL     1       6.427   0.477  15.293  1.00  0.00          AL  \nATOM     28   Al MOL     1       2.217   3.232  15.184  1.00  0.00          AL  \nATOM     29   Al MOL     1       4.903   3.071  15.207  1.00  0.00          AL  \nATOM     30   Al MOL     1       7.949   3.081  15.252  1.00  0.00          AL  \nATOM     31   Al MOL     1       0.601   5.538  15.170  1.00  0.00          AL  \nATOM     32   Al MOL     1       3.582   5.648  15.334  1.00  0.00          AL  \nATOM     33   Al MOL     1       6.355   5.628  15.235  1.00  0.00          AL  \nATOM     34   Al MOL     1       1.976   8.131  15.230  1.00  0.00          AL  \nATOM     35   Al MOL     1       5.043   7.978  15.309  1.00  0.00          AL  \nATOM     36   Al MOL     1       7.834   7.962  15.227  1.00  0.00          AL  \nATOM     37   Al MOL     1       2.215   1.595  17.420  1.00  0.00          AL  \nATOM     38   Al MOL     1       5.117   1.434  17.422  1.00  0.00          AL  \nATOM     39   Al MOL     1       7.976   1.416  17.431  1.00  0.00          AL  \nATOM     40   Al MOL     1       0.876   3.882  17.475  1.00  0.00          AL  \nATOM     41   Al MOL     1       3.787   3.987  17.608  1.00  0.00          AL  \nATOM     42   Al MOL     1       6.522   3.863  17.388  1.00  0.00          AL  \nATOM     43   Al MOL     1       2.181   6.397  17.556  1.00  0.00          AL  \nATOM     44   Al MOL     1       5.089   6.471  17.547  1.00  0.00          AL  \nATOM     45   Al MOL     1       7.922   6.375  17.508  1.00  0.00          AL  \nATOM     46   Al MOL     1       0.674   8.846  17.507  1.00  0.00          AL  \nATOM     47   Al MOL     1       3.573   8.899  17.347  1.00  0.00          AL  \nATOM     48   Al MOL     1       6.536   8.832  17.513  1.00  0.00          AL  \nATOM     49   Al MOL     1       0.758   2.358  19.729  1.00  0.00          AL  \nATOM     50   Al MOL     1       3.656   2.219  19.771  1.00  0.00          AL  \nATOM     51   Al MOL     1       6.505   2.298  19.819  1.00  0.00          AL  \nATOM     52   Al MOL     1       2.405   4.832  19.823  1.00  0.00          AL  \nATOM     53   Al MOL     1       5.219   4.768  19.946  1.00  0.00          AL  \nATOM     54   Al MOL     1       8.096   4.791  19.668  1.00  0.00          AL  \nATOM     55   Al MOL     1       0.794   7.164  19.858  1.00  0.00          AL  \nATOM     56   Al MOL     1       3.545   7.312  19.775  1.00  0.00          AL  \nATOM     57   Al MOL     1       6.379   7.281  19.953  1.00  0.00          AL  \nATOM     58   Al MOL     1       2.222   9.703  19.678  1.00  0.00          AL  \nATOM     59   Al MOL     1       5.038   9.617  19.545  1.00  0.00          AL  \nATOM     60   Al MOL     1       7.957   9.632  19.665  1.00  0.00          AL  \nATOM     61   Al MOL     1       0.760   0.463  21.971  1.00  0.00          AL  \nATOM     62   Al MOL     1       3.652   0.522  21.931  1.00  0.00          AL  \nATOM     63   Al MOL     1       6.477   0.571  22.092  1.00  0.00          AL  \nATOM     64   Al MOL     1       2.390   3.146  22.332  1.00  0.00          AL  \nATOM     65   Al MOL     1       4.986   2.823  22.030  1.00  0.00          AL  \nATOM     66   Al MOL     1       8.033   2.925  23.650  1.00  0.00          AL  \nATOM     67   Al MOL     1       0.816   5.528  22.025  1.00  0.00          AL  \nATOM     68   Al MOL     1       3.520   5.498  24.054  1.00  0.00          AL  \nATOM     69   Al MOL     1       6.301   5.374  22.498  1.00  0.00          AL  \nATOM     70   Al MOL     1       2.100   7.922  22.081  1.00  0.00          AL  \nATOM     71   Al MOL     1       5.108   7.823  22.340  1.00  0.00          AL  \nATOM     72   Al MOL     1       7.975   7.935  22.139  1.00  0.00          AL  \nATOM     73    O MOL     1      10.792   1.309  22.693  1.00  0.00           O  \nATOM     74    O MOL     1       6.554   3.747  22.976  1.00  0.00           O  \nATOM     75    O MOL     1       4.945   6.257  23.245  1.00  0.00           O  \nATOM     76    O MOL     1       3.074   5.679  25.686  1.00  0.00           O  \nATOM     77    O MOL     1       4.630  -0.509  -0.113  1.00  0.00           O  \nATOM     78    O MOL     1       4.412  -0.593  -1.324  1.00  0.00           O  \nATOM     79    O MOL     1       6.057   6.047  -0.288  1.00  0.00           O  \nATOM     80    O MOL     1       5.115   6.106  -1.083  1.00  0.00           O  \nATOM     81    O MOL     1       7.894   3.100  -1.312  1.00  0.00           O  \nATOM     82    O MOL     1       8.698   3.413  -0.430  1.00  0.00           O  \nATOM     83    O MOL     1       7.636  -1.164  -0.889  1.00  0.00           O  \nATOM     84    O MOL     1       7.393   0.044  -0.948  1.00  0.00           O  \nATOM     85    O MOL     1       1.374  10.058  28.227  1.00  0.00           O  \nATOM     86    O MOL     1       1.866   9.011  27.799  1.00  0.00           O  \nATOM     87    O MOL     1       2.061   6.361  23.029  1.00  0.00           O  \nATOM     88    O MOL     1       3.738   3.701  23.173  1.00  0.00           O  \nATOM     89    O MOL     1       4.040   4.196  27.533  1.00  0.00           O  \nATOM     90    O MOL     1       3.237   4.701  28.291  1.00  0.00           O  \nATOM     91    O MOL     1       7.806   7.918   9.843  1.00  0.00           O  \nATOM     92    O MOL     1       6.422   5.466   9.812  1.00  0.00           O  \nATOM     93    O MOL     1       1.935   3.077   9.812  1.00  0.00           O  \nATOM     94    O MOL     1       3.457   5.513   9.764  1.00  0.00           O  \nATOM     95    O MOL     1       7.906   6.221  22.736  1.00  0.00           O  \nATOM     96    O MOL     1       9.427   3.845  22.782  1.00  0.00           O  \nATOM     97    O MOL     1       3.535   0.609   9.902  1.00  0.00           O  \nATOM     98    O MOL     1       4.939   3.043   9.801  1.00  0.00           O  \nATOM     99    O MOL     1       0.673  10.342   9.744  1.00  0.00           O  \nATOM    100    O MOL     1       4.892   7.968   9.913  1.00  0.00           O  \nATOM    101    O MOL     1      -0.663  10.579  26.091  1.00  0.00           O  \nATOM    102    O MOL     1      -0.984  11.792  26.048  1.00  0.00           O  \nATOM    103    O MOL     1       1.997   7.206  -1.264  1.00  0.00           O  \nATOM    104    O MOL     1       1.296   6.196  -1.339  1.00  0.00           O  \nATOM    105    O MOL     1       3.800  10.996  25.512  1.00  0.00           O  \nATOM    106    O MOL     1       4.565  10.114  25.916  1.00  0.00           O  \nATOM    107    O MOL     1       6.518   8.757  22.965  1.00  0.00           O  \nATOM    108    O MOL     1       3.632   8.814  22.765  1.00  0.00           O  \nATOM    109    O MOL     1       3.385   2.769  31.028  1.00  0.00           O  \nATOM    110    O MOL     1       2.638   2.035  30.374  1.00  0.00           O  \nATOM    111    O MOL     1       0.088   2.939  25.220  1.00  0.00           O  \nATOM    112    O MOL     1      -0.681   1.214  22.936  1.00  0.00           O  \nENDMDL\n",
           "ext": "pdb"
          }
         ],
         "kwargs": {},
         "methodName": "replaceStructure",
         "reconstruc_color_scheme": false,
         "target": "Widget",
         "type": "call_method"
        },
        {
         "args": [
          "this._Q = [[1.0, 0.0, 0.0], [0.0, 1.0, 0.0], [0.0, 0.0, 1.0]]"
         ],
         "kwargs": {},
         "methodName": "executeCode",
         "reconstruc_color_scheme": false,
         "target": "Widget",
         "type": "call_method"
        },
        {
         "args": [
          {
           "data": "CRYST1    8.591    9.920   31.691  90.00  90.00  90.00 P 1\nMODEL     1\nATOM      1   Al MOL     1       2.171   1.344  10.431  1.00  0.00          AL  \nATOM      2   Al MOL     1       5.153   1.382  10.337  1.00  0.00          AL  \nATOM      3   Al MOL     1       7.874   1.489  10.897  1.00  0.00          AL  \nATOM      4   Al MOL     1       0.780   3.855  10.670  1.00  0.00          AL  \nATOM      5   Al MOL     1       3.679   3.839  10.379  1.00  0.00          AL  \nATOM      6   Al MOL     1       6.610   3.826  10.332  1.00  0.00          AL  \nATOM      7   Al MOL     1       2.108   6.311  10.704  1.00  0.00          AL  \nATOM      8   Al MOL     1       5.051   6.368  10.570  1.00  0.00          AL  \nATOM      9   Al MOL     1       8.053   6.318  10.487  1.00  0.00          AL  \nATOM     10   Al MOL     1       0.771   8.815  10.695  1.00  0.00          AL  \nATOM     11   Al MOL     1       3.515   8.787  10.473  1.00  0.00          AL  \nATOM     12   Al MOL     1       6.431   8.992  10.552  1.00  0.00          AL  \nATOM     13   Al MOL     1       0.798   2.086  13.000  1.00  0.00          AL  \nATOM     14   Al MOL     1       3.571   2.118  12.827  1.00  0.00          AL  \nATOM     15   Al MOL     1       6.368   2.452  12.825  1.00  0.00          AL  \nATOM     16   Al MOL     1       2.072   4.538  12.917  1.00  0.00          AL  \nATOM     17   Al MOL     1       4.862   4.775  12.788  1.00  0.00          AL  \nATOM     18   Al MOL     1       7.900   4.742  12.855  1.00  0.00          AL  \nATOM     19   Al MOL     1       0.669   7.126  12.989  1.00  0.00          AL  \nATOM     20   Al MOL     1       3.568   7.246  12.766  1.00  0.00          AL  \nATOM     21   Al MOL     1       6.417   7.293  13.002  1.00  0.00          AL  \nATOM     22   Al MOL     1       2.167   9.636  12.901  1.00  0.00          AL  \nATOM     23   Al MOL     1       4.927   9.797  12.806  1.00  0.00          AL  \nATOM     24   Al MOL     1       7.927   9.668  13.009  1.00  0.00          AL  \nATOM     25   Al MOL     1       0.777   0.548  15.327  1.00  0.00          AL  \nATOM     26   Al MOL     1       3.648   0.626  15.267  1.00  0.00          AL  \nATOM     27   Al MOL     1       6.346   0.697  15.119  1.00  0.00          AL  \nATOM     28   Al MOL     1       2.025   2.865  15.287  1.00  0.00          AL  \nATOM     29   Al MOL     1       4.947   3.074  15.136  1.00  0.00          AL  \nATOM     30   Al MOL     1       7.917   3.029  15.270  1.00  0.00          AL  \nATOM     31   Al MOL     1       0.766   5.504  15.155  1.00  0.00          AL  \nATOM     32   Al MOL     1       3.669   5.473  15.072  1.00  0.00          AL  \nATOM     33   Al MOL     1       6.397   5.638  15.256  1.00  0.00          AL  \nATOM     34   Al MOL     1       2.267   8.008  15.132  1.00  0.00          AL  \nATOM     35   Al MOL     1       5.078   8.068  15.150  1.00  0.00          AL  \nATOM     36   Al MOL     1       7.900   8.073  15.204  1.00  0.00          AL  \nATOM     37   Al MOL     1       2.212   1.373  17.552  1.00  0.00          AL  \nATOM     38   Al MOL     1       4.965   1.447  17.568  1.00  0.00          AL  \nATOM     39   Al MOL     1       7.828   1.396  17.466  1.00  0.00          AL  \nATOM     40   Al MOL     1       0.648   3.825  17.471  1.00  0.00          AL  \nATOM     41   Al MOL     1       3.463   3.846  17.353  1.00  0.00          AL  \nATOM     42   Al MOL     1       6.377   3.888  17.518  1.00  0.00          AL  \nATOM     43   Al MOL     1       2.204   6.379  17.531  1.00  0.00          AL  \nATOM     44   Al MOL     1       4.939   6.309  17.493  1.00  0.00          AL  \nATOM     45   Al MOL     1       7.906   6.447  17.447  1.00  0.00          AL  \nATOM     46   Al MOL     1       0.636   8.844  17.471  1.00  0.00          AL  \nATOM     47   Al MOL     1       3.772   8.836  17.549  1.00  0.00          AL  \nATOM     48   Al MOL     1       6.470   8.956  17.520  1.00  0.00          AL  \nATOM     49   Al MOL     1       0.821   2.076  19.688  1.00  0.00          AL  \nATOM     50   Al MOL     1       3.537   2.243  19.870  1.00  0.00          AL  \nATOM     51   Al MOL     1       6.462   2.218  19.753  1.00  0.00          AL  \nATOM     52   Al MOL     1       1.940   4.699  19.826  1.00  0.00          AL  \nATOM     53   Al MOL     1       4.812   4.603  19.875  1.00  0.00          AL  \nATOM     54   Al MOL     1       7.768   4.738  19.931  1.00  0.00          AL  \nATOM     55   Al MOL     1       0.714   7.211  19.819  1.00  0.00          AL  \nATOM     56   Al MOL     1       3.579   7.134  19.866  1.00  0.00          AL  \nATOM     57   Al MOL     1       6.366   7.174  19.703  1.00  0.00          AL  \nATOM     58   Al MOL     1       2.232   9.572  19.842  1.00  0.00          AL  \nATOM     59   Al MOL     1       4.989   9.731  19.900  1.00  0.00          AL  \nATOM     60   Al MOL     1       7.801   9.586  19.750  1.00  0.00          AL  \nATOM     61   Al MOL     1       0.713   0.465  22.141  1.00  0.00          AL  \nATOM     62   Al MOL     1       3.620   0.518  22.288  1.00  0.00          AL  \nATOM     63   Al MOL     1       6.364   0.577  22.163  1.00  0.00          AL  \nATOM     64   Al MOL     1       2.134   2.982  22.039  1.00  0.00          AL  \nATOM     65   Al MOL     1       5.013   2.878  22.247  1.00  0.00          AL  \nATOM     66   Al MOL     1       7.727   2.998  23.775  1.00  0.00          AL  \nATOM     67   Al MOL     1       0.757   5.383  22.366  1.00  0.00          AL  \nATOM     68   Al MOL     1       3.667   5.555  23.722  1.00  0.00          AL  \nATOM     69   Al MOL     1       6.559   5.376  22.187  1.00  0.00          AL  \nATOM     70   Al MOL     1       2.042   7.854  21.969  1.00  0.00          AL  \nATOM     71   Al MOL     1       5.055   7.993  22.269  1.00  0.00          AL  \nATOM     72   Al MOL     1       7.980   7.913  22.042  1.00  0.00          AL  \nATOM     73    O MOL     1      10.740   1.323  22.882  1.00  0.00           O  \nATOM     74    O MOL     1       6.292   3.816  23.096  1.00  0.00           O  \nATOM     75    O MOL     1       5.066   6.243  22.752  1.00  0.00           O  \nATOM     76    O MOL     1       3.899   5.735  25.365  1.00  0.00           O  \nATOM     77    O MOL     1       4.412  -0.414  -0.069  1.00  0.00           O  \nATOM     78    O MOL     1       4.371  -0.773  -1.248  1.00  0.00           O  \nATOM     79    O MOL     1       6.405   5.941  -0.329  1.00  0.00           O  \nATOM     80    O MOL     1       5.339   5.991  -0.946  1.00  0.00           O  \nATOM     81    O MOL     1       7.594   3.278  -1.407  1.00  0.00           O  \nATOM     82    O MOL     1       8.392   3.449  -0.483  1.00  0.00           O  \nATOM     83    O MOL     1       7.809  -1.122  -1.109  1.00  0.00           O  \nATOM     84    O MOL     1       7.727   0.052  -0.738  1.00  0.00           O  \nATOM     85    O MOL     1       1.761  10.047  28.333  1.00  0.00           O  \nATOM     86    O MOL     1       2.470   9.467  27.505  1.00  0.00           O  \nATOM     87    O MOL     1       2.185   6.304  22.833  1.00  0.00           O  \nATOM     88    O MOL     1       3.478   3.785  23.003  1.00  0.00           O  \nATOM     89    O MOL     1       4.305   4.857  27.831  1.00  0.00           O  \nATOM     90    O MOL     1       3.494   4.388  28.650  1.00  0.00           O  \nATOM     91    O MOL     1       7.830   8.041   9.882  1.00  0.00           O  \nATOM     92    O MOL     1       6.470   5.538   9.837  1.00  0.00           O  \nATOM     93    O MOL     1       2.146   3.020   9.776  1.00  0.00           O  \nATOM     94    O MOL     1       3.552   5.518   9.802  1.00  0.00           O  \nATOM     95    O MOL     1       7.963   6.295  23.003  1.00  0.00           O  \nATOM     96    O MOL     1       9.325   3.825  23.152  1.00  0.00           O  \nATOM     97    O MOL     1       3.616   0.537   9.730  1.00  0.00           O  \nATOM     98    O MOL     1       5.080   3.038   9.579  1.00  0.00           O  \nATOM     99    O MOL     1       0.619  10.531   9.869  1.00  0.00           O  \nATOM    100    O MOL     1       5.053   7.979   9.849  1.00  0.00           O  \nATOM    101    O MOL     1      -0.885  11.122  27.218  1.00  0.00           O  \nATOM    102    O MOL     1      -1.541  11.443  26.210  1.00  0.00           O  \nATOM    103    O MOL     1       2.025   7.060  -1.349  1.00  0.00           O  \nATOM    104    O MOL     1       1.163   6.179  -1.333  1.00  0.00           O  \nATOM    105    O MOL     1       3.663  11.522  25.672  1.00  0.00           O  \nATOM    106    O MOL     1       4.460  10.649  25.301  1.00  0.00           O  \nATOM    107    O MOL     1       6.478   8.841  22.839  1.00  0.00           O  \nATOM    108    O MOL     1       3.561   8.775  22.897  1.00  0.00           O  \nATOM    109    O MOL     1       3.175   2.735  30.750  1.00  0.00           O  \nATOM    110    O MOL     1       2.594   1.651  30.720  1.00  0.00           O  \nATOM    111    O MOL     1      -0.580   2.849  25.348  1.00  0.00           O  \nATOM    112    O MOL     1      -0.733   1.311  22.886  1.00  0.00           O  \nENDMDL\n",
           "ext": "pdb"
          }
         ],
         "kwargs": {},
         "methodName": "replaceStructure",
         "reconstruc_color_scheme": false,
         "target": "Widget",
         "type": "call_method"
        },
        {
         "args": [
          "this._Q = [[1.0, 0.0, 0.0], [0.0, 1.0, 0.0], [0.0, 0.0, 1.0]]"
         ],
         "kwargs": {},
         "methodName": "executeCode",
         "reconstruc_color_scheme": false,
         "target": "Widget",
         "type": "call_method"
        },
        {
         "args": [
          {
           "data": "CRYST1    8.591    9.920   31.691  90.00  90.00  90.00 P 1\nMODEL     1\nATOM      1   Al MOL     1       2.224   1.430  10.500  1.00  0.00          AL  \nATOM      2   Al MOL     1       5.220   1.351  10.820  1.00  0.00          AL  \nATOM      3   Al MOL     1       7.952   1.333  10.604  1.00  0.00          AL  \nATOM      4   Al MOL     1       0.863   3.936  10.703  1.00  0.00          AL  \nATOM      5   Al MOL     1       3.608   3.948  10.562  1.00  0.00          AL  \nATOM      6   Al MOL     1       6.700   3.863  10.672  1.00  0.00          AL  \nATOM      7   Al MOL     1       2.258   6.525  10.581  1.00  0.00          AL  \nATOM      8   Al MOL     1       5.167   6.408  10.286  1.00  0.00          AL  \nATOM      9   Al MOL     1       8.098   6.269  10.524  1.00  0.00          AL  \nATOM     10   Al MOL     1       0.907   8.747  10.335  1.00  0.00          AL  \nATOM     11   Al MOL     1       3.721   8.837  10.660  1.00  0.00          AL  \nATOM     12   Al MOL     1       6.557   8.814  10.669  1.00  0.00          AL  \nATOM     13   Al MOL     1       0.641   2.397  12.821  1.00  0.00          AL  \nATOM     14   Al MOL     1       3.632   2.376  12.891  1.00  0.00          AL  \nATOM     15   Al MOL     1       6.438   2.076  12.993  1.00  0.00          AL  \nATOM     16   Al MOL     1       2.300   4.938  12.816  1.00  0.00          AL  \nATOM     17   Al MOL     1       5.177   4.676  12.920  1.00  0.00          AL  \nATOM     18   Al MOL     1       7.993   4.822  12.928  1.00  0.00          AL  \nATOM     19   Al MOL     1       0.793   7.256  12.915  1.00  0.00          AL  \nATOM     20   Al MOL     1       3.666   7.236  12.854  1.00  0.00          AL  \nATOM     21   Al MOL     1       6.611   7.142  12.796  1.00  0.00          AL  \nATOM     22   Al MOL     1       2.227   9.756  12.858  1.00  0.00          AL  \nATOM     23   Al MOL     1       5.137   9.609  12.999  1.00  0.00          AL  \nATOM     24   Al MOL     1       7.969   9.682  12.841  1.00  0.00          AL  \nATOM     25   Al MOL     1       0.708   0.643  15.088  1.00  0.00          AL  \nATOM     26   Al MOL     1       3.582   0.569  15.148  1.00  0.00          AL  \nATOM     27   Al MOL     1       6.525   0.461  15.250  1.00  0.00          AL  \nATOM     28   Al MOL     1       2.126   3.143  15.172  1.00  0.00          AL  \nATOM     29   Al MOL     1       5.029   3.003  15.240  1.00  0.00          AL  \nATOM     30   Al MOL     1       7.860   3.032  15.223  1.00  0.00          AL  \nATOM     31   Al MOL     1       0.618   5.488  15.201  1.00  0.00          AL  \nATOM     32   Al MOL     1       3.608   5.540  15.277  1.00  0.00          AL  \nATOM     33   Al MOL     1       6.352   5.484  15.154  1.00  0.00          AL  \nATOM     34   Al MOL     1       2.031   7.968  15.208  1.00  0.00          AL  \nATOM     35   Al MOL     1       4.961   7.960  15.112  1.00  0.00          AL  \nATOM     36   Al MOL     1       7.868   7.906  15.197  1.00  0.00          AL  \nATOM     37   Al MOL     1       1.979   1.399  17.351  1.00  0.00          AL  \nATOM     38   Al MOL     1       5.009   1.290  17.429  1.00  0.00          AL  \nATOM     39   Al MOL     1       7.914   1.398  17.525  1.00  0.00          AL  \nATOM     40   Al MOL     1       0.701   3.733  17.533  1.00  0.00          AL  \nATOM     41   Al MOL     1       3.398   3.773  17.632  1.00  0.00          AL  \nATOM     42   Al MOL     1       6.349   3.774  17.485  1.00  0.00          AL  \nATOM     43   Al MOL     1       1.964   6.115  17.485  1.00  0.00          AL  \nATOM     44   Al MOL     1       4.975   6.300  17.400  1.00  0.00          AL  \nATOM     45   Al MOL     1       7.721   6.182  17.453  1.00  0.00          AL  \nATOM     46   Al MOL     1       0.570   8.755  17.524  1.00  0.00          AL  \nATOM     47   Al MOL     1       3.460   8.786  17.498  1.00  0.00          AL  \nATOM     48   Al MOL     1       6.391   8.655  17.492  1.00  0.00          AL  \nATOM     49   Al MOL     1       0.528   2.414  19.969  1.00  0.00          AL  \nATOM     50   Al MOL     1       3.355   1.970  19.845  1.00  0.00          AL  \nATOM     51   Al MOL     1       6.292   2.034  19.743  1.00  0.00          AL  \nATOM     52   Al MOL     1       2.203   4.378  20.075  1.00  0.00          AL  \nATOM     53   Al MOL     1       5.053   4.671  19.731  1.00  0.00          AL  \nATOM     54   Al MOL     1       7.603   4.594  19.752  1.00  0.00          AL  \nATOM     55   Al MOL     1       0.638   6.990  19.790  1.00  0.00          AL  \nATOM     56   Al MOL     1       3.397   7.120  19.633  1.00  0.00          AL  \nATOM     57   Al MOL     1       6.448   7.062  19.724  1.00  0.00          AL  \nATOM     58   Al MOL     1       1.950   9.627  19.950  1.00  0.00          AL  \nATOM     59   Al MOL     1       4.970   9.587  19.631  1.00  0.00          AL  \nATOM     60   Al MOL     1       7.666   9.664  19.709  1.00  0.00          AL  \nATOM     61   Al MOL     1       0.501   0.579  22.153  1.00  0.00          AL  \nATOM     62   Al MOL     1       3.689   0.741  22.566  1.00  0.00          AL  \nATOM     63   Al MOL     1       6.410   0.651  22.174  1.00  0.00          AL  \nATOM     64   Al MOL     1       2.089   2.997  22.393  1.00  0.00          AL  \nATOM     65   Al MOL     1       4.926   3.020  22.032  1.00  0.00          AL  \nATOM     66   Al MOL     1       7.840   3.043  23.785  1.00  0.00          AL  \nATOM     67   Al MOL     1       0.755   5.354  22.207  1.00  0.00          AL  \nATOM     68   Al MOL     1       3.656   5.623  23.800  1.00  0.00          AL  \nATOM     69   Al MOL     1       6.450   5.388  21.984  1.00  0.00          AL  \nATOM     70   Al MOL     1       1.961   8.046  22.256  1.00  0.00          AL  \nATOM     71   Al MOL     1       4.960   7.978  21.989  1.00  0.00          AL  \nATOM     72   Al MOL     1       7.924   8.034  22.096  1.00  0.00          AL  \nATOM     73    O MOL     1      10.594   1.372  22.972  1.00  0.00           O  \nATOM     74    O MOL     1       6.345   3.847  22.901  1.00  0.00           O  \nATOM     75    O MOL     1       4.887   6.236  22.567  1.00  0.00           O  \nATOM     76    O MOL     1       4.199   5.681  25.365  1.00  0.00           O  \nATOM     77    O MOL     1       4.394  -0.746  -0.019  1.00  0.00           O  \nATOM     78    O MOL     1       4.497  -0.930  -1.236  1.00  0.00           O  \nATOM     79    O MOL     1       6.645   6.103  -0.219  1.00  0.00           O  \nATOM     80    O MOL     1       5.590   5.849  -0.815  1.00  0.00           O  \nATOM     81    O MOL     1       7.347   3.417  -1.513  1.00  0.00           O  \nATOM     82    O MOL     1       8.092   3.359  -0.528  1.00  0.00           O  \nATOM     83    O MOL     1       7.975  -1.026  -1.316  1.00  0.00           O  \nATOM     84    O MOL     1       8.146   0.022  -0.685  1.00  0.00           O  \nATOM     85    O MOL     1       2.250   9.911  28.479  1.00  0.00           O  \nATOM     86    O MOL     1       2.982   9.826  27.491  1.00  0.00           O  \nATOM     87    O MOL     1       2.093   6.355  22.902  1.00  0.00           O  \nATOM     88    O MOL     1       3.536   3.784  22.914  1.00  0.00           O  \nATOM     89    O MOL     1       4.546   5.281  28.356  1.00  0.00           O  \nATOM     90    O MOL     1       3.856   4.281  28.488  1.00  0.00           O  \nATOM     91    O MOL     1       7.973   7.991   9.802  1.00  0.00           O  \nATOM     92    O MOL     1       6.616   5.532   9.736  1.00  0.00           O  \nATOM     93    O MOL     1       2.260   3.059   9.735  1.00  0.00           O  \nATOM     94    O MOL     1       3.618   5.566   9.722  1.00  0.00           O  \nATOM     95    O MOL     1       7.949   6.297  22.554  1.00  0.00           O  \nATOM     96    O MOL     1       9.233   3.909  23.149  1.00  0.00           O  \nATOM     97    O MOL     1       3.751   0.639   9.939  1.00  0.00           O  \nATOM     98    O MOL     1       5.162   3.117  10.097  1.00  0.00           O  \nATOM     99    O MOL     1       0.805  10.451   9.747  1.00  0.00           O  \nATOM    100    O MOL     1       5.183   8.071   9.730  1.00  0.00           O  \nATOM    101    O MOL     1      -2.049  11.428  27.520  1.00  0.00           O  \nATOM    102    O MOL     1      -1.137  11.249  26.708  1.00  0.00           O  \nATOM    103    O MOL     1       2.002   6.926  -1.507  1.00  0.00           O  \nATOM    104    O MOL     1       1.084   6.130  -1.275  1.00  0.00           O  \nATOM    105    O MOL     1       3.724  11.922  25.451  1.00  0.00           O  \nATOM    106    O MOL     1       4.034  11.250  24.392  1.00  0.00           O  \nATOM    107    O MOL     1       6.294   8.759  22.698  1.00  0.00           O  \nATOM    108    O MOL     1       3.489   8.832  22.738  1.00  0.00           O  \nATOM    109    O MOL     1       3.058   2.518  30.763  1.00  0.00           O  \nATOM    110    O MOL     1       2.152   1.728  31.058  1.00  0.00           O  \nATOM    111    O MOL     1      -0.920   3.234  25.586  1.00  0.00           O  \nATOM    112    O MOL     1      -0.759   1.411  23.020  1.00  0.00           O  \nENDMDL\n",
           "ext": "pdb"
          }
         ],
         "kwargs": {},
         "methodName": "replaceStructure",
         "reconstruc_color_scheme": false,
         "target": "Widget",
         "type": "call_method"
        },
        {
         "args": [
          "this._Q = [[1.0, 0.0, 0.0], [0.0, 1.0, 0.0], [0.0, 0.0, 1.0]]"
         ],
         "kwargs": {},
         "methodName": "executeCode",
         "reconstruc_color_scheme": false,
         "target": "Widget",
         "type": "call_method"
        },
        {
         "args": [
          {
           "data": "CRYST1    8.591    9.920   31.691  90.00  90.00  90.00 P 1\nMODEL     1\nATOM      1   Al MOL     1       2.307   1.446  10.480  1.00  0.00          AL  \nATOM      2   Al MOL     1       5.278   1.410  10.560  1.00  0.00          AL  \nATOM      3   Al MOL     1       8.047   1.416  10.724  1.00  0.00          AL  \nATOM      4   Al MOL     1       0.822   3.880  10.734  1.00  0.00          AL  \nATOM      5   Al MOL     1       3.771   3.934  10.536  1.00  0.00          AL  \nATOM      6   Al MOL     1       6.804   3.867  10.480  1.00  0.00          AL  \nATOM      7   Al MOL     1       2.304   6.367  10.782  1.00  0.00          AL  \nATOM      8   Al MOL     1       5.182   6.439  10.614  1.00  0.00          AL  \nATOM      9   Al MOL     1       8.278   6.311  10.376  1.00  0.00          AL  \nATOM     10   Al MOL     1       1.030   8.784  10.514  1.00  0.00          AL  \nATOM     11   Al MOL     1       3.662   8.887  10.556  1.00  0.00          AL  \nATOM     12   Al MOL     1       6.657   8.966  10.598  1.00  0.00          AL  \nATOM     13   Al MOL     1       0.828   2.063  12.970  1.00  0.00          AL  \nATOM     14   Al MOL     1       3.759   2.180  12.830  1.00  0.00          AL  \nATOM     15   Al MOL     1       6.550   2.259  12.895  1.00  0.00          AL  \nATOM     16   Al MOL     1       2.098   4.572  12.890  1.00  0.00          AL  \nATOM     17   Al MOL     1       5.024   4.666  12.918  1.00  0.00          AL  \nATOM     18   Al MOL     1       7.811   4.650  13.005  1.00  0.00          AL  \nATOM     19   Al MOL     1       0.747   7.096  12.846  1.00  0.00          AL  \nATOM     20   Al MOL     1       3.592   7.174  13.050  1.00  0.00          AL  \nATOM     21   Al MOL     1       6.480   7.172  12.942  1.00  0.00          AL  \nATOM     22   Al MOL     1       2.247   9.521  12.841  1.00  0.00          AL  \nATOM     23   Al MOL     1       5.140   9.746  12.901  1.00  0.00          AL  \nATOM     24   Al MOL     1       7.856   9.662  12.905  1.00  0.00          AL  \nATOM     25   Al MOL     1       0.702   0.427  15.319  1.00  0.00          AL  \nATOM     26   Al MOL     1       3.520   0.446  15.172  1.00  0.00          AL  \nATOM     27   Al MOL     1       6.352   0.564  15.135  1.00  0.00          AL  \nATOM     28   Al MOL     1       2.154   2.921  15.306  1.00  0.00          AL  \nATOM     29   Al MOL     1       4.981   3.030  15.165  1.00  0.00          AL  \nATOM     30   Al MOL     1       7.924   3.057  15.283  1.00  0.00          AL  \nATOM     31   Al MOL     1       0.737   5.578  15.178  1.00  0.00          AL  \nATOM     32   Al MOL     1       3.514   5.499  15.208  1.00  0.00          AL  \nATOM     33   Al MOL     1       6.481   5.463  15.231  1.00  0.00          AL  \nATOM     34   Al MOL     1       2.117   7.931  15.052  1.00  0.00          AL  \nATOM     35   Al MOL     1       4.970   7.870  15.276  1.00  0.00          AL  \nATOM     36   Al MOL     1       7.857   7.979  15.127  1.00  0.00          AL  \nATOM     37   Al MOL     1       2.081   1.355  17.486  1.00  0.00          AL  \nATOM     38   Al MOL     1       4.922   1.247  17.536  1.00  0.00          AL  \nATOM     39   Al MOL     1       7.723   1.155  17.451  1.00  0.00          AL  \nATOM     40   Al MOL     1       0.793   3.801  17.463  1.00  0.00          AL  \nATOM     41   Al MOL     1       3.528   3.778  17.452  1.00  0.00          AL  \nATOM     42   Al MOL     1       6.431   3.833  17.488  1.00  0.00          AL  \nATOM     43   Al MOL     1       2.111   6.407  17.362  1.00  0.00          AL  \nATOM     44   Al MOL     1       4.923   6.181  17.557  1.00  0.00          AL  \nATOM     45   Al MOL     1       7.858   6.359  17.505  1.00  0.00          AL  \nATOM     46   Al MOL     1       0.669   8.670  17.353  1.00  0.00          AL  \nATOM     47   Al MOL     1       3.489   8.652  17.413  1.00  0.00          AL  \nATOM     48   Al MOL     1       6.269   8.755  17.531  1.00  0.00          AL  \nATOM     49   Al MOL     1       0.645   2.009  19.601  1.00  0.00          AL  \nATOM     50   Al MOL     1       3.407   2.215  19.886  1.00  0.00          AL  \nATOM     51   Al MOL     1       6.382   2.118  19.738  1.00  0.00          AL  \nATOM     52   Al MOL     1       2.046   4.728  19.612  1.00  0.00          AL  \nATOM     53   Al MOL     1       4.994   4.573  19.738  1.00  0.00          AL  \nATOM     54   Al MOL     1       7.916   4.649  19.753  1.00  0.00          AL  \nATOM     55   Al MOL     1       0.594   7.206  19.753  1.00  0.00          AL  \nATOM     56   Al MOL     1       3.479   7.157  19.843  1.00  0.00          AL  \nATOM     57   Al MOL     1       6.322   7.012  19.805  1.00  0.00          AL  \nATOM     58   Al MOL     1       2.087   9.497  19.560  1.00  0.00          AL  \nATOM     59   Al MOL     1       4.778   9.640  19.735  1.00  0.00          AL  \nATOM     60   Al MOL     1       7.687   9.512  19.677  1.00  0.00          AL  \nATOM     61   Al MOL     1       0.535   0.455  22.008  1.00  0.00          AL  \nATOM     62   Al MOL     1       3.448   0.637  23.508  1.00  0.00          AL  \nATOM     63   Al MOL     1       6.222   0.694  22.071  1.00  0.00          AL  \nATOM     64   Al MOL     1       2.072   3.070  22.248  1.00  0.00          AL  \nATOM     65   Al MOL     1       4.846   3.087  22.224  1.00  0.00          AL  \nATOM     66   Al MOL     1       7.634   2.925  23.682  1.00  0.00          AL  \nATOM     67   Al MOL     1       0.471   5.616  22.397  1.00  0.00          AL  \nATOM     68   Al MOL     1       3.533   5.587  23.827  1.00  0.00          AL  \nATOM     69   Al MOL     1       6.225   5.475  22.236  1.00  0.00          AL  \nATOM     70   Al MOL     1       2.108   8.054  22.003  1.00  0.00          AL  \nATOM     71   Al MOL     1       4.789   8.052  22.164  1.00  0.00          AL  \nATOM     72   Al MOL     1       7.784   8.163  22.011  1.00  0.00          AL  \nATOM     73    O MOL     1      10.587   1.364  22.765  1.00  0.00           O  \nATOM     74    O MOL     1       6.297   3.848  22.898  1.00  0.00           O  \nATOM     75    O MOL     1       4.798   6.384  22.884  1.00  0.00           O  \nATOM     76    O MOL     1       3.495   5.855  25.499  1.00  0.00           O  \nATOM     77    O MOL     1       4.429  -1.191  -0.056  1.00  0.00           O  \nATOM     78    O MOL     1       4.732  -0.995  -1.236  1.00  0.00           O  \nATOM     79    O MOL     1       6.700   6.600   0.113  1.00  0.00           O  \nATOM     80    O MOL     1       5.894   5.888  -0.489  1.00  0.00           O  \nATOM     81    O MOL     1       7.290   3.258  -1.659  1.00  0.00           O  \nATOM     82    O MOL     1       7.848   3.256  -0.559  1.00  0.00           O  \nATOM     83    O MOL     1       8.094  -0.883  -1.573  1.00  0.00           O  \nATOM     84    O MOL     1       8.474  -0.100  -0.698  1.00  0.00           O  \nATOM     85    O MOL     1       2.575   9.914  28.539  1.00  0.00           O  \nATOM     86    O MOL     1       3.415  10.071  27.649  1.00  0.00           O  \nATOM     87    O MOL     1       1.972   6.485  23.000  1.00  0.00           O  \nATOM     88    O MOL     1       3.445   4.136  22.616  1.00  0.00           O  \nATOM     89    O MOL     1       4.535   5.458  28.764  1.00  0.00           O  \nATOM     90    O MOL     1       4.306   4.350  28.291  1.00  0.00           O  \nATOM     91    O MOL     1       8.070   8.047   9.814  1.00  0.00           O  \nATOM     92    O MOL     1       6.614   5.587   9.875  1.00  0.00           O  \nATOM     93    O MOL     1       2.302   3.149   9.844  1.00  0.00           O  \nATOM     94    O MOL     1       3.732   5.584   9.856  1.00  0.00           O  \nATOM     95    O MOL     1       7.612   6.498  22.862  1.00  0.00           O  \nATOM     96    O MOL     1       9.082   3.830  22.846  1.00  0.00           O  \nATOM     97    O MOL     1       3.789   0.647   9.798  1.00  0.00           O  \nATOM     98    O MOL     1       5.218   3.071   9.812  1.00  0.00           O  \nATOM     99    O MOL     1       0.847  10.490   9.781  1.00  0.00           O  \nATOM    100    O MOL     1       5.124   8.080   9.929  1.00  0.00           O  \nATOM    101    O MOL     1      -2.429  11.288  26.951  1.00  0.00           O  \nATOM    102    O MOL     1      -1.505  12.083  27.027  1.00  0.00           O  \nATOM    103    O MOL     1       1.947   6.811  -1.576  1.00  0.00           O  \nATOM    104    O MOL     1       1.125   5.951  -1.259  1.00  0.00           O  \nATOM    105    O MOL     1       3.899  11.873  24.780  1.00  0.00           O  \nATOM    106    O MOL     1       5.359  11.005  23.614  1.00  0.00           O  \nATOM    107    O MOL     1       6.280   8.833  22.626  1.00  0.00           O  \nATOM    108    O MOL     1       3.353   8.832  23.009  1.00  0.00           O  \nATOM    109    O MOL     1       2.861   2.235  30.861  1.00  0.00           O  \nATOM    110    O MOL     1       1.810   1.849  31.376  1.00  0.00           O  \nATOM    111    O MOL     1      -0.944   3.234  25.300  1.00  0.00           O  \nATOM    112    O MOL     1      -0.793   1.303  22.804  1.00  0.00           O  \nENDMDL\n",
           "ext": "pdb"
          }
         ],
         "kwargs": {},
         "methodName": "replaceStructure",
         "reconstruc_color_scheme": false,
         "target": "Widget",
         "type": "call_method"
        },
        {
         "args": [
          "this._Q = [[1.0, 0.0, 0.0], [0.0, 1.0, 0.0], [0.0, 0.0, 1.0]]"
         ],
         "kwargs": {},
         "methodName": "executeCode",
         "reconstruc_color_scheme": false,
         "target": "Widget",
         "type": "call_method"
        },
        {
         "args": [
          {
           "data": "CRYST1    8.591    9.920   31.691  90.00  90.00  90.00 P 1\nMODEL     1\nATOM      1   Al MOL     1       2.245   1.258  10.423  1.00  0.00          AL  \nATOM      2   Al MOL     1       5.300   1.306  10.487  1.00  0.00          AL  \nATOM      3   Al MOL     1       7.977   1.328  10.719  1.00  0.00          AL  \nATOM      4   Al MOL     1       0.875   3.977  10.703  1.00  0.00          AL  \nATOM      5   Al MOL     1       3.709   3.846  10.489  1.00  0.00          AL  \nATOM      6   Al MOL     1       6.715   3.671  10.520  1.00  0.00          AL  \nATOM      7   Al MOL     1       2.204   6.328  10.713  1.00  0.00          AL  \nATOM      8   Al MOL     1       5.137   6.283  10.419  1.00  0.00          AL  \nATOM      9   Al MOL     1       8.079   6.265  10.594  1.00  0.00          AL  \nATOM     10   Al MOL     1       0.904   8.743  10.600  1.00  0.00          AL  \nATOM     11   Al MOL     1       3.636   8.768  10.581  1.00  0.00          AL  \nATOM     12   Al MOL     1       6.574   8.807  10.651  1.00  0.00          AL  \nATOM     13   Al MOL     1       0.754   2.346  12.776  1.00  0.00          AL  \nATOM     14   Al MOL     1       3.579   2.175  12.877  1.00  0.00          AL  \nATOM     15   Al MOL     1       6.370   2.108  12.945  1.00  0.00          AL  \nATOM     16   Al MOL     1       2.265   4.823  12.880  1.00  0.00          AL  \nATOM     17   Al MOL     1       5.119   4.624  12.823  1.00  0.00          AL  \nATOM     18   Al MOL     1       7.927   4.669  12.860  1.00  0.00          AL  \nATOM     19   Al MOL     1       0.845   7.233  13.116  1.00  0.00          AL  \nATOM     20   Al MOL     1       3.553   7.165  12.917  1.00  0.00          AL  \nATOM     21   Al MOL     1       6.493   7.084  12.860  1.00  0.00          AL  \nATOM     22   Al MOL     1       2.181   9.680  12.939  1.00  0.00          AL  \nATOM     23   Al MOL     1       5.057   9.669  12.871  1.00  0.00          AL  \nATOM     24   Al MOL     1       7.916   9.631  12.872  1.00  0.00          AL  \nATOM     25   Al MOL     1       0.798   0.522  15.201  1.00  0.00          AL  \nATOM     26   Al MOL     1       3.589   0.566  15.189  1.00  0.00          AL  \nATOM     27   Al MOL     1       6.488   0.449  15.166  1.00  0.00          AL  \nATOM     28   Al MOL     1       2.205   3.006  15.225  1.00  0.00          AL  \nATOM     29   Al MOL     1       5.061   2.975  15.141  1.00  0.00          AL  \nATOM     30   Al MOL     1       7.800   2.974  15.020  1.00  0.00          AL  \nATOM     31   Al MOL     1       0.729   5.368  15.236  1.00  0.00          AL  \nATOM     32   Al MOL     1       3.570   5.517  15.247  1.00  0.00          AL  \nATOM     33   Al MOL     1       6.430   5.418  15.101  1.00  0.00          AL  \nATOM     34   Al MOL     1       2.242   7.921  15.352  1.00  0.00          AL  \nATOM     35   Al MOL     1       4.902   7.996  15.097  1.00  0.00          AL  \nATOM     36   Al MOL     1       7.905   7.948  15.289  1.00  0.00          AL  \nATOM     37   Al MOL     1       2.121   1.333  17.481  1.00  0.00          AL  \nATOM     38   Al MOL     1       4.990   1.327  17.402  1.00  0.00          AL  \nATOM     39   Al MOL     1       7.953   1.433  17.508  1.00  0.00          AL  \nATOM     40   Al MOL     1       0.681   3.784  17.487  1.00  0.00          AL  \nATOM     41   Al MOL     1       3.539   3.846  17.429  1.00  0.00          AL  \nATOM     42   Al MOL     1       6.336   3.860  17.410  1.00  0.00          AL  \nATOM     43   Al MOL     1       2.149   6.234  17.580  1.00  0.00          AL  \nATOM     44   Al MOL     1       4.899   6.343  17.542  1.00  0.00          AL  \nATOM     45   Al MOL     1       7.865   6.225  17.495  1.00  0.00          AL  \nATOM     46   Al MOL     1       0.756   8.847  17.596  1.00  0.00          AL  \nATOM     47   Al MOL     1       3.543   8.805  17.480  1.00  0.00          AL  \nATOM     48   Al MOL     1       6.464   8.938  17.424  1.00  0.00          AL  \nATOM     49   Al MOL     1       0.780   2.299  19.788  1.00  0.00          AL  \nATOM     50   Al MOL     1       3.587   2.112  19.583  1.00  0.00          AL  \nATOM     51   Al MOL     1       6.326   2.242  19.534  1.00  0.00          AL  \nATOM     52   Al MOL     1       2.127   4.624  19.939  1.00  0.00          AL  \nATOM     53   Al MOL     1       4.823   4.575  19.984  1.00  0.00          AL  \nATOM     54   Al MOL     1       7.784   4.675  19.690  1.00  0.00          AL  \nATOM     55   Al MOL     1       0.726   7.071  19.715  1.00  0.00          AL  \nATOM     56   Al MOL     1       3.555   7.233  19.917  1.00  0.00          AL  \nATOM     57   Al MOL     1       6.328   7.322  19.697  1.00  0.00          AL  \nATOM     58   Al MOL     1       2.197   9.686  19.820  1.00  0.00          AL  \nATOM     59   Al MOL     1       4.881   9.551  19.630  1.00  0.00          AL  \nATOM     60   Al MOL     1       7.956   9.673  19.830  1.00  0.00          AL  \nATOM     61   Al MOL     1       0.420   0.537  22.052  1.00  0.00          AL  \nATOM     62   Al MOL     1       3.310   0.685  23.483  1.00  0.00          AL  \nATOM     63   Al MOL     1       6.343   0.641  22.036  1.00  0.00          AL  \nATOM     64   Al MOL     1       1.990   3.181  22.201  1.00  0.00          AL  \nATOM     65   Al MOL     1       4.892   3.143  22.352  1.00  0.00          AL  \nATOM     66   Al MOL     1       7.759   3.003  23.701  1.00  0.00          AL  \nATOM     67   Al MOL     1       0.671   5.579  21.985  1.00  0.00          AL  \nATOM     68   Al MOL     1       3.302   5.614  23.763  1.00  0.00          AL  \nATOM     69   Al MOL     1       6.148   5.365  22.260  1.00  0.00          AL  \nATOM     70   Al MOL     1       1.852   8.156  22.287  1.00  0.00          AL  \nATOM     71   Al MOL     1       4.787   8.084  22.466  1.00  0.00          AL  \nATOM     72   Al MOL     1       7.742   7.918  21.986  1.00  0.00          AL  \nATOM     73    O MOL     1      10.386   1.468  22.840  1.00  0.00           O  \nATOM     74    O MOL     1       6.200   3.845  23.131  1.00  0.00           O  \nATOM     75    O MOL     1       4.831   6.362  23.018  1.00  0.00           O  \nATOM     76    O MOL     1       3.048   5.730  25.414  1.00  0.00           O  \nATOM     77    O MOL     1       4.297  -1.220  -0.164  1.00  0.00           O  \nATOM     78    O MOL     1       4.904  -1.051  -1.223  1.00  0.00           O  \nATOM     79    O MOL     1       6.879   6.780   0.378  1.00  0.00           O  \nATOM     80    O MOL     1       6.150   6.008  -0.249  1.00  0.00           O  \nATOM     81    O MOL     1       7.353   3.006  -1.715  1.00  0.00           O  \nATOM     82    O MOL     1       7.616   3.364  -0.564  1.00  0.00           O  \nATOM     83    O MOL     1       8.039  -0.766  -1.808  1.00  0.00           O  \nATOM     84    O MOL     1       8.575  -0.388  -0.765  1.00  0.00           O  \nATOM     85    O MOL     1       2.544  10.021  28.449  1.00  0.00           O  \nATOM     86    O MOL     1       3.637  10.168  27.896  1.00  0.00           O  \nATOM     87    O MOL     1       2.107   6.436  22.775  1.00  0.00           O  \nATOM     88    O MOL     1       3.381   3.942  22.940  1.00  0.00           O  \nATOM     89    O MOL     1       4.474   5.482  28.906  1.00  0.00           O  \nATOM     90    O MOL     1       4.564   4.424  28.270  1.00  0.00           O  \nATOM     91    O MOL     1       8.012   7.962   9.906  1.00  0.00           O  \nATOM     92    O MOL     1       6.607   5.394   9.854  1.00  0.00           O  \nATOM     93    O MOL     1       2.262   2.995   9.893  1.00  0.00           O  \nATOM     94    O MOL     1       3.627   5.510   9.772  1.00  0.00           O  \nATOM     95    O MOL     1       7.712   6.217  22.677  1.00  0.00           O  \nATOM     96    O MOL     1       9.076   3.911  23.011  1.00  0.00           O  \nATOM     97    O MOL     1       3.775   0.562   9.794  1.00  0.00           O  \nATOM     98    O MOL     1       5.165   3.044   9.739  1.00  0.00           O  \nATOM     99    O MOL     1       0.719  10.423   9.780  1.00  0.00           O  \nATOM    100    O MOL     1       5.143   7.972   9.840  1.00  0.00           O  \nATOM    101    O MOL     1      -2.302  11.452  26.070  1.00  0.00           O  \nATOM    102    O MOL     1      -1.856  12.621  26.228  1.00  0.00           O  \nATOM    103    O MOL     1       1.806   6.803  -1.438  1.00  0.00           O  \nATOM    104    O MOL     1       1.176   5.752  -1.301  1.00  0.00           O  \nATOM    105    O MOL     1       4.034  11.120  24.957  1.00  0.00           O  \nATOM    106    O MOL     1       4.826  11.075  22.716  1.00  0.00           O  \nATOM    107    O MOL     1       6.318   8.906  22.915  1.00  0.00           O  \nATOM    108    O MOL     1       3.395   8.833  23.294  1.00  0.00           O  \nATOM    109    O MOL     1       2.791   2.231  30.859  1.00  0.00           O  \nATOM    110    O MOL     1       1.878   1.835  31.584  1.00  0.00           O  \nATOM    111    O MOL     1      -0.496   2.886  25.427  1.00  0.00           O  \nATOM    112    O MOL     1      -0.975   1.449  22.965  1.00  0.00           O  \nENDMDL\n",
           "ext": "pdb"
          }
         ],
         "kwargs": {},
         "methodName": "replaceStructure",
         "reconstruc_color_scheme": false,
         "target": "Widget",
         "type": "call_method"
        },
        {
         "args": [
          "this._Q = [[1.0, 0.0, 0.0], [0.0, 1.0, 0.0], [0.0, 0.0, 1.0]]"
         ],
         "kwargs": {},
         "methodName": "executeCode",
         "reconstruc_color_scheme": false,
         "target": "Widget",
         "type": "call_method"
        },
        {
         "args": [
          {
           "data": "CRYST1    8.591    9.920   31.691  90.00  90.00  90.00 P 1\nMODEL     1\nATOM      1   Al MOL     1       2.109   1.232  10.506  1.00  0.00          AL  \nATOM      2   Al MOL     1       5.113   1.274  10.653  1.00  0.00          AL  \nATOM      3   Al MOL     1       7.815   1.220  10.690  1.00  0.00          AL  \nATOM      4   Al MOL     1       0.672   3.667  10.775  1.00  0.00          AL  \nATOM      5   Al MOL     1       3.519   3.708  10.407  1.00  0.00          AL  \nATOM      6   Al MOL     1       6.609   3.634  10.474  1.00  0.00          AL  \nATOM      7   Al MOL     1       2.142   6.233  10.684  1.00  0.00          AL  \nATOM      8   Al MOL     1       5.067   6.234  10.430  1.00  0.00          AL  \nATOM      9   Al MOL     1       8.061   6.108  10.465  1.00  0.00          AL  \nATOM     10   Al MOL     1       0.791   8.579  10.520  1.00  0.00          AL  \nATOM     11   Al MOL     1       3.515   8.711  10.619  1.00  0.00          AL  \nATOM     12   Al MOL     1       6.411   8.778  10.668  1.00  0.00          AL  \nATOM     13   Al MOL     1       0.675   2.073  12.875  1.00  0.00          AL  \nATOM     14   Al MOL     1       3.651   2.190  12.782  1.00  0.00          AL  \nATOM     15   Al MOL     1       6.577   2.319  13.000  1.00  0.00          AL  \nATOM     16   Al MOL     1       2.124   4.660  12.824  1.00  0.00          AL  \nATOM     17   Al MOL     1       5.099   4.797  12.843  1.00  0.00          AL  \nATOM     18   Al MOL     1       7.909   4.633  13.013  1.00  0.00          AL  \nATOM     19   Al MOL     1       0.736   7.074  12.770  1.00  0.00          AL  \nATOM     20   Al MOL     1       3.642   7.046  12.957  1.00  0.00          AL  \nATOM     21   Al MOL     1       6.498   7.195  12.893  1.00  0.00          AL  \nATOM     22   Al MOL     1       2.173   9.586  12.864  1.00  0.00          AL  \nATOM     23   Al MOL     1       5.067   9.606  12.970  1.00  0.00          AL  \nATOM     24   Al MOL     1       7.941   9.592  12.842  1.00  0.00          AL  \nATOM     25   Al MOL     1       0.756   0.549  15.219  1.00  0.00          AL  \nATOM     26   Al MOL     1       3.624   0.482  15.155  1.00  0.00          AL  \nATOM     27   Al MOL     1       6.432   0.642  15.156  1.00  0.00          AL  \nATOM     28   Al MOL     1       2.207   3.079  15.201  1.00  0.00          AL  \nATOM     29   Al MOL     1       5.013   3.089  15.092  1.00  0.00          AL  \nATOM     30   Al MOL     1       7.874   3.122  15.273  1.00  0.00          AL  \nATOM     31   Al MOL     1       0.750   5.615  15.226  1.00  0.00          AL  \nATOM     32   Al MOL     1       3.620   5.567  15.185  1.00  0.00          AL  \nATOM     33   Al MOL     1       6.477   5.495  15.218  1.00  0.00          AL  \nATOM     34   Al MOL     1       2.209   8.057  15.049  1.00  0.00          AL  \nATOM     35   Al MOL     1       5.131   8.077  15.325  1.00  0.00          AL  \nATOM     36   Al MOL     1       7.923   8.066  15.120  1.00  0.00          AL  \nATOM     37   Al MOL     1       2.242   1.384  17.481  1.00  0.00          AL  \nATOM     38   Al MOL     1       5.083   1.492  17.483  1.00  0.00          AL  \nATOM     39   Al MOL     1       7.845   1.443  17.465  1.00  0.00          AL  \nATOM     40   Al MOL     1       0.691   3.994  17.511  1.00  0.00          AL  \nATOM     41   Al MOL     1       3.659   3.845  17.523  1.00  0.00          AL  \nATOM     42   Al MOL     1       6.499   3.793  17.473  1.00  0.00          AL  \nATOM     43   Al MOL     1       2.177   6.461  17.430  1.00  0.00          AL  \nATOM     44   Al MOL     1       5.004   6.347  17.449  1.00  0.00          AL  \nATOM     45   Al MOL     1       7.935   6.364  17.492  1.00  0.00          AL  \nATOM     46   Al MOL     1       0.780   8.899  17.498  1.00  0.00          AL  \nATOM     47   Al MOL     1       3.676   8.872  17.558  1.00  0.00          AL  \nATOM     48   Al MOL     1       6.500   8.778  17.514  1.00  0.00          AL  \nATOM     49   Al MOL     1       0.661   2.249  19.781  1.00  0.00          AL  \nATOM     50   Al MOL     1       3.592   2.346  19.885  1.00  0.00          AL  \nATOM     51   Al MOL     1       6.481   2.402  19.809  1.00  0.00          AL  \nATOM     52   Al MOL     1       2.157   4.747  19.773  1.00  0.00          AL  \nATOM     53   Al MOL     1       5.129   4.815  19.691  1.00  0.00          AL  \nATOM     54   Al MOL     1       8.013   4.681  19.733  1.00  0.00          AL  \nATOM     55   Al MOL     1       0.670   7.213  19.757  1.00  0.00          AL  \nATOM     56   Al MOL     1       3.646   7.155  19.746  1.00  0.00          AL  \nATOM     57   Al MOL     1       6.483   7.150  19.815  1.00  0.00          AL  \nATOM     58   Al MOL     1       2.157   9.779  19.697  1.00  0.00          AL  \nATOM     59   Al MOL     1       5.021   9.723  19.641  1.00  0.00          AL  \nATOM     60   Al MOL     1       7.824   9.755  19.724  1.00  0.00          AL  \nATOM     61   Al MOL     1       0.743   0.580  22.301  1.00  0.00          AL  \nATOM     62   Al MOL     1       3.564   0.536  23.837  1.00  0.00          AL  \nATOM     63   Al MOL     1       6.255   0.738  22.198  1.00  0.00          AL  \nATOM     64   Al MOL     1       2.043   2.893  22.339  1.00  0.00          AL  \nATOM     65   Al MOL     1       4.793   3.116  22.184  1.00  0.00          AL  \nATOM     66   Al MOL     1       7.792   3.118  23.615  1.00  0.00          AL  \nATOM     67   Al MOL     1       0.617   5.518  22.141  1.00  0.00          AL  \nATOM     68   Al MOL     1       3.145   5.561  23.923  1.00  0.00          AL  \nATOM     69   Al MOL     1       6.185   5.753  22.399  1.00  0.00          AL  \nATOM     70   Al MOL     1       1.958   7.989  22.026  1.00  0.00          AL  \nATOM     71   Al MOL     1       4.652   7.974  22.157  1.00  0.00          AL  \nATOM     72   Al MOL     1       7.789   8.132  22.011  1.00  0.00          AL  \nATOM     73    O MOL     1      10.535   1.403  23.331  1.00  0.00           O  \nATOM     74    O MOL     1       6.276   3.987  22.672  1.00  0.00           O  \nATOM     75    O MOL     1       4.663   6.390  23.073  1.00  0.00           O  \nATOM     76    O MOL     1       3.122   5.525  25.555  1.00  0.00           O  \nATOM     77    O MOL     1       4.049  -1.055  -0.350  1.00  0.00           O  \nATOM     78    O MOL     1       5.001  -1.113  -1.133  1.00  0.00           O  \nATOM     79    O MOL     1       7.247   6.802   0.638  1.00  0.00           O  \nATOM     80    O MOL     1       6.408   6.245  -0.082  1.00  0.00           O  \nATOM     81    O MOL     1       7.505   2.717  -1.651  1.00  0.00           O  \nATOM     82    O MOL     1       7.416   3.386  -0.616  1.00  0.00           O  \nATOM     83    O MOL     1       8.020  -0.664  -2.080  1.00  0.00           O  \nATOM     84    O MOL     1       8.518  -0.698  -0.952  1.00  0.00           O  \nATOM     85    O MOL     1       2.509  10.118  28.274  1.00  0.00           O  \nATOM     86    O MOL     1       3.711  10.360  28.348  1.00  0.00           O  \nATOM     87    O MOL     1       1.988   6.314  22.959  1.00  0.00           O  \nATOM     88    O MOL     1       3.364   3.906  22.949  1.00  0.00           O  \nATOM     89    O MOL     1       4.369   5.521  28.996  1.00  0.00           O  \nATOM     90    O MOL     1       4.763   4.512  28.423  1.00  0.00           O  \nATOM     91    O MOL     1       7.852   7.865   9.844  1.00  0.00           O  \nATOM     92    O MOL     1       6.515   5.338   9.780  1.00  0.00           O  \nATOM     93    O MOL     1       2.052   2.932   9.752  1.00  0.00           O  \nATOM     94    O MOL     1       3.564   5.416   9.787  1.00  0.00           O  \nATOM     95    O MOL     1       7.792   6.451  22.743  1.00  0.00           O  \nATOM     96    O MOL     1       9.056   3.824  22.725  1.00  0.00           O  \nATOM     97    O MOL     1       3.632   0.464   9.900  1.00  0.00           O  \nATOM     98    O MOL     1       5.025   2.927   9.787  1.00  0.00           O  \nATOM     99    O MOL     1       0.686  10.284   9.826  1.00  0.00           O  \nATOM    100    O MOL     1       4.989   7.932   9.859  1.00  0.00           O  \nATOM    101    O MOL     1      -2.422  11.361  25.653  1.00  0.00           O  \nATOM    102    O MOL     1      -2.142  12.488  25.144  1.00  0.00           O  \nATOM    103    O MOL     1       1.591   6.721  -1.136  1.00  0.00           O  \nATOM    104    O MOL     1       1.238   5.555  -1.341  1.00  0.00           O  \nATOM    105    O MOL     1       3.785   9.594  25.389  1.00  0.00           O  \nATOM    106    O MOL     1       4.825  11.319  22.950  1.00  0.00           O  \nATOM    107    O MOL     1       6.105   8.909  22.613  1.00  0.00           O  \nATOM    108    O MOL     1       3.411   8.917  22.884  1.00  0.00           O  \nATOM    109    O MOL     1       2.754   2.352  30.823  1.00  0.00           O  \nATOM    110    O MOL     1       2.112   1.847  31.753  1.00  0.00           O  \nATOM    111    O MOL     1      -0.508   3.033  25.345  1.00  0.00           O  \nATOM    112    O MOL     1      -0.844   1.376  23.029  1.00  0.00           O  \nENDMDL\n",
           "ext": "pdb"
          }
         ],
         "kwargs": {},
         "methodName": "replaceStructure",
         "reconstruc_color_scheme": false,
         "target": "Widget",
         "type": "call_method"
        },
        {
         "args": [
          "this._Q = [[1.0, 0.0, 0.0], [0.0, 1.0, 0.0], [0.0, 0.0, 1.0]]"
         ],
         "kwargs": {},
         "methodName": "executeCode",
         "reconstruc_color_scheme": false,
         "target": "Widget",
         "type": "call_method"
        },
        {
         "args": [
          {
           "data": "CRYST1    8.591    9.920   31.691  90.00  90.00  90.00 P 1\nMODEL     1\nATOM      1   Al MOL     1       2.082   1.231  10.401  1.00  0.00          AL  \nATOM      2   Al MOL     1       5.139   1.124  10.399  1.00  0.00          AL  \nATOM      3   Al MOL     1       7.843   1.246  10.756  1.00  0.00          AL  \nATOM      4   Al MOL     1       0.675   3.756  10.645  1.00  0.00          AL  \nATOM      5   Al MOL     1       3.542   3.719  10.620  1.00  0.00          AL  \nATOM      6   Al MOL     1       6.552   3.694  10.549  1.00  0.00          AL  \nATOM      7   Al MOL     1       2.034   6.219  10.728  1.00  0.00          AL  \nATOM      8   Al MOL     1       4.922   6.238  10.573  1.00  0.00          AL  \nATOM      9   Al MOL     1       7.911   6.182  10.379  1.00  0.00          AL  \nATOM     10   Al MOL     1       0.760   8.604  10.513  1.00  0.00          AL  \nATOM     11   Al MOL     1       3.445   8.659  10.495  1.00  0.00          AL  \nATOM     12   Al MOL     1       6.400   8.758  10.617  1.00  0.00          AL  \nATOM     13   Al MOL     1       0.758   2.094  12.780  1.00  0.00          AL  \nATOM     14   Al MOL     1       3.600   2.100  12.939  1.00  0.00          AL  \nATOM     15   Al MOL     1       6.428   2.111  12.966  1.00  0.00          AL  \nATOM     16   Al MOL     1       2.143   4.631  12.853  1.00  0.00          AL  \nATOM     17   Al MOL     1       4.943   4.473  12.914  1.00  0.00          AL  \nATOM     18   Al MOL     1       7.820   4.701  12.855  1.00  0.00          AL  \nATOM     19   Al MOL     1       0.638   7.259  12.875  1.00  0.00          AL  \nATOM     20   Al MOL     1       3.435   7.140  12.928  1.00  0.00          AL  \nATOM     21   Al MOL     1       6.330   7.105  12.840  1.00  0.00          AL  \nATOM     22   Al MOL     1       2.126   9.654  12.849  1.00  0.00          AL  \nATOM     23   Al MOL     1       4.918   9.632  12.919  1.00  0.00          AL  \nATOM     24   Al MOL     1       7.841   9.631  13.029  1.00  0.00          AL  \nATOM     25   Al MOL     1       0.788   0.495  15.230  1.00  0.00          AL  \nATOM     26   Al MOL     1       3.611   0.652  15.179  1.00  0.00          AL  \nATOM     27   Al MOL     1       6.515   0.584  15.267  1.00  0.00          AL  \nATOM     28   Al MOL     1       2.189   3.045  15.239  1.00  0.00          AL  \nATOM     29   Al MOL     1       5.221   3.130  15.450  1.00  0.00          AL  \nATOM     30   Al MOL     1       7.941   3.016  15.086  1.00  0.00          AL  \nATOM     31   Al MOL     1       0.760   5.432  15.192  1.00  0.00          AL  \nATOM     32   Al MOL     1       3.670   5.510  15.102  1.00  0.00          AL  \nATOM     33   Al MOL     1       6.562   5.559  15.146  1.00  0.00          AL  \nATOM     34   Al MOL     1       2.049   8.031  15.160  1.00  0.00          AL  \nATOM     35   Al MOL     1       4.975   7.992  15.128  1.00  0.00          AL  \nATOM     36   Al MOL     1       7.829   7.977  15.329  1.00  0.00          AL  \nATOM     37   Al MOL     1       2.170   1.438  17.578  1.00  0.00          AL  \nATOM     38   Al MOL     1       5.032   1.532  17.658  1.00  0.00          AL  \nATOM     39   Al MOL     1       7.921   1.541  17.591  1.00  0.00          AL  \nATOM     40   Al MOL     1       0.722   3.976  17.567  1.00  0.00          AL  \nATOM     41   Al MOL     1       3.702   4.055  17.515  1.00  0.00          AL  \nATOM     42   Al MOL     1       6.575   3.960  17.558  1.00  0.00          AL  \nATOM     43   Al MOL     1       2.165   6.318  17.409  1.00  0.00          AL  \nATOM     44   Al MOL     1       5.079   6.536  17.478  1.00  0.00          AL  \nATOM     45   Al MOL     1       7.954   6.452  17.477  1.00  0.00          AL  \nATOM     46   Al MOL     1       0.712   8.920  17.508  1.00  0.00          AL  \nATOM     47   Al MOL     1       3.571   8.976  17.375  1.00  0.00          AL  \nATOM     48   Al MOL     1       6.306   8.984  17.528  1.00  0.00          AL  \nATOM     49   Al MOL     1       0.717   2.360  19.874  1.00  0.00          AL  \nATOM     50   Al MOL     1       3.607   2.240  19.841  1.00  0.00          AL  \nATOM     51   Al MOL     1       6.490   2.173  19.897  1.00  0.00          AL  \nATOM     52   Al MOL     1       2.162   4.907  19.780  1.00  0.00          AL  \nATOM     53   Al MOL     1       4.973   4.759  19.766  1.00  0.00          AL  \nATOM     54   Al MOL     1       7.896   4.729  19.737  1.00  0.00          AL  \nATOM     55   Al MOL     1       0.667   7.294  19.714  1.00  0.00          AL  \nATOM     56   Al MOL     1       3.645   7.397  19.540  1.00  0.00          AL  \nATOM     57   Al MOL     1       6.427   7.329  19.680  1.00  0.00          AL  \nATOM     58   Al MOL     1       2.172   9.727  19.705  1.00  0.00          AL  \nATOM     59   Al MOL     1       5.005   9.810  19.852  1.00  0.00          AL  \nATOM     60   Al MOL     1       7.869   9.650  19.731  1.00  0.00          AL  \nATOM     61   Al MOL     1       0.678   0.717  21.981  1.00  0.00          AL  \nATOM     62   Al MOL     1       3.324   0.384  23.646  1.00  0.00          AL  \nATOM     63   Al MOL     1       6.476   0.514  22.208  1.00  0.00          AL  \nATOM     64   Al MOL     1       2.012   3.008  22.225  1.00  0.00          AL  \nATOM     65   Al MOL     1       4.862   3.028  22.236  1.00  0.00          AL  \nATOM     66   Al MOL     1       7.653   3.156  23.781  1.00  0.00          AL  \nATOM     67   Al MOL     1       0.773   5.532  22.363  1.00  0.00          AL  \nATOM     68   Al MOL     1       3.653   5.523  23.528  1.00  0.00          AL  \nATOM     69   Al MOL     1       6.444   5.409  21.886  1.00  0.00          AL  \nATOM     70   Al MOL     1       2.075   7.998  21.848  1.00  0.00          AL  \nATOM     71   Al MOL     1       5.113   7.890  22.020  1.00  0.00          AL  \nATOM     72   Al MOL     1       7.880   8.090  21.962  1.00  0.00          AL  \nATOM     73    O MOL     1      10.721   1.348  22.894  1.00  0.00           O  \nATOM     74    O MOL     1       6.278   3.757  22.608  1.00  0.00           O  \nATOM     75    O MOL     1       5.111   6.266  22.748  1.00  0.00           O  \nATOM     76    O MOL     1       3.575   5.312  25.264  1.00  0.00           O  \nATOM     77    O MOL     1       3.893  -0.876  -0.558  1.00  0.00           O  \nATOM     78    O MOL     1       5.068  -1.043  -0.888  1.00  0.00           O  \nATOM     79    O MOL     1       7.569   6.657   0.889  1.00  0.00           O  \nATOM     80    O MOL     1       6.719   6.512   0.009  1.00  0.00           O  \nATOM     81    O MOL     1       7.745   2.464  -1.515  1.00  0.00           O  \nATOM     82    O MOL     1       7.265   3.256  -0.701  1.00  0.00           O  \nATOM     83    O MOL     1       8.058  -0.740  -2.406  1.00  0.00           O  \nATOM     84    O MOL     1       8.303  -0.611  -1.203  1.00  0.00           O  \nATOM     85    O MOL     1       2.524  10.200  28.318  1.00  0.00           O  \nATOM     86    O MOL     1       3.594  10.727  28.628  1.00  0.00           O  \nATOM     87    O MOL     1       2.204   6.439  22.887  1.00  0.00           O  \nATOM     88    O MOL     1       3.444   3.883  22.788  1.00  0.00           O  \nATOM     89    O MOL     1       4.297   5.586  29.149  1.00  0.00           O  \nATOM     90    O MOL     1       4.889   4.569  28.793  1.00  0.00           O  \nATOM     91    O MOL     1       7.786   7.889   9.811  1.00  0.00           O  \nATOM     92    O MOL     1       6.368   5.382   9.831  1.00  0.00           O  \nATOM     93    O MOL     1       2.142   2.976   9.784  1.00  0.00           O  \nATOM     94    O MOL     1       3.477   5.380   9.878  1.00  0.00           O  \nATOM     95    O MOL     1       7.827   6.424  22.740  1.00  0.00           O  \nATOM     96    O MOL     1       9.281   3.968  23.138  1.00  0.00           O  \nATOM     97    O MOL     1       3.562   0.432   9.726  1.00  0.00           O  \nATOM     98    O MOL     1       4.996   2.887   9.966  1.00  0.00           O  \nATOM     99    O MOL     1       0.576  10.315   9.809  1.00  0.00           O  \nATOM    100    O MOL     1       4.931   7.875   9.835  1.00  0.00           O  \nATOM    101    O MOL     1      -2.197  11.081  26.177  1.00  0.00           O  \nATOM    102    O MOL     1      -2.643  12.196  25.875  1.00  0.00           O  \nATOM    103    O MOL     1       1.507   6.430  -0.896  1.00  0.00           O  \nATOM    104    O MOL     1       1.184   5.289  -1.227  1.00  0.00           O  \nATOM    105    O MOL     1       3.196  10.015  25.284  1.00  0.00           O  \nATOM    106    O MOL     1       4.978  11.251  22.928  1.00  0.00           O  \nATOM    107    O MOL     1       6.445   8.806  22.992  1.00  0.00           O  \nATOM    108    O MOL     1       3.665   8.834  22.662  1.00  0.00           O  \nATOM    109    O MOL     1       2.810   2.523  30.814  1.00  0.00           O  \nATOM    110    O MOL     1       2.258   1.934  31.745  1.00  0.00           O  \nATOM    111    O MOL     1      -1.320   3.311  25.374  1.00  0.00           O  \nATOM    112    O MOL     1      -0.676   1.466  22.905  1.00  0.00           O  \nENDMDL\n",
           "ext": "pdb"
          }
         ],
         "kwargs": {},
         "methodName": "replaceStructure",
         "reconstruc_color_scheme": false,
         "target": "Widget",
         "type": "call_method"
        },
        {
         "args": [
          "this._Q = [[1.0, 0.0, 0.0], [0.0, 1.0, 0.0], [0.0, 0.0, 1.0]]"
         ],
         "kwargs": {},
         "methodName": "executeCode",
         "reconstruc_color_scheme": false,
         "target": "Widget",
         "type": "call_method"
        },
        {
         "args": [
          {
           "data": "CRYST1    8.591    9.920   31.691  90.00  90.00  90.00 P 1\nMODEL     1\nATOM      1   Al MOL     1       2.011   1.226  10.489  1.00  0.00          AL  \nATOM      2   Al MOL     1       5.002   1.363  10.663  1.00  0.00          AL  \nATOM      3   Al MOL     1       7.758   1.296  10.618  1.00  0.00          AL  \nATOM      4   Al MOL     1       0.695   3.795  10.845  1.00  0.00          AL  \nATOM      5   Al MOL     1       3.520   3.789  10.431  1.00  0.00          AL  \nATOM      6   Al MOL     1       6.549   3.720  10.498  1.00  0.00          AL  \nATOM      7   Al MOL     1       2.151   6.327  10.753  1.00  0.00          AL  \nATOM      8   Al MOL     1       4.976   6.229  10.426  1.00  0.00          AL  \nATOM      9   Al MOL     1       7.989   6.179  10.682  1.00  0.00          AL  \nATOM     10   Al MOL     1       0.683   8.735  10.561  1.00  0.00          AL  \nATOM     11   Al MOL     1       3.527   8.731  10.680  1.00  0.00          AL  \nATOM     12   Al MOL     1       6.419   8.869  10.552  1.00  0.00          AL  \nATOM     13   Al MOL     1       0.669   2.211  13.019  1.00  0.00          AL  \nATOM     14   Al MOL     1       3.416   2.254  12.729  1.00  0.00          AL  \nATOM     15   Al MOL     1       6.355   2.193  12.838  1.00  0.00          AL  \nATOM     16   Al MOL     1       2.196   4.690  12.958  1.00  0.00          AL  \nATOM     17   Al MOL     1       4.899   4.827  12.830  1.00  0.00          AL  \nATOM     18   Al MOL     1       7.750   4.579  13.030  1.00  0.00          AL  \nATOM     19   Al MOL     1       0.688   7.074  12.980  1.00  0.00          AL  \nATOM     20   Al MOL     1       3.514   7.134  12.872  1.00  0.00          AL  \nATOM     21   Al MOL     1       6.380   7.129  12.974  1.00  0.00          AL  \nATOM     22   Al MOL     1       1.998   9.598  12.905  1.00  0.00          AL  \nATOM     23   Al MOL     1       4.984   9.643  12.877  1.00  0.00          AL  \nATOM     24   Al MOL     1       7.837   9.622  12.791  1.00  0.00          AL  \nATOM     25   Al MOL     1       0.661   0.556  15.114  1.00  0.00          AL  \nATOM     26   Al MOL     1       3.420   0.513  15.095  1.00  0.00          AL  \nATOM     27   Al MOL     1       6.406   0.572  14.996  1.00  0.00          AL  \nATOM     28   Al MOL     1       2.125   3.053  15.032  1.00  0.00          AL  \nATOM     29   Al MOL     1       4.785   2.977  14.938  1.00  0.00          AL  \nATOM     30   Al MOL     1       7.826   3.162  15.267  1.00  0.00          AL  \nATOM     31   Al MOL     1       0.580   5.635  15.297  1.00  0.00          AL  \nATOM     32   Al MOL     1       3.424   5.543  15.226  1.00  0.00          AL  \nATOM     33   Al MOL     1       6.276   5.485  15.204  1.00  0.00          AL  \nATOM     34   Al MOL     1       2.152   8.061  15.217  1.00  0.00          AL  \nATOM     35   Al MOL     1       4.948   8.030  15.150  1.00  0.00          AL  \nATOM     36   Al MOL     1       7.855   8.039  15.086  1.00  0.00          AL  \nATOM     37   Al MOL     1       2.088   1.373  17.340  1.00  0.00          AL  \nATOM     38   Al MOL     1       5.029   1.376  17.271  1.00  0.00          AL  \nATOM     39   Al MOL     1       7.881   1.337  17.393  1.00  0.00          AL  \nATOM     40   Al MOL     1       0.781   3.996  17.437  1.00  0.00          AL  \nATOM     41   Al MOL     1       3.460   3.878  17.341  1.00  0.00          AL  \nATOM     42   Al MOL     1       6.289   3.829  17.283  1.00  0.00          AL  \nATOM     43   Al MOL     1       2.109   6.388  17.512  1.00  0.00          AL  \nATOM     44   Al MOL     1       4.902   6.321  17.470  1.00  0.00          AL  \nATOM     45   Al MOL     1       7.778   6.367  17.395  1.00  0.00          AL  \nATOM     46   Al MOL     1       0.720   8.859  17.418  1.00  0.00          AL  \nATOM     47   Al MOL     1       3.519   8.777  17.553  1.00  0.00          AL  \nATOM     48   Al MOL     1       6.583   8.763  17.395  1.00  0.00          AL  \nATOM     49   Al MOL     1       0.706   2.246  19.628  1.00  0.00          AL  \nATOM     50   Al MOL     1       3.594   2.294  19.584  1.00  0.00          AL  \nATOM     51   Al MOL     1       6.385   2.385  19.622  1.00  0.00          AL  \nATOM     52   Al MOL     1       2.183   4.612  19.772  1.00  0.00          AL  \nATOM     53   Al MOL     1       4.910   4.770  19.754  1.00  0.00          AL  \nATOM     54   Al MOL     1       7.804   4.776  19.642  1.00  0.00          AL  \nATOM     55   Al MOL     1       0.806   7.334  19.737  1.00  0.00          AL  \nATOM     56   Al MOL     1       3.512   7.105  19.848  1.00  0.00          AL  \nATOM     57   Al MOL     1       6.408   7.255  19.630  1.00  0.00          AL  \nATOM     58   Al MOL     1       2.183   9.761  19.770  1.00  0.00          AL  \nATOM     59   Al MOL     1       5.016   9.763  19.570  1.00  0.00          AL  \nATOM     60   Al MOL     1       7.878   9.898  19.890  1.00  0.00          AL  \nATOM     61   Al MOL     1       0.693   0.397  22.252  1.00  0.00          AL  \nATOM     62   Al MOL     1       3.448   0.685  23.766  1.00  0.00          AL  \nATOM     63   Al MOL     1       6.456   0.570  22.266  1.00  0.00          AL  \nATOM     64   Al MOL     1       2.214   3.170  22.048  1.00  0.00          AL  \nATOM     65   Al MOL     1       5.175   3.079  22.155  1.00  0.00          AL  \nATOM     66   Al MOL     1       7.960   2.966  23.867  1.00  0.00          AL  \nATOM     67   Al MOL     1       0.762   5.410  22.211  1.00  0.00          AL  \nATOM     68   Al MOL     1       3.762   5.555  23.756  1.00  0.00          AL  \nATOM     69   Al MOL     1       6.550   5.434  22.164  1.00  0.00          AL  \nATOM     70   Al MOL     1       2.198   7.928  22.219  1.00  0.00          AL  \nATOM     71   Al MOL     1       5.069   7.982  21.944  1.00  0.00          AL  \nATOM     72   Al MOL     1       7.989   7.908  21.969  1.00  0.00          AL  \nATOM     73    O MOL     1      10.883   1.370  22.432  1.00  0.00           O  \nATOM     74    O MOL     1       6.483   3.808  23.098  1.00  0.00           O  \nATOM     75    O MOL     1       5.215   6.372  22.810  1.00  0.00           O  \nATOM     76    O MOL     1       4.067   5.573  25.312  1.00  0.00           O  \nATOM     77    O MOL     1       3.843  -0.855  -0.596  1.00  0.00           O  \nATOM     78    O MOL     1       5.070  -0.813  -0.698  1.00  0.00           O  \nATOM     79    O MOL     1       7.643   6.494   1.132  1.00  0.00           O  \nATOM     80    O MOL     1       7.142   6.619   0.013  1.00  0.00           O  \nATOM     81    O MOL     1       7.856   2.385  -1.444  1.00  0.00           O  \nATOM     82    O MOL     1       7.214   3.139  -0.713  1.00  0.00           O  \nATOM     83    O MOL     1       8.004  -0.915  -2.632  1.00  0.00           O  \nATOM     84    O MOL     1       8.185  -0.536  -1.476  1.00  0.00           O  \nATOM     85    O MOL     1       2.466  10.388  28.663  1.00  0.00           O  \nATOM     86    O MOL     1       3.527  10.950  28.409  1.00  0.00           O  \nATOM     87    O MOL     1       2.103   6.352  22.971  1.00  0.00           O  \nATOM     88    O MOL     1       3.718   3.812  22.927  1.00  0.00           O  \nATOM     89    O MOL     1       4.305   5.663  29.410  1.00  0.00           O  \nATOM     90    O MOL     1       4.939   4.616  29.228  1.00  0.00           O  \nATOM     91    O MOL     1       7.817   7.875   9.893  1.00  0.00           O  \nATOM     92    O MOL     1       6.487   5.435   9.856  1.00  0.00           O  \nATOM     93    O MOL     1       2.040   2.958   9.848  1.00  0.00           O  \nATOM     94    O MOL     1       3.460   5.482   9.715  1.00  0.00           O  \nATOM     95    O MOL     1       7.970   6.314  22.774  1.00  0.00           O  \nATOM     96    O MOL     1       9.462   3.793  22.940  1.00  0.00           O  \nATOM     97    O MOL     1       3.557   0.505   9.943  1.00  0.00           O  \nATOM     98    O MOL     1       5.001   2.988   9.731  1.00  0.00           O  \nATOM     99    O MOL     1       0.611  10.381   9.738  1.00  0.00           O  \nATOM    100    O MOL     1       5.011   7.924   9.874  1.00  0.00           O  \nATOM    101    O MOL     1      -2.103  11.020  26.917  1.00  0.00           O  \nATOM    102    O MOL     1      -2.180  12.050  26.232  1.00  0.00           O  \nATOM    103    O MOL     1       1.560   6.137  -0.840  1.00  0.00           O  \nATOM    104    O MOL     1       1.064   5.030  -1.060  1.00  0.00           O  \nATOM    105    O MOL     1       2.768  10.643  25.360  1.00  0.00           O  \nATOM    106    O MOL     1       4.946  11.170  22.750  1.00  0.00           O  \nATOM    107    O MOL     1       6.561   8.761  22.765  1.00  0.00           O  \nATOM    108    O MOL     1       3.674   8.934  22.840  1.00  0.00           O  \nATOM    109    O MOL     1       2.988   2.788  30.971  1.00  0.00           O  \nATOM    110    O MOL     1       2.243   2.086  31.657  1.00  0.00           O  \nATOM    111    O MOL     1      -0.692   2.790  25.649  1.00  0.00           O  \nATOM    112    O MOL     1      -0.709   1.410  22.946  1.00  0.00           O  \nENDMDL\n",
           "ext": "pdb"
          }
         ],
         "kwargs": {},
         "methodName": "replaceStructure",
         "reconstruc_color_scheme": false,
         "target": "Widget",
         "type": "call_method"
        },
        {
         "args": [
          "this._Q = [[1.0, 0.0, 0.0], [0.0, 1.0, 0.0], [0.0, 0.0, 1.0]]"
         ],
         "kwargs": {},
         "methodName": "executeCode",
         "reconstruc_color_scheme": false,
         "target": "Widget",
         "type": "call_method"
        },
        {
         "args": [
          {
           "data": "CRYST1    8.591    9.920   31.691  90.00  90.00  90.00 P 1\nMODEL     1\nATOM      1   Al MOL     1       2.112   1.450  10.388  1.00  0.00          AL  \nATOM      2   Al MOL     1       5.168   1.402  10.433  1.00  0.00          AL  \nATOM      3   Al MOL     1       7.818   1.320  10.629  1.00  0.00          AL  \nATOM      4   Al MOL     1       0.586   3.937  10.437  1.00  0.00          AL  \nATOM      5   Al MOL     1       3.513   3.923  10.437  1.00  0.00          AL  \nATOM      6   Al MOL     1       6.480   3.815  10.366  1.00  0.00          AL  \nATOM      7   Al MOL     1       2.048   6.403  10.597  1.00  0.00          AL  \nATOM      8   Al MOL     1       4.969   6.397  10.522  1.00  0.00          AL  \nATOM      9   Al MOL     1       7.905   6.295  10.341  1.00  0.00          AL  \nATOM     10   Al MOL     1       0.744   8.723  10.436  1.00  0.00          AL  \nATOM     11   Al MOL     1       3.484   8.908  10.413  1.00  0.00          AL  \nATOM     12   Al MOL     1       6.354   8.887  10.650  1.00  0.00          AL  \nATOM     13   Al MOL     1       0.640   2.192  12.902  1.00  0.00          AL  \nATOM     14   Al MOL     1       3.434   2.267  12.944  1.00  0.00          AL  \nATOM     15   Al MOL     1       6.317   2.234  12.815  1.00  0.00          AL  \nATOM     16   Al MOL     1       1.933   4.585  12.866  1.00  0.00          AL  \nATOM     17   Al MOL     1       4.883   4.679  12.850  1.00  0.00          AL  \nATOM     18   Al MOL     1       7.753   4.896  12.770  1.00  0.00          AL  \nATOM     19   Al MOL     1       0.623   7.307  12.859  1.00  0.00          AL  \nATOM     20   Al MOL     1       3.593   7.177  12.782  1.00  0.00          AL  \nATOM     21   Al MOL     1       6.336   7.183  12.892  1.00  0.00          AL  \nATOM     22   Al MOL     1       2.063   9.678  12.895  1.00  0.00          AL  \nATOM     23   Al MOL     1       4.990   9.745  12.814  1.00  0.00          AL  \nATOM     24   Al MOL     1       7.734   9.612  12.967  1.00  0.00          AL  \nATOM     25   Al MOL     1       0.654   0.508  15.262  1.00  0.00          AL  \nATOM     26   Al MOL     1       3.521   0.606  15.170  1.00  0.00          AL  \nATOM     27   Al MOL     1       6.263   0.507  15.189  1.00  0.00          AL  \nATOM     28   Al MOL     1       2.002   2.978  15.157  1.00  0.00          AL  \nATOM     29   Al MOL     1       4.878   3.155  15.247  1.00  0.00          AL  \nATOM     30   Al MOL     1       7.660   3.006  15.037  1.00  0.00          AL  \nATOM     31   Al MOL     1       0.583   5.403  15.126  1.00  0.00          AL  \nATOM     32   Al MOL     1       3.504   5.414  15.135  1.00  0.00          AL  \nATOM     33   Al MOL     1       6.428   5.558  15.164  1.00  0.00          AL  \nATOM     34   Al MOL     1       1.970   7.933  15.163  1.00  0.00          AL  \nATOM     35   Al MOL     1       4.952   8.040  15.122  1.00  0.00          AL  \nATOM     36   Al MOL     1       7.719   7.917  15.311  1.00  0.00          AL  \nATOM     37   Al MOL     1       2.010   1.415  17.406  1.00  0.00          AL  \nATOM     38   Al MOL     1       4.863   1.443  17.549  1.00  0.00          AL  \nATOM     39   Al MOL     1       7.657   1.393  17.401  1.00  0.00          AL  \nATOM     40   Al MOL     1       0.456   3.746  17.378  1.00  0.00          AL  \nATOM     41   Al MOL     1       3.336   3.820  17.537  1.00  0.00          AL  \nATOM     42   Al MOL     1       6.373   3.951  17.669  1.00  0.00          AL  \nATOM     43   Al MOL     1       2.058   6.251  17.429  1.00  0.00          AL  \nATOM     44   Al MOL     1       4.970   6.244  17.536  1.00  0.00          AL  \nATOM     45   Al MOL     1       7.769   6.303  17.571  1.00  0.00          AL  \nATOM     46   Al MOL     1       0.663   8.708  17.445  1.00  0.00          AL  \nATOM     47   Al MOL     1       3.408   8.792  17.358  1.00  0.00          AL  \nATOM     48   Al MOL     1       6.325   8.831  17.545  1.00  0.00          AL  \nATOM     49   Al MOL     1       0.635   2.083  19.695  1.00  0.00          AL  \nATOM     50   Al MOL     1       3.472   2.209  19.757  1.00  0.00          AL  \nATOM     51   Al MOL     1       6.425   2.088  19.893  1.00  0.00          AL  \nATOM     52   Al MOL     1       2.122   4.698  19.830  1.00  0.00          AL  \nATOM     53   Al MOL     1       5.024   4.564  19.947  1.00  0.00          AL  \nATOM     54   Al MOL     1       7.815   4.539  19.913  1.00  0.00          AL  \nATOM     55   Al MOL     1       0.771   6.951  19.773  1.00  0.00          AL  \nATOM     56   Al MOL     1       3.555   7.153  19.746  1.00  0.00          AL  \nATOM     57   Al MOL     1       6.377   7.025  19.814  1.00  0.00          AL  \nATOM     58   Al MOL     1       2.121   9.556  19.724  1.00  0.00          AL  \nATOM     59   Al MOL     1       4.909   9.525  19.850  1.00  0.00          AL  \nATOM     60   Al MOL     1       7.887   9.516  19.585  1.00  0.00          AL  \nATOM     61   Al MOL     1       0.874   0.432  21.808  1.00  0.00          AL  \nATOM     62   Al MOL     1       3.683   0.544  23.819  1.00  0.00          AL  \nATOM     63   Al MOL     1       6.575   0.532  22.096  1.00  0.00          AL  \nATOM     64   Al MOL     1       2.215   3.166  21.997  1.00  0.00          AL  \nATOM     65   Al MOL     1       5.157   3.043  22.410  1.00  0.00          AL  \nATOM     66   Al MOL     1       8.129   2.898  23.564  1.00  0.00          AL  \nATOM     67   Al MOL     1       0.737   5.637  22.142  1.00  0.00          AL  \nATOM     68   Al MOL     1       3.613   5.606  23.844  1.00  0.00          AL  \nATOM     69   Al MOL     1       6.523   5.361  22.210  1.00  0.00          AL  \nATOM     70   Al MOL     1       2.207   8.087  22.174  1.00  0.00          AL  \nATOM     71   Al MOL     1       4.971   7.825  22.180  1.00  0.00          AL  \nATOM     72   Al MOL     1       8.047   8.056  22.007  1.00  0.00          AL  \nATOM     73    O MOL     1      10.957   1.351  22.291  1.00  0.00           O  \nATOM     74    O MOL     1       6.644   3.778  23.211  1.00  0.00           O  \nATOM     75    O MOL     1       5.190   6.232  22.905  1.00  0.00           O  \nATOM     76    O MOL     1       3.919   5.642  25.556  1.00  0.00           O  \nATOM     77    O MOL     1       3.905  -1.020  -0.511  1.00  0.00           O  \nATOM     78    O MOL     1       5.028  -0.518  -0.616  1.00  0.00           O  \nATOM     79    O MOL     1       7.566   6.441   1.250  1.00  0.00           O  \nATOM     80    O MOL     1       7.378   6.580   0.035  1.00  0.00           O  \nATOM     81    O MOL     1       7.751   2.499  -1.534  1.00  0.00           O  \nATOM     82    O MOL     1       7.270   3.013  -0.520  1.00  0.00           O  \nATOM     83    O MOL     1       7.824  -1.155  -2.760  1.00  0.00           O  \nATOM     84    O MOL     1       8.195  -0.651  -1.698  1.00  0.00           O  \nATOM     85    O MOL     1       2.442  10.753  28.858  1.00  0.00           O  \nATOM     86    O MOL     1       3.418  10.900  28.121  1.00  0.00           O  \nATOM     87    O MOL     1       2.066   6.475  22.991  1.00  0.00           O  \nATOM     88    O MOL     1       3.660   3.706  23.126  1.00  0.00           O  \nATOM     89    O MOL     1       4.474   5.836  29.763  1.00  0.00           O  \nATOM     90    O MOL     1       4.961   4.725  29.574  1.00  0.00           O  \nATOM     91    O MOL     1       7.746   8.037   9.761  1.00  0.00           O  \nATOM     92    O MOL     1       6.347   5.517   9.686  1.00  0.00           O  \nATOM     93    O MOL     1       2.089   3.155   9.663  1.00  0.00           O  \nATOM     94    O MOL     1       3.517   5.586   9.745  1.00  0.00           O  \nATOM     95    O MOL     1       7.868   6.483  22.830  1.00  0.00           O  \nATOM     96    O MOL     1       9.570   3.908  22.799  1.00  0.00           O  \nATOM     97    O MOL     1       3.613   0.659   9.680  1.00  0.00           O  \nATOM     98    O MOL     1       4.945   3.080   9.701  1.00  0.00           O  \nATOM     99    O MOL     1       0.684  10.484   9.738  1.00  0.00           O  \nATOM    100    O MOL     1       4.977   8.040   9.776  1.00  0.00           O  \nATOM    101    O MOL     1      -1.354  11.893  27.034  1.00  0.00           O  \nATOM    102    O MOL     1      -1.515  11.917  25.822  1.00  0.00           O  \nATOM    103    O MOL     1       1.665   5.912  -0.795  1.00  0.00           O  \nATOM    104    O MOL     1       0.950   4.926  -1.009  1.00  0.00           O  \nATOM    105    O MOL     1       3.253  10.993  25.374  1.00  0.00           O  \nATOM    106    O MOL     1       5.228  11.244  22.906  1.00  0.00           O  \nATOM    107    O MOL     1       6.491   8.723  22.560  1.00  0.00           O  \nATOM    108    O MOL     1       3.621   8.867  22.898  1.00  0.00           O  \nATOM    109    O MOL     1       3.312   2.845  31.250  1.00  0.00           O  \nATOM    110    O MOL     1       2.245   2.328  31.602  1.00  0.00           O  \nATOM    111    O MOL     1      -0.035   2.606  25.252  1.00  0.00           O  \nATOM    112    O MOL     1      -0.501   1.390  22.707  1.00  0.00           O  \nENDMDL\n",
           "ext": "pdb"
          }
         ],
         "kwargs": {},
         "methodName": "replaceStructure",
         "reconstruc_color_scheme": false,
         "target": "Widget",
         "type": "call_method"
        },
        {
         "args": [
          "this._Q = [[1.0, 0.0, 0.0], [0.0, 1.0, 0.0], [0.0, 0.0, 1.0]]"
         ],
         "kwargs": {},
         "methodName": "executeCode",
         "reconstruc_color_scheme": false,
         "target": "Widget",
         "type": "call_method"
        },
        {
         "args": [
          {
           "data": "CRYST1    8.591    9.920   31.691  90.00  90.00  90.00 P 1\nMODEL     1\nATOM      1   Al MOL     1       2.056   1.423  10.390  1.00  0.00          AL  \nATOM      2   Al MOL     1       5.054   1.374  10.523  1.00  0.00          AL  \nATOM      3   Al MOL     1       7.750   1.547  10.648  1.00  0.00          AL  \nATOM      4   Al MOL     1       0.660   3.955  10.678  1.00  0.00          AL  \nATOM      5   Al MOL     1       3.467   3.944  10.406  1.00  0.00          AL  \nATOM      6   Al MOL     1       6.529   3.895  10.500  1.00  0.00          AL  \nATOM      7   Al MOL     1       2.062   6.424  10.545  1.00  0.00          AL  \nATOM      8   Al MOL     1       4.963   6.461  10.360  1.00  0.00          AL  \nATOM      9   Al MOL     1       7.993   6.426  10.360  1.00  0.00          AL  \nATOM     10   Al MOL     1       0.649   8.888  10.488  1.00  0.00          AL  \nATOM     11   Al MOL     1       3.445   8.924  10.625  1.00  0.00          AL  \nATOM     12   Al MOL     1       6.355   9.002  10.557  1.00  0.00          AL  \nATOM     13   Al MOL     1       0.757   2.329  12.891  1.00  0.00          AL  \nATOM     14   Al MOL     1       3.535   2.259  12.880  1.00  0.00          AL  \nATOM     15   Al MOL     1       6.294   2.219  13.008  1.00  0.00          AL  \nATOM     16   Al MOL     1       2.075   4.825  12.884  1.00  0.00          AL  \nATOM     17   Al MOL     1       4.884   4.761  12.847  1.00  0.00          AL  \nATOM     18   Al MOL     1       7.669   4.678  13.003  1.00  0.00          AL  \nATOM     19   Al MOL     1       0.325   7.150  12.788  1.00  0.00          AL  \nATOM     20   Al MOL     1       3.410   7.310  12.838  1.00  0.00          AL  \nATOM     21   Al MOL     1       6.221   7.249  12.738  1.00  0.00          AL  \nATOM     22   Al MOL     1       1.984   9.796  12.801  1.00  0.00          AL  \nATOM     23   Al MOL     1       4.864   9.615  13.012  1.00  0.00          AL  \nATOM     24   Al MOL     1       7.771   9.754  12.752  1.00  0.00          AL  \nATOM     25   Al MOL     1       0.622   0.614  15.081  1.00  0.00          AL  \nATOM     26   Al MOL     1       3.360   0.493  15.115  1.00  0.00          AL  \nATOM     27   Al MOL     1       6.340   0.459  15.157  1.00  0.00          AL  \nATOM     28   Al MOL     1       2.096   3.047  15.120  1.00  0.00          AL  \nATOM     29   Al MOL     1       4.906   2.862  15.085  1.00  0.00          AL  \nATOM     30   Al MOL     1       7.957   2.976  15.338  1.00  0.00          AL  \nATOM     31   Al MOL     1       0.608   5.488  15.021  1.00  0.00          AL  \nATOM     32   Al MOL     1       3.467   5.412  15.089  1.00  0.00          AL  \nATOM     33   Al MOL     1       6.231   5.428  15.108  1.00  0.00          AL  \nATOM     34   Al MOL     1       1.876   8.073  15.159  1.00  0.00          AL  \nATOM     35   Al MOL     1       5.010   7.926  15.080  1.00  0.00          AL  \nATOM     36   Al MOL     1       7.651   7.942  15.003  1.00  0.00          AL  \nATOM     37   Al MOL     1       2.134   1.251  17.420  1.00  0.00          AL  \nATOM     38   Al MOL     1       4.862   1.110  17.326  1.00  0.00          AL  \nATOM     39   Al MOL     1       7.812   1.206  17.482  1.00  0.00          AL  \nATOM     40   Al MOL     1       0.788   3.879  17.374  1.00  0.00          AL  \nATOM     41   Al MOL     1       3.660   3.711  17.423  1.00  0.00          AL  \nATOM     42   Al MOL     1       6.405   3.736  17.434  1.00  0.00          AL  \nATOM     43   Al MOL     1       2.075   6.397  17.497  1.00  0.00          AL  \nATOM     44   Al MOL     1       4.947   6.221  17.476  1.00  0.00          AL  \nATOM     45   Al MOL     1       7.706   6.221  17.315  1.00  0.00          AL  \nATOM     46   Al MOL     1       0.476   8.713  17.343  1.00  0.00          AL  \nATOM     47   Al MOL     1       3.542   8.649  17.394  1.00  0.00          AL  \nATOM     48   Al MOL     1       6.366   8.656  17.350  1.00  0.00          AL  \nATOM     49   Al MOL     1       0.541   2.159  19.767  1.00  0.00          AL  \nATOM     50   Al MOL     1       3.349   1.904  19.913  1.00  0.00          AL  \nATOM     51   Al MOL     1       6.332   2.106  19.849  1.00  0.00          AL  \nATOM     52   Al MOL     1       2.044   4.580  19.703  1.00  0.00          AL  \nATOM     53   Al MOL     1       5.013   4.581  19.743  1.00  0.00          AL  \nATOM     54   Al MOL     1       7.671   4.682  19.602  1.00  0.00          AL  \nATOM     55   Al MOL     1       0.598   7.070  19.687  1.00  0.00          AL  \nATOM     56   Al MOL     1       3.581   6.991  19.749  1.00  0.00          AL  \nATOM     57   Al MOL     1       6.343   7.070  19.904  1.00  0.00          AL  \nATOM     58   Al MOL     1       1.949   9.490  19.766  1.00  0.00          AL  \nATOM     59   Al MOL     1       4.948   9.469  19.830  1.00  0.00          AL  \nATOM     60   Al MOL     1       7.661   9.611  19.688  1.00  0.00          AL  \nATOM     61   Al MOL     1       0.704   0.540  22.109  1.00  0.00          AL  \nATOM     62   Al MOL     1       3.578   0.469  23.838  1.00  0.00          AL  \nATOM     63   Al MOL     1       6.519   0.519  22.168  1.00  0.00          AL  \nATOM     64   Al MOL     1       2.322   2.866  22.279  1.00  0.00          AL  \nATOM     65   Al MOL     1       5.094   3.088  22.133  1.00  0.00          AL  \nATOM     66   Al MOL     1       8.052   3.010  23.687  1.00  0.00          AL  \nATOM     67   Al MOL     1       0.996   5.507  21.989  1.00  0.00          AL  \nATOM     68   Al MOL     1       3.713   5.605  23.840  1.00  0.00          AL  \nATOM     69   Al MOL     1       6.530   5.448  22.215  1.00  0.00          AL  \nATOM     70   Al MOL     1       2.166   8.060  21.965  1.00  0.00          AL  \nATOM     71   Al MOL     1       5.109   7.986  22.258  1.00  0.00          AL  \nATOM     72   Al MOL     1       8.108   8.104  22.107  1.00  0.00          AL  \nATOM     73    O MOL     1      10.752   1.266  22.902  1.00  0.00           O  \nATOM     74    O MOL     1       6.525   3.720  23.000  1.00  0.00           O  \nATOM     75    O MOL     1       5.335   6.399  23.151  1.00  0.00           O  \nATOM     76    O MOL     1       3.308   5.574  25.415  1.00  0.00           O  \nATOM     77    O MOL     1       4.067  -1.115  -0.380  1.00  0.00           O  \nATOM     78    O MOL     1       4.978  -0.345  -0.696  1.00  0.00           O  \nATOM     79    O MOL     1       7.513   6.469   1.249  1.00  0.00           O  \nATOM     80    O MOL     1       7.116   6.599   0.087  1.00  0.00           O  \nATOM     81    O MOL     1       7.341   2.749  -1.565  1.00  0.00           O  \nATOM     82    O MOL     1       7.411   2.728  -0.334  1.00  0.00           O  \nATOM     83    O MOL     1       7.643  -1.308  -2.825  1.00  0.00           O  \nATOM     84    O MOL     1       8.240  -0.854  -1.845  1.00  0.00           O  \nATOM     85    O MOL     1       2.323  11.067  28.570  1.00  0.00           O  \nATOM     86    O MOL     1       3.452  10.683  28.259  1.00  0.00           O  \nATOM     87    O MOL     1       2.320   6.342  22.771  1.00  0.00           O  \nATOM     88    O MOL     1       3.851   3.908  22.967  1.00  0.00           O  \nATOM     89    O MOL     1       4.843   6.105  30.116  1.00  0.00           O  \nATOM     90    O MOL     1       5.082   4.935  29.819  1.00  0.00           O  \nATOM     91    O MOL     1       7.726   8.098   9.726  1.00  0.00           O  \nATOM     92    O MOL     1       6.449   5.626   9.762  1.00  0.00           O  \nATOM     93    O MOL     1       2.056   3.092   9.671  1.00  0.00           O  \nATOM     94    O MOL     1       3.518   5.604   9.685  1.00  0.00           O  \nATOM     95    O MOL     1       8.107   6.425  22.672  1.00  0.00           O  \nATOM     96    O MOL     1       9.492   3.783  22.746  1.00  0.00           O  \nATOM     97    O MOL     1       3.557   0.642   9.765  1.00  0.00           O  \nATOM     98    O MOL     1       4.982   3.134   9.814  1.00  0.00           O  \nATOM     99    O MOL     1       0.550  10.572   9.798  1.00  0.00           O  \nATOM    100    O MOL     1       4.902   8.128   9.778  1.00  0.00           O  \nATOM    101    O MOL     1      -1.199  12.303  27.236  1.00  0.00           O  \nATOM    102    O MOL     1      -0.636  11.914  26.196  1.00  0.00           O  \nATOM    103    O MOL     1       1.729   5.789  -0.649  1.00  0.00           O  \nATOM    104    O MOL     1       1.037   4.949  -1.226  1.00  0.00           O  \nATOM    105    O MOL     1       3.903  10.151  25.410  1.00  0.00           O  \nATOM    106    O MOL     1       5.063  11.339  22.868  1.00  0.00           O  \nATOM    107    O MOL     1       6.660   8.814  22.891  1.00  0.00           O  \nATOM    108    O MOL     1       3.529   8.828  22.729  1.00  0.00           O  \nATOM    109    O MOL     1       3.602   2.776  31.530  1.00  0.00           O  \nATOM    110    O MOL     1       2.438   2.405  31.688  1.00  0.00           O  \nATOM    111    O MOL     1      -0.334   3.218  25.292  1.00  0.00           O  \nATOM    112    O MOL     1      -0.595   1.406  22.983  1.00  0.00           O  \nENDMDL\n",
           "ext": "pdb"
          }
         ],
         "kwargs": {},
         "methodName": "replaceStructure",
         "reconstruc_color_scheme": false,
         "target": "Widget",
         "type": "call_method"
        },
        {
         "args": [
          "this._Q = [[1.0, 0.0, 0.0], [0.0, 1.0, 0.0], [0.0, 0.0, 1.0]]"
         ],
         "kwargs": {},
         "methodName": "executeCode",
         "reconstruc_color_scheme": false,
         "target": "Widget",
         "type": "call_method"
        },
        {
         "args": [
          {
           "data": "CRYST1    8.591    9.920   31.691  90.00  90.00  90.00 P 1\nMODEL     1\nATOM      1   Al MOL     1       1.949   1.478  10.532  1.00  0.00          AL  \nATOM      2   Al MOL     1       4.956   1.454  10.480  1.00  0.00          AL  \nATOM      3   Al MOL     1       7.681   1.373  10.620  1.00  0.00          AL  \nATOM      4   Al MOL     1       0.616   3.974  10.594  1.00  0.00          AL  \nATOM      5   Al MOL     1       3.428   4.005  10.454  1.00  0.00          AL  \nATOM      6   Al MOL     1       6.519   3.867  10.357  1.00  0.00          AL  \nATOM      7   Al MOL     1       1.955   6.520  10.641  1.00  0.00          AL  \nATOM      8   Al MOL     1       4.853   6.495  10.408  1.00  0.00          AL  \nATOM      9   Al MOL     1       7.889   6.292  10.559  1.00  0.00          AL  \nATOM     10   Al MOL     1       0.697   8.808  10.381  1.00  0.00          AL  \nATOM     11   Al MOL     1       3.370   8.903  10.501  1.00  0.00          AL  \nATOM     12   Al MOL     1       6.347   9.052  10.512  1.00  0.00          AL  \nATOM     13   Al MOL     1       0.613   1.996  12.856  1.00  0.00          AL  \nATOM     14   Al MOL     1       3.410   2.205  12.879  1.00  0.00          AL  \nATOM     15   Al MOL     1       6.229   2.322  12.828  1.00  0.00          AL  \nATOM     16   Al MOL     1       2.066   4.671  12.983  1.00  0.00          AL  \nATOM     17   Al MOL     1       4.930   4.637  12.865  1.00  0.00          AL  \nATOM     18   Al MOL     1       7.847   4.876  12.844  1.00  0.00          AL  \nATOM     19   Al MOL     1       0.716   7.117  13.005  1.00  0.00          AL  \nATOM     20   Al MOL     1       3.654   7.103  12.816  1.00  0.00          AL  \nATOM     21   Al MOL     1       6.426   7.159  13.030  1.00  0.00          AL  \nATOM     22   Al MOL     1       2.114   9.618  12.885  1.00  0.00          AL  \nATOM     23   Al MOL     1       4.884   9.630  12.867  1.00  0.00          AL  \nATOM     24   Al MOL     1       7.838   9.493  12.893  1.00  0.00          AL  \nATOM     25   Al MOL     1       0.708   0.426  15.186  1.00  0.00          AL  \nATOM     26   Al MOL     1       3.609   0.576  15.242  1.00  0.00          AL  \nATOM     27   Al MOL     1       6.252   0.581  15.198  1.00  0.00          AL  \nATOM     28   Al MOL     1       2.013   2.923  15.110  1.00  0.00          AL  \nATOM     29   Al MOL     1       4.891   3.033  15.060  1.00  0.00          AL  \nATOM     30   Al MOL     1       7.757   3.107  15.039  1.00  0.00          AL  \nATOM     31   Al MOL     1       0.584   5.327  15.132  1.00  0.00          AL  \nATOM     32   Al MOL     1       3.545   5.397  15.124  1.00  0.00          AL  \nATOM     33   Al MOL     1       6.359   5.575  15.159  1.00  0.00          AL  \nATOM     34   Al MOL     1       2.132   7.941  15.184  1.00  0.00          AL  \nATOM     35   Al MOL     1       4.911   8.028  15.194  1.00  0.00          AL  \nATOM     36   Al MOL     1       7.769   8.003  15.301  1.00  0.00          AL  \nATOM     37   Al MOL     1       2.014   1.364  17.417  1.00  0.00          AL  \nATOM     38   Al MOL     1       4.958   1.485  17.344  1.00  0.00          AL  \nATOM     39   Al MOL     1       7.802   1.268  17.412  1.00  0.00          AL  \nATOM     40   Al MOL     1       0.463   3.708  17.401  1.00  0.00          AL  \nATOM     41   Al MOL     1       3.428   3.803  17.367  1.00  0.00          AL  \nATOM     42   Al MOL     1       6.296   3.934  17.456  1.00  0.00          AL  \nATOM     43   Al MOL     1       2.036   6.160  17.445  1.00  0.00          AL  \nATOM     44   Al MOL     1       4.838   6.233  17.435  1.00  0.00          AL  \nATOM     45   Al MOL     1       7.857   6.301  17.587  1.00  0.00          AL  \nATOM     46   Al MOL     1       0.661   8.778  17.441  1.00  0.00          AL  \nATOM     47   Al MOL     1       3.473   8.825  17.377  1.00  0.00          AL  \nATOM     48   Al MOL     1       6.326   8.748  17.497  1.00  0.00          AL  \nATOM     49   Al MOL     1       0.728   2.144  19.850  1.00  0.00          AL  \nATOM     50   Al MOL     1       3.579   2.232  19.719  1.00  0.00          AL  \nATOM     51   Al MOL     1       6.479   2.080  19.805  1.00  0.00          AL  \nATOM     52   Al MOL     1       2.160   4.682  19.789  1.00  0.00          AL  \nATOM     53   Al MOL     1       4.992   4.672  19.733  1.00  0.00          AL  \nATOM     54   Al MOL     1       7.967   4.489  19.756  1.00  0.00          AL  \nATOM     55   Al MOL     1       0.727   7.108  19.645  1.00  0.00          AL  \nATOM     56   Al MOL     1       3.450   7.085  19.585  1.00  0.00          AL  \nATOM     57   Al MOL     1       6.263   7.002  19.659  1.00  0.00          AL  \nATOM     58   Al MOL     1       2.200   9.697  19.774  1.00  0.00          AL  \nATOM     59   Al MOL     1       4.857   9.740  19.581  1.00  0.00          AL  \nATOM     60   Al MOL     1       7.806   9.683  19.762  1.00  0.00          AL  \nATOM     61   Al MOL     1       0.898   0.439  22.465  1.00  0.00          AL  \nATOM     62   Al MOL     1       3.861   0.533  23.689  1.00  0.00          AL  \nATOM     63   Al MOL     1       6.712   0.570  22.226  1.00  0.00          AL  \nATOM     64   Al MOL     1       2.081   2.824  22.050  1.00  0.00          AL  \nATOM     65   Al MOL     1       5.030   2.913  22.055  1.00  0.00          AL  \nATOM     66   Al MOL     1       7.967   3.216  23.781  1.00  0.00          AL  \nATOM     67   Al MOL     1       0.661   5.422  22.142  1.00  0.00          AL  \nATOM     68   Al MOL     1       3.497   5.387  23.529  1.00  0.00          AL  \nATOM     69   Al MOL     1       6.397   5.405  21.944  1.00  0.00          AL  \nATOM     70   Al MOL     1       2.128   7.940  21.904  1.00  0.00          AL  \nATOM     71   Al MOL     1       5.030   7.932  22.061  1.00  0.00          AL  \nATOM     72   Al MOL     1       8.064   7.963  21.945  1.00  0.00          AL  \nATOM     73    O MOL     1      10.885   1.419  23.125  1.00  0.00           O  \nATOM     74    O MOL     1       6.422   3.695  22.654  1.00  0.00           O  \nATOM     75    O MOL     1       4.935   6.150  22.574  1.00  0.00           O  \nATOM     76    O MOL     1       3.319   5.458  25.262  1.00  0.00           O  \nATOM     77    O MOL     1       4.172  -0.940  -0.253  1.00  0.00           O  \nATOM     78    O MOL     1       5.095  -0.332  -0.797  1.00  0.00           O  \nATOM     79    O MOL     1       7.621   6.547   1.259  1.00  0.00           O  \nATOM     80    O MOL     1       6.959   6.628   0.224  1.00  0.00           O  \nATOM     81    O MOL     1       6.915   2.866  -1.342  1.00  0.00           O  \nATOM     82    O MOL     1       7.426   2.505  -0.282  1.00  0.00           O  \nATOM     83    O MOL     1       7.542  -1.393  -2.846  1.00  0.00           O  \nATOM     84    O MOL     1       8.243  -1.074  -1.886  1.00  0.00           O  \nATOM     85    O MOL     1       2.356  11.183  28.167  1.00  0.00           O  \nATOM     86    O MOL     1       3.272  10.643  28.784  1.00  0.00           O  \nATOM     87    O MOL     1       2.098   6.194  22.633  1.00  0.00           O  \nATOM     88    O MOL     1       3.681   3.823  22.643  1.00  0.00           O  \nATOM     89    O MOL     1       4.844   6.330  30.162  1.00  0.00           O  \nATOM     90    O MOL     1       5.290   5.177  30.101  1.00  0.00           O  \nATOM     91    O MOL     1       7.713   8.007   9.848  1.00  0.00           O  \nATOM     92    O MOL     1       6.277   5.606   9.794  1.00  0.00           O  \nATOM     93    O MOL     1       1.989   3.158   9.747  1.00  0.00           O  \nATOM     94    O MOL     1       3.362   5.655   9.733  1.00  0.00           O  \nATOM     95    O MOL     1       7.756   6.305  22.500  1.00  0.00           O  \nATOM     96    O MOL     1       9.345   3.857  22.787  1.00  0.00           O  \nATOM     97    O MOL     1       3.454   0.700   9.789  1.00  0.00           O  \nATOM     98    O MOL     1       4.883   3.163   9.766  1.00  0.00           O  \nATOM     99    O MOL     1       0.560  10.543   9.740  1.00  0.00           O  \nATOM    100    O MOL     1       4.932   8.151   9.768  1.00  0.00           O  \nATOM    101    O MOL     1      -0.977  12.166  27.561  1.00  0.00           O  \nATOM    102    O MOL     1      -0.271  12.180  26.566  1.00  0.00           O  \nATOM    103    O MOL     1       1.785   5.589  -0.495  1.00  0.00           O  \nATOM    104    O MOL     1       1.101   5.186  -1.441  1.00  0.00           O  \nATOM    105    O MOL     1       4.146   9.887  25.259  1.00  0.00           O  \nATOM    106    O MOL     1       5.218  11.324  22.853  1.00  0.00           O  \nATOM    107    O MOL     1       6.632   8.730  22.619  1.00  0.00           O  \nATOM    108    O MOL     1       3.532   8.835  22.593  1.00  0.00           O  \nATOM    109    O MOL     1       3.860   2.761  31.661  1.00  0.00           O  \nATOM    110    O MOL     1       2.756   2.235  31.815  1.00  0.00           O  \nATOM    111    O MOL     1      -1.064   3.293  25.457  1.00  0.00           O  \nATOM    112    O MOL     1      -0.462   1.485  23.178  1.00  0.00           O  \nENDMDL\n",
           "ext": "pdb"
          }
         ],
         "kwargs": {},
         "methodName": "replaceStructure",
         "reconstruc_color_scheme": false,
         "target": "Widget",
         "type": "call_method"
        },
        {
         "args": [
          "this._Q = [[1.0, 0.0, 0.0], [0.0, 1.0, 0.0], [0.0, 0.0, 1.0]]"
         ],
         "kwargs": {},
         "methodName": "executeCode",
         "reconstruc_color_scheme": false,
         "target": "Widget",
         "type": "call_method"
        },
        {
         "args": [
          {
           "data": "CRYST1    8.591    9.920   31.691  90.00  90.00  90.00 P 1\nMODEL     1\nATOM      1   Al MOL     1       2.044   1.349  10.339  1.00  0.00          AL  \nATOM      2   Al MOL     1       5.134   1.307  10.418  1.00  0.00          AL  \nATOM      3   Al MOL     1       7.778   1.329  10.612  1.00  0.00          AL  \nATOM      4   Al MOL     1       0.447   3.853  10.626  1.00  0.00          AL  \nATOM      5   Al MOL     1       3.463   3.777  10.399  1.00  0.00          AL  \nATOM      6   Al MOL     1       6.355   3.877  10.562  1.00  0.00          AL  \nATOM      7   Al MOL     1       1.940   6.368  10.728  1.00  0.00          AL  \nATOM      8   Al MOL     1       4.907   6.234  10.473  1.00  0.00          AL  \nATOM      9   Al MOL     1       7.843   6.220  10.525  1.00  0.00          AL  \nATOM     10   Al MOL     1       0.676   8.762  10.651  1.00  0.00          AL  \nATOM     11   Al MOL     1       3.396   8.790  10.648  1.00  0.00          AL  \nATOM     12   Al MOL     1       6.354   8.861  10.607  1.00  0.00          AL  \nATOM     13   Al MOL     1       0.622   2.267  12.881  1.00  0.00          AL  \nATOM     14   Al MOL     1       3.470   2.195  12.728  1.00  0.00          AL  \nATOM     15   Al MOL     1       6.278   2.145  12.916  1.00  0.00          AL  \nATOM     16   Al MOL     1       2.006   4.656  12.937  1.00  0.00          AL  \nATOM     17   Al MOL     1       4.863   4.726  12.770  1.00  0.00          AL  \nATOM     18   Al MOL     1       7.630   4.501  12.971  1.00  0.00          AL  \nATOM     19   Al MOL     1       0.625   7.184  12.864  1.00  0.00          AL  \nATOM     20   Al MOL     1       3.382   7.216  12.923  1.00  0.00          AL  \nATOM     21   Al MOL     1       6.512   7.086  12.833  1.00  0.00          AL  \nATOM     22   Al MOL     1       1.979   9.710  12.831  1.00  0.00          AL  \nATOM     23   Al MOL     1       4.946   9.696  12.800  1.00  0.00          AL  \nATOM     24   Al MOL     1       7.906   9.768  12.877  1.00  0.00          AL  \nATOM     25   Al MOL     1       0.635   0.561  15.234  1.00  0.00          AL  \nATOM     26   Al MOL     1       3.485   0.537  15.076  1.00  0.00          AL  \nATOM     27   Al MOL     1       6.355   0.468  15.190  1.00  0.00          AL  \nATOM     28   Al MOL     1       2.060   3.156  15.155  1.00  0.00          AL  \nATOM     29   Al MOL     1       4.850   3.029  15.153  1.00  0.00          AL  \nATOM     30   Al MOL     1       7.807   3.015  15.174  1.00  0.00          AL  \nATOM     31   Al MOL     1       0.626   5.538  15.099  1.00  0.00          AL  \nATOM     32   Al MOL     1       3.469   5.590  15.102  1.00  0.00          AL  \nATOM     33   Al MOL     1       6.389   5.411  15.025  1.00  0.00          AL  \nATOM     34   Al MOL     1       2.178   8.077  15.152  1.00  0.00          AL  \nATOM     35   Al MOL     1       4.952   8.011  15.008  1.00  0.00          AL  \nATOM     36   Al MOL     1       7.953   7.961  15.066  1.00  0.00          AL  \nATOM     37   Al MOL     1       2.031   1.374  17.396  1.00  0.00          AL  \nATOM     38   Al MOL     1       4.976   1.289  17.395  1.00  0.00          AL  \nATOM     39   Al MOL     1       7.922   1.491  17.511  1.00  0.00          AL  \nATOM     40   Al MOL     1       0.767   3.875  17.535  1.00  0.00          AL  \nATOM     41   Al MOL     1       3.573   3.929  17.403  1.00  0.00          AL  \nATOM     42   Al MOL     1       6.438   3.788  17.415  1.00  0.00          AL  \nATOM     43   Al MOL     1       2.109   6.465  17.484  1.00  0.00          AL  \nATOM     44   Al MOL     1       4.998   6.354  17.412  1.00  0.00          AL  \nATOM     45   Al MOL     1       7.815   6.355  17.361  1.00  0.00          AL  \nATOM     46   Al MOL     1       0.692   8.879  17.437  1.00  0.00          AL  \nATOM     47   Al MOL     1       3.572   8.966  17.399  1.00  0.00          AL  \nATOM     48   Al MOL     1       6.511   8.919  17.280  1.00  0.00          AL  \nATOM     49   Al MOL     1       0.693   2.235  19.872  1.00  0.00          AL  \nATOM     50   Al MOL     1       3.596   2.167  19.704  1.00  0.00          AL  \nATOM     51   Al MOL     1       6.496   2.230  19.736  1.00  0.00          AL  \nATOM     52   Al MOL     1       2.041   4.705  19.819  1.00  0.00          AL  \nATOM     53   Al MOL     1       4.844   4.765  19.721  1.00  0.00          AL  \nATOM     54   Al MOL     1       7.747   4.835  19.666  1.00  0.00          AL  \nATOM     55   Al MOL     1       0.742   7.081  19.651  1.00  0.00          AL  \nATOM     56   Al MOL     1       3.523   7.220  19.604  1.00  0.00          AL  \nATOM     57   Al MOL     1       6.573   7.280  19.548  1.00  0.00          AL  \nATOM     58   Al MOL     1       2.243   9.622  19.662  1.00  0.00          AL  \nATOM     59   Al MOL     1       5.079   9.753  19.742  1.00  0.00          AL  \nATOM     60   Al MOL     1       7.911   9.703  19.723  1.00  0.00          AL  \nATOM     61   Al MOL     1       0.589   0.541  21.894  1.00  0.00          AL  \nATOM     62   Al MOL     1       3.577   0.327  23.620  1.00  0.00          AL  \nATOM     63   Al MOL     1       6.367   0.488  22.092  1.00  0.00          AL  \nATOM     64   Al MOL     1       1.988   2.766  22.358  1.00  0.00          AL  \nATOM     65   Al MOL     1       4.885   3.030  22.066  1.00  0.00          AL  \nATOM     66   Al MOL     1       7.818   2.831  23.701  1.00  0.00          AL  \nATOM     67   Al MOL     1       0.826   5.274  22.200  1.00  0.00          AL  \nATOM     68   Al MOL     1       3.564   5.590  23.700  1.00  0.00          AL  \nATOM     69   Al MOL     1       6.493   5.456  22.119  1.00  0.00          AL  \nATOM     70   Al MOL     1       2.089   7.929  21.989  1.00  0.00          AL  \nATOM     71   Al MOL     1       4.908   7.820  22.073  1.00  0.00          AL  \nATOM     72   Al MOL     1       7.847   7.961  21.925  1.00  0.00          AL  \nATOM     73    O MOL     1      10.506   1.121  22.973  1.00  0.00           O  \nATOM     74    O MOL     1       6.480   3.668  22.656  1.00  0.00           O  \nATOM     75    O MOL     1       4.895   6.139  22.660  1.00  0.00           O  \nATOM     76    O MOL     1       3.655   5.159  25.291  1.00  0.00           O  \nATOM     77    O MOL     1       4.333  -0.643  -0.104  1.00  0.00           O  \nATOM     78    O MOL     1       5.322  -0.365  -0.787  1.00  0.00           O  \nATOM     79    O MOL     1       7.943   6.714   1.344  1.00  0.00           O  \nATOM     80    O MOL     1       7.022   6.634   0.522  1.00  0.00           O  \nATOM     81    O MOL     1       6.649   2.722  -1.109  1.00  0.00           O  \nATOM     82    O MOL     1       7.388   2.519  -0.142  1.00  0.00           O  \nATOM     83    O MOL     1       7.565  -1.469  -2.820  1.00  0.00           O  \nATOM     84    O MOL     1       8.297  -1.265  -1.852  1.00  0.00           O  \nATOM     85    O MOL     1       2.572  11.107  27.958  1.00  0.00           O  \nATOM     86    O MOL     1       2.797  10.831  29.139  1.00  0.00           O  \nATOM     87    O MOL     1       2.302   6.305  22.700  1.00  0.00           O  \nATOM     88    O MOL     1       3.480   3.923  22.737  1.00  0.00           O  \nATOM     89    O MOL     1       4.547   6.405  29.919  1.00  0.00           O  \nATOM     90    O MOL     1       5.310   5.507  30.267  1.00  0.00           O  \nATOM     91    O MOL     1       7.774   7.966   9.921  1.00  0.00           O  \nATOM     92    O MOL     1       6.366   5.542   9.674  1.00  0.00           O  \nATOM     93    O MOL     1       1.968   3.048   9.729  1.00  0.00           O  \nATOM     94    O MOL     1       3.336   5.495   9.818  1.00  0.00           O  \nATOM     95    O MOL     1       7.927   6.244  22.869  1.00  0.00           O  \nATOM     96    O MOL     1       9.360   3.723  23.125  1.00  0.00           O  \nATOM     97    O MOL     1       3.567   0.491   9.784  1.00  0.00           O  \nATOM     98    O MOL     1       4.958   3.028   9.683  1.00  0.00           O  \nATOM     99    O MOL     1       0.628  10.382   9.744  1.00  0.00           O  \nATOM    100    O MOL     1       4.871   7.923   9.946  1.00  0.00           O  \nATOM    101    O MOL     1      -0.370  12.303  27.428  1.00  0.00           O  \nATOM    102    O MOL     1      -0.016  12.452  26.260  1.00  0.00           O  \nATOM    103    O MOL     1       1.764   5.310  -0.391  1.00  0.00           O  \nATOM    104    O MOL     1       1.190   5.400  -1.483  1.00  0.00           O  \nATOM    105    O MOL     1       3.619  10.291  25.233  1.00  0.00           O  \nATOM    106    O MOL     1       4.956  11.331  22.770  1.00  0.00           O  \nATOM    107    O MOL     1       6.377   8.690  22.714  1.00  0.00           O  \nATOM    108    O MOL     1       3.531   8.650  22.833  1.00  0.00           O  \nATOM    109    O MOL     1       4.050   2.699  31.672  1.00  0.00           O  \nATOM    110    O MOL     1       2.986   2.119  31.913  1.00  0.00           O  \nATOM    111    O MOL     1      -1.431   2.818  25.344  1.00  0.00           O  \nATOM    112    O MOL     1      -0.795   1.436  22.660  1.00  0.00           O  \nENDMDL\n",
           "ext": "pdb"
          }
         ],
         "kwargs": {},
         "methodName": "replaceStructure",
         "reconstruc_color_scheme": false,
         "target": "Widget",
         "type": "call_method"
        },
        {
         "args": [
          "this._Q = [[1.0, 0.0, 0.0], [0.0, 1.0, 0.0], [0.0, 0.0, 1.0]]"
         ],
         "kwargs": {},
         "methodName": "executeCode",
         "reconstruc_color_scheme": false,
         "target": "Widget",
         "type": "call_method"
        },
        {
         "args": [
          {
           "data": "CRYST1    8.591    9.920   31.691  90.00  90.00  90.00 P 1\nMODEL     1\nATOM      1   Al MOL     1       1.998   1.159  10.381  1.00  0.00          AL  \nATOM      2   Al MOL     1       4.983   1.211  10.655  1.00  0.00          AL  \nATOM      3   Al MOL     1       7.776   1.191  10.758  1.00  0.00          AL  \nATOM      4   Al MOL     1       0.689   3.824  10.606  1.00  0.00          AL  \nATOM      5   Al MOL     1       3.578   3.766  10.414  1.00  0.00          AL  \nATOM      6   Al MOL     1       6.698   3.624  10.365  1.00  0.00          AL  \nATOM      7   Al MOL     1       2.138   6.277  10.509  1.00  0.00          AL  \nATOM      8   Al MOL     1       4.966   6.279  10.357  1.00  0.00          AL  \nATOM      9   Al MOL     1       8.108   6.148  10.303  1.00  0.00          AL  \nATOM     10   Al MOL     1       0.737   8.539  10.336  1.00  0.00          AL  \nATOM     11   Al MOL     1       3.429   8.673  10.346  1.00  0.00          AL  \nATOM     12   Al MOL     1       6.339   8.761  10.542  1.00  0.00          AL  \nATOM     13   Al MOL     1       0.549   2.236  12.846  1.00  0.00          AL  \nATOM     14   Al MOL     1       3.494   2.213  12.841  1.00  0.00          AL  \nATOM     15   Al MOL     1       6.457   2.380  12.825  1.00  0.00          AL  \nATOM     16   Al MOL     1       2.056   4.688  12.769  1.00  0.00          AL  \nATOM     17   Al MOL     1       5.032   4.723  12.922  1.00  0.00          AL  \nATOM     18   Al MOL     1       7.724   4.841  12.942  1.00  0.00          AL  \nATOM     19   Al MOL     1       0.523   7.391  12.763  1.00  0.00          AL  \nATOM     20   Al MOL     1       3.416   7.104  12.838  1.00  0.00          AL  \nATOM     21   Al MOL     1       6.170   7.149  12.809  1.00  0.00          AL  \nATOM     22   Al MOL     1       2.101   9.513  12.711  1.00  0.00          AL  \nATOM     23   Al MOL     1       4.863   9.687  12.955  1.00  0.00          AL  \nATOM     24   Al MOL     1       7.695   9.562  12.762  1.00  0.00          AL  \nATOM     25   Al MOL     1       0.668   0.592  15.065  1.00  0.00          AL  \nATOM     26   Al MOL     1       3.522   0.558  15.231  1.00  0.00          AL  \nATOM     27   Al MOL     1       6.505   0.701  15.108  1.00  0.00          AL  \nATOM     28   Al MOL     1       2.144   3.064  15.160  1.00  0.00          AL  \nATOM     29   Al MOL     1       5.109   3.157  15.194  1.00  0.00          AL  \nATOM     30   Al MOL     1       7.851   3.167  15.091  1.00  0.00          AL  \nATOM     31   Al MOL     1       0.723   5.623  15.101  1.00  0.00          AL  \nATOM     32   Al MOL     1       3.443   5.482  15.020  1.00  0.00          AL  \nATOM     33   Al MOL     1       6.536   5.605  15.107  1.00  0.00          AL  \nATOM     34   Al MOL     1       1.972   7.965  15.032  1.00  0.00          AL  \nATOM     35   Al MOL     1       4.836   8.046  15.201  1.00  0.00          AL  \nATOM     36   Al MOL     1       7.695   8.096  15.182  1.00  0.00          AL  \nATOM     37   Al MOL     1       2.274   1.360  17.480  1.00  0.00          AL  \nATOM     38   Al MOL     1       5.119   1.516  17.396  1.00  0.00          AL  \nATOM     39   Al MOL     1       7.813   1.443  17.272  1.00  0.00          AL  \nATOM     40   Al MOL     1       0.700   3.902  17.419  1.00  0.00          AL  \nATOM     41   Al MOL     1       3.550   3.930  17.484  1.00  0.00          AL  \nATOM     42   Al MOL     1       6.495   4.013  17.372  1.00  0.00          AL  \nATOM     43   Al MOL     1       2.122   6.336  17.472  1.00  0.00          AL  \nATOM     44   Al MOL     1       4.957   6.322  17.542  1.00  0.00          AL  \nATOM     45   Al MOL     1       7.877   6.442  17.601  1.00  0.00          AL  \nATOM     46   Al MOL     1       0.814   8.906  17.344  1.00  0.00          AL  \nATOM     47   Al MOL     1       3.429   8.757  17.424  1.00  0.00          AL  \nATOM     48   Al MOL     1       6.386   8.781  17.450  1.00  0.00          AL  \nATOM     49   Al MOL     1       0.552   2.167  19.489  1.00  0.00          AL  \nATOM     50   Al MOL     1       3.461   2.324  19.838  1.00  0.00          AL  \nATOM     51   Al MOL     1       6.364   2.128  19.791  1.00  0.00          AL  \nATOM     52   Al MOL     1       2.132   4.955  19.812  1.00  0.00          AL  \nATOM     53   Al MOL     1       5.001   4.649  19.752  1.00  0.00          AL  \nATOM     54   Al MOL     1       7.992   4.681  19.656  1.00  0.00          AL  \nATOM     55   Al MOL     1       0.654   7.315  19.737  1.00  0.00          AL  \nATOM     56   Al MOL     1       3.436   7.195  19.851  1.00  0.00          AL  \nATOM     57   Al MOL     1       6.463   7.084  19.779  1.00  0.00          AL  \nATOM     58   Al MOL     1       2.041   9.722  19.615  1.00  0.00          AL  \nATOM     59   Al MOL     1       4.866   9.649  19.491  1.00  0.00          AL  \nATOM     60   Al MOL     1       7.816   9.740  19.687  1.00  0.00          AL  \nATOM     61   Al MOL     1       0.660   0.398  21.947  1.00  0.00          AL  \nATOM     62   Al MOL     1       3.320   0.525  23.565  1.00  0.00          AL  \nATOM     63   Al MOL     1       6.319   0.435  21.968  1.00  0.00          AL  \nATOM     64   Al MOL     1       1.943   2.998  21.996  1.00  0.00          AL  \nATOM     65   Al MOL     1       4.715   2.791  22.222  1.00  0.00          AL  \nATOM     66   Al MOL     1       7.710   2.863  23.567  1.00  0.00          AL  \nATOM     67   Al MOL     1       0.560   5.495  22.169  1.00  0.00          AL  \nATOM     68   Al MOL     1       3.530   5.386  23.939  1.00  0.00          AL  \nATOM     69   Al MOL     1       6.151   5.270  22.216  1.00  0.00          AL  \nATOM     70   Al MOL     1       2.250   7.656  22.148  1.00  0.00          AL  \nATOM     71   Al MOL     1       4.843   7.993  22.147  1.00  0.00          AL  \nATOM     72   Al MOL     1       7.887   7.946  21.965  1.00  0.00          AL  \nATOM     73    O MOL     1      10.569   1.398  22.688  1.00  0.00           O  \nATOM     74    O MOL     1       6.314   3.750  22.878  1.00  0.00           O  \nATOM     75    O MOL     1       4.863   6.384  22.860  1.00  0.00           O  \nATOM     76    O MOL     1       3.713   5.659  25.576  1.00  0.00           O  \nATOM     77    O MOL     1       4.635  -0.550   0.021  1.00  0.00           O  \nATOM     78    O MOL     1       5.574  -0.429  -0.773  1.00  0.00           O  \nATOM     79    O MOL     1       8.240   7.043   1.341  1.00  0.00           O  \nATOM     80    O MOL     1       7.227   6.567   0.822  1.00  0.00           O  \nATOM     81    O MOL     1       6.814   2.564  -1.132  1.00  0.00           O  \nATOM     82    O MOL     1       7.319   2.645  -0.010  1.00  0.00           O  \nATOM     83    O MOL     1       7.718  -1.599  -2.724  1.00  0.00           O  \nATOM     84    O MOL     1       8.401  -1.381  -1.717  1.00  0.00           O  \nATOM     85    O MOL     1       2.650  11.148  28.111  1.00  0.00           O  \nATOM     86    O MOL     1       2.336  10.900  29.280  1.00  0.00           O  \nATOM     87    O MOL     1       2.033   6.193  23.060  1.00  0.00           O  \nATOM     88    O MOL     1       3.511   3.987  22.884  1.00  0.00           O  \nATOM     89    O MOL     1       4.307   6.628  29.809  1.00  0.00           O  \nATOM     90    O MOL     1       5.130   5.811  30.223  1.00  0.00           O  \nATOM     91    O MOL     1       7.734   7.822   9.718  1.00  0.00           O  \nATOM     92    O MOL     1       6.436   5.401   9.973  1.00  0.00           O  \nATOM     93    O MOL     1       2.093   2.913   9.837  1.00  0.00           O  \nATOM     94    O MOL     1       3.554   5.400   9.615  1.00  0.00           O  \nATOM     95    O MOL     1       7.587   6.219  22.604  1.00  0.00           O  \nATOM     96    O MOL     1       9.136   3.748  22.587  1.00  0.00           O  \nATOM     97    O MOL     1       3.555   0.491   9.712  1.00  0.00           O  \nATOM     98    O MOL     1       5.056   2.915   9.880  1.00  0.00           O  \nATOM     99    O MOL     1       0.513  10.283   9.768  1.00  0.00           O  \nATOM    100    O MOL     1       4.949   7.916   9.639  1.00  0.00           O  \nATOM    101    O MOL     1       0.259  12.461  27.397  1.00  0.00           O  \nATOM    102    O MOL     1       0.478  12.406  26.182  1.00  0.00           O  \nATOM    103    O MOL     1       1.726   5.085  -0.325  1.00  0.00           O  \nATOM    104    O MOL     1       1.198   5.458  -1.374  1.00  0.00           O  \nATOM    105    O MOL     1       2.975  10.384  25.247  1.00  0.00           O  \nATOM    106    O MOL     1       4.858  11.180  22.880  1.00  0.00           O  \nATOM    107    O MOL     1       6.426   8.830  22.738  1.00  0.00           O  \nATOM    108    O MOL     1       3.359   8.765  23.072  1.00  0.00           O  \nATOM    109    O MOL     1       4.026   2.507  31.636  1.00  0.00           O  \nATOM    110    O MOL     1       2.931   2.245  32.137  1.00  0.00           O  \nATOM    111    O MOL     1      -0.936   2.727  25.211  1.00  0.00           O  \nATOM    112    O MOL     1      -0.860   1.244  22.811  1.00  0.00           O  \nENDMDL\n",
           "ext": "pdb"
          }
         ],
         "kwargs": {},
         "methodName": "replaceStructure",
         "reconstruc_color_scheme": false,
         "target": "Widget",
         "type": "call_method"
        },
        {
         "args": [
          "this._Q = [[1.0, 0.0, 0.0], [0.0, 1.0, 0.0], [0.0, 0.0, 1.0]]"
         ],
         "kwargs": {},
         "methodName": "executeCode",
         "reconstruc_color_scheme": false,
         "target": "Widget",
         "type": "call_method"
        },
        {
         "args": [
          {
           "data": "CRYST1    8.591    9.920   31.691  90.00  90.00  90.00 P 1\nMODEL     1\nATOM      1   Al MOL     1       2.155   1.227  10.364  1.00  0.00          AL  \nATOM      2   Al MOL     1       5.214   1.221  10.431  1.00  0.00          AL  \nATOM      3   Al MOL     1       7.919   1.381  10.589  1.00  0.00          AL  \nATOM      4   Al MOL     1       0.687   3.745  10.556  1.00  0.00          AL  \nATOM      5   Al MOL     1       3.563   3.781  10.462  1.00  0.00          AL  \nATOM      6   Al MOL     1       6.615   3.622  10.347  1.00  0.00          AL  \nATOM      7   Al MOL     1       1.949   6.134  10.568  1.00  0.00          AL  \nATOM      8   Al MOL     1       5.028   6.207  10.326  1.00  0.00          AL  \nATOM      9   Al MOL     1       7.987   6.198  10.316  1.00  0.00          AL  \nATOM     10   Al MOL     1       0.865   8.612  10.309  1.00  0.00          AL  \nATOM     11   Al MOL     1       3.547   8.669  10.525  1.00  0.00          AL  \nATOM     12   Al MOL     1       6.488   8.778  10.550  1.00  0.00          AL  \nATOM     13   Al MOL     1       0.707   2.123  12.747  1.00  0.00          AL  \nATOM     14   Al MOL     1       3.611   2.150  12.736  1.00  0.00          AL  \nATOM     15   Al MOL     1       6.431   2.160  12.843  1.00  0.00          AL  \nATOM     16   Al MOL     1       2.221   4.700  12.876  1.00  0.00          AL  \nATOM     17   Al MOL     1       5.090   4.798  12.684  1.00  0.00          AL  \nATOM     18   Al MOL     1       7.767   4.503  12.736  1.00  0.00          AL  \nATOM     19   Al MOL     1       0.839   7.124  12.898  1.00  0.00          AL  \nATOM     20   Al MOL     1       3.609   7.211  12.835  1.00  0.00          AL  \nATOM     21   Al MOL     1       6.565   7.137  12.769  1.00  0.00          AL  \nATOM     22   Al MOL     1       2.093   9.531  12.822  1.00  0.00          AL  \nATOM     23   Al MOL     1       4.983   9.552  12.715  1.00  0.00          AL  \nATOM     24   Al MOL     1       7.871   9.706  12.782  1.00  0.00          AL  \nATOM     25   Al MOL     1       0.712   0.603  15.196  1.00  0.00          AL  \nATOM     26   Al MOL     1       3.509   0.540  15.003  1.00  0.00          AL  \nATOM     27   Al MOL     1       6.277   0.584  15.205  1.00  0.00          AL  \nATOM     28   Al MOL     1       2.132   3.041  15.045  1.00  0.00          AL  \nATOM     29   Al MOL     1       4.953   3.089  15.078  1.00  0.00          AL  \nATOM     30   Al MOL     1       7.755   2.974  15.039  1.00  0.00          AL  \nATOM     31   Al MOL     1       0.674   5.433  15.080  1.00  0.00          AL  \nATOM     32   Al MOL     1       3.520   5.580  15.117  1.00  0.00          AL  \nATOM     33   Al MOL     1       6.263   5.387  15.060  1.00  0.00          AL  \nATOM     34   Al MOL     1       2.215   8.001  15.124  1.00  0.00          AL  \nATOM     35   Al MOL     1       5.048   8.088  15.096  1.00  0.00          AL  \nATOM     36   Al MOL     1       7.928   8.001  15.100  1.00  0.00          AL  \nATOM     37   Al MOL     1       2.022   1.364  17.378  1.00  0.00          AL  \nATOM     38   Al MOL     1       4.846   1.395  17.401  1.00  0.00          AL  \nATOM     39   Al MOL     1       7.743   1.503  17.390  1.00  0.00          AL  \nATOM     40   Al MOL     1       0.590   4.023  17.395  1.00  0.00          AL  \nATOM     41   Al MOL     1       3.526   3.905  17.395  1.00  0.00          AL  \nATOM     42   Al MOL     1       6.275   3.827  17.357  1.00  0.00          AL  \nATOM     43   Al MOL     1       2.073   6.423  17.357  1.00  0.00          AL  \nATOM     44   Al MOL     1       4.876   6.425  17.447  1.00  0.00          AL  \nATOM     45   Al MOL     1       7.711   6.294  17.407  1.00  0.00          AL  \nATOM     46   Al MOL     1       0.589   8.813  17.560  1.00  0.00          AL  \nATOM     47   Al MOL     1       3.476   8.995  17.464  1.00  0.00          AL  \nATOM     48   Al MOL     1       6.132   8.885  17.480  1.00  0.00          AL  \nATOM     49   Al MOL     1       0.721   2.189  19.704  1.00  0.00          AL  \nATOM     50   Al MOL     1       3.507   2.213  19.627  1.00  0.00          AL  \nATOM     51   Al MOL     1       6.386   2.237  19.687  1.00  0.00          AL  \nATOM     52   Al MOL     1       2.179   4.485  19.710  1.00  0.00          AL  \nATOM     53   Al MOL     1       4.896   4.679  19.889  1.00  0.00          AL  \nATOM     54   Al MOL     1       7.850   4.632  19.715  1.00  0.00          AL  \nATOM     55   Al MOL     1       0.669   6.960  19.736  1.00  0.00          AL  \nATOM     56   Al MOL     1       3.440   7.143  19.677  1.00  0.00          AL  \nATOM     57   Al MOL     1       6.234   7.188  19.694  1.00  0.00          AL  \nATOM     58   Al MOL     1       2.058   9.617  19.668  1.00  0.00          AL  \nATOM     59   Al MOL     1       4.939   9.773  19.808  1.00  0.00          AL  \nATOM     60   Al MOL     1       7.723   9.538  19.792  1.00  0.00          AL  \nATOM     61   Al MOL     1       0.403   0.632  21.899  1.00  0.00          AL  \nATOM     62   Al MOL     1       3.302   0.612  23.656  1.00  0.00          AL  \nATOM     63   Al MOL     1       6.254   0.480  22.223  1.00  0.00          AL  \nATOM     64   Al MOL     1       1.942   2.995  22.164  1.00  0.00          AL  \nATOM     65   Al MOL     1       4.847   2.933  22.270  1.00  0.00          AL  \nATOM     66   Al MOL     1       7.850   2.970  23.648  1.00  0.00          AL  \nATOM     67   Al MOL     1       0.587   5.585  22.115  1.00  0.00          AL  \nATOM     68   Al MOL     1       3.364   5.472  23.689  1.00  0.00          AL  \nATOM     69   Al MOL     1       6.183   5.371  22.188  1.00  0.00          AL  \nATOM     70   Al MOL     1       1.766   8.144  22.241  1.00  0.00          AL  \nATOM     71   Al MOL     1       4.616   7.841  22.085  1.00  0.00          AL  \nATOM     72   Al MOL     1       7.647   8.019  21.984  1.00  0.00          AL  \nATOM     73    O MOL     1      10.593   1.311  22.465  1.00  0.00           O  \nATOM     74    O MOL     1       6.366   3.883  23.087  1.00  0.00           O  \nATOM     75    O MOL     1       4.750   6.294  22.898  1.00  0.00           O  \nATOM     76    O MOL     1       3.186   5.436  25.394  1.00  0.00           O  \nATOM     77    O MOL     1       4.981  -0.632   0.166  1.00  0.00           O  \nATOM     78    O MOL     1       5.799  -0.534  -0.751  1.00  0.00           O  \nATOM     79    O MOL     1       8.418   7.406   1.318  1.00  0.00           O  \nATOM     80    O MOL     1       7.572   6.563   1.025  1.00  0.00           O  \nATOM     81    O MOL     1       7.243   2.569  -1.233  1.00  0.00           O  \nATOM     82    O MOL     1       7.179   2.705  -0.011  1.00  0.00           O  \nATOM     83    O MOL     1       7.987  -1.807  -2.565  1.00  0.00           O  \nATOM     84    O MOL     1       8.543  -1.458  -1.521  1.00  0.00           O  \nATOM     85    O MOL     1       3.052  11.133  28.884  1.00  0.00           O  \nATOM     86    O MOL     1       1.976  10.796  29.379  1.00  0.00           O  \nATOM     87    O MOL     1       2.070   6.415  22.808  1.00  0.00           O  \nATOM     88    O MOL     1       3.465   3.767  22.952  1.00  0.00           O  \nATOM     89    O MOL     1       4.054   6.933  29.758  1.00  0.00           O  \nATOM     90    O MOL     1       4.926   6.163  30.179  1.00  0.00           O  \nATOM     91    O MOL     1       7.868   7.934   9.699  1.00  0.00           O  \nATOM     92    O MOL     1       6.458   5.359   9.594  1.00  0.00           O  \nATOM     93    O MOL     1       2.138   2.954   9.708  1.00  0.00           O  \nATOM     94    O MOL     1       3.458   5.460   9.711  1.00  0.00           O  \nATOM     95    O MOL     1       7.629   6.284  22.720  1.00  0.00           O  \nATOM     96    O MOL     1       9.238   3.821  22.961  1.00  0.00           O  \nATOM     97    O MOL     1       3.676   0.468   9.785  1.00  0.00           O  \nATOM     98    O MOL     1       5.010   2.929   9.753  1.00  0.00           O  \nATOM     99    O MOL     1       0.683  10.347   9.687  1.00  0.00           O  \nATOM    100    O MOL     1       5.053   7.926   9.749  1.00  0.00           O  \nATOM    101    O MOL     1       0.912  12.621  27.086  1.00  0.00           O  \nATOM    102    O MOL     1       0.768  12.443  25.893  1.00  0.00           O  \nATOM    103    O MOL     1       1.749   4.964  -0.306  1.00  0.00           O  \nATOM    104    O MOL     1       1.014   5.389  -1.202  1.00  0.00           O  \nATOM    105    O MOL     1       2.502  10.464  25.106  1.00  0.00           O  \nATOM    106    O MOL     1       4.789  11.299  23.113  1.00  0.00           O  \nATOM    107    O MOL     1       6.170   8.737  22.832  1.00  0.00           O  \nATOM    108    O MOL     1       3.287   8.954  22.907  1.00  0.00           O  \nATOM    109    O MOL     1       3.808   2.437  31.580  1.00  0.00           O  \nATOM    110    O MOL     1       2.898   2.321  32.402  1.00  0.00           O  \nATOM    111    O MOL     1      -0.784   3.280  25.402  1.00  0.00           O  \nATOM    112    O MOL     1      -0.870   1.340  23.113  1.00  0.00           O  \nENDMDL\n",
           "ext": "pdb"
          }
         ],
         "kwargs": {},
         "methodName": "replaceStructure",
         "reconstruc_color_scheme": false,
         "target": "Widget",
         "type": "call_method"
        },
        {
         "args": [
          "this._Q = [[1.0, 0.0, 0.0], [0.0, 1.0, 0.0], [0.0, 0.0, 1.0]]"
         ],
         "kwargs": {},
         "methodName": "executeCode",
         "reconstruc_color_scheme": false,
         "target": "Widget",
         "type": "call_method"
        },
        {
         "args": [
          {
           "data": "CRYST1    8.591    9.920   31.691  90.00  90.00  90.00 P 1\nMODEL     1\nATOM      1   Al MOL     1       2.294   1.234  10.451  1.00  0.00          AL  \nATOM      2   Al MOL     1       5.192   1.253  10.571  1.00  0.00          AL  \nATOM      3   Al MOL     1       7.959   1.289  10.626  1.00  0.00          AL  \nATOM      4   Al MOL     1       0.862   3.809  10.576  1.00  0.00          AL  \nATOM      5   Al MOL     1       3.670   3.804  10.554  1.00  0.00          AL  \nATOM      6   Al MOL     1       6.741   3.737  10.446  1.00  0.00          AL  \nATOM      7   Al MOL     1       2.257   6.204  10.458  1.00  0.00          AL  \nATOM      8   Al MOL     1       5.057   6.252  10.409  1.00  0.00          AL  \nATOM      9   Al MOL     1       8.121   6.236  10.381  1.00  0.00          AL  \nATOM     10   Al MOL     1       0.933   8.653  10.399  1.00  0.00          AL  \nATOM     11   Al MOL     1       3.512   8.697  10.400  1.00  0.00          AL  \nATOM     12   Al MOL     1       6.490   8.865  10.591  1.00  0.00          AL  \nATOM     13   Al MOL     1       0.847   2.152  12.797  1.00  0.00          AL  \nATOM     14   Al MOL     1       3.609   2.164  12.764  1.00  0.00          AL  \nATOM     15   Al MOL     1       6.410   2.208  12.826  1.00  0.00          AL  \nATOM     16   Al MOL     1       2.241   4.729  12.842  1.00  0.00          AL  \nATOM     17   Al MOL     1       4.959   4.709  12.967  1.00  0.00          AL  \nATOM     18   Al MOL     1       7.910   4.575  12.683  1.00  0.00          AL  \nATOM     19   Al MOL     1       0.578   7.067  12.965  1.00  0.00          AL  \nATOM     20   Al MOL     1       3.484   7.072  12.833  1.00  0.00          AL  \nATOM     21   Al MOL     1       6.384   7.124  12.839  1.00  0.00          AL  \nATOM     22   Al MOL     1       2.088   9.491  12.702  1.00  0.00          AL  \nATOM     23   Al MOL     1       4.853   9.500  12.869  1.00  0.00          AL  \nATOM     24   Al MOL     1       7.727   9.579  12.883  1.00  0.00          AL  \nATOM     25   Al MOL     1       0.597   0.314  15.024  1.00  0.00          AL  \nATOM     26   Al MOL     1       3.436   0.328  14.946  1.00  0.00          AL  \nATOM     27   Al MOL     1       6.482   0.431  15.127  1.00  0.00          AL  \nATOM     28   Al MOL     1       2.228   2.926  14.935  1.00  0.00          AL  \nATOM     29   Al MOL     1       5.026   2.909  15.113  1.00  0.00          AL  \nATOM     30   Al MOL     1       7.939   2.792  15.061  1.00  0.00          AL  \nATOM     31   Al MOL     1       0.603   5.214  15.114  1.00  0.00          AL  \nATOM     32   Al MOL     1       3.549   5.450  15.123  1.00  0.00          AL  \nATOM     33   Al MOL     1       6.395   5.345  15.125  1.00  0.00          AL  \nATOM     34   Al MOL     1       2.045   7.921  15.198  1.00  0.00          AL  \nATOM     35   Al MOL     1       5.062   7.898  15.155  1.00  0.00          AL  \nATOM     36   Al MOL     1       7.778   7.836  15.156  1.00  0.00          AL  \nATOM     37   Al MOL     1       2.002   1.403  17.224  1.00  0.00          AL  \nATOM     38   Al MOL     1       4.841   1.335  17.353  1.00  0.00          AL  \nATOM     39   Al MOL     1       7.788   1.215  17.324  1.00  0.00          AL  \nATOM     40   Al MOL     1       0.557   3.878  17.353  1.00  0.00          AL  \nATOM     41   Al MOL     1       3.364   3.818  17.428  1.00  0.00          AL  \nATOM     42   Al MOL     1       6.251   3.798  17.448  1.00  0.00          AL  \nATOM     43   Al MOL     1       2.034   6.208  17.350  1.00  0.00          AL  \nATOM     44   Al MOL     1       4.951   6.208  17.500  1.00  0.00          AL  \nATOM     45   Al MOL     1       7.693   6.125  17.384  1.00  0.00          AL  \nATOM     46   Al MOL     1       0.401   8.623  17.388  1.00  0.00          AL  \nATOM     47   Al MOL     1       3.398   8.847  17.427  1.00  0.00          AL  \nATOM     48   Al MOL     1       6.174   8.708  17.472  1.00  0.00          AL  \nATOM     49   Al MOL     1       0.386   2.113  19.552  1.00  0.00          AL  \nATOM     50   Al MOL     1       3.278   2.268  19.721  1.00  0.00          AL  \nATOM     51   Al MOL     1       6.134   2.327  19.784  1.00  0.00          AL  \nATOM     52   Al MOL     1       1.910   4.583  19.594  1.00  0.00          AL  \nATOM     53   Al MOL     1       4.713   4.701  19.888  1.00  0.00          AL  \nATOM     54   Al MOL     1       7.721   4.634  19.682  1.00  0.00          AL  \nATOM     55   Al MOL     1       0.575   7.043  19.609  1.00  0.00          AL  \nATOM     56   Al MOL     1       3.312   7.159  19.723  1.00  0.00          AL  \nATOM     57   Al MOL     1       6.147   7.131  19.793  1.00  0.00          AL  \nATOM     58   Al MOL     1       1.831   9.701  19.621  1.00  0.00          AL  \nATOM     59   Al MOL     1       4.615   9.736  19.704  1.00  0.00          AL  \nATOM     60   Al MOL     1       7.610   9.506  19.554  1.00  0.00          AL  \nATOM     61   Al MOL     1       0.544   0.654  21.951  1.00  0.00          AL  \nATOM     62   Al MOL     1       3.234   0.683  23.592  1.00  0.00          AL  \nATOM     63   Al MOL     1       6.214   0.667  22.012  1.00  0.00          AL  \nATOM     64   Al MOL     1       2.074   3.202  21.942  1.00  0.00          AL  \nATOM     65   Al MOL     1       4.783   3.197  22.274  1.00  0.00          AL  \nATOM     66   Al MOL     1       7.787   3.196  23.522  1.00  0.00          AL  \nATOM     67   Al MOL     1       0.422   5.711  22.049  1.00  0.00          AL  \nATOM     68   Al MOL     1       3.315   5.633  23.544  1.00  0.00          AL  \nATOM     69   Al MOL     1       6.230   5.570  22.061  1.00  0.00          AL  \nATOM     70   Al MOL     1       1.643   8.200  22.163  1.00  0.00          AL  \nATOM     71   Al MOL     1       4.732   8.131  21.969  1.00  0.00          AL  \nATOM     72   Al MOL     1       7.581   8.053  21.728  1.00  0.00          AL  \nATOM     73    O MOL     1      10.501   1.622  22.718  1.00  0.00           O  \nATOM     74    O MOL     1       6.123   3.989  23.051  1.00  0.00           O  \nATOM     75    O MOL     1       4.674   6.405  22.758  1.00  0.00           O  \nATOM     76    O MOL     1       3.310   5.431  25.314  1.00  0.00           O  \nATOM     77    O MOL     1       5.606  -0.551   0.513  1.00  0.00           O  \nATOM     78    O MOL     1       6.223  -0.448  -0.552  1.00  0.00           O  \nATOM     79    O MOL     1       8.636   7.919   1.601  1.00  0.00           O  \nATOM     80    O MOL     1       7.928   6.922   1.429  1.00  0.00           O  \nATOM     81    O MOL     1       7.916   2.445  -1.298  1.00  0.00           O  \nATOM     82    O MOL     1       7.272   2.665  -0.267  1.00  0.00           O  \nATOM     83    O MOL     1       8.700  -2.024  -2.381  1.00  0.00           O  \nATOM     84    O MOL     1       9.195  -1.798  -1.270  1.00  0.00           O  \nATOM     85    O MOL     1       2.900  10.069  30.173  1.00  0.00           O  \nATOM     86    O MOL     1       2.264  10.566  29.239  1.00  0.00           O  \nATOM     87    O MOL     1       1.807   6.423  22.835  1.00  0.00           O  \nATOM     88    O MOL     1       3.370   3.911  22.912  1.00  0.00           O  \nATOM     89    O MOL     1       3.339   7.453  29.937  1.00  0.00           O  \nATOM     90    O MOL     1       4.404   6.945  30.281  1.00  0.00           O  \nATOM     91    O MOL     1       7.894   7.982   9.871  1.00  0.00           O  \nATOM     92    O MOL     1       6.533   5.449   9.741  1.00  0.00           O  \nATOM     93    O MOL     1       2.273   2.948   9.777  1.00  0.00           O  \nATOM     94    O MOL     1       3.674   5.371   9.616  1.00  0.00           O  \nATOM     95    O MOL     1       7.612   6.495  22.651  1.00  0.00           O  \nATOM     96    O MOL     1       9.180   4.082  22.649  1.00  0.00           O  \nATOM     97    O MOL     1       3.784   0.498   9.703  1.00  0.00           O  \nATOM     98    O MOL     1       5.142   2.959   9.966  1.00  0.00           O  \nATOM     99    O MOL     1       0.786  10.368   9.767  1.00  0.00           O  \nATOM    100    O MOL     1       5.087   7.961   9.859  1.00  0.00           O  \nATOM    101    O MOL     1       1.802  13.127  26.219  1.00  0.00           O  \nATOM    102    O MOL     1       1.120  12.403  25.517  1.00  0.00           O  \nATOM    103    O MOL     1       1.651   4.967  -0.351  1.00  0.00           O  \nATOM    104    O MOL     1       0.633   5.143  -1.025  1.00  0.00           O  \nATOM    105    O MOL     1       3.308  10.418  25.306  1.00  0.00           O  \nATOM    106    O MOL     1       4.610  11.376  22.792  1.00  0.00           O  \nATOM    107    O MOL     1       6.097   8.836  22.815  1.00  0.00           O  \nATOM    108    O MOL     1       3.187   8.995  22.624  1.00  0.00           O  \nATOM    109    O MOL     1       3.792   2.940  32.394  1.00  0.00           O  \nATOM    110    O MOL     1       2.996   2.083  32.783  1.00  0.00           O  \nATOM    111    O MOL     1      -0.734   3.202  25.275  1.00  0.00           O  \nATOM    112    O MOL     1      -0.844   1.508  22.673  1.00  0.00           O  \nENDMDL\n",
           "ext": "pdb"
          }
         ],
         "kwargs": {},
         "methodName": "replaceStructure",
         "reconstruc_color_scheme": false,
         "target": "Widget",
         "type": "call_method"
        },
        {
         "args": [
          "this._Q = [[1.0, 0.0, 0.0], [0.0, 1.0, 0.0], [0.0, 0.0, 1.0]]"
         ],
         "kwargs": {},
         "methodName": "executeCode",
         "reconstruc_color_scheme": false,
         "target": "Widget",
         "type": "call_method"
        },
        {
         "args": [
          {
           "data": "CRYST1    8.591    9.920   31.691  90.00  90.00  90.00 P 1\nMODEL     1\nATOM      1   Al MOL     1       2.065   1.230  10.345  1.00  0.00          AL  \nATOM      2   Al MOL     1       5.134   1.157  10.469  1.00  0.00          AL  \nATOM      3   Al MOL     1       7.838   1.179  10.500  1.00  0.00          AL  \nATOM      4   Al MOL     1       0.714   3.720  10.704  1.00  0.00          AL  \nATOM      5   Al MOL     1       3.591   3.672  10.370  1.00  0.00          AL  \nATOM      6   Al MOL     1       6.566   3.625  10.264  1.00  0.00          AL  \nATOM      7   Al MOL     1       2.164   6.275  10.610  1.00  0.00          AL  \nATOM      8   Al MOL     1       5.014   6.239  10.390  1.00  0.00          AL  \nATOM      9   Al MOL     1       7.935   6.043  10.315  1.00  0.00          AL  \nATOM     10   Al MOL     1       0.746   8.672  10.303  1.00  0.00          AL  \nATOM     11   Al MOL     1       3.516   8.670  10.658  1.00  0.00          AL  \nATOM     12   Al MOL     1       6.478   8.764  10.424  1.00  0.00          AL  \nATOM     13   Al MOL     1       0.779   2.203  12.918  1.00  0.00          AL  \nATOM     14   Al MOL     1       3.532   2.036  12.848  1.00  0.00          AL  \nATOM     15   Al MOL     1       6.409   1.990  12.836  1.00  0.00          AL  \nATOM     16   Al MOL     1       2.259   4.414  12.739  1.00  0.00          AL  \nATOM     17   Al MOL     1       5.073   4.451  12.686  1.00  0.00          AL  \nATOM     18   Al MOL     1       7.889   4.667  12.921  1.00  0.00          AL  \nATOM     19   Al MOL     1       0.654   7.151  12.724  1.00  0.00          AL  \nATOM     20   Al MOL     1       3.608   6.957  12.823  1.00  0.00          AL  \nATOM     21   Al MOL     1       6.489   6.967  12.676  1.00  0.00          AL  \nATOM     22   Al MOL     1       2.148   9.575  12.942  1.00  0.00          AL  \nATOM     23   Al MOL     1       5.143   9.602  12.744  1.00  0.00          AL  \nATOM     24   Al MOL     1       7.913   9.386  12.776  1.00  0.00          AL  \nATOM     25   Al MOL     1       0.417   0.607  15.143  1.00  0.00          AL  \nATOM     26   Al MOL     1       3.420   0.606  15.153  1.00  0.00          AL  \nATOM     27   Al MOL     1       6.303   0.465  15.115  1.00  0.00          AL  \nATOM     28   Al MOL     1       1.997   3.037  15.169  1.00  0.00          AL  \nATOM     29   Al MOL     1       4.855   3.085  15.051  1.00  0.00          AL  \nATOM     30   Al MOL     1       7.782   3.062  15.133  1.00  0.00          AL  \nATOM     31   Al MOL     1       0.635   5.584  15.192  1.00  0.00          AL  \nATOM     32   Al MOL     1       3.439   5.340  14.962  1.00  0.00          AL  \nATOM     33   Al MOL     1       6.257   5.546  15.061  1.00  0.00          AL  \nATOM     34   Al MOL     1       1.909   7.980  15.029  1.00  0.00          AL  \nATOM     35   Al MOL     1       4.778   8.008  15.030  1.00  0.00          AL  \nATOM     36   Al MOL     1       7.666   8.103  15.029  1.00  0.00          AL  \nATOM     37   Al MOL     1       1.974   1.271  17.439  1.00  0.00          AL  \nATOM     38   Al MOL     1       4.751   1.303  17.410  1.00  0.00          AL  \nATOM     39   Al MOL     1       7.641   1.314  17.327  1.00  0.00          AL  \nATOM     40   Al MOL     1       0.656   3.904  17.427  1.00  0.00          AL  \nATOM     41   Al MOL     1       3.474   3.855  17.348  1.00  0.00          AL  \nATOM     42   Al MOL     1       6.360   3.960  17.256  1.00  0.00          AL  \nATOM     43   Al MOL     1       1.809   6.301  17.484  1.00  0.00          AL  \nATOM     44   Al MOL     1       4.808   6.278  17.362  1.00  0.00          AL  \nATOM     45   Al MOL     1       7.589   6.447  17.421  1.00  0.00          AL  \nATOM     46   Al MOL     1       0.446   8.816  17.356  1.00  0.00          AL  \nATOM     47   Al MOL     1       3.214   8.702  17.323  1.00  0.00          AL  \nATOM     48   Al MOL     1       6.373   8.810  17.230  1.00  0.00          AL  \nATOM     49   Al MOL     1       0.620   2.395  19.630  1.00  0.00          AL  \nATOM     50   Al MOL     1       3.426   2.122  19.666  1.00  0.00          AL  \nATOM     51   Al MOL     1       6.324   2.169  19.538  1.00  0.00          AL  \nATOM     52   Al MOL     1       2.205   4.704  19.760  1.00  0.00          AL  \nATOM     53   Al MOL     1       4.963   4.492  19.656  1.00  0.00          AL  \nATOM     54   Al MOL     1       7.645   4.639  19.548  1.00  0.00          AL  \nATOM     55   Al MOL     1       0.344   7.207  19.797  1.00  0.00          AL  \nATOM     56   Al MOL     1       3.384   7.076  19.744  1.00  0.00          AL  \nATOM     57   Al MOL     1       6.311   7.178  19.685  1.00  0.00          AL  \nATOM     58   Al MOL     1       2.017   9.565  19.757  1.00  0.00          AL  \nATOM     59   Al MOL     1       4.770   9.454  19.552  1.00  0.00          AL  \nATOM     60   Al MOL     1       7.679   9.648  19.623  1.00  0.00          AL  \nATOM     61   Al MOL     1       0.505   0.680  21.853  1.00  0.00          AL  \nATOM     62   Al MOL     1       3.362   0.718  23.613  1.00  0.00          AL  \nATOM     63   Al MOL     1       6.191   0.648  22.022  1.00  0.00          AL  \nATOM     64   Al MOL     1       2.010   3.054  22.093  1.00  0.00          AL  \nATOM     65   Al MOL     1       4.732   3.228  21.936  1.00  0.00          AL  \nATOM     66   Al MOL     1       7.669   3.022  23.616  1.00  0.00          AL  \nATOM     67   Al MOL     1       0.641   5.509  22.079  1.00  0.00          AL  \nATOM     68   Al MOL     1       3.365   5.477  23.852  1.00  0.00          AL  \nATOM     69   Al MOL     1       6.169   5.461  22.197  1.00  0.00          AL  \nATOM     70   Al MOL     1       1.999   8.030  22.117  1.00  0.00          AL  \nATOM     71   Al MOL     1       4.717   7.907  22.043  1.00  0.00          AL  \nATOM     72   Al MOL     1       7.822   8.140  22.157  1.00  0.00          AL  \nATOM     73    O MOL     1      10.609   1.422  22.525  1.00  0.00           O  \nATOM     74    O MOL     1       6.157   3.795  22.841  1.00  0.00           O  \nATOM     75    O MOL     1       4.729   6.286  23.014  1.00  0.00           O  \nATOM     76    O MOL     1       3.374   5.640  25.471  1.00  0.00           O  \nATOM     77    O MOL     1       5.968  -0.276   0.683  1.00  0.00           O  \nATOM     78    O MOL     1       6.359  -0.333  -0.486  1.00  0.00           O  \nATOM     79    O MOL     1       8.714   8.123   1.874  1.00  0.00           O  \nATOM     80    O MOL     1       7.947   7.169   1.752  1.00  0.00           O  \nATOM     81    O MOL     1       8.165   1.960  -1.187  1.00  0.00           O  \nATOM     82    O MOL     1       7.404   2.617  -0.473  1.00  0.00           O  \nATOM     83    O MOL     1       9.082  -1.915  -2.393  1.00  0.00           O  \nATOM     84    O MOL     1       9.018  -1.864  -1.163  1.00  0.00           O  \nATOM     85    O MOL     1       2.739  10.312  30.555  1.00  0.00           O  \nATOM     86    O MOL     1       2.537  10.628  29.384  1.00  0.00           O  \nATOM     87    O MOL     1       1.980   6.350  22.915  1.00  0.00           O  \nATOM     88    O MOL     1       3.351   3.870  22.918  1.00  0.00           O  \nATOM     89    O MOL     1       3.206   7.120  30.027  1.00  0.00           O  \nATOM     90    O MOL     1       4.362   7.000  30.456  1.00  0.00           O  \nATOM     91    O MOL     1       7.874   7.799   9.591  1.00  0.00           O  \nATOM     92    O MOL     1       6.433   5.338   9.603  1.00  0.00           O  \nATOM     93    O MOL     1       2.087   2.932   9.709  1.00  0.00           O  \nATOM     94    O MOL     1       3.543   5.357   9.696  1.00  0.00           O  \nATOM     95    O MOL     1       7.671   6.368  22.634  1.00  0.00           O  \nATOM     96    O MOL     1       9.168   3.873  22.868  1.00  0.00           O  \nATOM     97    O MOL     1       3.585   0.416   9.846  1.00  0.00           O  \nATOM     98    O MOL     1       5.028   2.819   9.645  1.00  0.00           O  \nATOM     99    O MOL     1       0.685  10.360   9.545  1.00  0.00           O  \nATOM    100    O MOL     1       4.988   7.911   9.781  1.00  0.00           O  \nATOM    101    O MOL     1       1.859  13.715  25.885  1.00  0.00           O  \nATOM    102    O MOL     1       1.165  12.865  25.364  1.00  0.00           O  \nATOM    103    O MOL     1       1.495   4.765  -0.255  1.00  0.00           O  \nATOM    104    O MOL     1       0.609   5.086  -1.054  1.00  0.00           O  \nATOM    105    O MOL     1       3.134  10.996  25.190  1.00  0.00           O  \nATOM    106    O MOL     1       4.745  11.404  22.679  1.00  0.00           O  \nATOM    107    O MOL     1       6.182   8.790  22.657  1.00  0.00           O  \nATOM    108    O MOL     1       3.371   8.973  22.809  1.00  0.00           O  \nATOM    109    O MOL     1       3.993   2.894  32.987  1.00  0.00           O  \nATOM    110    O MOL     1       2.966   2.255  32.757  1.00  0.00           O  \nATOM    111    O MOL     1      -0.771   3.140  25.275  1.00  0.00           O  \nATOM    112    O MOL     1      -0.950   1.398  22.742  1.00  0.00           O  \nENDMDL\n",
           "ext": "pdb"
          }
         ],
         "kwargs": {},
         "methodName": "replaceStructure",
         "reconstruc_color_scheme": false,
         "target": "Widget",
         "type": "call_method"
        },
        {
         "args": [
          "this._Q = [[1.0, 0.0, 0.0], [0.0, 1.0, 0.0], [0.0, 0.0, 1.0]]"
         ],
         "kwargs": {},
         "methodName": "executeCode",
         "reconstruc_color_scheme": false,
         "target": "Widget",
         "type": "call_method"
        },
        {
         "args": [
          {
           "data": "CRYST1    8.591    9.920   31.691  90.00  90.00  90.00 P 1\nMODEL     1\nATOM      1   Al MOL     1       1.784   1.318  10.153  1.00  0.00          AL  \nATOM      2   Al MOL     1       4.859   1.169  10.371  1.00  0.00          AL  \nATOM      3   Al MOL     1       7.630   1.286  10.586  1.00  0.00          AL  \nATOM      4   Al MOL     1       0.477   3.781  10.665  1.00  0.00          AL  \nATOM      5   Al MOL     1       3.323   3.841  10.394  1.00  0.00          AL  \nATOM      6   Al MOL     1       6.372   3.569  10.326  1.00  0.00          AL  \nATOM      7   Al MOL     1       1.848   6.217  10.499  1.00  0.00          AL  \nATOM      8   Al MOL     1       4.749   6.167  10.446  1.00  0.00          AL  \nATOM      9   Al MOL     1       7.848   6.172  10.375  1.00  0.00          AL  \nATOM     10   Al MOL     1       0.518   8.596  10.253  1.00  0.00          AL  \nATOM     11   Al MOL     1       3.241   8.741  10.666  1.00  0.00          AL  \nATOM     12   Al MOL     1       6.218   8.746  10.528  1.00  0.00          AL  \nATOM     13   Al MOL     1       0.435   2.220  12.728  1.00  0.00          AL  \nATOM     14   Al MOL     1       3.325   2.221  12.760  1.00  0.00          AL  \nATOM     15   Al MOL     1       6.172   2.012  12.681  1.00  0.00          AL  \nATOM     16   Al MOL     1       1.879   4.768  12.749  1.00  0.00          AL  \nATOM     17   Al MOL     1       4.830   4.394  12.673  1.00  0.00          AL  \nATOM     18   Al MOL     1       7.558   4.484  12.870  1.00  0.00          AL  \nATOM     19   Al MOL     1       0.357   7.203  12.808  1.00  0.00          AL  \nATOM     20   Al MOL     1       3.267   7.117  12.779  1.00  0.00          AL  \nATOM     21   Al MOL     1       6.122   7.036  12.793  1.00  0.00          AL  \nATOM     22   Al MOL     1       1.973   9.719  12.683  1.00  0.00          AL  \nATOM     23   Al MOL     1       4.940   9.506  12.868  1.00  0.00          AL  \nATOM     24   Al MOL     1       7.815   9.525  12.761  1.00  0.00          AL  \nATOM     25   Al MOL     1       0.485   0.416  14.975  1.00  0.00          AL  \nATOM     26   Al MOL     1       3.463   0.566  15.045  1.00  0.00          AL  \nATOM     27   Al MOL     1       6.326   0.479  15.010  1.00  0.00          AL  \nATOM     28   Al MOL     1       1.952   2.968  14.904  1.00  0.00          AL  \nATOM     29   Al MOL     1       4.949   2.892  14.977  1.00  0.00          AL  \nATOM     30   Al MOL     1       7.729   2.930  15.060  1.00  0.00          AL  \nATOM     31   Al MOL     1       0.701   5.411  14.990  1.00  0.00          AL  \nATOM     32   Al MOL     1       3.487   5.513  14.811  1.00  0.00          AL  \nATOM     33   Al MOL     1       6.455   5.537  15.138  1.00  0.00          AL  \nATOM     34   Al MOL     1       2.030   8.100  15.010  1.00  0.00          AL  \nATOM     35   Al MOL     1       4.899   7.893  14.969  1.00  0.00          AL  \nATOM     36   Al MOL     1       7.793   8.059  15.042  1.00  0.00          AL  \nATOM     37   Al MOL     1       2.021   1.336  17.308  1.00  0.00          AL  \nATOM     38   Al MOL     1       4.852   1.403  17.255  1.00  0.00          AL  \nATOM     39   Al MOL     1       7.875   1.331  17.501  1.00  0.00          AL  \nATOM     40   Al MOL     1       0.716   3.911  17.264  1.00  0.00          AL  \nATOM     41   Al MOL     1       3.571   3.981  17.112  1.00  0.00          AL  \nATOM     42   Al MOL     1       6.356   3.684  17.233  1.00  0.00          AL  \nATOM     43   Al MOL     1       2.207   6.327  17.176  1.00  0.00          AL  \nATOM     44   Al MOL     1       4.837   6.236  17.258  1.00  0.00          AL  \nATOM     45   Al MOL     1       7.813   6.257  17.338  1.00  0.00          AL  \nATOM     46   Al MOL     1       0.736   8.729  17.337  1.00  0.00          AL  \nATOM     47   Al MOL     1       3.536   8.655  17.216  1.00  0.00          AL  \nATOM     48   Al MOL     1       6.420   8.743  17.295  1.00  0.00          AL  \nATOM     49   Al MOL     1       0.675   2.393  19.649  1.00  0.00          AL  \nATOM     50   Al MOL     1       3.482   2.322  19.438  1.00  0.00          AL  \nATOM     51   Al MOL     1       6.232   2.141  19.620  1.00  0.00          AL  \nATOM     52   Al MOL     1       2.199   4.736  19.494  1.00  0.00          AL  \nATOM     53   Al MOL     1       4.996   4.806  19.726  1.00  0.00          AL  \nATOM     54   Al MOL     1       7.664   4.614  19.538  1.00  0.00          AL  \nATOM     55   Al MOL     1       0.635   7.273  19.622  1.00  0.00          AL  \nATOM     56   Al MOL     1       3.463   7.175  19.683  1.00  0.00          AL  \nATOM     57   Al MOL     1       6.393   7.248  19.780  1.00  0.00          AL  \nATOM     58   Al MOL     1       2.112   9.633  19.593  1.00  0.00          AL  \nATOM     59   Al MOL     1       4.926   9.572  19.384  1.00  0.00          AL  \nATOM     60   Al MOL     1       7.720   9.775  19.741  1.00  0.00          AL  \nATOM     61   Al MOL     1       0.615   0.605  22.039  1.00  0.00          AL  \nATOM     62   Al MOL     1       3.436   0.430  23.562  1.00  0.00          AL  \nATOM     63   Al MOL     1       6.505   0.529  22.356  1.00  0.00          AL  \nATOM     64   Al MOL     1       2.129   2.910  22.076  1.00  0.00          AL  \nATOM     65   Al MOL     1       5.091   2.816  22.236  1.00  0.00          AL  \nATOM     66   Al MOL     1       8.029   3.119  23.539  1.00  0.00          AL  \nATOM     67   Al MOL     1       0.682   5.519  21.758  1.00  0.00          AL  \nATOM     68   Al MOL     1       3.256   5.277  23.641  1.00  0.00          AL  \nATOM     69   Al MOL     1       6.319   5.560  22.202  1.00  0.00          AL  \nATOM     70   Al MOL     1       1.939   7.964  22.191  1.00  0.00          AL  \nATOM     71   Al MOL     1       4.762   7.829  22.050  1.00  0.00          AL  \nATOM     72   Al MOL     1       7.853   8.120  21.908  1.00  0.00          AL  \nATOM     73    O MOL     1      10.679   1.389  22.960  1.00  0.00           O  \nATOM     74    O MOL     1       6.445   3.897  22.881  1.00  0.00           O  \nATOM     75    O MOL     1       4.848   6.229  22.886  1.00  0.00           O  \nATOM     76    O MOL     1       2.938   5.378  25.244  1.00  0.00           O  \nATOM     77    O MOL     1       6.364   0.038   0.762  1.00  0.00           O  \nATOM     78    O MOL     1       5.695  -0.355  -0.199  1.00  0.00           O  \nATOM     79    O MOL     1       8.762   8.396   2.468  1.00  0.00           O  \nATOM     80    O MOL     1       7.877   7.557   2.270  1.00  0.00           O  \nATOM     81    O MOL     1       8.793   1.693  -0.735  1.00  0.00           O  \nATOM     82    O MOL     1       7.693   2.141  -1.075  1.00  0.00           O  \nATOM     83    O MOL     1       9.237  -1.688  -2.155  1.00  0.00           O  \nATOM     84    O MOL     1       8.726  -1.633  -1.029  1.00  0.00           O  \nATOM     85    O MOL     1       2.939  10.687  31.063  1.00  0.00           O  \nATOM     86    O MOL     1       3.065  10.920  29.858  1.00  0.00           O  \nATOM     87    O MOL     1       2.098   6.258  22.545  1.00  0.00           O  \nATOM     88    O MOL     1       3.579   3.806  22.579  1.00  0.00           O  \nATOM     89    O MOL     1       3.842   6.781  30.091  1.00  0.00           O  \nATOM     90    O MOL     1       4.019   6.452  31.262  1.00  0.00           O  \nATOM     91    O MOL     1       7.550   7.838   9.601  1.00  0.00           O  \nATOM     92    O MOL     1       6.284   5.326   9.871  1.00  0.00           O  \nATOM     93    O MOL     1       1.854   3.045   9.658  1.00  0.00           O  \nATOM     94    O MOL     1       3.325   5.452   9.574  1.00  0.00           O  \nATOM     95    O MOL     1       7.849   6.216  22.622  1.00  0.00           O  \nATOM     96    O MOL     1       9.275   3.900  22.480  1.00  0.00           O  \nATOM     97    O MOL     1       3.321   0.500   9.748  1.00  0.00           O  \nATOM     98    O MOL     1       4.784   2.874   9.706  1.00  0.00           O  \nATOM     99    O MOL     1       0.366  10.322   9.592  1.00  0.00           O  \nATOM    100    O MOL     1       4.691   7.861   9.958  1.00  0.00           O  \nATOM    101    O MOL     1       1.775  14.063  26.298  1.00  0.00           O  \nATOM    102    O MOL     1       1.148  13.089  25.826  1.00  0.00           O  \nATOM    103    O MOL     1       1.265   4.646  -0.139  1.00  0.00           O  \nATOM    104    O MOL     1       0.895   4.809  -1.304  1.00  0.00           O  \nATOM    105    O MOL     1       3.337  10.250  25.225  1.00  0.00           O  \nATOM    106    O MOL     1       5.081  11.096  23.045  1.00  0.00           O  \nATOM    107    O MOL     1       6.326   8.744  22.771  1.00  0.00           O  \nATOM    108    O MOL     1       3.411   8.712  22.814  1.00  0.00           O  \nATOM    109    O MOL     1       4.327   2.922  33.456  1.00  0.00           O  \nATOM    110    O MOL     1       3.125   2.742  33.665  1.00  0.00           O  \nATOM    111    O MOL     1      -0.293   3.682  25.264  1.00  0.00           O  \nATOM    112    O MOL     1      -0.683   1.355  23.168  1.00  0.00           O  \nENDMDL\n",
           "ext": "pdb"
          }
         ],
         "kwargs": {},
         "methodName": "replaceStructure",
         "reconstruc_color_scheme": false,
         "target": "Widget",
         "type": "call_method"
        },
        {
         "args": [
          "this._Q = [[1.0, 0.0, 0.0], [0.0, 1.0, 0.0], [0.0, 0.0, 1.0]]"
         ],
         "kwargs": {},
         "methodName": "executeCode",
         "reconstruc_color_scheme": false,
         "target": "Widget",
         "type": "call_method"
        },
        {
         "args": [
          {
           "data": "CRYST1    8.591    9.920   31.691  90.00  90.00  90.00 P 1\nMODEL     1\nATOM      1   Al MOL     1       1.850   1.380  10.256  1.00  0.00          AL  \nATOM      2   Al MOL     1       4.934   1.351  10.318  1.00  0.00          AL  \nATOM      3   Al MOL     1       7.599   1.355  10.679  1.00  0.00          AL  \nATOM      4   Al MOL     1       0.502   3.949  10.613  1.00  0.00          AL  \nATOM      5   Al MOL     1       3.350   3.819  10.265  1.00  0.00          AL  \nATOM      6   Al MOL     1       6.418   3.803  10.463  1.00  0.00          AL  \nATOM      7   Al MOL     1       1.774   6.446  10.344  1.00  0.00          AL  \nATOM      8   Al MOL     1       4.819   6.369  10.263  1.00  0.00          AL  \nATOM      9   Al MOL     1       7.681   6.241  10.362  1.00  0.00          AL  \nATOM     10   Al MOL     1       0.557   8.788  10.375  1.00  0.00          AL  \nATOM     11   Al MOL     1       3.237   8.821  10.421  1.00  0.00          AL  \nATOM     12   Al MOL     1       6.130   8.900  10.437  1.00  0.00          AL  \nATOM     13   Al MOL     1       0.580   2.261  12.706  1.00  0.00          AL  \nATOM     14   Al MOL     1       3.310   2.310  12.638  1.00  0.00          AL  \nATOM     15   Al MOL     1       6.030   2.118  12.958  1.00  0.00          AL  \nATOM     16   Al MOL     1       1.862   4.755  12.680  1.00  0.00          AL  \nATOM     17   Al MOL     1       4.771   4.716  12.747  1.00  0.00          AL  \nATOM     18   Al MOL     1       7.563   4.644  12.810  1.00  0.00          AL  \nATOM     19   Al MOL     1       0.421   7.300  12.811  1.00  0.00          AL  \nATOM     20   Al MOL     1       3.238   7.252  12.595  1.00  0.00          AL  \nATOM     21   Al MOL     1       6.096   7.132  12.787  1.00  0.00          AL  \nATOM     22   Al MOL     1       2.017   9.748  12.670  1.00  0.00          AL  \nATOM     23   Al MOL     1       4.829   9.625  12.812  1.00  0.00          AL  \nATOM     24   Al MOL     1       7.691   9.584  12.799  1.00  0.00          AL  \nATOM     25   Al MOL     1       0.482   0.382  14.934  1.00  0.00          AL  \nATOM     26   Al MOL     1       3.270   0.430  15.059  1.00  0.00          AL  \nATOM     27   Al MOL     1       6.100   0.476  15.127  1.00  0.00          AL  \nATOM     28   Al MOL     1       1.844   2.995  15.021  1.00  0.00          AL  \nATOM     29   Al MOL     1       4.696   3.146  15.069  1.00  0.00          AL  \nATOM     30   Al MOL     1       7.604   2.859  14.903  1.00  0.00          AL  \nATOM     31   Al MOL     1       0.434   5.404  15.103  1.00  0.00          AL  \nATOM     32   Al MOL     1       3.437   5.487  14.890  1.00  0.00          AL  \nATOM     33   Al MOL     1       6.299   5.435  15.054  1.00  0.00          AL  \nATOM     34   Al MOL     1       2.015   7.869  15.002  1.00  0.00          AL  \nATOM     35   Al MOL     1       4.749   7.876  14.900  1.00  0.00          AL  \nATOM     36   Al MOL     1       7.647   7.781  15.036  1.00  0.00          AL  \nATOM     37   Al MOL     1       1.922   1.304  17.367  1.00  0.00          AL  \nATOM     38   Al MOL     1       4.804   1.316  17.290  1.00  0.00          AL  \nATOM     39   Al MOL     1       7.751   1.193  17.319  1.00  0.00          AL  \nATOM     40   Al MOL     1       0.448   3.629  17.347  1.00  0.00          AL  \nATOM     41   Al MOL     1       3.269   3.755  17.208  1.00  0.00          AL  \nATOM     42   Al MOL     1       6.258   3.666  17.273  1.00  0.00          AL  \nATOM     43   Al MOL     1       1.975   6.278  17.182  1.00  0.00          AL  \nATOM     44   Al MOL     1       4.771   6.319  17.369  1.00  0.00          AL  \nATOM     45   Al MOL     1       7.697   6.140  17.307  1.00  0.00          AL  \nATOM     46   Al MOL     1       0.680   8.621  17.394  1.00  0.00          AL  \nATOM     47   Al MOL     1       3.495   8.660  17.352  1.00  0.00          AL  \nATOM     48   Al MOL     1       6.224   8.741  17.218  1.00  0.00          AL  \nATOM     49   Al MOL     1       0.569   2.132  19.474  1.00  0.00          AL  \nATOM     50   Al MOL     1       3.480   2.195  19.583  1.00  0.00          AL  \nATOM     51   Al MOL     1       6.162   2.059  19.616  1.00  0.00          AL  \nATOM     52   Al MOL     1       1.967   4.580  19.561  1.00  0.00          AL  \nATOM     53   Al MOL     1       4.701   4.675  19.575  1.00  0.00          AL  \nATOM     54   Al MOL     1       7.658   4.522  19.581  1.00  0.00          AL  \nATOM     55   Al MOL     1       0.624   6.972  19.643  1.00  0.00          AL  \nATOM     56   Al MOL     1       3.482   7.042  19.704  1.00  0.00          AL  \nATOM     57   Al MOL     1       6.335   7.053  19.583  1.00  0.00          AL  \nATOM     58   Al MOL     1       2.106   9.497  19.469  1.00  0.00          AL  \nATOM     59   Al MOL     1       4.897   9.508  19.552  1.00  0.00          AL  \nATOM     60   Al MOL     1       7.790   9.772  19.605  1.00  0.00          AL  \nATOM     61   Al MOL     1       0.677   0.550  21.713  1.00  0.00          AL  \nATOM     62   Al MOL     1       3.509   0.269  23.653  1.00  0.00          AL  \nATOM     63   Al MOL     1       6.428   0.605  22.065  1.00  0.00          AL  \nATOM     64   Al MOL     1       2.278   2.971  22.118  1.00  0.00          AL  \nATOM     65   Al MOL     1       5.085   2.917  22.050  1.00  0.00          AL  \nATOM     66   Al MOL     1       7.905   3.011  23.499  1.00  0.00          AL  \nATOM     67   Al MOL     1       0.874   5.417  21.897  1.00  0.00          AL  \nATOM     68   Al MOL     1       3.624   5.438  23.495  1.00  0.00          AL  \nATOM     69   Al MOL     1       6.519   5.398  22.103  1.00  0.00          AL  \nATOM     70   Al MOL     1       2.079   8.035  21.947  1.00  0.00          AL  \nATOM     71   Al MOL     1       4.992   7.862  21.930  1.00  0.00          AL  \nATOM     72   Al MOL     1       8.063   7.908  21.970  1.00  0.00          AL  \nATOM     73    O MOL     1      10.727   1.165  22.681  1.00  0.00           O  \nATOM     74    O MOL     1       6.363   3.812  22.908  1.00  0.00           O  \nATOM     75    O MOL     1       5.062   6.257  22.778  1.00  0.00           O  \nATOM     76    O MOL     1       3.614   5.400  25.278  1.00  0.00           O  \nATOM     77    O MOL     1       6.285  -0.010   0.976  1.00  0.00           O  \nATOM     78    O MOL     1       5.735  -0.724   0.129  1.00  0.00           O  \nATOM     79    O MOL     1       8.570   8.665   2.927  1.00  0.00           O  \nATOM     80    O MOL     1       7.797   7.741   2.682  1.00  0.00           O  \nATOM     81    O MOL     1       8.662   1.634  -0.618  1.00  0.00           O  \nATOM     82    O MOL     1       8.213   1.470  -1.752  1.00  0.00           O  \nATOM     83    O MOL     1       9.236  -1.303  -1.570  1.00  0.00           O  \nATOM     84    O MOL     1       8.826  -1.956  -0.611  1.00  0.00           O  \nATOM     85    O MOL     1       2.945  10.698  31.600  1.00  0.00           O  \nATOM     86    O MOL     1       3.547  11.343  30.738  1.00  0.00           O  \nATOM     87    O MOL     1       2.301   6.228  22.554  1.00  0.00           O  \nATOM     88    O MOL     1       3.701   3.786  22.861  1.00  0.00           O  \nATOM     89    O MOL     1       4.466   6.764  30.787  1.00  0.00           O  \nATOM     90    O MOL     1       3.785   6.542  31.792  1.00  0.00           O  \nATOM     91    O MOL     1       7.577   7.990   9.797  1.00  0.00           O  \nATOM     92    O MOL     1       6.251   5.436   9.560  1.00  0.00           O  \nATOM     93    O MOL     1       1.821   3.074   9.608  1.00  0.00           O  \nATOM     94    O MOL     1       3.302   5.504   9.695  1.00  0.00           O  \nATOM     95    O MOL     1       7.985   6.346  22.673  1.00  0.00           O  \nATOM     96    O MOL     1       9.353   3.872  22.632  1.00  0.00           O  \nATOM     97    O MOL     1       3.380   0.603   9.714  1.00  0.00           O  \nATOM     98    O MOL     1       4.881   3.026   9.670  1.00  0.00           O  \nATOM     99    O MOL     1       0.345  10.482   9.641  1.00  0.00           O  \nATOM    100    O MOL     1       4.711   8.032   9.616  1.00  0.00           O  \nATOM    101    O MOL     1       2.303  14.463  25.884  1.00  0.00           O  \nATOM    102    O MOL     1       1.939  13.443  25.243  1.00  0.00           O  \nATOM    103    O MOL     1       0.876   4.806  -0.544  1.00  0.00           O  \nATOM    104    O MOL     1       1.626   4.882  -1.521  1.00  0.00           O  \nATOM    105    O MOL     1       3.430   9.923  25.352  1.00  0.00           O  \nATOM    106    O MOL     1       4.909  11.149  22.746  1.00  0.00           O  \nATOM    107    O MOL     1       6.518   8.751  22.574  1.00  0.00           O  \nATOM    108    O MOL     1       3.532   8.626  22.705  1.00  0.00           O  \nATOM    109    O MOL     1       4.078   3.130  33.513  1.00  0.00           O  \nATOM    110    O MOL     1       3.937   3.030  34.734  1.00  0.00           O  \nATOM    111    O MOL     1      -0.410   2.967  25.234  1.00  0.00           O  \nATOM    112    O MOL     1      -0.630   1.549  22.510  1.00  0.00           O  \nENDMDL\n",
           "ext": "pdb"
          }
         ],
         "kwargs": {},
         "methodName": "replaceStructure",
         "reconstruc_color_scheme": false,
         "target": "Widget",
         "type": "call_method"
        },
        {
         "args": [
          "this._Q = [[1.0, 0.0, 0.0], [0.0, 1.0, 0.0], [0.0, 0.0, 1.0]]"
         ],
         "kwargs": {},
         "methodName": "executeCode",
         "reconstruc_color_scheme": false,
         "target": "Widget",
         "type": "call_method"
        },
        {
         "args": [
          {
           "data": "CRYST1    8.591    9.920   31.691  90.00  90.00  90.00 P 1\nMODEL     1\nATOM      1   Al MOL     1       1.983   1.369  10.272  1.00  0.00          AL  \nATOM      2   Al MOL     1       4.822   1.435  10.376  1.00  0.00          AL  \nATOM      3   Al MOL     1       7.567   1.299  10.257  1.00  0.00          AL  \nATOM      4   Al MOL     1       0.502   3.870  10.514  1.00  0.00          AL  \nATOM      5   Al MOL     1       3.297   3.955  10.217  1.00  0.00          AL  \nATOM      6   Al MOL     1       6.426   3.777  10.141  1.00  0.00          AL  \nATOM      7   Al MOL     1       1.964   6.340  10.587  1.00  0.00          AL  \nATOM      8   Al MOL     1       4.765   6.446  10.336  1.00  0.00          AL  \nATOM      9   Al MOL     1       7.840   6.235  10.301  1.00  0.00          AL  \nATOM     10   Al MOL     1       0.730   8.757  10.245  1.00  0.00          AL  \nATOM     11   Al MOL     1       3.289   8.733  10.525  1.00  0.00          AL  \nATOM     12   Al MOL     1       6.264   8.905  10.431  1.00  0.00          AL  \nATOM     13   Al MOL     1       0.450   2.255  12.825  1.00  0.00          AL  \nATOM     14   Al MOL     1       3.236   2.108  12.590  1.00  0.00          AL  \nATOM     15   Al MOL     1       6.167   2.309  12.539  1.00  0.00          AL  \nATOM     16   Al MOL     1       1.933   4.575  12.597  1.00  0.00          AL  \nATOM     17   Al MOL     1       4.673   4.563  12.764  1.00  0.00          AL  \nATOM     18   Al MOL     1       7.615   4.663  12.665  1.00  0.00          AL  \nATOM     19   Al MOL     1       0.457   7.199  12.797  1.00  0.00          AL  \nATOM     20   Al MOL     1       3.509   7.109  12.881  1.00  0.00          AL  \nATOM     21   Al MOL     1       6.394   7.147  12.968  1.00  0.00          AL  \nATOM     22   Al MOL     1       1.752   9.570  12.644  1.00  0.00          AL  \nATOM     23   Al MOL     1       4.652   9.687  12.689  1.00  0.00          AL  \nATOM     24   Al MOL     1       7.648   9.646  12.539  1.00  0.00          AL  \nATOM     25   Al MOL     1       0.478   0.705  15.025  1.00  0.00          AL  \nATOM     26   Al MOL     1       3.340   0.479  14.879  1.00  0.00          AL  \nATOM     27   Al MOL     1       6.300   0.537  14.906  1.00  0.00          AL  \nATOM     28   Al MOL     1       1.999   2.908  14.946  1.00  0.00          AL  \nATOM     29   Al MOL     1       4.860   2.817  14.945  1.00  0.00          AL  \nATOM     30   Al MOL     1       7.440   3.057  15.009  1.00  0.00          AL  \nATOM     31   Al MOL     1       0.377   5.635  15.003  1.00  0.00          AL  \nATOM     32   Al MOL     1       3.294   5.367  14.993  1.00  0.00          AL  \nATOM     33   Al MOL     1       6.087   5.357  14.907  1.00  0.00          AL  \nATOM     34   Al MOL     1       1.877   8.181  14.997  1.00  0.00          AL  \nATOM     35   Al MOL     1       4.924   8.064  15.096  1.00  0.00          AL  \nATOM     36   Al MOL     1       7.629   8.041  15.050  1.00  0.00          AL  \nATOM     37   Al MOL     1       1.902   1.369  17.396  1.00  0.00          AL  \nATOM     38   Al MOL     1       4.839   1.213  17.290  1.00  0.00          AL  \nATOM     39   Al MOL     1       7.589   1.450  17.422  1.00  0.00          AL  \nATOM     40   Al MOL     1       0.628   3.910  17.249  1.00  0.00          AL  \nATOM     41   Al MOL     1       3.390   3.674  17.209  1.00  0.00          AL  \nATOM     42   Al MOL     1       6.113   3.747  17.248  1.00  0.00          AL  \nATOM     43   Al MOL     1       1.927   6.279  17.194  1.00  0.00          AL  \nATOM     44   Al MOL     1       4.796   6.170  17.329  1.00  0.00          AL  \nATOM     45   Al MOL     1       7.638   6.264  17.217  1.00  0.00          AL  \nATOM     46   Al MOL     1       0.477   8.802  17.211  1.00  0.00          AL  \nATOM     47   Al MOL     1       3.283   8.742  17.245  1.00  0.00          AL  \nATOM     48   Al MOL     1       6.156   8.624  17.410  1.00  0.00          AL  \nATOM     49   Al MOL     1       0.424   1.964  19.726  1.00  0.00          AL  \nATOM     50   Al MOL     1       3.343   2.080  19.575  1.00  0.00          AL  \nATOM     51   Al MOL     1       6.293   2.049  19.703  1.00  0.00          AL  \nATOM     52   Al MOL     1       1.938   4.613  19.662  1.00  0.00          AL  \nATOM     53   Al MOL     1       4.896   4.495  19.730  1.00  0.00          AL  \nATOM     54   Al MOL     1       7.687   4.676  19.329  1.00  0.00          AL  \nATOM     55   Al MOL     1       0.640   7.076  19.507  1.00  0.00          AL  \nATOM     56   Al MOL     1       3.415   7.097  19.515  1.00  0.00          AL  \nATOM     57   Al MOL     1       6.050   6.917  19.577  1.00  0.00          AL  \nATOM     58   Al MOL     1       1.923   9.576  19.583  1.00  0.00          AL  \nATOM     59   Al MOL     1       4.730   9.604  19.517  1.00  0.00          AL  \nATOM     60   Al MOL     1       7.709   9.541  19.556  1.00  0.00          AL  \nATOM     61   Al MOL     1       0.757   0.257  22.309  1.00  0.00          AL  \nATOM     62   Al MOL     1       3.591   0.466  23.657  1.00  0.00          AL  \nATOM     63   Al MOL     1       6.517   0.454  22.056  1.00  0.00          AL  \nATOM     64   Al MOL     1       2.145   2.985  21.811  1.00  0.00          AL  \nATOM     65   Al MOL     1       5.159   2.831  22.024  1.00  0.00          AL  \nATOM     66   Al MOL     1       8.037   2.945  23.618  1.00  0.00          AL  \nATOM     67   Al MOL     1       0.619   5.384  21.905  1.00  0.00          AL  \nATOM     68   Al MOL     1       3.475   5.316  23.493  1.00  0.00          AL  \nATOM     69   Al MOL     1       6.316   5.331  21.922  1.00  0.00          AL  \nATOM     70   Al MOL     1       2.066   7.978  21.885  1.00  0.00          AL  \nATOM     71   Al MOL     1       4.921   7.864  21.958  1.00  0.00          AL  \nATOM     72   Al MOL     1       7.809   7.957  21.746  1.00  0.00          AL  \nATOM     73    O MOL     1      10.811   1.158  22.444  1.00  0.00           O  \nATOM     74    O MOL     1       6.501   3.683  22.800  1.00  0.00           O  \nATOM     75    O MOL     1       4.849   6.188  22.715  1.00  0.00           O  \nATOM     76    O MOL     1       3.428   5.383  25.197  1.00  0.00           O  \nATOM     77    O MOL     1       6.096   0.147   0.948  1.00  0.00           O  \nATOM     78    O MOL     1       6.173  -0.961   0.410  1.00  0.00           O  \nATOM     79    O MOL     1       8.378   8.781   3.049  1.00  0.00           O  \nATOM     80    O MOL     1       7.837   7.679   2.927  1.00  0.00           O  \nATOM     81    O MOL     1       8.463   1.689  -0.708  1.00  0.00           O  \nATOM     82    O MOL     1       8.329   1.451  -1.912  1.00  0.00           O  \nATOM     83    O MOL     1       9.516  -1.545  -1.179  1.00  0.00           O  \nATOM     84    O MOL     1       8.886  -2.022  -0.224  1.00  0.00           O  \nATOM     85    O MOL     1       3.073  10.685  32.011  1.00  0.00           O  \nATOM     86    O MOL     1       3.501  11.536  31.226  1.00  0.00           O  \nATOM     87    O MOL     1       2.082   6.210  22.657  1.00  0.00           O  \nATOM     88    O MOL     1       3.577   3.691  22.748  1.00  0.00           O  \nATOM     89    O MOL     1       4.450   6.598  31.053  1.00  0.00           O  \nATOM     90    O MOL     1       3.946   6.903  32.130  1.00  0.00           O  \nATOM     91    O MOL     1       7.748   7.994   9.717  1.00  0.00           O  \nATOM     92    O MOL     1       6.225   5.557   9.766  1.00  0.00           O  \nATOM     93    O MOL     1       1.884   3.071   9.506  1.00  0.00           O  \nATOM     94    O MOL     1       3.309   5.622   9.598  1.00  0.00           O  \nATOM     95    O MOL     1       7.776   6.281  22.677  1.00  0.00           O  \nATOM     96    O MOL     1       9.202   3.667  22.392  1.00  0.00           O  \nATOM     97    O MOL     1       3.434   0.499   9.648  1.00  0.00           O  \nATOM     98    O MOL     1       4.789   3.162   9.591  1.00  0.00           O  \nATOM     99    O MOL     1       0.500  10.448   9.552  1.00  0.00           O  \nATOM    100    O MOL     1       4.833   8.063   9.711  1.00  0.00           O  \nATOM    101    O MOL     1       2.796  14.158  26.336  1.00  0.00           O  \nATOM    102    O MOL     1       2.253  13.236  25.737  1.00  0.00           O  \nATOM    103    O MOL     1       0.706   4.644  -1.041  1.00  0.00           O  \nATOM    104    O MOL     1       1.820   4.979  -1.450  1.00  0.00           O  \nATOM    105    O MOL     1       3.638  10.773  25.247  1.00  0.00           O  \nATOM    106    O MOL     1       4.994  11.103  22.641  1.00  0.00           O  \nATOM    107    O MOL     1       6.522   8.598  22.644  1.00  0.00           O  \nATOM    108    O MOL     1       3.527   8.700  22.743  1.00  0.00           O  \nATOM    109    O MOL     1       3.951   3.329  33.722  1.00  0.00           O  \nATOM    110    O MOL     1       4.471   3.100  34.817  1.00  0.00           O  \nATOM    111    O MOL     1      -0.090   3.134  25.133  1.00  0.00           O  \nATOM    112    O MOL     1      -0.615   1.262  23.038  1.00  0.00           O  \nENDMDL\n",
           "ext": "pdb"
          }
         ],
         "kwargs": {},
         "methodName": "replaceStructure",
         "reconstruc_color_scheme": false,
         "target": "Widget",
         "type": "call_method"
        },
        {
         "args": [
          "this._Q = [[1.0, 0.0, 0.0], [0.0, 1.0, 0.0], [0.0, 0.0, 1.0]]"
         ],
         "kwargs": {},
         "methodName": "executeCode",
         "reconstruc_color_scheme": false,
         "target": "Widget",
         "type": "call_method"
        },
        {
         "args": [
          {
           "data": "CRYST1    8.591    9.920   31.691  90.00  90.00  90.00 P 1\nMODEL     1\nATOM      1   Al MOL     1       1.932   1.298   9.992  1.00  0.00          AL  \nATOM      2   Al MOL     1       5.021   1.293  10.251  1.00  0.00          AL  \nATOM      3   Al MOL     1       7.679   1.282  10.388  1.00  0.00          AL  \nATOM      4   Al MOL     1       0.458   3.910  10.265  1.00  0.00          AL  \nATOM      5   Al MOL     1       3.401   3.689  10.336  1.00  0.00          AL  \nATOM      6   Al MOL     1       6.337   3.751  10.304  1.00  0.00          AL  \nATOM      7   Al MOL     1       1.947   6.339  10.466  1.00  0.00          AL  \nATOM      8   Al MOL     1       4.861   6.329  10.198  1.00  0.00          AL  \nATOM      9   Al MOL     1       7.717   6.215  10.180  1.00  0.00          AL  \nATOM     10   Al MOL     1       0.534   8.677  10.429  1.00  0.00          AL  \nATOM     11   Al MOL     1       3.313   8.853  10.345  1.00  0.00          AL  \nATOM     12   Al MOL     1       6.261   8.775  10.275  1.00  0.00          AL  \nATOM     13   Al MOL     1       0.599   2.107  12.508  1.00  0.00          AL  \nATOM     14   Al MOL     1       3.501   2.249  12.777  1.00  0.00          AL  \nATOM     15   Al MOL     1       6.258   2.231  12.774  1.00  0.00          AL  \nATOM     16   Al MOL     1       1.973   4.608  12.664  1.00  0.00          AL  \nATOM     17   Al MOL     1       4.917   4.737  12.601  1.00  0.00          AL  \nATOM     18   Al MOL     1       7.606   4.724  12.639  1.00  0.00          AL  \nATOM     19   Al MOL     1       0.345   7.169  12.721  1.00  0.00          AL  \nATOM     20   Al MOL     1       3.239   7.252  12.675  1.00  0.00          AL  \nATOM     21   Al MOL     1       6.235   7.126  12.519  1.00  0.00          AL  \nATOM     22   Al MOL     1       2.115   9.730  12.731  1.00  0.00          AL  \nATOM     23   Al MOL     1       4.798   9.659  12.671  1.00  0.00          AL  \nATOM     24   Al MOL     1       7.741   9.573  12.670  1.00  0.00          AL  \nATOM     25   Al MOL     1       0.662   0.387  14.959  1.00  0.00          AL  \nATOM     26   Al MOL     1       3.316   0.567  14.958  1.00  0.00          AL  \nATOM     27   Al MOL     1       6.065   0.614  15.037  1.00  0.00          AL  \nATOM     28   Al MOL     1       1.964   2.967  14.955  1.00  0.00          AL  \nATOM     29   Al MOL     1       4.831   3.256  14.988  1.00  0.00          AL  \nATOM     30   Al MOL     1       7.829   2.876  14.816  1.00  0.00          AL  \nATOM     31   Al MOL     1       0.530   5.460  15.022  1.00  0.00          AL  \nATOM     32   Al MOL     1       3.443   5.562  15.020  1.00  0.00          AL  \nATOM     33   Al MOL     1       6.308   5.627  14.917  1.00  0.00          AL  \nATOM     34   Al MOL     1       1.821   7.855  15.025  1.00  0.00          AL  \nATOM     35   Al MOL     1       4.729   7.981  14.895  1.00  0.00          AL  \nATOM     36   Al MOL     1       7.553   7.955  14.874  1.00  0.00          AL  \nATOM     37   Al MOL     1       1.989   1.199  17.277  1.00  0.00          AL  \nATOM     38   Al MOL     1       4.811   1.520  17.346  1.00  0.00          AL  \nATOM     39   Al MOL     1       7.622   1.314  17.102  1.00  0.00          AL  \nATOM     40   Al MOL     1       0.390   3.877  17.273  1.00  0.00          AL  \nATOM     41   Al MOL     1       3.491   3.929  17.215  1.00  0.00          AL  \nATOM     42   Al MOL     1       6.324   3.908  17.323  1.00  0.00          AL  \nATOM     43   Al MOL     1       1.790   6.309  17.336  1.00  0.00          AL  \nATOM     44   Al MOL     1       4.837   6.508  17.385  1.00  0.00          AL  \nATOM     45   Al MOL     1       7.598   6.394  17.344  1.00  0.00          AL  \nATOM     46   Al MOL     1       0.378   8.829  17.338  1.00  0.00          AL  \nATOM     47   Al MOL     1       3.377   8.808  17.359  1.00  0.00          AL  \nATOM     48   Al MOL     1       6.210   8.902  17.280  1.00  0.00          AL  \nATOM     49   Al MOL     1       0.624   2.148  19.469  1.00  0.00          AL  \nATOM     50   Al MOL     1       3.339   1.950  19.663  1.00  0.00          AL  \nATOM     51   Al MOL     1       6.328   2.182  19.504  1.00  0.00          AL  \nATOM     52   Al MOL     1       1.934   4.625  19.455  1.00  0.00          AL  \nATOM     53   Al MOL     1       5.062   4.790  19.642  1.00  0.00          AL  \nATOM     54   Al MOL     1       7.666   4.481  19.757  1.00  0.00          AL  \nATOM     55   Al MOL     1       0.434   7.061  19.543  1.00  0.00          AL  \nATOM     56   Al MOL     1       3.404   7.004  19.711  1.00  0.00          AL  \nATOM     57   Al MOL     1       6.291   7.178  19.541  1.00  0.00          AL  \nATOM     58   Al MOL     1       1.878   9.632  19.782  1.00  0.00          AL  \nATOM     59   Al MOL     1       4.772   9.486  19.680  1.00  0.00          AL  \nATOM     60   Al MOL     1       7.587   9.646  19.678  1.00  0.00          AL  \nATOM     61   Al MOL     1       0.609   0.428  21.779  1.00  0.00          AL  \nATOM     62   Al MOL     1       3.327   0.546  23.670  1.00  0.00          AL  \nATOM     63   Al MOL     1       6.306   0.367  22.043  1.00  0.00          AL  \nATOM     64   Al MOL     1       1.960   2.777  21.917  1.00  0.00          AL  \nATOM     65   Al MOL     1       4.981   2.888  22.007  1.00  0.00          AL  \nATOM     66   Al MOL     1       7.923   2.927  23.662  1.00  0.00          AL  \nATOM     67   Al MOL     1       0.692   5.324  21.823  1.00  0.00          AL  \nATOM     68   Al MOL     1       3.316   5.258  23.617  1.00  0.00          AL  \nATOM     69   Al MOL     1       6.333   5.241  22.110  1.00  0.00          AL  \nATOM     70   Al MOL     1       1.948   7.941  21.964  1.00  0.00          AL  \nATOM     71   Al MOL     1       4.822   7.785  22.120  1.00  0.00          AL  \nATOM     72   Al MOL     1       7.811   7.919  21.975  1.00  0.00          AL  \nATOM     73    O MOL     1      10.525   1.129  22.729  1.00  0.00           O  \nATOM     74    O MOL     1       6.426   3.635  22.803  1.00  0.00           O  \nATOM     75    O MOL     1       4.908   6.119  22.842  1.00  0.00           O  \nATOM     76    O MOL     1       3.391   5.096  25.388  1.00  0.00           O  \nATOM     77    O MOL     1       6.010   0.228   0.971  1.00  0.00           O  \nATOM     78    O MOL     1       6.528  -0.841   0.635  1.00  0.00           O  \nATOM     79    O MOL     1       8.221   8.830   3.195  1.00  0.00           O  \nATOM     80    O MOL     1       7.861   7.648   3.165  1.00  0.00           O  \nATOM     81    O MOL     1       8.378   1.528  -0.768  1.00  0.00           O  \nATOM     82    O MOL     1       8.476   1.561  -2.000  1.00  0.00           O  \nATOM     83    O MOL     1       9.845  -1.859  -0.785  1.00  0.00           O  \nATOM     84    O MOL     1       9.183  -2.091   0.230  1.00  0.00           O  \nATOM     85    O MOL     1       3.158  10.764  32.468  1.00  0.00           O  \nATOM     86    O MOL     1       3.304  11.602  31.579  1.00  0.00           O  \nATOM     87    O MOL     1       1.940   6.199  22.761  1.00  0.00           O  \nATOM     88    O MOL     1       3.390   3.729  22.555  1.00  0.00           O  \nATOM     89    O MOL     1       4.379   6.384  31.442  1.00  0.00           O  \nATOM     90    O MOL     1       3.956   7.138  32.322  1.00  0.00           O  \nATOM     91    O MOL     1       7.692   7.928   9.513  1.00  0.00           O  \nATOM     92    O MOL     1       6.267   5.408   9.417  1.00  0.00           O  \nATOM     93    O MOL     1       1.905   2.999   9.522  1.00  0.00           O  \nATOM     94    O MOL     1       3.374   5.366   9.675  1.00  0.00           O  \nATOM     95    O MOL     1       7.817   6.142  22.400  1.00  0.00           O  \nATOM     96    O MOL     1       9.123   3.586  22.482  1.00  0.00           O  \nATOM     97    O MOL     1       3.441   0.557   9.509  1.00  0.00           O  \nATOM     98    O MOL     1       4.832   2.926   9.488  1.00  0.00           O  \nATOM     99    O MOL     1       0.477  10.315   9.491  1.00  0.00           O  \nATOM    100    O MOL     1       4.750   8.001   9.516  1.00  0.00           O  \nATOM    101    O MOL     1       2.977  13.605  25.997  1.00  0.00           O  \nATOM    102    O MOL     1       2.286  12.860  25.234  1.00  0.00           O  \nATOM    103    O MOL     1       0.687   4.645  -1.633  1.00  0.00           O  \nATOM    104    O MOL     1       1.833   4.978  -1.309  1.00  0.00           O  \nATOM    105    O MOL     1       3.646  10.732  25.294  1.00  0.00           O  \nATOM    106    O MOL     1       4.757  11.157  22.530  1.00  0.00           O  \nATOM    107    O MOL     1       6.263   8.688  22.757  1.00  0.00           O  \nATOM    108    O MOL     1       3.351   8.724  22.779  1.00  0.00           O  \nATOM    109    O MOL     1       3.945   3.638  34.129  1.00  0.00           O  \nATOM    110    O MOL     1       4.900   3.091  34.684  1.00  0.00           O  \nATOM    111    O MOL     1      -0.269   3.625  25.273  1.00  0.00           O  \nATOM    112    O MOL     1      -0.810   1.233  22.920  1.00  0.00           O  \nENDMDL\n",
           "ext": "pdb"
          }
         ],
         "kwargs": {},
         "methodName": "replaceStructure",
         "reconstruc_color_scheme": false,
         "target": "Widget",
         "type": "call_method"
        },
        {
         "args": [
          "this._Q = [[1.0, 0.0, 0.0], [0.0, 1.0, 0.0], [0.0, 0.0, 1.0]]"
         ],
         "kwargs": {},
         "methodName": "executeCode",
         "reconstruc_color_scheme": false,
         "target": "Widget",
         "type": "call_method"
        },
        {
         "args": [
          {
           "data": "CRYST1    8.591    9.920   31.691  90.00  90.00  90.00 P 1\nMODEL     1\nATOM      1   Al MOL     1       1.919   1.199  10.366  1.00  0.00          AL  \nATOM      2   Al MOL     1       4.926   1.308  10.329  1.00  0.00          AL  \nATOM      3   Al MOL     1       7.739   1.287  10.470  1.00  0.00          AL  \nATOM      4   Al MOL     1       0.546   3.625  10.607  1.00  0.00          AL  \nATOM      5   Al MOL     1       3.375   3.817  10.118  1.00  0.00          AL  \nATOM      6   Al MOL     1       6.487   3.605  10.319  1.00  0.00          AL  \nATOM      7   Al MOL     1       1.955   6.239  10.209  1.00  0.00          AL  \nATOM      8   Al MOL     1       4.885   6.139  10.209  1.00  0.00          AL  \nATOM      9   Al MOL     1       7.839   6.197  10.301  1.00  0.00          AL  \nATOM     10   Al MOL     1       0.584   8.623  10.014  1.00  0.00          AL  \nATOM     11   Al MOL     1       3.292   8.727  10.236  1.00  0.00          AL  \nATOM     12   Al MOL     1       6.186   8.851  10.398  1.00  0.00          AL  \nATOM     13   Al MOL     1       0.555   2.196  12.769  1.00  0.00          AL  \nATOM     14   Al MOL     1       3.376   2.076  12.649  1.00  0.00          AL  \nATOM     15   Al MOL     1       6.279   2.204  12.798  1.00  0.00          AL  \nATOM     16   Al MOL     1       2.092   4.718  12.705  1.00  0.00          AL  \nATOM     17   Al MOL     1       4.800   4.739  12.594  1.00  0.00          AL  \nATOM     18   Al MOL     1       7.604   4.664  12.718  1.00  0.00          AL  \nATOM     19   Al MOL     1       0.497   7.220  12.697  1.00  0.00          AL  \nATOM     20   Al MOL     1       3.427   7.255  12.460  1.00  0.00          AL  \nATOM     21   Al MOL     1       6.268   7.160  12.783  1.00  0.00          AL  \nATOM     22   Al MOL     1       1.854   9.521  12.665  1.00  0.00          AL  \nATOM     23   Al MOL     1       4.766   9.605  12.727  1.00  0.00          AL  \nATOM     24   Al MOL     1       7.686   9.573  12.705  1.00  0.00          AL  \nATOM     25   Al MOL     1       0.531   0.675  14.986  1.00  0.00          AL  \nATOM     26   Al MOL     1       3.319   0.595  14.892  1.00  0.00          AL  \nATOM     27   Al MOL     1       6.412   0.509  14.951  1.00  0.00          AL  \nATOM     28   Al MOL     1       2.120   3.134  14.928  1.00  0.00          AL  \nATOM     29   Al MOL     1       4.723   2.867  14.863  1.00  0.00          AL  \nATOM     30   Al MOL     1       7.790   3.188  15.044  1.00  0.00          AL  \nATOM     31   Al MOL     1       0.599   5.533  14.935  1.00  0.00          AL  \nATOM     32   Al MOL     1       3.419   5.493  14.939  1.00  0.00          AL  \nATOM     33   Al MOL     1       6.217   5.509  14.965  1.00  0.00          AL  \nATOM     34   Al MOL     1       2.085   8.095  14.779  1.00  0.00          AL  \nATOM     35   Al MOL     1       4.891   7.942  14.997  1.00  0.00          AL  \nATOM     36   Al MOL     1       7.869   7.962  15.030  1.00  0.00          AL  \nATOM     37   Al MOL     1       1.963   1.376  17.156  1.00  0.00          AL  \nATOM     38   Al MOL     1       4.944   1.267  17.092  1.00  0.00          AL  \nATOM     39   Al MOL     1       7.682   1.341  17.325  1.00  0.00          AL  \nATOM     40   Al MOL     1       0.678   3.875  17.240  1.00  0.00          AL  \nATOM     41   Al MOL     1       3.468   3.833  17.274  1.00  0.00          AL  \nATOM     42   Al MOL     1       6.160   3.729  17.270  1.00  0.00          AL  \nATOM     43   Al MOL     1       2.099   6.333  17.275  1.00  0.00          AL  \nATOM     44   Al MOL     1       4.922   6.259  17.241  1.00  0.00          AL  \nATOM     45   Al MOL     1       7.895   6.379  17.270  1.00  0.00          AL  \nATOM     46   Al MOL     1       0.612   8.749  17.294  1.00  0.00          AL  \nATOM     47   Al MOL     1       3.516   8.787  17.155  1.00  0.00          AL  \nATOM     48   Al MOL     1       6.337   8.738  17.366  1.00  0.00          AL  \nATOM     49   Al MOL     1       0.507   2.277  19.668  1.00  0.00          AL  \nATOM     50   Al MOL     1       3.307   2.319  19.411  1.00  0.00          AL  \nATOM     51   Al MOL     1       6.222   2.269  19.579  1.00  0.00          AL  \nATOM     52   Al MOL     1       1.981   4.763  19.543  1.00  0.00          AL  \nATOM     53   Al MOL     1       4.801   4.737  19.562  1.00  0.00          AL  \nATOM     54   Al MOL     1       7.708   4.760  19.351  1.00  0.00          AL  \nATOM     55   Al MOL     1       0.543   6.984  19.684  1.00  0.00          AL  \nATOM     56   Al MOL     1       3.480   7.140  19.724  1.00  0.00          AL  \nATOM     57   Al MOL     1       6.194   7.033  19.715  1.00  0.00          AL  \nATOM     58   Al MOL     1       2.062   9.764  19.491  1.00  0.00          AL  \nATOM     59   Al MOL     1       4.821   9.818  19.534  1.00  0.00          AL  \nATOM     60   Al MOL     1       7.704   9.500  19.595  1.00  0.00          AL  \nATOM     61   Al MOL     1       0.472   0.259  21.835  1.00  0.00          AL  \nATOM     62   Al MOL     1       3.238   0.494  23.537  1.00  0.00          AL  \nATOM     63   Al MOL     1       6.328   0.462  21.929  1.00  0.00          AL  \nATOM     64   Al MOL     1       1.796   2.939  21.829  1.00  0.00          AL  \nATOM     65   Al MOL     1       4.744   2.885  21.972  1.00  0.00          AL  \nATOM     66   Al MOL     1       7.627   2.879  23.471  1.00  0.00          AL  \nATOM     67   Al MOL     1       0.556   5.594  22.183  1.00  0.00          AL  \nATOM     68   Al MOL     1       3.351   5.205  23.605  1.00  0.00          AL  \nATOM     69   Al MOL     1       6.120   5.627  22.001  1.00  0.00          AL  \nATOM     70   Al MOL     1       1.896   7.906  22.050  1.00  0.00          AL  \nATOM     71   Al MOL     1       4.667   7.866  22.112  1.00  0.00          AL  \nATOM     72   Al MOL     1       7.692   7.910  22.052  1.00  0.00          AL  \nATOM     73    O MOL     1      10.493   1.203  22.422  1.00  0.00           O  \nATOM     74    O MOL     1       6.247   3.888  22.529  1.00  0.00           O  \nATOM     75    O MOL     1       4.696   6.253  22.858  1.00  0.00           O  \nATOM     76    O MOL     1       3.416   4.825  25.272  1.00  0.00           O  \nATOM     77    O MOL     1       6.026   0.273   1.111  1.00  0.00           O  \nATOM     78    O MOL     1       6.719  -0.624   0.622  1.00  0.00           O  \nATOM     79    O MOL     1       8.170   8.837   3.497  1.00  0.00           O  \nATOM     80    O MOL     1       7.829   7.660   3.382  1.00  0.00           O  \nATOM     81    O MOL     1       8.446   1.390  -0.794  1.00  0.00           O  \nATOM     82    O MOL     1       8.737   1.544  -1.980  1.00  0.00           O  \nATOM     83    O MOL     1       9.964  -1.893  -0.485  1.00  0.00           O  \nATOM     84    O MOL     1       9.675  -2.305   0.640  1.00  0.00           O  \nATOM     85    O MOL     1       2.961  10.970  32.923  1.00  0.00           O  \nATOM     86    O MOL     1       3.077  11.580  31.858  1.00  0.00           O  \nATOM     87    O MOL     1       2.028   6.288  22.876  1.00  0.00           O  \nATOM     88    O MOL     1       3.245   3.752  22.356  1.00  0.00           O  \nATOM     89    O MOL     1       4.451   6.251  31.931  1.00  0.00           O  \nATOM     90    O MOL     1       3.916   7.195  32.527  1.00  0.00           O  \nATOM     91    O MOL     1       7.545   7.878   9.555  1.00  0.00           O  \nATOM     92    O MOL     1       6.366   5.306   9.668  1.00  0.00           O  \nATOM     93    O MOL     1       1.963   2.876   9.568  1.00  0.00           O  \nATOM     94    O MOL     1       3.398   5.443   9.374  1.00  0.00           O  \nATOM     95    O MOL     1       7.646   6.221  22.836  1.00  0.00           O  \nATOM     96    O MOL     1       9.038   3.861  22.483  1.00  0.00           O  \nATOM     97    O MOL     1       3.426   0.556   9.552  1.00  0.00           O  \nATOM     98    O MOL     1       4.900   3.007   9.625  1.00  0.00           O  \nATOM     99    O MOL     1       0.459  10.354   9.421  1.00  0.00           O  \nATOM    100    O MOL     1       4.791   7.837   9.716  1.00  0.00           O  \nATOM    101    O MOL     1       2.445  13.278  25.880  1.00  0.00           O  \nATOM    102    O MOL     1       2.142  12.340  25.102  1.00  0.00           O  \nATOM    103    O MOL     1       0.803   4.840  -2.068  1.00  0.00           O  \nATOM    104    O MOL     1       1.685   4.766  -1.209  1.00  0.00           O  \nATOM    105    O MOL     1       2.743  10.702  25.232  1.00  0.00           O  \nATOM    106    O MOL     1       4.756  11.150  22.645  1.00  0.00           O  \nATOM    107    O MOL     1       6.077   8.860  22.650  1.00  0.00           O  \nATOM    108    O MOL     1       3.269   8.778  22.829  1.00  0.00           O  \nATOM    109    O MOL     1       4.178   3.862  34.632  1.00  0.00           O  \nATOM    110    O MOL     1       5.115   3.127  34.307  1.00  0.00           O  \nATOM    111    O MOL     1      -0.549   2.852  25.067  1.00  0.00           O  \nATOM    112    O MOL     1      -0.869   1.448  22.463  1.00  0.00           O  \nENDMDL\n",
           "ext": "pdb"
          }
         ],
         "kwargs": {},
         "methodName": "replaceStructure",
         "reconstruc_color_scheme": false,
         "target": "Widget",
         "type": "call_method"
        },
        {
         "args": [
          "this._Q = [[1.0, 0.0, 0.0], [0.0, 1.0, 0.0], [0.0, 0.0, 1.0]]"
         ],
         "kwargs": {},
         "methodName": "executeCode",
         "reconstruc_color_scheme": false,
         "target": "Widget",
         "type": "call_method"
        },
        {
         "args": [
          {
           "data": "CRYST1    8.591    9.920   31.691  90.00  90.00  90.00 P 1\nMODEL     1\nATOM      1   Al MOL     1       2.202   1.264  10.133  1.00  0.00          AL  \nATOM      2   Al MOL     1       5.193   1.309  10.290  1.00  0.00          AL  \nATOM      3   Al MOL     1       7.873   1.140  10.514  1.00  0.00          AL  \nATOM      4   Al MOL     1       0.648   3.730  10.365  1.00  0.00          AL  \nATOM      5   Al MOL     1       3.523   3.781  10.165  1.00  0.00          AL  \nATOM      6   Al MOL     1       6.651   3.668  10.257  1.00  0.00          AL  \nATOM      7   Al MOL     1       2.122   6.222  10.323  1.00  0.00          AL  \nATOM      8   Al MOL     1       4.965   6.211   9.945  1.00  0.00          AL  \nATOM      9   Al MOL     1       7.993   6.185  10.095  1.00  0.00          AL  \nATOM     10   Al MOL     1       0.839   8.601  10.023  1.00  0.00          AL  \nATOM     11   Al MOL     1       3.511   8.746  10.158  1.00  0.00          AL  \nATOM     12   Al MOL     1       6.449   8.805  10.181  1.00  0.00          AL  \nATOM     13   Al MOL     1       0.420   2.114  12.594  1.00  0.00          AL  \nATOM     14   Al MOL     1       3.373   2.201  12.563  1.00  0.00          AL  \nATOM     15   Al MOL     1       6.295   2.107  12.728  1.00  0.00          AL  \nATOM     16   Al MOL     1       2.006   4.672  12.632  1.00  0.00          AL  \nATOM     17   Al MOL     1       4.845   4.573  12.516  1.00  0.00          AL  \nATOM     18   Al MOL     1       7.727   4.696  12.563  1.00  0.00          AL  \nATOM     19   Al MOL     1       0.679   7.206  12.643  1.00  0.00          AL  \nATOM     20   Al MOL     1       3.515   7.047  12.479  1.00  0.00          AL  \nATOM     21   Al MOL     1       6.279   7.113  12.587  1.00  0.00          AL  \nATOM     22   Al MOL     1       2.078   9.693  12.489  1.00  0.00          AL  \nATOM     23   Al MOL     1       4.793   9.593  12.559  1.00  0.00          AL  \nATOM     24   Al MOL     1       7.666   9.590  12.729  1.00  0.00          AL  \nATOM     25   Al MOL     1       0.587   0.334  14.945  1.00  0.00          AL  \nATOM     26   Al MOL     1       3.540   0.612  14.904  1.00  0.00          AL  \nATOM     27   Al MOL     1       6.278   0.400  14.942  1.00  0.00          AL  \nATOM     28   Al MOL     1       1.986   2.885  14.851  1.00  0.00          AL  \nATOM     29   Al MOL     1       4.901   3.074  14.844  1.00  0.00          AL  \nATOM     30   Al MOL     1       7.728   2.911  14.910  1.00  0.00          AL  \nATOM     31   Al MOL     1       0.563   5.345  14.814  1.00  0.00          AL  \nATOM     32   Al MOL     1       3.562   5.377  14.882  1.00  0.00          AL  \nATOM     33   Al MOL     1       6.387   5.347  14.958  1.00  0.00          AL  \nATOM     34   Al MOL     1       2.198   7.778  14.839  1.00  0.00          AL  \nATOM     35   Al MOL     1       4.819   7.746  15.003  1.00  0.00          AL  \nATOM     36   Al MOL     1       7.673   7.921  14.781  1.00  0.00          AL  \nATOM     37   Al MOL     1       1.847   1.424  17.246  1.00  0.00          AL  \nATOM     38   Al MOL     1       4.927   1.289  17.241  1.00  0.00          AL  \nATOM     39   Al MOL     1       7.675   1.068  17.110  1.00  0.00          AL  \nATOM     40   Al MOL     1       0.397   3.787  17.113  1.00  0.00          AL  \nATOM     41   Al MOL     1       3.363   3.726  17.279  1.00  0.00          AL  \nATOM     42   Al MOL     1       6.124   3.739  17.261  1.00  0.00          AL  \nATOM     43   Al MOL     1       2.080   6.353  17.108  1.00  0.00          AL  \nATOM     44   Al MOL     1       4.848   6.330  17.309  1.00  0.00          AL  \nATOM     45   Al MOL     1       7.679   6.245  17.321  1.00  0.00          AL  \nATOM     46   Al MOL     1       0.473   8.661  17.214  1.00  0.00          AL  \nATOM     47   Al MOL     1       3.298   8.839  17.315  1.00  0.00          AL  \nATOM     48   Al MOL     1       6.269   8.695  17.208  1.00  0.00          AL  \nATOM     49   Al MOL     1       0.445   2.306  19.560  1.00  0.00          AL  \nATOM     50   Al MOL     1       3.273   2.148  19.528  1.00  0.00          AL  \nATOM     51   Al MOL     1       6.099   1.908  19.653  1.00  0.00          AL  \nATOM     52   Al MOL     1       1.788   4.808  19.334  1.00  0.00          AL  \nATOM     53   Al MOL     1       4.680   4.591  19.681  1.00  0.00          AL  \nATOM     54   Al MOL     1       7.555   4.435  19.478  1.00  0.00          AL  \nATOM     55   Al MOL     1       0.435   7.168  19.464  1.00  0.00          AL  \nATOM     56   Al MOL     1       3.157   7.009  19.624  1.00  0.00          AL  \nATOM     57   Al MOL     1       6.201   6.908  19.603  1.00  0.00          AL  \nATOM     58   Al MOL     1       1.828   9.680  19.567  1.00  0.00          AL  \nATOM     59   Al MOL     1       4.716   9.481  19.480  1.00  0.00          AL  \nATOM     60   Al MOL     1       7.530   9.551  19.555  1.00  0.00          AL  \nATOM     61   Al MOL     1       0.366   0.636  21.831  1.00  0.00          AL  \nATOM     62   Al MOL     1       3.206   0.525  23.508  1.00  0.00          AL  \nATOM     63   Al MOL     1       6.198   0.518  22.146  1.00  0.00          AL  \nATOM     64   Al MOL     1       1.866   3.038  21.786  1.00  0.00          AL  \nATOM     65   Al MOL     1       4.662   2.969  21.955  1.00  0.00          AL  \nATOM     66   Al MOL     1       7.622   3.091  23.501  1.00  0.00          AL  \nATOM     67   Al MOL     1       0.424   5.405  21.644  1.00  0.00          AL  \nATOM     68   Al MOL     1       3.077   5.425  23.418  1.00  0.00          AL  \nATOM     69   Al MOL     1       5.974   5.476  21.968  1.00  0.00          AL  \nATOM     70   Al MOL     1       1.769   8.119  21.782  1.00  0.00          AL  \nATOM     71   Al MOL     1       4.578   8.001  22.203  1.00  0.00          AL  \nATOM     72   Al MOL     1       7.614   7.947  21.744  1.00  0.00          AL  \nATOM     73    O MOL     1      10.434   1.393  22.539  1.00  0.00           O  \nATOM     74    O MOL     1       5.933   3.774  22.890  1.00  0.00           O  \nATOM     75    O MOL     1       4.562   6.339  22.723  1.00  0.00           O  \nATOM     76    O MOL     1       2.803   5.614  25.072  1.00  0.00           O  \nATOM     77    O MOL     1       6.270   0.050   1.479  1.00  0.00           O  \nATOM     78    O MOL     1       7.060  -0.689   0.885  1.00  0.00           O  \nATOM     79    O MOL     1       8.112   8.653   4.091  1.00  0.00           O  \nATOM     80    O MOL     1       7.360   7.701   3.867  1.00  0.00           O  \nATOM     81    O MOL     1       8.857   1.560  -0.840  1.00  0.00           O  \nATOM     82    O MOL     1       9.864   1.189  -1.443  1.00  0.00           O  \nATOM     83    O MOL     1      10.172  -1.606   0.590  1.00  0.00           O  \nATOM     84    O MOL     1       9.518  -2.390   1.279  1.00  0.00           O  \nATOM     85    O MOL     1       2.186  11.526  33.934  1.00  0.00           O  \nATOM     86    O MOL     1       2.913  11.438  32.943  1.00  0.00           O  \nATOM     87    O MOL     1       1.870   6.325  22.464  1.00  0.00           O  \nATOM     88    O MOL     1       3.186   3.775  22.645  1.00  0.00           O  \nATOM     89    O MOL     1       4.660   6.528  33.156  1.00  0.00           O  \nATOM     90    O MOL     1       4.948   7.388  34.001  1.00  0.00           O  \nATOM     91    O MOL     1       7.817   7.905   9.389  1.00  0.00           O  \nATOM     92    O MOL     1       6.486   5.380   9.385  1.00  0.00           O  \nATOM     93    O MOL     1       2.016   2.939   9.461  1.00  0.00           O  \nATOM     94    O MOL     1       3.480   5.389   9.302  1.00  0.00           O  \nATOM     95    O MOL     1       7.620   6.234  22.507  1.00  0.00           O  \nATOM     96    O MOL     1       8.930   3.777  22.380  1.00  0.00           O  \nATOM     97    O MOL     1       3.718   0.529   9.456  1.00  0.00           O  \nATOM     98    O MOL     1       5.049   3.018   9.539  1.00  0.00           O  \nATOM     99    O MOL     1       0.686  10.338   9.549  1.00  0.00           O  \nATOM    100    O MOL     1       5.020   7.942   9.491  1.00  0.00           O  \nATOM    101    O MOL     1       1.946  14.455  25.930  1.00  0.00           O  \nATOM    102    O MOL     1       1.129  13.560  25.332  1.00  0.00           O  \nATOM    103    O MOL     1       1.640   5.229  -1.987  1.00  0.00           O  \nATOM    104    O MOL     1       1.043   4.642  -1.081  1.00  0.00           O  \nATOM    105    O MOL     1       3.155  10.520  25.094  1.00  0.00           O  \nATOM    106    O MOL     1       4.725  11.267  22.669  1.00  0.00           O  \nATOM    107    O MOL     1       6.086   8.770  22.531  1.00  0.00           O  \nATOM    108    O MOL     1       3.116   8.757  22.724  1.00  0.00           O  \nATOM    109    O MOL     1       5.239   3.693  34.937  1.00  0.00           O  \nATOM    110    O MOL     1       5.331   3.203  33.807  1.00  0.00           O  \nATOM    111    O MOL     1      -0.665   3.569  25.154  1.00  0.00           O  \nATOM    112    O MOL     1      -0.994   1.469  22.800  1.00  0.00           O  \nENDMDL\n",
           "ext": "pdb"
          }
         ],
         "kwargs": {},
         "methodName": "replaceStructure",
         "reconstruc_color_scheme": false,
         "target": "Widget",
         "type": "call_method"
        },
        {
         "args": [
          "this._Q = [[1.0, 0.0, 0.0], [0.0, 1.0, 0.0], [0.0, 0.0, 1.0]]"
         ],
         "kwargs": {},
         "methodName": "executeCode",
         "reconstruc_color_scheme": false,
         "target": "Widget",
         "type": "call_method"
        },
        {
         "args": [
          {
           "data": "CRYST1    8.591    9.920   31.691  90.00  90.00  90.00 P 1\nMODEL     1\nATOM      1   Al MOL     1       1.972   1.246   9.991  1.00  0.00          AL  \nATOM      2   Al MOL     1       4.982   1.294   9.874  1.00  0.00          AL  \nATOM      3   Al MOL     1       7.583   1.198   9.941  1.00  0.00          AL  \nATOM      4   Al MOL     1       0.444   3.884  10.036  1.00  0.00          AL  \nATOM      5   Al MOL     1       3.289   3.852   9.962  1.00  0.00          AL  \nATOM      6   Al MOL     1       6.487   3.676   9.794  1.00  0.00          AL  \nATOM      7   Al MOL     1       1.972   6.372  10.048  1.00  0.00          AL  \nATOM      8   Al MOL     1       4.945   6.209   9.826  1.00  0.00          AL  \nATOM      9   Al MOL     1       7.948   6.142   8.902  1.00  0.00          AL  \nATOM     10   Al MOL     1       0.706   8.624   9.859  1.00  0.00          AL  \nATOM     11   Al MOL     1       3.437   8.695  10.112  1.00  0.00          AL  \nATOM     12   Al MOL     1       6.350   8.754  10.015  1.00  0.00          AL  \nATOM     13   Al MOL     1       0.601   2.190  12.209  1.00  0.00          AL  \nATOM     14   Al MOL     1       3.317   2.114  12.271  1.00  0.00          AL  \nATOM     15   Al MOL     1       6.282   2.197  12.368  1.00  0.00          AL  \nATOM     16   Al MOL     1       1.874   4.698  12.322  1.00  0.00          AL  \nATOM     17   Al MOL     1       4.734   4.630  12.332  1.00  0.00          AL  \nATOM     18   Al MOL     1       7.603   4.747  12.311  1.00  0.00          AL  \nATOM     19   Al MOL     1       0.540   7.173  12.388  1.00  0.00          AL  \nATOM     20   Al MOL     1       3.444   7.025  12.300  1.00  0.00          AL  \nATOM     21   Al MOL     1       6.245   6.987  12.168  1.00  0.00          AL  \nATOM     22   Al MOL     1       1.932   9.616  12.494  1.00  0.00          AL  \nATOM     23   Al MOL     1       4.860   9.570  12.289  1.00  0.00          AL  \nATOM     24   Al MOL     1       7.759   9.626  12.255  1.00  0.00          AL  \nATOM     25   Al MOL     1       0.485   0.413  14.662  1.00  0.00          AL  \nATOM     26   Al MOL     1       3.324   0.403  14.627  1.00  0.00          AL  \nATOM     27   Al MOL     1       6.236   0.475  14.548  1.00  0.00          AL  \nATOM     28   Al MOL     1       1.871   3.079  14.563  1.00  0.00          AL  \nATOM     29   Al MOL     1       4.728   2.970  14.733  1.00  0.00          AL  \nATOM     30   Al MOL     1       7.623   2.992  14.591  1.00  0.00          AL  \nATOM     31   Al MOL     1       0.538   5.583  14.568  1.00  0.00          AL  \nATOM     32   Al MOL     1       3.467   5.522  14.633  1.00  0.00          AL  \nATOM     33   Al MOL     1       6.245   5.356  14.568  1.00  0.00          AL  \nATOM     34   Al MOL     1       2.020   7.867  14.661  1.00  0.00          AL  \nATOM     35   Al MOL     1       4.861   7.775  14.637  1.00  0.00          AL  \nATOM     36   Al MOL     1       7.568   7.911  14.495  1.00  0.00          AL  \nATOM     37   Al MOL     1       1.806   1.152  16.890  1.00  0.00          AL  \nATOM     38   Al MOL     1       4.799   1.229  16.955  1.00  0.00          AL  \nATOM     39   Al MOL     1       7.564   1.310  16.830  1.00  0.00          AL  \nATOM     40   Al MOL     1       0.481   3.727  17.008  1.00  0.00          AL  \nATOM     41   Al MOL     1       3.231   3.753  16.905  1.00  0.00          AL  \nATOM     42   Al MOL     1       6.201   3.803  16.944  1.00  0.00          AL  \nATOM     43   Al MOL     1       1.952   6.267  16.879  1.00  0.00          AL  \nATOM     44   Al MOL     1       4.692   6.213  17.068  1.00  0.00          AL  \nATOM     45   Al MOL     1       7.682   6.283  16.856  1.00  0.00          AL  \nATOM     46   Al MOL     1       0.446   8.743  17.049  1.00  0.00          AL  \nATOM     47   Al MOL     1       3.323   8.651  16.872  1.00  0.00          AL  \nATOM     48   Al MOL     1       6.202   8.592  16.846  1.00  0.00          AL  \nATOM     49   Al MOL     1       0.269   2.089  19.120  1.00  0.00          AL  \nATOM     50   Al MOL     1       3.230   2.099  19.150  1.00  0.00          AL  \nATOM     51   Al MOL     1       6.112   2.203  19.334  1.00  0.00          AL  \nATOM     52   Al MOL     1       1.947   4.616  19.208  1.00  0.00          AL  \nATOM     53   Al MOL     1       4.643   4.740  19.381  1.00  0.00          AL  \nATOM     54   Al MOL     1       7.591   4.829  19.271  1.00  0.00          AL  \nATOM     55   Al MOL     1       0.405   7.141  19.230  1.00  0.00          AL  \nATOM     56   Al MOL     1       3.293   7.216  19.230  1.00  0.00          AL  \nATOM     57   Al MOL     1       6.167   7.039  19.238  1.00  0.00          AL  \nATOM     58   Al MOL     1       1.877   9.615  19.289  1.00  0.00          AL  \nATOM     59   Al MOL     1       4.632   9.507  19.060  1.00  0.00          AL  \nATOM     60   Al MOL     1       7.638   9.597  19.228  1.00  0.00          AL  \nATOM     61   Al MOL     1       0.328   0.502  21.684  1.00  0.00          AL  \nATOM     62   Al MOL     1       3.195   0.531  23.137  1.00  0.00          AL  \nATOM     63   Al MOL     1       6.046   0.463  21.689  1.00  0.00          AL  \nATOM     64   Al MOL     1       1.782   3.063  21.541  1.00  0.00          AL  \nATOM     65   Al MOL     1       4.568   2.928  21.644  1.00  0.00          AL  \nATOM     66   Al MOL     1       7.534   3.025  23.171  1.00  0.00          AL  \nATOM     67   Al MOL     1       0.265   5.474  21.535  1.00  0.00          AL  \nATOM     68   Al MOL     1       2.942   5.446  23.163  1.00  0.00          AL  \nATOM     69   Al MOL     1       5.832   5.342  21.751  1.00  0.00          AL  \nATOM     70   Al MOL     1       1.692   8.051  21.476  1.00  0.00          AL  \nATOM     71   Al MOL     1       4.443   7.869  21.709  1.00  0.00          AL  \nATOM     72   Al MOL     1       7.551   7.949  21.460  1.00  0.00          AL  \nATOM     73    O MOL     1      10.316   1.356  22.341  1.00  0.00           O  \nATOM     74    O MOL     1       5.913   3.715  22.521  1.00  0.00           O  \nATOM     75    O MOL     1       4.445   6.197  22.559  1.00  0.00           O  \nATOM     76    O MOL     1       2.483   5.324  24.786  1.00  0.00           O  \nATOM     77    O MOL     1       7.830  -0.329   3.573  1.00  0.00           O  \nATOM     78    O MOL     1       7.462  -0.041   2.430  1.00  0.00           O  \nATOM     79    O MOL     1       8.503   5.740   7.337  1.00  0.00           O  \nATOM     80    O MOL     1       8.017   6.734   6.593  1.00  0.00           O  \nATOM     81    O MOL     1       9.874   2.514   3.221  1.00  0.00           O  \nATOM     82    O MOL     1       9.873   1.936   2.131  1.00  0.00           O  \nATOM     83    O MOL     1      10.599  -1.215   3.811  1.00  0.00           O  \nATOM     84    O MOL     1      10.299  -1.853   2.794  1.00  0.00           O  \nATOM     85    O MOL     1       4.305  11.358  36.290  1.00  0.00           O  \nATOM     86    O MOL     1       4.029  11.099  35.112  1.00  0.00           O  \nATOM     87    O MOL     1       1.624   6.380  22.247  1.00  0.00           O  \nATOM     88    O MOL     1       3.157   3.842  22.351  1.00  0.00           O  \nATOM     89    O MOL     1       4.710   8.111  37.550  1.00  0.00           O  \nATOM     90    O MOL     1       3.917   7.324  37.029  1.00  0.00           O  \nATOM     91    O MOL     1       7.775   7.876   9.284  1.00  0.00           O  \nATOM     92    O MOL     1       6.265   5.337   9.068  1.00  0.00           O  \nATOM     93    O MOL     1       1.895   2.930   9.284  1.00  0.00           O  \nATOM     94    O MOL     1       3.360   5.504   9.183  1.00  0.00           O  \nATOM     95    O MOL     1       7.455   6.337  22.291  1.00  0.00           O  \nATOM     96    O MOL     1       8.831   3.743  22.169  1.00  0.00           O  \nATOM     97    O MOL     1       3.465   0.437   9.362  1.00  0.00           O  \nATOM     98    O MOL     1       4.770   3.052   9.335  1.00  0.00           O  \nATOM     99    O MOL     1       0.541  10.323   9.208  1.00  0.00           O  \nATOM    100    O MOL     1       4.898   7.901   9.246  1.00  0.00           O  \nATOM    101    O MOL     1       1.714  13.949  25.592  1.00  0.00           O  \nATOM    102    O MOL     1       1.178  13.064  24.865  1.00  0.00           O  \nATOM    103    O MOL     1       2.699   4.796   1.100  1.00  0.00           O  \nATOM    104    O MOL     1       1.516   5.130   1.034  1.00  0.00           O  \nATOM    105    O MOL     1       3.589  10.252  24.792  1.00  0.00           O  \nATOM    106    O MOL     1       4.583  11.241  22.268  1.00  0.00           O  \nATOM    107    O MOL     1       6.004   8.709  22.234  1.00  0.00           O  \nATOM    108    O MOL     1       3.162   8.729  22.317  1.00  0.00           O  \nATOM    109    O MOL     1       6.756   3.584  36.833  1.00  0.00           O  \nATOM    110    O MOL     1       6.256   4.217  35.896  1.00  0.00           O  \nATOM    111    O MOL     1      -0.777   3.487  24.818  1.00  0.00           O  \nATOM    112    O MOL     1      -1.116   1.316  22.528  1.00  0.00           O  \nENDMDL\n",
           "ext": "pdb"
          }
         ],
         "kwargs": {},
         "methodName": "replaceStructure",
         "reconstruc_color_scheme": false,
         "target": "Widget",
         "type": "call_method"
        },
        {
         "args": [
          "this._Q = [[1.0, 0.0, 0.0], [0.0, 1.0, 0.0], [0.0, 0.0, 1.0]]"
         ],
         "kwargs": {},
         "methodName": "executeCode",
         "reconstruc_color_scheme": false,
         "target": "Widget",
         "type": "call_method"
        },
        {
         "args": [
          {
           "data": "CRYST1    8.591    9.920   31.691  90.00  90.00  90.00 P 1\nMODEL     1\nATOM      1   Al MOL     1       1.945   1.271   9.750  1.00  0.00          AL  \nATOM      2   Al MOL     1       4.511   1.301  10.094  1.00  0.00          AL  \nATOM      3   Al MOL     1       7.689   1.193   9.678  1.00  0.00          AL  \nATOM      4   Al MOL     1       0.319   3.731   9.819  1.00  0.00          AL  \nATOM      5   Al MOL     1       3.303   3.969  10.022  1.00  0.00          AL  \nATOM      6   Al MOL     1       6.048   3.935   8.470  1.00  0.00          AL  \nATOM      7   Al MOL     1       1.766   6.370  10.000  1.00  0.00          AL  \nATOM      8   Al MOL     1       4.734   6.371   9.798  1.00  0.00          AL  \nATOM      9   Al MOL     1       7.461   6.110   8.422  1.00  0.00          AL  \nATOM     10   Al MOL     1       0.598   8.605   9.599  1.00  0.00          AL  \nATOM     11   Al MOL     1       3.182   8.627   9.742  1.00  0.00          AL  \nATOM     12   Al MOL     1       6.166   8.771   9.794  1.00  0.00          AL  \nATOM     13   Al MOL     1       0.411   2.241  12.103  1.00  0.00          AL  \nATOM     14   Al MOL     1       3.270   2.197  12.278  1.00  0.00          AL  \nATOM     15   Al MOL     1       6.151   2.211  12.220  1.00  0.00          AL  \nATOM     16   Al MOL     1       1.831   4.643  12.304  1.00  0.00          AL  \nATOM     17   Al MOL     1       4.800   4.642  12.250  1.00  0.00          AL  \nATOM     18   Al MOL     1       7.558   4.653  12.120  1.00  0.00          AL  \nATOM     19   Al MOL     1       0.290   7.159  12.129  1.00  0.00          AL  \nATOM     20   Al MOL     1       3.260   7.219  12.087  1.00  0.00          AL  \nATOM     21   Al MOL     1       6.044   7.135  12.181  1.00  0.00          AL  \nATOM     22   Al MOL     1       1.884   9.622  12.027  1.00  0.00          AL  \nATOM     23   Al MOL     1       4.607   9.657  12.223  1.00  0.00          AL  \nATOM     24   Al MOL     1       7.595   9.640  12.093  1.00  0.00          AL  \nATOM     25   Al MOL     1       0.429   0.431  14.343  1.00  0.00          AL  \nATOM     26   Al MOL     1       3.189   0.372  14.562  1.00  0.00          AL  \nATOM     27   Al MOL     1       6.152   0.449  14.438  1.00  0.00          AL  \nATOM     28   Al MOL     1       1.787   2.819  14.521  1.00  0.00          AL  \nATOM     29   Al MOL     1       4.756   2.856  14.676  1.00  0.00          AL  \nATOM     30   Al MOL     1       7.665   2.960  14.402  1.00  0.00          AL  \nATOM     31   Al MOL     1       0.419   5.460  14.414  1.00  0.00          AL  \nATOM     32   Al MOL     1       3.271   5.404  14.413  1.00  0.00          AL  \nATOM     33   Al MOL     1       6.174   5.487  14.471  1.00  0.00          AL  \nATOM     34   Al MOL     1       1.758   7.903  14.344  1.00  0.00          AL  \nATOM     35   Al MOL     1       4.656   7.987  14.444  1.00  0.00          AL  \nATOM     36   Al MOL     1       7.593   7.917  14.383  1.00  0.00          AL  \nATOM     37   Al MOL     1       1.803   1.151  16.690  1.00  0.00          AL  \nATOM     38   Al MOL     1       4.778   1.120  16.754  1.00  0.00          AL  \nATOM     39   Al MOL     1       7.516   1.252  16.664  1.00  0.00          AL  \nATOM     40   Al MOL     1       0.434   3.776  16.669  1.00  0.00          AL  \nATOM     41   Al MOL     1       3.391   3.718  16.805  1.00  0.00          AL  \nATOM     42   Al MOL     1       6.226   3.702  16.813  1.00  0.00          AL  \nATOM     43   Al MOL     1       1.828   6.136  16.798  1.00  0.00          AL  \nATOM     44   Al MOL     1       4.599   6.229  16.744  1.00  0.00          AL  \nATOM     45   Al MOL     1       7.552   6.326  16.752  1.00  0.00          AL  \nATOM     46   Al MOL     1       0.351   8.752  16.712  1.00  0.00          AL  \nATOM     47   Al MOL     1       3.238   8.599  16.769  1.00  0.00          AL  \nATOM     48   Al MOL     1       6.139   8.599  16.726  1.00  0.00          AL  \nATOM     49   Al MOL     1       0.355   2.076  18.961  1.00  0.00          AL  \nATOM     50   Al MOL     1       3.319   1.986  18.995  1.00  0.00          AL  \nATOM     51   Al MOL     1       6.177   2.014  19.099  1.00  0.00          AL  \nATOM     52   Al MOL     1       1.932   4.481  18.939  1.00  0.00          AL  \nATOM     53   Al MOL     1       4.822   4.519  19.102  1.00  0.00          AL  \nATOM     54   Al MOL     1       7.582   4.481  19.021  1.00  0.00          AL  \nATOM     55   Al MOL     1       0.381   6.931  19.118  1.00  0.00          AL  \nATOM     56   Al MOL     1       3.251   6.964  19.115  1.00  0.00          AL  \nATOM     57   Al MOL     1       6.073   7.011  19.114  1.00  0.00          AL  \nATOM     58   Al MOL     1       1.765   9.492  19.003  1.00  0.00          AL  \nATOM     59   Al MOL     1       4.686   9.430  19.133  1.00  0.00          AL  \nATOM     60   Al MOL     1       7.548   9.507  19.145  1.00  0.00          AL  \nATOM     61   Al MOL     1       0.418   0.321  21.429  1.00  0.00          AL  \nATOM     62   Al MOL     1       3.165   0.619  23.116  1.00  0.00          AL  \nATOM     63   Al MOL     1       6.145   0.518  21.650  1.00  0.00          AL  \nATOM     64   Al MOL     1       1.826   2.916  21.262  1.00  0.00          AL  \nATOM     65   Al MOL     1       4.744   2.913  21.507  1.00  0.00          AL  \nATOM     66   Al MOL     1       7.731   2.995  23.023  1.00  0.00          AL  \nATOM     67   Al MOL     1       0.552   5.448  21.415  1.00  0.00          AL  \nATOM     68   Al MOL     1       3.291   5.358  23.005  1.00  0.00          AL  \nATOM     69   Al MOL     1       6.145   5.349  21.499  1.00  0.00          AL  \nATOM     70   Al MOL     1       1.809   7.960  21.591  1.00  0.00          AL  \nATOM     71   Al MOL     1       4.579   7.998  21.577  1.00  0.00          AL  \nATOM     72   Al MOL     1       7.628   7.978  21.414  1.00  0.00          AL  \nATOM     73    O MOL     1      10.418   1.301  22.034  1.00  0.00           O  \nATOM     74    O MOL     1       6.160   3.684  22.271  1.00  0.00           O  \nATOM     75    O MOL     1       4.774   6.232  22.201  1.00  0.00           O  \nATOM     76    O MOL     1       3.423   4.910  24.655  1.00  0.00           O  \nATOM     77    O MOL     1       7.659   0.183   5.055  1.00  0.00           O  \nATOM     78    O MOL     1       7.219   0.041   3.910  1.00  0.00           O  \nATOM     79    O MOL     1       9.002   5.549   9.082  1.00  0.00           O  \nATOM     80    O MOL     1       7.526   5.222   6.882  1.00  0.00           O  \nATOM     81    O MOL     1      10.662   2.904   4.288  1.00  0.00           O  \nATOM     82    O MOL     1       9.695   2.394   3.714  1.00  0.00           O  \nATOM     83    O MOL     1      10.309  -0.630   4.466  1.00  0.00           O  \nATOM     84    O MOL     1      10.803  -0.412   3.353  1.00  0.00           O  \nATOM     85    O MOL     1       5.000  11.855  38.108  1.00  0.00           O  \nATOM     86    O MOL     1       4.760  11.251  37.045  1.00  0.00           O  \nATOM     87    O MOL     1       1.894   6.250  22.308  1.00  0.00           O  \nATOM     88    O MOL     1       3.269   3.774  22.072  1.00  0.00           O  \nATOM     89    O MOL     1       4.917   7.546  37.350  1.00  0.00           O  \nATOM     90    O MOL     1       3.781   7.700  37.814  1.00  0.00           O  \nATOM     91    O MOL     1       7.498   7.891   8.921  1.00  0.00           O  \nATOM     92    O MOL     1       6.194   5.433   9.456  1.00  0.00           O  \nATOM     93    O MOL     1       1.863   3.089   9.294  1.00  0.00           O  \nATOM     94    O MOL     1       3.404   5.503   9.146  1.00  0.00           O  \nATOM     95    O MOL     1       7.624   6.298  22.056  1.00  0.00           O  \nATOM     96    O MOL     1       9.004   3.757  21.892  1.00  0.00           O  \nATOM     97    O MOL     1       3.256   0.373   9.051  1.00  0.00           O  \nATOM     98    O MOL     1       4.762   2.965   9.261  1.00  0.00           O  \nATOM     99    O MOL     1       0.489  10.458   8.923  1.00  0.00           O  \nATOM    100    O MOL     1       4.745   7.963   9.025  1.00  0.00           O  \nATOM    101    O MOL     1       2.571  13.623  25.469  1.00  0.00           O  \nATOM    102    O MOL     1       2.046  12.682  24.798  1.00  0.00           O  \nATOM    103    O MOL     1       2.807   5.957   3.178  1.00  0.00           O  \nATOM    104    O MOL     1       1.575   5.863   3.153  1.00  0.00           O  \nATOM    105    O MOL     1       3.076  11.166  24.754  1.00  0.00           O  \nATOM    106    O MOL     1       4.650  11.157  22.236  1.00  0.00           O  \nATOM    107    O MOL     1       6.127   8.724  22.189  1.00  0.00           O  \nATOM    108    O MOL     1       3.197   8.722  22.537  1.00  0.00           O  \nATOM    109    O MOL     1       7.440   2.858  41.025  1.00  0.00           O  \nATOM    110    O MOL     1       5.908   4.678  38.467  1.00  0.00           O  \nATOM    111    O MOL     1      -0.404   3.234  24.616  1.00  0.00           O  \nATOM    112    O MOL     1      -0.891   1.302  22.257  1.00  0.00           O  \nENDMDL\n",
           "ext": "pdb"
          }
         ],
         "kwargs": {},
         "methodName": "replaceStructure",
         "reconstruc_color_scheme": false,
         "target": "Widget",
         "type": "call_method"
        },
        {
         "args": [
          "this._Q = [[1.0, 0.0, 0.0], [0.0, 1.0, 0.0], [0.0, 0.0, 1.0]]"
         ],
         "kwargs": {},
         "methodName": "executeCode",
         "reconstruc_color_scheme": false,
         "target": "Widget",
         "type": "call_method"
        },
        {
         "args": [
          {
           "data": "CRYST1    8.591    9.920   31.691  90.00  90.00  90.00 P 1\nMODEL     1\nATOM      1   Al MOL     1       2.003   1.256   9.817  1.00  0.00          AL  \nATOM      2   Al MOL     1       5.138   1.213   9.711  1.00  0.00          AL  \nATOM      3   Al MOL     1       7.579   1.233   9.737  1.00  0.00          AL  \nATOM      4   Al MOL     1       0.390   3.635   9.799  1.00  0.00          AL  \nATOM      5   Al MOL     1       3.443   3.668   9.720  1.00  0.00          AL  \nATOM      6   Al MOL     1       6.339   3.858   8.331  1.00  0.00          AL  \nATOM      7   Al MOL     1       1.918   6.186   9.769  1.00  0.00          AL  \nATOM      8   Al MOL     1       4.926   6.148   9.918  1.00  0.00          AL  \nATOM      9   Al MOL     1       7.642   6.225   8.164  1.00  0.00          AL  \nATOM     10   Al MOL     1       0.593   8.537   9.795  1.00  0.00          AL  \nATOM     11   Al MOL     1       3.350   8.713   9.861  1.00  0.00          AL  \nATOM     12   Al MOL     1       6.323   8.740   9.945  1.00  0.00          AL  \nATOM     13   Al MOL     1       0.330   2.225  12.023  1.00  0.00          AL  \nATOM     14   Al MOL     1       3.352   2.209  12.051  1.00  0.00          AL  \nATOM     15   Al MOL     1       6.183   2.263  12.065  1.00  0.00          AL  \nATOM     16   Al MOL     1       1.800   4.629  12.260  1.00  0.00          AL  \nATOM     17   Al MOL     1       4.834   4.605  12.167  1.00  0.00          AL  \nATOM     18   Al MOL     1       7.650   4.665  11.940  1.00  0.00          AL  \nATOM     19   Al MOL     1       0.452   7.154  12.242  1.00  0.00          AL  \nATOM     20   Al MOL     1       3.248   7.133  12.165  1.00  0.00          AL  \nATOM     21   Al MOL     1       6.166   7.044  12.177  1.00  0.00          AL  \nATOM     22   Al MOL     1       1.804   9.660  12.249  1.00  0.00          AL  \nATOM     23   Al MOL     1       4.642   9.603  12.325  1.00  0.00          AL  \nATOM     24   Al MOL     1       7.643   9.678  12.251  1.00  0.00          AL  \nATOM     25   Al MOL     1       0.499   0.491  14.512  1.00  0.00          AL  \nATOM     26   Al MOL     1       3.291   0.499  14.545  1.00  0.00          AL  \nATOM     27   Al MOL     1       6.068   0.528  14.421  1.00  0.00          AL  \nATOM     28   Al MOL     1       1.961   2.827  14.581  1.00  0.00          AL  \nATOM     29   Al MOL     1       4.737   2.934  14.453  1.00  0.00          AL  \nATOM     30   Al MOL     1       7.528   2.978  14.449  1.00  0.00          AL  \nATOM     31   Al MOL     1       0.608   5.546  14.467  1.00  0.00          AL  \nATOM     32   Al MOL     1       3.457   5.498  14.461  1.00  0.00          AL  \nATOM     33   Al MOL     1       6.211   5.404  14.472  1.00  0.00          AL  \nATOM     34   Al MOL     1       1.869   8.006  14.536  1.00  0.00          AL  \nATOM     35   Al MOL     1       4.667   8.004  14.626  1.00  0.00          AL  \nATOM     36   Al MOL     1       7.579   7.952  14.481  1.00  0.00          AL  \nATOM     37   Al MOL     1       1.853   1.267  16.945  1.00  0.00          AL  \nATOM     38   Al MOL     1       4.650   1.203  16.773  1.00  0.00          AL  \nATOM     39   Al MOL     1       7.641   1.268  16.754  1.00  0.00          AL  \nATOM     40   Al MOL     1       0.346   3.822  16.671  1.00  0.00          AL  \nATOM     41   Al MOL     1       3.238   3.779  16.837  1.00  0.00          AL  \nATOM     42   Al MOL     1       6.079   3.799  16.761  1.00  0.00          AL  \nATOM     43   Al MOL     1       1.767   6.258  16.740  1.00  0.00          AL  \nATOM     44   Al MOL     1       4.736   6.239  16.776  1.00  0.00          AL  \nATOM     45   Al MOL     1       7.566   6.335  16.698  1.00  0.00          AL  \nATOM     46   Al MOL     1       0.467   8.746  16.810  1.00  0.00          AL  \nATOM     47   Al MOL     1       3.187   8.676  16.794  1.00  0.00          AL  \nATOM     48   Al MOL     1       6.135   8.666  16.794  1.00  0.00          AL  \nATOM     49   Al MOL     1       0.332   2.009  19.138  1.00  0.00          AL  \nATOM     50   Al MOL     1       3.198   2.000  19.098  1.00  0.00          AL  \nATOM     51   Al MOL     1       6.155   2.050  18.986  1.00  0.00          AL  \nATOM     52   Al MOL     1       1.668   4.384  19.169  1.00  0.00          AL  \nATOM     53   Al MOL     1       4.637   4.411  19.201  1.00  0.00          AL  \nATOM     54   Al MOL     1       7.412   4.528  19.006  1.00  0.00          AL  \nATOM     55   Al MOL     1       0.242   7.033  19.020  1.00  0.00          AL  \nATOM     56   Al MOL     1       3.319   6.929  19.041  1.00  0.00          AL  \nATOM     57   Al MOL     1       6.009   6.857  19.138  1.00  0.00          AL  \nATOM     58   Al MOL     1       1.826   9.399  18.954  1.00  0.00          AL  \nATOM     59   Al MOL     1       4.630   9.567  18.991  1.00  0.00          AL  \nATOM     60   Al MOL     1       7.523   9.487  19.004  1.00  0.00          AL  \nATOM     61   Al MOL     1       0.307   0.507  21.299  1.00  0.00          AL  \nATOM     62   Al MOL     1       3.180   0.487  22.976  1.00  0.00          AL  \nATOM     63   Al MOL     1       6.069   0.551  21.470  1.00  0.00          AL  \nATOM     64   Al MOL     1       1.779   2.831  21.532  1.00  0.00          AL  \nATOM     65   Al MOL     1       4.736   3.029  21.444  1.00  0.00          AL  \nATOM     66   Al MOL     1       7.650   3.016  23.084  1.00  0.00          AL  \nATOM     67   Al MOL     1       0.274   5.389  21.286  1.00  0.00          AL  \nATOM     68   Al MOL     1       3.071   5.389  22.867  1.00  0.00          AL  \nATOM     69   Al MOL     1       6.012   5.381  21.574  1.00  0.00          AL  \nATOM     70   Al MOL     1       1.738   8.008  21.249  1.00  0.00          AL  \nATOM     71   Al MOL     1       4.494   7.832  21.499  1.00  0.00          AL  \nATOM     72   Al MOL     1       7.530   8.053  21.294  1.00  0.00          AL  \nATOM     73    O MOL     1      10.286   1.215  22.205  1.00  0.00           O  \nATOM     74    O MOL     1       6.162   3.822  22.361  1.00  0.00           O  \nATOM     75    O MOL     1       4.592   6.251  22.318  1.00  0.00           O  \nATOM     76    O MOL     1       2.760   5.444  24.544  1.00  0.00           O  \nATOM     77    O MOL     1       8.981  -1.030   5.597  1.00  0.00           O  \nATOM     78    O MOL     1       8.199  -0.106   5.877  1.00  0.00           O  \nATOM     79    O MOL     1       9.086   5.419   9.173  1.00  0.00           O  \nATOM     80    O MOL     1       7.287   5.934   6.400  1.00  0.00           O  \nATOM     81    O MOL     1      10.382   3.111   4.697  1.00  0.00           O  \nATOM     82    O MOL     1       9.492   3.191   3.845  1.00  0.00           O  \nATOM     83    O MOL     1       9.391  -0.274   2.551  1.00  0.00           O  \nATOM     84    O MOL     1      10.602  -0.024   2.497  1.00  0.00           O  \nATOM     85    O MOL     1       5.032  10.804  37.346  1.00  0.00           O  \nATOM     86    O MOL     1       5.016  10.107  36.325  1.00  0.00           O  \nATOM     87    O MOL     1       1.766   6.264  21.837  1.00  0.00           O  \nATOM     88    O MOL     1       3.167   3.735  22.172  1.00  0.00           O  \nATOM     89    O MOL     1       3.962   7.309  38.114  1.00  0.00           O  \nATOM     90    O MOL     1       3.085   8.185  38.186  1.00  0.00           O  \nATOM     91    O MOL     1       7.669   7.690   9.294  1.00  0.00           O  \nATOM     92    O MOL     1       6.376   5.446   9.135  1.00  0.00           O  \nATOM     93    O MOL     1       1.951   3.001   9.103  1.00  0.00           O  \nATOM     94    O MOL     1       3.492   5.408   9.076  1.00  0.00           O  \nATOM     95    O MOL     1       7.469   6.338  21.998  1.00  0.00           O  \nATOM     96    O MOL     1       8.972   3.833  22.130  1.00  0.00           O  \nATOM     97    O MOL     1       3.493   0.493   9.108  1.00  0.00           O  \nATOM     98    O MOL     1       4.877   2.996   8.774  1.00  0.00           O  \nATOM     99    O MOL     1       0.527  10.282   9.074  1.00  0.00           O  \nATOM    100    O MOL     1       4.873   7.863   9.310  1.00  0.00           O  \nATOM    101    O MOL     1       2.182  13.956  25.343  1.00  0.00           O  \nATOM    102    O MOL     1       1.567  13.037  24.700  1.00  0.00           O  \nATOM    103    O MOL     1       2.297   6.233   4.195  1.00  0.00           O  \nATOM    104    O MOL     1       1.329   6.193   4.966  1.00  0.00           O  \nATOM    105    O MOL     1       3.449  10.312  24.631  1.00  0.00           O  \nATOM    106    O MOL     1       4.596  11.251  22.049  1.00  0.00           O  \nATOM    107    O MOL     1       5.981   8.774  21.969  1.00  0.00           O  \nATOM    108    O MOL     1       3.138   8.783  22.155  1.00  0.00           O  \nATOM    109    O MOL     1       7.736   2.733  40.590  1.00  0.00           O  \nATOM    110    O MOL     1       7.383   4.512  38.709  1.00  0.00           O  \nATOM    111    O MOL     1      -0.382   3.308  24.699  1.00  0.00           O  \nATOM    112    O MOL     1      -1.068   1.325  22.248  1.00  0.00           O  \nENDMDL\n",
           "ext": "pdb"
          }
         ],
         "kwargs": {},
         "methodName": "replaceStructure",
         "reconstruc_color_scheme": false,
         "target": "Widget",
         "type": "call_method"
        },
        {
         "args": [
          "this._Q = [[1.0, 0.0, 0.0], [0.0, 1.0, 0.0], [0.0, 0.0, 1.0]]"
         ],
         "kwargs": {},
         "methodName": "executeCode",
         "reconstruc_color_scheme": false,
         "target": "Widget",
         "type": "call_method"
        },
        {
         "args": [
          {
           "data": "CRYST1    8.591    9.920   31.691  90.00  90.00  90.00 P 1\nMODEL     1\nATOM      1   Al MOL     1       1.775   1.226   9.507  1.00  0.00          AL  \nATOM      2   Al MOL     1       4.789   1.286   9.574  1.00  0.00          AL  \nATOM      3   Al MOL     1       7.580   1.187   9.957  1.00  0.00          AL  \nATOM      4   Al MOL     1       0.417   3.780   9.872  1.00  0.00          AL  \nATOM      5   Al MOL     1       3.305   3.678   9.997  1.00  0.00          AL  \nATOM      6   Al MOL     1       6.313   3.675   8.352  1.00  0.00          AL  \nATOM      7   Al MOL     1       1.549   6.282   9.887  1.00  0.00          AL  \nATOM      8   Al MOL     1       4.791   6.019  10.083  1.00  0.00          AL  \nATOM      9   Al MOL     1       7.375   6.253   8.379  1.00  0.00          AL  \nATOM     10   Al MOL     1       0.435   8.566   9.961  1.00  0.00          AL  \nATOM     11   Al MOL     1       3.230   8.639   8.296  1.00  0.00          AL  \nATOM     12   Al MOL     1       6.073   8.648   9.723  1.00  0.00          AL  \nATOM     13   Al MOL     1       0.457   2.116  12.027  1.00  0.00          AL  \nATOM     14   Al MOL     1       3.488   2.091  12.052  1.00  0.00          AL  \nATOM     15   Al MOL     1       6.208   2.122  12.105  1.00  0.00          AL  \nATOM     16   Al MOL     1       1.729   4.583  12.199  1.00  0.00          AL  \nATOM     17   Al MOL     1       4.796   4.618  12.262  1.00  0.00          AL  \nATOM     18   Al MOL     1       7.523   4.850  12.181  1.00  0.00          AL  \nATOM     19   Al MOL     1       0.370   7.269  12.379  1.00  0.00          AL  \nATOM     20   Al MOL     1       3.198   7.113  12.268  1.00  0.00          AL  \nATOM     21   Al MOL     1       6.142   7.139  12.149  1.00  0.00          AL  \nATOM     22   Al MOL     1       2.014   9.689  12.009  1.00  0.00          AL  \nATOM     23   Al MOL     1       4.849   9.495  11.987  1.00  0.00          AL  \nATOM     24   Al MOL     1       7.513   9.543  12.236  1.00  0.00          AL  \nATOM     25   Al MOL     1       0.467   0.458  14.404  1.00  0.00          AL  \nATOM     26   Al MOL     1       3.379   0.410  14.487  1.00  0.00          AL  \nATOM     27   Al MOL     1       6.208   0.357  14.502  1.00  0.00          AL  \nATOM     28   Al MOL     1       1.882   2.968  14.414  1.00  0.00          AL  \nATOM     29   Al MOL     1       4.681   2.893  14.434  1.00  0.00          AL  \nATOM     30   Al MOL     1       7.595   2.968  14.366  1.00  0.00          AL  \nATOM     31   Al MOL     1       0.466   5.255  14.461  1.00  0.00          AL  \nATOM     32   Al MOL     1       3.264   5.386  14.527  1.00  0.00          AL  \nATOM     33   Al MOL     1       6.282   5.476  14.609  1.00  0.00          AL  \nATOM     34   Al MOL     1       1.834   8.001  14.518  1.00  0.00          AL  \nATOM     35   Al MOL     1       4.806   7.894  14.576  1.00  0.00          AL  \nATOM     36   Al MOL     1       7.599   7.880  14.684  1.00  0.00          AL  \nATOM     37   Al MOL     1       1.843   1.266  16.716  1.00  0.00          AL  \nATOM     38   Al MOL     1       4.659   1.360  16.631  1.00  0.00          AL  \nATOM     39   Al MOL     1       7.621   1.296  16.714  1.00  0.00          AL  \nATOM     40   Al MOL     1       0.415   3.675  16.774  1.00  0.00          AL  \nATOM     41   Al MOL     1       3.259   3.733  16.798  1.00  0.00          AL  \nATOM     42   Al MOL     1       6.120   3.611  16.758  1.00  0.00          AL  \nATOM     43   Al MOL     1       1.907   6.334  16.782  1.00  0.00          AL  \nATOM     44   Al MOL     1       4.683   6.325  16.910  1.00  0.00          AL  \nATOM     45   Al MOL     1       7.599   6.224  16.748  1.00  0.00          AL  \nATOM     46   Al MOL     1       0.381   8.708  16.841  1.00  0.00          AL  \nATOM     47   Al MOL     1       3.262   8.677  16.726  1.00  0.00          AL  \nATOM     48   Al MOL     1       6.081   8.703  16.814  1.00  0.00          AL  \nATOM     49   Al MOL     1       0.460   2.121  19.113  1.00  0.00          AL  \nATOM     50   Al MOL     1       3.364   2.188  19.018  1.00  0.00          AL  \nATOM     51   Al MOL     1       6.254   2.095  19.190  1.00  0.00          AL  \nATOM     52   Al MOL     1       2.056   4.649  19.016  1.00  0.00          AL  \nATOM     53   Al MOL     1       4.958   4.491  19.204  1.00  0.00          AL  \nATOM     54   Al MOL     1       7.790   4.669  19.005  1.00  0.00          AL  \nATOM     55   Al MOL     1       0.587   7.055  18.994  1.00  0.00          AL  \nATOM     56   Al MOL     1       3.363   7.044  19.134  1.00  0.00          AL  \nATOM     57   Al MOL     1       6.145   6.899  19.127  1.00  0.00          AL  \nATOM     58   Al MOL     1       1.841   9.635  19.161  1.00  0.00          AL  \nATOM     59   Al MOL     1       4.669   9.755  19.017  1.00  0.00          AL  \nATOM     60   Al MOL     1       7.432   9.415  18.988  1.00  0.00          AL  \nATOM     61   Al MOL     1       0.476   0.514  21.394  1.00  0.00          AL  \nATOM     62   Al MOL     1       3.358   0.573  23.036  1.00  0.00          AL  \nATOM     63   Al MOL     1       6.270   0.482  21.400  1.00  0.00          AL  \nATOM     64   Al MOL     1       2.031   2.987  21.320  1.00  0.00          AL  \nATOM     65   Al MOL     1       4.977   2.939  21.501  1.00  0.00          AL  \nATOM     66   Al MOL     1       7.857   3.020  22.924  1.00  0.00          AL  \nATOM     67   Al MOL     1       0.480   5.473  21.316  1.00  0.00          AL  \nATOM     68   Al MOL     1       3.180   5.322  22.953  1.00  0.00          AL  \nATOM     69   Al MOL     1       6.015   5.483  21.636  1.00  0.00          AL  \nATOM     70   Al MOL     1       1.835   7.938  21.343  1.00  0.00          AL  \nATOM     71   Al MOL     1       4.646   7.890  21.467  1.00  0.00          AL  \nATOM     72   Al MOL     1       7.727   7.984  21.221  1.00  0.00          AL  \nATOM     73    O MOL     1      10.550   1.332  22.060  1.00  0.00           O  \nATOM     74    O MOL     1       6.297   3.829  22.348  1.00  0.00           O  \nATOM     75    O MOL     1       4.614   6.318  22.466  1.00  0.00           O  \nATOM     76    O MOL     1       2.654   5.015  24.576  1.00  0.00           O  \nATOM     77    O MOL     1       9.134  -0.289   5.241  1.00  0.00           O  \nATOM     78    O MOL     1       8.535  -1.267   5.686  1.00  0.00           O  \nATOM     79    O MOL     1       8.796   5.432   9.217  1.00  0.00           O  \nATOM     80    O MOL     1       6.987   5.661   6.719  1.00  0.00           O  \nATOM     81    O MOL     1      10.403   2.676   5.254  1.00  0.00           O  \nATOM     82    O MOL     1       9.768   2.629   4.198  1.00  0.00           O  \nATOM     83    O MOL     1       8.615  -0.442   0.931  1.00  0.00           O  \nATOM     84    O MOL     1       9.482   0.093   1.626  1.00  0.00           O  \nATOM     85    O MOL     1       5.663  11.402  38.435  1.00  0.00           O  \nATOM     86    O MOL     1       5.763  11.040  37.247  1.00  0.00           O  \nATOM     87    O MOL     1       1.939   6.248  22.084  1.00  0.00           O  \nATOM     88    O MOL     1       3.446   3.770  22.094  1.00  0.00           O  \nATOM     89    O MOL     1       3.084   9.048  38.448  1.00  0.00           O  \nATOM     90    O MOL     1       1.555   7.747  40.640  1.00  0.00           O  \nATOM     91    O MOL     1       7.525   8.037   8.997  1.00  0.00           O  \nATOM     92    O MOL     1       6.146   5.242   9.116  1.00  0.00           O  \nATOM     93    O MOL     1       1.925   2.972   9.038  1.00  0.00           O  \nATOM     94    O MOL     1       3.206   5.470   9.450  1.00  0.00           O  \nATOM     95    O MOL     1       7.644   6.281  22.015  1.00  0.00           O  \nATOM     96    O MOL     1       9.113   3.834  21.930  1.00  0.00           O  \nATOM     97    O MOL     1       3.151   0.285   9.143  1.00  0.00           O  \nATOM     98    O MOL     1       4.757   2.928   8.856  1.00  0.00           O  \nATOM     99    O MOL     1       0.364  10.248   9.054  1.00  0.00           O  \nATOM    100    O MOL     1       4.647   7.869   8.885  1.00  0.00           O  \nATOM    101    O MOL     1       2.335  13.444  25.128  1.00  0.00           O  \nATOM    102    O MOL     1       1.643  12.813  24.286  1.00  0.00           O  \nATOM    103    O MOL     1       1.200   6.380   3.700  1.00  0.00           O  \nATOM    104    O MOL     1       1.032   5.813   4.780  1.00  0.00           O  \nATOM    105    O MOL     1       3.156  10.597  24.720  1.00  0.00           O  \nATOM    106    O MOL     1       4.822  11.194  22.158  1.00  0.00           O  \nATOM    107    O MOL     1       6.188   8.700  22.006  1.00  0.00           O  \nATOM    108    O MOL     1       3.253   8.821  22.171  1.00  0.00           O  \nATOM    109    O MOL     1       7.641   2.865  40.957  1.00  0.00           O  \nATOM    110    O MOL     1       7.183   4.207  38.634  1.00  0.00           O  \nATOM    111    O MOL     1      -0.022   3.163  24.513  1.00  0.00           O  \nATOM    112    O MOL     1      -0.911   1.360  22.260  1.00  0.00           O  \nENDMDL\n",
           "ext": "pdb"
          }
         ],
         "kwargs": {},
         "methodName": "replaceStructure",
         "reconstruc_color_scheme": false,
         "target": "Widget",
         "type": "call_method"
        },
        {
         "args": [
          "this._Q = [[1.0, 0.0, 0.0], [0.0, 1.0, 0.0], [0.0, 0.0, 1.0]]"
         ],
         "kwargs": {},
         "methodName": "executeCode",
         "reconstruc_color_scheme": false,
         "target": "Widget",
         "type": "call_method"
        }
       ],
       "_ngl_original_stage_parameters": {
        "ambientColor": 14540253,
        "ambientIntensity": 0.2,
        "backgroundColor": "white",
        "cameraEyeSep": 0.3,
        "cameraFov": 40,
        "cameraType": "perspective",
        "clipDist": 10,
        "clipFar": 100,
        "clipNear": 0,
        "fogFar": 100,
        "fogNear": 50,
        "hoverTimeout": 0,
        "impostor": true,
        "lightColor": 14540253,
        "lightIntensity": 1,
        "mousePreset": "default",
        "panSpeed": 1,
        "quality": "medium",
        "rotateSpeed": 2,
        "sampleLevel": 0,
        "tooltip": true,
        "workerDefault": true,
        "zoomSpeed": 1.2
       },
       "_ngl_repr_dict": {
        "0": {
         "0": {
          "params": {
           "clipCenter": {
            "x": 0,
            "y": 0,
            "z": 0
           },
           "clipNear": 0,
           "clipRadius": 0,
           "colorMode": "hcl",
           "colorReverse": false,
           "colorScale": "",
           "colorScheme": "element",
           "colorValue": "orange",
           "defaultAssembly": "",
           "depthWrite": true,
           "diffuse": 16777215,
           "diffuseInterior": false,
           "disableImpostor": false,
           "disablePicking": false,
           "flatShaded": false,
           "interiorColor": 2236962,
           "interiorDarkening": 0,
           "lazy": false,
           "matrix": {
            "elements": [
             1,
             0,
             0,
             0,
             0,
             1,
             0,
             0,
             0,
             0,
             1,
             0,
             0,
             0,
             0,
             1
            ]
           },
           "metalness": 0,
           "opacity": 1,
           "quality": "medium",
           "radialSegments": 10,
           "radiusData": {},
           "radiusScale": 1,
           "radiusSize": 0.06963064692614526,
           "radiusType": "vdw",
           "roughness": 0.4,
           "sele": "all",
           "side": "double",
           "sphereDetail": 1,
           "useInteriorColor": true,
           "visible": true,
           "wireframe": false
          },
          "type": "unitcell"
         },
         "1": {
          "params": {
           "assembly": "default",
           "clipCenter": {
            "x": 0,
            "y": 0,
            "z": 0
           },
           "clipNear": 0,
           "clipRadius": 0,
           "colorMode": "hcl",
           "colorReverse": false,
           "colorScale": "rainbow",
           "colorScheme": "element",
           "colorValue": 9474192,
           "defaultAssembly": "",
           "depthWrite": true,
           "diffuse": 16777215,
           "diffuseInterior": false,
           "disableImpostor": false,
           "disablePicking": false,
           "flatShaded": false,
           "interiorColor": 2236962,
           "interiorDarkening": 0,
           "lazy": false,
           "matrix": {
            "elements": [
             1,
             0,
             0,
             0,
             0,
             1,
             0,
             0,
             0,
             0,
             1,
             0,
             0,
             0,
             0,
             1
            ]
           },
           "metalness": 0,
           "opacity": 1,
           "quality": "medium",
           "radiusData": {},
           "radiusScale": 0.5,
           "radiusSize": 1,
           "radiusType": "covalent",
           "roughness": 0.4,
           "sele": "all",
           "side": "double",
           "sphereDetail": 1,
           "useInteriorColor": true,
           "visible": true,
           "wireframe": false
          },
          "type": "spacefill"
         },
         "2": {
          "params": {
           "aspectRatio": 2,
           "assembly": "default",
           "bondScale": 0.4,
           "bondSpacing": 1,
           "clipCenter": {
            "x": 0,
            "y": 0,
            "z": 0
           },
           "clipNear": 0,
           "clipRadius": 0,
           "colorMode": "hcl",
           "colorReverse": false,
           "colorScale": "",
           "colorScheme": "element",
           "colorValue": 9474192,
           "cylinderOnly": false,
           "defaultAssembly": "",
           "depthWrite": true,
           "diffuse": 16777215,
           "diffuseInterior": false,
           "disableImpostor": false,
           "disablePicking": false,
           "flatShaded": false,
           "interiorColor": 2236962,
           "interiorDarkening": 0,
           "lazy": false,
           "lineOnly": false,
           "linewidth": 2,
           "matrix": {
            "elements": [
             1,
             0,
             0,
             0,
             0,
             1,
             0,
             0,
             0,
             0,
             1,
             0,
             0,
             0,
             0,
             1
            ]
           },
           "metalness": 0,
           "multipleBond": "off",
           "opacity": 1,
           "openEnded": true,
           "quality": "medium",
           "radialSegments": 10,
           "radiusData": {},
           "radiusScale": 1,
           "radiusSize": 0.15,
           "radiusType": "size",
           "roughness": 0.4,
           "sele": "all",
           "side": "double",
           "sphereDetail": 1,
           "useInteriorColor": true,
           "visible": true,
           "wireframe": false
          },
          "type": "ball+stick"
         }
        }
       },
       "_ngl_serialize": false,
       "_ngl_version": "2.0.0-dev.36",
       "_ngl_view_id": [
        "EADD7B2C-3B74-4006-93B2-F3629F76B1EB"
       ],
       "_player_dict": {},
       "_scene_position": {},
       "_scene_rotation": {},
       "_synced_model_ids": [],
       "_synced_repr_model_ids": [],
       "_view_height": "",
       "_view_width": "",
       "background": "white",
       "frame": 99,
       "gui_style": null,
       "layout": "IPY_MODEL_1649261ad0c2468db5c2fc3af68e87b3",
       "max_frame": 99,
       "n_components": 1,
       "picked": {}
      }
     },
     "bc55e3de35a54364a1dfb09e72ed1aa5": {
      "model_module": "@jupyter-widgets/controls",
      "model_module_version": "1.5.0",
      "model_name": "LinkModel",
      "state": {
       "source": [
        "IPY_MODEL_111137225baa4ba6b008e52a4d5bb306",
        "value"
       ],
       "target": [
        "IPY_MODEL_fe31fea721f746c6978a3170f905f50a",
        "value"
       ]
      }
     },
     "befba668182b474483e53f660302338f": {
      "model_module": "@jupyter-widgets/controls",
      "model_module_version": "1.5.0",
      "model_name": "DescriptionStyleModel",
      "state": {
       "description_width": ""
      }
     },
     "bf81a866d78a41b1a49a7cfaca9df388": {
      "model_module": "@jupyter-widgets/controls",
      "model_module_version": "1.5.0",
      "model_name": "FloatSliderModel",
      "state": {
       "description": "Force scale",
       "layout": "IPY_MODEL_107508c5a1a34cfa815f7c326ee7c8da",
       "step": 0.1,
       "style": "IPY_MODEL_f05c44170426440789b0cbb2e6fc3129",
       "value": 0.5
      }
     },
     "c0086e91adcb413b8684fdba0a6610ff": {
      "model_module": "@jupyter-widgets/controls",
      "model_module_version": "1.5.0",
      "model_name": "CheckboxModel",
      "state": {
       "description": "Show charge",
       "disabled": false,
       "layout": "IPY_MODEL_80ed47befbb94e3fa378273caa584a76",
       "style": "IPY_MODEL_e988d1c493224c158efa6d022dc081ad",
       "value": false
      }
     },
     "c143f6915b5c48c4964bf634335c7d62": {
      "model_module": "@jupyter-widgets/base",
      "model_module_version": "1.2.0",
      "model_name": "LayoutModel",
      "state": {}
     },
     "c15556605e194e6c9a61359e1764090c": {
      "model_module": "@jupyter-widgets/controls",
      "model_module_version": "1.5.0",
      "model_name": "ButtonStyleModel",
      "state": {}
     },
     "c1a4a70b27f448f6afa333cdf863cd71": {
      "model_module": "@jupyter-widgets/controls",
      "model_module_version": "1.5.0",
      "model_name": "IntSliderModel",
      "state": {
       "layout": "IPY_MODEL_408f9bd4992a4d77a30ccf3ddf888e2d",
       "style": "IPY_MODEL_dd848d4027b448368e14398e3501c521"
      }
     },
     "c29a8749727e48bea4a29a55529dcaf4": {
      "model_module": "@jupyter-widgets/base",
      "model_module_version": "1.2.0",
      "model_name": "LayoutModel",
      "state": {
       "width": "34px"
      }
     },
     "c31c64bed2c14c4dad936988fd720697": {
      "model_module": "@jupyter-widgets/controls",
      "model_module_version": "1.5.0",
      "model_name": "LinkModel",
      "state": {
       "source": [
        "IPY_MODEL_7907fcb1c02c4f62857d1d81fb7131a2",
        "value"
       ],
       "target": [
        "IPY_MODEL_70953ec5e4ab4992af47ef0874b281fb",
        "value"
       ]
      }
     },
     "c331ad0643da4b98bc82e6bad37fc261": {
      "model_module": "@jupyter-widgets/controls",
      "model_module_version": "1.5.0",
      "model_name": "SliderStyleModel",
      "state": {
       "description_width": ""
      }
     },
     "c38ccb9f2b954b71a76aa91e09668fbe": {
      "model_module": "@jupyter-widgets/base",
      "model_module_version": "1.2.0",
      "model_name": "LayoutModel",
      "state": {}
     },
     "c5a25c3fbfed485b84e3804e59fef3a1": {
      "model_module": "@jupyter-widgets/controls",
      "model_module_version": "1.5.0",
      "model_name": "LinkModel",
      "state": {
       "source": [
        "IPY_MODEL_7907fcb1c02c4f62857d1d81fb7131a2",
        "max"
       ],
       "target": [
        "IPY_MODEL_bb794d697a9d4dc3901980f5f176d62e",
        "max_frame"
       ]
      }
     },
     "c614e3e51d6d44a1b19ad4ab54ca814b": {
      "model_module": "@jupyter-widgets/base",
      "model_module_version": "1.2.0",
      "model_name": "LayoutModel",
      "state": {}
     },
     "c76f607b737f44e89bfeae91d7f36e8b": {
      "model_module": "@jupyter-widgets/controls",
      "model_module_version": "1.5.0",
      "model_name": "SliderStyleModel",
      "state": {
       "description_width": ""
      }
     },
     "c86ea77c41f84d269c66fedd0b002434": {
      "model_module": "@jupyter-widgets/controls",
      "model_module_version": "1.5.0",
      "model_name": "HBoxModel",
      "state": {
       "children": [
        "IPY_MODEL_ac76b2cce3104b1bb014693f92116092",
        "IPY_MODEL_6f8cdacf384743a1a047424533207d8b"
       ],
       "layout": "IPY_MODEL_43e1fc5d881f4e528e2fe6a3af05ef3a"
      }
     },
     "c873542a04d246d5b7b979d992792cc8": {
      "model_module": "@jupyter-widgets/base",
      "model_module_version": "1.2.0",
      "model_name": "LayoutModel",
      "state": {}
     },
     "c960114fa7744209927f88a095657a55": {
      "model_module": "@jupyter-widgets/base",
      "model_module_version": "1.2.0",
      "model_name": "LayoutModel",
      "state": {}
     },
     "c997bd359191467e825dac5b60a05ba3": {
      "model_module": "nglview-js-widgets",
      "model_module_version": "3.0.1",
      "model_name": "NGLModel",
      "state": {
       "_camera_orientation": [
        49.753256542794375,
        0,
        0,
        0,
        0,
        49.753256542794375,
        0,
        0,
        0,
        0,
        49.753256542794375,
        0,
        -5.375,
        -5.375,
        -5.375,
        1
       ],
       "_camera_str": "orthographic",
       "_gui_theme": null,
       "_ibtn_fullscreen": "IPY_MODEL_f6184d500a6445808f03228840241cf8",
       "_igui": null,
       "_iplayer": "IPY_MODEL_4c4f98c826fc499a8f28fc639f5adcc5",
       "_ngl_color_dict": {},
       "_ngl_coordinate_resource": {},
       "_ngl_full_stage_parameters": {
        "ambientColor": 14540253,
        "ambientIntensity": 0.2,
        "backgroundColor": "white",
        "cameraEyeSep": 0.3,
        "cameraFov": 40,
        "cameraType": "orthographic",
        "clipDist": 0,
        "clipFar": 100,
        "clipNear": 0,
        "fogFar": 100,
        "fogNear": 50,
        "hoverTimeout": 0,
        "impostor": true,
        "lightColor": 14540253,
        "lightIntensity": 1,
        "mousePreset": "default",
        "panSpeed": 1,
        "quality": "medium",
        "rotateSpeed": 2,
        "sampleLevel": 0,
        "tooltip": true,
        "workerDefault": true,
        "zoomSpeed": 1.2
       },
       "_ngl_msg_archive": [
        {
         "args": [
          {
           "binary": false,
           "data": "CRYST1   12.900   12.900   12.900  90.00  90.00  90.00 P 1\nMODEL     1\nATOM      1   Al MOL     1       0.000   0.000   0.000  1.00  0.00          AL  \nATOM      2   Al MOL     1       0.000   2.150   2.150  1.00  0.00          AL  \nATOM      3   Al MOL     1       2.150   0.000   2.150  1.00  0.00          AL  \nATOM      4   Al MOL     1       2.150   2.150   0.000  1.00  0.00          AL  \nATOM      5   Al MOL     1       0.000   0.000   4.300  1.00  0.00          AL  \nATOM      6   Al MOL     1       0.000   2.150   6.450  1.00  0.00          AL  \nATOM      7   Al MOL     1       2.150   0.000   6.450  1.00  0.00          AL  \nATOM      8   Al MOL     1       2.150   2.150   4.300  1.00  0.00          AL  \nATOM      9   Al MOL     1       0.000   0.000   8.600  1.00  0.00          AL  \nATOM     10   Al MOL     1       0.000   2.150  10.750  1.00  0.00          AL  \nATOM     11   Al MOL     1       2.150   0.000  10.750  1.00  0.00          AL  \nATOM     12   Al MOL     1       2.150   2.150   8.600  1.00  0.00          AL  \nATOM     13   Al MOL     1       0.000   4.300   0.000  1.00  0.00          AL  \nATOM     14   Al MOL     1       0.000   6.450   2.150  1.00  0.00          AL  \nATOM     15   Al MOL     1       2.150   4.300   2.150  1.00  0.00          AL  \nATOM     16   Al MOL     1       2.150   6.450   0.000  1.00  0.00          AL  \nATOM     17   Al MOL     1       0.000   4.300   4.300  1.00  0.00          AL  \nATOM     18   Al MOL     1       0.000   6.450   6.450  1.00  0.00          AL  \nATOM     19   Al MOL     1       2.150   4.300   6.450  1.00  0.00          AL  \nATOM     20   Al MOL     1       2.150   6.450   4.300  1.00  0.00          AL  \nATOM     21   Al MOL     1       0.000   4.300   8.600  1.00  0.00          AL  \nATOM     22   Al MOL     1       0.000   6.450  10.750  1.00  0.00          AL  \nATOM     23   Al MOL     1       2.150   4.300  10.750  1.00  0.00          AL  \nATOM     24   Al MOL     1       2.150   6.450   8.600  1.00  0.00          AL  \nATOM     25   Al MOL     1       0.000   8.600   0.000  1.00  0.00          AL  \nATOM     26   Al MOL     1       0.000  10.750   2.150  1.00  0.00          AL  \nATOM     27   Al MOL     1       2.150   8.600   2.150  1.00  0.00          AL  \nATOM     28   Al MOL     1       2.150  10.750   0.000  1.00  0.00          AL  \nATOM     29   Al MOL     1       0.000   8.600   4.300  1.00  0.00          AL  \nATOM     30   Al MOL     1       0.000  10.750   6.450  1.00  0.00          AL  \nATOM     31   Al MOL     1       2.150   8.600   6.450  1.00  0.00          AL  \nATOM     32   Al MOL     1       2.150  10.750   4.300  1.00  0.00          AL  \nATOM     33   Al MOL     1       0.000   8.600   8.600  1.00  0.00          AL  \nATOM     34   Al MOL     1       0.000  10.750  10.750  1.00  0.00          AL  \nATOM     35   Al MOL     1       2.150   8.600  10.750  1.00  0.00          AL  \nATOM     36   Al MOL     1       2.150  10.750   8.600  1.00  0.00          AL  \nATOM     37   Al MOL     1       4.300   0.000   0.000  1.00  0.00          AL  \nATOM     38   Al MOL     1       4.300   2.150   2.150  1.00  0.00          AL  \nATOM     39   Al MOL     1       6.450   0.000   2.150  1.00  0.00          AL  \nATOM     40   Al MOL     1       6.450   2.150   0.000  1.00  0.00          AL  \nATOM     41   Al MOL     1       4.300   0.000   4.300  1.00  0.00          AL  \nATOM     42   Al MOL     1       4.300   2.150   6.450  1.00  0.00          AL  \nATOM     43   Al MOL     1       6.450   0.000   6.450  1.00  0.00          AL  \nATOM     44   Al MOL     1       6.450   2.150   4.300  1.00  0.00          AL  \nATOM     45   Al MOL     1       4.300   0.000   8.600  1.00  0.00          AL  \nATOM     46   Al MOL     1       4.300   2.150  10.750  1.00  0.00          AL  \nATOM     47   Al MOL     1       6.450   0.000  10.750  1.00  0.00          AL  \nATOM     48   Al MOL     1       6.450   2.150   8.600  1.00  0.00          AL  \nATOM     49   Al MOL     1       4.300   4.300   0.000  1.00  0.00          AL  \nATOM     50   Al MOL     1       4.300   6.450   2.150  1.00  0.00          AL  \nATOM     51   Al MOL     1       6.450   4.300   2.150  1.00  0.00          AL  \nATOM     52   Al MOL     1       6.450   6.450   0.000  1.00  0.00          AL  \nATOM     53   Al MOL     1       4.300   4.300   4.300  1.00  0.00          AL  \nATOM     54   Al MOL     1       4.300   6.450   6.450  1.00  0.00          AL  \nATOM     55   Al MOL     1       6.450   4.300   6.450  1.00  0.00          AL  \nATOM     56   Al MOL     1       6.450   6.450   4.300  1.00  0.00          AL  \nATOM     57   Al MOL     1       4.300   4.300   8.600  1.00  0.00          AL  \nATOM     58   Al MOL     1       4.300   6.450  10.750  1.00  0.00          AL  \nATOM     59   Al MOL     1       6.450   4.300  10.750  1.00  0.00          AL  \nATOM     60   Al MOL     1       6.450   6.450   8.600  1.00  0.00          AL  \nATOM     61   Al MOL     1       4.300   8.600   0.000  1.00  0.00          AL  \nATOM     62   Al MOL     1       4.300  10.750   2.150  1.00  0.00          AL  \nATOM     63   Al MOL     1       6.450   8.600   2.150  1.00  0.00          AL  \nATOM     64   Al MOL     1       6.450  10.750   0.000  1.00  0.00          AL  \nATOM     65   Al MOL     1       4.300   8.600   4.300  1.00  0.00          AL  \nATOM     66   Al MOL     1       4.300  10.750   6.450  1.00  0.00          AL  \nATOM     67   Al MOL     1       6.450   8.600   6.450  1.00  0.00          AL  \nATOM     68   Al MOL     1       6.450  10.750   4.300  1.00  0.00          AL  \nATOM     69   Al MOL     1       4.300   8.600   8.600  1.00  0.00          AL  \nATOM     70   Al MOL     1       4.300  10.750  10.750  1.00  0.00          AL  \nATOM     71   Al MOL     1       6.450   8.600  10.750  1.00  0.00          AL  \nATOM     72   Al MOL     1       6.450  10.750   8.600  1.00  0.00          AL  \nATOM     73   Al MOL     1       8.600   0.000   0.000  1.00  0.00          AL  \nATOM     74   Al MOL     1       8.600   2.150   2.150  1.00  0.00          AL  \nATOM     75   Al MOL     1      10.750   0.000   2.150  1.00  0.00          AL  \nATOM     76   Al MOL     1      10.750   2.150   0.000  1.00  0.00          AL  \nATOM     77   Al MOL     1       8.600   0.000   4.300  1.00  0.00          AL  \nATOM     78   Al MOL     1       8.600   2.150   6.450  1.00  0.00          AL  \nATOM     79   Al MOL     1      10.750   0.000   6.450  1.00  0.00          AL  \nATOM     80   Al MOL     1      10.750   2.150   4.300  1.00  0.00          AL  \nATOM     81   Al MOL     1       8.600   0.000   8.600  1.00  0.00          AL  \nATOM     82   Al MOL     1       8.600   2.150  10.750  1.00  0.00          AL  \nATOM     83   Al MOL     1      10.750   0.000  10.750  1.00  0.00          AL  \nATOM     84   Al MOL     1      10.750   2.150   8.600  1.00  0.00          AL  \nATOM     85   Al MOL     1       8.600   4.300   0.000  1.00  0.00          AL  \nATOM     86   Al MOL     1       8.600   6.450   2.150  1.00  0.00          AL  \nATOM     87   Al MOL     1      10.750   4.300   2.150  1.00  0.00          AL  \nATOM     88   Al MOL     1      10.750   6.450   0.000  1.00  0.00          AL  \nATOM     89   Al MOL     1       8.600   4.300   4.300  1.00  0.00          AL  \nATOM     90   Al MOL     1       8.600   6.450   6.450  1.00  0.00          AL  \nATOM     91   Al MOL     1      10.750   4.300   6.450  1.00  0.00          AL  \nATOM     92   Al MOL     1      10.750   6.450   4.300  1.00  0.00          AL  \nATOM     93   Al MOL     1       8.600   4.300   8.600  1.00  0.00          AL  \nATOM     94   Al MOL     1       8.600   6.450  10.750  1.00  0.00          AL  \nATOM     95   Al MOL     1      10.750   4.300  10.750  1.00  0.00          AL  \nATOM     96   Al MOL     1      10.750   6.450   8.600  1.00  0.00          AL  \nATOM     97   Al MOL     1       8.600   8.600   0.000  1.00  0.00          AL  \nATOM     98   Al MOL     1       8.600  10.750   2.150  1.00  0.00          AL  \nATOM     99   Al MOL     1      10.750   8.600   2.150  1.00  0.00          AL  \nATOM    100   Al MOL     1      10.750  10.750   0.000  1.00  0.00          AL  \nATOM    101   Al MOL     1       8.600   8.600   4.300  1.00  0.00          AL  \nATOM    102   Al MOL     1       8.600  10.750   6.450  1.00  0.00          AL  \nATOM    103   Al MOL     1      10.750   8.600   6.450  1.00  0.00          AL  \nATOM    104   Al MOL     1      10.750  10.750   4.300  1.00  0.00          AL  \nATOM    105   Al MOL     1       8.600   8.600   8.600  1.00  0.00          AL  \nATOM    106   Al MOL     1       8.600  10.750  10.750  1.00  0.00          AL  \nATOM    107   Al MOL     1      10.750   8.600  10.750  1.00  0.00          AL  \nATOM    108   Al MOL     1      10.750  10.750   8.600  1.00  0.00          AL  \nENDMDL\n",
           "type": "blob"
          }
         ],
         "kwargs": {
          "defaultRepresentation": false,
          "ext": "pdb"
         },
         "methodName": "loadFile",
         "reconstruc_color_scheme": false,
         "target": "Stage",
         "type": "call_method"
        },
        {
         "args": [
          "500px",
          "500px"
         ],
         "kwargs": {},
         "methodName": "setSize",
         "reconstruc_color_scheme": false,
         "target": "Widget",
         "type": "call_method"
        },
        {
         "args": [
          "unitcell"
         ],
         "component_index": 0,
         "kwargs": {
          "sele": "all"
         },
         "methodName": "addRepresentation",
         "reconstruc_color_scheme": false,
         "target": "compList",
         "type": "call_method"
        },
        {
         "args": [
          "spacefill"
         ],
         "component_index": 0,
         "kwargs": {
          "sele": "all"
         },
         "methodName": "addRepresentation",
         "reconstruc_color_scheme": false,
         "target": "compList",
         "type": "call_method"
        },
        {
         "args": [],
         "kwargs": {
          "cameraType": "orthographic"
         },
         "methodName": "setParameters",
         "reconstruc_color_scheme": false,
         "target": "Stage",
         "type": "call_method"
        },
        {
         "args": [
          {
           "clipDist": 0
          }
         ],
         "kwargs": {},
         "methodName": "setParameters",
         "reconstruc_color_scheme": false,
         "target": "Widget",
         "type": "call_method"
        },
        {
         "args": [
          "spacefill",
          0
         ],
         "kwargs": {
          "colorScale": "rainbow",
          "colorScheme": "element",
          "radiusScale": 0.5,
          "radiusType": "covalent"
         },
         "methodName": "updateRepresentationsByName",
         "reconstruc_color_scheme": false,
         "target": "Widget",
         "type": "call_method"
        },
        {
         "args": [
          "this._Q = [[1.0, 0.0, 0.0], [0.0, 1.0, 0.0], [0.0, 0.0, 1.0]]\n    var tooltip = document.createElement('div')\n    Object.assign(tooltip.style, {\n      display: 'none',\n      position: 'fixed',\n      zIndex: 10,\n      pointerEvents: 'none',\n      backgroundColor: 'rgba( 0, 0, 0, 0.6 )',\n      color: 'lightgrey',\n      padding: '8px',\n      fontFamily: 'sans-serif'\n    })\n    document.body.appendChild(tooltip)\n\n    var that = this\n    this.stage.mouseControls.remove('hoverPick')\n    this.stage.signals.hovered.add(function (pickingProxy) {\n      if (pickingProxy && (pickingProxy.atom || pickingProxy.bond)) {\n        var atom = pickingProxy.atom || pickingProxy.closestBondAtom\n        var mp = pickingProxy.mouse.position\n        //tooltip.innerText = atom.element + ' i=' + atom.index + ' (' + atom.x.toFixed(2) +  ', ' + atom.y.toFixed(2) +  ', ' + atom.z.toFixed(2) + ')'\n        //var pos = that._atoms_pos[atom.index]\n        var Q = that._Q\n        var pos_x = Q[0][0] * atom.x + Q[0][1] * atom.y + Q[0][2] * atom.z \n        var pos_y = Q[1][0] * atom.x + Q[1][1] * atom.y + Q[1][2] * atom.z\n        var pos_z = Q[2][0] * atom.x + Q[2][1] * atom.y + Q[2][2] * atom.z\n        tooltip.innerText = 'i=' + atom.index + ' ' + atom.element + ' (' + pos_x.toFixed(2) +  ', ' + pos_y.toFixed(2) +  ', ' + pos_z.toFixed(2) + ')'\n        tooltip.style.bottom = window.innerHeight - mp.y + 3 + 'px'\n        tooltip.style.left = mp.x + 3 + 'px'\n        tooltip.style.display = 'block'\n      } else {\n        tooltip.style.display = 'none'\n      }\n    })\n    "
         ],
         "kwargs": {},
         "methodName": "executeCode",
         "reconstruc_color_scheme": false,
         "target": "Widget",
         "type": "call_method"
        },
        {
         "args": [
          "this._Q = [[1.0, 0.0, 0.0], [0.0, 1.0, 0.0], [0.0, 0.0, 1.0]]"
         ],
         "kwargs": {},
         "methodName": "executeCode",
         "reconstruc_color_scheme": false,
         "target": "Widget",
         "type": "call_method"
        },
        {
         "args": [
          "this._Q = [[1.0, 0.0, 0.0], [0.0, 1.0, 0.0], [0.0, 0.0, 1.0]]"
         ],
         "kwargs": {},
         "methodName": "executeCode",
         "reconstruc_color_scheme": false,
         "target": "Widget",
         "type": "call_method"
        },
        {
         "args": [
          "this._Q = [[1.0, 0.0, 0.0], [0.0, 1.0, 0.0], [0.0, 0.0, 1.0]]"
         ],
         "kwargs": {},
         "methodName": "executeCode",
         "reconstruc_color_scheme": false,
         "target": "Widget",
         "type": "call_method"
        },
        {
         "args": [
          "this._Q = [[1.0, 0.0, 0.0], [0.0, 1.0, 0.0], [0.0, 0.0, 1.0]]"
         ],
         "kwargs": {},
         "methodName": "executeCode",
         "reconstruc_color_scheme": false,
         "target": "Widget",
         "type": "call_method"
        },
        {
         "args": [
          "this._Q = [[1.0, 0.0, 0.0], [0.0, 1.0, 0.0], [0.0, 0.0, 1.0]]"
         ],
         "kwargs": {},
         "methodName": "executeCode",
         "reconstruc_color_scheme": false,
         "target": "Widget",
         "type": "call_method"
        },
        {
         "args": [
          "this._Q = [[1.0, 0.0, 0.0], [0.0, 1.0, 0.0], [0.0, 0.0, 1.0]]"
         ],
         "kwargs": {},
         "methodName": "executeCode",
         "reconstruc_color_scheme": false,
         "target": "Widget",
         "type": "call_method"
        },
        {
         "args": [
          "this._Q = [[1.0, 0.0, 0.0], [0.0, 1.0, 0.0], [0.0, 0.0, 1.0]]"
         ],
         "kwargs": {},
         "methodName": "executeCode",
         "reconstruc_color_scheme": false,
         "target": "Widget",
         "type": "call_method"
        },
        {
         "args": [
          "this._Q = [[1.0, 0.0, 0.0], [0.0, 1.0, 0.0], [0.0, 0.0, 1.0]]"
         ],
         "kwargs": {},
         "methodName": "executeCode",
         "reconstruc_color_scheme": false,
         "target": "Widget",
         "type": "call_method"
        },
        {
         "args": [
          "this._Q = [[1.0, 0.0, 0.0], [0.0, 1.0, 0.0], [0.0, 0.0, 1.0]]"
         ],
         "kwargs": {},
         "methodName": "executeCode",
         "reconstruc_color_scheme": false,
         "target": "Widget",
         "type": "call_method"
        },
        {
         "args": [
          "this._Q = [[1.0, 0.0, 0.0], [0.0, 1.0, 0.0], [0.0, 0.0, 1.0]]"
         ],
         "kwargs": {},
         "methodName": "executeCode",
         "reconstruc_color_scheme": false,
         "target": "Widget",
         "type": "call_method"
        },
        {
         "args": [
          "this._Q = [[1.0, 0.0, 0.0], [0.0, 1.0, 0.0], [0.0, 0.0, 1.0]]"
         ],
         "kwargs": {},
         "methodName": "executeCode",
         "reconstruc_color_scheme": false,
         "target": "Widget",
         "type": "call_method"
        },
        {
         "args": [
          "this._Q = [[1.0, 0.0, 0.0], [0.0, 1.0, 0.0], [0.0, 0.0, 1.0]]"
         ],
         "kwargs": {},
         "methodName": "executeCode",
         "reconstruc_color_scheme": false,
         "target": "Widget",
         "type": "call_method"
        },
        {
         "args": [
          "this._Q = [[1.0, 0.0, 0.0], [0.0, 1.0, 0.0], [0.0, 0.0, 1.0]]"
         ],
         "kwargs": {},
         "methodName": "executeCode",
         "reconstruc_color_scheme": false,
         "target": "Widget",
         "type": "call_method"
        },
        {
         "args": [
          "this._Q = [[1.0, 0.0, 0.0], [0.0, 1.0, 0.0], [0.0, 0.0, 1.0]]"
         ],
         "kwargs": {},
         "methodName": "executeCode",
         "reconstruc_color_scheme": false,
         "target": "Widget",
         "type": "call_method"
        },
        {
         "args": [
          "this._Q = [[1.0, 0.0, 0.0], [0.0, 1.0, 0.0], [0.0, 0.0, 1.0]]"
         ],
         "kwargs": {},
         "methodName": "executeCode",
         "reconstruc_color_scheme": false,
         "target": "Widget",
         "type": "call_method"
        },
        {
         "args": [
          "this._Q = [[1.0, 0.0, 0.0], [0.0, 1.0, 0.0], [0.0, 0.0, 1.0]]"
         ],
         "kwargs": {},
         "methodName": "executeCode",
         "reconstruc_color_scheme": false,
         "target": "Widget",
         "type": "call_method"
        },
        {
         "args": [
          "this._Q = [[1.0, 0.0, 0.0], [0.0, 1.0, 0.0], [0.0, 0.0, 1.0]]"
         ],
         "kwargs": {},
         "methodName": "executeCode",
         "reconstruc_color_scheme": false,
         "target": "Widget",
         "type": "call_method"
        },
        {
         "args": [
          "this._Q = [[1.0, 0.0, 0.0], [0.0, 1.0, 0.0], [0.0, 0.0, 1.0]]"
         ],
         "kwargs": {},
         "methodName": "executeCode",
         "reconstruc_color_scheme": false,
         "target": "Widget",
         "type": "call_method"
        },
        {
         "args": [
          "this._Q = [[1.0, 0.0, 0.0], [0.0, 1.0, 0.0], [0.0, 0.0, 1.0]]"
         ],
         "kwargs": {},
         "methodName": "executeCode",
         "reconstruc_color_scheme": false,
         "target": "Widget",
         "type": "call_method"
        },
        {
         "args": [
          "this._Q = [[1.0, 0.0, 0.0], [0.0, 1.0, 0.0], [0.0, 0.0, 1.0]]"
         ],
         "kwargs": {},
         "methodName": "executeCode",
         "reconstruc_color_scheme": false,
         "target": "Widget",
         "type": "call_method"
        },
        {
         "args": [
          "this._Q = [[1.0, 0.0, 0.0], [0.0, 1.0, 0.0], [0.0, 0.0, 1.0]]"
         ],
         "kwargs": {},
         "methodName": "executeCode",
         "reconstruc_color_scheme": false,
         "target": "Widget",
         "type": "call_method"
        },
        {
         "args": [
          "this._Q = [[1.0, 0.0, 0.0], [0.0, 1.0, 0.0], [0.0, 0.0, 1.0]]"
         ],
         "kwargs": {},
         "methodName": "executeCode",
         "reconstruc_color_scheme": false,
         "target": "Widget",
         "type": "call_method"
        },
        {
         "args": [
          "this._Q = [[1.0, 0.0, 0.0], [0.0, 1.0, 0.0], [0.0, 0.0, 1.0]]"
         ],
         "kwargs": {},
         "methodName": "executeCode",
         "reconstruc_color_scheme": false,
         "target": "Widget",
         "type": "call_method"
        },
        {
         "args": [
          "this._Q = [[1.0, 0.0, 0.0], [0.0, 1.0, 0.0], [0.0, 0.0, 1.0]]"
         ],
         "kwargs": {},
         "methodName": "executeCode",
         "reconstruc_color_scheme": false,
         "target": "Widget",
         "type": "call_method"
        },
        {
         "args": [
          "this._Q = [[1.0, 0.0, 0.0], [0.0, 1.0, 0.0], [0.0, 0.0, 1.0]]"
         ],
         "kwargs": {},
         "methodName": "executeCode",
         "reconstruc_color_scheme": false,
         "target": "Widget",
         "type": "call_method"
        },
        {
         "args": [
          "this._Q = [[1.0, 0.0, 0.0], [0.0, 1.0, 0.0], [0.0, 0.0, 1.0]]"
         ],
         "kwargs": {},
         "methodName": "executeCode",
         "reconstruc_color_scheme": false,
         "target": "Widget",
         "type": "call_method"
        },
        {
         "args": [
          "this._Q = [[1.0, 0.0, 0.0], [0.0, 1.0, 0.0], [0.0, 0.0, 1.0]]"
         ],
         "kwargs": {},
         "methodName": "executeCode",
         "reconstruc_color_scheme": false,
         "target": "Widget",
         "type": "call_method"
        },
        {
         "args": [
          "this._Q = [[1.0, 0.0, 0.0], [0.0, 1.0, 0.0], [0.0, 0.0, 1.0]]"
         ],
         "kwargs": {},
         "methodName": "executeCode",
         "reconstruc_color_scheme": false,
         "target": "Widget",
         "type": "call_method"
        },
        {
         "args": [
          "this._Q = [[1.0, 0.0, 0.0], [0.0, 1.0, 0.0], [0.0, 0.0, 1.0]]"
         ],
         "kwargs": {},
         "methodName": "executeCode",
         "reconstruc_color_scheme": false,
         "target": "Widget",
         "type": "call_method"
        },
        {
         "args": [
          "this._Q = [[1.0, 0.0, 0.0], [0.0, 1.0, 0.0], [0.0, 0.0, 1.0]]"
         ],
         "kwargs": {},
         "methodName": "executeCode",
         "reconstruc_color_scheme": false,
         "target": "Widget",
         "type": "call_method"
        },
        {
         "args": [
          "this._Q = [[1.0, 0.0, 0.0], [0.0, 1.0, 0.0], [0.0, 0.0, 1.0]]"
         ],
         "kwargs": {},
         "methodName": "executeCode",
         "reconstruc_color_scheme": false,
         "target": "Widget",
         "type": "call_method"
        },
        {
         "args": [
          "this._Q = [[1.0, 0.0, 0.0], [0.0, 1.0, 0.0], [0.0, 0.0, 1.0]]"
         ],
         "kwargs": {},
         "methodName": "executeCode",
         "reconstruc_color_scheme": false,
         "target": "Widget",
         "type": "call_method"
        },
        {
         "args": [
          "this._Q = [[1.0, 0.0, 0.0], [0.0, 1.0, 0.0], [0.0, 0.0, 1.0]]"
         ],
         "kwargs": {},
         "methodName": "executeCode",
         "reconstruc_color_scheme": false,
         "target": "Widget",
         "type": "call_method"
        },
        {
         "args": [
          "this._Q = [[1.0, 0.0, 0.0], [0.0, 1.0, 0.0], [0.0, 0.0, 1.0]]"
         ],
         "kwargs": {},
         "methodName": "executeCode",
         "reconstruc_color_scheme": false,
         "target": "Widget",
         "type": "call_method"
        },
        {
         "args": [
          "this._Q = [[1.0, 0.0, 0.0], [0.0, 1.0, 0.0], [0.0, 0.0, 1.0]]"
         ],
         "kwargs": {},
         "methodName": "executeCode",
         "reconstruc_color_scheme": false,
         "target": "Widget",
         "type": "call_method"
        },
        {
         "args": [
          "this._Q = [[1.0, 0.0, 0.0], [0.0, 1.0, 0.0], [0.0, 0.0, 1.0]]"
         ],
         "kwargs": {},
         "methodName": "executeCode",
         "reconstruc_color_scheme": false,
         "target": "Widget",
         "type": "call_method"
        },
        {
         "args": [
          "this._Q = [[1.0, 0.0, 0.0], [0.0, 1.0, 0.0], [0.0, 0.0, 1.0]]"
         ],
         "kwargs": {},
         "methodName": "executeCode",
         "reconstruc_color_scheme": false,
         "target": "Widget",
         "type": "call_method"
        },
        {
         "args": [
          "this._Q = [[1.0, 0.0, 0.0], [0.0, 1.0, 0.0], [0.0, 0.0, 1.0]]"
         ],
         "kwargs": {},
         "methodName": "executeCode",
         "reconstruc_color_scheme": false,
         "target": "Widget",
         "type": "call_method"
        },
        {
         "args": [
          "this._Q = [[1.0, 0.0, 0.0], [0.0, 1.0, 0.0], [0.0, 0.0, 1.0]]"
         ],
         "kwargs": {},
         "methodName": "executeCode",
         "reconstruc_color_scheme": false,
         "target": "Widget",
         "type": "call_method"
        },
        {
         "args": [
          "this._Q = [[1.0, 0.0, 0.0], [0.0, 1.0, 0.0], [0.0, 0.0, 1.0]]"
         ],
         "kwargs": {},
         "methodName": "executeCode",
         "reconstruc_color_scheme": false,
         "target": "Widget",
         "type": "call_method"
        },
        {
         "args": [
          "this._Q = [[1.0, 0.0, 0.0], [0.0, 1.0, 0.0], [0.0, 0.0, 1.0]]"
         ],
         "kwargs": {},
         "methodName": "executeCode",
         "reconstruc_color_scheme": false,
         "target": "Widget",
         "type": "call_method"
        },
        {
         "args": [
          "this._Q = [[1.0, 0.0, 0.0], [0.0, 1.0, 0.0], [0.0, 0.0, 1.0]]"
         ],
         "kwargs": {},
         "methodName": "executeCode",
         "reconstruc_color_scheme": false,
         "target": "Widget",
         "type": "call_method"
        },
        {
         "args": [
          "this._Q = [[1.0, 0.0, 0.0], [0.0, 1.0, 0.0], [0.0, 0.0, 1.0]]"
         ],
         "kwargs": {},
         "methodName": "executeCode",
         "reconstruc_color_scheme": false,
         "target": "Widget",
         "type": "call_method"
        },
        {
         "args": [
          "this._Q = [[1.0, 0.0, 0.0], [0.0, 1.0, 0.0], [0.0, 0.0, 1.0]]"
         ],
         "kwargs": {},
         "methodName": "executeCode",
         "reconstruc_color_scheme": false,
         "target": "Widget",
         "type": "call_method"
        },
        {
         "args": [
          "this._Q = [[1.0, 0.0, 0.0], [0.0, 1.0, 0.0], [0.0, 0.0, 1.0]]"
         ],
         "kwargs": {},
         "methodName": "executeCode",
         "reconstruc_color_scheme": false,
         "target": "Widget",
         "type": "call_method"
        },
        {
         "args": [
          "this._Q = [[1.0, 0.0, 0.0], [0.0, 1.0, 0.0], [0.0, 0.0, 1.0]]"
         ],
         "kwargs": {},
         "methodName": "executeCode",
         "reconstruc_color_scheme": false,
         "target": "Widget",
         "type": "call_method"
        },
        {
         "args": [
          "this._Q = [[1.0, 0.0, 0.0], [0.0, 1.0, 0.0], [0.0, 0.0, 1.0]]"
         ],
         "kwargs": {},
         "methodName": "executeCode",
         "reconstruc_color_scheme": false,
         "target": "Widget",
         "type": "call_method"
        },
        {
         "args": [
          "this._Q = [[1.0, 0.0, 0.0], [0.0, 1.0, 0.0], [0.0, 0.0, 1.0]]"
         ],
         "kwargs": {},
         "methodName": "executeCode",
         "reconstruc_color_scheme": false,
         "target": "Widget",
         "type": "call_method"
        },
        {
         "args": [
          "this._Q = [[1.0, 0.0, 0.0], [0.0, 1.0, 0.0], [0.0, 0.0, 1.0]]"
         ],
         "kwargs": {},
         "methodName": "executeCode",
         "reconstruc_color_scheme": false,
         "target": "Widget",
         "type": "call_method"
        },
        {
         "args": [
          "this._Q = [[1.0, 0.0, 0.0], [0.0, 1.0, 0.0], [0.0, 0.0, 1.0]]"
         ],
         "kwargs": {},
         "methodName": "executeCode",
         "reconstruc_color_scheme": false,
         "target": "Widget",
         "type": "call_method"
        },
        {
         "args": [
          "this._Q = [[1.0, 0.0, 0.0], [0.0, 1.0, 0.0], [0.0, 0.0, 1.0]]"
         ],
         "kwargs": {},
         "methodName": "executeCode",
         "reconstruc_color_scheme": false,
         "target": "Widget",
         "type": "call_method"
        },
        {
         "args": [
          "this._Q = [[1.0, 0.0, 0.0], [0.0, 1.0, 0.0], [0.0, 0.0, 1.0]]"
         ],
         "kwargs": {},
         "methodName": "executeCode",
         "reconstruc_color_scheme": false,
         "target": "Widget",
         "type": "call_method"
        },
        {
         "args": [
          "this._Q = [[1.0, 0.0, 0.0], [0.0, 1.0, 0.0], [0.0, 0.0, 1.0]]"
         ],
         "kwargs": {},
         "methodName": "executeCode",
         "reconstruc_color_scheme": false,
         "target": "Widget",
         "type": "call_method"
        },
        {
         "args": [
          "this._Q = [[1.0, 0.0, 0.0], [0.0, 1.0, 0.0], [0.0, 0.0, 1.0]]"
         ],
         "kwargs": {},
         "methodName": "executeCode",
         "reconstruc_color_scheme": false,
         "target": "Widget",
         "type": "call_method"
        },
        {
         "args": [
          "this._Q = [[1.0, 0.0, 0.0], [0.0, 1.0, 0.0], [0.0, 0.0, 1.0]]"
         ],
         "kwargs": {},
         "methodName": "executeCode",
         "reconstruc_color_scheme": false,
         "target": "Widget",
         "type": "call_method"
        },
        {
         "args": [
          "this._Q = [[1.0, 0.0, 0.0], [0.0, 1.0, 0.0], [0.0, 0.0, 1.0]]"
         ],
         "kwargs": {},
         "methodName": "executeCode",
         "reconstruc_color_scheme": false,
         "target": "Widget",
         "type": "call_method"
        },
        {
         "args": [
          "this._Q = [[1.0, 0.0, 0.0], [0.0, 1.0, 0.0], [0.0, 0.0, 1.0]]"
         ],
         "kwargs": {},
         "methodName": "executeCode",
         "reconstruc_color_scheme": false,
         "target": "Widget",
         "type": "call_method"
        },
        {
         "args": [
          "this._Q = [[1.0, 0.0, 0.0], [0.0, 1.0, 0.0], [0.0, 0.0, 1.0]]"
         ],
         "kwargs": {},
         "methodName": "executeCode",
         "reconstruc_color_scheme": false,
         "target": "Widget",
         "type": "call_method"
        },
        {
         "args": [
          "this._Q = [[1.0, 0.0, 0.0], [0.0, 1.0, 0.0], [0.0, 0.0, 1.0]]"
         ],
         "kwargs": {},
         "methodName": "executeCode",
         "reconstruc_color_scheme": false,
         "target": "Widget",
         "type": "call_method"
        },
        {
         "args": [
          "this._Q = [[1.0, 0.0, 0.0], [0.0, 1.0, 0.0], [0.0, 0.0, 1.0]]"
         ],
         "kwargs": {},
         "methodName": "executeCode",
         "reconstruc_color_scheme": false,
         "target": "Widget",
         "type": "call_method"
        },
        {
         "args": [
          "this._Q = [[1.0, 0.0, 0.0], [0.0, 1.0, 0.0], [0.0, 0.0, 1.0]]"
         ],
         "kwargs": {},
         "methodName": "executeCode",
         "reconstruc_color_scheme": false,
         "target": "Widget",
         "type": "call_method"
        },
        {
         "args": [
          "this._Q = [[1.0, 0.0, 0.0], [0.0, 1.0, 0.0], [0.0, 0.0, 1.0]]"
         ],
         "kwargs": {},
         "methodName": "executeCode",
         "reconstruc_color_scheme": false,
         "target": "Widget",
         "type": "call_method"
        },
        {
         "args": [
          "this._Q = [[1.0, 0.0, 0.0], [0.0, 1.0, 0.0], [0.0, 0.0, 1.0]]"
         ],
         "kwargs": {},
         "methodName": "executeCode",
         "reconstruc_color_scheme": false,
         "target": "Widget",
         "type": "call_method"
        },
        {
         "args": [
          "this._Q = [[1.0, 0.0, 0.0], [0.0, 1.0, 0.0], [0.0, 0.0, 1.0]]"
         ],
         "kwargs": {},
         "methodName": "executeCode",
         "reconstruc_color_scheme": false,
         "target": "Widget",
         "type": "call_method"
        },
        {
         "args": [
          "this._Q = [[1.0, 0.0, 0.0], [0.0, 1.0, 0.0], [0.0, 0.0, 1.0]]"
         ],
         "kwargs": {},
         "methodName": "executeCode",
         "reconstruc_color_scheme": false,
         "target": "Widget",
         "type": "call_method"
        },
        {
         "args": [
          "this._Q = [[1.0, 0.0, 0.0], [0.0, 1.0, 0.0], [0.0, 0.0, 1.0]]"
         ],
         "kwargs": {},
         "methodName": "executeCode",
         "reconstruc_color_scheme": false,
         "target": "Widget",
         "type": "call_method"
        },
        {
         "args": [
          "this._Q = [[1.0, 0.0, 0.0], [0.0, 1.0, 0.0], [0.0, 0.0, 1.0]]"
         ],
         "kwargs": {},
         "methodName": "executeCode",
         "reconstruc_color_scheme": false,
         "target": "Widget",
         "type": "call_method"
        },
        {
         "args": [
          "this._Q = [[1.0, 0.0, 0.0], [0.0, 1.0, 0.0], [0.0, 0.0, 1.0]]"
         ],
         "kwargs": {},
         "methodName": "executeCode",
         "reconstruc_color_scheme": false,
         "target": "Widget",
         "type": "call_method"
        },
        {
         "args": [
          "this._Q = [[1.0, 0.0, 0.0], [0.0, 1.0, 0.0], [0.0, 0.0, 1.0]]"
         ],
         "kwargs": {},
         "methodName": "executeCode",
         "reconstruc_color_scheme": false,
         "target": "Widget",
         "type": "call_method"
        },
        {
         "args": [
          "this._Q = [[1.0, 0.0, 0.0], [0.0, 1.0, 0.0], [0.0, 0.0, 1.0]]"
         ],
         "kwargs": {},
         "methodName": "executeCode",
         "reconstruc_color_scheme": false,
         "target": "Widget",
         "type": "call_method"
        },
        {
         "args": [
          "this._Q = [[1.0, 0.0, 0.0], [0.0, 1.0, 0.0], [0.0, 0.0, 1.0]]"
         ],
         "kwargs": {},
         "methodName": "executeCode",
         "reconstruc_color_scheme": false,
         "target": "Widget",
         "type": "call_method"
        },
        {
         "args": [
          "this._Q = [[1.0, 0.0, 0.0], [0.0, 1.0, 0.0], [0.0, 0.0, 1.0]]"
         ],
         "kwargs": {},
         "methodName": "executeCode",
         "reconstruc_color_scheme": false,
         "target": "Widget",
         "type": "call_method"
        },
        {
         "args": [
          "this._Q = [[1.0, 0.0, 0.0], [0.0, 1.0, 0.0], [0.0, 0.0, 1.0]]"
         ],
         "kwargs": {},
         "methodName": "executeCode",
         "reconstruc_color_scheme": false,
         "target": "Widget",
         "type": "call_method"
        },
        {
         "args": [
          "this._Q = [[1.0, 0.0, 0.0], [0.0, 1.0, 0.0], [0.0, 0.0, 1.0]]"
         ],
         "kwargs": {},
         "methodName": "executeCode",
         "reconstruc_color_scheme": false,
         "target": "Widget",
         "type": "call_method"
        },
        {
         "args": [
          "this._Q = [[1.0, 0.0, 0.0], [0.0, 1.0, 0.0], [0.0, 0.0, 1.0]]"
         ],
         "kwargs": {},
         "methodName": "executeCode",
         "reconstruc_color_scheme": false,
         "target": "Widget",
         "type": "call_method"
        },
        {
         "args": [
          "this._Q = [[1.0, 0.0, 0.0], [0.0, 1.0, 0.0], [0.0, 0.0, 1.0]]"
         ],
         "kwargs": {},
         "methodName": "executeCode",
         "reconstruc_color_scheme": false,
         "target": "Widget",
         "type": "call_method"
        },
        {
         "args": [
          "this._Q = [[1.0, 0.0, 0.0], [0.0, 1.0, 0.0], [0.0, 0.0, 1.0]]"
         ],
         "kwargs": {},
         "methodName": "executeCode",
         "reconstruc_color_scheme": false,
         "target": "Widget",
         "type": "call_method"
        },
        {
         "args": [
          "this._Q = [[1.0, 0.0, 0.0], [0.0, 1.0, 0.0], [0.0, 0.0, 1.0]]"
         ],
         "kwargs": {},
         "methodName": "executeCode",
         "reconstruc_color_scheme": false,
         "target": "Widget",
         "type": "call_method"
        },
        {
         "args": [
          "this._Q = [[1.0, 0.0, 0.0], [0.0, 1.0, 0.0], [0.0, 0.0, 1.0]]"
         ],
         "kwargs": {},
         "methodName": "executeCode",
         "reconstruc_color_scheme": false,
         "target": "Widget",
         "type": "call_method"
        },
        {
         "args": [
          "this._Q = [[1.0, 0.0, 0.0], [0.0, 1.0, 0.0], [0.0, 0.0, 1.0]]"
         ],
         "kwargs": {},
         "methodName": "executeCode",
         "reconstruc_color_scheme": false,
         "target": "Widget",
         "type": "call_method"
        },
        {
         "args": [
          "this._Q = [[1.0, 0.0, 0.0], [0.0, 1.0, 0.0], [0.0, 0.0, 1.0]]"
         ],
         "kwargs": {},
         "methodName": "executeCode",
         "reconstruc_color_scheme": false,
         "target": "Widget",
         "type": "call_method"
        },
        {
         "args": [
          "this._Q = [[1.0, 0.0, 0.0], [0.0, 1.0, 0.0], [0.0, 0.0, 1.0]]"
         ],
         "kwargs": {},
         "methodName": "executeCode",
         "reconstruc_color_scheme": false,
         "target": "Widget",
         "type": "call_method"
        },
        {
         "args": [
          "this._Q = [[1.0, 0.0, 0.0], [0.0, 1.0, 0.0], [0.0, 0.0, 1.0]]"
         ],
         "kwargs": {},
         "methodName": "executeCode",
         "reconstruc_color_scheme": false,
         "target": "Widget",
         "type": "call_method"
        },
        {
         "args": [
          "this._Q = [[1.0, 0.0, 0.0], [0.0, 1.0, 0.0], [0.0, 0.0, 1.0]]"
         ],
         "kwargs": {},
         "methodName": "executeCode",
         "reconstruc_color_scheme": false,
         "target": "Widget",
         "type": "call_method"
        },
        {
         "args": [
          "this._Q = [[1.0, 0.0, 0.0], [0.0, 1.0, 0.0], [0.0, 0.0, 1.0]]"
         ],
         "kwargs": {},
         "methodName": "executeCode",
         "reconstruc_color_scheme": false,
         "target": "Widget",
         "type": "call_method"
        },
        {
         "args": [
          "this._Q = [[1.0, 0.0, 0.0], [0.0, 1.0, 0.0], [0.0, 0.0, 1.0]]"
         ],
         "kwargs": {},
         "methodName": "executeCode",
         "reconstruc_color_scheme": false,
         "target": "Widget",
         "type": "call_method"
        },
        {
         "args": [
          "this._Q = [[1.0, 0.0, 0.0], [0.0, 1.0, 0.0], [0.0, 0.0, 1.0]]"
         ],
         "kwargs": {},
         "methodName": "executeCode",
         "reconstruc_color_scheme": false,
         "target": "Widget",
         "type": "call_method"
        },
        {
         "args": [
          "this._Q = [[1.0, 0.0, 0.0], [0.0, 1.0, 0.0], [0.0, 0.0, 1.0]]"
         ],
         "kwargs": {},
         "methodName": "executeCode",
         "reconstruc_color_scheme": false,
         "target": "Widget",
         "type": "call_method"
        },
        {
         "args": [
          "this._Q = [[1.0, 0.0, 0.0], [0.0, 1.0, 0.0], [0.0, 0.0, 1.0]]"
         ],
         "kwargs": {},
         "methodName": "executeCode",
         "reconstruc_color_scheme": false,
         "target": "Widget",
         "type": "call_method"
        },
        {
         "args": [
          "this._Q = [[1.0, 0.0, 0.0], [0.0, 1.0, 0.0], [0.0, 0.0, 1.0]]"
         ],
         "kwargs": {},
         "methodName": "executeCode",
         "reconstruc_color_scheme": false,
         "target": "Widget",
         "type": "call_method"
        },
        {
         "args": [
          "this._Q = [[1.0, 0.0, 0.0], [0.0, 1.0, 0.0], [0.0, 0.0, 1.0]]"
         ],
         "kwargs": {},
         "methodName": "executeCode",
         "reconstruc_color_scheme": false,
         "target": "Widget",
         "type": "call_method"
        },
        {
         "args": [
          "this._Q = [[1.0, 0.0, 0.0], [0.0, 1.0, 0.0], [0.0, 0.0, 1.0]]"
         ],
         "kwargs": {},
         "methodName": "executeCode",
         "reconstruc_color_scheme": false,
         "target": "Widget",
         "type": "call_method"
        },
        {
         "args": [
          "this._Q = [[1.0, 0.0, 0.0], [0.0, 1.0, 0.0], [0.0, 0.0, 1.0]]"
         ],
         "kwargs": {},
         "methodName": "executeCode",
         "reconstruc_color_scheme": false,
         "target": "Widget",
         "type": "call_method"
        },
        {
         "args": [
          "this._Q = [[1.0, 0.0, 0.0], [0.0, 1.0, 0.0], [0.0, 0.0, 1.0]]"
         ],
         "kwargs": {},
         "methodName": "executeCode",
         "reconstruc_color_scheme": false,
         "target": "Widget",
         "type": "call_method"
        },
        {
         "args": [
          "this._Q = [[1.0, 0.0, 0.0], [0.0, 1.0, 0.0], [0.0, 0.0, 1.0]]"
         ],
         "kwargs": {},
         "methodName": "executeCode",
         "reconstruc_color_scheme": false,
         "target": "Widget",
         "type": "call_method"
        },
        {
         "args": [
          "this._Q = [[1.0, 0.0, 0.0], [0.0, 1.0, 0.0], [0.0, 0.0, 1.0]]"
         ],
         "kwargs": {},
         "methodName": "executeCode",
         "reconstruc_color_scheme": false,
         "target": "Widget",
         "type": "call_method"
        },
        {
         "args": [
          "this._Q = [[1.0, 0.0, 0.0], [0.0, 1.0, 0.0], [0.0, 0.0, 1.0]]"
         ],
         "kwargs": {},
         "methodName": "executeCode",
         "reconstruc_color_scheme": false,
         "target": "Widget",
         "type": "call_method"
        },
        {
         "args": [
          "this._Q = [[1.0, 0.0, 0.0], [0.0, 1.0, 0.0], [0.0, 0.0, 1.0]]"
         ],
         "kwargs": {},
         "methodName": "executeCode",
         "reconstruc_color_scheme": false,
         "target": "Widget",
         "type": "call_method"
        },
        {
         "args": [
          "this._Q = [[1.0, 0.0, 0.0], [0.0, 1.0, 0.0], [0.0, 0.0, 1.0]]"
         ],
         "kwargs": {},
         "methodName": "executeCode",
         "reconstruc_color_scheme": false,
         "target": "Widget",
         "type": "call_method"
        },
        {
         "args": [
          "this._Q = [[1.0, 0.0, 0.0], [0.0, 1.0, 0.0], [0.0, 0.0, 1.0]]"
         ],
         "kwargs": {},
         "methodName": "executeCode",
         "reconstruc_color_scheme": false,
         "target": "Widget",
         "type": "call_method"
        },
        {
         "args": [
          "this._Q = [[1.0, 0.0, 0.0], [0.0, 1.0, 0.0], [0.0, 0.0, 1.0]]"
         ],
         "kwargs": {},
         "methodName": "executeCode",
         "reconstruc_color_scheme": false,
         "target": "Widget",
         "type": "call_method"
        },
        {
         "args": [
          "this._Q = [[1.0, 0.0, 0.0], [0.0, 1.0, 0.0], [0.0, 0.0, 1.0]]"
         ],
         "kwargs": {},
         "methodName": "executeCode",
         "reconstruc_color_scheme": false,
         "target": "Widget",
         "type": "call_method"
        },
        {
         "args": [
          "this._Q = [[1.0, 0.0, 0.0], [0.0, 1.0, 0.0], [0.0, 0.0, 1.0]]"
         ],
         "kwargs": {},
         "methodName": "executeCode",
         "reconstruc_color_scheme": false,
         "target": "Widget",
         "type": "call_method"
        },
        {
         "args": [
          "this._Q = [[1.0, 0.0, 0.0], [0.0, 1.0, 0.0], [0.0, 0.0, 1.0]]"
         ],
         "kwargs": {},
         "methodName": "executeCode",
         "reconstruc_color_scheme": false,
         "target": "Widget",
         "type": "call_method"
        },
        {
         "args": [
          "this._Q = [[1.0, 0.0, 0.0], [0.0, 1.0, 0.0], [0.0, 0.0, 1.0]]"
         ],
         "kwargs": {},
         "methodName": "executeCode",
         "reconstruc_color_scheme": false,
         "target": "Widget",
         "type": "call_method"
        },
        {
         "args": [
          "this._Q = [[1.0, 0.0, 0.0], [0.0, 1.0, 0.0], [0.0, 0.0, 1.0]]"
         ],
         "kwargs": {},
         "methodName": "executeCode",
         "reconstruc_color_scheme": false,
         "target": "Widget",
         "type": "call_method"
        },
        {
         "args": [
          "this._Q = [[1.0, 0.0, 0.0], [0.0, 1.0, 0.0], [0.0, 0.0, 1.0]]"
         ],
         "kwargs": {},
         "methodName": "executeCode",
         "reconstruc_color_scheme": false,
         "target": "Widget",
         "type": "call_method"
        },
        {
         "args": [
          "this._Q = [[1.0, 0.0, 0.0], [0.0, 1.0, 0.0], [0.0, 0.0, 1.0]]"
         ],
         "kwargs": {},
         "methodName": "executeCode",
         "reconstruc_color_scheme": false,
         "target": "Widget",
         "type": "call_method"
        },
        {
         "args": [
          "this._Q = [[1.0, 0.0, 0.0], [0.0, 1.0, 0.0], [0.0, 0.0, 1.0]]"
         ],
         "kwargs": {},
         "methodName": "executeCode",
         "reconstruc_color_scheme": false,
         "target": "Widget",
         "type": "call_method"
        },
        {
         "args": [
          "this._Q = [[1.0, 0.0, 0.0], [0.0, 1.0, 0.0], [0.0, 0.0, 1.0]]"
         ],
         "kwargs": {},
         "methodName": "executeCode",
         "reconstruc_color_scheme": false,
         "target": "Widget",
         "type": "call_method"
        },
        {
         "args": [
          "this._Q = [[1.0, 0.0, 0.0], [0.0, 1.0, 0.0], [0.0, 0.0, 1.0]]"
         ],
         "kwargs": {},
         "methodName": "executeCode",
         "reconstruc_color_scheme": false,
         "target": "Widget",
         "type": "call_method"
        },
        {
         "args": [
          "this._Q = [[1.0, 0.0, 0.0], [0.0, 1.0, 0.0], [0.0, 0.0, 1.0]]"
         ],
         "kwargs": {},
         "methodName": "executeCode",
         "reconstruc_color_scheme": false,
         "target": "Widget",
         "type": "call_method"
        },
        {
         "args": [
          "this._Q = [[1.0, 0.0, 0.0], [0.0, 1.0, 0.0], [0.0, 0.0, 1.0]]"
         ],
         "kwargs": {},
         "methodName": "executeCode",
         "reconstruc_color_scheme": false,
         "target": "Widget",
         "type": "call_method"
        },
        {
         "args": [
          "this._Q = [[1.0, 0.0, 0.0], [0.0, 1.0, 0.0], [0.0, 0.0, 1.0]]"
         ],
         "kwargs": {},
         "methodName": "executeCode",
         "reconstruc_color_scheme": false,
         "target": "Widget",
         "type": "call_method"
        },
        {
         "args": [
          "this._Q = [[1.0, 0.0, 0.0], [0.0, 1.0, 0.0], [0.0, 0.0, 1.0]]"
         ],
         "kwargs": {},
         "methodName": "executeCode",
         "reconstruc_color_scheme": false,
         "target": "Widget",
         "type": "call_method"
        },
        {
         "args": [
          "this._Q = [[1.0, 0.0, 0.0], [0.0, 1.0, 0.0], [0.0, 0.0, 1.0]]"
         ],
         "kwargs": {},
         "methodName": "executeCode",
         "reconstruc_color_scheme": false,
         "target": "Widget",
         "type": "call_method"
        },
        {
         "args": [
          "this._Q = [[1.0, 0.0, 0.0], [0.0, 1.0, 0.0], [0.0, 0.0, 1.0]]"
         ],
         "kwargs": {},
         "methodName": "executeCode",
         "reconstruc_color_scheme": false,
         "target": "Widget",
         "type": "call_method"
        },
        {
         "args": [
          "this._Q = [[1.0, 0.0, 0.0], [0.0, 1.0, 0.0], [0.0, 0.0, 1.0]]"
         ],
         "kwargs": {},
         "methodName": "executeCode",
         "reconstruc_color_scheme": false,
         "target": "Widget",
         "type": "call_method"
        },
        {
         "args": [
          "this._Q = [[1.0, 0.0, 0.0], [0.0, 1.0, 0.0], [0.0, 0.0, 1.0]]"
         ],
         "kwargs": {},
         "methodName": "executeCode",
         "reconstruc_color_scheme": false,
         "target": "Widget",
         "type": "call_method"
        },
        {
         "args": [
          "this._Q = [[1.0, 0.0, 0.0], [0.0, 1.0, 0.0], [0.0, 0.0, 1.0]]"
         ],
         "kwargs": {},
         "methodName": "executeCode",
         "reconstruc_color_scheme": false,
         "target": "Widget",
         "type": "call_method"
        },
        {
         "args": [
          "this._Q = [[1.0, 0.0, 0.0], [0.0, 1.0, 0.0], [0.0, 0.0, 1.0]]"
         ],
         "kwargs": {},
         "methodName": "executeCode",
         "reconstruc_color_scheme": false,
         "target": "Widget",
         "type": "call_method"
        },
        {
         "args": [
          "this._Q = [[1.0, 0.0, 0.0], [0.0, 1.0, 0.0], [0.0, 0.0, 1.0]]"
         ],
         "kwargs": {},
         "methodName": "executeCode",
         "reconstruc_color_scheme": false,
         "target": "Widget",
         "type": "call_method"
        },
        {
         "args": [
          "this._Q = [[1.0, 0.0, 0.0], [0.0, 1.0, 0.0], [0.0, 0.0, 1.0]]"
         ],
         "kwargs": {},
         "methodName": "executeCode",
         "reconstruc_color_scheme": false,
         "target": "Widget",
         "type": "call_method"
        },
        {
         "args": [
          "this._Q = [[1.0, 0.0, 0.0], [0.0, 1.0, 0.0], [0.0, 0.0, 1.0]]"
         ],
         "kwargs": {},
         "methodName": "executeCode",
         "reconstruc_color_scheme": false,
         "target": "Widget",
         "type": "call_method"
        },
        {
         "args": [
          "this._Q = [[1.0, 0.0, 0.0], [0.0, 1.0, 0.0], [0.0, 0.0, 1.0]]"
         ],
         "kwargs": {},
         "methodName": "executeCode",
         "reconstruc_color_scheme": false,
         "target": "Widget",
         "type": "call_method"
        },
        {
         "args": [
          "this._Q = [[1.0, 0.0, 0.0], [0.0, 1.0, 0.0], [0.0, 0.0, 1.0]]"
         ],
         "kwargs": {},
         "methodName": "executeCode",
         "reconstruc_color_scheme": false,
         "target": "Widget",
         "type": "call_method"
        },
        {
         "args": [
          "this._Q = [[1.0, 0.0, 0.0], [0.0, 1.0, 0.0], [0.0, 0.0, 1.0]]"
         ],
         "kwargs": {},
         "methodName": "executeCode",
         "reconstruc_color_scheme": false,
         "target": "Widget",
         "type": "call_method"
        },
        {
         "args": [
          "this._Q = [[1.0, 0.0, 0.0], [0.0, 1.0, 0.0], [0.0, 0.0, 1.0]]"
         ],
         "kwargs": {},
         "methodName": "executeCode",
         "reconstruc_color_scheme": false,
         "target": "Widget",
         "type": "call_method"
        },
        {
         "args": [
          "this._Q = [[1.0, 0.0, 0.0], [0.0, 1.0, 0.0], [0.0, 0.0, 1.0]]"
         ],
         "kwargs": {},
         "methodName": "executeCode",
         "reconstruc_color_scheme": false,
         "target": "Widget",
         "type": "call_method"
        },
        {
         "args": [
          "this._Q = [[1.0, 0.0, 0.0], [0.0, 1.0, 0.0], [0.0, 0.0, 1.0]]"
         ],
         "kwargs": {},
         "methodName": "executeCode",
         "reconstruc_color_scheme": false,
         "target": "Widget",
         "type": "call_method"
        },
        {
         "args": [
          "this._Q = [[1.0, 0.0, 0.0], [0.0, 1.0, 0.0], [0.0, 0.0, 1.0]]"
         ],
         "kwargs": {},
         "methodName": "executeCode",
         "reconstruc_color_scheme": false,
         "target": "Widget",
         "type": "call_method"
        },
        {
         "args": [
          "this._Q = [[1.0, 0.0, 0.0], [0.0, 1.0, 0.0], [0.0, 0.0, 1.0]]"
         ],
         "kwargs": {},
         "methodName": "executeCode",
         "reconstruc_color_scheme": false,
         "target": "Widget",
         "type": "call_method"
        },
        {
         "args": [
          "this._Q = [[1.0, 0.0, 0.0], [0.0, 1.0, 0.0], [0.0, 0.0, 1.0]]"
         ],
         "kwargs": {},
         "methodName": "executeCode",
         "reconstruc_color_scheme": false,
         "target": "Widget",
         "type": "call_method"
        },
        {
         "args": [
          "this._Q = [[1.0, 0.0, 0.0], [0.0, 1.0, 0.0], [0.0, 0.0, 1.0]]"
         ],
         "kwargs": {},
         "methodName": "executeCode",
         "reconstruc_color_scheme": false,
         "target": "Widget",
         "type": "call_method"
        },
        {
         "args": [
          "this._Q = [[1.0, 0.0, 0.0], [0.0, 1.0, 0.0], [0.0, 0.0, 1.0]]"
         ],
         "kwargs": {},
         "methodName": "executeCode",
         "reconstruc_color_scheme": false,
         "target": "Widget",
         "type": "call_method"
        },
        {
         "args": [
          "this._Q = [[1.0, 0.0, 0.0], [0.0, 1.0, 0.0], [0.0, 0.0, 1.0]]"
         ],
         "kwargs": {},
         "methodName": "executeCode",
         "reconstruc_color_scheme": false,
         "target": "Widget",
         "type": "call_method"
        },
        {
         "args": [
          "this._Q = [[1.0, 0.0, 0.0], [0.0, 1.0, 0.0], [0.0, 0.0, 1.0]]"
         ],
         "kwargs": {},
         "methodName": "executeCode",
         "reconstruc_color_scheme": false,
         "target": "Widget",
         "type": "call_method"
        },
        {
         "args": [
          "this._Q = [[1.0, 0.0, 0.0], [0.0, 1.0, 0.0], [0.0, 0.0, 1.0]]"
         ],
         "kwargs": {},
         "methodName": "executeCode",
         "reconstruc_color_scheme": false,
         "target": "Widget",
         "type": "call_method"
        },
        {
         "args": [
          "this._Q = [[1.0, 0.0, 0.0], [0.0, 1.0, 0.0], [0.0, 0.0, 1.0]]"
         ],
         "kwargs": {},
         "methodName": "executeCode",
         "reconstruc_color_scheme": false,
         "target": "Widget",
         "type": "call_method"
        },
        {
         "args": [
          "this._Q = [[1.0, 0.0, 0.0], [0.0, 1.0, 0.0], [0.0, 0.0, 1.0]]"
         ],
         "kwargs": {},
         "methodName": "executeCode",
         "reconstruc_color_scheme": false,
         "target": "Widget",
         "type": "call_method"
        },
        {
         "args": [
          "this._Q = [[1.0, 0.0, 0.0], [0.0, 1.0, 0.0], [0.0, 0.0, 1.0]]"
         ],
         "kwargs": {},
         "methodName": "executeCode",
         "reconstruc_color_scheme": false,
         "target": "Widget",
         "type": "call_method"
        },
        {
         "args": [
          "this._Q = [[1.0, 0.0, 0.0], [0.0, 1.0, 0.0], [0.0, 0.0, 1.0]]"
         ],
         "kwargs": {},
         "methodName": "executeCode",
         "reconstruc_color_scheme": false,
         "target": "Widget",
         "type": "call_method"
        },
        {
         "args": [
          "this._Q = [[1.0, 0.0, 0.0], [0.0, 1.0, 0.0], [0.0, 0.0, 1.0]]"
         ],
         "kwargs": {},
         "methodName": "executeCode",
         "reconstruc_color_scheme": false,
         "target": "Widget",
         "type": "call_method"
        },
        {
         "args": [
          "this._Q = [[1.0, 0.0, 0.0], [0.0, 1.0, 0.0], [0.0, 0.0, 1.0]]"
         ],
         "kwargs": {},
         "methodName": "executeCode",
         "reconstruc_color_scheme": false,
         "target": "Widget",
         "type": "call_method"
        },
        {
         "args": [
          "this._Q = [[1.0, 0.0, 0.0], [0.0, 1.0, 0.0], [0.0, 0.0, 1.0]]"
         ],
         "kwargs": {},
         "methodName": "executeCode",
         "reconstruc_color_scheme": false,
         "target": "Widget",
         "type": "call_method"
        },
        {
         "args": [
          "this._Q = [[1.0, 0.0, 0.0], [0.0, 1.0, 0.0], [0.0, 0.0, 1.0]]"
         ],
         "kwargs": {},
         "methodName": "executeCode",
         "reconstruc_color_scheme": false,
         "target": "Widget",
         "type": "call_method"
        },
        {
         "args": [
          "this._Q = [[1.0, 0.0, 0.0], [0.0, 1.0, 0.0], [0.0, 0.0, 1.0]]"
         ],
         "kwargs": {},
         "methodName": "executeCode",
         "reconstruc_color_scheme": false,
         "target": "Widget",
         "type": "call_method"
        },
        {
         "args": [
          "this._Q = [[1.0, 0.0, 0.0], [0.0, 1.0, 0.0], [0.0, 0.0, 1.0]]"
         ],
         "kwargs": {},
         "methodName": "executeCode",
         "reconstruc_color_scheme": false,
         "target": "Widget",
         "type": "call_method"
        },
        {
         "args": [
          "this._Q = [[1.0, 0.0, 0.0], [0.0, 1.0, 0.0], [0.0, 0.0, 1.0]]"
         ],
         "kwargs": {},
         "methodName": "executeCode",
         "reconstruc_color_scheme": false,
         "target": "Widget",
         "type": "call_method"
        }
       ],
       "_ngl_original_stage_parameters": {
        "ambientColor": 14540253,
        "ambientIntensity": 0.2,
        "backgroundColor": "white",
        "cameraEyeSep": 0.3,
        "cameraFov": 40,
        "cameraType": "perspective",
        "clipDist": 10,
        "clipFar": 100,
        "clipNear": 0,
        "fogFar": 100,
        "fogNear": 50,
        "hoverTimeout": 0,
        "impostor": true,
        "lightColor": 14540253,
        "lightIntensity": 1,
        "mousePreset": "default",
        "panSpeed": 1,
        "quality": "medium",
        "rotateSpeed": 2,
        "sampleLevel": 0,
        "tooltip": true,
        "workerDefault": true,
        "zoomSpeed": 1.2
       },
       "_ngl_repr_dict": {
        "0": {
         "0": {
          "params": {
           "clipCenter": {
            "x": 0,
            "y": 0,
            "z": 0
           },
           "clipNear": 0,
           "clipRadius": 0,
           "colorMode": "hcl",
           "colorReverse": false,
           "colorScale": "",
           "colorScheme": "element",
           "colorValue": "orange",
           "defaultAssembly": "",
           "depthWrite": true,
           "diffuse": 16777215,
           "diffuseInterior": false,
           "disableImpostor": false,
           "disablePicking": false,
           "flatShaded": false,
           "interiorColor": 2236962,
           "interiorDarkening": 0,
           "lazy": false,
           "matrix": {
            "elements": [
             1,
             0,
             0,
             0,
             0,
             1,
             0,
             0,
             0,
             0,
             1,
             0,
             0,
             0,
             0,
             1
            ]
           },
           "metalness": 0,
           "opacity": 1,
           "quality": "medium",
           "radialSegments": 10,
           "radiusData": {},
           "radiusScale": 1,
           "radiusSize": 0.0644999971687006,
           "radiusType": "vdw",
           "roughness": 0.4,
           "sele": "all",
           "side": "double",
           "sphereDetail": 1,
           "useInteriorColor": true,
           "visible": true,
           "wireframe": false
          },
          "type": "unitcell"
         },
         "1": {
          "params": {
           "assembly": "default",
           "clipCenter": {
            "x": 0,
            "y": 0,
            "z": 0
           },
           "clipNear": 0,
           "clipRadius": 0,
           "colorMode": "hcl",
           "colorReverse": false,
           "colorScale": "rainbow",
           "colorScheme": "element",
           "colorValue": 9474192,
           "defaultAssembly": "",
           "depthWrite": true,
           "diffuse": 16777215,
           "diffuseInterior": false,
           "disableImpostor": false,
           "disablePicking": false,
           "flatShaded": false,
           "interiorColor": 2236962,
           "interiorDarkening": 0,
           "lazy": false,
           "matrix": {
            "elements": [
             1,
             0,
             0,
             0,
             0,
             1,
             0,
             0,
             0,
             0,
             1,
             0,
             0,
             0,
             0,
             1
            ]
           },
           "metalness": 0,
           "opacity": 1,
           "quality": "medium",
           "radiusData": {},
           "radiusScale": 0.5,
           "radiusSize": 1,
           "radiusType": "covalent",
           "roughness": 0.4,
           "sele": "all",
           "side": "double",
           "sphereDetail": 1,
           "useInteriorColor": true,
           "visible": true,
           "wireframe": false
          },
          "type": "spacefill"
         }
        }
       },
       "_ngl_serialize": false,
       "_ngl_version": "2.0.0-dev.36",
       "_ngl_view_id": [
        "E43489CA-DC6B-43B4-8388-B8727240C492"
       ],
       "_player_dict": {},
       "_scene_position": {},
       "_scene_rotation": {},
       "_synced_model_ids": [],
       "_synced_repr_model_ids": [],
       "_view_height": "",
       "_view_width": "",
       "background": "white",
       "frame": 0,
       "gui_style": null,
       "layout": "IPY_MODEL_c960114fa7744209927f88a095657a55",
       "max_frame": 100,
       "n_components": 1,
       "picked": {}
      }
     },
     "cbbe66145c7d46189e843f9fec9c4eef": {
      "model_module": "@jupyter-widgets/base",
      "model_module_version": "1.2.0",
      "model_name": "LayoutModel",
      "state": {}
     },
     "ccc3f9da1c8a48b9a6ba1273d85c2625": {
      "model_module": "@jupyter-widgets/base",
      "model_module_version": "1.2.0",
      "model_name": "LayoutModel",
      "state": {}
     },
     "cd9a0e0e02fd4e0a9675670899c516db": {
      "model_module": "@jupyter-widgets/base",
      "model_module_version": "1.2.0",
      "model_name": "LayoutModel",
      "state": {}
     },
     "ce25e016c6944f80805b2fd529abe353": {
      "model_module": "@jupyter-widgets/controls",
      "model_module_version": "1.5.0",
      "model_name": "CheckboxModel",
      "state": {
       "description": "Show charge",
       "disabled": false,
       "layout": "IPY_MODEL_893c4d52ae6642fc9563c415a51e21db",
       "style": "IPY_MODEL_1d7e23f3b32f4dc6bca0777a7c8af731",
       "value": false
      }
     },
     "ce398beed9004267a48414e1138eacfc": {
      "model_module": "@jupyter-widgets/controls",
      "model_module_version": "1.5.0",
      "model_name": "ButtonModel",
      "state": {
       "description": "Download image",
       "layout": "IPY_MODEL_56a21993b1094afab46ac9ed170c02e0",
       "style": "IPY_MODEL_dfdfb0071be54b4bb2a2de975df2dacf",
       "tooltip": "Download current frame to your local PC"
      }
     },
     "cefce91295a74af0bb71a799369dab3b": {
      "model_module": "@jupyter-widgets/controls",
      "model_module_version": "1.5.0",
      "model_name": "HBoxModel",
      "state": {
       "children": [
        "IPY_MODEL_28587f7fd27d4dc1b93fb1a490c69e24",
        "IPY_MODEL_e47e5343d37242e6a9b6cbefc9eadf87"
       ],
       "layout": "IPY_MODEL_35305a804d214c90925fd9dde54cff95"
      }
     },
     "d22b29cde715424c814cfd61392103df": {
      "model_module": "@jupyter-widgets/controls",
      "model_module_version": "1.5.0",
      "model_name": "DropdownModel",
      "state": {
       "_options_labels": [
        "All",
        "O",
        "Al"
       ],
       "description": "Show",
       "index": 0,
       "layout": "IPY_MODEL_c873542a04d246d5b7b979d992792cc8",
       "style": "IPY_MODEL_803e5c68c2ef4addbc4dc446cbe5cc58"
      }
     },
     "d32716a5103f4579b3ac525e0528fc4a": {
      "model_module": "@jupyter-widgets/base",
      "model_module_version": "1.2.0",
      "model_name": "LayoutModel",
      "state": {}
     },
     "d471c8264bf54567a29facb99b18a3b7": {
      "model_module": "@jupyter-widgets/controls",
      "model_module_version": "1.5.0",
      "model_name": "FloatSliderModel",
      "state": {
       "description": "Force scale",
       "layout": "IPY_MODEL_f68206743f54498daabd17511dd0214a",
       "step": 0.1,
       "style": "IPY_MODEL_e1f575e964ac4aa6b02c5289bf86ff20",
       "value": 0.5
      }
     },
     "d667fa642e2f42ea971ae19f4545cdfb": {
      "model_module": "@jupyter-widgets/output",
      "model_module_version": "1.0.0",
      "model_name": "OutputModel",
      "state": {
       "layout": "IPY_MODEL_2642047da3b14c9aa86c3fa03b1752ac"
      }
     },
     "d7f21a3c63a04a1897759245f7402d66": {
      "model_module": "@jupyter-widgets/controls",
      "model_module_version": "1.5.0",
      "model_name": "ImageModel",
      "state": {
       "layout": "IPY_MODEL_964df02cc4fd46249befd3a0d5df2836",
       "width": "900.0"
      }
     },
     "d8e4d5fec2774dc39529ff261f5a93a6": {
      "model_module": "@jupyter-widgets/controls",
      "model_module_version": "1.5.0",
      "model_name": "PlayModel",
      "state": {
       "layout": "IPY_MODEL_938dc9f2408c4c8cab7b302c5a130bca",
       "max": 0,
       "style": "IPY_MODEL_93a874578857473d8cd7f0e7037fc2b8"
      }
     },
     "d9ef24488aa84c56b8911ade116ba1e7": {
      "model_module": "@jupyter-widgets/controls",
      "model_module_version": "1.5.0",
      "model_name": "ImageModel",
      "state": {
       "layout": "IPY_MODEL_74859c15cae44e61ba8a27da91595bd7",
       "width": "900.0"
      }
     },
     "dd848d4027b448368e14398e3501c521": {
      "model_module": "@jupyter-widgets/controls",
      "model_module_version": "1.5.0",
      "model_name": "SliderStyleModel",
      "state": {
       "description_width": ""
      }
     },
     "df241d7f2ffc48a7b5c3029b80d21c6c": {
      "model_module": "@jupyter-widgets/controls",
      "model_module_version": "1.5.0",
      "model_name": "SliderStyleModel",
      "state": {
       "description_width": ""
      }
     },
     "dfdfb0071be54b4bb2a2de975df2dacf": {
      "model_module": "@jupyter-widgets/controls",
      "model_module_version": "1.5.0",
      "model_name": "ButtonStyleModel",
      "state": {}
     },
     "e1522a11e8bf4d7197d2391499fffdf6": {
      "model_module": "@jupyter-widgets/controls",
      "model_module_version": "1.5.0",
      "model_name": "TextModel",
      "state": {
       "description": "Filename: ",
       "layout": "IPY_MODEL_b23e626a6dba4028929c8f41047534e5",
       "style": "IPY_MODEL_6cad6a358eef469aa85bf2c2b45b531f",
       "value": "screenshot.png"
      }
     },
     "e1f575e964ac4aa6b02c5289bf86ff20": {
      "model_module": "@jupyter-widgets/controls",
      "model_module_version": "1.5.0",
      "model_name": "SliderStyleModel",
      "state": {
       "description_width": ""
      }
     },
     "e1f897c3611540beafd97340fc987bf1": {
      "model_module": "@jupyter-widgets/base",
      "model_module_version": "1.2.0",
      "model_name": "LayoutModel",
      "state": {}
     },
     "e3515b3a234e4857a35abb3baf6c5de2": {
      "model_module": "@jupyter-widgets/base",
      "model_module_version": "1.2.0",
      "model_name": "LayoutModel",
      "state": {}
     },
     "e43800e357234afeadf8e07adfcd3f13": {
      "model_module": "@jupyter-widgets/controls",
      "model_module_version": "1.5.0",
      "model_name": "LinkModel",
      "state": {
       "source": [
        "IPY_MODEL_d8e4d5fec2774dc39529ff261f5a93a6",
        "max"
       ],
       "target": [
        "IPY_MODEL_384f1c631e0e4527a88bbcaf7b531e8b",
        "max_frame"
       ]
      }
     },
     "e47e5343d37242e6a9b6cbefc9eadf87": {
      "model_module": "@jupyter-widgets/controls",
      "model_module_version": "1.5.0",
      "model_name": "VBoxModel",
      "state": {
       "children": [
        "IPY_MODEL_d22b29cde715424c814cfd61392103df",
        "IPY_MODEL_57af5fde2a7f4b5ba7cf8aa5f1893dc4",
        "IPY_MODEL_9fffff9bd5554b4bac373f2c4ed8c58a",
        "IPY_MODEL_e1522a11e8bf4d7197d2391499fffdf6",
        "IPY_MODEL_c86ea77c41f84d269c66fedd0b002434",
        "IPY_MODEL_003deccdf7d94a6388fae332050726e9",
        "IPY_MODEL_3d49b9b5fecf433987dff710f9484501",
        "IPY_MODEL_ce25e016c6944f80805b2fd529abe353",
        "IPY_MODEL_2c77d8ea7f4644d0b199e4dbeeb92fbb",
        "IPY_MODEL_69e4ff14773043db9381aee386f14792"
       ],
       "layout": "IPY_MODEL_144cfe618c734b2c9caad90040d316bd"
      }
     },
     "e9485806149e4426ad77d447e056eaa8": {
      "model_module": "@jupyter-widgets/base",
      "model_module_version": "1.2.0",
      "model_name": "LayoutModel",
      "state": {}
     },
     "e988d1c493224c158efa6d022dc081ad": {
      "model_module": "@jupyter-widgets/controls",
      "model_module_version": "1.5.0",
      "model_name": "DescriptionStyleModel",
      "state": {
       "description_width": ""
      }
     },
     "eb9ab56de7fd411889955521dad0ab00": {
      "model_module": "@jupyter-widgets/controls",
      "model_module_version": "1.5.0",
      "model_name": "LinkModel",
      "state": {
       "source": [
        "IPY_MODEL_d8e4d5fec2774dc39529ff261f5a93a6",
        "value"
       ],
       "target": [
        "IPY_MODEL_384f1c631e0e4527a88bbcaf7b531e8b",
        "frame"
       ]
      }
     },
     "ed691b2a62fe4a6782be1fdaeee6d29b": {
      "model_module": "@jupyter-widgets/controls",
      "model_module_version": "1.5.0",
      "model_name": "DescriptionStyleModel",
      "state": {
       "description_width": ""
      }
     },
     "ed7796a045d34b2b8140f15a90bb66c8": {
      "model_module": "@jupyter-widgets/base",
      "model_module_version": "1.2.0",
      "model_name": "LayoutModel",
      "state": {}
     },
     "ef6359bd6ca74caa942c6b3d30f05bda": {
      "model_module": "@jupyter-widgets/controls",
      "model_module_version": "1.5.0",
      "model_name": "DescriptionStyleModel",
      "state": {
       "description_width": ""
      }
     },
     "f05c44170426440789b0cbb2e6fc3129": {
      "model_module": "@jupyter-widgets/controls",
      "model_module_version": "1.5.0",
      "model_name": "SliderStyleModel",
      "state": {
       "description_width": ""
      }
     },
     "f3359ffaeef74b14826a7a9eab6c8402": {
      "model_module": "@jupyter-widgets/base",
      "model_module_version": "1.2.0",
      "model_name": "LayoutModel",
      "state": {}
     },
     "f3914aa1cbda4d4c901b7253bc05a384": {
      "model_module": "@jupyter-widgets/controls",
      "model_module_version": "1.5.0",
      "model_name": "DescriptionStyleModel",
      "state": {
       "description_width": ""
      }
     },
     "f4082d36d8e94314b9401d8ebad00395": {
      "model_module": "@jupyter-widgets/controls",
      "model_module_version": "1.5.0",
      "model_name": "LinkModel",
      "state": {
       "source": [
        "IPY_MODEL_0a5267d71b574429aae2b3492596a161",
        "max"
       ],
       "target": [
        "IPY_MODEL_c997bd359191467e825dac5b60a05ba3",
        "max_frame"
       ]
      }
     },
     "f411dd01d45b4e55af38125d096c9ecd": {
      "model_module": "@jupyter-widgets/base",
      "model_module_version": "1.2.0",
      "model_name": "LayoutModel",
      "state": {
       "width": "34px"
      }
     },
     "f4ad131785eb44dea81c485d54534408": {
      "model_module": "@jupyter-widgets/base",
      "model_module_version": "1.2.0",
      "model_name": "LayoutModel",
      "state": {}
     },
     "f6184d500a6445808f03228840241cf8": {
      "model_module": "@jupyter-widgets/controls",
      "model_module_version": "1.5.0",
      "model_name": "ButtonModel",
      "state": {
       "icon": "compress",
       "layout": "IPY_MODEL_f411dd01d45b4e55af38125d096c9ecd",
       "style": "IPY_MODEL_8a6031b1a6d44897a24bfa1bcb96c8d9"
      }
     },
     "f68206743f54498daabd17511dd0214a": {
      "model_module": "@jupyter-widgets/base",
      "model_module_version": "1.2.0",
      "model_name": "LayoutModel",
      "state": {}
     },
     "f93cc3faed19423f9916fcf6c8c62b72": {
      "model_module": "@jupyter-widgets/controls",
      "model_module_version": "1.5.0",
      "model_name": "DescriptionStyleModel",
      "state": {
       "description_width": ""
      }
     },
     "f9a1759db64445e58e7c56194f0af70c": {
      "model_module": "@jupyter-widgets/controls",
      "model_module_version": "1.5.0",
      "model_name": "ButtonStyleModel",
      "state": {}
     },
     "fbd59e5d88f8425c892dcf5c3ebce130": {
      "model_module": "@jupyter-widgets/controls",
      "model_module_version": "1.5.0",
      "model_name": "DescriptionStyleModel",
      "state": {
       "description_width": ""
      }
     },
     "fcf64f35cb1240f391da91336579a03c": {
      "model_module": "@jupyter-widgets/controls",
      "model_module_version": "1.5.0",
      "model_name": "SliderStyleModel",
      "state": {
       "description_width": ""
      }
     },
     "fd1029eead0d4e25a6bf970f0556a456": {
      "model_module": "@jupyter-widgets/base",
      "model_module_version": "1.2.0",
      "model_name": "LayoutModel",
      "state": {}
     },
     "fd65fc9915024a95a59504ba4aef434e": {
      "model_module": "@jupyter-widgets/controls",
      "model_module_version": "1.5.0",
      "model_name": "ButtonModel",
      "state": {
       "description": "Download image",
       "layout": "IPY_MODEL_3be391a5ff9444ad85b51dfa4ae7892c",
       "style": "IPY_MODEL_6bf78c01d72b43419011fb49cddb805d",
       "tooltip": "Download current frame to your local PC"
      }
     },
     "fdf8ae9a0cdd434d83c5c241e70c51d7": {
      "model_module": "@jupyter-widgets/controls",
      "model_module_version": "1.5.0",
      "model_name": "ImageModel",
      "state": {
       "layout": "IPY_MODEL_70d85542399048eaa9d13b5828e8a261",
       "width": "900.0"
      }
     },
     "fe31fea721f746c6978a3170f905f50a": {
      "model_module": "@jupyter-widgets/controls",
      "model_module_version": "1.5.0",
      "model_name": "IntSliderModel",
      "state": {
       "layout": "IPY_MODEL_088571dad6294b70ab74b1b0de52895a",
       "max": 0,
       "style": "IPY_MODEL_017d2326c5974b7b9f451077cbb90018"
      }
     },
     "ff28441fbd5f4d9a96e32b94d3b308ba": {
      "model_module": "@jupyter-widgets/controls",
      "model_module_version": "1.5.0",
      "model_name": "CheckboxModel",
      "state": {
       "description": "Show charge",
       "disabled": false,
       "layout": "IPY_MODEL_1dc67bf447754f3b8e3678962f2b95a8",
       "style": "IPY_MODEL_4ff52da69c9f4557a9548739388e3cc3",
       "value": false
      }
     }
    },
    "version_major": 2,
    "version_minor": 0
   }
  }
 },
 "nbformat": 4,
 "nbformat_minor": 5
}
