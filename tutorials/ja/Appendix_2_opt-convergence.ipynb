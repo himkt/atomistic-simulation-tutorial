{
 "cells": [
  {
   "cell_type": "markdown",
   "id": "2dadfc18-5201-40ea-9c56-89354dc29a90",
   "metadata": {},
   "source": [
    "# Appendix: Opt algorithm fmax experiment\n",
    "\n",
    "本章では構造最適化のパラメーターであるfmaxについて考察します。"
   ]
  },
  {
   "cell_type": "code",
   "execution_count": 1,
   "id": "1b962e17-9af2-4b35-99af-f610ca889031",
   "metadata": {},
   "outputs": [],
   "source": [
    "!pip install more_itertools"
   ]
  },
  {
   "cell_type": "code",
   "execution_count": 2,
   "id": "ba52f4ad-edc4-4186-a5a1-b4e4b9c4e1e9",
   "metadata": {},
   "outputs": [
    {
     "data": {
      "application/vnd.jupyter.widget-view+json": {
       "model_id": "9555f60a77c546298d4332241c1d07fb",
       "version_major": 2,
       "version_minor": 0
      },
      "text/plain": []
     },
     "metadata": {},
     "output_type": "display_data"
    }
   ],
   "source": [
    "from ase import Atoms\n",
    "from ase.constraints import ExpCellFilter, FixAtoms\n",
    "from ase.build import bulk, molecule, add_adsorbate, surface\n",
    "from ase.optimize import FIRE\n",
    "from ase.units import kB\n",
    "import pandas as pd\n",
    "from tqdm.auto import tqdm\n",
    "import numpy as np\n",
    "from more_itertools import windowed\n",
    "import pfp_api_client\n",
    "from pfp_api_client.pfp.calculators.ase_calculator import ASECalculator\n",
    "from pfp_api_client.pfp.estimator import Estimator, EstimatorCalcMode\n",
    "from pfcc_extras.structure.ase_rdkit_converter import smiles_to_atoms, atoms_to_smiles\n",
    "from pfcc_extras.visualize.view import view_ngl\n",
    "from matlantis_features.features.common.fire_lbfgs import FIRELBFGS"
   ]
  },
  {
   "cell_type": "code",
   "execution_count": 3,
   "id": "2991576f-a681-496a-b454-a43af860ffd1",
   "metadata": {},
   "outputs": [],
   "source": [
    "def max_distance(atoms1: Atoms, atoms2: Atoms) -> float:\n",
    "    return float(np.max(np.linalg.norm(atoms1.positions - atoms2.positions, axis=1)))"
   ]
  },
  {
   "cell_type": "code",
   "execution_count": 4,
   "id": "948e42a0-dd35-455c-8a18-aaa5ab5259d2",
   "metadata": {},
   "outputs": [],
   "source": [
    "calc_mol = ASECalculator(Estimator(calc_mode=EstimatorCalcMode.MOLECULE, model_version=\"v2.0.0\"))\n",
    "calc = ASECalculator(Estimator(calc_mode=EstimatorCalcMode.CRYSTAL, model_version=\"v2.0.0\"))\n",
    "calc_d3 = ASECalculator(Estimator(calc_mode=EstimatorCalcMode.CRYSTAL_PLUS_D3, model_version=\"v2.0.0\"))"
   ]
  },
  {
   "cell_type": "markdown",
   "id": "4998da81-4d39-406d-985b-b26f9576369c",
   "metadata": {},
   "source": [
    "## fmax=0.05eV/Aで十分な例"
   ]
  },
  {
   "cell_type": "markdown",
   "id": "152ce030-451f-4694-8e60-e8b883eacb6f",
   "metadata": {},
   "source": [
    "aseにおいてfmaxのデフォルト値は0.05eV/Aですが、これは多くの場合において十分な精度を持っています。  \n",
    "分子と固体の例でそれぞれ確認してみましょう。"
   ]
  },
  {
   "cell_type": "markdown",
   "id": "3f7a83ec-6e60-46b5-a1f9-3105a1855124",
   "metadata": {},
   "source": [
    "### 分子の例"
   ]
  },
  {
   "cell_type": "code",
   "execution_count": 5,
   "id": "2d6156ec-abd9-4ec2-bdc8-e1c9cac80e04",
   "metadata": {},
   "outputs": [],
   "source": [
    "fmax_list = [0.05, 0.01, 0.001]"
   ]
  },
  {
   "cell_type": "code",
   "execution_count": 6,
   "id": "964f468f-83d9-4f3e-80fc-29276af4e063",
   "metadata": {},
   "outputs": [
    {
     "data": {
      "application/vnd.jupyter.widget-view+json": {
       "model_id": "e4c2e5163b0047b7956ef961929f6df1",
       "version_major": 2,
       "version_minor": 0
      },
      "text/plain": [
       "  0%|          | 0/3 [00:00<?, ?it/s]"
      ]
     },
     "metadata": {},
     "output_type": "display_data"
    }
   ],
   "source": [
    "atoms = molecule(\"C2H6\")\n",
    "atoms.rattle(stdev=0.1)\n",
    "atoms.calc = calc_mol\n",
    "images = []\n",
    "for fmax in tqdm(fmax_list):\n",
    "    with FIRE(atoms, logfile=None) as opt:\n",
    "        opt.run(fmax=fmax)\n",
    "        images.append(atoms.copy())"
   ]
  },
  {
   "cell_type": "code",
   "execution_count": 7,
   "id": "9d0c6363-863d-4a2e-85f4-bf60a1531742",
   "metadata": {},
   "outputs": [
    {
     "data": {
      "text/html": [
       "<div>\n",
       "<style scoped>\n",
       "    .dataframe tbody tr th:only-of-type {\n",
       "        vertical-align: middle;\n",
       "    }\n",
       "\n",
       "    .dataframe tbody tr th {\n",
       "        vertical-align: top;\n",
       "    }\n",
       "\n",
       "    .dataframe thead th {\n",
       "        text-align: right;\n",
       "    }\n",
       "</style>\n",
       "<table border=\"1\" class=\"dataframe\">\n",
       "  <thead>\n",
       "    <tr style=\"text-align: right;\">\n",
       "      <th></th>\n",
       "      <th>fmax</th>\n",
       "      <th>energy (eV)</th>\n",
       "      <th>distance (A)</th>\n",
       "    </tr>\n",
       "  </thead>\n",
       "  <tbody>\n",
       "    <tr>\n",
       "      <th>0</th>\n",
       "      <td>fmax 0.05-&gt;0.01</td>\n",
       "      <td>-0.002480</td>\n",
       "      <td>0.030840</td>\n",
       "    </tr>\n",
       "    <tr>\n",
       "      <th>1</th>\n",
       "      <td>fmax 0.01-&gt;0.001</td>\n",
       "      <td>-0.000407</td>\n",
       "      <td>0.017347</td>\n",
       "    </tr>\n",
       "  </tbody>\n",
       "</table>\n",
       "</div>"
      ],
      "text/plain": [
       "               fmax  energy (eV)  distance (A)\n",
       "0   fmax 0.05->0.01    -0.002480      0.030840\n",
       "1  fmax 0.01->0.001    -0.000407      0.017347"
      ]
     },
     "execution_count": 7,
     "metadata": {},
     "output_type": "execute_result"
    }
   ],
   "source": [
    "for atoms in images:\n",
    "    atoms.calc = calc_mol\n",
    "\n",
    "results = {\n",
    "    \"fmax\": [],\n",
    "    \"energy (eV)\": [],\n",
    "    \"distance (A)\": [],\n",
    "}\n",
    "for (fmax_old, old), (fmax_new, new) in windowed(zip(fmax_list, images), 2):\n",
    "    de = new.get_potential_energy() - old.get_potential_energy()\n",
    "    dx = max_distance(new, old)\n",
    "    results[\"energy (eV)\"].append(de)\n",
    "    results[\"distance (A)\"].append(dx)\n",
    "    results[\"fmax\"].append(f\"fmax {fmax_old}->{fmax_new}\")\n",
    "pd.DataFrame(results)"
   ]
  },
  {
   "cell_type": "markdown",
   "id": "e6082971-fe64-4ef8-9f30-2060724710cc",
   "metadata": {},
   "source": [
    "### 固体の例"
   ]
  },
  {
   "cell_type": "code",
   "execution_count": 8,
   "id": "29bb10d6-43e3-4ef7-9803-30ab8050cc4a",
   "metadata": {},
   "outputs": [],
   "source": [
    "fmax_list = [0.05, 0.01, 0.001]"
   ]
  },
  {
   "cell_type": "code",
   "execution_count": 9,
   "id": "5713fee3-5fa4-44c0-944a-1c069af7bfb9",
   "metadata": {},
   "outputs": [
    {
     "data": {
      "application/vnd.jupyter.widget-view+json": {
       "model_id": "5fe8d091887e4df4bd07c711d52cb509",
       "version_major": 2,
       "version_minor": 0
      },
      "text/plain": [
       "  0%|          | 0/3 [00:00<?, ?it/s]"
      ]
     },
     "metadata": {},
     "output_type": "display_data"
    }
   ],
   "source": [
    "atoms = bulk(\"Pt\") * (4, 4, 4)\n",
    "atoms.rattle(stdev=0.1)\n",
    "atoms.calc = calc_mol\n",
    "images = []\n",
    "for fmax in tqdm(fmax_list):\n",
    "    with FIRE(atoms, logfile=None) as opt:\n",
    "        opt.run(fmax=fmax)\n",
    "        images.append(atoms.copy())"
   ]
  },
  {
   "cell_type": "code",
   "execution_count": 10,
   "id": "dcaaaa7d-bed8-4579-9c71-17d2fbd5ed4f",
   "metadata": {},
   "outputs": [
    {
     "data": {
      "text/html": [
       "<div>\n",
       "<style scoped>\n",
       "    .dataframe tbody tr th:only-of-type {\n",
       "        vertical-align: middle;\n",
       "    }\n",
       "\n",
       "    .dataframe tbody tr th {\n",
       "        vertical-align: top;\n",
       "    }\n",
       "\n",
       "    .dataframe thead th {\n",
       "        text-align: right;\n",
       "    }\n",
       "</style>\n",
       "<table border=\"1\" class=\"dataframe\">\n",
       "  <thead>\n",
       "    <tr style=\"text-align: right;\">\n",
       "      <th></th>\n",
       "      <th>fmax</th>\n",
       "      <th>energy (eV)</th>\n",
       "      <th>distance (A)</th>\n",
       "    </tr>\n",
       "  </thead>\n",
       "  <tbody>\n",
       "    <tr>\n",
       "      <th>0</th>\n",
       "      <td>fmax 0.05-&gt;0.01</td>\n",
       "      <td>-0.005315</td>\n",
       "      <td>0.016975</td>\n",
       "    </tr>\n",
       "    <tr>\n",
       "      <th>1</th>\n",
       "      <td>fmax 0.01-&gt;0.001</td>\n",
       "      <td>-0.001360</td>\n",
       "      <td>0.013533</td>\n",
       "    </tr>\n",
       "  </tbody>\n",
       "</table>\n",
       "</div>"
      ],
      "text/plain": [
       "               fmax  energy (eV)  distance (A)\n",
       "0   fmax 0.05->0.01    -0.005315      0.016975\n",
       "1  fmax 0.01->0.001    -0.001360      0.013533"
      ]
     },
     "execution_count": 10,
     "metadata": {},
     "output_type": "execute_result"
    }
   ],
   "source": [
    "for atoms in images:\n",
    "    atoms.calc = calc_mol\n",
    "\n",
    "results = {\n",
    "    \"fmax\": [],\n",
    "    \"energy (eV)\": [],\n",
    "    \"distance (A)\": [],\n",
    "}\n",
    "for (fmax_old, old), (fmax_new, new) in windowed(zip(fmax_list, images), 2):\n",
    "    de = new.get_potential_energy() - old.get_potential_energy()\n",
    "    dx = max_distance(new, old)\n",
    "    results[\"energy (eV)\"].append(de)\n",
    "    results[\"distance (A)\"].append(dx)\n",
    "    results[\"fmax\"].append(f\"fmax {fmax_old}->{fmax_new}\")\n",
    "pd.DataFrame(results)"
   ]
  },
  {
   "cell_type": "markdown",
   "id": "e8b574a0-0061-4f1e-a2bb-b29da9222459",
   "metadata": {},
   "source": [
    "いずれの場合も、最も動いた原子でも0.01A程度しか動かず、エネルギーも0.01eV程度しか変わりません。  \n",
    "0.01eVというと、300Kで存在比が1.5倍になる程度のエネルギー差です。常温で扱う材料を探索したい場合、この値は数値計算で欲しい精度を超えています。  \n",
    "また、実験化学の精度に対応するとされるchemical accuracyは0.04eV程度ですが、多くの数値計算手法はその精度に達していないのが現状であり、その意味でもこの精度は必要ないことが多いでしょう。"
   ]
  },
  {
   "cell_type": "markdown",
   "id": "a3895ffa-b48e-4917-8bb8-9a3f3ee8fb62",
   "metadata": {},
   "source": [
    "0.01eVのエネルギー差がある2つの構造の300Kにおける存在比はボルツマン因子から以下のように求めます。"
   ]
  },
  {
   "cell_type": "code",
   "execution_count": 11,
   "id": "0115429b-dbbe-4b5e-aa93-f218487e9758",
   "metadata": {},
   "outputs": [
    {
     "data": {
      "text/plain": [
       "1.4722876299701386"
      ]
     },
     "execution_count": 11,
     "metadata": {},
     "output_type": "execute_result"
    }
   ],
   "source": [
    "np.exp(0.01 / (300 * kB))"
   ]
  },
  {
   "cell_type": "markdown",
   "id": "68979f19-f854-4d3f-805a-11212e2be450",
   "metadata": {},
   "source": [
    "## fmax=0.05eVで不十分な例"
   ]
  },
  {
   "cell_type": "markdown",
   "id": "d695066b-3e31-4306-94c5-256f685a4866",
   "metadata": {},
   "source": [
    "### エネルギーに関して精度不足な例"
   ]
  },
  {
   "cell_type": "markdown",
   "id": "1710f33e-dc8f-4d56-9617-61ff912c217d",
   "metadata": {},
   "source": [
    "少し意地悪な例ですが、2,3-Dimethyl-2-buteneがPt表面にゆるやかに吸着しているような例を考えてみましょう。  \n",
    "このような例ではゆるやかな力が働くため、fmax=0.05eV/Aでは構造最適化が途中で止まってしまい、さらに最適化した場合と比べて大きなエネルギー差が生じてしまいます。  \n",
    "このような状況が発生する可能性があるならば、なるべく小さなfmaxを使ったほうがより信頼のおける構造最適化が出来るでしょう。  "
   ]
  },
  {
   "cell_type": "code",
   "execution_count": 12,
   "id": "244daaa9-9fdd-48b8-98c4-5d4a3ee5e85d",
   "metadata": {},
   "outputs": [],
   "source": [
    "bulk1111 = bulk(\"Pt\")\n",
    "bulk1111.calc = calc_d3\n",
    "with FIRELBFGS(ExpCellFilter(bulk1111), logfile=None) as opt:\n",
    "    opt.run(0.0001)"
   ]
  },
  {
   "cell_type": "code",
   "execution_count": 13,
   "id": "9f3bb3ef-c2f0-477b-81bf-9cc9d5df0b7f",
   "metadata": {},
   "outputs": [],
   "source": [
    "atoms = surface(bulk1111, (1, 1, 1), 4, vacuum=20.0) * (4, 4, 1)\n",
    "c = atoms.cell[2, 2] / 2\n",
    "atoms.constraints = [FixAtoms(mask=[atom.position[2] < c for atom in atoms])]\n",
    "atoms.rattle(stdev=0.1)\n",
    "ads = smiles_to_atoms(\"CC(=C(C)C)C\")\n",
    "v = (ads.positions[0] - ads.positions[1]) / 2\n",
    "p = (atoms.cell[0, :2] + atoms.cell[1, :2]) / 2\n",
    "add_adsorbate(atoms, ads, 4.0, position=tuple(p))\n",
    "atoms.positions[64:] = atoms.positions[64:] + v\n",
    "atoms.calc = calc_d3"
   ]
  },
  {
   "cell_type": "code",
   "execution_count": 14,
   "id": "ce23c753-3c99-4d4b-ab5d-5b7721db33d6",
   "metadata": {},
   "outputs": [
    {
     "data": {
      "application/vnd.jupyter.widget-view+json": {
       "model_id": "4d09683c84d7404c9b0461b86eb23c16",
       "version_major": 2,
       "version_minor": 0
      },
      "text/plain": [
       "HBox(children=(NGLWidget(), VBox(children=(Dropdown(description='Show', options=('All', 'Pt', 'H', 'C'), value…"
      ]
     },
     "metadata": {},
     "output_type": "display_data"
    }
   ],
   "source": [
    "view_ngl(atoms, representations=[\"ball+stick\"])"
   ]
  },
  {
   "cell_type": "code",
   "execution_count": 15,
   "id": "ea3da008-651e-40c2-9c86-0976622a3731",
   "metadata": {},
   "outputs": [],
   "source": [
    "fmax_list = [0.05, 0.01, 0.001]"
   ]
  },
  {
   "cell_type": "code",
   "execution_count": 16,
   "id": "5a44e49f-c0a3-41b1-b09a-bfca7e32fe50",
   "metadata": {
    "tags": []
   },
   "outputs": [
    {
     "data": {
      "application/vnd.jupyter.widget-view+json": {
       "model_id": "6db8dd52524b45a08bf6ea21ee26587e",
       "version_major": 2,
       "version_minor": 0
      },
      "text/plain": [
       "  0%|          | 0/3 [00:00<?, ?it/s]"
      ]
     },
     "metadata": {},
     "output_type": "display_data"
    }
   ],
   "source": [
    "images = []\n",
    "for fmax in tqdm(fmax_list):\n",
    "    with FIRELBFGS(atoms, logfile=None) as opt:\n",
    "        opt.run(fmax=fmax)\n",
    "        images.append(atoms.copy())"
   ]
  },
  {
   "cell_type": "code",
   "execution_count": 17,
   "id": "71c3e517-a8bc-4399-9fa1-6087c0802f20",
   "metadata": {},
   "outputs": [
    {
     "data": {
      "text/html": [
       "<div>\n",
       "<style scoped>\n",
       "    .dataframe tbody tr th:only-of-type {\n",
       "        vertical-align: middle;\n",
       "    }\n",
       "\n",
       "    .dataframe tbody tr th {\n",
       "        vertical-align: top;\n",
       "    }\n",
       "\n",
       "    .dataframe thead th {\n",
       "        text-align: right;\n",
       "    }\n",
       "</style>\n",
       "<table border=\"1\" class=\"dataframe\">\n",
       "  <thead>\n",
       "    <tr style=\"text-align: right;\">\n",
       "      <th></th>\n",
       "      <th>fmax</th>\n",
       "      <th>energy (eV)</th>\n",
       "      <th>distance (A)</th>\n",
       "    </tr>\n",
       "  </thead>\n",
       "  <tbody>\n",
       "    <tr>\n",
       "      <th>0</th>\n",
       "      <td>fmax 0.05-&gt;0.01</td>\n",
       "      <td>-0.212360</td>\n",
       "      <td>4.064554</td>\n",
       "    </tr>\n",
       "    <tr>\n",
       "      <th>1</th>\n",
       "      <td>fmax 0.01-&gt;0.001</td>\n",
       "      <td>-0.988879</td>\n",
       "      <td>2.565194</td>\n",
       "    </tr>\n",
       "  </tbody>\n",
       "</table>\n",
       "</div>"
      ],
      "text/plain": [
       "               fmax  energy (eV)  distance (A)\n",
       "0   fmax 0.05->0.01    -0.212360      4.064554\n",
       "1  fmax 0.01->0.001    -0.988879      2.565194"
      ]
     },
     "execution_count": 17,
     "metadata": {},
     "output_type": "execute_result"
    }
   ],
   "source": [
    "for atoms in images:\n",
    "    atoms.calc = calc_mol\n",
    "\n",
    "results = {\n",
    "    \"fmax\": [],\n",
    "    \"energy (eV)\": [],\n",
    "    \"distance (A)\": [],\n",
    "}\n",
    "for (fmax_old, old), (fmax_new, new) in windowed(zip(fmax_list, images), 2):\n",
    "    de = new.get_potential_energy() - old.get_potential_energy()\n",
    "    dx = max_distance(new, old)\n",
    "    results[\"energy (eV)\"].append(de)\n",
    "    results[\"distance (A)\"].append(dx)\n",
    "    results[\"fmax\"].append(f\"fmax {fmax_old}->{fmax_new}\")\n",
    "pd.DataFrame(results)"
   ]
  },
  {
   "cell_type": "code",
   "execution_count": 18,
   "id": "166f01df-023b-49b4-89f5-466325c2d4a4",
   "metadata": {},
   "outputs": [
    {
     "data": {
      "application/vnd.jupyter.widget-view+json": {
       "model_id": "20b615332d124f0ab61407e3c2411561",
       "version_major": 2,
       "version_minor": 0
      },
      "text/plain": [
       "HBox(children=(NGLWidget(max_frame=2), VBox(children=(Dropdown(description='Show', options=('All', 'Pt', 'H', …"
      ]
     },
     "metadata": {},
     "output_type": "display_data"
    }
   ],
   "source": [
    "view_ngl(images, representations=[\"ball+stick\"], replace_structure=True)"
   ]
  },
  {
   "cell_type": "markdown",
   "id": "3f49e101-a9a9-47b4-b76f-67e8f735b5dd",
   "metadata": {},
   "source": [
    "### 座標に関して精度不足な例（１）"
   ]
  },
  {
   "cell_type": "markdown",
   "id": "9b3c7814-6d4a-4a12-9032-b6f1d737b64b",
   "metadata": {},
   "source": [
    "Pt(111)面にエチレンが吸着したような例では、fmax=0.05eVでは中途半端な構造で構造最適化が止まってしまいます。"
   ]
  },
  {
   "cell_type": "code",
   "execution_count": 19,
   "id": "4389dcc2-970b-44dc-81c7-2dc741f3d5f5",
   "metadata": {
    "tags": []
   },
   "outputs": [],
   "source": [
    "bulk1111 = bulk(\"Pt\")\n",
    "bulk1111.calc = calc\n",
    "with FIRELBFGS(ExpCellFilter(bulk1111), logfile=None) as opt:\n",
    "    opt.run(0.0001)"
   ]
  },
  {
   "cell_type": "code",
   "execution_count": 20,
   "id": "85ea2cd2-a7ed-4116-b546-3b27296d7a9a",
   "metadata": {},
   "outputs": [],
   "source": [
    "atoms = surface(bulk1111, (1, 1, 1), 4, vacuum=20.0) * (4, 4, 1)\n",
    "c = atoms.cell[2, 2] / 2\n",
    "atoms.constraints = [FixAtoms(mask=[atom.position[2] < c for atom in atoms])]\n",
    "atoms.calc = calc\n",
    "atoms.rattle(stdev=0.1)\n",
    "add_adsorbate(atoms, smiles_to_atoms(\"C=C\"), 2.0, position=tuple((atoms.cell[0, :2] + atoms.cell[1, :2]) / 2))"
   ]
  },
  {
   "cell_type": "code",
   "execution_count": 21,
   "id": "15639190-986e-4c76-a2e6-4561e2b69b48",
   "metadata": {},
   "outputs": [
    {
     "data": {
      "application/vnd.jupyter.widget-view+json": {
       "model_id": "e885666215bb4f728f16679ebb25f3eb",
       "version_major": 2,
       "version_minor": 0
      },
      "text/plain": [
       "HBox(children=(NGLWidget(), VBox(children=(Dropdown(description='Show', options=('All', 'Pt', 'H', 'C'), value…"
      ]
     },
     "metadata": {},
     "output_type": "display_data"
    }
   ],
   "source": [
    "view_ngl(atoms, representations=[\"ball+stick\"])"
   ]
  },
  {
   "cell_type": "code",
   "execution_count": 22,
   "id": "f41a461d-db2f-47a3-9cd4-5e3259b33705",
   "metadata": {
    "tags": []
   },
   "outputs": [
    {
     "data": {
      "application/vnd.jupyter.widget-view+json": {
       "model_id": "4e616e3d59864d83823f3e6c9380c4e8",
       "version_major": 2,
       "version_minor": 0
      },
      "text/plain": [
       "  0%|          | 0/3 [00:00<?, ?it/s]"
      ]
     },
     "metadata": {},
     "output_type": "display_data"
    }
   ],
   "source": [
    "images = []\n",
    "for fmax in tqdm(fmax_list):\n",
    "    with FIRELBFGS(atoms, logfile=None) as opt:\n",
    "        opt.run(fmax=fmax)\n",
    "        images.append(atoms.copy())"
   ]
  },
  {
   "cell_type": "code",
   "execution_count": 23,
   "id": "f5673535-cf2a-4aa1-89b0-9199206990be",
   "metadata": {},
   "outputs": [
    {
     "data": {
      "text/html": [
       "<div>\n",
       "<style scoped>\n",
       "    .dataframe tbody tr th:only-of-type {\n",
       "        vertical-align: middle;\n",
       "    }\n",
       "\n",
       "    .dataframe tbody tr th {\n",
       "        vertical-align: top;\n",
       "    }\n",
       "\n",
       "    .dataframe thead th {\n",
       "        text-align: right;\n",
       "    }\n",
       "</style>\n",
       "<table border=\"1\" class=\"dataframe\">\n",
       "  <thead>\n",
       "    <tr style=\"text-align: right;\">\n",
       "      <th></th>\n",
       "      <th>fmax</th>\n",
       "      <th>energy (eV)</th>\n",
       "      <th>distance (A)</th>\n",
       "    </tr>\n",
       "  </thead>\n",
       "  <tbody>\n",
       "    <tr>\n",
       "      <th>0</th>\n",
       "      <td>fmax 0.05-&gt;0.01</td>\n",
       "      <td>-0.045654</td>\n",
       "      <td>0.393405</td>\n",
       "    </tr>\n",
       "    <tr>\n",
       "      <th>1</th>\n",
       "      <td>fmax 0.01-&gt;0.001</td>\n",
       "      <td>0.007299</td>\n",
       "      <td>0.081156</td>\n",
       "    </tr>\n",
       "  </tbody>\n",
       "</table>\n",
       "</div>"
      ],
      "text/plain": [
       "               fmax  energy (eV)  distance (A)\n",
       "0   fmax 0.05->0.01    -0.045654      0.393405\n",
       "1  fmax 0.01->0.001     0.007299      0.081156"
      ]
     },
     "execution_count": 23,
     "metadata": {},
     "output_type": "execute_result"
    }
   ],
   "source": [
    "for atoms in images:\n",
    "    atoms.calc = calc_mol\n",
    "\n",
    "results = {\n",
    "    \"fmax\": [],\n",
    "    \"energy (eV)\": [],\n",
    "    \"distance (A)\": [],\n",
    "}\n",
    "for (fmax_old, old), (fmax_new, new) in windowed(zip(fmax_list, images), 2):\n",
    "    de = new.get_potential_energy() - old.get_potential_energy()\n",
    "    dx = max_distance(new, old)\n",
    "    results[\"energy (eV)\"].append(de)\n",
    "    results[\"distance (A)\"].append(dx)\n",
    "    results[\"fmax\"].append(f\"fmax {fmax_old}->{fmax_new}\")\n",
    "pd.DataFrame(results)"
   ]
  },
  {
   "cell_type": "code",
   "execution_count": 24,
   "id": "9f9b04e7-6c4e-4f80-bbcd-ccbadd3515da",
   "metadata": {},
   "outputs": [
    {
     "data": {
      "application/vnd.jupyter.widget-view+json": {
       "model_id": "5f6d07dd1adf4c79a3fd633eabc2318e",
       "version_major": 2,
       "version_minor": 0
      },
      "text/plain": [
       "HBox(children=(NGLWidget(max_frame=2), VBox(children=(Dropdown(description='Show', options=('All', 'Pt', 'H', …"
      ]
     },
     "metadata": {},
     "output_type": "display_data"
    }
   ],
   "source": [
    "view_ngl(images, representations=[\"ball+stick\"], replace_structure=True)"
   ]
  },
  {
   "cell_type": "markdown",
   "id": "b67ec50c-8de3-4ee4-9d61-95e1d48b7960",
   "metadata": {},
   "source": [
    "中途半端で止まってしまった構造と最適化しきった構造を見比べると違った印象をうけると思います。  \n",
    "とはいえこの例ではエネルギー差は大きくないため、場合によってはこの違いを無視するという判断を行っても良いかもしれません。  "
   ]
  },
  {
   "cell_type": "markdown",
   "id": "1db303f8-91da-4773-a176-1aadac3b46c9",
   "metadata": {},
   "source": [
    "### 構造について精度不足な例（２）"
   ]
  },
  {
   "cell_type": "markdown",
   "id": "6036bb15-9281-4bb4-a492-fc06846941c0",
   "metadata": {},
   "source": [
    "構造最適化が難しい系として良く知られているトルエンのメチル基の回転を試してみます。"
   ]
  },
  {
   "cell_type": "code",
   "execution_count": 25,
   "id": "d6c6acdd-7ed7-42c3-ab76-25bb4331b36d",
   "metadata": {
    "tags": []
   },
   "outputs": [],
   "source": [
    "atoms = smiles_to_atoms(\"Cc1ccccc1\")\n",
    "tmp = atoms[7:10]\n",
    "tmp.rotate([1.0, 0.0, 0.0], 15.0)\n",
    "atoms.positions[7:10] = tmp.positions\n",
    "atoms.calc = calc_mol"
   ]
  },
  {
   "cell_type": "code",
   "execution_count": 26,
   "id": "59204b72-d8dc-4f3d-bf5c-4cc4e4f8f084",
   "metadata": {},
   "outputs": [
    {
     "data": {
      "application/vnd.jupyter.widget-view+json": {
       "model_id": "2da895b620c5439087bf40866633e8ef",
       "version_major": 2,
       "version_minor": 0
      },
      "text/plain": [
       "HBox(children=(NGLWidget(), VBox(children=(Dropdown(description='Show', options=('All', 'H', 'C'), value='All'…"
      ]
     },
     "metadata": {},
     "output_type": "display_data"
    }
   ],
   "source": [
    "view_ngl(atoms, representations=[\"ball+stick\"])"
   ]
  },
  {
   "cell_type": "code",
   "execution_count": 27,
   "id": "55a93eed-31bf-4dfb-9673-f4074f5b48a1",
   "metadata": {
    "tags": []
   },
   "outputs": [
    {
     "data": {
      "application/vnd.jupyter.widget-view+json": {
       "model_id": "d52fb2ce9baa41aaa6dce4ccdfc38497",
       "version_major": 2,
       "version_minor": 0
      },
      "text/plain": [
       "  0%|          | 0/3 [00:00<?, ?it/s]"
      ]
     },
     "metadata": {},
     "output_type": "display_data"
    }
   ],
   "source": [
    "images = []\n",
    "for fmax in tqdm(fmax_list):\n",
    "    with FIRELBFGS(atoms, logfile=None) as opt:\n",
    "        opt.run(fmax=fmax)\n",
    "        images.append(atoms.copy())"
   ]
  },
  {
   "cell_type": "code",
   "execution_count": 28,
   "id": "e04acee2-6313-448e-9059-0bbb7c9405bf",
   "metadata": {},
   "outputs": [
    {
     "data": {
      "text/html": [
       "<div>\n",
       "<style scoped>\n",
       "    .dataframe tbody tr th:only-of-type {\n",
       "        vertical-align: middle;\n",
       "    }\n",
       "\n",
       "    .dataframe tbody tr th {\n",
       "        vertical-align: top;\n",
       "    }\n",
       "\n",
       "    .dataframe thead th {\n",
       "        text-align: right;\n",
       "    }\n",
       "</style>\n",
       "<table border=\"1\" class=\"dataframe\">\n",
       "  <thead>\n",
       "    <tr style=\"text-align: right;\">\n",
       "      <th></th>\n",
       "      <th>fmax</th>\n",
       "      <th>energy (eV)</th>\n",
       "      <th>distance (A)</th>\n",
       "    </tr>\n",
       "  </thead>\n",
       "  <tbody>\n",
       "    <tr>\n",
       "      <th>0</th>\n",
       "      <td>fmax 0.05-&gt;0.01</td>\n",
       "      <td>-0.001785</td>\n",
       "      <td>0.028951</td>\n",
       "    </tr>\n",
       "    <tr>\n",
       "      <th>1</th>\n",
       "      <td>fmax 0.01-&gt;0.001</td>\n",
       "      <td>-0.001719</td>\n",
       "      <td>0.260573</td>\n",
       "    </tr>\n",
       "  </tbody>\n",
       "</table>\n",
       "</div>"
      ],
      "text/plain": [
       "               fmax  energy (eV)  distance (A)\n",
       "0   fmax 0.05->0.01    -0.001785      0.028951\n",
       "1  fmax 0.01->0.001    -0.001719      0.260573"
      ]
     },
     "execution_count": 28,
     "metadata": {},
     "output_type": "execute_result"
    }
   ],
   "source": [
    "for atoms in images:\n",
    "    atoms.calc = calc_mol\n",
    "\n",
    "results = {\n",
    "    \"fmax\": [],\n",
    "    \"energy (eV)\": [],\n",
    "    \"distance (A)\": [],\n",
    "}\n",
    "for (fmax_old, old), (fmax_new, new) in windowed(zip(fmax_list, images), 2):\n",
    "    de = new.get_potential_energy() - old.get_potential_energy()\n",
    "    dx = max_distance(new, old)\n",
    "    results[\"energy (eV)\"].append(de)\n",
    "    results[\"distance (A)\"].append(dx)\n",
    "    results[\"fmax\"].append(f\"fmax {fmax_old}->{fmax_new}\")\n",
    "pd.DataFrame(results)"
   ]
  },
  {
   "cell_type": "code",
   "execution_count": 29,
   "id": "b397f32a-8726-4533-a82d-1c0da3c35ba2",
   "metadata": {},
   "outputs": [
    {
     "data": {
      "application/vnd.jupyter.widget-view+json": {
       "model_id": "e8e2a889cc78471c8ba6fd940e4acf67",
       "version_major": 2,
       "version_minor": 0
      },
      "text/plain": [
       "HBox(children=(NGLWidget(max_frame=2), VBox(children=(Dropdown(description='Show', options=('All', 'H', 'C'), …"
      ]
     },
     "metadata": {},
     "output_type": "display_data"
    }
   ],
   "source": [
    "view_ngl(images, representations=[\"ball+stick\"], replace_structure=True)"
   ]
  },
  {
   "cell_type": "markdown",
   "id": "7499e7e7-bb8f-4cba-8969-08d7cb61e06a",
   "metadata": {},
   "source": [
    "トルエンのメチル基の回転は角度が変わってもエネルギー差があまり変わらないことが判ると思います。  \n",
    "このような例では小さなfmaxを用いないと最安定構造の予測が出来ません。\n",
    "0.002eVのエネルギー差は300Kで存在比が1.08倍になる程度の影響しかないので、ほとんど影響がないと言っても構わないでしょう。  \n",
    "従ってこのような小さなエネルギー差は場合によっては無視してかまいません。  \n",
    "ただし、振動解析のようなエネルギーが極小であることを前提とした解析を行いたい場合は時として解析に悪影響を及ぼすかもしれません。  "
   ]
  },
  {
   "cell_type": "code",
   "execution_count": 30,
   "id": "b580d626-86be-40cc-9747-1a6114c93472",
   "metadata": {},
   "outputs": [
    {
     "data": {
      "text/plain": [
       "1.080434721876578"
      ]
     },
     "execution_count": 30,
     "metadata": {},
     "output_type": "execute_result"
    }
   ],
   "source": [
    "np.exp(0.002 / (300 * kB))"
   ]
  }
 ],
 "metadata": {
  "kernelspec": {
   "display_name": "Python 3.7",
   "language": "python",
   "name": "python37"
  },
  "language_info": {
   "codemirror_mode": {
    "name": "ipython",
    "version": 3
   },
   "file_extension": ".py",
   "mimetype": "text/x-python",
   "name": "python",
   "nbconvert_exporter": "python",
   "pygments_lexer": "ipython3",
   "version": "3.7.13"
  },
  "widgets": {
   "application/vnd.jupyter.widget-state+json": {
    "state": {
     "000c4a7ba51149e28c0e992ddbfd1e8f": {
      "model_module": "@jupyter-widgets/base",
      "model_module_version": "1.2.0",
      "model_name": "LayoutModel",
      "state": {}
     },
     "00c21022673242c19f1c55fd08b07df8": {
      "model_module": "@jupyter-widgets/controls",
      "model_module_version": "1.5.0",
      "model_name": "ButtonStyleModel",
      "state": {}
     },
     "02d366fa19f54176bbfb2e87c402ddc7": {
      "model_module": "@jupyter-widgets/controls",
      "model_module_version": "1.5.0",
      "model_name": "HTMLModel",
      "state": {
       "layout": "IPY_MODEL_79b9c0a4c95d440cafc770fd5f2b1c5e",
       "style": "IPY_MODEL_17fe77c407ed4289a5742758dfe1ad25",
       "value": " 3/3 [00:09&lt;00:00,  3.93s/it]"
      }
     },
     "034d03eb1e3f4a9bb3cfd937f6fce9d7": {
      "model_module": "@jupyter-widgets/controls",
      "model_module_version": "1.5.0",
      "model_name": "DescriptionStyleModel",
      "state": {
       "description_width": ""
      }
     },
     "039252b72e264bbb96949cbfc12489ff": {
      "model_module": "@jupyter-widgets/controls",
      "model_module_version": "1.5.0",
      "model_name": "SliderStyleModel",
      "state": {
       "description_width": ""
      }
     },
     "0424e62d4fb3465ba10bd0d3c17a95ca": {
      "model_module": "@jupyter-widgets/controls",
      "model_module_version": "1.5.0",
      "model_name": "LinkModel",
      "state": {
       "source": [
        "IPY_MODEL_d68a9596f3694003a9dee8b9d0e16b4d",
        "max"
       ],
       "target": [
        "IPY_MODEL_7693dbb62be54dc39cc14deec95b3e5e",
        "max_frame"
       ]
      }
     },
     "0467a6ab8c46468fb9d6feaf82dd6672": {
      "model_module": "@jupyter-widgets/controls",
      "model_module_version": "1.5.0",
      "model_name": "LinkModel",
      "state": {
       "source": [
        "IPY_MODEL_5ce6a6060e9f4e89ae842e2886b6283d",
        "max"
       ],
       "target": [
        "IPY_MODEL_eb783f19648a420980f55b051ea2f1ed",
        "max_frame"
       ]
      }
     },
     "0502d659ee1d4082b73a4359d52d7770": {
      "model_module": "@jupyter-widgets/controls",
      "model_module_version": "1.5.0",
      "model_name": "VBoxModel",
      "state": {
       "children": [
        "IPY_MODEL_ee0ea6b235694222b2421ca4a88d01cb",
        "IPY_MODEL_aeb6e581819c4140b01e12ccdec0bed6",
        "IPY_MODEL_a71fc22d2a504a1cbe9707cad8f3e4ca",
        "IPY_MODEL_a9e132616ece458b961b3471fd3e2611",
        "IPY_MODEL_fd8392d16a3d4e9ca2a97e546426f1be",
        "IPY_MODEL_8d425dc178f94b3cb5d63d3c507160aa",
        "IPY_MODEL_1d3c8ecee9f247548d09351bcc714e6d",
        "IPY_MODEL_d9d80aae69df4a40ab5535acc0493740",
        "IPY_MODEL_5bced2c14bab4b3ab3cb69186750ff7c",
        "IPY_MODEL_b6570dda4a9449189a2be94fb05a4cf0",
        "IPY_MODEL_9ce946fc2e364a09abab9b1c1edbfd18"
       ],
       "layout": "IPY_MODEL_1cb08f410fca46178304a725331d5c2d"
      }
     },
     "05b42593c7d146ee994facb2b9851b18": {
      "model_module": "@jupyter-widgets/controls",
      "model_module_version": "1.5.0",
      "model_name": "ProgressStyleModel",
      "state": {
       "description_width": ""
      }
     },
     "061abbb16e404665b7a231017a6b38b4": {
      "model_module": "@jupyter-widgets/base",
      "model_module_version": "1.2.0",
      "model_name": "LayoutModel",
      "state": {}
     },
     "0634085c3a534d25973368eec184f311": {
      "model_module": "@jupyter-widgets/controls",
      "model_module_version": "1.5.0",
      "model_name": "ButtonModel",
      "state": {
       "description": "Download image",
       "layout": "IPY_MODEL_fcda9a19ea194bfb8490222717f533bd",
       "style": "IPY_MODEL_fa34cbf94dab41d3bc9da48169fd1f5d",
       "tooltip": "Download current frame to your local PC"
      }
     },
     "076a050f05804190b6db87410db6627d": {
      "model_module": "@jupyter-widgets/controls",
      "model_module_version": "1.5.0",
      "model_name": "DescriptionStyleModel",
      "state": {
       "description_width": ""
      }
     },
     "095ce71dc7454777b4d3998f2e37320d": {
      "model_module": "@jupyter-widgets/base",
      "model_module_version": "1.2.0",
      "model_name": "LayoutModel",
      "state": {
       "width": "34px"
      }
     },
     "0a0cb0dada6e41c782b3919ac349387b": {
      "model_module": "@jupyter-widgets/base",
      "model_module_version": "1.2.0",
      "model_name": "LayoutModel",
      "state": {}
     },
     "0a4861a7a7764d7499da6506ec651801": {
      "model_module": "@jupyter-widgets/controls",
      "model_module_version": "1.5.0",
      "model_name": "DescriptionStyleModel",
      "state": {
       "description_width": ""
      }
     },
     "0abff6459b9d4ff88289544499195317": {
      "model_module": "@jupyter-widgets/base",
      "model_module_version": "1.2.0",
      "model_name": "LayoutModel",
      "state": {}
     },
     "0af9964764f4479b8d9126c3094584ac": {
      "model_module": "@jupyter-widgets/controls",
      "model_module_version": "1.5.0",
      "model_name": "DescriptionStyleModel",
      "state": {
       "description_width": ""
      }
     },
     "0b73bd50509c4cfeb8bc706845687ce2": {
      "model_module": "@jupyter-widgets/base",
      "model_module_version": "1.2.0",
      "model_name": "LayoutModel",
      "state": {}
     },
     "0d11b493621a4f918d9982b0f23d8fd3": {
      "model_module": "@jupyter-widgets/controls",
      "model_module_version": "1.5.0",
      "model_name": "DescriptionStyleModel",
      "state": {
       "description_width": ""
      }
     },
     "0d53f9d0cd70407aa23ab3ebce129fcc": {
      "model_module": "@jupyter-widgets/base",
      "model_module_version": "1.2.0",
      "model_name": "LayoutModel",
      "state": {}
     },
     "0dd332b1c88e496eb205de4810892ea1": {
      "model_module": "@jupyter-widgets/base",
      "model_module_version": "1.2.0",
      "model_name": "LayoutModel",
      "state": {}
     },
     "0e305f385b9949aaafdd77ecddaa2886": {
      "model_module": "@jupyter-widgets/controls",
      "model_module_version": "1.5.0",
      "model_name": "FloatSliderModel",
      "state": {
       "description": "Force scale",
       "layout": "IPY_MODEL_66bba01658264db88301f7f7030a1c01",
       "step": 0.1,
       "style": "IPY_MODEL_5aedf2d9834449f09a7c7ad8a4456f86",
       "value": 0.5
      }
     },
     "0eff300f4c0e4264914b64c9a8ed399b": {
      "model_module": "@jupyter-widgets/base",
      "model_module_version": "1.2.0",
      "model_name": "LayoutModel",
      "state": {}
     },
     "103210eb57664e859863eaf420643a8b": {
      "model_module": "@jupyter-widgets/controls",
      "model_module_version": "1.5.0",
      "model_name": "ButtonStyleModel",
      "state": {}
     },
     "1133139342ef4e23880fc9ed3b5ce345": {
      "model_module": "@jupyter-widgets/controls",
      "model_module_version": "1.5.0",
      "model_name": "TextModel",
      "state": {
       "description": "Filename: ",
       "layout": "IPY_MODEL_7bae1cebd83648dd8d122fde6a1bc64e",
       "style": "IPY_MODEL_36d2ed4fa5a4494e9fa70af53b3bd53e",
       "value": "screenshot.png"
      }
     },
     "1145134980524ab085669f2aa4708daf": {
      "model_module": "@jupyter-widgets/controls",
      "model_module_version": "1.5.0",
      "model_name": "ButtonStyleModel",
      "state": {}
     },
     "115dba47885b43b0b212f0b33dbae307": {
      "model_module": "@jupyter-widgets/base",
      "model_module_version": "1.2.0",
      "model_name": "LayoutModel",
      "state": {}
     },
     "11fbfbbc0db34b1a9e20f857eab3c9dc": {
      "model_module": "@jupyter-widgets/controls",
      "model_module_version": "1.5.0",
      "model_name": "VBoxModel",
      "state": {
       "children": [
        "IPY_MODEL_385321bb24e340af8884a8eebbb129e6",
        "IPY_MODEL_5a7592ed3bf642e59f23115763987447",
        "IPY_MODEL_a0558142990e49359e2ded5434b4a31c",
        "IPY_MODEL_2fe7367df9e844a0878803e1d0b38a0a",
        "IPY_MODEL_16ee6930e4d34fcb94705a6b1c98e288",
        "IPY_MODEL_654349e4c173463da6a9028d0f156d3c",
        "IPY_MODEL_ccef461dcd00447e98af38766ea408fc",
        "IPY_MODEL_0e305f385b9949aaafdd77ecddaa2886",
        "IPY_MODEL_21e4729966304994b14cf7cb0543b162",
        "IPY_MODEL_27a43a72d09547f5ae2a18152fb5ae90",
        "IPY_MODEL_a37ee63041634c2a9097170e6ca28060"
       ],
       "layout": "IPY_MODEL_fe8e421cc3634ea3950ef6c77f039351"
      }
     },
     "1429ff0365034dbdb8bf9482f0b38b37": {
      "model_module": "@jupyter-widgets/base",
      "model_module_version": "1.2.0",
      "model_name": "LayoutModel",
      "state": {}
     },
     "146d8cad36444b098f2030c16d4aa42f": {
      "model_module": "@jupyter-widgets/base",
      "model_module_version": "1.2.0",
      "model_name": "LayoutModel",
      "state": {
       "border": "0px solid black"
      }
     },
     "14c8908cce4d47c5858a9f3e26b1baf9": {
      "model_module": "@jupyter-widgets/controls",
      "model_module_version": "1.5.0",
      "model_name": "DescriptionStyleModel",
      "state": {
       "description_width": ""
      }
     },
     "15a51358f7c04449aef92ee846dcf5fe": {
      "model_module": "@jupyter-widgets/base",
      "model_module_version": "1.2.0",
      "model_name": "LayoutModel",
      "state": {}
     },
     "16434f08104748139966f12c7d2d420b": {
      "model_module": "@jupyter-widgets/base",
      "model_module_version": "1.2.0",
      "model_name": "LayoutModel",
      "state": {}
     },
     "16ee6930e4d34fcb94705a6b1c98e288": {
      "model_module": "@jupyter-widgets/controls",
      "model_module_version": "1.5.0",
      "model_name": "TextModel",
      "state": {
       "description": "Filename: ",
       "layout": "IPY_MODEL_115dba47885b43b0b212f0b33dbae307",
       "style": "IPY_MODEL_4067bf52b39b497cb61878dbfc4d7dac",
       "value": "screenshot.png"
      }
     },
     "1772225076e04228b3e1f004ad631ec7": {
      "model_module": "@jupyter-widgets/controls",
      "model_module_version": "1.5.0",
      "model_name": "SliderStyleModel",
      "state": {
       "description_width": ""
      }
     },
     "17c8d61771534c2aa2f85264afbca2c4": {
      "model_module": "@jupyter-widgets/base",
      "model_module_version": "1.2.0",
      "model_name": "LayoutModel",
      "state": {}
     },
     "17fe77c407ed4289a5742758dfe1ad25": {
      "model_module": "@jupyter-widgets/controls",
      "model_module_version": "1.5.0",
      "model_name": "DescriptionStyleModel",
      "state": {
       "description_width": ""
      }
     },
     "188a0bda281042d89952bf6c8c46da69": {
      "model_module": "@jupyter-widgets/controls",
      "model_module_version": "1.5.0",
      "model_name": "DescriptionStyleModel",
      "state": {
       "description_width": ""
      }
     },
     "19c7011a39bd4493ba3a24e18dedf781": {
      "model_module": "@jupyter-widgets/controls",
      "model_module_version": "1.5.0",
      "model_name": "CheckboxModel",
      "state": {
       "description": "Show force",
       "disabled": false,
       "layout": "IPY_MODEL_000c4a7ba51149e28c0e992ddbfd1e8f",
       "style": "IPY_MODEL_5c6e21a7606a404f8995d636b7b66b09",
       "value": false
      }
     },
     "1a701dec1ecb4fd99341dbda4a1e7426": {
      "model_module": "@jupyter-widgets/base",
      "model_module_version": "1.2.0",
      "model_name": "LayoutModel",
      "state": {}
     },
     "1b6eb68d9690400c999517ba7fb0d7cb": {
      "model_module": "@jupyter-widgets/base",
      "model_module_version": "1.2.0",
      "model_name": "LayoutModel",
      "state": {}
     },
     "1b6ff58efd2b459788f2bf4e65bcb8ee": {
      "model_module": "@jupyter-widgets/controls",
      "model_module_version": "1.5.0",
      "model_name": "LinkModel",
      "state": {
       "source": [
        "IPY_MODEL_a37e85be654c4c42b11f581f5f5637fa",
        "max"
       ],
       "target": [
        "IPY_MODEL_7693dbb62be54dc39cc14deec95b3e5e",
        "max_frame"
       ]
      }
     },
     "1c049857169c4f6f8e3df0e8c6d6d8a5": {
      "model_module": "@jupyter-widgets/controls",
      "model_module_version": "1.5.0",
      "model_name": "HBoxModel",
      "state": {
       "children": [
        "IPY_MODEL_29f166a2432c4067a893e47443010998",
        "IPY_MODEL_bad7f86537624c5b9b2f3c020612312a"
       ],
       "layout": "IPY_MODEL_2e9a6b99749a45cebd8e67b1bf6664dd"
      }
     },
     "1cb08f410fca46178304a725331d5c2d": {
      "model_module": "@jupyter-widgets/base",
      "model_module_version": "1.2.0",
      "model_name": "LayoutModel",
      "state": {}
     },
     "1d3c8ecee9f247548d09351bcc714e6d": {
      "model_module": "@jupyter-widgets/controls",
      "model_module_version": "1.5.0",
      "model_name": "CheckboxModel",
      "state": {
       "description": "Show force",
       "disabled": false,
       "layout": "IPY_MODEL_689186c690f0471aad035eac02460c14",
       "style": "IPY_MODEL_483dccb392374dfca05468b28a55b17d",
       "value": false
      }
     },
     "1dc53dac0ebf49e8877302f636a85e2c": {
      "model_module": "@jupyter-widgets/controls",
      "model_module_version": "1.5.0",
      "model_name": "LinkModel",
      "state": {
       "source": [
        "IPY_MODEL_97036251243f4948b5d31d4085a9d117",
        "max"
       ],
       "target": [
        "IPY_MODEL_eb783f19648a420980f55b051ea2f1ed",
        "max_frame"
       ]
      }
     },
     "1df70b6a71ec4cf5a355e4e4f71dfa88": {
      "model_module": "@jupyter-widgets/controls",
      "model_module_version": "1.5.0",
      "model_name": "SliderStyleModel",
      "state": {
       "description_width": ""
      }
     },
     "1dfa5e3c1bfc4b73b10e17396ff292f5": {
      "model_module": "@jupyter-widgets/controls",
      "model_module_version": "1.5.0",
      "model_name": "ButtonModel",
      "state": {
       "icon": "compress",
       "layout": "IPY_MODEL_095ce71dc7454777b4d3998f2e37320d",
       "style": "IPY_MODEL_e54d9da943fc4781ba7a4949c48f216c"
      }
     },
     "1e0c9b0c27cc42bd83b77b34c11da4ca": {
      "model_module": "@jupyter-widgets/base",
      "model_module_version": "1.2.0",
      "model_name": "LayoutModel",
      "state": {}
     },
     "1e27934be0db44efbecac4a82db4e250": {
      "model_module": "@jupyter-widgets/controls",
      "model_module_version": "1.5.0",
      "model_name": "DescriptionStyleModel",
      "state": {
       "description_width": ""
      }
     },
     "1f1ce67856f24a5a98c6d57ea147f37a": {
      "model_module": "@jupyter-widgets/base",
      "model_module_version": "1.2.0",
      "model_name": "LayoutModel",
      "state": {}
     },
     "1f4cfcf4f3084b5c9aefe8c3fce413f0": {
      "model_module": "@jupyter-widgets/base",
      "model_module_version": "1.2.0",
      "model_name": "LayoutModel",
      "state": {}
     },
     "203c428f1d0b4dcf8bf03dfb3ba9e59b": {
      "model_module": "@jupyter-widgets/base",
      "model_module_version": "1.2.0",
      "model_name": "LayoutModel",
      "state": {
       "width": "34px"
      }
     },
     "20b615332d124f0ab61407e3c2411561": {
      "model_module": "@jupyter-widgets/controls",
      "model_module_version": "1.5.0",
      "model_name": "HBoxModel",
      "state": {
       "children": [
        "IPY_MODEL_eb783f19648a420980f55b051ea2f1ed",
        "IPY_MODEL_5d67794d28dd491592664d06dbf046ed"
       ],
       "layout": "IPY_MODEL_20e2d37f0fed49d0a27d5508a58142ca"
      }
     },
     "20cfa07113ae48c18e7b9316028e25fa": {
      "model_module": "@jupyter-widgets/controls",
      "model_module_version": "1.5.0",
      "model_name": "FloatSliderModel",
      "state": {
       "description": "Charge scale",
       "layout": "IPY_MODEL_1b6eb68d9690400c999517ba7fb0d7cb",
       "step": 0.1,
       "style": "IPY_MODEL_e4a27a8e06b84a2882c032019b354044",
       "value": 1
      }
     },
     "20e2d37f0fed49d0a27d5508a58142ca": {
      "model_module": "@jupyter-widgets/base",
      "model_module_version": "1.2.0",
      "model_name": "LayoutModel",
      "state": {}
     },
     "21399a3b5e044d64a08e2152e07e059d": {
      "model_module": "@jupyter-widgets/controls",
      "model_module_version": "1.5.0",
      "model_name": "FloatSliderModel",
      "state": {
       "description": "Charge scale",
       "layout": "IPY_MODEL_763325217d9a47ef96eb68d2a3af8e22",
       "step": 0.1,
       "style": "IPY_MODEL_bfc9a3c8703844aca38d84650ca573c9",
       "value": 1
      }
     },
     "21e4729966304994b14cf7cb0543b162": {
      "model_module": "@jupyter-widgets/controls",
      "model_module_version": "1.5.0",
      "model_name": "CheckboxModel",
      "state": {
       "description": "Show charge",
       "disabled": false,
       "layout": "IPY_MODEL_15a51358f7c04449aef92ee846dcf5fe",
       "style": "IPY_MODEL_832e84636cba472791fd23cf88aca154",
       "value": false
      }
     },
     "23cb5b2585b143c8ab3ad5c6b562445c": {
      "model_module": "@jupyter-widgets/controls",
      "model_module_version": "1.5.0",
      "model_name": "LinkModel",
      "state": {
       "source": [
        "IPY_MODEL_75df6c8bcb5241b49f738132acf898af",
        "max"
       ],
       "target": [
        "IPY_MODEL_f8474b9ce6ec493e855d01b142e16b1e",
        "max_frame"
       ]
      }
     },
     "246acc0590bf48d9b7305b6e935f8d02": {
      "model_module": "@jupyter-widgets/base",
      "model_module_version": "1.2.0",
      "model_name": "LayoutModel",
      "state": {}
     },
     "2524393424e54e27afd33b3ccb6f7d2f": {
      "model_module": "@jupyter-widgets/base",
      "model_module_version": "1.2.0",
      "model_name": "LayoutModel",
      "state": {}
     },
     "25b3cc28aa3d41cbb21d014199f919e9": {
      "model_module": "@jupyter-widgets/controls",
      "model_module_version": "1.5.0",
      "model_name": "DescriptionStyleModel",
      "state": {
       "description_width": ""
      }
     },
     "268bd2bafddf489ab8443f714201d1bb": {
      "model_module": "@jupyter-widgets/base",
      "model_module_version": "1.2.0",
      "model_name": "LayoutModel",
      "state": {}
     },
     "27a43a72d09547f5ae2a18152fb5ae90": {
      "model_module": "@jupyter-widgets/controls",
      "model_module_version": "1.5.0",
      "model_name": "FloatSliderModel",
      "state": {
       "description": "Charge scale",
       "layout": "IPY_MODEL_75876bbd11354e018bef36fab2ee5751",
       "step": 0.1,
       "style": "IPY_MODEL_c5c44493a6344515a00e27a670819442",
       "value": 1
      }
     },
     "287cc2228b314be4a6e178136d20f9e0": {
      "model_module": "@jupyter-widgets/controls",
      "model_module_version": "1.5.0",
      "model_name": "SliderStyleModel",
      "state": {
       "description_width": ""
      }
     },
     "289103d38ecd4fbf861febf8a882b52b": {
      "model_module": "@jupyter-widgets/controls",
      "model_module_version": "1.5.0",
      "model_name": "ButtonModel",
      "state": {
       "description": "Download image",
       "layout": "IPY_MODEL_6516dfe7f2ee4318bf29605ec2978c27",
       "style": "IPY_MODEL_ccf9f835688e40c5a8d2a3d540762183",
       "tooltip": "Download current frame to your local PC"
      }
     },
     "28f24e13a8f9465b8f912796796dbbec": {
      "model_module": "@jupyter-widgets/controls",
      "model_module_version": "1.5.0",
      "model_name": "SliderStyleModel",
      "state": {
       "description_width": ""
      }
     },
     "29f166a2432c4067a893e47443010998": {
      "model_module": "@jupyter-widgets/controls",
      "model_module_version": "1.5.0",
      "model_name": "ButtonModel",
      "state": {
       "description": "Download image",
       "layout": "IPY_MODEL_e9a564e320594df19303624611bc43d0",
       "style": "IPY_MODEL_cdd1d8c5a7414a9d842fbf632b684de7",
       "tooltip": "Download current frame to your local PC"
      }
     },
     "2a10031c8b874a189f3745ff60783bcc": {
      "model_module": "@jupyter-widgets/controls",
      "model_module_version": "1.5.0",
      "model_name": "SliderStyleModel",
      "state": {
       "description_width": ""
      }
     },
     "2a72a1c5b56f41be83586050656995f4": {
      "model_module": "@jupyter-widgets/base",
      "model_module_version": "1.2.0",
      "model_name": "LayoutModel",
      "state": {}
     },
     "2ae72ee8d3ab4abf8b78681f805d7777": {
      "model_module": "@jupyter-widgets/base",
      "model_module_version": "1.2.0",
      "model_name": "LayoutModel",
      "state": {}
     },
     "2b7d09f3f6944e9c96096883b2061311": {
      "model_module": "@jupyter-widgets/base",
      "model_module_version": "1.2.0",
      "model_name": "LayoutModel",
      "state": {}
     },
     "2bbeea9019ea4963ba69fa0df3a0e285": {
      "model_module": "@jupyter-widgets/controls",
      "model_module_version": "1.5.0",
      "model_name": "ButtonModel",
      "state": {
       "icon": "compress",
       "layout": "IPY_MODEL_9867858120f54d29a8df49bb45829420",
       "style": "IPY_MODEL_935da7f354874f2bbf7f93268e8d1709"
      }
     },
     "2cae9017c31540c5b20a184740520672": {
      "model_module": "@jupyter-widgets/controls",
      "model_module_version": "1.5.0",
      "model_name": "LinkModel",
      "state": {
       "source": [
        "IPY_MODEL_67bc18aff0574c8fb82eb15eab6b2af2",
        "value"
       ],
       "target": [
        "IPY_MODEL_8775915f1c3b492a8a47944314952ceb",
        "value"
       ]
      }
     },
     "2cbb2fa402984be1a1576873dbc483a2": {
      "model_module": "@jupyter-widgets/base",
      "model_module_version": "1.2.0",
      "model_name": "LayoutModel",
      "state": {}
     },
     "2da895b620c5439087bf40866633e8ef": {
      "model_module": "@jupyter-widgets/controls",
      "model_module_version": "1.5.0",
      "model_name": "HBoxModel",
      "state": {
       "children": [
        "IPY_MODEL_f8474b9ce6ec493e855d01b142e16b1e",
        "IPY_MODEL_9227e77df62341b4bfe32076bd02ab62"
       ],
       "layout": "IPY_MODEL_5b2dfb833c1e461cb392e66d1648c6ce"
      }
     },
     "2db98562dae548f6904ef088bcf63575": {
      "model_module": "@jupyter-widgets/base",
      "model_module_version": "1.2.0",
      "model_name": "LayoutModel",
      "state": {}
     },
     "2df03bff5c464a6b9ef9128ff1762492": {
      "model_module": "@jupyter-widgets/controls",
      "model_module_version": "1.5.0",
      "model_name": "ImageModel",
      "state": {
       "layout": "IPY_MODEL_f9339fc0a1ad48169b15e69643d4b1f5",
       "width": "900.0"
      }
     },
     "2e92e693ff564334a3307266b97604f0": {
      "model_module": "@jupyter-widgets/controls",
      "model_module_version": "1.5.0",
      "model_name": "ButtonStyleModel",
      "state": {}
     },
     "2e9a6b99749a45cebd8e67b1bf6664dd": {
      "model_module": "@jupyter-widgets/base",
      "model_module_version": "1.2.0",
      "model_name": "LayoutModel",
      "state": {}
     },
     "2ea8433bb6444b21947ab7b8be9410d9": {
      "model_module": "@jupyter-widgets/controls",
      "model_module_version": "1.5.0",
      "model_name": "HBoxModel",
      "state": {
       "children": [
        "IPY_MODEL_97036251243f4948b5d31d4085a9d117",
        "IPY_MODEL_5ce6a6060e9f4e89ae842e2886b6283d"
       ],
       "layout": "IPY_MODEL_bc9a2a1c13984452b7e5abeebc977ac7"
      }
     },
     "2f11bd210787463bb2753c6488ab8721": {
      "model_module": "@jupyter-widgets/controls",
      "model_module_version": "1.5.0",
      "model_name": "DropdownModel",
      "state": {
       "_options_labels": [
        "All",
        "Pt",
        "H",
        "C"
       ],
       "description": "Show",
       "index": 0,
       "layout": "IPY_MODEL_30a49a0e6f3f4187a70d980d33fa35ab",
       "style": "IPY_MODEL_eafd0e5556e34311a2364ad01e332ec8"
      }
     },
     "2f391447f12f4337a6773fd84e24a341": {
      "model_module": "@jupyter-widgets/controls",
      "model_module_version": "1.5.0",
      "model_name": "HTMLModel",
      "state": {
       "layout": "IPY_MODEL_49bc6a0027b74b01a91c849db089c21b",
       "style": "IPY_MODEL_fd24e98b46e44cec8267a5f85d219e3d",
       "value": "100%"
      }
     },
     "2fe7367df9e844a0878803e1d0b38a0a": {
      "model_module": "@jupyter-widgets/controls",
      "model_module_version": "1.5.0",
      "model_name": "IntSliderModel",
      "state": {
       "layout": "IPY_MODEL_17c8d61771534c2aa2f85264afbca2c4",
       "max": 2,
       "style": "IPY_MODEL_c19cca9135a94ba48747a925858c93bd"
      }
     },
     "30a49a0e6f3f4187a70d980d33fa35ab": {
      "model_module": "@jupyter-widgets/base",
      "model_module_version": "1.2.0",
      "model_name": "LayoutModel",
      "state": {}
     },
     "310c31c95c33447fbb44728de6b80bf9": {
      "model_module": "@jupyter-widgets/base",
      "model_module_version": "1.2.0",
      "model_name": "LayoutModel",
      "state": {}
     },
     "3326450801be486da8175f0656e630ed": {
      "model_module": "@jupyter-widgets/controls",
      "model_module_version": "1.5.0",
      "model_name": "DescriptionStyleModel",
      "state": {
       "description_width": ""
      }
     },
     "34ccd5dc565b418e825f46234684fd95": {
      "model_module": "@jupyter-widgets/controls",
      "model_module_version": "1.5.0",
      "model_name": "FloatProgressModel",
      "state": {
       "bar_style": "success",
       "layout": "IPY_MODEL_a0a6ffccc9f54fc8b9f017275a939858",
       "max": 3,
       "style": "IPY_MODEL_65e607250ba942b99b7b6e221249c373",
       "value": 3
      }
     },
     "35fa3d65a9864f5bb3ca861f0a42e32e": {
      "model_module": "@jupyter-widgets/controls",
      "model_module_version": "1.5.0",
      "model_name": "ButtonModel",
      "state": {
       "icon": "compress",
       "layout": "IPY_MODEL_86600fde2b8b4032841ef6053528d6d1",
       "style": "IPY_MODEL_4083935174524b5b854de8f38dcc0a80"
      }
     },
     "36d2ed4fa5a4494e9fa70af53b3bd53e": {
      "model_module": "@jupyter-widgets/controls",
      "model_module_version": "1.5.0",
      "model_name": "DescriptionStyleModel",
      "state": {
       "description_width": ""
      }
     },
     "370d1f0dbaa948caad89e81df66a4123": {
      "model_module": "@jupyter-widgets/base",
      "model_module_version": "1.2.0",
      "model_name": "LayoutModel",
      "state": {}
     },
     "374af23be5624e9f9040d72caf6063f5": {
      "model_module": "@jupyter-widgets/controls",
      "model_module_version": "1.5.0",
      "model_name": "HBoxModel",
      "state": {
       "children": [
        "IPY_MODEL_463aac2c6cb64f00b585baf92e663cfe",
        "IPY_MODEL_5206fe8d746d4494832488f900fbdd01"
       ],
       "layout": "IPY_MODEL_7abca8f2246c4697b55f89bfd28fc5ca"
      }
     },
     "376437b520504e3fab41bab01b4538e1": {
      "model_module": "@jupyter-widgets/controls",
      "model_module_version": "1.5.0",
      "model_name": "DescriptionStyleModel",
      "state": {
       "description_width": ""
      }
     },
     "385321bb24e340af8884a8eebbb129e6": {
      "model_module": "@jupyter-widgets/controls",
      "model_module_version": "1.5.0",
      "model_name": "DropdownModel",
      "state": {
       "_options_labels": [
        "All",
        "H",
        "C"
       ],
       "description": "Show",
       "index": 0,
       "layout": "IPY_MODEL_c1b7a0d2f8284923be9314d0c1f389de",
       "style": "IPY_MODEL_3f285501a9b4424ab81eb74f9d1d6c0e"
      }
     },
     "3a3035d5ff3f485a89ca68a93f102ae7": {
      "model_module": "@jupyter-widgets/controls",
      "model_module_version": "1.5.0",
      "model_name": "LinkModel",
      "state": {
       "source": [
        "IPY_MODEL_463aac2c6cb64f00b585baf92e663cfe",
        "max"
       ],
       "target": [
        "IPY_MODEL_f3ea7e5147d940a6ba282b8eb5f1a8e6",
        "max_frame"
       ]
      }
     },
     "3bfeddefe49a47ce9e648770fb420cc7": {
      "model_module": "@jupyter-widgets/controls",
      "model_module_version": "1.5.0",
      "model_name": "SliderStyleModel",
      "state": {
       "description_width": ""
      }
     },
     "3c2cb405d8bf4173b6efe4aed386b771": {
      "model_module": "@jupyter-widgets/controls",
      "model_module_version": "1.5.0",
      "model_name": "DropdownModel",
      "state": {
       "_options_labels": [
        " ",
        "picking",
        "random",
        "uniform",
        "atomindex",
        "residueindex",
        "chainindex",
        "modelindex",
        "sstruc",
        "element",
        "resname",
        "bfactor",
        "hydrophobicity",
        "value",
        "volume",
        "occupancy"
       ],
       "description": "Color scheme",
       "index": 9,
       "layout": "IPY_MODEL_4f6916739d714ec78755fd8b4f6fea8c",
       "style": "IPY_MODEL_701cdb72d8de49a4bae11a4a341bb785"
      }
     },
     "3c9ddc7e7a5e4a8bad412ca8cc40a7e5": {
      "model_module": "@jupyter-widgets/base",
      "model_module_version": "1.2.0",
      "model_name": "LayoutModel",
      "state": {}
     },
     "3cf4758439b747a3b1f2a24f58c9c564": {
      "model_module": "@jupyter-widgets/controls",
      "model_module_version": "1.5.0",
      "model_name": "ButtonStyleModel",
      "state": {}
     },
     "3d0677d0c5ba4830a8d28f6d17957f8c": {
      "model_module": "@jupyter-widgets/controls",
      "model_module_version": "1.5.0",
      "model_name": "ButtonModel",
      "state": {
       "description": "Download image",
       "layout": "IPY_MODEL_fcc5aa61332049309121658c4b90cdfd",
       "style": "IPY_MODEL_4b75fa794cda4d3b94c81c1cea939986",
       "tooltip": "Download current frame to your local PC"
      }
     },
     "3f285501a9b4424ab81eb74f9d1d6c0e": {
      "model_module": "@jupyter-widgets/controls",
      "model_module_version": "1.5.0",
      "model_name": "DescriptionStyleModel",
      "state": {
       "description_width": ""
      }
     },
     "401cae758e624ccb9dadebd377d689f5": {
      "model_module": "@jupyter-widgets/base",
      "model_module_version": "1.2.0",
      "model_name": "LayoutModel",
      "state": {}
     },
     "4067bf52b39b497cb61878dbfc4d7dac": {
      "model_module": "@jupyter-widgets/controls",
      "model_module_version": "1.5.0",
      "model_name": "DescriptionStyleModel",
      "state": {
       "description_width": ""
      }
     },
     "4083935174524b5b854de8f38dcc0a80": {
      "model_module": "@jupyter-widgets/controls",
      "model_module_version": "1.5.0",
      "model_name": "ButtonStyleModel",
      "state": {}
     },
     "40a924ac96f14189a36d907036bd7ac0": {
      "model_module": "@jupyter-widgets/controls",
      "model_module_version": "1.5.0",
      "model_name": "ButtonModel",
      "state": {
       "description": "Download image",
       "layout": "IPY_MODEL_e7fda14f77104c33bbedc044fa9d2b10",
       "style": "IPY_MODEL_681198666ef24eb2864adb559d19d789",
       "tooltip": "Download current frame to your local PC"
      }
     },
     "4116148459a64a96b76cbdc95d3686ca": {
      "model_module": "@jupyter-widgets/base",
      "model_module_version": "1.2.0",
      "model_name": "LayoutModel",
      "state": {}
     },
     "41eb07fecb6544b08f3855b89729774f": {
      "model_module": "@jupyter-widgets/controls",
      "model_module_version": "1.5.0",
      "model_name": "DropdownModel",
      "state": {
       "_options_labels": [
        " ",
        "picking",
        "random",
        "uniform",
        "atomindex",
        "residueindex",
        "chainindex",
        "modelindex",
        "sstruc",
        "element",
        "resname",
        "bfactor",
        "hydrophobicity",
        "value",
        "volume",
        "occupancy"
       ],
       "description": "Color scheme",
       "index": 9,
       "layout": "IPY_MODEL_6e016db5d73e44b1bc1e582edb0952a7",
       "style": "IPY_MODEL_188a0bda281042d89952bf6c8c46da69"
      }
     },
     "42897707cef14781a36ffeb018695283": {
      "model_module": "@jupyter-widgets/controls",
      "model_module_version": "1.5.0",
      "model_name": "LinkModel",
      "state": {
       "source": [
        "IPY_MODEL_67bc18aff0574c8fb82eb15eab6b2af2",
        "max"
       ],
       "target": [
        "IPY_MODEL_8cee4414bab74eb3b33e30ff00d083be",
        "max_frame"
       ]
      }
     },
     "42d0379f96464751b0acea3600dd4931": {
      "model_module": "@jupyter-widgets/output",
      "model_module_version": "1.0.0",
      "model_name": "OutputModel",
      "state": {
       "layout": "IPY_MODEL_146d8cad36444b098f2030c16d4aa42f"
      }
     },
     "4478e5a07e944641ad83cf6a019b56e2": {
      "model_module": "@jupyter-widgets/base",
      "model_module_version": "1.2.0",
      "model_name": "LayoutModel",
      "state": {}
     },
     "463aac2c6cb64f00b585baf92e663cfe": {
      "model_module": "@jupyter-widgets/controls",
      "model_module_version": "1.5.0",
      "model_name": "PlayModel",
      "state": {
       "layout": "IPY_MODEL_bbaf5c6695f84391ad3d5aa70456dd04",
       "max": 2,
       "style": "IPY_MODEL_14c8908cce4d47c5858a9f3e26b1baf9",
       "value": 2
      }
     },
     "4723b91035844168928b537ee3d37581": {
      "model_module": "@jupyter-widgets/base",
      "model_module_version": "1.2.0",
      "model_name": "LayoutModel",
      "state": {}
     },
     "483dccb392374dfca05468b28a55b17d": {
      "model_module": "@jupyter-widgets/controls",
      "model_module_version": "1.5.0",
      "model_name": "DescriptionStyleModel",
      "state": {
       "description_width": ""
      }
     },
     "4876ba9ee5814215acf6e4fed7065764": {
      "model_module": "@jupyter-widgets/controls",
      "model_module_version": "1.5.0",
      "model_name": "HTMLModel",
      "state": {
       "layout": "IPY_MODEL_1e0c9b0c27cc42bd83b77b34c11da4ca",
       "style": "IPY_MODEL_3326450801be486da8175f0656e630ed",
       "value": "100%"
      }
     },
     "49bc6a0027b74b01a91c849db089c21b": {
      "model_module": "@jupyter-widgets/base",
      "model_module_version": "1.2.0",
      "model_name": "LayoutModel",
      "state": {}
     },
     "4b75fa794cda4d3b94c81c1cea939986": {
      "model_module": "@jupyter-widgets/controls",
      "model_module_version": "1.5.0",
      "model_name": "ButtonStyleModel",
      "state": {}
     },
     "4c920cfa96b14fab8ee2c97e810ac39a": {
      "model_module": "@jupyter-widgets/controls",
      "model_module_version": "1.5.0",
      "model_name": "LinkModel",
      "state": {
       "source": [
        "IPY_MODEL_97036251243f4948b5d31d4085a9d117",
        "value"
       ],
       "target": [
        "IPY_MODEL_5ce6a6060e9f4e89ae842e2886b6283d",
        "value"
       ]
      }
     },
     "4cba98a01423486a976f787af9424124": {
      "model_module": "@jupyter-widgets/base",
      "model_module_version": "1.2.0",
      "model_name": "LayoutModel",
      "state": {}
     },
     "4d09683c84d7404c9b0461b86eb23c16": {
      "model_module": "@jupyter-widgets/controls",
      "model_module_version": "1.5.0",
      "model_name": "HBoxModel",
      "state": {
       "children": [
        "IPY_MODEL_7693dbb62be54dc39cc14deec95b3e5e",
        "IPY_MODEL_921d2a22fb2d4d46a222bf76b1f5ee05"
       ],
       "layout": "IPY_MODEL_e79f758243154e9aa08da9f1af6487d7"
      }
     },
     "4d86e4790c534e098e2f4634cbd7d424": {
      "model_module": "@jupyter-widgets/base",
      "model_module_version": "1.2.0",
      "model_name": "LayoutModel",
      "state": {}
     },
     "4e616e3d59864d83823f3e6c9380c4e8": {
      "model_module": "@jupyter-widgets/controls",
      "model_module_version": "1.5.0",
      "model_name": "HBoxModel",
      "state": {
       "children": [
        "IPY_MODEL_4876ba9ee5814215acf6e4fed7065764",
        "IPY_MODEL_af2e20c9801443cf999ab767f3af49f4",
        "IPY_MODEL_aaffc11a98604dfabe1858559f1302ef"
       ],
       "layout": "IPY_MODEL_a05e7676c8e343a3b661cce175aa062c"
      }
     },
     "4f6916739d714ec78755fd8b4f6fea8c": {
      "model_module": "@jupyter-widgets/base",
      "model_module_version": "1.2.0",
      "model_name": "LayoutModel",
      "state": {}
     },
     "4fedb6360baa41eea9a39972bf796774": {
      "model_module": "@jupyter-widgets/base",
      "model_module_version": "1.2.0",
      "model_name": "LayoutModel",
      "state": {}
     },
     "50c83041531a42d0990ca2abb3023d22": {
      "model_module": "@jupyter-widgets/controls",
      "model_module_version": "1.5.0",
      "model_name": "DescriptionStyleModel",
      "state": {
       "description_width": ""
      }
     },
     "51953112f1f0470bbc380d9f577d44f7": {
      "model_module": "@jupyter-widgets/controls",
      "model_module_version": "1.5.0",
      "model_name": "SliderStyleModel",
      "state": {
       "description_width": ""
      }
     },
     "51dc87ebee444a208eed5b6d2500e692": {
      "model_module": "@jupyter-widgets/controls",
      "model_module_version": "1.5.0",
      "model_name": "DropdownModel",
      "state": {
       "_options_labels": [
        "All",
        "Pt",
        "H",
        "C"
       ],
       "description": "Show",
       "index": 0,
       "layout": "IPY_MODEL_0a0cb0dada6e41c782b3919ac349387b",
       "style": "IPY_MODEL_376437b520504e3fab41bab01b4538e1"
      }
     },
     "5206fe8d746d4494832488f900fbdd01": {
      "model_module": "@jupyter-widgets/controls",
      "model_module_version": "1.5.0",
      "model_name": "IntSliderModel",
      "state": {
       "layout": "IPY_MODEL_c92ea013328b4ab9805900b70bd994da",
       "max": 2,
       "style": "IPY_MODEL_1df70b6a71ec4cf5a355e4e4f71dfa88",
       "value": 2
      }
     },
     "527d069bfc3141b583a73805c4f7ba76": {
      "model_module": "@jupyter-widgets/base",
      "model_module_version": "1.2.0",
      "model_name": "LayoutModel",
      "state": {}
     },
     "531405b8bf6d485f9a03eaf8b2b42851": {
      "model_module": "@jupyter-widgets/controls",
      "model_module_version": "1.5.0",
      "model_name": "DescriptionStyleModel",
      "state": {
       "description_width": ""
      }
     },
     "5355ccc9040a4ce39bc14e05ab8d8619": {
      "model_module": "@jupyter-widgets/controls",
      "model_module_version": "1.5.0",
      "model_name": "DescriptionStyleModel",
      "state": {
       "description_width": ""
      }
     },
     "53c4344625a74d328ffff809ed0699cd": {
      "model_module": "@jupyter-widgets/controls",
      "model_module_version": "1.5.0",
      "model_name": "HBoxModel",
      "state": {
       "children": [
        "IPY_MODEL_a399bc381e4f4713917e93aebff7b0da",
        "IPY_MODEL_75df6c8bcb5241b49f738132acf898af"
       ],
       "layout": "IPY_MODEL_e0fd4785c4fb417da45e56da519fcf23"
      }
     },
     "540a3d3be282415ebb781c44b86b4d12": {
      "model_module": "@jupyter-widgets/base",
      "model_module_version": "1.2.0",
      "model_name": "LayoutModel",
      "state": {}
     },
     "5461663a92bc4d95b7bdd7b8597eed7e": {
      "model_module": "@jupyter-widgets/base",
      "model_module_version": "1.2.0",
      "model_name": "LayoutModel",
      "state": {}
     },
     "549081be78e94335883563676271261c": {
      "model_module": "@jupyter-widgets/base",
      "model_module_version": "1.2.0",
      "model_name": "LayoutModel",
      "state": {}
     },
     "55e5623685c0476ea9444c4e0116b932": {
      "model_module": "@jupyter-widgets/base",
      "model_module_version": "1.2.0",
      "model_name": "LayoutModel",
      "state": {}
     },
     "567721658cef4884a4dc8a5ed9874d62": {
      "model_module": "@jupyter-widgets/controls",
      "model_module_version": "1.5.0",
      "model_name": "DescriptionStyleModel",
      "state": {
       "description_width": ""
      }
     },
     "568c352236cc48af89050d7f546f71e4": {
      "model_module": "@jupyter-widgets/controls",
      "model_module_version": "1.5.0",
      "model_name": "ButtonModel",
      "state": {
       "icon": "compress",
       "layout": "IPY_MODEL_9f954fc746184115853115d982deded4",
       "style": "IPY_MODEL_00c21022673242c19f1c55fd08b07df8"
      }
     },
     "568ec296b63c4081b043b1510b6b9159": {
      "model_module": "@jupyter-widgets/controls",
      "model_module_version": "1.5.0",
      "model_name": "DescriptionStyleModel",
      "state": {
       "description_width": ""
      }
     },
     "576563bcbcea440dbe084050cec4b035": {
      "model_module": "@jupyter-widgets/controls",
      "model_module_version": "1.5.0",
      "model_name": "ImageModel",
      "state": {
       "layout": "IPY_MODEL_df213359667840c9a32267c012e9f3b3",
       "width": "900.0"
      }
     },
     "57ab9f3e256c44388fd6b4e067a7bba8": {
      "model_module": "@jupyter-widgets/controls",
      "model_module_version": "1.5.0",
      "model_name": "DescriptionStyleModel",
      "state": {
       "description_width": ""
      }
     },
     "5a7592ed3bf642e59f23115763987447": {
      "model_module": "@jupyter-widgets/controls",
      "model_module_version": "1.5.0",
      "model_name": "DropdownModel",
      "state": {
       "_options_labels": [
        " ",
        "picking",
        "random",
        "uniform",
        "atomindex",
        "residueindex",
        "chainindex",
        "modelindex",
        "sstruc",
        "element",
        "resname",
        "bfactor",
        "hydrophobicity",
        "value",
        "volume",
        "occupancy"
       ],
       "description": "Color scheme",
       "index": 9,
       "layout": "IPY_MODEL_d78556a8a71148babbddd4d785149f3e",
       "style": "IPY_MODEL_77beb47db77149409771d480d4e6ef70"
      }
     },
     "5ada8ab16b5f46a6bffced10dcea7e50": {
      "model_module": "@jupyter-widgets/controls",
      "model_module_version": "1.5.0",
      "model_name": "DescriptionStyleModel",
      "state": {
       "description_width": ""
      }
     },
     "5aedf2d9834449f09a7c7ad8a4456f86": {
      "model_module": "@jupyter-widgets/controls",
      "model_module_version": "1.5.0",
      "model_name": "SliderStyleModel",
      "state": {
       "description_width": ""
      }
     },
     "5b0d6782e24448c680b069f730286739": {
      "model_module": "@jupyter-widgets/controls",
      "model_module_version": "1.5.0",
      "model_name": "FloatSliderModel",
      "state": {
       "description": "Charge scale",
       "layout": "IPY_MODEL_4cba98a01423486a976f787af9424124",
       "step": 0.1,
       "style": "IPY_MODEL_ad7c2aec9d5a4a8fa84a7f398454d890",
       "value": 1
      }
     },
     "5b2dfb833c1e461cb392e66d1648c6ce": {
      "model_module": "@jupyter-widgets/base",
      "model_module_version": "1.2.0",
      "model_name": "LayoutModel",
      "state": {}
     },
     "5bced2c14bab4b3ab3cb69186750ff7c": {
      "model_module": "@jupyter-widgets/controls",
      "model_module_version": "1.5.0",
      "model_name": "CheckboxModel",
      "state": {
       "description": "Show charge",
       "disabled": false,
       "layout": "IPY_MODEL_1429ff0365034dbdb8bf9482f0b38b37",
       "style": "IPY_MODEL_57ab9f3e256c44388fd6b4e067a7bba8",
       "value": false
      }
     },
     "5c241cc1a20f42a6b35704c6bd28ae65": {
      "model_module": "@jupyter-widgets/base",
      "model_module_version": "1.2.0",
      "model_name": "LayoutModel",
      "state": {}
     },
     "5c6e21a7606a404f8995d636b7b66b09": {
      "model_module": "@jupyter-widgets/controls",
      "model_module_version": "1.5.0",
      "model_name": "DescriptionStyleModel",
      "state": {
       "description_width": ""
      }
     },
     "5c81d3b6c53c4cfab47f87d404812f7a": {
      "model_module": "@jupyter-widgets/controls",
      "model_module_version": "1.5.0",
      "model_name": "ImageModel",
      "state": {
       "layout": "IPY_MODEL_d0c1ad26835547728d70e83c797aedb6",
       "width": "900.0"
      }
     },
     "5ce18f255f5d47fe907a25be04c72503": {
      "model_module": "@jupyter-widgets/controls",
      "model_module_version": "1.5.0",
      "model_name": "SliderStyleModel",
      "state": {
       "description_width": ""
      }
     },
     "5ce6a6060e9f4e89ae842e2886b6283d": {
      "model_module": "@jupyter-widgets/controls",
      "model_module_version": "1.5.0",
      "model_name": "IntSliderModel",
      "state": {
       "layout": "IPY_MODEL_9c59f4145332421d8cc01a1dbcb0afc8",
       "max": 2,
       "style": "IPY_MODEL_287cc2228b314be4a6e178136d20f9e0"
      }
     },
     "5d67794d28dd491592664d06dbf046ed": {
      "model_module": "@jupyter-widgets/controls",
      "model_module_version": "1.5.0",
      "model_name": "VBoxModel",
      "state": {
       "children": [
        "IPY_MODEL_aa9acfdadbb649fa9c8fcc9432a498d0",
        "IPY_MODEL_3c2cb405d8bf4173b6efe4aed386b771",
        "IPY_MODEL_692642c145e140f3831d81e08933c489",
        "IPY_MODEL_96eac7e7b47848bfb2d1c3718aba975e",
        "IPY_MODEL_8aee59525ab94ddea32c7b1d595ffa46",
        "IPY_MODEL_602f10190c3243c791bb1b22bdd77386",
        "IPY_MODEL_a74ce8cea8934d458149bd9cde4e4736",
        "IPY_MODEL_897dc97cb5ed45ee942bb47e74bac2be",
        "IPY_MODEL_a0d09b94605049639532353d893490c2",
        "IPY_MODEL_20cfa07113ae48c18e7b9316028e25fa",
        "IPY_MODEL_d85fd4ec428b4aee99b7ec7da715cedc"
       ],
       "layout": "IPY_MODEL_7eea836b1fed4ca19233790696642b8b"
      }
     },
     "5e4baee8f5dd4d0d8e8c09a18b4bf2ed": {
      "model_module": "@jupyter-widgets/controls",
      "model_module_version": "1.5.0",
      "model_name": "SliderStyleModel",
      "state": {
       "description_width": ""
      }
     },
     "5f6d07dd1adf4c79a3fd633eabc2318e": {
      "model_module": "@jupyter-widgets/controls",
      "model_module_version": "1.5.0",
      "model_name": "HBoxModel",
      "state": {
       "children": [
        "IPY_MODEL_8cee4414bab74eb3b33e30ff00d083be",
        "IPY_MODEL_0502d659ee1d4082b73a4359d52d7770"
       ],
       "layout": "IPY_MODEL_60eb55072e4947e98b898401286fde21"
      }
     },
     "5f7ab515979343ae91059ee1f927b69b": {
      "model_module": "@jupyter-widgets/base",
      "model_module_version": "1.2.0",
      "model_name": "LayoutModel",
      "state": {}
     },
     "5fe8d091887e4df4bd07c711d52cb509": {
      "model_module": "@jupyter-widgets/controls",
      "model_module_version": "1.5.0",
      "model_name": "HBoxModel",
      "state": {
       "children": [
        "IPY_MODEL_d916684e43724aa2b44a570d0c3d294f",
        "IPY_MODEL_b5d7d8bdf72e474db1d44626244e67a4",
        "IPY_MODEL_9cbd3ecd284948c9b24404eacd35385c"
       ],
       "layout": "IPY_MODEL_7bff5dcbc3334fd09fdd30c8d31633f9"
      }
     },
     "602f10190c3243c791bb1b22bdd77386": {
      "model_module": "@jupyter-widgets/controls",
      "model_module_version": "1.5.0",
      "model_name": "HBoxModel",
      "state": {
       "children": [
        "IPY_MODEL_289103d38ecd4fbf861febf8a882b52b",
        "IPY_MODEL_e0533fd5c7f14340b3e47c5c00ea78eb"
       ],
       "layout": "IPY_MODEL_2ae72ee8d3ab4abf8b78681f805d7777"
      }
     },
     "605ec840282644aea58183c02e5b363f": {
      "model_module": "@jupyter-widgets/base",
      "model_module_version": "1.2.0",
      "model_name": "LayoutModel",
      "state": {}
     },
     "60b246f77ca445d1a90c9d85710489ae": {
      "model_module": "@jupyter-widgets/controls",
      "model_module_version": "1.5.0",
      "model_name": "DescriptionStyleModel",
      "state": {
       "description_width": ""
      }
     },
     "60eb55072e4947e98b898401286fde21": {
      "model_module": "@jupyter-widgets/base",
      "model_module_version": "1.2.0",
      "model_name": "LayoutModel",
      "state": {}
     },
     "6242f9544e4b40059f6e87d06fd33f53": {
      "model_module": "@jupyter-widgets/controls",
      "model_module_version": "1.5.0",
      "model_name": "ButtonModel",
      "state": {
       "description": "Download image",
       "layout": "IPY_MODEL_0abff6459b9d4ff88289544499195317",
       "style": "IPY_MODEL_2e92e693ff564334a3307266b97604f0",
       "tooltip": "Download current frame to your local PC"
      }
     },
     "6516dfe7f2ee4318bf29605ec2978c27": {
      "model_module": "@jupyter-widgets/base",
      "model_module_version": "1.2.0",
      "model_name": "LayoutModel",
      "state": {}
     },
     "654349e4c173463da6a9028d0f156d3c": {
      "model_module": "@jupyter-widgets/controls",
      "model_module_version": "1.5.0",
      "model_name": "HBoxModel",
      "state": {
       "children": [
        "IPY_MODEL_0634085c3a534d25973368eec184f311",
        "IPY_MODEL_9c633e9c65c84228a5a83191a8b6533a"
       ],
       "layout": "IPY_MODEL_1a701dec1ecb4fd99341dbda4a1e7426"
      }
     },
     "6562a363f56b430a974796661f55ffb0": {
      "model_module": "@jupyter-widgets/controls",
      "model_module_version": "1.5.0",
      "model_name": "DescriptionStyleModel",
      "state": {
       "description_width": ""
      }
     },
     "656eab501aff426ab1ca55cd5d206c31": {
      "model_module": "@jupyter-widgets/controls",
      "model_module_version": "1.5.0",
      "model_name": "DescriptionStyleModel",
      "state": {
       "description_width": ""
      }
     },
     "65e607250ba942b99b7b6e221249c373": {
      "model_module": "@jupyter-widgets/controls",
      "model_module_version": "1.5.0",
      "model_name": "ProgressStyleModel",
      "state": {
       "description_width": ""
      }
     },
     "667ec1aa56c344f280e496f34bb60922": {
      "model_module": "@jupyter-widgets/base",
      "model_module_version": "1.2.0",
      "model_name": "LayoutModel",
      "state": {}
     },
     "66bba01658264db88301f7f7030a1c01": {
      "model_module": "@jupyter-widgets/base",
      "model_module_version": "1.2.0",
      "model_name": "LayoutModel",
      "state": {}
     },
     "66ff293a08e24bdfaff1921cefb65e9c": {
      "model_module": "@jupyter-widgets/controls",
      "model_module_version": "1.5.0",
      "model_name": "ProgressStyleModel",
      "state": {
       "description_width": ""
      }
     },
     "6780e4b308224bdc893a60da66f9614e": {
      "model_module": "@jupyter-widgets/base",
      "model_module_version": "1.2.0",
      "model_name": "LayoutModel",
      "state": {}
     },
     "67bc18aff0574c8fb82eb15eab6b2af2": {
      "model_module": "@jupyter-widgets/controls",
      "model_module_version": "1.5.0",
      "model_name": "PlayModel",
      "state": {
       "layout": "IPY_MODEL_b55eec8b77e84091b8a530c65b7df61e",
       "max": 2,
       "style": "IPY_MODEL_8186b8830abc46d9aa64794f2e3e86a7"
      }
     },
     "681198666ef24eb2864adb559d19d789": {
      "model_module": "@jupyter-widgets/controls",
      "model_module_version": "1.5.0",
      "model_name": "ButtonStyleModel",
      "state": {}
     },
     "689186c690f0471aad035eac02460c14": {
      "model_module": "@jupyter-widgets/base",
      "model_module_version": "1.2.0",
      "model_name": "LayoutModel",
      "state": {}
     },
     "692642c145e140f3831d81e08933c489": {
      "model_module": "@jupyter-widgets/controls",
      "model_module_version": "1.5.0",
      "model_name": "FloatSliderModel",
      "state": {
       "description": "Ball size",
       "layout": "IPY_MODEL_a598c8f82ed04228a88a6fb32cb5ec61",
       "max": 1.5,
       "step": 0.01,
       "style": "IPY_MODEL_28f24e13a8f9465b8f912796796dbbec",
       "value": 0.5
      }
     },
     "6b152aecd7134516b360bbe4fb2e691b": {
      "model_module": "@jupyter-widgets/controls",
      "model_module_version": "1.5.0",
      "model_name": "ButtonModel",
      "state": {
       "description": "Save image",
       "layout": "IPY_MODEL_7c08e465feda42fd9f8e099139647f19",
       "style": "IPY_MODEL_a94970e6d934435eb6a329b6b545c2a5",
       "tooltip": "Save current frame to file.\nCurrently .png and .html are supported.\nIt takes a bit time, please be patient."
      }
     },
     "6bab35c51127420d90e5babe3cbe1105": {
      "model_module": "@jupyter-widgets/base",
      "model_module_version": "1.2.0",
      "model_name": "LayoutModel",
      "state": {}
     },
     "6db8dd52524b45a08bf6ea21ee26587e": {
      "model_module": "@jupyter-widgets/controls",
      "model_module_version": "1.5.0",
      "model_name": "HBoxModel",
      "state": {
       "children": [
        "IPY_MODEL_2f391447f12f4337a6773fd84e24a341",
        "IPY_MODEL_8b50f42b32104689b4ba4b6a45f2c71f",
        "IPY_MODEL_b70f340b77e24efe89ed8c4b01c630a1"
       ],
       "layout": "IPY_MODEL_a050c5e8ebd5450aab2030b5f731d8d2"
      }
     },
     "6e016db5d73e44b1bc1e582edb0952a7": {
      "model_module": "@jupyter-widgets/base",
      "model_module_version": "1.2.0",
      "model_name": "LayoutModel",
      "state": {}
     },
     "6e8eb32be5934ba6b996d5e54220fdd2": {
      "model_module": "@jupyter-widgets/controls",
      "model_module_version": "1.5.0",
      "model_name": "DropdownModel",
      "state": {
       "_options_labels": [
        " ",
        "picking",
        "random",
        "uniform",
        "atomindex",
        "residueindex",
        "chainindex",
        "modelindex",
        "sstruc",
        "element",
        "resname",
        "bfactor",
        "hydrophobicity",
        "value",
        "volume",
        "occupancy"
       ],
       "description": "Color scheme",
       "index": 9,
       "layout": "IPY_MODEL_cdb626cfe18b4dceb7ac042d53598089",
       "style": "IPY_MODEL_ae7f70f2bc4d40feaf6e9407889f5f35"
      }
     },
     "6ff03265f100421d85782fb568ac0c28": {
      "model_module": "@jupyter-widgets/controls",
      "model_module_version": "1.5.0",
      "model_name": "ButtonStyleModel",
      "state": {}
     },
     "6ff6ba0dca5a4417b792585becc9eab0": {
      "model_module": "@jupyter-widgets/base",
      "model_module_version": "1.2.0",
      "model_name": "LayoutModel",
      "state": {}
     },
     "7019012b22f84a7395147a0243a286ac": {
      "model_module": "@jupyter-widgets/controls",
      "model_module_version": "1.5.0",
      "model_name": "FloatSliderModel",
      "state": {
       "description": "Charge scale",
       "layout": "IPY_MODEL_d5f3f53d951f48e8b595fb27a6fd9bd5",
       "step": 0.1,
       "style": "IPY_MODEL_5e4baee8f5dd4d0d8e8c09a18b4bf2ed",
       "value": 1
      }
     },
     "701cdb72d8de49a4bae11a4a341bb785": {
      "model_module": "@jupyter-widgets/controls",
      "model_module_version": "1.5.0",
      "model_name": "DescriptionStyleModel",
      "state": {
       "description_width": ""
      }
     },
     "73441691139143449d38834d095bcf64": {
      "model_module": "@jupyter-widgets/controls",
      "model_module_version": "1.5.0",
      "model_name": "SliderStyleModel",
      "state": {
       "description_width": ""
      }
     },
     "7483d9d019424f4cb4da44db04326ab9": {
      "model_module": "@jupyter-widgets/controls",
      "model_module_version": "1.5.0",
      "model_name": "DescriptionStyleModel",
      "state": {
       "description_width": ""
      }
     },
     "74f69644c8be435989e3e538f5f269bd": {
      "model_module": "@jupyter-widgets/base",
      "model_module_version": "1.2.0",
      "model_name": "LayoutModel",
      "state": {
       "border": "0px solid black"
      }
     },
     "75876bbd11354e018bef36fab2ee5751": {
      "model_module": "@jupyter-widgets/base",
      "model_module_version": "1.2.0",
      "model_name": "LayoutModel",
      "state": {}
     },
     "75c13e99439d4049b4a091ea753ed60c": {
      "model_module": "@jupyter-widgets/base",
      "model_module_version": "1.2.0",
      "model_name": "LayoutModel",
      "state": {}
     },
     "75df6c8bcb5241b49f738132acf898af": {
      "model_module": "@jupyter-widgets/controls",
      "model_module_version": "1.5.0",
      "model_name": "IntSliderModel",
      "state": {
       "layout": "IPY_MODEL_d60fd7ff479f40acace59b31dd0eaa25",
       "max": 0,
       "style": "IPY_MODEL_b3c6b063b4214017b5eef3b9ef363b58"
      }
     },
     "75f197dc43b24c91a15066df0ac019fd": {
      "model_module": "@jupyter-widgets/base",
      "model_module_version": "1.2.0",
      "model_name": "LayoutModel",
      "state": {
       "width": "34px"
      }
     },
     "763325217d9a47ef96eb68d2a3af8e22": {
      "model_module": "@jupyter-widgets/base",
      "model_module_version": "1.2.0",
      "model_name": "LayoutModel",
      "state": {}
     },
     "768ac7ae8aa742c69ea4781d7332513d": {
      "model_module": "@jupyter-widgets/controls",
      "model_module_version": "1.5.0",
      "model_name": "ButtonModel",
      "state": {
       "description": "Save image",
       "layout": "IPY_MODEL_75c13e99439d4049b4a091ea753ed60c",
       "style": "IPY_MODEL_b290cec7c24448f39c4585883e3a381b",
       "tooltip": "Save current frame to file.\nCurrently .png and .html are supported.\nIt takes a bit time, please be patient."
      }
     },
     "7693dbb62be54dc39cc14deec95b3e5e": {
      "model_module": "nglview-js-widgets",
      "model_module_version": "3.0.1",
      "model_name": "NGLModel",
      "state": {
       "_camera_orientation": [
        26.152520132198642,
        0.3881517295227672,
        5.1751595221558135,
        0,
        5.180974339995497,
        -3.4934650218325514,
        -25.919885303362932,
        0,
        0.30073698342540733,
        26.429761396691593,
        -3.502073227489565,
        0,
        -7.629499912261963,
        -4.382000209763646,
        -26.302499771118164,
        1
       ],
       "_camera_str": "orthographic",
       "_gui_theme": null,
       "_ibtn_fullscreen": "IPY_MODEL_df48fee4661d40f39008150b01a1a8ce",
       "_igui": null,
       "_iplayer": "IPY_MODEL_facb42f61d984bc8b68f7fdb010de1a1",
       "_ngl_color_dict": {},
       "_ngl_coordinate_resource": {},
       "_ngl_full_stage_parameters": {
        "ambientColor": 14540253,
        "ambientIntensity": 0.2,
        "backgroundColor": "white",
        "cameraEyeSep": 0.3,
        "cameraFov": 40,
        "cameraType": "orthographic",
        "clipDist": 0,
        "clipFar": 100,
        "clipNear": 0,
        "fogFar": 100,
        "fogNear": 50,
        "hoverTimeout": 0,
        "impostor": true,
        "lightColor": 14540253,
        "lightIntensity": 1,
        "mousePreset": "default",
        "panSpeed": 1,
        "quality": "medium",
        "rotateSpeed": 2,
        "sampleLevel": 0,
        "tooltip": true,
        "workerDefault": true,
        "zoomSpeed": 1.2
       },
       "_ngl_msg_archive": [
        {
         "args": [
          {
           "binary": false,
           "data": "CRYST1   11.097   11.097   46.796  90.00  90.00  60.00 P 1\nMODEL     1\nATOM      1   Pt MOL     1       0.000   0.000  20.000  1.00  0.00          PT  \nATOM      2   Pt MOL     1       2.774   1.602  22.265  1.00  0.00          PT  \nATOM      3   Pt MOL     1       1.545   0.878  24.484  1.00  0.00          PT  \nATOM      4   Pt MOL     1       2.829  -0.046  26.749  1.00  0.00          PT  \nATOM      5   Pt MOL     1       1.387   2.403  20.000  1.00  0.00          PT  \nATOM      6   Pt MOL     1       4.162   4.004  22.265  1.00  0.00          PT  \nATOM      7   Pt MOL     1       2.684   3.062  24.677  1.00  0.00          PT  \nATOM      8   Pt MOL     1       4.139   2.409  26.653  1.00  0.00          PT  \nATOM      9   Pt MOL     1       2.774   4.805  20.000  1.00  0.00          PT  \nATOM     10   Pt MOL     1       5.549   6.407  22.265  1.00  0.00          PT  \nATOM     11   Pt MOL     1       4.101   5.791  24.529  1.00  0.00          PT  \nATOM     12   Pt MOL     1       5.443   4.888  26.674  1.00  0.00          PT  \nATOM     13   Pt MOL     1       4.162   7.208  20.000  1.00  0.00          PT  \nATOM     14   Pt MOL     1       6.936   8.810  22.265  1.00  0.00          PT  \nATOM     15   Pt MOL     1       5.537   7.979  24.383  1.00  0.00          PT  \nATOM     16   Pt MOL     1       6.864   7.162  26.901  1.00  0.00          PT  \nATOM     17   Pt MOL     1       2.774   0.000  20.000  1.00  0.00          PT  \nATOM     18   Pt MOL     1       5.549   1.602  22.265  1.00  0.00          PT  \nATOM     19   Pt MOL     1       4.265   0.894  24.447  1.00  0.00          PT  \nATOM     20   Pt MOL     1       5.518   0.033  26.893  1.00  0.00          PT  \nATOM     21   Pt MOL     1       4.162   2.403  20.000  1.00  0.00          PT  \nATOM     22   Pt MOL     1       6.936   4.004  22.265  1.00  0.00          PT  \nATOM     23   Pt MOL     1       5.542   3.304  24.567  1.00  0.00          PT  \nATOM     24   Pt MOL     1       6.871   2.439  26.950  1.00  0.00          PT  \nATOM     25   Pt MOL     1       5.549   4.805  20.000  1.00  0.00          PT  \nATOM     26   Pt MOL     1       8.323   6.407  22.265  1.00  0.00          PT  \nATOM     27   Pt MOL     1       6.945   5.407  24.509  1.00  0.00          PT  \nATOM     28   Pt MOL     1       8.359   4.953  26.744  1.00  0.00          PT  \nATOM     29   Pt MOL     1       6.936   7.208  20.000  1.00  0.00          PT  \nATOM     30   Pt MOL     1       9.710   8.810  22.265  1.00  0.00          PT  \nATOM     31   Pt MOL     1       8.333   8.106  24.460  1.00  0.00          PT  \nATOM     32   Pt MOL     1       9.677   7.169  26.649  1.00  0.00          PT  \nATOM     33   Pt MOL     1       5.549   0.000  20.000  1.00  0.00          PT  \nATOM     34   Pt MOL     1       8.323   1.602  22.265  1.00  0.00          PT  \nATOM     35   Pt MOL     1       6.902   0.721  24.514  1.00  0.00          PT  \nATOM     36   Pt MOL     1       8.363   0.189  26.813  1.00  0.00          PT  \nATOM     37   Pt MOL     1       6.936   2.403  20.000  1.00  0.00          PT  \nATOM     38   Pt MOL     1       9.710   4.004  22.265  1.00  0.00          PT  \nATOM     39   Pt MOL     1       8.304   3.234  24.527  1.00  0.00          PT  \nATOM     40   Pt MOL     1       9.593   2.517  26.871  1.00  0.00          PT  \nATOM     41   Pt MOL     1       8.323   4.805  20.000  1.00  0.00          PT  \nATOM     42   Pt MOL     1      11.097   6.407  22.265  1.00  0.00          PT  \nATOM     43   Pt MOL     1       9.611   5.550  24.540  1.00  0.00          PT  \nATOM     44   Pt MOL     1      11.047   4.650  26.803  1.00  0.00          PT  \nATOM     45   Pt MOL     1       9.710   7.208  20.000  1.00  0.00          PT  \nATOM     46   Pt MOL     1      12.485   8.810  22.265  1.00  0.00          PT  \nATOM     47   Pt MOL     1      11.179   7.886  24.553  1.00  0.00          PT  \nATOM     48   Pt MOL     1      12.615   7.047  26.814  1.00  0.00          PT  \nATOM     49   Pt MOL     1       8.323   0.000  20.000  1.00  0.00          PT  \nATOM     50   Pt MOL     1      11.097   1.602  22.265  1.00  0.00          PT  \nATOM     51   Pt MOL     1       9.735   0.836  24.463  1.00  0.00          PT  \nATOM     52   Pt MOL     1      11.121   0.029  26.724  1.00  0.00          PT  \nATOM     53   Pt MOL     1       9.710   2.403  20.000  1.00  0.00          PT  \nATOM     54   Pt MOL     1      12.485   4.004  22.265  1.00  0.00          PT  \nATOM     55   Pt MOL     1      11.213   3.121  24.627  1.00  0.00          PT  \nATOM     56   Pt MOL     1      12.526   2.485  26.985  1.00  0.00          PT  \nATOM     57   Pt MOL     1      11.097   4.805  20.000  1.00  0.00          PT  \nATOM     58   Pt MOL     1      13.872   6.407  22.265  1.00  0.00          PT  \nATOM     59   Pt MOL     1      12.512   5.689  24.532  1.00  0.00          PT  \nATOM     60   Pt MOL     1      14.017   4.779  27.068  1.00  0.00          PT  \nATOM     61   Pt MOL     1      12.485   7.208  20.000  1.00  0.00          PT  \nATOM     62   Pt MOL     1      15.259   8.810  22.265  1.00  0.00          PT  \nATOM     63   Pt MOL     1      13.919   8.002  24.446  1.00  0.00          PT  \nATOM     64   Pt MOL     1      15.107   7.163  26.881  1.00  0.00          PT  \nATOM     65    C MOL     1       8.689   5.124  31.632  1.00  0.00           C  \nATOM     66    C MOL     1       7.957   4.487  30.503  1.00  0.00           C  \nATOM     67    C MOL     1       6.613   4.472  30.544  1.00  0.00           C  \nATOM     68    C MOL     1       5.859   5.061  31.662  1.00  0.00           C  \nATOM     69    C MOL     1       5.848   3.843  29.431  1.00  0.00           C  \nATOM     70    C MOL     1       8.689   3.884  29.360  1.00  0.00           C  \nATOM     71    H MOL     1       8.596   4.441  32.504  1.00  0.00           H  \nATOM     72    H MOL     1       9.741   5.300  31.330  1.00  0.00           H  \nATOM     73    H MOL     1       8.181   6.100  31.850  1.00  0.00           H  \nATOM     74    H MOL     1       4.948   4.419  31.837  1.00  0.00           H  \nATOM     75    H MOL     1       6.419   5.110  32.605  1.00  0.00           H  \nATOM     76    H MOL     1       5.454   6.043  31.333  1.00  0.00           H  \nATOM     77    H MOL     1       5.737   4.604  28.620  1.00  0.00           H  \nATOM     78    H MOL     1       6.386   2.938  29.077  1.00  0.00           H  \nATOM     79    H MOL     1       4.848   3.502  29.753  1.00  0.00           H  \nATOM     80    H MOL     1       9.739   4.225  29.375  1.00  0.00           H  \nATOM     81    H MOL     1       8.216   4.191  28.392  1.00  0.00           H  \nATOM     82    H MOL     1       8.598   2.795  29.423  1.00  0.00           H  \nENDMDL\n",
           "type": "blob"
          }
         ],
         "kwargs": {
          "defaultRepresentation": false,
          "ext": "pdb"
         },
         "methodName": "loadFile",
         "reconstruc_color_scheme": false,
         "target": "Stage",
         "type": "call_method"
        },
        {
         "args": [
          "500px",
          "500px"
         ],
         "kwargs": {},
         "methodName": "setSize",
         "reconstruc_color_scheme": false,
         "target": "Widget",
         "type": "call_method"
        },
        {
         "args": [
          "unitcell"
         ],
         "component_index": 0,
         "kwargs": {
          "sele": "all"
         },
         "methodName": "addRepresentation",
         "reconstruc_color_scheme": false,
         "target": "compList",
         "type": "call_method"
        },
        {
         "args": [
          "spacefill"
         ],
         "component_index": 0,
         "kwargs": {
          "sele": "all"
         },
         "methodName": "addRepresentation",
         "reconstruc_color_scheme": false,
         "target": "compList",
         "type": "call_method"
        },
        {
         "args": [],
         "kwargs": {
          "cameraType": "orthographic"
         },
         "methodName": "setParameters",
         "reconstruc_color_scheme": false,
         "target": "Stage",
         "type": "call_method"
        },
        {
         "args": [
          {
           "clipDist": 0
          }
         ],
         "kwargs": {},
         "methodName": "setParameters",
         "reconstruc_color_scheme": false,
         "target": "Widget",
         "type": "call_method"
        },
        {
         "args": [
          "spacefill",
          0
         ],
         "kwargs": {
          "colorScale": "rainbow",
          "colorScheme": "element",
          "radiusScale": 0.5,
          "radiusType": "covalent"
         },
         "methodName": "updateRepresentationsByName",
         "reconstruc_color_scheme": false,
         "target": "Widget",
         "type": "call_method"
        },
        {
         "args": [
          "this._Q = [[1.0, 0.0, 0.0], [0.0, 1.0, 0.0], [0.0, 0.0, 1.0]]\n    var tooltip = document.createElement('div')\n    Object.assign(tooltip.style, {\n      display: 'none',\n      position: 'fixed',\n      zIndex: 10,\n      pointerEvents: 'none',\n      backgroundColor: 'rgba( 0, 0, 0, 0.6 )',\n      color: 'lightgrey',\n      padding: '8px',\n      fontFamily: 'sans-serif'\n    })\n    document.body.appendChild(tooltip)\n\n    var that = this\n    this.stage.mouseControls.remove('hoverPick')\n    this.stage.signals.hovered.add(function (pickingProxy) {\n      if (pickingProxy && (pickingProxy.atom || pickingProxy.bond)) {\n        var atom = pickingProxy.atom || pickingProxy.closestBondAtom\n        var mp = pickingProxy.mouse.position\n        //tooltip.innerText = atom.element + ' i=' + atom.index + ' (' + atom.x.toFixed(2) +  ', ' + atom.y.toFixed(2) +  ', ' + atom.z.toFixed(2) + ')'\n        //var pos = that._atoms_pos[atom.index]\n        var Q = that._Q\n        var pos_x = Q[0][0] * atom.x + Q[0][1] * atom.y + Q[0][2] * atom.z \n        var pos_y = Q[1][0] * atom.x + Q[1][1] * atom.y + Q[1][2] * atom.z\n        var pos_z = Q[2][0] * atom.x + Q[2][1] * atom.y + Q[2][2] * atom.z\n        tooltip.innerText = 'i=' + atom.index + ' ' + atom.element + ' (' + pos_x.toFixed(2) +  ', ' + pos_y.toFixed(2) +  ', ' + pos_z.toFixed(2) + ')'\n        tooltip.style.bottom = window.innerHeight - mp.y + 3 + 'px'\n        tooltip.style.left = mp.x + 3 + 'px'\n        tooltip.style.display = 'block'\n      } else {\n        tooltip.style.display = 'none'\n      }\n    })\n    "
         ],
         "kwargs": {},
         "methodName": "executeCode",
         "reconstruc_color_scheme": false,
         "target": "Widget",
         "type": "call_method"
        },
        {
         "args": [
          "ball+stick"
         ],
         "component_index": 0,
         "kwargs": {
          "sele": "all"
         },
         "methodName": "addRepresentation",
         "reconstruc_color_scheme": false,
         "target": "compList",
         "type": "call_method"
        }
       ],
       "_ngl_original_stage_parameters": {
        "ambientColor": 14540253,
        "ambientIntensity": 0.2,
        "backgroundColor": "white",
        "cameraEyeSep": 0.3,
        "cameraFov": 40,
        "cameraType": "perspective",
        "clipDist": 10,
        "clipFar": 100,
        "clipNear": 0,
        "fogFar": 100,
        "fogNear": 50,
        "hoverTimeout": 0,
        "impostor": true,
        "lightColor": 14540253,
        "lightIntensity": 1,
        "mousePreset": "default",
        "panSpeed": 1,
        "quality": "medium",
        "rotateSpeed": 2,
        "sampleLevel": 0,
        "tooltip": true,
        "workerDefault": true,
        "zoomSpeed": 1.2
       },
       "_ngl_repr_dict": {
        "0": {
         "0": {
          "params": {
           "clipCenter": {
            "x": 0,
            "y": 0,
            "z": 0
           },
           "clipNear": 0,
           "clipRadius": 0,
           "colorMode": "hcl",
           "colorReverse": false,
           "colorScale": "",
           "colorScheme": "element",
           "colorValue": "orange",
           "defaultAssembly": "",
           "depthWrite": true,
           "diffuse": 16777215,
           "diffuseInterior": false,
           "disableImpostor": false,
           "disablePicking": false,
           "flatShaded": false,
           "interiorColor": 2236962,
           "interiorDarkening": 0,
           "lazy": false,
           "matrix": {
            "elements": [
             1,
             0,
             0,
             0,
             0,
             1,
             0,
             0,
             0,
             0,
             1,
             0,
             0,
             0,
             0,
             1
            ]
           },
           "metalness": 0,
           "opacity": 1,
           "quality": "medium",
           "radialSegments": 10,
           "radiusData": {},
           "radiusScale": 1,
           "radiusSize": 0.08544178761926524,
           "radiusType": "vdw",
           "roughness": 0.4,
           "sele": "all",
           "side": "double",
           "sphereDetail": 1,
           "useInteriorColor": true,
           "visible": true,
           "wireframe": false
          },
          "type": "unitcell"
         },
         "1": {
          "params": {
           "assembly": "default",
           "clipCenter": {
            "x": 0,
            "y": 0,
            "z": 0
           },
           "clipNear": 0,
           "clipRadius": 0,
           "colorMode": "hcl",
           "colorReverse": false,
           "colorScale": "rainbow",
           "colorScheme": "element",
           "colorValue": 9474192,
           "defaultAssembly": "",
           "depthWrite": true,
           "diffuse": 16777215,
           "diffuseInterior": false,
           "disableImpostor": false,
           "disablePicking": false,
           "flatShaded": false,
           "interiorColor": 2236962,
           "interiorDarkening": 0,
           "lazy": false,
           "matrix": {
            "elements": [
             1,
             0,
             0,
             0,
             0,
             1,
             0,
             0,
             0,
             0,
             1,
             0,
             0,
             0,
             0,
             1
            ]
           },
           "metalness": 0,
           "opacity": 1,
           "quality": "medium",
           "radiusData": {},
           "radiusScale": 0.5,
           "radiusSize": 1,
           "radiusType": "covalent",
           "roughness": 0.4,
           "sele": "all",
           "side": "double",
           "sphereDetail": 1,
           "useInteriorColor": true,
           "visible": true,
           "wireframe": false
          },
          "type": "spacefill"
         },
         "2": {
          "params": {
           "aspectRatio": 2,
           "assembly": "default",
           "bondScale": 0.4,
           "bondSpacing": 1,
           "clipCenter": {
            "x": 0,
            "y": 0,
            "z": 0
           },
           "clipNear": 0,
           "clipRadius": 0,
           "colorMode": "hcl",
           "colorReverse": false,
           "colorScale": "",
           "colorScheme": "element",
           "colorValue": 9474192,
           "cylinderOnly": false,
           "defaultAssembly": "",
           "depthWrite": true,
           "diffuse": 16777215,
           "diffuseInterior": false,
           "disableImpostor": false,
           "disablePicking": false,
           "flatShaded": false,
           "interiorColor": 2236962,
           "interiorDarkening": 0,
           "lazy": false,
           "lineOnly": false,
           "linewidth": 2,
           "matrix": {
            "elements": [
             1,
             0,
             0,
             0,
             0,
             1,
             0,
             0,
             0,
             0,
             1,
             0,
             0,
             0,
             0,
             1
            ]
           },
           "metalness": 0,
           "multipleBond": "off",
           "opacity": 1,
           "openEnded": true,
           "quality": "medium",
           "radialSegments": 10,
           "radiusData": {},
           "radiusScale": 1,
           "radiusSize": 0.15,
           "radiusType": "size",
           "roughness": 0.4,
           "sele": "all",
           "side": "double",
           "sphereDetail": 1,
           "useInteriorColor": true,
           "visible": true,
           "wireframe": false
          },
          "type": "ball+stick"
         }
        }
       },
       "_ngl_serialize": false,
       "_ngl_version": "2.0.0-dev.36",
       "_ngl_view_id": [
        "CE2CFC32-001C-4A86-A141-3B130787A6AF"
       ],
       "_player_dict": {},
       "_scene_position": {},
       "_scene_rotation": {},
       "_synced_model_ids": [],
       "_synced_repr_model_ids": [],
       "_view_height": "",
       "_view_width": "",
       "background": "white",
       "frame": 0,
       "gui_style": null,
       "layout": "IPY_MODEL_605ec840282644aea58183c02e5b363f",
       "max_frame": 0,
       "n_components": 1,
       "picked": {}
      }
     },
     "77beb47db77149409771d480d4e6ef70": {
      "model_module": "@jupyter-widgets/controls",
      "model_module_version": "1.5.0",
      "model_name": "DescriptionStyleModel",
      "state": {
       "description_width": ""
      }
     },
     "78687f9340e541d1940e4f04604e5b6f": {
      "model_module": "@jupyter-widgets/base",
      "model_module_version": "1.2.0",
      "model_name": "LayoutModel",
      "state": {}
     },
     "792a9ce9a8b34a65a21e21f2c3e28054": {
      "model_module": "@jupyter-widgets/controls",
      "model_module_version": "1.5.0",
      "model_name": "LinkModel",
      "state": {
       "source": [
        "IPY_MODEL_67bc18aff0574c8fb82eb15eab6b2af2",
        "value"
       ],
       "target": [
        "IPY_MODEL_8cee4414bab74eb3b33e30ff00d083be",
        "frame"
       ]
      }
     },
     "79b9c0a4c95d440cafc770fd5f2b1c5e": {
      "model_module": "@jupyter-widgets/base",
      "model_module_version": "1.2.0",
      "model_name": "LayoutModel",
      "state": {}
     },
     "7abca8f2246c4697b55f89bfd28fc5ca": {
      "model_module": "@jupyter-widgets/base",
      "model_module_version": "1.2.0",
      "model_name": "LayoutModel",
      "state": {}
     },
     "7bae1cebd83648dd8d122fde6a1bc64e": {
      "model_module": "@jupyter-widgets/base",
      "model_module_version": "1.2.0",
      "model_name": "LayoutModel",
      "state": {}
     },
     "7bff5dcbc3334fd09fdd30c8d31633f9": {
      "model_module": "@jupyter-widgets/base",
      "model_module_version": "1.2.0",
      "model_name": "LayoutModel",
      "state": {}
     },
     "7c08e465feda42fd9f8e099139647f19": {
      "model_module": "@jupyter-widgets/base",
      "model_module_version": "1.2.0",
      "model_name": "LayoutModel",
      "state": {}
     },
     "7ded710f7c0746c38b8974f843a612ec": {
      "model_module": "@jupyter-widgets/controls",
      "model_module_version": "1.5.0",
      "model_name": "DropdownModel",
      "state": {
       "_options_labels": [
        " ",
        "picking",
        "random",
        "uniform",
        "atomindex",
        "residueindex",
        "chainindex",
        "modelindex",
        "sstruc",
        "element",
        "resname",
        "bfactor",
        "hydrophobicity",
        "value",
        "volume",
        "occupancy"
       ],
       "description": "Color scheme",
       "index": 9,
       "layout": "IPY_MODEL_83820abfbd7043efb2f0cbe236d8c107",
       "style": "IPY_MODEL_5ada8ab16b5f46a6bffced10dcea7e50"
      }
     },
     "7eea836b1fed4ca19233790696642b8b": {
      "model_module": "@jupyter-widgets/base",
      "model_module_version": "1.2.0",
      "model_name": "LayoutModel",
      "state": {}
     },
     "8186b8830abc46d9aa64794f2e3e86a7": {
      "model_module": "@jupyter-widgets/controls",
      "model_module_version": "1.5.0",
      "model_name": "DescriptionStyleModel",
      "state": {
       "description_width": ""
      }
     },
     "82b722e2565840c58ebaefad532b9d8b": {
      "model_module": "@jupyter-widgets/base",
      "model_module_version": "1.2.0",
      "model_name": "LayoutModel",
      "state": {}
     },
     "82c86334367f41cab9a1d01f6e7a6b4e": {
      "model_module": "@jupyter-widgets/controls",
      "model_module_version": "1.5.0",
      "model_name": "ProgressStyleModel",
      "state": {
       "description_width": ""
      }
     },
     "832e84636cba472791fd23cf88aca154": {
      "model_module": "@jupyter-widgets/controls",
      "model_module_version": "1.5.0",
      "model_name": "DescriptionStyleModel",
      "state": {
       "description_width": ""
      }
     },
     "83820abfbd7043efb2f0cbe236d8c107": {
      "model_module": "@jupyter-widgets/base",
      "model_module_version": "1.2.0",
      "model_name": "LayoutModel",
      "state": {}
     },
     "83e0356767a44d4993b2836cd1ffd91d": {
      "model_module": "@jupyter-widgets/controls",
      "model_module_version": "1.5.0",
      "model_name": "LinkModel",
      "state": {
       "source": [
        "IPY_MODEL_5206fe8d746d4494832488f900fbdd01",
        "max"
       ],
       "target": [
        "IPY_MODEL_f3ea7e5147d940a6ba282b8eb5f1a8e6",
        "max_frame"
       ]
      }
     },
     "86600fde2b8b4032841ef6053528d6d1": {
      "model_module": "@jupyter-widgets/base",
      "model_module_version": "1.2.0",
      "model_name": "LayoutModel",
      "state": {
       "width": "34px"
      }
     },
     "8775915f1c3b492a8a47944314952ceb": {
      "model_module": "@jupyter-widgets/controls",
      "model_module_version": "1.5.0",
      "model_name": "IntSliderModel",
      "state": {
       "layout": "IPY_MODEL_0dd332b1c88e496eb205de4810892ea1",
       "max": 2,
       "style": "IPY_MODEL_fafebda61f9c4449af3344d0e0ac0098"
      }
     },
     "883c1809a90147bda4192f19f5a7b1d6": {
      "model_module": "@jupyter-widgets/controls",
      "model_module_version": "1.5.0",
      "model_name": "HBoxModel",
      "state": {
       "children": [
        "IPY_MODEL_67bc18aff0574c8fb82eb15eab6b2af2",
        "IPY_MODEL_8775915f1c3b492a8a47944314952ceb"
       ],
       "layout": "IPY_MODEL_16434f08104748139966f12c7d2d420b"
      }
     },
     "8889bcff96e04ea4b82df4381c5efc0a": {
      "model_module": "@jupyter-widgets/controls",
      "model_module_version": "1.5.0",
      "model_name": "ButtonModel",
      "state": {
       "description": "Save image",
       "layout": "IPY_MODEL_0d53f9d0cd70407aa23ab3ebce129fcc",
       "style": "IPY_MODEL_f45b62e7bf874930af8e03599cea2c94",
       "tooltip": "Save current frame to file.\nCurrently .png and .html are supported.\nIt takes a bit time, please be patient."
      }
     },
     "88ac619f37e34f9f839b5821afc6754a": {
      "model_module": "@jupyter-widgets/controls",
      "model_module_version": "1.5.0",
      "model_name": "LinkModel",
      "state": {
       "source": [
        "IPY_MODEL_a399bc381e4f4713917e93aebff7b0da",
        "value"
       ],
       "target": [
        "IPY_MODEL_75df6c8bcb5241b49f738132acf898af",
        "value"
       ]
      }
     },
     "897dc97cb5ed45ee942bb47e74bac2be": {
      "model_module": "@jupyter-widgets/controls",
      "model_module_version": "1.5.0",
      "model_name": "FloatSliderModel",
      "state": {
       "description": "Force scale",
       "layout": "IPY_MODEL_370d1f0dbaa948caad89e81df66a4123",
       "step": 0.1,
       "style": "IPY_MODEL_d5d6469b2a114806bf2bc0cb97a17974",
       "value": 0.5
      }
     },
     "89bd1cb1289444c09049ddebcc9118ea": {
      "model_module": "@jupyter-widgets/base",
      "model_module_version": "1.2.0",
      "model_name": "LayoutModel",
      "state": {}
     },
     "8a47f2a281e345ca90fb217f8deea5ba": {
      "model_module": "@jupyter-widgets/controls",
      "model_module_version": "1.5.0",
      "model_name": "LinkModel",
      "state": {
       "source": [
        "IPY_MODEL_a399bc381e4f4713917e93aebff7b0da",
        "value"
       ],
       "target": [
        "IPY_MODEL_f8474b9ce6ec493e855d01b142e16b1e",
        "frame"
       ]
      }
     },
     "8acbb9729a604f209ee766d7aa0a671e": {
      "model_module": "@jupyter-widgets/controls",
      "model_module_version": "1.5.0",
      "model_name": "DescriptionStyleModel",
      "state": {
       "description_width": ""
      }
     },
     "8aee59525ab94ddea32c7b1d595ffa46": {
      "model_module": "@jupyter-widgets/controls",
      "model_module_version": "1.5.0",
      "model_name": "TextModel",
      "state": {
       "description": "Filename: ",
       "layout": "IPY_MODEL_5c241cc1a20f42a6b35704c6bd28ae65",
       "style": "IPY_MODEL_0d11b493621a4f918d9982b0f23d8fd3",
       "value": "screenshot.png"
      }
     },
     "8b3b1d6d66cc48c0b0af5cba184f9ed4": {
      "model_module": "@jupyter-widgets/base",
      "model_module_version": "1.2.0",
      "model_name": "LayoutModel",
      "state": {}
     },
     "8b50f42b32104689b4ba4b6a45f2c71f": {
      "model_module": "@jupyter-widgets/controls",
      "model_module_version": "1.5.0",
      "model_name": "FloatProgressModel",
      "state": {
       "bar_style": "success",
       "layout": "IPY_MODEL_d859d676be6445c08ef04f31d8ee66ba",
       "max": 3,
       "style": "IPY_MODEL_82c86334367f41cab9a1d01f6e7a6b4e",
       "value": 3
      }
     },
     "8cee4414bab74eb3b33e30ff00d083be": {
      "model_module": "nglview-js-widgets",
      "model_module_version": "3.0.1",
      "model_name": "NGLModel",
      "state": {
       "_camera_orientation": [
        26.81401444567563,
        2.10607677176663,
        1.2316171584997844,
        0,
        1.7843612437222123,
        -7.659239960282931,
        -25.75064871162077,
        0,
        -1.6638795465982996,
        25.72633465437351,
        -7.767304615642526,
        0,
        -7.714000225067139,
        -4.44799979403615,
        -24.787500381469727,
        1
       ],
       "_camera_str": "orthographic",
       "_gui_theme": null,
       "_ibtn_fullscreen": "IPY_MODEL_1dfa5e3c1bfc4b73b10e17396ff292f5",
       "_igui": null,
       "_iplayer": "IPY_MODEL_883c1809a90147bda4192f19f5a7b1d6",
       "_ngl_color_dict": {},
       "_ngl_coordinate_resource": {},
       "_ngl_full_stage_parameters": {
        "ambientColor": 14540253,
        "ambientIntensity": 0.2,
        "backgroundColor": "white",
        "cameraEyeSep": 0.3,
        "cameraFov": 40,
        "cameraType": "orthographic",
        "clipDist": 0,
        "clipFar": 100,
        "clipNear": 0,
        "fogFar": 100,
        "fogNear": 50,
        "hoverTimeout": 0,
        "impostor": true,
        "lightColor": 14540253,
        "lightIntensity": 1,
        "mousePreset": "default",
        "panSpeed": 1,
        "quality": "medium",
        "rotateSpeed": 2,
        "sampleLevel": 0,
        "tooltip": true,
        "workerDefault": true,
        "zoomSpeed": 1.2
       },
       "_ngl_msg_archive": [
        {
         "args": [
          {
           "binary": false,
           "data": "CRYST1   11.220   11.220   46.871  90.00  90.00  60.00 P 1\nMODEL     1\nATOM      1   Pt MOL     1       0.000   0.000  20.000  1.00  0.00          PT  \nATOM      2   Pt MOL     1       2.805   1.620  22.290  1.00  0.00          PT  \nATOM      3   Pt MOL     1       1.373   0.809  24.571  1.00  0.00          PT  \nATOM      4   Pt MOL     1       2.761   0.016  26.886  1.00  0.00          PT  \nATOM      5   Pt MOL     1       1.403   2.429  20.000  1.00  0.00          PT  \nATOM      6   Pt MOL     1       4.208   4.049  22.290  1.00  0.00          PT  \nATOM      7   Pt MOL     1       2.776   3.245  24.567  1.00  0.00          PT  \nATOM      8   Pt MOL     1       4.143   2.419  26.882  1.00  0.00          PT  \nATOM      9   Pt MOL     1       2.805   4.859  20.000  1.00  0.00          PT  \nATOM     10   Pt MOL     1       5.610   6.478  22.290  1.00  0.00          PT  \nATOM     11   Pt MOL     1       4.180   5.677  24.554  1.00  0.00          PT  \nATOM     12   Pt MOL     1       5.500   4.851  26.835  1.00  0.00          PT  \nATOM     13   Pt MOL     1       4.208   7.288  20.000  1.00  0.00          PT  \nATOM     14   Pt MOL     1       7.013   8.907  22.290  1.00  0.00          PT  \nATOM     15   Pt MOL     1       5.579   8.092  24.557  1.00  0.00          PT  \nATOM     16   Pt MOL     1       6.950   7.339  26.857  1.00  0.00          PT  \nATOM     17   Pt MOL     1       2.805   0.000  20.000  1.00  0.00          PT  \nATOM     18   Pt MOL     1       5.610   1.620  22.290  1.00  0.00          PT  \nATOM     19   Pt MOL     1       4.186   0.805  24.568  1.00  0.00          PT  \nATOM     20   Pt MOL     1       5.568  -0.011  26.881  1.00  0.00          PT  \nATOM     21   Pt MOL     1       4.208   2.429  20.000  1.00  0.00          PT  \nATOM     22   Pt MOL     1       7.013   4.049  22.290  1.00  0.00          PT  \nATOM     23   Pt MOL     1       5.582   3.236  24.553  1.00  0.00          PT  \nATOM     24   Pt MOL     1       6.939   2.377  26.848  1.00  0.00          PT  \nATOM     25   Pt MOL     1       5.610   4.859  20.000  1.00  0.00          PT  \nATOM     26   Pt MOL     1       8.415   6.478  22.290  1.00  0.00          PT  \nATOM     27   Pt MOL     1       7.013   5.652  24.627  1.00  0.00          PT  \nATOM     28   Pt MOL     1       8.316   4.862  27.214  1.00  0.00          PT  \nATOM     29   Pt MOL     1       7.013   7.288  20.000  1.00  0.00          PT  \nATOM     30   Pt MOL     1       9.818   8.907  22.290  1.00  0.00          PT  \nATOM     31   Pt MOL     1       8.389   8.098  24.558  1.00  0.00          PT  \nATOM     32   Pt MOL     1       9.773   7.318  26.878  1.00  0.00          PT  \nATOM     33   Pt MOL     1       5.610   0.000  20.000  1.00  0.00          PT  \nATOM     34   Pt MOL     1       8.415   1.620  22.290  1.00  0.00          PT  \nATOM     35   Pt MOL     1       6.995   0.805  24.553  1.00  0.00          PT  \nATOM     36   Pt MOL     1       8.372  -0.010  26.879  1.00  0.00          PT  \nATOM     37   Pt MOL     1       7.013   2.429  20.000  1.00  0.00          PT  \nATOM     38   Pt MOL     1       9.818   4.049  22.290  1.00  0.00          PT  \nATOM     39   Pt MOL     1       8.383   3.275  24.628  1.00  0.00          PT  \nATOM     40   Pt MOL     1       9.784   2.410  26.875  1.00  0.00          PT  \nATOM     41   Pt MOL     1       8.415   4.859  20.000  1.00  0.00          PT  \nATOM     42   Pt MOL     1      11.220   6.478  22.290  1.00  0.00          PT  \nATOM     43   Pt MOL     1       9.745   5.647  24.642  1.00  0.00          PT  \nATOM     44   Pt MOL     1      11.177   4.852  26.882  1.00  0.00          PT  \nATOM     45   Pt MOL     1       9.818   7.288  20.000  1.00  0.00          PT  \nATOM     46   Pt MOL     1      12.623   8.907  22.290  1.00  0.00          PT  \nATOM     47   Pt MOL     1      11.188   8.081  24.561  1.00  0.00          PT  \nATOM     48   Pt MOL     1      12.572   7.285  26.881  1.00  0.00          PT  \nATOM     49   Pt MOL     1       8.415   0.000  20.000  1.00  0.00          PT  \nATOM     50   Pt MOL     1      11.220   1.620  22.290  1.00  0.00          PT  \nATOM     51   Pt MOL     1       9.784   0.817  24.561  1.00  0.00          PT  \nATOM     52   Pt MOL     1      11.170   0.006  26.883  1.00  0.00          PT  \nATOM     53   Pt MOL     1       9.818   2.429  20.000  1.00  0.00          PT  \nATOM     54   Pt MOL     1      12.623   4.049  22.290  1.00  0.00          PT  \nATOM     55   Pt MOL     1      11.189   3.241  24.563  1.00  0.00          PT  \nATOM     56   Pt MOL     1      12.577   2.431  26.886  1.00  0.00          PT  \nATOM     57   Pt MOL     1      11.220   4.859  20.000  1.00  0.00          PT  \nATOM     58   Pt MOL     1      14.025   6.478  22.290  1.00  0.00          PT  \nATOM     59   Pt MOL     1      12.574   5.667  24.564  1.00  0.00          PT  \nATOM     60   Pt MOL     1      13.959   4.865  26.880  1.00  0.00          PT  \nATOM     61   Pt MOL     1      12.623   7.288  20.000  1.00  0.00          PT  \nATOM     62   Pt MOL     1      15.428   8.907  22.290  1.00  0.00          PT  \nATOM     63   Pt MOL     1      13.992   8.095  24.564  1.00  0.00          PT  \nATOM     64   Pt MOL     1      15.371   7.296  26.877  1.00  0.00          PT  \nATOM     65    C MOL     1       8.809   4.872  29.314  1.00  0.00           C  \nATOM     66    C MOL     1       7.401   4.752  29.205  1.00  0.00           C  \nATOM     67    H MOL     1       9.248   5.835  29.575  1.00  0.00           H  \nATOM     68    H MOL     1       9.406   3.989  29.544  1.00  0.00           H  \nATOM     69    H MOL     1       6.761   5.620  29.368  1.00  0.00           H  \nATOM     70    H MOL     1       6.923   3.779  29.337  1.00  0.00           H  \nENDMDL\n",
           "type": "blob"
          }
         ],
         "kwargs": {
          "defaultRepresentation": false,
          "ext": "pdb"
         },
         "methodName": "loadFile",
         "reconstruc_color_scheme": false,
         "target": "Stage",
         "type": "call_method"
        },
        {
         "args": [
          "500px",
          "500px"
         ],
         "kwargs": {},
         "methodName": "setSize",
         "reconstruc_color_scheme": false,
         "target": "Widget",
         "type": "call_method"
        },
        {
         "args": [
          "unitcell"
         ],
         "component_index": 0,
         "kwargs": {
          "sele": "all"
         },
         "methodName": "addRepresentation",
         "reconstruc_color_scheme": false,
         "target": "compList",
         "type": "call_method"
        },
        {
         "args": [
          "spacefill"
         ],
         "component_index": 0,
         "kwargs": {
          "sele": "all"
         },
         "methodName": "addRepresentation",
         "reconstruc_color_scheme": false,
         "target": "compList",
         "type": "call_method"
        },
        {
         "args": [],
         "kwargs": {
          "cameraType": "orthographic"
         },
         "methodName": "setParameters",
         "reconstruc_color_scheme": false,
         "target": "Stage",
         "type": "call_method"
        },
        {
         "args": [
          {
           "clipDist": 0
          }
         ],
         "kwargs": {},
         "methodName": "setParameters",
         "reconstruc_color_scheme": false,
         "target": "Widget",
         "type": "call_method"
        },
        {
         "args": [
          "spacefill",
          0
         ],
         "kwargs": {
          "colorScale": "rainbow",
          "colorScheme": "element",
          "radiusScale": 0.5,
          "radiusType": "covalent"
         },
         "methodName": "updateRepresentationsByName",
         "reconstruc_color_scheme": false,
         "target": "Widget",
         "type": "call_method"
        },
        {
         "args": [
          "this._Q = [[1.0, 0.0, 0.0], [0.0, 1.0, 0.0], [0.0, 0.0, 1.0]]\n    var tooltip = document.createElement('div')\n    Object.assign(tooltip.style, {\n      display: 'none',\n      position: 'fixed',\n      zIndex: 10,\n      pointerEvents: 'none',\n      backgroundColor: 'rgba( 0, 0, 0, 0.6 )',\n      color: 'lightgrey',\n      padding: '8px',\n      fontFamily: 'sans-serif'\n    })\n    document.body.appendChild(tooltip)\n\n    var that = this\n    this.stage.mouseControls.remove('hoverPick')\n    this.stage.signals.hovered.add(function (pickingProxy) {\n      if (pickingProxy && (pickingProxy.atom || pickingProxy.bond)) {\n        var atom = pickingProxy.atom || pickingProxy.closestBondAtom\n        var mp = pickingProxy.mouse.position\n        //tooltip.innerText = atom.element + ' i=' + atom.index + ' (' + atom.x.toFixed(2) +  ', ' + atom.y.toFixed(2) +  ', ' + atom.z.toFixed(2) + ')'\n        //var pos = that._atoms_pos[atom.index]\n        var Q = that._Q\n        var pos_x = Q[0][0] * atom.x + Q[0][1] * atom.y + Q[0][2] * atom.z \n        var pos_y = Q[1][0] * atom.x + Q[1][1] * atom.y + Q[1][2] * atom.z\n        var pos_z = Q[2][0] * atom.x + Q[2][1] * atom.y + Q[2][2] * atom.z\n        tooltip.innerText = 'i=' + atom.index + ' ' + atom.element + ' (' + pos_x.toFixed(2) +  ', ' + pos_y.toFixed(2) +  ', ' + pos_z.toFixed(2) + ')'\n        tooltip.style.bottom = window.innerHeight - mp.y + 3 + 'px'\n        tooltip.style.left = mp.x + 3 + 'px'\n        tooltip.style.display = 'block'\n      } else {\n        tooltip.style.display = 'none'\n      }\n    })\n    "
         ],
         "kwargs": {},
         "methodName": "executeCode",
         "reconstruc_color_scheme": false,
         "target": "Widget",
         "type": "call_method"
        },
        {
         "args": [
          "ball+stick"
         ],
         "component_index": 0,
         "kwargs": {
          "sele": "all"
         },
         "methodName": "addRepresentation",
         "reconstruc_color_scheme": false,
         "target": "compList",
         "type": "call_method"
        }
       ],
       "_ngl_original_stage_parameters": {
        "ambientColor": 14540253,
        "ambientIntensity": 0.2,
        "backgroundColor": "white",
        "cameraEyeSep": 0.3,
        "cameraFov": 40,
        "cameraType": "perspective",
        "clipDist": 10,
        "clipFar": 100,
        "clipNear": 0,
        "fogFar": 100,
        "fogNear": 50,
        "hoverTimeout": 0,
        "impostor": true,
        "lightColor": 14540253,
        "lightIntensity": 1,
        "mousePreset": "default",
        "panSpeed": 1,
        "quality": "medium",
        "rotateSpeed": 2,
        "sampleLevel": 0,
        "tooltip": true,
        "workerDefault": true,
        "zoomSpeed": 1.2
       },
       "_ngl_repr_dict": {
        "0": {
         "0": {
          "params": {
           "clipCenter": {
            "x": 0,
            "y": 0,
            "z": 0
           },
           "clipNear": 0,
           "clipRadius": 0,
           "colorMode": "hcl",
           "colorReverse": false,
           "colorScale": "",
           "colorScheme": "element",
           "colorValue": "orange",
           "defaultAssembly": "",
           "depthWrite": true,
           "diffuse": 16777215,
           "diffuseInterior": false,
           "disableImpostor": false,
           "disablePicking": false,
           "flatShaded": false,
           "interiorColor": 2236962,
           "interiorDarkening": 0,
           "lazy": false,
           "matrix": {
            "elements": [
             1,
             0,
             0,
             0,
             0,
             1,
             0,
             0,
             0,
             0,
             1,
             0,
             0,
             0,
             0,
             1
            ]
           },
           "metalness": 0,
           "opacity": 1,
           "quality": "medium",
           "radialSegments": 10,
           "radiusData": {},
           "radiusScale": 1,
           "radiusSize": 0.08611794721945829,
           "radiusType": "vdw",
           "roughness": 0.4,
           "sele": "all",
           "side": "double",
           "sphereDetail": 1,
           "useInteriorColor": true,
           "visible": true,
           "wireframe": false
          },
          "type": "unitcell"
         },
         "1": {
          "params": {
           "assembly": "default",
           "clipCenter": {
            "x": 0,
            "y": 0,
            "z": 0
           },
           "clipNear": 0,
           "clipRadius": 0,
           "colorMode": "hcl",
           "colorReverse": false,
           "colorScale": "rainbow",
           "colorScheme": "element",
           "colorValue": 9474192,
           "defaultAssembly": "",
           "depthWrite": true,
           "diffuse": 16777215,
           "diffuseInterior": false,
           "disableImpostor": false,
           "disablePicking": false,
           "flatShaded": false,
           "interiorColor": 2236962,
           "interiorDarkening": 0,
           "lazy": false,
           "matrix": {
            "elements": [
             1,
             0,
             0,
             0,
             0,
             1,
             0,
             0,
             0,
             0,
             1,
             0,
             0,
             0,
             0,
             1
            ]
           },
           "metalness": 0,
           "opacity": 1,
           "quality": "medium",
           "radiusData": {},
           "radiusScale": 0.5,
           "radiusSize": 1,
           "radiusType": "covalent",
           "roughness": 0.4,
           "sele": "all",
           "side": "double",
           "sphereDetail": 1,
           "useInteriorColor": true,
           "visible": true,
           "wireframe": false
          },
          "type": "spacefill"
         },
         "2": {
          "params": {
           "aspectRatio": 2,
           "assembly": "default",
           "bondScale": 0.4,
           "bondSpacing": 1,
           "clipCenter": {
            "x": 0,
            "y": 0,
            "z": 0
           },
           "clipNear": 0,
           "clipRadius": 0,
           "colorMode": "hcl",
           "colorReverse": false,
           "colorScale": "",
           "colorScheme": "element",
           "colorValue": 9474192,
           "cylinderOnly": false,
           "defaultAssembly": "",
           "depthWrite": true,
           "diffuse": 16777215,
           "diffuseInterior": false,
           "disableImpostor": false,
           "disablePicking": false,
           "flatShaded": false,
           "interiorColor": 2236962,
           "interiorDarkening": 0,
           "lazy": false,
           "lineOnly": false,
           "linewidth": 2,
           "matrix": {
            "elements": [
             1,
             0,
             0,
             0,
             0,
             1,
             0,
             0,
             0,
             0,
             1,
             0,
             0,
             0,
             0,
             1
            ]
           },
           "metalness": 0,
           "multipleBond": "off",
           "opacity": 1,
           "openEnded": true,
           "quality": "medium",
           "radialSegments": 10,
           "radiusData": {},
           "radiusScale": 1,
           "radiusSize": 0.15,
           "radiusType": "size",
           "roughness": 0.4,
           "sele": "all",
           "side": "double",
           "sphereDetail": 1,
           "useInteriorColor": true,
           "visible": true,
           "wireframe": false
          },
          "type": "ball+stick"
         }
        }
       },
       "_ngl_serialize": false,
       "_ngl_version": "2.0.0-dev.36",
       "_ngl_view_id": [
        "9B517021-CE49-4769-B643-45B378951B53"
       ],
       "_player_dict": {},
       "_scene_position": {},
       "_scene_rotation": {},
       "_synced_model_ids": [],
       "_synced_repr_model_ids": [],
       "_view_height": "",
       "_view_width": "",
       "background": "white",
       "frame": 0,
       "gui_style": null,
       "layout": "IPY_MODEL_246acc0590bf48d9b7305b6e935f8d02",
       "max_frame": 2,
       "n_components": 1,
       "picked": {}
      }
     },
     "8d2ac1a8dfc6493e96b9cea0ded3b29f": {
      "model_module": "@jupyter-widgets/base",
      "model_module_version": "1.2.0",
      "model_name": "LayoutModel",
      "state": {
       "border": "0px solid black"
      }
     },
     "8d425dc178f94b3cb5d63d3c507160aa": {
      "model_module": "@jupyter-widgets/controls",
      "model_module_version": "1.5.0",
      "model_name": "HBoxModel",
      "state": {
       "children": [
        "IPY_MODEL_40a924ac96f14189a36d907036bd7ac0",
        "IPY_MODEL_768ac7ae8aa742c69ea4781d7332513d"
       ],
       "layout": "IPY_MODEL_4723b91035844168928b537ee3d37581"
      }
     },
     "8d983366fd1d4995a16f576a941c69a0": {
      "model_module": "@jupyter-widgets/controls",
      "model_module_version": "1.5.0",
      "model_name": "SliderStyleModel",
      "state": {
       "description_width": ""
      }
     },
     "8e328658dd084b10bafc73c4d82b3d9a": {
      "model_module": "@jupyter-widgets/controls",
      "model_module_version": "1.5.0",
      "model_name": "SliderStyleModel",
      "state": {
       "description_width": ""
      }
     },
     "8e87409dc03e4ac0bb46eb43d358db18": {
      "model_module": "@jupyter-widgets/base",
      "model_module_version": "1.2.0",
      "model_name": "LayoutModel",
      "state": {}
     },
     "8edf491273444309b7428510c7c08d4c": {
      "model_module": "@jupyter-widgets/controls",
      "model_module_version": "1.5.0",
      "model_name": "HBoxModel",
      "state": {
       "children": [
        "IPY_MODEL_3d0677d0c5ba4830a8d28f6d17957f8c",
        "IPY_MODEL_8889bcff96e04ea4b82df4381c5efc0a"
       ],
       "layout": "IPY_MODEL_a64d3c2e9d3d4704906261d77c22ebc9"
      }
     },
     "8f8afea95f6248ca8c3f48aabbbf0fc8": {
      "model_module": "@jupyter-widgets/controls",
      "model_module_version": "1.5.0",
      "model_name": "CheckboxModel",
      "state": {
       "description": "Show force",
       "disabled": false,
       "layout": "IPY_MODEL_6780e4b308224bdc893a60da66f9614e",
       "style": "IPY_MODEL_6562a363f56b430a974796661f55ffb0",
       "value": false
      }
     },
     "9091dfc087ec4294a2a52a57138dcc90": {
      "model_module": "@jupyter-widgets/controls",
      "model_module_version": "1.5.0",
      "model_name": "DescriptionStyleModel",
      "state": {
       "description_width": ""
      }
     },
     "921d2a22fb2d4d46a222bf76b1f5ee05": {
      "model_module": "@jupyter-widgets/controls",
      "model_module_version": "1.5.0",
      "model_name": "VBoxModel",
      "state": {
       "children": [
        "IPY_MODEL_51dc87ebee444a208eed5b6d2500e692",
        "IPY_MODEL_6e8eb32be5934ba6b996d5e54220fdd2",
        "IPY_MODEL_bc201244cdf24e408c7e0ed1b2200eb3",
        "IPY_MODEL_1133139342ef4e23880fc9ed3b5ce345",
        "IPY_MODEL_8edf491273444309b7428510c7c08d4c",
        "IPY_MODEL_8f8afea95f6248ca8c3f48aabbbf0fc8",
        "IPY_MODEL_fcad26a70bb5483db2b01c0397967c91",
        "IPY_MODEL_a462cedf2a104e32ae758915262abbf9",
        "IPY_MODEL_5b0d6782e24448c680b069f730286739",
        "IPY_MODEL_a427f03a883c4215839335c2ffe8665d"
       ],
       "layout": "IPY_MODEL_bb698f40fef1418bb4e788dbcd479024"
      }
     },
     "9227e77df62341b4bfe32076bd02ab62": {
      "model_module": "@jupyter-widgets/controls",
      "model_module_version": "1.5.0",
      "model_name": "VBoxModel",
      "state": {
       "children": [
        "IPY_MODEL_a3047a84ed054fd980f1fb1f0d47f6a7",
        "IPY_MODEL_7ded710f7c0746c38b8974f843a612ec",
        "IPY_MODEL_addf8cc016bb459a81f8ec1a13a2c777",
        "IPY_MODEL_d58db3196660456abb0c959b3442586a",
        "IPY_MODEL_1c049857169c4f6f8e3df0e8c6d6d8a5",
        "IPY_MODEL_9fefe2520fce4368b0a05ffe806c8c74",
        "IPY_MODEL_9561fdf9ccbd466e8b452f2692a9fa65",
        "IPY_MODEL_9d73391df99544de86297e15a9707513",
        "IPY_MODEL_7019012b22f84a7395147a0243a286ac",
        "IPY_MODEL_9ea512a9b90047188757a0a0438003c1"
       ],
       "layout": "IPY_MODEL_d6babd15e2e342f29a9dd35c7c9119da"
      }
     },
     "932eaab0f185472380c47225001295b1": {
      "model_module": "@jupyter-widgets/controls",
      "model_module_version": "1.5.0",
      "model_name": "HTMLModel",
      "state": {
       "layout": "IPY_MODEL_b282c8bfc461458daf1e4d7aaca8fd1a",
       "style": "IPY_MODEL_8acbb9729a604f209ee766d7aa0a671e",
       "value": "100%"
      }
     },
     "935da7f354874f2bbf7f93268e8d1709": {
      "model_module": "@jupyter-widgets/controls",
      "model_module_version": "1.5.0",
      "model_name": "ButtonStyleModel",
      "state": {}
     },
     "9555f60a77c546298d4332241c1d07fb": {
      "model_module": "nglview-js-widgets",
      "model_module_version": "3.0.1",
      "model_name": "ColormakerRegistryModel",
      "state": {
       "_msg_ar": [],
       "_msg_q": [],
       "_ready": true,
       "layout": "IPY_MODEL_a902136341014b84bb22241381168238"
      }
     },
     "956153e7571b4555aed983812903e4ce": {
      "model_module": "@jupyter-widgets/controls",
      "model_module_version": "1.5.0",
      "model_name": "ProgressStyleModel",
      "state": {
       "description_width": ""
      }
     },
     "9561fdf9ccbd466e8b452f2692a9fa65": {
      "model_module": "@jupyter-widgets/controls",
      "model_module_version": "1.5.0",
      "model_name": "FloatSliderModel",
      "state": {
       "description": "Force scale",
       "layout": "IPY_MODEL_963b2c4aaa164e3cb2deb160947aeea0",
       "step": 0.1,
       "style": "IPY_MODEL_73441691139143449d38834d095bcf64",
       "value": 0.5
      }
     },
     "963b2c4aaa164e3cb2deb160947aeea0": {
      "model_module": "@jupyter-widgets/base",
      "model_module_version": "1.2.0",
      "model_name": "LayoutModel",
      "state": {}
     },
     "96eac7e7b47848bfb2d1c3718aba975e": {
      "model_module": "@jupyter-widgets/controls",
      "model_module_version": "1.5.0",
      "model_name": "IntSliderModel",
      "state": {
       "layout": "IPY_MODEL_0eff300f4c0e4264914b64c9a8ed399b",
       "max": 2,
       "style": "IPY_MODEL_51953112f1f0470bbc380d9f577d44f7"
      }
     },
     "97036251243f4948b5d31d4085a9d117": {
      "model_module": "@jupyter-widgets/controls",
      "model_module_version": "1.5.0",
      "model_name": "PlayModel",
      "state": {
       "layout": "IPY_MODEL_a9a41250f4c6451a87ab68daa7a43c58",
       "max": 2,
       "style": "IPY_MODEL_076a050f05804190b6db87410db6627d"
      }
     },
     "9867858120f54d29a8df49bb45829420": {
      "model_module": "@jupyter-widgets/base",
      "model_module_version": "1.2.0",
      "model_name": "LayoutModel",
      "state": {
       "width": "34px"
      }
     },
     "9bc9a8ae7c8b4778ad94c99dbd9ff416": {
      "model_module": "@jupyter-widgets/controls",
      "model_module_version": "1.5.0",
      "model_name": "HTMLModel",
      "state": {
       "layout": "IPY_MODEL_6bab35c51127420d90e5babe3cbe1105",
       "style": "IPY_MODEL_0a4861a7a7764d7499da6506ec651801",
       "value": "100%"
      }
     },
     "9c21d7fd221247ebae138a458e1971bd": {
      "model_module": "@jupyter-widgets/base",
      "model_module_version": "1.2.0",
      "model_name": "LayoutModel",
      "state": {
       "border": "0px solid black"
      }
     },
     "9c59f4145332421d8cc01a1dbcb0afc8": {
      "model_module": "@jupyter-widgets/base",
      "model_module_version": "1.2.0",
      "model_name": "LayoutModel",
      "state": {}
     },
     "9c633e9c65c84228a5a83191a8b6533a": {
      "model_module": "@jupyter-widgets/controls",
      "model_module_version": "1.5.0",
      "model_name": "ButtonModel",
      "state": {
       "description": "Save image",
       "layout": "IPY_MODEL_527d069bfc3141b583a73805c4f7ba76",
       "style": "IPY_MODEL_3cf4758439b747a3b1f2a24f58c9c564",
       "tooltip": "Save current frame to file.\nCurrently .png and .html are supported.\nIt takes a bit time, please be patient."
      }
     },
     "9cbd3ecd284948c9b24404eacd35385c": {
      "model_module": "@jupyter-widgets/controls",
      "model_module_version": "1.5.0",
      "model_name": "HTMLModel",
      "state": {
       "layout": "IPY_MODEL_4116148459a64a96b76cbdc95d3686ca",
       "style": "IPY_MODEL_7483d9d019424f4cb4da44db04326ab9",
       "value": " 3/3 [00:06&lt;00:00,  2.07s/it]"
      }
     },
     "9ce946fc2e364a09abab9b1c1edbfd18": {
      "model_module": "@jupyter-widgets/output",
      "model_module_version": "1.0.0",
      "model_name": "OutputModel",
      "state": {
       "layout": "IPY_MODEL_9c21d7fd221247ebae138a458e1971bd"
      }
     },
     "9d73391df99544de86297e15a9707513": {
      "model_module": "@jupyter-widgets/controls",
      "model_module_version": "1.5.0",
      "model_name": "CheckboxModel",
      "state": {
       "description": "Show charge",
       "disabled": false,
       "layout": "IPY_MODEL_eb96d9184721480bb2a9b9cf22dea392",
       "style": "IPY_MODEL_ff4b69f842e545faad211fd534e60c2c",
       "value": false
      }
     },
     "9e9be58f492c489e922644edf83a2b72": {
      "model_module": "@jupyter-widgets/controls",
      "model_module_version": "1.5.0",
      "model_name": "SliderStyleModel",
      "state": {
       "description_width": ""
      }
     },
     "9ea512a9b90047188757a0a0438003c1": {
      "model_module": "@jupyter-widgets/output",
      "model_module_version": "1.0.0",
      "model_name": "OutputModel",
      "state": {
       "layout": "IPY_MODEL_ecb29d119eab42f598d75e67db1baf52"
      }
     },
     "9f954fc746184115853115d982deded4": {
      "model_module": "@jupyter-widgets/base",
      "model_module_version": "1.2.0",
      "model_name": "LayoutModel",
      "state": {
       "width": "34px"
      }
     },
     "9fefe2520fce4368b0a05ffe806c8c74": {
      "model_module": "@jupyter-widgets/controls",
      "model_module_version": "1.5.0",
      "model_name": "CheckboxModel",
      "state": {
       "description": "Show force",
       "disabled": false,
       "layout": "IPY_MODEL_8b3b1d6d66cc48c0b0af5cba184f9ed4",
       "style": "IPY_MODEL_50c83041531a42d0990ca2abb3023d22",
       "value": false
      }
     },
     "a050c5e8ebd5450aab2030b5f731d8d2": {
      "model_module": "@jupyter-widgets/base",
      "model_module_version": "1.2.0",
      "model_name": "LayoutModel",
      "state": {}
     },
     "a0558142990e49359e2ded5434b4a31c": {
      "model_module": "@jupyter-widgets/controls",
      "model_module_version": "1.5.0",
      "model_name": "FloatSliderModel",
      "state": {
       "description": "Ball size",
       "layout": "IPY_MODEL_061abbb16e404665b7a231017a6b38b4",
       "max": 1.5,
       "step": 0.01,
       "style": "IPY_MODEL_9e9be58f492c489e922644edf83a2b72",
       "value": 0.5
      }
     },
     "a05e7676c8e343a3b661cce175aa062c": {
      "model_module": "@jupyter-widgets/base",
      "model_module_version": "1.2.0",
      "model_name": "LayoutModel",
      "state": {}
     },
     "a0a6ffccc9f54fc8b9f017275a939858": {
      "model_module": "@jupyter-widgets/base",
      "model_module_version": "1.2.0",
      "model_name": "LayoutModel",
      "state": {}
     },
     "a0d09b94605049639532353d893490c2": {
      "model_module": "@jupyter-widgets/controls",
      "model_module_version": "1.5.0",
      "model_name": "CheckboxModel",
      "state": {
       "description": "Show charge",
       "disabled": false,
       "layout": "IPY_MODEL_fca6ab5247ce4cdda14bf29f0faf8767",
       "style": "IPY_MODEL_b4a2df1e16a6435ca49c04a66fe10dc9",
       "value": false
      }
     },
     "a29ccc69e7cc4839b34d794cb921f23b": {
      "model_module": "@jupyter-widgets/base",
      "model_module_version": "1.2.0",
      "model_name": "LayoutModel",
      "state": {}
     },
     "a3047a84ed054fd980f1fb1f0d47f6a7": {
      "model_module": "@jupyter-widgets/controls",
      "model_module_version": "1.5.0",
      "model_name": "DropdownModel",
      "state": {
       "_options_labels": [
        "All",
        "H",
        "C"
       ],
       "description": "Show",
       "index": 0,
       "layout": "IPY_MODEL_540a3d3be282415ebb781c44b86b4d12",
       "style": "IPY_MODEL_5355ccc9040a4ce39bc14e05ab8d8619"
      }
     },
     "a37e85be654c4c42b11f581f5f5637fa": {
      "model_module": "@jupyter-widgets/controls",
      "model_module_version": "1.5.0",
      "model_name": "IntSliderModel",
      "state": {
       "layout": "IPY_MODEL_fa86277c7252408e87791072408fdba9",
       "max": 0,
       "style": "IPY_MODEL_f9342c0712734f8b8dc14e56c7dd22f2"
      }
     },
     "a37ee63041634c2a9097170e6ca28060": {
      "model_module": "@jupyter-widgets/output",
      "model_module_version": "1.0.0",
      "model_name": "OutputModel",
      "state": {
       "layout": "IPY_MODEL_8d2ac1a8dfc6493e96b9cea0ded3b29f"
      }
     },
     "a399bc381e4f4713917e93aebff7b0da": {
      "model_module": "@jupyter-widgets/controls",
      "model_module_version": "1.5.0",
      "model_name": "PlayModel",
      "state": {
       "layout": "IPY_MODEL_5f7ab515979343ae91059ee1f927b69b",
       "max": 0,
       "style": "IPY_MODEL_568ec296b63c4081b043b1510b6b9159"
      }
     },
     "a41e52a4e9ea429ea182cbfc903d4a3e": {
      "model_module": "@jupyter-widgets/controls",
      "model_module_version": "1.5.0",
      "model_name": "CheckboxModel",
      "state": {
       "description": "Show charge",
       "disabled": false,
       "layout": "IPY_MODEL_cd3faf4256294ac7aeadd82a8ee4e125",
       "style": "IPY_MODEL_e61ed8198db3453b8656e63cc2cd0778",
       "value": false
      }
     },
     "a427f03a883c4215839335c2ffe8665d": {
      "model_module": "@jupyter-widgets/output",
      "model_module_version": "1.0.0",
      "model_name": "OutputModel",
      "state": {
       "layout": "IPY_MODEL_74f69644c8be435989e3e538f5f269bd"
      }
     },
     "a462cedf2a104e32ae758915262abbf9": {
      "model_module": "@jupyter-widgets/controls",
      "model_module_version": "1.5.0",
      "model_name": "CheckboxModel",
      "state": {
       "description": "Show charge",
       "disabled": false,
       "layout": "IPY_MODEL_4478e5a07e944641ad83cf6a019b56e2",
       "style": "IPY_MODEL_656eab501aff426ab1ca55cd5d206c31",
       "value": false
      }
     },
     "a4ca6be67ec549629276ca5cb54f613f": {
      "model_module": "@jupyter-widgets/controls",
      "model_module_version": "1.5.0",
      "model_name": "SliderStyleModel",
      "state": {
       "description_width": ""
      }
     },
     "a598c8f82ed04228a88a6fb32cb5ec61": {
      "model_module": "@jupyter-widgets/base",
      "model_module_version": "1.2.0",
      "model_name": "LayoutModel",
      "state": {}
     },
     "a600bd57624e4a099b44ae0e46f86a94": {
      "model_module": "@jupyter-widgets/controls",
      "model_module_version": "1.5.0",
      "model_name": "LinkModel",
      "state": {
       "source": [
        "IPY_MODEL_d68a9596f3694003a9dee8b9d0e16b4d",
        "value"
       ],
       "target": [
        "IPY_MODEL_7693dbb62be54dc39cc14deec95b3e5e",
        "frame"
       ]
      }
     },
     "a64d3c2e9d3d4704906261d77c22ebc9": {
      "model_module": "@jupyter-widgets/base",
      "model_module_version": "1.2.0",
      "model_name": "LayoutModel",
      "state": {}
     },
     "a6bb34682e6445e6a127618d9df1ad08": {
      "model_module": "@jupyter-widgets/controls",
      "model_module_version": "1.5.0",
      "model_name": "LinkModel",
      "state": {
       "source": [
        "IPY_MODEL_dc73c59b56df4c88b8680eaaa0c938af",
        "value"
       ],
       "target": [
        "IPY_MODEL_ebae00c1277b46b5a1c7c369f26f1cea",
        "frame"
       ]
      }
     },
     "a71fc22d2a504a1cbe9707cad8f3e4ca": {
      "model_module": "@jupyter-widgets/controls",
      "model_module_version": "1.5.0",
      "model_name": "FloatSliderModel",
      "state": {
       "description": "Ball size",
       "layout": "IPY_MODEL_d69b2fea38794e51ab01bfcabaf47d86",
       "max": 1.5,
       "step": 0.01,
       "style": "IPY_MODEL_3bfeddefe49a47ce9e648770fb420cc7",
       "value": 0.5
      }
     },
     "a72cbd60ed42420683bc15de0318a61a": {
      "model_module": "@jupyter-widgets/controls",
      "model_module_version": "1.5.0",
      "model_name": "ButtonModel",
      "state": {
       "icon": "compress",
       "layout": "IPY_MODEL_75f197dc43b24c91a15066df0ac019fd",
       "style": "IPY_MODEL_103210eb57664e859863eaf420643a8b"
      }
     },
     "a74ce8cea8934d458149bd9cde4e4736": {
      "model_module": "@jupyter-widgets/controls",
      "model_module_version": "1.5.0",
      "model_name": "CheckboxModel",
      "state": {
       "description": "Show force",
       "disabled": false,
       "layout": "IPY_MODEL_da8f27f53a8442b3ba51d3675428666c",
       "style": "IPY_MODEL_034d03eb1e3f4a9bb3cfd937f6fce9d7",
       "value": false
      }
     },
     "a8fa35dfd7944ed29a68f74d90bf4a1e": {
      "model_module": "@jupyter-widgets/controls",
      "model_module_version": "1.5.0",
      "model_name": "DescriptionStyleModel",
      "state": {
       "description_width": ""
      }
     },
     "a902136341014b84bb22241381168238": {
      "model_module": "@jupyter-widgets/base",
      "model_module_version": "1.2.0",
      "model_name": "LayoutModel",
      "state": {}
     },
     "a9055b81c4d6462999d0ab8e9ddcc2b5": {
      "model_module": "@jupyter-widgets/base",
      "model_module_version": "1.2.0",
      "model_name": "LayoutModel",
      "state": {}
     },
     "a94970e6d934435eb6a329b6b545c2a5": {
      "model_module": "@jupyter-widgets/controls",
      "model_module_version": "1.5.0",
      "model_name": "ButtonStyleModel",
      "state": {}
     },
     "a9a41250f4c6451a87ab68daa7a43c58": {
      "model_module": "@jupyter-widgets/base",
      "model_module_version": "1.2.0",
      "model_name": "LayoutModel",
      "state": {}
     },
     "a9d024b0581d4228bcbc0c43c0547b1a": {
      "model_module": "@jupyter-widgets/controls",
      "model_module_version": "1.5.0",
      "model_name": "LinkModel",
      "state": {
       "source": [
        "IPY_MODEL_f1777673ae9542c49e550541368af9ac",
        "max"
       ],
       "target": [
        "IPY_MODEL_ebae00c1277b46b5a1c7c369f26f1cea",
        "max_frame"
       ]
      }
     },
     "a9e132616ece458b961b3471fd3e2611": {
      "model_module": "@jupyter-widgets/controls",
      "model_module_version": "1.5.0",
      "model_name": "IntSliderModel",
      "state": {
       "layout": "IPY_MODEL_b08c703e3fd44b7db0a272989b21bd9c",
       "max": 2,
       "style": "IPY_MODEL_ad2790d415774e3e84c6b70de9b160d0"
      }
     },
     "aa9acfdadbb649fa9c8fcc9432a498d0": {
      "model_module": "@jupyter-widgets/controls",
      "model_module_version": "1.5.0",
      "model_name": "DropdownModel",
      "state": {
       "_options_labels": [
        "All",
        "Pt",
        "H",
        "C"
       ],
       "description": "Show",
       "index": 0,
       "layout": "IPY_MODEL_f11ae858972249df89e99ecd5295f690",
       "style": "IPY_MODEL_a8fa35dfd7944ed29a68f74d90bf4a1e"
      }
     },
     "aaffc11a98604dfabe1858559f1302ef": {
      "model_module": "@jupyter-widgets/controls",
      "model_module_version": "1.5.0",
      "model_name": "HTMLModel",
      "state": {
       "layout": "IPY_MODEL_2524393424e54e27afd33b3ccb6f7d2f",
       "style": "IPY_MODEL_531405b8bf6d485f9a03eaf8b2b42851",
       "value": " 3/3 [00:14&lt;00:00,  5.09s/it]"
      }
     },
     "ad2790d415774e3e84c6b70de9b160d0": {
      "model_module": "@jupyter-widgets/controls",
      "model_module_version": "1.5.0",
      "model_name": "SliderStyleModel",
      "state": {
       "description_width": ""
      }
     },
     "ad7c2aec9d5a4a8fa84a7f398454d890": {
      "model_module": "@jupyter-widgets/controls",
      "model_module_version": "1.5.0",
      "model_name": "SliderStyleModel",
      "state": {
       "description_width": ""
      }
     },
     "addf8cc016bb459a81f8ec1a13a2c777": {
      "model_module": "@jupyter-widgets/controls",
      "model_module_version": "1.5.0",
      "model_name": "FloatSliderModel",
      "state": {
       "description": "Ball size",
       "layout": "IPY_MODEL_78687f9340e541d1940e4f04604e5b6f",
       "max": 1.5,
       "step": 0.01,
       "style": "IPY_MODEL_1772225076e04228b3e1f004ad631ec7",
       "value": 0.5
      }
     },
     "ae7f70f2bc4d40feaf6e9407889f5f35": {
      "model_module": "@jupyter-widgets/controls",
      "model_module_version": "1.5.0",
      "model_name": "DescriptionStyleModel",
      "state": {
       "description_width": ""
      }
     },
     "aeb6e581819c4140b01e12ccdec0bed6": {
      "model_module": "@jupyter-widgets/controls",
      "model_module_version": "1.5.0",
      "model_name": "DropdownModel",
      "state": {
       "_options_labels": [
        " ",
        "picking",
        "random",
        "uniform",
        "atomindex",
        "residueindex",
        "chainindex",
        "modelindex",
        "sstruc",
        "element",
        "resname",
        "bfactor",
        "hydrophobicity",
        "value",
        "volume",
        "occupancy"
       ],
       "description": "Color scheme",
       "index": 9,
       "layout": "IPY_MODEL_1f1ce67856f24a5a98c6d57ea147f37a",
       "style": "IPY_MODEL_b5f1ff19dd55481889365458b2d1493b"
      }
     },
     "af2e20c9801443cf999ab767f3af49f4": {
      "model_module": "@jupyter-widgets/controls",
      "model_module_version": "1.5.0",
      "model_name": "FloatProgressModel",
      "state": {
       "bar_style": "success",
       "layout": "IPY_MODEL_6ff6ba0dca5a4417b792585becc9eab0",
       "max": 3,
       "style": "IPY_MODEL_05b42593c7d146ee994facb2b9851b18",
       "value": 3
      }
     },
     "b08c703e3fd44b7db0a272989b21bd9c": {
      "model_module": "@jupyter-widgets/base",
      "model_module_version": "1.2.0",
      "model_name": "LayoutModel",
      "state": {}
     },
     "b282c8bfc461458daf1e4d7aaca8fd1a": {
      "model_module": "@jupyter-widgets/base",
      "model_module_version": "1.2.0",
      "model_name": "LayoutModel",
      "state": {}
     },
     "b290cec7c24448f39c4585883e3a381b": {
      "model_module": "@jupyter-widgets/controls",
      "model_module_version": "1.5.0",
      "model_name": "ButtonStyleModel",
      "state": {}
     },
     "b3c6b063b4214017b5eef3b9ef363b58": {
      "model_module": "@jupyter-widgets/controls",
      "model_module_version": "1.5.0",
      "model_name": "SliderStyleModel",
      "state": {
       "description_width": ""
      }
     },
     "b3d258ab810744019f3629923626c279": {
      "model_module": "@jupyter-widgets/base",
      "model_module_version": "1.2.0",
      "model_name": "LayoutModel",
      "state": {}
     },
     "b4a2df1e16a6435ca49c04a66fe10dc9": {
      "model_module": "@jupyter-widgets/controls",
      "model_module_version": "1.5.0",
      "model_name": "DescriptionStyleModel",
      "state": {
       "description_width": ""
      }
     },
     "b55eec8b77e84091b8a530c65b7df61e": {
      "model_module": "@jupyter-widgets/base",
      "model_module_version": "1.2.0",
      "model_name": "LayoutModel",
      "state": {}
     },
     "b5d7d8bdf72e474db1d44626244e67a4": {
      "model_module": "@jupyter-widgets/controls",
      "model_module_version": "1.5.0",
      "model_name": "FloatProgressModel",
      "state": {
       "bar_style": "success",
       "layout": "IPY_MODEL_b3d258ab810744019f3629923626c279",
       "max": 3,
       "style": "IPY_MODEL_66ff293a08e24bdfaff1921cefb65e9c",
       "value": 3
      }
     },
     "b5f1ff19dd55481889365458b2d1493b": {
      "model_module": "@jupyter-widgets/controls",
      "model_module_version": "1.5.0",
      "model_name": "DescriptionStyleModel",
      "state": {
       "description_width": ""
      }
     },
     "b6570dda4a9449189a2be94fb05a4cf0": {
      "model_module": "@jupyter-widgets/controls",
      "model_module_version": "1.5.0",
      "model_name": "FloatSliderModel",
      "state": {
       "description": "Charge scale",
       "layout": "IPY_MODEL_8e87409dc03e4ac0bb46eb43d358db18",
       "step": 0.1,
       "style": "IPY_MODEL_039252b72e264bbb96949cbfc12489ff",
       "value": 1
      }
     },
     "b70f340b77e24efe89ed8c4b01c630a1": {
      "model_module": "@jupyter-widgets/controls",
      "model_module_version": "1.5.0",
      "model_name": "HTMLModel",
      "state": {
       "layout": "IPY_MODEL_c4e27e57a3ed44f7a0098a3d646ced3d",
       "style": "IPY_MODEL_b907bef41b424d3a8c65e89b74db9bdd",
       "value": " 3/3 [01:14&lt;00:00, 29.63s/it]"
      }
     },
     "b907bef41b424d3a8c65e89b74db9bdd": {
      "model_module": "@jupyter-widgets/controls",
      "model_module_version": "1.5.0",
      "model_name": "DescriptionStyleModel",
      "state": {
       "description_width": ""
      }
     },
     "bad7f86537624c5b9b2f3c020612312a": {
      "model_module": "@jupyter-widgets/controls",
      "model_module_version": "1.5.0",
      "model_name": "ButtonModel",
      "state": {
       "description": "Save image",
       "layout": "IPY_MODEL_d07bd958750d4985af1caee48341b62f",
       "style": "IPY_MODEL_1145134980524ab085669f2aa4708daf",
       "tooltip": "Save current frame to file.\nCurrently .png and .html are supported.\nIt takes a bit time, please be patient."
      }
     },
     "bb1d65ccc93b4f3897dbafaa57c7859b": {
      "model_module": "@jupyter-widgets/base",
      "model_module_version": "1.2.0",
      "model_name": "LayoutModel",
      "state": {}
     },
     "bb698f40fef1418bb4e788dbcd479024": {
      "model_module": "@jupyter-widgets/base",
      "model_module_version": "1.2.0",
      "model_name": "LayoutModel",
      "state": {}
     },
     "bb816c588b8447c987b492492a6e32ac": {
      "model_module": "@jupyter-widgets/base",
      "model_module_version": "1.2.0",
      "model_name": "LayoutModel",
      "state": {}
     },
     "bbaf5c6695f84391ad3d5aa70456dd04": {
      "model_module": "@jupyter-widgets/base",
      "model_module_version": "1.2.0",
      "model_name": "LayoutModel",
      "state": {}
     },
     "bbf76997b4b74b738d5ad71df4a4ffbf": {
      "model_module": "@jupyter-widgets/controls",
      "model_module_version": "1.5.0",
      "model_name": "LinkModel",
      "state": {
       "source": [
        "IPY_MODEL_463aac2c6cb64f00b585baf92e663cfe",
        "value"
       ],
       "target": [
        "IPY_MODEL_5206fe8d746d4494832488f900fbdd01",
        "value"
       ]
      }
     },
     "bc201244cdf24e408c7e0ed1b2200eb3": {
      "model_module": "@jupyter-widgets/controls",
      "model_module_version": "1.5.0",
      "model_name": "FloatSliderModel",
      "state": {
       "description": "Ball size",
       "layout": "IPY_MODEL_1f4cfcf4f3084b5c9aefe8c3fce413f0",
       "max": 1.5,
       "step": 0.01,
       "style": "IPY_MODEL_a4ca6be67ec549629276ca5cb54f613f",
       "value": 0.5
      }
     },
     "bc9a2a1c13984452b7e5abeebc977ac7": {
      "model_module": "@jupyter-widgets/base",
      "model_module_version": "1.2.0",
      "model_name": "LayoutModel",
      "state": {}
     },
     "bcbef801dec6465aa4bec36d3dbed718": {
      "model_module": "@jupyter-widgets/base",
      "model_module_version": "1.2.0",
      "model_name": "LayoutModel",
      "state": {}
     },
     "be211e8882584785a8ba8daf6c5dfac2": {
      "model_module": "@jupyter-widgets/controls",
      "model_module_version": "1.5.0",
      "model_name": "DescriptionStyleModel",
      "state": {
       "description_width": ""
      }
     },
     "bf9e063c73d848b4aa0990f59a9213fa": {
      "model_module": "@jupyter-widgets/base",
      "model_module_version": "1.2.0",
      "model_name": "LayoutModel",
      "state": {}
     },
     "bfc9a3c8703844aca38d84650ca573c9": {
      "model_module": "@jupyter-widgets/controls",
      "model_module_version": "1.5.0",
      "model_name": "SliderStyleModel",
      "state": {
       "description_width": ""
      }
     },
     "c19cca9135a94ba48747a925858c93bd": {
      "model_module": "@jupyter-widgets/controls",
      "model_module_version": "1.5.0",
      "model_name": "SliderStyleModel",
      "state": {
       "description_width": ""
      }
     },
     "c1b7a0d2f8284923be9314d0c1f389de": {
      "model_module": "@jupyter-widgets/base",
      "model_module_version": "1.2.0",
      "model_name": "LayoutModel",
      "state": {}
     },
     "c37bbbfadc46408eae2a423567a1f59d": {
      "model_module": "@jupyter-widgets/controls",
      "model_module_version": "1.5.0",
      "model_name": "HBoxModel",
      "state": {
       "children": [
        "IPY_MODEL_6242f9544e4b40059f6e87d06fd33f53",
        "IPY_MODEL_6b152aecd7134516b360bbe4fb2e691b"
       ],
       "layout": "IPY_MODEL_82b722e2565840c58ebaefad532b9d8b"
      }
     },
     "c49d23d649e84769b40654b61847a545": {
      "model_module": "@jupyter-widgets/base",
      "model_module_version": "1.2.0",
      "model_name": "LayoutModel",
      "state": {}
     },
     "c4cac780059d457b96fc66117b636702": {
      "model_module": "@jupyter-widgets/controls",
      "model_module_version": "1.5.0",
      "model_name": "LinkModel",
      "state": {
       "source": [
        "IPY_MODEL_97036251243f4948b5d31d4085a9d117",
        "value"
       ],
       "target": [
        "IPY_MODEL_eb783f19648a420980f55b051ea2f1ed",
        "frame"
       ]
      }
     },
     "c4de356d91374803ab28dcd6704c9308": {
      "model_module": "@jupyter-widgets/base",
      "model_module_version": "1.2.0",
      "model_name": "LayoutModel",
      "state": {}
     },
     "c4e27e57a3ed44f7a0098a3d646ced3d": {
      "model_module": "@jupyter-widgets/base",
      "model_module_version": "1.2.0",
      "model_name": "LayoutModel",
      "state": {}
     },
     "c5c44493a6344515a00e27a670819442": {
      "model_module": "@jupyter-widgets/controls",
      "model_module_version": "1.5.0",
      "model_name": "SliderStyleModel",
      "state": {
       "description_width": ""
      }
     },
     "c693620f472449e7aa0a92d6d3969822": {
      "model_module": "@jupyter-widgets/controls",
      "model_module_version": "1.5.0",
      "model_name": "FloatSliderModel",
      "state": {
       "description": "Force scale",
       "layout": "IPY_MODEL_bb816c588b8447c987b492492a6e32ac",
       "step": 0.1,
       "style": "IPY_MODEL_e07aa8fc137d434592cdc04e86e47692",
       "value": 0.5
      }
     },
     "c72882f80a424c57b2f5cbb2c6785ab9": {
      "model_module": "@jupyter-widgets/base",
      "model_module_version": "1.2.0",
      "model_name": "LayoutModel",
      "state": {}
     },
     "c7a55a6ad1dc469db3b691af526e62cc": {
      "model_module": "@jupyter-widgets/controls",
      "model_module_version": "1.5.0",
      "model_name": "LinkModel",
      "state": {
       "source": [
        "IPY_MODEL_463aac2c6cb64f00b585baf92e663cfe",
        "value"
       ],
       "target": [
        "IPY_MODEL_f3ea7e5147d940a6ba282b8eb5f1a8e6",
        "frame"
       ]
      }
     },
     "c92ea013328b4ab9805900b70bd994da": {
      "model_module": "@jupyter-widgets/base",
      "model_module_version": "1.2.0",
      "model_name": "LayoutModel",
      "state": {}
     },
     "ccef461dcd00447e98af38766ea408fc": {
      "model_module": "@jupyter-widgets/controls",
      "model_module_version": "1.5.0",
      "model_name": "CheckboxModel",
      "state": {
       "description": "Show force",
       "disabled": false,
       "layout": "IPY_MODEL_2a72a1c5b56f41be83586050656995f4",
       "style": "IPY_MODEL_be211e8882584785a8ba8daf6c5dfac2",
       "value": false
      }
     },
     "ccf9f835688e40c5a8d2a3d540762183": {
      "model_module": "@jupyter-widgets/controls",
      "model_module_version": "1.5.0",
      "model_name": "ButtonStyleModel",
      "state": {}
     },
     "cd3faf4256294ac7aeadd82a8ee4e125": {
      "model_module": "@jupyter-widgets/base",
      "model_module_version": "1.2.0",
      "model_name": "LayoutModel",
      "state": {}
     },
     "cdb626cfe18b4dceb7ac042d53598089": {
      "model_module": "@jupyter-widgets/base",
      "model_module_version": "1.2.0",
      "model_name": "LayoutModel",
      "state": {}
     },
     "cdd1d8c5a7414a9d842fbf632b684de7": {
      "model_module": "@jupyter-widgets/controls",
      "model_module_version": "1.5.0",
      "model_name": "ButtonStyleModel",
      "state": {}
     },
     "cfa50ee2db49472eb8d0a4b05b59236f": {
      "model_module": "@jupyter-widgets/controls",
      "model_module_version": "1.5.0",
      "model_name": "ImageModel",
      "state": {
       "layout": "IPY_MODEL_4d86e4790c534e098e2f4634cbd7d424",
       "width": "900.0"
      }
     },
     "d07bd958750d4985af1caee48341b62f": {
      "model_module": "@jupyter-widgets/base",
      "model_module_version": "1.2.0",
      "model_name": "LayoutModel",
      "state": {}
     },
     "d08e74ccf66c4476bfe3d005a6d0ca7b": {
      "model_module": "@jupyter-widgets/controls",
      "model_module_version": "1.5.0",
      "model_name": "LinkModel",
      "state": {
       "source": [
        "IPY_MODEL_d68a9596f3694003a9dee8b9d0e16b4d",
        "value"
       ],
       "target": [
        "IPY_MODEL_a37e85be654c4c42b11f581f5f5637fa",
        "value"
       ]
      }
     },
     "d0c1ad26835547728d70e83c797aedb6": {
      "model_module": "@jupyter-widgets/base",
      "model_module_version": "1.2.0",
      "model_name": "LayoutModel",
      "state": {}
     },
     "d3954ea710b64639baae9e1090963fa2": {
      "model_module": "@jupyter-widgets/controls",
      "model_module_version": "1.5.0",
      "model_name": "HBoxModel",
      "state": {
       "children": [
        "IPY_MODEL_dc73c59b56df4c88b8680eaaa0c938af",
        "IPY_MODEL_f1777673ae9542c49e550541368af9ac"
       ],
       "layout": "IPY_MODEL_2db98562dae548f6904ef088bcf63575"
      }
     },
     "d3d1d127b2094915a89744870013534b": {
      "model_module": "@jupyter-widgets/controls",
      "model_module_version": "1.5.0",
      "model_name": "LinkModel",
      "state": {
       "source": [
        "IPY_MODEL_dc73c59b56df4c88b8680eaaa0c938af",
        "max"
       ],
       "target": [
        "IPY_MODEL_ebae00c1277b46b5a1c7c369f26f1cea",
        "max_frame"
       ]
      }
     },
     "d52fb2ce9baa41aaa6dce4ccdfc38497": {
      "model_module": "@jupyter-widgets/controls",
      "model_module_version": "1.5.0",
      "model_name": "HBoxModel",
      "state": {
       "children": [
        "IPY_MODEL_9bc9a8ae7c8b4778ad94c99dbd9ff416",
        "IPY_MODEL_34ccd5dc565b418e825f46234684fd95",
        "IPY_MODEL_02d366fa19f54176bbfb2e87c402ddc7"
       ],
       "layout": "IPY_MODEL_bb1d65ccc93b4f3897dbafaa57c7859b"
      }
     },
     "d58db3196660456abb0c959b3442586a": {
      "model_module": "@jupyter-widgets/controls",
      "model_module_version": "1.5.0",
      "model_name": "TextModel",
      "state": {
       "description": "Filename: ",
       "layout": "IPY_MODEL_bf9e063c73d848b4aa0990f59a9213fa",
       "style": "IPY_MODEL_9091dfc087ec4294a2a52a57138dcc90",
       "value": "screenshot.png"
      }
     },
     "d5d6469b2a114806bf2bc0cb97a17974": {
      "model_module": "@jupyter-widgets/controls",
      "model_module_version": "1.5.0",
      "model_name": "SliderStyleModel",
      "state": {
       "description_width": ""
      }
     },
     "d5f3f53d951f48e8b595fb27a6fd9bd5": {
      "model_module": "@jupyter-widgets/base",
      "model_module_version": "1.2.0",
      "model_name": "LayoutModel",
      "state": {}
     },
     "d60fd7ff479f40acace59b31dd0eaa25": {
      "model_module": "@jupyter-widgets/base",
      "model_module_version": "1.2.0",
      "model_name": "LayoutModel",
      "state": {}
     },
     "d670ab8a34634f1f8d0e2ef086bf8526": {
      "model_module": "@jupyter-widgets/controls",
      "model_module_version": "1.5.0",
      "model_name": "ImageModel",
      "state": {
       "layout": "IPY_MODEL_2b7d09f3f6944e9c96096883b2061311",
       "width": "900.0"
      }
     },
     "d68a9596f3694003a9dee8b9d0e16b4d": {
      "model_module": "@jupyter-widgets/controls",
      "model_module_version": "1.5.0",
      "model_name": "PlayModel",
      "state": {
       "layout": "IPY_MODEL_0b73bd50509c4cfeb8bc706845687ce2",
       "max": 0,
       "style": "IPY_MODEL_f2480cef4d7a4fa7a996116ffb41c22f"
      }
     },
     "d69b2fea38794e51ab01bfcabaf47d86": {
      "model_module": "@jupyter-widgets/base",
      "model_module_version": "1.2.0",
      "model_name": "LayoutModel",
      "state": {}
     },
     "d6babd15e2e342f29a9dd35c7c9119da": {
      "model_module": "@jupyter-widgets/base",
      "model_module_version": "1.2.0",
      "model_name": "LayoutModel",
      "state": {}
     },
     "d78556a8a71148babbddd4d785149f3e": {
      "model_module": "@jupyter-widgets/base",
      "model_module_version": "1.2.0",
      "model_name": "LayoutModel",
      "state": {}
     },
     "d7e14cab40d9411eaf2e97666bb8c271": {
      "model_module": "@jupyter-widgets/controls",
      "model_module_version": "1.5.0",
      "model_name": "DescriptionStyleModel",
      "state": {
       "description_width": ""
      }
     },
     "d8551b0934bd456ca42b6a62e5c50ba8": {
      "model_module": "@jupyter-widgets/controls",
      "model_module_version": "1.5.0",
      "model_name": "LinkModel",
      "state": {
       "source": [
        "IPY_MODEL_dc73c59b56df4c88b8680eaaa0c938af",
        "value"
       ],
       "target": [
        "IPY_MODEL_f1777673ae9542c49e550541368af9ac",
        "value"
       ]
      }
     },
     "d859d676be6445c08ef04f31d8ee66ba": {
      "model_module": "@jupyter-widgets/base",
      "model_module_version": "1.2.0",
      "model_name": "LayoutModel",
      "state": {}
     },
     "d85fd4ec428b4aee99b7ec7da715cedc": {
      "model_module": "@jupyter-widgets/output",
      "model_module_version": "1.0.0",
      "model_name": "OutputModel",
      "state": {
       "layout": "IPY_MODEL_de0a13ecfd024c72a009e08cc56aec7b"
      }
     },
     "d916684e43724aa2b44a570d0c3d294f": {
      "model_module": "@jupyter-widgets/controls",
      "model_module_version": "1.5.0",
      "model_name": "HTMLModel",
      "state": {
       "layout": "IPY_MODEL_ebb2adeb39b84044b873f4e41c1ecb85",
       "style": "IPY_MODEL_0af9964764f4479b8d9126c3094584ac",
       "value": "100%"
      }
     },
     "d9d80aae69df4a40ab5535acc0493740": {
      "model_module": "@jupyter-widgets/controls",
      "model_module_version": "1.5.0",
      "model_name": "FloatSliderModel",
      "state": {
       "description": "Force scale",
       "layout": "IPY_MODEL_310c31c95c33447fbb44728de6b80bf9",
       "step": 0.1,
       "style": "IPY_MODEL_5ce18f255f5d47fe907a25be04c72503",
       "value": 0.5
      }
     },
     "da8f27f53a8442b3ba51d3675428666c": {
      "model_module": "@jupyter-widgets/base",
      "model_module_version": "1.2.0",
      "model_name": "LayoutModel",
      "state": {}
     },
     "dc00f82f44e8449bac4d75521d976648": {
      "model_module": "@jupyter-widgets/controls",
      "model_module_version": "1.5.0",
      "model_name": "ButtonStyleModel",
      "state": {}
     },
     "dc5da805565546348f9d28ddb2055d70": {
      "model_module": "@jupyter-widgets/base",
      "model_module_version": "1.2.0",
      "model_name": "LayoutModel",
      "state": {}
     },
     "dc73c59b56df4c88b8680eaaa0c938af": {
      "model_module": "@jupyter-widgets/controls",
      "model_module_version": "1.5.0",
      "model_name": "PlayModel",
      "state": {
       "layout": "IPY_MODEL_4fedb6360baa41eea9a39972bf796774",
       "max": 0,
       "style": "IPY_MODEL_d7e14cab40d9411eaf2e97666bb8c271"
      }
     },
     "de0a13ecfd024c72a009e08cc56aec7b": {
      "model_module": "@jupyter-widgets/base",
      "model_module_version": "1.2.0",
      "model_name": "LayoutModel",
      "state": {
       "border": "0px solid black"
      }
     },
     "de68664c6d7948fa803f7a290b11bc83": {
      "model_module": "@jupyter-widgets/controls",
      "model_module_version": "1.5.0",
      "model_name": "LinkModel",
      "state": {
       "source": [
        "IPY_MODEL_a399bc381e4f4713917e93aebff7b0da",
        "max"
       ],
       "target": [
        "IPY_MODEL_f8474b9ce6ec493e855d01b142e16b1e",
        "max_frame"
       ]
      }
     },
     "df213359667840c9a32267c012e9f3b3": {
      "model_module": "@jupyter-widgets/base",
      "model_module_version": "1.2.0",
      "model_name": "LayoutModel",
      "state": {}
     },
     "df48fee4661d40f39008150b01a1a8ce": {
      "model_module": "@jupyter-widgets/controls",
      "model_module_version": "1.5.0",
      "model_name": "ButtonModel",
      "state": {
       "icon": "compress",
       "layout": "IPY_MODEL_203c428f1d0b4dcf8bf03dfb3ba9e59b",
       "style": "IPY_MODEL_6ff03265f100421d85782fb568ac0c28"
      }
     },
     "df8209cd74724ef4a8707b9d7b5a43c7": {
      "model_module": "@jupyter-widgets/controls",
      "model_module_version": "1.5.0",
      "model_name": "FloatSliderModel",
      "state": {
       "description": "Ball size",
       "layout": "IPY_MODEL_c49d23d649e84769b40654b61847a545",
       "max": 1.5,
       "step": 0.01,
       "style": "IPY_MODEL_8e328658dd084b10bafc73c4d82b3d9a",
       "value": 0.5
      }
     },
     "e0533fd5c7f14340b3e47c5c00ea78eb": {
      "model_module": "@jupyter-widgets/controls",
      "model_module_version": "1.5.0",
      "model_name": "ButtonModel",
      "state": {
       "description": "Save image",
       "layout": "IPY_MODEL_e6bf25b4d4cc4abb844b4f5dbfd5b7c1",
       "style": "IPY_MODEL_dc00f82f44e8449bac4d75521d976648",
       "tooltip": "Save current frame to file.\nCurrently .png and .html are supported.\nIt takes a bit time, please be patient."
      }
     },
     "e07aa8fc137d434592cdc04e86e47692": {
      "model_module": "@jupyter-widgets/controls",
      "model_module_version": "1.5.0",
      "model_name": "SliderStyleModel",
      "state": {
       "description_width": ""
      }
     },
     "e0fd4785c4fb417da45e56da519fcf23": {
      "model_module": "@jupyter-widgets/base",
      "model_module_version": "1.2.0",
      "model_name": "LayoutModel",
      "state": {}
     },
     "e28b5f8d770d44d6b9fcf6a59bc389dc": {
      "model_module": "@jupyter-widgets/controls",
      "model_module_version": "1.5.0",
      "model_name": "ImageModel",
      "state": {
       "layout": "IPY_MODEL_bcbef801dec6465aa4bec36d3dbed718",
       "width": "900.0"
      }
     },
     "e3c09f502088411a80fb71b343f1a18a": {
      "model_module": "@jupyter-widgets/base",
      "model_module_version": "1.2.0",
      "model_name": "LayoutModel",
      "state": {}
     },
     "e40529014277477fad1a87505d7c8ab9": {
      "model_module": "@jupyter-widgets/controls",
      "model_module_version": "1.5.0",
      "model_name": "FloatProgressModel",
      "state": {
       "bar_style": "success",
       "layout": "IPY_MODEL_ea5995c602644b36a8661d527d0ada51",
       "max": 3,
       "style": "IPY_MODEL_956153e7571b4555aed983812903e4ce",
       "value": 3
      }
     },
     "e4a27a8e06b84a2882c032019b354044": {
      "model_module": "@jupyter-widgets/controls",
      "model_module_version": "1.5.0",
      "model_name": "SliderStyleModel",
      "state": {
       "description_width": ""
      }
     },
     "e4c2e5163b0047b7956ef961929f6df1": {
      "model_module": "@jupyter-widgets/controls",
      "model_module_version": "1.5.0",
      "model_name": "HBoxModel",
      "state": {
       "children": [
        "IPY_MODEL_932eaab0f185472380c47225001295b1",
        "IPY_MODEL_e40529014277477fad1a87505d7c8ab9",
        "IPY_MODEL_f622f67312404623b50a69c603e42208"
       ],
       "layout": "IPY_MODEL_268bd2bafddf489ab8443f714201d1bb"
      }
     },
     "e54d9da943fc4781ba7a4949c48f216c": {
      "model_module": "@jupyter-widgets/controls",
      "model_module_version": "1.5.0",
      "model_name": "ButtonStyleModel",
      "state": {}
     },
     "e61ed8198db3453b8656e63cc2cd0778": {
      "model_module": "@jupyter-widgets/controls",
      "model_module_version": "1.5.0",
      "model_name": "DescriptionStyleModel",
      "state": {
       "description_width": ""
      }
     },
     "e62551af7f264b46b2f707e92fdd150f": {
      "model_module": "@jupyter-widgets/controls",
      "model_module_version": "1.5.0",
      "model_name": "TextModel",
      "state": {
       "description": "Filename: ",
       "layout": "IPY_MODEL_e3c09f502088411a80fb71b343f1a18a",
       "style": "IPY_MODEL_25b3cc28aa3d41cbb21d014199f919e9",
       "value": "screenshot.png"
      }
     },
     "e6bf25b4d4cc4abb844b4f5dbfd5b7c1": {
      "model_module": "@jupyter-widgets/base",
      "model_module_version": "1.2.0",
      "model_name": "LayoutModel",
      "state": {}
     },
     "e79f758243154e9aa08da9f1af6487d7": {
      "model_module": "@jupyter-widgets/base",
      "model_module_version": "1.2.0",
      "model_name": "LayoutModel",
      "state": {}
     },
     "e7fda14f77104c33bbedc044fa9d2b10": {
      "model_module": "@jupyter-widgets/base",
      "model_module_version": "1.2.0",
      "model_name": "LayoutModel",
      "state": {}
     },
     "e885666215bb4f728f16679ebb25f3eb": {
      "model_module": "@jupyter-widgets/controls",
      "model_module_version": "1.5.0",
      "model_name": "HBoxModel",
      "state": {
       "children": [
        "IPY_MODEL_ebae00c1277b46b5a1c7c369f26f1cea",
        "IPY_MODEL_eeb0d92773aa4b09947005b2dd967b8e"
       ],
       "layout": "IPY_MODEL_667ec1aa56c344f280e496f34bb60922"
      }
     },
     "e8e2a889cc78471c8ba6fd940e4acf67": {
      "model_module": "@jupyter-widgets/controls",
      "model_module_version": "1.5.0",
      "model_name": "HBoxModel",
      "state": {
       "children": [
        "IPY_MODEL_f3ea7e5147d940a6ba282b8eb5f1a8e6",
        "IPY_MODEL_11fbfbbc0db34b1a9e20f857eab3c9dc"
       ],
       "layout": "IPY_MODEL_c4de356d91374803ab28dcd6704c9308"
      }
     },
     "e9a564e320594df19303624611bc43d0": {
      "model_module": "@jupyter-widgets/base",
      "model_module_version": "1.2.0",
      "model_name": "LayoutModel",
      "state": {}
     },
     "ea5995c602644b36a8661d527d0ada51": {
      "model_module": "@jupyter-widgets/base",
      "model_module_version": "1.2.0",
      "model_name": "LayoutModel",
      "state": {}
     },
     "eafd0e5556e34311a2364ad01e332ec8": {
      "model_module": "@jupyter-widgets/controls",
      "model_module_version": "1.5.0",
      "model_name": "DescriptionStyleModel",
      "state": {
       "description_width": ""
      }
     },
     "eb783f19648a420980f55b051ea2f1ed": {
      "model_module": "nglview-js-widgets",
      "model_module_version": "3.0.1",
      "model_name": "NGLModel",
      "state": {
       "_camera_orientation": [
        26.668436736314497,
        0.2035454067318838,
        -0.16797696846313478,
        0,
        -0.13132354186137782,
        -4.489097042676415,
        -26.288893602092337,
        0,
        -0.22891291332883731,
        26.288433615606973,
        -4.487874983695403,
        0,
        -7.633500099182129,
        -4.391000209376216,
        -26.413000106811523,
        1
       ],
       "_camera_str": "orthographic",
       "_gui_theme": null,
       "_ibtn_fullscreen": "IPY_MODEL_2bbeea9019ea4963ba69fa0df3a0e285",
       "_igui": null,
       "_iplayer": "IPY_MODEL_2ea8433bb6444b21947ab7b8be9410d9",
       "_ngl_color_dict": {},
       "_ngl_coordinate_resource": {},
       "_ngl_full_stage_parameters": {
        "ambientColor": 14540253,
        "ambientIntensity": 0.2,
        "backgroundColor": "white",
        "cameraEyeSep": 0.3,
        "cameraFov": 40,
        "cameraType": "orthographic",
        "clipDist": 0,
        "clipFar": 100,
        "clipNear": 0,
        "fogFar": 100,
        "fogNear": 50,
        "hoverTimeout": 0,
        "impostor": true,
        "lightColor": 14540253,
        "lightIntensity": 1,
        "mousePreset": "default",
        "panSpeed": 1,
        "quality": "medium",
        "rotateSpeed": 2,
        "sampleLevel": 0,
        "tooltip": true,
        "workerDefault": true,
        "zoomSpeed": 1.2
       },
       "_ngl_msg_archive": [
        {
         "args": [
          {
           "binary": false,
           "data": "CRYST1   11.097   11.097   46.796  90.00  90.00  60.00 P 1\nMODEL     1\nATOM      1   Pt MOL     1       0.000   0.000  20.000  1.00  0.00          PT  \nATOM      2   Pt MOL     1       2.774   1.602  22.265  1.00  0.00          PT  \nATOM      3   Pt MOL     1       1.390   0.786  24.536  1.00  0.00          PT  \nATOM      4   Pt MOL     1       2.778  -0.021  26.850  1.00  0.00          PT  \nATOM      5   Pt MOL     1       1.387   2.403  20.000  1.00  0.00          PT  \nATOM      6   Pt MOL     1       4.162   4.004  22.265  1.00  0.00          PT  \nATOM      7   Pt MOL     1       2.775   3.195  24.527  1.00  0.00          PT  \nATOM      8   Pt MOL     1       4.154   2.373  26.821  1.00  0.00          PT  \nATOM      9   Pt MOL     1       2.774   4.805  20.000  1.00  0.00          PT  \nATOM     10   Pt MOL     1       5.549   6.407  22.265  1.00  0.00          PT  \nATOM     11   Pt MOL     1       4.167   5.595  24.535  1.00  0.00          PT  \nATOM     12   Pt MOL     1       5.548   4.786  26.847  1.00  0.00          PT  \nATOM     13   Pt MOL     1       4.162   7.208  20.000  1.00  0.00          PT  \nATOM     14   Pt MOL     1       6.936   8.810  22.265  1.00  0.00          PT  \nATOM     15   Pt MOL     1       5.551   7.996  24.533  1.00  0.00          PT  \nATOM     16   Pt MOL     1       6.944   7.194  26.845  1.00  0.00          PT  \nATOM     17   Pt MOL     1       2.774   0.000  20.000  1.00  0.00          PT  \nATOM     18   Pt MOL     1       5.549   1.602  22.265  1.00  0.00          PT  \nATOM     19   Pt MOL     1       4.163   0.782  24.530  1.00  0.00          PT  \nATOM     20   Pt MOL     1       5.551  -0.026  26.844  1.00  0.00          PT  \nATOM     21   Pt MOL     1       4.162   2.403  20.000  1.00  0.00          PT  \nATOM     22   Pt MOL     1       6.936   4.004  22.265  1.00  0.00          PT  \nATOM     23   Pt MOL     1       5.550   3.193  24.525  1.00  0.00          PT  \nATOM     24   Pt MOL     1       6.941   2.351  26.794  1.00  0.00          PT  \nATOM     25   Pt MOL     1       5.549   4.805  20.000  1.00  0.00          PT  \nATOM     26   Pt MOL     1       8.323   6.407  22.265  1.00  0.00          PT  \nATOM     27   Pt MOL     1       6.939   5.596  24.535  1.00  0.00          PT  \nATOM     28   Pt MOL     1       8.342   4.786  26.829  1.00  0.00          PT  \nATOM     29   Pt MOL     1       6.936   7.208  20.000  1.00  0.00          PT  \nATOM     30   Pt MOL     1       9.710   8.810  22.265  1.00  0.00          PT  \nATOM     31   Pt MOL     1       8.326   7.997  24.533  1.00  0.00          PT  \nATOM     32   Pt MOL     1       9.716   7.194  26.844  1.00  0.00          PT  \nATOM     33   Pt MOL     1       5.549   0.000  20.000  1.00  0.00          PT  \nATOM     34   Pt MOL     1       8.323   1.602  22.265  1.00  0.00          PT  \nATOM     35   Pt MOL     1       6.938   0.777  24.522  1.00  0.00          PT  \nATOM     36   Pt MOL     1       8.329  -0.028  26.845  1.00  0.00          PT  \nATOM     37   Pt MOL     1       6.936   2.403  20.000  1.00  0.00          PT  \nATOM     38   Pt MOL     1       9.710   4.004  22.265  1.00  0.00          PT  \nATOM     39   Pt MOL     1       8.329   3.191  24.522  1.00  0.00          PT  \nATOM     40   Pt MOL     1       9.734   2.363  26.812  1.00  0.00          PT  \nATOM     41   Pt MOL     1       8.323   4.805  20.000  1.00  0.00          PT  \nATOM     42   Pt MOL     1      11.097   6.407  22.265  1.00  0.00          PT  \nATOM     43   Pt MOL     1       9.716   5.599  24.529  1.00  0.00          PT  \nATOM     44   Pt MOL     1      11.117   4.788  26.828  1.00  0.00          PT  \nATOM     45   Pt MOL     1       9.710   7.208  20.000  1.00  0.00          PT  \nATOM     46   Pt MOL     1      12.485   8.810  22.265  1.00  0.00          PT  \nATOM     47   Pt MOL     1      11.103   7.993  24.532  1.00  0.00          PT  \nATOM     48   Pt MOL     1      12.491   7.190  26.849  1.00  0.00          PT  \nATOM     49   Pt MOL     1       8.323   0.000  20.000  1.00  0.00          PT  \nATOM     50   Pt MOL     1      11.097   1.602  22.265  1.00  0.00          PT  \nATOM     51   Pt MOL     1       9.713   0.779  24.527  1.00  0.00          PT  \nATOM     52   Pt MOL     1      11.104  -0.025  26.850  1.00  0.00          PT  \nATOM     53   Pt MOL     1       9.710   2.403  20.000  1.00  0.00          PT  \nATOM     54   Pt MOL     1      12.485   4.004  22.265  1.00  0.00          PT  \nATOM     55   Pt MOL     1      11.104   3.194  24.526  1.00  0.00          PT  \nATOM     56   Pt MOL     1      12.494   2.382  26.843  1.00  0.00          PT  \nATOM     57   Pt MOL     1      11.097   4.805  20.000  1.00  0.00          PT  \nATOM     58   Pt MOL     1      13.872   6.407  22.265  1.00  0.00          PT  \nATOM     59   Pt MOL     1      12.491   5.600  24.527  1.00  0.00          PT  \nATOM     60   Pt MOL     1      13.873   4.789  26.842  1.00  0.00          PT  \nATOM     61   Pt MOL     1      12.485   7.208  20.000  1.00  0.00          PT  \nATOM     62   Pt MOL     1      15.259   8.810  22.265  1.00  0.00          PT  \nATOM     63   Pt MOL     1      13.875   7.991  24.533  1.00  0.00          PT  \nATOM     64   Pt MOL     1      15.267   7.191  26.847  1.00  0.00          PT  \nATOM     65    C MOL     1       8.721   5.303  31.877  1.00  0.00           C  \nATOM     66    C MOL     1       7.930   4.498  30.878  1.00  0.00           C  \nATOM     67    C MOL     1       6.562   4.433  30.889  1.00  0.00           C  \nATOM     68    C MOL     1       5.713   5.155  31.897  1.00  0.00           C  \nATOM     69    C MOL     1       5.822   3.741  29.808  1.00  0.00           C  \nATOM     70    C MOL     1       8.707   3.859  29.790  1.00  0.00           C  \nATOM     71    H MOL     1       8.834   4.752  32.826  1.00  0.00           H  \nATOM     72    H MOL     1       9.733   5.502  31.501  1.00  0.00           H  \nATOM     73    H MOL     1       8.245   6.264  32.113  1.00  0.00           H  \nATOM     74    H MOL     1       4.819   4.563  32.142  1.00  0.00           H  \nATOM     75    H MOL     1       6.254   5.369  32.826  1.00  0.00           H  \nATOM     76    H MOL     1       5.350   6.114  31.491  1.00  0.00           H  \nATOM     77    H MOL     1       5.722   4.455  28.911  1.00  0.00           H  \nATOM     78    H MOL     1       6.327   2.857  29.391  1.00  0.00           H  \nATOM     79    H MOL     1       4.788   3.478  30.061  1.00  0.00           H  \nATOM     80    H MOL     1       9.794   3.927  29.909  1.00  0.00           H  \nATOM     81    H MOL     1       8.486   4.450  28.821  1.00  0.00           H  \nATOM     82    H MOL     1       8.431   2.827  29.533  1.00  0.00           H  \nENDMDL\n",
           "type": "blob"
          }
         ],
         "kwargs": {
          "defaultRepresentation": false,
          "ext": "pdb"
         },
         "methodName": "loadFile",
         "reconstruc_color_scheme": false,
         "target": "Stage",
         "type": "call_method"
        },
        {
         "args": [
          "500px",
          "500px"
         ],
         "kwargs": {},
         "methodName": "setSize",
         "reconstruc_color_scheme": false,
         "target": "Widget",
         "type": "call_method"
        },
        {
         "args": [
          "unitcell"
         ],
         "component_index": 0,
         "kwargs": {
          "sele": "all"
         },
         "methodName": "addRepresentation",
         "reconstruc_color_scheme": false,
         "target": "compList",
         "type": "call_method"
        },
        {
         "args": [
          "spacefill"
         ],
         "component_index": 0,
         "kwargs": {
          "sele": "all"
         },
         "methodName": "addRepresentation",
         "reconstruc_color_scheme": false,
         "target": "compList",
         "type": "call_method"
        },
        {
         "args": [],
         "kwargs": {
          "cameraType": "orthographic"
         },
         "methodName": "setParameters",
         "reconstruc_color_scheme": false,
         "target": "Stage",
         "type": "call_method"
        },
        {
         "args": [
          {
           "clipDist": 0
          }
         ],
         "kwargs": {},
         "methodName": "setParameters",
         "reconstruc_color_scheme": false,
         "target": "Widget",
         "type": "call_method"
        },
        {
         "args": [
          "spacefill",
          0
         ],
         "kwargs": {
          "colorScale": "rainbow",
          "colorScheme": "element",
          "radiusScale": 0.5,
          "radiusType": "covalent"
         },
         "methodName": "updateRepresentationsByName",
         "reconstruc_color_scheme": false,
         "target": "Widget",
         "type": "call_method"
        },
        {
         "args": [
          "this._Q = [[1.0, 0.0, 0.0], [0.0, 1.0, 0.0], [0.0, 0.0, 1.0]]\n    var tooltip = document.createElement('div')\n    Object.assign(tooltip.style, {\n      display: 'none',\n      position: 'fixed',\n      zIndex: 10,\n      pointerEvents: 'none',\n      backgroundColor: 'rgba( 0, 0, 0, 0.6 )',\n      color: 'lightgrey',\n      padding: '8px',\n      fontFamily: 'sans-serif'\n    })\n    document.body.appendChild(tooltip)\n\n    var that = this\n    this.stage.mouseControls.remove('hoverPick')\n    this.stage.signals.hovered.add(function (pickingProxy) {\n      if (pickingProxy && (pickingProxy.atom || pickingProxy.bond)) {\n        var atom = pickingProxy.atom || pickingProxy.closestBondAtom\n        var mp = pickingProxy.mouse.position\n        //tooltip.innerText = atom.element + ' i=' + atom.index + ' (' + atom.x.toFixed(2) +  ', ' + atom.y.toFixed(2) +  ', ' + atom.z.toFixed(2) + ')'\n        //var pos = that._atoms_pos[atom.index]\n        var Q = that._Q\n        var pos_x = Q[0][0] * atom.x + Q[0][1] * atom.y + Q[0][2] * atom.z \n        var pos_y = Q[1][0] * atom.x + Q[1][1] * atom.y + Q[1][2] * atom.z\n        var pos_z = Q[2][0] * atom.x + Q[2][1] * atom.y + Q[2][2] * atom.z\n        tooltip.innerText = 'i=' + atom.index + ' ' + atom.element + ' (' + pos_x.toFixed(2) +  ', ' + pos_y.toFixed(2) +  ', ' + pos_z.toFixed(2) + ')'\n        tooltip.style.bottom = window.innerHeight - mp.y + 3 + 'px'\n        tooltip.style.left = mp.x + 3 + 'px'\n        tooltip.style.display = 'block'\n      } else {\n        tooltip.style.display = 'none'\n      }\n    })\n    "
         ],
         "kwargs": {},
         "methodName": "executeCode",
         "reconstruc_color_scheme": false,
         "target": "Widget",
         "type": "call_method"
        },
        {
         "args": [
          "ball+stick"
         ],
         "component_index": 0,
         "kwargs": {
          "sele": "all"
         },
         "methodName": "addRepresentation",
         "reconstruc_color_scheme": false,
         "target": "compList",
         "type": "call_method"
        }
       ],
       "_ngl_original_stage_parameters": {
        "ambientColor": 14540253,
        "ambientIntensity": 0.2,
        "backgroundColor": "white",
        "cameraEyeSep": 0.3,
        "cameraFov": 40,
        "cameraType": "perspective",
        "clipDist": 10,
        "clipFar": 100,
        "clipNear": 0,
        "fogFar": 100,
        "fogNear": 50,
        "hoverTimeout": 0,
        "impostor": true,
        "lightColor": 14540253,
        "lightIntensity": 1,
        "mousePreset": "default",
        "panSpeed": 1,
        "quality": "medium",
        "rotateSpeed": 2,
        "sampleLevel": 0,
        "tooltip": true,
        "workerDefault": true,
        "zoomSpeed": 1.2
       },
       "_ngl_repr_dict": {
        "0": {
         "0": {
          "params": {
           "clipCenter": {
            "x": 0,
            "y": 0,
            "z": 0
           },
           "clipNear": 0,
           "clipRadius": 0,
           "colorMode": "hcl",
           "colorReverse": false,
           "colorScale": "",
           "colorScheme": "element",
           "colorValue": "orange",
           "defaultAssembly": "",
           "depthWrite": true,
           "diffuse": 16777215,
           "diffuseInterior": false,
           "disableImpostor": false,
           "disablePicking": false,
           "flatShaded": false,
           "interiorColor": 2236962,
           "interiorDarkening": 0,
           "lazy": false,
           "matrix": {
            "elements": [
             1,
             0,
             0,
             0,
             0,
             1,
             0,
             0,
             0,
             0,
             1,
             0,
             0,
             0,
             0,
             1
            ]
           },
           "metalness": 0,
           "opacity": 1,
           "quality": "medium",
           "radialSegments": 10,
           "radiusData": {},
           "radiusScale": 1,
           "radiusSize": 0.08544178761926524,
           "radiusType": "vdw",
           "roughness": 0.4,
           "sele": "all",
           "side": "double",
           "sphereDetail": 1,
           "useInteriorColor": true,
           "visible": true,
           "wireframe": false
          },
          "type": "unitcell"
         },
         "1": {
          "params": {
           "assembly": "default",
           "clipCenter": {
            "x": 0,
            "y": 0,
            "z": 0
           },
           "clipNear": 0,
           "clipRadius": 0,
           "colorMode": "hcl",
           "colorReverse": false,
           "colorScale": "rainbow",
           "colorScheme": "element",
           "colorValue": 9474192,
           "defaultAssembly": "",
           "depthWrite": true,
           "diffuse": 16777215,
           "diffuseInterior": false,
           "disableImpostor": false,
           "disablePicking": false,
           "flatShaded": false,
           "interiorColor": 2236962,
           "interiorDarkening": 0,
           "lazy": false,
           "matrix": {
            "elements": [
             1,
             0,
             0,
             0,
             0,
             1,
             0,
             0,
             0,
             0,
             1,
             0,
             0,
             0,
             0,
             1
            ]
           },
           "metalness": 0,
           "opacity": 1,
           "quality": "medium",
           "radiusData": {},
           "radiusScale": 0.5,
           "radiusSize": 1,
           "radiusType": "covalent",
           "roughness": 0.4,
           "sele": "all",
           "side": "double",
           "sphereDetail": 1,
           "useInteriorColor": true,
           "visible": true,
           "wireframe": false
          },
          "type": "spacefill"
         },
         "2": {
          "params": {
           "aspectRatio": 2,
           "assembly": "default",
           "bondScale": 0.4,
           "bondSpacing": 1,
           "clipCenter": {
            "x": 0,
            "y": 0,
            "z": 0
           },
           "clipNear": 0,
           "clipRadius": 0,
           "colorMode": "hcl",
           "colorReverse": false,
           "colorScale": "",
           "colorScheme": "element",
           "colorValue": 9474192,
           "cylinderOnly": false,
           "defaultAssembly": "",
           "depthWrite": true,
           "diffuse": 16777215,
           "diffuseInterior": false,
           "disableImpostor": false,
           "disablePicking": false,
           "flatShaded": false,
           "interiorColor": 2236962,
           "interiorDarkening": 0,
           "lazy": false,
           "lineOnly": false,
           "linewidth": 2,
           "matrix": {
            "elements": [
             1,
             0,
             0,
             0,
             0,
             1,
             0,
             0,
             0,
             0,
             1,
             0,
             0,
             0,
             0,
             1
            ]
           },
           "metalness": 0,
           "multipleBond": "off",
           "opacity": 1,
           "openEnded": true,
           "quality": "medium",
           "radialSegments": 10,
           "radiusData": {},
           "radiusScale": 1,
           "radiusSize": 0.15,
           "radiusType": "size",
           "roughness": 0.4,
           "sele": "all",
           "side": "double",
           "sphereDetail": 1,
           "useInteriorColor": true,
           "visible": true,
           "wireframe": false
          },
          "type": "ball+stick"
         }
        }
       },
       "_ngl_serialize": false,
       "_ngl_version": "2.0.0-dev.36",
       "_ngl_view_id": [
        "EE38D604-CC36-4BAC-B5A4-5CECBEBA7367"
       ],
       "_player_dict": {},
       "_scene_position": {},
       "_scene_rotation": {},
       "_synced_model_ids": [],
       "_synced_repr_model_ids": [],
       "_view_height": "",
       "_view_width": "",
       "background": "white",
       "frame": 0,
       "gui_style": null,
       "layout": "IPY_MODEL_dc5da805565546348f9d28ddb2055d70",
       "max_frame": 2,
       "n_components": 1,
       "picked": {}
      }
     },
     "eb96d9184721480bb2a9b9cf22dea392": {
      "model_module": "@jupyter-widgets/base",
      "model_module_version": "1.2.0",
      "model_name": "LayoutModel",
      "state": {}
     },
     "ebae00c1277b46b5a1c7c369f26f1cea": {
      "model_module": "nglview-js-widgets",
      "model_module_version": "3.0.1",
      "model_name": "NGLModel",
      "state": {
       "_camera_orientation": [
        26.777963106830207,
        0.907956799096685,
        2.7424705654371184,
        0,
        2.785238617804387,
        -1.3276106156785232,
        -26.75602239491342,
        0,
        -0.7667960571143074,
        26.885272976226098,
        -1.4138455724307977,
        0,
        -7.714000225067139,
        -4.430499793961644,
        -24.774999618530273,
        1
       ],
       "_camera_str": "orthographic",
       "_gui_theme": null,
       "_ibtn_fullscreen": "IPY_MODEL_35fa3d65a9864f5bb3ca861f0a42e32e",
       "_igui": null,
       "_iplayer": "IPY_MODEL_d3954ea710b64639baae9e1090963fa2",
       "_ngl_color_dict": {},
       "_ngl_coordinate_resource": {},
       "_ngl_full_stage_parameters": {
        "ambientColor": 14540253,
        "ambientIntensity": 0.2,
        "backgroundColor": "white",
        "cameraEyeSep": 0.3,
        "cameraFov": 40,
        "cameraType": "orthographic",
        "clipDist": 0,
        "clipFar": 100,
        "clipNear": 0,
        "fogFar": 100,
        "fogNear": 50,
        "hoverTimeout": 0,
        "impostor": true,
        "lightColor": 14540253,
        "lightIntensity": 1,
        "mousePreset": "default",
        "panSpeed": 1,
        "quality": "medium",
        "rotateSpeed": 2,
        "sampleLevel": 0,
        "tooltip": true,
        "workerDefault": true,
        "zoomSpeed": 1.2
       },
       "_ngl_msg_archive": [
        {
         "args": [
          {
           "binary": false,
           "data": "CRYST1   11.220   11.220   46.871  90.00  90.00  60.00 P 1\nMODEL     1\nATOM      1   Pt MOL     1       0.000   0.000  20.000  1.00  0.00          PT  \nATOM      2   Pt MOL     1       2.805   1.620  22.290  1.00  0.00          PT  \nATOM      3   Pt MOL     1       1.560   0.887  24.534  1.00  0.00          PT  \nATOM      4   Pt MOL     1       2.859  -0.046  26.824  1.00  0.00          PT  \nATOM      5   Pt MOL     1       1.403   2.429  20.000  1.00  0.00          PT  \nATOM      6   Pt MOL     1       4.208   4.049  22.290  1.00  0.00          PT  \nATOM      7   Pt MOL     1       2.714   3.098  24.727  1.00  0.00          PT  \nATOM      8   Pt MOL     1       4.185   2.436  26.729  1.00  0.00          PT  \nATOM      9   Pt MOL     1       2.805   4.859  20.000  1.00  0.00          PT  \nATOM     10   Pt MOL     1       5.610   6.478  22.290  1.00  0.00          PT  \nATOM     11   Pt MOL     1       4.147   5.854  24.579  1.00  0.00          PT  \nATOM     12   Pt MOL     1       5.504   4.941  26.749  1.00  0.00          PT  \nATOM     13   Pt MOL     1       4.208   7.288  20.000  1.00  0.00          PT  \nATOM     14   Pt MOL     1       7.013   8.907  22.290  1.00  0.00          PT  \nATOM     15   Pt MOL     1       5.599   8.067  24.433  1.00  0.00          PT  \nATOM     16   Pt MOL     1       6.941   7.242  26.977  1.00  0.00          PT  \nATOM     17   Pt MOL     1       2.805   0.000  20.000  1.00  0.00          PT  \nATOM     18   Pt MOL     1       5.610   1.620  22.290  1.00  0.00          PT  \nATOM     19   Pt MOL     1       4.311   0.903  24.497  1.00  0.00          PT  \nATOM     20   Pt MOL     1       5.579   0.033  26.969  1.00  0.00          PT  \nATOM     21   Pt MOL     1       4.208   2.429  20.000  1.00  0.00          PT  \nATOM     22   Pt MOL     1       7.013   4.049  22.290  1.00  0.00          PT  \nATOM     23   Pt MOL     1       5.603   3.339  24.617  1.00  0.00          PT  \nATOM     24   Pt MOL     1       6.948   2.465  27.025  1.00  0.00          PT  \nATOM     25   Pt MOL     1       5.610   4.859  20.000  1.00  0.00          PT  \nATOM     26   Pt MOL     1       8.415   6.478  22.290  1.00  0.00          PT  \nATOM     27   Pt MOL     1       7.022   5.470  24.559  1.00  0.00          PT  \nATOM     28   Pt MOL     1       8.451   5.006  26.819  1.00  0.00          PT  \nATOM     29   Pt MOL     1       7.013   7.288  20.000  1.00  0.00          PT  \nATOM     30   Pt MOL     1       9.818   8.907  22.290  1.00  0.00          PT  \nATOM     31   Pt MOL     1       8.425   8.194  24.510  1.00  0.00          PT  \nATOM     32   Pt MOL     1       9.785   7.249  26.725  1.00  0.00          PT  \nATOM     33   Pt MOL     1       5.610   0.000  20.000  1.00  0.00          PT  \nATOM     34   Pt MOL     1       8.415   1.620  22.290  1.00  0.00          PT  \nATOM     35   Pt MOL     1       6.978   0.730  24.565  1.00  0.00          PT  \nATOM     36   Pt MOL     1       8.456   0.189  26.888  1.00  0.00          PT  \nATOM     37   Pt MOL     1       7.013   2.429  20.000  1.00  0.00          PT  \nATOM     38   Pt MOL     1       9.818   4.049  22.290  1.00  0.00          PT  \nATOM     39   Pt MOL     1       8.396   3.269  24.577  1.00  0.00          PT  \nATOM     40   Pt MOL     1       9.701   2.544  26.946  1.00  0.00          PT  \nATOM     41   Pt MOL     1       8.415   4.859  20.000  1.00  0.00          PT  \nATOM     42   Pt MOL     1      11.220   6.478  22.290  1.00  0.00          PT  \nATOM     43   Pt MOL     1       9.719   5.612  24.591  1.00  0.00          PT  \nATOM     44   Pt MOL     1      11.170   4.703  26.878  1.00  0.00          PT  \nATOM     45   Pt MOL     1       9.818   7.288  20.000  1.00  0.00          PT  \nATOM     46   Pt MOL     1      12.623   8.907  22.290  1.00  0.00          PT  \nATOM     47   Pt MOL     1      11.302   7.974  24.603  1.00  0.00          PT  \nATOM     48   Pt MOL     1      12.754   7.127  26.889  1.00  0.00          PT  \nATOM     49   Pt MOL     1       8.415   0.000  20.000  1.00  0.00          PT  \nATOM     50   Pt MOL     1      11.220   1.620  22.290  1.00  0.00          PT  \nATOM     51   Pt MOL     1       9.843   0.844  24.513  1.00  0.00          PT  \nATOM     52   Pt MOL     1      11.244   0.029  26.800  1.00  0.00          PT  \nATOM     53   Pt MOL     1       9.818   2.429  20.000  1.00  0.00          PT  \nATOM     54   Pt MOL     1      12.623   4.049  22.290  1.00  0.00          PT  \nATOM     55   Pt MOL     1      11.336   3.157  24.677  1.00  0.00          PT  \nATOM     56   Pt MOL     1      12.664   2.511  27.061  1.00  0.00          PT  \nATOM     57   Pt MOL     1      11.220   4.859  20.000  1.00  0.00          PT  \nATOM     58   Pt MOL     1      14.025   6.478  22.290  1.00  0.00          PT  \nATOM     59   Pt MOL     1      12.651   5.751  24.582  1.00  0.00          PT  \nATOM     60   Pt MOL     1      14.171   4.832  27.143  1.00  0.00          PT  \nATOM     61   Pt MOL     1      12.623   7.288  20.000  1.00  0.00          PT  \nATOM     62   Pt MOL     1      15.428   8.907  22.290  1.00  0.00          PT  \nATOM     63   Pt MOL     1      14.073   8.090  24.496  1.00  0.00          PT  \nATOM     64   Pt MOL     1      15.276   7.243  26.957  1.00  0.00          PT  \nATOM     65    C MOL     1       8.415   4.859  29.143  1.00  0.00           C  \nATOM     66    C MOL     1       7.099   4.754  28.999  1.00  0.00           C  \nATOM     67    H MOL     1       8.853   5.764  29.550  1.00  0.00           H  \nATOM     68    H MOL     1       9.106   4.082  28.876  1.00  0.00           H  \nATOM     69    H MOL     1       6.438   5.560  29.281  1.00  0.00           H  \nATOM     70    H MOL     1       6.669   3.847  28.592  1.00  0.00           H  \nENDMDL\n",
           "type": "blob"
          }
         ],
         "kwargs": {
          "defaultRepresentation": false,
          "ext": "pdb"
         },
         "methodName": "loadFile",
         "reconstruc_color_scheme": false,
         "target": "Stage",
         "type": "call_method"
        },
        {
         "args": [
          "500px",
          "500px"
         ],
         "kwargs": {},
         "methodName": "setSize",
         "reconstruc_color_scheme": false,
         "target": "Widget",
         "type": "call_method"
        },
        {
         "args": [
          "unitcell"
         ],
         "component_index": 0,
         "kwargs": {
          "sele": "all"
         },
         "methodName": "addRepresentation",
         "reconstruc_color_scheme": false,
         "target": "compList",
         "type": "call_method"
        },
        {
         "args": [
          "spacefill"
         ],
         "component_index": 0,
         "kwargs": {
          "sele": "all"
         },
         "methodName": "addRepresentation",
         "reconstruc_color_scheme": false,
         "target": "compList",
         "type": "call_method"
        },
        {
         "args": [],
         "kwargs": {
          "cameraType": "orthographic"
         },
         "methodName": "setParameters",
         "reconstruc_color_scheme": false,
         "target": "Stage",
         "type": "call_method"
        },
        {
         "args": [
          {
           "clipDist": 0
          }
         ],
         "kwargs": {},
         "methodName": "setParameters",
         "reconstruc_color_scheme": false,
         "target": "Widget",
         "type": "call_method"
        },
        {
         "args": [
          "spacefill",
          0
         ],
         "kwargs": {
          "colorScale": "rainbow",
          "colorScheme": "element",
          "radiusScale": 0.5,
          "radiusType": "covalent"
         },
         "methodName": "updateRepresentationsByName",
         "reconstruc_color_scheme": false,
         "target": "Widget",
         "type": "call_method"
        },
        {
         "args": [
          "this._Q = [[1.0, 0.0, 0.0], [0.0, 1.0, 0.0], [0.0, 0.0, 1.0]]\n    var tooltip = document.createElement('div')\n    Object.assign(tooltip.style, {\n      display: 'none',\n      position: 'fixed',\n      zIndex: 10,\n      pointerEvents: 'none',\n      backgroundColor: 'rgba( 0, 0, 0, 0.6 )',\n      color: 'lightgrey',\n      padding: '8px',\n      fontFamily: 'sans-serif'\n    })\n    document.body.appendChild(tooltip)\n\n    var that = this\n    this.stage.mouseControls.remove('hoverPick')\n    this.stage.signals.hovered.add(function (pickingProxy) {\n      if (pickingProxy && (pickingProxy.atom || pickingProxy.bond)) {\n        var atom = pickingProxy.atom || pickingProxy.closestBondAtom\n        var mp = pickingProxy.mouse.position\n        //tooltip.innerText = atom.element + ' i=' + atom.index + ' (' + atom.x.toFixed(2) +  ', ' + atom.y.toFixed(2) +  ', ' + atom.z.toFixed(2) + ')'\n        //var pos = that._atoms_pos[atom.index]\n        var Q = that._Q\n        var pos_x = Q[0][0] * atom.x + Q[0][1] * atom.y + Q[0][2] * atom.z \n        var pos_y = Q[1][0] * atom.x + Q[1][1] * atom.y + Q[1][2] * atom.z\n        var pos_z = Q[2][0] * atom.x + Q[2][1] * atom.y + Q[2][2] * atom.z\n        tooltip.innerText = 'i=' + atom.index + ' ' + atom.element + ' (' + pos_x.toFixed(2) +  ', ' + pos_y.toFixed(2) +  ', ' + pos_z.toFixed(2) + ')'\n        tooltip.style.bottom = window.innerHeight - mp.y + 3 + 'px'\n        tooltip.style.left = mp.x + 3 + 'px'\n        tooltip.style.display = 'block'\n      } else {\n        tooltip.style.display = 'none'\n      }\n    })\n    "
         ],
         "kwargs": {},
         "methodName": "executeCode",
         "reconstruc_color_scheme": false,
         "target": "Widget",
         "type": "call_method"
        },
        {
         "args": [
          "ball+stick"
         ],
         "component_index": 0,
         "kwargs": {
          "sele": "all"
         },
         "methodName": "addRepresentation",
         "reconstruc_color_scheme": false,
         "target": "compList",
         "type": "call_method"
        }
       ],
       "_ngl_original_stage_parameters": {
        "ambientColor": 14540253,
        "ambientIntensity": 0.2,
        "backgroundColor": "white",
        "cameraEyeSep": 0.3,
        "cameraFov": 40,
        "cameraType": "perspective",
        "clipDist": 10,
        "clipFar": 100,
        "clipNear": 0,
        "fogFar": 100,
        "fogNear": 50,
        "hoverTimeout": 0,
        "impostor": true,
        "lightColor": 14540253,
        "lightIntensity": 1,
        "mousePreset": "default",
        "panSpeed": 1,
        "quality": "medium",
        "rotateSpeed": 2,
        "sampleLevel": 0,
        "tooltip": true,
        "workerDefault": true,
        "zoomSpeed": 1.2
       },
       "_ngl_repr_dict": {
        "0": {
         "0": {
          "params": {
           "clipCenter": {
            "x": 0,
            "y": 0,
            "z": 0
           },
           "clipNear": 0,
           "clipRadius": 0,
           "colorMode": "hcl",
           "colorReverse": false,
           "colorScale": "",
           "colorScheme": "element",
           "colorValue": "orange",
           "defaultAssembly": "",
           "depthWrite": true,
           "diffuse": 16777215,
           "diffuseInterior": false,
           "disableImpostor": false,
           "disablePicking": false,
           "flatShaded": false,
           "interiorColor": 2236962,
           "interiorDarkening": 0,
           "lazy": false,
           "matrix": {
            "elements": [
             1,
             0,
             0,
             0,
             0,
             1,
             0,
             0,
             0,
             0,
             1,
             0,
             0,
             0,
             0,
             1
            ]
           },
           "metalness": 0,
           "opacity": 1,
           "quality": "medium",
           "radialSegments": 10,
           "radiusData": {},
           "radiusScale": 1,
           "radiusSize": 0.08611794721945829,
           "radiusType": "vdw",
           "roughness": 0.4,
           "sele": "all",
           "side": "double",
           "sphereDetail": 1,
           "useInteriorColor": true,
           "visible": true,
           "wireframe": false
          },
          "type": "unitcell"
         },
         "1": {
          "params": {
           "assembly": "default",
           "clipCenter": {
            "x": 0,
            "y": 0,
            "z": 0
           },
           "clipNear": 0,
           "clipRadius": 0,
           "colorMode": "hcl",
           "colorReverse": false,
           "colorScale": "rainbow",
           "colorScheme": "element",
           "colorValue": 9474192,
           "defaultAssembly": "",
           "depthWrite": true,
           "diffuse": 16777215,
           "diffuseInterior": false,
           "disableImpostor": false,
           "disablePicking": false,
           "flatShaded": false,
           "interiorColor": 2236962,
           "interiorDarkening": 0,
           "lazy": false,
           "matrix": {
            "elements": [
             1,
             0,
             0,
             0,
             0,
             1,
             0,
             0,
             0,
             0,
             1,
             0,
             0,
             0,
             0,
             1
            ]
           },
           "metalness": 0,
           "opacity": 1,
           "quality": "medium",
           "radiusData": {},
           "radiusScale": 0.5,
           "radiusSize": 1,
           "radiusType": "covalent",
           "roughness": 0.4,
           "sele": "all",
           "side": "double",
           "sphereDetail": 1,
           "useInteriorColor": true,
           "visible": true,
           "wireframe": false
          },
          "type": "spacefill"
         },
         "2": {
          "params": {
           "aspectRatio": 2,
           "assembly": "default",
           "bondScale": 0.4,
           "bondSpacing": 1,
           "clipCenter": {
            "x": 0,
            "y": 0,
            "z": 0
           },
           "clipNear": 0,
           "clipRadius": 0,
           "colorMode": "hcl",
           "colorReverse": false,
           "colorScale": "",
           "colorScheme": "element",
           "colorValue": 9474192,
           "cylinderOnly": false,
           "defaultAssembly": "",
           "depthWrite": true,
           "diffuse": 16777215,
           "diffuseInterior": false,
           "disableImpostor": false,
           "disablePicking": false,
           "flatShaded": false,
           "interiorColor": 2236962,
           "interiorDarkening": 0,
           "lazy": false,
           "lineOnly": false,
           "linewidth": 2,
           "matrix": {
            "elements": [
             1,
             0,
             0,
             0,
             0,
             1,
             0,
             0,
             0,
             0,
             1,
             0,
             0,
             0,
             0,
             1
            ]
           },
           "metalness": 0,
           "multipleBond": "off",
           "opacity": 1,
           "openEnded": true,
           "quality": "medium",
           "radialSegments": 10,
           "radiusData": {},
           "radiusScale": 1,
           "radiusSize": 0.15,
           "radiusType": "size",
           "roughness": 0.4,
           "sele": "all",
           "side": "double",
           "sphereDetail": 1,
           "useInteriorColor": true,
           "visible": true,
           "wireframe": false
          },
          "type": "ball+stick"
         }
        }
       },
       "_ngl_serialize": false,
       "_ngl_version": "2.0.0-dev.36",
       "_ngl_view_id": [
        "64085562-4944-4335-B6A3-160F32484E9D"
       ],
       "_player_dict": {},
       "_scene_position": {},
       "_scene_rotation": {},
       "_synced_model_ids": [],
       "_synced_repr_model_ids": [],
       "_view_height": "",
       "_view_width": "",
       "background": "white",
       "frame": 0,
       "gui_style": null,
       "layout": "IPY_MODEL_401cae758e624ccb9dadebd377d689f5",
       "max_frame": 0,
       "n_components": 1,
       "picked": {}
      }
     },
     "ebb2adeb39b84044b873f4e41c1ecb85": {
      "model_module": "@jupyter-widgets/base",
      "model_module_version": "1.2.0",
      "model_name": "LayoutModel",
      "state": {}
     },
     "ec73d4300d05433f9690152d9ad21ae6": {
      "model_module": "@jupyter-widgets/controls",
      "model_module_version": "1.5.0",
      "model_name": "LinkModel",
      "state": {
       "source": [
        "IPY_MODEL_8775915f1c3b492a8a47944314952ceb",
        "max"
       ],
       "target": [
        "IPY_MODEL_8cee4414bab74eb3b33e30ff00d083be",
        "max_frame"
       ]
      }
     },
     "ecb29d119eab42f598d75e67db1baf52": {
      "model_module": "@jupyter-widgets/base",
      "model_module_version": "1.2.0",
      "model_name": "LayoutModel",
      "state": {
       "border": "0px solid black"
      }
     },
     "ee0ea6b235694222b2421ca4a88d01cb": {
      "model_module": "@jupyter-widgets/controls",
      "model_module_version": "1.5.0",
      "model_name": "DropdownModel",
      "state": {
       "_options_labels": [
        "All",
        "Pt",
        "H",
        "C"
       ],
       "description": "Show",
       "index": 0,
       "layout": "IPY_MODEL_a29ccc69e7cc4839b34d794cb921f23b",
       "style": "IPY_MODEL_1e27934be0db44efbecac4a82db4e250"
      }
     },
     "eeb0d92773aa4b09947005b2dd967b8e": {
      "model_module": "@jupyter-widgets/controls",
      "model_module_version": "1.5.0",
      "model_name": "VBoxModel",
      "state": {
       "children": [
        "IPY_MODEL_2f11bd210787463bb2753c6488ab8721",
        "IPY_MODEL_41eb07fecb6544b08f3855b89729774f",
        "IPY_MODEL_df8209cd74724ef4a8707b9d7b5a43c7",
        "IPY_MODEL_e62551af7f264b46b2f707e92fdd150f",
        "IPY_MODEL_c37bbbfadc46408eae2a423567a1f59d",
        "IPY_MODEL_19c7011a39bd4493ba3a24e18dedf781",
        "IPY_MODEL_c693620f472449e7aa0a92d6d3969822",
        "IPY_MODEL_a41e52a4e9ea429ea182cbfc903d4a3e",
        "IPY_MODEL_21399a3b5e044d64a08e2152e07e059d",
        "IPY_MODEL_42d0379f96464751b0acea3600dd4931"
       ],
       "layout": "IPY_MODEL_2cbb2fa402984be1a1576873dbc483a2"
      }
     },
     "f11ae858972249df89e99ecd5295f690": {
      "model_module": "@jupyter-widgets/base",
      "model_module_version": "1.2.0",
      "model_name": "LayoutModel",
      "state": {}
     },
     "f1777673ae9542c49e550541368af9ac": {
      "model_module": "@jupyter-widgets/controls",
      "model_module_version": "1.5.0",
      "model_name": "IntSliderModel",
      "state": {
       "layout": "IPY_MODEL_549081be78e94335883563676271261c",
       "max": 0,
       "style": "IPY_MODEL_2a10031c8b874a189f3745ff60783bcc"
      }
     },
     "f2480cef4d7a4fa7a996116ffb41c22f": {
      "model_module": "@jupyter-widgets/controls",
      "model_module_version": "1.5.0",
      "model_name": "DescriptionStyleModel",
      "state": {
       "description_width": ""
      }
     },
     "f3ea7e5147d940a6ba282b8eb5f1a8e6": {
      "model_module": "nglview-js-widgets",
      "model_module_version": "3.0.1",
      "model_name": "NGLModel",
      "state": {
       "_camera_orientation": [
        12.038240943795794,
        0,
        0,
        0,
        0,
        12.038240943795794,
        0,
        0,
        0,
        0,
        12.038240943795794,
        0,
        0.2634999752044678,
        -0.006000041961669922,
        0.22750002145767212,
        1
       ],
       "_camera_str": "orthographic",
       "_gui_theme": null,
       "_ibtn_fullscreen": "IPY_MODEL_a72cbd60ed42420683bc15de0318a61a",
       "_igui": null,
       "_iplayer": "IPY_MODEL_374af23be5624e9f9040d72caf6063f5",
       "_ngl_color_dict": {},
       "_ngl_coordinate_resource": {},
       "_ngl_full_stage_parameters": {
        "ambientColor": 14540253,
        "ambientIntensity": 0.2,
        "backgroundColor": "white",
        "cameraEyeSep": 0.3,
        "cameraFov": 40,
        "cameraType": "orthographic",
        "clipDist": 0,
        "clipFar": 100,
        "clipNear": 0,
        "fogFar": 100,
        "fogNear": 50,
        "hoverTimeout": 0,
        "impostor": true,
        "lightColor": 14540253,
        "lightIntensity": 1,
        "mousePreset": "default",
        "panSpeed": 1,
        "quality": "medium",
        "rotateSpeed": 2,
        "sampleLevel": 0,
        "tooltip": true,
        "workerDefault": true,
        "zoomSpeed": 1.2
       },
       "_ngl_msg_archive": [
        {
         "args": [
          {
           "binary": false,
           "data": "MODEL     1\nATOM      1    C MOL     1       2.225   0.000  -0.102  1.00  0.00           C  \nATOM      2    C MOL     1       0.718  -0.011  -0.038  1.00  0.00           C  \nATOM      3    C MOL     1      -0.011  -1.200  -0.092  1.00  0.00           C  \nATOM      4    C MOL     1      -1.404  -1.189  -0.021  1.00  0.00           C  \nATOM      5    C MOL     1      -2.088   0.015   0.102  1.00  0.00           C  \nATOM      6    C MOL     1      -1.374   1.211   0.149  1.00  0.00           C  \nATOM      7    C MOL     1       0.016   1.193   0.078  1.00  0.00           C  \nATOM      8    H MOL     1       2.577   0.323  -1.090  1.00  0.00           H  \nATOM      9    H MOL     1       2.645  -0.991   0.097  1.00  0.00           H  \nATOM     10    H MOL     1       2.634   0.700   0.635  1.00  0.00           H  \nATOM     11    H MOL     1       0.517  -2.145  -0.186  1.00  0.00           H  \nATOM     12    H MOL     1      -1.958  -2.122  -0.058  1.00  0.00           H  \nATOM     13    H MOL     1      -3.172   0.019   0.160  1.00  0.00           H  \nATOM     14    H MOL     1      -1.898   2.157   0.247  1.00  0.00           H  \nATOM     15    H MOL     1       0.572   2.126   0.118  1.00  0.00           H  \nENDMDL\n",
           "type": "blob"
          }
         ],
         "kwargs": {
          "defaultRepresentation": false,
          "ext": "pdb"
         },
         "methodName": "loadFile",
         "reconstruc_color_scheme": false,
         "target": "Stage",
         "type": "call_method"
        },
        {
         "args": [
          "500px",
          "500px"
         ],
         "kwargs": {},
         "methodName": "setSize",
         "reconstruc_color_scheme": false,
         "target": "Widget",
         "type": "call_method"
        },
        {
         "args": [
          "unitcell"
         ],
         "component_index": 0,
         "kwargs": {
          "sele": "all"
         },
         "methodName": "addRepresentation",
         "reconstruc_color_scheme": false,
         "target": "compList",
         "type": "call_method"
        },
        {
         "args": [
          "spacefill"
         ],
         "component_index": 0,
         "kwargs": {
          "sele": "all"
         },
         "methodName": "addRepresentation",
         "reconstruc_color_scheme": false,
         "target": "compList",
         "type": "call_method"
        },
        {
         "args": [],
         "kwargs": {
          "cameraType": "orthographic"
         },
         "methodName": "setParameters",
         "reconstruc_color_scheme": false,
         "target": "Stage",
         "type": "call_method"
        },
        {
         "args": [
          {
           "clipDist": 0
          }
         ],
         "kwargs": {},
         "methodName": "setParameters",
         "reconstruc_color_scheme": false,
         "target": "Widget",
         "type": "call_method"
        },
        {
         "args": [
          "spacefill",
          0
         ],
         "kwargs": {
          "colorScale": "rainbow",
          "colorScheme": "element",
          "radiusScale": 0.5,
          "radiusType": "covalent"
         },
         "methodName": "updateRepresentationsByName",
         "reconstruc_color_scheme": false,
         "target": "Widget",
         "type": "call_method"
        },
        {
         "args": [
          "this._Q = [[1.0, 0.0, 0.0], [0.0, 1.0, 0.0], [0.0, 0.0, 1.0]]\n    var tooltip = document.createElement('div')\n    Object.assign(tooltip.style, {\n      display: 'none',\n      position: 'fixed',\n      zIndex: 10,\n      pointerEvents: 'none',\n      backgroundColor: 'rgba( 0, 0, 0, 0.6 )',\n      color: 'lightgrey',\n      padding: '8px',\n      fontFamily: 'sans-serif'\n    })\n    document.body.appendChild(tooltip)\n\n    var that = this\n    this.stage.mouseControls.remove('hoverPick')\n    this.stage.signals.hovered.add(function (pickingProxy) {\n      if (pickingProxy && (pickingProxy.atom || pickingProxy.bond)) {\n        var atom = pickingProxy.atom || pickingProxy.closestBondAtom\n        var mp = pickingProxy.mouse.position\n        //tooltip.innerText = atom.element + ' i=' + atom.index + ' (' + atom.x.toFixed(2) +  ', ' + atom.y.toFixed(2) +  ', ' + atom.z.toFixed(2) + ')'\n        //var pos = that._atoms_pos[atom.index]\n        var Q = that._Q\n        var pos_x = Q[0][0] * atom.x + Q[0][1] * atom.y + Q[0][2] * atom.z \n        var pos_y = Q[1][0] * atom.x + Q[1][1] * atom.y + Q[1][2] * atom.z\n        var pos_z = Q[2][0] * atom.x + Q[2][1] * atom.y + Q[2][2] * atom.z\n        tooltip.innerText = 'i=' + atom.index + ' ' + atom.element + ' (' + pos_x.toFixed(2) +  ', ' + pos_y.toFixed(2) +  ', ' + pos_z.toFixed(2) + ')'\n        tooltip.style.bottom = window.innerHeight - mp.y + 3 + 'px'\n        tooltip.style.left = mp.x + 3 + 'px'\n        tooltip.style.display = 'block'\n      } else {\n        tooltip.style.display = 'none'\n      }\n    })\n    "
         ],
         "kwargs": {},
         "methodName": "executeCode",
         "reconstruc_color_scheme": false,
         "target": "Widget",
         "type": "call_method"
        },
        {
         "args": [
          "ball+stick"
         ],
         "component_index": 0,
         "kwargs": {
          "sele": "all"
         },
         "methodName": "addRepresentation",
         "reconstruc_color_scheme": false,
         "target": "compList",
         "type": "call_method"
        },
        {
         "args": [
          {
           "data": "MODEL     1\nATOM      1    C MOL     1       2.227  -0.002  -0.106  1.00  0.00           C  \nATOM      2    C MOL     1       0.720  -0.005  -0.024  1.00  0.00           C  \nATOM      3    C MOL     1      -0.009  -1.194  -0.078  1.00  0.00           C  \nATOM      4    C MOL     1      -1.401  -1.188  -0.019  1.00  0.00           C  \nATOM      5    C MOL     1      -2.090   0.015   0.095  1.00  0.00           C  \nATOM      6    C MOL     1      -1.377   1.210   0.149  1.00  0.00           C  \nATOM      7    C MOL     1       0.014   1.197   0.090  1.00  0.00           C  \nATOM      8    H MOL     1       2.565   0.322  -1.097  1.00  0.00           H  \nATOM      9    H MOL     1       2.637  -1.000   0.078  1.00  0.00           H  \nATOM     10    H MOL     1       2.659   0.688   0.627  1.00  0.00           H  \nATOM     11    H MOL     1       0.519  -2.140  -0.168  1.00  0.00           H  \nATOM     12    H MOL     1      -1.948  -2.126  -0.062  1.00  0.00           H  \nATOM     13    H MOL     1      -3.174   0.023   0.141  1.00  0.00           H  \nATOM     14    H MOL     1      -1.906   2.154   0.240  1.00  0.00           H  \nATOM     15    H MOL     1       0.564   2.134   0.133  1.00  0.00           H  \nENDMDL\n",
           "ext": "pdb"
          }
         ],
         "kwargs": {},
         "methodName": "replaceStructure",
         "reconstruc_color_scheme": false,
         "target": "Widget",
         "type": "call_method"
        },
        {
         "args": [
          "this._Q = [[1.0, 0.0, 0.0], [0.0, 1.0, 0.0], [0.0, 0.0, 1.0]]"
         ],
         "kwargs": {},
         "methodName": "executeCode",
         "reconstruc_color_scheme": false,
         "target": "Widget",
         "type": "call_method"
        },
        {
         "args": [
          {
           "data": "MODEL     1\nATOM      1    C MOL     1       2.227  -0.000  -0.105  1.00  0.00           C  \nATOM      2    C MOL     1       0.719  -0.009  -0.035  1.00  0.00           C  \nATOM      3    C MOL     1      -0.009  -1.200  -0.046  1.00  0.00           C  \nATOM      4    C MOL     1      -1.402  -1.192   0.020  1.00  0.00           C  \nATOM      5    C MOL     1      -2.089   0.014   0.099  1.00  0.00           C  \nATOM      6    C MOL     1      -1.376   1.212   0.111  1.00  0.00           C  \nATOM      7    C MOL     1       0.014   1.196   0.045  1.00  0.00           C  \nATOM      8    H MOL     1       2.574   0.556  -0.984  1.00  0.00           H  \nATOM      9    H MOL     1       2.631  -1.015  -0.163  1.00  0.00           H  \nATOM     10    H MOL     1       2.656   0.488   0.777  1.00  0.00           H  \nATOM     11    H MOL     1       0.518  -2.149  -0.108  1.00  0.00           H  \nATOM     12    H MOL     1      -1.949  -2.130   0.009  1.00  0.00           H  \nATOM     13    H MOL     1      -3.174   0.024   0.150  1.00  0.00           H  \nATOM     14    H MOL     1      -1.905   2.158   0.173  1.00  0.00           H  \nATOM     15    H MOL     1       0.566   2.133   0.056  1.00  0.00           H  \nENDMDL\n",
           "ext": "pdb"
          }
         ],
         "kwargs": {},
         "methodName": "replaceStructure",
         "reconstruc_color_scheme": false,
         "target": "Widget",
         "type": "call_method"
        },
        {
         "args": [
          "this._Q = [[1.0, 0.0, 0.0], [0.0, 1.0, 0.0], [0.0, 0.0, 1.0]]"
         ],
         "kwargs": {},
         "methodName": "executeCode",
         "reconstruc_color_scheme": false,
         "target": "Widget",
         "type": "call_method"
        },
        {
         "args": [
          {
           "data": "MODEL     1\nATOM      1    C MOL     1       2.227  -0.002  -0.106  1.00  0.00           C  \nATOM      2    C MOL     1       0.720  -0.005  -0.024  1.00  0.00           C  \nATOM      3    C MOL     1      -0.009  -1.194  -0.078  1.00  0.00           C  \nATOM      4    C MOL     1      -1.401  -1.188  -0.019  1.00  0.00           C  \nATOM      5    C MOL     1      -2.090   0.015   0.095  1.00  0.00           C  \nATOM      6    C MOL     1      -1.377   1.210   0.149  1.00  0.00           C  \nATOM      7    C MOL     1       0.014   1.197   0.090  1.00  0.00           C  \nATOM      8    H MOL     1       2.565   0.322  -1.097  1.00  0.00           H  \nATOM      9    H MOL     1       2.637  -1.000   0.078  1.00  0.00           H  \nATOM     10    H MOL     1       2.659   0.688   0.627  1.00  0.00           H  \nATOM     11    H MOL     1       0.519  -2.140  -0.168  1.00  0.00           H  \nATOM     12    H MOL     1      -1.948  -2.126  -0.062  1.00  0.00           H  \nATOM     13    H MOL     1      -3.174   0.023   0.141  1.00  0.00           H  \nATOM     14    H MOL     1      -1.906   2.154   0.240  1.00  0.00           H  \nATOM     15    H MOL     1       0.564   2.134   0.133  1.00  0.00           H  \nENDMDL\n",
           "ext": "pdb"
          }
         ],
         "kwargs": {},
         "methodName": "replaceStructure",
         "reconstruc_color_scheme": false,
         "target": "Widget",
         "type": "call_method"
        },
        {
         "args": [
          "this._Q = [[1.0, 0.0, 0.0], [0.0, 1.0, 0.0], [0.0, 0.0, 1.0]]"
         ],
         "kwargs": {},
         "methodName": "executeCode",
         "reconstruc_color_scheme": false,
         "target": "Widget",
         "type": "call_method"
        },
        {
         "args": [
          {
           "data": "MODEL     1\nATOM      1    C MOL     1       2.225   0.000  -0.102  1.00  0.00           C  \nATOM      2    C MOL     1       0.718  -0.011  -0.038  1.00  0.00           C  \nATOM      3    C MOL     1      -0.011  -1.200  -0.092  1.00  0.00           C  \nATOM      4    C MOL     1      -1.404  -1.189  -0.021  1.00  0.00           C  \nATOM      5    C MOL     1      -2.088   0.015   0.102  1.00  0.00           C  \nATOM      6    C MOL     1      -1.374   1.211   0.149  1.00  0.00           C  \nATOM      7    C MOL     1       0.016   1.193   0.078  1.00  0.00           C  \nATOM      8    H MOL     1       2.577   0.323  -1.090  1.00  0.00           H  \nATOM      9    H MOL     1       2.645  -0.991   0.097  1.00  0.00           H  \nATOM     10    H MOL     1       2.634   0.700   0.635  1.00  0.00           H  \nATOM     11    H MOL     1       0.517  -2.145  -0.186  1.00  0.00           H  \nATOM     12    H MOL     1      -1.958  -2.122  -0.058  1.00  0.00           H  \nATOM     13    H MOL     1      -3.172   0.019   0.160  1.00  0.00           H  \nATOM     14    H MOL     1      -1.898   2.157   0.247  1.00  0.00           H  \nATOM     15    H MOL     1       0.572   2.126   0.118  1.00  0.00           H  \nENDMDL\n",
           "ext": "pdb"
          }
         ],
         "kwargs": {},
         "methodName": "replaceStructure",
         "reconstruc_color_scheme": false,
         "target": "Widget",
         "type": "call_method"
        },
        {
         "args": [
          "this._Q = [[1.0, 0.0, 0.0], [0.0, 1.0, 0.0], [0.0, 0.0, 1.0]]"
         ],
         "kwargs": {},
         "methodName": "executeCode",
         "reconstruc_color_scheme": false,
         "target": "Widget",
         "type": "call_method"
        },
        {
         "args": [
          {
           "data": "MODEL     1\nATOM      1    C MOL     1       2.227  -0.002  -0.106  1.00  0.00           C  \nATOM      2    C MOL     1       0.720  -0.005  -0.024  1.00  0.00           C  \nATOM      3    C MOL     1      -0.009  -1.194  -0.078  1.00  0.00           C  \nATOM      4    C MOL     1      -1.401  -1.188  -0.019  1.00  0.00           C  \nATOM      5    C MOL     1      -2.090   0.015   0.095  1.00  0.00           C  \nATOM      6    C MOL     1      -1.377   1.210   0.149  1.00  0.00           C  \nATOM      7    C MOL     1       0.014   1.197   0.090  1.00  0.00           C  \nATOM      8    H MOL     1       2.565   0.322  -1.097  1.00  0.00           H  \nATOM      9    H MOL     1       2.637  -1.000   0.078  1.00  0.00           H  \nATOM     10    H MOL     1       2.659   0.688   0.627  1.00  0.00           H  \nATOM     11    H MOL     1       0.519  -2.140  -0.168  1.00  0.00           H  \nATOM     12    H MOL     1      -1.948  -2.126  -0.062  1.00  0.00           H  \nATOM     13    H MOL     1      -3.174   0.023   0.141  1.00  0.00           H  \nATOM     14    H MOL     1      -1.906   2.154   0.240  1.00  0.00           H  \nATOM     15    H MOL     1       0.564   2.134   0.133  1.00  0.00           H  \nENDMDL\n",
           "ext": "pdb"
          }
         ],
         "kwargs": {},
         "methodName": "replaceStructure",
         "reconstruc_color_scheme": false,
         "target": "Widget",
         "type": "call_method"
        },
        {
         "args": [
          "this._Q = [[1.0, 0.0, 0.0], [0.0, 1.0, 0.0], [0.0, 0.0, 1.0]]"
         ],
         "kwargs": {},
         "methodName": "executeCode",
         "reconstruc_color_scheme": false,
         "target": "Widget",
         "type": "call_method"
        },
        {
         "args": [
          {
           "data": "MODEL     1\nATOM      1    C MOL     1       2.227  -0.000  -0.105  1.00  0.00           C  \nATOM      2    C MOL     1       0.719  -0.009  -0.035  1.00  0.00           C  \nATOM      3    C MOL     1      -0.009  -1.200  -0.046  1.00  0.00           C  \nATOM      4    C MOL     1      -1.402  -1.192   0.020  1.00  0.00           C  \nATOM      5    C MOL     1      -2.089   0.014   0.099  1.00  0.00           C  \nATOM      6    C MOL     1      -1.376   1.212   0.111  1.00  0.00           C  \nATOM      7    C MOL     1       0.014   1.196   0.045  1.00  0.00           C  \nATOM      8    H MOL     1       2.574   0.556  -0.984  1.00  0.00           H  \nATOM      9    H MOL     1       2.631  -1.015  -0.163  1.00  0.00           H  \nATOM     10    H MOL     1       2.656   0.488   0.777  1.00  0.00           H  \nATOM     11    H MOL     1       0.518  -2.149  -0.108  1.00  0.00           H  \nATOM     12    H MOL     1      -1.949  -2.130   0.009  1.00  0.00           H  \nATOM     13    H MOL     1      -3.174   0.024   0.150  1.00  0.00           H  \nATOM     14    H MOL     1      -1.905   2.158   0.173  1.00  0.00           H  \nATOM     15    H MOL     1       0.566   2.133   0.056  1.00  0.00           H  \nENDMDL\n",
           "ext": "pdb"
          }
         ],
         "kwargs": {},
         "methodName": "replaceStructure",
         "reconstruc_color_scheme": false,
         "target": "Widget",
         "type": "call_method"
        },
        {
         "args": [
          "this._Q = [[1.0, 0.0, 0.0], [0.0, 1.0, 0.0], [0.0, 0.0, 1.0]]"
         ],
         "kwargs": {},
         "methodName": "executeCode",
         "reconstruc_color_scheme": false,
         "target": "Widget",
         "type": "call_method"
        }
       ],
       "_ngl_original_stage_parameters": {
        "ambientColor": 14540253,
        "ambientIntensity": 0.2,
        "backgroundColor": "white",
        "cameraEyeSep": 0.3,
        "cameraFov": 40,
        "cameraType": "perspective",
        "clipDist": 10,
        "clipFar": 100,
        "clipNear": 0,
        "fogFar": 100,
        "fogNear": 50,
        "hoverTimeout": 0,
        "impostor": true,
        "lightColor": 14540253,
        "lightIntensity": 1,
        "mousePreset": "default",
        "panSpeed": 1,
        "quality": "medium",
        "rotateSpeed": 2,
        "sampleLevel": 0,
        "tooltip": true,
        "workerDefault": true,
        "zoomSpeed": 1.2
       },
       "_ngl_repr_dict": {
        "0": {
         "0": {
          "params": {
           "clipCenter": {
            "x": 0,
            "y": 0,
            "z": 0
           },
           "clipNear": 0,
           "clipRadius": 0,
           "colorMode": "hcl",
           "colorReverse": false,
           "colorScale": "",
           "colorScheme": "element",
           "colorValue": "orange",
           "defaultAssembly": "",
           "depthWrite": true,
           "diffuse": 16777215,
           "diffuseInterior": false,
           "disableImpostor": false,
           "disablePicking": false,
           "flatShaded": false,
           "interiorColor": 2236962,
           "interiorDarkening": 0,
           "lazy": false,
           "matrix": {
            "elements": [
             1,
             0,
             0,
             0,
             0,
             1,
             0,
             0,
             0,
             0,
             1,
             0,
             0,
             0,
             0,
             1
            ]
           },
           "metalness": 0,
           "opacity": 1,
           "quality": "medium",
           "radialSegments": 10,
           "radiusData": {},
           "radiusScale": 1,
           "radiusSize": 0.5,
           "radiusType": "vdw",
           "roughness": 0.4,
           "sele": "all",
           "side": "double",
           "sphereDetail": 1,
           "useInteriorColor": true,
           "visible": true,
           "wireframe": false
          },
          "type": "unitcell"
         },
         "1": {
          "params": {
           "assembly": "default",
           "clipCenter": {
            "x": 0,
            "y": 0,
            "z": 0
           },
           "clipNear": 0,
           "clipRadius": 0,
           "colorMode": "hcl",
           "colorReverse": false,
           "colorScale": "rainbow",
           "colorScheme": "element",
           "colorValue": 9474192,
           "defaultAssembly": "",
           "depthWrite": true,
           "diffuse": 16777215,
           "diffuseInterior": false,
           "disableImpostor": false,
           "disablePicking": false,
           "flatShaded": false,
           "interiorColor": 2236962,
           "interiorDarkening": 0,
           "lazy": false,
           "matrix": {
            "elements": [
             1,
             0,
             0,
             0,
             0,
             1,
             0,
             0,
             0,
             0,
             1,
             0,
             0,
             0,
             0,
             1
            ]
           },
           "metalness": 0,
           "opacity": 1,
           "quality": "medium",
           "radiusData": {},
           "radiusScale": 0.5,
           "radiusSize": 1,
           "radiusType": "covalent",
           "roughness": 0.4,
           "sele": "all",
           "side": "double",
           "sphereDetail": 1,
           "useInteriorColor": true,
           "visible": true,
           "wireframe": false
          },
          "type": "spacefill"
         },
         "2": {
          "params": {
           "aspectRatio": 2,
           "assembly": "default",
           "bondScale": 0.4,
           "bondSpacing": 1,
           "clipCenter": {
            "x": 0,
            "y": 0,
            "z": 0
           },
           "clipNear": 0,
           "clipRadius": 0,
           "colorMode": "hcl",
           "colorReverse": false,
           "colorScale": "",
           "colorScheme": "element",
           "colorValue": 9474192,
           "cylinderOnly": false,
           "defaultAssembly": "",
           "depthWrite": true,
           "diffuse": 16777215,
           "diffuseInterior": false,
           "disableImpostor": false,
           "disablePicking": false,
           "flatShaded": false,
           "interiorColor": 2236962,
           "interiorDarkening": 0,
           "lazy": false,
           "lineOnly": false,
           "linewidth": 2,
           "matrix": {
            "elements": [
             1,
             0,
             0,
             0,
             0,
             1,
             0,
             0,
             0,
             0,
             1,
             0,
             0,
             0,
             0,
             1
            ]
           },
           "metalness": 0,
           "multipleBond": "off",
           "opacity": 1,
           "openEnded": true,
           "quality": "medium",
           "radialSegments": 10,
           "radiusData": {},
           "radiusScale": 1,
           "radiusSize": 0.15,
           "radiusType": "size",
           "roughness": 0.4,
           "sele": "all",
           "side": "double",
           "sphereDetail": 1,
           "useInteriorColor": true,
           "visible": true,
           "wireframe": false
          },
          "type": "ball+stick"
         }
        }
       },
       "_ngl_serialize": false,
       "_ngl_version": "2.0.0-dev.36",
       "_ngl_view_id": [
        "4547667E-EFB2-42E5-8772-98EF45BD7DDC"
       ],
       "_player_dict": {},
       "_scene_position": {},
       "_scene_rotation": {},
       "_synced_model_ids": [],
       "_synced_repr_model_ids": [],
       "_view_height": "",
       "_view_width": "",
       "background": "white",
       "frame": 2,
       "gui_style": null,
       "layout": "IPY_MODEL_89bd1cb1289444c09049ddebcc9118ea",
       "max_frame": 2,
       "n_components": 1,
       "picked": {}
      }
     },
     "f45b62e7bf874930af8e03599cea2c94": {
      "model_module": "@jupyter-widgets/controls",
      "model_module_version": "1.5.0",
      "model_name": "ButtonStyleModel",
      "state": {}
     },
     "f622f67312404623b50a69c603e42208": {
      "model_module": "@jupyter-widgets/controls",
      "model_module_version": "1.5.0",
      "model_name": "HTMLModel",
      "state": {
       "layout": "IPY_MODEL_55e5623685c0476ea9444c4e0116b932",
       "style": "IPY_MODEL_567721658cef4884a4dc8a5ed9874d62",
       "value": " 3/3 [00:06&lt;00:00,  2.22s/it]"
      }
     },
     "f8474b9ce6ec493e855d01b142e16b1e": {
      "model_module": "nglview-js-widgets",
      "model_module_version": "3.0.1",
      "model_name": "NGLModel",
      "state": {
       "_camera_orientation": [
        10.481783228970954,
        0,
        0,
        0,
        0,
        10.481783228970954,
        0,
        0,
        0,
        0,
        10.481783228970954,
        0,
        0.26649999618530273,
        -0.01100003719329834,
        0.218999981880188,
        1
       ],
       "_camera_str": "orthographic",
       "_gui_theme": null,
       "_ibtn_fullscreen": "IPY_MODEL_568c352236cc48af89050d7f546f71e4",
       "_igui": null,
       "_iplayer": "IPY_MODEL_53c4344625a74d328ffff809ed0699cd",
       "_ngl_color_dict": {},
       "_ngl_coordinate_resource": {},
       "_ngl_full_stage_parameters": {
        "ambientColor": 14540253,
        "ambientIntensity": 0.2,
        "backgroundColor": "white",
        "cameraEyeSep": 0.3,
        "cameraFov": 40,
        "cameraType": "orthographic",
        "clipDist": 0,
        "clipFar": 100,
        "clipNear": 0,
        "fogFar": 100,
        "fogNear": 50,
        "hoverTimeout": 0,
        "impostor": true,
        "lightColor": 14540253,
        "lightIntensity": 1,
        "mousePreset": "default",
        "panSpeed": 1,
        "quality": "medium",
        "rotateSpeed": 2,
        "sampleLevel": 0,
        "tooltip": true,
        "workerDefault": true,
        "zoomSpeed": 1.2
       },
       "_ngl_msg_archive": [
        {
         "args": [
          {
           "binary": false,
           "data": "MODEL     1\nATOM      1    C MOL     1       2.215  -0.014  -0.123  1.00  0.00           C  \nATOM      2    C MOL     1       0.723  -0.001  -0.044  1.00  0.00           C  \nATOM      3    C MOL     1      -0.009  -1.171  -0.090  1.00  0.00           C  \nATOM      4    C MOL     1      -1.388  -1.167  -0.018  1.00  0.00           C  \nATOM      5    C MOL     1      -2.101   0.010   0.104  1.00  0.00           C  \nATOM      6    C MOL     1      -1.366   1.177   0.149  1.00  0.00           C  \nATOM      7    C MOL     1       0.011   1.176   0.077  1.00  0.00           C  \nATOM      8    H MOL     1       2.568   0.314  -1.111  1.00  0.00           H  \nATOM      9    H MOL     1       2.650  -0.976   0.104  1.00  0.00           H  \nATOM     10    H MOL     1       2.616   0.702   0.673  1.00  0.00           H  \nATOM     11    H MOL     1       0.513  -2.102  -0.184  1.00  0.00           H  \nATOM     12    H MOL     1      -1.973  -2.081  -0.053  1.00  0.00           H  \nATOM     13    H MOL     1      -3.183  -0.009   0.159  1.00  0.00           H  \nATOM     14    H MOL     1      -1.870   2.124   0.244  1.00  0.00           H  \nATOM     15    H MOL     1       0.593   2.106   0.114  1.00  0.00           H  \nENDMDL\n",
           "type": "blob"
          }
         ],
         "kwargs": {
          "defaultRepresentation": false,
          "ext": "pdb"
         },
         "methodName": "loadFile",
         "reconstruc_color_scheme": false,
         "target": "Stage",
         "type": "call_method"
        },
        {
         "args": [
          "500px",
          "500px"
         ],
         "kwargs": {},
         "methodName": "setSize",
         "reconstruc_color_scheme": false,
         "target": "Widget",
         "type": "call_method"
        },
        {
         "args": [
          "unitcell"
         ],
         "component_index": 0,
         "kwargs": {
          "sele": "all"
         },
         "methodName": "addRepresentation",
         "reconstruc_color_scheme": false,
         "target": "compList",
         "type": "call_method"
        },
        {
         "args": [
          "spacefill"
         ],
         "component_index": 0,
         "kwargs": {
          "sele": "all"
         },
         "methodName": "addRepresentation",
         "reconstruc_color_scheme": false,
         "target": "compList",
         "type": "call_method"
        },
        {
         "args": [],
         "kwargs": {
          "cameraType": "orthographic"
         },
         "methodName": "setParameters",
         "reconstruc_color_scheme": false,
         "target": "Stage",
         "type": "call_method"
        },
        {
         "args": [
          {
           "clipDist": 0
          }
         ],
         "kwargs": {},
         "methodName": "setParameters",
         "reconstruc_color_scheme": false,
         "target": "Widget",
         "type": "call_method"
        },
        {
         "args": [
          "spacefill",
          0
         ],
         "kwargs": {
          "colorScale": "rainbow",
          "colorScheme": "element",
          "radiusScale": 0.5,
          "radiusType": "covalent"
         },
         "methodName": "updateRepresentationsByName",
         "reconstruc_color_scheme": false,
         "target": "Widget",
         "type": "call_method"
        },
        {
         "args": [
          "this._Q = [[1.0, 0.0, 0.0], [0.0, 1.0, 0.0], [0.0, 0.0, 1.0]]\n    var tooltip = document.createElement('div')\n    Object.assign(tooltip.style, {\n      display: 'none',\n      position: 'fixed',\n      zIndex: 10,\n      pointerEvents: 'none',\n      backgroundColor: 'rgba( 0, 0, 0, 0.6 )',\n      color: 'lightgrey',\n      padding: '8px',\n      fontFamily: 'sans-serif'\n    })\n    document.body.appendChild(tooltip)\n\n    var that = this\n    this.stage.mouseControls.remove('hoverPick')\n    this.stage.signals.hovered.add(function (pickingProxy) {\n      if (pickingProxy && (pickingProxy.atom || pickingProxy.bond)) {\n        var atom = pickingProxy.atom || pickingProxy.closestBondAtom\n        var mp = pickingProxy.mouse.position\n        //tooltip.innerText = atom.element + ' i=' + atom.index + ' (' + atom.x.toFixed(2) +  ', ' + atom.y.toFixed(2) +  ', ' + atom.z.toFixed(2) + ')'\n        //var pos = that._atoms_pos[atom.index]\n        var Q = that._Q\n        var pos_x = Q[0][0] * atom.x + Q[0][1] * atom.y + Q[0][2] * atom.z \n        var pos_y = Q[1][0] * atom.x + Q[1][1] * atom.y + Q[1][2] * atom.z\n        var pos_z = Q[2][0] * atom.x + Q[2][1] * atom.y + Q[2][2] * atom.z\n        tooltip.innerText = 'i=' + atom.index + ' ' + atom.element + ' (' + pos_x.toFixed(2) +  ', ' + pos_y.toFixed(2) +  ', ' + pos_z.toFixed(2) + ')'\n        tooltip.style.bottom = window.innerHeight - mp.y + 3 + 'px'\n        tooltip.style.left = mp.x + 3 + 'px'\n        tooltip.style.display = 'block'\n      } else {\n        tooltip.style.display = 'none'\n      }\n    })\n    "
         ],
         "kwargs": {},
         "methodName": "executeCode",
         "reconstruc_color_scheme": false,
         "target": "Widget",
         "type": "call_method"
        },
        {
         "args": [
          "ball+stick"
         ],
         "component_index": 0,
         "kwargs": {
          "sele": "all"
         },
         "methodName": "addRepresentation",
         "reconstruc_color_scheme": false,
         "target": "compList",
         "type": "call_method"
        }
       ],
       "_ngl_original_stage_parameters": {
        "ambientColor": 14540253,
        "ambientIntensity": 0.2,
        "backgroundColor": "white",
        "cameraEyeSep": 0.3,
        "cameraFov": 40,
        "cameraType": "perspective",
        "clipDist": 10,
        "clipFar": 100,
        "clipNear": 0,
        "fogFar": 100,
        "fogNear": 50,
        "hoverTimeout": 0,
        "impostor": true,
        "lightColor": 14540253,
        "lightIntensity": 1,
        "mousePreset": "default",
        "panSpeed": 1,
        "quality": "medium",
        "rotateSpeed": 2,
        "sampleLevel": 0,
        "tooltip": true,
        "workerDefault": true,
        "zoomSpeed": 1.2
       },
       "_ngl_repr_dict": {
        "0": {
         "0": {
          "params": {
           "clipCenter": {
            "x": 0,
            "y": 0,
            "z": 0
           },
           "clipNear": 0,
           "clipRadius": 0,
           "colorMode": "hcl",
           "colorReverse": false,
           "colorScale": "",
           "colorScheme": "element",
           "colorValue": "orange",
           "defaultAssembly": "",
           "depthWrite": true,
           "diffuse": 16777215,
           "diffuseInterior": false,
           "disableImpostor": false,
           "disablePicking": false,
           "flatShaded": false,
           "interiorColor": 2236962,
           "interiorDarkening": 0,
           "lazy": false,
           "matrix": {
            "elements": [
             1,
             0,
             0,
             0,
             0,
             1,
             0,
             0,
             0,
             0,
             1,
             0,
             0,
             0,
             0,
             1
            ]
           },
           "metalness": 0,
           "opacity": 1,
           "quality": "medium",
           "radialSegments": 10,
           "radiusData": {},
           "radiusScale": 1,
           "radiusSize": 0.5,
           "radiusType": "vdw",
           "roughness": 0.4,
           "sele": "all",
           "side": "double",
           "sphereDetail": 1,
           "useInteriorColor": true,
           "visible": true,
           "wireframe": false
          },
          "type": "unitcell"
         },
         "1": {
          "params": {
           "assembly": "default",
           "clipCenter": {
            "x": 0,
            "y": 0,
            "z": 0
           },
           "clipNear": 0,
           "clipRadius": 0,
           "colorMode": "hcl",
           "colorReverse": false,
           "colorScale": "rainbow",
           "colorScheme": "element",
           "colorValue": 9474192,
           "defaultAssembly": "",
           "depthWrite": true,
           "diffuse": 16777215,
           "diffuseInterior": false,
           "disableImpostor": false,
           "disablePicking": false,
           "flatShaded": false,
           "interiorColor": 2236962,
           "interiorDarkening": 0,
           "lazy": false,
           "matrix": {
            "elements": [
             1,
             0,
             0,
             0,
             0,
             1,
             0,
             0,
             0,
             0,
             1,
             0,
             0,
             0,
             0,
             1
            ]
           },
           "metalness": 0,
           "opacity": 1,
           "quality": "medium",
           "radiusData": {},
           "radiusScale": 0.5,
           "radiusSize": 1,
           "radiusType": "covalent",
           "roughness": 0.4,
           "sele": "all",
           "side": "double",
           "sphereDetail": 1,
           "useInteriorColor": true,
           "visible": true,
           "wireframe": false
          },
          "type": "spacefill"
         },
         "2": {
          "params": {
           "aspectRatio": 2,
           "assembly": "default",
           "bondScale": 0.4,
           "bondSpacing": 1,
           "clipCenter": {
            "x": 0,
            "y": 0,
            "z": 0
           },
           "clipNear": 0,
           "clipRadius": 0,
           "colorMode": "hcl",
           "colorReverse": false,
           "colorScale": "",
           "colorScheme": "element",
           "colorValue": 9474192,
           "cylinderOnly": false,
           "defaultAssembly": "",
           "depthWrite": true,
           "diffuse": 16777215,
           "diffuseInterior": false,
           "disableImpostor": false,
           "disablePicking": false,
           "flatShaded": false,
           "interiorColor": 2236962,
           "interiorDarkening": 0,
           "lazy": false,
           "lineOnly": false,
           "linewidth": 2,
           "matrix": {
            "elements": [
             1,
             0,
             0,
             0,
             0,
             1,
             0,
             0,
             0,
             0,
             1,
             0,
             0,
             0,
             0,
             1
            ]
           },
           "metalness": 0,
           "multipleBond": "off",
           "opacity": 1,
           "openEnded": true,
           "quality": "medium",
           "radialSegments": 10,
           "radiusData": {},
           "radiusScale": 1,
           "radiusSize": 0.15,
           "radiusType": "size",
           "roughness": 0.4,
           "sele": "all",
           "side": "double",
           "sphereDetail": 1,
           "useInteriorColor": true,
           "visible": true,
           "wireframe": false
          },
          "type": "ball+stick"
         }
        }
       },
       "_ngl_serialize": false,
       "_ngl_version": "2.0.0-dev.36",
       "_ngl_view_id": [
        "C9FD91FC-4B45-4AAE-B458-70E95F8BDFFE"
       ],
       "_player_dict": {},
       "_scene_position": {},
       "_scene_rotation": {},
       "_synced_model_ids": [],
       "_synced_repr_model_ids": [],
       "_view_height": "",
       "_view_width": "",
       "background": "white",
       "frame": 0,
       "gui_style": null,
       "layout": "IPY_MODEL_3c9ddc7e7a5e4a8bad412ca8cc40a7e5",
       "max_frame": 0,
       "n_components": 1,
       "picked": {}
      }
     },
     "f9339fc0a1ad48169b15e69643d4b1f5": {
      "model_module": "@jupyter-widgets/base",
      "model_module_version": "1.2.0",
      "model_name": "LayoutModel",
      "state": {}
     },
     "f9342c0712734f8b8dc14e56c7dd22f2": {
      "model_module": "@jupyter-widgets/controls",
      "model_module_version": "1.5.0",
      "model_name": "SliderStyleModel",
      "state": {
       "description_width": ""
      }
     },
     "fa34cbf94dab41d3bc9da48169fd1f5d": {
      "model_module": "@jupyter-widgets/controls",
      "model_module_version": "1.5.0",
      "model_name": "ButtonStyleModel",
      "state": {}
     },
     "fa86277c7252408e87791072408fdba9": {
      "model_module": "@jupyter-widgets/base",
      "model_module_version": "1.2.0",
      "model_name": "LayoutModel",
      "state": {}
     },
     "facb42f61d984bc8b68f7fdb010de1a1": {
      "model_module": "@jupyter-widgets/controls",
      "model_module_version": "1.5.0",
      "model_name": "HBoxModel",
      "state": {
       "children": [
        "IPY_MODEL_d68a9596f3694003a9dee8b9d0e16b4d",
        "IPY_MODEL_a37e85be654c4c42b11f581f5f5637fa"
       ],
       "layout": "IPY_MODEL_5461663a92bc4d95b7bdd7b8597eed7e"
      }
     },
     "fafebda61f9c4449af3344d0e0ac0098": {
      "model_module": "@jupyter-widgets/controls",
      "model_module_version": "1.5.0",
      "model_name": "SliderStyleModel",
      "state": {
       "description_width": ""
      }
     },
     "fca6ab5247ce4cdda14bf29f0faf8767": {
      "model_module": "@jupyter-widgets/base",
      "model_module_version": "1.2.0",
      "model_name": "LayoutModel",
      "state": {}
     },
     "fcad26a70bb5483db2b01c0397967c91": {
      "model_module": "@jupyter-widgets/controls",
      "model_module_version": "1.5.0",
      "model_name": "FloatSliderModel",
      "state": {
       "description": "Force scale",
       "layout": "IPY_MODEL_a9055b81c4d6462999d0ab8e9ddcc2b5",
       "step": 0.1,
       "style": "IPY_MODEL_8d983366fd1d4995a16f576a941c69a0",
       "value": 0.5
      }
     },
     "fcc5aa61332049309121658c4b90cdfd": {
      "model_module": "@jupyter-widgets/base",
      "model_module_version": "1.2.0",
      "model_name": "LayoutModel",
      "state": {}
     },
     "fcda9a19ea194bfb8490222717f533bd": {
      "model_module": "@jupyter-widgets/base",
      "model_module_version": "1.2.0",
      "model_name": "LayoutModel",
      "state": {}
     },
     "fd24e98b46e44cec8267a5f85d219e3d": {
      "model_module": "@jupyter-widgets/controls",
      "model_module_version": "1.5.0",
      "model_name": "DescriptionStyleModel",
      "state": {
       "description_width": ""
      }
     },
     "fd8392d16a3d4e9ca2a97e546426f1be": {
      "model_module": "@jupyter-widgets/controls",
      "model_module_version": "1.5.0",
      "model_name": "TextModel",
      "state": {
       "description": "Filename: ",
       "layout": "IPY_MODEL_c72882f80a424c57b2f5cbb2c6785ab9",
       "style": "IPY_MODEL_60b246f77ca445d1a90c9d85710489ae",
       "value": "screenshot.png"
      }
     },
     "fe8e421cc3634ea3950ef6c77f039351": {
      "model_module": "@jupyter-widgets/base",
      "model_module_version": "1.2.0",
      "model_name": "LayoutModel",
      "state": {}
     },
     "ff4b69f842e545faad211fd534e60c2c": {
      "model_module": "@jupyter-widgets/controls",
      "model_module_version": "1.5.0",
      "model_name": "DescriptionStyleModel",
      "state": {
       "description_width": ""
      }
     }
    },
    "version_major": 2,
    "version_minor": 0
   }
  }
 },
 "nbformat": 4,
 "nbformat_minor": 5
}
