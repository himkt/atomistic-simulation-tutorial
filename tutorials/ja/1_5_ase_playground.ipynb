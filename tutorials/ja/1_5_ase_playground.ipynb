{
 "cells": [
  {
   "cell_type": "markdown",
   "id": "06017496-5e5c-4e0b-8e8f-996fa364b282",
   "metadata": {},
   "source": [
    "# Atomsの操作\n",
    "\n",
    "ここまででASEの基礎を学び Atoms や Calculatorの扱い方を学びました。<br/>\n",
    "本章では、Atomsを操作していく実例を通してその扱いにより深く慣れていきましょう。"
   ]
  },
  {
   "cell_type": "code",
   "execution_count": 1,
   "id": "0e8e56e2-c42f-4267-a255-f2282fb1dbf0",
   "metadata": {},
   "outputs": [],
   "source": [
    "from ase import Atoms\n",
    "from ase.build import molecule, bulk"
   ]
  },
  {
   "cell_type": "markdown",
   "id": "fcc7359e-242e-415e-acb6-6471001df7dc",
   "metadata": {},
   "source": [
    "## コピー\n",
    "\n",
    "`atoms`を作成したあと、そのコピーを作成するには `copy()` methodを使うことができます。<br/>\n",
    "原子の元素種・座標値や、セルなどがコピーされます。\n",
    "\n",
    "以下では`atoms2` が`atoms`と同じ座標値を持ったH2Oのコピーになっています。"
   ]
  },
  {
   "cell_type": "code",
   "execution_count": 2,
   "id": "81da3601-a335-4879-a47b-7a28cbc85f80",
   "metadata": {},
   "outputs": [
    {
     "name": "stdout",
     "output_type": "stream",
     "text": [
      "atoms : Atoms(symbols='OH2', pbc=False)\n",
      "pos [[ 0.        0.        0.119262]\n",
      " [ 0.        0.763239 -0.477047]\n",
      " [ 0.       -0.763239 -0.477047]]\n",
      "\n",
      "atoms2: Atoms(symbols='OH2', pbc=False)\n",
      "pos [[ 0.        0.        0.119262]\n",
      " [ 0.        0.763239 -0.477047]\n",
      " [ 0.       -0.763239 -0.477047]]\n"
     ]
    }
   ],
   "source": [
    "atoms = molecule(\"H2O\")\n",
    "atoms2 = atoms.copy()\n",
    "\n",
    "print(\"atoms :\", atoms)\n",
    "print(\"pos\", atoms.positions)\n",
    "print()\n",
    "print(\"atoms2:\", atoms2)\n",
    "print(\"pos\", atoms2.positions)"
   ]
  },
  {
   "cell_type": "markdown",
   "id": "c043b356-6d32-4a44-93f4-ff7630c352f2",
   "metadata": {},
   "source": [
    "## propertyの書き換え\n",
    "\n",
    "Atomsは様々なget, set 関数を持っています。これらを通じてAtomsの持つ属性値を変更することが可能です。\n",
    " - https://wiki.fysik.dtu.dk/ase/ase/atoms.html#working-with-the-array-methods-of-atoms-objects\n",
    " \n",
    "例えば前章では `set_momenta` 関数を使用して運動量を設定する例がありました。"
   ]
  },
  {
   "cell_type": "markdown",
   "id": "b4847fac-72df-4c8a-8ded-dfed50d5a5c9",
   "metadata": {},
   "source": [
    "## 座標値の変更\n",
    "\n",
    "座標値の変更の場合、`atoms.positions` をそのまま書き換えることができます。"
   ]
  },
  {
   "cell_type": "code",
   "execution_count": 3,
   "id": "fe6d571d-7ab8-48a5-80dc-26090f71ec42",
   "metadata": {},
   "outputs": [
    {
     "data": {
      "text/plain": [
       "array([[ 1.218055,  0.36124 ,  0.      ],\n",
       "       [ 0.      ,  0.464133,  0.      ],\n",
       "       [-0.477241,  1.465295,  0.      ],\n",
       "       [-0.948102, -0.700138,  0.      ],\n",
       "       [-0.385946, -1.634236,  0.      ],\n",
       "       [-1.596321, -0.652475,  0.880946],\n",
       "       [-1.596321, -0.652475, -0.880946]])"
      ]
     },
     "execution_count": 3,
     "metadata": {},
     "output_type": "execute_result"
    }
   ],
   "source": [
    "atoms = molecule(\"CH3CHO\")\n",
    "atoms.positions"
   ]
  },
  {
   "cell_type": "code",
   "execution_count": 4,
   "id": "4647650e-cedc-4aa9-b3ef-bf20b00fabe4",
   "metadata": {},
   "outputs": [
    {
     "data": {
      "application/vnd.jupyter.widget-view+json": {
       "model_id": "d377ba07c9c643d383093cb932886079",
       "version_major": 2,
       "version_minor": 0
      },
      "text/plain": []
     },
     "metadata": {},
     "output_type": "display_data"
    },
    {
     "data": {
      "application/vnd.jupyter.widget-view+json": {
       "model_id": "1998536f675e4a9f960c345c34446866",
       "version_major": 2,
       "version_minor": 0
      },
      "text/plain": [
       "HBox(children=(NGLWidget(), VBox(children=(Dropdown(description='Show', options=('All', 'O', 'C', 'H'), value=…"
      ]
     },
     "metadata": {},
     "output_type": "display_data"
    }
   ],
   "source": [
    "from pfcc_extras.visualize.view import view_ngl\n",
    "\n",
    "view_ngl(atoms, representations=[\"ball+stick\"], w=400, h=300)"
   ]
  },
  {
   "cell_type": "markdown",
   "id": "1f97a267-cd30-4836-95c8-6b16ac3293c2",
   "metadata": {},
   "source": [
    "0番目のO原子を `[1.218055, 0.36124, 0.]` から、 `[2.0, 0, 0]`　に動かしてみます。\n",
    "\n",
    "`atoms.positions` をそのまま書き換えることができます。"
   ]
  },
  {
   "cell_type": "code",
   "execution_count": 5,
   "id": "acef9e38-012b-4b7a-94b8-f7ed550c52b3",
   "metadata": {},
   "outputs": [],
   "source": [
    "# 1つ目の0が原子index = O原子を指定。\n",
    "# 2つ目は0,1,2がx, y, zにそれぞれ対応。\n",
    "atoms.positions[0] = [2.0, 0, 0]"
   ]
  },
  {
   "cell_type": "code",
   "execution_count": 6,
   "id": "9ad2c104-9433-46e1-aee0-1dfcb296cefe",
   "metadata": {},
   "outputs": [
    {
     "data": {
      "application/vnd.jupyter.widget-view+json": {
       "model_id": "2b346318ff9e45b195b2b14929e6a753",
       "version_major": 2,
       "version_minor": 0
      },
      "text/plain": [
       "HBox(children=(NGLWidget(), VBox(children=(Dropdown(description='Show', options=('All', 'O', 'C', 'H'), value=…"
      ]
     },
     "metadata": {},
     "output_type": "display_data"
    }
   ],
   "source": [
    "view_ngl(atoms, representations=[\"ball+stick\"], w=400, h=300)"
   ]
  },
  {
   "cell_type": "markdown",
   "id": "ca15b6dd-2d55-4fec-9d65-e3b685c296fd",
   "metadata": {},
   "source": [
    "O原子が動いたことが確認できました。"
   ]
  },
  {
   "cell_type": "markdown",
   "id": "75727065-d7d8-4a29-9dc8-dc6f8f17c25e",
   "metadata": {},
   "source": [
    "## 平行移動、回転\n",
    "\n",
    "atoms全体の平行移動や回転は、`translate`, `rotate` 関数を使うことができます。\n",
    "\n",
    "`translate`関数は (3,) のxyzベクトルを指定するとすべての分子を同じだけ平行移動し、 (n, 3) のベクトルを指定するとn個の原子を別々の量平行移動します。<br/>\n",
    "以下の例では、すべての原子を `[1.0, 0, 0]` 平行移動しています。 <br/>\n",
    "実際に座標値を見ると x軸方向だけ平行移動されているのがわかります。"
   ]
  },
  {
   "cell_type": "code",
   "execution_count": 7,
   "id": "481f1a81-f04a-42ac-a258-8c61241a1991",
   "metadata": {},
   "outputs": [
    {
     "data": {
      "text/plain": [
       "array([[ 3.      ,  0.      ,  0.      ],\n",
       "       [ 1.      ,  0.464133,  0.      ],\n",
       "       [ 0.522759,  1.465295,  0.      ],\n",
       "       [ 0.051898, -0.700138,  0.      ],\n",
       "       [ 0.614054, -1.634236,  0.      ],\n",
       "       [-0.596321, -0.652475,  0.880946],\n",
       "       [-0.596321, -0.652475, -0.880946]])"
      ]
     },
     "execution_count": 7,
     "metadata": {},
     "output_type": "execute_result"
    }
   ],
   "source": [
    "atoms.translate([1.0, 0, 0])\n",
    "atoms.positions"
   ]
  },
  {
   "cell_type": "markdown",
   "id": "5cfb8279-883f-4fdb-8a85-8aae83e58f7f",
   "metadata": {},
   "source": [
    "`rotate`関数は `atoms`を回転させるための関数です。\n",
    "\n",
    "以下の例は z軸方向を回転軸として 90°回転させています。<br/>\n",
    "回転軸は、`v=[0,0,1]`のようにベクトルで指定することもできます。"
   ]
  },
  {
   "cell_type": "code",
   "execution_count": 8,
   "id": "7f5419cf-4fbd-4eaa-99b2-7fd3d4fdaa2c",
   "metadata": {},
   "outputs": [
    {
     "data": {
      "text/plain": [
       "array([[ 1.8369702e-16,  3.0000000e+00,  0.0000000e+00],\n",
       "       [-4.6413300e-01,  1.0000000e+00,  0.0000000e+00],\n",
       "       [-1.4652950e+00,  5.2275900e-01,  0.0000000e+00],\n",
       "       [ 7.0013800e-01,  5.1898000e-02,  0.0000000e+00],\n",
       "       [ 1.6342360e+00,  6.1405400e-01,  0.0000000e+00],\n",
       "       [ 6.5247500e-01, -5.9632100e-01,  8.8094600e-01],\n",
       "       [ 6.5247500e-01, -5.9632100e-01, -8.8094600e-01]])"
      ]
     },
     "execution_count": 8,
     "metadata": {},
     "output_type": "execute_result"
    }
   ],
   "source": [
    "atoms.rotate(90, v=\"z\")\n",
    "atoms.positions"
   ]
  },
  {
   "cell_type": "code",
   "execution_count": 9,
   "id": "8fd82981-ee3e-420a-b0ff-eddc161c1b96",
   "metadata": {},
   "outputs": [
    {
     "data": {
      "application/vnd.jupyter.widget-view+json": {
       "model_id": "c55e4f7ff67f4abaac9a7a6d480f52c2",
       "version_major": 2,
       "version_minor": 0
      },
      "text/plain": [
       "HBox(children=(NGLWidget(), VBox(children=(Dropdown(description='Show', options=('All', 'O', 'C', 'H'), value=…"
      ]
     },
     "metadata": {},
     "output_type": "display_data"
    }
   ],
   "source": [
    "view_ngl(atoms, representations=[\"ball+stick\"], w=400, h=300)"
   ]
  },
  {
   "cell_type": "markdown",
   "id": "48eb0b68-5362-460a-9143-9ea5915d2479",
   "metadata": {},
   "source": [
    "周期構造を持つ系を回転させた場合、以下のように、Cellはそのままで原子の座標のみが回転されるため、原子はCellからはみ出してしまいます。"
   ]
  },
  {
   "cell_type": "code",
   "execution_count": 10,
   "id": "181dd58d-f0d9-4933-915c-e23de7b02e33",
   "metadata": {},
   "outputs": [
    {
     "data": {
      "application/vnd.jupyter.widget-view+json": {
       "model_id": "be3227259bf043638fdf3d09007f4108",
       "version_major": 2,
       "version_minor": 0
      },
      "text/plain": [
       "HBox(children=(NGLWidget(), VBox(children=(Dropdown(description='Show', options=('All', 'Fe'), value='All'), D…"
      ]
     },
     "metadata": {},
     "output_type": "display_data"
    }
   ],
   "source": [
    "atoms = bulk(\"Fe\") * (2, 3, 4)\n",
    "\n",
    "atoms.rotate(90, v=[0, 0, 1])\n",
    "view_ngl(atoms, representations=[\"ball+stick\"], w=400, h=300)"
   ]
  },
  {
   "cell_type": "markdown",
   "id": "a1bd9d89-a906-4c53-9b27-f284c68df485",
   "metadata": {},
   "source": [
    "Cellの座標も同時に回転させるには、 `rotate_cell=True` とします。"
   ]
  },
  {
   "cell_type": "code",
   "execution_count": 11,
   "id": "3516de14-5e12-47ba-a0a8-0c1b043b0371",
   "metadata": {
    "tags": []
   },
   "outputs": [
    {
     "data": {
      "application/vnd.jupyter.widget-view+json": {
       "model_id": "9e7352669b2944b796615128bf76f67e",
       "version_major": 2,
       "version_minor": 0
      },
      "text/plain": [
       "HBox(children=(NGLWidget(), VBox(children=(Dropdown(description='Show', options=('All', 'Fe'), value='All'), D…"
      ]
     },
     "metadata": {},
     "output_type": "display_data"
    }
   ],
   "source": [
    "atoms = bulk(\"Fe\") * (2, 3, 4)\n",
    "\n",
    "atoms.rotate(90, v=[0, 0, 1], rotate_cell=True)\n",
    "view_ngl(atoms, representations=[\"ball+stick\"], w=400, h=300)"
   ]
  },
  {
   "cell_type": "markdown",
   "id": "86d0168f-53cd-4d67-8e2c-f4a69c360682",
   "metadata": {},
   "source": [
    "## ランダム移動\n",
    "\n",
    "`rattle` 関数を使うと、それぞれの原子をランダム移動させて少し乱雑な構造を作成することができます。\n",
    "\n",
    "ここでは、まずSi 結晶を作成します。"
   ]
  },
  {
   "cell_type": "code",
   "execution_count": 12,
   "id": "d5b45d68-f58b-44e4-9bae-c57f59ab9d7e",
   "metadata": {},
   "outputs": [
    {
     "data": {
      "application/vnd.jupyter.widget-view+json": {
       "model_id": "1331e712da614c5b812ec10b1403a057",
       "version_major": 2,
       "version_minor": 0
      },
      "text/plain": [
       "HBox(children=(NGLWidget(), VBox(children=(Dropdown(description='Show', options=('All', 'Si'), value='All'), D…"
      ]
     },
     "metadata": {},
     "output_type": "display_data"
    }
   ],
   "source": [
    "atoms = bulk(\"Si\") * (2, 3, 4)\n",
    "view_ngl(atoms, representations=[\"ball+stick\"], w=400, h=300)"
   ]
  },
  {
   "cell_type": "markdown",
   "id": "6cf86ef1-7a26-4ad3-b530-8eaf55737dda",
   "metadata": {},
   "source": [
    "この系を `rattle` で少し構造を乱してみます。変位の方向は`seed`の指定を変えることで、変えることができます。"
   ]
  },
  {
   "cell_type": "code",
   "execution_count": 13,
   "id": "fd860746-fc92-4d16-a413-01ba43f04455",
   "metadata": {},
   "outputs": [
    {
     "data": {
      "application/vnd.jupyter.widget-view+json": {
       "model_id": "0b3c9ae19b244fdf9e378aec2fee9efe",
       "version_major": 2,
       "version_minor": 0
      },
      "text/plain": [
       "HBox(children=(NGLWidget(), VBox(children=(Dropdown(description='Show', options=('All', 'Si'), value='All'), D…"
      ]
     },
     "metadata": {},
     "output_type": "display_data"
    }
   ],
   "source": [
    "atoms.rattle(stdev=0.2, seed=1)\n",
    "view_ngl(atoms, w=400, h=300)"
   ]
  },
  {
   "cell_type": "markdown",
   "id": "e158c49e-10f3-4bd0-ba98-5bd6e86c44dc",
   "metadata": {},
   "source": [
    "`stdev`の値を変えることでより大きく乱す事もできます。"
   ]
  },
  {
   "cell_type": "code",
   "execution_count": 14,
   "id": "b3df0052-d169-4b92-a21d-aa2e9f1820e5",
   "metadata": {},
   "outputs": [
    {
     "data": {
      "application/vnd.jupyter.widget-view+json": {
       "model_id": "599baf34a94741fa97458e8e0aaeda54",
       "version_major": 2,
       "version_minor": 0
      },
      "text/plain": [
       "HBox(children=(NGLWidget(), VBox(children=(Dropdown(description='Show', options=('All', 'Si'), value='All'), D…"
      ]
     },
     "metadata": {},
     "output_type": "display_data"
    }
   ],
   "source": [
    "atoms.rattle(stdev=0.5)\n",
    "view_ngl(atoms, w=400, h=300)"
   ]
  },
  {
   "cell_type": "markdown",
   "id": "bee8085f-9ba9-47e9-8c8f-21a0e82eaea7",
   "metadata": {},
   "source": [
    "[Note (Advance)] ASEの`rattle` 関数の引数である`seed` が指定されていないときは **`seed=42` が使われるという仕様になっており、結果`rattle`の結果はDeterministicになる**ので注意してください。\n",
    "\n",
    "以下の例では、2回 `rattle`を行った結果が等しくなっていることを確認しています。"
   ]
  },
  {
   "cell_type": "code",
   "execution_count": 15,
   "id": "004f401e-1800-42ca-b48e-9cdb8c42d142",
   "metadata": {},
   "outputs": [
    {
     "name": "stdout",
     "output_type": "stream",
     "text": [
      "atoms & atoms2 positions are same? -->  True\n"
     ]
    }
   ],
   "source": [
    "import numpy as np\n",
    "\n",
    "\n",
    "atoms = bulk(\"Si\") * (2, 3, 4)\n",
    "atoms2 = atoms.copy()\n",
    "\n",
    "atoms.rattle(stdev=0.2)\n",
    "atoms2.rattle(stdev=0.2)\n",
    "\n",
    "print(\"atoms & atoms2 positions are same? --> \", np.allclose(atoms.positions, atoms2.positions))"
   ]
  },
  {
   "cell_type": "markdown",
   "id": "23b2db42-1363-4ef5-9ee2-47abd7abf808",
   "metadata": {},
   "source": [
    "もし、毎回違う結果をランダムに得たい場合は `rng=np.random.RandomState()` を指定してください。"
   ]
  },
  {
   "cell_type": "code",
   "execution_count": 16,
   "id": "bf21d12c-a5b0-49ce-bf34-9886e09439b4",
   "metadata": {},
   "outputs": [
    {
     "name": "stdout",
     "output_type": "stream",
     "text": [
      "atoms & atoms2 positions are same? -->  False\n"
     ]
    }
   ],
   "source": [
    "atoms = bulk(\"Si\") * (2, 3, 4)\n",
    "atoms2 = atoms.copy()\n",
    "\n",
    "atoms.rattle(stdev=0.2, rng=np.random.RandomState())\n",
    "atoms2.rattle(stdev=0.2, rng=np.random.RandomState())\n",
    "\n",
    "print(\"atoms & atoms2 positions are same? --> \", np.allclose(atoms.positions, atoms2.positions))"
   ]
  },
  {
   "cell_type": "markdown",
   "id": "9af56d1c-d194-4c71-af98-0905ed563449",
   "metadata": {},
   "source": [
    "## wrap\n",
    "\n",
    "上記のSi結晶のように、Cellの外側に原子が飛び出してしまった場合、 `wrap` 関数を使うことで再び対応する周期構造の内側に戻す事ができます。"
   ]
  },
  {
   "cell_type": "code",
   "execution_count": 17,
   "id": "941a4725-4c48-4715-9086-6a47270a22c5",
   "metadata": {},
   "outputs": [
    {
     "data": {
      "application/vnd.jupyter.widget-view+json": {
       "model_id": "d82dd590943f42ceb5c550bdba2efe6e",
       "version_major": 2,
       "version_minor": 0
      },
      "text/plain": [
       "HBox(children=(NGLWidget(), VBox(children=(Dropdown(description='Show', options=('All', 'Si'), value='All'), D…"
      ]
     },
     "metadata": {},
     "output_type": "display_data"
    }
   ],
   "source": [
    "atoms.wrap()\n",
    "view_ngl(atoms, w=400, h=300)"
   ]
  },
  {
   "cell_type": "markdown",
   "id": "f31836f1-e3a3-46c4-95e0-02238f8d905f",
   "metadata": {},
   "source": [
    "## Super cellの作成\n",
    "\n",
    "前章でもすでに説明したように、周期系の構造は`repeat`または、掛け算 \"*\" の記法を用いる用いることでCellサイズを大きくすることができます。"
   ]
  },
  {
   "cell_type": "code",
   "execution_count": 18,
   "id": "5555d047-0694-4328-a77f-1e87e9907fca",
   "metadata": {},
   "outputs": [
    {
     "data": {
      "application/vnd.jupyter.widget-view+json": {
       "model_id": "77b1ef9224564072ac22193bd851cdcd",
       "version_major": 2,
       "version_minor": 0
      },
      "text/plain": [
       "HBox(children=(NGLWidget(), VBox(children=(Dropdown(description='Show', options=('All', 'Si'), value='All'), D…"
      ]
     },
     "metadata": {},
     "output_type": "display_data"
    }
   ],
   "source": [
    "atoms222 = atoms * (2, 2, 2)\n",
    "view_ngl(atoms222, w=400, h=300)"
   ]
  },
  {
   "cell_type": "markdown",
   "id": "eed63c11-48fe-4016-9e0e-3688d939b74b",
   "metadata": {},
   "source": [
    "## Cell の取り扱い\n",
    "\n",
    "周期構造を持つ `atoms`は `cell` propertyを持ちますが、これは `Cell` クラスという特別なクラスで定義されており、いくつか追加の関数を持っています。"
   ]
  },
  {
   "cell_type": "code",
   "execution_count": 19,
   "id": "734eaab0-0ad5-45c4-aab0-3565fa9700c6",
   "metadata": {},
   "outputs": [
    {
     "data": {
      "application/vnd.jupyter.widget-view+json": {
       "model_id": "8eb4105a69524507bb41c3e55dfb21c5",
       "version_major": 2,
       "version_minor": 0
      },
      "text/plain": [
       "HBox(children=(NGLWidget(), VBox(children=(Dropdown(description='Show', options=('All', 'Fe'), value='All'), D…"
      ]
     },
     "metadata": {},
     "output_type": "display_data"
    }
   ],
   "source": [
    "# atoms = bulk(\"Fe\", cubic=True)\n",
    "atoms = bulk(\"Fe\") * (2, 2, 2)\n",
    "view_ngl(atoms, w=400, h=300)"
   ]
  },
  {
   "cell_type": "code",
   "execution_count": 20,
   "id": "f25e0e29-a611-47dd-a49d-4276d931d0e9",
   "metadata": {},
   "outputs": [
    {
     "data": {
      "text/plain": [
       "Cell([[-2.87, 2.87, 2.87], [2.87, -2.87, 2.87], [2.87, 2.87, -2.87]])"
      ]
     },
     "execution_count": 20,
     "metadata": {},
     "output_type": "execute_result"
    }
   ],
   "source": [
    "atoms.cell"
   ]
  },
  {
   "cell_type": "markdown",
   "id": "b737797e-6f40-4a05-9371-a92846f3fe70",
   "metadata": {},
   "source": [
    "<img src=https://upload.wikimedia.org/wikipedia/commons/5/5e/UnitCell.png width=\"400\">\n",
    "<cite><a href=\"https://ja.wikipedia.org/wiki/%E5%88%86%E7%8E%87%E5%BA%A7%E6%A8%99\">分率座標</a>より</cite>\n",
    "\n",
    "結晶のCellはa軸, b軸, c軸のベクトルをそれぞれ示した3x3 の配列でも表せますが、分率座標を用いると、軸の長さ a, b, cと、軸の角度 α, β, γ で表すこともできます。<br/>\n",
    "以下の関数はそれぞれ次の値を返します。\n",
    "\n",
    " - `cellpar()`: (a, b, c, α, β, γ)\n",
    " - `lengths()`: (a, b, c)\n",
    " - `angles()`: (α, β, γ)"
   ]
  },
  {
   "cell_type": "code",
   "execution_count": 21,
   "id": "e9fd7e79-73ad-4d52-9f28-288972a13e2b",
   "metadata": {},
   "outputs": [
    {
     "name": "stdout",
     "output_type": "stream",
     "text": [
      "cellpar():  [  4.97098582   4.97098582   4.97098582 109.47122063 109.47122063\n",
      " 109.47122063]\n",
      "lengths():  [4.97098582 4.97098582 4.97098582]\n",
      "angles() :  [109.47122063 109.47122063 109.47122063]\n"
     ]
    }
   ],
   "source": [
    "print(\"cellpar(): \", atoms.cell.cellpar())\n",
    "print(\"lengths(): \", atoms.cell.lengths())\n",
    "print(\"angles() : \", atoms.cell.angles())"
   ]
  },
  {
   "cell_type": "markdown",
   "id": "9d1c0bf7-8413-4b15-9895-bf375dd58b81",
   "metadata": {},
   "source": [
    "3x3 配列にアクセスするには `array`で numpy array が取得できます。"
   ]
  },
  {
   "cell_type": "code",
   "execution_count": 22,
   "id": "2ebb1786-c7a2-40a0-a942-3ee79527b9c1",
   "metadata": {},
   "outputs": [
    {
     "data": {
      "text/plain": [
       "array([[-2.87,  2.87,  2.87],\n",
       "       [ 2.87, -2.87,  2.87],\n",
       "       [ 2.87,  2.87, -2.87]])"
      ]
     },
     "execution_count": 22,
     "metadata": {},
     "output_type": "execute_result"
    }
   ],
   "source": [
    "atoms.cell.array"
   ]
  },
  {
   "cell_type": "markdown",
   "id": "0cd30542-0e93-471d-9ae3-652aa26c3010",
   "metadata": {},
   "source": [
    "`cell` はnumpy の関数を使用することもできます。例えば以下はnumpyの`diagonal`関数で対角成分のみを取得しています。"
   ]
  },
  {
   "cell_type": "code",
   "execution_count": 23,
   "id": "9c74378a-9db3-495f-a920-8fe8638d67af",
   "metadata": {},
   "outputs": [
    {
     "data": {
      "text/plain": [
       "array([-2.87, -2.87, -2.87])"
      ]
     },
     "execution_count": 23,
     "metadata": {},
     "output_type": "execute_result"
    }
   ],
   "source": [
    "atoms.cell.diagonal()"
   ]
  },
  {
   "cell_type": "markdown",
   "id": "ea503dd4-e187-450c-ade2-928b1419d5de",
   "metadata": {},
   "source": [
    "`get_bravais_lattice` でブラベ格子や、`bandpath` でバンドパスを得ることもできます。"
   ]
  },
  {
   "cell_type": "code",
   "execution_count": 24,
   "id": "18ed40ec-5923-4e83-8748-32ecbea4828a",
   "metadata": {},
   "outputs": [
    {
     "data": {
      "text/plain": [
       "BCC(a=5.7400000000000002132)"
      ]
     },
     "execution_count": 24,
     "metadata": {},
     "output_type": "execute_result"
    }
   ],
   "source": [
    "atoms.cell.get_bravais_lattice()"
   ]
  },
  {
   "cell_type": "code",
   "execution_count": 25,
   "id": "924b711e-5517-4cfa-bb60-388ae82a9ee5",
   "metadata": {},
   "outputs": [
    {
     "data": {
      "text/plain": [
       "BandPath(path='GHNGPH,PN', cell=[3x3], special_points={GHNP}, kpts=[25x3])"
      ]
     },
     "execution_count": 25,
     "metadata": {},
     "output_type": "execute_result"
    }
   ],
   "source": [
    "atoms.cell.bandpath()"
   ]
  },
  {
   "cell_type": "markdown",
   "id": "294728b6-f59f-4129-9429-7fd09334a512",
   "metadata": {},
   "source": [
    "`standard_form()` methodはCellの形を下三角行列に標準化した場合のCellの形 `rcell` と、そのようにするための回転行列`Q` を計算します。"
   ]
  },
  {
   "cell_type": "code",
   "execution_count": 26,
   "id": "3003144b-9ccc-41cc-82c9-b80c6b4847b9",
   "metadata": {},
   "outputs": [
    {
     "data": {
      "text/plain": [
       "Cell([[4.970985817722678, 0.0, 0.0], [-1.6569952725742265, 4.686690374525147, 0.0], [-1.6569952725742256, -2.3433451872625737, 4.058792924010784]])"
      ]
     },
     "execution_count": 26,
     "metadata": {},
     "output_type": "execute_result"
    }
   ],
   "source": [
    "rcell, Q = atoms.cell.standard_form()\n",
    "rcell"
   ]
  },
  {
   "cell_type": "markdown",
   "id": "b3eb9c49-7ad9-4ee3-aba1-90f2a3118eda",
   "metadata": {},
   "source": [
    "## 元素置換\n",
    "\n",
    "ある結晶に対して、少量の添加物を加えた場合の構造を作りたい場合、ベースとなる結晶を作成した後に原子を置換する形でモデリングすることができます。\n",
    "\n",
    "以下の例は、Fe の金属中にVを添加する例です。\n",
    "\n",
    "※表面構造を生成する関数 `bcc111` では、 `vacuum` を指定することでz軸方向の真空層の長さを指定することができます。<br/>\n",
    "また、`periodic=True`とすることで、z軸方向に対しても周期境界条件を適用します。<br/>\n",
    "これを指定しないとCellサイズが定まらず、nglviewerの可視化でエラーが起こるので注意してください。"
   ]
  },
  {
   "cell_type": "code",
   "execution_count": 27,
   "id": "e29333f6-081f-4208-90aa-2e76ff5a2ccf",
   "metadata": {},
   "outputs": [
    {
     "data": {
      "application/vnd.jupyter.widget-view+json": {
       "model_id": "709a925ea3c44f65952a407d02d9af43",
       "version_major": 2,
       "version_minor": 0
      },
      "text/plain": [
       "HBox(children=(NGLWidget(), VBox(children=(Dropdown(description='Show', options=('All', 'Fe'), value='All'), D…"
      ]
     },
     "metadata": {},
     "output_type": "display_data"
    }
   ],
   "source": [
    "from ase.build import bcc111\n",
    "from ase.visualize import view\n",
    "\n",
    "atoms = bcc111(\"Fe\", size=(4, 4, 6), periodic=True)\n",
    "view_ngl(atoms, w=400, h=300)"
   ]
  },
  {
   "cell_type": "markdown",
   "id": "0d202067-af54-4e2f-adb9-25e59554d136",
   "metadata": {},
   "source": [
    "はじめはすべてFe (原子番号26)となっています。"
   ]
  },
  {
   "cell_type": "code",
   "execution_count": 28,
   "id": "8dd9d3f2-e0ad-4956-9561-3f82eb76928a",
   "metadata": {},
   "outputs": [
    {
     "data": {
      "text/plain": [
       "array([26, 26, 26, 26, 26, 26, 26, 26, 26, 26, 26, 26, 26, 26, 26, 26, 26,\n",
       "       26, 26, 26, 26, 26, 26, 26, 26, 26, 26, 26, 26, 26, 26, 26, 26, 26,\n",
       "       26, 26, 26, 26, 26, 26, 26, 26, 26, 26, 26, 26, 26, 26, 26, 26, 26,\n",
       "       26, 26, 26, 26, 26, 26, 26, 26, 26, 26, 26, 26, 26, 26, 26, 26, 26,\n",
       "       26, 26, 26, 26, 26, 26, 26, 26, 26, 26, 26, 26, 26, 26, 26, 26, 26,\n",
       "       26, 26, 26, 26, 26, 26, 26, 26, 26, 26, 26])"
      ]
     },
     "execution_count": 28,
     "metadata": {},
     "output_type": "execute_result"
    }
   ],
   "source": [
    "numbers = atoms.get_atomic_numbers()\n",
    "numbers"
   ]
  },
  {
   "cell_type": "markdown",
   "id": "c3164879-97d1-4d0e-a459-e445c9a616a1",
   "metadata": {},
   "source": [
    "今回はランダムに5つの原子をV (原子番号23) に変えてみます。"
   ]
  },
  {
   "cell_type": "code",
   "execution_count": 29,
   "id": "3a1cafa3-f91f-4af4-a9f6-50f4cf3895fa",
   "metadata": {},
   "outputs": [
    {
     "name": "stdout",
     "output_type": "stream",
     "text": [
      "Replace [44 50 71 19  6] atom\n"
     ]
    }
   ],
   "source": [
    "import numpy as np\n",
    "\n",
    "replace_index = np.random.choice(np.arange(len(numbers)), size=5, replace=False)\n",
    "print(f\"Replace {replace_index} atom\")\n",
    "numbers[replace_index] = 23\n",
    "atoms.set_atomic_numbers(numbers)"
   ]
  },
  {
   "cell_type": "code",
   "execution_count": 30,
   "id": "87096072-1ef0-436f-a528-438f4a9e6886",
   "metadata": {},
   "outputs": [
    {
     "data": {
      "application/vnd.jupyter.widget-view+json": {
       "model_id": "1f2bc6f238b1486e9b4badd58a1d06b4",
       "version_major": 2,
       "version_minor": 0
      },
      "text/plain": [
       "HBox(children=(NGLWidget(), VBox(children=(Dropdown(description='Show', options=('All', 'V', 'Fe'), value='All…"
      ]
     },
     "metadata": {},
     "output_type": "display_data"
    }
   ],
   "source": [
    "view_ngl(atoms, w=400, h=300)"
   ]
  },
  {
   "cell_type": "markdown",
   "id": "5af66588-67ac-4f92-9739-496e0f0cd8b9",
   "metadata": {},
   "source": [
    "ちなみに、それぞれの元素の原子番号を知りたい場合は、 `ase.data.atomic_numbers` を参照することができます。"
   ]
  },
  {
   "cell_type": "code",
   "execution_count": 31,
   "id": "ab99077e-8939-48b6-a40a-9e59f2d6921a",
   "metadata": {},
   "outputs": [
    {
     "name": "stdout",
     "output_type": "stream",
     "text": [
      "atomic_numbers:  {'X': 0, 'H': 1, 'He': 2, 'Li': 3, 'Be': 4, 'B': 5, 'C': 6, 'N': 7, 'O': 8, 'F': 9, 'Ne': 10, 'Na': 11, 'Mg': 12, 'Al': 13, 'Si': 14, 'P': 15, 'S': 16, 'Cl': 17, 'Ar': 18, 'K': 19, 'Ca': 20, 'Sc': 21, 'Ti': 22, 'V': 23, 'Cr': 24, 'Mn': 25, 'Fe': 26, 'Co': 27, 'Ni': 28, 'Cu': 29, 'Zn': 30, 'Ga': 31, 'Ge': 32, 'As': 33, 'Se': 34, 'Br': 35, 'Kr': 36, 'Rb': 37, 'Sr': 38, 'Y': 39, 'Zr': 40, 'Nb': 41, 'Mo': 42, 'Tc': 43, 'Ru': 44, 'Rh': 45, 'Pd': 46, 'Ag': 47, 'Cd': 48, 'In': 49, 'Sn': 50, 'Sb': 51, 'Te': 52, 'I': 53, 'Xe': 54, 'Cs': 55, 'Ba': 56, 'La': 57, 'Ce': 58, 'Pr': 59, 'Nd': 60, 'Pm': 61, 'Sm': 62, 'Eu': 63, 'Gd': 64, 'Tb': 65, 'Dy': 66, 'Ho': 67, 'Er': 68, 'Tm': 69, 'Yb': 70, 'Lu': 71, 'Hf': 72, 'Ta': 73, 'W': 74, 'Re': 75, 'Os': 76, 'Ir': 77, 'Pt': 78, 'Au': 79, 'Hg': 80, 'Tl': 81, 'Pb': 82, 'Bi': 83, 'Po': 84, 'At': 85, 'Rn': 86, 'Fr': 87, 'Ra': 88, 'Ac': 89, 'Th': 90, 'Pa': 91, 'U': 92, 'Np': 93, 'Pu': 94, 'Am': 95, 'Cm': 96, 'Bk': 97, 'Cf': 98, 'Es': 99, 'Fm': 100, 'Md': 101, 'No': 102, 'Lr': 103, 'Rf': 104, 'Db': 105, 'Sg': 106, 'Bh': 107, 'Hs': 108, 'Mt': 109, 'Ds': 110, 'Rg': 111, 'Cn': 112, 'Nh': 113, 'Fl': 114, 'Mc': 115, 'Lv': 116, 'Ts': 117, 'Og': 118}\n",
      "V's atomic number is 23\n"
     ]
    }
   ],
   "source": [
    "from ase.data import atomic_numbers\n",
    "print(\"atomic_numbers: \", atomic_numbers)\n",
    "\n",
    "print(f\"V's atomic number is\", atomic_numbers['V'])"
   ]
  },
  {
   "cell_type": "markdown",
   "id": "ff00e87e-965c-4f68-b84c-5b87d1935b80",
   "metadata": {},
   "source": [
    "逆に、元素番号から元素記号・名前を知りたい場合は、 `chemical_symbols`, `atomic_names` を使用できます。"
   ]
  },
  {
   "cell_type": "code",
   "execution_count": 32,
   "id": "019717ec-1b00-4974-af08-d9ab1ed44086",
   "metadata": {},
   "outputs": [
    {
     "name": "stdout",
     "output_type": "stream",
     "text": [
      "chemical_symbols:  ['X', 'H', 'He', 'Li', 'Be', 'B', 'C', 'N', 'O', 'F', 'Ne', 'Na', 'Mg', 'Al', 'Si', 'P', 'S', 'Cl', 'Ar', 'K', 'Ca', 'Sc', 'Ti', 'V', 'Cr', 'Mn', 'Fe', 'Co', 'Ni', 'Cu', 'Zn', 'Ga', 'Ge', 'As', 'Se', 'Br', 'Kr', 'Rb', 'Sr', 'Y', 'Zr', 'Nb', 'Mo', 'Tc', 'Ru', 'Rh', 'Pd', 'Ag', 'Cd', 'In', 'Sn', 'Sb', 'Te', 'I', 'Xe', 'Cs', 'Ba', 'La', 'Ce', 'Pr', 'Nd', 'Pm', 'Sm', 'Eu', 'Gd', 'Tb', 'Dy', 'Ho', 'Er', 'Tm', 'Yb', 'Lu', 'Hf', 'Ta', 'W', 'Re', 'Os', 'Ir', 'Pt', 'Au', 'Hg', 'Tl', 'Pb', 'Bi', 'Po', 'At', 'Rn', 'Fr', 'Ra', 'Ac', 'Th', 'Pa', 'U', 'Np', 'Pu', 'Am', 'Cm', 'Bk', 'Cf', 'Es', 'Fm', 'Md', 'No', 'Lr', 'Rf', 'Db', 'Sg', 'Bh', 'Hs', 'Mt', 'Ds', 'Rg', 'Cn', 'Nh', 'Fl', 'Mc', 'Lv', 'Ts', 'Og']\n",
      "atomic_names    :  ['', 'Hydrogen', 'Helium', 'Lithium', 'Beryllium', 'Boron', 'Carbon', 'Nitrogen', 'Oxygen', 'Fluorine', 'Neon', 'Sodium', 'Magnesium', 'Aluminium', 'Silicon', 'Phosphorus', 'Sulfur', 'Chlorine', 'Argon', 'Potassium', 'Calcium', 'Scandium', 'Titanium', 'Vanadium', 'Chromium', 'Manganese', 'Iron', 'Cobalt', 'Nickel', 'Copper', 'Zinc', 'Gallium', 'Germanium', 'Arsenic', 'Selenium', 'Bromine', 'Krypton', 'Rubidium', 'Strontium', 'Yttrium', 'Zirconium', 'Niobium', 'Molybdenum', 'Technetium', 'Ruthenium', 'Rhodium', 'Palladium', 'Silver', 'Cadmium', 'Indium', 'Tin', 'Antimony', 'Tellurium', 'Iodine', 'Xenon', 'Caesium', 'Barium', 'Lanthanum', 'Cerium', 'Praseodymium', 'Neodymium', 'Promethium', 'Samarium', 'Europium', 'Gadolinium', 'Terbium', 'Dysprosium', 'Holmium', 'Erbium', 'Thulium', 'Ytterbium', 'Lutetium', 'Hafnium', 'Tantalum', 'Tungsten', 'Rhenium', 'Osmium', 'Iridium', 'Platinum', 'Gold', 'Mercury', 'Thallium', 'Lead', 'Bismuth', 'Polonium', 'Astatine', 'Radon', 'Francium', 'Radium', 'Actinium', 'Thorium', 'Protactinium', 'Uranium', 'Neptunium', 'Plutonium', 'Americium', 'Curium', 'Berkelium', 'Californium', 'Einsteinium', 'Fermium', 'Mendelevium', 'Nobelium', 'Lawrencium', 'Rutherfordium', 'Dubnium', 'Seaborgium', 'Bohrium', 'Hassium', 'Meitnerium', 'Darmastadtium', 'Roentgenium', 'Copernicium', 'Nihonium', 'Flerovium', 'Moscovium', 'Livermorium', 'Tennessine', 'Oganesson']\n",
      "atomic number 23 is V Vanadium\n"
     ]
    }
   ],
   "source": [
    "from ase.data import atomic_names, chemical_symbols\n",
    "print(\"chemical_symbols: \", chemical_symbols)\n",
    "print(\"atomic_names    : \", atomic_names)\n",
    "\n",
    "print(f\"atomic number 23 is\", chemical_symbols[23], atomic_names[23])"
   ]
  },
  {
   "cell_type": "markdown",
   "id": "28cb4a42-29bf-44e3-bf80-2a7e233080a5",
   "metadata": {},
   "source": [
    "## 空孔の作成\n",
    "\n",
    "結晶構造に欠陥がある場合の挙動を調べることは産業上重要です。\n",
    "\n",
    "ASEでは `pop` という関数を使うことにより、特定のindexの原子の削除ができます。\n",
    "(または、`del`関数も使用可能です。)\n",
    "\n",
    "Si結晶から、以下は13番目のSi原子を除いた欠陥構造を作る例です。"
   ]
  },
  {
   "cell_type": "code",
   "execution_count": 33,
   "id": "99b01421-9524-429c-8b7a-ad722f03ff0e",
   "metadata": {},
   "outputs": [
    {
     "data": {
      "application/vnd.jupyter.widget-view+json": {
       "model_id": "9e0d2422afc44001ade9cdb093cb873e",
       "version_major": 2,
       "version_minor": 0
      },
      "text/plain": [
       "HBox(children=(NGLWidget(), VBox(children=(Dropdown(description='Show', options=('All', 'Si'), value='All'), D…"
      ]
     },
     "metadata": {},
     "output_type": "display_data"
    }
   ],
   "source": [
    "atoms = bulk(\"Si\") * (2, 2, 2)\n",
    "# `del atoms[13]` also works\n",
    "atoms.pop(13)\n",
    "view_ngl(atoms, representations=[\"ball+stick\"], w=400, h=300)"
   ]
  },
  {
   "cell_type": "markdown",
   "id": "b320d623-8d7e-4ba9-b353-c6d5288adba0",
   "metadata": {},
   "source": [
    "以上、ASEに実装されているいろいろな機能をみて、原子をどのように取り扱うかを学びました。\n",
    "\n",
    "ここから先は実践で、計算手法・事例とともに学習をしていきましょう。"
   ]
  }
 ],
 "metadata": {
  "kernelspec": {
   "display_name": "Python 3.7",
   "language": "python",
   "name": "python37"
  },
  "language_info": {
   "codemirror_mode": {
    "name": "ipython",
    "version": 3
   },
   "file_extension": ".py",
   "mimetype": "text/x-python",
   "name": "python",
   "nbconvert_exporter": "python",
   "pygments_lexer": "ipython3",
   "version": "3.7.13"
  },
  "widgets": {
   "application/vnd.jupyter.widget-state+json": {
    "state": {
     "004d656aeff34ca39d87f39acdeed466": {
      "model_module": "@jupyter-widgets/controls",
      "model_module_version": "1.5.0",
      "model_name": "PlayModel",
      "state": {
       "layout": "IPY_MODEL_91aebe5a47f14e0b8bf5ddbd1151392a",
       "max": 0,
       "style": "IPY_MODEL_190c191a448e4e52976c3a5ce56afe35"
      }
     },
     "009d176bf55845d39a8ba7406e1fa30b": {
      "model_module": "@jupyter-widgets/base",
      "model_module_version": "1.2.0",
      "model_name": "LayoutModel",
      "state": {}
     },
     "009d58dcc2714fe8aafba33ade846abc": {
      "model_module": "nglview-js-widgets",
      "model_module_version": "3.0.1",
      "model_name": "NGLModel",
      "state": {
       "_camera_orientation": [
        27.788018737863993,
        0,
        0,
        0,
        0,
        27.788018737863993,
        0,
        0,
        0,
        0,
        27.788018737863993,
        0,
        -7.712999947369099,
        -5.518999805673957,
        -5.063999816775322,
        1
       ],
       "_camera_str": "orthographic",
       "_gui_theme": null,
       "_ibtn_fullscreen": "IPY_MODEL_dafb15a5dd6a41b08eb4214e9d0aae21",
       "_igui": null,
       "_iplayer": "IPY_MODEL_6d36cc87a5b3423aa277babb015e65e5",
       "_ngl_color_dict": {},
       "_ngl_coordinate_resource": {},
       "_ngl_full_stage_parameters": {
        "ambientColor": 14540253,
        "ambientIntensity": 0.2,
        "backgroundColor": "white",
        "cameraEyeSep": 0.3,
        "cameraFov": 40,
        "cameraType": "orthographic",
        "clipDist": 0,
        "clipFar": 100,
        "clipNear": 0,
        "fogFar": 100,
        "fogNear": 50,
        "hoverTimeout": 0,
        "impostor": true,
        "lightColor": 14540253,
        "lightIntensity": 1,
        "mousePreset": "default",
        "panSpeed": 1,
        "quality": "medium",
        "rotateSpeed": 2,
        "sampleLevel": 0,
        "tooltip": true,
        "workerDefault": true,
        "zoomSpeed": 1.2
       },
       "_ngl_msg_archive": [
        {
         "args": [
          {
           "binary": false,
           "data": "CRYST1    7.679   11.519   15.358  60.00  60.00  60.00 P 1\nMODEL     1\nATOM      1   Si MOL     1      -0.161   0.272   0.178  1.00  0.00          SI  \nATOM      2   Si MOL     1       1.717   0.675   1.026  1.00  0.00          SI  \nATOM      3   Si MOL     1       1.857   1.482   3.212  1.00  0.00          SI  \nATOM      4   Si MOL     1       3.755   1.888   4.297  1.00  0.00          SI  \nATOM      5   Si MOL     1       3.946   2.288   6.058  1.00  0.00          SI  \nATOM      6   Si MOL     1       5.611   3.088   7.008  1.00  0.00          SI  \nATOM      7   Si MOL     1       5.686   3.195   9.604  1.00  0.00          SI  \nATOM      8   Si MOL     1       7.878   4.588  10.367  1.00  0.00          SI  \nATOM      9   Si MOL     1       1.806   3.518   0.039  1.00  0.00          SI  \nATOM     10   Si MOL     1       3.877   4.346   0.584  1.00  0.00          SI  \nATOM     11   Si MOL     1       3.686   4.297   3.089  1.00  0.00          SI  \nATOM     12   Si MOL     1       5.663   5.458   3.745  1.00  0.00          SI  \nATOM     13   Si MOL     1       6.027   5.476   5.976  1.00  0.00          SI  \nATOM     14   Si MOL     1       7.527   6.715   7.220  1.00  0.00          SI  \nATOM     15   Si MOL     1       7.926   6.394   9.508  1.00  0.00          SI  \nATOM     16   Si MOL     1       9.923   7.811   9.895  1.00  0.00          SI  \nATOM     17   Si MOL     1       3.969   6.644   0.050  1.00  0.00          SI  \nATOM     18   Si MOL     1       5.548   7.766   0.651  1.00  0.00          SI  \nATOM     19   Si MOL     1       5.961   7.745   3.082  1.00  0.00          SI  \nATOM     20   Si MOL     1       7.845   9.068   3.957  1.00  0.00          SI  \nATOM     21   Si MOL     1       7.929   8.684   6.268  1.00  0.00          SI  \nATOM     22   Si MOL     1       9.657   9.881   7.084  1.00  0.00          SI  \nATOM     23   Si MOL     1      10.123  10.215   9.459  1.00  0.00          SI  \nATOM     24   Si MOL     1      11.243  10.933   9.919  1.00  0.00          SI  \nATOM     25   Si MOL     1       4.008  -0.020   0.083  1.00  0.00          SI  \nATOM     26   Si MOL     1       5.833   0.871   0.419  1.00  0.00          SI  \nATOM     27   Si MOL     1       5.836   1.066   3.275  1.00  0.00          SI  \nATOM     28   Si MOL     1       7.764   2.202   3.870  1.00  0.00          SI  \nATOM     29   Si MOL     1       7.601   2.185   6.384  1.00  0.00          SI  \nATOM     30   Si MOL     1       9.776   3.469   6.981  1.00  0.00          SI  \nATOM     31   Si MOL     1       9.572   3.475   9.608  1.00  0.00          SI  \nATOM     32   Si MOL     1      11.590   4.301  10.155  1.00  0.00          SI  \nATOM     33   Si MOL     1       5.678   3.215   0.037  1.00  0.00          SI  \nATOM     34   Si MOL     1       7.789   4.684   0.671  1.00  0.00          SI  \nATOM     35   Si MOL     1       7.608   4.362   3.377  1.00  0.00          SI  \nATOM     36   Si MOL     1       9.569   5.431   4.134  1.00  0.00          SI  \nATOM     37   Si MOL     1       9.409   5.384   6.402  1.00  0.00          SI  \nATOM     38   Si MOL     1      11.517   6.563   7.287  1.00  0.00          SI  \nATOM     39   Si MOL     1      11.328   6.812   9.298  1.00  0.00          SI  \nATOM     40   Si MOL     1      13.655   7.437  10.084  1.00  0.00          SI  \nATOM     41   Si MOL     1       7.750   6.814  -0.239  1.00  0.00          SI  \nATOM     42   Si MOL     1       9.511   8.333   0.654  1.00  0.00          SI  \nATOM     43   Si MOL     1       9.477   7.899   3.500  1.00  0.00          SI  \nATOM     44   Si MOL     1      11.408   8.974   4.067  1.00  0.00          SI  \nATOM     45   Si MOL     1      11.709   8.686   6.100  1.00  0.00          SI  \nATOM     46   Si MOL     1      13.350   9.738   7.174  1.00  0.00          SI  \nATOM     47   Si MOL     1      13.419  10.087   9.525  1.00  0.00          SI  \nATOM     48   Si MOL     1      15.587  11.058  10.191  1.00  0.00          SI  \nENDMDL\n",
           "type": "blob"
          }
         ],
         "kwargs": {
          "defaultRepresentation": false,
          "ext": "pdb"
         },
         "methodName": "loadFile",
         "reconstruc_color_scheme": false,
         "target": "Stage",
         "type": "call_method"
        },
        {
         "args": [
          "400px",
          "300px"
         ],
         "kwargs": {},
         "methodName": "setSize",
         "reconstruc_color_scheme": false,
         "target": "Widget",
         "type": "call_method"
        },
        {
         "args": [
          "unitcell"
         ],
         "component_index": 0,
         "kwargs": {
          "sele": "all"
         },
         "methodName": "addRepresentation",
         "reconstruc_color_scheme": false,
         "target": "compList",
         "type": "call_method"
        },
        {
         "args": [
          "spacefill"
         ],
         "component_index": 0,
         "kwargs": {
          "sele": "all"
         },
         "methodName": "addRepresentation",
         "reconstruc_color_scheme": false,
         "target": "compList",
         "type": "call_method"
        },
        {
         "args": [],
         "kwargs": {
          "cameraType": "orthographic"
         },
         "methodName": "setParameters",
         "reconstruc_color_scheme": false,
         "target": "Stage",
         "type": "call_method"
        },
        {
         "args": [
          {
           "clipDist": 0
          }
         ],
         "kwargs": {},
         "methodName": "setParameters",
         "reconstruc_color_scheme": false,
         "target": "Widget",
         "type": "call_method"
        },
        {
         "args": [
          "spacefill",
          0
         ],
         "kwargs": {
          "colorScale": "rainbow",
          "colorScheme": "element",
          "radiusScale": 0.5,
          "radiusType": "covalent"
         },
         "methodName": "updateRepresentationsByName",
         "reconstruc_color_scheme": false,
         "target": "Widget",
         "type": "call_method"
        },
        {
         "args": [
          "this._Q = [[-0.0, 0.7071067811865476, 0.7071067811865476], [0.816496580927726, -0.40824829046386285, 0.40824829046386296], [0.5773502691896257, 0.5773502691896258, -0.5773502691896257]]\n    var tooltip = document.createElement('div')\n    Object.assign(tooltip.style, {\n      display: 'none',\n      position: 'fixed',\n      zIndex: 10,\n      pointerEvents: 'none',\n      backgroundColor: 'rgba( 0, 0, 0, 0.6 )',\n      color: 'lightgrey',\n      padding: '8px',\n      fontFamily: 'sans-serif'\n    })\n    document.body.appendChild(tooltip)\n\n    var that = this\n    this.stage.mouseControls.remove('hoverPick')\n    this.stage.signals.hovered.add(function (pickingProxy) {\n      if (pickingProxy && (pickingProxy.atom || pickingProxy.bond)) {\n        var atom = pickingProxy.atom || pickingProxy.closestBondAtom\n        var mp = pickingProxy.mouse.position\n        //tooltip.innerText = atom.element + ' i=' + atom.index + ' (' + atom.x.toFixed(2) +  ', ' + atom.y.toFixed(2) +  ', ' + atom.z.toFixed(2) + ')'\n        //var pos = that._atoms_pos[atom.index]\n        var Q = that._Q\n        var pos_x = Q[0][0] * atom.x + Q[0][1] * atom.y + Q[0][2] * atom.z \n        var pos_y = Q[1][0] * atom.x + Q[1][1] * atom.y + Q[1][2] * atom.z\n        var pos_z = Q[2][0] * atom.x + Q[2][1] * atom.y + Q[2][2] * atom.z\n        tooltip.innerText = 'i=' + atom.index + ' ' + atom.element + ' (' + pos_x.toFixed(2) +  ', ' + pos_y.toFixed(2) +  ', ' + pos_z.toFixed(2) + ')'\n        tooltip.style.bottom = window.innerHeight - mp.y + 3 + 'px'\n        tooltip.style.left = mp.x + 3 + 'px'\n        tooltip.style.display = 'block'\n      } else {\n        tooltip.style.display = 'none'\n      }\n    })\n    "
         ],
         "kwargs": {},
         "methodName": "executeCode",
         "reconstruc_color_scheme": false,
         "target": "Widget",
         "type": "call_method"
        }
       ],
       "_ngl_original_stage_parameters": {
        "ambientColor": 14540253,
        "ambientIntensity": 0.2,
        "backgroundColor": "white",
        "cameraEyeSep": 0.3,
        "cameraFov": 40,
        "cameraType": "perspective",
        "clipDist": 10,
        "clipFar": 100,
        "clipNear": 0,
        "fogFar": 100,
        "fogNear": 50,
        "hoverTimeout": 0,
        "impostor": true,
        "lightColor": 14540253,
        "lightIntensity": 1,
        "mousePreset": "default",
        "panSpeed": 1,
        "quality": "medium",
        "rotateSpeed": 2,
        "sampleLevel": 0,
        "tooltip": true,
        "workerDefault": true,
        "zoomSpeed": 1.2
       },
       "_ngl_repr_dict": {
        "0": {
         "0": {
          "params": {
           "clipCenter": {
            "x": 0,
            "y": 0,
            "z": 0
           },
           "clipNear": 0,
           "clipRadius": 0,
           "colorMode": "hcl",
           "colorReverse": false,
           "colorScale": "",
           "colorScheme": "element",
           "colorValue": "orange",
           "defaultAssembly": "",
           "depthWrite": true,
           "diffuse": 16777215,
           "diffuseInterior": false,
           "disableImpostor": false,
           "disablePicking": false,
           "flatShaded": false,
           "interiorColor": 2236962,
           "interiorDarkening": 0,
           "lazy": false,
           "matrix": {
            "elements": [
             1,
             0,
             0,
             0,
             0,
             1,
             0,
             0,
             0,
             0,
             1,
             0,
             0,
             0,
             0,
             1
            ]
           },
           "metalness": 0,
           "opacity": 1,
           "quality": "medium",
           "radialSegments": 10,
           "radiusData": {},
           "radiusScale": 1,
           "radiusSize": 0.04933016296568518,
           "radiusType": "vdw",
           "roughness": 0.4,
           "sele": "all",
           "side": "double",
           "sphereDetail": 1,
           "useInteriorColor": true,
           "visible": true,
           "wireframe": false
          },
          "type": "unitcell"
         },
         "1": {
          "params": {
           "assembly": "default",
           "clipCenter": {
            "x": 0,
            "y": 0,
            "z": 0
           },
           "clipNear": 0,
           "clipRadius": 0,
           "colorMode": "hcl",
           "colorReverse": false,
           "colorScale": "rainbow",
           "colorScheme": "element",
           "colorValue": 9474192,
           "defaultAssembly": "",
           "depthWrite": true,
           "diffuse": 16777215,
           "diffuseInterior": false,
           "disableImpostor": false,
           "disablePicking": false,
           "flatShaded": false,
           "interiorColor": 2236962,
           "interiorDarkening": 0,
           "lazy": false,
           "matrix": {
            "elements": [
             1,
             0,
             0,
             0,
             0,
             1,
             0,
             0,
             0,
             0,
             1,
             0,
             0,
             0,
             0,
             1
            ]
           },
           "metalness": 0,
           "opacity": 1,
           "quality": "medium",
           "radiusData": {},
           "radiusScale": 0.5,
           "radiusSize": 1,
           "radiusType": "covalent",
           "roughness": 0.4,
           "sele": "all",
           "side": "double",
           "sphereDetail": 1,
           "useInteriorColor": true,
           "visible": true,
           "wireframe": false
          },
          "type": "spacefill"
         }
        }
       },
       "_ngl_serialize": false,
       "_ngl_version": "2.0.0-dev.36",
       "_ngl_view_id": [
        "BEFCFEEC-52A9-496C-B9B5-9BA8EC9EE122"
       ],
       "_player_dict": {},
       "_scene_position": {},
       "_scene_rotation": {},
       "_synced_model_ids": [],
       "_synced_repr_model_ids": [],
       "_view_height": "",
       "_view_width": "",
       "background": "white",
       "frame": 0,
       "gui_style": null,
       "layout": "IPY_MODEL_f6f908c55860490492827d8705caef7d",
       "max_frame": 0,
       "n_components": 1,
       "picked": {}
      }
     },
     "00f32d0b26274107bb21adebac35b9e6": {
      "model_module": "@jupyter-widgets/base",
      "model_module_version": "1.2.0",
      "model_name": "LayoutModel",
      "state": {}
     },
     "00fb8629911b473b90d366b306d306f8": {
      "model_module": "@jupyter-widgets/base",
      "model_module_version": "1.2.0",
      "model_name": "LayoutModel",
      "state": {}
     },
     "00fc7785486f47988e57e1439e20ff1c": {
      "model_module": "@jupyter-widgets/controls",
      "model_module_version": "1.5.0",
      "model_name": "FloatSliderModel",
      "state": {
       "description": "Charge scale",
       "layout": "IPY_MODEL_2e42ce3c46004abf9ecf664cf78be8b5",
       "step": 0.1,
       "style": "IPY_MODEL_6e1e71cc98084742be801a59a55bd615",
       "value": 1
      }
     },
     "0114f0eb6f024ceba73e78e579db79fc": {
      "model_module": "@jupyter-widgets/base",
      "model_module_version": "1.2.0",
      "model_name": "LayoutModel",
      "state": {}
     },
     "01626d8ddfbf43f1a662fc85c28348ad": {
      "model_module": "@jupyter-widgets/base",
      "model_module_version": "1.2.0",
      "model_name": "LayoutModel",
      "state": {}
     },
     "0174cbbba3c74a06a0e4b16218967581": {
      "model_module": "@jupyter-widgets/base",
      "model_module_version": "1.2.0",
      "model_name": "LayoutModel",
      "state": {}
     },
     "01978a41cfc94502878ab6c9646d4f20": {
      "model_module": "@jupyter-widgets/controls",
      "model_module_version": "1.5.0",
      "model_name": "SliderStyleModel",
      "state": {
       "description_width": ""
      }
     },
     "02751c7b8da2436189f3fc22c23e95ce": {
      "model_module": "@jupyter-widgets/base",
      "model_module_version": "1.2.0",
      "model_name": "LayoutModel",
      "state": {}
     },
     "027dd0ecea594b5095a69bbc79b42da9": {
      "model_module": "@jupyter-widgets/base",
      "model_module_version": "1.2.0",
      "model_name": "LayoutModel",
      "state": {}
     },
     "028ad59c5b38478ca373db10dab3eff8": {
      "model_module": "@jupyter-widgets/controls",
      "model_module_version": "1.5.0",
      "model_name": "TextModel",
      "state": {
       "description": "Filename: ",
       "layout": "IPY_MODEL_80bdd4b963c94f5ab171c472c0113339",
       "style": "IPY_MODEL_948e991aba07486eb78079275a0727f9",
       "value": "screenshot.png"
      }
     },
     "028fea97ce9b47189b46af31f1f75496": {
      "model_module": "@jupyter-widgets/base",
      "model_module_version": "1.2.0",
      "model_name": "LayoutModel",
      "state": {}
     },
     "03b6492ae9a64fe799341171f7e565f3": {
      "model_module": "@jupyter-widgets/controls",
      "model_module_version": "1.5.0",
      "model_name": "SliderStyleModel",
      "state": {
       "description_width": ""
      }
     },
     "03e22eafc7a84e798964c0adf231d430": {
      "model_module": "@jupyter-widgets/controls",
      "model_module_version": "1.5.0",
      "model_name": "TextModel",
      "state": {
       "description": "Filename: ",
       "layout": "IPY_MODEL_32560f1ec6354c06887e05c89008a40c",
       "style": "IPY_MODEL_b824abc9c9eb453bbfa4c794c6514ec9",
       "value": "screenshot.png"
      }
     },
     "03e5e1233cb24bf4a20d89b2c6e14dee": {
      "model_module": "@jupyter-widgets/base",
      "model_module_version": "1.2.0",
      "model_name": "LayoutModel",
      "state": {}
     },
     "04acbfde0b5d49b9a776135f0f8e2bec": {
      "model_module": "@jupyter-widgets/controls",
      "model_module_version": "1.5.0",
      "model_name": "ButtonModel",
      "state": {
       "description": "Download image",
       "layout": "IPY_MODEL_762ed990506d4d22b7d9f46802c1e93c",
       "style": "IPY_MODEL_0ed5a4aad7c048f1bf19d9fada466965",
       "tooltip": "Download current frame to your local PC"
      }
     },
     "04b3b05f34e24b1cbbdb77bd9f0206a6": {
      "model_module": "@jupyter-widgets/controls",
      "model_module_version": "1.5.0",
      "model_name": "LinkModel",
      "state": {
       "source": [
        "IPY_MODEL_506d79d7327947e8ab3d9d94b6ca6e82",
        "max"
       ],
       "target": [
        "IPY_MODEL_618180f037874dcba063fdd0d4f8034c",
        "max_frame"
       ]
      }
     },
     "05a015a431344fe0bb41e8c84d61d651": {
      "model_module": "@jupyter-widgets/base",
      "model_module_version": "1.2.0",
      "model_name": "LayoutModel",
      "state": {}
     },
     "06020b1cc53444ddbd776817f6e5dcbb": {
      "model_module": "@jupyter-widgets/controls",
      "model_module_version": "1.5.0",
      "model_name": "ButtonStyleModel",
      "state": {}
     },
     "0612b6b0b1644b49a6c18a71dce89efa": {
      "model_module": "@jupyter-widgets/controls",
      "model_module_version": "1.5.0",
      "model_name": "ButtonModel",
      "state": {
       "icon": "compress",
       "layout": "IPY_MODEL_26e84700b30d464287d9cee9a4f84027",
       "style": "IPY_MODEL_2832bd2730e34b0eadae430e788ded0d"
      }
     },
     "06900af08e154e51850447e83dcc3614": {
      "model_module": "@jupyter-widgets/controls",
      "model_module_version": "1.5.0",
      "model_name": "FloatSliderModel",
      "state": {
       "description": "Force scale",
       "layout": "IPY_MODEL_6409feeff6964c4d967bcc1d6d26634f",
       "step": 0.1,
       "style": "IPY_MODEL_b693947d009448cd9c1acd0a54646814",
       "value": 0.5
      }
     },
     "069b97bf36a047afa8f8ead9236b677f": {
      "model_module": "@jupyter-widgets/controls",
      "model_module_version": "1.5.0",
      "model_name": "PlayModel",
      "state": {
       "layout": "IPY_MODEL_c4e52bdc1f1240a5aa78a3b3cc204d9d",
       "max": 0,
       "style": "IPY_MODEL_8643465d816d4a8badc253d66b10446b"
      }
     },
     "069caa9000bc444c9a4ebffc01d10139": {
      "model_module": "@jupyter-widgets/controls",
      "model_module_version": "1.5.0",
      "model_name": "VBoxModel",
      "state": {
       "children": [
        "IPY_MODEL_4a1ca09bced54ed3bed6e11ad021355a",
        "IPY_MODEL_5d0e6c4b18834206bfd6336d60be262b",
        "IPY_MODEL_2364088146e04386be15321bc632e04e",
        "IPY_MODEL_238fb383739a4cfd95dbb1d54d96724c",
        "IPY_MODEL_b0e197c5cc7743f8b82065694cdd1b08",
        "IPY_MODEL_97dc8a92af8b41d19730421f8cbe9fa3",
        "IPY_MODEL_1f88c346f4e744de9904708ea0d51e59",
        "IPY_MODEL_4217d904d50e4a4bbc6644874ade4d6a",
        "IPY_MODEL_9f29a525418141bd85aedecc9cdeb2f0",
        "IPY_MODEL_d7373a36695a424e9b4b712901a98860"
       ],
       "layout": "IPY_MODEL_0c6f041f3b67436e992a1f6f35db80a2"
      }
     },
     "0728983872264030b56754d0dedcabea": {
      "model_module": "@jupyter-widgets/controls",
      "model_module_version": "1.5.0",
      "model_name": "LinkModel",
      "state": {
       "source": [
        "IPY_MODEL_8f26bed155344193afd1af5dc38282d1",
        "max"
       ],
       "target": [
        "IPY_MODEL_5775b86a38d34019b53a7640a76dab5c",
        "max_frame"
       ]
      }
     },
     "0741f24e3ebb4d6e837ee0ba19464d02": {
      "model_module": "@jupyter-widgets/controls",
      "model_module_version": "1.5.0",
      "model_name": "SliderStyleModel",
      "state": {
       "description_width": ""
      }
     },
     "07cde144d75042338e0d4efd159d540d": {
      "model_module": "@jupyter-widgets/controls",
      "model_module_version": "1.5.0",
      "model_name": "HBoxModel",
      "state": {
       "children": [
        "IPY_MODEL_ad4ab786110d4046a5968d50d86ca353",
        "IPY_MODEL_8cb1ccbd7048416998cc7df2cc1cda96"
       ],
       "layout": "IPY_MODEL_39ee25c14c694ab99f3fb7f6cf689897"
      }
     },
     "07f52cd9672842018114bcaf66217ce5": {
      "model_module": "@jupyter-widgets/controls",
      "model_module_version": "1.5.0",
      "model_name": "FloatSliderModel",
      "state": {
       "description": "Charge scale",
       "layout": "IPY_MODEL_fb53f77f37a148408a52f12c88011522",
       "step": 0.1,
       "style": "IPY_MODEL_5ff4bdb734b84d70914a0aef309a7cce",
       "value": 1
      }
     },
     "07fdf64ecef54d288414e059370ae4ef": {
      "model_module": "@jupyter-widgets/controls",
      "model_module_version": "1.5.0",
      "model_name": "DescriptionStyleModel",
      "state": {
       "description_width": ""
      }
     },
     "087ed6acff9f4e9b941289735739ac78": {
      "model_module": "@jupyter-widgets/controls",
      "model_module_version": "1.5.0",
      "model_name": "SliderStyleModel",
      "state": {
       "description_width": ""
      }
     },
     "092cc42202d34f6a86aead3c18b390f5": {
      "model_module": "@jupyter-widgets/base",
      "model_module_version": "1.2.0",
      "model_name": "LayoutModel",
      "state": {}
     },
     "0940ea63180048a58a96b710a6ce99d3": {
      "model_module": "@jupyter-widgets/controls",
      "model_module_version": "1.5.0",
      "model_name": "SliderStyleModel",
      "state": {
       "description_width": ""
      }
     },
     "0984466ff76a487685329410829e445e": {
      "model_module": "@jupyter-widgets/controls",
      "model_module_version": "1.5.0",
      "model_name": "DescriptionStyleModel",
      "state": {
       "description_width": ""
      }
     },
     "0987a0c6222548d1908a677aca90554f": {
      "model_module": "@jupyter-widgets/controls",
      "model_module_version": "1.5.0",
      "model_name": "ButtonStyleModel",
      "state": {}
     },
     "09b972025f504cf98f74693ef0cee815": {
      "model_module": "@jupyter-widgets/controls",
      "model_module_version": "1.5.0",
      "model_name": "CheckboxModel",
      "state": {
       "description": "Show charge",
       "disabled": false,
       "layout": "IPY_MODEL_24332e7170714b5ab93117b07bf94e21",
       "style": "IPY_MODEL_3a2819cb3bf54654848c54dc022af322",
       "value": false
      }
     },
     "09e037a6c0914c7d953207eccb098658": {
      "model_module": "@jupyter-widgets/controls",
      "model_module_version": "1.5.0",
      "model_name": "ButtonModel",
      "state": {
       "description": "Save image",
       "layout": "IPY_MODEL_572142507df64f4d859c2724e593268a",
       "style": "IPY_MODEL_cbd5d7969a9d491aaa49e9b9e21f0be4",
       "tooltip": "Save current frame to file.\nCurrently .png and .html are supported.\nIt takes a bit time, please be patient."
      }
     },
     "0a842c28871c4167bb2232693761c69b": {
      "model_module": "@jupyter-widgets/base",
      "model_module_version": "1.2.0",
      "model_name": "LayoutModel",
      "state": {}
     },
     "0b0083ecc07c4647850c55da146f6880": {
      "model_module": "@jupyter-widgets/base",
      "model_module_version": "1.2.0",
      "model_name": "LayoutModel",
      "state": {}
     },
     "0b04295eb9c942869b2f0638ca4c2d02": {
      "model_module": "@jupyter-widgets/base",
      "model_module_version": "1.2.0",
      "model_name": "LayoutModel",
      "state": {
       "width": "34px"
      }
     },
     "0b3c9ae19b244fdf9e378aec2fee9efe": {
      "model_module": "@jupyter-widgets/controls",
      "model_module_version": "1.5.0",
      "model_name": "HBoxModel",
      "state": {
       "children": [
        "IPY_MODEL_009d58dcc2714fe8aafba33ade846abc",
        "IPY_MODEL_426be6168ab34b44a1a97a4069f4f6de"
       ],
       "layout": "IPY_MODEL_8d78ad6a58bb499f87c2a50c3ee76bc9"
      }
     },
     "0bce57b8775a45138dfcbca1f86ac4e2": {
      "model_module": "@jupyter-widgets/controls",
      "model_module_version": "1.5.0",
      "model_name": "LinkModel",
      "state": {
       "source": [
        "IPY_MODEL_2c883402eb124288bf38f2ff7b97c58a",
        "value"
       ],
       "target": [
        "IPY_MODEL_5775b86a38d34019b53a7640a76dab5c",
        "frame"
       ]
      }
     },
     "0bd1362bc7944b0585f3c0bb5f51654a": {
      "model_module": "nglview-js-widgets",
      "model_module_version": "3.0.1",
      "model_name": "NGLModel",
      "state": {
       "_camera_orientation": [
        8.13904818444334,
        0,
        0,
        0,
        0,
        8.13904818444334,
        0,
        0,
        0,
        0,
        8.13904818444334,
        0,
        -0.4139999747276306,
        -0.5854999423027039,
        -1.0145000219345093,
        1
       ],
       "_camera_str": "orthographic",
       "_gui_theme": null,
       "_ibtn_fullscreen": "IPY_MODEL_672facebc6b34752bcfbc1743869fcb1",
       "_igui": null,
       "_iplayer": "IPY_MODEL_7c9b167834794e4ba41c91d97c2cc520",
       "_ngl_color_dict": {},
       "_ngl_coordinate_resource": {},
       "_ngl_full_stage_parameters": {
        "ambientColor": 14540253,
        "ambientIntensity": 0.2,
        "backgroundColor": "white",
        "cameraEyeSep": 0.3,
        "cameraFov": 40,
        "cameraType": "orthographic",
        "clipDist": 0,
        "clipFar": 100,
        "clipNear": 0,
        "fogFar": 100,
        "fogNear": 50,
        "hoverTimeout": 0,
        "impostor": true,
        "lightColor": 14540253,
        "lightIntensity": 1,
        "mousePreset": "default",
        "panSpeed": 1,
        "quality": "medium",
        "rotateSpeed": 2,
        "sampleLevel": 0,
        "tooltip": true,
        "workerDefault": true,
        "zoomSpeed": 1.2
       },
       "_ngl_msg_archive": [
        {
         "args": [
          {
           "binary": false,
           "data": "CRYST1    4.971    4.971    4.971 109.47 109.47 109.47 P 1\nMODEL     1\nATOM      1   Fe MOL     1       0.000   0.000   0.000  1.00  0.00          FE  \nATOM      2   Fe MOL     1      -0.828  -1.172   2.029  1.00  0.00          FE  \nATOM      3   Fe MOL     1      -0.828   2.343   0.000  1.00  0.00          FE  \nATOM      4   Fe MOL     1      -1.657   1.172   2.029  1.00  0.00          FE  \nATOM      5   Fe MOL     1       2.485  -0.000  -0.000  1.00  0.00          FE  \nATOM      6   Fe MOL     1       1.657  -1.172   2.029  1.00  0.00          FE  \nATOM      7   Fe MOL     1       1.657   2.343   0.000  1.00  0.00          FE  \nATOM      8   Fe MOL     1       0.828   1.172   2.029  1.00  0.00          FE  \nENDMDL\n",
           "type": "blob"
          }
         ],
         "kwargs": {
          "defaultRepresentation": false,
          "ext": "pdb"
         },
         "methodName": "loadFile",
         "reconstruc_color_scheme": false,
         "target": "Stage",
         "type": "call_method"
        },
        {
         "args": [
          "400px",
          "300px"
         ],
         "kwargs": {},
         "methodName": "setSize",
         "reconstruc_color_scheme": false,
         "target": "Widget",
         "type": "call_method"
        },
        {
         "args": [
          "unitcell"
         ],
         "component_index": 0,
         "kwargs": {
          "sele": "all"
         },
         "methodName": "addRepresentation",
         "reconstruc_color_scheme": false,
         "target": "compList",
         "type": "call_method"
        },
        {
         "args": [
          "spacefill"
         ],
         "component_index": 0,
         "kwargs": {
          "sele": "all"
         },
         "methodName": "addRepresentation",
         "reconstruc_color_scheme": false,
         "target": "compList",
         "type": "call_method"
        },
        {
         "args": [],
         "kwargs": {
          "cameraType": "orthographic"
         },
         "methodName": "setParameters",
         "reconstruc_color_scheme": false,
         "target": "Stage",
         "type": "call_method"
        },
        {
         "args": [
          {
           "clipDist": 0
          }
         ],
         "kwargs": {},
         "methodName": "setParameters",
         "reconstruc_color_scheme": false,
         "target": "Widget",
         "type": "call_method"
        },
        {
         "args": [
          "spacefill",
          0
         ],
         "kwargs": {
          "colorScale": "rainbow",
          "colorScheme": "element",
          "radiusScale": 0.5,
          "radiusType": "covalent"
         },
         "methodName": "updateRepresentationsByName",
         "reconstruc_color_scheme": false,
         "target": "Widget",
         "type": "call_method"
        },
        {
         "args": [
          "this._Q = [[-0.5773502691896257, 0.5773502691896257, 0.5773502691896257], [0.40824829046386313, -0.408248290463863, 0.8164965809277263], [0.7071067811865474, 0.7071067811865478, -3.5164189309272113e-16]]\n    var tooltip = document.createElement('div')\n    Object.assign(tooltip.style, {\n      display: 'none',\n      position: 'fixed',\n      zIndex: 10,\n      pointerEvents: 'none',\n      backgroundColor: 'rgba( 0, 0, 0, 0.6 )',\n      color: 'lightgrey',\n      padding: '8px',\n      fontFamily: 'sans-serif'\n    })\n    document.body.appendChild(tooltip)\n\n    var that = this\n    this.stage.mouseControls.remove('hoverPick')\n    this.stage.signals.hovered.add(function (pickingProxy) {\n      if (pickingProxy && (pickingProxy.atom || pickingProxy.bond)) {\n        var atom = pickingProxy.atom || pickingProxy.closestBondAtom\n        var mp = pickingProxy.mouse.position\n        //tooltip.innerText = atom.element + ' i=' + atom.index + ' (' + atom.x.toFixed(2) +  ', ' + atom.y.toFixed(2) +  ', ' + atom.z.toFixed(2) + ')'\n        //var pos = that._atoms_pos[atom.index]\n        var Q = that._Q\n        var pos_x = Q[0][0] * atom.x + Q[0][1] * atom.y + Q[0][2] * atom.z \n        var pos_y = Q[1][0] * atom.x + Q[1][1] * atom.y + Q[1][2] * atom.z\n        var pos_z = Q[2][0] * atom.x + Q[2][1] * atom.y + Q[2][2] * atom.z\n        tooltip.innerText = 'i=' + atom.index + ' ' + atom.element + ' (' + pos_x.toFixed(2) +  ', ' + pos_y.toFixed(2) +  ', ' + pos_z.toFixed(2) + ')'\n        tooltip.style.bottom = window.innerHeight - mp.y + 3 + 'px'\n        tooltip.style.left = mp.x + 3 + 'px'\n        tooltip.style.display = 'block'\n      } else {\n        tooltip.style.display = 'none'\n      }\n    })\n    "
         ],
         "kwargs": {},
         "methodName": "executeCode",
         "reconstruc_color_scheme": false,
         "target": "Widget",
         "type": "call_method"
        }
       ],
       "_ngl_original_stage_parameters": {
        "ambientColor": 14540253,
        "ambientIntensity": 0.2,
        "backgroundColor": "white",
        "cameraEyeSep": 0.3,
        "cameraFov": 40,
        "cameraType": "perspective",
        "clipDist": 10,
        "clipFar": 100,
        "clipNear": 0,
        "fogFar": 100,
        "fogNear": 50,
        "hoverTimeout": 0,
        "impostor": true,
        "lightColor": 14540253,
        "lightIntensity": 1,
        "mousePreset": "default",
        "panSpeed": 1,
        "quality": "medium",
        "rotateSpeed": 2,
        "sampleLevel": 0,
        "tooltip": true,
        "workerDefault": true,
        "zoomSpeed": 1.2
       },
       "_ngl_repr_dict": {
        "0": {
         "0": {
          "params": {
           "clipCenter": {
            "x": 0,
            "y": 0,
            "z": 0
           },
           "clipNear": 0,
           "clipRadius": 0,
           "colorMode": "hcl",
           "colorReverse": false,
           "colorScale": "",
           "colorScheme": "element",
           "colorValue": "orange",
           "defaultAssembly": "",
           "depthWrite": true,
           "diffuse": 16777215,
           "diffuseInterior": false,
           "disableImpostor": false,
           "disablePicking": false,
           "flatShaded": false,
           "interiorColor": 2236962,
           "interiorDarkening": 0,
           "lazy": false,
           "matrix": {
            "elements": [
             1,
             0,
             0,
             0,
             0,
             1,
             0,
             0,
             0,
             0,
             1,
             0,
             0,
             0,
             0,
             1
            ]
           },
           "metalness": 0,
           "opacity": 1,
           "quality": "medium",
           "radialSegments": 10,
           "radiusData": {},
           "radiusScale": 1,
           "radiusSize": 0.02278541097981449,
           "radiusType": "vdw",
           "roughness": 0.4,
           "sele": "all",
           "side": "double",
           "sphereDetail": 1,
           "useInteriorColor": true,
           "visible": true,
           "wireframe": false
          },
          "type": "unitcell"
         },
         "1": {
          "params": {
           "assembly": "default",
           "clipCenter": {
            "x": 0,
            "y": 0,
            "z": 0
           },
           "clipNear": 0,
           "clipRadius": 0,
           "colorMode": "hcl",
           "colorReverse": false,
           "colorScale": "rainbow",
           "colorScheme": "element",
           "colorValue": 9474192,
           "defaultAssembly": "",
           "depthWrite": true,
           "diffuse": 16777215,
           "diffuseInterior": false,
           "disableImpostor": false,
           "disablePicking": false,
           "flatShaded": false,
           "interiorColor": 2236962,
           "interiorDarkening": 0,
           "lazy": false,
           "matrix": {
            "elements": [
             1,
             0,
             0,
             0,
             0,
             1,
             0,
             0,
             0,
             0,
             1,
             0,
             0,
             0,
             0,
             1
            ]
           },
           "metalness": 0,
           "opacity": 1,
           "quality": "medium",
           "radiusData": {},
           "radiusScale": 0.5,
           "radiusSize": 1,
           "radiusType": "covalent",
           "roughness": 0.4,
           "sele": "all",
           "side": "double",
           "sphereDetail": 1,
           "useInteriorColor": true,
           "visible": true,
           "wireframe": false
          },
          "type": "spacefill"
         }
        }
       },
       "_ngl_serialize": false,
       "_ngl_version": "2.0.0-dev.36",
       "_ngl_view_id": [
        "323CF5D5-0A60-4AE0-8A61-8B44BB792A69"
       ],
       "_player_dict": {},
       "_scene_position": {},
       "_scene_rotation": {},
       "_synced_model_ids": [],
       "_synced_repr_model_ids": [],
       "_view_height": "",
       "_view_width": "",
       "background": "white",
       "frame": 0,
       "gui_style": null,
       "layout": "IPY_MODEL_4bba8ffd85454c82b58c769703197452",
       "max_frame": 0,
       "n_components": 1,
       "picked": {}
      }
     },
     "0c4f569c9f674a7c816c5bc079474990": {
      "model_module": "@jupyter-widgets/base",
      "model_module_version": "1.2.0",
      "model_name": "LayoutModel",
      "state": {}
     },
     "0c6f041f3b67436e992a1f6f35db80a2": {
      "model_module": "@jupyter-widgets/base",
      "model_module_version": "1.2.0",
      "model_name": "LayoutModel",
      "state": {}
     },
     "0c6f95ec736d4dd4a0b628d2db58734f": {
      "model_module": "nglview-js-widgets",
      "model_module_version": "3.0.1",
      "model_name": "NGLModel",
      "state": {
       "_camera_orientation": [
        15.600423047052786,
        0,
        0,
        0,
        0,
        15.600423047052786,
        0,
        0,
        0,
        0,
        15.600423047052786,
        0,
        0.8285001516342163,
        -0.5859998464584351,
        -3.0439999103546143,
        1
       ],
       "_camera_str": "orthographic",
       "_gui_theme": null,
       "_ibtn_fullscreen": "IPY_MODEL_7408b88fe28542088fdd3e5d40878604",
       "_igui": null,
       "_iplayer": "IPY_MODEL_ce4a57e51f5f4c68aa09664bcacf166e",
       "_ngl_color_dict": {},
       "_ngl_coordinate_resource": {},
       "_ngl_full_stage_parameters": {
        "ambientColor": 14540253,
        "ambientIntensity": 0.2,
        "backgroundColor": "white",
        "cameraEyeSep": 0.3,
        "cameraFov": 40,
        "cameraType": "orthographic",
        "clipDist": 0,
        "clipFar": 100,
        "clipNear": 0,
        "fogFar": 100,
        "fogNear": 50,
        "hoverTimeout": 0,
        "impostor": true,
        "lightColor": 14540253,
        "lightIntensity": 1,
        "mousePreset": "default",
        "panSpeed": 1,
        "quality": "medium",
        "rotateSpeed": 2,
        "sampleLevel": 0,
        "tooltip": true,
        "workerDefault": true,
        "zoomSpeed": 1.2
       },
       "_ngl_msg_archive": [
        {
         "args": [
          {
           "binary": false,
           "data": "CRYST1    4.971    7.456    9.942 109.47 109.47 109.47 P 1\nMODEL     1\nATOM      1   Fe MOL     1       0.000   0.000   0.000  1.00  0.00          FE  \nATOM      2   Fe MOL     1      -0.828  -1.172   2.029  1.00  0.00          FE  \nATOM      3   Fe MOL     1      -1.657  -2.343   4.059  1.00  0.00          FE  \nATOM      4   Fe MOL     1      -2.485  -3.515   6.088  1.00  0.00          FE  \nATOM      5   Fe MOL     1      -0.828   2.343  -0.000  1.00  0.00          FE  \nATOM      6   Fe MOL     1      -1.657   1.172   2.029  1.00  0.00          FE  \nATOM      7   Fe MOL     1      -2.485   0.000   4.059  1.00  0.00          FE  \nATOM      8   Fe MOL     1      -3.314  -1.172   6.088  1.00  0.00          FE  \nATOM      9   Fe MOL     1      -1.657   4.687  -0.000  1.00  0.00          FE  \nATOM     10   Fe MOL     1      -2.485   3.515   2.029  1.00  0.00          FE  \nATOM     11   Fe MOL     1      -3.314   2.343   4.059  1.00  0.00          FE  \nATOM     12   Fe MOL     1      -4.142   1.172   6.088  1.00  0.00          FE  \nATOM     13   Fe MOL     1       2.485   0.000   0.000  1.00  0.00          FE  \nATOM     14   Fe MOL     1       1.657  -1.172   2.029  1.00  0.00          FE  \nATOM     15   Fe MOL     1       0.828  -2.343   4.059  1.00  0.00          FE  \nATOM     16   Fe MOL     1       0.000  -3.515   6.088  1.00  0.00          FE  \nATOM     17   Fe MOL     1       1.657   2.343  -0.000  1.00  0.00          FE  \nATOM     18   Fe MOL     1       0.828   1.172   2.029  1.00  0.00          FE  \nATOM     19   Fe MOL     1       0.000   0.000   4.059  1.00  0.00          FE  \nATOM     20   Fe MOL     1      -0.828  -1.172   6.088  1.00  0.00          FE  \nATOM     21   Fe MOL     1       0.828   4.687  -0.000  1.00  0.00          FE  \nATOM     22   Fe MOL     1       0.000   3.515   2.029  1.00  0.00          FE  \nATOM     23   Fe MOL     1      -0.828   2.343   4.059  1.00  0.00          FE  \nATOM     24   Fe MOL     1      -1.657   1.172   6.088  1.00  0.00          FE  \nENDMDL\n",
           "type": "blob"
          }
         ],
         "kwargs": {
          "defaultRepresentation": false,
          "ext": "pdb"
         },
         "methodName": "loadFile",
         "reconstruc_color_scheme": false,
         "target": "Stage",
         "type": "call_method"
        },
        {
         "args": [
          "400px",
          "300px"
         ],
         "kwargs": {},
         "methodName": "setSize",
         "reconstruc_color_scheme": false,
         "target": "Widget",
         "type": "call_method"
        },
        {
         "args": [
          "unitcell"
         ],
         "component_index": 0,
         "kwargs": {
          "sele": "all"
         },
         "methodName": "addRepresentation",
         "reconstruc_color_scheme": false,
         "target": "compList",
         "type": "call_method"
        },
        {
         "args": [
          "spacefill"
         ],
         "component_index": 0,
         "kwargs": {
          "sele": "all"
         },
         "methodName": "addRepresentation",
         "reconstruc_color_scheme": false,
         "target": "compList",
         "type": "call_method"
        },
        {
         "args": [],
         "kwargs": {
          "cameraType": "orthographic"
         },
         "methodName": "setParameters",
         "reconstruc_color_scheme": false,
         "target": "Stage",
         "type": "call_method"
        },
        {
         "args": [
          {
           "clipDist": 0
          }
         ],
         "kwargs": {},
         "methodName": "setParameters",
         "reconstruc_color_scheme": false,
         "target": "Widget",
         "type": "call_method"
        },
        {
         "args": [
          "spacefill",
          0
         ],
         "kwargs": {
          "colorScale": "rainbow",
          "colorScheme": "element",
          "radiusScale": 0.5,
          "radiusType": "covalent"
         },
         "methodName": "updateRepresentationsByName",
         "reconstruc_color_scheme": false,
         "target": "Widget",
         "type": "call_method"
        },
        {
         "args": [
          "this._Q = [[-0.5773502691896257, -0.5773502691896257, 0.5773502691896256], [0.4082482904638631, 0.408248290463863, 0.8164965809277261], [-0.7071067811865475, 0.7071067811865477, 1.8649311101977364e-16]]\n    var tooltip = document.createElement('div')\n    Object.assign(tooltip.style, {\n      display: 'none',\n      position: 'fixed',\n      zIndex: 10,\n      pointerEvents: 'none',\n      backgroundColor: 'rgba( 0, 0, 0, 0.6 )',\n      color: 'lightgrey',\n      padding: '8px',\n      fontFamily: 'sans-serif'\n    })\n    document.body.appendChild(tooltip)\n\n    var that = this\n    this.stage.mouseControls.remove('hoverPick')\n    this.stage.signals.hovered.add(function (pickingProxy) {\n      if (pickingProxy && (pickingProxy.atom || pickingProxy.bond)) {\n        var atom = pickingProxy.atom || pickingProxy.closestBondAtom\n        var mp = pickingProxy.mouse.position\n        //tooltip.innerText = atom.element + ' i=' + atom.index + ' (' + atom.x.toFixed(2) +  ', ' + atom.y.toFixed(2) +  ', ' + atom.z.toFixed(2) + ')'\n        //var pos = that._atoms_pos[atom.index]\n        var Q = that._Q\n        var pos_x = Q[0][0] * atom.x + Q[0][1] * atom.y + Q[0][2] * atom.z \n        var pos_y = Q[1][0] * atom.x + Q[1][1] * atom.y + Q[1][2] * atom.z\n        var pos_z = Q[2][0] * atom.x + Q[2][1] * atom.y + Q[2][2] * atom.z\n        tooltip.innerText = 'i=' + atom.index + ' ' + atom.element + ' (' + pos_x.toFixed(2) +  ', ' + pos_y.toFixed(2) +  ', ' + pos_z.toFixed(2) + ')'\n        tooltip.style.bottom = window.innerHeight - mp.y + 3 + 'px'\n        tooltip.style.left = mp.x + 3 + 'px'\n        tooltip.style.display = 'block'\n      } else {\n        tooltip.style.display = 'none'\n      }\n    })\n    "
         ],
         "kwargs": {},
         "methodName": "executeCode",
         "reconstruc_color_scheme": false,
         "target": "Widget",
         "type": "call_method"
        },
        {
         "args": [
          "ball+stick"
         ],
         "component_index": 0,
         "kwargs": {
          "sele": "all"
         },
         "methodName": "addRepresentation",
         "reconstruc_color_scheme": false,
         "target": "compList",
         "type": "call_method"
        }
       ],
       "_ngl_original_stage_parameters": {
        "ambientColor": 14540253,
        "ambientIntensity": 0.2,
        "backgroundColor": "white",
        "cameraEyeSep": 0.3,
        "cameraFov": 40,
        "cameraType": "perspective",
        "clipDist": 10,
        "clipFar": 100,
        "clipNear": 0,
        "fogFar": 100,
        "fogNear": 50,
        "hoverTimeout": 0,
        "impostor": true,
        "lightColor": 14540253,
        "lightIntensity": 1,
        "mousePreset": "default",
        "panSpeed": 1,
        "quality": "medium",
        "rotateSpeed": 2,
        "sampleLevel": 0,
        "tooltip": true,
        "workerDefault": true,
        "zoomSpeed": 1.2
       },
       "_ngl_repr_dict": {
        "0": {
         "0": {
          "params": {
           "clipCenter": {
            "x": 0,
            "y": 0,
            "z": 0
           },
           "clipNear": 0,
           "clipRadius": 0,
           "colorMode": "hcl",
           "colorReverse": false,
           "colorScale": "",
           "colorScheme": "element",
           "colorValue": "orange",
           "defaultAssembly": "",
           "depthWrite": true,
           "diffuse": 16777215,
           "diffuseInterior": false,
           "disableImpostor": false,
           "disablePicking": false,
           "flatShaded": false,
           "interiorColor": 2236962,
           "interiorDarkening": 0,
           "lazy": false,
           "matrix": {
            "elements": [
             1,
             0,
             0,
             0,
             0,
             1,
             0,
             0,
             0,
             0,
             1,
             0,
             0,
             0,
             0,
             1
            ]
           },
           "metalness": 0,
           "opacity": 1,
           "quality": "medium",
           "radialSegments": 10,
           "radiusData": {},
           "radiusScale": 1,
           "radiusSize": 0.03286151464600358,
           "radiusType": "vdw",
           "roughness": 0.4,
           "sele": "all",
           "side": "double",
           "sphereDetail": 1,
           "useInteriorColor": true,
           "visible": true,
           "wireframe": false
          },
          "type": "unitcell"
         },
         "1": {
          "params": {
           "assembly": "default",
           "clipCenter": {
            "x": 0,
            "y": 0,
            "z": 0
           },
           "clipNear": 0,
           "clipRadius": 0,
           "colorMode": "hcl",
           "colorReverse": false,
           "colorScale": "rainbow",
           "colorScheme": "element",
           "colorValue": 9474192,
           "defaultAssembly": "",
           "depthWrite": true,
           "diffuse": 16777215,
           "diffuseInterior": false,
           "disableImpostor": false,
           "disablePicking": false,
           "flatShaded": false,
           "interiorColor": 2236962,
           "interiorDarkening": 0,
           "lazy": false,
           "matrix": {
            "elements": [
             1,
             0,
             0,
             0,
             0,
             1,
             0,
             0,
             0,
             0,
             1,
             0,
             0,
             0,
             0,
             1
            ]
           },
           "metalness": 0,
           "opacity": 1,
           "quality": "medium",
           "radiusData": {},
           "radiusScale": 0.5,
           "radiusSize": 1,
           "radiusType": "covalent",
           "roughness": 0.4,
           "sele": "all",
           "side": "double",
           "sphereDetail": 1,
           "useInteriorColor": true,
           "visible": true,
           "wireframe": false
          },
          "type": "spacefill"
         },
         "2": {
          "params": {
           "aspectRatio": 2,
           "assembly": "default",
           "bondScale": 0.4,
           "bondSpacing": 1,
           "clipCenter": {
            "x": 0,
            "y": 0,
            "z": 0
           },
           "clipNear": 0,
           "clipRadius": 0,
           "colorMode": "hcl",
           "colorReverse": false,
           "colorScale": "",
           "colorScheme": "element",
           "colorValue": 9474192,
           "cylinderOnly": false,
           "defaultAssembly": "",
           "depthWrite": true,
           "diffuse": 16777215,
           "diffuseInterior": false,
           "disableImpostor": false,
           "disablePicking": false,
           "flatShaded": false,
           "interiorColor": 2236962,
           "interiorDarkening": 0,
           "lazy": false,
           "lineOnly": false,
           "linewidth": 2,
           "matrix": {
            "elements": [
             1,
             0,
             0,
             0,
             0,
             1,
             0,
             0,
             0,
             0,
             1,
             0,
             0,
             0,
             0,
             1
            ]
           },
           "metalness": 0,
           "multipleBond": "off",
           "opacity": 1,
           "openEnded": true,
           "quality": "medium",
           "radialSegments": 10,
           "radiusData": {},
           "radiusScale": 1,
           "radiusSize": 0.15,
           "radiusType": "size",
           "roughness": 0.4,
           "sele": "all",
           "side": "double",
           "sphereDetail": 1,
           "useInteriorColor": true,
           "visible": true,
           "wireframe": false
          },
          "type": "ball+stick"
         }
        }
       },
       "_ngl_serialize": false,
       "_ngl_version": "2.0.0-dev.36",
       "_ngl_view_id": [
        "BF52EC34-423B-4E7D-9640-0E49D2B4B093"
       ],
       "_player_dict": {},
       "_scene_position": {},
       "_scene_rotation": {},
       "_synced_model_ids": [],
       "_synced_repr_model_ids": [],
       "_view_height": "",
       "_view_width": "",
       "background": "white",
       "frame": 0,
       "gui_style": null,
       "layout": "IPY_MODEL_a0ce48f64a084912a8ada5acd8696612",
       "max_frame": 0,
       "n_components": 1,
       "picked": {}
      }
     },
     "0c81c669d12d4271836f5baa772f7ce5": {
      "model_module": "@jupyter-widgets/base",
      "model_module_version": "1.2.0",
      "model_name": "LayoutModel",
      "state": {}
     },
     "0d3d0f176a424af19ec37d8f216c3e2d": {
      "model_module": "@jupyter-widgets/controls",
      "model_module_version": "1.5.0",
      "model_name": "LinkModel",
      "state": {
       "source": [
        "IPY_MODEL_3dc0452272f2469a81d5a658aba88c4c",
        "value"
       ],
       "target": [
        "IPY_MODEL_913e43e3f0f747e1ba09eeed7bf81758",
        "value"
       ]
      }
     },
     "0d64f7c947194989be679d54ab31a4e2": {
      "model_module": "@jupyter-widgets/base",
      "model_module_version": "1.2.0",
      "model_name": "LayoutModel",
      "state": {}
     },
     "0d9fa9068ca9481eb2779f3963ca70c9": {
      "model_module": "@jupyter-widgets/controls",
      "model_module_version": "1.5.0",
      "model_name": "FloatSliderModel",
      "state": {
       "description": "Ball size",
       "layout": "IPY_MODEL_2892008ecd5b4ffe86ffc548adc82649",
       "max": 1.5,
       "step": 0.01,
       "style": "IPY_MODEL_caa4b684530741efbaf1c5a14b19bfe7",
       "value": 0.5
      }
     },
     "0dadbf3d068b48a993716b767a9bdb49": {
      "model_module": "@jupyter-widgets/controls",
      "model_module_version": "1.5.0",
      "model_name": "TextModel",
      "state": {
       "description": "Filename: ",
       "layout": "IPY_MODEL_61a1f756d0f847b1a5831ca5ed2428a6",
       "style": "IPY_MODEL_814f95524a1f4b3985bc6ba0820b7f22",
       "value": "screenshot.png"
      }
     },
     "0e6e2676b49e47668ce97fe816ade6bf": {
      "model_module": "@jupyter-widgets/base",
      "model_module_version": "1.2.0",
      "model_name": "LayoutModel",
      "state": {}
     },
     "0e7ca0d21d304b719a8fca97b9625416": {
      "model_module": "@jupyter-widgets/controls",
      "model_module_version": "1.5.0",
      "model_name": "DescriptionStyleModel",
      "state": {
       "description_width": ""
      }
     },
     "0ed5a4aad7c048f1bf19d9fada466965": {
      "model_module": "@jupyter-widgets/controls",
      "model_module_version": "1.5.0",
      "model_name": "ButtonStyleModel",
      "state": {}
     },
     "0f2551c40ea44f85aab5a359efa7f151": {
      "model_module": "@jupyter-widgets/controls",
      "model_module_version": "1.5.0",
      "model_name": "ButtonModel",
      "state": {
       "description": "Save image",
       "layout": "IPY_MODEL_5aa415d8c755409190cfe9c9af855a08",
       "style": "IPY_MODEL_930729efcf4046d6be79fb5e27d7fc49",
       "tooltip": "Save current frame to file.\nCurrently .png and .html are supported.\nIt takes a bit time, please be patient."
      }
     },
     "0f48a3ee3de349c48a61783f320db80f": {
      "model_module": "@jupyter-widgets/base",
      "model_module_version": "1.2.0",
      "model_name": "LayoutModel",
      "state": {
       "border": "0px solid black"
      }
     },
     "0fd6fe924343408e8368c75de18b9a03": {
      "model_module": "@jupyter-widgets/controls",
      "model_module_version": "1.5.0",
      "model_name": "DropdownModel",
      "state": {
       "_options_labels": [
        " ",
        "picking",
        "random",
        "uniform",
        "atomindex",
        "residueindex",
        "chainindex",
        "modelindex",
        "sstruc",
        "element",
        "resname",
        "bfactor",
        "hydrophobicity",
        "value",
        "volume",
        "occupancy"
       ],
       "description": "Color scheme",
       "index": 9,
       "layout": "IPY_MODEL_418211050b954d95970876f5e4bc6d22",
       "style": "IPY_MODEL_fabd8932a35c4690972129e4c78f3037"
      }
     },
     "0fdf3b2eaf07457393fac75232093f71": {
      "model_module": "@jupyter-widgets/controls",
      "model_module_version": "1.5.0",
      "model_name": "LinkModel",
      "state": {
       "source": [
        "IPY_MODEL_fab495ba3a36403f969dd04487f3e1a0",
        "value"
       ],
       "target": [
        "IPY_MODEL_7c801561196048dfacadd3191f0d6df8",
        "frame"
       ]
      }
     },
     "108fed7181ca44b8bc6c1a37780b6af9": {
      "model_module": "@jupyter-widgets/base",
      "model_module_version": "1.2.0",
      "model_name": "LayoutModel",
      "state": {}
     },
     "12299237e8f04152809e67e231707317": {
      "model_module": "@jupyter-widgets/base",
      "model_module_version": "1.2.0",
      "model_name": "LayoutModel",
      "state": {
       "border": "0px solid black"
      }
     },
     "1331e712da614c5b812ec10b1403a057": {
      "model_module": "@jupyter-widgets/controls",
      "model_module_version": "1.5.0",
      "model_name": "HBoxModel",
      "state": {
       "children": [
        "IPY_MODEL_5775b86a38d34019b53a7640a76dab5c",
        "IPY_MODEL_d5c7e68896cc45419d608b99ef7e439c"
       ],
       "layout": "IPY_MODEL_ba63d99b73134fa1bdc4a2548070bbfb"
      }
     },
     "13e091dda5384767a529e1e69280c35c": {
      "model_module": "@jupyter-widgets/controls",
      "model_module_version": "1.5.0",
      "model_name": "DropdownModel",
      "state": {
       "_options_labels": [
        " ",
        "picking",
        "random",
        "uniform",
        "atomindex",
        "residueindex",
        "chainindex",
        "modelindex",
        "sstruc",
        "element",
        "resname",
        "bfactor",
        "hydrophobicity",
        "value",
        "volume",
        "occupancy"
       ],
       "description": "Color scheme",
       "index": 9,
       "layout": "IPY_MODEL_3be5d1f91fd143f1912670c77ee6fd05",
       "style": "IPY_MODEL_75f8ff19f4db44ab9a724657bfe0476f"
      }
     },
     "13ec27915fb048538d0d59f7c221ec0f": {
      "model_module": "@jupyter-widgets/base",
      "model_module_version": "1.2.0",
      "model_name": "LayoutModel",
      "state": {}
     },
     "13f95a5fdd5344f58481c5528300fbed": {
      "model_module": "@jupyter-widgets/controls",
      "model_module_version": "1.5.0",
      "model_name": "DescriptionStyleModel",
      "state": {
       "description_width": ""
      }
     },
     "14009ad68ea04035bbfae512f51ba5b0": {
      "model_module": "@jupyter-widgets/controls",
      "model_module_version": "1.5.0",
      "model_name": "DropdownModel",
      "state": {
       "_options_labels": [
        "All",
        "Si"
       ],
       "description": "Show",
       "index": 0,
       "layout": "IPY_MODEL_03e5e1233cb24bf4a20d89b2c6e14dee",
       "style": "IPY_MODEL_bdc6a5d5e7a441f0ad1481f5fd190f39"
      }
     },
     "14f08d9f4b1f463dadbbe005b390e230": {
      "model_module": "@jupyter-widgets/base",
      "model_module_version": "1.2.0",
      "model_name": "LayoutModel",
      "state": {}
     },
     "155701001b0d406a8f5849839de887e2": {
      "model_module": "@jupyter-widgets/controls",
      "model_module_version": "1.5.0",
      "model_name": "PlayModel",
      "state": {
       "layout": "IPY_MODEL_ca28175280ac4127887aed34aa7af9a9",
       "max": 0,
       "style": "IPY_MODEL_a077d67ee9e84534a9d7bfbdeeaa5c3a"
      }
     },
     "159e06f527394d0c83e19e52c96761b5": {
      "model_module": "@jupyter-widgets/base",
      "model_module_version": "1.2.0",
      "model_name": "LayoutModel",
      "state": {}
     },
     "15bde644faa14ab4ac3e9712aef4d3f5": {
      "model_module": "@jupyter-widgets/controls",
      "model_module_version": "1.5.0",
      "model_name": "FloatSliderModel",
      "state": {
       "description": "Force scale",
       "layout": "IPY_MODEL_ba3b674fc1a9446aaaa05b73f011ac45",
       "step": 0.1,
       "style": "IPY_MODEL_a1fac6f48560444282e737d5e33ad2a0",
       "value": 0.5
      }
     },
     "15c2fc81f5a8434c98a4969de8c11201": {
      "model_module": "@jupyter-widgets/base",
      "model_module_version": "1.2.0",
      "model_name": "LayoutModel",
      "state": {
       "width": "34px"
      }
     },
     "1618ff1e12f44967b52bd88afb903b4d": {
      "model_module": "@jupyter-widgets/controls",
      "model_module_version": "1.5.0",
      "model_name": "SliderStyleModel",
      "state": {
       "description_width": ""
      }
     },
     "16dbda1fb4a44eb68e1436e0a884a186": {
      "model_module": "@jupyter-widgets/base",
      "model_module_version": "1.2.0",
      "model_name": "LayoutModel",
      "state": {}
     },
     "16e0aae666924b6190b766ca2da98e73": {
      "model_module": "@jupyter-widgets/base",
      "model_module_version": "1.2.0",
      "model_name": "LayoutModel",
      "state": {}
     },
     "17244cb767b34faba0e1eb217f3be09d": {
      "model_module": "@jupyter-widgets/controls",
      "model_module_version": "1.5.0",
      "model_name": "DescriptionStyleModel",
      "state": {
       "description_width": ""
      }
     },
     "172f837c52be4b4bbed4a815ee08746d": {
      "model_module": "@jupyter-widgets/controls",
      "model_module_version": "1.5.0",
      "model_name": "ButtonModel",
      "state": {
       "description": "Save image",
       "layout": "IPY_MODEL_cfd392cec86845eb92ee0e9ad0569d7a",
       "style": "IPY_MODEL_39db920fb8e54fd6b9ab747662c9b6ef",
       "tooltip": "Save current frame to file.\nCurrently .png and .html are supported.\nIt takes a bit time, please be patient."
      }
     },
     "179b0d445a214eaa9d35aa3e3bbf1009": {
      "model_module": "@jupyter-widgets/base",
      "model_module_version": "1.2.0",
      "model_name": "LayoutModel",
      "state": {}
     },
     "17c575941f2e4c93912ec39cfe3ea3d2": {
      "model_module": "@jupyter-widgets/controls",
      "model_module_version": "1.5.0",
      "model_name": "DescriptionStyleModel",
      "state": {
       "description_width": ""
      }
     },
     "182ce9d494704d2b87176c103daa912a": {
      "model_module": "@jupyter-widgets/controls",
      "model_module_version": "1.5.0",
      "model_name": "IntSliderModel",
      "state": {
       "layout": "IPY_MODEL_eeb845a0236b4fee9bfa7501bab28995",
       "max": 0,
       "style": "IPY_MODEL_46ab33d4195a416fb6c876005dfa4166"
      }
     },
     "18c4c9843d3b4472a2ba1c9da75b90ba": {
      "model_module": "@jupyter-widgets/base",
      "model_module_version": "1.2.0",
      "model_name": "LayoutModel",
      "state": {}
     },
     "190c191a448e4e52976c3a5ce56afe35": {
      "model_module": "@jupyter-widgets/controls",
      "model_module_version": "1.5.0",
      "model_name": "DescriptionStyleModel",
      "state": {
       "description_width": ""
      }
     },
     "1935e14fee1c49dcbdede10ab44be8bb": {
      "model_module": "@jupyter-widgets/controls",
      "model_module_version": "1.5.0",
      "model_name": "ButtonModel",
      "state": {
       "description": "Download image",
       "layout": "IPY_MODEL_7f5c9dfdf1b1493ebb15d7f543276037",
       "style": "IPY_MODEL_fcb81f0335ce4891bd95ac7cb1fc777a",
       "tooltip": "Download current frame to your local PC"
      }
     },
     "1956d711bbd848179c4b67395cf14490": {
      "model_module": "@jupyter-widgets/controls",
      "model_module_version": "1.5.0",
      "model_name": "LinkModel",
      "state": {
       "source": [
        "IPY_MODEL_069b97bf36a047afa8f8ead9236b677f",
        "value"
       ],
       "target": [
        "IPY_MODEL_c726cc41e5c843b08086eebabb2f628b",
        "frame"
       ]
      }
     },
     "1998536f675e4a9f960c345c34446866": {
      "model_module": "@jupyter-widgets/controls",
      "model_module_version": "1.5.0",
      "model_name": "HBoxModel",
      "state": {
       "children": [
        "IPY_MODEL_2f051ec1489541cdb9175863e6fa1184",
        "IPY_MODEL_7143112b529949ef9048f03fbd7ad154"
       ],
       "layout": "IPY_MODEL_4f108231da554fec9052f5fef9149c48"
      }
     },
     "1a046f47d0214ea29873ab091e5c8bed": {
      "model_module": "@jupyter-widgets/controls",
      "model_module_version": "1.5.0",
      "model_name": "DescriptionStyleModel",
      "state": {
       "description_width": ""
      }
     },
     "1a0e05c65795458dbc3a3123e8cd83cb": {
      "model_module": "@jupyter-widgets/controls",
      "model_module_version": "1.5.0",
      "model_name": "DescriptionStyleModel",
      "state": {
       "description_width": ""
      }
     },
     "1a208327ad344b6fad71006ec641b72d": {
      "model_module": "@jupyter-widgets/controls",
      "model_module_version": "1.5.0",
      "model_name": "DescriptionStyleModel",
      "state": {
       "description_width": ""
      }
     },
     "1a48d44d8d1646149898bdb69bb5b72f": {
      "model_module": "@jupyter-widgets/controls",
      "model_module_version": "1.5.0",
      "model_name": "DescriptionStyleModel",
      "state": {
       "description_width": ""
      }
     },
     "1a95f0dcd98f42a3849d1bb93a2db155": {
      "model_module": "@jupyter-widgets/controls",
      "model_module_version": "1.5.0",
      "model_name": "LinkModel",
      "state": {
       "source": [
        "IPY_MODEL_155701001b0d406a8f5849839de887e2",
        "value"
       ],
       "target": [
        "IPY_MODEL_2943740e6f1b46c7bd0607fc83a2d1cc",
        "frame"
       ]
      }
     },
     "1b01c5534b814111a37269752ab87e19": {
      "model_module": "@jupyter-widgets/controls",
      "model_module_version": "1.5.0",
      "model_name": "ButtonModel",
      "state": {
       "description": "Save image",
       "layout": "IPY_MODEL_359b1be6f95e496594b4de3a8bae64ad",
       "style": "IPY_MODEL_ed6eee895ff348c581be07c94d68b0ad",
       "tooltip": "Save current frame to file.\nCurrently .png and .html are supported.\nIt takes a bit time, please be patient."
      }
     },
     "1b3542aff3ce4679bca26d0a9d0cd0b0": {
      "model_module": "@jupyter-widgets/base",
      "model_module_version": "1.2.0",
      "model_name": "LayoutModel",
      "state": {}
     },
     "1bbc3412f8204cf38a27dfde2bb75ab4": {
      "model_module": "@jupyter-widgets/controls",
      "model_module_version": "1.5.0",
      "model_name": "ButtonModel",
      "state": {
       "icon": "compress",
       "layout": "IPY_MODEL_63fcc9bf06ac4ada9c7b45328399101a",
       "style": "IPY_MODEL_d6d057e80b5c48e98711c34f87a9f17a"
      }
     },
     "1c502a90022c4553a600398105138ae7": {
      "model_module": "@jupyter-widgets/base",
      "model_module_version": "1.2.0",
      "model_name": "LayoutModel",
      "state": {}
     },
     "1d53e48ad55249efb4d4d0ca15c1a9ac": {
      "model_module": "@jupyter-widgets/base",
      "model_module_version": "1.2.0",
      "model_name": "LayoutModel",
      "state": {}
     },
     "1d724bc818384d3a98268b609768cf2e": {
      "model_module": "@jupyter-widgets/controls",
      "model_module_version": "1.5.0",
      "model_name": "DescriptionStyleModel",
      "state": {
       "description_width": ""
      }
     },
     "1d7755251c1149b0a41e80d2ec4abed6": {
      "model_module": "@jupyter-widgets/base",
      "model_module_version": "1.2.0",
      "model_name": "LayoutModel",
      "state": {}
     },
     "1d889586dcba478aa448377765d3803d": {
      "model_module": "@jupyter-widgets/base",
      "model_module_version": "1.2.0",
      "model_name": "LayoutModel",
      "state": {}
     },
     "1e22e523fb4341148fd0caa470e2e358": {
      "model_module": "@jupyter-widgets/base",
      "model_module_version": "1.2.0",
      "model_name": "LayoutModel",
      "state": {}
     },
     "1e3ac0991bda48f68bd94dc5fcd79487": {
      "model_module": "@jupyter-widgets/base",
      "model_module_version": "1.2.0",
      "model_name": "LayoutModel",
      "state": {}
     },
     "1e479d59cced45f187a12e6e754a4500": {
      "model_module": "@jupyter-widgets/controls",
      "model_module_version": "1.5.0",
      "model_name": "LinkModel",
      "state": {
       "source": [
        "IPY_MODEL_35248ea6187a4fb4befbb121b789b9d1",
        "max"
       ],
       "target": [
        "IPY_MODEL_2943740e6f1b46c7bd0607fc83a2d1cc",
        "max_frame"
       ]
      }
     },
     "1e5b722205a34df3ae1095a1defc2c24": {
      "model_module": "@jupyter-widgets/controls",
      "model_module_version": "1.5.0",
      "model_name": "ButtonStyleModel",
      "state": {}
     },
     "1e6512c6fc194e07a2efcd5a44b842c4": {
      "model_module": "@jupyter-widgets/controls",
      "model_module_version": "1.5.0",
      "model_name": "ButtonModel",
      "state": {
       "description": "Save image",
       "layout": "IPY_MODEL_5f8c75fca39248c0b37624cc06226269",
       "style": "IPY_MODEL_9eae4a75c827413c850a3d68cc6deb52",
       "tooltip": "Save current frame to file.\nCurrently .png and .html are supported.\nIt takes a bit time, please be patient."
      }
     },
     "1f2bc6f238b1486e9b4badd58a1d06b4": {
      "model_module": "@jupyter-widgets/controls",
      "model_module_version": "1.5.0",
      "model_name": "HBoxModel",
      "state": {
       "children": [
        "IPY_MODEL_b24f694e68914b4b8b9a954a3b18e0d4",
        "IPY_MODEL_ed7ab08c006647788a6e2d233e49c0b4"
       ],
       "layout": "IPY_MODEL_4a99533236c54addaf6bfbd9c24a50ea"
      }
     },
     "1f88c346f4e744de9904708ea0d51e59": {
      "model_module": "@jupyter-widgets/controls",
      "model_module_version": "1.5.0",
      "model_name": "FloatSliderModel",
      "state": {
       "description": "Force scale",
       "layout": "IPY_MODEL_b4ab9dd37a2a442299c93413bc8e2f43",
       "step": 0.1,
       "style": "IPY_MODEL_58fc181213f84ef5b2494b7e1124921f",
       "value": 0.5
      }
     },
     "1fee6c56ba8a4a2398940818e6288c63": {
      "model_module": "@jupyter-widgets/base",
      "model_module_version": "1.2.0",
      "model_name": "LayoutModel",
      "state": {}
     },
     "201722cb972c4743a54e843da0a51c4a": {
      "model_module": "@jupyter-widgets/controls",
      "model_module_version": "1.5.0",
      "model_name": "SliderStyleModel",
      "state": {
       "description_width": ""
      }
     },
     "20c1ba01b59e464bb6df37b3306b74e1": {
      "model_module": "@jupyter-widgets/controls",
      "model_module_version": "1.5.0",
      "model_name": "ButtonModel",
      "state": {
       "icon": "compress",
       "layout": "IPY_MODEL_39cc2f257bdb42c89e84076461593550",
       "style": "IPY_MODEL_f1dd78f500b9408dab5bfa7f1ea129ab"
      }
     },
     "210598b8d0d14b65b4763a9ba2181010": {
      "model_module": "@jupyter-widgets/base",
      "model_module_version": "1.2.0",
      "model_name": "LayoutModel",
      "state": {}
     },
     "211f6c142b3044bd902764478c1ac150": {
      "model_module": "@jupyter-widgets/base",
      "model_module_version": "1.2.0",
      "model_name": "LayoutModel",
      "state": {}
     },
     "215c20f663ef4797876ce5c92fb012e2": {
      "model_module": "@jupyter-widgets/controls",
      "model_module_version": "1.5.0",
      "model_name": "HBoxModel",
      "state": {
       "children": [
        "IPY_MODEL_6e7164b8b1b94f37bd9d21461c27d83f",
        "IPY_MODEL_3659c9a499fc4583973ca8574cd4f12c"
       ],
       "layout": "IPY_MODEL_179b0d445a214eaa9d35aa3e3bbf1009"
      }
     },
     "221912dbfddb46afaa4ad895f992494b": {
      "model_module": "@jupyter-widgets/base",
      "model_module_version": "1.2.0",
      "model_name": "LayoutModel",
      "state": {}
     },
     "222c58928cea4bd49a9ff77706869f8c": {
      "model_module": "@jupyter-widgets/base",
      "model_module_version": "1.2.0",
      "model_name": "LayoutModel",
      "state": {}
     },
     "2364088146e04386be15321bc632e04e": {
      "model_module": "@jupyter-widgets/controls",
      "model_module_version": "1.5.0",
      "model_name": "FloatSliderModel",
      "state": {
       "description": "Ball size",
       "layout": "IPY_MODEL_f0efc6052f4d4ca78c32f83fac5f60c3",
       "max": 1.5,
       "step": 0.01,
       "style": "IPY_MODEL_4a77ad8a3b83490684b0f16e142ad11d",
       "value": 0.5
      }
     },
     "238fb383739a4cfd95dbb1d54d96724c": {
      "model_module": "@jupyter-widgets/controls",
      "model_module_version": "1.5.0",
      "model_name": "TextModel",
      "state": {
       "description": "Filename: ",
       "layout": "IPY_MODEL_94195777b2ac417db2dbc8825dbe5009",
       "style": "IPY_MODEL_84189dd66a4c4c40a6b8d1dda45ae6b3",
       "value": "screenshot.png"
      }
     },
     "23ae12e1c80448f2808c75588d3b4df6": {
      "model_module": "@jupyter-widgets/controls",
      "model_module_version": "1.5.0",
      "model_name": "IntSliderModel",
      "state": {
       "layout": "IPY_MODEL_914cdf4df9654a48a3423ce4ccf22a1f",
       "max": 0,
       "style": "IPY_MODEL_8a32fa8f0441461e97360ba3b9e8ee4d"
      }
     },
     "24113ddb56944a30a4d9df37c6bb9841": {
      "model_module": "@jupyter-widgets/base",
      "model_module_version": "1.2.0",
      "model_name": "LayoutModel",
      "state": {}
     },
     "2427f1bf2c7e4c779ec51e016d129029": {
      "model_module": "@jupyter-widgets/controls",
      "model_module_version": "1.5.0",
      "model_name": "HBoxModel",
      "state": {
       "children": [
        "IPY_MODEL_f1a1a26ae1e842eca1b0eaee2ba627e6",
        "IPY_MODEL_906672fa123441ad99bd8a93e8e7bcf0"
       ],
       "layout": "IPY_MODEL_31b08853351b4596a2f434f67800c1e1"
      }
     },
     "24332e7170714b5ab93117b07bf94e21": {
      "model_module": "@jupyter-widgets/base",
      "model_module_version": "1.2.0",
      "model_name": "LayoutModel",
      "state": {}
     },
     "253a927f19514217ae2dfc62279712e4": {
      "model_module": "@jupyter-widgets/base",
      "model_module_version": "1.2.0",
      "model_name": "LayoutModel",
      "state": {}
     },
     "25e4c452aa5741c0b41c98ef5a10a244": {
      "model_module": "@jupyter-widgets/base",
      "model_module_version": "1.2.0",
      "model_name": "LayoutModel",
      "state": {}
     },
     "26999ba5dce648549e46c8d71dc225b9": {
      "model_module": "@jupyter-widgets/controls",
      "model_module_version": "1.5.0",
      "model_name": "SliderStyleModel",
      "state": {
       "description_width": ""
      }
     },
     "26abdb2e72f44d33bd9b34a71763cb9e": {
      "model_module": "@jupyter-widgets/base",
      "model_module_version": "1.2.0",
      "model_name": "LayoutModel",
      "state": {}
     },
     "26c171e86f854393bb1a62621eb63050": {
      "model_module": "@jupyter-widgets/controls",
      "model_module_version": "1.5.0",
      "model_name": "SliderStyleModel",
      "state": {
       "description_width": ""
      }
     },
     "26e84700b30d464287d9cee9a4f84027": {
      "model_module": "@jupyter-widgets/base",
      "model_module_version": "1.2.0",
      "model_name": "LayoutModel",
      "state": {
       "width": "34px"
      }
     },
     "26fa55a0e38649d3a0ae16ad1952de3f": {
      "model_module": "@jupyter-widgets/controls",
      "model_module_version": "1.5.0",
      "model_name": "SliderStyleModel",
      "state": {
       "description_width": ""
      }
     },
     "277d5d0b39104291b288f51c9d52555b": {
      "model_module": "@jupyter-widgets/controls",
      "model_module_version": "1.5.0",
      "model_name": "SliderStyleModel",
      "state": {
       "description_width": ""
      }
     },
     "2832bd2730e34b0eadae430e788ded0d": {
      "model_module": "@jupyter-widgets/controls",
      "model_module_version": "1.5.0",
      "model_name": "ButtonStyleModel",
      "state": {}
     },
     "283341ba9a694ab3912fa4df24e69cc9": {
      "model_module": "@jupyter-widgets/controls",
      "model_module_version": "1.5.0",
      "model_name": "ImageModel",
      "state": {
       "layout": "IPY_MODEL_baedf26531744d658943d2c211077dc7",
       "width": "900.0"
      }
     },
     "2892008ecd5b4ffe86ffc548adc82649": {
      "model_module": "@jupyter-widgets/base",
      "model_module_version": "1.2.0",
      "model_name": "LayoutModel",
      "state": {}
     },
     "2925ca94430c49098200b407db6acde8": {
      "model_module": "@jupyter-widgets/controls",
      "model_module_version": "1.5.0",
      "model_name": "SliderStyleModel",
      "state": {
       "description_width": ""
      }
     },
     "2943740e6f1b46c7bd0607fc83a2d1cc": {
      "model_module": "nglview-js-widgets",
      "model_module_version": "3.0.1",
      "model_name": "NGLModel",
      "state": {
       "_camera_orientation": [
        26.96698217551402,
        0,
        0,
        0,
        0,
        26.96698217551402,
        0,
        0,
        0,
        0,
        26.96698217551402,
        0,
        -7.5514998165890574,
        -5.534499883651733,
        -5.026999890804291,
        1
       ],
       "_camera_str": "orthographic",
       "_gui_theme": null,
       "_ibtn_fullscreen": "IPY_MODEL_0612b6b0b1644b49a6c18a71dce89efa",
       "_igui": null,
       "_iplayer": "IPY_MODEL_83c6e7597a364a16a9c5a6b01e8f0780",
       "_ngl_color_dict": {},
       "_ngl_coordinate_resource": {},
       "_ngl_full_stage_parameters": {
        "ambientColor": 14540253,
        "ambientIntensity": 0.2,
        "backgroundColor": "white",
        "cameraEyeSep": 0.3,
        "cameraFov": 40,
        "cameraType": "orthographic",
        "clipDist": 0,
        "clipFar": 100,
        "clipNear": 0,
        "fogFar": 100,
        "fogNear": 50,
        "hoverTimeout": 0,
        "impostor": true,
        "lightColor": 14540253,
        "lightIntensity": 1,
        "mousePreset": "default",
        "panSpeed": 1,
        "quality": "medium",
        "rotateSpeed": 2,
        "sampleLevel": 0,
        "tooltip": true,
        "workerDefault": true,
        "zoomSpeed": 1.2
       },
       "_ngl_msg_archive": [
        {
         "args": [
          {
           "binary": false,
           "data": "CRYST1    7.679   11.519   15.358  60.00  60.00  60.00 P 1\nMODEL     1\nATOM      1   Si MOL     1       0.019   0.635   0.094  1.00  0.00          SI  \nATOM      2   Si MOL     1       1.551   1.296   1.465  1.00  0.00          SI  \nATOM      3   Si MOL     1       1.963   1.874   4.025  1.00  0.00          SI  \nATOM      4   Si MOL     1       3.427   2.110   4.454  1.00  0.00          SI  \nATOM      5   Si MOL     1       2.659   2.425   6.073  1.00  0.00          SI  \nATOM      6   Si MOL     1       5.364   3.129   6.463  1.00  0.00          SI  \nATOM      7   Si MOL     1       5.705   3.411   8.511  1.00  0.00          SI  \nATOM      8   Si MOL     1       7.398   4.191  10.733  1.00  0.00          SI  \nATOM      9   Si MOL     1       1.438   3.038   0.246  1.00  0.00          SI  \nATOM     10   Si MOL     1       3.561   4.562   0.603  1.00  0.00          SI  \nATOM     11   Si MOL     1       4.336   3.670   3.454  1.00  0.00          SI  \nATOM     12   Si MOL     1       5.522   4.609   4.030  1.00  0.00          SI  \nATOM     13   Si MOL     1       4.865   5.690   5.854  1.00  0.00          SI  \nATOM     14   Si MOL     1       7.848   6.679   7.440  1.00  0.00          SI  \nATOM     15   Si MOL     1       7.297   6.107   9.815  1.00  0.00          SI  \nATOM     16   Si MOL     1      10.134   7.827   9.249  1.00  0.00          SI  \nATOM     17   Si MOL     1       3.461   7.210  -0.453  1.00  0.00          SI  \nATOM     18   Si MOL     1       5.525   7.872   0.168  1.00  0.00          SI  \nATOM     19   Si MOL     1       5.994   7.805   3.890  1.00  0.00          SI  \nATOM     20   Si MOL     1       8.307   9.073   3.682  1.00  0.00          SI  \nATOM     21   Si MOL     1       7.472   8.300   6.396  1.00  0.00          SI  \nATOM     22   Si MOL     1      10.424   9.503   6.582  1.00  0.00          SI  \nATOM     23   Si MOL     1      10.606  10.054   9.623  1.00  0.00          SI  \nATOM     24   Si MOL     1      11.915  10.909   9.393  1.00  0.00          SI  \nATOM     25   Si MOL     1       3.635  -0.888   1.281  1.00  0.00          SI  \nATOM     26   Si MOL     1       5.758   1.128   0.768  1.00  0.00          SI  \nATOM     27   Si MOL     1       5.055   1.464   2.791  1.00  0.00          SI  \nATOM     28   Si MOL     1       8.103   1.941   4.549  1.00  0.00          SI  \nATOM     29   Si MOL     1       7.747   2.144   5.742  1.00  0.00          SI  \nATOM     30   Si MOL     1       9.770   3.816   6.775  1.00  0.00          SI  \nATOM     31   Si MOL     1       9.666   3.174  10.119  1.00  0.00          SI  \nATOM     32   Si MOL     1      10.934   3.949  10.370  1.00  0.00          SI  \nATOM     33   Si MOL     1       5.772   3.283   0.196  1.00  0.00          SI  \nATOM     34   Si MOL     1       7.140   4.791   0.316  1.00  0.00          SI  \nATOM     35   Si MOL     1       7.268   4.353   3.093  1.00  0.00          SI  \nATOM     36   Si MOL     1      10.297   5.247   4.745  1.00  0.00          SI  \nATOM     37   Si MOL     1       8.705   5.112   7.008  1.00  0.00          SI  \nATOM     38   Si MOL     1      12.409   7.042   6.586  1.00  0.00          SI  \nATOM     39   Si MOL     1      11.422   6.664   9.340  1.00  0.00          SI  \nATOM     40   Si MOL     1      14.325   6.880   9.860  1.00  0.00          SI  \nATOM     41   Si MOL     1       7.924   7.609  -0.679  1.00  0.00          SI  \nATOM     42   Si MOL     1      10.493   8.088  -0.214  1.00  0.00          SI  \nATOM     43   Si MOL     1       9.312   7.631   3.022  1.00  0.00          SI  \nATOM     44   Si MOL     1      10.884   9.099   3.455  1.00  0.00          SI  \nATOM     45   Si MOL     1      11.551   7.968   6.195  1.00  0.00          SI  \nATOM     46   Si MOL     1      12.960  10.465   7.488  1.00  0.00          SI  \nATOM     47   Si MOL     1      13.064  10.717   9.338  1.00  0.00          SI  \nATOM     48   Si MOL     1      15.084  11.957  10.051  1.00  0.00          SI  \nENDMDL\n",
           "type": "blob"
          }
         ],
         "kwargs": {
          "defaultRepresentation": false,
          "ext": "pdb"
         },
         "methodName": "loadFile",
         "reconstruc_color_scheme": false,
         "target": "Stage",
         "type": "call_method"
        },
        {
         "args": [
          "400px",
          "300px"
         ],
         "kwargs": {},
         "methodName": "setSize",
         "reconstruc_color_scheme": false,
         "target": "Widget",
         "type": "call_method"
        },
        {
         "args": [
          "unitcell"
         ],
         "component_index": 0,
         "kwargs": {
          "sele": "all"
         },
         "methodName": "addRepresentation",
         "reconstruc_color_scheme": false,
         "target": "compList",
         "type": "call_method"
        },
        {
         "args": [
          "spacefill"
         ],
         "component_index": 0,
         "kwargs": {
          "sele": "all"
         },
         "methodName": "addRepresentation",
         "reconstruc_color_scheme": false,
         "target": "compList",
         "type": "call_method"
        },
        {
         "args": [],
         "kwargs": {
          "cameraType": "orthographic"
         },
         "methodName": "setParameters",
         "reconstruc_color_scheme": false,
         "target": "Stage",
         "type": "call_method"
        },
        {
         "args": [
          {
           "clipDist": 0
          }
         ],
         "kwargs": {},
         "methodName": "setParameters",
         "reconstruc_color_scheme": false,
         "target": "Widget",
         "type": "call_method"
        },
        {
         "args": [
          "spacefill",
          0
         ],
         "kwargs": {
          "colorScale": "rainbow",
          "colorScheme": "element",
          "radiusScale": 0.5,
          "radiusType": "covalent"
         },
         "methodName": "updateRepresentationsByName",
         "reconstruc_color_scheme": false,
         "target": "Widget",
         "type": "call_method"
        },
        {
         "args": [
          "this._Q = [[-0.0, 0.7071067811865476, 0.7071067811865476], [0.816496580927726, -0.40824829046386285, 0.40824829046386296], [0.5773502691896257, 0.5773502691896258, -0.5773502691896257]]\n    var tooltip = document.createElement('div')\n    Object.assign(tooltip.style, {\n      display: 'none',\n      position: 'fixed',\n      zIndex: 10,\n      pointerEvents: 'none',\n      backgroundColor: 'rgba( 0, 0, 0, 0.6 )',\n      color: 'lightgrey',\n      padding: '8px',\n      fontFamily: 'sans-serif'\n    })\n    document.body.appendChild(tooltip)\n\n    var that = this\n    this.stage.mouseControls.remove('hoverPick')\n    this.stage.signals.hovered.add(function (pickingProxy) {\n      if (pickingProxy && (pickingProxy.atom || pickingProxy.bond)) {\n        var atom = pickingProxy.atom || pickingProxy.closestBondAtom\n        var mp = pickingProxy.mouse.position\n        //tooltip.innerText = atom.element + ' i=' + atom.index + ' (' + atom.x.toFixed(2) +  ', ' + atom.y.toFixed(2) +  ', ' + atom.z.toFixed(2) + ')'\n        //var pos = that._atoms_pos[atom.index]\n        var Q = that._Q\n        var pos_x = Q[0][0] * atom.x + Q[0][1] * atom.y + Q[0][2] * atom.z \n        var pos_y = Q[1][0] * atom.x + Q[1][1] * atom.y + Q[1][2] * atom.z\n        var pos_z = Q[2][0] * atom.x + Q[2][1] * atom.y + Q[2][2] * atom.z\n        tooltip.innerText = 'i=' + atom.index + ' ' + atom.element + ' (' + pos_x.toFixed(2) +  ', ' + pos_y.toFixed(2) +  ', ' + pos_z.toFixed(2) + ')'\n        tooltip.style.bottom = window.innerHeight - mp.y + 3 + 'px'\n        tooltip.style.left = mp.x + 3 + 'px'\n        tooltip.style.display = 'block'\n      } else {\n        tooltip.style.display = 'none'\n      }\n    })\n    "
         ],
         "kwargs": {},
         "methodName": "executeCode",
         "reconstruc_color_scheme": false,
         "target": "Widget",
         "type": "call_method"
        }
       ],
       "_ngl_original_stage_parameters": {
        "ambientColor": 14540253,
        "ambientIntensity": 0.2,
        "backgroundColor": "white",
        "cameraEyeSep": 0.3,
        "cameraFov": 40,
        "cameraType": "perspective",
        "clipDist": 10,
        "clipFar": 100,
        "clipNear": 0,
        "fogFar": 100,
        "fogNear": 50,
        "hoverTimeout": 0,
        "impostor": true,
        "lightColor": 14540253,
        "lightIntensity": 1,
        "mousePreset": "default",
        "panSpeed": 1,
        "quality": "medium",
        "rotateSpeed": 2,
        "sampleLevel": 0,
        "tooltip": true,
        "workerDefault": true,
        "zoomSpeed": 1.2
       },
       "_ngl_repr_dict": {
        "0": {
         "0": {
          "params": {
           "clipCenter": {
            "x": 0,
            "y": 0,
            "z": 0
           },
           "clipNear": 0,
           "clipRadius": 0,
           "colorMode": "hcl",
           "colorReverse": false,
           "colorScale": "",
           "colorScheme": "element",
           "colorValue": "orange",
           "defaultAssembly": "",
           "depthWrite": true,
           "diffuse": 16777215,
           "diffuseInterior": false,
           "disableImpostor": false,
           "disablePicking": false,
           "flatShaded": false,
           "interiorColor": 2236962,
           "interiorDarkening": 0,
           "lazy": false,
           "matrix": {
            "elements": [
             1,
             0,
             0,
             0,
             0,
             1,
             0,
             0,
             0,
             0,
             1,
             0,
             0,
             0,
             0,
             1
            ]
           },
           "metalness": 0,
           "opacity": 1,
           "quality": "medium",
           "radialSegments": 10,
           "radiusData": {},
           "radiusScale": 1,
           "radiusSize": 0.04933016296568518,
           "radiusType": "vdw",
           "roughness": 0.4,
           "sele": "all",
           "side": "double",
           "sphereDetail": 1,
           "useInteriorColor": true,
           "visible": true,
           "wireframe": false
          },
          "type": "unitcell"
         },
         "1": {
          "params": {
           "assembly": "default",
           "clipCenter": {
            "x": 0,
            "y": 0,
            "z": 0
           },
           "clipNear": 0,
           "clipRadius": 0,
           "colorMode": "hcl",
           "colorReverse": false,
           "colorScale": "rainbow",
           "colorScheme": "element",
           "colorValue": 9474192,
           "defaultAssembly": "",
           "depthWrite": true,
           "diffuse": 16777215,
           "diffuseInterior": false,
           "disableImpostor": false,
           "disablePicking": false,
           "flatShaded": false,
           "interiorColor": 2236962,
           "interiorDarkening": 0,
           "lazy": false,
           "matrix": {
            "elements": [
             1,
             0,
             0,
             0,
             0,
             1,
             0,
             0,
             0,
             0,
             1,
             0,
             0,
             0,
             0,
             1
            ]
           },
           "metalness": 0,
           "opacity": 1,
           "quality": "medium",
           "radiusData": {},
           "radiusScale": 0.5,
           "radiusSize": 1,
           "radiusType": "covalent",
           "roughness": 0.4,
           "sele": "all",
           "side": "double",
           "sphereDetail": 1,
           "useInteriorColor": true,
           "visible": true,
           "wireframe": false
          },
          "type": "spacefill"
         }
        }
       },
       "_ngl_serialize": false,
       "_ngl_version": "2.0.0-dev.36",
       "_ngl_view_id": [
        "2CA17601-2887-4343-A3E1-7CC04EBBBAC4"
       ],
       "_player_dict": {},
       "_scene_position": {},
       "_scene_rotation": {},
       "_synced_model_ids": [],
       "_synced_repr_model_ids": [],
       "_view_height": "",
       "_view_width": "",
       "background": "white",
       "frame": 0,
       "gui_style": null,
       "layout": "IPY_MODEL_9937c0f5061b49a8a703b3778185e4eb",
       "max_frame": 0,
       "n_components": 1,
       "picked": {}
      }
     },
     "297e01bc9b514e3ca22466aca84c4f27": {
      "model_module": "@jupyter-widgets/base",
      "model_module_version": "1.2.0",
      "model_name": "LayoutModel",
      "state": {
       "width": "34px"
      }
     },
     "298d9d8580a94e20bae138dbc063756a": {
      "model_module": "@jupyter-widgets/controls",
      "model_module_version": "1.5.0",
      "model_name": "PlayModel",
      "state": {
       "layout": "IPY_MODEL_a2cfa444e0594d24ad295b3608b745e5",
       "max": 0,
       "style": "IPY_MODEL_a519b497274e49269a5d77189f7f270b"
      }
     },
     "2a1cf2fb171642728e355c79410c953e": {
      "model_module": "@jupyter-widgets/controls",
      "model_module_version": "1.5.0",
      "model_name": "CheckboxModel",
      "state": {
       "description": "Show charge",
       "disabled": false,
       "layout": "IPY_MODEL_425159be7cac4608adf944be59923eee",
       "style": "IPY_MODEL_95f5e4f227654d0cb5e53c70e049f910",
       "value": false
      }
     },
     "2a42655c795b420b85d8bc7ffe6296eb": {
      "model_module": "@jupyter-widgets/controls",
      "model_module_version": "1.5.0",
      "model_name": "DropdownModel",
      "state": {
       "_options_labels": [
        "All",
        "O",
        "C",
        "H"
       ],
       "description": "Show",
       "index": 0,
       "layout": "IPY_MODEL_793c73de442c4fad837a837c61e51794",
       "style": "IPY_MODEL_d29a05a164e647dd845945bed8f00d70"
      }
     },
     "2adfb437619d4dfa9f1ecc9a9d8208da": {
      "model_module": "@jupyter-widgets/controls",
      "model_module_version": "1.5.0",
      "model_name": "ButtonStyleModel",
      "state": {}
     },
     "2ae61fa8c7a24ba6b5addebd16c1b7c7": {
      "model_module": "@jupyter-widgets/controls",
      "model_module_version": "1.5.0",
      "model_name": "LinkModel",
      "state": {
       "source": [
        "IPY_MODEL_fab495ba3a36403f969dd04487f3e1a0",
        "max"
       ],
       "target": [
        "IPY_MODEL_7c801561196048dfacadd3191f0d6df8",
        "max_frame"
       ]
      }
     },
     "2aee13d2e587483c8e2a958e37e73bd9": {
      "model_module": "@jupyter-widgets/controls",
      "model_module_version": "1.5.0",
      "model_name": "LinkModel",
      "state": {
       "source": [
        "IPY_MODEL_c90ac459a6a44a19bc184219592ef2f7",
        "max"
       ],
       "target": [
        "IPY_MODEL_395f0dd2f63e4c198c3fbb28babb6ce3",
        "max_frame"
       ]
      }
     },
     "2b131bf152194b0e86cab80f2edcb238": {
      "model_module": "@jupyter-widgets/controls",
      "model_module_version": "1.5.0",
      "model_name": "HBoxModel",
      "state": {
       "children": [
        "IPY_MODEL_bd19c92c23de45708e948538df39c7cc",
        "IPY_MODEL_172f837c52be4b4bbed4a815ee08746d"
       ],
       "layout": "IPY_MODEL_211f6c142b3044bd902764478c1ac150"
      }
     },
     "2b346318ff9e45b195b2b14929e6a753": {
      "model_module": "@jupyter-widgets/controls",
      "model_module_version": "1.5.0",
      "model_name": "HBoxModel",
      "state": {
       "children": [
        "IPY_MODEL_618180f037874dcba063fdd0d4f8034c",
        "IPY_MODEL_3f04a8c6d64e480d97526ef3d3de4ec7"
       ],
       "layout": "IPY_MODEL_702a7cc1938a4da38b6e9c567a230358"
      }
     },
     "2b3cf9be27be4707aeef4f2662556bfa": {
      "model_module": "@jupyter-widgets/controls",
      "model_module_version": "1.5.0",
      "model_name": "ButtonStyleModel",
      "state": {}
     },
     "2b574f06729841948d4a16e934c6ce08": {
      "model_module": "@jupyter-widgets/controls",
      "model_module_version": "1.5.0",
      "model_name": "LinkModel",
      "state": {
       "source": [
        "IPY_MODEL_506d79d7327947e8ab3d9d94b6ca6e82",
        "value"
       ],
       "target": [
        "IPY_MODEL_7d45a10ab10a4e69a326db3d3fbbd48c",
        "value"
       ]
      }
     },
     "2b92a6ca775442e7b37f926ff0ef1d68": {
      "model_module": "@jupyter-widgets/base",
      "model_module_version": "1.2.0",
      "model_name": "LayoutModel",
      "state": {}
     },
     "2bea19ed54084cf5bcd0110f23e413a2": {
      "model_module": "@jupyter-widgets/base",
      "model_module_version": "1.2.0",
      "model_name": "LayoutModel",
      "state": {
       "width": "34px"
      }
     },
     "2c2c9610da074bd1adb18132e4824d82": {
      "model_module": "@jupyter-widgets/controls",
      "model_module_version": "1.5.0",
      "model_name": "ImageModel",
      "state": {
       "layout": "IPY_MODEL_dc796b92e18747f4b66b259b57e7514c",
       "width": "900.0"
      }
     },
     "2c83d7a0baf443c8b7531d779655a9a4": {
      "model_module": "@jupyter-widgets/base",
      "model_module_version": "1.2.0",
      "model_name": "LayoutModel",
      "state": {}
     },
     "2c883402eb124288bf38f2ff7b97c58a": {
      "model_module": "@jupyter-widgets/controls",
      "model_module_version": "1.5.0",
      "model_name": "PlayModel",
      "state": {
       "layout": "IPY_MODEL_ad6a2458158e4c55ab9d33be69bd8876",
       "max": 0,
       "style": "IPY_MODEL_ce3eb9584f4f4622b5a8aa7bd1ad2a2e"
      }
     },
     "2ca501c5c94140b0aef710b73c20bce8": {
      "model_module": "@jupyter-widgets/controls",
      "model_module_version": "1.5.0",
      "model_name": "SliderStyleModel",
      "state": {
       "description_width": ""
      }
     },
     "2cb530d477164a92a6cbcb7e8b948fb5": {
      "model_module": "@jupyter-widgets/controls",
      "model_module_version": "1.5.0",
      "model_name": "TextModel",
      "state": {
       "description": "Filename: ",
       "layout": "IPY_MODEL_714670b10f2d42b0b9f4eabccfb26a2c",
       "style": "IPY_MODEL_1a48d44d8d1646149898bdb69bb5b72f",
       "value": "screenshot.png"
      }
     },
     "2cd19506a5e64467b5cb394e532c8285": {
      "model_module": "@jupyter-widgets/controls",
      "model_module_version": "1.5.0",
      "model_name": "LinkModel",
      "state": {
       "source": [
        "IPY_MODEL_f1a1a26ae1e842eca1b0eaee2ba627e6",
        "value"
       ],
       "target": [
        "IPY_MODEL_906672fa123441ad99bd8a93e8e7bcf0",
        "value"
       ]
      }
     },
     "2d07489c0393451e92a979d1fa07f695": {
      "model_module": "@jupyter-widgets/base",
      "model_module_version": "1.2.0",
      "model_name": "LayoutModel",
      "state": {}
     },
     "2d73ca2efbcc47888d626a1c432e931c": {
      "model_module": "@jupyter-widgets/controls",
      "model_module_version": "1.5.0",
      "model_name": "FloatSliderModel",
      "state": {
       "description": "Ball size",
       "layout": "IPY_MODEL_ceca5cc020a5427db07f0e9e9291a95b",
       "max": 1.5,
       "step": 0.01,
       "style": "IPY_MODEL_b08946c523244bc099a9e147433313c8",
       "value": 0.5
      }
     },
     "2d95a01fc9914a329adfe31972f0accb": {
      "model_module": "@jupyter-widgets/controls",
      "model_module_version": "1.5.0",
      "model_name": "LinkModel",
      "state": {
       "source": [
        "IPY_MODEL_23ae12e1c80448f2808c75588d3b4df6",
        "max"
       ],
       "target": [
        "IPY_MODEL_cacd796bfcf945a6a1db72136e7bf10f",
        "max_frame"
       ]
      }
     },
     "2de51a3fa9b941708f87f21fe65daa39": {
      "model_module": "@jupyter-widgets/base",
      "model_module_version": "1.2.0",
      "model_name": "LayoutModel",
      "state": {}
     },
     "2e42ce3c46004abf9ecf664cf78be8b5": {
      "model_module": "@jupyter-widgets/base",
      "model_module_version": "1.2.0",
      "model_name": "LayoutModel",
      "state": {}
     },
     "2e651578d9ec44fb86e7072346abb672": {
      "model_module": "@jupyter-widgets/base",
      "model_module_version": "1.2.0",
      "model_name": "LayoutModel",
      "state": {}
     },
     "2f051ec1489541cdb9175863e6fa1184": {
      "model_module": "nglview-js-widgets",
      "model_module_version": "3.0.1",
      "model_name": "NGLModel",
      "state": {
       "_camera_orientation": [
        6.472139903336057,
        0,
        0,
        0,
        0,
        6.472139903336057,
        0,
        0,
        0,
        0,
        6.472139903336057,
        0,
        0.1889999508857727,
        0.08449995517730713,
        0,
        1
       ],
       "_camera_str": "orthographic",
       "_gui_theme": null,
       "_ibtn_fullscreen": "IPY_MODEL_8a289907f0ee40f4a0931bcf1e76d7ef",
       "_igui": null,
       "_iplayer": "IPY_MODEL_2427f1bf2c7e4c779ec51e016d129029",
       "_ngl_color_dict": {},
       "_ngl_coordinate_resource": {},
       "_ngl_full_stage_parameters": {
        "ambientColor": 14540253,
        "ambientIntensity": 0.2,
        "backgroundColor": "white",
        "cameraEyeSep": 0.3,
        "cameraFov": 40,
        "cameraType": "orthographic",
        "clipDist": 0,
        "clipFar": 100,
        "clipNear": 0,
        "fogFar": 100,
        "fogNear": 50,
        "hoverTimeout": 0,
        "impostor": true,
        "lightColor": 14540253,
        "lightIntensity": 1,
        "mousePreset": "default",
        "panSpeed": 1,
        "quality": "medium",
        "rotateSpeed": 2,
        "sampleLevel": 0,
        "tooltip": true,
        "workerDefault": true,
        "zoomSpeed": 1.2
       },
       "_ngl_msg_archive": [
        {
         "args": [
          {
           "binary": false,
           "data": "MODEL     1\nATOM      1    O MOL     1       1.218   0.361   0.000  1.00  0.00           O  \nATOM      2    C MOL     1       0.000   0.464   0.000  1.00  0.00           C  \nATOM      3    H MOL     1      -0.477   1.465   0.000  1.00  0.00           H  \nATOM      4    C MOL     1      -0.948  -0.700   0.000  1.00  0.00           C  \nATOM      5    H MOL     1      -0.386  -1.634   0.000  1.00  0.00           H  \nATOM      6    H MOL     1      -1.596  -0.652   0.881  1.00  0.00           H  \nATOM      7    H MOL     1      -1.596  -0.652  -0.881  1.00  0.00           H  \nENDMDL\n",
           "type": "blob"
          }
         ],
         "kwargs": {
          "defaultRepresentation": false,
          "ext": "pdb"
         },
         "methodName": "loadFile",
         "reconstruc_color_scheme": false,
         "target": "Stage",
         "type": "call_method"
        },
        {
         "args": [
          "400px",
          "300px"
         ],
         "kwargs": {},
         "methodName": "setSize",
         "reconstruc_color_scheme": false,
         "target": "Widget",
         "type": "call_method"
        },
        {
         "args": [
          "unitcell"
         ],
         "component_index": 0,
         "kwargs": {
          "sele": "all"
         },
         "methodName": "addRepresentation",
         "reconstruc_color_scheme": false,
         "target": "compList",
         "type": "call_method"
        },
        {
         "args": [
          "spacefill"
         ],
         "component_index": 0,
         "kwargs": {
          "sele": "all"
         },
         "methodName": "addRepresentation",
         "reconstruc_color_scheme": false,
         "target": "compList",
         "type": "call_method"
        },
        {
         "args": [],
         "kwargs": {
          "cameraType": "orthographic"
         },
         "methodName": "setParameters",
         "reconstruc_color_scheme": false,
         "target": "Stage",
         "type": "call_method"
        },
        {
         "args": [
          {
           "clipDist": 0
          }
         ],
         "kwargs": {},
         "methodName": "setParameters",
         "reconstruc_color_scheme": false,
         "target": "Widget",
         "type": "call_method"
        },
        {
         "args": [
          "spacefill",
          0
         ],
         "kwargs": {
          "colorScale": "rainbow",
          "colorScheme": "element",
          "radiusScale": 0.5,
          "radiusType": "covalent"
         },
         "methodName": "updateRepresentationsByName",
         "reconstruc_color_scheme": false,
         "target": "Widget",
         "type": "call_method"
        },
        {
         "args": [
          "this._Q = [[1.0, 0.0, 0.0], [0.0, 1.0, 0.0], [0.0, 0.0, 1.0]]\n    var tooltip = document.createElement('div')\n    Object.assign(tooltip.style, {\n      display: 'none',\n      position: 'fixed',\n      zIndex: 10,\n      pointerEvents: 'none',\n      backgroundColor: 'rgba( 0, 0, 0, 0.6 )',\n      color: 'lightgrey',\n      padding: '8px',\n      fontFamily: 'sans-serif'\n    })\n    document.body.appendChild(tooltip)\n\n    var that = this\n    this.stage.mouseControls.remove('hoverPick')\n    this.stage.signals.hovered.add(function (pickingProxy) {\n      if (pickingProxy && (pickingProxy.atom || pickingProxy.bond)) {\n        var atom = pickingProxy.atom || pickingProxy.closestBondAtom\n        var mp = pickingProxy.mouse.position\n        //tooltip.innerText = atom.element + ' i=' + atom.index + ' (' + atom.x.toFixed(2) +  ', ' + atom.y.toFixed(2) +  ', ' + atom.z.toFixed(2) + ')'\n        //var pos = that._atoms_pos[atom.index]\n        var Q = that._Q\n        var pos_x = Q[0][0] * atom.x + Q[0][1] * atom.y + Q[0][2] * atom.z \n        var pos_y = Q[1][0] * atom.x + Q[1][1] * atom.y + Q[1][2] * atom.z\n        var pos_z = Q[2][0] * atom.x + Q[2][1] * atom.y + Q[2][2] * atom.z\n        tooltip.innerText = 'i=' + atom.index + ' ' + atom.element + ' (' + pos_x.toFixed(2) +  ', ' + pos_y.toFixed(2) +  ', ' + pos_z.toFixed(2) + ')'\n        tooltip.style.bottom = window.innerHeight - mp.y + 3 + 'px'\n        tooltip.style.left = mp.x + 3 + 'px'\n        tooltip.style.display = 'block'\n      } else {\n        tooltip.style.display = 'none'\n      }\n    })\n    "
         ],
         "kwargs": {},
         "methodName": "executeCode",
         "reconstruc_color_scheme": false,
         "target": "Widget",
         "type": "call_method"
        },
        {
         "args": [
          "ball+stick"
         ],
         "component_index": 0,
         "kwargs": {
          "sele": "all"
         },
         "methodName": "addRepresentation",
         "reconstruc_color_scheme": false,
         "target": "compList",
         "type": "call_method"
        }
       ],
       "_ngl_original_stage_parameters": {
        "ambientColor": 14540253,
        "ambientIntensity": 0.2,
        "backgroundColor": "white",
        "cameraEyeSep": 0.3,
        "cameraFov": 40,
        "cameraType": "perspective",
        "clipDist": 10,
        "clipFar": 100,
        "clipNear": 0,
        "fogFar": 100,
        "fogNear": 50,
        "hoverTimeout": 0,
        "impostor": true,
        "lightColor": 14540253,
        "lightIntensity": 1,
        "mousePreset": "default",
        "panSpeed": 1,
        "quality": "medium",
        "rotateSpeed": 2,
        "sampleLevel": 0,
        "tooltip": true,
        "workerDefault": true,
        "zoomSpeed": 1.2
       },
       "_ngl_repr_dict": {
        "0": {
         "0": {
          "params": {
           "clipCenter": {
            "x": 0,
            "y": 0,
            "z": 0
           },
           "clipNear": 0,
           "clipRadius": 0,
           "colorMode": "hcl",
           "colorReverse": false,
           "colorScale": "",
           "colorScheme": "element",
           "colorValue": "orange",
           "defaultAssembly": "",
           "depthWrite": true,
           "diffuse": 16777215,
           "diffuseInterior": false,
           "disableImpostor": false,
           "disablePicking": false,
           "flatShaded": false,
           "interiorColor": 2236962,
           "interiorDarkening": 0,
           "lazy": false,
           "matrix": {
            "elements": [
             1,
             0,
             0,
             0,
             0,
             1,
             0,
             0,
             0,
             0,
             1,
             0,
             0,
             0,
             0,
             1
            ]
           },
           "metalness": 0,
           "opacity": 1,
           "quality": "medium",
           "radialSegments": 10,
           "radiusData": {},
           "radiusScale": 1,
           "radiusSize": 0.5,
           "radiusType": "vdw",
           "roughness": 0.4,
           "sele": "all",
           "side": "double",
           "sphereDetail": 1,
           "useInteriorColor": true,
           "visible": true,
           "wireframe": false
          },
          "type": "unitcell"
         },
         "1": {
          "params": {
           "assembly": "default",
           "clipCenter": {
            "x": 0,
            "y": 0,
            "z": 0
           },
           "clipNear": 0,
           "clipRadius": 0,
           "colorMode": "hcl",
           "colorReverse": false,
           "colorScale": "rainbow",
           "colorScheme": "element",
           "colorValue": 9474192,
           "defaultAssembly": "",
           "depthWrite": true,
           "diffuse": 16777215,
           "diffuseInterior": false,
           "disableImpostor": false,
           "disablePicking": false,
           "flatShaded": false,
           "interiorColor": 2236962,
           "interiorDarkening": 0,
           "lazy": false,
           "matrix": {
            "elements": [
             1,
             0,
             0,
             0,
             0,
             1,
             0,
             0,
             0,
             0,
             1,
             0,
             0,
             0,
             0,
             1
            ]
           },
           "metalness": 0,
           "opacity": 1,
           "quality": "medium",
           "radiusData": {},
           "radiusScale": 0.5,
           "radiusSize": 1,
           "radiusType": "covalent",
           "roughness": 0.4,
           "sele": "all",
           "side": "double",
           "sphereDetail": 1,
           "useInteriorColor": true,
           "visible": true,
           "wireframe": false
          },
          "type": "spacefill"
         },
         "2": {
          "params": {
           "aspectRatio": 2,
           "assembly": "default",
           "bondScale": 0.4,
           "bondSpacing": 1,
           "clipCenter": {
            "x": 0,
            "y": 0,
            "z": 0
           },
           "clipNear": 0,
           "clipRadius": 0,
           "colorMode": "hcl",
           "colorReverse": false,
           "colorScale": "",
           "colorScheme": "element",
           "colorValue": 9474192,
           "cylinderOnly": false,
           "defaultAssembly": "",
           "depthWrite": true,
           "diffuse": 16777215,
           "diffuseInterior": false,
           "disableImpostor": false,
           "disablePicking": false,
           "flatShaded": false,
           "interiorColor": 2236962,
           "interiorDarkening": 0,
           "lazy": false,
           "lineOnly": false,
           "linewidth": 2,
           "matrix": {
            "elements": [
             1,
             0,
             0,
             0,
             0,
             1,
             0,
             0,
             0,
             0,
             1,
             0,
             0,
             0,
             0,
             1
            ]
           },
           "metalness": 0,
           "multipleBond": "off",
           "opacity": 1,
           "openEnded": true,
           "quality": "medium",
           "radialSegments": 10,
           "radiusData": {},
           "radiusScale": 1,
           "radiusSize": 0.15,
           "radiusType": "size",
           "roughness": 0.4,
           "sele": "all",
           "side": "double",
           "sphereDetail": 1,
           "useInteriorColor": true,
           "visible": true,
           "wireframe": false
          },
          "type": "ball+stick"
         }
        }
       },
       "_ngl_serialize": false,
       "_ngl_version": "2.0.0-dev.36",
       "_ngl_view_id": [
        "2BA62C3E-AD71-4A2B-B8D0-C355E35F31BF"
       ],
       "_player_dict": {},
       "_scene_position": {},
       "_scene_rotation": {},
       "_synced_model_ids": [],
       "_synced_repr_model_ids": [],
       "_view_height": "",
       "_view_width": "",
       "background": "white",
       "frame": 0,
       "gui_style": null,
       "layout": "IPY_MODEL_356bf725f926495086b6e1e83bd3e9b4",
       "max_frame": 0,
       "n_components": 1,
       "picked": {}
      }
     },
     "2fe7688433be48a7b9a361228dccfff8": {
      "model_module": "@jupyter-widgets/controls",
      "model_module_version": "1.5.0",
      "model_name": "ButtonModel",
      "state": {
       "description": "Save image",
       "layout": "IPY_MODEL_c30164fe884e452ab01e1b9c23c862cc",
       "style": "IPY_MODEL_3397e22810ba496e843c6b8920501ab8",
       "tooltip": "Save current frame to file.\nCurrently .png and .html are supported.\nIt takes a bit time, please be patient."
      }
     },
     "30fd4cea9b7d4c4ea927b1621b8acafa": {
      "model_module": "@jupyter-widgets/controls",
      "model_module_version": "1.5.0",
      "model_name": "SliderStyleModel",
      "state": {
       "description_width": ""
      }
     },
     "31b08853351b4596a2f434f67800c1e1": {
      "model_module": "@jupyter-widgets/base",
      "model_module_version": "1.2.0",
      "model_name": "LayoutModel",
      "state": {}
     },
     "3222dc806d1f4c669a47dfad6db9a56c": {
      "model_module": "@jupyter-widgets/base",
      "model_module_version": "1.2.0",
      "model_name": "LayoutModel",
      "state": {}
     },
     "325559e8553f4eb7b783065d3af40a56": {
      "model_module": "@jupyter-widgets/base",
      "model_module_version": "1.2.0",
      "model_name": "LayoutModel",
      "state": {}
     },
     "32560f1ec6354c06887e05c89008a40c": {
      "model_module": "@jupyter-widgets/base",
      "model_module_version": "1.2.0",
      "model_name": "LayoutModel",
      "state": {}
     },
     "32823fc8d30c46d997c6f1a632decf40": {
      "model_module": "@jupyter-widgets/base",
      "model_module_version": "1.2.0",
      "model_name": "LayoutModel",
      "state": {}
     },
     "32f642d0fdeb4afc8498010fa08caf03": {
      "model_module": "@jupyter-widgets/base",
      "model_module_version": "1.2.0",
      "model_name": "LayoutModel",
      "state": {}
     },
     "332c475456e1497fa12e67a07d71277e": {
      "model_module": "@jupyter-widgets/controls",
      "model_module_version": "1.5.0",
      "model_name": "FloatSliderModel",
      "state": {
       "description": "Force scale",
       "layout": "IPY_MODEL_1d53e48ad55249efb4d4d0ca15c1a9ac",
       "step": 0.1,
       "style": "IPY_MODEL_0741f24e3ebb4d6e837ee0ba19464d02",
       "value": 0.5
      }
     },
     "336b6bcbb6a748a38c8c17553ca5783a": {
      "model_module": "@jupyter-widgets/controls",
      "model_module_version": "1.5.0",
      "model_name": "DropdownModel",
      "state": {
       "_options_labels": [
        " ",
        "picking",
        "random",
        "uniform",
        "atomindex",
        "residueindex",
        "chainindex",
        "modelindex",
        "sstruc",
        "element",
        "resname",
        "bfactor",
        "hydrophobicity",
        "value",
        "volume",
        "occupancy"
       ],
       "description": "Color scheme",
       "index": 9,
       "layout": "IPY_MODEL_93698d1c2aca4ce184a253f6dea16951",
       "style": "IPY_MODEL_8e15a2956b3f4017a76f80fc387cbd2f"
      }
     },
     "33897642339740a48b17ba2c62391098": {
      "model_module": "@jupyter-widgets/controls",
      "model_module_version": "1.5.0",
      "model_name": "SliderStyleModel",
      "state": {
       "description_width": ""
      }
     },
     "3397e22810ba496e843c6b8920501ab8": {
      "model_module": "@jupyter-widgets/controls",
      "model_module_version": "1.5.0",
      "model_name": "ButtonStyleModel",
      "state": {}
     },
     "33e3a34dcf2e49438adbf7b7b183bc19": {
      "model_module": "@jupyter-widgets/base",
      "model_module_version": "1.2.0",
      "model_name": "LayoutModel",
      "state": {}
     },
     "33e4ada39d5247f18d9ee31b12263b1a": {
      "model_module": "@jupyter-widgets/base",
      "model_module_version": "1.2.0",
      "model_name": "LayoutModel",
      "state": {
       "border": "0px solid black"
      }
     },
     "3481a74bec72421c82f14cd272d5f562": {
      "model_module": "@jupyter-widgets/controls",
      "model_module_version": "1.5.0",
      "model_name": "HBoxModel",
      "state": {
       "children": [
        "IPY_MODEL_7a0fa835cb3b4495b4a25e7c5efa48ba",
        "IPY_MODEL_f85dd17ca4d24e5897aa8c451ef6266c"
       ],
       "layout": "IPY_MODEL_9538da0b054d4e8aa6d0be42df3a744e"
      }
     },
     "34b0ddc22ba34004b5e59dc6939760e9": {
      "model_module": "@jupyter-widgets/controls",
      "model_module_version": "1.5.0",
      "model_name": "LinkModel",
      "state": {
       "source": [
        "IPY_MODEL_7a20175cd9624feca3238249ad7a4d96",
        "value"
       ],
       "target": [
        "IPY_MODEL_c90ac459a6a44a19bc184219592ef2f7",
        "value"
       ]
      }
     },
     "35248ea6187a4fb4befbb121b789b9d1": {
      "model_module": "@jupyter-widgets/controls",
      "model_module_version": "1.5.0",
      "model_name": "IntSliderModel",
      "state": {
       "layout": "IPY_MODEL_b2b2a26efdb34b72aea91969b6b3b537",
       "max": 0,
       "style": "IPY_MODEL_64aebbd9203d49278bf9c4d5ed867e9b"
      }
     },
     "353d202f467e408b892e51d3f8ec5fee": {
      "model_module": "@jupyter-widgets/controls",
      "model_module_version": "1.5.0",
      "model_name": "DescriptionStyleModel",
      "state": {
       "description_width": ""
      }
     },
     "356bf725f926495086b6e1e83bd3e9b4": {
      "model_module": "@jupyter-widgets/base",
      "model_module_version": "1.2.0",
      "model_name": "LayoutModel",
      "state": {}
     },
     "359b1be6f95e496594b4de3a8bae64ad": {
      "model_module": "@jupyter-widgets/base",
      "model_module_version": "1.2.0",
      "model_name": "LayoutModel",
      "state": {}
     },
     "3636d55315104bdd97d927a393e2623c": {
      "model_module": "@jupyter-widgets/base",
      "model_module_version": "1.2.0",
      "model_name": "LayoutModel",
      "state": {}
     },
     "3656c07d3f084db28c935fca455d769e": {
      "model_module": "@jupyter-widgets/controls",
      "model_module_version": "1.5.0",
      "model_name": "HBoxModel",
      "state": {
       "children": [
        "IPY_MODEL_fab495ba3a36403f969dd04487f3e1a0",
        "IPY_MODEL_182ce9d494704d2b87176c103daa912a"
       ],
       "layout": "IPY_MODEL_d008aa3b2c0c44e78ae9e8c6d4e920b9"
      }
     },
     "3659c9a499fc4583973ca8574cd4f12c": {
      "model_module": "@jupyter-widgets/controls",
      "model_module_version": "1.5.0",
      "model_name": "ButtonModel",
      "state": {
       "description": "Save image",
       "layout": "IPY_MODEL_7714243836de4846bed1ae39b823b6da",
       "style": "IPY_MODEL_da3f7ca86aac483d963c58c597868aba",
       "tooltip": "Save current frame to file.\nCurrently .png and .html are supported.\nIt takes a bit time, please be patient."
      }
     },
     "370a51ddd5894c9dad4ba7aa76a23215": {
      "model_module": "@jupyter-widgets/controls",
      "model_module_version": "1.5.0",
      "model_name": "ButtonStyleModel",
      "state": {}
     },
     "370aae398e444037be9c218c377c8a86": {
      "model_module": "@jupyter-widgets/base",
      "model_module_version": "1.2.0",
      "model_name": "LayoutModel",
      "state": {}
     },
     "3866fb2722e84078bb00308446879a16": {
      "model_module": "@jupyter-widgets/base",
      "model_module_version": "1.2.0",
      "model_name": "LayoutModel",
      "state": {}
     },
     "38b5c8759a624e43bae71db8da94ff33": {
      "model_module": "@jupyter-widgets/controls",
      "model_module_version": "1.5.0",
      "model_name": "SliderStyleModel",
      "state": {
       "description_width": ""
      }
     },
     "38c244bcd9e840d1b85a59144c3aa32d": {
      "model_module": "@jupyter-widgets/controls",
      "model_module_version": "1.5.0",
      "model_name": "DescriptionStyleModel",
      "state": {
       "description_width": ""
      }
     },
     "395f0dd2f63e4c198c3fbb28babb6ce3": {
      "model_module": "nglview-js-widgets",
      "model_module_version": "3.0.1",
      "model_name": "NGLModel",
      "state": {
       "_camera_orientation": [
        18.678557698506353,
        0,
        0,
        0,
        0,
        18.678557698506353,
        0,
        0,
        0,
        0,
        18.678557698506353,
        0,
        -2.4855000972747803,
        1.7575000524520874,
        -1.0149999856948853,
        1
       ],
       "_camera_str": "orthographic",
       "_gui_theme": null,
       "_ibtn_fullscreen": "IPY_MODEL_1bbc3412f8204cf38a27dfde2bb75ab4",
       "_igui": null,
       "_iplayer": "IPY_MODEL_b2f2693489294664a1c54d8231709062",
       "_ngl_color_dict": {},
       "_ngl_coordinate_resource": {},
       "_ngl_full_stage_parameters": {
        "ambientColor": 14540253,
        "ambientIntensity": 0.2,
        "backgroundColor": "white",
        "cameraEyeSep": 0.3,
        "cameraFov": 40,
        "cameraType": "orthographic",
        "clipDist": 0,
        "clipFar": 100,
        "clipNear": 0,
        "fogFar": 100,
        "fogNear": 50,
        "hoverTimeout": 0,
        "impostor": true,
        "lightColor": 14540253,
        "lightIntensity": 1,
        "mousePreset": "default",
        "panSpeed": 1,
        "quality": "medium",
        "rotateSpeed": 2,
        "sampleLevel": 0,
        "tooltip": true,
        "workerDefault": true,
        "zoomSpeed": 1.2
       },
       "_ngl_msg_archive": [
        {
         "args": [
          {
           "binary": false,
           "data": "CRYST1    4.971    7.456    9.942 109.47 109.47 109.47 P 1\nMODEL     1\nATOM      1   Fe MOL     1       0.000   0.000   0.000  1.00  0.00          FE  \nATOM      2   Fe MOL     1       0.828  -2.343  -0.000  1.00  0.00          FE  \nATOM      3   Fe MOL     1       1.657  -4.687  -0.000  1.00  0.00          FE  \nATOM      4   Fe MOL     1       2.485  -7.030  -0.000  1.00  0.00          FE  \nATOM      5   Fe MOL     1       0.828   1.172   2.029  1.00  0.00          FE  \nATOM      6   Fe MOL     1       1.657  -1.172   2.029  1.00  0.00          FE  \nATOM      7   Fe MOL     1       2.485  -3.515   2.029  1.00  0.00          FE  \nATOM      8   Fe MOL     1       3.314  -5.858   2.029  1.00  0.00          FE  \nATOM      9   Fe MOL     1       1.657   2.343   4.059  1.00  0.00          FE  \nATOM     10   Fe MOL     1       2.485   0.000   4.059  1.00  0.00          FE  \nATOM     11   Fe MOL     1       3.314  -2.343   4.059  1.00  0.00          FE  \nATOM     12   Fe MOL     1       4.142  -4.687   4.059  1.00  0.00          FE  \nATOM     13   Fe MOL     1       0.828   1.172  -2.029  1.00  0.00          FE  \nATOM     14   Fe MOL     1       1.657  -1.172  -2.029  1.00  0.00          FE  \nATOM     15   Fe MOL     1       2.485  -3.515  -2.029  1.00  0.00          FE  \nATOM     16   Fe MOL     1       3.314  -5.858  -2.029  1.00  0.00          FE  \nATOM     17   Fe MOL     1       1.657   2.343   0.000  1.00  0.00          FE  \nATOM     18   Fe MOL     1       2.485   0.000  -0.000  1.00  0.00          FE  \nATOM     19   Fe MOL     1       3.314  -2.343  -0.000  1.00  0.00          FE  \nATOM     20   Fe MOL     1       4.142  -4.687  -0.000  1.00  0.00          FE  \nATOM     21   Fe MOL     1       2.485   3.515   2.029  1.00  0.00          FE  \nATOM     22   Fe MOL     1       3.314   1.172   2.029  1.00  0.00          FE  \nATOM     23   Fe MOL     1       4.142  -1.172   2.029  1.00  0.00          FE  \nATOM     24   Fe MOL     1       4.971  -3.515   2.029  1.00  0.00          FE  \nENDMDL\n",
           "type": "blob"
          }
         ],
         "kwargs": {
          "defaultRepresentation": false,
          "ext": "pdb"
         },
         "methodName": "loadFile",
         "reconstruc_color_scheme": false,
         "target": "Stage",
         "type": "call_method"
        },
        {
         "args": [
          "400px",
          "300px"
         ],
         "kwargs": {},
         "methodName": "setSize",
         "reconstruc_color_scheme": false,
         "target": "Widget",
         "type": "call_method"
        },
        {
         "args": [
          "unitcell"
         ],
         "component_index": 0,
         "kwargs": {
          "sele": "all"
         },
         "methodName": "addRepresentation",
         "reconstruc_color_scheme": false,
         "target": "compList",
         "type": "call_method"
        },
        {
         "args": [
          "spacefill"
         ],
         "component_index": 0,
         "kwargs": {
          "sele": "all"
         },
         "methodName": "addRepresentation",
         "reconstruc_color_scheme": false,
         "target": "compList",
         "type": "call_method"
        },
        {
         "args": [],
         "kwargs": {
          "cameraType": "orthographic"
         },
         "methodName": "setParameters",
         "reconstruc_color_scheme": false,
         "target": "Stage",
         "type": "call_method"
        },
        {
         "args": [
          {
           "clipDist": 0
          }
         ],
         "kwargs": {},
         "methodName": "setParameters",
         "reconstruc_color_scheme": false,
         "target": "Widget",
         "type": "call_method"
        },
        {
         "args": [
          "spacefill",
          0
         ],
         "kwargs": {
          "colorScale": "rainbow",
          "colorScheme": "element",
          "radiusScale": 0.5,
          "radiusType": "covalent"
         },
         "methodName": "updateRepresentationsByName",
         "reconstruc_color_scheme": false,
         "target": "Widget",
         "type": "call_method"
        },
        {
         "args": [
          "this._Q = [[-0.5773502691896257, 0.5773502691896257, 0.5773502691896257], [0.40824829046386313, -0.408248290463863, 0.8164965809277261], [0.7071067811865476, 0.7071067811865477, -2.6638240557478837e-16]]\n    var tooltip = document.createElement('div')\n    Object.assign(tooltip.style, {\n      display: 'none',\n      position: 'fixed',\n      zIndex: 10,\n      pointerEvents: 'none',\n      backgroundColor: 'rgba( 0, 0, 0, 0.6 )',\n      color: 'lightgrey',\n      padding: '8px',\n      fontFamily: 'sans-serif'\n    })\n    document.body.appendChild(tooltip)\n\n    var that = this\n    this.stage.mouseControls.remove('hoverPick')\n    this.stage.signals.hovered.add(function (pickingProxy) {\n      if (pickingProxy && (pickingProxy.atom || pickingProxy.bond)) {\n        var atom = pickingProxy.atom || pickingProxy.closestBondAtom\n        var mp = pickingProxy.mouse.position\n        //tooltip.innerText = atom.element + ' i=' + atom.index + ' (' + atom.x.toFixed(2) +  ', ' + atom.y.toFixed(2) +  ', ' + atom.z.toFixed(2) + ')'\n        //var pos = that._atoms_pos[atom.index]\n        var Q = that._Q\n        var pos_x = Q[0][0] * atom.x + Q[0][1] * atom.y + Q[0][2] * atom.z \n        var pos_y = Q[1][0] * atom.x + Q[1][1] * atom.y + Q[1][2] * atom.z\n        var pos_z = Q[2][0] * atom.x + Q[2][1] * atom.y + Q[2][2] * atom.z\n        tooltip.innerText = 'i=' + atom.index + ' ' + atom.element + ' (' + pos_x.toFixed(2) +  ', ' + pos_y.toFixed(2) +  ', ' + pos_z.toFixed(2) + ')'\n        tooltip.style.bottom = window.innerHeight - mp.y + 3 + 'px'\n        tooltip.style.left = mp.x + 3 + 'px'\n        tooltip.style.display = 'block'\n      } else {\n        tooltip.style.display = 'none'\n      }\n    })\n    "
         ],
         "kwargs": {},
         "methodName": "executeCode",
         "reconstruc_color_scheme": false,
         "target": "Widget",
         "type": "call_method"
        },
        {
         "args": [
          "ball+stick"
         ],
         "component_index": 0,
         "kwargs": {
          "sele": "all"
         },
         "methodName": "addRepresentation",
         "reconstruc_color_scheme": false,
         "target": "compList",
         "type": "call_method"
        }
       ],
       "_ngl_original_stage_parameters": {
        "ambientColor": 14540253,
        "ambientIntensity": 0.2,
        "backgroundColor": "white",
        "cameraEyeSep": 0.3,
        "cameraFov": 40,
        "cameraType": "perspective",
        "clipDist": 10,
        "clipFar": 100,
        "clipNear": 0,
        "fogFar": 100,
        "fogNear": 50,
        "hoverTimeout": 0,
        "impostor": true,
        "lightColor": 14540253,
        "lightIntensity": 1,
        "mousePreset": "default",
        "panSpeed": 1,
        "quality": "medium",
        "rotateSpeed": 2,
        "sampleLevel": 0,
        "tooltip": true,
        "workerDefault": true,
        "zoomSpeed": 1.2
       },
       "_ngl_repr_dict": {
        "0": {
         "0": {
          "params": {
           "clipCenter": {
            "x": 0,
            "y": 0,
            "z": 0
           },
           "clipNear": 0,
           "clipRadius": 0,
           "colorMode": "hcl",
           "colorReverse": false,
           "colorScale": "",
           "colorScheme": "element",
           "colorValue": "orange",
           "defaultAssembly": "",
           "depthWrite": true,
           "diffuse": 16777215,
           "diffuseInterior": false,
           "disableImpostor": false,
           "disablePicking": false,
           "flatShaded": false,
           "interiorColor": 2236962,
           "interiorDarkening": 0,
           "lazy": false,
           "matrix": {
            "elements": [
             1,
             0,
             0,
             0,
             0,
             1,
             0,
             0,
             0,
             0,
             1,
             0,
             0,
             0,
             0,
             1
            ]
           },
           "metalness": 0,
           "opacity": 1,
           "quality": "medium",
           "radialSegments": 10,
           "radiusData": {},
           "radiusScale": 1,
           "radiusSize": 0.03286151464600358,
           "radiusType": "vdw",
           "roughness": 0.4,
           "sele": "all",
           "side": "double",
           "sphereDetail": 1,
           "useInteriorColor": true,
           "visible": true,
           "wireframe": false
          },
          "type": "unitcell"
         },
         "1": {
          "params": {
           "assembly": "default",
           "clipCenter": {
            "x": 0,
            "y": 0,
            "z": 0
           },
           "clipNear": 0,
           "clipRadius": 0,
           "colorMode": "hcl",
           "colorReverse": false,
           "colorScale": "rainbow",
           "colorScheme": "element",
           "colorValue": 9474192,
           "defaultAssembly": "",
           "depthWrite": true,
           "diffuse": 16777215,
           "diffuseInterior": false,
           "disableImpostor": false,
           "disablePicking": false,
           "flatShaded": false,
           "interiorColor": 2236962,
           "interiorDarkening": 0,
           "lazy": false,
           "matrix": {
            "elements": [
             1,
             0,
             0,
             0,
             0,
             1,
             0,
             0,
             0,
             0,
             1,
             0,
             0,
             0,
             0,
             1
            ]
           },
           "metalness": 0,
           "opacity": 1,
           "quality": "medium",
           "radiusData": {},
           "radiusScale": 0.5,
           "radiusSize": 1,
           "radiusType": "covalent",
           "roughness": 0.4,
           "sele": "all",
           "side": "double",
           "sphereDetail": 1,
           "useInteriorColor": true,
           "visible": true,
           "wireframe": false
          },
          "type": "spacefill"
         },
         "2": {
          "params": {
           "aspectRatio": 2,
           "assembly": "default",
           "bondScale": 0.4,
           "bondSpacing": 1,
           "clipCenter": {
            "x": 0,
            "y": 0,
            "z": 0
           },
           "clipNear": 0,
           "clipRadius": 0,
           "colorMode": "hcl",
           "colorReverse": false,
           "colorScale": "",
           "colorScheme": "element",
           "colorValue": 9474192,
           "cylinderOnly": false,
           "defaultAssembly": "",
           "depthWrite": true,
           "diffuse": 16777215,
           "diffuseInterior": false,
           "disableImpostor": false,
           "disablePicking": false,
           "flatShaded": false,
           "interiorColor": 2236962,
           "interiorDarkening": 0,
           "lazy": false,
           "lineOnly": false,
           "linewidth": 2,
           "matrix": {
            "elements": [
             1,
             0,
             0,
             0,
             0,
             1,
             0,
             0,
             0,
             0,
             1,
             0,
             0,
             0,
             0,
             1
            ]
           },
           "metalness": 0,
           "multipleBond": "off",
           "opacity": 1,
           "openEnded": true,
           "quality": "medium",
           "radialSegments": 10,
           "radiusData": {},
           "radiusScale": 1,
           "radiusSize": 0.15,
           "radiusType": "size",
           "roughness": 0.4,
           "sele": "all",
           "side": "double",
           "sphereDetail": 1,
           "useInteriorColor": true,
           "visible": true,
           "wireframe": false
          },
          "type": "ball+stick"
         }
        }
       },
       "_ngl_serialize": false,
       "_ngl_version": "2.0.0-dev.36",
       "_ngl_view_id": [
        "988AE354-A30C-4490-86E2-F33836A9D6A4"
       ],
       "_player_dict": {},
       "_scene_position": {},
       "_scene_rotation": {},
       "_synced_model_ids": [],
       "_synced_repr_model_ids": [],
       "_view_height": "",
       "_view_width": "",
       "background": "white",
       "frame": 0,
       "gui_style": null,
       "layout": "IPY_MODEL_f5fb8196886249449ec5ca9090f0121d",
       "max_frame": 0,
       "n_components": 1,
       "picked": {}
      }
     },
     "39cc2f257bdb42c89e84076461593550": {
      "model_module": "@jupyter-widgets/base",
      "model_module_version": "1.2.0",
      "model_name": "LayoutModel",
      "state": {
       "width": "34px"
      }
     },
     "39db920fb8e54fd6b9ab747662c9b6ef": {
      "model_module": "@jupyter-widgets/controls",
      "model_module_version": "1.5.0",
      "model_name": "ButtonStyleModel",
      "state": {}
     },
     "39ee25c14c694ab99f3fb7f6cf689897": {
      "model_module": "@jupyter-widgets/base",
      "model_module_version": "1.2.0",
      "model_name": "LayoutModel",
      "state": {}
     },
     "3a0e7805ffce45d88543aba83bd8c265": {
      "model_module": "@jupyter-widgets/base",
      "model_module_version": "1.2.0",
      "model_name": "LayoutModel",
      "state": {}
     },
     "3a2819cb3bf54654848c54dc022af322": {
      "model_module": "@jupyter-widgets/controls",
      "model_module_version": "1.5.0",
      "model_name": "DescriptionStyleModel",
      "state": {
       "description_width": ""
      }
     },
     "3a62c29dcae74f7194582da6e5e44e41": {
      "model_module": "@jupyter-widgets/controls",
      "model_module_version": "1.5.0",
      "model_name": "VBoxModel",
      "state": {
       "children": [
        "IPY_MODEL_a28399c1e30842f8b957448855657a6e",
        "IPY_MODEL_84a9e737c5b54d94a13bf1c3fef5b85e",
        "IPY_MODEL_54ab047b36c8430b8eb690a213b9a0ed",
        "IPY_MODEL_a3ece2e925454bf1948b4b9dafd60c4f",
        "IPY_MODEL_07cde144d75042338e0d4efd159d540d",
        "IPY_MODEL_be86936f338d434b8b86cea179623c93",
        "IPY_MODEL_e2a870c9dd1749228654a6febd0fdd3b",
        "IPY_MODEL_6bdd8702f7bd456f900879e3e2b4dc6d",
        "IPY_MODEL_f9b244f70e114487ab4c667b10d172a9",
        "IPY_MODEL_f6f6d2f9e5bb4130b11602ce1de88767"
       ],
       "layout": "IPY_MODEL_69ac179b430f435ca9d4684af98cf91d"
      }
     },
     "3a8b040f75df435886dc5b5b931ff4d4": {
      "model_module": "@jupyter-widgets/base",
      "model_module_version": "1.2.0",
      "model_name": "LayoutModel",
      "state": {}
     },
     "3b5c6ed40d7e492187fdf6006c939a69": {
      "model_module": "@jupyter-widgets/controls",
      "model_module_version": "1.5.0",
      "model_name": "DescriptionStyleModel",
      "state": {
       "description_width": ""
      }
     },
     "3bd5084cc96e4bbcbf6a9579873e0e7e": {
      "model_module": "@jupyter-widgets/base",
      "model_module_version": "1.2.0",
      "model_name": "LayoutModel",
      "state": {}
     },
     "3be5d1f91fd143f1912670c77ee6fd05": {
      "model_module": "@jupyter-widgets/base",
      "model_module_version": "1.2.0",
      "model_name": "LayoutModel",
      "state": {}
     },
     "3c3890ff05d8443591dc680dba78cdad": {
      "model_module": "@jupyter-widgets/base",
      "model_module_version": "1.2.0",
      "model_name": "LayoutModel",
      "state": {}
     },
     "3c3d86906efc4aca800f7010c1ad7bcf": {
      "model_module": "@jupyter-widgets/controls",
      "model_module_version": "1.5.0",
      "model_name": "SliderStyleModel",
      "state": {
       "description_width": ""
      }
     },
     "3d1bf8e067b344fea154801af1541833": {
      "model_module": "@jupyter-widgets/base",
      "model_module_version": "1.2.0",
      "model_name": "LayoutModel",
      "state": {}
     },
     "3dc0452272f2469a81d5a658aba88c4c": {
      "model_module": "@jupyter-widgets/controls",
      "model_module_version": "1.5.0",
      "model_name": "PlayModel",
      "state": {
       "layout": "IPY_MODEL_57a18f97f3cc413b98b5c22e9d0048df",
       "max": 0,
       "style": "IPY_MODEL_17c575941f2e4c93912ec39cfe3ea3d2"
      }
     },
     "3e1bc32db14045388a531405393540cc": {
      "model_module": "@jupyter-widgets/base",
      "model_module_version": "1.2.0",
      "model_name": "LayoutModel",
      "state": {}
     },
     "3e4000317b8345989f47595fed596b33": {
      "model_module": "@jupyter-widgets/controls",
      "model_module_version": "1.5.0",
      "model_name": "LinkModel",
      "state": {
       "source": [
        "IPY_MODEL_2c883402eb124288bf38f2ff7b97c58a",
        "max"
       ],
       "target": [
        "IPY_MODEL_5775b86a38d34019b53a7640a76dab5c",
        "max_frame"
       ]
      }
     },
     "3e55aeb0768a4b33bfef3c9891816b42": {
      "model_module": "@jupyter-widgets/controls",
      "model_module_version": "1.5.0",
      "model_name": "FloatSliderModel",
      "state": {
       "description": "Force scale",
       "layout": "IPY_MODEL_2de51a3fa9b941708f87f21fe65daa39",
       "step": 0.1,
       "style": "IPY_MODEL_4528f9d7bbcb48038acea3d9c8771e0e",
       "value": 0.5
      }
     },
     "3ef6eb6dafba4d6eb41485920626ada1": {
      "model_module": "@jupyter-widgets/base",
      "model_module_version": "1.2.0",
      "model_name": "LayoutModel",
      "state": {}
     },
     "3f04a8c6d64e480d97526ef3d3de4ec7": {
      "model_module": "@jupyter-widgets/controls",
      "model_module_version": "1.5.0",
      "model_name": "VBoxModel",
      "state": {
       "children": [
        "IPY_MODEL_2a42655c795b420b85d8bc7ffe6296eb",
        "IPY_MODEL_7ab002c5ac974a7ca16a9e3b9031a6e8",
        "IPY_MODEL_5e619426082b4dfcaa758bf74940b387",
        "IPY_MODEL_cce18564e0ea4ffb82d415d5d899bd38",
        "IPY_MODEL_661bea142f564860b1e5f8e62a8d7b06",
        "IPY_MODEL_ef0ced1f0589457697946ff5955b5ccf",
        "IPY_MODEL_15bde644faa14ab4ac3e9712aef4d3f5",
        "IPY_MODEL_646f39f739a8426dbd77777d5bbe89de",
        "IPY_MODEL_00fc7785486f47988e57e1439e20ff1c",
        "IPY_MODEL_f0e72fbf2dcf4ca382170cc6329c5b16"
       ],
       "layout": "IPY_MODEL_221912dbfddb46afaa4ad895f992494b"
      }
     },
     "3f1b0c6133aa4bf9b324ed11db5ae5ab": {
      "model_module": "@jupyter-widgets/controls",
      "model_module_version": "1.5.0",
      "model_name": "ButtonStyleModel",
      "state": {}
     },
     "3f28c5efaac742dc97d869300beb4a12": {
      "model_module": "@jupyter-widgets/base",
      "model_module_version": "1.2.0",
      "model_name": "LayoutModel",
      "state": {}
     },
     "3f521383acb64c519ca459edcdcac259": {
      "model_module": "@jupyter-widgets/controls",
      "model_module_version": "1.5.0",
      "model_name": "HBoxModel",
      "state": {
       "children": [
        "IPY_MODEL_004d656aeff34ca39d87f39acdeed466",
        "IPY_MODEL_55bd5ffb27344149af9bcd3d5ccc9370"
       ],
       "layout": "IPY_MODEL_f7dd2e61fcea492a89214028896a25d0"
      }
     },
     "3f710e4c233f4c9fb8a5ea8c9168e53d": {
      "model_module": "@jupyter-widgets/controls",
      "model_module_version": "1.5.0",
      "model_name": "IntSliderModel",
      "state": {
       "layout": "IPY_MODEL_ee727dd2cac942088efabf1495b763e3",
       "max": 0,
       "style": "IPY_MODEL_01978a41cfc94502878ab6c9646d4f20"
      }
     },
     "40617ee405b241d7b8a51cea4c9e1aee": {
      "model_module": "@jupyter-widgets/controls",
      "model_module_version": "1.5.0",
      "model_name": "DescriptionStyleModel",
      "state": {
       "description_width": ""
      }
     },
     "40a6a559507f4802befdbfa7343a4638": {
      "model_module": "@jupyter-widgets/controls",
      "model_module_version": "1.5.0",
      "model_name": "LinkModel",
      "state": {
       "source": [
        "IPY_MODEL_155701001b0d406a8f5849839de887e2",
        "value"
       ],
       "target": [
        "IPY_MODEL_35248ea6187a4fb4befbb121b789b9d1",
        "value"
       ]
      }
     },
     "40e950e4f1c64130846af5138dc0fa5c": {
      "model_module": "@jupyter-widgets/base",
      "model_module_version": "1.2.0",
      "model_name": "LayoutModel",
      "state": {}
     },
     "411c1023f12c403ebe10fa2fa4fecd13": {
      "model_module": "@jupyter-widgets/controls",
      "model_module_version": "1.5.0",
      "model_name": "DropdownModel",
      "state": {
       "_options_labels": [
        " ",
        "picking",
        "random",
        "uniform",
        "atomindex",
        "residueindex",
        "chainindex",
        "modelindex",
        "sstruc",
        "element",
        "resname",
        "bfactor",
        "hydrophobicity",
        "value",
        "volume",
        "occupancy"
       ],
       "description": "Color scheme",
       "index": 9,
       "layout": "IPY_MODEL_74d6eb475afd46238e465022f75acd59",
       "style": "IPY_MODEL_c077d1feb16242a0856bbc2434e9d879"
      }
     },
     "4144d09c80964a708e269436932fa391": {
      "model_module": "@jupyter-widgets/base",
      "model_module_version": "1.2.0",
      "model_name": "LayoutModel",
      "state": {}
     },
     "4145c9fdce67449786e91ad8bfd02613": {
      "model_module": "@jupyter-widgets/base",
      "model_module_version": "1.2.0",
      "model_name": "LayoutModel",
      "state": {}
     },
     "418211050b954d95970876f5e4bc6d22": {
      "model_module": "@jupyter-widgets/base",
      "model_module_version": "1.2.0",
      "model_name": "LayoutModel",
      "state": {}
     },
     "419d1ffaf5674c36ade5bba1e56eeb3a": {
      "model_module": "@jupyter-widgets/controls",
      "model_module_version": "1.5.0",
      "model_name": "ButtonModel",
      "state": {
       "icon": "compress",
       "layout": "IPY_MODEL_15c2fc81f5a8434c98a4969de8c11201",
       "style": "IPY_MODEL_7b648ae8257f4fcf978acb6ae815adae"
      }
     },
     "41c4f6eb0e624d119e3ee273225521a6": {
      "model_module": "@jupyter-widgets/controls",
      "model_module_version": "1.5.0",
      "model_name": "ImageModel",
      "state": {
       "layout": "IPY_MODEL_e376a4fc01d94862be70abdcb9ac9773",
       "width": "900.0"
      }
     },
     "4217d904d50e4a4bbc6644874ade4d6a": {
      "model_module": "@jupyter-widgets/controls",
      "model_module_version": "1.5.0",
      "model_name": "CheckboxModel",
      "state": {
       "description": "Show charge",
       "disabled": false,
       "layout": "IPY_MODEL_c922ed1738ba476f897feae5c28b9315",
       "style": "IPY_MODEL_5c1f150fa1a94505bff89867986c7bc8",
       "value": false
      }
     },
     "425159be7cac4608adf944be59923eee": {
      "model_module": "@jupyter-widgets/base",
      "model_module_version": "1.2.0",
      "model_name": "LayoutModel",
      "state": {}
     },
     "426be6168ab34b44a1a97a4069f4f6de": {
      "model_module": "@jupyter-widgets/controls",
      "model_module_version": "1.5.0",
      "model_name": "VBoxModel",
      "state": {
       "children": [
        "IPY_MODEL_14009ad68ea04035bbfae512f51ba5b0",
        "IPY_MODEL_13e091dda5384767a529e1e69280c35c",
        "IPY_MODEL_6812b44d7756427eb4c8edc5905d4924",
        "IPY_MODEL_bb4ffc48d914436b9842ffda7f314371",
        "IPY_MODEL_bbc5a5d8d2494dccb750efeedd3912ac",
        "IPY_MODEL_edc9cc94cf8e44f491ea80b58907238b",
        "IPY_MODEL_d1bac6e1a3a147df9a65410aacfe6732",
        "IPY_MODEL_7f0c8b62c60c4351a05178a31737fd31",
        "IPY_MODEL_d7a6e0e2d3c3471ab8b94bc1db8da2e6",
        "IPY_MODEL_cbffb43ae1d54201ae1965175290c6f0"
       ],
       "layout": "IPY_MODEL_16e0aae666924b6190b766ca2da98e73"
      }
     },
     "42bfc47970104870934f4398a14c787e": {
      "model_module": "@jupyter-widgets/controls",
      "model_module_version": "1.5.0",
      "model_name": "LinkModel",
      "state": {
       "source": [
        "IPY_MODEL_069b97bf36a047afa8f8ead9236b677f",
        "max"
       ],
       "target": [
        "IPY_MODEL_c726cc41e5c843b08086eebabb2f628b",
        "max_frame"
       ]
      }
     },
     "42dd3293f3074e39874398f43bb9de93": {
      "model_module": "@jupyter-widgets/base",
      "model_module_version": "1.2.0",
      "model_name": "LayoutModel",
      "state": {}
     },
     "42f8420d8f9542b197f3b7b454f1be9d": {
      "model_module": "@jupyter-widgets/controls",
      "model_module_version": "1.5.0",
      "model_name": "CheckboxModel",
      "state": {
       "description": "Show charge",
       "disabled": false,
       "layout": "IPY_MODEL_00f32d0b26274107bb21adebac35b9e6",
       "style": "IPY_MODEL_e20a711e3dd24ebcbf1dcf47085ea423",
       "value": false
      }
     },
     "438aaf87df544c77b4210c6ebc023878": {
      "model_module": "@jupyter-widgets/controls",
      "model_module_version": "1.5.0",
      "model_name": "PlayModel",
      "state": {
       "layout": "IPY_MODEL_3ef6eb6dafba4d6eb41485920626ada1",
       "max": 0,
       "style": "IPY_MODEL_f66f51e343e844b19e34dd702d6b507d"
      }
     },
     "43afa73c59d8467ca0e1da0b71c00727": {
      "model_module": "@jupyter-widgets/controls",
      "model_module_version": "1.5.0",
      "model_name": "ButtonStyleModel",
      "state": {}
     },
     "43bf502f4e9140d08302fae5f9608bd0": {
      "model_module": "@jupyter-widgets/controls",
      "model_module_version": "1.5.0",
      "model_name": "DropdownModel",
      "state": {
       "_options_labels": [
        " ",
        "picking",
        "random",
        "uniform",
        "atomindex",
        "residueindex",
        "chainindex",
        "modelindex",
        "sstruc",
        "element",
        "resname",
        "bfactor",
        "hydrophobicity",
        "value",
        "volume",
        "occupancy"
       ],
       "description": "Color scheme",
       "index": 9,
       "layout": "IPY_MODEL_32823fc8d30c46d997c6f1a632decf40",
       "style": "IPY_MODEL_e43d2400069b439fa423529d447e2e19"
      }
     },
     "4420db2a1b224c55bf486f36cf836072": {
      "model_module": "@jupyter-widgets/controls",
      "model_module_version": "1.5.0",
      "model_name": "DropdownModel",
      "state": {
       "_options_labels": [
        " ",
        "picking",
        "random",
        "uniform",
        "atomindex",
        "residueindex",
        "chainindex",
        "modelindex",
        "sstruc",
        "element",
        "resname",
        "bfactor",
        "hydrophobicity",
        "value",
        "volume",
        "occupancy"
       ],
       "description": "Color scheme",
       "index": 9,
       "layout": "IPY_MODEL_bd51e851f35a434da89633c8fe55bd06",
       "style": "IPY_MODEL_d7646425913a446c8fc1724f9b82b5cd"
      }
     },
     "4445df081e984d3e85622cc1c667e68b": {
      "model_module": "@jupyter-widgets/controls",
      "model_module_version": "1.5.0",
      "model_name": "VBoxModel",
      "state": {
       "children": [
        "IPY_MODEL_837199742ee1422d9c6bd7b687127427",
        "IPY_MODEL_0fd6fe924343408e8368c75de18b9a03",
        "IPY_MODEL_e8580bd6d08045c19f3b8c71e1bc8007",
        "IPY_MODEL_90f7ceff363a44689fd4f567301c013e",
        "IPY_MODEL_7487f3d82edf4432956c5d6675d67f61",
        "IPY_MODEL_e0160b7d76e04d6a8ceac44b33099f9b",
        "IPY_MODEL_af38b0b93e8344d99adc642b5c1836af",
        "IPY_MODEL_2a1cf2fb171642728e355c79410c953e",
        "IPY_MODEL_f485421a5db6438698d1378d00544c68",
        "IPY_MODEL_81336e7293e24f328f3f8960e7ef7d64"
       ],
       "layout": "IPY_MODEL_b46fcab7e39c43deaf59c32dbb6460fd"
      }
     },
     "44d8f880cdb3459fb033746d1e0f45d9": {
      "model_module": "@jupyter-widgets/base",
      "model_module_version": "1.2.0",
      "model_name": "LayoutModel",
      "state": {}
     },
     "44eeb60c617a4e62ba9377cdec25d31d": {
      "model_module": "@jupyter-widgets/base",
      "model_module_version": "1.2.0",
      "model_name": "LayoutModel",
      "state": {}
     },
     "44f0b04cad4e4216929f98119df019d9": {
      "model_module": "@jupyter-widgets/controls",
      "model_module_version": "1.5.0",
      "model_name": "DescriptionStyleModel",
      "state": {
       "description_width": ""
      }
     },
     "4528f9d7bbcb48038acea3d9c8771e0e": {
      "model_module": "@jupyter-widgets/controls",
      "model_module_version": "1.5.0",
      "model_name": "SliderStyleModel",
      "state": {
       "description_width": ""
      }
     },
     "45f1ad7b05e547519051b0624360650d": {
      "model_module": "@jupyter-widgets/base",
      "model_module_version": "1.2.0",
      "model_name": "LayoutModel",
      "state": {}
     },
     "46ab33d4195a416fb6c876005dfa4166": {
      "model_module": "@jupyter-widgets/controls",
      "model_module_version": "1.5.0",
      "model_name": "SliderStyleModel",
      "state": {
       "description_width": ""
      }
     },
     "478243cd708c4d6685b6ac8bff84703d": {
      "model_module": "@jupyter-widgets/controls",
      "model_module_version": "1.5.0",
      "model_name": "ButtonStyleModel",
      "state": {}
     },
     "47d0637592174ab6bec49863dfb2fc9d": {
      "model_module": "@jupyter-widgets/base",
      "model_module_version": "1.2.0",
      "model_name": "LayoutModel",
      "state": {}
     },
     "47f0531df5a54c8dab13d2839e470f2a": {
      "model_module": "@jupyter-widgets/controls",
      "model_module_version": "1.5.0",
      "model_name": "ImageModel",
      "state": {
       "layout": "IPY_MODEL_a93599493e7f44609a1bfcb78e729dd4",
       "width": "900.0"
      }
     },
     "480353f461ac49a391316eea302fdf3f": {
      "model_module": "@jupyter-widgets/controls",
      "model_module_version": "1.5.0",
      "model_name": "FloatSliderModel",
      "state": {
       "description": "Force scale",
       "layout": "IPY_MODEL_1e22e523fb4341148fd0caa470e2e358",
       "step": 0.1,
       "style": "IPY_MODEL_0940ea63180048a58a96b710a6ce99d3",
       "value": 0.5
      }
     },
     "486228360fdd46a585a377268375e65f": {
      "model_module": "@jupyter-widgets/base",
      "model_module_version": "1.2.0",
      "model_name": "LayoutModel",
      "state": {}
     },
     "49082bb4bc4241629d84126869e17a5d": {
      "model_module": "@jupyter-widgets/base",
      "model_module_version": "1.2.0",
      "model_name": "LayoutModel",
      "state": {}
     },
     "4973c1d6de3e458eb46ff3052e7913e3": {
      "model_module": "@jupyter-widgets/controls",
      "model_module_version": "1.5.0",
      "model_name": "DescriptionStyleModel",
      "state": {
       "description_width": ""
      }
     },
     "4980c36937ae4398920ccebd37ab3afb": {
      "model_module": "@jupyter-widgets/base",
      "model_module_version": "1.2.0",
      "model_name": "LayoutModel",
      "state": {
       "border": "0px solid black"
      }
     },
     "49c9bd69b0014bcd998336d35e3c8cac": {
      "model_module": "@jupyter-widgets/controls",
      "model_module_version": "1.5.0",
      "model_name": "FloatSliderModel",
      "state": {
       "description": "Force scale",
       "layout": "IPY_MODEL_3bd5084cc96e4bbcbf6a9579873e0e7e",
       "step": 0.1,
       "style": "IPY_MODEL_9b160c3220e34d86a82d57199f102079",
       "value": 0.5
      }
     },
     "4a1ca09bced54ed3bed6e11ad021355a": {
      "model_module": "@jupyter-widgets/controls",
      "model_module_version": "1.5.0",
      "model_name": "DropdownModel",
      "state": {
       "_options_labels": [
        "All",
        "Fe"
       ],
       "description": "Show",
       "index": 0,
       "layout": "IPY_MODEL_a54f712a737b460da9c4a060ec7dcd9c",
       "style": "IPY_MODEL_13f95a5fdd5344f58481c5528300fbed"
      }
     },
     "4a6d430970844e0a9a3fc9a20e30c277": {
      "model_module": "@jupyter-widgets/controls",
      "model_module_version": "1.5.0",
      "model_name": "LinkModel",
      "state": {
       "source": [
        "IPY_MODEL_60d99a366d2d487d91ecf4d4046b9d07",
        "max"
       ],
       "target": [
        "IPY_MODEL_b3831aa119204e438458caf6219f8647",
        "max_frame"
       ]
      }
     },
     "4a77ad8a3b83490684b0f16e142ad11d": {
      "model_module": "@jupyter-widgets/controls",
      "model_module_version": "1.5.0",
      "model_name": "SliderStyleModel",
      "state": {
       "description_width": ""
      }
     },
     "4a99533236c54addaf6bfbd9c24a50ea": {
      "model_module": "@jupyter-widgets/base",
      "model_module_version": "1.2.0",
      "model_name": "LayoutModel",
      "state": {}
     },
     "4af87a15d4a445e5a8e666dde1a6faa9": {
      "model_module": "@jupyter-widgets/controls",
      "model_module_version": "1.5.0",
      "model_name": "TextModel",
      "state": {
       "description": "Filename: ",
       "layout": "IPY_MODEL_92aecd43f3df4f66a7b1fc8953211776",
       "style": "IPY_MODEL_abdf406defd948f4afca270ee8b28a2a",
       "value": "screenshot.png"
      }
     },
     "4b55c7c30b4549e7b58c2ff8b8b081f3": {
      "model_module": "@jupyter-widgets/base",
      "model_module_version": "1.2.0",
      "model_name": "LayoutModel",
      "state": {}
     },
     "4b8121e7c69f449c858e3538b53d6233": {
      "model_module": "@jupyter-widgets/controls",
      "model_module_version": "1.5.0",
      "model_name": "TextModel",
      "state": {
       "description": "Filename: ",
       "layout": "IPY_MODEL_d65f3d392f764c268fdb68fa9745d635",
       "style": "IPY_MODEL_4973c1d6de3e458eb46ff3052e7913e3",
       "value": "screenshot.png"
      }
     },
     "4ba1f3e05eda4f9e975df77e0a9ef332": {
      "model_module": "@jupyter-widgets/base",
      "model_module_version": "1.2.0",
      "model_name": "LayoutModel",
      "state": {}
     },
     "4bb7dd3a9ffc486286ae10432d02abb4": {
      "model_module": "@jupyter-widgets/controls",
      "model_module_version": "1.5.0",
      "model_name": "VBoxModel",
      "state": {
       "children": [
        "IPY_MODEL_63b2275b8ae64afcaf64fa434e13a5b3",
        "IPY_MODEL_5eff0fb812ca4d92bae9fae8668f0bd1",
        "IPY_MODEL_60d2b643feb3434bac7854872a7504ab",
        "IPY_MODEL_4b8121e7c69f449c858e3538b53d6233",
        "IPY_MODEL_fe860e5b788848d69a2cb7cbf2d29038",
        "IPY_MODEL_70870bb3e75e4e23b00d079c8198e267",
        "IPY_MODEL_612bcc29051b408fa64ec4f6c043ad32",
        "IPY_MODEL_fa080a55ae99479ead2758f026d74bb3",
        "IPY_MODEL_6f6eec3f06b74e02bc902102c5347b01",
        "IPY_MODEL_599219f821ea45c99136ac341eb9c56b"
       ],
       "layout": "IPY_MODEL_607095377b874cccb9ed9c2cdbf1f195"
      }
     },
     "4bb8ca15d881489db5eea7f42db639db": {
      "model_module": "@jupyter-widgets/controls",
      "model_module_version": "1.5.0",
      "model_name": "SliderStyleModel",
      "state": {
       "description_width": ""
      }
     },
     "4bba8ffd85454c82b58c769703197452": {
      "model_module": "@jupyter-widgets/base",
      "model_module_version": "1.2.0",
      "model_name": "LayoutModel",
      "state": {}
     },
     "4de78501612b4ef691db1bbbce701a08": {
      "model_module": "@jupyter-widgets/base",
      "model_module_version": "1.2.0",
      "model_name": "LayoutModel",
      "state": {}
     },
     "4e33e85a327d4d698fd4f8e1a1996317": {
      "model_module": "@jupyter-widgets/controls",
      "model_module_version": "1.5.0",
      "model_name": "DescriptionStyleModel",
      "state": {
       "description_width": ""
      }
     },
     "4ef0ea64bbbb45bdb564b4c5d24d00a4": {
      "model_module": "@jupyter-widgets/controls",
      "model_module_version": "1.5.0",
      "model_name": "FloatSliderModel",
      "state": {
       "description": "Charge scale",
       "layout": "IPY_MODEL_49082bb4bc4241629d84126869e17a5d",
       "step": 0.1,
       "style": "IPY_MODEL_a551c3c791414acf8ce79107fa0761fc",
       "value": 1
      }
     },
     "4f108231da554fec9052f5fef9149c48": {
      "model_module": "@jupyter-widgets/base",
      "model_module_version": "1.2.0",
      "model_name": "LayoutModel",
      "state": {}
     },
     "4fb7bdc369584396a1ee7c79760123e1": {
      "model_module": "@jupyter-widgets/controls",
      "model_module_version": "1.5.0",
      "model_name": "ButtonModel",
      "state": {
       "description": "Save image",
       "layout": "IPY_MODEL_b32610471e0849dfa19bb591adc9755f",
       "style": "IPY_MODEL_8e42c95d35424293920430b884e09b3e",
       "tooltip": "Save current frame to file.\nCurrently .png and .html are supported.\nIt takes a bit time, please be patient."
      }
     },
     "4fc394b809ff43ffba0573241645b095": {
      "model_module": "@jupyter-widgets/base",
      "model_module_version": "1.2.0",
      "model_name": "LayoutModel",
      "state": {}
     },
     "5000db94f19d491eb2371f002a126517": {
      "model_module": "@jupyter-widgets/base",
      "model_module_version": "1.2.0",
      "model_name": "LayoutModel",
      "state": {}
     },
     "50026559d37e47dbba95fa54d6fa6825": {
      "model_module": "@jupyter-widgets/controls",
      "model_module_version": "1.5.0",
      "model_name": "ImageModel",
      "state": {
       "layout": "IPY_MODEL_aabd911159d045e8a9f15d2b0331bdd5",
       "width": "900.0"
      }
     },
     "5019463e157142f398669bb0aa24e80e": {
      "model_module": "@jupyter-widgets/controls",
      "model_module_version": "1.5.0",
      "model_name": "DescriptionStyleModel",
      "state": {
       "description_width": ""
      }
     },
     "506d79d7327947e8ab3d9d94b6ca6e82": {
      "model_module": "@jupyter-widgets/controls",
      "model_module_version": "1.5.0",
      "model_name": "PlayModel",
      "state": {
       "layout": "IPY_MODEL_44eeb60c617a4e62ba9377cdec25d31d",
       "max": 0,
       "style": "IPY_MODEL_a8e8015c5e58489eab89b97a742a28fa"
      }
     },
     "507024dc4eec49d79229ac9bdbf9044f": {
      "model_module": "@jupyter-widgets/controls",
      "model_module_version": "1.5.0",
      "model_name": "DropdownModel",
      "state": {
       "_options_labels": [
        "All",
        "Fe"
       ],
       "description": "Show",
       "index": 0,
       "layout": "IPY_MODEL_e46b2e0552674756b89cfbdeff2751df",
       "style": "IPY_MODEL_52401e758ac24cda9e09246886da450b"
      }
     },
     "51df7a64265c4b5ea244f64d12cfad86": {
      "model_module": "@jupyter-widgets/base",
      "model_module_version": "1.2.0",
      "model_name": "LayoutModel",
      "state": {
       "width": "34px"
      }
     },
     "52401e758ac24cda9e09246886da450b": {
      "model_module": "@jupyter-widgets/controls",
      "model_module_version": "1.5.0",
      "model_name": "DescriptionStyleModel",
      "state": {
       "description_width": ""
      }
     },
     "52aa641516c149e6881674eb5ef92f0c": {
      "model_module": "@jupyter-widgets/base",
      "model_module_version": "1.2.0",
      "model_name": "LayoutModel",
      "state": {}
     },
     "52f365d8ff454e80863c44c729155123": {
      "model_module": "@jupyter-widgets/controls",
      "model_module_version": "1.5.0",
      "model_name": "LinkModel",
      "state": {
       "source": [
        "IPY_MODEL_a820a79f57474f849325969bdefbfbb9",
        "value"
       ],
       "target": [
        "IPY_MODEL_3f710e4c233f4c9fb8a5ea8c9168e53d",
        "value"
       ]
      }
     },
     "53fe417f5cb34e5584e55d99f07432ee": {
      "model_module": "@jupyter-widgets/controls",
      "model_module_version": "1.5.0",
      "model_name": "HBoxModel",
      "state": {
       "children": [
        "IPY_MODEL_d692991c3f9f485eb9bfece0e1a2d358",
        "IPY_MODEL_2fe7688433be48a7b9a361228dccfff8"
       ],
       "layout": "IPY_MODEL_8dbb7708bc6548cc8e12b3d10c884be3"
      }
     },
     "53fe72e70fd84116913ac736c1299e46": {
      "model_module": "@jupyter-widgets/controls",
      "model_module_version": "1.5.0",
      "model_name": "LinkModel",
      "state": {
       "source": [
        "IPY_MODEL_73b1b9e5d3324435acfe87aaea270405",
        "value"
       ],
       "target": [
        "IPY_MODEL_ec70d965e0cc44408b37b42fcf4d1c17",
        "value"
       ]
      }
     },
     "549a16fc79964a2bbd2eaeea7eb09eee": {
      "model_module": "@jupyter-widgets/controls",
      "model_module_version": "1.5.0",
      "model_name": "ButtonStyleModel",
      "state": {}
     },
     "54aaec06bf1642c2b61837325fa1e9a3": {
      "model_module": "@jupyter-widgets/base",
      "model_module_version": "1.2.0",
      "model_name": "LayoutModel",
      "state": {
       "border": "0px solid black"
      }
     },
     "54ab047b36c8430b8eb690a213b9a0ed": {
      "model_module": "@jupyter-widgets/controls",
      "model_module_version": "1.5.0",
      "model_name": "FloatSliderModel",
      "state": {
       "description": "Ball size",
       "layout": "IPY_MODEL_7639f94053bd41c9bbb82a7d98a4f60b",
       "max": 1.5,
       "step": 0.01,
       "style": "IPY_MODEL_56895dc564914abfb98a68ae332484bc",
       "value": 0.5
      }
     },
     "54c9f3d4d4d74a2d93e881e8b71e39c5": {
      "model_module": "@jupyter-widgets/controls",
      "model_module_version": "1.5.0",
      "model_name": "ButtonStyleModel",
      "state": {}
     },
     "55bd5ffb27344149af9bcd3d5ccc9370": {
      "model_module": "@jupyter-widgets/controls",
      "model_module_version": "1.5.0",
      "model_name": "IntSliderModel",
      "state": {
       "layout": "IPY_MODEL_6c312c4cb7594fae8274f96a86396fad",
       "max": 0,
       "style": "IPY_MODEL_9a2f33126f13444ab5e08a3f4a65c148"
      }
     },
     "56895dc564914abfb98a68ae332484bc": {
      "model_module": "@jupyter-widgets/controls",
      "model_module_version": "1.5.0",
      "model_name": "SliderStyleModel",
      "state": {
       "description_width": ""
      }
     },
     "568d08f551d34c8eb0f379c960d54286": {
      "model_module": "@jupyter-widgets/controls",
      "model_module_version": "1.5.0",
      "model_name": "LinkModel",
      "state": {
       "source": [
        "IPY_MODEL_f1a1a26ae1e842eca1b0eaee2ba627e6",
        "value"
       ],
       "target": [
        "IPY_MODEL_2f051ec1489541cdb9175863e6fa1184",
        "frame"
       ]
      }
     },
     "572142507df64f4d859c2724e593268a": {
      "model_module": "@jupyter-widgets/base",
      "model_module_version": "1.2.0",
      "model_name": "LayoutModel",
      "state": {}
     },
     "5759c0b90a0e49b7b75f1acc4c1edd9c": {
      "model_module": "@jupyter-widgets/base",
      "model_module_version": "1.2.0",
      "model_name": "LayoutModel",
      "state": {}
     },
     "5775b86a38d34019b53a7640a76dab5c": {
      "model_module": "nglview-js-widgets",
      "model_module_version": "3.0.1",
      "model_name": "NGLModel",
      "state": {
       "_camera_orientation": [
        27.123223954253632,
        0,
        0,
        0,
        0,
        27.123223954253632,
        0,
        0,
        0,
        0,
        27.123223954253632,
        0,
        -7.678999900817871,
        -5.541999816894531,
        -5.0945000648498535,
        1
       ],
       "_camera_str": "orthographic",
       "_gui_theme": null,
       "_ibtn_fullscreen": "IPY_MODEL_789e3c2b16384486af5bfbbb08f2cebf",
       "_igui": null,
       "_iplayer": "IPY_MODEL_723ce6e8f35b426b92e07ea30fb9ff90",
       "_ngl_color_dict": {},
       "_ngl_coordinate_resource": {},
       "_ngl_full_stage_parameters": {
        "ambientColor": 14540253,
        "ambientIntensity": 0.2,
        "backgroundColor": "white",
        "cameraEyeSep": 0.3,
        "cameraFov": 40,
        "cameraType": "orthographic",
        "clipDist": 0,
        "clipFar": 100,
        "clipNear": 0,
        "fogFar": 100,
        "fogNear": 50,
        "hoverTimeout": 0,
        "impostor": true,
        "lightColor": 14540253,
        "lightIntensity": 1,
        "mousePreset": "default",
        "panSpeed": 1,
        "quality": "medium",
        "rotateSpeed": 2,
        "sampleLevel": 0,
        "tooltip": true,
        "workerDefault": true,
        "zoomSpeed": 1.2
       },
       "_ngl_msg_archive": [
        {
         "args": [
          {
           "binary": false,
           "data": "CRYST1    7.679   11.519   15.358  60.00  60.00  60.00 P 1\nMODEL     1\nATOM      1   Si MOL     1       0.000   0.000   0.000  1.00  0.00          SI  \nATOM      2   Si MOL     1       1.920   1.108   0.784  1.00  0.00          SI  \nATOM      3   Si MOL     1       1.920   1.108   3.135  1.00  0.00          SI  \nATOM      4   Si MOL     1       3.840   2.217   3.919  1.00  0.00          SI  \nATOM      5   Si MOL     1       3.840   2.217   6.270  1.00  0.00          SI  \nATOM      6   Si MOL     1       5.759   3.325   7.054  1.00  0.00          SI  \nATOM      7   Si MOL     1       5.759   3.325   9.405  1.00  0.00          SI  \nATOM      8   Si MOL     1       7.679   4.434  10.189  1.00  0.00          SI  \nATOM      9   Si MOL     1       1.920   3.325  -0.000  1.00  0.00          SI  \nATOM     10   Si MOL     1       3.840   4.434   0.784  1.00  0.00          SI  \nATOM     11   Si MOL     1       3.840   4.434   3.135  1.00  0.00          SI  \nATOM     12   Si MOL     1       5.759   5.542   3.919  1.00  0.00          SI  \nATOM     13   Si MOL     1       5.759   5.542   6.270  1.00  0.00          SI  \nATOM     14   Si MOL     1       7.679   6.650   7.054  1.00  0.00          SI  \nATOM     15   Si MOL     1       7.679   6.650   9.405  1.00  0.00          SI  \nATOM     16   Si MOL     1       9.599   7.759  10.189  1.00  0.00          SI  \nATOM     17   Si MOL     1       3.840   6.650  -0.000  1.00  0.00          SI  \nATOM     18   Si MOL     1       5.759   7.759   0.784  1.00  0.00          SI  \nATOM     19   Si MOL     1       5.759   7.759   3.135  1.00  0.00          SI  \nATOM     20   Si MOL     1       7.679   8.867   3.919  1.00  0.00          SI  \nATOM     21   Si MOL     1       7.679   8.867   6.270  1.00  0.00          SI  \nATOM     22   Si MOL     1       9.599   9.976   7.054  1.00  0.00          SI  \nATOM     23   Si MOL     1       9.599   9.976   9.405  1.00  0.00          SI  \nATOM     24   Si MOL     1      11.519  11.084  10.189  1.00  0.00          SI  \nATOM     25   Si MOL     1       3.840   0.000   0.000  1.00  0.00          SI  \nATOM     26   Si MOL     1       5.759   1.108   0.784  1.00  0.00          SI  \nATOM     27   Si MOL     1       5.759   1.108   3.135  1.00  0.00          SI  \nATOM     28   Si MOL     1       7.679   2.217   3.919  1.00  0.00          SI  \nATOM     29   Si MOL     1       7.679   2.217   6.270  1.00  0.00          SI  \nATOM     30   Si MOL     1       9.599   3.325   7.054  1.00  0.00          SI  \nATOM     31   Si MOL     1       9.599   3.325   9.405  1.00  0.00          SI  \nATOM     32   Si MOL     1      11.519   4.434  10.189  1.00  0.00          SI  \nATOM     33   Si MOL     1       5.759   3.325   0.000  1.00  0.00          SI  \nATOM     34   Si MOL     1       7.679   4.434   0.784  1.00  0.00          SI  \nATOM     35   Si MOL     1       7.679   4.434   3.135  1.00  0.00          SI  \nATOM     36   Si MOL     1       9.599   5.542   3.919  1.00  0.00          SI  \nATOM     37   Si MOL     1       9.599   5.542   6.270  1.00  0.00          SI  \nATOM     38   Si MOL     1      11.519   6.650   7.054  1.00  0.00          SI  \nATOM     39   Si MOL     1      11.519   6.650   9.405  1.00  0.00          SI  \nATOM     40   Si MOL     1      13.439   7.759  10.189  1.00  0.00          SI  \nATOM     41   Si MOL     1       7.679   6.650  -0.000  1.00  0.00          SI  \nATOM     42   Si MOL     1       9.599   7.759   0.784  1.00  0.00          SI  \nATOM     43   Si MOL     1       9.599   7.759   3.135  1.00  0.00          SI  \nATOM     44   Si MOL     1      11.519   8.867   3.919  1.00  0.00          SI  \nATOM     45   Si MOL     1      11.519   8.867   6.270  1.00  0.00          SI  \nATOM     46   Si MOL     1      13.439   9.976   7.054  1.00  0.00          SI  \nATOM     47   Si MOL     1      13.439   9.976   9.405  1.00  0.00          SI  \nATOM     48   Si MOL     1      15.358  11.084  10.189  1.00  0.00          SI  \nENDMDL\n",
           "type": "blob"
          }
         ],
         "kwargs": {
          "defaultRepresentation": false,
          "ext": "pdb"
         },
         "methodName": "loadFile",
         "reconstruc_color_scheme": false,
         "target": "Stage",
         "type": "call_method"
        },
        {
         "args": [
          "400px",
          "300px"
         ],
         "kwargs": {},
         "methodName": "setSize",
         "reconstruc_color_scheme": false,
         "target": "Widget",
         "type": "call_method"
        },
        {
         "args": [
          "unitcell"
         ],
         "component_index": 0,
         "kwargs": {
          "sele": "all"
         },
         "methodName": "addRepresentation",
         "reconstruc_color_scheme": false,
         "target": "compList",
         "type": "call_method"
        },
        {
         "args": [
          "spacefill"
         ],
         "component_index": 0,
         "kwargs": {
          "sele": "all"
         },
         "methodName": "addRepresentation",
         "reconstruc_color_scheme": false,
         "target": "compList",
         "type": "call_method"
        },
        {
         "args": [],
         "kwargs": {
          "cameraType": "orthographic"
         },
         "methodName": "setParameters",
         "reconstruc_color_scheme": false,
         "target": "Stage",
         "type": "call_method"
        },
        {
         "args": [
          {
           "clipDist": 0
          }
         ],
         "kwargs": {},
         "methodName": "setParameters",
         "reconstruc_color_scheme": false,
         "target": "Widget",
         "type": "call_method"
        },
        {
         "args": [
          "spacefill",
          0
         ],
         "kwargs": {
          "colorScale": "rainbow",
          "colorScheme": "element",
          "radiusScale": 0.5,
          "radiusType": "covalent"
         },
         "methodName": "updateRepresentationsByName",
         "reconstruc_color_scheme": false,
         "target": "Widget",
         "type": "call_method"
        },
        {
         "args": [
          "this._Q = [[-0.0, 0.7071067811865476, 0.7071067811865476], [0.816496580927726, -0.40824829046386285, 0.40824829046386296], [0.5773502691896257, 0.5773502691896258, -0.5773502691896257]]\n    var tooltip = document.createElement('div')\n    Object.assign(tooltip.style, {\n      display: 'none',\n      position: 'fixed',\n      zIndex: 10,\n      pointerEvents: 'none',\n      backgroundColor: 'rgba( 0, 0, 0, 0.6 )',\n      color: 'lightgrey',\n      padding: '8px',\n      fontFamily: 'sans-serif'\n    })\n    document.body.appendChild(tooltip)\n\n    var that = this\n    this.stage.mouseControls.remove('hoverPick')\n    this.stage.signals.hovered.add(function (pickingProxy) {\n      if (pickingProxy && (pickingProxy.atom || pickingProxy.bond)) {\n        var atom = pickingProxy.atom || pickingProxy.closestBondAtom\n        var mp = pickingProxy.mouse.position\n        //tooltip.innerText = atom.element + ' i=' + atom.index + ' (' + atom.x.toFixed(2) +  ', ' + atom.y.toFixed(2) +  ', ' + atom.z.toFixed(2) + ')'\n        //var pos = that._atoms_pos[atom.index]\n        var Q = that._Q\n        var pos_x = Q[0][0] * atom.x + Q[0][1] * atom.y + Q[0][2] * atom.z \n        var pos_y = Q[1][0] * atom.x + Q[1][1] * atom.y + Q[1][2] * atom.z\n        var pos_z = Q[2][0] * atom.x + Q[2][1] * atom.y + Q[2][2] * atom.z\n        tooltip.innerText = 'i=' + atom.index + ' ' + atom.element + ' (' + pos_x.toFixed(2) +  ', ' + pos_y.toFixed(2) +  ', ' + pos_z.toFixed(2) + ')'\n        tooltip.style.bottom = window.innerHeight - mp.y + 3 + 'px'\n        tooltip.style.left = mp.x + 3 + 'px'\n        tooltip.style.display = 'block'\n      } else {\n        tooltip.style.display = 'none'\n      }\n    })\n    "
         ],
         "kwargs": {},
         "methodName": "executeCode",
         "reconstruc_color_scheme": false,
         "target": "Widget",
         "type": "call_method"
        },
        {
         "args": [
          "ball+stick"
         ],
         "component_index": 0,
         "kwargs": {
          "sele": "all"
         },
         "methodName": "addRepresentation",
         "reconstruc_color_scheme": false,
         "target": "compList",
         "type": "call_method"
        }
       ],
       "_ngl_original_stage_parameters": {
        "ambientColor": 14540253,
        "ambientIntensity": 0.2,
        "backgroundColor": "white",
        "cameraEyeSep": 0.3,
        "cameraFov": 40,
        "cameraType": "perspective",
        "clipDist": 10,
        "clipFar": 100,
        "clipNear": 0,
        "fogFar": 100,
        "fogNear": 50,
        "hoverTimeout": 0,
        "impostor": true,
        "lightColor": 14540253,
        "lightIntensity": 1,
        "mousePreset": "default",
        "panSpeed": 1,
        "quality": "medium",
        "rotateSpeed": 2,
        "sampleLevel": 0,
        "tooltip": true,
        "workerDefault": true,
        "zoomSpeed": 1.2
       },
       "_ngl_repr_dict": {
        "0": {
         "0": {
          "params": {
           "clipCenter": {
            "x": 0,
            "y": 0,
            "z": 0
           },
           "clipNear": 0,
           "clipRadius": 0,
           "colorMode": "hcl",
           "colorReverse": false,
           "colorScale": "",
           "colorScheme": "element",
           "colorValue": "orange",
           "defaultAssembly": "",
           "depthWrite": true,
           "diffuse": 16777215,
           "diffuseInterior": false,
           "disableImpostor": false,
           "disablePicking": false,
           "flatShaded": false,
           "interiorColor": 2236962,
           "interiorDarkening": 0,
           "lazy": false,
           "matrix": {
            "elements": [
             1,
             0,
             0,
             0,
             0,
             1,
             0,
             0,
             0,
             0,
             1,
             0,
             0,
             0,
             0,
             1
            ]
           },
           "metalness": 0,
           "opacity": 1,
           "quality": "medium",
           "radialSegments": 10,
           "radiusData": {},
           "radiusScale": 1,
           "radiusSize": 0.04933016296568518,
           "radiusType": "vdw",
           "roughness": 0.4,
           "sele": "all",
           "side": "double",
           "sphereDetail": 1,
           "useInteriorColor": true,
           "visible": true,
           "wireframe": false
          },
          "type": "unitcell"
         },
         "1": {
          "params": {
           "assembly": "default",
           "clipCenter": {
            "x": 0,
            "y": 0,
            "z": 0
           },
           "clipNear": 0,
           "clipRadius": 0,
           "colorMode": "hcl",
           "colorReverse": false,
           "colorScale": "rainbow",
           "colorScheme": "element",
           "colorValue": 9474192,
           "defaultAssembly": "",
           "depthWrite": true,
           "diffuse": 16777215,
           "diffuseInterior": false,
           "disableImpostor": false,
           "disablePicking": false,
           "flatShaded": false,
           "interiorColor": 2236962,
           "interiorDarkening": 0,
           "lazy": false,
           "matrix": {
            "elements": [
             1,
             0,
             0,
             0,
             0,
             1,
             0,
             0,
             0,
             0,
             1,
             0,
             0,
             0,
             0,
             1
            ]
           },
           "metalness": 0,
           "opacity": 1,
           "quality": "medium",
           "radiusData": {},
           "radiusScale": 0.5,
           "radiusSize": 1,
           "radiusType": "covalent",
           "roughness": 0.4,
           "sele": "all",
           "side": "double",
           "sphereDetail": 1,
           "useInteriorColor": true,
           "visible": true,
           "wireframe": false
          },
          "type": "spacefill"
         },
         "2": {
          "params": {
           "aspectRatio": 2,
           "assembly": "default",
           "bondScale": 0.4,
           "bondSpacing": 1,
           "clipCenter": {
            "x": 0,
            "y": 0,
            "z": 0
           },
           "clipNear": 0,
           "clipRadius": 0,
           "colorMode": "hcl",
           "colorReverse": false,
           "colorScale": "",
           "colorScheme": "element",
           "colorValue": 9474192,
           "cylinderOnly": false,
           "defaultAssembly": "",
           "depthWrite": true,
           "diffuse": 16777215,
           "diffuseInterior": false,
           "disableImpostor": false,
           "disablePicking": false,
           "flatShaded": false,
           "interiorColor": 2236962,
           "interiorDarkening": 0,
           "lazy": false,
           "lineOnly": false,
           "linewidth": 2,
           "matrix": {
            "elements": [
             1,
             0,
             0,
             0,
             0,
             1,
             0,
             0,
             0,
             0,
             1,
             0,
             0,
             0,
             0,
             1
            ]
           },
           "metalness": 0,
           "multipleBond": "off",
           "opacity": 1,
           "openEnded": true,
           "quality": "medium",
           "radialSegments": 10,
           "radiusData": {},
           "radiusScale": 1,
           "radiusSize": 0.15,
           "radiusType": "size",
           "roughness": 0.4,
           "sele": "all",
           "side": "double",
           "sphereDetail": 1,
           "useInteriorColor": true,
           "visible": true,
           "wireframe": false
          },
          "type": "ball+stick"
         }
        }
       },
       "_ngl_serialize": false,
       "_ngl_version": "2.0.0-dev.36",
       "_ngl_view_id": [
        "A1F6474D-183F-44E3-8DD1-AC5A89136FEF"
       ],
       "_player_dict": {},
       "_scene_position": {},
       "_scene_rotation": {},
       "_synced_model_ids": [],
       "_synced_repr_model_ids": [],
       "_view_height": "",
       "_view_width": "",
       "background": "white",
       "frame": 0,
       "gui_style": null,
       "layout": "IPY_MODEL_7603a0bd217d46218bdb61e663540d9c",
       "max_frame": 0,
       "n_components": 1,
       "picked": {}
      }
     },
     "57a18f97f3cc413b98b5c22e9d0048df": {
      "model_module": "@jupyter-widgets/base",
      "model_module_version": "1.2.0",
      "model_name": "LayoutModel",
      "state": {}
     },
     "57aa1f9a3094475a85472203882f162a": {
      "model_module": "@jupyter-widgets/controls",
      "model_module_version": "1.5.0",
      "model_name": "FloatSliderModel",
      "state": {
       "description": "Charge scale",
       "layout": "IPY_MODEL_fc9e632a11684f62ae95ff64fc07f2ae",
       "step": 0.1,
       "style": "IPY_MODEL_772bb3e6f7eb427eaaaec088855495d9",
       "value": 1
      }
     },
     "582077e0ae7949a7a0786431e866c0a4": {
      "model_module": "@jupyter-widgets/base",
      "model_module_version": "1.2.0",
      "model_name": "LayoutModel",
      "state": {
       "border": "0px solid black"
      }
     },
     "5863ec70e32f4f3fbe6359ce4cdfa018": {
      "model_module": "@jupyter-widgets/controls",
      "model_module_version": "1.5.0",
      "model_name": "ButtonStyleModel",
      "state": {}
     },
     "58ee4b5d180044c7a6c24ac22c30a81e": {
      "model_module": "@jupyter-widgets/controls",
      "model_module_version": "1.5.0",
      "model_name": "DescriptionStyleModel",
      "state": {
       "description_width": ""
      }
     },
     "58fc181213f84ef5b2494b7e1124921f": {
      "model_module": "@jupyter-widgets/controls",
      "model_module_version": "1.5.0",
      "model_name": "SliderStyleModel",
      "state": {
       "description_width": ""
      }
     },
     "599219f821ea45c99136ac341eb9c56b": {
      "model_module": "@jupyter-widgets/output",
      "model_module_version": "1.0.0",
      "model_name": "OutputModel",
      "state": {
       "layout": "IPY_MODEL_cf9a031df75f406e83cd2bb081a66d5b"
      }
     },
     "599baf34a94741fa97458e8e0aaeda54": {
      "model_module": "@jupyter-widgets/controls",
      "model_module_version": "1.5.0",
      "model_name": "HBoxModel",
      "state": {
       "children": [
        "IPY_MODEL_2943740e6f1b46c7bd0607fc83a2d1cc",
        "IPY_MODEL_d83d0ea7d3004de3a92c4a4b9922f5b1"
       ],
       "layout": "IPY_MODEL_cb63de3e4827463b9b46349bce22945e"
      }
     },
     "59ddba198f254d56914a07eacf659857": {
      "model_module": "@jupyter-widgets/controls",
      "model_module_version": "1.5.0",
      "model_name": "DescriptionStyleModel",
      "state": {
       "description_width": ""
      }
     },
     "5a4e4e26ded241dca1a53fa291f1ce2b": {
      "model_module": "@jupyter-widgets/controls",
      "model_module_version": "1.5.0",
      "model_name": "IntSliderModel",
      "state": {
       "layout": "IPY_MODEL_45f1ad7b05e547519051b0624360650d",
       "max": 0,
       "style": "IPY_MODEL_69a1633b1c2847028ddf89ee345e11e7"
      }
     },
     "5aa415d8c755409190cfe9c9af855a08": {
      "model_module": "@jupyter-widgets/base",
      "model_module_version": "1.2.0",
      "model_name": "LayoutModel",
      "state": {}
     },
     "5bca40d6872e47c6949125243c6aa09b": {
      "model_module": "@jupyter-widgets/controls",
      "model_module_version": "1.5.0",
      "model_name": "HBoxModel",
      "state": {
       "children": [
        "IPY_MODEL_438aaf87df544c77b4210c6ebc023878",
        "IPY_MODEL_23ae12e1c80448f2808c75588d3b4df6"
       ],
       "layout": "IPY_MODEL_6d2c6610c1c84f1eb0ce0e2caecdfd45"
      }
     },
     "5c1f150fa1a94505bff89867986c7bc8": {
      "model_module": "@jupyter-widgets/controls",
      "model_module_version": "1.5.0",
      "model_name": "DescriptionStyleModel",
      "state": {
       "description_width": ""
      }
     },
     "5c281d2eb7ac463b99c07b7a9dc29653": {
      "model_module": "@jupyter-widgets/base",
      "model_module_version": "1.2.0",
      "model_name": "LayoutModel",
      "state": {}
     },
     "5c87aea55a6a435b807fa1296aa73eb7": {
      "model_module": "@jupyter-widgets/controls",
      "model_module_version": "1.5.0",
      "model_name": "FloatSliderModel",
      "state": {
       "description": "Ball size",
       "layout": "IPY_MODEL_7fc04294f56f411d8ffd16008186f381",
       "max": 1.5,
       "step": 0.01,
       "style": "IPY_MODEL_c44d72a5fac441ca8993064e069dbf42",
       "value": 0.5
      }
     },
     "5c9fc846c7b349ba84b28cb370b680d4": {
      "model_module": "@jupyter-widgets/controls",
      "model_module_version": "1.5.0",
      "model_name": "VBoxModel",
      "state": {
       "children": [
        "IPY_MODEL_9489f26139314529b006279908b9b6bf",
        "IPY_MODEL_680c791b0d994a5f84c495e6d848d572",
        "IPY_MODEL_a8611e880b094731a241cf0a04e4f778",
        "IPY_MODEL_4af87a15d4a445e5a8e666dde1a6faa9",
        "IPY_MODEL_3481a74bec72421c82f14cd272d5f562",
        "IPY_MODEL_e4bbc9afc3044b7b92b14f2b0c2fb894",
        "IPY_MODEL_ef7e4351d1024061bafdca86bc03b68b",
        "IPY_MODEL_b2172a7429224b229f4cf52c0c203d0c",
        "IPY_MODEL_fe76846045e040d4b54f48280abc64d9",
        "IPY_MODEL_73e77d486e6348c1b8a0af4362cb14af"
       ],
       "layout": "IPY_MODEL_5759c0b90a0e49b7b75f1acc4c1edd9c"
      }
     },
     "5d0e6c4b18834206bfd6336d60be262b": {
      "model_module": "@jupyter-widgets/controls",
      "model_module_version": "1.5.0",
      "model_name": "DropdownModel",
      "state": {
       "_options_labels": [
        " ",
        "picking",
        "random",
        "uniform",
        "atomindex",
        "residueindex",
        "chainindex",
        "modelindex",
        "sstruc",
        "element",
        "resname",
        "bfactor",
        "hydrophobicity",
        "value",
        "volume",
        "occupancy"
       ],
       "description": "Color scheme",
       "index": 9,
       "layout": "IPY_MODEL_aad18cc967b94e03bb996ec72ac2f9a2",
       "style": "IPY_MODEL_e8c2d57d2d5d4ebc8e438b6c7b403e65"
      }
     },
     "5e619426082b4dfcaa758bf74940b387": {
      "model_module": "@jupyter-widgets/controls",
      "model_module_version": "1.5.0",
      "model_name": "FloatSliderModel",
      "state": {
       "description": "Ball size",
       "layout": "IPY_MODEL_95c9ac20def74fe9982427b79d1033f4",
       "max": 1.5,
       "step": 0.01,
       "style": "IPY_MODEL_26fa55a0e38649d3a0ae16ad1952de3f",
       "value": 0.5
      }
     },
     "5eb6aa0057a442e29db50b450af86326": {
      "model_module": "@jupyter-widgets/output",
      "model_module_version": "1.0.0",
      "model_name": "OutputModel",
      "state": {
       "layout": "IPY_MODEL_d0425c1de0c049768d1500a604126ab0"
      }
     },
     "5eff0fb812ca4d92bae9fae8668f0bd1": {
      "model_module": "@jupyter-widgets/controls",
      "model_module_version": "1.5.0",
      "model_name": "DropdownModel",
      "state": {
       "_options_labels": [
        " ",
        "picking",
        "random",
        "uniform",
        "atomindex",
        "residueindex",
        "chainindex",
        "modelindex",
        "sstruc",
        "element",
        "resname",
        "bfactor",
        "hydrophobicity",
        "value",
        "volume",
        "occupancy"
       ],
       "description": "Color scheme",
       "index": 9,
       "layout": "IPY_MODEL_1d889586dcba478aa448377765d3803d",
       "style": "IPY_MODEL_75f9ba1b00654c4c817ff4c1541a781a"
      }
     },
     "5f7ad2d8f461489d9ad623cc1eab0001": {
      "model_module": "@jupyter-widgets/controls",
      "model_module_version": "1.5.0",
      "model_name": "LinkModel",
      "state": {
       "source": [
        "IPY_MODEL_e9f0bd2878c94a6d9630726292da0f8e",
        "value"
       ],
       "target": [
        "IPY_MODEL_5a4e4e26ded241dca1a53fa291f1ce2b",
        "value"
       ]
      }
     },
     "5f7e2dd4fa734275ace12028988f1a17": {
      "model_module": "@jupyter-widgets/controls",
      "model_module_version": "1.5.0",
      "model_name": "ButtonModel",
      "state": {
       "description": "Save image",
       "layout": "IPY_MODEL_4b55c7c30b4549e7b58c2ff8b8b081f3",
       "style": "IPY_MODEL_2adfb437619d4dfa9f1ecc9a9d8208da",
       "tooltip": "Save current frame to file.\nCurrently .png and .html are supported.\nIt takes a bit time, please be patient."
      }
     },
     "5f8c75fca39248c0b37624cc06226269": {
      "model_module": "@jupyter-widgets/base",
      "model_module_version": "1.2.0",
      "model_name": "LayoutModel",
      "state": {}
     },
     "5ff4bdb734b84d70914a0aef309a7cce": {
      "model_module": "@jupyter-widgets/controls",
      "model_module_version": "1.5.0",
      "model_name": "SliderStyleModel",
      "state": {
       "description_width": ""
      }
     },
     "601b4352ce3645b89174b464c5b8e6c0": {
      "model_module": "@jupyter-widgets/base",
      "model_module_version": "1.2.0",
      "model_name": "LayoutModel",
      "state": {}
     },
     "607095377b874cccb9ed9c2cdbf1f195": {
      "model_module": "@jupyter-widgets/base",
      "model_module_version": "1.2.0",
      "model_name": "LayoutModel",
      "state": {}
     },
     "60d2b643feb3434bac7854872a7504ab": {
      "model_module": "@jupyter-widgets/controls",
      "model_module_version": "1.5.0",
      "model_name": "FloatSliderModel",
      "state": {
       "description": "Ball size",
       "layout": "IPY_MODEL_72375901a18e45e4a5c667ecd30db2cc",
       "max": 1.5,
       "step": 0.01,
       "style": "IPY_MODEL_30fd4cea9b7d4c4ea927b1621b8acafa",
       "value": 0.5
      }
     },
     "60d99a366d2d487d91ecf4d4046b9d07": {
      "model_module": "@jupyter-widgets/controls",
      "model_module_version": "1.5.0",
      "model_name": "IntSliderModel",
      "state": {
       "layout": "IPY_MODEL_c7fa599f77ae4216ab225823a8b27722",
       "max": 0,
       "style": "IPY_MODEL_1618ff1e12f44967b52bd88afb903b4d"
      }
     },
     "612bcc29051b408fa64ec4f6c043ad32": {
      "model_module": "@jupyter-widgets/controls",
      "model_module_version": "1.5.0",
      "model_name": "FloatSliderModel",
      "state": {
       "description": "Force scale",
       "layout": "IPY_MODEL_0a842c28871c4167bb2232693761c69b",
       "step": 0.1,
       "style": "IPY_MODEL_277d5d0b39104291b288f51c9d52555b",
       "value": 0.5
      }
     },
     "618180f037874dcba063fdd0d4f8034c": {
      "model_module": "nglview-js-widgets",
      "model_module_version": "3.0.1",
      "model_name": "NGLModel",
      "state": {
       "_camera_orientation": [
        7.198836743477543,
        0,
        0,
        0,
        0,
        7.198836743477543,
        0,
        0,
        0,
        0,
        7.198836743477543,
        0,
        -0.20200002193450928,
        0.08449995517730713,
        0,
        1
       ],
       "_camera_str": "orthographic",
       "_gui_theme": null,
       "_ibtn_fullscreen": "IPY_MODEL_f177a7bc2eb24ca5a29a03b37bd077a5",
       "_igui": null,
       "_iplayer": "IPY_MODEL_f6bf026139ae4e38814c16a2e189e6ec",
       "_ngl_color_dict": {},
       "_ngl_coordinate_resource": {},
       "_ngl_full_stage_parameters": {
        "ambientColor": 14540253,
        "ambientIntensity": 0.2,
        "backgroundColor": "white",
        "cameraEyeSep": 0.3,
        "cameraFov": 40,
        "cameraType": "orthographic",
        "clipDist": 0,
        "clipFar": 100,
        "clipNear": 0,
        "fogFar": 100,
        "fogNear": 50,
        "hoverTimeout": 0,
        "impostor": true,
        "lightColor": 14540253,
        "lightIntensity": 1,
        "mousePreset": "default",
        "panSpeed": 1,
        "quality": "medium",
        "rotateSpeed": 2,
        "sampleLevel": 0,
        "tooltip": true,
        "workerDefault": true,
        "zoomSpeed": 1.2
       },
       "_ngl_msg_archive": [
        {
         "args": [
          {
           "binary": false,
           "data": "MODEL     1\nATOM      1    O MOL     1       2.000   0.000   0.000  1.00  0.00           O  \nATOM      2    C MOL     1       0.000   0.464   0.000  1.00  0.00           C  \nATOM      3    H MOL     1      -0.477   1.465   0.000  1.00  0.00           H  \nATOM      4    C MOL     1      -0.948  -0.700   0.000  1.00  0.00           C  \nATOM      5    H MOL     1      -0.386  -1.634   0.000  1.00  0.00           H  \nATOM      6    H MOL     1      -1.596  -0.652   0.881  1.00  0.00           H  \nATOM      7    H MOL     1      -1.596  -0.652  -0.881  1.00  0.00           H  \nENDMDL\n",
           "type": "blob"
          }
         ],
         "kwargs": {
          "defaultRepresentation": false,
          "ext": "pdb"
         },
         "methodName": "loadFile",
         "reconstruc_color_scheme": false,
         "target": "Stage",
         "type": "call_method"
        },
        {
         "args": [
          "400px",
          "300px"
         ],
         "kwargs": {},
         "methodName": "setSize",
         "reconstruc_color_scheme": false,
         "target": "Widget",
         "type": "call_method"
        },
        {
         "args": [
          "unitcell"
         ],
         "component_index": 0,
         "kwargs": {
          "sele": "all"
         },
         "methodName": "addRepresentation",
         "reconstruc_color_scheme": false,
         "target": "compList",
         "type": "call_method"
        },
        {
         "args": [
          "spacefill"
         ],
         "component_index": 0,
         "kwargs": {
          "sele": "all"
         },
         "methodName": "addRepresentation",
         "reconstruc_color_scheme": false,
         "target": "compList",
         "type": "call_method"
        },
        {
         "args": [],
         "kwargs": {
          "cameraType": "orthographic"
         },
         "methodName": "setParameters",
         "reconstruc_color_scheme": false,
         "target": "Stage",
         "type": "call_method"
        },
        {
         "args": [
          {
           "clipDist": 0
          }
         ],
         "kwargs": {},
         "methodName": "setParameters",
         "reconstruc_color_scheme": false,
         "target": "Widget",
         "type": "call_method"
        },
        {
         "args": [
          "spacefill",
          0
         ],
         "kwargs": {
          "colorScale": "rainbow",
          "colorScheme": "element",
          "radiusScale": 0.5,
          "radiusType": "covalent"
         },
         "methodName": "updateRepresentationsByName",
         "reconstruc_color_scheme": false,
         "target": "Widget",
         "type": "call_method"
        },
        {
         "args": [
          "this._Q = [[1.0, 0.0, 0.0], [0.0, 1.0, 0.0], [0.0, 0.0, 1.0]]\n    var tooltip = document.createElement('div')\n    Object.assign(tooltip.style, {\n      display: 'none',\n      position: 'fixed',\n      zIndex: 10,\n      pointerEvents: 'none',\n      backgroundColor: 'rgba( 0, 0, 0, 0.6 )',\n      color: 'lightgrey',\n      padding: '8px',\n      fontFamily: 'sans-serif'\n    })\n    document.body.appendChild(tooltip)\n\n    var that = this\n    this.stage.mouseControls.remove('hoverPick')\n    this.stage.signals.hovered.add(function (pickingProxy) {\n      if (pickingProxy && (pickingProxy.atom || pickingProxy.bond)) {\n        var atom = pickingProxy.atom || pickingProxy.closestBondAtom\n        var mp = pickingProxy.mouse.position\n        //tooltip.innerText = atom.element + ' i=' + atom.index + ' (' + atom.x.toFixed(2) +  ', ' + atom.y.toFixed(2) +  ', ' + atom.z.toFixed(2) + ')'\n        //var pos = that._atoms_pos[atom.index]\n        var Q = that._Q\n        var pos_x = Q[0][0] * atom.x + Q[0][1] * atom.y + Q[0][2] * atom.z \n        var pos_y = Q[1][0] * atom.x + Q[1][1] * atom.y + Q[1][2] * atom.z\n        var pos_z = Q[2][0] * atom.x + Q[2][1] * atom.y + Q[2][2] * atom.z\n        tooltip.innerText = 'i=' + atom.index + ' ' + atom.element + ' (' + pos_x.toFixed(2) +  ', ' + pos_y.toFixed(2) +  ', ' + pos_z.toFixed(2) + ')'\n        tooltip.style.bottom = window.innerHeight - mp.y + 3 + 'px'\n        tooltip.style.left = mp.x + 3 + 'px'\n        tooltip.style.display = 'block'\n      } else {\n        tooltip.style.display = 'none'\n      }\n    })\n    "
         ],
         "kwargs": {},
         "methodName": "executeCode",
         "reconstruc_color_scheme": false,
         "target": "Widget",
         "type": "call_method"
        },
        {
         "args": [
          "ball+stick"
         ],
         "component_index": 0,
         "kwargs": {
          "sele": "all"
         },
         "methodName": "addRepresentation",
         "reconstruc_color_scheme": false,
         "target": "compList",
         "type": "call_method"
        }
       ],
       "_ngl_original_stage_parameters": {
        "ambientColor": 14540253,
        "ambientIntensity": 0.2,
        "backgroundColor": "white",
        "cameraEyeSep": 0.3,
        "cameraFov": 40,
        "cameraType": "perspective",
        "clipDist": 10,
        "clipFar": 100,
        "clipNear": 0,
        "fogFar": 100,
        "fogNear": 50,
        "hoverTimeout": 0,
        "impostor": true,
        "lightColor": 14540253,
        "lightIntensity": 1,
        "mousePreset": "default",
        "panSpeed": 1,
        "quality": "medium",
        "rotateSpeed": 2,
        "sampleLevel": 0,
        "tooltip": true,
        "workerDefault": true,
        "zoomSpeed": 1.2
       },
       "_ngl_repr_dict": {
        "0": {
         "0": {
          "params": {
           "clipCenter": {
            "x": 0,
            "y": 0,
            "z": 0
           },
           "clipNear": 0,
           "clipRadius": 0,
           "colorMode": "hcl",
           "colorReverse": false,
           "colorScale": "",
           "colorScheme": "element",
           "colorValue": "orange",
           "defaultAssembly": "",
           "depthWrite": true,
           "diffuse": 16777215,
           "diffuseInterior": false,
           "disableImpostor": false,
           "disablePicking": false,
           "flatShaded": false,
           "interiorColor": 2236962,
           "interiorDarkening": 0,
           "lazy": false,
           "matrix": {
            "elements": [
             1,
             0,
             0,
             0,
             0,
             1,
             0,
             0,
             0,
             0,
             1,
             0,
             0,
             0,
             0,
             1
            ]
           },
           "metalness": 0,
           "opacity": 1,
           "quality": "medium",
           "radialSegments": 10,
           "radiusData": {},
           "radiusScale": 1,
           "radiusSize": 0.5,
           "radiusType": "vdw",
           "roughness": 0.4,
           "sele": "all",
           "side": "double",
           "sphereDetail": 1,
           "useInteriorColor": true,
           "visible": true,
           "wireframe": false
          },
          "type": "unitcell"
         },
         "1": {
          "params": {
           "assembly": "default",
           "clipCenter": {
            "x": 0,
            "y": 0,
            "z": 0
           },
           "clipNear": 0,
           "clipRadius": 0,
           "colorMode": "hcl",
           "colorReverse": false,
           "colorScale": "rainbow",
           "colorScheme": "element",
           "colorValue": 9474192,
           "defaultAssembly": "",
           "depthWrite": true,
           "diffuse": 16777215,
           "diffuseInterior": false,
           "disableImpostor": false,
           "disablePicking": false,
           "flatShaded": false,
           "interiorColor": 2236962,
           "interiorDarkening": 0,
           "lazy": false,
           "matrix": {
            "elements": [
             1,
             0,
             0,
             0,
             0,
             1,
             0,
             0,
             0,
             0,
             1,
             0,
             0,
             0,
             0,
             1
            ]
           },
           "metalness": 0,
           "opacity": 1,
           "quality": "medium",
           "radiusData": {},
           "radiusScale": 0.5,
           "radiusSize": 1,
           "radiusType": "covalent",
           "roughness": 0.4,
           "sele": "all",
           "side": "double",
           "sphereDetail": 1,
           "useInteriorColor": true,
           "visible": true,
           "wireframe": false
          },
          "type": "spacefill"
         },
         "2": {
          "params": {
           "aspectRatio": 2,
           "assembly": "default",
           "bondScale": 0.4,
           "bondSpacing": 1,
           "clipCenter": {
            "x": 0,
            "y": 0,
            "z": 0
           },
           "clipNear": 0,
           "clipRadius": 0,
           "colorMode": "hcl",
           "colorReverse": false,
           "colorScale": "",
           "colorScheme": "element",
           "colorValue": 9474192,
           "cylinderOnly": false,
           "defaultAssembly": "",
           "depthWrite": true,
           "diffuse": 16777215,
           "diffuseInterior": false,
           "disableImpostor": false,
           "disablePicking": false,
           "flatShaded": false,
           "interiorColor": 2236962,
           "interiorDarkening": 0,
           "lazy": false,
           "lineOnly": false,
           "linewidth": 2,
           "matrix": {
            "elements": [
             1,
             0,
             0,
             0,
             0,
             1,
             0,
             0,
             0,
             0,
             1,
             0,
             0,
             0,
             0,
             1
            ]
           },
           "metalness": 0,
           "multipleBond": "off",
           "opacity": 1,
           "openEnded": true,
           "quality": "medium",
           "radialSegments": 10,
           "radiusData": {},
           "radiusScale": 1,
           "radiusSize": 0.15,
           "radiusType": "size",
           "roughness": 0.4,
           "sele": "all",
           "side": "double",
           "sphereDetail": 1,
           "useInteriorColor": true,
           "visible": true,
           "wireframe": false
          },
          "type": "ball+stick"
         }
        }
       },
       "_ngl_serialize": false,
       "_ngl_version": "2.0.0-dev.36",
       "_ngl_view_id": [
        "29ADAB2E-7CCC-42F6-8F3A-CC1FA0F879C6"
       ],
       "_player_dict": {},
       "_scene_position": {},
       "_scene_rotation": {},
       "_synced_model_ids": [],
       "_synced_repr_model_ids": [],
       "_view_height": "",
       "_view_width": "",
       "background": "white",
       "frame": 0,
       "gui_style": null,
       "layout": "IPY_MODEL_7c7f5d4ecc3a4b5697641df448abcef3",
       "max_frame": 0,
       "n_components": 1,
       "picked": {}
      }
     },
     "61a1f756d0f847b1a5831ca5ed2428a6": {
      "model_module": "@jupyter-widgets/base",
      "model_module_version": "1.2.0",
      "model_name": "LayoutModel",
      "state": {}
     },
     "6207abe80a31450aa6271a5f5b357937": {
      "model_module": "@jupyter-widgets/controls",
      "model_module_version": "1.5.0",
      "model_name": "DescriptionStyleModel",
      "state": {
       "description_width": ""
      }
     },
     "624afa83ac0d4f93bbf2c756a06c54c0": {
      "model_module": "@jupyter-widgets/base",
      "model_module_version": "1.2.0",
      "model_name": "LayoutModel",
      "state": {
       "border": "0px solid black"
      }
     },
     "6261dd38c1da43ff830146c8164f36e0": {
      "model_module": "@jupyter-widgets/base",
      "model_module_version": "1.2.0",
      "model_name": "LayoutModel",
      "state": {
       "width": "34px"
      }
     },
     "626d065075d345ebb11f0e5f507be443": {
      "model_module": "@jupyter-widgets/base",
      "model_module_version": "1.2.0",
      "model_name": "LayoutModel",
      "state": {}
     },
     "62ce36ead2e44b408d773ab6166fedd4": {
      "model_module": "@jupyter-widgets/controls",
      "model_module_version": "1.5.0",
      "model_name": "DescriptionStyleModel",
      "state": {
       "description_width": ""
      }
     },
     "6369a8aa33f6476d9641874c248191f5": {
      "model_module": "@jupyter-widgets/controls",
      "model_module_version": "1.5.0",
      "model_name": "DescriptionStyleModel",
      "state": {
       "description_width": ""
      }
     },
     "63ae4345031d4534b77946bab5155f39": {
      "model_module": "@jupyter-widgets/controls",
      "model_module_version": "1.5.0",
      "model_name": "FloatSliderModel",
      "state": {
       "description": "Force scale",
       "layout": "IPY_MODEL_108fed7181ca44b8bc6c1a37780b6af9",
       "step": 0.1,
       "style": "IPY_MODEL_c3c8616a34764e97a69545f48debe927",
       "value": 0.5
      }
     },
     "63b2275b8ae64afcaf64fa434e13a5b3": {
      "model_module": "@jupyter-widgets/controls",
      "model_module_version": "1.5.0",
      "model_name": "DropdownModel",
      "state": {
       "_options_labels": [
        "All",
        "Fe"
       ],
       "description": "Show",
       "index": 0,
       "layout": "IPY_MODEL_8cc38ef0794c49c8b5f9f39c705bb765",
       "style": "IPY_MODEL_58ee4b5d180044c7a6c24ac22c30a81e"
      }
     },
     "63fcc9bf06ac4ada9c7b45328399101a": {
      "model_module": "@jupyter-widgets/base",
      "model_module_version": "1.2.0",
      "model_name": "LayoutModel",
      "state": {
       "width": "34px"
      }
     },
     "6409feeff6964c4d967bcc1d6d26634f": {
      "model_module": "@jupyter-widgets/base",
      "model_module_version": "1.2.0",
      "model_name": "LayoutModel",
      "state": {}
     },
     "6410d992ab434cf89110ac91a2c784b6": {
      "model_module": "@jupyter-widgets/base",
      "model_module_version": "1.2.0",
      "model_name": "LayoutModel",
      "state": {}
     },
     "646f39f739a8426dbd77777d5bbe89de": {
      "model_module": "@jupyter-widgets/controls",
      "model_module_version": "1.5.0",
      "model_name": "CheckboxModel",
      "state": {
       "description": "Show charge",
       "disabled": false,
       "layout": "IPY_MODEL_18c4c9843d3b4472a2ba1c9da75b90ba",
       "style": "IPY_MODEL_ad5faf7d27b241b0bd5d54448a46d728",
       "value": false
      }
     },
     "64aebbd9203d49278bf9c4d5ed867e9b": {
      "model_module": "@jupyter-widgets/controls",
      "model_module_version": "1.5.0",
      "model_name": "SliderStyleModel",
      "state": {
       "description_width": ""
      }
     },
     "655f4c7ca6a04bd78d032826c7261131": {
      "model_module": "@jupyter-widgets/base",
      "model_module_version": "1.2.0",
      "model_name": "LayoutModel",
      "state": {}
     },
     "65cd51cd75a640a4b77ee9b7a759f7be": {
      "model_module": "@jupyter-widgets/controls",
      "model_module_version": "1.5.0",
      "model_name": "ButtonStyleModel",
      "state": {}
     },
     "65d561decc354fdbbc4ec7349b6f09cd": {
      "model_module": "@jupyter-widgets/base",
      "model_module_version": "1.2.0",
      "model_name": "LayoutModel",
      "state": {}
     },
     "65f1300f1c674263a8434eb155af4f87": {
      "model_module": "@jupyter-widgets/controls",
      "model_module_version": "1.5.0",
      "model_name": "ImageModel",
      "state": {
       "layout": "IPY_MODEL_4ba1f3e05eda4f9e975df77e0a9ef332",
       "width": "900.0"
      }
     },
     "661bea142f564860b1e5f8e62a8d7b06": {
      "model_module": "@jupyter-widgets/controls",
      "model_module_version": "1.5.0",
      "model_name": "HBoxModel",
      "state": {
       "children": [
        "IPY_MODEL_e551f7afbaf84a9db8f4d495ad1fa96c",
        "IPY_MODEL_1b01c5534b814111a37269752ab87e19"
       ],
       "layout": "IPY_MODEL_d2a6b82d1cbd4c53b1bb5599d621dfc3"
      }
     },
     "66e89cd5cc1c49e6b5751f713c7412ee": {
      "model_module": "@jupyter-widgets/controls",
      "model_module_version": "1.5.0",
      "model_name": "ImageModel",
      "state": {
       "layout": "IPY_MODEL_40e950e4f1c64130846af5138dc0fa5c",
       "width": "900.0"
      }
     },
     "67024c2ac88843f185678e3e49e1e26b": {
      "model_module": "@jupyter-widgets/controls",
      "model_module_version": "1.5.0",
      "model_name": "DropdownModel",
      "state": {
       "_options_labels": [
        "All",
        "Si"
       ],
       "description": "Show",
       "index": 0,
       "layout": "IPY_MODEL_d89de63321744296a644119f72c5c3e8",
       "style": "IPY_MODEL_86856525d33f4548befefa29fca49e34"
      }
     },
     "672facebc6b34752bcfbc1743869fcb1": {
      "model_module": "@jupyter-widgets/controls",
      "model_module_version": "1.5.0",
      "model_name": "ButtonModel",
      "state": {
       "icon": "compress",
       "layout": "IPY_MODEL_ff268e5934f74a7d9546c480c8a83234",
       "style": "IPY_MODEL_54c9f3d4d4d74a2d93e881e8b71e39c5"
      }
     },
     "673fe4c0f7b9434dae26c6e04967b4d1": {
      "model_module": "@jupyter-widgets/base",
      "model_module_version": "1.2.0",
      "model_name": "LayoutModel",
      "state": {}
     },
     "6764a488009545bbb3a164555c6a0665": {
      "model_module": "@jupyter-widgets/controls",
      "model_module_version": "1.5.0",
      "model_name": "ButtonStyleModel",
      "state": {}
     },
     "67eadd43c57b47639e123ccb6c529c0b": {
      "model_module": "@jupyter-widgets/controls",
      "model_module_version": "1.5.0",
      "model_name": "HBoxModel",
      "state": {
       "children": [
        "IPY_MODEL_6bb2d4a022b74e8b87296fecc815f522",
        "IPY_MODEL_fbfce9ef7ea64a9aaed34858415287b0"
       ],
       "layout": "IPY_MODEL_26abdb2e72f44d33bd9b34a71763cb9e"
      }
     },
     "680c791b0d994a5f84c495e6d848d572": {
      "model_module": "@jupyter-widgets/controls",
      "model_module_version": "1.5.0",
      "model_name": "DropdownModel",
      "state": {
       "_options_labels": [
        " ",
        "picking",
        "random",
        "uniform",
        "atomindex",
        "residueindex",
        "chainindex",
        "modelindex",
        "sstruc",
        "element",
        "resname",
        "bfactor",
        "hydrophobicity",
        "value",
        "volume",
        "occupancy"
       ],
       "description": "Color scheme",
       "index": 9,
       "layout": "IPY_MODEL_f77d74bdbeae4d01860f46ccda29a999",
       "style": "IPY_MODEL_0984466ff76a487685329410829e445e"
      }
     },
     "6812b44d7756427eb4c8edc5905d4924": {
      "model_module": "@jupyter-widgets/controls",
      "model_module_version": "1.5.0",
      "model_name": "FloatSliderModel",
      "state": {
       "description": "Ball size",
       "layout": "IPY_MODEL_3222dc806d1f4c669a47dfad6db9a56c",
       "max": 1.5,
       "step": 0.01,
       "style": "IPY_MODEL_03b6492ae9a64fe799341171f7e565f3",
       "value": 0.5
      }
     },
     "685ad409f3c7492696ca8537757fb5fa": {
      "model_module": "@jupyter-widgets/controls",
      "model_module_version": "1.5.0",
      "model_name": "DescriptionStyleModel",
      "state": {
       "description_width": ""
      }
     },
     "68707afd0301479bb0bcef2944225883": {
      "model_module": "@jupyter-widgets/controls",
      "model_module_version": "1.5.0",
      "model_name": "ImageModel",
      "state": {
       "layout": "IPY_MODEL_222c58928cea4bd49a9ff77706869f8c",
       "width": "900.0"
      }
     },
     "69a1633b1c2847028ddf89ee345e11e7": {
      "model_module": "@jupyter-widgets/controls",
      "model_module_version": "1.5.0",
      "model_name": "SliderStyleModel",
      "state": {
       "description_width": ""
      }
     },
     "69ac179b430f435ca9d4684af98cf91d": {
      "model_module": "@jupyter-widgets/base",
      "model_module_version": "1.2.0",
      "model_name": "LayoutModel",
      "state": {}
     },
     "6a5d622366f4450d9497a3312bdb6ab0": {
      "model_module": "@jupyter-widgets/base",
      "model_module_version": "1.2.0",
      "model_name": "LayoutModel",
      "state": {}
     },
     "6b096fe42ea340b1ab1d14b01f7f315b": {
      "model_module": "@jupyter-widgets/base",
      "model_module_version": "1.2.0",
      "model_name": "LayoutModel",
      "state": {
       "border": "0px solid black"
      }
     },
     "6b5c11f269d24f979c29ac96e9aa43a1": {
      "model_module": "@jupyter-widgets/base",
      "model_module_version": "1.2.0",
      "model_name": "LayoutModel",
      "state": {}
     },
     "6bb2d4a022b74e8b87296fecc815f522": {
      "model_module": "@jupyter-widgets/controls",
      "model_module_version": "1.5.0",
      "model_name": "ButtonModel",
      "state": {
       "description": "Download image",
       "layout": "IPY_MODEL_9e8a2f0709334dd7bb83686bca7341c3",
       "style": "IPY_MODEL_6764a488009545bbb3a164555c6a0665",
       "tooltip": "Download current frame to your local PC"
      }
     },
     "6bdd8702f7bd456f900879e3e2b4dc6d": {
      "model_module": "@jupyter-widgets/controls",
      "model_module_version": "1.5.0",
      "model_name": "CheckboxModel",
      "state": {
       "description": "Show charge",
       "disabled": false,
       "layout": "IPY_MODEL_1e3ac0991bda48f68bd94dc5fcd79487",
       "style": "IPY_MODEL_17244cb767b34faba0e1eb217f3be09d",
       "value": false
      }
     },
     "6bfdb64f23574a63a8af7d7935f46f72": {
      "model_module": "@jupyter-widgets/base",
      "model_module_version": "1.2.0",
      "model_name": "LayoutModel",
      "state": {}
     },
     "6c312c4cb7594fae8274f96a86396fad": {
      "model_module": "@jupyter-widgets/base",
      "model_module_version": "1.2.0",
      "model_name": "LayoutModel",
      "state": {}
     },
     "6d2246939e6c4885b3d74166438fe77b": {
      "model_module": "@jupyter-widgets/controls",
      "model_module_version": "1.5.0",
      "model_name": "ButtonStyleModel",
      "state": {}
     },
     "6d2c6610c1c84f1eb0ce0e2caecdfd45": {
      "model_module": "@jupyter-widgets/base",
      "model_module_version": "1.2.0",
      "model_name": "LayoutModel",
      "state": {}
     },
     "6d36cc87a5b3423aa277babb015e65e5": {
      "model_module": "@jupyter-widgets/controls",
      "model_module_version": "1.5.0",
      "model_name": "HBoxModel",
      "state": {
       "children": [
        "IPY_MODEL_e9f0bd2878c94a6d9630726292da0f8e",
        "IPY_MODEL_5a4e4e26ded241dca1a53fa291f1ce2b"
       ],
       "layout": "IPY_MODEL_1d7755251c1149b0a41e80d2ec4abed6"
      }
     },
     "6e1e71cc98084742be801a59a55bd615": {
      "model_module": "@jupyter-widgets/controls",
      "model_module_version": "1.5.0",
      "model_name": "SliderStyleModel",
      "state": {
       "description_width": ""
      }
     },
     "6e1f74f450c84af6beff6be8a0799db2": {
      "model_module": "@jupyter-widgets/controls",
      "model_module_version": "1.5.0",
      "model_name": "LinkModel",
      "state": {
       "source": [
        "IPY_MODEL_155701001b0d406a8f5849839de887e2",
        "max"
       ],
       "target": [
        "IPY_MODEL_2943740e6f1b46c7bd0607fc83a2d1cc",
        "max_frame"
       ]
      }
     },
     "6e3b90f149b746d8994b075473a59097": {
      "model_module": "@jupyter-widgets/base",
      "model_module_version": "1.2.0",
      "model_name": "LayoutModel",
      "state": {
       "border": "0px solid black"
      }
     },
     "6e7164b8b1b94f37bd9d21461c27d83f": {
      "model_module": "@jupyter-widgets/controls",
      "model_module_version": "1.5.0",
      "model_name": "ButtonModel",
      "state": {
       "description": "Download image",
       "layout": "IPY_MODEL_af3f37a655454eb4ab2570ac00e74d98",
       "style": "IPY_MODEL_3f1b0c6133aa4bf9b324ed11db5ae5ab",
       "tooltip": "Download current frame to your local PC"
      }
     },
     "6f1394ad9d744dcbb0559552e74c4ed3": {
      "model_module": "@jupyter-widgets/controls",
      "model_module_version": "1.5.0",
      "model_name": "CheckboxModel",
      "state": {
       "description": "Show force",
       "disabled": false,
       "layout": "IPY_MODEL_e15daea3d7534011bfd99613dc290a31",
       "style": "IPY_MODEL_353d202f467e408b892e51d3f8ec5fee",
       "value": false
      }
     },
     "6f6eec3f06b74e02bc902102c5347b01": {
      "model_module": "@jupyter-widgets/controls",
      "model_module_version": "1.5.0",
      "model_name": "FloatSliderModel",
      "state": {
       "description": "Charge scale",
       "layout": "IPY_MODEL_7a15e22b02be4a0d92f65cc7b4082f42",
       "step": 0.1,
       "style": "IPY_MODEL_201722cb972c4743a54e843da0a51c4a",
       "value": 1
      }
     },
     "6fdcc94fa6d5429e9bc49ba0a2031d49": {
      "model_module": "@jupyter-widgets/controls",
      "model_module_version": "1.5.0",
      "model_name": "SliderStyleModel",
      "state": {
       "description_width": ""
      }
     },
     "702a7cc1938a4da38b6e9c567a230358": {
      "model_module": "@jupyter-widgets/base",
      "model_module_version": "1.2.0",
      "model_name": "LayoutModel",
      "state": {}
     },
     "70301c7f95da4383919bbbd1aa0a91dc": {
      "model_module": "@jupyter-widgets/controls",
      "model_module_version": "1.5.0",
      "model_name": "VBoxModel",
      "state": {
       "children": [
        "IPY_MODEL_507024dc4eec49d79229ac9bdbf9044f",
        "IPY_MODEL_43bf502f4e9140d08302fae5f9608bd0",
        "IPY_MODEL_bf52d5180d2746cebb34d4665619a964",
        "IPY_MODEL_028ad59c5b38478ca373db10dab3eff8",
        "IPY_MODEL_ad6c1cc2641740ccb839da74ce4ea0db",
        "IPY_MODEL_ba9a741281db4bd38130e2366fc2e202",
        "IPY_MODEL_cab248c219054602993b280e5b12e48d",
        "IPY_MODEL_a92e1e64cb6742358f300a59a1d98ea8",
        "IPY_MODEL_c4d388ede3fe4071a7ccf3d04d41504b",
        "IPY_MODEL_c0117ed1d4034c50b5731c23ec3c756f"
       ],
       "layout": "IPY_MODEL_a59160fd893b4b94819f1edef3ff05c3"
      }
     },
     "70760e08b0fc461f82d3f57388216a64": {
      "model_module": "@jupyter-widgets/controls",
      "model_module_version": "1.5.0",
      "model_name": "LinkModel",
      "state": {
       "source": [
        "IPY_MODEL_55bd5ffb27344149af9bcd3d5ccc9370",
        "max"
       ],
       "target": [
        "IPY_MODEL_78d5411d07c0470db8465afd86d47175",
        "max_frame"
       ]
      }
     },
     "70870bb3e75e4e23b00d079c8198e267": {
      "model_module": "@jupyter-widgets/controls",
      "model_module_version": "1.5.0",
      "model_name": "CheckboxModel",
      "state": {
       "description": "Show force",
       "disabled": false,
       "layout": "IPY_MODEL_32f642d0fdeb4afc8498010fa08caf03",
       "style": "IPY_MODEL_1a208327ad344b6fad71006ec641b72d",
       "value": false
      }
     },
     "709a925ea3c44f65952a407d02d9af43": {
      "model_module": "@jupyter-widgets/controls",
      "model_module_version": "1.5.0",
      "model_name": "HBoxModel",
      "state": {
       "children": [
        "IPY_MODEL_b3831aa119204e438458caf6219f8647",
        "IPY_MODEL_069caa9000bc444c9a4ebffc01d10139"
       ],
       "layout": "IPY_MODEL_788869ed6c9f49b39a98573fa71c6880"
      }
     },
     "70c873e865ce4e7bbd29507ac539bebe": {
      "model_module": "@jupyter-widgets/controls",
      "model_module_version": "1.5.0",
      "model_name": "DropdownModel",
      "state": {
       "_options_labels": [
        "All",
        "V",
        "Fe"
       ],
       "description": "Show",
       "index": 0,
       "layout": "IPY_MODEL_b279453d0ac44d699087bd91d3066960",
       "style": "IPY_MODEL_fb6807b1c5a242eca3a08028b5f77847"
      }
     },
     "7106316cfb8b45888510f3af3e0bb783": {
      "model_module": "@jupyter-widgets/controls",
      "model_module_version": "1.5.0",
      "model_name": "ButtonStyleModel",
      "state": {}
     },
     "7143112b529949ef9048f03fbd7ad154": {
      "model_module": "@jupyter-widgets/controls",
      "model_module_version": "1.5.0",
      "model_name": "VBoxModel",
      "state": {
       "children": [
        "IPY_MODEL_fc478dba24cb44e484d24e82d8b881de",
        "IPY_MODEL_cd54be1e59bc410c9b137d7ef0be7439",
        "IPY_MODEL_f2d49d5b590e452fbfc789ea9e9717cf",
        "IPY_MODEL_03e22eafc7a84e798964c0adf231d430",
        "IPY_MODEL_67eadd43c57b47639e123ccb6c529c0b",
        "IPY_MODEL_6f1394ad9d744dcbb0559552e74c4ed3",
        "IPY_MODEL_480353f461ac49a391316eea302fdf3f",
        "IPY_MODEL_42f8420d8f9542b197f3b7b454f1be9d",
        "IPY_MODEL_07f52cd9672842018114bcaf66217ce5",
        "IPY_MODEL_5eb6aa0057a442e29db50b450af86326"
       ],
       "layout": "IPY_MODEL_f4dbc031d7434c3899e446c1f5199e9d"
      }
     },
     "714670b10f2d42b0b9f4eabccfb26a2c": {
      "model_module": "@jupyter-widgets/base",
      "model_module_version": "1.2.0",
      "model_name": "LayoutModel",
      "state": {}
     },
     "716960839b7e41bf82328d9acd4b7ae6": {
      "model_module": "@jupyter-widgets/base",
      "model_module_version": "1.2.0",
      "model_name": "LayoutModel",
      "state": {}
     },
     "72375901a18e45e4a5c667ecd30db2cc": {
      "model_module": "@jupyter-widgets/base",
      "model_module_version": "1.2.0",
      "model_name": "LayoutModel",
      "state": {}
     },
     "723ce6e8f35b426b92e07ea30fb9ff90": {
      "model_module": "@jupyter-widgets/controls",
      "model_module_version": "1.5.0",
      "model_name": "HBoxModel",
      "state": {
       "children": [
        "IPY_MODEL_2c883402eb124288bf38f2ff7b97c58a",
        "IPY_MODEL_8f26bed155344193afd1af5dc38282d1"
       ],
       "layout": "IPY_MODEL_253a927f19514217ae2dfc62279712e4"
      }
     },
     "727bbdca5b084510bb1afa442b985707": {
      "model_module": "@jupyter-widgets/controls",
      "model_module_version": "1.5.0",
      "model_name": "DescriptionStyleModel",
      "state": {
       "description_width": ""
      }
     },
     "73b1b9e5d3324435acfe87aaea270405": {
      "model_module": "@jupyter-widgets/controls",
      "model_module_version": "1.5.0",
      "model_name": "PlayModel",
      "state": {
       "layout": "IPY_MODEL_3a8b040f75df435886dc5b5b931ff4d4",
       "max": 0,
       "style": "IPY_MODEL_81c2f48d44334dc0b71516d328be1495"
      }
     },
     "73e77d486e6348c1b8a0af4362cb14af": {
      "model_module": "@jupyter-widgets/output",
      "model_module_version": "1.0.0",
      "model_name": "OutputModel",
      "state": {
       "layout": "IPY_MODEL_54aaec06bf1642c2b61837325fa1e9a3"
      }
     },
     "73f18a4987314e6197698be4e70d26ce": {
      "model_module": "@jupyter-widgets/controls",
      "model_module_version": "1.5.0",
      "model_name": "SliderStyleModel",
      "state": {
       "description_width": ""
      }
     },
     "7408b88fe28542088fdd3e5d40878604": {
      "model_module": "@jupyter-widgets/controls",
      "model_module_version": "1.5.0",
      "model_name": "ButtonModel",
      "state": {
       "icon": "compress",
       "layout": "IPY_MODEL_51df7a64265c4b5ea244f64d12cfad86",
       "style": "IPY_MODEL_478243cd708c4d6685b6ac8bff84703d"
      }
     },
     "74645b5534f5419b931d7d6b4447df99": {
      "model_module": "@jupyter-widgets/controls",
      "model_module_version": "1.5.0",
      "model_name": "LinkModel",
      "state": {
       "source": [
        "IPY_MODEL_913e43e3f0f747e1ba09eeed7bf81758",
        "max"
       ],
       "target": [
        "IPY_MODEL_0c6f95ec736d4dd4a0b628d2db58734f",
        "max_frame"
       ]
      }
     },
     "7487f3d82edf4432956c5d6675d67f61": {
      "model_module": "@jupyter-widgets/controls",
      "model_module_version": "1.5.0",
      "model_name": "HBoxModel",
      "state": {
       "children": [
        "IPY_MODEL_d9d1b9244b6640cab36e919ecb05e5e5",
        "IPY_MODEL_0f2551c40ea44f85aab5a359efa7f151"
       ],
       "layout": "IPY_MODEL_4145c9fdce67449786e91ad8bfd02613"
      }
     },
     "74d6eb475afd46238e465022f75acd59": {
      "model_module": "@jupyter-widgets/base",
      "model_module_version": "1.2.0",
      "model_name": "LayoutModel",
      "state": {}
     },
     "75ebbc882dbc4b308faa0ab3c1e998f3": {
      "model_module": "@jupyter-widgets/base",
      "model_module_version": "1.2.0",
      "model_name": "LayoutModel",
      "state": {}
     },
     "75f8ff19f4db44ab9a724657bfe0476f": {
      "model_module": "@jupyter-widgets/controls",
      "model_module_version": "1.5.0",
      "model_name": "DescriptionStyleModel",
      "state": {
       "description_width": ""
      }
     },
     "75f9ba1b00654c4c817ff4c1541a781a": {
      "model_module": "@jupyter-widgets/controls",
      "model_module_version": "1.5.0",
      "model_name": "DescriptionStyleModel",
      "state": {
       "description_width": ""
      }
     },
     "7603a0bd217d46218bdb61e663540d9c": {
      "model_module": "@jupyter-widgets/base",
      "model_module_version": "1.2.0",
      "model_name": "LayoutModel",
      "state": {}
     },
     "762ed990506d4d22b7d9f46802c1e93c": {
      "model_module": "@jupyter-widgets/base",
      "model_module_version": "1.2.0",
      "model_name": "LayoutModel",
      "state": {}
     },
     "7639f94053bd41c9bbb82a7d98a4f60b": {
      "model_module": "@jupyter-widgets/base",
      "model_module_version": "1.2.0",
      "model_name": "LayoutModel",
      "state": {}
     },
     "7649caf56578462e927fc89670ec2f0a": {
      "model_module": "@jupyter-widgets/controls",
      "model_module_version": "1.5.0",
      "model_name": "ImageModel",
      "state": {
       "layout": "IPY_MODEL_e9ccd457442f4b25bbd77a4110e16430",
       "width": "900.0"
      }
     },
     "765a3f66021444bdb0b7b999f18fef5f": {
      "model_module": "@jupyter-widgets/base",
      "model_module_version": "1.2.0",
      "model_name": "LayoutModel",
      "state": {}
     },
     "7714243836de4846bed1ae39b823b6da": {
      "model_module": "@jupyter-widgets/base",
      "model_module_version": "1.2.0",
      "model_name": "LayoutModel",
      "state": {}
     },
     "772bb3e6f7eb427eaaaec088855495d9": {
      "model_module": "@jupyter-widgets/controls",
      "model_module_version": "1.5.0",
      "model_name": "SliderStyleModel",
      "state": {
       "description_width": ""
      }
     },
     "772d272473d948118a50c1336cb3ace3": {
      "model_module": "@jupyter-widgets/base",
      "model_module_version": "1.2.0",
      "model_name": "LayoutModel",
      "state": {}
     },
     "77b1ef9224564072ac22193bd851cdcd": {
      "model_module": "@jupyter-widgets/controls",
      "model_module_version": "1.5.0",
      "model_name": "HBoxModel",
      "state": {
       "children": [
        "IPY_MODEL_c726cc41e5c843b08086eebabb2f628b",
        "IPY_MODEL_82a8ba3a65ab4a89b607928a41ffee41"
       ],
       "layout": "IPY_MODEL_8d106e96bc6a407c9cad9ebdfe9aad28"
      }
     },
     "77c2134757f74f368e2dae3fd8908e7b": {
      "model_module": "@jupyter-widgets/controls",
      "model_module_version": "1.5.0",
      "model_name": "DescriptionStyleModel",
      "state": {
       "description_width": ""
      }
     },
     "788869ed6c9f49b39a98573fa71c6880": {
      "model_module": "@jupyter-widgets/base",
      "model_module_version": "1.2.0",
      "model_name": "LayoutModel",
      "state": {}
     },
     "789e3c2b16384486af5bfbbb08f2cebf": {
      "model_module": "@jupyter-widgets/controls",
      "model_module_version": "1.5.0",
      "model_name": "ButtonModel",
      "state": {
       "icon": "compress",
       "layout": "IPY_MODEL_6261dd38c1da43ff830146c8164f36e0",
       "style": "IPY_MODEL_549a16fc79964a2bbd2eaeea7eb09eee"
      }
     },
     "78c1de96772f4cbca33e95c6dc55342e": {
      "model_module": "@jupyter-widgets/controls",
      "model_module_version": "1.5.0",
      "model_name": "SliderStyleModel",
      "state": {
       "description_width": ""
      }
     },
     "78d5411d07c0470db8465afd86d47175": {
      "model_module": "nglview-js-widgets",
      "model_module_version": "3.0.1",
      "model_name": "NGLModel",
      "state": {
       "_camera_orientation": [
        7.1988368306294745,
        0,
        0,
        0,
        0,
        7.1988368306294745,
        0,
        0,
        0,
        0,
        7.1988368306294745,
        0,
        -0.08449995517730713,
        -1.201999992132187,
        0,
        1
       ],
       "_camera_str": "orthographic",
       "_gui_theme": null,
       "_ibtn_fullscreen": "IPY_MODEL_419d1ffaf5674c36ade5bba1e56eeb3a",
       "_igui": null,
       "_iplayer": "IPY_MODEL_3f521383acb64c519ca459edcdcac259",
       "_ngl_color_dict": {},
       "_ngl_coordinate_resource": {},
       "_ngl_full_stage_parameters": {
        "ambientColor": 14540253,
        "ambientIntensity": 0.2,
        "backgroundColor": "white",
        "cameraEyeSep": 0.3,
        "cameraFov": 40,
        "cameraType": "orthographic",
        "clipDist": 0,
        "clipFar": 100,
        "clipNear": 0,
        "fogFar": 100,
        "fogNear": 50,
        "hoverTimeout": 0,
        "impostor": true,
        "lightColor": 14540253,
        "lightIntensity": 1,
        "mousePreset": "default",
        "panSpeed": 1,
        "quality": "medium",
        "rotateSpeed": 2,
        "sampleLevel": 0,
        "tooltip": true,
        "workerDefault": true,
        "zoomSpeed": 1.2
       },
       "_ngl_msg_archive": [
        {
         "args": [
          {
           "binary": false,
           "data": "MODEL     1\nATOM      1    O MOL     1       0.000   3.000   0.000  1.00  0.00           O  \nATOM      2    C MOL     1      -0.464   1.000   0.000  1.00  0.00           C  \nATOM      3    H MOL     1      -1.465   0.523   0.000  1.00  0.00           H  \nATOM      4    C MOL     1       0.700   0.052   0.000  1.00  0.00           C  \nATOM      5    H MOL     1       1.634   0.614   0.000  1.00  0.00           H  \nATOM      6    H MOL     1       0.652  -0.596   0.881  1.00  0.00           H  \nATOM      7    H MOL     1       0.652  -0.596  -0.881  1.00  0.00           H  \nENDMDL\n",
           "type": "blob"
          }
         ],
         "kwargs": {
          "defaultRepresentation": false,
          "ext": "pdb"
         },
         "methodName": "loadFile",
         "reconstruc_color_scheme": false,
         "target": "Stage",
         "type": "call_method"
        },
        {
         "args": [
          "400px",
          "300px"
         ],
         "kwargs": {},
         "methodName": "setSize",
         "reconstruc_color_scheme": false,
         "target": "Widget",
         "type": "call_method"
        },
        {
         "args": [
          "unitcell"
         ],
         "component_index": 0,
         "kwargs": {
          "sele": "all"
         },
         "methodName": "addRepresentation",
         "reconstruc_color_scheme": false,
         "target": "compList",
         "type": "call_method"
        },
        {
         "args": [
          "spacefill"
         ],
         "component_index": 0,
         "kwargs": {
          "sele": "all"
         },
         "methodName": "addRepresentation",
         "reconstruc_color_scheme": false,
         "target": "compList",
         "type": "call_method"
        },
        {
         "args": [],
         "kwargs": {
          "cameraType": "orthographic"
         },
         "methodName": "setParameters",
         "reconstruc_color_scheme": false,
         "target": "Stage",
         "type": "call_method"
        },
        {
         "args": [
          {
           "clipDist": 0
          }
         ],
         "kwargs": {},
         "methodName": "setParameters",
         "reconstruc_color_scheme": false,
         "target": "Widget",
         "type": "call_method"
        },
        {
         "args": [
          "spacefill",
          0
         ],
         "kwargs": {
          "colorScale": "rainbow",
          "colorScheme": "element",
          "radiusScale": 0.5,
          "radiusType": "covalent"
         },
         "methodName": "updateRepresentationsByName",
         "reconstruc_color_scheme": false,
         "target": "Widget",
         "type": "call_method"
        },
        {
         "args": [
          "this._Q = [[1.0, 0.0, 0.0], [0.0, 1.0, 0.0], [0.0, 0.0, 1.0]]\n    var tooltip = document.createElement('div')\n    Object.assign(tooltip.style, {\n      display: 'none',\n      position: 'fixed',\n      zIndex: 10,\n      pointerEvents: 'none',\n      backgroundColor: 'rgba( 0, 0, 0, 0.6 )',\n      color: 'lightgrey',\n      padding: '8px',\n      fontFamily: 'sans-serif'\n    })\n    document.body.appendChild(tooltip)\n\n    var that = this\n    this.stage.mouseControls.remove('hoverPick')\n    this.stage.signals.hovered.add(function (pickingProxy) {\n      if (pickingProxy && (pickingProxy.atom || pickingProxy.bond)) {\n        var atom = pickingProxy.atom || pickingProxy.closestBondAtom\n        var mp = pickingProxy.mouse.position\n        //tooltip.innerText = atom.element + ' i=' + atom.index + ' (' + atom.x.toFixed(2) +  ', ' + atom.y.toFixed(2) +  ', ' + atom.z.toFixed(2) + ')'\n        //var pos = that._atoms_pos[atom.index]\n        var Q = that._Q\n        var pos_x = Q[0][0] * atom.x + Q[0][1] * atom.y + Q[0][2] * atom.z \n        var pos_y = Q[1][0] * atom.x + Q[1][1] * atom.y + Q[1][2] * atom.z\n        var pos_z = Q[2][0] * atom.x + Q[2][1] * atom.y + Q[2][2] * atom.z\n        tooltip.innerText = 'i=' + atom.index + ' ' + atom.element + ' (' + pos_x.toFixed(2) +  ', ' + pos_y.toFixed(2) +  ', ' + pos_z.toFixed(2) + ')'\n        tooltip.style.bottom = window.innerHeight - mp.y + 3 + 'px'\n        tooltip.style.left = mp.x + 3 + 'px'\n        tooltip.style.display = 'block'\n      } else {\n        tooltip.style.display = 'none'\n      }\n    })\n    "
         ],
         "kwargs": {},
         "methodName": "executeCode",
         "reconstruc_color_scheme": false,
         "target": "Widget",
         "type": "call_method"
        },
        {
         "args": [
          "ball+stick"
         ],
         "component_index": 0,
         "kwargs": {
          "sele": "all"
         },
         "methodName": "addRepresentation",
         "reconstruc_color_scheme": false,
         "target": "compList",
         "type": "call_method"
        }
       ],
       "_ngl_original_stage_parameters": {
        "ambientColor": 14540253,
        "ambientIntensity": 0.2,
        "backgroundColor": "white",
        "cameraEyeSep": 0.3,
        "cameraFov": 40,
        "cameraType": "perspective",
        "clipDist": 10,
        "clipFar": 100,
        "clipNear": 0,
        "fogFar": 100,
        "fogNear": 50,
        "hoverTimeout": 0,
        "impostor": true,
        "lightColor": 14540253,
        "lightIntensity": 1,
        "mousePreset": "default",
        "panSpeed": 1,
        "quality": "medium",
        "rotateSpeed": 2,
        "sampleLevel": 0,
        "tooltip": true,
        "workerDefault": true,
        "zoomSpeed": 1.2
       },
       "_ngl_repr_dict": {
        "0": {
         "0": {
          "params": {
           "clipCenter": {
            "x": 0,
            "y": 0,
            "z": 0
           },
           "clipNear": 0,
           "clipRadius": 0,
           "colorMode": "hcl",
           "colorReverse": false,
           "colorScale": "",
           "colorScheme": "element",
           "colorValue": "orange",
           "defaultAssembly": "",
           "depthWrite": true,
           "diffuse": 16777215,
           "diffuseInterior": false,
           "disableImpostor": false,
           "disablePicking": false,
           "flatShaded": false,
           "interiorColor": 2236962,
           "interiorDarkening": 0,
           "lazy": false,
           "matrix": {
            "elements": [
             1,
             0,
             0,
             0,
             0,
             1,
             0,
             0,
             0,
             0,
             1,
             0,
             0,
             0,
             0,
             1
            ]
           },
           "metalness": 0,
           "opacity": 1,
           "quality": "medium",
           "radialSegments": 10,
           "radiusData": {},
           "radiusScale": 1,
           "radiusSize": 0.5,
           "radiusType": "vdw",
           "roughness": 0.4,
           "sele": "all",
           "side": "double",
           "sphereDetail": 1,
           "useInteriorColor": true,
           "visible": true,
           "wireframe": false
          },
          "type": "unitcell"
         },
         "1": {
          "params": {
           "assembly": "default",
           "clipCenter": {
            "x": 0,
            "y": 0,
            "z": 0
           },
           "clipNear": 0,
           "clipRadius": 0,
           "colorMode": "hcl",
           "colorReverse": false,
           "colorScale": "rainbow",
           "colorScheme": "element",
           "colorValue": 9474192,
           "defaultAssembly": "",
           "depthWrite": true,
           "diffuse": 16777215,
           "diffuseInterior": false,
           "disableImpostor": false,
           "disablePicking": false,
           "flatShaded": false,
           "interiorColor": 2236962,
           "interiorDarkening": 0,
           "lazy": false,
           "matrix": {
            "elements": [
             1,
             0,
             0,
             0,
             0,
             1,
             0,
             0,
             0,
             0,
             1,
             0,
             0,
             0,
             0,
             1
            ]
           },
           "metalness": 0,
           "opacity": 1,
           "quality": "medium",
           "radiusData": {},
           "radiusScale": 0.5,
           "radiusSize": 1,
           "radiusType": "covalent",
           "roughness": 0.4,
           "sele": "all",
           "side": "double",
           "sphereDetail": 1,
           "useInteriorColor": true,
           "visible": true,
           "wireframe": false
          },
          "type": "spacefill"
         },
         "2": {
          "params": {
           "aspectRatio": 2,
           "assembly": "default",
           "bondScale": 0.4,
           "bondSpacing": 1,
           "clipCenter": {
            "x": 0,
            "y": 0,
            "z": 0
           },
           "clipNear": 0,
           "clipRadius": 0,
           "colorMode": "hcl",
           "colorReverse": false,
           "colorScale": "",
           "colorScheme": "element",
           "colorValue": 9474192,
           "cylinderOnly": false,
           "defaultAssembly": "",
           "depthWrite": true,
           "diffuse": 16777215,
           "diffuseInterior": false,
           "disableImpostor": false,
           "disablePicking": false,
           "flatShaded": false,
           "interiorColor": 2236962,
           "interiorDarkening": 0,
           "lazy": false,
           "lineOnly": false,
           "linewidth": 2,
           "matrix": {
            "elements": [
             1,
             0,
             0,
             0,
             0,
             1,
             0,
             0,
             0,
             0,
             1,
             0,
             0,
             0,
             0,
             1
            ]
           },
           "metalness": 0,
           "multipleBond": "off",
           "opacity": 1,
           "openEnded": true,
           "quality": "medium",
           "radialSegments": 10,
           "radiusData": {},
           "radiusScale": 1,
           "radiusSize": 0.15,
           "radiusType": "size",
           "roughness": 0.4,
           "sele": "all",
           "side": "double",
           "sphereDetail": 1,
           "useInteriorColor": true,
           "visible": true,
           "wireframe": false
          },
          "type": "ball+stick"
         }
        }
       },
       "_ngl_serialize": false,
       "_ngl_version": "2.0.0-dev.36",
       "_ngl_view_id": [
        "E2D62632-5AF6-46A6-B535-9281FB44B82B"
       ],
       "_player_dict": {},
       "_scene_position": {},
       "_scene_rotation": {},
       "_synced_model_ids": [],
       "_synced_repr_model_ids": [],
       "_view_height": "",
       "_view_width": "",
       "background": "white",
       "frame": 0,
       "gui_style": null,
       "layout": "IPY_MODEL_42dd3293f3074e39874398f43bb9de93",
       "max_frame": 0,
       "n_components": 1,
       "picked": {}
      }
     },
     "793c73de442c4fad837a837c61e51794": {
      "model_module": "@jupyter-widgets/base",
      "model_module_version": "1.2.0",
      "model_name": "LayoutModel",
      "state": {}
     },
     "7996babb935e4d4a85ab7ce013c76b7d": {
      "model_module": "@jupyter-widgets/controls",
      "model_module_version": "1.5.0",
      "model_name": "LinkModel",
      "state": {
       "source": [
        "IPY_MODEL_7a20175cd9624feca3238249ad7a4d96",
        "max"
       ],
       "target": [
        "IPY_MODEL_395f0dd2f63e4c198c3fbb28babb6ce3",
        "max_frame"
       ]
      }
     },
     "79c4932d46cf4f55a014960bd4b24e60": {
      "model_module": "@jupyter-widgets/base",
      "model_module_version": "1.2.0",
      "model_name": "LayoutModel",
      "state": {}
     },
     "7a0fa835cb3b4495b4a25e7c5efa48ba": {
      "model_module": "@jupyter-widgets/controls",
      "model_module_version": "1.5.0",
      "model_name": "ButtonModel",
      "state": {
       "description": "Download image",
       "layout": "IPY_MODEL_c1797afc39544f1a885745c1671a0db9",
       "style": "IPY_MODEL_d1ad5e1b0fbe4f8b9502af0c24bc7cd6",
       "tooltip": "Download current frame to your local PC"
      }
     },
     "7a15e22b02be4a0d92f65cc7b4082f42": {
      "model_module": "@jupyter-widgets/base",
      "model_module_version": "1.2.0",
      "model_name": "LayoutModel",
      "state": {}
     },
     "7a20175cd9624feca3238249ad7a4d96": {
      "model_module": "@jupyter-widgets/controls",
      "model_module_version": "1.5.0",
      "model_name": "PlayModel",
      "state": {
       "layout": "IPY_MODEL_0e6e2676b49e47668ce97fe816ade6bf",
       "max": 0,
       "style": "IPY_MODEL_996940cad0084b8889287d912e27a9cd"
      }
     },
     "7ab002c5ac974a7ca16a9e3b9031a6e8": {
      "model_module": "@jupyter-widgets/controls",
      "model_module_version": "1.5.0",
      "model_name": "DropdownModel",
      "state": {
       "_options_labels": [
        " ",
        "picking",
        "random",
        "uniform",
        "atomindex",
        "residueindex",
        "chainindex",
        "modelindex",
        "sstruc",
        "element",
        "resname",
        "bfactor",
        "hydrophobicity",
        "value",
        "volume",
        "occupancy"
       ],
       "description": "Color scheme",
       "index": 9,
       "layout": "IPY_MODEL_883e308453af49278a5458f6ca292204",
       "style": "IPY_MODEL_c8dcbdbe6c5344b2949992a02003623b"
      }
     },
     "7b648ae8257f4fcf978acb6ae815adae": {
      "model_module": "@jupyter-widgets/controls",
      "model_module_version": "1.5.0",
      "model_name": "ButtonStyleModel",
      "state": {}
     },
     "7c1399b933ea41a6815745ab0b35fbf8": {
      "model_module": "@jupyter-widgets/base",
      "model_module_version": "1.2.0",
      "model_name": "LayoutModel",
      "state": {}
     },
     "7c7f5d4ecc3a4b5697641df448abcef3": {
      "model_module": "@jupyter-widgets/base",
      "model_module_version": "1.2.0",
      "model_name": "LayoutModel",
      "state": {}
     },
     "7c801561196048dfacadd3191f0d6df8": {
      "model_module": "nglview-js-widgets",
      "model_module_version": "3.0.1",
      "model_name": "NGLModel",
      "state": {
       "_camera_orientation": [
        16.929911666299105,
        0,
        0,
        0,
        0,
        16.929911666299105,
        0,
        0,
        0,
        0,
        16.929911666299105,
        0,
        -4.799499988555908,
        -2.7709999084472656,
        -1.9594999551773071,
        1
       ],
       "_camera_str": "orthographic",
       "_gui_theme": null,
       "_ibtn_fullscreen": "IPY_MODEL_20c1ba01b59e464bb6df37b3306b74e1",
       "_igui": null,
       "_iplayer": "IPY_MODEL_3656c07d3f084db28c935fca455d769e",
       "_ngl_color_dict": {},
       "_ngl_coordinate_resource": {},
       "_ngl_full_stage_parameters": {
        "ambientColor": 14540253,
        "ambientIntensity": 0.2,
        "backgroundColor": "white",
        "cameraEyeSep": 0.3,
        "cameraFov": 40,
        "cameraType": "orthographic",
        "clipDist": 0,
        "clipFar": 100,
        "clipNear": 0,
        "fogFar": 100,
        "fogNear": 50,
        "hoverTimeout": 0,
        "impostor": true,
        "lightColor": 14540253,
        "lightIntensity": 1,
        "mousePreset": "default",
        "panSpeed": 1,
        "quality": "medium",
        "rotateSpeed": 2,
        "sampleLevel": 0,
        "tooltip": true,
        "workerDefault": true,
        "zoomSpeed": 1.2
       },
       "_ngl_msg_archive": [
        {
         "args": [
          {
           "binary": false,
           "data": "CRYST1    7.679    7.679    7.679  60.00  60.00  60.00 P 1\nMODEL     1\nATOM      1   Si MOL     1       0.000   0.000   0.000  1.00  0.00          SI  \nATOM      2   Si MOL     1       1.920   1.108   0.784  1.00  0.00          SI  \nATOM      3   Si MOL     1       1.920   1.108   3.135  1.00  0.00          SI  \nATOM      4   Si MOL     1       3.840   2.217   3.919  1.00  0.00          SI  \nATOM      5   Si MOL     1       1.920   3.325  -0.000  1.00  0.00          SI  \nATOM      6   Si MOL     1       3.840   4.434   0.784  1.00  0.00          SI  \nATOM      7   Si MOL     1       3.840   4.434   3.135  1.00  0.00          SI  \nATOM      8   Si MOL     1       5.759   5.542   3.919  1.00  0.00          SI  \nATOM      9   Si MOL     1       3.840  -0.000  -0.000  1.00  0.00          SI  \nATOM     10   Si MOL     1       5.759   1.108   0.784  1.00  0.00          SI  \nATOM     11   Si MOL     1       5.759   1.108   3.135  1.00  0.00          SI  \nATOM     12   Si MOL     1       7.679   2.217   3.919  1.00  0.00          SI  \nATOM     13   Si MOL     1       5.759   3.325  -0.000  1.00  0.00          SI  \nATOM     14   Si MOL     1       7.679   4.434   3.135  1.00  0.00          SI  \nATOM     15   Si MOL     1       9.599   5.542   3.919  1.00  0.00          SI  \nENDMDL\n",
           "type": "blob"
          }
         ],
         "kwargs": {
          "defaultRepresentation": false,
          "ext": "pdb"
         },
         "methodName": "loadFile",
         "reconstruc_color_scheme": false,
         "target": "Stage",
         "type": "call_method"
        },
        {
         "args": [
          "400px",
          "300px"
         ],
         "kwargs": {},
         "methodName": "setSize",
         "reconstruc_color_scheme": false,
         "target": "Widget",
         "type": "call_method"
        },
        {
         "args": [
          "unitcell"
         ],
         "component_index": 0,
         "kwargs": {
          "sele": "all"
         },
         "methodName": "addRepresentation",
         "reconstruc_color_scheme": false,
         "target": "compList",
         "type": "call_method"
        },
        {
         "args": [
          "spacefill"
         ],
         "component_index": 0,
         "kwargs": {
          "sele": "all"
         },
         "methodName": "addRepresentation",
         "reconstruc_color_scheme": false,
         "target": "compList",
         "type": "call_method"
        },
        {
         "args": [],
         "kwargs": {
          "cameraType": "orthographic"
         },
         "methodName": "setParameters",
         "reconstruc_color_scheme": false,
         "target": "Stage",
         "type": "call_method"
        },
        {
         "args": [
          {
           "clipDist": 0
          }
         ],
         "kwargs": {},
         "methodName": "setParameters",
         "reconstruc_color_scheme": false,
         "target": "Widget",
         "type": "call_method"
        },
        {
         "args": [
          "spacefill",
          0
         ],
         "kwargs": {
          "colorScale": "rainbow",
          "colorScheme": "element",
          "radiusScale": 0.5,
          "radiusType": "covalent"
         },
         "methodName": "updateRepresentationsByName",
         "reconstruc_color_scheme": false,
         "target": "Widget",
         "type": "call_method"
        },
        {
         "args": [
          "this._Q = [[-0.0, 0.7071067811865476, 0.7071067811865476], [0.816496580927726, -0.40824829046386285, 0.40824829046386296], [0.5773502691896257, 0.5773502691896258, -0.5773502691896257]]\n    var tooltip = document.createElement('div')\n    Object.assign(tooltip.style, {\n      display: 'none',\n      position: 'fixed',\n      zIndex: 10,\n      pointerEvents: 'none',\n      backgroundColor: 'rgba( 0, 0, 0, 0.6 )',\n      color: 'lightgrey',\n      padding: '8px',\n      fontFamily: 'sans-serif'\n    })\n    document.body.appendChild(tooltip)\n\n    var that = this\n    this.stage.mouseControls.remove('hoverPick')\n    this.stage.signals.hovered.add(function (pickingProxy) {\n      if (pickingProxy && (pickingProxy.atom || pickingProxy.bond)) {\n        var atom = pickingProxy.atom || pickingProxy.closestBondAtom\n        var mp = pickingProxy.mouse.position\n        //tooltip.innerText = atom.element + ' i=' + atom.index + ' (' + atom.x.toFixed(2) +  ', ' + atom.y.toFixed(2) +  ', ' + atom.z.toFixed(2) + ')'\n        //var pos = that._atoms_pos[atom.index]\n        var Q = that._Q\n        var pos_x = Q[0][0] * atom.x + Q[0][1] * atom.y + Q[0][2] * atom.z \n        var pos_y = Q[1][0] * atom.x + Q[1][1] * atom.y + Q[1][2] * atom.z\n        var pos_z = Q[2][0] * atom.x + Q[2][1] * atom.y + Q[2][2] * atom.z\n        tooltip.innerText = 'i=' + atom.index + ' ' + atom.element + ' (' + pos_x.toFixed(2) +  ', ' + pos_y.toFixed(2) +  ', ' + pos_z.toFixed(2) + ')'\n        tooltip.style.bottom = window.innerHeight - mp.y + 3 + 'px'\n        tooltip.style.left = mp.x + 3 + 'px'\n        tooltip.style.display = 'block'\n      } else {\n        tooltip.style.display = 'none'\n      }\n    })\n    "
         ],
         "kwargs": {},
         "methodName": "executeCode",
         "reconstruc_color_scheme": false,
         "target": "Widget",
         "type": "call_method"
        },
        {
         "args": [
          "ball+stick"
         ],
         "component_index": 0,
         "kwargs": {
          "sele": "all"
         },
         "methodName": "addRepresentation",
         "reconstruc_color_scheme": false,
         "target": "compList",
         "type": "call_method"
        }
       ],
       "_ngl_original_stage_parameters": {
        "ambientColor": 14540253,
        "ambientIntensity": 0.2,
        "backgroundColor": "white",
        "cameraEyeSep": 0.3,
        "cameraFov": 40,
        "cameraType": "perspective",
        "clipDist": 10,
        "clipFar": 100,
        "clipNear": 0,
        "fogFar": 100,
        "fogNear": 50,
        "hoverTimeout": 0,
        "impostor": true,
        "lightColor": 14540253,
        "lightIntensity": 1,
        "mousePreset": "default",
        "panSpeed": 1,
        "quality": "medium",
        "rotateSpeed": 2,
        "sampleLevel": 0,
        "tooltip": true,
        "workerDefault": true,
        "zoomSpeed": 1.2
       },
       "_ngl_repr_dict": {
        "0": {
         "0": {
          "params": {
           "clipCenter": {
            "x": 0,
            "y": 0,
            "z": 0
           },
           "clipNear": 0,
           "clipRadius": 0,
           "colorMode": "hcl",
           "colorReverse": false,
           "colorScale": "",
           "colorScheme": "element",
           "colorValue": "orange",
           "defaultAssembly": "",
           "depthWrite": true,
           "diffuse": 16777215,
           "diffuseInterior": false,
           "disableImpostor": false,
           "disablePicking": false,
           "flatShaded": false,
           "interiorColor": 2236962,
           "interiorDarkening": 0,
           "lazy": false,
           "matrix": {
            "elements": [
             1,
             0,
             0,
             0,
             0,
             1,
             0,
             0,
             0,
             0,
             1,
             0,
             0,
             0,
             0,
             1
            ]
           },
           "metalness": 0,
           "opacity": 1,
           "quality": "medium",
           "radialSegments": 10,
           "radiusData": {},
           "radiusScale": 1,
           "radiusSize": 0.03420312976358566,
           "radiusType": "vdw",
           "roughness": 0.4,
           "sele": "all",
           "side": "double",
           "sphereDetail": 1,
           "useInteriorColor": true,
           "visible": true,
           "wireframe": false
          },
          "type": "unitcell"
         },
         "1": {
          "params": {
           "assembly": "default",
           "clipCenter": {
            "x": 0,
            "y": 0,
            "z": 0
           },
           "clipNear": 0,
           "clipRadius": 0,
           "colorMode": "hcl",
           "colorReverse": false,
           "colorScale": "rainbow",
           "colorScheme": "element",
           "colorValue": 9474192,
           "defaultAssembly": "",
           "depthWrite": true,
           "diffuse": 16777215,
           "diffuseInterior": false,
           "disableImpostor": false,
           "disablePicking": false,
           "flatShaded": false,
           "interiorColor": 2236962,
           "interiorDarkening": 0,
           "lazy": false,
           "matrix": {
            "elements": [
             1,
             0,
             0,
             0,
             0,
             1,
             0,
             0,
             0,
             0,
             1,
             0,
             0,
             0,
             0,
             1
            ]
           },
           "metalness": 0,
           "opacity": 1,
           "quality": "medium",
           "radiusData": {},
           "radiusScale": 0.5,
           "radiusSize": 1,
           "radiusType": "covalent",
           "roughness": 0.4,
           "sele": "all",
           "side": "double",
           "sphereDetail": 1,
           "useInteriorColor": true,
           "visible": true,
           "wireframe": false
          },
          "type": "spacefill"
         },
         "2": {
          "params": {
           "aspectRatio": 2,
           "assembly": "default",
           "bondScale": 0.4,
           "bondSpacing": 1,
           "clipCenter": {
            "x": 0,
            "y": 0,
            "z": 0
           },
           "clipNear": 0,
           "clipRadius": 0,
           "colorMode": "hcl",
           "colorReverse": false,
           "colorScale": "",
           "colorScheme": "element",
           "colorValue": 9474192,
           "cylinderOnly": false,
           "defaultAssembly": "",
           "depthWrite": true,
           "diffuse": 16777215,
           "diffuseInterior": false,
           "disableImpostor": false,
           "disablePicking": false,
           "flatShaded": false,
           "interiorColor": 2236962,
           "interiorDarkening": 0,
           "lazy": false,
           "lineOnly": false,
           "linewidth": 2,
           "matrix": {
            "elements": [
             1,
             0,
             0,
             0,
             0,
             1,
             0,
             0,
             0,
             0,
             1,
             0,
             0,
             0,
             0,
             1
            ]
           },
           "metalness": 0,
           "multipleBond": "off",
           "opacity": 1,
           "openEnded": true,
           "quality": "medium",
           "radialSegments": 10,
           "radiusData": {},
           "radiusScale": 1,
           "radiusSize": 0.15,
           "radiusType": "size",
           "roughness": 0.4,
           "sele": "all",
           "side": "double",
           "sphereDetail": 1,
           "useInteriorColor": true,
           "visible": true,
           "wireframe": false
          },
          "type": "ball+stick"
         }
        }
       },
       "_ngl_serialize": false,
       "_ngl_version": "2.0.0-dev.36",
       "_ngl_view_id": [
        "BDD8C07E-FFDA-4765-8A4A-6164A78A5839"
       ],
       "_player_dict": {},
       "_scene_position": {},
       "_scene_rotation": {},
       "_synced_model_ids": [],
       "_synced_repr_model_ids": [],
       "_view_height": "",
       "_view_width": "",
       "background": "white",
       "frame": 0,
       "gui_style": null,
       "layout": "IPY_MODEL_c97c37a24c4d45799a3513c86493607a",
       "max_frame": 0,
       "n_components": 1,
       "picked": {}
      }
     },
     "7c9b167834794e4ba41c91d97c2cc520": {
      "model_module": "@jupyter-widgets/controls",
      "model_module_version": "1.5.0",
      "model_name": "HBoxModel",
      "state": {
       "children": [
        "IPY_MODEL_73b1b9e5d3324435acfe87aaea270405",
        "IPY_MODEL_ec70d965e0cc44408b37b42fcf4d1c17"
       ],
       "layout": "IPY_MODEL_4de78501612b4ef691db1bbbce701a08"
      }
     },
     "7ca2cabc78814d26b421834c59e282c6": {
      "model_module": "@jupyter-widgets/controls",
      "model_module_version": "1.5.0",
      "model_name": "LinkModel",
      "state": {
       "source": [
        "IPY_MODEL_e9f0bd2878c94a6d9630726292da0f8e",
        "value"
       ],
       "target": [
        "IPY_MODEL_009d58dcc2714fe8aafba33ade846abc",
        "frame"
       ]
      }
     },
     "7d45a10ab10a4e69a326db3d3fbbd48c": {
      "model_module": "@jupyter-widgets/controls",
      "model_module_version": "1.5.0",
      "model_name": "IntSliderModel",
      "state": {
       "layout": "IPY_MODEL_24113ddb56944a30a4d9df37c6bb9841",
       "max": 0,
       "style": "IPY_MODEL_2ca501c5c94140b0aef710b73c20bce8"
      }
     },
     "7ddd1e48c6f940c9949341bdc1bc6248": {
      "model_module": "@jupyter-widgets/base",
      "model_module_version": "1.2.0",
      "model_name": "LayoutModel",
      "state": {}
     },
     "7e0dfe1eb0e4491aab7a9f74db9b8a80": {
      "model_module": "@jupyter-widgets/controls",
      "model_module_version": "1.5.0",
      "model_name": "LinkModel",
      "state": {
       "source": [
        "IPY_MODEL_182ce9d494704d2b87176c103daa912a",
        "max"
       ],
       "target": [
        "IPY_MODEL_7c801561196048dfacadd3191f0d6df8",
        "max_frame"
       ]
      }
     },
     "7eb0ed536f6548d0a6849338f1b385ea": {
      "model_module": "@jupyter-widgets/controls",
      "model_module_version": "1.5.0",
      "model_name": "SliderStyleModel",
      "state": {
       "description_width": ""
      }
     },
     "7f0c8b62c60c4351a05178a31737fd31": {
      "model_module": "@jupyter-widgets/controls",
      "model_module_version": "1.5.0",
      "model_name": "CheckboxModel",
      "state": {
       "description": "Show charge",
       "disabled": false,
       "layout": "IPY_MODEL_deb6809f04ac427c813f98ffac20c4e0",
       "style": "IPY_MODEL_a9bf339be6884987ac280d622ea9e8af",
       "value": false
      }
     },
     "7f5c9dfdf1b1493ebb15d7f543276037": {
      "model_module": "@jupyter-widgets/base",
      "model_module_version": "1.2.0",
      "model_name": "LayoutModel",
      "state": {}
     },
     "7fc04294f56f411d8ffd16008186f381": {
      "model_module": "@jupyter-widgets/base",
      "model_module_version": "1.2.0",
      "model_name": "LayoutModel",
      "state": {}
     },
     "806561549eff449989511da879d32f56": {
      "model_module": "@jupyter-widgets/base",
      "model_module_version": "1.2.0",
      "model_name": "LayoutModel",
      "state": {}
     },
     "80bdd4b963c94f5ab171c472c0113339": {
      "model_module": "@jupyter-widgets/base",
      "model_module_version": "1.2.0",
      "model_name": "LayoutModel",
      "state": {}
     },
     "81336e7293e24f328f3f8960e7ef7d64": {
      "model_module": "@jupyter-widgets/output",
      "model_module_version": "1.0.0",
      "model_name": "OutputModel",
      "state": {
       "layout": "IPY_MODEL_e328e5a7ac5e48f8af8f1031f460ab2a"
      }
     },
     "814f95524a1f4b3985bc6ba0820b7f22": {
      "model_module": "@jupyter-widgets/controls",
      "model_module_version": "1.5.0",
      "model_name": "DescriptionStyleModel",
      "state": {
       "description_width": ""
      }
     },
     "81c2f48d44334dc0b71516d328be1495": {
      "model_module": "@jupyter-widgets/controls",
      "model_module_version": "1.5.0",
      "model_name": "DescriptionStyleModel",
      "state": {
       "description_width": ""
      }
     },
     "81cbfed20a5144e6842694f7076e645a": {
      "model_module": "@jupyter-widgets/controls",
      "model_module_version": "1.5.0",
      "model_name": "ButtonStyleModel",
      "state": {}
     },
     "8205399b8fb349d8acdbab70c071d2f9": {
      "model_module": "@jupyter-widgets/controls",
      "model_module_version": "1.5.0",
      "model_name": "LinkModel",
      "state": {
       "source": [
        "IPY_MODEL_ec70d965e0cc44408b37b42fcf4d1c17",
        "max"
       ],
       "target": [
        "IPY_MODEL_0bd1362bc7944b0585f3c0bb5f51654a",
        "max_frame"
       ]
      }
     },
     "82a8ba3a65ab4a89b607928a41ffee41": {
      "model_module": "@jupyter-widgets/controls",
      "model_module_version": "1.5.0",
      "model_name": "VBoxModel",
      "state": {
       "children": [
        "IPY_MODEL_67024c2ac88843f185678e3e49e1e26b",
        "IPY_MODEL_ff7fdfdffe144c72ac3b746a65f7687a",
        "IPY_MODEL_2d73ca2efbcc47888d626a1c432e931c",
        "IPY_MODEL_2cb530d477164a92a6cbcb7e8b948fb5",
        "IPY_MODEL_2b131bf152194b0e86cab80f2edcb238",
        "IPY_MODEL_fdbddbbea9134adf8ced0226b9eb6cf0",
        "IPY_MODEL_3e55aeb0768a4b33bfef3c9891816b42",
        "IPY_MODEL_fffd629fe1a4417bb2fb3a250b7f4299",
        "IPY_MODEL_c88e44810f114621bf70d933ce502bc3",
        "IPY_MODEL_ae6a2159344c438da19078ef90693ce4"
       ],
       "layout": "IPY_MODEL_092cc42202d34f6a86aead3c18b390f5"
      }
     },
     "82c642dde9ca4d67a13b7fc510e050a8": {
      "model_module": "@jupyter-widgets/controls",
      "model_module_version": "1.5.0",
      "model_name": "DescriptionStyleModel",
      "state": {
       "description_width": ""
      }
     },
     "82e90c4c9f814cefa74adee4c0df5649": {
      "model_module": "@jupyter-widgets/controls",
      "model_module_version": "1.5.0",
      "model_name": "ButtonStyleModel",
      "state": {}
     },
     "83626c4f879846c7859096ecb99706b9": {
      "model_module": "@jupyter-widgets/base",
      "model_module_version": "1.2.0",
      "model_name": "LayoutModel",
      "state": {}
     },
     "837199742ee1422d9c6bd7b687127427": {
      "model_module": "@jupyter-widgets/controls",
      "model_module_version": "1.5.0",
      "model_name": "DropdownModel",
      "state": {
       "_options_labels": [
        "All",
        "Fe"
       ],
       "description": "Show",
       "index": 0,
       "layout": "IPY_MODEL_6bfdb64f23574a63a8af7d7935f46f72",
       "style": "IPY_MODEL_1d724bc818384d3a98268b609768cf2e"
      }
     },
     "83c6e7597a364a16a9c5a6b01e8f0780": {
      "model_module": "@jupyter-widgets/controls",
      "model_module_version": "1.5.0",
      "model_name": "HBoxModel",
      "state": {
       "children": [
        "IPY_MODEL_155701001b0d406a8f5849839de887e2",
        "IPY_MODEL_35248ea6187a4fb4befbb121b789b9d1"
       ],
       "layout": "IPY_MODEL_626d065075d345ebb11f0e5f507be443"
      }
     },
     "84189dd66a4c4c40a6b8d1dda45ae6b3": {
      "model_module": "@jupyter-widgets/controls",
      "model_module_version": "1.5.0",
      "model_name": "DescriptionStyleModel",
      "state": {
       "description_width": ""
      }
     },
     "84262a42b1f0418090a56a3bf1679eff": {
      "model_module": "@jupyter-widgets/controls",
      "model_module_version": "1.5.0",
      "model_name": "TextModel",
      "state": {
       "description": "Filename: ",
       "layout": "IPY_MODEL_44d8f880cdb3459fb033746d1e0f45d9",
       "style": "IPY_MODEL_d03d303b450f469aa2d26065bb5be1d8",
       "value": "screenshot.png"
      }
     },
     "84a9e737c5b54d94a13bf1c3fef5b85e": {
      "model_module": "@jupyter-widgets/controls",
      "model_module_version": "1.5.0",
      "model_name": "DropdownModel",
      "state": {
       "_options_labels": [
        " ",
        "picking",
        "random",
        "uniform",
        "atomindex",
        "residueindex",
        "chainindex",
        "modelindex",
        "sstruc",
        "element",
        "resname",
        "bfactor",
        "hydrophobicity",
        "value",
        "volume",
        "occupancy"
       ],
       "description": "Color scheme",
       "index": 9,
       "layout": "IPY_MODEL_486228360fdd46a585a377268375e65f",
       "style": "IPY_MODEL_bb2d707e48c44384a4a57f322d4895f9"
      }
     },
     "8529361a5753419898b50a0bcc6862cd": {
      "model_module": "@jupyter-widgets/controls",
      "model_module_version": "1.5.0",
      "model_name": "HBoxModel",
      "state": {
       "children": [
        "IPY_MODEL_fb68bbc4798e401387df279cde633e99",
        "IPY_MODEL_5f7e2dd4fa734275ace12028988f1a17"
       ],
       "layout": "IPY_MODEL_3a0e7805ffce45d88543aba83bd8c265"
      }
     },
     "85a4cf56138542d8a77031d181e58456": {
      "model_module": "@jupyter-widgets/base",
      "model_module_version": "1.2.0",
      "model_name": "LayoutModel",
      "state": {}
     },
     "85fa22623d6d48b8bde331bf353a833a": {
      "model_module": "@jupyter-widgets/controls",
      "model_module_version": "1.5.0",
      "model_name": "ButtonModel",
      "state": {
       "icon": "compress",
       "layout": "IPY_MODEL_2bea19ed54084cf5bcd0110f23e413a2",
       "style": "IPY_MODEL_1e5b722205a34df3ae1095a1defc2c24"
      }
     },
     "8643465d816d4a8badc253d66b10446b": {
      "model_module": "@jupyter-widgets/controls",
      "model_module_version": "1.5.0",
      "model_name": "DescriptionStyleModel",
      "state": {
       "description_width": ""
      }
     },
     "86856525d33f4548befefa29fca49e34": {
      "model_module": "@jupyter-widgets/controls",
      "model_module_version": "1.5.0",
      "model_name": "DescriptionStyleModel",
      "state": {
       "description_width": ""
      }
     },
     "871d895f60724407b215c8c598561d41": {
      "model_module": "@jupyter-widgets/controls",
      "model_module_version": "1.5.0",
      "model_name": "HBoxModel",
      "state": {
       "children": [
        "IPY_MODEL_a820a79f57474f849325969bdefbfbb9",
        "IPY_MODEL_3f710e4c233f4c9fb8a5ea8c9168e53d"
       ],
       "layout": "IPY_MODEL_ba10fc26551e49e5b57230ad2cc5941b"
      }
     },
     "87701d61e235405ca044023cd875e751": {
      "model_module": "@jupyter-widgets/controls",
      "model_module_version": "1.5.0",
      "model_name": "ButtonModel",
      "state": {
       "description": "Download image",
       "layout": "IPY_MODEL_3c3890ff05d8443591dc680dba78cdad",
       "style": "IPY_MODEL_2b3cf9be27be4707aeef4f2662556bfa",
       "tooltip": "Download current frame to your local PC"
      }
     },
     "881638aa861a4dc5b1c93c903e00b5b0": {
      "model_module": "@jupyter-widgets/controls",
      "model_module_version": "1.5.0",
      "model_name": "ButtonStyleModel",
      "state": {}
     },
     "883e308453af49278a5458f6ca292204": {
      "model_module": "@jupyter-widgets/base",
      "model_module_version": "1.2.0",
      "model_name": "LayoutModel",
      "state": {}
     },
     "893871f0d682474baac486f0e5c4c958": {
      "model_module": "@jupyter-widgets/controls",
      "model_module_version": "1.5.0",
      "model_name": "LinkModel",
      "state": {
       "source": [
        "IPY_MODEL_004d656aeff34ca39d87f39acdeed466",
        "max"
       ],
       "target": [
        "IPY_MODEL_78d5411d07c0470db8465afd86d47175",
        "max_frame"
       ]
      }
     },
     "89b59ac0f6954662ab598751b498c725": {
      "model_module": "@jupyter-widgets/controls",
      "model_module_version": "1.5.0",
      "model_name": "LinkModel",
      "state": {
       "source": [
        "IPY_MODEL_3dc0452272f2469a81d5a658aba88c4c",
        "max"
       ],
       "target": [
        "IPY_MODEL_0c6f95ec736d4dd4a0b628d2db58734f",
        "max_frame"
       ]
      }
     },
     "8a1a4b750869438c83c84676eed4cdaf": {
      "model_module": "@jupyter-widgets/controls",
      "model_module_version": "1.5.0",
      "model_name": "LinkModel",
      "state": {
       "source": [
        "IPY_MODEL_e9f0bd2878c94a6d9630726292da0f8e",
        "max"
       ],
       "target": [
        "IPY_MODEL_009d58dcc2714fe8aafba33ade846abc",
        "max_frame"
       ]
      }
     },
     "8a289907f0ee40f4a0931bcf1e76d7ef": {
      "model_module": "@jupyter-widgets/controls",
      "model_module_version": "1.5.0",
      "model_name": "ButtonModel",
      "state": {
       "icon": "compress",
       "layout": "IPY_MODEL_c60ef438e1b94641a0c9d8bbf4e54ff8",
       "style": "IPY_MODEL_81cbfed20a5144e6842694f7076e645a"
      }
     },
     "8a32fa8f0441461e97360ba3b9e8ee4d": {
      "model_module": "@jupyter-widgets/controls",
      "model_module_version": "1.5.0",
      "model_name": "SliderStyleModel",
      "state": {
       "description_width": ""
      }
     },
     "8b15b39f021544d5a8cc380545b8d3ed": {
      "model_module": "@jupyter-widgets/controls",
      "model_module_version": "1.5.0",
      "model_name": "DescriptionStyleModel",
      "state": {
       "description_width": ""
      }
     },
     "8b561ee2930c4736a83f3e2f4d82e07f": {
      "model_module": "@jupyter-widgets/controls",
      "model_module_version": "1.5.0",
      "model_name": "LinkModel",
      "state": {
       "source": [
        "IPY_MODEL_fab495ba3a36403f969dd04487f3e1a0",
        "value"
       ],
       "target": [
        "IPY_MODEL_182ce9d494704d2b87176c103daa912a",
        "value"
       ]
      }
     },
     "8c44265b0e484534b67220f74b3c68ed": {
      "model_module": "@jupyter-widgets/base",
      "model_module_version": "1.2.0",
      "model_name": "LayoutModel",
      "state": {}
     },
     "8cb1ccbd7048416998cc7df2cc1cda96": {
      "model_module": "@jupyter-widgets/controls",
      "model_module_version": "1.5.0",
      "model_name": "ButtonModel",
      "state": {
       "description": "Save image",
       "layout": "IPY_MODEL_9400d3b60d3549cfaf951007723799ac",
       "style": "IPY_MODEL_a60251a0cf9a4ba5ba20aa3f9bf2ff42",
       "tooltip": "Save current frame to file.\nCurrently .png and .html are supported.\nIt takes a bit time, please be patient."
      }
     },
     "8cc38ef0794c49c8b5f9f39c705bb765": {
      "model_module": "@jupyter-widgets/base",
      "model_module_version": "1.2.0",
      "model_name": "LayoutModel",
      "state": {}
     },
     "8d106e96bc6a407c9cad9ebdfe9aad28": {
      "model_module": "@jupyter-widgets/base",
      "model_module_version": "1.2.0",
      "model_name": "LayoutModel",
      "state": {}
     },
     "8d39e81c27ae415fbbc7a9ae2ed7e4a1": {
      "model_module": "@jupyter-widgets/controls",
      "model_module_version": "1.5.0",
      "model_name": "SliderStyleModel",
      "state": {
       "description_width": ""
      }
     },
     "8d78ad6a58bb499f87c2a50c3ee76bc9": {
      "model_module": "@jupyter-widgets/base",
      "model_module_version": "1.2.0",
      "model_name": "LayoutModel",
      "state": {}
     },
     "8d8dddc986384aada9c86ffd74ae3d7b": {
      "model_module": "@jupyter-widgets/controls",
      "model_module_version": "1.5.0",
      "model_name": "HBoxModel",
      "state": {
       "children": [
        "IPY_MODEL_298d9d8580a94e20bae138dbc063756a",
        "IPY_MODEL_60d99a366d2d487d91ecf4d4046b9d07"
       ],
       "layout": "IPY_MODEL_d8a951f6812e4579a1144d5f9b0b8ecb"
      }
     },
     "8dae925bbef445c9bc924ad26a9353b4": {
      "model_module": "@jupyter-widgets/controls",
      "model_module_version": "1.5.0",
      "model_name": "CheckboxModel",
      "state": {
       "description": "Show force",
       "disabled": false,
       "layout": "IPY_MODEL_027dd0ecea594b5095a69bbc79b42da9",
       "style": "IPY_MODEL_727bbdca5b084510bb1afa442b985707",
       "value": false
      }
     },
     "8dbb7708bc6548cc8e12b3d10c884be3": {
      "model_module": "@jupyter-widgets/base",
      "model_module_version": "1.2.0",
      "model_name": "LayoutModel",
      "state": {}
     },
     "8e15a2956b3f4017a76f80fc387cbd2f": {
      "model_module": "@jupyter-widgets/controls",
      "model_module_version": "1.5.0",
      "model_name": "DescriptionStyleModel",
      "state": {
       "description_width": ""
      }
     },
     "8e2312f21dd74aafb976c3c1885f6870": {
      "model_module": "@jupyter-widgets/controls",
      "model_module_version": "1.5.0",
      "model_name": "CheckboxModel",
      "state": {
       "description": "Show force",
       "disabled": false,
       "layout": "IPY_MODEL_1c502a90022c4553a600398105138ae7",
       "style": "IPY_MODEL_b46a2f7cfb9f4e57834cc6bd256939b8",
       "value": false
      }
     },
     "8e42c95d35424293920430b884e09b3e": {
      "model_module": "@jupyter-widgets/controls",
      "model_module_version": "1.5.0",
      "model_name": "ButtonStyleModel",
      "state": {}
     },
     "8e696473a8c54637b0f45dab1b0bd62a": {
      "model_module": "@jupyter-widgets/controls",
      "model_module_version": "1.5.0",
      "model_name": "ButtonModel",
      "state": {
       "description": "Download image",
       "layout": "IPY_MODEL_a75e4c5c6b8e4e60a8c38e0fb996b962",
       "style": "IPY_MODEL_65cd51cd75a640a4b77ee9b7a759f7be",
       "tooltip": "Download current frame to your local PC"
      }
     },
     "8eb4105a69524507bb41c3e55dfb21c5": {
      "model_module": "@jupyter-widgets/controls",
      "model_module_version": "1.5.0",
      "model_name": "HBoxModel",
      "state": {
       "children": [
        "IPY_MODEL_0bd1362bc7944b0585f3c0bb5f51654a",
        "IPY_MODEL_4bb7dd3a9ffc486286ae10432d02abb4"
       ],
       "layout": "IPY_MODEL_3e1bc32db14045388a531405393540cc"
      }
     },
     "8f26bed155344193afd1af5dc38282d1": {
      "model_module": "@jupyter-widgets/controls",
      "model_module_version": "1.5.0",
      "model_name": "IntSliderModel",
      "state": {
       "layout": "IPY_MODEL_9d1ac501e6e348278e837050f938cd6b",
       "max": 0,
       "style": "IPY_MODEL_e3759a366fdf4608809345c9c9a2639c"
      }
     },
     "8f5380c0611d43a3af560bbfb9c50a6c": {
      "model_module": "@jupyter-widgets/base",
      "model_module_version": "1.2.0",
      "model_name": "LayoutModel",
      "state": {}
     },
     "8f9858fbd1044b239ac2f655b6ab639e": {
      "model_module": "@jupyter-widgets/controls",
      "model_module_version": "1.5.0",
      "model_name": "LinkModel",
      "state": {
       "source": [
        "IPY_MODEL_9fc1b3293dc64d33872a1398c756f9d1",
        "max"
       ],
       "target": [
        "IPY_MODEL_c726cc41e5c843b08086eebabb2f628b",
        "max_frame"
       ]
      }
     },
     "906672fa123441ad99bd8a93e8e7bcf0": {
      "model_module": "@jupyter-widgets/controls",
      "model_module_version": "1.5.0",
      "model_name": "IntSliderModel",
      "state": {
       "layout": "IPY_MODEL_b4b7f0501a644d03abffaef6583a583f",
       "max": 0,
       "style": "IPY_MODEL_ff634522ace84669aa8a28fe58604b59"
      }
     },
     "908589d510c0400a87714a009ef0dfac": {
      "model_module": "@jupyter-widgets/controls",
      "model_module_version": "1.5.0",
      "model_name": "LinkModel",
      "state": {
       "source": [
        "IPY_MODEL_298d9d8580a94e20bae138dbc063756a",
        "max"
       ],
       "target": [
        "IPY_MODEL_b3831aa119204e438458caf6219f8647",
        "max_frame"
       ]
      }
     },
     "90da69ec82554ccb8ef6d5a71dd3bfcb": {
      "model_module": "@jupyter-widgets/base",
      "model_module_version": "1.2.0",
      "model_name": "LayoutModel",
      "state": {}
     },
     "90f7ceff363a44689fd4f567301c013e": {
      "model_module": "@jupyter-widgets/controls",
      "model_module_version": "1.5.0",
      "model_name": "TextModel",
      "state": {
       "description": "Filename: ",
       "layout": "IPY_MODEL_16dbda1fb4a44eb68e1436e0a884a186",
       "style": "IPY_MODEL_f15b0991c3864c5d963e76154b4ae0cd",
       "value": "screenshot.png"
      }
     },
     "913e43e3f0f747e1ba09eeed7bf81758": {
      "model_module": "@jupyter-widgets/controls",
      "model_module_version": "1.5.0",
      "model_name": "IntSliderModel",
      "state": {
       "layout": "IPY_MODEL_935f158b1030466a8431a0fdc215d2a6",
       "max": 0,
       "style": "IPY_MODEL_4bb8ca15d881489db5eea7f42db639db"
      }
     },
     "914cdf4df9654a48a3423ce4ccf22a1f": {
      "model_module": "@jupyter-widgets/base",
      "model_module_version": "1.2.0",
      "model_name": "LayoutModel",
      "state": {}
     },
     "91aebe5a47f14e0b8bf5ddbd1151392a": {
      "model_module": "@jupyter-widgets/base",
      "model_module_version": "1.2.0",
      "model_name": "LayoutModel",
      "state": {}
     },
     "92aecd43f3df4f66a7b1fc8953211776": {
      "model_module": "@jupyter-widgets/base",
      "model_module_version": "1.2.0",
      "model_name": "LayoutModel",
      "state": {}
     },
     "930729efcf4046d6be79fb5e27d7fc49": {
      "model_module": "@jupyter-widgets/controls",
      "model_module_version": "1.5.0",
      "model_name": "ButtonStyleModel",
      "state": {}
     },
     "935f158b1030466a8431a0fdc215d2a6": {
      "model_module": "@jupyter-widgets/base",
      "model_module_version": "1.2.0",
      "model_name": "LayoutModel",
      "state": {}
     },
     "93698d1c2aca4ce184a253f6dea16951": {
      "model_module": "@jupyter-widgets/base",
      "model_module_version": "1.2.0",
      "model_name": "LayoutModel",
      "state": {}
     },
     "93d82cc31747458c802a582f913b09ed": {
      "model_module": "@jupyter-widgets/controls",
      "model_module_version": "1.5.0",
      "model_name": "LinkModel",
      "state": {
       "source": [
        "IPY_MODEL_5a4e4e26ded241dca1a53fa291f1ce2b",
        "max"
       ],
       "target": [
        "IPY_MODEL_009d58dcc2714fe8aafba33ade846abc",
        "max_frame"
       ]
      }
     },
     "9400d3b60d3549cfaf951007723799ac": {
      "model_module": "@jupyter-widgets/base",
      "model_module_version": "1.2.0",
      "model_name": "LayoutModel",
      "state": {}
     },
     "94195777b2ac417db2dbc8825dbe5009": {
      "model_module": "@jupyter-widgets/base",
      "model_module_version": "1.2.0",
      "model_name": "LayoutModel",
      "state": {}
     },
     "9489f26139314529b006279908b9b6bf": {
      "model_module": "@jupyter-widgets/controls",
      "model_module_version": "1.5.0",
      "model_name": "DropdownModel",
      "state": {
       "_options_labels": [
        "All",
        "O",
        "C",
        "H"
       ],
       "description": "Show",
       "index": 0,
       "layout": "IPY_MODEL_af6ba0d52fa84681969c72aed89b48f1",
       "style": "IPY_MODEL_4e33e85a327d4d698fd4f8e1a1996317"
      }
     },
     "948e991aba07486eb78079275a0727f9": {
      "model_module": "@jupyter-widgets/controls",
      "model_module_version": "1.5.0",
      "model_name": "DescriptionStyleModel",
      "state": {
       "description_width": ""
      }
     },
     "94fdff8689494bfcaab66e8bcb634b47": {
      "model_module": "@jupyter-widgets/controls",
      "model_module_version": "1.5.0",
      "model_name": "DescriptionStyleModel",
      "state": {
       "description_width": ""
      }
     },
     "9538da0b054d4e8aa6d0be42df3a744e": {
      "model_module": "@jupyter-widgets/base",
      "model_module_version": "1.2.0",
      "model_name": "LayoutModel",
      "state": {}
     },
     "95c9ac20def74fe9982427b79d1033f4": {
      "model_module": "@jupyter-widgets/base",
      "model_module_version": "1.2.0",
      "model_name": "LayoutModel",
      "state": {}
     },
     "95f5e4f227654d0cb5e53c70e049f910": {
      "model_module": "@jupyter-widgets/controls",
      "model_module_version": "1.5.0",
      "model_name": "DescriptionStyleModel",
      "state": {
       "description_width": ""
      }
     },
     "966594347de742c6bfa95ade1cd603ea": {
      "model_module": "@jupyter-widgets/base",
      "model_module_version": "1.2.0",
      "model_name": "LayoutModel",
      "state": {}
     },
     "96a3e54e5fd340b0bbdd4b5068f22802": {
      "model_module": "@jupyter-widgets/controls",
      "model_module_version": "1.5.0",
      "model_name": "LinkModel",
      "state": {
       "source": [
        "IPY_MODEL_438aaf87df544c77b4210c6ebc023878",
        "max"
       ],
       "target": [
        "IPY_MODEL_cacd796bfcf945a6a1db72136e7bf10f",
        "max_frame"
       ]
      }
     },
     "9742d51b6fc44a39bd89ce9b35822f22": {
      "model_module": "@jupyter-widgets/controls",
      "model_module_version": "1.5.0",
      "model_name": "DescriptionStyleModel",
      "state": {
       "description_width": ""
      }
     },
     "974f913ebb4f4c9c87d064cb19a19088": {
      "model_module": "@jupyter-widgets/controls",
      "model_module_version": "1.5.0",
      "model_name": "DropdownModel",
      "state": {
       "_options_labels": [
        "All",
        "Si"
       ],
       "description": "Show",
       "index": 0,
       "layout": "IPY_MODEL_2c83d7a0baf443c8b7531d779655a9a4",
       "style": "IPY_MODEL_c87b233edf844ed1be393012880b0260"
      }
     },
     "97ce7c0a397c401486d5bcc45f10432c": {
      "model_module": "@jupyter-widgets/controls",
      "model_module_version": "1.5.0",
      "model_name": "ButtonModel",
      "state": {
       "icon": "compress",
       "layout": "IPY_MODEL_0b04295eb9c942869b2f0638ca4c2d02",
       "style": "IPY_MODEL_f59097d129584fabb69d177788363f41"
      }
     },
     "97dc8a92af8b41d19730421f8cbe9fa3": {
      "model_module": "@jupyter-widgets/controls",
      "model_module_version": "1.5.0",
      "model_name": "CheckboxModel",
      "state": {
       "description": "Show force",
       "disabled": false,
       "layout": "IPY_MODEL_cb625b51d0cd4767a0fff2eda2ebc4a1",
       "style": "IPY_MODEL_1a046f47d0214ea29873ab091e5c8bed",
       "value": false
      }
     },
     "985b76dc53eb4dca9a0622151ad7fc9c": {
      "model_module": "@jupyter-widgets/controls",
      "model_module_version": "1.5.0",
      "model_name": "DropdownModel",
      "state": {
       "_options_labels": [
        " ",
        "picking",
        "random",
        "uniform",
        "atomindex",
        "residueindex",
        "chainindex",
        "modelindex",
        "sstruc",
        "element",
        "resname",
        "bfactor",
        "hydrophobicity",
        "value",
        "volume",
        "occupancy"
       ],
       "description": "Color scheme",
       "index": 9,
       "layout": "IPY_MODEL_0174cbbba3c74a06a0e4b16218967581",
       "style": "IPY_MODEL_77c2134757f74f368e2dae3fd8908e7b"
      }
     },
     "98fa6ed4d6e44b408a08944995ee53d3": {
      "model_module": "@jupyter-widgets/controls",
      "model_module_version": "1.5.0",
      "model_name": "FloatSliderModel",
      "state": {
       "description": "Charge scale",
       "layout": "IPY_MODEL_1fee6c56ba8a4a2398940818e6288c63",
       "step": 0.1,
       "style": "IPY_MODEL_7eb0ed536f6548d0a6849338f1b385ea",
       "value": 1
      }
     },
     "993292a969ed48ecbcb2259c54dc709f": {
      "model_module": "@jupyter-widgets/base",
      "model_module_version": "1.2.0",
      "model_name": "LayoutModel",
      "state": {}
     },
     "9937c0f5061b49a8a703b3778185e4eb": {
      "model_module": "@jupyter-widgets/base",
      "model_module_version": "1.2.0",
      "model_name": "LayoutModel",
      "state": {}
     },
     "996940cad0084b8889287d912e27a9cd": {
      "model_module": "@jupyter-widgets/controls",
      "model_module_version": "1.5.0",
      "model_name": "DescriptionStyleModel",
      "state": {
       "description_width": ""
      }
     },
     "99fdbb9a599543fd8427229b5282ca92": {
      "model_module": "@jupyter-widgets/controls",
      "model_module_version": "1.5.0",
      "model_name": "LinkModel",
      "state": {
       "source": [
        "IPY_MODEL_906672fa123441ad99bd8a93e8e7bcf0",
        "max"
       ],
       "target": [
        "IPY_MODEL_2f051ec1489541cdb9175863e6fa1184",
        "max_frame"
       ]
      }
     },
     "9a2f33126f13444ab5e08a3f4a65c148": {
      "model_module": "@jupyter-widgets/controls",
      "model_module_version": "1.5.0",
      "model_name": "SliderStyleModel",
      "state": {
       "description_width": ""
      }
     },
     "9a963ca1c075475fb3eb5f422d6397ef": {
      "model_module": "@jupyter-widgets/controls",
      "model_module_version": "1.5.0",
      "model_name": "ButtonStyleModel",
      "state": {}
     },
     "9b160c3220e34d86a82d57199f102079": {
      "model_module": "@jupyter-widgets/controls",
      "model_module_version": "1.5.0",
      "model_name": "SliderStyleModel",
      "state": {
       "description_width": ""
      }
     },
     "9bc1e680b5be4fe085aeda32a59d69ed": {
      "model_module": "@jupyter-widgets/controls",
      "model_module_version": "1.5.0",
      "model_name": "LinkModel",
      "state": {
       "source": [
        "IPY_MODEL_a820a79f57474f849325969bdefbfbb9",
        "value"
       ],
       "target": [
        "IPY_MODEL_b24f694e68914b4b8b9a954a3b18e0d4",
        "frame"
       ]
      }
     },
     "9c96ce3346b2404fa56ab42d02a97852": {
      "model_module": "@jupyter-widgets/controls",
      "model_module_version": "1.5.0",
      "model_name": "SliderStyleModel",
      "state": {
       "description_width": ""
      }
     },
     "9cd69f26cb974562ab55599185727088": {
      "model_module": "@jupyter-widgets/base",
      "model_module_version": "1.2.0",
      "model_name": "LayoutModel",
      "state": {}
     },
     "9d1ac501e6e348278e837050f938cd6b": {
      "model_module": "@jupyter-widgets/base",
      "model_module_version": "1.2.0",
      "model_name": "LayoutModel",
      "state": {}
     },
     "9db8f5db8b3a40c09a8d563c00bb2d4f": {
      "model_module": "@jupyter-widgets/base",
      "model_module_version": "1.2.0",
      "model_name": "LayoutModel",
      "state": {
       "border": "0px solid black"
      }
     },
     "9ddfcae179004ad99098f13bb219d0a1": {
      "model_module": "@jupyter-widgets/controls",
      "model_module_version": "1.5.0",
      "model_name": "ButtonStyleModel",
      "state": {}
     },
     "9e0d2422afc44001ade9cdb093cb873e": {
      "model_module": "@jupyter-widgets/controls",
      "model_module_version": "1.5.0",
      "model_name": "HBoxModel",
      "state": {
       "children": [
        "IPY_MODEL_7c801561196048dfacadd3191f0d6df8",
        "IPY_MODEL_3a62c29dcae74f7194582da6e5e44e41"
       ],
       "layout": "IPY_MODEL_52aa641516c149e6881674eb5ef92f0c"
      }
     },
     "9e2de236d1504c329bd4261c50ef19fb": {
      "model_module": "@jupyter-widgets/base",
      "model_module_version": "1.2.0",
      "model_name": "LayoutModel",
      "state": {}
     },
     "9e7352669b2944b796615128bf76f67e": {
      "model_module": "@jupyter-widgets/controls",
      "model_module_version": "1.5.0",
      "model_name": "HBoxModel",
      "state": {
       "children": [
        "IPY_MODEL_0c6f95ec736d4dd4a0b628d2db58734f",
        "IPY_MODEL_70301c7f95da4383919bbbd1aa0a91dc"
       ],
       "layout": "IPY_MODEL_3636d55315104bdd97d927a393e2623c"
      }
     },
     "9e8a2f0709334dd7bb83686bca7341c3": {
      "model_module": "@jupyter-widgets/base",
      "model_module_version": "1.2.0",
      "model_name": "LayoutModel",
      "state": {}
     },
     "9eae4a75c827413c850a3d68cc6deb52": {
      "model_module": "@jupyter-widgets/controls",
      "model_module_version": "1.5.0",
      "model_name": "ButtonStyleModel",
      "state": {}
     },
     "9f29a525418141bd85aedecc9cdeb2f0": {
      "model_module": "@jupyter-widgets/controls",
      "model_module_version": "1.5.0",
      "model_name": "FloatSliderModel",
      "state": {
       "description": "Charge scale",
       "layout": "IPY_MODEL_13ec27915fb048538d0d59f7c221ec0f",
       "step": 0.1,
       "style": "IPY_MODEL_087ed6acff9f4e9b941289735739ac78",
       "value": 1
      }
     },
     "9f2a2d929d9646edb0a15bd69ef69158": {
      "model_module": "@jupyter-widgets/controls",
      "model_module_version": "1.5.0",
      "model_name": "ButtonStyleModel",
      "state": {}
     },
     "9f674bb281d54acd8538ad500a23baeb": {
      "model_module": "@jupyter-widgets/base",
      "model_module_version": "1.2.0",
      "model_name": "LayoutModel",
      "state": {}
     },
     "9fc1b3293dc64d33872a1398c756f9d1": {
      "model_module": "@jupyter-widgets/controls",
      "model_module_version": "1.5.0",
      "model_name": "IntSliderModel",
      "state": {
       "layout": "IPY_MODEL_eda689d44ba64cd086c181047312af6d",
       "max": 0,
       "style": "IPY_MODEL_a175d8573b134355b47369c9c1687f30"
      }
     },
     "a03c6ff89d29447389bc8eab7f27f7aa": {
      "model_module": "@jupyter-widgets/controls",
      "model_module_version": "1.5.0",
      "model_name": "DescriptionStyleModel",
      "state": {
       "description_width": ""
      }
     },
     "a077d67ee9e84534a9d7bfbdeeaa5c3a": {
      "model_module": "@jupyter-widgets/controls",
      "model_module_version": "1.5.0",
      "model_name": "DescriptionStyleModel",
      "state": {
       "description_width": ""
      }
     },
     "a0ce48f64a084912a8ada5acd8696612": {
      "model_module": "@jupyter-widgets/base",
      "model_module_version": "1.2.0",
      "model_name": "LayoutModel",
      "state": {}
     },
     "a11ea92db17a4af589d05f6c719c5e26": {
      "model_module": "@jupyter-widgets/controls",
      "model_module_version": "1.5.0",
      "model_name": "DropdownModel",
      "state": {
       "_options_labels": [
        "All",
        "Si"
       ],
       "description": "Show",
       "index": 0,
       "layout": "IPY_MODEL_210598b8d0d14b65b4763a9ba2181010",
       "style": "IPY_MODEL_40617ee405b241d7b8a51cea4c9e1aee"
      }
     },
     "a157ad307c99495e912b7182dfe423ae": {
      "model_module": "@jupyter-widgets/controls",
      "model_module_version": "1.5.0",
      "model_name": "SliderStyleModel",
      "state": {
       "description_width": ""
      }
     },
     "a175d8573b134355b47369c9c1687f30": {
      "model_module": "@jupyter-widgets/controls",
      "model_module_version": "1.5.0",
      "model_name": "SliderStyleModel",
      "state": {
       "description_width": ""
      }
     },
     "a1fac6f48560444282e737d5e33ad2a0": {
      "model_module": "@jupyter-widgets/controls",
      "model_module_version": "1.5.0",
      "model_name": "SliderStyleModel",
      "state": {
       "description_width": ""
      }
     },
     "a28399c1e30842f8b957448855657a6e": {
      "model_module": "@jupyter-widgets/controls",
      "model_module_version": "1.5.0",
      "model_name": "DropdownModel",
      "state": {
       "_options_labels": [
        "All",
        "Si"
       ],
       "description": "Show",
       "index": 0,
       "layout": "IPY_MODEL_f3180901c4a44828be577f3e5e3cee16",
       "style": "IPY_MODEL_a77f2816ec7841cca4974627594c3b44"
      }
     },
     "a2cfa444e0594d24ad295b3608b745e5": {
      "model_module": "@jupyter-widgets/base",
      "model_module_version": "1.2.0",
      "model_name": "LayoutModel",
      "state": {}
     },
     "a32501bf81ef4a5d9d70600d610e19bf": {
      "model_module": "@jupyter-widgets/base",
      "model_module_version": "1.2.0",
      "model_name": "LayoutModel",
      "state": {}
     },
     "a3c814f4a0d24e4581344830bc34f89d": {
      "model_module": "@jupyter-widgets/base",
      "model_module_version": "1.2.0",
      "model_name": "LayoutModel",
      "state": {}
     },
     "a3ece2e925454bf1948b4b9dafd60c4f": {
      "model_module": "@jupyter-widgets/controls",
      "model_module_version": "1.5.0",
      "model_name": "TextModel",
      "state": {
       "description": "Filename: ",
       "layout": "IPY_MODEL_cd60a964040443f6b000787ef39109b5",
       "style": "IPY_MODEL_07fdf64ecef54d288414e059370ae4ef",
       "value": "screenshot.png"
      }
     },
     "a519b497274e49269a5d77189f7f270b": {
      "model_module": "@jupyter-widgets/controls",
      "model_module_version": "1.5.0",
      "model_name": "DescriptionStyleModel",
      "state": {
       "description_width": ""
      }
     },
     "a54c3d7cb959428f8fbd39fd3043cfd1": {
      "model_module": "@jupyter-widgets/controls",
      "model_module_version": "1.5.0",
      "model_name": "CheckboxModel",
      "state": {
       "description": "Show charge",
       "disabled": false,
       "layout": "IPY_MODEL_ad50173838a9496197e0616c84ddd7f2",
       "style": "IPY_MODEL_62ce36ead2e44b408d773ab6166fedd4",
       "value": false
      }
     },
     "a54f712a737b460da9c4a060ec7dcd9c": {
      "model_module": "@jupyter-widgets/base",
      "model_module_version": "1.2.0",
      "model_name": "LayoutModel",
      "state": {}
     },
     "a551c3c791414acf8ce79107fa0761fc": {
      "model_module": "@jupyter-widgets/controls",
      "model_module_version": "1.5.0",
      "model_name": "SliderStyleModel",
      "state": {
       "description_width": ""
      }
     },
     "a59160fd893b4b94819f1edef3ff05c3": {
      "model_module": "@jupyter-widgets/base",
      "model_module_version": "1.2.0",
      "model_name": "LayoutModel",
      "state": {}
     },
     "a59d41b15eb04670a496c2a29fe625e8": {
      "model_module": "@jupyter-widgets/controls",
      "model_module_version": "1.5.0",
      "model_name": "SliderStyleModel",
      "state": {
       "description_width": ""
      }
     },
     "a60251a0cf9a4ba5ba20aa3f9bf2ff42": {
      "model_module": "@jupyter-widgets/controls",
      "model_module_version": "1.5.0",
      "model_name": "ButtonStyleModel",
      "state": {}
     },
     "a613844602214a9fabec3d9757804365": {
      "model_module": "@jupyter-widgets/controls",
      "model_module_version": "1.5.0",
      "model_name": "ImageModel",
      "state": {
       "layout": "IPY_MODEL_83626c4f879846c7859096ecb99706b9",
       "width": "900.0"
      }
     },
     "a6bd0832e3a04fe0997113c3786b306d": {
      "model_module": "@jupyter-widgets/controls",
      "model_module_version": "1.5.0",
      "model_name": "SliderStyleModel",
      "state": {
       "description_width": ""
      }
     },
     "a75e4c5c6b8e4e60a8c38e0fb996b962": {
      "model_module": "@jupyter-widgets/base",
      "model_module_version": "1.2.0",
      "model_name": "LayoutModel",
      "state": {}
     },
     "a77f2816ec7841cca4974627594c3b44": {
      "model_module": "@jupyter-widgets/controls",
      "model_module_version": "1.5.0",
      "model_name": "DescriptionStyleModel",
      "state": {
       "description_width": ""
      }
     },
     "a820a79f57474f849325969bdefbfbb9": {
      "model_module": "@jupyter-widgets/controls",
      "model_module_version": "1.5.0",
      "model_name": "PlayModel",
      "state": {
       "layout": "IPY_MODEL_0b0083ecc07c4647850c55da146f6880",
       "max": 0,
       "style": "IPY_MODEL_3b5c6ed40d7e492187fdf6006c939a69"
      }
     },
     "a84293f974a642cb89cc5ba4dd580127": {
      "model_module": "@jupyter-widgets/controls",
      "model_module_version": "1.5.0",
      "model_name": "SliderStyleModel",
      "state": {
       "description_width": ""
      }
     },
     "a8611e880b094731a241cf0a04e4f778": {
      "model_module": "@jupyter-widgets/controls",
      "model_module_version": "1.5.0",
      "model_name": "FloatSliderModel",
      "state": {
       "description": "Ball size",
       "layout": "IPY_MODEL_7ddd1e48c6f940c9949341bdc1bc6248",
       "max": 1.5,
       "step": 0.01,
       "style": "IPY_MODEL_6fdcc94fa6d5429e9bc49ba0a2031d49",
       "value": 0.5
      }
     },
     "a8e8015c5e58489eab89b97a742a28fa": {
      "model_module": "@jupyter-widgets/controls",
      "model_module_version": "1.5.0",
      "model_name": "DescriptionStyleModel",
      "state": {
       "description_width": ""
      }
     },
     "a92e1e64cb6742358f300a59a1d98ea8": {
      "model_module": "@jupyter-widgets/controls",
      "model_module_version": "1.5.0",
      "model_name": "CheckboxModel",
      "state": {
       "description": "Show charge",
       "disabled": false,
       "layout": "IPY_MODEL_2e651578d9ec44fb86e7072346abb672",
       "style": "IPY_MODEL_6207abe80a31450aa6271a5f5b357937",
       "value": false
      }
     },
     "a93599493e7f44609a1bfcb78e729dd4": {
      "model_module": "@jupyter-widgets/base",
      "model_module_version": "1.2.0",
      "model_name": "LayoutModel",
      "state": {}
     },
     "a9bf339be6884987ac280d622ea9e8af": {
      "model_module": "@jupyter-widgets/controls",
      "model_module_version": "1.5.0",
      "model_name": "DescriptionStyleModel",
      "state": {
       "description_width": ""
      }
     },
     "aabd911159d045e8a9f15d2b0331bdd5": {
      "model_module": "@jupyter-widgets/base",
      "model_module_version": "1.2.0",
      "model_name": "LayoutModel",
      "state": {}
     },
     "aacc2668348241d69ad6915085e3ad92": {
      "model_module": "@jupyter-widgets/controls",
      "model_module_version": "1.5.0",
      "model_name": "SliderStyleModel",
      "state": {
       "description_width": ""
      }
     },
     "aad18cc967b94e03bb996ec72ac2f9a2": {
      "model_module": "@jupyter-widgets/base",
      "model_module_version": "1.2.0",
      "model_name": "LayoutModel",
      "state": {}
     },
     "abdf406defd948f4afca270ee8b28a2a": {
      "model_module": "@jupyter-widgets/controls",
      "model_module_version": "1.5.0",
      "model_name": "DescriptionStyleModel",
      "state": {
       "description_width": ""
      }
     },
     "acacd315da1945f68d3b3d8c0652c831": {
      "model_module": "@jupyter-widgets/controls",
      "model_module_version": "1.5.0",
      "model_name": "LinkModel",
      "state": {
       "source": [
        "IPY_MODEL_7a20175cd9624feca3238249ad7a4d96",
        "value"
       ],
       "target": [
        "IPY_MODEL_395f0dd2f63e4c198c3fbb28babb6ce3",
        "frame"
       ]
      }
     },
     "ad4ab786110d4046a5968d50d86ca353": {
      "model_module": "@jupyter-widgets/controls",
      "model_module_version": "1.5.0",
      "model_name": "ButtonModel",
      "state": {
       "description": "Download image",
       "layout": "IPY_MODEL_25e4c452aa5741c0b41c98ef5a10a244",
       "style": "IPY_MODEL_370a51ddd5894c9dad4ba7aa76a23215",
       "tooltip": "Download current frame to your local PC"
      }
     },
     "ad50173838a9496197e0616c84ddd7f2": {
      "model_module": "@jupyter-widgets/base",
      "model_module_version": "1.2.0",
      "model_name": "LayoutModel",
      "state": {}
     },
     "ad5faf7d27b241b0bd5d54448a46d728": {
      "model_module": "@jupyter-widgets/controls",
      "model_module_version": "1.5.0",
      "model_name": "DescriptionStyleModel",
      "state": {
       "description_width": ""
      }
     },
     "ad6a2458158e4c55ab9d33be69bd8876": {
      "model_module": "@jupyter-widgets/base",
      "model_module_version": "1.2.0",
      "model_name": "LayoutModel",
      "state": {}
     },
     "ad6c1cc2641740ccb839da74ce4ea0db": {
      "model_module": "@jupyter-widgets/controls",
      "model_module_version": "1.5.0",
      "model_name": "HBoxModel",
      "state": {
       "children": [
        "IPY_MODEL_87701d61e235405ca044023cd875e751",
        "IPY_MODEL_d1445b4a3be44d9eb809ea9bd558bb3e"
       ],
       "layout": "IPY_MODEL_d311b2906f9a43f6995c0de66d24ab60"
      }
     },
     "adf08167a5b544f481f56024bd72c3c5": {
      "model_module": "@jupyter-widgets/controls",
      "model_module_version": "1.5.0",
      "model_name": "LinkModel",
      "state": {
       "source": [
        "IPY_MODEL_438aaf87df544c77b4210c6ebc023878",
        "value"
       ],
       "target": [
        "IPY_MODEL_cacd796bfcf945a6a1db72136e7bf10f",
        "frame"
       ]
      }
     },
     "ae6a2159344c438da19078ef90693ce4": {
      "model_module": "@jupyter-widgets/output",
      "model_module_version": "1.0.0",
      "model_name": "OutputModel",
      "state": {
       "layout": "IPY_MODEL_33e4ada39d5247f18d9ee31b12263b1a"
      }
     },
     "af38b0b93e8344d99adc642b5c1836af": {
      "model_module": "@jupyter-widgets/controls",
      "model_module_version": "1.5.0",
      "model_name": "FloatSliderModel",
      "state": {
       "description": "Force scale",
       "layout": "IPY_MODEL_f2b6b4bb2e1546c1b1fdc6a7c90bb053",
       "step": 0.1,
       "style": "IPY_MODEL_a84293f974a642cb89cc5ba4dd580127",
       "value": 0.5
      }
     },
     "af3f37a655454eb4ab2570ac00e74d98": {
      "model_module": "@jupyter-widgets/base",
      "model_module_version": "1.2.0",
      "model_name": "LayoutModel",
      "state": {}
     },
     "af6ba0d52fa84681969c72aed89b48f1": {
      "model_module": "@jupyter-widgets/base",
      "model_module_version": "1.2.0",
      "model_name": "LayoutModel",
      "state": {}
     },
     "af739e5be9ec4bc597fa201de4652287": {
      "model_module": "@jupyter-widgets/base",
      "model_module_version": "1.2.0",
      "model_name": "LayoutModel",
      "state": {}
     },
     "af901cce551c4bea8ea452d948ceb3b8": {
      "model_module": "@jupyter-widgets/base",
      "model_module_version": "1.2.0",
      "model_name": "LayoutModel",
      "state": {}
     },
     "af93d276240a464f8faa6c434f22f08c": {
      "model_module": "@jupyter-widgets/base",
      "model_module_version": "1.2.0",
      "model_name": "LayoutModel",
      "state": {}
     },
     "b00e5ee7421e4794b060b7f40530fc03": {
      "model_module": "@jupyter-widgets/controls",
      "model_module_version": "1.5.0",
      "model_name": "FloatSliderModel",
      "state": {
       "description": "Charge scale",
       "layout": "IPY_MODEL_00fb8629911b473b90d366b306d306f8",
       "step": 0.1,
       "style": "IPY_MODEL_aacc2668348241d69ad6915085e3ad92",
       "value": 1
      }
     },
     "b08946c523244bc099a9e147433313c8": {
      "model_module": "@jupyter-widgets/controls",
      "model_module_version": "1.5.0",
      "model_name": "SliderStyleModel",
      "state": {
       "description_width": ""
      }
     },
     "b0e197c5cc7743f8b82065694cdd1b08": {
      "model_module": "@jupyter-widgets/controls",
      "model_module_version": "1.5.0",
      "model_name": "HBoxModel",
      "state": {
       "children": [
        "IPY_MODEL_04acbfde0b5d49b9a776135f0f8e2bec",
        "IPY_MODEL_cda3667218e749cb82be5c21994638bd"
       ],
       "layout": "IPY_MODEL_01626d8ddfbf43f1a662fc85c28348ad"
      }
     },
     "b2172a7429224b229f4cf52c0c203d0c": {
      "model_module": "@jupyter-widgets/controls",
      "model_module_version": "1.5.0",
      "model_name": "CheckboxModel",
      "state": {
       "description": "Show charge",
       "disabled": false,
       "layout": "IPY_MODEL_966594347de742c6bfa95ade1cd603ea",
       "style": "IPY_MODEL_44f0b04cad4e4216929f98119df019d9",
       "value": false
      }
     },
     "b24f694e68914b4b8b9a954a3b18e0d4": {
      "model_module": "nglview-js-widgets",
      "model_module_version": "3.0.1",
      "model_name": "NGLModel",
      "state": {
       "_camera_orientation": [
        32.64900057953009,
        0,
        0,
        0,
        0,
        32.64900057953009,
        0,
        0,
        0,
        0,
        32.64900057953009,
        0,
        -10.147000312805176,
        -6.443999767303467,
        -2.071000099182129,
        1
       ],
       "_camera_str": "orthographic",
       "_gui_theme": null,
       "_ibtn_fullscreen": "IPY_MODEL_97ce7c0a397c401486d5bcc45f10432c",
       "_igui": null,
       "_iplayer": "IPY_MODEL_871d895f60724407b215c8c598561d41",
       "_ngl_color_dict": {},
       "_ngl_coordinate_resource": {},
       "_ngl_full_stage_parameters": {
        "ambientColor": 14540253,
        "ambientIntensity": 0.2,
        "backgroundColor": "white",
        "cameraEyeSep": 0.3,
        "cameraFov": 40,
        "cameraType": "orthographic",
        "clipDist": 0,
        "clipFar": 100,
        "clipNear": 0,
        "fogFar": 100,
        "fogNear": 50,
        "hoverTimeout": 0,
        "impostor": true,
        "lightColor": 14540253,
        "lightIntensity": 1,
        "mousePreset": "default",
        "panSpeed": 1,
        "quality": "medium",
        "rotateSpeed": 2,
        "sampleLevel": 0,
        "tooltip": true,
        "workerDefault": true,
        "zoomSpeed": 1.2
       },
       "_ngl_msg_archive": [
        {
         "args": [
          {
           "binary": false,
           "data": "CRYST1   16.235   16.235    4.971  90.00  90.00  60.00 P 1\nMODEL     1\nATOM      1   Fe MOL     1       2.029   1.172   0.000  1.00  0.00          FE  \nATOM      2   Fe MOL     1       6.088   1.172   0.000  1.00  0.00          FE  \nATOM      3   Fe MOL     1      10.147   1.172   0.000  1.00  0.00          FE  \nATOM      4   Fe MOL     1      14.206   1.172   0.000  1.00  0.00          FE  \nATOM      5   Fe MOL     1       4.059   4.687   0.000  1.00  0.00          FE  \nATOM      6   Fe MOL     1       8.118   4.687   0.000  1.00  0.00          FE  \nATOM      7    V MOL     1      12.176   4.687   0.000  1.00  0.00           V  \nATOM      8   Fe MOL     1      16.235   4.687   0.000  1.00  0.00          FE  \nATOM      9   Fe MOL     1       6.088   8.202   0.000  1.00  0.00          FE  \nATOM     10   Fe MOL     1      10.147   8.202   0.000  1.00  0.00          FE  \nATOM     11   Fe MOL     1      14.206   8.202   0.000  1.00  0.00          FE  \nATOM     12   Fe MOL     1      18.265   8.202   0.000  1.00  0.00          FE  \nATOM     13   Fe MOL     1       8.118  11.717   0.000  1.00  0.00          FE  \nATOM     14   Fe MOL     1      12.176  11.717   0.000  1.00  0.00          FE  \nATOM     15   Fe MOL     1      16.235  11.717   0.000  1.00  0.00          FE  \nATOM     16   Fe MOL     1      20.294  11.717   0.000  1.00  0.00          FE  \nATOM     17   Fe MOL     1      -0.000   2.343   0.828  1.00  0.00          FE  \nATOM     18   Fe MOL     1       4.059   2.343   0.828  1.00  0.00          FE  \nATOM     19   Fe MOL     1       8.118   2.343   0.828  1.00  0.00          FE  \nATOM     20    V MOL     1      12.176   2.343   0.828  1.00  0.00           V  \nATOM     21   Fe MOL     1       2.029   5.858   0.828  1.00  0.00          FE  \nATOM     22   Fe MOL     1       6.088   5.858   0.828  1.00  0.00          FE  \nATOM     23   Fe MOL     1      10.147   5.858   0.828  1.00  0.00          FE  \nATOM     24   Fe MOL     1      14.206   5.858   0.828  1.00  0.00          FE  \nATOM     25   Fe MOL     1       4.059   9.373   0.828  1.00  0.00          FE  \nATOM     26   Fe MOL     1       8.118   9.373   0.828  1.00  0.00          FE  \nATOM     27   Fe MOL     1      12.176   9.373   0.828  1.00  0.00          FE  \nATOM     28   Fe MOL     1      16.235   9.373   0.828  1.00  0.00          FE  \nATOM     29   Fe MOL     1       6.088  12.888   0.828  1.00  0.00          FE  \nATOM     30   Fe MOL     1      10.147  12.888   0.828  1.00  0.00          FE  \nATOM     31   Fe MOL     1      14.206  12.888   0.828  1.00  0.00          FE  \nATOM     32   Fe MOL     1      18.265  12.888   0.828  1.00  0.00          FE  \nATOM     33   Fe MOL     1       0.000   0.000   1.657  1.00  0.00          FE  \nATOM     34   Fe MOL     1       4.059   0.000   1.657  1.00  0.00          FE  \nATOM     35   Fe MOL     1       8.118   0.000   1.657  1.00  0.00          FE  \nATOM     36   Fe MOL     1      12.176   0.000   1.657  1.00  0.00          FE  \nATOM     37   Fe MOL     1       2.029   3.515   1.657  1.00  0.00          FE  \nATOM     38   Fe MOL     1       6.088   3.515   1.657  1.00  0.00          FE  \nATOM     39   Fe MOL     1      10.147   3.515   1.657  1.00  0.00          FE  \nATOM     40   Fe MOL     1      14.206   3.515   1.657  1.00  0.00          FE  \nATOM     41   Fe MOL     1       4.059   7.030   1.657  1.00  0.00          FE  \nATOM     42   Fe MOL     1       8.118   7.030   1.657  1.00  0.00          FE  \nATOM     43   Fe MOL     1      12.176   7.030   1.657  1.00  0.00          FE  \nATOM     44   Fe MOL     1      16.235   7.030   1.657  1.00  0.00          FE  \nATOM     45    V MOL     1       6.088  10.545   1.657  1.00  0.00           V  \nATOM     46   Fe MOL     1      10.147  10.545   1.657  1.00  0.00          FE  \nATOM     47   Fe MOL     1      14.206  10.545   1.657  1.00  0.00          FE  \nATOM     48   Fe MOL     1      18.265  10.545   1.657  1.00  0.00          FE  \nATOM     49   Fe MOL     1       2.029   1.172   2.485  1.00  0.00          FE  \nATOM     50   Fe MOL     1       6.088   1.172   2.485  1.00  0.00          FE  \nATOM     51    V MOL     1      10.147   1.172   2.485  1.00  0.00           V  \nATOM     52   Fe MOL     1      14.206   1.172   2.485  1.00  0.00          FE  \nATOM     53   Fe MOL     1       4.059   4.687   2.485  1.00  0.00          FE  \nATOM     54   Fe MOL     1       8.118   4.687   2.485  1.00  0.00          FE  \nATOM     55   Fe MOL     1      12.176   4.687   2.485  1.00  0.00          FE  \nATOM     56   Fe MOL     1      16.235   4.687   2.485  1.00  0.00          FE  \nATOM     57   Fe MOL     1       6.088   8.202   2.485  1.00  0.00          FE  \nATOM     58   Fe MOL     1      10.147   8.202   2.485  1.00  0.00          FE  \nATOM     59   Fe MOL     1      14.206   8.202   2.485  1.00  0.00          FE  \nATOM     60   Fe MOL     1      18.265   8.202   2.485  1.00  0.00          FE  \nATOM     61   Fe MOL     1       8.118  11.717   2.485  1.00  0.00          FE  \nATOM     62   Fe MOL     1      12.176  11.717   2.485  1.00  0.00          FE  \nATOM     63   Fe MOL     1      16.235  11.717   2.485  1.00  0.00          FE  \nATOM     64   Fe MOL     1      20.294  11.717   2.485  1.00  0.00          FE  \nATOM     65   Fe MOL     1      -0.000   2.343   3.314  1.00  0.00          FE  \nATOM     66   Fe MOL     1       4.059   2.343   3.314  1.00  0.00          FE  \nATOM     67   Fe MOL     1       8.118   2.343   3.314  1.00  0.00          FE  \nATOM     68   Fe MOL     1      12.176   2.343   3.314  1.00  0.00          FE  \nATOM     69   Fe MOL     1       2.029   5.858   3.314  1.00  0.00          FE  \nATOM     70   Fe MOL     1       6.088   5.858   3.314  1.00  0.00          FE  \nATOM     71   Fe MOL     1      10.147   5.858   3.314  1.00  0.00          FE  \nATOM     72    V MOL     1      14.206   5.858   3.314  1.00  0.00           V  \nATOM     73   Fe MOL     1       4.059   9.373   3.314  1.00  0.00          FE  \nATOM     74   Fe MOL     1       8.118   9.373   3.314  1.00  0.00          FE  \nATOM     75   Fe MOL     1      12.176   9.373   3.314  1.00  0.00          FE  \nATOM     76   Fe MOL     1      16.235   9.373   3.314  1.00  0.00          FE  \nATOM     77   Fe MOL     1       6.088  12.888   3.314  1.00  0.00          FE  \nATOM     78   Fe MOL     1      10.147  12.888   3.314  1.00  0.00          FE  \nATOM     79   Fe MOL     1      14.206  12.888   3.314  1.00  0.00          FE  \nATOM     80   Fe MOL     1      18.265  12.888   3.314  1.00  0.00          FE  \nATOM     81   Fe MOL     1       0.000   0.000   4.142  1.00  0.00          FE  \nATOM     82   Fe MOL     1       4.059   0.000   4.142  1.00  0.00          FE  \nATOM     83   Fe MOL     1       8.118   0.000   4.142  1.00  0.00          FE  \nATOM     84   Fe MOL     1      12.176   0.000   4.142  1.00  0.00          FE  \nATOM     85   Fe MOL     1       2.029   3.515   4.142  1.00  0.00          FE  \nATOM     86   Fe MOL     1       6.088   3.515   4.142  1.00  0.00          FE  \nATOM     87   Fe MOL     1      10.147   3.515   4.142  1.00  0.00          FE  \nATOM     88   Fe MOL     1      14.206   3.515   4.142  1.00  0.00          FE  \nATOM     89   Fe MOL     1       4.059   7.030   4.142  1.00  0.00          FE  \nATOM     90   Fe MOL     1       8.118   7.030   4.142  1.00  0.00          FE  \nATOM     91   Fe MOL     1      12.176   7.030   4.142  1.00  0.00          FE  \nATOM     92   Fe MOL     1      16.235   7.030   4.142  1.00  0.00          FE  \nATOM     93   Fe MOL     1       6.088  10.545   4.142  1.00  0.00          FE  \nATOM     94   Fe MOL     1      10.147  10.545   4.142  1.00  0.00          FE  \nATOM     95   Fe MOL     1      14.206  10.545   4.142  1.00  0.00          FE  \nATOM     96   Fe MOL     1      18.265  10.545   4.142  1.00  0.00          FE  \nENDMDL\n",
           "type": "blob"
          }
         ],
         "kwargs": {
          "defaultRepresentation": false,
          "ext": "pdb"
         },
         "methodName": "loadFile",
         "reconstruc_color_scheme": false,
         "target": "Stage",
         "type": "call_method"
        },
        {
         "args": [
          "400px",
          "300px"
         ],
         "kwargs": {},
         "methodName": "setSize",
         "reconstruc_color_scheme": false,
         "target": "Widget",
         "type": "call_method"
        },
        {
         "args": [
          "unitcell"
         ],
         "component_index": 0,
         "kwargs": {
          "sele": "all"
         },
         "methodName": "addRepresentation",
         "reconstruc_color_scheme": false,
         "target": "compList",
         "type": "call_method"
        },
        {
         "args": [
          "spacefill"
         ],
         "component_index": 0,
         "kwargs": {
          "sele": "all"
         },
         "methodName": "addRepresentation",
         "reconstruc_color_scheme": false,
         "target": "compList",
         "type": "call_method"
        },
        {
         "args": [],
         "kwargs": {
          "cameraType": "orthographic"
         },
         "methodName": "setParameters",
         "reconstruc_color_scheme": false,
         "target": "Stage",
         "type": "call_method"
        },
        {
         "args": [
          {
           "clipDist": 0
          }
         ],
         "kwargs": {},
         "methodName": "setParameters",
         "reconstruc_color_scheme": false,
         "target": "Widget",
         "type": "call_method"
        },
        {
         "args": [
          "spacefill",
          0
         ],
         "kwargs": {
          "colorScale": "rainbow",
          "colorScheme": "element",
          "radiusScale": 0.5,
          "radiusType": "covalent"
         },
         "methodName": "updateRepresentationsByName",
         "reconstruc_color_scheme": false,
         "target": "Widget",
         "type": "call_method"
        },
        {
         "args": [
          "this._Q = [[1.0, 0.0, 0.0], [0.0, 1.0, 0.0], [0.0, 0.0, 1.0]]\n    var tooltip = document.createElement('div')\n    Object.assign(tooltip.style, {\n      display: 'none',\n      position: 'fixed',\n      zIndex: 10,\n      pointerEvents: 'none',\n      backgroundColor: 'rgba( 0, 0, 0, 0.6 )',\n      color: 'lightgrey',\n      padding: '8px',\n      fontFamily: 'sans-serif'\n    })\n    document.body.appendChild(tooltip)\n\n    var that = this\n    this.stage.mouseControls.remove('hoverPick')\n    this.stage.signals.hovered.add(function (pickingProxy) {\n      if (pickingProxy && (pickingProxy.atom || pickingProxy.bond)) {\n        var atom = pickingProxy.atom || pickingProxy.closestBondAtom\n        var mp = pickingProxy.mouse.position\n        //tooltip.innerText = atom.element + ' i=' + atom.index + ' (' + atom.x.toFixed(2) +  ', ' + atom.y.toFixed(2) +  ', ' + atom.z.toFixed(2) + ')'\n        //var pos = that._atoms_pos[atom.index]\n        var Q = that._Q\n        var pos_x = Q[0][0] * atom.x + Q[0][1] * atom.y + Q[0][2] * atom.z \n        var pos_y = Q[1][0] * atom.x + Q[1][1] * atom.y + Q[1][2] * atom.z\n        var pos_z = Q[2][0] * atom.x + Q[2][1] * atom.y + Q[2][2] * atom.z\n        tooltip.innerText = 'i=' + atom.index + ' ' + atom.element + ' (' + pos_x.toFixed(2) +  ', ' + pos_y.toFixed(2) +  ', ' + pos_z.toFixed(2) + ')'\n        tooltip.style.bottom = window.innerHeight - mp.y + 3 + 'px'\n        tooltip.style.left = mp.x + 3 + 'px'\n        tooltip.style.display = 'block'\n      } else {\n        tooltip.style.display = 'none'\n      }\n    })\n    "
         ],
         "kwargs": {},
         "methodName": "executeCode",
         "reconstruc_color_scheme": false,
         "target": "Widget",
         "type": "call_method"
        }
       ],
       "_ngl_original_stage_parameters": {
        "ambientColor": 14540253,
        "ambientIntensity": 0.2,
        "backgroundColor": "white",
        "cameraEyeSep": 0.3,
        "cameraFov": 40,
        "cameraType": "perspective",
        "clipDist": 10,
        "clipFar": 100,
        "clipNear": 0,
        "fogFar": 100,
        "fogNear": 50,
        "hoverTimeout": 0,
        "impostor": true,
        "lightColor": 14540253,
        "lightIntensity": 1,
        "mousePreset": "default",
        "panSpeed": 1,
        "quality": "medium",
        "rotateSpeed": 2,
        "sampleLevel": 0,
        "tooltip": true,
        "workerDefault": true,
        "zoomSpeed": 1.2
       },
       "_ngl_repr_dict": {
        "0": {
         "0": {
          "params": {
           "clipCenter": {
            "x": 0,
            "y": 0,
            "z": 0
           },
           "clipNear": 0,
           "clipRadius": 0,
           "colorMode": "hcl",
           "colorReverse": false,
           "colorScale": "",
           "colorScheme": "element",
           "colorValue": "orange",
           "defaultAssembly": "",
           "depthWrite": true,
           "diffuse": 16777215,
           "diffuseInterior": false,
           "disableImpostor": false,
           "disablePicking": false,
           "flatShaded": false,
           "interiorColor": 2236962,
           "interiorDarkening": 0,
           "lazy": false,
           "matrix": {
            "elements": [
             1,
             0,
             0,
             0,
             0,
             1,
             0,
             0,
             0,
             0,
             1,
             0,
             0,
             0,
             0,
             1
            ]
           },
           "metalness": 0,
           "opacity": 1,
           "quality": "medium",
           "radialSegments": 10,
           "radiusData": {},
           "radiusScale": 1,
           "radiusSize": 0.05214905877346537,
           "radiusType": "vdw",
           "roughness": 0.4,
           "sele": "all",
           "side": "double",
           "sphereDetail": 1,
           "useInteriorColor": true,
           "visible": true,
           "wireframe": false
          },
          "type": "unitcell"
         },
         "1": {
          "params": {
           "assembly": "default",
           "clipCenter": {
            "x": 0,
            "y": 0,
            "z": 0
           },
           "clipNear": 0,
           "clipRadius": 0,
           "colorMode": "hcl",
           "colorReverse": false,
           "colorScale": "rainbow",
           "colorScheme": "element",
           "colorValue": 9474192,
           "defaultAssembly": "",
           "depthWrite": true,
           "diffuse": 16777215,
           "diffuseInterior": false,
           "disableImpostor": false,
           "disablePicking": false,
           "flatShaded": false,
           "interiorColor": 2236962,
           "interiorDarkening": 0,
           "lazy": false,
           "matrix": {
            "elements": [
             1,
             0,
             0,
             0,
             0,
             1,
             0,
             0,
             0,
             0,
             1,
             0,
             0,
             0,
             0,
             1
            ]
           },
           "metalness": 0,
           "opacity": 1,
           "quality": "medium",
           "radiusData": {},
           "radiusScale": 0.5,
           "radiusSize": 1,
           "radiusType": "covalent",
           "roughness": 0.4,
           "sele": "all",
           "side": "double",
           "sphereDetail": 1,
           "useInteriorColor": true,
           "visible": true,
           "wireframe": false
          },
          "type": "spacefill"
         }
        }
       },
       "_ngl_serialize": false,
       "_ngl_version": "2.0.0-dev.36",
       "_ngl_view_id": [
        "21654CFC-036A-46C4-8237-7B85470ADEFD"
       ],
       "_player_dict": {},
       "_scene_position": {},
       "_scene_rotation": {},
       "_synced_model_ids": [],
       "_synced_repr_model_ids": [],
       "_view_height": "",
       "_view_width": "",
       "background": "white",
       "frame": 0,
       "gui_style": null,
       "layout": "IPY_MODEL_baaf6e88dc384aed9881f475fe790c6a",
       "max_frame": 0,
       "n_components": 1,
       "picked": {}
      }
     },
     "b279453d0ac44d699087bd91d3066960": {
      "model_module": "@jupyter-widgets/base",
      "model_module_version": "1.2.0",
      "model_name": "LayoutModel",
      "state": {}
     },
     "b2b2a26efdb34b72aea91969b6b3b537": {
      "model_module": "@jupyter-widgets/base",
      "model_module_version": "1.2.0",
      "model_name": "LayoutModel",
      "state": {}
     },
     "b2d9f7990a9844c7a2f3886ca772a2d5": {
      "model_module": "@jupyter-widgets/controls",
      "model_module_version": "1.5.0",
      "model_name": "TextModel",
      "state": {
       "description": "Filename: ",
       "layout": "IPY_MODEL_009d176bf55845d39a8ba7406e1fa30b",
       "style": "IPY_MODEL_8b15b39f021544d5a8cc380545b8d3ed",
       "value": "screenshot.png"
      }
     },
     "b2f2693489294664a1c54d8231709062": {
      "model_module": "@jupyter-widgets/controls",
      "model_module_version": "1.5.0",
      "model_name": "HBoxModel",
      "state": {
       "children": [
        "IPY_MODEL_7a20175cd9624feca3238249ad7a4d96",
        "IPY_MODEL_c90ac459a6a44a19bc184219592ef2f7"
       ],
       "layout": "IPY_MODEL_90da69ec82554ccb8ef6d5a71dd3bfcb"
      }
     },
     "b32610471e0849dfa19bb591adc9755f": {
      "model_module": "@jupyter-widgets/base",
      "model_module_version": "1.2.0",
      "model_name": "LayoutModel",
      "state": {}
     },
     "b32698b608aa41ea826a0dcabbe5a82a": {
      "model_module": "@jupyter-widgets/controls",
      "model_module_version": "1.5.0",
      "model_name": "ButtonModel",
      "state": {
       "icon": "compress",
       "layout": "IPY_MODEL_297e01bc9b514e3ca22466aca84c4f27",
       "style": "IPY_MODEL_6d2246939e6c4885b3d74166438fe77b"
      }
     },
     "b34be557aa2544cf8fc2c10249026eb3": {
      "model_module": "@jupyter-widgets/base",
      "model_module_version": "1.2.0",
      "model_name": "LayoutModel",
      "state": {}
     },
     "b3831aa119204e438458caf6219f8647": {
      "model_module": "nglview-js-widgets",
      "model_module_version": "3.0.1",
      "model_name": "NGLModel",
      "state": {
       "_camera_orientation": [
        32.64900057953009,
        0,
        0,
        0,
        0,
        32.64900057953009,
        0,
        0,
        0,
        0,
        32.64900057953009,
        0,
        -10.147000312805176,
        -6.443999767303467,
        -2.071000099182129,
        1
       ],
       "_camera_str": "orthographic",
       "_gui_theme": null,
       "_ibtn_fullscreen": "IPY_MODEL_cef22daef695449086110fb63973bdb5",
       "_igui": null,
       "_iplayer": "IPY_MODEL_8d8dddc986384aada9c86ffd74ae3d7b",
       "_ngl_color_dict": {},
       "_ngl_coordinate_resource": {},
       "_ngl_full_stage_parameters": {
        "ambientColor": 14540253,
        "ambientIntensity": 0.2,
        "backgroundColor": "white",
        "cameraEyeSep": 0.3,
        "cameraFov": 40,
        "cameraType": "orthographic",
        "clipDist": 0,
        "clipFar": 100,
        "clipNear": 0,
        "fogFar": 100,
        "fogNear": 50,
        "hoverTimeout": 0,
        "impostor": true,
        "lightColor": 14540253,
        "lightIntensity": 1,
        "mousePreset": "default",
        "panSpeed": 1,
        "quality": "medium",
        "rotateSpeed": 2,
        "sampleLevel": 0,
        "tooltip": true,
        "workerDefault": true,
        "zoomSpeed": 1.2
       },
       "_ngl_msg_archive": [
        {
         "args": [
          {
           "binary": false,
           "data": "CRYST1   16.235   16.235    4.971  90.00  90.00  60.00 P 1\nMODEL     1\nATOM      1   Fe MOL     1       2.029   1.172   0.000  1.00  0.00          FE  \nATOM      2   Fe MOL     1       6.088   1.172   0.000  1.00  0.00          FE  \nATOM      3   Fe MOL     1      10.147   1.172   0.000  1.00  0.00          FE  \nATOM      4   Fe MOL     1      14.206   1.172   0.000  1.00  0.00          FE  \nATOM      5   Fe MOL     1       4.059   4.687   0.000  1.00  0.00          FE  \nATOM      6   Fe MOL     1       8.118   4.687   0.000  1.00  0.00          FE  \nATOM      7   Fe MOL     1      12.176   4.687   0.000  1.00  0.00          FE  \nATOM      8   Fe MOL     1      16.235   4.687   0.000  1.00  0.00          FE  \nATOM      9   Fe MOL     1       6.088   8.202   0.000  1.00  0.00          FE  \nATOM     10   Fe MOL     1      10.147   8.202   0.000  1.00  0.00          FE  \nATOM     11   Fe MOL     1      14.206   8.202   0.000  1.00  0.00          FE  \nATOM     12   Fe MOL     1      18.265   8.202   0.000  1.00  0.00          FE  \nATOM     13   Fe MOL     1       8.118  11.717   0.000  1.00  0.00          FE  \nATOM     14   Fe MOL     1      12.176  11.717   0.000  1.00  0.00          FE  \nATOM     15   Fe MOL     1      16.235  11.717   0.000  1.00  0.00          FE  \nATOM     16   Fe MOL     1      20.294  11.717   0.000  1.00  0.00          FE  \nATOM     17   Fe MOL     1      -0.000   2.343   0.828  1.00  0.00          FE  \nATOM     18   Fe MOL     1       4.059   2.343   0.828  1.00  0.00          FE  \nATOM     19   Fe MOL     1       8.118   2.343   0.828  1.00  0.00          FE  \nATOM     20   Fe MOL     1      12.176   2.343   0.828  1.00  0.00          FE  \nATOM     21   Fe MOL     1       2.029   5.858   0.828  1.00  0.00          FE  \nATOM     22   Fe MOL     1       6.088   5.858   0.828  1.00  0.00          FE  \nATOM     23   Fe MOL     1      10.147   5.858   0.828  1.00  0.00          FE  \nATOM     24   Fe MOL     1      14.206   5.858   0.828  1.00  0.00          FE  \nATOM     25   Fe MOL     1       4.059   9.373   0.828  1.00  0.00          FE  \nATOM     26   Fe MOL     1       8.118   9.373   0.828  1.00  0.00          FE  \nATOM     27   Fe MOL     1      12.176   9.373   0.828  1.00  0.00          FE  \nATOM     28   Fe MOL     1      16.235   9.373   0.828  1.00  0.00          FE  \nATOM     29   Fe MOL     1       6.088  12.888   0.828  1.00  0.00          FE  \nATOM     30   Fe MOL     1      10.147  12.888   0.828  1.00  0.00          FE  \nATOM     31   Fe MOL     1      14.206  12.888   0.828  1.00  0.00          FE  \nATOM     32   Fe MOL     1      18.265  12.888   0.828  1.00  0.00          FE  \nATOM     33   Fe MOL     1       0.000   0.000   1.657  1.00  0.00          FE  \nATOM     34   Fe MOL     1       4.059   0.000   1.657  1.00  0.00          FE  \nATOM     35   Fe MOL     1       8.118   0.000   1.657  1.00  0.00          FE  \nATOM     36   Fe MOL     1      12.176   0.000   1.657  1.00  0.00          FE  \nATOM     37   Fe MOL     1       2.029   3.515   1.657  1.00  0.00          FE  \nATOM     38   Fe MOL     1       6.088   3.515   1.657  1.00  0.00          FE  \nATOM     39   Fe MOL     1      10.147   3.515   1.657  1.00  0.00          FE  \nATOM     40   Fe MOL     1      14.206   3.515   1.657  1.00  0.00          FE  \nATOM     41   Fe MOL     1       4.059   7.030   1.657  1.00  0.00          FE  \nATOM     42   Fe MOL     1       8.118   7.030   1.657  1.00  0.00          FE  \nATOM     43   Fe MOL     1      12.176   7.030   1.657  1.00  0.00          FE  \nATOM     44   Fe MOL     1      16.235   7.030   1.657  1.00  0.00          FE  \nATOM     45   Fe MOL     1       6.088  10.545   1.657  1.00  0.00          FE  \nATOM     46   Fe MOL     1      10.147  10.545   1.657  1.00  0.00          FE  \nATOM     47   Fe MOL     1      14.206  10.545   1.657  1.00  0.00          FE  \nATOM     48   Fe MOL     1      18.265  10.545   1.657  1.00  0.00          FE  \nATOM     49   Fe MOL     1       2.029   1.172   2.485  1.00  0.00          FE  \nATOM     50   Fe MOL     1       6.088   1.172   2.485  1.00  0.00          FE  \nATOM     51   Fe MOL     1      10.147   1.172   2.485  1.00  0.00          FE  \nATOM     52   Fe MOL     1      14.206   1.172   2.485  1.00  0.00          FE  \nATOM     53   Fe MOL     1       4.059   4.687   2.485  1.00  0.00          FE  \nATOM     54   Fe MOL     1       8.118   4.687   2.485  1.00  0.00          FE  \nATOM     55   Fe MOL     1      12.176   4.687   2.485  1.00  0.00          FE  \nATOM     56   Fe MOL     1      16.235   4.687   2.485  1.00  0.00          FE  \nATOM     57   Fe MOL     1       6.088   8.202   2.485  1.00  0.00          FE  \nATOM     58   Fe MOL     1      10.147   8.202   2.485  1.00  0.00          FE  \nATOM     59   Fe MOL     1      14.206   8.202   2.485  1.00  0.00          FE  \nATOM     60   Fe MOL     1      18.265   8.202   2.485  1.00  0.00          FE  \nATOM     61   Fe MOL     1       8.118  11.717   2.485  1.00  0.00          FE  \nATOM     62   Fe MOL     1      12.176  11.717   2.485  1.00  0.00          FE  \nATOM     63   Fe MOL     1      16.235  11.717   2.485  1.00  0.00          FE  \nATOM     64   Fe MOL     1      20.294  11.717   2.485  1.00  0.00          FE  \nATOM     65   Fe MOL     1      -0.000   2.343   3.314  1.00  0.00          FE  \nATOM     66   Fe MOL     1       4.059   2.343   3.314  1.00  0.00          FE  \nATOM     67   Fe MOL     1       8.118   2.343   3.314  1.00  0.00          FE  \nATOM     68   Fe MOL     1      12.176   2.343   3.314  1.00  0.00          FE  \nATOM     69   Fe MOL     1       2.029   5.858   3.314  1.00  0.00          FE  \nATOM     70   Fe MOL     1       6.088   5.858   3.314  1.00  0.00          FE  \nATOM     71   Fe MOL     1      10.147   5.858   3.314  1.00  0.00          FE  \nATOM     72   Fe MOL     1      14.206   5.858   3.314  1.00  0.00          FE  \nATOM     73   Fe MOL     1       4.059   9.373   3.314  1.00  0.00          FE  \nATOM     74   Fe MOL     1       8.118   9.373   3.314  1.00  0.00          FE  \nATOM     75   Fe MOL     1      12.176   9.373   3.314  1.00  0.00          FE  \nATOM     76   Fe MOL     1      16.235   9.373   3.314  1.00  0.00          FE  \nATOM     77   Fe MOL     1       6.088  12.888   3.314  1.00  0.00          FE  \nATOM     78   Fe MOL     1      10.147  12.888   3.314  1.00  0.00          FE  \nATOM     79   Fe MOL     1      14.206  12.888   3.314  1.00  0.00          FE  \nATOM     80   Fe MOL     1      18.265  12.888   3.314  1.00  0.00          FE  \nATOM     81   Fe MOL     1       0.000   0.000   4.142  1.00  0.00          FE  \nATOM     82   Fe MOL     1       4.059   0.000   4.142  1.00  0.00          FE  \nATOM     83   Fe MOL     1       8.118   0.000   4.142  1.00  0.00          FE  \nATOM     84   Fe MOL     1      12.176   0.000   4.142  1.00  0.00          FE  \nATOM     85   Fe MOL     1       2.029   3.515   4.142  1.00  0.00          FE  \nATOM     86   Fe MOL     1       6.088   3.515   4.142  1.00  0.00          FE  \nATOM     87   Fe MOL     1      10.147   3.515   4.142  1.00  0.00          FE  \nATOM     88   Fe MOL     1      14.206   3.515   4.142  1.00  0.00          FE  \nATOM     89   Fe MOL     1       4.059   7.030   4.142  1.00  0.00          FE  \nATOM     90   Fe MOL     1       8.118   7.030   4.142  1.00  0.00          FE  \nATOM     91   Fe MOL     1      12.176   7.030   4.142  1.00  0.00          FE  \nATOM     92   Fe MOL     1      16.235   7.030   4.142  1.00  0.00          FE  \nATOM     93   Fe MOL     1       6.088  10.545   4.142  1.00  0.00          FE  \nATOM     94   Fe MOL     1      10.147  10.545   4.142  1.00  0.00          FE  \nATOM     95   Fe MOL     1      14.206  10.545   4.142  1.00  0.00          FE  \nATOM     96   Fe MOL     1      18.265  10.545   4.142  1.00  0.00          FE  \nENDMDL\n",
           "type": "blob"
          }
         ],
         "kwargs": {
          "defaultRepresentation": false,
          "ext": "pdb"
         },
         "methodName": "loadFile",
         "reconstruc_color_scheme": false,
         "target": "Stage",
         "type": "call_method"
        },
        {
         "args": [
          "400px",
          "300px"
         ],
         "kwargs": {},
         "methodName": "setSize",
         "reconstruc_color_scheme": false,
         "target": "Widget",
         "type": "call_method"
        },
        {
         "args": [
          "unitcell"
         ],
         "component_index": 0,
         "kwargs": {
          "sele": "all"
         },
         "methodName": "addRepresentation",
         "reconstruc_color_scheme": false,
         "target": "compList",
         "type": "call_method"
        },
        {
         "args": [
          "spacefill"
         ],
         "component_index": 0,
         "kwargs": {
          "sele": "all"
         },
         "methodName": "addRepresentation",
         "reconstruc_color_scheme": false,
         "target": "compList",
         "type": "call_method"
        },
        {
         "args": [],
         "kwargs": {
          "cameraType": "orthographic"
         },
         "methodName": "setParameters",
         "reconstruc_color_scheme": false,
         "target": "Stage",
         "type": "call_method"
        },
        {
         "args": [
          {
           "clipDist": 0
          }
         ],
         "kwargs": {},
         "methodName": "setParameters",
         "reconstruc_color_scheme": false,
         "target": "Widget",
         "type": "call_method"
        },
        {
         "args": [
          "spacefill",
          0
         ],
         "kwargs": {
          "colorScale": "rainbow",
          "colorScheme": "element",
          "radiusScale": 0.5,
          "radiusType": "covalent"
         },
         "methodName": "updateRepresentationsByName",
         "reconstruc_color_scheme": false,
         "target": "Widget",
         "type": "call_method"
        },
        {
         "args": [
          "this._Q = [[1.0, 0.0, 0.0], [0.0, 1.0, 0.0], [0.0, 0.0, 1.0]]\n    var tooltip = document.createElement('div')\n    Object.assign(tooltip.style, {\n      display: 'none',\n      position: 'fixed',\n      zIndex: 10,\n      pointerEvents: 'none',\n      backgroundColor: 'rgba( 0, 0, 0, 0.6 )',\n      color: 'lightgrey',\n      padding: '8px',\n      fontFamily: 'sans-serif'\n    })\n    document.body.appendChild(tooltip)\n\n    var that = this\n    this.stage.mouseControls.remove('hoverPick')\n    this.stage.signals.hovered.add(function (pickingProxy) {\n      if (pickingProxy && (pickingProxy.atom || pickingProxy.bond)) {\n        var atom = pickingProxy.atom || pickingProxy.closestBondAtom\n        var mp = pickingProxy.mouse.position\n        //tooltip.innerText = atom.element + ' i=' + atom.index + ' (' + atom.x.toFixed(2) +  ', ' + atom.y.toFixed(2) +  ', ' + atom.z.toFixed(2) + ')'\n        //var pos = that._atoms_pos[atom.index]\n        var Q = that._Q\n        var pos_x = Q[0][0] * atom.x + Q[0][1] * atom.y + Q[0][2] * atom.z \n        var pos_y = Q[1][0] * atom.x + Q[1][1] * atom.y + Q[1][2] * atom.z\n        var pos_z = Q[2][0] * atom.x + Q[2][1] * atom.y + Q[2][2] * atom.z\n        tooltip.innerText = 'i=' + atom.index + ' ' + atom.element + ' (' + pos_x.toFixed(2) +  ', ' + pos_y.toFixed(2) +  ', ' + pos_z.toFixed(2) + ')'\n        tooltip.style.bottom = window.innerHeight - mp.y + 3 + 'px'\n        tooltip.style.left = mp.x + 3 + 'px'\n        tooltip.style.display = 'block'\n      } else {\n        tooltip.style.display = 'none'\n      }\n    })\n    "
         ],
         "kwargs": {},
         "methodName": "executeCode",
         "reconstruc_color_scheme": false,
         "target": "Widget",
         "type": "call_method"
        }
       ],
       "_ngl_original_stage_parameters": {
        "ambientColor": 14540253,
        "ambientIntensity": 0.2,
        "backgroundColor": "white",
        "cameraEyeSep": 0.3,
        "cameraFov": 40,
        "cameraType": "perspective",
        "clipDist": 10,
        "clipFar": 100,
        "clipNear": 0,
        "fogFar": 100,
        "fogNear": 50,
        "hoverTimeout": 0,
        "impostor": true,
        "lightColor": 14540253,
        "lightIntensity": 1,
        "mousePreset": "default",
        "panSpeed": 1,
        "quality": "medium",
        "rotateSpeed": 2,
        "sampleLevel": 0,
        "tooltip": true,
        "workerDefault": true,
        "zoomSpeed": 1.2
       },
       "_ngl_repr_dict": {
        "0": {
         "0": {
          "params": {
           "clipCenter": {
            "x": 0,
            "y": 0,
            "z": 0
           },
           "clipNear": 0,
           "clipRadius": 0,
           "colorMode": "hcl",
           "colorReverse": false,
           "colorScale": "",
           "colorScheme": "element",
           "colorValue": "orange",
           "defaultAssembly": "",
           "depthWrite": true,
           "diffuse": 16777215,
           "diffuseInterior": false,
           "disableImpostor": false,
           "disablePicking": false,
           "flatShaded": false,
           "interiorColor": 2236962,
           "interiorDarkening": 0,
           "lazy": false,
           "matrix": {
            "elements": [
             1,
             0,
             0,
             0,
             0,
             1,
             0,
             0,
             0,
             0,
             1,
             0,
             0,
             0,
             0,
             1
            ]
           },
           "metalness": 0,
           "opacity": 1,
           "quality": "medium",
           "radialSegments": 10,
           "radiusData": {},
           "radiusScale": 1,
           "radiusSize": 0.05214905877346537,
           "radiusType": "vdw",
           "roughness": 0.4,
           "sele": "all",
           "side": "double",
           "sphereDetail": 1,
           "useInteriorColor": true,
           "visible": true,
           "wireframe": false
          },
          "type": "unitcell"
         },
         "1": {
          "params": {
           "assembly": "default",
           "clipCenter": {
            "x": 0,
            "y": 0,
            "z": 0
           },
           "clipNear": 0,
           "clipRadius": 0,
           "colorMode": "hcl",
           "colorReverse": false,
           "colorScale": "rainbow",
           "colorScheme": "element",
           "colorValue": 9474192,
           "defaultAssembly": "",
           "depthWrite": true,
           "diffuse": 16777215,
           "diffuseInterior": false,
           "disableImpostor": false,
           "disablePicking": false,
           "flatShaded": false,
           "interiorColor": 2236962,
           "interiorDarkening": 0,
           "lazy": false,
           "matrix": {
            "elements": [
             1,
             0,
             0,
             0,
             0,
             1,
             0,
             0,
             0,
             0,
             1,
             0,
             0,
             0,
             0,
             1
            ]
           },
           "metalness": 0,
           "opacity": 1,
           "quality": "medium",
           "radiusData": {},
           "radiusScale": 0.5,
           "radiusSize": 1,
           "radiusType": "covalent",
           "roughness": 0.4,
           "sele": "all",
           "side": "double",
           "sphereDetail": 1,
           "useInteriorColor": true,
           "visible": true,
           "wireframe": false
          },
          "type": "spacefill"
         }
        }
       },
       "_ngl_serialize": false,
       "_ngl_version": "2.0.0-dev.36",
       "_ngl_view_id": [
        "40CA99D2-052A-44DA-9549-222757C38AA2"
       ],
       "_player_dict": {},
       "_scene_position": {},
       "_scene_rotation": {},
       "_synced_model_ids": [],
       "_synced_repr_model_ids": [],
       "_view_height": "",
       "_view_width": "",
       "background": "white",
       "frame": 0,
       "gui_style": null,
       "layout": "IPY_MODEL_5000db94f19d491eb2371f002a126517",
       "max_frame": 0,
       "n_components": 1,
       "picked": {}
      }
     },
     "b3a3fc3aac9940348197f71aae45660b": {
      "model_module": "@jupyter-widgets/base",
      "model_module_version": "1.2.0",
      "model_name": "LayoutModel",
      "state": {}
     },
     "b46a2f7cfb9f4e57834cc6bd256939b8": {
      "model_module": "@jupyter-widgets/controls",
      "model_module_version": "1.5.0",
      "model_name": "DescriptionStyleModel",
      "state": {
       "description_width": ""
      }
     },
     "b46fcab7e39c43deaf59c32dbb6460fd": {
      "model_module": "@jupyter-widgets/base",
      "model_module_version": "1.2.0",
      "model_name": "LayoutModel",
      "state": {}
     },
     "b4a050a217e64dfda36934b7c54ff1a3": {
      "model_module": "@jupyter-widgets/controls",
      "model_module_version": "1.5.0",
      "model_name": "DescriptionStyleModel",
      "state": {
       "description_width": ""
      }
     },
     "b4ab9dd37a2a442299c93413bc8e2f43": {
      "model_module": "@jupyter-widgets/base",
      "model_module_version": "1.2.0",
      "model_name": "LayoutModel",
      "state": {}
     },
     "b4b7f0501a644d03abffaef6583a583f": {
      "model_module": "@jupyter-widgets/base",
      "model_module_version": "1.2.0",
      "model_name": "LayoutModel",
      "state": {}
     },
     "b5bcf40c370043f0b70b53d9a8176b12": {
      "model_module": "@jupyter-widgets/controls",
      "model_module_version": "1.5.0",
      "model_name": "LinkModel",
      "state": {
       "source": [
        "IPY_MODEL_004d656aeff34ca39d87f39acdeed466",
        "value"
       ],
       "target": [
        "IPY_MODEL_55bd5ffb27344149af9bcd3d5ccc9370",
        "value"
       ]
      }
     },
     "b68962ed564946ee9f53f8ea8ccd92ed": {
      "model_module": "@jupyter-widgets/controls",
      "model_module_version": "1.5.0",
      "model_name": "VBoxModel",
      "state": {
       "children": [
        "IPY_MODEL_a11ea92db17a4af589d05f6c719c5e26",
        "IPY_MODEL_336b6bcbb6a748a38c8c17553ca5783a",
        "IPY_MODEL_0d9fa9068ca9481eb2779f3963ca70c9",
        "IPY_MODEL_84262a42b1f0418090a56a3bf1679eff",
        "IPY_MODEL_8529361a5753419898b50a0bcc6862cd",
        "IPY_MODEL_8dae925bbef445c9bc924ad26a9353b4",
        "IPY_MODEL_332c475456e1497fa12e67a07d71277e",
        "IPY_MODEL_b73b63c2cfbb46c690ff71e5952e9111",
        "IPY_MODEL_57aa1f9a3094475a85472203882f162a",
        "IPY_MODEL_fce2433ef2f647118a051ec7db7c4be1"
       ],
       "layout": "IPY_MODEL_0d64f7c947194989be679d54ab31a4e2"
      }
     },
     "b693947d009448cd9c1acd0a54646814": {
      "model_module": "@jupyter-widgets/controls",
      "model_module_version": "1.5.0",
      "model_name": "SliderStyleModel",
      "state": {
       "description_width": ""
      }
     },
     "b6bca8bd024b446e994803db1bb87822": {
      "model_module": "@jupyter-widgets/base",
      "model_module_version": "1.2.0",
      "model_name": "LayoutModel",
      "state": {}
     },
     "b7012e811e654683b71388d56508fc38": {
      "model_module": "@jupyter-widgets/controls",
      "model_module_version": "1.5.0",
      "model_name": "ButtonStyleModel",
      "state": {}
     },
     "b73b63c2cfbb46c690ff71e5952e9111": {
      "model_module": "@jupyter-widgets/controls",
      "model_module_version": "1.5.0",
      "model_name": "CheckboxModel",
      "state": {
       "description": "Show charge",
       "disabled": false,
       "layout": "IPY_MODEL_9e2de236d1504c329bd4261c50ef19fb",
       "style": "IPY_MODEL_d877763353dc435daf0d73685b1a5825",
       "value": false
      }
     },
     "b799fe5930f546ce8e723bdfcaf57506": {
      "model_module": "@jupyter-widgets/controls",
      "model_module_version": "1.5.0",
      "model_name": "SliderStyleModel",
      "state": {
       "description_width": ""
      }
     },
     "b824abc9c9eb453bbfa4c794c6514ec9": {
      "model_module": "@jupyter-widgets/controls",
      "model_module_version": "1.5.0",
      "model_name": "DescriptionStyleModel",
      "state": {
       "description_width": ""
      }
     },
     "b953cc85a49341b292e58cf0f457315d": {
      "model_module": "@jupyter-widgets/controls",
      "model_module_version": "1.5.0",
      "model_name": "DescriptionStyleModel",
      "state": {
       "description_width": ""
      }
     },
     "b9bbd9b5e67d4cd6820f142fb6167a70": {
      "model_module": "@jupyter-widgets/controls",
      "model_module_version": "1.5.0",
      "model_name": "LinkModel",
      "state": {
       "source": [
        "IPY_MODEL_506d79d7327947e8ab3d9d94b6ca6e82",
        "value"
       ],
       "target": [
        "IPY_MODEL_618180f037874dcba063fdd0d4f8034c",
        "frame"
       ]
      }
     },
     "ba10fc26551e49e5b57230ad2cc5941b": {
      "model_module": "@jupyter-widgets/base",
      "model_module_version": "1.2.0",
      "model_name": "LayoutModel",
      "state": {}
     },
     "ba3b674fc1a9446aaaa05b73f011ac45": {
      "model_module": "@jupyter-widgets/base",
      "model_module_version": "1.2.0",
      "model_name": "LayoutModel",
      "state": {}
     },
     "ba63d99b73134fa1bdc4a2548070bbfb": {
      "model_module": "@jupyter-widgets/base",
      "model_module_version": "1.2.0",
      "model_name": "LayoutModel",
      "state": {}
     },
     "ba9a741281db4bd38130e2366fc2e202": {
      "model_module": "@jupyter-widgets/controls",
      "model_module_version": "1.5.0",
      "model_name": "CheckboxModel",
      "state": {
       "description": "Show force",
       "disabled": false,
       "layout": "IPY_MODEL_33e3a34dcf2e49438adbf7b7b183bc19",
       "style": "IPY_MODEL_d267138bc5404002b65fc75ac75c07a9",
       "value": false
      }
     },
     "baaf6e88dc384aed9881f475fe790c6a": {
      "model_module": "@jupyter-widgets/base",
      "model_module_version": "1.2.0",
      "model_name": "LayoutModel",
      "state": {}
     },
     "baedf26531744d658943d2c211077dc7": {
      "model_module": "@jupyter-widgets/base",
      "model_module_version": "1.2.0",
      "model_name": "LayoutModel",
      "state": {}
     },
     "bb2d707e48c44384a4a57f322d4895f9": {
      "model_module": "@jupyter-widgets/controls",
      "model_module_version": "1.5.0",
      "model_name": "DescriptionStyleModel",
      "state": {
       "description_width": ""
      }
     },
     "bb4ffc48d914436b9842ffda7f314371": {
      "model_module": "@jupyter-widgets/controls",
      "model_module_version": "1.5.0",
      "model_name": "TextModel",
      "state": {
       "description": "Filename: ",
       "layout": "IPY_MODEL_85a4cf56138542d8a77031d181e58456",
       "style": "IPY_MODEL_a03c6ff89d29447389bc8eab7f27f7aa",
       "value": "screenshot.png"
      }
     },
     "bb96171323194bd1beb1505cbbe11c04": {
      "model_module": "@jupyter-widgets/controls",
      "model_module_version": "1.5.0",
      "model_name": "LinkModel",
      "state": {
       "source": [
        "IPY_MODEL_73b1b9e5d3324435acfe87aaea270405",
        "value"
       ],
       "target": [
        "IPY_MODEL_0bd1362bc7944b0585f3c0bb5f51654a",
        "frame"
       ]
      }
     },
     "bbc5a5d8d2494dccb750efeedd3912ac": {
      "model_module": "@jupyter-widgets/controls",
      "model_module_version": "1.5.0",
      "model_name": "HBoxModel",
      "state": {
       "children": [
        "IPY_MODEL_1935e14fee1c49dcbdede10ab44be8bb",
        "IPY_MODEL_09e037a6c0914c7d953207eccb098658"
       ],
       "layout": "IPY_MODEL_cb35fa000db04e438a7661d5ec968da6"
      }
     },
     "bc3627fd586247c7a6467b574722280e": {
      "model_module": "@jupyter-widgets/controls",
      "model_module_version": "1.5.0",
      "model_name": "DescriptionStyleModel",
      "state": {
       "description_width": ""
      }
     },
     "bcd05f581cb542dab78c8bf1a129d4d3": {
      "model_module": "@jupyter-widgets/base",
      "model_module_version": "1.2.0",
      "model_name": "LayoutModel",
      "state": {
       "border": "0px solid black"
      }
     },
     "bd19c92c23de45708e948538df39c7cc": {
      "model_module": "@jupyter-widgets/controls",
      "model_module_version": "1.5.0",
      "model_name": "ButtonModel",
      "state": {
       "description": "Download image",
       "layout": "IPY_MODEL_f14291328ded4f5ea5ac534f629bac3c",
       "style": "IPY_MODEL_0987a0c6222548d1908a677aca90554f",
       "tooltip": "Download current frame to your local PC"
      }
     },
     "bd51e851f35a434da89633c8fe55bd06": {
      "model_module": "@jupyter-widgets/base",
      "model_module_version": "1.2.0",
      "model_name": "LayoutModel",
      "state": {}
     },
     "bdc6a5d5e7a441f0ad1481f5fd190f39": {
      "model_module": "@jupyter-widgets/controls",
      "model_module_version": "1.5.0",
      "model_name": "DescriptionStyleModel",
      "state": {
       "description_width": ""
      }
     },
     "bde8bd9ed58143a48d1f92b5826948c1": {
      "model_module": "@jupyter-widgets/base",
      "model_module_version": "1.2.0",
      "model_name": "LayoutModel",
      "state": {}
     },
     "be3227259bf043638fdf3d09007f4108": {
      "model_module": "@jupyter-widgets/controls",
      "model_module_version": "1.5.0",
      "model_name": "HBoxModel",
      "state": {
       "children": [
        "IPY_MODEL_395f0dd2f63e4c198c3fbb28babb6ce3",
        "IPY_MODEL_4445df081e984d3e85622cc1c667e68b"
       ],
       "layout": "IPY_MODEL_3866fb2722e84078bb00308446879a16"
      }
     },
     "be86936f338d434b8b86cea179623c93": {
      "model_module": "@jupyter-widgets/controls",
      "model_module_version": "1.5.0",
      "model_name": "CheckboxModel",
      "state": {
       "description": "Show force",
       "disabled": false,
       "layout": "IPY_MODEL_4144d09c80964a708e269436932fa391",
       "style": "IPY_MODEL_6369a8aa33f6476d9641874c248191f5",
       "value": false
      }
     },
     "bf28ab41330f44d9babe3ca8987e54db": {
      "model_module": "@jupyter-widgets/controls",
      "model_module_version": "1.5.0",
      "model_name": "DescriptionStyleModel",
      "state": {
       "description_width": ""
      }
     },
     "bf52d5180d2746cebb34d4665619a964": {
      "model_module": "@jupyter-widgets/controls",
      "model_module_version": "1.5.0",
      "model_name": "FloatSliderModel",
      "state": {
       "description": "Ball size",
       "layout": "IPY_MODEL_6b5c11f269d24f979c29ac96e9aa43a1",
       "max": 1.5,
       "step": 0.01,
       "style": "IPY_MODEL_8d39e81c27ae415fbbc7a9ae2ed7e4a1",
       "value": 0.5
      }
     },
     "bf54bfca7b30406d80f7fc672f6c3a2a": {
      "model_module": "@jupyter-widgets/base",
      "model_module_version": "1.2.0",
      "model_name": "LayoutModel",
      "state": {}
     },
     "bf7f7fd8353b419680c721675e7f5596": {
      "model_module": "@jupyter-widgets/controls",
      "model_module_version": "1.5.0",
      "model_name": "LinkModel",
      "state": {
       "source": [
        "IPY_MODEL_2c883402eb124288bf38f2ff7b97c58a",
        "value"
       ],
       "target": [
        "IPY_MODEL_8f26bed155344193afd1af5dc38282d1",
        "value"
       ]
      }
     },
     "bfc91be771f7427198cf62d8773afac6": {
      "model_module": "@jupyter-widgets/controls",
      "model_module_version": "1.5.0",
      "model_name": "LinkModel",
      "state": {
       "source": [
        "IPY_MODEL_7d45a10ab10a4e69a326db3d3fbbd48c",
        "max"
       ],
       "target": [
        "IPY_MODEL_618180f037874dcba063fdd0d4f8034c",
        "max_frame"
       ]
      }
     },
     "bfd4cad5f5bd485687ff3f9a171295cd": {
      "model_module": "@jupyter-widgets/base",
      "model_module_version": "1.2.0",
      "model_name": "LayoutModel",
      "state": {
       "width": "34px"
      }
     },
     "c0117ed1d4034c50b5731c23ec3c756f": {
      "model_module": "@jupyter-widgets/output",
      "model_module_version": "1.0.0",
      "model_name": "OutputModel",
      "state": {
       "layout": "IPY_MODEL_0f48a3ee3de349c48a61783f320db80f"
      }
     },
     "c077d1feb16242a0856bbc2434e9d879": {
      "model_module": "@jupyter-widgets/controls",
      "model_module_version": "1.5.0",
      "model_name": "DescriptionStyleModel",
      "state": {
       "description_width": ""
      }
     },
     "c0ee6fc9c825482491d8ac1dedcc5140": {
      "model_module": "@jupyter-widgets/base",
      "model_module_version": "1.2.0",
      "model_name": "LayoutModel",
      "state": {}
     },
     "c1797afc39544f1a885745c1671a0db9": {
      "model_module": "@jupyter-widgets/base",
      "model_module_version": "1.2.0",
      "model_name": "LayoutModel",
      "state": {}
     },
     "c2287df68e0741a0b4aa0375da732c28": {
      "model_module": "@jupyter-widgets/controls",
      "model_module_version": "1.5.0",
      "model_name": "LinkModel",
      "state": {
       "source": [
        "IPY_MODEL_298d9d8580a94e20bae138dbc063756a",
        "value"
       ],
       "target": [
        "IPY_MODEL_60d99a366d2d487d91ecf4d4046b9d07",
        "value"
       ]
      }
     },
     "c274356efc364470bcf1bcc91fb48f2f": {
      "model_module": "@jupyter-widgets/controls",
      "model_module_version": "1.5.0",
      "model_name": "ButtonStyleModel",
      "state": {}
     },
     "c30164fe884e452ab01e1b9c23c862cc": {
      "model_module": "@jupyter-widgets/base",
      "model_module_version": "1.2.0",
      "model_name": "LayoutModel",
      "state": {}
     },
     "c3c8616a34764e97a69545f48debe927": {
      "model_module": "@jupyter-widgets/controls",
      "model_module_version": "1.5.0",
      "model_name": "SliderStyleModel",
      "state": {
       "description_width": ""
      }
     },
     "c44d72a5fac441ca8993064e069dbf42": {
      "model_module": "@jupyter-widgets/controls",
      "model_module_version": "1.5.0",
      "model_name": "SliderStyleModel",
      "state": {
       "description_width": ""
      }
     },
     "c4d388ede3fe4071a7ccf3d04d41504b": {
      "model_module": "@jupyter-widgets/controls",
      "model_module_version": "1.5.0",
      "model_name": "FloatSliderModel",
      "state": {
       "description": "Charge scale",
       "layout": "IPY_MODEL_159e06f527394d0c83e19e52c96761b5",
       "step": 0.1,
       "style": "IPY_MODEL_3c3d86906efc4aca800f7010c1ad7bcf",
       "value": 1
      }
     },
     "c4e52bdc1f1240a5aa78a3b3cc204d9d": {
      "model_module": "@jupyter-widgets/base",
      "model_module_version": "1.2.0",
      "model_name": "LayoutModel",
      "state": {}
     },
     "c55e4f7ff67f4abaac9a7a6d480f52c2": {
      "model_module": "@jupyter-widgets/controls",
      "model_module_version": "1.5.0",
      "model_name": "HBoxModel",
      "state": {
       "children": [
        "IPY_MODEL_78d5411d07c0470db8465afd86d47175",
        "IPY_MODEL_5c9fc846c7b349ba84b28cb370b680d4"
       ],
       "layout": "IPY_MODEL_325559e8553f4eb7b783065d3af40a56"
      }
     },
     "c560531fe149482f8967d2b544cfc980": {
      "model_module": "@jupyter-widgets/controls",
      "model_module_version": "1.5.0",
      "model_name": "CheckboxModel",
      "state": {
       "description": "Show charge",
       "disabled": false,
       "layout": "IPY_MODEL_c0ee6fc9c825482491d8ac1dedcc5140",
       "style": "IPY_MODEL_fd0583bdcb1a47b5ba88e2faf111cc56",
       "value": false
      }
     },
     "c60ef438e1b94641a0c9d8bbf4e54ff8": {
      "model_module": "@jupyter-widgets/base",
      "model_module_version": "1.2.0",
      "model_name": "LayoutModel",
      "state": {
       "width": "34px"
      }
     },
     "c726cc41e5c843b08086eebabb2f628b": {
      "model_module": "nglview-js-widgets",
      "model_module_version": "3.0.1",
      "model_name": "NGLModel",
      "state": {
       "_camera_orientation": [
        60.44071006989563,
        0,
        0,
        0,
        0,
        60.44071006989563,
        0,
        0,
        0,
        0,
        60.44071006989563,
        0,
        -20.191500306129456,
        -13.725000143051147,
        -12.510999710299075,
        1
       ],
       "_camera_str": "orthographic",
       "_gui_theme": null,
       "_ibtn_fullscreen": "IPY_MODEL_85fa22623d6d48b8bde331bf353a833a",
       "_igui": null,
       "_iplayer": "IPY_MODEL_e70d389f8d3f485b88104352e21be9fc",
       "_ngl_color_dict": {},
       "_ngl_coordinate_resource": {},
       "_ngl_full_stage_parameters": {
        "ambientColor": 14540253,
        "ambientIntensity": 0.2,
        "backgroundColor": "white",
        "cameraEyeSep": 0.3,
        "cameraFov": 40,
        "cameraType": "orthographic",
        "clipDist": 0,
        "clipFar": 100,
        "clipNear": 0,
        "fogFar": 100,
        "fogNear": 50,
        "hoverTimeout": 0,
        "impostor": true,
        "lightColor": 14540253,
        "lightIntensity": 1,
        "mousePreset": "default",
        "panSpeed": 1,
        "quality": "medium",
        "rotateSpeed": 2,
        "sampleLevel": 0,
        "tooltip": true,
        "workerDefault": true,
        "zoomSpeed": 1.2
       },
       "_ngl_msg_archive": [
        {
         "args": [
          {
           "binary": false,
           "data": "CRYST1   15.358   23.038   30.717  60.00  60.00  60.00 P 1\nMODEL     1\nATOM      1   Si MOL     1       5.961   9.679   0.109  1.00  0.00          SI  \nATOM      2   Si MOL     1       2.023   1.095   1.023  1.00  0.00          SI  \nATOM      3   Si MOL     1       7.748  10.977   3.254  1.00  0.00          SI  \nATOM      4   Si MOL     1       3.709   2.257   3.742  1.00  0.00          SI  \nATOM      5   Si MOL     1      16.904  11.969   6.333  1.00  0.00          SI  \nATOM      6   Si MOL     1       5.726   3.364   6.824  1.00  0.00          SI  \nATOM      7   Si MOL     1      13.073   3.279   9.198  1.00  0.00          SI  \nATOM      8   Si MOL     1       7.975   4.406  10.226  1.00  0.00          SI  \nATOM      9   Si MOL     1       2.056   3.112   0.152  1.00  0.00          SI  \nATOM     10   Si MOL     1       3.695   4.702   0.904  1.00  0.00          SI  \nATOM     11   Si MOL     1      11.470   4.412   3.390  1.00  0.00          SI  \nATOM     12   Si MOL     1       6.045   5.423   3.974  1.00  0.00          SI  \nATOM     13   Si MOL     1      13.471   5.720   6.296  1.00  0.00          SI  \nATOM     14   Si MOL     1       7.467   6.405   7.321  1.00  0.00          SI  \nATOM     15   Si MOL     1       7.865   6.820   9.212  1.00  0.00          SI  \nATOM     16   Si MOL     1       9.757   7.473  10.639  1.00  0.00          SI  \nATOM     17   Si MOL     1      11.189  10.645  12.138  1.00  0.00          SI  \nATOM     18   Si MOL     1       5.953   7.957   0.819  1.00  0.00          SI  \nATOM     19   Si MOL     1      13.278   8.004   2.799  1.00  0.00          SI  \nATOM     20   Si MOL     1       7.649   8.939   4.104  1.00  0.00          SI  \nATOM     21   Si MOL     1      15.337   9.151   6.350  1.00  0.00          SI  \nATOM     22   Si MOL     1       9.402  10.149   6.884  1.00  0.00          SI  \nATOM     23   Si MOL     1      17.242   9.889   9.461  1.00  0.00          SI  \nATOM     24   Si MOL     1      11.188  11.196   9.756  1.00  0.00          SI  \nATOM     25   Si MOL     1      12.080   4.570  12.401  1.00  0.00          SI  \nATOM     26   Si MOL     1       5.651   1.072   0.530  1.00  0.00          SI  \nATOM     27   Si MOL     1       5.668   1.307   3.106  1.00  0.00          SI  \nATOM     28   Si MOL     1       7.606   2.391   3.963  1.00  0.00          SI  \nATOM     29   Si MOL     1      13.486  11.922   6.311  1.00  0.00          SI  \nATOM     30   Si MOL     1       9.494   3.416   7.008  1.00  0.00          SI  \nATOM     31   Si MOL     1       9.878   3.408   9.310  1.00  0.00          SI  \nATOM     32   Si MOL     1      11.410   4.226  10.053  1.00  0.00          SI  \nATOM     33   Si MOL     1       5.684   2.802   0.014  1.00  0.00          SI  \nATOM     34   Si MOL     1       7.771   4.138   0.612  1.00  0.00          SI  \nATOM     35   Si MOL     1       7.868   4.225   3.092  1.00  0.00          SI  \nATOM     36   Si MOL     1       9.576   5.644   4.050  1.00  0.00          SI  \nATOM     37   Si MOL     1       9.712   5.767   5.931  1.00  0.00          SI  \nATOM     38   Si MOL     1      11.365   6.664   7.234  1.00  0.00          SI  \nATOM     39   Si MOL     1      11.379   6.505   9.679  1.00  0.00          SI  \nATOM     40   Si MOL     1      13.498   7.988  10.331  1.00  0.00          SI  \nATOM     41   Si MOL     1      15.606  11.016  12.468  1.00  0.00          SI  \nATOM     42   Si MOL     1       9.642   7.904   0.673  1.00  0.00          SI  \nATOM     43   Si MOL     1       9.073   7.962   2.941  1.00  0.00          SI  \nATOM     44   Si MOL     1      11.295   8.472   3.842  1.00  0.00          SI  \nATOM     45   Si MOL     1      11.524   8.922   6.141  1.00  0.00          SI  \nATOM     46   Si MOL     1      13.593   9.968   7.252  1.00  0.00          SI  \nATOM     47   Si MOL     1      13.531   9.885   9.561  1.00  0.00          SI  \nATOM     48   Si MOL     1      15.240  10.890  10.158  1.00  0.00          SI  \nATOM     49   Si MOL     1      13.640  14.112  12.649  1.00  0.00          SI  \nATOM     50   Si MOL     1       9.702   5.529  13.563  1.00  0.00          SI  \nATOM     51   Si MOL     1      15.428  15.410  15.794  1.00  0.00          SI  \nATOM     52   Si MOL     1      11.388   6.691  16.282  1.00  0.00          SI  \nATOM     53   Si MOL     1      24.584  16.402  18.873  1.00  0.00          SI  \nATOM     54   Si MOL     1      13.405   7.798  19.364  1.00  0.00          SI  \nATOM     55   Si MOL     1      20.752   7.713  21.738  1.00  0.00          SI  \nATOM     56   Si MOL     1      15.654   8.840  22.766  1.00  0.00          SI  \nATOM     57   Si MOL     1       9.735   7.546  12.692  1.00  0.00          SI  \nATOM     58   Si MOL     1      11.374   9.136  13.444  1.00  0.00          SI  \nATOM     59   Si MOL     1      19.149   8.846  15.930  1.00  0.00          SI  \nATOM     60   Si MOL     1      13.724   9.856  16.514  1.00  0.00          SI  \nATOM     61   Si MOL     1      21.150  10.154  18.836  1.00  0.00          SI  \nATOM     62   Si MOL     1      15.146  10.838  19.861  1.00  0.00          SI  \nATOM     63   Si MOL     1      15.544  11.253  21.752  1.00  0.00          SI  \nATOM     64   Si MOL     1      17.436  11.907  23.179  1.00  0.00          SI  \nATOM     65   Si MOL     1      18.868  15.079  24.678  1.00  0.00          SI  \nATOM     66   Si MOL     1      13.632  12.390  13.359  1.00  0.00          SI  \nATOM     67   Si MOL     1      20.957  12.438  15.339  1.00  0.00          SI  \nATOM     68   Si MOL     1      15.328  13.373  16.644  1.00  0.00          SI  \nATOM     69   Si MOL     1      23.016  13.585  18.890  1.00  0.00          SI  \nATOM     70   Si MOL     1      17.081  14.582  19.424  1.00  0.00          SI  \nATOM     71   Si MOL     1      24.922  14.322  22.001  1.00  0.00          SI  \nATOM     72   Si MOL     1      18.867  15.630  22.296  1.00  0.00          SI  \nATOM     73   Si MOL     1      19.759   9.004  24.941  1.00  0.00          SI  \nATOM     74   Si MOL     1      13.330   5.506  13.070  1.00  0.00          SI  \nATOM     75   Si MOL     1      13.347   5.740  15.646  1.00  0.00          SI  \nATOM     76   Si MOL     1      15.285   6.824  16.503  1.00  0.00          SI  \nATOM     77   Si MOL     1      21.165  16.356  18.851  1.00  0.00          SI  \nATOM     78   Si MOL     1      17.174   7.850  19.548  1.00  0.00          SI  \nATOM     79   Si MOL     1      17.557   7.842  21.850  1.00  0.00          SI  \nATOM     80   Si MOL     1      19.089   8.660  22.593  1.00  0.00          SI  \nATOM     81   Si MOL     1      13.363   7.236  12.554  1.00  0.00          SI  \nATOM     82   Si MOL     1      15.450   8.572  13.152  1.00  0.00          SI  \nATOM     83   Si MOL     1      15.547   8.659  15.633  1.00  0.00          SI  \nATOM     84   Si MOL     1      17.255  10.077  16.590  1.00  0.00          SI  \nATOM     85   Si MOL     1      17.391  10.200  18.471  1.00  0.00          SI  \nATOM     86   Si MOL     1      19.045  11.098  19.774  1.00  0.00          SI  \nATOM     87   Si MOL     1      19.058  10.939  22.219  1.00  0.00          SI  \nATOM     88   Si MOL     1      21.177  12.421  22.872  1.00  0.00          SI  \nATOM     89   Si MOL     1      23.285  15.450  25.008  1.00  0.00          SI  \nATOM     90   Si MOL     1      17.321  12.338  13.213  1.00  0.00          SI  \nATOM     91   Si MOL     1      16.753  12.396  15.481  1.00  0.00          SI  \nATOM     92   Si MOL     1      18.974  12.906  16.382  1.00  0.00          SI  \nATOM     93   Si MOL     1      19.204  13.356  18.681  1.00  0.00          SI  \nATOM     94   Si MOL     1      21.272  14.401  19.792  1.00  0.00          SI  \nATOM     95   Si MOL     1      21.210  14.319  22.101  1.00  0.00          SI  \nATOM     96   Si MOL     1      22.919  15.323  22.698  1.00  0.00          SI  \nATOM     97   Si MOL     1      11.720  19.654   0.109  1.00  0.00          SI  \nATOM     98   Si MOL     1       7.782  11.071   1.023  1.00  0.00          SI  \nATOM     99   Si MOL     1      13.508  20.952   3.254  1.00  0.00          SI  \nATOM    100   Si MOL     1       9.468  12.233   3.742  1.00  0.00          SI  \nATOM    101   Si MOL     1      22.664  21.944   6.333  1.00  0.00          SI  \nATOM    102   Si MOL     1      11.486  13.340   6.824  1.00  0.00          SI  \nATOM    103   Si MOL     1      18.832  13.255   9.198  1.00  0.00          SI  \nATOM    104   Si MOL     1      13.734  14.382  10.226  1.00  0.00          SI  \nATOM    105   Si MOL     1       7.816  13.088   0.152  1.00  0.00          SI  \nATOM    106   Si MOL     1       9.454  14.678   0.904  1.00  0.00          SI  \nATOM    107   Si MOL     1      17.229  14.388   3.390  1.00  0.00          SI  \nATOM    108   Si MOL     1      11.804  15.398   3.974  1.00  0.00          SI  \nATOM    109   Si MOL     1      19.230  15.696   6.296  1.00  0.00          SI  \nATOM    110   Si MOL     1      13.226  16.380   7.321  1.00  0.00          SI  \nATOM    111   Si MOL     1      13.624  16.795   9.212  1.00  0.00          SI  \nATOM    112   Si MOL     1      15.517  17.449  10.639  1.00  0.00          SI  \nATOM    113   Si MOL     1      16.948  20.621  12.138  1.00  0.00          SI  \nATOM    114   Si MOL     1      11.713  17.932   0.819  1.00  0.00          SI  \nATOM    115   Si MOL     1      19.037  17.980   2.799  1.00  0.00          SI  \nATOM    116   Si MOL     1      13.408  18.915   4.104  1.00  0.00          SI  \nATOM    117   Si MOL     1      21.097  19.127   6.350  1.00  0.00          SI  \nATOM    118   Si MOL     1      15.161  20.124   6.884  1.00  0.00          SI  \nATOM    119   Si MOL     1      23.002  19.864   9.461  1.00  0.00          SI  \nATOM    120   Si MOL     1      16.948  21.172   9.756  1.00  0.00          SI  \nATOM    121   Si MOL     1      17.839  14.546  12.401  1.00  0.00          SI  \nATOM    122   Si MOL     1      11.410  11.047   0.530  1.00  0.00          SI  \nATOM    123   Si MOL     1      11.428  11.282   3.106  1.00  0.00          SI  \nATOM    124   Si MOL     1      13.365  12.366   3.963  1.00  0.00          SI  \nATOM    125   Si MOL     1      19.246  21.898   6.311  1.00  0.00          SI  \nATOM    126   Si MOL     1      15.254  13.392   7.008  1.00  0.00          SI  \nATOM    127   Si MOL     1      15.637  13.384   9.310  1.00  0.00          SI  \nATOM    128   Si MOL     1      17.170  14.202  10.053  1.00  0.00          SI  \nATOM    129   Si MOL     1      11.443  12.778   0.014  1.00  0.00          SI  \nATOM    130   Si MOL     1      13.530  14.114   0.612  1.00  0.00          SI  \nATOM    131   Si MOL     1      13.627  14.201   3.092  1.00  0.00          SI  \nATOM    132   Si MOL     1      15.335  15.619   4.050  1.00  0.00          SI  \nATOM    133   Si MOL     1      15.471  15.742   5.931  1.00  0.00          SI  \nATOM    134   Si MOL     1      17.125  16.640   7.234  1.00  0.00          SI  \nATOM    135   Si MOL     1      17.138  16.481   9.679  1.00  0.00          SI  \nATOM    136   Si MOL     1      19.257  17.963  10.331  1.00  0.00          SI  \nATOM    137   Si MOL     1      21.365  20.992  12.468  1.00  0.00          SI  \nATOM    138   Si MOL     1      15.402  17.880   0.673  1.00  0.00          SI  \nATOM    139   Si MOL     1      14.833  17.938   2.941  1.00  0.00          SI  \nATOM    140   Si MOL     1      17.055  18.448   3.842  1.00  0.00          SI  \nATOM    141   Si MOL     1      17.284  18.898   6.141  1.00  0.00          SI  \nATOM    142   Si MOL     1      19.352  19.943   7.252  1.00  0.00          SI  \nATOM    143   Si MOL     1      19.290  19.861   9.561  1.00  0.00          SI  \nATOM    144   Si MOL     1      20.999  20.865  10.158  1.00  0.00          SI  \nATOM    145   Si MOL     1      19.399  24.088  12.649  1.00  0.00          SI  \nATOM    146   Si MOL     1      15.461  15.504  13.563  1.00  0.00          SI  \nATOM    147   Si MOL     1      21.187  25.386  15.794  1.00  0.00          SI  \nATOM    148   Si MOL     1      17.147  16.667  16.282  1.00  0.00          SI  \nATOM    149   Si MOL     1      30.343  26.378  18.873  1.00  0.00          SI  \nATOM    150   Si MOL     1      19.165  17.773  19.364  1.00  0.00          SI  \nATOM    151   Si MOL     1      26.512  17.688  21.738  1.00  0.00          SI  \nATOM    152   Si MOL     1      21.414  18.815  22.766  1.00  0.00          SI  \nATOM    153   Si MOL     1      15.495  17.521  12.692  1.00  0.00          SI  \nATOM    154   Si MOL     1      17.133  19.111  13.444  1.00  0.00          SI  \nATOM    155   Si MOL     1      24.908  18.822  15.930  1.00  0.00          SI  \nATOM    156   Si MOL     1      19.483  19.832  16.514  1.00  0.00          SI  \nATOM    157   Si MOL     1      26.909  20.129  18.836  1.00  0.00          SI  \nATOM    158   Si MOL     1      20.905  20.814  19.861  1.00  0.00          SI  \nATOM    159   Si MOL     1      21.304  21.229  21.752  1.00  0.00          SI  \nATOM    160   Si MOL     1      23.196  21.882  23.179  1.00  0.00          SI  \nATOM    161   Si MOL     1      24.627  25.054  24.678  1.00  0.00          SI  \nATOM    162   Si MOL     1      19.392  22.366  13.359  1.00  0.00          SI  \nATOM    163   Si MOL     1      26.716  22.413  15.339  1.00  0.00          SI  \nATOM    164   Si MOL     1      21.087  23.348  16.644  1.00  0.00          SI  \nATOM    165   Si MOL     1      28.776  23.560  18.890  1.00  0.00          SI  \nATOM    166   Si MOL     1      22.840  24.558  19.424  1.00  0.00          SI  \nATOM    167   Si MOL     1      30.681  24.298  22.001  1.00  0.00          SI  \nATOM    168   Si MOL     1      24.627  25.605  22.296  1.00  0.00          SI  \nATOM    169   Si MOL     1      25.518  18.979  24.941  1.00  0.00          SI  \nATOM    170   Si MOL     1      19.089  15.481  13.070  1.00  0.00          SI  \nATOM    171   Si MOL     1      19.107  15.716  15.646  1.00  0.00          SI  \nATOM    172   Si MOL     1      21.044  16.800  16.503  1.00  0.00          SI  \nATOM    173   Si MOL     1      26.925  26.331  18.851  1.00  0.00          SI  \nATOM    174   Si MOL     1      22.933  17.825  19.548  1.00  0.00          SI  \nATOM    175   Si MOL     1      23.316  17.817  21.850  1.00  0.00          SI  \nATOM    176   Si MOL     1      24.849  18.635  22.593  1.00  0.00          SI  \nATOM    177   Si MOL     1      19.122  17.211  12.554  1.00  0.00          SI  \nATOM    178   Si MOL     1      21.209  18.547  13.152  1.00  0.00          SI  \nATOM    179   Si MOL     1      21.307  18.635  15.633  1.00  0.00          SI  \nATOM    180   Si MOL     1      23.014  20.053  16.590  1.00  0.00          SI  \nATOM    181   Si MOL     1      23.150  20.176  18.471  1.00  0.00          SI  \nATOM    182   Si MOL     1      24.804  21.074  19.774  1.00  0.00          SI  \nATOM    183   Si MOL     1      24.818  20.914  22.219  1.00  0.00          SI  \nATOM    184   Si MOL     1      26.936  22.397  22.872  1.00  0.00          SI  \nATOM    185   Si MOL     1      29.044  25.425  25.008  1.00  0.00          SI  \nATOM    186   Si MOL     1      23.081  22.314  13.213  1.00  0.00          SI  \nATOM    187   Si MOL     1      22.512  22.371  15.481  1.00  0.00          SI  \nATOM    188   Si MOL     1      24.734  22.881  16.382  1.00  0.00          SI  \nATOM    189   Si MOL     1      24.963  23.331  18.681  1.00  0.00          SI  \nATOM    190   Si MOL     1      27.032  24.377  19.792  1.00  0.00          SI  \nATOM    191   Si MOL     1      26.969  24.295  22.101  1.00  0.00          SI  \nATOM    192   Si MOL     1      28.678  25.299  22.698  1.00  0.00          SI  \nATOM    193   Si MOL     1      13.640   9.679   0.109  1.00  0.00          SI  \nATOM    194   Si MOL     1       9.702   1.095   1.023  1.00  0.00          SI  \nATOM    195   Si MOL     1      15.428  10.977   3.254  1.00  0.00          SI  \nATOM    196   Si MOL     1      11.388   2.257   3.742  1.00  0.00          SI  \nATOM    197   Si MOL     1      24.584  11.969   6.333  1.00  0.00          SI  \nATOM    198   Si MOL     1      13.405   3.364   6.824  1.00  0.00          SI  \nATOM    199   Si MOL     1      20.752   3.279   9.198  1.00  0.00          SI  \nATOM    200   Si MOL     1      15.654   4.406  10.226  1.00  0.00          SI  \nATOM    201   Si MOL     1       9.735   3.112   0.152  1.00  0.00          SI  \nATOM    202   Si MOL     1      11.374   4.702   0.904  1.00  0.00          SI  \nATOM    203   Si MOL     1      19.149   4.412   3.390  1.00  0.00          SI  \nATOM    204   Si MOL     1      13.724   5.423   3.974  1.00  0.00          SI  \nATOM    205   Si MOL     1      21.150   5.720   6.296  1.00  0.00          SI  \nATOM    206   Si MOL     1      15.146   6.405   7.321  1.00  0.00          SI  \nATOM    207   Si MOL     1      15.544   6.820   9.212  1.00  0.00          SI  \nATOM    208   Si MOL     1      17.436   7.473  10.639  1.00  0.00          SI  \nATOM    209   Si MOL     1      18.868  10.645  12.138  1.00  0.00          SI  \nATOM    210   Si MOL     1      13.632   7.957   0.819  1.00  0.00          SI  \nATOM    211   Si MOL     1      20.957   8.004   2.799  1.00  0.00          SI  \nATOM    212   Si MOL     1      15.328   8.939   4.104  1.00  0.00          SI  \nATOM    213   Si MOL     1      23.016   9.151   6.350  1.00  0.00          SI  \nATOM    214   Si MOL     1      17.081  10.149   6.884  1.00  0.00          SI  \nATOM    215   Si MOL     1      24.922   9.889   9.461  1.00  0.00          SI  \nATOM    216   Si MOL     1      18.867  11.196   9.756  1.00  0.00          SI  \nATOM    217   Si MOL     1      19.759   4.570  12.401  1.00  0.00          SI  \nATOM    218   Si MOL     1      13.330   1.072   0.530  1.00  0.00          SI  \nATOM    219   Si MOL     1      13.347   1.307   3.106  1.00  0.00          SI  \nATOM    220   Si MOL     1      15.285   2.391   3.963  1.00  0.00          SI  \nATOM    221   Si MOL     1      21.165  11.922   6.311  1.00  0.00          SI  \nATOM    222   Si MOL     1      17.174   3.416   7.008  1.00  0.00          SI  \nATOM    223   Si MOL     1      17.557   3.408   9.310  1.00  0.00          SI  \nATOM    224   Si MOL     1      19.089   4.226  10.053  1.00  0.00          SI  \nATOM    225   Si MOL     1      13.363   2.802   0.014  1.00  0.00          SI  \nATOM    226   Si MOL     1      15.450   4.138   0.612  1.00  0.00          SI  \nATOM    227   Si MOL     1      15.547   4.225   3.092  1.00  0.00          SI  \nATOM    228   Si MOL     1      17.255   5.644   4.050  1.00  0.00          SI  \nATOM    229   Si MOL     1      17.391   5.767   5.931  1.00  0.00          SI  \nATOM    230   Si MOL     1      19.045   6.664   7.234  1.00  0.00          SI  \nATOM    231   Si MOL     1      19.058   6.505   9.679  1.00  0.00          SI  \nATOM    232   Si MOL     1      21.177   7.988  10.331  1.00  0.00          SI  \nATOM    233   Si MOL     1      23.285  11.016  12.468  1.00  0.00          SI  \nATOM    234   Si MOL     1      17.321   7.904   0.673  1.00  0.00          SI  \nATOM    235   Si MOL     1      16.753   7.962   2.941  1.00  0.00          SI  \nATOM    236   Si MOL     1      18.974   8.472   3.842  1.00  0.00          SI  \nATOM    237   Si MOL     1      19.204   8.922   6.141  1.00  0.00          SI  \nATOM    238   Si MOL     1      21.272   9.968   7.252  1.00  0.00          SI  \nATOM    239   Si MOL     1      21.210   9.885   9.561  1.00  0.00          SI  \nATOM    240   Si MOL     1      22.919  10.890  10.158  1.00  0.00          SI  \nATOM    241   Si MOL     1      21.319  14.112  12.649  1.00  0.00          SI  \nATOM    242   Si MOL     1      17.381   5.529  13.563  1.00  0.00          SI  \nATOM    243   Si MOL     1      23.107  15.410  15.794  1.00  0.00          SI  \nATOM    244   Si MOL     1      19.067   6.691  16.282  1.00  0.00          SI  \nATOM    245   Si MOL     1      32.263  16.402  18.873  1.00  0.00          SI  \nATOM    246   Si MOL     1      21.085   7.798  19.364  1.00  0.00          SI  \nATOM    247   Si MOL     1      28.431   7.713  21.738  1.00  0.00          SI  \nATOM    248   Si MOL     1      23.333   8.840  22.766  1.00  0.00          SI  \nATOM    249   Si MOL     1      17.415   7.546  12.692  1.00  0.00          SI  \nATOM    250   Si MOL     1      19.053   9.136  13.444  1.00  0.00          SI  \nATOM    251   Si MOL     1      26.828   8.846  15.930  1.00  0.00          SI  \nATOM    252   Si MOL     1      21.403   9.856  16.514  1.00  0.00          SI  \nATOM    253   Si MOL     1      28.829  10.154  18.836  1.00  0.00          SI  \nATOM    254   Si MOL     1      22.825  10.838  19.861  1.00  0.00          SI  \nATOM    255   Si MOL     1      23.223  11.253  21.752  1.00  0.00          SI  \nATOM    256   Si MOL     1      25.116  11.907  23.179  1.00  0.00          SI  \nATOM    257   Si MOL     1      26.547  15.079  24.678  1.00  0.00          SI  \nATOM    258   Si MOL     1      21.312  12.390  13.359  1.00  0.00          SI  \nATOM    259   Si MOL     1      28.636  12.438  15.339  1.00  0.00          SI  \nATOM    260   Si MOL     1      23.007  13.373  16.644  1.00  0.00          SI  \nATOM    261   Si MOL     1      30.696  13.585  18.890  1.00  0.00          SI  \nATOM    262   Si MOL     1      24.760  14.582  19.424  1.00  0.00          SI  \nATOM    263   Si MOL     1      32.601  14.322  22.001  1.00  0.00          SI  \nATOM    264   Si MOL     1      26.547  15.630  22.296  1.00  0.00          SI  \nATOM    265   Si MOL     1      27.438   9.004  24.941  1.00  0.00          SI  \nATOM    266   Si MOL     1      21.009   5.506  13.070  1.00  0.00          SI  \nATOM    267   Si MOL     1      21.027   5.740  15.646  1.00  0.00          SI  \nATOM    268   Si MOL     1      22.964   6.824  16.503  1.00  0.00          SI  \nATOM    269   Si MOL     1      28.845  16.356  18.851  1.00  0.00          SI  \nATOM    270   Si MOL     1      24.853   7.850  19.548  1.00  0.00          SI  \nATOM    271   Si MOL     1      25.236   7.842  21.850  1.00  0.00          SI  \nATOM    272   Si MOL     1      26.768   8.660  22.593  1.00  0.00          SI  \nATOM    273   Si MOL     1      21.042   7.236  12.554  1.00  0.00          SI  \nATOM    274   Si MOL     1      23.129   8.572  13.152  1.00  0.00          SI  \nATOM    275   Si MOL     1      23.226   8.659  15.633  1.00  0.00          SI  \nATOM    276   Si MOL     1      24.934  10.077  16.590  1.00  0.00          SI  \nATOM    277   Si MOL     1      25.070  10.200  18.471  1.00  0.00          SI  \nATOM    278   Si MOL     1      26.724  11.098  19.774  1.00  0.00          SI  \nATOM    279   Si MOL     1      26.737  10.939  22.219  1.00  0.00          SI  \nATOM    280   Si MOL     1      28.856  12.421  22.872  1.00  0.00          SI  \nATOM    281   Si MOL     1      30.964  15.450  25.008  1.00  0.00          SI  \nATOM    282   Si MOL     1      25.001  12.338  13.213  1.00  0.00          SI  \nATOM    283   Si MOL     1      24.432  12.396  15.481  1.00  0.00          SI  \nATOM    284   Si MOL     1      26.653  12.906  16.382  1.00  0.00          SI  \nATOM    285   Si MOL     1      26.883  13.356  18.681  1.00  0.00          SI  \nATOM    286   Si MOL     1      28.951  14.401  19.792  1.00  0.00          SI  \nATOM    287   Si MOL     1      28.889  14.319  22.101  1.00  0.00          SI  \nATOM    288   Si MOL     1      30.598  15.323  22.698  1.00  0.00          SI  \nATOM    289   Si MOL     1      19.399  19.654   0.109  1.00  0.00          SI  \nATOM    290   Si MOL     1      15.461  11.071   1.023  1.00  0.00          SI  \nATOM    291   Si MOL     1      21.187  20.952   3.254  1.00  0.00          SI  \nATOM    292   Si MOL     1      17.147  12.233   3.742  1.00  0.00          SI  \nATOM    293   Si MOL     1      30.343  21.944   6.333  1.00  0.00          SI  \nATOM    294   Si MOL     1      19.165  13.340   6.824  1.00  0.00          SI  \nATOM    295   Si MOL     1      26.512  13.255   9.198  1.00  0.00          SI  \nATOM    296   Si MOL     1      21.414  14.382  10.226  1.00  0.00          SI  \nATOM    297   Si MOL     1      15.495  13.088   0.152  1.00  0.00          SI  \nATOM    298   Si MOL     1      17.133  14.678   0.904  1.00  0.00          SI  \nATOM    299   Si MOL     1      24.908  14.388   3.390  1.00  0.00          SI  \nATOM    300   Si MOL     1      19.483  15.398   3.974  1.00  0.00          SI  \nATOM    301   Si MOL     1      26.909  15.696   6.296  1.00  0.00          SI  \nATOM    302   Si MOL     1      20.905  16.380   7.321  1.00  0.00          SI  \nATOM    303   Si MOL     1      21.304  16.795   9.212  1.00  0.00          SI  \nATOM    304   Si MOL     1      23.196  17.449  10.639  1.00  0.00          SI  \nATOM    305   Si MOL     1      24.627  20.621  12.138  1.00  0.00          SI  \nATOM    306   Si MOL     1      19.392  17.932   0.819  1.00  0.00          SI  \nATOM    307   Si MOL     1      26.716  17.980   2.799  1.00  0.00          SI  \nATOM    308   Si MOL     1      21.087  18.915   4.104  1.00  0.00          SI  \nATOM    309   Si MOL     1      28.776  19.127   6.350  1.00  0.00          SI  \nATOM    310   Si MOL     1      22.840  20.124   6.884  1.00  0.00          SI  \nATOM    311   Si MOL     1      30.681  19.864   9.461  1.00  0.00          SI  \nATOM    312   Si MOL     1      24.627  21.172   9.756  1.00  0.00          SI  \nATOM    313   Si MOL     1      25.518  14.546  12.401  1.00  0.00          SI  \nATOM    314   Si MOL     1      19.089  11.047   0.530  1.00  0.00          SI  \nATOM    315   Si MOL     1      19.107  11.282   3.106  1.00  0.00          SI  \nATOM    316   Si MOL     1      21.044  12.366   3.963  1.00  0.00          SI  \nATOM    317   Si MOL     1      26.925  21.898   6.311  1.00  0.00          SI  \nATOM    318   Si MOL     1      22.933  13.392   7.008  1.00  0.00          SI  \nATOM    319   Si MOL     1      23.316  13.384   9.310  1.00  0.00          SI  \nATOM    320   Si MOL     1      24.849  14.202  10.053  1.00  0.00          SI  \nATOM    321   Si MOL     1      19.122  12.778   0.014  1.00  0.00          SI  \nATOM    322   Si MOL     1      21.209  14.114   0.612  1.00  0.00          SI  \nATOM    323   Si MOL     1      21.307  14.201   3.092  1.00  0.00          SI  \nATOM    324   Si MOL     1      23.014  15.619   4.050  1.00  0.00          SI  \nATOM    325   Si MOL     1      23.150  15.742   5.931  1.00  0.00          SI  \nATOM    326   Si MOL     1      24.804  16.640   7.234  1.00  0.00          SI  \nATOM    327   Si MOL     1      24.818  16.481   9.679  1.00  0.00          SI  \nATOM    328   Si MOL     1      26.936  17.963  10.331  1.00  0.00          SI  \nATOM    329   Si MOL     1      29.044  20.992  12.468  1.00  0.00          SI  \nATOM    330   Si MOL     1      23.081  17.880   0.673  1.00  0.00          SI  \nATOM    331   Si MOL     1      22.512  17.938   2.941  1.00  0.00          SI  \nATOM    332   Si MOL     1      24.734  18.448   3.842  1.00  0.00          SI  \nATOM    333   Si MOL     1      24.963  18.898   6.141  1.00  0.00          SI  \nATOM    334   Si MOL     1      27.032  19.943   7.252  1.00  0.00          SI  \nATOM    335   Si MOL     1      26.969  19.861   9.561  1.00  0.00          SI  \nATOM    336   Si MOL     1      28.678  20.865  10.158  1.00  0.00          SI  \nATOM    337   Si MOL     1      27.079  24.088  12.649  1.00  0.00          SI  \nATOM    338   Si MOL     1      23.141  15.504  13.563  1.00  0.00          SI  \nATOM    339   Si MOL     1      28.866  25.386  15.794  1.00  0.00          SI  \nATOM    340   Si MOL     1      24.826  16.667  16.282  1.00  0.00          SI  \nATOM    341   Si MOL     1      38.022  26.378  18.873  1.00  0.00          SI  \nATOM    342   Si MOL     1      26.844  17.773  19.364  1.00  0.00          SI  \nATOM    343   Si MOL     1      34.191  17.688  21.738  1.00  0.00          SI  \nATOM    344   Si MOL     1      29.093  18.815  22.766  1.00  0.00          SI  \nATOM    345   Si MOL     1      23.174  17.521  12.692  1.00  0.00          SI  \nATOM    346   Si MOL     1      24.812  19.111  13.444  1.00  0.00          SI  \nATOM    347   Si MOL     1      32.588  18.822  15.930  1.00  0.00          SI  \nATOM    348   Si MOL     1      27.162  19.832  16.514  1.00  0.00          SI  \nATOM    349   Si MOL     1      34.588  20.129  18.836  1.00  0.00          SI  \nATOM    350   Si MOL     1      28.584  20.814  19.861  1.00  0.00          SI  \nATOM    351   Si MOL     1      28.983  21.229  21.752  1.00  0.00          SI  \nATOM    352   Si MOL     1      30.875  21.882  23.179  1.00  0.00          SI  \nATOM    353   Si MOL     1      32.306  25.054  24.678  1.00  0.00          SI  \nATOM    354   Si MOL     1      27.071  22.366  13.359  1.00  0.00          SI  \nATOM    355   Si MOL     1      34.395  22.413  15.339  1.00  0.00          SI  \nATOM    356   Si MOL     1      28.767  23.348  16.644  1.00  0.00          SI  \nATOM    357   Si MOL     1      36.455  23.560  18.890  1.00  0.00          SI  \nATOM    358   Si MOL     1      30.520  24.558  19.424  1.00  0.00          SI  \nATOM    359   Si MOL     1      38.360  24.298  22.001  1.00  0.00          SI  \nATOM    360   Si MOL     1      32.306  25.605  22.296  1.00  0.00          SI  \nATOM    361   Si MOL     1      33.197  18.979  24.941  1.00  0.00          SI  \nATOM    362   Si MOL     1      26.769  15.481  13.070  1.00  0.00          SI  \nATOM    363   Si MOL     1      26.786  15.716  15.646  1.00  0.00          SI  \nATOM    364   Si MOL     1      28.723  16.800  16.503  1.00  0.00          SI  \nATOM    365   Si MOL     1      34.604  26.331  18.851  1.00  0.00          SI  \nATOM    366   Si MOL     1      30.612  17.825  19.548  1.00  0.00          SI  \nATOM    367   Si MOL     1      30.996  17.817  21.850  1.00  0.00          SI  \nATOM    368   Si MOL     1      32.528  18.635  22.593  1.00  0.00          SI  \nATOM    369   Si MOL     1      26.801  17.211  12.554  1.00  0.00          SI  \nATOM    370   Si MOL     1      28.888  18.547  13.152  1.00  0.00          SI  \nATOM    371   Si MOL     1      28.986  18.635  15.633  1.00  0.00          SI  \nATOM    372   Si MOL     1      30.694  20.053  16.590  1.00  0.00          SI  \nATOM    373   Si MOL     1      30.829  20.176  18.471  1.00  0.00          SI  \nATOM    374   Si MOL     1      32.483  21.074  19.774  1.00  0.00          SI  \nATOM    375   Si MOL     1      32.497  20.914  22.219  1.00  0.00          SI  \nATOM    376   Si MOL     1      34.615  22.397  22.872  1.00  0.00          SI  \nATOM    377   Si MOL     1      36.724  25.425  25.008  1.00  0.00          SI  \nATOM    378   Si MOL     1      30.760  22.314  13.213  1.00  0.00          SI  \nATOM    379   Si MOL     1      30.191  22.371  15.481  1.00  0.00          SI  \nATOM    380   Si MOL     1      32.413  22.881  16.382  1.00  0.00          SI  \nATOM    381   Si MOL     1      32.642  23.331  18.681  1.00  0.00          SI  \nATOM    382   Si MOL     1      34.711  24.377  19.792  1.00  0.00          SI  \nATOM    383   Si MOL     1      34.649  24.295  22.101  1.00  0.00          SI  \nATOM    384   Si MOL     1      36.357  25.299  22.698  1.00  0.00          SI  \nENDMDL\n",
           "type": "blob"
          }
         ],
         "kwargs": {
          "defaultRepresentation": false,
          "ext": "pdb"
         },
         "methodName": "loadFile",
         "reconstruc_color_scheme": false,
         "target": "Stage",
         "type": "call_method"
        },
        {
         "args": [
          "400px",
          "300px"
         ],
         "kwargs": {},
         "methodName": "setSize",
         "reconstruc_color_scheme": false,
         "target": "Widget",
         "type": "call_method"
        },
        {
         "args": [
          "unitcell"
         ],
         "component_index": 0,
         "kwargs": {
          "sele": "all"
         },
         "methodName": "addRepresentation",
         "reconstruc_color_scheme": false,
         "target": "compList",
         "type": "call_method"
        },
        {
         "args": [
          "spacefill"
         ],
         "component_index": 0,
         "kwargs": {
          "sele": "all"
         },
         "methodName": "addRepresentation",
         "reconstruc_color_scheme": false,
         "target": "compList",
         "type": "call_method"
        },
        {
         "args": [],
         "kwargs": {
          "cameraType": "orthographic"
         },
         "methodName": "setParameters",
         "reconstruc_color_scheme": false,
         "target": "Stage",
         "type": "call_method"
        },
        {
         "args": [
          {
           "clipDist": 0
          }
         ],
         "kwargs": {},
         "methodName": "setParameters",
         "reconstruc_color_scheme": false,
         "target": "Widget",
         "type": "call_method"
        },
        {
         "args": [
          "spacefill",
          0
         ],
         "kwargs": {
          "colorScale": "rainbow",
          "colorScheme": "element",
          "radiusScale": 0.5,
          "radiusType": "covalent"
         },
         "methodName": "updateRepresentationsByName",
         "reconstruc_color_scheme": false,
         "target": "Widget",
         "type": "call_method"
        },
        {
         "args": [
          "this._Q = [[-0.0, 0.7071067811865476, 0.7071067811865476], [0.816496580927726, -0.40824829046386285, 0.40824829046386296], [0.5773502691896257, 0.5773502691896258, -0.5773502691896257]]\n    var tooltip = document.createElement('div')\n    Object.assign(tooltip.style, {\n      display: 'none',\n      position: 'fixed',\n      zIndex: 10,\n      pointerEvents: 'none',\n      backgroundColor: 'rgba( 0, 0, 0, 0.6 )',\n      color: 'lightgrey',\n      padding: '8px',\n      fontFamily: 'sans-serif'\n    })\n    document.body.appendChild(tooltip)\n\n    var that = this\n    this.stage.mouseControls.remove('hoverPick')\n    this.stage.signals.hovered.add(function (pickingProxy) {\n      if (pickingProxy && (pickingProxy.atom || pickingProxy.bond)) {\n        var atom = pickingProxy.atom || pickingProxy.closestBondAtom\n        var mp = pickingProxy.mouse.position\n        //tooltip.innerText = atom.element + ' i=' + atom.index + ' (' + atom.x.toFixed(2) +  ', ' + atom.y.toFixed(2) +  ', ' + atom.z.toFixed(2) + ')'\n        //var pos = that._atoms_pos[atom.index]\n        var Q = that._Q\n        var pos_x = Q[0][0] * atom.x + Q[0][1] * atom.y + Q[0][2] * atom.z \n        var pos_y = Q[1][0] * atom.x + Q[1][1] * atom.y + Q[1][2] * atom.z\n        var pos_z = Q[2][0] * atom.x + Q[2][1] * atom.y + Q[2][2] * atom.z\n        tooltip.innerText = 'i=' + atom.index + ' ' + atom.element + ' (' + pos_x.toFixed(2) +  ', ' + pos_y.toFixed(2) +  ', ' + pos_z.toFixed(2) + ')'\n        tooltip.style.bottom = window.innerHeight - mp.y + 3 + 'px'\n        tooltip.style.left = mp.x + 3 + 'px'\n        tooltip.style.display = 'block'\n      } else {\n        tooltip.style.display = 'none'\n      }\n    })\n    "
         ],
         "kwargs": {},
         "methodName": "executeCode",
         "reconstruc_color_scheme": false,
         "target": "Widget",
         "type": "call_method"
        }
       ],
       "_ngl_original_stage_parameters": {
        "ambientColor": 14540253,
        "ambientIntensity": 0.2,
        "backgroundColor": "white",
        "cameraEyeSep": 0.3,
        "cameraFov": 40,
        "cameraType": "perspective",
        "clipDist": 10,
        "clipFar": 100,
        "clipNear": 0,
        "fogFar": 100,
        "fogNear": 50,
        "hoverTimeout": 0,
        "impostor": true,
        "lightColor": 14540253,
        "lightIntensity": 1,
        "mousePreset": "default",
        "panSpeed": 1,
        "quality": "medium",
        "rotateSpeed": 2,
        "sampleLevel": 0,
        "tooltip": true,
        "workerDefault": true,
        "zoomSpeed": 1.2
       },
       "_ngl_repr_dict": {
        "0": {
         "0": {
          "params": {
           "clipCenter": {
            "x": 0,
            "y": 0,
            "z": 0
           },
           "clipNear": 0,
           "clipRadius": 0,
           "colorMode": "hcl",
           "colorReverse": false,
           "colorScale": "",
           "colorScheme": "element",
           "colorValue": "orange",
           "defaultAssembly": "",
           "depthWrite": true,
           "diffuse": 16777215,
           "diffuseInterior": false,
           "disableImpostor": false,
           "disablePicking": false,
           "flatShaded": false,
           "interiorColor": 2236962,
           "interiorDarkening": 0,
           "lazy": false,
           "matrix": {
            "elements": [
             1,
             0,
             0,
             0,
             0,
             1,
             0,
             0,
             0,
             0,
             1,
             0,
             0,
             0,
             0,
             1
            ]
           },
           "metalness": 0,
           "opacity": 1,
           "quality": "medium",
           "radialSegments": 10,
           "radiusData": {},
           "radiusScale": 1,
           "radiusSize": 0.09866139659221249,
           "radiusType": "vdw",
           "roughness": 0.4,
           "sele": "all",
           "side": "double",
           "sphereDetail": 1,
           "useInteriorColor": true,
           "visible": true,
           "wireframe": false
          },
          "type": "unitcell"
         },
         "1": {
          "params": {
           "assembly": "default",
           "clipCenter": {
            "x": 0,
            "y": 0,
            "z": 0
           },
           "clipNear": 0,
           "clipRadius": 0,
           "colorMode": "hcl",
           "colorReverse": false,
           "colorScale": "rainbow",
           "colorScheme": "element",
           "colorValue": 9474192,
           "defaultAssembly": "",
           "depthWrite": true,
           "diffuse": 16777215,
           "diffuseInterior": false,
           "disableImpostor": false,
           "disablePicking": false,
           "flatShaded": false,
           "interiorColor": 2236962,
           "interiorDarkening": 0,
           "lazy": false,
           "matrix": {
            "elements": [
             1,
             0,
             0,
             0,
             0,
             1,
             0,
             0,
             0,
             0,
             1,
             0,
             0,
             0,
             0,
             1
            ]
           },
           "metalness": 0,
           "opacity": 1,
           "quality": "medium",
           "radiusData": {},
           "radiusScale": 0.5,
           "radiusSize": 1,
           "radiusType": "covalent",
           "roughness": 0.4,
           "sele": "all",
           "side": "double",
           "sphereDetail": 1,
           "useInteriorColor": true,
           "visible": true,
           "wireframe": false
          },
          "type": "spacefill"
         }
        }
       },
       "_ngl_serialize": false,
       "_ngl_version": "2.0.0-dev.36",
       "_ngl_view_id": [
        "F46D5389-3C27-431C-A68E-6E0FA76C8FD7"
       ],
       "_player_dict": {},
       "_scene_position": {},
       "_scene_rotation": {},
       "_synced_model_ids": [],
       "_synced_repr_model_ids": [],
       "_view_height": "",
       "_view_width": "",
       "background": "white",
       "frame": 0,
       "gui_style": null,
       "layout": "IPY_MODEL_65d561decc354fdbbc4ec7349b6f09cd",
       "max_frame": 0,
       "n_components": 1,
       "picked": {}
      }
     },
     "c7fa599f77ae4216ab225823a8b27722": {
      "model_module": "@jupyter-widgets/base",
      "model_module_version": "1.2.0",
      "model_name": "LayoutModel",
      "state": {}
     },
     "c87b233edf844ed1be393012880b0260": {
      "model_module": "@jupyter-widgets/controls",
      "model_module_version": "1.5.0",
      "model_name": "DescriptionStyleModel",
      "state": {
       "description_width": ""
      }
     },
     "c88e44810f114621bf70d933ce502bc3": {
      "model_module": "@jupyter-widgets/controls",
      "model_module_version": "1.5.0",
      "model_name": "FloatSliderModel",
      "state": {
       "description": "Charge scale",
       "layout": "IPY_MODEL_6410d992ab434cf89110ac91a2c784b6",
       "step": 0.1,
       "style": "IPY_MODEL_b799fe5930f546ce8e723bdfcaf57506",
       "value": 1
      }
     },
     "c8d3c09543c145e48694042fbe73d539": {
      "model_module": "@jupyter-widgets/base",
      "model_module_version": "1.2.0",
      "model_name": "LayoutModel",
      "state": {}
     },
     "c8dcbdbe6c5344b2949992a02003623b": {
      "model_module": "@jupyter-widgets/controls",
      "model_module_version": "1.5.0",
      "model_name": "DescriptionStyleModel",
      "state": {
       "description_width": ""
      }
     },
     "c90ac459a6a44a19bc184219592ef2f7": {
      "model_module": "@jupyter-widgets/controls",
      "model_module_version": "1.5.0",
      "model_name": "IntSliderModel",
      "state": {
       "layout": "IPY_MODEL_b6bca8bd024b446e994803db1bb87822",
       "max": 0,
       "style": "IPY_MODEL_e3e3ae241d5542b889facab412e4d6f3"
      }
     },
     "c922ed1738ba476f897feae5c28b9315": {
      "model_module": "@jupyter-widgets/base",
      "model_module_version": "1.2.0",
      "model_name": "LayoutModel",
      "state": {}
     },
     "c97c37a24c4d45799a3513c86493607a": {
      "model_module": "@jupyter-widgets/base",
      "model_module_version": "1.2.0",
      "model_name": "LayoutModel",
      "state": {}
     },
     "ca28175280ac4127887aed34aa7af9a9": {
      "model_module": "@jupyter-widgets/base",
      "model_module_version": "1.2.0",
      "model_name": "LayoutModel",
      "state": {}
     },
     "caa4b684530741efbaf1c5a14b19bfe7": {
      "model_module": "@jupyter-widgets/controls",
      "model_module_version": "1.5.0",
      "model_name": "SliderStyleModel",
      "state": {
       "description_width": ""
      }
     },
     "cab248c219054602993b280e5b12e48d": {
      "model_module": "@jupyter-widgets/controls",
      "model_module_version": "1.5.0",
      "model_name": "FloatSliderModel",
      "state": {
       "description": "Force scale",
       "layout": "IPY_MODEL_8f5380c0611d43a3af560bbfb9c50a6c",
       "step": 0.1,
       "style": "IPY_MODEL_38b5c8759a624e43bae71db8da94ff33",
       "value": 0.5
      }
     },
     "cacd796bfcf945a6a1db72136e7bf10f": {
      "model_module": "nglview-js-widgets",
      "model_module_version": "3.0.1",
      "model_name": "NGLModel",
      "state": {
       "_camera_orientation": [
        27.079417239250972,
        0,
        0,
        0,
        0,
        27.079417239250972,
        0,
        0,
        0,
        0,
        27.079417239250972,
        0,
        -9.632500290870667,
        -6.52049994468689,
        -6.241000206209719,
        1
       ],
       "_camera_str": "orthographic",
       "_gui_theme": null,
       "_ibtn_fullscreen": "IPY_MODEL_b32698b608aa41ea826a0dcabbe5a82a",
       "_igui": null,
       "_iplayer": "IPY_MODEL_5bca40d6872e47c6949125243c6aa09b",
       "_ngl_color_dict": {},
       "_ngl_coordinate_resource": {},
       "_ngl_full_stage_parameters": {
        "ambientColor": 14540253,
        "ambientIntensity": 0.2,
        "backgroundColor": "white",
        "cameraEyeSep": 0.3,
        "cameraFov": 40,
        "cameraType": "orthographic",
        "clipDist": 0,
        "clipFar": 100,
        "clipNear": 0,
        "fogFar": 100,
        "fogNear": 50,
        "hoverTimeout": 0,
        "impostor": true,
        "lightColor": 14540253,
        "lightIntensity": 1,
        "mousePreset": "default",
        "panSpeed": 1,
        "quality": "medium",
        "rotateSpeed": 2,
        "sampleLevel": 0,
        "tooltip": true,
        "workerDefault": true,
        "zoomSpeed": 1.2
       },
       "_ngl_msg_archive": [
        {
         "args": [
          {
           "binary": false,
           "data": "CRYST1    7.679   11.519   15.358  60.00  60.00  60.00 P 1\nMODEL     1\nATOM      1   Si MOL     1       5.961   9.679   0.109  1.00  0.00          SI  \nATOM      2   Si MOL     1       2.023   1.095   1.023  1.00  0.00          SI  \nATOM      3   Si MOL     1       7.748  10.977   3.254  1.00  0.00          SI  \nATOM      4   Si MOL     1       3.709   2.257   3.742  1.00  0.00          SI  \nATOM      5   Si MOL     1      16.904  11.969   6.333  1.00  0.00          SI  \nATOM      6   Si MOL     1       5.726   3.364   6.824  1.00  0.00          SI  \nATOM      7   Si MOL     1      13.073   3.279   9.198  1.00  0.00          SI  \nATOM      8   Si MOL     1       7.975   4.406  10.226  1.00  0.00          SI  \nATOM      9   Si MOL     1       2.056   3.112   0.152  1.00  0.00          SI  \nATOM     10   Si MOL     1       3.695   4.702   0.904  1.00  0.00          SI  \nATOM     11   Si MOL     1      11.470   4.412   3.390  1.00  0.00          SI  \nATOM     12   Si MOL     1       6.045   5.423   3.974  1.00  0.00          SI  \nATOM     13   Si MOL     1      13.471   5.720   6.296  1.00  0.00          SI  \nATOM     14   Si MOL     1       7.467   6.405   7.321  1.00  0.00          SI  \nATOM     15   Si MOL     1       7.865   6.820   9.212  1.00  0.00          SI  \nATOM     16   Si MOL     1       9.757   7.473  10.639  1.00  0.00          SI  \nATOM     17   Si MOL     1      11.189  10.645  12.138  1.00  0.00          SI  \nATOM     18   Si MOL     1       5.953   7.957   0.819  1.00  0.00          SI  \nATOM     19   Si MOL     1      13.278   8.004   2.799  1.00  0.00          SI  \nATOM     20   Si MOL     1       7.649   8.939   4.104  1.00  0.00          SI  \nATOM     21   Si MOL     1      15.337   9.151   6.350  1.00  0.00          SI  \nATOM     22   Si MOL     1       9.402  10.149   6.884  1.00  0.00          SI  \nATOM     23   Si MOL     1      17.242   9.889   9.461  1.00  0.00          SI  \nATOM     24   Si MOL     1      11.188  11.196   9.756  1.00  0.00          SI  \nATOM     25   Si MOL     1      12.080   4.570  12.401  1.00  0.00          SI  \nATOM     26   Si MOL     1       5.651   1.072   0.530  1.00  0.00          SI  \nATOM     27   Si MOL     1       5.668   1.307   3.106  1.00  0.00          SI  \nATOM     28   Si MOL     1       7.606   2.391   3.963  1.00  0.00          SI  \nATOM     29   Si MOL     1      13.486  11.922   6.311  1.00  0.00          SI  \nATOM     30   Si MOL     1       9.494   3.416   7.008  1.00  0.00          SI  \nATOM     31   Si MOL     1       9.878   3.408   9.310  1.00  0.00          SI  \nATOM     32   Si MOL     1      11.410   4.226  10.053  1.00  0.00          SI  \nATOM     33   Si MOL     1       5.684   2.802   0.014  1.00  0.00          SI  \nATOM     34   Si MOL     1       7.771   4.138   0.612  1.00  0.00          SI  \nATOM     35   Si MOL     1       7.868   4.225   3.092  1.00  0.00          SI  \nATOM     36   Si MOL     1       9.576   5.644   4.050  1.00  0.00          SI  \nATOM     37   Si MOL     1       9.712   5.767   5.931  1.00  0.00          SI  \nATOM     38   Si MOL     1      11.365   6.664   7.234  1.00  0.00          SI  \nATOM     39   Si MOL     1      11.379   6.505   9.679  1.00  0.00          SI  \nATOM     40   Si MOL     1      13.498   7.988  10.331  1.00  0.00          SI  \nATOM     41   Si MOL     1      15.606  11.016  12.468  1.00  0.00          SI  \nATOM     42   Si MOL     1       9.642   7.904   0.673  1.00  0.00          SI  \nATOM     43   Si MOL     1       9.073   7.962   2.941  1.00  0.00          SI  \nATOM     44   Si MOL     1      11.295   8.472   3.842  1.00  0.00          SI  \nATOM     45   Si MOL     1      11.524   8.922   6.141  1.00  0.00          SI  \nATOM     46   Si MOL     1      13.593   9.968   7.252  1.00  0.00          SI  \nATOM     47   Si MOL     1      13.531   9.885   9.561  1.00  0.00          SI  \nATOM     48   Si MOL     1      15.240  10.890  10.158  1.00  0.00          SI  \nENDMDL\n",
           "type": "blob"
          }
         ],
         "kwargs": {
          "defaultRepresentation": false,
          "ext": "pdb"
         },
         "methodName": "loadFile",
         "reconstruc_color_scheme": false,
         "target": "Stage",
         "type": "call_method"
        },
        {
         "args": [
          "400px",
          "300px"
         ],
         "kwargs": {},
         "methodName": "setSize",
         "reconstruc_color_scheme": false,
         "target": "Widget",
         "type": "call_method"
        },
        {
         "args": [
          "unitcell"
         ],
         "component_index": 0,
         "kwargs": {
          "sele": "all"
         },
         "methodName": "addRepresentation",
         "reconstruc_color_scheme": false,
         "target": "compList",
         "type": "call_method"
        },
        {
         "args": [
          "spacefill"
         ],
         "component_index": 0,
         "kwargs": {
          "sele": "all"
         },
         "methodName": "addRepresentation",
         "reconstruc_color_scheme": false,
         "target": "compList",
         "type": "call_method"
        },
        {
         "args": [],
         "kwargs": {
          "cameraType": "orthographic"
         },
         "methodName": "setParameters",
         "reconstruc_color_scheme": false,
         "target": "Stage",
         "type": "call_method"
        },
        {
         "args": [
          {
           "clipDist": 0
          }
         ],
         "kwargs": {},
         "methodName": "setParameters",
         "reconstruc_color_scheme": false,
         "target": "Widget",
         "type": "call_method"
        },
        {
         "args": [
          "spacefill",
          0
         ],
         "kwargs": {
          "colorScale": "rainbow",
          "colorScheme": "element",
          "radiusScale": 0.5,
          "radiusType": "covalent"
         },
         "methodName": "updateRepresentationsByName",
         "reconstruc_color_scheme": false,
         "target": "Widget",
         "type": "call_method"
        },
        {
         "args": [
          "this._Q = [[-0.0, 0.7071067811865476, 0.7071067811865476], [0.816496580927726, -0.40824829046386285, 0.40824829046386296], [0.5773502691896257, 0.5773502691896258, -0.5773502691896257]]\n    var tooltip = document.createElement('div')\n    Object.assign(tooltip.style, {\n      display: 'none',\n      position: 'fixed',\n      zIndex: 10,\n      pointerEvents: 'none',\n      backgroundColor: 'rgba( 0, 0, 0, 0.6 )',\n      color: 'lightgrey',\n      padding: '8px',\n      fontFamily: 'sans-serif'\n    })\n    document.body.appendChild(tooltip)\n\n    var that = this\n    this.stage.mouseControls.remove('hoverPick')\n    this.stage.signals.hovered.add(function (pickingProxy) {\n      if (pickingProxy && (pickingProxy.atom || pickingProxy.bond)) {\n        var atom = pickingProxy.atom || pickingProxy.closestBondAtom\n        var mp = pickingProxy.mouse.position\n        //tooltip.innerText = atom.element + ' i=' + atom.index + ' (' + atom.x.toFixed(2) +  ', ' + atom.y.toFixed(2) +  ', ' + atom.z.toFixed(2) + ')'\n        //var pos = that._atoms_pos[atom.index]\n        var Q = that._Q\n        var pos_x = Q[0][0] * atom.x + Q[0][1] * atom.y + Q[0][2] * atom.z \n        var pos_y = Q[1][0] * atom.x + Q[1][1] * atom.y + Q[1][2] * atom.z\n        var pos_z = Q[2][0] * atom.x + Q[2][1] * atom.y + Q[2][2] * atom.z\n        tooltip.innerText = 'i=' + atom.index + ' ' + atom.element + ' (' + pos_x.toFixed(2) +  ', ' + pos_y.toFixed(2) +  ', ' + pos_z.toFixed(2) + ')'\n        tooltip.style.bottom = window.innerHeight - mp.y + 3 + 'px'\n        tooltip.style.left = mp.x + 3 + 'px'\n        tooltip.style.display = 'block'\n      } else {\n        tooltip.style.display = 'none'\n      }\n    })\n    "
         ],
         "kwargs": {},
         "methodName": "executeCode",
         "reconstruc_color_scheme": false,
         "target": "Widget",
         "type": "call_method"
        }
       ],
       "_ngl_original_stage_parameters": {
        "ambientColor": 14540253,
        "ambientIntensity": 0.2,
        "backgroundColor": "white",
        "cameraEyeSep": 0.3,
        "cameraFov": 40,
        "cameraType": "perspective",
        "clipDist": 10,
        "clipFar": 100,
        "clipNear": 0,
        "fogFar": 100,
        "fogNear": 50,
        "hoverTimeout": 0,
        "impostor": true,
        "lightColor": 14540253,
        "lightIntensity": 1,
        "mousePreset": "default",
        "panSpeed": 1,
        "quality": "medium",
        "rotateSpeed": 2,
        "sampleLevel": 0,
        "tooltip": true,
        "workerDefault": true,
        "zoomSpeed": 1.2
       },
       "_ngl_repr_dict": {
        "0": {
         "0": {
          "params": {
           "clipCenter": {
            "x": 0,
            "y": 0,
            "z": 0
           },
           "clipNear": 0,
           "clipRadius": 0,
           "colorMode": "hcl",
           "colorReverse": false,
           "colorScale": "",
           "colorScheme": "element",
           "colorValue": "orange",
           "defaultAssembly": "",
           "depthWrite": true,
           "diffuse": 16777215,
           "diffuseInterior": false,
           "disableImpostor": false,
           "disablePicking": false,
           "flatShaded": false,
           "interiorColor": 2236962,
           "interiorDarkening": 0,
           "lazy": false,
           "matrix": {
            "elements": [
             1,
             0,
             0,
             0,
             0,
             1,
             0,
             0,
             0,
             0,
             1,
             0,
             0,
             0,
             0,
             1
            ]
           },
           "metalness": 0,
           "opacity": 1,
           "quality": "medium",
           "radialSegments": 10,
           "radiusData": {},
           "radiusScale": 1,
           "radiusSize": 0.04933016296568518,
           "radiusType": "vdw",
           "roughness": 0.4,
           "sele": "all",
           "side": "double",
           "sphereDetail": 1,
           "useInteriorColor": true,
           "visible": true,
           "wireframe": false
          },
          "type": "unitcell"
         },
         "1": {
          "params": {
           "assembly": "default",
           "clipCenter": {
            "x": 0,
            "y": 0,
            "z": 0
           },
           "clipNear": 0,
           "clipRadius": 0,
           "colorMode": "hcl",
           "colorReverse": false,
           "colorScale": "rainbow",
           "colorScheme": "element",
           "colorValue": 9474192,
           "defaultAssembly": "",
           "depthWrite": true,
           "diffuse": 16777215,
           "diffuseInterior": false,
           "disableImpostor": false,
           "disablePicking": false,
           "flatShaded": false,
           "interiorColor": 2236962,
           "interiorDarkening": 0,
           "lazy": false,
           "matrix": {
            "elements": [
             1,
             0,
             0,
             0,
             0,
             1,
             0,
             0,
             0,
             0,
             1,
             0,
             0,
             0,
             0,
             1
            ]
           },
           "metalness": 0,
           "opacity": 1,
           "quality": "medium",
           "radiusData": {},
           "radiusScale": 0.5,
           "radiusSize": 1,
           "radiusType": "covalent",
           "roughness": 0.4,
           "sele": "all",
           "side": "double",
           "sphereDetail": 1,
           "useInteriorColor": true,
           "visible": true,
           "wireframe": false
          },
          "type": "spacefill"
         }
        }
       },
       "_ngl_serialize": false,
       "_ngl_version": "2.0.0-dev.36",
       "_ngl_view_id": [
        "B6C6580B-9E48-4DA1-8A9E-8B511D825979"
       ],
       "_player_dict": {},
       "_scene_position": {},
       "_scene_rotation": {},
       "_synced_model_ids": [],
       "_synced_repr_model_ids": [],
       "_view_height": "",
       "_view_width": "",
       "background": "white",
       "frame": 0,
       "gui_style": null,
       "layout": "IPY_MODEL_b3a3fc3aac9940348197f71aae45660b",
       "max_frame": 0,
       "n_components": 1,
       "picked": {}
      }
     },
     "cae199d04acf487589916b7bfb4eb88f": {
      "model_module": "@jupyter-widgets/base",
      "model_module_version": "1.2.0",
      "model_name": "LayoutModel",
      "state": {}
     },
     "cb35fa000db04e438a7661d5ec968da6": {
      "model_module": "@jupyter-widgets/base",
      "model_module_version": "1.2.0",
      "model_name": "LayoutModel",
      "state": {}
     },
     "cb625b51d0cd4767a0fff2eda2ebc4a1": {
      "model_module": "@jupyter-widgets/base",
      "model_module_version": "1.2.0",
      "model_name": "LayoutModel",
      "state": {}
     },
     "cb63de3e4827463b9b46349bce22945e": {
      "model_module": "@jupyter-widgets/base",
      "model_module_version": "1.2.0",
      "model_name": "LayoutModel",
      "state": {}
     },
     "cbc5fe0af1954b87b2076dd19a955fdd": {
      "model_module": "@jupyter-widgets/controls",
      "model_module_version": "1.5.0",
      "model_name": "LinkModel",
      "state": {
       "source": [
        "IPY_MODEL_3dc0452272f2469a81d5a658aba88c4c",
        "value"
       ],
       "target": [
        "IPY_MODEL_0c6f95ec736d4dd4a0b628d2db58734f",
        "frame"
       ]
      }
     },
     "cbd5d7969a9d491aaa49e9b9e21f0be4": {
      "model_module": "@jupyter-widgets/controls",
      "model_module_version": "1.5.0",
      "model_name": "ButtonStyleModel",
      "state": {}
     },
     "cbffb43ae1d54201ae1965175290c6f0": {
      "model_module": "@jupyter-widgets/output",
      "model_module_version": "1.0.0",
      "model_name": "OutputModel",
      "state": {
       "layout": "IPY_MODEL_6b096fe42ea340b1ab1d14b01f7f315b"
      }
     },
     "cc095b92f964456babac15857abbdcf5": {
      "model_module": "@jupyter-widgets/controls",
      "model_module_version": "1.5.0",
      "model_name": "SliderStyleModel",
      "state": {
       "description_width": ""
      }
     },
     "cce18564e0ea4ffb82d415d5d899bd38": {
      "model_module": "@jupyter-widgets/controls",
      "model_module_version": "1.5.0",
      "model_name": "TextModel",
      "state": {
       "description": "Filename: ",
       "layout": "IPY_MODEL_765a3f66021444bdb0b7b999f18fef5f",
       "style": "IPY_MODEL_f8c56803975b471bbc7752db7ac11971",
       "value": "screenshot.png"
      }
     },
     "cd5043c5c74b49c7879a83ce6efa1dbe": {
      "model_module": "@jupyter-widgets/controls",
      "model_module_version": "1.5.0",
      "model_name": "ButtonModel",
      "state": {
       "description": "Download image",
       "layout": "IPY_MODEL_772d272473d948118a50c1336cb3ace3",
       "style": "IPY_MODEL_5863ec70e32f4f3fbe6359ce4cdfa018",
       "tooltip": "Download current frame to your local PC"
      }
     },
     "cd54be1e59bc410c9b137d7ef0be7439": {
      "model_module": "@jupyter-widgets/controls",
      "model_module_version": "1.5.0",
      "model_name": "DropdownModel",
      "state": {
       "_options_labels": [
        " ",
        "picking",
        "random",
        "uniform",
        "atomindex",
        "residueindex",
        "chainindex",
        "modelindex",
        "sstruc",
        "element",
        "resname",
        "bfactor",
        "hydrophobicity",
        "value",
        "volume",
        "occupancy"
       ],
       "description": "Color scheme",
       "index": 9,
       "layout": "IPY_MODEL_bf54bfca7b30406d80f7fc672f6c3a2a",
       "style": "IPY_MODEL_b4a050a217e64dfda36934b7c54ff1a3"
      }
     },
     "cd60a964040443f6b000787ef39109b5": {
      "model_module": "@jupyter-widgets/base",
      "model_module_version": "1.2.0",
      "model_name": "LayoutModel",
      "state": {}
     },
     "cda3667218e749cb82be5c21994638bd": {
      "model_module": "@jupyter-widgets/controls",
      "model_module_version": "1.5.0",
      "model_name": "ButtonModel",
      "state": {
       "description": "Save image",
       "layout": "IPY_MODEL_bde8bd9ed58143a48d1f92b5826948c1",
       "style": "IPY_MODEL_9f2a2d929d9646edb0a15bd69ef69158",
       "tooltip": "Save current frame to file.\nCurrently .png and .html are supported.\nIt takes a bit time, please be patient."
      }
     },
     "cdf02d0d46e949ce9480a7c91be65db4": {
      "model_module": "@jupyter-widgets/controls",
      "model_module_version": "1.5.0",
      "model_name": "TextModel",
      "state": {
       "description": "Filename: ",
       "layout": "IPY_MODEL_d65ea6c59820463282e28bde94f1731e",
       "style": "IPY_MODEL_82c642dde9ca4d67a13b7fc510e050a8",
       "value": "screenshot.png"
      }
     },
     "ce3eb9584f4f4622b5a8aa7bd1ad2a2e": {
      "model_module": "@jupyter-widgets/controls",
      "model_module_version": "1.5.0",
      "model_name": "DescriptionStyleModel",
      "state": {
       "description_width": ""
      }
     },
     "ce4a57e51f5f4c68aa09664bcacf166e": {
      "model_module": "@jupyter-widgets/controls",
      "model_module_version": "1.5.0",
      "model_name": "HBoxModel",
      "state": {
       "children": [
        "IPY_MODEL_3dc0452272f2469a81d5a658aba88c4c",
        "IPY_MODEL_913e43e3f0f747e1ba09eeed7bf81758"
       ],
       "layout": "IPY_MODEL_6a5d622366f4450d9497a3312bdb6ab0"
      }
     },
     "ceca5cc020a5427db07f0e9e9291a95b": {
      "model_module": "@jupyter-widgets/base",
      "model_module_version": "1.2.0",
      "model_name": "LayoutModel",
      "state": {}
     },
     "cef22daef695449086110fb63973bdb5": {
      "model_module": "@jupyter-widgets/controls",
      "model_module_version": "1.5.0",
      "model_name": "ButtonModel",
      "state": {
       "icon": "compress",
       "layout": "IPY_MODEL_bfd4cad5f5bd485687ff3f9a171295cd",
       "style": "IPY_MODEL_9a963ca1c075475fb3eb5f422d6397ef"
      }
     },
     "cf51c55d459f4ca6a1b670b196903543": {
      "model_module": "@jupyter-widgets/base",
      "model_module_version": "1.2.0",
      "model_name": "LayoutModel",
      "state": {}
     },
     "cf9a031df75f406e83cd2bb081a66d5b": {
      "model_module": "@jupyter-widgets/base",
      "model_module_version": "1.2.0",
      "model_name": "LayoutModel",
      "state": {
       "border": "0px solid black"
      }
     },
     "cfd392cec86845eb92ee0e9ad0569d7a": {
      "model_module": "@jupyter-widgets/base",
      "model_module_version": "1.2.0",
      "model_name": "LayoutModel",
      "state": {}
     },
     "cff9fb5e019b4446a141353fe02990a9": {
      "model_module": "@jupyter-widgets/base",
      "model_module_version": "1.2.0",
      "model_name": "LayoutModel",
      "state": {}
     },
     "d008aa3b2c0c44e78ae9e8c6d4e920b9": {
      "model_module": "@jupyter-widgets/base",
      "model_module_version": "1.2.0",
      "model_name": "LayoutModel",
      "state": {}
     },
     "d03d303b450f469aa2d26065bb5be1d8": {
      "model_module": "@jupyter-widgets/controls",
      "model_module_version": "1.5.0",
      "model_name": "DescriptionStyleModel",
      "state": {
       "description_width": ""
      }
     },
     "d0425c1de0c049768d1500a604126ab0": {
      "model_module": "@jupyter-widgets/base",
      "model_module_version": "1.2.0",
      "model_name": "LayoutModel",
      "state": {
       "border": "0px solid black"
      }
     },
     "d1445b4a3be44d9eb809ea9bd558bb3e": {
      "model_module": "@jupyter-widgets/controls",
      "model_module_version": "1.5.0",
      "model_name": "ButtonModel",
      "state": {
       "description": "Save image",
       "layout": "IPY_MODEL_fedd3abc0337414ea0f552d37104a8f8",
       "style": "IPY_MODEL_881638aa861a4dc5b1c93c903e00b5b0",
       "tooltip": "Save current frame to file.\nCurrently .png and .html are supported.\nIt takes a bit time, please be patient."
      }
     },
     "d1974c54a4b144e88ed5b89f12bd1592": {
      "model_module": "@jupyter-widgets/base",
      "model_module_version": "1.2.0",
      "model_name": "LayoutModel",
      "state": {}
     },
     "d1ad5e1b0fbe4f8b9502af0c24bc7cd6": {
      "model_module": "@jupyter-widgets/controls",
      "model_module_version": "1.5.0",
      "model_name": "ButtonStyleModel",
      "state": {}
     },
     "d1bac6e1a3a147df9a65410aacfe6732": {
      "model_module": "@jupyter-widgets/controls",
      "model_module_version": "1.5.0",
      "model_name": "FloatSliderModel",
      "state": {
       "description": "Force scale",
       "layout": "IPY_MODEL_f2e7a268387148bd89edae08cb7b1ff9",
       "step": 0.1,
       "style": "IPY_MODEL_73f18a4987314e6197698be4e70d26ce",
       "value": 0.5
      }
     },
     "d267138bc5404002b65fc75ac75c07a9": {
      "model_module": "@jupyter-widgets/controls",
      "model_module_version": "1.5.0",
      "model_name": "DescriptionStyleModel",
      "state": {
       "description_width": ""
      }
     },
     "d29a05a164e647dd845945bed8f00d70": {
      "model_module": "@jupyter-widgets/controls",
      "model_module_version": "1.5.0",
      "model_name": "DescriptionStyleModel",
      "state": {
       "description_width": ""
      }
     },
     "d2a6b82d1cbd4c53b1bb5599d621dfc3": {
      "model_module": "@jupyter-widgets/base",
      "model_module_version": "1.2.0",
      "model_name": "LayoutModel",
      "state": {}
     },
     "d311b2906f9a43f6995c0de66d24ab60": {
      "model_module": "@jupyter-widgets/base",
      "model_module_version": "1.2.0",
      "model_name": "LayoutModel",
      "state": {}
     },
     "d377ba07c9c643d383093cb932886079": {
      "model_module": "nglview-js-widgets",
      "model_module_version": "3.0.1",
      "model_name": "ColormakerRegistryModel",
      "state": {
       "_msg_ar": [],
       "_msg_q": [],
       "_ready": true,
       "layout": "IPY_MODEL_47d0637592174ab6bec49863dfb2fc9d"
      }
     },
     "d3dcaf45a795436e823b7d04b90914bd": {
      "model_module": "@jupyter-widgets/controls",
      "model_module_version": "1.5.0",
      "model_name": "ButtonStyleModel",
      "state": {}
     },
     "d5c7e68896cc45419d608b99ef7e439c": {
      "model_module": "@jupyter-widgets/controls",
      "model_module_version": "1.5.0",
      "model_name": "VBoxModel",
      "state": {
       "children": [
        "IPY_MODEL_d61ab1747ec3491fa5c3e7e490f73c78",
        "IPY_MODEL_4420db2a1b224c55bf486f36cf836072",
        "IPY_MODEL_e3d2f9bd53c843caadde4199a001383e",
        "IPY_MODEL_0dadbf3d068b48a993716b767a9bdb49",
        "IPY_MODEL_53fe417f5cb34e5584e55d99f07432ee",
        "IPY_MODEL_8e2312f21dd74aafb976c3c1885f6870",
        "IPY_MODEL_06900af08e154e51850447e83dcc3614",
        "IPY_MODEL_09b972025f504cf98f74693ef0cee815",
        "IPY_MODEL_98fa6ed4d6e44b408a08944995ee53d3",
        "IPY_MODEL_f10fe13e24954e34a9b9088c81eb241f"
       ],
       "layout": "IPY_MODEL_1b3542aff3ce4679bca26d0a9d0cd0b0"
      }
     },
     "d61ab1747ec3491fa5c3e7e490f73c78": {
      "model_module": "@jupyter-widgets/controls",
      "model_module_version": "1.5.0",
      "model_name": "DropdownModel",
      "state": {
       "_options_labels": [
        "All",
        "Si"
       ],
       "description": "Show",
       "index": 0,
       "layout": "IPY_MODEL_da806b601175477db1be096d7fedda96",
       "style": "IPY_MODEL_dd86f6086e0543d3aeb61a152a76ab7c"
      }
     },
     "d65d513a2d784a559a5b3b5ecba40910": {
      "model_module": "@jupyter-widgets/controls",
      "model_module_version": "1.5.0",
      "model_name": "HBoxModel",
      "state": {
       "children": [
        "IPY_MODEL_cd5043c5c74b49c7879a83ce6efa1dbe",
        "IPY_MODEL_4fb7bdc369584396a1ee7c79760123e1"
       ],
       "layout": "IPY_MODEL_e08b5c46c633496faf6afcb22fab2690"
      }
     },
     "d65ea6c59820463282e28bde94f1731e": {
      "model_module": "@jupyter-widgets/base",
      "model_module_version": "1.2.0",
      "model_name": "LayoutModel",
      "state": {}
     },
     "d65f3d392f764c268fdb68fa9745d635": {
      "model_module": "@jupyter-widgets/base",
      "model_module_version": "1.2.0",
      "model_name": "LayoutModel",
      "state": {}
     },
     "d692991c3f9f485eb9bfece0e1a2d358": {
      "model_module": "@jupyter-widgets/controls",
      "model_module_version": "1.5.0",
      "model_name": "ButtonModel",
      "state": {
       "description": "Download image",
       "layout": "IPY_MODEL_028fea97ce9b47189b46af31f1f75496",
       "style": "IPY_MODEL_06020b1cc53444ddbd776817f6e5dcbb",
       "tooltip": "Download current frame to your local PC"
      }
     },
     "d6d057e80b5c48e98711c34f87a9f17a": {
      "model_module": "@jupyter-widgets/controls",
      "model_module_version": "1.5.0",
      "model_name": "ButtonStyleModel",
      "state": {}
     },
     "d6f4c8c41e7e4eeea080b61e5e4cc1c4": {
      "model_module": "@jupyter-widgets/controls",
      "model_module_version": "1.5.0",
      "model_name": "DescriptionStyleModel",
      "state": {
       "description_width": ""
      }
     },
     "d7373a36695a424e9b4b712901a98860": {
      "model_module": "@jupyter-widgets/output",
      "model_module_version": "1.0.0",
      "model_name": "OutputModel",
      "state": {
       "layout": "IPY_MODEL_9db8f5db8b3a40c09a8d563c00bb2d4f"
      }
     },
     "d7646425913a446c8fc1724f9b82b5cd": {
      "model_module": "@jupyter-widgets/controls",
      "model_module_version": "1.5.0",
      "model_name": "DescriptionStyleModel",
      "state": {
       "description_width": ""
      }
     },
     "d7a6e0e2d3c3471ab8b94bc1db8da2e6": {
      "model_module": "@jupyter-widgets/controls",
      "model_module_version": "1.5.0",
      "model_name": "FloatSliderModel",
      "state": {
       "description": "Charge scale",
       "layout": "IPY_MODEL_b34be557aa2544cf8fc2c10249026eb3",
       "step": 0.1,
       "style": "IPY_MODEL_a157ad307c99495e912b7182dfe423ae",
       "value": 1
      }
     },
     "d82dd590943f42ceb5c550bdba2efe6e": {
      "model_module": "@jupyter-widgets/controls",
      "model_module_version": "1.5.0",
      "model_name": "HBoxModel",
      "state": {
       "children": [
        "IPY_MODEL_cacd796bfcf945a6a1db72136e7bf10f",
        "IPY_MODEL_b68962ed564946ee9f53f8ea8ccd92ed"
       ],
       "layout": "IPY_MODEL_e2ef95721a1a4818928f84e8f6ce01eb"
      }
     },
     "d83d0ea7d3004de3a92c4a4b9922f5b1": {
      "model_module": "@jupyter-widgets/controls",
      "model_module_version": "1.5.0",
      "model_name": "VBoxModel",
      "state": {
       "children": [
        "IPY_MODEL_974f913ebb4f4c9c87d064cb19a19088",
        "IPY_MODEL_985b76dc53eb4dca9a0622151ad7fc9c",
        "IPY_MODEL_e315360fbeb54e91842f72da307042a5",
        "IPY_MODEL_cdf02d0d46e949ce9480a7c91be65db4",
        "IPY_MODEL_d65d513a2d784a559a5b3b5ecba40910",
        "IPY_MODEL_fe28e56e73b0431aaba1c16d62b9c014",
        "IPY_MODEL_63ae4345031d4534b77946bab5155f39",
        "IPY_MODEL_c560531fe149482f8967d2b544cfc980",
        "IPY_MODEL_4ef0ea64bbbb45bdb564b4c5d24d00a4",
        "IPY_MODEL_eb18eafb5f2a4bbf87d774ada56914e0"
       ],
       "layout": "IPY_MODEL_716960839b7e41bf82328d9acd4b7ae6"
      }
     },
     "d877763353dc435daf0d73685b1a5825": {
      "model_module": "@jupyter-widgets/controls",
      "model_module_version": "1.5.0",
      "model_name": "DescriptionStyleModel",
      "state": {
       "description_width": ""
      }
     },
     "d89de63321744296a644119f72c5c3e8": {
      "model_module": "@jupyter-widgets/base",
      "model_module_version": "1.2.0",
      "model_name": "LayoutModel",
      "state": {}
     },
     "d8a951f6812e4579a1144d5f9b0b8ecb": {
      "model_module": "@jupyter-widgets/base",
      "model_module_version": "1.2.0",
      "model_name": "LayoutModel",
      "state": {}
     },
     "d9919f5368734233b7c8e29bd70ce001": {
      "model_module": "@jupyter-widgets/controls",
      "model_module_version": "1.5.0",
      "model_name": "ImageModel",
      "state": {
       "layout": "IPY_MODEL_cf51c55d459f4ca6a1b670b196903543",
       "width": "900.0"
      }
     },
     "d9d1b9244b6640cab36e919ecb05e5e5": {
      "model_module": "@jupyter-widgets/controls",
      "model_module_version": "1.5.0",
      "model_name": "ButtonModel",
      "state": {
       "description": "Download image",
       "layout": "IPY_MODEL_673fe4c0f7b9434dae26c6e04967b4d1",
       "style": "IPY_MODEL_d3dcaf45a795436e823b7d04b90914bd",
       "tooltip": "Download current frame to your local PC"
      }
     },
     "da10846965ed4e9bac3d471a3de8b804": {
      "model_module": "@jupyter-widgets/controls",
      "model_module_version": "1.5.0",
      "model_name": "CheckboxModel",
      "state": {
       "description": "Show force",
       "disabled": false,
       "layout": "IPY_MODEL_4fc394b809ff43ffba0573241645b095",
       "style": "IPY_MODEL_5019463e157142f398669bb0aa24e80e",
       "value": false
      }
     },
     "da3f7ca86aac483d963c58c597868aba": {
      "model_module": "@jupyter-widgets/controls",
      "model_module_version": "1.5.0",
      "model_name": "ButtonStyleModel",
      "state": {}
     },
     "da5c4d309e3e470fbce111b0fb39c507": {
      "model_module": "@jupyter-widgets/controls",
      "model_module_version": "1.5.0",
      "model_name": "LinkModel",
      "state": {
       "source": [
        "IPY_MODEL_3f710e4c233f4c9fb8a5ea8c9168e53d",
        "max"
       ],
       "target": [
        "IPY_MODEL_b24f694e68914b4b8b9a954a3b18e0d4",
        "max_frame"
       ]
      }
     },
     "da806b601175477db1be096d7fedda96": {
      "model_module": "@jupyter-widgets/base",
      "model_module_version": "1.2.0",
      "model_name": "LayoutModel",
      "state": {}
     },
     "dae5462a4cda4ddf8620ddc5229ba842": {
      "model_module": "@jupyter-widgets/controls",
      "model_module_version": "1.5.0",
      "model_name": "LinkModel",
      "state": {
       "source": [
        "IPY_MODEL_069b97bf36a047afa8f8ead9236b677f",
        "value"
       ],
       "target": [
        "IPY_MODEL_9fc1b3293dc64d33872a1398c756f9d1",
        "value"
       ]
      }
     },
     "dafb15a5dd6a41b08eb4214e9d0aae21": {
      "model_module": "@jupyter-widgets/controls",
      "model_module_version": "1.5.0",
      "model_name": "ButtonModel",
      "state": {
       "icon": "compress",
       "layout": "IPY_MODEL_eedf9ad802974d349b2000db6d91eee1",
       "style": "IPY_MODEL_7106316cfb8b45888510f3af3e0bb783"
      }
     },
     "dc43fcf9b6484c4782a723744e20709e": {
      "model_module": "@jupyter-widgets/output",
      "model_module_version": "1.0.0",
      "model_name": "OutputModel",
      "state": {
       "layout": "IPY_MODEL_bcd05f581cb542dab78c8bf1a129d4d3"
      }
     },
     "dc796b92e18747f4b66b259b57e7514c": {
      "model_module": "@jupyter-widgets/base",
      "model_module_version": "1.2.0",
      "model_name": "LayoutModel",
      "state": {}
     },
     "dcf1def3504e4005b502b47c780dadd5": {
      "model_module": "@jupyter-widgets/base",
      "model_module_version": "1.2.0",
      "model_name": "LayoutModel",
      "state": {}
     },
     "dd0962ad514345c2a2c1fc39ce7b3316": {
      "model_module": "@jupyter-widgets/controls",
      "model_module_version": "1.5.0",
      "model_name": "LinkModel",
      "state": {
       "source": [
        "IPY_MODEL_438aaf87df544c77b4210c6ebc023878",
        "value"
       ],
       "target": [
        "IPY_MODEL_23ae12e1c80448f2808c75588d3b4df6",
        "value"
       ]
      }
     },
     "dd86f6086e0543d3aeb61a152a76ab7c": {
      "model_module": "@jupyter-widgets/controls",
      "model_module_version": "1.5.0",
      "model_name": "DescriptionStyleModel",
      "state": {
       "description_width": ""
      }
     },
     "dd97100c661b48f980517d956a9dfb4b": {
      "model_module": "@jupyter-widgets/controls",
      "model_module_version": "1.5.0",
      "model_name": "ImageModel",
      "state": {
       "layout": "IPY_MODEL_a3c814f4a0d24e4581344830bc34f89d",
       "width": "900.0"
      }
     },
     "ddb387e591084f00944f4da557ac580d": {
      "model_module": "@jupyter-widgets/controls",
      "model_module_version": "1.5.0",
      "model_name": "LinkModel",
      "state": {
       "source": [
        "IPY_MODEL_298d9d8580a94e20bae138dbc063756a",
        "value"
       ],
       "target": [
        "IPY_MODEL_b3831aa119204e438458caf6219f8647",
        "frame"
       ]
      }
     },
     "deb6809f04ac427c813f98ffac20c4e0": {
      "model_module": "@jupyter-widgets/base",
      "model_module_version": "1.2.0",
      "model_name": "LayoutModel",
      "state": {}
     },
     "dfff59c5e5b6402b81b08fde16fb52fb": {
      "model_module": "@jupyter-widgets/controls",
      "model_module_version": "1.5.0",
      "model_name": "LinkModel",
      "state": {
       "source": [
        "IPY_MODEL_a820a79f57474f849325969bdefbfbb9",
        "max"
       ],
       "target": [
        "IPY_MODEL_b24f694e68914b4b8b9a954a3b18e0d4",
        "max_frame"
       ]
      }
     },
     "e0160b7d76e04d6a8ceac44b33099f9b": {
      "model_module": "@jupyter-widgets/controls",
      "model_module_version": "1.5.0",
      "model_name": "CheckboxModel",
      "state": {
       "description": "Show force",
       "disabled": false,
       "layout": "IPY_MODEL_8c44265b0e484534b67220f74b3c68ed",
       "style": "IPY_MODEL_9742d51b6fc44a39bd89ce9b35822f22",
       "value": false
      }
     },
     "e08b5c46c633496faf6afcb22fab2690": {
      "model_module": "@jupyter-widgets/base",
      "model_module_version": "1.2.0",
      "model_name": "LayoutModel",
      "state": {}
     },
     "e0cb2a33000045d29aaf7b955934fa74": {
      "model_module": "@jupyter-widgets/controls",
      "model_module_version": "1.5.0",
      "model_name": "LinkModel",
      "state": {
       "source": [
        "IPY_MODEL_f1a1a26ae1e842eca1b0eaee2ba627e6",
        "max"
       ],
       "target": [
        "IPY_MODEL_2f051ec1489541cdb9175863e6fa1184",
        "max_frame"
       ]
      }
     },
     "e15daea3d7534011bfd99613dc290a31": {
      "model_module": "@jupyter-widgets/base",
      "model_module_version": "1.2.0",
      "model_name": "LayoutModel",
      "state": {}
     },
     "e20a711e3dd24ebcbf1dcf47085ea423": {
      "model_module": "@jupyter-widgets/controls",
      "model_module_version": "1.5.0",
      "model_name": "DescriptionStyleModel",
      "state": {
       "description_width": ""
      }
     },
     "e2a870c9dd1749228654a6febd0fdd3b": {
      "model_module": "@jupyter-widgets/controls",
      "model_module_version": "1.5.0",
      "model_name": "FloatSliderModel",
      "state": {
       "description": "Force scale",
       "layout": "IPY_MODEL_f389c2adb2904576ac2d79ffa6c47272",
       "step": 0.1,
       "style": "IPY_MODEL_26c171e86f854393bb1a62621eb63050",
       "value": 0.5
      }
     },
     "e2ef95721a1a4818928f84e8f6ce01eb": {
      "model_module": "@jupyter-widgets/base",
      "model_module_version": "1.2.0",
      "model_name": "LayoutModel",
      "state": {}
     },
     "e315360fbeb54e91842f72da307042a5": {
      "model_module": "@jupyter-widgets/controls",
      "model_module_version": "1.5.0",
      "model_name": "FloatSliderModel",
      "state": {
       "description": "Ball size",
       "layout": "IPY_MODEL_d1974c54a4b144e88ed5b89f12bd1592",
       "max": 1.5,
       "step": 0.01,
       "style": "IPY_MODEL_e3c3dbd6d6134dbc89a1360f2348e2c9",
       "value": 0.5
      }
     },
     "e328e5a7ac5e48f8af8f1031f460ab2a": {
      "model_module": "@jupyter-widgets/base",
      "model_module_version": "1.2.0",
      "model_name": "LayoutModel",
      "state": {
       "border": "0px solid black"
      }
     },
     "e3759a366fdf4608809345c9c9a2639c": {
      "model_module": "@jupyter-widgets/controls",
      "model_module_version": "1.5.0",
      "model_name": "SliderStyleModel",
      "state": {
       "description_width": ""
      }
     },
     "e376a4fc01d94862be70abdcb9ac9773": {
      "model_module": "@jupyter-widgets/base",
      "model_module_version": "1.2.0",
      "model_name": "LayoutModel",
      "state": {}
     },
     "e39e2581aee64cb8a74cb7959cdd9e99": {
      "model_module": "@jupyter-widgets/controls",
      "model_module_version": "1.5.0",
      "model_name": "ImageModel",
      "state": {
       "layout": "IPY_MODEL_af93d276240a464f8faa6c434f22f08c",
       "width": "900.0"
      }
     },
     "e3c3dbd6d6134dbc89a1360f2348e2c9": {
      "model_module": "@jupyter-widgets/controls",
      "model_module_version": "1.5.0",
      "model_name": "SliderStyleModel",
      "state": {
       "description_width": ""
      }
     },
     "e3d2f9bd53c843caadde4199a001383e": {
      "model_module": "@jupyter-widgets/controls",
      "model_module_version": "1.5.0",
      "model_name": "FloatSliderModel",
      "state": {
       "description": "Ball size",
       "layout": "IPY_MODEL_05a015a431344fe0bb41e8c84d61d651",
       "max": 1.5,
       "step": 0.01,
       "style": "IPY_MODEL_33897642339740a48b17ba2c62391098",
       "value": 0.5
      }
     },
     "e3e3ae241d5542b889facab412e4d6f3": {
      "model_module": "@jupyter-widgets/controls",
      "model_module_version": "1.5.0",
      "model_name": "SliderStyleModel",
      "state": {
       "description_width": ""
      }
     },
     "e43d2400069b439fa423529d447e2e19": {
      "model_module": "@jupyter-widgets/controls",
      "model_module_version": "1.5.0",
      "model_name": "DescriptionStyleModel",
      "state": {
       "description_width": ""
      }
     },
     "e46b2e0552674756b89cfbdeff2751df": {
      "model_module": "@jupyter-widgets/base",
      "model_module_version": "1.2.0",
      "model_name": "LayoutModel",
      "state": {}
     },
     "e4bbc9afc3044b7b92b14f2b0c2fb894": {
      "model_module": "@jupyter-widgets/controls",
      "model_module_version": "1.5.0",
      "model_name": "CheckboxModel",
      "state": {
       "description": "Show force",
       "disabled": false,
       "layout": "IPY_MODEL_f1dee64046db44478c410115b89797de",
       "style": "IPY_MODEL_bc3627fd586247c7a6467b574722280e",
       "value": false
      }
     },
     "e551f7afbaf84a9db8f4d495ad1fa96c": {
      "model_module": "@jupyter-widgets/controls",
      "model_module_version": "1.5.0",
      "model_name": "ButtonModel",
      "state": {
       "description": "Download image",
       "layout": "IPY_MODEL_5c281d2eb7ac463b99c07b7a9dc29653",
       "style": "IPY_MODEL_9ddfcae179004ad99098f13bb219d0a1",
       "tooltip": "Download current frame to your local PC"
      }
     },
     "e6db427eeca44ff39a7bb57a6cdde308": {
      "model_module": "@jupyter-widgets/base",
      "model_module_version": "1.2.0",
      "model_name": "LayoutModel",
      "state": {
       "width": "34px"
      }
     },
     "e6f3807771164924b5fcd10e3c184101": {
      "model_module": "@jupyter-widgets/controls",
      "model_module_version": "1.5.0",
      "model_name": "LinkModel",
      "state": {
       "source": [
        "IPY_MODEL_73b1b9e5d3324435acfe87aaea270405",
        "max"
       ],
       "target": [
        "IPY_MODEL_0bd1362bc7944b0585f3c0bb5f51654a",
        "max_frame"
       ]
      }
     },
     "e70d389f8d3f485b88104352e21be9fc": {
      "model_module": "@jupyter-widgets/controls",
      "model_module_version": "1.5.0",
      "model_name": "HBoxModel",
      "state": {
       "children": [
        "IPY_MODEL_069b97bf36a047afa8f8ead9236b677f",
        "IPY_MODEL_9fc1b3293dc64d33872a1398c756f9d1"
       ],
       "layout": "IPY_MODEL_79c4932d46cf4f55a014960bd4b24e60"
      }
     },
     "e8580bd6d08045c19f3b8c71e1bc8007": {
      "model_module": "@jupyter-widgets/controls",
      "model_module_version": "1.5.0",
      "model_name": "FloatSliderModel",
      "state": {
       "description": "Ball size",
       "layout": "IPY_MODEL_601b4352ce3645b89174b464c5b8e6c0",
       "max": 1.5,
       "step": 0.01,
       "style": "IPY_MODEL_a59d41b15eb04670a496c2a29fe625e8",
       "value": 0.5
      }
     },
     "e8c2d57d2d5d4ebc8e438b6c7b403e65": {
      "model_module": "@jupyter-widgets/controls",
      "model_module_version": "1.5.0",
      "model_name": "DescriptionStyleModel",
      "state": {
       "description_width": ""
      }
     },
     "e9c77b8156c94f63848319ce02d6b753": {
      "model_module": "@jupyter-widgets/controls",
      "model_module_version": "1.5.0",
      "model_name": "DescriptionStyleModel",
      "state": {
       "description_width": ""
      }
     },
     "e9ccd457442f4b25bbd77a4110e16430": {
      "model_module": "@jupyter-widgets/base",
      "model_module_version": "1.2.0",
      "model_name": "LayoutModel",
      "state": {}
     },
     "e9f0bd2878c94a6d9630726292da0f8e": {
      "model_module": "@jupyter-widgets/controls",
      "model_module_version": "1.5.0",
      "model_name": "PlayModel",
      "state": {
       "layout": "IPY_MODEL_c8d3c09543c145e48694042fbe73d539",
       "max": 0,
       "style": "IPY_MODEL_1a0e05c65795458dbc3a3123e8cd83cb"
      }
     },
     "eb18eafb5f2a4bbf87d774ada56914e0": {
      "model_module": "@jupyter-widgets/output",
      "model_module_version": "1.0.0",
      "model_name": "OutputModel",
      "state": {
       "layout": "IPY_MODEL_582077e0ae7949a7a0786431e866c0a4"
      }
     },
     "ec70d965e0cc44408b37b42fcf4d1c17": {
      "model_module": "@jupyter-widgets/controls",
      "model_module_version": "1.5.0",
      "model_name": "IntSliderModel",
      "state": {
       "layout": "IPY_MODEL_cae199d04acf487589916b7bfb4eb88f",
       "max": 0,
       "style": "IPY_MODEL_2925ca94430c49098200b407db6acde8"
      }
     },
     "ed6eee895ff348c581be07c94d68b0ad": {
      "model_module": "@jupyter-widgets/controls",
      "model_module_version": "1.5.0",
      "model_name": "ButtonStyleModel",
      "state": {}
     },
     "ed7ab08c006647788a6e2d233e49c0b4": {
      "model_module": "@jupyter-widgets/controls",
      "model_module_version": "1.5.0",
      "model_name": "VBoxModel",
      "state": {
       "children": [
        "IPY_MODEL_70c873e865ce4e7bbd29507ac539bebe",
        "IPY_MODEL_411c1023f12c403ebe10fa2fa4fecd13",
        "IPY_MODEL_5c87aea55a6a435b807fa1296aa73eb7",
        "IPY_MODEL_b2d9f7990a9844c7a2f3886ca772a2d5",
        "IPY_MODEL_215c20f663ef4797876ce5c92fb012e2",
        "IPY_MODEL_da10846965ed4e9bac3d471a3de8b804",
        "IPY_MODEL_49c9bd69b0014bcd998336d35e3c8cac",
        "IPY_MODEL_a54c3d7cb959428f8fbd39fd3043cfd1",
        "IPY_MODEL_b00e5ee7421e4794b060b7f40530fc03",
        "IPY_MODEL_dc43fcf9b6484c4782a723744e20709e"
       ],
       "layout": "IPY_MODEL_655f4c7ca6a04bd78d032826c7261131"
      }
     },
     "eda689d44ba64cd086c181047312af6d": {
      "model_module": "@jupyter-widgets/base",
      "model_module_version": "1.2.0",
      "model_name": "LayoutModel",
      "state": {}
     },
     "edc9cc94cf8e44f491ea80b58907238b": {
      "model_module": "@jupyter-widgets/controls",
      "model_module_version": "1.5.0",
      "model_name": "CheckboxModel",
      "state": {
       "description": "Show force",
       "disabled": false,
       "layout": "IPY_MODEL_af739e5be9ec4bc597fa201de4652287",
       "style": "IPY_MODEL_38c244bcd9e840d1b85a59144c3aa32d",
       "value": false
      }
     },
     "ee727dd2cac942088efabf1495b763e3": {
      "model_module": "@jupyter-widgets/base",
      "model_module_version": "1.2.0",
      "model_name": "LayoutModel",
      "state": {}
     },
     "eeb845a0236b4fee9bfa7501bab28995": {
      "model_module": "@jupyter-widgets/base",
      "model_module_version": "1.2.0",
      "model_name": "LayoutModel",
      "state": {}
     },
     "eedf9ad802974d349b2000db6d91eee1": {
      "model_module": "@jupyter-widgets/base",
      "model_module_version": "1.2.0",
      "model_name": "LayoutModel",
      "state": {
       "width": "34px"
      }
     },
     "ef0ced1f0589457697946ff5955b5ccf": {
      "model_module": "@jupyter-widgets/controls",
      "model_module_version": "1.5.0",
      "model_name": "CheckboxModel",
      "state": {
       "description": "Show force",
       "disabled": false,
       "layout": "IPY_MODEL_0114f0eb6f024ceba73e78e579db79fc",
       "style": "IPY_MODEL_f738ecde8937498cb8d86fc40ba91a6e",
       "value": false
      }
     },
     "ef7e4351d1024061bafdca86bc03b68b": {
      "model_module": "@jupyter-widgets/controls",
      "model_module_version": "1.5.0",
      "model_name": "FloatSliderModel",
      "state": {
       "description": "Force scale",
       "layout": "IPY_MODEL_75ebbc882dbc4b308faa0ab3c1e998f3",
       "step": 0.1,
       "style": "IPY_MODEL_cc095b92f964456babac15857abbdcf5",
       "value": 0.5
      }
     },
     "f0e72fbf2dcf4ca382170cc6329c5b16": {
      "model_module": "@jupyter-widgets/output",
      "model_module_version": "1.0.0",
      "model_name": "OutputModel",
      "state": {
       "layout": "IPY_MODEL_12299237e8f04152809e67e231707317"
      }
     },
     "f0efc6052f4d4ca78c32f83fac5f60c3": {
      "model_module": "@jupyter-widgets/base",
      "model_module_version": "1.2.0",
      "model_name": "LayoutModel",
      "state": {}
     },
     "f10fe13e24954e34a9b9088c81eb241f": {
      "model_module": "@jupyter-widgets/output",
      "model_module_version": "1.0.0",
      "model_name": "OutputModel",
      "state": {
       "layout": "IPY_MODEL_4980c36937ae4398920ccebd37ab3afb"
      }
     },
     "f14291328ded4f5ea5ac534f629bac3c": {
      "model_module": "@jupyter-widgets/base",
      "model_module_version": "1.2.0",
      "model_name": "LayoutModel",
      "state": {}
     },
     "f15b0991c3864c5d963e76154b4ae0cd": {
      "model_module": "@jupyter-widgets/controls",
      "model_module_version": "1.5.0",
      "model_name": "DescriptionStyleModel",
      "state": {
       "description_width": ""
      }
     },
     "f177a7bc2eb24ca5a29a03b37bd077a5": {
      "model_module": "@jupyter-widgets/controls",
      "model_module_version": "1.5.0",
      "model_name": "ButtonModel",
      "state": {
       "icon": "compress",
       "layout": "IPY_MODEL_e6db427eeca44ff39a7bb57a6cdde308",
       "style": "IPY_MODEL_b7012e811e654683b71388d56508fc38"
      }
     },
     "f1a1a26ae1e842eca1b0eaee2ba627e6": {
      "model_module": "@jupyter-widgets/controls",
      "model_module_version": "1.5.0",
      "model_name": "PlayModel",
      "state": {
       "layout": "IPY_MODEL_3d1bf8e067b344fea154801af1541833",
       "max": 0,
       "style": "IPY_MODEL_0e7ca0d21d304b719a8fca97b9625416"
      }
     },
     "f1dd78f500b9408dab5bfa7f1ea129ab": {
      "model_module": "@jupyter-widgets/controls",
      "model_module_version": "1.5.0",
      "model_name": "ButtonStyleModel",
      "state": {}
     },
     "f1dee64046db44478c410115b89797de": {
      "model_module": "@jupyter-widgets/base",
      "model_module_version": "1.2.0",
      "model_name": "LayoutModel",
      "state": {}
     },
     "f2b6b4bb2e1546c1b1fdc6a7c90bb053": {
      "model_module": "@jupyter-widgets/base",
      "model_module_version": "1.2.0",
      "model_name": "LayoutModel",
      "state": {}
     },
     "f2d49d5b590e452fbfc789ea9e9717cf": {
      "model_module": "@jupyter-widgets/controls",
      "model_module_version": "1.5.0",
      "model_name": "FloatSliderModel",
      "state": {
       "description": "Ball size",
       "layout": "IPY_MODEL_370aae398e444037be9c218c377c8a86",
       "max": 1.5,
       "step": 0.01,
       "style": "IPY_MODEL_78c1de96772f4cbca33e95c6dc55342e",
       "value": 0.5
      }
     },
     "f2e7a268387148bd89edae08cb7b1ff9": {
      "model_module": "@jupyter-widgets/base",
      "model_module_version": "1.2.0",
      "model_name": "LayoutModel",
      "state": {}
     },
     "f3180901c4a44828be577f3e5e3cee16": {
      "model_module": "@jupyter-widgets/base",
      "model_module_version": "1.2.0",
      "model_name": "LayoutModel",
      "state": {}
     },
     "f389c2adb2904576ac2d79ffa6c47272": {
      "model_module": "@jupyter-widgets/base",
      "model_module_version": "1.2.0",
      "model_name": "LayoutModel",
      "state": {}
     },
     "f485421a5db6438698d1378d00544c68": {
      "model_module": "@jupyter-widgets/controls",
      "model_module_version": "1.5.0",
      "model_name": "FloatSliderModel",
      "state": {
       "description": "Charge scale",
       "layout": "IPY_MODEL_a32501bf81ef4a5d9d70600d610e19bf",
       "step": 0.1,
       "style": "IPY_MODEL_26999ba5dce648549e46c8d71dc225b9",
       "value": 1
      }
     },
     "f4dbc031d7434c3899e446c1f5199e9d": {
      "model_module": "@jupyter-widgets/base",
      "model_module_version": "1.2.0",
      "model_name": "LayoutModel",
      "state": {}
     },
     "f59097d129584fabb69d177788363f41": {
      "model_module": "@jupyter-widgets/controls",
      "model_module_version": "1.5.0",
      "model_name": "ButtonStyleModel",
      "state": {}
     },
     "f5fb8196886249449ec5ca9090f0121d": {
      "model_module": "@jupyter-widgets/base",
      "model_module_version": "1.2.0",
      "model_name": "LayoutModel",
      "state": {}
     },
     "f66f51e343e844b19e34dd702d6b507d": {
      "model_module": "@jupyter-widgets/controls",
      "model_module_version": "1.5.0",
      "model_name": "DescriptionStyleModel",
      "state": {
       "description_width": ""
      }
     },
     "f6bf026139ae4e38814c16a2e189e6ec": {
      "model_module": "@jupyter-widgets/controls",
      "model_module_version": "1.5.0",
      "model_name": "HBoxModel",
      "state": {
       "children": [
        "IPY_MODEL_506d79d7327947e8ab3d9d94b6ca6e82",
        "IPY_MODEL_7d45a10ab10a4e69a326db3d3fbbd48c"
       ],
       "layout": "IPY_MODEL_7c1399b933ea41a6815745ab0b35fbf8"
      }
     },
     "f6f6d2f9e5bb4130b11602ce1de88767": {
      "model_module": "@jupyter-widgets/output",
      "model_module_version": "1.0.0",
      "model_name": "OutputModel",
      "state": {
       "layout": "IPY_MODEL_6e3b90f149b746d8994b075473a59097"
      }
     },
     "f6f908c55860490492827d8705caef7d": {
      "model_module": "@jupyter-widgets/base",
      "model_module_version": "1.2.0",
      "model_name": "LayoutModel",
      "state": {}
     },
     "f738ecde8937498cb8d86fc40ba91a6e": {
      "model_module": "@jupyter-widgets/controls",
      "model_module_version": "1.5.0",
      "model_name": "DescriptionStyleModel",
      "state": {
       "description_width": ""
      }
     },
     "f77d74bdbeae4d01860f46ccda29a999": {
      "model_module": "@jupyter-widgets/base",
      "model_module_version": "1.2.0",
      "model_name": "LayoutModel",
      "state": {}
     },
     "f7dd2e61fcea492a89214028896a25d0": {
      "model_module": "@jupyter-widgets/base",
      "model_module_version": "1.2.0",
      "model_name": "LayoutModel",
      "state": {}
     },
     "f7f895488b5c4df59ddc5f2a2d989330": {
      "model_module": "@jupyter-widgets/controls",
      "model_module_version": "1.5.0",
      "model_name": "LinkModel",
      "state": {
       "source": [
        "IPY_MODEL_004d656aeff34ca39d87f39acdeed466",
        "value"
       ],
       "target": [
        "IPY_MODEL_78d5411d07c0470db8465afd86d47175",
        "frame"
       ]
      }
     },
     "f85dd17ca4d24e5897aa8c451ef6266c": {
      "model_module": "@jupyter-widgets/controls",
      "model_module_version": "1.5.0",
      "model_name": "ButtonModel",
      "state": {
       "description": "Save image",
       "layout": "IPY_MODEL_0c4f569c9f674a7c816c5bc079474990",
       "style": "IPY_MODEL_82e90c4c9f814cefa74adee4c0df5649",
       "tooltip": "Save current frame to file.\nCurrently .png and .html are supported.\nIt takes a bit time, please be patient."
      }
     },
     "f8c56803975b471bbc7752db7ac11971": {
      "model_module": "@jupyter-widgets/controls",
      "model_module_version": "1.5.0",
      "model_name": "DescriptionStyleModel",
      "state": {
       "description_width": ""
      }
     },
     "f9b244f70e114487ab4c667b10d172a9": {
      "model_module": "@jupyter-widgets/controls",
      "model_module_version": "1.5.0",
      "model_name": "FloatSliderModel",
      "state": {
       "description": "Charge scale",
       "layout": "IPY_MODEL_993292a969ed48ecbcb2259c54dc709f",
       "step": 0.1,
       "style": "IPY_MODEL_a6bd0832e3a04fe0997113c3786b306d",
       "value": 1
      }
     },
     "fa080a55ae99479ead2758f026d74bb3": {
      "model_module": "@jupyter-widgets/controls",
      "model_module_version": "1.5.0",
      "model_name": "CheckboxModel",
      "state": {
       "description": "Show charge",
       "disabled": false,
       "layout": "IPY_MODEL_14f08d9f4b1f463dadbbe005b390e230",
       "style": "IPY_MODEL_bf28ab41330f44d9babe3ca8987e54db",
       "value": false
      }
     },
     "fab495ba3a36403f969dd04487f3e1a0": {
      "model_module": "@jupyter-widgets/controls",
      "model_module_version": "1.5.0",
      "model_name": "PlayModel",
      "state": {
       "layout": "IPY_MODEL_9f674bb281d54acd8538ad500a23baeb",
       "max": 0,
       "style": "IPY_MODEL_b953cc85a49341b292e58cf0f457315d"
      }
     },
     "fabd8932a35c4690972129e4c78f3037": {
      "model_module": "@jupyter-widgets/controls",
      "model_module_version": "1.5.0",
      "model_name": "DescriptionStyleModel",
      "state": {
       "description_width": ""
      }
     },
     "fb53f77f37a148408a52f12c88011522": {
      "model_module": "@jupyter-widgets/base",
      "model_module_version": "1.2.0",
      "model_name": "LayoutModel",
      "state": {}
     },
     "fb6807b1c5a242eca3a08028b5f77847": {
      "model_module": "@jupyter-widgets/controls",
      "model_module_version": "1.5.0",
      "model_name": "DescriptionStyleModel",
      "state": {
       "description_width": ""
      }
     },
     "fb68bbc4798e401387df279cde633e99": {
      "model_module": "@jupyter-widgets/controls",
      "model_module_version": "1.5.0",
      "model_name": "ButtonModel",
      "state": {
       "description": "Download image",
       "layout": "IPY_MODEL_806561549eff449989511da879d32f56",
       "style": "IPY_MODEL_c274356efc364470bcf1bcc91fb48f2f",
       "tooltip": "Download current frame to your local PC"
      }
     },
     "fbfce9ef7ea64a9aaed34858415287b0": {
      "model_module": "@jupyter-widgets/controls",
      "model_module_version": "1.5.0",
      "model_name": "ButtonModel",
      "state": {
       "description": "Save image",
       "layout": "IPY_MODEL_dcf1def3504e4005b502b47c780dadd5",
       "style": "IPY_MODEL_43afa73c59d8467ca0e1da0b71c00727",
       "tooltip": "Save current frame to file.\nCurrently .png and .html are supported.\nIt takes a bit time, please be patient."
      }
     },
     "fc03b53bdf8149a0b65a75956d13068f": {
      "model_module": "@jupyter-widgets/controls",
      "model_module_version": "1.5.0",
      "model_name": "ImageModel",
      "state": {
       "layout": "IPY_MODEL_2b92a6ca775442e7b37f926ff0ef1d68",
       "width": "900.0"
      }
     },
     "fc478dba24cb44e484d24e82d8b881de": {
      "model_module": "@jupyter-widgets/controls",
      "model_module_version": "1.5.0",
      "model_name": "DropdownModel",
      "state": {
       "_options_labels": [
        "All",
        "O",
        "C",
        "H"
       ],
       "description": "Show",
       "index": 0,
       "layout": "IPY_MODEL_2d07489c0393451e92a979d1fa07f695",
       "style": "IPY_MODEL_d6f4c8c41e7e4eeea080b61e5e4cc1c4"
      }
     },
     "fc9e632a11684f62ae95ff64fc07f2ae": {
      "model_module": "@jupyter-widgets/base",
      "model_module_version": "1.2.0",
      "model_name": "LayoutModel",
      "state": {}
     },
     "fcb81f0335ce4891bd95ac7cb1fc777a": {
      "model_module": "@jupyter-widgets/controls",
      "model_module_version": "1.5.0",
      "model_name": "ButtonStyleModel",
      "state": {}
     },
     "fce2433ef2f647118a051ec7db7c4be1": {
      "model_module": "@jupyter-widgets/output",
      "model_module_version": "1.0.0",
      "model_name": "OutputModel",
      "state": {
       "layout": "IPY_MODEL_624afa83ac0d4f93bbf2c756a06c54c0"
      }
     },
     "fd0583bdcb1a47b5ba88e2faf111cc56": {
      "model_module": "@jupyter-widgets/controls",
      "model_module_version": "1.5.0",
      "model_name": "DescriptionStyleModel",
      "state": {
       "description_width": ""
      }
     },
     "fdbddbbea9134adf8ced0226b9eb6cf0": {
      "model_module": "@jupyter-widgets/controls",
      "model_module_version": "1.5.0",
      "model_name": "CheckboxModel",
      "state": {
       "description": "Show force",
       "disabled": false,
       "layout": "IPY_MODEL_3f28c5efaac742dc97d869300beb4a12",
       "style": "IPY_MODEL_94fdff8689494bfcaab66e8bcb634b47",
       "value": false
      }
     },
     "fe28e56e73b0431aaba1c16d62b9c014": {
      "model_module": "@jupyter-widgets/controls",
      "model_module_version": "1.5.0",
      "model_name": "CheckboxModel",
      "state": {
       "description": "Show force",
       "disabled": false,
       "layout": "IPY_MODEL_af901cce551c4bea8ea452d948ceb3b8",
       "style": "IPY_MODEL_685ad409f3c7492696ca8537757fb5fa",
       "value": false
      }
     },
     "fe76846045e040d4b54f48280abc64d9": {
      "model_module": "@jupyter-widgets/controls",
      "model_module_version": "1.5.0",
      "model_name": "FloatSliderModel",
      "state": {
       "description": "Charge scale",
       "layout": "IPY_MODEL_9cd69f26cb974562ab55599185727088",
       "step": 0.1,
       "style": "IPY_MODEL_9c96ce3346b2404fa56ab42d02a97852",
       "value": 1
      }
     },
     "fe860e5b788848d69a2cb7cbf2d29038": {
      "model_module": "@jupyter-widgets/controls",
      "model_module_version": "1.5.0",
      "model_name": "HBoxModel",
      "state": {
       "children": [
        "IPY_MODEL_8e696473a8c54637b0f45dab1b0bd62a",
        "IPY_MODEL_1e6512c6fc194e07a2efcd5a44b842c4"
       ],
       "layout": "IPY_MODEL_0c81c669d12d4271836f5baa772f7ce5"
      }
     },
     "fedd3abc0337414ea0f552d37104a8f8": {
      "model_module": "@jupyter-widgets/base",
      "model_module_version": "1.2.0",
      "model_name": "LayoutModel",
      "state": {}
     },
     "ff268e5934f74a7d9546c480c8a83234": {
      "model_module": "@jupyter-widgets/base",
      "model_module_version": "1.2.0",
      "model_name": "LayoutModel",
      "state": {
       "width": "34px"
      }
     },
     "ff634522ace84669aa8a28fe58604b59": {
      "model_module": "@jupyter-widgets/controls",
      "model_module_version": "1.5.0",
      "model_name": "SliderStyleModel",
      "state": {
       "description_width": ""
      }
     },
     "ff7fdfdffe144c72ac3b746a65f7687a": {
      "model_module": "@jupyter-widgets/controls",
      "model_module_version": "1.5.0",
      "model_name": "DropdownModel",
      "state": {
       "_options_labels": [
        " ",
        "picking",
        "random",
        "uniform",
        "atomindex",
        "residueindex",
        "chainindex",
        "modelindex",
        "sstruc",
        "element",
        "resname",
        "bfactor",
        "hydrophobicity",
        "value",
        "volume",
        "occupancy"
       ],
       "description": "Color scheme",
       "index": 9,
       "layout": "IPY_MODEL_cff9fb5e019b4446a141353fe02990a9",
       "style": "IPY_MODEL_e9c77b8156c94f63848319ce02d6b753"
      }
     },
     "fffd629fe1a4417bb2fb3a250b7f4299": {
      "model_module": "@jupyter-widgets/controls",
      "model_module_version": "1.5.0",
      "model_name": "CheckboxModel",
      "state": {
       "description": "Show charge",
       "disabled": false,
       "layout": "IPY_MODEL_02751c7b8da2436189f3fc22c23e95ce",
       "style": "IPY_MODEL_59ddba198f254d56914a07eacf659857",
       "value": false
      }
     }
    },
    "version_major": 2,
    "version_minor": 0
   }
  }
 },
 "nbformat": 4,
 "nbformat_minor": 5
}
