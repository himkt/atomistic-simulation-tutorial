{
 "cells": [
  {
   "cell_type": "markdown",
   "id": "802ba23f-2812-4519-ba19-7c13d258c040",
   "metadata": {},
   "source": [
    "# ASE Basic\n",
    "\n",
    "Pythonで原子シミュレーションを進めていく際に便利なOSSライブラリとして、Atomic Simulation Environment: ASEがあります。<br/>\n",
    "本章ではASEの基本的な使い方を紹介していきます。\n",
    "\n",
    " - Documentation: https://wiki.fysik.dtu.dk/ase/\n",
    " - gitlab: https://gitlab.com/ase/ase"
   ]
  },
  {
   "cell_type": "markdown",
   "id": "137fe402-d676-40a0-9e49-79361645c06e",
   "metadata": {
    "tags": []
   },
   "source": [
    "## Atomsについて\n",
    "\n",
    "ASEでは原子が複数個集まって作られる系を `Atoms` クラスで表現します。\n",
    "\n",
    " - https://wiki.fysik.dtu.dk/ase/ase/atoms.html\n",
    "\n",
    "`Atoms`クラスは前章で説明した、原子シミュレーションに必要な構造を表現するための以下のような`attribute`(変数)を保持しています。\n",
    " - 各原子の元素種類\n",
    " - 座標値\n",
    " - 速度(運動量)\n",
    " - セル\n",
    " - 周期境界条件など"
   ]
  },
  {
   "cell_type": "markdown",
   "id": "d5bf9c8f-ec5a-43b0-aa66-dec668138ec1",
   "metadata": {
    "tags": []
   },
   "source": [
    "### Atomsの作成方法： 原子種・座標を直接指定\n",
    "\n",
    "`Atoms`を作るための一番原始的な方法として、原子種とその座標値を直接指定する方法があります。<br/>\n",
    "以下は、1つめのHがxyz座標値 `[0, 0, 0]`、2つめのHがxyz座標値 `[1.0, 0, 0]` に存在する水素分子H2を作る例です。"
   ]
  },
  {
   "cell_type": "code",
   "execution_count": 1,
   "id": "cddb2679-9aad-4f6f-9108-14079b3e6ca2",
   "metadata": {},
   "outputs": [],
   "source": [
    "from ase import Atoms\n",
    "\n",
    "atoms = Atoms(\"H2\", [[0, 0, 0], [1.0, 0, 0]])"
   ]
  },
  {
   "cell_type": "markdown",
   "id": "2268dd40-0fba-4013-87f6-440e564aee3e",
   "metadata": {},
   "source": [
    "原子の可視化を行うこともできます。\n",
    "ここでは、ASEのview 関数を用い、`nglviewer`というライブラリを用いて可視化を行っています。\n",
    "\n",
    "`nglviewer` を用いると、３次元の原子構造を表示しながら、マウスでインタラクティブに操作することもできます。\n",
    "\n",
    "可視化についての詳細は[Appendix_1_visualization.ipynb](./Appendix_1_visualization.ipynb)をご参照ください。"
   ]
  },
  {
   "cell_type": "code",
   "execution_count": 2,
   "id": "35740376-56bf-435c-85e2-771c5161e04f",
   "metadata": {},
   "outputs": [
    {
     "data": {
      "application/vnd.jupyter.widget-view+json": {
       "model_id": "69d3dc280ca249c897b4086b9bc83b7e",
       "version_major": 2,
       "version_minor": 0
      },
      "text/plain": []
     },
     "metadata": {},
     "output_type": "display_data"
    },
    {
     "data": {
      "application/vnd.jupyter.widget-view+json": {
       "model_id": "015c175134134752899293b174c21f0d",
       "version_major": 2,
       "version_minor": 0
      },
      "text/plain": [
       "HBox(children=(NGLWidget(), VBox(children=(Dropdown(description='Show', options=('All', 'H'), value='All'), Dr…"
      ]
     },
     "metadata": {},
     "output_type": "display_data"
    }
   ],
   "source": [
    "from ase.visualize import view\n",
    "from pfcc_extras.visualize.view import view_ngl\n",
    "\n",
    "#view(atoms, viewer=\"ngl\")\n",
    "view_ngl(atoms, representations=[\"ball+stick\"], w=400, h=300)"
   ]
  },
  {
   "cell_type": "markdown",
   "id": "221a69d3-d238-4b4e-baf1-7220927aeb93",
   "metadata": {},
   "source": [
    "以下のように、ASEを用いてpng静止画を描画することも可能です。"
   ]
  },
  {
   "cell_type": "code",
   "execution_count": 3,
   "id": "48dc12b0-0159-4c1d-ac2b-1c433988c731",
   "metadata": {},
   "outputs": [
    {
     "data": {
      "text/html": [
       "<img src=\"output/H2O.png\" width=\"150\"/>"
      ],
      "text/plain": [
       "<IPython.core.display.Image object>"
      ]
     },
     "execution_count": 3,
     "metadata": {},
     "output_type": "execute_result"
    }
   ],
   "source": [
    "from ase.io import write\n",
    "from IPython.display import Image\n",
    "\n",
    "write(\"output/H2O.png\", atoms, rotation=\"0x,0y,0z\", scale=100)\n",
    "Image(url='output/H2O.png', width=150)"
   ]
  },
  {
   "cell_type": "markdown",
   "id": "b73b85c7-6447-46d4-9142-b93cfe602e47",
   "metadata": {},
   "source": [
    "以下は上記のプログラムを１行でできるようにした便利関数です。今後はこれを用います。"
   ]
  },
  {
   "cell_type": "code",
   "execution_count": 4,
   "id": "ca7a3279-ce21-4bec-9978-53a7f87edb23",
   "metadata": {},
   "outputs": [
    {
     "data": {
      "image/png": "[encoded data removed]",
      "text/plain": [
       "<Figure size 288x288 with 1 Axes>"
      ]
     },
     "metadata": {
      "needs_background": "light"
     },
     "output_type": "display_data"
    }
   ],
   "source": [
    "from pfcc_extras.visualize.ase import view_ase_atoms\n",
    "\n",
    "view_ase_atoms(atoms, figsize=(4, 4), title=\"H2 atoms\", scale=100)"
   ]
  },
  {
   "cell_type": "markdown",
   "id": "903a23f5-8aa6-4697-8428-ab36def7a4c3",
   "metadata": {},
   "source": [
    "元素記号 `symbols`の代わりに、原子番号を`numbers` として指定することも可能です。"
   ]
  },
  {
   "cell_type": "code",
   "execution_count": 5,
   "id": "a41a3d84-d4ad-4aa4-8d64-1f290dd03d75",
   "metadata": {},
   "outputs": [
    {
     "data": {
      "application/vnd.jupyter.widget-view+json": {
       "model_id": "525b3edc2fc542eeb0a49a4b6913c27b",
       "version_major": 2,
       "version_minor": 0
      },
      "text/plain": [
       "HBox(children=(NGLWidget(), VBox(children=(Dropdown(description='Show', options=('All', 'C', 'O'), value='All'…"
      ]
     },
     "metadata": {},
     "output_type": "display_data"
    }
   ],
   "source": [
    "co_atoms = Atoms(numbers=[6, 8], positions=[[0, 0, 0], [1.0, 0, 0]])\n",
    "view_ngl(co_atoms, representations=[\"ball+stick\"], w=400, h=300)"
   ]
  },
  {
   "cell_type": "code",
   "execution_count": 6,
   "id": "322b6000-6848-41cd-a72e-5054742b16dd",
   "metadata": {},
   "outputs": [
    {
     "data": {
      "image/png": "[encoded data removed]",
      "text/plain": [
       "<Figure size 288x288 with 1 Axes>"
      ]
     },
     "metadata": {
      "needs_background": "light"
     },
     "output_type": "display_data"
    }
   ],
   "source": [
    "view_ase_atoms(co_atoms, figsize=(4, 4), title=\"CO atoms\", scale=100)"
   ]
  },
  {
   "cell_type": "markdown",
   "id": "003cd529-6201-4519-8617-21d8eee9af29",
   "metadata": {},
   "source": [
    "周期境界条件を含む系を定義したい場合は、`cell` に周期情報を指定し、`pbc` にa軸b軸c軸それぞれに対して周期境界条件を適用するかどうかのON/OFFを指定することができます。"
   ]
  },
  {
   "cell_type": "code",
   "execution_count": 7,
   "id": "f4ea5d32-3205-4c51-8ba6-9e9edbdef0a4",
   "metadata": {},
   "outputs": [],
   "source": [
    "from ase import Atoms\n",
    "\n",
    "\n",
    "na2_atoms = Atoms(\n",
    "    symbols=\"Na2\",\n",
    "    positions=[[0, 0, 0], [2.115, 2.115, 2.115]],\n",
    "    cell=[4.23, 4.23, 4.23],\n",
    "    pbc=[True, True, True]\n",
    ")"
   ]
  },
  {
   "cell_type": "code",
   "execution_count": 8,
   "id": "536b44b8-c51e-449d-bc7a-6b6e95e85011",
   "metadata": {},
   "outputs": [
    {
     "data": {
      "application/vnd.jupyter.widget-view+json": {
       "model_id": "747286599c4e4627b262c425b399eb74",
       "version_major": 2,
       "version_minor": 0
      },
      "text/plain": [
       "HBox(children=(NGLWidget(), VBox(children=(Dropdown(description='Show', options=('All', 'Na'), value='All'), D…"
      ]
     },
     "metadata": {},
     "output_type": "display_data"
    }
   ],
   "source": [
    "view_ngl(na2_atoms, w=400, h=300)"
   ]
  },
  {
   "cell_type": "code",
   "execution_count": 9,
   "id": "b846f816-950c-4a11-b4cb-b1ad7c608988",
   "metadata": {},
   "outputs": [
    {
     "data": {
      "image/png": "[encoded data removed]",
      "text/plain": [
       "<Figure size 216x216 with 1 Axes>"
      ]
     },
     "metadata": {
      "needs_background": "light"
     },
     "output_type": "display_data"
    }
   ],
   "source": [
    "view_ase_atoms(na2_atoms, rotation=\"10x,10y,0z\", figsize=(3, 3), title=\"Na2 atoms\", scale=30)"
   ]
  },
  {
   "cell_type": "markdown",
   "id": "aa3fc254-1b71-4040-ad14-59aa488c0aff",
   "metadata": {},
   "source": [
    "### Atomsの持つattribute, method\n",
    "\n",
    "<figure style=\"width:200px\">\n",
    "<img src=\"../assets/atoms.png\"/>\n",
    "</figure>\n",
    "\n",
    "`atoms` はその系の情報を保持しており、Attribute や `get_XXX` 関数を通して参照することができます。\n",
    "\n",
    "Attributeとは Atomsクラスの持つ変数のことで、 `atoms.xxx` と直接参照することが出来るものもあります。<br/>\n",
    "関数を通してアクセスできる情報もあります。\n",
    "\n",
    "以下は主要なAttributeや関数の返り値(numpy array としてのshapeがどの様になっているか)をまとめたものです。\n",
    "\n",
    " - Attribute\n",
    "   - `symbols`: 元素種とその数をまとめたものを返す\n",
    "   - `numbers`: 原子番号のarray。shapeは(N,)\n",
    "   - `positions`: 各原子の座標値を示す。shapeは(N, 3)。 3はxyz座標を表す。\n",
    "   - `cell`: ASEのCellをあつかうCellクラスで表現される。\n",
    "     - Cellクラスに関して詳しくは後述する。[三斜晶系](https://ja.wikipedia.org/wiki/%E4%B8%89%E6%96%9C%E6%99%B6%E7%B3%BB)など一般的にはa, b, c軸のベクトルをそれぞれ表す(3, 3) の行列で表されるが、[直方晶](https://ja.wikipedia.org/wiki/%E7%9B%B4%E6%96%B9%E6%99%B6%E7%B3%BB)の場合はa, b, c軸の長さのみが(3,) で表現される。\n",
    "   - `pbc`: 各方向に周期境界条件(Periodic Boundary Condition) があるかどうかを示す。\n",
    " - 関数\n",
    "   - `get_masses()`: 各原子の質量を返す。\n",
    "   - `get_momenta()`: 各原子に設定されている運動量を返す。\n",
    "   - `len(atoms)`: Atoms全体の原子数`N`を返す。"
   ]
  },
  {
   "cell_type": "code",
   "execution_count": 10,
   "id": "c6473214-212a-4e39-8003-25ea4f30e307",
   "metadata": {},
   "outputs": [
    {
     "name": "stdout",
     "output_type": "stream",
     "text": [
      "symbols  : H2\n",
      "positions: [[0. 0. 0.]\n",
      " [1. 0. 0.]]\n",
      "cell     : Cell([0.0, 0.0, 0.0])\n",
      "pbc      : [False False False]\n",
      "numbers  : [1 1]\n",
      "massess  : [1.008 1.008]\n",
      "momenta  : [[0. 0. 0.]\n",
      " [0. 0. 0.]]\n",
      "Numbers of atoms  : 2\n"
     ]
    }
   ],
   "source": [
    "print(f\"symbols  : {atoms.symbols}\")\n",
    "print(f\"positions: {atoms.positions}\")\n",
    "print(f\"cell     : {atoms.cell}\")\n",
    "print(f\"pbc      : {atoms.pbc}\")\n",
    "\n",
    "# Atomic numbers やMass はSymbolが指定されていれば自動で計算されます。\n",
    "print(f\"numbers  : {atoms.numbers}\")\n",
    "print(f\"massess  : {atoms.get_masses()}\")\n",
    "print(f\"momenta  : {atoms.get_momenta()}\")\n",
    "print(f\"Numbers of atoms  : {len(atoms)}\")"
   ]
  },
  {
   "cell_type": "markdown",
   "id": "110c18a9-6c4e-4f60-a82f-0ce18fb45140",
   "metadata": {},
   "source": [
    "### 単位系\n",
    "\n",
    "ASEでは、エネルギーの単位はeV (約$1.602 \\times 10^{-19}$ J)、座標系の単位はÅ ($1 \\times 10^{-10}$ m)で扱われる事が多いです。<br/>\n",
    "力や応力の単位はこれらの複合単位で、力についてはeV/Å、応力についてはeV/Å2です。chargeの単位は電荷素量です。\n",
    "\n",
    " - eV: [電子ボルト](https://ja.wikipedia.org/wiki/%E9%9B%BB%E5%AD%90%E3%83%9C%E3%83%AB%E3%83%88)\n",
    " - Å: [オングストローム](https://ja.wikipedia.org/wiki/%E3%82%AA%E3%83%B3%E3%82%B0%E3%82%B9%E3%83%88%E3%83%AD%E3%83%BC%E3%83%A0)\n",
    " - e: [電気素量](https://ja.wikipedia.org/wiki/%E9%9B%BB%E6%B0%97%E7%B4%A0%E9%87%8F)"
   ]
  },
  {
   "cell_type": "markdown",
   "id": "1b115527-affc-4080-9e8a-6833aab115b6",
   "metadata": {},
   "source": [
    "[Tips] Jupyter 上で各クラス・関数のより詳細な情報を知りたい場合、　? を後ろにつけることでドキュメントの表示ができます。"
   ]
  },
  {
   "cell_type": "code",
   "execution_count": 11,
   "id": "7a910888-9343-4516-8b27-b8da0ee778a3",
   "metadata": {},
   "outputs": [
    {
     "data": {
      "text/plain": [
       "\u001b[0;31mInit signature:\u001b[0m\n",
       "\u001b[0mAtoms\u001b[0m\u001b[0;34m(\u001b[0m\u001b[0;34m\u001b[0m\n",
       "\u001b[0;34m\u001b[0m    \u001b[0msymbols\u001b[0m\u001b[0;34m=\u001b[0m\u001b[0;32mNone\u001b[0m\u001b[0;34m,\u001b[0m\u001b[0;34m\u001b[0m\n",
       "\u001b[0;34m\u001b[0m    \u001b[0mpositions\u001b[0m\u001b[0;34m=\u001b[0m\u001b[0;32mNone\u001b[0m\u001b[0;34m,\u001b[0m\u001b[0;34m\u001b[0m\n",
       "\u001b[0;34m\u001b[0m    \u001b[0mnumbers\u001b[0m\u001b[0;34m=\u001b[0m\u001b[0;32mNone\u001b[0m\u001b[0;34m,\u001b[0m\u001b[0;34m\u001b[0m\n",
       "\u001b[0;34m\u001b[0m    \u001b[0mtags\u001b[0m\u001b[0;34m=\u001b[0m\u001b[0;32mNone\u001b[0m\u001b[0;34m,\u001b[0m\u001b[0;34m\u001b[0m\n",
       "\u001b[0;34m\u001b[0m    \u001b[0mmomenta\u001b[0m\u001b[0;34m=\u001b[0m\u001b[0;32mNone\u001b[0m\u001b[0;34m,\u001b[0m\u001b[0;34m\u001b[0m\n",
       "\u001b[0;34m\u001b[0m    \u001b[0mmasses\u001b[0m\u001b[0;34m=\u001b[0m\u001b[0;32mNone\u001b[0m\u001b[0;34m,\u001b[0m\u001b[0;34m\u001b[0m\n",
       "\u001b[0;34m\u001b[0m    \u001b[0mmagmoms\u001b[0m\u001b[0;34m=\u001b[0m\u001b[0;32mNone\u001b[0m\u001b[0;34m,\u001b[0m\u001b[0;34m\u001b[0m\n",
       "\u001b[0;34m\u001b[0m    \u001b[0mcharges\u001b[0m\u001b[0;34m=\u001b[0m\u001b[0;32mNone\u001b[0m\u001b[0;34m,\u001b[0m\u001b[0;34m\u001b[0m\n",
       "\u001b[0;34m\u001b[0m    \u001b[0mscaled_positions\u001b[0m\u001b[0;34m=\u001b[0m\u001b[0;32mNone\u001b[0m\u001b[0;34m,\u001b[0m\u001b[0;34m\u001b[0m\n",
       "\u001b[0;34m\u001b[0m    \u001b[0mcell\u001b[0m\u001b[0;34m=\u001b[0m\u001b[0;32mNone\u001b[0m\u001b[0;34m,\u001b[0m\u001b[0;34m\u001b[0m\n",
       "\u001b[0;34m\u001b[0m    \u001b[0mpbc\u001b[0m\u001b[0;34m=\u001b[0m\u001b[0;32mNone\u001b[0m\u001b[0;34m,\u001b[0m\u001b[0;34m\u001b[0m\n",
       "\u001b[0;34m\u001b[0m    \u001b[0mcelldisp\u001b[0m\u001b[0;34m=\u001b[0m\u001b[0;32mNone\u001b[0m\u001b[0;34m,\u001b[0m\u001b[0;34m\u001b[0m\n",
       "\u001b[0;34m\u001b[0m    \u001b[0mconstraint\u001b[0m\u001b[0;34m=\u001b[0m\u001b[0;32mNone\u001b[0m\u001b[0;34m,\u001b[0m\u001b[0;34m\u001b[0m\n",
       "\u001b[0;34m\u001b[0m    \u001b[0mcalculator\u001b[0m\u001b[0;34m=\u001b[0m\u001b[0;32mNone\u001b[0m\u001b[0;34m,\u001b[0m\u001b[0;34m\u001b[0m\n",
       "\u001b[0;34m\u001b[0m    \u001b[0minfo\u001b[0m\u001b[0;34m=\u001b[0m\u001b[0;32mNone\u001b[0m\u001b[0;34m,\u001b[0m\u001b[0;34m\u001b[0m\n",
       "\u001b[0;34m\u001b[0m    \u001b[0mvelocities\u001b[0m\u001b[0;34m=\u001b[0m\u001b[0;32mNone\u001b[0m\u001b[0;34m,\u001b[0m\u001b[0;34m\u001b[0m\n",
       "\u001b[0;34m\u001b[0m\u001b[0;34m)\u001b[0m\u001b[0;34m\u001b[0m\u001b[0;34m\u001b[0m\u001b[0m\n",
       "\u001b[0;31mDocstring:\u001b[0m     \n",
       "Atoms object.\n",
       "\n",
       "The Atoms object can represent an isolated molecule, or a\n",
       "periodically repeated structure.  It has a unit cell and\n",
       "there may be periodic boundary conditions along any of the three\n",
       "unit cell axes.\n",
       "Information about the atoms (atomic numbers and position) is\n",
       "stored in ndarrays.  Optionally, there can be information about\n",
       "tags, momenta, masses, magnetic moments and charges.\n",
       "\n",
       "In order to calculate energies, forces and stresses, a calculator\n",
       "object has to attached to the atoms object.\n",
       "\n",
       "Parameters:\n",
       "\n",
       "symbols: str (formula) or list of str\n",
       "    Can be a string formula, a list of symbols or a list of\n",
       "    Atom objects.  Examples: 'H2O', 'COPt12', ['H', 'H', 'O'],\n",
       "    [Atom('Ne', (x, y, z)), ...].\n",
       "positions: list of xyz-positions\n",
       "    Atomic positions.  Anything that can be converted to an\n",
       "    ndarray of shape (n, 3) will do: [(x1,y1,z1), (x2,y2,z2),\n",
       "    ...].\n",
       "scaled_positions: list of scaled-positions\n",
       "    Like positions, but given in units of the unit cell.\n",
       "    Can not be set at the same time as positions.\n",
       "numbers: list of int\n",
       "    Atomic numbers (use only one of symbols/numbers).\n",
       "tags: list of int\n",
       "    Special purpose tags.\n",
       "momenta: list of xyz-momenta\n",
       "    Momenta for all atoms.\n",
       "masses: list of float\n",
       "    Atomic masses in atomic units.\n",
       "magmoms: list of float or list of xyz-values\n",
       "    Magnetic moments.  Can be either a single value for each atom\n",
       "    for collinear calculations or three numbers for each atom for\n",
       "    non-collinear calculations.\n",
       "charges: list of float\n",
       "    Initial atomic charges.\n",
       "cell: 3x3 matrix or length 3 or 6 vector\n",
       "    Unit cell vectors.  Can also be given as just three\n",
       "    numbers for orthorhombic cells, or 6 numbers, where\n",
       "    first three are lengths of unit cell vectors, and the\n",
       "    other three are angles between them (in degrees), in following order:\n",
       "    [len(a), len(b), len(c), angle(b,c), angle(a,c), angle(a,b)].\n",
       "    First vector will lie in x-direction, second in xy-plane,\n",
       "    and the third one in z-positive subspace.\n",
       "    Default value: [0, 0, 0].\n",
       "celldisp: Vector\n",
       "    Unit cell displacement vector. To visualize a displaced cell\n",
       "    around the center of mass of a Systems of atoms. Default value\n",
       "    = (0,0,0)\n",
       "pbc: one or three bool\n",
       "    Periodic boundary conditions flags.  Examples: True,\n",
       "    False, 0, 1, (1, 1, 0), (True, False, False).  Default\n",
       "    value: False.\n",
       "constraint: constraint object(s)\n",
       "    Used for applying one or more constraints during structure\n",
       "    optimization.\n",
       "calculator: calculator object\n",
       "    Used to attach a calculator for calculating energies and atomic\n",
       "    forces.\n",
       "info: dict of key-value pairs\n",
       "    Dictionary of key-value pairs with additional information\n",
       "    about the system.  The following keys may be used by ase:\n",
       "\n",
       "      - spacegroup: Spacegroup instance\n",
       "      - unit_cell: 'conventional' | 'primitive' | int | 3 ints\n",
       "      - adsorbate_info: Information about special adsorption sites\n",
       "\n",
       "    Items in the info attribute survives copy and slicing and can\n",
       "    be stored in and retrieved from trajectory files given that the\n",
       "    key is a string, the value is JSON-compatible and, if the value is a\n",
       "    user-defined object, its base class is importable.  One should\n",
       "    not make any assumptions about the existence of keys.\n",
       "\n",
       "Examples:\n",
       "\n",
       "These three are equivalent:\n",
       "\n",
       ">>> d = 1.104  # N2 bondlength\n",
       ">>> a = Atoms('N2', [(0, 0, 0), (0, 0, d)])\n",
       ">>> a = Atoms(numbers=[7, 7], positions=[(0, 0, 0), (0, 0, d)])\n",
       ">>> a = Atoms([Atom('N', (0, 0, 0)), Atom('N', (0, 0, d))])\n",
       "\n",
       "FCC gold:\n",
       "\n",
       ">>> a = 4.05  # Gold lattice constant\n",
       ">>> b = a / 2\n",
       ">>> fcc = Atoms('Au',\n",
       "...             cell=[(0, b, b), (b, 0, b), (b, b, 0)],\n",
       "...             pbc=True)\n",
       "\n",
       "Hydrogen wire:\n",
       "\n",
       ">>> d = 0.9  # H-H distance\n",
       ">>> h = Atoms('H', positions=[(0, 0, 0)],\n",
       "...           cell=(d, 0, 0),\n",
       "...           pbc=(1, 0, 0))\n",
       "\u001b[0;31mFile:\u001b[0m           ~/.local/lib/python3.7/site-packages/ase/atoms.py\n",
       "\u001b[0;31mType:\u001b[0m           type\n",
       "\u001b[0;31mSubclasses:\u001b[0m     \n"
      ]
     },
     "metadata": {},
     "output_type": "display_data"
    }
   ],
   "source": [
    "Atoms?"
   ]
  },
  {
   "cell_type": "markdown",
   "id": "265f5d0d-6326-45fd-8834-1274e2d2e9c0",
   "metadata": {},
   "source": [
    "## 構造生成の方法\n",
    "\n",
    "前節で説明した、直接 `Atoms` に座標値を指定する方法は、１つ１つの原子位置を細かく設定したい場合には良いですが、\n",
    "通常使う場合には各原子の座標値を明示的に調べて設定する必要があり、大変です。\n",
    "\n",
    "ASEでは、いろいろな構造を作成するための関数がすでに定義されており、これらを用いると簡単に構造を作成することができます。\n",
    " - https://wiki.fysik.dtu.dk/ase/ase/build/build.html\n",
    " \n",
    "### ASE molecule\n",
    "\n",
    "`molecule` methodはASEで登録済みの有機分子を作成することができます。<br/>\n",
    "登録済みの名前リストは以下のように見ることができます。"
   ]
  },
  {
   "cell_type": "code",
   "execution_count": 12,
   "id": "3b751f08-ee8b-4571-972b-aa0cf7272f30",
   "metadata": {},
   "outputs": [
    {
     "name": "stdout",
     "output_type": "stream",
     "text": [
      "Available molecule: 162 ['PH3', 'P2', 'CH3CHO', 'H2COH', 'CS', 'OCHCHO', 'C3H9C', 'CH3COF', 'CH3CH2OCH3', 'HCOOH', 'HCCl3', 'HOCl', 'H2', 'SH2', 'C2H2', 'C4H4NH', 'CH3SCH3', 'SiH2_s3B1d', 'CH3SH', 'CH3CO', 'CO', 'ClF3', 'SiH4', 'C2H6CHOH', 'CH2NHCH2', 'isobutene', 'HCO', 'bicyclobutane', 'LiF', 'Si', 'C2H6', 'CN', 'ClNO', 'S', 'SiF4', 'H3CNH2', 'methylenecyclopropane', 'CH3CH2OH', 'F', 'NaCl', 'CH3Cl', 'CH3SiH3', 'AlF3', 'C2H3', 'ClF', 'PF3', 'PH2', 'CH3CN', 'cyclobutene', 'CH3ONO', 'SiH3', 'C3H6_D3h', 'CO2', 'NO', 'trans-butane', 'H2CCHCl', 'LiH', 'NH2', 'CH', 'CH2OCH2', 'C6H6', 'CH3CONH2', 'cyclobutane', 'H2CCHCN', 'butadiene', 'C', 'H2CO', 'CH3COOH', 'HCF3', 'CH3S', 'CS2', 'SiH2_s1A1d', 'C4H4S', 'N2H4', 'OH', 'CH3OCH3', 'C5H5N', 'H2O', 'HCl', 'CH2_s1A1d', 'CH3CH2SH', 'CH3NO2', 'Cl', 'Be', 'BCl3', 'C4H4O', 'Al', 'CH3O', 'CH3OH', 'C3H7Cl', 'isobutane', 'Na', 'CCl4', 'CH3CH2O', 'H2CCHF', 'C3H7', 'CH3', 'O3', 'P', 'C2H4', 'NCCN', 'S2', 'AlCl3', 'SiCl4', 'SiO', 'C3H4_D2d', 'H', 'COF2', '2-butyne', 'C2H5', 'BF3', 'N2O', 'F2O', 'SO2', 'H2CCl2', 'CF3CN', 'HCN', 'C2H6NH', 'OCS', 'B', 'ClO', 'C3H8', 'HF', 'O2', 'SO', 'NH', 'C2F4', 'NF3', 'CH2_s3B1d', 'CH3CH2Cl', 'CH3COCl', 'NH3', 'C3H9N', 'CF4', 'C3H6_Cs', 'Si2H6', 'HCOOCH3', 'O', 'CCH', 'N', 'Si2', 'C2H6SO', 'C5H8', 'H2CF2', 'Li2', 'CH2SCH2', 'C2Cl4', 'C3H4_C3v', 'CH3COCH3', 'F2', 'CH4', 'SH', 'H2CCO', 'CH3CH2NH2', 'Li', 'N2', 'Cl2', 'H2O2', 'Na2', 'BeH', 'C3H4_C2v', 'NO2']\n"
     ]
    }
   ],
   "source": [
    "from ase.build import molecule\n",
    "from ase.collections import g2\n",
    "\n",
    "print(f\"Available molecule:\", len(g2.names), g2.names)"
   ]
  },
  {
   "cell_type": "markdown",
   "id": "e9dbfcbb-2029-4ab4-8fe3-f1bd7d558ad7",
   "metadata": {},
   "source": [
    "以下のように文字列を指定するだけで atomsの作成ができます。"
   ]
  },
  {
   "cell_type": "code",
   "execution_count": 13,
   "id": "7797dc6d-8037-490d-b225-a2d9b90f24c7",
   "metadata": {},
   "outputs": [
    {
     "data": {
      "application/vnd.jupyter.widget-view+json": {
       "model_id": "1e8fee00ba6b46e8b6adf8df4de1e404",
       "version_major": 2,
       "version_minor": 0
      },
      "text/plain": [
       "HBox(children=(NGLWidget(), VBox(children=(Dropdown(description='Show', options=('All', 'O', 'C', 'H'), value=…"
      ]
     },
     "metadata": {},
     "output_type": "display_data"
    }
   ],
   "source": [
    "ch3cho_atoms = molecule(\"CH3CHO\")\n",
    "view_ngl(ch3cho_atoms, representations=[\"ball+stick\"], w=400, h=300)"
   ]
  },
  {
   "cell_type": "code",
   "execution_count": 14,
   "id": "8acc3e7a-951f-42ec-bc60-51ebe29525f8",
   "metadata": {},
   "outputs": [
    {
     "data": {
      "image/png": "[encoded data removed]",
      "text/plain": [
       "<Figure size 288x288 with 1 Axes>"
      ]
     },
     "metadata": {
      "needs_background": "light"
     },
     "output_type": "display_data"
    }
   ],
   "source": [
    "view_ase_atoms(ch3cho_atoms, rotation=\"0x,0y,0z\", figsize=(4, 4), title=\"CH3CHO atoms\", scale=40)"
   ]
  },
  {
   "cell_type": "markdown",
   "id": "ffda89de-8c54-4a4c-998a-97dbcbcdd576",
   "metadata": {},
   "source": [
    "### ASE bulk\n",
    "\n",
    "`bulk` methodは結晶構造を簡単に作ることができます。\n",
    "\n",
    "以下のように、結晶を特徴づける値を指定することでその結晶構造が生成されます。\n",
    " - `name`: 原子種\n",
    " - `crystalstructure`: \"sc\", \"fcc\", \"bcc\" などの結晶構造を指定\n",
    " - `a, b, c, alpha, covera`: Cellの形や大きさを指定\n",
    " - `cubic`: Cellの形をCubic unit cell にするか否か\n"
   ]
  },
  {
   "cell_type": "code",
   "execution_count": 15,
   "id": "5e62ea12-cb39-4d11-be29-9eccb829764b",
   "metadata": {},
   "outputs": [
    {
     "data": {
      "text/plain": [
       "Atoms(symbols='Fe', pbc=True, cell=[2.0, 2.0, 2.0])"
      ]
     },
     "execution_count": 15,
     "metadata": {},
     "output_type": "execute_result"
    }
   ],
   "source": [
    "from ase.build import bulk\n",
    "\n",
    "fe_sc_atoms = bulk(name=\"Fe\", crystalstructure=\"sc\", a=2.0)\n",
    "fe_sc_atoms"
   ]
  },
  {
   "cell_type": "markdown",
   "id": "504509a1-0b5d-4826-b921-8feceacebe5e",
   "metadata": {},
   "source": [
    "次の可視化では１原子しか表示されていません。ズームアウトして、全体を見てみると、黄色い枠で**セル**が表示されていることがわかります。"
   ]
  },
  {
   "cell_type": "code",
   "execution_count": 16,
   "id": "fc6e1624-eeb8-4b67-8c1c-73118ebd78a6",
   "metadata": {},
   "outputs": [
    {
     "data": {
      "application/vnd.jupyter.widget-view+json": {
       "model_id": "b450fc43634a4fd6b90da5494051bb69",
       "version_major": 2,
       "version_minor": 0
      },
      "text/plain": [
       "HBox(children=(NGLWidget(), VBox(children=(Dropdown(description='Show', options=('All', 'Fe'), value='All'), D…"
      ]
     },
     "metadata": {},
     "output_type": "display_data"
    }
   ],
   "source": [
    "view_ngl(fe_sc_atoms, w=400, h=300)"
   ]
  },
  {
   "cell_type": "markdown",
   "id": "4b010585-6352-4479-abec-724a34e53ded",
   "metadata": {},
   "source": [
    "詳しくは後述しますが、セルと周期境界条件(`pbc`)が与えられた場合、上記の構造は周期境界条件に従って無限に続いているような構造を考えます。<br/>\n",
    "つまり表示上は１原子しか表示されていませんが、以下の構造のように規則正しく構造が続いて配置されている結晶構造を表しています。"
   ]
  },
  {
   "cell_type": "code",
   "execution_count": 17,
   "id": "fd17cf2f-b143-444f-bf7f-6b8159aecacf",
   "metadata": {},
   "outputs": [
    {
     "data": {
      "application/vnd.jupyter.widget-view+json": {
       "model_id": "6da04b71da554033a2e21d92bc0c19e2",
       "version_major": 2,
       "version_minor": 0
      },
      "text/plain": [
       "HBox(children=(NGLWidget(), VBox(children=(Dropdown(description='Show', options=('All', 'Fe'), value='All'), D…"
      ]
     },
     "metadata": {},
     "output_type": "display_data"
    }
   ],
   "source": [
    "view_ngl(fe_sc_atoms * (6, 6, 6), w=400, h=300)"
   ]
  },
  {
   "cell_type": "code",
   "execution_count": 18,
   "id": "5efe93b0-e392-411f-92c6-28fd992a06f7",
   "metadata": {},
   "outputs": [
    {
     "data": {
      "image/png": "[encoded data removed]",
      "text/plain": [
       "<Figure size 288x288 with 1 Axes>"
      ]
     },
     "metadata": {
      "needs_background": "light"
     },
     "output_type": "display_data"
    }
   ],
   "source": [
    "view_ase_atoms(fe_sc_atoms, rotation=\"45x,45y,0z\", figsize=(4, 4), title=\"Fe simple cubic atoms\", scale=40)"
   ]
  },
  {
   "cell_type": "markdown",
   "id": "9887d42a-2fe1-4645-ae0f-1a18d3672561",
   "metadata": {},
   "source": [
    "`crystalstructure`やCell size `a` などを指定しなかった場合、ASEが[元素種から自動で最適なものを決定します](https://gitlab.com/ase/ase/-/blob/6cb8784ac1056b7b897822ff7b763a323d92a543/ase/data/__init__.py#L578)。\n",
    "\n",
    "例えば、Feの場合 `a=2.87`のBCC構造となります。"
   ]
  },
  {
   "cell_type": "code",
   "execution_count": 19,
   "id": "3e98f12e-3677-4099-b46f-1c725b690847",
   "metadata": {},
   "outputs": [
    {
     "data": {
      "text/plain": [
       "Atoms(symbols='Fe', pbc=True, cell=[[-1.435, 1.435, 1.435], [1.435, -1.435, 1.435], [1.435, 1.435, -1.435]])"
      ]
     },
     "execution_count": 19,
     "metadata": {},
     "output_type": "execute_result"
    }
   ],
   "source": [
    "fe_atoms = bulk(\"Fe\")\n",
    "fe_atoms"
   ]
  },
  {
   "cell_type": "code",
   "execution_count": 20,
   "id": "92e7023c-884f-4786-8b60-eb20ad44aafb",
   "metadata": {},
   "outputs": [
    {
     "data": {
      "application/vnd.jupyter.widget-view+json": {
       "model_id": "66976d25a9b74aecaafb86c552fb3a32",
       "version_major": 2,
       "version_minor": 0
      },
      "text/plain": [
       "HBox(children=(NGLWidget(), VBox(children=(Dropdown(description='Show', options=('All', 'Fe'), value='All'), D…"
      ]
     },
     "metadata": {},
     "output_type": "display_data"
    }
   ],
   "source": [
    "view_ngl(fe_atoms, w=400, h=300)"
   ]
  },
  {
   "cell_type": "code",
   "execution_count": 21,
   "id": "3be9aba4-672b-429e-973c-c78c4003d5d8",
   "metadata": {},
   "outputs": [
    {
     "data": {
      "image/png": "[encoded data removed]",
      "text/plain": [
       "<Figure size 288x288 with 1 Axes>"
      ]
     },
     "metadata": {
      "needs_background": "light"
     },
     "output_type": "display_data"
    }
   ],
   "source": [
    "view_ase_atoms(fe_atoms, rotation=\"45x,0y,0z\", figsize=(4, 4), title=\"Fe BCC atoms\", scale=40)"
   ]
  },
  {
   "cell_type": "markdown",
   "id": "d8348e22-dfb1-4339-88bf-2c95427a2576",
   "metadata": {},
   "source": [
    "上記のように、BCCやFCC構造の場合、原子を1つのみ含む単位格子(unit cell)である基本単位胞(primitive cell)のCellは立方体ではありませんが、単位格子を拡張してとることにより立方体の形にすることも可能です。 `cubic=True` の引数を設定することで立方体の格子を持つ Atomsが生成できます。\n",
    "\n",
    "これらのPrimitive Cellと立方体のCellをもつUnit Cellの違いは、以下の文献が参考になります。\n",
    "\n",
    " - [結晶回折学　講義資料 担当教員　高村　仁: 単位胞のとり方](https://ceram.material.tohoku.ac.jp/~takamura/class/crystal/node3.html)"
   ]
  },
  {
   "cell_type": "code",
   "execution_count": 22,
   "id": "7accef83-8291-40fc-bc78-ac4c9314f7d8",
   "metadata": {},
   "outputs": [
    {
     "data": {
      "text/plain": [
       "Atoms(symbols='Fe2', pbc=True, cell=[2.87, 2.87, 2.87])"
      ]
     },
     "execution_count": 22,
     "metadata": {},
     "output_type": "execute_result"
    }
   ],
   "source": [
    "fe_cubic_atoms = bulk(\"Fe\", cubic=True)\n",
    "fe_cubic_atoms"
   ]
  },
  {
   "cell_type": "code",
   "execution_count": 23,
   "id": "cb0d7415-194d-468a-96c5-c32f182b5137",
   "metadata": {},
   "outputs": [
    {
     "data": {
      "application/vnd.jupyter.widget-view+json": {
       "model_id": "9367fb97bac241b48e8dd1bdea9d6728",
       "version_major": 2,
       "version_minor": 0
      },
      "text/plain": [
       "HBox(children=(NGLWidget(), VBox(children=(Dropdown(description='Show', options=('All', 'Fe'), value='All'), D…"
      ]
     },
     "metadata": {},
     "output_type": "display_data"
    }
   ],
   "source": [
    "view_ngl(fe_cubic_atoms, w=400, h=300)"
   ]
  },
  {
   "cell_type": "code",
   "execution_count": 24,
   "id": "bfd6a82a-8a67-46cb-b284-cd234f023dea",
   "metadata": {},
   "outputs": [
    {
     "data": {
      "image/png": "[encoded data removed]",
      "text/plain": [
       "<Figure size 288x288 with 1 Axes>"
      ]
     },
     "metadata": {
      "needs_background": "light"
     },
     "output_type": "display_data"
    }
   ],
   "source": [
    "view_ase_atoms(fe_cubic_atoms, rotation=\"10x,30y,0z\", figsize=(4, 4), title=\"Fe BCC atoms (cubic)\", scale=40)"
   ]
  },
  {
   "cell_type": "markdown",
   "id": "3d894e0f-a506-4143-a184-146a04911bd9",
   "metadata": {},
   "source": [
    "**repeat関数**\n",
    "\n",
    "周期境界条件を持つ構造は `repeat` 関数を使うことで、周期を繰り返しSuper cellとすることができます。\n",
    "\n",
    "以下の例では a軸方向に２倍、 b軸方向に3倍、 c軸方向に4倍、の大きさのCellの原子構造を作成しています。"
   ]
  },
  {
   "cell_type": "code",
   "execution_count": 25,
   "id": "7ee58017-5a2a-4886-b706-156531f521e3",
   "metadata": {},
   "outputs": [
    {
     "data": {
      "application/vnd.jupyter.widget-view+json": {
       "model_id": "2dd16f5c857a409cbc6cc0f7f23cb930",
       "version_major": 2,
       "version_minor": 0
      },
      "text/plain": [
       "HBox(children=(NGLWidget(), VBox(children=(Dropdown(description='Show', options=('All', 'Fe'), value='All'), D…"
      ]
     },
     "metadata": {},
     "output_type": "display_data"
    }
   ],
   "source": [
    "fe222_atoms = fe_atoms.repeat((2, 3, 4))\n",
    "view_ngl(fe222_atoms, w=400, h=300)"
   ]
  },
  {
   "cell_type": "markdown",
   "id": "1ede8cfc-a8f0-419b-8ffc-5c04d161ced6",
   "metadata": {},
   "source": [
    "`repeat`関数の代わりに、掛け算で指定することもできます。"
   ]
  },
  {
   "cell_type": "code",
   "execution_count": 26,
   "id": "4c6f6f1a-0ce2-4009-84bd-5264efbec631",
   "metadata": {},
   "outputs": [
    {
     "data": {
      "application/vnd.jupyter.widget-view+json": {
       "model_id": "1e81f3a40b0742d6a9d8a7dd5b087e18",
       "version_major": 2,
       "version_minor": 0
      },
      "text/plain": [
       "HBox(children=(NGLWidget(), VBox(children=(Dropdown(description='Show', options=('All', 'Fe'), value='All'), D…"
      ]
     },
     "metadata": {},
     "output_type": "display_data"
    }
   ],
   "source": [
    "fe222_atoms = fe_atoms * (2, 3, 4)\n",
    "view_ngl(fe222_atoms, w=400, h=300)"
   ]
  },
  {
   "cell_type": "code",
   "execution_count": 27,
   "id": "2f44dc7b-f8e0-4953-9261-db0469066240",
   "metadata": {},
   "outputs": [
    {
     "data": {
      "image/png": "[encoded data removed]",
      "text/plain": [
       "<Figure size 360x360 with 1 Axes>"
      ]
     },
     "metadata": {
      "needs_background": "light"
     },
     "output_type": "display_data"
    }
   ],
   "source": [
    "view_ase_atoms(fe222_atoms, rotation=\"45x,0y,0z\", figsize=(5, 5), title=\"Fe BCC atoms (2x2x2)\", scale=30)"
   ]
  },
  {
   "cell_type": "markdown",
   "id": "d2d445ce-dbba-4b0a-9111-0cd8f5aabc50",
   "metadata": {},
   "source": [
    "このように周期境界条件に従って無限に続くことを考えると、`cubic`を指定せずにprimitive cellで表現されたFe構造と、`cubic=True`としてセルを立方体にとったUnit cellのFe構造が同じ構造を表していることを確認することができます。"
   ]
  },
  {
   "cell_type": "markdown",
   "id": "8ced51bd-0819-4f9a-95c3-1c1805cad853",
   "metadata": {},
   "source": [
    "また bulk methodは2元素からなる構造なども生成することができます。"
   ]
  },
  {
   "cell_type": "code",
   "execution_count": 28,
   "id": "7ceaac54-aefb-4606-b34b-c4632107f38a",
   "metadata": {},
   "outputs": [
    {
     "data": {
      "application/vnd.jupyter.widget-view+json": {
       "model_id": "54914349cb904429bcf7f194c26f4225",
       "version_major": 2,
       "version_minor": 0
      },
      "text/plain": [
       "HBox(children=(NGLWidget(), VBox(children=(Dropdown(description='Show', options=('All', 'Cl', 'Na'), value='Al…"
      ]
     },
     "metadata": {},
     "output_type": "display_data"
    }
   ],
   "source": [
    "nacl_atoms = bulk(\"NaCl\", crystalstructure=\"rocksalt\", a=2.0)\n",
    "view_ngl(nacl_atoms * (3, 3, 3), w=400, h=300)"
   ]
  },
  {
   "cell_type": "code",
   "execution_count": 29,
   "id": "ce6a0807-d0e0-456f-bb98-c69cd99aac31",
   "metadata": {},
   "outputs": [
    {
     "data": {
      "image/png": "[encoded data removed]",
      "text/plain": [
       "<Figure size 216x216 with 1 Axes>"
      ]
     },
     "metadata": {
      "needs_background": "light"
     },
     "output_type": "display_data"
    }
   ],
   "source": [
    "view_ase_atoms(nacl_atoms, rotation=\"0x,0y,0z\", figsize=(3, 3), title=\"NaCl atoms\", scale=30)"
   ]
  },
  {
   "cell_type": "markdown",
   "id": "b91b1861-ca13-4562-a530-95f141ec268e",
   "metadata": {},
   "source": [
    "### ASE 表面構造\n",
    "\n",
    "触媒との反応を扱う場合などは、金属結晶の表面に対して反応物がどのように振る舞うかを見る形でモデリングを行う場合があります。<br/>\n",
    "結晶の表面を[ミラー指数](https://ja.wikipedia.org/wiki/%E3%83%9F%E3%83%A9%E3%83%BC%E6%8C%87%E6%95%B0)で指定することができます。\n",
    "\n",
    "ASEでは主要な結晶構造に対する、各表面を指定されたミラー指数で切り出されたものを作成することができます。表面はz軸方向に作られます。<br/>\n",
    "このような表面がでている構造を Slab構造と呼びます。\n",
    "\n",
    "Slab構造の作成時には以下のようなパラメータを指定します。\n",
    "\n",
    " - `symbol`: 元素種を指定\n",
    " - `size`: x, y, z軸それぞれの方向への原子数を指定\n",
    " - `vacuum`:　z軸上下に作成する真空層の厚さを指定"
   ]
  },
  {
   "cell_type": "code",
   "execution_count": 30,
   "id": "1232260f-927e-44f5-9506-5b827bb74ec1",
   "metadata": {},
   "outputs": [],
   "source": [
    "from ase.build import (\n",
    "    fcc100, fcc110, fcc111, fcc211, fcc111_root,\n",
    "    bcc100, bcc110, bcc111, bcc111_root,\n",
    "    hcp0001, hcp10m10, hcp0001_root,\n",
    "    diamond100, diamond111\n",
    ")\n",
    "\n",
    "# fcc: fcc100(), fcc110(), fcc111(), fcc211(), fcc111_root()\n",
    "# bcc: bcc100(), bcc110(), bcc111() * - bcc111_root()\n",
    "# hcp: hcp0001(), hcp10m10(), hcp0001_root()\n",
    "# diamond: diamond100(), diamond111()\n",
    "\n",
    "pt100_atoms = fcc100(\"Pt\", size=(4, 5, 6), vacuum=10.0)"
   ]
  },
  {
   "cell_type": "code",
   "execution_count": 31,
   "id": "d73f0fa6-1b72-4647-ab58-f747bc3301fd",
   "metadata": {},
   "outputs": [
    {
     "data": {
      "image/png": "[encoded data removed]",
      "text/plain": [
       "<Figure size 504x504 with 1 Axes>"
      ]
     },
     "metadata": {
      "needs_background": "light"
     },
     "output_type": "display_data"
    }
   ],
   "source": [
    "view_ase_atoms(pt100_atoms, rotation=\"-80x,10y,0z\", figsize=(7.0, 7.0), title=\"Pt[100] atoms\", scale=20)"
   ]
  },
  {
   "cell_type": "code",
   "execution_count": 32,
   "id": "0ebfd2c7-0a22-43f0-b032-32cb9bb0f613",
   "metadata": {},
   "outputs": [
    {
     "data": {
      "text/plain": [
       "\u001b[0;31mSignature:\u001b[0m \u001b[0mfcc100\u001b[0m\u001b[0;34m(\u001b[0m\u001b[0msymbol\u001b[0m\u001b[0;34m,\u001b[0m \u001b[0msize\u001b[0m\u001b[0;34m,\u001b[0m \u001b[0ma\u001b[0m\u001b[0;34m=\u001b[0m\u001b[0;32mNone\u001b[0m\u001b[0;34m,\u001b[0m \u001b[0mvacuum\u001b[0m\u001b[0;34m=\u001b[0m\u001b[0;32mNone\u001b[0m\u001b[0;34m,\u001b[0m \u001b[0morthogonal\u001b[0m\u001b[0;34m=\u001b[0m\u001b[0;32mTrue\u001b[0m\u001b[0;34m,\u001b[0m \u001b[0mperiodic\u001b[0m\u001b[0;34m=\u001b[0m\u001b[0;32mFalse\u001b[0m\u001b[0;34m)\u001b[0m\u001b[0;34m\u001b[0m\u001b[0;34m\u001b[0m\u001b[0m\n",
       "\u001b[0;31mDocstring:\u001b[0m\n",
       "FCC(100) surface.\n",
       "\n",
       "Supported special adsorption sites: 'ontop', 'bridge', 'hollow'.\n",
       "\u001b[0;31mFile:\u001b[0m      ~/.local/lib/python3.7/site-packages/ase/build/surface.py\n",
       "\u001b[0;31mType:\u001b[0m      function\n"
      ]
     },
     "metadata": {},
     "output_type": "display_data"
    }
   ],
   "source": [
    "fcc100?"
   ]
  },
  {
   "cell_type": "markdown",
   "id": "09d96c25-b190-4c18-bc53-73f800c071bb",
   "metadata": {},
   "source": [
    "しばしば表面の片方に注目して解析を行いますが、その場合であっても、反対側にももう1つの表面が出ることに注意してください。通常は反対側の表面の影響を受けないよう、ある程度の厚みをもたせて(この例では6層)解析を行います。"
   ]
  },
  {
   "cell_type": "markdown",
   "id": "d08e2795-6c79-45e7-a9dd-b3695416840e",
   "metadata": {},
   "source": [
    "### SMILESからの生成\n",
    "\n",
    "有機分子を表す際には、[SMILES記法](https://ja.wikipedia.org/wiki/SMILES%E8%A8%98%E6%B3%95)を用いて、特定の分子を表すことも多いです。<br/>\n",
    "例えばエチレンは \"C=C\" で表すことができます。\n",
    "\n",
    "以下の関数は、内部で有機分子を扱うライブラリである [RDKit](https://www.rdkit.org/) を使用して、SMILES構造からのAtoms生成を行っています。\n",
    "\n"
   ]
  },
  {
   "cell_type": "code",
   "execution_count": 33,
   "id": "507af555-e076-44fd-973b-ee8e41c10f6e",
   "metadata": {},
   "outputs": [
    {
     "data": {
      "application/vnd.jupyter.widget-view+json": {
       "model_id": "b33322561f774bdf97966b6ebc44b489",
       "version_major": 2,
       "version_minor": 0
      },
      "text/plain": [
       "HBox(children=(NGLWidget(), VBox(children=(Dropdown(description='Show', options=('All', 'C', 'H'), value='All'…"
      ]
     },
     "metadata": {},
     "output_type": "display_data"
    }
   ],
   "source": [
    "from pfcc_extras.structure.ase_rdkit_converter import smiles_to_atoms, atoms_to_smiles\n",
    "\n",
    "atoms = smiles_to_atoms(\"C=C\")\n",
    "view_ngl(atoms, representations=[\"ball+stick\"], w=400, h=300)"
   ]
  },
  {
   "cell_type": "markdown",
   "id": "fd4f2e38-35eb-43dc-ad44-ef91bb97d0d0",
   "metadata": {},
   "source": [
    "atomsからSMILESに戻す事もできます。(Experimentalな機能で、正しく動かない場合もありますのでご注意ください)"
   ]
  },
  {
   "cell_type": "code",
   "execution_count": 34,
   "id": "1b7d87cd-51e6-4303-9bf7-3504f5bbf528",
   "metadata": {},
   "outputs": [
    {
     "data": {
      "text/plain": [
       "'C=C'"
      ]
     },
     "execution_count": 34,
     "metadata": {},
     "output_type": "execute_result"
    }
   ],
   "source": [
    "atoms_to_smiles(atoms)"
   ]
  },
  {
   "cell_type": "markdown",
   "id": "65f9aab0-e6b4-424b-84e2-327cafd29e24",
   "metadata": {},
   "source": [
    "### ファイルから読み込む\n",
    "\n",
    "ASEでは、 xyz, cif, VASPのPOSCARファイルなどなど、様々な原子構造を記述するファイルの書き込み・読み込みに対応しています。<br/>\n",
    "対応しているファイルの一覧は以下のドキュメントを参照ください。\n",
    "\n",
    " - https://wiki.fysik.dtu.dk/ase/ase/io/io.html"
   ]
  },
  {
   "cell_type": "code",
   "execution_count": 35,
   "id": "44f4ceef-f341-4a0f-b49c-6ae6de133639",
   "metadata": {},
   "outputs": [],
   "source": [
    "from ase.io import read, write\n",
    "\n",
    "# 書き込み\n",
    "write(\"output/na2.xyz\", na2_atoms)"
   ]
  },
  {
   "cell_type": "code",
   "execution_count": 36,
   "id": "ac5a1211-36d4-4c0c-8c5d-fd865896d25f",
   "metadata": {},
   "outputs": [
    {
     "data": {
      "text/plain": [
       "Atoms(symbols='Na2', pbc=True, cell=[4.23, 4.23, 4.23])"
      ]
     },
     "execution_count": 36,
     "metadata": {},
     "output_type": "execute_result"
    }
   ],
   "source": [
    "# 読み込み\n",
    "read(\"output/na2.xyz\")"
   ]
  },
  {
   "cell_type": "markdown",
   "id": "1f15d638-e8dd-4b07-abbf-71cfda9a3690",
   "metadata": {},
   "source": [
    "### 外部データベースを使用する\n",
    "\n",
    " - Materials Project: https://materialsproject.org/\n",
    " - PubChem: https://pubchem.ncbi.nlm.nih.gov/\n",
    "\n",
    "などといった世の中に存在する大規模データベースから、ファイルをダウンロードし構造を読み込んでくることも可能です。\n",
    "\n",
    "これらファイルを使用する方法はMatlantis製品内のExampleに乗せておりますので、そちらをご覧ください。"
   ]
  }
 ],
 "metadata": {
  "kernelspec": {
   "display_name": "Python 3.7",
   "language": "python",
   "name": "python37"
  },
  "language_info": {
   "codemirror_mode": {
    "name": "ipython",
    "version": 3
   },
   "file_extension": ".py",
   "mimetype": "text/x-python",
   "name": "python",
   "nbconvert_exporter": "python",
   "pygments_lexer": "ipython3",
   "version": "3.7.13"
  },
  "toc-autonumbering": false,
  "toc-showcode": false,
  "toc-showmarkdowntxt": false,
  "toc-showtags": false,
  "widgets": {
   "application/vnd.jupyter.widget-state+json": {
    "state": {
     "0066d8b6d7fc4e629f82ca8f3b372d71": {
      "model_module": "@jupyter-widgets/controls",
      "model_module_version": "1.5.0",
      "model_name": "ButtonModel",
      "state": {
       "description": "Download image",
       "layout": "IPY_MODEL_6b1d1353acbf461ea9309cca22731108",
       "style": "IPY_MODEL_af4ac58246c84b4d85266abcd124e09d",
       "tooltip": "Download current frame to your local PC"
      }
     },
     "01188865fd1c4480a7d614149afc54ba": {
      "model_module": "@jupyter-widgets/controls",
      "model_module_version": "1.5.0",
      "model_name": "SliderStyleModel",
      "state": {
       "description_width": ""
      }
     },
     "015c175134134752899293b174c21f0d": {
      "model_module": "@jupyter-widgets/controls",
      "model_module_version": "1.5.0",
      "model_name": "HBoxModel",
      "state": {
       "children": [
        "IPY_MODEL_59898d5aef624c0994c498775a123f22",
        "IPY_MODEL_13cdf4fb5e8e4355a70e224619f8b595"
       ],
       "layout": "IPY_MODEL_07c13930dc75427c9d2b262b0dc97d47"
      }
     },
     "024a7da1e4f64ad19c923b8f89112f1d": {
      "model_module": "@jupyter-widgets/base",
      "model_module_version": "1.2.0",
      "model_name": "LayoutModel",
      "state": {}
     },
     "0283ac9b60704a19ac1a7b9420cfb90c": {
      "model_module": "@jupyter-widgets/controls",
      "model_module_version": "1.5.0",
      "model_name": "SliderStyleModel",
      "state": {
       "description_width": ""
      }
     },
     "02d244c143b54bc1b96b34bcde0796fd": {
      "model_module": "@jupyter-widgets/base",
      "model_module_version": "1.2.0",
      "model_name": "LayoutModel",
      "state": {}
     },
     "02d4b61f877f4531988d39a605e3ea61": {
      "model_module": "@jupyter-widgets/controls",
      "model_module_version": "1.5.0",
      "model_name": "DropdownModel",
      "state": {
       "_options_labels": [
        " ",
        "picking",
        "random",
        "uniform",
        "atomindex",
        "residueindex",
        "chainindex",
        "modelindex",
        "sstruc",
        "element",
        "resname",
        "bfactor",
        "hydrophobicity",
        "value",
        "volume",
        "occupancy"
       ],
       "description": "Color scheme",
       "index": 9,
       "layout": "IPY_MODEL_d2ae1f70a12241b8b08ecaf07983ad3c",
       "style": "IPY_MODEL_f2efd1bc7f114ecfb20e765068eb4119"
      }
     },
     "03847b5195104f22bbcfe091035ee814": {
      "model_module": "@jupyter-widgets/base",
      "model_module_version": "1.2.0",
      "model_name": "LayoutModel",
      "state": {}
     },
     "0437f5c208774f3ea1ca4ae7a9d980fc": {
      "model_module": "@jupyter-widgets/base",
      "model_module_version": "1.2.0",
      "model_name": "LayoutModel",
      "state": {}
     },
     "04eba6ec20134989ad1bdf98ddee96fe": {
      "model_module": "@jupyter-widgets/base",
      "model_module_version": "1.2.0",
      "model_name": "LayoutModel",
      "state": {}
     },
     "05236b4f517c49cfa8b0255867732bc8": {
      "model_module": "@jupyter-widgets/controls",
      "model_module_version": "1.5.0",
      "model_name": "ButtonModel",
      "state": {
       "icon": "compress",
       "layout": "IPY_MODEL_3231dd17afa140daa0feb15c6c08e6f9",
       "style": "IPY_MODEL_d54681d3baaf44cbabdf6dce33124e76"
      }
     },
     "0598561d7abc43489e93bb89a263fa75": {
      "model_module": "@jupyter-widgets/controls",
      "model_module_version": "1.5.0",
      "model_name": "DescriptionStyleModel",
      "state": {
       "description_width": ""
      }
     },
     "05a0495f517549daaa54d8b4d5456754": {
      "model_module": "@jupyter-widgets/base",
      "model_module_version": "1.2.0",
      "model_name": "LayoutModel",
      "state": {
       "border": "0px solid black"
      }
     },
     "0658581344da4c97af45326300d7937d": {
      "model_module": "@jupyter-widgets/controls",
      "model_module_version": "1.5.0",
      "model_name": "DropdownModel",
      "state": {
       "_options_labels": [
        "All",
        "Fe"
       ],
       "description": "Show",
       "index": 0,
       "layout": "IPY_MODEL_e5c8af47410347578f301abc39e7db3d",
       "style": "IPY_MODEL_c8ff4eddacb7471084c5c160e690b933"
      }
     },
     "06a448d6c02e40088d13d98ad7682c8b": {
      "model_module": "@jupyter-widgets/controls",
      "model_module_version": "1.5.0",
      "model_name": "LinkModel",
      "state": {
       "source": [
        "IPY_MODEL_d34eb74015624e62a19b069261be2cd7",
        "max"
       ],
       "target": [
        "IPY_MODEL_1bdc33ae83774d6189c3b4b7034c8731",
        "max_frame"
       ]
      }
     },
     "0765aef59e4844deb95fcd2ec213548f": {
      "model_module": "@jupyter-widgets/controls",
      "model_module_version": "1.5.0",
      "model_name": "DropdownModel",
      "state": {
       "_options_labels": [
        " ",
        "picking",
        "random",
        "uniform",
        "atomindex",
        "residueindex",
        "chainindex",
        "modelindex",
        "sstruc",
        "element",
        "resname",
        "bfactor",
        "hydrophobicity",
        "value",
        "volume",
        "occupancy"
       ],
       "description": "Color scheme",
       "index": 9,
       "layout": "IPY_MODEL_b8d7aa7330ad4b16aa0d0e163a2953a5",
       "style": "IPY_MODEL_546f32338b8e4cbfad0a68499a0cdc40"
      }
     },
     "076af754c2e847d08b74a0007c9e5eb2": {
      "model_module": "@jupyter-widgets/base",
      "model_module_version": "1.2.0",
      "model_name": "LayoutModel",
      "state": {}
     },
     "0796e51818324753a63669b7c69c613d": {
      "model_module": "@jupyter-widgets/base",
      "model_module_version": "1.2.0",
      "model_name": "LayoutModel",
      "state": {
       "border": "0px solid black"
      }
     },
     "07c13930dc75427c9d2b262b0dc97d47": {
      "model_module": "@jupyter-widgets/base",
      "model_module_version": "1.2.0",
      "model_name": "LayoutModel",
      "state": {}
     },
     "08c394855b52402db5ec0bd84b430a17": {
      "model_module": "@jupyter-widgets/controls",
      "model_module_version": "1.5.0",
      "model_name": "TextModel",
      "state": {
       "description": "Filename: ",
       "layout": "IPY_MODEL_bd73b19dc30a44eebd6bbefc26784a68",
       "style": "IPY_MODEL_47213bdac5ba4df6b02c08062e9759c4",
       "value": "screenshot.png"
      }
     },
     "0937a8fb7eb240eca0661fd29a38bd70": {
      "model_module": "nglview-js-widgets",
      "model_module_version": "3.0.1",
      "model_name": "NGLModel",
      "state": {
       "_camera_orientation": [
        19.24544464485836,
        0,
        0,
        0,
        0,
        19.24544464485836,
        0,
        0,
        0,
        0,
        19.24544464485836,
        0,
        -5,
        -5,
        -5,
        1
       ],
       "_camera_str": "orthographic",
       "_gui_theme": null,
       "_ibtn_fullscreen": "IPY_MODEL_2db52f6eb27f401cb5af342495749919",
       "_igui": null,
       "_iplayer": "IPY_MODEL_6aee6a3576064bcba50e03f8c405547a",
       "_ngl_color_dict": {},
       "_ngl_coordinate_resource": {},
       "_ngl_full_stage_parameters": {
        "ambientColor": 14540253,
        "ambientIntensity": 0.2,
        "backgroundColor": "white",
        "cameraEyeSep": 0.3,
        "cameraFov": 40,
        "cameraType": "orthographic",
        "clipDist": 0,
        "clipFar": 100,
        "clipNear": 0,
        "fogFar": 100,
        "fogNear": 50,
        "hoverTimeout": 0,
        "impostor": true,
        "lightColor": 14540253,
        "lightIntensity": 1,
        "mousePreset": "default",
        "panSpeed": 1,
        "quality": "medium",
        "rotateSpeed": 2,
        "sampleLevel": 0,
        "tooltip": true,
        "workerDefault": true,
        "zoomSpeed": 1.2
       },
       "_ngl_msg_archive": [
        {
         "args": [
          {
           "binary": false,
           "data": "CRYST1   12.000   12.000   12.000  90.00  90.00  90.00 P 1\nMODEL     1\nATOM      1   Fe MOL     1       0.000   0.000   0.000  1.00  0.00          FE  \nATOM      2   Fe MOL     1       0.000   0.000   2.000  1.00  0.00          FE  \nATOM      3   Fe MOL     1       0.000   0.000   4.000  1.00  0.00          FE  \nATOM      4   Fe MOL     1       0.000   0.000   6.000  1.00  0.00          FE  \nATOM      5   Fe MOL     1       0.000   0.000   8.000  1.00  0.00          FE  \nATOM      6   Fe MOL     1       0.000   0.000  10.000  1.00  0.00          FE  \nATOM      7   Fe MOL     1       0.000   2.000   0.000  1.00  0.00          FE  \nATOM      8   Fe MOL     1       0.000   2.000   2.000  1.00  0.00          FE  \nATOM      9   Fe MOL     1       0.000   2.000   4.000  1.00  0.00          FE  \nATOM     10   Fe MOL     1       0.000   2.000   6.000  1.00  0.00          FE  \nATOM     11   Fe MOL     1       0.000   2.000   8.000  1.00  0.00          FE  \nATOM     12   Fe MOL     1       0.000   2.000  10.000  1.00  0.00          FE  \nATOM     13   Fe MOL     1       0.000   4.000   0.000  1.00  0.00          FE  \nATOM     14   Fe MOL     1       0.000   4.000   2.000  1.00  0.00          FE  \nATOM     15   Fe MOL     1       0.000   4.000   4.000  1.00  0.00          FE  \nATOM     16   Fe MOL     1       0.000   4.000   6.000  1.00  0.00          FE  \nATOM     17   Fe MOL     1       0.000   4.000   8.000  1.00  0.00          FE  \nATOM     18   Fe MOL     1       0.000   4.000  10.000  1.00  0.00          FE  \nATOM     19   Fe MOL     1       0.000   6.000   0.000  1.00  0.00          FE  \nATOM     20   Fe MOL     1       0.000   6.000   2.000  1.00  0.00          FE  \nATOM     21   Fe MOL     1       0.000   6.000   4.000  1.00  0.00          FE  \nATOM     22   Fe MOL     1       0.000   6.000   6.000  1.00  0.00          FE  \nATOM     23   Fe MOL     1       0.000   6.000   8.000  1.00  0.00          FE  \nATOM     24   Fe MOL     1       0.000   6.000  10.000  1.00  0.00          FE  \nATOM     25   Fe MOL     1       0.000   8.000   0.000  1.00  0.00          FE  \nATOM     26   Fe MOL     1       0.000   8.000   2.000  1.00  0.00          FE  \nATOM     27   Fe MOL     1       0.000   8.000   4.000  1.00  0.00          FE  \nATOM     28   Fe MOL     1       0.000   8.000   6.000  1.00  0.00          FE  \nATOM     29   Fe MOL     1       0.000   8.000   8.000  1.00  0.00          FE  \nATOM     30   Fe MOL     1       0.000   8.000  10.000  1.00  0.00          FE  \nATOM     31   Fe MOL     1       0.000  10.000   0.000  1.00  0.00          FE  \nATOM     32   Fe MOL     1       0.000  10.000   2.000  1.00  0.00          FE  \nATOM     33   Fe MOL     1       0.000  10.000   4.000  1.00  0.00          FE  \nATOM     34   Fe MOL     1       0.000  10.000   6.000  1.00  0.00          FE  \nATOM     35   Fe MOL     1       0.000  10.000   8.000  1.00  0.00          FE  \nATOM     36   Fe MOL     1       0.000  10.000  10.000  1.00  0.00          FE  \nATOM     37   Fe MOL     1       2.000   0.000   0.000  1.00  0.00          FE  \nATOM     38   Fe MOL     1       2.000   0.000   2.000  1.00  0.00          FE  \nATOM     39   Fe MOL     1       2.000   0.000   4.000  1.00  0.00          FE  \nATOM     40   Fe MOL     1       2.000   0.000   6.000  1.00  0.00          FE  \nATOM     41   Fe MOL     1       2.000   0.000   8.000  1.00  0.00          FE  \nATOM     42   Fe MOL     1       2.000   0.000  10.000  1.00  0.00          FE  \nATOM     43   Fe MOL     1       2.000   2.000   0.000  1.00  0.00          FE  \nATOM     44   Fe MOL     1       2.000   2.000   2.000  1.00  0.00          FE  \nATOM     45   Fe MOL     1       2.000   2.000   4.000  1.00  0.00          FE  \nATOM     46   Fe MOL     1       2.000   2.000   6.000  1.00  0.00          FE  \nATOM     47   Fe MOL     1       2.000   2.000   8.000  1.00  0.00          FE  \nATOM     48   Fe MOL     1       2.000   2.000  10.000  1.00  0.00          FE  \nATOM     49   Fe MOL     1       2.000   4.000   0.000  1.00  0.00          FE  \nATOM     50   Fe MOL     1       2.000   4.000   2.000  1.00  0.00          FE  \nATOM     51   Fe MOL     1       2.000   4.000   4.000  1.00  0.00          FE  \nATOM     52   Fe MOL     1       2.000   4.000   6.000  1.00  0.00          FE  \nATOM     53   Fe MOL     1       2.000   4.000   8.000  1.00  0.00          FE  \nATOM     54   Fe MOL     1       2.000   4.000  10.000  1.00  0.00          FE  \nATOM     55   Fe MOL     1       2.000   6.000   0.000  1.00  0.00          FE  \nATOM     56   Fe MOL     1       2.000   6.000   2.000  1.00  0.00          FE  \nATOM     57   Fe MOL     1       2.000   6.000   4.000  1.00  0.00          FE  \nATOM     58   Fe MOL     1       2.000   6.000   6.000  1.00  0.00          FE  \nATOM     59   Fe MOL     1       2.000   6.000   8.000  1.00  0.00          FE  \nATOM     60   Fe MOL     1       2.000   6.000  10.000  1.00  0.00          FE  \nATOM     61   Fe MOL     1       2.000   8.000   0.000  1.00  0.00          FE  \nATOM     62   Fe MOL     1       2.000   8.000   2.000  1.00  0.00          FE  \nATOM     63   Fe MOL     1       2.000   8.000   4.000  1.00  0.00          FE  \nATOM     64   Fe MOL     1       2.000   8.000   6.000  1.00  0.00          FE  \nATOM     65   Fe MOL     1       2.000   8.000   8.000  1.00  0.00          FE  \nATOM     66   Fe MOL     1       2.000   8.000  10.000  1.00  0.00          FE  \nATOM     67   Fe MOL     1       2.000  10.000   0.000  1.00  0.00          FE  \nATOM     68   Fe MOL     1       2.000  10.000   2.000  1.00  0.00          FE  \nATOM     69   Fe MOL     1       2.000  10.000   4.000  1.00  0.00          FE  \nATOM     70   Fe MOL     1       2.000  10.000   6.000  1.00  0.00          FE  \nATOM     71   Fe MOL     1       2.000  10.000   8.000  1.00  0.00          FE  \nATOM     72   Fe MOL     1       2.000  10.000  10.000  1.00  0.00          FE  \nATOM     73   Fe MOL     1       4.000   0.000   0.000  1.00  0.00          FE  \nATOM     74   Fe MOL     1       4.000   0.000   2.000  1.00  0.00          FE  \nATOM     75   Fe MOL     1       4.000   0.000   4.000  1.00  0.00          FE  \nATOM     76   Fe MOL     1       4.000   0.000   6.000  1.00  0.00          FE  \nATOM     77   Fe MOL     1       4.000   0.000   8.000  1.00  0.00          FE  \nATOM     78   Fe MOL     1       4.000   0.000  10.000  1.00  0.00          FE  \nATOM     79   Fe MOL     1       4.000   2.000   0.000  1.00  0.00          FE  \nATOM     80   Fe MOL     1       4.000   2.000   2.000  1.00  0.00          FE  \nATOM     81   Fe MOL     1       4.000   2.000   4.000  1.00  0.00          FE  \nATOM     82   Fe MOL     1       4.000   2.000   6.000  1.00  0.00          FE  \nATOM     83   Fe MOL     1       4.000   2.000   8.000  1.00  0.00          FE  \nATOM     84   Fe MOL     1       4.000   2.000  10.000  1.00  0.00          FE  \nATOM     85   Fe MOL     1       4.000   4.000   0.000  1.00  0.00          FE  \nATOM     86   Fe MOL     1       4.000   4.000   2.000  1.00  0.00          FE  \nATOM     87   Fe MOL     1       4.000   4.000   4.000  1.00  0.00          FE  \nATOM     88   Fe MOL     1       4.000   4.000   6.000  1.00  0.00          FE  \nATOM     89   Fe MOL     1       4.000   4.000   8.000  1.00  0.00          FE  \nATOM     90   Fe MOL     1       4.000   4.000  10.000  1.00  0.00          FE  \nATOM     91   Fe MOL     1       4.000   6.000   0.000  1.00  0.00          FE  \nATOM     92   Fe MOL     1       4.000   6.000   2.000  1.00  0.00          FE  \nATOM     93   Fe MOL     1       4.000   6.000   4.000  1.00  0.00          FE  \nATOM     94   Fe MOL     1       4.000   6.000   6.000  1.00  0.00          FE  \nATOM     95   Fe MOL     1       4.000   6.000   8.000  1.00  0.00          FE  \nATOM     96   Fe MOL     1       4.000   6.000  10.000  1.00  0.00          FE  \nATOM     97   Fe MOL     1       4.000   8.000   0.000  1.00  0.00          FE  \nATOM     98   Fe MOL     1       4.000   8.000   2.000  1.00  0.00          FE  \nATOM     99   Fe MOL     1       4.000   8.000   4.000  1.00  0.00          FE  \nATOM    100   Fe MOL     1       4.000   8.000   6.000  1.00  0.00          FE  \nATOM    101   Fe MOL     1       4.000   8.000   8.000  1.00  0.00          FE  \nATOM    102   Fe MOL     1       4.000   8.000  10.000  1.00  0.00          FE  \nATOM    103   Fe MOL     1       4.000  10.000   0.000  1.00  0.00          FE  \nATOM    104   Fe MOL     1       4.000  10.000   2.000  1.00  0.00          FE  \nATOM    105   Fe MOL     1       4.000  10.000   4.000  1.00  0.00          FE  \nATOM    106   Fe MOL     1       4.000  10.000   6.000  1.00  0.00          FE  \nATOM    107   Fe MOL     1       4.000  10.000   8.000  1.00  0.00          FE  \nATOM    108   Fe MOL     1       4.000  10.000  10.000  1.00  0.00          FE  \nATOM    109   Fe MOL     1       6.000   0.000   0.000  1.00  0.00          FE  \nATOM    110   Fe MOL     1       6.000   0.000   2.000  1.00  0.00          FE  \nATOM    111   Fe MOL     1       6.000   0.000   4.000  1.00  0.00          FE  \nATOM    112   Fe MOL     1       6.000   0.000   6.000  1.00  0.00          FE  \nATOM    113   Fe MOL     1       6.000   0.000   8.000  1.00  0.00          FE  \nATOM    114   Fe MOL     1       6.000   0.000  10.000  1.00  0.00          FE  \nATOM    115   Fe MOL     1       6.000   2.000   0.000  1.00  0.00          FE  \nATOM    116   Fe MOL     1       6.000   2.000   2.000  1.00  0.00          FE  \nATOM    117   Fe MOL     1       6.000   2.000   4.000  1.00  0.00          FE  \nATOM    118   Fe MOL     1       6.000   2.000   6.000  1.00  0.00          FE  \nATOM    119   Fe MOL     1       6.000   2.000   8.000  1.00  0.00          FE  \nATOM    120   Fe MOL     1       6.000   2.000  10.000  1.00  0.00          FE  \nATOM    121   Fe MOL     1       6.000   4.000   0.000  1.00  0.00          FE  \nATOM    122   Fe MOL     1       6.000   4.000   2.000  1.00  0.00          FE  \nATOM    123   Fe MOL     1       6.000   4.000   4.000  1.00  0.00          FE  \nATOM    124   Fe MOL     1       6.000   4.000   6.000  1.00  0.00          FE  \nATOM    125   Fe MOL     1       6.000   4.000   8.000  1.00  0.00          FE  \nATOM    126   Fe MOL     1       6.000   4.000  10.000  1.00  0.00          FE  \nATOM    127   Fe MOL     1       6.000   6.000   0.000  1.00  0.00          FE  \nATOM    128   Fe MOL     1       6.000   6.000   2.000  1.00  0.00          FE  \nATOM    129   Fe MOL     1       6.000   6.000   4.000  1.00  0.00          FE  \nATOM    130   Fe MOL     1       6.000   6.000   6.000  1.00  0.00          FE  \nATOM    131   Fe MOL     1       6.000   6.000   8.000  1.00  0.00          FE  \nATOM    132   Fe MOL     1       6.000   6.000  10.000  1.00  0.00          FE  \nATOM    133   Fe MOL     1       6.000   8.000   0.000  1.00  0.00          FE  \nATOM    134   Fe MOL     1       6.000   8.000   2.000  1.00  0.00          FE  \nATOM    135   Fe MOL     1       6.000   8.000   4.000  1.00  0.00          FE  \nATOM    136   Fe MOL     1       6.000   8.000   6.000  1.00  0.00          FE  \nATOM    137   Fe MOL     1       6.000   8.000   8.000  1.00  0.00          FE  \nATOM    138   Fe MOL     1       6.000   8.000  10.000  1.00  0.00          FE  \nATOM    139   Fe MOL     1       6.000  10.000   0.000  1.00  0.00          FE  \nATOM    140   Fe MOL     1       6.000  10.000   2.000  1.00  0.00          FE  \nATOM    141   Fe MOL     1       6.000  10.000   4.000  1.00  0.00          FE  \nATOM    142   Fe MOL     1       6.000  10.000   6.000  1.00  0.00          FE  \nATOM    143   Fe MOL     1       6.000  10.000   8.000  1.00  0.00          FE  \nATOM    144   Fe MOL     1       6.000  10.000  10.000  1.00  0.00          FE  \nATOM    145   Fe MOL     1       8.000   0.000   0.000  1.00  0.00          FE  \nATOM    146   Fe MOL     1       8.000   0.000   2.000  1.00  0.00          FE  \nATOM    147   Fe MOL     1       8.000   0.000   4.000  1.00  0.00          FE  \nATOM    148   Fe MOL     1       8.000   0.000   6.000  1.00  0.00          FE  \nATOM    149   Fe MOL     1       8.000   0.000   8.000  1.00  0.00          FE  \nATOM    150   Fe MOL     1       8.000   0.000  10.000  1.00  0.00          FE  \nATOM    151   Fe MOL     1       8.000   2.000   0.000  1.00  0.00          FE  \nATOM    152   Fe MOL     1       8.000   2.000   2.000  1.00  0.00          FE  \nATOM    153   Fe MOL     1       8.000   2.000   4.000  1.00  0.00          FE  \nATOM    154   Fe MOL     1       8.000   2.000   6.000  1.00  0.00          FE  \nATOM    155   Fe MOL     1       8.000   2.000   8.000  1.00  0.00          FE  \nATOM    156   Fe MOL     1       8.000   2.000  10.000  1.00  0.00          FE  \nATOM    157   Fe MOL     1       8.000   4.000   0.000  1.00  0.00          FE  \nATOM    158   Fe MOL     1       8.000   4.000   2.000  1.00  0.00          FE  \nATOM    159   Fe MOL     1       8.000   4.000   4.000  1.00  0.00          FE  \nATOM    160   Fe MOL     1       8.000   4.000   6.000  1.00  0.00          FE  \nATOM    161   Fe MOL     1       8.000   4.000   8.000  1.00  0.00          FE  \nATOM    162   Fe MOL     1       8.000   4.000  10.000  1.00  0.00          FE  \nATOM    163   Fe MOL     1       8.000   6.000   0.000  1.00  0.00          FE  \nATOM    164   Fe MOL     1       8.000   6.000   2.000  1.00  0.00          FE  \nATOM    165   Fe MOL     1       8.000   6.000   4.000  1.00  0.00          FE  \nATOM    166   Fe MOL     1       8.000   6.000   6.000  1.00  0.00          FE  \nATOM    167   Fe MOL     1       8.000   6.000   8.000  1.00  0.00          FE  \nATOM    168   Fe MOL     1       8.000   6.000  10.000  1.00  0.00          FE  \nATOM    169   Fe MOL     1       8.000   8.000   0.000  1.00  0.00          FE  \nATOM    170   Fe MOL     1       8.000   8.000   2.000  1.00  0.00          FE  \nATOM    171   Fe MOL     1       8.000   8.000   4.000  1.00  0.00          FE  \nATOM    172   Fe MOL     1       8.000   8.000   6.000  1.00  0.00          FE  \nATOM    173   Fe MOL     1       8.000   8.000   8.000  1.00  0.00          FE  \nATOM    174   Fe MOL     1       8.000   8.000  10.000  1.00  0.00          FE  \nATOM    175   Fe MOL     1       8.000  10.000   0.000  1.00  0.00          FE  \nATOM    176   Fe MOL     1       8.000  10.000   2.000  1.00  0.00          FE  \nATOM    177   Fe MOL     1       8.000  10.000   4.000  1.00  0.00          FE  \nATOM    178   Fe MOL     1       8.000  10.000   6.000  1.00  0.00          FE  \nATOM    179   Fe MOL     1       8.000  10.000   8.000  1.00  0.00          FE  \nATOM    180   Fe MOL     1       8.000  10.000  10.000  1.00  0.00          FE  \nATOM    181   Fe MOL     1      10.000   0.000   0.000  1.00  0.00          FE  \nATOM    182   Fe MOL     1      10.000   0.000   2.000  1.00  0.00          FE  \nATOM    183   Fe MOL     1      10.000   0.000   4.000  1.00  0.00          FE  \nATOM    184   Fe MOL     1      10.000   0.000   6.000  1.00  0.00          FE  \nATOM    185   Fe MOL     1      10.000   0.000   8.000  1.00  0.00          FE  \nATOM    186   Fe MOL     1      10.000   0.000  10.000  1.00  0.00          FE  \nATOM    187   Fe MOL     1      10.000   2.000   0.000  1.00  0.00          FE  \nATOM    188   Fe MOL     1      10.000   2.000   2.000  1.00  0.00          FE  \nATOM    189   Fe MOL     1      10.000   2.000   4.000  1.00  0.00          FE  \nATOM    190   Fe MOL     1      10.000   2.000   6.000  1.00  0.00          FE  \nATOM    191   Fe MOL     1      10.000   2.000   8.000  1.00  0.00          FE  \nATOM    192   Fe MOL     1      10.000   2.000  10.000  1.00  0.00          FE  \nATOM    193   Fe MOL     1      10.000   4.000   0.000  1.00  0.00          FE  \nATOM    194   Fe MOL     1      10.000   4.000   2.000  1.00  0.00          FE  \nATOM    195   Fe MOL     1      10.000   4.000   4.000  1.00  0.00          FE  \nATOM    196   Fe MOL     1      10.000   4.000   6.000  1.00  0.00          FE  \nATOM    197   Fe MOL     1      10.000   4.000   8.000  1.00  0.00          FE  \nATOM    198   Fe MOL     1      10.000   4.000  10.000  1.00  0.00          FE  \nATOM    199   Fe MOL     1      10.000   6.000   0.000  1.00  0.00          FE  \nATOM    200   Fe MOL     1      10.000   6.000   2.000  1.00  0.00          FE  \nATOM    201   Fe MOL     1      10.000   6.000   4.000  1.00  0.00          FE  \nATOM    202   Fe MOL     1      10.000   6.000   6.000  1.00  0.00          FE  \nATOM    203   Fe MOL     1      10.000   6.000   8.000  1.00  0.00          FE  \nATOM    204   Fe MOL     1      10.000   6.000  10.000  1.00  0.00          FE  \nATOM    205   Fe MOL     1      10.000   8.000   0.000  1.00  0.00          FE  \nATOM    206   Fe MOL     1      10.000   8.000   2.000  1.00  0.00          FE  \nATOM    207   Fe MOL     1      10.000   8.000   4.000  1.00  0.00          FE  \nATOM    208   Fe MOL     1      10.000   8.000   6.000  1.00  0.00          FE  \nATOM    209   Fe MOL     1      10.000   8.000   8.000  1.00  0.00          FE  \nATOM    210   Fe MOL     1      10.000   8.000  10.000  1.00  0.00          FE  \nATOM    211   Fe MOL     1      10.000  10.000   0.000  1.00  0.00          FE  \nATOM    212   Fe MOL     1      10.000  10.000   2.000  1.00  0.00          FE  \nATOM    213   Fe MOL     1      10.000  10.000   4.000  1.00  0.00          FE  \nATOM    214   Fe MOL     1      10.000  10.000   6.000  1.00  0.00          FE  \nATOM    215   Fe MOL     1      10.000  10.000   8.000  1.00  0.00          FE  \nATOM    216   Fe MOL     1      10.000  10.000  10.000  1.00  0.00          FE  \nENDMDL\n",
           "type": "blob"
          }
         ],
         "kwargs": {
          "defaultRepresentation": false,
          "ext": "pdb"
         },
         "methodName": "loadFile",
         "reconstruc_color_scheme": false,
         "target": "Stage",
         "type": "call_method"
        },
        {
         "args": [
          "400px",
          "300px"
         ],
         "kwargs": {},
         "methodName": "setSize",
         "reconstruc_color_scheme": false,
         "target": "Widget",
         "type": "call_method"
        },
        {
         "args": [
          "unitcell"
         ],
         "component_index": 0,
         "kwargs": {
          "sele": "all"
         },
         "methodName": "addRepresentation",
         "reconstruc_color_scheme": false,
         "target": "compList",
         "type": "call_method"
        },
        {
         "args": [
          "spacefill"
         ],
         "component_index": 0,
         "kwargs": {
          "sele": "all"
         },
         "methodName": "addRepresentation",
         "reconstruc_color_scheme": false,
         "target": "compList",
         "type": "call_method"
        },
        {
         "args": [],
         "kwargs": {
          "cameraType": "orthographic"
         },
         "methodName": "setParameters",
         "reconstruc_color_scheme": false,
         "target": "Stage",
         "type": "call_method"
        },
        {
         "args": [
          {
           "clipDist": 0
          }
         ],
         "kwargs": {},
         "methodName": "setParameters",
         "reconstruc_color_scheme": false,
         "target": "Widget",
         "type": "call_method"
        },
        {
         "args": [
          "spacefill",
          0
         ],
         "kwargs": {
          "colorScale": "rainbow",
          "colorScheme": "element",
          "radiusScale": 0.5,
          "radiusType": "covalent"
         },
         "methodName": "updateRepresentationsByName",
         "reconstruc_color_scheme": false,
         "target": "Widget",
         "type": "call_method"
        },
        {
         "args": [
          "this._Q = [[1.0, 0.0, 0.0], [0.0, 1.0, 0.0], [0.0, 0.0, 1.0]]\n    var tooltip = document.createElement('div')\n    Object.assign(tooltip.style, {\n      display: 'none',\n      position: 'fixed',\n      zIndex: 10,\n      pointerEvents: 'none',\n      backgroundColor: 'rgba( 0, 0, 0, 0.6 )',\n      color: 'lightgrey',\n      padding: '8px',\n      fontFamily: 'sans-serif'\n    })\n    document.body.appendChild(tooltip)\n\n    var that = this\n    this.stage.mouseControls.remove('hoverPick')\n    this.stage.signals.hovered.add(function (pickingProxy) {\n      if (pickingProxy && (pickingProxy.atom || pickingProxy.bond)) {\n        var atom = pickingProxy.atom || pickingProxy.closestBondAtom\n        var mp = pickingProxy.mouse.position\n        //tooltip.innerText = atom.element + ' i=' + atom.index + ' (' + atom.x.toFixed(2) +  ', ' + atom.y.toFixed(2) +  ', ' + atom.z.toFixed(2) + ')'\n        //var pos = that._atoms_pos[atom.index]\n        var Q = that._Q\n        var pos_x = Q[0][0] * atom.x + Q[0][1] * atom.y + Q[0][2] * atom.z \n        var pos_y = Q[1][0] * atom.x + Q[1][1] * atom.y + Q[1][2] * atom.z\n        var pos_z = Q[2][0] * atom.x + Q[2][1] * atom.y + Q[2][2] * atom.z\n        tooltip.innerText = 'i=' + atom.index + ' ' + atom.element + ' (' + pos_x.toFixed(2) +  ', ' + pos_y.toFixed(2) +  ', ' + pos_z.toFixed(2) + ')'\n        tooltip.style.bottom = window.innerHeight - mp.y + 3 + 'px'\n        tooltip.style.left = mp.x + 3 + 'px'\n        tooltip.style.display = 'block'\n      } else {\n        tooltip.style.display = 'none'\n      }\n    })\n    "
         ],
         "kwargs": {},
         "methodName": "executeCode",
         "reconstruc_color_scheme": false,
         "target": "Widget",
         "type": "call_method"
        }
       ],
       "_ngl_original_stage_parameters": {
        "ambientColor": 14540253,
        "ambientIntensity": 0.2,
        "backgroundColor": "white",
        "cameraEyeSep": 0.3,
        "cameraFov": 40,
        "cameraType": "perspective",
        "clipDist": 10,
        "clipFar": 100,
        "clipNear": 0,
        "fogFar": 100,
        "fogNear": 50,
        "hoverTimeout": 0,
        "impostor": true,
        "lightColor": 14540253,
        "lightIntensity": 1,
        "mousePreset": "default",
        "panSpeed": 1,
        "quality": "medium",
        "rotateSpeed": 2,
        "sampleLevel": 0,
        "tooltip": true,
        "workerDefault": true,
        "zoomSpeed": 1.2
       },
       "_ngl_repr_dict": {
        "0": {
         "0": {
          "params": {
           "clipCenter": {
            "x": 0,
            "y": 0,
            "z": 0
           },
           "clipNear": 0,
           "clipRadius": 0,
           "colorMode": "hcl",
           "colorReverse": false,
           "colorScale": "",
           "colorScheme": "element",
           "colorValue": "orange",
           "defaultAssembly": "",
           "depthWrite": true,
           "diffuse": 16777215,
           "diffuseInterior": false,
           "disableImpostor": false,
           "disablePicking": false,
           "flatShaded": false,
           "interiorColor": 2236962,
           "interiorDarkening": 0,
           "lazy": false,
           "matrix": {
            "elements": [
             1,
             0,
             0,
             0,
             0,
             1,
             0,
             0,
             0,
             0,
             1,
             0,
             0,
             0,
             0,
             1
            ]
           },
           "metalness": 0,
           "opacity": 1,
           "quality": "medium",
           "radialSegments": 10,
           "radiusData": {},
           "radiusScale": 1,
           "radiusSize": 0.05999999736623311,
           "radiusType": "vdw",
           "roughness": 0.4,
           "sele": "all",
           "side": "double",
           "sphereDetail": 1,
           "useInteriorColor": true,
           "visible": true,
           "wireframe": false
          },
          "type": "unitcell"
         },
         "1": {
          "params": {
           "assembly": "default",
           "clipCenter": {
            "x": 0,
            "y": 0,
            "z": 0
           },
           "clipNear": 0,
           "clipRadius": 0,
           "colorMode": "hcl",
           "colorReverse": false,
           "colorScale": "rainbow",
           "colorScheme": "element",
           "colorValue": 9474192,
           "defaultAssembly": "",
           "depthWrite": true,
           "diffuse": 16777215,
           "diffuseInterior": false,
           "disableImpostor": false,
           "disablePicking": false,
           "flatShaded": false,
           "interiorColor": 2236962,
           "interiorDarkening": 0,
           "lazy": false,
           "matrix": {
            "elements": [
             1,
             0,
             0,
             0,
             0,
             1,
             0,
             0,
             0,
             0,
             1,
             0,
             0,
             0,
             0,
             1
            ]
           },
           "metalness": 0,
           "opacity": 1,
           "quality": "medium",
           "radiusData": {},
           "radiusScale": 0.5,
           "radiusSize": 1,
           "radiusType": "covalent",
           "roughness": 0.4,
           "sele": "all",
           "side": "double",
           "sphereDetail": 1,
           "useInteriorColor": true,
           "visible": true,
           "wireframe": false
          },
          "type": "spacefill"
         }
        }
       },
       "_ngl_serialize": false,
       "_ngl_version": "2.0.0-dev.36",
       "_ngl_view_id": [
        "55ED969D-D2C8-43F0-9878-D100AD4DB43C"
       ],
       "_player_dict": {},
       "_scene_position": {},
       "_scene_rotation": {},
       "_synced_model_ids": [],
       "_synced_repr_model_ids": [],
       "_view_height": "",
       "_view_width": "",
       "background": "white",
       "frame": 0,
       "gui_style": null,
       "layout": "IPY_MODEL_994488d793bd426591e6a6cae6546ad3",
       "max_frame": 0,
       "n_components": 1,
       "picked": {}
      }
     },
     "094c8247b5084494880cc92fd4115a8e": {
      "model_module": "@jupyter-widgets/base",
      "model_module_version": "1.2.0",
      "model_name": "LayoutModel",
      "state": {
       "border": "0px solid black"
      }
     },
     "094cc02253394f10b01267c6620713f3": {
      "model_module": "@jupyter-widgets/controls",
      "model_module_version": "1.5.0",
      "model_name": "ButtonModel",
      "state": {
       "icon": "compress",
       "layout": "IPY_MODEL_ad25fbca67424723a446eeaeb0841068",
       "style": "IPY_MODEL_983fd95d0ae543bb9002e94f63d36416"
      }
     },
     "096d6d4413f342e2a06a61ee1f37198c": {
      "model_module": "@jupyter-widgets/controls",
      "model_module_version": "1.5.0",
      "model_name": "HBoxModel",
      "state": {
       "children": [
        "IPY_MODEL_eeaf0ece09c14d068a6629638747f2b1",
        "IPY_MODEL_d34eb74015624e62a19b069261be2cd7"
       ],
       "layout": "IPY_MODEL_f00f021039fa4b0c9bf32db8528b9732"
      }
     },
     "09a03ff94f9547f896b428a4a991cec7": {
      "model_module": "@jupyter-widgets/base",
      "model_module_version": "1.2.0",
      "model_name": "LayoutModel",
      "state": {}
     },
     "09bd3846cd974570bab993b55343d924": {
      "model_module": "@jupyter-widgets/controls",
      "model_module_version": "1.5.0",
      "model_name": "TextModel",
      "state": {
       "description": "Filename: ",
       "layout": "IPY_MODEL_f20f7db26a704f7cb703b21e8e2b04a4",
       "style": "IPY_MODEL_35b417f09f064c68ac8450d415119ced",
       "value": "screenshot.png"
      }
     },
     "0a3acfff113844e886c3a67572c7bceb": {
      "model_module": "@jupyter-widgets/controls",
      "model_module_version": "1.5.0",
      "model_name": "DescriptionStyleModel",
      "state": {
       "description_width": ""
      }
     },
     "0a5cbf57be1445939578e6c9895bb529": {
      "model_module": "@jupyter-widgets/controls",
      "model_module_version": "1.5.0",
      "model_name": "ButtonStyleModel",
      "state": {}
     },
     "0a8c7c2f44bc48128c10bb244e863344": {
      "model_module": "@jupyter-widgets/controls",
      "model_module_version": "1.5.0",
      "model_name": "ButtonStyleModel",
      "state": {}
     },
     "0b21f7127c4d4e79be2b9f95ec1000c3": {
      "model_module": "@jupyter-widgets/base",
      "model_module_version": "1.2.0",
      "model_name": "LayoutModel",
      "state": {}
     },
     "0b87f4b1f82c48499e2b28b8eea42d71": {
      "model_module": "@jupyter-widgets/controls",
      "model_module_version": "1.5.0",
      "model_name": "TextModel",
      "state": {
       "description": "Filename: ",
       "layout": "IPY_MODEL_665c3b95d5984f9a92f1e26f0fc0d71f",
       "style": "IPY_MODEL_3ddd864f2fca42f8a0093051caf0ea50",
       "value": "screenshot.png"
      }
     },
     "0b9492560446432593d841efbec6e53d": {
      "model_module": "@jupyter-widgets/base",
      "model_module_version": "1.2.0",
      "model_name": "LayoutModel",
      "state": {}
     },
     "0bb6fa672dcc406ebfc784dfb28843e8": {
      "model_module": "@jupyter-widgets/base",
      "model_module_version": "1.2.0",
      "model_name": "LayoutModel",
      "state": {}
     },
     "0be64904389646a1af33f720c5f390a3": {
      "model_module": "@jupyter-widgets/base",
      "model_module_version": "1.2.0",
      "model_name": "LayoutModel",
      "state": {}
     },
     "0c5fde3610a541f6868aa7cf74c96c0e": {
      "model_module": "@jupyter-widgets/base",
      "model_module_version": "1.2.0",
      "model_name": "LayoutModel",
      "state": {}
     },
     "0c8e1b651d204222a6611405d6de25d0": {
      "model_module": "@jupyter-widgets/base",
      "model_module_version": "1.2.0",
      "model_name": "LayoutModel",
      "state": {}
     },
     "0c941a447733428985f07217862bf622": {
      "model_module": "@jupyter-widgets/controls",
      "model_module_version": "1.5.0",
      "model_name": "FloatSliderModel",
      "state": {
       "description": "Force scale",
       "layout": "IPY_MODEL_eeb5f93cd558426dba17e282a9d107f3",
       "step": 0.1,
       "style": "IPY_MODEL_eb8a69974db24ff39b2d5714bbe96153",
       "value": 0.5
      }
     },
     "0dc13851771c4420837e31a342085929": {
      "model_module": "@jupyter-widgets/controls",
      "model_module_version": "1.5.0",
      "model_name": "FloatSliderModel",
      "state": {
       "description": "Ball size",
       "layout": "IPY_MODEL_35d06ea3859d4e82b5756cbd4c35a992",
       "max": 1.5,
       "step": 0.01,
       "style": "IPY_MODEL_205117080b38496eb3835a022eebc076",
       "value": 0.5
      }
     },
     "0dd1f521febd4fc890259cd3b3d7cc66": {
      "model_module": "@jupyter-widgets/base",
      "model_module_version": "1.2.0",
      "model_name": "LayoutModel",
      "state": {}
     },
     "0dd561a49a364e61832417431aed63c8": {
      "model_module": "@jupyter-widgets/base",
      "model_module_version": "1.2.0",
      "model_name": "LayoutModel",
      "state": {}
     },
     "0de348270fb24035ad3cbf6f191d44bc": {
      "model_module": "@jupyter-widgets/controls",
      "model_module_version": "1.5.0",
      "model_name": "LinkModel",
      "state": {
       "source": [
        "IPY_MODEL_83a091df93d145d9a76776de59dbd983",
        "value"
       ],
       "target": [
        "IPY_MODEL_0937a8fb7eb240eca0661fd29a38bd70",
        "frame"
       ]
      }
     },
     "0e87d492c5fb4be49265b13f4a2f2c05": {
      "model_module": "@jupyter-widgets/controls",
      "model_module_version": "1.5.0",
      "model_name": "CheckboxModel",
      "state": {
       "description": "Show charge",
       "disabled": false,
       "layout": "IPY_MODEL_9a1d83a4d6274bcfad7c670e26edcda6",
       "style": "IPY_MODEL_8cd2addbc7c94020a7cb2002c04ec5be",
       "value": false
      }
     },
     "0e93d216d8c44e7783f485bab911dd83": {
      "model_module": "@jupyter-widgets/controls",
      "model_module_version": "1.5.0",
      "model_name": "SliderStyleModel",
      "state": {
       "description_width": ""
      }
     },
     "0fb17c69b2934bf5aaecac967db6e081": {
      "model_module": "@jupyter-widgets/controls",
      "model_module_version": "1.5.0",
      "model_name": "SliderStyleModel",
      "state": {
       "description_width": ""
      }
     },
     "1009968f4a994366ac7282f9b478a845": {
      "model_module": "@jupyter-widgets/base",
      "model_module_version": "1.2.0",
      "model_name": "LayoutModel",
      "state": {}
     },
     "1029cd286a47473f9d7f51d103f77cf9": {
      "model_module": "@jupyter-widgets/base",
      "model_module_version": "1.2.0",
      "model_name": "LayoutModel",
      "state": {}
     },
     "107ea8475e9140d6928007ed243c1deb": {
      "model_module": "@jupyter-widgets/controls",
      "model_module_version": "1.5.0",
      "model_name": "DescriptionStyleModel",
      "state": {
       "description_width": ""
      }
     },
     "10dce96afa584706beda2be6012f92ff": {
      "model_module": "@jupyter-widgets/base",
      "model_module_version": "1.2.0",
      "model_name": "LayoutModel",
      "state": {}
     },
     "10eab5a763ea4d1292e50fb664a0ca56": {
      "model_module": "@jupyter-widgets/controls",
      "model_module_version": "1.5.0",
      "model_name": "CheckboxModel",
      "state": {
       "description": "Show force",
       "disabled": false,
       "layout": "IPY_MODEL_acf952dc1c014b5c99ed46346dc4c4fd",
       "style": "IPY_MODEL_8bd3bdee6023436caccfb8dac78cfb41",
       "value": false
      }
     },
     "11de25b934b84c29a7aca41bfa627063": {
      "model_module": "@jupyter-widgets/base",
      "model_module_version": "1.2.0",
      "model_name": "LayoutModel",
      "state": {}
     },
     "124cdf55923f4101b8f2faf4c6ca6f4f": {
      "model_module": "@jupyter-widgets/controls",
      "model_module_version": "1.5.0",
      "model_name": "LinkModel",
      "state": {
       "source": [
        "IPY_MODEL_20fc3eca1a364ecbb0432b29a6267288",
        "value"
       ],
       "target": [
        "IPY_MODEL_2d2bd9bf2fbe49f3ba9e2cf2913abebd",
        "frame"
       ]
      }
     },
     "128c5e7c44714ac187308e522268bd79": {
      "model_module": "@jupyter-widgets/controls",
      "model_module_version": "1.5.0",
      "model_name": "FloatSliderModel",
      "state": {
       "description": "Force scale",
       "layout": "IPY_MODEL_80d6ccb24f16442ab32c06358cbed698",
       "step": 0.1,
       "style": "IPY_MODEL_0e93d216d8c44e7783f485bab911dd83",
       "value": 0.5
      }
     },
     "12c622e6189b4271a8638db3859d4c62": {
      "model_module": "@jupyter-widgets/controls",
      "model_module_version": "1.5.0",
      "model_name": "SliderStyleModel",
      "state": {
       "description_width": ""
      }
     },
     "13213bac1dad450a975db392883024b8": {
      "model_module": "@jupyter-widgets/base",
      "model_module_version": "1.2.0",
      "model_name": "LayoutModel",
      "state": {}
     },
     "13907fdce68741c194788b5a2be15f9e": {
      "model_module": "@jupyter-widgets/controls",
      "model_module_version": "1.5.0",
      "model_name": "LinkModel",
      "state": {
       "source": [
        "IPY_MODEL_3443a36d68444e9c826678ced2e1437a",
        "max"
       ],
       "target": [
        "IPY_MODEL_91fdf504462d47c1bc3208092d42444a",
        "max_frame"
       ]
      }
     },
     "13cdf4fb5e8e4355a70e224619f8b595": {
      "model_module": "@jupyter-widgets/controls",
      "model_module_version": "1.5.0",
      "model_name": "VBoxModel",
      "state": {
       "children": [
        "IPY_MODEL_d0aec591b38a4716adb0645b98f655d2",
        "IPY_MODEL_eb115e1400334a7a94b7b324d67bef4e",
        "IPY_MODEL_59a7ad3d8801484982abf6a03f20333c",
        "IPY_MODEL_f21e2c16871b4f398369445521c9d24b",
        "IPY_MODEL_57dbd4f1dc9e4b12933e978b1d67faf3",
        "IPY_MODEL_1fed3210349a448fab4e4ae3b784db1b",
        "IPY_MODEL_d09a08382ecb464ba389f9bb71d982ae",
        "IPY_MODEL_f9c86b299ae6420c991e1db1383a10bb",
        "IPY_MODEL_a2fe9932bed340329dfcfd281404fbb4",
        "IPY_MODEL_8e32154c9cea4206b6e5bb0821bbfc37"
       ],
       "layout": "IPY_MODEL_68f90b09ab6c405a9ceb1050e0a2d212"
      }
     },
     "149896132390401db1a81c94698c86f7": {
      "model_module": "@jupyter-widgets/base",
      "model_module_version": "1.2.0",
      "model_name": "LayoutModel",
      "state": {}
     },
     "149c2f896aec4dd88a99af79b43a47c4": {
      "model_module": "@jupyter-widgets/base",
      "model_module_version": "1.2.0",
      "model_name": "LayoutModel",
      "state": {}
     },
     "155c63c0abe344b6bb895db25fe5a23b": {
      "model_module": "@jupyter-widgets/controls",
      "model_module_version": "1.5.0",
      "model_name": "ButtonStyleModel",
      "state": {}
     },
     "15744fe051f54d499147cd4ef4b2608c": {
      "model_module": "@jupyter-widgets/base",
      "model_module_version": "1.2.0",
      "model_name": "LayoutModel",
      "state": {}
     },
     "15a086e753864a45ab2f84ffb2d5e3ba": {
      "model_module": "@jupyter-widgets/base",
      "model_module_version": "1.2.0",
      "model_name": "LayoutModel",
      "state": {}
     },
     "15ae1904e20c496bbcf874f95699e782": {
      "model_module": "@jupyter-widgets/controls",
      "model_module_version": "1.5.0",
      "model_name": "DescriptionStyleModel",
      "state": {
       "description_width": ""
      }
     },
     "15e7ed8ba6654e5cb40564c28a019ee6": {
      "model_module": "@jupyter-widgets/controls",
      "model_module_version": "1.5.0",
      "model_name": "ButtonStyleModel",
      "state": {}
     },
     "162ac843e00d40fda0f2fdcf63608bd9": {
      "model_module": "@jupyter-widgets/controls",
      "model_module_version": "1.5.0",
      "model_name": "ButtonModel",
      "state": {
       "description": "Save image",
       "layout": "IPY_MODEL_8886f4ecea954f76a9a56df803d5ff7a",
       "style": "IPY_MODEL_6c74dca1ac314f07890bdfa6e1825b78",
       "tooltip": "Save current frame to file.\nCurrently .png and .html are supported.\nIt takes a bit time, please be patient."
      }
     },
     "176e77a9cbb24c1f9b3694953d63d585": {
      "model_module": "@jupyter-widgets/controls",
      "model_module_version": "1.5.0",
      "model_name": "LinkModel",
      "state": {
       "source": [
        "IPY_MODEL_d098672c4aa94b8fbd698744707806c6",
        "max"
       ],
       "target": [
        "IPY_MODEL_1ee358c0d9704d1cb7e1fb67b93d75e1",
        "max_frame"
       ]
      }
     },
     "17a5bbb623fa4ca097c6250eaa50b3c5": {
      "model_module": "@jupyter-widgets/controls",
      "model_module_version": "1.5.0",
      "model_name": "HBoxModel",
      "state": {
       "children": [
        "IPY_MODEL_659fd08b7c3e4f4988aa2cb51355538b",
        "IPY_MODEL_162ac843e00d40fda0f2fdcf63608bd9"
       ],
       "layout": "IPY_MODEL_8e072e10f8824d698e36f9c79f2125fe"
      }
     },
     "17ce826df2cc4ca9baa1b03af78ea9b7": {
      "model_module": "@jupyter-widgets/controls",
      "model_module_version": "1.5.0",
      "model_name": "FloatSliderModel",
      "state": {
       "description": "Ball size",
       "layout": "IPY_MODEL_8b259997bc044aa795f84fce1e56f56b",
       "max": 1.5,
       "step": 0.01,
       "style": "IPY_MODEL_edfa81e5fc3c474e91fce59215a669e1",
       "value": 0.5
      }
     },
     "17df5a013118490fb1f66950ac001eb1": {
      "model_module": "@jupyter-widgets/base",
      "model_module_version": "1.2.0",
      "model_name": "LayoutModel",
      "state": {}
     },
     "18dc59fa594046668c852c6779b3f6d4": {
      "model_module": "@jupyter-widgets/controls",
      "model_module_version": "1.5.0",
      "model_name": "ButtonStyleModel",
      "state": {}
     },
     "195165af4be742a9bade78006dd1456c": {
      "model_module": "@jupyter-widgets/controls",
      "model_module_version": "1.5.0",
      "model_name": "FloatSliderModel",
      "state": {
       "description": "Force scale",
       "layout": "IPY_MODEL_d13d9bb6d4ae414dbb8babd156223f88",
       "step": 0.1,
       "style": "IPY_MODEL_6ce15c9221564051a790102cd4ba9392",
       "value": 0.5
      }
     },
     "195fae66a420414790e3737e53b46f14": {
      "model_module": "@jupyter-widgets/controls",
      "model_module_version": "1.5.0",
      "model_name": "SliderStyleModel",
      "state": {
       "description_width": ""
      }
     },
     "1974f35ca5ec4faa94bc743f60e8a5e3": {
      "model_module": "@jupyter-widgets/controls",
      "model_module_version": "1.5.0",
      "model_name": "LinkModel",
      "state": {
       "source": [
        "IPY_MODEL_20fc3eca1a364ecbb0432b29a6267288",
        "max"
       ],
       "target": [
        "IPY_MODEL_2d2bd9bf2fbe49f3ba9e2cf2913abebd",
        "max_frame"
       ]
      }
     },
     "19a75e5acf8f493a9298837e3f2dfce5": {
      "model_module": "@jupyter-widgets/controls",
      "model_module_version": "1.5.0",
      "model_name": "ButtonStyleModel",
      "state": {}
     },
     "1a7ed6dbfd9d49fa835d6e374ac65d6f": {
      "model_module": "@jupyter-widgets/base",
      "model_module_version": "1.2.0",
      "model_name": "LayoutModel",
      "state": {}
     },
     "1b00b598fcec419c8d4cadc9ac4d6e76": {
      "model_module": "@jupyter-widgets/controls",
      "model_module_version": "1.5.0",
      "model_name": "FloatSliderModel",
      "state": {
       "description": "Ball size",
       "layout": "IPY_MODEL_11de25b934b84c29a7aca41bfa627063",
       "max": 1.5,
       "step": 0.01,
       "style": "IPY_MODEL_88968765eb6c46289e94882e18fa4a92",
       "value": 0.5
      }
     },
     "1b96b4027e6a4b09b391a042d4cbc41f": {
      "model_module": "@jupyter-widgets/base",
      "model_module_version": "1.2.0",
      "model_name": "LayoutModel",
      "state": {}
     },
     "1bdc33ae83774d6189c3b4b7034c8731": {
      "model_module": "nglview-js-widgets",
      "model_module_version": "3.0.1",
      "model_name": "NGLModel",
      "state": {
       "_camera_orientation": [
        3.849760417253549,
        0,
        0,
        0,
        0,
        3.849760417253549,
        0,
        0,
        0,
        0,
        3.849760417253549,
        0,
        -0.7174999713897705,
        -0.7174999713897705,
        -0.7174999713897705,
        1
       ],
       "_camera_str": "orthographic",
       "_gui_theme": null,
       "_ibtn_fullscreen": "IPY_MODEL_28e6bf2db5f441bab93daa1bbf4dd0b5",
       "_igui": null,
       "_iplayer": "IPY_MODEL_096d6d4413f342e2a06a61ee1f37198c",
       "_ngl_color_dict": {},
       "_ngl_coordinate_resource": {},
       "_ngl_full_stage_parameters": {
        "ambientColor": 14540253,
        "ambientIntensity": 0.2,
        "backgroundColor": "white",
        "cameraEyeSep": 0.3,
        "cameraFov": 40,
        "cameraType": "orthographic",
        "clipDist": 0,
        "clipFar": 100,
        "clipNear": 0,
        "fogFar": 100,
        "fogNear": 50,
        "hoverTimeout": 0,
        "impostor": true,
        "lightColor": 14540253,
        "lightIntensity": 1,
        "mousePreset": "default",
        "panSpeed": 1,
        "quality": "medium",
        "rotateSpeed": 2,
        "sampleLevel": 0,
        "tooltip": true,
        "workerDefault": true,
        "zoomSpeed": 1.2
       },
       "_ngl_msg_archive": [
        {
         "args": [
          {
           "binary": false,
           "data": "CRYST1    2.870    2.870    2.870  90.00  90.00  90.00 P 1\nMODEL     1\nATOM      1   Fe MOL     1       0.000   0.000   0.000  1.00  0.00          FE  \nATOM      2   Fe MOL     1       1.435   1.435   1.435  1.00  0.00          FE  \nENDMDL\n",
           "type": "blob"
          }
         ],
         "kwargs": {
          "defaultRepresentation": false,
          "ext": "pdb"
         },
         "methodName": "loadFile",
         "reconstruc_color_scheme": false,
         "target": "Stage",
         "type": "call_method"
        },
        {
         "args": [
          "400px",
          "300px"
         ],
         "kwargs": {},
         "methodName": "setSize",
         "reconstruc_color_scheme": false,
         "target": "Widget",
         "type": "call_method"
        },
        {
         "args": [
          "unitcell"
         ],
         "component_index": 0,
         "kwargs": {
          "sele": "all"
         },
         "methodName": "addRepresentation",
         "reconstruc_color_scheme": false,
         "target": "compList",
         "type": "call_method"
        },
        {
         "args": [
          "spacefill"
         ],
         "component_index": 0,
         "kwargs": {
          "sele": "all"
         },
         "methodName": "addRepresentation",
         "reconstruc_color_scheme": false,
         "target": "compList",
         "type": "call_method"
        },
        {
         "args": [],
         "kwargs": {
          "cameraType": "orthographic"
         },
         "methodName": "setParameters",
         "reconstruc_color_scheme": false,
         "target": "Stage",
         "type": "call_method"
        },
        {
         "args": [
          {
           "clipDist": 0
          }
         ],
         "kwargs": {},
         "methodName": "setParameters",
         "reconstruc_color_scheme": false,
         "target": "Widget",
         "type": "call_method"
        },
        {
         "args": [
          "spacefill",
          0
         ],
         "kwargs": {
          "colorScale": "rainbow",
          "colorScheme": "element",
          "radiusScale": 0.5,
          "radiusType": "covalent"
         },
         "methodName": "updateRepresentationsByName",
         "reconstruc_color_scheme": false,
         "target": "Widget",
         "type": "call_method"
        },
        {
         "args": [
          "this._Q = [[1.0, 0.0, 0.0], [0.0, 1.0, 0.0], [0.0, 0.0, 1.0]]\n    var tooltip = document.createElement('div')\n    Object.assign(tooltip.style, {\n      display: 'none',\n      position: 'fixed',\n      zIndex: 10,\n      pointerEvents: 'none',\n      backgroundColor: 'rgba( 0, 0, 0, 0.6 )',\n      color: 'lightgrey',\n      padding: '8px',\n      fontFamily: 'sans-serif'\n    })\n    document.body.appendChild(tooltip)\n\n    var that = this\n    this.stage.mouseControls.remove('hoverPick')\n    this.stage.signals.hovered.add(function (pickingProxy) {\n      if (pickingProxy && (pickingProxy.atom || pickingProxy.bond)) {\n        var atom = pickingProxy.atom || pickingProxy.closestBondAtom\n        var mp = pickingProxy.mouse.position\n        //tooltip.innerText = atom.element + ' i=' + atom.index + ' (' + atom.x.toFixed(2) +  ', ' + atom.y.toFixed(2) +  ', ' + atom.z.toFixed(2) + ')'\n        //var pos = that._atoms_pos[atom.index]\n        var Q = that._Q\n        var pos_x = Q[0][0] * atom.x + Q[0][1] * atom.y + Q[0][2] * atom.z \n        var pos_y = Q[1][0] * atom.x + Q[1][1] * atom.y + Q[1][2] * atom.z\n        var pos_z = Q[2][0] * atom.x + Q[2][1] * atom.y + Q[2][2] * atom.z\n        tooltip.innerText = 'i=' + atom.index + ' ' + atom.element + ' (' + pos_x.toFixed(2) +  ', ' + pos_y.toFixed(2) +  ', ' + pos_z.toFixed(2) + ')'\n        tooltip.style.bottom = window.innerHeight - mp.y + 3 + 'px'\n        tooltip.style.left = mp.x + 3 + 'px'\n        tooltip.style.display = 'block'\n      } else {\n        tooltip.style.display = 'none'\n      }\n    })\n    "
         ],
         "kwargs": {},
         "methodName": "executeCode",
         "reconstruc_color_scheme": false,
         "target": "Widget",
         "type": "call_method"
        }
       ],
       "_ngl_original_stage_parameters": {
        "ambientColor": 14540253,
        "ambientIntensity": 0.2,
        "backgroundColor": "white",
        "cameraEyeSep": 0.3,
        "cameraFov": 40,
        "cameraType": "perspective",
        "clipDist": 10,
        "clipFar": 100,
        "clipNear": 0,
        "fogFar": 100,
        "fogNear": 50,
        "hoverTimeout": 0,
        "impostor": true,
        "lightColor": 14540253,
        "lightIntensity": 1,
        "mousePreset": "default",
        "panSpeed": 1,
        "quality": "medium",
        "rotateSpeed": 2,
        "sampleLevel": 0,
        "tooltip": true,
        "workerDefault": true,
        "zoomSpeed": 1.2
       },
       "_ngl_repr_dict": {
        "0": {
         "0": {
          "params": {
           "clipCenter": {
            "x": 0,
            "y": 0,
            "z": 0
           },
           "clipNear": 0,
           "clipRadius": 0,
           "colorMode": "hcl",
           "colorReverse": false,
           "colorScale": "",
           "colorScheme": "element",
           "colorValue": "orange",
           "defaultAssembly": "",
           "depthWrite": true,
           "diffuse": 16777215,
           "diffuseInterior": false,
           "disableImpostor": false,
           "disablePicking": false,
           "flatShaded": false,
           "interiorColor": 2236962,
           "interiorDarkening": 0,
           "lazy": false,
           "matrix": {
            "elements": [
             1,
             0,
             0,
             0,
             0,
             1,
             0,
             0,
             0,
             0,
             1,
             0,
             0,
             0,
             0,
             1
            ]
           },
           "metalness": 0,
           "opacity": 1,
           "quality": "medium",
           "radialSegments": 10,
           "radiusData": {},
           "radiusScale": 1,
           "radiusSize": 0.014349999370090754,
           "radiusType": "vdw",
           "roughness": 0.4,
           "sele": "all",
           "side": "double",
           "sphereDetail": 1,
           "useInteriorColor": true,
           "visible": true,
           "wireframe": false
          },
          "type": "unitcell"
         },
         "1": {
          "params": {
           "assembly": "default",
           "clipCenter": {
            "x": 0,
            "y": 0,
            "z": 0
           },
           "clipNear": 0,
           "clipRadius": 0,
           "colorMode": "hcl",
           "colorReverse": false,
           "colorScale": "rainbow",
           "colorScheme": "element",
           "colorValue": 9474192,
           "defaultAssembly": "",
           "depthWrite": true,
           "diffuse": 16777215,
           "diffuseInterior": false,
           "disableImpostor": false,
           "disablePicking": false,
           "flatShaded": false,
           "interiorColor": 2236962,
           "interiorDarkening": 0,
           "lazy": false,
           "matrix": {
            "elements": [
             1,
             0,
             0,
             0,
             0,
             1,
             0,
             0,
             0,
             0,
             1,
             0,
             0,
             0,
             0,
             1
            ]
           },
           "metalness": 0,
           "opacity": 1,
           "quality": "medium",
           "radiusData": {},
           "radiusScale": 0.5,
           "radiusSize": 1,
           "radiusType": "covalent",
           "roughness": 0.4,
           "sele": "all",
           "side": "double",
           "sphereDetail": 1,
           "useInteriorColor": true,
           "visible": true,
           "wireframe": false
          },
          "type": "spacefill"
         }
        }
       },
       "_ngl_serialize": false,
       "_ngl_version": "2.0.0-dev.36",
       "_ngl_view_id": [
        "6ECF9CAF-8A2B-4E6A-AD75-D0933E0EBB6D"
       ],
       "_player_dict": {},
       "_scene_position": {},
       "_scene_rotation": {},
       "_synced_model_ids": [],
       "_synced_repr_model_ids": [],
       "_view_height": "",
       "_view_width": "",
       "background": "white",
       "frame": 0,
       "gui_style": null,
       "layout": "IPY_MODEL_41bfb357ec2b4936b1007a8ac53c113f",
       "max_frame": 0,
       "n_components": 1,
       "picked": {}
      }
     },
     "1c0a9b0a526c498fa04484d3f8149427": {
      "model_module": "@jupyter-widgets/base",
      "model_module_version": "1.2.0",
      "model_name": "LayoutModel",
      "state": {}
     },
     "1c90794a1ab84ff39fd9878d51cb4691": {
      "model_module": "@jupyter-widgets/controls",
      "model_module_version": "1.5.0",
      "model_name": "DescriptionStyleModel",
      "state": {
       "description_width": ""
      }
     },
     "1d1a1658fb2246c6a63cc8112778b73d": {
      "model_module": "@jupyter-widgets/base",
      "model_module_version": "1.2.0",
      "model_name": "LayoutModel",
      "state": {}
     },
     "1d86aa03b80b4943b1b4aac4d6c3f80c": {
      "model_module": "@jupyter-widgets/controls",
      "model_module_version": "1.5.0",
      "model_name": "DescriptionStyleModel",
      "state": {
       "description_width": ""
      }
     },
     "1df020b12844492da113b04908904fb1": {
      "model_module": "@jupyter-widgets/base",
      "model_module_version": "1.2.0",
      "model_name": "LayoutModel",
      "state": {}
     },
     "1e12f6d1fcc04003a800aa7cc1445bea": {
      "model_module": "@jupyter-widgets/base",
      "model_module_version": "1.2.0",
      "model_name": "LayoutModel",
      "state": {}
     },
     "1e81f3a40b0742d6a9d8a7dd5b087e18": {
      "model_module": "@jupyter-widgets/controls",
      "model_module_version": "1.5.0",
      "model_name": "HBoxModel",
      "state": {
       "children": [
        "IPY_MODEL_4604ff8bb2114e17be4dbfe30e293857",
        "IPY_MODEL_25f4039eebb145c282bd52fac26b31a2"
       ],
       "layout": "IPY_MODEL_7d00734ddcb24c278b017e66b21ae92c"
      }
     },
     "1e8fee00ba6b46e8b6adf8df4de1e404": {
      "model_module": "@jupyter-widgets/controls",
      "model_module_version": "1.5.0",
      "model_name": "HBoxModel",
      "state": {
       "children": [
        "IPY_MODEL_f1617f3f42ee44f4b31657068b5cba4d",
        "IPY_MODEL_887be513528942ebbb539b6f519f70b9"
       ],
       "layout": "IPY_MODEL_b04f93ac12a5447e8e7443e9c8234416"
      }
     },
     "1ee358c0d9704d1cb7e1fb67b93d75e1": {
      "model_module": "nglview-js-widgets",
      "model_module_version": "3.0.1",
      "model_name": "NGLModel",
      "state": {
       "_camera_orientation": [
        5.334401693000302,
        0,
        0,
        0,
        0,
        5.334401693000302,
        0,
        0,
        0,
        0,
        5.334401693000302,
        0,
        -0.00850003957748413,
        0.005499988794326782,
        0.002499997615814209,
        1
       ],
       "_camera_str": "orthographic",
       "_gui_theme": null,
       "_ibtn_fullscreen": "IPY_MODEL_f41d58b1f03249ee855be1e0d3474f7d",
       "_igui": null,
       "_iplayer": "IPY_MODEL_d6858fcd16de4ace80c8096ad1a5bba4",
       "_ngl_color_dict": {},
       "_ngl_coordinate_resource": {},
       "_ngl_full_stage_parameters": {
        "ambientColor": 14540253,
        "ambientIntensity": 0.2,
        "backgroundColor": "white",
        "cameraEyeSep": 0.3,
        "cameraFov": 40,
        "cameraType": "orthographic",
        "clipDist": 0,
        "clipFar": 100,
        "clipNear": 0,
        "fogFar": 100,
        "fogNear": 50,
        "hoverTimeout": 0,
        "impostor": true,
        "lightColor": 14540253,
        "lightIntensity": 1,
        "mousePreset": "default",
        "panSpeed": 1,
        "quality": "medium",
        "rotateSpeed": 2,
        "sampleLevel": 0,
        "tooltip": true,
        "workerDefault": true,
        "zoomSpeed": 1.2
       },
       "_ngl_msg_archive": [
        {
         "args": [
          {
           "binary": false,
           "data": "MODEL     1\nATOM      1    C MOL     1       0.652   0.048   0.070  1.00  0.00           C  \nATOM      2    C MOL     1      -0.664  -0.057  -0.075  1.00  0.00           C  \nATOM      3    H MOL     1       1.090   0.953   0.477  1.00  0.00           H  \nATOM      4    H MOL     1       1.343  -0.729  -0.198  1.00  0.00           H  \nATOM      5    H MOL     1      -1.326   0.749   0.207  1.00  0.00           H  \nATOM      6    H MOL     1      -1.094  -0.964  -0.482  1.00  0.00           H  \nENDMDL\n",
           "type": "blob"
          }
         ],
         "kwargs": {
          "defaultRepresentation": false,
          "ext": "pdb"
         },
         "methodName": "loadFile",
         "reconstruc_color_scheme": false,
         "target": "Stage",
         "type": "call_method"
        },
        {
         "args": [
          "400px",
          "300px"
         ],
         "kwargs": {},
         "methodName": "setSize",
         "reconstruc_color_scheme": false,
         "target": "Widget",
         "type": "call_method"
        },
        {
         "args": [
          "unitcell"
         ],
         "component_index": 0,
         "kwargs": {
          "sele": "all"
         },
         "methodName": "addRepresentation",
         "reconstruc_color_scheme": false,
         "target": "compList",
         "type": "call_method"
        },
        {
         "args": [
          "spacefill"
         ],
         "component_index": 0,
         "kwargs": {
          "sele": "all"
         },
         "methodName": "addRepresentation",
         "reconstruc_color_scheme": false,
         "target": "compList",
         "type": "call_method"
        },
        {
         "args": [],
         "kwargs": {
          "cameraType": "orthographic"
         },
         "methodName": "setParameters",
         "reconstruc_color_scheme": false,
         "target": "Stage",
         "type": "call_method"
        },
        {
         "args": [
          {
           "clipDist": 0
          }
         ],
         "kwargs": {},
         "methodName": "setParameters",
         "reconstruc_color_scheme": false,
         "target": "Widget",
         "type": "call_method"
        },
        {
         "args": [
          "spacefill",
          0
         ],
         "kwargs": {
          "colorScale": "rainbow",
          "colorScheme": "element",
          "radiusScale": 0.5,
          "radiusType": "covalent"
         },
         "methodName": "updateRepresentationsByName",
         "reconstruc_color_scheme": false,
         "target": "Widget",
         "type": "call_method"
        },
        {
         "args": [
          "this._Q = [[1.0, 0.0, 0.0], [0.0, 1.0, 0.0], [0.0, 0.0, 1.0]]\n    var tooltip = document.createElement('div')\n    Object.assign(tooltip.style, {\n      display: 'none',\n      position: 'fixed',\n      zIndex: 10,\n      pointerEvents: 'none',\n      backgroundColor: 'rgba( 0, 0, 0, 0.6 )',\n      color: 'lightgrey',\n      padding: '8px',\n      fontFamily: 'sans-serif'\n    })\n    document.body.appendChild(tooltip)\n\n    var that = this\n    this.stage.mouseControls.remove('hoverPick')\n    this.stage.signals.hovered.add(function (pickingProxy) {\n      if (pickingProxy && (pickingProxy.atom || pickingProxy.bond)) {\n        var atom = pickingProxy.atom || pickingProxy.closestBondAtom\n        var mp = pickingProxy.mouse.position\n        //tooltip.innerText = atom.element + ' i=' + atom.index + ' (' + atom.x.toFixed(2) +  ', ' + atom.y.toFixed(2) +  ', ' + atom.z.toFixed(2) + ')'\n        //var pos = that._atoms_pos[atom.index]\n        var Q = that._Q\n        var pos_x = Q[0][0] * atom.x + Q[0][1] * atom.y + Q[0][2] * atom.z \n        var pos_y = Q[1][0] * atom.x + Q[1][1] * atom.y + Q[1][2] * atom.z\n        var pos_z = Q[2][0] * atom.x + Q[2][1] * atom.y + Q[2][2] * atom.z\n        tooltip.innerText = 'i=' + atom.index + ' ' + atom.element + ' (' + pos_x.toFixed(2) +  ', ' + pos_y.toFixed(2) +  ', ' + pos_z.toFixed(2) + ')'\n        tooltip.style.bottom = window.innerHeight - mp.y + 3 + 'px'\n        tooltip.style.left = mp.x + 3 + 'px'\n        tooltip.style.display = 'block'\n      } else {\n        tooltip.style.display = 'none'\n      }\n    })\n    "
         ],
         "kwargs": {},
         "methodName": "executeCode",
         "reconstruc_color_scheme": false,
         "target": "Widget",
         "type": "call_method"
        },
        {
         "args": [
          "ball+stick"
         ],
         "component_index": 0,
         "kwargs": {
          "sele": "all"
         },
         "methodName": "addRepresentation",
         "reconstruc_color_scheme": false,
         "target": "compList",
         "type": "call_method"
        }
       ],
       "_ngl_original_stage_parameters": {
        "ambientColor": 14540253,
        "ambientIntensity": 0.2,
        "backgroundColor": "white",
        "cameraEyeSep": 0.3,
        "cameraFov": 40,
        "cameraType": "perspective",
        "clipDist": 10,
        "clipFar": 100,
        "clipNear": 0,
        "fogFar": 100,
        "fogNear": 50,
        "hoverTimeout": 0,
        "impostor": true,
        "lightColor": 14540253,
        "lightIntensity": 1,
        "mousePreset": "default",
        "panSpeed": 1,
        "quality": "medium",
        "rotateSpeed": 2,
        "sampleLevel": 0,
        "tooltip": true,
        "workerDefault": true,
        "zoomSpeed": 1.2
       },
       "_ngl_repr_dict": {
        "0": {
         "0": {
          "params": {
           "clipCenter": {
            "x": 0,
            "y": 0,
            "z": 0
           },
           "clipNear": 0,
           "clipRadius": 0,
           "colorMode": "hcl",
           "colorReverse": false,
           "colorScale": "",
           "colorScheme": "element",
           "colorValue": "orange",
           "defaultAssembly": "",
           "depthWrite": true,
           "diffuse": 16777215,
           "diffuseInterior": false,
           "disableImpostor": false,
           "disablePicking": false,
           "flatShaded": false,
           "interiorColor": 2236962,
           "interiorDarkening": 0,
           "lazy": false,
           "matrix": {
            "elements": [
             1,
             0,
             0,
             0,
             0,
             1,
             0,
             0,
             0,
             0,
             1,
             0,
             0,
             0,
             0,
             1
            ]
           },
           "metalness": 0,
           "opacity": 1,
           "quality": "medium",
           "radialSegments": 10,
           "radiusData": {},
           "radiusScale": 1,
           "radiusSize": 0.5,
           "radiusType": "vdw",
           "roughness": 0.4,
           "sele": "all",
           "side": "double",
           "sphereDetail": 1,
           "useInteriorColor": true,
           "visible": true,
           "wireframe": false
          },
          "type": "unitcell"
         },
         "1": {
          "params": {
           "assembly": "default",
           "clipCenter": {
            "x": 0,
            "y": 0,
            "z": 0
           },
           "clipNear": 0,
           "clipRadius": 0,
           "colorMode": "hcl",
           "colorReverse": false,
           "colorScale": "rainbow",
           "colorScheme": "element",
           "colorValue": 9474192,
           "defaultAssembly": "",
           "depthWrite": true,
           "diffuse": 16777215,
           "diffuseInterior": false,
           "disableImpostor": false,
           "disablePicking": false,
           "flatShaded": false,
           "interiorColor": 2236962,
           "interiorDarkening": 0,
           "lazy": false,
           "matrix": {
            "elements": [
             1,
             0,
             0,
             0,
             0,
             1,
             0,
             0,
             0,
             0,
             1,
             0,
             0,
             0,
             0,
             1
            ]
           },
           "metalness": 0,
           "opacity": 1,
           "quality": "medium",
           "radiusData": {},
           "radiusScale": 0.5,
           "radiusSize": 1,
           "radiusType": "covalent",
           "roughness": 0.4,
           "sele": "all",
           "side": "double",
           "sphereDetail": 1,
           "useInteriorColor": true,
           "visible": true,
           "wireframe": false
          },
          "type": "spacefill"
         },
         "2": {
          "params": {
           "aspectRatio": 2,
           "assembly": "default",
           "bondScale": 0.4,
           "bondSpacing": 1,
           "clipCenter": {
            "x": 0,
            "y": 0,
            "z": 0
           },
           "clipNear": 0,
           "clipRadius": 0,
           "colorMode": "hcl",
           "colorReverse": false,
           "colorScale": "",
           "colorScheme": "element",
           "colorValue": 9474192,
           "cylinderOnly": false,
           "defaultAssembly": "",
           "depthWrite": true,
           "diffuse": 16777215,
           "diffuseInterior": false,
           "disableImpostor": false,
           "disablePicking": false,
           "flatShaded": false,
           "interiorColor": 2236962,
           "interiorDarkening": 0,
           "lazy": false,
           "lineOnly": false,
           "linewidth": 2,
           "matrix": {
            "elements": [
             1,
             0,
             0,
             0,
             0,
             1,
             0,
             0,
             0,
             0,
             1,
             0,
             0,
             0,
             0,
             1
            ]
           },
           "metalness": 0,
           "multipleBond": "off",
           "opacity": 1,
           "openEnded": true,
           "quality": "medium",
           "radialSegments": 10,
           "radiusData": {},
           "radiusScale": 1,
           "radiusSize": 0.15,
           "radiusType": "size",
           "roughness": 0.4,
           "sele": "all",
           "side": "double",
           "sphereDetail": 1,
           "useInteriorColor": true,
           "visible": true,
           "wireframe": false
          },
          "type": "ball+stick"
         }
        }
       },
       "_ngl_serialize": false,
       "_ngl_version": "2.0.0-dev.36",
       "_ngl_view_id": [
        "F366FD08-E63E-4038-A656-90D1CEA6C898"
       ],
       "_player_dict": {},
       "_scene_position": {},
       "_scene_rotation": {},
       "_synced_model_ids": [],
       "_synced_repr_model_ids": [],
       "_view_height": "",
       "_view_width": "",
       "background": "white",
       "frame": 0,
       "gui_style": null,
       "layout": "IPY_MODEL_b82f6a58f26a45bcbd8359f4d2eceb76",
       "max_frame": 0,
       "n_components": 1,
       "picked": {}
      }
     },
     "1ef2bac269dd4d15b85288a37f58d6be": {
      "model_module": "@jupyter-widgets/base",
      "model_module_version": "1.2.0",
      "model_name": "LayoutModel",
      "state": {}
     },
     "1f2c51d69b8a4d6f9380618957c8514b": {
      "model_module": "@jupyter-widgets/controls",
      "model_module_version": "1.5.0",
      "model_name": "ImageModel",
      "state": {
       "layout": "IPY_MODEL_8e70992f9b8b49eda9541bb3c98ccc05",
       "width": "900.0"
      }
     },
     "1f36574d033d4e62852d5c4f0409783b": {
      "model_module": "@jupyter-widgets/base",
      "model_module_version": "1.2.0",
      "model_name": "LayoutModel",
      "state": {
       "border": "0px solid black"
      }
     },
     "1f3d34e6eedf47caa80f3f0b79a65957": {
      "model_module": "@jupyter-widgets/controls",
      "model_module_version": "1.5.0",
      "model_name": "HBoxModel",
      "state": {
       "children": [
        "IPY_MODEL_24fba49bf8db43e1bda099638ebf8bdb",
        "IPY_MODEL_3443a36d68444e9c826678ced2e1437a"
       ],
       "layout": "IPY_MODEL_7e438d3f19c241a89893e794c964556b"
      }
     },
     "1f8fa0a469df4138874248e1ab43a32c": {
      "model_module": "@jupyter-widgets/base",
      "model_module_version": "1.2.0",
      "model_name": "LayoutModel",
      "state": {}
     },
     "1fed3210349a448fab4e4ae3b784db1b": {
      "model_module": "@jupyter-widgets/controls",
      "model_module_version": "1.5.0",
      "model_name": "CheckboxModel",
      "state": {
       "description": "Show force",
       "disabled": false,
       "layout": "IPY_MODEL_7ce7a5c1e01148248d288a42b83d25fb",
       "style": "IPY_MODEL_92e6472b29c04101b6338b2093223ad7",
       "value": false
      }
     },
     "205117080b38496eb3835a022eebc076": {
      "model_module": "@jupyter-widgets/controls",
      "model_module_version": "1.5.0",
      "model_name": "SliderStyleModel",
      "state": {
       "description_width": ""
      }
     },
     "20fc3eca1a364ecbb0432b29a6267288": {
      "model_module": "@jupyter-widgets/controls",
      "model_module_version": "1.5.0",
      "model_name": "PlayModel",
      "state": {
       "layout": "IPY_MODEL_a7c8c761f3234eacafd01214cd973ec2",
       "max": 0,
       "style": "IPY_MODEL_2245f6bf1af6443181d5b4460adc24b9"
      }
     },
     "2100de90a90a4547abb38d3f3dadba09": {
      "model_module": "@jupyter-widgets/controls",
      "model_module_version": "1.5.0",
      "model_name": "SliderStyleModel",
      "state": {
       "description_width": ""
      }
     },
     "21ad76778e034ba497045abe5a2f123f": {
      "model_module": "@jupyter-widgets/controls",
      "model_module_version": "1.5.0",
      "model_name": "DescriptionStyleModel",
      "state": {
       "description_width": ""
      }
     },
     "2245f6bf1af6443181d5b4460adc24b9": {
      "model_module": "@jupyter-widgets/controls",
      "model_module_version": "1.5.0",
      "model_name": "DescriptionStyleModel",
      "state": {
       "description_width": ""
      }
     },
     "2276d9914208448eb2265640f85c32f1": {
      "model_module": "@jupyter-widgets/controls",
      "model_module_version": "1.5.0",
      "model_name": "ButtonModel",
      "state": {
       "description": "Save image",
       "layout": "IPY_MODEL_f2e861e8e40741d69f0c27e1d9cd3201",
       "style": "IPY_MODEL_0a5cbf57be1445939578e6c9895bb529",
       "tooltip": "Save current frame to file.\nCurrently .png and .html are supported.\nIt takes a bit time, please be patient."
      }
     },
     "22d9a9e0521841b194c39320a7592870": {
      "model_module": "@jupyter-widgets/controls",
      "model_module_version": "1.5.0",
      "model_name": "DescriptionStyleModel",
      "state": {
       "description_width": ""
      }
     },
     "231afd8537bb4df0b6982cef7a6c7a20": {
      "model_module": "@jupyter-widgets/controls",
      "model_module_version": "1.5.0",
      "model_name": "ButtonStyleModel",
      "state": {}
     },
     "23261d3dc60345819ec92e324497780f": {
      "model_module": "@jupyter-widgets/controls",
      "model_module_version": "1.5.0",
      "model_name": "IntSliderModel",
      "state": {
       "layout": "IPY_MODEL_7e6194fdf94f48418831efc4a0df4a03",
       "max": 0,
       "style": "IPY_MODEL_c09a8faf45f84b4ea55c1a35da119fd3"
      }
     },
     "232e8a131f3747bdaa6d83d0347d29d5": {
      "model_module": "@jupyter-widgets/base",
      "model_module_version": "1.2.0",
      "model_name": "LayoutModel",
      "state": {}
     },
     "23d667238e58448a836586d3184c055d": {
      "model_module": "@jupyter-widgets/base",
      "model_module_version": "1.2.0",
      "model_name": "LayoutModel",
      "state": {}
     },
     "245870bab7284b47b26101dd878eefca": {
      "model_module": "@jupyter-widgets/base",
      "model_module_version": "1.2.0",
      "model_name": "LayoutModel",
      "state": {}
     },
     "24fba49bf8db43e1bda099638ebf8bdb": {
      "model_module": "@jupyter-widgets/controls",
      "model_module_version": "1.5.0",
      "model_name": "PlayModel",
      "state": {
       "layout": "IPY_MODEL_3d42d4a330b4429aa51cbc88ee4b5fb5",
       "max": 0,
       "style": "IPY_MODEL_c9434ee6b3cd47aab52ac34d341bd2ca"
      }
     },
     "25a9a103e6464bed88c378e54a513c20": {
      "model_module": "nglview-js-widgets",
      "model_module_version": "3.0.1",
      "model_name": "NGLModel",
      "state": {
       "_camera_orientation": [
        1.46216674209046,
        0,
        0,
        0,
        0,
        1.46216674209046,
        0,
        0,
        0,
        0,
        1.46216674209046,
        0,
        -0.5,
        0,
        0,
        1
       ],
       "_camera_str": "orthographic",
       "_gui_theme": null,
       "_ibtn_fullscreen": "IPY_MODEL_3714f298bd3c4d459ac82e258887affd",
       "_igui": null,
       "_iplayer": "IPY_MODEL_e0b82595fc7a4eafb31e8938ce779adb",
       "_ngl_color_dict": {},
       "_ngl_coordinate_resource": {},
       "_ngl_full_stage_parameters": {
        "ambientColor": 14540253,
        "ambientIntensity": 0.2,
        "backgroundColor": "white",
        "cameraEyeSep": 0.3,
        "cameraFov": 40,
        "cameraType": "orthographic",
        "clipDist": 0,
        "clipFar": 100,
        "clipNear": 0,
        "fogFar": 100,
        "fogNear": 50,
        "hoverTimeout": 0,
        "impostor": true,
        "lightColor": 14540253,
        "lightIntensity": 1,
        "mousePreset": "default",
        "panSpeed": 1,
        "quality": "medium",
        "rotateSpeed": 2,
        "sampleLevel": 0,
        "tooltip": true,
        "workerDefault": true,
        "zoomSpeed": 1.2
       },
       "_ngl_msg_archive": [
        {
         "args": [
          {
           "binary": false,
           "data": "MODEL     1\nATOM      1    C MOL     1       0.000   0.000   0.000  1.00  0.00           C  \nATOM      2    O MOL     1       1.000   0.000   0.000  1.00  0.00           O  \nENDMDL\n",
           "type": "blob"
          }
         ],
         "kwargs": {
          "defaultRepresentation": false,
          "ext": "pdb"
         },
         "methodName": "loadFile",
         "reconstruc_color_scheme": false,
         "target": "Stage",
         "type": "call_method"
        },
        {
         "args": [
          "400px",
          "300px"
         ],
         "kwargs": {},
         "methodName": "setSize",
         "reconstruc_color_scheme": false,
         "target": "Widget",
         "type": "call_method"
        },
        {
         "args": [
          "unitcell"
         ],
         "component_index": 0,
         "kwargs": {
          "sele": "all"
         },
         "methodName": "addRepresentation",
         "reconstruc_color_scheme": false,
         "target": "compList",
         "type": "call_method"
        },
        {
         "args": [
          "spacefill"
         ],
         "component_index": 0,
         "kwargs": {
          "sele": "all"
         },
         "methodName": "addRepresentation",
         "reconstruc_color_scheme": false,
         "target": "compList",
         "type": "call_method"
        },
        {
         "args": [],
         "kwargs": {
          "cameraType": "orthographic"
         },
         "methodName": "setParameters",
         "reconstruc_color_scheme": false,
         "target": "Stage",
         "type": "call_method"
        },
        {
         "args": [
          {
           "clipDist": 0
          }
         ],
         "kwargs": {},
         "methodName": "setParameters",
         "reconstruc_color_scheme": false,
         "target": "Widget",
         "type": "call_method"
        },
        {
         "args": [
          "spacefill",
          0
         ],
         "kwargs": {
          "colorScale": "rainbow",
          "colorScheme": "element",
          "radiusScale": 0.5,
          "radiusType": "covalent"
         },
         "methodName": "updateRepresentationsByName",
         "reconstruc_color_scheme": false,
         "target": "Widget",
         "type": "call_method"
        },
        {
         "args": [
          "this._Q = [[1.0, 0.0, 0.0], [0.0, 1.0, 0.0], [0.0, 0.0, 1.0]]\n    var tooltip = document.createElement('div')\n    Object.assign(tooltip.style, {\n      display: 'none',\n      position: 'fixed',\n      zIndex: 10,\n      pointerEvents: 'none',\n      backgroundColor: 'rgba( 0, 0, 0, 0.6 )',\n      color: 'lightgrey',\n      padding: '8px',\n      fontFamily: 'sans-serif'\n    })\n    document.body.appendChild(tooltip)\n\n    var that = this\n    this.stage.mouseControls.remove('hoverPick')\n    this.stage.signals.hovered.add(function (pickingProxy) {\n      if (pickingProxy && (pickingProxy.atom || pickingProxy.bond)) {\n        var atom = pickingProxy.atom || pickingProxy.closestBondAtom\n        var mp = pickingProxy.mouse.position\n        //tooltip.innerText = atom.element + ' i=' + atom.index + ' (' + atom.x.toFixed(2) +  ', ' + atom.y.toFixed(2) +  ', ' + atom.z.toFixed(2) + ')'\n        //var pos = that._atoms_pos[atom.index]\n        var Q = that._Q\n        var pos_x = Q[0][0] * atom.x + Q[0][1] * atom.y + Q[0][2] * atom.z \n        var pos_y = Q[1][0] * atom.x + Q[1][1] * atom.y + Q[1][2] * atom.z\n        var pos_z = Q[2][0] * atom.x + Q[2][1] * atom.y + Q[2][2] * atom.z\n        tooltip.innerText = 'i=' + atom.index + ' ' + atom.element + ' (' + pos_x.toFixed(2) +  ', ' + pos_y.toFixed(2) +  ', ' + pos_z.toFixed(2) + ')'\n        tooltip.style.bottom = window.innerHeight - mp.y + 3 + 'px'\n        tooltip.style.left = mp.x + 3 + 'px'\n        tooltip.style.display = 'block'\n      } else {\n        tooltip.style.display = 'none'\n      }\n    })\n    "
         ],
         "kwargs": {},
         "methodName": "executeCode",
         "reconstruc_color_scheme": false,
         "target": "Widget",
         "type": "call_method"
        },
        {
         "args": [
          "ball+stick"
         ],
         "component_index": 0,
         "kwargs": {
          "sele": "all"
         },
         "methodName": "addRepresentation",
         "reconstruc_color_scheme": false,
         "target": "compList",
         "type": "call_method"
        }
       ],
       "_ngl_original_stage_parameters": {
        "ambientColor": 14540253,
        "ambientIntensity": 0.2,
        "backgroundColor": "white",
        "cameraEyeSep": 0.3,
        "cameraFov": 40,
        "cameraType": "perspective",
        "clipDist": 10,
        "clipFar": 100,
        "clipNear": 0,
        "fogFar": 100,
        "fogNear": 50,
        "hoverTimeout": 0,
        "impostor": true,
        "lightColor": 14540253,
        "lightIntensity": 1,
        "mousePreset": "default",
        "panSpeed": 1,
        "quality": "medium",
        "rotateSpeed": 2,
        "sampleLevel": 0,
        "tooltip": true,
        "workerDefault": true,
        "zoomSpeed": 1.2
       },
       "_ngl_repr_dict": {
        "0": {
         "0": {
          "params": {
           "clipCenter": {
            "x": 0,
            "y": 0,
            "z": 0
           },
           "clipNear": 0,
           "clipRadius": 0,
           "colorMode": "hcl",
           "colorReverse": false,
           "colorScale": "",
           "colorScheme": "element",
           "colorValue": "orange",
           "defaultAssembly": "",
           "depthWrite": true,
           "diffuse": 16777215,
           "diffuseInterior": false,
           "disableImpostor": false,
           "disablePicking": false,
           "flatShaded": false,
           "interiorColor": 2236962,
           "interiorDarkening": 0,
           "lazy": false,
           "matrix": {
            "elements": [
             1,
             0,
             0,
             0,
             0,
             1,
             0,
             0,
             0,
             0,
             1,
             0,
             0,
             0,
             0,
             1
            ]
           },
           "metalness": 0,
           "opacity": 1,
           "quality": "medium",
           "radialSegments": 10,
           "radiusData": {},
           "radiusScale": 1,
           "radiusSize": 0.5,
           "radiusType": "vdw",
           "roughness": 0.4,
           "sele": "all",
           "side": "double",
           "sphereDetail": 1,
           "useInteriorColor": true,
           "visible": true,
           "wireframe": false
          },
          "type": "unitcell"
         },
         "1": {
          "params": {
           "assembly": "default",
           "clipCenter": {
            "x": 0,
            "y": 0,
            "z": 0
           },
           "clipNear": 0,
           "clipRadius": 0,
           "colorMode": "hcl",
           "colorReverse": false,
           "colorScale": "rainbow",
           "colorScheme": "element",
           "colorValue": 9474192,
           "defaultAssembly": "",
           "depthWrite": true,
           "diffuse": 16777215,
           "diffuseInterior": false,
           "disableImpostor": false,
           "disablePicking": false,
           "flatShaded": false,
           "interiorColor": 2236962,
           "interiorDarkening": 0,
           "lazy": false,
           "matrix": {
            "elements": [
             1,
             0,
             0,
             0,
             0,
             1,
             0,
             0,
             0,
             0,
             1,
             0,
             0,
             0,
             0,
             1
            ]
           },
           "metalness": 0,
           "opacity": 1,
           "quality": "medium",
           "radiusData": {},
           "radiusScale": 0.5,
           "radiusSize": 1,
           "radiusType": "covalent",
           "roughness": 0.4,
           "sele": "all",
           "side": "double",
           "sphereDetail": 1,
           "useInteriorColor": true,
           "visible": true,
           "wireframe": false
          },
          "type": "spacefill"
         },
         "2": {
          "params": {
           "aspectRatio": 2,
           "assembly": "default",
           "bondScale": 0.4,
           "bondSpacing": 1,
           "clipCenter": {
            "x": 0,
            "y": 0,
            "z": 0
           },
           "clipNear": 0,
           "clipRadius": 0,
           "colorMode": "hcl",
           "colorReverse": false,
           "colorScale": "",
           "colorScheme": "element",
           "colorValue": 9474192,
           "cylinderOnly": false,
           "defaultAssembly": "",
           "depthWrite": true,
           "diffuse": 16777215,
           "diffuseInterior": false,
           "disableImpostor": false,
           "disablePicking": false,
           "flatShaded": false,
           "interiorColor": 2236962,
           "interiorDarkening": 0,
           "lazy": false,
           "lineOnly": false,
           "linewidth": 2,
           "matrix": {
            "elements": [
             1,
             0,
             0,
             0,
             0,
             1,
             0,
             0,
             0,
             0,
             1,
             0,
             0,
             0,
             0,
             1
            ]
           },
           "metalness": 0,
           "multipleBond": "off",
           "opacity": 1,
           "openEnded": true,
           "quality": "medium",
           "radialSegments": 10,
           "radiusData": {},
           "radiusScale": 1,
           "radiusSize": 0.15,
           "radiusType": "size",
           "roughness": 0.4,
           "sele": "all",
           "side": "double",
           "sphereDetail": 1,
           "useInteriorColor": true,
           "visible": true,
           "wireframe": false
          },
          "type": "ball+stick"
         }
        }
       },
       "_ngl_serialize": false,
       "_ngl_version": "2.0.0-dev.36",
       "_ngl_view_id": [
        "41AAF756-5686-4097-BD58-C0A55A95E453"
       ],
       "_player_dict": {},
       "_scene_position": {},
       "_scene_rotation": {},
       "_synced_model_ids": [],
       "_synced_repr_model_ids": [],
       "_view_height": "",
       "_view_width": "",
       "background": "white",
       "frame": 0,
       "gui_style": null,
       "layout": "IPY_MODEL_bbd44a5948824e7faf2b8e7b674c7ea7",
       "max_frame": 0,
       "n_components": 1,
       "picked": {}
      }
     },
     "25bc7e5b67f44766a91f9a0e530a538e": {
      "model_module": "@jupyter-widgets/controls",
      "model_module_version": "1.5.0",
      "model_name": "IntSliderModel",
      "state": {
       "layout": "IPY_MODEL_51e453268b894654a123af9117421b18",
       "max": 0,
       "style": "IPY_MODEL_cc07da85214d472aa09ad5c92f07b5e1"
      }
     },
     "25f4039eebb145c282bd52fac26b31a2": {
      "model_module": "@jupyter-widgets/controls",
      "model_module_version": "1.5.0",
      "model_name": "VBoxModel",
      "state": {
       "children": [
        "IPY_MODEL_efd929297733408c8bb1a31023b8e88d",
        "IPY_MODEL_02d4b61f877f4531988d39a605e3ea61",
        "IPY_MODEL_1b00b598fcec419c8d4cadc9ac4d6e76",
        "IPY_MODEL_0b87f4b1f82c48499e2b28b8eea42d71",
        "IPY_MODEL_8970ea31d6d941bebed1cbeb9c50d9f0",
        "IPY_MODEL_90ca6a8a4f024d52a8590cb44665a192",
        "IPY_MODEL_7aa6ba0ac43c4af1beffeae1e75df317",
        "IPY_MODEL_e701c17dcbef4aefb33de7c68b0bd1bd",
        "IPY_MODEL_b11445a9fd924cb6bb94243e9eec4b5f",
        "IPY_MODEL_a7fc2852afa340d2a3e85e9714343386"
       ],
       "layout": "IPY_MODEL_23d667238e58448a836586d3184c055d"
      }
     },
     "25fa3383cdc84de2a97a66ec49ff4995": {
      "model_module": "@jupyter-widgets/controls",
      "model_module_version": "1.5.0",
      "model_name": "HBoxModel",
      "state": {
       "children": [
        "IPY_MODEL_da5ab7e554cd4456bcb7c711aae22697",
        "IPY_MODEL_9d43101fd05c4013ac2910980ac13492"
       ],
       "layout": "IPY_MODEL_7962ad43f1f04ecaa4a596f6eed1202a"
      }
     },
     "26ff07c25dd94d709dae227fddee2644": {
      "model_module": "@jupyter-widgets/base",
      "model_module_version": "1.2.0",
      "model_name": "LayoutModel",
      "state": {}
     },
     "271faceff99847e6b403bf97991477e6": {
      "model_module": "@jupyter-widgets/base",
      "model_module_version": "1.2.0",
      "model_name": "LayoutModel",
      "state": {}
     },
     "274b8e00109d4e9c920d036524ec5dbc": {
      "model_module": "@jupyter-widgets/controls",
      "model_module_version": "1.5.0",
      "model_name": "ButtonModel",
      "state": {
       "description": "Download image",
       "layout": "IPY_MODEL_3361c7e1fcaa486e84bf4f9d6fafe44a",
       "style": "IPY_MODEL_0a8c7c2f44bc48128c10bb244e863344",
       "tooltip": "Download current frame to your local PC"
      }
     },
     "277da42a0470426db3c52cb56037d323": {
      "model_module": "@jupyter-widgets/controls",
      "model_module_version": "1.5.0",
      "model_name": "ButtonStyleModel",
      "state": {}
     },
     "278aa20701314597b66208d61f2ae163": {
      "model_module": "@jupyter-widgets/controls",
      "model_module_version": "1.5.0",
      "model_name": "TextModel",
      "state": {
       "description": "Filename: ",
       "layout": "IPY_MODEL_b9c8a64cb3934668a781628880d7e82a",
       "style": "IPY_MODEL_8db2e16188b24b93bad424c4dba1601f",
       "value": "screenshot.png"
      }
     },
     "27a76ecf778b4771a10fdf5b91b08d77": {
      "model_module": "@jupyter-widgets/base",
      "model_module_version": "1.2.0",
      "model_name": "LayoutModel",
      "state": {}
     },
     "27cb30fbbd5847c2a18ac29aedbc562a": {
      "model_module": "@jupyter-widgets/base",
      "model_module_version": "1.2.0",
      "model_name": "LayoutModel",
      "state": {}
     },
     "2853dff6de3142d689d15aa748aed40a": {
      "model_module": "@jupyter-widgets/controls",
      "model_module_version": "1.5.0",
      "model_name": "SliderStyleModel",
      "state": {
       "description_width": ""
      }
     },
     "285ab7b684d448448505ee7a452e78e5": {
      "model_module": "@jupyter-widgets/output",
      "model_module_version": "1.0.0",
      "model_name": "OutputModel",
      "state": {
       "layout": "IPY_MODEL_312d22a64647409096dec68eebb7dd27"
      }
     },
     "28712bdd029447aab6657f9a70f1d3b6": {
      "model_module": "@jupyter-widgets/base",
      "model_module_version": "1.2.0",
      "model_name": "LayoutModel",
      "state": {}
     },
     "28dc3c8dba25467cbbbc5fa26f451de2": {
      "model_module": "@jupyter-widgets/controls",
      "model_module_version": "1.5.0",
      "model_name": "DropdownModel",
      "state": {
       "_options_labels": [
        " ",
        "picking",
        "random",
        "uniform",
        "atomindex",
        "residueindex",
        "chainindex",
        "modelindex",
        "sstruc",
        "element",
        "resname",
        "bfactor",
        "hydrophobicity",
        "value",
        "volume",
        "occupancy"
       ],
       "description": "Color scheme",
       "index": 9,
       "layout": "IPY_MODEL_7be2ba60f1054e248c6ab8707cf64326",
       "style": "IPY_MODEL_4901cdc13b164235b49748240cf50beb"
      }
     },
     "28e6bf2db5f441bab93daa1bbf4dd0b5": {
      "model_module": "@jupyter-widgets/controls",
      "model_module_version": "1.5.0",
      "model_name": "ButtonModel",
      "state": {
       "icon": "compress",
       "layout": "IPY_MODEL_8c0c3b0d458b46cf89ff189ed90fc2b5",
       "style": "IPY_MODEL_748dde31760c4e91aa8af044fe5a04ce"
      }
     },
     "29455ad379fd4a12924987308ed65f39": {
      "model_module": "@jupyter-widgets/controls",
      "model_module_version": "1.5.0",
      "model_name": "SliderStyleModel",
      "state": {
       "description_width": ""
      }
     },
     "297b6b0dd14c405a812b7ab762741729": {
      "model_module": "@jupyter-widgets/controls",
      "model_module_version": "1.5.0",
      "model_name": "SliderStyleModel",
      "state": {
       "description_width": ""
      }
     },
     "29856b9f847c48b39183daa98f228238": {
      "model_module": "@jupyter-widgets/controls",
      "model_module_version": "1.5.0",
      "model_name": "LinkModel",
      "state": {
       "source": [
        "IPY_MODEL_25bc7e5b67f44766a91f9a0e530a538e",
        "max"
       ],
       "target": [
        "IPY_MODEL_59898d5aef624c0994c498775a123f22",
        "max_frame"
       ]
      }
     },
     "29b603338b2b4ef0ba8f5ce4ed5d7861": {
      "model_module": "@jupyter-widgets/controls",
      "model_module_version": "1.5.0",
      "model_name": "ButtonStyleModel",
      "state": {}
     },
     "29d29f66f5dc40688e2dc33141fd3483": {
      "model_module": "@jupyter-widgets/controls",
      "model_module_version": "1.5.0",
      "model_name": "HBoxModel",
      "state": {
       "children": [
        "IPY_MODEL_b1cc644666634ce4bc30807057b97d45",
        "IPY_MODEL_2a502b8451fb4c16be59f1380247a4b7"
       ],
       "layout": "IPY_MODEL_2f385bc27c404e3da95697e3ab0c7c05"
      }
     },
     "29fac8f0454e4d80abc3650c6e7084ef": {
      "model_module": "@jupyter-widgets/controls",
      "model_module_version": "1.5.0",
      "model_name": "IntSliderModel",
      "state": {
       "layout": "IPY_MODEL_d81fef02e65b4ed5b197cf2134dd1a14",
       "max": 0,
       "style": "IPY_MODEL_cf327e9a7bf7446396190e47278a505a"
      }
     },
     "2a11c32c3c3b45a7824cb4b42b7dddc1": {
      "model_module": "@jupyter-widgets/base",
      "model_module_version": "1.2.0",
      "model_name": "LayoutModel",
      "state": {}
     },
     "2a25f42d26aa4893886389eb9d426db1": {
      "model_module": "@jupyter-widgets/base",
      "model_module_version": "1.2.0",
      "model_name": "LayoutModel",
      "state": {}
     },
     "2a502b8451fb4c16be59f1380247a4b7": {
      "model_module": "@jupyter-widgets/controls",
      "model_module_version": "1.5.0",
      "model_name": "ButtonModel",
      "state": {
       "description": "Save image",
       "layout": "IPY_MODEL_8557a61634784f1bb79b565d5c20de42",
       "style": "IPY_MODEL_18dc59fa594046668c852c6779b3f6d4",
       "tooltip": "Save current frame to file.\nCurrently .png and .html are supported.\nIt takes a bit time, please be patient."
      }
     },
     "2ad690e9b1dc43a692958dde23cc20d2": {
      "model_module": "@jupyter-widgets/controls",
      "model_module_version": "1.5.0",
      "model_name": "FloatSliderModel",
      "state": {
       "description": "Charge scale",
       "layout": "IPY_MODEL_3e0bab7c87454c7598289bb49aeeb15e",
       "step": 0.1,
       "style": "IPY_MODEL_b5c20e0b026f42e38fd344bede6234b4",
       "value": 1
      }
     },
     "2b2ebd4ea655486ab28bd411f01640c6": {
      "model_module": "@jupyter-widgets/base",
      "model_module_version": "1.2.0",
      "model_name": "LayoutModel",
      "state": {}
     },
     "2b37871b2fb24aacacbda2ded3b7902a": {
      "model_module": "@jupyter-widgets/controls",
      "model_module_version": "1.5.0",
      "model_name": "LinkModel",
      "state": {
       "source": [
        "IPY_MODEL_e1c1ac15b55a4b62b2bc6d4ec4c17b21",
        "value"
       ],
       "target": [
        "IPY_MODEL_25bc7e5b67f44766a91f9a0e530a538e",
        "value"
       ]
      }
     },
     "2caec715aa3540139c61779608178f4d": {
      "model_module": "@jupyter-widgets/controls",
      "model_module_version": "1.5.0",
      "model_name": "SliderStyleModel",
      "state": {
       "description_width": ""
      }
     },
     "2d1f038cff9a4806b7f320ebe050f912": {
      "model_module": "@jupyter-widgets/controls",
      "model_module_version": "1.5.0",
      "model_name": "ButtonStyleModel",
      "state": {}
     },
     "2d2bd9bf2fbe49f3ba9e2cf2913abebd": {
      "model_module": "nglview-js-widgets",
      "model_module_version": "3.0.1",
      "model_name": "NGLModel",
      "state": {
       "_camera_orientation": [
        1,
        0,
        0,
        0,
        0,
        1,
        0,
        0,
        0,
        0,
        1,
        0,
        0,
        0,
        0,
        1
       ],
       "_camera_str": "orthographic",
       "_gui_theme": null,
       "_ibtn_fullscreen": "IPY_MODEL_094cc02253394f10b01267c6620713f3",
       "_igui": null,
       "_iplayer": "IPY_MODEL_b3b673ba14a6487ba6468514f1186313",
       "_ngl_color_dict": {},
       "_ngl_coordinate_resource": {},
       "_ngl_full_stage_parameters": {
        "ambientColor": 14540253,
        "ambientIntensity": 0.2,
        "backgroundColor": "white",
        "cameraEyeSep": 0.3,
        "cameraFov": 40,
        "cameraType": "orthographic",
        "clipDist": 0,
        "clipFar": 100,
        "clipNear": 0,
        "fogFar": 100,
        "fogNear": 50,
        "hoverTimeout": 0,
        "impostor": true,
        "lightColor": 14540253,
        "lightIntensity": 1,
        "mousePreset": "default",
        "panSpeed": 1,
        "quality": "medium",
        "rotateSpeed": 2,
        "sampleLevel": 0,
        "tooltip": true,
        "workerDefault": true,
        "zoomSpeed": 1.2
       },
       "_ngl_msg_archive": [
        {
         "args": [
          {
           "binary": false,
           "data": "CRYST1    2.485    2.485    2.485 109.47 109.47 109.47 P 1\nMODEL     1\nATOM      1   Fe MOL     1       0.000   0.000   0.000  1.00  0.00          FE  \nENDMDL\n",
           "type": "blob"
          }
         ],
         "kwargs": {
          "defaultRepresentation": false,
          "ext": "pdb"
         },
         "methodName": "loadFile",
         "reconstruc_color_scheme": false,
         "target": "Stage",
         "type": "call_method"
        },
        {
         "args": [
          "400px",
          "300px"
         ],
         "kwargs": {},
         "methodName": "setSize",
         "reconstruc_color_scheme": false,
         "target": "Widget",
         "type": "call_method"
        },
        {
         "args": [
          "unitcell"
         ],
         "component_index": 0,
         "kwargs": {
          "sele": "all"
         },
         "methodName": "addRepresentation",
         "reconstruc_color_scheme": false,
         "target": "compList",
         "type": "call_method"
        },
        {
         "args": [
          "spacefill"
         ],
         "component_index": 0,
         "kwargs": {
          "sele": "all"
         },
         "methodName": "addRepresentation",
         "reconstruc_color_scheme": false,
         "target": "compList",
         "type": "call_method"
        },
        {
         "args": [],
         "kwargs": {
          "cameraType": "orthographic"
         },
         "methodName": "setParameters",
         "reconstruc_color_scheme": false,
         "target": "Stage",
         "type": "call_method"
        },
        {
         "args": [
          {
           "clipDist": 0
          }
         ],
         "kwargs": {},
         "methodName": "setParameters",
         "reconstruc_color_scheme": false,
         "target": "Widget",
         "type": "call_method"
        },
        {
         "args": [
          "spacefill",
          0
         ],
         "kwargs": {
          "colorScale": "rainbow",
          "colorScheme": "element",
          "radiusScale": 0.5,
          "radiusType": "covalent"
         },
         "methodName": "updateRepresentationsByName",
         "reconstruc_color_scheme": false,
         "target": "Widget",
         "type": "call_method"
        },
        {
         "args": [
          "this._Q = [[-0.5773502691896257, 0.5773502691896257, 0.5773502691896257], [0.40824829046386313, -0.408248290463863, 0.8164965809277263], [0.7071067811865474, 0.7071067811865478, -3.5164189309272113e-16]]\n    var tooltip = document.createElement('div')\n    Object.assign(tooltip.style, {\n      display: 'none',\n      position: 'fixed',\n      zIndex: 10,\n      pointerEvents: 'none',\n      backgroundColor: 'rgba( 0, 0, 0, 0.6 )',\n      color: 'lightgrey',\n      padding: '8px',\n      fontFamily: 'sans-serif'\n    })\n    document.body.appendChild(tooltip)\n\n    var that = this\n    this.stage.mouseControls.remove('hoverPick')\n    this.stage.signals.hovered.add(function (pickingProxy) {\n      if (pickingProxy && (pickingProxy.atom || pickingProxy.bond)) {\n        var atom = pickingProxy.atom || pickingProxy.closestBondAtom\n        var mp = pickingProxy.mouse.position\n        //tooltip.innerText = atom.element + ' i=' + atom.index + ' (' + atom.x.toFixed(2) +  ', ' + atom.y.toFixed(2) +  ', ' + atom.z.toFixed(2) + ')'\n        //var pos = that._atoms_pos[atom.index]\n        var Q = that._Q\n        var pos_x = Q[0][0] * atom.x + Q[0][1] * atom.y + Q[0][2] * atom.z \n        var pos_y = Q[1][0] * atom.x + Q[1][1] * atom.y + Q[1][2] * atom.z\n        var pos_z = Q[2][0] * atom.x + Q[2][1] * atom.y + Q[2][2] * atom.z\n        tooltip.innerText = 'i=' + atom.index + ' ' + atom.element + ' (' + pos_x.toFixed(2) +  ', ' + pos_y.toFixed(2) +  ', ' + pos_z.toFixed(2) + ')'\n        tooltip.style.bottom = window.innerHeight - mp.y + 3 + 'px'\n        tooltip.style.left = mp.x + 3 + 'px'\n        tooltip.style.display = 'block'\n      } else {\n        tooltip.style.display = 'none'\n      }\n    })\n    "
         ],
         "kwargs": {},
         "methodName": "executeCode",
         "reconstruc_color_scheme": false,
         "target": "Widget",
         "type": "call_method"
        }
       ],
       "_ngl_original_stage_parameters": {
        "ambientColor": 14540253,
        "ambientIntensity": 0.2,
        "backgroundColor": "white",
        "cameraEyeSep": 0.3,
        "cameraFov": 40,
        "cameraType": "perspective",
        "clipDist": 10,
        "clipFar": 100,
        "clipNear": 0,
        "fogFar": 100,
        "fogNear": 50,
        "hoverTimeout": 0,
        "impostor": true,
        "lightColor": 14540253,
        "lightIntensity": 1,
        "mousePreset": "default",
        "panSpeed": 1,
        "quality": "medium",
        "rotateSpeed": 2,
        "sampleLevel": 0,
        "tooltip": true,
        "workerDefault": true,
        "zoomSpeed": 1.2
       },
       "_ngl_repr_dict": {
        "0": {
         "0": {
          "params": {
           "clipCenter": {
            "x": 0,
            "y": 0,
            "z": 0
           },
           "clipNear": 0,
           "clipRadius": 0,
           "colorMode": "hcl",
           "colorReverse": false,
           "colorScale": "",
           "colorScheme": "element",
           "colorValue": "orange",
           "defaultAssembly": "",
           "depthWrite": true,
           "diffuse": 16777215,
           "diffuseInterior": false,
           "disableImpostor": false,
           "disablePicking": false,
           "flatShaded": false,
           "interiorColor": 2236962,
           "interiorDarkening": 0,
           "lazy": false,
           "matrix": {
            "elements": [
             1,
             0,
             0,
             0,
             0,
             1,
             0,
             0,
             0,
             0,
             1,
             0,
             0,
             0,
             0,
             1
            ]
           },
           "metalness": 0,
           "opacity": 1,
           "quality": "medium",
           "radialSegments": 10,
           "radiusData": {},
           "radiusScale": 1,
           "radiusSize": 0.011390413656173605,
           "radiusType": "vdw",
           "roughness": 0.4,
           "sele": "all",
           "side": "double",
           "sphereDetail": 1,
           "useInteriorColor": true,
           "visible": true,
           "wireframe": false
          },
          "type": "unitcell"
         },
         "1": {
          "params": {
           "assembly": "default",
           "clipCenter": {
            "x": 0,
            "y": 0,
            "z": 0
           },
           "clipNear": 0,
           "clipRadius": 0,
           "colorMode": "hcl",
           "colorReverse": false,
           "colorScale": "rainbow",
           "colorScheme": "element",
           "colorValue": 9474192,
           "defaultAssembly": "",
           "depthWrite": true,
           "diffuse": 16777215,
           "diffuseInterior": false,
           "disableImpostor": false,
           "disablePicking": false,
           "flatShaded": false,
           "interiorColor": 2236962,
           "interiorDarkening": 0,
           "lazy": false,
           "matrix": {
            "elements": [
             1,
             0,
             0,
             0,
             0,
             1,
             0,
             0,
             0,
             0,
             1,
             0,
             0,
             0,
             0,
             1
            ]
           },
           "metalness": 0,
           "opacity": 1,
           "quality": "medium",
           "radiusData": {},
           "radiusScale": 0.5,
           "radiusSize": 1,
           "radiusType": "covalent",
           "roughness": 0.4,
           "sele": "all",
           "side": "double",
           "sphereDetail": 1,
           "useInteriorColor": true,
           "visible": true,
           "wireframe": false
          },
          "type": "spacefill"
         }
        }
       },
       "_ngl_serialize": false,
       "_ngl_version": "2.0.0-dev.36",
       "_ngl_view_id": [
        "1FBEB5CD-BF73-4F84-BE98-38B3994A29F0"
       ],
       "_player_dict": {},
       "_scene_position": {},
       "_scene_rotation": {},
       "_synced_model_ids": [],
       "_synced_repr_model_ids": [],
       "_view_height": "",
       "_view_width": "",
       "background": "white",
       "frame": 0,
       "gui_style": null,
       "layout": "IPY_MODEL_3db320d0087f4e8e9f117f5cdc1a778b",
       "max_frame": 0,
       "n_components": 1,
       "picked": {}
      }
     },
     "2d780fe059274c06b8bdb730fb3ba3c2": {
      "model_module": "@jupyter-widgets/controls",
      "model_module_version": "1.5.0",
      "model_name": "SliderStyleModel",
      "state": {
       "description_width": ""
      }
     },
     "2db52f6eb27f401cb5af342495749919": {
      "model_module": "@jupyter-widgets/controls",
      "model_module_version": "1.5.0",
      "model_name": "ButtonModel",
      "state": {
       "icon": "compress",
       "layout": "IPY_MODEL_53a339bf774b42f0975474204b5aefba",
       "style": "IPY_MODEL_6c3f7ea39f0840f98ddcaca114670cdb"
      }
     },
     "2dd16f5c857a409cbc6cc0f7f23cb930": {
      "model_module": "@jupyter-widgets/controls",
      "model_module_version": "1.5.0",
      "model_name": "HBoxModel",
      "state": {
       "children": [
        "IPY_MODEL_7c87f22280b64bfcb56e2fa1aa3f7001",
        "IPY_MODEL_5137cbab38e04d9a8ef48a208c310672"
       ],
       "layout": "IPY_MODEL_5e6869dcdc26475cabc65f2fcbf3f3aa"
      }
     },
     "2e575d3d36144623a2c6bf6a63dd539b": {
      "model_module": "@jupyter-widgets/controls",
      "model_module_version": "1.5.0",
      "model_name": "ButtonModel",
      "state": {
       "icon": "compress",
       "layout": "IPY_MODEL_d6eacf6663f84862b47a18e20979557a",
       "style": "IPY_MODEL_277da42a0470426db3c52cb56037d323"
      }
     },
     "2ead456aa391405396361b1ccf1ea60c": {
      "model_module": "@jupyter-widgets/controls",
      "model_module_version": "1.5.0",
      "model_name": "LinkModel",
      "state": {
       "source": [
        "IPY_MODEL_e56efb82c269407fb4007a103f126ba9",
        "max"
       ],
       "target": [
        "IPY_MODEL_da8cb07482cf4f95a36d59de22cf7e29",
        "max_frame"
       ]
      }
     },
     "2f0f7f9b126349c6a83ef4143add9107": {
      "model_module": "@jupyter-widgets/controls",
      "model_module_version": "1.5.0",
      "model_name": "SliderStyleModel",
      "state": {
       "description_width": ""
      }
     },
     "2f385bc27c404e3da95697e3ab0c7c05": {
      "model_module": "@jupyter-widgets/base",
      "model_module_version": "1.2.0",
      "model_name": "LayoutModel",
      "state": {}
     },
     "2f746424e9f24aa3ab481856750a017a": {
      "model_module": "@jupyter-widgets/controls",
      "model_module_version": "1.5.0",
      "model_name": "LinkModel",
      "state": {
       "source": [
        "IPY_MODEL_d098672c4aa94b8fbd698744707806c6",
        "value"
       ],
       "target": [
        "IPY_MODEL_1ee358c0d9704d1cb7e1fb67b93d75e1",
        "frame"
       ]
      }
     },
     "300713078c3e40e290b6d054225fac2e": {
      "model_module": "@jupyter-widgets/output",
      "model_module_version": "1.0.0",
      "model_name": "OutputModel",
      "state": {
       "layout": "IPY_MODEL_ec2a1f92328d454797fe0303105b1da7"
      }
     },
     "3019924288eb4b41b06e350abc1c50f8": {
      "model_module": "@jupyter-widgets/base",
      "model_module_version": "1.2.0",
      "model_name": "LayoutModel",
      "state": {}
     },
     "3059f74fba484e1dae2b80e6bd1956f8": {
      "model_module": "@jupyter-widgets/controls",
      "model_module_version": "1.5.0",
      "model_name": "DropdownModel",
      "state": {
       "_options_labels": [
        "All",
        "Fe"
       ],
       "description": "Show",
       "index": 0,
       "layout": "IPY_MODEL_c795366e3785420e82bad6196042d00d",
       "style": "IPY_MODEL_6fdead03e7274e3a88457f60c71ab58a"
      }
     },
     "30f35af8c68f49b09f118d8f5e1bb46f": {
      "model_module": "@jupyter-widgets/controls",
      "model_module_version": "1.5.0",
      "model_name": "IntSliderModel",
      "state": {
       "layout": "IPY_MODEL_0dd561a49a364e61832417431aed63c8",
       "max": 0,
       "style": "IPY_MODEL_5f076c60a22e4586a1162bfa24f812f7"
      }
     },
     "312d22a64647409096dec68eebb7dd27": {
      "model_module": "@jupyter-widgets/base",
      "model_module_version": "1.2.0",
      "model_name": "LayoutModel",
      "state": {
       "border": "0px solid black"
      }
     },
     "3144e2691b544075a1da7d8c8efb966e": {
      "model_module": "@jupyter-widgets/output",
      "model_module_version": "1.0.0",
      "model_name": "OutputModel",
      "state": {
       "layout": "IPY_MODEL_f036924fcfa44c2da8574761ce59cb54"
      }
     },
     "317e53327b624d42ad896c51f47fcec3": {
      "model_module": "@jupyter-widgets/controls",
      "model_module_version": "1.5.0",
      "model_name": "LinkModel",
      "state": {
       "source": [
        "IPY_MODEL_83a091df93d145d9a76776de59dbd983",
        "value"
       ],
       "target": [
        "IPY_MODEL_6d3961f164094e83912559ed11931a27",
        "value"
       ]
      }
     },
     "318eb2cb443840e4a84cd32fec2789a3": {
      "model_module": "@jupyter-widgets/controls",
      "model_module_version": "1.5.0",
      "model_name": "DropdownModel",
      "state": {
       "_options_labels": [
        "All",
        "Fe"
       ],
       "description": "Show",
       "index": 0,
       "layout": "IPY_MODEL_9ab7d715cccb4f64a0ccb086c60852fa",
       "style": "IPY_MODEL_6e4ebe423c8f4be59d984642c70f816f"
      }
     },
     "3231dd17afa140daa0feb15c6c08e6f9": {
      "model_module": "@jupyter-widgets/base",
      "model_module_version": "1.2.0",
      "model_name": "LayoutModel",
      "state": {
       "width": "34px"
      }
     },
     "324956fd62294ed19ee4104f4efa958b": {
      "model_module": "@jupyter-widgets/controls",
      "model_module_version": "1.5.0",
      "model_name": "DescriptionStyleModel",
      "state": {
       "description_width": ""
      }
     },
     "331015afe4e9457d831d8c0c58aeff46": {
      "model_module": "@jupyter-widgets/controls",
      "model_module_version": "1.5.0",
      "model_name": "HBoxModel",
      "state": {
       "children": [
        "IPY_MODEL_3f226ebce46c4650a51fb2176ad06123",
        "IPY_MODEL_cd93791847c049b1b6f31d442c2f89f4"
       ],
       "layout": "IPY_MODEL_1b96b4027e6a4b09b391a042d4cbc41f"
      }
     },
     "331c18857b2a41a5996c93f4a6fe9c24": {
      "model_module": "@jupyter-widgets/base",
      "model_module_version": "1.2.0",
      "model_name": "LayoutModel",
      "state": {}
     },
     "3361c7e1fcaa486e84bf4f9d6fafe44a": {
      "model_module": "@jupyter-widgets/base",
      "model_module_version": "1.2.0",
      "model_name": "LayoutModel",
      "state": {}
     },
     "3375ba437a4148fb86c930fef61a6dfe": {
      "model_module": "@jupyter-widgets/base",
      "model_module_version": "1.2.0",
      "model_name": "LayoutModel",
      "state": {}
     },
     "3443a36d68444e9c826678ced2e1437a": {
      "model_module": "@jupyter-widgets/controls",
      "model_module_version": "1.5.0",
      "model_name": "IntSliderModel",
      "state": {
       "layout": "IPY_MODEL_44a97ef818db4231a0ab02457dad2ffc",
       "max": 0,
       "style": "IPY_MODEL_a0f33b634bc74577aa8f65267d40893c"
      }
     },
     "34792eafb20f47c1b5473a317f84dac7": {
      "model_module": "@jupyter-widgets/controls",
      "model_module_version": "1.5.0",
      "model_name": "LinkModel",
      "state": {
       "source": [
        "IPY_MODEL_24fba49bf8db43e1bda099638ebf8bdb",
        "value"
       ],
       "target": [
        "IPY_MODEL_91fdf504462d47c1bc3208092d42444a",
        "frame"
       ]
      }
     },
     "347c8403773e4f3892e79b02fdfe7497": {
      "model_module": "@jupyter-widgets/base",
      "model_module_version": "1.2.0",
      "model_name": "LayoutModel",
      "state": {}
     },
     "34ad7000fd3a49c7b04aae6e3e19dfc3": {
      "model_module": "@jupyter-widgets/controls",
      "model_module_version": "1.5.0",
      "model_name": "LinkModel",
      "state": {
       "source": [
        "IPY_MODEL_dd14e0c54e43411cacc3e6c1fb5f3e35",
        "max"
       ],
       "target": [
        "IPY_MODEL_4604ff8bb2114e17be4dbfe30e293857",
        "max_frame"
       ]
      }
     },
     "34b387a53de34cf88adabcd4b9d7d70d": {
      "model_module": "@jupyter-widgets/base",
      "model_module_version": "1.2.0",
      "model_name": "LayoutModel",
      "state": {}
     },
     "354b28dae5774bda9a3947ebd33d5ce5": {
      "model_module": "@jupyter-widgets/output",
      "model_module_version": "1.0.0",
      "model_name": "OutputModel",
      "state": {
       "layout": "IPY_MODEL_094c8247b5084494880cc92fd4115a8e"
      }
     },
     "354f116f482347f782d06cea68c6bc74": {
      "model_module": "@jupyter-widgets/controls",
      "model_module_version": "1.5.0",
      "model_name": "LinkModel",
      "state": {
       "source": [
        "IPY_MODEL_4043796bf1d74e4582082995b8149a61",
        "max"
       ],
       "target": [
        "IPY_MODEL_da8cb07482cf4f95a36d59de22cf7e29",
        "max_frame"
       ]
      }
     },
     "3562c51f1aa146c5a0703c1bee935491": {
      "model_module": "@jupyter-widgets/controls",
      "model_module_version": "1.5.0",
      "model_name": "DescriptionStyleModel",
      "state": {
       "description_width": ""
      }
     },
     "35757752f15a400c8961ac4ed387dcac": {
      "model_module": "@jupyter-widgets/controls",
      "model_module_version": "1.5.0",
      "model_name": "DescriptionStyleModel",
      "state": {
       "description_width": ""
      }
     },
     "3592c28fe9a0406a8427598d51ad909e": {
      "model_module": "@jupyter-widgets/controls",
      "model_module_version": "1.5.0",
      "model_name": "CheckboxModel",
      "state": {
       "description": "Show charge",
       "disabled": false,
       "layout": "IPY_MODEL_347c8403773e4f3892e79b02fdfe7497",
       "style": "IPY_MODEL_3720489d6b1641c9a53305b3524f664d",
       "value": false
      }
     },
     "35b417f09f064c68ac8450d415119ced": {
      "model_module": "@jupyter-widgets/controls",
      "model_module_version": "1.5.0",
      "model_name": "DescriptionStyleModel",
      "state": {
       "description_width": ""
      }
     },
     "35d06ea3859d4e82b5756cbd4c35a992": {
      "model_module": "@jupyter-widgets/base",
      "model_module_version": "1.2.0",
      "model_name": "LayoutModel",
      "state": {}
     },
     "35d4598f36404d8c95a551e20f0081ec": {
      "model_module": "@jupyter-widgets/controls",
      "model_module_version": "1.5.0",
      "model_name": "ButtonModel",
      "state": {
       "icon": "compress",
       "layout": "IPY_MODEL_52fb9a9976ff47bea7f2d83225b68c06",
       "style": "IPY_MODEL_feb0495cad134677befa6ca2967ab7c6"
      }
     },
     "3714f298bd3c4d459ac82e258887affd": {
      "model_module": "@jupyter-widgets/controls",
      "model_module_version": "1.5.0",
      "model_name": "ButtonModel",
      "state": {
       "icon": "compress",
       "layout": "IPY_MODEL_6ffb30781a90480295b4a12b3bb95673",
       "style": "IPY_MODEL_900754fb75b4436c89404ac093fb9d18"
      }
     },
     "3720489d6b1641c9a53305b3524f664d": {
      "model_module": "@jupyter-widgets/controls",
      "model_module_version": "1.5.0",
      "model_name": "DescriptionStyleModel",
      "state": {
       "description_width": ""
      }
     },
     "378eaf358b5d4325886863b17def48a1": {
      "model_module": "@jupyter-widgets/base",
      "model_module_version": "1.2.0",
      "model_name": "LayoutModel",
      "state": {}
     },
     "37bb21f388434572847f964d3f414dba": {
      "model_module": "@jupyter-widgets/base",
      "model_module_version": "1.2.0",
      "model_name": "LayoutModel",
      "state": {}
     },
     "385d151b994341e9a90d57205bdbb536": {
      "model_module": "@jupyter-widgets/base",
      "model_module_version": "1.2.0",
      "model_name": "LayoutModel",
      "state": {}
     },
     "3a7722f7c32f4878a74d01019ab35289": {
      "model_module": "@jupyter-widgets/controls",
      "model_module_version": "1.5.0",
      "model_name": "LinkModel",
      "state": {
       "source": [
        "IPY_MODEL_acda21fa699641c89ec3bcded266527d",
        "value"
       ],
       "target": [
        "IPY_MODEL_25a9a103e6464bed88c378e54a513c20",
        "frame"
       ]
      }
     },
     "3ab4ff56e3c24253b1820b891324dc6d": {
      "model_module": "@jupyter-widgets/controls",
      "model_module_version": "1.5.0",
      "model_name": "FloatSliderModel",
      "state": {
       "description": "Charge scale",
       "layout": "IPY_MODEL_3d403c5270024157a018f9bbcb3535b2",
       "step": 0.1,
       "style": "IPY_MODEL_592d6da17fd74df58b98704142f34c26",
       "value": 1
      }
     },
     "3b07c79650f146dab59d457f342ffa37": {
      "model_module": "@jupyter-widgets/controls",
      "model_module_version": "1.5.0",
      "model_name": "CheckboxModel",
      "state": {
       "description": "Show force",
       "disabled": false,
       "layout": "IPY_MODEL_503ad09bc97c447e8412dcb1d13f94a1",
       "style": "IPY_MODEL_5d43143f179f45a59abfd373b7429ee2",
       "value": false
      }
     },
     "3c0f208452ac47b8bf35a4bfc5900e09": {
      "model_module": "@jupyter-widgets/controls",
      "model_module_version": "1.5.0",
      "model_name": "ButtonModel",
      "state": {
       "description": "Download image",
       "layout": "IPY_MODEL_9704cfa8a154440d8c11514c17046d4c",
       "style": "IPY_MODEL_4bdacd5c5f8b476794dbf3cd03cffa6a",
       "tooltip": "Download current frame to your local PC"
      }
     },
     "3c1b41184768434d945529c04db85412": {
      "model_module": "@jupyter-widgets/controls",
      "model_module_version": "1.5.0",
      "model_name": "SliderStyleModel",
      "state": {
       "description_width": ""
      }
     },
     "3d403c5270024157a018f9bbcb3535b2": {
      "model_module": "@jupyter-widgets/base",
      "model_module_version": "1.2.0",
      "model_name": "LayoutModel",
      "state": {}
     },
     "3d42d4a330b4429aa51cbc88ee4b5fb5": {
      "model_module": "@jupyter-widgets/base",
      "model_module_version": "1.2.0",
      "model_name": "LayoutModel",
      "state": {}
     },
     "3db320d0087f4e8e9f117f5cdc1a778b": {
      "model_module": "@jupyter-widgets/base",
      "model_module_version": "1.2.0",
      "model_name": "LayoutModel",
      "state": {}
     },
     "3dc65706b229439984f3c07ad0b6063a": {
      "model_module": "@jupyter-widgets/controls",
      "model_module_version": "1.5.0",
      "model_name": "DropdownModel",
      "state": {
       "_options_labels": [
        " ",
        "picking",
        "random",
        "uniform",
        "atomindex",
        "residueindex",
        "chainindex",
        "modelindex",
        "sstruc",
        "element",
        "resname",
        "bfactor",
        "hydrophobicity",
        "value",
        "volume",
        "occupancy"
       ],
       "description": "Color scheme",
       "index": 9,
       "layout": "IPY_MODEL_0c8e1b651d204222a6611405d6de25d0",
       "style": "IPY_MODEL_7af91af2107046c4bf9ef3abdef67173"
      }
     },
     "3ddd864f2fca42f8a0093051caf0ea50": {
      "model_module": "@jupyter-widgets/controls",
      "model_module_version": "1.5.0",
      "model_name": "DescriptionStyleModel",
      "state": {
       "description_width": ""
      }
     },
     "3e0bab7c87454c7598289bb49aeeb15e": {
      "model_module": "@jupyter-widgets/base",
      "model_module_version": "1.2.0",
      "model_name": "LayoutModel",
      "state": {}
     },
     "3e10370c6ae24e6bbc00b5ceaf1ea944": {
      "model_module": "@jupyter-widgets/controls",
      "model_module_version": "1.5.0",
      "model_name": "ButtonModel",
      "state": {
       "description": "Save image",
       "layout": "IPY_MODEL_e2e5f3784fe341e196a9c0946cc61b69",
       "style": "IPY_MODEL_6df259bfd0de450ca0fb9756043d52b6",
       "tooltip": "Save current frame to file.\nCurrently .png and .html are supported.\nIt takes a bit time, please be patient."
      }
     },
     "3f226ebce46c4650a51fb2176ad06123": {
      "model_module": "@jupyter-widgets/controls",
      "model_module_version": "1.5.0",
      "model_name": "ButtonModel",
      "state": {
       "description": "Download image",
       "layout": "IPY_MODEL_9ed7b83603cb402694f15db40604a8e1",
       "style": "IPY_MODEL_483ba492ee4c4ffe836a8836637ebc84",
       "tooltip": "Download current frame to your local PC"
      }
     },
     "3f25c23e95cf4f91bf0fad352910e889": {
      "model_module": "@jupyter-widgets/controls",
      "model_module_version": "1.5.0",
      "model_name": "DescriptionStyleModel",
      "state": {
       "description_width": ""
      }
     },
     "3f2fade4cd0646c7ae8ae28826c98672": {
      "model_module": "@jupyter-widgets/controls",
      "model_module_version": "1.5.0",
      "model_name": "SliderStyleModel",
      "state": {
       "description_width": ""
      }
     },
     "3fc36159a20e48d4a1be66f72c2e2c04": {
      "model_module": "@jupyter-widgets/base",
      "model_module_version": "1.2.0",
      "model_name": "LayoutModel",
      "state": {}
     },
     "3fe1fe5f276746a2a89255b4105abfff": {
      "model_module": "@jupyter-widgets/base",
      "model_module_version": "1.2.0",
      "model_name": "LayoutModel",
      "state": {}
     },
     "4018965000334ed885cbd62f43e2a011": {
      "model_module": "@jupyter-widgets/controls",
      "model_module_version": "1.5.0",
      "model_name": "LinkModel",
      "state": {
       "source": [
        "IPY_MODEL_24fba49bf8db43e1bda099638ebf8bdb",
        "max"
       ],
       "target": [
        "IPY_MODEL_91fdf504462d47c1bc3208092d42444a",
        "max_frame"
       ]
      }
     },
     "4043796bf1d74e4582082995b8149a61": {
      "model_module": "@jupyter-widgets/controls",
      "model_module_version": "1.5.0",
      "model_name": "IntSliderModel",
      "state": {
       "layout": "IPY_MODEL_542a1809ffbe46b69ed17ef9c0449148",
       "max": 0,
       "style": "IPY_MODEL_9269ca26930e433bbf4499952a779a9d"
      }
     },
     "415a902f449a48f680664ee59ba2cdd9": {
      "model_module": "@jupyter-widgets/controls",
      "model_module_version": "1.5.0",
      "model_name": "HBoxModel",
      "state": {
       "children": [
        "IPY_MODEL_e8e42cdaaab34d2a8f2ea89bff603830",
        "IPY_MODEL_4617e99a40a54eddb6cafc38c16e11da"
       ],
       "layout": "IPY_MODEL_f7e5e4de3a7f4bdc9fd9d9d31b8703d5"
      }
     },
     "417bb702b1474b489a887ec3c674a903": {
      "model_module": "@jupyter-widgets/controls",
      "model_module_version": "1.5.0",
      "model_name": "DropdownModel",
      "state": {
       "_options_labels": [
        "All",
        "O",
        "C",
        "H"
       ],
       "description": "Show",
       "index": 0,
       "layout": "IPY_MODEL_edb6a04e31c64668b5bc7280d91055d0",
       "style": "IPY_MODEL_87eec054ccd54fc1a617d8d1875beb7f"
      }
     },
     "41bfb357ec2b4936b1007a8ac53c113f": {
      "model_module": "@jupyter-widgets/base",
      "model_module_version": "1.2.0",
      "model_name": "LayoutModel",
      "state": {}
     },
     "41d51b67650c4022a3ab075c93691b3b": {
      "model_module": "@jupyter-widgets/base",
      "model_module_version": "1.2.0",
      "model_name": "LayoutModel",
      "state": {}
     },
     "425484b391674b6e9f800d0cc06d244a": {
      "model_module": "@jupyter-widgets/base",
      "model_module_version": "1.2.0",
      "model_name": "LayoutModel",
      "state": {}
     },
     "425a302e5ba740168efc8291cac7ebd3": {
      "model_module": "@jupyter-widgets/base",
      "model_module_version": "1.2.0",
      "model_name": "LayoutModel",
      "state": {}
     },
     "44100d87432d41b8b3465f4957f5bf0e": {
      "model_module": "@jupyter-widgets/base",
      "model_module_version": "1.2.0",
      "model_name": "LayoutModel",
      "state": {}
     },
     "44a97ef818db4231a0ab02457dad2ffc": {
      "model_module": "@jupyter-widgets/base",
      "model_module_version": "1.2.0",
      "model_name": "LayoutModel",
      "state": {}
     },
     "44dbe1e09ccb42cba19bc373ccebaf76": {
      "model_module": "@jupyter-widgets/controls",
      "model_module_version": "1.5.0",
      "model_name": "VBoxModel",
      "state": {
       "children": [
        "IPY_MODEL_0658581344da4c97af45326300d7937d",
        "IPY_MODEL_8661c70550e5456fafaa78df6696dc0f",
        "IPY_MODEL_c0d8c1511bfb4734bc41144b1ecd9211",
        "IPY_MODEL_08c394855b52402db5ec0bd84b430a17",
        "IPY_MODEL_bffc9ba28813414d85e522af9c24d4d2",
        "IPY_MODEL_5a410279f8d846b69a7b4da7348de407",
        "IPY_MODEL_54834d847893492fb864fae77a417baa",
        "IPY_MODEL_966400c9b95e49f580958699ffad4660",
        "IPY_MODEL_9d2305d6632049aabb1f4ffe3db2c382",
        "IPY_MODEL_b7705c53fe924563a70aa96a1bbc6209"
       ],
       "layout": "IPY_MODEL_6a168334e9d54fe9913ebacc2f52dc90"
      }
     },
     "4604ff8bb2114e17be4dbfe30e293857": {
      "model_module": "nglview-js-widgets",
      "model_module_version": "3.0.1",
      "model_name": "NGLModel",
      "state": {
       "_camera_orientation": [
        15.600423047052786,
        0,
        0,
        0,
        0,
        15.600423047052786,
        0,
        0,
        0,
        0,
        15.600423047052786,
        0,
        0.8285001516342163,
        -0.5859998464584351,
        -3.0439999103546143,
        1
       ],
       "_camera_str": "orthographic",
       "_gui_theme": null,
       "_ibtn_fullscreen": "IPY_MODEL_35d4598f36404d8c95a551e20f0081ec",
       "_igui": null,
       "_iplayer": "IPY_MODEL_568ff9228afd4e57b75325d2e02aa9ed",
       "_ngl_color_dict": {},
       "_ngl_coordinate_resource": {},
       "_ngl_full_stage_parameters": {
        "ambientColor": 14540253,
        "ambientIntensity": 0.2,
        "backgroundColor": "white",
        "cameraEyeSep": 0.3,
        "cameraFov": 40,
        "cameraType": "orthographic",
        "clipDist": 0,
        "clipFar": 100,
        "clipNear": 0,
        "fogFar": 100,
        "fogNear": 50,
        "hoverTimeout": 0,
        "impostor": true,
        "lightColor": 14540253,
        "lightIntensity": 1,
        "mousePreset": "default",
        "panSpeed": 1,
        "quality": "medium",
        "rotateSpeed": 2,
        "sampleLevel": 0,
        "tooltip": true,
        "workerDefault": true,
        "zoomSpeed": 1.2
       },
       "_ngl_msg_archive": [
        {
         "args": [
          {
           "binary": false,
           "data": "CRYST1    4.971    7.456    9.942 109.47 109.47 109.47 P 1\nMODEL     1\nATOM      1   Fe MOL     1       0.000   0.000   0.000  1.00  0.00          FE  \nATOM      2   Fe MOL     1      -0.828  -1.172   2.029  1.00  0.00          FE  \nATOM      3   Fe MOL     1      -1.657  -2.343   4.059  1.00  0.00          FE  \nATOM      4   Fe MOL     1      -2.485  -3.515   6.088  1.00  0.00          FE  \nATOM      5   Fe MOL     1      -0.828   2.343   0.000  1.00  0.00          FE  \nATOM      6   Fe MOL     1      -1.657   1.172   2.029  1.00  0.00          FE  \nATOM      7   Fe MOL     1      -2.485   0.000   4.059  1.00  0.00          FE  \nATOM      8   Fe MOL     1      -3.314  -1.172   6.088  1.00  0.00          FE  \nATOM      9   Fe MOL     1      -1.657   4.687   0.000  1.00  0.00          FE  \nATOM     10   Fe MOL     1      -2.485   3.515   2.029  1.00  0.00          FE  \nATOM     11   Fe MOL     1      -3.314   2.343   4.059  1.00  0.00          FE  \nATOM     12   Fe MOL     1      -4.142   1.172   6.088  1.00  0.00          FE  \nATOM     13   Fe MOL     1       2.485   0.000  -0.000  1.00  0.00          FE  \nATOM     14   Fe MOL     1       1.657  -1.172   2.029  1.00  0.00          FE  \nATOM     15   Fe MOL     1       0.828  -2.343   4.059  1.00  0.00          FE  \nATOM     16   Fe MOL     1       0.000  -3.515   6.088  1.00  0.00          FE  \nATOM     17   Fe MOL     1       1.657   2.343   0.000  1.00  0.00          FE  \nATOM     18   Fe MOL     1       0.828   1.172   2.029  1.00  0.00          FE  \nATOM     19   Fe MOL     1       0.000   0.000   4.059  1.00  0.00          FE  \nATOM     20   Fe MOL     1      -0.828  -1.172   6.088  1.00  0.00          FE  \nATOM     21   Fe MOL     1       0.828   4.687   0.000  1.00  0.00          FE  \nATOM     22   Fe MOL     1       0.000   3.515   2.029  1.00  0.00          FE  \nATOM     23   Fe MOL     1      -0.828   2.343   4.059  1.00  0.00          FE  \nATOM     24   Fe MOL     1      -1.657   1.172   6.088  1.00  0.00          FE  \nENDMDL\n",
           "type": "blob"
          }
         ],
         "kwargs": {
          "defaultRepresentation": false,
          "ext": "pdb"
         },
         "methodName": "loadFile",
         "reconstruc_color_scheme": false,
         "target": "Stage",
         "type": "call_method"
        },
        {
         "args": [
          "400px",
          "300px"
         ],
         "kwargs": {},
         "methodName": "setSize",
         "reconstruc_color_scheme": false,
         "target": "Widget",
         "type": "call_method"
        },
        {
         "args": [
          "unitcell"
         ],
         "component_index": 0,
         "kwargs": {
          "sele": "all"
         },
         "methodName": "addRepresentation",
         "reconstruc_color_scheme": false,
         "target": "compList",
         "type": "call_method"
        },
        {
         "args": [
          "spacefill"
         ],
         "component_index": 0,
         "kwargs": {
          "sele": "all"
         },
         "methodName": "addRepresentation",
         "reconstruc_color_scheme": false,
         "target": "compList",
         "type": "call_method"
        },
        {
         "args": [],
         "kwargs": {
          "cameraType": "orthographic"
         },
         "methodName": "setParameters",
         "reconstruc_color_scheme": false,
         "target": "Stage",
         "type": "call_method"
        },
        {
         "args": [
          {
           "clipDist": 0
          }
         ],
         "kwargs": {},
         "methodName": "setParameters",
         "reconstruc_color_scheme": false,
         "target": "Widget",
         "type": "call_method"
        },
        {
         "args": [
          "spacefill",
          0
         ],
         "kwargs": {
          "colorScale": "rainbow",
          "colorScheme": "element",
          "radiusScale": 0.5,
          "radiusType": "covalent"
         },
         "methodName": "updateRepresentationsByName",
         "reconstruc_color_scheme": false,
         "target": "Widget",
         "type": "call_method"
        },
        {
         "args": [
          "this._Q = [[-0.5773502691896257, 0.5773502691896257, 0.5773502691896257], [0.40824829046386313, -0.408248290463863, 0.8164965809277261], [0.7071067811865476, 0.7071067811865477, -2.6638240557478837e-16]]\n    var tooltip = document.createElement('div')\n    Object.assign(tooltip.style, {\n      display: 'none',\n      position: 'fixed',\n      zIndex: 10,\n      pointerEvents: 'none',\n      backgroundColor: 'rgba( 0, 0, 0, 0.6 )',\n      color: 'lightgrey',\n      padding: '8px',\n      fontFamily: 'sans-serif'\n    })\n    document.body.appendChild(tooltip)\n\n    var that = this\n    this.stage.mouseControls.remove('hoverPick')\n    this.stage.signals.hovered.add(function (pickingProxy) {\n      if (pickingProxy && (pickingProxy.atom || pickingProxy.bond)) {\n        var atom = pickingProxy.atom || pickingProxy.closestBondAtom\n        var mp = pickingProxy.mouse.position\n        //tooltip.innerText = atom.element + ' i=' + atom.index + ' (' + atom.x.toFixed(2) +  ', ' + atom.y.toFixed(2) +  ', ' + atom.z.toFixed(2) + ')'\n        //var pos = that._atoms_pos[atom.index]\n        var Q = that._Q\n        var pos_x = Q[0][0] * atom.x + Q[0][1] * atom.y + Q[0][2] * atom.z \n        var pos_y = Q[1][0] * atom.x + Q[1][1] * atom.y + Q[1][2] * atom.z\n        var pos_z = Q[2][0] * atom.x + Q[2][1] * atom.y + Q[2][2] * atom.z\n        tooltip.innerText = 'i=' + atom.index + ' ' + atom.element + ' (' + pos_x.toFixed(2) +  ', ' + pos_y.toFixed(2) +  ', ' + pos_z.toFixed(2) + ')'\n        tooltip.style.bottom = window.innerHeight - mp.y + 3 + 'px'\n        tooltip.style.left = mp.x + 3 + 'px'\n        tooltip.style.display = 'block'\n      } else {\n        tooltip.style.display = 'none'\n      }\n    })\n    "
         ],
         "kwargs": {},
         "methodName": "executeCode",
         "reconstruc_color_scheme": false,
         "target": "Widget",
         "type": "call_method"
        }
       ],
       "_ngl_original_stage_parameters": {
        "ambientColor": 14540253,
        "ambientIntensity": 0.2,
        "backgroundColor": "white",
        "cameraEyeSep": 0.3,
        "cameraFov": 40,
        "cameraType": "perspective",
        "clipDist": 10,
        "clipFar": 100,
        "clipNear": 0,
        "fogFar": 100,
        "fogNear": 50,
        "hoverTimeout": 0,
        "impostor": true,
        "lightColor": 14540253,
        "lightIntensity": 1,
        "mousePreset": "default",
        "panSpeed": 1,
        "quality": "medium",
        "rotateSpeed": 2,
        "sampleLevel": 0,
        "tooltip": true,
        "workerDefault": true,
        "zoomSpeed": 1.2
       },
       "_ngl_repr_dict": {
        "0": {
         "0": {
          "params": {
           "clipCenter": {
            "x": 0,
            "y": 0,
            "z": 0
           },
           "clipNear": 0,
           "clipRadius": 0,
           "colorMode": "hcl",
           "colorReverse": false,
           "colorScale": "",
           "colorScheme": "element",
           "colorValue": "orange",
           "defaultAssembly": "",
           "depthWrite": true,
           "diffuse": 16777215,
           "diffuseInterior": false,
           "disableImpostor": false,
           "disablePicking": false,
           "flatShaded": false,
           "interiorColor": 2236962,
           "interiorDarkening": 0,
           "lazy": false,
           "matrix": {
            "elements": [
             1,
             0,
             0,
             0,
             0,
             1,
             0,
             0,
             0,
             0,
             1,
             0,
             0,
             0,
             0,
             1
            ]
           },
           "metalness": 0,
           "opacity": 1,
           "quality": "medium",
           "radialSegments": 10,
           "radiusData": {},
           "radiusScale": 1,
           "radiusSize": 0.03286151464600358,
           "radiusType": "vdw",
           "roughness": 0.4,
           "sele": "all",
           "side": "double",
           "sphereDetail": 1,
           "useInteriorColor": true,
           "visible": true,
           "wireframe": false
          },
          "type": "unitcell"
         },
         "1": {
          "params": {
           "assembly": "default",
           "clipCenter": {
            "x": 0,
            "y": 0,
            "z": 0
           },
           "clipNear": 0,
           "clipRadius": 0,
           "colorMode": "hcl",
           "colorReverse": false,
           "colorScale": "rainbow",
           "colorScheme": "element",
           "colorValue": 9474192,
           "defaultAssembly": "",
           "depthWrite": true,
           "diffuse": 16777215,
           "diffuseInterior": false,
           "disableImpostor": false,
           "disablePicking": false,
           "flatShaded": false,
           "interiorColor": 2236962,
           "interiorDarkening": 0,
           "lazy": false,
           "matrix": {
            "elements": [
             1,
             0,
             0,
             0,
             0,
             1,
             0,
             0,
             0,
             0,
             1,
             0,
             0,
             0,
             0,
             1
            ]
           },
           "metalness": 0,
           "opacity": 1,
           "quality": "medium",
           "radiusData": {},
           "radiusScale": 0.5,
           "radiusSize": 1,
           "radiusType": "covalent",
           "roughness": 0.4,
           "sele": "all",
           "side": "double",
           "sphereDetail": 1,
           "useInteriorColor": true,
           "visible": true,
           "wireframe": false
          },
          "type": "spacefill"
         }
        }
       },
       "_ngl_serialize": false,
       "_ngl_version": "2.0.0-dev.36",
       "_ngl_view_id": [
        "ED8A0FAF-0863-4CE3-B0B2-1B2DE5F8E5E0"
       ],
       "_player_dict": {},
       "_scene_position": {},
       "_scene_rotation": {},
       "_synced_model_ids": [],
       "_synced_repr_model_ids": [],
       "_view_height": "",
       "_view_width": "",
       "background": "white",
       "frame": 0,
       "gui_style": null,
       "layout": "IPY_MODEL_aee8134624db4df3a3b7634d47123619",
       "max_frame": 0,
       "n_components": 1,
       "picked": {}
      }
     },
     "4617e99a40a54eddb6cafc38c16e11da": {
      "model_module": "@jupyter-widgets/controls",
      "model_module_version": "1.5.0",
      "model_name": "IntSliderModel",
      "state": {
       "layout": "IPY_MODEL_3fe1fe5f276746a2a89255b4105abfff",
       "max": 0,
       "style": "IPY_MODEL_2caec715aa3540139c61779608178f4d"
      }
     },
     "467adbbdab40432f889fb64953c9e0c6": {
      "model_module": "@jupyter-widgets/base",
      "model_module_version": "1.2.0",
      "model_name": "LayoutModel",
      "state": {
       "width": "34px"
      }
     },
     "46978820ac4b4575b99e781d1401ae55": {
      "model_module": "@jupyter-widgets/controls",
      "model_module_version": "1.5.0",
      "model_name": "CheckboxModel",
      "state": {
       "description": "Show charge",
       "disabled": false,
       "layout": "IPY_MODEL_76367571434047dd98af6240f79227e8",
       "style": "IPY_MODEL_993a0050e9264a49b0bc02baaed11bbe",
       "value": false
      }
     },
     "46d461c3487a4835b636219dc1b551e4": {
      "model_module": "@jupyter-widgets/base",
      "model_module_version": "1.2.0",
      "model_name": "LayoutModel",
      "state": {}
     },
     "47213bdac5ba4df6b02c08062e9759c4": {
      "model_module": "@jupyter-widgets/controls",
      "model_module_version": "1.5.0",
      "model_name": "DescriptionStyleModel",
      "state": {
       "description_width": ""
      }
     },
     "47bd7e73e40548aeac13a34480a87253": {
      "model_module": "@jupyter-widgets/base",
      "model_module_version": "1.2.0",
      "model_name": "LayoutModel",
      "state": {}
     },
     "483ba492ee4c4ffe836a8836637ebc84": {
      "model_module": "@jupyter-widgets/controls",
      "model_module_version": "1.5.0",
      "model_name": "ButtonStyleModel",
      "state": {}
     },
     "484557b2e8cb4857932d175fe37d6423": {
      "model_module": "@jupyter-widgets/base",
      "model_module_version": "1.2.0",
      "model_name": "LayoutModel",
      "state": {}
     },
     "4901cdc13b164235b49748240cf50beb": {
      "model_module": "@jupyter-widgets/controls",
      "model_module_version": "1.5.0",
      "model_name": "DescriptionStyleModel",
      "state": {
       "description_width": ""
      }
     },
     "4979c8d8f9d44f118a922b90a47ac1c7": {
      "model_module": "@jupyter-widgets/controls",
      "model_module_version": "1.5.0",
      "model_name": "HBoxModel",
      "state": {
       "children": [
        "IPY_MODEL_0066d8b6d7fc4e629f82ca8f3b372d71",
        "IPY_MODEL_f69684d0a6ae4d67944bf465f3a9a843"
       ],
       "layout": "IPY_MODEL_67e056abd4a94780bd16d39a00e55e0e"
      }
     },
     "49b20f3edf634532af8b9587a4e988a9": {
      "model_module": "@jupyter-widgets/controls",
      "model_module_version": "1.5.0",
      "model_name": "CheckboxModel",
      "state": {
       "description": "Show charge",
       "disabled": false,
       "layout": "IPY_MODEL_425a302e5ba740168efc8291cac7ebd3",
       "style": "IPY_MODEL_5e89a063fe434ed18efed64ee2a95c27",
       "value": false
      }
     },
     "49fde10c4b384345be97c526ec3384cd": {
      "model_module": "@jupyter-widgets/controls",
      "model_module_version": "1.5.0",
      "model_name": "LinkModel",
      "state": {
       "source": [
        "IPY_MODEL_e8e42cdaaab34d2a8f2ea89bff603830",
        "max"
       ],
       "target": [
        "IPY_MODEL_f1617f3f42ee44f4b31657068b5cba4d",
        "max_frame"
       ]
      }
     },
     "4aae4f2e05c14723a05346395003ad43": {
      "model_module": "@jupyter-widgets/controls",
      "model_module_version": "1.5.0",
      "model_name": "ButtonStyleModel",
      "state": {}
     },
     "4ad6c63305f6416a97e93d8f54708601": {
      "model_module": "@jupyter-widgets/base",
      "model_module_version": "1.2.0",
      "model_name": "LayoutModel",
      "state": {}
     },
     "4b5bc4e4a2a44981aca26b8308a691fc": {
      "model_module": "@jupyter-widgets/base",
      "model_module_version": "1.2.0",
      "model_name": "LayoutModel",
      "state": {}
     },
     "4b6737bf7e8e40648757e40e290c7fd9": {
      "model_module": "@jupyter-widgets/controls",
      "model_module_version": "1.5.0",
      "model_name": "LinkModel",
      "state": {
       "source": [
        "IPY_MODEL_cd4e3156e0a042849ba4d1ea08611882",
        "value"
       ],
       "target": [
        "IPY_MODEL_a1a87c16ea8e4810852d72da3a050dc8",
        "value"
       ]
      }
     },
     "4bdacd5c5f8b476794dbf3cd03cffa6a": {
      "model_module": "@jupyter-widgets/controls",
      "model_module_version": "1.5.0",
      "model_name": "ButtonStyleModel",
      "state": {}
     },
     "4c73c365d223443f8060405e5523695d": {
      "model_module": "@jupyter-widgets/controls",
      "model_module_version": "1.5.0",
      "model_name": "LinkModel",
      "state": {
       "source": [
        "IPY_MODEL_29fac8f0454e4d80abc3650c6e7084ef",
        "max"
       ],
       "target": [
        "IPY_MODEL_2d2bd9bf2fbe49f3ba9e2cf2913abebd",
        "max_frame"
       ]
      }
     },
     "4ca429602a50453ab92e5e131c022916": {
      "model_module": "@jupyter-widgets/controls",
      "model_module_version": "1.5.0",
      "model_name": "LinkModel",
      "state": {
       "source": [
        "IPY_MODEL_d098672c4aa94b8fbd698744707806c6",
        "value"
       ],
       "target": [
        "IPY_MODEL_30f35af8c68f49b09f118d8f5e1bb46f",
        "value"
       ]
      }
     },
     "4e8b48143696461591b039cb5963bb02": {
      "model_module": "@jupyter-widgets/controls",
      "model_module_version": "1.5.0",
      "model_name": "DescriptionStyleModel",
      "state": {
       "description_width": ""
      }
     },
     "4ed8f6bd48424df68811ac644bb5f4be": {
      "model_module": "@jupyter-widgets/controls",
      "model_module_version": "1.5.0",
      "model_name": "DropdownModel",
      "state": {
       "_options_labels": [
        " ",
        "picking",
        "random",
        "uniform",
        "atomindex",
        "residueindex",
        "chainindex",
        "modelindex",
        "sstruc",
        "element",
        "resname",
        "bfactor",
        "hydrophobicity",
        "value",
        "volume",
        "occupancy"
       ],
       "description": "Color scheme",
       "index": 9,
       "layout": "IPY_MODEL_51d147d1682548f59350c7ca462d0c28",
       "style": "IPY_MODEL_1d86aa03b80b4943b1b4aac4d6c3f80c"
      }
     },
     "4edcecfd79ae4f16890d7ebfcfee3abf": {
      "model_module": "@jupyter-widgets/controls",
      "model_module_version": "1.5.0",
      "model_name": "CheckboxModel",
      "state": {
       "description": "Show force",
       "disabled": false,
       "layout": "IPY_MODEL_232e8a131f3747bdaa6d83d0347d29d5",
       "style": "IPY_MODEL_d0d598f1b221478fa33fe944023f3bd3",
       "value": false
      }
     },
     "4f236b81315c4e939d0702fc48a015c4": {
      "model_module": "@jupyter-widgets/controls",
      "model_module_version": "1.5.0",
      "model_name": "ButtonStyleModel",
      "state": {}
     },
     "4f41605779b1458bbaed874bc7176a29": {
      "model_module": "@jupyter-widgets/controls",
      "model_module_version": "1.5.0",
      "model_name": "ButtonModel",
      "state": {
       "description": "Download image",
       "layout": "IPY_MODEL_af8bbfdf0cb44d67b3ae64f70a3ba088",
       "style": "IPY_MODEL_9e0d30e93bde4f2fada19a4173ffd086",
       "tooltip": "Download current frame to your local PC"
      }
     },
     "50234d4b79f441e4b1e17a7d509b16dc": {
      "model_module": "@jupyter-widgets/controls",
      "model_module_version": "1.5.0",
      "model_name": "ImageModel",
      "state": {
       "layout": "IPY_MODEL_46d461c3487a4835b636219dc1b551e4",
       "width": "900.0"
      }
     },
     "503ad09bc97c447e8412dcb1d13f94a1": {
      "model_module": "@jupyter-widgets/base",
      "model_module_version": "1.2.0",
      "model_name": "LayoutModel",
      "state": {}
     },
     "50ca17bb94564d57a7927238756c8cd7": {
      "model_module": "@jupyter-widgets/controls",
      "model_module_version": "1.5.0",
      "model_name": "LinkModel",
      "state": {
       "source": [
        "IPY_MODEL_acda21fa699641c89ec3bcded266527d",
        "max"
       ],
       "target": [
        "IPY_MODEL_25a9a103e6464bed88c378e54a513c20",
        "max_frame"
       ]
      }
     },
     "5115b5294e6e450c843fa3a289d36cfd": {
      "model_module": "@jupyter-widgets/controls",
      "model_module_version": "1.5.0",
      "model_name": "SliderStyleModel",
      "state": {
       "description_width": ""
      }
     },
     "5137cbab38e04d9a8ef48a208c310672": {
      "model_module": "@jupyter-widgets/controls",
      "model_module_version": "1.5.0",
      "model_name": "VBoxModel",
      "state": {
       "children": [
        "IPY_MODEL_85662e4c37494a3998f7fab93e6139ec",
        "IPY_MODEL_a97f859f4c93409da75141ac53b72699",
        "IPY_MODEL_17ce826df2cc4ca9baa1b03af78ea9b7",
        "IPY_MODEL_91a25ca01bf94a47af84a2c88837cc75",
        "IPY_MODEL_331015afe4e9457d831d8c0c58aeff46",
        "IPY_MODEL_a8bef84255db48c1abb0e3054565ae0f",
        "IPY_MODEL_51c258d842b845519adc5cfed3decd0b",
        "IPY_MODEL_49b20f3edf634532af8b9587a4e988a9",
        "IPY_MODEL_a515ea46f3da4cbabb8fda2a34124129",
        "IPY_MODEL_f9dfed197ab44cc09157863338aa576a"
       ],
       "layout": "IPY_MODEL_a11f57252193452693743315ea55f5c6"
      }
     },
     "5199213c9a89446ea00be64fa9664db1": {
      "model_module": "@jupyter-widgets/controls",
      "model_module_version": "1.5.0",
      "model_name": "ButtonModel",
      "state": {
       "description": "Download image",
       "layout": "IPY_MODEL_b37b23ebd9b74fe2970f52dd9789685a",
       "style": "IPY_MODEL_8f559f11b9f7407caaf66f0fdb9c994a",
       "tooltip": "Download current frame to your local PC"
      }
     },
     "51c258d842b845519adc5cfed3decd0b": {
      "model_module": "@jupyter-widgets/controls",
      "model_module_version": "1.5.0",
      "model_name": "FloatSliderModel",
      "state": {
       "description": "Force scale",
       "layout": "IPY_MODEL_84fb331e85d14f099f0fccbbb98ada7e",
       "step": 0.1,
       "style": "IPY_MODEL_3c1b41184768434d945529c04db85412",
       "value": 0.5
      }
     },
     "51d147d1682548f59350c7ca462d0c28": {
      "model_module": "@jupyter-widgets/base",
      "model_module_version": "1.2.0",
      "model_name": "LayoutModel",
      "state": {}
     },
     "51e453268b894654a123af9117421b18": {
      "model_module": "@jupyter-widgets/base",
      "model_module_version": "1.2.0",
      "model_name": "LayoutModel",
      "state": {}
     },
     "51e5f544e4b846b0a123a68772c9e5b2": {
      "model_module": "@jupyter-widgets/controls",
      "model_module_version": "1.5.0",
      "model_name": "DescriptionStyleModel",
      "state": {
       "description_width": ""
      }
     },
     "525b3edc2fc542eeb0a49a4b6913c27b": {
      "model_module": "@jupyter-widgets/controls",
      "model_module_version": "1.5.0",
      "model_name": "HBoxModel",
      "state": {
       "children": [
        "IPY_MODEL_25a9a103e6464bed88c378e54a513c20",
        "IPY_MODEL_ee8deb86a4f547499b081273e21dea36"
       ],
       "layout": "IPY_MODEL_385d151b994341e9a90d57205bdbb536"
      }
     },
     "52fb9a9976ff47bea7f2d83225b68c06": {
      "model_module": "@jupyter-widgets/base",
      "model_module_version": "1.2.0",
      "model_name": "LayoutModel",
      "state": {
       "width": "34px"
      }
     },
     "53a339bf774b42f0975474204b5aefba": {
      "model_module": "@jupyter-widgets/base",
      "model_module_version": "1.2.0",
      "model_name": "LayoutModel",
      "state": {
       "width": "34px"
      }
     },
     "53fae9ad163740008671bb56dae811ee": {
      "model_module": "@jupyter-widgets/base",
      "model_module_version": "1.2.0",
      "model_name": "LayoutModel",
      "state": {}
     },
     "54031939d1ca4a1f9a7db3a40d913a74": {
      "model_module": "@jupyter-widgets/controls",
      "model_module_version": "1.5.0",
      "model_name": "ImageModel",
      "state": {
       "layout": "IPY_MODEL_80c335b0bb7b44fcbcebd6ea97c11a46",
       "width": "900.0"
      }
     },
     "542a1809ffbe46b69ed17ef9c0449148": {
      "model_module": "@jupyter-widgets/base",
      "model_module_version": "1.2.0",
      "model_name": "LayoutModel",
      "state": {}
     },
     "543a712a30d34412ab5ed9f93256467e": {
      "model_module": "@jupyter-widgets/controls",
      "model_module_version": "1.5.0",
      "model_name": "ButtonStyleModel",
      "state": {}
     },
     "546f32338b8e4cbfad0a68499a0cdc40": {
      "model_module": "@jupyter-widgets/controls",
      "model_module_version": "1.5.0",
      "model_name": "DescriptionStyleModel",
      "state": {
       "description_width": ""
      }
     },
     "54834d847893492fb864fae77a417baa": {
      "model_module": "@jupyter-widgets/controls",
      "model_module_version": "1.5.0",
      "model_name": "FloatSliderModel",
      "state": {
       "description": "Force scale",
       "layout": "IPY_MODEL_47bd7e73e40548aeac13a34480a87253",
       "step": 0.1,
       "style": "IPY_MODEL_6170bcadf7dd455da1a2e12d7e33b2f5",
       "value": 0.5
      }
     },
     "54914349cb904429bcf7f194c26f4225": {
      "model_module": "@jupyter-widgets/controls",
      "model_module_version": "1.5.0",
      "model_name": "HBoxModel",
      "state": {
       "children": [
        "IPY_MODEL_da8cb07482cf4f95a36d59de22cf7e29",
        "IPY_MODEL_ee2f277b61fa41ee9228af373d7ca911"
       ],
       "layout": "IPY_MODEL_b2daf6a19f2e493f8eac2b4a3e98f744"
      }
     },
     "54c60022830547f0b359344b3d720e3e": {
      "model_module": "@jupyter-widgets/controls",
      "model_module_version": "1.5.0",
      "model_name": "ImageModel",
      "state": {
       "layout": "IPY_MODEL_1c0a9b0a526c498fa04484d3f8149427",
       "width": "900.0"
      }
     },
     "5549e6ddd3604f0eb4e5dec42c029a83": {
      "model_module": "@jupyter-widgets/base",
      "model_module_version": "1.2.0",
      "model_name": "LayoutModel",
      "state": {}
     },
     "55f0e7004c0d452893dbb13cfd6fb3c4": {
      "model_module": "@jupyter-widgets/controls",
      "model_module_version": "1.5.0",
      "model_name": "VBoxModel",
      "state": {
       "children": [
        "IPY_MODEL_3059f74fba484e1dae2b80e6bd1956f8",
        "IPY_MODEL_28dc3c8dba25467cbbbc5fa26f451de2",
        "IPY_MODEL_c57088418b5a4aa7822165bb4896a4d1",
        "IPY_MODEL_ef5eb8fe69154533a415105c28bda5b7",
        "IPY_MODEL_8900caadd96b4cd09f23864e8795aa15",
        "IPY_MODEL_f9b648d5880748a2b204c6329c5944a3",
        "IPY_MODEL_9a7826a7c3904fdaa2df5d66335f29d4",
        "IPY_MODEL_f0c3dc37336943aa9727a3fcad1fa7da",
        "IPY_MODEL_590da44581e04c1ebc4f3acba2451621",
        "IPY_MODEL_9e41f30b3f0e45c4bde71c8c4e209fb5"
       ],
       "layout": "IPY_MODEL_bb5cff4de4244c1eba4611c90fed4161"
      }
     },
     "55fc349bd1cf453faf79595d4b034c0e": {
      "model_module": "@jupyter-widgets/controls",
      "model_module_version": "1.5.0",
      "model_name": "SliderStyleModel",
      "state": {
       "description_width": ""
      }
     },
     "568ff9228afd4e57b75325d2e02aa9ed": {
      "model_module": "@jupyter-widgets/controls",
      "model_module_version": "1.5.0",
      "model_name": "HBoxModel",
      "state": {
       "children": [
        "IPY_MODEL_dd14e0c54e43411cacc3e6c1fb5f3e35",
        "IPY_MODEL_23261d3dc60345819ec92e324497780f"
       ],
       "layout": "IPY_MODEL_8a7fbcda84694c5db39cb4d86d96cef1"
      }
     },
     "56a397b150f049568d97ed65b604c15b": {
      "model_module": "@jupyter-widgets/base",
      "model_module_version": "1.2.0",
      "model_name": "LayoutModel",
      "state": {}
     },
     "57dbd4f1dc9e4b12933e978b1d67faf3": {
      "model_module": "@jupyter-widgets/controls",
      "model_module_version": "1.5.0",
      "model_name": "HBoxModel",
      "state": {
       "children": [
        "IPY_MODEL_274b8e00109d4e9c920d036524ec5dbc",
        "IPY_MODEL_3e10370c6ae24e6bbc00b5ceaf1ea944"
       ],
       "layout": "IPY_MODEL_53fae9ad163740008671bb56dae811ee"
      }
     },
     "58364443f6fe445a9b13e211ab65bc4b": {
      "model_module": "@jupyter-widgets/controls",
      "model_module_version": "1.5.0",
      "model_name": "LinkModel",
      "state": {
       "source": [
        "IPY_MODEL_30f35af8c68f49b09f118d8f5e1bb46f",
        "max"
       ],
       "target": [
        "IPY_MODEL_1ee358c0d9704d1cb7e1fb67b93d75e1",
        "max_frame"
       ]
      }
     },
     "58441b6a7d484eab9e67070832f0b566": {
      "model_module": "@jupyter-widgets/controls",
      "model_module_version": "1.5.0",
      "model_name": "SliderStyleModel",
      "state": {
       "description_width": ""
      }
     },
     "586922357c824a32a81741196c887970": {
      "model_module": "@jupyter-widgets/controls",
      "model_module_version": "1.5.0",
      "model_name": "SliderStyleModel",
      "state": {
       "description_width": ""
      }
     },
     "58ec4ac0154a407da2f5b9009fc72bec": {
      "model_module": "@jupyter-widgets/controls",
      "model_module_version": "1.5.0",
      "model_name": "DropdownModel",
      "state": {
       "_options_labels": [
        "All",
        "Cl",
        "Na"
       ],
       "description": "Show",
       "index": 0,
       "layout": "IPY_MODEL_ee13b6e344e24c5ab3918da399a0d86a",
       "style": "IPY_MODEL_7205954449a3477ab16b1b3a928aa790"
      }
     },
     "590da44581e04c1ebc4f3acba2451621": {
      "model_module": "@jupyter-widgets/controls",
      "model_module_version": "1.5.0",
      "model_name": "FloatSliderModel",
      "state": {
       "description": "Charge scale",
       "layout": "IPY_MODEL_b192e098b10d44d9ad4ac4e46c21c291",
       "step": 0.1,
       "style": "IPY_MODEL_3f2fade4cd0646c7ae8ae28826c98672",
       "value": 1
      }
     },
     "591b655ebd524daeb6acd20e263ff8f1": {
      "model_module": "@jupyter-widgets/controls",
      "model_module_version": "1.5.0",
      "model_name": "FloatSliderModel",
      "state": {
       "description": "Ball size",
       "layout": "IPY_MODEL_09a03ff94f9547f896b428a4a991cec7",
       "max": 1.5,
       "step": 0.01,
       "style": "IPY_MODEL_55fc349bd1cf453faf79595d4b034c0e",
       "value": 0.5
      }
     },
     "592d6da17fd74df58b98704142f34c26": {
      "model_module": "@jupyter-widgets/controls",
      "model_module_version": "1.5.0",
      "model_name": "SliderStyleModel",
      "state": {
       "description_width": ""
      }
     },
     "59898d5aef624c0994c498775a123f22": {
      "model_module": "nglview-js-widgets",
      "model_module_version": "3.0.1",
      "model_name": "NGLModel",
      "state": {
       "_camera_orientation": [
        1.46216674209046,
        0,
        0,
        0,
        0,
        1.46216674209046,
        0,
        0,
        0,
        0,
        1.46216674209046,
        0,
        -0.5,
        0,
        0,
        1
       ],
       "_camera_str": "orthographic",
       "_gui_theme": null,
       "_ibtn_fullscreen": "IPY_MODEL_c389cb6347884f5fb87283cc8fe538c5",
       "_igui": null,
       "_iplayer": "IPY_MODEL_b6b3486a361e4cc5b8b9faedb55338f3",
       "_ngl_color_dict": {},
       "_ngl_coordinate_resource": {},
       "_ngl_full_stage_parameters": {
        "ambientColor": 14540253,
        "ambientIntensity": 0.2,
        "backgroundColor": "white",
        "cameraEyeSep": 0.3,
        "cameraFov": 40,
        "cameraType": "orthographic",
        "clipDist": 0,
        "clipFar": 100,
        "clipNear": 0,
        "fogFar": 100,
        "fogNear": 50,
        "hoverTimeout": 0,
        "impostor": true,
        "lightColor": 14540253,
        "lightIntensity": 1,
        "mousePreset": "default",
        "panSpeed": 1,
        "quality": "medium",
        "rotateSpeed": 2,
        "sampleLevel": 0,
        "tooltip": true,
        "workerDefault": true,
        "zoomSpeed": 1.2
       },
       "_ngl_msg_archive": [
        {
         "args": [
          {
           "binary": false,
           "data": "MODEL     1\nATOM      1    H MOL     1       0.000   0.000   0.000  1.00  0.00           H  \nATOM      2    H MOL     1       1.000   0.000   0.000  1.00  0.00           H  \nENDMDL\n",
           "type": "blob"
          }
         ],
         "kwargs": {
          "defaultRepresentation": false,
          "ext": "pdb"
         },
         "methodName": "loadFile",
         "reconstruc_color_scheme": false,
         "target": "Stage",
         "type": "call_method"
        },
        {
         "args": [
          "400px",
          "300px"
         ],
         "kwargs": {},
         "methodName": "setSize",
         "reconstruc_color_scheme": false,
         "target": "Widget",
         "type": "call_method"
        },
        {
         "args": [
          "unitcell"
         ],
         "component_index": 0,
         "kwargs": {
          "sele": "all"
         },
         "methodName": "addRepresentation",
         "reconstruc_color_scheme": false,
         "target": "compList",
         "type": "call_method"
        },
        {
         "args": [
          "spacefill"
         ],
         "component_index": 0,
         "kwargs": {
          "sele": "all"
         },
         "methodName": "addRepresentation",
         "reconstruc_color_scheme": false,
         "target": "compList",
         "type": "call_method"
        },
        {
         "args": [],
         "kwargs": {
          "cameraType": "orthographic"
         },
         "methodName": "setParameters",
         "reconstruc_color_scheme": false,
         "target": "Stage",
         "type": "call_method"
        },
        {
         "args": [
          {
           "clipDist": 0
          }
         ],
         "kwargs": {},
         "methodName": "setParameters",
         "reconstruc_color_scheme": false,
         "target": "Widget",
         "type": "call_method"
        },
        {
         "args": [
          "spacefill",
          0
         ],
         "kwargs": {
          "colorScale": "rainbow",
          "colorScheme": "element",
          "radiusScale": 0.5,
          "radiusType": "covalent"
         },
         "methodName": "updateRepresentationsByName",
         "reconstruc_color_scheme": false,
         "target": "Widget",
         "type": "call_method"
        },
        {
         "args": [
          "this._Q = [[1.0, 0.0, 0.0], [0.0, 1.0, 0.0], [0.0, 0.0, 1.0]]\n    var tooltip = document.createElement('div')\n    Object.assign(tooltip.style, {\n      display: 'none',\n      position: 'fixed',\n      zIndex: 10,\n      pointerEvents: 'none',\n      backgroundColor: 'rgba( 0, 0, 0, 0.6 )',\n      color: 'lightgrey',\n      padding: '8px',\n      fontFamily: 'sans-serif'\n    })\n    document.body.appendChild(tooltip)\n\n    var that = this\n    this.stage.mouseControls.remove('hoverPick')\n    this.stage.signals.hovered.add(function (pickingProxy) {\n      if (pickingProxy && (pickingProxy.atom || pickingProxy.bond)) {\n        var atom = pickingProxy.atom || pickingProxy.closestBondAtom\n        var mp = pickingProxy.mouse.position\n        //tooltip.innerText = atom.element + ' i=' + atom.index + ' (' + atom.x.toFixed(2) +  ', ' + atom.y.toFixed(2) +  ', ' + atom.z.toFixed(2) + ')'\n        //var pos = that._atoms_pos[atom.index]\n        var Q = that._Q\n        var pos_x = Q[0][0] * atom.x + Q[0][1] * atom.y + Q[0][2] * atom.z \n        var pos_y = Q[1][0] * atom.x + Q[1][1] * atom.y + Q[1][2] * atom.z\n        var pos_z = Q[2][0] * atom.x + Q[2][1] * atom.y + Q[2][2] * atom.z\n        tooltip.innerText = 'i=' + atom.index + ' ' + atom.element + ' (' + pos_x.toFixed(2) +  ', ' + pos_y.toFixed(2) +  ', ' + pos_z.toFixed(2) + ')'\n        tooltip.style.bottom = window.innerHeight - mp.y + 3 + 'px'\n        tooltip.style.left = mp.x + 3 + 'px'\n        tooltip.style.display = 'block'\n      } else {\n        tooltip.style.display = 'none'\n      }\n    })\n    "
         ],
         "kwargs": {},
         "methodName": "executeCode",
         "reconstruc_color_scheme": false,
         "target": "Widget",
         "type": "call_method"
        },
        {
         "args": [
          "ball+stick"
         ],
         "component_index": 0,
         "kwargs": {
          "sele": "all"
         },
         "methodName": "addRepresentation",
         "reconstruc_color_scheme": false,
         "target": "compList",
         "type": "call_method"
        }
       ],
       "_ngl_original_stage_parameters": {
        "ambientColor": 14540253,
        "ambientIntensity": 0.2,
        "backgroundColor": "white",
        "cameraEyeSep": 0.3,
        "cameraFov": 40,
        "cameraType": "perspective",
        "clipDist": 10,
        "clipFar": 100,
        "clipNear": 0,
        "fogFar": 100,
        "fogNear": 50,
        "hoverTimeout": 0,
        "impostor": true,
        "lightColor": 14540253,
        "lightIntensity": 1,
        "mousePreset": "default",
        "panSpeed": 1,
        "quality": "medium",
        "rotateSpeed": 2,
        "sampleLevel": 0,
        "tooltip": true,
        "workerDefault": true,
        "zoomSpeed": 1.2
       },
       "_ngl_repr_dict": {
        "0": {
         "0": {
          "params": {
           "clipCenter": {
            "x": 0,
            "y": 0,
            "z": 0
           },
           "clipNear": 0,
           "clipRadius": 0,
           "colorMode": "hcl",
           "colorReverse": false,
           "colorScale": "",
           "colorScheme": "element",
           "colorValue": "orange",
           "defaultAssembly": "",
           "depthWrite": true,
           "diffuse": 16777215,
           "diffuseInterior": false,
           "disableImpostor": false,
           "disablePicking": false,
           "flatShaded": false,
           "interiorColor": 2236962,
           "interiorDarkening": 0,
           "lazy": false,
           "matrix": {
            "elements": [
             1,
             0,
             0,
             0,
             0,
             1,
             0,
             0,
             0,
             0,
             1,
             0,
             0,
             0,
             0,
             1
            ]
           },
           "metalness": 0,
           "opacity": 1,
           "quality": "medium",
           "radialSegments": 10,
           "radiusData": {},
           "radiusScale": 1,
           "radiusSize": 0.5,
           "radiusType": "vdw",
           "roughness": 0.4,
           "sele": "all",
           "side": "double",
           "sphereDetail": 1,
           "useInteriorColor": true,
           "visible": true,
           "wireframe": false
          },
          "type": "unitcell"
         },
         "1": {
          "params": {
           "assembly": "default",
           "clipCenter": {
            "x": 0,
            "y": 0,
            "z": 0
           },
           "clipNear": 0,
           "clipRadius": 0,
           "colorMode": "hcl",
           "colorReverse": false,
           "colorScale": "rainbow",
           "colorScheme": "element",
           "colorValue": 9474192,
           "defaultAssembly": "",
           "depthWrite": true,
           "diffuse": 16777215,
           "diffuseInterior": false,
           "disableImpostor": false,
           "disablePicking": false,
           "flatShaded": false,
           "interiorColor": 2236962,
           "interiorDarkening": 0,
           "lazy": false,
           "matrix": {
            "elements": [
             1,
             0,
             0,
             0,
             0,
             1,
             0,
             0,
             0,
             0,
             1,
             0,
             0,
             0,
             0,
             1
            ]
           },
           "metalness": 0,
           "opacity": 1,
           "quality": "medium",
           "radiusData": {},
           "radiusScale": 0.5,
           "radiusSize": 1,
           "radiusType": "covalent",
           "roughness": 0.4,
           "sele": "all",
           "side": "double",
           "sphereDetail": 1,
           "useInteriorColor": true,
           "visible": true,
           "wireframe": false
          },
          "type": "spacefill"
         },
         "2": {
          "params": {
           "aspectRatio": 2,
           "assembly": "default",
           "bondScale": 0.4,
           "bondSpacing": 1,
           "clipCenter": {
            "x": 0,
            "y": 0,
            "z": 0
           },
           "clipNear": 0,
           "clipRadius": 0,
           "colorMode": "hcl",
           "colorReverse": false,
           "colorScale": "",
           "colorScheme": "element",
           "colorValue": 9474192,
           "cylinderOnly": false,
           "defaultAssembly": "",
           "depthWrite": true,
           "diffuse": 16777215,
           "diffuseInterior": false,
           "disableImpostor": false,
           "disablePicking": false,
           "flatShaded": false,
           "interiorColor": 2236962,
           "interiorDarkening": 0,
           "lazy": false,
           "lineOnly": false,
           "linewidth": 2,
           "matrix": {
            "elements": [
             1,
             0,
             0,
             0,
             0,
             1,
             0,
             0,
             0,
             0,
             1,
             0,
             0,
             0,
             0,
             1
            ]
           },
           "metalness": 0,
           "multipleBond": "off",
           "opacity": 1,
           "openEnded": true,
           "quality": "medium",
           "radialSegments": 10,
           "radiusData": {},
           "radiusScale": 1,
           "radiusSize": 0.15,
           "radiusType": "size",
           "roughness": 0.4,
           "sele": "all",
           "side": "double",
           "sphereDetail": 1,
           "useInteriorColor": true,
           "visible": true,
           "wireframe": false
          },
          "type": "ball+stick"
         }
        }
       },
       "_ngl_serialize": false,
       "_ngl_version": "2.0.0-dev.36",
       "_ngl_view_id": [
        "E3DCC6FD-7FB8-4155-A344-2140DAFBB0F4"
       ],
       "_player_dict": {},
       "_scene_position": {},
       "_scene_rotation": {},
       "_synced_model_ids": [],
       "_synced_repr_model_ids": [],
       "_view_height": "",
       "_view_width": "",
       "background": "white",
       "frame": 0,
       "gui_style": null,
       "layout": "IPY_MODEL_1ef2bac269dd4d15b85288a37f58d6be",
       "max_frame": 0,
       "n_components": 1,
       "picked": {}
      }
     },
     "59a7ad3d8801484982abf6a03f20333c": {
      "model_module": "@jupyter-widgets/controls",
      "model_module_version": "1.5.0",
      "model_name": "FloatSliderModel",
      "state": {
       "description": "Ball size",
       "layout": "IPY_MODEL_66b92b5149454ab5a7ff8112e9958ca8",
       "max": 1.5,
       "step": 0.01,
       "style": "IPY_MODEL_2100de90a90a4547abb38d3f3dadba09",
       "value": 0.5
      }
     },
     "5a410279f8d846b69a7b4da7348de407": {
      "model_module": "@jupyter-widgets/controls",
      "model_module_version": "1.5.0",
      "model_name": "CheckboxModel",
      "state": {
       "description": "Show force",
       "disabled": false,
       "layout": "IPY_MODEL_9644358afc6545fa9df9f17ca3997cbd",
       "style": "IPY_MODEL_709132cff3894cf8a1872760cba3251b",
       "value": false
      }
     },
     "5c778f8b4ff040b78ac5834e8c473b69": {
      "model_module": "@jupyter-widgets/base",
      "model_module_version": "1.2.0",
      "model_name": "LayoutModel",
      "state": {}
     },
     "5c900b9fd1df4579979c97fa841f846e": {
      "model_module": "@jupyter-widgets/controls",
      "model_module_version": "1.5.0",
      "model_name": "ButtonModel",
      "state": {
       "icon": "compress",
       "layout": "IPY_MODEL_df58a259fe9b4ca689a6adc4dd39b915",
       "style": "IPY_MODEL_a4fd12b8ee73486d95b863403a1d32d9"
      }
     },
     "5cc92ae95fe24eac83e99e93547e0b6f": {
      "model_module": "@jupyter-widgets/controls",
      "model_module_version": "1.5.0",
      "model_name": "DescriptionStyleModel",
      "state": {
       "description_width": ""
      }
     },
     "5cdb97eede8649a8aed577d4059ac925": {
      "model_module": "@jupyter-widgets/base",
      "model_module_version": "1.2.0",
      "model_name": "LayoutModel",
      "state": {}
     },
     "5d43143f179f45a59abfd373b7429ee2": {
      "model_module": "@jupyter-widgets/controls",
      "model_module_version": "1.5.0",
      "model_name": "DescriptionStyleModel",
      "state": {
       "description_width": ""
      }
     },
     "5d9c26ec8b954e9485694edc3d8ed222": {
      "model_module": "@jupyter-widgets/base",
      "model_module_version": "1.2.0",
      "model_name": "LayoutModel",
      "state": {}
     },
     "5dfe1c36e9bd47cdb49a1a66dbb5d7a3": {
      "model_module": "@jupyter-widgets/controls",
      "model_module_version": "1.5.0",
      "model_name": "DescriptionStyleModel",
      "state": {
       "description_width": ""
      }
     },
     "5e6869dcdc26475cabc65f2fcbf3f3aa": {
      "model_module": "@jupyter-widgets/base",
      "model_module_version": "1.2.0",
      "model_name": "LayoutModel",
      "state": {}
     },
     "5e89a063fe434ed18efed64ee2a95c27": {
      "model_module": "@jupyter-widgets/controls",
      "model_module_version": "1.5.0",
      "model_name": "DescriptionStyleModel",
      "state": {
       "description_width": ""
      }
     },
     "5e9f3cd5aeed4a4bafa99cb6438194d8": {
      "model_module": "@jupyter-widgets/controls",
      "model_module_version": "1.5.0",
      "model_name": "CheckboxModel",
      "state": {
       "description": "Show charge",
       "disabled": false,
       "layout": "IPY_MODEL_37bb21f388434572847f964d3f414dba",
       "style": "IPY_MODEL_6f2844c1bd1f4be6b896f8e0ff9ec098",
       "value": false
      }
     },
     "5f076c60a22e4586a1162bfa24f812f7": {
      "model_module": "@jupyter-widgets/controls",
      "model_module_version": "1.5.0",
      "model_name": "SliderStyleModel",
      "state": {
       "description_width": ""
      }
     },
     "5f31eab140b5455ea78df33bb8ff255d": {
      "model_module": "@jupyter-widgets/base",
      "model_module_version": "1.2.0",
      "model_name": "LayoutModel",
      "state": {}
     },
     "60e75de1880944ffb478d74705d43dec": {
      "model_module": "@jupyter-widgets/base",
      "model_module_version": "1.2.0",
      "model_name": "LayoutModel",
      "state": {}
     },
     "60fc1888bfd041918ff267d488b3fdd4": {
      "model_module": "@jupyter-widgets/controls",
      "model_module_version": "1.5.0",
      "model_name": "DescriptionStyleModel",
      "state": {
       "description_width": ""
      }
     },
     "6170bcadf7dd455da1a2e12d7e33b2f5": {
      "model_module": "@jupyter-widgets/controls",
      "model_module_version": "1.5.0",
      "model_name": "SliderStyleModel",
      "state": {
       "description_width": ""
      }
     },
     "61dea0276c964c0aae96d9b9e6007a73": {
      "model_module": "@jupyter-widgets/controls",
      "model_module_version": "1.5.0",
      "model_name": "LinkModel",
      "state": {
       "source": [
        "IPY_MODEL_e56efb82c269407fb4007a103f126ba9",
        "value"
       ],
       "target": [
        "IPY_MODEL_da8cb07482cf4f95a36d59de22cf7e29",
        "frame"
       ]
      }
     },
     "61e50d4f688948de8d6f3e9072c94ef1": {
      "model_module": "@jupyter-widgets/base",
      "model_module_version": "1.2.0",
      "model_name": "LayoutModel",
      "state": {}
     },
     "628f0c2645dc4130901fea60e3227556": {
      "model_module": "@jupyter-widgets/controls",
      "model_module_version": "1.5.0",
      "model_name": "VBoxModel",
      "state": {
       "children": [
        "IPY_MODEL_318eb2cb443840e4a84cd32fec2789a3",
        "IPY_MODEL_b22bdb8e4a1f44edad55f9b6ec89b14c",
        "IPY_MODEL_bffe70b6151448acb5d22a95c28334ef",
        "IPY_MODEL_7e4511adba8c4813a837e263cdec049f",
        "IPY_MODEL_7d63c7000fa04b96bbef7ac14edd6730",
        "IPY_MODEL_f07d588f14be49fd967089adc4a00b63",
        "IPY_MODEL_a8f13918f1544f75b929231caa2deb23",
        "IPY_MODEL_46978820ac4b4575b99e781d1401ae55",
        "IPY_MODEL_ef86184fa14741778ee6ce296003fa9d",
        "IPY_MODEL_300713078c3e40e290b6d054225fac2e"
       ],
       "layout": "IPY_MODEL_a1f6209bc7214412b9d55aee09f3bfb7"
      }
     },
     "62bec2a5fbe140ffa46454cd17342261": {
      "model_module": "@jupyter-widgets/controls",
      "model_module_version": "1.5.0",
      "model_name": "ButtonModel",
      "state": {
       "description": "Save image",
       "layout": "IPY_MODEL_d84688badbce40fbbdbcee5a75d4ce06",
       "style": "IPY_MODEL_981647e7e8b5449f9616edf3e193ae30",
       "tooltip": "Save current frame to file.\nCurrently .png and .html are supported.\nIt takes a bit time, please be patient."
      }
     },
     "62e8a47be65844ed8a5738fd3432e3d0": {
      "model_module": "@jupyter-widgets/output",
      "model_module_version": "1.0.0",
      "model_name": "OutputModel",
      "state": {
       "layout": "IPY_MODEL_af80d34f607443e085f84d06c1f2ece8"
      }
     },
     "64c1b6ec39d947bc9c6313444b736779": {
      "model_module": "@jupyter-widgets/controls",
      "model_module_version": "1.5.0",
      "model_name": "SliderStyleModel",
      "state": {
       "description_width": ""
      }
     },
     "651e229d06474cb0a4a963eeb7e7a943": {
      "model_module": "@jupyter-widgets/controls",
      "model_module_version": "1.5.0",
      "model_name": "DescriptionStyleModel",
      "state": {
       "description_width": ""
      }
     },
     "6598b1f4e8c94b8ebf42dcc745370dfb": {
      "model_module": "@jupyter-widgets/controls",
      "model_module_version": "1.5.0",
      "model_name": "VBoxModel",
      "state": {
       "children": [
        "IPY_MODEL_dbb56590711541da93e520a32895b6e5",
        "IPY_MODEL_7152872da528449f85d1a8fa74c9e65a",
        "IPY_MODEL_be674da4b9f74c319bd18eaf04a31887",
        "IPY_MODEL_278aa20701314597b66208d61f2ae163",
        "IPY_MODEL_4979c8d8f9d44f118a922b90a47ac1c7",
        "IPY_MODEL_4edcecfd79ae4f16890d7ebfcfee3abf",
        "IPY_MODEL_ca7a76399cd54d139c90c276b2f68272",
        "IPY_MODEL_936e09049a244ef28bd5deaf8ee9f460",
        "IPY_MODEL_fd1b7263d6ba402fa1a3adea08d98932",
        "IPY_MODEL_285ab7b684d448448505ee7a452e78e5"
       ],
       "layout": "IPY_MODEL_9c711f3e3fb3427cb47962cbbae892b4"
      }
     },
     "659fd08b7c3e4f4988aa2cb51355538b": {
      "model_module": "@jupyter-widgets/controls",
      "model_module_version": "1.5.0",
      "model_name": "ButtonModel",
      "state": {
       "description": "Download image",
       "layout": "IPY_MODEL_1a7ed6dbfd9d49fa835d6e374ac65d6f",
       "style": "IPY_MODEL_ca265e3176dc4092af2179c765ce7854",
       "tooltip": "Download current frame to your local PC"
      }
     },
     "65b6aff21a0442a88bdacf16879d1bed": {
      "model_module": "@jupyter-widgets/controls",
      "model_module_version": "1.5.0",
      "model_name": "VBoxModel",
      "state": {
       "children": [
        "IPY_MODEL_d12446d758c3422db63dcd327ffb0203",
        "IPY_MODEL_ed8eff2c79dc4ae2a749d2b57fe0f72c",
        "IPY_MODEL_7e28a7786a9941cf85e2a8810faf8a24",
        "IPY_MODEL_09bd3846cd974570bab993b55343d924",
        "IPY_MODEL_c1641d176ae54624b3f78ebe8446676d",
        "IPY_MODEL_afec009c87434f65bcb908406e0eca80",
        "IPY_MODEL_c1a933dc405f47d4a24dca001ae45e8c",
        "IPY_MODEL_c24d3fc69f6744168450e4c21967d766",
        "IPY_MODEL_f6e58525774b4f8492a6e56b5311a2f0",
        "IPY_MODEL_62e8a47be65844ed8a5738fd3432e3d0"
       ],
       "layout": "IPY_MODEL_caa433b692304fdf938f6fb58ac2a93a"
      }
     },
     "665c3b95d5984f9a92f1e26f0fc0d71f": {
      "model_module": "@jupyter-widgets/base",
      "model_module_version": "1.2.0",
      "model_name": "LayoutModel",
      "state": {}
     },
     "66976d25a9b74aecaafb86c552fb3a32": {
      "model_module": "@jupyter-widgets/controls",
      "model_module_version": "1.5.0",
      "model_name": "HBoxModel",
      "state": {
       "children": [
        "IPY_MODEL_2d2bd9bf2fbe49f3ba9e2cf2913abebd",
        "IPY_MODEL_55f0e7004c0d452893dbb13cfd6fb3c4"
       ],
       "layout": "IPY_MODEL_b986e044f0d44a338c3862fdcd0cd210"
      }
     },
     "66b2835b273c4e2b85e05f672bbf0a4c": {
      "model_module": "@jupyter-widgets/controls",
      "model_module_version": "1.5.0",
      "model_name": "ButtonStyleModel",
      "state": {}
     },
     "66b2984377bf4e62aae75e726b1e8f7c": {
      "model_module": "@jupyter-widgets/controls",
      "model_module_version": "1.5.0",
      "model_name": "LinkModel",
      "state": {
       "source": [
        "IPY_MODEL_dd14e0c54e43411cacc3e6c1fb5f3e35",
        "value"
       ],
       "target": [
        "IPY_MODEL_23261d3dc60345819ec92e324497780f",
        "value"
       ]
      }
     },
     "66b92b5149454ab5a7ff8112e9958ca8": {
      "model_module": "@jupyter-widgets/base",
      "model_module_version": "1.2.0",
      "model_name": "LayoutModel",
      "state": {}
     },
     "67090459f79a4560ad4c0b958143ede5": {
      "model_module": "@jupyter-widgets/controls",
      "model_module_version": "1.5.0",
      "model_name": "ButtonModel",
      "state": {
       "description": "Download image",
       "layout": "IPY_MODEL_9b6e0965115a460b902f6fc8646e1060",
       "style": "IPY_MODEL_19a75e5acf8f493a9298837e3f2dfce5",
       "tooltip": "Download current frame to your local PC"
      }
     },
     "67e056abd4a94780bd16d39a00e55e0e": {
      "model_module": "@jupyter-widgets/base",
      "model_module_version": "1.2.0",
      "model_name": "LayoutModel",
      "state": {}
     },
     "680b060c679f48019dab8f84527bb6fa": {
      "model_module": "@jupyter-widgets/controls",
      "model_module_version": "1.5.0",
      "model_name": "ButtonStyleModel",
      "state": {}
     },
     "68f90b09ab6c405a9ceb1050e0a2d212": {
      "model_module": "@jupyter-widgets/base",
      "model_module_version": "1.2.0",
      "model_name": "LayoutModel",
      "state": {}
     },
     "6973a460a857477ab2e41e37ef9a808b": {
      "model_module": "@jupyter-widgets/controls",
      "model_module_version": "1.5.0",
      "model_name": "DescriptionStyleModel",
      "state": {
       "description_width": ""
      }
     },
     "69d3dc280ca249c897b4086b9bc83b7e": {
      "model_module": "nglview-js-widgets",
      "model_module_version": "3.0.1",
      "model_name": "ColormakerRegistryModel",
      "state": {
       "_msg_ar": [],
       "_msg_q": [],
       "_ready": true,
       "layout": "IPY_MODEL_1029cd286a47473f9d7f51d103f77cf9"
      }
     },
     "6a168334e9d54fe9913ebacc2f52dc90": {
      "model_module": "@jupyter-widgets/base",
      "model_module_version": "1.2.0",
      "model_name": "LayoutModel",
      "state": {}
     },
     "6ada56e2ea8f4510a0e0e2f77f57274b": {
      "model_module": "@jupyter-widgets/controls",
      "model_module_version": "1.5.0",
      "model_name": "LinkModel",
      "state": {
       "source": [
        "IPY_MODEL_e1c1ac15b55a4b62b2bc6d4ec4c17b21",
        "max"
       ],
       "target": [
        "IPY_MODEL_59898d5aef624c0994c498775a123f22",
        "max_frame"
       ]
      }
     },
     "6aee6a3576064bcba50e03f8c405547a": {
      "model_module": "@jupyter-widgets/controls",
      "model_module_version": "1.5.0",
      "model_name": "HBoxModel",
      "state": {
       "children": [
        "IPY_MODEL_83a091df93d145d9a76776de59dbd983",
        "IPY_MODEL_6d3961f164094e83912559ed11931a27"
       ],
       "layout": "IPY_MODEL_d8e4cfbc655c4a2ebc353d163d6d8a42"
      }
     },
     "6b1d1353acbf461ea9309cca22731108": {
      "model_module": "@jupyter-widgets/base",
      "model_module_version": "1.2.0",
      "model_name": "LayoutModel",
      "state": {}
     },
     "6c3f7ea39f0840f98ddcaca114670cdb": {
      "model_module": "@jupyter-widgets/controls",
      "model_module_version": "1.5.0",
      "model_name": "ButtonStyleModel",
      "state": {}
     },
     "6c74dca1ac314f07890bdfa6e1825b78": {
      "model_module": "@jupyter-widgets/controls",
      "model_module_version": "1.5.0",
      "model_name": "ButtonStyleModel",
      "state": {}
     },
     "6ce15c9221564051a790102cd4ba9392": {
      "model_module": "@jupyter-widgets/controls",
      "model_module_version": "1.5.0",
      "model_name": "SliderStyleModel",
      "state": {
       "description_width": ""
      }
     },
     "6d0231a28f5847aca645981f0793399e": {
      "model_module": "@jupyter-widgets/base",
      "model_module_version": "1.2.0",
      "model_name": "LayoutModel",
      "state": {}
     },
     "6d3961f164094e83912559ed11931a27": {
      "model_module": "@jupyter-widgets/controls",
      "model_module_version": "1.5.0",
      "model_name": "IntSliderModel",
      "state": {
       "layout": "IPY_MODEL_6f463991ae0443068d4ab5f526da18f8",
       "max": 0,
       "style": "IPY_MODEL_eee0f4889e6f4416b75bed2ffb20d40a"
      }
     },
     "6da04b71da554033a2e21d92bc0c19e2": {
      "model_module": "@jupyter-widgets/controls",
      "model_module_version": "1.5.0",
      "model_name": "HBoxModel",
      "state": {
       "children": [
        "IPY_MODEL_0937a8fb7eb240eca0661fd29a38bd70",
        "IPY_MODEL_44dbe1e09ccb42cba19bc373ccebaf76"
       ],
       "layout": "IPY_MODEL_076af754c2e847d08b74a0007c9e5eb2"
      }
     },
     "6df259bfd0de450ca0fb9756043d52b6": {
      "model_module": "@jupyter-widgets/controls",
      "model_module_version": "1.5.0",
      "model_name": "ButtonStyleModel",
      "state": {}
     },
     "6e4ebe423c8f4be59d984642c70f816f": {
      "model_module": "@jupyter-widgets/controls",
      "model_module_version": "1.5.0",
      "model_name": "DescriptionStyleModel",
      "state": {
       "description_width": ""
      }
     },
     "6f2844c1bd1f4be6b896f8e0ff9ec098": {
      "model_module": "@jupyter-widgets/controls",
      "model_module_version": "1.5.0",
      "model_name": "DescriptionStyleModel",
      "state": {
       "description_width": ""
      }
     },
     "6f463991ae0443068d4ab5f526da18f8": {
      "model_module": "@jupyter-widgets/base",
      "model_module_version": "1.2.0",
      "model_name": "LayoutModel",
      "state": {}
     },
     "6fb1593c9bbf4d66ab59c49752e4b833": {
      "model_module": "@jupyter-widgets/base",
      "model_module_version": "1.2.0",
      "model_name": "LayoutModel",
      "state": {}
     },
     "6fdead03e7274e3a88457f60c71ab58a": {
      "model_module": "@jupyter-widgets/controls",
      "model_module_version": "1.5.0",
      "model_name": "DescriptionStyleModel",
      "state": {
       "description_width": ""
      }
     },
     "6ffb30781a90480295b4a12b3bb95673": {
      "model_module": "@jupyter-widgets/base",
      "model_module_version": "1.2.0",
      "model_name": "LayoutModel",
      "state": {
       "width": "34px"
      }
     },
     "706136846dca49d09005f91342f575ec": {
      "model_module": "@jupyter-widgets/base",
      "model_module_version": "1.2.0",
      "model_name": "LayoutModel",
      "state": {}
     },
     "709132cff3894cf8a1872760cba3251b": {
      "model_module": "@jupyter-widgets/controls",
      "model_module_version": "1.5.0",
      "model_name": "DescriptionStyleModel",
      "state": {
       "description_width": ""
      }
     },
     "7122c157b23248fe96c58c17bcc8b9d0": {
      "model_module": "@jupyter-widgets/controls",
      "model_module_version": "1.5.0",
      "model_name": "DescriptionStyleModel",
      "state": {
       "description_width": ""
      }
     },
     "713761f539c34ef69cc95471ecbfde11": {
      "model_module": "@jupyter-widgets/base",
      "model_module_version": "1.2.0",
      "model_name": "LayoutModel",
      "state": {}
     },
     "714cefbb111c41ddb833d31445c1a06a": {
      "model_module": "@jupyter-widgets/controls",
      "model_module_version": "1.5.0",
      "model_name": "DescriptionStyleModel",
      "state": {
       "description_width": ""
      }
     },
     "7152872da528449f85d1a8fa74c9e65a": {
      "model_module": "@jupyter-widgets/controls",
      "model_module_version": "1.5.0",
      "model_name": "DropdownModel",
      "state": {
       "_options_labels": [
        " ",
        "picking",
        "random",
        "uniform",
        "atomindex",
        "residueindex",
        "chainindex",
        "modelindex",
        "sstruc",
        "element",
        "resname",
        "bfactor",
        "hydrophobicity",
        "value",
        "volume",
        "occupancy"
       ],
       "description": "Color scheme",
       "index": 9,
       "layout": "IPY_MODEL_7dba84c4228641ce9f637314bb1e598e",
       "style": "IPY_MODEL_abfd328048a0452abdda50a6dcc2f6d4"
      }
     },
     "717b7c59aa1249ef8eefd5239194c600": {
      "model_module": "@jupyter-widgets/controls",
      "model_module_version": "1.5.0",
      "model_name": "LinkModel",
      "state": {
       "source": [
        "IPY_MODEL_23261d3dc60345819ec92e324497780f",
        "max"
       ],
       "target": [
        "IPY_MODEL_4604ff8bb2114e17be4dbfe30e293857",
        "max_frame"
       ]
      }
     },
     "7205954449a3477ab16b1b3a928aa790": {
      "model_module": "@jupyter-widgets/controls",
      "model_module_version": "1.5.0",
      "model_name": "DescriptionStyleModel",
      "state": {
       "description_width": ""
      }
     },
     "72bc6f7d45f7410681491fe0e77a16bf": {
      "model_module": "@jupyter-widgets/controls",
      "model_module_version": "1.5.0",
      "model_name": "DescriptionStyleModel",
      "state": {
       "description_width": ""
      }
     },
     "7391c079e5bb4130979ca87f60ba2ac6": {
      "model_module": "@jupyter-widgets/controls",
      "model_module_version": "1.5.0",
      "model_name": "LinkModel",
      "state": {
       "source": [
        "IPY_MODEL_cd4e3156e0a042849ba4d1ea08611882",
        "value"
       ],
       "target": [
        "IPY_MODEL_7c87f22280b64bfcb56e2fa1aa3f7001",
        "frame"
       ]
      }
     },
     "7435659d97cd414a8513581e0dd400ae": {
      "model_module": "@jupyter-widgets/base",
      "model_module_version": "1.2.0",
      "model_name": "LayoutModel",
      "state": {}
     },
     "747286599c4e4627b262c425b399eb74": {
      "model_module": "@jupyter-widgets/controls",
      "model_module_version": "1.5.0",
      "model_name": "HBoxModel",
      "state": {
       "children": [
        "IPY_MODEL_99adcb7b636b46efa897f4b77ede2e03",
        "IPY_MODEL_6598b1f4e8c94b8ebf42dcc745370dfb"
       ],
       "layout": "IPY_MODEL_245870bab7284b47b26101dd878eefca"
      }
     },
     "748dde31760c4e91aa8af044fe5a04ce": {
      "model_module": "@jupyter-widgets/controls",
      "model_module_version": "1.5.0",
      "model_name": "ButtonStyleModel",
      "state": {}
     },
     "76016cc99f414e558a3a0ef327d9641c": {
      "model_module": "@jupyter-widgets/controls",
      "model_module_version": "1.5.0",
      "model_name": "ButtonModel",
      "state": {
       "icon": "compress",
       "layout": "IPY_MODEL_467adbbdab40432f889fb64953c9e0c6",
       "style": "IPY_MODEL_155c63c0abe344b6bb895db25fe5a23b"
      }
     },
     "76367571434047dd98af6240f79227e8": {
      "model_module": "@jupyter-widgets/base",
      "model_module_version": "1.2.0",
      "model_name": "LayoutModel",
      "state": {}
     },
     "7909f5ec87984e88b369309a0b8a3bf4": {
      "model_module": "@jupyter-widgets/base",
      "model_module_version": "1.2.0",
      "model_name": "LayoutModel",
      "state": {
       "width": "34px"
      }
     },
     "7933b0a5d0044bd0acf687e4e552b96b": {
      "model_module": "@jupyter-widgets/controls",
      "model_module_version": "1.5.0",
      "model_name": "SliderStyleModel",
      "state": {
       "description_width": ""
      }
     },
     "7962ad43f1f04ecaa4a596f6eed1202a": {
      "model_module": "@jupyter-widgets/base",
      "model_module_version": "1.2.0",
      "model_name": "LayoutModel",
      "state": {}
     },
     "798db2b3baa14441bf26d7c1d07b3929": {
      "model_module": "@jupyter-widgets/base",
      "model_module_version": "1.2.0",
      "model_name": "LayoutModel",
      "state": {}
     },
     "7aa6ba0ac43c4af1beffeae1e75df317": {
      "model_module": "@jupyter-widgets/controls",
      "model_module_version": "1.5.0",
      "model_name": "FloatSliderModel",
      "state": {
       "description": "Force scale",
       "layout": "IPY_MODEL_a874cb970e2a49abb8658b660a3d53c7",
       "step": 0.1,
       "style": "IPY_MODEL_0283ac9b60704a19ac1a7b9420cfb90c",
       "value": 0.5
      }
     },
     "7ae2b328d9ab406e97683c490eac175a": {
      "model_module": "@jupyter-widgets/controls",
      "model_module_version": "1.5.0",
      "model_name": "DescriptionStyleModel",
      "state": {
       "description_width": ""
      }
     },
     "7af403c7da1a451aa7825ff2b33c8909": {
      "model_module": "@jupyter-widgets/controls",
      "model_module_version": "1.5.0",
      "model_name": "ButtonModel",
      "state": {
       "description": "Download image",
       "layout": "IPY_MODEL_82605fa56d504937ba794e39d840476e",
       "style": "IPY_MODEL_d28ee1b9b2cf46cbbaac2f1d0558f440",
       "tooltip": "Download current frame to your local PC"
      }
     },
     "7af91af2107046c4bf9ef3abdef67173": {
      "model_module": "@jupyter-widgets/controls",
      "model_module_version": "1.5.0",
      "model_name": "DescriptionStyleModel",
      "state": {
       "description_width": ""
      }
     },
     "7b713945feb14cd280944399937f0e9e": {
      "model_module": "@jupyter-widgets/controls",
      "model_module_version": "1.5.0",
      "model_name": "DropdownModel",
      "state": {
       "_options_labels": [
        "All",
        "C",
        "O"
       ],
       "description": "Show",
       "index": 0,
       "layout": "IPY_MODEL_13213bac1dad450a975db392883024b8",
       "style": "IPY_MODEL_7ae2b328d9ab406e97683c490eac175a"
      }
     },
     "7b8dee11d0cd4817b3958caccd509328": {
      "model_module": "@jupyter-widgets/base",
      "model_module_version": "1.2.0",
      "model_name": "LayoutModel",
      "state": {}
     },
     "7be2ba60f1054e248c6ab8707cf64326": {
      "model_module": "@jupyter-widgets/base",
      "model_module_version": "1.2.0",
      "model_name": "LayoutModel",
      "state": {}
     },
     "7c7450a476f1497e9a3ff718e5f70d75": {
      "model_module": "@jupyter-widgets/controls",
      "model_module_version": "1.5.0",
      "model_name": "LinkModel",
      "state": {
       "source": [
        "IPY_MODEL_acda21fa699641c89ec3bcded266527d",
        "value"
       ],
       "target": [
        "IPY_MODEL_f39826cfede74bc38928c0cde37b74f8",
        "value"
       ]
      }
     },
     "7c87f22280b64bfcb56e2fa1aa3f7001": {
      "model_module": "nglview-js-widgets",
      "model_module_version": "3.0.1",
      "model_name": "NGLModel",
      "state": {
       "_camera_orientation": [
        15.600423047052786,
        0,
        0,
        0,
        0,
        15.600423047052786,
        0,
        0,
        0,
        0,
        15.600423047052786,
        0,
        0.8285001516342163,
        -0.5859998464584351,
        -3.0439999103546143,
        1
       ],
       "_camera_str": "orthographic",
       "_gui_theme": null,
       "_ibtn_fullscreen": "IPY_MODEL_8da45a4d89bd42619cef51f69c18c872",
       "_igui": null,
       "_iplayer": "IPY_MODEL_c0afa09d468243dd8afa7d6c5d0c1639",
       "_ngl_color_dict": {},
       "_ngl_coordinate_resource": {},
       "_ngl_full_stage_parameters": {
        "ambientColor": 14540253,
        "ambientIntensity": 0.2,
        "backgroundColor": "white",
        "cameraEyeSep": 0.3,
        "cameraFov": 40,
        "cameraType": "orthographic",
        "clipDist": 0,
        "clipFar": 100,
        "clipNear": 0,
        "fogFar": 100,
        "fogNear": 50,
        "hoverTimeout": 0,
        "impostor": true,
        "lightColor": 14540253,
        "lightIntensity": 1,
        "mousePreset": "default",
        "panSpeed": 1,
        "quality": "medium",
        "rotateSpeed": 2,
        "sampleLevel": 0,
        "tooltip": true,
        "workerDefault": true,
        "zoomSpeed": 1.2
       },
       "_ngl_msg_archive": [
        {
         "args": [
          {
           "binary": false,
           "data": "CRYST1    4.971    7.456    9.942 109.47 109.47 109.47 P 1\nMODEL     1\nATOM      1   Fe MOL     1       0.000   0.000   0.000  1.00  0.00          FE  \nATOM      2   Fe MOL     1      -0.828  -1.172   2.029  1.00  0.00          FE  \nATOM      3   Fe MOL     1      -1.657  -2.343   4.059  1.00  0.00          FE  \nATOM      4   Fe MOL     1      -2.485  -3.515   6.088  1.00  0.00          FE  \nATOM      5   Fe MOL     1      -0.828   2.343   0.000  1.00  0.00          FE  \nATOM      6   Fe MOL     1      -1.657   1.172   2.029  1.00  0.00          FE  \nATOM      7   Fe MOL     1      -2.485   0.000   4.059  1.00  0.00          FE  \nATOM      8   Fe MOL     1      -3.314  -1.172   6.088  1.00  0.00          FE  \nATOM      9   Fe MOL     1      -1.657   4.687   0.000  1.00  0.00          FE  \nATOM     10   Fe MOL     1      -2.485   3.515   2.029  1.00  0.00          FE  \nATOM     11   Fe MOL     1      -3.314   2.343   4.059  1.00  0.00          FE  \nATOM     12   Fe MOL     1      -4.142   1.172   6.088  1.00  0.00          FE  \nATOM     13   Fe MOL     1       2.485   0.000  -0.000  1.00  0.00          FE  \nATOM     14   Fe MOL     1       1.657  -1.172   2.029  1.00  0.00          FE  \nATOM     15   Fe MOL     1       0.828  -2.343   4.059  1.00  0.00          FE  \nATOM     16   Fe MOL     1       0.000  -3.515   6.088  1.00  0.00          FE  \nATOM     17   Fe MOL     1       1.657   2.343   0.000  1.00  0.00          FE  \nATOM     18   Fe MOL     1       0.828   1.172   2.029  1.00  0.00          FE  \nATOM     19   Fe MOL     1       0.000   0.000   4.059  1.00  0.00          FE  \nATOM     20   Fe MOL     1      -0.828  -1.172   6.088  1.00  0.00          FE  \nATOM     21   Fe MOL     1       0.828   4.687   0.000  1.00  0.00          FE  \nATOM     22   Fe MOL     1       0.000   3.515   2.029  1.00  0.00          FE  \nATOM     23   Fe MOL     1      -0.828   2.343   4.059  1.00  0.00          FE  \nATOM     24   Fe MOL     1      -1.657   1.172   6.088  1.00  0.00          FE  \nENDMDL\n",
           "type": "blob"
          }
         ],
         "kwargs": {
          "defaultRepresentation": false,
          "ext": "pdb"
         },
         "methodName": "loadFile",
         "reconstruc_color_scheme": false,
         "target": "Stage",
         "type": "call_method"
        },
        {
         "args": [
          "400px",
          "300px"
         ],
         "kwargs": {},
         "methodName": "setSize",
         "reconstruc_color_scheme": false,
         "target": "Widget",
         "type": "call_method"
        },
        {
         "args": [
          "unitcell"
         ],
         "component_index": 0,
         "kwargs": {
          "sele": "all"
         },
         "methodName": "addRepresentation",
         "reconstruc_color_scheme": false,
         "target": "compList",
         "type": "call_method"
        },
        {
         "args": [
          "spacefill"
         ],
         "component_index": 0,
         "kwargs": {
          "sele": "all"
         },
         "methodName": "addRepresentation",
         "reconstruc_color_scheme": false,
         "target": "compList",
         "type": "call_method"
        },
        {
         "args": [],
         "kwargs": {
          "cameraType": "orthographic"
         },
         "methodName": "setParameters",
         "reconstruc_color_scheme": false,
         "target": "Stage",
         "type": "call_method"
        },
        {
         "args": [
          {
           "clipDist": 0
          }
         ],
         "kwargs": {},
         "methodName": "setParameters",
         "reconstruc_color_scheme": false,
         "target": "Widget",
         "type": "call_method"
        },
        {
         "args": [
          "spacefill",
          0
         ],
         "kwargs": {
          "colorScale": "rainbow",
          "colorScheme": "element",
          "radiusScale": 0.5,
          "radiusType": "covalent"
         },
         "methodName": "updateRepresentationsByName",
         "reconstruc_color_scheme": false,
         "target": "Widget",
         "type": "call_method"
        },
        {
         "args": [
          "this._Q = [[-0.5773502691896257, 0.5773502691896257, 0.5773502691896257], [0.40824829046386313, -0.408248290463863, 0.8164965809277261], [0.7071067811865476, 0.7071067811865477, -2.6638240557478837e-16]]\n    var tooltip = document.createElement('div')\n    Object.assign(tooltip.style, {\n      display: 'none',\n      position: 'fixed',\n      zIndex: 10,\n      pointerEvents: 'none',\n      backgroundColor: 'rgba( 0, 0, 0, 0.6 )',\n      color: 'lightgrey',\n      padding: '8px',\n      fontFamily: 'sans-serif'\n    })\n    document.body.appendChild(tooltip)\n\n    var that = this\n    this.stage.mouseControls.remove('hoverPick')\n    this.stage.signals.hovered.add(function (pickingProxy) {\n      if (pickingProxy && (pickingProxy.atom || pickingProxy.bond)) {\n        var atom = pickingProxy.atom || pickingProxy.closestBondAtom\n        var mp = pickingProxy.mouse.position\n        //tooltip.innerText = atom.element + ' i=' + atom.index + ' (' + atom.x.toFixed(2) +  ', ' + atom.y.toFixed(2) +  ', ' + atom.z.toFixed(2) + ')'\n        //var pos = that._atoms_pos[atom.index]\n        var Q = that._Q\n        var pos_x = Q[0][0] * atom.x + Q[0][1] * atom.y + Q[0][2] * atom.z \n        var pos_y = Q[1][0] * atom.x + Q[1][1] * atom.y + Q[1][2] * atom.z\n        var pos_z = Q[2][0] * atom.x + Q[2][1] * atom.y + Q[2][2] * atom.z\n        tooltip.innerText = 'i=' + atom.index + ' ' + atom.element + ' (' + pos_x.toFixed(2) +  ', ' + pos_y.toFixed(2) +  ', ' + pos_z.toFixed(2) + ')'\n        tooltip.style.bottom = window.innerHeight - mp.y + 3 + 'px'\n        tooltip.style.left = mp.x + 3 + 'px'\n        tooltip.style.display = 'block'\n      } else {\n        tooltip.style.display = 'none'\n      }\n    })\n    "
         ],
         "kwargs": {},
         "methodName": "executeCode",
         "reconstruc_color_scheme": false,
         "target": "Widget",
         "type": "call_method"
        }
       ],
       "_ngl_original_stage_parameters": {
        "ambientColor": 14540253,
        "ambientIntensity": 0.2,
        "backgroundColor": "white",
        "cameraEyeSep": 0.3,
        "cameraFov": 40,
        "cameraType": "perspective",
        "clipDist": 10,
        "clipFar": 100,
        "clipNear": 0,
        "fogFar": 100,
        "fogNear": 50,
        "hoverTimeout": 0,
        "impostor": true,
        "lightColor": 14540253,
        "lightIntensity": 1,
        "mousePreset": "default",
        "panSpeed": 1,
        "quality": "medium",
        "rotateSpeed": 2,
        "sampleLevel": 0,
        "tooltip": true,
        "workerDefault": true,
        "zoomSpeed": 1.2
       },
       "_ngl_repr_dict": {
        "0": {
         "0": {
          "params": {
           "clipCenter": {
            "x": 0,
            "y": 0,
            "z": 0
           },
           "clipNear": 0,
           "clipRadius": 0,
           "colorMode": "hcl",
           "colorReverse": false,
           "colorScale": "",
           "colorScheme": "element",
           "colorValue": "orange",
           "defaultAssembly": "",
           "depthWrite": true,
           "diffuse": 16777215,
           "diffuseInterior": false,
           "disableImpostor": false,
           "disablePicking": false,
           "flatShaded": false,
           "interiorColor": 2236962,
           "interiorDarkening": 0,
           "lazy": false,
           "matrix": {
            "elements": [
             1,
             0,
             0,
             0,
             0,
             1,
             0,
             0,
             0,
             0,
             1,
             0,
             0,
             0,
             0,
             1
            ]
           },
           "metalness": 0,
           "opacity": 1,
           "quality": "medium",
           "radialSegments": 10,
           "radiusData": {},
           "radiusScale": 1,
           "radiusSize": 0.03286151464600358,
           "radiusType": "vdw",
           "roughness": 0.4,
           "sele": "all",
           "side": "double",
           "sphereDetail": 1,
           "useInteriorColor": true,
           "visible": true,
           "wireframe": false
          },
          "type": "unitcell"
         },
         "1": {
          "params": {
           "assembly": "default",
           "clipCenter": {
            "x": 0,
            "y": 0,
            "z": 0
           },
           "clipNear": 0,
           "clipRadius": 0,
           "colorMode": "hcl",
           "colorReverse": false,
           "colorScale": "rainbow",
           "colorScheme": "element",
           "colorValue": 9474192,
           "defaultAssembly": "",
           "depthWrite": true,
           "diffuse": 16777215,
           "diffuseInterior": false,
           "disableImpostor": false,
           "disablePicking": false,
           "flatShaded": false,
           "interiorColor": 2236962,
           "interiorDarkening": 0,
           "lazy": false,
           "matrix": {
            "elements": [
             1,
             0,
             0,
             0,
             0,
             1,
             0,
             0,
             0,
             0,
             1,
             0,
             0,
             0,
             0,
             1
            ]
           },
           "metalness": 0,
           "opacity": 1,
           "quality": "medium",
           "radiusData": {},
           "radiusScale": 0.5,
           "radiusSize": 1,
           "radiusType": "covalent",
           "roughness": 0.4,
           "sele": "all",
           "side": "double",
           "sphereDetail": 1,
           "useInteriorColor": true,
           "visible": true,
           "wireframe": false
          },
          "type": "spacefill"
         }
        }
       },
       "_ngl_serialize": false,
       "_ngl_version": "2.0.0-dev.36",
       "_ngl_view_id": [
        "32D0A795-2839-4DA6-A105-31D40E566654"
       ],
       "_player_dict": {},
       "_scene_position": {},
       "_scene_rotation": {},
       "_synced_model_ids": [],
       "_synced_repr_model_ids": [],
       "_view_height": "",
       "_view_width": "",
       "background": "white",
       "frame": 0,
       "gui_style": null,
       "layout": "IPY_MODEL_abe81c9900964673bf7471b710a4ee82",
       "max_frame": 0,
       "n_components": 1,
       "picked": {}
      }
     },
     "7ce7a5c1e01148248d288a42b83d25fb": {
      "model_module": "@jupyter-widgets/base",
      "model_module_version": "1.2.0",
      "model_name": "LayoutModel",
      "state": {}
     },
     "7d00734ddcb24c278b017e66b21ae92c": {
      "model_module": "@jupyter-widgets/base",
      "model_module_version": "1.2.0",
      "model_name": "LayoutModel",
      "state": {}
     },
     "7d0c72c083494da3a083394cc140eece": {
      "model_module": "@jupyter-widgets/base",
      "model_module_version": "1.2.0",
      "model_name": "LayoutModel",
      "state": {}
     },
     "7d63c7000fa04b96bbef7ac14edd6730": {
      "model_module": "@jupyter-widgets/controls",
      "model_module_version": "1.5.0",
      "model_name": "HBoxModel",
      "state": {
       "children": [
        "IPY_MODEL_7af403c7da1a451aa7825ff2b33c8909",
        "IPY_MODEL_da07f652de334ef796062810da6712a8"
       ],
       "layout": "IPY_MODEL_e8f74343a4bc42638bc5a1fec41bcff4"
      }
     },
     "7dba84c4228641ce9f637314bb1e598e": {
      "model_module": "@jupyter-widgets/base",
      "model_module_version": "1.2.0",
      "model_name": "LayoutModel",
      "state": {}
     },
     "7e28a7786a9941cf85e2a8810faf8a24": {
      "model_module": "@jupyter-widgets/controls",
      "model_module_version": "1.5.0",
      "model_name": "FloatSliderModel",
      "state": {
       "description": "Ball size",
       "layout": "IPY_MODEL_5cdb97eede8649a8aed577d4059ac925",
       "max": 1.5,
       "step": 0.01,
       "style": "IPY_MODEL_29455ad379fd4a12924987308ed65f39",
       "value": 0.5
      }
     },
     "7e438d3f19c241a89893e794c964556b": {
      "model_module": "@jupyter-widgets/base",
      "model_module_version": "1.2.0",
      "model_name": "LayoutModel",
      "state": {}
     },
     "7e4511adba8c4813a837e263cdec049f": {
      "model_module": "@jupyter-widgets/controls",
      "model_module_version": "1.5.0",
      "model_name": "TextModel",
      "state": {
       "description": "Filename: ",
       "layout": "IPY_MODEL_61e50d4f688948de8d6f3e9072c94ef1",
       "style": "IPY_MODEL_714cefbb111c41ddb833d31445c1a06a",
       "value": "screenshot.png"
      }
     },
     "7e6194fdf94f48418831efc4a0df4a03": {
      "model_module": "@jupyter-widgets/base",
      "model_module_version": "1.2.0",
      "model_name": "LayoutModel",
      "state": {}
     },
     "7e65649b914341c1b4f6dfa9dfe70af2": {
      "model_module": "@jupyter-widgets/controls",
      "model_module_version": "1.5.0",
      "model_name": "DescriptionStyleModel",
      "state": {
       "description_width": ""
      }
     },
     "7fa41d62f87a4d998e0c82f5b9df74e4": {
      "model_module": "@jupyter-widgets/base",
      "model_module_version": "1.2.0",
      "model_name": "LayoutModel",
      "state": {}
     },
     "800731315d0043b69f5b802bc551df6e": {
      "model_module": "@jupyter-widgets/base",
      "model_module_version": "1.2.0",
      "model_name": "LayoutModel",
      "state": {}
     },
     "8077f23158c74e468ea14fa8321b87b6": {
      "model_module": "@jupyter-widgets/controls",
      "model_module_version": "1.5.0",
      "model_name": "LinkModel",
      "state": {
       "source": [
        "IPY_MODEL_24fba49bf8db43e1bda099638ebf8bdb",
        "value"
       ],
       "target": [
        "IPY_MODEL_3443a36d68444e9c826678ced2e1437a",
        "value"
       ]
      }
     },
     "80c335b0bb7b44fcbcebd6ea97c11a46": {
      "model_module": "@jupyter-widgets/base",
      "model_module_version": "1.2.0",
      "model_name": "LayoutModel",
      "state": {}
     },
     "80d6ccb24f16442ab32c06358cbed698": {
      "model_module": "@jupyter-widgets/base",
      "model_module_version": "1.2.0",
      "model_name": "LayoutModel",
      "state": {}
     },
     "813fdc54adfe4fa7a7d5e6ef50335129": {
      "model_module": "@jupyter-widgets/controls",
      "model_module_version": "1.5.0",
      "model_name": "VBoxModel",
      "state": {
       "children": [
        "IPY_MODEL_ca3ef7a1ba1548059687d00f8f85713d",
        "IPY_MODEL_f99a5ec4b41b48cdb1b4650938be2f43",
        "IPY_MODEL_591b655ebd524daeb6acd20e263ff8f1",
        "IPY_MODEL_8c217489b5534eefbead957c23e82744",
        "IPY_MODEL_aa16ee1924454d6db47d91b4ea0de307",
        "IPY_MODEL_ce61e1b016a7404b99ee63412a6b0f95",
        "IPY_MODEL_0c941a447733428985f07217862bf622",
        "IPY_MODEL_f75f59efaf3c481f83d126733ef63eb3",
        "IPY_MODEL_ce84d62ce0bb401aaea72d722d3ee86e",
        "IPY_MODEL_d7f4884d42b543f78ff7ab3aa13afc38"
       ],
       "layout": "IPY_MODEL_894ee6d491784e09816bcc26a3c66e05"
      }
     },
     "815e019591b544ccb4db7e66c04640d8": {
      "model_module": "@jupyter-widgets/base",
      "model_module_version": "1.2.0",
      "model_name": "LayoutModel",
      "state": {}
     },
     "81e2aa2f4d4246c89abc916c0c512622": {
      "model_module": "@jupyter-widgets/base",
      "model_module_version": "1.2.0",
      "model_name": "LayoutModel",
      "state": {}
     },
     "81f54315c8cc436881382a40f183205d": {
      "model_module": "@jupyter-widgets/controls",
      "model_module_version": "1.5.0",
      "model_name": "SliderStyleModel",
      "state": {
       "description_width": ""
      }
     },
     "824eb448ee3c4a9dbc3b7a718a3401a4": {
      "model_module": "@jupyter-widgets/base",
      "model_module_version": "1.2.0",
      "model_name": "LayoutModel",
      "state": {}
     },
     "82605fa56d504937ba794e39d840476e": {
      "model_module": "@jupyter-widgets/base",
      "model_module_version": "1.2.0",
      "model_name": "LayoutModel",
      "state": {}
     },
     "8360ec1008414e93918c81398018c49f": {
      "model_module": "@jupyter-widgets/base",
      "model_module_version": "1.2.0",
      "model_name": "LayoutModel",
      "state": {}
     },
     "83a091df93d145d9a76776de59dbd983": {
      "model_module": "@jupyter-widgets/controls",
      "model_module_version": "1.5.0",
      "model_name": "PlayModel",
      "state": {
       "layout": "IPY_MODEL_ae567875efe54c1b9e3be2766da58aba",
       "max": 0,
       "style": "IPY_MODEL_324956fd62294ed19ee4104f4efa958b"
      }
     },
     "84d89dc5dfc5417ea344a5175b1399f5": {
      "model_module": "@jupyter-widgets/base",
      "model_module_version": "1.2.0",
      "model_name": "LayoutModel",
      "state": {}
     },
     "84fb331e85d14f099f0fccbbb98ada7e": {
      "model_module": "@jupyter-widgets/base",
      "model_module_version": "1.2.0",
      "model_name": "LayoutModel",
      "state": {}
     },
     "8557a61634784f1bb79b565d5c20de42": {
      "model_module": "@jupyter-widgets/base",
      "model_module_version": "1.2.0",
      "model_name": "LayoutModel",
      "state": {}
     },
     "85662e4c37494a3998f7fab93e6139ec": {
      "model_module": "@jupyter-widgets/controls",
      "model_module_version": "1.5.0",
      "model_name": "DropdownModel",
      "state": {
       "_options_labels": [
        "All",
        "Fe"
       ],
       "description": "Show",
       "index": 0,
       "layout": "IPY_MODEL_1df020b12844492da113b04908904fb1",
       "style": "IPY_MODEL_35757752f15a400c8961ac4ed387dcac"
      }
     },
     "8661c70550e5456fafaa78df6696dc0f": {
      "model_module": "@jupyter-widgets/controls",
      "model_module_version": "1.5.0",
      "model_name": "DropdownModel",
      "state": {
       "_options_labels": [
        " ",
        "picking",
        "random",
        "uniform",
        "atomindex",
        "residueindex",
        "chainindex",
        "modelindex",
        "sstruc",
        "element",
        "resname",
        "bfactor",
        "hydrophobicity",
        "value",
        "volume",
        "occupancy"
       ],
       "description": "Color scheme",
       "index": 9,
       "layout": "IPY_MODEL_e1617af2dc1a43289571cfe42730ce05",
       "style": "IPY_MODEL_107ea8475e9140d6928007ed243c1deb"
      }
     },
     "8670212a93664a04a43f04abb27b52e0": {
      "model_module": "@jupyter-widgets/base",
      "model_module_version": "1.2.0",
      "model_name": "LayoutModel",
      "state": {}
     },
     "87eec054ccd54fc1a617d8d1875beb7f": {
      "model_module": "@jupyter-widgets/controls",
      "model_module_version": "1.5.0",
      "model_name": "DescriptionStyleModel",
      "state": {
       "description_width": ""
      }
     },
     "887be513528942ebbb539b6f519f70b9": {
      "model_module": "@jupyter-widgets/controls",
      "model_module_version": "1.5.0",
      "model_name": "VBoxModel",
      "state": {
       "children": [
        "IPY_MODEL_417bb702b1474b489a887ec3c674a903",
        "IPY_MODEL_3dc65706b229439984f3c07ad0b6063a",
        "IPY_MODEL_a8f7d33352254698ae55a4ec9f8fb82f",
        "IPY_MODEL_88f5454a71564fe881e18fe1846554b9",
        "IPY_MODEL_17a5bbb623fa4ca097c6250eaa50b3c5",
        "IPY_MODEL_3b07c79650f146dab59d457f342ffa37",
        "IPY_MODEL_e616d120d426432f80c167b0e4d618da",
        "IPY_MODEL_5e9f3cd5aeed4a4bafa99cb6438194d8",
        "IPY_MODEL_ac3c0339b1734c02914284fb9cd4bbaa",
        "IPY_MODEL_3144e2691b544075a1da7d8c8efb966e"
       ],
       "layout": "IPY_MODEL_5f31eab140b5455ea78df33bb8ff255d"
      }
     },
     "8886f4ecea954f76a9a56df803d5ff7a": {
      "model_module": "@jupyter-widgets/base",
      "model_module_version": "1.2.0",
      "model_name": "LayoutModel",
      "state": {}
     },
     "88968765eb6c46289e94882e18fa4a92": {
      "model_module": "@jupyter-widgets/controls",
      "model_module_version": "1.5.0",
      "model_name": "SliderStyleModel",
      "state": {
       "description_width": ""
      }
     },
     "88f5454a71564fe881e18fe1846554b9": {
      "model_module": "@jupyter-widgets/controls",
      "model_module_version": "1.5.0",
      "model_name": "TextModel",
      "state": {
       "description": "Filename: ",
       "layout": "IPY_MODEL_5549e6ddd3604f0eb4e5dec42c029a83",
       "style": "IPY_MODEL_e7bfbbfea41c4fc49ee0f510733cf5f6",
       "value": "screenshot.png"
      }
     },
     "8900caadd96b4cd09f23864e8795aa15": {
      "model_module": "@jupyter-widgets/controls",
      "model_module_version": "1.5.0",
      "model_name": "HBoxModel",
      "state": {
       "children": [
        "IPY_MODEL_67090459f79a4560ad4c0b958143ede5",
        "IPY_MODEL_62bec2a5fbe140ffa46454cd17342261"
       ],
       "layout": "IPY_MODEL_7fa41d62f87a4d998e0c82f5b9df74e4"
      }
     },
     "894ee6d491784e09816bcc26a3c66e05": {
      "model_module": "@jupyter-widgets/base",
      "model_module_version": "1.2.0",
      "model_name": "LayoutModel",
      "state": {}
     },
     "8970ea31d6d941bebed1cbeb9c50d9f0": {
      "model_module": "@jupyter-widgets/controls",
      "model_module_version": "1.5.0",
      "model_name": "HBoxModel",
      "state": {
       "children": [
        "IPY_MODEL_c851e3501b4e4022a1154c2605395377",
        "IPY_MODEL_9004b60e075043b7866e27172b142b1c"
       ],
       "layout": "IPY_MODEL_addea80145e949a3a5189e57b72354b2"
      }
     },
     "897c5a224ffd4198b6ba15e7dad2d652": {
      "model_module": "@jupyter-widgets/controls",
      "model_module_version": "1.5.0",
      "model_name": "ButtonModel",
      "state": {
       "description": "Save image",
       "layout": "IPY_MODEL_378eaf358b5d4325886863b17def48a1",
       "style": "IPY_MODEL_15e7ed8ba6654e5cb40564c28a019ee6",
       "tooltip": "Save current frame to file.\nCurrently .png and .html are supported.\nIt takes a bit time, please be patient."
      }
     },
     "8a7fbcda84694c5db39cb4d86d96cef1": {
      "model_module": "@jupyter-widgets/base",
      "model_module_version": "1.2.0",
      "model_name": "LayoutModel",
      "state": {}
     },
     "8b259997bc044aa795f84fce1e56f56b": {
      "model_module": "@jupyter-widgets/base",
      "model_module_version": "1.2.0",
      "model_name": "LayoutModel",
      "state": {}
     },
     "8b411844ebdb411482a8d10c663ed40c": {
      "model_module": "@jupyter-widgets/controls",
      "model_module_version": "1.5.0",
      "model_name": "SliderStyleModel",
      "state": {
       "description_width": ""
      }
     },
     "8bd3bdee6023436caccfb8dac78cfb41": {
      "model_module": "@jupyter-widgets/controls",
      "model_module_version": "1.5.0",
      "model_name": "DescriptionStyleModel",
      "state": {
       "description_width": ""
      }
     },
     "8c0c3b0d458b46cf89ff189ed90fc2b5": {
      "model_module": "@jupyter-widgets/base",
      "model_module_version": "1.2.0",
      "model_name": "LayoutModel",
      "state": {
       "width": "34px"
      }
     },
     "8c217489b5534eefbead957c23e82744": {
      "model_module": "@jupyter-widgets/controls",
      "model_module_version": "1.5.0",
      "model_name": "TextModel",
      "state": {
       "description": "Filename: ",
       "layout": "IPY_MODEL_17df5a013118490fb1f66950ac001eb1",
       "style": "IPY_MODEL_4e8b48143696461591b039cb5963bb02",
       "value": "screenshot.png"
      }
     },
     "8cd1a93901404760be8fbd0a819f2c16": {
      "model_module": "@jupyter-widgets/base",
      "model_module_version": "1.2.0",
      "model_name": "LayoutModel",
      "state": {}
     },
     "8cd2addbc7c94020a7cb2002c04ec5be": {
      "model_module": "@jupyter-widgets/controls",
      "model_module_version": "1.5.0",
      "model_name": "DescriptionStyleModel",
      "state": {
       "description_width": ""
      }
     },
     "8da45a4d89bd42619cef51f69c18c872": {
      "model_module": "@jupyter-widgets/controls",
      "model_module_version": "1.5.0",
      "model_name": "ButtonModel",
      "state": {
       "icon": "compress",
       "layout": "IPY_MODEL_c1243b541f664bc0bc415d39316059c6",
       "style": "IPY_MODEL_a989af0dcde74c76a0da7e23572a22e4"
      }
     },
     "8db2e16188b24b93bad424c4dba1601f": {
      "model_module": "@jupyter-widgets/controls",
      "model_module_version": "1.5.0",
      "model_name": "DescriptionStyleModel",
      "state": {
       "description_width": ""
      }
     },
     "8e072e10f8824d698e36f9c79f2125fe": {
      "model_module": "@jupyter-widgets/base",
      "model_module_version": "1.2.0",
      "model_name": "LayoutModel",
      "state": {}
     },
     "8e32154c9cea4206b6e5bb0821bbfc37": {
      "model_module": "@jupyter-widgets/output",
      "model_module_version": "1.0.0",
      "model_name": "OutputModel",
      "state": {
       "layout": "IPY_MODEL_1f36574d033d4e62852d5c4f0409783b"
      }
     },
     "8e70992f9b8b49eda9541bb3c98ccc05": {
      "model_module": "@jupyter-widgets/base",
      "model_module_version": "1.2.0",
      "model_name": "LayoutModel",
      "state": {}
     },
     "8e72c72039d1460b90e76e60ab355ac4": {
      "model_module": "@jupyter-widgets/controls",
      "model_module_version": "1.5.0",
      "model_name": "LinkModel",
      "state": {
       "source": [
        "IPY_MODEL_f39826cfede74bc38928c0cde37b74f8",
        "max"
       ],
       "target": [
        "IPY_MODEL_25a9a103e6464bed88c378e54a513c20",
        "max_frame"
       ]
      }
     },
     "8f559f11b9f7407caaf66f0fdb9c994a": {
      "model_module": "@jupyter-widgets/controls",
      "model_module_version": "1.5.0",
      "model_name": "ButtonStyleModel",
      "state": {}
     },
     "8f9ef4af81214db885439edfa69cf73f": {
      "model_module": "@jupyter-widgets/base",
      "model_module_version": "1.2.0",
      "model_name": "LayoutModel",
      "state": {}
     },
     "9004b60e075043b7866e27172b142b1c": {
      "model_module": "@jupyter-widgets/controls",
      "model_module_version": "1.5.0",
      "model_name": "ButtonModel",
      "state": {
       "description": "Save image",
       "layout": "IPY_MODEL_f8a82179d78b453d907996d07e8addfa",
       "style": "IPY_MODEL_4aae4f2e05c14723a05346395003ad43",
       "tooltip": "Save current frame to file.\nCurrently .png and .html are supported.\nIt takes a bit time, please be patient."
      }
     },
     "900754fb75b4436c89404ac093fb9d18": {
      "model_module": "@jupyter-widgets/controls",
      "model_module_version": "1.5.0",
      "model_name": "ButtonStyleModel",
      "state": {}
     },
     "902dd3dc071940458b93bab6bdb65626": {
      "model_module": "@jupyter-widgets/controls",
      "model_module_version": "1.5.0",
      "model_name": "ImageModel",
      "state": {
       "layout": "IPY_MODEL_c57fb91123f84cf791ec781ef4554c1f",
       "width": "900.0"
      }
     },
     "90ca6a8a4f024d52a8590cb44665a192": {
      "model_module": "@jupyter-widgets/controls",
      "model_module_version": "1.5.0",
      "model_name": "CheckboxModel",
      "state": {
       "description": "Show force",
       "disabled": false,
       "layout": "IPY_MODEL_0c5fde3610a541f6868aa7cf74c96c0e",
       "style": "IPY_MODEL_939bc9c9f0d54063809d471cd23a6cc3",
       "value": false
      }
     },
     "918c055c9a0748cd8ec4e3b1360160af": {
      "model_module": "@jupyter-widgets/controls",
      "model_module_version": "1.5.0",
      "model_name": "SliderStyleModel",
      "state": {
       "description_width": ""
      }
     },
     "918f50ac2a614229acf141a5f3a8abac": {
      "model_module": "@jupyter-widgets/controls",
      "model_module_version": "1.5.0",
      "model_name": "DescriptionStyleModel",
      "state": {
       "description_width": ""
      }
     },
     "91a25ca01bf94a47af84a2c88837cc75": {
      "model_module": "@jupyter-widgets/controls",
      "model_module_version": "1.5.0",
      "model_name": "TextModel",
      "state": {
       "description": "Filename: ",
       "layout": "IPY_MODEL_271faceff99847e6b403bf97991477e6",
       "style": "IPY_MODEL_cd9c71b74e6f4fd29d79fac6f316610e",
       "value": "screenshot.png"
      }
     },
     "91e76b4388184ba0b285abe407b2e1bf": {
      "model_module": "@jupyter-widgets/controls",
      "model_module_version": "1.5.0",
      "model_name": "DescriptionStyleModel",
      "state": {
       "description_width": ""
      }
     },
     "91fdf504462d47c1bc3208092d42444a": {
      "model_module": "nglview-js-widgets",
      "model_module_version": "3.0.1",
      "model_name": "NGLModel",
      "state": {
       "_camera_orientation": [
        1,
        0,
        0,
        0,
        0,
        1,
        0,
        0,
        0,
        0,
        1,
        0,
        0,
        0,
        0,
        1
       ],
       "_camera_str": "orthographic",
       "_gui_theme": null,
       "_ibtn_fullscreen": "IPY_MODEL_05236b4f517c49cfa8b0255867732bc8",
       "_igui": null,
       "_iplayer": "IPY_MODEL_1f3d34e6eedf47caa80f3f0b79a65957",
       "_ngl_color_dict": {},
       "_ngl_coordinate_resource": {},
       "_ngl_full_stage_parameters": {
        "ambientColor": 14540253,
        "ambientIntensity": 0.2,
        "backgroundColor": "white",
        "cameraEyeSep": 0.3,
        "cameraFov": 40,
        "cameraType": "orthographic",
        "clipDist": 0,
        "clipFar": 100,
        "clipNear": 0,
        "fogFar": 100,
        "fogNear": 50,
        "hoverTimeout": 0,
        "impostor": true,
        "lightColor": 14540253,
        "lightIntensity": 1,
        "mousePreset": "default",
        "panSpeed": 1,
        "quality": "medium",
        "rotateSpeed": 2,
        "sampleLevel": 0,
        "tooltip": true,
        "workerDefault": true,
        "zoomSpeed": 1.2
       },
       "_ngl_msg_archive": [
        {
         "args": [
          {
           "binary": false,
           "data": "CRYST1    2.000    2.000    2.000  90.00  90.00  90.00 P 1\nMODEL     1\nATOM      1   Fe MOL     1       0.000   0.000   0.000  1.00  0.00          FE  \nENDMDL\n",
           "type": "blob"
          }
         ],
         "kwargs": {
          "defaultRepresentation": false,
          "ext": "pdb"
         },
         "methodName": "loadFile",
         "reconstruc_color_scheme": false,
         "target": "Stage",
         "type": "call_method"
        },
        {
         "args": [
          "400px",
          "300px"
         ],
         "kwargs": {},
         "methodName": "setSize",
         "reconstruc_color_scheme": false,
         "target": "Widget",
         "type": "call_method"
        },
        {
         "args": [
          "unitcell"
         ],
         "component_index": 0,
         "kwargs": {
          "sele": "all"
         },
         "methodName": "addRepresentation",
         "reconstruc_color_scheme": false,
         "target": "compList",
         "type": "call_method"
        },
        {
         "args": [
          "spacefill"
         ],
         "component_index": 0,
         "kwargs": {
          "sele": "all"
         },
         "methodName": "addRepresentation",
         "reconstruc_color_scheme": false,
         "target": "compList",
         "type": "call_method"
        },
        {
         "args": [],
         "kwargs": {
          "cameraType": "orthographic"
         },
         "methodName": "setParameters",
         "reconstruc_color_scheme": false,
         "target": "Stage",
         "type": "call_method"
        },
        {
         "args": [
          {
           "clipDist": 0
          }
         ],
         "kwargs": {},
         "methodName": "setParameters",
         "reconstruc_color_scheme": false,
         "target": "Widget",
         "type": "call_method"
        },
        {
         "args": [
          "spacefill",
          0
         ],
         "kwargs": {
          "colorScale": "rainbow",
          "colorScheme": "element",
          "radiusScale": 0.5,
          "radiusType": "covalent"
         },
         "methodName": "updateRepresentationsByName",
         "reconstruc_color_scheme": false,
         "target": "Widget",
         "type": "call_method"
        },
        {
         "args": [
          "this._Q = [[1.0, 0.0, 0.0], [0.0, 1.0, 0.0], [0.0, 0.0, 1.0]]\n    var tooltip = document.createElement('div')\n    Object.assign(tooltip.style, {\n      display: 'none',\n      position: 'fixed',\n      zIndex: 10,\n      pointerEvents: 'none',\n      backgroundColor: 'rgba( 0, 0, 0, 0.6 )',\n      color: 'lightgrey',\n      padding: '8px',\n      fontFamily: 'sans-serif'\n    })\n    document.body.appendChild(tooltip)\n\n    var that = this\n    this.stage.mouseControls.remove('hoverPick')\n    this.stage.signals.hovered.add(function (pickingProxy) {\n      if (pickingProxy && (pickingProxy.atom || pickingProxy.bond)) {\n        var atom = pickingProxy.atom || pickingProxy.closestBondAtom\n        var mp = pickingProxy.mouse.position\n        //tooltip.innerText = atom.element + ' i=' + atom.index + ' (' + atom.x.toFixed(2) +  ', ' + atom.y.toFixed(2) +  ', ' + atom.z.toFixed(2) + ')'\n        //var pos = that._atoms_pos[atom.index]\n        var Q = that._Q\n        var pos_x = Q[0][0] * atom.x + Q[0][1] * atom.y + Q[0][2] * atom.z \n        var pos_y = Q[1][0] * atom.x + Q[1][1] * atom.y + Q[1][2] * atom.z\n        var pos_z = Q[2][0] * atom.x + Q[2][1] * atom.y + Q[2][2] * atom.z\n        tooltip.innerText = 'i=' + atom.index + ' ' + atom.element + ' (' + pos_x.toFixed(2) +  ', ' + pos_y.toFixed(2) +  ', ' + pos_z.toFixed(2) + ')'\n        tooltip.style.bottom = window.innerHeight - mp.y + 3 + 'px'\n        tooltip.style.left = mp.x + 3 + 'px'\n        tooltip.style.display = 'block'\n      } else {\n        tooltip.style.display = 'none'\n      }\n    })\n    "
         ],
         "kwargs": {},
         "methodName": "executeCode",
         "reconstruc_color_scheme": false,
         "target": "Widget",
         "type": "call_method"
        }
       ],
       "_ngl_original_stage_parameters": {
        "ambientColor": 14540253,
        "ambientIntensity": 0.2,
        "backgroundColor": "white",
        "cameraEyeSep": 0.3,
        "cameraFov": 40,
        "cameraType": "perspective",
        "clipDist": 10,
        "clipFar": 100,
        "clipNear": 0,
        "fogFar": 100,
        "fogNear": 50,
        "hoverTimeout": 0,
        "impostor": true,
        "lightColor": 14540253,
        "lightIntensity": 1,
        "mousePreset": "default",
        "panSpeed": 1,
        "quality": "medium",
        "rotateSpeed": 2,
        "sampleLevel": 0,
        "tooltip": true,
        "workerDefault": true,
        "zoomSpeed": 1.2
       },
       "_ngl_repr_dict": {
        "0": {
         "0": {
          "params": {
           "clipCenter": {
            "x": 0,
            "y": 0,
            "z": 0
           },
           "clipNear": 0,
           "clipRadius": 0,
           "colorMode": "hcl",
           "colorReverse": false,
           "colorScale": "",
           "colorScheme": "element",
           "colorValue": "orange",
           "defaultAssembly": "",
           "depthWrite": true,
           "diffuse": 16777215,
           "diffuseInterior": false,
           "disableImpostor": false,
           "disablePicking": false,
           "flatShaded": false,
           "interiorColor": 2236962,
           "interiorDarkening": 0,
           "lazy": false,
           "matrix": {
            "elements": [
             1,
             0,
             0,
             0,
             0,
             1,
             0,
             0,
             0,
             0,
             1,
             0,
             0,
             0,
             0,
             1
            ]
           },
           "metalness": 0,
           "opacity": 1,
           "quality": "medium",
           "radialSegments": 10,
           "radiusData": {},
           "radiusScale": 1,
           "radiusSize": 0.009999999561038853,
           "radiusType": "vdw",
           "roughness": 0.4,
           "sele": "all",
           "side": "double",
           "sphereDetail": 1,
           "useInteriorColor": true,
           "visible": true,
           "wireframe": false
          },
          "type": "unitcell"
         },
         "1": {
          "params": {
           "assembly": "default",
           "clipCenter": {
            "x": 0,
            "y": 0,
            "z": 0
           },
           "clipNear": 0,
           "clipRadius": 0,
           "colorMode": "hcl",
           "colorReverse": false,
           "colorScale": "rainbow",
           "colorScheme": "element",
           "colorValue": 9474192,
           "defaultAssembly": "",
           "depthWrite": true,
           "diffuse": 16777215,
           "diffuseInterior": false,
           "disableImpostor": false,
           "disablePicking": false,
           "flatShaded": false,
           "interiorColor": 2236962,
           "interiorDarkening": 0,
           "lazy": false,
           "matrix": {
            "elements": [
             1,
             0,
             0,
             0,
             0,
             1,
             0,
             0,
             0,
             0,
             1,
             0,
             0,
             0,
             0,
             1
            ]
           },
           "metalness": 0,
           "opacity": 1,
           "quality": "medium",
           "radiusData": {},
           "radiusScale": 0.5,
           "radiusSize": 1,
           "radiusType": "covalent",
           "roughness": 0.4,
           "sele": "all",
           "side": "double",
           "sphereDetail": 1,
           "useInteriorColor": true,
           "visible": true,
           "wireframe": false
          },
          "type": "spacefill"
         }
        }
       },
       "_ngl_serialize": false,
       "_ngl_version": "2.0.0-dev.36",
       "_ngl_view_id": [
        "A2066CEC-4757-4E2F-A5B6-BE268ABA2C1E"
       ],
       "_player_dict": {},
       "_scene_position": {},
       "_scene_rotation": {},
       "_synced_model_ids": [],
       "_synced_repr_model_ids": [],
       "_view_height": "",
       "_view_width": "",
       "background": "white",
       "frame": 0,
       "gui_style": null,
       "layout": "IPY_MODEL_5c778f8b4ff040b78ac5834e8c473b69",
       "max_frame": 0,
       "n_components": 1,
       "picked": {}
      }
     },
     "922c72a5e2f24dd297a6d3433de635fd": {
      "model_module": "@jupyter-widgets/controls",
      "model_module_version": "1.5.0",
      "model_name": "TextModel",
      "state": {
       "description": "Filename: ",
       "layout": "IPY_MODEL_f939bf63045240be90c9cfe88c28b6fa",
       "style": "IPY_MODEL_ba93f78e607a4b949a5d1decb4902fbc",
       "value": "screenshot.png"
      }
     },
     "9258912034ab4efda5bd883cb1b8ab29": {
      "model_module": "@jupyter-widgets/base",
      "model_module_version": "1.2.0",
      "model_name": "LayoutModel",
      "state": {}
     },
     "9269ca26930e433bbf4499952a779a9d": {
      "model_module": "@jupyter-widgets/controls",
      "model_module_version": "1.5.0",
      "model_name": "SliderStyleModel",
      "state": {
       "description_width": ""
      }
     },
     "9275cc6860e24623a3b47eff2f86333a": {
      "model_module": "@jupyter-widgets/output",
      "model_module_version": "1.0.0",
      "model_name": "OutputModel",
      "state": {
       "layout": "IPY_MODEL_f7ad1bcad4684bc69a168860b2f13067"
      }
     },
     "927ee048976944b5abf0494f68f85fcf": {
      "model_module": "@jupyter-widgets/controls",
      "model_module_version": "1.5.0",
      "model_name": "LinkModel",
      "state": {
       "source": [
        "IPY_MODEL_dd14e0c54e43411cacc3e6c1fb5f3e35",
        "value"
       ],
       "target": [
        "IPY_MODEL_4604ff8bb2114e17be4dbfe30e293857",
        "frame"
       ]
      }
     },
     "92e6472b29c04101b6338b2093223ad7": {
      "model_module": "@jupyter-widgets/controls",
      "model_module_version": "1.5.0",
      "model_name": "DescriptionStyleModel",
      "state": {
       "description_width": ""
      }
     },
     "9367fb97bac241b48e8dd1bdea9d6728": {
      "model_module": "@jupyter-widgets/controls",
      "model_module_version": "1.5.0",
      "model_name": "HBoxModel",
      "state": {
       "children": [
        "IPY_MODEL_1bdc33ae83774d6189c3b4b7034c8731",
        "IPY_MODEL_813fdc54adfe4fa7a7d5e6ef50335129"
       ],
       "layout": "IPY_MODEL_1e12f6d1fcc04003a800aa7cc1445bea"
      }
     },
     "936e09049a244ef28bd5deaf8ee9f460": {
      "model_module": "@jupyter-widgets/controls",
      "model_module_version": "1.5.0",
      "model_name": "CheckboxModel",
      "state": {
       "description": "Show charge",
       "disabled": false,
       "layout": "IPY_MODEL_3375ba437a4148fb86c930fef61a6dfe",
       "style": "IPY_MODEL_986713aed8a54dd8b78ee784d395e3a2",
       "value": false
      }
     },
     "939bc9c9f0d54063809d471cd23a6cc3": {
      "model_module": "@jupyter-widgets/controls",
      "model_module_version": "1.5.0",
      "model_name": "DescriptionStyleModel",
      "state": {
       "description_width": ""
      }
     },
     "93a39430f69a4cdc8bd7e4421f25ca6f": {
      "model_module": "@jupyter-widgets/controls",
      "model_module_version": "1.5.0",
      "model_name": "ButtonModel",
      "state": {
       "description": "Save image",
       "layout": "IPY_MODEL_b10f304c8b0748efbee4ebea152546df",
       "style": "IPY_MODEL_4f236b81315c4e939d0702fc48a015c4",
       "tooltip": "Save current frame to file.\nCurrently .png and .html are supported.\nIt takes a bit time, please be patient."
      }
     },
     "93aa7e52db2a4cb7846c899c87dcbcb8": {
      "model_module": "@jupyter-widgets/base",
      "model_module_version": "1.2.0",
      "model_name": "LayoutModel",
      "state": {}
     },
     "9644358afc6545fa9df9f17ca3997cbd": {
      "model_module": "@jupyter-widgets/base",
      "model_module_version": "1.2.0",
      "model_name": "LayoutModel",
      "state": {}
     },
     "966400c9b95e49f580958699ffad4660": {
      "model_module": "@jupyter-widgets/controls",
      "model_module_version": "1.5.0",
      "model_name": "CheckboxModel",
      "state": {
       "description": "Show charge",
       "disabled": false,
       "layout": "IPY_MODEL_149896132390401db1a81c94698c86f7",
       "style": "IPY_MODEL_72bc6f7d45f7410681491fe0e77a16bf",
       "value": false
      }
     },
     "96bbfd88be444b18a82daf26e5b5ecb3": {
      "model_module": "@jupyter-widgets/controls",
      "model_module_version": "1.5.0",
      "model_name": "LinkModel",
      "state": {
       "source": [
        "IPY_MODEL_e1c1ac15b55a4b62b2bc6d4ec4c17b21",
        "value"
       ],
       "target": [
        "IPY_MODEL_59898d5aef624c0994c498775a123f22",
        "frame"
       ]
      }
     },
     "9704cfa8a154440d8c11514c17046d4c": {
      "model_module": "@jupyter-widgets/base",
      "model_module_version": "1.2.0",
      "model_name": "LayoutModel",
      "state": {}
     },
     "981647e7e8b5449f9616edf3e193ae30": {
      "model_module": "@jupyter-widgets/controls",
      "model_module_version": "1.5.0",
      "model_name": "ButtonStyleModel",
      "state": {}
     },
     "983fd95d0ae543bb9002e94f63d36416": {
      "model_module": "@jupyter-widgets/controls",
      "model_module_version": "1.5.0",
      "model_name": "ButtonStyleModel",
      "state": {}
     },
     "986713aed8a54dd8b78ee784d395e3a2": {
      "model_module": "@jupyter-widgets/controls",
      "model_module_version": "1.5.0",
      "model_name": "DescriptionStyleModel",
      "state": {
       "description_width": ""
      }
     },
     "990585710a4a4206b437ad44bbd13cca": {
      "model_module": "@jupyter-widgets/base",
      "model_module_version": "1.2.0",
      "model_name": "LayoutModel",
      "state": {}
     },
     "993a0050e9264a49b0bc02baaed11bbe": {
      "model_module": "@jupyter-widgets/controls",
      "model_module_version": "1.5.0",
      "model_name": "DescriptionStyleModel",
      "state": {
       "description_width": ""
      }
     },
     "994488d793bd426591e6a6cae6546ad3": {
      "model_module": "@jupyter-widgets/base",
      "model_module_version": "1.2.0",
      "model_name": "LayoutModel",
      "state": {}
     },
     "99adcb7b636b46efa897f4b77ede2e03": {
      "model_module": "nglview-js-widgets",
      "model_module_version": "3.0.1",
      "model_name": "NGLModel",
      "state": {
       "_camera_orientation": [
        5.218917557404552,
        0,
        0,
        0,
        0,
        5.218917557404552,
        0,
        0,
        0,
        0,
        5.218917557404552,
        0,
        -1.0575000047683716,
        -1.0575000047683716,
        -1.0575000047683716,
        1
       ],
       "_camera_str": "orthographic",
       "_gui_theme": null,
       "_ibtn_fullscreen": "IPY_MODEL_76016cc99f414e558a3a0ef327d9641c",
       "_igui": null,
       "_iplayer": "IPY_MODEL_25fa3383cdc84de2a97a66ec49ff4995",
       "_ngl_color_dict": {},
       "_ngl_coordinate_resource": {},
       "_ngl_full_stage_parameters": {
        "ambientColor": 14540253,
        "ambientIntensity": 0.2,
        "backgroundColor": "white",
        "cameraEyeSep": 0.3,
        "cameraFov": 40,
        "cameraType": "orthographic",
        "clipDist": 0,
        "clipFar": 100,
        "clipNear": 0,
        "fogFar": 100,
        "fogNear": 50,
        "hoverTimeout": 0,
        "impostor": true,
        "lightColor": 14540253,
        "lightIntensity": 1,
        "mousePreset": "default",
        "panSpeed": 1,
        "quality": "medium",
        "rotateSpeed": 2,
        "sampleLevel": 0,
        "tooltip": true,
        "workerDefault": true,
        "zoomSpeed": 1.2
       },
       "_ngl_msg_archive": [
        {
         "args": [
          {
           "binary": false,
           "data": "CRYST1    4.230    4.230    4.230  90.00  90.00  90.00 P 1\nMODEL     1\nATOM      1   Na MOL     1       0.000   0.000   0.000  1.00  0.00          NA  \nATOM      2   Na MOL     1       2.115   2.115   2.115  1.00  0.00          NA  \nENDMDL\n",
           "type": "blob"
          }
         ],
         "kwargs": {
          "defaultRepresentation": false,
          "ext": "pdb"
         },
         "methodName": "loadFile",
         "reconstruc_color_scheme": false,
         "target": "Stage",
         "type": "call_method"
        },
        {
         "args": [
          "400px",
          "300px"
         ],
         "kwargs": {},
         "methodName": "setSize",
         "reconstruc_color_scheme": false,
         "target": "Widget",
         "type": "call_method"
        },
        {
         "args": [
          "unitcell"
         ],
         "component_index": 0,
         "kwargs": {
          "sele": "all"
         },
         "methodName": "addRepresentation",
         "reconstruc_color_scheme": false,
         "target": "compList",
         "type": "call_method"
        },
        {
         "args": [
          "spacefill"
         ],
         "component_index": 0,
         "kwargs": {
          "sele": "all"
         },
         "methodName": "addRepresentation",
         "reconstruc_color_scheme": false,
         "target": "compList",
         "type": "call_method"
        },
        {
         "args": [],
         "kwargs": {
          "cameraType": "orthographic"
         },
         "methodName": "setParameters",
         "reconstruc_color_scheme": false,
         "target": "Stage",
         "type": "call_method"
        },
        {
         "args": [
          {
           "clipDist": 0
          }
         ],
         "kwargs": {},
         "methodName": "setParameters",
         "reconstruc_color_scheme": false,
         "target": "Widget",
         "type": "call_method"
        },
        {
         "args": [
          "spacefill",
          0
         ],
         "kwargs": {
          "colorScale": "rainbow",
          "colorScheme": "element",
          "radiusScale": 0.5,
          "radiusType": "covalent"
         },
         "methodName": "updateRepresentationsByName",
         "reconstruc_color_scheme": false,
         "target": "Widget",
         "type": "call_method"
        },
        {
         "args": [
          "this._Q = [[1.0, 0.0, 0.0], [0.0, 1.0, 0.0], [0.0, 0.0, 1.0]]\n    var tooltip = document.createElement('div')\n    Object.assign(tooltip.style, {\n      display: 'none',\n      position: 'fixed',\n      zIndex: 10,\n      pointerEvents: 'none',\n      backgroundColor: 'rgba( 0, 0, 0, 0.6 )',\n      color: 'lightgrey',\n      padding: '8px',\n      fontFamily: 'sans-serif'\n    })\n    document.body.appendChild(tooltip)\n\n    var that = this\n    this.stage.mouseControls.remove('hoverPick')\n    this.stage.signals.hovered.add(function (pickingProxy) {\n      if (pickingProxy && (pickingProxy.atom || pickingProxy.bond)) {\n        var atom = pickingProxy.atom || pickingProxy.closestBondAtom\n        var mp = pickingProxy.mouse.position\n        //tooltip.innerText = atom.element + ' i=' + atom.index + ' (' + atom.x.toFixed(2) +  ', ' + atom.y.toFixed(2) +  ', ' + atom.z.toFixed(2) + ')'\n        //var pos = that._atoms_pos[atom.index]\n        var Q = that._Q\n        var pos_x = Q[0][0] * atom.x + Q[0][1] * atom.y + Q[0][2] * atom.z \n        var pos_y = Q[1][0] * atom.x + Q[1][1] * atom.y + Q[1][2] * atom.z\n        var pos_z = Q[2][0] * atom.x + Q[2][1] * atom.y + Q[2][2] * atom.z\n        tooltip.innerText = 'i=' + atom.index + ' ' + atom.element + ' (' + pos_x.toFixed(2) +  ', ' + pos_y.toFixed(2) +  ', ' + pos_z.toFixed(2) + ')'\n        tooltip.style.bottom = window.innerHeight - mp.y + 3 + 'px'\n        tooltip.style.left = mp.x + 3 + 'px'\n        tooltip.style.display = 'block'\n      } else {\n        tooltip.style.display = 'none'\n      }\n    })\n    "
         ],
         "kwargs": {},
         "methodName": "executeCode",
         "reconstruc_color_scheme": false,
         "target": "Widget",
         "type": "call_method"
        }
       ],
       "_ngl_original_stage_parameters": {
        "ambientColor": 14540253,
        "ambientIntensity": 0.2,
        "backgroundColor": "white",
        "cameraEyeSep": 0.3,
        "cameraFov": 40,
        "cameraType": "perspective",
        "clipDist": 10,
        "clipFar": 100,
        "clipNear": 0,
        "fogFar": 100,
        "fogNear": 50,
        "hoverTimeout": 0,
        "impostor": true,
        "lightColor": 14540253,
        "lightIntensity": 1,
        "mousePreset": "default",
        "panSpeed": 1,
        "quality": "medium",
        "rotateSpeed": 2,
        "sampleLevel": 0,
        "tooltip": true,
        "workerDefault": true,
        "zoomSpeed": 1.2
       },
       "_ngl_repr_dict": {
        "0": {
         "0": {
          "params": {
           "clipCenter": {
            "x": 0,
            "y": 0,
            "z": 0
           },
           "clipNear": 0,
           "clipRadius": 0,
           "colorMode": "hcl",
           "colorReverse": false,
           "colorScale": "",
           "colorScheme": "element",
           "colorValue": "orange",
           "defaultAssembly": "",
           "depthWrite": true,
           "diffuse": 16777215,
           "diffuseInterior": false,
           "disableImpostor": false,
           "disablePicking": false,
           "flatShaded": false,
           "interiorColor": 2236962,
           "interiorDarkening": 0,
           "lazy": false,
           "matrix": {
            "elements": [
             1,
             0,
             0,
             0,
             0,
             1,
             0,
             0,
             0,
             0,
             1,
             0,
             0,
             0,
             0,
             1
            ]
           },
           "metalness": 0,
           "opacity": 1,
           "quality": "medium",
           "radialSegments": 10,
           "radiusData": {},
           "radiusScale": 1,
           "radiusSize": 0.021149999071597175,
           "radiusType": "vdw",
           "roughness": 0.4,
           "sele": "all",
           "side": "double",
           "sphereDetail": 1,
           "useInteriorColor": true,
           "visible": true,
           "wireframe": false
          },
          "type": "unitcell"
         },
         "1": {
          "params": {
           "assembly": "default",
           "clipCenter": {
            "x": 0,
            "y": 0,
            "z": 0
           },
           "clipNear": 0,
           "clipRadius": 0,
           "colorMode": "hcl",
           "colorReverse": false,
           "colorScale": "rainbow",
           "colorScheme": "element",
           "colorValue": 9474192,
           "defaultAssembly": "",
           "depthWrite": true,
           "diffuse": 16777215,
           "diffuseInterior": false,
           "disableImpostor": false,
           "disablePicking": false,
           "flatShaded": false,
           "interiorColor": 2236962,
           "interiorDarkening": 0,
           "lazy": false,
           "matrix": {
            "elements": [
             1,
             0,
             0,
             0,
             0,
             1,
             0,
             0,
             0,
             0,
             1,
             0,
             0,
             0,
             0,
             1
            ]
           },
           "metalness": 0,
           "opacity": 1,
           "quality": "medium",
           "radiusData": {},
           "radiusScale": 0.5,
           "radiusSize": 1,
           "radiusType": "covalent",
           "roughness": 0.4,
           "sele": "all",
           "side": "double",
           "sphereDetail": 1,
           "useInteriorColor": true,
           "visible": true,
           "wireframe": false
          },
          "type": "spacefill"
         }
        }
       },
       "_ngl_serialize": false,
       "_ngl_version": "2.0.0-dev.36",
       "_ngl_view_id": [
        "FCDE87F8-9F41-4E16-BD52-0748691938EF"
       ],
       "_player_dict": {},
       "_scene_position": {},
       "_scene_rotation": {},
       "_synced_model_ids": [],
       "_synced_repr_model_ids": [],
       "_view_height": "",
       "_view_width": "",
       "background": "white",
       "frame": 0,
       "gui_style": null,
       "layout": "IPY_MODEL_15a086e753864a45ab2f84ffb2d5e3ba",
       "max_frame": 0,
       "n_components": 1,
       "picked": {}
      }
     },
     "99b799f936344daead27b95c673bad2b": {
      "model_module": "@jupyter-widgets/controls",
      "model_module_version": "1.5.0",
      "model_name": "DescriptionStyleModel",
      "state": {
       "description_width": ""
      }
     },
     "9a1d83a4d6274bcfad7c670e26edcda6": {
      "model_module": "@jupyter-widgets/base",
      "model_module_version": "1.2.0",
      "model_name": "LayoutModel",
      "state": {}
     },
     "9a7826a7c3904fdaa2df5d66335f29d4": {
      "model_module": "@jupyter-widgets/controls",
      "model_module_version": "1.5.0",
      "model_name": "FloatSliderModel",
      "state": {
       "description": "Force scale",
       "layout": "IPY_MODEL_e1b5b66c6f26486b8f8ca9a0ea6e488b",
       "step": 0.1,
       "style": "IPY_MODEL_12c622e6189b4271a8638db3859d4c62",
       "value": 0.5
      }
     },
     "9ab7d715cccb4f64a0ccb086c60852fa": {
      "model_module": "@jupyter-widgets/base",
      "model_module_version": "1.2.0",
      "model_name": "LayoutModel",
      "state": {}
     },
     "9b6e0965115a460b902f6fc8646e1060": {
      "model_module": "@jupyter-widgets/base",
      "model_module_version": "1.2.0",
      "model_name": "LayoutModel",
      "state": {}
     },
     "9c711f3e3fb3427cb47962cbbae892b4": {
      "model_module": "@jupyter-widgets/base",
      "model_module_version": "1.2.0",
      "model_name": "LayoutModel",
      "state": {}
     },
     "9d2305d6632049aabb1f4ffe3db2c382": {
      "model_module": "@jupyter-widgets/controls",
      "model_module_version": "1.5.0",
      "model_name": "FloatSliderModel",
      "state": {
       "description": "Charge scale",
       "layout": "IPY_MODEL_c31a4c90df8c4b76821a89138b957548",
       "step": 0.1,
       "style": "IPY_MODEL_2d780fe059274c06b8bdb730fb3ba3c2",
       "value": 1
      }
     },
     "9d43101fd05c4013ac2910980ac13492": {
      "model_module": "@jupyter-widgets/controls",
      "model_module_version": "1.5.0",
      "model_name": "IntSliderModel",
      "state": {
       "layout": "IPY_MODEL_990585710a4a4206b437ad44bbd13cca",
       "max": 0,
       "style": "IPY_MODEL_a7ee67e02ea34c45b1e21c3fff141e0e"
      }
     },
     "9e0d30e93bde4f2fada19a4173ffd086": {
      "model_module": "@jupyter-widgets/controls",
      "model_module_version": "1.5.0",
      "model_name": "ButtonStyleModel",
      "state": {}
     },
     "9e41f30b3f0e45c4bde71c8c4e209fb5": {
      "model_module": "@jupyter-widgets/output",
      "model_module_version": "1.0.0",
      "model_name": "OutputModel",
      "state": {
       "layout": "IPY_MODEL_c9992d380763451fa3d272a019721ba4"
      }
     },
     "9ec22a8b25864c0597758a938d8ce9cf": {
      "model_module": "@jupyter-widgets/controls",
      "model_module_version": "1.5.0",
      "model_name": "DescriptionStyleModel",
      "state": {
       "description_width": ""
      }
     },
     "9ed7b83603cb402694f15db40604a8e1": {
      "model_module": "@jupyter-widgets/base",
      "model_module_version": "1.2.0",
      "model_name": "LayoutModel",
      "state": {}
     },
     "a040daaf32f14c5c8b525edefef24eca": {
      "model_module": "@jupyter-widgets/controls",
      "model_module_version": "1.5.0",
      "model_name": "DescriptionStyleModel",
      "state": {
       "description_width": ""
      }
     },
     "a0f33b634bc74577aa8f65267d40893c": {
      "model_module": "@jupyter-widgets/controls",
      "model_module_version": "1.5.0",
      "model_name": "SliderStyleModel",
      "state": {
       "description_width": ""
      }
     },
     "a1140ec494f94f439980f3259d765424": {
      "model_module": "@jupyter-widgets/controls",
      "model_module_version": "1.5.0",
      "model_name": "DescriptionStyleModel",
      "state": {
       "description_width": ""
      }
     },
     "a11f57252193452693743315ea55f5c6": {
      "model_module": "@jupyter-widgets/base",
      "model_module_version": "1.2.0",
      "model_name": "LayoutModel",
      "state": {}
     },
     "a1a1aae552ad4738aed278b9cb59a126": {
      "model_module": "@jupyter-widgets/controls",
      "model_module_version": "1.5.0",
      "model_name": "LinkModel",
      "state": {
       "source": [
        "IPY_MODEL_eeaf0ece09c14d068a6629638747f2b1",
        "value"
       ],
       "target": [
        "IPY_MODEL_1bdc33ae83774d6189c3b4b7034c8731",
        "frame"
       ]
      }
     },
     "a1a87c16ea8e4810852d72da3a050dc8": {
      "model_module": "@jupyter-widgets/controls",
      "model_module_version": "1.5.0",
      "model_name": "IntSliderModel",
      "state": {
       "layout": "IPY_MODEL_149c2f896aec4dd88a99af79b43a47c4",
       "max": 0,
       "style": "IPY_MODEL_7933b0a5d0044bd0acf687e4e552b96b"
      }
     },
     "a1f6209bc7214412b9d55aee09f3bfb7": {
      "model_module": "@jupyter-widgets/base",
      "model_module_version": "1.2.0",
      "model_name": "LayoutModel",
      "state": {}
     },
     "a29358dfcce94ad093e7fb9732f50ca1": {
      "model_module": "@jupyter-widgets/base",
      "model_module_version": "1.2.0",
      "model_name": "LayoutModel",
      "state": {}
     },
     "a2fe9932bed340329dfcfd281404fbb4": {
      "model_module": "@jupyter-widgets/controls",
      "model_module_version": "1.5.0",
      "model_name": "FloatSliderModel",
      "state": {
       "description": "Charge scale",
       "layout": "IPY_MODEL_a81c68a8182542ff80644d1cc530a2d2",
       "step": 0.1,
       "style": "IPY_MODEL_dd5e49e3bffa4826a2fe1b4253e7ba3f",
       "value": 1
      }
     },
     "a347bd2f209d44bd8a59286a3220d15a": {
      "model_module": "@jupyter-widgets/base",
      "model_module_version": "1.2.0",
      "model_name": "LayoutModel",
      "state": {}
     },
     "a3e5e8e18efd4108a8635cb4c5ad2e66": {
      "model_module": "@jupyter-widgets/base",
      "model_module_version": "1.2.0",
      "model_name": "LayoutModel",
      "state": {}
     },
     "a427e1ed37784b878cd43978975f7a72": {
      "model_module": "@jupyter-widgets/controls",
      "model_module_version": "1.5.0",
      "model_name": "DescriptionStyleModel",
      "state": {
       "description_width": ""
      }
     },
     "a436cc19fe3149fca3cdd83b36feb6b0": {
      "model_module": "@jupyter-widgets/base",
      "model_module_version": "1.2.0",
      "model_name": "LayoutModel",
      "state": {}
     },
     "a4fd12b8ee73486d95b863403a1d32d9": {
      "model_module": "@jupyter-widgets/controls",
      "model_module_version": "1.5.0",
      "model_name": "ButtonStyleModel",
      "state": {}
     },
     "a515ea46f3da4cbabb8fda2a34124129": {
      "model_module": "@jupyter-widgets/controls",
      "model_module_version": "1.5.0",
      "model_name": "FloatSliderModel",
      "state": {
       "description": "Charge scale",
       "layout": "IPY_MODEL_44100d87432d41b8b3465f4957f5bf0e",
       "step": 0.1,
       "style": "IPY_MODEL_297b6b0dd14c405a812b7ab762741729",
       "value": 1
      }
     },
     "a597514ba67a46b38ce83262b39368fe": {
      "model_module": "@jupyter-widgets/controls",
      "model_module_version": "1.5.0",
      "model_name": "LinkModel",
      "state": {
       "source": [
        "IPY_MODEL_da5ab7e554cd4456bcb7c711aae22697",
        "max"
       ],
       "target": [
        "IPY_MODEL_99adcb7b636b46efa897f4b77ede2e03",
        "max_frame"
       ]
      }
     },
     "a597eb48ff2c4fcb8bb60f293ead2e53": {
      "model_module": "@jupyter-widgets/controls",
      "model_module_version": "1.5.0",
      "model_name": "ImageModel",
      "state": {
       "layout": "IPY_MODEL_93aa7e52db2a4cb7846c899c87dcbcb8",
       "width": "900.0"
      }
     },
     "a69d2bc5a8ae4b2d8b1b93864b3d7ae3": {
      "model_module": "@jupyter-widgets/controls",
      "model_module_version": "1.5.0",
      "model_name": "SliderStyleModel",
      "state": {
       "description_width": ""
      }
     },
     "a7c8c761f3234eacafd01214cd973ec2": {
      "model_module": "@jupyter-widgets/base",
      "model_module_version": "1.2.0",
      "model_name": "LayoutModel",
      "state": {}
     },
     "a7ee67e02ea34c45b1e21c3fff141e0e": {
      "model_module": "@jupyter-widgets/controls",
      "model_module_version": "1.5.0",
      "model_name": "SliderStyleModel",
      "state": {
       "description_width": ""
      }
     },
     "a7ee8375fe0340f195bead309f61f7db": {
      "model_module": "@jupyter-widgets/controls",
      "model_module_version": "1.5.0",
      "model_name": "LinkModel",
      "state": {
       "source": [
        "IPY_MODEL_e56efb82c269407fb4007a103f126ba9",
        "value"
       ],
       "target": [
        "IPY_MODEL_4043796bf1d74e4582082995b8149a61",
        "value"
       ]
      }
     },
     "a7fc2852afa340d2a3e85e9714343386": {
      "model_module": "@jupyter-widgets/output",
      "model_module_version": "1.0.0",
      "model_name": "OutputModel",
      "state": {
       "layout": "IPY_MODEL_f6e17d2f5cbc4b35bd99c8fbd52d3adc"
      }
     },
     "a81c68a8182542ff80644d1cc530a2d2": {
      "model_module": "@jupyter-widgets/base",
      "model_module_version": "1.2.0",
      "model_name": "LayoutModel",
      "state": {}
     },
     "a874cb970e2a49abb8658b660a3d53c7": {
      "model_module": "@jupyter-widgets/base",
      "model_module_version": "1.2.0",
      "model_name": "LayoutModel",
      "state": {}
     },
     "a8bef84255db48c1abb0e3054565ae0f": {
      "model_module": "@jupyter-widgets/controls",
      "model_module_version": "1.5.0",
      "model_name": "CheckboxModel",
      "state": {
       "description": "Show force",
       "disabled": false,
       "layout": "IPY_MODEL_8360ec1008414e93918c81398018c49f",
       "style": "IPY_MODEL_22d9a9e0521841b194c39320a7592870",
       "value": false
      }
     },
     "a8f13918f1544f75b929231caa2deb23": {
      "model_module": "@jupyter-widgets/controls",
      "model_module_version": "1.5.0",
      "model_name": "FloatSliderModel",
      "state": {
       "description": "Force scale",
       "layout": "IPY_MODEL_a29358dfcce94ad093e7fb9732f50ca1",
       "step": 0.1,
       "style": "IPY_MODEL_2853dff6de3142d689d15aa748aed40a",
       "value": 0.5
      }
     },
     "a8f7d33352254698ae55a4ec9f8fb82f": {
      "model_module": "@jupyter-widgets/controls",
      "model_module_version": "1.5.0",
      "model_name": "FloatSliderModel",
      "state": {
       "description": "Ball size",
       "layout": "IPY_MODEL_41d51b67650c4022a3ab075c93691b3b",
       "max": 1.5,
       "step": 0.01,
       "style": "IPY_MODEL_918c055c9a0748cd8ec4e3b1360160af",
       "value": 0.5
      }
     },
     "a97f859f4c93409da75141ac53b72699": {
      "model_module": "@jupyter-widgets/controls",
      "model_module_version": "1.5.0",
      "model_name": "DropdownModel",
      "state": {
       "_options_labels": [
        " ",
        "picking",
        "random",
        "uniform",
        "atomindex",
        "residueindex",
        "chainindex",
        "modelindex",
        "sstruc",
        "element",
        "resname",
        "bfactor",
        "hydrophobicity",
        "value",
        "volume",
        "occupancy"
       ],
       "description": "Color scheme",
       "index": 9,
       "layout": "IPY_MODEL_28712bdd029447aab6657f9a70f1d3b6",
       "style": "IPY_MODEL_651e229d06474cb0a4a963eeb7e7a943"
      }
     },
     "a989af0dcde74c76a0da7e23572a22e4": {
      "model_module": "@jupyter-widgets/controls",
      "model_module_version": "1.5.0",
      "model_name": "ButtonStyleModel",
      "state": {}
     },
     "aa16ee1924454d6db47d91b4ea0de307": {
      "model_module": "@jupyter-widgets/controls",
      "model_module_version": "1.5.0",
      "model_name": "HBoxModel",
      "state": {
       "children": [
        "IPY_MODEL_3c0f208452ac47b8bf35a4bfc5900e09",
        "IPY_MODEL_ce0523f5c9a5471a8245b48db441b903"
       ],
       "layout": "IPY_MODEL_bf866c748df44643b82bbeb5e84bae1e"
      }
     },
     "abe81c9900964673bf7471b710a4ee82": {
      "model_module": "@jupyter-widgets/base",
      "model_module_version": "1.2.0",
      "model_name": "LayoutModel",
      "state": {}
     },
     "abfd328048a0452abdda50a6dcc2f6d4": {
      "model_module": "@jupyter-widgets/controls",
      "model_module_version": "1.5.0",
      "model_name": "DescriptionStyleModel",
      "state": {
       "description_width": ""
      }
     },
     "ac3c0339b1734c02914284fb9cd4bbaa": {
      "model_module": "@jupyter-widgets/controls",
      "model_module_version": "1.5.0",
      "model_name": "FloatSliderModel",
      "state": {
       "description": "Charge scale",
       "layout": "IPY_MODEL_8f9ef4af81214db885439edfa69cf73f",
       "step": 0.1,
       "style": "IPY_MODEL_5115b5294e6e450c843fa3a289d36cfd",
       "value": 1
      }
     },
     "acda21fa699641c89ec3bcded266527d": {
      "model_module": "@jupyter-widgets/controls",
      "model_module_version": "1.5.0",
      "model_name": "PlayModel",
      "state": {
       "layout": "IPY_MODEL_7d0c72c083494da3a083394cc140eece",
       "max": 0,
       "style": "IPY_MODEL_3562c51f1aa146c5a0703c1bee935491"
      }
     },
     "acf952dc1c014b5c99ed46346dc4c4fd": {
      "model_module": "@jupyter-widgets/base",
      "model_module_version": "1.2.0",
      "model_name": "LayoutModel",
      "state": {}
     },
     "ad25fbca67424723a446eeaeb0841068": {
      "model_module": "@jupyter-widgets/base",
      "model_module_version": "1.2.0",
      "model_name": "LayoutModel",
      "state": {
       "width": "34px"
      }
     },
     "ad7dae210d804ecbab2797affad24584": {
      "model_module": "@jupyter-widgets/controls",
      "model_module_version": "1.5.0",
      "model_name": "ImageModel",
      "state": {
       "layout": "IPY_MODEL_f13ae1cabcbb4445a928eb2ef65fc11f",
       "width": "900.0"
      }
     },
     "addea80145e949a3a5189e57b72354b2": {
      "model_module": "@jupyter-widgets/base",
      "model_module_version": "1.2.0",
      "model_name": "LayoutModel",
      "state": {}
     },
     "ae567875efe54c1b9e3be2766da58aba": {
      "model_module": "@jupyter-widgets/base",
      "model_module_version": "1.2.0",
      "model_name": "LayoutModel",
      "state": {}
     },
     "aee8134624db4df3a3b7634d47123619": {
      "model_module": "@jupyter-widgets/base",
      "model_module_version": "1.2.0",
      "model_name": "LayoutModel",
      "state": {}
     },
     "af3124e76b414c6ab024657a5b6f0936": {
      "model_module": "@jupyter-widgets/controls",
      "model_module_version": "1.5.0",
      "model_name": "LinkModel",
      "state": {
       "source": [
        "IPY_MODEL_eeaf0ece09c14d068a6629638747f2b1",
        "value"
       ],
       "target": [
        "IPY_MODEL_d34eb74015624e62a19b069261be2cd7",
        "value"
       ]
      }
     },
     "af4ac58246c84b4d85266abcd124e09d": {
      "model_module": "@jupyter-widgets/controls",
      "model_module_version": "1.5.0",
      "model_name": "ButtonStyleModel",
      "state": {}
     },
     "af80d34f607443e085f84d06c1f2ece8": {
      "model_module": "@jupyter-widgets/base",
      "model_module_version": "1.2.0",
      "model_name": "LayoutModel",
      "state": {
       "border": "0px solid black"
      }
     },
     "af8bbfdf0cb44d67b3ae64f70a3ba088": {
      "model_module": "@jupyter-widgets/base",
      "model_module_version": "1.2.0",
      "model_name": "LayoutModel",
      "state": {}
     },
     "afec009c87434f65bcb908406e0eca80": {
      "model_module": "@jupyter-widgets/controls",
      "model_module_version": "1.5.0",
      "model_name": "CheckboxModel",
      "state": {
       "description": "Show force",
       "disabled": false,
       "layout": "IPY_MODEL_1d1a1658fb2246c6a63cc8112778b73d",
       "style": "IPY_MODEL_6973a460a857477ab2e41e37ef9a808b",
       "value": false
      }
     },
     "b016617fbedc4f2abe2a4d276d6ffad4": {
      "model_module": "@jupyter-widgets/controls",
      "model_module_version": "1.5.0",
      "model_name": "SliderStyleModel",
      "state": {
       "description_width": ""
      }
     },
     "b04f93ac12a5447e8e7443e9c8234416": {
      "model_module": "@jupyter-widgets/base",
      "model_module_version": "1.2.0",
      "model_name": "LayoutModel",
      "state": {}
     },
     "b10f304c8b0748efbee4ebea152546df": {
      "model_module": "@jupyter-widgets/base",
      "model_module_version": "1.2.0",
      "model_name": "LayoutModel",
      "state": {}
     },
     "b11445a9fd924cb6bb94243e9eec4b5f": {
      "model_module": "@jupyter-widgets/controls",
      "model_module_version": "1.5.0",
      "model_name": "FloatSliderModel",
      "state": {
       "description": "Charge scale",
       "layout": "IPY_MODEL_a436cc19fe3149fca3cdd83b36feb6b0",
       "step": 0.1,
       "style": "IPY_MODEL_ff45afaf086a4b25aa7e5e5acd610f26",
       "value": 1
      }
     },
     "b192e098b10d44d9ad4ac4e46c21c291": {
      "model_module": "@jupyter-widgets/base",
      "model_module_version": "1.2.0",
      "model_name": "LayoutModel",
      "state": {}
     },
     "b1cc644666634ce4bc30807057b97d45": {
      "model_module": "@jupyter-widgets/controls",
      "model_module_version": "1.5.0",
      "model_name": "ButtonModel",
      "state": {
       "description": "Download image",
       "layout": "IPY_MODEL_0be64904389646a1af33f720c5f390a3",
       "style": "IPY_MODEL_680b060c679f48019dab8f84527bb6fa",
       "tooltip": "Download current frame to your local PC"
      }
     },
     "b22bdb8e4a1f44edad55f9b6ec89b14c": {
      "model_module": "@jupyter-widgets/controls",
      "model_module_version": "1.5.0",
      "model_name": "DropdownModel",
      "state": {
       "_options_labels": [
        " ",
        "picking",
        "random",
        "uniform",
        "atomindex",
        "residueindex",
        "chainindex",
        "modelindex",
        "sstruc",
        "element",
        "resname",
        "bfactor",
        "hydrophobicity",
        "value",
        "volume",
        "occupancy"
       ],
       "description": "Color scheme",
       "index": 9,
       "layout": "IPY_MODEL_27cb30fbbd5847c2a18ac29aedbc562a",
       "style": "IPY_MODEL_a427e1ed37784b878cd43978975f7a72"
      }
     },
     "b27c24bc52d64a75994bca5e5fe2d28b": {
      "model_module": "@jupyter-widgets/controls",
      "model_module_version": "1.5.0",
      "model_name": "ImageModel",
      "state": {
       "layout": "IPY_MODEL_cc5f8e79ff4a497ca5aec248189fb3e3",
       "width": "900.0"
      }
     },
     "b2daf6a19f2e493f8eac2b4a3e98f744": {
      "model_module": "@jupyter-widgets/base",
      "model_module_version": "1.2.0",
      "model_name": "LayoutModel",
      "state": {}
     },
     "b33322561f774bdf97966b6ebc44b489": {
      "model_module": "@jupyter-widgets/controls",
      "model_module_version": "1.5.0",
      "model_name": "HBoxModel",
      "state": {
       "children": [
        "IPY_MODEL_1ee358c0d9704d1cb7e1fb67b93d75e1",
        "IPY_MODEL_65b6aff21a0442a88bdacf16879d1bed"
       ],
       "layout": "IPY_MODEL_0b9492560446432593d841efbec6e53d"
      }
     },
     "b37b23ebd9b74fe2970f52dd9789685a": {
      "model_module": "@jupyter-widgets/base",
      "model_module_version": "1.2.0",
      "model_name": "LayoutModel",
      "state": {}
     },
     "b3b673ba14a6487ba6468514f1186313": {
      "model_module": "@jupyter-widgets/controls",
      "model_module_version": "1.5.0",
      "model_name": "HBoxModel",
      "state": {
       "children": [
        "IPY_MODEL_20fc3eca1a364ecbb0432b29a6267288",
        "IPY_MODEL_29fac8f0454e4d80abc3650c6e7084ef"
       ],
       "layout": "IPY_MODEL_d04181c934b743438375ce248d88004d"
      }
     },
     "b450fc43634a4fd6b90da5494051bb69": {
      "model_module": "@jupyter-widgets/controls",
      "model_module_version": "1.5.0",
      "model_name": "HBoxModel",
      "state": {
       "children": [
        "IPY_MODEL_91fdf504462d47c1bc3208092d42444a",
        "IPY_MODEL_628f0c2645dc4130901fea60e3227556"
       ],
       "layout": "IPY_MODEL_c5389ac492f24ec6a814139e37733a25"
      }
     },
     "b505f5899a6d4ca090a63da7d0ed9c05": {
      "model_module": "@jupyter-widgets/base",
      "model_module_version": "1.2.0",
      "model_name": "LayoutModel",
      "state": {}
     },
     "b5c20e0b026f42e38fd344bede6234b4": {
      "model_module": "@jupyter-widgets/controls",
      "model_module_version": "1.5.0",
      "model_name": "SliderStyleModel",
      "state": {
       "description_width": ""
      }
     },
     "b6b3486a361e4cc5b8b9faedb55338f3": {
      "model_module": "@jupyter-widgets/controls",
      "model_module_version": "1.5.0",
      "model_name": "HBoxModel",
      "state": {
       "children": [
        "IPY_MODEL_e1c1ac15b55a4b62b2bc6d4ec4c17b21",
        "IPY_MODEL_25bc7e5b67f44766a91f9a0e530a538e"
       ],
       "layout": "IPY_MODEL_8670212a93664a04a43f04abb27b52e0"
      }
     },
     "b6d0b1af97be45d9b0a9d9183bd07da9": {
      "model_module": "@jupyter-widgets/controls",
      "model_module_version": "1.5.0",
      "model_name": "LinkModel",
      "state": {
       "source": [
        "IPY_MODEL_da5ab7e554cd4456bcb7c711aae22697",
        "value"
       ],
       "target": [
        "IPY_MODEL_9d43101fd05c4013ac2910980ac13492",
        "value"
       ]
      }
     },
     "b7705c53fe924563a70aa96a1bbc6209": {
      "model_module": "@jupyter-widgets/output",
      "model_module_version": "1.0.0",
      "model_name": "OutputModel",
      "state": {
       "layout": "IPY_MODEL_fe0fbb65ed14424f930ea48318bb2b30"
      }
     },
     "b7a16c4266294d6f8c0244239c601f75": {
      "model_module": "@jupyter-widgets/controls",
      "model_module_version": "1.5.0",
      "model_name": "LinkModel",
      "state": {
       "source": [
        "IPY_MODEL_eeaf0ece09c14d068a6629638747f2b1",
        "max"
       ],
       "target": [
        "IPY_MODEL_1bdc33ae83774d6189c3b4b7034c8731",
        "max_frame"
       ]
      }
     },
     "b82f6a58f26a45bcbd8359f4d2eceb76": {
      "model_module": "@jupyter-widgets/base",
      "model_module_version": "1.2.0",
      "model_name": "LayoutModel",
      "state": {}
     },
     "b8b05cda16514b6db59f0db31dcfffe7": {
      "model_module": "@jupyter-widgets/controls",
      "model_module_version": "1.5.0",
      "model_name": "ImageModel",
      "state": {
       "layout": "IPY_MODEL_7b8dee11d0cd4817b3958caccd509328",
       "width": "900.0"
      }
     },
     "b8d7aa7330ad4b16aa0d0e163a2953a5": {
      "model_module": "@jupyter-widgets/base",
      "model_module_version": "1.2.0",
      "model_name": "LayoutModel",
      "state": {}
     },
     "b986e044f0d44a338c3862fdcd0cd210": {
      "model_module": "@jupyter-widgets/base",
      "model_module_version": "1.2.0",
      "model_name": "LayoutModel",
      "state": {}
     },
     "b9c8a64cb3934668a781628880d7e82a": {
      "model_module": "@jupyter-widgets/base",
      "model_module_version": "1.2.0",
      "model_name": "LayoutModel",
      "state": {}
     },
     "ba93f78e607a4b949a5d1decb4902fbc": {
      "model_module": "@jupyter-widgets/controls",
      "model_module_version": "1.5.0",
      "model_name": "DescriptionStyleModel",
      "state": {
       "description_width": ""
      }
     },
     "bb5cff4de4244c1eba4611c90fed4161": {
      "model_module": "@jupyter-widgets/base",
      "model_module_version": "1.2.0",
      "model_name": "LayoutModel",
      "state": {}
     },
     "bbad225c11464ae78b2abd161265cf5d": {
      "model_module": "@jupyter-widgets/base",
      "model_module_version": "1.2.0",
      "model_name": "LayoutModel",
      "state": {}
     },
     "bbd44a5948824e7faf2b8e7b674c7ea7": {
      "model_module": "@jupyter-widgets/base",
      "model_module_version": "1.2.0",
      "model_name": "LayoutModel",
      "state": {}
     },
     "bc6de9a0854542559f2e2ba488c3f30b": {
      "model_module": "@jupyter-widgets/controls",
      "model_module_version": "1.5.0",
      "model_name": "ButtonModel",
      "state": {
       "description": "Download image",
       "layout": "IPY_MODEL_15744fe051f54d499147cd4ef4b2608c",
       "style": "IPY_MODEL_2d1f038cff9a4806b7f320ebe050f912",
       "tooltip": "Download current frame to your local PC"
      }
     },
     "bc93e0b7f75f4dc9b40da0724e51e5de": {
      "model_module": "@jupyter-widgets/base",
      "model_module_version": "1.2.0",
      "model_name": "LayoutModel",
      "state": {}
     },
     "bd73b19dc30a44eebd6bbefc26784a68": {
      "model_module": "@jupyter-widgets/base",
      "model_module_version": "1.2.0",
      "model_name": "LayoutModel",
      "state": {}
     },
     "bd7b297a71924d1d9c037e21494b8c60": {
      "model_module": "@jupyter-widgets/controls",
      "model_module_version": "1.5.0",
      "model_name": "ButtonStyleModel",
      "state": {}
     },
     "be674da4b9f74c319bd18eaf04a31887": {
      "model_module": "@jupyter-widgets/controls",
      "model_module_version": "1.5.0",
      "model_name": "FloatSliderModel",
      "state": {
       "description": "Ball size",
       "layout": "IPY_MODEL_331c18857b2a41a5996c93f4a6fe9c24",
       "max": 1.5,
       "step": 0.01,
       "style": "IPY_MODEL_d427fdd4d63d4caba8ff44fc051c272c",
       "value": 0.5
      }
     },
     "bf1d929d2cd54f1cb4e506fca8a9a539": {
      "model_module": "@jupyter-widgets/controls",
      "model_module_version": "1.5.0",
      "model_name": "SliderStyleModel",
      "state": {
       "description_width": ""
      }
     },
     "bf7e67c79b264af99f8c62334cfd9243": {
      "model_module": "@jupyter-widgets/controls",
      "model_module_version": "1.5.0",
      "model_name": "ImageModel",
      "state": {
       "layout": "IPY_MODEL_3fc36159a20e48d4a1be66f72c2e2c04",
       "width": "900.0"
      }
     },
     "bf866c748df44643b82bbeb5e84bae1e": {
      "model_module": "@jupyter-widgets/base",
      "model_module_version": "1.2.0",
      "model_name": "LayoutModel",
      "state": {}
     },
     "bfcec36420d54ee3ae5cbc83ce563f62": {
      "model_module": "@jupyter-widgets/controls",
      "model_module_version": "1.5.0",
      "model_name": "DescriptionStyleModel",
      "state": {
       "description_width": ""
      }
     },
     "bffc9ba28813414d85e522af9c24d4d2": {
      "model_module": "@jupyter-widgets/controls",
      "model_module_version": "1.5.0",
      "model_name": "HBoxModel",
      "state": {
       "children": [
        "IPY_MODEL_bc6de9a0854542559f2e2ba488c3f30b",
        "IPY_MODEL_897c5a224ffd4198b6ba15e7dad2d652"
       ],
       "layout": "IPY_MODEL_60e75de1880944ffb478d74705d43dec"
      }
     },
     "bffe70b6151448acb5d22a95c28334ef": {
      "model_module": "@jupyter-widgets/controls",
      "model_module_version": "1.5.0",
      "model_name": "FloatSliderModel",
      "state": {
       "description": "Ball size",
       "layout": "IPY_MODEL_f25ab6bcf06d41ff972da9cf6215a6f9",
       "max": 1.5,
       "step": 0.01,
       "style": "IPY_MODEL_64c1b6ec39d947bc9c6313444b736779",
       "value": 0.5
      }
     },
     "c03e6521ef87437e957ea7c854359613": {
      "model_module": "@jupyter-widgets/controls",
      "model_module_version": "1.5.0",
      "model_name": "LinkModel",
      "state": {
       "source": [
        "IPY_MODEL_20fc3eca1a364ecbb0432b29a6267288",
        "value"
       ],
       "target": [
        "IPY_MODEL_29fac8f0454e4d80abc3650c6e7084ef",
        "value"
       ]
      }
     },
     "c09a8faf45f84b4ea55c1a35da119fd3": {
      "model_module": "@jupyter-widgets/controls",
      "model_module_version": "1.5.0",
      "model_name": "SliderStyleModel",
      "state": {
       "description_width": ""
      }
     },
     "c0afa09d468243dd8afa7d6c5d0c1639": {
      "model_module": "@jupyter-widgets/controls",
      "model_module_version": "1.5.0",
      "model_name": "HBoxModel",
      "state": {
       "children": [
        "IPY_MODEL_cd4e3156e0a042849ba4d1ea08611882",
        "IPY_MODEL_a1a87c16ea8e4810852d72da3a050dc8"
       ],
       "layout": "IPY_MODEL_03847b5195104f22bbcfe091035ee814"
      }
     },
     "c0d8c1511bfb4734bc41144b1ecd9211": {
      "model_module": "@jupyter-widgets/controls",
      "model_module_version": "1.5.0",
      "model_name": "FloatSliderModel",
      "state": {
       "description": "Ball size",
       "layout": "IPY_MODEL_6fb1593c9bbf4d66ab59c49752e4b833",
       "max": 1.5,
       "step": 0.01,
       "style": "IPY_MODEL_a69d2bc5a8ae4b2d8b1b93864b3d7ae3",
       "value": 0.5
      }
     },
     "c1243b541f664bc0bc415d39316059c6": {
      "model_module": "@jupyter-widgets/base",
      "model_module_version": "1.2.0",
      "model_name": "LayoutModel",
      "state": {
       "width": "34px"
      }
     },
     "c1641d176ae54624b3f78ebe8446676d": {
      "model_module": "@jupyter-widgets/controls",
      "model_module_version": "1.5.0",
      "model_name": "HBoxModel",
      "state": {
       "children": [
        "IPY_MODEL_5199213c9a89446ea00be64fa9664db1",
        "IPY_MODEL_93a39430f69a4cdc8bd7e4421f25ca6f"
       ],
       "layout": "IPY_MODEL_04eba6ec20134989ad1bdf98ddee96fe"
      }
     },
     "c1a933dc405f47d4a24dca001ae45e8c": {
      "model_module": "@jupyter-widgets/controls",
      "model_module_version": "1.5.0",
      "model_name": "FloatSliderModel",
      "state": {
       "description": "Force scale",
       "layout": "IPY_MODEL_f8a57e42cc9f4a489f1c66e29144b5f5",
       "step": 0.1,
       "style": "IPY_MODEL_586922357c824a32a81741196c887970",
       "value": 0.5
      }
     },
     "c24d3fc69f6744168450e4c21967d766": {
      "model_module": "@jupyter-widgets/controls",
      "model_module_version": "1.5.0",
      "model_name": "CheckboxModel",
      "state": {
       "description": "Show charge",
       "disabled": false,
       "layout": "IPY_MODEL_3019924288eb4b41b06e350abc1c50f8",
       "style": "IPY_MODEL_7e65649b914341c1b4f6dfa9dfe70af2",
       "value": false
      }
     },
     "c31a4c90df8c4b76821a89138b957548": {
      "model_module": "@jupyter-widgets/base",
      "model_module_version": "1.2.0",
      "model_name": "LayoutModel",
      "state": {}
     },
     "c389cb6347884f5fb87283cc8fe538c5": {
      "model_module": "@jupyter-widgets/controls",
      "model_module_version": "1.5.0",
      "model_name": "ButtonModel",
      "state": {
       "icon": "compress",
       "layout": "IPY_MODEL_7909f5ec87984e88b369309a0b8a3bf4",
       "style": "IPY_MODEL_c67f94cc34df4ffd9a533666383d8a22"
      }
     },
     "c4b54e49eeec42bb848ce3f102e01002": {
      "model_module": "@jupyter-widgets/controls",
      "model_module_version": "1.5.0",
      "model_name": "DescriptionStyleModel",
      "state": {
       "description_width": ""
      }
     },
     "c5389ac492f24ec6a814139e37733a25": {
      "model_module": "@jupyter-widgets/base",
      "model_module_version": "1.2.0",
      "model_name": "LayoutModel",
      "state": {}
     },
     "c57088418b5a4aa7822165bb4896a4d1": {
      "model_module": "@jupyter-widgets/controls",
      "model_module_version": "1.5.0",
      "model_name": "FloatSliderModel",
      "state": {
       "description": "Ball size",
       "layout": "IPY_MODEL_0437f5c208774f3ea1ca4ae7a9d980fc",
       "max": 1.5,
       "step": 0.01,
       "style": "IPY_MODEL_b016617fbedc4f2abe2a4d276d6ffad4",
       "value": 0.5
      }
     },
     "c57fb91123f84cf791ec781ef4554c1f": {
      "model_module": "@jupyter-widgets/base",
      "model_module_version": "1.2.0",
      "model_name": "LayoutModel",
      "state": {}
     },
     "c660db097ab34cbdb5c4fccf1f8b780e": {
      "model_module": "@jupyter-widgets/base",
      "model_module_version": "1.2.0",
      "model_name": "LayoutModel",
      "state": {}
     },
     "c67f94cc34df4ffd9a533666383d8a22": {
      "model_module": "@jupyter-widgets/controls",
      "model_module_version": "1.5.0",
      "model_name": "ButtonStyleModel",
      "state": {}
     },
     "c795366e3785420e82bad6196042d00d": {
      "model_module": "@jupyter-widgets/base",
      "model_module_version": "1.2.0",
      "model_name": "LayoutModel",
      "state": {}
     },
     "c7ecd87e91834e60bffd57d5524b2484": {
      "model_module": "@jupyter-widgets/controls",
      "model_module_version": "1.5.0",
      "model_name": "DescriptionStyleModel",
      "state": {
       "description_width": ""
      }
     },
     "c851e3501b4e4022a1154c2605395377": {
      "model_module": "@jupyter-widgets/controls",
      "model_module_version": "1.5.0",
      "model_name": "ButtonModel",
      "state": {
       "description": "Download image",
       "layout": "IPY_MODEL_1f8fa0a469df4138874248e1ab43a32c",
       "style": "IPY_MODEL_e1e70102841045259a3dbaa47d7c585a",
       "tooltip": "Download current frame to your local PC"
      }
     },
     "c8ff4eddacb7471084c5c160e690b933": {
      "model_module": "@jupyter-widgets/controls",
      "model_module_version": "1.5.0",
      "model_name": "DescriptionStyleModel",
      "state": {
       "description_width": ""
      }
     },
     "c9434ee6b3cd47aab52ac34d341bd2ca": {
      "model_module": "@jupyter-widgets/controls",
      "model_module_version": "1.5.0",
      "model_name": "DescriptionStyleModel",
      "state": {
       "description_width": ""
      }
     },
     "c9992d380763451fa3d272a019721ba4": {
      "model_module": "@jupyter-widgets/base",
      "model_module_version": "1.2.0",
      "model_name": "LayoutModel",
      "state": {
       "border": "0px solid black"
      }
     },
     "ca265e3176dc4092af2179c765ce7854": {
      "model_module": "@jupyter-widgets/controls",
      "model_module_version": "1.5.0",
      "model_name": "ButtonStyleModel",
      "state": {}
     },
     "ca3ef7a1ba1548059687d00f8f85713d": {
      "model_module": "@jupyter-widgets/controls",
      "model_module_version": "1.5.0",
      "model_name": "DropdownModel",
      "state": {
       "_options_labels": [
        "All",
        "Fe"
       ],
       "description": "Show",
       "index": 0,
       "layout": "IPY_MODEL_800731315d0043b69f5b802bc551df6e",
       "style": "IPY_MODEL_91e76b4388184ba0b285abe407b2e1bf"
      }
     },
     "ca7a76399cd54d139c90c276b2f68272": {
      "model_module": "@jupyter-widgets/controls",
      "model_module_version": "1.5.0",
      "model_name": "FloatSliderModel",
      "state": {
       "description": "Force scale",
       "layout": "IPY_MODEL_1009968f4a994366ac7282f9b478a845",
       "step": 0.1,
       "style": "IPY_MODEL_f244b93e98cb451880c5c578df1d324b",
       "value": 0.5
      }
     },
     "caa433b692304fdf938f6fb58ac2a93a": {
      "model_module": "@jupyter-widgets/base",
      "model_module_version": "1.2.0",
      "model_name": "LayoutModel",
      "state": {}
     },
     "cc07da85214d472aa09ad5c92f07b5e1": {
      "model_module": "@jupyter-widgets/controls",
      "model_module_version": "1.5.0",
      "model_name": "SliderStyleModel",
      "state": {
       "description_width": ""
      }
     },
     "cc28826f42cb49ab8bb1ded70135649c": {
      "model_module": "@jupyter-widgets/controls",
      "model_module_version": "1.5.0",
      "model_name": "DescriptionStyleModel",
      "state": {
       "description_width": ""
      }
     },
     "cc5f8e79ff4a497ca5aec248189fb3e3": {
      "model_module": "@jupyter-widgets/base",
      "model_module_version": "1.2.0",
      "model_name": "LayoutModel",
      "state": {}
     },
     "cd0a72b95c9c492cb8187503daa3349c": {
      "model_module": "@jupyter-widgets/controls",
      "model_module_version": "1.5.0",
      "model_name": "FloatSliderModel",
      "state": {
       "description": "Ball size",
       "layout": "IPY_MODEL_7435659d97cd414a8513581e0dd400ae",
       "max": 1.5,
       "step": 0.01,
       "style": "IPY_MODEL_efa193d5696b4503b48cc962cb90660e",
       "value": 0.5
      }
     },
     "cd26861e60dc4b63a307ff41d42450ab": {
      "model_module": "@jupyter-widgets/controls",
      "model_module_version": "1.5.0",
      "model_name": "TextModel",
      "state": {
       "description": "Filename: ",
       "layout": "IPY_MODEL_024a7da1e4f64ad19c923b8f89112f1d",
       "style": "IPY_MODEL_60fc1888bfd041918ff267d488b3fdd4",
       "value": "screenshot.png"
      }
     },
     "cd4e3156e0a042849ba4d1ea08611882": {
      "model_module": "@jupyter-widgets/controls",
      "model_module_version": "1.5.0",
      "model_name": "PlayModel",
      "state": {
       "layout": "IPY_MODEL_f43023ce93114dceb168dbaaf2c58c8d",
       "max": 0,
       "style": "IPY_MODEL_15ae1904e20c496bbcf874f95699e782"
      }
     },
     "cd93791847c049b1b6f31d442c2f89f4": {
      "model_module": "@jupyter-widgets/controls",
      "model_module_version": "1.5.0",
      "model_name": "ButtonModel",
      "state": {
       "description": "Save image",
       "layout": "IPY_MODEL_fcebd2bd30a240b682ad3c830590db43",
       "style": "IPY_MODEL_bd7b297a71924d1d9c037e21494b8c60",
       "tooltip": "Save current frame to file.\nCurrently .png and .html are supported.\nIt takes a bit time, please be patient."
      }
     },
     "cd9c71b74e6f4fd29d79fac6f316610e": {
      "model_module": "@jupyter-widgets/controls",
      "model_module_version": "1.5.0",
      "model_name": "DescriptionStyleModel",
      "state": {
       "description_width": ""
      }
     },
     "ce0523f5c9a5471a8245b48db441b903": {
      "model_module": "@jupyter-widgets/controls",
      "model_module_version": "1.5.0",
      "model_name": "ButtonModel",
      "state": {
       "description": "Save image",
       "layout": "IPY_MODEL_2a25f42d26aa4893886389eb9d426db1",
       "style": "IPY_MODEL_543a712a30d34412ab5ed9f93256467e",
       "tooltip": "Save current frame to file.\nCurrently .png and .html are supported.\nIt takes a bit time, please be patient."
      }
     },
     "ce61e1b016a7404b99ee63412a6b0f95": {
      "model_module": "@jupyter-widgets/controls",
      "model_module_version": "1.5.0",
      "model_name": "CheckboxModel",
      "state": {
       "description": "Show force",
       "disabled": false,
       "layout": "IPY_MODEL_34b387a53de34cf88adabcd4b9d7d70d",
       "style": "IPY_MODEL_1c90794a1ab84ff39fd9878d51cb4691",
       "value": false
      }
     },
     "ce84d62ce0bb401aaea72d722d3ee86e": {
      "model_module": "@jupyter-widgets/controls",
      "model_module_version": "1.5.0",
      "model_name": "FloatSliderModel",
      "state": {
       "description": "Charge scale",
       "layout": "IPY_MODEL_425484b391674b6e9f800d0cc06d244a",
       "step": 0.1,
       "style": "IPY_MODEL_2f0f7f9b126349c6a83ef4143add9107",
       "value": 1
      }
     },
     "cf327e9a7bf7446396190e47278a505a": {
      "model_module": "@jupyter-widgets/controls",
      "model_module_version": "1.5.0",
      "model_name": "SliderStyleModel",
      "state": {
       "description_width": ""
      }
     },
     "cfe5b0d8f46e4e59928d4a379e957f30": {
      "model_module": "@jupyter-widgets/base",
      "model_module_version": "1.2.0",
      "model_name": "LayoutModel",
      "state": {}
     },
     "d04181c934b743438375ce248d88004d": {
      "model_module": "@jupyter-widgets/base",
      "model_module_version": "1.2.0",
      "model_name": "LayoutModel",
      "state": {}
     },
     "d098672c4aa94b8fbd698744707806c6": {
      "model_module": "@jupyter-widgets/controls",
      "model_module_version": "1.5.0",
      "model_name": "PlayModel",
      "state": {
       "layout": "IPY_MODEL_a347bd2f209d44bd8a59286a3220d15a",
       "max": 0,
       "style": "IPY_MODEL_d1d0057c80754be9963fb0f7b935958c"
      }
     },
     "d09a08382ecb464ba389f9bb71d982ae": {
      "model_module": "@jupyter-widgets/controls",
      "model_module_version": "1.5.0",
      "model_name": "FloatSliderModel",
      "state": {
       "description": "Force scale",
       "layout": "IPY_MODEL_26ff07c25dd94d709dae227fddee2644",
       "step": 0.1,
       "style": "IPY_MODEL_01188865fd1c4480a7d614149afc54ba",
       "value": 0.5
      }
     },
     "d0a45bdde2e741039a7b07fb13183ddd": {
      "model_module": "@jupyter-widgets/controls",
      "model_module_version": "1.5.0",
      "model_name": "LinkModel",
      "state": {
       "source": [
        "IPY_MODEL_9d43101fd05c4013ac2910980ac13492",
        "max"
       ],
       "target": [
        "IPY_MODEL_99adcb7b636b46efa897f4b77ede2e03",
        "max_frame"
       ]
      }
     },
     "d0aec591b38a4716adb0645b98f655d2": {
      "model_module": "@jupyter-widgets/controls",
      "model_module_version": "1.5.0",
      "model_name": "DropdownModel",
      "state": {
       "_options_labels": [
        "All",
        "H"
       ],
       "description": "Show",
       "index": 0,
       "layout": "IPY_MODEL_d9d70206053c46d4970b11424d1aa124",
       "style": "IPY_MODEL_bfcec36420d54ee3ae5cbc83ce563f62"
      }
     },
     "d0d598f1b221478fa33fe944023f3bd3": {
      "model_module": "@jupyter-widgets/controls",
      "model_module_version": "1.5.0",
      "model_name": "DescriptionStyleModel",
      "state": {
       "description_width": ""
      }
     },
     "d12446d758c3422db63dcd327ffb0203": {
      "model_module": "@jupyter-widgets/controls",
      "model_module_version": "1.5.0",
      "model_name": "DropdownModel",
      "state": {
       "_options_labels": [
        "All",
        "C",
        "H"
       ],
       "description": "Show",
       "index": 0,
       "layout": "IPY_MODEL_0b21f7127c4d4e79be2b9f95ec1000c3",
       "style": "IPY_MODEL_0598561d7abc43489e93bb89a263fa75"
      }
     },
     "d13d9bb6d4ae414dbb8babd156223f88": {
      "model_module": "@jupyter-widgets/base",
      "model_module_version": "1.2.0",
      "model_name": "LayoutModel",
      "state": {}
     },
     "d1d0057c80754be9963fb0f7b935958c": {
      "model_module": "@jupyter-widgets/controls",
      "model_module_version": "1.5.0",
      "model_name": "DescriptionStyleModel",
      "state": {
       "description_width": ""
      }
     },
     "d261014ef7f24a54bb1ad729ff230ac7": {
      "model_module": "@jupyter-widgets/base",
      "model_module_version": "1.2.0",
      "model_name": "LayoutModel",
      "state": {}
     },
     "d28ee1b9b2cf46cbbaac2f1d0558f440": {
      "model_module": "@jupyter-widgets/controls",
      "model_module_version": "1.5.0",
      "model_name": "ButtonStyleModel",
      "state": {}
     },
     "d2ae1f70a12241b8b08ecaf07983ad3c": {
      "model_module": "@jupyter-widgets/base",
      "model_module_version": "1.2.0",
      "model_name": "LayoutModel",
      "state": {}
     },
     "d34eb74015624e62a19b069261be2cd7": {
      "model_module": "@jupyter-widgets/controls",
      "model_module_version": "1.5.0",
      "model_name": "IntSliderModel",
      "state": {
       "layout": "IPY_MODEL_e5760cd0f56744faa736d5b5ded09aa9",
       "max": 0,
       "style": "IPY_MODEL_0fb17c69b2934bf5aaecac967db6e081"
      }
     },
     "d427fdd4d63d4caba8ff44fc051c272c": {
      "model_module": "@jupyter-widgets/controls",
      "model_module_version": "1.5.0",
      "model_name": "SliderStyleModel",
      "state": {
       "description_width": ""
      }
     },
     "d49fef61e4f7490fb4a0a003566f51a4": {
      "model_module": "@jupyter-widgets/controls",
      "model_module_version": "1.5.0",
      "model_name": "LinkModel",
      "state": {
       "source": [
        "IPY_MODEL_e8e42cdaaab34d2a8f2ea89bff603830",
        "value"
       ],
       "target": [
        "IPY_MODEL_4617e99a40a54eddb6cafc38c16e11da",
        "value"
       ]
      }
     },
     "d54681d3baaf44cbabdf6dce33124e76": {
      "model_module": "@jupyter-widgets/controls",
      "model_module_version": "1.5.0",
      "model_name": "ButtonStyleModel",
      "state": {}
     },
     "d560e544b6624f1cbd644178f62386bb": {
      "model_module": "@jupyter-widgets/base",
      "model_module_version": "1.2.0",
      "model_name": "LayoutModel",
      "state": {}
     },
     "d6732e0c814946d2a1e6fe996cf4d8b9": {
      "model_module": "@jupyter-widgets/base",
      "model_module_version": "1.2.0",
      "model_name": "LayoutModel",
      "state": {}
     },
     "d6858fcd16de4ace80c8096ad1a5bba4": {
      "model_module": "@jupyter-widgets/controls",
      "model_module_version": "1.5.0",
      "model_name": "HBoxModel",
      "state": {
       "children": [
        "IPY_MODEL_d098672c4aa94b8fbd698744707806c6",
        "IPY_MODEL_30f35af8c68f49b09f118d8f5e1bb46f"
       ],
       "layout": "IPY_MODEL_ead9c2e80acb4d6d9e652860833d6fc9"
      }
     },
     "d6eacf6663f84862b47a18e20979557a": {
      "model_module": "@jupyter-widgets/base",
      "model_module_version": "1.2.0",
      "model_name": "LayoutModel",
      "state": {
       "width": "34px"
      }
     },
     "d7f4884d42b543f78ff7ab3aa13afc38": {
      "model_module": "@jupyter-widgets/output",
      "model_module_version": "1.0.0",
      "model_name": "OutputModel",
      "state": {
       "layout": "IPY_MODEL_05a0495f517549daaa54d8b4d5456754"
      }
     },
     "d81fef02e65b4ed5b197cf2134dd1a14": {
      "model_module": "@jupyter-widgets/base",
      "model_module_version": "1.2.0",
      "model_name": "LayoutModel",
      "state": {}
     },
     "d84688badbce40fbbdbcee5a75d4ce06": {
      "model_module": "@jupyter-widgets/base",
      "model_module_version": "1.2.0",
      "model_name": "LayoutModel",
      "state": {}
     },
     "d8e4cfbc655c4a2ebc353d163d6d8a42": {
      "model_module": "@jupyter-widgets/base",
      "model_module_version": "1.2.0",
      "model_name": "LayoutModel",
      "state": {}
     },
     "d9d70206053c46d4970b11424d1aa124": {
      "model_module": "@jupyter-widgets/base",
      "model_module_version": "1.2.0",
      "model_name": "LayoutModel",
      "state": {}
     },
     "da07f652de334ef796062810da6712a8": {
      "model_module": "@jupyter-widgets/controls",
      "model_module_version": "1.5.0",
      "model_name": "ButtonModel",
      "state": {
       "description": "Save image",
       "layout": "IPY_MODEL_df8cd682b2cd41c5891b5a93172f685a",
       "style": "IPY_MODEL_29b603338b2b4ef0ba8f5ce4ed5d7861",
       "tooltip": "Save current frame to file.\nCurrently .png and .html are supported.\nIt takes a bit time, please be patient."
      }
     },
     "da5ab7e554cd4456bcb7c711aae22697": {
      "model_module": "@jupyter-widgets/controls",
      "model_module_version": "1.5.0",
      "model_name": "PlayModel",
      "state": {
       "layout": "IPY_MODEL_d6732e0c814946d2a1e6fe996cf4d8b9",
       "max": 0,
       "style": "IPY_MODEL_c7ecd87e91834e60bffd57d5524b2484"
      }
     },
     "da8cb07482cf4f95a36d59de22cf7e29": {
      "model_module": "nglview-js-widgets",
      "model_module_version": "3.0.1",
      "model_name": "NGLModel",
      "state": {
       "_camera_orientation": [
        10.755870370378133,
        0,
        0,
        0,
        0,
        10.755870370378133,
        0,
        0,
        0,
        0,
        10.755870370378133,
        0,
        -2.8285000324249268,
        -2.0409998893737793,
        -1.44350004196167,
        1
       ],
       "_camera_str": "orthographic",
       "_gui_theme": null,
       "_ibtn_fullscreen": "IPY_MODEL_2e575d3d36144623a2c6bf6a63dd539b",
       "_igui": null,
       "_iplayer": "IPY_MODEL_e96911ca2337420ab96e910b35d2cbba",
       "_ngl_color_dict": {},
       "_ngl_coordinate_resource": {},
       "_ngl_full_stage_parameters": {
        "ambientColor": 14540253,
        "ambientIntensity": 0.2,
        "backgroundColor": "white",
        "cameraEyeSep": 0.3,
        "cameraFov": 40,
        "cameraType": "orthographic",
        "clipDist": 0,
        "clipFar": 100,
        "clipNear": 0,
        "fogFar": 100,
        "fogNear": 50,
        "hoverTimeout": 0,
        "impostor": true,
        "lightColor": 14540253,
        "lightIntensity": 1,
        "mousePreset": "default",
        "panSpeed": 1,
        "quality": "medium",
        "rotateSpeed": 2,
        "sampleLevel": 0,
        "tooltip": true,
        "workerDefault": true,
        "zoomSpeed": 1.2
       },
       "_ngl_msg_archive": [
        {
         "args": [
          {
           "binary": false,
           "data": "CRYST1    4.243    4.243    4.243  60.00  60.00  60.00 P 1\nMODEL     1\nATOM      1   Na MOL     1       0.000   0.000   0.000  1.00  0.00          NA  \nATOM      2   Cl MOL     1       0.000   0.816   0.577  1.00  0.00          CL  \nATOM      3   Na MOL     1       0.707   0.408   1.155  1.00  0.00          NA  \nATOM      4   Cl MOL     1       0.707   1.225   1.732  1.00  0.00          CL  \nATOM      5   Na MOL     1       1.414   0.816   2.309  1.00  0.00          NA  \nATOM      6   Cl MOL     1       1.414   1.633   2.887  1.00  0.00          CL  \nATOM      7   Na MOL     1       0.707   1.225  -0.000  1.00  0.00          NA  \nATOM      8   Cl MOL     1       0.707   2.041   0.577  1.00  0.00          CL  \nATOM      9   Na MOL     1       1.414   1.633   1.155  1.00  0.00          NA  \nATOM     10   Cl MOL     1       1.414   2.449   1.732  1.00  0.00          CL  \nATOM     11   Na MOL     1       2.121   2.041   2.309  1.00  0.00          NA  \nATOM     12   Cl MOL     1       2.121   2.858   2.887  1.00  0.00          CL  \nATOM     13   Na MOL     1       1.414   2.449  -0.000  1.00  0.00          NA  \nATOM     14   Cl MOL     1       1.414   3.266   0.577  1.00  0.00          CL  \nATOM     15   Na MOL     1       2.121   2.858   1.155  1.00  0.00          NA  \nATOM     16   Cl MOL     1       2.121   3.674   1.732  1.00  0.00          CL  \nATOM     17   Na MOL     1       2.828   3.266   2.309  1.00  0.00          NA  \nATOM     18   Cl MOL     1       2.828   4.082   2.887  1.00  0.00          CL  \nATOM     19   Na MOL     1       1.414   0.000  -0.000  1.00  0.00          NA  \nATOM     20   Cl MOL     1       1.414   0.816   0.577  1.00  0.00          CL  \nATOM     21   Na MOL     1       2.121   0.408   1.155  1.00  0.00          NA  \nATOM     22   Cl MOL     1       2.121   1.225   1.732  1.00  0.00          CL  \nATOM     23   Na MOL     1       2.828   0.816   2.309  1.00  0.00          NA  \nATOM     24   Cl MOL     1       2.828   1.633   2.887  1.00  0.00          CL  \nATOM     25   Na MOL     1       2.121   1.225  -0.000  1.00  0.00          NA  \nATOM     26   Cl MOL     1       2.121   2.041   0.577  1.00  0.00          CL  \nATOM     27   Na MOL     1       2.828   1.633   1.155  1.00  0.00          NA  \nATOM     28   Cl MOL     1       2.828   2.449   1.732  1.00  0.00          CL  \nATOM     29   Na MOL     1       3.536   2.041   2.309  1.00  0.00          NA  \nATOM     30   Cl MOL     1       3.536   2.858   2.887  1.00  0.00          CL  \nATOM     31   Na MOL     1       2.828   2.449  -0.000  1.00  0.00          NA  \nATOM     32   Cl MOL     1       2.828   3.266   0.577  1.00  0.00          CL  \nATOM     33   Na MOL     1       3.536   2.858   1.155  1.00  0.00          NA  \nATOM     34   Cl MOL     1       3.536   3.674   1.732  1.00  0.00          CL  \nATOM     35   Na MOL     1       4.243   3.266   2.309  1.00  0.00          NA  \nATOM     36   Cl MOL     1       4.243   4.082   2.887  1.00  0.00          CL  \nATOM     37   Na MOL     1       2.828   0.000  -0.000  1.00  0.00          NA  \nATOM     38   Cl MOL     1       2.828   0.816   0.577  1.00  0.00          CL  \nATOM     39   Na MOL     1       3.536   0.408   1.155  1.00  0.00          NA  \nATOM     40   Cl MOL     1       3.536   1.225   1.732  1.00  0.00          CL  \nATOM     41   Na MOL     1       4.243   0.816   2.309  1.00  0.00          NA  \nATOM     42   Cl MOL     1       4.243   1.633   2.887  1.00  0.00          CL  \nATOM     43   Na MOL     1       3.536   1.225  -0.000  1.00  0.00          NA  \nATOM     44   Cl MOL     1       3.536   2.041   0.577  1.00  0.00          CL  \nATOM     45   Na MOL     1       4.243   1.633   1.155  1.00  0.00          NA  \nATOM     46   Cl MOL     1       4.243   2.449   1.732  1.00  0.00          CL  \nATOM     47   Na MOL     1       4.950   2.041   2.309  1.00  0.00          NA  \nATOM     48   Cl MOL     1       4.950   2.858   2.887  1.00  0.00          CL  \nATOM     49   Na MOL     1       4.243   2.449  -0.000  1.00  0.00          NA  \nATOM     50   Cl MOL     1       4.243   3.266   0.577  1.00  0.00          CL  \nATOM     51   Na MOL     1       4.950   2.858   1.155  1.00  0.00          NA  \nATOM     52   Cl MOL     1       4.950   3.674   1.732  1.00  0.00          CL  \nATOM     53   Na MOL     1       5.657   3.266   2.309  1.00  0.00          NA  \nATOM     54   Cl MOL     1       5.657   4.082   2.887  1.00  0.00          CL  \nENDMDL\n",
           "type": "blob"
          }
         ],
         "kwargs": {
          "defaultRepresentation": false,
          "ext": "pdb"
         },
         "methodName": "loadFile",
         "reconstruc_color_scheme": false,
         "target": "Stage",
         "type": "call_method"
        },
        {
         "args": [
          "400px",
          "300px"
         ],
         "kwargs": {},
         "methodName": "setSize",
         "reconstruc_color_scheme": false,
         "target": "Widget",
         "type": "call_method"
        },
        {
         "args": [
          "unitcell"
         ],
         "component_index": 0,
         "kwargs": {
          "sele": "all"
         },
         "methodName": "addRepresentation",
         "reconstruc_color_scheme": false,
         "target": "compList",
         "type": "call_method"
        },
        {
         "args": [
          "spacefill"
         ],
         "component_index": 0,
         "kwargs": {
          "sele": "all"
         },
         "methodName": "addRepresentation",
         "reconstruc_color_scheme": false,
         "target": "compList",
         "type": "call_method"
        },
        {
         "args": [],
         "kwargs": {
          "cameraType": "orthographic"
         },
         "methodName": "setParameters",
         "reconstruc_color_scheme": false,
         "target": "Stage",
         "type": "call_method"
        },
        {
         "args": [
          {
           "clipDist": 0
          }
         ],
         "kwargs": {},
         "methodName": "setParameters",
         "reconstruc_color_scheme": false,
         "target": "Widget",
         "type": "call_method"
        },
        {
         "args": [
          "spacefill",
          0
         ],
         "kwargs": {
          "colorScale": "rainbow",
          "colorScheme": "element",
          "radiusScale": 0.5,
          "radiusType": "covalent"
         },
         "methodName": "updateRepresentationsByName",
         "reconstruc_color_scheme": false,
         "target": "Widget",
         "type": "call_method"
        },
        {
         "args": [
          "this._Q = [[-0.0, 0.7071067811865476, 0.7071067811865476], [0.8164965809277263, -0.4082482904638629, 0.40824829046386313], [0.5773502691896257, 0.5773502691896258, -0.5773502691896257]]\n    var tooltip = document.createElement('div')\n    Object.assign(tooltip.style, {\n      display: 'none',\n      position: 'fixed',\n      zIndex: 10,\n      pointerEvents: 'none',\n      backgroundColor: 'rgba( 0, 0, 0, 0.6 )',\n      color: 'lightgrey',\n      padding: '8px',\n      fontFamily: 'sans-serif'\n    })\n    document.body.appendChild(tooltip)\n\n    var that = this\n    this.stage.mouseControls.remove('hoverPick')\n    this.stage.signals.hovered.add(function (pickingProxy) {\n      if (pickingProxy && (pickingProxy.atom || pickingProxy.bond)) {\n        var atom = pickingProxy.atom || pickingProxy.closestBondAtom\n        var mp = pickingProxy.mouse.position\n        //tooltip.innerText = atom.element + ' i=' + atom.index + ' (' + atom.x.toFixed(2) +  ', ' + atom.y.toFixed(2) +  ', ' + atom.z.toFixed(2) + ')'\n        //var pos = that._atoms_pos[atom.index]\n        var Q = that._Q\n        var pos_x = Q[0][0] * atom.x + Q[0][1] * atom.y + Q[0][2] * atom.z \n        var pos_y = Q[1][0] * atom.x + Q[1][1] * atom.y + Q[1][2] * atom.z\n        var pos_z = Q[2][0] * atom.x + Q[2][1] * atom.y + Q[2][2] * atom.z\n        tooltip.innerText = 'i=' + atom.index + ' ' + atom.element + ' (' + pos_x.toFixed(2) +  ', ' + pos_y.toFixed(2) +  ', ' + pos_z.toFixed(2) + ')'\n        tooltip.style.bottom = window.innerHeight - mp.y + 3 + 'px'\n        tooltip.style.left = mp.x + 3 + 'px'\n        tooltip.style.display = 'block'\n      } else {\n        tooltip.style.display = 'none'\n      }\n    })\n    "
         ],
         "kwargs": {},
         "methodName": "executeCode",
         "reconstruc_color_scheme": false,
         "target": "Widget",
         "type": "call_method"
        }
       ],
       "_ngl_original_stage_parameters": {
        "ambientColor": 14540253,
        "ambientIntensity": 0.2,
        "backgroundColor": "white",
        "cameraEyeSep": 0.3,
        "cameraFov": 40,
        "cameraType": "perspective",
        "clipDist": 10,
        "clipFar": 100,
        "clipNear": 0,
        "fogFar": 100,
        "fogNear": 50,
        "hoverTimeout": 0,
        "impostor": true,
        "lightColor": 14540253,
        "lightIntensity": 1,
        "mousePreset": "default",
        "panSpeed": 1,
        "quality": "medium",
        "rotateSpeed": 2,
        "sampleLevel": 0,
        "tooltip": true,
        "workerDefault": true,
        "zoomSpeed": 1.2
       },
       "_ngl_repr_dict": {
        "0": {
         "0": {
          "params": {
           "clipCenter": {
            "x": 0,
            "y": 0,
            "z": 0
           },
           "clipNear": 0,
           "clipRadius": 0,
           "colorMode": "hcl",
           "colorReverse": false,
           "colorScale": "",
           "colorScheme": "element",
           "colorValue": "orange",
           "defaultAssembly": "",
           "depthWrite": true,
           "diffuse": 16777215,
           "diffuseInterior": false,
           "disableImpostor": false,
           "disablePicking": false,
           "flatShaded": false,
           "interiorColor": 2236962,
           "interiorDarkening": 0,
           "lazy": false,
           "matrix": {
            "elements": [
             1,
             0,
             0,
             0,
             0,
             1,
             0,
             0,
             0,
             0,
             1,
             0,
             0,
             0,
             0,
             1
            ]
           },
           "metalness": 0,
           "opacity": 1,
           "quality": "medium",
           "radialSegments": 10,
           "radiusData": {},
           "radiusScale": 1,
           "radiusSize": 0.01889879926903164,
           "radiusType": "vdw",
           "roughness": 0.4,
           "sele": "all",
           "side": "double",
           "sphereDetail": 1,
           "useInteriorColor": true,
           "visible": true,
           "wireframe": false
          },
          "type": "unitcell"
         },
         "1": {
          "params": {
           "assembly": "default",
           "clipCenter": {
            "x": 0,
            "y": 0,
            "z": 0
           },
           "clipNear": 0,
           "clipRadius": 0,
           "colorMode": "hcl",
           "colorReverse": false,
           "colorScale": "rainbow",
           "colorScheme": "element",
           "colorValue": 9474192,
           "defaultAssembly": "",
           "depthWrite": true,
           "diffuse": 16777215,
           "diffuseInterior": false,
           "disableImpostor": false,
           "disablePicking": false,
           "flatShaded": false,
           "interiorColor": 2236962,
           "interiorDarkening": 0,
           "lazy": false,
           "matrix": {
            "elements": [
             1,
             0,
             0,
             0,
             0,
             1,
             0,
             0,
             0,
             0,
             1,
             0,
             0,
             0,
             0,
             1
            ]
           },
           "metalness": 0,
           "opacity": 1,
           "quality": "medium",
           "radiusData": {},
           "radiusScale": 0.5,
           "radiusSize": 1,
           "radiusType": "covalent",
           "roughness": 0.4,
           "sele": "all",
           "side": "double",
           "sphereDetail": 1,
           "useInteriorColor": true,
           "visible": true,
           "wireframe": false
          },
          "type": "spacefill"
         }
        }
       },
       "_ngl_serialize": false,
       "_ngl_version": "2.0.0-dev.36",
       "_ngl_view_id": [
        "D6FD3E03-1951-48CC-8E87-6DD30BAD8619"
       ],
       "_player_dict": {},
       "_scene_position": {},
       "_scene_rotation": {},
       "_synced_model_ids": [],
       "_synced_repr_model_ids": [],
       "_view_height": "",
       "_view_width": "",
       "background": "white",
       "frame": 0,
       "gui_style": null,
       "layout": "IPY_MODEL_0bb6fa672dcc406ebfc784dfb28843e8",
       "max_frame": 0,
       "n_components": 1,
       "picked": {}
      }
     },
     "dbb56590711541da93e520a32895b6e5": {
      "model_module": "@jupyter-widgets/controls",
      "model_module_version": "1.5.0",
      "model_name": "DropdownModel",
      "state": {
       "_options_labels": [
        "All",
        "Na"
       ],
       "description": "Show",
       "index": 0,
       "layout": "IPY_MODEL_bbad225c11464ae78b2abd161265cf5d",
       "style": "IPY_MODEL_0a3acfff113844e886c3a67572c7bceb"
      }
     },
     "dc01d8594e9e47ef85654321f5f52428": {
      "model_module": "@jupyter-widgets/base",
      "model_module_version": "1.2.0",
      "model_name": "LayoutModel",
      "state": {
       "width": "34px"
      }
     },
     "dcf094d3613e4687b4ae0f266b1ad8f7": {
      "model_module": "@jupyter-widgets/controls",
      "model_module_version": "1.5.0",
      "model_name": "ImageModel",
      "state": {
       "layout": "IPY_MODEL_2b2ebd4ea655486ab28bd411f01640c6",
       "width": "900.0"
      }
     },
     "dd14e0c54e43411cacc3e6c1fb5f3e35": {
      "model_module": "@jupyter-widgets/controls",
      "model_module_version": "1.5.0",
      "model_name": "PlayModel",
      "state": {
       "layout": "IPY_MODEL_bc93e0b7f75f4dc9b40da0724e51e5de",
       "max": 0,
       "style": "IPY_MODEL_918f50ac2a614229acf141a5f3a8abac"
      }
     },
     "dd1e1bd20dbc4fd3859435fb326d1d60": {
      "model_module": "@jupyter-widgets/controls",
      "model_module_version": "1.5.0",
      "model_name": "LinkModel",
      "state": {
       "source": [
        "IPY_MODEL_e8e42cdaaab34d2a8f2ea89bff603830",
        "value"
       ],
       "target": [
        "IPY_MODEL_f1617f3f42ee44f4b31657068b5cba4d",
        "frame"
       ]
      }
     },
     "dd5c36a613664b70978b2e6f478f8170": {
      "model_module": "@jupyter-widgets/controls",
      "model_module_version": "1.5.0",
      "model_name": "DescriptionStyleModel",
      "state": {
       "description_width": ""
      }
     },
     "dd5e49e3bffa4826a2fe1b4253e7ba3f": {
      "model_module": "@jupyter-widgets/controls",
      "model_module_version": "1.5.0",
      "model_name": "SliderStyleModel",
      "state": {
       "description_width": ""
      }
     },
     "ddb6bc73b1ad4f149913fc1e2c91c0e8": {
      "model_module": "@jupyter-widgets/controls",
      "model_module_version": "1.5.0",
      "model_name": "CheckboxModel",
      "state": {
       "description": "Show force",
       "disabled": false,
       "layout": "IPY_MODEL_8cd1a93901404760be8fbd0a819f2c16",
       "style": "IPY_MODEL_a1140ec494f94f439980f3259d765424",
       "value": false
      }
     },
     "dec283dbbd4b459a8a2697820b43b99d": {
      "model_module": "@jupyter-widgets/controls",
      "model_module_version": "1.5.0",
      "model_name": "LinkModel",
      "state": {
       "source": [
        "IPY_MODEL_4617e99a40a54eddb6cafc38c16e11da",
        "max"
       ],
       "target": [
        "IPY_MODEL_f1617f3f42ee44f4b31657068b5cba4d",
        "max_frame"
       ]
      }
     },
     "df081fe795e94fddabd396f9d24d799f": {
      "model_module": "@jupyter-widgets/controls",
      "model_module_version": "1.5.0",
      "model_name": "DescriptionStyleModel",
      "state": {
       "description_width": ""
      }
     },
     "df1f51da4afe4553991259a4ce178c2d": {
      "model_module": "@jupyter-widgets/base",
      "model_module_version": "1.2.0",
      "model_name": "LayoutModel",
      "state": {}
     },
     "df58a259fe9b4ca689a6adc4dd39b915": {
      "model_module": "@jupyter-widgets/base",
      "model_module_version": "1.2.0",
      "model_name": "LayoutModel",
      "state": {
       "width": "34px"
      }
     },
     "df8cd682b2cd41c5891b5a93172f685a": {
      "model_module": "@jupyter-widgets/base",
      "model_module_version": "1.2.0",
      "model_name": "LayoutModel",
      "state": {}
     },
     "dff2732cc8974f4cbc4a113f76c53247": {
      "model_module": "@jupyter-widgets/controls",
      "model_module_version": "1.5.0",
      "model_name": "LinkModel",
      "state": {
       "source": [
        "IPY_MODEL_cd4e3156e0a042849ba4d1ea08611882",
        "max"
       ],
       "target": [
        "IPY_MODEL_7c87f22280b64bfcb56e2fa1aa3f7001",
        "max_frame"
       ]
      }
     },
     "e0b82595fc7a4eafb31e8938ce779adb": {
      "model_module": "@jupyter-widgets/controls",
      "model_module_version": "1.5.0",
      "model_name": "HBoxModel",
      "state": {
       "children": [
        "IPY_MODEL_acda21fa699641c89ec3bcded266527d",
        "IPY_MODEL_f39826cfede74bc38928c0cde37b74f8"
       ],
       "layout": "IPY_MODEL_d261014ef7f24a54bb1ad729ff230ac7"
      }
     },
     "e1617af2dc1a43289571cfe42730ce05": {
      "model_module": "@jupyter-widgets/base",
      "model_module_version": "1.2.0",
      "model_name": "LayoutModel",
      "state": {}
     },
     "e1b5b66c6f26486b8f8ca9a0ea6e488b": {
      "model_module": "@jupyter-widgets/base",
      "model_module_version": "1.2.0",
      "model_name": "LayoutModel",
      "state": {}
     },
     "e1c1ac15b55a4b62b2bc6d4ec4c17b21": {
      "model_module": "@jupyter-widgets/controls",
      "model_module_version": "1.5.0",
      "model_name": "PlayModel",
      "state": {
       "layout": "IPY_MODEL_4b5bc4e4a2a44981aca26b8308a691fc",
       "max": 0,
       "style": "IPY_MODEL_3f25c23e95cf4f91bf0fad352910e889"
      }
     },
     "e1e5cec52b744d1394c9ab3b3459c25b": {
      "model_module": "@jupyter-widgets/controls",
      "model_module_version": "1.5.0",
      "model_name": "DescriptionStyleModel",
      "state": {
       "description_width": ""
      }
     },
     "e1e70102841045259a3dbaa47d7c585a": {
      "model_module": "@jupyter-widgets/controls",
      "model_module_version": "1.5.0",
      "model_name": "ButtonStyleModel",
      "state": {}
     },
     "e2e5f3784fe341e196a9c0946cc61b69": {
      "model_module": "@jupyter-widgets/base",
      "model_module_version": "1.2.0",
      "model_name": "LayoutModel",
      "state": {}
     },
     "e56efb82c269407fb4007a103f126ba9": {
      "model_module": "@jupyter-widgets/controls",
      "model_module_version": "1.5.0",
      "model_name": "PlayModel",
      "state": {
       "layout": "IPY_MODEL_5d9c26ec8b954e9485694edc3d8ed222",
       "max": 0,
       "style": "IPY_MODEL_f35cfff6fcd949ee93c2aaf0aece06af"
      }
     },
     "e5760cd0f56744faa736d5b5ded09aa9": {
      "model_module": "@jupyter-widgets/base",
      "model_module_version": "1.2.0",
      "model_name": "LayoutModel",
      "state": {}
     },
     "e5c8af47410347578f301abc39e7db3d": {
      "model_module": "@jupyter-widgets/base",
      "model_module_version": "1.2.0",
      "model_name": "LayoutModel",
      "state": {}
     },
     "e616d120d426432f80c167b0e4d618da": {
      "model_module": "@jupyter-widgets/controls",
      "model_module_version": "1.5.0",
      "model_name": "FloatSliderModel",
      "state": {
       "description": "Force scale",
       "layout": "IPY_MODEL_4ad6c63305f6416a97e93d8f54708601",
       "step": 0.1,
       "style": "IPY_MODEL_81f54315c8cc436881382a40f183205d",
       "value": 0.5
      }
     },
     "e701c17dcbef4aefb33de7c68b0bd1bd": {
      "model_module": "@jupyter-widgets/controls",
      "model_module_version": "1.5.0",
      "model_name": "CheckboxModel",
      "state": {
       "description": "Show charge",
       "disabled": false,
       "layout": "IPY_MODEL_484557b2e8cb4857932d175fe37d6423",
       "style": "IPY_MODEL_cc28826f42cb49ab8bb1ded70135649c",
       "value": false
      }
     },
     "e74a7d0f239744bca67c2b64f219d21a": {
      "model_module": "@jupyter-widgets/controls",
      "model_module_version": "1.5.0",
      "model_name": "LinkModel",
      "state": {
       "source": [
        "IPY_MODEL_6d3961f164094e83912559ed11931a27",
        "max"
       ],
       "target": [
        "IPY_MODEL_0937a8fb7eb240eca0661fd29a38bd70",
        "max_frame"
       ]
      }
     },
     "e7bfbbfea41c4fc49ee0f510733cf5f6": {
      "model_module": "@jupyter-widgets/controls",
      "model_module_version": "1.5.0",
      "model_name": "DescriptionStyleModel",
      "state": {
       "description_width": ""
      }
     },
     "e8e42cdaaab34d2a8f2ea89bff603830": {
      "model_module": "@jupyter-widgets/controls",
      "model_module_version": "1.5.0",
      "model_name": "PlayModel",
      "state": {
       "layout": "IPY_MODEL_ec9f3bcf04a44f5b89858472f9f687e0",
       "max": 0,
       "style": "IPY_MODEL_c4b54e49eeec42bb848ce3f102e01002"
      }
     },
     "e8f74343a4bc42638bc5a1fec41bcff4": {
      "model_module": "@jupyter-widgets/base",
      "model_module_version": "1.2.0",
      "model_name": "LayoutModel",
      "state": {}
     },
     "e96911ca2337420ab96e910b35d2cbba": {
      "model_module": "@jupyter-widgets/controls",
      "model_module_version": "1.5.0",
      "model_name": "HBoxModel",
      "state": {
       "children": [
        "IPY_MODEL_e56efb82c269407fb4007a103f126ba9",
        "IPY_MODEL_4043796bf1d74e4582082995b8149a61"
       ],
       "layout": "IPY_MODEL_d560e544b6624f1cbd644178f62386bb"
      }
     },
     "eaa5c315b2484c07a38f04c844919e23": {
      "model_module": "@jupyter-widgets/base",
      "model_module_version": "1.2.0",
      "model_name": "LayoutModel",
      "state": {}
     },
     "ead9c2e80acb4d6d9e652860833d6fc9": {
      "model_module": "@jupyter-widgets/base",
      "model_module_version": "1.2.0",
      "model_name": "LayoutModel",
      "state": {}
     },
     "eb115e1400334a7a94b7b324d67bef4e": {
      "model_module": "@jupyter-widgets/controls",
      "model_module_version": "1.5.0",
      "model_name": "DropdownModel",
      "state": {
       "_options_labels": [
        " ",
        "picking",
        "random",
        "uniform",
        "atomindex",
        "residueindex",
        "chainindex",
        "modelindex",
        "sstruc",
        "element",
        "resname",
        "bfactor",
        "hydrophobicity",
        "value",
        "volume",
        "occupancy"
       ],
       "description": "Color scheme",
       "index": 9,
       "layout": "IPY_MODEL_9258912034ab4efda5bd883cb1b8ab29",
       "style": "IPY_MODEL_5cc92ae95fe24eac83e99e93547e0b6f"
      }
     },
     "eb1fe9b870d84a2cb663379922a68c35": {
      "model_module": "@jupyter-widgets/controls",
      "model_module_version": "1.5.0",
      "model_name": "ImageModel",
      "state": {
       "layout": "IPY_MODEL_81e2aa2f4d4246c89abc916c0c512622",
       "width": "900.0"
      }
     },
     "eb5fdbdcaa1e4d7f823c3851850b0105": {
      "model_module": "@jupyter-widgets/controls",
      "model_module_version": "1.5.0",
      "model_name": "LinkModel",
      "state": {
       "source": [
        "IPY_MODEL_a1a87c16ea8e4810852d72da3a050dc8",
        "max"
       ],
       "target": [
        "IPY_MODEL_7c87f22280b64bfcb56e2fa1aa3f7001",
        "max_frame"
       ]
      }
     },
     "eb8a69974db24ff39b2d5714bbe96153": {
      "model_module": "@jupyter-widgets/controls",
      "model_module_version": "1.5.0",
      "model_name": "SliderStyleModel",
      "state": {
       "description_width": ""
      }
     },
     "ec2a1f92328d454797fe0303105b1da7": {
      "model_module": "@jupyter-widgets/base",
      "model_module_version": "1.2.0",
      "model_name": "LayoutModel",
      "state": {
       "border": "0px solid black"
      }
     },
     "ec9f3bcf04a44f5b89858472f9f687e0": {
      "model_module": "@jupyter-widgets/base",
      "model_module_version": "1.2.0",
      "model_name": "LayoutModel",
      "state": {}
     },
     "ed8eff2c79dc4ae2a749d2b57fe0f72c": {
      "model_module": "@jupyter-widgets/controls",
      "model_module_version": "1.5.0",
      "model_name": "DropdownModel",
      "state": {
       "_options_labels": [
        " ",
        "picking",
        "random",
        "uniform",
        "atomindex",
        "residueindex",
        "chainindex",
        "modelindex",
        "sstruc",
        "element",
        "resname",
        "bfactor",
        "hydrophobicity",
        "value",
        "volume",
        "occupancy"
       ],
       "description": "Color scheme",
       "index": 9,
       "layout": "IPY_MODEL_b505f5899a6d4ca090a63da7d0ed9c05",
       "style": "IPY_MODEL_7122c157b23248fe96c58c17bcc8b9d0"
      }
     },
     "edb6a04e31c64668b5bc7280d91055d0": {
      "model_module": "@jupyter-widgets/base",
      "model_module_version": "1.2.0",
      "model_name": "LayoutModel",
      "state": {}
     },
     "edfa81e5fc3c474e91fce59215a669e1": {
      "model_module": "@jupyter-widgets/controls",
      "model_module_version": "1.5.0",
      "model_name": "SliderStyleModel",
      "state": {
       "description_width": ""
      }
     },
     "ee13b6e344e24c5ab3918da399a0d86a": {
      "model_module": "@jupyter-widgets/base",
      "model_module_version": "1.2.0",
      "model_name": "LayoutModel",
      "state": {}
     },
     "ee2f277b61fa41ee9228af373d7ca911": {
      "model_module": "@jupyter-widgets/controls",
      "model_module_version": "1.5.0",
      "model_name": "VBoxModel",
      "state": {
       "children": [
        "IPY_MODEL_58ec4ac0154a407da2f5b9009fc72bec",
        "IPY_MODEL_0765aef59e4844deb95fcd2ec213548f",
        "IPY_MODEL_0dc13851771c4420837e31a342085929",
        "IPY_MODEL_922c72a5e2f24dd297a6d3433de635fd",
        "IPY_MODEL_29d29f66f5dc40688e2dc33141fd3483",
        "IPY_MODEL_ddb6bc73b1ad4f149913fc1e2c91c0e8",
        "IPY_MODEL_195165af4be742a9bade78006dd1456c",
        "IPY_MODEL_3592c28fe9a0406a8427598d51ad909e",
        "IPY_MODEL_2ad690e9b1dc43a692958dde23cc20d2",
        "IPY_MODEL_354b28dae5774bda9a3947ebd33d5ce5"
       ],
       "layout": "IPY_MODEL_cfe5b0d8f46e4e59928d4a379e957f30"
      }
     },
     "ee8deb86a4f547499b081273e21dea36": {
      "model_module": "@jupyter-widgets/controls",
      "model_module_version": "1.5.0",
      "model_name": "VBoxModel",
      "state": {
       "children": [
        "IPY_MODEL_7b713945feb14cd280944399937f0e9e",
        "IPY_MODEL_4ed8f6bd48424df68811ac644bb5f4be",
        "IPY_MODEL_cd0a72b95c9c492cb8187503daa3349c",
        "IPY_MODEL_cd26861e60dc4b63a307ff41d42450ab",
        "IPY_MODEL_f5fbde922f414bbd9cb37cf2e0cd3f54",
        "IPY_MODEL_10eab5a763ea4d1292e50fb664a0ca56",
        "IPY_MODEL_128c5e7c44714ac187308e522268bd79",
        "IPY_MODEL_0e87d492c5fb4be49265b13f4a2f2c05",
        "IPY_MODEL_3ab4ff56e3c24253b1820b891324dc6d",
        "IPY_MODEL_9275cc6860e24623a3b47eff2f86333a"
       ],
       "layout": "IPY_MODEL_27a76ecf778b4771a10fdf5b91b08d77"
      }
     },
     "eea4f0ee6f0047a8a50c968b1fd40098": {
      "model_module": "@jupyter-widgets/controls",
      "model_module_version": "1.5.0",
      "model_name": "LinkModel",
      "state": {
       "source": [
        "IPY_MODEL_83a091df93d145d9a76776de59dbd983",
        "max"
       ],
       "target": [
        "IPY_MODEL_0937a8fb7eb240eca0661fd29a38bd70",
        "max_frame"
       ]
      }
     },
     "eeaf0ece09c14d068a6629638747f2b1": {
      "model_module": "@jupyter-widgets/controls",
      "model_module_version": "1.5.0",
      "model_name": "PlayModel",
      "state": {
       "layout": "IPY_MODEL_84d89dc5dfc5417ea344a5175b1399f5",
       "max": 0,
       "style": "IPY_MODEL_51e5f544e4b846b0a123a68772c9e5b2"
      }
     },
     "eeb5f93cd558426dba17e282a9d107f3": {
      "model_module": "@jupyter-widgets/base",
      "model_module_version": "1.2.0",
      "model_name": "LayoutModel",
      "state": {}
     },
     "eee0f4889e6f4416b75bed2ffb20d40a": {
      "model_module": "@jupyter-widgets/controls",
      "model_module_version": "1.5.0",
      "model_name": "SliderStyleModel",
      "state": {
       "description_width": ""
      }
     },
     "ef5eb8fe69154533a415105c28bda5b7": {
      "model_module": "@jupyter-widgets/controls",
      "model_module_version": "1.5.0",
      "model_name": "TextModel",
      "state": {
       "description": "Filename: ",
       "layout": "IPY_MODEL_a3e5e8e18efd4108a8635cb4c5ad2e66",
       "style": "IPY_MODEL_99b799f936344daead27b95c673bad2b",
       "value": "screenshot.png"
      }
     },
     "ef86184fa14741778ee6ce296003fa9d": {
      "model_module": "@jupyter-widgets/controls",
      "model_module_version": "1.5.0",
      "model_name": "FloatSliderModel",
      "state": {
       "description": "Charge scale",
       "layout": "IPY_MODEL_815e019591b544ccb4db7e66c04640d8",
       "step": 0.1,
       "style": "IPY_MODEL_58441b6a7d484eab9e67070832f0b566",
       "value": 1
      }
     },
     "efa193d5696b4503b48cc962cb90660e": {
      "model_module": "@jupyter-widgets/controls",
      "model_module_version": "1.5.0",
      "model_name": "SliderStyleModel",
      "state": {
       "description_width": ""
      }
     },
     "efd929297733408c8bb1a31023b8e88d": {
      "model_module": "@jupyter-widgets/controls",
      "model_module_version": "1.5.0",
      "model_name": "DropdownModel",
      "state": {
       "_options_labels": [
        "All",
        "Fe"
       ],
       "description": "Show",
       "index": 0,
       "layout": "IPY_MODEL_56a397b150f049568d97ed65b604c15b",
       "style": "IPY_MODEL_21ad76778e034ba497045abe5a2f123f"
      }
     },
     "f00f021039fa4b0c9bf32db8528b9732": {
      "model_module": "@jupyter-widgets/base",
      "model_module_version": "1.2.0",
      "model_name": "LayoutModel",
      "state": {}
     },
     "f036924fcfa44c2da8574761ce59cb54": {
      "model_module": "@jupyter-widgets/base",
      "model_module_version": "1.2.0",
      "model_name": "LayoutModel",
      "state": {
       "border": "0px solid black"
      }
     },
     "f06a9588f6674328b45e36225cc99e32": {
      "model_module": "@jupyter-widgets/base",
      "model_module_version": "1.2.0",
      "model_name": "LayoutModel",
      "state": {}
     },
     "f07d588f14be49fd967089adc4a00b63": {
      "model_module": "@jupyter-widgets/controls",
      "model_module_version": "1.5.0",
      "model_name": "CheckboxModel",
      "state": {
       "description": "Show force",
       "disabled": false,
       "layout": "IPY_MODEL_2a11c32c3c3b45a7824cb4b42b7dddc1",
       "style": "IPY_MODEL_fe21f55926134b649c64d957fa2fdcdf",
       "value": false
      }
     },
     "f0c3dc37336943aa9727a3fcad1fa7da": {
      "model_module": "@jupyter-widgets/controls",
      "model_module_version": "1.5.0",
      "model_name": "CheckboxModel",
      "state": {
       "description": "Show charge",
       "disabled": false,
       "layout": "IPY_MODEL_6d0231a28f5847aca645981f0793399e",
       "style": "IPY_MODEL_5dfe1c36e9bd47cdb49a1a66dbb5d7a3",
       "value": false
      }
     },
     "f13ae1cabcbb4445a928eb2ef65fc11f": {
      "model_module": "@jupyter-widgets/base",
      "model_module_version": "1.2.0",
      "model_name": "LayoutModel",
      "state": {}
     },
     "f1617f3f42ee44f4b31657068b5cba4d": {
      "model_module": "nglview-js-widgets",
      "model_module_version": "3.0.1",
      "model_name": "NGLModel",
      "state": {
       "_camera_orientation": [
        6.472139903336057,
        0,
        0,
        0,
        0,
        6.472139903336057,
        0,
        0,
        0,
        0,
        6.472139903336057,
        0,
        0.1889999508857727,
        0.08449995517730713,
        0,
        1
       ],
       "_camera_str": "orthographic",
       "_gui_theme": null,
       "_ibtn_fullscreen": "IPY_MODEL_5c900b9fd1df4579979c97fa841f846e",
       "_igui": null,
       "_iplayer": "IPY_MODEL_415a902f449a48f680664ee59ba2cdd9",
       "_ngl_color_dict": {},
       "_ngl_coordinate_resource": {},
       "_ngl_full_stage_parameters": {
        "ambientColor": 14540253,
        "ambientIntensity": 0.2,
        "backgroundColor": "white",
        "cameraEyeSep": 0.3,
        "cameraFov": 40,
        "cameraType": "orthographic",
        "clipDist": 0,
        "clipFar": 100,
        "clipNear": 0,
        "fogFar": 100,
        "fogNear": 50,
        "hoverTimeout": 0,
        "impostor": true,
        "lightColor": 14540253,
        "lightIntensity": 1,
        "mousePreset": "default",
        "panSpeed": 1,
        "quality": "medium",
        "rotateSpeed": 2,
        "sampleLevel": 0,
        "tooltip": true,
        "workerDefault": true,
        "zoomSpeed": 1.2
       },
       "_ngl_msg_archive": [
        {
         "args": [
          {
           "binary": false,
           "data": "MODEL     1\nATOM      1    O MOL     1       1.218   0.361   0.000  1.00  0.00           O  \nATOM      2    C MOL     1       0.000   0.464   0.000  1.00  0.00           C  \nATOM      3    H MOL     1      -0.477   1.465   0.000  1.00  0.00           H  \nATOM      4    C MOL     1      -0.948  -0.700   0.000  1.00  0.00           C  \nATOM      5    H MOL     1      -0.386  -1.634   0.000  1.00  0.00           H  \nATOM      6    H MOL     1      -1.596  -0.652   0.881  1.00  0.00           H  \nATOM      7    H MOL     1      -1.596  -0.652  -0.881  1.00  0.00           H  \nENDMDL\n",
           "type": "blob"
          }
         ],
         "kwargs": {
          "defaultRepresentation": false,
          "ext": "pdb"
         },
         "methodName": "loadFile",
         "reconstruc_color_scheme": false,
         "target": "Stage",
         "type": "call_method"
        },
        {
         "args": [
          "400px",
          "300px"
         ],
         "kwargs": {},
         "methodName": "setSize",
         "reconstruc_color_scheme": false,
         "target": "Widget",
         "type": "call_method"
        },
        {
         "args": [
          "unitcell"
         ],
         "component_index": 0,
         "kwargs": {
          "sele": "all"
         },
         "methodName": "addRepresentation",
         "reconstruc_color_scheme": false,
         "target": "compList",
         "type": "call_method"
        },
        {
         "args": [
          "spacefill"
         ],
         "component_index": 0,
         "kwargs": {
          "sele": "all"
         },
         "methodName": "addRepresentation",
         "reconstruc_color_scheme": false,
         "target": "compList",
         "type": "call_method"
        },
        {
         "args": [],
         "kwargs": {
          "cameraType": "orthographic"
         },
         "methodName": "setParameters",
         "reconstruc_color_scheme": false,
         "target": "Stage",
         "type": "call_method"
        },
        {
         "args": [
          {
           "clipDist": 0
          }
         ],
         "kwargs": {},
         "methodName": "setParameters",
         "reconstruc_color_scheme": false,
         "target": "Widget",
         "type": "call_method"
        },
        {
         "args": [
          "spacefill",
          0
         ],
         "kwargs": {
          "colorScale": "rainbow",
          "colorScheme": "element",
          "radiusScale": 0.5,
          "radiusType": "covalent"
         },
         "methodName": "updateRepresentationsByName",
         "reconstruc_color_scheme": false,
         "target": "Widget",
         "type": "call_method"
        },
        {
         "args": [
          "this._Q = [[1.0, 0.0, 0.0], [0.0, 1.0, 0.0], [0.0, 0.0, 1.0]]\n    var tooltip = document.createElement('div')\n    Object.assign(tooltip.style, {\n      display: 'none',\n      position: 'fixed',\n      zIndex: 10,\n      pointerEvents: 'none',\n      backgroundColor: 'rgba( 0, 0, 0, 0.6 )',\n      color: 'lightgrey',\n      padding: '8px',\n      fontFamily: 'sans-serif'\n    })\n    document.body.appendChild(tooltip)\n\n    var that = this\n    this.stage.mouseControls.remove('hoverPick')\n    this.stage.signals.hovered.add(function (pickingProxy) {\n      if (pickingProxy && (pickingProxy.atom || pickingProxy.bond)) {\n        var atom = pickingProxy.atom || pickingProxy.closestBondAtom\n        var mp = pickingProxy.mouse.position\n        //tooltip.innerText = atom.element + ' i=' + atom.index + ' (' + atom.x.toFixed(2) +  ', ' + atom.y.toFixed(2) +  ', ' + atom.z.toFixed(2) + ')'\n        //var pos = that._atoms_pos[atom.index]\n        var Q = that._Q\n        var pos_x = Q[0][0] * atom.x + Q[0][1] * atom.y + Q[0][2] * atom.z \n        var pos_y = Q[1][0] * atom.x + Q[1][1] * atom.y + Q[1][2] * atom.z\n        var pos_z = Q[2][0] * atom.x + Q[2][1] * atom.y + Q[2][2] * atom.z\n        tooltip.innerText = 'i=' + atom.index + ' ' + atom.element + ' (' + pos_x.toFixed(2) +  ', ' + pos_y.toFixed(2) +  ', ' + pos_z.toFixed(2) + ')'\n        tooltip.style.bottom = window.innerHeight - mp.y + 3 + 'px'\n        tooltip.style.left = mp.x + 3 + 'px'\n        tooltip.style.display = 'block'\n      } else {\n        tooltip.style.display = 'none'\n      }\n    })\n    "
         ],
         "kwargs": {},
         "methodName": "executeCode",
         "reconstruc_color_scheme": false,
         "target": "Widget",
         "type": "call_method"
        },
        {
         "args": [
          "ball+stick"
         ],
         "component_index": 0,
         "kwargs": {
          "sele": "all"
         },
         "methodName": "addRepresentation",
         "reconstruc_color_scheme": false,
         "target": "compList",
         "type": "call_method"
        }
       ],
       "_ngl_original_stage_parameters": {
        "ambientColor": 14540253,
        "ambientIntensity": 0.2,
        "backgroundColor": "white",
        "cameraEyeSep": 0.3,
        "cameraFov": 40,
        "cameraType": "perspective",
        "clipDist": 10,
        "clipFar": 100,
        "clipNear": 0,
        "fogFar": 100,
        "fogNear": 50,
        "hoverTimeout": 0,
        "impostor": true,
        "lightColor": 14540253,
        "lightIntensity": 1,
        "mousePreset": "default",
        "panSpeed": 1,
        "quality": "medium",
        "rotateSpeed": 2,
        "sampleLevel": 0,
        "tooltip": true,
        "workerDefault": true,
        "zoomSpeed": 1.2
       },
       "_ngl_repr_dict": {
        "0": {
         "0": {
          "params": {
           "clipCenter": {
            "x": 0,
            "y": 0,
            "z": 0
           },
           "clipNear": 0,
           "clipRadius": 0,
           "colorMode": "hcl",
           "colorReverse": false,
           "colorScale": "",
           "colorScheme": "element",
           "colorValue": "orange",
           "defaultAssembly": "",
           "depthWrite": true,
           "diffuse": 16777215,
           "diffuseInterior": false,
           "disableImpostor": false,
           "disablePicking": false,
           "flatShaded": false,
           "interiorColor": 2236962,
           "interiorDarkening": 0,
           "lazy": false,
           "matrix": {
            "elements": [
             1,
             0,
             0,
             0,
             0,
             1,
             0,
             0,
             0,
             0,
             1,
             0,
             0,
             0,
             0,
             1
            ]
           },
           "metalness": 0,
           "opacity": 1,
           "quality": "medium",
           "radialSegments": 10,
           "radiusData": {},
           "radiusScale": 1,
           "radiusSize": 0.5,
           "radiusType": "vdw",
           "roughness": 0.4,
           "sele": "all",
           "side": "double",
           "sphereDetail": 1,
           "useInteriorColor": true,
           "visible": true,
           "wireframe": false
          },
          "type": "unitcell"
         },
         "1": {
          "params": {
           "assembly": "default",
           "clipCenter": {
            "x": 0,
            "y": 0,
            "z": 0
           },
           "clipNear": 0,
           "clipRadius": 0,
           "colorMode": "hcl",
           "colorReverse": false,
           "colorScale": "rainbow",
           "colorScheme": "element",
           "colorValue": 9474192,
           "defaultAssembly": "",
           "depthWrite": true,
           "diffuse": 16777215,
           "diffuseInterior": false,
           "disableImpostor": false,
           "disablePicking": false,
           "flatShaded": false,
           "interiorColor": 2236962,
           "interiorDarkening": 0,
           "lazy": false,
           "matrix": {
            "elements": [
             1,
             0,
             0,
             0,
             0,
             1,
             0,
             0,
             0,
             0,
             1,
             0,
             0,
             0,
             0,
             1
            ]
           },
           "metalness": 0,
           "opacity": 1,
           "quality": "medium",
           "radiusData": {},
           "radiusScale": 0.5,
           "radiusSize": 1,
           "radiusType": "covalent",
           "roughness": 0.4,
           "sele": "all",
           "side": "double",
           "sphereDetail": 1,
           "useInteriorColor": true,
           "visible": true,
           "wireframe": false
          },
          "type": "spacefill"
         },
         "2": {
          "params": {
           "aspectRatio": 2,
           "assembly": "default",
           "bondScale": 0.4,
           "bondSpacing": 1,
           "clipCenter": {
            "x": 0,
            "y": 0,
            "z": 0
           },
           "clipNear": 0,
           "clipRadius": 0,
           "colorMode": "hcl",
           "colorReverse": false,
           "colorScale": "",
           "colorScheme": "element",
           "colorValue": 9474192,
           "cylinderOnly": false,
           "defaultAssembly": "",
           "depthWrite": true,
           "diffuse": 16777215,
           "diffuseInterior": false,
           "disableImpostor": false,
           "disablePicking": false,
           "flatShaded": false,
           "interiorColor": 2236962,
           "interiorDarkening": 0,
           "lazy": false,
           "lineOnly": false,
           "linewidth": 2,
           "matrix": {
            "elements": [
             1,
             0,
             0,
             0,
             0,
             1,
             0,
             0,
             0,
             0,
             1,
             0,
             0,
             0,
             0,
             1
            ]
           },
           "metalness": 0,
           "multipleBond": "off",
           "opacity": 1,
           "openEnded": true,
           "quality": "medium",
           "radialSegments": 10,
           "radiusData": {},
           "radiusScale": 1,
           "radiusSize": 0.15,
           "radiusType": "size",
           "roughness": 0.4,
           "sele": "all",
           "side": "double",
           "sphereDetail": 1,
           "useInteriorColor": true,
           "visible": true,
           "wireframe": false
          },
          "type": "ball+stick"
         }
        }
       },
       "_ngl_serialize": false,
       "_ngl_version": "2.0.0-dev.36",
       "_ngl_view_id": [
        "DE797488-23DF-4E91-9FD8-8B12D7F7A414"
       ],
       "_player_dict": {},
       "_scene_position": {},
       "_scene_rotation": {},
       "_synced_model_ids": [],
       "_synced_repr_model_ids": [],
       "_view_height": "",
       "_view_width": "",
       "background": "white",
       "frame": 0,
       "gui_style": null,
       "layout": "IPY_MODEL_02d244c143b54bc1b96b34bcde0796fd",
       "max_frame": 0,
       "n_components": 1,
       "picked": {}
      }
     },
     "f20f7db26a704f7cb703b21e8e2b04a4": {
      "model_module": "@jupyter-widgets/base",
      "model_module_version": "1.2.0",
      "model_name": "LayoutModel",
      "state": {}
     },
     "f21e2c16871b4f398369445521c9d24b": {
      "model_module": "@jupyter-widgets/controls",
      "model_module_version": "1.5.0",
      "model_name": "TextModel",
      "state": {
       "description": "Filename: ",
       "layout": "IPY_MODEL_0dd1f521febd4fc890259cd3b3d7cc66",
       "style": "IPY_MODEL_9ec22a8b25864c0597758a938d8ce9cf",
       "value": "screenshot.png"
      }
     },
     "f244b93e98cb451880c5c578df1d324b": {
      "model_module": "@jupyter-widgets/controls",
      "model_module_version": "1.5.0",
      "model_name": "SliderStyleModel",
      "state": {
       "description_width": ""
      }
     },
     "f25ab6bcf06d41ff972da9cf6215a6f9": {
      "model_module": "@jupyter-widgets/base",
      "model_module_version": "1.2.0",
      "model_name": "LayoutModel",
      "state": {}
     },
     "f2e861e8e40741d69f0c27e1d9cd3201": {
      "model_module": "@jupyter-widgets/base",
      "model_module_version": "1.2.0",
      "model_name": "LayoutModel",
      "state": {}
     },
     "f2efd1bc7f114ecfb20e765068eb4119": {
      "model_module": "@jupyter-widgets/controls",
      "model_module_version": "1.5.0",
      "model_name": "DescriptionStyleModel",
      "state": {
       "description_width": ""
      }
     },
     "f35cfff6fcd949ee93c2aaf0aece06af": {
      "model_module": "@jupyter-widgets/controls",
      "model_module_version": "1.5.0",
      "model_name": "DescriptionStyleModel",
      "state": {
       "description_width": ""
      }
     },
     "f39826cfede74bc38928c0cde37b74f8": {
      "model_module": "@jupyter-widgets/controls",
      "model_module_version": "1.5.0",
      "model_name": "IntSliderModel",
      "state": {
       "layout": "IPY_MODEL_f06a9588f6674328b45e36225cc99e32",
       "max": 0,
       "style": "IPY_MODEL_8b411844ebdb411482a8d10c663ed40c"
      }
     },
     "f41d58b1f03249ee855be1e0d3474f7d": {
      "model_module": "@jupyter-widgets/controls",
      "model_module_version": "1.5.0",
      "model_name": "ButtonModel",
      "state": {
       "icon": "compress",
       "layout": "IPY_MODEL_dc01d8594e9e47ef85654321f5f52428",
       "style": "IPY_MODEL_231afd8537bb4df0b6982cef7a6c7a20"
      }
     },
     "f43023ce93114dceb168dbaaf2c58c8d": {
      "model_module": "@jupyter-widgets/base",
      "model_module_version": "1.2.0",
      "model_name": "LayoutModel",
      "state": {}
     },
     "f5fbde922f414bbd9cb37cf2e0cd3f54": {
      "model_module": "@jupyter-widgets/controls",
      "model_module_version": "1.5.0",
      "model_name": "HBoxModel",
      "state": {
       "children": [
        "IPY_MODEL_4f41605779b1458bbaed874bc7176a29",
        "IPY_MODEL_2276d9914208448eb2265640f85c32f1"
       ],
       "layout": "IPY_MODEL_713761f539c34ef69cc95471ecbfde11"
      }
     },
     "f69684d0a6ae4d67944bf465f3a9a843": {
      "model_module": "@jupyter-widgets/controls",
      "model_module_version": "1.5.0",
      "model_name": "ButtonModel",
      "state": {
       "description": "Save image",
       "layout": "IPY_MODEL_824eb448ee3c4a9dbc3b7a718a3401a4",
       "style": "IPY_MODEL_66b2835b273c4e2b85e05f672bbf0a4c",
       "tooltip": "Save current frame to file.\nCurrently .png and .html are supported.\nIt takes a bit time, please be patient."
      }
     },
     "f6e17d2f5cbc4b35bd99c8fbd52d3adc": {
      "model_module": "@jupyter-widgets/base",
      "model_module_version": "1.2.0",
      "model_name": "LayoutModel",
      "state": {
       "border": "0px solid black"
      }
     },
     "f6e58525774b4f8492a6e56b5311a2f0": {
      "model_module": "@jupyter-widgets/controls",
      "model_module_version": "1.5.0",
      "model_name": "FloatSliderModel",
      "state": {
       "description": "Charge scale",
       "layout": "IPY_MODEL_c660db097ab34cbdb5c4fccf1f8b780e",
       "step": 0.1,
       "style": "IPY_MODEL_bf1d929d2cd54f1cb4e506fca8a9a539",
       "value": 1
      }
     },
     "f75f59efaf3c481f83d126733ef63eb3": {
      "model_module": "@jupyter-widgets/controls",
      "model_module_version": "1.5.0",
      "model_name": "CheckboxModel",
      "state": {
       "description": "Show charge",
       "disabled": false,
       "layout": "IPY_MODEL_eaa5c315b2484c07a38f04c844919e23",
       "style": "IPY_MODEL_dd5c36a613664b70978b2e6f478f8170",
       "value": false
      }
     },
     "f7ad1bcad4684bc69a168860b2f13067": {
      "model_module": "@jupyter-widgets/base",
      "model_module_version": "1.2.0",
      "model_name": "LayoutModel",
      "state": {
       "border": "0px solid black"
      }
     },
     "f7e5e4de3a7f4bdc9fd9d9d31b8703d5": {
      "model_module": "@jupyter-widgets/base",
      "model_module_version": "1.2.0",
      "model_name": "LayoutModel",
      "state": {}
     },
     "f8a57e42cc9f4a489f1c66e29144b5f5": {
      "model_module": "@jupyter-widgets/base",
      "model_module_version": "1.2.0",
      "model_name": "LayoutModel",
      "state": {}
     },
     "f8a82179d78b453d907996d07e8addfa": {
      "model_module": "@jupyter-widgets/base",
      "model_module_version": "1.2.0",
      "model_name": "LayoutModel",
      "state": {}
     },
     "f939bf63045240be90c9cfe88c28b6fa": {
      "model_module": "@jupyter-widgets/base",
      "model_module_version": "1.2.0",
      "model_name": "LayoutModel",
      "state": {}
     },
     "f99a5ec4b41b48cdb1b4650938be2f43": {
      "model_module": "@jupyter-widgets/controls",
      "model_module_version": "1.5.0",
      "model_name": "DropdownModel",
      "state": {
       "_options_labels": [
        " ",
        "picking",
        "random",
        "uniform",
        "atomindex",
        "residueindex",
        "chainindex",
        "modelindex",
        "sstruc",
        "element",
        "resname",
        "bfactor",
        "hydrophobicity",
        "value",
        "volume",
        "occupancy"
       ],
       "description": "Color scheme",
       "index": 9,
       "layout": "IPY_MODEL_798db2b3baa14441bf26d7c1d07b3929",
       "style": "IPY_MODEL_a040daaf32f14c5c8b525edefef24eca"
      }
     },
     "f9b648d5880748a2b204c6329c5944a3": {
      "model_module": "@jupyter-widgets/controls",
      "model_module_version": "1.5.0",
      "model_name": "CheckboxModel",
      "state": {
       "description": "Show force",
       "disabled": false,
       "layout": "IPY_MODEL_10dce96afa584706beda2be6012f92ff",
       "style": "IPY_MODEL_df081fe795e94fddabd396f9d24d799f",
       "value": false
      }
     },
     "f9c86b299ae6420c991e1db1383a10bb": {
      "model_module": "@jupyter-widgets/controls",
      "model_module_version": "1.5.0",
      "model_name": "CheckboxModel",
      "state": {
       "description": "Show charge",
       "disabled": false,
       "layout": "IPY_MODEL_df1f51da4afe4553991259a4ce178c2d",
       "style": "IPY_MODEL_e1e5cec52b744d1394c9ab3b3459c25b",
       "value": false
      }
     },
     "f9dfed197ab44cc09157863338aa576a": {
      "model_module": "@jupyter-widgets/output",
      "model_module_version": "1.0.0",
      "model_name": "OutputModel",
      "state": {
       "layout": "IPY_MODEL_0796e51818324753a63669b7c69c613d"
      }
     },
     "fcebd2bd30a240b682ad3c830590db43": {
      "model_module": "@jupyter-widgets/base",
      "model_module_version": "1.2.0",
      "model_name": "LayoutModel",
      "state": {}
     },
     "fd1b7263d6ba402fa1a3adea08d98932": {
      "model_module": "@jupyter-widgets/controls",
      "model_module_version": "1.5.0",
      "model_name": "FloatSliderModel",
      "state": {
       "description": "Charge scale",
       "layout": "IPY_MODEL_706136846dca49d09005f91342f575ec",
       "step": 0.1,
       "style": "IPY_MODEL_195fae66a420414790e3737e53b46f14",
       "value": 1
      }
     },
     "fe0fbb65ed14424f930ea48318bb2b30": {
      "model_module": "@jupyter-widgets/base",
      "model_module_version": "1.2.0",
      "model_name": "LayoutModel",
      "state": {
       "border": "0px solid black"
      }
     },
     "fe18a00a4d904c199bf4d4ffd5c483bc": {
      "model_module": "@jupyter-widgets/controls",
      "model_module_version": "1.5.0",
      "model_name": "LinkModel",
      "state": {
       "source": [
        "IPY_MODEL_da5ab7e554cd4456bcb7c711aae22697",
        "value"
       ],
       "target": [
        "IPY_MODEL_99adcb7b636b46efa897f4b77ede2e03",
        "frame"
       ]
      }
     },
     "fe21f55926134b649c64d957fa2fdcdf": {
      "model_module": "@jupyter-widgets/controls",
      "model_module_version": "1.5.0",
      "model_name": "DescriptionStyleModel",
      "state": {
       "description_width": ""
      }
     },
     "feb0495cad134677befa6ca2967ab7c6": {
      "model_module": "@jupyter-widgets/controls",
      "model_module_version": "1.5.0",
      "model_name": "ButtonStyleModel",
      "state": {}
     },
     "ff45afaf086a4b25aa7e5e5acd610f26": {
      "model_module": "@jupyter-widgets/controls",
      "model_module_version": "1.5.0",
      "model_name": "SliderStyleModel",
      "state": {
       "description_width": ""
      }
     }
    },
    "version_major": 2,
    "version_minor": 0
   }
  }
 },
 "nbformat": 4,
 "nbformat_minor": 5
}
