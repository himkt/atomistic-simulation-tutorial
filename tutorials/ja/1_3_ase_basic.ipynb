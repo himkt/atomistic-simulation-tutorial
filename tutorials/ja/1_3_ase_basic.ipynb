{
 "cells": [
  {
   "cell_type": "markdown",
   "id": "802ba23f-2812-4519-ba19-7c13d258c040",
   "metadata": {},
   "source": [
    "# ASE Basic\n",
    "\n",
    "Pythonで原子シミュレーションを進めていく際に便利なOSSライブラリとして、Atomic Simulation Environment: ASEがあります。<br/>\n",
    "本章ではASEの基本的な使い方を紹介していきます。\n",
    "\n",
    " - Documentation: https://wiki.fysik.dtu.dk/ase/\n",
    " - gitlab: https://gitlab.com/ase/ase"
   ]
  },
  {
   "cell_type": "markdown",
   "id": "137fe402-d676-40a0-9e49-79361645c06e",
   "metadata": {
    "tags": []
   },
   "source": [
    "## Atomsについて\n",
    "\n",
    "ASEでは原子が複数個集まって作られる系を `Atoms` クラスで表現します。\n",
    "\n",
    " - https://wiki.fysik.dtu.dk/ase/ase/atoms.html\n",
    "\n",
    "`Atoms`クラスは前章で説明した、原子シミュレーションに必要な構造を表現するための以下のような`attribute`(変数)を保持しています。\n",
    " - 各原子の元素種類\n",
    " - 座標値\n",
    " - 速度(運動量)\n",
    " - セル\n",
    " - 周期境界条件など"
   ]
  },
  {
   "cell_type": "markdown",
   "id": "d5bf9c8f-ec5a-43b0-aa66-dec668138ec1",
   "metadata": {
    "tags": []
   },
   "source": [
    "### Atomsの作成方法： 原子種・座標を直接指定\n",
    "\n",
    "`Atoms`を作るための一番原始的な方法として、原子種とその座標値を直接指定する方法があります。<br/>\n",
    "以下は、1つめのHがxyz座標値 `[0, 0, 0]`、2つめのHがxyz座標値 `[1.0, 0, 0]` に存在する水素分子H2を作る例です。"
   ]
  },
  {
   "cell_type": "code",
   "execution_count": 1,
   "id": "cddb2679-9aad-4f6f-9108-14079b3e6ca2",
   "metadata": {},
   "outputs": [],
   "source": [
    "from ase import Atoms\n",
    "\n",
    "atoms = Atoms(\"H2\", [[0, 0, 0], [1.0, 0, 0]])"
   ]
  },
  {
   "cell_type": "markdown",
   "id": "2268dd40-0fba-4013-87f6-440e564aee3e",
   "metadata": {},
   "source": [
    "原子の可視化を行うこともできます。\n",
    "ここでは、ASEのview 関数を用い、`nglviewer`というライブラリを用いて可視化を行っています。\n",
    "\n",
    "`nglviewer` を用いると、３次元の原子構造を表示しながら、マウスでインタラクティブに操作することもできます。\n",
    "\n",
    "可視化についての詳細は[Appendix_1_visualization.ipynb](./Appendix_1_visualization.ipynb)をご参照ください。"
   ]
  },
  {
   "cell_type": "code",
   "execution_count": 2,
   "id": "35740376-56bf-435c-85e2-771c5161e04f",
   "metadata": {},
   "outputs": [
    {
     "data": {
      "application/vnd.jupyter.widget-view+json": {
       "model_id": "d6db2514be574b37bca242b8406b79f7",
       "version_major": 2,
       "version_minor": 0
      },
      "text/plain": []
     },
     "metadata": {},
     "output_type": "display_data"
    },
    {
     "data": {
      "application/vnd.jupyter.widget-view+json": {
       "model_id": "6646606e0e9d431c970fd92dd40b68f7",
       "version_major": 2,
       "version_minor": 0
      },
      "text/plain": [
       "HBox(children=(NGLWidget(), VBox(children=(Dropdown(description='Show', options=('All', 'H'), value='All'), Dr…"
      ]
     },
     "metadata": {},
     "output_type": "display_data"
    }
   ],
   "source": [
    "from ase.visualize import view\n",
    "from pfcc_extras.visualize.view import view_ngl\n",
    "\n",
    "#view(atoms, viewer=\"ngl\")\n",
    "view_ngl(atoms, representations=[\"ball+stick\"], w=400, h=300)"
   ]
  },
  {
   "cell_type": "markdown",
   "id": "221a69d3-d238-4b4e-baf1-7220927aeb93",
   "metadata": {},
   "source": [
    "以下のように、ASEを用いてpng静止画を描画することも可能です。"
   ]
  },
  {
   "cell_type": "code",
   "execution_count": 3,
   "id": "48dc12b0-0159-4c1d-ac2b-1c433988c731",
   "metadata": {},
   "outputs": [
    {
     "data": {
      "text/html": [
       "<img src=\"output/H2O.png\" width=\"150\"/>"
      ],
      "text/plain": [
       "<IPython.core.display.Image object>"
      ]
     },
     "execution_count": 3,
     "metadata": {},
     "output_type": "execute_result"
    }
   ],
   "source": [
    "from ase.io import write\n",
    "from IPython.display import Image\n",
    "\n",
    "write(\"output/H2O.png\", atoms, rotation=\"0x,0y,0z\", scale=100)\n",
    "Image(url='output/H2O.png', width=150)"
   ]
  },
  {
   "cell_type": "markdown",
   "id": "b73b85c7-6447-46d4-9142-b93cfe602e47",
   "metadata": {},
   "source": [
    "以下は上記のプログラムを１行でできるようにした便利関数です。今後はこれを用います。"
   ]
  },
  {
   "cell_type": "code",
   "execution_count": 4,
   "id": "ca7a3279-ce21-4bec-9978-53a7f87edb23",
   "metadata": {},
   "outputs": [
    {
     "data": {
      "image/png": "[encoded data removed]",
      "text/plain": [
       "<Figure size 288x288 with 1 Axes>"
      ]
     },
     "metadata": {
      "needs_background": "light"
     },
     "output_type": "display_data"
    }
   ],
   "source": [
    "from pfcc_extras.visualize.ase import view_ase_atoms\n",
    "\n",
    "view_ase_atoms(atoms, figsize=(4, 4), title=\"H2 atoms\", scale=100)"
   ]
  },
  {
   "cell_type": "markdown",
   "id": "903a23f5-8aa6-4697-8428-ab36def7a4c3",
   "metadata": {},
   "source": [
    "元素記号 `symbols`の代わりに、原子番号を`numbers` として指定することも可能です。"
   ]
  },
  {
   "cell_type": "code",
   "execution_count": 5,
   "id": "a41a3d84-d4ad-4aa4-8d64-1f290dd03d75",
   "metadata": {},
   "outputs": [
    {
     "data": {
      "application/vnd.jupyter.widget-view+json": {
       "model_id": "c792e55ac1074c5499887de493993f99",
       "version_major": 2,
       "version_minor": 0
      },
      "text/plain": [
       "HBox(children=(NGLWidget(), VBox(children=(Dropdown(description='Show', options=('All', 'C', 'O'), value='All'…"
      ]
     },
     "metadata": {},
     "output_type": "display_data"
    }
   ],
   "source": [
    "co_atoms = Atoms(numbers=[6, 8], positions=[[0, 0, 0], [1.0, 0, 0]])\n",
    "view_ngl(co_atoms, representations=[\"ball+stick\"], w=400, h=300)"
   ]
  },
  {
   "cell_type": "code",
   "execution_count": 6,
   "id": "322b6000-6848-41cd-a72e-5054742b16dd",
   "metadata": {},
   "outputs": [
    {
     "data": {
      "image/png": "[encoded data removed]",
      "text/plain": [
       "<Figure size 288x288 with 1 Axes>"
      ]
     },
     "metadata": {
      "needs_background": "light"
     },
     "output_type": "display_data"
    }
   ],
   "source": [
    "view_ase_atoms(co_atoms, figsize=(4, 4), title=\"CO atoms\", scale=100)"
   ]
  },
  {
   "cell_type": "markdown",
   "id": "003cd529-6201-4519-8617-21d8eee9af29",
   "metadata": {},
   "source": [
    "周期境界条件を含む系を定義したい場合は、`cell` に周期情報を指定し、`pbc` にa軸b軸c軸それぞれに対して周期境界条件を適用するかどうかのON/OFFを指定することができます。"
   ]
  },
  {
   "cell_type": "code",
   "execution_count": 7,
   "id": "f4ea5d32-3205-4c51-8ba6-9e9edbdef0a4",
   "metadata": {},
   "outputs": [],
   "source": [
    "from ase import Atoms\n",
    "\n",
    "\n",
    "na2_atoms = Atoms(\n",
    "    symbols=\"Na2\",\n",
    "    positions=[[0, 0, 0], [2.115, 2.115, 2.115]],\n",
    "    cell=[4.23, 4.23, 4.23],\n",
    "    pbc=[True, True, True]\n",
    ")"
   ]
  },
  {
   "cell_type": "code",
   "execution_count": 8,
   "id": "536b44b8-c51e-449d-bc7a-6b6e95e85011",
   "metadata": {},
   "outputs": [
    {
     "data": {
      "application/vnd.jupyter.widget-view+json": {
       "model_id": "265eb7a51cd840ee90a14e3e3e53946b",
       "version_major": 2,
       "version_minor": 0
      },
      "text/plain": [
       "HBox(children=(NGLWidget(), VBox(children=(Dropdown(description='Show', options=('All', 'Na'), value='All'), D…"
      ]
     },
     "metadata": {},
     "output_type": "display_data"
    }
   ],
   "source": [
    "view_ngl(na2_atoms, w=400, h=300)"
   ]
  },
  {
   "cell_type": "code",
   "execution_count": 9,
   "id": "b846f816-950c-4a11-b4cb-b1ad7c608988",
   "metadata": {},
   "outputs": [
    {
     "data": {
      "image/png": "[encoded data removed]",
      "text/plain": [
       "<Figure size 216x216 with 1 Axes>"
      ]
     },
     "metadata": {
      "needs_background": "light"
     },
     "output_type": "display_data"
    }
   ],
   "source": [
    "view_ase_atoms(na2_atoms, rotation=\"10x,10y,0z\", figsize=(3, 3), title=\"Na2 atoms\", scale=30)"
   ]
  },
  {
   "cell_type": "markdown",
   "id": "aa3fc254-1b71-4040-ad14-59aa488c0aff",
   "metadata": {},
   "source": [
    "### Atomsの持つattribute, method\n",
    "\n",
    "<figure style=\"width:200px\">\n",
    "<img src=\"../assets/atoms.png\"/>\n",
    "</figure>\n",
    "\n",
    "`atoms` はその系の情報を保持しており、Attribute や `get_XXX` 関数を通して参照することができます。\n",
    "\n",
    "Attributeとは Atomsクラスの持つ変数のことで、 `atoms.xxx` と直接参照することが出来るものもあります。<br/>\n",
    "関数を通してアクセスできる情報もあります。\n",
    "\n",
    "以下は主要なAttributeや関数の返り値(numpy array としてのshapeがどの様になっているか)をまとめたものです。\n",
    "\n",
    " - Attribute\n",
    "   - `symbols`: 元素種とその数をまとめたものを返す\n",
    "   - `numbers`: 原子番号のarray。shapeは(N,)\n",
    "   - `positions`: 各原子の座標値を示す。shapeは(N, 3)。 3はxyz座標を表す。\n",
    "   - `cell`: ASEのCellをあつかうCellクラスで表現される。\n",
    "     - Cellクラスに関して詳しくは後述する。[三斜晶系](https://ja.wikipedia.org/wiki/%E4%B8%89%E6%96%9C%E6%99%B6%E7%B3%BB)など一般的にはa, b, c軸のベクトルをそれぞれ表す(3, 3) の行列で表されるが、[直方晶](https://ja.wikipedia.org/wiki/%E7%9B%B4%E6%96%B9%E6%99%B6%E7%B3%BB)の場合はa, b, c軸の長さのみが(3,) で表現される。\n",
    "   - `pbc`: 各方向に周期境界条件(Periodic Boundary Condition) があるかどうかを示す。\n",
    " - 関数\n",
    "   - `get_masses()`: 各原子の質量を返す。\n",
    "   - `get_momenta()`: 各原子に設定されている運動量を返す。\n",
    "   - `len(atoms)`: Atoms全体の原子数`N`を返す。"
   ]
  },
  {
   "cell_type": "code",
   "execution_count": 10,
   "id": "c6473214-212a-4e39-8003-25ea4f30e307",
   "metadata": {},
   "outputs": [
    {
     "name": "stdout",
     "output_type": "stream",
     "text": [
      "symbols  : H2\n",
      "positions: [[0. 0. 0.]\n",
      " [1. 0. 0.]]\n",
      "cell     : Cell([0.0, 0.0, 0.0])\n",
      "pbc      : [False False False]\n",
      "numbers  : [1 1]\n",
      "massess  : [1.008 1.008]\n",
      "momenta  : [[0. 0. 0.]\n",
      " [0. 0. 0.]]\n",
      "Numbers of atoms  : 2\n"
     ]
    }
   ],
   "source": [
    "print(f\"symbols  : {atoms.symbols}\")\n",
    "print(f\"positions: {atoms.positions}\")\n",
    "print(f\"cell     : {atoms.cell}\")\n",
    "print(f\"pbc      : {atoms.pbc}\")\n",
    "\n",
    "# Atomic numbers やMass はSymbolが指定されていれば自動で計算されます。\n",
    "print(f\"numbers  : {atoms.numbers}\")\n",
    "print(f\"massess  : {atoms.get_masses()}\")\n",
    "print(f\"momenta  : {atoms.get_momenta()}\")\n",
    "print(f\"Numbers of atoms  : {len(atoms)}\")"
   ]
  },
  {
   "cell_type": "markdown",
   "id": "110c18a9-6c4e-4f60-a82f-0ce18fb45140",
   "metadata": {},
   "source": [
    "### 単位系\n",
    "\n",
    "ASEでは、エネルギーの単位はeV (約 $1.602 \\times 10^{-19}$ J)、座標系の単位はÅ ($1 \\times 10^{-10}$ m)で扱われる事が多いです。<br/>\n",
    "力や応力の単位はこれらの複合単位で、力についてはeV/Å、応力についてはeV/Å2です。chargeの単位は電荷素量です。\n",
    "\n",
    " - eV: [電子ボルト](https://ja.wikipedia.org/wiki/%E9%9B%BB%E5%AD%90%E3%83%9C%E3%83%AB%E3%83%88)\n",
    " - Å: [オングストローム](https://ja.wikipedia.org/wiki/%E3%82%AA%E3%83%B3%E3%82%B0%E3%82%B9%E3%83%88%E3%83%AD%E3%83%BC%E3%83%A0)\n",
    " - e: [電気素量](https://ja.wikipedia.org/wiki/%E9%9B%BB%E6%B0%97%E7%B4%A0%E9%87%8F)"
   ]
  },
  {
   "cell_type": "markdown",
   "id": "1b115527-affc-4080-9e8a-6833aab115b6",
   "metadata": {},
   "source": [
    "[Tips] Jupyter 上で各クラス・関数のより詳細な情報を知りたい場合、　? を後ろにつけることでドキュメントの表示ができます。"
   ]
  },
  {
   "cell_type": "code",
   "execution_count": 11,
   "id": "7a910888-9343-4516-8b27-b8da0ee778a3",
   "metadata": {},
   "outputs": [
    {
     "data": {
      "text/plain": [
       "\u001b[0;31mInit signature:\u001b[0m\n",
       "\u001b[0mAtoms\u001b[0m\u001b[0;34m(\u001b[0m\u001b[0;34m\u001b[0m\n",
       "\u001b[0;34m\u001b[0m    \u001b[0msymbols\u001b[0m\u001b[0;34m=\u001b[0m\u001b[0;32mNone\u001b[0m\u001b[0;34m,\u001b[0m\u001b[0;34m\u001b[0m\n",
       "\u001b[0;34m\u001b[0m    \u001b[0mpositions\u001b[0m\u001b[0;34m=\u001b[0m\u001b[0;32mNone\u001b[0m\u001b[0;34m,\u001b[0m\u001b[0;34m\u001b[0m\n",
       "\u001b[0;34m\u001b[0m    \u001b[0mnumbers\u001b[0m\u001b[0;34m=\u001b[0m\u001b[0;32mNone\u001b[0m\u001b[0;34m,\u001b[0m\u001b[0;34m\u001b[0m\n",
       "\u001b[0;34m\u001b[0m    \u001b[0mtags\u001b[0m\u001b[0;34m=\u001b[0m\u001b[0;32mNone\u001b[0m\u001b[0;34m,\u001b[0m\u001b[0;34m\u001b[0m\n",
       "\u001b[0;34m\u001b[0m    \u001b[0mmomenta\u001b[0m\u001b[0;34m=\u001b[0m\u001b[0;32mNone\u001b[0m\u001b[0;34m,\u001b[0m\u001b[0;34m\u001b[0m\n",
       "\u001b[0;34m\u001b[0m    \u001b[0mmasses\u001b[0m\u001b[0;34m=\u001b[0m\u001b[0;32mNone\u001b[0m\u001b[0;34m,\u001b[0m\u001b[0;34m\u001b[0m\n",
       "\u001b[0;34m\u001b[0m    \u001b[0mmagmoms\u001b[0m\u001b[0;34m=\u001b[0m\u001b[0;32mNone\u001b[0m\u001b[0;34m,\u001b[0m\u001b[0;34m\u001b[0m\n",
       "\u001b[0;34m\u001b[0m    \u001b[0mcharges\u001b[0m\u001b[0;34m=\u001b[0m\u001b[0;32mNone\u001b[0m\u001b[0;34m,\u001b[0m\u001b[0;34m\u001b[0m\n",
       "\u001b[0;34m\u001b[0m    \u001b[0mscaled_positions\u001b[0m\u001b[0;34m=\u001b[0m\u001b[0;32mNone\u001b[0m\u001b[0;34m,\u001b[0m\u001b[0;34m\u001b[0m\n",
       "\u001b[0;34m\u001b[0m    \u001b[0mcell\u001b[0m\u001b[0;34m=\u001b[0m\u001b[0;32mNone\u001b[0m\u001b[0;34m,\u001b[0m\u001b[0;34m\u001b[0m\n",
       "\u001b[0;34m\u001b[0m    \u001b[0mpbc\u001b[0m\u001b[0;34m=\u001b[0m\u001b[0;32mNone\u001b[0m\u001b[0;34m,\u001b[0m\u001b[0;34m\u001b[0m\n",
       "\u001b[0;34m\u001b[0m    \u001b[0mcelldisp\u001b[0m\u001b[0;34m=\u001b[0m\u001b[0;32mNone\u001b[0m\u001b[0;34m,\u001b[0m\u001b[0;34m\u001b[0m\n",
       "\u001b[0;34m\u001b[0m    \u001b[0mconstraint\u001b[0m\u001b[0;34m=\u001b[0m\u001b[0;32mNone\u001b[0m\u001b[0;34m,\u001b[0m\u001b[0;34m\u001b[0m\n",
       "\u001b[0;34m\u001b[0m    \u001b[0mcalculator\u001b[0m\u001b[0;34m=\u001b[0m\u001b[0;32mNone\u001b[0m\u001b[0;34m,\u001b[0m\u001b[0;34m\u001b[0m\n",
       "\u001b[0;34m\u001b[0m    \u001b[0minfo\u001b[0m\u001b[0;34m=\u001b[0m\u001b[0;32mNone\u001b[0m\u001b[0;34m,\u001b[0m\u001b[0;34m\u001b[0m\n",
       "\u001b[0;34m\u001b[0m    \u001b[0mvelocities\u001b[0m\u001b[0;34m=\u001b[0m\u001b[0;32mNone\u001b[0m\u001b[0;34m,\u001b[0m\u001b[0;34m\u001b[0m\n",
       "\u001b[0;34m\u001b[0m\u001b[0;34m)\u001b[0m\u001b[0;34m\u001b[0m\u001b[0;34m\u001b[0m\u001b[0m\n",
       "\u001b[0;31mDocstring:\u001b[0m     \n",
       "Atoms object.\n",
       "\n",
       "The Atoms object can represent an isolated molecule, or a\n",
       "periodically repeated structure.  It has a unit cell and\n",
       "there may be periodic boundary conditions along any of the three\n",
       "unit cell axes.\n",
       "Information about the atoms (atomic numbers and position) is\n",
       "stored in ndarrays.  Optionally, there can be information about\n",
       "tags, momenta, masses, magnetic moments and charges.\n",
       "\n",
       "In order to calculate energies, forces and stresses, a calculator\n",
       "object has to attached to the atoms object.\n",
       "\n",
       "Parameters:\n",
       "\n",
       "symbols: str (formula) or list of str\n",
       "    Can be a string formula, a list of symbols or a list of\n",
       "    Atom objects.  Examples: 'H2O', 'COPt12', ['H', 'H', 'O'],\n",
       "    [Atom('Ne', (x, y, z)), ...].\n",
       "positions: list of xyz-positions\n",
       "    Atomic positions.  Anything that can be converted to an\n",
       "    ndarray of shape (n, 3) will do: [(x1,y1,z1), (x2,y2,z2),\n",
       "    ...].\n",
       "scaled_positions: list of scaled-positions\n",
       "    Like positions, but given in units of the unit cell.\n",
       "    Can not be set at the same time as positions.\n",
       "numbers: list of int\n",
       "    Atomic numbers (use only one of symbols/numbers).\n",
       "tags: list of int\n",
       "    Special purpose tags.\n",
       "momenta: list of xyz-momenta\n",
       "    Momenta for all atoms.\n",
       "masses: list of float\n",
       "    Atomic masses in atomic units.\n",
       "magmoms: list of float or list of xyz-values\n",
       "    Magnetic moments.  Can be either a single value for each atom\n",
       "    for collinear calculations or three numbers for each atom for\n",
       "    non-collinear calculations.\n",
       "charges: list of float\n",
       "    Initial atomic charges.\n",
       "cell: 3x3 matrix or length 3 or 6 vector\n",
       "    Unit cell vectors.  Can also be given as just three\n",
       "    numbers for orthorhombic cells, or 6 numbers, where\n",
       "    first three are lengths of unit cell vectors, and the\n",
       "    other three are angles between them (in degrees), in following order:\n",
       "    [len(a), len(b), len(c), angle(b,c), angle(a,c), angle(a,b)].\n",
       "    First vector will lie in x-direction, second in xy-plane,\n",
       "    and the third one in z-positive subspace.\n",
       "    Default value: [0, 0, 0].\n",
       "celldisp: Vector\n",
       "    Unit cell displacement vector. To visualize a displaced cell\n",
       "    around the center of mass of a Systems of atoms. Default value\n",
       "    = (0,0,0)\n",
       "pbc: one or three bool\n",
       "    Periodic boundary conditions flags.  Examples: True,\n",
       "    False, 0, 1, (1, 1, 0), (True, False, False).  Default\n",
       "    value: False.\n",
       "constraint: constraint object(s)\n",
       "    Used for applying one or more constraints during structure\n",
       "    optimization.\n",
       "calculator: calculator object\n",
       "    Used to attach a calculator for calculating energies and atomic\n",
       "    forces.\n",
       "info: dict of key-value pairs\n",
       "    Dictionary of key-value pairs with additional information\n",
       "    about the system.  The following keys may be used by ase:\n",
       "\n",
       "      - spacegroup: Spacegroup instance\n",
       "      - unit_cell: 'conventional' | 'primitive' | int | 3 ints\n",
       "      - adsorbate_info: Information about special adsorption sites\n",
       "\n",
       "    Items in the info attribute survives copy and slicing and can\n",
       "    be stored in and retrieved from trajectory files given that the\n",
       "    key is a string, the value is JSON-compatible and, if the value is a\n",
       "    user-defined object, its base class is importable.  One should\n",
       "    not make any assumptions about the existence of keys.\n",
       "\n",
       "Examples:\n",
       "\n",
       "These three are equivalent:\n",
       "\n",
       ">>> d = 1.104  # N2 bondlength\n",
       ">>> a = Atoms('N2', [(0, 0, 0), (0, 0, d)])\n",
       ">>> a = Atoms(numbers=[7, 7], positions=[(0, 0, 0), (0, 0, d)])\n",
       ">>> a = Atoms([Atom('N', (0, 0, 0)), Atom('N', (0, 0, d))])\n",
       "\n",
       "FCC gold:\n",
       "\n",
       ">>> a = 4.05  # Gold lattice constant\n",
       ">>> b = a / 2\n",
       ">>> fcc = Atoms('Au',\n",
       "...             cell=[(0, b, b), (b, 0, b), (b, b, 0)],\n",
       "...             pbc=True)\n",
       "\n",
       "Hydrogen wire:\n",
       "\n",
       ">>> d = 0.9  # H-H distance\n",
       ">>> h = Atoms('H', positions=[(0, 0, 0)],\n",
       "...           cell=(d, 0, 0),\n",
       "...           pbc=(1, 0, 0))\n",
       "\u001b[0;31mFile:\u001b[0m           ~/.local/lib/python3.7/site-packages/ase/atoms.py\n",
       "\u001b[0;31mType:\u001b[0m           type\n",
       "\u001b[0;31mSubclasses:\u001b[0m     \n"
      ]
     },
     "metadata": {},
     "output_type": "display_data"
    }
   ],
   "source": [
    "Atoms?"
   ]
  }
 ],
 "metadata": {
  "kernelspec": {
   "display_name": "Python 3.7",
   "language": "python",
   "name": "python37"
  },
  "language_info": {
   "codemirror_mode": {
    "name": "ipython",
    "version": 3
   },
   "file_extension": ".py",
   "mimetype": "text/x-python",
   "name": "python",
   "nbconvert_exporter": "python",
   "pygments_lexer": "ipython3",
   "version": "3.7.13"
  },
  "toc-autonumbering": false,
  "toc-showcode": false,
  "toc-showmarkdowntxt": false,
  "toc-showtags": false,
  "widgets": {
   "application/vnd.jupyter.widget-state+json": {
    "state": {
     "027008aea0ce4ec389cf9cbdc0a13f63": {
      "model_module": "@jupyter-widgets/output",
      "model_module_version": "1.0.0",
      "model_name": "OutputModel",
      "state": {
       "layout": "IPY_MODEL_abc57706b8a74eeb89a6889c91f47eec"
      }
     },
     "029a601cbbeb41118983838f0d001a05": {
      "model_module": "@jupyter-widgets/controls",
      "model_module_version": "1.5.0",
      "model_name": "ButtonModel",
      "state": {
       "description": "Save image",
       "layout": "IPY_MODEL_87a12a79c3b242fcb068e164c62cbda5",
       "style": "IPY_MODEL_4894dbeeb36944febb839ffae2a3b870",
       "tooltip": "Save current frame to file.\nCurrently .png and .html are supported.\nIt takes a bit time, please be patient."
      }
     },
     "02a64c0fa5fc46a99aba5e5e8efd3898": {
      "model_module": "@jupyter-widgets/controls",
      "model_module_version": "1.5.0",
      "model_name": "LinkModel",
      "state": {
       "source": [
        "IPY_MODEL_5fc987f5a9054458bfe6c48cf848dde4",
        "value"
       ],
       "target": [
        "IPY_MODEL_21f40893fc1741ad9439288647c338a4",
        "value"
       ]
      }
     },
     "07a5a02957db4bcb91e5cbd1b9616c3e": {
      "model_module": "@jupyter-widgets/output",
      "model_module_version": "1.0.0",
      "model_name": "OutputModel",
      "state": {
       "layout": "IPY_MODEL_3d37596ae70e4bbab83640403b33ce4b"
      }
     },
     "08d5645c40f447e083f8248de7f7e7f2": {
      "model_module": "@jupyter-widgets/controls",
      "model_module_version": "1.5.0",
      "model_name": "LinkModel",
      "state": {
       "source": [
        "IPY_MODEL_16b5c6c239cc448e910c0f1095f5417d",
        "max"
       ],
       "target": [
        "IPY_MODEL_6bea451c1e214c9d98b5ea155f3d77cf",
        "max_frame"
       ]
      }
     },
     "0d2b240761744f85a01e5d293b6a110a": {
      "model_module": "@jupyter-widgets/controls",
      "model_module_version": "1.5.0",
      "model_name": "FloatSliderModel",
      "state": {
       "description": "Ball size",
       "layout": "IPY_MODEL_76e913c658b7449ba0e1adbf6ac2f093",
       "max": 1.5,
       "step": 0.01,
       "style": "IPY_MODEL_fa9d6cae01374d3898a87fc05df388b7",
       "value": 0.5
      }
     },
     "0d4fca31de1049c4bb36c0d1d39e96da": {
      "model_module": "@jupyter-widgets/controls",
      "model_module_version": "1.5.0",
      "model_name": "DescriptionStyleModel",
      "state": {
       "description_width": ""
      }
     },
     "0dbff0b6bfff45719d444545899cee9f": {
      "model_module": "@jupyter-widgets/controls",
      "model_module_version": "1.5.0",
      "model_name": "VBoxModel",
      "state": {
       "children": [
        "IPY_MODEL_829c9efafee74cfd9e71b51ffb25c76b",
        "IPY_MODEL_abd6486cb874492280f5884d60c77a74",
        "IPY_MODEL_29b782af484c45a68a667fed3cdcb27d",
        "IPY_MODEL_5d192eb6f4e646ce8dec0faf5bdf3e14",
        "IPY_MODEL_2d912db7b98e4ade9883d3540a40c712",
        "IPY_MODEL_1a2330d9c44b47638e25b2dd2bd0a3eb",
        "IPY_MODEL_47449c7735854517a46503255a5595f3",
        "IPY_MODEL_9cb584cd2e1d49c0bdc351e2cda49f5c",
        "IPY_MODEL_47a974eae9334d53832ac769cd3b55c0",
        "IPY_MODEL_07a5a02957db4bcb91e5cbd1b9616c3e"
       ],
       "layout": "IPY_MODEL_5d0a24fbaaa341eebee646936dcc1469"
      }
     },
     "10fe964b003c4feca5820185608dc6ef": {
      "model_module": "@jupyter-widgets/controls",
      "model_module_version": "1.5.0",
      "model_name": "DescriptionStyleModel",
      "state": {
       "description_width": ""
      }
     },
     "161c7c5003dc4012ae9a009b9bed6289": {
      "model_module": "@jupyter-widgets/controls",
      "model_module_version": "1.5.0",
      "model_name": "ImageModel",
      "state": {
       "layout": "IPY_MODEL_5029e398cbd84245b0c288f91b6a7359",
       "width": "900.0"
      }
     },
     "16b5c6c239cc448e910c0f1095f5417d": {
      "model_module": "@jupyter-widgets/controls",
      "model_module_version": "1.5.0",
      "model_name": "PlayModel",
      "state": {
       "layout": "IPY_MODEL_dece9ff89124447d84405f098214151f",
       "max": 0,
       "style": "IPY_MODEL_10fe964b003c4feca5820185608dc6ef"
      }
     },
     "17a023c287d748b79d25a4c20f9e623b": {
      "model_module": "@jupyter-widgets/controls",
      "model_module_version": "1.5.0",
      "model_name": "FloatSliderModel",
      "state": {
       "description": "Charge scale",
       "layout": "IPY_MODEL_dce52bc9fdac49aa873ed59832b3db96",
       "step": 0.1,
       "style": "IPY_MODEL_7da66f2aae394616a369caf7a27e3f33",
       "value": 1
      }
     },
     "198b36387a3b45208aa30afd0cf47232": {
      "model_module": "@jupyter-widgets/base",
      "model_module_version": "1.2.0",
      "model_name": "LayoutModel",
      "state": {
       "width": "34px"
      }
     },
     "1a2330d9c44b47638e25b2dd2bd0a3eb": {
      "model_module": "@jupyter-widgets/controls",
      "model_module_version": "1.5.0",
      "model_name": "CheckboxModel",
      "state": {
       "description": "Show force",
       "disabled": false,
       "layout": "IPY_MODEL_bde50b17ef0a4cc7b36969361410afee",
       "style": "IPY_MODEL_8d13c0d6224f44ab91dd401b19bce993",
       "value": false
      }
     },
     "1cacfe7c09c34fcfb37e6e5d9c3bfc40": {
      "model_module": "@jupyter-widgets/controls",
      "model_module_version": "1.5.0",
      "model_name": "DescriptionStyleModel",
      "state": {
       "description_width": ""
      }
     },
     "1fd8ba532e2b48d6b685f3efa91219aa": {
      "model_module": "@jupyter-widgets/base",
      "model_module_version": "1.2.0",
      "model_name": "LayoutModel",
      "state": {}
     },
     "208c5d1d8f6d42d4874c4a198d5dff60": {
      "model_module": "@jupyter-widgets/controls",
      "model_module_version": "1.5.0",
      "model_name": "HBoxModel",
      "state": {
       "children": [
        "IPY_MODEL_b527636c0fb748dfb53807e5d564710c",
        "IPY_MODEL_375b81cac4b5430896c94c80bc87538a"
       ],
       "layout": "IPY_MODEL_bbc305cf00f94888bd8de32918b38c24"
      }
     },
     "20cd967740314815bc28064eb4733147": {
      "model_module": "@jupyter-widgets/base",
      "model_module_version": "1.2.0",
      "model_name": "LayoutModel",
      "state": {}
     },
     "2108aebc41cd47769d37fcc7ae14b269": {
      "model_module": "@jupyter-widgets/controls",
      "model_module_version": "1.5.0",
      "model_name": "LinkModel",
      "state": {
       "source": [
        "IPY_MODEL_c38e5385fbf6410a9d547f6522f55ade",
        "max"
       ],
       "target": [
        "IPY_MODEL_c497dbb410464681a757cf272f5a77e0",
        "max_frame"
       ]
      }
     },
     "21f40893fc1741ad9439288647c338a4": {
      "model_module": "@jupyter-widgets/controls",
      "model_module_version": "1.5.0",
      "model_name": "IntSliderModel",
      "state": {
       "layout": "IPY_MODEL_e122106f22f04b8e886bf99be2b2752b",
       "max": 0,
       "style": "IPY_MODEL_6ada7d21b2b34998ad033fe634b6c4cb"
      }
     },
     "2268a163770349dea8edddcd4f658cc8": {
      "model_module": "@jupyter-widgets/controls",
      "model_module_version": "1.5.0",
      "model_name": "LinkModel",
      "state": {
       "source": [
        "IPY_MODEL_2da0b9e9ca094ad2b1b0998365bf3125",
        "value"
       ],
       "target": [
        "IPY_MODEL_c38e5385fbf6410a9d547f6522f55ade",
        "value"
       ]
      }
     },
     "2396b7e3f73d498c840089cf77a59662": {
      "model_module": "@jupyter-widgets/controls",
      "model_module_version": "1.5.0",
      "model_name": "DescriptionStyleModel",
      "state": {
       "description_width": ""
      }
     },
     "239f55d1f70f43828a9010842c71b7b3": {
      "model_module": "@jupyter-widgets/controls",
      "model_module_version": "1.5.0",
      "model_name": "ButtonStyleModel",
      "state": {}
     },
     "265eb7a51cd840ee90a14e3e3e53946b": {
      "model_module": "@jupyter-widgets/controls",
      "model_module_version": "1.5.0",
      "model_name": "HBoxModel",
      "state": {
       "children": [
        "IPY_MODEL_c497dbb410464681a757cf272f5a77e0",
        "IPY_MODEL_9264d3bb464c4a03a3a485be19102f3c"
       ],
       "layout": "IPY_MODEL_39b81e5220994788bf82aa169843dd23"
      }
     },
     "2840bbdf839c48f19fb94641147b65c2": {
      "model_module": "@jupyter-widgets/base",
      "model_module_version": "1.2.0",
      "model_name": "LayoutModel",
      "state": {}
     },
     "29b782af484c45a68a667fed3cdcb27d": {
      "model_module": "@jupyter-widgets/controls",
      "model_module_version": "1.5.0",
      "model_name": "FloatSliderModel",
      "state": {
       "description": "Ball size",
       "layout": "IPY_MODEL_aa24f3181ac84877ae0a6faa12434c87",
       "max": 1.5,
       "step": 0.01,
       "style": "IPY_MODEL_2fa7699a69e6435291326a37304aed67",
       "value": 0.5
      }
     },
     "29e7971aae534d259681c67105dee2b4": {
      "model_module": "@jupyter-widgets/controls",
      "model_module_version": "1.5.0",
      "model_name": "SliderStyleModel",
      "state": {
       "description_width": ""
      }
     },
     "2a4cb695ef7e4b969b5ade4082ca11a9": {
      "model_module": "@jupyter-widgets/output",
      "model_module_version": "1.0.0",
      "model_name": "OutputModel",
      "state": {
       "layout": "IPY_MODEL_7b625191b8fb476da3dfee6a0902365a"
      }
     },
     "2c84b3c721a241a6849a5a4a9072aaa7": {
      "model_module": "@jupyter-widgets/base",
      "model_module_version": "1.2.0",
      "model_name": "LayoutModel",
      "state": {
       "width": "34px"
      }
     },
     "2d912db7b98e4ade9883d3540a40c712": {
      "model_module": "@jupyter-widgets/controls",
      "model_module_version": "1.5.0",
      "model_name": "HBoxModel",
      "state": {
       "children": [
        "IPY_MODEL_9c2eb09a0c8243e682d7f0b34beaf2a3",
        "IPY_MODEL_029a601cbbeb41118983838f0d001a05"
       ],
       "layout": "IPY_MODEL_e75b2a594c0b48e5b8f35061e26518ba"
      }
     },
     "2da0b9e9ca094ad2b1b0998365bf3125": {
      "model_module": "@jupyter-widgets/controls",
      "model_module_version": "1.5.0",
      "model_name": "PlayModel",
      "state": {
       "layout": "IPY_MODEL_2840bbdf839c48f19fb94641147b65c2",
       "max": 0,
       "style": "IPY_MODEL_84ebcc5b44b846b2b58c6cacbf0b065e"
      }
     },
     "2db6abda1eee4c9299f5228228890ce2": {
      "model_module": "@jupyter-widgets/base",
      "model_module_version": "1.2.0",
      "model_name": "LayoutModel",
      "state": {}
     },
     "2fa7699a69e6435291326a37304aed67": {
      "model_module": "@jupyter-widgets/controls",
      "model_module_version": "1.5.0",
      "model_name": "SliderStyleModel",
      "state": {
       "description_width": ""
      }
     },
     "36d30e6ba12a4f00bf70cafa02ed1e03": {
      "model_module": "@jupyter-widgets/base",
      "model_module_version": "1.2.0",
      "model_name": "LayoutModel",
      "state": {}
     },
     "375b81cac4b5430896c94c80bc87538a": {
      "model_module": "@jupyter-widgets/controls",
      "model_module_version": "1.5.0",
      "model_name": "ButtonModel",
      "state": {
       "description": "Save image",
       "layout": "IPY_MODEL_8d390de233ef43c8a6ca87957ca7e4af",
       "style": "IPY_MODEL_8fde9d012c4543158980924449223df9",
       "tooltip": "Save current frame to file.\nCurrently .png and .html are supported.\nIt takes a bit time, please be patient."
      }
     },
     "396d9f3579064a67aa96d4e52a3d11bd": {
      "model_module": "@jupyter-widgets/controls",
      "model_module_version": "1.5.0",
      "model_name": "ButtonModel",
      "state": {
       "description": "Download image",
       "layout": "IPY_MODEL_7014e69b432248258835fe6ab95823dc",
       "style": "IPY_MODEL_fc80a7b5ca9e4683b3267ba1e9f372f2",
       "tooltip": "Download current frame to your local PC"
      }
     },
     "39b81e5220994788bf82aa169843dd23": {
      "model_module": "@jupyter-widgets/base",
      "model_module_version": "1.2.0",
      "model_name": "LayoutModel",
      "state": {}
     },
     "3d37596ae70e4bbab83640403b33ce4b": {
      "model_module": "@jupyter-widgets/base",
      "model_module_version": "1.2.0",
      "model_name": "LayoutModel",
      "state": {
       "border": "0px solid black"
      }
     },
     "4025804ae38f4732855bc030f732fd6d": {
      "model_module": "@jupyter-widgets/controls",
      "model_module_version": "1.5.0",
      "model_name": "SliderStyleModel",
      "state": {
       "description_width": ""
      }
     },
     "421b6627a8a9408daa9c68966796afab": {
      "model_module": "@jupyter-widgets/controls",
      "model_module_version": "1.5.0",
      "model_name": "DescriptionStyleModel",
      "state": {
       "description_width": ""
      }
     },
     "425660680de24b5d8ba8b3e00661b3a7": {
      "model_module": "@jupyter-widgets/controls",
      "model_module_version": "1.5.0",
      "model_name": "DescriptionStyleModel",
      "state": {
       "description_width": ""
      }
     },
     "430397a8a6af40cf86e35ef231e019ae": {
      "model_module": "@jupyter-widgets/controls",
      "model_module_version": "1.5.0",
      "model_name": "LinkModel",
      "state": {
       "source": [
        "IPY_MODEL_16b5c6c239cc448e910c0f1095f5417d",
        "value"
       ],
       "target": [
        "IPY_MODEL_c41628c5943a45b7a200f6e0bf542c0f",
        "value"
       ]
      }
     },
     "459eaa7580a9411dbc7c266cfae5065b": {
      "model_module": "@jupyter-widgets/base",
      "model_module_version": "1.2.0",
      "model_name": "LayoutModel",
      "state": {}
     },
     "47449c7735854517a46503255a5595f3": {
      "model_module": "@jupyter-widgets/controls",
      "model_module_version": "1.5.0",
      "model_name": "FloatSliderModel",
      "state": {
       "description": "Force scale",
       "layout": "IPY_MODEL_a889603046d848c980ea5e933d37c0aa",
       "step": 0.1,
       "style": "IPY_MODEL_d6ffcf6957f2473ca2a3f7f630eb2bf1",
       "value": 0.5
      }
     },
     "47a974eae9334d53832ac769cd3b55c0": {
      "model_module": "@jupyter-widgets/controls",
      "model_module_version": "1.5.0",
      "model_name": "FloatSliderModel",
      "state": {
       "description": "Charge scale",
       "layout": "IPY_MODEL_b7ec7ed2755c48ba9620197208dbfa54",
       "step": 0.1,
       "style": "IPY_MODEL_766fef9880f44980b89860959e481ddd",
       "value": 1
      }
     },
     "488e017a9c0f4ea2b157c8ff5ddb8df5": {
      "model_module": "@jupyter-widgets/base",
      "model_module_version": "1.2.0",
      "model_name": "LayoutModel",
      "state": {}
     },
     "4894dbeeb36944febb839ffae2a3b870": {
      "model_module": "@jupyter-widgets/controls",
      "model_module_version": "1.5.0",
      "model_name": "ButtonStyleModel",
      "state": {}
     },
     "48ae24c0ecc740bbbac44c9553280416": {
      "model_module": "@jupyter-widgets/controls",
      "model_module_version": "1.5.0",
      "model_name": "ButtonStyleModel",
      "state": {}
     },
     "4a1a34a34ed94e298be0b7902822dfe4": {
      "model_module": "@jupyter-widgets/controls",
      "model_module_version": "1.5.0",
      "model_name": "FloatSliderModel",
      "state": {
       "description": "Ball size",
       "layout": "IPY_MODEL_6a89f031678145a88aab68e505814cf4",
       "max": 1.5,
       "step": 0.01,
       "style": "IPY_MODEL_dac0cc8526e2455b9bc1124b7bf5cfa6",
       "value": 0.5
      }
     },
     "4ae1bf7dacc448928b7aed99c94fef1a": {
      "model_module": "@jupyter-widgets/controls",
      "model_module_version": "1.5.0",
      "model_name": "ButtonStyleModel",
      "state": {}
     },
     "4c4060363fea47cf97aa933a124e55f7": {
      "model_module": "@jupyter-widgets/controls",
      "model_module_version": "1.5.0",
      "model_name": "TextModel",
      "state": {
       "description": "Filename: ",
       "layout": "IPY_MODEL_f21c7666548a46ee915455d6b3947bad",
       "style": "IPY_MODEL_8bfd274ba7834376823d73577e486ce7",
       "value": "screenshot.png"
      }
     },
     "4de8ca5e19b64469a267410c4ef03807": {
      "model_module": "@jupyter-widgets/base",
      "model_module_version": "1.2.0",
      "model_name": "LayoutModel",
      "state": {}
     },
     "5029e398cbd84245b0c288f91b6a7359": {
      "model_module": "@jupyter-widgets/base",
      "model_module_version": "1.2.0",
      "model_name": "LayoutModel",
      "state": {}
     },
     "503409c04e5e4c298cb953f7f90bd4ba": {
      "model_module": "@jupyter-widgets/controls",
      "model_module_version": "1.5.0",
      "model_name": "DescriptionStyleModel",
      "state": {
       "description_width": ""
      }
     },
     "51c214f23ad14d41a0de8018d21d38ed": {
      "model_module": "@jupyter-widgets/base",
      "model_module_version": "1.2.0",
      "model_name": "LayoutModel",
      "state": {}
     },
     "53448fff1b30463d9354e486639fb2f8": {
      "model_module": "@jupyter-widgets/controls",
      "model_module_version": "1.5.0",
      "model_name": "ButtonModel",
      "state": {
       "icon": "compress",
       "layout": "IPY_MODEL_198b36387a3b45208aa30afd0cf47232",
       "style": "IPY_MODEL_583ab5063fe34a8f804204d89088906f"
      }
     },
     "54514eb868b549fda249d56f4c784125": {
      "model_module": "@jupyter-widgets/controls",
      "model_module_version": "1.5.0",
      "model_name": "LinkModel",
      "state": {
       "source": [
        "IPY_MODEL_2da0b9e9ca094ad2b1b0998365bf3125",
        "value"
       ],
       "target": [
        "IPY_MODEL_c497dbb410464681a757cf272f5a77e0",
        "frame"
       ]
      }
     },
     "560b51f561ff411d957e169c8dca0010": {
      "model_module": "@jupyter-widgets/base",
      "model_module_version": "1.2.0",
      "model_name": "LayoutModel",
      "state": {
       "width": "34px"
      }
     },
     "56305c65b3b64eabbb4025617ba1c816": {
      "model_module": "@jupyter-widgets/controls",
      "model_module_version": "1.5.0",
      "model_name": "SliderStyleModel",
      "state": {
       "description_width": ""
      }
     },
     "569c058d70c9449bb90891aafe2dc393": {
      "model_module": "@jupyter-widgets/controls",
      "model_module_version": "1.5.0",
      "model_name": "DescriptionStyleModel",
      "state": {
       "description_width": ""
      }
     },
     "58223a0412434d7cb429a4f49541d787": {
      "model_module": "@jupyter-widgets/base",
      "model_module_version": "1.2.0",
      "model_name": "LayoutModel",
      "state": {}
     },
     "583ab5063fe34a8f804204d89088906f": {
      "model_module": "@jupyter-widgets/controls",
      "model_module_version": "1.5.0",
      "model_name": "ButtonStyleModel",
      "state": {}
     },
     "595f3ad6f5334acd9d285f666fd4025b": {
      "model_module": "@jupyter-widgets/base",
      "model_module_version": "1.2.0",
      "model_name": "LayoutModel",
      "state": {}
     },
     "596ffbf5248b49bc89c4a020b6865676": {
      "model_module": "@jupyter-widgets/controls",
      "model_module_version": "1.5.0",
      "model_name": "VBoxModel",
      "state": {
       "children": [
        "IPY_MODEL_704a765d074f4bfeb59005fddc3b08bd",
        "IPY_MODEL_6f1de7a9fb8149c4a423cd7aed3df270",
        "IPY_MODEL_4a1a34a34ed94e298be0b7902822dfe4",
        "IPY_MODEL_d4d98c0daedb4d10ab6d0e81af2f30e0",
        "IPY_MODEL_ca7517ee9403406fbc8b043fdf72556d",
        "IPY_MODEL_6105817bc1134451aabd6cc29cf49efe",
        "IPY_MODEL_fc81f2fe115b448aa64e7bc5dc388db4",
        "IPY_MODEL_b2b046705a3f4a48866cb9cb937138c8",
        "IPY_MODEL_c90328de59254f968a945723bde017d2",
        "IPY_MODEL_2a4cb695ef7e4b969b5ade4082ca11a9"
       ],
       "layout": "IPY_MODEL_af2754e65924404da78fa6d106b2f2a2"
      }
     },
     "5d0a24fbaaa341eebee646936dcc1469": {
      "model_module": "@jupyter-widgets/base",
      "model_module_version": "1.2.0",
      "model_name": "LayoutModel",
      "state": {}
     },
     "5d192eb6f4e646ce8dec0faf5bdf3e14": {
      "model_module": "@jupyter-widgets/controls",
      "model_module_version": "1.5.0",
      "model_name": "TextModel",
      "state": {
       "description": "Filename: ",
       "layout": "IPY_MODEL_a671c95f71af4728814cce6e31092754",
       "style": "IPY_MODEL_8540f07be73e4fb08afe95a66e3c9c5d",
       "value": "screenshot.png"
      }
     },
     "5e862e73d7634f0f81f4d461f2b5c05c": {
      "model_module": "@jupyter-widgets/base",
      "model_module_version": "1.2.0",
      "model_name": "LayoutModel",
      "state": {}
     },
     "5fc987f5a9054458bfe6c48cf848dde4": {
      "model_module": "@jupyter-widgets/controls",
      "model_module_version": "1.5.0",
      "model_name": "PlayModel",
      "state": {
       "layout": "IPY_MODEL_2db6abda1eee4c9299f5228228890ce2",
       "max": 0,
       "style": "IPY_MODEL_0d4fca31de1049c4bb36c0d1d39e96da"
      }
     },
     "6105817bc1134451aabd6cc29cf49efe": {
      "model_module": "@jupyter-widgets/controls",
      "model_module_version": "1.5.0",
      "model_name": "CheckboxModel",
      "state": {
       "description": "Show force",
       "disabled": false,
       "layout": "IPY_MODEL_9b82d497cdeb45cf83a8f37c38baeadb",
       "style": "IPY_MODEL_e8ef8b932d1a4bc59973153595f0a58c",
       "value": false
      }
     },
     "64574ef2fd864245bde7da985489a2eb": {
      "model_module": "@jupyter-widgets/controls",
      "model_module_version": "1.5.0",
      "model_name": "ImageModel",
      "state": {
       "layout": "IPY_MODEL_89e0429fa36e4c44876802b6fba33ac0",
       "width": "900.0"
      }
     },
     "649d6d84720a43988b914f9ea13257a8": {
      "model_module": "@jupyter-widgets/controls",
      "model_module_version": "1.5.0",
      "model_name": "DescriptionStyleModel",
      "state": {
       "description_width": ""
      }
     },
     "65317dd109a841df8bbc09fc093e1af1": {
      "model_module": "@jupyter-widgets/base",
      "model_module_version": "1.2.0",
      "model_name": "LayoutModel",
      "state": {}
     },
     "65b803a89122416b8ca4550a5ccb4bd2": {
      "model_module": "@jupyter-widgets/base",
      "model_module_version": "1.2.0",
      "model_name": "LayoutModel",
      "state": {}
     },
     "65f9a855173a4e6282863949b08c742c": {
      "model_module": "@jupyter-widgets/controls",
      "model_module_version": "1.5.0",
      "model_name": "HBoxModel",
      "state": {
       "children": [
        "IPY_MODEL_16b5c6c239cc448e910c0f1095f5417d",
        "IPY_MODEL_c41628c5943a45b7a200f6e0bf542c0f"
       ],
       "layout": "IPY_MODEL_7debfe81a35248438be0c0cc8522ea31"
      }
     },
     "6646606e0e9d431c970fd92dd40b68f7": {
      "model_module": "@jupyter-widgets/controls",
      "model_module_version": "1.5.0",
      "model_name": "HBoxModel",
      "state": {
       "children": [
        "IPY_MODEL_6bea451c1e214c9d98b5ea155f3d77cf",
        "IPY_MODEL_596ffbf5248b49bc89c4a020b6865676"
       ],
       "layout": "IPY_MODEL_65317dd109a841df8bbc09fc093e1af1"
      }
     },
     "6a89f031678145a88aab68e505814cf4": {
      "model_module": "@jupyter-widgets/base",
      "model_module_version": "1.2.0",
      "model_name": "LayoutModel",
      "state": {}
     },
     "6abc3cad99cf4a9f904491bdf5fedd21": {
      "model_module": "@jupyter-widgets/controls",
      "model_module_version": "1.5.0",
      "model_name": "HBoxModel",
      "state": {
       "children": [
        "IPY_MODEL_2da0b9e9ca094ad2b1b0998365bf3125",
        "IPY_MODEL_c38e5385fbf6410a9d547f6522f55ade"
       ],
       "layout": "IPY_MODEL_c4aa51431c5249de81dd214e970a1b3d"
      }
     },
     "6ada7d21b2b34998ad033fe634b6c4cb": {
      "model_module": "@jupyter-widgets/controls",
      "model_module_version": "1.5.0",
      "model_name": "SliderStyleModel",
      "state": {
       "description_width": ""
      }
     },
     "6bea451c1e214c9d98b5ea155f3d77cf": {
      "model_module": "nglview-js-widgets",
      "model_module_version": "3.0.1",
      "model_name": "NGLModel",
      "state": {
       "_camera_orientation": [
        1.46216674209046,
        0,
        0,
        0,
        0,
        1.46216674209046,
        0,
        0,
        0,
        0,
        1.46216674209046,
        0,
        -0.5,
        0,
        0,
        1
       ],
       "_camera_str": "orthographic",
       "_gui_theme": null,
       "_ibtn_fullscreen": "IPY_MODEL_53448fff1b30463d9354e486639fb2f8",
       "_igui": null,
       "_iplayer": "IPY_MODEL_65f9a855173a4e6282863949b08c742c",
       "_ngl_color_dict": {},
       "_ngl_coordinate_resource": {},
       "_ngl_full_stage_parameters": {
        "ambientColor": 14540253,
        "ambientIntensity": 0.2,
        "backgroundColor": "white",
        "cameraEyeSep": 0.3,
        "cameraFov": 40,
        "cameraType": "orthographic",
        "clipDist": 0,
        "clipFar": 100,
        "clipNear": 0,
        "fogFar": 100,
        "fogNear": 50,
        "hoverTimeout": 0,
        "impostor": true,
        "lightColor": 14540253,
        "lightIntensity": 1,
        "mousePreset": "default",
        "panSpeed": 1,
        "quality": "medium",
        "rotateSpeed": 2,
        "sampleLevel": 0,
        "tooltip": true,
        "workerDefault": true,
        "zoomSpeed": 1.2
       },
       "_ngl_msg_archive": [
        {
         "args": [
          {
           "binary": false,
           "data": "MODEL     1\nATOM      1    H MOL     1       0.000   0.000   0.000  1.00  0.00           H  \nATOM      2    H MOL     1       1.000   0.000   0.000  1.00  0.00           H  \nENDMDL\n",
           "type": "blob"
          }
         ],
         "kwargs": {
          "defaultRepresentation": false,
          "ext": "pdb"
         },
         "methodName": "loadFile",
         "reconstruc_color_scheme": false,
         "target": "Stage",
         "type": "call_method"
        },
        {
         "args": [
          "400px",
          "300px"
         ],
         "kwargs": {},
         "methodName": "setSize",
         "reconstruc_color_scheme": false,
         "target": "Widget",
         "type": "call_method"
        },
        {
         "args": [
          "unitcell"
         ],
         "component_index": 0,
         "kwargs": {
          "sele": "all"
         },
         "methodName": "addRepresentation",
         "reconstruc_color_scheme": false,
         "target": "compList",
         "type": "call_method"
        },
        {
         "args": [
          "spacefill"
         ],
         "component_index": 0,
         "kwargs": {
          "sele": "all"
         },
         "methodName": "addRepresentation",
         "reconstruc_color_scheme": false,
         "target": "compList",
         "type": "call_method"
        },
        {
         "args": [],
         "kwargs": {
          "cameraType": "orthographic"
         },
         "methodName": "setParameters",
         "reconstruc_color_scheme": false,
         "target": "Stage",
         "type": "call_method"
        },
        {
         "args": [
          {
           "clipDist": 0
          }
         ],
         "kwargs": {},
         "methodName": "setParameters",
         "reconstruc_color_scheme": false,
         "target": "Widget",
         "type": "call_method"
        },
        {
         "args": [
          "spacefill",
          0
         ],
         "kwargs": {
          "colorScale": "rainbow",
          "colorScheme": "element",
          "radiusScale": 0.5,
          "radiusType": "covalent"
         },
         "methodName": "updateRepresentationsByName",
         "reconstruc_color_scheme": false,
         "target": "Widget",
         "type": "call_method"
        },
        {
         "args": [
          "this._Q = [[1.0, 0.0, 0.0], [0.0, 1.0, 0.0], [0.0, 0.0, 1.0]]\n    var tooltip = document.createElement('div')\n    Object.assign(tooltip.style, {\n      display: 'none',\n      position: 'fixed',\n      zIndex: 10,\n      pointerEvents: 'none',\n      backgroundColor: 'rgba( 0, 0, 0, 0.6 )',\n      color: 'lightgrey',\n      padding: '8px',\n      fontFamily: 'sans-serif'\n    })\n    document.body.appendChild(tooltip)\n\n    var that = this\n    this.stage.mouseControls.remove('hoverPick')\n    this.stage.signals.hovered.add(function (pickingProxy) {\n      if (pickingProxy && (pickingProxy.atom || pickingProxy.bond)) {\n        var atom = pickingProxy.atom || pickingProxy.closestBondAtom\n        var mp = pickingProxy.mouse.position\n        //tooltip.innerText = atom.element + ' i=' + atom.index + ' (' + atom.x.toFixed(2) +  ', ' + atom.y.toFixed(2) +  ', ' + atom.z.toFixed(2) + ')'\n        //var pos = that._atoms_pos[atom.index]\n        var Q = that._Q\n        var pos_x = Q[0][0] * atom.x + Q[0][1] * atom.y + Q[0][2] * atom.z \n        var pos_y = Q[1][0] * atom.x + Q[1][1] * atom.y + Q[1][2] * atom.z\n        var pos_z = Q[2][0] * atom.x + Q[2][1] * atom.y + Q[2][2] * atom.z\n        tooltip.innerText = 'i=' + atom.index + ' ' + atom.element + ' (' + pos_x.toFixed(2) +  ', ' + pos_y.toFixed(2) +  ', ' + pos_z.toFixed(2) + ')'\n        tooltip.style.bottom = window.innerHeight - mp.y + 3 + 'px'\n        tooltip.style.left = mp.x + 3 + 'px'\n        tooltip.style.display = 'block'\n      } else {\n        tooltip.style.display = 'none'\n      }\n    })\n    "
         ],
         "kwargs": {},
         "methodName": "executeCode",
         "reconstruc_color_scheme": false,
         "target": "Widget",
         "type": "call_method"
        },
        {
         "args": [
          "ball+stick"
         ],
         "component_index": 0,
         "kwargs": {
          "sele": "all"
         },
         "methodName": "addRepresentation",
         "reconstruc_color_scheme": false,
         "target": "compList",
         "type": "call_method"
        }
       ],
       "_ngl_original_stage_parameters": {
        "ambientColor": 14540253,
        "ambientIntensity": 0.2,
        "backgroundColor": "white",
        "cameraEyeSep": 0.3,
        "cameraFov": 40,
        "cameraType": "perspective",
        "clipDist": 10,
        "clipFar": 100,
        "clipNear": 0,
        "fogFar": 100,
        "fogNear": 50,
        "hoverTimeout": 0,
        "impostor": true,
        "lightColor": 14540253,
        "lightIntensity": 1,
        "mousePreset": "default",
        "panSpeed": 1,
        "quality": "medium",
        "rotateSpeed": 2,
        "sampleLevel": 0,
        "tooltip": true,
        "workerDefault": true,
        "zoomSpeed": 1.2
       },
       "_ngl_repr_dict": {
        "0": {
         "0": {
          "params": {
           "clipCenter": {
            "x": 0,
            "y": 0,
            "z": 0
           },
           "clipNear": 0,
           "clipRadius": 0,
           "colorMode": "hcl",
           "colorReverse": false,
           "colorScale": "",
           "colorScheme": "element",
           "colorValue": "orange",
           "defaultAssembly": "",
           "depthWrite": true,
           "diffuse": 16777215,
           "diffuseInterior": false,
           "disableImpostor": false,
           "disablePicking": false,
           "flatShaded": false,
           "interiorColor": 2236962,
           "interiorDarkening": 0,
           "lazy": false,
           "matrix": {
            "elements": [
             1,
             0,
             0,
             0,
             0,
             1,
             0,
             0,
             0,
             0,
             1,
             0,
             0,
             0,
             0,
             1
            ]
           },
           "metalness": 0,
           "opacity": 1,
           "quality": "medium",
           "radialSegments": 10,
           "radiusData": {},
           "radiusScale": 1,
           "radiusSize": 0.5,
           "radiusType": "vdw",
           "roughness": 0.4,
           "sele": "all",
           "side": "double",
           "sphereDetail": 1,
           "useInteriorColor": true,
           "visible": true,
           "wireframe": false
          },
          "type": "unitcell"
         },
         "1": {
          "params": {
           "assembly": "default",
           "clipCenter": {
            "x": 0,
            "y": 0,
            "z": 0
           },
           "clipNear": 0,
           "clipRadius": 0,
           "colorMode": "hcl",
           "colorReverse": false,
           "colorScale": "rainbow",
           "colorScheme": "element",
           "colorValue": 9474192,
           "defaultAssembly": "",
           "depthWrite": true,
           "diffuse": 16777215,
           "diffuseInterior": false,
           "disableImpostor": false,
           "disablePicking": false,
           "flatShaded": false,
           "interiorColor": 2236962,
           "interiorDarkening": 0,
           "lazy": false,
           "matrix": {
            "elements": [
             1,
             0,
             0,
             0,
             0,
             1,
             0,
             0,
             0,
             0,
             1,
             0,
             0,
             0,
             0,
             1
            ]
           },
           "metalness": 0,
           "opacity": 1,
           "quality": "medium",
           "radiusData": {},
           "radiusScale": 0.5,
           "radiusSize": 1,
           "radiusType": "covalent",
           "roughness": 0.4,
           "sele": "all",
           "side": "double",
           "sphereDetail": 1,
           "useInteriorColor": true,
           "visible": true,
           "wireframe": false
          },
          "type": "spacefill"
         },
         "2": {
          "params": {
           "aspectRatio": 2,
           "assembly": "default",
           "bondScale": 0.4,
           "bondSpacing": 1,
           "clipCenter": {
            "x": 0,
            "y": 0,
            "z": 0
           },
           "clipNear": 0,
           "clipRadius": 0,
           "colorMode": "hcl",
           "colorReverse": false,
           "colorScale": "",
           "colorScheme": "element",
           "colorValue": 9474192,
           "cylinderOnly": false,
           "defaultAssembly": "",
           "depthWrite": true,
           "diffuse": 16777215,
           "diffuseInterior": false,
           "disableImpostor": false,
           "disablePicking": false,
           "flatShaded": false,
           "interiorColor": 2236962,
           "interiorDarkening": 0,
           "lazy": false,
           "lineOnly": false,
           "linewidth": 2,
           "matrix": {
            "elements": [
             1,
             0,
             0,
             0,
             0,
             1,
             0,
             0,
             0,
             0,
             1,
             0,
             0,
             0,
             0,
             1
            ]
           },
           "metalness": 0,
           "multipleBond": "off",
           "opacity": 1,
           "openEnded": true,
           "quality": "medium",
           "radialSegments": 10,
           "radiusData": {},
           "radiusScale": 1,
           "radiusSize": 0.15,
           "radiusType": "size",
           "roughness": 0.4,
           "sele": "all",
           "side": "double",
           "sphereDetail": 1,
           "useInteriorColor": true,
           "visible": true,
           "wireframe": false
          },
          "type": "ball+stick"
         }
        }
       },
       "_ngl_serialize": false,
       "_ngl_version": "2.0.0-dev.36",
       "_ngl_view_id": [
        "BC709231-9C75-4A5E-BA51-B3C7C49F09D4"
       ],
       "_player_dict": {},
       "_scene_position": {},
       "_scene_rotation": {},
       "_synced_model_ids": [],
       "_synced_repr_model_ids": [],
       "_view_height": "",
       "_view_width": "",
       "background": "white",
       "frame": 0,
       "gui_style": null,
       "layout": "IPY_MODEL_8dbfee367cae4ebda98f4ae634ff81fd",
       "max_frame": 0,
       "n_components": 1,
       "picked": {}
      }
     },
     "6c1ed7a3d19c4d85b4c2d0962cda7a23": {
      "model_module": "@jupyter-widgets/base",
      "model_module_version": "1.2.0",
      "model_name": "LayoutModel",
      "state": {}
     },
     "6ec9942d8bc949df9dc5bd224db16d76": {
      "model_module": "@jupyter-widgets/controls",
      "model_module_version": "1.5.0",
      "model_name": "CheckboxModel",
      "state": {
       "description": "Show force",
       "disabled": false,
       "layout": "IPY_MODEL_51c214f23ad14d41a0de8018d21d38ed",
       "style": "IPY_MODEL_c0ddc15175e94bbb91c749c48da3abe2",
       "value": false
      }
     },
     "6f1de7a9fb8149c4a423cd7aed3df270": {
      "model_module": "@jupyter-widgets/controls",
      "model_module_version": "1.5.0",
      "model_name": "DropdownModel",
      "state": {
       "_options_labels": [
        " ",
        "picking",
        "random",
        "uniform",
        "atomindex",
        "residueindex",
        "chainindex",
        "modelindex",
        "sstruc",
        "element",
        "resname",
        "bfactor",
        "hydrophobicity",
        "value",
        "volume",
        "occupancy"
       ],
       "description": "Color scheme",
       "index": 9,
       "layout": "IPY_MODEL_595f3ad6f5334acd9d285f666fd4025b",
       "style": "IPY_MODEL_425660680de24b5d8ba8b3e00661b3a7"
      }
     },
     "6f33d3567462421ca3852e93a1289857": {
      "model_module": "@jupyter-widgets/controls",
      "model_module_version": "1.5.0",
      "model_name": "HBoxModel",
      "state": {
       "children": [
        "IPY_MODEL_5fc987f5a9054458bfe6c48cf848dde4",
        "IPY_MODEL_21f40893fc1741ad9439288647c338a4"
       ],
       "layout": "IPY_MODEL_488e017a9c0f4ea2b157c8ff5ddb8df5"
      }
     },
     "7014e69b432248258835fe6ab95823dc": {
      "model_module": "@jupyter-widgets/base",
      "model_module_version": "1.2.0",
      "model_name": "LayoutModel",
      "state": {}
     },
     "704a765d074f4bfeb59005fddc3b08bd": {
      "model_module": "@jupyter-widgets/controls",
      "model_module_version": "1.5.0",
      "model_name": "DropdownModel",
      "state": {
       "_options_labels": [
        "All",
        "H"
       ],
       "description": "Show",
       "index": 0,
       "layout": "IPY_MODEL_20cd967740314815bc28064eb4733147",
       "style": "IPY_MODEL_2396b7e3f73d498c840089cf77a59662"
      }
     },
     "70570e24af634ffdb3e7c342417606a2": {
      "model_module": "@jupyter-widgets/controls",
      "model_module_version": "1.5.0",
      "model_name": "FloatSliderModel",
      "state": {
       "description": "Force scale",
       "layout": "IPY_MODEL_58223a0412434d7cb429a4f49541d787",
       "step": 0.1,
       "style": "IPY_MODEL_29e7971aae534d259681c67105dee2b4",
       "value": 0.5
      }
     },
     "766fef9880f44980b89860959e481ddd": {
      "model_module": "@jupyter-widgets/controls",
      "model_module_version": "1.5.0",
      "model_name": "SliderStyleModel",
      "state": {
       "description_width": ""
      }
     },
     "76e913c658b7449ba0e1adbf6ac2f093": {
      "model_module": "@jupyter-widgets/base",
      "model_module_version": "1.2.0",
      "model_name": "LayoutModel",
      "state": {}
     },
     "7744d24ab0754dcfae9f57edca585f74": {
      "model_module": "@jupyter-widgets/controls",
      "model_module_version": "1.5.0",
      "model_name": "ButtonModel",
      "state": {
       "description": "Save image",
       "layout": "IPY_MODEL_6c1ed7a3d19c4d85b4c2d0962cda7a23",
       "style": "IPY_MODEL_4ae1bf7dacc448928b7aed99c94fef1a",
       "tooltip": "Save current frame to file.\nCurrently .png and .html are supported.\nIt takes a bit time, please be patient."
      }
     },
     "7b625191b8fb476da3dfee6a0902365a": {
      "model_module": "@jupyter-widgets/base",
      "model_module_version": "1.2.0",
      "model_name": "LayoutModel",
      "state": {
       "border": "0px solid black"
      }
     },
     "7bbf136d4a8e4717b4a9048179fcd0e3": {
      "model_module": "@jupyter-widgets/controls",
      "model_module_version": "1.5.0",
      "model_name": "ButtonModel",
      "state": {
       "icon": "compress",
       "layout": "IPY_MODEL_560b51f561ff411d957e169c8dca0010",
       "style": "IPY_MODEL_a9ef81696ec24ba99d6e6712aa98b897"
      }
     },
     "7da66f2aae394616a369caf7a27e3f33": {
      "model_module": "@jupyter-widgets/controls",
      "model_module_version": "1.5.0",
      "model_name": "SliderStyleModel",
      "state": {
       "description_width": ""
      }
     },
     "7debfe81a35248438be0c0cc8522ea31": {
      "model_module": "@jupyter-widgets/base",
      "model_module_version": "1.2.0",
      "model_name": "LayoutModel",
      "state": {}
     },
     "7e6493c69e564d24a1011568a075f323": {
      "model_module": "@jupyter-widgets/base",
      "model_module_version": "1.2.0",
      "model_name": "LayoutModel",
      "state": {}
     },
     "829c9efafee74cfd9e71b51ffb25c76b": {
      "model_module": "@jupyter-widgets/controls",
      "model_module_version": "1.5.0",
      "model_name": "DropdownModel",
      "state": {
       "_options_labels": [
        "All",
        "C",
        "O"
       ],
       "description": "Show",
       "index": 0,
       "layout": "IPY_MODEL_4de8ca5e19b64469a267410c4ef03807",
       "style": "IPY_MODEL_dff60ac144e44a568750dbcab3aa45dd"
      }
     },
     "8340cae3f76a4b8faad3349bc24ab77d": {
      "model_module": "@jupyter-widgets/base",
      "model_module_version": "1.2.0",
      "model_name": "LayoutModel",
      "state": {}
     },
     "84ebcc5b44b846b2b58c6cacbf0b065e": {
      "model_module": "@jupyter-widgets/controls",
      "model_module_version": "1.5.0",
      "model_name": "DescriptionStyleModel",
      "state": {
       "description_width": ""
      }
     },
     "8540f07be73e4fb08afe95a66e3c9c5d": {
      "model_module": "@jupyter-widgets/controls",
      "model_module_version": "1.5.0",
      "model_name": "DescriptionStyleModel",
      "state": {
       "description_width": ""
      }
     },
     "87a12a79c3b242fcb068e164c62cbda5": {
      "model_module": "@jupyter-widgets/base",
      "model_module_version": "1.2.0",
      "model_name": "LayoutModel",
      "state": {}
     },
     "89e0429fa36e4c44876802b6fba33ac0": {
      "model_module": "@jupyter-widgets/base",
      "model_module_version": "1.2.0",
      "model_name": "LayoutModel",
      "state": {}
     },
     "8bfd274ba7834376823d73577e486ce7": {
      "model_module": "@jupyter-widgets/controls",
      "model_module_version": "1.5.0",
      "model_name": "DescriptionStyleModel",
      "state": {
       "description_width": ""
      }
     },
     "8c1c3994817547d98a5e235707c68afc": {
      "model_module": "nglview-js-widgets",
      "model_module_version": "3.0.1",
      "model_name": "NGLModel",
      "state": {
       "_camera_orientation": [
        1.46216674209046,
        0,
        0,
        0,
        0,
        1.46216674209046,
        0,
        0,
        0,
        0,
        1.46216674209046,
        0,
        -0.5,
        0,
        0,
        1
       ],
       "_camera_str": "orthographic",
       "_gui_theme": null,
       "_ibtn_fullscreen": "IPY_MODEL_d156bcdf25f1482bb4cfa7c078526047",
       "_igui": null,
       "_iplayer": "IPY_MODEL_6f33d3567462421ca3852e93a1289857",
       "_ngl_color_dict": {},
       "_ngl_coordinate_resource": {},
       "_ngl_full_stage_parameters": {
        "ambientColor": 14540253,
        "ambientIntensity": 0.2,
        "backgroundColor": "white",
        "cameraEyeSep": 0.3,
        "cameraFov": 40,
        "cameraType": "orthographic",
        "clipDist": 0,
        "clipFar": 100,
        "clipNear": 0,
        "fogFar": 100,
        "fogNear": 50,
        "hoverTimeout": 0,
        "impostor": true,
        "lightColor": 14540253,
        "lightIntensity": 1,
        "mousePreset": "default",
        "panSpeed": 1,
        "quality": "medium",
        "rotateSpeed": 2,
        "sampleLevel": 0,
        "tooltip": true,
        "workerDefault": true,
        "zoomSpeed": 1.2
       },
       "_ngl_msg_archive": [
        {
         "args": [
          {
           "binary": false,
           "data": "MODEL     1\nATOM      1    C MOL     1       0.000   0.000   0.000  1.00  0.00           C  \nATOM      2    O MOL     1       1.000   0.000   0.000  1.00  0.00           O  \nENDMDL\n",
           "type": "blob"
          }
         ],
         "kwargs": {
          "defaultRepresentation": false,
          "ext": "pdb"
         },
         "methodName": "loadFile",
         "reconstruc_color_scheme": false,
         "target": "Stage",
         "type": "call_method"
        },
        {
         "args": [
          "400px",
          "300px"
         ],
         "kwargs": {},
         "methodName": "setSize",
         "reconstruc_color_scheme": false,
         "target": "Widget",
         "type": "call_method"
        },
        {
         "args": [
          "unitcell"
         ],
         "component_index": 0,
         "kwargs": {
          "sele": "all"
         },
         "methodName": "addRepresentation",
         "reconstruc_color_scheme": false,
         "target": "compList",
         "type": "call_method"
        },
        {
         "args": [
          "spacefill"
         ],
         "component_index": 0,
         "kwargs": {
          "sele": "all"
         },
         "methodName": "addRepresentation",
         "reconstruc_color_scheme": false,
         "target": "compList",
         "type": "call_method"
        },
        {
         "args": [],
         "kwargs": {
          "cameraType": "orthographic"
         },
         "methodName": "setParameters",
         "reconstruc_color_scheme": false,
         "target": "Stage",
         "type": "call_method"
        },
        {
         "args": [
          {
           "clipDist": 0
          }
         ],
         "kwargs": {},
         "methodName": "setParameters",
         "reconstruc_color_scheme": false,
         "target": "Widget",
         "type": "call_method"
        },
        {
         "args": [
          "spacefill",
          0
         ],
         "kwargs": {
          "colorScale": "rainbow",
          "colorScheme": "element",
          "radiusScale": 0.5,
          "radiusType": "covalent"
         },
         "methodName": "updateRepresentationsByName",
         "reconstruc_color_scheme": false,
         "target": "Widget",
         "type": "call_method"
        },
        {
         "args": [
          "this._Q = [[1.0, 0.0, 0.0], [0.0, 1.0, 0.0], [0.0, 0.0, 1.0]]\n    var tooltip = document.createElement('div')\n    Object.assign(tooltip.style, {\n      display: 'none',\n      position: 'fixed',\n      zIndex: 10,\n      pointerEvents: 'none',\n      backgroundColor: 'rgba( 0, 0, 0, 0.6 )',\n      color: 'lightgrey',\n      padding: '8px',\n      fontFamily: 'sans-serif'\n    })\n    document.body.appendChild(tooltip)\n\n    var that = this\n    this.stage.mouseControls.remove('hoverPick')\n    this.stage.signals.hovered.add(function (pickingProxy) {\n      if (pickingProxy && (pickingProxy.atom || pickingProxy.bond)) {\n        var atom = pickingProxy.atom || pickingProxy.closestBondAtom\n        var mp = pickingProxy.mouse.position\n        //tooltip.innerText = atom.element + ' i=' + atom.index + ' (' + atom.x.toFixed(2) +  ', ' + atom.y.toFixed(2) +  ', ' + atom.z.toFixed(2) + ')'\n        //var pos = that._atoms_pos[atom.index]\n        var Q = that._Q\n        var pos_x = Q[0][0] * atom.x + Q[0][1] * atom.y + Q[0][2] * atom.z \n        var pos_y = Q[1][0] * atom.x + Q[1][1] * atom.y + Q[1][2] * atom.z\n        var pos_z = Q[2][0] * atom.x + Q[2][1] * atom.y + Q[2][2] * atom.z\n        tooltip.innerText = 'i=' + atom.index + ' ' + atom.element + ' (' + pos_x.toFixed(2) +  ', ' + pos_y.toFixed(2) +  ', ' + pos_z.toFixed(2) + ')'\n        tooltip.style.bottom = window.innerHeight - mp.y + 3 + 'px'\n        tooltip.style.left = mp.x + 3 + 'px'\n        tooltip.style.display = 'block'\n      } else {\n        tooltip.style.display = 'none'\n      }\n    })\n    "
         ],
         "kwargs": {},
         "methodName": "executeCode",
         "reconstruc_color_scheme": false,
         "target": "Widget",
         "type": "call_method"
        },
        {
         "args": [
          "ball+stick"
         ],
         "component_index": 0,
         "kwargs": {
          "sele": "all"
         },
         "methodName": "addRepresentation",
         "reconstruc_color_scheme": false,
         "target": "compList",
         "type": "call_method"
        }
       ],
       "_ngl_original_stage_parameters": {
        "ambientColor": 14540253,
        "ambientIntensity": 0.2,
        "backgroundColor": "white",
        "cameraEyeSep": 0.3,
        "cameraFov": 40,
        "cameraType": "perspective",
        "clipDist": 10,
        "clipFar": 100,
        "clipNear": 0,
        "fogFar": 100,
        "fogNear": 50,
        "hoverTimeout": 0,
        "impostor": true,
        "lightColor": 14540253,
        "lightIntensity": 1,
        "mousePreset": "default",
        "panSpeed": 1,
        "quality": "medium",
        "rotateSpeed": 2,
        "sampleLevel": 0,
        "tooltip": true,
        "workerDefault": true,
        "zoomSpeed": 1.2
       },
       "_ngl_repr_dict": {
        "0": {
         "0": {
          "params": {
           "clipCenter": {
            "x": 0,
            "y": 0,
            "z": 0
           },
           "clipNear": 0,
           "clipRadius": 0,
           "colorMode": "hcl",
           "colorReverse": false,
           "colorScale": "",
           "colorScheme": "element",
           "colorValue": "orange",
           "defaultAssembly": "",
           "depthWrite": true,
           "diffuse": 16777215,
           "diffuseInterior": false,
           "disableImpostor": false,
           "disablePicking": false,
           "flatShaded": false,
           "interiorColor": 2236962,
           "interiorDarkening": 0,
           "lazy": false,
           "matrix": {
            "elements": [
             1,
             0,
             0,
             0,
             0,
             1,
             0,
             0,
             0,
             0,
             1,
             0,
             0,
             0,
             0,
             1
            ]
           },
           "metalness": 0,
           "opacity": 1,
           "quality": "medium",
           "radialSegments": 10,
           "radiusData": {},
           "radiusScale": 1,
           "radiusSize": 0.5,
           "radiusType": "vdw",
           "roughness": 0.4,
           "sele": "all",
           "side": "double",
           "sphereDetail": 1,
           "useInteriorColor": true,
           "visible": true,
           "wireframe": false
          },
          "type": "unitcell"
         },
         "1": {
          "params": {
           "assembly": "default",
           "clipCenter": {
            "x": 0,
            "y": 0,
            "z": 0
           },
           "clipNear": 0,
           "clipRadius": 0,
           "colorMode": "hcl",
           "colorReverse": false,
           "colorScale": "rainbow",
           "colorScheme": "element",
           "colorValue": 9474192,
           "defaultAssembly": "",
           "depthWrite": true,
           "diffuse": 16777215,
           "diffuseInterior": false,
           "disableImpostor": false,
           "disablePicking": false,
           "flatShaded": false,
           "interiorColor": 2236962,
           "interiorDarkening": 0,
           "lazy": false,
           "matrix": {
            "elements": [
             1,
             0,
             0,
             0,
             0,
             1,
             0,
             0,
             0,
             0,
             1,
             0,
             0,
             0,
             0,
             1
            ]
           },
           "metalness": 0,
           "opacity": 1,
           "quality": "medium",
           "radiusData": {},
           "radiusScale": 0.5,
           "radiusSize": 1,
           "radiusType": "covalent",
           "roughness": 0.4,
           "sele": "all",
           "side": "double",
           "sphereDetail": 1,
           "useInteriorColor": true,
           "visible": true,
           "wireframe": false
          },
          "type": "spacefill"
         },
         "2": {
          "params": {
           "aspectRatio": 2,
           "assembly": "default",
           "bondScale": 0.4,
           "bondSpacing": 1,
           "clipCenter": {
            "x": 0,
            "y": 0,
            "z": 0
           },
           "clipNear": 0,
           "clipRadius": 0,
           "colorMode": "hcl",
           "colorReverse": false,
           "colorScale": "",
           "colorScheme": "element",
           "colorValue": 9474192,
           "cylinderOnly": false,
           "defaultAssembly": "",
           "depthWrite": true,
           "diffuse": 16777215,
           "diffuseInterior": false,
           "disableImpostor": false,
           "disablePicking": false,
           "flatShaded": false,
           "interiorColor": 2236962,
           "interiorDarkening": 0,
           "lazy": false,
           "lineOnly": false,
           "linewidth": 2,
           "matrix": {
            "elements": [
             1,
             0,
             0,
             0,
             0,
             1,
             0,
             0,
             0,
             0,
             1,
             0,
             0,
             0,
             0,
             1
            ]
           },
           "metalness": 0,
           "multipleBond": "off",
           "opacity": 1,
           "openEnded": true,
           "quality": "medium",
           "radialSegments": 10,
           "radiusData": {},
           "radiusScale": 1,
           "radiusSize": 0.15,
           "radiusType": "size",
           "roughness": 0.4,
           "sele": "all",
           "side": "double",
           "sphereDetail": 1,
           "useInteriorColor": true,
           "visible": true,
           "wireframe": false
          },
          "type": "ball+stick"
         }
        }
       },
       "_ngl_serialize": false,
       "_ngl_version": "2.0.0-dev.36",
       "_ngl_view_id": [
        "BA270115-964F-4E0A-A0BE-4FD06CCA4CEA"
       ],
       "_player_dict": {},
       "_scene_position": {},
       "_scene_rotation": {},
       "_synced_model_ids": [],
       "_synced_repr_model_ids": [],
       "_view_height": "",
       "_view_width": "",
       "background": "white",
       "frame": 0,
       "gui_style": null,
       "layout": "IPY_MODEL_65b803a89122416b8ca4550a5ccb4bd2",
       "max_frame": 0,
       "n_components": 1,
       "picked": {}
      }
     },
     "8d0e8d77ddf74bc39de854c4fc2e08c3": {
      "model_module": "@jupyter-widgets/controls",
      "model_module_version": "1.5.0",
      "model_name": "DropdownModel",
      "state": {
       "_options_labels": [
        "All",
        "Na"
       ],
       "description": "Show",
       "index": 0,
       "layout": "IPY_MODEL_d68700949aa842d28ad2007cd147c7f4",
       "style": "IPY_MODEL_1cacfe7c09c34fcfb37e6e5d9c3bfc40"
      }
     },
     "8d13c0d6224f44ab91dd401b19bce993": {
      "model_module": "@jupyter-widgets/controls",
      "model_module_version": "1.5.0",
      "model_name": "DescriptionStyleModel",
      "state": {
       "description_width": ""
      }
     },
     "8d390de233ef43c8a6ca87957ca7e4af": {
      "model_module": "@jupyter-widgets/base",
      "model_module_version": "1.2.0",
      "model_name": "LayoutModel",
      "state": {}
     },
     "8dbfee367cae4ebda98f4ae634ff81fd": {
      "model_module": "@jupyter-widgets/base",
      "model_module_version": "1.2.0",
      "model_name": "LayoutModel",
      "state": {}
     },
     "8fde9d012c4543158980924449223df9": {
      "model_module": "@jupyter-widgets/controls",
      "model_module_version": "1.5.0",
      "model_name": "ButtonStyleModel",
      "state": {}
     },
     "9091ab99715c469dac334557fc6f8486": {
      "model_module": "@jupyter-widgets/base",
      "model_module_version": "1.2.0",
      "model_name": "LayoutModel",
      "state": {}
     },
     "918f31a4ead54ae094773bf710815e11": {
      "model_module": "@jupyter-widgets/controls",
      "model_module_version": "1.5.0",
      "model_name": "DescriptionStyleModel",
      "state": {
       "description_width": ""
      }
     },
     "9264d3bb464c4a03a3a485be19102f3c": {
      "model_module": "@jupyter-widgets/controls",
      "model_module_version": "1.5.0",
      "model_name": "VBoxModel",
      "state": {
       "children": [
        "IPY_MODEL_8d0e8d77ddf74bc39de854c4fc2e08c3",
        "IPY_MODEL_c5b032f6861540a5a796bf7818f7e158",
        "IPY_MODEL_0d2b240761744f85a01e5d293b6a110a",
        "IPY_MODEL_4c4060363fea47cf97aa933a124e55f7",
        "IPY_MODEL_208c5d1d8f6d42d4874c4a198d5dff60",
        "IPY_MODEL_6ec9942d8bc949df9dc5bd224db16d76",
        "IPY_MODEL_70570e24af634ffdb3e7c342417606a2",
        "IPY_MODEL_df437ca0626c4f30a7ee505859e8c03b",
        "IPY_MODEL_17a023c287d748b79d25a4c20f9e623b",
        "IPY_MODEL_027008aea0ce4ec389cf9cbdc0a13f63"
       ],
       "layout": "IPY_MODEL_944d333b44694c7594b8eaf1416572ea"
      }
     },
     "944d333b44694c7594b8eaf1416572ea": {
      "model_module": "@jupyter-widgets/base",
      "model_module_version": "1.2.0",
      "model_name": "LayoutModel",
      "state": {}
     },
     "9b82d497cdeb45cf83a8f37c38baeadb": {
      "model_module": "@jupyter-widgets/base",
      "model_module_version": "1.2.0",
      "model_name": "LayoutModel",
      "state": {}
     },
     "9c2eb09a0c8243e682d7f0b34beaf2a3": {
      "model_module": "@jupyter-widgets/controls",
      "model_module_version": "1.5.0",
      "model_name": "ButtonModel",
      "state": {
       "description": "Download image",
       "layout": "IPY_MODEL_c1266664e6094637ad8d4be83b024f91",
       "style": "IPY_MODEL_239f55d1f70f43828a9010842c71b7b3",
       "tooltip": "Download current frame to your local PC"
      }
     },
     "9cb584cd2e1d49c0bdc351e2cda49f5c": {
      "model_module": "@jupyter-widgets/controls",
      "model_module_version": "1.5.0",
      "model_name": "CheckboxModel",
      "state": {
       "description": "Show charge",
       "disabled": false,
       "layout": "IPY_MODEL_d9e4db03eb19438898e9a83d85913339",
       "style": "IPY_MODEL_421b6627a8a9408daa9c68966796afab",
       "value": false
      }
     },
     "9fa55695f8b44a8ca007d6cb57b5411c": {
      "model_module": "@jupyter-widgets/controls",
      "model_module_version": "1.5.0",
      "model_name": "SliderStyleModel",
      "state": {
       "description_width": ""
      }
     },
     "9fd64ab4fcbf486b8dae7c56d8959162": {
      "model_module": "@jupyter-widgets/controls",
      "model_module_version": "1.5.0",
      "model_name": "LinkModel",
      "state": {
       "source": [
        "IPY_MODEL_21f40893fc1741ad9439288647c338a4",
        "max"
       ],
       "target": [
        "IPY_MODEL_8c1c3994817547d98a5e235707c68afc",
        "max_frame"
       ]
      }
     },
     "a671c95f71af4728814cce6e31092754": {
      "model_module": "@jupyter-widgets/base",
      "model_module_version": "1.2.0",
      "model_name": "LayoutModel",
      "state": {}
     },
     "a889603046d848c980ea5e933d37c0aa": {
      "model_module": "@jupyter-widgets/base",
      "model_module_version": "1.2.0",
      "model_name": "LayoutModel",
      "state": {}
     },
     "a9ef81696ec24ba99d6e6712aa98b897": {
      "model_module": "@jupyter-widgets/controls",
      "model_module_version": "1.5.0",
      "model_name": "ButtonStyleModel",
      "state": {}
     },
     "aa24f3181ac84877ae0a6faa12434c87": {
      "model_module": "@jupyter-widgets/base",
      "model_module_version": "1.2.0",
      "model_name": "LayoutModel",
      "state": {}
     },
     "abc57706b8a74eeb89a6889c91f47eec": {
      "model_module": "@jupyter-widgets/base",
      "model_module_version": "1.2.0",
      "model_name": "LayoutModel",
      "state": {
       "border": "0px solid black"
      }
     },
     "abd6486cb874492280f5884d60c77a74": {
      "model_module": "@jupyter-widgets/controls",
      "model_module_version": "1.5.0",
      "model_name": "DropdownModel",
      "state": {
       "_options_labels": [
        " ",
        "picking",
        "random",
        "uniform",
        "atomindex",
        "residueindex",
        "chainindex",
        "modelindex",
        "sstruc",
        "element",
        "resname",
        "bfactor",
        "hydrophobicity",
        "value",
        "volume",
        "occupancy"
       ],
       "description": "Color scheme",
       "index": 9,
       "layout": "IPY_MODEL_d59cc8a1ece346009c2f5eb5b23ce216",
       "style": "IPY_MODEL_fea34dee47014008ada088bdc0f32e31"
      }
     },
     "ae87917e5b2545b8830bfc83135d6689": {
      "model_module": "@jupyter-widgets/controls",
      "model_module_version": "1.5.0",
      "model_name": "LinkModel",
      "state": {
       "source": [
        "IPY_MODEL_16b5c6c239cc448e910c0f1095f5417d",
        "value"
       ],
       "target": [
        "IPY_MODEL_6bea451c1e214c9d98b5ea155f3d77cf",
        "frame"
       ]
      }
     },
     "af2754e65924404da78fa6d106b2f2a2": {
      "model_module": "@jupyter-widgets/base",
      "model_module_version": "1.2.0",
      "model_name": "LayoutModel",
      "state": {}
     },
     "b0dc80551b7644c7a1881caf38684fdf": {
      "model_module": "@jupyter-widgets/controls",
      "model_module_version": "1.5.0",
      "model_name": "SliderStyleModel",
      "state": {
       "description_width": ""
      }
     },
     "b2b046705a3f4a48866cb9cb937138c8": {
      "model_module": "@jupyter-widgets/controls",
      "model_module_version": "1.5.0",
      "model_name": "CheckboxModel",
      "state": {
       "description": "Show charge",
       "disabled": false,
       "layout": "IPY_MODEL_8340cae3f76a4b8faad3349bc24ab77d",
       "style": "IPY_MODEL_918f31a4ead54ae094773bf710815e11",
       "value": false
      }
     },
     "b3b13983914c4f1c86fe2f8bb43833e8": {
      "model_module": "@jupyter-widgets/controls",
      "model_module_version": "1.5.0",
      "model_name": "LinkModel",
      "state": {
       "source": [
        "IPY_MODEL_5fc987f5a9054458bfe6c48cf848dde4",
        "max"
       ],
       "target": [
        "IPY_MODEL_8c1c3994817547d98a5e235707c68afc",
        "max_frame"
       ]
      }
     },
     "b527636c0fb748dfb53807e5d564710c": {
      "model_module": "@jupyter-widgets/controls",
      "model_module_version": "1.5.0",
      "model_name": "ButtonModel",
      "state": {
       "description": "Download image",
       "layout": "IPY_MODEL_1fd8ba532e2b48d6b685f3efa91219aa",
       "style": "IPY_MODEL_48ae24c0ecc740bbbac44c9553280416",
       "tooltip": "Download current frame to your local PC"
      }
     },
     "b63d2a99d3784311b1bb6e7ab4a7d02e": {
      "model_module": "@jupyter-widgets/controls",
      "model_module_version": "1.5.0",
      "model_name": "LinkModel",
      "state": {
       "source": [
        "IPY_MODEL_5fc987f5a9054458bfe6c48cf848dde4",
        "value"
       ],
       "target": [
        "IPY_MODEL_8c1c3994817547d98a5e235707c68afc",
        "frame"
       ]
      }
     },
     "b7ec7ed2755c48ba9620197208dbfa54": {
      "model_module": "@jupyter-widgets/base",
      "model_module_version": "1.2.0",
      "model_name": "LayoutModel",
      "state": {}
     },
     "bbc305cf00f94888bd8de32918b38c24": {
      "model_module": "@jupyter-widgets/base",
      "model_module_version": "1.2.0",
      "model_name": "LayoutModel",
      "state": {}
     },
     "bcf34689b9eb4204a2701b7f2b1dff21": {
      "model_module": "@jupyter-widgets/base",
      "model_module_version": "1.2.0",
      "model_name": "LayoutModel",
      "state": {}
     },
     "bde50b17ef0a4cc7b36969361410afee": {
      "model_module": "@jupyter-widgets/base",
      "model_module_version": "1.2.0",
      "model_name": "LayoutModel",
      "state": {}
     },
     "bfdf8a02fc4846c397f85b30267fb302": {
      "model_module": "@jupyter-widgets/base",
      "model_module_version": "1.2.0",
      "model_name": "LayoutModel",
      "state": {}
     },
     "c0ddc15175e94bbb91c749c48da3abe2": {
      "model_module": "@jupyter-widgets/controls",
      "model_module_version": "1.5.0",
      "model_name": "DescriptionStyleModel",
      "state": {
       "description_width": ""
      }
     },
     "c1266664e6094637ad8d4be83b024f91": {
      "model_module": "@jupyter-widgets/base",
      "model_module_version": "1.2.0",
      "model_name": "LayoutModel",
      "state": {}
     },
     "c38e5385fbf6410a9d547f6522f55ade": {
      "model_module": "@jupyter-widgets/controls",
      "model_module_version": "1.5.0",
      "model_name": "IntSliderModel",
      "state": {
       "layout": "IPY_MODEL_f7e06526cae14cdf849c64699f42b0b2",
       "max": 0,
       "style": "IPY_MODEL_56305c65b3b64eabbb4025617ba1c816"
      }
     },
     "c41628c5943a45b7a200f6e0bf542c0f": {
      "model_module": "@jupyter-widgets/controls",
      "model_module_version": "1.5.0",
      "model_name": "IntSliderModel",
      "state": {
       "layout": "IPY_MODEL_9091ab99715c469dac334557fc6f8486",
       "max": 0,
       "style": "IPY_MODEL_b0dc80551b7644c7a1881caf38684fdf"
      }
     },
     "c497dbb410464681a757cf272f5a77e0": {
      "model_module": "nglview-js-widgets",
      "model_module_version": "3.0.1",
      "model_name": "NGLModel",
      "state": {
       "_camera_orientation": [
        5.218917557404552,
        0,
        0,
        0,
        0,
        5.218917557404552,
        0,
        0,
        0,
        0,
        5.218917557404552,
        0,
        -1.0575000047683716,
        -1.0575000047683716,
        -1.0575000047683716,
        1
       ],
       "_camera_str": "orthographic",
       "_gui_theme": null,
       "_ibtn_fullscreen": "IPY_MODEL_7bbf136d4a8e4717b4a9048179fcd0e3",
       "_igui": null,
       "_iplayer": "IPY_MODEL_6abc3cad99cf4a9f904491bdf5fedd21",
       "_ngl_color_dict": {},
       "_ngl_coordinate_resource": {},
       "_ngl_full_stage_parameters": {
        "ambientColor": 14540253,
        "ambientIntensity": 0.2,
        "backgroundColor": "white",
        "cameraEyeSep": 0.3,
        "cameraFov": 40,
        "cameraType": "orthographic",
        "clipDist": 0,
        "clipFar": 100,
        "clipNear": 0,
        "fogFar": 100,
        "fogNear": 50,
        "hoverTimeout": 0,
        "impostor": true,
        "lightColor": 14540253,
        "lightIntensity": 1,
        "mousePreset": "default",
        "panSpeed": 1,
        "quality": "medium",
        "rotateSpeed": 2,
        "sampleLevel": 0,
        "tooltip": true,
        "workerDefault": true,
        "zoomSpeed": 1.2
       },
       "_ngl_msg_archive": [
        {
         "args": [
          {
           "binary": false,
           "data": "CRYST1    4.230    4.230    4.230  90.00  90.00  90.00 P 1\nMODEL     1\nATOM      1   Na MOL     1       0.000   0.000   0.000  1.00  0.00          NA  \nATOM      2   Na MOL     1       2.115   2.115   2.115  1.00  0.00          NA  \nENDMDL\n",
           "type": "blob"
          }
         ],
         "kwargs": {
          "defaultRepresentation": false,
          "ext": "pdb"
         },
         "methodName": "loadFile",
         "reconstruc_color_scheme": false,
         "target": "Stage",
         "type": "call_method"
        },
        {
         "args": [
          "400px",
          "300px"
         ],
         "kwargs": {},
         "methodName": "setSize",
         "reconstruc_color_scheme": false,
         "target": "Widget",
         "type": "call_method"
        },
        {
         "args": [
          "unitcell"
         ],
         "component_index": 0,
         "kwargs": {
          "sele": "all"
         },
         "methodName": "addRepresentation",
         "reconstruc_color_scheme": false,
         "target": "compList",
         "type": "call_method"
        },
        {
         "args": [
          "spacefill"
         ],
         "component_index": 0,
         "kwargs": {
          "sele": "all"
         },
         "methodName": "addRepresentation",
         "reconstruc_color_scheme": false,
         "target": "compList",
         "type": "call_method"
        },
        {
         "args": [],
         "kwargs": {
          "cameraType": "orthographic"
         },
         "methodName": "setParameters",
         "reconstruc_color_scheme": false,
         "target": "Stage",
         "type": "call_method"
        },
        {
         "args": [
          {
           "clipDist": 0
          }
         ],
         "kwargs": {},
         "methodName": "setParameters",
         "reconstruc_color_scheme": false,
         "target": "Widget",
         "type": "call_method"
        },
        {
         "args": [
          "spacefill",
          0
         ],
         "kwargs": {
          "colorScale": "rainbow",
          "colorScheme": "element",
          "radiusScale": 0.5,
          "radiusType": "covalent"
         },
         "methodName": "updateRepresentationsByName",
         "reconstruc_color_scheme": false,
         "target": "Widget",
         "type": "call_method"
        },
        {
         "args": [
          "this._Q = [[1.0, 0.0, 0.0], [0.0, 1.0, 0.0], [0.0, 0.0, 1.0]]\n    var tooltip = document.createElement('div')\n    Object.assign(tooltip.style, {\n      display: 'none',\n      position: 'fixed',\n      zIndex: 10,\n      pointerEvents: 'none',\n      backgroundColor: 'rgba( 0, 0, 0, 0.6 )',\n      color: 'lightgrey',\n      padding: '8px',\n      fontFamily: 'sans-serif'\n    })\n    document.body.appendChild(tooltip)\n\n    var that = this\n    this.stage.mouseControls.remove('hoverPick')\n    this.stage.signals.hovered.add(function (pickingProxy) {\n      if (pickingProxy && (pickingProxy.atom || pickingProxy.bond)) {\n        var atom = pickingProxy.atom || pickingProxy.closestBondAtom\n        var mp = pickingProxy.mouse.position\n        //tooltip.innerText = atom.element + ' i=' + atom.index + ' (' + atom.x.toFixed(2) +  ', ' + atom.y.toFixed(2) +  ', ' + atom.z.toFixed(2) + ')'\n        //var pos = that._atoms_pos[atom.index]\n        var Q = that._Q\n        var pos_x = Q[0][0] * atom.x + Q[0][1] * atom.y + Q[0][2] * atom.z \n        var pos_y = Q[1][0] * atom.x + Q[1][1] * atom.y + Q[1][2] * atom.z\n        var pos_z = Q[2][0] * atom.x + Q[2][1] * atom.y + Q[2][2] * atom.z\n        tooltip.innerText = 'i=' + atom.index + ' ' + atom.element + ' (' + pos_x.toFixed(2) +  ', ' + pos_y.toFixed(2) +  ', ' + pos_z.toFixed(2) + ')'\n        tooltip.style.bottom = window.innerHeight - mp.y + 3 + 'px'\n        tooltip.style.left = mp.x + 3 + 'px'\n        tooltip.style.display = 'block'\n      } else {\n        tooltip.style.display = 'none'\n      }\n    })\n    "
         ],
         "kwargs": {},
         "methodName": "executeCode",
         "reconstruc_color_scheme": false,
         "target": "Widget",
         "type": "call_method"
        }
       ],
       "_ngl_original_stage_parameters": {
        "ambientColor": 14540253,
        "ambientIntensity": 0.2,
        "backgroundColor": "white",
        "cameraEyeSep": 0.3,
        "cameraFov": 40,
        "cameraType": "perspective",
        "clipDist": 10,
        "clipFar": 100,
        "clipNear": 0,
        "fogFar": 100,
        "fogNear": 50,
        "hoverTimeout": 0,
        "impostor": true,
        "lightColor": 14540253,
        "lightIntensity": 1,
        "mousePreset": "default",
        "panSpeed": 1,
        "quality": "medium",
        "rotateSpeed": 2,
        "sampleLevel": 0,
        "tooltip": true,
        "workerDefault": true,
        "zoomSpeed": 1.2
       },
       "_ngl_repr_dict": {
        "0": {
         "0": {
          "params": {
           "clipCenter": {
            "x": 0,
            "y": 0,
            "z": 0
           },
           "clipNear": 0,
           "clipRadius": 0,
           "colorMode": "hcl",
           "colorReverse": false,
           "colorScale": "",
           "colorScheme": "element",
           "colorValue": "orange",
           "defaultAssembly": "",
           "depthWrite": true,
           "diffuse": 16777215,
           "diffuseInterior": false,
           "disableImpostor": false,
           "disablePicking": false,
           "flatShaded": false,
           "interiorColor": 2236962,
           "interiorDarkening": 0,
           "lazy": false,
           "matrix": {
            "elements": [
             1,
             0,
             0,
             0,
             0,
             1,
             0,
             0,
             0,
             0,
             1,
             0,
             0,
             0,
             0,
             1
            ]
           },
           "metalness": 0,
           "opacity": 1,
           "quality": "medium",
           "radialSegments": 10,
           "radiusData": {},
           "radiusScale": 1,
           "radiusSize": 0.021149999071597175,
           "radiusType": "vdw",
           "roughness": 0.4,
           "sele": "all",
           "side": "double",
           "sphereDetail": 1,
           "useInteriorColor": true,
           "visible": true,
           "wireframe": false
          },
          "type": "unitcell"
         },
         "1": {
          "params": {
           "assembly": "default",
           "clipCenter": {
            "x": 0,
            "y": 0,
            "z": 0
           },
           "clipNear": 0,
           "clipRadius": 0,
           "colorMode": "hcl",
           "colorReverse": false,
           "colorScale": "rainbow",
           "colorScheme": "element",
           "colorValue": 9474192,
           "defaultAssembly": "",
           "depthWrite": true,
           "diffuse": 16777215,
           "diffuseInterior": false,
           "disableImpostor": false,
           "disablePicking": false,
           "flatShaded": false,
           "interiorColor": 2236962,
           "interiorDarkening": 0,
           "lazy": false,
           "matrix": {
            "elements": [
             1,
             0,
             0,
             0,
             0,
             1,
             0,
             0,
             0,
             0,
             1,
             0,
             0,
             0,
             0,
             1
            ]
           },
           "metalness": 0,
           "opacity": 1,
           "quality": "medium",
           "radiusData": {},
           "radiusScale": 0.5,
           "radiusSize": 1,
           "radiusType": "covalent",
           "roughness": 0.4,
           "sele": "all",
           "side": "double",
           "sphereDetail": 1,
           "useInteriorColor": true,
           "visible": true,
           "wireframe": false
          },
          "type": "spacefill"
         }
        }
       },
       "_ngl_serialize": false,
       "_ngl_version": "2.0.0-dev.36",
       "_ngl_view_id": [
        "3DE971BA-328C-486C-A6CD-E1EEAD9F668C"
       ],
       "_player_dict": {},
       "_scene_position": {},
       "_scene_rotation": {},
       "_synced_model_ids": [],
       "_synced_repr_model_ids": [],
       "_view_height": "",
       "_view_width": "",
       "background": "white",
       "frame": 0,
       "gui_style": null,
       "layout": "IPY_MODEL_5e862e73d7634f0f81f4d461f2b5c05c",
       "max_frame": 0,
       "n_components": 1,
       "picked": {}
      }
     },
     "c4aa51431c5249de81dd214e970a1b3d": {
      "model_module": "@jupyter-widgets/base",
      "model_module_version": "1.2.0",
      "model_name": "LayoutModel",
      "state": {}
     },
     "c519ec29820543a0ac825e98b06a9186": {
      "model_module": "@jupyter-widgets/controls",
      "model_module_version": "1.5.0",
      "model_name": "LinkModel",
      "state": {
       "source": [
        "IPY_MODEL_2da0b9e9ca094ad2b1b0998365bf3125",
        "max"
       ],
       "target": [
        "IPY_MODEL_c497dbb410464681a757cf272f5a77e0",
        "max_frame"
       ]
      }
     },
     "c5b032f6861540a5a796bf7818f7e158": {
      "model_module": "@jupyter-widgets/controls",
      "model_module_version": "1.5.0",
      "model_name": "DropdownModel",
      "state": {
       "_options_labels": [
        " ",
        "picking",
        "random",
        "uniform",
        "atomindex",
        "residueindex",
        "chainindex",
        "modelindex",
        "sstruc",
        "element",
        "resname",
        "bfactor",
        "hydrophobicity",
        "value",
        "volume",
        "occupancy"
       ],
       "description": "Color scheme",
       "index": 9,
       "layout": "IPY_MODEL_7e6493c69e564d24a1011568a075f323",
       "style": "IPY_MODEL_569c058d70c9449bb90891aafe2dc393"
      }
     },
     "c792e55ac1074c5499887de493993f99": {
      "model_module": "@jupyter-widgets/controls",
      "model_module_version": "1.5.0",
      "model_name": "HBoxModel",
      "state": {
       "children": [
        "IPY_MODEL_8c1c3994817547d98a5e235707c68afc",
        "IPY_MODEL_0dbff0b6bfff45719d444545899cee9f"
       ],
       "layout": "IPY_MODEL_bfdf8a02fc4846c397f85b30267fb302"
      }
     },
     "c90328de59254f968a945723bde017d2": {
      "model_module": "@jupyter-widgets/controls",
      "model_module_version": "1.5.0",
      "model_name": "FloatSliderModel",
      "state": {
       "description": "Charge scale",
       "layout": "IPY_MODEL_459eaa7580a9411dbc7c266cfae5065b",
       "step": 0.1,
       "style": "IPY_MODEL_4025804ae38f4732855bc030f732fd6d",
       "value": 1
      }
     },
     "c913201137cb4cb9a185b31d493e6335": {
      "model_module": "@jupyter-widgets/controls",
      "model_module_version": "1.5.0",
      "model_name": "ImageModel",
      "state": {
       "layout": "IPY_MODEL_f1be49d667c942fb82b801b7369240a5",
       "width": "900.0"
      }
     },
     "ca7517ee9403406fbc8b043fdf72556d": {
      "model_module": "@jupyter-widgets/controls",
      "model_module_version": "1.5.0",
      "model_name": "HBoxModel",
      "state": {
       "children": [
        "IPY_MODEL_396d9f3579064a67aa96d4e52a3d11bd",
        "IPY_MODEL_7744d24ab0754dcfae9f57edca585f74"
       ],
       "layout": "IPY_MODEL_cdff2e3466a74456bf23bdfa078c7fe1"
      }
     },
     "cdaab201401e4f148b3aa40843fe734f": {
      "model_module": "@jupyter-widgets/controls",
      "model_module_version": "1.5.0",
      "model_name": "ButtonStyleModel",
      "state": {}
     },
     "cdff2e3466a74456bf23bdfa078c7fe1": {
      "model_module": "@jupyter-widgets/base",
      "model_module_version": "1.2.0",
      "model_name": "LayoutModel",
      "state": {}
     },
     "d156bcdf25f1482bb4cfa7c078526047": {
      "model_module": "@jupyter-widgets/controls",
      "model_module_version": "1.5.0",
      "model_name": "ButtonModel",
      "state": {
       "icon": "compress",
       "layout": "IPY_MODEL_2c84b3c721a241a6849a5a4a9072aaa7",
       "style": "IPY_MODEL_cdaab201401e4f148b3aa40843fe734f"
      }
     },
     "d4d98c0daedb4d10ab6d0e81af2f30e0": {
      "model_module": "@jupyter-widgets/controls",
      "model_module_version": "1.5.0",
      "model_name": "TextModel",
      "state": {
       "description": "Filename: ",
       "layout": "IPY_MODEL_f400cd2297fc45aa80e6e1ffffa653ca",
       "style": "IPY_MODEL_649d6d84720a43988b914f9ea13257a8",
       "value": "screenshot.png"
      }
     },
     "d59cc8a1ece346009c2f5eb5b23ce216": {
      "model_module": "@jupyter-widgets/base",
      "model_module_version": "1.2.0",
      "model_name": "LayoutModel",
      "state": {}
     },
     "d68700949aa842d28ad2007cd147c7f4": {
      "model_module": "@jupyter-widgets/base",
      "model_module_version": "1.2.0",
      "model_name": "LayoutModel",
      "state": {}
     },
     "d6db2514be574b37bca242b8406b79f7": {
      "model_module": "nglview-js-widgets",
      "model_module_version": "3.0.1",
      "model_name": "ColormakerRegistryModel",
      "state": {
       "_msg_ar": [],
       "_msg_q": [],
       "_ready": true,
       "layout": "IPY_MODEL_e7f05d4bd8514a4ab81dba1f12ec7d12"
      }
     },
     "d6ffcf6957f2473ca2a3f7f630eb2bf1": {
      "model_module": "@jupyter-widgets/controls",
      "model_module_version": "1.5.0",
      "model_name": "SliderStyleModel",
      "state": {
       "description_width": ""
      }
     },
     "d9e4db03eb19438898e9a83d85913339": {
      "model_module": "@jupyter-widgets/base",
      "model_module_version": "1.2.0",
      "model_name": "LayoutModel",
      "state": {}
     },
     "dac0cc8526e2455b9bc1124b7bf5cfa6": {
      "model_module": "@jupyter-widgets/controls",
      "model_module_version": "1.5.0",
      "model_name": "SliderStyleModel",
      "state": {
       "description_width": ""
      }
     },
     "dce52bc9fdac49aa873ed59832b3db96": {
      "model_module": "@jupyter-widgets/base",
      "model_module_version": "1.2.0",
      "model_name": "LayoutModel",
      "state": {}
     },
     "dece9ff89124447d84405f098214151f": {
      "model_module": "@jupyter-widgets/base",
      "model_module_version": "1.2.0",
      "model_name": "LayoutModel",
      "state": {}
     },
     "df437ca0626c4f30a7ee505859e8c03b": {
      "model_module": "@jupyter-widgets/controls",
      "model_module_version": "1.5.0",
      "model_name": "CheckboxModel",
      "state": {
       "description": "Show charge",
       "disabled": false,
       "layout": "IPY_MODEL_bcf34689b9eb4204a2701b7f2b1dff21",
       "style": "IPY_MODEL_503409c04e5e4c298cb953f7f90bd4ba",
       "value": false
      }
     },
     "dff60ac144e44a568750dbcab3aa45dd": {
      "model_module": "@jupyter-widgets/controls",
      "model_module_version": "1.5.0",
      "model_name": "DescriptionStyleModel",
      "state": {
       "description_width": ""
      }
     },
     "e071138da2c14f2db06ef8a0765a7c58": {
      "model_module": "@jupyter-widgets/controls",
      "model_module_version": "1.5.0",
      "model_name": "LinkModel",
      "state": {
       "source": [
        "IPY_MODEL_c41628c5943a45b7a200f6e0bf542c0f",
        "max"
       ],
       "target": [
        "IPY_MODEL_6bea451c1e214c9d98b5ea155f3d77cf",
        "max_frame"
       ]
      }
     },
     "e122106f22f04b8e886bf99be2b2752b": {
      "model_module": "@jupyter-widgets/base",
      "model_module_version": "1.2.0",
      "model_name": "LayoutModel",
      "state": {}
     },
     "e75b2a594c0b48e5b8f35061e26518ba": {
      "model_module": "@jupyter-widgets/base",
      "model_module_version": "1.2.0",
      "model_name": "LayoutModel",
      "state": {}
     },
     "e7f05d4bd8514a4ab81dba1f12ec7d12": {
      "model_module": "@jupyter-widgets/base",
      "model_module_version": "1.2.0",
      "model_name": "LayoutModel",
      "state": {}
     },
     "e8ef8b932d1a4bc59973153595f0a58c": {
      "model_module": "@jupyter-widgets/controls",
      "model_module_version": "1.5.0",
      "model_name": "DescriptionStyleModel",
      "state": {
       "description_width": ""
      }
     },
     "f1be49d667c942fb82b801b7369240a5": {
      "model_module": "@jupyter-widgets/base",
      "model_module_version": "1.2.0",
      "model_name": "LayoutModel",
      "state": {}
     },
     "f21c7666548a46ee915455d6b3947bad": {
      "model_module": "@jupyter-widgets/base",
      "model_module_version": "1.2.0",
      "model_name": "LayoutModel",
      "state": {}
     },
     "f400cd2297fc45aa80e6e1ffffa653ca": {
      "model_module": "@jupyter-widgets/base",
      "model_module_version": "1.2.0",
      "model_name": "LayoutModel",
      "state": {}
     },
     "f7e06526cae14cdf849c64699f42b0b2": {
      "model_module": "@jupyter-widgets/base",
      "model_module_version": "1.2.0",
      "model_name": "LayoutModel",
      "state": {}
     },
     "fa9d6cae01374d3898a87fc05df388b7": {
      "model_module": "@jupyter-widgets/controls",
      "model_module_version": "1.5.0",
      "model_name": "SliderStyleModel",
      "state": {
       "description_width": ""
      }
     },
     "fc80a7b5ca9e4683b3267ba1e9f372f2": {
      "model_module": "@jupyter-widgets/controls",
      "model_module_version": "1.5.0",
      "model_name": "ButtonStyleModel",
      "state": {}
     },
     "fc81f2fe115b448aa64e7bc5dc388db4": {
      "model_module": "@jupyter-widgets/controls",
      "model_module_version": "1.5.0",
      "model_name": "FloatSliderModel",
      "state": {
       "description": "Force scale",
       "layout": "IPY_MODEL_36d30e6ba12a4f00bf70cafa02ed1e03",
       "step": 0.1,
       "style": "IPY_MODEL_9fa55695f8b44a8ca007d6cb57b5411c",
       "value": 0.5
      }
     },
     "fea34dee47014008ada088bdc0f32e31": {
      "model_module": "@jupyter-widgets/controls",
      "model_module_version": "1.5.0",
      "model_name": "DescriptionStyleModel",
      "state": {
       "description_width": ""
      }
     }
    },
    "version_major": 2,
    "version_minor": 0
   }
  }
 },
 "nbformat": 4,
 "nbformat_minor": 5
}
