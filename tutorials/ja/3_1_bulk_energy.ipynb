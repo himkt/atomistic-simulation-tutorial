{
 "cells": [
  {
   "cell_type": "markdown",
   "id": "9aa83aba-3786-436b-8d36-f7f5b3dccf91",
   "metadata": {},
   "source": [
    "# Bulk energy\n",
    "\n",
    "3章では各種エネルギー計算の方法を学んでいきます。\n",
    "\n",
    " - 結合エネルギー\n",
    " - 凝集エネルギー\n",
    " - 空孔形成エネルギー\n",
    " - 表面エネルギー\n",
    " - 界面エネルギー\n",
    " - Excess エネルギー\n",
    " - 吸着エネルギー\n",
    "\n",
    "これらのエネルギーを評価することで、どういった物質・構造が安定して存在するかを解析することができます。\n",
    "\n",
    "分子系に関するエネルギーとして結合エネルギー、結晶系に関するエネルギーとして凝集エネルギー、結晶に欠陥がある系のエネルギーとして空孔生成エネルギーを紹介します。"
   ]
  },
  {
   "cell_type": "markdown",
   "id": "73eec36c-8d64-44e1-83f4-169ad67ff3ae",
   "metadata": {},
   "source": [
    "## 結合エネルギー - Binding energy\n",
    "\n",
    "これは、ある原子が孤立している状態(isolated)から、分子として結合した際に下がるエネルギー差として定義されています。\n",
    "\n",
    "$$E_{\\rm{binding}} = E_{\\rm{molecule}} - E_{\\rm{isolated}}$$\n",
    "\n",
    "$E_{\\rm{molecule}}$を分子のエネルギー、$E_{\\rm{isolated}}$を孤立した場合のエネルギーとして、結合エネルギー$E_{\\rm{binding}}$ が求まります。\n",
    "\n",
    "一般の分子は複数の原子・複数の結合(Bond) からなります。分子を構成する原子全てを孤立させるために必要なエネルギーは、原子化エネルギー (atomization energy)と呼ばれることもあります。\n",
    "\n",
    "ここでは水素分子H2の結合エネルギーを求めてみます。 "
   ]
  },
  {
   "cell_type": "code",
   "execution_count": 1,
   "id": "d704964f-0278-4dfa-bb79-d5ebb7d07339",
   "metadata": {},
   "outputs": [
    {
     "name": "stdout",
     "output_type": "stream",
     "text": [
      "pfp_api_client: 1.3.1\n"
     ]
    }
   ],
   "source": [
    "import pfp_api_client\n",
    "from pfp_api_client.pfp.calculators.ase_calculator import ASECalculator\n",
    "from pfp_api_client.pfp.estimator import Estimator, EstimatorCalcMode\n",
    "\n",
    "\n",
    "print(f\"pfp_api_client: {pfp_api_client.__version__}\")\n",
    "\n",
    "# estimator = Estimator(calc_mode=EstimatorCalcMode.CRYSTAL, model_version=\"v2.0.0\")\n",
    "estimator = Estimator(calc_mode=EstimatorCalcMode.CRYSTAL_U0, model_version=\"v2.0.0\")\n",
    "calculator = ASECalculator(estimator)"
   ]
  },
  {
   "cell_type": "markdown",
   "id": "34a05678-8d56-4344-b36d-042876607b67",
   "metadata": {},
   "source": [
    "`E_mol`が水素分子のエネルギーで、構造最適化を行った後の安定構造のエネルギーを得る必要があります。<br/>\n",
    "`E_iso`が水素原子2つが孤立して存在する場合のエネルギーです。こちらは原子１つのため、どのような座標値でもエネルギーは変わらず、構造最適化を行う必要がありません。\n",
    "\n",
    "以下の計算において孤立原子Hは、Hが1つの場合を計算し2倍することでH 2つが孤立している場合のエネルギーを算出しています。"
   ]
  },
  {
   "cell_type": "code",
   "execution_count": 2,
   "id": "9cffe205-b0d9-4207-9132-6962d24e4ff5",
   "metadata": {},
   "outputs": [
    {
     "name": "stdout",
     "output_type": "stream",
     "text": [
      "       Step     Time          Energy         fmax\n",
      "*Force-consistent energies used in optimization.\n",
      "LBFGS:    0 04:15:52       -4.529960*       0.4977\n",
      "LBFGS:    1 04:15:52       -4.533232*       0.0301\n",
      "E_molecule = -4.53 eV\n",
      "E_isolated = 0.00 eV\n"
     ]
    }
   ],
   "source": [
    "from ase import Atoms\n",
    "from ase.build import molecule\n",
    "from ase.optimize import LBFGS\n",
    "\n",
    "atoms_mol = molecule(\"H2\")\n",
    "atoms_mol.calc = calculator\n",
    "LBFGS(atoms_mol).run()\n",
    "E_mol = atoms_mol.get_potential_energy()\n",
    "print(f\"E_molecule = {E_mol:.2f} eV\")\n",
    "\n",
    "atoms_isolated = Atoms(\"H\")\n",
    "atoms_isolated.calc = calculator\n",
    "E_iso = atoms_isolated.get_potential_energy() * 2\n",
    "print(f\"E_isolated = {E_iso:.2f} eV\")"
   ]
  },
  {
   "cell_type": "code",
   "execution_count": 3,
   "id": "7619a130-488c-44bc-ba9d-17ebec76e931",
   "metadata": {},
   "outputs": [
    {
     "name": "stdout",
     "output_type": "stream",
     "text": [
      "E_binding  = -4.53 eV\n"
     ]
    }
   ],
   "source": [
    "E_bind = E_mol - E_iso\n",
    "\n",
    "print(f\"E_binding  = {E_bind:.2f} eV\")"
   ]
  },
  {
   "cell_type": "markdown",
   "id": "84dcfad8-ac06-48b6-8ddd-905456832269",
   "metadata": {},
   "source": [
    "上記の定義で計算を行うと結合エネルギーはマイナスの値となり、実際にHが2つ孤立しているよりも、水素分子として結合した場合のほうが安定であるということが確認できます。\n",
    "\n",
    "以下の参考文献では、H-Hの結合エネルギーは4.5eV と記載されており、今回の計算結果もあったものとなりました。※\n",
    "\n",
    " - https://websites.pmc.ucsc.edu/~fnimmo/website/binding_energies.pdf\n",
    "\n",
    "※: 結合エネルギーを始め、これから説明するエネルギーは基本安定であるときにマイナスの値となります。<br/>\n",
    "マイナスの値であることが自明な際、しばしば文献上では絶対値をとったプラスの値で表示されることがあります。\n",
    "\n",
    "\n",
    "### エネルギーは絶対値ではなく、差を見るのが重要\n",
    "\n",
    "各元素のエネルギーの基準値をどこに取るかは任意性があり、ポテンシャルエネルギーの計算手法ごとに異なります。<br/>\n",
    "本章で見ていく各種エネルギーは、**元素とその数をあわせた場合のエネルギー差**しか意味がないことに注意してください。\n",
    "\n",
    "例えばH2分子とH原子一つのエネルギー差を直接比較することはできません。<br/>\n",
    "また、元素を置換した場合(たとえばH2とHO)もエネルギーの比較はできないので注意してください。"
   ]
  },
  {
   "cell_type": "markdown",
   "id": "af92fb27-454b-44ed-83ab-c558b5de20c6",
   "metadata": {},
   "source": [
    "## 凝集エネルギー - Cohesive energy\n",
    "\n",
    "次に結晶の凝集エネルギーを見てみましょう。\n",
    "\n",
    "これは、ある原子が孤立してある状態(isolated)から、凝集して結晶(solid)を作った際に下がるエネルギー差として定義されています。\n",
    "\n",
    "$$E_{\\rm{coh}} = E_{\\rm{bulk}} - E_{\\rm{isolated}}$$\n",
    "\n",
    "$N$個の原子からなる結晶と孤立状態からなる系で $E_{\\rm{coh}}$ を計算した場合、１原子あたりの凝集エネルギーは $E_{\\rm{coh}}/N$ となります。\n",
    "\n",
    "例えば、Au元素における凝集エネルギーを計算してみましょう。<br/>\n",
    "以下では、`au_iso`として孤立したAu 1元素を用意し、`au_bulk` として結晶状態のAu 1原子あたりのエネルギーをそれぞれ求めています。\n",
    "\n",
    "有限温度では `get_total_energy` は運動エネルギーも含みますが、今は運動エネルギーを設定せずに0としており、これは 0K での凝集エネルギーを求めていることに相当します。"
   ]
  },
  {
   "cell_type": "code",
   "execution_count": 4,
   "id": "081d9114-796c-4a8b-b556-8c6e9ea5fe32",
   "metadata": {},
   "outputs": [
    {
     "name": "stdout",
     "output_type": "stream",
     "text": [
      "pfp_api_client: 1.3.1\n"
     ]
    }
   ],
   "source": [
    "import pfp_api_client\n",
    "from pfp_api_client.pfp.calculators.ase_calculator import ASECalculator\n",
    "from pfp_api_client.pfp.estimator import Estimator, EstimatorCalcMode\n",
    "\n",
    "\n",
    "print(f\"pfp_api_client: {pfp_api_client.__version__}\")\n",
    "\n",
    "estimator = Estimator(calc_mode=EstimatorCalcMode.CRYSTAL_U0, model_version=\"v2.0.0\")\n",
    "calculator = ASECalculator(estimator)"
   ]
  },
  {
   "cell_type": "code",
   "execution_count": 5,
   "id": "4f583a58-f431-461a-8b62-071a8c6301a6",
   "metadata": {},
   "outputs": [
    {
     "name": "stdout",
     "output_type": "stream",
     "text": [
      "       Step     Time          Energy         fmax\n",
      "*Force-consistent energies used in optimization.\n",
      "LBFGS:    0 04:15:56       -2.997068*       1.7769\n",
      "LBFGS:    1 04:15:56       -3.025847*       0.5531\n",
      "LBFGS:    2 04:15:56       -3.029363*       0.0739\n",
      "LBFGS:    3 04:15:56       -3.029428*       0.0014\n"
     ]
    }
   ],
   "source": [
    "from ase import Atoms\n",
    "from ase.build import bulk\n",
    "from ase.constraints import ExpCellFilter, StrainFilter\n",
    "from ase.optimize import LBFGS\n",
    "\n",
    "symbol = \"Au\"\n",
    "au_iso = Atoms(symbol)\n",
    "au_bulk = bulk(symbol)\n",
    "\n",
    "au_iso.calc = calculator\n",
    "E_iso = au_iso.get_total_energy()\n",
    "\n",
    "au_bulk.calc = calculator\n",
    "au_bulk_strain = StrainFilter(au_bulk)\n",
    "opt = LBFGS(au_bulk_strain)\n",
    "opt.run()\n",
    "E_bulk = au_bulk.get_total_energy()"
   ]
  },
  {
   "cell_type": "code",
   "execution_count": 6,
   "id": "b8bb9472-7b30-497f-8ea3-4dd5966ff18e",
   "metadata": {},
   "outputs": [
    {
     "name": "stdout",
     "output_type": "stream",
     "text": [
      "E_bulk     = -3.03 eV\n",
      "E_isolated = -0.05 eV\n",
      "E_coh      = -2.98 eV\n"
     ]
    }
   ],
   "source": [
    "E_coh = E_bulk - E_iso\n",
    "\n",
    "print(f\"E_bulk     = {E_bulk:.2f} eV\")\n",
    "print(f\"E_isolated = {E_iso:.2f} eV\")\n",
    "print(f\"E_coh      = {E_coh:.2f} eV\")"
   ]
  },
  {
   "cell_type": "markdown",
   "id": "25995175-0cb8-4394-b6fb-33a934cc072a",
   "metadata": {},
   "source": [
    "この例では、`E_coh = -2.98` eV/atom として凝集エネルギーが得られました。凝集エネルギーは1原子あたりの値として eV/atom で表すことが多いです。\n",
    "\n",
    "凝集エネルギーがマイナスの値になることは、原子がそれぞれ単独で存在するよりも凝集して結晶となったほうが安定であるということを示しています。"
   ]
  },
  {
   "cell_type": "markdown",
   "id": "8cf4c4a6-3bcc-4f33-b544-c7b854313920",
   "metadata": {},
   "source": [
    "BulkおよびIsolated atomsの可視化は以下のようになります。\n",
    "\n",
    "どちらも同じ1原子ですが、Isolatedは周期境界がなく完全に孤立した原子で、Bulkは周期境界があり結晶として無限に続いた系を表しています。"
   ]
  },
  {
   "cell_type": "code",
   "execution_count": 7,
   "id": "6fe385ac-50c8-44db-90b9-c9648ee30d2c",
   "metadata": {
    "tags": []
   },
   "outputs": [],
   "source": [
    "from ase.io import write\n",
    "from IPython.display import Image\n",
    "\n",
    "write(\"output/au_iso.png\", au_iso, rotation=\"0x,0y,0z\")\n",
    "write(\"output/au_bulk.png\", au_bulk, rotation=\"0x,0y,0z\")"
   ]
  },
  {
   "cell_type": "code",
   "execution_count": 8,
   "id": "96f9e934-3d5b-4834-8279-64a8f6665728",
   "metadata": {},
   "outputs": [
    {
     "data": {
      "image/png": "[encoded data removed]",
      "text/plain": [
       "<Figure size 432x216 with 2 Axes>"
      ]
     },
     "metadata": {
      "needs_background": "light"
     },
     "output_type": "display_data"
    }
   ],
   "source": [
    "import matplotlib.pyplot as plt\n",
    "import matplotlib.image as mpimg\n",
    "\n",
    "\n",
    "fig, axes = plt.subplots(1, 2, figsize=(6, 3))\n",
    "ax0, ax1 = axes\n",
    "ax0.imshow(mpimg.imread(\"output/au_iso.png\"))\n",
    "ax0.set_axis_off()\n",
    "ax0.set_title(\"Isolated\")\n",
    "ax1.imshow(mpimg.imread(\"output/au_bulk.png\"))\n",
    "ax1.set_axis_off()\n",
    "ax1.set_title(\"Bulk\")\n",
    "fig.show()"
   ]
  },
  {
   "cell_type": "code",
   "execution_count": 9,
   "id": "e1abf5b7-f9c2-4ac2-9837-0b994af2d934",
   "metadata": {},
   "outputs": [
    {
     "data": {
      "application/vnd.jupyter.widget-view+json": {
       "model_id": "d2126358f44548b485eaf327dd30f248",
       "version_major": 2,
       "version_minor": 0
      },
      "text/plain": []
     },
     "metadata": {},
     "output_type": "display_data"
    },
    {
     "data": {
      "application/vnd.jupyter.widget-view+json": {
       "model_id": "723c35be71ff4ef2913ce222f2e900fb",
       "version_major": 2,
       "version_minor": 0
      },
      "text/plain": [
       "HBox(children=(NGLWidget(max_frame=1), VBox(children=(Dropdown(description='Show', options=('All', 'Au'), valu…"
      ]
     },
     "metadata": {},
     "output_type": "display_data"
    }
   ],
   "source": [
    "from pfcc_extras.visualize.view import view_ngl\n",
    "\n",
    "view_ngl([au_iso, au_bulk], replace_structure=True)"
   ]
  },
  {
   "cell_type": "markdown",
   "id": "e824e4b4-fd92-4105-9eb0-6ffa292402b4",
   "metadata": {},
   "source": [
    "上記の計算を様々な元素に対して実行してみます。"
   ]
  },
  {
   "cell_type": "code",
   "execution_count": 10,
   "id": "299f0d58-8023-4f86-8862-3c7f6ef24a54",
   "metadata": {},
   "outputs": [],
   "source": [
    "def calc_cohesive_energy(symbol, calculator):\n",
    "    atoms_iso = Atoms(symbol)\n",
    "    atoms_bulk = bulk(symbol)\n",
    "\n",
    "    atoms_iso.calc = calculator\n",
    "    E_iso = au_iso.get_total_energy() / len(atoms_iso)\n",
    "\n",
    "    atoms_bulk.calc = calculator\n",
    "    atoms_bulk_strain = StrainFilter(atoms_bulk)\n",
    "    opt = LBFGS(atoms_bulk_strain, logfile=None)\n",
    "    opt.run()\n",
    "    E_bulk = atoms_bulk.get_total_energy() / len(atoms_bulk)\n",
    "    E_coh = E_bulk - E_iso / len(atoms_iso)\n",
    "    print(f\"{symbol}: E_bulk {E_bulk:.2f} - E_iso {E_iso:.2f} = E_coh {E_coh:.2f} eV/atom\")\n",
    "    return E_bulk, E_iso, E_coh"
   ]
  },
  {
   "cell_type": "code",
   "execution_count": 11,
   "id": "17055e03-24fb-4b45-9e94-917c224c5b11",
   "metadata": {},
   "outputs": [
    {
     "name": "stdout",
     "output_type": "stream",
     "text": [
      "Fe: E_bulk -4.99 - E_iso -0.05 = E_coh -4.95 eV/atom\n",
      "Co: E_bulk -5.13 - E_iso -0.05 = E_coh -5.08 eV/atom\n",
      "Ni: E_bulk -4.82 - E_iso -0.05 = E_coh -4.77 eV/atom\n",
      "Cu: E_bulk -3.51 - E_iso -0.05 = E_coh -3.46 eV/atom\n",
      "Pt: E_bulk -5.45 - E_iso -0.05 = E_coh -5.40 eV/atom\n",
      "Au: E_bulk -3.03 - E_iso -0.05 = E_coh -2.98 eV/atom\n"
     ]
    }
   ],
   "source": [
    "for symbol in [\"Fe\", \"Co\", \"Ni\", \"Cu\", \"Pt\", \"Au\"]:\n",
    "    calc_cohesive_energy(symbol, calculator)"
   ]
  },
  {
   "cell_type": "markdown",
   "id": "effb8579-bb05-4997-90a2-9760996fee34",
   "metadata": {},
   "source": [
    "文献 \"[Bulk Properties of Transition Metals: A Challenge for the Design of Universal Density Functionals](https://pubs.acs.org/doi/10.1021/ct500532v)\" のTable 2. に各元素における凝集エネルギーのDFT計算値や実験値が収録されています。\n",
    "\n",
    "PFP CRYSTAL_U0 modeの計算条件であるPBE/GGAと比べてみてみると、近い値になっていることがわかります。"
   ]
  },
  {
   "cell_type": "markdown",
   "id": "9c443f5a-cf26-42b4-81a6-00978cf61b9e",
   "metadata": {},
   "source": [
    "凝集エネルギーは単元素だけではなく、複数元素からなる系でも定義されます。\n",
    "\n",
    "例として、GaAsの凝集エネルギーを求めてみましょう。以下の文献を見ると、実験値としては6.5~6.7 eV/GaAs 程度となるようです。\n",
    "\n",
    " - Cohesive Energies: http://cmt.dur.ac.uk/sjc/thesis_ppr/node50.html\n",
    " - GaAs (zinc-blende)\n",
    "http://www.ciss.iis.u-tokyo.ac.jp/theme/multi/material/periodic_detail/examples/GaAs_zb_gga/GaAs_zb_ggapbe.html\n"
   ]
  },
  {
   "cell_type": "markdown",
   "id": "844ade8c-4834-4b9b-9e9f-7dda7e8a0ac5",
   "metadata": {},
   "source": [
    "> Data retrieved from the Materials Project for GaAs (mp-2534) from database version v2021.11.10. <br/>\n",
    "> https://next-gen.materialsproject.org/materials/mp-2534"
   ]
  },
  {
   "cell_type": "code",
   "execution_count": 12,
   "id": "7c502237-bc7d-43bd-b78b-cd4e7414cec2",
   "metadata": {},
   "outputs": [
    {
     "data": {
      "application/vnd.jupyter.widget-view+json": {
       "model_id": "5e44b4c3ae554fd2a4950e4f246ed7b1",
       "version_major": 2,
       "version_minor": 0
      },
      "text/plain": [
       "HBox(children=(NGLWidget(), VBox(children=(Dropdown(description='Show', options=('All', 'Ga', 'As'), value='Al…"
      ]
     },
     "metadata": {},
     "output_type": "display_data"
    }
   ],
   "source": [
    "from ase.io import read\n",
    "\n",
    "atoms_bulk = read(\"../input/mp_2534-GaAs.cif\")\n",
    "view_ngl(atoms_bulk, representations=[\"ball+stick\"])"
   ]
  },
  {
   "cell_type": "markdown",
   "id": "8ee15b90-5260-4690-9a50-700e28e10f39",
   "metadata": {},
   "source": [
    "まず上記結晶としてのGaAsのエネルギーは以下のように計算されます。<br/>\n",
    "ここではCellの大きさと原子の座標両方を最適化するため、`ExpCellFilter`を使用しています。"
   ]
  },
  {
   "cell_type": "code",
   "execution_count": 13,
   "id": "01f3766e-1be9-4c99-b29c-404db0290f5c",
   "metadata": {},
   "outputs": [
    {
     "name": "stdout",
     "output_type": "stream",
     "text": [
      "       Step     Time          Energy         fmax\n",
      "*Force-consistent energies used in optimization.\n",
      "LBFGS:    0 04:16:25      -25.208059*       0.2145\n",
      "LBFGS:    1 04:16:25      -25.207056*       0.4340\n",
      "LBFGS:    2 04:16:25      -25.208381*       0.0015\n",
      "E_bulk -25.208 eV\n"
     ]
    }
   ],
   "source": [
    "atoms_bulk.calc = calculator\n",
    "atoms_bulk_strain = ExpCellFilter(atoms_bulk)\n",
    "opt = LBFGS(atoms_bulk_strain)\n",
    "opt.run()\n",
    "E_bulk = atoms_bulk.get_total_energy()\n",
    "\n",
    "print(f\"E_bulk {E_bulk:.3f} eV\")"
   ]
  },
  {
   "cell_type": "markdown",
   "id": "30343bf4-ee13-45f6-aff3-f5a6fadc5609",
   "metadata": {},
   "source": [
    "次に孤立系のエネルギーはGa とAsを別々に求める必要あります。"
   ]
  },
  {
   "cell_type": "code",
   "execution_count": 14,
   "id": "3565f46a-80af-456a-ae80-257714847d4c",
   "metadata": {},
   "outputs": [
    {
     "name": "stdout",
     "output_type": "stream",
     "text": [
      "E_ga -0.04 eV, E_as -0.00 eV\n"
     ]
    }
   ],
   "source": [
    "atoms_ga = Atoms(\"Ga\")\n",
    "atoms_ga.calc = calculator\n",
    "E_ga = atoms_ga.get_total_energy()\n",
    "atoms_as = Atoms(\"As\")\n",
    "atoms_as.calc = calculator\n",
    "E_as = atoms_as.get_total_energy()\n",
    "\n",
    "print(f\"E_ga {E_ga:.2f} eV, E_as {E_as:.2f} eV\")"
   ]
  },
  {
   "cell_type": "code",
   "execution_count": 15,
   "id": "1510fa5b-6314-4207-80de-c0b047a0c40f",
   "metadata": {},
   "outputs": [
    {
     "name": "stdout",
     "output_type": "stream",
     "text": [
      "E_coh -6.26 eV/atom\n"
     ]
    }
   ],
   "source": [
    "E_iso = E_ga + E_as\n",
    "E_coh = E_bulk / len(atoms_bulk) * 2.0 - E_iso\n",
    "print(f\"E_coh {E_coh:.2f} eV/atom\")"
   ]
  },
  {
   "cell_type": "markdown",
   "id": "2bafa2c9-cc46-4609-8a6c-422538b4e89f",
   "metadata": {},
   "source": [
    "GaAs 1ペアあたりの凝集エネルギーを計算するために、E_solidは2原子分の値を計算し、E_isoはGaとAsのエネルギーを足しています。<br/>\n",
    "上記得られた値を実験値と比較してみると、5%程度の誤差で得られているようです。"
   ]
  },
  {
   "cell_type": "markdown",
   "id": "bbd47e9d-fd4d-4c6f-84fe-0e3bcdf48d3b",
   "metadata": {},
   "source": [
    "## 空孔生成エネルギー - Vacancy formation energy\n",
    "\n",
    "結晶に欠陥がある系のエネルギーとして、空孔生成エネルギーは以下のように定義されます。\n",
    "\n",
    "$$E_{\\rm{V}} = E_{\\rm{defect}} - E_{\\rm{bulk}} * N_{\\rm{defect}} / N_{\\rm{bulk}}$$\n",
    "\n",
    "ここで、欠陥がある系の原子数を$N_{\\rm{defect}}$, エネルギーを$E_{\\rm{defect}}$、結晶系の原子数を$N_{\\rm{bulk}}$, エネルギーを$E_{\\rm{bulk}}$としています。\n",
    "\n",
    "\n",
    "実例で、Al結晶における空孔生成エネルギーを計算してみましょう。\n",
    "\n",
    "原子空孔がある系を作る際は、理想的には無限につづく結晶から原子を１つ取り除くのですが、実際には無限に大きい結晶は計算できないので十分に大きいサイズの結晶を作り、そこから原子を抜く形で欠陥構造を生成します。\n",
    "\n",
    "以下では `size=(5, 5, 5)` のように、Unit cellを繰り返して大きくした **スーパーセル** を作成し、そこから原子を１つ取り除くことで欠陥構造を作成しています。<br/>\n",
    "欠陥構造は、とても大きな結晶に対して、ごく一部のみで欠陥が発生している場合を想定する(欠陥が疎な構造)ため、\n",
    "スーパーセルのサイズは大きくしたほうがより適切なモデリングとなりますが、一方で大きくしすぎると計算時間がかかってしまうため、適切な大きさを選択する必要があります。\n",
    "\n",
    "欠陥構造作成後は、欠陥の影響によりエネルギーが極小になる構造は結晶配置からは少し変わると考えられるため、再度構造最適化を行います。<br/>\n",
    "ただし、結晶に対して欠陥が1つある程度では格子定数は変わらないと考えられるため、欠陥構造を作成する際は構造最適化された結晶構造の格子定数から変わらないようにします。"
   ]
  },
  {
   "cell_type": "code",
   "execution_count": 16,
   "id": "bb9b87eb-0fef-40b9-9419-969152f88372",
   "metadata": {},
   "outputs": [
    {
     "name": "stdout",
     "output_type": "stream",
     "text": [
      "       Step     Time          Energy         fmax\n",
      "*Force-consistent energies used in optimization.\n",
      "LBFGS:    0 04:16:29     -427.740170*       9.4383\n",
      "LBFGS:    1 04:16:29     -305.556681*     743.9694\n",
      "LBFGS:    2 04:16:29     -427.774535*       4.0689\n",
      "LBFGS:    3 04:16:29     -427.780811*       1.7516\n",
      "LBFGS:    4 04:16:29     -427.782296*       0.0252\n",
      "       Step     Time          Energy         fmax\n",
      "*Force-consistent energies used in optimization.\n",
      "LBFGS:    0 04:16:29     -423.673270*       0.1566\n",
      "LBFGS:    1 04:16:29     -423.677861*       0.1454\n",
      "LBFGS:    2 04:16:29     -423.709954*       0.0330\n"
     ]
    }
   ],
   "source": [
    "symbol = \"Al\"\n",
    "size = (5, 5, 5)\n",
    "\n",
    "atoms_bulk = bulk(symbol) * size\n",
    "\n",
    "atoms_bulk.calc = calculator\n",
    "atoms_bulk_strain = ExpCellFilter(atoms_bulk)\n",
    "opt = LBFGS(atoms_bulk_strain)\n",
    "opt.run()\n",
    "E_bulk = atoms_bulk.get_total_energy()\n",
    "\n",
    "atoms_defect = atoms_bulk.copy()\n",
    "# Create defect by removing 0-th atom\n",
    "del atoms_defect[0]\n",
    "\n",
    "atoms_defect.calc = calculator\n",
    "opt = LBFGS(atoms_defect)\n",
    "opt.run()\n",
    "E_defect = atoms_defect.get_total_energy()\n",
    "E_v = E_defect - E_bulk * len(atoms_defect) / len(atoms_bulk)"
   ]
  },
  {
   "cell_type": "markdown",
   "id": "1f835914-4571-4bde-9e9e-28eaaef6b146",
   "metadata": {},
   "source": [
    "結果として、以下のように空孔生成エネルギーが得られます。"
   ]
  },
  {
   "cell_type": "code",
   "execution_count": 17,
   "id": "011d1aeb-7fda-4883-911f-f4a194f8235b",
   "metadata": {},
   "outputs": [
    {
     "name": "stdout",
     "output_type": "stream",
     "text": [
      "E_bulk  : -427.78 eV\n",
      "E_defect: -423.71 eV\n",
      "E_v     : 0.65 eV\n"
     ]
    }
   ],
   "source": [
    "E_v = E_defect - E_bulk * len(atoms_defect) / len(atoms_bulk)\n",
    "print(f\"E_bulk  : {E_bulk:.2f} eV\")\n",
    "print(f\"E_defect: {E_defect:.2f} eV\")\n",
    "print(f\"E_v     : {E_v:.2f} eV\")"
   ]
  },
  {
   "cell_type": "code",
   "execution_count": 18,
   "id": "0c6962f4-03fe-41c3-90c9-603322cef1d0",
   "metadata": {},
   "outputs": [
    {
     "data": {
      "application/vnd.jupyter.widget-view+json": {
       "model_id": "7cfc771809484fd9b600588202ed17a3",
       "version_major": 2,
       "version_minor": 0
      },
      "text/plain": [
       "HBox(children=(NGLWidget(max_frame=1), VBox(children=(Dropdown(description='Show', options=('All', 'Al'), valu…"
      ]
     },
     "metadata": {},
     "output_type": "display_data"
    }
   ],
   "source": [
    "view_ngl([atoms_defect, atoms_bulk], replace_structure=True)"
   ]
  },
  {
   "cell_type": "markdown",
   "id": "c3bb0bc9-4317-449e-a265-c3c58eca7ed9",
   "metadata": {},
   "source": [
    "この計算を様々な元素、スーパーセルサイズで行えるようにしてみましょう。"
   ]
  },
  {
   "cell_type": "code",
   "execution_count": 19,
   "id": "dc276fc0-53ca-4c24-be3c-6c04d32363fa",
   "metadata": {},
   "outputs": [],
   "source": [
    "def calc_vacancy_energy(symbol: str, calculator, size=(5, 5, 5)):\n",
    "\n",
    "    atoms_bulk = bulk(symbol) * size\n",
    "\n",
    "    atoms_bulk.calc = calculator\n",
    "    atoms_bulk_strain = ExpCellFilter(atoms_bulk)\n",
    "    opt = LBFGS(atoms_bulk_strain, logfile=None)\n",
    "    opt.run()\n",
    "    E_bulk = atoms_bulk.get_total_energy()\n",
    "\n",
    "    atoms_defect = atoms_bulk.copy()\n",
    "    # Create defect by removing 0-th atom\n",
    "    del atoms_defect[0]\n",
    "\n",
    "    atoms_defect.calc = calculator\n",
    "    opt = LBFGS(atoms_defect, logfile=None)\n",
    "    opt.run()\n",
    "    E_defect = atoms_defect.get_total_energy()\n",
    "    E_v = E_defect - E_bulk * len(atoms_defect) / len(atoms_bulk)\n",
    "    return E_bulk, E_defect, E_v"
   ]
  },
  {
   "cell_type": "code",
   "execution_count": 20,
   "id": "bb3161a0-e151-4a2c-a4d3-cff199c3fa64",
   "metadata": {},
   "outputs": [
    {
     "name": "stdout",
     "output_type": "stream",
     "text": [
      "Al E_v = 0.65 eV\n",
      "Cu E_v = 1.13 eV\n",
      "Mo E_v = 2.91 eV\n",
      "Ta E_v = 2.92 eV\n",
      "Si E_v = 2.95 eV\n"
     ]
    }
   ],
   "source": [
    "for symbol in [\"Al\", \"Cu\", \"Mo\", \"Ta\", \"Si\"]:\n",
    "    E_bulk, E_defect, E_v = calc_vacancy_energy(symbol=symbol, calculator=calculator)\n",
    "    print(f\"{symbol} E_v = {E_v:.2f} eV\")"
   ]
  },
  {
   "cell_type": "markdown",
   "id": "6f7eb9cc-a82b-408a-a375-39954e733783",
   "metadata": {},
   "source": [
    "参考文献\n",
    "\n",
    " - Vacancy Formation Energy: http://micro.stanford.edu/mediawiki/images/2/29/VFE.pdf\n",
    "\n",
    "こちらには、古典力場で計算した空孔形成エネルギーが掲載されています。Potentialが異なるため、比較はできませんが、参考程度に見比べてみると概ね似た傾向となっていることがわかります。"
   ]
  },
  {
   "cell_type": "markdown",
   "id": "35607a97-d0b8-462b-b01b-c0cf78c381f0",
   "metadata": {},
   "source": [
    "最後に、理解を深めるために、スーパーセルのサイズ依存性を調べてみましょう。"
   ]
  },
  {
   "cell_type": "code",
   "execution_count": 21,
   "id": "0df2c311-7128-4840-9411-f4b382cf95b4",
   "metadata": {},
   "outputs": [
    {
     "name": "stdout",
     "output_type": "stream",
     "text": [
      "Al i = 2, E_v = 0.71 eV\n",
      "Al i = 3, E_v = 0.63 eV\n",
      "Al i = 4, E_v = 0.66 eV\n",
      "Al i = 5, E_v = 0.65 eV\n",
      "Al i = 6, E_v = 0.65 eV\n",
      "Al i = 7, E_v = 0.65 eV\n"
     ]
    }
   ],
   "source": [
    "symbol = \"Al\"\n",
    "E_v_list = []\n",
    "for i in range(2, 8):\n",
    "    E_bulk, E_defect, E_v = calc_vacancy_energy(symbol=symbol, calculator=calculator, size=(i, i, i))\n",
    "    print(f\"{symbol} i = {i}, E_v = {E_v:.2f} eV\")\n",
    "    E_v_list.append(E_v)"
   ]
  },
  {
   "cell_type": "code",
   "execution_count": 22,
   "id": "9356d4ef-272e-4f0f-9985-1e9811fa479d",
   "metadata": {},
   "outputs": [
    {
     "data": {
      "image/png": "[encoded data removed]",
      "text/plain": [
       "<Figure size 432x288 with 1 Axes>"
      ]
     },
     "metadata": {
      "needs_background": "light"
     },
     "output_type": "display_data"
    }
   ],
   "source": [
    "plt.plot(range(2, 8), E_v_list)\n",
    "plt.title(\"E_v super cell size dependency\")\n",
    "plt.ylabel(\"eV\")\n",
    "plt.xlabel(\"super cell size\")\n",
    "plt.show()"
   ]
  },
  {
   "cell_type": "markdown",
   "id": "d4bc1a46-a842-4454-a7b5-f2783a7b7bb8",
   "metadata": {},
   "source": [
    "スーパーセルサイズが大きくなってくると正しい値に収束していきますが、スーパーセルサイズが小さすぎると間違った値が得られることがわかります。"
   ]
  }
 ],
 "metadata": {
  "kernelspec": {
   "display_name": "Python 3.7",
   "language": "python",
   "name": "python37"
  },
  "language_info": {
   "codemirror_mode": {
    "name": "ipython",
    "version": 3
   },
   "file_extension": ".py",
   "mimetype": "text/x-python",
   "name": "python",
   "nbconvert_exporter": "python",
   "pygments_lexer": "ipython3",
   "version": "3.7.13"
  },
  "widgets": {
   "application/vnd.jupyter.widget-state+json": {
    "state": {
     "016fb8950e3c4eac88c23d2f9627ebb0": {
      "model_module": "@jupyter-widgets/controls",
      "model_module_version": "1.5.0",
      "model_name": "IntSliderModel",
      "state": {
       "layout": "IPY_MODEL_ae6f2e2da85a47e88bfdea214efea2db",
       "max": 1,
       "style": "IPY_MODEL_5e27dbcce5bd47098872b2a096d85d8e"
      }
     },
     "01a2922b44104a5dbd44fbfe734178b8": {
      "model_module": "@jupyter-widgets/controls",
      "model_module_version": "1.5.0",
      "model_name": "CheckboxModel",
      "state": {
       "description": "Show charge",
       "disabled": false,
       "layout": "IPY_MODEL_30ae4c8eef6941c5a700cb60ad26f7da",
       "style": "IPY_MODEL_61706b67d8ac4fe18662f4198e31be9f",
       "value": false
      }
     },
     "01a48328fa6f45e1b8eab5745a6a2c18": {
      "model_module": "nglview-js-widgets",
      "model_module_version": "3.0.1",
      "model_name": "NGLModel",
      "state": {
       "_camera_orientation": [
        6.559511769008132,
        -0.026372802314017983,
        0.7904662278295521,
        0,
        -0.00528385517389396,
        6.601738242076106,
        0.26410470230876676,
        0,
        -0.7908884010500326,
        -0.26283776023472477,
        6.554245866510998,
        0,
        0,
        0,
        0,
        1
       ],
       "_camera_str": "orthographic",
       "_gui_theme": null,
       "_ibtn_fullscreen": "IPY_MODEL_36f5bfc8fa36494f8500bf8a30402778",
       "_igui": null,
       "_iplayer": "IPY_MODEL_4149853731394c9b8b0a9fc1fd043692",
       "_ngl_color_dict": {},
       "_ngl_coordinate_resource": {},
       "_ngl_full_stage_parameters": {
        "ambientColor": 14540253,
        "ambientIntensity": 0.2,
        "backgroundColor": "white",
        "cameraEyeSep": 0.3,
        "cameraFov": 40,
        "cameraType": "orthographic",
        "clipDist": 0,
        "clipFar": 100,
        "clipNear": 0,
        "fogFar": 100,
        "fogNear": 50,
        "hoverTimeout": 0,
        "impostor": true,
        "lightColor": 14540253,
        "lightIntensity": 1,
        "mousePreset": "default",
        "panSpeed": 1,
        "quality": "medium",
        "rotateSpeed": 2,
        "sampleLevel": 0,
        "tooltip": true,
        "workerDefault": true,
        "zoomSpeed": 1.2
       },
       "_ngl_msg_archive": [
        {
         "args": [
          {
           "binary": false,
           "data": "MODEL     1\nATOM      1   Au MOL     1       0.000   0.000   0.000  1.00  0.00          AU  \nENDMDL\n",
           "type": "blob"
          }
         ],
         "kwargs": {
          "defaultRepresentation": false,
          "ext": "pdb"
         },
         "methodName": "loadFile",
         "reconstruc_color_scheme": false,
         "target": "Stage",
         "type": "call_method"
        },
        {
         "args": [
          "500px",
          "500px"
         ],
         "kwargs": {},
         "methodName": "setSize",
         "reconstruc_color_scheme": false,
         "target": "Widget",
         "type": "call_method"
        },
        {
         "args": [
          "unitcell"
         ],
         "component_index": 0,
         "kwargs": {
          "sele": "all"
         },
         "methodName": "addRepresentation",
         "reconstruc_color_scheme": false,
         "target": "compList",
         "type": "call_method"
        },
        {
         "args": [
          "spacefill"
         ],
         "component_index": 0,
         "kwargs": {
          "sele": "all"
         },
         "methodName": "addRepresentation",
         "reconstruc_color_scheme": false,
         "target": "compList",
         "type": "call_method"
        },
        {
         "args": [],
         "kwargs": {
          "cameraType": "orthographic"
         },
         "methodName": "setParameters",
         "reconstruc_color_scheme": false,
         "target": "Stage",
         "type": "call_method"
        },
        {
         "args": [
          {
           "clipDist": 0
          }
         ],
         "kwargs": {},
         "methodName": "setParameters",
         "reconstruc_color_scheme": false,
         "target": "Widget",
         "type": "call_method"
        },
        {
         "args": [
          "spacefill",
          0
         ],
         "kwargs": {
          "colorScale": "rainbow",
          "colorScheme": "element",
          "radiusScale": 0.5,
          "radiusType": "covalent"
         },
         "methodName": "updateRepresentationsByName",
         "reconstruc_color_scheme": false,
         "target": "Widget",
         "type": "call_method"
        },
        {
         "args": [
          "this._Q = [[1.0, 0.0, 0.0], [0.0, 1.0, 0.0], [0.0, 0.0, 1.0]]\n    var tooltip = document.createElement('div')\n    Object.assign(tooltip.style, {\n      display: 'none',\n      position: 'fixed',\n      zIndex: 10,\n      pointerEvents: 'none',\n      backgroundColor: 'rgba( 0, 0, 0, 0.6 )',\n      color: 'lightgrey',\n      padding: '8px',\n      fontFamily: 'sans-serif'\n    })\n    document.body.appendChild(tooltip)\n\n    var that = this\n    this.stage.mouseControls.remove('hoverPick')\n    this.stage.signals.hovered.add(function (pickingProxy) {\n      if (pickingProxy && (pickingProxy.atom || pickingProxy.bond)) {\n        var atom = pickingProxy.atom || pickingProxy.closestBondAtom\n        var mp = pickingProxy.mouse.position\n        //tooltip.innerText = atom.element + ' i=' + atom.index + ' (' + atom.x.toFixed(2) +  ', ' + atom.y.toFixed(2) +  ', ' + atom.z.toFixed(2) + ')'\n        //var pos = that._atoms_pos[atom.index]\n        var Q = that._Q\n        var pos_x = Q[0][0] * atom.x + Q[0][1] * atom.y + Q[0][2] * atom.z \n        var pos_y = Q[1][0] * atom.x + Q[1][1] * atom.y + Q[1][2] * atom.z\n        var pos_z = Q[2][0] * atom.x + Q[2][1] * atom.y + Q[2][2] * atom.z\n        tooltip.innerText = 'i=' + atom.index + ' ' + atom.element + ' (' + pos_x.toFixed(2) +  ', ' + pos_y.toFixed(2) +  ', ' + pos_z.toFixed(2) + ')'\n        tooltip.style.bottom = window.innerHeight - mp.y + 3 + 'px'\n        tooltip.style.left = mp.x + 3 + 'px'\n        tooltip.style.display = 'block'\n      } else {\n        tooltip.style.display = 'none'\n      }\n    })\n    "
         ],
         "kwargs": {},
         "methodName": "executeCode",
         "reconstruc_color_scheme": false,
         "target": "Widget",
         "type": "call_method"
        },
        {
         "args": [
          {
           "data": "CRYST1    2.949    2.949    2.949  60.00  60.00  60.00 P 1\nMODEL     1\nATOM      1   Au MOL     1       0.000   0.000   0.000  1.00  0.00          AU  \nENDMDL\n",
           "ext": "pdb"
          }
         ],
         "kwargs": {},
         "methodName": "replaceStructure",
         "reconstruc_color_scheme": false,
         "target": "Widget",
         "type": "call_method"
        },
        {
         "args": [
          "this._Q = [[-1.041187580597125e-09, 0.7071067821284208, 0.7071067802446744], [0.8164965794827438, -0.40824829076392505, 0.408248293053766], [0.5773502712331398, 0.5773502678238956, -0.5773502685118421]]"
         ],
         "kwargs": {},
         "methodName": "executeCode",
         "reconstruc_color_scheme": false,
         "target": "Widget",
         "type": "call_method"
        },
        {
         "args": [
          {
           "data": "MODEL     1\nATOM      1   Au MOL     1       0.000   0.000   0.000  1.00  0.00          AU  \nENDMDL\n",
           "ext": "pdb"
          }
         ],
         "kwargs": {},
         "methodName": "replaceStructure",
         "reconstruc_color_scheme": false,
         "target": "Widget",
         "type": "call_method"
        },
        {
         "args": [
          "this._Q = [[1.0, 0.0, 0.0], [0.0, 1.0, 0.0], [0.0, 0.0, 1.0]]"
         ],
         "kwargs": {},
         "methodName": "executeCode",
         "reconstruc_color_scheme": false,
         "target": "Widget",
         "type": "call_method"
        }
       ],
       "_ngl_original_stage_parameters": {
        "ambientColor": 14540253,
        "ambientIntensity": 0.2,
        "backgroundColor": "white",
        "cameraEyeSep": 0.3,
        "cameraFov": 40,
        "cameraType": "perspective",
        "clipDist": 10,
        "clipFar": 100,
        "clipNear": 0,
        "fogFar": 100,
        "fogNear": 50,
        "hoverTimeout": 0,
        "impostor": true,
        "lightColor": 14540253,
        "lightIntensity": 1,
        "mousePreset": "default",
        "panSpeed": 1,
        "quality": "medium",
        "rotateSpeed": 2,
        "sampleLevel": 0,
        "tooltip": true,
        "workerDefault": true,
        "zoomSpeed": 1.2
       },
       "_ngl_repr_dict": {
        "0": {
         "0": {
          "params": {
           "clipCenter": {
            "x": 0,
            "y": 0,
            "z": 0
           },
           "clipNear": 0,
           "clipRadius": 0,
           "colorMode": "hcl",
           "colorReverse": false,
           "colorScale": "",
           "colorScheme": "element",
           "colorValue": "orange",
           "defaultAssembly": "",
           "depthWrite": true,
           "diffuse": 16777215,
           "diffuseInterior": false,
           "disableImpostor": false,
           "disablePicking": false,
           "flatShaded": false,
           "interiorColor": 2236962,
           "interiorDarkening": 0,
           "lazy": false,
           "matrix": {
            "elements": [
             1,
             0,
             0,
             0,
             0,
             1,
             0,
             0,
             0,
             0,
             1,
             0,
             0,
             0,
             0,
             1
            ]
           },
           "metalness": 0,
           "opacity": 1,
           "quality": "medium",
           "radialSegments": 10,
           "radiusData": {},
           "radiusScale": 1,
           "radiusSize": 0.5,
           "radiusType": "vdw",
           "roughness": 0.4,
           "sele": "all",
           "side": "double",
           "sphereDetail": 1,
           "useInteriorColor": true,
           "visible": true,
           "wireframe": false
          },
          "type": "unitcell"
         },
         "1": {
          "params": {
           "assembly": "default",
           "clipCenter": {
            "x": 0,
            "y": 0,
            "z": 0
           },
           "clipNear": 0,
           "clipRadius": 0,
           "colorMode": "hcl",
           "colorReverse": false,
           "colorScale": "rainbow",
           "colorScheme": "element",
           "colorValue": 9474192,
           "defaultAssembly": "",
           "depthWrite": true,
           "diffuse": 16777215,
           "diffuseInterior": false,
           "disableImpostor": false,
           "disablePicking": false,
           "flatShaded": false,
           "interiorColor": 2236962,
           "interiorDarkening": 0,
           "lazy": false,
           "matrix": {
            "elements": [
             1,
             0,
             0,
             0,
             0,
             1,
             0,
             0,
             0,
             0,
             1,
             0,
             0,
             0,
             0,
             1
            ]
           },
           "metalness": 0,
           "opacity": 1,
           "quality": "medium",
           "radiusData": {},
           "radiusScale": 0.5,
           "radiusSize": 1,
           "radiusType": "covalent",
           "roughness": 0.4,
           "sele": "all",
           "side": "double",
           "sphereDetail": 1,
           "useInteriorColor": true,
           "visible": true,
           "wireframe": false
          },
          "type": "spacefill"
         }
        }
       },
       "_ngl_serialize": false,
       "_ngl_version": "2.0.0-dev.36",
       "_ngl_view_id": [
        "C8DB6E1F-6930-46C1-80F1-841E001B0C98"
       ],
       "_player_dict": {},
       "_scene_position": {},
       "_scene_rotation": {},
       "_synced_model_ids": [],
       "_synced_repr_model_ids": [],
       "_view_height": "",
       "_view_width": "",
       "background": "white",
       "frame": 0,
       "gui_style": null,
       "layout": "IPY_MODEL_2e78605c12c44b20b306a62975715cf7",
       "max_frame": 1,
       "n_components": 1,
       "picked": {}
      }
     },
     "0249b51692be46deb8e420d8943e2b09": {
      "model_module": "@jupyter-widgets/controls",
      "model_module_version": "1.5.0",
      "model_name": "FloatSliderModel",
      "state": {
       "description": "Charge scale",
       "layout": "IPY_MODEL_31b6ff133ecb401d8900f7e64c24e5e8",
       "step": 0.1,
       "style": "IPY_MODEL_24828fc15b54484d8a3062324fd23de1",
       "value": 1
      }
     },
     "0361a3bae8314f36b2abd38113831cb3": {
      "model_module": "@jupyter-widgets/base",
      "model_module_version": "1.2.0",
      "model_name": "LayoutModel",
      "state": {}
     },
     "068e546937c042a5a023b033190e6d26": {
      "model_module": "@jupyter-widgets/controls",
      "model_module_version": "1.5.0",
      "model_name": "CheckboxModel",
      "state": {
       "description": "Show force",
       "disabled": false,
       "layout": "IPY_MODEL_40d42c9069264a5294a8bf4a15c1a9c0",
       "style": "IPY_MODEL_1f616212b30f408e84f06db417a10573",
       "value": false
      }
     },
     "06dc723338bb4ad290a05594d8fa50ed": {
      "model_module": "@jupyter-widgets/base",
      "model_module_version": "1.2.0",
      "model_name": "LayoutModel",
      "state": {}
     },
     "09429c27ed014ed89440c7142efbbc35": {
      "model_module": "@jupyter-widgets/controls",
      "model_module_version": "1.5.0",
      "model_name": "ButtonModel",
      "state": {
       "description": "Save image",
       "layout": "IPY_MODEL_c63a6928197d48968a313bf2332f341d",
       "style": "IPY_MODEL_e8169d6327df4c029ef4616ee6ab116f",
       "tooltip": "Save current frame to file.\nCurrently .png and .html are supported.\nIt takes a bit time, please be patient."
      }
     },
     "0a28396243c54443802c7693554f11ee": {
      "model_module": "@jupyter-widgets/controls",
      "model_module_version": "1.5.0",
      "model_name": "CheckboxModel",
      "state": {
       "description": "Show charge",
       "disabled": false,
       "layout": "IPY_MODEL_9243d2ea8ef140938274379b17a8e16b",
       "style": "IPY_MODEL_85c6b2caf9d24f0a914df0530c69f545",
       "value": false
      }
     },
     "0a6a3e12cc224f8d8ba7655a8d148876": {
      "model_module": "@jupyter-widgets/controls",
      "model_module_version": "1.5.0",
      "model_name": "HBoxModel",
      "state": {
       "children": [
        "IPY_MODEL_bd655adf94c44284abed54575bed32ce",
        "IPY_MODEL_f852da755a0f42f6a1eeb9a705900821"
       ],
       "layout": "IPY_MODEL_bc25fc0249ce41c8b498f98854b280d9"
      }
     },
     "0d348267742841818b548648ce6d5223": {
      "model_module": "@jupyter-widgets/base",
      "model_module_version": "1.2.0",
      "model_name": "LayoutModel",
      "state": {
       "border": "0px solid black"
      }
     },
     "0dba5d6451c445f898cce171da3573b5": {
      "model_module": "@jupyter-widgets/base",
      "model_module_version": "1.2.0",
      "model_name": "LayoutModel",
      "state": {}
     },
     "11f8588258d14d9bb30bbb8508105f9a": {
      "model_module": "@jupyter-widgets/controls",
      "model_module_version": "1.5.0",
      "model_name": "ButtonStyleModel",
      "state": {}
     },
     "1399b3c03e1740eb8debd9ca8fbc14e6": {
      "model_module": "@jupyter-widgets/controls",
      "model_module_version": "1.5.0",
      "model_name": "SliderStyleModel",
      "state": {
       "description_width": ""
      }
     },
     "14fd242d754d49b1b2249b1f658d4033": {
      "model_module": "@jupyter-widgets/controls",
      "model_module_version": "1.5.0",
      "model_name": "DescriptionStyleModel",
      "state": {
       "description_width": ""
      }
     },
     "150cf54ac5bd4762a69b9ba7412c34b4": {
      "model_module": "@jupyter-widgets/controls",
      "model_module_version": "1.5.0",
      "model_name": "FloatSliderModel",
      "state": {
       "description": "Ball size",
       "layout": "IPY_MODEL_293c1f1f91404adc92863ff53b8ad8cb",
       "max": 1.5,
       "step": 0.01,
       "style": "IPY_MODEL_5074a1fc9b4440e6a9bf853f0ac1ba1f",
       "value": 0.5
      }
     },
     "179c6980e53c44a28ff1a0fd0434e80c": {
      "model_module": "@jupyter-widgets/controls",
      "model_module_version": "1.5.0",
      "model_name": "TextModel",
      "state": {
       "description": "Filename: ",
       "layout": "IPY_MODEL_837fed4b7f4c4cb1a6c3b57a891bf6d7",
       "style": "IPY_MODEL_14fd242d754d49b1b2249b1f658d4033",
       "value": "screenshot.png"
      }
     },
     "18263e1ff72c4d689c5946022aff7ec9": {
      "model_module": "@jupyter-widgets/controls",
      "model_module_version": "1.5.0",
      "model_name": "LinkModel",
      "state": {
       "source": [
        "IPY_MODEL_016fb8950e3c4eac88c23d2f9627ebb0",
        "max"
       ],
       "target": [
        "IPY_MODEL_dbd4bfc705ea49d2885f9c1291d5a1c3",
        "max_frame"
       ]
      }
     },
     "1e85d44771f9484c9863ffd05793f87e": {
      "model_module": "@jupyter-widgets/controls",
      "model_module_version": "1.5.0",
      "model_name": "DropdownModel",
      "state": {
       "_options_labels": [
        "All",
        "Ga",
        "As"
       ],
       "description": "Show",
       "index": 0,
       "layout": "IPY_MODEL_30b69b704da947df8d1f28bda6345522",
       "style": "IPY_MODEL_49fdfcd22d47432ebc1024a514e4c96a"
      }
     },
     "1f13c1d170104720a01e27ab0e5fab35": {
      "model_module": "@jupyter-widgets/base",
      "model_module_version": "1.2.0",
      "model_name": "LayoutModel",
      "state": {}
     },
     "1f616212b30f408e84f06db417a10573": {
      "model_module": "@jupyter-widgets/controls",
      "model_module_version": "1.5.0",
      "model_name": "DescriptionStyleModel",
      "state": {
       "description_width": ""
      }
     },
     "2118cf11366b481f936b989c1019a2e0": {
      "model_module": "@jupyter-widgets/controls",
      "model_module_version": "1.5.0",
      "model_name": "ButtonModel",
      "state": {
       "icon": "compress",
       "layout": "IPY_MODEL_6e6559acb762477cb694f057af093ae0",
       "style": "IPY_MODEL_4af242791def4b09b44d34dc63b7b297"
      }
     },
     "223d0faade004f8e8cdb2ef5768f4ad4": {
      "model_module": "@jupyter-widgets/controls",
      "model_module_version": "1.5.0",
      "model_name": "TextModel",
      "state": {
       "description": "Filename: ",
       "layout": "IPY_MODEL_5661abf049784647a9f567f52b5dfcc9",
       "style": "IPY_MODEL_c4b88e73cb2d4bf2b25423bc02bbdcc9",
       "value": "screenshot.png"
      }
     },
     "24828fc15b54484d8a3062324fd23de1": {
      "model_module": "@jupyter-widgets/controls",
      "model_module_version": "1.5.0",
      "model_name": "SliderStyleModel",
      "state": {
       "description_width": ""
      }
     },
     "2538e0b94eb34803985e998b6051ccf3": {
      "model_module": "@jupyter-widgets/controls",
      "model_module_version": "1.5.0",
      "model_name": "SliderStyleModel",
      "state": {
       "description_width": ""
      }
     },
     "28eedea015914c93937b9b33caded84f": {
      "model_module": "@jupyter-widgets/controls",
      "model_module_version": "1.5.0",
      "model_name": "FloatSliderModel",
      "state": {
       "description": "Ball size",
       "layout": "IPY_MODEL_7cb277b7f8a24394b5463cfbd7f9fc5a",
       "max": 1.5,
       "step": 0.01,
       "style": "IPY_MODEL_2538e0b94eb34803985e998b6051ccf3",
       "value": 0.5
      }
     },
     "293c1f1f91404adc92863ff53b8ad8cb": {
      "model_module": "@jupyter-widgets/base",
      "model_module_version": "1.2.0",
      "model_name": "LayoutModel",
      "state": {}
     },
     "2be6857b15ad4f78b8f6f0dfb2c0eba0": {
      "model_module": "@jupyter-widgets/controls",
      "model_module_version": "1.5.0",
      "model_name": "DescriptionStyleModel",
      "state": {
       "description_width": ""
      }
     },
     "2c0195700607451fb92640cd914a8af8": {
      "model_module": "@jupyter-widgets/base",
      "model_module_version": "1.2.0",
      "model_name": "LayoutModel",
      "state": {
       "width": "34px"
      }
     },
     "2cf3c74347ea405bbd046a00b7d82872": {
      "model_module": "@jupyter-widgets/base",
      "model_module_version": "1.2.0",
      "model_name": "LayoutModel",
      "state": {}
     },
     "2dd298586fa0426fa0990ee3691a5606": {
      "model_module": "@jupyter-widgets/controls",
      "model_module_version": "1.5.0",
      "model_name": "CheckboxModel",
      "state": {
       "description": "Show force",
       "disabled": false,
       "layout": "IPY_MODEL_4e7c5eac2ce240b0a4211659f569c6c0",
       "style": "IPY_MODEL_2be6857b15ad4f78b8f6f0dfb2c0eba0",
       "value": false
      }
     },
     "2e78605c12c44b20b306a62975715cf7": {
      "model_module": "@jupyter-widgets/base",
      "model_module_version": "1.2.0",
      "model_name": "LayoutModel",
      "state": {}
     },
     "3035d8832bf84bf1aa98a9db973bed60": {
      "model_module": "@jupyter-widgets/base",
      "model_module_version": "1.2.0",
      "model_name": "LayoutModel",
      "state": {}
     },
     "3094b520b9d54bd9a27d1a1e809b702a": {
      "model_module": "@jupyter-widgets/controls",
      "model_module_version": "1.5.0",
      "model_name": "LinkModel",
      "state": {
       "source": [
        "IPY_MODEL_bd655adf94c44284abed54575bed32ce",
        "value"
       ],
       "target": [
        "IPY_MODEL_c8d1867b5e724c7fb5eba5c64f35eced",
        "frame"
       ]
      }
     },
     "30ae4c8eef6941c5a700cb60ad26f7da": {
      "model_module": "@jupyter-widgets/base",
      "model_module_version": "1.2.0",
      "model_name": "LayoutModel",
      "state": {}
     },
     "30b69b704da947df8d1f28bda6345522": {
      "model_module": "@jupyter-widgets/base",
      "model_module_version": "1.2.0",
      "model_name": "LayoutModel",
      "state": {}
     },
     "31b6ff133ecb401d8900f7e64c24e5e8": {
      "model_module": "@jupyter-widgets/base",
      "model_module_version": "1.2.0",
      "model_name": "LayoutModel",
      "state": {}
     },
     "32977c88417e49d7ade5b697e26b90e1": {
      "model_module": "@jupyter-widgets/controls",
      "model_module_version": "1.5.0",
      "model_name": "LinkModel",
      "state": {
       "source": [
        "IPY_MODEL_49c9634092b54f32ad5652ff55ead629",
        "value"
       ],
       "target": [
        "IPY_MODEL_016fb8950e3c4eac88c23d2f9627ebb0",
        "value"
       ]
      }
     },
     "329a34ed75794dfba18ac3f258ecac1d": {
      "model_module": "@jupyter-widgets/base",
      "model_module_version": "1.2.0",
      "model_name": "LayoutModel",
      "state": {}
     },
     "32db4c9b9fc3446fb7962495fdce8482": {
      "model_module": "@jupyter-widgets/base",
      "model_module_version": "1.2.0",
      "model_name": "LayoutModel",
      "state": {}
     },
     "32f413153d9b4bfaba330076e2ed7934": {
      "model_module": "@jupyter-widgets/controls",
      "model_module_version": "1.5.0",
      "model_name": "DropdownModel",
      "state": {
       "_options_labels": [
        "All",
        "Al"
       ],
       "description": "Show",
       "index": 0,
       "layout": "IPY_MODEL_ac821e9f2d814201b0df9548a326ead1",
       "style": "IPY_MODEL_515cf228887f4a12b7ea2bba5a832698"
      }
     },
     "352839b35f60483faf64e6aaf28ab9c4": {
      "model_module": "@jupyter-widgets/base",
      "model_module_version": "1.2.0",
      "model_name": "LayoutModel",
      "state": {}
     },
     "3570ecb1bff448cc832e312fdda1ca15": {
      "model_module": "@jupyter-widgets/controls",
      "model_module_version": "1.5.0",
      "model_name": "LinkModel",
      "state": {
       "source": [
        "IPY_MODEL_df89ab902af64c15adaa1b186935c6a5",
        "value"
       ],
       "target": [
        "IPY_MODEL_fc36222b78534a119cdd83e51b83a72f",
        "value"
       ]
      }
     },
     "36688803176d48f9a5d580c255260c69": {
      "model_module": "@jupyter-widgets/controls",
      "model_module_version": "1.5.0",
      "model_name": "LinkModel",
      "state": {
       "source": [
        "IPY_MODEL_49c9634092b54f32ad5652ff55ead629",
        "max"
       ],
       "target": [
        "IPY_MODEL_dbd4bfc705ea49d2885f9c1291d5a1c3",
        "max_frame"
       ]
      }
     },
     "36f5bfc8fa36494f8500bf8a30402778": {
      "model_module": "@jupyter-widgets/controls",
      "model_module_version": "1.5.0",
      "model_name": "ButtonModel",
      "state": {
       "icon": "compress",
       "layout": "IPY_MODEL_2c0195700607451fb92640cd914a8af8",
       "style": "IPY_MODEL_7823475c51d24933bff9b451e03418e4"
      }
     },
     "37787d3a217c4be08d1c151455c73344": {
      "model_module": "@jupyter-widgets/controls",
      "model_module_version": "1.5.0",
      "model_name": "DropdownModel",
      "state": {
       "_options_labels": [
        " ",
        "picking",
        "random",
        "uniform",
        "atomindex",
        "residueindex",
        "chainindex",
        "modelindex",
        "sstruc",
        "element",
        "resname",
        "bfactor",
        "hydrophobicity",
        "value",
        "volume",
        "occupancy"
       ],
       "description": "Color scheme",
       "index": 9,
       "layout": "IPY_MODEL_9481ba75e9d84e638ba2069c4663d6e9",
       "style": "IPY_MODEL_cf939109882e42ad8718c7a382e115af"
      }
     },
     "38e569b9427243d5991debe932653d90": {
      "model_module": "@jupyter-widgets/controls",
      "model_module_version": "1.5.0",
      "model_name": "ButtonModel",
      "state": {
       "description": "Download image",
       "layout": "IPY_MODEL_1f13c1d170104720a01e27ab0e5fab35",
       "style": "IPY_MODEL_ce11e1824bca4098b51aa7442962e9f4",
       "tooltip": "Download current frame to your local PC"
      }
     },
     "39c8920de7734afeb46802d153713313": {
      "model_module": "@jupyter-widgets/controls",
      "model_module_version": "1.5.0",
      "model_name": "DropdownModel",
      "state": {
       "_options_labels": [
        "All",
        "Au"
       ],
       "description": "Show",
       "index": 0,
       "layout": "IPY_MODEL_ba74cf70f2d3496988ecc5ce0a4576da",
       "style": "IPY_MODEL_bac7182da1b44de0bc908f35c7915b0b"
      }
     },
     "3bc33d109442487681f4d1523f4b561b": {
      "model_module": "@jupyter-widgets/controls",
      "model_module_version": "1.5.0",
      "model_name": "VBoxModel",
      "state": {
       "children": [
        "IPY_MODEL_32f413153d9b4bfaba330076e2ed7934",
        "IPY_MODEL_d98f05e9598b426f9d1b66522f037139",
        "IPY_MODEL_150cf54ac5bd4762a69b9ba7412c34b4",
        "IPY_MODEL_bc79ed1cae96456d94defe97de26b78e",
        "IPY_MODEL_179c6980e53c44a28ff1a0fd0434e80c",
        "IPY_MODEL_baf0feb4a055475783da4606bdf4feb6",
        "IPY_MODEL_edf7f0528c8c4559b79ef597f73fc179",
        "IPY_MODEL_7a3130a9f589400cb08fa6a90fe83510",
        "IPY_MODEL_01a2922b44104a5dbd44fbfe734178b8",
        "IPY_MODEL_58622cb362b943379ee3fe22c0541a3d",
        "IPY_MODEL_8e67f016d5184e62b5e74bfd941b31a0"
       ],
       "layout": "IPY_MODEL_63950e9fa42343738e52054ad771a664"
      }
     },
     "404cbe6a48964dbe8b589fe8e1586967": {
      "model_module": "@jupyter-widgets/base",
      "model_module_version": "1.2.0",
      "model_name": "LayoutModel",
      "state": {}
     },
     "40909ea0aaaa42bfbb5c0ce198590ab8": {
      "model_module": "@jupyter-widgets/controls",
      "model_module_version": "1.5.0",
      "model_name": "LinkModel",
      "state": {
       "source": [
        "IPY_MODEL_f852da755a0f42f6a1eeb9a705900821",
        "max"
       ],
       "target": [
        "IPY_MODEL_c8d1867b5e724c7fb5eba5c64f35eced",
        "max_frame"
       ]
      }
     },
     "40d42c9069264a5294a8bf4a15c1a9c0": {
      "model_module": "@jupyter-widgets/base",
      "model_module_version": "1.2.0",
      "model_name": "LayoutModel",
      "state": {}
     },
     "4149853731394c9b8b0a9fc1fd043692": {
      "model_module": "@jupyter-widgets/controls",
      "model_module_version": "1.5.0",
      "model_name": "HBoxModel",
      "state": {
       "children": [
        "IPY_MODEL_df89ab902af64c15adaa1b186935c6a5",
        "IPY_MODEL_fc36222b78534a119cdd83e51b83a72f"
       ],
       "layout": "IPY_MODEL_b112fc9706ed443a8e986f141b801aea"
      }
     },
     "4215552af4b7437e9efb55220e79fd42": {
      "model_module": "@jupyter-widgets/controls",
      "model_module_version": "1.5.0",
      "model_name": "DescriptionStyleModel",
      "state": {
       "description_width": ""
      }
     },
     "4619e038b3ad43ea82e9e4dc4ab65659": {
      "model_module": "@jupyter-widgets/controls",
      "model_module_version": "1.5.0",
      "model_name": "FloatSliderModel",
      "state": {
       "description": "Charge scale",
       "layout": "IPY_MODEL_f18719358653429d99a97135d12591e6",
       "step": 0.1,
       "style": "IPY_MODEL_c895f9a876c046e587d4d1ff6b2af3b2",
       "value": 1
      }
     },
     "46ed673acfae4c44b68881624f28e2ea": {
      "model_module": "@jupyter-widgets/controls",
      "model_module_version": "1.5.0",
      "model_name": "DescriptionStyleModel",
      "state": {
       "description_width": ""
      }
     },
     "49c9634092b54f32ad5652ff55ead629": {
      "model_module": "@jupyter-widgets/controls",
      "model_module_version": "1.5.0",
      "model_name": "PlayModel",
      "state": {
       "layout": "IPY_MODEL_5f61aa6990ca420aa01ac248743e615a",
       "max": 1,
       "style": "IPY_MODEL_4215552af4b7437e9efb55220e79fd42"
      }
     },
     "49fdfcd22d47432ebc1024a514e4c96a": {
      "model_module": "@jupyter-widgets/controls",
      "model_module_version": "1.5.0",
      "model_name": "DescriptionStyleModel",
      "state": {
       "description_width": ""
      }
     },
     "4af242791def4b09b44d34dc63b7b297": {
      "model_module": "@jupyter-widgets/controls",
      "model_module_version": "1.5.0",
      "model_name": "ButtonStyleModel",
      "state": {}
     },
     "4b133339e7004fa9bdf6324540edb070": {
      "model_module": "@jupyter-widgets/base",
      "model_module_version": "1.2.0",
      "model_name": "LayoutModel",
      "state": {}
     },
     "4b7e366c844e4f79aa6e1be8c383218b": {
      "model_module": "@jupyter-widgets/controls",
      "model_module_version": "1.5.0",
      "model_name": "SliderStyleModel",
      "state": {
       "description_width": ""
      }
     },
     "4bff9fd455dc426ba86ec2c1c07d3c1b": {
      "model_module": "@jupyter-widgets/base",
      "model_module_version": "1.2.0",
      "model_name": "LayoutModel",
      "state": {}
     },
     "4d516462c2d045b3aef420b6dfde0344": {
      "model_module": "@jupyter-widgets/base",
      "model_module_version": "1.2.0",
      "model_name": "LayoutModel",
      "state": {}
     },
     "4e7c5eac2ce240b0a4211659f569c6c0": {
      "model_module": "@jupyter-widgets/base",
      "model_module_version": "1.2.0",
      "model_name": "LayoutModel",
      "state": {}
     },
     "4fd505a4804740a9bb48f58a4ef668cc": {
      "model_module": "@jupyter-widgets/base",
      "model_module_version": "1.2.0",
      "model_name": "LayoutModel",
      "state": {}
     },
     "5074a1fc9b4440e6a9bf853f0ac1ba1f": {
      "model_module": "@jupyter-widgets/controls",
      "model_module_version": "1.5.0",
      "model_name": "SliderStyleModel",
      "state": {
       "description_width": ""
      }
     },
     "515cf228887f4a12b7ea2bba5a832698": {
      "model_module": "@jupyter-widgets/controls",
      "model_module_version": "1.5.0",
      "model_name": "DescriptionStyleModel",
      "state": {
       "description_width": ""
      }
     },
     "527ae448702c4f4ab2a1695d0380582a": {
      "model_module": "@jupyter-widgets/controls",
      "model_module_version": "1.5.0",
      "model_name": "LinkModel",
      "state": {
       "source": [
        "IPY_MODEL_49c9634092b54f32ad5652ff55ead629",
        "value"
       ],
       "target": [
        "IPY_MODEL_dbd4bfc705ea49d2885f9c1291d5a1c3",
        "frame"
       ]
      }
     },
     "562f1026cf264682b40938dac4d86e6e": {
      "model_module": "@jupyter-widgets/controls",
      "model_module_version": "1.5.0",
      "model_name": "ButtonModel",
      "state": {
       "description": "Download image",
       "layout": "IPY_MODEL_8c43a0d13c2143a7a20658c693412a08",
       "style": "IPY_MODEL_959d3df6d5c545feae97231cd5ee0e7d",
       "tooltip": "Download current frame to your local PC"
      }
     },
     "5661abf049784647a9f567f52b5dfcc9": {
      "model_module": "@jupyter-widgets/base",
      "model_module_version": "1.2.0",
      "model_name": "LayoutModel",
      "state": {}
     },
     "58622cb362b943379ee3fe22c0541a3d": {
      "model_module": "@jupyter-widgets/controls",
      "model_module_version": "1.5.0",
      "model_name": "FloatSliderModel",
      "state": {
       "description": "Charge scale",
       "layout": "IPY_MODEL_352839b35f60483faf64e6aaf28ab9c4",
       "step": 0.1,
       "style": "IPY_MODEL_7c06fc8264b64d6aa430c3df5b3963f2",
       "value": 1
      }
     },
     "588697d38c794d5382ebbd7aee2468e5": {
      "model_module": "@jupyter-widgets/base",
      "model_module_version": "1.2.0",
      "model_name": "LayoutModel",
      "state": {}
     },
     "5bed4ad399a8497582717e8fd749516c": {
      "model_module": "@jupyter-widgets/controls",
      "model_module_version": "1.5.0",
      "model_name": "SliderStyleModel",
      "state": {
       "description_width": ""
      }
     },
     "5e27dbcce5bd47098872b2a096d85d8e": {
      "model_module": "@jupyter-widgets/controls",
      "model_module_version": "1.5.0",
      "model_name": "SliderStyleModel",
      "state": {
       "description_width": ""
      }
     },
     "5e44b4c3ae554fd2a4950e4f246ed7b1": {
      "model_module": "@jupyter-widgets/controls",
      "model_module_version": "1.5.0",
      "model_name": "HBoxModel",
      "state": {
       "children": [
        "IPY_MODEL_c8d1867b5e724c7fb5eba5c64f35eced",
        "IPY_MODEL_bc4f7705ae584ac8a199513a1c1a9ad4"
       ],
       "layout": "IPY_MODEL_0361a3bae8314f36b2abd38113831cb3"
      }
     },
     "5ef8abba161a40f9ba26e8c4dc8b35e0": {
      "model_module": "@jupyter-widgets/base",
      "model_module_version": "1.2.0",
      "model_name": "LayoutModel",
      "state": {}
     },
     "5f61aa6990ca420aa01ac248743e615a": {
      "model_module": "@jupyter-widgets/base",
      "model_module_version": "1.2.0",
      "model_name": "LayoutModel",
      "state": {}
     },
     "60620ee9f49643dfb7d4341dada40441": {
      "model_module": "@jupyter-widgets/base",
      "model_module_version": "1.2.0",
      "model_name": "LayoutModel",
      "state": {}
     },
     "61706b67d8ac4fe18662f4198e31be9f": {
      "model_module": "@jupyter-widgets/controls",
      "model_module_version": "1.5.0",
      "model_name": "DescriptionStyleModel",
      "state": {
       "description_width": ""
      }
     },
     "61a48a19723948c8a981b367291210db": {
      "model_module": "@jupyter-widgets/controls",
      "model_module_version": "1.5.0",
      "model_name": "LinkModel",
      "state": {
       "source": [
        "IPY_MODEL_df89ab902af64c15adaa1b186935c6a5",
        "max"
       ],
       "target": [
        "IPY_MODEL_01a48328fa6f45e1b8eab5745a6a2c18",
        "max_frame"
       ]
      }
     },
     "61f778a19af042f69c57b89796cb7486": {
      "model_module": "@jupyter-widgets/controls",
      "model_module_version": "1.5.0",
      "model_name": "HBoxModel",
      "state": {
       "children": [
        "IPY_MODEL_562f1026cf264682b40938dac4d86e6e",
        "IPY_MODEL_ff9b46d6b27d4777bd7e28aa0eee5164"
       ],
       "layout": "IPY_MODEL_0dba5d6451c445f898cce171da3573b5"
      }
     },
     "638f7cd3b22942c39368a7b8ad53acbb": {
      "model_module": "@jupyter-widgets/controls",
      "model_module_version": "1.5.0",
      "model_name": "VBoxModel",
      "state": {
       "children": [
        "IPY_MODEL_39c8920de7734afeb46802d153713313",
        "IPY_MODEL_37787d3a217c4be08d1c151455c73344",
        "IPY_MODEL_a4fc698b611549f4805347c3f7c88899",
        "IPY_MODEL_c1ba292e44aa4abc8807747cb55b781c",
        "IPY_MODEL_8349cadf5b8248c39e57a0f4834a0eeb",
        "IPY_MODEL_61f778a19af042f69c57b89796cb7486",
        "IPY_MODEL_2dd298586fa0426fa0990ee3691a5606",
        "IPY_MODEL_8a7cc6ec8ddf4598b0469d435e3bff73",
        "IPY_MODEL_0a28396243c54443802c7693554f11ee",
        "IPY_MODEL_0249b51692be46deb8e420d8943e2b09",
        "IPY_MODEL_d6f2e4d5f83f47a3813bb61fdbefb5b6"
       ],
       "layout": "IPY_MODEL_4d516462c2d045b3aef420b6dfde0344"
      }
     },
     "63950e9fa42343738e52054ad771a664": {
      "model_module": "@jupyter-widgets/base",
      "model_module_version": "1.2.0",
      "model_name": "LayoutModel",
      "state": {}
     },
     "6a829a2e30944841a7357b90da78a944": {
      "model_module": "@jupyter-widgets/base",
      "model_module_version": "1.2.0",
      "model_name": "LayoutModel",
      "state": {
       "border": "0px solid black"
      }
     },
     "6b792b2b9a054149add22bc16a52871a": {
      "model_module": "@jupyter-widgets/controls",
      "model_module_version": "1.5.0",
      "model_name": "DropdownModel",
      "state": {
       "_options_labels": [
        " ",
        "picking",
        "random",
        "uniform",
        "atomindex",
        "residueindex",
        "chainindex",
        "modelindex",
        "sstruc",
        "element",
        "resname",
        "bfactor",
        "hydrophobicity",
        "value",
        "volume",
        "occupancy"
       ],
       "description": "Color scheme",
       "index": 9,
       "layout": "IPY_MODEL_4bff9fd455dc426ba86ec2c1c07d3c1b",
       "style": "IPY_MODEL_46ed673acfae4c44b68881624f28e2ea"
      }
     },
     "6e6559acb762477cb694f057af093ae0": {
      "model_module": "@jupyter-widgets/base",
      "model_module_version": "1.2.0",
      "model_name": "LayoutModel",
      "state": {
       "width": "34px"
      }
     },
     "70f611feb0a5462aadf6a6518b896602": {
      "model_module": "@jupyter-widgets/controls",
      "model_module_version": "1.5.0",
      "model_name": "SliderStyleModel",
      "state": {
       "description_width": ""
      }
     },
     "71a60eb3ab7c4307bc349f168b7f9da5": {
      "model_module": "@jupyter-widgets/controls",
      "model_module_version": "1.5.0",
      "model_name": "HBoxModel",
      "state": {
       "children": [
        "IPY_MODEL_49c9634092b54f32ad5652ff55ead629",
        "IPY_MODEL_016fb8950e3c4eac88c23d2f9627ebb0"
       ],
       "layout": "IPY_MODEL_efa7d42b481949d1999076ef94c9a0ec"
      }
     },
     "723c35be71ff4ef2913ce222f2e900fb": {
      "model_module": "@jupyter-widgets/controls",
      "model_module_version": "1.5.0",
      "model_name": "HBoxModel",
      "state": {
       "children": [
        "IPY_MODEL_01a48328fa6f45e1b8eab5745a6a2c18",
        "IPY_MODEL_638f7cd3b22942c39368a7b8ad53acbb"
       ],
       "layout": "IPY_MODEL_915dd15cd4b74547af926f20b9b68c29"
      }
     },
     "74c2965a9a2b4d2da01f1cf49f07886a": {
      "model_module": "@jupyter-widgets/controls",
      "model_module_version": "1.5.0",
      "model_name": "ButtonModel",
      "state": {
       "description": "Save image",
       "layout": "IPY_MODEL_5ef8abba161a40f9ba26e8c4dc8b35e0",
       "style": "IPY_MODEL_9dd3178c24594e818e61025a74d8466d",
       "tooltip": "Save current frame to file.\nCurrently .png and .html are supported.\nIt takes a bit time, please be patient."
      }
     },
     "78140838cbb04778887592c554028e4d": {
      "model_module": "@jupyter-widgets/controls",
      "model_module_version": "1.5.0",
      "model_name": "DescriptionStyleModel",
      "state": {
       "description_width": ""
      }
     },
     "7823475c51d24933bff9b451e03418e4": {
      "model_module": "@jupyter-widgets/controls",
      "model_module_version": "1.5.0",
      "model_name": "ButtonStyleModel",
      "state": {}
     },
     "7993cd9d2d0f48aa9c3af33be777883d": {
      "model_module": "@jupyter-widgets/base",
      "model_module_version": "1.2.0",
      "model_name": "LayoutModel",
      "state": {}
     },
     "7a3130a9f589400cb08fa6a90fe83510": {
      "model_module": "@jupyter-widgets/controls",
      "model_module_version": "1.5.0",
      "model_name": "FloatSliderModel",
      "state": {
       "description": "Force scale",
       "layout": "IPY_MODEL_06dc723338bb4ad290a05594d8fa50ed",
       "step": 0.1,
       "style": "IPY_MODEL_70f611feb0a5462aadf6a6518b896602",
       "value": 0.5
      }
     },
     "7acecb3c9aa44de099aebd0b12342f50": {
      "model_module": "@jupyter-widgets/controls",
      "model_module_version": "1.5.0",
      "model_name": "ImageModel",
      "state": {
       "layout": "IPY_MODEL_3035d8832bf84bf1aa98a9db973bed60",
       "width": "900.0"
      }
     },
     "7bd809b04c3744c1acf1ce9580cc982a": {
      "model_module": "@jupyter-widgets/base",
      "model_module_version": "1.2.0",
      "model_name": "LayoutModel",
      "state": {}
     },
     "7bef9545dc554b7883d33fc333e2a807": {
      "model_module": "@jupyter-widgets/controls",
      "model_module_version": "1.5.0",
      "model_name": "LinkModel",
      "state": {
       "source": [
        "IPY_MODEL_fc36222b78534a119cdd83e51b83a72f",
        "max"
       ],
       "target": [
        "IPY_MODEL_01a48328fa6f45e1b8eab5745a6a2c18",
        "max_frame"
       ]
      }
     },
     "7c06fc8264b64d6aa430c3df5b3963f2": {
      "model_module": "@jupyter-widgets/controls",
      "model_module_version": "1.5.0",
      "model_name": "SliderStyleModel",
      "state": {
       "description_width": ""
      }
     },
     "7cb277b7f8a24394b5463cfbd7f9fc5a": {
      "model_module": "@jupyter-widgets/base",
      "model_module_version": "1.2.0",
      "model_name": "LayoutModel",
      "state": {}
     },
     "7cfc771809484fd9b600588202ed17a3": {
      "model_module": "@jupyter-widgets/controls",
      "model_module_version": "1.5.0",
      "model_name": "HBoxModel",
      "state": {
       "children": [
        "IPY_MODEL_dbd4bfc705ea49d2885f9c1291d5a1c3",
        "IPY_MODEL_3bc33d109442487681f4d1523f4b561b"
       ],
       "layout": "IPY_MODEL_8445f39302ed4b1a9d8a660009032de6"
      }
     },
     "7dabefeab0eb4cfa8818eb256131149d": {
      "model_module": "@jupyter-widgets/base",
      "model_module_version": "1.2.0",
      "model_name": "LayoutModel",
      "state": {
       "width": "34px"
      }
     },
     "7ee77d049df144a893ef77f3bce23cee": {
      "model_module": "@jupyter-widgets/base",
      "model_module_version": "1.2.0",
      "model_name": "LayoutModel",
      "state": {}
     },
     "8349cadf5b8248c39e57a0f4834a0eeb": {
      "model_module": "@jupyter-widgets/controls",
      "model_module_version": "1.5.0",
      "model_name": "TextModel",
      "state": {
       "description": "Filename: ",
       "layout": "IPY_MODEL_d467073c7f714842b47f08765d72ec3e",
       "style": "IPY_MODEL_8e2f7b0dab6f42dba187f4d0d6b24ae7",
       "value": "screenshot.png"
      }
     },
     "837fed4b7f4c4cb1a6c3b57a891bf6d7": {
      "model_module": "@jupyter-widgets/base",
      "model_module_version": "1.2.0",
      "model_name": "LayoutModel",
      "state": {}
     },
     "83c96ee9b0724a41a2de67171d6e928d": {
      "model_module": "@jupyter-widgets/base",
      "model_module_version": "1.2.0",
      "model_name": "LayoutModel",
      "state": {}
     },
     "8445f39302ed4b1a9d8a660009032de6": {
      "model_module": "@jupyter-widgets/base",
      "model_module_version": "1.2.0",
      "model_name": "LayoutModel",
      "state": {}
     },
     "85c6b2caf9d24f0a914df0530c69f545": {
      "model_module": "@jupyter-widgets/controls",
      "model_module_version": "1.5.0",
      "model_name": "DescriptionStyleModel",
      "state": {
       "description_width": ""
      }
     },
     "862159659d574c3f943cdc6585c13cd2": {
      "model_module": "@jupyter-widgets/controls",
      "model_module_version": "1.5.0",
      "model_name": "SliderStyleModel",
      "state": {
       "description_width": ""
      }
     },
     "8a7cc6ec8ddf4598b0469d435e3bff73": {
      "model_module": "@jupyter-widgets/controls",
      "model_module_version": "1.5.0",
      "model_name": "FloatSliderModel",
      "state": {
       "description": "Force scale",
       "layout": "IPY_MODEL_329a34ed75794dfba18ac3f258ecac1d",
       "step": 0.1,
       "style": "IPY_MODEL_4b7e366c844e4f79aa6e1be8c383218b",
       "value": 0.5
      }
     },
     "8c2259a3f7844f9995ad31d563bc0ca3": {
      "model_module": "@jupyter-widgets/base",
      "model_module_version": "1.2.0",
      "model_name": "LayoutModel",
      "state": {}
     },
     "8c43a0d13c2143a7a20658c693412a08": {
      "model_module": "@jupyter-widgets/base",
      "model_module_version": "1.2.0",
      "model_name": "LayoutModel",
      "state": {}
     },
     "8cf17122ff3c4037bfe30beb7e667bd9": {
      "model_module": "@jupyter-widgets/base",
      "model_module_version": "1.2.0",
      "model_name": "LayoutModel",
      "state": {}
     },
     "8e2f7b0dab6f42dba187f4d0d6b24ae7": {
      "model_module": "@jupyter-widgets/controls",
      "model_module_version": "1.5.0",
      "model_name": "DescriptionStyleModel",
      "state": {
       "description_width": ""
      }
     },
     "8e67f016d5184e62b5e74bfd941b31a0": {
      "model_module": "@jupyter-widgets/output",
      "model_module_version": "1.0.0",
      "model_name": "OutputModel",
      "state": {
       "layout": "IPY_MODEL_0d348267742841818b548648ce6d5223"
      }
     },
     "913404e51a0e45ed8c64fcb701f5e465": {
      "model_module": "@jupyter-widgets/controls",
      "model_module_version": "1.5.0",
      "model_name": "LinkModel",
      "state": {
       "source": [
        "IPY_MODEL_df89ab902af64c15adaa1b186935c6a5",
        "value"
       ],
       "target": [
        "IPY_MODEL_01a48328fa6f45e1b8eab5745a6a2c18",
        "frame"
       ]
      }
     },
     "915dd15cd4b74547af926f20b9b68c29": {
      "model_module": "@jupyter-widgets/base",
      "model_module_version": "1.2.0",
      "model_name": "LayoutModel",
      "state": {}
     },
     "9243d2ea8ef140938274379b17a8e16b": {
      "model_module": "@jupyter-widgets/base",
      "model_module_version": "1.2.0",
      "model_name": "LayoutModel",
      "state": {}
     },
     "93fd5471aad947b3a28aae49246036f8": {
      "model_module": "@jupyter-widgets/controls",
      "model_module_version": "1.5.0",
      "model_name": "FloatSliderModel",
      "state": {
       "description": "Force scale",
       "layout": "IPY_MODEL_aa510ffb16b44505a09905bd7a91478d",
       "step": 0.1,
       "style": "IPY_MODEL_99433f8423f74d2bb63b33ff63d245e5",
       "value": 0.5
      }
     },
     "9481ba75e9d84e638ba2069c4663d6e9": {
      "model_module": "@jupyter-widgets/base",
      "model_module_version": "1.2.0",
      "model_name": "LayoutModel",
      "state": {}
     },
     "959d3df6d5c545feae97231cd5ee0e7d": {
      "model_module": "@jupyter-widgets/controls",
      "model_module_version": "1.5.0",
      "model_name": "ButtonStyleModel",
      "state": {}
     },
     "987053f9c6c445dcb9d6caf754500312": {
      "model_module": "@jupyter-widgets/base",
      "model_module_version": "1.2.0",
      "model_name": "LayoutModel",
      "state": {}
     },
     "99433f8423f74d2bb63b33ff63d245e5": {
      "model_module": "@jupyter-widgets/controls",
      "model_module_version": "1.5.0",
      "model_name": "SliderStyleModel",
      "state": {
       "description_width": ""
      }
     },
     "9dd3178c24594e818e61025a74d8466d": {
      "model_module": "@jupyter-widgets/controls",
      "model_module_version": "1.5.0",
      "model_name": "ButtonStyleModel",
      "state": {}
     },
     "a4fc698b611549f4805347c3f7c88899": {
      "model_module": "@jupyter-widgets/controls",
      "model_module_version": "1.5.0",
      "model_name": "FloatSliderModel",
      "state": {
       "description": "Ball size",
       "layout": "IPY_MODEL_8c2259a3f7844f9995ad31d563bc0ca3",
       "max": 1.5,
       "step": 0.01,
       "style": "IPY_MODEL_862159659d574c3f943cdc6585c13cd2",
       "value": 0.5
      }
     },
     "a8bb05a352e445809cd75feda112398c": {
      "model_module": "@jupyter-widgets/base",
      "model_module_version": "1.2.0",
      "model_name": "LayoutModel",
      "state": {}
     },
     "aa510ffb16b44505a09905bd7a91478d": {
      "model_module": "@jupyter-widgets/base",
      "model_module_version": "1.2.0",
      "model_name": "LayoutModel",
      "state": {}
     },
     "ac821e9f2d814201b0df9548a326ead1": {
      "model_module": "@jupyter-widgets/base",
      "model_module_version": "1.2.0",
      "model_name": "LayoutModel",
      "state": {}
     },
     "ae1606d014cf4e4fa63399751ce42cc2": {
      "model_module": "@jupyter-widgets/controls",
      "model_module_version": "1.5.0",
      "model_name": "SliderStyleModel",
      "state": {
       "description_width": ""
      }
     },
     "ae4e06ce2f66450aab4bb10a9b0f09ce": {
      "model_module": "@jupyter-widgets/controls",
      "model_module_version": "1.5.0",
      "model_name": "ButtonStyleModel",
      "state": {}
     },
     "ae6f2e2da85a47e88bfdea214efea2db": {
      "model_module": "@jupyter-widgets/base",
      "model_module_version": "1.2.0",
      "model_name": "LayoutModel",
      "state": {}
     },
     "b112fc9706ed443a8e986f141b801aea": {
      "model_module": "@jupyter-widgets/base",
      "model_module_version": "1.2.0",
      "model_name": "LayoutModel",
      "state": {}
     },
     "b4ecd76026d44834aa17a2a2c0a0d51e": {
      "model_module": "@jupyter-widgets/base",
      "model_module_version": "1.2.0",
      "model_name": "LayoutModel",
      "state": {}
     },
     "b82c3b2285d6474c8e138e751fcd664f": {
      "model_module": "@jupyter-widgets/base",
      "model_module_version": "1.2.0",
      "model_name": "LayoutModel",
      "state": {}
     },
     "ba74cf70f2d3496988ecc5ce0a4576da": {
      "model_module": "@jupyter-widgets/base",
      "model_module_version": "1.2.0",
      "model_name": "LayoutModel",
      "state": {}
     },
     "bac7182da1b44de0bc908f35c7915b0b": {
      "model_module": "@jupyter-widgets/controls",
      "model_module_version": "1.5.0",
      "model_name": "DescriptionStyleModel",
      "state": {
       "description_width": ""
      }
     },
     "baf0feb4a055475783da4606bdf4feb6": {
      "model_module": "@jupyter-widgets/controls",
      "model_module_version": "1.5.0",
      "model_name": "HBoxModel",
      "state": {
       "children": [
        "IPY_MODEL_d465443e17504542b1a43280ae486de1",
        "IPY_MODEL_74c2965a9a2b4d2da01f1cf49f07886a"
       ],
       "layout": "IPY_MODEL_83c96ee9b0724a41a2de67171d6e928d"
      }
     },
     "bc25fc0249ce41c8b498f98854b280d9": {
      "model_module": "@jupyter-widgets/base",
      "model_module_version": "1.2.0",
      "model_name": "LayoutModel",
      "state": {}
     },
     "bc4f7705ae584ac8a199513a1c1a9ad4": {
      "model_module": "@jupyter-widgets/controls",
      "model_module_version": "1.5.0",
      "model_name": "VBoxModel",
      "state": {
       "children": [
        "IPY_MODEL_1e85d44771f9484c9863ffd05793f87e",
        "IPY_MODEL_6b792b2b9a054149add22bc16a52871a",
        "IPY_MODEL_28eedea015914c93937b9b33caded84f",
        "IPY_MODEL_223d0faade004f8e8cdb2ef5768f4ad4",
        "IPY_MODEL_c3706513cf054bb6bdb859d2d6f2099a",
        "IPY_MODEL_068e546937c042a5a023b033190e6d26",
        "IPY_MODEL_93fd5471aad947b3a28aae49246036f8",
        "IPY_MODEL_e6a7bedd9e62497396d5da0027a0507c",
        "IPY_MODEL_4619e038b3ad43ea82e9e4dc4ab65659",
        "IPY_MODEL_ff7a3d2ced044adbb099bcbc3aea4f5b"
       ],
       "layout": "IPY_MODEL_a8bb05a352e445809cd75feda112398c"
      }
     },
     "bc79ed1cae96456d94defe97de26b78e": {
      "model_module": "@jupyter-widgets/controls",
      "model_module_version": "1.5.0",
      "model_name": "IntSliderModel",
      "state": {
       "layout": "IPY_MODEL_4b133339e7004fa9bdf6324540edb070",
       "max": 1,
       "style": "IPY_MODEL_ae1606d014cf4e4fa63399751ce42cc2"
      }
     },
     "bd655adf94c44284abed54575bed32ce": {
      "model_module": "@jupyter-widgets/controls",
      "model_module_version": "1.5.0",
      "model_name": "PlayModel",
      "state": {
       "layout": "IPY_MODEL_2cf3c74347ea405bbd046a00b7d82872",
       "max": 0,
       "style": "IPY_MODEL_f850bd05c24f44e182618c0c99d6a4aa"
      }
     },
     "bd9eddfab58d4309bf17e835499cafd5": {
      "model_module": "@jupyter-widgets/base",
      "model_module_version": "1.2.0",
      "model_name": "LayoutModel",
      "state": {}
     },
     "c04d1674260c49f9aedbb2588a01006b": {
      "model_module": "@jupyter-widgets/controls",
      "model_module_version": "1.5.0",
      "model_name": "SliderStyleModel",
      "state": {
       "description_width": ""
      }
     },
     "c135d643fac44c7db403cbdd75ed7f5e": {
      "model_module": "@jupyter-widgets/base",
      "model_module_version": "1.2.0",
      "model_name": "LayoutModel",
      "state": {}
     },
     "c1ba292e44aa4abc8807747cb55b781c": {
      "model_module": "@jupyter-widgets/controls",
      "model_module_version": "1.5.0",
      "model_name": "IntSliderModel",
      "state": {
       "layout": "IPY_MODEL_8cf17122ff3c4037bfe30beb7e667bd9",
       "max": 1,
       "style": "IPY_MODEL_c04d1674260c49f9aedbb2588a01006b"
      }
     },
     "c1c38bf0cbea4c0b8ca961d36158f4f9": {
      "model_module": "@jupyter-widgets/controls",
      "model_module_version": "1.5.0",
      "model_name": "ImageModel",
      "state": {
       "layout": "IPY_MODEL_c135d643fac44c7db403cbdd75ed7f5e",
       "width": "900.0"
      }
     },
     "c236480c6a08423cb12ed673adb2d577": {
      "model_module": "@jupyter-widgets/base",
      "model_module_version": "1.2.0",
      "model_name": "LayoutModel",
      "state": {}
     },
     "c3706513cf054bb6bdb859d2d6f2099a": {
      "model_module": "@jupyter-widgets/controls",
      "model_module_version": "1.5.0",
      "model_name": "HBoxModel",
      "state": {
       "children": [
        "IPY_MODEL_38e569b9427243d5991debe932653d90",
        "IPY_MODEL_09429c27ed014ed89440c7142efbbc35"
       ],
       "layout": "IPY_MODEL_32db4c9b9fc3446fb7962495fdce8482"
      }
     },
     "c4b88e73cb2d4bf2b25423bc02bbdcc9": {
      "model_module": "@jupyter-widgets/controls",
      "model_module_version": "1.5.0",
      "model_name": "DescriptionStyleModel",
      "state": {
       "description_width": ""
      }
     },
     "c63a6928197d48968a313bf2332f341d": {
      "model_module": "@jupyter-widgets/base",
      "model_module_version": "1.2.0",
      "model_name": "LayoutModel",
      "state": {}
     },
     "c895f9a876c046e587d4d1ff6b2af3b2": {
      "model_module": "@jupyter-widgets/controls",
      "model_module_version": "1.5.0",
      "model_name": "SliderStyleModel",
      "state": {
       "description_width": ""
      }
     },
     "c8d1867b5e724c7fb5eba5c64f35eced": {
      "model_module": "nglview-js-widgets",
      "model_module_version": "3.0.1",
      "model_name": "NGLModel",
      "state": {
       "_camera_orientation": [
        9.342918832370302,
        0,
        0,
        0,
        0,
        9.342918832370302,
        0,
        0,
        0,
        0,
        9.342918832370302,
        0,
        -2.1565001010894775,
        -2.1565001010894775,
        -2.1565001010894775,
        1
       ],
       "_camera_str": "orthographic",
       "_gui_theme": null,
       "_ibtn_fullscreen": "IPY_MODEL_ee6e27f56eab4d0798c0d58c1cb9406b",
       "_igui": null,
       "_iplayer": "IPY_MODEL_0a6a3e12cc224f8d8ba7655a8d148876",
       "_ngl_color_dict": {},
       "_ngl_coordinate_resource": {},
       "_ngl_full_stage_parameters": {
        "ambientColor": 14540253,
        "ambientIntensity": 0.2,
        "backgroundColor": "white",
        "cameraEyeSep": 0.3,
        "cameraFov": 40,
        "cameraType": "orthographic",
        "clipDist": 0,
        "clipFar": 100,
        "clipNear": 0,
        "fogFar": 100,
        "fogNear": 50,
        "hoverTimeout": 0,
        "impostor": true,
        "lightColor": 14540253,
        "lightIntensity": 1,
        "mousePreset": "default",
        "panSpeed": 1,
        "quality": "medium",
        "rotateSpeed": 2,
        "sampleLevel": 0,
        "tooltip": true,
        "workerDefault": true,
        "zoomSpeed": 1.2
       },
       "_ngl_msg_archive": [
        {
         "args": [
          {
           "binary": false,
           "data": "CRYST1    5.750    5.750    5.750  90.00  90.00  90.00 P 1\nMODEL     1\nATOM      1   Ga MOL     1       0.000   0.000   0.000  1.00  0.00          GA  \nATOM      2   Ga MOL     1       2.875   2.875   0.000  1.00  0.00          GA  \nATOM      3   Ga MOL     1       2.875   0.000   2.875  1.00  0.00          GA  \nATOM      4   Ga MOL     1       0.000   2.875   2.875  1.00  0.00          GA  \nATOM      5   As MOL     1       1.438   1.438   1.438  1.00  0.00          AS  \nATOM      6   As MOL     1       1.438   4.313   4.313  1.00  0.00          AS  \nATOM      7   As MOL     1       4.313   4.313   1.438  1.00  0.00          AS  \nATOM      8   As MOL     1       4.313   1.438   4.313  1.00  0.00          AS  \nENDMDL\n",
           "type": "blob"
          }
         ],
         "kwargs": {
          "defaultRepresentation": false,
          "ext": "pdb"
         },
         "methodName": "loadFile",
         "reconstruc_color_scheme": false,
         "target": "Stage",
         "type": "call_method"
        },
        {
         "args": [
          "500px",
          "500px"
         ],
         "kwargs": {},
         "methodName": "setSize",
         "reconstruc_color_scheme": false,
         "target": "Widget",
         "type": "call_method"
        },
        {
         "args": [
          "unitcell"
         ],
         "component_index": 0,
         "kwargs": {
          "sele": "all"
         },
         "methodName": "addRepresentation",
         "reconstruc_color_scheme": false,
         "target": "compList",
         "type": "call_method"
        },
        {
         "args": [
          "spacefill"
         ],
         "component_index": 0,
         "kwargs": {
          "sele": "all"
         },
         "methodName": "addRepresentation",
         "reconstruc_color_scheme": false,
         "target": "compList",
         "type": "call_method"
        },
        {
         "args": [],
         "kwargs": {
          "cameraType": "orthographic"
         },
         "methodName": "setParameters",
         "reconstruc_color_scheme": false,
         "target": "Stage",
         "type": "call_method"
        },
        {
         "args": [
          {
           "clipDist": 0
          }
         ],
         "kwargs": {},
         "methodName": "setParameters",
         "reconstruc_color_scheme": false,
         "target": "Widget",
         "type": "call_method"
        },
        {
         "args": [
          "spacefill",
          0
         ],
         "kwargs": {
          "colorScale": "rainbow",
          "colorScheme": "element",
          "radiusScale": 0.5,
          "radiusType": "covalent"
         },
         "methodName": "updateRepresentationsByName",
         "reconstruc_color_scheme": false,
         "target": "Widget",
         "type": "call_method"
        },
        {
         "args": [
          "this._Q = [[1.0, 0.0, 0.0], [0.0, 1.0, 0.0], [0.0, 0.0, 1.0]]\n    var tooltip = document.createElement('div')\n    Object.assign(tooltip.style, {\n      display: 'none',\n      position: 'fixed',\n      zIndex: 10,\n      pointerEvents: 'none',\n      backgroundColor: 'rgba( 0, 0, 0, 0.6 )',\n      color: 'lightgrey',\n      padding: '8px',\n      fontFamily: 'sans-serif'\n    })\n    document.body.appendChild(tooltip)\n\n    var that = this\n    this.stage.mouseControls.remove('hoverPick')\n    this.stage.signals.hovered.add(function (pickingProxy) {\n      if (pickingProxy && (pickingProxy.atom || pickingProxy.bond)) {\n        var atom = pickingProxy.atom || pickingProxy.closestBondAtom\n        var mp = pickingProxy.mouse.position\n        //tooltip.innerText = atom.element + ' i=' + atom.index + ' (' + atom.x.toFixed(2) +  ', ' + atom.y.toFixed(2) +  ', ' + atom.z.toFixed(2) + ')'\n        //var pos = that._atoms_pos[atom.index]\n        var Q = that._Q\n        var pos_x = Q[0][0] * atom.x + Q[0][1] * atom.y + Q[0][2] * atom.z \n        var pos_y = Q[1][0] * atom.x + Q[1][1] * atom.y + Q[1][2] * atom.z\n        var pos_z = Q[2][0] * atom.x + Q[2][1] * atom.y + Q[2][2] * atom.z\n        tooltip.innerText = 'i=' + atom.index + ' ' + atom.element + ' (' + pos_x.toFixed(2) +  ', ' + pos_y.toFixed(2) +  ', ' + pos_z.toFixed(2) + ')'\n        tooltip.style.bottom = window.innerHeight - mp.y + 3 + 'px'\n        tooltip.style.left = mp.x + 3 + 'px'\n        tooltip.style.display = 'block'\n      } else {\n        tooltip.style.display = 'none'\n      }\n    })\n    "
         ],
         "kwargs": {},
         "methodName": "executeCode",
         "reconstruc_color_scheme": false,
         "target": "Widget",
         "type": "call_method"
        },
        {
         "args": [
          "ball+stick"
         ],
         "component_index": 0,
         "kwargs": {
          "sele": "all"
         },
         "methodName": "addRepresentation",
         "reconstruc_color_scheme": false,
         "target": "compList",
         "type": "call_method"
        }
       ],
       "_ngl_original_stage_parameters": {
        "ambientColor": 14540253,
        "ambientIntensity": 0.2,
        "backgroundColor": "white",
        "cameraEyeSep": 0.3,
        "cameraFov": 40,
        "cameraType": "perspective",
        "clipDist": 10,
        "clipFar": 100,
        "clipNear": 0,
        "fogFar": 100,
        "fogNear": 50,
        "hoverTimeout": 0,
        "impostor": true,
        "lightColor": 14540253,
        "lightIntensity": 1,
        "mousePreset": "default",
        "panSpeed": 1,
        "quality": "medium",
        "rotateSpeed": 2,
        "sampleLevel": 0,
        "tooltip": true,
        "workerDefault": true,
        "zoomSpeed": 1.2
       },
       "_ngl_repr_dict": {
        "0": {
         "0": {
          "params": {
           "clipCenter": {
            "x": 0,
            "y": 0,
            "z": 0
           },
           "clipNear": 0,
           "clipRadius": 0,
           "colorMode": "hcl",
           "colorReverse": false,
           "colorScale": "",
           "colorScheme": "element",
           "colorValue": "orange",
           "defaultAssembly": "",
           "depthWrite": true,
           "diffuse": 16777215,
           "diffuseInterior": false,
           "disableImpostor": false,
           "disablePicking": false,
           "flatShaded": false,
           "interiorColor": 2236962,
           "interiorDarkening": 0,
           "lazy": false,
           "matrix": {
            "elements": [
             1,
             0,
             0,
             0,
             0,
             1,
             0,
             0,
             0,
             0,
             1,
             0,
             0,
             0,
             0,
             1
            ]
           },
           "metalness": 0,
           "opacity": 1,
           "quality": "medium",
           "radialSegments": 10,
           "radiusData": {},
           "radiusScale": 1,
           "radiusSize": 0.028749998737986702,
           "radiusType": "vdw",
           "roughness": 0.4,
           "sele": "all",
           "side": "double",
           "sphereDetail": 1,
           "useInteriorColor": true,
           "visible": true,
           "wireframe": false
          },
          "type": "unitcell"
         },
         "1": {
          "params": {
           "assembly": "default",
           "clipCenter": {
            "x": 0,
            "y": 0,
            "z": 0
           },
           "clipNear": 0,
           "clipRadius": 0,
           "colorMode": "hcl",
           "colorReverse": false,
           "colorScale": "rainbow",
           "colorScheme": "element",
           "colorValue": 9474192,
           "defaultAssembly": "",
           "depthWrite": true,
           "diffuse": 16777215,
           "diffuseInterior": false,
           "disableImpostor": false,
           "disablePicking": false,
           "flatShaded": false,
           "interiorColor": 2236962,
           "interiorDarkening": 0,
           "lazy": false,
           "matrix": {
            "elements": [
             1,
             0,
             0,
             0,
             0,
             1,
             0,
             0,
             0,
             0,
             1,
             0,
             0,
             0,
             0,
             1
            ]
           },
           "metalness": 0,
           "opacity": 1,
           "quality": "medium",
           "radiusData": {},
           "radiusScale": 0.5,
           "radiusSize": 1,
           "radiusType": "covalent",
           "roughness": 0.4,
           "sele": "all",
           "side": "double",
           "sphereDetail": 1,
           "useInteriorColor": true,
           "visible": true,
           "wireframe": false
          },
          "type": "spacefill"
         },
         "2": {
          "params": {
           "aspectRatio": 2,
           "assembly": "default",
           "bondScale": 0.4,
           "bondSpacing": 1,
           "clipCenter": {
            "x": 0,
            "y": 0,
            "z": 0
           },
           "clipNear": 0,
           "clipRadius": 0,
           "colorMode": "hcl",
           "colorReverse": false,
           "colorScale": "",
           "colorScheme": "element",
           "colorValue": 9474192,
           "cylinderOnly": false,
           "defaultAssembly": "",
           "depthWrite": true,
           "diffuse": 16777215,
           "diffuseInterior": false,
           "disableImpostor": false,
           "disablePicking": false,
           "flatShaded": false,
           "interiorColor": 2236962,
           "interiorDarkening": 0,
           "lazy": false,
           "lineOnly": false,
           "linewidth": 2,
           "matrix": {
            "elements": [
             1,
             0,
             0,
             0,
             0,
             1,
             0,
             0,
             0,
             0,
             1,
             0,
             0,
             0,
             0,
             1
            ]
           },
           "metalness": 0,
           "multipleBond": "off",
           "opacity": 1,
           "openEnded": true,
           "quality": "medium",
           "radialSegments": 10,
           "radiusData": {},
           "radiusScale": 1,
           "radiusSize": 0.15,
           "radiusType": "size",
           "roughness": 0.4,
           "sele": "all",
           "side": "double",
           "sphereDetail": 1,
           "useInteriorColor": true,
           "visible": true,
           "wireframe": false
          },
          "type": "ball+stick"
         }
        }
       },
       "_ngl_serialize": false,
       "_ngl_version": "2.0.0-dev.36",
       "_ngl_view_id": [
        "18264C12-E1D9-45DC-8B87-D3D9B67A1E54"
       ],
       "_player_dict": {},
       "_scene_position": {},
       "_scene_rotation": {},
       "_synced_model_ids": [],
       "_synced_repr_model_ids": [],
       "_view_height": "",
       "_view_width": "",
       "background": "white",
       "frame": 0,
       "gui_style": null,
       "layout": "IPY_MODEL_bd9eddfab58d4309bf17e835499cafd5",
       "max_frame": 0,
       "n_components": 1,
       "picked": {}
      }
     },
     "ce11e1824bca4098b51aa7442962e9f4": {
      "model_module": "@jupyter-widgets/controls",
      "model_module_version": "1.5.0",
      "model_name": "ButtonStyleModel",
      "state": {}
     },
     "ce5797ecdf8f47ff9f43b1675137d4e2": {
      "model_module": "@jupyter-widgets/controls",
      "model_module_version": "1.5.0",
      "model_name": "LinkModel",
      "state": {
       "source": [
        "IPY_MODEL_bd655adf94c44284abed54575bed32ce",
        "max"
       ],
       "target": [
        "IPY_MODEL_c8d1867b5e724c7fb5eba5c64f35eced",
        "max_frame"
       ]
      }
     },
     "cf939109882e42ad8718c7a382e115af": {
      "model_module": "@jupyter-widgets/controls",
      "model_module_version": "1.5.0",
      "model_name": "DescriptionStyleModel",
      "state": {
       "description_width": ""
      }
     },
     "d2126358f44548b485eaf327dd30f248": {
      "model_module": "nglview-js-widgets",
      "model_module_version": "3.0.1",
      "model_name": "ColormakerRegistryModel",
      "state": {
       "_msg_ar": [],
       "_msg_q": [],
       "_ready": true,
       "layout": "IPY_MODEL_7ee77d049df144a893ef77f3bce23cee"
      }
     },
     "d465443e17504542b1a43280ae486de1": {
      "model_module": "@jupyter-widgets/controls",
      "model_module_version": "1.5.0",
      "model_name": "ButtonModel",
      "state": {
       "description": "Download image",
       "layout": "IPY_MODEL_b4ecd76026d44834aa17a2a2c0a0d51e",
       "style": "IPY_MODEL_f92f1771614942b980418a2ff6ac7e1c",
       "tooltip": "Download current frame to your local PC"
      }
     },
     "d467073c7f714842b47f08765d72ec3e": {
      "model_module": "@jupyter-widgets/base",
      "model_module_version": "1.2.0",
      "model_name": "LayoutModel",
      "state": {}
     },
     "d6f2e4d5f83f47a3813bb61fdbefb5b6": {
      "model_module": "@jupyter-widgets/output",
      "model_module_version": "1.0.0",
      "model_name": "OutputModel",
      "state": {
       "layout": "IPY_MODEL_fe268d683107420a98c8a18d06f93ead"
      }
     },
     "d98f05e9598b426f9d1b66522f037139": {
      "model_module": "@jupyter-widgets/controls",
      "model_module_version": "1.5.0",
      "model_name": "DropdownModel",
      "state": {
       "_options_labels": [
        " ",
        "picking",
        "random",
        "uniform",
        "atomindex",
        "residueindex",
        "chainindex",
        "modelindex",
        "sstruc",
        "element",
        "resname",
        "bfactor",
        "hydrophobicity",
        "value",
        "volume",
        "occupancy"
       ],
       "description": "Color scheme",
       "index": 9,
       "layout": "IPY_MODEL_7993cd9d2d0f48aa9c3af33be777883d",
       "style": "IPY_MODEL_f68f106449774a74bcc7f9a739a05320"
      }
     },
     "dbd4bfc705ea49d2885f9c1291d5a1c3": {
      "model_module": "nglview-js-widgets",
      "model_module_version": "3.0.1",
      "model_name": "NGLModel",
      "state": {
       "_camera_orientation": [
        35.81201689942387,
        0,
        0,
        0,
        0,
        35.81201689942387,
        0,
        0,
        0,
        0,
        35.81201689942387,
        0,
        -12.127999663352966,
        -6.59499979019165,
        -4.675999843573663,
        1
       ],
       "_camera_str": "orthographic",
       "_gui_theme": null,
       "_ibtn_fullscreen": "IPY_MODEL_2118cf11366b481f936b989c1019a2e0",
       "_igui": null,
       "_iplayer": "IPY_MODEL_71a60eb3ab7c4307bc349f168b7f9da5",
       "_ngl_color_dict": {},
       "_ngl_coordinate_resource": {},
       "_ngl_full_stage_parameters": {
        "ambientColor": 14540253,
        "ambientIntensity": 0.2,
        "backgroundColor": "white",
        "cameraEyeSep": 0.3,
        "cameraFov": 40,
        "cameraType": "orthographic",
        "clipDist": 0,
        "clipFar": 100,
        "clipNear": 0,
        "fogFar": 100,
        "fogNear": 50,
        "hoverTimeout": 0,
        "impostor": true,
        "lightColor": 14540253,
        "lightIntensity": 1,
        "mousePreset": "default",
        "panSpeed": 1,
        "quality": "medium",
        "rotateSpeed": 2,
        "sampleLevel": 0,
        "tooltip": true,
        "workerDefault": true,
        "zoomSpeed": 1.2
       },
       "_ngl_msg_archive": [
        {
         "args": [
          {
           "binary": false,
           "data": "CRYST1   14.277   14.277   14.277  60.00  60.00  60.00 P 1\nMODEL     1\nATOM      1   Al MOL     1       1.411   0.815   2.304  1.00  0.00          AL  \nATOM      2   Al MOL     1       2.850   1.646   4.654  1.00  0.00          AL  \nATOM      3   Al MOL     1       4.288   2.476   7.002  1.00  0.00          AL  \nATOM      4   Al MOL     1       5.728   3.307   9.353  1.00  0.00          AL  \nATOM      5   Al MOL     1       1.411   2.443  -0.000  1.00  0.00          AL  \nATOM      6   Al MOL     1       2.856   3.296   2.330  1.00  0.00          AL  \nATOM      7   Al MOL     1       4.283   4.118   4.664  1.00  0.00          AL  \nATOM      8   Al MOL     1       5.712   4.945   6.995  1.00  0.00          AL  \nATOM      9   Al MOL     1       7.138   5.751   9.353  1.00  0.00          AL  \nATOM     10   Al MOL     1       2.850   4.937  -0.000  1.00  0.00          AL  \nATOM     11   Al MOL     1       4.283   5.770   2.328  1.00  0.00          AL  \nATOM     12   Al MOL     1       5.714   6.596   4.664  1.00  0.00          AL  \nATOM     13   Al MOL     1       7.138   7.413   7.002  1.00  0.00          AL  \nATOM     14   Al MOL     1       8.565   8.242   9.326  1.00  0.00          AL  \nATOM     15   Al MOL     1       4.288   7.427   0.000  1.00  0.00          AL  \nATOM     16   Al MOL     1       5.712   8.243   2.330  1.00  0.00          AL  \nATOM     17   Al MOL     1       7.138   9.073   4.654  1.00  0.00          AL  \nATOM     18   Al MOL     1       8.563   9.890   6.993  1.00  0.00          AL  \nATOM     19   Al MOL     1       9.994  10.716   9.329  1.00  0.00          AL  \nATOM     20   Al MOL     1       5.728   9.920   0.000  1.00  0.00          AL  \nATOM     21   Al MOL     1       7.138  10.735   2.304  1.00  0.00          AL  \nATOM     22   Al MOL     1       8.565  11.540   4.662  1.00  0.00          AL  \nATOM     23   Al MOL     1       9.994  12.367   6.993  1.00  0.00          AL  \nATOM     24   Al MOL     1      11.421  13.190   9.326  1.00  0.00          AL  \nATOM     25   Al MOL     1       2.822  -0.000   0.000  1.00  0.00          AL  \nATOM     26   Al MOL     1       4.282   0.825   2.330  1.00  0.00          AL  \nATOM     27   Al MOL     1       5.708   1.650   4.664  1.00  0.00          AL  \nATOM     28   Al MOL     1       7.138   2.474   6.995  1.00  0.00          AL  \nATOM     29   Al MOL     1       8.549   3.307   9.353  1.00  0.00          AL  \nATOM     30   Al MOL     1       4.282   2.472   0.001  1.00  0.00          AL  \nATOM     31   Al MOL     1       5.709   3.296   2.331  1.00  0.00          AL  \nATOM     32   Al MOL     1       7.138   4.121   4.665  1.00  0.00          AL  \nATOM     33   Al MOL     1       8.565   4.945   6.995  1.00  0.00          AL  \nATOM     34   Al MOL     1       9.996   5.771   9.324  1.00  0.00          AL  \nATOM     35   Al MOL     1       5.708   4.947   0.001  1.00  0.00          AL  \nATOM     36   Al MOL     1       7.138   5.772   2.331  1.00  0.00          AL  \nATOM     37   Al MOL     1       8.563   6.596   4.664  1.00  0.00          AL  \nATOM     38   Al MOL     1       9.991   7.417   6.996  1.00  0.00          AL  \nATOM     39   Al MOL     1      11.419   8.242   9.328  1.00  0.00          AL  \nATOM     40   Al MOL     1       7.138   7.420   0.001  1.00  0.00          AL  \nATOM     41   Al MOL     1       8.565   8.243   2.330  1.00  0.00          AL  \nATOM     42   Al MOL     1       9.991   9.068   4.661  1.00  0.00          AL  \nATOM     43   Al MOL     1      11.423   9.890   6.993  1.00  0.00          AL  \nATOM     44   Al MOL     1      12.849  10.718   9.328  1.00  0.00          AL  \nATOM     45   Al MOL     1       8.549   9.920   0.000  1.00  0.00          AL  \nATOM     46   Al MOL     1       9.996  10.714   2.333  1.00  0.00          AL  \nATOM     47   Al MOL     1      11.419  11.542   4.661  1.00  0.00          AL  \nATOM     48   Al MOL     1      12.849  12.367   6.996  1.00  0.00          AL  \nATOM     49   Al MOL     1      14.277  13.186   9.324  1.00  0.00          AL  \nATOM     50   Al MOL     1       5.701  -0.000   0.000  1.00  0.00          AL  \nATOM     51   Al MOL     1       7.138   0.824   2.328  1.00  0.00          AL  \nATOM     52   Al MOL     1       8.569   1.650   4.664  1.00  0.00          AL  \nATOM     53   Al MOL     1       9.989   2.476   7.002  1.00  0.00          AL  \nATOM     54   Al MOL     1      11.420   3.297   9.326  1.00  0.00          AL  \nATOM     55   Al MOL     1       7.138   2.470   0.001  1.00  0.00          AL  \nATOM     56   Al MOL     1       8.568   3.296   2.331  1.00  0.00          AL  \nATOM     57   Al MOL     1       9.994   4.118   4.664  1.00  0.00          AL  \nATOM     58   Al MOL     1      11.419   4.944   6.996  1.00  0.00          AL  \nATOM     59   Al MOL     1      12.847   5.768   9.328  1.00  0.00          AL  \nATOM     60   Al MOL     1       8.569   4.947   0.001  1.00  0.00          AL  \nATOM     61   Al MOL     1       9.994   5.770   2.328  1.00  0.00          AL  \nATOM     62   Al MOL     1      11.423   6.595   4.663  1.00  0.00          AL  \nATOM     63   Al MOL     1      12.850   7.419   6.993  1.00  0.00          AL  \nATOM     64   Al MOL     1      14.277   8.243   9.323  1.00  0.00          AL  \nATOM     65   Al MOL     1       9.989   7.427   0.000  1.00  0.00          AL  \nATOM     66   Al MOL     1      11.419   8.243   2.329  1.00  0.00          AL  \nATOM     67   Al MOL     1      12.850   9.066   4.664  1.00  0.00          AL  \nATOM     68   Al MOL     1      14.277   9.890   6.993  1.00  0.00          AL  \nATOM     69   Al MOL     1      15.705  10.718   9.328  1.00  0.00          AL  \nATOM     70   Al MOL     1      11.420   9.892  -0.001  1.00  0.00          AL  \nATOM     71   Al MOL     1      12.847  10.717   2.329  1.00  0.00          AL  \nATOM     72   Al MOL     1      14.277  11.538   4.663  1.00  0.00          AL  \nATOM     73   Al MOL     1      15.705  12.367   6.996  1.00  0.00          AL  \nATOM     74   Al MOL     1      17.132  13.190   9.326  1.00  0.00          AL  \nATOM     75   Al MOL     1       8.576  -0.000  -0.000  1.00  0.00          AL  \nATOM     76   Al MOL     1       9.995   0.825   2.330  1.00  0.00          AL  \nATOM     77   Al MOL     1      11.426   1.646   4.654  1.00  0.00          AL  \nATOM     78   Al MOL     1      12.846   2.471   6.993  1.00  0.00          AL  \nATOM     79   Al MOL     1      14.277   3.297   9.329  1.00  0.00          AL  \nATOM     80   Al MOL     1       9.995   2.472   0.001  1.00  0.00          AL  \nATOM     81   Al MOL     1      11.421   3.296   2.330  1.00  0.00          AL  \nATOM     82   Al MOL     1      12.849   4.118   4.661  1.00  0.00          AL  \nATOM     83   Al MOL     1      14.277   4.948   6.993  1.00  0.00          AL  \nATOM     84   Al MOL     1      15.706   5.768   9.328  1.00  0.00          AL  \nATOM     85   Al MOL     1      11.426   4.937  -0.000  1.00  0.00          AL  \nATOM     86   Al MOL     1      12.849   5.767   2.329  1.00  0.00          AL  \nATOM     87   Al MOL     1      14.277   6.596   4.664  1.00  0.00          AL  \nATOM     88   Al MOL     1      15.703   7.419   6.993  1.00  0.00          AL  \nATOM     89   Al MOL     1      17.135   8.242   9.328  1.00  0.00          AL  \nATOM     90   Al MOL     1      12.846   7.417  -0.001  1.00  0.00          AL  \nATOM     91   Al MOL     1      14.277   8.243   2.333  1.00  0.00          AL  \nATOM     92   Al MOL     1      15.703   9.066   4.664  1.00  0.00          AL  \nATOM     93   Al MOL     1      17.130   9.890   6.993  1.00  0.00          AL  \nATOM     94   Al MOL     1      18.560  10.716   9.329  1.00  0.00          AL  \nATOM     95   Al MOL     1      14.277   9.894  -0.001  1.00  0.00          AL  \nATOM     96   Al MOL     1      15.706  10.717   2.329  1.00  0.00          AL  \nATOM     97   Al MOL     1      17.135  11.542   4.661  1.00  0.00          AL  \nATOM     98   Al MOL     1      18.560  12.367   6.993  1.00  0.00          AL  \nATOM     99   Al MOL     1      19.986  13.189   9.326  1.00  0.00          AL  \nATOM    100   Al MOL     1      11.455   0.000   0.000  1.00  0.00          AL  \nATOM    101   Al MOL     1      12.866   0.815   2.304  1.00  0.00          AL  \nATOM    102   Al MOL     1      14.277   1.647   4.662  1.00  0.00          AL  \nATOM    103   Al MOL     1      15.707   2.471   6.993  1.00  0.00          AL  \nATOM    104   Al MOL     1      17.133   3.297   9.326  1.00  0.00          AL  \nATOM    105   Al MOL     1      12.866   2.443  -0.000  1.00  0.00          AL  \nATOM    106   Al MOL     1      14.277   3.299   2.333  1.00  0.00          AL  \nATOM    107   Al MOL     1      15.705   4.118   4.661  1.00  0.00          AL  \nATOM    108   Al MOL     1      17.135   4.944   6.996  1.00  0.00          AL  \nATOM    109   Al MOL     1      18.558   5.771   9.324  1.00  0.00          AL  \nATOM    110   Al MOL     1      14.277   4.944  -0.001  1.00  0.00          AL  \nATOM    111   Al MOL     1      15.705   5.767   2.329  1.00  0.00          AL  \nATOM    112   Al MOL     1      17.130   6.595   4.663  1.00  0.00          AL  \nATOM    113   Al MOL     1      18.563   7.417   6.996  1.00  0.00          AL  \nATOM    114   Al MOL     1      19.989   8.242   9.326  1.00  0.00          AL  \nATOM    115   Al MOL     1      15.707   7.417  -0.001  1.00  0.00          AL  \nATOM    116   Al MOL     1      17.135   8.243   2.329  1.00  0.00          AL  \nATOM    117   Al MOL     1      18.563   9.068   4.661  1.00  0.00          AL  \nATOM    118   Al MOL     1      19.990   9.890   6.993  1.00  0.00          AL  \nATOM    119   Al MOL     1      21.415  10.714   9.326  1.00  0.00          AL  \nATOM    120   Al MOL     1      17.133   9.892  -0.001  1.00  0.00          AL  \nATOM    121   Al MOL     1      18.558  10.714   2.333  1.00  0.00          AL  \nATOM    122   Al MOL     1      19.989  11.540   4.662  1.00  0.00          AL  \nATOM    123   Al MOL     1      21.415  12.364   6.992  1.00  0.00          AL  \nATOM    124   Al MOL     1      22.845  13.189   9.326  1.00  0.00          AL  \nENDMDL\n",
           "type": "blob"
          }
         ],
         "kwargs": {
          "defaultRepresentation": false,
          "ext": "pdb"
         },
         "methodName": "loadFile",
         "reconstruc_color_scheme": false,
         "target": "Stage",
         "type": "call_method"
        },
        {
         "args": [
          "500px",
          "500px"
         ],
         "kwargs": {},
         "methodName": "setSize",
         "reconstruc_color_scheme": false,
         "target": "Widget",
         "type": "call_method"
        },
        {
         "args": [
          "unitcell"
         ],
         "component_index": 0,
         "kwargs": {
          "sele": "all"
         },
         "methodName": "addRepresentation",
         "reconstruc_color_scheme": false,
         "target": "compList",
         "type": "call_method"
        },
        {
         "args": [
          "spacefill"
         ],
         "component_index": 0,
         "kwargs": {
          "sele": "all"
         },
         "methodName": "addRepresentation",
         "reconstruc_color_scheme": false,
         "target": "compList",
         "type": "call_method"
        },
        {
         "args": [],
         "kwargs": {
          "cameraType": "orthographic"
         },
         "methodName": "setParameters",
         "reconstruc_color_scheme": false,
         "target": "Stage",
         "type": "call_method"
        },
        {
         "args": [
          {
           "clipDist": 0
          }
         ],
         "kwargs": {},
         "methodName": "setParameters",
         "reconstruc_color_scheme": false,
         "target": "Widget",
         "type": "call_method"
        },
        {
         "args": [
          "spacefill",
          0
         ],
         "kwargs": {
          "colorScale": "rainbow",
          "colorScheme": "element",
          "radiusScale": 0.5,
          "radiusType": "covalent"
         },
         "methodName": "updateRepresentationsByName",
         "reconstruc_color_scheme": false,
         "target": "Widget",
         "type": "call_method"
        },
        {
         "args": [
          "this._Q = [[3.8788556211422076e-07, 0.7071068532949192, 0.7071067090780623], [0.8165051499257511, -0.4082399036481362, 0.40823953901366195], [0.5773381506054979, 0.5773561111590647, -0.5773565456134584]]\n    var tooltip = document.createElement('div')\n    Object.assign(tooltip.style, {\n      display: 'none',\n      position: 'fixed',\n      zIndex: 10,\n      pointerEvents: 'none',\n      backgroundColor: 'rgba( 0, 0, 0, 0.6 )',\n      color: 'lightgrey',\n      padding: '8px',\n      fontFamily: 'sans-serif'\n    })\n    document.body.appendChild(tooltip)\n\n    var that = this\n    this.stage.mouseControls.remove('hoverPick')\n    this.stage.signals.hovered.add(function (pickingProxy) {\n      if (pickingProxy && (pickingProxy.atom || pickingProxy.bond)) {\n        var atom = pickingProxy.atom || pickingProxy.closestBondAtom\n        var mp = pickingProxy.mouse.position\n        //tooltip.innerText = atom.element + ' i=' + atom.index + ' (' + atom.x.toFixed(2) +  ', ' + atom.y.toFixed(2) +  ', ' + atom.z.toFixed(2) + ')'\n        //var pos = that._atoms_pos[atom.index]\n        var Q = that._Q\n        var pos_x = Q[0][0] * atom.x + Q[0][1] * atom.y + Q[0][2] * atom.z \n        var pos_y = Q[1][0] * atom.x + Q[1][1] * atom.y + Q[1][2] * atom.z\n        var pos_z = Q[2][0] * atom.x + Q[2][1] * atom.y + Q[2][2] * atom.z\n        tooltip.innerText = 'i=' + atom.index + ' ' + atom.element + ' (' + pos_x.toFixed(2) +  ', ' + pos_y.toFixed(2) +  ', ' + pos_z.toFixed(2) + ')'\n        tooltip.style.bottom = window.innerHeight - mp.y + 3 + 'px'\n        tooltip.style.left = mp.x + 3 + 'px'\n        tooltip.style.display = 'block'\n      } else {\n        tooltip.style.display = 'none'\n      }\n    })\n    "
         ],
         "kwargs": {},
         "methodName": "executeCode",
         "reconstruc_color_scheme": false,
         "target": "Widget",
         "type": "call_method"
        }
       ],
       "_ngl_original_stage_parameters": {
        "ambientColor": 14540253,
        "ambientIntensity": 0.2,
        "backgroundColor": "white",
        "cameraEyeSep": 0.3,
        "cameraFov": 40,
        "cameraType": "perspective",
        "clipDist": 10,
        "clipFar": 100,
        "clipNear": 0,
        "fogFar": 100,
        "fogNear": 50,
        "hoverTimeout": 0,
        "impostor": true,
        "lightColor": 14540253,
        "lightIntensity": 1,
        "mousePreset": "default",
        "panSpeed": 1,
        "quality": "medium",
        "rotateSpeed": 2,
        "sampleLevel": 0,
        "tooltip": true,
        "workerDefault": true,
        "zoomSpeed": 1.2
       },
       "_ngl_repr_dict": {
        "0": {
         "0": {
          "params": {
           "clipCenter": {
            "x": 0,
            "y": 0,
            "z": 0
           },
           "clipNear": 0,
           "clipRadius": 0,
           "colorMode": "hcl",
           "colorReverse": false,
           "colorScale": "",
           "colorScheme": "element",
           "colorValue": "orange",
           "defaultAssembly": "",
           "depthWrite": true,
           "diffuse": 16777215,
           "diffuseInterior": false,
           "disableImpostor": false,
           "disablePicking": false,
           "flatShaded": false,
           "interiorColor": 2236962,
           "interiorDarkening": 0,
           "lazy": false,
           "matrix": {
            "elements": [
             1,
             0,
             0,
             0,
             0,
             1,
             0,
             0,
             0,
             0,
             1,
             0,
             0,
             0,
             0,
             1
            ]
           },
           "metalness": 0,
           "opacity": 1,
           "quality": "medium",
           "radialSegments": 10,
           "radiusData": {},
           "radiusScale": 1,
           "radiusSize": 0.06359136393211517,
           "radiusType": "vdw",
           "roughness": 0.4,
           "sele": "all",
           "side": "double",
           "sphereDetail": 1,
           "useInteriorColor": true,
           "visible": true,
           "wireframe": false
          },
          "type": "unitcell"
         },
         "1": {
          "params": {
           "assembly": "default",
           "clipCenter": {
            "x": 0,
            "y": 0,
            "z": 0
           },
           "clipNear": 0,
           "clipRadius": 0,
           "colorMode": "hcl",
           "colorReverse": false,
           "colorScale": "rainbow",
           "colorScheme": "element",
           "colorValue": 9474192,
           "defaultAssembly": "",
           "depthWrite": true,
           "diffuse": 16777215,
           "diffuseInterior": false,
           "disableImpostor": false,
           "disablePicking": false,
           "flatShaded": false,
           "interiorColor": 2236962,
           "interiorDarkening": 0,
           "lazy": false,
           "matrix": {
            "elements": [
             1,
             0,
             0,
             0,
             0,
             1,
             0,
             0,
             0,
             0,
             1,
             0,
             0,
             0,
             0,
             1
            ]
           },
           "metalness": 0,
           "opacity": 1,
           "quality": "medium",
           "radiusData": {},
           "radiusScale": 0.5,
           "radiusSize": 1,
           "radiusType": "covalent",
           "roughness": 0.4,
           "sele": "all",
           "side": "double",
           "sphereDetail": 1,
           "useInteriorColor": true,
           "visible": true,
           "wireframe": false
          },
          "type": "spacefill"
         }
        }
       },
       "_ngl_serialize": false,
       "_ngl_version": "2.0.0-dev.36",
       "_ngl_view_id": [
        "F3B9FF3C-39B7-478A-AC2F-D0D8953AF61E"
       ],
       "_player_dict": {},
       "_scene_position": {},
       "_scene_rotation": {},
       "_synced_model_ids": [],
       "_synced_repr_model_ids": [],
       "_view_height": "",
       "_view_width": "",
       "background": "white",
       "frame": 0,
       "gui_style": null,
       "layout": "IPY_MODEL_588697d38c794d5382ebbd7aee2468e5",
       "max_frame": 1,
       "n_components": 1,
       "picked": {}
      }
     },
     "df89ab902af64c15adaa1b186935c6a5": {
      "model_module": "@jupyter-widgets/controls",
      "model_module_version": "1.5.0",
      "model_name": "PlayModel",
      "state": {
       "layout": "IPY_MODEL_4fd505a4804740a9bb48f58a4ef668cc",
       "max": 1,
       "style": "IPY_MODEL_e6ce5952d7994d448cdc84a02e102edf"
      }
     },
     "e5ee5d3b7b2d4d6bafe79b79ca12b0d8": {
      "model_module": "@jupyter-widgets/controls",
      "model_module_version": "1.5.0",
      "model_name": "ImageModel",
      "state": {
       "layout": "IPY_MODEL_7bd809b04c3744c1acf1ce9580cc982a",
       "width": "900.0"
      }
     },
     "e6a7bedd9e62497396d5da0027a0507c": {
      "model_module": "@jupyter-widgets/controls",
      "model_module_version": "1.5.0",
      "model_name": "CheckboxModel",
      "state": {
       "description": "Show charge",
       "disabled": false,
       "layout": "IPY_MODEL_60620ee9f49643dfb7d4341dada40441",
       "style": "IPY_MODEL_78140838cbb04778887592c554028e4d",
       "value": false
      }
     },
     "e6bbb937dc72496aafb4fa07041bdb34": {
      "model_module": "@jupyter-widgets/controls",
      "model_module_version": "1.5.0",
      "model_name": "LinkModel",
      "state": {
       "source": [
        "IPY_MODEL_bd655adf94c44284abed54575bed32ce",
        "value"
       ],
       "target": [
        "IPY_MODEL_f852da755a0f42f6a1eeb9a705900821",
        "value"
       ]
      }
     },
     "e6ce5952d7994d448cdc84a02e102edf": {
      "model_module": "@jupyter-widgets/controls",
      "model_module_version": "1.5.0",
      "model_name": "DescriptionStyleModel",
      "state": {
       "description_width": ""
      }
     },
     "e80277ee35ff48629f9e94dd92be26f7": {
      "model_module": "@jupyter-widgets/controls",
      "model_module_version": "1.5.0",
      "model_name": "DescriptionStyleModel",
      "state": {
       "description_width": ""
      }
     },
     "e8169d6327df4c029ef4616ee6ab116f": {
      "model_module": "@jupyter-widgets/controls",
      "model_module_version": "1.5.0",
      "model_name": "ButtonStyleModel",
      "state": {}
     },
     "edf7f0528c8c4559b79ef597f73fc179": {
      "model_module": "@jupyter-widgets/controls",
      "model_module_version": "1.5.0",
      "model_name": "CheckboxModel",
      "state": {
       "description": "Show force",
       "disabled": false,
       "layout": "IPY_MODEL_404cbe6a48964dbe8b589fe8e1586967",
       "style": "IPY_MODEL_e80277ee35ff48629f9e94dd92be26f7",
       "value": false
      }
     },
     "ee6e27f56eab4d0798c0d58c1cb9406b": {
      "model_module": "@jupyter-widgets/controls",
      "model_module_version": "1.5.0",
      "model_name": "ButtonModel",
      "state": {
       "icon": "compress",
       "layout": "IPY_MODEL_7dabefeab0eb4cfa8818eb256131149d",
       "style": "IPY_MODEL_11f8588258d14d9bb30bbb8508105f9a"
      }
     },
     "efa7d42b481949d1999076ef94c9a0ec": {
      "model_module": "@jupyter-widgets/base",
      "model_module_version": "1.2.0",
      "model_name": "LayoutModel",
      "state": {}
     },
     "f18719358653429d99a97135d12591e6": {
      "model_module": "@jupyter-widgets/base",
      "model_module_version": "1.2.0",
      "model_name": "LayoutModel",
      "state": {}
     },
     "f68f106449774a74bcc7f9a739a05320": {
      "model_module": "@jupyter-widgets/controls",
      "model_module_version": "1.5.0",
      "model_name": "DescriptionStyleModel",
      "state": {
       "description_width": ""
      }
     },
     "f850bd05c24f44e182618c0c99d6a4aa": {
      "model_module": "@jupyter-widgets/controls",
      "model_module_version": "1.5.0",
      "model_name": "DescriptionStyleModel",
      "state": {
       "description_width": ""
      }
     },
     "f852da755a0f42f6a1eeb9a705900821": {
      "model_module": "@jupyter-widgets/controls",
      "model_module_version": "1.5.0",
      "model_name": "IntSliderModel",
      "state": {
       "layout": "IPY_MODEL_b82c3b2285d6474c8e138e751fcd664f",
       "max": 0,
       "style": "IPY_MODEL_5bed4ad399a8497582717e8fd749516c"
      }
     },
     "f92f1771614942b980418a2ff6ac7e1c": {
      "model_module": "@jupyter-widgets/controls",
      "model_module_version": "1.5.0",
      "model_name": "ButtonStyleModel",
      "state": {}
     },
     "fc36222b78534a119cdd83e51b83a72f": {
      "model_module": "@jupyter-widgets/controls",
      "model_module_version": "1.5.0",
      "model_name": "IntSliderModel",
      "state": {
       "layout": "IPY_MODEL_987053f9c6c445dcb9d6caf754500312",
       "max": 1,
       "style": "IPY_MODEL_1399b3c03e1740eb8debd9ca8fbc14e6"
      }
     },
     "fe268d683107420a98c8a18d06f93ead": {
      "model_module": "@jupyter-widgets/base",
      "model_module_version": "1.2.0",
      "model_name": "LayoutModel",
      "state": {
       "border": "0px solid black"
      }
     },
     "ff7a3d2ced044adbb099bcbc3aea4f5b": {
      "model_module": "@jupyter-widgets/output",
      "model_module_version": "1.0.0",
      "model_name": "OutputModel",
      "state": {
       "layout": "IPY_MODEL_6a829a2e30944841a7357b90da78a944"
      }
     },
     "ff9b46d6b27d4777bd7e28aa0eee5164": {
      "model_module": "@jupyter-widgets/controls",
      "model_module_version": "1.5.0",
      "model_name": "ButtonModel",
      "state": {
       "description": "Save image",
       "layout": "IPY_MODEL_c236480c6a08423cb12ed673adb2d577",
       "style": "IPY_MODEL_ae4e06ce2f66450aab4bb10a9b0f09ce",
       "tooltip": "Save current frame to file.\nCurrently .png and .html are supported.\nIt takes a bit time, please be patient."
      }
     }
    },
    "version_major": 2,
    "version_minor": 0
   }
  }
 },
 "nbformat": 4,
 "nbformat_minor": 5
}
