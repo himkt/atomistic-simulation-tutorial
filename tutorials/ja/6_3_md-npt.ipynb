{
 "cells": [
  {
   "cell_type": "markdown",
   "id": "2dadfc18-5201-40ea-9c56-89354dc29a90",
   "metadata": {},
   "source": [
    "# 等圧等温（NPT）アンサンブル\n",
    "\n",
    "-----\n",
    "## TL;DR\n",
    "\n",
    "- NPT-MDシミュレーションでは圧力と温度が一定に制御される手法で、圧力制御（barostat）に関してはParrinello-Rahman法、Berendsen法の2種類が存在。\n",
    "- 用途としては固体や流体の熱膨張、相転移、加圧状態のシミュレーション等\n",
    "- Parrinello-Rahman法ではシミュレーションのセルの自由度が全て可変。pfactorを適切に設定する必要があり。\n",
    "- Berendsen barostatではBerendsen thermostatと同様、非常に効率的に収束性良く制御可能。Berendsen barostatはセルの角度は固定して各セル長を独立に可変、もしくは各セル長の比率を固定する2つのモードで計算可能。compressibilityを入力パラメーターとして適切に設定が必要。\n",
    "\n",
    "-----\n",
    "\n",
    "このSectionでは圧力と温度の両方が一定となるような平衡状態を作る計算手法について説明します。一般に圧力制御の仕組みはbarostatと呼ばれ、一般にSection 6-2で出てきた熱浴法（thermostat）と同時に用いることで等温等圧アンサンブル（isothermal-isobaric ensemble、またはNPT）と呼ばれる状態分布を生成することを目的としてます。NPT-MDシミュレーションで（原理的に）検討可能な現象には\n",
    "\n",
    "- 固体の熱膨張率\n",
    "- 融点の予測\n",
    "- 固体の相転移\n",
    "- 流体（ガス、液体）の密度予測\n",
    "\n",
    "etc.\n",
    "\n",
    "が考えられます。*原理的*にという枕詞がついている理由は、これらの現象の再現性は計算に用いる力場の精度に大きく依存するためで、特に小さなエネルギー差に依存する分子間力や流体の状態予測は非常に難しいことが知られているからです。本チュートリアルでは比較的精度が高いと考えられる固体の事例を通してNPT-MDについて学んでいきます。\n",
    "\n",
    "まずは本チュートリアルで利用する[ASEに実装されているNPT-MDの手法](https://wiki.fysik.dtu.dk/ase/ase/md.html#module-ase.md.npt)について確認します。2022年6月現在、ASEで標準的に利用可能な実装は以下の3種類が存在します。\n",
    "\n",
    "| クラス名 | ensemble | パラメーター | 熱浴 | 圧力制御 | コメント |\n",
    "|----------|----------|-------------|------|------|----------|\n",
    "| NPT | NPT | 時定数($\\tau_t$),圧力因子(*pfactor*) | Nosé–Hoover|Parrinello-Rahman| セルの全自由度が可変、制御可能 |\n",
    "| NPTBerendsen | NPT | $\\tau_t$,$\\tau_P$,$\\beta_T$ | Berendsen|Berendsen| セル形状は維持し体積変化のみ|\n",
    "| InhomogeneousBerendsen | NPT | $\\tau_t$,$\\tau_P$,$\\beta_T$ | Berendsen|Berendsen| セル角度は保持するが、圧力の異方性は考慮可能|\n",
    "\n",
    "表中の２番目と３番目の手法はBerendsen barostatで本質的に同じものです。（ちなみに3番目の手法であるInhomogeneousBerendsenはASEのマニュアルで記載はないのですが、NPTBerendsenとともにASEのなかでクラスが定義されています。）したがって、ASEのフレームワーク内で使える機能としてはParrinello-Rahman法とBerendsen法の２種類のみになります。熱浴自体はSection 6-2で解説した手法が用いられているので、これらの熱浴法の特徴をよく考慮する必要があります。\n",
    "\n",
    "それではまず、系の自由度と汎用性が比較的高いParrinnello-Rahman法を見てみましょう。"
   ]
  },
  {
   "cell_type": "markdown",
   "id": "534a553c-dff9-47ac-b4e3-e3d29f718879",
   "metadata": {},
   "source": [
    "## Parrinello-Rahman法の運動方程式\n",
    "\n",
    "Parrinello-Rahman法はいわゆる拡張系の計算手法で、Nosé–Hoover熱浴法の時のように、計算対象の系が仮想的に外部の一定温度、一定圧力の系と接続されていることを仮定します。この場合の運動方程式は下記のように記述されます。（導出の詳細については参考文献[1-3]をご確認ください。）\n",
    "\n",
    "$$ \\dot{\\mathbf{x}_i} = \\mathbf{p}_i/m_i + \\eta(\\mathbf{x}_i-\\mathbf{R}_o) $$\n",
    "\n",
    "$$ \\dot{\\mathbf{p}_i} = \\mathbf{F_i}-(\\eta+\\zeta)\\mathbf{p}_i $$\n",
    "\n",
    "$$ \\dot{\\zeta} = \\frac{1}{\\tau_T^2}\\left(\\frac{T(t)}{T_o}-1\\right)-3\\eta\\zeta $$\n",
    "\n",
    "$$ \\dot{s} = 3(N-1) s\\zeta $$\n",
    "\n",
    "$$ \\dot{\\mathbf{\\eta}} = \\frac{V}{\\tau_P^2Nk_BT_o}\\left(\\mathbf{P(t)}-P_o\\mathbf{I}\\right)+3\\frac{\\tau_T^2}{\\tau_P^2}\\zeta^2\\mathbf{I}$$\n",
    "\n",
    "$$ \\dot{\\mathbf{h}}=\\mathbf{\\eta}\\mathbf{h} $$\n",
    "\n",
    "\n",
    "ここでNosé–Hoover熱浴以外の項に限定すると、圧力制御の時定数$\\tau_P$、系の重心$R_o$, 目標の外圧$P_o$,シミュレーションセル体積$V$があります。$\\eta$が圧力制御自由度を表す変数になっています。$\\mathbf{h} = (\\mathbf{a}, \\mathbf{b}, \\mathbf{c})$で$\\mathbf{a},\\mathbf{b},\\mathbf{c}$はそれぞれシミュレーションセルの各辺を定義するセルベクトルです。\n",
    "\n",
    "上記の方程式で温度$T_o$や圧力$A_o$以外にユーザーが設定しなければいけない値は$\\tau_T$と$\\tau_P$の2つがあります。それではまず、単純に$\\tau_T$と$\\tau_P$にを任意の値に設定した場合を以下に示します。ここで$\\tau_T$を20 fsecとしています。$\\tau_P$を直接指定しませんが、pfactorと呼ばれる値が$\\tau_p^2B$となります。$B$はbulk modulusを指しており、この値をあらかじめ計算して指定する必要があります。しかし、$\\tau_P$自体の正確な値が事前にわからないのでpfactorを特定する術がありません。また$B$の値も異方性を示す構造や異なるタイプの物質が混在する際は計算しようがありません。したがって、pfactorそのものの概ねの値を設定してbarostatの挙動を調べます。以下の例でも言及しますが、少なくとも金属の結晶系では約10$^6$  GPa$\\cdot$fs$^2$ から10$^7$  GPa$\\cdot$fs$^2$ のオーダーの値を用いると計算が安定して収束性も良いようです。それ以外の材料となる場合は念のため事前検討としてpfactorの値と体積変化の様子を確認しておくことをオススメします。"
   ]
  },
  {
   "cell_type": "markdown",
   "id": "6d6db92c-a9c6-447f-958f-eb976323bb3b",
   "metadata": {},
   "source": [
    "## 計算事例：熱膨張係数の計算\n",
    "\n",
    "それではNPTアンサンブルの計算事例としてNosé–Hoover thermostatとParrinello-Rahman barostat（[ASEのNPTクラス](https://wiki.fysik.dtu.dk/ase/ase/md.html#module-ase.md.npt)）を使って固体の熱膨張係数を計算してみます。温度を変化させながら熱平衡状態を作り出し、その時の格子定数の平均値から各温度における熱膨張係数を算出します。\n",
    "\n",
    "今回は簡単のためfcc-Cuを用いて計算を行います。計算に用いられるスクリプトは以下のとおりです。温度は200 Kから1000 Kまで100 K刻み、外圧は1 barとします。対象の構造はfcc-Cuを3x3x3 unit cellsに拡張して108原子で計算を行います。以下では高速性のためASAP3-EMT力場を用いていますが、PFPで計算する場合も全く同様です。時間ステップは1 fsで20 psのシミュレーションで十分に平衡状態に達します。"
   ]
  },
  {
   "cell_type": "code",
   "execution_count": 1,
   "id": "b7a9212a-63ed-4925-a558-b544cfcd274a",
   "metadata": {
    "tags": []
   },
   "outputs": [
    {
     "name": "stdout",
     "output_type": "stream",
     "text": [
      "atoms_in =  Atoms(symbols='Cu108', pbc=True, cell=[10.83, 10.83, 10.83])\n",
      "i,temperature =  0 200\n",
      "sigma = 1.0e+00 bar\n",
      "ttime = 20.000 fs\n",
      "pfactor = 2000000.000 GPa*fs^2\n",
      "log_filename =  ./output/ch6/fcc-Cu_3x3x3_NPT_EMT_0200K.log\n",
      "traj_filename =  ./output/ch6/fcc-Cu_3x3x3_NPT_EMT_0200K.traj\n",
      "    imd     Etot(eV)    T(K)    stress(mean,xx,yy,zz,yz,xz,xy)(GPa)  elapsed_time(sec)\n",
      "  1000   3.496    151.13    1.13  1.05  1.24  1.09  0.24  0.19  -0.05    1.264\n",
      "  2000   3.880    160.90    0.98  1.26  0.92  0.76  0.11  0.21  0.13    2.205\n",
      "  3000   4.490    194.60    0.79  1.39  0.61  0.36  -0.18  0.24  0.32    3.192\n",
      "  4000   4.334    179.15    0.32  0.69  0.08  0.18  -0.23  0.39  0.07    4.107\n",
      "  5000   4.756    176.63    0.24  0.25  0.09  0.37  -0.23  0.35  0.14    5.040\n",
      "  6000   4.899    191.10    0.37  0.00  0.47  0.65  -0.32  0.27  0.21    5.979\n",
      "  7000   5.522    183.53    -0.06  -0.32  0.13  0.01  -0.39  0.15  0.34    6.921\n",
      "  8000   6.103    204.25    -0.35  -0.51  -0.25  -0.30  -0.06  0.22  0.24    7.829\n",
      "  9000   5.794    223.92    -0.08  0.04  -0.15  -0.12  -0.27  0.01  -0.10    8.826\n",
      "  10000   5.014    184.72    0.15  0.40  -0.06  0.10  -0.07  0.18  -0.03    9.747\n",
      "  11000   5.188    191.16    -0.13  -0.23  0.01  -0.16  -0.00  -0.01  -0.17    10.664\n",
      "  12000   5.515    215.11    -0.21  -0.45  -0.04  -0.13  0.18  -0.10  -0.20    11.747\n",
      "  13000   4.935    161.71    0.05  -0.06  0.11  0.10  0.47  -0.16  -0.59    12.748\n",
      "  14000   5.352    190.31    0.18  0.23  0.06  0.25  0.34  -0.15  -0.46    13.649\n",
      "  15000   5.544    211.03    0.21  0.45  0.18  -0.01  0.28  0.06  -0.57    14.558\n",
      "  16000   4.995    190.86    0.29  0.34  0.46  0.08  0.19  -0.31  -0.64    15.461\n",
      "  17000   5.416    190.92    -0.04  -0.19  0.28  -0.21  0.25  -0.36  -0.39    16.397\n",
      "  18000   5.725    216.98    -0.13  -0.32  -0.05  -0.02  0.43  -0.12  -0.09    17.318\n",
      "  19000   5.089    188.42    0.12  0.01  -0.02  0.38  0.53  -0.26  -0.47    18.392\n",
      "  20000   5.615    179.91    -0.10  -0.11  -0.17  -0.03  0.36  -0.02  -0.61    19.305\n",
      "i,temperature =  1 300\n",
      "sigma = 1.0e+00 bar\n",
      "ttime = 20.000 fs\n",
      "pfactor = 2000000.000 GPa*fs^2\n",
      "log_filename =  ./output/ch6/fcc-Cu_3x3x3_NPT_EMT_0300K.log\n",
      "traj_filename =  ./output/ch6/fcc-Cu_3x3x3_NPT_EMT_0300K.traj\n",
      "    imd     Etot(eV)    T(K)    stress(mean,xx,yy,zz,yz,xz,xy)(GPa)  elapsed_time(sec)\n",
      "  1000   6.481    249.54    0.19  0.02  0.71  -0.15  -0.22  -0.08  -0.25    0.910\n",
      "  2000   7.770    320.07    1.55  0.95  2.24  1.45  -0.17  -0.40  -0.41    1.915\n",
      "  3000   8.552    311.91    1.60  1.26  1.45  2.08  -0.30  -0.66  -0.17    2.850\n",
      "  4000   8.656    280.34    0.42  0.61  -0.06  0.72  -0.30  -0.56  -0.10    3.775\n",
      "  5000   8.401    262.10    -1.14  -0.72  -1.53  -1.18  -0.21  -0.31  0.07    4.684\n",
      "  6000   7.577    249.66    -1.61  -1.59  -1.38  -1.86  -0.01  -0.43  0.09    5.649\n",
      "  7000   7.547    278.81    -0.70  -0.96  -0.08  -1.04  0.29  -0.59  -0.08    6.577\n",
      "  8000   7.956    256.95    0.70  0.42  0.90  0.79  0.06  -0.51  -0.11    7.502\n",
      "  9000   9.090    356.74    1.58  1.84  1.02  1.87  0.31  -0.37  -0.09    8.455\n",
      "  10000   8.805    325.63    1.13  1.26  0.76  1.36  0.43  -0.42  -0.03    9.484\n",
      "  11000   8.423    321.93    -0.32  -0.04  -0.40  -0.51  0.65  -0.31  0.34    10.406\n",
      "  12000   7.979    293.63    -1.47  -1.86  -0.84  -1.71  0.14  -0.23  -0.18    11.338\n",
      "  13000   8.125    306.47    -1.15  -1.36  -0.78  -1.30  0.71  -0.21  -0.38    12.349\n",
      "  14000   7.383    273.00    0.52  0.53  0.23  0.80  0.57  -0.32  -0.55    13.312\n",
      "  15000   8.799    289.46    1.21  1.37  0.78  1.50  0.51  -0.03  -0.54    14.230\n",
      "  16000   9.589    309.70    0.95  1.21  0.92  0.72  0.23  -0.47  -0.16    15.163\n",
      "  17000   7.956    263.29    0.34  0.76  0.55  -0.29  0.46  -0.33  -0.30    16.072\n",
      "  18000   7.841    292.12    -0.90  -0.90  -0.37  -1.42  0.84  0.21  -0.30    17.027\n",
      "  19000   8.182    308.72    -1.54  -1.86  -1.75  -1.01  0.87  -0.01  -0.09    17.944\n",
      "  20000   8.158    311.34    -0.30  -0.64  -0.90  0.63  0.68  -0.18  -0.22    18.927\n",
      "i,temperature =  2 400\n",
      "sigma = 1.0e+00 bar\n",
      "ttime = 20.000 fs\n",
      "pfactor = 2000000.000 GPa*fs^2\n",
      "log_filename =  ./output/ch6/fcc-Cu_3x3x3_NPT_EMT_0400K.log\n",
      "traj_filename =  ./output/ch6/fcc-Cu_3x3x3_NPT_EMT_0400K.traj\n",
      "    imd     Etot(eV)    T(K)    stress(mean,xx,yy,zz,yz,xz,xy)(GPa)  elapsed_time(sec)\n",
      "  1000   9.151    359.04    -0.44  -0.48  -0.50  -0.35  -0.12  0.05  -0.17    0.986\n",
      "  2000   10.168    414.51    1.91  1.71  1.69  2.33  0.06  -0.51  -0.12    1.960\n",
      "  3000   11.054    383.05    2.96  3.28  2.70  2.91  0.21  -0.01  -0.31    2.950\n",
      "  4000   12.236    415.30    2.13  1.92  2.28  2.20  0.30  0.10  -0.07    3.931\n",
      "  5000   10.893    407.75    0.71  1.09  0.64  0.40  0.43  -0.11  0.17    4.880\n",
      "  6000   10.459    383.77    -1.56  -1.44  -1.33  -1.90  0.71  -0.59  -0.11    5.828\n",
      "  7000   11.618    361.56    -3.40  -3.44  -3.50  -3.25  0.26  0.14  -0.35    6.758\n",
      "  8000   11.179    376.76    -1.90  -2.25  -2.25  -1.20  0.90  -0.14  0.28    7.707\n",
      "  9000   10.327    364.35    0.81  0.67  0.88  0.89  0.39  0.59  -0.03    8.647\n",
      "  10000   10.564    313.23    2.14  2.12  2.53  1.78  0.47  0.60  0.10    9.583\n",
      "  11000   11.737    364.89    1.94  2.06  2.24  1.51  0.43  1.10  -0.03    10.629\n",
      "  12000   11.270    402.65    0.76  0.86  0.76  0.68  0.47  0.79  0.32    11.548\n",
      "  13000   11.778    425.09    -1.48  -1.89  -1.49  -1.07  0.43  0.99  0.31    12.488\n",
      "  14000   10.458    395.41    -1.78  -2.32  -1.60  -1.41  -0.15  0.42  0.16    13.503\n",
      "  15000   10.214    359.24    -1.39  -1.23  -1.18  -1.77  -0.06  0.44  0.13    14.436\n",
      "  16000   11.135    372.20    -0.05  0.80  -0.27  -0.68  0.02  0.38  -0.12    15.351\n",
      "  17000   10.450    349.09    1.70  2.12  1.49  1.50  0.34  0.74  -0.31    16.288\n",
      "  18000   11.133    357.19    2.01  1.40  2.30  2.33  -0.04  1.01  -0.32    17.222\n",
      "  19000   11.507    382.73    1.08  0.20  1.44  1.60  -0.05  0.74  0.22    18.202\n",
      "  20000   11.558    398.76    -0.31  -0.16  -0.61  -0.15  -0.17  1.06  -0.02    19.122\n",
      "i,temperature =  3 500\n",
      "sigma = 1.0e+00 bar\n",
      "ttime = 20.000 fs\n",
      "pfactor = 2000000.000 GPa*fs^2\n",
      "log_filename =  ./output/ch6/fcc-Cu_3x3x3_NPT_EMT_0500K.log\n",
      "traj_filename =  ./output/ch6/fcc-Cu_3x3x3_NPT_EMT_0500K.traj\n",
      "    imd     Etot(eV)    T(K)    stress(mean,xx,yy,zz,yz,xz,xy)(GPa)  elapsed_time(sec)\n",
      "  1000   12.211    463.96    -1.66  -1.81  -1.31  -1.84  0.06  -0.20  -0.05    1.050\n",
      "  2000   13.033    507.60    -0.08  -0.28  -0.38  0.43  -0.09  -0.01  -0.52    2.015\n",
      "  3000   13.195    500.37    1.74  1.49  1.59  2.15  -0.20  0.48  -1.01    2.945\n",
      "  4000   14.365    452.17    2.42  2.54  2.22  2.49  -0.56  0.62  -0.46    3.996\n",
      "  5000   15.638    531.84    2.44  2.91  2.23  2.16  -0.30  0.72  -0.21    4.923\n",
      "  6000   13.128    437.52    2.17  2.20  2.28  2.02  -0.10  0.57  0.23    5.893\n",
      "  7000   15.017    524.18    -0.17  -0.46  -0.16  0.11  0.07  0.96  0.05    6.835\n",
      "  8000   15.061    553.04    -2.03  -2.32  -2.09  -1.67  -0.52  1.72  -0.34    7.801\n",
      "  9000   13.678    452.87    -2.71  -2.73  -2.63  -2.78  -0.16  0.90  -0.54    8.759\n",
      "  10000   12.666    442.82    -1.92  -1.78  -1.66  -2.32  0.40  1.37  0.07    9.696\n",
      "  11000   14.157    479.68    -1.05  -1.45  -0.48  -1.23  -0.39  1.31  -0.42    10.637\n",
      "  12000   15.099    513.50    0.63  0.48  0.63  0.77  0.04  1.47  -0.53    11.663\n",
      "  13000   13.596    490.87    2.83  2.94  2.51  3.05  -0.32  0.99  -0.44    12.612\n",
      "  14000   15.932    504.46    1.63  1.09  2.25  1.53  -0.65  0.58  0.05    13.605\n",
      "  15000   13.823    469.35    1.48  1.22  2.13  1.09  -0.78  1.08  -0.50    14.584\n",
      "  16000   14.101    489.82    -0.61  -0.81  -0.88  -0.14  -1.09  0.94  -0.40    15.526\n",
      "  17000   12.644    465.33    -1.54  -1.44  -1.88  -1.31  -0.24  0.57  -1.14    16.441\n",
      "  18000   13.236    506.07    -1.94  -1.34  -2.12  -2.38  -0.17  0.63  -1.62    17.516\n",
      "  19000   15.576    560.73    -2.84  -2.65  -2.47  -3.41  -0.23  -0.15  -0.82    18.499\n",
      "  20000   14.574    537.79    -0.92  -1.02  -0.94  -0.80  0.29  0.21  -0.26    19.426\n",
      "i,temperature =  4 600\n",
      "sigma = 1.0e+00 bar\n",
      "ttime = 20.000 fs\n",
      "pfactor = 2000000.000 GPa*fs^2\n",
      "log_filename =  ./output/ch6/fcc-Cu_3x3x3_NPT_EMT_0600K.log\n",
      "traj_filename =  ./output/ch6/fcc-Cu_3x3x3_NPT_EMT_0600K.traj\n",
      "    imd     Etot(eV)    T(K)    stress(mean,xx,yy,zz,yz,xz,xy)(GPa)  elapsed_time(sec)\n",
      "  1000   16.936    634.23    -4.91  -4.23  -5.21  -5.30  0.05  -0.96  0.43    0.939\n",
      "  2000   16.704    563.98    -3.91  -3.87  -3.96  -3.91  -0.07  -0.94  0.06    1.956\n",
      "  3000   16.131    586.43    -0.73  -1.44  -0.45  -0.29  -0.19  -0.11  0.04    2.884\n",
      "  4000   16.750    549.21    1.57  1.09  1.96  1.67  -0.10  -0.84  0.15    3.819\n",
      "  5000   16.363    519.25    3.68  3.39  3.75  3.88  0.15  -0.72  0.50    4.827\n",
      "  6000   17.644    541.53    4.05  4.38  3.68  4.08  1.13  0.01  0.23    5.791\n",
      "  7000   21.178    728.64    3.16  3.49  2.96  3.04  0.10  -0.31  0.60    6.731\n",
      "  8000   19.269    674.68    3.14  2.85  3.74  2.82  0.68  -0.22  0.75    7.659\n",
      "  9000   18.923    594.76    1.62  1.62  2.00  1.24  0.31  -0.76  -0.10    8.587\n",
      "  10000   17.931    543.13    -0.14  -0.22  -0.41  0.21  -0.22  -0.63  0.28    9.555\n",
      "  11000   17.368    543.16    -1.63  -1.60  -2.53  -0.75  0.11  -0.76  -0.26    10.503\n",
      "  12000   17.441    632.12    -2.95  -3.45  -3.00  -2.40  -0.34  -0.14  -0.62    11.587\n",
      "  13000   15.772    577.29    -3.27  -3.65  -2.57  -3.58  -0.92  -1.53  -0.62    12.539\n",
      "  14000   17.345    620.69    -3.77  -3.47  -3.67  -4.19  -0.50  -2.28  -1.23    13.498\n",
      "  15000   16.557    600.95    -2.28  -0.88  -3.10  -2.85  -0.62  -2.02  -0.88    14.527\n",
      "  16000   17.641    545.16    -2.06  -2.37  -2.46  -1.35  -0.95  -1.74  -0.78    15.466\n",
      "  17000   17.338    600.31    0.30  -0.82  0.82  0.90  -0.60  -1.32  -1.41    16.533\n",
      "  18000   18.114    555.34    0.83  0.24  1.54  0.71  -0.77  -1.53  -0.66    17.480\n",
      "  19000   17.687    575.65    2.86  3.80  2.37  2.42  0.28  -1.61  -0.48    18.494\n",
      "  20000   18.338    580.82    2.59  3.15  2.05  2.57  -0.34  -1.24  -0.27    19.470\n",
      "i,temperature =  5 700\n",
      "sigma = 1.0e+00 bar\n",
      "ttime = 20.000 fs\n",
      "pfactor = 2000000.000 GPa*fs^2\n",
      "log_filename =  ./output/ch6/fcc-Cu_3x3x3_NPT_EMT_0700K.log\n",
      "traj_filename =  ./output/ch6/fcc-Cu_3x3x3_NPT_EMT_0700K.traj\n",
      "    imd     Etot(eV)    T(K)    stress(mean,xx,yy,zz,yz,xz,xy)(GPa)  elapsed_time(sec)\n",
      "  1000   18.613    657.41    -5.74  -5.56  -6.15  -5.51  1.01  -0.64  0.11    0.933\n",
      "  2000   19.602    680.86    -5.92  -6.15  -5.66  -5.96  0.65  -0.61  0.17    1.900\n",
      "  3000   19.670    725.41    -4.53  -4.45  -4.22  -4.92  0.78  -0.36  0.09    2.905\n",
      "  4000   18.650    669.90    -3.97  -3.67  -3.98  -4.27  -0.02  0.37  -0.41    3.854\n",
      "  5000   20.514    781.53    -3.49  -3.53  -3.55  -3.39  0.06  -0.27  -0.10    4.815\n",
      "  6000   18.110    614.70    -2.79  -2.86  -2.54  -2.98  -0.09  -0.37  -1.08    5.868\n",
      "  7000   17.304    557.90    -1.65  -1.72  -1.35  -1.89  0.44  -0.12  -0.81    6.813\n",
      "  8000   21.162    731.01    -1.29  -1.48  -1.34  -1.05  0.14  0.73  -0.79    7.732\n",
      "  9000   21.423    737.24    -0.37  -0.24  -0.55  -0.32  -0.14  -0.23  -0.58    8.736\n",
      "  10000   18.616    616.30    1.30  1.66  1.42  0.82  0.09  0.27  -0.39    9.705\n",
      "  11000   20.285    681.33    1.52  1.60  2.11  0.86  -0.28  0.04  -0.58    10.707\n",
      "  12000   18.658    649.21    2.37  2.31  2.52  2.28  -0.56  0.32  -0.15    11.681\n",
      "  13000   22.546    681.69    1.02  1.67  0.29  1.09  1.12  -0.20  -0.01    12.713\n",
      "  14000   22.215    777.36    1.82  2.01  0.53  2.94  0.69  -0.02  -0.33    13.717\n",
      "  15000   20.676    658.78    2.34  2.32  2.30  2.41  0.41  0.59  0.29    14.681\n",
      "  16000   22.091    797.38    2.42  2.38  3.13  1.75  -0.27  0.24  0.02    15.782\n",
      "  17000   19.864    657.12    1.83  2.38  2.03  1.08  0.25  0.37  -0.28    16.740\n",
      "  18000   21.742    689.18    0.35  -0.21  -0.12  1.39  0.04  0.03  -0.59    17.671\n",
      "  19000   19.799    620.07    0.97  0.38  1.26  1.28  0.50  -0.96  -1.21    18.622\n",
      "  20000   20.521    714.00    0.01  0.18  0.56  -0.72  1.07  -1.33  -0.32    19.546\n",
      "i,temperature =  6 800\n",
      "sigma = 1.0e+00 bar\n",
      "ttime = 20.000 fs\n",
      "pfactor = 2000000.000 GPa*fs^2\n",
      "log_filename =  ./output/ch6/fcc-Cu_3x3x3_NPT_EMT_0800K.log\n",
      "traj_filename =  ./output/ch6/fcc-Cu_3x3x3_NPT_EMT_0800K.traj\n",
      "    imd     Etot(eV)    T(K)    stress(mean,xx,yy,zz,yz,xz,xy)(GPa)  elapsed_time(sec)\n",
      "  1000   22.445    858.32    -7.64  -7.01  -8.99  -6.91  1.17  0.57  -0.61    0.957\n",
      "  2000   22.476    830.11    -5.90  -5.74  -6.04  -5.94  2.21  0.72  0.06    1.914\n",
      "  3000   22.971    837.74    -4.06  -3.92  -3.28  -4.99  2.69  -0.16  1.86    2.967\n",
      "  4000   22.862    782.05    -3.33  -3.08  -3.79  -3.11  3.21  -0.15  1.91    3.913\n",
      "  5000   22.894    802.25    -3.38  -2.89  -3.76  -3.49  1.33  0.34  2.41    4.872\n",
      "  6000   24.036    862.05    -2.74  -2.50  -1.81  -3.89  0.54  -0.84  1.36    5.907\n",
      "  7000   22.530    751.16    -1.26  -0.58  -1.67  -1.53  -0.66  0.23  1.43    6.871\n",
      "  8000   22.533    768.68    -0.63  -0.63  -1.14  -0.12  -0.35  0.06  1.84    7.865\n",
      "  9000   20.803    655.15    -0.27  -0.73  -0.01  -0.08  -0.62  0.08  1.32    8.942\n",
      "  10000   24.121    868.52    0.11  -0.90  1.16  0.08  -1.07  -0.10  1.55    9.878\n",
      "  11000   23.277    778.15    0.20  0.09  0.78  -0.27  -0.10  0.35  1.50    10.838\n",
      "  12000   24.033    741.82    0.36  0.95  0.15  -0.02  -0.96  0.77  1.55    11.765\n",
      "  13000   23.554    818.98    0.39  0.52  0.18  0.46  -0.07  1.67  1.34    12.803\n",
      "  14000   25.885    803.39    -1.45  -2.51  -0.83  -1.02  0.37  0.82  0.89    13.737\n",
      "  15000   23.046    700.16    -0.78  -1.79  -0.03  -0.53  0.14  0.61  0.51    14.665\n",
      "  16000   23.026    820.93    0.05  0.68  -0.12  -0.41  -0.36  0.96  -0.55    15.701\n",
      "  17000   22.496    718.67    0.27  1.57  -0.46  -0.30  0.13  -0.34  -1.14    16.642\n",
      "  18000   24.163    863.53    -0.38  -0.91  0.19  -0.41  0.25  -0.67  -1.74    17.659\n",
      "  19000   24.075    750.81    -0.36  -1.25  -0.12  0.27  0.71  -0.13  -1.67    18.672\n",
      "  20000   22.734    782.73    0.41  0.07  0.38  0.78  0.10  -0.04  -1.28    19.590\n",
      "i,temperature =  7 900\n",
      "sigma = 1.0e+00 bar\n",
      "ttime = 20.000 fs\n",
      "pfactor = 2000000.000 GPa*fs^2\n",
      "log_filename =  ./output/ch6/fcc-Cu_3x3x3_NPT_EMT_0900K.log\n",
      "traj_filename =  ./output/ch6/fcc-Cu_3x3x3_NPT_EMT_0900K.traj\n",
      "    imd     Etot(eV)    T(K)    stress(mean,xx,yy,zz,yz,xz,xy)(GPa)  elapsed_time(sec)\n",
      "  1000   24.071    892.01    -4.55  -5.98  -4.46  -3.22  -1.22  -0.27  1.38    0.960\n",
      "  2000   29.003    972.22    -0.66  -0.65  -1.11  -0.24  -1.11  0.27  1.30    1.957\n",
      "  3000   27.605    801.26    2.88  3.51  2.67  2.47  -0.61  -0.90  -0.04    3.003\n",
      "  4000   30.038    802.26    3.78  3.97  3.90  3.47  -0.28  -0.08  0.90    3.929\n",
      "  5000   30.765    874.75    5.11  5.51  4.80  5.02  -0.27  -0.01  -0.07    4.869\n",
      "  6000   30.050    837.93    2.98  2.71  2.74  3.47  -0.09  -0.19  0.79    5.959\n",
      "  7000   28.639    976.99    1.51  1.42  1.63  1.46  0.32  -0.27  0.33    6.918\n",
      "  8000   25.885    869.27    -0.75  0.19  -1.02  -1.43  0.33  -0.59  -1.25    7.854\n",
      "  9000   25.454    902.32    -1.96  -1.61  -3.15  -1.13  0.99  -1.10  -1.49    8.836\n",
      "  10000   24.964    891.99    -2.69  -2.56  -2.69  -2.81  1.47  0.15  -0.61    9.764\n",
      "  11000   26.179    965.23    -2.74  -2.60  -1.95  -3.68  1.65  0.10  -0.57    10.742\n",
      "  12000   26.527    916.83    -3.47  -3.41  -3.56  -3.43  -0.05  -0.12  0.03    11.694\n",
      "  13000   27.893    899.72    -3.03  -3.24  -3.74  -2.12  2.17  1.60  -0.01    12.656\n",
      "  14000   28.042    983.89    -3.04  -3.28  -2.68  -3.16  0.72  0.84  -0.42    13.702\n",
      "  15000   24.270    857.54    -0.05  -0.54  0.95  -0.54  1.07  -1.41  0.25    14.636\n",
      "  16000   26.537    919.64    0.52  -0.12  0.43  1.24  0.81  -1.13  -0.42    15.595\n",
      "  17000   25.644    769.89    0.64  0.81  0.01  1.10  0.98  -0.23  0.33    16.696\n",
      "  18000   28.090    826.82    1.85  1.34  3.08  1.13  0.38  -0.34  0.28    17.684\n",
      "  19000   27.627    923.75    1.94  2.41  1.35  2.05  0.05  -1.47  1.37    18.627\n",
      "  20000   26.895    881.73    1.56  0.80  0.78  3.11  -0.20  -0.83  -0.60    19.650\n",
      "i,temperature =  8 1000\n",
      "sigma = 1.0e+00 bar\n",
      "ttime = 20.000 fs\n",
      "pfactor = 2000000.000 GPa*fs^2\n",
      "log_filename =  ./output/ch6/fcc-Cu_3x3x3_NPT_EMT_1000K.log\n",
      "traj_filename =  ./output/ch6/fcc-Cu_3x3x3_NPT_EMT_1000K.traj\n",
      "    imd     Etot(eV)    T(K)    stress(mean,xx,yy,zz,yz,xz,xy)(GPa)  elapsed_time(sec)\n",
      "  1000   28.792    1016.13    -1.31  -1.80  -1.18  -0.96  -1.49  0.57  1.00    0.928\n",
      "  2000   36.567    1136.26    2.69  3.02  1.99  3.07  -0.70  0.27  0.93    1.875\n",
      "  3000   33.380    1070.99    2.99  2.32  3.37  3.27  0.24  0.14  -0.10    2.786\n",
      "  4000   32.719    1082.25    0.75  0.77  1.46  0.01  0.43  -0.11  -1.15    3.813\n",
      "  5000   28.249    977.41    -0.24  0.15  -0.94  0.07  0.61  -0.90  -0.64    4.753\n",
      "  6000   28.431    949.52    -1.56  -0.92  -2.21  -1.54  0.37  0.20  0.85    5.688\n",
      "  7000   28.492    964.17    -1.81  -2.13  -1.39  -1.90  -0.72  0.57  -0.36    6.688\n",
      "  8000   31.206    1067.81    -0.91  -0.49  -0.43  -1.82  0.44  1.42  0.94    7.660\n",
      "  9000   28.963    934.00    0.81  0.63  1.32  0.47  1.00  1.29  0.73    8.587\n",
      "  10000   30.313    940.38    0.90  0.44  1.00  1.26  0.39  1.17  0.24    9.616\n",
      "  11000   30.571    968.27    0.01  -0.95  0.78  0.20  -0.51  0.51  -0.34    10.543\n",
      "  12000   27.819    891.49    2.21  2.91  2.30  1.43  0.19  0.14  -0.65    11.502\n",
      "  13000   32.276    967.35    0.03  0.51  -0.06  -0.37  0.24  -1.07  -1.43    12.431\n",
      "  14000   29.390    955.85    0.11  0.32  -0.15  0.15  -1.36  -1.46  -1.26    13.465\n",
      "  15000   25.957    888.65    -1.23  -1.54  -0.52  -1.62  -1.52  -0.43  -0.12    14.393\n",
      "  16000   27.492    1005.06    -1.61  -0.65  -2.16  -2.01  -1.32  -0.71  0.86    15.323\n",
      "  17000   28.065    864.25    -1.80  -2.06  -1.75  -1.58  -0.62  1.46  -0.21    16.322\n",
      "  18000   30.315    957.80    0.56  0.38  0.26  1.04  0.31  1.33  -0.05    17.283\n",
      "  19000   30.890    1028.85    3.14  3.25  3.14  3.03  1.01  0.88  -0.34    18.210\n",
      "  20000   29.817    1023.32    1.93  2.22  2.30  1.27  -0.05  0.72  0.34    19.129\n"
     ]
    }
   ],
   "source": [
    "import ase\n",
    "from ase.build import bulk\n",
    "from ase.md.velocitydistribution import MaxwellBoltzmannDistribution,Stationary\n",
    "from ase.md.npt import NPT\n",
    "from ase.md import MDLogger\n",
    "from ase import units\n",
    "from time import perf_counter\n",
    "\n",
    "calc_type = \"EMT\"\n",
    "# calc_type = \"PFP\"\n",
    "\n",
    "if calc_type == \"EMT\":\n",
    "    # ASAP3-EMT calculator\n",
    "    from asap3 import EMT\n",
    "    calculator = EMT()\n",
    "elif calc_type == \"PFP\":\n",
    "    # PFP calculator\n",
    "    from pfp_api_client.pfp.estimator import Estimator, EstimatorCalcMode\n",
    "    from pfp_api_client.pfp.calculators.ase_calculator import ASECalculator\n",
    "    estimator = Estimator(model_version=\"v2.0.0\",calc_mode=EstimatorCalcMode.CRYSTAL_U0)\n",
    "    calculator = ASECalculator(estimator)\n",
    "else:\n",
    "    raise ValueError(f\"Wrong calc_type = {calc_type}!\")\n",
    "\n",
    "\n",
    "# Set up a crystal\n",
    "atoms_in = bulk(\"Cu\",cubic=True)\n",
    "atoms_in *= 3\n",
    "atoms_in.pbc = True\n",
    "print(\"atoms_in = \",atoms_in)\n",
    "\n",
    "# input parameters\n",
    "time_step    = 1.0    # fsec\n",
    "#temperature = 300    # Kelvin\n",
    "num_md_steps = 20000 \n",
    "num_interval = 10\n",
    "\n",
    "sigma   = 1.0     # External pressure in bar\n",
    "ttime   = 20.0    # Time constant in fs\n",
    "pfactor = 2e6     # Barostat parameter in GPa\n",
    "temperature_list = [200,300,400,500,600,700,800,900,1000]\n",
    "\n",
    "# Print statements\n",
    "def print_dyn():\n",
    "    imd = dyn.get_number_of_steps()\n",
    "    etot  = atoms.get_total_energy()\n",
    "    temp_K = atoms.get_temperature()\n",
    "    stress = atoms.get_stress(include_ideal_gas=True)/units.GPa\n",
    "    stress_ave = (stress[0]+stress[1]+stress[2])/3.0 \n",
    "    elapsed_time = perf_counter() - start_time\n",
    "    print(f\"  {imd: >3}   {etot:.3f}    {temp_K:.2f}    {stress_ave:.2f}  {stress[0]:.2f}  {stress[1]:.2f}  {stress[2]:.2f}  {stress[3]:.2f}  {stress[4]:.2f}  {stress[5]:.2f}    {elapsed_time:.3f}\")\n",
    "\n",
    "    \n",
    "# run MD\n",
    "for i,temperature in enumerate(temperature_list):\n",
    "    print(\"i,temperature = \",i,temperature)\n",
    "\n",
    "    print(f\"sigma = {sigma:.1e} bar\")\n",
    "    print(f\"ttime = {ttime:.3f} fs\")\n",
    "    print(f\"pfactor = {pfactor:.3f} GPa*fs^2\")\n",
    "\n",
    "    temperature_str = str(int(temperature)).zfill(4)\n",
    "    output_filename = f\"./output/ch6/fcc-Cu_3x3x3_NPT_{calc_type}_{temperature_str}K\"\n",
    "    log_filename = output_filename + \".log\"\n",
    "    traj_filename = output_filename + \".traj\"\n",
    "    print(\"log_filename = \",log_filename)\n",
    "    print(\"traj_filename = \",traj_filename)\n",
    "    \n",
    "    atoms = atoms_in.copy()\n",
    "    atoms.calc = calculator\n",
    "    \n",
    "    # Set the momenta corresponding to T=300K\n",
    "    MaxwellBoltzmannDistribution(atoms, temperature_K=temperature,force_temp=True)\n",
    "    Stationary(atoms)\n",
    "    \n",
    "    dyn = NPT(atoms,\n",
    "          time_step*units.fs,\n",
    "          temperature_K = temperature,\n",
    "          externalstress = sigma*units.bar,\n",
    "          ttime = ttime*units.fs,\n",
    "          pfactor = pfactor*units.GPa*(units.fs**2),\n",
    "          logfile = log_filename,\n",
    "          trajectory = traj_filename,\n",
    "          loginterval=num_interval\n",
    "          )\n",
    "    \n",
    "    print_interval = 1000 if calc_type == \"EMT\" else num_interval\n",
    "    dyn.attach(print_dyn, interval=print_interval)\n",
    "    dyn.attach(MDLogger(dyn, atoms, log_filename, header=True, stress=True, peratom=True, mode=\"a\"), interval=num_interval)\n",
    "\n",
    "    # Now run the dynamics\n",
    "    start_time = perf_counter()\n",
    "    print(f\"    imd     Etot(eV)    T(K)    stress(mean,xx,yy,zz,yz,xz,xy)(GPa)  elapsed_time(sec)\")\n",
    "    dyn.run(num_md_steps)"
   ]
  },
  {
   "cell_type": "markdown",
   "id": "b236458e-86d2-4894-86fc-6d5baf995cfa",
   "metadata": {},
   "source": [
    "結果を可視化してみると以下のようになります。\n",
    "\n",
    "ここでは`read`関数に `index=\"::100\"` を指定することでTrajectoryファイルから間隔を間引いた結果に対して可視化しています。\n",
    "Cuは固体の構造を保っており、大きく動いているわけではありませんが、振動の動きによりセルサイズに変化があることがわかります。"
   ]
  },
  {
   "cell_type": "code",
   "execution_count": 3,
   "id": "1d2a53cc-7656-42ce-8953-045263e158a3",
   "metadata": {},
   "outputs": [
    {
     "name": "stderr",
     "output_type": "stream",
     "text": [
      "[Parallel(n_jobs=16)]: Using backend ThreadingBackend with 16 concurrent workers.\n",
      "[Parallel(n_jobs=16)]: Done  10 out of  20 | elapsed:   11.0s remaining:   11.0s\n",
      "[Parallel(n_jobs=16)]: Done  20 out of  20 | elapsed:   13.7s finished\n"
     ]
    },
    {
     "data": {
      "text/html": [
       "<img src=\"output/ch6/Fig6-3_fcc-Cu_3x3x3_NPT_EMT_0900K.png\"/>"
      ],
      "text/plain": [
       "<IPython.core.display.Image object>"
      ]
     },
     "execution_count": 3,
     "metadata": {},
     "output_type": "execute_result"
    }
   ],
   "source": [
    "from ase.io import Trajectory, read\n",
    "from pfcc_extras.visualize.povray import traj_to_apng\n",
    "from IPython.display import Image\n",
    "\n",
    "\n",
    "traj = read(\"./output/ch6/fcc-Cu_3x3x3_NPT_EMT_0900K.traj\", index=\"::100\")\n",
    "traj_to_apng(traj, f\"output/ch6/Fig6-3_fcc-Cu_3x3x3_NPT_EMT_0900K.png\", rotation=\"10x,-10y,0z\", clean=True, n_jobs=16)\n",
    "\n",
    "Image(url=\"output/ch6/Fig6-3_fcc-Cu_3x3x3_NPT_EMT_0900K.png\")"
   ]
  },
  {
   "cell_type": "code",
   "execution_count": 4,
   "id": "4ae97fec-dd87-45ab-805d-ddf2d23fe9d8",
   "metadata": {},
   "outputs": [
    {
     "data": {
      "application/vnd.jupyter.widget-view+json": {
       "model_id": "7cbd0304282f444baf8e1376b2806e2f",
       "version_major": 2,
       "version_minor": 0
      },
      "text/plain": []
     },
     "metadata": {},
     "output_type": "display_data"
    },
    {
     "data": {
      "application/vnd.jupyter.widget-view+json": {
       "model_id": "aa268abadc564dcba7b9c44c5dd65fbb",
       "version_major": 2,
       "version_minor": 0
      },
      "text/plain": [
       "HBox(children=(NGLWidget(max_frame=19), VBox(children=(Dropdown(description='Show', options=('All', 'Cu'), val…"
      ]
     },
     "metadata": {},
     "output_type": "display_data"
    }
   ],
   "source": [
    "from ase.io import Trajectory, read\n",
    "from pfcc_extras.visualize.view import view_ngl\n",
    "\n",
    "\n",
    "traj = read(\"./output/ch6/fcc-Cu_3x3x3_NPT_EMT_0900K.traj\", index=\"::100\")\n",
    "view_ngl(traj, replace_structure=True)"
   ]
  },
  {
   "cell_type": "markdown",
   "id": "be414890-edd6-4946-af15-ac0bcbbb2823",
   "metadata": {},
   "source": [
    "熱浴の時定数$\\tau_t$は20 fs、圧力制御パラメーターであるpfactorは2e6 GPa$\\cdot$fs$^2$としています。上記の計算条件で熱平衡状態にするため300 Kで20 psのNPT-MDシミュレーションを行った際のセル体積の時間変化の様子を確認してみましょう。以下のようなコードで特定温度におけるMDシミュレーションの結果であるtrajファイルを解析出来ます。"
   ]
  },
  {
   "cell_type": "code",
   "execution_count": 5,
   "id": "dfd92f27-a42f-48cf-bbd7-5d94613137b6",
   "metadata": {},
   "outputs": [
    {
     "data": {
      "image/png": "[encoded data removed]",
      "text/plain": [
       "<Figure size 576x216 with 1 Axes>"
      ]
     },
     "metadata": {
      "needs_background": "light"
     },
     "output_type": "display_data"
    }
   ],
   "source": [
    "import matplotlib.pyplot as plt\n",
    "from pathlib import Path\n",
    "from ase.io import read,Trajectory\n",
    "\n",
    "time_step = 0.01  # Time step size in ps between each snapshots recorded in traj\n",
    "traj = Trajectory(\"./output/ch6/fcc-Cu_3x3x3_NPT_EMT_0300K.traj\")\n",
    "\n",
    "time = [ i*time_step for i in range(len(traj)) ]\n",
    "volume = [ atoms.get_volume() for atoms in traj ]\n",
    "\n",
    "# Create graph\n",
    "fig = plt.figure(figsize=(8,3))\n",
    "ax = fig.add_subplot(1, 1, 1)\n",
    "ax.set_xlabel('time (ps)')  # x軸ラベル\n",
    "ax.set_ylabel('Cell volume (Å^3)')  # y軸ラベル\n",
    "ax.plot(time,volume, alpha=0.5)\n",
    "ax.set_ylim([1100,1400])\n",
    "#plt.savefig(\"filename.png\")  # Set filename to be saved\n",
    "plt.show()"
   ]
  },
  {
   "cell_type": "markdown",
   "id": "8d256278-47d2-4711-b11c-6e8219d88607",
   "metadata": {},
   "source": [
    "上記コードを実行すると、以下のような解析結果が得られます。\n",
    "\n",
    "この計算条件で熱平衡状態にするため300 Kで20 psのNPT-MDシミュレーションを行った際のセル体積の時間変化は以下のようになります。\n",
    "\n",
    "<figure style=\"text-align: center\">\n",
    "    <img src=\"../assets/ch6/Fig6-3_fcc-Cu_3x3x3_EMT_NPT_vol_vs_t.png\"/>\n",
    "    <figcaption align = \"center\">Fig.6-3a. Time evolution of cell volume. (fcc-Cu_3x3x3, @300 K and 1 bar)</figcaption>\n",
    "</figure>\n",
    "</br>\n",
    "\n",
    "NPTアンサンブルで計算することでセル体積が約4%程の範囲で振動することが見て取れます。今回の計算対象は立方晶であるため、この体積の幾何平均から結晶の格子定数を計算出来ます。200 Kから1000 Kまで実行し、その各温度での規格化した格子定数の平均値をプロットすると以下の結果が得られます。\n",
    "\n",
    "平衡状態に達したあとの格子定数を計算したいため、`np.mean(vol[int(len(vol)/2):])**(1/3)` の部分では、Trajectoryの後半半分のみを使用して、体積から格子定数を計算しています。"
   ]
  },
  {
   "cell_type": "code",
   "execution_count": 6,
   "id": "4c71ebbe-2029-476b-8796-9aad95e1ea8f",
   "metadata": {},
   "outputs": [
    {
     "name": "stdout",
     "output_type": "stream",
     "text": [
      "temperature =  [200.0, 300.0, 400.0, 500.0, 600.0, 700.0, 800.0, 900.0, 1000.0]\n",
      "path = output/ch6/fcc-Cu_3x3x3_NPT_EMT_0200K.traj\n",
      "path = output/ch6/fcc-Cu_3x3x3_NPT_EMT_0300K.traj\n",
      "path = output/ch6/fcc-Cu_3x3x3_NPT_EMT_0400K.traj\n",
      "path = output/ch6/fcc-Cu_3x3x3_NPT_EMT_0500K.traj\n",
      "path = output/ch6/fcc-Cu_3x3x3_NPT_EMT_0600K.traj\n",
      "path = output/ch6/fcc-Cu_3x3x3_NPT_EMT_0700K.traj\n",
      "path = output/ch6/fcc-Cu_3x3x3_NPT_EMT_0800K.traj\n",
      "path = output/ch6/fcc-Cu_3x3x3_NPT_EMT_0900K.traj\n",
      "path = output/ch6/fcc-Cu_3x3x3_NPT_EMT_1000K.traj\n",
      "lat_a =  [10.821163632337704, 10.842839684174555, 10.866171596265199, 10.88848976153469, 10.912827783865225, 10.936618071520163, 10.9617904430426, 10.989222603709793, 11.018655524623599]\n",
      "norm_lat_a =  [0.99800089 1.         1.00215183 1.00421016 1.00645478 1.00864888\n",
      " 1.01097044 1.01350042 1.01621493]\n"
     ]
    },
    {
     "data": {
      "text/plain": [
       "<matplotlib.legend.Legend at 0x7f349f3f3a50>"
      ]
     },
     "execution_count": 6,
     "metadata": {},
     "output_type": "execute_result"
    },
    {
     "data": {
      "image/png": "[encoded data removed]",
      "text/plain": [
       "<Figure size 288x288 with 1 Axes>"
      ]
     },
     "metadata": {
      "needs_background": "light"
     },
     "output_type": "display_data"
    }
   ],
   "source": [
    "import matplotlib.pyplot as plt\n",
    "import numpy as np\n",
    "from pathlib import Path\n",
    "from ase.io import read,Trajectory\n",
    "\n",
    "time_step = 10.0  # Time step size between each snapshots recorded in traj\n",
    "paths = Path(\"./output/ch6/\").glob(f\"**/fcc-Cu_3x3x3_NPT_{calc_type}_*K.traj\")\n",
    "path_list = sorted([ p for p in paths ])\n",
    "\n",
    "# Temperature list extracted from the filename\n",
    "temperature = [ float(p.stem.split(\"_\")[-1].replace(\"K\",\"\")) for p in path_list ]\n",
    "print(\"temperature = \",temperature)\n",
    "\n",
    "# Compute lattice parameter\n",
    "lat_a = []\n",
    "for path in path_list:\n",
    "    print(f\"path = {path}\")\n",
    "    traj = Trajectory(path)\n",
    "    vol = [ atoms.get_volume() for atoms in traj ]\n",
    "    lat_a.append(np.mean(vol[int(len(vol)/2):])**(1/3))\n",
    "    \n",
    "print(\"lat_a = \",lat_a)\n",
    "\n",
    "# Normalize relative to the value at 300 K\n",
    "norm_lat_a = lat_a/lat_a[1]\n",
    "print(\"norm_lat_a = \",norm_lat_a)\n",
    "\n",
    "# Plot\n",
    "fig = plt.figure(figsize=(4,4))\n",
    "ax = fig.add_subplot(1, 1, 1)\n",
    "ax.set_xlabel('Temperature (K)')  # x軸ラベル\n",
    "ax.set_ylabel('Normalized lattice parameter')  # y軸ラベル\n",
    "ax.scatter(temperature[:len(norm_lat_a)],norm_lat_a, alpha=0.5,label=calc_type.lower())\n",
    "ax.legend(loc=\"upper left\")"
   ]
  },
  {
   "cell_type": "markdown",
   "id": "6abc11c2-ce35-443e-b9de-e7f11cb28e35",
   "metadata": {},
   "source": [
    "上記のコードを実行すると以下のようなプロットが得られます。\n",
    "\n",
    "<figure style=\"text-align: center\">\n",
    "    <img src=\"../assets/ch6/Fig6-3_fcc-Cu_3x3x3_NPT_a_vs_T.png\"/>\n",
    "    <figcaption align = \"center\">Fig.6-3b. Normalized lattice parameter as a function of temperature.</figcaption>\n",
    "    <figcaption align = \"center\">          Experimental data is taken from Reference [4].</figcaption>\n",
    "</figure>\n",
    "</br>\n",
    "\n",
    "この結果にはさらにPFPを用いた計算結果、および参考までに実験値を比較対象としています。EMTおよびPFPのデータ共に非常に良い一致を示しており、小さな差ではありますがPFPはより実験値に近い傾向を示しています。\n",
    "\n",
    "この規格化した格子定数の温度依存性から線熱膨張係数（CTE、$\\alpha$）を以下の関係式をもちいて算出します。\n",
    "\n",
    "$$\n",
    "\\frac{a(T)}{a_{RT}} = 1 + \\alpha \\cdot T\n",
    "$$\n",
    "\n",
    "ここで$\\alpha$が線熱膨張係数で、$a(T)$と$a_{RT}$は温度$T$と室温における格子定数です。以下がASAP3-EMT、PFP、実験値[4]のサマリーです。\n",
    "\n",
    "||$\\alpha$ (10$^{-5}$/K)|\n",
    "|--|--|\n",
    "|emt|2.23|\n",
    "|pfp|2.13|\n",
    "|exp|1.74|\n",
    "\n",
    "計算誤差を考えると、いずれの計算結果も実験値とリーズナブルな範囲で一致していると考えてよいと思います。\n",
    "\n",
    "このような手法でNPTアンサンブルのMDシミュレーションを用いることによって熱膨張係数を算出することが可能です。\n",
    "\n",
    "最後に補足として言及しますと、「液体や気体の熱膨張も同様の手法で再現できるのでは？」と考えるかと思います。原理的には確かにその通りなのですが、現時点では再現性の良いモデルというのは限定的と思われます。古典力場で特定の液体や気体のみに特化したモデルは存在するのかもしれませんが、第一原理計算を用いた場合、液体や気体では固体に比べて非常に小さい分子間相互作用の精度が重要になり、現在ではそのような精度の量子化学計算自体が非常に困難です。特にNNPを作成する際には膨大な計算データが必要になり、高精度な量子化学計算を多量に行うのは現時点であまり現実的ではありません。従って今後この領域での精度が高いモデルの開発が期待されるところです。"
   ]
  },
  {
   "cell_type": "markdown",
   "id": "559a1130-0943-41b0-99bb-31d5f27cabfa",
   "metadata": {},
   "source": [
    "## [Advanced] Parrinello-Rahman barostatのパラメーター依存性"
   ]
  },
  {
   "cell_type": "markdown",
   "id": "4ca98f2b-5c51-4be1-97b4-2750971ad868",
   "metadata": {},
   "source": [
    "NPTアンサンブルでのMDシミュレーションを行う際にpfactorというパラメーターを設定する必要があり、適切な値の範囲が\n",
    "10$^6$ GPa$\\cdot$fs$^2$から10$^7$ GPa$\\cdot$fs$^2$付近という説明がありました。ご参考までにpfactorの値を変化し際の結果を以下に示します。計算対象は上記と同じfcc-Cuの3x3x3 unit cellsで、温度は300 Kです。\n",
    "\n",
    "<figure style=\"text-align: center\">\n",
    "    <img src=\"../assets/ch6/Fig6-3_fcc-Cu_3x3x3_EMT_NPT_vol_vs_t_pfactor.png\"/>\n",
    "    <figcaption align = \"center\">Fig.6-3c. Time evolution of cell volume as a function of pfactor.</figcaption>\n",
    "</figure>\n",
    "</br>\n",
    "\n",
    "pfactorが小さい領域では高速でセル体積が振動しており、高周波と低周波の振動が混在していて挙動が不安定な領域もあるのであまり好ましくありません。pfactorが大きくなるにつれて振動の周期が徐々に長くなり、小さなpfactorの計算初期で起きるの大きなセル体積の変化も殆ど見られません。明確にpfactorのどの値から使うと良いという指標があるわけではないですが、10$^6$ Ga$\\cdot$fsec$^2$以上であれば小さな振動は確認できるものの中央値は相変わらず安定しているようです。上限についても同様で明確な基準はなく、pfactorが大きいと振動周期が長くなり扱いづらいので、上記の例に関していえば10$^6$から10$^7$ぐらいが妥当な領域かと考えます。"
   ]
  },
  {
   "cell_type": "markdown",
   "id": "5df2c952-47a6-41a8-88c8-400b5a97ad93",
   "metadata": {},
   "source": [
    "##  [Advanced] Berendsen barostatのパラメーター依存性"
   ]
  },
  {
   "cell_type": "markdown",
   "id": "e5fb1a53-377d-4513-9c65-41eb4b49989a",
   "metadata": {},
   "source": [
    "Berendsen barostatを用いた計算方法について説明します。Berendsen barostatは以下の方程式に従って圧力の時間発展が計算されます。（導出の詳細は参考文献[5]をご覧ください。）\n",
    "\n",
    "$$\n",
    "\\frac{d\\mathbf{P}}{dt}=\\frac{\\mathbf{P}_o-\\mathbf{P}}{\\tau_P}\n",
    "$$\n",
    "\n",
    "上式から明らかなように、Berendsen圧力制御法では指数関数的に系の各瞬間における圧力を外圧$\\mathbf{P}_o$に近づけていきます。その速度は時定数$\\tau_P$により制御されます。\n",
    "\n",
    "各MDステップ毎に、各原子の座標とセルベクトルは以下の式で表される係数でスケーリングされます。\n",
    "\n",
    "$$\n",
    "\\mu_{ij}=\\delta_{ij}-\\frac{\\Delta t}{3\\tau_P}\\beta_{ij}\\big\\{ P_{oij} - P_{ij}(t) \\big\\}\n",
    "$$\n",
    "\n",
    "熱浴のコントロールの際に$\\tau_T$が時定数だったように、圧力制御法でも適切な時定数${\\tau_P}$を設定してやる必要があります。それでは実際の計算事例を見てみましょう。\n",
    "\n",
    "ASEの機能である[NPTBerendsenクラス](https://wiki.fysik.dtu.dk/ase/ase/md.html#module-ase.md.npt)を用いるとdynamicsを定義するオブジェクトは以下の形で記述されます。"
   ]
  },
  {
   "cell_type": "code",
   "execution_count": 7,
   "id": "6f721253-4955-4cb0-9dae-723d19c689b8",
   "metadata": {},
   "outputs": [],
   "source": [
    "from ase.md.nptberendsen import NPTBerendsen\n",
    "\n",
    "dyn = NPTBerendsen(\n",
    "    atoms,\n",
    "    time_step*units.fs,\n",
    "    temperature_K = temperature,\n",
    "    pressure_au = 1.0 * units.bar,\n",
    "    taut = 5.0 * units.fs,\n",
    "    taup = 500.0 * units.fs,\n",
    "    compressibility_au = 5e-7 / units.bar,\n",
    "    logfile = log_filename,\n",
    "    trajectory = traj_filename,\n",
    "    loginterval=num_interval\n",
    ")"
   ]
  },
  {
   "cell_type": "markdown",
   "id": "4bace450-80bd-4280-9cc6-98502aed5d5d",
   "metadata": {},
   "source": [
    "`Inhomogeneous_NPTBerendsen`もほぼ同様の設定です。（クラス名を`NPTBerendsen`から`Inhomogeneous_NPTBerendsen`とすることで利用可能です。）１点異なるのはmaskが設定でき、`mask=(1, 1, 1)`とするとa,b,c方向全て独立して変化可能です。このtupleの要素を0と設定することでその方向でcellが固定されます。\n",
    "\n",
    "いずれのBerendsen barostatでも注意が必要なのは温度、圧力のような計算条件以外に、圧力制御時定数(`taup`、$\\tau_P$）や圧縮率（`compressibility`、$\\beta_T$）と呼ばれるパラメーターを設定する必要があることです。それぞれの値に対するセル体積の時間変化の依存性を300 Kにおけるfcc-Cuの例を用いて確認します。まずは$\\tau_P$の方からみてみます。\n",
    "\n",
    "<figure style=\"text-align: center\">\n",
    "    <img src=\"../assets/ch6/Fig6-3_fcc-Cu_3x3x3_EMT_NPTBerendsen_vol_vs_t_taup.png\"/>\n",
    "    <figcaption align = \"center\">Fig.6-3d. Time evolution of cell volume as a function of $\\tau_P$.</figcaption>\n",
    "</figure>\n",
    "</br>\n",
    "\n",
    "時定数が小さいほど振動の周期が不安定で大きく暴れ、逆にあまり大きくとりすぎると変化があまりに緩やかで平衡に至るまでの時間がかかります。この辺りは熱浴法の時定数と同じ考え方です。力学的にfcc-Cuと類似の系に関しては体積変化の安定性と収束性から$\\tau_P$は10$^2$ fsから10$^3$ fs付近が適切なようです。\n",
    "\n",
    "次に$\\beta_T$に対する依存性です。結果は以下のとおりです。\n",
    "\n",
    "<figure style=\"text-align: center\">\n",
    "    <img src=\"../assets/ch6/Fig6-3_fcc-Cu_3x3x3_EMT_NPTBerendsen_vol_vs_t_comp.png\"/>\n",
    "    <figcaption align = \"center\">Fig.6-3e. Time evolution of cell volume as a function of $\\beta_T$.</figcaption>\n",
    "</figure>\n",
    "</br>\n",
    "\n",
    "$\\beta_T$が小さいほど収束が非常に遅く、高い値にあるほど不安定になっていく様子がうかがえます。グラフの傾向から$\\beta_T$は10$^{-7}$から10$^{-6}$fs位が良さそうです。\n",
    "\n",
    "$\\tau_P$と$\\beta_T$に関してはいずれも厳密に正しい値というものは無く、おおよそ桁で値を変えた時にこの程度傾向が変化するということを理解しておけば概ね問題はなさそうです。\n",
    "\n",
    "最後に補足すると、これらの数値はあくまでfcc-Cuのような金属で密な構造を持つ物質について適用出来ますが、もし全く異なる系統の物質（例えばポリマー、液体、気体等）をNPTで扱いたいとなれば事前検討でこれらの適切な値の領域を確認しておく必要があります。手間を惜しんで事前検討を省くと意図しない結果が得られて余計に時間がかかるなどになりかねないので、通常、新しい材料系に取り組む際は注意されることをお勧めします。"
   ]
  },
  {
   "cell_type": "markdown",
   "id": "7d689ed2-403f-4adb-ba5c-0b64f870a576",
   "metadata": {},
   "source": [
    "## 参考文献：\n",
    "\n",
    "[1] M.E. Tuckerman, \"Statistical mechanics: Theory and molecular simulation\", Oxford University Press (2010) ISBN 978-0-19-852526-4. https://global.oup.com/academic/product/statistical-mechanics-9780198525264?q=Statistical%20mechanics:%20Theory%20and%20molecular%20simulation&cc=gb&lang=en#\n",
    "\n",
    "[2] Melchionna S. (2000) \"Constrained systems and statistical distribution\", Physical Review E 61 (6) 6165\n",
    "https://journals.aps.org/pre/abstract/10.1103/PhysRevE.61.6165\n",
    "\n",
    "[3] S. Melchionna, G. Ciccotti, B.L. Holian, \"Hoover NPT dynamics for systems varying in shape and size\", Molecular Physics, (1993) 78 (3) 533\n",
    "https://doi.org/10.1080/00268979300100371\n",
    "\n",
    "[4] F.C. Nix, D. MacNair, \"NIST:The Thermal Expansion of Pure Metals: Copper, Gold, Aluminum, Nickel, and Iron\"\n",
    "https://materialsdata.nist.gov/handle/11256/32\n",
    "\n",
    "[5] H. J. C. Berendsen, J. P. M. Postma, W. F. van Gunsteren, A. DiNola, and J. R. Haak, \"Molecular dynamics with coupling to an external bath\", J. Chem. Phys. (1984) 81 3684\n",
    "https://aip.scitation.org/doi/10.1063/1.448118"
   ]
  }
 ],
 "metadata": {
  "kernelspec": {
   "display_name": "Python 3.7",
   "language": "python",
   "name": "python37"
  },
  "language_info": {
   "codemirror_mode": {
    "name": "ipython",
    "version": 3
   },
   "file_extension": ".py",
   "mimetype": "text/x-python",
   "name": "python",
   "nbconvert_exporter": "python",
   "pygments_lexer": "ipython3",
   "version": "3.7.13"
  },
  "widgets": {
   "application/vnd.jupyter.widget-state+json": {
    "state": {
     "01987b65f18c42249209a1f4f14f6838": {
      "model_module": "@jupyter-widgets/controls",
      "model_module_version": "1.5.0",
      "model_name": "DescriptionStyleModel",
      "state": {
       "description_width": ""
      }
     },
     "0b5466922a684044aca54b26a0ffc43f": {
      "model_module": "@jupyter-widgets/controls",
      "model_module_version": "1.5.0",
      "model_name": "IntSliderModel",
      "state": {
       "layout": "IPY_MODEL_2b0485c5a83b4cd7953d85b8a901a555",
       "max": 19,
       "style": "IPY_MODEL_646d270060c347efadcee743a534f985"
      }
     },
     "0ba219a5f6114af8b597cf7a923217f1": {
      "model_module": "@jupyter-widgets/controls",
      "model_module_version": "1.5.0",
      "model_name": "SliderStyleModel",
      "state": {
       "description_width": ""
      }
     },
     "0cf2330855bc4e7196cddfab0fa6151b": {
      "model_module": "@jupyter-widgets/controls",
      "model_module_version": "1.5.0",
      "model_name": "IntSliderModel",
      "state": {
       "layout": "IPY_MODEL_a5263bdaea4a49619f1baa5895be9a68",
       "max": 19,
       "style": "IPY_MODEL_f0eb4f3788d946e0a42ae9b519d0c33b"
      }
     },
     "0eaef4806d5d4e37ab4fd21e52ce693e": {
      "model_module": "@jupyter-widgets/controls",
      "model_module_version": "1.5.0",
      "model_name": "DescriptionStyleModel",
      "state": {
       "description_width": ""
      }
     },
     "11a1670dcffe4979b6d8e515fdd519d9": {
      "model_module": "@jupyter-widgets/controls",
      "model_module_version": "1.5.0",
      "model_name": "ButtonStyleModel",
      "state": {}
     },
     "152269d93cbc4e5dab25eed43476df49": {
      "model_module": "@jupyter-widgets/controls",
      "model_module_version": "1.5.0",
      "model_name": "DescriptionStyleModel",
      "state": {
       "description_width": ""
      }
     },
     "157c7746dccf48ac8f418649a7b9d776": {
      "model_module": "@jupyter-widgets/base",
      "model_module_version": "1.2.0",
      "model_name": "LayoutModel",
      "state": {}
     },
     "19d2dddd99c9413583d3505a49a11783": {
      "model_module": "@jupyter-widgets/base",
      "model_module_version": "1.2.0",
      "model_name": "LayoutModel",
      "state": {}
     },
     "1dcfa0fd5de44edaa3a2f8f773c7eb9b": {
      "model_module": "@jupyter-widgets/base",
      "model_module_version": "1.2.0",
      "model_name": "LayoutModel",
      "state": {}
     },
     "205fde41c42e4fe1807264c0b55667e1": {
      "model_module": "@jupyter-widgets/base",
      "model_module_version": "1.2.0",
      "model_name": "LayoutModel",
      "state": {}
     },
     "2706f5b909c740399f3479c3ba6470bf": {
      "model_module": "@jupyter-widgets/base",
      "model_module_version": "1.2.0",
      "model_name": "LayoutModel",
      "state": {}
     },
     "2b0485c5a83b4cd7953d85b8a901a555": {
      "model_module": "@jupyter-widgets/base",
      "model_module_version": "1.2.0",
      "model_name": "LayoutModel",
      "state": {}
     },
     "2c65d27aaad74dea83f82d96bc591868": {
      "model_module": "@jupyter-widgets/base",
      "model_module_version": "1.2.0",
      "model_name": "LayoutModel",
      "state": {}
     },
     "2eda42a2a7c443b58ee1395ae468a0e8": {
      "model_module": "nglview-js-widgets",
      "model_module_version": "3.0.1",
      "model_name": "NGLModel",
      "state": {
       "_camera_orientation": [
        17.84854183630017,
        0,
        0,
        0,
        0,
        17.84854183630017,
        0,
        0,
        0,
        0,
        17.84854183630017,
        0,
        -4.523000003769994,
        -4.495499990880489,
        -4.510000117123127,
        1
       ],
       "_camera_str": "orthographic",
       "_gui_theme": null,
       "_ibtn_fullscreen": "IPY_MODEL_f33e1d07e0eb4f2ebbaf1ff4379635e8",
       "_igui": null,
       "_iplayer": "IPY_MODEL_b008d48fe99548308d07e1502d5c580a",
       "_ngl_color_dict": {},
       "_ngl_coordinate_resource": {},
       "_ngl_full_stage_parameters": {
        "ambientColor": 14540253,
        "ambientIntensity": 0.2,
        "backgroundColor": "white",
        "cameraEyeSep": 0.3,
        "cameraFov": 40,
        "cameraType": "orthographic",
        "clipDist": 0,
        "clipFar": 100,
        "clipNear": 0,
        "fogFar": 100,
        "fogNear": 50,
        "hoverTimeout": 0,
        "impostor": true,
        "lightColor": 14540253,
        "lightIntensity": 1,
        "mousePreset": "default",
        "panSpeed": 1,
        "quality": "medium",
        "rotateSpeed": 2,
        "sampleLevel": 0,
        "tooltip": true,
        "workerDefault": true,
        "zoomSpeed": 1.2
       },
       "_ngl_msg_archive": [
        {
         "args": [
          {
           "binary": false,
           "data": "CRYST1   10.830   10.830   10.830  90.00  90.00  90.00 P 1\nMODEL     1\nATOM      1   Cu MOL     1       0.042   0.044   0.020  1.00  0.00          CU  \nATOM      2   Cu MOL     1      -0.034   1.810   1.874  1.00  0.00          CU  \nATOM      3   Cu MOL     1       1.802  -0.003   1.851  1.00  0.00          CU  \nATOM      4   Cu MOL     1       1.807   1.774  -0.016  1.00  0.00          CU  \nATOM      5   Cu MOL     1       0.064  -0.013   3.619  1.00  0.00          CU  \nATOM      6   Cu MOL     1       0.027   1.796   5.425  1.00  0.00          CU  \nATOM      7   Cu MOL     1       1.778   0.007   5.441  1.00  0.00          CU  \nATOM      8   Cu MOL     1       1.761   1.733   3.637  1.00  0.00          CU  \nATOM      9   Cu MOL     1       0.013   0.030   7.237  1.00  0.00          CU  \nATOM     10   Cu MOL     1      -0.046   1.816   9.046  1.00  0.00          CU  \nATOM     11   Cu MOL     1       1.815   0.089   8.972  1.00  0.00          CU  \nATOM     12   Cu MOL     1       1.792   1.831   7.189  1.00  0.00          CU  \nATOM     13   Cu MOL     1      -0.042   3.607   0.039  1.00  0.00          CU  \nATOM     14   Cu MOL     1       0.010   5.432   1.812  1.00  0.00          CU  \nATOM     15   Cu MOL     1       1.775   3.569   1.753  1.00  0.00          CU  \nATOM     16   Cu MOL     1       1.812   5.434   0.009  1.00  0.00          CU  \nATOM     17   Cu MOL     1       0.006   3.620   3.606  1.00  0.00          CU  \nATOM     18   Cu MOL     1      -0.000   5.423   5.404  1.00  0.00          CU  \nATOM     19   Cu MOL     1       1.828   3.673   5.423  1.00  0.00          CU  \nATOM     20   Cu MOL     1       1.808   5.430   3.630  1.00  0.00          CU  \nATOM     21   Cu MOL     1       0.007   3.621   7.194  1.00  0.00          CU  \nATOM     22   Cu MOL     1       0.017   5.438   9.025  1.00  0.00          CU  \nATOM     23   Cu MOL     1       1.775   3.613   9.083  1.00  0.00          CU  \nATOM     24   Cu MOL     1       1.821   5.384   7.252  1.00  0.00          CU  \nATOM     25   Cu MOL     1      -0.003   7.284  -0.068  1.00  0.00          CU  \nATOM     26   Cu MOL     1      -0.025   9.022   1.792  1.00  0.00          CU  \nATOM     27   Cu MOL     1       1.839   7.257   1.795  1.00  0.00          CU  \nATOM     28   Cu MOL     1       1.802   9.008  -0.008  1.00  0.00          CU  \nATOM     29   Cu MOL     1       0.008   7.268   3.622  1.00  0.00          CU  \nATOM     30   Cu MOL     1      -0.005   9.007   5.378  1.00  0.00          CU  \nATOM     31   Cu MOL     1       1.851   7.204   5.395  1.00  0.00          CU  \nATOM     32   Cu MOL     1       1.773   8.978   3.604  1.00  0.00          CU  \nATOM     33   Cu MOL     1      -0.021   7.250   7.209  1.00  0.00          CU  \nATOM     34   Cu MOL     1      -0.013   9.042   8.987  1.00  0.00          CU  \nATOM     35   Cu MOL     1       1.849   7.177   9.102  1.00  0.00          CU  \nATOM     36   Cu MOL     1       1.810   8.996   7.210  1.00  0.00          CU  \nATOM     37   Cu MOL     1       3.582  -0.034  -0.032  1.00  0.00          CU  \nATOM     38   Cu MOL     1       3.648   1.814   1.783  1.00  0.00          CU  \nATOM     39   Cu MOL     1       5.338   0.026   1.784  1.00  0.00          CU  \nATOM     40   Cu MOL     1       5.429   1.734  -0.047  1.00  0.00          CU  \nATOM     41   Cu MOL     1       3.604   0.015   3.637  1.00  0.00          CU  \nATOM     42   Cu MOL     1       3.587   1.789   5.394  1.00  0.00          CU  \nATOM     43   Cu MOL     1       5.328   0.014   5.505  1.00  0.00          CU  \nATOM     44   Cu MOL     1       5.395   1.802   3.570  1.00  0.00          CU  \nATOM     45   Cu MOL     1       3.568   0.023   7.218  1.00  0.00          CU  \nATOM     46   Cu MOL     1       3.606   1.835   9.029  1.00  0.00          CU  \nATOM     47   Cu MOL     1       5.448  -0.032   9.007  1.00  0.00          CU  \nATOM     48   Cu MOL     1       5.417   1.790   7.210  1.00  0.00          CU  \nATOM     49   Cu MOL     1       3.588   3.604   0.048  1.00  0.00          CU  \nATOM     50   Cu MOL     1       3.650   5.457   1.839  1.00  0.00          CU  \nATOM     51   Cu MOL     1       5.453   3.607   1.806  1.00  0.00          CU  \nATOM     52   Cu MOL     1       5.399   5.542   0.010  1.00  0.00          CU  \nATOM     53   Cu MOL     1       3.652   3.663   3.605  1.00  0.00          CU  \nATOM     54   Cu MOL     1       3.588   5.397   5.427  1.00  0.00          CU  \nATOM     55   Cu MOL     1       5.420   3.576   5.399  1.00  0.00          CU  \nATOM     56   Cu MOL     1       5.479   5.416   3.648  1.00  0.00          CU  \nATOM     57   Cu MOL     1       3.529   3.567   7.229  1.00  0.00          CU  \nATOM     58   Cu MOL     1       3.584   5.387   9.001  1.00  0.00          CU  \nATOM     59   Cu MOL     1       5.441   3.515   8.991  1.00  0.00          CU  \nATOM     60   Cu MOL     1       5.457   5.405   7.212  1.00  0.00          CU  \nATOM     61   Cu MOL     1       3.572   7.185   0.038  1.00  0.00          CU  \nATOM     62   Cu MOL     1       3.584   9.020   1.872  1.00  0.00          CU  \nATOM     63   Cu MOL     1       5.407   7.285   1.821  1.00  0.00          CU  \nATOM     64   Cu MOL     1       5.412   9.032   0.007  1.00  0.00          CU  \nATOM     65   Cu MOL     1       3.539   7.229   3.645  1.00  0.00          CU  \nATOM     66   Cu MOL     1       3.644   8.991   5.413  1.00  0.00          CU  \nATOM     67   Cu MOL     1       5.430   7.193   5.357  1.00  0.00          CU  \nATOM     68   Cu MOL     1       5.366   9.042   3.563  1.00  0.00          CU  \nATOM     69   Cu MOL     1       3.661   7.191   7.208  1.00  0.00          CU  \nATOM     70   Cu MOL     1       3.611   8.984   9.001  1.00  0.00          CU  \nATOM     71   Cu MOL     1       5.438   7.206   9.072  1.00  0.00          CU  \nATOM     72   Cu MOL     1       5.417   8.995   7.173  1.00  0.00          CU  \nATOM     73   Cu MOL     1       7.254  -0.075  -0.013  1.00  0.00          CU  \nATOM     74   Cu MOL     1       7.247   1.786   1.842  1.00  0.00          CU  \nATOM     75   Cu MOL     1       9.092  -0.007   1.742  1.00  0.00          CU  \nATOM     76   Cu MOL     1       9.053   1.823  -0.082  1.00  0.00          CU  \nATOM     77   Cu MOL     1       7.244   0.007   3.600  1.00  0.00          CU  \nATOM     78   Cu MOL     1       7.216   1.843   5.434  1.00  0.00          CU  \nATOM     79   Cu MOL     1       9.015   0.020   5.381  1.00  0.00          CU  \nATOM     80   Cu MOL     1       8.952   1.821   3.610  1.00  0.00          CU  \nATOM     81   Cu MOL     1       7.230   0.078   7.207  1.00  0.00          CU  \nATOM     82   Cu MOL     1       7.231   1.791   9.028  1.00  0.00          CU  \nATOM     83   Cu MOL     1       9.078  -0.040   8.998  1.00  0.00          CU  \nATOM     84   Cu MOL     1       9.019   1.772   7.230  1.00  0.00          CU  \nATOM     85   Cu MOL     1       7.270   3.602  -0.002  1.00  0.00          CU  \nATOM     86   Cu MOL     1       7.195   5.477   1.799  1.00  0.00          CU  \nATOM     87   Cu MOL     1       9.021   3.616   1.846  1.00  0.00          CU  \nATOM     88   Cu MOL     1       8.988   5.426  -0.039  1.00  0.00          CU  \nATOM     89   Cu MOL     1       7.249   3.603   3.594  1.00  0.00          CU  \nATOM     90   Cu MOL     1       7.209   5.392   5.437  1.00  0.00          CU  \nATOM     91   Cu MOL     1       9.052   3.568   5.406  1.00  0.00          CU  \nATOM     92   Cu MOL     1       8.983   5.381   3.621  1.00  0.00          CU  \nATOM     93   Cu MOL     1       7.199   3.634   7.223  1.00  0.00          CU  \nATOM     94   Cu MOL     1       7.197   5.453   9.036  1.00  0.00          CU  \nATOM     95   Cu MOL     1       9.003   3.608   9.078  1.00  0.00          CU  \nATOM     96   Cu MOL     1       8.995   5.462   7.195  1.00  0.00          CU  \nATOM     97   Cu MOL     1       7.199   7.242  -0.043  1.00  0.00          CU  \nATOM     98   Cu MOL     1       7.159   9.039   1.809  1.00  0.00          CU  \nATOM     99   Cu MOL     1       9.019   7.203   1.807  1.00  0.00          CU  \nATOM    100   Cu MOL     1       9.024   8.983   0.010  1.00  0.00          CU  \nATOM    101   Cu MOL     1       7.264   7.215   3.597  1.00  0.00          CU  \nATOM    102   Cu MOL     1       7.269   9.066   5.416  1.00  0.00          CU  \nATOM    103   Cu MOL     1       9.014   7.189   5.402  1.00  0.00          CU  \nATOM    104   Cu MOL     1       9.060   8.965   3.638  1.00  0.00          CU  \nATOM    105   Cu MOL     1       7.278   7.229   7.218  1.00  0.00          CU  \nATOM    106   Cu MOL     1       7.193   8.994   9.071  1.00  0.00          CU  \nATOM    107   Cu MOL     1       9.089   7.226   9.037  1.00  0.00          CU  \nATOM    108   Cu MOL     1       9.004   9.037   7.220  1.00  0.00          CU  \nENDMDL\n",
           "type": "blob"
          }
         ],
         "kwargs": {
          "defaultRepresentation": false,
          "ext": "pdb"
         },
         "methodName": "loadFile",
         "reconstruc_color_scheme": false,
         "target": "Stage",
         "type": "call_method"
        },
        {
         "args": [
          "500px",
          "500px"
         ],
         "kwargs": {},
         "methodName": "setSize",
         "reconstruc_color_scheme": false,
         "target": "Widget",
         "type": "call_method"
        },
        {
         "args": [
          "unitcell"
         ],
         "component_index": 0,
         "kwargs": {
          "sele": "all"
         },
         "methodName": "addRepresentation",
         "reconstruc_color_scheme": false,
         "target": "compList",
         "type": "call_method"
        },
        {
         "args": [
          "spacefill"
         ],
         "component_index": 0,
         "kwargs": {
          "sele": "all"
         },
         "methodName": "addRepresentation",
         "reconstruc_color_scheme": false,
         "target": "compList",
         "type": "call_method"
        },
        {
         "args": [],
         "kwargs": {
          "cameraType": "orthographic"
         },
         "methodName": "setParameters",
         "reconstruc_color_scheme": false,
         "target": "Stage",
         "type": "call_method"
        },
        {
         "args": [
          {
           "clipDist": 0
          }
         ],
         "kwargs": {},
         "methodName": "setParameters",
         "reconstruc_color_scheme": false,
         "target": "Widget",
         "type": "call_method"
        },
        {
         "args": [
          "spacefill",
          0
         ],
         "kwargs": {
          "colorScale": "rainbow",
          "colorScheme": "element",
          "radiusScale": 0.5,
          "radiusType": "covalent"
         },
         "methodName": "updateRepresentationsByName",
         "reconstruc_color_scheme": false,
         "target": "Widget",
         "type": "call_method"
        },
        {
         "args": [
          "this._Q = [[0.9999999999912634, -1.6786446958635877e-06, -3.828232710543616e-06], [1.6786433733593302e-06, 0.9999999999985318, -3.4546396695577627e-07], [3.82823329044925e-06, 3.4545754071528687e-07, 0.9999999999926127]]\n    var tooltip = document.createElement('div')\n    Object.assign(tooltip.style, {\n      display: 'none',\n      position: 'fixed',\n      zIndex: 10,\n      pointerEvents: 'none',\n      backgroundColor: 'rgba( 0, 0, 0, 0.6 )',\n      color: 'lightgrey',\n      padding: '8px',\n      fontFamily: 'sans-serif'\n    })\n    document.body.appendChild(tooltip)\n\n    var that = this\n    this.stage.mouseControls.remove('hoverPick')\n    this.stage.signals.hovered.add(function (pickingProxy) {\n      if (pickingProxy && (pickingProxy.atom || pickingProxy.bond)) {\n        var atom = pickingProxy.atom || pickingProxy.closestBondAtom\n        var mp = pickingProxy.mouse.position\n        //tooltip.innerText = atom.element + ' i=' + atom.index + ' (' + atom.x.toFixed(2) +  ', ' + atom.y.toFixed(2) +  ', ' + atom.z.toFixed(2) + ')'\n        //var pos = that._atoms_pos[atom.index]\n        var Q = that._Q\n        var pos_x = Q[0][0] * atom.x + Q[0][1] * atom.y + Q[0][2] * atom.z \n        var pos_y = Q[1][0] * atom.x + Q[1][1] * atom.y + Q[1][2] * atom.z\n        var pos_z = Q[2][0] * atom.x + Q[2][1] * atom.y + Q[2][2] * atom.z\n        tooltip.innerText = 'i=' + atom.index + ' ' + atom.element + ' (' + pos_x.toFixed(2) +  ', ' + pos_y.toFixed(2) +  ', ' + pos_z.toFixed(2) + ')'\n        tooltip.style.bottom = window.innerHeight - mp.y + 3 + 'px'\n        tooltip.style.left = mp.x + 3 + 'px'\n        tooltip.style.display = 'block'\n      } else {\n        tooltip.style.display = 'none'\n      }\n    })\n    "
         ],
         "kwargs": {},
         "methodName": "executeCode",
         "reconstruc_color_scheme": false,
         "target": "Widget",
         "type": "call_method"
        }
       ],
       "_ngl_original_stage_parameters": {
        "ambientColor": 14540253,
        "ambientIntensity": 0.2,
        "backgroundColor": "white",
        "cameraEyeSep": 0.3,
        "cameraFov": 40,
        "cameraType": "perspective",
        "clipDist": 10,
        "clipFar": 100,
        "clipNear": 0,
        "fogFar": 100,
        "fogNear": 50,
        "hoverTimeout": 0,
        "impostor": true,
        "lightColor": 14540253,
        "lightIntensity": 1,
        "mousePreset": "default",
        "panSpeed": 1,
        "quality": "medium",
        "rotateSpeed": 2,
        "sampleLevel": 0,
        "tooltip": true,
        "workerDefault": true,
        "zoomSpeed": 1.2
       },
       "_ngl_repr_dict": {
        "0": {
         "0": {
          "params": {
           "clipCenter": {
            "x": 0,
            "y": 0,
            "z": 0
           },
           "clipNear": 0,
           "clipRadius": 0,
           "colorMode": "hcl",
           "colorReverse": false,
           "colorScale": "",
           "colorScheme": "element",
           "colorValue": "orange",
           "defaultAssembly": "",
           "depthWrite": true,
           "diffuse": 16777215,
           "diffuseInterior": false,
           "disableImpostor": false,
           "disablePicking": false,
           "flatShaded": false,
           "interiorColor": 2236962,
           "interiorDarkening": 0,
           "lazy": false,
           "matrix": {
            "elements": [
             1,
             0,
             0,
             0,
             0,
             1,
             0,
             0,
             0,
             0,
             1,
             0,
             0,
             0,
             0,
             1
            ]
           },
           "metalness": 0,
           "opacity": 1,
           "quality": "medium",
           "radialSegments": 10,
           "radiusData": {},
           "radiusScale": 1,
           "radiusSize": 0.05414999762302539,
           "radiusType": "vdw",
           "roughness": 0.4,
           "sele": "all",
           "side": "double",
           "sphereDetail": 1,
           "useInteriorColor": true,
           "visible": true,
           "wireframe": false
          },
          "type": "unitcell"
         },
         "1": {
          "params": {
           "assembly": "default",
           "clipCenter": {
            "x": 0,
            "y": 0,
            "z": 0
           },
           "clipNear": 0,
           "clipRadius": 0,
           "colorMode": "hcl",
           "colorReverse": false,
           "colorScale": "rainbow",
           "colorScheme": "element",
           "colorValue": 9474192,
           "defaultAssembly": "",
           "depthWrite": true,
           "diffuse": 16777215,
           "diffuseInterior": false,
           "disableImpostor": false,
           "disablePicking": false,
           "flatShaded": false,
           "interiorColor": 2236962,
           "interiorDarkening": 0,
           "lazy": false,
           "matrix": {
            "elements": [
             1,
             0,
             0,
             0,
             0,
             1,
             0,
             0,
             0,
             0,
             1,
             0,
             0,
             0,
             0,
             1
            ]
           },
           "metalness": 0,
           "opacity": 1,
           "quality": "medium",
           "radiusData": {},
           "radiusScale": 0.5,
           "radiusSize": 1,
           "radiusType": "covalent",
           "roughness": 0.4,
           "sele": "all",
           "side": "double",
           "sphereDetail": 1,
           "useInteriorColor": true,
           "visible": true,
           "wireframe": false
          },
          "type": "spacefill"
         }
        }
       },
       "_ngl_serialize": false,
       "_ngl_version": "2.0.0-dev.36",
       "_ngl_view_id": [
        "81E12743-FEBE-4013-9B8A-5F3360E7D5B4"
       ],
       "_player_dict": {},
       "_scene_position": {},
       "_scene_rotation": {},
       "_synced_model_ids": [],
       "_synced_repr_model_ids": [],
       "_view_height": "",
       "_view_width": "",
       "background": "white",
       "frame": 0,
       "gui_style": null,
       "layout": "IPY_MODEL_2c65d27aaad74dea83f82d96bc591868",
       "max_frame": 19,
       "n_components": 1,
       "picked": {}
      }
     },
     "3854eecd5118444786b6a7f94622d320": {
      "model_module": "@jupyter-widgets/controls",
      "model_module_version": "1.5.0",
      "model_name": "LinkModel",
      "state": {
       "source": [
        "IPY_MODEL_fb9a802a658f466899f454df7315bb5c",
        "max"
       ],
       "target": [
        "IPY_MODEL_2eda42a2a7c443b58ee1395ae468a0e8",
        "max_frame"
       ]
      }
     },
     "3f642e5a9eca4a65a38461015c72a883": {
      "model_module": "@jupyter-widgets/base",
      "model_module_version": "1.2.0",
      "model_name": "LayoutModel",
      "state": {}
     },
     "40238c7795304d02a26ec776501ca98d": {
      "model_module": "@jupyter-widgets/controls",
      "model_module_version": "1.5.0",
      "model_name": "ButtonModel",
      "state": {
       "description": "Save image",
       "layout": "IPY_MODEL_2706f5b909c740399f3479c3ba6470bf",
       "style": "IPY_MODEL_83e3c840783842dc81402b657cd0d722",
       "tooltip": "Save current frame to file.\nCurrently .png and .html are supported.\nIt takes a bit time, please be patient."
      }
     },
     "4c8c70cbd5204d7ba7dd44a230e3debe": {
      "model_module": "@jupyter-widgets/controls",
      "model_module_version": "1.5.0",
      "model_name": "ButtonStyleModel",
      "state": {}
     },
     "520985c054ae4d8898cc0dea58b19e4d": {
      "model_module": "@jupyter-widgets/controls",
      "model_module_version": "1.5.0",
      "model_name": "CheckboxModel",
      "state": {
       "description": "Show force",
       "disabled": false,
       "layout": "IPY_MODEL_ec386ae0e6b9454b81aaf836f8a69de3",
       "style": "IPY_MODEL_52254d0f15824ed3bbc06f21759b6184",
       "value": false
      }
     },
     "52254d0f15824ed3bbc06f21759b6184": {
      "model_module": "@jupyter-widgets/controls",
      "model_module_version": "1.5.0",
      "model_name": "DescriptionStyleModel",
      "state": {
       "description_width": ""
      }
     },
     "55cfbe036ae84f2683e3fed26b6d900f": {
      "model_module": "@jupyter-widgets/controls",
      "model_module_version": "1.5.0",
      "model_name": "LinkModel",
      "state": {
       "source": [
        "IPY_MODEL_fb9a802a658f466899f454df7315bb5c",
        "value"
       ],
       "target": [
        "IPY_MODEL_0cf2330855bc4e7196cddfab0fa6151b",
        "value"
       ]
      }
     },
     "5c5ff5c18b204f4d95e600b8397ac137": {
      "model_module": "@jupyter-widgets/controls",
      "model_module_version": "1.5.0",
      "model_name": "DescriptionStyleModel",
      "state": {
       "description_width": ""
      }
     },
     "61dc0a99a442439ab3269ffc7ffd5d35": {
      "model_module": "@jupyter-widgets/controls",
      "model_module_version": "1.5.0",
      "model_name": "LinkModel",
      "state": {
       "source": [
        "IPY_MODEL_fb9a802a658f466899f454df7315bb5c",
        "value"
       ],
       "target": [
        "IPY_MODEL_2eda42a2a7c443b58ee1395ae468a0e8",
        "frame"
       ]
      }
     },
     "61f54a54ea6c4403ae91ee5e2e57c69c": {
      "model_module": "@jupyter-widgets/controls",
      "model_module_version": "1.5.0",
      "model_name": "ImageModel",
      "state": {
       "layout": "IPY_MODEL_cdb415df97b54947b9d6ce5182ae63bc",
       "width": "900.0"
      }
     },
     "646d270060c347efadcee743a534f985": {
      "model_module": "@jupyter-widgets/controls",
      "model_module_version": "1.5.0",
      "model_name": "SliderStyleModel",
      "state": {
       "description_width": ""
      }
     },
     "65ce75b707504be0b84937f0198b073a": {
      "model_module": "@jupyter-widgets/controls",
      "model_module_version": "1.5.0",
      "model_name": "SliderStyleModel",
      "state": {
       "description_width": ""
      }
     },
     "6e84748b7a904c3a861ac9df2ad2ae6a": {
      "model_module": "@jupyter-widgets/controls",
      "model_module_version": "1.5.0",
      "model_name": "DropdownModel",
      "state": {
       "_options_labels": [
        " ",
        "picking",
        "random",
        "uniform",
        "atomindex",
        "residueindex",
        "chainindex",
        "modelindex",
        "sstruc",
        "element",
        "resname",
        "bfactor",
        "hydrophobicity",
        "value",
        "volume",
        "occupancy"
       ],
       "description": "Color scheme",
       "index": 9,
       "layout": "IPY_MODEL_ade6d2bfad6b47f2b8ba0ba5350adfa2",
       "style": "IPY_MODEL_01987b65f18c42249209a1f4f14f6838"
      }
     },
     "70e0b48779dc460a9c7c6e34e14bb813": {
      "model_module": "@jupyter-widgets/base",
      "model_module_version": "1.2.0",
      "model_name": "LayoutModel",
      "state": {}
     },
     "732f48069b2d44edaf68eb5c6521b2cf": {
      "model_module": "@jupyter-widgets/controls",
      "model_module_version": "1.5.0",
      "model_name": "FloatSliderModel",
      "state": {
       "description": "Force scale",
       "layout": "IPY_MODEL_3f642e5a9eca4a65a38461015c72a883",
       "step": 0.1,
       "style": "IPY_MODEL_65ce75b707504be0b84937f0198b073a",
       "value": 0.5
      }
     },
     "740a45cf7e7c4653b4fd940e32b11531": {
      "model_module": "@jupyter-widgets/base",
      "model_module_version": "1.2.0",
      "model_name": "LayoutModel",
      "state": {}
     },
     "7cbd0304282f444baf8e1376b2806e2f": {
      "model_module": "nglview-js-widgets",
      "model_module_version": "3.0.1",
      "model_name": "ColormakerRegistryModel",
      "state": {
       "_msg_ar": [],
       "_msg_q": [],
       "_ready": true,
       "layout": "IPY_MODEL_1dcfa0fd5de44edaa3a2f8f773c7eb9b"
      }
     },
     "7ddbcde9f1844bc1bd30a83cb9737c80": {
      "model_module": "@jupyter-widgets/output",
      "model_module_version": "1.0.0",
      "model_name": "OutputModel",
      "state": {
       "layout": "IPY_MODEL_bfcf059c366d4b87a527cf8f86d3042f"
      }
     },
     "83e3c840783842dc81402b657cd0d722": {
      "model_module": "@jupyter-widgets/controls",
      "model_module_version": "1.5.0",
      "model_name": "ButtonStyleModel",
      "state": {}
     },
     "8b615c7c7b0c4a61b53493136ca28776": {
      "model_module": "@jupyter-widgets/base",
      "model_module_version": "1.2.0",
      "model_name": "LayoutModel",
      "state": {}
     },
     "8c95d3fac5134309b3755a22ff70da91": {
      "model_module": "@jupyter-widgets/controls",
      "model_module_version": "1.5.0",
      "model_name": "CheckboxModel",
      "state": {
       "description": "Show charge",
       "disabled": false,
       "layout": "IPY_MODEL_cc9b0a3100d249bc9fb6e3100224413f",
       "style": "IPY_MODEL_eb611b692c2b4c2c821ed61ee606aa38",
       "value": false
      }
     },
     "9469419e73b04ab19d8855c230853ad1": {
      "model_module": "@jupyter-widgets/base",
      "model_module_version": "1.2.0",
      "model_name": "LayoutModel",
      "state": {}
     },
     "99450537980e44fd9945ea47e8b0f232": {
      "model_module": "@jupyter-widgets/base",
      "model_module_version": "1.2.0",
      "model_name": "LayoutModel",
      "state": {}
     },
     "a5263bdaea4a49619f1baa5895be9a68": {
      "model_module": "@jupyter-widgets/base",
      "model_module_version": "1.2.0",
      "model_name": "LayoutModel",
      "state": {}
     },
     "a52c8b13a10a48bfad8ebf8aecbca7c7": {
      "model_module": "@jupyter-widgets/controls",
      "model_module_version": "1.5.0",
      "model_name": "TextModel",
      "state": {
       "description": "Filename: ",
       "layout": "IPY_MODEL_9469419e73b04ab19d8855c230853ad1",
       "style": "IPY_MODEL_0eaef4806d5d4e37ab4fd21e52ce693e",
       "value": "screenshot.png"
      }
     },
     "aa268abadc564dcba7b9c44c5dd65fbb": {
      "model_module": "@jupyter-widgets/controls",
      "model_module_version": "1.5.0",
      "model_name": "HBoxModel",
      "state": {
       "children": [
        "IPY_MODEL_2eda42a2a7c443b58ee1395ae468a0e8",
        "IPY_MODEL_b970c090d0b24ae1abb9cc5c6864a8d1"
       ],
       "layout": "IPY_MODEL_157c7746dccf48ac8f418649a7b9d776"
      }
     },
     "ade6d2bfad6b47f2b8ba0ba5350adfa2": {
      "model_module": "@jupyter-widgets/base",
      "model_module_version": "1.2.0",
      "model_name": "LayoutModel",
      "state": {}
     },
     "b008d48fe99548308d07e1502d5c580a": {
      "model_module": "@jupyter-widgets/controls",
      "model_module_version": "1.5.0",
      "model_name": "HBoxModel",
      "state": {
       "children": [
        "IPY_MODEL_fb9a802a658f466899f454df7315bb5c",
        "IPY_MODEL_0cf2330855bc4e7196cddfab0fa6151b"
       ],
       "layout": "IPY_MODEL_bc68d25280f6415aa6dd3f79f74a8440"
      }
     },
     "b970c090d0b24ae1abb9cc5c6864a8d1": {
      "model_module": "@jupyter-widgets/controls",
      "model_module_version": "1.5.0",
      "model_name": "VBoxModel",
      "state": {
       "children": [
        "IPY_MODEL_c101f4588b564e2b92c308cadba8552c",
        "IPY_MODEL_6e84748b7a904c3a861ac9df2ad2ae6a",
        "IPY_MODEL_bd75d15573da42109d10c05f877b50a9",
        "IPY_MODEL_0b5466922a684044aca54b26a0ffc43f",
        "IPY_MODEL_a52c8b13a10a48bfad8ebf8aecbca7c7",
        "IPY_MODEL_c61a2063682249fca5789920c6dc5337",
        "IPY_MODEL_520985c054ae4d8898cc0dea58b19e4d",
        "IPY_MODEL_732f48069b2d44edaf68eb5c6521b2cf",
        "IPY_MODEL_8c95d3fac5134309b3755a22ff70da91",
        "IPY_MODEL_f7f614bae68b48f0938e3f1ace3e50dc",
        "IPY_MODEL_7ddbcde9f1844bc1bd30a83cb9737c80"
       ],
       "layout": "IPY_MODEL_19d2dddd99c9413583d3505a49a11783"
      }
     },
     "bc68d25280f6415aa6dd3f79f74a8440": {
      "model_module": "@jupyter-widgets/base",
      "model_module_version": "1.2.0",
      "model_name": "LayoutModel",
      "state": {}
     },
     "bd75d15573da42109d10c05f877b50a9": {
      "model_module": "@jupyter-widgets/controls",
      "model_module_version": "1.5.0",
      "model_name": "FloatSliderModel",
      "state": {
       "description": "Ball size",
       "layout": "IPY_MODEL_205fde41c42e4fe1807264c0b55667e1",
       "max": 1.5,
       "step": 0.01,
       "style": "IPY_MODEL_de245fda973b4daca8884d19b45674d8",
       "value": 0.5
      }
     },
     "bfcf059c366d4b87a527cf8f86d3042f": {
      "model_module": "@jupyter-widgets/base",
      "model_module_version": "1.2.0",
      "model_name": "LayoutModel",
      "state": {
       "border": "0px solid black"
      }
     },
     "c101f4588b564e2b92c308cadba8552c": {
      "model_module": "@jupyter-widgets/controls",
      "model_module_version": "1.5.0",
      "model_name": "DropdownModel",
      "state": {
       "_options_labels": [
        "All",
        "Cu"
       ],
       "description": "Show",
       "index": 0,
       "layout": "IPY_MODEL_fef4faac6bd446778463d23cee44d24b",
       "style": "IPY_MODEL_5c5ff5c18b204f4d95e600b8397ac137"
      }
     },
     "c3825b3c76164e8aacd68aba2a859805": {
      "model_module": "@jupyter-widgets/base",
      "model_module_version": "1.2.0",
      "model_name": "LayoutModel",
      "state": {
       "width": "34px"
      }
     },
     "c61a2063682249fca5789920c6dc5337": {
      "model_module": "@jupyter-widgets/controls",
      "model_module_version": "1.5.0",
      "model_name": "HBoxModel",
      "state": {
       "children": [
        "IPY_MODEL_d4e0b3045c244b36b34b7bc3dc2baecc",
        "IPY_MODEL_40238c7795304d02a26ec776501ca98d"
       ],
       "layout": "IPY_MODEL_70e0b48779dc460a9c7c6e34e14bb813"
      }
     },
     "c8d8c377a8454883a419147975ca1e0e": {
      "model_module": "@jupyter-widgets/controls",
      "model_module_version": "1.5.0",
      "model_name": "LinkModel",
      "state": {
       "source": [
        "IPY_MODEL_0cf2330855bc4e7196cddfab0fa6151b",
        "max"
       ],
       "target": [
        "IPY_MODEL_2eda42a2a7c443b58ee1395ae468a0e8",
        "max_frame"
       ]
      }
     },
     "cc9b0a3100d249bc9fb6e3100224413f": {
      "model_module": "@jupyter-widgets/base",
      "model_module_version": "1.2.0",
      "model_name": "LayoutModel",
      "state": {}
     },
     "cdb415df97b54947b9d6ce5182ae63bc": {
      "model_module": "@jupyter-widgets/base",
      "model_module_version": "1.2.0",
      "model_name": "LayoutModel",
      "state": {}
     },
     "d4e0b3045c244b36b34b7bc3dc2baecc": {
      "model_module": "@jupyter-widgets/controls",
      "model_module_version": "1.5.0",
      "model_name": "ButtonModel",
      "state": {
       "description": "Download image",
       "layout": "IPY_MODEL_8b615c7c7b0c4a61b53493136ca28776",
       "style": "IPY_MODEL_4c8c70cbd5204d7ba7dd44a230e3debe",
       "tooltip": "Download current frame to your local PC"
      }
     },
     "de245fda973b4daca8884d19b45674d8": {
      "model_module": "@jupyter-widgets/controls",
      "model_module_version": "1.5.0",
      "model_name": "SliderStyleModel",
      "state": {
       "description_width": ""
      }
     },
     "eb611b692c2b4c2c821ed61ee606aa38": {
      "model_module": "@jupyter-widgets/controls",
      "model_module_version": "1.5.0",
      "model_name": "DescriptionStyleModel",
      "state": {
       "description_width": ""
      }
     },
     "ec386ae0e6b9454b81aaf836f8a69de3": {
      "model_module": "@jupyter-widgets/base",
      "model_module_version": "1.2.0",
      "model_name": "LayoutModel",
      "state": {}
     },
     "f0eb4f3788d946e0a42ae9b519d0c33b": {
      "model_module": "@jupyter-widgets/controls",
      "model_module_version": "1.5.0",
      "model_name": "SliderStyleModel",
      "state": {
       "description_width": ""
      }
     },
     "f33e1d07e0eb4f2ebbaf1ff4379635e8": {
      "model_module": "@jupyter-widgets/controls",
      "model_module_version": "1.5.0",
      "model_name": "ButtonModel",
      "state": {
       "icon": "compress",
       "layout": "IPY_MODEL_c3825b3c76164e8aacd68aba2a859805",
       "style": "IPY_MODEL_11a1670dcffe4979b6d8e515fdd519d9"
      }
     },
     "f7f614bae68b48f0938e3f1ace3e50dc": {
      "model_module": "@jupyter-widgets/controls",
      "model_module_version": "1.5.0",
      "model_name": "FloatSliderModel",
      "state": {
       "description": "Charge scale",
       "layout": "IPY_MODEL_740a45cf7e7c4653b4fd940e32b11531",
       "step": 0.1,
       "style": "IPY_MODEL_0ba219a5f6114af8b597cf7a923217f1",
       "value": 1
      }
     },
     "fb9a802a658f466899f454df7315bb5c": {
      "model_module": "@jupyter-widgets/controls",
      "model_module_version": "1.5.0",
      "model_name": "PlayModel",
      "state": {
       "layout": "IPY_MODEL_99450537980e44fd9945ea47e8b0f232",
       "max": 19,
       "style": "IPY_MODEL_152269d93cbc4e5dab25eed43476df49"
      }
     },
     "fef4faac6bd446778463d23cee44d24b": {
      "model_module": "@jupyter-widgets/base",
      "model_module_version": "1.2.0",
      "model_name": "LayoutModel",
      "state": {}
     }
    },
    "version_major": 2,
    "version_minor": 0
   }
  }
 },
 "nbformat": 4,
 "nbformat_minor": 5
}
