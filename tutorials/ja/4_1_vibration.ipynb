{
 "cells": [
  {
   "cell_type": "markdown",
   "id": "248753bc-eea0-49f0-a49c-b23fdec72489",
   "metadata": {},
   "source": [
    "# 振動解析 - Vibration Analysis\n",
    "\n",
    "前章まででは、局所安定構造をもとめ、そこから得られる各種エネルギーを学びました。\n",
    "\n",
    "本章では、安定構造周辺のエネルギー局面 (PES: Potential Energy Surface)の挙動を解析することによって得られる物性を見ていきます。\n",
    "\n",
    "まずは、周期境界のない系(有機分子など)に対する振動解析を行う、Vibrationを見ていきましょう。<br/>\n",
    "振動解析によって得られる物性値は、IRスペクトルなど現実で観測できる量とも関連する物理量となります。"
   ]
  },
  {
   "cell_type": "markdown",
   "id": "8535e742-120d-40ab-aca6-91303e05135f",
   "metadata": {},
   "source": [
    "## 調和振動子近似 (Harmonic approximation)\n",
    "\n",
    "これまでCalculatorを用いて求めてきた、ポテンシャルエネルギー $V$ を、局所安定点の周りで近似することを考えてみましょう。\n",
    "\n",
    "1変数関数 $f(x)$ を、ある点$x_0$ 周りで表すとテイラー展開を用いて、以下のように表せます。\n",
    "\n",
    "$$ f(x) = f(x_0) + f'(x_0) \\Delta x + \\frac{1}{2} f''(x_0) \\Delta x^2 + \\cdots $$\n",
    "\n",
    "ここで、$\\Delta x = x - x_0$ としています。\n",
    "\n",
    "同様に、多変数関数 $f(\\mathbf{x})$は、$\\Delta \\mathbf{x} = \\mathbf{x} - \\mathbf{x_0}$ として、\n",
    "\n",
    "$$ f(\\mathbf{x}) = f(\\mathbf{x_0}) +　\\sum_i \\frac{\\partial f(\\mathbf{x_0})}{\\partial x_i} \\Delta \\mathbf{x}_i + \\frac{1}{2} \\sum_{ij} \\frac{\\partial^2 f(\\mathbf{x_0})}{\\partial x_i \\partial x_j} \\Delta \\mathbf{x}_i \\Delta \\mathbf{x}_j + \\cdots $$\n",
    "\n",
    "と表せます。\n",
    "\n",
    "ここで、ポテンシャルエネルギー $V(\\mathbf{r})$ に関してこの式を適用してみると、構造が安定となる点 $\\mathbf{r_0}$では力 $\\mathbf{F}_i = \\frac{\\partial V(\\mathbf{r_0})}{\\partial r_i} $ が0となっているため、1次微分の項は0となり、２次までの展開では、\n",
    "\n",
    "$$ V(\\mathbf{r}) \\approx V(\\mathbf{r_0}) +　\\frac{1}{2} \\sum_{ij} \\frac{\\partial^2 V(\\mathbf{r_0})}{\\partial r_i \\partial r_j} \\Delta \\mathbf{r}_i \\Delta \\mathbf{r}_j $$\n",
    "\n",
    "と書くことができます。\n",
    "\n",
    "エネルギーの2回微分である $\\frac{\\partial^2 V(\\mathbf{r_0})}{\\partial r_i \\partial r_j}$は、**Hessian**または、 **力定数マトリクス(Force constant matrix)** と呼ばれます。\n",
    "\n",
    "このようにエネルギー局面として、2次の項のみを考えるものは、バネにつながった系を考えた場合と同じエネルギーの形となり、調和振動子近似と呼びます。\n",
    "\n",
    "以下の例は、[5-9 調和振動子近似(*) – ページ 2 – Shinshu Univ., Physical Chemistry Lab., Adsorption Group](https://science.shinshu-u.ac.jp/~tiiyama/?page_id=13288&page=2)で示されているもので、\n",
    "赤線のモースポテンシャル $D(1-e^{- \\beta x})^2$ を、x=0の安定点を中心にして青線の調和振動子ポテンシャル $(1/2)kx^2$ で近似した例を表します。$x=0$ 付近では、近似がある程度成り立っていることがわかります。\n",
    "\n",
    "<figure style=\"width: 500px\">\n",
    "　　　　<img src=\"https://i0.wp.com/science.shinshu-u.ac.jp/~tiiyama/wp-content/uploads/2019/02/morse1.png?w=600&ssl=1\"/>\n",
    "</figure>\n",
    "\n",
    "図1: モースポテンシャル(赤線)と調和振動子ポテンシャル(青線)の比較<br/>\n",
    "<a href=\"https://science.shinshu-u.ac.jp/~tiiyama/?page_id=13288&page=2\">Shinshu Univ., Physical Chemistry Lab., Adsorption Group Iiyama & Futamura Laboratory</a> より引用"
   ]
  },
  {
   "cell_type": "markdown",
   "id": "d46ff69e-20c6-4f8a-9100-8650e1ab204f",
   "metadata": {},
   "source": [
    "## Vibration\n",
    "\n",
    "ポテンシャルエネルギー $V(\\mathbf{r})$ は$N$個の原子がある時、それぞれの原子に対して$x, y, z$ の3方向に自由度を持つため、$3N$ 次元関数となり、\n",
    "Hessian $\\frac{\\partial^2 V(\\mathbf{r_0})}{\\partial r_i \\partial r_j}$ は $3N * 3N$ 次元の行列となります。\n",
    "これを対角化することで、 $3N$ 個の固有値と固有ベクトルが得られます。\n",
    "\n",
    "それぞれの固有値がバネの強さ、固有ベクトルがバネの方向→振動モードに対応します。\n",
    "\n",
    "$3N$個ある自由度の中で、分子全体が移動する並進運動の自由度が3、<br/>\n",
    "また分子全体が重心を中心に回転する回転の自由度が直線分子では 2、非直線分子では 3 存在します。\n",
    "\n",
    "最終的に、並進と回転の自由度をそれぞれ差し引いた以下の自由度の数だけ振動モード（基準振動）があります。\n",
    "\n",
    " - 直線分子: $3N-5$ \n",
    " - 非直線分子: $3N-6$\n",
    "\n",
    "\n",
    "実例を見ていきましょう。ASEでは `Vibration` moduleを使用することで振動解析を行うことが可能です。\n",
    " - https://wiki.fysik.dtu.dk/ase//ase/vibrations/vibrations.html\n"
   ]
  },
  {
   "cell_type": "markdown",
   "id": "dcda71a8-1eda-43a6-b446-32840a14d310",
   "metadata": {},
   "source": [
    "### H2O\n",
    "\n",
    "H2Oは3原子からなる非直線分子なので、9個の自由度のうち、6個が並進・回転の自由度、3個が振動モードとなるはずです。\n",
    "\n",
    "振動解析を行う際は、まず、系の構造最適化を行い、力が0になる点に移動させます。"
   ]
  },
  {
   "cell_type": "code",
   "execution_count": 1,
   "id": "11a58985-04fa-4c78-a2e6-dacf16b00658",
   "metadata": {},
   "outputs": [
    {
     "name": "stdout",
     "output_type": "stream",
     "text": [
      "       Step     Time          Energy         fmax\n",
      "*Force-consistent energies used in optimization.\n",
      "LBFGS:    0 22:04:34      -10.020077*       0.2280\n",
      "LBFGS:    1 22:04:35      -10.020929*       0.1044\n",
      "LBFGS:    2 22:04:35      -10.021161*       0.0718\n",
      "LBFGS:    3 22:04:35      -10.021430*       0.0014\n",
      "LBFGS:    4 22:04:35      -10.021426*       0.0000\n"
     ]
    },
    {
     "data": {
      "text/plain": [
       "True"
      ]
     },
     "execution_count": 1,
     "metadata": {},
     "output_type": "execute_result"
    }
   ],
   "source": [
    "from ase.build import molecule\n",
    "from ase.optimize import LBFGS, BFGS, FIRE\n",
    "import pfp_api_client\n",
    "from pfp_api_client.pfp.calculators.ase_calculator import ASECalculator\n",
    "from pfp_api_client.pfp.estimator import Estimator, EstimatorCalcMode\n",
    "\n",
    "\n",
    "#estimator = Estimator(calc_mode=EstimatorCalcMode.MOLECULE, model_version=\"latest\")\n",
    "estimator = Estimator(calc_mode=EstimatorCalcMode.CRYSTAL, model_version=\"v2.0.0\")\n",
    "calculator = ASECalculator(estimator)\n",
    "atoms = molecule(\"H2O\")\n",
    "atoms.calc = calculator\n",
    "LBFGS(atoms).run(fmax=0.0001)"
   ]
  },
  {
   "cell_type": "markdown",
   "id": "0240980e-c6b0-4176-a314-0b1d2eb447ca",
   "metadata": {},
   "source": [
    "ASEを用いる場合は `Vibrations`を用いることにより、各振動モードの計算ができます。\n",
    "この方法では、以下の式のように原子の位置を微小変化させた際の力の差分を求める事によりHessian を算出しています。\n",
    "\n",
    "$$\\frac{\\partial^2 V(\\mathbf{r_0})}{\\partial r_i \\partial r_j} \\approx \\frac{F(\\mathbf{r_0} + \\Delta r_i)_j - F(\\mathbf{r_0})_j}{|\\Delta{r_i}|} $$\n",
    "\n",
    "ここで、$\\Delta{r_i}$は、$3N$個ある座標のうち`i`番目のみを微笑変化させたベクトルを表します。\n",
    "\n",
    "`Vibrations` moduleでは、\n",
    "`vib.run()`で上記式の計算とその対角化を行い、`vib.summary()` で固有値のルートを出力しています。<br/>\n",
    "\n",
    "`vib.run()`は`name`で指定されたディレクトリを作成し、計算結果をキャッシュします。\n",
    "そのため、別の計算を行う際にキャッシュファイルが残っていると新しい計算結果が反映されません。\n",
    "キャッシュされたファイルの削除は、`vib.clean()`で行うことができます。"
   ]
  },
  {
   "cell_type": "code",
   "execution_count": 2,
   "id": "36595ebd-80ea-4bcc-b469-f360f0da8279",
   "metadata": {},
   "outputs": [
    {
     "name": "stdout",
     "output_type": "stream",
     "text": [
      "---------------------\n",
      "  #    meV     cm^-1\n",
      "---------------------\n",
      "  0    6.3i     50.5i\n",
      "  1    0.2i      1.6i\n",
      "  2    0.1i      0.6i\n",
      "  3    0.1i      0.5i\n",
      "  4    3.3      26.5\n",
      "  5    3.5      28.4\n",
      "  6  202.6    1634.4\n",
      "  7  463.5    3738.1\n",
      "  8  474.0    3823.4\n",
      "---------------------\n",
      "Zero-point energy: 0.573 eV\n"
     ]
    }
   ],
   "source": [
    "from ase.vibrations import Vibrations\n",
    "\n",
    "vib = Vibrations(atoms, indices=None, delta=0.01, name=\"vib-h2o\", nfree=2)\n",
    "vib.clean()\n",
    "vib.run()\n",
    "vib.summary()"
   ]
  },
  {
   "cell_type": "markdown",
   "id": "4bfda0d3-74ec-4420-9543-b91dd7bf9171",
   "metadata": {},
   "source": [
    "結果を見てみると、実際に並進・回転モードに対応する#0から#5までの6つのモードの固有エネルギーがほぼ0となっている事がわかります。<br/>\n",
    "また、#6-#8の振動モードに対応する固有エネルギーは0より大きな値となっていることもわかります。\n",
    "\n",
    "\n",
    "[Note]\n",
    "\n",
    "\"i\" がついているものは虚数となっており、固有値がマイナスになっていることを表します。<br/>\n",
    "これは２次関数で表した際に上に凸な２次局面を表しており、更にエネルギーを下げる点が存在していることを示唆しており、構造最適化を行った局所安定点の振る舞いとしては望まれない結果となります。\n",
    "ただし今回はその値は大きくないため、ほぼ0であるとみなすことができます。\n",
    "\n"
   ]
  },
  {
   "cell_type": "markdown",
   "id": "d531ab9f-11aa-49c9-a659-4143af05e8a7",
   "metadata": {},
   "source": [
    "各振動モードを可視化して見ましょう。\n",
    "\n",
    "`vib.write_mode()`を用いると、カレントディレクトリ下に `name` で指定した名前で各振動モードのTrajectoryファイルが出力されます。"
   ]
  },
  {
   "cell_type": "code",
   "execution_count": 3,
   "id": "2e490775-7150-40f0-a1b9-586b84c80e4b",
   "metadata": {},
   "outputs": [],
   "source": [
    "vib.write_mode()"
   ]
  },
  {
   "cell_type": "markdown",
   "id": "f2188cad-106b-4d12-9cc3-f3b97fab63df",
   "metadata": {},
   "source": [
    "以下のコードでは、`mode`の値を0から8に変えることで各振動モードがどのように振動しているかを確認することができます。\n",
    "\n",
    "実際に、modeが0から5の値では並進や回転の運動となっていて、6から8の値を見ると、以下のように振動モードに対応していることがわかります。\n",
    "\n",
    " - mode 6: H2Oの角度が変わるような振動 (変角振動)\n",
    " - mode 7: HO間の結合長が同時に変わるような振動 (対称伸縮振動)\n",
    " - mode 8: HO間の結合長が交互に変わるような振動 (非対称伸縮振動)\n",
    "\n",
    "\n",
    "以下の参考文献に記載されているようにそれぞれの振動をIRスペクトルで確認することもできます。\n",
    "\n",
    " - [2. 赤外非線形分光法で観る水の振動・構造ダイナミクス](https://www.jstage.jst.go.jp/article/electrochemistry/82/9/82_14-9-FE0074/_article)\n"
   ]
  },
  {
   "cell_type": "code",
   "execution_count": 4,
   "id": "3511d1b8-7d45-4792-8675-b64a12715b54",
   "metadata": {},
   "outputs": [
    {
     "data": {
      "application/vnd.jupyter.widget-view+json": {
       "model_id": "186719f60e5342f7a22de1f1ea083143",
       "version_major": 2,
       "version_minor": 0
      },
      "text/plain": []
     },
     "metadata": {},
     "output_type": "display_data"
    },
    {
     "data": {
      "application/vnd.jupyter.widget-view+json": {
       "model_id": "98049e8a0cb348ba8e23c23875de011d",
       "version_major": 2,
       "version_minor": 0
      },
      "text/plain": [
       "HBox(children=(NGLWidget(max_frame=29), VBox(children=(Dropdown(description='Show', options=('All', 'O', 'H'),…"
      ]
     },
     "metadata": {},
     "output_type": "display_data"
    }
   ],
   "source": [
    "from ase.io.trajectory import Trajectory\n",
    "from pfcc_extras.visualize.view import view_ngl\n",
    "\n",
    "mode = 6\n",
    "traj = Trajectory(f\"vib-h2o.{mode}.traj\")\n",
    "view_ngl(traj, representations=[\"ball+stick\"])"
   ]
  },
  {
   "cell_type": "markdown",
   "id": "3e1e40db-487c-487e-ac1c-90cab1a8360b",
   "metadata": {},
   "source": [
    "以下のようにして、各振動モードをアニメーション png ファイルとして保存することもできます。"
   ]
  },
  {
   "cell_type": "code",
   "execution_count": 5,
   "id": "d2c896fd-d550-412e-806a-80ae359be60e",
   "metadata": {},
   "outputs": [
    {
     "data": {
      "application/vnd.jupyter.widget-view+json": {
       "model_id": "267be9f9f3ad4123bc57abb038af9218",
       "version_major": 2,
       "version_minor": 0
      },
      "text/plain": [
       "  0%|          | 0/9 [00:00<?, ?it/s]"
      ]
     },
     "metadata": {},
     "output_type": "display_data"
    },
    {
     "name": "stderr",
     "output_type": "stream",
     "text": [
      "[Parallel(n_jobs=16)]: Using backend ThreadingBackend with 16 concurrent workers.\n",
      "[Parallel(n_jobs=16)]: Done  30 out of  30 | elapsed:    3.6s remaining:    0.0s\n",
      "[Parallel(n_jobs=16)]: Done  30 out of  30 | elapsed:    3.6s finished\n",
      "[Parallel(n_jobs=16)]: Using backend ThreadingBackend with 16 concurrent workers.\n",
      "[Parallel(n_jobs=16)]: Done  30 out of  30 | elapsed:    3.7s remaining:    0.0s\n",
      "[Parallel(n_jobs=16)]: Done  30 out of  30 | elapsed:    3.7s finished\n",
      "[Parallel(n_jobs=16)]: Using backend ThreadingBackend with 16 concurrent workers.\n",
      "[Parallel(n_jobs=16)]: Done  30 out of  30 | elapsed:    3.5s remaining:    0.0s\n",
      "[Parallel(n_jobs=16)]: Done  30 out of  30 | elapsed:    3.5s finished\n",
      "[Parallel(n_jobs=16)]: Using backend ThreadingBackend with 16 concurrent workers.\n",
      "[Parallel(n_jobs=16)]: Done  30 out of  30 | elapsed:    2.4s remaining:    0.0s\n",
      "[Parallel(n_jobs=16)]: Done  30 out of  30 | elapsed:    2.4s finished\n",
      "[Parallel(n_jobs=16)]: Using backend ThreadingBackend with 16 concurrent workers.\n",
      "[Parallel(n_jobs=16)]: Done  30 out of  30 | elapsed:    3.6s remaining:    0.0s\n",
      "[Parallel(n_jobs=16)]: Done  30 out of  30 | elapsed:    3.6s finished\n",
      "[Parallel(n_jobs=16)]: Using backend ThreadingBackend with 16 concurrent workers.\n",
      "[Parallel(n_jobs=16)]: Done  30 out of  30 | elapsed:    3.5s remaining:    0.0s\n",
      "[Parallel(n_jobs=16)]: Done  30 out of  30 | elapsed:    3.5s finished\n",
      "[Parallel(n_jobs=16)]: Using backend ThreadingBackend with 16 concurrent workers.\n",
      "[Parallel(n_jobs=16)]: Done  30 out of  30 | elapsed:    3.6s remaining:    0.0s\n",
      "[Parallel(n_jobs=16)]: Done  30 out of  30 | elapsed:    3.6s finished\n",
      "[Parallel(n_jobs=16)]: Using backend ThreadingBackend with 16 concurrent workers.\n",
      "[Parallel(n_jobs=16)]: Done  30 out of  30 | elapsed:    3.6s remaining:    0.0s\n",
      "[Parallel(n_jobs=16)]: Done  30 out of  30 | elapsed:    3.6s finished\n",
      "[Parallel(n_jobs=16)]: Using backend ThreadingBackend with 16 concurrent workers.\n",
      "[Parallel(n_jobs=16)]: Done  30 out of  30 | elapsed:    3.5s remaining:    0.0s\n",
      "[Parallel(n_jobs=16)]: Done  30 out of  30 | elapsed:    3.5s finished\n"
     ]
    }
   ],
   "source": [
    "from tqdm.auto import tqdm\n",
    "from pfcc_extras.visualize.povray import traj_to_apng\n",
    "\n",
    "\n",
    "for mode in tqdm(range(9)):\n",
    "    traj = Trajectory(f\"vib-h2o.{mode}.traj\")\n",
    "    traj_to_apng(traj, f\"output/vib-h2o.{mode}.png\", rotation=\"90x,90y,180z\", clean=True, n_jobs=16)"
   ]
  },
  {
   "cell_type": "markdown",
   "id": "333b45f1-73c4-4aba-a4c9-1c75cc6b5c39",
   "metadata": {},
   "source": [
    "**H2Oの振動モード**\n",
    "\n",
    "<div style=\"clear:both;display:table\">\n",
    "<figure style=\"width:30%;float:left;margin:10px\">\n",
    "  <img src=\"./output/vib-h2o.6.png\" alt=\"mode6\">\n",
    "  <figcaption>Mode #6</figcaption>\n",
    "</figure>\n",
    "<figure style=\"width:30%;float:left;margin:10px\">\n",
    "  <img src=\"./output/vib-h2o.7.png\" alt=\"mode7\">\n",
    "  <figcaption>Mode #7</figcaption>\n",
    "</figure>\n",
    "<figure style=\"width:30%;float:left;margin:10px\">\n",
    "  <img src=\"./output/vib-h2o.8.png\" alt=\"mode8\">\n",
    "  <figcaption>Mode #8</figcaption>\n",
    "</figure>\n",
    "</div>"
   ]
  },
  {
   "cell_type": "markdown",
   "id": "e1849047-d271-4d34-90d1-337e025bf42b",
   "metadata": {},
   "source": [
    "### CO2\n",
    "\n",
    "CO2はH2Oと同じ３原子からなりますが、直線分子です。<br/>\n",
    "そのため、並進・回転モードが5つ、振動モードが4つになることが期待されます。\n",
    "\n",
    "実際に確認してみましょう。前回同様、構造最適化を行ってから、振動解析を行います。"
   ]
  },
  {
   "cell_type": "code",
   "execution_count": 6,
   "id": "81ff7ec8-0b6c-4a7a-98ac-17713b832c57",
   "metadata": {},
   "outputs": [
    {
     "name": "stdout",
     "output_type": "stream",
     "text": [
      "       Step     Time          Energy         fmax\n",
      "*Force-consistent energies used in optimization.\n",
      "LBFGS:    0 06:02:02      -17.706260*       0.2452\n",
      "LBFGS:    1 06:02:02      -17.706731*       0.1111\n",
      "LBFGS:    2 06:02:03      -17.706857*       0.0013\n",
      "LBFGS:    3 06:02:03      -17.706858*       0.0000\n",
      "---------------------\n",
      "  #    meV     cm^-1\n",
      "---------------------\n",
      "  0    0.6i      4.7i\n",
      "  1    0.6i      4.7i\n",
      "  2    0.2i      2.0i\n",
      "  3    0.9       7.2\n",
      "  4    0.9       7.2\n",
      "  5   71.0     572.6\n",
      "  6   71.0     572.6\n",
      "  7  165.0    1330.9\n",
      "  8  289.2    2332.6\n",
      "---------------------\n",
      "Zero-point energy: 0.299 eV\n"
     ]
    }
   ],
   "source": [
    "atoms = molecule(\"CO2\")\n",
    "atoms.calc = calculator\n",
    "LBFGS(atoms).run(fmax=0.001)\n",
    "vib = Vibrations(atoms, indices=None, delta=0.01, name=\"vib-co2\", nfree=2)\n",
    "vib.clean()\n",
    "vib.run()\n",
    "vib.summary()"
   ]
  },
  {
   "cell_type": "code",
   "execution_count": 7,
   "id": "9901e5f7-fa62-43e5-b0f8-ccc4127f749d",
   "metadata": {},
   "outputs": [],
   "source": [
    "vib.write_mode()"
   ]
  },
  {
   "cell_type": "markdown",
   "id": "7d7e0237-eb34-402a-98ae-4b9562048192",
   "metadata": {},
   "source": [
    "実際に、#0-#4の並進・回転に相当する5つのモードで固有エネルギーがほぼ0となっており、#5-#8の振動に相当する固有モードが0より大きな値となっています。\n",
    "\n",
    "前回同様可視化を行ってみます。#5と#6の振動は同じ固有エネルギーとなっていて、振動モード(=固有ベクトル)が縮退していることがわかります。\n",
    "\n",
    " - mode 5, 6: CO2の角度が変わるような振動、2つの方向への変化が縮退していることがわかります。\n",
    " - mode 7: CO間の結合長が同時に変わるような振動\n",
    " - mode 8: CO間の結合長が交互に変わるような振動"
   ]
  },
  {
   "cell_type": "code",
   "execution_count": 8,
   "id": "d1d44aea-c82b-464f-8637-80247ed51344",
   "metadata": {},
   "outputs": [
    {
     "data": {
      "application/vnd.jupyter.widget-view+json": {
       "model_id": "484acad5c9f443e7b7ce5faddf38ee85",
       "version_major": 2,
       "version_minor": 0
      },
      "text/plain": [
       "HBox(children=(NGLWidget(max_frame=29), VBox(children=(Dropdown(description='Show', options=('All', 'O', 'C'),…"
      ]
     },
     "metadata": {},
     "output_type": "display_data"
    }
   ],
   "source": [
    "from ase.io.trajectory import Trajectory\n",
    "from pfcc_extras.visualize.view import view_ngl\n",
    "\n",
    "mode = 5\n",
    "traj = Trajectory(f\"vib-co2.{mode}.traj\")\n",
    "view_ngl(traj, representations=[\"ball+stick\"])"
   ]
  },
  {
   "cell_type": "code",
   "execution_count": 9,
   "id": "63be7161-1b3e-4ecb-839e-fc133e0c8e1b",
   "metadata": {},
   "outputs": [
    {
     "data": {
      "application/vnd.jupyter.widget-view+json": {
       "model_id": "4932de016e0f4276a36b1ea0f5761c93",
       "version_major": 2,
       "version_minor": 0
      },
      "text/plain": [
       "  0%|          | 0/9 [00:00<?, ?it/s]"
      ]
     },
     "metadata": {},
     "output_type": "display_data"
    },
    {
     "name": "stderr",
     "output_type": "stream",
     "text": [
      "[Parallel(n_jobs=16)]: Using backend ThreadingBackend with 16 concurrent workers.\n",
      "[Parallel(n_jobs=16)]: Done  30 out of  30 | elapsed:    3.8s remaining:    0.0s\n",
      "[Parallel(n_jobs=16)]: Done  30 out of  30 | elapsed:    3.8s finished\n",
      "[Parallel(n_jobs=16)]: Using backend ThreadingBackend with 16 concurrent workers.\n",
      "[Parallel(n_jobs=16)]: Done  30 out of  30 | elapsed:    3.7s remaining:    0.0s\n",
      "[Parallel(n_jobs=16)]: Done  30 out of  30 | elapsed:    3.7s finished\n",
      "[Parallel(n_jobs=16)]: Using backend ThreadingBackend with 16 concurrent workers.\n",
      "[Parallel(n_jobs=16)]: Done  30 out of  30 | elapsed:    3.5s remaining:    0.0s\n",
      "[Parallel(n_jobs=16)]: Done  30 out of  30 | elapsed:    3.5s finished\n",
      "[Parallel(n_jobs=16)]: Using backend ThreadingBackend with 16 concurrent workers.\n",
      "[Parallel(n_jobs=16)]: Done  30 out of  30 | elapsed:    3.8s remaining:    0.0s\n",
      "[Parallel(n_jobs=16)]: Done  30 out of  30 | elapsed:    3.9s finished\n",
      "[Parallel(n_jobs=16)]: Using backend ThreadingBackend with 16 concurrent workers.\n",
      "[Parallel(n_jobs=16)]: Done  30 out of  30 | elapsed:    4.3s remaining:    0.0s\n",
      "[Parallel(n_jobs=16)]: Done  30 out of  30 | elapsed:    4.3s finished\n",
      "[Parallel(n_jobs=16)]: Using backend ThreadingBackend with 16 concurrent workers.\n",
      "[Parallel(n_jobs=16)]: Done  30 out of  30 | elapsed:    3.7s remaining:    0.0s\n",
      "[Parallel(n_jobs=16)]: Done  30 out of  30 | elapsed:    3.7s finished\n",
      "[Parallel(n_jobs=16)]: Using backend ThreadingBackend with 16 concurrent workers.\n",
      "[Parallel(n_jobs=16)]: Done  30 out of  30 | elapsed:    3.6s remaining:    0.0s\n",
      "[Parallel(n_jobs=16)]: Done  30 out of  30 | elapsed:    3.6s finished\n",
      "[Parallel(n_jobs=16)]: Using backend ThreadingBackend with 16 concurrent workers.\n",
      "[Parallel(n_jobs=16)]: Done  30 out of  30 | elapsed:    3.7s remaining:    0.0s\n",
      "[Parallel(n_jobs=16)]: Done  30 out of  30 | elapsed:    3.7s finished\n",
      "[Parallel(n_jobs=16)]: Using backend ThreadingBackend with 16 concurrent workers.\n",
      "[Parallel(n_jobs=16)]: Done  30 out of  30 | elapsed:    3.7s remaining:    0.0s\n",
      "[Parallel(n_jobs=16)]: Done  30 out of  30 | elapsed:    3.7s finished\n"
     ]
    }
   ],
   "source": [
    "from tqdm.auto import tqdm\n",
    "from pfcc_extras.visualize.povray import traj_to_apng\n",
    "\n",
    "\n",
    "for mode in tqdm(range(9)):\n",
    "    traj = Trajectory(f\"vib-co2.{mode}.traj\")\n",
    "    traj_to_apng(traj, f\"output/vib-co2.{mode}.png\", rotation=\"30x,30y,30z\", clean=True, n_jobs=16)"
   ]
  },
  {
   "cell_type": "markdown",
   "id": "6d63e5d7-2dfe-4fb2-8711-f6134f210e75",
   "metadata": {},
   "source": [
    "**CO2の振動モード**\n",
    "\n",
    "<div style=\"clear:both;display:table\">\n",
    "<figure style=\"width:23%;float:left;margin:1px\">\n",
    "  <img src=\"./output/vib-co2.5.png\" alt=\"mode5\">\n",
    "  <figcaption>Mode #5</figcaption>\n",
    "</figure>\n",
    "<figure style=\"width:23%;float:left;margin:1px\">\n",
    "  <img src=\"./output/vib-co2.6.png\" alt=\"mode6\">\n",
    "  <figcaption>Mode #6</figcaption>\n",
    "</figure>\n",
    "<figure style=\"width:23%;float:left;margin:1px\">\n",
    "  <img src=\"./output/vib-co2.7.png\" alt=\"mode7\">\n",
    "  <figcaption>Mode #7</figcaption>\n",
    "</figure>\n",
    "<figure style=\"width:23%;float:left;margin:1px\">\n",
    "  <img src=\"./output/vib-co2.8.png\" alt=\"mode8\">\n",
    "  <figcaption>Mode #8</figcaption>\n",
    "</figure>\n",
    "</div>"
   ]
  },
  {
   "cell_type": "markdown",
   "id": "e0d9222e-fc67-4ff5-8cb3-bf1e7af6b980",
   "metadata": {},
   "source": [
    "### CH3OH\n",
    "\n",
    "すこしだけ形を複雑にした分子として、CH3OHで同様に振動解析を行ってみます。\n",
    "\n",
    "６個の原子を持つ非直線分子なので、最初の6つが並進・振動モードとなっており、残りの12個が振動モードとなっていることがわかります。"
   ]
  },
  {
   "cell_type": "code",
   "execution_count": 10,
   "id": "54b7bead-5831-4e94-be59-44e3c68019ee",
   "metadata": {},
   "outputs": [
    {
     "name": "stdout",
     "output_type": "stream",
     "text": [
      "       Step     Time          Energy         fmax\n",
      "*Force-consistent energies used in optimization.\n",
      "LBFGS:    0 06:03:11      -22.437714*       0.2576\n",
      "LBFGS:    1 06:03:11      -22.440610*       0.1603\n",
      "LBFGS:    2 06:03:11      -22.442344*       0.0917\n",
      "LBFGS:    3 06:03:11      -22.442567*       0.0798\n",
      "LBFGS:    4 06:03:11      -22.442928*       0.0472\n",
      "LBFGS:    5 06:03:12      -22.443048*       0.0273\n",
      "LBFGS:    6 06:03:12      -22.443095*       0.0211\n",
      "LBFGS:    7 06:03:12      -22.443155*       0.0208\n",
      "LBFGS:    8 06:03:12      -22.443178*       0.0144\n",
      "LBFGS:    9 06:03:12      -22.443187*       0.0091\n",
      "LBFGS:   10 06:03:13      -22.443193*       0.0072\n",
      "LBFGS:   11 06:03:13      -22.443197*       0.0091\n",
      "LBFGS:   12 06:03:13      -22.443196*       0.0055\n",
      "LBFGS:   13 06:03:13      -22.443196*       0.0014\n",
      "LBFGS:   14 06:03:14      -22.443200*       0.0009\n",
      "---------------------\n",
      "  #    meV     cm^-1\n",
      "---------------------\n",
      "  0    1.4i     11.5i\n",
      "  1    0.9i      7.2i\n",
      "  2    0.2i      1.4i\n",
      "  3    0.1i      1.0i\n",
      "  4    0.0i      0.2i\n",
      "  5    1.2       9.7\n",
      "  6   33.1     267.2\n",
      "  7  123.2     993.3\n",
      "  8  129.4    1043.9\n",
      "  9  137.8    1111.6\n",
      " 10  161.4    1301.7\n",
      " 11  169.7    1368.5\n",
      " 12  172.0    1387.3\n",
      " 13  177.8    1434.4\n",
      " 14  361.7    2917.0\n",
      " 15  369.0    2976.1\n",
      " 16  376.3    3034.7\n",
      " 17  463.2    3736.2\n",
      "---------------------\n",
      "Zero-point energy: 1.338 eV\n"
     ]
    }
   ],
   "source": [
    "atoms = molecule(\"CH3OH\")\n",
    "atoms.calc = calculator\n",
    "LBFGS(atoms).run(fmax=0.001)\n",
    "vib = Vibrations(atoms, indices=None, delta=0.01, name=\"vib-ch3oh\", nfree=2)\n",
    "vib.clean()\n",
    "vib.run()\n",
    "vib.summary()"
   ]
  },
  {
   "cell_type": "markdown",
   "id": "6cb40885-93d6-4b42-8bc8-537d0c8e30bb",
   "metadata": {},
   "source": [
    "それぞれのモードを可視化して見てみましょう。モードによっては全体の原子が複雑に動くような振動モードも得られていることが確認できます。"
   ]
  },
  {
   "cell_type": "code",
   "execution_count": 11,
   "id": "769de471-77cd-479c-b5e6-184f5f8a3ef3",
   "metadata": {},
   "outputs": [],
   "source": [
    "vib.write_mode()"
   ]
  },
  {
   "cell_type": "code",
   "execution_count": 12,
   "id": "1508d789-c54f-48f0-b2e7-8d36d1da402c",
   "metadata": {},
   "outputs": [
    {
     "data": {
      "application/vnd.jupyter.widget-view+json": {
       "model_id": "4d9b04c9f32a4213a12452aa51159302",
       "version_major": 2,
       "version_minor": 0
      },
      "text/plain": [
       "HBox(children=(NGLWidget(max_frame=29), VBox(children=(Dropdown(description='Show', options=('All', 'H', 'O', …"
      ]
     },
     "metadata": {},
     "output_type": "display_data"
    }
   ],
   "source": [
    "from ase.io.trajectory import Trajectory\n",
    "from pfcc_extras.visualize.view import view_ngl\n",
    "\n",
    "mode = 10\n",
    "traj = Trajectory(f\"vib-ch3oh.{mode}.traj\")\n",
    "view_ngl(traj, representations=[\"ball+stick\"])"
   ]
  },
  {
   "cell_type": "markdown",
   "id": "ce92219b-0de7-4ce1-b7e0-a09fd93de49a",
   "metadata": {},
   "source": [
    "### CH4\n",
    "\n",
    "最後に原子数が増えているが、対象性が高い分子の例として、CH4を見てみます。\n",
    "\n",
    "5個の原子を持つ非直線分子なので、最初の6つが並進・振動モードとなっており、残りの9個が振動モードとなっていることがわかります。"
   ]
  },
  {
   "cell_type": "code",
   "execution_count": 13,
   "id": "fe98e5b5-c326-42cf-9c4f-9660dc91aa7a",
   "metadata": {},
   "outputs": [
    {
     "name": "stdout",
     "output_type": "stream",
     "text": [
      "       Step     Time          Energy         fmax\n",
      "*Force-consistent energies used in optimization.\n",
      "LBFGS:    0 06:03:31      -18.153518*       0.2290\n",
      "LBFGS:    1 06:03:32      -18.155788*       0.1190\n",
      "LBFGS:    2 06:03:33      -18.156652*       0.0022\n",
      "LBFGS:    3 06:03:33      -18.156647*       0.0000\n",
      "---------------------\n",
      "  #    meV     cm^-1\n",
      "---------------------\n",
      "  0    3.5i     28.0i\n",
      "  1    3.5i     27.9i\n",
      "  2    3.5i     27.9i\n",
      "  3    0.3i      2.1i\n",
      "  4    0.3i      2.1i\n",
      "  5    0.3i      2.1i\n",
      "  6  141.7    1142.6\n",
      "  7  141.7    1142.7\n",
      "  8  141.7    1142.7\n",
      "  9  187.2    1509.9\n",
      " 10  187.2    1509.9\n",
      " 11  368.1    2968.8\n",
      " 12  379.8    3063.1\n",
      " 13  379.8    3063.1\n",
      " 14  379.8    3063.1\n",
      "---------------------\n",
      "Zero-point energy: 1.153 eV\n"
     ]
    }
   ],
   "source": [
    "atoms = molecule(\"CH4\")\n",
    "atoms.calc = calculator\n",
    "LBFGS(atoms).run(fmax=0.001)\n",
    "vib = Vibrations(atoms, indices=None, delta=0.01, name=\"vib-ch4\", nfree=2)\n",
    "vib.clean()\n",
    "vib.run()\n",
    "vib.summary()"
   ]
  },
  {
   "cell_type": "code",
   "execution_count": 14,
   "id": "b9334771-2c72-4e69-8e34-482aa5dfae16",
   "metadata": {},
   "outputs": [],
   "source": [
    "vib.write_mode()"
   ]
  },
  {
   "cell_type": "markdown",
   "id": "fac7a12b-de3b-4d65-9996-ae9397c6f03e",
   "metadata": {},
   "source": [
    "Matlantisでは、`VibrationFeature` という機能を提供しており、こちらを利用しても振動解析を行うことができます。\n",
    "\n"
   ]
  },
  {
   "cell_type": "code",
   "execution_count": 15,
   "id": "d0314f6b-068a-488f-a5d4-ee03d6b3bf85",
   "metadata": {},
   "outputs": [
    {
     "name": "stdout",
     "output_type": "stream",
     "text": [
      "       Step     Time          Energy         fmax\n",
      "*Force-consistent energies used in optimization.\n",
      "LBFGS:    0 06:05:23      -18.153517*       0.2290\n",
      "LBFGS:    1 06:05:23      -18.155782*       0.1190\n",
      "LBFGS:    2 06:05:23      -18.156647*       0.0022\n",
      "LBFGS:    3 06:05:23      -18.156642*       0.0000\n"
     ]
    }
   ],
   "source": [
    "from matlantis_features.features.common.vibration import VibrationFeature\n",
    "\n",
    "atoms = molecule(\"CH4\")\n",
    "atoms.calc = calculator\n",
    "LBFGS(atoms).run(fmax=0.001)\n",
    "\n",
    "vib_feature = VibrationFeature(delta=0.01)\n",
    "results = vib_feature(atoms)"
   ]
  },
  {
   "cell_type": "markdown",
   "id": "da0c0bad-a1dd-4a59-80c4-8731c0e7cd8f",
   "metadata": {},
   "source": [
    "## 振動解析後に得られる物性値\n",
    "\n",
    "振動解析の結果を利用することにより、例えば以下のような物性値が計算できます。\n",
    "\n",
    "1. thermochemistry calculation: 理想気体近似などのもとで、enthalpyや自由エネルギーなどを求めることができます。詳しくは後ろの章で扱います。\n",
    "2. IRスペクトルの波数: 振動解析の結果から、その分子のIRスペクトルで得られる吸収波長を計算することができます。Matlantisでは、IRスペクトルを計算で算出する機能も提供しています。"
   ]
  },
  {
   "cell_type": "markdown",
   "id": "bb617b93-bc54-4814-8019-883d3dd0de94",
   "metadata": {},
   "source": [
    "## [コラム] 調和振動子近似の有効範囲\n",
    "\n",
    "本章で扱ったVibration、また次章で扱うPhononは調和振動子近似をもとに解析を進めていくため、この近似がどのような構造・場合において成り立つかを理解しておくことは大切です。\n",
    "調和振動子近似は、安定構造付近のポテンシャルエネルギーをバネ型のPotential エネルギー $1/2 k x^2$で置き換えたものであり、下のイメージ図に示すように、各原子が原点からずれればずれるほど大きな力で原点に引き戻されるようなポテンシャルです。\n",
    "すなわち、**固体のように原子がその位置に留まるような構造では有効ですが、流体・気体のようにそもそも各原子が固定された場所に存在しないような場合は有効ではない**ことがわかります。\n",
    "\n",
    "<figure style=\"width: 350px\">\n",
    "　　　　<img src=\"../assets/harmonic_approx_bulk.png\"/>\n",
    "  <figcaption>\n",
    "      調和振動子近似が適用された原子系のイメージ図\n",
    "  </figcaption>\n",
    "</figure>\n",
    "\n",
    "これは温度とも関連します。物質が融点より高く液体状態になっている時は調和振動子近似は有効ではないと言えるでしょう。<br/>\n",
    "目安として、融点に近づくと調和振動子近似の精度が大幅に下がり、**低温領域でのみ**有効な近似となります。"
   ]
  },
  {
   "cell_type": "markdown",
   "id": "25029241-2394-48ce-9210-1f93098b066f",
   "metadata": {},
   "source": [
    "## 次章\n",
    "\n",
    "本章では、分子などの周期境界条件のない系に対する振動解析を行いました。\n",
    "\n",
    "次章では、結晶などの周期境界条件のある系に対する振動として得られる、 **phonon**を扱います。"
   ]
  },
  {
   "cell_type": "markdown",
   "id": "1c2437fe-2519-48ed-be9b-7cd6b20d5191",
   "metadata": {},
   "source": [
    "## 参考文献\n",
    "\n",
    " - [6. 振動解析](http://www.shinshu-u.ac.jp/faculty/engineering/chair/chem009/computer%20file/6_vibration.pdf)\n"
   ]
  }
 ],
 "metadata": {
  "kernelspec": {
   "display_name": "Python 3.7",
   "language": "python",
   "name": "python37"
  },
  "language_info": {
   "codemirror_mode": {
    "name": "ipython",
    "version": 3
   },
   "file_extension": ".py",
   "mimetype": "text/x-python",
   "name": "python",
   "nbconvert_exporter": "python",
   "pygments_lexer": "ipython3",
   "version": "3.7.13"
  },
  "widgets": {
   "application/vnd.jupyter.widget-state+json": {
    "state": {
     "019b40b46ade4abfb848b57d50cf283a": {
      "model_module": "@jupyter-widgets/base",
      "model_module_version": "1.2.0",
      "model_name": "LayoutModel",
      "state": {}
     },
     "035d8bd5062446aa8e588727e16f5cd5": {
      "model_module": "@jupyter-widgets/controls",
      "model_module_version": "1.5.0",
      "model_name": "HTMLModel",
      "state": {
       "layout": "IPY_MODEL_7ab313d1206e4773915b31b2f3e30f54",
       "style": "IPY_MODEL_259fdfeeb0104db9a8cadf6d84afedfb",
       "value": " 9/9 [00:47&lt;00:00,  5.25s/it]"
      }
     },
     "041bafa8de7e4fe49b5f84682cc1ae81": {
      "model_module": "@jupyter-widgets/base",
      "model_module_version": "1.2.0",
      "model_name": "LayoutModel",
      "state": {}
     },
     "0a7fb866ae164c79b48da2e810ab2f57": {
      "model_module": "@jupyter-widgets/base",
      "model_module_version": "1.2.0",
      "model_name": "LayoutModel",
      "state": {}
     },
     "0a9d2f5b2cfb438f82b1193c8a2ddb67": {
      "model_module": "@jupyter-widgets/controls",
      "model_module_version": "1.5.0",
      "model_name": "FloatSliderModel",
      "state": {
       "description": "Ball size",
       "layout": "IPY_MODEL_bdc822e51faa41d0a117b4835468efee",
       "max": 1.5,
       "step": 0.01,
       "style": "IPY_MODEL_8980863e4b2243e59ae938c095204af1",
       "value": 0.5
      }
     },
     "0bfbbe0f38af4a20a51fa60dccf95e62": {
      "model_module": "@jupyter-widgets/controls",
      "model_module_version": "1.5.0",
      "model_name": "FloatSliderModel",
      "state": {
       "description": "Charge scale",
       "layout": "IPY_MODEL_1daf73da051d4734b8a1e95664fc9af9",
       "step": 0.1,
       "style": "IPY_MODEL_733b6fa792fa43e884eb804b8a6257eb",
       "value": 1
      }
     },
     "11438dd68913454694f2c4fdeb2695d6": {
      "model_module": "@jupyter-widgets/controls",
      "model_module_version": "1.5.0",
      "model_name": "DescriptionStyleModel",
      "state": {
       "description_width": ""
      }
     },
     "1158c79ccc08454aa95f094b4c15892b": {
      "model_module": "@jupyter-widgets/controls",
      "model_module_version": "1.5.0",
      "model_name": "ButtonModel",
      "state": {
       "description": "Download image",
       "layout": "IPY_MODEL_30c665104eec4f37a053d601fe9ea85d",
       "style": "IPY_MODEL_489039b80230457b8b02273988b39cfa",
       "tooltip": "Download current frame to your local PC"
      }
     },
     "162f1dce0728410d8c2b4801fd955e49": {
      "model_module": "@jupyter-widgets/controls",
      "model_module_version": "1.5.0",
      "model_name": "SliderStyleModel",
      "state": {
       "description_width": ""
      }
     },
     "181a21b3c121493a99b1baa362afa482": {
      "model_module": "@jupyter-widgets/controls",
      "model_module_version": "1.5.0",
      "model_name": "LinkModel",
      "state": {
       "source": [
        "IPY_MODEL_33576ef7d0854752ba4d582cbcb70aca",
        "value"
       ],
       "target": [
        "IPY_MODEL_e86f6e6e2b504e8481e2c8709af296c1",
        "frame"
       ]
      }
     },
     "186719f60e5342f7a22de1f1ea083143": {
      "model_module": "nglview-js-widgets",
      "model_module_version": "3.0.1",
      "model_name": "ColormakerRegistryModel",
      "state": {
       "_msg_ar": [],
       "_msg_q": [],
       "_ready": true,
       "layout": "IPY_MODEL_b0a77a8f244846bcb49776d3f5f6539c"
      }
     },
     "1a5d660cb33c4da8a04e97481a92cdbb": {
      "model_module": "@jupyter-widgets/base",
      "model_module_version": "1.2.0",
      "model_name": "LayoutModel",
      "state": {
       "border": "0px solid black"
      }
     },
     "1daf73da051d4734b8a1e95664fc9af9": {
      "model_module": "@jupyter-widgets/base",
      "model_module_version": "1.2.0",
      "model_name": "LayoutModel",
      "state": {}
     },
     "1e4fc221206040438e63037fa9e14d66": {
      "model_module": "@jupyter-widgets/controls",
      "model_module_version": "1.5.0",
      "model_name": "ButtonStyleModel",
      "state": {}
     },
     "211252c7dd9640e29db81d54f2bbe685": {
      "model_module": "@jupyter-widgets/base",
      "model_module_version": "1.2.0",
      "model_name": "LayoutModel",
      "state": {}
     },
     "22084c5b655249b9991d330e79f83c90": {
      "model_module": "@jupyter-widgets/controls",
      "model_module_version": "1.5.0",
      "model_name": "ButtonModel",
      "state": {
       "icon": "compress",
       "layout": "IPY_MODEL_f392832a15784f239bcb844950f4300b",
       "style": "IPY_MODEL_1e4fc221206040438e63037fa9e14d66"
      }
     },
     "2369befb290b477f8a9f72e9441191fd": {
      "model_module": "@jupyter-widgets/controls",
      "model_module_version": "1.5.0",
      "model_name": "VBoxModel",
      "state": {
       "children": [
        "IPY_MODEL_d7524fe04fd3421dbc5eef353df08269",
        "IPY_MODEL_c7a24fedf3b94855825cb5d843a45e93",
        "IPY_MODEL_0a9d2f5b2cfb438f82b1193c8a2ddb67",
        "IPY_MODEL_7777faa661e347cc981d9b70f4381fa6",
        "IPY_MODEL_d2483575a260458d9b707adf5d1161a8",
        "IPY_MODEL_28281d2bcde24a189ac42661970f1c5f",
        "IPY_MODEL_e0b987ca0e24472898ec7a50dd805f9c",
        "IPY_MODEL_4f22ea8cc5d241cdbfdcc81f526671cf",
        "IPY_MODEL_4c9d9a78d1ca4b22bf5af5efbe15734d",
        "IPY_MODEL_0bfbbe0f38af4a20a51fa60dccf95e62",
        "IPY_MODEL_b5709cc19ab24fa5b95292117c5035ba"
       ],
       "layout": "IPY_MODEL_59e3857fb0ee41f88fb970ce231af1b3"
      }
     },
     "259fdfeeb0104db9a8cadf6d84afedfb": {
      "model_module": "@jupyter-widgets/controls",
      "model_module_version": "1.5.0",
      "model_name": "DescriptionStyleModel",
      "state": {
       "description_width": ""
      }
     },
     "267be9f9f3ad4123bc57abb038af9218": {
      "model_module": "@jupyter-widgets/controls",
      "model_module_version": "1.5.0",
      "model_name": "HBoxModel",
      "state": {
       "children": [
        "IPY_MODEL_cd4976fa6bc44310a804d6d01dc0f2f8",
        "IPY_MODEL_cd5a3717fbb049688c3ead1041b0db11",
        "IPY_MODEL_035d8bd5062446aa8e588727e16f5cd5"
       ],
       "layout": "IPY_MODEL_aeb2914207f641baabf2b84fee7031e9"
      }
     },
     "28281d2bcde24a189ac42661970f1c5f": {
      "model_module": "@jupyter-widgets/controls",
      "model_module_version": "1.5.0",
      "model_name": "HBoxModel",
      "state": {
       "children": [
        "IPY_MODEL_1158c79ccc08454aa95f094b4c15892b",
        "IPY_MODEL_314816d4c7704900841de300ad17e98d"
       ],
       "layout": "IPY_MODEL_942e1e32fee448c6ba8570cf8469a5ec"
      }
     },
     "2cac18d1d3704a5cad9fe26385d9e31b": {
      "model_module": "@jupyter-widgets/base",
      "model_module_version": "1.2.0",
      "model_name": "LayoutModel",
      "state": {}
     },
     "30c665104eec4f37a053d601fe9ea85d": {
      "model_module": "@jupyter-widgets/base",
      "model_module_version": "1.2.0",
      "model_name": "LayoutModel",
      "state": {}
     },
     "314816d4c7704900841de300ad17e98d": {
      "model_module": "@jupyter-widgets/controls",
      "model_module_version": "1.5.0",
      "model_name": "ButtonModel",
      "state": {
       "description": "Save image",
       "layout": "IPY_MODEL_bcdeb704ad2948cfacd8004f6000760d",
       "style": "IPY_MODEL_3b883ea880234f8b9e8e8af18f9370fc",
       "tooltip": "Save current frame to file.\nCurrently .png and .html are supported.\nIt takes a bit time, please be patient."
      }
     },
     "33576ef7d0854752ba4d582cbcb70aca": {
      "model_module": "@jupyter-widgets/controls",
      "model_module_version": "1.5.0",
      "model_name": "PlayModel",
      "state": {
       "layout": "IPY_MODEL_cbf36c85a12c49bab9146e259947b58c",
       "max": 29,
       "style": "IPY_MODEL_3547ef29f0e942f1803a439ff65daf01"
      }
     },
     "3547ef29f0e942f1803a439ff65daf01": {
      "model_module": "@jupyter-widgets/controls",
      "model_module_version": "1.5.0",
      "model_name": "DescriptionStyleModel",
      "state": {
       "description_width": ""
      }
     },
     "3b883ea880234f8b9e8e8af18f9370fc": {
      "model_module": "@jupyter-widgets/controls",
      "model_module_version": "1.5.0",
      "model_name": "ButtonStyleModel",
      "state": {}
     },
     "41748d8a997047c5bb53595875c41679": {
      "model_module": "@jupyter-widgets/controls",
      "model_module_version": "1.5.0",
      "model_name": "ProgressStyleModel",
      "state": {
       "description_width": ""
      }
     },
     "44ff46984926419fb380287775203bd8": {
      "model_module": "@jupyter-widgets/base",
      "model_module_version": "1.2.0",
      "model_name": "LayoutModel",
      "state": {}
     },
     "489039b80230457b8b02273988b39cfa": {
      "model_module": "@jupyter-widgets/controls",
      "model_module_version": "1.5.0",
      "model_name": "ButtonStyleModel",
      "state": {}
     },
     "4c9d9a78d1ca4b22bf5af5efbe15734d": {
      "model_module": "@jupyter-widgets/controls",
      "model_module_version": "1.5.0",
      "model_name": "CheckboxModel",
      "state": {
       "description": "Show charge",
       "disabled": false,
       "layout": "IPY_MODEL_b1a9eba159b5495782787b19ecec6c40",
       "style": "IPY_MODEL_11438dd68913454694f2c4fdeb2695d6",
       "value": false
      }
     },
     "4f22ea8cc5d241cdbfdcc81f526671cf": {
      "model_module": "@jupyter-widgets/controls",
      "model_module_version": "1.5.0",
      "model_name": "FloatSliderModel",
      "state": {
       "description": "Force scale",
       "layout": "IPY_MODEL_211252c7dd9640e29db81d54f2bbe685",
       "step": 0.1,
       "style": "IPY_MODEL_162f1dce0728410d8c2b4801fd955e49",
       "value": 0.5
      }
     },
     "52ce88a456a24e10a3bd32beceb8f332": {
      "model_module": "@jupyter-widgets/controls",
      "model_module_version": "1.5.0",
      "model_name": "HBoxModel",
      "state": {
       "children": [
        "IPY_MODEL_33576ef7d0854752ba4d582cbcb70aca",
        "IPY_MODEL_ad045593945249bdaca912498b64245c"
       ],
       "layout": "IPY_MODEL_2cac18d1d3704a5cad9fe26385d9e31b"
      }
     },
     "559975dc12f3472faf817f80bbcb5ca8": {
      "model_module": "@jupyter-widgets/controls",
      "model_module_version": "1.5.0",
      "model_name": "ImageModel",
      "state": {
       "layout": "IPY_MODEL_eb5730c92c32423fa5d5e69e7249dbbf",
       "width": "900.0"
      }
     },
     "59e3857fb0ee41f88fb970ce231af1b3": {
      "model_module": "@jupyter-widgets/base",
      "model_module_version": "1.2.0",
      "model_name": "LayoutModel",
      "state": {}
     },
     "62f1b293ff8943f091d510ed0376ecd8": {
      "model_module": "@jupyter-widgets/base",
      "model_module_version": "1.2.0",
      "model_name": "LayoutModel",
      "state": {}
     },
     "6b51108450a94c1eacf94c2512b72b4c": {
      "model_module": "@jupyter-widgets/controls",
      "model_module_version": "1.5.0",
      "model_name": "DescriptionStyleModel",
      "state": {
       "description_width": ""
      }
     },
     "733b6fa792fa43e884eb804b8a6257eb": {
      "model_module": "@jupyter-widgets/controls",
      "model_module_version": "1.5.0",
      "model_name": "SliderStyleModel",
      "state": {
       "description_width": ""
      }
     },
     "7777faa661e347cc981d9b70f4381fa6": {
      "model_module": "@jupyter-widgets/controls",
      "model_module_version": "1.5.0",
      "model_name": "IntSliderModel",
      "state": {
       "layout": "IPY_MODEL_b7638c814fcd4460a412cad2364bce77",
       "max": 29,
       "style": "IPY_MODEL_7d473ece67084dcca59e00a427bdd379"
      }
     },
     "7ab313d1206e4773915b31b2f3e30f54": {
      "model_module": "@jupyter-widgets/base",
      "model_module_version": "1.2.0",
      "model_name": "LayoutModel",
      "state": {}
     },
     "7d473ece67084dcca59e00a427bdd379": {
      "model_module": "@jupyter-widgets/controls",
      "model_module_version": "1.5.0",
      "model_name": "SliderStyleModel",
      "state": {
       "description_width": ""
      }
     },
     "85853cb158c34473847937c06332d74b": {
      "model_module": "@jupyter-widgets/base",
      "model_module_version": "1.2.0",
      "model_name": "LayoutModel",
      "state": {}
     },
     "87935d4aecd947209623abaaf704eccb": {
      "model_module": "@jupyter-widgets/controls",
      "model_module_version": "1.5.0",
      "model_name": "DescriptionStyleModel",
      "state": {
       "description_width": ""
      }
     },
     "880073c291604b718605ec63d357c524": {
      "model_module": "@jupyter-widgets/controls",
      "model_module_version": "1.5.0",
      "model_name": "LinkModel",
      "state": {
       "source": [
        "IPY_MODEL_ad045593945249bdaca912498b64245c",
        "max"
       ],
       "target": [
        "IPY_MODEL_e86f6e6e2b504e8481e2c8709af296c1",
        "max_frame"
       ]
      }
     },
     "8980863e4b2243e59ae938c095204af1": {
      "model_module": "@jupyter-widgets/controls",
      "model_module_version": "1.5.0",
      "model_name": "SliderStyleModel",
      "state": {
       "description_width": ""
      }
     },
     "8fe93f4ebea44b04b2b04d3b70177d21": {
      "model_module": "@jupyter-widgets/controls",
      "model_module_version": "1.5.0",
      "model_name": "LinkModel",
      "state": {
       "source": [
        "IPY_MODEL_33576ef7d0854752ba4d582cbcb70aca",
        "value"
       ],
       "target": [
        "IPY_MODEL_ad045593945249bdaca912498b64245c",
        "value"
       ]
      }
     },
     "942e1e32fee448c6ba8570cf8469a5ec": {
      "model_module": "@jupyter-widgets/base",
      "model_module_version": "1.2.0",
      "model_name": "LayoutModel",
      "state": {}
     },
     "98049e8a0cb348ba8e23c23875de011d": {
      "model_module": "@jupyter-widgets/controls",
      "model_module_version": "1.5.0",
      "model_name": "HBoxModel",
      "state": {
       "children": [
        "IPY_MODEL_e86f6e6e2b504e8481e2c8709af296c1",
        "IPY_MODEL_2369befb290b477f8a9f72e9441191fd"
       ],
       "layout": "IPY_MODEL_041bafa8de7e4fe49b5f84682cc1ae81"
      }
     },
     "9d6122fcb48d43fd8eb4364bb692dd96": {
      "model_module": "@jupyter-widgets/controls",
      "model_module_version": "1.5.0",
      "model_name": "LinkModel",
      "state": {
       "source": [
        "IPY_MODEL_33576ef7d0854752ba4d582cbcb70aca",
        "max"
       ],
       "target": [
        "IPY_MODEL_e86f6e6e2b504e8481e2c8709af296c1",
        "max_frame"
       ]
      }
     },
     "a2176a53dade4acdbcb2e86c89cf37a3": {
      "model_module": "@jupyter-widgets/controls",
      "model_module_version": "1.5.0",
      "model_name": "DescriptionStyleModel",
      "state": {
       "description_width": ""
      }
     },
     "ad045593945249bdaca912498b64245c": {
      "model_module": "@jupyter-widgets/controls",
      "model_module_version": "1.5.0",
      "model_name": "IntSliderModel",
      "state": {
       "layout": "IPY_MODEL_ee20414ff95c45b98ed3fe317ffa50e3",
       "max": 29,
       "style": "IPY_MODEL_e90f89b7025143109ba2e616d8563ce3"
      }
     },
     "aeb2914207f641baabf2b84fee7031e9": {
      "model_module": "@jupyter-widgets/base",
      "model_module_version": "1.2.0",
      "model_name": "LayoutModel",
      "state": {}
     },
     "b0a77a8f244846bcb49776d3f5f6539c": {
      "model_module": "@jupyter-widgets/base",
      "model_module_version": "1.2.0",
      "model_name": "LayoutModel",
      "state": {}
     },
     "b1a9eba159b5495782787b19ecec6c40": {
      "model_module": "@jupyter-widgets/base",
      "model_module_version": "1.2.0",
      "model_name": "LayoutModel",
      "state": {}
     },
     "b3bfad2f16824df19b98ce82900c8c4d": {
      "model_module": "@jupyter-widgets/controls",
      "model_module_version": "1.5.0",
      "model_name": "DescriptionStyleModel",
      "state": {
       "description_width": ""
      }
     },
     "b5709cc19ab24fa5b95292117c5035ba": {
      "model_module": "@jupyter-widgets/output",
      "model_module_version": "1.0.0",
      "model_name": "OutputModel",
      "state": {
       "layout": "IPY_MODEL_1a5d660cb33c4da8a04e97481a92cdbb"
      }
     },
     "b7638c814fcd4460a412cad2364bce77": {
      "model_module": "@jupyter-widgets/base",
      "model_module_version": "1.2.0",
      "model_name": "LayoutModel",
      "state": {}
     },
     "bcdeb704ad2948cfacd8004f6000760d": {
      "model_module": "@jupyter-widgets/base",
      "model_module_version": "1.2.0",
      "model_name": "LayoutModel",
      "state": {}
     },
     "bdc822e51faa41d0a117b4835468efee": {
      "model_module": "@jupyter-widgets/base",
      "model_module_version": "1.2.0",
      "model_name": "LayoutModel",
      "state": {}
     },
     "c7a24fedf3b94855825cb5d843a45e93": {
      "model_module": "@jupyter-widgets/controls",
      "model_module_version": "1.5.0",
      "model_name": "DropdownModel",
      "state": {
       "_options_labels": [
        " ",
        "picking",
        "random",
        "uniform",
        "atomindex",
        "residueindex",
        "chainindex",
        "modelindex",
        "sstruc",
        "element",
        "resname",
        "bfactor",
        "hydrophobicity",
        "value",
        "volume",
        "occupancy"
       ],
       "description": "Color scheme",
       "index": 9,
       "layout": "IPY_MODEL_0a7fb866ae164c79b48da2e810ab2f57",
       "style": "IPY_MODEL_f873c5af481646f8b0f9f3763b21f116"
      }
     },
     "cbf36c85a12c49bab9146e259947b58c": {
      "model_module": "@jupyter-widgets/base",
      "model_module_version": "1.2.0",
      "model_name": "LayoutModel",
      "state": {}
     },
     "cd4976fa6bc44310a804d6d01dc0f2f8": {
      "model_module": "@jupyter-widgets/controls",
      "model_module_version": "1.5.0",
      "model_name": "HTMLModel",
      "state": {
       "layout": "IPY_MODEL_44ff46984926419fb380287775203bd8",
       "style": "IPY_MODEL_6b51108450a94c1eacf94c2512b72b4c",
       "value": "100%"
      }
     },
     "cd5a3717fbb049688c3ead1041b0db11": {
      "model_module": "@jupyter-widgets/controls",
      "model_module_version": "1.5.0",
      "model_name": "FloatProgressModel",
      "state": {
       "bar_style": "success",
       "layout": "IPY_MODEL_85853cb158c34473847937c06332d74b",
       "max": 9,
       "style": "IPY_MODEL_41748d8a997047c5bb53595875c41679",
       "value": 9
      }
     },
     "d2483575a260458d9b707adf5d1161a8": {
      "model_module": "@jupyter-widgets/controls",
      "model_module_version": "1.5.0",
      "model_name": "TextModel",
      "state": {
       "description": "Filename: ",
       "layout": "IPY_MODEL_019b40b46ade4abfb848b57d50cf283a",
       "style": "IPY_MODEL_a2176a53dade4acdbcb2e86c89cf37a3",
       "value": "screenshot.png"
      }
     },
     "d7524fe04fd3421dbc5eef353df08269": {
      "model_module": "@jupyter-widgets/controls",
      "model_module_version": "1.5.0",
      "model_name": "DropdownModel",
      "state": {
       "_options_labels": [
        "All",
        "O",
        "H"
       ],
       "description": "Show",
       "index": 0,
       "layout": "IPY_MODEL_62f1b293ff8943f091d510ed0376ecd8",
       "style": "IPY_MODEL_b3bfad2f16824df19b98ce82900c8c4d"
      }
     },
     "e0b987ca0e24472898ec7a50dd805f9c": {
      "model_module": "@jupyter-widgets/controls",
      "model_module_version": "1.5.0",
      "model_name": "CheckboxModel",
      "state": {
       "description": "Show force",
       "disabled": false,
       "layout": "IPY_MODEL_efee7e51d5f642acbedcf7e35081df47",
       "style": "IPY_MODEL_87935d4aecd947209623abaaf704eccb",
       "value": false
      }
     },
     "e86f6e6e2b504e8481e2c8709af296c1": {
      "model_module": "nglview-js-widgets",
      "model_module_version": "3.0.1",
      "model_name": "NGLModel",
      "state": {
       "_camera_orientation": [
        2.251736727042058,
        0,
        0,
        0,
        0,
        2.251736727042058,
        0,
        0,
        0,
        0,
        2.251736727042058,
        0,
        0,
        0,
        0.1795000061392784,
        1
       ],
       "_camera_str": "orthographic",
       "_gui_theme": null,
       "_ibtn_fullscreen": "IPY_MODEL_22084c5b655249b9991d330e79f83c90",
       "_igui": null,
       "_iplayer": "IPY_MODEL_52ce88a456a24e10a3bd32beceb8f332",
       "_ngl_color_dict": {},
       "_ngl_coordinate_resource": {},
       "_ngl_full_stage_parameters": {
        "ambientColor": 14540253,
        "ambientIntensity": 0.2,
        "backgroundColor": "white",
        "cameraEyeSep": 0.3,
        "cameraFov": 40,
        "cameraType": "orthographic",
        "clipDist": 0,
        "clipFar": 100,
        "clipNear": 0,
        "fogFar": 100,
        "fogNear": 50,
        "hoverTimeout": 0,
        "impostor": true,
        "lightColor": 14540253,
        "lightIntensity": 1,
        "mousePreset": "default",
        "panSpeed": 1,
        "quality": "medium",
        "rotateSpeed": 2,
        "sampleLevel": 0,
        "tooltip": true,
        "workerDefault": true,
        "zoomSpeed": 1.2
       },
       "_ngl_msg_archive": [
        {
         "args": [
          {
           "binary": false,
           "data": "MODEL     1\nATOM      1    O MOL     1       0.000   0.000   0.117  1.00  0.00           O  \nATOM      2    H MOL     1       0.000   0.770  -0.476  1.00  0.00           H  \nATOM      3    H MOL     1       0.000  -0.770  -0.476  1.00  0.00           H  \nENDMDL\n",
           "type": "blob"
          }
         ],
         "kwargs": {
          "defaultRepresentation": false,
          "ext": "pdb"
         },
         "methodName": "loadFile",
         "reconstruc_color_scheme": false,
         "target": "Stage",
         "type": "call_method"
        },
        {
         "args": [
          "500px",
          "500px"
         ],
         "kwargs": {},
         "methodName": "setSize",
         "reconstruc_color_scheme": false,
         "target": "Widget",
         "type": "call_method"
        },
        {
         "args": [
          "unitcell"
         ],
         "component_index": 0,
         "kwargs": {
          "sele": "all"
         },
         "methodName": "addRepresentation",
         "reconstruc_color_scheme": false,
         "target": "compList",
         "type": "call_method"
        },
        {
         "args": [
          "spacefill"
         ],
         "component_index": 0,
         "kwargs": {
          "sele": "all"
         },
         "methodName": "addRepresentation",
         "reconstruc_color_scheme": false,
         "target": "compList",
         "type": "call_method"
        },
        {
         "args": [],
         "kwargs": {
          "cameraType": "orthographic"
         },
         "methodName": "setParameters",
         "reconstruc_color_scheme": false,
         "target": "Stage",
         "type": "call_method"
        },
        {
         "args": [
          {
           "clipDist": 0
          }
         ],
         "kwargs": {},
         "methodName": "setParameters",
         "reconstruc_color_scheme": false,
         "target": "Widget",
         "type": "call_method"
        },
        {
         "args": [
          "spacefill",
          0
         ],
         "kwargs": {
          "colorScale": "rainbow",
          "colorScheme": "element",
          "radiusScale": 0.5,
          "radiusType": "covalent"
         },
         "methodName": "updateRepresentationsByName",
         "reconstruc_color_scheme": false,
         "target": "Widget",
         "type": "call_method"
        },
        {
         "args": [
          "this._Q = [[1.0, 0.0, 0.0], [0.0, 1.0, 0.0], [0.0, 0.0, 1.0]]\n    var tooltip = document.createElement('div')\n    Object.assign(tooltip.style, {\n      display: 'none',\n      position: 'fixed',\n      zIndex: 10,\n      pointerEvents: 'none',\n      backgroundColor: 'rgba( 0, 0, 0, 0.6 )',\n      color: 'lightgrey',\n      padding: '8px',\n      fontFamily: 'sans-serif'\n    })\n    document.body.appendChild(tooltip)\n\n    var that = this\n    this.stage.mouseControls.remove('hoverPick')\n    this.stage.signals.hovered.add(function (pickingProxy) {\n      if (pickingProxy && (pickingProxy.atom || pickingProxy.bond)) {\n        var atom = pickingProxy.atom || pickingProxy.closestBondAtom\n        var mp = pickingProxy.mouse.position\n        //tooltip.innerText = atom.element + ' i=' + atom.index + ' (' + atom.x.toFixed(2) +  ', ' + atom.y.toFixed(2) +  ', ' + atom.z.toFixed(2) + ')'\n        //var pos = that._atoms_pos[atom.index]\n        var Q = that._Q\n        var pos_x = Q[0][0] * atom.x + Q[0][1] * atom.y + Q[0][2] * atom.z \n        var pos_y = Q[1][0] * atom.x + Q[1][1] * atom.y + Q[1][2] * atom.z\n        var pos_z = Q[2][0] * atom.x + Q[2][1] * atom.y + Q[2][2] * atom.z\n        tooltip.innerText = 'i=' + atom.index + ' ' + atom.element + ' (' + pos_x.toFixed(2) +  ', ' + pos_y.toFixed(2) +  ', ' + pos_z.toFixed(2) + ')'\n        tooltip.style.bottom = window.innerHeight - mp.y + 3 + 'px'\n        tooltip.style.left = mp.x + 3 + 'px'\n        tooltip.style.display = 'block'\n      } else {\n        tooltip.style.display = 'none'\n      }\n    })\n    "
         ],
         "kwargs": {},
         "methodName": "executeCode",
         "reconstruc_color_scheme": false,
         "target": "Widget",
         "type": "call_method"
        },
        {
         "args": [
          "ball+stick"
         ],
         "component_index": 0,
         "kwargs": {
          "sele": "all"
         },
         "methodName": "addRepresentation",
         "reconstruc_color_scheme": false,
         "target": "compList",
         "type": "call_method"
        }
       ],
       "_ngl_original_stage_parameters": {
        "ambientColor": 14540253,
        "ambientIntensity": 0.2,
        "backgroundColor": "white",
        "cameraEyeSep": 0.3,
        "cameraFov": 40,
        "cameraType": "orthographic",
        "clipDist": 0,
        "clipFar": 100,
        "clipNear": 0,
        "fogFar": 100,
        "fogNear": 50,
        "hoverTimeout": 0,
        "impostor": true,
        "lightColor": 14540253,
        "lightIntensity": 1,
        "mousePreset": "default",
        "panSpeed": 1,
        "quality": "medium",
        "rotateSpeed": 2,
        "sampleLevel": 0,
        "tooltip": true,
        "workerDefault": true,
        "zoomSpeed": 1.2
       },
       "_ngl_repr_dict": {
        "0": {
         "0": {
          "params": {
           "clipCenter": {
            "x": 0,
            "y": 0,
            "z": 0
           },
           "clipNear": 0,
           "clipRadius": 0,
           "colorMode": "hcl",
           "colorReverse": false,
           "colorScale": "",
           "colorScheme": "element",
           "colorValue": "orange",
           "defaultAssembly": "",
           "depthWrite": true,
           "diffuse": 16777215,
           "diffuseInterior": false,
           "disableImpostor": false,
           "disablePicking": false,
           "flatShaded": false,
           "interiorColor": 2236962,
           "interiorDarkening": 0,
           "lazy": false,
           "matrix": {
            "elements": [
             1,
             0,
             0,
             0,
             0,
             1,
             0,
             0,
             0,
             0,
             1,
             0,
             0,
             0,
             0,
             1
            ]
           },
           "metalness": 0,
           "opacity": 1,
           "quality": "medium",
           "radialSegments": 10,
           "radiusData": {},
           "radiusScale": 1,
           "radiusSize": 0.5,
           "radiusType": "vdw",
           "roughness": 0.4,
           "sele": "all",
           "side": "double",
           "sphereDetail": 1,
           "useInteriorColor": true,
           "visible": true,
           "wireframe": false
          },
          "type": "unitcell"
         },
         "1": {
          "params": {
           "assembly": "default",
           "clipCenter": {
            "x": 0,
            "y": 0,
            "z": 0
           },
           "clipNear": 0,
           "clipRadius": 0,
           "colorMode": "hcl",
           "colorReverse": false,
           "colorScale": "rainbow",
           "colorScheme": "element",
           "colorValue": 9474192,
           "defaultAssembly": "",
           "depthWrite": true,
           "diffuse": 16777215,
           "diffuseInterior": false,
           "disableImpostor": false,
           "disablePicking": false,
           "flatShaded": false,
           "interiorColor": 2236962,
           "interiorDarkening": 0,
           "lazy": false,
           "matrix": {
            "elements": [
             1,
             0,
             0,
             0,
             0,
             1,
             0,
             0,
             0,
             0,
             1,
             0,
             0,
             0,
             0,
             1
            ]
           },
           "metalness": 0,
           "opacity": 1,
           "quality": "medium",
           "radiusData": {},
           "radiusScale": 0.5,
           "radiusSize": 1,
           "radiusType": "covalent",
           "roughness": 0.4,
           "sele": "all",
           "side": "double",
           "sphereDetail": 1,
           "useInteriorColor": true,
           "visible": true,
           "wireframe": false
          },
          "type": "spacefill"
         },
         "2": {
          "params": {
           "aspectRatio": 2,
           "assembly": "default",
           "bondScale": 0.4,
           "bondSpacing": 1,
           "clipCenter": {
            "x": 0,
            "y": 0,
            "z": 0
           },
           "clipNear": 0,
           "clipRadius": 0,
           "colorMode": "hcl",
           "colorReverse": false,
           "colorScale": "",
           "colorScheme": "element",
           "colorValue": 9474192,
           "cylinderOnly": false,
           "defaultAssembly": "",
           "depthWrite": true,
           "diffuse": 16777215,
           "diffuseInterior": false,
           "disableImpostor": false,
           "disablePicking": false,
           "flatShaded": false,
           "interiorColor": 2236962,
           "interiorDarkening": 0,
           "lazy": false,
           "lineOnly": false,
           "linewidth": 2,
           "matrix": {
            "elements": [
             1,
             0,
             0,
             0,
             0,
             1,
             0,
             0,
             0,
             0,
             1,
             0,
             0,
             0,
             0,
             1
            ]
           },
           "metalness": 0,
           "multipleBond": "off",
           "opacity": 1,
           "openEnded": true,
           "quality": "medium",
           "radialSegments": 10,
           "radiusData": {},
           "radiusScale": 1,
           "radiusSize": 0.15,
           "radiusType": "size",
           "roughness": 0.4,
           "sele": "all",
           "side": "double",
           "sphereDetail": 1,
           "useInteriorColor": true,
           "visible": true,
           "wireframe": false
          },
          "type": "ball+stick"
         }
        }
       },
       "_ngl_serialize": false,
       "_ngl_version": "2.0.0-dev.36",
       "_ngl_view_id": [
        "A080D4FE-9B4E-4F53-A560-ABBBE4AEB5E5",
        "780FC5DB-DC9B-456E-8630-6216F2E7EBD2"
       ],
       "_player_dict": {},
       "_scene_position": {},
       "_scene_rotation": {},
       "_synced_model_ids": [],
       "_synced_repr_model_ids": [],
       "_view_height": "",
       "_view_width": "",
       "background": "white",
       "frame": 0,
       "gui_style": null,
       "layout": "IPY_MODEL_e9f0da4fae714bffb5daf4fc61d32341",
       "max_frame": 29,
       "n_components": 1,
       "picked": {}
      }
     },
     "e90f89b7025143109ba2e616d8563ce3": {
      "model_module": "@jupyter-widgets/controls",
      "model_module_version": "1.5.0",
      "model_name": "SliderStyleModel",
      "state": {
       "description_width": ""
      }
     },
     "e9f0da4fae714bffb5daf4fc61d32341": {
      "model_module": "@jupyter-widgets/base",
      "model_module_version": "1.2.0",
      "model_name": "LayoutModel",
      "state": {}
     },
     "eb5730c92c32423fa5d5e69e7249dbbf": {
      "model_module": "@jupyter-widgets/base",
      "model_module_version": "1.2.0",
      "model_name": "LayoutModel",
      "state": {}
     },
     "ee20414ff95c45b98ed3fe317ffa50e3": {
      "model_module": "@jupyter-widgets/base",
      "model_module_version": "1.2.0",
      "model_name": "LayoutModel",
      "state": {}
     },
     "efee7e51d5f642acbedcf7e35081df47": {
      "model_module": "@jupyter-widgets/base",
      "model_module_version": "1.2.0",
      "model_name": "LayoutModel",
      "state": {}
     },
     "f392832a15784f239bcb844950f4300b": {
      "model_module": "@jupyter-widgets/base",
      "model_module_version": "1.2.0",
      "model_name": "LayoutModel",
      "state": {
       "width": "34px"
      }
     },
     "f873c5af481646f8b0f9f3763b21f116": {
      "model_module": "@jupyter-widgets/controls",
      "model_module_version": "1.5.0",
      "model_name": "DescriptionStyleModel",
      "state": {
       "description_width": ""
      }
     }
    },
    "version_major": 2,
    "version_minor": 0
   }
  }
 },
 "nbformat": 4,
 "nbformat_minor": 5
}
