{
 "cells": [
  {
   "cell_type": "markdown",
   "id": "221527bc-bd9f-4198-ad95-a5db8acd1caa",
   "metadata": {},
   "source": [
    "# 反応経路解析 - Reaction Path Analysis\n",
    "\n",
    "前章まで安定構造付近の挙動を見ていましたが、いよいよ本章では、物質の反応を解析していきます。\n",
    "\n",
    "\n",
    "<figure style=\"width:450px\">\n",
    "    <img src=\"https://upload.wikimedia.org/wikipedia/commons/thumb/1/13/Activation_energy_ja.svg/600px-Activation_energy_ja.svg.png\"/>\n",
    "</figure>\n",
    "\n",
    "X→Yへの反応に伴う、活性化エネルギー $E_a$ と生成エンタルピー $\\Delta H$ の関係。\n",
    "[Wikipedia](https://ja.wikipedia.org/wiki/%E3%83%95%E3%82%A1%E3%82%A4%E3%83%AB:Activation_energy_ja.svg)より。\n",
    "\n",
    "<p></p>\n",
    "\n",
    "ある反応物Xから生成物Yができる反応過程において、その反応経路中でエネルギーが最大となる点を **遷移状態 (TS: Transition State)** と呼び、反応物・生成物から遷移状態までのエネルギー差を**活性化エネルギー (Activation energy)**  $E_a$ と呼びます。\n",
    "\n",
    "アレニウスの式によると、反応の速度定数 $k$ は、\n",
    "\n",
    "$$k = A \\exp \\left(- \\frac{E_a}{k_B T} \\right)$$\n",
    "\n",
    "で決まります。ここで、\n",
    "\n",
    " - $A$: 頻度因子(温度に無関係な定数)\n",
    " - $E_a$: 活性化エネルギー\n",
    " - $k_B$: ボルツマン定数\n",
    " - $T$: 絶対温度\n",
    "\n",
    "です。つまり、化学反応の起こりやすさは活性化エネルギー $E_a$ によって決まります。\n",
    "\n",
    "反応物・生成物のエネルギーが変わることはありませんが、活性化エネルギーは周辺環境、つまり触媒の存在によって反応経路が変わることで変わります。\n",
    "この活性化エネルギーが低くなるような触媒を見つけられれば、対象とする反応をより起こしやすくすることができます。\n",
    "\n",
    "\n",
    "参考文献\n",
    "\n",
    " - [活性化エネルギー - Wikipedia](https://ja.wikipedia.org/wiki/%E6%B4%BB%E6%80%A7%E5%8C%96%E3%82%A8%E3%83%8D%E3%83%AB%E3%82%AE%E3%83%BC)\n",
    " - [アレニウスの式 - Wikipedia](https://ja.wikipedia.org/wiki/%E3%82%A2%E3%83%AC%E3%83%8B%E3%82%A6%E3%82%B9%E3%81%AE%E5%BC%8F)\n",
    " - 「分子レベルで見た触媒の働き　反応はなぜ速く進むのか」 松本吉泰\n",
    " - 「熱力学で理解する化学反応のしくみ」 平山令明\n",
    "\n",
    "反応物X、生成物Yがわかっていたとしても、遷移状態を見つけることは自明ではありません。<br/>\n",
    "本章では、反応前後の構造がわかっているときにその反応途中の経路を探索するNEB (Nudged Elastic Band)法を用いて、活性化エネルギーの算出を行ってみます。\n",
    "\n",
    " - https://databases.fysik.dtu.dk/ase/ase/neb.html"
   ]
  },
  {
   "cell_type": "markdown",
   "id": "b7ab356e-a310-40ea-863e-9731b0fb4188",
   "metadata": {},
   "source": [
    "## NEB\n",
    "\n",
    "<figure style=\"width: 720px\">\n",
    "　　　　<img src=\"../assets/neb-small-720.png\" style=\"width: 720px\"/>\n",
    "  <figcaption>\n",
    "      NEB法のイメージ図: 初期配置として反応経路候補(赤線)を生成後、構造緩和を行い遷移状態を通るような反応経路(青線)を探索する\n",
    "  </figcaption>\n",
    "</figure>\n",
    "\n",
    "※ 以下の内容はMatlantis製品内に含まれるNEB Tutorialとほぼ同じ内容です。\n",
    "\n",
    "今回は、クルチウス転位と呼ばれる有機化学反応の一例を題材にします。\n",
    "\n",
    "NEB法では、ある注目したい反応についてその前後の構造からスタートしますが、今回は直接構造を書き下して構造を設定します。"
   ]
  },
  {
   "cell_type": "code",
   "execution_count": 1,
   "id": "d8c49891-d136-4f43-9d7e-7789b946e685",
   "metadata": {},
   "outputs": [],
   "source": [
    "import numpy as np\n",
    "from IPython.display import Image\n",
    "import matplotlib.pyplot as plt\n",
    "\n",
    "import ase\n",
    "from ase import Atoms\n",
    "from ase.visualize import view\n",
    "from ase.optimize import BFGS\n",
    "from ase.optimize import FIRE\n",
    "from ase.neb import NEB\n",
    "from ase.build.rotate import minimize_rotation_and_translation\n",
    "\n",
    "from pfp_api_client.pfp.calculators.ase_calculator import ASECalculator\n",
    "from pfp_api_client.pfp.estimator import Estimator\n",
    "from pfp_api_client.pfp.estimator import Estimator, EstimatorCalcMode\n",
    "\n",
    "\n",
    "estimator = Estimator(calc_mode=EstimatorCalcMode.CRYSTAL, model_version=\"v2.0.0\")\n",
    "calculator = ASECalculator(estimator)"
   ]
  },
  {
   "cell_type": "code",
   "execution_count": 2,
   "id": "484f304c-585f-49d7-9409-534cdab51241",
   "metadata": {},
   "outputs": [],
   "source": [
    "react = ase.Atoms(\n",
    "    symbols=\"C2NON2H3\",\n",
    "    positions = [\n",
    "        [ 2.12, -0.48,  0.00],\n",
    "        [ 0.76,  0.16, -0.00],\n",
    "        [-0.28, -0.79, -0.00],\n",
    "        [ 0.57,  1.35,  0.00],\n",
    "        [-1.42, -0.28,  0.00],\n",
    "        [-2.48,  0.07,  0.00],\n",
    "        [ 2.67, -0.14, -0.88],\n",
    "        [ 2.06, -1.57, -0.00],\n",
    "        [ 2.67, -0.14,  0.88],\n",
    "    ],\n",
    ")\n",
    "\n",
    "prod = ase.Atoms(\n",
    "    symbols=\"C2NON2H3\",\n",
    "    positions=[\n",
    "        [ 2.30, -0.87,  0.00],\n",
    "        [ 0.68,  0.92, -0.00],\n",
    "        [ 0.99, -0.25,  0.00],\n",
    "        [ 0.25,  2.03,  0.00],\n",
    "        [-2.34,  0.11,  0.00],\n",
    "        [-3.13, -0.67, -0.00],\n",
    "        [ 2.87, -0.57, -0.89],\n",
    "        [ 2.19, -1.96,  0.00],\n",
    "        [ 2.87, -0.57,  0.89],\n",
    "    ],\n",
    ")"
   ]
  },
  {
   "cell_type": "markdown",
   "id": "9a40b9ec-395a-4a00-8f0a-3aa35a9a4316",
   "metadata": {},
   "source": [
    "まずは構造最適化計算を行います。構造最適化計算のやり方は今までと同様です。\n",
    "\n",
    "また、後の作業のため、`minimize_rotation_and_translation` methodを用いて、反応前後の2つの構造がなるべく近くなるように位置を移動させておきます。"
   ]
  },
  {
   "cell_type": "code",
   "execution_count": 3,
   "id": "fc4670f6-022d-4b4c-9944-b345d0a46b67",
   "metadata": {},
   "outputs": [
    {
     "name": "stdout",
     "output_type": "stream",
     "text": [
      "      Step     Time          Energy         fmax\n",
      "BFGS:    0 03:35:06      -41.288280        3.3720\n",
      "BFGS:    1 03:35:06      -41.050346        9.2272\n",
      "BFGS:    2 03:35:06      -41.352631        0.9379\n",
      "BFGS:    3 03:35:06      -41.360425        0.8468\n",
      "BFGS:    4 03:35:06      -41.367058        0.4149\n",
      "BFGS:    5 03:35:06      -41.370916        0.2225\n",
      "BFGS:    6 03:35:06      -41.373626        0.1877\n",
      "BFGS:    7 03:35:06      -41.374701        0.1327\n",
      "BFGS:    8 03:35:06      -41.375994        0.1432\n",
      "BFGS:    9 03:35:06      -41.377710        0.1950\n",
      "BFGS:   10 03:35:07      -41.379431        0.1925\n",
      "BFGS:   11 03:35:07      -41.380629        0.1081\n",
      "BFGS:   12 03:35:07      -41.381466        0.0848\n",
      "BFGS:   13 03:35:07      -41.382032        0.0992\n",
      "BFGS:   14 03:35:07      -41.382366        0.0638\n",
      "BFGS:   15 03:35:07      -41.382596        0.0515\n",
      "BFGS:   16 03:35:07      -41.382836        0.0601\n",
      "BFGS:   17 03:35:07      -41.383157        0.0738\n",
      "BFGS:   18 03:35:07      -41.383473        0.0659\n",
      "BFGS:   19 03:35:07      -41.383668        0.0388\n",
      "BFGS:   20 03:35:07      -41.383748        0.0254\n",
      "BFGS:   21 03:35:07      -41.383811        0.0258\n",
      "BFGS:   22 03:35:07      -41.383854        0.0298\n",
      "BFGS:   23 03:35:07      -41.383904        0.0271\n",
      "BFGS:   24 03:35:07      -41.383948        0.0141\n",
      "BFGS:   25 03:35:07      -41.383951        0.0091\n",
      "      Step     Time          Energy         fmax\n",
      "BFGS:    0 03:35:07      -42.925377        0.7301\n",
      "BFGS:    1 03:35:07      -42.911611        1.6637\n",
      "BFGS:    2 03:35:07      -42.928920        0.2516\n",
      "BFGS:    3 03:35:08      -42.928746        0.5499\n",
      "BFGS:    4 03:35:08      -42.931003        0.2054\n",
      "BFGS:    5 03:35:08      -42.933633        0.2522\n",
      "BFGS:    6 03:35:08      -42.937575        0.4179\n",
      "BFGS:    7 03:35:08      -42.942068        0.4193\n",
      "BFGS:    8 03:35:08      -42.946954        0.2883\n",
      "BFGS:    9 03:35:08      -42.950879        0.1795\n",
      "BFGS:   10 03:35:08      -42.954241        0.2710\n",
      "BFGS:   11 03:35:08      -42.956650        0.2315\n",
      "BFGS:   12 03:35:08      -42.958066        0.1185\n",
      "BFGS:   13 03:35:08      -42.959269        0.1460\n",
      "BFGS:   14 03:35:08      -42.960214        0.1848\n",
      "BFGS:   15 03:35:08      -42.960764        0.1164\n",
      "BFGS:   16 03:35:08      -42.961069        0.0687\n",
      "BFGS:   17 03:35:08      -42.961410        0.1194\n",
      "BFGS:   18 03:35:08      -42.962054        0.2019\n",
      "BFGS:   19 03:35:08      -42.963173        0.2617\n",
      "BFGS:   20 03:35:08      -42.964869        0.2409\n",
      "BFGS:   21 03:35:08      -42.966977        0.1318\n",
      "BFGS:   22 03:35:09      -42.969056        0.1111\n",
      "BFGS:   23 03:35:09      -42.970605        0.1539\n",
      "BFGS:   24 03:35:09      -42.971380        0.1118\n",
      "BFGS:   25 03:35:09      -42.971695        0.0615\n",
      "BFGS:   26 03:35:09      -42.971865        0.0359\n",
      "BFGS:   27 03:35:09      -42.971951        0.0460\n",
      "BFGS:   28 03:35:09      -42.971989        0.0245\n",
      "BFGS:   29 03:35:09      -42.972002        0.0135\n",
      "BFGS:   30 03:35:09      -42.972014        0.0211\n",
      "BFGS:   31 03:35:09      -42.972029        0.0406\n",
      "BFGS:   32 03:35:09      -42.972072        0.0647\n",
      "BFGS:   33 03:35:09      -42.972154        0.0917\n",
      "BFGS:   34 03:35:09      -42.972305        0.0956\n",
      "BFGS:   35 03:35:09      -42.972406        0.0524\n",
      "BFGS:   36 03:35:09      -42.972565        0.0784\n",
      "BFGS:   37 03:35:09      -42.972752        0.1364\n",
      "BFGS:   38 03:35:09      -42.972907        0.1229\n",
      "BFGS:   39 03:35:09      -42.972946        0.1948\n",
      "BFGS:   40 03:35:09      -42.973042        0.0485\n",
      "BFGS:   41 03:35:10      -42.973081        0.0474\n",
      "BFGS:   42 03:35:10      -42.973177        0.0884\n",
      "BFGS:   43 03:35:10      -42.973237        0.0419\n",
      "BFGS:   44 03:35:10      -42.973269        0.0589\n",
      "BFGS:   45 03:35:10      -42.973282        0.0319\n",
      "BFGS:   46 03:35:10      -42.973287        0.0073\n"
     ]
    }
   ],
   "source": [
    "react.calc = calculator\n",
    "opt = BFGS(react)\n",
    "opt.run(fmax=0.01)\n",
    "\n",
    "prod.calc = calculator\n",
    "opt = BFGS(prod)\n",
    "opt.run(fmax=0.01)\n",
    "\n",
    "minimize_rotation_and_translation(react, prod)"
   ]
  },
  {
   "cell_type": "markdown",
   "id": "88e4b332-4215-4bd5-a92d-f318ed1f00ee",
   "metadata": {},
   "source": [
    "可視化を行い、反応前後の構造を確認します。"
   ]
  },
  {
   "cell_type": "code",
   "execution_count": 4,
   "id": "44d167b8-7364-4c6a-b59b-927a61ca1be9",
   "metadata": {},
   "outputs": [
    {
     "data": {
      "image/png": "[encoded data removed]",
      "text/plain": [
       "<Figure size 432x216 with 2 Axes>"
      ]
     },
     "metadata": {
      "needs_background": "light"
     },
     "output_type": "display_data"
    }
   ],
   "source": [
    "from ase.io import write\n",
    "from IPython.display import Image\n",
    "import matplotlib.pyplot as plt\n",
    "import matplotlib.image as mpimg\n",
    "\n",
    "write(\"output/curtius_react.png\", react, rotation=\"0x,0y,0z\")\n",
    "write(\"output/curtius_prod.png\", prod, rotation=\"0x,0y,0z\")\n",
    "\n",
    "fig, axes = plt.subplots(1, 2, figsize=(6, 3))\n",
    "ax0, ax1 = axes\n",
    "ax0.imshow(mpimg.imread(\"output/curtius_react.png\"))\n",
    "ax0.set_axis_off()\n",
    "ax0.set_title(\"Reactant\")\n",
    "ax1.imshow(mpimg.imread(\"output/curtius_prod.png\"))\n",
    "ax1.set_axis_off()\n",
    "ax1.set_title(\"Product\")\n",
    "fig.show()"
   ]
  },
  {
   "cell_type": "code",
   "execution_count": 5,
   "id": "27d3e092-a09c-47cd-8206-3280dcddb859",
   "metadata": {},
   "outputs": [
    {
     "data": {
      "application/vnd.jupyter.widget-view+json": {
       "model_id": "239528ade7bc41b09e8eae76ee1b4ad2",
       "version_major": 2,
       "version_minor": 0
      },
      "text/plain": []
     },
     "metadata": {},
     "output_type": "display_data"
    },
    {
     "data": {
      "application/vnd.jupyter.widget-view+json": {
       "model_id": "a4852380f4cb468d93bf4ca93abfd53f",
       "version_major": 2,
       "version_minor": 0
      },
      "text/plain": [
       "HBox(children=(NGLWidget(max_frame=1), VBox(children=(Dropdown(description='Show', options=('All', 'C', 'H', '…"
      ]
     },
     "metadata": {},
     "output_type": "display_data"
    }
   ],
   "source": [
    "from pfcc_extras.visualize.view import view_ngl\n",
    "\n",
    "view_ngl([react, prod], representations=[\"ball+stick\"], replace_structure=True)"
   ]
  },
  {
   "cell_type": "markdown",
   "id": "c3bf81ee-c740-43a1-9d13-7bba7a7eae71",
   "metadata": {},
   "source": [
    "ここからがNEB法の出番です。NEB法は、反応の前後の構造を離散的に補完した構造を多数用意し、それら複数の構造を位相空間上で互いに結合させつつ構造最適化を行うことで反応経路を探す手法です。\n",
    "\n",
    "中間点の補完やNEBの実行そのもののはASEの組み込みのものを使うことができます。<br/>\n",
    "以下の例のように、`allow_shared_calculator=False`を指定し、各 `image` に対して個別のCalculatorをセットすることで高速化が可能です。\n",
    "\n",
    "NEBは複数の構造を内部で使う手法のため、MD計算などと比較するとステップあたりの計算時間は大きくなります。<br/>\n",
    "従来、DFTなどの量子計算手法を用いる場合は数日から数ヶ月かかることもありますが、Matlantisでは本例では数分とかからずに終わらせることができます。"
   ]
  },
  {
   "cell_type": "markdown",
   "id": "02902a75-4f0d-4f40-b5f2-1731b315e72b",
   "metadata": {},
   "source": [
    "計算は以下のようなステップで行われています。\n",
    "\n",
    " - まず `images` としてASE Atomsのリストを作成します。\n",
    "   - 最初が反応物 `react`で、最後が生成物 `prod` になるようにします。\n",
    "   - 中間 `image` は後の `neb.interpolate()` で座標値が変更されるので、ここではコピーを作成しておきます。\n",
    "   - 今回は、中間 `image`を7つ、合計9つで `images` を作成しました。\n",
    " - それぞれの Atoms に対して `calculator` を作成し、セットします。\n",
    " - [NEBクラス](https://databases.fysik.dtu.dk/ase/ase/neb.html)を作成します。\n",
    "     - `k`が各 `images`をつなげるバネの強さを表すバネ定数です\n",
    "     - `climb=True` とすることで、Climing Image NEB法と呼ばれる、遷移状態を見つけるためにエネルギー勾配を上る手法を用いています。\n",
    " - `neb.interpolate()`\n",
    "     - ここで `images` の線形補間をおこない、生成物から反応物へ座標が徐々に変わるようなリストを作成しています。\n",
    "     - この時点で生成された反応経路の初期配置(候補)は、コメントアウトしてある `view_ngl` の可視化を行うことで、確認できます。\n",
    " - FIREでopt\n",
    "     - 得られた反応経路候補をFIRE法を用いて最適化することで、適切な反応経路に修正していきます。"
   ]
  },
  {
   "cell_type": "code",
   "execution_count": 6,
   "id": "3d1f1742-0911-47ac-891e-9bfff0459a2f",
   "metadata": {},
   "outputs": [
    {
     "name": "stdout",
     "output_type": "stream",
     "text": [
      "      Step     Time          Energy         fmax\n",
      "*Force-consistent energies used in optimization.\n",
      "FIRE:    0 03:35:14      -38.199170*      23.5022\n",
      "FIRE:    1 03:35:14      -39.254634*       6.5073\n",
      "FIRE:    2 03:35:14      -39.008507*      11.1643\n",
      "FIRE:    3 03:35:14      -39.405800*       7.0580\n",
      "FIRE:    4 03:35:14      -39.449996*       6.9048\n",
      "FIRE:    5 03:35:14      -39.462426*       5.3536\n",
      "FIRE:    6 03:35:14      -39.478956*       3.7186\n",
      "FIRE:    7 03:35:15      -39.489771*       3.0160\n",
      "FIRE:    8 03:35:15      -39.491195*       2.8974\n",
      "FIRE:    9 03:35:15      -39.488340*       3.9156\n",
      "FIRE:   10 03:35:15      -39.488616*       4.0391\n",
      "FIRE:   11 03:35:15      -39.495296*       3.5121\n",
      "FIRE:   12 03:35:15      -39.507825*       2.8099\n",
      "FIRE:   13 03:35:15      -39.519251*       1.8177\n",
      "FIRE:   14 03:35:15      -39.525173*       3.2659\n",
      "FIRE:   15 03:35:16      -39.539539*       2.8927\n",
      "FIRE:   16 03:35:16      -39.572471*       1.9630\n",
      "FIRE:   17 03:35:16      -39.604970*       2.3038\n",
      "FIRE:   18 03:35:16      -39.606570*       2.0281\n",
      "FIRE:   19 03:35:16      -39.609318*       1.5137\n",
      "FIRE:   20 03:35:16      -39.612574*       0.9487\n",
      "FIRE:   21 03:35:16      -39.615881*       0.9099\n",
      "FIRE:   22 03:35:17      -39.619312*       1.1980\n",
      "FIRE:   23 03:35:17      -39.623198*       1.5334\n",
      "FIRE:   24 03:35:17      -39.627880*       1.5310\n",
      "FIRE:   25 03:35:17      -39.633972*       1.1657\n",
      "FIRE:   26 03:35:17      -39.641264*       0.7378\n",
      "FIRE:   27 03:35:17      -39.649412*       0.8004\n",
      "FIRE:   28 03:35:17      -39.658492*       1.2002\n",
      "FIRE:   29 03:35:17      -39.669484*       1.0858\n",
      "FIRE:   30 03:35:18      -39.682572*       0.6026\n",
      "FIRE:   31 03:35:18      -39.696479*       0.9077\n",
      "FIRE:   32 03:35:18      -39.710639*       1.0347\n",
      "FIRE:   33 03:35:18      -39.725182*       0.6204\n",
      "FIRE:   34 03:35:18      -39.737158*       1.1204\n",
      "FIRE:   35 03:35:18      -39.747353*       0.5140\n",
      "FIRE:   36 03:35:18      -39.752794*       1.0860\n",
      "FIRE:   37 03:35:18      -39.755752*       0.8418\n",
      "FIRE:   38 03:35:19      -39.753581*       0.5380\n",
      "FIRE:   39 03:35:19      -39.748980*       1.0650\n",
      "FIRE:   40 03:35:19      -39.752540*       0.4344\n",
      "FIRE:   41 03:35:19      -39.753743*       0.6428\n",
      "FIRE:   42 03:35:19      -39.754046*       0.5797\n",
      "FIRE:   43 03:35:19      -39.754576*       0.4684\n",
      "FIRE:   44 03:35:19      -39.755177*       0.3427\n",
      "FIRE:   45 03:35:20      -39.755777*       0.3333\n",
      "FIRE:   46 03:35:20      -39.756343*       0.3787\n",
      "FIRE:   47 03:35:20      -39.757017*       0.4331\n",
      "FIRE:   48 03:35:20      -39.757868*       0.4119\n",
      "FIRE:   49 03:35:20      -39.758985*       0.3196\n",
      "FIRE:   50 03:35:20      -39.760284*       0.2992\n",
      "FIRE:   51 03:35:20      -39.761591*       0.3999\n",
      "FIRE:   52 03:35:20      -39.762975*       0.4432\n",
      "FIRE:   53 03:35:21      -39.764573*       0.3677\n",
      "FIRE:   54 03:35:21      -39.766272*       0.2657\n",
      "FIRE:   55 03:35:21      -39.767654*       0.3066\n",
      "FIRE:   56 03:35:21      -39.768918*       0.2711\n",
      "FIRE:   57 03:35:21      -39.769796*       0.3823\n",
      "FIRE:   58 03:35:21      -39.770105*       0.2827\n",
      "FIRE:   59 03:35:21      -39.769905*       0.3205\n",
      "FIRE:   60 03:35:22      -39.769481*       0.2698\n",
      "FIRE:   61 03:35:22      -39.768491*       0.3124\n",
      "FIRE:   62 03:35:22      -39.768028*       0.3654\n",
      "FIRE:   63 03:35:22      -39.768418*       0.2042\n",
      "FIRE:   64 03:35:22      -39.768646*       0.2208\n",
      "FIRE:   65 03:35:22      -39.768719*       0.3377\n",
      "FIRE:   66 03:35:22      -39.769097*       0.2799\n",
      "FIRE:   67 03:35:23      -39.769612*       0.1618\n",
      "FIRE:   68 03:35:23      -39.769866*       0.2336\n",
      "FIRE:   69 03:35:23      -39.770139*       0.2233\n",
      "FIRE:   70 03:35:23      -39.770634*       0.1537\n",
      "FIRE:   71 03:35:23      -39.770828*       0.2658\n",
      "FIRE:   72 03:35:23      -39.771112*       0.1618\n",
      "FIRE:   73 03:35:23      -39.771180*       0.2342\n",
      "FIRE:   74 03:35:24      -39.771297*       0.1409\n",
      "FIRE:   75 03:35:24      -39.770928*       0.3239\n",
      "FIRE:   76 03:35:24      -39.771116*       0.2310\n",
      "FIRE:   77 03:35:24      -39.771128*       0.2417\n",
      "FIRE:   78 03:35:24      -39.770792*       0.3651\n",
      "FIRE:   79 03:35:24      -39.771258*       0.1195\n",
      "FIRE:   80 03:35:24      -39.771136*       0.2498\n",
      "FIRE:   81 03:35:25      -39.771215*       0.2045\n",
      "FIRE:   82 03:35:25      -39.771316*       0.1448\n",
      "FIRE:   83 03:35:25      -39.771380*       0.1115\n",
      "FIRE:   84 03:35:25      -39.771392*       0.1336\n",
      "FIRE:   85 03:35:25      -39.771364*       0.1638\n",
      "FIRE:   86 03:35:25      -39.771380*       0.1677\n",
      "FIRE:   87 03:35:25      -39.771441*       0.1441\n",
      "FIRE:   88 03:35:25      -39.771529*       0.1118\n",
      "FIRE:   89 03:35:26      -39.771594*       0.1235\n",
      "FIRE:   90 03:35:26      -39.771592*       0.1526\n",
      "FIRE:   91 03:35:26      -39.771661*       0.1380\n",
      "FIRE:   92 03:35:26      -39.771764*       0.1046\n",
      "FIRE:   93 03:35:26      -39.771791*       0.1321\n",
      "FIRE:   94 03:35:26      -39.771835*       0.1145\n",
      "FIRE:   95 03:35:26      -39.771909*       0.1161\n",
      "FIRE:   96 03:35:26      -39.771908*       0.1202\n",
      "FIRE:   97 03:35:27      -39.771959*       0.1136\n",
      "FIRE:   98 03:35:27      -39.771961*       0.1064\n",
      "FIRE:   99 03:35:27      -39.771948*       0.1204\n",
      "FIRE:  100 03:35:27      -39.772030*       0.1287\n",
      "FIRE:  101 03:35:27      -39.772074*       0.1533\n",
      "FIRE:  102 03:35:27      -39.772050*       0.2580\n",
      "FIRE:  103 03:35:27      -39.772141*       0.0641\n",
      "FIRE:  104 03:35:28      -39.772104*       0.2086\n",
      "FIRE:  105 03:35:28      -39.772118*       0.1673\n",
      "FIRE:  106 03:35:28      -39.772150*       0.0947\n",
      "FIRE:  107 03:35:28      -39.772155*       0.0595\n",
      "FIRE:  108 03:35:28      -39.772148*       0.1191\n",
      "FIRE:  109 03:35:28      -39.772156*       0.1142\n",
      "FIRE:  110 03:35:28      -39.772164*       0.1048\n",
      "FIRE:  111 03:35:28      -39.772167*       0.0918\n",
      "FIRE:  112 03:35:29      -39.772171*       0.0763\n",
      "FIRE:  113 03:35:29      -39.772174*       0.0630\n",
      "FIRE:  114 03:35:29      -39.772174*       0.0556\n",
      "FIRE:  115 03:35:29      -39.772176*       0.0558\n",
      "FIRE:  116 03:35:29      -39.772168*       0.0618\n",
      "FIRE:  117 03:35:29      -39.772170*       0.0688\n",
      "FIRE:  118 03:35:29      -39.772181*       0.0723\n",
      "FIRE:  119 03:35:30      -39.772181*       0.0695\n",
      "FIRE:  120 03:35:30      -39.772187*       0.0611\n",
      "FIRE:  121 03:35:30      -39.772190*       0.0539\n",
      "FIRE:  122 03:35:30      -39.772202*       0.0582\n",
      "FIRE:  123 03:35:30      -39.772210*       0.0673\n",
      "FIRE:  124 03:35:30      -39.772212*       0.0658\n",
      "FIRE:  125 03:35:30      -39.772232*       0.0539\n",
      "FIRE:  126 03:35:30      -39.772235*       0.0547\n",
      "FIRE:  127 03:35:31      -39.772250*       0.0589\n",
      "FIRE:  128 03:35:31      -39.772257*       0.0490\n"
     ]
    }
   ],
   "source": [
    "images = [react.copy()]\n",
    "images += [react.copy() for i in range (7)]\n",
    "images += [prod.copy()]\n",
    "for image in images:\n",
    "    estimator = Estimator()\n",
    "    calculator = ASECalculator(estimator)\n",
    "    image.calc = calculator\n",
    "neb = NEB(images, k=0.1, climb=True, allow_shared_calculator=False, parallel=True)\n",
    "neb.interpolate()\n",
    "# Check interpolated images\n",
    "# view_ngl(images, representations=[\"ball+stick\"], replace_structure=True)\n",
    "opt = FIRE(neb)\n",
    "status = opt.run(fmax=0.05, steps=500)"
   ]
  },
  {
   "cell_type": "markdown",
   "id": "d6769050-0fb1-4c17-8a0d-4131e8f558cd",
   "metadata": {},
   "source": [
    "もしログを抑制したい場合は、`FIRE(neb, logfile=None)`のような指定をするとデフォルトのoptのログが表示されなくなります。\n",
    "\n",
    "結果を見てみましょう。以下はmatplotlibを用いてエネルギーの軌跡を可視化したものです。\n",
    "\n",
    "エネルギーが一度上がった後で下がる反応が見えていると思います。\n",
    "このエネルギーが最大の点(遷移状態、transition state)と左右の安定点それぞれとのエネルギー差が活性化エネルギーに相当します。"
   ]
  },
  {
   "cell_type": "code",
   "execution_count": 7,
   "id": "0dd571d7-7dc8-4d16-8b7e-d8247b4873d5",
   "metadata": {},
   "outputs": [
    {
     "data": {
      "image/png": "[encoded data removed]",
      "text/plain": [
       "<Figure size 432x288 with 1 Axes>"
      ]
     },
     "metadata": {
      "needs_background": "light"
     },
     "output_type": "display_data"
    }
   ],
   "source": [
    "energies = np.array([image.get_total_energy() for image in images])\n",
    "\n",
    "fig = plt.figure()\n",
    "ax = fig.add_subplot(1, 1, 1)\n",
    "ax.plot(energies)\n",
    "ax.set_xlabel(\"replica\")\n",
    "ax.set_ylabel(\"energy\")\n",
    "fig.show()"
   ]
  },
  {
   "cell_type": "markdown",
   "id": "0dcd2243-19f6-4932-876e-77f5726ec709",
   "metadata": {},
   "source": [
    "活性化エネルギーは以下のように計算できます。\n",
    "\n",
    "ここでは、順反応X->Yにおける活性化エネルギーを `E_act_forward`、逆反応Y->Xにおける活性化エネルギーを `E_act_backward`としています。"
   ]
  },
  {
   "cell_type": "code",
   "execution_count": 8,
   "id": "4b02f3db-a3c4-4bd8-bb3c-5dfdad369e73",
   "metadata": {},
   "outputs": [
    {
     "name": "stdout",
     "output_type": "stream",
     "text": [
      "ts_index       = 2\n",
      "E_act_forward  = 1.61 eV\n",
      "E_act_backward = 3.20 eV\n"
     ]
    }
   ],
   "source": [
    "# Transition state takes maximum energy in the reaction path\n",
    "ts_index = np.argmax(energies)\n",
    "\n",
    "E_act_forward = energies[ts_index] - energies[0]\n",
    "E_act_backward = energies[ts_index] - energies[-1]\n",
    "\n",
    "print(f\"ts_index       = {ts_index}\")\n",
    "print(f\"E_act_forward  = {E_act_forward:.2f} eV\")\n",
    "print(f\"E_act_backward = {E_act_backward:.2f} eV\")"
   ]
  },
  {
   "cell_type": "markdown",
   "id": "1ed97616-98cb-4248-89c7-d659edc75577",
   "metadata": {},
   "source": [
    "結果を見てみましょう。構造についても同様にNotebookに可視化してもいいですが、画像をファイルとして保存することもできます。今回は試しにそちらを実行してみましょう。\n",
    "\n",
    "今回はNEBのため、結果は構造1つではなく一組の軌跡として出力されています。ASEからアニメーションGIFとして保存してみましょう。"
   ]
  },
  {
   "cell_type": "code",
   "execution_count": 9,
   "id": "ff993291-fea4-4be6-968d-69df4c45d4d3",
   "metadata": {},
   "outputs": [
    {
     "data": {
      "image/png": "[encoded data removed]",
      "text/plain": [
       "<Figure size 432x288 with 1 Axes>"
      ]
     },
     "metadata": {},
     "output_type": "display_data"
    }
   ],
   "source": [
    "fig = plt.figure(facecolor=\"white\")\n",
    "ax = fig.add_subplot()\n",
    "ase.io.write(\n",
    "    \"output/curtius_NEB.gif\",\n",
    "    images,\n",
    "    format=\"gif\",\n",
    "    ax=ax\n",
    ")"
   ]
  },
  {
   "cell_type": "markdown",
   "id": "36dd297e-7eb2-44af-8d1f-8112881f90df",
   "metadata": {},
   "source": [
    "上には最終構造の静止画が表示されていると思いますが、左のファイルビューアから\"curtius_NEB.gif\"をダブルクリックして開くと直接アニメーションGIFを見ることができます。\n",
    "\n",
    "以下のようにしてファイルの中身を表示することができます。"
   ]
  },
  {
   "cell_type": "code",
   "execution_count": 10,
   "id": "5abf5550-5f63-47a4-80a7-ed6ed280438a",
   "metadata": {},
   "outputs": [
    {
     "data": {
      "image/gif": "[encoded data removed]",
      "text/plain": [
       "<IPython.core.display.Image object>"
      ]
     },
     "execution_count": 10,
     "metadata": {},
     "output_type": "execute_result"
    }
   ],
   "source": [
    "Image(\"output/curtius_NEB.gif\", format=\"gif\")"
   ]
  },
  {
   "cell_type": "markdown",
   "id": "b4734894-df3f-48b3-9a50-f3cebda93c02",
   "metadata": {},
   "source": [
    "最後に追加で、NEB法により反応経路の最適化前後がどう変わったのかを比較してみましょう。\n",
    "\n",
    "`neb.interpolate()`関数を呼び、FIRE optを行う前の反応経路の候補構造 `interpolated_images` とNEB法で最適化された後の `images` のエネルギーを比べてみます。"
   ]
  },
  {
   "cell_type": "code",
   "execution_count": 11,
   "id": "a94ccf92-189e-40ab-a3f3-e3966d6071da",
   "metadata": {},
   "outputs": [],
   "source": [
    "_images = [react.copy()]\n",
    "_images += [react.copy() for i in range (7)]\n",
    "_images += [prod.copy()]\n",
    "for image in _images:\n",
    "    estimator = Estimator()\n",
    "    calculator = ASECalculator(estimator)\n",
    "    image.calc = calculator\n",
    "neb = NEB(_images, k=0.1, climb=True, allow_shared_calculator=False, parallel=True)\n",
    "neb.interpolate()\n",
    "interpolated_images = _images"
   ]
  },
  {
   "cell_type": "code",
   "execution_count": 12,
   "id": "879edb2d-54cb-48f1-aa3b-8d92a69278d9",
   "metadata": {},
   "outputs": [
    {
     "data": {
      "image/png": "[encoded data removed]",
      "text/plain": [
       "<Figure size 432x288 with 1 Axes>"
      ]
     },
     "metadata": {
      "needs_background": "light"
     },
     "output_type": "display_data"
    }
   ],
   "source": [
    "initial_energies = [image.get_total_energy() for image in interpolated_images]\n",
    "opt_energies = [image.get_total_energy() for image in images]\n",
    "\n",
    "fig = plt.figure()\n",
    "ax = fig.add_subplot(1, 1, 1)\n",
    "ax.plot(initial_energies, label=\"neb interpolated\", color=\"red\")\n",
    "ax.plot(energies, label=\"after neb opt\")\n",
    "ax.set_xlabel(\"replica\")\n",
    "ax.set_ylabel(\"energy\")\n",
    "ax.legend()\n",
    "fig.show()"
   ]
  },
  {
   "cell_type": "markdown",
   "id": "828bc668-9731-4d5d-b9ad-2bb21232272c",
   "metadata": {},
   "source": [
    "上記図からもわかるように、NEBの反応経路探索により、反応経路の候補構造(赤線)よりも活性化エネルギーエネルギーが低くなる経路=遷移状態のエネルギーが低い経路(青線) が見つかったことがわかります。"
   ]
  },
  {
   "cell_type": "markdown",
   "id": "09b82d4d-c445-42aa-ab9e-d218530ca28a",
   "metadata": {},
   "source": [
    "## [コラム] 反応経路解析手法と分子動力学法の比較\n",
    "\n",
    "本章では、反応を見るために始状態・終状態を指定したNEB法により反応経路の探索を行いました。\n",
    "\n",
    "次章で説明するような分子動力学法では、原子の時間発展を追うことができますが、そのような形でシミュレーションを行い自然と反応が起きるまで待つというアプローチはどうでしょうか？<br/>\n",
    "この方法でも活性化エネルギーの解析ができる例はあり、以下のLi ionの拡散現象はそのような例となります。\n",
    "\n",
    " - [硫化物固体電解質中のLi拡散 | MATLANTIS](https://matlantis.com/ja/calculation/li-diffusion-in-li10gep2s12-sulfide-solid-electrolyte)\n",
    "\n",
    "しかし、一般的には**反応時間**が課題となります。<br/>\n",
    "反応というのはレアイベントです。<br/>\n",
    "アレニウスの式を見ても分かる通り、活性化エネルギー $E_a$ に対して指数関数的に発生頻度が変わる現象です。\n",
    "\n",
    "$$k = A \\exp \\left(- \\frac{E_a}{k_B T} \\right)$$\n",
    "\n",
    "そのため、活性化エネルギーがとても低い場合はMDでもその反応を見ることができますが、\n",
    "すこしでも高くなってくると、MDで扱える時間スケール (〜ns程度)ではその反応が起きず、効率的に見つけることはできません。\n",
    "さらに活性化エネルギーが高くなれば日常の世界でもおこらないような現象となります。\n",
    "\n",
    "\n",
    "参考までに、具体的な値を通して活性化エネルギーと現象の起こりやすさの関係を見てみましょう。ほぼ室温である300 Kでは、アレニウスの式の指数関数内部の分母にあたる$k_B T$の値はおおまかに0.026 eVとなります。これは、エネルギーが1 eV高い現象の起きやすさが$\\exp\\left(-1/0.026\\right)$倍、つまり$2\\times10^{-17}$倍に下がるということを意味します。これはマクロスケールと原子スケールの差を考慮してもなお大きな値であり、レアイベントとみなすことができます。\n",
    "同様に計算すると、温度が1000 Kおよび2000 Kの場合は$k_B T$はそれぞれ0.086 eV, 0.172 eVとなり、エネルギーが1 eV高い現象の起きやすさはそれぞれ約$9\\times10^{-6}$倍、 $0.003$倍となります。これは300 Kのときの値と比べると大幅に大きくなっており、マクロスケールでは頻繁に起きる現象とみなすことができます。このように、一般に現象の起きやすさは活性化エネルギーと温度に対して非常に鋭敏に変化するものであることが知られています。\n",
    "NEB法のような反応経路解析を使うことによって、このような指数関数スケールにまたがるレアイベントを効率的に分析することが可能となります。"
   ]
  },
  {
   "cell_type": "code",
   "execution_count": 13,
   "id": "8307430d-8ae1-4167-a80d-803ac45e238f",
   "metadata": {},
   "outputs": [
    {
     "name": "stdout",
     "output_type": "stream",
     "text": [
      "----- T = 300 K -----\n",
      "kB T : 0.026\n",
      "ratio: 1.59e-17\n",
      "----- T = 1000 K -----\n",
      "kB T : 0.086\n",
      "ratio: 9.12e-06\n",
      "----- T = 2000 K -----\n",
      "kB T : 0.172\n",
      "ratio: 3.02e-03\n"
     ]
    }
   ],
   "source": [
    "from ase.units import kB\n",
    "from math import exp\n",
    "\n",
    "for T in [300, 1000, 2000]:\n",
    "    kBT = kB * T\n",
    "    ratio = exp(-1 / (kBT))\n",
    "\n",
    "    print(f\"----- T = {T} K -----\")\n",
    "    print(f\"kB T : {kBT:.3f}\")\n",
    "    print(f\"ratio: {ratio:.2e}\")"
   ]
  },
  {
   "cell_type": "markdown",
   "id": "96494f1f-1020-4a41-982a-8b6c88ec11bc",
   "metadata": {},
   "source": [
    "このように、MDではみることが難しいような反応も、NEB法などを使うことで効率的に探索することができる可能性があります。\n",
    "\n",
    "この他、反応経路探索に関するいくつかのアプローチ方法を以下に記載します。\n",
    "\n",
    "<table>\n",
    "  <tr>\n",
    "    <th width=\"250\">アプローチ</th>\n",
    "    <th >特徴</th>\n",
    "    <th width=\"150\">手法例</th>\n",
    "  </tr>\n",
    "  <tr>\n",
    "    <td>特定の反応経路を対象とする反応経路探索</td>\n",
    "    <td>ある2つの安定構造をつなぐ経路を出発点として、近傍の最小エネルギー経路(MEP: Minimum Energy Path)を求める手法。比較的少ない計算コストでMEPおよび対応する遷移状態を見つけられるが、いわゆる局所探索のため、結果は探索前に想定した反応経路に強く依存する。</td>\n",
    "    <td>NEB法・String法など</td>\n",
    "  </tr>\n",
    "  <tr>\n",
    "    <td>反応経路を事前に想定しない反応経路探索</td>\n",
    "    <td>反応経路や反応後の構造を事前に仮定せずに、反応経路を1つ以上見つける方法。標準的なMDを行う方法以外に、効率的にエネルギー曲面を探索することを目的としたメタダイナミクス、局所的なエネルギー曲面の情報を使って探索する手法(ADDF)などがある。</td>\n",
    "      <td>MD、メタダイナミクス、ADDFなど</td>\n",
    "  </tr>\n",
    "</table>"
   ]
  },
  {
   "cell_type": "markdown",
   "id": "07758662-a8bd-4f36-958e-8abfc8e6ad31",
   "metadata": {},
   "source": [
    "## 参考文献\n",
    "\n",
    "反応経路探索手法についてさらに知りたい方は、以下の文献も参考になるでしょう。\n",
    "\n",
    " - [新しい材料を化学反応でつくる | HPCシステムズ・計算化学ソリューション](https://www.hpc.co.jp/chem/library/c_irc/)\n",
    " - [GRRM : Global Reaction Route Mapping](https://iqce.jp/GRRM/)"
   ]
  }
 ],
 "metadata": {
  "kernelspec": {
   "display_name": "Python 3.7",
   "language": "python",
   "name": "python37"
  },
  "language_info": {
   "codemirror_mode": {
    "name": "ipython",
    "version": 3
   },
   "file_extension": ".py",
   "mimetype": "text/x-python",
   "name": "python",
   "nbconvert_exporter": "python",
   "pygments_lexer": "ipython3",
   "version": "3.7.13"
  },
  "widgets": {
   "application/vnd.jupyter.widget-state+json": {
    "state": {
     "0234a34fdfd24e999b64687d9f44fa7b": {
      "model_module": "@jupyter-widgets/controls",
      "model_module_version": "1.5.0",
      "model_name": "DescriptionStyleModel",
      "state": {
       "description_width": ""
      }
     },
     "06c5006d867d4999ac19cc136886fe93": {
      "model_module": "@jupyter-widgets/controls",
      "model_module_version": "1.5.0",
      "model_name": "DropdownModel",
      "state": {
       "_options_labels": [
        " ",
        "picking",
        "random",
        "uniform",
        "atomindex",
        "residueindex",
        "chainindex",
        "modelindex",
        "sstruc",
        "element",
        "resname",
        "bfactor",
        "hydrophobicity",
        "value",
        "volume",
        "occupancy"
       ],
       "description": "Color scheme",
       "index": 9,
       "layout": "IPY_MODEL_452d8622511d4489870101622f86e295",
       "style": "IPY_MODEL_61043051a276498bb1d4e67dbc927e8f"
      }
     },
     "099ef347b2c74b929823cbc95acffaee": {
      "model_module": "@jupyter-widgets/controls",
      "model_module_version": "1.5.0",
      "model_name": "DescriptionStyleModel",
      "state": {
       "description_width": ""
      }
     },
     "0c66e34180b64d7e9b2c1f3c95e09476": {
      "model_module": "@jupyter-widgets/controls",
      "model_module_version": "1.5.0",
      "model_name": "VBoxModel",
      "state": {
       "children": [
        "IPY_MODEL_40c5f077fdf841b0ac5b2eac2a84a3fb",
        "IPY_MODEL_06c5006d867d4999ac19cc136886fe93",
        "IPY_MODEL_a3662af8290b4a68aff65d606b7d2176",
        "IPY_MODEL_d7449b04cf5e42df8662e07dcb02ac7d",
        "IPY_MODEL_d1acd5216d6c463da4e179d576988664",
        "IPY_MODEL_231f8a800efb4f33b69a3b375272b34f",
        "IPY_MODEL_bb1c16ceabba4e20a7131b5cac1ebf3f",
        "IPY_MODEL_c03a200204474e3ab60b2cb070ea47ae",
        "IPY_MODEL_82d72edd24614325b9675d8336077fa0",
        "IPY_MODEL_77ac74e5390f42d3b3b4494a14dd9222",
        "IPY_MODEL_9132ec9dc3cc4967810d533a982f7161"
       ],
       "layout": "IPY_MODEL_226a39c8095f4fbfb484adbbed32f40c"
      }
     },
     "108bdc9e25ec43b7b12f400971561202": {
      "model_module": "@jupyter-widgets/base",
      "model_module_version": "1.2.0",
      "model_name": "LayoutModel",
      "state": {}
     },
     "11695a306a1d4f05993c1d2d1dbc0ac4": {
      "model_module": "@jupyter-widgets/controls",
      "model_module_version": "1.5.0",
      "model_name": "LinkModel",
      "state": {
       "source": [
        "IPY_MODEL_41a3722391834f60a332770178559c45",
        "max"
       ],
       "target": [
        "IPY_MODEL_63c94f4dbf8743078ced03648ea96872",
        "max_frame"
       ]
      }
     },
     "1941142956454e2eada2e1c579b9025c": {
      "model_module": "@jupyter-widgets/base",
      "model_module_version": "1.2.0",
      "model_name": "LayoutModel",
      "state": {}
     },
     "1af75c126d0c4913b5db6e694c0c90b4": {
      "model_module": "@jupyter-widgets/base",
      "model_module_version": "1.2.0",
      "model_name": "LayoutModel",
      "state": {}
     },
     "1b61dc00b7bf4f7abd0f1464791adc53": {
      "model_module": "@jupyter-widgets/base",
      "model_module_version": "1.2.0",
      "model_name": "LayoutModel",
      "state": {}
     },
     "226a39c8095f4fbfb484adbbed32f40c": {
      "model_module": "@jupyter-widgets/base",
      "model_module_version": "1.2.0",
      "model_name": "LayoutModel",
      "state": {}
     },
     "231f8a800efb4f33b69a3b375272b34f": {
      "model_module": "@jupyter-widgets/controls",
      "model_module_version": "1.5.0",
      "model_name": "HBoxModel",
      "state": {
       "children": [
        "IPY_MODEL_e32f6d6c0d5349b295cc5b0e20831d17",
        "IPY_MODEL_f2dc4d1179f047c38e30867d99e37cf5"
       ],
       "layout": "IPY_MODEL_1af75c126d0c4913b5db6e694c0c90b4"
      }
     },
     "239528ade7bc41b09e8eae76ee1b4ad2": {
      "model_module": "nglview-js-widgets",
      "model_module_version": "3.0.1",
      "model_name": "ColormakerRegistryModel",
      "state": {
       "_msg_ar": [],
       "_msg_q": [],
       "_ready": true,
       "layout": "IPY_MODEL_db25f8f5a70640509fef456d5b1bc2f0"
      }
     },
     "3075e5b998a04b9aada71b0f29b5ea36": {
      "model_module": "@jupyter-widgets/controls",
      "model_module_version": "1.5.0",
      "model_name": "ImageModel",
      "state": {
       "layout": "IPY_MODEL_6d0c2b3b30264a3fadbc70a9df2fc9a4",
       "width": "900.0"
      }
     },
     "327c345e5c184f46a00ee561fb6bb305": {
      "model_module": "@jupyter-widgets/base",
      "model_module_version": "1.2.0",
      "model_name": "LayoutModel",
      "state": {}
     },
     "33a4c3643dc34b0c98b34433745898f6": {
      "model_module": "@jupyter-widgets/controls",
      "model_module_version": "1.5.0",
      "model_name": "LinkModel",
      "state": {
       "source": [
        "IPY_MODEL_41a3722391834f60a332770178559c45",
        "value"
       ],
       "target": [
        "IPY_MODEL_cb8b04d3b1d74f5fad44403af37e60e8",
        "value"
       ]
      }
     },
     "370e8d4ee52941898bb41e698dda4df2": {
      "model_module": "@jupyter-widgets/base",
      "model_module_version": "1.2.0",
      "model_name": "LayoutModel",
      "state": {}
     },
     "40c5f077fdf841b0ac5b2eac2a84a3fb": {
      "model_module": "@jupyter-widgets/controls",
      "model_module_version": "1.5.0",
      "model_name": "DropdownModel",
      "state": {
       "_options_labels": [
        "All",
        "C",
        "H",
        "O",
        "N"
       ],
       "description": "Show",
       "index": 0,
       "layout": "IPY_MODEL_6895501a9d854c64b7835d5482fa30d9",
       "style": "IPY_MODEL_0234a34fdfd24e999b64687d9f44fa7b"
      }
     },
     "41a3722391834f60a332770178559c45": {
      "model_module": "@jupyter-widgets/controls",
      "model_module_version": "1.5.0",
      "model_name": "PlayModel",
      "state": {
       "layout": "IPY_MODEL_108bdc9e25ec43b7b12f400971561202",
       "max": 1,
       "style": "IPY_MODEL_099ef347b2c74b929823cbc95acffaee"
      }
     },
     "4370232defb746b989c3c0694f85e2ea": {
      "model_module": "@jupyter-widgets/base",
      "model_module_version": "1.2.0",
      "model_name": "LayoutModel",
      "state": {}
     },
     "452d8622511d4489870101622f86e295": {
      "model_module": "@jupyter-widgets/base",
      "model_module_version": "1.2.0",
      "model_name": "LayoutModel",
      "state": {}
     },
     "4b49571d32524f95a74d48ed3c3ec487": {
      "model_module": "@jupyter-widgets/controls",
      "model_module_version": "1.5.0",
      "model_name": "SliderStyleModel",
      "state": {
       "description_width": ""
      }
     },
     "61043051a276498bb1d4e67dbc927e8f": {
      "model_module": "@jupyter-widgets/controls",
      "model_module_version": "1.5.0",
      "model_name": "DescriptionStyleModel",
      "state": {
       "description_width": ""
      }
     },
     "63c94f4dbf8743078ced03648ea96872": {
      "model_module": "nglview-js-widgets",
      "model_module_version": "3.0.1",
      "model_name": "NGLModel",
      "state": {
       "_camera_orientation": [
        9.610689373535678,
        0,
        0,
        0,
        0,
        9.610689373535678,
        0,
        0,
        0,
        0,
        9.610689373535678,
        0,
        -0.0690000057220459,
        0.0820000171661377,
        0,
        1
       ],
       "_camera_str": "orthographic",
       "_gui_theme": null,
       "_ibtn_fullscreen": "IPY_MODEL_91b822b628154ea99d06e4d4fa05ca82",
       "_igui": null,
       "_iplayer": "IPY_MODEL_ee094a567dca4379ac50d60a6f530990",
       "_ngl_color_dict": {},
       "_ngl_coordinate_resource": {},
       "_ngl_full_stage_parameters": {
        "ambientColor": 14540253,
        "ambientIntensity": 0.2,
        "backgroundColor": "white",
        "cameraEyeSep": 0.3,
        "cameraFov": 40,
        "cameraType": "orthographic",
        "clipDist": 0,
        "clipFar": 100,
        "clipNear": 0,
        "fogFar": 100,
        "fogNear": 50,
        "hoverTimeout": 0,
        "impostor": true,
        "lightColor": 14540253,
        "lightIntensity": 1,
        "mousePreset": "default",
        "panSpeed": 1,
        "quality": "medium",
        "rotateSpeed": 2,
        "sampleLevel": 0,
        "tooltip": true,
        "workerDefault": true,
        "zoomSpeed": 1.2
       },
       "_ngl_msg_archive": [
        {
         "args": [
          {
           "binary": false,
           "data": "MODEL     1\nATOM      1    C MOL     1       2.128  -0.489   0.000  1.00  0.00           C  \nATOM      2    C MOL     1       0.790   0.206  -0.000  1.00  0.00           C  \nATOM      3    N MOL     1      -0.291  -0.749  -0.000  1.00  0.00           N  \nATOM      4    O MOL     1       0.630   1.415   0.000  1.00  0.00           O  \nATOM      5    N MOL     1      -1.449  -0.302   0.000  1.00  0.00           N  \nATOM      6    N MOL     1      -2.553  -0.002  -0.000  1.00  0.00           N  \nATOM      7    H MOL     1       2.691  -0.160  -0.883  1.00  0.00           H  \nATOM      8    H MOL     1       2.032  -1.579   0.000  1.00  0.00           H  \nATOM      9    H MOL     1       2.691  -0.160   0.883  1.00  0.00           H  \nENDMDL\n",
           "type": "blob"
          }
         ],
         "kwargs": {
          "defaultRepresentation": false,
          "ext": "pdb"
         },
         "methodName": "loadFile",
         "reconstruc_color_scheme": false,
         "target": "Stage",
         "type": "call_method"
        },
        {
         "args": [
          "500px",
          "500px"
         ],
         "kwargs": {},
         "methodName": "setSize",
         "reconstruc_color_scheme": false,
         "target": "Widget",
         "type": "call_method"
        },
        {
         "args": [
          "unitcell"
         ],
         "component_index": 0,
         "kwargs": {
          "sele": "all"
         },
         "methodName": "addRepresentation",
         "reconstruc_color_scheme": false,
         "target": "compList",
         "type": "call_method"
        },
        {
         "args": [
          "spacefill"
         ],
         "component_index": 0,
         "kwargs": {
          "sele": "all"
         },
         "methodName": "addRepresentation",
         "reconstruc_color_scheme": false,
         "target": "compList",
         "type": "call_method"
        },
        {
         "args": [],
         "kwargs": {
          "cameraType": "orthographic"
         },
         "methodName": "setParameters",
         "reconstruc_color_scheme": false,
         "target": "Stage",
         "type": "call_method"
        },
        {
         "args": [
          {
           "clipDist": 0
          }
         ],
         "kwargs": {},
         "methodName": "setParameters",
         "reconstruc_color_scheme": false,
         "target": "Widget",
         "type": "call_method"
        },
        {
         "args": [
          "spacefill",
          0
         ],
         "kwargs": {
          "colorScale": "rainbow",
          "colorScheme": "element",
          "radiusScale": 0.5,
          "radiusType": "covalent"
         },
         "methodName": "updateRepresentationsByName",
         "reconstruc_color_scheme": false,
         "target": "Widget",
         "type": "call_method"
        },
        {
         "args": [
          "this._Q = [[1.0, 0.0, 0.0], [0.0, 1.0, 0.0], [0.0, 0.0, 1.0]]\n    var tooltip = document.createElement('div')\n    Object.assign(tooltip.style, {\n      display: 'none',\n      position: 'fixed',\n      zIndex: 10,\n      pointerEvents: 'none',\n      backgroundColor: 'rgba( 0, 0, 0, 0.6 )',\n      color: 'lightgrey',\n      padding: '8px',\n      fontFamily: 'sans-serif'\n    })\n    document.body.appendChild(tooltip)\n\n    var that = this\n    this.stage.mouseControls.remove('hoverPick')\n    this.stage.signals.hovered.add(function (pickingProxy) {\n      if (pickingProxy && (pickingProxy.atom || pickingProxy.bond)) {\n        var atom = pickingProxy.atom || pickingProxy.closestBondAtom\n        var mp = pickingProxy.mouse.position\n        //tooltip.innerText = atom.element + ' i=' + atom.index + ' (' + atom.x.toFixed(2) +  ', ' + atom.y.toFixed(2) +  ', ' + atom.z.toFixed(2) + ')'\n        //var pos = that._atoms_pos[atom.index]\n        var Q = that._Q\n        var pos_x = Q[0][0] * atom.x + Q[0][1] * atom.y + Q[0][2] * atom.z \n        var pos_y = Q[1][0] * atom.x + Q[1][1] * atom.y + Q[1][2] * atom.z\n        var pos_z = Q[2][0] * atom.x + Q[2][1] * atom.y + Q[2][2] * atom.z\n        tooltip.innerText = 'i=' + atom.index + ' ' + atom.element + ' (' + pos_x.toFixed(2) +  ', ' + pos_y.toFixed(2) +  ', ' + pos_z.toFixed(2) + ')'\n        tooltip.style.bottom = window.innerHeight - mp.y + 3 + 'px'\n        tooltip.style.left = mp.x + 3 + 'px'\n        tooltip.style.display = 'block'\n      } else {\n        tooltip.style.display = 'none'\n      }\n    })\n    "
         ],
         "kwargs": {},
         "methodName": "executeCode",
         "reconstruc_color_scheme": false,
         "target": "Widget",
         "type": "call_method"
        },
        {
         "args": [
          "ball+stick"
         ],
         "component_index": 0,
         "kwargs": {
          "sele": "all"
         },
         "methodName": "addRepresentation",
         "reconstruc_color_scheme": false,
         "target": "compList",
         "type": "call_method"
        }
       ],
       "_ngl_original_stage_parameters": {
        "ambientColor": 14540253,
        "ambientIntensity": 0.2,
        "backgroundColor": "white",
        "cameraEyeSep": 0.3,
        "cameraFov": 40,
        "cameraType": "perspective",
        "clipDist": 10,
        "clipFar": 100,
        "clipNear": 0,
        "fogFar": 100,
        "fogNear": 50,
        "hoverTimeout": 0,
        "impostor": true,
        "lightColor": 14540253,
        "lightIntensity": 1,
        "mousePreset": "default",
        "panSpeed": 1,
        "quality": "medium",
        "rotateSpeed": 2,
        "sampleLevel": 0,
        "tooltip": true,
        "workerDefault": true,
        "zoomSpeed": 1.2
       },
       "_ngl_repr_dict": {
        "0": {
         "0": {
          "params": {
           "clipCenter": {
            "x": 0,
            "y": 0,
            "z": 0
           },
           "clipNear": 0,
           "clipRadius": 0,
           "colorMode": "hcl",
           "colorReverse": false,
           "colorScale": "",
           "colorScheme": "element",
           "colorValue": "orange",
           "defaultAssembly": "",
           "depthWrite": true,
           "diffuse": 16777215,
           "diffuseInterior": false,
           "disableImpostor": false,
           "disablePicking": false,
           "flatShaded": false,
           "interiorColor": 2236962,
           "interiorDarkening": 0,
           "lazy": false,
           "matrix": {
            "elements": [
             1,
             0,
             0,
             0,
             0,
             1,
             0,
             0,
             0,
             0,
             1,
             0,
             0,
             0,
             0,
             1
            ]
           },
           "metalness": 0,
           "opacity": 1,
           "quality": "medium",
           "radialSegments": 10,
           "radiusData": {},
           "radiusScale": 1,
           "radiusSize": 0.5,
           "radiusType": "vdw",
           "roughness": 0.4,
           "sele": "all",
           "side": "double",
           "sphereDetail": 1,
           "useInteriorColor": true,
           "visible": true,
           "wireframe": false
          },
          "type": "unitcell"
         },
         "1": {
          "params": {
           "assembly": "default",
           "clipCenter": {
            "x": 0,
            "y": 0,
            "z": 0
           },
           "clipNear": 0,
           "clipRadius": 0,
           "colorMode": "hcl",
           "colorReverse": false,
           "colorScale": "rainbow",
           "colorScheme": "element",
           "colorValue": 9474192,
           "defaultAssembly": "",
           "depthWrite": true,
           "diffuse": 16777215,
           "diffuseInterior": false,
           "disableImpostor": false,
           "disablePicking": false,
           "flatShaded": false,
           "interiorColor": 2236962,
           "interiorDarkening": 0,
           "lazy": false,
           "matrix": {
            "elements": [
             1,
             0,
             0,
             0,
             0,
             1,
             0,
             0,
             0,
             0,
             1,
             0,
             0,
             0,
             0,
             1
            ]
           },
           "metalness": 0,
           "opacity": 1,
           "quality": "medium",
           "radiusData": {},
           "radiusScale": 0.5,
           "radiusSize": 1,
           "radiusType": "covalent",
           "roughness": 0.4,
           "sele": "all",
           "side": "double",
           "sphereDetail": 1,
           "useInteriorColor": true,
           "visible": true,
           "wireframe": false
          },
          "type": "spacefill"
         },
         "2": {
          "params": {
           "aspectRatio": 2,
           "assembly": "default",
           "bondScale": 0.4,
           "bondSpacing": 1,
           "clipCenter": {
            "x": 0,
            "y": 0,
            "z": 0
           },
           "clipNear": 0,
           "clipRadius": 0,
           "colorMode": "hcl",
           "colorReverse": false,
           "colorScale": "",
           "colorScheme": "element",
           "colorValue": 9474192,
           "cylinderOnly": false,
           "defaultAssembly": "",
           "depthWrite": true,
           "diffuse": 16777215,
           "diffuseInterior": false,
           "disableImpostor": false,
           "disablePicking": false,
           "flatShaded": false,
           "interiorColor": 2236962,
           "interiorDarkening": 0,
           "lazy": false,
           "lineOnly": false,
           "linewidth": 2,
           "matrix": {
            "elements": [
             1,
             0,
             0,
             0,
             0,
             1,
             0,
             0,
             0,
             0,
             1,
             0,
             0,
             0,
             0,
             1
            ]
           },
           "metalness": 0,
           "multipleBond": "off",
           "opacity": 1,
           "openEnded": true,
           "quality": "medium",
           "radialSegments": 10,
           "radiusData": {},
           "radiusScale": 1,
           "radiusSize": 0.15,
           "radiusType": "size",
           "roughness": 0.4,
           "sele": "all",
           "side": "double",
           "sphereDetail": 1,
           "useInteriorColor": true,
           "visible": true,
           "wireframe": false
          },
          "type": "ball+stick"
         }
        }
       },
       "_ngl_serialize": false,
       "_ngl_version": "2.0.0-dev.36",
       "_ngl_view_id": [
        "B19B8015-076B-4C60-93AA-CC501E4327C1"
       ],
       "_player_dict": {},
       "_scene_position": {},
       "_scene_rotation": {},
       "_synced_model_ids": [],
       "_synced_repr_model_ids": [],
       "_view_height": "",
       "_view_width": "",
       "background": "white",
       "frame": 0,
       "gui_style": null,
       "layout": "IPY_MODEL_4370232defb746b989c3c0694f85e2ea",
       "max_frame": 1,
       "n_components": 1,
       "picked": {}
      }
     },
     "6771f36a19e146538963ffc8ed2166bd": {
      "model_module": "@jupyter-widgets/controls",
      "model_module_version": "1.5.0",
      "model_name": "ButtonStyleModel",
      "state": {}
     },
     "6895501a9d854c64b7835d5482fa30d9": {
      "model_module": "@jupyter-widgets/base",
      "model_module_version": "1.2.0",
      "model_name": "LayoutModel",
      "state": {}
     },
     "6d0c2b3b30264a3fadbc70a9df2fc9a4": {
      "model_module": "@jupyter-widgets/base",
      "model_module_version": "1.2.0",
      "model_name": "LayoutModel",
      "state": {}
     },
     "6ed13a2b59614a44966499c02bce7c80": {
      "model_module": "@jupyter-widgets/controls",
      "model_module_version": "1.5.0",
      "model_name": "DescriptionStyleModel",
      "state": {
       "description_width": ""
      }
     },
     "70b29254b2174b3b869f3de1b6405040": {
      "model_module": "@jupyter-widgets/base",
      "model_module_version": "1.2.0",
      "model_name": "LayoutModel",
      "state": {
       "width": "34px"
      }
     },
     "716be941c2b148b9ad69ba4d1cdb68de": {
      "model_module": "@jupyter-widgets/controls",
      "model_module_version": "1.5.0",
      "model_name": "LinkModel",
      "state": {
       "source": [
        "IPY_MODEL_41a3722391834f60a332770178559c45",
        "value"
       ],
       "target": [
        "IPY_MODEL_63c94f4dbf8743078ced03648ea96872",
        "frame"
       ]
      }
     },
     "74ce3dad3a2d40ec9d2515ef90b85e7a": {
      "model_module": "@jupyter-widgets/controls",
      "model_module_version": "1.5.0",
      "model_name": "DescriptionStyleModel",
      "state": {
       "description_width": ""
      }
     },
     "77ac74e5390f42d3b3b4494a14dd9222": {
      "model_module": "@jupyter-widgets/controls",
      "model_module_version": "1.5.0",
      "model_name": "FloatSliderModel",
      "state": {
       "description": "Charge scale",
       "layout": "IPY_MODEL_8dae4cd6240a46cabe8fc3301b08a08e",
       "step": 0.1,
       "style": "IPY_MODEL_d207ac5f89f04db8afc4d00440764cc2",
       "value": 1
      }
     },
     "79c17c6a071f4d66bf022317d03b18df": {
      "model_module": "@jupyter-widgets/controls",
      "model_module_version": "1.5.0",
      "model_name": "ButtonStyleModel",
      "state": {}
     },
     "7b063d8c054e44f193b8b531c89ea3a6": {
      "model_module": "@jupyter-widgets/base",
      "model_module_version": "1.2.0",
      "model_name": "LayoutModel",
      "state": {}
     },
     "82d72edd24614325b9675d8336077fa0": {
      "model_module": "@jupyter-widgets/controls",
      "model_module_version": "1.5.0",
      "model_name": "CheckboxModel",
      "state": {
       "description": "Show charge",
       "disabled": false,
       "layout": "IPY_MODEL_7b063d8c054e44f193b8b531c89ea3a6",
       "style": "IPY_MODEL_74ce3dad3a2d40ec9d2515ef90b85e7a",
       "value": false
      }
     },
     "860416356a17494d9e77536284d4547b": {
      "model_module": "@jupyter-widgets/controls",
      "model_module_version": "1.5.0",
      "model_name": "SliderStyleModel",
      "state": {
       "description_width": ""
      }
     },
     "87358b2393244064855cf510a8f50d58": {
      "model_module": "@jupyter-widgets/controls",
      "model_module_version": "1.5.0",
      "model_name": "LinkModel",
      "state": {
       "source": [
        "IPY_MODEL_cb8b04d3b1d74f5fad44403af37e60e8",
        "max"
       ],
       "target": [
        "IPY_MODEL_63c94f4dbf8743078ced03648ea96872",
        "max_frame"
       ]
      }
     },
     "8a59448275dc4ca988a11d172c1935ef": {
      "model_module": "@jupyter-widgets/base",
      "model_module_version": "1.2.0",
      "model_name": "LayoutModel",
      "state": {}
     },
     "8dae4cd6240a46cabe8fc3301b08a08e": {
      "model_module": "@jupyter-widgets/base",
      "model_module_version": "1.2.0",
      "model_name": "LayoutModel",
      "state": {}
     },
     "9132ec9dc3cc4967810d533a982f7161": {
      "model_module": "@jupyter-widgets/output",
      "model_module_version": "1.0.0",
      "model_name": "OutputModel",
      "state": {
       "layout": "IPY_MODEL_c1eccadd553b446c968f44d290979872"
      }
     },
     "91b822b628154ea99d06e4d4fa05ca82": {
      "model_module": "@jupyter-widgets/controls",
      "model_module_version": "1.5.0",
      "model_name": "ButtonModel",
      "state": {
       "icon": "compress",
       "layout": "IPY_MODEL_70b29254b2174b3b869f3de1b6405040",
       "style": "IPY_MODEL_6771f36a19e146538963ffc8ed2166bd"
      }
     },
     "9a7d6b0b5aba4aefa7941e0919c36598": {
      "model_module": "@jupyter-widgets/base",
      "model_module_version": "1.2.0",
      "model_name": "LayoutModel",
      "state": {}
     },
     "a3397f103f544a3fb640bdb1d4fe49f1": {
      "model_module": "@jupyter-widgets/base",
      "model_module_version": "1.2.0",
      "model_name": "LayoutModel",
      "state": {}
     },
     "a3662af8290b4a68aff65d606b7d2176": {
      "model_module": "@jupyter-widgets/controls",
      "model_module_version": "1.5.0",
      "model_name": "FloatSliderModel",
      "state": {
       "description": "Ball size",
       "layout": "IPY_MODEL_8a59448275dc4ca988a11d172c1935ef",
       "max": 1.5,
       "step": 0.01,
       "style": "IPY_MODEL_d90a6e2502a84857842a3b9dc088f656",
       "value": 0.5
      }
     },
     "a4852380f4cb468d93bf4ca93abfd53f": {
      "model_module": "@jupyter-widgets/controls",
      "model_module_version": "1.5.0",
      "model_name": "HBoxModel",
      "state": {
       "children": [
        "IPY_MODEL_63c94f4dbf8743078ced03648ea96872",
        "IPY_MODEL_0c66e34180b64d7e9b2c1f3c95e09476"
       ],
       "layout": "IPY_MODEL_d467a305be2c4954ba423ac7b9844eb8"
      }
     },
     "aed129314d6448829ceeb390e9651c84": {
      "model_module": "@jupyter-widgets/controls",
      "model_module_version": "1.5.0",
      "model_name": "ButtonStyleModel",
      "state": {}
     },
     "bb1c16ceabba4e20a7131b5cac1ebf3f": {
      "model_module": "@jupyter-widgets/controls",
      "model_module_version": "1.5.0",
      "model_name": "CheckboxModel",
      "state": {
       "description": "Show force",
       "disabled": false,
       "layout": "IPY_MODEL_1941142956454e2eada2e1c579b9025c",
       "style": "IPY_MODEL_bc23a84ae5814936acc9fa8b7cb6ca17",
       "value": false
      }
     },
     "bc23a84ae5814936acc9fa8b7cb6ca17": {
      "model_module": "@jupyter-widgets/controls",
      "model_module_version": "1.5.0",
      "model_name": "DescriptionStyleModel",
      "state": {
       "description_width": ""
      }
     },
     "c03a200204474e3ab60b2cb070ea47ae": {
      "model_module": "@jupyter-widgets/controls",
      "model_module_version": "1.5.0",
      "model_name": "FloatSliderModel",
      "state": {
       "description": "Force scale",
       "layout": "IPY_MODEL_9a7d6b0b5aba4aefa7941e0919c36598",
       "step": 0.1,
       "style": "IPY_MODEL_860416356a17494d9e77536284d4547b",
       "value": 0.5
      }
     },
     "c1eccadd553b446c968f44d290979872": {
      "model_module": "@jupyter-widgets/base",
      "model_module_version": "1.2.0",
      "model_name": "LayoutModel",
      "state": {
       "border": "0px solid black"
      }
     },
     "c5d54360d6684d8082b8e0739024394f": {
      "model_module": "@jupyter-widgets/base",
      "model_module_version": "1.2.0",
      "model_name": "LayoutModel",
      "state": {}
     },
     "cb8b04d3b1d74f5fad44403af37e60e8": {
      "model_module": "@jupyter-widgets/controls",
      "model_module_version": "1.5.0",
      "model_name": "IntSliderModel",
      "state": {
       "layout": "IPY_MODEL_c5d54360d6684d8082b8e0739024394f",
       "max": 1,
       "style": "IPY_MODEL_4b49571d32524f95a74d48ed3c3ec487"
      }
     },
     "d1acd5216d6c463da4e179d576988664": {
      "model_module": "@jupyter-widgets/controls",
      "model_module_version": "1.5.0",
      "model_name": "TextModel",
      "state": {
       "description": "Filename: ",
       "layout": "IPY_MODEL_327c345e5c184f46a00ee561fb6bb305",
       "style": "IPY_MODEL_6ed13a2b59614a44966499c02bce7c80",
       "value": "screenshot.png"
      }
     },
     "d207ac5f89f04db8afc4d00440764cc2": {
      "model_module": "@jupyter-widgets/controls",
      "model_module_version": "1.5.0",
      "model_name": "SliderStyleModel",
      "state": {
       "description_width": ""
      }
     },
     "d467a305be2c4954ba423ac7b9844eb8": {
      "model_module": "@jupyter-widgets/base",
      "model_module_version": "1.2.0",
      "model_name": "LayoutModel",
      "state": {}
     },
     "d7449b04cf5e42df8662e07dcb02ac7d": {
      "model_module": "@jupyter-widgets/controls",
      "model_module_version": "1.5.0",
      "model_name": "IntSliderModel",
      "state": {
       "layout": "IPY_MODEL_370e8d4ee52941898bb41e698dda4df2",
       "max": 1,
       "style": "IPY_MODEL_fa866aa885c04ae5bc50b4d30a7ff7b0"
      }
     },
     "d90a6e2502a84857842a3b9dc088f656": {
      "model_module": "@jupyter-widgets/controls",
      "model_module_version": "1.5.0",
      "model_name": "SliderStyleModel",
      "state": {
       "description_width": ""
      }
     },
     "db25f8f5a70640509fef456d5b1bc2f0": {
      "model_module": "@jupyter-widgets/base",
      "model_module_version": "1.2.0",
      "model_name": "LayoutModel",
      "state": {}
     },
     "dbbec737e8b54408a3010aa48967bbc8": {
      "model_module": "@jupyter-widgets/base",
      "model_module_version": "1.2.0",
      "model_name": "LayoutModel",
      "state": {}
     },
     "e32f6d6c0d5349b295cc5b0e20831d17": {
      "model_module": "@jupyter-widgets/controls",
      "model_module_version": "1.5.0",
      "model_name": "ButtonModel",
      "state": {
       "description": "Download image",
       "layout": "IPY_MODEL_a3397f103f544a3fb640bdb1d4fe49f1",
       "style": "IPY_MODEL_79c17c6a071f4d66bf022317d03b18df",
       "tooltip": "Download current frame to your local PC"
      }
     },
     "ee094a567dca4379ac50d60a6f530990": {
      "model_module": "@jupyter-widgets/controls",
      "model_module_version": "1.5.0",
      "model_name": "HBoxModel",
      "state": {
       "children": [
        "IPY_MODEL_41a3722391834f60a332770178559c45",
        "IPY_MODEL_cb8b04d3b1d74f5fad44403af37e60e8"
       ],
       "layout": "IPY_MODEL_dbbec737e8b54408a3010aa48967bbc8"
      }
     },
     "f2dc4d1179f047c38e30867d99e37cf5": {
      "model_module": "@jupyter-widgets/controls",
      "model_module_version": "1.5.0",
      "model_name": "ButtonModel",
      "state": {
       "description": "Save image",
       "layout": "IPY_MODEL_1b61dc00b7bf4f7abd0f1464791adc53",
       "style": "IPY_MODEL_aed129314d6448829ceeb390e9651c84",
       "tooltip": "Save current frame to file.\nCurrently .png and .html are supported.\nIt takes a bit time, please be patient."
      }
     },
     "fa866aa885c04ae5bc50b4d30a7ff7b0": {
      "model_module": "@jupyter-widgets/controls",
      "model_module_version": "1.5.0",
      "model_name": "SliderStyleModel",
      "state": {
       "description_width": ""
      }
     }
    },
    "version_major": 2,
    "version_minor": 0
   }
  }
 },
 "nbformat": 4,
 "nbformat_minor": 5
}
