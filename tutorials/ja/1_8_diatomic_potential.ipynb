{
 "cells": [
  {
   "cell_type": "markdown",
   "id": "802ba23f-2812-4519-ba19-7c13d258c040",
   "metadata": {},
   "source": [
    "# Diatomic Potential\n",
    "\n",
    "2体ポテンシャルエネルギーとは、真空中に2つの原子だけを置いたときの相互作用のエネルギーです。原子間距離によって値が変わります。\n",
    "\n",
    "## 水素分子の2体Potential energyを計算してみる\n",
    "\n",
    "ここまで習ったことを利用して、水素分子の２体ポテンシャルエネルギーを計算してみましょう。\n",
    "\n",
    "水素原子間が様々な距離になるように水素分子を生成しそのエネルギーを計算、プロットしてみます。"
   ]
  },
  {
   "cell_type": "code",
   "execution_count": 1,
   "id": "53ccc8a9-5b4a-4c2b-a278-99ea4205dde5",
   "metadata": {},
   "outputs": [],
   "source": [
    "from ase import Atoms\n",
    "from ase.visualize import view\n",
    "\n",
    "import pfp_api_client\n",
    "from pfp_api_client.pfp.calculators.ase_calculator import ASECalculator\n",
    "from pfp_api_client.pfp.estimator import Estimator, EstimatorCalcMode\n",
    "\n",
    "\n",
    "estimator = Estimator(model_version=\"v2.0.0\")\n",
    "calculator = ASECalculator(estimator)"
   ]
  },
  {
   "cell_type": "code",
   "execution_count": 2,
   "id": "5c264b76-de5e-4eb8-aaaa-178fe3a1f893",
   "metadata": {},
   "outputs": [
    {
     "data": {
      "application/vnd.jupyter.widget-view+json": {
       "model_id": "ab04be400f85442282889b2b9e9c4d6c",
       "version_major": 2,
       "version_minor": 0
      },
      "text/plain": [
       "  0%|          | 0/100 [00:00<?, ?it/s]"
      ]
     },
     "metadata": {},
     "output_type": "display_data"
    }
   ],
   "source": [
    "import numpy as np\n",
    "from tqdm.auto import tqdm\n",
    "\n",
    "distances = np.linspace(0.3, 6.5, 100)\n",
    "energy_list = []\n",
    "for d in tqdm(distances):\n",
    "    atoms = Atoms(\"H2\", [[0, 0, 0], [0, 0, d]])\n",
    "    atoms.calc = calculator\n",
    "    E_pot = atoms.get_potential_energy()\n",
    "    energy_list.append(E_pot)\n",
    "\n",
    "energies = np.array(energy_list)"
   ]
  },
  {
   "cell_type": "code",
   "execution_count": 3,
   "id": "ffda6092-778b-45fa-abdd-c9f3e14200de",
   "metadata": {},
   "outputs": [
    {
     "data": {
      "image/png": "[encoded data removed]",
      "text/plain": [
       "<Figure size 432x288 with 1 Axes>"
      ]
     },
     "metadata": {
      "needs_background": "light"
     },
     "output_type": "display_data"
    }
   ],
   "source": [
    "import matplotlib.pyplot as plt\n",
    "\n",
    "\n",
    "plt.plot(distances, energies)\n",
    "# H2 bond length = 0.74A\n",
    "plt.vlines(0.74, np.min(energies), np.max(energies), color=\"red\")\n",
    "plt.xlabel(\"bond distance: [A]\")\n",
    "plt.ylabel(\"Potential energy: [eV]\")\n",
    "plt.title(\"H2 potential curve\")\n",
    "plt.show()"
   ]
  },
  {
   "cell_type": "code",
   "execution_count": 4,
   "id": "d87267eb-5cdb-4e41-817c-b1f804e789a7",
   "metadata": {},
   "outputs": [
    {
     "data": {
      "text/plain": [
       "0.7383838383838384"
      ]
     },
     "execution_count": 4,
     "metadata": {},
     "output_type": "execute_result"
    }
   ],
   "source": [
    "distances[np.argmin(energies)]"
   ]
  },
  {
   "cell_type": "markdown",
   "id": "2cf242d5-13cd-4401-b9ec-cbceb7fb0029",
   "metadata": {},
   "source": [
    "同じ水素原子2つからなる水素分子でも原子間距離が変わるだけでそのエネルギーは大きく異なることがわかります。<br/>\n",
    "実験的には水素分子は結合長さ 0.74A で最安定であるということが知られていますが、実際にMatlantisで計算を行ってみると近い位置でエネルギーが一番低くなっていることが確認できました。\n",
    "\n",
    "このように、様々な構造に対してエネルギーが計算できることで、自然界で物質がどのような構造を取っているのかを解析することができます。"
   ]
  }
 ],
 "metadata": {
  "kernelspec": {
   "display_name": "Python 3.7",
   "language": "python",
   "name": "python37"
  },
  "language_info": {
   "codemirror_mode": {
    "name": "ipython",
    "version": 3
   },
   "file_extension": ".py",
   "mimetype": "text/x-python",
   "name": "python",
   "nbconvert_exporter": "python",
   "pygments_lexer": "ipython3",
   "version": "3.7.13"
  },
  "widgets": {
   "application/vnd.jupyter.widget-state+json": {
    "state": {},
    "version_major": 2,
    "version_minor": 0
   }
  }
 },
 "nbformat": 4,
 "nbformat_minor": 5
}
