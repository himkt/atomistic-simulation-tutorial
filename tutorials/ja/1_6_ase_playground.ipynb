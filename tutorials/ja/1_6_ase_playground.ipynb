{
 "cells": [
  {
   "cell_type": "markdown",
   "id": "06017496-5e5c-4e0b-8e8f-996fa364b282",
   "metadata": {},
   "source": [
    "# Atomsの操作\n",
    "\n",
    "ここまででASEの基礎を学び Atoms や Calculatorの扱い方を学びました。<br/>\n",
    "本章では、Atomsを操作していく実例を通してその扱いにより深く慣れていきましょう。"
   ]
  },
  {
   "cell_type": "code",
   "execution_count": 1,
   "id": "0e8e56e2-c42f-4267-a255-f2282fb1dbf0",
   "metadata": {},
   "outputs": [],
   "source": [
    "from ase import Atoms\n",
    "from ase.build import molecule, bulk"
   ]
  },
  {
   "cell_type": "markdown",
   "id": "fcc7359e-242e-415e-acb6-6471001df7dc",
   "metadata": {},
   "source": [
    "## コピー\n",
    "\n",
    "`atoms`を作成したあと、そのコピーを作成するには `copy()` methodを使うことができます。<br/>\n",
    "原子の元素種・座標値や、セルなどがコピーされます。\n",
    "\n",
    "以下では`atoms2` が`atoms`と同じ座標値を持ったH2Oのコピーになっています。"
   ]
  },
  {
   "cell_type": "code",
   "execution_count": 2,
   "id": "81da3601-a335-4879-a47b-7a28cbc85f80",
   "metadata": {},
   "outputs": [
    {
     "name": "stdout",
     "output_type": "stream",
     "text": [
      "atoms : Atoms(symbols='OH2', pbc=False)\n",
      "pos [[ 0.        0.        0.119262]\n",
      " [ 0.        0.763239 -0.477047]\n",
      " [ 0.       -0.763239 -0.477047]]\n",
      "\n",
      "atoms2: Atoms(symbols='OH2', pbc=False)\n",
      "pos [[ 0.        0.        0.119262]\n",
      " [ 0.        0.763239 -0.477047]\n",
      " [ 0.       -0.763239 -0.477047]]\n"
     ]
    }
   ],
   "source": [
    "atoms = molecule(\"H2O\")\n",
    "atoms2 = atoms.copy()\n",
    "\n",
    "print(\"atoms :\", atoms)\n",
    "print(\"pos\", atoms.positions)\n",
    "print()\n",
    "print(\"atoms2:\", atoms2)\n",
    "print(\"pos\", atoms2.positions)"
   ]
  },
  {
   "cell_type": "markdown",
   "id": "c043b356-6d32-4a44-93f4-ff7630c352f2",
   "metadata": {},
   "source": [
    "## propertyの書き換え\n",
    "\n",
    "Atomsは様々なget, set 関数を持っています。これらを通じてAtomsの持つ属性値を変更することが可能です。\n",
    " - https://wiki.fysik.dtu.dk/ase/ase/atoms.html#working-with-the-array-methods-of-atoms-objects\n",
    " \n",
    "例えば前章では `set_momenta` 関数を使用して運動量を設定する例がありました。"
   ]
  },
  {
   "cell_type": "markdown",
   "id": "b4847fac-72df-4c8a-8ded-dfed50d5a5c9",
   "metadata": {},
   "source": [
    "## 座標値の変更\n",
    "\n",
    "座標値の変更の場合、`atoms.positions` をそのまま書き換えることができます。"
   ]
  },
  {
   "cell_type": "code",
   "execution_count": 3,
   "id": "fe6d571d-7ab8-48a5-80dc-26090f71ec42",
   "metadata": {},
   "outputs": [
    {
     "data": {
      "text/plain": [
       "array([[ 1.218055,  0.36124 ,  0.      ],\n",
       "       [ 0.      ,  0.464133,  0.      ],\n",
       "       [-0.477241,  1.465295,  0.      ],\n",
       "       [-0.948102, -0.700138,  0.      ],\n",
       "       [-0.385946, -1.634236,  0.      ],\n",
       "       [-1.596321, -0.652475,  0.880946],\n",
       "       [-1.596321, -0.652475, -0.880946]])"
      ]
     },
     "execution_count": 3,
     "metadata": {},
     "output_type": "execute_result"
    }
   ],
   "source": [
    "atoms = molecule(\"CH3CHO\")\n",
    "atoms.positions"
   ]
  },
  {
   "cell_type": "code",
   "execution_count": 4,
   "id": "4647650e-cedc-4aa9-b3ef-bf20b00fabe4",
   "metadata": {},
   "outputs": [
    {
     "data": {
      "application/vnd.jupyter.widget-view+json": {
       "model_id": "3d4fe693a8f34a4a9fe7c1f8f1de681f",
       "version_major": 2,
       "version_minor": 0
      },
      "text/plain": []
     },
     "metadata": {},
     "output_type": "display_data"
    },
    {
     "data": {
      "application/vnd.jupyter.widget-view+json": {
       "model_id": "7d9c05d7eb724e5794077140aa0c34fb",
       "version_major": 2,
       "version_minor": 0
      },
      "text/plain": [
       "HBox(children=(NGLWidget(), VBox(children=(Dropdown(description='Show', options=('All', 'H', 'C', 'O'), value=…"
      ]
     },
     "metadata": {},
     "output_type": "display_data"
    }
   ],
   "source": [
    "from pfcc_extras.visualize.view import view_ngl\n",
    "\n",
    "view_ngl(atoms, representations=[\"ball+stick\"], w=400, h=300)"
   ]
  },
  {
   "cell_type": "markdown",
   "id": "1f97a267-cd30-4836-95c8-6b16ac3293c2",
   "metadata": {},
   "source": [
    "0番目のO原子を `[1.218055, 0.36124, 0.]` から、 `[2.0, 0, 0]`　に動かしてみます。\n",
    "\n",
    "`atoms.positions` をそのまま書き換えることができます。"
   ]
  },
  {
   "cell_type": "code",
   "execution_count": 5,
   "id": "acef9e38-012b-4b7a-94b8-f7ed550c52b3",
   "metadata": {},
   "outputs": [],
   "source": [
    "# 1つ目の0が原子index = O原子を指定。\n",
    "# 2つ目は0,1,2がx, y, zにそれぞれ対応。\n",
    "atoms.positions[0] = [2.0, 0, 0]"
   ]
  },
  {
   "cell_type": "code",
   "execution_count": 6,
   "id": "9ad2c104-9433-46e1-aee0-1dfcb296cefe",
   "metadata": {},
   "outputs": [
    {
     "data": {
      "application/vnd.jupyter.widget-view+json": {
       "model_id": "75f5e7ea898d47da80964251d22ac68a",
       "version_major": 2,
       "version_minor": 0
      },
      "text/plain": [
       "HBox(children=(NGLWidget(), VBox(children=(Dropdown(description='Show', options=('All', 'H', 'C', 'O'), value=…"
      ]
     },
     "metadata": {},
     "output_type": "display_data"
    }
   ],
   "source": [
    "view_ngl(atoms, representations=[\"ball+stick\"], w=400, h=300)"
   ]
  },
  {
   "cell_type": "markdown",
   "id": "ca15b6dd-2d55-4fec-9d65-e3b685c296fd",
   "metadata": {},
   "source": [
    "O原子が動いたことが確認できました。"
   ]
  },
  {
   "cell_type": "markdown",
   "id": "75727065-d7d8-4a29-9dc8-dc6f8f17c25e",
   "metadata": {},
   "source": [
    "## 平行移動、回転\n",
    "\n",
    "atoms全体の平行移動や回転は、`translate`, `rotate` 関数を使うことができます。\n",
    "\n",
    "`translate`関数は (3,) のxyzベクトルを指定するとすべての分子を同じだけ平行移動し、 (n, 3) のベクトルを指定するとn個の原子を別々の量平行移動します。<br/>\n",
    "以下の例では、すべての原子を `[1.0, 0, 0]` 平行移動しています。 <br/>\n",
    "実際に座標値を見ると x軸方向だけ平行移動されているのがわかります。"
   ]
  },
  {
   "cell_type": "code",
   "execution_count": 7,
   "id": "481f1a81-f04a-42ac-a258-8c61241a1991",
   "metadata": {},
   "outputs": [
    {
     "data": {
      "text/plain": [
       "array([[ 3.      ,  0.      ,  0.      ],\n",
       "       [ 1.      ,  0.464133,  0.      ],\n",
       "       [ 0.522759,  1.465295,  0.      ],\n",
       "       [ 0.051898, -0.700138,  0.      ],\n",
       "       [ 0.614054, -1.634236,  0.      ],\n",
       "       [-0.596321, -0.652475,  0.880946],\n",
       "       [-0.596321, -0.652475, -0.880946]])"
      ]
     },
     "execution_count": 7,
     "metadata": {},
     "output_type": "execute_result"
    }
   ],
   "source": [
    "atoms.translate([1.0, 0, 0])\n",
    "atoms.positions"
   ]
  },
  {
   "cell_type": "markdown",
   "id": "5cfb8279-883f-4fdb-8a85-8aae83e58f7f",
   "metadata": {},
   "source": [
    "`rotate`関数は `atoms`を回転させるための関数です。\n",
    "\n",
    "以下の例は z軸方向を回転軸として 90°回転させています。<br/>\n",
    "回転軸は、`v=[0,0,1]`のようにベクトルで指定することもできます。"
   ]
  },
  {
   "cell_type": "code",
   "execution_count": 8,
   "id": "7f5419cf-4fbd-4eaa-99b2-7fd3d4fdaa2c",
   "metadata": {},
   "outputs": [
    {
     "data": {
      "text/plain": [
       "array([[ 1.8369702e-16,  3.0000000e+00,  0.0000000e+00],\n",
       "       [-4.6413300e-01,  1.0000000e+00,  0.0000000e+00],\n",
       "       [-1.4652950e+00,  5.2275900e-01,  0.0000000e+00],\n",
       "       [ 7.0013800e-01,  5.1898000e-02,  0.0000000e+00],\n",
       "       [ 1.6342360e+00,  6.1405400e-01,  0.0000000e+00],\n",
       "       [ 6.5247500e-01, -5.9632100e-01,  8.8094600e-01],\n",
       "       [ 6.5247500e-01, -5.9632100e-01, -8.8094600e-01]])"
      ]
     },
     "execution_count": 8,
     "metadata": {},
     "output_type": "execute_result"
    }
   ],
   "source": [
    "atoms.rotate(90, v=\"z\")\n",
    "atoms.positions"
   ]
  },
  {
   "cell_type": "code",
   "execution_count": 9,
   "id": "8fd82981-ee3e-420a-b0ff-eddc161c1b96",
   "metadata": {},
   "outputs": [
    {
     "data": {
      "application/vnd.jupyter.widget-view+json": {
       "model_id": "7d9337f907a248e1a73107d67426cd58",
       "version_major": 2,
       "version_minor": 0
      },
      "text/plain": [
       "HBox(children=(NGLWidget(), VBox(children=(Dropdown(description='Show', options=('All', 'H', 'C', 'O'), value=…"
      ]
     },
     "metadata": {},
     "output_type": "display_data"
    }
   ],
   "source": [
    "view_ngl(atoms, representations=[\"ball+stick\"], w=400, h=300)"
   ]
  },
  {
   "cell_type": "markdown",
   "id": "48eb0b68-5362-460a-9143-9ea5915d2479",
   "metadata": {},
   "source": [
    "周期構造を持つ系を回転させた場合、以下のように、Cellはそのままで原子の座標のみが回転されるため、原子はCellからはみ出してしまいます。"
   ]
  },
  {
   "cell_type": "code",
   "execution_count": 10,
   "id": "181dd58d-f0d9-4933-915c-e23de7b02e33",
   "metadata": {},
   "outputs": [
    {
     "data": {
      "application/vnd.jupyter.widget-view+json": {
       "model_id": "c55c5fe4790a498893a45578cc150fb6",
       "version_major": 2,
       "version_minor": 0
      },
      "text/plain": [
       "HBox(children=(NGLWidget(), VBox(children=(Dropdown(description='Show', options=('All', 'Fe'), value='All'), D…"
      ]
     },
     "metadata": {},
     "output_type": "display_data"
    }
   ],
   "source": [
    "atoms = bulk(\"Fe\") * (2, 3, 4)\n",
    "\n",
    "atoms.rotate(90, v=[0, 0, 1])\n",
    "view_ngl(atoms, representations=[\"ball+stick\"], w=400, h=300)"
   ]
  },
  {
   "cell_type": "markdown",
   "id": "a1bd9d89-a906-4c53-9b27-f284c68df485",
   "metadata": {},
   "source": [
    "Cellの座標も同時に回転させるには、 `rotate_cell=True` とします。"
   ]
  },
  {
   "cell_type": "code",
   "execution_count": 11,
   "id": "3516de14-5e12-47ba-a0a8-0c1b043b0371",
   "metadata": {
    "tags": []
   },
   "outputs": [
    {
     "data": {
      "application/vnd.jupyter.widget-view+json": {
       "model_id": "ad58930220a84a4ba1cb5f8e46511e1f",
       "version_major": 2,
       "version_minor": 0
      },
      "text/plain": [
       "HBox(children=(NGLWidget(), VBox(children=(Dropdown(description='Show', options=('All', 'Fe'), value='All'), D…"
      ]
     },
     "metadata": {},
     "output_type": "display_data"
    }
   ],
   "source": [
    "atoms = bulk(\"Fe\") * (2, 3, 4)\n",
    "\n",
    "atoms.rotate(90, v=[0, 0, 1], rotate_cell=True)\n",
    "view_ngl(atoms, representations=[\"ball+stick\"], w=400, h=300)"
   ]
  },
  {
   "cell_type": "markdown",
   "id": "86d0168f-53cd-4d67-8e2c-f4a69c360682",
   "metadata": {},
   "source": [
    "## ランダム移動\n",
    "\n",
    "`rattle` 関数を使うと、それぞれの原子をランダム移動させて少し乱雑な構造を作成することができます。\n",
    "\n",
    "ここでは、まずSi 結晶を作成します。"
   ]
  },
  {
   "cell_type": "code",
   "execution_count": 12,
   "id": "d5b45d68-f58b-44e4-9bae-c57f59ab9d7e",
   "metadata": {},
   "outputs": [
    {
     "data": {
      "application/vnd.jupyter.widget-view+json": {
       "model_id": "40c83c2a73c0498c9fdebb563e6652cf",
       "version_major": 2,
       "version_minor": 0
      },
      "text/plain": [
       "HBox(children=(NGLWidget(), VBox(children=(Dropdown(description='Show', options=('All', 'Si'), value='All'), D…"
      ]
     },
     "metadata": {},
     "output_type": "display_data"
    }
   ],
   "source": [
    "atoms = bulk(\"Si\") * (2, 3, 4)\n",
    "view_ngl(atoms, representations=[\"ball+stick\"], w=400, h=300)"
   ]
  },
  {
   "cell_type": "markdown",
   "id": "6cf86ef1-7a26-4ad3-b530-8eaf55737dda",
   "metadata": {},
   "source": [
    "この系を `rattle` で少し構造を乱してみます。変位の方向は`seed`の指定を変えることで、変えることができます。"
   ]
  },
  {
   "cell_type": "code",
   "execution_count": 13,
   "id": "fd860746-fc92-4d16-a413-01ba43f04455",
   "metadata": {},
   "outputs": [
    {
     "data": {
      "application/vnd.jupyter.widget-view+json": {
       "model_id": "daf60b72b7ee4b898aeda39530b05265",
       "version_major": 2,
       "version_minor": 0
      },
      "text/plain": [
       "HBox(children=(NGLWidget(), VBox(children=(Dropdown(description='Show', options=('All', 'Si'), value='All'), D…"
      ]
     },
     "metadata": {},
     "output_type": "display_data"
    }
   ],
   "source": [
    "atoms.rattle(stdev=0.2, seed=1)\n",
    "view_ngl(atoms, w=400, h=300)"
   ]
  },
  {
   "cell_type": "markdown",
   "id": "e158c49e-10f3-4bd0-ba98-5bd6e86c44dc",
   "metadata": {},
   "source": [
    "`stdev`の値を変えることでより大きく乱す事もできます。"
   ]
  },
  {
   "cell_type": "code",
   "execution_count": 14,
   "id": "b3df0052-d169-4b92-a21d-aa2e9f1820e5",
   "metadata": {},
   "outputs": [
    {
     "data": {
      "application/vnd.jupyter.widget-view+json": {
       "model_id": "4dd88b9cae97464c9286dee139a37e6c",
       "version_major": 2,
       "version_minor": 0
      },
      "text/plain": [
       "HBox(children=(NGLWidget(), VBox(children=(Dropdown(description='Show', options=('All', 'Si'), value='All'), D…"
      ]
     },
     "metadata": {},
     "output_type": "display_data"
    }
   ],
   "source": [
    "atoms.rattle(stdev=0.5)\n",
    "view_ngl(atoms, w=400, h=300)"
   ]
  },
  {
   "cell_type": "markdown",
   "id": "bee8085f-9ba9-47e9-8c8f-21a0e82eaea7",
   "metadata": {},
   "source": [
    "[Note (Advance)] ASEの`rattle` 関数の引数である`seed` が指定されていないときは **`seed=42` が使われるという仕様になっており、結果`rattle`の結果はDeterministicになる**ので注意してください。\n",
    "\n",
    "以下の例では、2回 `rattle`を行った結果が等しくなっていることを確認しています。"
   ]
  },
  {
   "cell_type": "code",
   "execution_count": 15,
   "id": "004f401e-1800-42ca-b48e-9cdb8c42d142",
   "metadata": {},
   "outputs": [
    {
     "name": "stdout",
     "output_type": "stream",
     "text": [
      "atoms & atoms2 positions are same? -->  True\n"
     ]
    }
   ],
   "source": [
    "import numpy as np\n",
    "\n",
    "\n",
    "atoms = bulk(\"Si\") * (2, 3, 4)\n",
    "atoms2 = atoms.copy()\n",
    "\n",
    "atoms.rattle(stdev=0.2)\n",
    "atoms2.rattle(stdev=0.2)\n",
    "\n",
    "print(\"atoms & atoms2 positions are same? --> \", np.allclose(atoms.positions, atoms2.positions))"
   ]
  },
  {
   "cell_type": "markdown",
   "id": "23b2db42-1363-4ef5-9ee2-47abd7abf808",
   "metadata": {},
   "source": [
    "もし、毎回違う結果をランダムに得たい場合は `rng=np.random.RandomState()` を指定してください。"
   ]
  },
  {
   "cell_type": "code",
   "execution_count": 16,
   "id": "bf21d12c-a5b0-49ce-bf34-9886e09439b4",
   "metadata": {},
   "outputs": [
    {
     "name": "stdout",
     "output_type": "stream",
     "text": [
      "atoms & atoms2 positions are same? -->  False\n"
     ]
    }
   ],
   "source": [
    "atoms = bulk(\"Si\") * (2, 3, 4)\n",
    "atoms2 = atoms.copy()\n",
    "\n",
    "atoms.rattle(stdev=0.2, rng=np.random.RandomState())\n",
    "atoms2.rattle(stdev=0.2, rng=np.random.RandomState())\n",
    "\n",
    "print(\"atoms & atoms2 positions are same? --> \", np.allclose(atoms.positions, atoms2.positions))"
   ]
  },
  {
   "cell_type": "markdown",
   "id": "9af56d1c-d194-4c71-af98-0905ed563449",
   "metadata": {},
   "source": [
    "## wrap\n",
    "\n",
    "上記のSi結晶のように、Cellの外側に原子が飛び出してしまった場合、 `wrap` 関数を使うことで再び対応する周期構造の内側に戻す事ができます。"
   ]
  },
  {
   "cell_type": "code",
   "execution_count": 17,
   "id": "941a4725-4c48-4715-9086-6a47270a22c5",
   "metadata": {},
   "outputs": [
    {
     "data": {
      "application/vnd.jupyter.widget-view+json": {
       "model_id": "6be67a412b3f4402a5548c00dd4fd2f1",
       "version_major": 2,
       "version_minor": 0
      },
      "text/plain": [
       "HBox(children=(NGLWidget(), VBox(children=(Dropdown(description='Show', options=('All', 'Si'), value='All'), D…"
      ]
     },
     "metadata": {},
     "output_type": "display_data"
    }
   ],
   "source": [
    "atoms.wrap()\n",
    "view_ngl(atoms, w=400, h=300)"
   ]
  }
 ],
 "metadata": {
  "kernelspec": {
   "display_name": "Python 3.7",
   "language": "python",
   "name": "python37"
  },
  "language_info": {
   "codemirror_mode": {
    "name": "ipython",
    "version": 3
   },
   "file_extension": ".py",
   "mimetype": "text/x-python",
   "name": "python",
   "nbconvert_exporter": "python",
   "pygments_lexer": "ipython3",
   "version": "3.7.13"
  },
  "widgets": {
   "application/vnd.jupyter.widget-state+json": {
    "state": {
     "00003ff4934141f6934e175435d0885e": {
      "model_module": "@jupyter-widgets/controls",
      "model_module_version": "1.5.0",
      "model_name": "ButtonModel",
      "state": {
       "description": "Download image",
       "layout": "IPY_MODEL_2dc911feb3b1423fb8bb09c2582142ec",
       "style": "IPY_MODEL_bccb84350b944d179c91e7962965ad8b",
       "tooltip": "Download current frame to your local PC"
      }
     },
     "004d09368c884fc7b423ca9c090a7774": {
      "model_module": "@jupyter-widgets/controls",
      "model_module_version": "1.5.0",
      "model_name": "DescriptionStyleModel",
      "state": {
       "description_width": ""
      }
     },
     "00803975ff554e7f880e63a7c2fa5509": {
      "model_module": "@jupyter-widgets/base",
      "model_module_version": "1.2.0",
      "model_name": "LayoutModel",
      "state": {}
     },
     "009dfac0d3be4509937b846c44f00313": {
      "model_module": "@jupyter-widgets/controls",
      "model_module_version": "1.5.0",
      "model_name": "HBoxModel",
      "state": {
       "children": [
        "IPY_MODEL_dd4481df830c41dc84b2e2df6d39788c",
        "IPY_MODEL_02cba04226c14200a80c699900daa961"
       ],
       "layout": "IPY_MODEL_4fe6bf576a4a4a258800ecb643eab5a9"
      }
     },
     "019379ae0f65455cb9b10a504fed4bdd": {
      "model_module": "@jupyter-widgets/controls",
      "model_module_version": "1.5.0",
      "model_name": "LinkModel",
      "state": {
       "source": [
        "IPY_MODEL_be02670abc494bd0be84ea3b0c772d59",
        "value"
       ],
       "target": [
        "IPY_MODEL_d0db1731e3ab4a15a8bfda2d2b76db9a",
        "frame"
       ]
      }
     },
     "02cba04226c14200a80c699900daa961": {
      "model_module": "@jupyter-widgets/controls",
      "model_module_version": "1.5.0",
      "model_name": "IntSliderModel",
      "state": {
       "layout": "IPY_MODEL_ce3bbf983fd24b149a9b8a2d23d29b32",
       "max": 0,
       "style": "IPY_MODEL_2019da5f97804cc9aeabf028c93c301d"
      }
     },
     "035578d0e3914cedb0e81fe1f8b6e33a": {
      "model_module": "@jupyter-widgets/base",
      "model_module_version": "1.2.0",
      "model_name": "LayoutModel",
      "state": {}
     },
     "03be703191294be89e1dfcada2c4c055": {
      "model_module": "@jupyter-widgets/base",
      "model_module_version": "1.2.0",
      "model_name": "LayoutModel",
      "state": {}
     },
     "03f88c3822a74daca11c224d1c26d93b": {
      "model_module": "@jupyter-widgets/controls",
      "model_module_version": "1.5.0",
      "model_name": "LinkModel",
      "state": {
       "source": [
        "IPY_MODEL_0d4c46e315d84d97b4e349fd7c7691ed",
        "max"
       ],
       "target": [
        "IPY_MODEL_bcaba362b7334b7d9b9317d3d091f10d",
        "max_frame"
       ]
      }
     },
     "04b127738747403cb8b3828ba466e810": {
      "model_module": "@jupyter-widgets/base",
      "model_module_version": "1.2.0",
      "model_name": "LayoutModel",
      "state": {}
     },
     "0541d5c07b1941c6a1241367fefe5ea4": {
      "model_module": "@jupyter-widgets/controls",
      "model_module_version": "1.5.0",
      "model_name": "ButtonModel",
      "state": {
       "icon": "compress",
       "layout": "IPY_MODEL_8c731cea64dd42989ba323402fdce1d4",
       "style": "IPY_MODEL_8736ea9e8e52476d9c6b6241ab816c63"
      }
     },
     "072fa2c1df7c41ea8367fca9cb7757a3": {
      "model_module": "@jupyter-widgets/base",
      "model_module_version": "1.2.0",
      "model_name": "LayoutModel",
      "state": {}
     },
     "076649ef8fe4485a9b14952f6f3aa1a1": {
      "model_module": "@jupyter-widgets/controls",
      "model_module_version": "1.5.0",
      "model_name": "DropdownModel",
      "state": {
       "_options_labels": [
        "All",
        "H",
        "C",
        "O"
       ],
       "description": "Show",
       "index": 0,
       "layout": "IPY_MODEL_b3d8066bf2a34068a8d883318f9ebe32",
       "style": "IPY_MODEL_2ec76cd2a3404138a9533cc6357c2c7f"
      }
     },
     "079dd67409ce43ed9ea76010a749decb": {
      "model_module": "@jupyter-widgets/base",
      "model_module_version": "1.2.0",
      "model_name": "LayoutModel",
      "state": {}
     },
     "0800672fb20a4db382d64e088738613a": {
      "model_module": "@jupyter-widgets/base",
      "model_module_version": "1.2.0",
      "model_name": "LayoutModel",
      "state": {}
     },
     "08cfb188a9ab437eb5b600c136c5d91c": {
      "model_module": "@jupyter-widgets/base",
      "model_module_version": "1.2.0",
      "model_name": "LayoutModel",
      "state": {}
     },
     "0991d4485a624cde9a9f8ea440eae59c": {
      "model_module": "@jupyter-widgets/controls",
      "model_module_version": "1.5.0",
      "model_name": "DropdownModel",
      "state": {
       "_options_labels": [
        "All",
        "Si"
       ],
       "description": "Show",
       "index": 0,
       "layout": "IPY_MODEL_8cbeb7f7687d48f0a88f9cef1fa6af06",
       "style": "IPY_MODEL_96f94c90c1d14704905c850462dc9399"
      }
     },
     "09db9939222b454fad09af9cdb9e56f0": {
      "model_module": "@jupyter-widgets/base",
      "model_module_version": "1.2.0",
      "model_name": "LayoutModel",
      "state": {
       "width": "34px"
      }
     },
     "0a2d17e2482e46a188ff59125799446f": {
      "model_module": "@jupyter-widgets/controls",
      "model_module_version": "1.5.0",
      "model_name": "ButtonStyleModel",
      "state": {}
     },
     "0a49d2243322446587a3c383e99f2035": {
      "model_module": "@jupyter-widgets/base",
      "model_module_version": "1.2.0",
      "model_name": "LayoutModel",
      "state": {}
     },
     "0a7e039760424778afa2f1b8a0b7ea57": {
      "model_module": "@jupyter-widgets/controls",
      "model_module_version": "1.5.0",
      "model_name": "DescriptionStyleModel",
      "state": {
       "description_width": ""
      }
     },
     "0a9eab27b04b43d8ae611e0af5ea9d5c": {
      "model_module": "nglview-js-widgets",
      "model_module_version": "3.0.1",
      "model_name": "NGLModel",
      "state": {
       "_camera_orientation": [
        27.123223954253632,
        0,
        0,
        0,
        0,
        27.123223954253632,
        0,
        0,
        0,
        0,
        27.123223954253632,
        0,
        -7.678999900817871,
        -5.541999816894531,
        -5.0945000648498535,
        1
       ],
       "_camera_str": "orthographic",
       "_gui_theme": null,
       "_ibtn_fullscreen": "IPY_MODEL_0541d5c07b1941c6a1241367fefe5ea4",
       "_igui": null,
       "_iplayer": "IPY_MODEL_ab5aea3da62043b188d05e9ee9f66231",
       "_ngl_color_dict": {},
       "_ngl_coordinate_resource": {},
       "_ngl_full_stage_parameters": {
        "ambientColor": 14540253,
        "ambientIntensity": 0.2,
        "backgroundColor": "white",
        "cameraEyeSep": 0.3,
        "cameraFov": 40,
        "cameraType": "orthographic",
        "clipDist": 0,
        "clipFar": 100,
        "clipNear": 0,
        "fogFar": 100,
        "fogNear": 50,
        "hoverTimeout": 0,
        "impostor": true,
        "lightColor": 14540253,
        "lightIntensity": 1,
        "mousePreset": "default",
        "panSpeed": 1,
        "quality": "medium",
        "rotateSpeed": 2,
        "sampleLevel": 0,
        "tooltip": true,
        "workerDefault": true,
        "zoomSpeed": 1.2
       },
       "_ngl_msg_archive": [
        {
         "args": [
          {
           "binary": false,
           "data": "CRYST1    7.679   11.519   15.358  60.00  60.00  60.00 P 1\nMODEL     1\nATOM      1   Si MOL     1       0.000   0.000   0.000  1.00  0.00          SI  \nATOM      2   Si MOL     1       1.920   1.108   0.784  1.00  0.00          SI  \nATOM      3   Si MOL     1       1.920   1.108   3.135  1.00  0.00          SI  \nATOM      4   Si MOL     1       3.840   2.217   3.919  1.00  0.00          SI  \nATOM      5   Si MOL     1       3.840   2.217   6.270  1.00  0.00          SI  \nATOM      6   Si MOL     1       5.759   3.325   7.054  1.00  0.00          SI  \nATOM      7   Si MOL     1       5.759   3.325   9.405  1.00  0.00          SI  \nATOM      8   Si MOL     1       7.679   4.434  10.189  1.00  0.00          SI  \nATOM      9   Si MOL     1       1.920   3.325  -0.000  1.00  0.00          SI  \nATOM     10   Si MOL     1       3.840   4.434   0.784  1.00  0.00          SI  \nATOM     11   Si MOL     1       3.840   4.434   3.135  1.00  0.00          SI  \nATOM     12   Si MOL     1       5.759   5.542   3.919  1.00  0.00          SI  \nATOM     13   Si MOL     1       5.759   5.542   6.270  1.00  0.00          SI  \nATOM     14   Si MOL     1       7.679   6.650   7.054  1.00  0.00          SI  \nATOM     15   Si MOL     1       7.679   6.650   9.405  1.00  0.00          SI  \nATOM     16   Si MOL     1       9.599   7.759  10.189  1.00  0.00          SI  \nATOM     17   Si MOL     1       3.840   6.650  -0.000  1.00  0.00          SI  \nATOM     18   Si MOL     1       5.759   7.759   0.784  1.00  0.00          SI  \nATOM     19   Si MOL     1       5.759   7.759   3.135  1.00  0.00          SI  \nATOM     20   Si MOL     1       7.679   8.867   3.919  1.00  0.00          SI  \nATOM     21   Si MOL     1       7.679   8.867   6.270  1.00  0.00          SI  \nATOM     22   Si MOL     1       9.599   9.976   7.054  1.00  0.00          SI  \nATOM     23   Si MOL     1       9.599   9.976   9.405  1.00  0.00          SI  \nATOM     24   Si MOL     1      11.519  11.084  10.189  1.00  0.00          SI  \nATOM     25   Si MOL     1       3.840   0.000   0.000  1.00  0.00          SI  \nATOM     26   Si MOL     1       5.759   1.108   0.784  1.00  0.00          SI  \nATOM     27   Si MOL     1       5.759   1.108   3.135  1.00  0.00          SI  \nATOM     28   Si MOL     1       7.679   2.217   3.919  1.00  0.00          SI  \nATOM     29   Si MOL     1       7.679   2.217   6.270  1.00  0.00          SI  \nATOM     30   Si MOL     1       9.599   3.325   7.054  1.00  0.00          SI  \nATOM     31   Si MOL     1       9.599   3.325   9.405  1.00  0.00          SI  \nATOM     32   Si MOL     1      11.519   4.434  10.189  1.00  0.00          SI  \nATOM     33   Si MOL     1       5.759   3.325   0.000  1.00  0.00          SI  \nATOM     34   Si MOL     1       7.679   4.434   0.784  1.00  0.00          SI  \nATOM     35   Si MOL     1       7.679   4.434   3.135  1.00  0.00          SI  \nATOM     36   Si MOL     1       9.599   5.542   3.919  1.00  0.00          SI  \nATOM     37   Si MOL     1       9.599   5.542   6.270  1.00  0.00          SI  \nATOM     38   Si MOL     1      11.519   6.650   7.054  1.00  0.00          SI  \nATOM     39   Si MOL     1      11.519   6.650   9.405  1.00  0.00          SI  \nATOM     40   Si MOL     1      13.439   7.759  10.189  1.00  0.00          SI  \nATOM     41   Si MOL     1       7.679   6.650  -0.000  1.00  0.00          SI  \nATOM     42   Si MOL     1       9.599   7.759   0.784  1.00  0.00          SI  \nATOM     43   Si MOL     1       9.599   7.759   3.135  1.00  0.00          SI  \nATOM     44   Si MOL     1      11.519   8.867   3.919  1.00  0.00          SI  \nATOM     45   Si MOL     1      11.519   8.867   6.270  1.00  0.00          SI  \nATOM     46   Si MOL     1      13.439   9.976   7.054  1.00  0.00          SI  \nATOM     47   Si MOL     1      13.439   9.976   9.405  1.00  0.00          SI  \nATOM     48   Si MOL     1      15.358  11.084  10.189  1.00  0.00          SI  \nENDMDL\n",
           "type": "blob"
          }
         ],
         "kwargs": {
          "defaultRepresentation": false,
          "ext": "pdb"
         },
         "methodName": "loadFile",
         "reconstruc_color_scheme": false,
         "target": "Stage",
         "type": "call_method"
        },
        {
         "args": [
          "400px",
          "300px"
         ],
         "kwargs": {},
         "methodName": "setSize",
         "reconstruc_color_scheme": false,
         "target": "Widget",
         "type": "call_method"
        },
        {
         "args": [
          "unitcell"
         ],
         "component_index": 0,
         "kwargs": {
          "sele": "all"
         },
         "methodName": "addRepresentation",
         "reconstruc_color_scheme": false,
         "target": "compList",
         "type": "call_method"
        },
        {
         "args": [
          "spacefill"
         ],
         "component_index": 0,
         "kwargs": {
          "sele": "all"
         },
         "methodName": "addRepresentation",
         "reconstruc_color_scheme": false,
         "target": "compList",
         "type": "call_method"
        },
        {
         "args": [],
         "kwargs": {
          "cameraType": "orthographic"
         },
         "methodName": "setParameters",
         "reconstruc_color_scheme": false,
         "target": "Stage",
         "type": "call_method"
        },
        {
         "args": [
          {
           "clipDist": 0
          }
         ],
         "kwargs": {},
         "methodName": "setParameters",
         "reconstruc_color_scheme": false,
         "target": "Widget",
         "type": "call_method"
        },
        {
         "args": [
          "spacefill",
          0
         ],
         "kwargs": {
          "colorScale": "rainbow",
          "colorScheme": "element",
          "radiusScale": 0.5,
          "radiusType": "covalent"
         },
         "methodName": "updateRepresentationsByName",
         "reconstruc_color_scheme": false,
         "target": "Widget",
         "type": "call_method"
        },
        {
         "args": [
          "this._Q = [[-0.0, 0.7071067811865476, 0.7071067811865476], [0.816496580927726, -0.40824829046386285, 0.40824829046386296], [0.5773502691896257, 0.5773502691896258, -0.5773502691896257]]\n    var tooltip = document.createElement('div')\n    Object.assign(tooltip.style, {\n      display: 'none',\n      position: 'fixed',\n      zIndex: 10,\n      pointerEvents: 'none',\n      backgroundColor: 'rgba( 0, 0, 0, 0.6 )',\n      color: 'lightgrey',\n      padding: '8px',\n      fontFamily: 'sans-serif'\n    })\n    document.body.appendChild(tooltip)\n\n    var that = this\n    this.stage.mouseControls.remove('hoverPick')\n    this.stage.signals.hovered.add(function (pickingProxy) {\n      if (pickingProxy && (pickingProxy.atom || pickingProxy.bond)) {\n        var atom = pickingProxy.atom || pickingProxy.closestBondAtom\n        var mp = pickingProxy.mouse.position\n        //tooltip.innerText = atom.element + ' i=' + atom.index + ' (' + atom.x.toFixed(2) +  ', ' + atom.y.toFixed(2) +  ', ' + atom.z.toFixed(2) + ')'\n        //var pos = that._atoms_pos[atom.index]\n        var Q = that._Q\n        var pos_x = Q[0][0] * atom.x + Q[0][1] * atom.y + Q[0][2] * atom.z \n        var pos_y = Q[1][0] * atom.x + Q[1][1] * atom.y + Q[1][2] * atom.z\n        var pos_z = Q[2][0] * atom.x + Q[2][1] * atom.y + Q[2][2] * atom.z\n        tooltip.innerText = 'i=' + atom.index + ' ' + atom.element + ' (' + pos_x.toFixed(2) +  ', ' + pos_y.toFixed(2) +  ', ' + pos_z.toFixed(2) + ')'\n        tooltip.style.bottom = window.innerHeight - mp.y + 3 + 'px'\n        tooltip.style.left = mp.x + 3 + 'px'\n        tooltip.style.display = 'block'\n      } else {\n        tooltip.style.display = 'none'\n      }\n    })\n    "
         ],
         "kwargs": {},
         "methodName": "executeCode",
         "reconstruc_color_scheme": false,
         "target": "Widget",
         "type": "call_method"
        },
        {
         "args": [
          "ball+stick"
         ],
         "component_index": 0,
         "kwargs": {
          "sele": "all"
         },
         "methodName": "addRepresentation",
         "reconstruc_color_scheme": false,
         "target": "compList",
         "type": "call_method"
        }
       ],
       "_ngl_original_stage_parameters": {
        "ambientColor": 14540253,
        "ambientIntensity": 0.2,
        "backgroundColor": "white",
        "cameraEyeSep": 0.3,
        "cameraFov": 40,
        "cameraType": "perspective",
        "clipDist": 10,
        "clipFar": 100,
        "clipNear": 0,
        "fogFar": 100,
        "fogNear": 50,
        "hoverTimeout": 0,
        "impostor": true,
        "lightColor": 14540253,
        "lightIntensity": 1,
        "mousePreset": "default",
        "panSpeed": 1,
        "quality": "medium",
        "rotateSpeed": 2,
        "sampleLevel": 0,
        "tooltip": true,
        "workerDefault": true,
        "zoomSpeed": 1.2
       },
       "_ngl_repr_dict": {
        "0": {
         "0": {
          "params": {
           "clipCenter": {
            "x": 0,
            "y": 0,
            "z": 0
           },
           "clipNear": 0,
           "clipRadius": 0,
           "colorMode": "hcl",
           "colorReverse": false,
           "colorScale": "",
           "colorScheme": "element",
           "colorValue": "orange",
           "defaultAssembly": "",
           "depthWrite": true,
           "diffuse": 16777215,
           "diffuseInterior": false,
           "disableImpostor": false,
           "disablePicking": false,
           "flatShaded": false,
           "interiorColor": 2236962,
           "interiorDarkening": 0,
           "lazy": false,
           "matrix": {
            "elements": [
             1,
             0,
             0,
             0,
             0,
             1,
             0,
             0,
             0,
             0,
             1,
             0,
             0,
             0,
             0,
             1
            ]
           },
           "metalness": 0,
           "opacity": 1,
           "quality": "medium",
           "radialSegments": 10,
           "radiusData": {},
           "radiusScale": 1,
           "radiusSize": 0.04933016296568518,
           "radiusType": "vdw",
           "roughness": 0.4,
           "sele": "all",
           "side": "double",
           "sphereDetail": 1,
           "useInteriorColor": true,
           "visible": true,
           "wireframe": false
          },
          "type": "unitcell"
         },
         "1": {
          "params": {
           "assembly": "default",
           "clipCenter": {
            "x": 0,
            "y": 0,
            "z": 0
           },
           "clipNear": 0,
           "clipRadius": 0,
           "colorMode": "hcl",
           "colorReverse": false,
           "colorScale": "rainbow",
           "colorScheme": "element",
           "colorValue": 9474192,
           "defaultAssembly": "",
           "depthWrite": true,
           "diffuse": 16777215,
           "diffuseInterior": false,
           "disableImpostor": false,
           "disablePicking": false,
           "flatShaded": false,
           "interiorColor": 2236962,
           "interiorDarkening": 0,
           "lazy": false,
           "matrix": {
            "elements": [
             1,
             0,
             0,
             0,
             0,
             1,
             0,
             0,
             0,
             0,
             1,
             0,
             0,
             0,
             0,
             1
            ]
           },
           "metalness": 0,
           "opacity": 1,
           "quality": "medium",
           "radiusData": {},
           "radiusScale": 0.5,
           "radiusSize": 1,
           "radiusType": "covalent",
           "roughness": 0.4,
           "sele": "all",
           "side": "double",
           "sphereDetail": 1,
           "useInteriorColor": true,
           "visible": true,
           "wireframe": false
          },
          "type": "spacefill"
         },
         "2": {
          "params": {
           "aspectRatio": 2,
           "assembly": "default",
           "bondScale": 0.4,
           "bondSpacing": 1,
           "clipCenter": {
            "x": 0,
            "y": 0,
            "z": 0
           },
           "clipNear": 0,
           "clipRadius": 0,
           "colorMode": "hcl",
           "colorReverse": false,
           "colorScale": "",
           "colorScheme": "element",
           "colorValue": 9474192,
           "cylinderOnly": false,
           "defaultAssembly": "",
           "depthWrite": true,
           "diffuse": 16777215,
           "diffuseInterior": false,
           "disableImpostor": false,
           "disablePicking": false,
           "flatShaded": false,
           "interiorColor": 2236962,
           "interiorDarkening": 0,
           "lazy": false,
           "lineOnly": false,
           "linewidth": 2,
           "matrix": {
            "elements": [
             1,
             0,
             0,
             0,
             0,
             1,
             0,
             0,
             0,
             0,
             1,
             0,
             0,
             0,
             0,
             1
            ]
           },
           "metalness": 0,
           "multipleBond": "off",
           "opacity": 1,
           "openEnded": true,
           "quality": "medium",
           "radialSegments": 10,
           "radiusData": {},
           "radiusScale": 1,
           "radiusSize": 0.15,
           "radiusType": "size",
           "roughness": 0.4,
           "sele": "all",
           "side": "double",
           "sphereDetail": 1,
           "useInteriorColor": true,
           "visible": true,
           "wireframe": false
          },
          "type": "ball+stick"
         }
        }
       },
       "_ngl_serialize": false,
       "_ngl_version": "2.0.0-dev.36",
       "_ngl_view_id": [
        "52AE4599-041A-4523-B077-B38E3BA8ECBD"
       ],
       "_player_dict": {},
       "_scene_position": {},
       "_scene_rotation": {},
       "_synced_model_ids": [],
       "_synced_repr_model_ids": [],
       "_view_height": "",
       "_view_width": "",
       "background": "white",
       "frame": 0,
       "gui_style": null,
       "layout": "IPY_MODEL_98c15135811e4f9197cfcd6f7a608862",
       "max_frame": 0,
       "n_components": 1,
       "picked": {}
      }
     },
     "0aa83e3c91074b2ea6f413d2b999acec": {
      "model_module": "@jupyter-widgets/base",
      "model_module_version": "1.2.0",
      "model_name": "LayoutModel",
      "state": {
       "border": "0px solid black"
      }
     },
     "0ad1e6e7b2c04621bb7c4c4a155e7cd8": {
      "model_module": "@jupyter-widgets/base",
      "model_module_version": "1.2.0",
      "model_name": "LayoutModel",
      "state": {}
     },
     "0d1ee27ebed5412d875e3f84a9b576a9": {
      "model_module": "@jupyter-widgets/controls",
      "model_module_version": "1.5.0",
      "model_name": "SliderStyleModel",
      "state": {
       "description_width": ""
      }
     },
     "0d4c46e315d84d97b4e349fd7c7691ed": {
      "model_module": "@jupyter-widgets/controls",
      "model_module_version": "1.5.0",
      "model_name": "IntSliderModel",
      "state": {
       "layout": "IPY_MODEL_296c8793a6014153b999f43519ee3727",
       "max": 0,
       "style": "IPY_MODEL_ee5957fa001d4abaa6bb0c6cdf22d93f"
      }
     },
     "0fa41f3620954191824045021e29648b": {
      "model_module": "@jupyter-widgets/base",
      "model_module_version": "1.2.0",
      "model_name": "LayoutModel",
      "state": {}
     },
     "0fd2fd5dd9744ba789893bdd27bf4482": {
      "model_module": "@jupyter-widgets/controls",
      "model_module_version": "1.5.0",
      "model_name": "FloatSliderModel",
      "state": {
       "description": "Force scale",
       "layout": "IPY_MODEL_f376906ae24041239a75308c7d7d53a5",
       "step": 0.1,
       "style": "IPY_MODEL_61c5f5ee3b1f47319afc80a6731cbd79",
       "value": 0.5
      }
     },
     "0fff3b907a1c431993c269768cb9ec42": {
      "model_module": "@jupyter-widgets/base",
      "model_module_version": "1.2.0",
      "model_name": "LayoutModel",
      "state": {}
     },
     "10546cd8132747159c9f2d833b8619ae": {
      "model_module": "@jupyter-widgets/controls",
      "model_module_version": "1.5.0",
      "model_name": "LinkModel",
      "state": {
       "source": [
        "IPY_MODEL_1f1e69aca6b74a0fb9f9b9205b8eab8d",
        "value"
       ],
       "target": [
        "IPY_MODEL_b8a29d14045749e681188a1bd0f2b819",
        "value"
       ]
      }
     },
     "10962a7e8c76465d8461357bb4432ba8": {
      "model_module": "@jupyter-widgets/controls",
      "model_module_version": "1.5.0",
      "model_name": "CheckboxModel",
      "state": {
       "description": "Show charge",
       "disabled": false,
       "layout": "IPY_MODEL_0fff3b907a1c431993c269768cb9ec42",
       "style": "IPY_MODEL_18d80505d6a8407a8082bcbe93691fbb",
       "value": false
      }
     },
     "11288d716c2b468d816fae1bb165aef3": {
      "model_module": "@jupyter-widgets/controls",
      "model_module_version": "1.5.0",
      "model_name": "DescriptionStyleModel",
      "state": {
       "description_width": ""
      }
     },
     "12f9d83090944fe48b101a9f71ab96a5": {
      "model_module": "@jupyter-widgets/base",
      "model_module_version": "1.2.0",
      "model_name": "LayoutModel",
      "state": {}
     },
     "13c0b49b19674eb6baa8cca23a61098c": {
      "model_module": "@jupyter-widgets/base",
      "model_module_version": "1.2.0",
      "model_name": "LayoutModel",
      "state": {}
     },
     "13da07dd78f14744849e792f518f281f": {
      "model_module": "@jupyter-widgets/base",
      "model_module_version": "1.2.0",
      "model_name": "LayoutModel",
      "state": {}
     },
     "168613cf782c418c8c83027c8a0856a2": {
      "model_module": "@jupyter-widgets/controls",
      "model_module_version": "1.5.0",
      "model_name": "DescriptionStyleModel",
      "state": {
       "description_width": ""
      }
     },
     "16b039c68336452da3abb5c6ea781f87": {
      "model_module": "@jupyter-widgets/base",
      "model_module_version": "1.2.0",
      "model_name": "LayoutModel",
      "state": {}
     },
     "172ba04d6d4f499fa56fb27492d57e73": {
      "model_module": "@jupyter-widgets/base",
      "model_module_version": "1.2.0",
      "model_name": "LayoutModel",
      "state": {}
     },
     "18d80505d6a8407a8082bcbe93691fbb": {
      "model_module": "@jupyter-widgets/controls",
      "model_module_version": "1.5.0",
      "model_name": "DescriptionStyleModel",
      "state": {
       "description_width": ""
      }
     },
     "1969871f6d6949f8ac8fd70c47569ed2": {
      "model_module": "@jupyter-widgets/base",
      "model_module_version": "1.2.0",
      "model_name": "LayoutModel",
      "state": {}
     },
     "1b45b7ab0d8947dd8cfc2d617df372c1": {
      "model_module": "@jupyter-widgets/controls",
      "model_module_version": "1.5.0",
      "model_name": "ButtonModel",
      "state": {
       "icon": "compress",
       "layout": "IPY_MODEL_59a36377b0ed43cea8e5313d03bbd5ee",
       "style": "IPY_MODEL_f21e051b527e4ba2a4bb5571b1e136a4"
      }
     },
     "1cb3d8eb715748cba55d0f728615c691": {
      "model_module": "@jupyter-widgets/controls",
      "model_module_version": "1.5.0",
      "model_name": "SliderStyleModel",
      "state": {
       "description_width": ""
      }
     },
     "1cc6de38bee64ba19056f8ba77a357ce": {
      "model_module": "@jupyter-widgets/controls",
      "model_module_version": "1.5.0",
      "model_name": "VBoxModel",
      "state": {
       "children": [
        "IPY_MODEL_25a12dc6533f418f9142d79c5cb4916e",
        "IPY_MODEL_9af7a7e917a24b3d8b812eda69823a8a",
        "IPY_MODEL_c4c3a5803b844669bb4a8fe89e96b759",
        "IPY_MODEL_72f6c979275446d3931a56ccc6d6ba9d",
        "IPY_MODEL_569f031c666e422f9bd3a5acdd53adb2",
        "IPY_MODEL_4f767d4c2d174f988ab32d7ae6b52c44",
        "IPY_MODEL_21381e255baa404ea10545f6e43aeefc",
        "IPY_MODEL_e47e614d99dc4eaeb3b20f90eca67aa7",
        "IPY_MODEL_ca4f8ae4fc794349babec57845b44e37",
        "IPY_MODEL_d5409a0848e94e1cb649e5765505691e"
       ],
       "layout": "IPY_MODEL_f0f0970d703a47ecb0a0888cabc94d8c"
      }
     },
     "1d07345796174149a18dcb033fc86afc": {
      "model_module": "@jupyter-widgets/base",
      "model_module_version": "1.2.0",
      "model_name": "LayoutModel",
      "state": {
       "width": "34px"
      }
     },
     "1d2ef367b7a9425398bbcba21c2eacef": {
      "model_module": "@jupyter-widgets/base",
      "model_module_version": "1.2.0",
      "model_name": "LayoutModel",
      "state": {}
     },
     "1d36bbd1613c46e4b9f42b9ea0c1979c": {
      "model_module": "@jupyter-widgets/base",
      "model_module_version": "1.2.0",
      "model_name": "LayoutModel",
      "state": {}
     },
     "1d4ce494f43b4c109976d06ce36519e0": {
      "model_module": "@jupyter-widgets/controls",
      "model_module_version": "1.5.0",
      "model_name": "DescriptionStyleModel",
      "state": {
       "description_width": ""
      }
     },
     "1d97d3953e0b443f8c4a29ac457ce38a": {
      "model_module": "@jupyter-widgets/controls",
      "model_module_version": "1.5.0",
      "model_name": "DescriptionStyleModel",
      "state": {
       "description_width": ""
      }
     },
     "1e65dfdd39fa4b169cb91265e09cb98c": {
      "model_module": "@jupyter-widgets/output",
      "model_module_version": "1.0.0",
      "model_name": "OutputModel",
      "state": {
       "layout": "IPY_MODEL_d6d881099db44d06b95a0dcaf1ef7a7b"
      }
     },
     "1f1e69aca6b74a0fb9f9b9205b8eab8d": {
      "model_module": "@jupyter-widgets/controls",
      "model_module_version": "1.5.0",
      "model_name": "PlayModel",
      "state": {
       "layout": "IPY_MODEL_6847d0b6b7c844b2870c812af7dac336",
       "max": 0,
       "style": "IPY_MODEL_b09125a15ca14bfbb50699a3ab59f46e"
      }
     },
     "1f3be6f9f0de42f9ab29bc6cb4deb654": {
      "model_module": "@jupyter-widgets/base",
      "model_module_version": "1.2.0",
      "model_name": "LayoutModel",
      "state": {}
     },
     "2019da5f97804cc9aeabf028c93c301d": {
      "model_module": "@jupyter-widgets/controls",
      "model_module_version": "1.5.0",
      "model_name": "SliderStyleModel",
      "state": {
       "description_width": ""
      }
     },
     "20ad554cb09d4f6eba9f2d57d8d9c373": {
      "model_module": "@jupyter-widgets/controls",
      "model_module_version": "1.5.0",
      "model_name": "LinkModel",
      "state": {
       "source": [
        "IPY_MODEL_c5e3322032834541ada4eaa08d686de3",
        "max"
       ],
       "target": [
        "IPY_MODEL_42cd70105cdd470b9733b6fed9c39af6",
        "max_frame"
       ]
      }
     },
     "21381e255baa404ea10545f6e43aeefc": {
      "model_module": "@jupyter-widgets/controls",
      "model_module_version": "1.5.0",
      "model_name": "FloatSliderModel",
      "state": {
       "description": "Force scale",
       "layout": "IPY_MODEL_993e66184f15452292d7da136c04c64e",
       "step": 0.1,
       "style": "IPY_MODEL_8137a111e02f46528d6f0fe2d8efd80e",
       "value": 0.5
      }
     },
     "2196c6742cba4aacbfb2b6fe146befc1": {
      "model_module": "@jupyter-widgets/controls",
      "model_module_version": "1.5.0",
      "model_name": "SliderStyleModel",
      "state": {
       "description_width": ""
      }
     },
     "220c60783b084ffb9971d0b864473e54": {
      "model_module": "@jupyter-widgets/base",
      "model_module_version": "1.2.0",
      "model_name": "LayoutModel",
      "state": {}
     },
     "228033392dec4ce4b66b082685211b3c": {
      "model_module": "@jupyter-widgets/base",
      "model_module_version": "1.2.0",
      "model_name": "LayoutModel",
      "state": {}
     },
     "2300ef0631754f349315469e43962f33": {
      "model_module": "@jupyter-widgets/controls",
      "model_module_version": "1.5.0",
      "model_name": "SliderStyleModel",
      "state": {
       "description_width": ""
      }
     },
     "230c0319555d4864a5b2ce4732f11c06": {
      "model_module": "@jupyter-widgets/base",
      "model_module_version": "1.2.0",
      "model_name": "LayoutModel",
      "state": {}
     },
     "23d9c415f0534db78782198345fcdab2": {
      "model_module": "@jupyter-widgets/controls",
      "model_module_version": "1.5.0",
      "model_name": "DescriptionStyleModel",
      "state": {
       "description_width": ""
      }
     },
     "242ed8ad6cff4d1cb57d77616d6a4eeb": {
      "model_module": "@jupyter-widgets/controls",
      "model_module_version": "1.5.0",
      "model_name": "ButtonModel",
      "state": {
       "description": "Download image",
       "layout": "IPY_MODEL_293b29cd81f141709c6b44aa01c12b6c",
       "style": "IPY_MODEL_86e1ab08777646a5bbe874402148c372",
       "tooltip": "Download current frame to your local PC"
      }
     },
     "244e59e0d3d347e5a4ac30dd15515bae": {
      "model_module": "@jupyter-widgets/controls",
      "model_module_version": "1.5.0",
      "model_name": "ButtonModel",
      "state": {
       "description": "Download image",
       "layout": "IPY_MODEL_a515039469344b7289e2ec01c11ecf0c",
       "style": "IPY_MODEL_6d89966de5024e9e8ceed3faa0cf6450",
       "tooltip": "Download current frame to your local PC"
      }
     },
     "24e33f0e094a41118be11fc8a094d0a9": {
      "model_module": "@jupyter-widgets/controls",
      "model_module_version": "1.5.0",
      "model_name": "DescriptionStyleModel",
      "state": {
       "description_width": ""
      }
     },
     "2548b509d5f04c8a86b4ec02acf227d7": {
      "model_module": "@jupyter-widgets/controls",
      "model_module_version": "1.5.0",
      "model_name": "DescriptionStyleModel",
      "state": {
       "description_width": ""
      }
     },
     "25a12dc6533f418f9142d79c5cb4916e": {
      "model_module": "@jupyter-widgets/controls",
      "model_module_version": "1.5.0",
      "model_name": "DropdownModel",
      "state": {
       "_options_labels": [
        "All",
        "H",
        "C",
        "O"
       ],
       "description": "Show",
       "index": 0,
       "layout": "IPY_MODEL_dc69301059964f7e8cf494f22375cb69",
       "style": "IPY_MODEL_30cf9bb857ce4e7f84bb61296fc4c7db"
      }
     },
     "25c171572e394fefa9d4fe2c8e08e1c6": {
      "model_module": "@jupyter-widgets/base",
      "model_module_version": "1.2.0",
      "model_name": "LayoutModel",
      "state": {}
     },
     "25c5fd6e9cef4ac483acd328ba45dfa6": {
      "model_module": "@jupyter-widgets/controls",
      "model_module_version": "1.5.0",
      "model_name": "LinkModel",
      "state": {
       "source": [
        "IPY_MODEL_4eb66ea54f89427cb58fd1a7a5e35cc3",
        "max"
       ],
       "target": [
        "IPY_MODEL_8b2c6597c90c4ea195f34c4b543c880c",
        "max_frame"
       ]
      }
     },
     "2675aea23f794d45a3620482ddfe52dd": {
      "model_module": "@jupyter-widgets/controls",
      "model_module_version": "1.5.0",
      "model_name": "DescriptionStyleModel",
      "state": {
       "description_width": ""
      }
     },
     "28cc68eaa11e49fe8087f6c573b311df": {
      "model_module": "@jupyter-widgets/controls",
      "model_module_version": "1.5.0",
      "model_name": "TextModel",
      "state": {
       "description": "Filename: ",
       "layout": "IPY_MODEL_ef80f04bcfe44d5bb9bb9fde93252ef1",
       "style": "IPY_MODEL_11288d716c2b468d816fae1bb165aef3",
       "value": "screenshot.png"
      }
     },
     "28e313ca9b194cfb859a1c7fbb1cc66b": {
      "model_module": "@jupyter-widgets/base",
      "model_module_version": "1.2.0",
      "model_name": "LayoutModel",
      "state": {}
     },
     "293b29cd81f141709c6b44aa01c12b6c": {
      "model_module": "@jupyter-widgets/base",
      "model_module_version": "1.2.0",
      "model_name": "LayoutModel",
      "state": {}
     },
     "296c8793a6014153b999f43519ee3727": {
      "model_module": "@jupyter-widgets/base",
      "model_module_version": "1.2.0",
      "model_name": "LayoutModel",
      "state": {}
     },
     "2abeae8d20fa4928b0ae8d2b22b64668": {
      "model_module": "@jupyter-widgets/base",
      "model_module_version": "1.2.0",
      "model_name": "LayoutModel",
      "state": {}
     },
     "2b7f2fed1a5249688cf09cd4804cb308": {
      "model_module": "@jupyter-widgets/controls",
      "model_module_version": "1.5.0",
      "model_name": "DescriptionStyleModel",
      "state": {
       "description_width": ""
      }
     },
     "2b80caaf20d54bc49d68006b329d03bf": {
      "model_module": "@jupyter-widgets/base",
      "model_module_version": "1.2.0",
      "model_name": "LayoutModel",
      "state": {}
     },
     "2bd174219dc048748b3e2103c128c94e": {
      "model_module": "@jupyter-widgets/base",
      "model_module_version": "1.2.0",
      "model_name": "LayoutModel",
      "state": {}
     },
     "2bdf4eef57e14a708be589d2efe5cb00": {
      "model_module": "@jupyter-widgets/controls",
      "model_module_version": "1.5.0",
      "model_name": "DescriptionStyleModel",
      "state": {
       "description_width": ""
      }
     },
     "2c3225d19a6a4fafb4937526c0807e2f": {
      "model_module": "@jupyter-widgets/controls",
      "model_module_version": "1.5.0",
      "model_name": "DescriptionStyleModel",
      "state": {
       "description_width": ""
      }
     },
     "2c4abf6fc9c642359cb2389e1520f062": {
      "model_module": "@jupyter-widgets/controls",
      "model_module_version": "1.5.0",
      "model_name": "TextModel",
      "state": {
       "description": "Filename: ",
       "layout": "IPY_MODEL_8657704577aa49c68ad6b37972f4fca8",
       "style": "IPY_MODEL_32bd7ee1c576450f83730035f2541ee4",
       "value": "screenshot.png"
      }
     },
     "2dc8536af9c84f88b0e24daf8bb80f20": {
      "model_module": "@jupyter-widgets/base",
      "model_module_version": "1.2.0",
      "model_name": "LayoutModel",
      "state": {}
     },
     "2dc911feb3b1423fb8bb09c2582142ec": {
      "model_module": "@jupyter-widgets/base",
      "model_module_version": "1.2.0",
      "model_name": "LayoutModel",
      "state": {}
     },
     "2de9571a47ed4dad800853889ef7ca46": {
      "model_module": "@jupyter-widgets/controls",
      "model_module_version": "1.5.0",
      "model_name": "CheckboxModel",
      "state": {
       "description": "Show force",
       "disabled": false,
       "layout": "IPY_MODEL_7be394289c4e469d9522933f3200f5a2",
       "style": "IPY_MODEL_2c3225d19a6a4fafb4937526c0807e2f",
       "value": false
      }
     },
     "2df2aeb2c8654d328f093f3526793b80": {
      "model_module": "@jupyter-widgets/base",
      "model_module_version": "1.2.0",
      "model_name": "LayoutModel",
      "state": {
       "border": "0px solid black"
      }
     },
     "2eab47ec47a64c709c54c0ed77bd37ad": {
      "model_module": "@jupyter-widgets/base",
      "model_module_version": "1.2.0",
      "model_name": "LayoutModel",
      "state": {}
     },
     "2ec76cd2a3404138a9533cc6357c2c7f": {
      "model_module": "@jupyter-widgets/controls",
      "model_module_version": "1.5.0",
      "model_name": "DescriptionStyleModel",
      "state": {
       "description_width": ""
      }
     },
     "304db2eb4e424b23a855a2b07e9cdb05": {
      "model_module": "@jupyter-widgets/controls",
      "model_module_version": "1.5.0",
      "model_name": "LinkModel",
      "state": {
       "source": [
        "IPY_MODEL_4e1503550d054ea1acda20052311aa72",
        "value"
       ],
       "target": [
        "IPY_MODEL_42cd70105cdd470b9733b6fed9c39af6",
        "frame"
       ]
      }
     },
     "30cf9bb857ce4e7f84bb61296fc4c7db": {
      "model_module": "@jupyter-widgets/controls",
      "model_module_version": "1.5.0",
      "model_name": "DescriptionStyleModel",
      "state": {
       "description_width": ""
      }
     },
     "312a1bab15804cc7a8b217a68f75963a": {
      "model_module": "@jupyter-widgets/controls",
      "model_module_version": "1.5.0",
      "model_name": "DescriptionStyleModel",
      "state": {
       "description_width": ""
      }
     },
     "31520aff9d1d4255a7e880b528ebba98": {
      "model_module": "@jupyter-widgets/base",
      "model_module_version": "1.2.0",
      "model_name": "LayoutModel",
      "state": {}
     },
     "3181fb05389b4a6d98ec22130b5b1c5c": {
      "model_module": "@jupyter-widgets/base",
      "model_module_version": "1.2.0",
      "model_name": "LayoutModel",
      "state": {}
     },
     "326332480c174ebba38f19c80cb22fb5": {
      "model_module": "@jupyter-widgets/controls",
      "model_module_version": "1.5.0",
      "model_name": "VBoxModel",
      "state": {
       "children": [
        "IPY_MODEL_933e9f323d9748cc848d4e01c526a92f",
        "IPY_MODEL_bf6a98a3ce4d4e95bac03213c8c59f4d",
        "IPY_MODEL_d02c9e6ca01a4377914adff322f5b955",
        "IPY_MODEL_b194781ba95c448fba5c1d4f03dbcd8f",
        "IPY_MODEL_8a1ae58873b646b3ad0bac2bad868612",
        "IPY_MODEL_8ca417cdce1a48c49e353b854cd3c2f0",
        "IPY_MODEL_c7293e9e0276477583edb152e1b0cb14",
        "IPY_MODEL_9b6fbc6ab0a649df8e0c97f1b26ee8e7",
        "IPY_MODEL_e820b4092b4a435d8db728156cfad4fe",
        "IPY_MODEL_85b27b6f0244454bb1fde7aeba5e1e8c"
       ],
       "layout": "IPY_MODEL_1f3be6f9f0de42f9ab29bc6cb4deb654"
      }
     },
     "326cd65913a4430c97e19771c6879c1c": {
      "model_module": "nglview-js-widgets",
      "model_module_version": "3.0.1",
      "model_name": "NGLModel",
      "state": {
       "_camera_orientation": [
        18.678557698506353,
        0,
        0,
        0,
        0,
        18.678557698506353,
        0,
        0,
        0,
        0,
        18.678557698506353,
        0,
        -2.4855000972747803,
        1.7575000524520874,
        -1.0149999856948853,
        1
       ],
       "_camera_str": "orthographic",
       "_gui_theme": null,
       "_ibtn_fullscreen": "IPY_MODEL_1b45b7ab0d8947dd8cfc2d617df372c1",
       "_igui": null,
       "_iplayer": "IPY_MODEL_fc3cee3ef7934e52bd94b763bc6a3567",
       "_ngl_color_dict": {},
       "_ngl_coordinate_resource": {},
       "_ngl_full_stage_parameters": {
        "ambientColor": 14540253,
        "ambientIntensity": 0.2,
        "backgroundColor": "white",
        "cameraEyeSep": 0.3,
        "cameraFov": 40,
        "cameraType": "orthographic",
        "clipDist": 0,
        "clipFar": 100,
        "clipNear": 0,
        "fogFar": 100,
        "fogNear": 50,
        "hoverTimeout": 0,
        "impostor": true,
        "lightColor": 14540253,
        "lightIntensity": 1,
        "mousePreset": "default",
        "panSpeed": 1,
        "quality": "medium",
        "rotateSpeed": 2,
        "sampleLevel": 0,
        "tooltip": true,
        "workerDefault": true,
        "zoomSpeed": 1.2
       },
       "_ngl_msg_archive": [
        {
         "args": [
          {
           "binary": false,
           "data": "CRYST1    4.971    7.456    9.942 109.47 109.47 109.47 P 1\nMODEL     1\nATOM      1   Fe MOL     1       0.000   0.000   0.000  1.00  0.00          FE  \nATOM      2   Fe MOL     1       0.828  -2.343  -0.000  1.00  0.00          FE  \nATOM      3   Fe MOL     1       1.657  -4.687  -0.000  1.00  0.00          FE  \nATOM      4   Fe MOL     1       2.485  -7.030  -0.000  1.00  0.00          FE  \nATOM      5   Fe MOL     1       0.828   1.172   2.029  1.00  0.00          FE  \nATOM      6   Fe MOL     1       1.657  -1.172   2.029  1.00  0.00          FE  \nATOM      7   Fe MOL     1       2.485  -3.515   2.029  1.00  0.00          FE  \nATOM      8   Fe MOL     1       3.314  -5.858   2.029  1.00  0.00          FE  \nATOM      9   Fe MOL     1       1.657   2.343   4.059  1.00  0.00          FE  \nATOM     10   Fe MOL     1       2.485   0.000   4.059  1.00  0.00          FE  \nATOM     11   Fe MOL     1       3.314  -2.343   4.059  1.00  0.00          FE  \nATOM     12   Fe MOL     1       4.142  -4.687   4.059  1.00  0.00          FE  \nATOM     13   Fe MOL     1       0.828   1.172  -2.029  1.00  0.00          FE  \nATOM     14   Fe MOL     1       1.657  -1.172  -2.029  1.00  0.00          FE  \nATOM     15   Fe MOL     1       2.485  -3.515  -2.029  1.00  0.00          FE  \nATOM     16   Fe MOL     1       3.314  -5.858  -2.029  1.00  0.00          FE  \nATOM     17   Fe MOL     1       1.657   2.343   0.000  1.00  0.00          FE  \nATOM     18   Fe MOL     1       2.485   0.000  -0.000  1.00  0.00          FE  \nATOM     19   Fe MOL     1       3.314  -2.343  -0.000  1.00  0.00          FE  \nATOM     20   Fe MOL     1       4.142  -4.687  -0.000  1.00  0.00          FE  \nATOM     21   Fe MOL     1       2.485   3.515   2.029  1.00  0.00          FE  \nATOM     22   Fe MOL     1       3.314   1.172   2.029  1.00  0.00          FE  \nATOM     23   Fe MOL     1       4.142  -1.172   2.029  1.00  0.00          FE  \nATOM     24   Fe MOL     1       4.971  -3.515   2.029  1.00  0.00          FE  \nENDMDL\n",
           "type": "blob"
          }
         ],
         "kwargs": {
          "defaultRepresentation": false,
          "ext": "pdb"
         },
         "methodName": "loadFile",
         "reconstruc_color_scheme": false,
         "target": "Stage",
         "type": "call_method"
        },
        {
         "args": [
          "400px",
          "300px"
         ],
         "kwargs": {},
         "methodName": "setSize",
         "reconstruc_color_scheme": false,
         "target": "Widget",
         "type": "call_method"
        },
        {
         "args": [
          "unitcell"
         ],
         "component_index": 0,
         "kwargs": {
          "sele": "all"
         },
         "methodName": "addRepresentation",
         "reconstruc_color_scheme": false,
         "target": "compList",
         "type": "call_method"
        },
        {
         "args": [
          "spacefill"
         ],
         "component_index": 0,
         "kwargs": {
          "sele": "all"
         },
         "methodName": "addRepresentation",
         "reconstruc_color_scheme": false,
         "target": "compList",
         "type": "call_method"
        },
        {
         "args": [],
         "kwargs": {
          "cameraType": "orthographic"
         },
         "methodName": "setParameters",
         "reconstruc_color_scheme": false,
         "target": "Stage",
         "type": "call_method"
        },
        {
         "args": [
          {
           "clipDist": 0
          }
         ],
         "kwargs": {},
         "methodName": "setParameters",
         "reconstruc_color_scheme": false,
         "target": "Widget",
         "type": "call_method"
        },
        {
         "args": [
          "spacefill",
          0
         ],
         "kwargs": {
          "colorScale": "rainbow",
          "colorScheme": "element",
          "radiusScale": 0.5,
          "radiusType": "covalent"
         },
         "methodName": "updateRepresentationsByName",
         "reconstruc_color_scheme": false,
         "target": "Widget",
         "type": "call_method"
        },
        {
         "args": [
          "this._Q = [[-0.5773502691896257, 0.5773502691896257, 0.5773502691896257], [0.40824829046386313, -0.408248290463863, 0.8164965809277261], [0.7071067811865476, 0.7071067811865477, -2.6638240557478837e-16]]\n    var tooltip = document.createElement('div')\n    Object.assign(tooltip.style, {\n      display: 'none',\n      position: 'fixed',\n      zIndex: 10,\n      pointerEvents: 'none',\n      backgroundColor: 'rgba( 0, 0, 0, 0.6 )',\n      color: 'lightgrey',\n      padding: '8px',\n      fontFamily: 'sans-serif'\n    })\n    document.body.appendChild(tooltip)\n\n    var that = this\n    this.stage.mouseControls.remove('hoverPick')\n    this.stage.signals.hovered.add(function (pickingProxy) {\n      if (pickingProxy && (pickingProxy.atom || pickingProxy.bond)) {\n        var atom = pickingProxy.atom || pickingProxy.closestBondAtom\n        var mp = pickingProxy.mouse.position\n        //tooltip.innerText = atom.element + ' i=' + atom.index + ' (' + atom.x.toFixed(2) +  ', ' + atom.y.toFixed(2) +  ', ' + atom.z.toFixed(2) + ')'\n        //var pos = that._atoms_pos[atom.index]\n        var Q = that._Q\n        var pos_x = Q[0][0] * atom.x + Q[0][1] * atom.y + Q[0][2] * atom.z \n        var pos_y = Q[1][0] * atom.x + Q[1][1] * atom.y + Q[1][2] * atom.z\n        var pos_z = Q[2][0] * atom.x + Q[2][1] * atom.y + Q[2][2] * atom.z\n        tooltip.innerText = 'i=' + atom.index + ' ' + atom.element + ' (' + pos_x.toFixed(2) +  ', ' + pos_y.toFixed(2) +  ', ' + pos_z.toFixed(2) + ')'\n        tooltip.style.bottom = window.innerHeight - mp.y + 3 + 'px'\n        tooltip.style.left = mp.x + 3 + 'px'\n        tooltip.style.display = 'block'\n      } else {\n        tooltip.style.display = 'none'\n      }\n    })\n    "
         ],
         "kwargs": {},
         "methodName": "executeCode",
         "reconstruc_color_scheme": false,
         "target": "Widget",
         "type": "call_method"
        },
        {
         "args": [
          "ball+stick"
         ],
         "component_index": 0,
         "kwargs": {
          "sele": "all"
         },
         "methodName": "addRepresentation",
         "reconstruc_color_scheme": false,
         "target": "compList",
         "type": "call_method"
        }
       ],
       "_ngl_original_stage_parameters": {
        "ambientColor": 14540253,
        "ambientIntensity": 0.2,
        "backgroundColor": "white",
        "cameraEyeSep": 0.3,
        "cameraFov": 40,
        "cameraType": "perspective",
        "clipDist": 10,
        "clipFar": 100,
        "clipNear": 0,
        "fogFar": 100,
        "fogNear": 50,
        "hoverTimeout": 0,
        "impostor": true,
        "lightColor": 14540253,
        "lightIntensity": 1,
        "mousePreset": "default",
        "panSpeed": 1,
        "quality": "medium",
        "rotateSpeed": 2,
        "sampleLevel": 0,
        "tooltip": true,
        "workerDefault": true,
        "zoomSpeed": 1.2
       },
       "_ngl_repr_dict": {
        "0": {
         "0": {
          "params": {
           "clipCenter": {
            "x": 0,
            "y": 0,
            "z": 0
           },
           "clipNear": 0,
           "clipRadius": 0,
           "colorMode": "hcl",
           "colorReverse": false,
           "colorScale": "",
           "colorScheme": "element",
           "colorValue": "orange",
           "defaultAssembly": "",
           "depthWrite": true,
           "diffuse": 16777215,
           "diffuseInterior": false,
           "disableImpostor": false,
           "disablePicking": false,
           "flatShaded": false,
           "interiorColor": 2236962,
           "interiorDarkening": 0,
           "lazy": false,
           "matrix": {
            "elements": [
             1,
             0,
             0,
             0,
             0,
             1,
             0,
             0,
             0,
             0,
             1,
             0,
             0,
             0,
             0,
             1
            ]
           },
           "metalness": 0,
           "opacity": 1,
           "quality": "medium",
           "radialSegments": 10,
           "radiusData": {},
           "radiusScale": 1,
           "radiusSize": 0.03286151464600358,
           "radiusType": "vdw",
           "roughness": 0.4,
           "sele": "all",
           "side": "double",
           "sphereDetail": 1,
           "useInteriorColor": true,
           "visible": true,
           "wireframe": false
          },
          "type": "unitcell"
         },
         "1": {
          "params": {
           "assembly": "default",
           "clipCenter": {
            "x": 0,
            "y": 0,
            "z": 0
           },
           "clipNear": 0,
           "clipRadius": 0,
           "colorMode": "hcl",
           "colorReverse": false,
           "colorScale": "rainbow",
           "colorScheme": "element",
           "colorValue": 9474192,
           "defaultAssembly": "",
           "depthWrite": true,
           "diffuse": 16777215,
           "diffuseInterior": false,
           "disableImpostor": false,
           "disablePicking": false,
           "flatShaded": false,
           "interiorColor": 2236962,
           "interiorDarkening": 0,
           "lazy": false,
           "matrix": {
            "elements": [
             1,
             0,
             0,
             0,
             0,
             1,
             0,
             0,
             0,
             0,
             1,
             0,
             0,
             0,
             0,
             1
            ]
           },
           "metalness": 0,
           "opacity": 1,
           "quality": "medium",
           "radiusData": {},
           "radiusScale": 0.5,
           "radiusSize": 1,
           "radiusType": "covalent",
           "roughness": 0.4,
           "sele": "all",
           "side": "double",
           "sphereDetail": 1,
           "useInteriorColor": true,
           "visible": true,
           "wireframe": false
          },
          "type": "spacefill"
         },
         "2": {
          "params": {
           "aspectRatio": 2,
           "assembly": "default",
           "bondScale": 0.4,
           "bondSpacing": 1,
           "clipCenter": {
            "x": 0,
            "y": 0,
            "z": 0
           },
           "clipNear": 0,
           "clipRadius": 0,
           "colorMode": "hcl",
           "colorReverse": false,
           "colorScale": "",
           "colorScheme": "element",
           "colorValue": 9474192,
           "cylinderOnly": false,
           "defaultAssembly": "",
           "depthWrite": true,
           "diffuse": 16777215,
           "diffuseInterior": false,
           "disableImpostor": false,
           "disablePicking": false,
           "flatShaded": false,
           "interiorColor": 2236962,
           "interiorDarkening": 0,
           "lazy": false,
           "lineOnly": false,
           "linewidth": 2,
           "matrix": {
            "elements": [
             1,
             0,
             0,
             0,
             0,
             1,
             0,
             0,
             0,
             0,
             1,
             0,
             0,
             0,
             0,
             1
            ]
           },
           "metalness": 0,
           "multipleBond": "off",
           "opacity": 1,
           "openEnded": true,
           "quality": "medium",
           "radialSegments": 10,
           "radiusData": {},
           "radiusScale": 1,
           "radiusSize": 0.15,
           "radiusType": "size",
           "roughness": 0.4,
           "sele": "all",
           "side": "double",
           "sphereDetail": 1,
           "useInteriorColor": true,
           "visible": true,
           "wireframe": false
          },
          "type": "ball+stick"
         }
        }
       },
       "_ngl_serialize": false,
       "_ngl_version": "2.0.0-dev.36",
       "_ngl_view_id": [
        "A66905D6-A75F-44A9-B5B7-03CD816287E0"
       ],
       "_player_dict": {},
       "_scene_position": {},
       "_scene_rotation": {},
       "_synced_model_ids": [],
       "_synced_repr_model_ids": [],
       "_view_height": "",
       "_view_width": "",
       "background": "white",
       "frame": 0,
       "gui_style": null,
       "layout": "IPY_MODEL_b0ebd5d81219406eaa09ac9bec48afa8",
       "max_frame": 0,
       "n_components": 1,
       "picked": {}
      }
     },
     "328b1a4f6979485490da3cecb55ed6f0": {
      "model_module": "@jupyter-widgets/base",
      "model_module_version": "1.2.0",
      "model_name": "LayoutModel",
      "state": {}
     },
     "32bd7ee1c576450f83730035f2541ee4": {
      "model_module": "@jupyter-widgets/controls",
      "model_module_version": "1.5.0",
      "model_name": "DescriptionStyleModel",
      "state": {
       "description_width": ""
      }
     },
     "336294c17bcd498395cd6a9de259f16a": {
      "model_module": "@jupyter-widgets/controls",
      "model_module_version": "1.5.0",
      "model_name": "PlayModel",
      "state": {
       "layout": "IPY_MODEL_8883856a90c84a80882d61621e35b80f",
       "max": 0,
       "style": "IPY_MODEL_c3a9c2b4f8b14a148968c330125d7502"
      }
     },
     "336c23cb373d480cb4da7c4f054961a6": {
      "model_module": "@jupyter-widgets/controls",
      "model_module_version": "1.5.0",
      "model_name": "ButtonStyleModel",
      "state": {}
     },
     "33e1371912b44d77828e71267a78d588": {
      "model_module": "@jupyter-widgets/base",
      "model_module_version": "1.2.0",
      "model_name": "LayoutModel",
      "state": {}
     },
     "341f51ffc8b84a11aff5596cc4f243a2": {
      "model_module": "@jupyter-widgets/controls",
      "model_module_version": "1.5.0",
      "model_name": "ButtonModel",
      "state": {
       "icon": "compress",
       "layout": "IPY_MODEL_1d07345796174149a18dcb033fc86afc",
       "style": "IPY_MODEL_e173467650314b37bd87e44be42f4ab3"
      }
     },
     "347263ac18574f91b67cc81450f0310d": {
      "model_module": "@jupyter-widgets/controls",
      "model_module_version": "1.5.0",
      "model_name": "TextModel",
      "state": {
       "description": "Filename: ",
       "layout": "IPY_MODEL_7c953d7268164a44a31da22afd30111a",
       "style": "IPY_MODEL_24e33f0e094a41118be11fc8a094d0a9",
       "value": "screenshot.png"
      }
     },
     "35aa8cd3af1c42719bba1cdaa1197318": {
      "model_module": "@jupyter-widgets/base",
      "model_module_version": "1.2.0",
      "model_name": "LayoutModel",
      "state": {}
     },
     "35b81cccfbdb426bb9e3ddcb61ca36a6": {
      "model_module": "@jupyter-widgets/controls",
      "model_module_version": "1.5.0",
      "model_name": "SliderStyleModel",
      "state": {
       "description_width": ""
      }
     },
     "35e35b3708804f158b99dc364dbdde5a": {
      "model_module": "@jupyter-widgets/controls",
      "model_module_version": "1.5.0",
      "model_name": "FloatSliderModel",
      "state": {
       "description": "Ball size",
       "layout": "IPY_MODEL_6b6e44a79bed41f7ba13b8d9d19a5e30",
       "max": 1.5,
       "step": 0.01,
       "style": "IPY_MODEL_9c91203e86664b6a9a5ddfe226dfe2a7",
       "value": 0.5
      }
     },
     "36e02a56773842509f8b6b2132abceb7": {
      "model_module": "@jupyter-widgets/controls",
      "model_module_version": "1.5.0",
      "model_name": "ButtonStyleModel",
      "state": {}
     },
     "37570ffd3f8540ddab375d27953845ed": {
      "model_module": "@jupyter-widgets/base",
      "model_module_version": "1.2.0",
      "model_name": "LayoutModel",
      "state": {}
     },
     "37efbd6cc16b4af0a0635743363b4339": {
      "model_module": "@jupyter-widgets/controls",
      "model_module_version": "1.5.0",
      "model_name": "TextModel",
      "state": {
       "description": "Filename: ",
       "layout": "IPY_MODEL_59f1b2b803e447a9ac5456715e630544",
       "style": "IPY_MODEL_5403320150f1465bae2d154c985484de",
       "value": "screenshot.png"
      }
     },
     "380dd0ebe72a4030a25b4bb31a64936f": {
      "model_module": "@jupyter-widgets/controls",
      "model_module_version": "1.5.0",
      "model_name": "DropdownModel",
      "state": {
       "_options_labels": [
        "All",
        "Si"
       ],
       "description": "Show",
       "index": 0,
       "layout": "IPY_MODEL_2abeae8d20fa4928b0ae8d2b22b64668",
       "style": "IPY_MODEL_86c905f7be0b44eba700f66028ef6816"
      }
     },
     "39982d0a72364c059482f49086f4d5af": {
      "model_module": "@jupyter-widgets/base",
      "model_module_version": "1.2.0",
      "model_name": "LayoutModel",
      "state": {}
     },
     "3aa9150672494855ba2785c6d73ba9d5": {
      "model_module": "@jupyter-widgets/controls",
      "model_module_version": "1.5.0",
      "model_name": "ButtonModel",
      "state": {
       "icon": "compress",
       "layout": "IPY_MODEL_7701c2cd9220499088d0b925307956b4",
       "style": "IPY_MODEL_a891f28560aa4c15934a8e1bfdf137c2"
      }
     },
     "3b064bbc1b8440f4b44c16c812163548": {
      "model_module": "@jupyter-widgets/controls",
      "model_module_version": "1.5.0",
      "model_name": "DescriptionStyleModel",
      "state": {
       "description_width": ""
      }
     },
     "3b5ef6a3cae74b7aaa8331615d00da79": {
      "model_module": "@jupyter-widgets/controls",
      "model_module_version": "1.5.0",
      "model_name": "TextModel",
      "state": {
       "description": "Filename: ",
       "layout": "IPY_MODEL_37570ffd3f8540ddab375d27953845ed",
       "style": "IPY_MODEL_f22ce7d4ed3c439d9d648d7a5791d260",
       "value": "screenshot.png"
      }
     },
     "3b8eee6abeb44b75818e9fe1329ca5b9": {
      "model_module": "@jupyter-widgets/base",
      "model_module_version": "1.2.0",
      "model_name": "LayoutModel",
      "state": {}
     },
     "3b9b49233be548e195983535a883d0a9": {
      "model_module": "@jupyter-widgets/base",
      "model_module_version": "1.2.0",
      "model_name": "LayoutModel",
      "state": {}
     },
     "3bc7e4ece0464a94897175b1381bfbde": {
      "model_module": "@jupyter-widgets/base",
      "model_module_version": "1.2.0",
      "model_name": "LayoutModel",
      "state": {}
     },
     "3bcb12f51903488b969476b0502aa2b3": {
      "model_module": "@jupyter-widgets/base",
      "model_module_version": "1.2.0",
      "model_name": "LayoutModel",
      "state": {
       "border": "0px solid black"
      }
     },
     "3bfd7ff6dd9e4e2aa85dd8772a65b126": {
      "model_module": "@jupyter-widgets/controls",
      "model_module_version": "1.5.0",
      "model_name": "CheckboxModel",
      "state": {
       "description": "Show force",
       "disabled": false,
       "layout": "IPY_MODEL_3bc7e4ece0464a94897175b1381bfbde",
       "style": "IPY_MODEL_4e2cf1df80534cd19c1dd2731e77fadb",
       "value": false
      }
     },
     "3c84f68c749148deb6339cbe04ef6893": {
      "model_module": "@jupyter-widgets/controls",
      "model_module_version": "1.5.0",
      "model_name": "LinkModel",
      "state": {
       "source": [
        "IPY_MODEL_1f1e69aca6b74a0fb9f9b9205b8eab8d",
        "value"
       ],
       "target": [
        "IPY_MODEL_326cd65913a4430c97e19771c6879c1c",
        "frame"
       ]
      }
     },
     "3d10698e2eb24f239641ae93569c685d": {
      "model_module": "@jupyter-widgets/controls",
      "model_module_version": "1.5.0",
      "model_name": "DescriptionStyleModel",
      "state": {
       "description_width": ""
      }
     },
     "3d26d995580d433b81f3941a79e2cc9e": {
      "model_module": "@jupyter-widgets/controls",
      "model_module_version": "1.5.0",
      "model_name": "LinkModel",
      "state": {
       "source": [
        "IPY_MODEL_8c83f5fe54d2451e8166c2c61086d7b8",
        "max"
       ],
       "target": [
        "IPY_MODEL_bcaba362b7334b7d9b9317d3d091f10d",
        "max_frame"
       ]
      }
     },
     "3d4fe693a8f34a4a9fe7c1f8f1de681f": {
      "model_module": "nglview-js-widgets",
      "model_module_version": "3.0.1",
      "model_name": "ColormakerRegistryModel",
      "state": {
       "_msg_ar": [],
       "_msg_q": [],
       "_ready": true,
       "layout": "IPY_MODEL_2dc8536af9c84f88b0e24daf8bb80f20"
      }
     },
     "3e2f2032751f4808b62cf01c35062516": {
      "model_module": "@jupyter-widgets/controls",
      "model_module_version": "1.5.0",
      "model_name": "PlayModel",
      "state": {
       "layout": "IPY_MODEL_83c8eec95c624463b9f87a4807311b1e",
       "max": 0,
       "style": "IPY_MODEL_d0ebd47a322049b48d2155c286583022"
      }
     },
     "3e580ee1f989432a9bbe0c20ff487444": {
      "model_module": "@jupyter-widgets/controls",
      "model_module_version": "1.5.0",
      "model_name": "DescriptionStyleModel",
      "state": {
       "description_width": ""
      }
     },
     "3eb3a076b1ec43ec9c20ecb057680777": {
      "model_module": "@jupyter-widgets/base",
      "model_module_version": "1.2.0",
      "model_name": "LayoutModel",
      "state": {}
     },
     "3f970d9d1a5b4c2883aac19eaafc7af7": {
      "model_module": "@jupyter-widgets/controls",
      "model_module_version": "1.5.0",
      "model_name": "ButtonModel",
      "state": {
       "icon": "compress",
       "layout": "IPY_MODEL_d92f03560ce74ef1948274037e2806cb",
       "style": "IPY_MODEL_6f276eed29d24887b4df237cd4f793df"
      }
     },
     "3fe9fa41059c4537931b8614f73b7777": {
      "model_module": "@jupyter-widgets/controls",
      "model_module_version": "1.5.0",
      "model_name": "HBoxModel",
      "state": {
       "children": [
        "IPY_MODEL_242ed8ad6cff4d1cb57d77616d6a4eeb",
        "IPY_MODEL_7636a0e4698c49c78c0b1277e75d5ce7"
       ],
       "layout": "IPY_MODEL_759ebe2d52af41fb9d42275cd6d57067"
      }
     },
     "4086f56c9dd44b37aae324f791a78299": {
      "model_module": "@jupyter-widgets/base",
      "model_module_version": "1.2.0",
      "model_name": "LayoutModel",
      "state": {}
     },
     "40c83c2a73c0498c9fdebb563e6652cf": {
      "model_module": "@jupyter-widgets/controls",
      "model_module_version": "1.5.0",
      "model_name": "HBoxModel",
      "state": {
       "children": [
        "IPY_MODEL_0a9eab27b04b43d8ae611e0af5ea9d5c",
        "IPY_MODEL_61bb48e38ed1495ea80ee28db296dba8"
       ],
       "layout": "IPY_MODEL_4cb9323226a74a049e94c940fe5642d3"
      }
     },
     "41d162ff27e347fc89d7d28fa6b3aea8": {
      "model_module": "@jupyter-widgets/controls",
      "model_module_version": "1.5.0",
      "model_name": "ImageModel",
      "state": {
       "layout": "IPY_MODEL_5a14778212c94bf7a36ca8cfc1cb3ab0",
       "width": "900.0"
      }
     },
     "42452603c49e4ae789d082664bdbe092": {
      "model_module": "@jupyter-widgets/controls",
      "model_module_version": "1.5.0",
      "model_name": "LinkModel",
      "state": {
       "source": [
        "IPY_MODEL_dc6a5fe045524467b82b8d4bbee603b9",
        "max"
       ],
       "target": [
        "IPY_MODEL_d0db1731e3ab4a15a8bfda2d2b76db9a",
        "max_frame"
       ]
      }
     },
     "42cd70105cdd470b9733b6fed9c39af6": {
      "model_module": "nglview-js-widgets",
      "model_module_version": "3.0.1",
      "model_name": "NGLModel",
      "state": {
       "_camera_orientation": [
        26.96698217551402,
        0,
        0,
        0,
        0,
        26.96698217551402,
        0,
        0,
        0,
        0,
        26.96698217551402,
        0,
        -7.5514998165890574,
        -5.534499883651733,
        -5.026999890804291,
        1
       ],
       "_camera_str": "orthographic",
       "_gui_theme": null,
       "_ibtn_fullscreen": "IPY_MODEL_a67496ec255d4c18bf8ea70872248b72",
       "_igui": null,
       "_iplayer": "IPY_MODEL_6f62c8d14ad34aba8c0ad11852a6caae",
       "_ngl_color_dict": {},
       "_ngl_coordinate_resource": {},
       "_ngl_full_stage_parameters": {
        "ambientColor": 14540253,
        "ambientIntensity": 0.2,
        "backgroundColor": "white",
        "cameraEyeSep": 0.3,
        "cameraFov": 40,
        "cameraType": "orthographic",
        "clipDist": 0,
        "clipFar": 100,
        "clipNear": 0,
        "fogFar": 100,
        "fogNear": 50,
        "hoverTimeout": 0,
        "impostor": true,
        "lightColor": 14540253,
        "lightIntensity": 1,
        "mousePreset": "default",
        "panSpeed": 1,
        "quality": "medium",
        "rotateSpeed": 2,
        "sampleLevel": 0,
        "tooltip": true,
        "workerDefault": true,
        "zoomSpeed": 1.2
       },
       "_ngl_msg_archive": [
        {
         "args": [
          {
           "binary": false,
           "data": "CRYST1    7.679   11.519   15.358  60.00  60.00  60.00 P 1\nMODEL     1\nATOM      1   Si MOL     1       0.019   0.635   0.094  1.00  0.00          SI  \nATOM      2   Si MOL     1       1.551   1.296   1.465  1.00  0.00          SI  \nATOM      3   Si MOL     1       1.963   1.874   4.025  1.00  0.00          SI  \nATOM      4   Si MOL     1       3.427   2.110   4.454  1.00  0.00          SI  \nATOM      5   Si MOL     1       2.659   2.425   6.073  1.00  0.00          SI  \nATOM      6   Si MOL     1       5.364   3.129   6.463  1.00  0.00          SI  \nATOM      7   Si MOL     1       5.705   3.411   8.511  1.00  0.00          SI  \nATOM      8   Si MOL     1       7.398   4.191  10.733  1.00  0.00          SI  \nATOM      9   Si MOL     1       1.438   3.038   0.246  1.00  0.00          SI  \nATOM     10   Si MOL     1       3.561   4.562   0.603  1.00  0.00          SI  \nATOM     11   Si MOL     1       4.336   3.670   3.454  1.00  0.00          SI  \nATOM     12   Si MOL     1       5.522   4.609   4.030  1.00  0.00          SI  \nATOM     13   Si MOL     1       4.865   5.690   5.854  1.00  0.00          SI  \nATOM     14   Si MOL     1       7.848   6.679   7.440  1.00  0.00          SI  \nATOM     15   Si MOL     1       7.297   6.107   9.815  1.00  0.00          SI  \nATOM     16   Si MOL     1      10.134   7.827   9.249  1.00  0.00          SI  \nATOM     17   Si MOL     1       3.461   7.210  -0.453  1.00  0.00          SI  \nATOM     18   Si MOL     1       5.525   7.872   0.168  1.00  0.00          SI  \nATOM     19   Si MOL     1       5.994   7.805   3.890  1.00  0.00          SI  \nATOM     20   Si MOL     1       8.307   9.073   3.682  1.00  0.00          SI  \nATOM     21   Si MOL     1       7.472   8.300   6.396  1.00  0.00          SI  \nATOM     22   Si MOL     1      10.424   9.503   6.582  1.00  0.00          SI  \nATOM     23   Si MOL     1      10.606  10.054   9.623  1.00  0.00          SI  \nATOM     24   Si MOL     1      11.915  10.909   9.393  1.00  0.00          SI  \nATOM     25   Si MOL     1       3.635  -0.888   1.281  1.00  0.00          SI  \nATOM     26   Si MOL     1       5.758   1.128   0.768  1.00  0.00          SI  \nATOM     27   Si MOL     1       5.055   1.464   2.791  1.00  0.00          SI  \nATOM     28   Si MOL     1       8.103   1.941   4.549  1.00  0.00          SI  \nATOM     29   Si MOL     1       7.747   2.144   5.742  1.00  0.00          SI  \nATOM     30   Si MOL     1       9.770   3.816   6.775  1.00  0.00          SI  \nATOM     31   Si MOL     1       9.666   3.174  10.119  1.00  0.00          SI  \nATOM     32   Si MOL     1      10.934   3.949  10.370  1.00  0.00          SI  \nATOM     33   Si MOL     1       5.772   3.283   0.196  1.00  0.00          SI  \nATOM     34   Si MOL     1       7.140   4.791   0.316  1.00  0.00          SI  \nATOM     35   Si MOL     1       7.268   4.353   3.093  1.00  0.00          SI  \nATOM     36   Si MOL     1      10.297   5.247   4.745  1.00  0.00          SI  \nATOM     37   Si MOL     1       8.705   5.112   7.008  1.00  0.00          SI  \nATOM     38   Si MOL     1      12.409   7.042   6.586  1.00  0.00          SI  \nATOM     39   Si MOL     1      11.422   6.664   9.340  1.00  0.00          SI  \nATOM     40   Si MOL     1      14.325   6.880   9.860  1.00  0.00          SI  \nATOM     41   Si MOL     1       7.924   7.609  -0.679  1.00  0.00          SI  \nATOM     42   Si MOL     1      10.493   8.088  -0.214  1.00  0.00          SI  \nATOM     43   Si MOL     1       9.312   7.631   3.022  1.00  0.00          SI  \nATOM     44   Si MOL     1      10.884   9.099   3.455  1.00  0.00          SI  \nATOM     45   Si MOL     1      11.551   7.968   6.195  1.00  0.00          SI  \nATOM     46   Si MOL     1      12.960  10.465   7.488  1.00  0.00          SI  \nATOM     47   Si MOL     1      13.064  10.717   9.338  1.00  0.00          SI  \nATOM     48   Si MOL     1      15.084  11.957  10.051  1.00  0.00          SI  \nENDMDL\n",
           "type": "blob"
          }
         ],
         "kwargs": {
          "defaultRepresentation": false,
          "ext": "pdb"
         },
         "methodName": "loadFile",
         "reconstruc_color_scheme": false,
         "target": "Stage",
         "type": "call_method"
        },
        {
         "args": [
          "400px",
          "300px"
         ],
         "kwargs": {},
         "methodName": "setSize",
         "reconstruc_color_scheme": false,
         "target": "Widget",
         "type": "call_method"
        },
        {
         "args": [
          "unitcell"
         ],
         "component_index": 0,
         "kwargs": {
          "sele": "all"
         },
         "methodName": "addRepresentation",
         "reconstruc_color_scheme": false,
         "target": "compList",
         "type": "call_method"
        },
        {
         "args": [
          "spacefill"
         ],
         "component_index": 0,
         "kwargs": {
          "sele": "all"
         },
         "methodName": "addRepresentation",
         "reconstruc_color_scheme": false,
         "target": "compList",
         "type": "call_method"
        },
        {
         "args": [],
         "kwargs": {
          "cameraType": "orthographic"
         },
         "methodName": "setParameters",
         "reconstruc_color_scheme": false,
         "target": "Stage",
         "type": "call_method"
        },
        {
         "args": [
          {
           "clipDist": 0
          }
         ],
         "kwargs": {},
         "methodName": "setParameters",
         "reconstruc_color_scheme": false,
         "target": "Widget",
         "type": "call_method"
        },
        {
         "args": [
          "spacefill",
          0
         ],
         "kwargs": {
          "colorScale": "rainbow",
          "colorScheme": "element",
          "radiusScale": 0.5,
          "radiusType": "covalent"
         },
         "methodName": "updateRepresentationsByName",
         "reconstruc_color_scheme": false,
         "target": "Widget",
         "type": "call_method"
        },
        {
         "args": [
          "this._Q = [[-0.0, 0.7071067811865476, 0.7071067811865476], [0.816496580927726, -0.40824829046386285, 0.40824829046386296], [0.5773502691896257, 0.5773502691896258, -0.5773502691896257]]\n    var tooltip = document.createElement('div')\n    Object.assign(tooltip.style, {\n      display: 'none',\n      position: 'fixed',\n      zIndex: 10,\n      pointerEvents: 'none',\n      backgroundColor: 'rgba( 0, 0, 0, 0.6 )',\n      color: 'lightgrey',\n      padding: '8px',\n      fontFamily: 'sans-serif'\n    })\n    document.body.appendChild(tooltip)\n\n    var that = this\n    this.stage.mouseControls.remove('hoverPick')\n    this.stage.signals.hovered.add(function (pickingProxy) {\n      if (pickingProxy && (pickingProxy.atom || pickingProxy.bond)) {\n        var atom = pickingProxy.atom || pickingProxy.closestBondAtom\n        var mp = pickingProxy.mouse.position\n        //tooltip.innerText = atom.element + ' i=' + atom.index + ' (' + atom.x.toFixed(2) +  ', ' + atom.y.toFixed(2) +  ', ' + atom.z.toFixed(2) + ')'\n        //var pos = that._atoms_pos[atom.index]\n        var Q = that._Q\n        var pos_x = Q[0][0] * atom.x + Q[0][1] * atom.y + Q[0][2] * atom.z \n        var pos_y = Q[1][0] * atom.x + Q[1][1] * atom.y + Q[1][2] * atom.z\n        var pos_z = Q[2][0] * atom.x + Q[2][1] * atom.y + Q[2][2] * atom.z\n        tooltip.innerText = 'i=' + atom.index + ' ' + atom.element + ' (' + pos_x.toFixed(2) +  ', ' + pos_y.toFixed(2) +  ', ' + pos_z.toFixed(2) + ')'\n        tooltip.style.bottom = window.innerHeight - mp.y + 3 + 'px'\n        tooltip.style.left = mp.x + 3 + 'px'\n        tooltip.style.display = 'block'\n      } else {\n        tooltip.style.display = 'none'\n      }\n    })\n    "
         ],
         "kwargs": {},
         "methodName": "executeCode",
         "reconstruc_color_scheme": false,
         "target": "Widget",
         "type": "call_method"
        }
       ],
       "_ngl_original_stage_parameters": {
        "ambientColor": 14540253,
        "ambientIntensity": 0.2,
        "backgroundColor": "white",
        "cameraEyeSep": 0.3,
        "cameraFov": 40,
        "cameraType": "perspective",
        "clipDist": 10,
        "clipFar": 100,
        "clipNear": 0,
        "fogFar": 100,
        "fogNear": 50,
        "hoverTimeout": 0,
        "impostor": true,
        "lightColor": 14540253,
        "lightIntensity": 1,
        "mousePreset": "default",
        "panSpeed": 1,
        "quality": "medium",
        "rotateSpeed": 2,
        "sampleLevel": 0,
        "tooltip": true,
        "workerDefault": true,
        "zoomSpeed": 1.2
       },
       "_ngl_repr_dict": {
        "0": {
         "0": {
          "params": {
           "clipCenter": {
            "x": 0,
            "y": 0,
            "z": 0
           },
           "clipNear": 0,
           "clipRadius": 0,
           "colorMode": "hcl",
           "colorReverse": false,
           "colorScale": "",
           "colorScheme": "element",
           "colorValue": "orange",
           "defaultAssembly": "",
           "depthWrite": true,
           "diffuse": 16777215,
           "diffuseInterior": false,
           "disableImpostor": false,
           "disablePicking": false,
           "flatShaded": false,
           "interiorColor": 2236962,
           "interiorDarkening": 0,
           "lazy": false,
           "matrix": {
            "elements": [
             1,
             0,
             0,
             0,
             0,
             1,
             0,
             0,
             0,
             0,
             1,
             0,
             0,
             0,
             0,
             1
            ]
           },
           "metalness": 0,
           "opacity": 1,
           "quality": "medium",
           "radialSegments": 10,
           "radiusData": {},
           "radiusScale": 1,
           "radiusSize": 0.04933016296568518,
           "radiusType": "vdw",
           "roughness": 0.4,
           "sele": "all",
           "side": "double",
           "sphereDetail": 1,
           "useInteriorColor": true,
           "visible": true,
           "wireframe": false
          },
          "type": "unitcell"
         },
         "1": {
          "params": {
           "assembly": "default",
           "clipCenter": {
            "x": 0,
            "y": 0,
            "z": 0
           },
           "clipNear": 0,
           "clipRadius": 0,
           "colorMode": "hcl",
           "colorReverse": false,
           "colorScale": "rainbow",
           "colorScheme": "element",
           "colorValue": 9474192,
           "defaultAssembly": "",
           "depthWrite": true,
           "diffuse": 16777215,
           "diffuseInterior": false,
           "disableImpostor": false,
           "disablePicking": false,
           "flatShaded": false,
           "interiorColor": 2236962,
           "interiorDarkening": 0,
           "lazy": false,
           "matrix": {
            "elements": [
             1,
             0,
             0,
             0,
             0,
             1,
             0,
             0,
             0,
             0,
             1,
             0,
             0,
             0,
             0,
             1
            ]
           },
           "metalness": 0,
           "opacity": 1,
           "quality": "medium",
           "radiusData": {},
           "radiusScale": 0.5,
           "radiusSize": 1,
           "radiusType": "covalent",
           "roughness": 0.4,
           "sele": "all",
           "side": "double",
           "sphereDetail": 1,
           "useInteriorColor": true,
           "visible": true,
           "wireframe": false
          },
          "type": "spacefill"
         }
        }
       },
       "_ngl_serialize": false,
       "_ngl_version": "2.0.0-dev.36",
       "_ngl_view_id": [
        "3CFAAD51-B361-4542-B551-1B88925AD7EA"
       ],
       "_player_dict": {},
       "_scene_position": {},
       "_scene_rotation": {},
       "_synced_model_ids": [],
       "_synced_repr_model_ids": [],
       "_view_height": "",
       "_view_width": "",
       "background": "white",
       "frame": 0,
       "gui_style": null,
       "layout": "IPY_MODEL_00803975ff554e7f880e63a7c2fa5509",
       "max_frame": 0,
       "n_components": 1,
       "picked": {}
      }
     },
     "43c335acaeaf451b84d5959a347479bf": {
      "model_module": "@jupyter-widgets/controls",
      "model_module_version": "1.5.0",
      "model_name": "ButtonModel",
      "state": {
       "description": "Save image",
       "layout": "IPY_MODEL_9d401fd96f2c4c149d85da7a3bfb1121",
       "style": "IPY_MODEL_6e2b7de2b37d41dfa1f2d5bddfb43a6d",
       "tooltip": "Save current frame to file.\nCurrently .png and .html are supported.\nIt takes a bit time, please be patient."
      }
     },
     "4472e3ac206546de9702b5f66c117089": {
      "model_module": "@jupyter-widgets/base",
      "model_module_version": "1.2.0",
      "model_name": "LayoutModel",
      "state": {}
     },
     "448bacad90294a95be065d49afef1883": {
      "model_module": "@jupyter-widgets/controls",
      "model_module_version": "1.5.0",
      "model_name": "ButtonModel",
      "state": {
       "description": "Save image",
       "layout": "IPY_MODEL_4c1810c202504025a65c874d2031c83f",
       "style": "IPY_MODEL_6d23573c8faa4c8fa9b8fcbdceebf3b2",
       "tooltip": "Save current frame to file.\nCurrently .png and .html are supported.\nIt takes a bit time, please be patient."
      }
     },
     "452ed57c558d4c349afaf6959b0307c6": {
      "model_module": "@jupyter-widgets/controls",
      "model_module_version": "1.5.0",
      "model_name": "SliderStyleModel",
      "state": {
       "description_width": ""
      }
     },
     "45a7611e728545c5a563caed87c7fa58": {
      "model_module": "@jupyter-widgets/controls",
      "model_module_version": "1.5.0",
      "model_name": "FloatSliderModel",
      "state": {
       "description": "Force scale",
       "layout": "IPY_MODEL_f1091afeb6a94058890cd1ae34c3749f",
       "step": 0.1,
       "style": "IPY_MODEL_a412b5289dd2465e86f0131afb6c9b48",
       "value": 0.5
      }
     },
     "4795ae4f6a424f228b189c61ca780dee": {
      "model_module": "@jupyter-widgets/controls",
      "model_module_version": "1.5.0",
      "model_name": "DescriptionStyleModel",
      "state": {
       "description_width": ""
      }
     },
     "47a58133bca246a1a7ec2933363927e5": {
      "model_module": "@jupyter-widgets/base",
      "model_module_version": "1.2.0",
      "model_name": "LayoutModel",
      "state": {
       "width": "34px"
      }
     },
     "47b41d7e0598481fa885e11a7066f9dc": {
      "model_module": "@jupyter-widgets/controls",
      "model_module_version": "1.5.0",
      "model_name": "SliderStyleModel",
      "state": {
       "description_width": ""
      }
     },
     "4813552753654747ab36d4362adbe706": {
      "model_module": "@jupyter-widgets/base",
      "model_module_version": "1.2.0",
      "model_name": "LayoutModel",
      "state": {}
     },
     "4829e460377347c4a2cc17f39fd81778": {
      "model_module": "@jupyter-widgets/controls",
      "model_module_version": "1.5.0",
      "model_name": "SliderStyleModel",
      "state": {
       "description_width": ""
      }
     },
     "482df7195dba403caa32c26ea31ddc7a": {
      "model_module": "@jupyter-widgets/base",
      "model_module_version": "1.2.0",
      "model_name": "LayoutModel",
      "state": {}
     },
     "484afd6d45fc4517a6d9d81e5eb40f06": {
      "model_module": "@jupyter-widgets/controls",
      "model_module_version": "1.5.0",
      "model_name": "ButtonStyleModel",
      "state": {}
     },
     "4895c0942247463fa73f0feffe1da9b7": {
      "model_module": "@jupyter-widgets/controls",
      "model_module_version": "1.5.0",
      "model_name": "DescriptionStyleModel",
      "state": {
       "description_width": ""
      }
     },
     "49f1c161bd4f45abbbb43b22b0ba4155": {
      "model_module": "@jupyter-widgets/base",
      "model_module_version": "1.2.0",
      "model_name": "LayoutModel",
      "state": {}
     },
     "4b3db26f624b497580b310ac6f91d2bb": {
      "model_module": "@jupyter-widgets/controls",
      "model_module_version": "1.5.0",
      "model_name": "DescriptionStyleModel",
      "state": {
       "description_width": ""
      }
     },
     "4bd3eb2da897482ea3c0b4d4fd8a11da": {
      "model_module": "@jupyter-widgets/base",
      "model_module_version": "1.2.0",
      "model_name": "LayoutModel",
      "state": {}
     },
     "4bf76bd6c730476ea534537e2efdcf6b": {
      "model_module": "@jupyter-widgets/controls",
      "model_module_version": "1.5.0",
      "model_name": "FloatSliderModel",
      "state": {
       "description": "Ball size",
       "layout": "IPY_MODEL_ed332d17cab74d17a44a082dadf368af",
       "max": 1.5,
       "step": 0.01,
       "style": "IPY_MODEL_0d1ee27ebed5412d875e3f84a9b576a9",
       "value": 0.5
      }
     },
     "4c1810c202504025a65c874d2031c83f": {
      "model_module": "@jupyter-widgets/base",
      "model_module_version": "1.2.0",
      "model_name": "LayoutModel",
      "state": {}
     },
     "4cb9323226a74a049e94c940fe5642d3": {
      "model_module": "@jupyter-widgets/base",
      "model_module_version": "1.2.0",
      "model_name": "LayoutModel",
      "state": {}
     },
     "4ce7e1f83789417f97484f2b182b39d6": {
      "model_module": "@jupyter-widgets/base",
      "model_module_version": "1.2.0",
      "model_name": "LayoutModel",
      "state": {}
     },
     "4cfcc6026ba1481a822ba1f058f15dbb": {
      "model_module": "@jupyter-widgets/controls",
      "model_module_version": "1.5.0",
      "model_name": "IntSliderModel",
      "state": {
       "layout": "IPY_MODEL_f821e5e3733a4cad9bc3e6b949d47469",
       "max": 0,
       "style": "IPY_MODEL_cbf35bf16aec47b1bd5fcc85a60ea3f1"
      }
     },
     "4d4f1e6264dd4e38ab513681883239bd": {
      "model_module": "@jupyter-widgets/controls",
      "model_module_version": "1.5.0",
      "model_name": "LinkModel",
      "state": {
       "source": [
        "IPY_MODEL_dd4481df830c41dc84b2e2df6d39788c",
        "value"
       ],
       "target": [
        "IPY_MODEL_7a1982e7c2f9478897ea075ce5dc6142",
        "frame"
       ]
      }
     },
     "4dd88b9cae97464c9286dee139a37e6c": {
      "model_module": "@jupyter-widgets/controls",
      "model_module_version": "1.5.0",
      "model_name": "HBoxModel",
      "state": {
       "children": [
        "IPY_MODEL_42cd70105cdd470b9733b6fed9c39af6",
        "IPY_MODEL_8699dfd7749741699f043cba127936f1"
       ],
       "layout": "IPY_MODEL_fb96973c45e743b5afcb98ea529f6257"
      }
     },
     "4e1503550d054ea1acda20052311aa72": {
      "model_module": "@jupyter-widgets/controls",
      "model_module_version": "1.5.0",
      "model_name": "PlayModel",
      "state": {
       "layout": "IPY_MODEL_e7c8303c44114a0990c8b0e7d9d980cb",
       "max": 0,
       "style": "IPY_MODEL_6877a17c605240079a0f09a5a95e4159"
      }
     },
     "4e1f6ccec9da43d1928b0c47e722f830": {
      "model_module": "@jupyter-widgets/controls",
      "model_module_version": "1.5.0",
      "model_name": "DescriptionStyleModel",
      "state": {
       "description_width": ""
      }
     },
     "4e2cf1df80534cd19c1dd2731e77fadb": {
      "model_module": "@jupyter-widgets/controls",
      "model_module_version": "1.5.0",
      "model_name": "DescriptionStyleModel",
      "state": {
       "description_width": ""
      }
     },
     "4eb66ea54f89427cb58fd1a7a5e35cc3": {
      "model_module": "@jupyter-widgets/controls",
      "model_module_version": "1.5.0",
      "model_name": "IntSliderModel",
      "state": {
       "layout": "IPY_MODEL_f515e204b553412ca76aaa5cc2a76425",
       "max": 0,
       "style": "IPY_MODEL_8c12a2630d53450abb29ba458049c3a3"
      }
     },
     "4ef8d41a8e704b68ba8180eae9a17259": {
      "model_module": "@jupyter-widgets/base",
      "model_module_version": "1.2.0",
      "model_name": "LayoutModel",
      "state": {}
     },
     "4f6054a2610140399c4643172c687493": {
      "model_module": "@jupyter-widgets/controls",
      "model_module_version": "1.5.0",
      "model_name": "DescriptionStyleModel",
      "state": {
       "description_width": ""
      }
     },
     "4f6bf4197e7b477e9e3c933bdb01f2a3": {
      "model_module": "@jupyter-widgets/controls",
      "model_module_version": "1.5.0",
      "model_name": "HBoxModel",
      "state": {
       "children": [
        "IPY_MODEL_336294c17bcd498395cd6a9de259f16a",
        "IPY_MODEL_4cfcc6026ba1481a822ba1f058f15dbb"
       ],
       "layout": "IPY_MODEL_a1151c605033479e94d3ce7d0275a5fc"
      }
     },
     "4f7452a8a07f4718b05a69b766123035": {
      "model_module": "@jupyter-widgets/controls",
      "model_module_version": "1.5.0",
      "model_name": "ButtonStyleModel",
      "state": {}
     },
     "4f767d4c2d174f988ab32d7ae6b52c44": {
      "model_module": "@jupyter-widgets/controls",
      "model_module_version": "1.5.0",
      "model_name": "CheckboxModel",
      "state": {
       "description": "Show force",
       "disabled": false,
       "layout": "IPY_MODEL_df3cb8cdb13145be96b390d2ff42ac35",
       "style": "IPY_MODEL_d39f7a9d1e724e6fb61d326b594010da",
       "value": false
      }
     },
     "4fe6bf576a4a4a258800ecb643eab5a9": {
      "model_module": "@jupyter-widgets/base",
      "model_module_version": "1.2.0",
      "model_name": "LayoutModel",
      "state": {}
     },
     "50be8ebc821542acbddaf3b8cc105651": {
      "model_module": "@jupyter-widgets/controls",
      "model_module_version": "1.5.0",
      "model_name": "ButtonModel",
      "state": {
       "description": "Download image",
       "layout": "IPY_MODEL_3b8eee6abeb44b75818e9fe1329ca5b9",
       "style": "IPY_MODEL_eb0abcdd27ab4cc29cacefd7d906a816",
       "tooltip": "Download current frame to your local PC"
      }
     },
     "52f525d31c474687af77abe07a4741c1": {
      "model_module": "@jupyter-widgets/controls",
      "model_module_version": "1.5.0",
      "model_name": "SliderStyleModel",
      "state": {
       "description_width": ""
      }
     },
     "53960793b6e341528497805f2a30ffbc": {
      "model_module": "@jupyter-widgets/output",
      "model_module_version": "1.0.0",
      "model_name": "OutputModel",
      "state": {
       "layout": "IPY_MODEL_6bd38b1f16a84a92abfebf4a7b6892c6"
      }
     },
     "53db911ccc864b1a87cfb3cb4eca0ed5": {
      "model_module": "@jupyter-widgets/controls",
      "model_module_version": "1.5.0",
      "model_name": "CheckboxModel",
      "state": {
       "description": "Show force",
       "disabled": false,
       "layout": "IPY_MODEL_71fcdc6bb01c43a49eee8e08fd996568",
       "style": "IPY_MODEL_0a7e039760424778afa2f1b8a0b7ea57",
       "value": false
      }
     },
     "5403320150f1465bae2d154c985484de": {
      "model_module": "@jupyter-widgets/controls",
      "model_module_version": "1.5.0",
      "model_name": "DescriptionStyleModel",
      "state": {
       "description_width": ""
      }
     },
     "54b879535a864ed390971b5211244289": {
      "model_module": "@jupyter-widgets/base",
      "model_module_version": "1.2.0",
      "model_name": "LayoutModel",
      "state": {}
     },
     "552e32ef5cf54f71b38425de6196bb71": {
      "model_module": "@jupyter-widgets/controls",
      "model_module_version": "1.5.0",
      "model_name": "PlayModel",
      "state": {
       "layout": "IPY_MODEL_482df7195dba403caa32c26ea31ddc7a",
       "max": 0,
       "style": "IPY_MODEL_fb347fe74ada48e6851ff0862a066b25"
      }
     },
     "5599a5f5dd7c4036814d330f410b115d": {
      "model_module": "@jupyter-widgets/controls",
      "model_module_version": "1.5.0",
      "model_name": "ButtonModel",
      "state": {
       "icon": "compress",
       "layout": "IPY_MODEL_47a58133bca246a1a7ec2933363927e5",
       "style": "IPY_MODEL_fc21250b7abb43bf8572997deb8351cd"
      }
     },
     "569f031c666e422f9bd3a5acdd53adb2": {
      "model_module": "@jupyter-widgets/controls",
      "model_module_version": "1.5.0",
      "model_name": "HBoxModel",
      "state": {
       "children": [
        "IPY_MODEL_db406914a6874d819b58b7a20803064e",
        "IPY_MODEL_bc021500de3447e98ab425108c5b978f"
       ],
       "layout": "IPY_MODEL_3eb3a076b1ec43ec9c20ecb057680777"
      }
     },
     "57bd448f2a244a9b83cceb75d31c8bfa": {
      "model_module": "@jupyter-widgets/base",
      "model_module_version": "1.2.0",
      "model_name": "LayoutModel",
      "state": {}
     },
     "57cecf0e1330460e9e88f7997c9fe913": {
      "model_module": "@jupyter-widgets/controls",
      "model_module_version": "1.5.0",
      "model_name": "ButtonStyleModel",
      "state": {}
     },
     "57e90f67bbfc4e61b72d53649e6f3812": {
      "model_module": "@jupyter-widgets/controls",
      "model_module_version": "1.5.0",
      "model_name": "CheckboxModel",
      "state": {
       "description": "Show charge",
       "disabled": false,
       "layout": "IPY_MODEL_b94a62128d1b4e26984615bbf13e5a6b",
       "style": "IPY_MODEL_4895c0942247463fa73f0feffe1da9b7",
       "value": false
      }
     },
     "580eb73201af4fcc89ea48f8c0370767": {
      "model_module": "@jupyter-widgets/base",
      "model_module_version": "1.2.0",
      "model_name": "LayoutModel",
      "state": {}
     },
     "583ea3ce2bb94ef890e5687335ce82a9": {
      "model_module": "@jupyter-widgets/controls",
      "model_module_version": "1.5.0",
      "model_name": "FloatSliderModel",
      "state": {
       "description": "Charge scale",
       "layout": "IPY_MODEL_035578d0e3914cedb0e81fe1f8b6e33a",
       "step": 0.1,
       "style": "IPY_MODEL_7ebf891d3cf2414f8446e4f33c94df42",
       "value": 1
      }
     },
     "58ce4a6ba651497d8545c70888c11ead": {
      "model_module": "@jupyter-widgets/base",
      "model_module_version": "1.2.0",
      "model_name": "LayoutModel",
      "state": {}
     },
     "58d00c0c594847b589b45d7eab6f04ec": {
      "model_module": "@jupyter-widgets/base",
      "model_module_version": "1.2.0",
      "model_name": "LayoutModel",
      "state": {}
     },
     "59a36377b0ed43cea8e5313d03bbd5ee": {
      "model_module": "@jupyter-widgets/base",
      "model_module_version": "1.2.0",
      "model_name": "LayoutModel",
      "state": {
       "width": "34px"
      }
     },
     "59f1b2b803e447a9ac5456715e630544": {
      "model_module": "@jupyter-widgets/base",
      "model_module_version": "1.2.0",
      "model_name": "LayoutModel",
      "state": {}
     },
     "5a14778212c94bf7a36ca8cfc1cb3ab0": {
      "model_module": "@jupyter-widgets/base",
      "model_module_version": "1.2.0",
      "model_name": "LayoutModel",
      "state": {}
     },
     "5a7da5e3058849ecad2c3e78508241db": {
      "model_module": "@jupyter-widgets/controls",
      "model_module_version": "1.5.0",
      "model_name": "DescriptionStyleModel",
      "state": {
       "description_width": ""
      }
     },
     "5a87744ed937465090417b6a27e7b786": {
      "model_module": "@jupyter-widgets/controls",
      "model_module_version": "1.5.0",
      "model_name": "HBoxModel",
      "state": {
       "children": [
        "IPY_MODEL_a4297471501a4bb98f0ae77df0f000b8",
        "IPY_MODEL_990bb94419bd469d9362568120b6ead9"
       ],
       "layout": "IPY_MODEL_7320daf2e5bc4bbf8b18523df48e8ce6"
      }
     },
     "5a90114afb92402f960cb075b83c1ed2": {
      "model_module": "@jupyter-widgets/base",
      "model_module_version": "1.2.0",
      "model_name": "LayoutModel",
      "state": {}
     },
     "5aa0d39f96a5464d9dcfb4ffcb693af5": {
      "model_module": "@jupyter-widgets/controls",
      "model_module_version": "1.5.0",
      "model_name": "ButtonModel",
      "state": {
       "description": "Save image",
       "layout": "IPY_MODEL_bdc0f6f411ba4949b2829003767b5cdf",
       "style": "IPY_MODEL_69f1d445af914dc58a19a5f8d2909bd0",
       "tooltip": "Save current frame to file.\nCurrently .png and .html are supported.\nIt takes a bit time, please be patient."
      }
     },
     "5b5c42d3a66e4b89a62d7fed377fedc4": {
      "model_module": "@jupyter-widgets/base",
      "model_module_version": "1.2.0",
      "model_name": "LayoutModel",
      "state": {}
     },
     "5b6bbc92e1d3415d8099065bbb4d958f": {
      "model_module": "@jupyter-widgets/controls",
      "model_module_version": "1.5.0",
      "model_name": "SliderStyleModel",
      "state": {
       "description_width": ""
      }
     },
     "5bd0189f966345df97e497459967a03f": {
      "model_module": "@jupyter-widgets/controls",
      "model_module_version": "1.5.0",
      "model_name": "SliderStyleModel",
      "state": {
       "description_width": ""
      }
     },
     "5bda2688915541c2abdaa39c22b648cb": {
      "model_module": "@jupyter-widgets/controls",
      "model_module_version": "1.5.0",
      "model_name": "SliderStyleModel",
      "state": {
       "description_width": ""
      }
     },
     "5c514b6f5e554274ab1260252e1e3d3e": {
      "model_module": "@jupyter-widgets/controls",
      "model_module_version": "1.5.0",
      "model_name": "HBoxModel",
      "state": {
       "children": [
        "IPY_MODEL_dd1284db5c05452892f10e49c702fbc6",
        "IPY_MODEL_8e0a9049078c4cbdb3c0c779b4fb7807"
       ],
       "layout": "IPY_MODEL_0800672fb20a4db382d64e088738613a"
      }
     },
     "5dffa6f3fff148d49c0445758fd204f7": {
      "model_module": "@jupyter-widgets/controls",
      "model_module_version": "1.5.0",
      "model_name": "ButtonStyleModel",
      "state": {}
     },
     "5e0e1e5cc9014a088320704b2f159bf6": {
      "model_module": "@jupyter-widgets/controls",
      "model_module_version": "1.5.0",
      "model_name": "LinkModel",
      "state": {
       "source": [
        "IPY_MODEL_b8a29d14045749e681188a1bd0f2b819",
        "max"
       ],
       "target": [
        "IPY_MODEL_326cd65913a4430c97e19771c6879c1c",
        "max_frame"
       ]
      }
     },
     "5f211057faae4ee69a7c0464934bc67a": {
      "model_module": "@jupyter-widgets/controls",
      "model_module_version": "1.5.0",
      "model_name": "SliderStyleModel",
      "state": {
       "description_width": ""
      }
     },
     "6121400bc8554947bb7566a867f7f78a": {
      "model_module": "@jupyter-widgets/controls",
      "model_module_version": "1.5.0",
      "model_name": "FloatSliderModel",
      "state": {
       "description": "Charge scale",
       "layout": "IPY_MODEL_9a0f3b3bbb9f495caed2019252b7d660",
       "step": 0.1,
       "style": "IPY_MODEL_eae7731e7b1048f3b4e30ef53404c094",
       "value": 1
      }
     },
     "6165ddf2707d44388d0e537c8f21ab5d": {
      "model_module": "@jupyter-widgets/controls",
      "model_module_version": "1.5.0",
      "model_name": "ImageModel",
      "state": {
       "layout": "IPY_MODEL_a249d0f6422240c0a90203c25bd9e184",
       "width": "900.0"
      }
     },
     "61bb48e38ed1495ea80ee28db296dba8": {
      "model_module": "@jupyter-widgets/controls",
      "model_module_version": "1.5.0",
      "model_name": "VBoxModel",
      "state": {
       "children": [
        "IPY_MODEL_380dd0ebe72a4030a25b4bb31a64936f",
        "IPY_MODEL_cc690ba1bcd84743b6a9b1ef63dc3344",
        "IPY_MODEL_f896d93ff7e9459890173b7e0c5a3057",
        "IPY_MODEL_347263ac18574f91b67cc81450f0310d",
        "IPY_MODEL_5a87744ed937465090417b6a27e7b786",
        "IPY_MODEL_2de9571a47ed4dad800853889ef7ca46",
        "IPY_MODEL_642cb7c0308d4221bb4eec483de48671",
        "IPY_MODEL_cfa61d56f67c4433904f8d190820edf2",
        "IPY_MODEL_7ac9065eeb974daea545c06b777d3653",
        "IPY_MODEL_ce5bb5e6c7294afebdd924e59f55a711"
       ],
       "layout": "IPY_MODEL_54b879535a864ed390971b5211244289"
      }
     },
     "61c28278125444ab9f467abc31dd57f6": {
      "model_module": "@jupyter-widgets/controls",
      "model_module_version": "1.5.0",
      "model_name": "FloatSliderModel",
      "state": {
       "description": "Force scale",
       "layout": "IPY_MODEL_4ce7e1f83789417f97484f2b182b39d6",
       "step": 0.1,
       "style": "IPY_MODEL_faef9f55ba26423192e58be40f891a16",
       "value": 0.5
      }
     },
     "61c5f5ee3b1f47319afc80a6731cbd79": {
      "model_module": "@jupyter-widgets/controls",
      "model_module_version": "1.5.0",
      "model_name": "SliderStyleModel",
      "state": {
       "description_width": ""
      }
     },
     "62a34f7bde54423792d786e3e39ee281": {
      "model_module": "@jupyter-widgets/controls",
      "model_module_version": "1.5.0",
      "model_name": "SliderStyleModel",
      "state": {
       "description_width": ""
      }
     },
     "62b17b8c212e477eaff0610296663060": {
      "model_module": "@jupyter-widgets/base",
      "model_module_version": "1.2.0",
      "model_name": "LayoutModel",
      "state": {}
     },
     "62d888c965e2460ab3dfae57d27eebfe": {
      "model_module": "@jupyter-widgets/base",
      "model_module_version": "1.2.0",
      "model_name": "LayoutModel",
      "state": {}
     },
     "62dc229484b2408ca9a197bdbf4dd187": {
      "model_module": "@jupyter-widgets/base",
      "model_module_version": "1.2.0",
      "model_name": "LayoutModel",
      "state": {}
     },
     "642cb7c0308d4221bb4eec483de48671": {
      "model_module": "@jupyter-widgets/controls",
      "model_module_version": "1.5.0",
      "model_name": "FloatSliderModel",
      "state": {
       "description": "Force scale",
       "layout": "IPY_MODEL_a1f4a815f51e4154a66e7cb2f2436627",
       "step": 0.1,
       "style": "IPY_MODEL_81cbb9a98d554b41ac399048b436aa06",
       "value": 0.5
      }
     },
     "648335ba5fe54e6eafef2a3fce4ce562": {
      "model_module": "@jupyter-widgets/controls",
      "model_module_version": "1.5.0",
      "model_name": "LinkModel",
      "state": {
       "source": [
        "IPY_MODEL_dd4481df830c41dc84b2e2df6d39788c",
        "value"
       ],
       "target": [
        "IPY_MODEL_02cba04226c14200a80c699900daa961",
        "value"
       ]
      }
     },
     "64bf00aa0b9f460f82a8421f5e81d43d": {
      "model_module": "@jupyter-widgets/base",
      "model_module_version": "1.2.0",
      "model_name": "LayoutModel",
      "state": {}
     },
     "66356a6ebeb14445a97a1081d1e296ab": {
      "model_module": "@jupyter-widgets/controls",
      "model_module_version": "1.5.0",
      "model_name": "DropdownModel",
      "state": {
       "_options_labels": [
        " ",
        "picking",
        "random",
        "uniform",
        "atomindex",
        "residueindex",
        "chainindex",
        "modelindex",
        "sstruc",
        "element",
        "resname",
        "bfactor",
        "hydrophobicity",
        "value",
        "volume",
        "occupancy"
       ],
       "description": "Color scheme",
       "index": 9,
       "layout": "IPY_MODEL_04b127738747403cb8b3828ba466e810",
       "style": "IPY_MODEL_4f6054a2610140399c4643172c687493"
      }
     },
     "664502d0a012434ebd8f87dcfd781455": {
      "model_module": "@jupyter-widgets/controls",
      "model_module_version": "1.5.0",
      "model_name": "FloatSliderModel",
      "state": {
       "description": "Ball size",
       "layout": "IPY_MODEL_e2773ef897b647cca41b009f6214c286",
       "max": 1.5,
       "step": 0.01,
       "style": "IPY_MODEL_5f211057faae4ee69a7c0464934bc67a",
       "value": 0.5
      }
     },
     "6671b4643e2f4482aa7b2d41a6e427f1": {
      "model_module": "@jupyter-widgets/controls",
      "model_module_version": "1.5.0",
      "model_name": "LinkModel",
      "state": {
       "source": [
        "IPY_MODEL_ebd38e3dda3e4efd913b414ab8adf6f2",
        "max"
       ],
       "target": [
        "IPY_MODEL_0a9eab27b04b43d8ae611e0af5ea9d5c",
        "max_frame"
       ]
      }
     },
     "66c5bef6cd6f459692512fc9e64ce1cb": {
      "model_module": "@jupyter-widgets/base",
      "model_module_version": "1.2.0",
      "model_name": "LayoutModel",
      "state": {
       "border": "0px solid black"
      }
     },
     "66e67e067af24cf4be7be1b86411486c": {
      "model_module": "@jupyter-widgets/controls",
      "model_module_version": "1.5.0",
      "model_name": "SliderStyleModel",
      "state": {
       "description_width": ""
      }
     },
     "679e95cfd40248d4a32aa149c43f41b4": {
      "model_module": "@jupyter-widgets/controls",
      "model_module_version": "1.5.0",
      "model_name": "ImageModel",
      "state": {
       "layout": "IPY_MODEL_62d888c965e2460ab3dfae57d27eebfe",
       "width": "900.0"
      }
     },
     "67b7ee79215847b1a1f1650c1dbe5cca": {
      "model_module": "@jupyter-widgets/base",
      "model_module_version": "1.2.0",
      "model_name": "LayoutModel",
      "state": {}
     },
     "6847d0b6b7c844b2870c812af7dac336": {
      "model_module": "@jupyter-widgets/base",
      "model_module_version": "1.2.0",
      "model_name": "LayoutModel",
      "state": {}
     },
     "6877a17c605240079a0f09a5a95e4159": {
      "model_module": "@jupyter-widgets/controls",
      "model_module_version": "1.5.0",
      "model_name": "DescriptionStyleModel",
      "state": {
       "description_width": ""
      }
     },
     "68924b6dd9094feb8477743cf05d5833": {
      "model_module": "@jupyter-widgets/controls",
      "model_module_version": "1.5.0",
      "model_name": "SliderStyleModel",
      "state": {
       "description_width": ""
      }
     },
     "6932c1b77f90483483c6bbd886892667": {
      "model_module": "@jupyter-widgets/controls",
      "model_module_version": "1.5.0",
      "model_name": "VBoxModel",
      "state": {
       "children": [
        "IPY_MODEL_f0c8f68363414ab891f02efd9d5fd94d",
        "IPY_MODEL_bd3410b5b74345bc9bf95f92bd57a4fd",
        "IPY_MODEL_35e35b3708804f158b99dc364dbdde5a",
        "IPY_MODEL_2c4abf6fc9c642359cb2389e1520f062",
        "IPY_MODEL_b7c005d5f71b4d9381316392231c556a",
        "IPY_MODEL_a94a52b69f8046eea25ba4c391b592b6",
        "IPY_MODEL_8afc8e17982349699278f5280981ad55",
        "IPY_MODEL_f991c48f8eac40958188bf9b3355f101",
        "IPY_MODEL_d662d02803da446285d7c4f88c818a21",
        "IPY_MODEL_1e65dfdd39fa4b169cb91265e09cb98c"
       ],
       "layout": "IPY_MODEL_c37669a90da548388c52ff95337ab667"
      }
     },
     "6980abe6c89c4f0684eb69ad996e3405": {
      "model_module": "@jupyter-widgets/controls",
      "model_module_version": "1.5.0",
      "model_name": "ButtonModel",
      "state": {
       "description": "Download image",
       "layout": "IPY_MODEL_e6945772733240d895495a0a537933eb",
       "style": "IPY_MODEL_5dffa6f3fff148d49c0445758fd204f7",
       "tooltip": "Download current frame to your local PC"
      }
     },
     "699ceb61c6bd4eaabfd27680c2d8f558": {
      "model_module": "@jupyter-widgets/controls",
      "model_module_version": "1.5.0",
      "model_name": "LinkModel",
      "state": {
       "source": [
        "IPY_MODEL_8c83f5fe54d2451e8166c2c61086d7b8",
        "value"
       ],
       "target": [
        "IPY_MODEL_bcaba362b7334b7d9b9317d3d091f10d",
        "frame"
       ]
      }
     },
     "69ca53e1f1f44d749a06c1480d15f6e3": {
      "model_module": "@jupyter-widgets/base",
      "model_module_version": "1.2.0",
      "model_name": "LayoutModel",
      "state": {}
     },
     "69f1d445af914dc58a19a5f8d2909bd0": {
      "model_module": "@jupyter-widgets/controls",
      "model_module_version": "1.5.0",
      "model_name": "ButtonStyleModel",
      "state": {}
     },
     "69fcabf26157485cac9c5a189e897e7e": {
      "model_module": "@jupyter-widgets/base",
      "model_module_version": "1.2.0",
      "model_name": "LayoutModel",
      "state": {}
     },
     "6a55bfd4b2b34b069352b07189a34f54": {
      "model_module": "@jupyter-widgets/controls",
      "model_module_version": "1.5.0",
      "model_name": "LinkModel",
      "state": {
       "source": [
        "IPY_MODEL_4cfcc6026ba1481a822ba1f058f15dbb",
        "max"
       ],
       "target": [
        "IPY_MODEL_b8a92e06c4bd439bbc95e73e5196a04a",
        "max_frame"
       ]
      }
     },
     "6a89412b03d34b91b537c5a2e85d4783": {
      "model_module": "@jupyter-widgets/controls",
      "model_module_version": "1.5.0",
      "model_name": "FloatSliderModel",
      "state": {
       "description": "Charge scale",
       "layout": "IPY_MODEL_172ba04d6d4f499fa56fb27492d57e73",
       "step": 0.1,
       "style": "IPY_MODEL_a0bb401211084dd1912eae370b655a4e",
       "value": 1
      }
     },
     "6b25f54103d8479d80a2b57f8875a08e": {
      "model_module": "@jupyter-widgets/base",
      "model_module_version": "1.2.0",
      "model_name": "LayoutModel",
      "state": {}
     },
     "6b6e44a79bed41f7ba13b8d9d19a5e30": {
      "model_module": "@jupyter-widgets/base",
      "model_module_version": "1.2.0",
      "model_name": "LayoutModel",
      "state": {}
     },
     "6bd38b1f16a84a92abfebf4a7b6892c6": {
      "model_module": "@jupyter-widgets/base",
      "model_module_version": "1.2.0",
      "model_name": "LayoutModel",
      "state": {
       "border": "0px solid black"
      }
     },
     "6be67a412b3f4402a5548c00dd4fd2f1": {
      "model_module": "@jupyter-widgets/controls",
      "model_module_version": "1.5.0",
      "model_name": "HBoxModel",
      "state": {
       "children": [
        "IPY_MODEL_d0db1731e3ab4a15a8bfda2d2b76db9a",
        "IPY_MODEL_ae2a9cddeb3d4dc297baf61419d05256"
       ],
       "layout": "IPY_MODEL_58d00c0c594847b589b45d7eab6f04ec"
      }
     },
     "6c3b684fae704d838b55566f1078640f": {
      "model_module": "@jupyter-widgets/controls",
      "model_module_version": "1.5.0",
      "model_name": "ButtonStyleModel",
      "state": {}
     },
     "6c4a6cd672b143558396bcc9f1663cf6": {
      "model_module": "@jupyter-widgets/controls",
      "model_module_version": "1.5.0",
      "model_name": "ButtonStyleModel",
      "state": {}
     },
     "6cc05c8625c24b7db1b0e4823ccaf99e": {
      "model_module": "@jupyter-widgets/controls",
      "model_module_version": "1.5.0",
      "model_name": "LinkModel",
      "state": {
       "source": [
        "IPY_MODEL_336294c17bcd498395cd6a9de259f16a",
        "max"
       ],
       "target": [
        "IPY_MODEL_b8a92e06c4bd439bbc95e73e5196a04a",
        "max_frame"
       ]
      }
     },
     "6d23573c8faa4c8fa9b8fcbdceebf3b2": {
      "model_module": "@jupyter-widgets/controls",
      "model_module_version": "1.5.0",
      "model_name": "ButtonStyleModel",
      "state": {}
     },
     "6d89966de5024e9e8ceed3faa0cf6450": {
      "model_module": "@jupyter-widgets/controls",
      "model_module_version": "1.5.0",
      "model_name": "ButtonStyleModel",
      "state": {}
     },
     "6db49c0a6b78467c87dc63f9cae5b277": {
      "model_module": "@jupyter-widgets/base",
      "model_module_version": "1.2.0",
      "model_name": "LayoutModel",
      "state": {}
     },
     "6e128079f39b473f92bfc223ccc96d1c": {
      "model_module": "@jupyter-widgets/controls",
      "model_module_version": "1.5.0",
      "model_name": "HBoxModel",
      "state": {
       "children": [
        "IPY_MODEL_be02670abc494bd0be84ea3b0c772d59",
        "IPY_MODEL_dc6a5fe045524467b82b8d4bbee603b9"
       ],
       "layout": "IPY_MODEL_328b1a4f6979485490da3cecb55ed6f0"
      }
     },
     "6e2b7de2b37d41dfa1f2d5bddfb43a6d": {
      "model_module": "@jupyter-widgets/controls",
      "model_module_version": "1.5.0",
      "model_name": "ButtonStyleModel",
      "state": {}
     },
     "6ee2967a932d4e8eb8a4a59a4f117f1c": {
      "model_module": "@jupyter-widgets/base",
      "model_module_version": "1.2.0",
      "model_name": "LayoutModel",
      "state": {}
     },
     "6f276eed29d24887b4df237cd4f793df": {
      "model_module": "@jupyter-widgets/controls",
      "model_module_version": "1.5.0",
      "model_name": "ButtonStyleModel",
      "state": {}
     },
     "6f62c8d14ad34aba8c0ad11852a6caae": {
      "model_module": "@jupyter-widgets/controls",
      "model_module_version": "1.5.0",
      "model_name": "HBoxModel",
      "state": {
       "children": [
        "IPY_MODEL_4e1503550d054ea1acda20052311aa72",
        "IPY_MODEL_c5e3322032834541ada4eaa08d686de3"
       ],
       "layout": "IPY_MODEL_8275f32816214f9f83fdd13fa818791c"
      }
     },
     "71fcdc6bb01c43a49eee8e08fd996568": {
      "model_module": "@jupyter-widgets/base",
      "model_module_version": "1.2.0",
      "model_name": "LayoutModel",
      "state": {}
     },
     "72f6c979275446d3931a56ccc6d6ba9d": {
      "model_module": "@jupyter-widgets/controls",
      "model_module_version": "1.5.0",
      "model_name": "TextModel",
      "state": {
       "description": "Filename: ",
       "layout": "IPY_MODEL_03be703191294be89e1dfcada2c4c055",
       "style": "IPY_MODEL_d5975694928b4f6892022160ce350e6f",
       "value": "screenshot.png"
      }
     },
     "7320daf2e5bc4bbf8b18523df48e8ce6": {
      "model_module": "@jupyter-widgets/base",
      "model_module_version": "1.2.0",
      "model_name": "LayoutModel",
      "state": {}
     },
     "7394c7a8f2324f2e96b073b48e0766cf": {
      "model_module": "@jupyter-widgets/base",
      "model_module_version": "1.2.0",
      "model_name": "LayoutModel",
      "state": {}
     },
     "73aef9d544f748c9a5ceba9af1c0a192": {
      "model_module": "@jupyter-widgets/base",
      "model_module_version": "1.2.0",
      "model_name": "LayoutModel",
      "state": {}
     },
     "7430e416004140509ccb2f5ecfd429ac": {
      "model_module": "@jupyter-widgets/output",
      "model_module_version": "1.0.0",
      "model_name": "OutputModel",
      "state": {
       "layout": "IPY_MODEL_3bcb12f51903488b969476b0502aa2b3"
      }
     },
     "7485b4968ed743378c64861862e875ea": {
      "model_module": "@jupyter-widgets/base",
      "model_module_version": "1.2.0",
      "model_name": "LayoutModel",
      "state": {}
     },
     "759ebe2d52af41fb9d42275cd6d57067": {
      "model_module": "@jupyter-widgets/base",
      "model_module_version": "1.2.0",
      "model_name": "LayoutModel",
      "state": {}
     },
     "75de22829c7c4f2aa5c63c8478b4aa30": {
      "model_module": "@jupyter-widgets/controls",
      "model_module_version": "1.5.0",
      "model_name": "DescriptionStyleModel",
      "state": {
       "description_width": ""
      }
     },
     "75f5e7ea898d47da80964251d22ac68a": {
      "model_module": "@jupyter-widgets/controls",
      "model_module_version": "1.5.0",
      "model_name": "HBoxModel",
      "state": {
       "children": [
        "IPY_MODEL_bcaba362b7334b7d9b9317d3d091f10d",
        "IPY_MODEL_1cc6de38bee64ba19056f8ba77a357ce"
       ],
       "layout": "IPY_MODEL_0fa41f3620954191824045021e29648b"
      }
     },
     "7636a0e4698c49c78c0b1277e75d5ce7": {
      "model_module": "@jupyter-widgets/controls",
      "model_module_version": "1.5.0",
      "model_name": "ButtonModel",
      "state": {
       "description": "Save image",
       "layout": "IPY_MODEL_855ef361db384ffcb28b5b0dbe1b8bee",
       "style": "IPY_MODEL_0a2d17e2482e46a188ff59125799446f",
       "tooltip": "Save current frame to file.\nCurrently .png and .html are supported.\nIt takes a bit time, please be patient."
      }
     },
     "764c54e2c884466faa762364f7e5f413": {
      "model_module": "@jupyter-widgets/controls",
      "model_module_version": "1.5.0",
      "model_name": "ButtonModel",
      "state": {
       "description": "Download image",
       "layout": "IPY_MODEL_c6747a7132364c58987090eac152fc89",
       "style": "IPY_MODEL_79e3b3985ec94af3b6ca5c8a8b81288d",
       "tooltip": "Download current frame to your local PC"
      }
     },
     "7680afb110fd42999ae1d8b5baa88de7": {
      "model_module": "@jupyter-widgets/controls",
      "model_module_version": "1.5.0",
      "model_name": "ButtonStyleModel",
      "state": {}
     },
     "76bdb063050f44a6974d91a0547cbd47": {
      "model_module": "@jupyter-widgets/controls",
      "model_module_version": "1.5.0",
      "model_name": "FloatSliderModel",
      "state": {
       "description": "Ball size",
       "layout": "IPY_MODEL_580eb73201af4fcc89ea48f8c0370767",
       "max": 1.5,
       "step": 0.01,
       "style": "IPY_MODEL_452ed57c558d4c349afaf6959b0307c6",
       "value": 0.5
      }
     },
     "7701c2cd9220499088d0b925307956b4": {
      "model_module": "@jupyter-widgets/base",
      "model_module_version": "1.2.0",
      "model_name": "LayoutModel",
      "state": {
       "width": "34px"
      }
     },
     "77739f12a383437a8585871a9d45e37b": {
      "model_module": "@jupyter-widgets/controls",
      "model_module_version": "1.5.0",
      "model_name": "DescriptionStyleModel",
      "state": {
       "description_width": ""
      }
     },
     "78c4824a9d9146119c6bb5d75add3ecc": {
      "model_module": "@jupyter-widgets/controls",
      "model_module_version": "1.5.0",
      "model_name": "SliderStyleModel",
      "state": {
       "description_width": ""
      }
     },
     "79dc8c58b3c64b1e8b8e57fdb76f0c8b": {
      "model_module": "@jupyter-widgets/base",
      "model_module_version": "1.2.0",
      "model_name": "LayoutModel",
      "state": {}
     },
     "79e3b3985ec94af3b6ca5c8a8b81288d": {
      "model_module": "@jupyter-widgets/controls",
      "model_module_version": "1.5.0",
      "model_name": "ButtonStyleModel",
      "state": {}
     },
     "7a1982e7c2f9478897ea075ce5dc6142": {
      "model_module": "nglview-js-widgets",
      "model_module_version": "3.0.1",
      "model_name": "NGLModel",
      "state": {
       "_camera_orientation": [
        27.788018737863993,
        0,
        0,
        0,
        0,
        27.788018737863993,
        0,
        0,
        0,
        0,
        27.788018737863993,
        0,
        -7.712999947369099,
        -5.518999805673957,
        -5.063999816775322,
        1
       ],
       "_camera_str": "orthographic",
       "_gui_theme": null,
       "_ibtn_fullscreen": "IPY_MODEL_341f51ffc8b84a11aff5596cc4f243a2",
       "_igui": null,
       "_iplayer": "IPY_MODEL_009dfac0d3be4509937b846c44f00313",
       "_ngl_color_dict": {},
       "_ngl_coordinate_resource": {},
       "_ngl_full_stage_parameters": {
        "ambientColor": 14540253,
        "ambientIntensity": 0.2,
        "backgroundColor": "white",
        "cameraEyeSep": 0.3,
        "cameraFov": 40,
        "cameraType": "orthographic",
        "clipDist": 0,
        "clipFar": 100,
        "clipNear": 0,
        "fogFar": 100,
        "fogNear": 50,
        "hoverTimeout": 0,
        "impostor": true,
        "lightColor": 14540253,
        "lightIntensity": 1,
        "mousePreset": "default",
        "panSpeed": 1,
        "quality": "medium",
        "rotateSpeed": 2,
        "sampleLevel": 0,
        "tooltip": true,
        "workerDefault": true,
        "zoomSpeed": 1.2
       },
       "_ngl_msg_archive": [
        {
         "args": [
          {
           "binary": false,
           "data": "CRYST1    7.679   11.519   15.358  60.00  60.00  60.00 P 1\nMODEL     1\nATOM      1   Si MOL     1      -0.161   0.272   0.178  1.00  0.00          SI  \nATOM      2   Si MOL     1       1.717   0.675   1.026  1.00  0.00          SI  \nATOM      3   Si MOL     1       1.857   1.482   3.212  1.00  0.00          SI  \nATOM      4   Si MOL     1       3.755   1.888   4.297  1.00  0.00          SI  \nATOM      5   Si MOL     1       3.946   2.288   6.058  1.00  0.00          SI  \nATOM      6   Si MOL     1       5.611   3.088   7.008  1.00  0.00          SI  \nATOM      7   Si MOL     1       5.686   3.195   9.604  1.00  0.00          SI  \nATOM      8   Si MOL     1       7.878   4.588  10.367  1.00  0.00          SI  \nATOM      9   Si MOL     1       1.806   3.518   0.039  1.00  0.00          SI  \nATOM     10   Si MOL     1       3.877   4.346   0.584  1.00  0.00          SI  \nATOM     11   Si MOL     1       3.686   4.297   3.089  1.00  0.00          SI  \nATOM     12   Si MOL     1       5.663   5.458   3.745  1.00  0.00          SI  \nATOM     13   Si MOL     1       6.027   5.476   5.976  1.00  0.00          SI  \nATOM     14   Si MOL     1       7.527   6.715   7.220  1.00  0.00          SI  \nATOM     15   Si MOL     1       7.926   6.394   9.508  1.00  0.00          SI  \nATOM     16   Si MOL     1       9.923   7.811   9.895  1.00  0.00          SI  \nATOM     17   Si MOL     1       3.969   6.644   0.050  1.00  0.00          SI  \nATOM     18   Si MOL     1       5.548   7.766   0.651  1.00  0.00          SI  \nATOM     19   Si MOL     1       5.961   7.745   3.082  1.00  0.00          SI  \nATOM     20   Si MOL     1       7.845   9.068   3.957  1.00  0.00          SI  \nATOM     21   Si MOL     1       7.929   8.684   6.268  1.00  0.00          SI  \nATOM     22   Si MOL     1       9.657   9.881   7.084  1.00  0.00          SI  \nATOM     23   Si MOL     1      10.123  10.215   9.459  1.00  0.00          SI  \nATOM     24   Si MOL     1      11.243  10.933   9.919  1.00  0.00          SI  \nATOM     25   Si MOL     1       4.008  -0.020   0.083  1.00  0.00          SI  \nATOM     26   Si MOL     1       5.833   0.871   0.419  1.00  0.00          SI  \nATOM     27   Si MOL     1       5.836   1.066   3.275  1.00  0.00          SI  \nATOM     28   Si MOL     1       7.764   2.202   3.870  1.00  0.00          SI  \nATOM     29   Si MOL     1       7.601   2.185   6.384  1.00  0.00          SI  \nATOM     30   Si MOL     1       9.776   3.469   6.981  1.00  0.00          SI  \nATOM     31   Si MOL     1       9.572   3.475   9.608  1.00  0.00          SI  \nATOM     32   Si MOL     1      11.590   4.301  10.155  1.00  0.00          SI  \nATOM     33   Si MOL     1       5.678   3.215   0.037  1.00  0.00          SI  \nATOM     34   Si MOL     1       7.789   4.684   0.671  1.00  0.00          SI  \nATOM     35   Si MOL     1       7.608   4.362   3.377  1.00  0.00          SI  \nATOM     36   Si MOL     1       9.569   5.431   4.134  1.00  0.00          SI  \nATOM     37   Si MOL     1       9.409   5.384   6.402  1.00  0.00          SI  \nATOM     38   Si MOL     1      11.517   6.563   7.287  1.00  0.00          SI  \nATOM     39   Si MOL     1      11.328   6.812   9.298  1.00  0.00          SI  \nATOM     40   Si MOL     1      13.655   7.437  10.084  1.00  0.00          SI  \nATOM     41   Si MOL     1       7.750   6.814  -0.239  1.00  0.00          SI  \nATOM     42   Si MOL     1       9.511   8.333   0.654  1.00  0.00          SI  \nATOM     43   Si MOL     1       9.477   7.899   3.500  1.00  0.00          SI  \nATOM     44   Si MOL     1      11.408   8.974   4.067  1.00  0.00          SI  \nATOM     45   Si MOL     1      11.709   8.686   6.100  1.00  0.00          SI  \nATOM     46   Si MOL     1      13.350   9.738   7.174  1.00  0.00          SI  \nATOM     47   Si MOL     1      13.419  10.087   9.525  1.00  0.00          SI  \nATOM     48   Si MOL     1      15.587  11.058  10.191  1.00  0.00          SI  \nENDMDL\n",
           "type": "blob"
          }
         ],
         "kwargs": {
          "defaultRepresentation": false,
          "ext": "pdb"
         },
         "methodName": "loadFile",
         "reconstruc_color_scheme": false,
         "target": "Stage",
         "type": "call_method"
        },
        {
         "args": [
          "400px",
          "300px"
         ],
         "kwargs": {},
         "methodName": "setSize",
         "reconstruc_color_scheme": false,
         "target": "Widget",
         "type": "call_method"
        },
        {
         "args": [
          "unitcell"
         ],
         "component_index": 0,
         "kwargs": {
          "sele": "all"
         },
         "methodName": "addRepresentation",
         "reconstruc_color_scheme": false,
         "target": "compList",
         "type": "call_method"
        },
        {
         "args": [
          "spacefill"
         ],
         "component_index": 0,
         "kwargs": {
          "sele": "all"
         },
         "methodName": "addRepresentation",
         "reconstruc_color_scheme": false,
         "target": "compList",
         "type": "call_method"
        },
        {
         "args": [],
         "kwargs": {
          "cameraType": "orthographic"
         },
         "methodName": "setParameters",
         "reconstruc_color_scheme": false,
         "target": "Stage",
         "type": "call_method"
        },
        {
         "args": [
          {
           "clipDist": 0
          }
         ],
         "kwargs": {},
         "methodName": "setParameters",
         "reconstruc_color_scheme": false,
         "target": "Widget",
         "type": "call_method"
        },
        {
         "args": [
          "spacefill",
          0
         ],
         "kwargs": {
          "colorScale": "rainbow",
          "colorScheme": "element",
          "radiusScale": 0.5,
          "radiusType": "covalent"
         },
         "methodName": "updateRepresentationsByName",
         "reconstruc_color_scheme": false,
         "target": "Widget",
         "type": "call_method"
        },
        {
         "args": [
          "this._Q = [[-0.0, 0.7071067811865476, 0.7071067811865476], [0.816496580927726, -0.40824829046386285, 0.40824829046386296], [0.5773502691896257, 0.5773502691896258, -0.5773502691896257]]\n    var tooltip = document.createElement('div')\n    Object.assign(tooltip.style, {\n      display: 'none',\n      position: 'fixed',\n      zIndex: 10,\n      pointerEvents: 'none',\n      backgroundColor: 'rgba( 0, 0, 0, 0.6 )',\n      color: 'lightgrey',\n      padding: '8px',\n      fontFamily: 'sans-serif'\n    })\n    document.body.appendChild(tooltip)\n\n    var that = this\n    this.stage.mouseControls.remove('hoverPick')\n    this.stage.signals.hovered.add(function (pickingProxy) {\n      if (pickingProxy && (pickingProxy.atom || pickingProxy.bond)) {\n        var atom = pickingProxy.atom || pickingProxy.closestBondAtom\n        var mp = pickingProxy.mouse.position\n        //tooltip.innerText = atom.element + ' i=' + atom.index + ' (' + atom.x.toFixed(2) +  ', ' + atom.y.toFixed(2) +  ', ' + atom.z.toFixed(2) + ')'\n        //var pos = that._atoms_pos[atom.index]\n        var Q = that._Q\n        var pos_x = Q[0][0] * atom.x + Q[0][1] * atom.y + Q[0][2] * atom.z \n        var pos_y = Q[1][0] * atom.x + Q[1][1] * atom.y + Q[1][2] * atom.z\n        var pos_z = Q[2][0] * atom.x + Q[2][1] * atom.y + Q[2][2] * atom.z\n        tooltip.innerText = 'i=' + atom.index + ' ' + atom.element + ' (' + pos_x.toFixed(2) +  ', ' + pos_y.toFixed(2) +  ', ' + pos_z.toFixed(2) + ')'\n        tooltip.style.bottom = window.innerHeight - mp.y + 3 + 'px'\n        tooltip.style.left = mp.x + 3 + 'px'\n        tooltip.style.display = 'block'\n      } else {\n        tooltip.style.display = 'none'\n      }\n    })\n    "
         ],
         "kwargs": {},
         "methodName": "executeCode",
         "reconstruc_color_scheme": false,
         "target": "Widget",
         "type": "call_method"
        }
       ],
       "_ngl_original_stage_parameters": {
        "ambientColor": 14540253,
        "ambientIntensity": 0.2,
        "backgroundColor": "white",
        "cameraEyeSep": 0.3,
        "cameraFov": 40,
        "cameraType": "perspective",
        "clipDist": 10,
        "clipFar": 100,
        "clipNear": 0,
        "fogFar": 100,
        "fogNear": 50,
        "hoverTimeout": 0,
        "impostor": true,
        "lightColor": 14540253,
        "lightIntensity": 1,
        "mousePreset": "default",
        "panSpeed": 1,
        "quality": "medium",
        "rotateSpeed": 2,
        "sampleLevel": 0,
        "tooltip": true,
        "workerDefault": true,
        "zoomSpeed": 1.2
       },
       "_ngl_repr_dict": {
        "0": {
         "0": {
          "params": {
           "clipCenter": {
            "x": 0,
            "y": 0,
            "z": 0
           },
           "clipNear": 0,
           "clipRadius": 0,
           "colorMode": "hcl",
           "colorReverse": false,
           "colorScale": "",
           "colorScheme": "element",
           "colorValue": "orange",
           "defaultAssembly": "",
           "depthWrite": true,
           "diffuse": 16777215,
           "diffuseInterior": false,
           "disableImpostor": false,
           "disablePicking": false,
           "flatShaded": false,
           "interiorColor": 2236962,
           "interiorDarkening": 0,
           "lazy": false,
           "matrix": {
            "elements": [
             1,
             0,
             0,
             0,
             0,
             1,
             0,
             0,
             0,
             0,
             1,
             0,
             0,
             0,
             0,
             1
            ]
           },
           "metalness": 0,
           "opacity": 1,
           "quality": "medium",
           "radialSegments": 10,
           "radiusData": {},
           "radiusScale": 1,
           "radiusSize": 0.04933016296568518,
           "radiusType": "vdw",
           "roughness": 0.4,
           "sele": "all",
           "side": "double",
           "sphereDetail": 1,
           "useInteriorColor": true,
           "visible": true,
           "wireframe": false
          },
          "type": "unitcell"
         },
         "1": {
          "params": {
           "assembly": "default",
           "clipCenter": {
            "x": 0,
            "y": 0,
            "z": 0
           },
           "clipNear": 0,
           "clipRadius": 0,
           "colorMode": "hcl",
           "colorReverse": false,
           "colorScale": "rainbow",
           "colorScheme": "element",
           "colorValue": 9474192,
           "defaultAssembly": "",
           "depthWrite": true,
           "diffuse": 16777215,
           "diffuseInterior": false,
           "disableImpostor": false,
           "disablePicking": false,
           "flatShaded": false,
           "interiorColor": 2236962,
           "interiorDarkening": 0,
           "lazy": false,
           "matrix": {
            "elements": [
             1,
             0,
             0,
             0,
             0,
             1,
             0,
             0,
             0,
             0,
             1,
             0,
             0,
             0,
             0,
             1
            ]
           },
           "metalness": 0,
           "opacity": 1,
           "quality": "medium",
           "radiusData": {},
           "radiusScale": 0.5,
           "radiusSize": 1,
           "radiusType": "covalent",
           "roughness": 0.4,
           "sele": "all",
           "side": "double",
           "sphereDetail": 1,
           "useInteriorColor": true,
           "visible": true,
           "wireframe": false
          },
          "type": "spacefill"
         }
        }
       },
       "_ngl_serialize": false,
       "_ngl_version": "2.0.0-dev.36",
       "_ngl_view_id": [
        "C4DE5BDD-4D7A-430E-85C1-B4B3C4185890"
       ],
       "_player_dict": {},
       "_scene_position": {},
       "_scene_rotation": {},
       "_synced_model_ids": [],
       "_synced_repr_model_ids": [],
       "_view_height": "",
       "_view_width": "",
       "background": "white",
       "frame": 0,
       "gui_style": null,
       "layout": "IPY_MODEL_35aa8cd3af1c42719bba1cdaa1197318",
       "max_frame": 0,
       "n_components": 1,
       "picked": {}
      }
     },
     "7ac9065eeb974daea545c06b777d3653": {
      "model_module": "@jupyter-widgets/controls",
      "model_module_version": "1.5.0",
      "model_name": "FloatSliderModel",
      "state": {
       "description": "Charge scale",
       "layout": "IPY_MODEL_d93db7233e30488d9e553d4c0bc4a971",
       "step": 0.1,
       "style": "IPY_MODEL_f29315ff573448ee99bb7ae6b919e3b3",
       "value": 1
      }
     },
     "7b1301baceff42729308d7720737b009": {
      "model_module": "@jupyter-widgets/base",
      "model_module_version": "1.2.0",
      "model_name": "LayoutModel",
      "state": {}
     },
     "7b23bc4fe9b64d3c8a031bc338d14b7d": {
      "model_module": "@jupyter-widgets/controls",
      "model_module_version": "1.5.0",
      "model_name": "DescriptionStyleModel",
      "state": {
       "description_width": ""
      }
     },
     "7be394289c4e469d9522933f3200f5a2": {
      "model_module": "@jupyter-widgets/base",
      "model_module_version": "1.2.0",
      "model_name": "LayoutModel",
      "state": {}
     },
     "7c953d7268164a44a31da22afd30111a": {
      "model_module": "@jupyter-widgets/base",
      "model_module_version": "1.2.0",
      "model_name": "LayoutModel",
      "state": {}
     },
     "7d9337f907a248e1a73107d67426cd58": {
      "model_module": "@jupyter-widgets/controls",
      "model_module_version": "1.5.0",
      "model_name": "HBoxModel",
      "state": {
       "children": [
        "IPY_MODEL_7f571ad2b2154025a26264c3692ba684",
        "IPY_MODEL_ff8d9c42c47743eeb0387d1e9d1140d7"
       ],
       "layout": "IPY_MODEL_a02536a7aa1546778184c2940220f92c"
      }
     },
     "7d9c05d7eb724e5794077140aa0c34fb": {
      "model_module": "@jupyter-widgets/controls",
      "model_module_version": "1.5.0",
      "model_name": "HBoxModel",
      "state": {
       "children": [
        "IPY_MODEL_8b2c6597c90c4ea195f34c4b543c880c",
        "IPY_MODEL_ab53fb55369a4498886eb07a06acf8d9"
       ],
       "layout": "IPY_MODEL_6ee2967a932d4e8eb8a4a59a4f117f1c"
      }
     },
     "7da50e5f7cea48b69957976a3f4a2422": {
      "model_module": "@jupyter-widgets/controls",
      "model_module_version": "1.5.0",
      "model_name": "LinkModel",
      "state": {
       "source": [
        "IPY_MODEL_3e2f2032751f4808b62cf01c35062516",
        "max"
       ],
       "target": [
        "IPY_MODEL_7f571ad2b2154025a26264c3692ba684",
        "max_frame"
       ]
      }
     },
     "7ebf891d3cf2414f8446e4f33c94df42": {
      "model_module": "@jupyter-widgets/controls",
      "model_module_version": "1.5.0",
      "model_name": "SliderStyleModel",
      "state": {
       "description_width": ""
      }
     },
     "7ee14cad10fa46e19ab499992063248f": {
      "model_module": "@jupyter-widgets/controls",
      "model_module_version": "1.5.0",
      "model_name": "FloatSliderModel",
      "state": {
       "description": "Charge scale",
       "layout": "IPY_MODEL_d485a9ea7add4ba8b7a215b13900b3c1",
       "step": 0.1,
       "style": "IPY_MODEL_a129320776354b3bbc36f329df9f968a",
       "value": 1
      }
     },
     "7f571ad2b2154025a26264c3692ba684": {
      "model_module": "nglview-js-widgets",
      "model_module_version": "3.0.1",
      "model_name": "NGLModel",
      "state": {
       "_camera_orientation": [
        7.1988368306294745,
        0,
        0,
        0,
        0,
        7.1988368306294745,
        0,
        0,
        0,
        0,
        7.1988368306294745,
        0,
        -0.08449995517730713,
        -1.201999992132187,
        0,
        1
       ],
       "_camera_str": "orthographic",
       "_gui_theme": null,
       "_ibtn_fullscreen": "IPY_MODEL_b0271c6657f84b0abe718d60ea8c875c",
       "_igui": null,
       "_iplayer": "IPY_MODEL_dcb851f8605848a5b05694eb4208e766",
       "_ngl_color_dict": {},
       "_ngl_coordinate_resource": {},
       "_ngl_full_stage_parameters": {
        "ambientColor": 14540253,
        "ambientIntensity": 0.2,
        "backgroundColor": "white",
        "cameraEyeSep": 0.3,
        "cameraFov": 40,
        "cameraType": "orthographic",
        "clipDist": 0,
        "clipFar": 100,
        "clipNear": 0,
        "fogFar": 100,
        "fogNear": 50,
        "hoverTimeout": 0,
        "impostor": true,
        "lightColor": 14540253,
        "lightIntensity": 1,
        "mousePreset": "default",
        "panSpeed": 1,
        "quality": "medium",
        "rotateSpeed": 2,
        "sampleLevel": 0,
        "tooltip": true,
        "workerDefault": true,
        "zoomSpeed": 1.2
       },
       "_ngl_msg_archive": [
        {
         "args": [
          {
           "binary": false,
           "data": "MODEL     1\nATOM      1    O MOL     1       0.000   3.000   0.000  1.00  0.00           O  \nATOM      2    C MOL     1      -0.464   1.000   0.000  1.00  0.00           C  \nATOM      3    H MOL     1      -1.465   0.523   0.000  1.00  0.00           H  \nATOM      4    C MOL     1       0.700   0.052   0.000  1.00  0.00           C  \nATOM      5    H MOL     1       1.634   0.614   0.000  1.00  0.00           H  \nATOM      6    H MOL     1       0.652  -0.596   0.881  1.00  0.00           H  \nATOM      7    H MOL     1       0.652  -0.596  -0.881  1.00  0.00           H  \nENDMDL\n",
           "type": "blob"
          }
         ],
         "kwargs": {
          "defaultRepresentation": false,
          "ext": "pdb"
         },
         "methodName": "loadFile",
         "reconstruc_color_scheme": false,
         "target": "Stage",
         "type": "call_method"
        },
        {
         "args": [
          "400px",
          "300px"
         ],
         "kwargs": {},
         "methodName": "setSize",
         "reconstruc_color_scheme": false,
         "target": "Widget",
         "type": "call_method"
        },
        {
         "args": [
          "unitcell"
         ],
         "component_index": 0,
         "kwargs": {
          "sele": "all"
         },
         "methodName": "addRepresentation",
         "reconstruc_color_scheme": false,
         "target": "compList",
         "type": "call_method"
        },
        {
         "args": [
          "spacefill"
         ],
         "component_index": 0,
         "kwargs": {
          "sele": "all"
         },
         "methodName": "addRepresentation",
         "reconstruc_color_scheme": false,
         "target": "compList",
         "type": "call_method"
        },
        {
         "args": [],
         "kwargs": {
          "cameraType": "orthographic"
         },
         "methodName": "setParameters",
         "reconstruc_color_scheme": false,
         "target": "Stage",
         "type": "call_method"
        },
        {
         "args": [
          {
           "clipDist": 0
          }
         ],
         "kwargs": {},
         "methodName": "setParameters",
         "reconstruc_color_scheme": false,
         "target": "Widget",
         "type": "call_method"
        },
        {
         "args": [
          "spacefill",
          0
         ],
         "kwargs": {
          "colorScale": "rainbow",
          "colorScheme": "element",
          "radiusScale": 0.5,
          "radiusType": "covalent"
         },
         "methodName": "updateRepresentationsByName",
         "reconstruc_color_scheme": false,
         "target": "Widget",
         "type": "call_method"
        },
        {
         "args": [
          "this._Q = [[1.0, 0.0, 0.0], [0.0, 1.0, 0.0], [0.0, 0.0, 1.0]]\n    var tooltip = document.createElement('div')\n    Object.assign(tooltip.style, {\n      display: 'none',\n      position: 'fixed',\n      zIndex: 10,\n      pointerEvents: 'none',\n      backgroundColor: 'rgba( 0, 0, 0, 0.6 )',\n      color: 'lightgrey',\n      padding: '8px',\n      fontFamily: 'sans-serif'\n    })\n    document.body.appendChild(tooltip)\n\n    var that = this\n    this.stage.mouseControls.remove('hoverPick')\n    this.stage.signals.hovered.add(function (pickingProxy) {\n      if (pickingProxy && (pickingProxy.atom || pickingProxy.bond)) {\n        var atom = pickingProxy.atom || pickingProxy.closestBondAtom\n        var mp = pickingProxy.mouse.position\n        //tooltip.innerText = atom.element + ' i=' + atom.index + ' (' + atom.x.toFixed(2) +  ', ' + atom.y.toFixed(2) +  ', ' + atom.z.toFixed(2) + ')'\n        //var pos = that._atoms_pos[atom.index]\n        var Q = that._Q\n        var pos_x = Q[0][0] * atom.x + Q[0][1] * atom.y + Q[0][2] * atom.z \n        var pos_y = Q[1][0] * atom.x + Q[1][1] * atom.y + Q[1][2] * atom.z\n        var pos_z = Q[2][0] * atom.x + Q[2][1] * atom.y + Q[2][2] * atom.z\n        tooltip.innerText = 'i=' + atom.index + ' ' + atom.element + ' (' + pos_x.toFixed(2) +  ', ' + pos_y.toFixed(2) +  ', ' + pos_z.toFixed(2) + ')'\n        tooltip.style.bottom = window.innerHeight - mp.y + 3 + 'px'\n        tooltip.style.left = mp.x + 3 + 'px'\n        tooltip.style.display = 'block'\n      } else {\n        tooltip.style.display = 'none'\n      }\n    })\n    "
         ],
         "kwargs": {},
         "methodName": "executeCode",
         "reconstruc_color_scheme": false,
         "target": "Widget",
         "type": "call_method"
        },
        {
         "args": [
          "ball+stick"
         ],
         "component_index": 0,
         "kwargs": {
          "sele": "all"
         },
         "methodName": "addRepresentation",
         "reconstruc_color_scheme": false,
         "target": "compList",
         "type": "call_method"
        }
       ],
       "_ngl_original_stage_parameters": {
        "ambientColor": 14540253,
        "ambientIntensity": 0.2,
        "backgroundColor": "white",
        "cameraEyeSep": 0.3,
        "cameraFov": 40,
        "cameraType": "perspective",
        "clipDist": 10,
        "clipFar": 100,
        "clipNear": 0,
        "fogFar": 100,
        "fogNear": 50,
        "hoverTimeout": 0,
        "impostor": true,
        "lightColor": 14540253,
        "lightIntensity": 1,
        "mousePreset": "default",
        "panSpeed": 1,
        "quality": "medium",
        "rotateSpeed": 2,
        "sampleLevel": 0,
        "tooltip": true,
        "workerDefault": true,
        "zoomSpeed": 1.2
       },
       "_ngl_repr_dict": {
        "0": {
         "0": {
          "params": {
           "clipCenter": {
            "x": 0,
            "y": 0,
            "z": 0
           },
           "clipNear": 0,
           "clipRadius": 0,
           "colorMode": "hcl",
           "colorReverse": false,
           "colorScale": "",
           "colorScheme": "element",
           "colorValue": "orange",
           "defaultAssembly": "",
           "depthWrite": true,
           "diffuse": 16777215,
           "diffuseInterior": false,
           "disableImpostor": false,
           "disablePicking": false,
           "flatShaded": false,
           "interiorColor": 2236962,
           "interiorDarkening": 0,
           "lazy": false,
           "matrix": {
            "elements": [
             1,
             0,
             0,
             0,
             0,
             1,
             0,
             0,
             0,
             0,
             1,
             0,
             0,
             0,
             0,
             1
            ]
           },
           "metalness": 0,
           "opacity": 1,
           "quality": "medium",
           "radialSegments": 10,
           "radiusData": {},
           "radiusScale": 1,
           "radiusSize": 0.5,
           "radiusType": "vdw",
           "roughness": 0.4,
           "sele": "all",
           "side": "double",
           "sphereDetail": 1,
           "useInteriorColor": true,
           "visible": true,
           "wireframe": false
          },
          "type": "unitcell"
         },
         "1": {
          "params": {
           "assembly": "default",
           "clipCenter": {
            "x": 0,
            "y": 0,
            "z": 0
           },
           "clipNear": 0,
           "clipRadius": 0,
           "colorMode": "hcl",
           "colorReverse": false,
           "colorScale": "rainbow",
           "colorScheme": "element",
           "colorValue": 9474192,
           "defaultAssembly": "",
           "depthWrite": true,
           "diffuse": 16777215,
           "diffuseInterior": false,
           "disableImpostor": false,
           "disablePicking": false,
           "flatShaded": false,
           "interiorColor": 2236962,
           "interiorDarkening": 0,
           "lazy": false,
           "matrix": {
            "elements": [
             1,
             0,
             0,
             0,
             0,
             1,
             0,
             0,
             0,
             0,
             1,
             0,
             0,
             0,
             0,
             1
            ]
           },
           "metalness": 0,
           "opacity": 1,
           "quality": "medium",
           "radiusData": {},
           "radiusScale": 0.5,
           "radiusSize": 1,
           "radiusType": "covalent",
           "roughness": 0.4,
           "sele": "all",
           "side": "double",
           "sphereDetail": 1,
           "useInteriorColor": true,
           "visible": true,
           "wireframe": false
          },
          "type": "spacefill"
         },
         "2": {
          "params": {
           "aspectRatio": 2,
           "assembly": "default",
           "bondScale": 0.4,
           "bondSpacing": 1,
           "clipCenter": {
            "x": 0,
            "y": 0,
            "z": 0
           },
           "clipNear": 0,
           "clipRadius": 0,
           "colorMode": "hcl",
           "colorReverse": false,
           "colorScale": "",
           "colorScheme": "element",
           "colorValue": 9474192,
           "cylinderOnly": false,
           "defaultAssembly": "",
           "depthWrite": true,
           "diffuse": 16777215,
           "diffuseInterior": false,
           "disableImpostor": false,
           "disablePicking": false,
           "flatShaded": false,
           "interiorColor": 2236962,
           "interiorDarkening": 0,
           "lazy": false,
           "lineOnly": false,
           "linewidth": 2,
           "matrix": {
            "elements": [
             1,
             0,
             0,
             0,
             0,
             1,
             0,
             0,
             0,
             0,
             1,
             0,
             0,
             0,
             0,
             1
            ]
           },
           "metalness": 0,
           "multipleBond": "off",
           "opacity": 1,
           "openEnded": true,
           "quality": "medium",
           "radialSegments": 10,
           "radiusData": {},
           "radiusScale": 1,
           "radiusSize": 0.15,
           "radiusType": "size",
           "roughness": 0.4,
           "sele": "all",
           "side": "double",
           "sphereDetail": 1,
           "useInteriorColor": true,
           "visible": true,
           "wireframe": false
          },
          "type": "ball+stick"
         }
        }
       },
       "_ngl_serialize": false,
       "_ngl_version": "2.0.0-dev.36",
       "_ngl_view_id": [
        "CBC3396D-81E9-4D87-B881-3350ED98D6C9"
       ],
       "_player_dict": {},
       "_scene_position": {},
       "_scene_rotation": {},
       "_synced_model_ids": [],
       "_synced_repr_model_ids": [],
       "_view_height": "",
       "_view_width": "",
       "background": "white",
       "frame": 0,
       "gui_style": null,
       "layout": "IPY_MODEL_ebcd49200fc04bc4aa0babc4011ca229",
       "max_frame": 0,
       "n_components": 1,
       "picked": {}
      }
     },
     "80422d04e3504494af7c65ebad3382b8": {
      "model_module": "@jupyter-widgets/controls",
      "model_module_version": "1.5.0",
      "model_name": "ButtonStyleModel",
      "state": {}
     },
     "8044d0bc4cf04ae9b434138313f3ae07": {
      "model_module": "@jupyter-widgets/controls",
      "model_module_version": "1.5.0",
      "model_name": "SliderStyleModel",
      "state": {
       "description_width": ""
      }
     },
     "811445b628ab403f9065576409cb72e8": {
      "model_module": "@jupyter-widgets/base",
      "model_module_version": "1.2.0",
      "model_name": "LayoutModel",
      "state": {}
     },
     "8137a111e02f46528d6f0fe2d8efd80e": {
      "model_module": "@jupyter-widgets/controls",
      "model_module_version": "1.5.0",
      "model_name": "SliderStyleModel",
      "state": {
       "description_width": ""
      }
     },
     "81cbb9a98d554b41ac399048b436aa06": {
      "model_module": "@jupyter-widgets/controls",
      "model_module_version": "1.5.0",
      "model_name": "SliderStyleModel",
      "state": {
       "description_width": ""
      }
     },
     "8275f32816214f9f83fdd13fa818791c": {
      "model_module": "@jupyter-widgets/base",
      "model_module_version": "1.2.0",
      "model_name": "LayoutModel",
      "state": {}
     },
     "82d78b4ea957495eb0653d7a6374b559": {
      "model_module": "@jupyter-widgets/base",
      "model_module_version": "1.2.0",
      "model_name": "LayoutModel",
      "state": {}
     },
     "836e945742ff409983ea2895067a74bd": {
      "model_module": "@jupyter-widgets/controls",
      "model_module_version": "1.5.0",
      "model_name": "CheckboxModel",
      "state": {
       "description": "Show force",
       "disabled": false,
       "layout": "IPY_MODEL_f18246fedf47486eba2d4e642bc3a967",
       "style": "IPY_MODEL_2bdf4eef57e14a708be589d2efe5cb00",
       "value": false
      }
     },
     "838ad93c764440c7a59a3101a562a671": {
      "model_module": "@jupyter-widgets/controls",
      "model_module_version": "1.5.0",
      "model_name": "TextModel",
      "state": {
       "description": "Filename: ",
       "layout": "IPY_MODEL_5a90114afb92402f960cb075b83c1ed2",
       "style": "IPY_MODEL_af168d907464408b8eba4d137ee16113",
       "value": "screenshot.png"
      }
     },
     "8398ad2fb97a4483871a47c0ea3e3b03": {
      "model_module": "@jupyter-widgets/controls",
      "model_module_version": "1.5.0",
      "model_name": "ButtonStyleModel",
      "state": {}
     },
     "83c8eec95c624463b9f87a4807311b1e": {
      "model_module": "@jupyter-widgets/base",
      "model_module_version": "1.2.0",
      "model_name": "LayoutModel",
      "state": {}
     },
     "855ef361db384ffcb28b5b0dbe1b8bee": {
      "model_module": "@jupyter-widgets/base",
      "model_module_version": "1.2.0",
      "model_name": "LayoutModel",
      "state": {}
     },
     "859a9d3ccba94e719c7ca776793a31e3": {
      "model_module": "@jupyter-widgets/controls",
      "model_module_version": "1.5.0",
      "model_name": "DescriptionStyleModel",
      "state": {
       "description_width": ""
      }
     },
     "85b27b6f0244454bb1fde7aeba5e1e8c": {
      "model_module": "@jupyter-widgets/output",
      "model_module_version": "1.0.0",
      "model_name": "OutputModel",
      "state": {
       "layout": "IPY_MODEL_66c5bef6cd6f459692512fc9e64ce1cb"
      }
     },
     "8657704577aa49c68ad6b37972f4fca8": {
      "model_module": "@jupyter-widgets/base",
      "model_module_version": "1.2.0",
      "model_name": "LayoutModel",
      "state": {}
     },
     "8699dfd7749741699f043cba127936f1": {
      "model_module": "@jupyter-widgets/controls",
      "model_module_version": "1.5.0",
      "model_name": "VBoxModel",
      "state": {
       "children": [
        "IPY_MODEL_c903a4c4001e416eb8c7c30bcd0aad4a",
        "IPY_MODEL_66356a6ebeb14445a97a1081d1e296ab",
        "IPY_MODEL_ad5c1dddbf6d4d4ab802311f893ca474",
        "IPY_MODEL_28cc68eaa11e49fe8087f6c573b311df",
        "IPY_MODEL_5c514b6f5e554274ab1260252e1e3d3e",
        "IPY_MODEL_3bfd7ff6dd9e4e2aa85dd8772a65b126",
        "IPY_MODEL_e64f6b4f20ff4ae7a797b6d4fbf91f67",
        "IPY_MODEL_57e90f67bbfc4e61b72d53649e6f3812",
        "IPY_MODEL_6a89412b03d34b91b537c5a2e85d4783",
        "IPY_MODEL_53960793b6e341528497805f2a30ffbc"
       ],
       "layout": "IPY_MODEL_c0439edf1a154ed7a9b203f63cac8db6"
      }
     },
     "86c905f7be0b44eba700f66028ef6816": {
      "model_module": "@jupyter-widgets/controls",
      "model_module_version": "1.5.0",
      "model_name": "DescriptionStyleModel",
      "state": {
       "description_width": ""
      }
     },
     "86e1ab08777646a5bbe874402148c372": {
      "model_module": "@jupyter-widgets/controls",
      "model_module_version": "1.5.0",
      "model_name": "ButtonStyleModel",
      "state": {}
     },
     "86fbf1bfd86943c6a8130da79da84f6f": {
      "model_module": "@jupyter-widgets/output",
      "model_module_version": "1.0.0",
      "model_name": "OutputModel",
      "state": {
       "layout": "IPY_MODEL_d05e932249d843b9bb537b2048894bee"
      }
     },
     "8736ea9e8e52476d9c6b6241ab816c63": {
      "model_module": "@jupyter-widgets/controls",
      "model_module_version": "1.5.0",
      "model_name": "ButtonStyleModel",
      "state": {}
     },
     "8883856a90c84a80882d61621e35b80f": {
      "model_module": "@jupyter-widgets/base",
      "model_module_version": "1.2.0",
      "model_name": "LayoutModel",
      "state": {}
     },
     "895546c8727a41259f7f803e94bac89a": {
      "model_module": "@jupyter-widgets/controls",
      "model_module_version": "1.5.0",
      "model_name": "LinkModel",
      "state": {
       "source": [
        "IPY_MODEL_3e2f2032751f4808b62cf01c35062516",
        "value"
       ],
       "target": [
        "IPY_MODEL_7f571ad2b2154025a26264c3692ba684",
        "frame"
       ]
      }
     },
     "897cbbd6647749f78ad7c40170959d62": {
      "model_module": "@jupyter-widgets/base",
      "model_module_version": "1.2.0",
      "model_name": "LayoutModel",
      "state": {}
     },
     "8a1ae58873b646b3ad0bac2bad868612": {
      "model_module": "@jupyter-widgets/controls",
      "model_module_version": "1.5.0",
      "model_name": "HBoxModel",
      "state": {
       "children": [
        "IPY_MODEL_00003ff4934141f6934e175435d0885e",
        "IPY_MODEL_448bacad90294a95be065d49afef1883"
       ],
       "layout": "IPY_MODEL_69ca53e1f1f44d749a06c1480d15f6e3"
      }
     },
     "8ac94c3245dd49b2a4fea135f814b152": {
      "model_module": "@jupyter-widgets/controls",
      "model_module_version": "1.5.0",
      "model_name": "FloatSliderModel",
      "state": {
       "description": "Charge scale",
       "layout": "IPY_MODEL_2bd174219dc048748b3e2103c128c94e",
       "step": 0.1,
       "style": "IPY_MODEL_1cb3d8eb715748cba55d0f728615c691",
       "value": 1
      }
     },
     "8afc8e17982349699278f5280981ad55": {
      "model_module": "@jupyter-widgets/controls",
      "model_module_version": "1.5.0",
      "model_name": "FloatSliderModel",
      "state": {
       "description": "Force scale",
       "layout": "IPY_MODEL_7b1301baceff42729308d7720737b009",
       "step": 0.1,
       "style": "IPY_MODEL_5bda2688915541c2abdaa39c22b648cb",
       "value": 0.5
      }
     },
     "8b14b1a06c694eb2881dcd3c18d30f20": {
      "model_module": "@jupyter-widgets/base",
      "model_module_version": "1.2.0",
      "model_name": "LayoutModel",
      "state": {}
     },
     "8b2c6597c90c4ea195f34c4b543c880c": {
      "model_module": "nglview-js-widgets",
      "model_module_version": "3.0.1",
      "model_name": "NGLModel",
      "state": {
       "_camera_orientation": [
        6.472139903336057,
        0,
        0,
        0,
        0,
        6.472139903336057,
        0,
        0,
        0,
        0,
        6.472139903336057,
        0,
        0.1889999508857727,
        0.08449995517730713,
        0,
        1
       ],
       "_camera_str": "orthographic",
       "_gui_theme": null,
       "_ibtn_fullscreen": "IPY_MODEL_5599a5f5dd7c4036814d330f410b115d",
       "_igui": null,
       "_iplayer": "IPY_MODEL_914e8e45f6ad4c32941b98c85a71bc0d",
       "_ngl_color_dict": {},
       "_ngl_coordinate_resource": {},
       "_ngl_full_stage_parameters": {
        "ambientColor": 14540253,
        "ambientIntensity": 0.2,
        "backgroundColor": "white",
        "cameraEyeSep": 0.3,
        "cameraFov": 40,
        "cameraType": "orthographic",
        "clipDist": 0,
        "clipFar": 100,
        "clipNear": 0,
        "fogFar": 100,
        "fogNear": 50,
        "hoverTimeout": 0,
        "impostor": true,
        "lightColor": 14540253,
        "lightIntensity": 1,
        "mousePreset": "default",
        "panSpeed": 1,
        "quality": "medium",
        "rotateSpeed": 2,
        "sampleLevel": 0,
        "tooltip": true,
        "workerDefault": true,
        "zoomSpeed": 1.2
       },
       "_ngl_msg_archive": [
        {
         "args": [
          {
           "binary": false,
           "data": "MODEL     1\nATOM      1    O MOL     1       1.218   0.361   0.000  1.00  0.00           O  \nATOM      2    C MOL     1       0.000   0.464   0.000  1.00  0.00           C  \nATOM      3    H MOL     1      -0.477   1.465   0.000  1.00  0.00           H  \nATOM      4    C MOL     1      -0.948  -0.700   0.000  1.00  0.00           C  \nATOM      5    H MOL     1      -0.386  -1.634   0.000  1.00  0.00           H  \nATOM      6    H MOL     1      -1.596  -0.652   0.881  1.00  0.00           H  \nATOM      7    H MOL     1      -1.596  -0.652  -0.881  1.00  0.00           H  \nENDMDL\n",
           "type": "blob"
          }
         ],
         "kwargs": {
          "defaultRepresentation": false,
          "ext": "pdb"
         },
         "methodName": "loadFile",
         "reconstruc_color_scheme": false,
         "target": "Stage",
         "type": "call_method"
        },
        {
         "args": [
          "400px",
          "300px"
         ],
         "kwargs": {},
         "methodName": "setSize",
         "reconstruc_color_scheme": false,
         "target": "Widget",
         "type": "call_method"
        },
        {
         "args": [
          "unitcell"
         ],
         "component_index": 0,
         "kwargs": {
          "sele": "all"
         },
         "methodName": "addRepresentation",
         "reconstruc_color_scheme": false,
         "target": "compList",
         "type": "call_method"
        },
        {
         "args": [
          "spacefill"
         ],
         "component_index": 0,
         "kwargs": {
          "sele": "all"
         },
         "methodName": "addRepresentation",
         "reconstruc_color_scheme": false,
         "target": "compList",
         "type": "call_method"
        },
        {
         "args": [],
         "kwargs": {
          "cameraType": "orthographic"
         },
         "methodName": "setParameters",
         "reconstruc_color_scheme": false,
         "target": "Stage",
         "type": "call_method"
        },
        {
         "args": [
          {
           "clipDist": 0
          }
         ],
         "kwargs": {},
         "methodName": "setParameters",
         "reconstruc_color_scheme": false,
         "target": "Widget",
         "type": "call_method"
        },
        {
         "args": [
          "spacefill",
          0
         ],
         "kwargs": {
          "colorScale": "rainbow",
          "colorScheme": "element",
          "radiusScale": 0.5,
          "radiusType": "covalent"
         },
         "methodName": "updateRepresentationsByName",
         "reconstruc_color_scheme": false,
         "target": "Widget",
         "type": "call_method"
        },
        {
         "args": [
          "this._Q = [[1.0, 0.0, 0.0], [0.0, 1.0, 0.0], [0.0, 0.0, 1.0]]\n    var tooltip = document.createElement('div')\n    Object.assign(tooltip.style, {\n      display: 'none',\n      position: 'fixed',\n      zIndex: 10,\n      pointerEvents: 'none',\n      backgroundColor: 'rgba( 0, 0, 0, 0.6 )',\n      color: 'lightgrey',\n      padding: '8px',\n      fontFamily: 'sans-serif'\n    })\n    document.body.appendChild(tooltip)\n\n    var that = this\n    this.stage.mouseControls.remove('hoverPick')\n    this.stage.signals.hovered.add(function (pickingProxy) {\n      if (pickingProxy && (pickingProxy.atom || pickingProxy.bond)) {\n        var atom = pickingProxy.atom || pickingProxy.closestBondAtom\n        var mp = pickingProxy.mouse.position\n        //tooltip.innerText = atom.element + ' i=' + atom.index + ' (' + atom.x.toFixed(2) +  ', ' + atom.y.toFixed(2) +  ', ' + atom.z.toFixed(2) + ')'\n        //var pos = that._atoms_pos[atom.index]\n        var Q = that._Q\n        var pos_x = Q[0][0] * atom.x + Q[0][1] * atom.y + Q[0][2] * atom.z \n        var pos_y = Q[1][0] * atom.x + Q[1][1] * atom.y + Q[1][2] * atom.z\n        var pos_z = Q[2][0] * atom.x + Q[2][1] * atom.y + Q[2][2] * atom.z\n        tooltip.innerText = 'i=' + atom.index + ' ' + atom.element + ' (' + pos_x.toFixed(2) +  ', ' + pos_y.toFixed(2) +  ', ' + pos_z.toFixed(2) + ')'\n        tooltip.style.bottom = window.innerHeight - mp.y + 3 + 'px'\n        tooltip.style.left = mp.x + 3 + 'px'\n        tooltip.style.display = 'block'\n      } else {\n        tooltip.style.display = 'none'\n      }\n    })\n    "
         ],
         "kwargs": {},
         "methodName": "executeCode",
         "reconstruc_color_scheme": false,
         "target": "Widget",
         "type": "call_method"
        },
        {
         "args": [
          "ball+stick"
         ],
         "component_index": 0,
         "kwargs": {
          "sele": "all"
         },
         "methodName": "addRepresentation",
         "reconstruc_color_scheme": false,
         "target": "compList",
         "type": "call_method"
        }
       ],
       "_ngl_original_stage_parameters": {
        "ambientColor": 14540253,
        "ambientIntensity": 0.2,
        "backgroundColor": "white",
        "cameraEyeSep": 0.3,
        "cameraFov": 40,
        "cameraType": "perspective",
        "clipDist": 10,
        "clipFar": 100,
        "clipNear": 0,
        "fogFar": 100,
        "fogNear": 50,
        "hoverTimeout": 0,
        "impostor": true,
        "lightColor": 14540253,
        "lightIntensity": 1,
        "mousePreset": "default",
        "panSpeed": 1,
        "quality": "medium",
        "rotateSpeed": 2,
        "sampleLevel": 0,
        "tooltip": true,
        "workerDefault": true,
        "zoomSpeed": 1.2
       },
       "_ngl_repr_dict": {
        "0": {
         "0": {
          "params": {
           "clipCenter": {
            "x": 0,
            "y": 0,
            "z": 0
           },
           "clipNear": 0,
           "clipRadius": 0,
           "colorMode": "hcl",
           "colorReverse": false,
           "colorScale": "",
           "colorScheme": "element",
           "colorValue": "orange",
           "defaultAssembly": "",
           "depthWrite": true,
           "diffuse": 16777215,
           "diffuseInterior": false,
           "disableImpostor": false,
           "disablePicking": false,
           "flatShaded": false,
           "interiorColor": 2236962,
           "interiorDarkening": 0,
           "lazy": false,
           "matrix": {
            "elements": [
             1,
             0,
             0,
             0,
             0,
             1,
             0,
             0,
             0,
             0,
             1,
             0,
             0,
             0,
             0,
             1
            ]
           },
           "metalness": 0,
           "opacity": 1,
           "quality": "medium",
           "radialSegments": 10,
           "radiusData": {},
           "radiusScale": 1,
           "radiusSize": 0.5,
           "radiusType": "vdw",
           "roughness": 0.4,
           "sele": "all",
           "side": "double",
           "sphereDetail": 1,
           "useInteriorColor": true,
           "visible": true,
           "wireframe": false
          },
          "type": "unitcell"
         },
         "1": {
          "params": {
           "assembly": "default",
           "clipCenter": {
            "x": 0,
            "y": 0,
            "z": 0
           },
           "clipNear": 0,
           "clipRadius": 0,
           "colorMode": "hcl",
           "colorReverse": false,
           "colorScale": "rainbow",
           "colorScheme": "element",
           "colorValue": 9474192,
           "defaultAssembly": "",
           "depthWrite": true,
           "diffuse": 16777215,
           "diffuseInterior": false,
           "disableImpostor": false,
           "disablePicking": false,
           "flatShaded": false,
           "interiorColor": 2236962,
           "interiorDarkening": 0,
           "lazy": false,
           "matrix": {
            "elements": [
             1,
             0,
             0,
             0,
             0,
             1,
             0,
             0,
             0,
             0,
             1,
             0,
             0,
             0,
             0,
             1
            ]
           },
           "metalness": 0,
           "opacity": 1,
           "quality": "medium",
           "radiusData": {},
           "radiusScale": 0.5,
           "radiusSize": 1,
           "radiusType": "covalent",
           "roughness": 0.4,
           "sele": "all",
           "side": "double",
           "sphereDetail": 1,
           "useInteriorColor": true,
           "visible": true,
           "wireframe": false
          },
          "type": "spacefill"
         },
         "2": {
          "params": {
           "aspectRatio": 2,
           "assembly": "default",
           "bondScale": 0.4,
           "bondSpacing": 1,
           "clipCenter": {
            "x": 0,
            "y": 0,
            "z": 0
           },
           "clipNear": 0,
           "clipRadius": 0,
           "colorMode": "hcl",
           "colorReverse": false,
           "colorScale": "",
           "colorScheme": "element",
           "colorValue": 9474192,
           "cylinderOnly": false,
           "defaultAssembly": "",
           "depthWrite": true,
           "diffuse": 16777215,
           "diffuseInterior": false,
           "disableImpostor": false,
           "disablePicking": false,
           "flatShaded": false,
           "interiorColor": 2236962,
           "interiorDarkening": 0,
           "lazy": false,
           "lineOnly": false,
           "linewidth": 2,
           "matrix": {
            "elements": [
             1,
             0,
             0,
             0,
             0,
             1,
             0,
             0,
             0,
             0,
             1,
             0,
             0,
             0,
             0,
             1
            ]
           },
           "metalness": 0,
           "multipleBond": "off",
           "opacity": 1,
           "openEnded": true,
           "quality": "medium",
           "radialSegments": 10,
           "radiusData": {},
           "radiusScale": 1,
           "radiusSize": 0.15,
           "radiusType": "size",
           "roughness": 0.4,
           "sele": "all",
           "side": "double",
           "sphereDetail": 1,
           "useInteriorColor": true,
           "visible": true,
           "wireframe": false
          },
          "type": "ball+stick"
         }
        }
       },
       "_ngl_serialize": false,
       "_ngl_version": "2.0.0-dev.36",
       "_ngl_view_id": [
        "7BB25101-33F2-4F37-9BB5-DC8D7E0A0DC8"
       ],
       "_player_dict": {},
       "_scene_position": {},
       "_scene_rotation": {},
       "_synced_model_ids": [],
       "_synced_repr_model_ids": [],
       "_view_height": "",
       "_view_width": "",
       "background": "white",
       "frame": 0,
       "gui_style": null,
       "layout": "IPY_MODEL_08cfb188a9ab437eb5b600c136c5d91c",
       "max_frame": 0,
       "n_components": 1,
       "picked": {}
      }
     },
     "8c12a2630d53450abb29ba458049c3a3": {
      "model_module": "@jupyter-widgets/controls",
      "model_module_version": "1.5.0",
      "model_name": "SliderStyleModel",
      "state": {
       "description_width": ""
      }
     },
     "8c66dbe8f1ba408ba9d1847ed6b56d53": {
      "model_module": "@jupyter-widgets/base",
      "model_module_version": "1.2.0",
      "model_name": "LayoutModel",
      "state": {}
     },
     "8c731cea64dd42989ba323402fdce1d4": {
      "model_module": "@jupyter-widgets/base",
      "model_module_version": "1.2.0",
      "model_name": "LayoutModel",
      "state": {
       "width": "34px"
      }
     },
     "8c83f5fe54d2451e8166c2c61086d7b8": {
      "model_module": "@jupyter-widgets/controls",
      "model_module_version": "1.5.0",
      "model_name": "PlayModel",
      "state": {
       "layout": "IPY_MODEL_39982d0a72364c059482f49086f4d5af",
       "max": 0,
       "style": "IPY_MODEL_3b064bbc1b8440f4b44c16c812163548"
      }
     },
     "8ca417cdce1a48c49e353b854cd3c2f0": {
      "model_module": "@jupyter-widgets/controls",
      "model_module_version": "1.5.0",
      "model_name": "CheckboxModel",
      "state": {
       "description": "Show force",
       "disabled": false,
       "layout": "IPY_MODEL_8db5df572de74f8f93def95edfdacf60",
       "style": "IPY_MODEL_97599042c95647a49d6b80c091ab1ca1",
       "value": false
      }
     },
     "8cbda2dc4658426c979104b2f61d89ec": {
      "model_module": "@jupyter-widgets/controls",
      "model_module_version": "1.5.0",
      "model_name": "LinkModel",
      "state": {
       "source": [
        "IPY_MODEL_dd4481df830c41dc84b2e2df6d39788c",
        "max"
       ],
       "target": [
        "IPY_MODEL_7a1982e7c2f9478897ea075ce5dc6142",
        "max_frame"
       ]
      }
     },
     "8cbeb7f7687d48f0a88f9cef1fa6af06": {
      "model_module": "@jupyter-widgets/base",
      "model_module_version": "1.2.0",
      "model_name": "LayoutModel",
      "state": {}
     },
     "8db5df572de74f8f93def95edfdacf60": {
      "model_module": "@jupyter-widgets/base",
      "model_module_version": "1.2.0",
      "model_name": "LayoutModel",
      "state": {}
     },
     "8e0a9049078c4cbdb3c0c779b4fb7807": {
      "model_module": "@jupyter-widgets/controls",
      "model_module_version": "1.5.0",
      "model_name": "ButtonModel",
      "state": {
       "description": "Save image",
       "layout": "IPY_MODEL_f7f8c230d34d4e928fefaa7ffefe40c9",
       "style": "IPY_MODEL_4f7452a8a07f4718b05a69b766123035",
       "tooltip": "Save current frame to file.\nCurrently .png and .html are supported.\nIt takes a bit time, please be patient."
      }
     },
     "8e26c01bd91843769186af08bedaf059": {
      "model_module": "@jupyter-widgets/controls",
      "model_module_version": "1.5.0",
      "model_name": "DescriptionStyleModel",
      "state": {
       "description_width": ""
      }
     },
     "8f51f263200043db92bee1ce23c54805": {
      "model_module": "@jupyter-widgets/base",
      "model_module_version": "1.2.0",
      "model_name": "LayoutModel",
      "state": {
       "border": "0px solid black"
      }
     },
     "8f9240478eda49f7aa23c72de8640591": {
      "model_module": "@jupyter-widgets/base",
      "model_module_version": "1.2.0",
      "model_name": "LayoutModel",
      "state": {}
     },
     "8fde8aad59a5490daa147aa20b6f6cd6": {
      "model_module": "@jupyter-widgets/controls",
      "model_module_version": "1.5.0",
      "model_name": "SliderStyleModel",
      "state": {
       "description_width": ""
      }
     },
     "90ee7451561f44aab4899b0a5521e732": {
      "model_module": "@jupyter-widgets/controls",
      "model_module_version": "1.5.0",
      "model_name": "HBoxModel",
      "state": {
       "children": [
        "IPY_MODEL_8c83f5fe54d2451e8166c2c61086d7b8",
        "IPY_MODEL_0d4c46e315d84d97b4e349fd7c7691ed"
       ],
       "layout": "IPY_MODEL_3181fb05389b4a6d98ec22130b5b1c5c"
      }
     },
     "914e8e45f6ad4c32941b98c85a71bc0d": {
      "model_module": "@jupyter-widgets/controls",
      "model_module_version": "1.5.0",
      "model_name": "HBoxModel",
      "state": {
       "children": [
        "IPY_MODEL_f8f2d6859bba447abd9ec4b4563fae3d",
        "IPY_MODEL_4eb66ea54f89427cb58fd1a7a5e35cc3"
       ],
       "layout": "IPY_MODEL_be09b3fd05754be1bdf11540c2284e0e"
      }
     },
     "91c84889f1954aababc06913d731e112": {
      "model_module": "@jupyter-widgets/base",
      "model_module_version": "1.2.0",
      "model_name": "LayoutModel",
      "state": {}
     },
     "933e9f323d9748cc848d4e01c526a92f": {
      "model_module": "@jupyter-widgets/controls",
      "model_module_version": "1.5.0",
      "model_name": "DropdownModel",
      "state": {
       "_options_labels": [
        "All",
        "Fe"
       ],
       "description": "Show",
       "index": 0,
       "layout": "IPY_MODEL_cc01982510ff4be180e4ba9b109a3961",
       "style": "IPY_MODEL_1d4ce494f43b4c109976d06ce36519e0"
      }
     },
     "95940ac138bf45dabb357aed2cd6ff28": {
      "model_module": "@jupyter-widgets/controls",
      "model_module_version": "1.5.0",
      "model_name": "ImageModel",
      "state": {
       "layout": "IPY_MODEL_b2394cd9cfae4198b91caafe88dc2ef7",
       "width": "900.0"
      }
     },
     "96f94c90c1d14704905c850462dc9399": {
      "model_module": "@jupyter-widgets/controls",
      "model_module_version": "1.5.0",
      "model_name": "DescriptionStyleModel",
      "state": {
       "description_width": ""
      }
     },
     "973b847ed7324200a24c79d78be6bcb8": {
      "model_module": "@jupyter-widgets/controls",
      "model_module_version": "1.5.0",
      "model_name": "LinkModel",
      "state": {
       "source": [
        "IPY_MODEL_336294c17bcd498395cd6a9de259f16a",
        "value"
       ],
       "target": [
        "IPY_MODEL_b8a92e06c4bd439bbc95e73e5196a04a",
        "frame"
       ]
      }
     },
     "97599042c95647a49d6b80c091ab1ca1": {
      "model_module": "@jupyter-widgets/controls",
      "model_module_version": "1.5.0",
      "model_name": "DescriptionStyleModel",
      "state": {
       "description_width": ""
      }
     },
     "98c15135811e4f9197cfcd6f7a608862": {
      "model_module": "@jupyter-widgets/base",
      "model_module_version": "1.2.0",
      "model_name": "LayoutModel",
      "state": {}
     },
     "98fe5d8394544aecab5ed4c8acdc6835": {
      "model_module": "@jupyter-widgets/controls",
      "model_module_version": "1.5.0",
      "model_name": "CheckboxModel",
      "state": {
       "description": "Show force",
       "disabled": false,
       "layout": "IPY_MODEL_e43b325889e742b1be89768a7ebcb262",
       "style": "IPY_MODEL_2b7f2fed1a5249688cf09cd4804cb308",
       "value": false
      }
     },
     "990bb94419bd469d9362568120b6ead9": {
      "model_module": "@jupyter-widgets/controls",
      "model_module_version": "1.5.0",
      "model_name": "ButtonModel",
      "state": {
       "description": "Save image",
       "layout": "IPY_MODEL_8c66dbe8f1ba408ba9d1847ed6b56d53",
       "style": "IPY_MODEL_6c3b684fae704d838b55566f1078640f",
       "tooltip": "Save current frame to file.\nCurrently .png and .html are supported.\nIt takes a bit time, please be patient."
      }
     },
     "993e66184f15452292d7da136c04c64e": {
      "model_module": "@jupyter-widgets/base",
      "model_module_version": "1.2.0",
      "model_name": "LayoutModel",
      "state": {}
     },
     "99a614b9700e43e39850f63bef3ea484": {
      "model_module": "@jupyter-widgets/base",
      "model_module_version": "1.2.0",
      "model_name": "LayoutModel",
      "state": {}
     },
     "9a08f35f7d884528a506f9401fe9f751": {
      "model_module": "@jupyter-widgets/base",
      "model_module_version": "1.2.0",
      "model_name": "LayoutModel",
      "state": {}
     },
     "9a0f3b3bbb9f495caed2019252b7d660": {
      "model_module": "@jupyter-widgets/base",
      "model_module_version": "1.2.0",
      "model_name": "LayoutModel",
      "state": {}
     },
     "9a0f820db1a54f1db69be3080a7112c9": {
      "model_module": "@jupyter-widgets/controls",
      "model_module_version": "1.5.0",
      "model_name": "DropdownModel",
      "state": {
       "_options_labels": [
        " ",
        "picking",
        "random",
        "uniform",
        "atomindex",
        "residueindex",
        "chainindex",
        "modelindex",
        "sstruc",
        "element",
        "resname",
        "bfactor",
        "hydrophobicity",
        "value",
        "volume",
        "occupancy"
       ],
       "description": "Color scheme",
       "index": 9,
       "layout": "IPY_MODEL_31520aff9d1d4255a7e880b528ebba98",
       "style": "IPY_MODEL_859a9d3ccba94e719c7ca776793a31e3"
      }
     },
     "9af7a7e917a24b3d8b812eda69823a8a": {
      "model_module": "@jupyter-widgets/controls",
      "model_module_version": "1.5.0",
      "model_name": "DropdownModel",
      "state": {
       "_options_labels": [
        " ",
        "picking",
        "random",
        "uniform",
        "atomindex",
        "residueindex",
        "chainindex",
        "modelindex",
        "sstruc",
        "element",
        "resname",
        "bfactor",
        "hydrophobicity",
        "value",
        "volume",
        "occupancy"
       ],
       "description": "Color scheme",
       "index": 9,
       "layout": "IPY_MODEL_57bd448f2a244a9b83cceb75d31c8bfa",
       "style": "IPY_MODEL_5a7da5e3058849ecad2c3e78508241db"
      }
     },
     "9b6fbc6ab0a649df8e0c97f1b26ee8e7": {
      "model_module": "@jupyter-widgets/controls",
      "model_module_version": "1.5.0",
      "model_name": "CheckboxModel",
      "state": {
       "description": "Show charge",
       "disabled": false,
       "layout": "IPY_MODEL_64bf00aa0b9f460f82a8421f5e81d43d",
       "style": "IPY_MODEL_2548b509d5f04c8a86b4ec02acf227d7",
       "value": false
      }
     },
     "9c50dfc66d974b7ba498464716ed4bd5": {
      "model_module": "@jupyter-widgets/controls",
      "model_module_version": "1.5.0",
      "model_name": "HBoxModel",
      "state": {
       "children": [
        "IPY_MODEL_244e59e0d3d347e5a4ac30dd15515bae",
        "IPY_MODEL_d81489889bfc4042b2fdf0315dbbe860"
       ],
       "layout": "IPY_MODEL_4086f56c9dd44b37aae324f791a78299"
      }
     },
     "9c91203e86664b6a9a5ddfe226dfe2a7": {
      "model_module": "@jupyter-widgets/controls",
      "model_module_version": "1.5.0",
      "model_name": "SliderStyleModel",
      "state": {
       "description_width": ""
      }
     },
     "9d401fd96f2c4c149d85da7a3bfb1121": {
      "model_module": "@jupyter-widgets/base",
      "model_module_version": "1.2.0",
      "model_name": "LayoutModel",
      "state": {}
     },
     "9f76c0c180004f04bf37ba369ba40fea": {
      "model_module": "@jupyter-widgets/controls",
      "model_module_version": "1.5.0",
      "model_name": "LinkModel",
      "state": {
       "source": [
        "IPY_MODEL_4e1503550d054ea1acda20052311aa72",
        "value"
       ],
       "target": [
        "IPY_MODEL_c5e3322032834541ada4eaa08d686de3",
        "value"
       ]
      }
     },
     "a02536a7aa1546778184c2940220f92c": {
      "model_module": "@jupyter-widgets/base",
      "model_module_version": "1.2.0",
      "model_name": "LayoutModel",
      "state": {}
     },
     "a0bb401211084dd1912eae370b655a4e": {
      "model_module": "@jupyter-widgets/controls",
      "model_module_version": "1.5.0",
      "model_name": "SliderStyleModel",
      "state": {
       "description_width": ""
      }
     },
     "a1151c605033479e94d3ce7d0275a5fc": {
      "model_module": "@jupyter-widgets/base",
      "model_module_version": "1.2.0",
      "model_name": "LayoutModel",
      "state": {}
     },
     "a129320776354b3bbc36f329df9f968a": {
      "model_module": "@jupyter-widgets/controls",
      "model_module_version": "1.5.0",
      "model_name": "SliderStyleModel",
      "state": {
       "description_width": ""
      }
     },
     "a1f4a815f51e4154a66e7cb2f2436627": {
      "model_module": "@jupyter-widgets/base",
      "model_module_version": "1.2.0",
      "model_name": "LayoutModel",
      "state": {}
     },
     "a202fccda73745829bc7c407ce057e27": {
      "model_module": "@jupyter-widgets/controls",
      "model_module_version": "1.5.0",
      "model_name": "CheckboxModel",
      "state": {
       "description": "Show charge",
       "disabled": false,
       "layout": "IPY_MODEL_58ce4a6ba651497d8545c70888c11ead",
       "style": "IPY_MODEL_75de22829c7c4f2aa5c63c8478b4aa30",
       "value": false
      }
     },
     "a249d0f6422240c0a90203c25bd9e184": {
      "model_module": "@jupyter-widgets/base",
      "model_module_version": "1.2.0",
      "model_name": "LayoutModel",
      "state": {}
     },
     "a29ae1167711457fbfc68194fc87f4f4": {
      "model_module": "@jupyter-widgets/controls",
      "model_module_version": "1.5.0",
      "model_name": "LinkModel",
      "state": {
       "source": [
        "IPY_MODEL_be02670abc494bd0be84ea3b0c772d59",
        "value"
       ],
       "target": [
        "IPY_MODEL_dc6a5fe045524467b82b8d4bbee603b9",
        "value"
       ]
      }
     },
     "a412b5289dd2465e86f0131afb6c9b48": {
      "model_module": "@jupyter-widgets/controls",
      "model_module_version": "1.5.0",
      "model_name": "SliderStyleModel",
      "state": {
       "description_width": ""
      }
     },
     "a4297471501a4bb98f0ae77df0f000b8": {
      "model_module": "@jupyter-widgets/controls",
      "model_module_version": "1.5.0",
      "model_name": "ButtonModel",
      "state": {
       "description": "Download image",
       "layout": "IPY_MODEL_c6efd52c95bf49b89d19ab32c3e10693",
       "style": "IPY_MODEL_6c4a6cd672b143558396bcc9f1663cf6",
       "tooltip": "Download current frame to your local PC"
      }
     },
     "a515039469344b7289e2ec01c11ecf0c": {
      "model_module": "@jupyter-widgets/base",
      "model_module_version": "1.2.0",
      "model_name": "LayoutModel",
      "state": {}
     },
     "a57d591969ba4caaabae7c9e8b68b259": {
      "model_module": "@jupyter-widgets/controls",
      "model_module_version": "1.5.0",
      "model_name": "ButtonModel",
      "state": {
       "icon": "compress",
       "layout": "IPY_MODEL_09db9939222b454fad09af9cdb9e56f0",
       "style": "IPY_MODEL_36e02a56773842509f8b6b2132abceb7"
      }
     },
     "a67496ec255d4c18bf8ea70872248b72": {
      "model_module": "@jupyter-widgets/controls",
      "model_module_version": "1.5.0",
      "model_name": "ButtonModel",
      "state": {
       "icon": "compress",
       "layout": "IPY_MODEL_ff1717c11af5494fb2e3ab18c2fce515",
       "style": "IPY_MODEL_336c23cb373d480cb4da7c4f054961a6"
      }
     },
     "a73d8385b60b4beaabc134e41cbb7b27": {
      "model_module": "@jupyter-widgets/controls",
      "model_module_version": "1.5.0",
      "model_name": "SliderStyleModel",
      "state": {
       "description_width": ""
      }
     },
     "a742c28925cd49c3a7c76fd4dfb1152c": {
      "model_module": "@jupyter-widgets/controls",
      "model_module_version": "1.5.0",
      "model_name": "LinkModel",
      "state": {
       "source": [
        "IPY_MODEL_be02670abc494bd0be84ea3b0c772d59",
        "max"
       ],
       "target": [
        "IPY_MODEL_d0db1731e3ab4a15a8bfda2d2b76db9a",
        "max_frame"
       ]
      }
     },
     "a7f2cce2b73e416b8cf112a763bdd5f0": {
      "model_module": "@jupyter-widgets/controls",
      "model_module_version": "1.5.0",
      "model_name": "ButtonStyleModel",
      "state": {}
     },
     "a891f28560aa4c15934a8e1bfdf137c2": {
      "model_module": "@jupyter-widgets/controls",
      "model_module_version": "1.5.0",
      "model_name": "ButtonStyleModel",
      "state": {}
     },
     "a8a472c3919a4e1fbf96264869a33106": {
      "model_module": "@jupyter-widgets/controls",
      "model_module_version": "1.5.0",
      "model_name": "DescriptionStyleModel",
      "state": {
       "description_width": ""
      }
     },
     "a94a52b69f8046eea25ba4c391b592b6": {
      "model_module": "@jupyter-widgets/controls",
      "model_module_version": "1.5.0",
      "model_name": "CheckboxModel",
      "state": {
       "description": "Show force",
       "disabled": false,
       "layout": "IPY_MODEL_33e1371912b44d77828e71267a78d588",
       "style": "IPY_MODEL_af21116acee34c8cae4fd2e8990614d5",
       "value": false
      }
     },
     "a9e73702c145436f900003c8a6c8687d": {
      "model_module": "@jupyter-widgets/base",
      "model_module_version": "1.2.0",
      "model_name": "LayoutModel",
      "state": {}
     },
     "a9eed66ebeae4f6486f90754d6e4a5db": {
      "model_module": "@jupyter-widgets/controls",
      "model_module_version": "1.5.0",
      "model_name": "LinkModel",
      "state": {
       "source": [
        "IPY_MODEL_f8f2d6859bba447abd9ec4b4563fae3d",
        "value"
       ],
       "target": [
        "IPY_MODEL_8b2c6597c90c4ea195f34c4b543c880c",
        "frame"
       ]
      }
     },
     "ab53fb55369a4498886eb07a06acf8d9": {
      "model_module": "@jupyter-widgets/controls",
      "model_module_version": "1.5.0",
      "model_name": "VBoxModel",
      "state": {
       "children": [
        "IPY_MODEL_076649ef8fe4485a9b14952f6f3aa1a1",
        "IPY_MODEL_9a0f820db1a54f1db69be3080a7112c9",
        "IPY_MODEL_e1704cae77234a33b06841fa3c4da907",
        "IPY_MODEL_37efbd6cc16b4af0a0635743363b4339",
        "IPY_MODEL_f8fccadb76b6459daacf22c17cea6289",
        "IPY_MODEL_53db911ccc864b1a87cfb3cb4eca0ed5",
        "IPY_MODEL_45a7611e728545c5a563caed87c7fa58",
        "IPY_MODEL_a202fccda73745829bc7c407ce057e27",
        "IPY_MODEL_7ee14cad10fa46e19ab499992063248f",
        "IPY_MODEL_b7e93ce49cc44a94992038327377dba2"
       ],
       "layout": "IPY_MODEL_bc78ac3d7ef44700bb6fa45074b2a760"
      }
     },
     "ab5aea3da62043b188d05e9ee9f66231": {
      "model_module": "@jupyter-widgets/controls",
      "model_module_version": "1.5.0",
      "model_name": "HBoxModel",
      "state": {
       "children": [
        "IPY_MODEL_552e32ef5cf54f71b38425de6196bb71",
        "IPY_MODEL_ebd38e3dda3e4efd913b414ab8adf6f2"
       ],
       "layout": "IPY_MODEL_811445b628ab403f9065576409cb72e8"
      }
     },
     "acab8ad2511c4ba3a5b3c97d5a49ba5b": {
      "model_module": "@jupyter-widgets/controls",
      "model_module_version": "1.5.0",
      "model_name": "DropdownModel",
      "state": {
       "_options_labels": [
        " ",
        "picking",
        "random",
        "uniform",
        "atomindex",
        "residueindex",
        "chainindex",
        "modelindex",
        "sstruc",
        "element",
        "resname",
        "bfactor",
        "hydrophobicity",
        "value",
        "volume",
        "occupancy"
       ],
       "description": "Color scheme",
       "index": 9,
       "layout": "IPY_MODEL_99a614b9700e43e39850f63bef3ea484",
       "style": "IPY_MODEL_e292dc17c7434fbbba76c0ef10561011"
      }
     },
     "ad58930220a84a4ba1cb5f8e46511e1f": {
      "model_module": "@jupyter-widgets/controls",
      "model_module_version": "1.5.0",
      "model_name": "HBoxModel",
      "state": {
       "children": [
        "IPY_MODEL_b8a92e06c4bd439bbc95e73e5196a04a",
        "IPY_MODEL_6932c1b77f90483483c6bbd886892667"
       ],
       "layout": "IPY_MODEL_49f1c161bd4f45abbbb43b22b0ba4155"
      }
     },
     "ad5c1dddbf6d4d4ab802311f893ca474": {
      "model_module": "@jupyter-widgets/controls",
      "model_module_version": "1.5.0",
      "model_name": "FloatSliderModel",
      "state": {
       "description": "Ball size",
       "layout": "IPY_MODEL_1d36bbd1613c46e4b9f42b9ea0c1979c",
       "max": 1.5,
       "step": 0.01,
       "style": "IPY_MODEL_78c4824a9d9146119c6bb5d75add3ecc",
       "value": 0.5
      }
     },
     "ad81809be0784f6d9c886f783f94f9e2": {
      "model_module": "@jupyter-widgets/controls",
      "model_module_version": "1.5.0",
      "model_name": "LinkModel",
      "state": {
       "source": [
        "IPY_MODEL_f8f2d6859bba447abd9ec4b4563fae3d",
        "max"
       ],
       "target": [
        "IPY_MODEL_8b2c6597c90c4ea195f34c4b543c880c",
        "max_frame"
       ]
      }
     },
     "ae2a9cddeb3d4dc297baf61419d05256": {
      "model_module": "@jupyter-widgets/controls",
      "model_module_version": "1.5.0",
      "model_name": "VBoxModel",
      "state": {
       "children": [
        "IPY_MODEL_c9702c5a80b04739835c2b72f788de95",
        "IPY_MODEL_acab8ad2511c4ba3a5b3c97d5a49ba5b",
        "IPY_MODEL_4bf76bd6c730476ea534537e2efdcf6b",
        "IPY_MODEL_3b5ef6a3cae74b7aaa8331615d00da79",
        "IPY_MODEL_fbe10536916f42f09052a5f672d4a323",
        "IPY_MODEL_98fe5d8394544aecab5ed4c8acdc6835",
        "IPY_MODEL_61c28278125444ab9f467abc31dd57f6",
        "IPY_MODEL_eefedd28d3024119b4ea81ef6c475e5e",
        "IPY_MODEL_6121400bc8554947bb7566a867f7f78a",
        "IPY_MODEL_d258292d9ace442a8ffbede8cab6a518"
       ],
       "layout": "IPY_MODEL_c8d80e21c88c41df9691d988c0974c03"
      }
     },
     "af168d907464408b8eba4d137ee16113": {
      "model_module": "@jupyter-widgets/controls",
      "model_module_version": "1.5.0",
      "model_name": "DescriptionStyleModel",
      "state": {
       "description_width": ""
      }
     },
     "af21116acee34c8cae4fd2e8990614d5": {
      "model_module": "@jupyter-widgets/controls",
      "model_module_version": "1.5.0",
      "model_name": "DescriptionStyleModel",
      "state": {
       "description_width": ""
      }
     },
     "b0271c6657f84b0abe718d60ea8c875c": {
      "model_module": "@jupyter-widgets/controls",
      "model_module_version": "1.5.0",
      "model_name": "ButtonModel",
      "state": {
       "icon": "compress",
       "layout": "IPY_MODEL_d5cb8a4bbfcd473ba1bc8784c847a317",
       "style": "IPY_MODEL_57cecf0e1330460e9e88f7997c9fe913"
      }
     },
     "b09125a15ca14bfbb50699a3ab59f46e": {
      "model_module": "@jupyter-widgets/controls",
      "model_module_version": "1.5.0",
      "model_name": "DescriptionStyleModel",
      "state": {
       "description_width": ""
      }
     },
     "b0ebd5d81219406eaa09ac9bec48afa8": {
      "model_module": "@jupyter-widgets/base",
      "model_module_version": "1.2.0",
      "model_name": "LayoutModel",
      "state": {}
     },
     "b194781ba95c448fba5c1d4f03dbcd8f": {
      "model_module": "@jupyter-widgets/controls",
      "model_module_version": "1.5.0",
      "model_name": "TextModel",
      "state": {
       "description": "Filename: ",
       "layout": "IPY_MODEL_072fa2c1df7c41ea8367fca9cb7757a3",
       "style": "IPY_MODEL_e26157c9d1d94724b899ed8eda53de57",
       "value": "screenshot.png"
      }
     },
     "b2394cd9cfae4198b91caafe88dc2ef7": {
      "model_module": "@jupyter-widgets/base",
      "model_module_version": "1.2.0",
      "model_name": "LayoutModel",
      "state": {}
     },
     "b30b1841550a4f3c8e041351be6c0f93": {
      "model_module": "@jupyter-widgets/base",
      "model_module_version": "1.2.0",
      "model_name": "LayoutModel",
      "state": {
       "border": "0px solid black"
      }
     },
     "b3d8066bf2a34068a8d883318f9ebe32": {
      "model_module": "@jupyter-widgets/base",
      "model_module_version": "1.2.0",
      "model_name": "LayoutModel",
      "state": {}
     },
     "b58a4ad3993f4b2c9b0d2dc3721094da": {
      "model_module": "@jupyter-widgets/controls",
      "model_module_version": "1.5.0",
      "model_name": "CheckboxModel",
      "state": {
       "description": "Show force",
       "disabled": false,
       "layout": "IPY_MODEL_4bd3eb2da897482ea3c0b4d4fd8a11da",
       "style": "IPY_MODEL_8e26c01bd91843769186af08bedaf059",
       "value": false
      }
     },
     "b638a2134dcc4e3396363e31b8e257a3": {
      "model_module": "@jupyter-widgets/controls",
      "model_module_version": "1.5.0",
      "model_name": "LinkModel",
      "state": {
       "source": [
        "IPY_MODEL_3e2f2032751f4808b62cf01c35062516",
        "value"
       ],
       "target": [
        "IPY_MODEL_d67d3939e46141a8836699a98b953c1c",
        "value"
       ]
      }
     },
     "b79e110036c7488f83bd503337e3f49e": {
      "model_module": "@jupyter-widgets/base",
      "model_module_version": "1.2.0",
      "model_name": "LayoutModel",
      "state": {}
     },
     "b7c005d5f71b4d9381316392231c556a": {
      "model_module": "@jupyter-widgets/controls",
      "model_module_version": "1.5.0",
      "model_name": "HBoxModel",
      "state": {
       "children": [
        "IPY_MODEL_6980abe6c89c4f0684eb69ad996e3405",
        "IPY_MODEL_e192cb027a594dca9089caa2ec316bb6"
       ],
       "layout": "IPY_MODEL_62dc229484b2408ca9a197bdbf4dd187"
      }
     },
     "b7e93ce49cc44a94992038327377dba2": {
      "model_module": "@jupyter-widgets/output",
      "model_module_version": "1.0.0",
      "model_name": "OutputModel",
      "state": {
       "layout": "IPY_MODEL_8f51f263200043db92bee1ce23c54805"
      }
     },
     "b7fe6b7cfc9345ee8ee158869370db5f": {
      "model_module": "@jupyter-widgets/controls",
      "model_module_version": "1.5.0",
      "model_name": "DescriptionStyleModel",
      "state": {
       "description_width": ""
      }
     },
     "b8a29d14045749e681188a1bd0f2b819": {
      "model_module": "@jupyter-widgets/controls",
      "model_module_version": "1.5.0",
      "model_name": "IntSliderModel",
      "state": {
       "layout": "IPY_MODEL_79dc8c58b3c64b1e8b8e57fdb76f0c8b",
       "max": 0,
       "style": "IPY_MODEL_8044d0bc4cf04ae9b434138313f3ae07"
      }
     },
     "b8a92e06c4bd439bbc95e73e5196a04a": {
      "model_module": "nglview-js-widgets",
      "model_module_version": "3.0.1",
      "model_name": "NGLModel",
      "state": {
       "_camera_orientation": [
        15.600423047052786,
        0,
        0,
        0,
        0,
        15.600423047052786,
        0,
        0,
        0,
        0,
        15.600423047052786,
        0,
        0.8285001516342163,
        -0.5859998464584351,
        -3.0439999103546143,
        1
       ],
       "_camera_str": "orthographic",
       "_gui_theme": null,
       "_ibtn_fullscreen": "IPY_MODEL_3aa9150672494855ba2785c6d73ba9d5",
       "_igui": null,
       "_iplayer": "IPY_MODEL_4f6bf4197e7b477e9e3c933bdb01f2a3",
       "_ngl_color_dict": {},
       "_ngl_coordinate_resource": {},
       "_ngl_full_stage_parameters": {
        "ambientColor": 14540253,
        "ambientIntensity": 0.2,
        "backgroundColor": "white",
        "cameraEyeSep": 0.3,
        "cameraFov": 40,
        "cameraType": "orthographic",
        "clipDist": 0,
        "clipFar": 100,
        "clipNear": 0,
        "fogFar": 100,
        "fogNear": 50,
        "hoverTimeout": 0,
        "impostor": true,
        "lightColor": 14540253,
        "lightIntensity": 1,
        "mousePreset": "default",
        "panSpeed": 1,
        "quality": "medium",
        "rotateSpeed": 2,
        "sampleLevel": 0,
        "tooltip": true,
        "workerDefault": true,
        "zoomSpeed": 1.2
       },
       "_ngl_msg_archive": [
        {
         "args": [
          {
           "binary": false,
           "data": "CRYST1    4.971    7.456    9.942 109.47 109.47 109.47 P 1\nMODEL     1\nATOM      1   Fe MOL     1       0.000   0.000   0.000  1.00  0.00          FE  \nATOM      2   Fe MOL     1      -0.828  -1.172   2.029  1.00  0.00          FE  \nATOM      3   Fe MOL     1      -1.657  -2.343   4.059  1.00  0.00          FE  \nATOM      4   Fe MOL     1      -2.485  -3.515   6.088  1.00  0.00          FE  \nATOM      5   Fe MOL     1      -0.828   2.343  -0.000  1.00  0.00          FE  \nATOM      6   Fe MOL     1      -1.657   1.172   2.029  1.00  0.00          FE  \nATOM      7   Fe MOL     1      -2.485   0.000   4.059  1.00  0.00          FE  \nATOM      8   Fe MOL     1      -3.314  -1.172   6.088  1.00  0.00          FE  \nATOM      9   Fe MOL     1      -1.657   4.687  -0.000  1.00  0.00          FE  \nATOM     10   Fe MOL     1      -2.485   3.515   2.029  1.00  0.00          FE  \nATOM     11   Fe MOL     1      -3.314   2.343   4.059  1.00  0.00          FE  \nATOM     12   Fe MOL     1      -4.142   1.172   6.088  1.00  0.00          FE  \nATOM     13   Fe MOL     1       2.485   0.000   0.000  1.00  0.00          FE  \nATOM     14   Fe MOL     1       1.657  -1.172   2.029  1.00  0.00          FE  \nATOM     15   Fe MOL     1       0.828  -2.343   4.059  1.00  0.00          FE  \nATOM     16   Fe MOL     1       0.000  -3.515   6.088  1.00  0.00          FE  \nATOM     17   Fe MOL     1       1.657   2.343  -0.000  1.00  0.00          FE  \nATOM     18   Fe MOL     1       0.828   1.172   2.029  1.00  0.00          FE  \nATOM     19   Fe MOL     1       0.000   0.000   4.059  1.00  0.00          FE  \nATOM     20   Fe MOL     1      -0.828  -1.172   6.088  1.00  0.00          FE  \nATOM     21   Fe MOL     1       0.828   4.687  -0.000  1.00  0.00          FE  \nATOM     22   Fe MOL     1       0.000   3.515   2.029  1.00  0.00          FE  \nATOM     23   Fe MOL     1      -0.828   2.343   4.059  1.00  0.00          FE  \nATOM     24   Fe MOL     1      -1.657   1.172   6.088  1.00  0.00          FE  \nENDMDL\n",
           "type": "blob"
          }
         ],
         "kwargs": {
          "defaultRepresentation": false,
          "ext": "pdb"
         },
         "methodName": "loadFile",
         "reconstruc_color_scheme": false,
         "target": "Stage",
         "type": "call_method"
        },
        {
         "args": [
          "400px",
          "300px"
         ],
         "kwargs": {},
         "methodName": "setSize",
         "reconstruc_color_scheme": false,
         "target": "Widget",
         "type": "call_method"
        },
        {
         "args": [
          "unitcell"
         ],
         "component_index": 0,
         "kwargs": {
          "sele": "all"
         },
         "methodName": "addRepresentation",
         "reconstruc_color_scheme": false,
         "target": "compList",
         "type": "call_method"
        },
        {
         "args": [
          "spacefill"
         ],
         "component_index": 0,
         "kwargs": {
          "sele": "all"
         },
         "methodName": "addRepresentation",
         "reconstruc_color_scheme": false,
         "target": "compList",
         "type": "call_method"
        },
        {
         "args": [],
         "kwargs": {
          "cameraType": "orthographic"
         },
         "methodName": "setParameters",
         "reconstruc_color_scheme": false,
         "target": "Stage",
         "type": "call_method"
        },
        {
         "args": [
          {
           "clipDist": 0
          }
         ],
         "kwargs": {},
         "methodName": "setParameters",
         "reconstruc_color_scheme": false,
         "target": "Widget",
         "type": "call_method"
        },
        {
         "args": [
          "spacefill",
          0
         ],
         "kwargs": {
          "colorScale": "rainbow",
          "colorScheme": "element",
          "radiusScale": 0.5,
          "radiusType": "covalent"
         },
         "methodName": "updateRepresentationsByName",
         "reconstruc_color_scheme": false,
         "target": "Widget",
         "type": "call_method"
        },
        {
         "args": [
          "this._Q = [[-0.5773502691896257, -0.5773502691896257, 0.5773502691896256], [0.4082482904638631, 0.408248290463863, 0.8164965809277261], [-0.7071067811865475, 0.7071067811865477, 1.8649311101977364e-16]]\n    var tooltip = document.createElement('div')\n    Object.assign(tooltip.style, {\n      display: 'none',\n      position: 'fixed',\n      zIndex: 10,\n      pointerEvents: 'none',\n      backgroundColor: 'rgba( 0, 0, 0, 0.6 )',\n      color: 'lightgrey',\n      padding: '8px',\n      fontFamily: 'sans-serif'\n    })\n    document.body.appendChild(tooltip)\n\n    var that = this\n    this.stage.mouseControls.remove('hoverPick')\n    this.stage.signals.hovered.add(function (pickingProxy) {\n      if (pickingProxy && (pickingProxy.atom || pickingProxy.bond)) {\n        var atom = pickingProxy.atom || pickingProxy.closestBondAtom\n        var mp = pickingProxy.mouse.position\n        //tooltip.innerText = atom.element + ' i=' + atom.index + ' (' + atom.x.toFixed(2) +  ', ' + atom.y.toFixed(2) +  ', ' + atom.z.toFixed(2) + ')'\n        //var pos = that._atoms_pos[atom.index]\n        var Q = that._Q\n        var pos_x = Q[0][0] * atom.x + Q[0][1] * atom.y + Q[0][2] * atom.z \n        var pos_y = Q[1][0] * atom.x + Q[1][1] * atom.y + Q[1][2] * atom.z\n        var pos_z = Q[2][0] * atom.x + Q[2][1] * atom.y + Q[2][2] * atom.z\n        tooltip.innerText = 'i=' + atom.index + ' ' + atom.element + ' (' + pos_x.toFixed(2) +  ', ' + pos_y.toFixed(2) +  ', ' + pos_z.toFixed(2) + ')'\n        tooltip.style.bottom = window.innerHeight - mp.y + 3 + 'px'\n        tooltip.style.left = mp.x + 3 + 'px'\n        tooltip.style.display = 'block'\n      } else {\n        tooltip.style.display = 'none'\n      }\n    })\n    "
         ],
         "kwargs": {},
         "methodName": "executeCode",
         "reconstruc_color_scheme": false,
         "target": "Widget",
         "type": "call_method"
        },
        {
         "args": [
          "ball+stick"
         ],
         "component_index": 0,
         "kwargs": {
          "sele": "all"
         },
         "methodName": "addRepresentation",
         "reconstruc_color_scheme": false,
         "target": "compList",
         "type": "call_method"
        }
       ],
       "_ngl_original_stage_parameters": {
        "ambientColor": 14540253,
        "ambientIntensity": 0.2,
        "backgroundColor": "white",
        "cameraEyeSep": 0.3,
        "cameraFov": 40,
        "cameraType": "perspective",
        "clipDist": 10,
        "clipFar": 100,
        "clipNear": 0,
        "fogFar": 100,
        "fogNear": 50,
        "hoverTimeout": 0,
        "impostor": true,
        "lightColor": 14540253,
        "lightIntensity": 1,
        "mousePreset": "default",
        "panSpeed": 1,
        "quality": "medium",
        "rotateSpeed": 2,
        "sampleLevel": 0,
        "tooltip": true,
        "workerDefault": true,
        "zoomSpeed": 1.2
       },
       "_ngl_repr_dict": {
        "0": {
         "0": {
          "params": {
           "clipCenter": {
            "x": 0,
            "y": 0,
            "z": 0
           },
           "clipNear": 0,
           "clipRadius": 0,
           "colorMode": "hcl",
           "colorReverse": false,
           "colorScale": "",
           "colorScheme": "element",
           "colorValue": "orange",
           "defaultAssembly": "",
           "depthWrite": true,
           "diffuse": 16777215,
           "diffuseInterior": false,
           "disableImpostor": false,
           "disablePicking": false,
           "flatShaded": false,
           "interiorColor": 2236962,
           "interiorDarkening": 0,
           "lazy": false,
           "matrix": {
            "elements": [
             1,
             0,
             0,
             0,
             0,
             1,
             0,
             0,
             0,
             0,
             1,
             0,
             0,
             0,
             0,
             1
            ]
           },
           "metalness": 0,
           "opacity": 1,
           "quality": "medium",
           "radialSegments": 10,
           "radiusData": {},
           "radiusScale": 1,
           "radiusSize": 0.03286151464600358,
           "radiusType": "vdw",
           "roughness": 0.4,
           "sele": "all",
           "side": "double",
           "sphereDetail": 1,
           "useInteriorColor": true,
           "visible": true,
           "wireframe": false
          },
          "type": "unitcell"
         },
         "1": {
          "params": {
           "assembly": "default",
           "clipCenter": {
            "x": 0,
            "y": 0,
            "z": 0
           },
           "clipNear": 0,
           "clipRadius": 0,
           "colorMode": "hcl",
           "colorReverse": false,
           "colorScale": "rainbow",
           "colorScheme": "element",
           "colorValue": 9474192,
           "defaultAssembly": "",
           "depthWrite": true,
           "diffuse": 16777215,
           "diffuseInterior": false,
           "disableImpostor": false,
           "disablePicking": false,
           "flatShaded": false,
           "interiorColor": 2236962,
           "interiorDarkening": 0,
           "lazy": false,
           "matrix": {
            "elements": [
             1,
             0,
             0,
             0,
             0,
             1,
             0,
             0,
             0,
             0,
             1,
             0,
             0,
             0,
             0,
             1
            ]
           },
           "metalness": 0,
           "opacity": 1,
           "quality": "medium",
           "radiusData": {},
           "radiusScale": 0.5,
           "radiusSize": 1,
           "radiusType": "covalent",
           "roughness": 0.4,
           "sele": "all",
           "side": "double",
           "sphereDetail": 1,
           "useInteriorColor": true,
           "visible": true,
           "wireframe": false
          },
          "type": "spacefill"
         },
         "2": {
          "params": {
           "aspectRatio": 2,
           "assembly": "default",
           "bondScale": 0.4,
           "bondSpacing": 1,
           "clipCenter": {
            "x": 0,
            "y": 0,
            "z": 0
           },
           "clipNear": 0,
           "clipRadius": 0,
           "colorMode": "hcl",
           "colorReverse": false,
           "colorScale": "",
           "colorScheme": "element",
           "colorValue": 9474192,
           "cylinderOnly": false,
           "defaultAssembly": "",
           "depthWrite": true,
           "diffuse": 16777215,
           "diffuseInterior": false,
           "disableImpostor": false,
           "disablePicking": false,
           "flatShaded": false,
           "interiorColor": 2236962,
           "interiorDarkening": 0,
           "lazy": false,
           "lineOnly": false,
           "linewidth": 2,
           "matrix": {
            "elements": [
             1,
             0,
             0,
             0,
             0,
             1,
             0,
             0,
             0,
             0,
             1,
             0,
             0,
             0,
             0,
             1
            ]
           },
           "metalness": 0,
           "multipleBond": "off",
           "opacity": 1,
           "openEnded": true,
           "quality": "medium",
           "radialSegments": 10,
           "radiusData": {},
           "radiusScale": 1,
           "radiusSize": 0.15,
           "radiusType": "size",
           "roughness": 0.4,
           "sele": "all",
           "side": "double",
           "sphereDetail": 1,
           "useInteriorColor": true,
           "visible": true,
           "wireframe": false
          },
          "type": "ball+stick"
         }
        }
       },
       "_ngl_serialize": false,
       "_ngl_version": "2.0.0-dev.36",
       "_ngl_view_id": [
        "F77E10F9-C05A-4402-ACD4-C8E5028D10AF"
       ],
       "_player_dict": {},
       "_scene_position": {},
       "_scene_rotation": {},
       "_synced_model_ids": [],
       "_synced_repr_model_ids": [],
       "_view_height": "",
       "_view_width": "",
       "background": "white",
       "frame": 0,
       "gui_style": null,
       "layout": "IPY_MODEL_bb7d708ee97e45048ce284c5cc93fcfa",
       "max_frame": 0,
       "n_components": 1,
       "picked": {}
      }
     },
     "b8d8e59b378042e89187708c128c793e": {
      "model_module": "@jupyter-widgets/controls",
      "model_module_version": "1.5.0",
      "model_name": "DropdownModel",
      "state": {
       "_options_labels": [
        "All",
        "H",
        "C",
        "O"
       ],
       "description": "Show",
       "index": 0,
       "layout": "IPY_MODEL_0a49d2243322446587a3c383e99f2035",
       "style": "IPY_MODEL_fe3916a240604ab1a1666db26ec7b518"
      }
     },
     "b94a62128d1b4e26984615bbf13e5a6b": {
      "model_module": "@jupyter-widgets/base",
      "model_module_version": "1.2.0",
      "model_name": "LayoutModel",
      "state": {}
     },
     "bb7d708ee97e45048ce284c5cc93fcfa": {
      "model_module": "@jupyter-widgets/base",
      "model_module_version": "1.2.0",
      "model_name": "LayoutModel",
      "state": {}
     },
     "bbcd847c1e8846148e00e873403b6b6a": {
      "model_module": "@jupyter-widgets/base",
      "model_module_version": "1.2.0",
      "model_name": "LayoutModel",
      "state": {}
     },
     "bbe32f1e55624a9bb84069a7f68eb3d8": {
      "model_module": "@jupyter-widgets/controls",
      "model_module_version": "1.5.0",
      "model_name": "ImageModel",
      "state": {
       "layout": "IPY_MODEL_4ef8d41a8e704b68ba8180eae9a17259",
       "width": "900.0"
      }
     },
     "bc021500de3447e98ab425108c5b978f": {
      "model_module": "@jupyter-widgets/controls",
      "model_module_version": "1.5.0",
      "model_name": "ButtonModel",
      "state": {
       "description": "Save image",
       "layout": "IPY_MODEL_6db49c0a6b78467c87dc63f9cae5b277",
       "style": "IPY_MODEL_a7f2cce2b73e416b8cf112a763bdd5f0",
       "tooltip": "Save current frame to file.\nCurrently .png and .html are supported.\nIt takes a bit time, please be patient."
      }
     },
     "bc78ac3d7ef44700bb6fa45074b2a760": {
      "model_module": "@jupyter-widgets/base",
      "model_module_version": "1.2.0",
      "model_name": "LayoutModel",
      "state": {}
     },
     "bcaba362b7334b7d9b9317d3d091f10d": {
      "model_module": "nglview-js-widgets",
      "model_module_version": "3.0.1",
      "model_name": "NGLModel",
      "state": {
       "_camera_orientation": [
        7.198836743477543,
        0,
        0,
        0,
        0,
        7.198836743477543,
        0,
        0,
        0,
        0,
        7.198836743477543,
        0,
        -0.20200002193450928,
        0.08449995517730713,
        0,
        1
       ],
       "_camera_str": "orthographic",
       "_gui_theme": null,
       "_ibtn_fullscreen": "IPY_MODEL_3f970d9d1a5b4c2883aac19eaafc7af7",
       "_igui": null,
       "_iplayer": "IPY_MODEL_90ee7451561f44aab4899b0a5521e732",
       "_ngl_color_dict": {},
       "_ngl_coordinate_resource": {},
       "_ngl_full_stage_parameters": {
        "ambientColor": 14540253,
        "ambientIntensity": 0.2,
        "backgroundColor": "white",
        "cameraEyeSep": 0.3,
        "cameraFov": 40,
        "cameraType": "orthographic",
        "clipDist": 0,
        "clipFar": 100,
        "clipNear": 0,
        "fogFar": 100,
        "fogNear": 50,
        "hoverTimeout": 0,
        "impostor": true,
        "lightColor": 14540253,
        "lightIntensity": 1,
        "mousePreset": "default",
        "panSpeed": 1,
        "quality": "medium",
        "rotateSpeed": 2,
        "sampleLevel": 0,
        "tooltip": true,
        "workerDefault": true,
        "zoomSpeed": 1.2
       },
       "_ngl_msg_archive": [
        {
         "args": [
          {
           "binary": false,
           "data": "MODEL     1\nATOM      1    O MOL     1       2.000   0.000   0.000  1.00  0.00           O  \nATOM      2    C MOL     1       0.000   0.464   0.000  1.00  0.00           C  \nATOM      3    H MOL     1      -0.477   1.465   0.000  1.00  0.00           H  \nATOM      4    C MOL     1      -0.948  -0.700   0.000  1.00  0.00           C  \nATOM      5    H MOL     1      -0.386  -1.634   0.000  1.00  0.00           H  \nATOM      6    H MOL     1      -1.596  -0.652   0.881  1.00  0.00           H  \nATOM      7    H MOL     1      -1.596  -0.652  -0.881  1.00  0.00           H  \nENDMDL\n",
           "type": "blob"
          }
         ],
         "kwargs": {
          "defaultRepresentation": false,
          "ext": "pdb"
         },
         "methodName": "loadFile",
         "reconstruc_color_scheme": false,
         "target": "Stage",
         "type": "call_method"
        },
        {
         "args": [
          "400px",
          "300px"
         ],
         "kwargs": {},
         "methodName": "setSize",
         "reconstruc_color_scheme": false,
         "target": "Widget",
         "type": "call_method"
        },
        {
         "args": [
          "unitcell"
         ],
         "component_index": 0,
         "kwargs": {
          "sele": "all"
         },
         "methodName": "addRepresentation",
         "reconstruc_color_scheme": false,
         "target": "compList",
         "type": "call_method"
        },
        {
         "args": [
          "spacefill"
         ],
         "component_index": 0,
         "kwargs": {
          "sele": "all"
         },
         "methodName": "addRepresentation",
         "reconstruc_color_scheme": false,
         "target": "compList",
         "type": "call_method"
        },
        {
         "args": [],
         "kwargs": {
          "cameraType": "orthographic"
         },
         "methodName": "setParameters",
         "reconstruc_color_scheme": false,
         "target": "Stage",
         "type": "call_method"
        },
        {
         "args": [
          {
           "clipDist": 0
          }
         ],
         "kwargs": {},
         "methodName": "setParameters",
         "reconstruc_color_scheme": false,
         "target": "Widget",
         "type": "call_method"
        },
        {
         "args": [
          "spacefill",
          0
         ],
         "kwargs": {
          "colorScale": "rainbow",
          "colorScheme": "element",
          "radiusScale": 0.5,
          "radiusType": "covalent"
         },
         "methodName": "updateRepresentationsByName",
         "reconstruc_color_scheme": false,
         "target": "Widget",
         "type": "call_method"
        },
        {
         "args": [
          "this._Q = [[1.0, 0.0, 0.0], [0.0, 1.0, 0.0], [0.0, 0.0, 1.0]]\n    var tooltip = document.createElement('div')\n    Object.assign(tooltip.style, {\n      display: 'none',\n      position: 'fixed',\n      zIndex: 10,\n      pointerEvents: 'none',\n      backgroundColor: 'rgba( 0, 0, 0, 0.6 )',\n      color: 'lightgrey',\n      padding: '8px',\n      fontFamily: 'sans-serif'\n    })\n    document.body.appendChild(tooltip)\n\n    var that = this\n    this.stage.mouseControls.remove('hoverPick')\n    this.stage.signals.hovered.add(function (pickingProxy) {\n      if (pickingProxy && (pickingProxy.atom || pickingProxy.bond)) {\n        var atom = pickingProxy.atom || pickingProxy.closestBondAtom\n        var mp = pickingProxy.mouse.position\n        //tooltip.innerText = atom.element + ' i=' + atom.index + ' (' + atom.x.toFixed(2) +  ', ' + atom.y.toFixed(2) +  ', ' + atom.z.toFixed(2) + ')'\n        //var pos = that._atoms_pos[atom.index]\n        var Q = that._Q\n        var pos_x = Q[0][0] * atom.x + Q[0][1] * atom.y + Q[0][2] * atom.z \n        var pos_y = Q[1][0] * atom.x + Q[1][1] * atom.y + Q[1][2] * atom.z\n        var pos_z = Q[2][0] * atom.x + Q[2][1] * atom.y + Q[2][2] * atom.z\n        tooltip.innerText = 'i=' + atom.index + ' ' + atom.element + ' (' + pos_x.toFixed(2) +  ', ' + pos_y.toFixed(2) +  ', ' + pos_z.toFixed(2) + ')'\n        tooltip.style.bottom = window.innerHeight - mp.y + 3 + 'px'\n        tooltip.style.left = mp.x + 3 + 'px'\n        tooltip.style.display = 'block'\n      } else {\n        tooltip.style.display = 'none'\n      }\n    })\n    "
         ],
         "kwargs": {},
         "methodName": "executeCode",
         "reconstruc_color_scheme": false,
         "target": "Widget",
         "type": "call_method"
        },
        {
         "args": [
          "ball+stick"
         ],
         "component_index": 0,
         "kwargs": {
          "sele": "all"
         },
         "methodName": "addRepresentation",
         "reconstruc_color_scheme": false,
         "target": "compList",
         "type": "call_method"
        }
       ],
       "_ngl_original_stage_parameters": {
        "ambientColor": 14540253,
        "ambientIntensity": 0.2,
        "backgroundColor": "white",
        "cameraEyeSep": 0.3,
        "cameraFov": 40,
        "cameraType": "perspective",
        "clipDist": 10,
        "clipFar": 100,
        "clipNear": 0,
        "fogFar": 100,
        "fogNear": 50,
        "hoverTimeout": 0,
        "impostor": true,
        "lightColor": 14540253,
        "lightIntensity": 1,
        "mousePreset": "default",
        "panSpeed": 1,
        "quality": "medium",
        "rotateSpeed": 2,
        "sampleLevel": 0,
        "tooltip": true,
        "workerDefault": true,
        "zoomSpeed": 1.2
       },
       "_ngl_repr_dict": {
        "0": {
         "0": {
          "params": {
           "clipCenter": {
            "x": 0,
            "y": 0,
            "z": 0
           },
           "clipNear": 0,
           "clipRadius": 0,
           "colorMode": "hcl",
           "colorReverse": false,
           "colorScale": "",
           "colorScheme": "element",
           "colorValue": "orange",
           "defaultAssembly": "",
           "depthWrite": true,
           "diffuse": 16777215,
           "diffuseInterior": false,
           "disableImpostor": false,
           "disablePicking": false,
           "flatShaded": false,
           "interiorColor": 2236962,
           "interiorDarkening": 0,
           "lazy": false,
           "matrix": {
            "elements": [
             1,
             0,
             0,
             0,
             0,
             1,
             0,
             0,
             0,
             0,
             1,
             0,
             0,
             0,
             0,
             1
            ]
           },
           "metalness": 0,
           "opacity": 1,
           "quality": "medium",
           "radialSegments": 10,
           "radiusData": {},
           "radiusScale": 1,
           "radiusSize": 0.5,
           "radiusType": "vdw",
           "roughness": 0.4,
           "sele": "all",
           "side": "double",
           "sphereDetail": 1,
           "useInteriorColor": true,
           "visible": true,
           "wireframe": false
          },
          "type": "unitcell"
         },
         "1": {
          "params": {
           "assembly": "default",
           "clipCenter": {
            "x": 0,
            "y": 0,
            "z": 0
           },
           "clipNear": 0,
           "clipRadius": 0,
           "colorMode": "hcl",
           "colorReverse": false,
           "colorScale": "rainbow",
           "colorScheme": "element",
           "colorValue": 9474192,
           "defaultAssembly": "",
           "depthWrite": true,
           "diffuse": 16777215,
           "diffuseInterior": false,
           "disableImpostor": false,
           "disablePicking": false,
           "flatShaded": false,
           "interiorColor": 2236962,
           "interiorDarkening": 0,
           "lazy": false,
           "matrix": {
            "elements": [
             1,
             0,
             0,
             0,
             0,
             1,
             0,
             0,
             0,
             0,
             1,
             0,
             0,
             0,
             0,
             1
            ]
           },
           "metalness": 0,
           "opacity": 1,
           "quality": "medium",
           "radiusData": {},
           "radiusScale": 0.5,
           "radiusSize": 1,
           "radiusType": "covalent",
           "roughness": 0.4,
           "sele": "all",
           "side": "double",
           "sphereDetail": 1,
           "useInteriorColor": true,
           "visible": true,
           "wireframe": false
          },
          "type": "spacefill"
         },
         "2": {
          "params": {
           "aspectRatio": 2,
           "assembly": "default",
           "bondScale": 0.4,
           "bondSpacing": 1,
           "clipCenter": {
            "x": 0,
            "y": 0,
            "z": 0
           },
           "clipNear": 0,
           "clipRadius": 0,
           "colorMode": "hcl",
           "colorReverse": false,
           "colorScale": "",
           "colorScheme": "element",
           "colorValue": 9474192,
           "cylinderOnly": false,
           "defaultAssembly": "",
           "depthWrite": true,
           "diffuse": 16777215,
           "diffuseInterior": false,
           "disableImpostor": false,
           "disablePicking": false,
           "flatShaded": false,
           "interiorColor": 2236962,
           "interiorDarkening": 0,
           "lazy": false,
           "lineOnly": false,
           "linewidth": 2,
           "matrix": {
            "elements": [
             1,
             0,
             0,
             0,
             0,
             1,
             0,
             0,
             0,
             0,
             1,
             0,
             0,
             0,
             0,
             1
            ]
           },
           "metalness": 0,
           "multipleBond": "off",
           "opacity": 1,
           "openEnded": true,
           "quality": "medium",
           "radialSegments": 10,
           "radiusData": {},
           "radiusScale": 1,
           "radiusSize": 0.15,
           "radiusType": "size",
           "roughness": 0.4,
           "sele": "all",
           "side": "double",
           "sphereDetail": 1,
           "useInteriorColor": true,
           "visible": true,
           "wireframe": false
          },
          "type": "ball+stick"
         }
        }
       },
       "_ngl_serialize": false,
       "_ngl_version": "2.0.0-dev.36",
       "_ngl_view_id": [
        "959829A8-D045-4B56-AE33-E4A48E904B9F"
       ],
       "_player_dict": {},
       "_scene_position": {},
       "_scene_rotation": {},
       "_synced_model_ids": [],
       "_synced_repr_model_ids": [],
       "_view_height": "",
       "_view_width": "",
       "background": "white",
       "frame": 0,
       "gui_style": null,
       "layout": "IPY_MODEL_ebe57bdee4d1414c83c96724be33c115",
       "max_frame": 0,
       "n_components": 1,
       "picked": {}
      }
     },
     "bccb84350b944d179c91e7962965ad8b": {
      "model_module": "@jupyter-widgets/controls",
      "model_module_version": "1.5.0",
      "model_name": "ButtonStyleModel",
      "state": {}
     },
     "bd3410b5b74345bc9bf95f92bd57a4fd": {
      "model_module": "@jupyter-widgets/controls",
      "model_module_version": "1.5.0",
      "model_name": "DropdownModel",
      "state": {
       "_options_labels": [
        " ",
        "picking",
        "random",
        "uniform",
        "atomindex",
        "residueindex",
        "chainindex",
        "modelindex",
        "sstruc",
        "element",
        "resname",
        "bfactor",
        "hydrophobicity",
        "value",
        "volume",
        "occupancy"
       ],
       "description": "Color scheme",
       "index": 9,
       "layout": "IPY_MODEL_c975158d05eb4e7a99517cc0c32be068",
       "style": "IPY_MODEL_004d09368c884fc7b423ca9c090a7774"
      }
     },
     "bdc0f6f411ba4949b2829003767b5cdf": {
      "model_module": "@jupyter-widgets/base",
      "model_module_version": "1.2.0",
      "model_name": "LayoutModel",
      "state": {}
     },
     "be02670abc494bd0be84ea3b0c772d59": {
      "model_module": "@jupyter-widgets/controls",
      "model_module_version": "1.5.0",
      "model_name": "PlayModel",
      "state": {
       "layout": "IPY_MODEL_cb37854126624f76ae4192392e0d06e2",
       "max": 0,
       "style": "IPY_MODEL_312a1bab15804cc7a8b217a68f75963a"
      }
     },
     "be09b3fd05754be1bdf11540c2284e0e": {
      "model_module": "@jupyter-widgets/base",
      "model_module_version": "1.2.0",
      "model_name": "LayoutModel",
      "state": {}
     },
     "be327d65d2d54f94a92bf2499c2a1c55": {
      "model_module": "@jupyter-widgets/controls",
      "model_module_version": "1.5.0",
      "model_name": "ImageModel",
      "state": {
       "layout": "IPY_MODEL_0ad1e6e7b2c04621bb7c4c4a155e7cd8",
       "width": "900.0"
      }
     },
     "bf6a98a3ce4d4e95bac03213c8c59f4d": {
      "model_module": "@jupyter-widgets/controls",
      "model_module_version": "1.5.0",
      "model_name": "DropdownModel",
      "state": {
       "_options_labels": [
        " ",
        "picking",
        "random",
        "uniform",
        "atomindex",
        "residueindex",
        "chainindex",
        "modelindex",
        "sstruc",
        "element",
        "resname",
        "bfactor",
        "hydrophobicity",
        "value",
        "volume",
        "occupancy"
       ],
       "description": "Color scheme",
       "index": 9,
       "layout": "IPY_MODEL_228033392dec4ce4b66b082685211b3c",
       "style": "IPY_MODEL_3e580ee1f989432a9bbe0c20ff487444"
      }
     },
     "c0439edf1a154ed7a9b203f63cac8db6": {
      "model_module": "@jupyter-widgets/base",
      "model_module_version": "1.2.0",
      "model_name": "LayoutModel",
      "state": {}
     },
     "c1b3b519dddd40e9bdbc3a2f054aa59c": {
      "model_module": "@jupyter-widgets/controls",
      "model_module_version": "1.5.0",
      "model_name": "TextModel",
      "state": {
       "description": "Filename: ",
       "layout": "IPY_MODEL_62b17b8c212e477eaff0610296663060",
       "style": "IPY_MODEL_7b23bc4fe9b64d3c8a031bc338d14b7d",
       "value": "screenshot.png"
      }
     },
     "c2ca40569fba4e8ab7b59517c949acf6": {
      "model_module": "@jupyter-widgets/controls",
      "model_module_version": "1.5.0",
      "model_name": "LinkModel",
      "state": {
       "source": [
        "IPY_MODEL_02cba04226c14200a80c699900daa961",
        "max"
       ],
       "target": [
        "IPY_MODEL_7a1982e7c2f9478897ea075ce5dc6142",
        "max_frame"
       ]
      }
     },
     "c37669a90da548388c52ff95337ab667": {
      "model_module": "@jupyter-widgets/base",
      "model_module_version": "1.2.0",
      "model_name": "LayoutModel",
      "state": {}
     },
     "c3a9c2b4f8b14a148968c330125d7502": {
      "model_module": "@jupyter-widgets/controls",
      "model_module_version": "1.5.0",
      "model_name": "DescriptionStyleModel",
      "state": {
       "description_width": ""
      }
     },
     "c4c3a5803b844669bb4a8fe89e96b759": {
      "model_module": "@jupyter-widgets/controls",
      "model_module_version": "1.5.0",
      "model_name": "FloatSliderModel",
      "state": {
       "description": "Ball size",
       "layout": "IPY_MODEL_8b14b1a06c694eb2881dcd3c18d30f20",
       "max": 1.5,
       "step": 0.01,
       "style": "IPY_MODEL_47b41d7e0598481fa885e11a7066f9dc",
       "value": 0.5
      }
     },
     "c55c5fe4790a498893a45578cc150fb6": {
      "model_module": "@jupyter-widgets/controls",
      "model_module_version": "1.5.0",
      "model_name": "HBoxModel",
      "state": {
       "children": [
        "IPY_MODEL_326cd65913a4430c97e19771c6879c1c",
        "IPY_MODEL_326332480c174ebba38f19c80cb22fb5"
       ],
       "layout": "IPY_MODEL_1d2ef367b7a9425398bbcba21c2eacef"
      }
     },
     "c5e3322032834541ada4eaa08d686de3": {
      "model_module": "@jupyter-widgets/controls",
      "model_module_version": "1.5.0",
      "model_name": "IntSliderModel",
      "state": {
       "layout": "IPY_MODEL_4472e3ac206546de9702b5f66c117089",
       "max": 0,
       "style": "IPY_MODEL_ee352ca735894d079eeb494dfe64df97"
      }
     },
     "c6747a7132364c58987090eac152fc89": {
      "model_module": "@jupyter-widgets/base",
      "model_module_version": "1.2.0",
      "model_name": "LayoutModel",
      "state": {}
     },
     "c6efd52c95bf49b89d19ab32c3e10693": {
      "model_module": "@jupyter-widgets/base",
      "model_module_version": "1.2.0",
      "model_name": "LayoutModel",
      "state": {}
     },
     "c7293e9e0276477583edb152e1b0cb14": {
      "model_module": "@jupyter-widgets/controls",
      "model_module_version": "1.5.0",
      "model_name": "FloatSliderModel",
      "state": {
       "description": "Force scale",
       "layout": "IPY_MODEL_13da07dd78f14744849e792f518f281f",
       "step": 0.1,
       "style": "IPY_MODEL_5b6bbc92e1d3415d8099065bbb4d958f",
       "value": 0.5
      }
     },
     "c7e8d7c12e8a4720ba5d56b936b653f1": {
      "model_module": "@jupyter-widgets/controls",
      "model_module_version": "1.5.0",
      "model_name": "LinkModel",
      "state": {
       "source": [
        "IPY_MODEL_1f1e69aca6b74a0fb9f9b9205b8eab8d",
        "max"
       ],
       "target": [
        "IPY_MODEL_326cd65913a4430c97e19771c6879c1c",
        "max_frame"
       ]
      }
     },
     "c8173dfd82124706ba8620ed10db2e3c": {
      "model_module": "@jupyter-widgets/controls",
      "model_module_version": "1.5.0",
      "model_name": "CheckboxModel",
      "state": {
       "description": "Show charge",
       "disabled": false,
       "layout": "IPY_MODEL_220c60783b084ffb9971d0b864473e54",
       "style": "IPY_MODEL_d2930eb9646f428c8ecbfe06d13822e5",
       "value": false
      }
     },
     "c8390b038c7a4d5daf8ab83d0d751982": {
      "model_module": "@jupyter-widgets/controls",
      "model_module_version": "1.5.0",
      "model_name": "LinkModel",
      "state": {
       "source": [
        "IPY_MODEL_552e32ef5cf54f71b38425de6196bb71",
        "value"
       ],
       "target": [
        "IPY_MODEL_ebd38e3dda3e4efd913b414ab8adf6f2",
        "value"
       ]
      }
     },
     "c8d80e21c88c41df9691d988c0974c03": {
      "model_module": "@jupyter-widgets/base",
      "model_module_version": "1.2.0",
      "model_name": "LayoutModel",
      "state": {}
     },
     "c903a4c4001e416eb8c7c30bcd0aad4a": {
      "model_module": "@jupyter-widgets/controls",
      "model_module_version": "1.5.0",
      "model_name": "DropdownModel",
      "state": {
       "_options_labels": [
        "All",
        "Si"
       ],
       "description": "Show",
       "index": 0,
       "layout": "IPY_MODEL_8f9240478eda49f7aa23c72de8640591",
       "style": "IPY_MODEL_4795ae4f6a424f228b189c61ca780dee"
      }
     },
     "c9702c5a80b04739835c2b72f788de95": {
      "model_module": "@jupyter-widgets/controls",
      "model_module_version": "1.5.0",
      "model_name": "DropdownModel",
      "state": {
       "_options_labels": [
        "All",
        "Si"
       ],
       "description": "Show",
       "index": 0,
       "layout": "IPY_MODEL_5b5c42d3a66e4b89a62d7fed377fedc4",
       "style": "IPY_MODEL_2675aea23f794d45a3620482ddfe52dd"
      }
     },
     "c975158d05eb4e7a99517cc0c32be068": {
      "model_module": "@jupyter-widgets/base",
      "model_module_version": "1.2.0",
      "model_name": "LayoutModel",
      "state": {}
     },
     "c97f4fe8e890466589253c15c0f70458": {
      "model_module": "@jupyter-widgets/controls",
      "model_module_version": "1.5.0",
      "model_name": "ImageModel",
      "state": {
       "layout": "IPY_MODEL_1969871f6d6949f8ac8fd70c47569ed2",
       "width": "900.0"
      }
     },
     "ca4f8ae4fc794349babec57845b44e37": {
      "model_module": "@jupyter-widgets/controls",
      "model_module_version": "1.5.0",
      "model_name": "FloatSliderModel",
      "state": {
       "description": "Charge scale",
       "layout": "IPY_MODEL_e0f4ff02962443e0acebfe4f6308d3a0",
       "step": 0.1,
       "style": "IPY_MODEL_35b81cccfbdb426bb9e3ddcb61ca36a6",
       "value": 1
      }
     },
     "cb37854126624f76ae4192392e0d06e2": {
      "model_module": "@jupyter-widgets/base",
      "model_module_version": "1.2.0",
      "model_name": "LayoutModel",
      "state": {}
     },
     "cbf35bf16aec47b1bd5fcc85a60ea3f1": {
      "model_module": "@jupyter-widgets/controls",
      "model_module_version": "1.5.0",
      "model_name": "SliderStyleModel",
      "state": {
       "description_width": ""
      }
     },
     "cc01982510ff4be180e4ba9b109a3961": {
      "model_module": "@jupyter-widgets/base",
      "model_module_version": "1.2.0",
      "model_name": "LayoutModel",
      "state": {}
     },
     "cc690ba1bcd84743b6a9b1ef63dc3344": {
      "model_module": "@jupyter-widgets/controls",
      "model_module_version": "1.5.0",
      "model_name": "DropdownModel",
      "state": {
       "_options_labels": [
        " ",
        "picking",
        "random",
        "uniform",
        "atomindex",
        "residueindex",
        "chainindex",
        "modelindex",
        "sstruc",
        "element",
        "resname",
        "bfactor",
        "hydrophobicity",
        "value",
        "volume",
        "occupancy"
       ],
       "description": "Color scheme",
       "index": 9,
       "layout": "IPY_MODEL_6b25f54103d8479d80a2b57f8875a08e",
       "style": "IPY_MODEL_4e1f6ccec9da43d1928b0c47e722f830"
      }
     },
     "cd24ac4407304f169bd8527f731c38fe": {
      "model_module": "@jupyter-widgets/base",
      "model_module_version": "1.2.0",
      "model_name": "LayoutModel",
      "state": {}
     },
     "ce3bbf983fd24b149a9b8a2d23d29b32": {
      "model_module": "@jupyter-widgets/base",
      "model_module_version": "1.2.0",
      "model_name": "LayoutModel",
      "state": {}
     },
     "ce5bb5e6c7294afebdd924e59f55a711": {
      "model_module": "@jupyter-widgets/output",
      "model_module_version": "1.0.0",
      "model_name": "OutputModel",
      "state": {
       "layout": "IPY_MODEL_2df2aeb2c8654d328f093f3526793b80"
      }
     },
     "cfa61d56f67c4433904f8d190820edf2": {
      "model_module": "@jupyter-widgets/controls",
      "model_module_version": "1.5.0",
      "model_name": "CheckboxModel",
      "state": {
       "description": "Show charge",
       "disabled": false,
       "layout": "IPY_MODEL_da45d6524b34455cb1ad2c91ced67725",
       "style": "IPY_MODEL_3d10698e2eb24f239641ae93569c685d",
       "value": false
      }
     },
     "d02c9e6ca01a4377914adff322f5b955": {
      "model_module": "@jupyter-widgets/controls",
      "model_module_version": "1.5.0",
      "model_name": "FloatSliderModel",
      "state": {
       "description": "Ball size",
       "layout": "IPY_MODEL_edc04c6eecec48048251b29dc63ccfa8",
       "max": 1.5,
       "step": 0.01,
       "style": "IPY_MODEL_52f525d31c474687af77abe07a4741c1",
       "value": 0.5
      }
     },
     "d05e932249d843b9bb537b2048894bee": {
      "model_module": "@jupyter-widgets/base",
      "model_module_version": "1.2.0",
      "model_name": "LayoutModel",
      "state": {
       "border": "0px solid black"
      }
     },
     "d0db1731e3ab4a15a8bfda2d2b76db9a": {
      "model_module": "nglview-js-widgets",
      "model_module_version": "3.0.1",
      "model_name": "NGLModel",
      "state": {
       "_camera_orientation": [
        29.881018508065516,
        0,
        0,
        0,
        0,
        29.881018508065516,
        0,
        0,
        0,
        0,
        29.881018508065516,
        0,
        -10.603000283241272,
        -6.9675001204013824,
        -6.2315002251416445,
        1
       ],
       "_camera_str": "orthographic",
       "_gui_theme": null,
       "_ibtn_fullscreen": "IPY_MODEL_a57d591969ba4caaabae7c9e8b68b259",
       "_igui": null,
       "_iplayer": "IPY_MODEL_6e128079f39b473f92bfc223ccc96d1c",
       "_ngl_color_dict": {},
       "_ngl_coordinate_resource": {},
       "_ngl_full_stage_parameters": {
        "ambientColor": 14540253,
        "ambientIntensity": 0.2,
        "backgroundColor": "white",
        "cameraEyeSep": 0.3,
        "cameraFov": 40,
        "cameraType": "orthographic",
        "clipDist": 0,
        "clipFar": 100,
        "clipNear": 0,
        "fogFar": 100,
        "fogNear": 50,
        "hoverTimeout": 0,
        "impostor": true,
        "lightColor": 14540253,
        "lightIntensity": 1,
        "mousePreset": "default",
        "panSpeed": 1,
        "quality": "medium",
        "rotateSpeed": 2,
        "sampleLevel": 0,
        "tooltip": true,
        "workerDefault": true,
        "zoomSpeed": 1.2
       },
       "_ngl_msg_archive": [
        {
         "args": [
          {
           "binary": false,
           "data": "CRYST1    7.679   11.519   15.358  60.00  60.00  60.00 P 1\nMODEL     1\nATOM      1   Si MOL     1       5.789   9.688   0.035  1.00  0.00          SI  \nATOM      2   Si MOL     1       2.141   1.112   0.722  1.00  0.00          SI  \nATOM      3   Si MOL     1       7.739  11.099   3.241  1.00  0.00          SI  \nATOM      4   Si MOL     1       3.827   2.048   3.942  1.00  0.00          SI  \nATOM      5   Si MOL     1       9.598  12.116   6.069  1.00  0.00          SI  \nATOM      6   Si MOL     1       5.572   3.470   6.856  1.00  0.00          SI  \nATOM      7   Si MOL     1      19.065  13.135   9.423  1.00  0.00          SI  \nATOM      8   Si MOL     1       8.230   4.531  10.192  1.00  0.00          SI  \nATOM      9   Si MOL     1       9.358   3.225   0.139  1.00  0.00          SI  \nATOM     10   Si MOL     1       3.785   4.297   0.880  1.00  0.00          SI  \nATOM     11   Si MOL     1      11.173   4.396   3.452  1.00  0.00          SI  \nATOM     12   Si MOL     1       5.627   5.545   3.790  1.00  0.00          SI  \nATOM     13   Si MOL     1      13.261   5.412   6.540  1.00  0.00          SI  \nATOM     14   Si MOL     1       7.404   6.863   6.936  1.00  0.00          SI  \nATOM     15   Si MOL     1       7.839   6.524   9.075  1.00  0.00          SI  \nATOM     16   Si MOL     1      10.002   7.617  10.170  1.00  0.00          SI  \nATOM     17   Si MOL     1      18.820  11.296  12.390  1.00  0.00          SI  \nATOM     18   Si MOL     1       5.638   7.947   0.887  1.00  0.00          SI  \nATOM     19   Si MOL     1       5.923   7.823   2.969  1.00  0.00          SI  \nATOM     20   Si MOL     1       7.807   8.798   3.873  1.00  0.00          SI  \nATOM     21   Si MOL     1       8.099   9.238   6.225  1.00  0.00          SI  \nATOM     22   Si MOL     1       9.704   9.859   7.021  1.00  0.00          SI  \nATOM     23   Si MOL     1      17.499  10.279   9.596  1.00  0.00          SI  \nATOM     24   Si MOL     1      11.394  10.791  10.032  1.00  0.00          SI  \nATOM     25   Si MOL     1       9.452   9.680   0.167  1.00  0.00          SI  \nATOM     26   Si MOL     1       5.837   0.800   1.008  1.00  0.00          SI  \nATOM     27   Si MOL     1       5.643   1.475   3.111  1.00  0.00          SI  \nATOM     28   Si MOL     1       7.765   2.050   3.683  1.00  0.00          SI  \nATOM     29   Si MOL     1      13.333  11.878   6.642  1.00  0.00          SI  \nATOM     30   Si MOL     1       9.360   3.072   6.952  1.00  0.00          SI  \nATOM     31   Si MOL     1      15.485  12.861   9.406  1.00  0.00          SI  \nATOM     32   Si MOL     1      11.664   4.283  10.329  1.00  0.00          SI  \nATOM     33   Si MOL     1      13.452   8.007  12.068  1.00  0.00          SI  \nATOM     34   Si MOL     1       7.850   4.809   0.680  1.00  0.00          SI  \nATOM     35   Si MOL     1       7.607   4.374   3.058  1.00  0.00          SI  \nATOM     36   Si MOL     1       9.418   5.595   4.127  1.00  0.00          SI  \nATOM     37   Si MOL     1       9.291   6.011   6.160  1.00  0.00          SI  \nATOM     38   Si MOL     1      11.841   6.723   6.882  1.00  0.00          SI  \nATOM     39   Si MOL     1      11.393   6.708   9.168  1.00  0.00          SI  \nATOM     40   Si MOL     1      13.598   7.833   9.881  1.00  0.00          SI  \nATOM     41   Si MOL     1      15.361  11.519  12.428  1.00  0.00          SI  \nATOM     42   Si MOL     1       9.653   7.839   0.822  1.00  0.00          SI  \nATOM     43   Si MOL     1       9.650   7.702   3.114  1.00  0.00          SI  \nATOM     44   Si MOL     1      11.467   9.049   3.897  1.00  0.00          SI  \nATOM     45   Si MOL     1      11.340   8.748   6.316  1.00  0.00          SI  \nATOM     46   Si MOL     1      13.300  10.265   7.119  1.00  0.00          SI  \nATOM     47   Si MOL     1      13.249  10.196   9.916  1.00  0.00          SI  \nATOM     48   Si MOL     1      15.124  11.104  10.168  1.00  0.00          SI  \nENDMDL\n",
           "type": "blob"
          }
         ],
         "kwargs": {
          "defaultRepresentation": false,
          "ext": "pdb"
         },
         "methodName": "loadFile",
         "reconstruc_color_scheme": false,
         "target": "Stage",
         "type": "call_method"
        },
        {
         "args": [
          "400px",
          "300px"
         ],
         "kwargs": {},
         "methodName": "setSize",
         "reconstruc_color_scheme": false,
         "target": "Widget",
         "type": "call_method"
        },
        {
         "args": [
          "unitcell"
         ],
         "component_index": 0,
         "kwargs": {
          "sele": "all"
         },
         "methodName": "addRepresentation",
         "reconstruc_color_scheme": false,
         "target": "compList",
         "type": "call_method"
        },
        {
         "args": [
          "spacefill"
         ],
         "component_index": 0,
         "kwargs": {
          "sele": "all"
         },
         "methodName": "addRepresentation",
         "reconstruc_color_scheme": false,
         "target": "compList",
         "type": "call_method"
        },
        {
         "args": [],
         "kwargs": {
          "cameraType": "orthographic"
         },
         "methodName": "setParameters",
         "reconstruc_color_scheme": false,
         "target": "Stage",
         "type": "call_method"
        },
        {
         "args": [
          {
           "clipDist": 0
          }
         ],
         "kwargs": {},
         "methodName": "setParameters",
         "reconstruc_color_scheme": false,
         "target": "Widget",
         "type": "call_method"
        },
        {
         "args": [
          "spacefill",
          0
         ],
         "kwargs": {
          "colorScale": "rainbow",
          "colorScheme": "element",
          "radiusScale": 0.5,
          "radiusType": "covalent"
         },
         "methodName": "updateRepresentationsByName",
         "reconstruc_color_scheme": false,
         "target": "Widget",
         "type": "call_method"
        },
        {
         "args": [
          "this._Q = [[-0.0, 0.7071067811865476, 0.7071067811865476], [0.816496580927726, -0.40824829046386285, 0.40824829046386296], [0.5773502691896257, 0.5773502691896258, -0.5773502691896257]]\n    var tooltip = document.createElement('div')\n    Object.assign(tooltip.style, {\n      display: 'none',\n      position: 'fixed',\n      zIndex: 10,\n      pointerEvents: 'none',\n      backgroundColor: 'rgba( 0, 0, 0, 0.6 )',\n      color: 'lightgrey',\n      padding: '8px',\n      fontFamily: 'sans-serif'\n    })\n    document.body.appendChild(tooltip)\n\n    var that = this\n    this.stage.mouseControls.remove('hoverPick')\n    this.stage.signals.hovered.add(function (pickingProxy) {\n      if (pickingProxy && (pickingProxy.atom || pickingProxy.bond)) {\n        var atom = pickingProxy.atom || pickingProxy.closestBondAtom\n        var mp = pickingProxy.mouse.position\n        //tooltip.innerText = atom.element + ' i=' + atom.index + ' (' + atom.x.toFixed(2) +  ', ' + atom.y.toFixed(2) +  ', ' + atom.z.toFixed(2) + ')'\n        //var pos = that._atoms_pos[atom.index]\n        var Q = that._Q\n        var pos_x = Q[0][0] * atom.x + Q[0][1] * atom.y + Q[0][2] * atom.z \n        var pos_y = Q[1][0] * atom.x + Q[1][1] * atom.y + Q[1][2] * atom.z\n        var pos_z = Q[2][0] * atom.x + Q[2][1] * atom.y + Q[2][2] * atom.z\n        tooltip.innerText = 'i=' + atom.index + ' ' + atom.element + ' (' + pos_x.toFixed(2) +  ', ' + pos_y.toFixed(2) +  ', ' + pos_z.toFixed(2) + ')'\n        tooltip.style.bottom = window.innerHeight - mp.y + 3 + 'px'\n        tooltip.style.left = mp.x + 3 + 'px'\n        tooltip.style.display = 'block'\n      } else {\n        tooltip.style.display = 'none'\n      }\n    })\n    "
         ],
         "kwargs": {},
         "methodName": "executeCode",
         "reconstruc_color_scheme": false,
         "target": "Widget",
         "type": "call_method"
        }
       ],
       "_ngl_original_stage_parameters": {
        "ambientColor": 14540253,
        "ambientIntensity": 0.2,
        "backgroundColor": "white",
        "cameraEyeSep": 0.3,
        "cameraFov": 40,
        "cameraType": "perspective",
        "clipDist": 10,
        "clipFar": 100,
        "clipNear": 0,
        "fogFar": 100,
        "fogNear": 50,
        "hoverTimeout": 0,
        "impostor": true,
        "lightColor": 14540253,
        "lightIntensity": 1,
        "mousePreset": "default",
        "panSpeed": 1,
        "quality": "medium",
        "rotateSpeed": 2,
        "sampleLevel": 0,
        "tooltip": true,
        "workerDefault": true,
        "zoomSpeed": 1.2
       },
       "_ngl_repr_dict": {
        "0": {
         "0": {
          "params": {
           "clipCenter": {
            "x": 0,
            "y": 0,
            "z": 0
           },
           "clipNear": 0,
           "clipRadius": 0,
           "colorMode": "hcl",
           "colorReverse": false,
           "colorScale": "",
           "colorScheme": "element",
           "colorValue": "orange",
           "defaultAssembly": "",
           "depthWrite": true,
           "diffuse": 16777215,
           "diffuseInterior": false,
           "disableImpostor": false,
           "disablePicking": false,
           "flatShaded": false,
           "interiorColor": 2236962,
           "interiorDarkening": 0,
           "lazy": false,
           "matrix": {
            "elements": [
             1,
             0,
             0,
             0,
             0,
             1,
             0,
             0,
             0,
             0,
             1,
             0,
             0,
             0,
             0,
             1
            ]
           },
           "metalness": 0,
           "opacity": 1,
           "quality": "medium",
           "radialSegments": 10,
           "radiusData": {},
           "radiusScale": 1,
           "radiusSize": 0.04933016296568518,
           "radiusType": "vdw",
           "roughness": 0.4,
           "sele": "all",
           "side": "double",
           "sphereDetail": 1,
           "useInteriorColor": true,
           "visible": true,
           "wireframe": false
          },
          "type": "unitcell"
         },
         "1": {
          "params": {
           "assembly": "default",
           "clipCenter": {
            "x": 0,
            "y": 0,
            "z": 0
           },
           "clipNear": 0,
           "clipRadius": 0,
           "colorMode": "hcl",
           "colorReverse": false,
           "colorScale": "rainbow",
           "colorScheme": "element",
           "colorValue": 9474192,
           "defaultAssembly": "",
           "depthWrite": true,
           "diffuse": 16777215,
           "diffuseInterior": false,
           "disableImpostor": false,
           "disablePicking": false,
           "flatShaded": false,
           "interiorColor": 2236962,
           "interiorDarkening": 0,
           "lazy": false,
           "matrix": {
            "elements": [
             1,
             0,
             0,
             0,
             0,
             1,
             0,
             0,
             0,
             0,
             1,
             0,
             0,
             0,
             0,
             1
            ]
           },
           "metalness": 0,
           "opacity": 1,
           "quality": "medium",
           "radiusData": {},
           "radiusScale": 0.5,
           "radiusSize": 1,
           "radiusType": "covalent",
           "roughness": 0.4,
           "sele": "all",
           "side": "double",
           "sphereDetail": 1,
           "useInteriorColor": true,
           "visible": true,
           "wireframe": false
          },
          "type": "spacefill"
         }
        }
       },
       "_ngl_serialize": false,
       "_ngl_version": "2.0.0-dev.36",
       "_ngl_view_id": [
        "52755C50-7A31-4480-8683-FDDB1D7FA470"
       ],
       "_player_dict": {},
       "_scene_position": {},
       "_scene_rotation": {},
       "_synced_model_ids": [],
       "_synced_repr_model_ids": [],
       "_view_height": "",
       "_view_width": "",
       "background": "white",
       "frame": 0,
       "gui_style": null,
       "layout": "IPY_MODEL_fd63f39017c94e1b8c4b5f8ff7171869",
       "max_frame": 0,
       "n_components": 1,
       "picked": {}
      }
     },
     "d0ebd47a322049b48d2155c286583022": {
      "model_module": "@jupyter-widgets/controls",
      "model_module_version": "1.5.0",
      "model_name": "DescriptionStyleModel",
      "state": {
       "description_width": ""
      }
     },
     "d216491e33e44720b539f5f1dd5af390": {
      "model_module": "@jupyter-widgets/controls",
      "model_module_version": "1.5.0",
      "model_name": "LinkModel",
      "state": {
       "source": [
        "IPY_MODEL_552e32ef5cf54f71b38425de6196bb71",
        "value"
       ],
       "target": [
        "IPY_MODEL_0a9eab27b04b43d8ae611e0af5ea9d5c",
        "frame"
       ]
      }
     },
     "d258292d9ace442a8ffbede8cab6a518": {
      "model_module": "@jupyter-widgets/output",
      "model_module_version": "1.0.0",
      "model_name": "OutputModel",
      "state": {
       "layout": "IPY_MODEL_0aa83e3c91074b2ea6f413d2b999acec"
      }
     },
     "d2930eb9646f428c8ecbfe06d13822e5": {
      "model_module": "@jupyter-widgets/controls",
      "model_module_version": "1.5.0",
      "model_name": "DescriptionStyleModel",
      "state": {
       "description_width": ""
      }
     },
     "d2bfa319b1ed46b1afb6294385df84e5": {
      "model_module": "@jupyter-widgets/controls",
      "model_module_version": "1.5.0",
      "model_name": "FloatSliderModel",
      "state": {
       "description": "Force scale",
       "layout": "IPY_MODEL_28e313ca9b194cfb859a1c7fbb1cc66b",
       "step": 0.1,
       "style": "IPY_MODEL_66e67e067af24cf4be7be1b86411486c",
       "value": 0.5
      }
     },
     "d39f7a9d1e724e6fb61d326b594010da": {
      "model_module": "@jupyter-widgets/controls",
      "model_module_version": "1.5.0",
      "model_name": "DescriptionStyleModel",
      "state": {
       "description_width": ""
      }
     },
     "d485a9ea7add4ba8b7a215b13900b3c1": {
      "model_module": "@jupyter-widgets/base",
      "model_module_version": "1.2.0",
      "model_name": "LayoutModel",
      "state": {}
     },
     "d5409a0848e94e1cb649e5765505691e": {
      "model_module": "@jupyter-widgets/output",
      "model_module_version": "1.0.0",
      "model_name": "OutputModel",
      "state": {
       "layout": "IPY_MODEL_b30b1841550a4f3c8e041351be6c0f93"
      }
     },
     "d5975694928b4f6892022160ce350e6f": {
      "model_module": "@jupyter-widgets/controls",
      "model_module_version": "1.5.0",
      "model_name": "DescriptionStyleModel",
      "state": {
       "description_width": ""
      }
     },
     "d5cb8a4bbfcd473ba1bc8784c847a317": {
      "model_module": "@jupyter-widgets/base",
      "model_module_version": "1.2.0",
      "model_name": "LayoutModel",
      "state": {
       "width": "34px"
      }
     },
     "d662d02803da446285d7c4f88c818a21": {
      "model_module": "@jupyter-widgets/controls",
      "model_module_version": "1.5.0",
      "model_name": "FloatSliderModel",
      "state": {
       "description": "Charge scale",
       "layout": "IPY_MODEL_4813552753654747ab36d4362adbe706",
       "step": 0.1,
       "style": "IPY_MODEL_2196c6742cba4aacbfb2b6fe146befc1",
       "value": 1
      }
     },
     "d67d3939e46141a8836699a98b953c1c": {
      "model_module": "@jupyter-widgets/controls",
      "model_module_version": "1.5.0",
      "model_name": "IntSliderModel",
      "state": {
       "layout": "IPY_MODEL_7394c7a8f2324f2e96b073b48e0766cf",
       "max": 0,
       "style": "IPY_MODEL_68924b6dd9094feb8477743cf05d5833"
      }
     },
     "d6d881099db44d06b95a0dcaf1ef7a7b": {
      "model_module": "@jupyter-widgets/base",
      "model_module_version": "1.2.0",
      "model_name": "LayoutModel",
      "state": {
       "border": "0px solid black"
      }
     },
     "d81489889bfc4042b2fdf0315dbbe860": {
      "model_module": "@jupyter-widgets/controls",
      "model_module_version": "1.5.0",
      "model_name": "ButtonModel",
      "state": {
       "description": "Save image",
       "layout": "IPY_MODEL_ef2e2e8b7f5f4308a5eb7a65baabb07c",
       "style": "IPY_MODEL_80422d04e3504494af7c65ebad3382b8",
       "tooltip": "Save current frame to file.\nCurrently .png and .html are supported.\nIt takes a bit time, please be patient."
      }
     },
     "d905f311a2ae4aeea15fb5f40e5f7cf6": {
      "model_module": "@jupyter-widgets/controls",
      "model_module_version": "1.5.0",
      "model_name": "VBoxModel",
      "state": {
       "children": [
        "IPY_MODEL_0991d4485a624cde9a9f8ea440eae59c",
        "IPY_MODEL_f70f0f21c29a4982884f17dcbf5929ad",
        "IPY_MODEL_76bdb063050f44a6974d91a0547cbd47",
        "IPY_MODEL_c1b3b519dddd40e9bdbc3a2f054aa59c",
        "IPY_MODEL_9c50dfc66d974b7ba498464716ed4bd5",
        "IPY_MODEL_b58a4ad3993f4b2c9b0d2dc3721094da",
        "IPY_MODEL_d2bfa319b1ed46b1afb6294385df84e5",
        "IPY_MODEL_c8173dfd82124706ba8620ed10db2e3c",
        "IPY_MODEL_8ac94c3245dd49b2a4fea135f814b152",
        "IPY_MODEL_86fbf1bfd86943c6a8130da79da84f6f"
       ],
       "layout": "IPY_MODEL_a9e73702c145436f900003c8a6c8687d"
      }
     },
     "d92f03560ce74ef1948274037e2806cb": {
      "model_module": "@jupyter-widgets/base",
      "model_module_version": "1.2.0",
      "model_name": "LayoutModel",
      "state": {
       "width": "34px"
      }
     },
     "d93db7233e30488d9e553d4c0bc4a971": {
      "model_module": "@jupyter-widgets/base",
      "model_module_version": "1.2.0",
      "model_name": "LayoutModel",
      "state": {}
     },
     "da45d6524b34455cb1ad2c91ced67725": {
      "model_module": "@jupyter-widgets/base",
      "model_module_version": "1.2.0",
      "model_name": "LayoutModel",
      "state": {}
     },
     "daf60b72b7ee4b898aeda39530b05265": {
      "model_module": "@jupyter-widgets/controls",
      "model_module_version": "1.5.0",
      "model_name": "HBoxModel",
      "state": {
       "children": [
        "IPY_MODEL_7a1982e7c2f9478897ea075ce5dc6142",
        "IPY_MODEL_d905f311a2ae4aeea15fb5f40e5f7cf6"
       ],
       "layout": "IPY_MODEL_67b7ee79215847b1a1f1650c1dbe5cca"
      }
     },
     "db406914a6874d819b58b7a20803064e": {
      "model_module": "@jupyter-widgets/controls",
      "model_module_version": "1.5.0",
      "model_name": "ButtonModel",
      "state": {
       "description": "Download image",
       "layout": "IPY_MODEL_13c0b49b19674eb6baa8cca23a61098c",
       "style": "IPY_MODEL_484afd6d45fc4517a6d9d81e5eb40f06",
       "tooltip": "Download current frame to your local PC"
      }
     },
     "dc69301059964f7e8cf494f22375cb69": {
      "model_module": "@jupyter-widgets/base",
      "model_module_version": "1.2.0",
      "model_name": "LayoutModel",
      "state": {}
     },
     "dc6a5fe045524467b82b8d4bbee603b9": {
      "model_module": "@jupyter-widgets/controls",
      "model_module_version": "1.5.0",
      "model_name": "IntSliderModel",
      "state": {
       "layout": "IPY_MODEL_b79e110036c7488f83bd503337e3f49e",
       "max": 0,
       "style": "IPY_MODEL_5bd0189f966345df97e497459967a03f"
      }
     },
     "dcb851f8605848a5b05694eb4208e766": {
      "model_module": "@jupyter-widgets/controls",
      "model_module_version": "1.5.0",
      "model_name": "HBoxModel",
      "state": {
       "children": [
        "IPY_MODEL_3e2f2032751f4808b62cf01c35062516",
        "IPY_MODEL_d67d3939e46141a8836699a98b953c1c"
       ],
       "layout": "IPY_MODEL_e98788cab5ba42239fa30b0068ff6aad"
      }
     },
     "dcf88b878ffd42248e94c6cb648fcc86": {
      "model_module": "@jupyter-widgets/base",
      "model_module_version": "1.2.0",
      "model_name": "LayoutModel",
      "state": {}
     },
     "dd1284db5c05452892f10e49c702fbc6": {
      "model_module": "@jupyter-widgets/controls",
      "model_module_version": "1.5.0",
      "model_name": "ButtonModel",
      "state": {
       "description": "Download image",
       "layout": "IPY_MODEL_f6cb71811a354253a2055bb18c462501",
       "style": "IPY_MODEL_7680afb110fd42999ae1d8b5baa88de7",
       "tooltip": "Download current frame to your local PC"
      }
     },
     "dd4481df830c41dc84b2e2df6d39788c": {
      "model_module": "@jupyter-widgets/controls",
      "model_module_version": "1.5.0",
      "model_name": "PlayModel",
      "state": {
       "layout": "IPY_MODEL_dcf88b878ffd42248e94c6cb648fcc86",
       "max": 0,
       "style": "IPY_MODEL_1d97d3953e0b443f8c4a29ac457ce38a"
      }
     },
     "dd58a6c90f06453ebc621d5ded099470": {
      "model_module": "@jupyter-widgets/controls",
      "model_module_version": "1.5.0",
      "model_name": "LinkModel",
      "state": {
       "source": [
        "IPY_MODEL_336294c17bcd498395cd6a9de259f16a",
        "value"
       ],
       "target": [
        "IPY_MODEL_4cfcc6026ba1481a822ba1f058f15dbb",
        "value"
       ]
      }
     },
     "de42072349f347b3afec2becfefb5231": {
      "model_module": "@jupyter-widgets/controls",
      "model_module_version": "1.5.0",
      "model_name": "DescriptionStyleModel",
      "state": {
       "description_width": ""
      }
     },
     "df3cb8cdb13145be96b390d2ff42ac35": {
      "model_module": "@jupyter-widgets/base",
      "model_module_version": "1.2.0",
      "model_name": "LayoutModel",
      "state": {}
     },
     "dfb2498b4e0e41d3ba1c9dae47b160cb": {
      "model_module": "@jupyter-widgets/controls",
      "model_module_version": "1.5.0",
      "model_name": "LinkModel",
      "state": {
       "source": [
        "IPY_MODEL_552e32ef5cf54f71b38425de6196bb71",
        "max"
       ],
       "target": [
        "IPY_MODEL_0a9eab27b04b43d8ae611e0af5ea9d5c",
        "max_frame"
       ]
      }
     },
     "e0f4ff02962443e0acebfe4f6308d3a0": {
      "model_module": "@jupyter-widgets/base",
      "model_module_version": "1.2.0",
      "model_name": "LayoutModel",
      "state": {}
     },
     "e16711e7d48344cf91d6e2177fa64624": {
      "model_module": "@jupyter-widgets/controls",
      "model_module_version": "1.5.0",
      "model_name": "LinkModel",
      "state": {
       "source": [
        "IPY_MODEL_8c83f5fe54d2451e8166c2c61086d7b8",
        "value"
       ],
       "target": [
        "IPY_MODEL_0d4c46e315d84d97b4e349fd7c7691ed",
        "value"
       ]
      }
     },
     "e169261aab474a6eb22d80e5ade80ecd": {
      "model_module": "@jupyter-widgets/controls",
      "model_module_version": "1.5.0",
      "model_name": "ImageModel",
      "state": {
       "layout": "IPY_MODEL_9a08f35f7d884528a506f9401fe9f751",
       "width": "900.0"
      }
     },
     "e1704cae77234a33b06841fa3c4da907": {
      "model_module": "@jupyter-widgets/controls",
      "model_module_version": "1.5.0",
      "model_name": "FloatSliderModel",
      "state": {
       "description": "Ball size",
       "layout": "IPY_MODEL_2eab47ec47a64c709c54c0ed77bd37ad",
       "max": 1.5,
       "step": 0.01,
       "style": "IPY_MODEL_62a34f7bde54423792d786e3e39ee281",
       "value": 0.5
      }
     },
     "e173467650314b37bd87e44be42f4ab3": {
      "model_module": "@jupyter-widgets/controls",
      "model_module_version": "1.5.0",
      "model_name": "ButtonStyleModel",
      "state": {}
     },
     "e192cb027a594dca9089caa2ec316bb6": {
      "model_module": "@jupyter-widgets/controls",
      "model_module_version": "1.5.0",
      "model_name": "ButtonModel",
      "state": {
       "description": "Save image",
       "layout": "IPY_MODEL_16b039c68336452da3abb5c6ea781f87",
       "style": "IPY_MODEL_8398ad2fb97a4483871a47c0ea3e3b03",
       "tooltip": "Save current frame to file.\nCurrently .png and .html are supported.\nIt takes a bit time, please be patient."
      }
     },
     "e26157c9d1d94724b899ed8eda53de57": {
      "model_module": "@jupyter-widgets/controls",
      "model_module_version": "1.5.0",
      "model_name": "DescriptionStyleModel",
      "state": {
       "description_width": ""
      }
     },
     "e2773ef897b647cca41b009f6214c286": {
      "model_module": "@jupyter-widgets/base",
      "model_module_version": "1.2.0",
      "model_name": "LayoutModel",
      "state": {}
     },
     "e292dc17c7434fbbba76c0ef10561011": {
      "model_module": "@jupyter-widgets/controls",
      "model_module_version": "1.5.0",
      "model_name": "DescriptionStyleModel",
      "state": {
       "description_width": ""
      }
     },
     "e32e2bcb5b8f49b6888bd7f01ded9c31": {
      "model_module": "@jupyter-widgets/controls",
      "model_module_version": "1.5.0",
      "model_name": "ImageModel",
      "state": {
       "layout": "IPY_MODEL_230c0319555d4864a5b2ce4732f11c06",
       "width": "900.0"
      }
     },
     "e43b325889e742b1be89768a7ebcb262": {
      "model_module": "@jupyter-widgets/base",
      "model_module_version": "1.2.0",
      "model_name": "LayoutModel",
      "state": {}
     },
     "e45d5f8dc2c84fdfbf1dd59355e7b8e2": {
      "model_module": "@jupyter-widgets/base",
      "model_module_version": "1.2.0",
      "model_name": "LayoutModel",
      "state": {}
     },
     "e47e614d99dc4eaeb3b20f90eca67aa7": {
      "model_module": "@jupyter-widgets/controls",
      "model_module_version": "1.5.0",
      "model_name": "CheckboxModel",
      "state": {
       "description": "Show charge",
       "disabled": false,
       "layout": "IPY_MODEL_897cbbd6647749f78ad7c40170959d62",
       "style": "IPY_MODEL_23d9c415f0534db78782198345fcdab2",
       "value": false
      }
     },
     "e64f6b4f20ff4ae7a797b6d4fbf91f67": {
      "model_module": "@jupyter-widgets/controls",
      "model_module_version": "1.5.0",
      "model_name": "FloatSliderModel",
      "state": {
       "description": "Force scale",
       "layout": "IPY_MODEL_69fcabf26157485cac9c5a189e897e7e",
       "step": 0.1,
       "style": "IPY_MODEL_2300ef0631754f349315469e43962f33",
       "value": 0.5
      }
     },
     "e6945772733240d895495a0a537933eb": {
      "model_module": "@jupyter-widgets/base",
      "model_module_version": "1.2.0",
      "model_name": "LayoutModel",
      "state": {}
     },
     "e7c8303c44114a0990c8b0e7d9d980cb": {
      "model_module": "@jupyter-widgets/base",
      "model_module_version": "1.2.0",
      "model_name": "LayoutModel",
      "state": {}
     },
     "e820b4092b4a435d8db728156cfad4fe": {
      "model_module": "@jupyter-widgets/controls",
      "model_module_version": "1.5.0",
      "model_name": "FloatSliderModel",
      "state": {
       "description": "Charge scale",
       "layout": "IPY_MODEL_12f9d83090944fe48b101a9f71ab96a5",
       "step": 0.1,
       "style": "IPY_MODEL_a73d8385b60b4beaabc134e41cbb7b27",
       "value": 1
      }
     },
     "e8bf2929c16248be8e6ac8adddb07ee0": {
      "model_module": "@jupyter-widgets/base",
      "model_module_version": "1.2.0",
      "model_name": "LayoutModel",
      "state": {}
     },
     "e98788cab5ba42239fa30b0068ff6aad": {
      "model_module": "@jupyter-widgets/base",
      "model_module_version": "1.2.0",
      "model_name": "LayoutModel",
      "state": {}
     },
     "eae7731e7b1048f3b4e30ef53404c094": {
      "model_module": "@jupyter-widgets/controls",
      "model_module_version": "1.5.0",
      "model_name": "SliderStyleModel",
      "state": {
       "description_width": ""
      }
     },
     "eb0abcdd27ab4cc29cacefd7d906a816": {
      "model_module": "@jupyter-widgets/controls",
      "model_module_version": "1.5.0",
      "model_name": "ButtonStyleModel",
      "state": {}
     },
     "ebcd49200fc04bc4aa0babc4011ca229": {
      "model_module": "@jupyter-widgets/base",
      "model_module_version": "1.2.0",
      "model_name": "LayoutModel",
      "state": {}
     },
     "ebd38e3dda3e4efd913b414ab8adf6f2": {
      "model_module": "@jupyter-widgets/controls",
      "model_module_version": "1.5.0",
      "model_name": "IntSliderModel",
      "state": {
       "layout": "IPY_MODEL_3b9b49233be548e195983535a883d0a9",
       "max": 0,
       "style": "IPY_MODEL_8fde8aad59a5490daa147aa20b6f6cd6"
      }
     },
     "ebe57bdee4d1414c83c96724be33c115": {
      "model_module": "@jupyter-widgets/base",
      "model_module_version": "1.2.0",
      "model_name": "LayoutModel",
      "state": {}
     },
     "ed332d17cab74d17a44a082dadf368af": {
      "model_module": "@jupyter-widgets/base",
      "model_module_version": "1.2.0",
      "model_name": "LayoutModel",
      "state": {}
     },
     "edc04c6eecec48048251b29dc63ccfa8": {
      "model_module": "@jupyter-widgets/base",
      "model_module_version": "1.2.0",
      "model_name": "LayoutModel",
      "state": {}
     },
     "ee352ca735894d079eeb494dfe64df97": {
      "model_module": "@jupyter-widgets/controls",
      "model_module_version": "1.5.0",
      "model_name": "SliderStyleModel",
      "state": {
       "description_width": ""
      }
     },
     "ee5957fa001d4abaa6bb0c6cdf22d93f": {
      "model_module": "@jupyter-widgets/controls",
      "model_module_version": "1.5.0",
      "model_name": "SliderStyleModel",
      "state": {
       "description_width": ""
      }
     },
     "eefedd28d3024119b4ea81ef6c475e5e": {
      "model_module": "@jupyter-widgets/controls",
      "model_module_version": "1.5.0",
      "model_name": "CheckboxModel",
      "state": {
       "description": "Show charge",
       "disabled": false,
       "layout": "IPY_MODEL_079dd67409ce43ed9ea76010a749decb",
       "style": "IPY_MODEL_de42072349f347b3afec2becfefb5231",
       "value": false
      }
     },
     "ef2e2e8b7f5f4308a5eb7a65baabb07c": {
      "model_module": "@jupyter-widgets/base",
      "model_module_version": "1.2.0",
      "model_name": "LayoutModel",
      "state": {}
     },
     "ef80f04bcfe44d5bb9bb9fde93252ef1": {
      "model_module": "@jupyter-widgets/base",
      "model_module_version": "1.2.0",
      "model_name": "LayoutModel",
      "state": {}
     },
     "f0c8f68363414ab891f02efd9d5fd94d": {
      "model_module": "@jupyter-widgets/controls",
      "model_module_version": "1.5.0",
      "model_name": "DropdownModel",
      "state": {
       "_options_labels": [
        "All",
        "Fe"
       ],
       "description": "Show",
       "index": 0,
       "layout": "IPY_MODEL_82d78b4ea957495eb0653d7a6374b559",
       "style": "IPY_MODEL_a8a472c3919a4e1fbf96264869a33106"
      }
     },
     "f0f0970d703a47ecb0a0888cabc94d8c": {
      "model_module": "@jupyter-widgets/base",
      "model_module_version": "1.2.0",
      "model_name": "LayoutModel",
      "state": {}
     },
     "f1091afeb6a94058890cd1ae34c3749f": {
      "model_module": "@jupyter-widgets/base",
      "model_module_version": "1.2.0",
      "model_name": "LayoutModel",
      "state": {}
     },
     "f18246fedf47486eba2d4e642bc3a967": {
      "model_module": "@jupyter-widgets/base",
      "model_module_version": "1.2.0",
      "model_name": "LayoutModel",
      "state": {}
     },
     "f21e051b527e4ba2a4bb5571b1e136a4": {
      "model_module": "@jupyter-widgets/controls",
      "model_module_version": "1.5.0",
      "model_name": "ButtonStyleModel",
      "state": {}
     },
     "f22ce7d4ed3c439d9d648d7a5791d260": {
      "model_module": "@jupyter-widgets/controls",
      "model_module_version": "1.5.0",
      "model_name": "DescriptionStyleModel",
      "state": {
       "description_width": ""
      }
     },
     "f29315ff573448ee99bb7ae6b919e3b3": {
      "model_module": "@jupyter-widgets/controls",
      "model_module_version": "1.5.0",
      "model_name": "SliderStyleModel",
      "state": {
       "description_width": ""
      }
     },
     "f376906ae24041239a75308c7d7d53a5": {
      "model_module": "@jupyter-widgets/base",
      "model_module_version": "1.2.0",
      "model_name": "LayoutModel",
      "state": {}
     },
     "f378743b621041c08e18e6881b27fd07": {
      "model_module": "@jupyter-widgets/controls",
      "model_module_version": "1.5.0",
      "model_name": "LinkModel",
      "state": {
       "source": [
        "IPY_MODEL_f8f2d6859bba447abd9ec4b4563fae3d",
        "value"
       ],
       "target": [
        "IPY_MODEL_4eb66ea54f89427cb58fd1a7a5e35cc3",
        "value"
       ]
      }
     },
     "f4911a9cb1b8481aa138bf0a61f80b24": {
      "model_module": "@jupyter-widgets/controls",
      "model_module_version": "1.5.0",
      "model_name": "DropdownModel",
      "state": {
       "_options_labels": [
        " ",
        "picking",
        "random",
        "uniform",
        "atomindex",
        "residueindex",
        "chainindex",
        "modelindex",
        "sstruc",
        "element",
        "resname",
        "bfactor",
        "hydrophobicity",
        "value",
        "volume",
        "occupancy"
       ],
       "description": "Color scheme",
       "index": 9,
       "layout": "IPY_MODEL_2b80caaf20d54bc49d68006b329d03bf",
       "style": "IPY_MODEL_168613cf782c418c8c83027c8a0856a2"
      }
     },
     "f515e204b553412ca76aaa5cc2a76425": {
      "model_module": "@jupyter-widgets/base",
      "model_module_version": "1.2.0",
      "model_name": "LayoutModel",
      "state": {}
     },
     "f60e060cd86d473e9456784687f1d74f": {
      "model_module": "@jupyter-widgets/controls",
      "model_module_version": "1.5.0",
      "model_name": "LinkModel",
      "state": {
       "source": [
        "IPY_MODEL_d67d3939e46141a8836699a98b953c1c",
        "max"
       ],
       "target": [
        "IPY_MODEL_7f571ad2b2154025a26264c3692ba684",
        "max_frame"
       ]
      }
     },
     "f6cb71811a354253a2055bb18c462501": {
      "model_module": "@jupyter-widgets/base",
      "model_module_version": "1.2.0",
      "model_name": "LayoutModel",
      "state": {}
     },
     "f70f0f21c29a4982884f17dcbf5929ad": {
      "model_module": "@jupyter-widgets/controls",
      "model_module_version": "1.5.0",
      "model_name": "DropdownModel",
      "state": {
       "_options_labels": [
        " ",
        "picking",
        "random",
        "uniform",
        "atomindex",
        "residueindex",
        "chainindex",
        "modelindex",
        "sstruc",
        "element",
        "resname",
        "bfactor",
        "hydrophobicity",
        "value",
        "volume",
        "occupancy"
       ],
       "description": "Color scheme",
       "index": 9,
       "layout": "IPY_MODEL_cd24ac4407304f169bd8527f731c38fe",
       "style": "IPY_MODEL_4b3db26f624b497580b310ac6f91d2bb"
      }
     },
     "f7f8c230d34d4e928fefaa7ffefe40c9": {
      "model_module": "@jupyter-widgets/base",
      "model_module_version": "1.2.0",
      "model_name": "LayoutModel",
      "state": {}
     },
     "f821e5e3733a4cad9bc3e6b949d47469": {
      "model_module": "@jupyter-widgets/base",
      "model_module_version": "1.2.0",
      "model_name": "LayoutModel",
      "state": {}
     },
     "f896d93ff7e9459890173b7e0c5a3057": {
      "model_module": "@jupyter-widgets/controls",
      "model_module_version": "1.5.0",
      "model_name": "FloatSliderModel",
      "state": {
       "description": "Ball size",
       "layout": "IPY_MODEL_25c171572e394fefa9d4fe2c8e08e1c6",
       "max": 1.5,
       "step": 0.01,
       "style": "IPY_MODEL_4829e460377347c4a2cc17f39fd81778",
       "value": 0.5
      }
     },
     "f8f2d6859bba447abd9ec4b4563fae3d": {
      "model_module": "@jupyter-widgets/controls",
      "model_module_version": "1.5.0",
      "model_name": "PlayModel",
      "state": {
       "layout": "IPY_MODEL_e45d5f8dc2c84fdfbf1dd59355e7b8e2",
       "max": 0,
       "style": "IPY_MODEL_b7fe6b7cfc9345ee8ee158869370db5f"
      }
     },
     "f8fccadb76b6459daacf22c17cea6289": {
      "model_module": "@jupyter-widgets/controls",
      "model_module_version": "1.5.0",
      "model_name": "HBoxModel",
      "state": {
       "children": [
        "IPY_MODEL_764c54e2c884466faa762364f7e5f413",
        "IPY_MODEL_43c335acaeaf451b84d5959a347479bf"
       ],
       "layout": "IPY_MODEL_7485b4968ed743378c64861862e875ea"
      }
     },
     "f991c48f8eac40958188bf9b3355f101": {
      "model_module": "@jupyter-widgets/controls",
      "model_module_version": "1.5.0",
      "model_name": "CheckboxModel",
      "state": {
       "description": "Show charge",
       "disabled": false,
       "layout": "IPY_MODEL_e8bf2929c16248be8e6ac8adddb07ee0",
       "style": "IPY_MODEL_77739f12a383437a8585871a9d45e37b",
       "value": false
      }
     },
     "faef9f55ba26423192e58be40f891a16": {
      "model_module": "@jupyter-widgets/controls",
      "model_module_version": "1.5.0",
      "model_name": "SliderStyleModel",
      "state": {
       "description_width": ""
      }
     },
     "fb259507b3fa48b09285e2147ee0ad3f": {
      "model_module": "@jupyter-widgets/controls",
      "model_module_version": "1.5.0",
      "model_name": "LinkModel",
      "state": {
       "source": [
        "IPY_MODEL_4e1503550d054ea1acda20052311aa72",
        "max"
       ],
       "target": [
        "IPY_MODEL_42cd70105cdd470b9733b6fed9c39af6",
        "max_frame"
       ]
      }
     },
     "fb347fe74ada48e6851ff0862a066b25": {
      "model_module": "@jupyter-widgets/controls",
      "model_module_version": "1.5.0",
      "model_name": "DescriptionStyleModel",
      "state": {
       "description_width": ""
      }
     },
     "fb96973c45e743b5afcb98ea529f6257": {
      "model_module": "@jupyter-widgets/base",
      "model_module_version": "1.2.0",
      "model_name": "LayoutModel",
      "state": {}
     },
     "fbe10536916f42f09052a5f672d4a323": {
      "model_module": "@jupyter-widgets/controls",
      "model_module_version": "1.5.0",
      "model_name": "HBoxModel",
      "state": {
       "children": [
        "IPY_MODEL_50be8ebc821542acbddaf3b8cc105651",
        "IPY_MODEL_5aa0d39f96a5464d9dcfb4ffcb693af5"
       ],
       "layout": "IPY_MODEL_91c84889f1954aababc06913d731e112"
      }
     },
     "fc21250b7abb43bf8572997deb8351cd": {
      "model_module": "@jupyter-widgets/controls",
      "model_module_version": "1.5.0",
      "model_name": "ButtonStyleModel",
      "state": {}
     },
     "fc3cee3ef7934e52bd94b763bc6a3567": {
      "model_module": "@jupyter-widgets/controls",
      "model_module_version": "1.5.0",
      "model_name": "HBoxModel",
      "state": {
       "children": [
        "IPY_MODEL_1f1e69aca6b74a0fb9f9b9205b8eab8d",
        "IPY_MODEL_b8a29d14045749e681188a1bd0f2b819"
       ],
       "layout": "IPY_MODEL_73aef9d544f748c9a5ceba9af1c0a192"
      }
     },
     "fd63f39017c94e1b8c4b5f8ff7171869": {
      "model_module": "@jupyter-widgets/base",
      "model_module_version": "1.2.0",
      "model_name": "LayoutModel",
      "state": {}
     },
     "fe3916a240604ab1a1666db26ec7b518": {
      "model_module": "@jupyter-widgets/controls",
      "model_module_version": "1.5.0",
      "model_name": "DescriptionStyleModel",
      "state": {
       "description_width": ""
      }
     },
     "ff1717c11af5494fb2e3ab18c2fce515": {
      "model_module": "@jupyter-widgets/base",
      "model_module_version": "1.2.0",
      "model_name": "LayoutModel",
      "state": {
       "width": "34px"
      }
     },
     "ff8d9c42c47743eeb0387d1e9d1140d7": {
      "model_module": "@jupyter-widgets/controls",
      "model_module_version": "1.5.0",
      "model_name": "VBoxModel",
      "state": {
       "children": [
        "IPY_MODEL_b8d8e59b378042e89187708c128c793e",
        "IPY_MODEL_f4911a9cb1b8481aa138bf0a61f80b24",
        "IPY_MODEL_664502d0a012434ebd8f87dcfd781455",
        "IPY_MODEL_838ad93c764440c7a59a3101a562a671",
        "IPY_MODEL_3fe9fa41059c4537931b8614f73b7777",
        "IPY_MODEL_836e945742ff409983ea2895067a74bd",
        "IPY_MODEL_0fd2fd5dd9744ba789893bdd27bf4482",
        "IPY_MODEL_10962a7e8c76465d8461357bb4432ba8",
        "IPY_MODEL_583ea3ce2bb94ef890e5687335ce82a9",
        "IPY_MODEL_7430e416004140509ccb2f5ecfd429ac"
       ],
       "layout": "IPY_MODEL_bbcd847c1e8846148e00e873403b6b6a"
      }
     }
    },
    "version_major": 2,
    "version_minor": 0
   }
  }
 },
 "nbformat": 4,
 "nbformat_minor": 5
}
