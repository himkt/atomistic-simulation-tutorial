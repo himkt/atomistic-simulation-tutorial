{
 "cells": [
  {
   "cell_type": "markdown",
   "id": "2dadfc18-5201-40ea-9c56-89354dc29a90",
   "metadata": {
    "pycharm": {
     "name": "#%% md\n"
    }
   },
   "source": [
    "# Opt algorithm\n",
    "\n",
    "前章では様々な事例に対して、 構造最適化を適用してみました。<br/>\n",
    "本章では、構造最適化の際に適用を行った局所最適化アルゴリズムについて学んでいきます。\n",
    "\n",
    "## アルゴリズムの種類\n",
    "\n",
    "局所最適化アルゴリズムとして、ASEではMolecular Dynamics (MD)に似た振る舞いで最適化を行う `FIRE` や、2次関数近似をおこなって最適化を行う `BFGS`, `LBFGS`, `BFGSLineSearch`=`QuasiNewton`, `LBFGSLineSearch`法などが提供されています。\n",
    "\n",
    " - https://wiki.fysik.dtu.dk/ase/ase/optimize.html\n",
    " \n",
    "|  アルゴリズム  | グループ | 特徴 |\n",
    "| ---- | ---- | ---- |\n",
    "| MDMin | MD-like  | MDを行うが、運動量とForceの内積が負になると運動量を0にリセットする |\n",
    "| FIRE　 |  MD-like  | MDを行うが、様々な追加の工夫を入れて高速かつ頑健にしたもの |\n",
    "| BFGS  | 準Newton法  | 最適化のトラジェクトリからヘシアンを近似し、近似ヘシアンを用いてNewton法のアルゴリズムを実行 |\n",
    "| LBFGS  | 準Newton法  | BFGS法を高速・低メモリで動くようにしたもの |\n",
    "| BFGSLineSearch  | 準Newton法  | BFGSで最適化のステップの方向を決定し、ステップの大きさはLineSearchで決定 |\n",
    "| LBFGSLineSearch  | 準Newton法  | LBFGSで最適化のステップの方向を決定し、ステップの大きさはLineSearchで決定 |\n"
   ]
  },
  {
   "cell_type": "markdown",
   "id": "b6422065-8b3b-4a0d-8a2c-a1db2ad7d380",
   "metadata": {
    "pycharm": {
     "name": "#%% md\n"
    }
   },
   "source": [
    "MDMinはハイパーパラメーター依存性が大きく、構造最適化に失敗することも多いためベンチマークから除外し、他のOptimizerを見ていきます。"
   ]
  },
  {
   "cell_type": "markdown",
   "id": "ebf2f900-3d33-4020-9e01-18863122cb27",
   "metadata": {
    "pycharm": {
     "name": "#%% md\n"
    }
   },
   "source": [
    "### FIRE\n",
    "FIREでは基本的にMDを行いますが、高速に収束するように様々な工夫が加えられています。"
   ]
  },
  {
   "cell_type": "markdown",
   "id": "1d659a57-a1e0-4a37-a43c-911dbed480da",
   "metadata": {
    "pycharm": {
     "name": "#%% md\n"
    }
   },
   "source": [
    "### ニュートン法\n",
    "ニュートン法ではヘシアンと勾配を用いて次のステップを決定します。ニュートン法は二次収束する手法であり、ポテンシャルが二次関数に近い時（極小点に近い時）真の解に二乗の速度で近づいていき非常に高速です。\n",
    "ヘシアンを $H$、勾配を $\\vec{g}$ として、次の最適化ステップ $\\vec{p}$ を以下の式で表現します。\n",
    "\n",
    "$\\vec{p} = - H^{-1} \\vec{g}$\n",
    "\n",
    "仮にポテンシャルが厳密に二次関数であれば1ステップで極小値に収束します。"
   ]
  },
  {
   "cell_type": "markdown",
   "id": "5652760d-35b2-44fe-a0e3-4dc4b3a968f7",
   "metadata": {
    "pycharm": {
     "name": "#%% md\n"
    }
   },
   "source": [
    "### 準ニュートン法\n",
    "ヘシアンの評価は非常に重い（例えば数値計算なら6N回Forceを計算して求めることが出来る）ため、ヘシアンを計算している時間を使って構造最適化を進める方が有意義であることが良くあります。  \n",
    "そこで、最適化のトラジェクトリを使って短時間でヘシアンを近似するのが準ニュートン法です。  \n",
    "ヘシアンが厳密でないためNewton法ほど少ないステップ数で収束するというわけにはいきませんが、それでもかなり高速に収束します。"
   ]
  },
  {
   "cell_type": "markdown",
   "id": "6827cd96-fa31-4f15-8a8c-e9d721868a80",
   "metadata": {
    "pycharm": {
     "name": "#%% md\n"
    }
   },
   "source": [
    "### BFGS\n",
    "BFGS法は準ニュートン法の中でも最も標準的に使われているヘシアン近似方法です。  \n",
    "他にも SR1法やDFP法等様々な方法が知られていますが、ASEではBFGS法が実装されています。"
   ]
  },
  {
   "cell_type": "markdown",
   "id": "9c43e8c9-f1d7-481a-b56c-43b744e7224c",
   "metadata": {
    "pycharm": {
     "name": "#%% md\n"
    }
   },
   "source": [
    "### LBFGS\n",
    "BFGS法の欠点として、最適化した変数の次元の大きさの行列を格納し行列ベクトル積を計算しないといけないというものがあります。  \n",
    "これは空間計算量が次元 $N$ に対して $O(N^2)$ 、時間計算量も $O(N^2)$ となり、多次元の関数を最適化するのに不向きです。  \n",
    "そこで直近のいくつかのトラジェクトリの情報だけを用いてBFGS法とほとんど同じ結果になるように変形し、$O(N)$ の計算量でBFGSをほとんど再現できるようにしたのがLBFGS法です。    \n",
    "PFPの計算量は $O(N)$ なので、BFGSのような $O(N^2)$ の手法を用いると原子数300程度からOptimizerでの計算時間が目立ってきますが、LBFGSだと原子数が増えてもOptimizerの計算時間は目立ってきません。  "
   ]
  },
  {
   "cell_type": "markdown",
   "id": "5b81d228-bce2-40b1-ac9b-4dffda548881",
   "metadata": {
    "pycharm": {
     "name": "#%% md\n"
    }
   },
   "source": [
    "### LineSearch\n",
    "ポテンシャルが二次関数でない場合、ニュートン法は振動してしまうことがあります。また、準ニュートン法ではヘシアンが正確でないこともあり、適切なステップサイズを提示できないことがあります。  \n",
    "このような場合でも最適化を収束させるため、LineSearchを行うと最適化が安定します。  \n",
    "準ニュートン法で最適化の方向を決めた後、最適化のステップサイズに関してはその方向にエネルギーが十分小さくなるようなステップサイズをとることが望ましいです。このようなステップサイズを実際に何点か計算してみて決定するのがLineSearchです。  \n",
    "BFGS等だとニュートン法の方法に従って計算した結果エネルギーが上がってしまったというようなケースがありえますが、BFGSLineSearchだとそのようなケースでも良いステップサイズを探索します。"
   ]
  },
  {
   "cell_type": "markdown",
   "id": "b1350ae9-e96d-4bc5-b16e-cf4acb2bbbe1",
   "metadata": {
    "pycharm": {
     "name": "#%% md\n"
    }
   },
   "source": [
    "## ベンチマーク"
   ]
  },
  {
   "cell_type": "code",
   "execution_count": 1,
   "id": "9a737456-2c8e-406a-abd3-15971951cb5e",
   "metadata": {
    "pycharm": {
     "name": "#%%\n"
    }
   },
   "outputs": [
    {
     "data": {
      "application/vnd.jupyter.widget-view+json": {
       "model_id": "cd6d44db0c464e828b9cb0785294b2c0",
       "version_major": 2,
       "version_minor": 0
      },
      "text/plain": []
     },
     "metadata": {},
     "output_type": "display_data"
    }
   ],
   "source": [
    "import os\n",
    "from time import perf_counter\n",
    "from typing import Optional, Type\n",
    "\n",
    "import matplotlib.pyplot as plt\n",
    "import pandas as pd\n",
    "from ase import Atoms\n",
    "from ase.build import bulk, molecule\n",
    "from ase.calculators.calculator import Calculator\n",
    "from ase.io import Trajectory\n",
    "from ase.optimize import BFGS, FIRE, LBFGS, BFGSLineSearch, LBFGSLineSearch, MDMin\n",
    "from ase.optimize.optimize import Optimizer\n",
    "from tqdm.auto import tqdm\n",
    "\n",
    "import pfp_api_client\n",
    "from pfcc_extras.structure.ase_rdkit_converter import atoms_to_smiles, smiles_to_atoms\n",
    "from pfcc_extras.visualize.view import view_ngl\n",
    "from pfp_api_client.pfp.calculators.ase_calculator import ASECalculator\n",
    "from pfp_api_client.pfp.estimator import Estimator, EstimatorCalcMode"
   ]
  },
  {
   "cell_type": "code",
   "execution_count": 2,
   "id": "be6b4225-3863-4ff3-8785-fb4c4d3bf93b",
   "metadata": {
    "pycharm": {
     "name": "#%%\n"
    }
   },
   "outputs": [
    {
     "name": "stdout",
     "output_type": "stream",
     "text": [
      "pfp_api_client: 1.3.1\n",
      "v2.0.0\n"
     ]
    }
   ],
   "source": [
    "calc = ASECalculator(Estimator(calc_mode=EstimatorCalcMode.CRYSTAL, model_version=\"v2.0.0\"))\n",
    "calc_mol = ASECalculator(Estimator(calc_mode=EstimatorCalcMode.MOLECULE, model_version=\"v2.0.0\"))\n",
    "print(f\"pfp_api_client: {pfp_api_client.__version__}\")\n",
    "print(calc.estimator.model_version)"
   ]
  },
  {
   "cell_type": "markdown",
   "id": "123471d5-cf9b-461a-9772-7c8bc78d6078",
   "metadata": {
    "pycharm": {
     "name": "#%% md\n"
    }
   },
   "source": [
    "### Force計算回数の比較\n",
    "\n",
    "以下はCH3CHO分子の構造最適化を行う簡単な例です。<br/>\n",
    "`molecule(\"CH3CHO\")` で得られる構造は厳密な安定構造ではありませんが、かなり良い構造をしています。  \n",
    "このような構造から開始した時には準ニュートン法を用いるとかなり少ない回数のPFP呼び出しで構造最適化を完了することが出来ます。  "
   ]
  },
  {
   "cell_type": "markdown",
   "id": "d34f1914-9b21-443b-b56c-9b5a50365e35",
   "metadata": {
    "pycharm": {
     "name": "#%% md\n"
    }
   },
   "source": [
    "### Force計算回数の比較"
   ]
  },
  {
   "cell_type": "markdown",
   "id": "96c2b5b6-83b0-4da4-ba77-b8d34afccdba",
   "metadata": {
    "pycharm": {
     "name": "#%% md\n"
    }
   },
   "source": [
    "まずは構造最適化が完了するまでにForceを何回計算するかベンチマークをとってみましょう。  \n",
    "ここではPtのバルクを乱数で動かした構造を初期値として、最適構造になるまでのForce計算回数を測定します。  "
   ]
  },
  {
   "cell_type": "code",
   "execution_count": 3,
   "id": "b2a178ea-0793-4d7f-b224-4bbc642b8d61",
   "metadata": {
    "pycharm": {
     "name": "#%%\n"
    }
   },
   "outputs": [],
   "source": [
    "def get_force_calls(opt: Optimizer) -> int:\n",
    "    \"\"\"forceの呼び出し回数を取得する。LineSearchのあるOptimizerではforce_callsがForce評価回数を示し、LineSearchがないOptimizerではnstepsとForce評価回数が一致する。\"\"\"\n",
    "    if isinstance(opt, (BFGSLineSearch, LBFGSLineSearch)):\n",
    "        return opt.force_calls\n",
    "    else:\n",
    "        return opt.nsteps"
   ]
  },
  {
   "cell_type": "code",
   "execution_count": 4,
   "id": "6a5d03fb-57ef-4eed-a95e-bb80373e236e",
   "metadata": {
    "pycharm": {
     "name": "#%%\n"
    }
   },
   "outputs": [],
   "source": [
    "os.makedirs(\"output\", exist_ok=True)"
   ]
  },
  {
   "cell_type": "code",
   "execution_count": 5,
   "id": "5027978e-3bdd-4b7b-adfc-1fe2f152af7e",
   "metadata": {
    "pycharm": {
     "name": "#%%\n"
    }
   },
   "outputs": [],
   "source": [
    "atoms_0 = bulk(\"Pt\") * (4, 4, 4)\n",
    "atoms_0.rattle(stdev=0.1)"
   ]
  },
  {
   "cell_type": "code",
   "execution_count": 6,
   "id": "3886b9d7-0215-4407-99dd-51de21a956e3",
   "metadata": {
    "pycharm": {
     "name": "#%%\n"
    }
   },
   "outputs": [
    {
     "data": {
      "application/vnd.jupyter.widget-view+json": {
       "model_id": "5755196c3f31469599f3b284042202ad",
       "version_major": 2,
       "version_minor": 0
      },
      "text/plain": [
       "HBox(children=(NGLWidget(), VBox(children=(Dropdown(description='Show', options=('All', 'Pt'), value='All'), D…"
      ]
     },
     "metadata": {},
     "output_type": "display_data"
    }
   ],
   "source": [
    "view_ngl(atoms_0)"
   ]
  },
  {
   "cell_type": "code",
   "execution_count": 7,
   "id": "cab3494a-d358-491c-9b58-b55bef889975",
   "metadata": {
    "pycharm": {
     "name": "#%%\n"
    },
    "tags": []
   },
   "outputs": [
    {
     "data": {
      "application/vnd.jupyter.widget-view+json": {
       "model_id": "ffb34475099e4d56bb4e85a8f93ed8d7",
       "version_major": 2,
       "version_minor": 0
      },
      "text/plain": [
       "  0%|          | 0/5 [00:00<?, ?it/s]"
      ]
     },
     "metadata": {},
     "output_type": "display_data"
    }
   ],
   "source": [
    "force_calls = {}\n",
    "for opt_class in tqdm([FIRE, BFGS, LBFGS, BFGSLineSearch, LBFGSLineSearch]):\n",
    "    atoms = atoms_0.copy()\n",
    "    atoms.calc = calc\n",
    "    name = opt_class.__name__\n",
    "    with opt_class(atoms, trajectory=f\"output/{name}_ch3cho.traj\", logfile=None) as opt:\n",
    "        opt.run(fmax=0.05)\n",
    "        force_calls[name] = [get_force_calls(opt)]"
   ]
  },
  {
   "cell_type": "code",
   "execution_count": 8,
   "id": "1348e3d9-cad7-4be2-a79e-48c1773e0eed",
   "metadata": {
    "pycharm": {
     "name": "#%%\n"
    }
   },
   "outputs": [
    {
     "data": {
      "image/png": "[encoded data removed]",
      "text/plain": [
       "<Figure size 432x288 with 1 Axes>"
      ]
     },
     "metadata": {
      "needs_background": "light"
     },
     "output_type": "display_data"
    }
   ],
   "source": [
    "df = pd.DataFrame.from_dict(force_calls)\n",
    "df.plot.bar()\n",
    "plt.ylabel(\"Force calls\")\n",
    "plt.show()"
   ]
  },
  {
   "cell_type": "markdown",
   "id": "2b664749-0b3e-44b5-a5ac-84886d734da3",
   "metadata": {
    "pycharm": {
     "name": "#%% md\n"
    }
   },
   "source": [
    "FIREが抜きんでてForce評価回数が多く、BFGSとLBFGSは同じくらいとなりました。  \n",
    "また、LineSearchのある手法もBFGSやLBFGSと同じくらいのForce評価回数となりました。"
   ]
  },
  {
   "cell_type": "markdown",
   "id": "5055046e-7452-4787-8288-dbce581d24ce",
   "metadata": {
    "pycharm": {
     "name": "#%% md\n"
    }
   },
   "source": [
    "### 1ステップあたりの速度比較\n",
    "\n",
    "次に同じそれぞれの最適化手法の1stepあたりの速度を比較してみます。"
   ]
  },
  {
   "cell_type": "code",
   "execution_count": 9,
   "id": "4e98affe-9e60-441b-9929-81649d94e98f",
   "metadata": {
    "pycharm": {
     "name": "#%%\n"
    }
   },
   "outputs": [
    {
     "data": {
      "application/vnd.jupyter.widget-view+json": {
       "model_id": "c4fe3d6ae0fb47aabde9b97aaf874b70",
       "version_major": 2,
       "version_minor": 0
      },
      "text/plain": [
       "HBox(children=(NGLWidget(), VBox(children=(Dropdown(description='Show', options=('All', 'Fe'), value='All'), D…"
      ]
     },
     "metadata": {},
     "output_type": "display_data"
    }
   ],
   "source": [
    "from ase.build import bulk\n",
    "\n",
    "atoms = bulk(\"Fe\") * (10, 5, 3)\n",
    "atoms.rattle(stdev=0.2)\n",
    "atoms.calc = calc\n",
    "\n",
    "view_ngl(atoms)"
   ]
  },
  {
   "cell_type": "code",
   "execution_count": 10,
   "id": "2b7354d6-d6a2-495a-85ed-f09b1f40e289",
   "metadata": {
    "pycharm": {
     "name": "#%%\n"
    }
   },
   "outputs": [],
   "source": [
    "def opt_benchmark(atoms: Atoms, calculator: Calculator, opt_class, logfile: Optional[str] = \"-\", steps: int = 10) -> float:\n",
    "    _atoms = atoms.copy()\n",
    "    _atoms.calc = calculator\n",
    "    with opt_class(_atoms, logfile=logfile) as opt:\n",
    "        start_time = perf_counter()\n",
    "        opt.run(steps=steps)\n",
    "        end_time = perf_counter()\n",
    "        duration = end_time - start_time\n",
    "        duration_per_force_calls = duration / get_force_calls(opt)\n",
    "    return duration_per_force_calls"
   ]
  },
  {
   "cell_type": "code",
   "execution_count": 11,
   "id": "5f6284ba-2ae9-4893-90b0-d4a7622d290d",
   "metadata": {
    "pycharm": {
     "name": "#%%\n"
    },
    "tags": []
   },
   "outputs": [
    {
     "name": "stdout",
     "output_type": "stream",
     "text": [
      "----- n_atoms 100 -----\n",
      "Running FIRE...\n",
      "Done in 0.06 sec.\n",
      "Running BFGS...\n",
      "Done in 0.09 sec.\n",
      "Running LBFGS...\n",
      "Done in 0.06 sec.\n",
      "Running BFGSLineSearch...\n",
      "Done in 0.07 sec.\n",
      "Running LBFGSLineSearch...\n",
      "Done in 0.06 sec.\n",
      "----- n_atoms 200 -----\n",
      "Running FIRE...\n",
      "Done in 0.09 sec.\n",
      "Running BFGS...\n",
      "Done in 0.19 sec.\n",
      "Running LBFGS...\n",
      "Done in 0.09 sec.\n",
      "Running BFGSLineSearch...\n",
      "Done in 0.13 sec.\n",
      "Running LBFGSLineSearch...\n",
      "Done in 0.09 sec.\n",
      "----- n_atoms 300 -----\n",
      "Running FIRE...\n",
      "Done in 0.12 sec.\n",
      "Running BFGS...\n",
      "Done in 0.32 sec.\n",
      "Running LBFGS...\n",
      "Done in 0.12 sec.\n",
      "Running BFGSLineSearch...\n",
      "Done in 0.19 sec.\n",
      "Running LBFGSLineSearch...\n",
      "Done in 0.12 sec.\n",
      "----- n_atoms 400 -----\n",
      "Running FIRE...\n",
      "Done in 0.15 sec.\n",
      "Running BFGS...\n",
      "Done in 0.53 sec.\n",
      "Running LBFGS...\n",
      "Done in 0.15 sec.\n",
      "Running BFGSLineSearch...\n",
      "Done in 0.30 sec.\n",
      "Running LBFGSLineSearch...\n",
      "Done in 0.15 sec.\n",
      "----- n_atoms 500 -----\n",
      "Running FIRE...\n",
      "Done in 0.19 sec.\n",
      "Running BFGS...\n",
      "Done in 0.92 sec.\n",
      "Running LBFGS...\n",
      "Done in 0.18 sec.\n",
      "Running BFGSLineSearch...\n",
      "Done in 0.40 sec.\n",
      "Running LBFGSLineSearch...\n",
      "Done in 0.18 sec.\n",
      "----- n_atoms 600 -----\n",
      "Running FIRE...\n",
      "Done in 0.22 sec.\n",
      "Running BFGS...\n",
      "Done in 1.47 sec.\n",
      "Running LBFGS...\n",
      "Done in 0.22 sec.\n",
      "Running BFGSLineSearch...\n",
      "Done in 0.56 sec.\n",
      "Running LBFGSLineSearch...\n",
      "Done in 0.22 sec.\n",
      "----- n_atoms 700 -----\n",
      "Running FIRE...\n",
      "Done in 0.25 sec.\n",
      "Running BFGS...\n",
      "Done in 2.19 sec.\n",
      "Running LBFGS...\n",
      "Done in 0.25 sec.\n",
      "Running BFGSLineSearch...\n",
      "Done in 0.80 sec.\n",
      "Running LBFGSLineSearch...\n",
      "Done in 0.25 sec.\n",
      "----- n_atoms 800 -----\n",
      "Running FIRE...\n",
      "Done in 0.29 sec.\n",
      "Running BFGS...\n",
      "Done in 3.32 sec.\n",
      "Running LBFGS...\n",
      "Done in 0.28 sec.\n",
      "Running BFGSLineSearch...\n",
      "Done in 1.07 sec.\n",
      "Running LBFGSLineSearch...\n",
      "Done in 0.28 sec.\n",
      "----- n_atoms 900 -----\n",
      "Running FIRE...\n",
      "Done in 0.32 sec.\n",
      "Running BFGS...\n",
      "Done in 4.75 sec.\n",
      "Running LBFGS...\n",
      "Done in 0.31 sec.\n",
      "Running BFGSLineSearch...\n",
      "Done in 1.20 sec.\n",
      "Running LBFGSLineSearch...\n",
      "Done in 0.31 sec.\n"
     ]
    }
   ],
   "source": [
    "result_dict = {\n",
    "    \"n_atoms\": [],\n",
    "    \"FIRE\": [],\n",
    "    \"BFGS\": [],\n",
    "    \"LBFGS\": [],\n",
    "    \"BFGSLineSearch\": [],\n",
    "    \"LBFGSLineSearch\": [],\n",
    "}\n",
    "\n",
    "\n",
    "for i in range(1, 10):\n",
    "    atoms = bulk(\"Fe\") * (10, 10, i)\n",
    "    atoms.rattle(stdev=0.2)\n",
    "    n_atoms = atoms.get_global_number_of_atoms()\n",
    "    result_dict[\"n_atoms\"].append(n_atoms)\n",
    "    print(f\"----- n_atoms {n_atoms} -----\")\n",
    "    for opt_class in [FIRE, BFGS, LBFGS, BFGSLineSearch, LBFGSLineSearch]:\n",
    "        name = opt_class.__name__\n",
    "        print(f\"Running {name}...\")\n",
    "        duration = opt_benchmark(atoms, calc, opt_class=opt_class, logfile=None, steps=10)\n",
    "        print(f\"Done in {duration:.2f} sec.\")\n",
    "        result_dict[name].append(duration)"
   ]
  },
  {
   "cell_type": "code",
   "execution_count": 12,
   "id": "a1c59d4f-9f34-4804-bd62-4421935f55a0",
   "metadata": {
    "pycharm": {
     "name": "#%%\n"
    }
   },
   "outputs": [
    {
     "data": {
      "image/png": "[encoded data removed]",
      "text/plain": [
       "<Figure size 720x288 with 2 Axes>"
      ]
     },
     "metadata": {
      "needs_background": "light"
     },
     "output_type": "display_data"
    }
   ],
   "source": [
    "import matplotlib.pyplot as plt\n",
    "import pandas as pd\n",
    "\n",
    "fig, axes = plt.subplots(1, 2, tight_layout=True, figsize=(10, 4))\n",
    "df = pd.DataFrame(result_dict)\n",
    "df = df.set_index(\"n_atoms\")\n",
    "df.plot(ax=axes[0])\n",
    "axes[0].set_title(\"Speed for various opt algorithms\")\n",
    "df[[\"LBFGS\", \"FIRE\", \"LBFGSLineSearch\"]].plot(ax=axes[1])\n",
    "axes[1].set_title(\"Speed for various opt algorithms ($O(N)$ methods only)\")\n",
    "for ax in axes:\n",
    "    ax.set_ylabel(\"sec / step\")\n",
    "fig.savefig(\"output/opt_benchmark.png\")\n",
    "plt.show(fig)"
   ]
  },
  {
   "cell_type": "markdown",
   "id": "d0a5ebf5-d585-44a8-a0a9-c3bffefd794b",
   "metadata": {
    "pycharm": {
     "name": "#%% md\n"
    }
   },
   "source": [
    "BFGSやBFGSLineSearchでは原子数が多くなるにつれて1ステップあたりの計算時間が長くなってしまっています。  \n",
    "\n",
    "ASEに実装されているBFGS法ではHessianの逆行列を求める際に固有値分解を毎ステップごとに行います。  \n",
    "Hessianは縦横それぞれ原子数をNとして3Nの大きさをもっており、固有値分解の計算量は $O(N^3)$ であるため、ASEのBFGS法は原子数の3乗のオーダーで急速に遅くなっていきます。 \n",
    "\n",
    "また、BFGSLineSearchではHessianの固有値分解を行うことなく、Hessianの逆行列を直接近似します。このため、行列ベクトル積が律速になり $O(N^2)$ とBFGSよりは速くなります。  \n",
    "しかし、原子数が多い時には $O(N)$ で動作するLBFGSやLBFGS、FIREよりはずっと遅くなります。 "
   ]
  },
  {
   "cell_type": "markdown",
   "id": "c73d93c4-90c7-4577-9536-748d58008502",
   "metadata": {
    "pycharm": {
     "name": "#%% md\n"
    }
   },
   "source": [
    "## 最適化アルゴリズムの使い分け"
   ]
  },
  {
   "cell_type": "markdown",
   "id": "89e1cedd-de06-40c8-b007-492128bcb873",
   "metadata": {
    "pycharm": {
     "name": "#%% md\n"
    }
   },
   "source": [
    "これまでに、FIREは他の手法よりもForce呼び出し回数が多く、BFGSやBFGSLineSearchは原子数が多くなるとForceの評価よりもOptimizerの内部ルーチンの方が律速になることを見てきました。  \n",
    "ではどういった場合でもLBFGSとLBFGSLineSearchを用いると良いのでしょうか？  \n",
    "これからそれらのアルゴリズムでもうまくいかない例もあることを見ていきましょう。  "
   ]
  },
  {
   "cell_type": "markdown",
   "id": "8a4487ba-c45c-40a5-862d-2eb41e108359",
   "metadata": {
    "pycharm": {
     "name": "#%% md\n"
    }
   },
   "source": [
    "### LBFGSやBFGSがうまくいかない例\n",
    "\n",
    "\n",
    "次の例を見てみましょう。\n",
    "この例ではとても単純なポテンシャルである Lennard-Jones (LJ) potentialを用いて、その安定点から離れたところを初期値として構造最適化を行っています。\n",
    " - https://wiki.fysik.dtu.dk/ase/ase/calculators/others.html#lennard-jones\n",
    "\n",
    "LJ potential は次式で表される形をしており、以下のような形をしています。\n",
    "\n",
    "$$ \\phi (r) = 4 \\epsilon \\bigg\\{ \\left( \\frac{\\sigma}{r} \\right) ^{12} -  \\left( \\frac{\\sigma}{r} \\right) ^{6} \\bigg\\} $$"
   ]
  },
  {
   "cell_type": "code",
   "execution_count": 13,
   "id": "04e8d668-7b1c-4649-8232-19f7abef8488",
   "metadata": {
    "pycharm": {
     "name": "#%%\n"
    }
   },
   "outputs": [
    {
     "data": {
      "image/png": "[encoded data removed]",
      "text/plain": [
       "<Figure size 432x288 with 1 Axes>"
      ]
     },
     "metadata": {
      "needs_background": "light"
     },
     "output_type": "display_data"
    }
   ],
   "source": [
    "from ase.calculators.lj import LennardJones\n",
    "import numpy as np\n",
    "\n",
    "\n",
    "calc_lj = LennardJones()\n",
    "\n",
    "dists = np.linspace(1.0, 4.0, 500)\n",
    "\n",
    "\n",
    "E_pot_list = []\n",
    "for d in dists:\n",
    "    atoms = Atoms(\"Ar2\", [[0, 0, 0], [d, 0, 0]])\n",
    "    atoms.calc = calc_lj\n",
    "    E_pot = atoms.get_potential_energy()\n",
    "    E_pot_list.append(E_pot)\n",
    "\n",
    "plt.plot(dists, E_pot_list)\n",
    "plt.title(\"Lennard Jones Potential\")\n",
    "plt.ylabel(\"eV\")\n",
    "plt.xlabel(\"Distance [A]\")\n",
    "plt.show()"
   ]
  },
  {
   "cell_type": "markdown",
   "id": "497d1a90-9e67-4ae7-a1ec-e3448cced2e6",
   "metadata": {
    "pycharm": {
     "name": "#%% md\n"
    }
   },
   "source": [
    "この単純なPotential の形でDistanceを安定点である1.12A から離れたところからスタートし構造最適化をしてみましょう。"
   ]
  },
  {
   "cell_type": "code",
   "execution_count": 14,
   "id": "3504e71d-e81e-47c2-b7e9-afcd50dc3ac0",
   "metadata": {
    "pycharm": {
     "name": "#%%\n"
    }
   },
   "outputs": [],
   "source": [
    "def lennard_jones_trajectory(opt_class: Type[Optimizer], d0: float):\n",
    "    name = opt_class.__name__\n",
    "    trajectory_path = f\"output/Ar_{name}.traj\"\n",
    "\n",
    "    atoms = Atoms(\"Ar2\", [[0, 0, 0], [d0, 0, 0]])\n",
    "    atoms.calc = calc_lj\n",
    "\n",
    "    opt = opt_class(atoms, trajectory=trajectory_path)\n",
    "    opt.run()\n",
    "\n",
    "    distance_list = []\n",
    "    energy_list = []\n",
    "    for atoms in Trajectory(trajectory_path):\n",
    "        energy_list.append(atoms.get_potential_energy())\n",
    "        distance_list.append(atoms.get_distance(0, 1))\n",
    "\n",
    "    print(\"Distance in opt trajectory: \", distance_list)\n",
    "\n",
    "    plt.plot(dists, E_pot_list)\n",
    "    plt.plot(distance_list, energy_list, marker=\"x\")\n",
    "    plt.title(f\"Lennard Jones Potential: {name} opt\")\n",
    "    plt.ylim(-1.0, 0)\n",
    "    plt.ylabel(\"eV\")\n",
    "    plt.xlabel(\"Distance [A]\")\n",
    "    plt.show()"
   ]
  },
  {
   "cell_type": "markdown",
   "id": "a4a73c5a-26ab-4309-9c16-cd28da22bf4c",
   "metadata": {
    "pycharm": {
     "name": "#%% md\n"
    }
   },
   "source": [
    "まずはFIREを行った場合です。安定して最適値1.12A にたどり着くことが出来ています。"
   ]
  },
  {
   "cell_type": "code",
   "execution_count": 15,
   "id": "a0bad0a0-72f6-4a58-8bf8-40c4becaa3c0",
   "metadata": {
    "pycharm": {
     "name": "#%%\n"
    }
   },
   "outputs": [
    {
     "name": "stdout",
     "output_type": "stream",
     "text": [
      "      Step     Time          Energy         fmax\n",
      "*Force-consistent energies used in optimization.\n",
      "FIRE:    0 05:50:32       -0.314857*       1.1580\n",
      "FIRE:    1 05:50:32       -0.342894*       1.2644\n",
      "FIRE:    2 05:50:32       -0.410024*       1.5124\n",
      "FIRE:    3 05:50:32       -0.546744*       1.9683\n",
      "FIRE:    4 05:50:32       -0.812180*       2.3839\n",
      "FIRE:    5 05:50:32       -0.862167*       5.5858\n",
      "FIRE:    6 05:50:32       -0.966377*       2.1492\n",
      "FIRE:    7 05:50:32       -0.991817*       0.5223\n",
      "FIRE:    8 05:50:32       -0.992148*       0.4913\n",
      "FIRE:    9 05:50:32       -0.992732*       0.4299\n",
      "FIRE:   10 05:50:32       -0.993427*       0.3400\n",
      "FIRE:   11 05:50:32       -0.994057*       0.2245\n",
      "FIRE:   12 05:50:32       -0.994451*       0.0884\n",
      "FIRE:   13 05:50:32       -0.994489*       0.0606\n",
      "FIRE:   14 05:50:32       -0.994490*       0.0595\n",
      "FIRE:   15 05:50:32       -0.994492*       0.0573\n",
      "FIRE:   16 05:50:32       -0.994495*       0.0541\n",
      "FIRE:   17 05:50:32       -0.994499*       0.0499\n",
      "Distance in opt trajectory:  [1.5, 1.4768394233790767, 1.42839123774426, 1.349694678243147, 1.231631957294667, 1.0658914242047832, 1.0938206432760949, 1.132495812583008, 1.1318429355798734, 1.1305759647542164, 1.1287715691339621, 1.1265422074054834, 1.1240322773166505, 1.1214118150599879, 1.1214307556785812, 1.1214682920288386, 1.1215237409768002, 1.1215960942672192]\n"
     ]
    },
    {
     "data": {
      "image/png": "[encoded data removed]",
      "text/plain": [
       "<Figure size 432x288 with 1 Axes>"
      ]
     },
     "metadata": {
      "needs_background": "light"
     },
     "output_type": "display_data"
    }
   ],
   "source": [
    "lennard_jones_trajectory(FIRE, 1.5)"
   ]
  },
  {
   "cell_type": "code",
   "execution_count": 16,
   "id": "fe8d47e8-8328-4c17-9810-545006d2b6df",
   "metadata": {
    "pycharm": {
     "name": "#%%\n"
    }
   },
   "outputs": [
    {
     "name": "stdout",
     "output_type": "stream",
     "text": [
      "      Step     Time          Energy         fmax\n",
      "*Force-consistent energies used in optimization.\n",
      "FIRE:    0 05:50:33       -0.697220*       2.3246\n",
      "FIRE:    1 05:50:33       -0.807702*       2.3874\n",
      "FIRE:    2 05:50:33       -0.987241*       0.8220\n",
      "FIRE:    3 05:50:33       -0.520102*      13.5704\n",
      "FIRE:    4 05:50:33       -0.971689*       1.9036\n",
      "FIRE:    5 05:50:33       -0.939109*       1.8400\n",
      "FIRE:    6 05:50:33       -0.943288*       1.7937\n",
      "FIRE:    7 05:50:33       -0.951214*       1.6946\n",
      "FIRE:    8 05:50:33       -0.961964*       1.5294\n",
      "FIRE:    9 05:50:33       -0.974030*       1.2780\n",
      "FIRE:   10 05:50:33       -0.985244*       0.9149\n",
      "FIRE:   11 05:50:33       -0.992867*       0.4142\n",
      "FIRE:   12 05:50:33       -0.994043*       0.2396\n",
      "FIRE:   13 05:50:33       -0.994061*       0.2350\n",
      "FIRE:   14 05:50:33       -0.994095*       0.2259\n",
      "FIRE:   15 05:50:33       -0.994143*       0.2125\n",
      "FIRE:   16 05:50:33       -0.994201*       0.1951\n",
      "FIRE:   17 05:50:33       -0.994265*       0.1741\n",
      "FIRE:   18 05:50:33       -0.994330*       0.1500\n",
      "FIRE:   19 05:50:33       -0.994391*       0.1233\n",
      "FIRE:   20 05:50:33       -0.994449*       0.0914\n",
      "FIRE:   21 05:50:33       -0.994495*       0.0543\n",
      "FIRE:   22 05:50:33       -0.994519*       0.0122\n",
      "Distance in opt trajectory:  [1.28, 1.2335089629222111, 1.1392699328939198, 1.0285911631178963, 1.0964431714345662, 1.1738131464936081, 1.1715131413850235, 1.1669709941864936, 1.160310604717144, 1.1517385248429906, 1.1415690055780352, 1.130255815977825, 1.118424872251103, 1.1184997505580012, 1.1186480666965142, 1.1188669733107373, 1.1191522821112356, 1.1194985597723826, 1.1198992503739216, 1.1203468201911215, 1.1208857684008715, 1.121520438052656, 1.1222486280893154]\n"
     ]
    },
    {
     "data": {
      "image/png": "[encoded data removed]",
      "text/plain": [
       "<Figure size 432x288 with 1 Axes>"
      ]
     },
     "metadata": {
      "needs_background": "light"
     },
     "output_type": "display_data"
    }
   ],
   "source": [
    "lennard_jones_trajectory(FIRE, 1.28)"
   ]
  },
  {
   "cell_type": "markdown",
   "id": "c81c5d9f-8e18-41af-8f55-aa6aa55c94fd",
   "metadata": {
    "pycharm": {
     "name": "#%% md\n"
    }
   },
   "source": [
    "BFGS法を1.5Aから開始した場合、特定のstepではあまりにも大きくジャンプしてしまい、安定点を大きく飛び越えるような不安定な挙動になっていることがわかります。<br/>\n",
    "(1.18A --> 0.78Aにジャンプしているようなところです。)<br/>\n",
    "このように、最適値1.12A にたどり着くまでに、この単純な例でも大きく振動しまいます。<br/>\n",
    "これは2次の近似を行う手法では、関数曲面が2次関数と異なる場合に、その極小値の見積もりが大きくはずれてしまうために起こります。"
   ]
  },
  {
   "cell_type": "code",
   "execution_count": 17,
   "id": "55aabb42-5353-473c-853b-b71bbed09d23",
   "metadata": {
    "pycharm": {
     "name": "#%%\n"
    }
   },
   "outputs": [
    {
     "name": "stdout",
     "output_type": "stream",
     "text": [
      "      Step     Time          Energy         fmax\n",
      "BFGS:    0 05:50:34       -0.314857        1.1580\n",
      "BFGS:    1 05:50:34       -0.355681        1.3124\n",
      "BFGS:    2 05:50:34       -0.916039        2.0410\n",
      "BFGS:    3 05:50:34       55.304434      974.4875\n",
      "BFGS:    4 05:50:34       -0.917740        2.0288\n",
      "BFGS:    5 05:50:34       -0.919418        2.0163\n",
      "BFGS:    6 05:50:34       -0.747080        8.5176\n",
      "BFGS:    7 05:50:34       -0.965068        1.4729\n",
      "BFGS:    8 05:50:34       -0.984660        0.9397\n",
      "BFGS:    9 05:50:34       -0.992324        0.5286\n",
      "BFGS:   10 05:50:34       -0.994444        0.0924\n",
      "BFGS:   11 05:50:34       -0.994520        0.0073\n",
      "Distance in opt trajectory:  [1.5, 1.4669134619701096, 1.1856710148074785, 0.7856710148074794, 1.1848349876531552, 1.1840057048694352, 1.0494144415980853, 1.1582431525834571, 1.1421985974452118, 1.1139254943723882, 1.1241042745909056, 1.122589482834374]\n"
     ]
    },
    {
     "data": {
      "image/png": "[encoded data removed]",
      "text/plain": [
       "<Figure size 432x288 with 1 Axes>"
      ]
     },
     "metadata": {
      "needs_background": "light"
     },
     "output_type": "display_data"
    }
   ],
   "source": [
    "lennard_jones_trajectory(BFGS, 1.5)"
   ]
  },
  {
   "cell_type": "markdown",
   "id": "d6454d1a-31e7-426f-a595-d831648dd4e0",
   "metadata": {
    "pycharm": {
     "name": "#%% md\n"
    }
   },
   "source": [
    "同じことがLBFGS法でも起こります。  \n",
    "このような振動が多原子系で起こった場合、長い間最適化が終了しないような場合もあります。"
   ]
  },
  {
   "cell_type": "code",
   "execution_count": 18,
   "id": "30828765-16ff-41f0-9a12-81785ae5681c",
   "metadata": {
    "pycharm": {
     "name": "#%%\n"
    }
   },
   "outputs": [
    {
     "name": "stdout",
     "output_type": "stream",
     "text": [
      "       Step     Time          Energy         fmax\n",
      "*Force-consistent energies used in optimization.\n",
      "LBFGS:    0 05:50:35       -0.697220*       2.3246\n",
      "LBFGS:    1 05:50:35       -0.854683*       2.3149\n",
      "LBFGS:    2 05:50:35       33.771592*     599.7519\n",
      "LBFGS:    3 05:50:35       -0.858237*       2.3057\n",
      "LBFGS:    4 05:50:35       -0.861748*       2.2959\n",
      "LBFGS:    5 05:50:36       17.305333*     318.4918\n",
      "LBFGS:    6 05:50:36       -0.867638*       2.2781\n",
      "LBFGS:    7 05:50:36       -0.873395*       2.2589\n",
      "LBFGS:    8 05:50:36        5.604073*     121.1548\n",
      "LBFGS:    9 05:50:36       -0.885566*       2.2113\n",
      "LBFGS:   10 05:50:36       -0.897001*       2.1571\n",
      "LBFGS:   11 05:50:36        0.369118*      30.7872\n",
      "LBFGS:   12 05:50:36       -0.925197*       1.9707\n",
      "LBFGS:   13 05:50:36       -0.947015*       1.7491\n",
      "LBFGS:   14 05:50:36       -0.915603*       4.0090\n",
      "LBFGS:   15 05:50:36       -0.985429*       0.9069\n",
      "LBFGS:   16 05:50:36       -0.993163*       0.3771\n",
      "LBFGS:   17 05:50:36       -0.994465*       0.0806\n",
      "LBFGS:   18 05:50:36       -0.994520*       0.0054\n",
      "Distance in opt trajectory:  [1.28, 1.213584232746016, 0.813584232746016, 1.2120462614888505, 1.2105202846657441, 0.8506725019776178, 1.2079447803538974, 1.2054073889508412, 0.9079986088524981, 1.19996383178627, 1.1947303311793396, 0.986665993291516, 1.181106905537103, 1.1694092735266515, 1.077087999344094, 1.141365556759249, 1.1295077111909042, 1.1210690913427293, 1.1225559889249783]\n"
     ]
    },
    {
     "data": {
      "image/png": "[encoded data removed]",
      "text/plain": [
       "<Figure size 432x288 with 1 Axes>"
      ]
     },
     "metadata": {
      "needs_background": "light"
     },
     "output_type": "display_data"
    }
   ],
   "source": [
    "lennard_jones_trajectory(LBFGS, 1.28)"
   ]
  },
  {
   "cell_type": "markdown",
   "id": "45669df6-4a40-413a-8415-1188ae7c96ee",
   "metadata": {
    "pycharm": {
     "name": "#%% md\n"
    }
   },
   "source": [
    "このような振動が多原子系で起こった場合、本当にいつまでたっても最適化が終了しないような場合もあります。"
   ]
  },
  {
   "cell_type": "markdown",
   "id": "25e5cbb3-0d88-411f-b287-456a5f866fba",
   "metadata": {
    "pycharm": {
     "name": "#%% md\n"
    }
   },
   "source": [
    "また、他にも初期値が安定点から離れたところからスタートした場合に正しく安定点にたどり着けていないケースも有ります。<br/>\n",
    "これは、Hessianの初期化がうまく行かないなどの理由で起きていると考えられます。"
   ]
  },
  {
   "cell_type": "code",
   "execution_count": 19,
   "id": "dc6a25ae-6603-49fd-95a9-3d6d6ff5f1b8",
   "metadata": {
    "pycharm": {
     "name": "#%%\n"
    }
   },
   "outputs": [
    {
     "name": "stdout",
     "output_type": "stream",
     "text": [
      "       Step     Time          Energy         fmax\n",
      "*Force-consistent energies used in optimization.\n",
      "LBFGS:    0 05:50:37       -0.314857*       1.1580\n",
      "LBFGS:    1 05:50:37       -0.355681*       1.3124\n",
      "LBFGS:    2 05:50:37       -0.129756*       0.4473\n",
      "LBFGS:    3 05:50:37       -0.079409*       0.2630\n",
      "LBFGS:    4 05:50:37       -0.040472*       0.1297\n",
      "LBFGS:    5 05:50:37       -0.021155*       0.0689\n",
      "LBFGS:    6 05:50:37       -0.009646*       0.0357\n",
      "Distance in opt trajectory:  [1.5, 1.4669134619701096, 1.748155909132741, 1.8935676545167726, 2.101103976550205, 2.302941039822042, 2.531922335240822]\n"
     ]
    },
    {
     "data": {
      "image/png": "[encoded data removed]",
      "text/plain": [
       "<Figure size 432x288 with 1 Axes>"
      ]
     },
     "metadata": {
      "needs_background": "light"
     },
     "output_type": "display_data"
    }
   ],
   "source": [
    "lennard_jones_trajectory(LBFGS, 1.50)"
   ]
  },
  {
   "cell_type": "markdown",
   "id": "7a22e138-7238-4c49-8b8d-c120b9caa5b2",
   "metadata": {
    "pycharm": {
     "name": "#%% md\n"
    }
   },
   "source": [
    "このようにBFGSやLBFGSがうまくいかない例であっても、LineSearchを行うことで正しく収束させることが出来ます。  \n",
    "LBFGSLineSearchはほとんどの場合において最良のOptimizerです。"
   ]
  },
  {
   "cell_type": "code",
   "execution_count": 20,
   "id": "a14e35d2-5ccf-484b-bc4a-091ef338d848",
   "metadata": {
    "pycharm": {
     "name": "#%%\n"
    }
   },
   "outputs": [
    {
     "name": "stdout",
     "output_type": "stream",
     "text": [
      "                 Step     Time          Energy         fmax\n",
      "*Force-consistent energies used in optimization.\n",
      "LBFGSLineSearch:    0 05:50:38       -0.314857*       1.1580\n",
      "LBFGSLineSearch:    1 05:50:38       -0.994517*       0.0214\n",
      "Distance in opt trajectory:  [1.5, 1.1220880716401869]\n"
     ]
    },
    {
     "data": {
      "image/png": "[encoded data removed]",
      "text/plain": [
       "<Figure size 432x288 with 1 Axes>"
      ]
     },
     "metadata": {
      "needs_background": "light"
     },
     "output_type": "display_data"
    }
   ],
   "source": [
    "lennard_jones_trajectory(LBFGSLineSearch, 1.5)"
   ]
  },
  {
   "cell_type": "markdown",
   "id": "1f0b8277-8e33-4efb-a0de-2f4761e1f011",
   "metadata": {
    "pycharm": {
     "name": "#%% md\n"
    }
   },
   "source": [
    "LBFGSLineSearchでは1ステップで終了しているように見えますが、内部でLineSearchを行っている部分がステップにカウントされていないため、実際の計算数はもう少し多いです。</br>\n",
    "BFGSLineSearchでは Step[FC]という表示がありますが、このFCが実際のフォース評価回数です。"
   ]
  },
  {
   "cell_type": "code",
   "execution_count": 21,
   "id": "f15a87b5-acd4-4d36-a47d-fd80b7531c5c",
   "metadata": {
    "pycharm": {
     "name": "#%%\n"
    }
   },
   "outputs": [
    {
     "name": "stdout",
     "output_type": "stream",
     "text": [
      "                Step[ FC]     Time          Energy          fmax\n",
      "*Force-consistent energies used in optimization.\n",
      "BFGSLineSearch:    0[  0] 05:50:39       -0.314857*       1.1580\n",
      "BFGSLineSearch:    1[  5] 05:50:39       -0.994057*       0.2244\n",
      "BFGSLineSearch:    2[  7] 05:50:39       -0.994520*       0.0054\n",
      "Distance in opt trajectory:  [1.5, 1.1265420003736115, 1.1225561293552997]\n"
     ]
    },
    {
     "data": {
      "image/png": "[encoded data removed]",
      "text/plain": [
       "<Figure size 432x288 with 1 Axes>"
      ]
     },
     "metadata": {
      "needs_background": "light"
     },
     "output_type": "display_data"
    }
   ],
   "source": [
    "lennard_jones_trajectory(BFGSLineSearch, 1.5)"
   ]
  },
  {
   "cell_type": "markdown",
   "id": "ccf29b71-c5e9-4190-b4bb-eacfab488ca0",
   "metadata": {
    "pycharm": {
     "name": "#%% md\n"
    }
   },
   "source": [
    "ここではBFGSやLBFGSがうまくいかない例があることを見てきました。\n",
    "しかし、このような例であってもLBFGSLineSearchはうまくいっています。\n",
    "\n",
    "ここまでの結論としては多くの場合においてLBFGSLineSearchが最良のOptimizerとなります。  \n",
    "以下にLBFGSLineSearch以外のOptimizerの欠点を述べます。\n",
    "\n",
    "- FIRE: 収束までのステップ数が長い\n",
    "- BFGS: 原子数が多い時に計算時間がかかる。\n",
    "- BFGSLineSearch: 原子数が多い時に計算時間がかかる。\n",
    "- LBFGS: 振動したり、エネルギーが上がってしまう場合がある。"
   ]
  },
  {
   "cell_type": "markdown",
   "id": "57f1751f-15b3-4373-b6f9-a1f0c7343334",
   "metadata": {
    "pycharm": {
     "name": "#%% md\n"
    }
   },
   "source": [
    "しかし、常にLBFGSLineSearchを使うとうまくいくかというと、現状残念ながら必ずしもそうではありません。"
   ]
  },
  {
   "cell_type": "markdown",
   "id": "5b8f6464-e3b9-43ed-99e9-375f6cf3e0f2",
   "metadata": {
    "pycharm": {
     "name": "#%% md\n"
    }
   },
   "source": [
    "### LBFGSLineSearchが良くない例"
   ]
  },
  {
   "cell_type": "markdown",
   "id": "afd9414a-2da2-49a6-8154-8896370d9ba1",
   "metadata": {
    "pycharm": {
     "name": "#%% md\n"
    }
   },
   "source": [
    "LBFGSLineSearchは非常に完成度の高い手法であり、多くの場合はLBFGSLineSearchを使えばうまくいきます。  \n",
    "しかし、稀にLBFGSLineSearchがうまくいかなくなってしまう例も存在します。  \n",
    "例えば、fmaxを小さくして精密に構造最適化したい時に良くこのような例にあたります。  \n",
    "例えばトルエンのメチル基の回転を最適化したい場合、fmax=0.001eV/A程度にしないと回転に関して極小値に到達しません。   \n",
    "この例ではLineSearchがなかなか収束しなくなり1ステップに長い時間がかかるようになったり、エネルギーが下がらなくなったり、場合によってはLineSearchが破綻して `RuntimeError: LineSearch failed!` となってエラーになってしまう場合もあります。"
   ]
  },
  {
   "cell_type": "code",
   "execution_count": 22,
   "id": "2d3ec9b0-f1df-4a8f-95e9-233ed38144b1",
   "metadata": {
    "pycharm": {
     "name": "#%%\n"
    }
   },
   "outputs": [],
   "source": [
    "atoms_0 = smiles_to_atoms(\"Cc1ccccc1\")\n",
    "tmp = atoms_0[7:10]\n",
    "tmp.rotate([1.0, 0.0, 0.0], 15.0)\n",
    "atoms_0.positions[7:10] = tmp.positions\n",
    "atoms_0.calc = calc_mol"
   ]
  },
  {
   "cell_type": "code",
   "execution_count": 23,
   "id": "f7cd6622-351c-499d-89ea-0b91a1035e53",
   "metadata": {
    "pycharm": {
     "name": "#%%\n"
    }
   },
   "outputs": [
    {
     "data": {
      "application/vnd.jupyter.widget-view+json": {
       "model_id": "a6ac95f62e904aa39f7c4e5dfe221d78",
       "version_major": 2,
       "version_minor": 0
      },
      "text/plain": [
       "HBox(children=(NGLWidget(), VBox(children=(Dropdown(description='Show', options=('All', 'H', 'C'), value='All'…"
      ]
     },
     "metadata": {},
     "output_type": "display_data"
    }
   ],
   "source": [
    "view_ngl(atoms_0, representations=[\"ball+stick\"], h=600, w=600)"
   ]
  },
  {
   "cell_type": "code",
   "execution_count": 24,
   "id": "3e552505-ffbd-458f-bd54-9866fd58cc87",
   "metadata": {
    "pycharm": {
     "name": "#%%\n"
    },
    "tags": []
   },
   "outputs": [
    {
     "name": "stdout",
     "output_type": "stream",
     "text": [
      "FIRE optimization starts.\n",
      "Optimization finished without error. steps = 200\n",
      "LBFGS optimization starts.\n",
      "Optimization finished without error. steps = 80\n",
      "LBFGSLineSearch optimization starts.\n"
     ]
    },
    {
     "ename": "RuntimeError",
     "evalue": "LineSearch failed!",
     "output_type": "error",
     "traceback": [
      "\u001b[0;31m---------------------------------------------------------------------------\u001b[0m",
      "\u001b[0;31mRuntimeError\u001b[0m                              Traceback (most recent call last)",
      "\u001b[0;32m<ipython-input-24-3cd935020049>\u001b[0m in \u001b[0;36m<module>\u001b[0;34m\u001b[0m\n\u001b[1;32m     11\u001b[0m         \u001b[0;32mtry\u001b[0m\u001b[0;34m:\u001b[0m\u001b[0;34m\u001b[0m\u001b[0;34m\u001b[0m\u001b[0m\n\u001b[1;32m     12\u001b[0m             \u001b[0mprint\u001b[0m\u001b[0;34m(\u001b[0m\u001b[0;34mf\"{name} optimization starts.\"\u001b[0m\u001b[0;34m)\u001b[0m\u001b[0;34m\u001b[0m\u001b[0;34m\u001b[0m\u001b[0m\n\u001b[0;32m---> 13\u001b[0;31m             \u001b[0mopt\u001b[0m\u001b[0;34m.\u001b[0m\u001b[0mrun\u001b[0m\u001b[0;34m(\u001b[0m\u001b[0mfmax\u001b[0m\u001b[0;34m=\u001b[0m\u001b[0;36m0.001\u001b[0m\u001b[0;34m,\u001b[0m \u001b[0msteps\u001b[0m\u001b[0;34m=\u001b[0m\u001b[0;36m200\u001b[0m\u001b[0;34m)\u001b[0m\u001b[0;34m\u001b[0m\u001b[0;34m\u001b[0m\u001b[0m\n\u001b[0m\u001b[1;32m     14\u001b[0m             \u001b[0mprint\u001b[0m\u001b[0;34m(\u001b[0m\u001b[0;34mf\"Optimization finished without error. steps = {opt.nsteps}\"\u001b[0m\u001b[0;34m)\u001b[0m\u001b[0;34m\u001b[0m\u001b[0;34m\u001b[0m\u001b[0m\n\u001b[1;32m     15\u001b[0m         \u001b[0;32mfinally\u001b[0m\u001b[0;34m:\u001b[0m\u001b[0;34m\u001b[0m\u001b[0;34m\u001b[0m\u001b[0m\n",
      "\u001b[0;32m~/.local/lib/python3.7/site-packages/ase/optimize/optimize.py\u001b[0m in \u001b[0;36mrun\u001b[0;34m(self, fmax, steps)\u001b[0m\n\u001b[1;32m    267\u001b[0m         \u001b[0;32mif\u001b[0m \u001b[0msteps\u001b[0m\u001b[0;34m:\u001b[0m\u001b[0;34m\u001b[0m\u001b[0;34m\u001b[0m\u001b[0m\n\u001b[1;32m    268\u001b[0m             \u001b[0mself\u001b[0m\u001b[0;34m.\u001b[0m\u001b[0mmax_steps\u001b[0m \u001b[0;34m=\u001b[0m \u001b[0msteps\u001b[0m\u001b[0;34m\u001b[0m\u001b[0;34m\u001b[0m\u001b[0m\n\u001b[0;32m--> 269\u001b[0;31m         \u001b[0;32mreturn\u001b[0m \u001b[0mDynamics\u001b[0m\u001b[0;34m.\u001b[0m\u001b[0mrun\u001b[0m\u001b[0;34m(\u001b[0m\u001b[0mself\u001b[0m\u001b[0;34m)\u001b[0m\u001b[0;34m\u001b[0m\u001b[0;34m\u001b[0m\u001b[0m\n\u001b[0m\u001b[1;32m    270\u001b[0m \u001b[0;34m\u001b[0m\u001b[0m\n\u001b[1;32m    271\u001b[0m     \u001b[0;32mdef\u001b[0m \u001b[0mconverged\u001b[0m\u001b[0;34m(\u001b[0m\u001b[0mself\u001b[0m\u001b[0;34m,\u001b[0m \u001b[0mforces\u001b[0m\u001b[0;34m=\u001b[0m\u001b[0;32mNone\u001b[0m\u001b[0;34m)\u001b[0m\u001b[0;34m:\u001b[0m\u001b[0;34m\u001b[0m\u001b[0;34m\u001b[0m\u001b[0m\n",
      "\u001b[0;32m~/.local/lib/python3.7/site-packages/ase/optimize/optimize.py\u001b[0m in \u001b[0;36mrun\u001b[0;34m(self)\u001b[0m\n\u001b[1;32m    154\u001b[0m         *steps*.\"\"\"\n\u001b[1;32m    155\u001b[0m \u001b[0;34m\u001b[0m\u001b[0m\n\u001b[0;32m--> 156\u001b[0;31m         \u001b[0;32mfor\u001b[0m \u001b[0mconverged\u001b[0m \u001b[0;32min\u001b[0m \u001b[0mDynamics\u001b[0m\u001b[0;34m.\u001b[0m\u001b[0mirun\u001b[0m\u001b[0;34m(\u001b[0m\u001b[0mself\u001b[0m\u001b[0;34m)\u001b[0m\u001b[0;34m:\u001b[0m\u001b[0;34m\u001b[0m\u001b[0;34m\u001b[0m\u001b[0m\n\u001b[0m\u001b[1;32m    157\u001b[0m             \u001b[0;32mpass\u001b[0m\u001b[0;34m\u001b[0m\u001b[0;34m\u001b[0m\u001b[0m\n\u001b[1;32m    158\u001b[0m         \u001b[0;32mreturn\u001b[0m \u001b[0mconverged\u001b[0m\u001b[0;34m\u001b[0m\u001b[0;34m\u001b[0m\u001b[0m\n",
      "\u001b[0;32m~/.local/lib/python3.7/site-packages/ase/optimize/optimize.py\u001b[0m in \u001b[0;36mirun\u001b[0;34m(self)\u001b[0m\n\u001b[1;32m    133\u001b[0m \u001b[0;34m\u001b[0m\u001b[0m\n\u001b[1;32m    134\u001b[0m             \u001b[0;31m# compute the next step\u001b[0m\u001b[0;34m\u001b[0m\u001b[0;34m\u001b[0m\u001b[0;34m\u001b[0m\u001b[0m\n\u001b[0;32m--> 135\u001b[0;31m             \u001b[0mself\u001b[0m\u001b[0;34m.\u001b[0m\u001b[0mstep\u001b[0m\u001b[0;34m(\u001b[0m\u001b[0;34m)\u001b[0m\u001b[0;34m\u001b[0m\u001b[0;34m\u001b[0m\u001b[0m\n\u001b[0m\u001b[1;32m    136\u001b[0m             \u001b[0mself\u001b[0m\u001b[0;34m.\u001b[0m\u001b[0mnsteps\u001b[0m \u001b[0;34m+=\u001b[0m \u001b[0;36m1\u001b[0m\u001b[0;34m\u001b[0m\u001b[0;34m\u001b[0m\u001b[0m\n\u001b[1;32m    137\u001b[0m \u001b[0;34m\u001b[0m\u001b[0m\n",
      "\u001b[0;32m~/.local/lib/python3.7/site-packages/ase/optimize/lbfgs.py\u001b[0m in \u001b[0;36mstep\u001b[0;34m(self, f)\u001b[0m\n\u001b[1;32m    145\u001b[0m         \u001b[0;32mif\u001b[0m \u001b[0mself\u001b[0m\u001b[0;34m.\u001b[0m\u001b[0muse_line_search\u001b[0m \u001b[0;32mis\u001b[0m \u001b[0;32mTrue\u001b[0m\u001b[0;34m:\u001b[0m\u001b[0;34m\u001b[0m\u001b[0;34m\u001b[0m\u001b[0m\n\u001b[1;32m    146\u001b[0m             \u001b[0me\u001b[0m \u001b[0;34m=\u001b[0m \u001b[0mself\u001b[0m\u001b[0;34m.\u001b[0m\u001b[0mfunc\u001b[0m\u001b[0;34m(\u001b[0m\u001b[0mr\u001b[0m\u001b[0;34m)\u001b[0m\u001b[0;34m\u001b[0m\u001b[0;34m\u001b[0m\u001b[0m\n\u001b[0;32m--> 147\u001b[0;31m             \u001b[0mself\u001b[0m\u001b[0;34m.\u001b[0m\u001b[0mline_search\u001b[0m\u001b[0;34m(\u001b[0m\u001b[0mr\u001b[0m\u001b[0;34m,\u001b[0m \u001b[0mg\u001b[0m\u001b[0;34m,\u001b[0m \u001b[0me\u001b[0m\u001b[0;34m)\u001b[0m\u001b[0;34m\u001b[0m\u001b[0;34m\u001b[0m\u001b[0m\n\u001b[0m\u001b[1;32m    148\u001b[0m             \u001b[0mdr\u001b[0m \u001b[0;34m=\u001b[0m \u001b[0;34m(\u001b[0m\u001b[0mself\u001b[0m\u001b[0;34m.\u001b[0m\u001b[0malpha_k\u001b[0m \u001b[0;34m*\u001b[0m \u001b[0mself\u001b[0m\u001b[0;34m.\u001b[0m\u001b[0mp\u001b[0m\u001b[0;34m)\u001b[0m\u001b[0;34m.\u001b[0m\u001b[0mreshape\u001b[0m\u001b[0;34m(\u001b[0m\u001b[0mlen\u001b[0m\u001b[0;34m(\u001b[0m\u001b[0mself\u001b[0m\u001b[0;34m.\u001b[0m\u001b[0matoms\u001b[0m\u001b[0;34m)\u001b[0m\u001b[0;34m,\u001b[0m \u001b[0;34m-\u001b[0m\u001b[0;36m1\u001b[0m\u001b[0;34m)\u001b[0m\u001b[0;34m\u001b[0m\u001b[0;34m\u001b[0m\u001b[0m\n\u001b[1;32m    149\u001b[0m         \u001b[0;32melse\u001b[0m\u001b[0;34m:\u001b[0m\u001b[0;34m\u001b[0m\u001b[0;34m\u001b[0m\u001b[0m\n",
      "\u001b[0;32m~/.local/lib/python3.7/site-packages/ase/optimize/lbfgs.py\u001b[0m in \u001b[0;36mline_search\u001b[0;34m(self, r, g, e)\u001b[0m\n\u001b[1;32m    239\u001b[0m                             c2=.46, stpmax=50.)\n\u001b[1;32m    240\u001b[0m         \u001b[0;32mif\u001b[0m \u001b[0mself\u001b[0m\u001b[0;34m.\u001b[0m\u001b[0malpha_k\u001b[0m \u001b[0;32mis\u001b[0m \u001b[0;32mNone\u001b[0m\u001b[0;34m:\u001b[0m\u001b[0;34m\u001b[0m\u001b[0;34m\u001b[0m\u001b[0m\n\u001b[0;32m--> 241\u001b[0;31m             \u001b[0;32mraise\u001b[0m \u001b[0mRuntimeError\u001b[0m\u001b[0;34m(\u001b[0m\u001b[0;34m'LineSearch failed!'\u001b[0m\u001b[0;34m)\u001b[0m\u001b[0;34m\u001b[0m\u001b[0;34m\u001b[0m\u001b[0m\n\u001b[0m\u001b[1;32m    242\u001b[0m \u001b[0;34m\u001b[0m\u001b[0m\n\u001b[1;32m    243\u001b[0m \u001b[0;34m\u001b[0m\u001b[0m\n",
      "\u001b[0;31mRuntimeError\u001b[0m: LineSearch failed!"
     ]
    }
   ],
   "source": [
    "# Please set '-', if you want to see detailed logs.\n",
    "logfile = None\n",
    "\n",
    "steps = {}\n",
    "images = []\n",
    "for optimizer_class in (FIRE, LBFGS, LBFGSLineSearch):\n",
    "    name = optimizer_class.__name__\n",
    "    atoms = atoms_0.copy()\n",
    "    atoms.calc = calc_mol\n",
    "    with optimizer_class(atoms, logfile=logfile) as opt:\n",
    "        try:\n",
    "            print(f\"{name} optimization starts.\")\n",
    "            opt.run(fmax=0.001, steps=200)\n",
    "            print(f\"Optimization finished without error. steps = {opt.nsteps}\")\n",
    "        finally:\n",
    "            steps[name] = [get_force_calls(opt)]\n",
    "            images.append(atoms.copy())"
   ]
  },
  {
   "cell_type": "code",
   "execution_count": 25,
   "id": "07cdd4ba-a22a-4d1e-b8fe-4b25886969f9",
   "metadata": {
    "pycharm": {
     "name": "#%%\n"
    }
   },
   "outputs": [
    {
     "data": {
      "text/html": [
       "<div>\n",
       "<style scoped>\n",
       "    .dataframe tbody tr th:only-of-type {\n",
       "        vertical-align: middle;\n",
       "    }\n",
       "\n",
       "    .dataframe tbody tr th {\n",
       "        vertical-align: top;\n",
       "    }\n",
       "\n",
       "    .dataframe thead th {\n",
       "        text-align: right;\n",
       "    }\n",
       "</style>\n",
       "<table border=\"1\" class=\"dataframe\">\n",
       "  <thead>\n",
       "    <tr style=\"text-align: right;\">\n",
       "      <th></th>\n",
       "      <th>FIRE</th>\n",
       "      <th>LBFGS</th>\n",
       "      <th>LBFGSLineSearch</th>\n",
       "    </tr>\n",
       "    <tr>\n",
       "      <th>index</th>\n",
       "      <th></th>\n",
       "      <th></th>\n",
       "      <th></th>\n",
       "    </tr>\n",
       "  </thead>\n",
       "  <tbody>\n",
       "    <tr>\n",
       "      <th>nsteps</th>\n",
       "      <td>200</td>\n",
       "      <td>80</td>\n",
       "      <td>354</td>\n",
       "    </tr>\n",
       "  </tbody>\n",
       "</table>\n",
       "</div>"
      ],
      "text/plain": [
       "        FIRE  LBFGS  LBFGSLineSearch\n",
       "index                               \n",
       "nsteps   200     80              354"
      ]
     },
     "execution_count": 25,
     "metadata": {},
     "output_type": "execute_result"
    }
   ],
   "source": [
    "steps[\"index\"] = \"nsteps\"\n",
    "df = pd.DataFrame(steps)\n",
    "df = df.set_index(\"index\")\n",
    "df"
   ]
  },
  {
   "cell_type": "markdown",
   "id": "1d168bb3-56cb-4025-ae0a-19949ad128bf",
   "metadata": {
    "pycharm": {
     "name": "#%% md\n"
    }
   },
   "source": [
    "この例ではLBFGSは収束しますが、FIREは収束しませんでした。\n",
    "\n",
    "また、LBFGSLineSearchは後半に1ステップあたりにすごく長い時間がかかった上に収束せず、場合によっては  `RuntimeError: LineSearch failed!` というエラーが出ます。  \n",
    "経験的に多くの場合はfmax=0.002eV/A 付近からLBFGSLineSearchが収束しにくくなりますが、  \n",
    "もっとポテンシャルの形状が悪い場合はfmax=0.05に到達しないケースもあります。"
   ]
  },
  {
   "cell_type": "markdown",
   "id": "25f3e36f-54bd-42e8-a27f-cb93f6d8ab55",
   "metadata": {
    "pycharm": {
     "name": "#%% md\n"
    }
   },
   "source": [
    "ちなみに、このようにLBFGSLineSearchが進まなくなってしまった場合はLBFGSLineSearchを実行しなおすことで、うまくいくようになることがあります。（うまくいかない時もあります）  "
   ]
  },
  {
   "cell_type": "code",
   "execution_count": 26,
   "id": "00e46f5b-f449-4476-891f-b9c278d92d49",
   "metadata": {
    "pycharm": {
     "name": "#%%\n"
    },
    "tags": []
   },
   "outputs": [
    {
     "name": "stdout",
     "output_type": "stream",
     "text": [
      "                 Step     Time          Energy         fmax\n",
      "*Force-consistent energies used in optimization.\n",
      "LBFGSLineSearch:    0 05:51:28      -72.184868*       0.0060\n",
      "LBFGSLineSearch:    1 05:51:29      -72.184873*       0.0060\n",
      "LBFGSLineSearch:    2 05:51:29      -72.184873*       0.0060\n",
      "LBFGSLineSearch:    3 05:51:30      -72.184873*       0.0060\n",
      "LBFGSLineSearch:    4 05:51:30      -72.184873*       0.0060\n",
      "LBFGSLineSearch:    5 05:51:30      -72.184873*       0.0060\n",
      "LBFGSLineSearch:    6 05:51:31      -72.184874*       0.0060\n",
      "LBFGSLineSearch:    7 05:51:31      -72.184875*       0.0060\n",
      "LBFGSLineSearch:    8 05:51:32      -72.184875*       0.0060\n",
      "LBFGSLineSearch:    9 05:51:32      -72.184875*       0.0060\n",
      "LBFGSLineSearch:   10 05:51:32      -72.184873*       0.0060\n",
      "LBFGSLineSearch:   11 05:51:33      -72.184874*       0.0060\n",
      "LBFGSLineSearch:   12 05:51:33      -72.184875*       0.0060\n",
      "LBFGSLineSearch:   13 05:51:33      -72.184874*       0.0060\n",
      "LBFGSLineSearch:   14 05:51:34      -72.184874*       0.0060\n",
      "LBFGSLineSearch:   15 05:51:34      -72.184873*       0.0060\n",
      "LBFGSLineSearch:   16 05:51:35      -72.184874*       0.0060\n",
      "LBFGSLineSearch:   17 05:51:35      -72.184874*       0.0060\n",
      "LBFGSLineSearch:   18 05:51:35      -72.184874*       0.0060\n",
      "LBFGSLineSearch:   19 05:51:36      -72.184874*       0.0060\n",
      "LBFGSLineSearch:   20 05:51:36      -72.184873*       0.0060\n",
      "LBFGSLineSearch:   21 05:51:36      -72.184873*       0.0060\n",
      "LBFGSLineSearch:   22 05:51:37      -72.184875*       0.0060\n",
      "LBFGSLineSearch:   23 05:51:37      -72.184874*       0.0060\n",
      "LBFGSLineSearch:   24 05:51:37      -72.184874*       0.0060\n",
      "LBFGSLineSearch:   25 05:51:38      -72.184875*       0.0060\n",
      "LBFGSLineSearch:   26 05:51:38      -72.184873*       0.0060\n",
      "LBFGSLineSearch:   27 05:51:39      -72.184874*       0.0060\n",
      "LBFGSLineSearch:   28 05:51:39      -72.184873*       0.0060\n"
     ]
    },
    {
     "ename": "RuntimeError",
     "evalue": "LineSearch failed!",
     "output_type": "error",
     "traceback": [
      "\u001b[0;31m---------------------------------------------------------------------------\u001b[0m",
      "\u001b[0;31mRuntimeError\u001b[0m                              Traceback (most recent call last)",
      "\u001b[0;32m<ipython-input-26-2bdd7f5e2853>\u001b[0m in \u001b[0;36m<module>\u001b[0;34m\u001b[0m\n\u001b[1;32m      1\u001b[0m \u001b[0;32mwith\u001b[0m \u001b[0mLBFGSLineSearch\u001b[0m\u001b[0;34m(\u001b[0m\u001b[0matoms\u001b[0m\u001b[0;34m)\u001b[0m \u001b[0;32mas\u001b[0m \u001b[0mopt\u001b[0m\u001b[0;34m:\u001b[0m\u001b[0;34m\u001b[0m\u001b[0;34m\u001b[0m\u001b[0m\n\u001b[0;32m----> 2\u001b[0;31m     \u001b[0mopt\u001b[0m\u001b[0;34m.\u001b[0m\u001b[0mrun\u001b[0m\u001b[0;34m(\u001b[0m\u001b[0;36m0.001\u001b[0m\u001b[0;34m)\u001b[0m\u001b[0;34m\u001b[0m\u001b[0;34m\u001b[0m\u001b[0m\n\u001b[0m",
      "\u001b[0;32m~/.local/lib/python3.7/site-packages/ase/optimize/optimize.py\u001b[0m in \u001b[0;36mrun\u001b[0;34m(self, fmax, steps)\u001b[0m\n\u001b[1;32m    267\u001b[0m         \u001b[0;32mif\u001b[0m \u001b[0msteps\u001b[0m\u001b[0;34m:\u001b[0m\u001b[0;34m\u001b[0m\u001b[0;34m\u001b[0m\u001b[0m\n\u001b[1;32m    268\u001b[0m             \u001b[0mself\u001b[0m\u001b[0;34m.\u001b[0m\u001b[0mmax_steps\u001b[0m \u001b[0;34m=\u001b[0m \u001b[0msteps\u001b[0m\u001b[0;34m\u001b[0m\u001b[0;34m\u001b[0m\u001b[0m\n\u001b[0;32m--> 269\u001b[0;31m         \u001b[0;32mreturn\u001b[0m \u001b[0mDynamics\u001b[0m\u001b[0;34m.\u001b[0m\u001b[0mrun\u001b[0m\u001b[0;34m(\u001b[0m\u001b[0mself\u001b[0m\u001b[0;34m)\u001b[0m\u001b[0;34m\u001b[0m\u001b[0;34m\u001b[0m\u001b[0m\n\u001b[0m\u001b[1;32m    270\u001b[0m \u001b[0;34m\u001b[0m\u001b[0m\n\u001b[1;32m    271\u001b[0m     \u001b[0;32mdef\u001b[0m \u001b[0mconverged\u001b[0m\u001b[0;34m(\u001b[0m\u001b[0mself\u001b[0m\u001b[0;34m,\u001b[0m \u001b[0mforces\u001b[0m\u001b[0;34m=\u001b[0m\u001b[0;32mNone\u001b[0m\u001b[0;34m)\u001b[0m\u001b[0;34m:\u001b[0m\u001b[0;34m\u001b[0m\u001b[0;34m\u001b[0m\u001b[0m\n",
      "\u001b[0;32m~/.local/lib/python3.7/site-packages/ase/optimize/optimize.py\u001b[0m in \u001b[0;36mrun\u001b[0;34m(self)\u001b[0m\n\u001b[1;32m    154\u001b[0m         *steps*.\"\"\"\n\u001b[1;32m    155\u001b[0m \u001b[0;34m\u001b[0m\u001b[0m\n\u001b[0;32m--> 156\u001b[0;31m         \u001b[0;32mfor\u001b[0m \u001b[0mconverged\u001b[0m \u001b[0;32min\u001b[0m \u001b[0mDynamics\u001b[0m\u001b[0;34m.\u001b[0m\u001b[0mirun\u001b[0m\u001b[0;34m(\u001b[0m\u001b[0mself\u001b[0m\u001b[0;34m)\u001b[0m\u001b[0;34m:\u001b[0m\u001b[0;34m\u001b[0m\u001b[0;34m\u001b[0m\u001b[0m\n\u001b[0m\u001b[1;32m    157\u001b[0m             \u001b[0;32mpass\u001b[0m\u001b[0;34m\u001b[0m\u001b[0;34m\u001b[0m\u001b[0m\n\u001b[1;32m    158\u001b[0m         \u001b[0;32mreturn\u001b[0m \u001b[0mconverged\u001b[0m\u001b[0;34m\u001b[0m\u001b[0;34m\u001b[0m\u001b[0m\n",
      "\u001b[0;32m~/.local/lib/python3.7/site-packages/ase/optimize/optimize.py\u001b[0m in \u001b[0;36mirun\u001b[0;34m(self)\u001b[0m\n\u001b[1;32m    133\u001b[0m \u001b[0;34m\u001b[0m\u001b[0m\n\u001b[1;32m    134\u001b[0m             \u001b[0;31m# compute the next step\u001b[0m\u001b[0;34m\u001b[0m\u001b[0;34m\u001b[0m\u001b[0;34m\u001b[0m\u001b[0m\n\u001b[0;32m--> 135\u001b[0;31m             \u001b[0mself\u001b[0m\u001b[0;34m.\u001b[0m\u001b[0mstep\u001b[0m\u001b[0;34m(\u001b[0m\u001b[0;34m)\u001b[0m\u001b[0;34m\u001b[0m\u001b[0;34m\u001b[0m\u001b[0m\n\u001b[0m\u001b[1;32m    136\u001b[0m             \u001b[0mself\u001b[0m\u001b[0;34m.\u001b[0m\u001b[0mnsteps\u001b[0m \u001b[0;34m+=\u001b[0m \u001b[0;36m1\u001b[0m\u001b[0;34m\u001b[0m\u001b[0;34m\u001b[0m\u001b[0m\n\u001b[1;32m    137\u001b[0m \u001b[0;34m\u001b[0m\u001b[0m\n",
      "\u001b[0;32m~/.local/lib/python3.7/site-packages/ase/optimize/lbfgs.py\u001b[0m in \u001b[0;36mstep\u001b[0;34m(self, f)\u001b[0m\n\u001b[1;32m    145\u001b[0m         \u001b[0;32mif\u001b[0m \u001b[0mself\u001b[0m\u001b[0;34m.\u001b[0m\u001b[0muse_line_search\u001b[0m \u001b[0;32mis\u001b[0m \u001b[0;32mTrue\u001b[0m\u001b[0;34m:\u001b[0m\u001b[0;34m\u001b[0m\u001b[0;34m\u001b[0m\u001b[0m\n\u001b[1;32m    146\u001b[0m             \u001b[0me\u001b[0m \u001b[0;34m=\u001b[0m \u001b[0mself\u001b[0m\u001b[0;34m.\u001b[0m\u001b[0mfunc\u001b[0m\u001b[0;34m(\u001b[0m\u001b[0mr\u001b[0m\u001b[0;34m)\u001b[0m\u001b[0;34m\u001b[0m\u001b[0;34m\u001b[0m\u001b[0m\n\u001b[0;32m--> 147\u001b[0;31m             \u001b[0mself\u001b[0m\u001b[0;34m.\u001b[0m\u001b[0mline_search\u001b[0m\u001b[0;34m(\u001b[0m\u001b[0mr\u001b[0m\u001b[0;34m,\u001b[0m \u001b[0mg\u001b[0m\u001b[0;34m,\u001b[0m \u001b[0me\u001b[0m\u001b[0;34m)\u001b[0m\u001b[0;34m\u001b[0m\u001b[0;34m\u001b[0m\u001b[0m\n\u001b[0m\u001b[1;32m    148\u001b[0m             \u001b[0mdr\u001b[0m \u001b[0;34m=\u001b[0m \u001b[0;34m(\u001b[0m\u001b[0mself\u001b[0m\u001b[0;34m.\u001b[0m\u001b[0malpha_k\u001b[0m \u001b[0;34m*\u001b[0m \u001b[0mself\u001b[0m\u001b[0;34m.\u001b[0m\u001b[0mp\u001b[0m\u001b[0;34m)\u001b[0m\u001b[0;34m.\u001b[0m\u001b[0mreshape\u001b[0m\u001b[0;34m(\u001b[0m\u001b[0mlen\u001b[0m\u001b[0;34m(\u001b[0m\u001b[0mself\u001b[0m\u001b[0;34m.\u001b[0m\u001b[0matoms\u001b[0m\u001b[0;34m)\u001b[0m\u001b[0;34m,\u001b[0m \u001b[0;34m-\u001b[0m\u001b[0;36m1\u001b[0m\u001b[0;34m)\u001b[0m\u001b[0;34m\u001b[0m\u001b[0;34m\u001b[0m\u001b[0m\n\u001b[1;32m    149\u001b[0m         \u001b[0;32melse\u001b[0m\u001b[0;34m:\u001b[0m\u001b[0;34m\u001b[0m\u001b[0;34m\u001b[0m\u001b[0m\n",
      "\u001b[0;32m~/.local/lib/python3.7/site-packages/ase/optimize/lbfgs.py\u001b[0m in \u001b[0;36mline_search\u001b[0;34m(self, r, g, e)\u001b[0m\n\u001b[1;32m    239\u001b[0m                             c2=.46, stpmax=50.)\n\u001b[1;32m    240\u001b[0m         \u001b[0;32mif\u001b[0m \u001b[0mself\u001b[0m\u001b[0;34m.\u001b[0m\u001b[0malpha_k\u001b[0m \u001b[0;32mis\u001b[0m \u001b[0;32mNone\u001b[0m\u001b[0;34m:\u001b[0m\u001b[0;34m\u001b[0m\u001b[0;34m\u001b[0m\u001b[0m\n\u001b[0;32m--> 241\u001b[0;31m             \u001b[0;32mraise\u001b[0m \u001b[0mRuntimeError\u001b[0m\u001b[0;34m(\u001b[0m\u001b[0;34m'LineSearch failed!'\u001b[0m\u001b[0;34m)\u001b[0m\u001b[0;34m\u001b[0m\u001b[0;34m\u001b[0m\u001b[0m\n\u001b[0m\u001b[1;32m    242\u001b[0m \u001b[0;34m\u001b[0m\u001b[0m\n\u001b[1;32m    243\u001b[0m \u001b[0;34m\u001b[0m\u001b[0m\n",
      "\u001b[0;31mRuntimeError\u001b[0m: LineSearch failed!"
     ]
    }
   ],
   "source": [
    "with LBFGSLineSearch(atoms) as opt:\n",
    "    opt.run(0.001)"
   ]
  },
  {
   "cell_type": "code",
   "execution_count": 27,
   "id": "f8032519-9b9a-4530-9549-3f005e764aa1",
   "metadata": {
    "pycharm": {
     "name": "#%%\n"
    }
   },
   "outputs": [
    {
     "data": {
      "application/vnd.jupyter.widget-view+json": {
       "model_id": "5f84b9005b3f44df889295d173ab96da",
       "version_major": 2,
       "version_minor": 0
      },
      "text/plain": [
       "HBox(children=(NGLWidget(max_frame=2), VBox(children=(Dropdown(description='Show', options=('All', 'H', 'C'), …"
      ]
     },
     "metadata": {},
     "output_type": "display_data"
    }
   ],
   "source": [
    "view_ngl(images, representations=[\"ball+stick\"])"
   ]
  },
  {
   "cell_type": "markdown",
   "id": "18ccc88e-c500-4a31-a957-f23b282da876",
   "metadata": {
    "pycharm": {
     "name": "#%% md\n"
    }
   },
   "source": [
    "### 上記知見を踏まえた、最適化アルゴリズムの実装"
   ]
  },
  {
   "cell_type": "markdown",
   "id": "715fc66d-2cba-40bd-9ee6-89864e555c2c",
   "metadata": {
    "pycharm": {
     "name": "#%% md\n"
    }
   },
   "source": [
    "LBFGSLineSearchは多くの場合最良のOptimizerですが、fmaxが小さいと非常に遅くなってしまうだけでなく、場合によってはエラーが出てしまうことがあります。  \n",
    "FIREはLBFGSLineSearchと比べて遅いことが多いですが、多くの場合頑健に動作します。ただし、fmaxが小さいとなかなか収束しないことがあります。  \n",
    "LBFGSはfmaxが小さくても収束しますが、Lennard-Jonesの例で見たように振動したりエネルギーが上がってしまうケースがあります。\n",
    "\n",
    "ヒューリスティックな表現をすると、2次関数近似が良い近似となる安定点に近いところでは、収束性の良い2次のニュートン法を用いたいです。\n",
    "ただし、LBFGSLineSearchが数値的に安定しないケースがあるためLBFGSを使いたいです。  \n",
    "２次関数近似がよい近似とならない不安定な構造では、FIREやLBFGSLineSearchを使って頑健にエネルギーを落としたいです。  \n",
    "しかし、LBFGSLineSearchが数値的に安定しないケースがどれくらのfmaxで起こるか予想しきれないため、\n",
    "ハイスループット計算など、未知の物質に対して統一的に手法を適用する場合ではFIREのほうが安定に動作します。\n",
    "\n",
    "ここまでの知見をまとめると、ヒューリスティックにうまくいきそうな最適化アルゴリズムとして、\n",
    " - 構造最適化の初期など、不安定な場所では、FIREを用いて勾配を下っていく。\n",
    " - ある程度安定点に達したら(Forceなどが小さな値になったら)LBFGS法を用いて高速に収束を試みる。\n",
    "\n",
    "という方法がうまくいきそうです。\n",
    "\n",
    "matlantis-features では、このようなアルゴリズムを `FIRELBFGS` Optimizer として実装をしています。"
   ]
  },
  {
   "cell_type": "code",
   "execution_count": 28,
   "id": "4b656a3b-c901-425d-b481-4c1452596c8b",
   "metadata": {
    "pycharm": {
     "name": "#%%\n"
    }
   },
   "outputs": [],
   "source": [
    "from matlantis_features.features.common.fire_lbfgs import FIRELBFGS"
   ]
  },
  {
   "cell_type": "markdown",
   "id": "0aa9b5fb-b0ad-4ed5-a5b7-e5e06fce928d",
   "metadata": {
    "pycharm": {
     "name": "#%% md\n"
    }
   },
   "source": [
    "まずはLBFGSLineSearchが破綻した例であるトルエンのメチル基の回転を見てみましょう。  \n",
    "このような例でも破綻することなく、LBFGSよりは遅いがFIREよりはずっと速く、頑健に収束しています。"
   ]
  },
  {
   "cell_type": "code",
   "execution_count": 29,
   "id": "c6ef3d2d-bc63-4c70-ae45-14760967e79d",
   "metadata": {
    "pycharm": {
     "name": "#%%\n"
    }
   },
   "outputs": [],
   "source": [
    "atoms_0 = smiles_to_atoms(\"Cc1ccccc1\")\n",
    "tmp = atoms_0[7:10]\n",
    "tmp.rotate([1.0, 0.0, 0.0], 15.0)\n",
    "atoms_0.positions[7:10] = tmp.positions\n",
    "atoms_0.calc = calc_mol"
   ]
  },
  {
   "cell_type": "code",
   "execution_count": 30,
   "id": "556cdaf9-baf7-4417-b89e-906cd4811a03",
   "metadata": {
    "pycharm": {
     "name": "#%%\n"
    }
   },
   "outputs": [
    {
     "data": {
      "application/vnd.jupyter.widget-view+json": {
       "model_id": "7e09ad9c08db4498adaa946ad55cbc42",
       "version_major": 2,
       "version_minor": 0
      },
      "text/plain": [
       "HBox(children=(NGLWidget(), VBox(children=(Dropdown(description='Show', options=('All', 'H', 'C'), value='All'…"
      ]
     },
     "metadata": {},
     "output_type": "display_data"
    }
   ],
   "source": [
    "view_ngl(atoms_0, representations=[\"ball+stick\"], h=600, w=600)"
   ]
  },
  {
   "cell_type": "code",
   "execution_count": 31,
   "id": "2a3900fc-dc7a-4ba4-be58-ff2ed9d2dd7f",
   "metadata": {
    "pycharm": {
     "name": "#%%\n"
    },
    "tags": []
   },
   "outputs": [
    {
     "name": "stdout",
     "output_type": "stream",
     "text": [
      "           Step     Time          Energy         fmax\n",
      "FIRELBFGS:    0 05:52:03      -72.042261        1.9298\n",
      "FIRELBFGS:    1 05:52:03      -72.115645        0.6318\n",
      "FIRELBFGS:    2 05:52:03      -72.123150        1.4667\n",
      "FIRELBFGS:    3 05:52:03      -72.136883        1.1383\n",
      "FIRELBFGS:    4 05:52:03      -72.153113        0.5753\n",
      "FIRELBFGS:    5 05:52:03      -72.160546        0.3966\n",
      "FIRELBFGS:    6 05:52:03      -72.159823        0.6265\n",
      "FIRELBFGS:    7 05:52:03      -72.160899        0.5933\n",
      "FIRELBFGS:    8 05:52:03      -72.162829        0.5287\n",
      "FIRELBFGS:    9 05:52:03      -72.165228        0.4361\n",
      "FIRELBFGS:   10 05:52:03      -72.167636        0.3211\n",
      "FIRELBFGS:   11 05:52:04      -72.169683        0.2252\n",
      "FIRELBFGS:   12 05:52:04      -72.171168        0.2068\n",
      "FIRELBFGS:   13 05:52:04      -72.172163        0.2283\n",
      "FIRELBFGS:   14 05:52:04      -72.173018        0.2531\n",
      "FIRELBFGS:   15 05:52:04      -72.174057        0.3027\n",
      "FIRELBFGS:   16 05:52:04      -72.175580        0.3459\n",
      "FIRELBFGS:   17 05:52:04      -72.177594        0.3275\n",
      "FIRELBFGS:   18 05:52:04      -72.179674        0.2362\n",
      "FIRELBFGS:   19 05:52:04      -72.181153        0.1671\n",
      "FIRELBFGS:   20 05:52:04      -72.181704        0.1748\n",
      "FIRELBFGS:   21 05:52:04      -72.181787        0.1623\n",
      "FIRELBFGS:   22 05:52:04      -72.181925        0.1381\n",
      "FIRELBFGS:   23 05:52:04      -72.182080        0.1042\n",
      "FIRELBFGS:   24 05:52:04      -72.182244        0.0692\n",
      "FIRELBFGS:   25 05:52:04      -72.182366        0.0661\n",
      "FIRELBFGS:   26 05:52:04      -72.182443        0.0625\n",
      "FIRELBFGS:   27 05:52:04      -72.182484        0.0689\n",
      "FIRELBFGS:   28 05:52:04      -72.182520        0.0930\n",
      "FIRELBFGS:   29 05:52:05      -72.182576        0.1027\n",
      "FIRELBFGS:   30 05:52:05      -72.182687        0.0954\n",
      "FIRELBFGS:   31 05:52:05      -72.182857        0.0733\n",
      "FIRELBFGS:   32 05:52:05      -72.183046        0.0497\n",
      "FIRELBFGS:   33 05:52:05      -72.183210        0.0403\n",
      "FIRELBFGS:   34 05:52:05      -72.183329        0.0712\n",
      "FIRELBFGS:   35 05:52:05      -72.183456        0.0721\n",
      "FIRELBFGS:   36 05:52:05      -72.183612        0.0480\n",
      "FIRELBFGS:   37 05:52:05      -72.183759        0.0392\n",
      "FIRELBFGS:   38 05:52:05      -72.183846        0.0549\n",
      "FIRELBFGS:   39 05:52:05      -72.183918        0.0463\n",
      "FIRELBFGS:   40 05:52:05      -72.183963        0.0496\n",
      "FIRELBFGS:   41 05:52:05      -72.183978        0.0402\n",
      "FIRELBFGS:   42 05:52:05      -72.184010        0.0269\n",
      "FIRELBFGS:   43 05:52:05      -72.184030        0.0257\n",
      "FIRELBFGS:   44 05:52:05      -72.184041        0.0248\n",
      "FIRELBFGS:   45 05:52:05      -72.184051        0.0312\n",
      "FIRELBFGS:   46 05:52:06      -72.184072        0.0308\n",
      "FIRELBFGS:   47 05:52:06      -72.184103        0.0226\n",
      "FIRELBFGS:   48 05:52:06      -72.184137        0.0205\n",
      "FIRELBFGS:   49 05:52:06      -72.184157        0.0176\n",
      "FIRELBFGS:   50 05:52:06      -72.184186        0.0151\n",
      "FIRELBFGS:   51 05:52:06      -72.184217        0.0192\n",
      "FIRELBFGS:   52 05:52:06      -72.184417        0.0293\n",
      "FIRELBFGS:   53 05:52:06      -72.184471        0.0249\n",
      "FIRELBFGS:   54 05:52:06      -72.184521        0.0271\n",
      "FIRELBFGS:   55 05:52:06      -72.184569        0.0225\n",
      "FIRELBFGS:   56 05:52:06      -72.184657        0.0358\n",
      "FIRELBFGS:   57 05:52:06      -72.184723        0.0253\n",
      "FIRELBFGS:   58 05:52:06      -72.184757        0.0163\n",
      "FIRELBFGS:   59 05:52:06      -72.184772        0.0111\n",
      "FIRELBFGS:   60 05:52:06      -72.184775        0.0073\n",
      "FIRELBFGS:   61 05:52:06      -72.184782        0.0070\n",
      "FIRELBFGS:   62 05:52:06      -72.184796        0.0074\n",
      "FIRELBFGS:   63 05:52:06      -72.184808        0.0108\n",
      "FIRELBFGS:   64 05:52:07      -72.184815        0.0098\n",
      "FIRELBFGS:   65 05:52:07      -72.184827        0.0080\n",
      "FIRELBFGS:   66 05:52:07      -72.184830        0.0085\n",
      "FIRELBFGS:   67 05:52:07      -72.184844        0.0101\n",
      "FIRELBFGS:   68 05:52:07      -72.184853        0.0097\n",
      "FIRELBFGS:   69 05:52:07      -72.184852        0.0056\n",
      "FIRELBFGS:   70 05:52:07      -72.184859        0.0038\n",
      "FIRELBFGS:   71 05:52:07      -72.184860        0.0038\n",
      "FIRELBFGS:   72 05:52:07      -72.184864        0.0045\n",
      "FIRELBFGS:   73 05:52:07      -72.184863        0.0042\n",
      "FIRELBFGS:   74 05:52:07      -72.184872        0.0037\n",
      "FIRELBFGS:   75 05:52:07      -72.184873        0.0033\n",
      "FIRELBFGS:   76 05:52:07      -72.184873        0.0049\n",
      "FIRELBFGS:   77 05:52:07      -72.184875        0.0054\n",
      "FIRELBFGS:   78 05:52:07      -72.184874        0.0047\n",
      "FIRELBFGS:   79 05:52:07      -72.184873        0.0041\n",
      "FIRELBFGS:   80 05:52:08      -72.184881        0.0051\n",
      "FIRELBFGS:   81 05:52:08      -72.184881        0.0051\n",
      "FIRELBFGS:   82 05:52:08      -72.184885        0.0043\n",
      "FIRELBFGS:   83 05:52:08      -72.184889        0.0043\n",
      "FIRELBFGS:   84 05:52:08      -72.184892        0.0058\n",
      "FIRELBFGS:   85 05:52:08      -72.184889        0.0094\n",
      "FIRELBFGS:   86 05:52:08      -72.184910        0.0128\n",
      "FIRELBFGS:   87 05:52:08      -72.184909        0.0126\n",
      "FIRELBFGS:   88 05:52:08      -72.184937        0.0134\n",
      "FIRELBFGS:   89 05:52:08      -72.184960        0.0138\n",
      "FIRELBFGS:   90 05:52:08      -72.184995        0.0206\n",
      "FIRELBFGS:   91 05:52:08      -72.185049        0.0322\n",
      "FIRELBFGS:   92 05:52:08      -72.185139        0.0383\n",
      "FIRELBFGS:   93 05:52:08      -72.185253        0.0380\n",
      "FIRELBFGS:   94 05:52:08      -72.185409        0.0408\n",
      "FIRELBFGS:   95 05:52:08      -72.185609        0.0433\n",
      "FIRELBFGS:   96 05:52:08      -72.184867        0.1744\n",
      "FIRELBFGS:   97 05:52:08      -72.185647        0.1053\n",
      "FIRELBFGS:   98 05:52:09      -72.186037        0.1226\n",
      "FIRELBFGS:   99 05:52:09      -72.186087        0.1050\n",
      "FIRELBFGS:  100 05:52:09      -72.186166        0.0728\n",
      "FIRELBFGS:  101 05:52:09      -72.186225        0.0323\n",
      "FIRELBFGS:  102 05:52:09      -72.186257        0.0294\n",
      "FIRELBFGS:  103 05:52:09      -72.186269        0.0415\n",
      "FIRELBFGS:  104 05:52:09      -72.186288        0.0561\n",
      "FIRELBFGS:  105 05:52:09      -72.186308        0.0546\n",
      "FIRELBFGS:  106 05:52:09      -72.186329        0.0376\n",
      "FIRELBFGS:  107 05:52:09      -72.186335        0.0276\n",
      "FIRELBFGS:  108 05:52:09      -72.186333        0.0254\n",
      "FIRELBFGS:  109 05:52:09      -72.186338        0.0212\n",
      "FIRELBFGS:  110 05:52:09      -72.186345        0.0157\n",
      "FIRELBFGS:  111 05:52:09      -72.186344        0.0127\n",
      "FIRELBFGS:  112 05:52:09      -72.186350        0.0132\n",
      "FIRELBFGS:  113 05:52:09      -72.186364        0.0135\n",
      "FIRELBFGS:  114 05:52:09      -72.186361        0.0132\n",
      "FIRELBFGS:  115 05:52:09      -72.186367        0.0120\n",
      "FIRELBFGS:  116 05:52:10      -72.186364        0.0095\n",
      "FIRELBFGS:  117 05:52:10      -72.186369        0.0051\n",
      "FIRELBFGS:  118 05:52:10      -72.186377        0.0072\n",
      "FIRELBFGS:  119 05:52:10      -72.186382        0.0077\n",
      "FIRELBFGS:  120 05:52:10      -72.186392        0.0078\n",
      "FIRELBFGS:  121 05:52:10      -72.186393        0.0063\n",
      "FIRELBFGS:  122 05:52:10      -72.186397        0.0058\n",
      "FIRELBFGS:  123 05:52:10      -72.186395        0.0046\n",
      "FIRELBFGS:  124 05:52:10      -72.186399        0.0041\n",
      "FIRELBFGS:  125 05:52:10      -72.186403        0.0045\n",
      "FIRELBFGS:  126 05:52:10      -72.186406        0.0051\n",
      "FIRELBFGS:  127 05:52:10      -72.186415        0.0072\n",
      "FIRELBFGS:  128 05:52:10      -72.186411        0.0049\n",
      "FIRELBFGS:  129 05:52:10      -72.186417        0.0041\n",
      "FIRELBFGS:  130 05:52:10      -72.186411        0.0030\n",
      "FIRELBFGS:  131 05:52:10      -72.186414        0.0036\n",
      "FIRELBFGS:  132 05:52:10      -72.186417        0.0034\n",
      "FIRELBFGS:  133 05:52:11      -72.186422        0.0031\n",
      "FIRELBFGS:  134 05:52:11      -72.186416        0.0028\n",
      "FIRELBFGS:  135 05:52:11      -72.186420        0.0045\n",
      "FIRELBFGS:  136 05:52:11      -72.186426        0.0059\n",
      "FIRELBFGS:  137 05:52:11      -72.186427        0.0056\n",
      "FIRELBFGS:  138 05:52:11      -72.186429        0.0049\n",
      "FIRELBFGS:  139 05:52:11      -72.186437        0.0058\n",
      "FIRELBFGS:  140 05:52:11      -72.186439        0.0079\n",
      "FIRELBFGS:  141 05:52:11      -72.186450        0.0102\n",
      "FIRELBFGS:  142 05:52:11      -72.186472        0.0111\n",
      "FIRELBFGS:  143 05:52:11      -72.186475        0.0075\n",
      "FIRELBFGS:  144 05:52:11      -72.186481        0.0075\n",
      "FIRELBFGS:  145 05:52:11      -72.186478        0.0089\n",
      "FIRELBFGS:  146 05:52:11      -72.186494        0.0089\n",
      "FIRELBFGS:  147 05:52:11      -72.186495        0.0090\n",
      "FIRELBFGS:  148 05:52:11      -72.186508        0.0083\n",
      "FIRELBFGS:  149 05:52:11      -72.186515        0.0048\n",
      "FIRELBFGS:  150 05:52:11      -72.186514        0.0045\n",
      "FIRELBFGS:  151 05:52:12      -72.186519        0.0031\n",
      "FIRELBFGS:  152 05:52:12      -72.186523        0.0042\n",
      "FIRELBFGS:  153 05:52:12      -72.186528        0.0047\n",
      "FIRELBFGS:  154 05:52:12      -72.186527        0.0055\n",
      "FIRELBFGS:  155 05:52:12      -72.186531        0.0065\n",
      "FIRELBFGS:  156 05:52:12      -72.186532        0.0052\n",
      "FIRELBFGS:  157 05:52:12      -72.186542        0.0043\n",
      "FIRELBFGS:  158 05:52:12      -72.186537        0.0055\n",
      "FIRELBFGS:  159 05:52:12      -72.186548        0.0077\n",
      "FIRELBFGS:  160 05:52:12      -72.186546        0.0079\n",
      "FIRELBFGS:  161 05:52:12      -72.186553        0.0051\n",
      "FIRELBFGS:  162 05:52:12      -72.186562        0.0029\n",
      "FIRELBFGS:  163 05:52:12      -72.186559        0.0022\n",
      "FIRELBFGS:  164 05:52:12      -72.186561        0.0017\n",
      "FIRELBFGS:  165 05:52:12      -72.186557        0.0014\n",
      "FIRELBFGS:  166 05:52:12      -72.186554        0.0011\n",
      "FIRELBFGS:  167 05:52:12      -72.186554        0.0007\n"
     ]
    }
   ],
   "source": [
    "steps = {}\n",
    "images = []\n",
    "atoms = atoms_0.copy()\n",
    "atoms.calc = calc_mol\n",
    "with FIRELBFGS(atoms, logfile=\"-\") as opt:\n",
    "    try:\n",
    "        opt.run(fmax=0.001, steps=200)\n",
    "    finally:\n",
    "        steps[name] = [get_force_calls(opt)]\n",
    "        images.append(atoms.copy())"
   ]
  },
  {
   "cell_type": "markdown",
   "id": "2aeffd87-2d5a-47b7-9754-9bf021a8cc45",
   "metadata": {
    "pycharm": {
     "name": "#%% md\n"
    }
   },
   "source": [
    "次に、LBFGSで大きく振動したり、ポテンシャルを登ってしまったAr二原子の例を見てみましょう。  \n",
    "このような例でも破綻することなく、頑健に収束しています。"
   ]
  },
  {
   "cell_type": "code",
   "execution_count": 32,
   "id": "04e26fe7-5fe7-4e9b-97a2-5ccc488d6658",
   "metadata": {
    "pycharm": {
     "name": "#%%\n"
    }
   },
   "outputs": [
    {
     "name": "stdout",
     "output_type": "stream",
     "text": [
      "           Step     Time          Energy         fmax\n",
      "FIRELBFGS:    0 05:52:13       -0.314857        1.1580\n",
      "FIRELBFGS:    1 05:52:13       -0.342894        1.2644\n",
      "FIRELBFGS:    2 05:52:13       -0.410024        1.5124\n",
      "FIRELBFGS:    3 05:52:13       -0.546744        1.9683\n",
      "FIRELBFGS:    4 05:52:13       -0.812180        2.3839\n",
      "FIRELBFGS:    5 05:52:13       -0.862167        5.5858\n",
      "FIRELBFGS:    6 05:52:13       -0.966377        2.1492\n",
      "FIRELBFGS:    7 05:52:13       -0.991817        0.5223\n",
      "FIRELBFGS:    8 05:52:13       -0.992148        0.4913\n",
      "FIRELBFGS:    9 05:52:13       -0.992732        0.4299\n",
      "FIRELBFGS:   10 05:52:13       -0.993427        0.3400\n",
      "FIRELBFGS:   11 05:52:13       -0.994057        0.2245\n",
      "FIRELBFGS:   12 05:52:13       -0.994451        0.0884\n",
      "FIRELBFGS:   13 05:52:13       -0.994489        0.0606\n",
      "FIRELBFGS:   14 05:52:13       -0.994490        0.0595\n",
      "FIRELBFGS:   15 05:52:13       -0.994492        0.0573\n",
      "FIRELBFGS:   16 05:52:13       -0.994495        0.0541\n",
      "FIRELBFGS:   17 05:52:13       -0.994499        0.0499\n",
      "Distance in opt trajectory:  [1.5, 1.4768394233790767, 1.42839123774426, 1.349694678243147, 1.231631957294667, 1.0658914242047832, 1.0938206432760949, 1.132495812583008, 1.1318429355798734, 1.1305759647542164, 1.1287715691339621, 1.1265422074054834, 1.1240322773166505, 1.1214118150599879, 1.1214307556785812, 1.1214682920288386, 1.1215237409768002, 1.1215960942672192]\n"
     ]
    },
    {
     "data": {
      "image/png": "[encoded data removed]",
      "text/plain": [
       "<Figure size 432x288 with 1 Axes>"
      ]
     },
     "metadata": {
      "needs_background": "light"
     },
     "output_type": "display_data"
    }
   ],
   "source": [
    "lennard_jones_trajectory(FIRELBFGS, 1.5)"
   ]
  },
  {
   "cell_type": "code",
   "execution_count": 33,
   "id": "4b454d28-80dc-4a25-aa9c-8d5bdc6cf8c8",
   "metadata": {
    "pycharm": {
     "name": "#%%\n"
    }
   },
   "outputs": [
    {
     "name": "stdout",
     "output_type": "stream",
     "text": [
      "           Step     Time          Energy         fmax\n",
      "FIRELBFGS:    0 05:52:13       -0.697220        2.3246\n",
      "FIRELBFGS:    1 05:52:13       -0.807702        2.3874\n",
      "FIRELBFGS:    2 05:52:13       -0.987241        0.8220\n",
      "FIRELBFGS:    3 05:52:13       -0.520102       13.5704\n",
      "FIRELBFGS:    4 05:52:13       -0.971689        1.9036\n",
      "FIRELBFGS:    5 05:52:13       -0.939109        1.8400\n",
      "FIRELBFGS:    6 05:52:13       -0.943288        1.7937\n",
      "FIRELBFGS:    7 05:52:13       -0.951214        1.6946\n",
      "FIRELBFGS:    8 05:52:13       -0.961964        1.5294\n",
      "FIRELBFGS:    9 05:52:13       -0.974030        1.2780\n",
      "FIRELBFGS:   10 05:52:13       -0.985244        0.9149\n",
      "FIRELBFGS:   11 05:52:13       -0.992867        0.4142\n",
      "FIRELBFGS:   12 05:52:13       -0.994043        0.2396\n",
      "FIRELBFGS:   13 05:52:13       -0.994061        0.2350\n",
      "FIRELBFGS:   14 05:52:13       -0.994095        0.2259\n",
      "FIRELBFGS:   15 05:52:13       -0.994143        0.2125\n",
      "FIRELBFGS:   16 05:52:13       -0.994201        0.1951\n",
      "FIRELBFGS:   17 05:52:13       -0.994265        0.1741\n",
      "FIRELBFGS:   18 05:52:13       -0.994330        0.1500\n",
      "FIRELBFGS:   19 05:52:13       -0.994391        0.1233\n",
      "FIRELBFGS:   20 05:52:13       -0.994449        0.0914\n",
      "FIRELBFGS:   21 05:52:13       -0.994495        0.0543\n",
      "FIRELBFGS:   22 05:52:13       -0.994519        0.0122\n",
      "Distance in opt trajectory:  [1.28, 1.2335089629222111, 1.1392699328939198, 1.0285911631178963, 1.0964431714345662, 1.1738131464936081, 1.1715131413850235, 1.1669709941864936, 1.160310604717144, 1.1517385248429906, 1.1415690055780352, 1.130255815977825, 1.118424872251103, 1.1184997505580012, 1.1186480666965142, 1.1188669733107373, 1.1191522821112356, 1.1194985597723826, 1.1198992503739216, 1.1203468201911215, 1.1208857684008715, 1.121520438052656, 1.1222486280893154]\n"
     ]
    },
    {
     "data": {
      "image/png": "[encoded data removed]",
      "text/plain": [
       "<Figure size 432x288 with 1 Axes>"
      ]
     },
     "metadata": {
      "needs_background": "light"
     },
     "output_type": "display_data"
    }
   ],
   "source": [
    "lennard_jones_trajectory(FIRELBFGS, 1.28)"
   ]
  },
  {
   "cell_type": "markdown",
   "id": "a1828d53-3d2e-414f-8304-6aa4a1aadaec",
   "metadata": {
    "pycharm": {
     "name": "#%% md\n"
    }
   },
   "source": [
    "## 更にきちんと学びたい方のために\n",
    "\n",
    "以下書籍にニュートン法ファミリーや準ニュートン法、LineSearchなどの手法に関する詳細な解説があります。  \n",
    "\n",
    " - \"Numerical Optimization\" Jorge Nocedal, Stephan Wright https://doi.org/10.1007/978-0-387-40065-5\n",
    "\n",
    "FIREは元論文を読むと理解しやすいでしょう。  \n",
    "\n",
    " - [Structural Relaxation Made Simple](https://journals.aps.org/prl/abstract/10.1103/PhysRevLett.97.170201)\n",
    "\n",
    "\n",
    "また、どの手法もASEの実装を読むことで勉強することもできます。"
   ]
  },
  {
   "cell_type": "code",
   "execution_count": 34,
   "id": "fa172486-aba8-4be2-b560-f516a0523373",
   "metadata": {
    "pycharm": {
     "name": "#%%\n"
    },
    "tags": []
   },
   "outputs": [
    {
     "data": {
      "text/plain": [
       "\u001b[0;31mInit signature:\u001b[0m\n",
       "\u001b[0mFIRE\u001b[0m\u001b[0;34m(\u001b[0m\u001b[0;34m\u001b[0m\n",
       "\u001b[0;34m\u001b[0m    \u001b[0matoms\u001b[0m\u001b[0;34m,\u001b[0m\u001b[0;34m\u001b[0m\n",
       "\u001b[0;34m\u001b[0m    \u001b[0mrestart\u001b[0m\u001b[0;34m=\u001b[0m\u001b[0;32mNone\u001b[0m\u001b[0;34m,\u001b[0m\u001b[0;34m\u001b[0m\n",
       "\u001b[0;34m\u001b[0m    \u001b[0mlogfile\u001b[0m\u001b[0;34m=\u001b[0m\u001b[0;34m'-'\u001b[0m\u001b[0;34m,\u001b[0m\u001b[0;34m\u001b[0m\n",
       "\u001b[0;34m\u001b[0m    \u001b[0mtrajectory\u001b[0m\u001b[0;34m=\u001b[0m\u001b[0;32mNone\u001b[0m\u001b[0;34m,\u001b[0m\u001b[0;34m\u001b[0m\n",
       "\u001b[0;34m\u001b[0m    \u001b[0mdt\u001b[0m\u001b[0;34m=\u001b[0m\u001b[0;36m0.1\u001b[0m\u001b[0;34m,\u001b[0m\u001b[0;34m\u001b[0m\n",
       "\u001b[0;34m\u001b[0m    \u001b[0mmaxstep\u001b[0m\u001b[0;34m=\u001b[0m\u001b[0;32mNone\u001b[0m\u001b[0;34m,\u001b[0m\u001b[0;34m\u001b[0m\n",
       "\u001b[0;34m\u001b[0m    \u001b[0mmaxmove\u001b[0m\u001b[0;34m=\u001b[0m\u001b[0;32mNone\u001b[0m\u001b[0;34m,\u001b[0m\u001b[0;34m\u001b[0m\n",
       "\u001b[0;34m\u001b[0m    \u001b[0mdtmax\u001b[0m\u001b[0;34m=\u001b[0m\u001b[0;36m1.0\u001b[0m\u001b[0;34m,\u001b[0m\u001b[0;34m\u001b[0m\n",
       "\u001b[0;34m\u001b[0m    \u001b[0mNmin\u001b[0m\u001b[0;34m=\u001b[0m\u001b[0;36m5\u001b[0m\u001b[0;34m,\u001b[0m\u001b[0;34m\u001b[0m\n",
       "\u001b[0;34m\u001b[0m    \u001b[0mfinc\u001b[0m\u001b[0;34m=\u001b[0m\u001b[0;36m1.1\u001b[0m\u001b[0;34m,\u001b[0m\u001b[0;34m\u001b[0m\n",
       "\u001b[0;34m\u001b[0m    \u001b[0mfdec\u001b[0m\u001b[0;34m=\u001b[0m\u001b[0;36m0.5\u001b[0m\u001b[0;34m,\u001b[0m\u001b[0;34m\u001b[0m\n",
       "\u001b[0;34m\u001b[0m    \u001b[0mastart\u001b[0m\u001b[0;34m=\u001b[0m\u001b[0;36m0.1\u001b[0m\u001b[0;34m,\u001b[0m\u001b[0;34m\u001b[0m\n",
       "\u001b[0;34m\u001b[0m    \u001b[0mfa\u001b[0m\u001b[0;34m=\u001b[0m\u001b[0;36m0.99\u001b[0m\u001b[0;34m,\u001b[0m\u001b[0;34m\u001b[0m\n",
       "\u001b[0;34m\u001b[0m    \u001b[0ma\u001b[0m\u001b[0;34m=\u001b[0m\u001b[0;36m0.1\u001b[0m\u001b[0;34m,\u001b[0m\u001b[0;34m\u001b[0m\n",
       "\u001b[0;34m\u001b[0m    \u001b[0mmaster\u001b[0m\u001b[0;34m=\u001b[0m\u001b[0;32mNone\u001b[0m\u001b[0;34m,\u001b[0m\u001b[0;34m\u001b[0m\n",
       "\u001b[0;34m\u001b[0m    \u001b[0mdownhill_check\u001b[0m\u001b[0;34m=\u001b[0m\u001b[0;32mFalse\u001b[0m\u001b[0;34m,\u001b[0m\u001b[0;34m\u001b[0m\n",
       "\u001b[0;34m\u001b[0m    \u001b[0mposition_reset_callback\u001b[0m\u001b[0;34m=\u001b[0m\u001b[0;32mNone\u001b[0m\u001b[0;34m,\u001b[0m\u001b[0;34m\u001b[0m\n",
       "\u001b[0;34m\u001b[0m    \u001b[0mforce_consistent\u001b[0m\u001b[0;34m=\u001b[0m\u001b[0;32mNone\u001b[0m\u001b[0;34m,\u001b[0m\u001b[0;34m\u001b[0m\n",
       "\u001b[0;34m\u001b[0m\u001b[0;34m)\u001b[0m\u001b[0;34m\u001b[0m\u001b[0;34m\u001b[0m\u001b[0m\n",
       "\u001b[0;31mDocstring:\u001b[0m      Base-class for all structure optimization classes.\n",
       "\u001b[0;31mSource:\u001b[0m        \n",
       "\u001b[0;32mclass\u001b[0m \u001b[0mFIRE\u001b[0m\u001b[0;34m(\u001b[0m\u001b[0mOptimizer\u001b[0m\u001b[0;34m)\u001b[0m\u001b[0;34m:\u001b[0m\u001b[0;34m\u001b[0m\n",
       "\u001b[0;34m\u001b[0m    \u001b[0;32mdef\u001b[0m \u001b[0m__init__\u001b[0m\u001b[0;34m(\u001b[0m\u001b[0mself\u001b[0m\u001b[0;34m,\u001b[0m \u001b[0matoms\u001b[0m\u001b[0;34m,\u001b[0m \u001b[0mrestart\u001b[0m\u001b[0;34m=\u001b[0m\u001b[0;32mNone\u001b[0m\u001b[0;34m,\u001b[0m \u001b[0mlogfile\u001b[0m\u001b[0;34m=\u001b[0m\u001b[0;34m'-'\u001b[0m\u001b[0;34m,\u001b[0m \u001b[0mtrajectory\u001b[0m\u001b[0;34m=\u001b[0m\u001b[0;32mNone\u001b[0m\u001b[0;34m,\u001b[0m\u001b[0;34m\u001b[0m\n",
       "\u001b[0;34m\u001b[0m                 \u001b[0mdt\u001b[0m\u001b[0;34m=\u001b[0m\u001b[0;36m0.1\u001b[0m\u001b[0;34m,\u001b[0m \u001b[0mmaxstep\u001b[0m\u001b[0;34m=\u001b[0m\u001b[0;32mNone\u001b[0m\u001b[0;34m,\u001b[0m \u001b[0mmaxmove\u001b[0m\u001b[0;34m=\u001b[0m\u001b[0;32mNone\u001b[0m\u001b[0;34m,\u001b[0m \u001b[0mdtmax\u001b[0m\u001b[0;34m=\u001b[0m\u001b[0;36m1.0\u001b[0m\u001b[0;34m,\u001b[0m \u001b[0mNmin\u001b[0m\u001b[0;34m=\u001b[0m\u001b[0;36m5\u001b[0m\u001b[0;34m,\u001b[0m\u001b[0;34m\u001b[0m\n",
       "\u001b[0;34m\u001b[0m                 \u001b[0mfinc\u001b[0m\u001b[0;34m=\u001b[0m\u001b[0;36m1.1\u001b[0m\u001b[0;34m,\u001b[0m \u001b[0mfdec\u001b[0m\u001b[0;34m=\u001b[0m\u001b[0;36m0.5\u001b[0m\u001b[0;34m,\u001b[0m\u001b[0;34m\u001b[0m\n",
       "\u001b[0;34m\u001b[0m                 \u001b[0mastart\u001b[0m\u001b[0;34m=\u001b[0m\u001b[0;36m0.1\u001b[0m\u001b[0;34m,\u001b[0m \u001b[0mfa\u001b[0m\u001b[0;34m=\u001b[0m\u001b[0;36m0.99\u001b[0m\u001b[0;34m,\u001b[0m \u001b[0ma\u001b[0m\u001b[0;34m=\u001b[0m\u001b[0;36m0.1\u001b[0m\u001b[0;34m,\u001b[0m \u001b[0mmaster\u001b[0m\u001b[0;34m=\u001b[0m\u001b[0;32mNone\u001b[0m\u001b[0;34m,\u001b[0m \u001b[0mdownhill_check\u001b[0m\u001b[0;34m=\u001b[0m\u001b[0;32mFalse\u001b[0m\u001b[0;34m,\u001b[0m\u001b[0;34m\u001b[0m\n",
       "\u001b[0;34m\u001b[0m                 \u001b[0mposition_reset_callback\u001b[0m\u001b[0;34m=\u001b[0m\u001b[0;32mNone\u001b[0m\u001b[0;34m,\u001b[0m \u001b[0mforce_consistent\u001b[0m\u001b[0;34m=\u001b[0m\u001b[0;32mNone\u001b[0m\u001b[0;34m)\u001b[0m\u001b[0;34m:\u001b[0m\u001b[0;34m\u001b[0m\n",
       "\u001b[0;34m\u001b[0m        \u001b[0;34m\"\"\"Parameters:\u001b[0m\n",
       "\u001b[0;34m\u001b[0m\n",
       "\u001b[0;34m        atoms: Atoms object\u001b[0m\n",
       "\u001b[0;34m            The Atoms object to relax.\u001b[0m\n",
       "\u001b[0;34m\u001b[0m\n",
       "\u001b[0;34m        restart: string\u001b[0m\n",
       "\u001b[0;34m            Pickle file used to store hessian matrix. If set, file with\u001b[0m\n",
       "\u001b[0;34m            such a name will be searched and hessian matrix stored will\u001b[0m\n",
       "\u001b[0;34m            be used, if the file exists.\u001b[0m\n",
       "\u001b[0;34m\u001b[0m\n",
       "\u001b[0;34m        trajectory: string\u001b[0m\n",
       "\u001b[0;34m            Pickle file used to store trajectory of atomic movement.\u001b[0m\n",
       "\u001b[0;34m\u001b[0m\n",
       "\u001b[0;34m        logfile: file object or str\u001b[0m\n",
       "\u001b[0;34m            If *logfile* is a string, a file with that name will be opened.\u001b[0m\n",
       "\u001b[0;34m            Use '-' for stdout.\u001b[0m\n",
       "\u001b[0;34m\u001b[0m\n",
       "\u001b[0;34m        master: boolean\u001b[0m\n",
       "\u001b[0;34m            Defaults to None, which causes only rank 0 to save files.  If\u001b[0m\n",
       "\u001b[0;34m            set to true,  this rank will save files.\u001b[0m\n",
       "\u001b[0;34m\u001b[0m\n",
       "\u001b[0;34m        downhill_check: boolean\u001b[0m\n",
       "\u001b[0;34m            Downhill check directly compares potential energies of subsequent\u001b[0m\n",
       "\u001b[0;34m            steps of the FIRE algorithm rather than relying on the current\u001b[0m\n",
       "\u001b[0;34m            product v*f that is positive if the FIRE dynamics moves downhill.\u001b[0m\n",
       "\u001b[0;34m            This can detect numerical issues where at large time steps the step\u001b[0m\n",
       "\u001b[0;34m            is uphill in energy even though locally v*f is positive, i.e. the\u001b[0m\n",
       "\u001b[0;34m            algorithm jumps over a valley because of a too large time step.\u001b[0m\n",
       "\u001b[0;34m\u001b[0m\n",
       "\u001b[0;34m        position_reset_callback: function(atoms, r, e, e_last)\u001b[0m\n",
       "\u001b[0;34m            Function that takes current *atoms* object, an array of position\u001b[0m\n",
       "\u001b[0;34m            *r* that the optimizer will revert to, current energy *e* and\u001b[0m\n",
       "\u001b[0;34m            energy of last step *e_last*. This is only called if e > e_last.\u001b[0m\n",
       "\u001b[0;34m\u001b[0m\n",
       "\u001b[0;34m        force_consistent: boolean or None\u001b[0m\n",
       "\u001b[0;34m            Use force-consistent energy calls (as opposed to the energy\u001b[0m\n",
       "\u001b[0;34m            extrapolated to 0 K).  By default (force_consistent=None) uses\u001b[0m\n",
       "\u001b[0;34m            force-consistent energies if available in the calculator, but\u001b[0m\n",
       "\u001b[0;34m            falls back to force_consistent=False if not.  Only meaningful\u001b[0m\n",
       "\u001b[0;34m            when downhill_check is True.\u001b[0m\n",
       "\u001b[0;34m        \"\"\"\u001b[0m\u001b[0;34m\u001b[0m\n",
       "\u001b[0;34m\u001b[0m        \u001b[0mOptimizer\u001b[0m\u001b[0;34m.\u001b[0m\u001b[0m__init__\u001b[0m\u001b[0;34m(\u001b[0m\u001b[0mself\u001b[0m\u001b[0;34m,\u001b[0m \u001b[0matoms\u001b[0m\u001b[0;34m,\u001b[0m \u001b[0mrestart\u001b[0m\u001b[0;34m,\u001b[0m \u001b[0mlogfile\u001b[0m\u001b[0;34m,\u001b[0m \u001b[0mtrajectory\u001b[0m\u001b[0;34m,\u001b[0m\u001b[0;34m\u001b[0m\n",
       "\u001b[0;34m\u001b[0m                           \u001b[0mmaster\u001b[0m\u001b[0;34m,\u001b[0m \u001b[0mforce_consistent\u001b[0m\u001b[0;34m=\u001b[0m\u001b[0mforce_consistent\u001b[0m\u001b[0;34m)\u001b[0m\u001b[0;34m\u001b[0m\n",
       "\u001b[0;34m\u001b[0m\u001b[0;34m\u001b[0m\n",
       "\u001b[0;34m\u001b[0m        \u001b[0mself\u001b[0m\u001b[0;34m.\u001b[0m\u001b[0mdt\u001b[0m \u001b[0;34m=\u001b[0m \u001b[0mdt\u001b[0m\u001b[0;34m\u001b[0m\n",
       "\u001b[0;34m\u001b[0m\u001b[0;34m\u001b[0m\n",
       "\u001b[0;34m\u001b[0m        \u001b[0mself\u001b[0m\u001b[0;34m.\u001b[0m\u001b[0mNsteps\u001b[0m \u001b[0;34m=\u001b[0m \u001b[0;36m0\u001b[0m\u001b[0;34m\u001b[0m\n",
       "\u001b[0;34m\u001b[0m\u001b[0;34m\u001b[0m\n",
       "\u001b[0;34m\u001b[0m        \u001b[0;32mif\u001b[0m \u001b[0mmaxstep\u001b[0m \u001b[0;32mis\u001b[0m \u001b[0;32mnot\u001b[0m \u001b[0;32mNone\u001b[0m\u001b[0;34m:\u001b[0m\u001b[0;34m\u001b[0m\n",
       "\u001b[0;34m\u001b[0m            \u001b[0mself\u001b[0m\u001b[0;34m.\u001b[0m\u001b[0mmaxstep\u001b[0m \u001b[0;34m=\u001b[0m \u001b[0mmaxstep\u001b[0m\u001b[0;34m\u001b[0m\n",
       "\u001b[0;34m\u001b[0m        \u001b[0;32melif\u001b[0m \u001b[0mmaxmove\u001b[0m \u001b[0;32mis\u001b[0m \u001b[0;32mnot\u001b[0m \u001b[0;32mNone\u001b[0m\u001b[0;34m:\u001b[0m\u001b[0;34m\u001b[0m\n",
       "\u001b[0;34m\u001b[0m            \u001b[0mself\u001b[0m\u001b[0;34m.\u001b[0m\u001b[0mmaxstep\u001b[0m \u001b[0;34m=\u001b[0m \u001b[0mmaxmove\u001b[0m\u001b[0;34m\u001b[0m\n",
       "\u001b[0;34m\u001b[0m            \u001b[0mwarnings\u001b[0m\u001b[0;34m.\u001b[0m\u001b[0mwarn\u001b[0m\u001b[0;34m(\u001b[0m\u001b[0;34m'maxmove is deprecated; please use maxstep'\u001b[0m\u001b[0;34m,\u001b[0m\u001b[0;34m\u001b[0m\n",
       "\u001b[0;34m\u001b[0m                          \u001b[0mnp\u001b[0m\u001b[0;34m.\u001b[0m\u001b[0mVisibleDeprecationWarning\u001b[0m\u001b[0;34m)\u001b[0m\u001b[0;34m\u001b[0m\n",
       "\u001b[0;34m\u001b[0m        \u001b[0;32melse\u001b[0m\u001b[0;34m:\u001b[0m\u001b[0;34m\u001b[0m\n",
       "\u001b[0;34m\u001b[0m            \u001b[0mself\u001b[0m\u001b[0;34m.\u001b[0m\u001b[0mmaxstep\u001b[0m \u001b[0;34m=\u001b[0m \u001b[0mself\u001b[0m\u001b[0;34m.\u001b[0m\u001b[0mdefaults\u001b[0m\u001b[0;34m[\u001b[0m\u001b[0;34m'maxstep'\u001b[0m\u001b[0;34m]\u001b[0m\u001b[0;34m\u001b[0m\n",
       "\u001b[0;34m\u001b[0m\u001b[0;34m\u001b[0m\n",
       "\u001b[0;34m\u001b[0m        \u001b[0mself\u001b[0m\u001b[0;34m.\u001b[0m\u001b[0mdtmax\u001b[0m \u001b[0;34m=\u001b[0m \u001b[0mdtmax\u001b[0m\u001b[0;34m\u001b[0m\n",
       "\u001b[0;34m\u001b[0m        \u001b[0mself\u001b[0m\u001b[0;34m.\u001b[0m\u001b[0mNmin\u001b[0m \u001b[0;34m=\u001b[0m \u001b[0mNmin\u001b[0m\u001b[0;34m\u001b[0m\n",
       "\u001b[0;34m\u001b[0m        \u001b[0mself\u001b[0m\u001b[0;34m.\u001b[0m\u001b[0mfinc\u001b[0m \u001b[0;34m=\u001b[0m \u001b[0mfinc\u001b[0m\u001b[0;34m\u001b[0m\n",
       "\u001b[0;34m\u001b[0m        \u001b[0mself\u001b[0m\u001b[0;34m.\u001b[0m\u001b[0mfdec\u001b[0m \u001b[0;34m=\u001b[0m \u001b[0mfdec\u001b[0m\u001b[0;34m\u001b[0m\n",
       "\u001b[0;34m\u001b[0m        \u001b[0mself\u001b[0m\u001b[0;34m.\u001b[0m\u001b[0mastart\u001b[0m \u001b[0;34m=\u001b[0m \u001b[0mastart\u001b[0m\u001b[0;34m\u001b[0m\n",
       "\u001b[0;34m\u001b[0m        \u001b[0mself\u001b[0m\u001b[0;34m.\u001b[0m\u001b[0mfa\u001b[0m \u001b[0;34m=\u001b[0m \u001b[0mfa\u001b[0m\u001b[0;34m\u001b[0m\n",
       "\u001b[0;34m\u001b[0m        \u001b[0mself\u001b[0m\u001b[0;34m.\u001b[0m\u001b[0ma\u001b[0m \u001b[0;34m=\u001b[0m \u001b[0ma\u001b[0m\u001b[0;34m\u001b[0m\n",
       "\u001b[0;34m\u001b[0m        \u001b[0mself\u001b[0m\u001b[0;34m.\u001b[0m\u001b[0mdownhill_check\u001b[0m \u001b[0;34m=\u001b[0m \u001b[0mdownhill_check\u001b[0m\u001b[0;34m\u001b[0m\n",
       "\u001b[0;34m\u001b[0m        \u001b[0mself\u001b[0m\u001b[0;34m.\u001b[0m\u001b[0mposition_reset_callback\u001b[0m \u001b[0;34m=\u001b[0m \u001b[0mposition_reset_callback\u001b[0m\u001b[0;34m\u001b[0m\n",
       "\u001b[0;34m\u001b[0m\u001b[0;34m\u001b[0m\n",
       "\u001b[0;34m\u001b[0m    \u001b[0;32mdef\u001b[0m \u001b[0minitialize\u001b[0m\u001b[0;34m(\u001b[0m\u001b[0mself\u001b[0m\u001b[0;34m)\u001b[0m\u001b[0;34m:\u001b[0m\u001b[0;34m\u001b[0m\n",
       "\u001b[0;34m\u001b[0m        \u001b[0mself\u001b[0m\u001b[0;34m.\u001b[0m\u001b[0mv\u001b[0m \u001b[0;34m=\u001b[0m \u001b[0;32mNone\u001b[0m\u001b[0;34m\u001b[0m\n",
       "\u001b[0;34m\u001b[0m\u001b[0;34m\u001b[0m\n",
       "\u001b[0;34m\u001b[0m    \u001b[0;32mdef\u001b[0m \u001b[0mread\u001b[0m\u001b[0;34m(\u001b[0m\u001b[0mself\u001b[0m\u001b[0;34m)\u001b[0m\u001b[0;34m:\u001b[0m\u001b[0;34m\u001b[0m\n",
       "\u001b[0;34m\u001b[0m        \u001b[0mself\u001b[0m\u001b[0;34m.\u001b[0m\u001b[0mv\u001b[0m\u001b[0;34m,\u001b[0m \u001b[0mself\u001b[0m\u001b[0;34m.\u001b[0m\u001b[0mdt\u001b[0m \u001b[0;34m=\u001b[0m \u001b[0mself\u001b[0m\u001b[0;34m.\u001b[0m\u001b[0mload\u001b[0m\u001b[0;34m(\u001b[0m\u001b[0;34m)\u001b[0m\u001b[0;34m\u001b[0m\n",
       "\u001b[0;34m\u001b[0m\u001b[0;34m\u001b[0m\n",
       "\u001b[0;34m\u001b[0m    \u001b[0;32mdef\u001b[0m \u001b[0mstep\u001b[0m\u001b[0;34m(\u001b[0m\u001b[0mself\u001b[0m\u001b[0;34m,\u001b[0m \u001b[0mf\u001b[0m\u001b[0;34m=\u001b[0m\u001b[0;32mNone\u001b[0m\u001b[0;34m)\u001b[0m\u001b[0;34m:\u001b[0m\u001b[0;34m\u001b[0m\n",
       "\u001b[0;34m\u001b[0m        \u001b[0matoms\u001b[0m \u001b[0;34m=\u001b[0m \u001b[0mself\u001b[0m\u001b[0;34m.\u001b[0m\u001b[0matoms\u001b[0m\u001b[0;34m\u001b[0m\n",
       "\u001b[0;34m\u001b[0m\u001b[0;34m\u001b[0m\n",
       "\u001b[0;34m\u001b[0m        \u001b[0;32mif\u001b[0m \u001b[0mf\u001b[0m \u001b[0;32mis\u001b[0m \u001b[0;32mNone\u001b[0m\u001b[0;34m:\u001b[0m\u001b[0;34m\u001b[0m\n",
       "\u001b[0;34m\u001b[0m            \u001b[0mf\u001b[0m \u001b[0;34m=\u001b[0m \u001b[0matoms\u001b[0m\u001b[0;34m.\u001b[0m\u001b[0mget_forces\u001b[0m\u001b[0;34m(\u001b[0m\u001b[0;34m)\u001b[0m\u001b[0;34m\u001b[0m\n",
       "\u001b[0;34m\u001b[0m\u001b[0;34m\u001b[0m\n",
       "\u001b[0;34m\u001b[0m        \u001b[0;32mif\u001b[0m \u001b[0mself\u001b[0m\u001b[0;34m.\u001b[0m\u001b[0mv\u001b[0m \u001b[0;32mis\u001b[0m \u001b[0;32mNone\u001b[0m\u001b[0;34m:\u001b[0m\u001b[0;34m\u001b[0m\n",
       "\u001b[0;34m\u001b[0m            \u001b[0mself\u001b[0m\u001b[0;34m.\u001b[0m\u001b[0mv\u001b[0m \u001b[0;34m=\u001b[0m \u001b[0mnp\u001b[0m\u001b[0;34m.\u001b[0m\u001b[0mzeros\u001b[0m\u001b[0;34m(\u001b[0m\u001b[0;34m(\u001b[0m\u001b[0mlen\u001b[0m\u001b[0;34m(\u001b[0m\u001b[0matoms\u001b[0m\u001b[0;34m)\u001b[0m\u001b[0;34m,\u001b[0m \u001b[0;36m3\u001b[0m\u001b[0;34m)\u001b[0m\u001b[0;34m)\u001b[0m\u001b[0;34m\u001b[0m\n",
       "\u001b[0;34m\u001b[0m            \u001b[0;32mif\u001b[0m \u001b[0mself\u001b[0m\u001b[0;34m.\u001b[0m\u001b[0mdownhill_check\u001b[0m\u001b[0;34m:\u001b[0m\u001b[0;34m\u001b[0m\n",
       "\u001b[0;34m\u001b[0m                \u001b[0mself\u001b[0m\u001b[0;34m.\u001b[0m\u001b[0me_last\u001b[0m \u001b[0;34m=\u001b[0m \u001b[0matoms\u001b[0m\u001b[0;34m.\u001b[0m\u001b[0mget_potential_energy\u001b[0m\u001b[0;34m(\u001b[0m\u001b[0;34m\u001b[0m\n",
       "\u001b[0;34m\u001b[0m                    \u001b[0mforce_consistent\u001b[0m\u001b[0;34m=\u001b[0m\u001b[0mself\u001b[0m\u001b[0;34m.\u001b[0m\u001b[0mforce_consistent\u001b[0m\u001b[0;34m)\u001b[0m\u001b[0;34m\u001b[0m\n",
       "\u001b[0;34m\u001b[0m                \u001b[0mself\u001b[0m\u001b[0;34m.\u001b[0m\u001b[0mr_last\u001b[0m \u001b[0;34m=\u001b[0m \u001b[0matoms\u001b[0m\u001b[0;34m.\u001b[0m\u001b[0mget_positions\u001b[0m\u001b[0;34m(\u001b[0m\u001b[0;34m)\u001b[0m\u001b[0;34m.\u001b[0m\u001b[0mcopy\u001b[0m\u001b[0;34m(\u001b[0m\u001b[0;34m)\u001b[0m\u001b[0;34m\u001b[0m\n",
       "\u001b[0;34m\u001b[0m                \u001b[0mself\u001b[0m\u001b[0;34m.\u001b[0m\u001b[0mv_last\u001b[0m \u001b[0;34m=\u001b[0m \u001b[0mself\u001b[0m\u001b[0;34m.\u001b[0m\u001b[0mv\u001b[0m\u001b[0;34m.\u001b[0m\u001b[0mcopy\u001b[0m\u001b[0;34m(\u001b[0m\u001b[0;34m)\u001b[0m\u001b[0;34m\u001b[0m\n",
       "\u001b[0;34m\u001b[0m        \u001b[0;32melse\u001b[0m\u001b[0;34m:\u001b[0m\u001b[0;34m\u001b[0m\n",
       "\u001b[0;34m\u001b[0m            \u001b[0mis_uphill\u001b[0m \u001b[0;34m=\u001b[0m \u001b[0;32mFalse\u001b[0m\u001b[0;34m\u001b[0m\n",
       "\u001b[0;34m\u001b[0m            \u001b[0;32mif\u001b[0m \u001b[0mself\u001b[0m\u001b[0;34m.\u001b[0m\u001b[0mdownhill_check\u001b[0m\u001b[0;34m:\u001b[0m\u001b[0;34m\u001b[0m\n",
       "\u001b[0;34m\u001b[0m                \u001b[0me\u001b[0m \u001b[0;34m=\u001b[0m \u001b[0matoms\u001b[0m\u001b[0;34m.\u001b[0m\u001b[0mget_potential_energy\u001b[0m\u001b[0;34m(\u001b[0m\u001b[0;34m\u001b[0m\n",
       "\u001b[0;34m\u001b[0m                    \u001b[0mforce_consistent\u001b[0m\u001b[0;34m=\u001b[0m\u001b[0mself\u001b[0m\u001b[0;34m.\u001b[0m\u001b[0mforce_consistent\u001b[0m\u001b[0;34m)\u001b[0m\u001b[0;34m\u001b[0m\n",
       "\u001b[0;34m\u001b[0m                \u001b[0;31m# Check if the energy actually decreased\u001b[0m\u001b[0;34m\u001b[0m\n",
       "\u001b[0;34m\u001b[0m                \u001b[0;32mif\u001b[0m \u001b[0me\u001b[0m \u001b[0;34m>\u001b[0m \u001b[0mself\u001b[0m\u001b[0;34m.\u001b[0m\u001b[0me_last\u001b[0m\u001b[0;34m:\u001b[0m\u001b[0;34m\u001b[0m\n",
       "\u001b[0;34m\u001b[0m                    \u001b[0;31m# If not, reset to old positions...\u001b[0m\u001b[0;34m\u001b[0m\n",
       "\u001b[0;34m\u001b[0m                    \u001b[0;32mif\u001b[0m \u001b[0mself\u001b[0m\u001b[0;34m.\u001b[0m\u001b[0mposition_reset_callback\u001b[0m \u001b[0;32mis\u001b[0m \u001b[0;32mnot\u001b[0m \u001b[0;32mNone\u001b[0m\u001b[0;34m:\u001b[0m\u001b[0;34m\u001b[0m\n",
       "\u001b[0;34m\u001b[0m                        \u001b[0mself\u001b[0m\u001b[0;34m.\u001b[0m\u001b[0mposition_reset_callback\u001b[0m\u001b[0;34m(\u001b[0m\u001b[0matoms\u001b[0m\u001b[0;34m,\u001b[0m \u001b[0mself\u001b[0m\u001b[0;34m.\u001b[0m\u001b[0mr_last\u001b[0m\u001b[0;34m,\u001b[0m \u001b[0me\u001b[0m\u001b[0;34m,\u001b[0m\u001b[0;34m\u001b[0m\n",
       "\u001b[0;34m\u001b[0m                                                     \u001b[0mself\u001b[0m\u001b[0;34m.\u001b[0m\u001b[0me_last\u001b[0m\u001b[0;34m)\u001b[0m\u001b[0;34m\u001b[0m\n",
       "\u001b[0;34m\u001b[0m                    \u001b[0matoms\u001b[0m\u001b[0;34m.\u001b[0m\u001b[0mset_positions\u001b[0m\u001b[0;34m(\u001b[0m\u001b[0mself\u001b[0m\u001b[0;34m.\u001b[0m\u001b[0mr_last\u001b[0m\u001b[0;34m)\u001b[0m\u001b[0;34m\u001b[0m\n",
       "\u001b[0;34m\u001b[0m                    \u001b[0mis_uphill\u001b[0m \u001b[0;34m=\u001b[0m \u001b[0;32mTrue\u001b[0m\u001b[0;34m\u001b[0m\n",
       "\u001b[0;34m\u001b[0m                \u001b[0mself\u001b[0m\u001b[0;34m.\u001b[0m\u001b[0me_last\u001b[0m \u001b[0;34m=\u001b[0m \u001b[0matoms\u001b[0m\u001b[0;34m.\u001b[0m\u001b[0mget_potential_energy\u001b[0m\u001b[0;34m(\u001b[0m\u001b[0;34m\u001b[0m\n",
       "\u001b[0;34m\u001b[0m                    \u001b[0mforce_consistent\u001b[0m\u001b[0;34m=\u001b[0m\u001b[0mself\u001b[0m\u001b[0;34m.\u001b[0m\u001b[0mforce_consistent\u001b[0m\u001b[0;34m)\u001b[0m\u001b[0;34m\u001b[0m\n",
       "\u001b[0;34m\u001b[0m                \u001b[0mself\u001b[0m\u001b[0;34m.\u001b[0m\u001b[0mr_last\u001b[0m \u001b[0;34m=\u001b[0m \u001b[0matoms\u001b[0m\u001b[0;34m.\u001b[0m\u001b[0mget_positions\u001b[0m\u001b[0;34m(\u001b[0m\u001b[0;34m)\u001b[0m\u001b[0;34m.\u001b[0m\u001b[0mcopy\u001b[0m\u001b[0;34m(\u001b[0m\u001b[0;34m)\u001b[0m\u001b[0;34m\u001b[0m\n",
       "\u001b[0;34m\u001b[0m                \u001b[0mself\u001b[0m\u001b[0;34m.\u001b[0m\u001b[0mv_last\u001b[0m \u001b[0;34m=\u001b[0m \u001b[0mself\u001b[0m\u001b[0;34m.\u001b[0m\u001b[0mv\u001b[0m\u001b[0;34m.\u001b[0m\u001b[0mcopy\u001b[0m\u001b[0;34m(\u001b[0m\u001b[0;34m)\u001b[0m\u001b[0;34m\u001b[0m\n",
       "\u001b[0;34m\u001b[0m\u001b[0;34m\u001b[0m\n",
       "\u001b[0;34m\u001b[0m            \u001b[0mvf\u001b[0m \u001b[0;34m=\u001b[0m \u001b[0mnp\u001b[0m\u001b[0;34m.\u001b[0m\u001b[0mvdot\u001b[0m\u001b[0;34m(\u001b[0m\u001b[0mf\u001b[0m\u001b[0;34m,\u001b[0m \u001b[0mself\u001b[0m\u001b[0;34m.\u001b[0m\u001b[0mv\u001b[0m\u001b[0;34m)\u001b[0m\u001b[0;34m\u001b[0m\n",
       "\u001b[0;34m\u001b[0m            \u001b[0;32mif\u001b[0m \u001b[0mvf\u001b[0m \u001b[0;34m>\u001b[0m \u001b[0;36m0.0\u001b[0m \u001b[0;32mand\u001b[0m \u001b[0;32mnot\u001b[0m \u001b[0mis_uphill\u001b[0m\u001b[0;34m:\u001b[0m\u001b[0;34m\u001b[0m\n",
       "\u001b[0;34m\u001b[0m                \u001b[0mself\u001b[0m\u001b[0;34m.\u001b[0m\u001b[0mv\u001b[0m \u001b[0;34m=\u001b[0m \u001b[0;34m(\u001b[0m\u001b[0;36m1.0\u001b[0m \u001b[0;34m-\u001b[0m \u001b[0mself\u001b[0m\u001b[0;34m.\u001b[0m\u001b[0ma\u001b[0m\u001b[0;34m)\u001b[0m \u001b[0;34m*\u001b[0m \u001b[0mself\u001b[0m\u001b[0;34m.\u001b[0m\u001b[0mv\u001b[0m \u001b[0;34m+\u001b[0m \u001b[0mself\u001b[0m\u001b[0;34m.\u001b[0m\u001b[0ma\u001b[0m \u001b[0;34m*\u001b[0m \u001b[0mf\u001b[0m \u001b[0;34m/\u001b[0m \u001b[0mnp\u001b[0m\u001b[0;34m.\u001b[0m\u001b[0msqrt\u001b[0m\u001b[0;34m(\u001b[0m\u001b[0;34m\u001b[0m\n",
       "\u001b[0;34m\u001b[0m                    \u001b[0mnp\u001b[0m\u001b[0;34m.\u001b[0m\u001b[0mvdot\u001b[0m\u001b[0;34m(\u001b[0m\u001b[0mf\u001b[0m\u001b[0;34m,\u001b[0m \u001b[0mf\u001b[0m\u001b[0;34m)\u001b[0m\u001b[0;34m)\u001b[0m \u001b[0;34m*\u001b[0m \u001b[0mnp\u001b[0m\u001b[0;34m.\u001b[0m\u001b[0msqrt\u001b[0m\u001b[0;34m(\u001b[0m\u001b[0mnp\u001b[0m\u001b[0;34m.\u001b[0m\u001b[0mvdot\u001b[0m\u001b[0;34m(\u001b[0m\u001b[0mself\u001b[0m\u001b[0;34m.\u001b[0m\u001b[0mv\u001b[0m\u001b[0;34m,\u001b[0m \u001b[0mself\u001b[0m\u001b[0;34m.\u001b[0m\u001b[0mv\u001b[0m\u001b[0;34m)\u001b[0m\u001b[0;34m)\u001b[0m\u001b[0;34m\u001b[0m\n",
       "\u001b[0;34m\u001b[0m                \u001b[0;32mif\u001b[0m \u001b[0mself\u001b[0m\u001b[0;34m.\u001b[0m\u001b[0mNsteps\u001b[0m \u001b[0;34m>\u001b[0m \u001b[0mself\u001b[0m\u001b[0;34m.\u001b[0m\u001b[0mNmin\u001b[0m\u001b[0;34m:\u001b[0m\u001b[0;34m\u001b[0m\n",
       "\u001b[0;34m\u001b[0m                    \u001b[0mself\u001b[0m\u001b[0;34m.\u001b[0m\u001b[0mdt\u001b[0m \u001b[0;34m=\u001b[0m \u001b[0mmin\u001b[0m\u001b[0;34m(\u001b[0m\u001b[0mself\u001b[0m\u001b[0;34m.\u001b[0m\u001b[0mdt\u001b[0m \u001b[0;34m*\u001b[0m \u001b[0mself\u001b[0m\u001b[0;34m.\u001b[0m\u001b[0mfinc\u001b[0m\u001b[0;34m,\u001b[0m \u001b[0mself\u001b[0m\u001b[0;34m.\u001b[0m\u001b[0mdtmax\u001b[0m\u001b[0;34m)\u001b[0m\u001b[0;34m\u001b[0m\n",
       "\u001b[0;34m\u001b[0m                    \u001b[0mself\u001b[0m\u001b[0;34m.\u001b[0m\u001b[0ma\u001b[0m \u001b[0;34m*=\u001b[0m \u001b[0mself\u001b[0m\u001b[0;34m.\u001b[0m\u001b[0mfa\u001b[0m\u001b[0;34m\u001b[0m\n",
       "\u001b[0;34m\u001b[0m                \u001b[0mself\u001b[0m\u001b[0;34m.\u001b[0m\u001b[0mNsteps\u001b[0m \u001b[0;34m+=\u001b[0m \u001b[0;36m1\u001b[0m\u001b[0;34m\u001b[0m\n",
       "\u001b[0;34m\u001b[0m            \u001b[0;32melse\u001b[0m\u001b[0;34m:\u001b[0m\u001b[0;34m\u001b[0m\n",
       "\u001b[0;34m\u001b[0m                \u001b[0mself\u001b[0m\u001b[0;34m.\u001b[0m\u001b[0mv\u001b[0m\u001b[0;34m[\u001b[0m\u001b[0;34m:\u001b[0m\u001b[0;34m]\u001b[0m \u001b[0;34m*=\u001b[0m \u001b[0;36m0.0\u001b[0m\u001b[0;34m\u001b[0m\n",
       "\u001b[0;34m\u001b[0m                \u001b[0mself\u001b[0m\u001b[0;34m.\u001b[0m\u001b[0ma\u001b[0m \u001b[0;34m=\u001b[0m \u001b[0mself\u001b[0m\u001b[0;34m.\u001b[0m\u001b[0mastart\u001b[0m\u001b[0;34m\u001b[0m\n",
       "\u001b[0;34m\u001b[0m                \u001b[0mself\u001b[0m\u001b[0;34m.\u001b[0m\u001b[0mdt\u001b[0m \u001b[0;34m*=\u001b[0m \u001b[0mself\u001b[0m\u001b[0;34m.\u001b[0m\u001b[0mfdec\u001b[0m\u001b[0;34m\u001b[0m\n",
       "\u001b[0;34m\u001b[0m                \u001b[0mself\u001b[0m\u001b[0;34m.\u001b[0m\u001b[0mNsteps\u001b[0m \u001b[0;34m=\u001b[0m \u001b[0;36m0\u001b[0m\u001b[0;34m\u001b[0m\n",
       "\u001b[0;34m\u001b[0m\u001b[0;34m\u001b[0m\n",
       "\u001b[0;34m\u001b[0m        \u001b[0mself\u001b[0m\u001b[0;34m.\u001b[0m\u001b[0mv\u001b[0m \u001b[0;34m+=\u001b[0m \u001b[0mself\u001b[0m\u001b[0;34m.\u001b[0m\u001b[0mdt\u001b[0m \u001b[0;34m*\u001b[0m \u001b[0mf\u001b[0m\u001b[0;34m\u001b[0m\n",
       "\u001b[0;34m\u001b[0m        \u001b[0mdr\u001b[0m \u001b[0;34m=\u001b[0m \u001b[0mself\u001b[0m\u001b[0;34m.\u001b[0m\u001b[0mdt\u001b[0m \u001b[0;34m*\u001b[0m \u001b[0mself\u001b[0m\u001b[0;34m.\u001b[0m\u001b[0mv\u001b[0m\u001b[0;34m\u001b[0m\n",
       "\u001b[0;34m\u001b[0m        \u001b[0mnormdr\u001b[0m \u001b[0;34m=\u001b[0m \u001b[0mnp\u001b[0m\u001b[0;34m.\u001b[0m\u001b[0msqrt\u001b[0m\u001b[0;34m(\u001b[0m\u001b[0mnp\u001b[0m\u001b[0;34m.\u001b[0m\u001b[0mvdot\u001b[0m\u001b[0;34m(\u001b[0m\u001b[0mdr\u001b[0m\u001b[0;34m,\u001b[0m \u001b[0mdr\u001b[0m\u001b[0;34m)\u001b[0m\u001b[0;34m)\u001b[0m\u001b[0;34m\u001b[0m\n",
       "\u001b[0;34m\u001b[0m        \u001b[0;32mif\u001b[0m \u001b[0mnormdr\u001b[0m \u001b[0;34m>\u001b[0m \u001b[0mself\u001b[0m\u001b[0;34m.\u001b[0m\u001b[0mmaxstep\u001b[0m\u001b[0;34m:\u001b[0m\u001b[0;34m\u001b[0m\n",
       "\u001b[0;34m\u001b[0m            \u001b[0mdr\u001b[0m \u001b[0;34m=\u001b[0m \u001b[0mself\u001b[0m\u001b[0;34m.\u001b[0m\u001b[0mmaxstep\u001b[0m \u001b[0;34m*\u001b[0m \u001b[0mdr\u001b[0m \u001b[0;34m/\u001b[0m \u001b[0mnormdr\u001b[0m\u001b[0;34m\u001b[0m\n",
       "\u001b[0;34m\u001b[0m        \u001b[0mr\u001b[0m \u001b[0;34m=\u001b[0m \u001b[0matoms\u001b[0m\u001b[0;34m.\u001b[0m\u001b[0mget_positions\u001b[0m\u001b[0;34m(\u001b[0m\u001b[0;34m)\u001b[0m\u001b[0;34m\u001b[0m\n",
       "\u001b[0;34m\u001b[0m        \u001b[0matoms\u001b[0m\u001b[0;34m.\u001b[0m\u001b[0mset_positions\u001b[0m\u001b[0;34m(\u001b[0m\u001b[0mr\u001b[0m \u001b[0;34m+\u001b[0m \u001b[0mdr\u001b[0m\u001b[0;34m)\u001b[0m\u001b[0;34m\u001b[0m\n",
       "\u001b[0;34m\u001b[0m        \u001b[0mself\u001b[0m\u001b[0;34m.\u001b[0m\u001b[0mdump\u001b[0m\u001b[0;34m(\u001b[0m\u001b[0;34m(\u001b[0m\u001b[0mself\u001b[0m\u001b[0;34m.\u001b[0m\u001b[0mv\u001b[0m\u001b[0;34m,\u001b[0m \u001b[0mself\u001b[0m\u001b[0;34m.\u001b[0m\u001b[0mdt\u001b[0m\u001b[0;34m)\u001b[0m\u001b[0;34m)\u001b[0m\u001b[0;34m\u001b[0m\u001b[0;34m\u001b[0m\u001b[0m\n",
       "\u001b[0;31mFile:\u001b[0m           ~/.local/lib/python3.7/site-packages/ase/optimize/fire.py\n",
       "\u001b[0;31mType:\u001b[0m           type\n",
       "\u001b[0;31mSubclasses:\u001b[0m     \n"
      ]
     },
     "metadata": {},
     "output_type": "display_data"
    }
   ],
   "source": [
    "from ase.optimize import FIRE\n",
    "??FIRE"
   ]
  }
 ],
 "metadata": {
  "kernelspec": {
   "display_name": "Python 3.7",
   "language": "python",
   "name": "python37"
  },
  "language_info": {
   "codemirror_mode": {
    "name": "ipython",
    "version": 3
   },
   "file_extension": ".py",
   "mimetype": "text/x-python",
   "name": "python",
   "nbconvert_exporter": "python",
   "pygments_lexer": "ipython3",
   "version": "3.7.13"
  },
  "widgets": {
   "application/vnd.jupyter.widget-state+json": {
    "state": {
     "00a917011ed84c188975611dab4c0e3a": {
      "model_module": "@jupyter-widgets/base",
      "model_module_version": "1.2.0",
      "model_name": "LayoutModel",
      "state": {}
     },
     "010369135cba4fc89bfa0a497e5be6b9": {
      "model_module": "@jupyter-widgets/controls",
      "model_module_version": "1.5.0",
      "model_name": "DescriptionStyleModel",
      "state": {
       "description_width": ""
      }
     },
     "018d1edee2504d0eb275fca83770f736": {
      "model_module": "@jupyter-widgets/base",
      "model_module_version": "1.2.0",
      "model_name": "LayoutModel",
      "state": {}
     },
     "0196992b7f92414fbc142312e743637e": {
      "model_module": "@jupyter-widgets/base",
      "model_module_version": "1.2.0",
      "model_name": "LayoutModel",
      "state": {}
     },
     "028fcb43b2c64ba19ad4ff0d8b763915": {
      "model_module": "@jupyter-widgets/controls",
      "model_module_version": "1.5.0",
      "model_name": "CheckboxModel",
      "state": {
       "description": "Show charge",
       "disabled": false,
       "layout": "IPY_MODEL_09152fe03fe04276b9d958c707cc21dc",
       "style": "IPY_MODEL_4adc84885ce34968a51fb07ed7a31cef",
       "value": false
      }
     },
     "02b3503c65764e3ca9943883265486a4": {
      "model_module": "@jupyter-widgets/controls",
      "model_module_version": "1.5.0",
      "model_name": "DescriptionStyleModel",
      "state": {
       "description_width": ""
      }
     },
     "03d52f19814d4484a82b541370ab4f32": {
      "model_module": "@jupyter-widgets/controls",
      "model_module_version": "1.5.0",
      "model_name": "HBoxModel",
      "state": {
       "children": [
        "IPY_MODEL_534518008df94b6684f2ab5db4b65279",
        "IPY_MODEL_31c0b04a1c4445afbd0176989f4b8c9b"
       ],
       "layout": "IPY_MODEL_ef9b7deb0a674839bcaa5c47eed30b56"
      }
     },
     "05ee814c887c4edca113c708e06d0079": {
      "model_module": "@jupyter-widgets/base",
      "model_module_version": "1.2.0",
      "model_name": "LayoutModel",
      "state": {}
     },
     "076db78165b44ac79ffb84af9d41a7f5": {
      "model_module": "@jupyter-widgets/base",
      "model_module_version": "1.2.0",
      "model_name": "LayoutModel",
      "state": {}
     },
     "091136c925e045369e3dc5c5d96b588d": {
      "model_module": "@jupyter-widgets/controls",
      "model_module_version": "1.5.0",
      "model_name": "ButtonStyleModel",
      "state": {}
     },
     "09152fe03fe04276b9d958c707cc21dc": {
      "model_module": "@jupyter-widgets/base",
      "model_module_version": "1.2.0",
      "model_name": "LayoutModel",
      "state": {}
     },
     "09424a4a927448928afcbe0621a50f3c": {
      "model_module": "@jupyter-widgets/controls",
      "model_module_version": "1.5.0",
      "model_name": "ButtonStyleModel",
      "state": {}
     },
     "094376b5667742e4a617c024ee7d1d5b": {
      "model_module": "@jupyter-widgets/base",
      "model_module_version": "1.2.0",
      "model_name": "LayoutModel",
      "state": {}
     },
     "09727553b8c4454986a5a9e3270a5505": {
      "model_module": "@jupyter-widgets/base",
      "model_module_version": "1.2.0",
      "model_name": "LayoutModel",
      "state": {}
     },
     "09e890b3e20a4309999c1539a1742e66": {
      "model_module": "@jupyter-widgets/controls",
      "model_module_version": "1.5.0",
      "model_name": "FloatSliderModel",
      "state": {
       "description": "Force scale",
       "layout": "IPY_MODEL_1feb68e41ac74699a0221f25049c0b6f",
       "step": 0.1,
       "style": "IPY_MODEL_555967a674ee4522a7b4e6bada06877f",
       "value": 0.5
      }
     },
     "0c69c2636d5b47139864d7e24544f21c": {
      "model_module": "@jupyter-widgets/controls",
      "model_module_version": "1.5.0",
      "model_name": "SliderStyleModel",
      "state": {
       "description_width": ""
      }
     },
     "0e40da05d4314e318011c8bfe8f40bc1": {
      "model_module": "@jupyter-widgets/base",
      "model_module_version": "1.2.0",
      "model_name": "LayoutModel",
      "state": {}
     },
     "0eb3a49c016c4c47884d7e848837d277": {
      "model_module": "@jupyter-widgets/base",
      "model_module_version": "1.2.0",
      "model_name": "LayoutModel",
      "state": {}
     },
     "0f56c4c778224f9391444061167331fe": {
      "model_module": "@jupyter-widgets/controls",
      "model_module_version": "1.5.0",
      "model_name": "ButtonModel",
      "state": {
       "description": "Save image",
       "layout": "IPY_MODEL_defc5c326aa44459bbe420542b1027a5",
       "style": "IPY_MODEL_59bf359f946e414cadde3651caf86415",
       "tooltip": "Save current frame to file.\nCurrently .png and .html are supported.\nIt takes a bit time, please be patient."
      }
     },
     "112a5adfce8740bd87c7ff82c02ca87d": {
      "model_module": "@jupyter-widgets/controls",
      "model_module_version": "1.5.0",
      "model_name": "FloatSliderModel",
      "state": {
       "description": "Ball size",
       "layout": "IPY_MODEL_29c43d7bc8b24736a24785b746044037",
       "max": 1.5,
       "step": 0.01,
       "style": "IPY_MODEL_b2bb343c512d476ab00e2ba402209987",
       "value": 0.5
      }
     },
     "11a001c0fbcc435eb42109d347f5c807": {
      "model_module": "@jupyter-widgets/base",
      "model_module_version": "1.2.0",
      "model_name": "LayoutModel",
      "state": {}
     },
     "128380f974d447118b9ec7f14c5ec66a": {
      "model_module": "@jupyter-widgets/controls",
      "model_module_version": "1.5.0",
      "model_name": "LinkModel",
      "state": {
       "source": [
        "IPY_MODEL_f82f5838bfbc47928de20d0d1d31cfaf",
        "max"
       ],
       "target": [
        "IPY_MODEL_a34a702336b8417aba51fb438301d6b4",
        "max_frame"
       ]
      }
     },
     "12cd6e2e1614460f9e25fd2c50b944e6": {
      "model_module": "@jupyter-widgets/controls",
      "model_module_version": "1.5.0",
      "model_name": "DropdownModel",
      "state": {
       "_options_labels": [
        "All",
        "Pt"
       ],
       "description": "Show",
       "index": 0,
       "layout": "IPY_MODEL_59828ec9eb554bd195514991c0ea77a3",
       "style": "IPY_MODEL_74b2264544e448b9adf7e32e7abc6bf5"
      }
     },
     "158ad83467d84a81b12755b21d68372b": {
      "model_module": "@jupyter-widgets/base",
      "model_module_version": "1.2.0",
      "model_name": "LayoutModel",
      "state": {}
     },
     "158c8d59c575464c91bf116e0363f8af": {
      "model_module": "@jupyter-widgets/controls",
      "model_module_version": "1.5.0",
      "model_name": "LinkModel",
      "state": {
       "source": [
        "IPY_MODEL_eb5c4c9ccd3442ff8a703f4c36344a13",
        "max"
       ],
       "target": [
        "IPY_MODEL_b21e79646ade400489c957061a33aa79",
        "max_frame"
       ]
      }
     },
     "15e9bdacb6194bb9aaf5abe45195e69e": {
      "model_module": "@jupyter-widgets/output",
      "model_module_version": "1.0.0",
      "model_name": "OutputModel",
      "state": {
       "layout": "IPY_MODEL_c0bda314c45c46d7a2af3273427bb425"
      }
     },
     "1a8a5779fba6497a9aa42da5f686d909": {
      "model_module": "@jupyter-widgets/output",
      "model_module_version": "1.0.0",
      "model_name": "OutputModel",
      "state": {
       "layout": "IPY_MODEL_8f99ff6bc31b4ad3adbb7a4d6ccb66fc"
      }
     },
     "1b1b63e236e94c178bf9ecc57e03937d": {
      "model_module": "@jupyter-widgets/controls",
      "model_module_version": "1.5.0",
      "model_name": "ImageModel",
      "state": {
       "layout": "IPY_MODEL_00a917011ed84c188975611dab4c0e3a",
       "width": "900.0"
      }
     },
     "1c5823c7128f4d48949097214d8eda8b": {
      "model_module": "@jupyter-widgets/base",
      "model_module_version": "1.2.0",
      "model_name": "LayoutModel",
      "state": {}
     },
     "1d066e8637b0465fb0f960f0e106f729": {
      "model_module": "@jupyter-widgets/controls",
      "model_module_version": "1.5.0",
      "model_name": "DescriptionStyleModel",
      "state": {
       "description_width": ""
      }
     },
     "1d6fcfa8980b4e4dbc484ab9119b1d3c": {
      "model_module": "@jupyter-widgets/output",
      "model_module_version": "1.0.0",
      "model_name": "OutputModel",
      "state": {
       "layout": "IPY_MODEL_dea26ee0ee574da6a0af656f7c654fc4"
      }
     },
     "1e5cd2a9062c4335834839ecbf36b4b8": {
      "model_module": "@jupyter-widgets/base",
      "model_module_version": "1.2.0",
      "model_name": "LayoutModel",
      "state": {}
     },
     "1eb30010f7f240dea88e99f707e05f6d": {
      "model_module": "@jupyter-widgets/base",
      "model_module_version": "1.2.0",
      "model_name": "LayoutModel",
      "state": {}
     },
     "1feb68e41ac74699a0221f25049c0b6f": {
      "model_module": "@jupyter-widgets/base",
      "model_module_version": "1.2.0",
      "model_name": "LayoutModel",
      "state": {}
     },
     "20546e06a69543e4ae5209caf5045e87": {
      "model_module": "@jupyter-widgets/base",
      "model_module_version": "1.2.0",
      "model_name": "LayoutModel",
      "state": {}
     },
     "206f1c7ab78741baa5e2e3e4dd278433": {
      "model_module": "@jupyter-widgets/controls",
      "model_module_version": "1.5.0",
      "model_name": "ButtonModel",
      "state": {
       "description": "Download image",
       "layout": "IPY_MODEL_328c5f218e1b4383b58ec7b6b55880d7",
       "style": "IPY_MODEL_cf4907b4350042d78ff22b97110e87a9",
       "tooltip": "Download current frame to your local PC"
      }
     },
     "23a5528b3c1f42e987d7d9cc8239d337": {
      "model_module": "@jupyter-widgets/controls",
      "model_module_version": "1.5.0",
      "model_name": "DescriptionStyleModel",
      "state": {
       "description_width": ""
      }
     },
     "24b9d0f64eec455e9959c8903748c157": {
      "model_module": "@jupyter-widgets/controls",
      "model_module_version": "1.5.0",
      "model_name": "DescriptionStyleModel",
      "state": {
       "description_width": ""
      }
     },
     "25a3b6b2f1fa47a6b7d7ab7f2940dcb3": {
      "model_module": "@jupyter-widgets/base",
      "model_module_version": "1.2.0",
      "model_name": "LayoutModel",
      "state": {}
     },
     "269c6f9202664cffb81e528e97ad5b91": {
      "model_module": "@jupyter-widgets/base",
      "model_module_version": "1.2.0",
      "model_name": "LayoutModel",
      "state": {}
     },
     "279f08bc9ea34f2190b19e3ba884a625": {
      "model_module": "@jupyter-widgets/base",
      "model_module_version": "1.2.0",
      "model_name": "LayoutModel",
      "state": {}
     },
     "280c7771471846c4af6c52ec909dc69a": {
      "model_module": "@jupyter-widgets/controls",
      "model_module_version": "1.5.0",
      "model_name": "LinkModel",
      "state": {
       "source": [
        "IPY_MODEL_c92ae6cc82e044cea2b30ff643f6a149",
        "value"
       ],
       "target": [
        "IPY_MODEL_a88d91de5b504b7789a602d5a3917820",
        "value"
       ]
      }
     },
     "28c2d7d151184b60886d5b2b6e4f7df7": {
      "model_module": "@jupyter-widgets/controls",
      "model_module_version": "1.5.0",
      "model_name": "DescriptionStyleModel",
      "state": {
       "description_width": ""
      }
     },
     "29c43d7bc8b24736a24785b746044037": {
      "model_module": "@jupyter-widgets/base",
      "model_module_version": "1.2.0",
      "model_name": "LayoutModel",
      "state": {}
     },
     "2a3690349b5e43368e2573e98bdef108": {
      "model_module": "@jupyter-widgets/controls",
      "model_module_version": "1.5.0",
      "model_name": "HTMLModel",
      "state": {
       "layout": "IPY_MODEL_d5bfa4baa6be4d44945cd6e70852e6c5",
       "style": "IPY_MODEL_be93bda4ee9b425084373d03cf1de642",
       "value": " 5/5 [00:07&lt;00:00,  1.21s/it]"
      }
     },
     "2b68748e90e44106a77629d381d3e26d": {
      "model_module": "@jupyter-widgets/base",
      "model_module_version": "1.2.0",
      "model_name": "LayoutModel",
      "state": {}
     },
     "2bb36a3a47a4449e92a98dd454bec137": {
      "model_module": "@jupyter-widgets/controls",
      "model_module_version": "1.5.0",
      "model_name": "FloatSliderModel",
      "state": {
       "description": "Ball size",
       "layout": "IPY_MODEL_47393400b96e4dc1aa1e4468575e1c35",
       "max": 1.5,
       "step": 0.01,
       "style": "IPY_MODEL_85509062ada147f0957d79c96f29842c",
       "value": 0.5
      }
     },
     "2bbbd07d0e94485096ca52bb91beaaf9": {
      "model_module": "@jupyter-widgets/controls",
      "model_module_version": "1.5.0",
      "model_name": "ImageModel",
      "state": {
       "layout": "IPY_MODEL_bc7af0c94ea14091a97d99defb3bc57d",
       "width": "900.0"
      }
     },
     "2c67de33a6424cf38d9b6aee63667442": {
      "model_module": "@jupyter-widgets/base",
      "model_module_version": "1.2.0",
      "model_name": "LayoutModel",
      "state": {}
     },
     "2f258694d50745b1a35cc2364beaaa01": {
      "model_module": "@jupyter-widgets/controls",
      "model_module_version": "1.5.0",
      "model_name": "FloatSliderModel",
      "state": {
       "description": "Ball size",
       "layout": "IPY_MODEL_9acfbf23851f4423b4c3e3c82ed3a4e1",
       "max": 1.5,
       "step": 0.01,
       "style": "IPY_MODEL_be79a368c71b4527a3a9ecd55216b186",
       "value": 0.5
      }
     },
     "2f6e4644d6c0401aa27e2cf0d3cfa916": {
      "model_module": "@jupyter-widgets/base",
      "model_module_version": "1.2.0",
      "model_name": "LayoutModel",
      "state": {}
     },
     "2f9a28b2ec8d49dd88191e3497a9f0a1": {
      "model_module": "@jupyter-widgets/controls",
      "model_module_version": "1.5.0",
      "model_name": "CheckboxModel",
      "state": {
       "description": "Show charge",
       "disabled": false,
       "layout": "IPY_MODEL_0e40da05d4314e318011c8bfe8f40bc1",
       "style": "IPY_MODEL_e35aec51bbee4178b9bee0bfb7a16648",
       "value": false
      }
     },
     "30fe737616f141a4a9e8de23dfa3355a": {
      "model_module": "@jupyter-widgets/controls",
      "model_module_version": "1.5.0",
      "model_name": "ButtonStyleModel",
      "state": {}
     },
     "30fea926bb8f478ca676bfc6a6443c3d": {
      "model_module": "@jupyter-widgets/base",
      "model_module_version": "1.2.0",
      "model_name": "LayoutModel",
      "state": {}
     },
     "315e1fac465d4a3ebd82d2cb79cf518f": {
      "model_module": "@jupyter-widgets/base",
      "model_module_version": "1.2.0",
      "model_name": "LayoutModel",
      "state": {}
     },
     "31c0b04a1c4445afbd0176989f4b8c9b": {
      "model_module": "@jupyter-widgets/controls",
      "model_module_version": "1.5.0",
      "model_name": "IntSliderModel",
      "state": {
       "layout": "IPY_MODEL_0eb3a49c016c4c47884d7e848837d277",
       "max": 2,
       "style": "IPY_MODEL_5718dad3299447d3ac39bb8864d87b49"
      }
     },
     "328c5f218e1b4383b58ec7b6b55880d7": {
      "model_module": "@jupyter-widgets/base",
      "model_module_version": "1.2.0",
      "model_name": "LayoutModel",
      "state": {}
     },
     "334411dd7e4a491b95621a0f94b0c9da": {
      "model_module": "@jupyter-widgets/controls",
      "model_module_version": "1.5.0",
      "model_name": "LinkModel",
      "state": {
       "source": [
        "IPY_MODEL_6a92e41a4de34375953d3d7bcc8e4b1f",
        "max"
       ],
       "target": [
        "IPY_MODEL_61113f0210824e67b4e8d3d918ab2fc4",
        "max_frame"
       ]
      }
     },
     "36d1a6913af84e5cb52bedbdcb1da12d": {
      "model_module": "@jupyter-widgets/controls",
      "model_module_version": "1.5.0",
      "model_name": "DescriptionStyleModel",
      "state": {
       "description_width": ""
      }
     },
     "383c6d6dac4341c6b2732b1d02fb22e0": {
      "model_module": "@jupyter-widgets/base",
      "model_module_version": "1.2.0",
      "model_name": "LayoutModel",
      "state": {}
     },
     "38af7b3911314d0c863eb70c7228be6b": {
      "model_module": "@jupyter-widgets/controls",
      "model_module_version": "1.5.0",
      "model_name": "ProgressStyleModel",
      "state": {
       "description_width": ""
      }
     },
     "3b3d330f6f974980add69f4c4e482e2b": {
      "model_module": "@jupyter-widgets/controls",
      "model_module_version": "1.5.0",
      "model_name": "ImageModel",
      "state": {
       "layout": "IPY_MODEL_746b37f656904936a4bfd3efc177081d",
       "width": "900.0"
      }
     },
     "3b5f1d31d5404b9ea4a1f6105f8e8466": {
      "model_module": "@jupyter-widgets/controls",
      "model_module_version": "1.5.0",
      "model_name": "FloatSliderModel",
      "state": {
       "description": "Charge scale",
       "layout": "IPY_MODEL_f83cb83f8259478d92ac355ac13a9ddd",
       "step": 0.1,
       "style": "IPY_MODEL_b5ba4c17f1074f5e9354e8164637ac06",
       "value": 1
      }
     },
     "3c067dd8d85941c386ece173d419ea2c": {
      "model_module": "@jupyter-widgets/controls",
      "model_module_version": "1.5.0",
      "model_name": "ButtonModel",
      "state": {
       "description": "Download image",
       "layout": "IPY_MODEL_7f99c60148974c6e82ee68c13268edc0",
       "style": "IPY_MODEL_a1b6bb2827414f6abfc23fcf40c19ba4",
       "tooltip": "Download current frame to your local PC"
      }
     },
     "3c714d4616834d488627c2a8149388bb": {
      "model_module": "@jupyter-widgets/controls",
      "model_module_version": "1.5.0",
      "model_name": "DescriptionStyleModel",
      "state": {
       "description_width": ""
      }
     },
     "3d13923a03eb47cca464fe67f84e0c4b": {
      "model_module": "@jupyter-widgets/controls",
      "model_module_version": "1.5.0",
      "model_name": "LinkModel",
      "state": {
       "source": [
        "IPY_MODEL_3ee7bd6a868c4f34afe267c441c481be",
        "value"
       ],
       "target": [
        "IPY_MODEL_f82f5838bfbc47928de20d0d1d31cfaf",
        "value"
       ]
      }
     },
     "3d414029a2a949dba2b0f2923f93954c": {
      "model_module": "@jupyter-widgets/controls",
      "model_module_version": "1.5.0",
      "model_name": "FloatSliderModel",
      "state": {
       "description": "Force scale",
       "layout": "IPY_MODEL_eea881a343d6441e8e675a87278eea3e",
       "step": 0.1,
       "style": "IPY_MODEL_4d9142734508407ebbfe0c5ddefa1ebb",
       "value": 0.5
      }
     },
     "3d4e82cd3a854c03b59d73522d0427b7": {
      "model_module": "@jupyter-widgets/base",
      "model_module_version": "1.2.0",
      "model_name": "LayoutModel",
      "state": {
       "width": "34px"
      }
     },
     "3d5c2201f7ff4414b0896559097ab47b": {
      "model_module": "@jupyter-widgets/controls",
      "model_module_version": "1.5.0",
      "model_name": "HTMLModel",
      "state": {
       "layout": "IPY_MODEL_c0cef10dcc704e79ae129980671dc325",
       "style": "IPY_MODEL_f61d5af773dc4774a265e1009beca60c",
       "value": "100%"
      }
     },
     "3ee7bd6a868c4f34afe267c441c481be": {
      "model_module": "@jupyter-widgets/controls",
      "model_module_version": "1.5.0",
      "model_name": "PlayModel",
      "state": {
       "layout": "IPY_MODEL_bdbc0017fd474f55a75623f67e23a1ff",
       "max": 0,
       "style": "IPY_MODEL_b80ba27cf323405c86f717690f093cef"
      }
     },
     "3feec691959f45baa21e7e62d19b7319": {
      "model_module": "@jupyter-widgets/base",
      "model_module_version": "1.2.0",
      "model_name": "LayoutModel",
      "state": {}
     },
     "40a0cf6dfe7e44e4845b1aee87169267": {
      "model_module": "@jupyter-widgets/controls",
      "model_module_version": "1.5.0",
      "model_name": "LinkModel",
      "state": {
       "source": [
        "IPY_MODEL_899871d94ebd42709055823db3efadcf",
        "value"
       ],
       "target": [
        "IPY_MODEL_6a92e41a4de34375953d3d7bcc8e4b1f",
        "value"
       ]
      }
     },
     "438258e33bd64f9b910a3c02c91a01f6": {
      "model_module": "@jupyter-widgets/base",
      "model_module_version": "1.2.0",
      "model_name": "LayoutModel",
      "state": {}
     },
     "442c7a67b52a45f18b5025611b2a87b5": {
      "model_module": "@jupyter-widgets/base",
      "model_module_version": "1.2.0",
      "model_name": "LayoutModel",
      "state": {}
     },
     "44cf9b591e5c4e999c74e4d2623b957a": {
      "model_module": "@jupyter-widgets/base",
      "model_module_version": "1.2.0",
      "model_name": "LayoutModel",
      "state": {}
     },
     "45ba919ef6e441c1bc6c7b376b2af380": {
      "model_module": "@jupyter-widgets/controls",
      "model_module_version": "1.5.0",
      "model_name": "DescriptionStyleModel",
      "state": {
       "description_width": ""
      }
     },
     "4667b1fb51594934a62bdbbf99ebae08": {
      "model_module": "@jupyter-widgets/base",
      "model_module_version": "1.2.0",
      "model_name": "LayoutModel",
      "state": {}
     },
     "47393400b96e4dc1aa1e4468575e1c35": {
      "model_module": "@jupyter-widgets/base",
      "model_module_version": "1.2.0",
      "model_name": "LayoutModel",
      "state": {}
     },
     "48847c5b56c4420ab2690b62e4d08716": {
      "model_module": "@jupyter-widgets/base",
      "model_module_version": "1.2.0",
      "model_name": "LayoutModel",
      "state": {}
     },
     "4923ec197c6d4c65875ca734da24cc07": {
      "model_module": "@jupyter-widgets/base",
      "model_module_version": "1.2.0",
      "model_name": "LayoutModel",
      "state": {
       "width": "34px"
      }
     },
     "4946ddc6d0d943d298b7811a9becf411": {
      "model_module": "@jupyter-widgets/controls",
      "model_module_version": "1.5.0",
      "model_name": "ButtonStyleModel",
      "state": {}
     },
     "4a4dcdcade4443f09b76944209efdc26": {
      "model_module": "@jupyter-widgets/controls",
      "model_module_version": "1.5.0",
      "model_name": "TextModel",
      "state": {
       "description": "Filename: ",
       "layout": "IPY_MODEL_48847c5b56c4420ab2690b62e4d08716",
       "style": "IPY_MODEL_61390f2f0fb44558b2b8bacd2fb728bc",
       "value": "screenshot.png"
      }
     },
     "4adc84885ce34968a51fb07ed7a31cef": {
      "model_module": "@jupyter-widgets/controls",
      "model_module_version": "1.5.0",
      "model_name": "DescriptionStyleModel",
      "state": {
       "description_width": ""
      }
     },
     "4b28537f09b74c168181ed0231ffffcb": {
      "model_module": "@jupyter-widgets/base",
      "model_module_version": "1.2.0",
      "model_name": "LayoutModel",
      "state": {}
     },
     "4bc757097d8e4340981e2a0d2b2def40": {
      "model_module": "@jupyter-widgets/controls",
      "model_module_version": "1.5.0",
      "model_name": "FloatSliderModel",
      "state": {
       "description": "Charge scale",
       "layout": "IPY_MODEL_844916a36fd84e26aecaced4a5c20e56",
       "step": 0.1,
       "style": "IPY_MODEL_ac376a4a325d4cf7a0127a1eb8d38828",
       "value": 1
      }
     },
     "4d069953f9184e7e8a36030fdcfef121": {
      "model_module": "@jupyter-widgets/controls",
      "model_module_version": "1.5.0",
      "model_name": "VBoxModel",
      "state": {
       "children": [
        "IPY_MODEL_f3bbb4fac4de49618f7ef868086be991",
        "IPY_MODEL_f09f5075843347ba805901ae7d219dca",
        "IPY_MODEL_2f258694d50745b1a35cc2364beaaa01",
        "IPY_MODEL_4a4dcdcade4443f09b76944209efdc26",
        "IPY_MODEL_72f91a97b054447c94c8ffc070d3b612",
        "IPY_MODEL_9e5762fa62bc4b8d9de7292d94e8baef",
        "IPY_MODEL_3d414029a2a949dba2b0f2923f93954c",
        "IPY_MODEL_87738b66a41e432186530b8e09246ee6",
        "IPY_MODEL_3b5f1d31d5404b9ea4a1f6105f8e8466",
        "IPY_MODEL_1d6fcfa8980b4e4dbc484ab9119b1d3c"
       ],
       "layout": "IPY_MODEL_4667b1fb51594934a62bdbbf99ebae08"
      }
     },
     "4d9142734508407ebbfe0c5ddefa1ebb": {
      "model_module": "@jupyter-widgets/controls",
      "model_module_version": "1.5.0",
      "model_name": "SliderStyleModel",
      "state": {
       "description_width": ""
      }
     },
     "4ed557d751c24c5c8c4acc575f7fdac6": {
      "model_module": "@jupyter-widgets/controls",
      "model_module_version": "1.5.0",
      "model_name": "ButtonStyleModel",
      "state": {}
     },
     "4fd2feb362f0412f988a8f585da5452a": {
      "model_module": "@jupyter-widgets/controls",
      "model_module_version": "1.5.0",
      "model_name": "SliderStyleModel",
      "state": {
       "description_width": ""
      }
     },
     "515beda6c07d477ba0c7860d7e1b424d": {
      "model_module": "@jupyter-widgets/output",
      "model_module_version": "1.0.0",
      "model_name": "OutputModel",
      "state": {
       "layout": "IPY_MODEL_71939f8dde8f49eabfb604ef8bd0ba6c"
      }
     },
     "52705af5722f4e0aa6980b5789e79903": {
      "model_module": "@jupyter-widgets/controls",
      "model_module_version": "1.5.0",
      "model_name": "LinkModel",
      "state": {
       "source": [
        "IPY_MODEL_534518008df94b6684f2ab5db4b65279",
        "value"
       ],
       "target": [
        "IPY_MODEL_31c0b04a1c4445afbd0176989f4b8c9b",
        "value"
       ]
      }
     },
     "534518008df94b6684f2ab5db4b65279": {
      "model_module": "@jupyter-widgets/controls",
      "model_module_version": "1.5.0",
      "model_name": "PlayModel",
      "state": {
       "layout": "IPY_MODEL_9db4d5c1ff224045bcbdbd07189998d5",
       "max": 2,
       "style": "IPY_MODEL_791fca2651fe4c849ca3af6567803558"
      }
     },
     "53bfff38323e4479bac08b9c30eb58ab": {
      "model_module": "@jupyter-widgets/base",
      "model_module_version": "1.2.0",
      "model_name": "LayoutModel",
      "state": {}
     },
     "545b3d3108d045019e26a160c8310ecc": {
      "model_module": "@jupyter-widgets/base",
      "model_module_version": "1.2.0",
      "model_name": "LayoutModel",
      "state": {}
     },
     "553096faf6834b03aa48051514ee3b1f": {
      "model_module": "@jupyter-widgets/controls",
      "model_module_version": "1.5.0",
      "model_name": "SliderStyleModel",
      "state": {
       "description_width": ""
      }
     },
     "555967a674ee4522a7b4e6bada06877f": {
      "model_module": "@jupyter-widgets/controls",
      "model_module_version": "1.5.0",
      "model_name": "SliderStyleModel",
      "state": {
       "description_width": ""
      }
     },
     "5718dad3299447d3ac39bb8864d87b49": {
      "model_module": "@jupyter-widgets/controls",
      "model_module_version": "1.5.0",
      "model_name": "SliderStyleModel",
      "state": {
       "description_width": ""
      }
     },
     "5755196c3f31469599f3b284042202ad": {
      "model_module": "@jupyter-widgets/controls",
      "model_module_version": "1.5.0",
      "model_name": "HBoxModel",
      "state": {
       "children": [
        "IPY_MODEL_a34a702336b8417aba51fb438301d6b4",
        "IPY_MODEL_c3bd58b6bed8407f9374ae37dd40e243"
       ],
       "layout": "IPY_MODEL_9e9cfec436944d09a5a109265b0ad07f"
      }
     },
     "585b65d40dda4d51a482439ed0edb787": {
      "model_module": "@jupyter-widgets/base",
      "model_module_version": "1.2.0",
      "model_name": "LayoutModel",
      "state": {}
     },
     "58f612fe06f14b9e836fe64bffe73d00": {
      "model_module": "@jupyter-widgets/base",
      "model_module_version": "1.2.0",
      "model_name": "LayoutModel",
      "state": {}
     },
     "59828ec9eb554bd195514991c0ea77a3": {
      "model_module": "@jupyter-widgets/base",
      "model_module_version": "1.2.0",
      "model_name": "LayoutModel",
      "state": {}
     },
     "59bf13ebc6204da88c3c138069caf683": {
      "model_module": "@jupyter-widgets/controls",
      "model_module_version": "1.5.0",
      "model_name": "FloatProgressModel",
      "state": {
       "bar_style": "success",
       "layout": "IPY_MODEL_b6938feb975646f19ddd3d451d99802a",
       "max": 5,
       "style": "IPY_MODEL_38af7b3911314d0c863eb70c7228be6b",
       "value": 5
      }
     },
     "59bf359f946e414cadde3651caf86415": {
      "model_module": "@jupyter-widgets/controls",
      "model_module_version": "1.5.0",
      "model_name": "ButtonStyleModel",
      "state": {}
     },
     "5a5f8e479de244c7ba1a6e540b81c4dd": {
      "model_module": "@jupyter-widgets/base",
      "model_module_version": "1.2.0",
      "model_name": "LayoutModel",
      "state": {}
     },
     "5cc8cf68a74f499d972e9dbde3161996": {
      "model_module": "@jupyter-widgets/controls",
      "model_module_version": "1.5.0",
      "model_name": "SliderStyleModel",
      "state": {
       "description_width": ""
      }
     },
     "5d2e119467e6499e99286f47944beb4e": {
      "model_module": "@jupyter-widgets/base",
      "model_module_version": "1.2.0",
      "model_name": "LayoutModel",
      "state": {}
     },
     "5d6f05097b374c6abce94e2a3aabf57e": {
      "model_module": "@jupyter-widgets/base",
      "model_module_version": "1.2.0",
      "model_name": "LayoutModel",
      "state": {}
     },
     "5f84b9005b3f44df889295d173ab96da": {
      "model_module": "@jupyter-widgets/controls",
      "model_module_version": "1.5.0",
      "model_name": "HBoxModel",
      "state": {
       "children": [
        "IPY_MODEL_ea06c761eaec493cbdf6869864cb21cb",
        "IPY_MODEL_954160c49ce94d07bae375ac17235330"
       ],
       "layout": "IPY_MODEL_30fea926bb8f478ca676bfc6a6443c3d"
      }
     },
     "5ffa8315535140a88de1e54b8d8d5589": {
      "model_module": "@jupyter-widgets/controls",
      "model_module_version": "1.5.0",
      "model_name": "ButtonModel",
      "state": {
       "description": "Download image",
       "layout": "IPY_MODEL_b31bc46c664943a19a9a5ae5db35d2e4",
       "style": "IPY_MODEL_09424a4a927448928afcbe0621a50f3c",
       "tooltip": "Download current frame to your local PC"
      }
     },
     "61113f0210824e67b4e8d3d918ab2fc4": {
      "model_module": "nglview-js-widgets",
      "model_module_version": "3.0.1",
      "model_name": "NGLModel",
      "state": {
       "_camera_orientation": [
        10.481783228970954,
        0,
        0,
        0,
        0,
        10.481783228970954,
        0,
        0,
        0,
        0,
        10.481783228970954,
        0,
        0.26649999618530273,
        -0.01100003719329834,
        0.218999981880188,
        1
       ],
       "_camera_str": "orthographic",
       "_gui_theme": null,
       "_ibtn_fullscreen": "IPY_MODEL_79e19a3cb222458ba8f23ffa3618218d",
       "_igui": null,
       "_iplayer": "IPY_MODEL_90da0bbc3704471b91bb95c1e2e30196",
       "_ngl_color_dict": {},
       "_ngl_coordinate_resource": {},
       "_ngl_full_stage_parameters": {
        "ambientColor": 14540253,
        "ambientIntensity": 0.2,
        "backgroundColor": "white",
        "cameraEyeSep": 0.3,
        "cameraFov": 40,
        "cameraType": "orthographic",
        "clipDist": 0,
        "clipFar": 100,
        "clipNear": 0,
        "fogFar": 100,
        "fogNear": 50,
        "hoverTimeout": 0,
        "impostor": true,
        "lightColor": 14540253,
        "lightIntensity": 1,
        "mousePreset": "default",
        "panSpeed": 1,
        "quality": "medium",
        "rotateSpeed": 2,
        "sampleLevel": 0,
        "tooltip": true,
        "workerDefault": true,
        "zoomSpeed": 1.2
       },
       "_ngl_msg_archive": [
        {
         "args": [
          {
           "binary": false,
           "data": "MODEL     1\nATOM      1    C MOL     1       2.215  -0.014  -0.123  1.00  0.00           C  \nATOM      2    C MOL     1       0.723  -0.001  -0.044  1.00  0.00           C  \nATOM      3    C MOL     1      -0.009  -1.171  -0.090  1.00  0.00           C  \nATOM      4    C MOL     1      -1.388  -1.167  -0.018  1.00  0.00           C  \nATOM      5    C MOL     1      -2.101   0.010   0.104  1.00  0.00           C  \nATOM      6    C MOL     1      -1.366   1.177   0.149  1.00  0.00           C  \nATOM      7    C MOL     1       0.011   1.176   0.077  1.00  0.00           C  \nATOM      8    H MOL     1       2.568   0.314  -1.111  1.00  0.00           H  \nATOM      9    H MOL     1       2.650  -0.976   0.104  1.00  0.00           H  \nATOM     10    H MOL     1       2.616   0.702   0.673  1.00  0.00           H  \nATOM     11    H MOL     1       0.513  -2.102  -0.184  1.00  0.00           H  \nATOM     12    H MOL     1      -1.973  -2.081  -0.053  1.00  0.00           H  \nATOM     13    H MOL     1      -3.183  -0.009   0.159  1.00  0.00           H  \nATOM     14    H MOL     1      -1.870   2.124   0.244  1.00  0.00           H  \nATOM     15    H MOL     1       0.593   2.106   0.114  1.00  0.00           H  \nENDMDL\n",
           "type": "blob"
          }
         ],
         "kwargs": {
          "defaultRepresentation": false,
          "ext": "pdb"
         },
         "methodName": "loadFile",
         "reconstruc_color_scheme": false,
         "target": "Stage",
         "type": "call_method"
        },
        {
         "args": [
          "600px",
          "600px"
         ],
         "kwargs": {},
         "methodName": "setSize",
         "reconstruc_color_scheme": false,
         "target": "Widget",
         "type": "call_method"
        },
        {
         "args": [
          "unitcell"
         ],
         "component_index": 0,
         "kwargs": {
          "sele": "all"
         },
         "methodName": "addRepresentation",
         "reconstruc_color_scheme": false,
         "target": "compList",
         "type": "call_method"
        },
        {
         "args": [
          "spacefill"
         ],
         "component_index": 0,
         "kwargs": {
          "sele": "all"
         },
         "methodName": "addRepresentation",
         "reconstruc_color_scheme": false,
         "target": "compList",
         "type": "call_method"
        },
        {
         "args": [],
         "kwargs": {
          "cameraType": "orthographic"
         },
         "methodName": "setParameters",
         "reconstruc_color_scheme": false,
         "target": "Stage",
         "type": "call_method"
        },
        {
         "args": [
          {
           "clipDist": 0
          }
         ],
         "kwargs": {},
         "methodName": "setParameters",
         "reconstruc_color_scheme": false,
         "target": "Widget",
         "type": "call_method"
        },
        {
         "args": [
          "spacefill",
          0
         ],
         "kwargs": {
          "colorScale": "rainbow",
          "colorScheme": "element",
          "radiusScale": 0.5,
          "radiusType": "covalent"
         },
         "methodName": "updateRepresentationsByName",
         "reconstruc_color_scheme": false,
         "target": "Widget",
         "type": "call_method"
        },
        {
         "args": [
          "this._Q = [[1.0, 0.0, 0.0], [0.0, 1.0, 0.0], [0.0, 0.0, 1.0]]\n    var tooltip = document.createElement('div')\n    Object.assign(tooltip.style, {\n      display: 'none',\n      position: 'fixed',\n      zIndex: 10,\n      pointerEvents: 'none',\n      backgroundColor: 'rgba( 0, 0, 0, 0.6 )',\n      color: 'lightgrey',\n      padding: '8px',\n      fontFamily: 'sans-serif'\n    })\n    document.body.appendChild(tooltip)\n\n    var that = this\n    this.stage.mouseControls.remove('hoverPick')\n    this.stage.signals.hovered.add(function (pickingProxy) {\n      if (pickingProxy && (pickingProxy.atom || pickingProxy.bond)) {\n        var atom = pickingProxy.atom || pickingProxy.closestBondAtom\n        var mp = pickingProxy.mouse.position\n        //tooltip.innerText = atom.element + ' i=' + atom.index + ' (' + atom.x.toFixed(2) +  ', ' + atom.y.toFixed(2) +  ', ' + atom.z.toFixed(2) + ')'\n        //var pos = that._atoms_pos[atom.index]\n        var Q = that._Q\n        var pos_x = Q[0][0] * atom.x + Q[0][1] * atom.y + Q[0][2] * atom.z \n        var pos_y = Q[1][0] * atom.x + Q[1][1] * atom.y + Q[1][2] * atom.z\n        var pos_z = Q[2][0] * atom.x + Q[2][1] * atom.y + Q[2][2] * atom.z\n        tooltip.innerText = 'i=' + atom.index + ' ' + atom.element + ' (' + pos_x.toFixed(2) +  ', ' + pos_y.toFixed(2) +  ', ' + pos_z.toFixed(2) + ')'\n        tooltip.style.bottom = window.innerHeight - mp.y + 3 + 'px'\n        tooltip.style.left = mp.x + 3 + 'px'\n        tooltip.style.display = 'block'\n      } else {\n        tooltip.style.display = 'none'\n      }\n    })\n    "
         ],
         "kwargs": {},
         "methodName": "executeCode",
         "reconstruc_color_scheme": false,
         "target": "Widget",
         "type": "call_method"
        },
        {
         "args": [
          "ball+stick"
         ],
         "component_index": 0,
         "kwargs": {
          "sele": "all"
         },
         "methodName": "addRepresentation",
         "reconstruc_color_scheme": false,
         "target": "compList",
         "type": "call_method"
        }
       ],
       "_ngl_original_stage_parameters": {
        "ambientColor": 14540253,
        "ambientIntensity": 0.2,
        "backgroundColor": "white",
        "cameraEyeSep": 0.3,
        "cameraFov": 40,
        "cameraType": "perspective",
        "clipDist": 10,
        "clipFar": 100,
        "clipNear": 0,
        "fogFar": 100,
        "fogNear": 50,
        "hoverTimeout": 0,
        "impostor": true,
        "lightColor": 14540253,
        "lightIntensity": 1,
        "mousePreset": "default",
        "panSpeed": 1,
        "quality": "medium",
        "rotateSpeed": 2,
        "sampleLevel": 0,
        "tooltip": true,
        "workerDefault": true,
        "zoomSpeed": 1.2
       },
       "_ngl_repr_dict": {
        "0": {
         "0": {
          "params": {
           "clipCenter": {
            "x": 0,
            "y": 0,
            "z": 0
           },
           "clipNear": 0,
           "clipRadius": 0,
           "colorMode": "hcl",
           "colorReverse": false,
           "colorScale": "",
           "colorScheme": "element",
           "colorValue": "orange",
           "defaultAssembly": "",
           "depthWrite": true,
           "diffuse": 16777215,
           "diffuseInterior": false,
           "disableImpostor": false,
           "disablePicking": false,
           "flatShaded": false,
           "interiorColor": 2236962,
           "interiorDarkening": 0,
           "lazy": false,
           "matrix": {
            "elements": [
             1,
             0,
             0,
             0,
             0,
             1,
             0,
             0,
             0,
             0,
             1,
             0,
             0,
             0,
             0,
             1
            ]
           },
           "metalness": 0,
           "opacity": 1,
           "quality": "medium",
           "radialSegments": 10,
           "radiusData": {},
           "radiusScale": 1,
           "radiusSize": 0.5,
           "radiusType": "vdw",
           "roughness": 0.4,
           "sele": "all",
           "side": "double",
           "sphereDetail": 1,
           "useInteriorColor": true,
           "visible": true,
           "wireframe": false
          },
          "type": "unitcell"
         },
         "1": {
          "params": {
           "assembly": "default",
           "clipCenter": {
            "x": 0,
            "y": 0,
            "z": 0
           },
           "clipNear": 0,
           "clipRadius": 0,
           "colorMode": "hcl",
           "colorReverse": false,
           "colorScale": "rainbow",
           "colorScheme": "element",
           "colorValue": 9474192,
           "defaultAssembly": "",
           "depthWrite": true,
           "diffuse": 16777215,
           "diffuseInterior": false,
           "disableImpostor": false,
           "disablePicking": false,
           "flatShaded": false,
           "interiorColor": 2236962,
           "interiorDarkening": 0,
           "lazy": false,
           "matrix": {
            "elements": [
             1,
             0,
             0,
             0,
             0,
             1,
             0,
             0,
             0,
             0,
             1,
             0,
             0,
             0,
             0,
             1
            ]
           },
           "metalness": 0,
           "opacity": 1,
           "quality": "medium",
           "radiusData": {},
           "radiusScale": 0.5,
           "radiusSize": 1,
           "radiusType": "covalent",
           "roughness": 0.4,
           "sele": "all",
           "side": "double",
           "sphereDetail": 1,
           "useInteriorColor": true,
           "visible": true,
           "wireframe": false
          },
          "type": "spacefill"
         },
         "2": {
          "params": {
           "aspectRatio": 2,
           "assembly": "default",
           "bondScale": 0.4,
           "bondSpacing": 1,
           "clipCenter": {
            "x": 0,
            "y": 0,
            "z": 0
           },
           "clipNear": 0,
           "clipRadius": 0,
           "colorMode": "hcl",
           "colorReverse": false,
           "colorScale": "",
           "colorScheme": "element",
           "colorValue": 9474192,
           "cylinderOnly": false,
           "defaultAssembly": "",
           "depthWrite": true,
           "diffuse": 16777215,
           "diffuseInterior": false,
           "disableImpostor": false,
           "disablePicking": false,
           "flatShaded": false,
           "interiorColor": 2236962,
           "interiorDarkening": 0,
           "lazy": false,
           "lineOnly": false,
           "linewidth": 2,
           "matrix": {
            "elements": [
             1,
             0,
             0,
             0,
             0,
             1,
             0,
             0,
             0,
             0,
             1,
             0,
             0,
             0,
             0,
             1
            ]
           },
           "metalness": 0,
           "multipleBond": "off",
           "opacity": 1,
           "openEnded": true,
           "quality": "medium",
           "radialSegments": 10,
           "radiusData": {},
           "radiusScale": 1,
           "radiusSize": 0.15,
           "radiusType": "size",
           "roughness": 0.4,
           "sele": "all",
           "side": "double",
           "sphereDetail": 1,
           "useInteriorColor": true,
           "visible": true,
           "wireframe": false
          },
          "type": "ball+stick"
         }
        }
       },
       "_ngl_serialize": false,
       "_ngl_version": "2.0.0-dev.36",
       "_ngl_view_id": [
        "A6F1EB97-E578-4E9F-B842-9E4BBBC3F550"
       ],
       "_player_dict": {},
       "_scene_position": {},
       "_scene_rotation": {},
       "_synced_model_ids": [],
       "_synced_repr_model_ids": [],
       "_view_height": "",
       "_view_width": "",
       "background": "white",
       "frame": 0,
       "gui_style": null,
       "layout": "IPY_MODEL_c0fb039c44974f4781814498a5606d6c",
       "max_frame": 0,
       "n_components": 1,
       "picked": {}
      }
     },
     "61390f2f0fb44558b2b8bacd2fb728bc": {
      "model_module": "@jupyter-widgets/controls",
      "model_module_version": "1.5.0",
      "model_name": "DescriptionStyleModel",
      "state": {
       "description_width": ""
      }
     },
     "626b3b92f0c04f03bf49c146fab320af": {
      "model_module": "@jupyter-widgets/controls",
      "model_module_version": "1.5.0",
      "model_name": "FloatSliderModel",
      "state": {
       "description": "Force scale",
       "layout": "IPY_MODEL_dc17891672f9426d8f3871a08ea5a6a8",
       "step": 0.1,
       "style": "IPY_MODEL_4fd2feb362f0412f988a8f585da5452a",
       "value": 0.5
      }
     },
     "62ff9e57d05e4ecb82bb2dd8e801ffd0": {
      "model_module": "@jupyter-widgets/controls",
      "model_module_version": "1.5.0",
      "model_name": "HBoxModel",
      "state": {
       "children": [
        "IPY_MODEL_c92ae6cc82e044cea2b30ff643f6a149",
        "IPY_MODEL_a88d91de5b504b7789a602d5a3917820"
       ],
       "layout": "IPY_MODEL_f2d6e48e3f034dffbdef40c34044effd"
      }
     },
     "636a68987c344aedaeeecabec19122d3": {
      "model_module": "@jupyter-widgets/base",
      "model_module_version": "1.2.0",
      "model_name": "LayoutModel",
      "state": {}
     },
     "638fa53fa19048108741b18a2a81cf9f": {
      "model_module": "@jupyter-widgets/controls",
      "model_module_version": "1.5.0",
      "model_name": "FloatSliderModel",
      "state": {
       "description": "Force scale",
       "layout": "IPY_MODEL_269c6f9202664cffb81e528e97ad5b91",
       "step": 0.1,
       "style": "IPY_MODEL_d4e6ef5146a3410d84ed1830c9c8f82b",
       "value": 0.5
      }
     },
     "64524aa548d845cfb4bcb4c943e9a819": {
      "model_module": "@jupyter-widgets/controls",
      "model_module_version": "1.5.0",
      "model_name": "DescriptionStyleModel",
      "state": {
       "description_width": ""
      }
     },
     "65bfc5dc5f744567a15eaad38f4a8e30": {
      "model_module": "@jupyter-widgets/controls",
      "model_module_version": "1.5.0",
      "model_name": "LinkModel",
      "state": {
       "source": [
        "IPY_MODEL_c92ae6cc82e044cea2b30ff643f6a149",
        "max"
       ],
       "target": [
        "IPY_MODEL_b9f8480200d148abbfc09a2f353d8483",
        "max_frame"
       ]
      }
     },
     "6618a91b035b4b0cadcce0fb29de1374": {
      "model_module": "@jupyter-widgets/controls",
      "model_module_version": "1.5.0",
      "model_name": "TextModel",
      "state": {
       "description": "Filename: ",
       "layout": "IPY_MODEL_af6a991818b044e28380b1227b023f2d",
       "style": "IPY_MODEL_b231398cac8f485aae173026f4f698de",
       "value": "screenshot.png"
      }
     },
     "666dc29f0c9f4cbd809b6f36fa2573ce": {
      "model_module": "@jupyter-widgets/controls",
      "model_module_version": "1.5.0",
      "model_name": "DescriptionStyleModel",
      "state": {
       "description_width": ""
      }
     },
     "67da9c66d12c4ead8be0766421fbbcc0": {
      "model_module": "@jupyter-widgets/controls",
      "model_module_version": "1.5.0",
      "model_name": "ButtonModel",
      "state": {
       "description": "Save image",
       "layout": "IPY_MODEL_279f08bc9ea34f2190b19e3ba884a625",
       "style": "IPY_MODEL_30fe737616f141a4a9e8de23dfa3355a",
       "tooltip": "Save current frame to file.\nCurrently .png and .html are supported.\nIt takes a bit time, please be patient."
      }
     },
     "69e7c3e68d8340dcbd4e6f7314f6183e": {
      "model_module": "@jupyter-widgets/controls",
      "model_module_version": "1.5.0",
      "model_name": "DropdownModel",
      "state": {
       "_options_labels": [
        " ",
        "picking",
        "random",
        "uniform",
        "atomindex",
        "residueindex",
        "chainindex",
        "modelindex",
        "sstruc",
        "element",
        "resname",
        "bfactor",
        "hydrophobicity",
        "value",
        "volume",
        "occupancy"
       ],
       "description": "Color scheme",
       "index": 9,
       "layout": "IPY_MODEL_076db78165b44ac79ffb84af9d41a7f5",
       "style": "IPY_MODEL_ac22d07e5ab44504b42713feb6883ee2"
      }
     },
     "6a92e41a4de34375953d3d7bcc8e4b1f": {
      "model_module": "@jupyter-widgets/controls",
      "model_module_version": "1.5.0",
      "model_name": "IntSliderModel",
      "state": {
       "layout": "IPY_MODEL_44cf9b591e5c4e999c74e4d2623b957a",
       "max": 0,
       "style": "IPY_MODEL_ada36434548342839419afa1f01c9e46"
      }
     },
     "6bb5b59aaa594ecebe8f57a850fedf16": {
      "model_module": "@jupyter-widgets/base",
      "model_module_version": "1.2.0",
      "model_name": "LayoutModel",
      "state": {}
     },
     "6cc5f52eecc747a7a1799c5d0b036052": {
      "model_module": "@jupyter-widgets/base",
      "model_module_version": "1.2.0",
      "model_name": "LayoutModel",
      "state": {}
     },
     "6e2650b37091429b83f601ea39fa8357": {
      "model_module": "@jupyter-widgets/base",
      "model_module_version": "1.2.0",
      "model_name": "LayoutModel",
      "state": {}
     },
     "6e4d5fcc4e214365b3e3fe0baa2e8481": {
      "model_module": "@jupyter-widgets/controls",
      "model_module_version": "1.5.0",
      "model_name": "ButtonModel",
      "state": {
       "description": "Save image",
       "layout": "IPY_MODEL_2f6e4644d6c0401aa27e2cf0d3cfa916",
       "style": "IPY_MODEL_fee652d09bb24ad7974e0cde283596f2",
       "tooltip": "Save current frame to file.\nCurrently .png and .html are supported.\nIt takes a bit time, please be patient."
      }
     },
     "6ed0565264b54dafaed5655cda86541a": {
      "model_module": "@jupyter-widgets/base",
      "model_module_version": "1.2.0",
      "model_name": "LayoutModel",
      "state": {}
     },
     "6f024a8fabff44dcb200f56d36b65e07": {
      "model_module": "@jupyter-widgets/controls",
      "model_module_version": "1.5.0",
      "model_name": "LinkModel",
      "state": {
       "source": [
        "IPY_MODEL_899871d94ebd42709055823db3efadcf",
        "value"
       ],
       "target": [
        "IPY_MODEL_61113f0210824e67b4e8d3d918ab2fc4",
        "frame"
       ]
      }
     },
     "6ffd4b089d124bfa999b62889345ff80": {
      "model_module": "@jupyter-widgets/controls",
      "model_module_version": "1.5.0",
      "model_name": "IntSliderModel",
      "state": {
       "layout": "IPY_MODEL_3feec691959f45baa21e7e62d19b7319",
       "max": 2,
       "style": "IPY_MODEL_c1f189ea642d4f10b129ded4b88e54fd"
      }
     },
     "71939f8dde8f49eabfb604ef8bd0ba6c": {
      "model_module": "@jupyter-widgets/base",
      "model_module_version": "1.2.0",
      "model_name": "LayoutModel",
      "state": {
       "border": "0px solid black"
      }
     },
     "72f91a97b054447c94c8ffc070d3b612": {
      "model_module": "@jupyter-widgets/controls",
      "model_module_version": "1.5.0",
      "model_name": "HBoxModel",
      "state": {
       "children": [
        "IPY_MODEL_206f1c7ab78741baa5e2e3e4dd278433",
        "IPY_MODEL_6e4d5fcc4e214365b3e3fe0baa2e8481"
       ],
       "layout": "IPY_MODEL_585b65d40dda4d51a482439ed0edb787"
      }
     },
     "746b37f656904936a4bfd3efc177081d": {
      "model_module": "@jupyter-widgets/base",
      "model_module_version": "1.2.0",
      "model_name": "LayoutModel",
      "state": {}
     },
     "747d1eb61da748fe949eeb663e7c2b68": {
      "model_module": "@jupyter-widgets/controls",
      "model_module_version": "1.5.0",
      "model_name": "LinkModel",
      "state": {
       "source": [
        "IPY_MODEL_c92ae6cc82e044cea2b30ff643f6a149",
        "value"
       ],
       "target": [
        "IPY_MODEL_b9f8480200d148abbfc09a2f353d8483",
        "frame"
       ]
      }
     },
     "74b2264544e448b9adf7e32e7abc6bf5": {
      "model_module": "@jupyter-widgets/controls",
      "model_module_version": "1.5.0",
      "model_name": "DescriptionStyleModel",
      "state": {
       "description_width": ""
      }
     },
     "76b73b8dd69f45bf8d893f4ffee603da": {
      "model_module": "@jupyter-widgets/base",
      "model_module_version": "1.2.0",
      "model_name": "LayoutModel",
      "state": {}
     },
     "77c983cb3744475d8c41e7d23f4debd5": {
      "model_module": "@jupyter-widgets/controls",
      "model_module_version": "1.5.0",
      "model_name": "CheckboxModel",
      "state": {
       "description": "Show charge",
       "disabled": false,
       "layout": "IPY_MODEL_6cc5f52eecc747a7a1799c5d0b036052",
       "style": "IPY_MODEL_caa1f93b843c4b1681666b3b5f5abdc3",
       "value": false
      }
     },
     "790d5c765e59467d9516e72fcdf60699": {
      "model_module": "@jupyter-widgets/controls",
      "model_module_version": "1.5.0",
      "model_name": "DropdownModel",
      "state": {
       "_options_labels": [
        "All",
        "H",
        "C"
       ],
       "description": "Show",
       "index": 0,
       "layout": "IPY_MODEL_cb040f722f3640279e3147a34e2e84bf",
       "style": "IPY_MODEL_666dc29f0c9f4cbd809b6f36fa2573ce"
      }
     },
     "791fca2651fe4c849ca3af6567803558": {
      "model_module": "@jupyter-widgets/controls",
      "model_module_version": "1.5.0",
      "model_name": "DescriptionStyleModel",
      "state": {
       "description_width": ""
      }
     },
     "79e19a3cb222458ba8f23ffa3618218d": {
      "model_module": "@jupyter-widgets/controls",
      "model_module_version": "1.5.0",
      "model_name": "ButtonModel",
      "state": {
       "icon": "compress",
       "layout": "IPY_MODEL_4923ec197c6d4c65875ca734da24cc07",
       "style": "IPY_MODEL_8898f544c7614cbaad0f388d456a7454"
      }
     },
     "7b68fee2c1094dccb73493dd21ac319a": {
      "model_module": "@jupyter-widgets/controls",
      "model_module_version": "1.5.0",
      "model_name": "TextModel",
      "state": {
       "description": "Filename: ",
       "layout": "IPY_MODEL_cb6a67716ee743b182123680ec54199a",
       "style": "IPY_MODEL_a8d8f048c0ad4854bf09a36683e6e112",
       "value": "screenshot.png"
      }
     },
     "7e09ad9c08db4498adaa946ad55cbc42": {
      "model_module": "@jupyter-widgets/controls",
      "model_module_version": "1.5.0",
      "model_name": "HBoxModel",
      "state": {
       "children": [
        "IPY_MODEL_61113f0210824e67b4e8d3d918ab2fc4",
        "IPY_MODEL_c41fb52034a845309ab776e27d820a2a"
       ],
       "layout": "IPY_MODEL_d8d8e61089bc4f8581875fcfbca3b4f0"
      }
     },
     "7e9386f8a74543cba4b8ba9503119ff7": {
      "model_module": "@jupyter-widgets/controls",
      "model_module_version": "1.5.0",
      "model_name": "FloatSliderModel",
      "state": {
       "description": "Charge scale",
       "layout": "IPY_MODEL_ca7139c8c6b4461cb19be201aca8630d",
       "step": 0.1,
       "style": "IPY_MODEL_8ecc4229167740d69ed3529bc0ccbc51",
       "value": 1
      }
     },
     "7f99c60148974c6e82ee68c13268edc0": {
      "model_module": "@jupyter-widgets/base",
      "model_module_version": "1.2.0",
      "model_name": "LayoutModel",
      "state": {}
     },
     "834beba7a7094c11be321b5b3db0f00d": {
      "model_module": "@jupyter-widgets/controls",
      "model_module_version": "1.5.0",
      "model_name": "LinkModel",
      "state": {
       "source": [
        "IPY_MODEL_3ee7bd6a868c4f34afe267c441c481be",
        "value"
       ],
       "target": [
        "IPY_MODEL_a34a702336b8417aba51fb438301d6b4",
        "frame"
       ]
      }
     },
     "844916a36fd84e26aecaced4a5c20e56": {
      "model_module": "@jupyter-widgets/base",
      "model_module_version": "1.2.0",
      "model_name": "LayoutModel",
      "state": {}
     },
     "845fc90b266a42ee865ec5fec7e97453": {
      "model_module": "@jupyter-widgets/controls",
      "model_module_version": "1.5.0",
      "model_name": "SliderStyleModel",
      "state": {
       "description_width": ""
      }
     },
     "85509062ada147f0957d79c96f29842c": {
      "model_module": "@jupyter-widgets/controls",
      "model_module_version": "1.5.0",
      "model_name": "SliderStyleModel",
      "state": {
       "description_width": ""
      }
     },
     "87738b66a41e432186530b8e09246ee6": {
      "model_module": "@jupyter-widgets/controls",
      "model_module_version": "1.5.0",
      "model_name": "CheckboxModel",
      "state": {
       "description": "Show charge",
       "disabled": false,
       "layout": "IPY_MODEL_545b3d3108d045019e26a160c8310ecc",
       "style": "IPY_MODEL_969d5d0706cb46b6a04690924a857d22",
       "value": false
      }
     },
     "8898f544c7614cbaad0f388d456a7454": {
      "model_module": "@jupyter-widgets/controls",
      "model_module_version": "1.5.0",
      "model_name": "ButtonStyleModel",
      "state": {}
     },
     "899871d94ebd42709055823db3efadcf": {
      "model_module": "@jupyter-widgets/controls",
      "model_module_version": "1.5.0",
      "model_name": "PlayModel",
      "state": {
       "layout": "IPY_MODEL_b582e0cdeffd4d4199ad28e252285d30",
       "max": 0,
       "style": "IPY_MODEL_b9563aba58d54592baf437b2c319122f"
      }
     },
     "8c86d3a587b54a5c833a4d7c338d68fb": {
      "model_module": "@jupyter-widgets/base",
      "model_module_version": "1.2.0",
      "model_name": "LayoutModel",
      "state": {}
     },
     "8d042d80a5a94dfeb8d1dc1fa45e49f0": {
      "model_module": "@jupyter-widgets/controls",
      "model_module_version": "1.5.0",
      "model_name": "TextModel",
      "state": {
       "description": "Filename: ",
       "layout": "IPY_MODEL_5d6f05097b374c6abce94e2a3aabf57e",
       "style": "IPY_MODEL_45ba919ef6e441c1bc6c7b376b2af380",
       "value": "screenshot.png"
      }
     },
     "8e03c955ea75410c9024b05a106b53a3": {
      "model_module": "@jupyter-widgets/controls",
      "model_module_version": "1.5.0",
      "model_name": "FloatSliderModel",
      "state": {
       "description": "Charge scale",
       "layout": "IPY_MODEL_4b28537f09b74c168181ed0231ffffcb",
       "step": 0.1,
       "style": "IPY_MODEL_553096faf6834b03aa48051514ee3b1f",
       "value": 1
      }
     },
     "8ecc4229167740d69ed3529bc0ccbc51": {
      "model_module": "@jupyter-widgets/controls",
      "model_module_version": "1.5.0",
      "model_name": "SliderStyleModel",
      "state": {
       "description_width": ""
      }
     },
     "8f99ff6bc31b4ad3adbb7a4d6ccb66fc": {
      "model_module": "@jupyter-widgets/base",
      "model_module_version": "1.2.0",
      "model_name": "LayoutModel",
      "state": {
       "border": "0px solid black"
      }
     },
     "8facbc5182be42eeac413808b324c2e1": {
      "model_module": "@jupyter-widgets/controls",
      "model_module_version": "1.5.0",
      "model_name": "ButtonModel",
      "state": {
       "description": "Download image",
       "layout": "IPY_MODEL_20546e06a69543e4ae5209caf5045e87",
       "style": "IPY_MODEL_f9266eca0b2c4c67b85bb469f3b49535",
       "tooltip": "Download current frame to your local PC"
      }
     },
     "90da0bbc3704471b91bb95c1e2e30196": {
      "model_module": "@jupyter-widgets/controls",
      "model_module_version": "1.5.0",
      "model_name": "HBoxModel",
      "state": {
       "children": [
        "IPY_MODEL_899871d94ebd42709055823db3efadcf",
        "IPY_MODEL_6a92e41a4de34375953d3d7bcc8e4b1f"
       ],
       "layout": "IPY_MODEL_76b73b8dd69f45bf8d893f4ffee603da"
      }
     },
     "91c221a9acb54cae94de2385e1ab889b": {
      "model_module": "@jupyter-widgets/base",
      "model_module_version": "1.2.0",
      "model_name": "LayoutModel",
      "state": {}
     },
     "946c0acc3c2c47febe5bcf366c9f3dc1": {
      "model_module": "@jupyter-widgets/controls",
      "model_module_version": "1.5.0",
      "model_name": "DescriptionStyleModel",
      "state": {
       "description_width": ""
      }
     },
     "954160c49ce94d07bae375ac17235330": {
      "model_module": "@jupyter-widgets/controls",
      "model_module_version": "1.5.0",
      "model_name": "VBoxModel",
      "state": {
       "children": [
        "IPY_MODEL_e676756b0db34c47adc3f4f064232592",
        "IPY_MODEL_e2f14b0ad12c4966b17e2c1b0ff5c539",
        "IPY_MODEL_f2bf09a7a9c94e2a916e7b1d993543ea",
        "IPY_MODEL_6ffd4b089d124bfa999b62889345ff80",
        "IPY_MODEL_8d042d80a5a94dfeb8d1dc1fa45e49f0",
        "IPY_MODEL_9ab7131169e649b8b1a5da16cffeadc0",
        "IPY_MODEL_b3e4b8aa36bf4720aa50e07c23414d26",
        "IPY_MODEL_626b3b92f0c04f03bf49c146fab320af",
        "IPY_MODEL_77c983cb3744475d8c41e7d23f4debd5",
        "IPY_MODEL_8e03c955ea75410c9024b05a106b53a3",
        "IPY_MODEL_15e9bdacb6194bb9aaf5abe45195e69e"
       ],
       "layout": "IPY_MODEL_2b68748e90e44106a77629d381d3e26d"
      }
     },
     "969d5d0706cb46b6a04690924a857d22": {
      "model_module": "@jupyter-widgets/controls",
      "model_module_version": "1.5.0",
      "model_name": "DescriptionStyleModel",
      "state": {
       "description_width": ""
      }
     },
     "984c07edd3514c11bd1a74a738818060": {
      "model_module": "@jupyter-widgets/controls",
      "model_module_version": "1.5.0",
      "model_name": "HBoxModel",
      "state": {
       "children": [
        "IPY_MODEL_8facbc5182be42eeac413808b324c2e1",
        "IPY_MODEL_fdbe65266acc4c6ca1fc9f4f8a7226a0"
       ],
       "layout": "IPY_MODEL_636a68987c344aedaeeecabec19122d3"
      }
     },
     "9ab7131169e649b8b1a5da16cffeadc0": {
      "model_module": "@jupyter-widgets/controls",
      "model_module_version": "1.5.0",
      "model_name": "HBoxModel",
      "state": {
       "children": [
        "IPY_MODEL_5ffa8315535140a88de1e54b8d8d5589",
        "IPY_MODEL_0f56c4c778224f9391444061167331fe"
       ],
       "layout": "IPY_MODEL_9b405ce758e841b8868198a827ade9cb"
      }
     },
     "9acfbf23851f4423b4c3e3c82ed3a4e1": {
      "model_module": "@jupyter-widgets/base",
      "model_module_version": "1.2.0",
      "model_name": "LayoutModel",
      "state": {}
     },
     "9b405ce758e841b8868198a827ade9cb": {
      "model_module": "@jupyter-widgets/base",
      "model_module_version": "1.2.0",
      "model_name": "LayoutModel",
      "state": {}
     },
     "9b5f56e4ba954360b48a1149e8a6f0aa": {
      "model_module": "@jupyter-widgets/controls",
      "model_module_version": "1.5.0",
      "model_name": "ButtonModel",
      "state": {
       "icon": "compress",
       "layout": "IPY_MODEL_f419a92a36004981878195e1a8c701ae",
       "style": "IPY_MODEL_4ed557d751c24c5c8c4acc575f7fdac6"
      }
     },
     "9c12e2ae57b04644a510d020d0d85aa8": {
      "model_module": "@jupyter-widgets/controls",
      "model_module_version": "1.5.0",
      "model_name": "SliderStyleModel",
      "state": {
       "description_width": ""
      }
     },
     "9c492ad88c3e4620992b0293e6f7ecf7": {
      "model_module": "@jupyter-widgets/controls",
      "model_module_version": "1.5.0",
      "model_name": "DescriptionStyleModel",
      "state": {
       "description_width": ""
      }
     },
     "9db4d5c1ff224045bcbdbd07189998d5": {
      "model_module": "@jupyter-widgets/base",
      "model_module_version": "1.2.0",
      "model_name": "LayoutModel",
      "state": {}
     },
     "9e5762fa62bc4b8d9de7292d94e8baef": {
      "model_module": "@jupyter-widgets/controls",
      "model_module_version": "1.5.0",
      "model_name": "CheckboxModel",
      "state": {
       "description": "Show force",
       "disabled": false,
       "layout": "IPY_MODEL_6ed0565264b54dafaed5655cda86541a",
       "style": "IPY_MODEL_24b9d0f64eec455e9959c8903748c157",
       "value": false
      }
     },
     "9e9cfec436944d09a5a109265b0ad07f": {
      "model_module": "@jupyter-widgets/base",
      "model_module_version": "1.2.0",
      "model_name": "LayoutModel",
      "state": {}
     },
     "9ebc71ad1a68404f85dae10eecbc3532": {
      "model_module": "@jupyter-widgets/base",
      "model_module_version": "1.2.0",
      "model_name": "LayoutModel",
      "state": {}
     },
     "9f079f912c56493abadcd4936e9e639b": {
      "model_module": "@jupyter-widgets/controls",
      "model_module_version": "1.5.0",
      "model_name": "FloatSliderModel",
      "state": {
       "description": "Charge scale",
       "layout": "IPY_MODEL_25a3b6b2f1fa47a6b7d7ab7f2940dcb3",
       "step": 0.1,
       "style": "IPY_MODEL_bd355d272266403cb5b9c6135c46ca29",
       "value": 1
      }
     },
     "a0984f5a92a54dbea907b595212680e6": {
      "model_module": "@jupyter-widgets/controls",
      "model_module_version": "1.5.0",
      "model_name": "DescriptionStyleModel",
      "state": {
       "description_width": ""
      }
     },
     "a0c7384e766249ea979d30aa83f35245": {
      "model_module": "@jupyter-widgets/controls",
      "model_module_version": "1.5.0",
      "model_name": "TextModel",
      "state": {
       "description": "Filename: ",
       "layout": "IPY_MODEL_b77d04c294194ac58d748f24dd43cde2",
       "style": "IPY_MODEL_36d1a6913af84e5cb52bedbdcb1da12d",
       "value": "screenshot.png"
      }
     },
     "a1b6bb2827414f6abfc23fcf40c19ba4": {
      "model_module": "@jupyter-widgets/controls",
      "model_module_version": "1.5.0",
      "model_name": "ButtonStyleModel",
      "state": {}
     },
     "a34a702336b8417aba51fb438301d6b4": {
      "model_module": "nglview-js-widgets",
      "model_module_version": "3.0.1",
      "model_name": "NGLModel",
      "state": {
       "_camera_orientation": [
        28.1904821133341,
        0,
        0,
        0,
        0,
        28.1904821133341,
        0,
        0,
        0,
        0,
        28.1904821133341,
        0,
        -8.347999922931194,
        -4.860499793663621,
        -3.3990000560879707,
        1
       ],
       "_camera_str": "orthographic",
       "_gui_theme": null,
       "_ibtn_fullscreen": "IPY_MODEL_d5512957cded450a9f010367605c02ca",
       "_igui": null,
       "_iplayer": "IPY_MODEL_a6400e223ac94b87825d7c4c39ee24b4",
       "_ngl_color_dict": {},
       "_ngl_coordinate_resource": {},
       "_ngl_full_stage_parameters": {
        "ambientColor": 14540253,
        "ambientIntensity": 0.2,
        "backgroundColor": "white",
        "cameraEyeSep": 0.3,
        "cameraFov": 40,
        "cameraType": "orthographic",
        "clipDist": 0,
        "clipFar": 100,
        "clipNear": 0,
        "fogFar": 100,
        "fogNear": 50,
        "hoverTimeout": 0,
        "impostor": true,
        "lightColor": 14540253,
        "lightIntensity": 1,
        "mousePreset": "default",
        "panSpeed": 1,
        "quality": "medium",
        "rotateSpeed": 2,
        "sampleLevel": 0,
        "tooltip": true,
        "workerDefault": true,
        "zoomSpeed": 1.2
       },
       "_ngl_msg_archive": [
        {
         "args": [
          {
           "binary": false,
           "data": "CRYST1   11.087   11.087   11.087  60.00  60.00  60.00 P 1\nMODEL     1\nATOM      1   Pt MOL     1       0.036   0.073  -0.017  1.00  0.00          PT  \nATOM      2   Pt MOL     1       1.353   0.925   2.351  1.00  0.00          PT  \nATOM      3   Pt MOL     1       2.793   1.679   4.689  1.00  0.00          PT  \nATOM      4   Pt MOL     1       4.092   2.445   6.821  1.00  0.00          PT  \nATOM      5   Pt MOL     1       1.129   2.428   0.003  1.00  0.00          PT  \nATOM      6   Pt MOL     1       2.722   3.209   2.154  1.00  0.00          PT  \nATOM      7   Pt MOL     1       4.162   4.044   4.308  1.00  0.00          PT  \nATOM      8   Pt MOL     1       5.448   4.722   6.863  1.00  0.00          PT  \nATOM      9   Pt MOL     1       2.698   4.705   0.041  1.00  0.00          PT  \nATOM     10   Pt MOL     1       4.095   5.644   2.267  1.00  0.00          PT  \nATOM     11   Pt MOL     1       5.674   6.276   4.599  1.00  0.00          PT  \nATOM     12   Pt MOL     1       6.901   7.032   6.847  1.00  0.00          PT  \nATOM     13   Pt MOL     1       3.925   7.244  -0.024  1.00  0.00          PT  \nATOM     14   Pt MOL     1       5.608   7.995   2.307  1.00  0.00          PT  \nATOM     15   Pt MOL     1       6.804   8.744   4.588  1.00  0.00          PT  \nATOM     16   Pt MOL     1       8.358   9.605   6.660  1.00  0.00          PT  \nATOM     17   Pt MOL     1       2.670   0.113  -0.101  1.00  0.00          PT  \nATOM     18   Pt MOL     1       4.153   0.821   2.167  1.00  0.00          PT  \nATOM     19   Pt MOL     1       5.550   1.612   4.688  1.00  0.00          PT  \nATOM     20   Pt MOL     1       7.022   2.402   6.735  1.00  0.00          PT  \nATOM     21   Pt MOL     1       4.066   2.324   0.025  1.00  0.00          PT  \nATOM     22   Pt MOL     1       5.697   3.125   2.163  1.00  0.00          PT  \nATOM     23   Pt MOL     1       7.026   3.969   4.559  1.00  0.00          PT  \nATOM     24   Pt MOL     1       8.450   4.796   6.684  1.00  0.00          PT  \nATOM     25   Pt MOL     1       5.469   4.627   0.240  1.00  0.00          PT  \nATOM     26   Pt MOL     1       6.915   5.653   2.333  1.00  0.00          PT  \nATOM     27   Pt MOL     1       8.160   6.481   4.430  1.00  0.00          PT  \nATOM     28   Pt MOL     1       9.769   7.149   6.926  1.00  0.00          PT  \nATOM     29   Pt MOL     1       6.959   7.193  -0.128  1.00  0.00          PT  \nATOM     30   Pt MOL     1       8.314   8.071   2.222  1.00  0.00          PT  \nATOM     31   Pt MOL     1       9.720   8.742   4.628  1.00  0.00          PT  \nATOM     32   Pt MOL     1      10.956   9.532   6.833  1.00  0.00          PT  \nATOM     33   Pt MOL     1       5.563   0.014   0.032  1.00  0.00          PT  \nATOM     34   Pt MOL     1       6.800   0.822   2.192  1.00  0.00          PT  \nATOM     35   Pt MOL     1       8.247   1.599   4.470  1.00  0.00          PT  \nATOM     36   Pt MOL     1       9.847   2.364   6.912  1.00  0.00          PT  \nATOM     37   Pt MOL     1       6.789   2.346   0.121  1.00  0.00          PT  \nATOM     38   Pt MOL     1       8.494   3.297   2.123  1.00  0.00          PT  \nATOM     39   Pt MOL     1       9.720   3.971   4.535  1.00  0.00          PT  \nATOM     40   Pt MOL     1      11.221   4.690   6.745  1.00  0.00          PT  \nATOM     41   Pt MOL     1       8.350   4.960  -0.088  1.00  0.00          PT  \nATOM     42   Pt MOL     1       9.898   5.552   2.090  1.00  0.00          PT  \nATOM     43   Pt MOL     1      11.054   6.348   4.431  1.00  0.00          PT  \nATOM     44   Pt MOL     1      12.369   7.226   6.667  1.00  0.00          PT  \nATOM     45   Pt MOL     1       9.670   7.058   0.019  1.00  0.00          PT  \nATOM     46   Pt MOL     1      11.009   8.147   2.326  1.00  0.00          PT  \nATOM     47   Pt MOL     1      12.402   8.928   4.489  1.00  0.00          PT  \nATOM     48   Pt MOL     1      13.759   9.782   6.762  1.00  0.00          PT  \nATOM     49   Pt MOL     1       8.283  -0.061   0.132  1.00  0.00          PT  \nATOM     50   Pt MOL     1       9.759   0.683   2.200  1.00  0.00          PT  \nATOM     51   Pt MOL     1      11.064   1.579   4.600  1.00  0.00          PT  \nATOM     52   Pt MOL     1      12.444   2.378   6.861  1.00  0.00          PT  \nATOM     53   Pt MOL     1       9.651   2.485   0.204  1.00  0.00          PT  \nATOM     54   Pt MOL     1      11.074   3.326   2.199  1.00  0.00          PT  \nATOM     55   Pt MOL     1      12.483   4.168   4.490  1.00  0.00          PT  \nATOM     56   Pt MOL     1      14.052   4.879   6.751  1.00  0.00          PT  \nATOM     57   Pt MOL     1      10.971   4.775  -0.006  1.00  0.00          PT  \nATOM     58   Pt MOL     1      12.492   5.552   2.192  1.00  0.00          PT  \nATOM     59   Pt MOL     1      13.919   6.391   4.589  1.00  0.00          PT  \nATOM     60   Pt MOL     1      15.419   7.442   6.701  1.00  0.00          PT  \nATOM     61   Pt MOL     1      12.337   7.244   0.048  1.00  0.00          PT  \nATOM     62   Pt MOL     1      13.894   8.079   2.237  1.00  0.00          PT  \nATOM     63   Pt MOL     1      15.180   8.809   4.598  1.00  0.00          PT  \nATOM     64   Pt MOL     1      16.660   9.532   6.627  1.00  0.00          PT  \nENDMDL\n",
           "type": "blob"
          }
         ],
         "kwargs": {
          "defaultRepresentation": false,
          "ext": "pdb"
         },
         "methodName": "loadFile",
         "reconstruc_color_scheme": false,
         "target": "Stage",
         "type": "call_method"
        },
        {
         "args": [
          "500px",
          "500px"
         ],
         "kwargs": {},
         "methodName": "setSize",
         "reconstruc_color_scheme": false,
         "target": "Widget",
         "type": "call_method"
        },
        {
         "args": [
          "unitcell"
         ],
         "component_index": 0,
         "kwargs": {
          "sele": "all"
         },
         "methodName": "addRepresentation",
         "reconstruc_color_scheme": false,
         "target": "compList",
         "type": "call_method"
        },
        {
         "args": [
          "spacefill"
         ],
         "component_index": 0,
         "kwargs": {
          "sele": "all"
         },
         "methodName": "addRepresentation",
         "reconstruc_color_scheme": false,
         "target": "compList",
         "type": "call_method"
        },
        {
         "args": [],
         "kwargs": {
          "cameraType": "orthographic"
         },
         "methodName": "setParameters",
         "reconstruc_color_scheme": false,
         "target": "Stage",
         "type": "call_method"
        },
        {
         "args": [
          {
           "clipDist": 0
          }
         ],
         "kwargs": {},
         "methodName": "setParameters",
         "reconstruc_color_scheme": false,
         "target": "Widget",
         "type": "call_method"
        },
        {
         "args": [
          "spacefill",
          0
         ],
         "kwargs": {
          "colorScale": "rainbow",
          "colorScheme": "element",
          "radiusScale": 0.5,
          "radiusType": "covalent"
         },
         "methodName": "updateRepresentationsByName",
         "reconstruc_color_scheme": false,
         "target": "Widget",
         "type": "call_method"
        },
        {
         "args": [
          "this._Q = [[-0.0, 0.7071067811865476, 0.7071067811865476], [0.8164965809277261, -0.40824829046386274, 0.408248290463863], [0.5773502691896257, 0.577350269189626, -0.5773502691896257]]\n    var tooltip = document.createElement('div')\n    Object.assign(tooltip.style, {\n      display: 'none',\n      position: 'fixed',\n      zIndex: 10,\n      pointerEvents: 'none',\n      backgroundColor: 'rgba( 0, 0, 0, 0.6 )',\n      color: 'lightgrey',\n      padding: '8px',\n      fontFamily: 'sans-serif'\n    })\n    document.body.appendChild(tooltip)\n\n    var that = this\n    this.stage.mouseControls.remove('hoverPick')\n    this.stage.signals.hovered.add(function (pickingProxy) {\n      if (pickingProxy && (pickingProxy.atom || pickingProxy.bond)) {\n        var atom = pickingProxy.atom || pickingProxy.closestBondAtom\n        var mp = pickingProxy.mouse.position\n        //tooltip.innerText = atom.element + ' i=' + atom.index + ' (' + atom.x.toFixed(2) +  ', ' + atom.y.toFixed(2) +  ', ' + atom.z.toFixed(2) + ')'\n        //var pos = that._atoms_pos[atom.index]\n        var Q = that._Q\n        var pos_x = Q[0][0] * atom.x + Q[0][1] * atom.y + Q[0][2] * atom.z \n        var pos_y = Q[1][0] * atom.x + Q[1][1] * atom.y + Q[1][2] * atom.z\n        var pos_z = Q[2][0] * atom.x + Q[2][1] * atom.y + Q[2][2] * atom.z\n        tooltip.innerText = 'i=' + atom.index + ' ' + atom.element + ' (' + pos_x.toFixed(2) +  ', ' + pos_y.toFixed(2) +  ', ' + pos_z.toFixed(2) + ')'\n        tooltip.style.bottom = window.innerHeight - mp.y + 3 + 'px'\n        tooltip.style.left = mp.x + 3 + 'px'\n        tooltip.style.display = 'block'\n      } else {\n        tooltip.style.display = 'none'\n      }\n    })\n    "
         ],
         "kwargs": {},
         "methodName": "executeCode",
         "reconstruc_color_scheme": false,
         "target": "Widget",
         "type": "call_method"
        }
       ],
       "_ngl_original_stage_parameters": {
        "ambientColor": 14540253,
        "ambientIntensity": 0.2,
        "backgroundColor": "white",
        "cameraEyeSep": 0.3,
        "cameraFov": 40,
        "cameraType": "perspective",
        "clipDist": 10,
        "clipFar": 100,
        "clipNear": 0,
        "fogFar": 100,
        "fogNear": 50,
        "hoverTimeout": 0,
        "impostor": true,
        "lightColor": 14540253,
        "lightIntensity": 1,
        "mousePreset": "default",
        "panSpeed": 1,
        "quality": "medium",
        "rotateSpeed": 2,
        "sampleLevel": 0,
        "tooltip": true,
        "workerDefault": true,
        "zoomSpeed": 1.2
       },
       "_ngl_repr_dict": {
        "0": {
         "0": {
          "params": {
           "clipCenter": {
            "x": 0,
            "y": 0,
            "z": 0
           },
           "clipNear": 0,
           "clipRadius": 0,
           "colorMode": "hcl",
           "colorReverse": false,
           "colorScale": "",
           "colorScheme": "element",
           "colorValue": "orange",
           "defaultAssembly": "",
           "depthWrite": true,
           "diffuse": 16777215,
           "diffuseInterior": false,
           "disableImpostor": false,
           "disablePicking": false,
           "flatShaded": false,
           "interiorColor": 2236962,
           "interiorDarkening": 0,
           "lazy": false,
           "matrix": {
            "elements": [
             1,
             0,
             0,
             0,
             0,
             1,
             0,
             0,
             0,
             0,
             1,
             0,
             0,
             0,
             0,
             1
            ]
           },
           "metalness": 0,
           "opacity": 1,
           "quality": "medium",
           "radialSegments": 10,
           "radiusData": {},
           "radiusScale": 1,
           "radiusSize": 0.04938274510859151,
           "radiusType": "vdw",
           "roughness": 0.4,
           "sele": "all",
           "side": "double",
           "sphereDetail": 1,
           "useInteriorColor": true,
           "visible": true,
           "wireframe": false
          },
          "type": "unitcell"
         },
         "1": {
          "params": {
           "assembly": "default",
           "clipCenter": {
            "x": 0,
            "y": 0,
            "z": 0
           },
           "clipNear": 0,
           "clipRadius": 0,
           "colorMode": "hcl",
           "colorReverse": false,
           "colorScale": "rainbow",
           "colorScheme": "element",
           "colorValue": 9474192,
           "defaultAssembly": "",
           "depthWrite": true,
           "diffuse": 16777215,
           "diffuseInterior": false,
           "disableImpostor": false,
           "disablePicking": false,
           "flatShaded": false,
           "interiorColor": 2236962,
           "interiorDarkening": 0,
           "lazy": false,
           "matrix": {
            "elements": [
             1,
             0,
             0,
             0,
             0,
             1,
             0,
             0,
             0,
             0,
             1,
             0,
             0,
             0,
             0,
             1
            ]
           },
           "metalness": 0,
           "opacity": 1,
           "quality": "medium",
           "radiusData": {},
           "radiusScale": 0.5,
           "radiusSize": 1,
           "radiusType": "covalent",
           "roughness": 0.4,
           "sele": "all",
           "side": "double",
           "sphereDetail": 1,
           "useInteriorColor": true,
           "visible": true,
           "wireframe": false
          },
          "type": "spacefill"
         }
        }
       },
       "_ngl_serialize": false,
       "_ngl_version": "2.0.0-dev.36",
       "_ngl_view_id": [
        "E1D6239F-996E-45D0-AD60-51E1B26FD8CE"
       ],
       "_player_dict": {},
       "_scene_position": {},
       "_scene_rotation": {},
       "_synced_model_ids": [],
       "_synced_repr_model_ids": [],
       "_view_height": "",
       "_view_width": "",
       "background": "white",
       "frame": 0,
       "gui_style": null,
       "layout": "IPY_MODEL_0196992b7f92414fbc142312e743637e",
       "max_frame": 0,
       "n_components": 1,
       "picked": {}
      }
     },
     "a6400e223ac94b87825d7c4c39ee24b4": {
      "model_module": "@jupyter-widgets/controls",
      "model_module_version": "1.5.0",
      "model_name": "HBoxModel",
      "state": {
       "children": [
        "IPY_MODEL_3ee7bd6a868c4f34afe267c441c481be",
        "IPY_MODEL_f82f5838bfbc47928de20d0d1d31cfaf"
       ],
       "layout": "IPY_MODEL_e000b3ec5a3f4fcfafd195289eeded52"
      }
     },
     "a6ac95f62e904aa39f7c4e5dfe221d78": {
      "model_module": "@jupyter-widgets/controls",
      "model_module_version": "1.5.0",
      "model_name": "HBoxModel",
      "state": {
       "children": [
        "IPY_MODEL_b9f8480200d148abbfc09a2f353d8483",
        "IPY_MODEL_af334412fb164c6293b3edd74d3e5cfc"
       ],
       "layout": "IPY_MODEL_e8813216657b47588387bdb920d4571e"
      }
     },
     "a703524626f5402b9bc3c1f726f8bcaf": {
      "model_module": "@jupyter-widgets/base",
      "model_module_version": "1.2.0",
      "model_name": "LayoutModel",
      "state": {
       "width": "34px"
      }
     },
     "a8336b1e4a344382b11385a8d7c762f0": {
      "model_module": "@jupyter-widgets/controls",
      "model_module_version": "1.5.0",
      "model_name": "ButtonModel",
      "state": {
       "description": "Save image",
       "layout": "IPY_MODEL_2c67de33a6424cf38d9b6aee63667442",
       "style": "IPY_MODEL_d3299454432e49de8cdb36a17dacbe2d",
       "tooltip": "Save current frame to file.\nCurrently .png and .html are supported.\nIt takes a bit time, please be patient."
      }
     },
     "a88d91de5b504b7789a602d5a3917820": {
      "model_module": "@jupyter-widgets/controls",
      "model_module_version": "1.5.0",
      "model_name": "IntSliderModel",
      "state": {
       "layout": "IPY_MODEL_315e1fac465d4a3ebd82d2cb79cf518f",
       "max": 0,
       "style": "IPY_MODEL_0c69c2636d5b47139864d7e24544f21c"
      }
     },
     "a8d8f048c0ad4854bf09a36683e6e112": {
      "model_module": "@jupyter-widgets/controls",
      "model_module_version": "1.5.0",
      "model_name": "DescriptionStyleModel",
      "state": {
       "description_width": ""
      }
     },
     "a9416ea62f634b91bd7641dd127d30cf": {
      "model_module": "@jupyter-widgets/controls",
      "model_module_version": "1.5.0",
      "model_name": "LinkModel",
      "state": {
       "source": [
        "IPY_MODEL_899871d94ebd42709055823db3efadcf",
        "max"
       ],
       "target": [
        "IPY_MODEL_61113f0210824e67b4e8d3d918ab2fc4",
        "max_frame"
       ]
      }
     },
     "a9b5542c1aea49768a61f7ea098cc40f": {
      "model_module": "@jupyter-widgets/controls",
      "model_module_version": "1.5.0",
      "model_name": "DescriptionStyleModel",
      "state": {
       "description_width": ""
      }
     },
     "aaa9c24e9ca3445aa63c7a9b82f3dc44": {
      "model_module": "@jupyter-widgets/controls",
      "model_module_version": "1.5.0",
      "model_name": "LinkModel",
      "state": {
       "source": [
        "IPY_MODEL_d43a57f6b4724f18b0418f44732cc043",
        "value"
       ],
       "target": [
        "IPY_MODEL_eb5c4c9ccd3442ff8a703f4c36344a13",
        "value"
       ]
      }
     },
     "ab1a0be92feb4543872493d5c9262d8d": {
      "model_module": "@jupyter-widgets/controls",
      "model_module_version": "1.5.0",
      "model_name": "ButtonModel",
      "state": {
       "description": "Download image",
       "layout": "IPY_MODEL_f64663921cb541af8d5b7f81f6753eb9",
       "style": "IPY_MODEL_da96d477ebd94ee898637a950f88185d",
       "tooltip": "Download current frame to your local PC"
      }
     },
     "ab23e7185a454198ae5a9b68fa4d1282": {
      "model_module": "@jupyter-widgets/controls",
      "model_module_version": "1.5.0",
      "model_name": "ImageModel",
      "state": {
       "layout": "IPY_MODEL_f19c8a2d9b3c4e3298b4a60214831fdd",
       "width": "900.0"
      }
     },
     "ab6e08caf21543699e05921bb5c1ee20": {
      "model_module": "@jupyter-widgets/controls",
      "model_module_version": "1.5.0",
      "model_name": "DropdownModel",
      "state": {
       "_options_labels": [
        " ",
        "picking",
        "random",
        "uniform",
        "atomindex",
        "residueindex",
        "chainindex",
        "modelindex",
        "sstruc",
        "element",
        "resname",
        "bfactor",
        "hydrophobicity",
        "value",
        "volume",
        "occupancy"
       ],
       "description": "Color scheme",
       "index": 9,
       "layout": "IPY_MODEL_dd847575c3e14a58812b76d9bfb5c872",
       "style": "IPY_MODEL_ff1247b133764993a4f230905a96543d"
      }
     },
     "ac22d07e5ab44504b42713feb6883ee2": {
      "model_module": "@jupyter-widgets/controls",
      "model_module_version": "1.5.0",
      "model_name": "DescriptionStyleModel",
      "state": {
       "description_width": ""
      }
     },
     "ac376a4a325d4cf7a0127a1eb8d38828": {
      "model_module": "@jupyter-widgets/controls",
      "model_module_version": "1.5.0",
      "model_name": "SliderStyleModel",
      "state": {
       "description_width": ""
      }
     },
     "ada36434548342839419afa1f01c9e46": {
      "model_module": "@jupyter-widgets/controls",
      "model_module_version": "1.5.0",
      "model_name": "SliderStyleModel",
      "state": {
       "description_width": ""
      }
     },
     "af334412fb164c6293b3edd74d3e5cfc": {
      "model_module": "@jupyter-widgets/controls",
      "model_module_version": "1.5.0",
      "model_name": "VBoxModel",
      "state": {
       "children": [
        "IPY_MODEL_cfdefaf25c2f45ab9853b476cc2ac492",
        "IPY_MODEL_ab6e08caf21543699e05921bb5c1ee20",
        "IPY_MODEL_112a5adfce8740bd87c7ff82c02ca87d",
        "IPY_MODEL_6618a91b035b4b0cadcce0fb29de1374",
        "IPY_MODEL_d9b35dc373ec40f4b77e6a3ae19381b4",
        "IPY_MODEL_cb4d1c5c81ea40d885442cb12e5531b1",
        "IPY_MODEL_eaf835bc9e2340be9a2bcf4bdc3ba079",
        "IPY_MODEL_d93cd4d1b5254aeb9be61c62f49109b8",
        "IPY_MODEL_9f079f912c56493abadcd4936e9e639b",
        "IPY_MODEL_515beda6c07d477ba0c7860d7e1b424d"
       ],
       "layout": "IPY_MODEL_9ebc71ad1a68404f85dae10eecbc3532"
      }
     },
     "af6a991818b044e28380b1227b023f2d": {
      "model_module": "@jupyter-widgets/base",
      "model_module_version": "1.2.0",
      "model_name": "LayoutModel",
      "state": {}
     },
     "aff35912ed4b41eea9aa387291c304ed": {
      "model_module": "@jupyter-widgets/controls",
      "model_module_version": "1.5.0",
      "model_name": "LinkModel",
      "state": {
       "source": [
        "IPY_MODEL_534518008df94b6684f2ab5db4b65279",
        "max"
       ],
       "target": [
        "IPY_MODEL_ea06c761eaec493cbdf6869864cb21cb",
        "max_frame"
       ]
      }
     },
     "b05f518b335c4e5aaeabb4d7e6b791fb": {
      "model_module": "@jupyter-widgets/base",
      "model_module_version": "1.2.0",
      "model_name": "LayoutModel",
      "state": {}
     },
     "b1f8959a9220461ca710bd8f7699433a": {
      "model_module": "@jupyter-widgets/controls",
      "model_module_version": "1.5.0",
      "model_name": "LinkModel",
      "state": {
       "source": [
        "IPY_MODEL_3ee7bd6a868c4f34afe267c441c481be",
        "max"
       ],
       "target": [
        "IPY_MODEL_a34a702336b8417aba51fb438301d6b4",
        "max_frame"
       ]
      }
     },
     "b21e79646ade400489c957061a33aa79": {
      "model_module": "nglview-js-widgets",
      "model_module_version": "3.0.1",
      "model_name": "NGLModel",
      "state": {
       "_camera_orientation": [
        43.23854650299199,
        0,
        0,
        0,
        0,
        43.23854650299199,
        0,
        0,
        0,
        0,
        43.23854650299199,
        0,
        -8.4975004196167,
        -3.58899986743927,
        -2.065500020980835,
        1
       ],
       "_camera_str": "orthographic",
       "_gui_theme": null,
       "_ibtn_fullscreen": "IPY_MODEL_cbd4bd4525fc4653b52487a53407727b",
       "_igui": null,
       "_iplayer": "IPY_MODEL_f07525da46d841659a2d963b36015187",
       "_ngl_color_dict": {},
       "_ngl_coordinate_resource": {},
       "_ngl_full_stage_parameters": {
        "ambientColor": 14540253,
        "ambientIntensity": 0.2,
        "backgroundColor": "white",
        "cameraEyeSep": 0.3,
        "cameraFov": 40,
        "cameraType": "orthographic",
        "clipDist": 0,
        "clipFar": 100,
        "clipNear": 0,
        "fogFar": 100,
        "fogNear": 50,
        "hoverTimeout": 0,
        "impostor": true,
        "lightColor": 14540253,
        "lightIntensity": 1,
        "mousePreset": "default",
        "panSpeed": 1,
        "quality": "medium",
        "rotateSpeed": 2,
        "sampleLevel": 0,
        "tooltip": true,
        "workerDefault": true,
        "zoomSpeed": 1.2
       },
       "_ngl_msg_archive": [
        {
         "args": [
          {
           "binary": false,
           "data": "CRYST1   24.855   12.427    7.456 109.47 109.47 109.47 P 1\nMODEL     1\nATOM      1   Fe MOL     1       0.001   0.158   0.051  1.00  0.00          FE  \nATOM      2   Fe MOL     1      -1.058  -1.066   2.212  1.00  0.00          FE  \nATOM      3   Fe MOL     1      -1.805  -2.354   4.391  1.00  0.00          FE  \nATOM      4   Fe MOL     1      -0.998   2.349   0.011  1.00  0.00          FE  \nATOM      5   Fe MOL     1      -2.105   1.066   1.793  1.00  0.00          FE  \nATOM      6   Fe MOL     1      -2.501   0.088   3.836  1.00  0.00          FE  \nATOM      7   Fe MOL     1      -1.546   4.967  -0.328  1.00  0.00          FE  \nATOM      8   Fe MOL     1      -2.616   3.258   2.007  1.00  0.00          FE  \nATOM      9   Fe MOL     1      -3.371   2.102   3.997  1.00  0.00          FE  \nATOM     10   Fe MOL     1      -2.632   7.062  -0.032  1.00  0.00          FE  \nATOM     11   Fe MOL     1      -3.032   5.656   2.206  1.00  0.00          FE  \nATOM     12   Fe MOL     1      -4.066   4.334   4.026  1.00  0.00          FE  \nATOM     13   Fe MOL     1      -3.718   9.334  -0.248  1.00  0.00          FE  \nATOM     14   Fe MOL     1      -4.060   8.185   2.162  1.00  0.00          FE  \nATOM     15   Fe MOL     1      -5.163   6.804   4.000  1.00  0.00          FE  \nATOM     16   Fe MOL     1       2.637   0.151  -0.167  1.00  0.00          FE  \nATOM     17   Fe MOL     1       1.451  -0.947   1.829  1.00  0.00          FE  \nATOM     18   Fe MOL     1       0.865  -2.220   3.909  1.00  0.00          FE  \nATOM     19   Fe MOL     1       1.549   2.214   0.278  1.00  0.00          FE  \nATOM     20   Fe MOL     1       1.015   1.279   2.033  1.00  0.00          FE  \nATOM     21   Fe MOL     1      -0.094  -0.205   3.965  1.00  0.00          FE  \nATOM     22   Fe MOL     1       1.217   4.744  -0.054  1.00  0.00          FE  \nATOM     23   Fe MOL     1       0.166   3.486   2.161  1.00  0.00          FE  \nATOM     24   Fe MOL     1      -0.535   2.512   4.019  1.00  0.00          FE  \nATOM     25   Fe MOL     1      -0.118   6.472   0.216  1.00  0.00          FE  \nATOM     26   Fe MOL     1      -0.948   5.870   2.158  1.00  0.00          FE  \nATOM     27   Fe MOL     1      -1.922   4.821   3.791  1.00  0.00          FE  \nATOM     28   Fe MOL     1      -0.759   9.197   0.260  1.00  0.00          FE  \nATOM     29   Fe MOL     1      -1.516   8.326   1.844  1.00  0.00          FE  \nATOM     30   Fe MOL     1      -2.525   7.184   4.030  1.00  0.00          FE  \nATOM     31   Fe MOL     1       4.991  -0.186   0.151  1.00  0.00          FE  \nATOM     32   Fe MOL     1       3.966  -1.405   1.928  1.00  0.00          FE  \nATOM     33   Fe MOL     1       3.311  -2.340   4.138  1.00  0.00          FE  \nATOM     34   Fe MOL     1       3.958   2.371  -0.233  1.00  0.00          FE  \nATOM     35   Fe MOL     1       3.242   1.183   1.867  1.00  0.00          FE  \nATOM     36   Fe MOL     1       2.677  -0.093   4.383  1.00  0.00          FE  \nATOM     37   Fe MOL     1       3.054   4.400   0.026  1.00  0.00          FE  \nATOM     38   Fe MOL     1       2.780   3.910   2.034  1.00  0.00          FE  \nATOM     39   Fe MOL     1       1.710   2.297   4.074  1.00  0.00          FE  \nATOM     40   Fe MOL     1       2.839   6.964  -0.004  1.00  0.00          FE  \nATOM     41   Fe MOL     1       1.623   6.226   2.013  1.00  0.00          FE  \nATOM     42   Fe MOL     1       1.311   4.882   3.944  1.00  0.00          FE  \nATOM     43   Fe MOL     1       1.717   9.355  -0.220  1.00  0.00          FE  \nATOM     44   Fe MOL     1       0.715   8.298   1.739  1.00  0.00          FE  \nATOM     45   Fe MOL     1       0.071   6.754   3.976  1.00  0.00          FE  \nATOM     46   Fe MOL     1       7.150   0.138   0.108  1.00  0.00          FE  \nATOM     47   Fe MOL     1       6.418  -0.968   1.970  1.00  0.00          FE  \nATOM     48   Fe MOL     1       5.484  -2.075   4.016  1.00  0.00          FE  \nATOM     49   Fe MOL     1       6.545   2.099   0.147  1.00  0.00          FE  \nATOM     50   Fe MOL     1       6.047   1.070   1.916  1.00  0.00          FE  \nATOM     51   Fe MOL     1       4.904  -0.119   4.143  1.00  0.00          FE  \nATOM     52   Fe MOL     1       5.724   4.565   0.074  1.00  0.00          FE  \nATOM     53   Fe MOL     1       4.673   3.434   2.360  1.00  0.00          FE  \nATOM     54   Fe MOL     1       4.045   2.605   4.014  1.00  0.00          FE  \nATOM     55   Fe MOL     1       4.854   7.349   0.048  1.00  0.00          FE  \nATOM     56   Fe MOL     1       4.409   6.135   2.204  1.00  0.00          FE  \nATOM     57   Fe MOL     1       3.153   4.583   3.917  1.00  0.00          FE  \nATOM     58   Fe MOL     1       4.267   9.369  -0.126  1.00  0.00          FE  \nATOM     59   Fe MOL     1       3.379   8.159   2.186  1.00  0.00          FE  \nATOM     60   Fe MOL     1       2.601   7.615   4.227  1.00  0.00          FE  \nATOM     61   Fe MOL     1       9.647  -0.054  -0.033  1.00  0.00          FE  \nATOM     62   Fe MOL     1       9.114  -0.997   2.066  1.00  0.00          FE  \nATOM     63   Fe MOL     1       8.124  -2.437   4.115  1.00  0.00          FE  \nATOM     64   Fe MOL     1       9.336   2.396  -0.277  1.00  0.00          FE  \nATOM     65   Fe MOL     1       8.136   1.319   1.883  1.00  0.00          FE  \nATOM     66   Fe MOL     1       7.328   0.129   3.988  1.00  0.00          FE  \nATOM     67   Fe MOL     1       8.188   4.843  -0.153  1.00  0.00          FE  \nATOM     68   Fe MOL     1       7.638   3.644   2.262  1.00  0.00          FE  \nATOM     69   Fe MOL     1       6.738   2.392   3.731  1.00  0.00          FE  \nATOM     70   Fe MOL     1       7.901   7.659   0.145  1.00  0.00          FE  \nATOM     71   Fe MOL     1       6.803   5.968   2.271  1.00  0.00          FE  \nATOM     72   Fe MOL     1       5.776   4.890   4.106  1.00  0.00          FE  \nATOM     73   Fe MOL     1       6.634   9.250  -0.143  1.00  0.00          FE  \nATOM     74   Fe MOL     1       5.842   7.714   2.368  1.00  0.00          FE  \nATOM     75   Fe MOL     1       4.651   7.141   3.928  1.00  0.00          FE  \nATOM     76   Fe MOL     1      12.185  -0.092   0.163  1.00  0.00          FE  \nATOM     77   Fe MOL     1      11.676  -1.405   2.024  1.00  0.00          FE  \nATOM     78   Fe MOL     1      10.675  -2.436   4.096  1.00  0.00          FE  \nATOM     79   Fe MOL     1      11.191   2.136   0.393  1.00  0.00          FE  \nATOM     80   Fe MOL     1      10.771   1.380   1.962  1.00  0.00          FE  \nATOM     81   Fe MOL     1      10.079   0.027   3.930  1.00  0.00          FE  \nATOM     82   Fe MOL     1      10.493   4.801  -0.047  1.00  0.00          FE  \nATOM     83   Fe MOL     1      10.125   3.818   1.870  1.00  0.00          FE  \nATOM     84   Fe MOL     1       9.027   2.629   3.938  1.00  0.00          FE  \nATOM     85   Fe MOL     1       9.641   6.871   0.446  1.00  0.00          FE  \nATOM     86   Fe MOL     1       9.234   5.600   2.140  1.00  0.00          FE  \nATOM     87   Fe MOL     1       8.216   4.508   4.231  1.00  0.00          FE  \nATOM     88   Fe MOL     1       8.628   9.466  -0.467  1.00  0.00          FE  \nATOM     89   Fe MOL     1       8.359   8.550   1.817  1.00  0.00          FE  \nATOM     90   Fe MOL     1       7.586   6.971   3.794  1.00  0.00          FE  \nATOM     91   Fe MOL     1      14.715   0.425   0.001  1.00  0.00          FE  \nATOM     92   Fe MOL     1      14.023  -1.015   1.892  1.00  0.00          FE  \nATOM     93   Fe MOL     1      13.172  -2.267   4.002  1.00  0.00          FE  \nATOM     94   Fe MOL     1      14.219   2.411  -0.038  1.00  0.00          FE  \nATOM     95   Fe MOL     1      13.176   1.751   2.079  1.00  0.00          FE  \nATOM     96   Fe MOL     1      12.703  -0.051   3.761  1.00  0.00          FE  \nATOM     97   Fe MOL     1      13.128   4.726  -0.048  1.00  0.00          FE  \nATOM     98   Fe MOL     1      12.514   3.662   1.876  1.00  0.00          FE  \nATOM     99   Fe MOL     1      11.582   2.576   4.011  1.00  0.00          FE  \nATOM    100   Fe MOL     1      12.559   7.092   0.158  1.00  0.00          FE  \nATOM    101   Fe MOL     1      11.716   5.958   1.833  1.00  0.00          FE  \nATOM    102   Fe MOL     1      10.711   4.757   4.142  1.00  0.00          FE  \nATOM    103   Fe MOL     1      11.446   9.615   0.097  1.00  0.00          FE  \nATOM    104   Fe MOL     1      10.896   8.382   1.970  1.00  0.00          FE  \nATOM    105   Fe MOL     1      10.091   7.244   4.291  1.00  0.00          FE  \nATOM    106   Fe MOL     1      17.439  -0.105   0.099  1.00  0.00          FE  \nATOM    107   Fe MOL     1      16.529  -1.119   2.057  1.00  0.00          FE  \nATOM    108   Fe MOL     1      15.820  -1.886   4.027  1.00  0.00          FE  \nATOM    109   Fe MOL     1      16.680   2.549  -0.314  1.00  0.00          FE  \nATOM    110   Fe MOL     1      15.795   1.288   2.230  1.00  0.00          FE  \nATOM    111   Fe MOL     1      14.820   0.085   3.930  1.00  0.00          FE  \nATOM    112   Fe MOL     1      15.915   4.528   0.042  1.00  0.00          FE  \nATOM    113   Fe MOL     1      15.019   3.541   1.867  1.00  0.00          FE  \nATOM    114   Fe MOL     1      14.083   2.404   3.863  1.00  0.00          FE  \nATOM    115   Fe MOL     1      14.772   7.015  -0.037  1.00  0.00          FE  \nATOM    116   Fe MOL     1      13.728   5.766   1.857  1.00  0.00          FE  \nATOM    117   Fe MOL     1      13.350   4.696   3.927  1.00  0.00          FE  \nATOM    118   Fe MOL     1      13.995   9.398   0.330  1.00  0.00          FE  \nATOM    119   Fe MOL     1      13.140   8.279   1.885  1.00  0.00          FE  \nATOM    120   Fe MOL     1      12.403   6.845   4.064  1.00  0.00          FE  \nATOM    121   Fe MOL     1      19.988  -0.101   0.290  1.00  0.00          FE  \nATOM    122   Fe MOL     1      19.042  -1.261   2.184  1.00  0.00          FE  \nATOM    123   Fe MOL     1      18.214  -2.310   4.092  1.00  0.00          FE  \nATOM    124   Fe MOL     1      19.205   2.360  -0.106  1.00  0.00          FE  \nATOM    125   Fe MOL     1      18.419   1.563   2.370  1.00  0.00          FE  \nATOM    126   Fe MOL     1      17.609  -0.104   4.074  1.00  0.00          FE  \nATOM    127   Fe MOL     1      17.784   4.794   0.195  1.00  0.00          FE  \nATOM    128   Fe MOL     1      17.162   3.554   1.644  1.00  0.00          FE  \nATOM    129   Fe MOL     1      16.714   2.325   3.973  1.00  0.00          FE  \nATOM    130   Fe MOL     1      17.225   7.011   0.400  1.00  0.00          FE  \nATOM    131   Fe MOL     1      16.578   5.529   1.972  1.00  0.00          FE  \nATOM    132   Fe MOL     1      15.612   4.663   4.485  1.00  0.00          FE  \nATOM    133   Fe MOL     1      16.911   9.104  -0.051  1.00  0.00          FE  \nATOM    134   Fe MOL     1      15.345   8.335   1.979  1.00  0.00          FE  \nATOM    135   Fe MOL     1      14.866   6.953   4.066  1.00  0.00          FE  \nATOM    136   Fe MOL     1      22.158   0.115  -0.063  1.00  0.00          FE  \nATOM    137   Fe MOL     1      21.669  -1.088   2.119  1.00  0.00          FE  \nATOM    138   Fe MOL     1      20.813  -2.101   3.683  1.00  0.00          FE  \nATOM    139   Fe MOL     1      21.595   2.685  -0.059  1.00  0.00          FE  \nATOM    140   Fe MOL     1      20.843   1.096   2.213  1.00  0.00          FE  \nATOM    141   Fe MOL     1      19.820  -0.016   4.598  1.00  0.00          FE  \nATOM    142   Fe MOL     1      20.833   4.937   0.229  1.00  0.00          FE  \nATOM    143   Fe MOL     1      20.197   3.553   1.990  1.00  0.00          FE  \nATOM    144   Fe MOL     1      18.886   1.963   3.643  1.00  0.00          FE  \nATOM    145   Fe MOL     1      20.171   7.195   0.063  1.00  0.00          FE  \nATOM    146   Fe MOL     1      19.076   5.506   2.270  1.00  0.00          FE  \nATOM    147   Fe MOL     1      18.462   4.615   3.810  1.00  0.00          FE  \nATOM    148   Fe MOL     1      18.810   9.525  -0.297  1.00  0.00          FE  \nATOM    149   Fe MOL     1      18.497   8.100   1.940  1.00  0.00          FE  \nATOM    150   Fe MOL     1      17.325   6.822   3.853  1.00  0.00          FE  \nENDMDL\n",
           "type": "blob"
          }
         ],
         "kwargs": {
          "defaultRepresentation": false,
          "ext": "pdb"
         },
         "methodName": "loadFile",
         "reconstruc_color_scheme": false,
         "target": "Stage",
         "type": "call_method"
        },
        {
         "args": [
          "500px",
          "500px"
         ],
         "kwargs": {},
         "methodName": "setSize",
         "reconstruc_color_scheme": false,
         "target": "Widget",
         "type": "call_method"
        },
        {
         "args": [
          "unitcell"
         ],
         "component_index": 0,
         "kwargs": {
          "sele": "all"
         },
         "methodName": "addRepresentation",
         "reconstruc_color_scheme": false,
         "target": "compList",
         "type": "call_method"
        },
        {
         "args": [
          "spacefill"
         ],
         "component_index": 0,
         "kwargs": {
          "sele": "all"
         },
         "methodName": "addRepresentation",
         "reconstruc_color_scheme": false,
         "target": "compList",
         "type": "call_method"
        },
        {
         "args": [],
         "kwargs": {
          "cameraType": "orthographic"
         },
         "methodName": "setParameters",
         "reconstruc_color_scheme": false,
         "target": "Stage",
         "type": "call_method"
        },
        {
         "args": [
          {
           "clipDist": 0
          }
         ],
         "kwargs": {},
         "methodName": "setParameters",
         "reconstruc_color_scheme": false,
         "target": "Widget",
         "type": "call_method"
        },
        {
         "args": [
          "spacefill",
          0
         ],
         "kwargs": {
          "colorScale": "rainbow",
          "colorScheme": "element",
          "radiusScale": 0.5,
          "radiusType": "covalent"
         },
         "methodName": "updateRepresentationsByName",
         "reconstruc_color_scheme": false,
         "target": "Widget",
         "type": "call_method"
        },
        {
         "args": [
          "this._Q = [[-0.5773502691896257, 0.5773502691896257, 0.5773502691896257], [0.40824829046386313, -0.408248290463863, 0.8164965809277261], [0.7071067811865476, 0.7071067811865477, -2.6638240557478837e-16]]\n    var tooltip = document.createElement('div')\n    Object.assign(tooltip.style, {\n      display: 'none',\n      position: 'fixed',\n      zIndex: 10,\n      pointerEvents: 'none',\n      backgroundColor: 'rgba( 0, 0, 0, 0.6 )',\n      color: 'lightgrey',\n      padding: '8px',\n      fontFamily: 'sans-serif'\n    })\n    document.body.appendChild(tooltip)\n\n    var that = this\n    this.stage.mouseControls.remove('hoverPick')\n    this.stage.signals.hovered.add(function (pickingProxy) {\n      if (pickingProxy && (pickingProxy.atom || pickingProxy.bond)) {\n        var atom = pickingProxy.atom || pickingProxy.closestBondAtom\n        var mp = pickingProxy.mouse.position\n        //tooltip.innerText = atom.element + ' i=' + atom.index + ' (' + atom.x.toFixed(2) +  ', ' + atom.y.toFixed(2) +  ', ' + atom.z.toFixed(2) + ')'\n        //var pos = that._atoms_pos[atom.index]\n        var Q = that._Q\n        var pos_x = Q[0][0] * atom.x + Q[0][1] * atom.y + Q[0][2] * atom.z \n        var pos_y = Q[1][0] * atom.x + Q[1][1] * atom.y + Q[1][2] * atom.z\n        var pos_z = Q[2][0] * atom.x + Q[2][1] * atom.y + Q[2][2] * atom.z\n        tooltip.innerText = 'i=' + atom.index + ' ' + atom.element + ' (' + pos_x.toFixed(2) +  ', ' + pos_y.toFixed(2) +  ', ' + pos_z.toFixed(2) + ')'\n        tooltip.style.bottom = window.innerHeight - mp.y + 3 + 'px'\n        tooltip.style.left = mp.x + 3 + 'px'\n        tooltip.style.display = 'block'\n      } else {\n        tooltip.style.display = 'none'\n      }\n    })\n    "
         ],
         "kwargs": {},
         "methodName": "executeCode",
         "reconstruc_color_scheme": false,
         "target": "Widget",
         "type": "call_method"
        }
       ],
       "_ngl_original_stage_parameters": {
        "ambientColor": 14540253,
        "ambientIntensity": 0.2,
        "backgroundColor": "white",
        "cameraEyeSep": 0.3,
        "cameraFov": 40,
        "cameraType": "perspective",
        "clipDist": 10,
        "clipFar": 100,
        "clipNear": 0,
        "fogFar": 100,
        "fogNear": 50,
        "hoverTimeout": 0,
        "impostor": true,
        "lightColor": 14540253,
        "lightIntensity": 1,
        "mousePreset": "default",
        "panSpeed": 1,
        "quality": "medium",
        "rotateSpeed": 2,
        "sampleLevel": 0,
        "tooltip": true,
        "workerDefault": true,
        "zoomSpeed": 1.2
       },
       "_ngl_repr_dict": {
        "0": {
         "0": {
          "params": {
           "clipCenter": {
            "x": 0,
            "y": 0,
            "z": 0
           },
           "clipNear": 0,
           "clipRadius": 0,
           "colorMode": "hcl",
           "colorReverse": false,
           "colorScale": "",
           "colorScheme": "element",
           "colorValue": "orange",
           "defaultAssembly": "",
           "depthWrite": true,
           "diffuse": 16777215,
           "diffuseInterior": false,
           "disableImpostor": false,
           "disablePicking": false,
           "flatShaded": false,
           "interiorColor": 2236962,
           "interiorDarkening": 0,
           "lazy": false,
           "matrix": {
            "elements": [
             1,
             0,
             0,
             0,
             0,
             1,
             0,
             0,
             0,
             0,
             1,
             0,
             0,
             0,
             0,
             1
            ]
           },
           "metalness": 0,
           "opacity": 1,
           "quality": "medium",
           "radialSegments": 10,
           "radiusData": {},
           "radiusScale": 1,
           "radiusSize": 0.060530615719461334,
           "radiusType": "vdw",
           "roughness": 0.4,
           "sele": "all",
           "side": "double",
           "sphereDetail": 1,
           "useInteriorColor": true,
           "visible": true,
           "wireframe": false
          },
          "type": "unitcell"
         },
         "1": {
          "params": {
           "assembly": "default",
           "clipCenter": {
            "x": 0,
            "y": 0,
            "z": 0
           },
           "clipNear": 0,
           "clipRadius": 0,
           "colorMode": "hcl",
           "colorReverse": false,
           "colorScale": "rainbow",
           "colorScheme": "element",
           "colorValue": 9474192,
           "defaultAssembly": "",
           "depthWrite": true,
           "diffuse": 16777215,
           "diffuseInterior": false,
           "disableImpostor": false,
           "disablePicking": false,
           "flatShaded": false,
           "interiorColor": 2236962,
           "interiorDarkening": 0,
           "lazy": false,
           "matrix": {
            "elements": [
             1,
             0,
             0,
             0,
             0,
             1,
             0,
             0,
             0,
             0,
             1,
             0,
             0,
             0,
             0,
             1
            ]
           },
           "metalness": 0,
           "opacity": 1,
           "quality": "medium",
           "radiusData": {},
           "radiusScale": 0.5,
           "radiusSize": 1,
           "radiusType": "covalent",
           "roughness": 0.4,
           "sele": "all",
           "side": "double",
           "sphereDetail": 1,
           "useInteriorColor": true,
           "visible": true,
           "wireframe": false
          },
          "type": "spacefill"
         }
        }
       },
       "_ngl_serialize": false,
       "_ngl_version": "2.0.0-dev.36",
       "_ngl_view_id": [
        "125D04D3-FC37-4B05-8AC2-F99508A1CF1C"
       ],
       "_player_dict": {},
       "_scene_position": {},
       "_scene_rotation": {},
       "_synced_model_ids": [],
       "_synced_repr_model_ids": [],
       "_view_height": "",
       "_view_width": "",
       "background": "white",
       "frame": 0,
       "gui_style": null,
       "layout": "IPY_MODEL_438258e33bd64f9b910a3c02c91a01f6",
       "max_frame": 0,
       "n_components": 1,
       "picked": {}
      }
     },
     "b231398cac8f485aae173026f4f698de": {
      "model_module": "@jupyter-widgets/controls",
      "model_module_version": "1.5.0",
      "model_name": "DescriptionStyleModel",
      "state": {
       "description_width": ""
      }
     },
     "b2bb343c512d476ab00e2ba402209987": {
      "model_module": "@jupyter-widgets/controls",
      "model_module_version": "1.5.0",
      "model_name": "SliderStyleModel",
      "state": {
       "description_width": ""
      }
     },
     "b31bc46c664943a19a9a5ae5db35d2e4": {
      "model_module": "@jupyter-widgets/base",
      "model_module_version": "1.2.0",
      "model_name": "LayoutModel",
      "state": {}
     },
     "b3e4b8aa36bf4720aa50e07c23414d26": {
      "model_module": "@jupyter-widgets/controls",
      "model_module_version": "1.5.0",
      "model_name": "CheckboxModel",
      "state": {
       "description": "Show force",
       "disabled": false,
       "layout": "IPY_MODEL_d722bab0fce14285b5df808b8751db25",
       "style": "IPY_MODEL_9c492ad88c3e4620992b0293e6f7ecf7",
       "value": false
      }
     },
     "b421ff5f7686441fa0406c6a172e506f": {
      "model_module": "@jupyter-widgets/base",
      "model_module_version": "1.2.0",
      "model_name": "LayoutModel",
      "state": {}
     },
     "b48c7f3a8652468ba3f2e9c139aedea5": {
      "model_module": "@jupyter-widgets/controls",
      "model_module_version": "1.5.0",
      "model_name": "SliderStyleModel",
      "state": {
       "description_width": ""
      }
     },
     "b582e0cdeffd4d4199ad28e252285d30": {
      "model_module": "@jupyter-widgets/base",
      "model_module_version": "1.2.0",
      "model_name": "LayoutModel",
      "state": {}
     },
     "b5ba4c17f1074f5e9354e8164637ac06": {
      "model_module": "@jupyter-widgets/controls",
      "model_module_version": "1.5.0",
      "model_name": "SliderStyleModel",
      "state": {
       "description_width": ""
      }
     },
     "b6938feb975646f19ddd3d451d99802a": {
      "model_module": "@jupyter-widgets/base",
      "model_module_version": "1.2.0",
      "model_name": "LayoutModel",
      "state": {}
     },
     "b77d04c294194ac58d748f24dd43cde2": {
      "model_module": "@jupyter-widgets/base",
      "model_module_version": "1.2.0",
      "model_name": "LayoutModel",
      "state": {}
     },
     "b78cb719f6744c4da9d35287b532ac24": {
      "model_module": "@jupyter-widgets/controls",
      "model_module_version": "1.5.0",
      "model_name": "LinkModel",
      "state": {
       "source": [
        "IPY_MODEL_a88d91de5b504b7789a602d5a3917820",
        "max"
       ],
       "target": [
        "IPY_MODEL_b9f8480200d148abbfc09a2f353d8483",
        "max_frame"
       ]
      }
     },
     "b80ba27cf323405c86f717690f093cef": {
      "model_module": "@jupyter-widgets/controls",
      "model_module_version": "1.5.0",
      "model_name": "DescriptionStyleModel",
      "state": {
       "description_width": ""
      }
     },
     "b82c51994ab24c2bb8296ae1ba726fc4": {
      "model_module": "@jupyter-widgets/base",
      "model_module_version": "1.2.0",
      "model_name": "LayoutModel",
      "state": {}
     },
     "b8d18795a66443ad96d23bf6e10c65bb": {
      "model_module": "@jupyter-widgets/base",
      "model_module_version": "1.2.0",
      "model_name": "LayoutModel",
      "state": {}
     },
     "b9563aba58d54592baf437b2c319122f": {
      "model_module": "@jupyter-widgets/controls",
      "model_module_version": "1.5.0",
      "model_name": "DescriptionStyleModel",
      "state": {
       "description_width": ""
      }
     },
     "b9b45bc532154d6b9fb98f5809406bc6": {
      "model_module": "@jupyter-widgets/base",
      "model_module_version": "1.2.0",
      "model_name": "LayoutModel",
      "state": {
       "border": "0px solid black"
      }
     },
     "b9f8480200d148abbfc09a2f353d8483": {
      "model_module": "nglview-js-widgets",
      "model_module_version": "3.0.1",
      "model_name": "NGLModel",
      "state": {
       "_camera_orientation": [
        10.481783228970954,
        0,
        0,
        0,
        0,
        10.481783228970954,
        0,
        0,
        0,
        0,
        10.481783228970954,
        0,
        0.26649999618530273,
        -0.01100003719329834,
        0.218999981880188,
        1
       ],
       "_camera_str": "orthographic",
       "_gui_theme": null,
       "_ibtn_fullscreen": "IPY_MODEL_ddec3a0849fe46f2beec4bb87c5cdb05",
       "_igui": null,
       "_iplayer": "IPY_MODEL_62ff9e57d05e4ecb82bb2dd8e801ffd0",
       "_ngl_color_dict": {},
       "_ngl_coordinate_resource": {},
       "_ngl_full_stage_parameters": {
        "ambientColor": 14540253,
        "ambientIntensity": 0.2,
        "backgroundColor": "white",
        "cameraEyeSep": 0.3,
        "cameraFov": 40,
        "cameraType": "orthographic",
        "clipDist": 0,
        "clipFar": 100,
        "clipNear": 0,
        "fogFar": 100,
        "fogNear": 50,
        "hoverTimeout": 0,
        "impostor": true,
        "lightColor": 14540253,
        "lightIntensity": 1,
        "mousePreset": "default",
        "panSpeed": 1,
        "quality": "medium",
        "rotateSpeed": 2,
        "sampleLevel": 0,
        "tooltip": true,
        "workerDefault": true,
        "zoomSpeed": 1.2
       },
       "_ngl_msg_archive": [
        {
         "args": [
          {
           "binary": false,
           "data": "MODEL     1\nATOM      1    C MOL     1       2.215  -0.014  -0.123  1.00  0.00           C  \nATOM      2    C MOL     1       0.723  -0.001  -0.044  1.00  0.00           C  \nATOM      3    C MOL     1      -0.009  -1.171  -0.090  1.00  0.00           C  \nATOM      4    C MOL     1      -1.388  -1.167  -0.018  1.00  0.00           C  \nATOM      5    C MOL     1      -2.101   0.010   0.104  1.00  0.00           C  \nATOM      6    C MOL     1      -1.366   1.177   0.149  1.00  0.00           C  \nATOM      7    C MOL     1       0.011   1.176   0.077  1.00  0.00           C  \nATOM      8    H MOL     1       2.568   0.314  -1.111  1.00  0.00           H  \nATOM      9    H MOL     1       2.650  -0.976   0.104  1.00  0.00           H  \nATOM     10    H MOL     1       2.616   0.702   0.673  1.00  0.00           H  \nATOM     11    H MOL     1       0.513  -2.102  -0.184  1.00  0.00           H  \nATOM     12    H MOL     1      -1.973  -2.081  -0.053  1.00  0.00           H  \nATOM     13    H MOL     1      -3.183  -0.009   0.159  1.00  0.00           H  \nATOM     14    H MOL     1      -1.870   2.124   0.244  1.00  0.00           H  \nATOM     15    H MOL     1       0.593   2.106   0.114  1.00  0.00           H  \nENDMDL\n",
           "type": "blob"
          }
         ],
         "kwargs": {
          "defaultRepresentation": false,
          "ext": "pdb"
         },
         "methodName": "loadFile",
         "reconstruc_color_scheme": false,
         "target": "Stage",
         "type": "call_method"
        },
        {
         "args": [
          "600px",
          "600px"
         ],
         "kwargs": {},
         "methodName": "setSize",
         "reconstruc_color_scheme": false,
         "target": "Widget",
         "type": "call_method"
        },
        {
         "args": [
          "unitcell"
         ],
         "component_index": 0,
         "kwargs": {
          "sele": "all"
         },
         "methodName": "addRepresentation",
         "reconstruc_color_scheme": false,
         "target": "compList",
         "type": "call_method"
        },
        {
         "args": [
          "spacefill"
         ],
         "component_index": 0,
         "kwargs": {
          "sele": "all"
         },
         "methodName": "addRepresentation",
         "reconstruc_color_scheme": false,
         "target": "compList",
         "type": "call_method"
        },
        {
         "args": [],
         "kwargs": {
          "cameraType": "orthographic"
         },
         "methodName": "setParameters",
         "reconstruc_color_scheme": false,
         "target": "Stage",
         "type": "call_method"
        },
        {
         "args": [
          {
           "clipDist": 0
          }
         ],
         "kwargs": {},
         "methodName": "setParameters",
         "reconstruc_color_scheme": false,
         "target": "Widget",
         "type": "call_method"
        },
        {
         "args": [
          "spacefill",
          0
         ],
         "kwargs": {
          "colorScale": "rainbow",
          "colorScheme": "element",
          "radiusScale": 0.5,
          "radiusType": "covalent"
         },
         "methodName": "updateRepresentationsByName",
         "reconstruc_color_scheme": false,
         "target": "Widget",
         "type": "call_method"
        },
        {
         "args": [
          "this._Q = [[1.0, 0.0, 0.0], [0.0, 1.0, 0.0], [0.0, 0.0, 1.0]]\n    var tooltip = document.createElement('div')\n    Object.assign(tooltip.style, {\n      display: 'none',\n      position: 'fixed',\n      zIndex: 10,\n      pointerEvents: 'none',\n      backgroundColor: 'rgba( 0, 0, 0, 0.6 )',\n      color: 'lightgrey',\n      padding: '8px',\n      fontFamily: 'sans-serif'\n    })\n    document.body.appendChild(tooltip)\n\n    var that = this\n    this.stage.mouseControls.remove('hoverPick')\n    this.stage.signals.hovered.add(function (pickingProxy) {\n      if (pickingProxy && (pickingProxy.atom || pickingProxy.bond)) {\n        var atom = pickingProxy.atom || pickingProxy.closestBondAtom\n        var mp = pickingProxy.mouse.position\n        //tooltip.innerText = atom.element + ' i=' + atom.index + ' (' + atom.x.toFixed(2) +  ', ' + atom.y.toFixed(2) +  ', ' + atom.z.toFixed(2) + ')'\n        //var pos = that._atoms_pos[atom.index]\n        var Q = that._Q\n        var pos_x = Q[0][0] * atom.x + Q[0][1] * atom.y + Q[0][2] * atom.z \n        var pos_y = Q[1][0] * atom.x + Q[1][1] * atom.y + Q[1][2] * atom.z\n        var pos_z = Q[2][0] * atom.x + Q[2][1] * atom.y + Q[2][2] * atom.z\n        tooltip.innerText = 'i=' + atom.index + ' ' + atom.element + ' (' + pos_x.toFixed(2) +  ', ' + pos_y.toFixed(2) +  ', ' + pos_z.toFixed(2) + ')'\n        tooltip.style.bottom = window.innerHeight - mp.y + 3 + 'px'\n        tooltip.style.left = mp.x + 3 + 'px'\n        tooltip.style.display = 'block'\n      } else {\n        tooltip.style.display = 'none'\n      }\n    })\n    "
         ],
         "kwargs": {},
         "methodName": "executeCode",
         "reconstruc_color_scheme": false,
         "target": "Widget",
         "type": "call_method"
        },
        {
         "args": [
          "ball+stick"
         ],
         "component_index": 0,
         "kwargs": {
          "sele": "all"
         },
         "methodName": "addRepresentation",
         "reconstruc_color_scheme": false,
         "target": "compList",
         "type": "call_method"
        }
       ],
       "_ngl_original_stage_parameters": {
        "ambientColor": 14540253,
        "ambientIntensity": 0.2,
        "backgroundColor": "white",
        "cameraEyeSep": 0.3,
        "cameraFov": 40,
        "cameraType": "perspective",
        "clipDist": 10,
        "clipFar": 100,
        "clipNear": 0,
        "fogFar": 100,
        "fogNear": 50,
        "hoverTimeout": 0,
        "impostor": true,
        "lightColor": 14540253,
        "lightIntensity": 1,
        "mousePreset": "default",
        "panSpeed": 1,
        "quality": "medium",
        "rotateSpeed": 2,
        "sampleLevel": 0,
        "tooltip": true,
        "workerDefault": true,
        "zoomSpeed": 1.2
       },
       "_ngl_repr_dict": {
        "0": {
         "0": {
          "params": {
           "clipCenter": {
            "x": 0,
            "y": 0,
            "z": 0
           },
           "clipNear": 0,
           "clipRadius": 0,
           "colorMode": "hcl",
           "colorReverse": false,
           "colorScale": "",
           "colorScheme": "element",
           "colorValue": "orange",
           "defaultAssembly": "",
           "depthWrite": true,
           "diffuse": 16777215,
           "diffuseInterior": false,
           "disableImpostor": false,
           "disablePicking": false,
           "flatShaded": false,
           "interiorColor": 2236962,
           "interiorDarkening": 0,
           "lazy": false,
           "matrix": {
            "elements": [
             1,
             0,
             0,
             0,
             0,
             1,
             0,
             0,
             0,
             0,
             1,
             0,
             0,
             0,
             0,
             1
            ]
           },
           "metalness": 0,
           "opacity": 1,
           "quality": "medium",
           "radialSegments": 10,
           "radiusData": {},
           "radiusScale": 1,
           "radiusSize": 0.5,
           "radiusType": "vdw",
           "roughness": 0.4,
           "sele": "all",
           "side": "double",
           "sphereDetail": 1,
           "useInteriorColor": true,
           "visible": true,
           "wireframe": false
          },
          "type": "unitcell"
         },
         "1": {
          "params": {
           "assembly": "default",
           "clipCenter": {
            "x": 0,
            "y": 0,
            "z": 0
           },
           "clipNear": 0,
           "clipRadius": 0,
           "colorMode": "hcl",
           "colorReverse": false,
           "colorScale": "rainbow",
           "colorScheme": "element",
           "colorValue": 9474192,
           "defaultAssembly": "",
           "depthWrite": true,
           "diffuse": 16777215,
           "diffuseInterior": false,
           "disableImpostor": false,
           "disablePicking": false,
           "flatShaded": false,
           "interiorColor": 2236962,
           "interiorDarkening": 0,
           "lazy": false,
           "matrix": {
            "elements": [
             1,
             0,
             0,
             0,
             0,
             1,
             0,
             0,
             0,
             0,
             1,
             0,
             0,
             0,
             0,
             1
            ]
           },
           "metalness": 0,
           "opacity": 1,
           "quality": "medium",
           "radiusData": {},
           "radiusScale": 0.5,
           "radiusSize": 1,
           "radiusType": "covalent",
           "roughness": 0.4,
           "sele": "all",
           "side": "double",
           "sphereDetail": 1,
           "useInteriorColor": true,
           "visible": true,
           "wireframe": false
          },
          "type": "spacefill"
         },
         "2": {
          "params": {
           "aspectRatio": 2,
           "assembly": "default",
           "bondScale": 0.4,
           "bondSpacing": 1,
           "clipCenter": {
            "x": 0,
            "y": 0,
            "z": 0
           },
           "clipNear": 0,
           "clipRadius": 0,
           "colorMode": "hcl",
           "colorReverse": false,
           "colorScale": "",
           "colorScheme": "element",
           "colorValue": 9474192,
           "cylinderOnly": false,
           "defaultAssembly": "",
           "depthWrite": true,
           "diffuse": 16777215,
           "diffuseInterior": false,
           "disableImpostor": false,
           "disablePicking": false,
           "flatShaded": false,
           "interiorColor": 2236962,
           "interiorDarkening": 0,
           "lazy": false,
           "lineOnly": false,
           "linewidth": 2,
           "matrix": {
            "elements": [
             1,
             0,
             0,
             0,
             0,
             1,
             0,
             0,
             0,
             0,
             1,
             0,
             0,
             0,
             0,
             1
            ]
           },
           "metalness": 0,
           "multipleBond": "off",
           "opacity": 1,
           "openEnded": true,
           "quality": "medium",
           "radialSegments": 10,
           "radiusData": {},
           "radiusScale": 1,
           "radiusSize": 0.15,
           "radiusType": "size",
           "roughness": 0.4,
           "sele": "all",
           "side": "double",
           "sphereDetail": 1,
           "useInteriorColor": true,
           "visible": true,
           "wireframe": false
          },
          "type": "ball+stick"
         }
        }
       },
       "_ngl_serialize": false,
       "_ngl_version": "2.0.0-dev.36",
       "_ngl_view_id": [
        "2DFCBDC8-4C8B-47FA-B69B-60BD9087F22D"
       ],
       "_player_dict": {},
       "_scene_position": {},
       "_scene_rotation": {},
       "_synced_model_ids": [],
       "_synced_repr_model_ids": [],
       "_view_height": "",
       "_view_width": "",
       "background": "white",
       "frame": 0,
       "gui_style": null,
       "layout": "IPY_MODEL_b82c51994ab24c2bb8296ae1ba726fc4",
       "max_frame": 0,
       "n_components": 1,
       "picked": {}
      }
     },
     "bb65e7d7e85c424db109935b3406dfda": {
      "model_module": "@jupyter-widgets/controls",
      "model_module_version": "1.5.0",
      "model_name": "FloatSliderModel",
      "state": {
       "description": "Ball size",
       "layout": "IPY_MODEL_1eb30010f7f240dea88e99f707e05f6d",
       "max": 1.5,
       "step": 0.01,
       "style": "IPY_MODEL_fb98e8aac76e40df8d09b8a855a76d47",
       "value": 0.5
      }
     },
     "bc7af0c94ea14091a97d99defb3bc57d": {
      "model_module": "@jupyter-widgets/base",
      "model_module_version": "1.2.0",
      "model_name": "LayoutModel",
      "state": {}
     },
     "bd355d272266403cb5b9c6135c46ca29": {
      "model_module": "@jupyter-widgets/controls",
      "model_module_version": "1.5.0",
      "model_name": "SliderStyleModel",
      "state": {
       "description_width": ""
      }
     },
     "bd49cee8d34f4c49b4129e0ff7cfc313": {
      "model_module": "@jupyter-widgets/output",
      "model_module_version": "1.0.0",
      "model_name": "OutputModel",
      "state": {
       "layout": "IPY_MODEL_b9b45bc532154d6b9fb98f5809406bc6"
      }
     },
     "bdbc0017fd474f55a75623f67e23a1ff": {
      "model_module": "@jupyter-widgets/base",
      "model_module_version": "1.2.0",
      "model_name": "LayoutModel",
      "state": {}
     },
     "be79a368c71b4527a3a9ecd55216b186": {
      "model_module": "@jupyter-widgets/controls",
      "model_module_version": "1.5.0",
      "model_name": "SliderStyleModel",
      "state": {
       "description_width": ""
      }
     },
     "be93bda4ee9b425084373d03cf1de642": {
      "model_module": "@jupyter-widgets/controls",
      "model_module_version": "1.5.0",
      "model_name": "DescriptionStyleModel",
      "state": {
       "description_width": ""
      }
     },
     "c0bda314c45c46d7a2af3273427bb425": {
      "model_module": "@jupyter-widgets/base",
      "model_module_version": "1.2.0",
      "model_name": "LayoutModel",
      "state": {
       "border": "0px solid black"
      }
     },
     "c0cef10dcc704e79ae129980671dc325": {
      "model_module": "@jupyter-widgets/base",
      "model_module_version": "1.2.0",
      "model_name": "LayoutModel",
      "state": {}
     },
     "c0fb039c44974f4781814498a5606d6c": {
      "model_module": "@jupyter-widgets/base",
      "model_module_version": "1.2.0",
      "model_name": "LayoutModel",
      "state": {}
     },
     "c1f189ea642d4f10b129ded4b88e54fd": {
      "model_module": "@jupyter-widgets/controls",
      "model_module_version": "1.5.0",
      "model_name": "SliderStyleModel",
      "state": {
       "description_width": ""
      }
     },
     "c3bd58b6bed8407f9374ae37dd40e243": {
      "model_module": "@jupyter-widgets/controls",
      "model_module_version": "1.5.0",
      "model_name": "VBoxModel",
      "state": {
       "children": [
        "IPY_MODEL_12cd6e2e1614460f9e25fd2c50b944e6",
        "IPY_MODEL_69e7c3e68d8340dcbd4e6f7314f6183e",
        "IPY_MODEL_bb65e7d7e85c424db109935b3406dfda",
        "IPY_MODEL_7b68fee2c1094dccb73493dd21ac319a",
        "IPY_MODEL_984c07edd3514c11bd1a74a738818060",
        "IPY_MODEL_e05a6d7c6aa04cc09a38b8784ac2e9d9",
        "IPY_MODEL_09e890b3e20a4309999c1539a1742e66",
        "IPY_MODEL_028fcb43b2c64ba19ad4ff0d8b763915",
        "IPY_MODEL_7e9386f8a74543cba4b8ba9503119ff7",
        "IPY_MODEL_bd49cee8d34f4c49b4129e0ff7cfc313"
       ],
       "layout": "IPY_MODEL_ffd55a94f3f744e2b330896844e4327f"
      }
     },
     "c41fb52034a845309ab776e27d820a2a": {
      "model_module": "@jupyter-widgets/controls",
      "model_module_version": "1.5.0",
      "model_name": "VBoxModel",
      "state": {
       "children": [
        "IPY_MODEL_790d5c765e59467d9516e72fcdf60699",
        "IPY_MODEL_d01823b23c2f40aa9937c68f5f8359a4",
        "IPY_MODEL_2bb36a3a47a4449e92a98dd454bec137",
        "IPY_MODEL_a0c7384e766249ea979d30aa83f35245",
        "IPY_MODEL_cb73a0f288d247b5bff8a68b0733d23e",
        "IPY_MODEL_c71e96de477e4311bcffc96b6f6960f4",
        "IPY_MODEL_638fa53fa19048108741b18a2a81cf9f",
        "IPY_MODEL_2f9a28b2ec8d49dd88191e3497a9f0a1",
        "IPY_MODEL_4bc757097d8e4340981e2a0d2b2def40",
        "IPY_MODEL_1a8a5779fba6497a9aa42da5f686d909"
       ],
       "layout": "IPY_MODEL_e4dd5a28c2fd424386115faafe831e19"
      }
     },
     "c4fe3d6ae0fb47aabde9b97aaf874b70": {
      "model_module": "@jupyter-widgets/controls",
      "model_module_version": "1.5.0",
      "model_name": "HBoxModel",
      "state": {
       "children": [
        "IPY_MODEL_b21e79646ade400489c957061a33aa79",
        "IPY_MODEL_4d069953f9184e7e8a36030fdcfef121"
       ],
       "layout": "IPY_MODEL_018d1edee2504d0eb275fca83770f736"
      }
     },
     "c5b9a434ddcb4345a2ec8b3381ae04f8": {
      "model_module": "@jupyter-widgets/base",
      "model_module_version": "1.2.0",
      "model_name": "LayoutModel",
      "state": {}
     },
     "c6bbad7c5a4b48c3830eccc6c03915e0": {
      "model_module": "@jupyter-widgets/controls",
      "model_module_version": "1.5.0",
      "model_name": "LinkModel",
      "state": {
       "source": [
        "IPY_MODEL_534518008df94b6684f2ab5db4b65279",
        "value"
       ],
       "target": [
        "IPY_MODEL_ea06c761eaec493cbdf6869864cb21cb",
        "frame"
       ]
      }
     },
     "c71e96de477e4311bcffc96b6f6960f4": {
      "model_module": "@jupyter-widgets/controls",
      "model_module_version": "1.5.0",
      "model_name": "CheckboxModel",
      "state": {
       "description": "Show force",
       "disabled": false,
       "layout": "IPY_MODEL_11a001c0fbcc435eb42109d347f5c807",
       "style": "IPY_MODEL_1d066e8637b0465fb0f960f0e106f729",
       "value": false
      }
     },
     "c92ae6cc82e044cea2b30ff643f6a149": {
      "model_module": "@jupyter-widgets/controls",
      "model_module_version": "1.5.0",
      "model_name": "PlayModel",
      "state": {
       "layout": "IPY_MODEL_1e5cd2a9062c4335834839ecbf36b4b8",
       "max": 0,
       "style": "IPY_MODEL_d1aee1b13bef4c1e9a9018ac3bb44f12"
      }
     },
     "ca7139c8c6b4461cb19be201aca8630d": {
      "model_module": "@jupyter-widgets/base",
      "model_module_version": "1.2.0",
      "model_name": "LayoutModel",
      "state": {}
     },
     "caa1f93b843c4b1681666b3b5f5abdc3": {
      "model_module": "@jupyter-widgets/controls",
      "model_module_version": "1.5.0",
      "model_name": "DescriptionStyleModel",
      "state": {
       "description_width": ""
      }
     },
     "cb040f722f3640279e3147a34e2e84bf": {
      "model_module": "@jupyter-widgets/base",
      "model_module_version": "1.2.0",
      "model_name": "LayoutModel",
      "state": {}
     },
     "cb258b96b82348d5a3b6b5ebb1a711ea": {
      "model_module": "@jupyter-widgets/controls",
      "model_module_version": "1.5.0",
      "model_name": "DescriptionStyleModel",
      "state": {
       "description_width": ""
      }
     },
     "cb4d1c5c81ea40d885442cb12e5531b1": {
      "model_module": "@jupyter-widgets/controls",
      "model_module_version": "1.5.0",
      "model_name": "CheckboxModel",
      "state": {
       "description": "Show force",
       "disabled": false,
       "layout": "IPY_MODEL_d66ccca3e2c24e93926e5582405ffb6c",
       "style": "IPY_MODEL_a9b5542c1aea49768a61f7ea098cc40f",
       "value": false
      }
     },
     "cb5a7f46acc8461e9154bee08b0af3ee": {
      "model_module": "@jupyter-widgets/controls",
      "model_module_version": "1.5.0",
      "model_name": "LinkModel",
      "state": {
       "source": [
        "IPY_MODEL_d43a57f6b4724f18b0418f44732cc043",
        "max"
       ],
       "target": [
        "IPY_MODEL_b21e79646ade400489c957061a33aa79",
        "max_frame"
       ]
      }
     },
     "cb6a67716ee743b182123680ec54199a": {
      "model_module": "@jupyter-widgets/base",
      "model_module_version": "1.2.0",
      "model_name": "LayoutModel",
      "state": {}
     },
     "cb73a0f288d247b5bff8a68b0733d23e": {
      "model_module": "@jupyter-widgets/controls",
      "model_module_version": "1.5.0",
      "model_name": "HBoxModel",
      "state": {
       "children": [
        "IPY_MODEL_ab1a0be92feb4543872493d5c9262d8d",
        "IPY_MODEL_67da9c66d12c4ead8be0766421fbbcc0"
       ],
       "layout": "IPY_MODEL_5d2e119467e6499e99286f47944beb4e"
      }
     },
     "cbd4bd4525fc4653b52487a53407727b": {
      "model_module": "@jupyter-widgets/controls",
      "model_module_version": "1.5.0",
      "model_name": "ButtonModel",
      "state": {
       "icon": "compress",
       "layout": "IPY_MODEL_3d4e82cd3a854c03b59d73522d0427b7",
       "style": "IPY_MODEL_de9c025383a546aa919884dc9fc3de15"
      }
     },
     "cd6d44db0c464e828b9cb0785294b2c0": {
      "model_module": "nglview-js-widgets",
      "model_module_version": "3.0.1",
      "model_name": "ColormakerRegistryModel",
      "state": {
       "_msg_ar": [],
       "_msg_q": [],
       "_ready": true,
       "layout": "IPY_MODEL_158ad83467d84a81b12755b21d68372b"
      }
     },
     "cd705302fb044d4d9532921eb335f16e": {
      "model_module": "@jupyter-widgets/controls",
      "model_module_version": "1.5.0",
      "model_name": "LinkModel",
      "state": {
       "source": [
        "IPY_MODEL_31c0b04a1c4445afbd0176989f4b8c9b",
        "max"
       ],
       "target": [
        "IPY_MODEL_ea06c761eaec493cbdf6869864cb21cb",
        "max_frame"
       ]
      }
     },
     "cf4907b4350042d78ff22b97110e87a9": {
      "model_module": "@jupyter-widgets/controls",
      "model_module_version": "1.5.0",
      "model_name": "ButtonStyleModel",
      "state": {}
     },
     "cfdefaf25c2f45ab9853b476cc2ac492": {
      "model_module": "@jupyter-widgets/controls",
      "model_module_version": "1.5.0",
      "model_name": "DropdownModel",
      "state": {
       "_options_labels": [
        "All",
        "H",
        "C"
       ],
       "description": "Show",
       "index": 0,
       "layout": "IPY_MODEL_c5b9a434ddcb4345a2ec8b3381ae04f8",
       "style": "IPY_MODEL_a0984f5a92a54dbea907b595212680e6"
      }
     },
     "d01823b23c2f40aa9937c68f5f8359a4": {
      "model_module": "@jupyter-widgets/controls",
      "model_module_version": "1.5.0",
      "model_name": "DropdownModel",
      "state": {
       "_options_labels": [
        " ",
        "picking",
        "random",
        "uniform",
        "atomindex",
        "residueindex",
        "chainindex",
        "modelindex",
        "sstruc",
        "element",
        "resname",
        "bfactor",
        "hydrophobicity",
        "value",
        "volume",
        "occupancy"
       ],
       "description": "Color scheme",
       "index": 9,
       "layout": "IPY_MODEL_d1076b2437a34ed0b46f18a517b78dcf",
       "style": "IPY_MODEL_cb258b96b82348d5a3b6b5ebb1a711ea"
      }
     },
     "d06800b218f8471291e299c268be1a4b": {
      "model_module": "@jupyter-widgets/base",
      "model_module_version": "1.2.0",
      "model_name": "LayoutModel",
      "state": {
       "width": "34px"
      }
     },
     "d1076b2437a34ed0b46f18a517b78dcf": {
      "model_module": "@jupyter-widgets/base",
      "model_module_version": "1.2.0",
      "model_name": "LayoutModel",
      "state": {}
     },
     "d1aee1b13bef4c1e9a9018ac3bb44f12": {
      "model_module": "@jupyter-widgets/controls",
      "model_module_version": "1.5.0",
      "model_name": "DescriptionStyleModel",
      "state": {
       "description_width": ""
      }
     },
     "d3299454432e49de8cdb36a17dacbe2d": {
      "model_module": "@jupyter-widgets/controls",
      "model_module_version": "1.5.0",
      "model_name": "ButtonStyleModel",
      "state": {}
     },
     "d43a57f6b4724f18b0418f44732cc043": {
      "model_module": "@jupyter-widgets/controls",
      "model_module_version": "1.5.0",
      "model_name": "PlayModel",
      "state": {
       "layout": "IPY_MODEL_58f612fe06f14b9e836fe64bffe73d00",
       "max": 0,
       "style": "IPY_MODEL_010369135cba4fc89bfa0a497e5be6b9"
      }
     },
     "d4e6ef5146a3410d84ed1830c9c8f82b": {
      "model_module": "@jupyter-widgets/controls",
      "model_module_version": "1.5.0",
      "model_name": "SliderStyleModel",
      "state": {
       "description_width": ""
      }
     },
     "d5512957cded450a9f010367605c02ca": {
      "model_module": "@jupyter-widgets/controls",
      "model_module_version": "1.5.0",
      "model_name": "ButtonModel",
      "state": {
       "icon": "compress",
       "layout": "IPY_MODEL_d06800b218f8471291e299c268be1a4b",
       "style": "IPY_MODEL_4946ddc6d0d943d298b7811a9becf411"
      }
     },
     "d58a922e04c94e219f5b380b1a4207f1": {
      "model_module": "@jupyter-widgets/base",
      "model_module_version": "1.2.0",
      "model_name": "LayoutModel",
      "state": {}
     },
     "d5bfa4baa6be4d44945cd6e70852e6c5": {
      "model_module": "@jupyter-widgets/base",
      "model_module_version": "1.2.0",
      "model_name": "LayoutModel",
      "state": {}
     },
     "d66ccca3e2c24e93926e5582405ffb6c": {
      "model_module": "@jupyter-widgets/base",
      "model_module_version": "1.2.0",
      "model_name": "LayoutModel",
      "state": {}
     },
     "d722bab0fce14285b5df808b8751db25": {
      "model_module": "@jupyter-widgets/base",
      "model_module_version": "1.2.0",
      "model_name": "LayoutModel",
      "state": {}
     },
     "d8d8e61089bc4f8581875fcfbca3b4f0": {
      "model_module": "@jupyter-widgets/base",
      "model_module_version": "1.2.0",
      "model_name": "LayoutModel",
      "state": {}
     },
     "d93cd4d1b5254aeb9be61c62f49109b8": {
      "model_module": "@jupyter-widgets/controls",
      "model_module_version": "1.5.0",
      "model_name": "CheckboxModel",
      "state": {
       "description": "Show charge",
       "disabled": false,
       "layout": "IPY_MODEL_09727553b8c4454986a5a9e3270a5505",
       "style": "IPY_MODEL_64524aa548d845cfb4bcb4c943e9a819",
       "value": false
      }
     },
     "d9b35dc373ec40f4b77e6a3ae19381b4": {
      "model_module": "@jupyter-widgets/controls",
      "model_module_version": "1.5.0",
      "model_name": "HBoxModel",
      "state": {
       "children": [
        "IPY_MODEL_3c067dd8d85941c386ece173d419ea2c",
        "IPY_MODEL_a8336b1e4a344382b11385a8d7c762f0"
       ],
       "layout": "IPY_MODEL_05ee814c887c4edca113c708e06d0079"
      }
     },
     "da96d477ebd94ee898637a950f88185d": {
      "model_module": "@jupyter-widgets/controls",
      "model_module_version": "1.5.0",
      "model_name": "ButtonStyleModel",
      "state": {}
     },
     "dc17891672f9426d8f3871a08ea5a6a8": {
      "model_module": "@jupyter-widgets/base",
      "model_module_version": "1.2.0",
      "model_name": "LayoutModel",
      "state": {}
     },
     "dd847575c3e14a58812b76d9bfb5c872": {
      "model_module": "@jupyter-widgets/base",
      "model_module_version": "1.2.0",
      "model_name": "LayoutModel",
      "state": {}
     },
     "ddec3a0849fe46f2beec4bb87c5cdb05": {
      "model_module": "@jupyter-widgets/controls",
      "model_module_version": "1.5.0",
      "model_name": "ButtonModel",
      "state": {
       "icon": "compress",
       "layout": "IPY_MODEL_a703524626f5402b9bc3c1f726f8bcaf",
       "style": "IPY_MODEL_091136c925e045369e3dc5c5d96b588d"
      }
     },
     "de9c025383a546aa919884dc9fc3de15": {
      "model_module": "@jupyter-widgets/controls",
      "model_module_version": "1.5.0",
      "model_name": "ButtonStyleModel",
      "state": {}
     },
     "dea26ee0ee574da6a0af656f7c654fc4": {
      "model_module": "@jupyter-widgets/base",
      "model_module_version": "1.2.0",
      "model_name": "LayoutModel",
      "state": {
       "border": "0px solid black"
      }
     },
     "defc5c326aa44459bbe420542b1027a5": {
      "model_module": "@jupyter-widgets/base",
      "model_module_version": "1.2.0",
      "model_name": "LayoutModel",
      "state": {}
     },
     "e000b3ec5a3f4fcfafd195289eeded52": {
      "model_module": "@jupyter-widgets/base",
      "model_module_version": "1.2.0",
      "model_name": "LayoutModel",
      "state": {}
     },
     "e05a6d7c6aa04cc09a38b8784ac2e9d9": {
      "model_module": "@jupyter-widgets/controls",
      "model_module_version": "1.5.0",
      "model_name": "CheckboxModel",
      "state": {
       "description": "Show force",
       "disabled": false,
       "layout": "IPY_MODEL_53bfff38323e4479bac08b9c30eb58ab",
       "style": "IPY_MODEL_23a5528b3c1f42e987d7d9cc8239d337",
       "value": false
      }
     },
     "e2f14b0ad12c4966b17e2c1b0ff5c539": {
      "model_module": "@jupyter-widgets/controls",
      "model_module_version": "1.5.0",
      "model_name": "DropdownModel",
      "state": {
       "_options_labels": [
        " ",
        "picking",
        "random",
        "uniform",
        "atomindex",
        "residueindex",
        "chainindex",
        "modelindex",
        "sstruc",
        "element",
        "resname",
        "bfactor",
        "hydrophobicity",
        "value",
        "volume",
        "occupancy"
       ],
       "description": "Color scheme",
       "index": 9,
       "layout": "IPY_MODEL_b421ff5f7686441fa0406c6a172e506f",
       "style": "IPY_MODEL_946c0acc3c2c47febe5bcf366c9f3dc1"
      }
     },
     "e35aec51bbee4178b9bee0bfb7a16648": {
      "model_module": "@jupyter-widgets/controls",
      "model_module_version": "1.5.0",
      "model_name": "DescriptionStyleModel",
      "state": {
       "description_width": ""
      }
     },
     "e4dd5a28c2fd424386115faafe831e19": {
      "model_module": "@jupyter-widgets/base",
      "model_module_version": "1.2.0",
      "model_name": "LayoutModel",
      "state": {}
     },
     "e676756b0db34c47adc3f4f064232592": {
      "model_module": "@jupyter-widgets/controls",
      "model_module_version": "1.5.0",
      "model_name": "DropdownModel",
      "state": {
       "_options_labels": [
        "All",
        "H",
        "C"
       ],
       "description": "Show",
       "index": 0,
       "layout": "IPY_MODEL_442c7a67b52a45f18b5025611b2a87b5",
       "style": "IPY_MODEL_02b3503c65764e3ca9943883265486a4"
      }
     },
     "e8813216657b47588387bdb920d4571e": {
      "model_module": "@jupyter-widgets/base",
      "model_module_version": "1.2.0",
      "model_name": "LayoutModel",
      "state": {}
     },
     "ea06c761eaec493cbdf6869864cb21cb": {
      "model_module": "nglview-js-widgets",
      "model_module_version": "3.0.1",
      "model_name": "NGLModel",
      "state": {
       "_camera_orientation": [
        10.450886648609213,
        0,
        0,
        0,
        0,
        10.450886648609213,
        0,
        0,
        0,
        0,
        10.450886648609213,
        0,
        0.2575000524520874,
        -0.0065000057220458984,
        0.2290000319480896,
        1
       ],
       "_camera_str": "orthographic",
       "_gui_theme": null,
       "_ibtn_fullscreen": "IPY_MODEL_9b5f56e4ba954360b48a1149e8a6f0aa",
       "_igui": null,
       "_iplayer": "IPY_MODEL_03d52f19814d4484a82b541370ab4f32",
       "_ngl_color_dict": {},
       "_ngl_coordinate_resource": {},
       "_ngl_full_stage_parameters": {
        "ambientColor": 14540253,
        "ambientIntensity": 0.2,
        "backgroundColor": "white",
        "cameraEyeSep": 0.3,
        "cameraFov": 40,
        "cameraType": "orthographic",
        "clipDist": 0,
        "clipFar": 100,
        "clipNear": 0,
        "fogFar": 100,
        "fogNear": 50,
        "hoverTimeout": 0,
        "impostor": true,
        "lightColor": 14540253,
        "lightIntensity": 1,
        "mousePreset": "default",
        "panSpeed": 1,
        "quality": "medium",
        "rotateSpeed": 2,
        "sampleLevel": 0,
        "tooltip": true,
        "workerDefault": true,
        "zoomSpeed": 1.2
       },
       "_ngl_msg_archive": [
        {
         "args": [
          {
           "binary": false,
           "data": "MODEL     1\nATOM      1    C MOL     1       2.227  -0.002  -0.106  1.00  0.00           C  \nATOM      2    C MOL     1       0.720  -0.006  -0.023  1.00  0.00           C  \nATOM      3    C MOL     1      -0.009  -1.196  -0.076  1.00  0.00           C  \nATOM      4    C MOL     1      -1.402  -1.189  -0.017  1.00  0.00           C  \nATOM      5    C MOL     1      -2.090   0.015   0.095  1.00  0.00           C  \nATOM      6    C MOL     1      -1.376   1.210   0.148  1.00  0.00           C  \nATOM      7    C MOL     1       0.014   1.197   0.088  1.00  0.00           C  \nATOM      8    H MOL     1       2.564   0.336  -1.093  1.00  0.00           H  \nATOM      9    H MOL     1       2.638  -1.001   0.064  1.00  0.00           H  \nATOM     10    H MOL     1       2.659   0.679   0.635  1.00  0.00           H  \nATOM     11    H MOL     1       0.518  -2.142  -0.163  1.00  0.00           H  \nATOM     12    H MOL     1      -1.949  -2.126  -0.058  1.00  0.00           H  \nATOM     13    H MOL     1      -3.174   0.023   0.140  1.00  0.00           H  \nATOM     14    H MOL     1      -1.905   2.155   0.236  1.00  0.00           H  \nATOM     15    H MOL     1       0.564   2.134   0.130  1.00  0.00           H  \nENDMDL\n",
           "type": "blob"
          }
         ],
         "kwargs": {
          "defaultRepresentation": false,
          "ext": "pdb"
         },
         "methodName": "loadFile",
         "reconstruc_color_scheme": false,
         "target": "Stage",
         "type": "call_method"
        },
        {
         "args": [
          "500px",
          "500px"
         ],
         "kwargs": {},
         "methodName": "setSize",
         "reconstruc_color_scheme": false,
         "target": "Widget",
         "type": "call_method"
        },
        {
         "args": [
          "unitcell"
         ],
         "component_index": 0,
         "kwargs": {
          "sele": "all"
         },
         "methodName": "addRepresentation",
         "reconstruc_color_scheme": false,
         "target": "compList",
         "type": "call_method"
        },
        {
         "args": [
          "spacefill"
         ],
         "component_index": 0,
         "kwargs": {
          "sele": "all"
         },
         "methodName": "addRepresentation",
         "reconstruc_color_scheme": false,
         "target": "compList",
         "type": "call_method"
        },
        {
         "args": [],
         "kwargs": {
          "cameraType": "orthographic"
         },
         "methodName": "setParameters",
         "reconstruc_color_scheme": false,
         "target": "Stage",
         "type": "call_method"
        },
        {
         "args": [
          {
           "clipDist": 0
          }
         ],
         "kwargs": {},
         "methodName": "setParameters",
         "reconstruc_color_scheme": false,
         "target": "Widget",
         "type": "call_method"
        },
        {
         "args": [
          "spacefill",
          0
         ],
         "kwargs": {
          "colorScale": "rainbow",
          "colorScheme": "element",
          "radiusScale": 0.5,
          "radiusType": "covalent"
         },
         "methodName": "updateRepresentationsByName",
         "reconstruc_color_scheme": false,
         "target": "Widget",
         "type": "call_method"
        },
        {
         "args": [
          "this._Q = [[1.0, 0.0, 0.0], [0.0, 1.0, 0.0], [0.0, 0.0, 1.0]]\n    var tooltip = document.createElement('div')\n    Object.assign(tooltip.style, {\n      display: 'none',\n      position: 'fixed',\n      zIndex: 10,\n      pointerEvents: 'none',\n      backgroundColor: 'rgba( 0, 0, 0, 0.6 )',\n      color: 'lightgrey',\n      padding: '8px',\n      fontFamily: 'sans-serif'\n    })\n    document.body.appendChild(tooltip)\n\n    var that = this\n    this.stage.mouseControls.remove('hoverPick')\n    this.stage.signals.hovered.add(function (pickingProxy) {\n      if (pickingProxy && (pickingProxy.atom || pickingProxy.bond)) {\n        var atom = pickingProxy.atom || pickingProxy.closestBondAtom\n        var mp = pickingProxy.mouse.position\n        //tooltip.innerText = atom.element + ' i=' + atom.index + ' (' + atom.x.toFixed(2) +  ', ' + atom.y.toFixed(2) +  ', ' + atom.z.toFixed(2) + ')'\n        //var pos = that._atoms_pos[atom.index]\n        var Q = that._Q\n        var pos_x = Q[0][0] * atom.x + Q[0][1] * atom.y + Q[0][2] * atom.z \n        var pos_y = Q[1][0] * atom.x + Q[1][1] * atom.y + Q[1][2] * atom.z\n        var pos_z = Q[2][0] * atom.x + Q[2][1] * atom.y + Q[2][2] * atom.z\n        tooltip.innerText = 'i=' + atom.index + ' ' + atom.element + ' (' + pos_x.toFixed(2) +  ', ' + pos_y.toFixed(2) +  ', ' + pos_z.toFixed(2) + ')'\n        tooltip.style.bottom = window.innerHeight - mp.y + 3 + 'px'\n        tooltip.style.left = mp.x + 3 + 'px'\n        tooltip.style.display = 'block'\n      } else {\n        tooltip.style.display = 'none'\n      }\n    })\n    "
         ],
         "kwargs": {},
         "methodName": "executeCode",
         "reconstruc_color_scheme": false,
         "target": "Widget",
         "type": "call_method"
        },
        {
         "args": [
          "ball+stick"
         ],
         "component_index": 0,
         "kwargs": {
          "sele": "all"
         },
         "methodName": "addRepresentation",
         "reconstruc_color_scheme": false,
         "target": "compList",
         "type": "call_method"
        }
       ],
       "_ngl_original_stage_parameters": {
        "ambientColor": 14540253,
        "ambientIntensity": 0.2,
        "backgroundColor": "white",
        "cameraEyeSep": 0.3,
        "cameraFov": 40,
        "cameraType": "perspective",
        "clipDist": 10,
        "clipFar": 100,
        "clipNear": 0,
        "fogFar": 100,
        "fogNear": 50,
        "hoverTimeout": 0,
        "impostor": true,
        "lightColor": 14540253,
        "lightIntensity": 1,
        "mousePreset": "default",
        "panSpeed": 1,
        "quality": "medium",
        "rotateSpeed": 2,
        "sampleLevel": 0,
        "tooltip": true,
        "workerDefault": true,
        "zoomSpeed": 1.2
       },
       "_ngl_repr_dict": {
        "0": {
         "0": {
          "params": {
           "clipCenter": {
            "x": 0,
            "y": 0,
            "z": 0
           },
           "clipNear": 0,
           "clipRadius": 0,
           "colorMode": "hcl",
           "colorReverse": false,
           "colorScale": "",
           "colorScheme": "element",
           "colorValue": "orange",
           "defaultAssembly": "",
           "depthWrite": true,
           "diffuse": 16777215,
           "diffuseInterior": false,
           "disableImpostor": false,
           "disablePicking": false,
           "flatShaded": false,
           "interiorColor": 2236962,
           "interiorDarkening": 0,
           "lazy": false,
           "matrix": {
            "elements": [
             1,
             0,
             0,
             0,
             0,
             1,
             0,
             0,
             0,
             0,
             1,
             0,
             0,
             0,
             0,
             1
            ]
           },
           "metalness": 0,
           "opacity": 1,
           "quality": "medium",
           "radialSegments": 10,
           "radiusData": {},
           "radiusScale": 1,
           "radiusSize": 0.5,
           "radiusType": "vdw",
           "roughness": 0.4,
           "sele": "all",
           "side": "double",
           "sphereDetail": 1,
           "useInteriorColor": true,
           "visible": true,
           "wireframe": false
          },
          "type": "unitcell"
         },
         "1": {
          "params": {
           "assembly": "default",
           "clipCenter": {
            "x": 0,
            "y": 0,
            "z": 0
           },
           "clipNear": 0,
           "clipRadius": 0,
           "colorMode": "hcl",
           "colorReverse": false,
           "colorScale": "rainbow",
           "colorScheme": "element",
           "colorValue": 9474192,
           "defaultAssembly": "",
           "depthWrite": true,
           "diffuse": 16777215,
           "diffuseInterior": false,
           "disableImpostor": false,
           "disablePicking": false,
           "flatShaded": false,
           "interiorColor": 2236962,
           "interiorDarkening": 0,
           "lazy": false,
           "matrix": {
            "elements": [
             1,
             0,
             0,
             0,
             0,
             1,
             0,
             0,
             0,
             0,
             1,
             0,
             0,
             0,
             0,
             1
            ]
           },
           "metalness": 0,
           "opacity": 1,
           "quality": "medium",
           "radiusData": {},
           "radiusScale": 0.5,
           "radiusSize": 1,
           "radiusType": "covalent",
           "roughness": 0.4,
           "sele": "all",
           "side": "double",
           "sphereDetail": 1,
           "useInteriorColor": true,
           "visible": true,
           "wireframe": false
          },
          "type": "spacefill"
         },
         "2": {
          "params": {
           "aspectRatio": 2,
           "assembly": "default",
           "bondScale": 0.4,
           "bondSpacing": 1,
           "clipCenter": {
            "x": 0,
            "y": 0,
            "z": 0
           },
           "clipNear": 0,
           "clipRadius": 0,
           "colorMode": "hcl",
           "colorReverse": false,
           "colorScale": "",
           "colorScheme": "element",
           "colorValue": 9474192,
           "cylinderOnly": false,
           "defaultAssembly": "",
           "depthWrite": true,
           "diffuse": 16777215,
           "diffuseInterior": false,
           "disableImpostor": false,
           "disablePicking": false,
           "flatShaded": false,
           "interiorColor": 2236962,
           "interiorDarkening": 0,
           "lazy": false,
           "lineOnly": false,
           "linewidth": 2,
           "matrix": {
            "elements": [
             1,
             0,
             0,
             0,
             0,
             1,
             0,
             0,
             0,
             0,
             1,
             0,
             0,
             0,
             0,
             1
            ]
           },
           "metalness": 0,
           "multipleBond": "off",
           "opacity": 1,
           "openEnded": true,
           "quality": "medium",
           "radialSegments": 10,
           "radiusData": {},
           "radiusScale": 1,
           "radiusSize": 0.15,
           "radiusType": "size",
           "roughness": 0.4,
           "sele": "all",
           "side": "double",
           "sphereDetail": 1,
           "useInteriorColor": true,
           "visible": true,
           "wireframe": false
          },
          "type": "ball+stick"
         }
        }
       },
       "_ngl_serialize": false,
       "_ngl_version": "2.0.0-dev.36",
       "_ngl_view_id": [
        "031F7E36-7F17-4E37-ABAF-F9D8538B1726"
       ],
       "_player_dict": {},
       "_scene_position": {},
       "_scene_rotation": {},
       "_synced_model_ids": [],
       "_synced_repr_model_ids": [],
       "_view_height": "",
       "_view_width": "",
       "background": "white",
       "frame": 0,
       "gui_style": null,
       "layout": "IPY_MODEL_6e2650b37091429b83f601ea39fa8357",
       "max_frame": 2,
       "n_components": 1,
       "picked": {}
      }
     },
     "eaf835bc9e2340be9a2bcf4bdc3ba079": {
      "model_module": "@jupyter-widgets/controls",
      "model_module_version": "1.5.0",
      "model_name": "FloatSliderModel",
      "state": {
       "description": "Force scale",
       "layout": "IPY_MODEL_383c6d6dac4341c6b2732b1d02fb22e0",
       "step": 0.1,
       "style": "IPY_MODEL_845fc90b266a42ee865ec5fec7e97453",
       "value": 0.5
      }
     },
     "eb5c4c9ccd3442ff8a703f4c36344a13": {
      "model_module": "@jupyter-widgets/controls",
      "model_module_version": "1.5.0",
      "model_name": "IntSliderModel",
      "state": {
       "layout": "IPY_MODEL_d58a922e04c94e219f5b380b1a4207f1",
       "max": 0,
       "style": "IPY_MODEL_5cc8cf68a74f499d972e9dbde3161996"
      }
     },
     "eea881a343d6441e8e675a87278eea3e": {
      "model_module": "@jupyter-widgets/base",
      "model_module_version": "1.2.0",
      "model_name": "LayoutModel",
      "state": {}
     },
     "ef9b7deb0a674839bcaa5c47eed30b56": {
      "model_module": "@jupyter-widgets/base",
      "model_module_version": "1.2.0",
      "model_name": "LayoutModel",
      "state": {}
     },
     "efa10b528a3c44f5b98061445b72a033": {
      "model_module": "@jupyter-widgets/controls",
      "model_module_version": "1.5.0",
      "model_name": "ButtonStyleModel",
      "state": {}
     },
     "f07525da46d841659a2d963b36015187": {
      "model_module": "@jupyter-widgets/controls",
      "model_module_version": "1.5.0",
      "model_name": "HBoxModel",
      "state": {
       "children": [
        "IPY_MODEL_d43a57f6b4724f18b0418f44732cc043",
        "IPY_MODEL_eb5c4c9ccd3442ff8a703f4c36344a13"
       ],
       "layout": "IPY_MODEL_b05f518b335c4e5aaeabb4d7e6b791fb"
      }
     },
     "f09f5075843347ba805901ae7d219dca": {
      "model_module": "@jupyter-widgets/controls",
      "model_module_version": "1.5.0",
      "model_name": "DropdownModel",
      "state": {
       "_options_labels": [
        " ",
        "picking",
        "random",
        "uniform",
        "atomindex",
        "residueindex",
        "chainindex",
        "modelindex",
        "sstruc",
        "element",
        "resname",
        "bfactor",
        "hydrophobicity",
        "value",
        "volume",
        "occupancy"
       ],
       "description": "Color scheme",
       "index": 9,
       "layout": "IPY_MODEL_8c86d3a587b54a5c833a4d7c338d68fb",
       "style": "IPY_MODEL_28c2d7d151184b60886d5b2b6e4f7df7"
      }
     },
     "f19c8a2d9b3c4e3298b4a60214831fdd": {
      "model_module": "@jupyter-widgets/base",
      "model_module_version": "1.2.0",
      "model_name": "LayoutModel",
      "state": {}
     },
     "f1cc095e40a0465d96c921f43781493e": {
      "model_module": "@jupyter-widgets/controls",
      "model_module_version": "1.5.0",
      "model_name": "ImageModel",
      "state": {
       "layout": "IPY_MODEL_094376b5667742e4a617c024ee7d1d5b",
       "width": "900.0"
      }
     },
     "f2bf09a7a9c94e2a916e7b1d993543ea": {
      "model_module": "@jupyter-widgets/controls",
      "model_module_version": "1.5.0",
      "model_name": "FloatSliderModel",
      "state": {
       "description": "Ball size",
       "layout": "IPY_MODEL_6bb5b59aaa594ecebe8f57a850fedf16",
       "max": 1.5,
       "step": 0.01,
       "style": "IPY_MODEL_b48c7f3a8652468ba3f2e9c139aedea5",
       "value": 0.5
      }
     },
     "f2d6e48e3f034dffbdef40c34044effd": {
      "model_module": "@jupyter-widgets/base",
      "model_module_version": "1.2.0",
      "model_name": "LayoutModel",
      "state": {}
     },
     "f3bbb4fac4de49618f7ef868086be991": {
      "model_module": "@jupyter-widgets/controls",
      "model_module_version": "1.5.0",
      "model_name": "DropdownModel",
      "state": {
       "_options_labels": [
        "All",
        "Fe"
       ],
       "description": "Show",
       "index": 0,
       "layout": "IPY_MODEL_91c221a9acb54cae94de2385e1ab889b",
       "style": "IPY_MODEL_3c714d4616834d488627c2a8149388bb"
      }
     },
     "f419a92a36004981878195e1a8c701ae": {
      "model_module": "@jupyter-widgets/base",
      "model_module_version": "1.2.0",
      "model_name": "LayoutModel",
      "state": {
       "width": "34px"
      }
     },
     "f61d5af773dc4774a265e1009beca60c": {
      "model_module": "@jupyter-widgets/controls",
      "model_module_version": "1.5.0",
      "model_name": "DescriptionStyleModel",
      "state": {
       "description_width": ""
      }
     },
     "f64663921cb541af8d5b7f81f6753eb9": {
      "model_module": "@jupyter-widgets/base",
      "model_module_version": "1.2.0",
      "model_name": "LayoutModel",
      "state": {}
     },
     "f82f5838bfbc47928de20d0d1d31cfaf": {
      "model_module": "@jupyter-widgets/controls",
      "model_module_version": "1.5.0",
      "model_name": "IntSliderModel",
      "state": {
       "layout": "IPY_MODEL_b8d18795a66443ad96d23bf6e10c65bb",
       "max": 0,
       "style": "IPY_MODEL_9c12e2ae57b04644a510d020d0d85aa8"
      }
     },
     "f83cb83f8259478d92ac355ac13a9ddd": {
      "model_module": "@jupyter-widgets/base",
      "model_module_version": "1.2.0",
      "model_name": "LayoutModel",
      "state": {}
     },
     "f9266eca0b2c4c67b85bb469f3b49535": {
      "model_module": "@jupyter-widgets/controls",
      "model_module_version": "1.5.0",
      "model_name": "ButtonStyleModel",
      "state": {}
     },
     "fb35bd3b19d545eea089dcf7badf1de8": {
      "model_module": "@jupyter-widgets/controls",
      "model_module_version": "1.5.0",
      "model_name": "LinkModel",
      "state": {
       "source": [
        "IPY_MODEL_d43a57f6b4724f18b0418f44732cc043",
        "value"
       ],
       "target": [
        "IPY_MODEL_b21e79646ade400489c957061a33aa79",
        "frame"
       ]
      }
     },
     "fb98e8aac76e40df8d09b8a855a76d47": {
      "model_module": "@jupyter-widgets/controls",
      "model_module_version": "1.5.0",
      "model_name": "SliderStyleModel",
      "state": {
       "description_width": ""
      }
     },
     "fdbe65266acc4c6ca1fc9f4f8a7226a0": {
      "model_module": "@jupyter-widgets/controls",
      "model_module_version": "1.5.0",
      "model_name": "ButtonModel",
      "state": {
       "description": "Save image",
       "layout": "IPY_MODEL_1c5823c7128f4d48949097214d8eda8b",
       "style": "IPY_MODEL_efa10b528a3c44f5b98061445b72a033",
       "tooltip": "Save current frame to file.\nCurrently .png and .html are supported.\nIt takes a bit time, please be patient."
      }
     },
     "fee652d09bb24ad7974e0cde283596f2": {
      "model_module": "@jupyter-widgets/controls",
      "model_module_version": "1.5.0",
      "model_name": "ButtonStyleModel",
      "state": {}
     },
     "ff1247b133764993a4f230905a96543d": {
      "model_module": "@jupyter-widgets/controls",
      "model_module_version": "1.5.0",
      "model_name": "DescriptionStyleModel",
      "state": {
       "description_width": ""
      }
     },
     "ffb34475099e4d56bb4e85a8f93ed8d7": {
      "model_module": "@jupyter-widgets/controls",
      "model_module_version": "1.5.0",
      "model_name": "HBoxModel",
      "state": {
       "children": [
        "IPY_MODEL_3d5c2201f7ff4414b0896559097ab47b",
        "IPY_MODEL_59bf13ebc6204da88c3c138069caf683",
        "IPY_MODEL_2a3690349b5e43368e2573e98bdef108"
       ],
       "layout": "IPY_MODEL_5a5f8e479de244c7ba1a6e540b81c4dd"
      }
     },
     "ffd55a94f3f744e2b330896844e4327f": {
      "model_module": "@jupyter-widgets/base",
      "model_module_version": "1.2.0",
      "model_name": "LayoutModel",
      "state": {}
     }
    },
    "version_major": 2,
    "version_minor": 0
   }
  }
 },
 "nbformat": 4,
 "nbformat_minor": 5
}
