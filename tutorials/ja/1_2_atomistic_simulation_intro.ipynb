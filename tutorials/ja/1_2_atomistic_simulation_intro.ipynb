{
 "cells": [
  {
   "cell_type": "markdown",
   "id": "80bdc53f-b9b1-483b-9843-76f332e83e47",
   "metadata": {},
   "source": [
    "# Atomistic simulation introduction\n",
    "\n",
    "本Tutorialの扱う、”原子シミュレーション”とはどんなことができるものなのでしょうか？その概要を説明します。\n",
    "\n",
    "材料のいろいろな性質は、原子レベルで説明することができます。例えば、機械的特性(弾性定数・ヤング率など)・熱物性(比熱など)・粘性・化学反応の起こりやすさ、、、などです。\n",
    "原子シミュレーションを用いることで、原子を並べたときにどんな風に動くのかを再現したり、そもそも自然界ではどのように原子が並んでいるのかといったことを解析することができます。\n",
    "\n",
    "説明は追って行うことにして、まずは以下のコードをそのまま流してみましょう。"
   ]
  },
  {
   "cell_type": "markdown",
   "id": "9c06760a-fe73-4460-a8e3-fe5e35f01a55",
   "metadata": {},
   "source": [
    "## Initial setup"
   ]
  },
  {
   "cell_type": "markdown",
   "id": "7dcb000e-2902-41f5-a496-e8e074c4c349",
   "metadata": {},
   "source": [
    "Matlantis環境で以下のコマンドを実行することで、本Tutorialの実行に必要なライブラリをインストールできます。\n",
    "\n",
    " - `pfp-api-client`\n",
    " - `matlantis-features`\n",
    " - `pfcc-extras`\n",
    "\n",
    "はMatlantis環境内で提供されているライブラリです。\n",
    "\n",
    "※`pfcc-extras`は、\"Package Launcher\"からフォルダをコピーし、内部のREADMEに従ってインストールを進めてください。<br/>\n",
    "※各ライブラリのインストール後、 インストールの反映にkernelの再起動が必要になる場合があります。インストールされたログが出たにもかかわらず、以降のimport が失敗する場合は、上部タブから\"Restart kernel...\"を選んでkernelの再起動をしてみてください。"
   ]
  },
  {
   "cell_type": "code",
   "execution_count": 1,
   "id": "5d1a40be-42ed-4586-af6b-c17b1b0a0cfc",
   "metadata": {},
   "outputs": [],
   "source": [
    "!pip install pfp-api-client matlantis-features\n",
    "# !pip install -e ../pfcc-extras  # please specify the path"
   ]
  },
  {
   "cell_type": "markdown",
   "id": "7b359343-6da0-4905-924e-d59c22c31c8b",
   "metadata": {},
   "source": [
    "## MD simulationサンプルの実行\n",
    "\n",
    "以下は、地表の主要な成分である二酸化ケイ素(SiO2結晶)に対してMD (分子動力学)シミュレーションを行うサンプルとなっています。\n",
    "\n",
    "この時点で、コードの内容は全く理解できていなくて構いません。<br/>\n",
    "「百聞は一見にしかず」ということで、まずは動かして可視化を行ってみます。<br/>\n",
    "(本Tutorialを終える頃にはこのコードが何を行っているのか、簡単にわかるようになるでしょう。)"
   ]
  },
  {
   "cell_type": "markdown",
   "id": "b1114ec2-116d-4109-9a2e-564348f2e352",
   "metadata": {},
   "source": [
    "Input cif file is from  \n",
    "A. Jain*, S.P. Ong*, G. Hautier, W. Chen, W.D. Richards, S. Dacek, S. Cholia, D. Gunter, D. Skinner, G. Ceder, K.A. Persson (*=equal contributions)  \n",
    "The Materials Project: A materials genome approach to accelerating materials innovation\n",
    "APL Materials, 2013, 1(1), 011002.  \n",
    "[doi:10.1063/1.4812323](http://dx.doi.org/10.1063/1.4812323)  \n",
    "[[bibtex]](https://materialsproject.org/static/docs/jain_ong2013.349ca3156250.bib)  \n",
    "Licensed under [CC BY 4.0](https://creativecommons.org/licenses/by/4.0/)  "
   ]
  },
  {
   "cell_type": "code",
   "execution_count": 2,
   "id": "779bcaa3-b8fb-4c5e-8495-e8bc652ce4a8",
   "metadata": {},
   "outputs": [
    {
     "name": "stdout",
     "output_type": "stream",
     "text": [
      "      Step     Time          Energy         fmax\n",
      "BFGS:    0 04:38:20      -57.053849        0.0401\n",
      "Dyn  step:   0, energy: -1518.387\n",
      "Dyn  step:  10, energy: -1518.330\n",
      "Dyn  step:  20, energy: -1518.335\n",
      "Dyn  step:  30, energy: -1518.358\n",
      "Dyn  step:  40, energy: -1518.341\n",
      "Dyn  step:  50, energy: -1518.340\n",
      "Dyn  step:  60, energy: -1518.351\n",
      "Dyn  step:  70, energy: -1518.351\n",
      "Dyn  step:  80, energy: -1518.342\n",
      "Dyn  step:  90, energy: -1518.346\n",
      "Dyn  step: 100, energy: -1518.354\n"
     ]
    },
    {
     "data": {
      "text/plain": [
       "True"
      ]
     },
     "execution_count": 2,
     "metadata": {},
     "output_type": "execute_result"
    }
   ],
   "source": [
    "from ase.md.velocitydistribution import MaxwellBoltzmannDistribution, Stationary\n",
    "from ase.md.verlet import VelocityVerlet\n",
    "from ase.optimize import BFGS\n",
    "from ase.io import Trajectory, read\n",
    "from ase import units\n",
    "\n",
    "from pfp_api_client.pfp.calculators.ase_calculator import ASECalculator\n",
    "from pfp_api_client.pfp.estimator import Estimator\n",
    "\n",
    "estimator = Estimator()\n",
    "calculator = ASECalculator(estimator)\n",
    "\n",
    "atoms = read(\"../input/SiO2_mp-6930_conventional_standard.cif\")\n",
    "atoms.calc = calculator\n",
    "\n",
    "\n",
    "opt = BFGS(atoms)\n",
    "opt.run()\n",
    "\n",
    "atoms = atoms * (3, 3, 3)\n",
    "atoms.calc = calculator\n",
    "# Set the momenta corresponding to T=700K.\n",
    "MaxwellBoltzmannDistribution(atoms, temperature_K=700.0)\n",
    "# Sets the center-of-mass momentum to zero.\n",
    "Stationary(atoms)\n",
    "# Run MD using the VelocityVerlet algorithm\n",
    "dyn = VelocityVerlet(atoms, 1.0 * units.fs, trajectory=\"output/dyn.traj\")\n",
    "\n",
    "def print_dyn():\n",
    "    print(f\"Dyn  step: {dyn.get_number_of_steps(): >3}, energy: {atoms.get_total_energy():.3f}\")\n",
    "\n",
    "dyn.attach(print_dyn, interval=10)\n",
    "dyn.run(100)"
   ]
  },
  {
   "cell_type": "code",
   "execution_count": 3,
   "id": "0991f16d-f335-469b-bc08-824099459ad0",
   "metadata": {},
   "outputs": [
    {
     "data": {
      "application/vnd.jupyter.widget-view+json": {
       "model_id": "36b546c9d804433eb8681194f1d57059",
       "version_major": 2,
       "version_minor": 0
      },
      "text/plain": []
     },
     "metadata": {},
     "output_type": "display_data"
    },
    {
     "data": {
      "application/vnd.jupyter.widget-view+json": {
       "model_id": "beec0967405e41debb25cd78bb8c11cb",
       "version_major": 2,
       "version_minor": 0
      },
      "text/plain": [
       "HBox(children=(NGLWidget(max_frame=20), VBox(children=(Dropdown(description='Show', options=('All', 'Si', 'O')…"
      ]
     },
     "metadata": {},
     "output_type": "display_data"
    }
   ],
   "source": [
    "from pfcc_extras.visualize.view import view_ngl\n",
    "\n",
    "traj = Trajectory(\"output/dyn.traj\")[::5]\n",
    "view_ngl(traj, representations=[\"ball+stick\"])"
   ]
  },
  {
   "cell_type": "code",
   "execution_count": 6,
   "id": "8f040070-a0b7-45d1-8cde-7f4058377278",
   "metadata": {},
   "outputs": [
    {
     "name": "stderr",
     "output_type": "stream",
     "text": [
      "[Parallel(n_jobs=16)]: Using backend ThreadingBackend with 16 concurrent workers.\n",
      "[Parallel(n_jobs=16)]: Done  12 out of  21 | elapsed:   37.0s remaining:   27.8s\n",
      "[Parallel(n_jobs=16)]: Done  21 out of  21 | elapsed:   47.2s finished\n"
     ]
    },
    {
     "data": {
      "text/html": [
       "<img src=\"output/sio2-md.png\"/>"
      ],
      "text/plain": [
       "<IPython.core.display.Image object>"
      ]
     },
     "execution_count": 6,
     "metadata": {},
     "output_type": "execute_result"
    }
   ],
   "source": [
    "from pfcc_extras.visualize.povray import traj_to_gif, traj_to_apng\n",
    "from IPython.display import Image\n",
    "\n",
    "\n",
    "traj_to_apng(traj, \"output/sio2-md.png\", rotation=\"30x,30y,30z\", clean=True, n_jobs=16, width=600)\n",
    "Image(url=\"output/sio2-md.png\")  # , width=150"
   ]
  },
  {
   "cell_type": "markdown",
   "id": "b5287171-5eb2-4277-8ac4-494a7e5d3a86",
   "metadata": {},
   "source": [
    "上記では分子動力学法とよばれる手法を用いることで、700K の温度環境下でSiO2 結晶の各原子がどのように動くのか、そのダイナミクスを追っています。\n",
    "\n",
    "上記の例では243原子のシミュレーションを行いました。\n",
    "体積で約$3 \\times 10^{-27}$m、長さスケールでみると一辺約 15Å = ($15 \\times 10^{-10}$m)であり、私達が日常生活で扱っている 1m スケールからすると桁違いにミクロな世界です。"
   ]
  },
  {
   "cell_type": "markdown",
   "id": "be1ef8bc-2c85-44be-a6d8-ae4225b17885",
   "metadata": {},
   "source": [
    "ここで、検討しなければならないこととして、私達が扱っている材料をそのままのスケールでまるごとコンピュータ上でシミュレーションすることはできないということです。グラムオーダーの材料でも[アボガドロ数](https://ja.wikipedia.org/wiki/%E3%82%A2%E3%83%9C%E3%82%AC%E3%83%89%E3%83%AD%E5%AE%9A%E6%95%B0)、すなわち $10^{23}$オーダーの原子が存在しており、これだけの多くの数の原子をコンピュータ上で扱うことはできないためです。\n",
    "\n",
    "そのため、原子シミュレーションでは、扱いたい現象に応じて適切な**モデリング** を行うことにより、自然界と全く同じものをつくりあげるのではなく、所望の現象を再現できるように必要な要素だけを抜き出しコンピュータ上で解析できるサイズの簡易化された系をつくりあげて、計算を進めていくことが必要になります。<br/>\n",
    "モデリングには様々なノウハウが存在しますが、本チュートリアルを通して学んでいくことでできるようになってくるでしょう。\n",
    "\n",
    "[コラム] モデリング<br/>\n",
    "例えば、地球をシミュレーションしたいと考えたとき、もしも気象に興味があるのであれば地球表面の大気に注目したモデリングが必要になるでしょう。一方でもし地震に興味があれば大気よりも地球の内部構造に集中してモデル化する必要があります。もし地表の環境を再現したければ地球全体ではなく大陸の一部だけを切り出してきて考えることもあるでしょう。"
   ]
  },
  {
   "cell_type": "markdown",
   "id": "39a7a94f-aa2b-4374-91b4-61e92c5ecc80",
   "metadata": {
    "tags": []
   },
   "source": [
    "再度、シミュレーション結果を見てみましょう。ここで登場するものは、以下のようなものがあります。\n",
    "\n",
    " - 原子\n",
    "    - それぞれの原子が**元素番号**で指定され、**xyz座標値**をもち、**速度**を持っています\n",
    " - **セル**\n",
    "    - 上記図では立方体で表現されている箱のことで、このセルが**周期境界条件**に従って無限に続くような系を扱うことができます。\n",
    "\n",
    "真空中に浮いている分子のようなものを扱う場合には、セル・周期境界条件は必要ありません。\n",
    "固体のように規則的な構造が続くような系は、**周期境界条件**を課すことでx, y, z軸(厳密には結晶軸となるa, b, c軸)それぞれの方向に無限に続くような構造を扱えます。\n",
    "\n",
    "セル・周期境界条件というのは計算理論・モデリングの都合上の人工的な概念です。\n",
    "結晶構造は、現実では内部で規則正しい構造が続き表面では別の構造をとっていると考えられますが、物質の表面は内部とは異なる特殊な状態であるため、水中や結晶のように物質の内部を扱いたい場合に表面を作ってしまうとしばしば不都合が生じます。そこで、セルという世界の限界を人工的に設定し、右端と左端がつながっているという周期境界条件を課すことによって、表面がなく繰り返し続いていく世界を作り出して問題を扱います。"
   ]
  },
  {
   "cell_type": "markdown",
   "id": "a574434e-ad70-4c8b-8be2-350d0ee0eaf9",
   "metadata": {},
   "source": [
    "次章から、こういった構造をPythonプログラムで扱い、原子シミュレーションを行う方法を学んでいきます。"
   ]
  }
 ],
 "metadata": {
  "kernelspec": {
   "display_name": "Python 3.7",
   "language": "python",
   "name": "python37"
  },
  "language_info": {
   "codemirror_mode": {
    "name": "ipython",
    "version": 3
   },
   "file_extension": ".py",
   "mimetype": "text/x-python",
   "name": "python",
   "nbconvert_exporter": "python",
   "pygments_lexer": "ipython3",
   "version": "3.7.13"
  },
  "widgets": {
   "application/vnd.jupyter.widget-state+json": {
    "state": {
     "0256801f2fb84f6e93b93858e3ec1216": {
      "model_module": "@jupyter-widgets/base",
      "model_module_version": "1.2.0",
      "model_name": "LayoutModel",
      "state": {}
     },
     "081ca313445c48fa9cbacb9f26b3c562": {
      "model_module": "@jupyter-widgets/controls",
      "model_module_version": "1.5.0",
      "model_name": "SliderStyleModel",
      "state": {
       "description_width": ""
      }
     },
     "0f5fb712024e4764856127245bc06ebb": {
      "model_module": "@jupyter-widgets/controls",
      "model_module_version": "1.5.0",
      "model_name": "DescriptionStyleModel",
      "state": {
       "description_width": ""
      }
     },
     "122c3d8589574aa7a86d2c9b61c137de": {
      "model_module": "@jupyter-widgets/base",
      "model_module_version": "1.2.0",
      "model_name": "LayoutModel",
      "state": {}
     },
     "138717e97dae4b48b76e8b99b580be79": {
      "model_module": "@jupyter-widgets/base",
      "model_module_version": "1.2.0",
      "model_name": "LayoutModel",
      "state": {
       "width": "34px"
      }
     },
     "1c7999a979d84f1ebbb3d070e8ece589": {
      "model_module": "@jupyter-widgets/controls",
      "model_module_version": "1.5.0",
      "model_name": "ButtonModel",
      "state": {
       "icon": "compress",
       "layout": "IPY_MODEL_138717e97dae4b48b76e8b99b580be79",
       "style": "IPY_MODEL_c10dddfa5f794d439792ff1bfef8621a"
      }
     },
     "1d66c89427d64942a5f69ff9df2fd3e5": {
      "model_module": "@jupyter-widgets/controls",
      "model_module_version": "1.5.0",
      "model_name": "DescriptionStyleModel",
      "state": {
       "description_width": ""
      }
     },
     "1e4cd4760282432995d67cf63f7f1b8e": {
      "model_module": "@jupyter-widgets/base",
      "model_module_version": "1.2.0",
      "model_name": "LayoutModel",
      "state": {}
     },
     "213ef05e60334abb9fe21663d171ba53": {
      "model_module": "@jupyter-widgets/output",
      "model_module_version": "1.0.0",
      "model_name": "OutputModel",
      "state": {
       "layout": "IPY_MODEL_64ccdbefedf645f9b316028ec7ac3825"
      }
     },
     "2985546c09a34d6aafb8eef6feb85adc": {
      "model_module": "@jupyter-widgets/controls",
      "model_module_version": "1.5.0",
      "model_name": "LinkModel",
      "state": {
       "source": [
        "IPY_MODEL_8e13535f14a748f2a31446ac27c26946",
        "max"
       ],
       "target": [
        "IPY_MODEL_679de51ac4f04061a1b4ea2ec0c3cb98",
        "max_frame"
       ]
      }
     },
     "2b16fb92d78745f78fc42aa2ecd353c4": {
      "model_module": "@jupyter-widgets/controls",
      "model_module_version": "1.5.0",
      "model_name": "DescriptionStyleModel",
      "state": {
       "description_width": ""
      }
     },
     "36b546c9d804433eb8681194f1d57059": {
      "model_module": "nglview-js-widgets",
      "model_module_version": "3.0.1",
      "model_name": "ColormakerRegistryModel",
      "state": {
       "_msg_ar": [],
       "_msg_q": [],
       "_ready": true,
       "layout": "IPY_MODEL_a4d4dc12ba164370bb306f4720fc8213"
      }
     },
     "37d0fa18b81a4f6f8059a71267a411a5": {
      "model_module": "@jupyter-widgets/controls",
      "model_module_version": "1.5.0",
      "model_name": "LinkModel",
      "state": {
       "source": [
        "IPY_MODEL_51ab445fb8114848bc9dd6024769aceb",
        "value"
       ],
       "target": [
        "IPY_MODEL_679de51ac4f04061a1b4ea2ec0c3cb98",
        "frame"
       ]
      }
     },
     "38d151a35f09439f930d4831dd84c2e4": {
      "model_module": "@jupyter-widgets/base",
      "model_module_version": "1.2.0",
      "model_name": "LayoutModel",
      "state": {}
     },
     "3ace32b92144441588e9ac0a7c84b79c": {
      "model_module": "@jupyter-widgets/controls",
      "model_module_version": "1.5.0",
      "model_name": "DropdownModel",
      "state": {
       "_options_labels": [
        " ",
        "picking",
        "random",
        "uniform",
        "atomindex",
        "residueindex",
        "chainindex",
        "modelindex",
        "sstruc",
        "element",
        "resname",
        "bfactor",
        "hydrophobicity",
        "value",
        "volume",
        "occupancy"
       ],
       "description": "Color scheme",
       "index": 9,
       "layout": "IPY_MODEL_1e4cd4760282432995d67cf63f7f1b8e",
       "style": "IPY_MODEL_2b16fb92d78745f78fc42aa2ecd353c4"
      }
     },
     "3dfbb49187e641838f60d7f8436a10c9": {
      "model_module": "@jupyter-widgets/base",
      "model_module_version": "1.2.0",
      "model_name": "LayoutModel",
      "state": {}
     },
     "4a26783710b044f0b8eff34960a73152": {
      "model_module": "@jupyter-widgets/base",
      "model_module_version": "1.2.0",
      "model_name": "LayoutModel",
      "state": {}
     },
     "4c2d67aa61b445909082e55889112c32": {
      "model_module": "@jupyter-widgets/controls",
      "model_module_version": "1.5.0",
      "model_name": "ButtonStyleModel",
      "state": {}
     },
     "4cc8a777a7ef4baa980d96e99086e700": {
      "model_module": "@jupyter-widgets/controls",
      "model_module_version": "1.5.0",
      "model_name": "DescriptionStyleModel",
      "state": {
       "description_width": ""
      }
     },
     "4ccecc7b63fa46b19bec4e71bcc8b4cb": {
      "model_module": "@jupyter-widgets/base",
      "model_module_version": "1.2.0",
      "model_name": "LayoutModel",
      "state": {}
     },
     "4eeb011c90554f9a930f0d096be67ab7": {
      "model_module": "@jupyter-widgets/controls",
      "model_module_version": "1.5.0",
      "model_name": "ButtonModel",
      "state": {
       "description": "Save image",
       "layout": "IPY_MODEL_a93902ff76004ae8b39e73421d2e35ad",
       "style": "IPY_MODEL_62abd0369f594e678efab36d6593ebe1",
       "tooltip": "Save current frame to file.\nCurrently .png and .html are supported.\nIt takes a bit time, please be patient."
      }
     },
     "4f27379173824186b86aa69b4c095525": {
      "model_module": "@jupyter-widgets/controls",
      "model_module_version": "1.5.0",
      "model_name": "VBoxModel",
      "state": {
       "children": [
        "IPY_MODEL_794f51955829415ea82f942f03824063",
        "IPY_MODEL_3ace32b92144441588e9ac0a7c84b79c",
        "IPY_MODEL_a6ebbe0e039041a398ab7c4d6f3f825e",
        "IPY_MODEL_655bd03c36bf45378042346edacefc1d",
        "IPY_MODEL_a1e0eae6c8e746b484b063dfddb7de5e",
        "IPY_MODEL_fa8e8f6b221740b5b5df68d66fd8cbc2",
        "IPY_MODEL_5f7fe639fe7e493db74e90a3b117388a",
        "IPY_MODEL_8497ca2632dd472b8893223d48a8981e",
        "IPY_MODEL_ae2a1370cf9b42f5ab74ea3f148c336a",
        "IPY_MODEL_625f721b438849cea43d5e2671496cca",
        "IPY_MODEL_213ef05e60334abb9fe21663d171ba53"
       ],
       "layout": "IPY_MODEL_d4ec9d84135d4d3196e5b1b2e9f8f87b"
      }
     },
     "51ab445fb8114848bc9dd6024769aceb": {
      "model_module": "@jupyter-widgets/controls",
      "model_module_version": "1.5.0",
      "model_name": "PlayModel",
      "state": {
       "layout": "IPY_MODEL_38d151a35f09439f930d4831dd84c2e4",
       "max": 20,
       "style": "IPY_MODEL_9463cee9091f46a4a692454b9160e2da"
      }
     },
     "53c570cbd4494fd3a8692cf325750cd1": {
      "model_module": "@jupyter-widgets/base",
      "model_module_version": "1.2.0",
      "model_name": "LayoutModel",
      "state": {}
     },
     "55c19267518f4a37908e7cfa616024e1": {
      "model_module": "@jupyter-widgets/base",
      "model_module_version": "1.2.0",
      "model_name": "LayoutModel",
      "state": {}
     },
     "56ada0cc000440978eb35eb02981fcca": {
      "model_module": "@jupyter-widgets/base",
      "model_module_version": "1.2.0",
      "model_name": "LayoutModel",
      "state": {}
     },
     "5f7fe639fe7e493db74e90a3b117388a": {
      "model_module": "@jupyter-widgets/controls",
      "model_module_version": "1.5.0",
      "model_name": "CheckboxModel",
      "state": {
       "description": "Show force",
       "disabled": false,
       "layout": "IPY_MODEL_4ccecc7b63fa46b19bec4e71bcc8b4cb",
       "style": "IPY_MODEL_8189cefc2c104c3199cae2125d91e572",
       "value": false
      }
     },
     "62590a88f1064cf9a5e96afc26c217f3": {
      "model_module": "@jupyter-widgets/base",
      "model_module_version": "1.2.0",
      "model_name": "LayoutModel",
      "state": {}
     },
     "625f721b438849cea43d5e2671496cca": {
      "model_module": "@jupyter-widgets/controls",
      "model_module_version": "1.5.0",
      "model_name": "FloatSliderModel",
      "state": {
       "description": "Charge scale",
       "layout": "IPY_MODEL_fad9219aef4e4005a559521b4b4911d4",
       "step": 0.1,
       "style": "IPY_MODEL_a0d2c6f811c24dce9413de3231d5da19",
       "value": 1
      }
     },
     "62abd0369f594e678efab36d6593ebe1": {
      "model_module": "@jupyter-widgets/controls",
      "model_module_version": "1.5.0",
      "model_name": "ButtonStyleModel",
      "state": {}
     },
     "64ccdbefedf645f9b316028ec7ac3825": {
      "model_module": "@jupyter-widgets/base",
      "model_module_version": "1.2.0",
      "model_name": "LayoutModel",
      "state": {
       "border": "0px solid black"
      }
     },
     "655bd03c36bf45378042346edacefc1d": {
      "model_module": "@jupyter-widgets/controls",
      "model_module_version": "1.5.0",
      "model_name": "IntSliderModel",
      "state": {
       "layout": "IPY_MODEL_d04cf1c3b7c040f7a534ee6fe22f6333",
       "max": 20,
       "style": "IPY_MODEL_7e95abb59d41424cbd5d5ce085033476"
      }
     },
     "679de51ac4f04061a1b4ea2ec0c3cb98": {
      "model_module": "nglview-js-widgets",
      "model_module_version": "3.0.1",
      "model_name": "NGLModel",
      "state": {
       "_camera_orientation": [
        34.35083829820818,
        0,
        0,
        0,
        0,
        34.35083829820818,
        0,
        0,
        0,
        0,
        34.35083829820818,
        0,
        -3.894500255584717,
        -6.18149995803833,
        -7.921500205993652,
        1
       ],
       "_camera_str": "orthographic",
       "_gui_theme": null,
       "_ibtn_fullscreen": "IPY_MODEL_1c7999a979d84f1ebbb3d070e8ece589",
       "_igui": null,
       "_iplayer": "IPY_MODEL_f2d45d09c5c149de9b16296c9f6fa47a",
       "_ngl_color_dict": {},
       "_ngl_coordinate_resource": {},
       "_ngl_full_stage_parameters": {
        "ambientColor": 14540253,
        "ambientIntensity": 0.2,
        "backgroundColor": "white",
        "cameraEyeSep": 0.3,
        "cameraFov": 40,
        "cameraType": "orthographic",
        "clipDist": 0,
        "clipFar": 100,
        "clipNear": 0,
        "fogFar": 100,
        "fogNear": 50,
        "hoverTimeout": 0,
        "impostor": true,
        "lightColor": 14540253,
        "lightIntensity": 1,
        "mousePreset": "default",
        "panSpeed": 1,
        "quality": "medium",
        "rotateSpeed": 2,
        "sampleLevel": 0,
        "tooltip": true,
        "workerDefault": true,
        "zoomSpeed": 1.2
       },
       "_ngl_msg_archive": [
        {
         "args": [
          {
           "binary": false,
           "data": "CRYST1   15.083   15.083   16.557  90.00  90.00 120.00 P 1\nMODEL     1\nATOM      1   Si MOL     1       1.314   2.276   0.000  1.00  0.00          SI  \nATOM      2   Si MOL     1       2.400   0.000   3.679  1.00  0.00          SI  \nATOM      3   Si MOL     1       3.828   2.078   1.840  1.00  0.00          SI  \nATOM      4    O MOL     1       0.831   3.654   4.805  1.00  0.00           O  \nATOM      5    O MOL     1      -1.066   3.247   2.966  1.00  0.00           O  \nATOM      6    O MOL     1       0.235   1.807   1.126  1.00  0.00           O  \nATOM      7    O MOL     1       2.749   2.547   0.714  1.00  0.00           O  \nATOM      8    O MOL     1       3.345   0.700   2.553  1.00  0.00           O  \nATOM      9    O MOL     1       1.447   1.107   4.393  1.00  0.00           O  \nATOM     10   Si MOL     1       1.314   2.276   5.519  1.00  0.00          SI  \nATOM     11   Si MOL     1       2.400   0.000   9.198  1.00  0.00          SI  \nATOM     12   Si MOL     1       3.828   2.078   7.359  1.00  0.00          SI  \nATOM     13    O MOL     1       0.831   3.654  10.324  1.00  0.00           O  \nATOM     14    O MOL     1      -1.066   3.247   8.484  1.00  0.00           O  \nATOM     15    O MOL     1       0.235   1.807   6.645  1.00  0.00           O  \nATOM     16    O MOL     1       2.749   2.547   6.233  1.00  0.00           O  \nATOM     17    O MOL     1       3.345   0.700   8.072  1.00  0.00           O  \nATOM     18    O MOL     1       1.447   1.107   9.912  1.00  0.00           O  \nATOM     19   Si MOL     1       1.314   2.276  11.038  1.00  0.00          SI  \nATOM     20   Si MOL     1       2.400   0.000  14.717  1.00  0.00          SI  \nATOM     21   Si MOL     1       3.828   2.078  12.877  1.00  0.00          SI  \nATOM     22    O MOL     1       0.831   3.654  15.843  1.00  0.00           O  \nATOM     23    O MOL     1      -1.066   3.247  14.003  1.00  0.00           O  \nATOM     24    O MOL     1       0.235   1.807  12.164  1.00  0.00           O  \nATOM     25    O MOL     1       2.749   2.547  11.752  1.00  0.00           O  \nATOM     26    O MOL     1       3.345   0.700  13.591  1.00  0.00           O  \nATOM     27    O MOL     1       1.447   1.107  15.431  1.00  0.00           O  \nATOM     28   Si MOL     1      -1.200   6.630   0.000  1.00  0.00          SI  \nATOM     29   Si MOL     1      -0.114   4.354   3.679  1.00  0.00          SI  \nATOM     30   Si MOL     1       1.314   6.432   1.840  1.00  0.00          SI  \nATOM     31    O MOL     1      -1.683   8.008   4.805  1.00  0.00           O  \nATOM     32    O MOL     1      -3.580   7.601   2.966  1.00  0.00           O  \nATOM     33    O MOL     1      -2.279   6.161   1.126  1.00  0.00           O  \nATOM     34    O MOL     1       0.235   6.901   0.714  1.00  0.00           O  \nATOM     35    O MOL     1       0.831   5.054   2.553  1.00  0.00           O  \nATOM     36    O MOL     1      -1.066   5.461   4.393  1.00  0.00           O  \nATOM     37   Si MOL     1      -1.200   6.630   5.519  1.00  0.00          SI  \nATOM     38   Si MOL     1      -0.114   4.354   9.198  1.00  0.00          SI  \nATOM     39   Si MOL     1       1.314   6.432   7.359  1.00  0.00          SI  \nATOM     40    O MOL     1      -1.683   8.008  10.324  1.00  0.00           O  \nATOM     41    O MOL     1      -3.580   7.601   8.484  1.00  0.00           O  \nATOM     42    O MOL     1      -2.279   6.161   6.645  1.00  0.00           O  \nATOM     43    O MOL     1       0.235   6.901   6.233  1.00  0.00           O  \nATOM     44    O MOL     1       0.831   5.054   8.072  1.00  0.00           O  \nATOM     45    O MOL     1      -1.066   5.461   9.912  1.00  0.00           O  \nATOM     46   Si MOL     1      -1.200   6.630  11.038  1.00  0.00          SI  \nATOM     47   Si MOL     1      -0.114   4.354  14.717  1.00  0.00          SI  \nATOM     48   Si MOL     1       1.314   6.432  12.877  1.00  0.00          SI  \nATOM     49    O MOL     1      -1.683   8.008  15.843  1.00  0.00           O  \nATOM     50    O MOL     1      -3.580   7.601  14.003  1.00  0.00           O  \nATOM     51    O MOL     1      -2.279   6.161  12.164  1.00  0.00           O  \nATOM     52    O MOL     1       0.235   6.901  11.752  1.00  0.00           O  \nATOM     53    O MOL     1       0.831   5.054  13.591  1.00  0.00           O  \nATOM     54    O MOL     1      -1.066   5.461  15.431  1.00  0.00           O  \nATOM     55   Si MOL     1      -3.714  10.984   0.000  1.00  0.00          SI  \nATOM     56   Si MOL     1      -2.628   8.708   3.679  1.00  0.00          SI  \nATOM     57   Si MOL     1      -1.200  10.787   1.840  1.00  0.00          SI  \nATOM     58    O MOL     1      -4.197  12.363   4.805  1.00  0.00           O  \nATOM     59    O MOL     1      -6.094  11.955   2.966  1.00  0.00           O  \nATOM     60    O MOL     1      -4.793  10.516   1.126  1.00  0.00           O  \nATOM     61    O MOL     1      -2.279  11.255   0.714  1.00  0.00           O  \nATOM     62    O MOL     1      -1.683   9.408   2.553  1.00  0.00           O  \nATOM     63    O MOL     1      -3.580   9.816   4.393  1.00  0.00           O  \nATOM     64   Si MOL     1      -3.714  10.984   5.519  1.00  0.00          SI  \nATOM     65   Si MOL     1      -2.628   8.708   9.198  1.00  0.00          SI  \nATOM     66   Si MOL     1      -1.200  10.787   7.359  1.00  0.00          SI  \nATOM     67    O MOL     1      -4.197  12.363  10.324  1.00  0.00           O  \nATOM     68    O MOL     1      -6.094  11.955   8.484  1.00  0.00           O  \nATOM     69    O MOL     1      -4.793  10.516   6.645  1.00  0.00           O  \nATOM     70    O MOL     1      -2.279  11.255   6.233  1.00  0.00           O  \nATOM     71    O MOL     1      -1.683   9.408   8.072  1.00  0.00           O  \nATOM     72    O MOL     1      -3.580   9.816   9.912  1.00  0.00           O  \nATOM     73   Si MOL     1      -3.714  10.984  11.038  1.00  0.00          SI  \nATOM     74   Si MOL     1      -2.628   8.708  14.717  1.00  0.00          SI  \nATOM     75   Si MOL     1      -1.200  10.787  12.877  1.00  0.00          SI  \nATOM     76    O MOL     1      -4.197  12.363  15.843  1.00  0.00           O  \nATOM     77    O MOL     1      -6.094  11.955  14.003  1.00  0.00           O  \nATOM     78    O MOL     1      -4.793  10.516  12.164  1.00  0.00           O  \nATOM     79    O MOL     1      -2.279  11.255  11.752  1.00  0.00           O  \nATOM     80    O MOL     1      -1.683   9.408  13.591  1.00  0.00           O  \nATOM     81    O MOL     1      -3.580   9.816  15.431  1.00  0.00           O  \nATOM     82   Si MOL     1       6.342   2.276   0.000  1.00  0.00          SI  \nATOM     83   Si MOL     1       7.427   0.000   3.679  1.00  0.00          SI  \nATOM     84   Si MOL     1       8.856   2.078   1.840  1.00  0.00          SI  \nATOM     85    O MOL     1       5.859   3.654   4.805  1.00  0.00           O  \nATOM     86    O MOL     1       3.961   3.247   2.966  1.00  0.00           O  \nATOM     87    O MOL     1       5.263   1.807   1.126  1.00  0.00           O  \nATOM     88    O MOL     1       7.777   2.547   0.714  1.00  0.00           O  \nATOM     89    O MOL     1       8.373   0.700   2.553  1.00  0.00           O  \nATOM     90    O MOL     1       6.475   1.107   4.393  1.00  0.00           O  \nATOM     91   Si MOL     1       6.342   2.276   5.519  1.00  0.00          SI  \nATOM     92   Si MOL     1       7.427   0.000   9.198  1.00  0.00          SI  \nATOM     93   Si MOL     1       8.856   2.078   7.359  1.00  0.00          SI  \nATOM     94    O MOL     1       5.859   3.654  10.324  1.00  0.00           O  \nATOM     95    O MOL     1       3.961   3.247   8.484  1.00  0.00           O  \nATOM     96    O MOL     1       5.263   1.807   6.645  1.00  0.00           O  \nATOM     97    O MOL     1       7.777   2.547   6.233  1.00  0.00           O  \nATOM     98    O MOL     1       8.373   0.700   8.072  1.00  0.00           O  \nATOM     99    O MOL     1       6.475   1.107   9.912  1.00  0.00           O  \nATOM    100   Si MOL     1       6.342   2.276  11.038  1.00  0.00          SI  \nATOM    101   Si MOL     1       7.427   0.000  14.717  1.00  0.00          SI  \nATOM    102   Si MOL     1       8.856   2.078  12.877  1.00  0.00          SI  \nATOM    103    O MOL     1       5.859   3.654  15.843  1.00  0.00           O  \nATOM    104    O MOL     1       3.961   3.247  14.003  1.00  0.00           O  \nATOM    105    O MOL     1       5.263   1.807  12.164  1.00  0.00           O  \nATOM    106    O MOL     1       7.777   2.547  11.752  1.00  0.00           O  \nATOM    107    O MOL     1       8.373   0.700  13.591  1.00  0.00           O  \nATOM    108    O MOL     1       6.475   1.107  15.431  1.00  0.00           O  \nATOM    109   Si MOL     1       3.828   6.630   0.000  1.00  0.00          SI  \nATOM    110   Si MOL     1       4.914   4.354   3.679  1.00  0.00          SI  \nATOM    111   Si MOL     1       6.342   6.432   1.840  1.00  0.00          SI  \nATOM    112    O MOL     1       3.345   8.008   4.805  1.00  0.00           O  \nATOM    113    O MOL     1       1.447   7.601   2.966  1.00  0.00           O  \nATOM    114    O MOL     1       2.749   6.161   1.126  1.00  0.00           O  \nATOM    115    O MOL     1       5.263   6.901   0.714  1.00  0.00           O  \nATOM    116    O MOL     1       5.859   5.054   2.553  1.00  0.00           O  \nATOM    117    O MOL     1       3.961   5.461   4.393  1.00  0.00           O  \nATOM    118   Si MOL     1       3.828   6.630   5.519  1.00  0.00          SI  \nATOM    119   Si MOL     1       4.914   4.354   9.198  1.00  0.00          SI  \nATOM    120   Si MOL     1       6.342   6.432   7.359  1.00  0.00          SI  \nATOM    121    O MOL     1       3.345   8.008  10.324  1.00  0.00           O  \nATOM    122    O MOL     1       1.447   7.601   8.484  1.00  0.00           O  \nATOM    123    O MOL     1       2.749   6.161   6.645  1.00  0.00           O  \nATOM    124    O MOL     1       5.263   6.901   6.233  1.00  0.00           O  \nATOM    125    O MOL     1       5.859   5.054   8.072  1.00  0.00           O  \nATOM    126    O MOL     1       3.961   5.461   9.912  1.00  0.00           O  \nATOM    127   Si MOL     1       3.828   6.630  11.038  1.00  0.00          SI  \nATOM    128   Si MOL     1       4.914   4.354  14.717  1.00  0.00          SI  \nATOM    129   Si MOL     1       6.342   6.432  12.877  1.00  0.00          SI  \nATOM    130    O MOL     1       3.345   8.008  15.843  1.00  0.00           O  \nATOM    131    O MOL     1       1.447   7.601  14.003  1.00  0.00           O  \nATOM    132    O MOL     1       2.749   6.161  12.164  1.00  0.00           O  \nATOM    133    O MOL     1       5.263   6.901  11.752  1.00  0.00           O  \nATOM    134    O MOL     1       5.859   5.054  13.591  1.00  0.00           O  \nATOM    135    O MOL     1       3.961   5.461  15.431  1.00  0.00           O  \nATOM    136   Si MOL     1       1.314  10.984   0.000  1.00  0.00          SI  \nATOM    137   Si MOL     1       2.400   8.708   3.679  1.00  0.00          SI  \nATOM    138   Si MOL     1       3.828  10.787   1.840  1.00  0.00          SI  \nATOM    139    O MOL     1       0.831  12.363   4.805  1.00  0.00           O  \nATOM    140    O MOL     1      -1.066  11.955   2.966  1.00  0.00           O  \nATOM    141    O MOL     1       0.235  10.516   1.126  1.00  0.00           O  \nATOM    142    O MOL     1       2.749  11.255   0.714  1.00  0.00           O  \nATOM    143    O MOL     1       3.345   9.408   2.553  1.00  0.00           O  \nATOM    144    O MOL     1       1.447   9.816   4.393  1.00  0.00           O  \nATOM    145   Si MOL     1       1.314  10.984   5.519  1.00  0.00          SI  \nATOM    146   Si MOL     1       2.400   8.708   9.198  1.00  0.00          SI  \nATOM    147   Si MOL     1       3.828  10.787   7.359  1.00  0.00          SI  \nATOM    148    O MOL     1       0.831  12.363  10.324  1.00  0.00           O  \nATOM    149    O MOL     1      -1.066  11.955   8.484  1.00  0.00           O  \nATOM    150    O MOL     1       0.235  10.516   6.645  1.00  0.00           O  \nATOM    151    O MOL     1       2.749  11.255   6.233  1.00  0.00           O  \nATOM    152    O MOL     1       3.345   9.408   8.072  1.00  0.00           O  \nATOM    153    O MOL     1       1.447   9.816   9.912  1.00  0.00           O  \nATOM    154   Si MOL     1       1.314  10.984  11.038  1.00  0.00          SI  \nATOM    155   Si MOL     1       2.400   8.708  14.717  1.00  0.00          SI  \nATOM    156   Si MOL     1       3.828  10.787  12.877  1.00  0.00          SI  \nATOM    157    O MOL     1       0.831  12.363  15.843  1.00  0.00           O  \nATOM    158    O MOL     1      -1.066  11.955  14.003  1.00  0.00           O  \nATOM    159    O MOL     1       0.235  10.516  12.164  1.00  0.00           O  \nATOM    160    O MOL     1       2.749  11.255  11.752  1.00  0.00           O  \nATOM    161    O MOL     1       3.345   9.408  13.591  1.00  0.00           O  \nATOM    162    O MOL     1       1.447   9.816  15.431  1.00  0.00           O  \nATOM    163   Si MOL     1      11.370   2.276   0.000  1.00  0.00          SI  \nATOM    164   Si MOL     1      12.455   0.000   3.679  1.00  0.00          SI  \nATOM    165   Si MOL     1      13.883   2.078   1.840  1.00  0.00          SI  \nATOM    166    O MOL     1      10.887   3.654   4.805  1.00  0.00           O  \nATOM    167    O MOL     1       8.989   3.247   2.966  1.00  0.00           O  \nATOM    168    O MOL     1      10.291   1.807   1.126  1.00  0.00           O  \nATOM    169    O MOL     1      12.805   2.547   0.714  1.00  0.00           O  \nATOM    170    O MOL     1      13.401   0.700   2.553  1.00  0.00           O  \nATOM    171    O MOL     1      11.503   1.107   4.393  1.00  0.00           O  \nATOM    172   Si MOL     1      11.370   2.276   5.519  1.00  0.00          SI  \nATOM    173   Si MOL     1      12.455   0.000   9.198  1.00  0.00          SI  \nATOM    174   Si MOL     1      13.883   2.078   7.359  1.00  0.00          SI  \nATOM    175    O MOL     1      10.887   3.654  10.324  1.00  0.00           O  \nATOM    176    O MOL     1       8.989   3.247   8.484  1.00  0.00           O  \nATOM    177    O MOL     1      10.291   1.807   6.645  1.00  0.00           O  \nATOM    178    O MOL     1      12.805   2.547   6.233  1.00  0.00           O  \nATOM    179    O MOL     1      13.401   0.700   8.072  1.00  0.00           O  \nATOM    180    O MOL     1      11.503   1.107   9.912  1.00  0.00           O  \nATOM    181   Si MOL     1      11.370   2.276  11.038  1.00  0.00          SI  \nATOM    182   Si MOL     1      12.455   0.000  14.717  1.00  0.00          SI  \nATOM    183   Si MOL     1      13.883   2.078  12.877  1.00  0.00          SI  \nATOM    184    O MOL     1      10.887   3.654  15.843  1.00  0.00           O  \nATOM    185    O MOL     1       8.989   3.247  14.003  1.00  0.00           O  \nATOM    186    O MOL     1      10.291   1.807  12.164  1.00  0.00           O  \nATOM    187    O MOL     1      12.805   2.547  11.752  1.00  0.00           O  \nATOM    188    O MOL     1      13.401   0.700  13.591  1.00  0.00           O  \nATOM    189    O MOL     1      11.503   1.107  15.431  1.00  0.00           O  \nATOM    190   Si MOL     1       8.856   6.630   0.000  1.00  0.00          SI  \nATOM    191   Si MOL     1       9.941   4.354   3.679  1.00  0.00          SI  \nATOM    192   Si MOL     1      11.370   6.432   1.840  1.00  0.00          SI  \nATOM    193    O MOL     1       8.373   8.008   4.805  1.00  0.00           O  \nATOM    194    O MOL     1       6.475   7.601   2.966  1.00  0.00           O  \nATOM    195    O MOL     1       7.777   6.161   1.126  1.00  0.00           O  \nATOM    196    O MOL     1      10.291   6.901   0.714  1.00  0.00           O  \nATOM    197    O MOL     1      10.887   5.054   2.553  1.00  0.00           O  \nATOM    198    O MOL     1       8.989   5.461   4.393  1.00  0.00           O  \nATOM    199   Si MOL     1       8.856   6.630   5.519  1.00  0.00          SI  \nATOM    200   Si MOL     1       9.941   4.354   9.198  1.00  0.00          SI  \nATOM    201   Si MOL     1      11.370   6.432   7.359  1.00  0.00          SI  \nATOM    202    O MOL     1       8.373   8.008  10.324  1.00  0.00           O  \nATOM    203    O MOL     1       6.475   7.601   8.484  1.00  0.00           O  \nATOM    204    O MOL     1       7.777   6.161   6.645  1.00  0.00           O  \nATOM    205    O MOL     1      10.291   6.901   6.233  1.00  0.00           O  \nATOM    206    O MOL     1      10.887   5.054   8.072  1.00  0.00           O  \nATOM    207    O MOL     1       8.989   5.461   9.912  1.00  0.00           O  \nATOM    208   Si MOL     1       8.856   6.630  11.038  1.00  0.00          SI  \nATOM    209   Si MOL     1       9.941   4.354  14.717  1.00  0.00          SI  \nATOM    210   Si MOL     1      11.370   6.432  12.877  1.00  0.00          SI  \nATOM    211    O MOL     1       8.373   8.008  15.843  1.00  0.00           O  \nATOM    212    O MOL     1       6.475   7.601  14.003  1.00  0.00           O  \nATOM    213    O MOL     1       7.777   6.161  12.164  1.00  0.00           O  \nATOM    214    O MOL     1      10.291   6.901  11.752  1.00  0.00           O  \nATOM    215    O MOL     1      10.887   5.054  13.591  1.00  0.00           O  \nATOM    216    O MOL     1       8.989   5.461  15.431  1.00  0.00           O  \nATOM    217   Si MOL     1       6.342  10.984   0.000  1.00  0.00          SI  \nATOM    218   Si MOL     1       7.427   8.708   3.679  1.00  0.00          SI  \nATOM    219   Si MOL     1       8.856  10.787   1.840  1.00  0.00          SI  \nATOM    220    O MOL     1       5.859  12.363   4.805  1.00  0.00           O  \nATOM    221    O MOL     1       3.961  11.955   2.966  1.00  0.00           O  \nATOM    222    O MOL     1       5.263  10.516   1.126  1.00  0.00           O  \nATOM    223    O MOL     1       7.777  11.255   0.714  1.00  0.00           O  \nATOM    224    O MOL     1       8.373   9.408   2.553  1.00  0.00           O  \nATOM    225    O MOL     1       6.475   9.816   4.393  1.00  0.00           O  \nATOM    226   Si MOL     1       6.342  10.984   5.519  1.00  0.00          SI  \nATOM    227   Si MOL     1       7.427   8.708   9.198  1.00  0.00          SI  \nATOM    228   Si MOL     1       8.856  10.787   7.359  1.00  0.00          SI  \nATOM    229    O MOL     1       5.859  12.363  10.324  1.00  0.00           O  \nATOM    230    O MOL     1       3.961  11.955   8.484  1.00  0.00           O  \nATOM    231    O MOL     1       5.263  10.516   6.645  1.00  0.00           O  \nATOM    232    O MOL     1       7.777  11.255   6.233  1.00  0.00           O  \nATOM    233    O MOL     1       8.373   9.408   8.072  1.00  0.00           O  \nATOM    234    O MOL     1       6.475   9.816   9.912  1.00  0.00           O  \nATOM    235   Si MOL     1       6.342  10.984  11.038  1.00  0.00          SI  \nATOM    236   Si MOL     1       7.427   8.708  14.717  1.00  0.00          SI  \nATOM    237   Si MOL     1       8.856  10.787  12.877  1.00  0.00          SI  \nATOM    238    O MOL     1       5.859  12.363  15.843  1.00  0.00           O  \nATOM    239    O MOL     1       3.961  11.955  14.003  1.00  0.00           O  \nATOM    240    O MOL     1       5.263  10.516  12.164  1.00  0.00           O  \nATOM    241    O MOL     1       7.777  11.255  11.752  1.00  0.00           O  \nATOM    242    O MOL     1       8.373   9.408  13.591  1.00  0.00           O  \nATOM    243    O MOL     1       6.475   9.816  15.431  1.00  0.00           O  \nENDMDL\n",
           "type": "blob"
          }
         ],
         "kwargs": {
          "defaultRepresentation": false,
          "ext": "pdb"
         },
         "methodName": "loadFile",
         "reconstruc_color_scheme": false,
         "target": "Stage",
         "type": "call_method"
        },
        {
         "args": [
          "500px",
          "500px"
         ],
         "kwargs": {},
         "methodName": "setSize",
         "reconstruc_color_scheme": false,
         "target": "Widget",
         "type": "call_method"
        },
        {
         "args": [
          "unitcell"
         ],
         "component_index": 0,
         "kwargs": {
          "sele": "all"
         },
         "methodName": "addRepresentation",
         "reconstruc_color_scheme": false,
         "target": "compList",
         "type": "call_method"
        },
        {
         "args": [
          "spacefill"
         ],
         "component_index": 0,
         "kwargs": {
          "sele": "all"
         },
         "methodName": "addRepresentation",
         "reconstruc_color_scheme": false,
         "target": "compList",
         "type": "call_method"
        },
        {
         "args": [],
         "kwargs": {
          "cameraType": "orthographic"
         },
         "methodName": "setParameters",
         "reconstruc_color_scheme": false,
         "target": "Stage",
         "type": "call_method"
        },
        {
         "args": [
          {
           "clipDist": 0
          }
         ],
         "kwargs": {},
         "methodName": "setParameters",
         "reconstruc_color_scheme": false,
         "target": "Widget",
         "type": "call_method"
        },
        {
         "args": [
          "spacefill",
          0
         ],
         "kwargs": {
          "colorScale": "rainbow",
          "colorScheme": "element",
          "radiusScale": 0.5,
          "radiusType": "covalent"
         },
         "methodName": "updateRepresentationsByName",
         "reconstruc_color_scheme": false,
         "target": "Widget",
         "type": "call_method"
        },
        {
         "args": [
          "this._Q = [[1.0, 0.0, 0.0], [0.0, 1.0, 0.0], [0.0, 0.0, 1.0]]\n    var tooltip = document.createElement('div')\n    Object.assign(tooltip.style, {\n      display: 'none',\n      position: 'fixed',\n      zIndex: 10,\n      pointerEvents: 'none',\n      backgroundColor: 'rgba( 0, 0, 0, 0.6 )',\n      color: 'lightgrey',\n      padding: '8px',\n      fontFamily: 'sans-serif'\n    })\n    document.body.appendChild(tooltip)\n\n    var that = this\n    this.stage.mouseControls.remove('hoverPick')\n    this.stage.signals.hovered.add(function (pickingProxy) {\n      if (pickingProxy && (pickingProxy.atom || pickingProxy.bond)) {\n        var atom = pickingProxy.atom || pickingProxy.closestBondAtom\n        var mp = pickingProxy.mouse.position\n        //tooltip.innerText = atom.element + ' i=' + atom.index + ' (' + atom.x.toFixed(2) +  ', ' + atom.y.toFixed(2) +  ', ' + atom.z.toFixed(2) + ')'\n        //var pos = that._atoms_pos[atom.index]\n        var Q = that._Q\n        var pos_x = Q[0][0] * atom.x + Q[0][1] * atom.y + Q[0][2] * atom.z \n        var pos_y = Q[1][0] * atom.x + Q[1][1] * atom.y + Q[1][2] * atom.z\n        var pos_z = Q[2][0] * atom.x + Q[2][1] * atom.y + Q[2][2] * atom.z\n        tooltip.innerText = 'i=' + atom.index + ' ' + atom.element + ' (' + pos_x.toFixed(2) +  ', ' + pos_y.toFixed(2) +  ', ' + pos_z.toFixed(2) + ')'\n        tooltip.style.bottom = window.innerHeight - mp.y + 3 + 'px'\n        tooltip.style.left = mp.x + 3 + 'px'\n        tooltip.style.display = 'block'\n      } else {\n        tooltip.style.display = 'none'\n      }\n    })\n    "
         ],
         "kwargs": {},
         "methodName": "executeCode",
         "reconstruc_color_scheme": false,
         "target": "Widget",
         "type": "call_method"
        },
        {
         "args": [
          "ball+stick"
         ],
         "component_index": 0,
         "kwargs": {
          "sele": "all"
         },
         "methodName": "addRepresentation",
         "reconstruc_color_scheme": false,
         "target": "compList",
         "type": "call_method"
        }
       ],
       "_ngl_original_stage_parameters": {
        "ambientColor": 14540253,
        "ambientIntensity": 0.2,
        "backgroundColor": "white",
        "cameraEyeSep": 0.3,
        "cameraFov": 40,
        "cameraType": "perspective",
        "clipDist": 10,
        "clipFar": 100,
        "clipNear": 0,
        "fogFar": 100,
        "fogNear": 50,
        "hoverTimeout": 0,
        "impostor": true,
        "lightColor": 14540253,
        "lightIntensity": 1,
        "mousePreset": "default",
        "panSpeed": 1,
        "quality": "medium",
        "rotateSpeed": 2,
        "sampleLevel": 0,
        "tooltip": true,
        "workerDefault": true,
        "zoomSpeed": 1.2
       },
       "_ngl_repr_dict": {
        "0": {
         "0": {
          "params": {
           "clipCenter": {
            "x": 0,
            "y": 0,
            "z": 0
           },
           "clipNear": 0,
           "clipRadius": 0,
           "colorMode": "hcl",
           "colorReverse": false,
           "colorScale": "",
           "colorScheme": "element",
           "colorValue": "orange",
           "defaultAssembly": "",
           "depthWrite": true,
           "diffuse": 16777215,
           "diffuseInterior": false,
           "disableImpostor": false,
           "disablePicking": false,
           "flatShaded": false,
           "interiorColor": 2236962,
           "interiorDarkening": 0,
           "lazy": false,
           "matrix": {
            "elements": [
             1,
             0,
             0,
             0,
             0,
             1,
             0,
             0,
             0,
             0,
             1,
             0,
             0,
             0,
             0,
             1
            ]
           },
           "metalness": 0,
           "opacity": 1,
           "quality": "medium",
           "radialSegments": 10,
           "radiusData": {},
           "radiusScale": 1,
           "radiusSize": 0.07415929071046808,
           "radiusType": "vdw",
           "roughness": 0.4,
           "sele": "all",
           "side": "double",
           "sphereDetail": 1,
           "useInteriorColor": true,
           "visible": true,
           "wireframe": false
          },
          "type": "unitcell"
         },
         "1": {
          "params": {
           "assembly": "default",
           "clipCenter": {
            "x": 0,
            "y": 0,
            "z": 0
           },
           "clipNear": 0,
           "clipRadius": 0,
           "colorMode": "hcl",
           "colorReverse": false,
           "colorScale": "rainbow",
           "colorScheme": "element",
           "colorValue": 9474192,
           "defaultAssembly": "",
           "depthWrite": true,
           "diffuse": 16777215,
           "diffuseInterior": false,
           "disableImpostor": false,
           "disablePicking": false,
           "flatShaded": false,
           "interiorColor": 2236962,
           "interiorDarkening": 0,
           "lazy": false,
           "matrix": {
            "elements": [
             1,
             0,
             0,
             0,
             0,
             1,
             0,
             0,
             0,
             0,
             1,
             0,
             0,
             0,
             0,
             1
            ]
           },
           "metalness": 0,
           "opacity": 1,
           "quality": "medium",
           "radiusData": {},
           "radiusScale": 0.5,
           "radiusSize": 1,
           "radiusType": "covalent",
           "roughness": 0.4,
           "sele": "all",
           "side": "double",
           "sphereDetail": 1,
           "useInteriorColor": true,
           "visible": true,
           "wireframe": false
          },
          "type": "spacefill"
         },
         "2": {
          "params": {
           "aspectRatio": 2,
           "assembly": "default",
           "bondScale": 0.4,
           "bondSpacing": 1,
           "clipCenter": {
            "x": 0,
            "y": 0,
            "z": 0
           },
           "clipNear": 0,
           "clipRadius": 0,
           "colorMode": "hcl",
           "colorReverse": false,
           "colorScale": "",
           "colorScheme": "element",
           "colorValue": 9474192,
           "cylinderOnly": false,
           "defaultAssembly": "",
           "depthWrite": true,
           "diffuse": 16777215,
           "diffuseInterior": false,
           "disableImpostor": false,
           "disablePicking": false,
           "flatShaded": false,
           "interiorColor": 2236962,
           "interiorDarkening": 0,
           "lazy": false,
           "lineOnly": false,
           "linewidth": 2,
           "matrix": {
            "elements": [
             1,
             0,
             0,
             0,
             0,
             1,
             0,
             0,
             0,
             0,
             1,
             0,
             0,
             0,
             0,
             1
            ]
           },
           "metalness": 0,
           "multipleBond": "off",
           "opacity": 1,
           "openEnded": true,
           "quality": "medium",
           "radialSegments": 10,
           "radiusData": {},
           "radiusScale": 1,
           "radiusSize": 0.15,
           "radiusType": "size",
           "roughness": 0.4,
           "sele": "all",
           "side": "double",
           "sphereDetail": 1,
           "useInteriorColor": true,
           "visible": true,
           "wireframe": false
          },
          "type": "ball+stick"
         }
        }
       },
       "_ngl_serialize": false,
       "_ngl_version": "2.0.0-dev.36",
       "_ngl_view_id": [
        "93C1E9FE-7DF6-4F48-9070-6C4266615777"
       ],
       "_player_dict": {},
       "_scene_position": {},
       "_scene_rotation": {},
       "_synced_model_ids": [],
       "_synced_repr_model_ids": [],
       "_view_height": "",
       "_view_width": "",
       "background": "white",
       "frame": 0,
       "gui_style": null,
       "layout": "IPY_MODEL_e44c33cc406e4553a25b52331b0b1a9d",
       "max_frame": 20,
       "n_components": 1,
       "picked": {}
      }
     },
     "7073a53ce3e144e6a7d9894f55391ee0": {
      "model_module": "@jupyter-widgets/base",
      "model_module_version": "1.2.0",
      "model_name": "LayoutModel",
      "state": {}
     },
     "794f51955829415ea82f942f03824063": {
      "model_module": "@jupyter-widgets/controls",
      "model_module_version": "1.5.0",
      "model_name": "DropdownModel",
      "state": {
       "_options_labels": [
        "All",
        "Si",
        "O"
       ],
       "description": "Show",
       "index": 0,
       "layout": "IPY_MODEL_dd254e777c2c46c799599e7b85f87a2a",
       "style": "IPY_MODEL_4cc8a777a7ef4baa980d96e99086e700"
      }
     },
     "7e95abb59d41424cbd5d5ce085033476": {
      "model_module": "@jupyter-widgets/controls",
      "model_module_version": "1.5.0",
      "model_name": "SliderStyleModel",
      "state": {
       "description_width": ""
      }
     },
     "8189cefc2c104c3199cae2125d91e572": {
      "model_module": "@jupyter-widgets/controls",
      "model_module_version": "1.5.0",
      "model_name": "DescriptionStyleModel",
      "state": {
       "description_width": ""
      }
     },
     "8497ca2632dd472b8893223d48a8981e": {
      "model_module": "@jupyter-widgets/controls",
      "model_module_version": "1.5.0",
      "model_name": "FloatSliderModel",
      "state": {
       "description": "Force scale",
       "layout": "IPY_MODEL_62590a88f1064cf9a5e96afc26c217f3",
       "step": 0.1,
       "style": "IPY_MODEL_f505ffc68fbb45bcaca5d0fa43d6ff88",
       "value": 0.5
      }
     },
     "8685f5e12be346de904e92366c324223": {
      "model_module": "@jupyter-widgets/base",
      "model_module_version": "1.2.0",
      "model_name": "LayoutModel",
      "state": {}
     },
     "8e13535f14a748f2a31446ac27c26946": {
      "model_module": "@jupyter-widgets/controls",
      "model_module_version": "1.5.0",
      "model_name": "IntSliderModel",
      "state": {
       "layout": "IPY_MODEL_122c3d8589574aa7a86d2c9b61c137de",
       "max": 20,
       "style": "IPY_MODEL_cf3b4732dc2c48d3beab7b8c093bfb48"
      }
     },
     "920381640e0e49c9a58f562a9a4bfeeb": {
      "model_module": "@jupyter-widgets/controls",
      "model_module_version": "1.5.0",
      "model_name": "LinkModel",
      "state": {
       "source": [
        "IPY_MODEL_51ab445fb8114848bc9dd6024769aceb",
        "max"
       ],
       "target": [
        "IPY_MODEL_679de51ac4f04061a1b4ea2ec0c3cb98",
        "max_frame"
       ]
      }
     },
     "9463cee9091f46a4a692454b9160e2da": {
      "model_module": "@jupyter-widgets/controls",
      "model_module_version": "1.5.0",
      "model_name": "DescriptionStyleModel",
      "state": {
       "description_width": ""
      }
     },
     "a0d2c6f811c24dce9413de3231d5da19": {
      "model_module": "@jupyter-widgets/controls",
      "model_module_version": "1.5.0",
      "model_name": "SliderStyleModel",
      "state": {
       "description_width": ""
      }
     },
     "a1e0eae6c8e746b484b063dfddb7de5e": {
      "model_module": "@jupyter-widgets/controls",
      "model_module_version": "1.5.0",
      "model_name": "TextModel",
      "state": {
       "description": "Filename: ",
       "layout": "IPY_MODEL_7073a53ce3e144e6a7d9894f55391ee0",
       "style": "IPY_MODEL_1d66c89427d64942a5f69ff9df2fd3e5",
       "value": "screenshot.png"
      }
     },
     "a4d4dc12ba164370bb306f4720fc8213": {
      "model_module": "@jupyter-widgets/base",
      "model_module_version": "1.2.0",
      "model_name": "LayoutModel",
      "state": {}
     },
     "a6ebbe0e039041a398ab7c4d6f3f825e": {
      "model_module": "@jupyter-widgets/controls",
      "model_module_version": "1.5.0",
      "model_name": "FloatSliderModel",
      "state": {
       "description": "Ball size",
       "layout": "IPY_MODEL_55c19267518f4a37908e7cfa616024e1",
       "max": 1.5,
       "step": 0.01,
       "style": "IPY_MODEL_081ca313445c48fa9cbacb9f26b3c562",
       "value": 0.5
      }
     },
     "a93902ff76004ae8b39e73421d2e35ad": {
      "model_module": "@jupyter-widgets/base",
      "model_module_version": "1.2.0",
      "model_name": "LayoutModel",
      "state": {}
     },
     "ab78bff863b742988e06c850e108ca68": {
      "model_module": "@jupyter-widgets/controls",
      "model_module_version": "1.5.0",
      "model_name": "LinkModel",
      "state": {
       "source": [
        "IPY_MODEL_51ab445fb8114848bc9dd6024769aceb",
        "value"
       ],
       "target": [
        "IPY_MODEL_8e13535f14a748f2a31446ac27c26946",
        "value"
       ]
      }
     },
     "ae2a1370cf9b42f5ab74ea3f148c336a": {
      "model_module": "@jupyter-widgets/controls",
      "model_module_version": "1.5.0",
      "model_name": "CheckboxModel",
      "state": {
       "description": "Show charge",
       "disabled": false,
       "layout": "IPY_MODEL_56ada0cc000440978eb35eb02981fcca",
       "style": "IPY_MODEL_0f5fb712024e4764856127245bc06ebb",
       "value": false
      }
     },
     "beec0967405e41debb25cd78bb8c11cb": {
      "model_module": "@jupyter-widgets/controls",
      "model_module_version": "1.5.0",
      "model_name": "HBoxModel",
      "state": {
       "children": [
        "IPY_MODEL_679de51ac4f04061a1b4ea2ec0c3cb98",
        "IPY_MODEL_4f27379173824186b86aa69b4c095525"
       ],
       "layout": "IPY_MODEL_0256801f2fb84f6e93b93858e3ec1216"
      }
     },
     "c10dddfa5f794d439792ff1bfef8621a": {
      "model_module": "@jupyter-widgets/controls",
      "model_module_version": "1.5.0",
      "model_name": "ButtonStyleModel",
      "state": {}
     },
     "cf3b4732dc2c48d3beab7b8c093bfb48": {
      "model_module": "@jupyter-widgets/controls",
      "model_module_version": "1.5.0",
      "model_name": "SliderStyleModel",
      "state": {
       "description_width": ""
      }
     },
     "d04cf1c3b7c040f7a534ee6fe22f6333": {
      "model_module": "@jupyter-widgets/base",
      "model_module_version": "1.2.0",
      "model_name": "LayoutModel",
      "state": {}
     },
     "d4ec9d84135d4d3196e5b1b2e9f8f87b": {
      "model_module": "@jupyter-widgets/base",
      "model_module_version": "1.2.0",
      "model_name": "LayoutModel",
      "state": {}
     },
     "dbad4c110ec545e1815f0f6695ebde79": {
      "model_module": "@jupyter-widgets/controls",
      "model_module_version": "1.5.0",
      "model_name": "ButtonModel",
      "state": {
       "description": "Download image",
       "layout": "IPY_MODEL_8685f5e12be346de904e92366c324223",
       "style": "IPY_MODEL_4c2d67aa61b445909082e55889112c32",
       "tooltip": "Download current frame to your local PC"
      }
     },
     "dd254e777c2c46c799599e7b85f87a2a": {
      "model_module": "@jupyter-widgets/base",
      "model_module_version": "1.2.0",
      "model_name": "LayoutModel",
      "state": {}
     },
     "df83a38b34fb4044ad806dc4aeb9173b": {
      "model_module": "@jupyter-widgets/controls",
      "model_module_version": "1.5.0",
      "model_name": "ImageModel",
      "state": {
       "layout": "IPY_MODEL_4a26783710b044f0b8eff34960a73152",
       "width": "900.0"
      }
     },
     "e44c33cc406e4553a25b52331b0b1a9d": {
      "model_module": "@jupyter-widgets/base",
      "model_module_version": "1.2.0",
      "model_name": "LayoutModel",
      "state": {}
     },
     "f2d45d09c5c149de9b16296c9f6fa47a": {
      "model_module": "@jupyter-widgets/controls",
      "model_module_version": "1.5.0",
      "model_name": "HBoxModel",
      "state": {
       "children": [
        "IPY_MODEL_51ab445fb8114848bc9dd6024769aceb",
        "IPY_MODEL_8e13535f14a748f2a31446ac27c26946"
       ],
       "layout": "IPY_MODEL_3dfbb49187e641838f60d7f8436a10c9"
      }
     },
     "f505ffc68fbb45bcaca5d0fa43d6ff88": {
      "model_module": "@jupyter-widgets/controls",
      "model_module_version": "1.5.0",
      "model_name": "SliderStyleModel",
      "state": {
       "description_width": ""
      }
     },
     "fa8e8f6b221740b5b5df68d66fd8cbc2": {
      "model_module": "@jupyter-widgets/controls",
      "model_module_version": "1.5.0",
      "model_name": "HBoxModel",
      "state": {
       "children": [
        "IPY_MODEL_dbad4c110ec545e1815f0f6695ebde79",
        "IPY_MODEL_4eeb011c90554f9a930f0d096be67ab7"
       ],
       "layout": "IPY_MODEL_53c570cbd4494fd3a8692cf325750cd1"
      }
     },
     "fad9219aef4e4005a559521b4b4911d4": {
      "model_module": "@jupyter-widgets/base",
      "model_module_version": "1.2.0",
      "model_name": "LayoutModel",
      "state": {}
     }
    },
    "version_major": 2,
    "version_minor": 0
   }
  }
 },
 "nbformat": 4,
 "nbformat_minor": 5
}
