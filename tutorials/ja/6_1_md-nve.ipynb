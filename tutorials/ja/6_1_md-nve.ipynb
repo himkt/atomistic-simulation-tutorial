{
 "cells": [
  {
   "cell_type": "markdown",
   "id": "4f553bb4-4737-4063-9800-7e2f32b60c61",
   "metadata": {},
   "source": [
    "# 分子動力学（Molecular Dynamics, MD）シミュレーション\n",
    "\n",
    "## TL;DR\n",
    "\n",
    "- MDシミュレーションでは古典力学の運動方程式に則った計算方法で、全ての原子の位置と速度の時間発展を露わに観察できる。\n",
    "\n",
    "- 時間スケールの制約があり一般的に数nsから数十nsぐらいが上限。その時間内に発現しない現象は別の計算手法を検討する必要がある。\n",
    "\n",
    "- MDシミュレーションには再現したい状態に応じて様々な状態（アンサンブル）があり、最も単純なアンサンブルはNVEアンサンブルという。\n",
    "\n",
    "- NVEアンサンブルでは全エネルギー保存則が成立し、計算精度および計算時間の観点から、時間ステップサイズを適切に設定する必要がある。\n",
    "\n",
    "\n",
    "</br>\n",
    "\n",
    "この章では系の時間発展をシミュレーションする、 **分子動力学シミュレーション（Molecular dyanmics, MD）** について学びます。\n",
    "\n",
    "MDシミュレーションでは個々の原子の軌道の時間発展を露わに取り扱うシミュレーションで、古典力学の運動方程式を積分することによって計算対象である原子の座標と速度を逐次計算していく手法です。この計算手法自体は原子間に働く力やエネルギーのモデルとは独立した理論で、古くから分子シミュレーションの分野で用いられてきました。従って、理論的な背景や事例等は多くの書籍や文献が多く存在するのでそれらを確認していただければと思います。（参考文献：[1-3]） 本チュートリアルではあくまでMatlantisを使って**実践的に**これらの計算を実行するために必要な知識を習得するところが目的となっています。\n",
    "\n",
    "早速ですが具体的な事例を通して、どんなことがMDシミュレーションで観察出来るかみてみましょう。\n",
    "\n",
    " - https://wiki.fysik.dtu.dk/ase/tutorials/md/md.html"
   ]
  },
  {
   "cell_type": "markdown",
   "id": "23cbae3a-a8f5-4835-bc9a-63bbc9d68fb7",
   "metadata": {},
   "source": [
    "## 事前準備 - 必要なライブラリのインストール\n",
    "\n",
    "本章ではところどころ、ASE上で簡易に利用できる古典力場であるASAP3のEMT力場を利用しています。古典力場であるため精度や用途はかなり限定的ですが高速で実行可能なのでチュートリアルとして事例を示すには十分な機能を持っています。ちなみにASAP3-EMTで利用可能な元素はNi、Cu、Pd、Ag、Pt、Auとこれらの合金に限定されます。インストールの仕方は以下のとおりです。"
   ]
  },
  {
   "cell_type": "code",
   "execution_count": 1,
   "id": "76855978-6625-42ad-a8fc-263d7f081f05",
   "metadata": {},
   "outputs": [],
   "source": [
    "!pip install --upgrade asap3"
   ]
  },
  {
   "cell_type": "markdown",
   "id": "b7a81f2f-3c9e-440c-b2af-a94b144b0a83",
   "metadata": {},
   "source": [
    "ASAP3-EMTに関する詳細は<a href=\"https://wiki.fysik.dtu.dk/asap/asap\">ASAPのサイト</a>をご確認ください。"
   ]
  },
  {
   "cell_type": "markdown",
   "id": "bf4be5dd-0dbd-4725-85b2-d70bc195eb87",
   "metadata": {},
   "source": [
    "## MDシミュレーションでなにが出来るか\n",
    "\n",
    "以下の事例では金属Al構造の溶融状態をMDシミュレーションで再現しています。ご存知の通りアルミニウムは我々がよく見かける物質で工業的に非常に重要な金属であり、その特性も良く知られています。融点は660.3 °C（933.45 K）で、常圧下では幅広い温度領域で面心立方格子（face-centered cubic, fcc）構造を持ちます。以下はそのfcc-Al構造を初期温度1600 Kに過熱して熔融させる過程を示したものです。計算時間は100 psecです。"
   ]
  },
  {
   "cell_type": "markdown",
   "id": "d758229d-ae9a-43d0-93fe-4503a8cb3375",
   "metadata": {},
   "source": [
    "</br>\n",
    "<figure style=\"text-align:center\">\n",
    "  <img src=\"../assets/ch6/Fig6-1_fcc-Al_NVE_1600Kstart.png\" alt=\"fcc-Al_NVE_1600Kstart\">\n",
    "  <figcaption>Fig6-1a. Melting of fcc-Al in NVE ensemble starting at 1600 K</figcaption>\n",
    "  <figcaption>         (File: ../input/ch6/6-1_fcc-Al_NVE_1600Kstart.traj)</figcaption>\n",
    "</figure>"
   ]
  },
  {
   "cell_type": "markdown",
   "id": "2d69cde6-a34f-4e89-806c-f1085551c7c3",
   "metadata": {},
   "source": [
    "最初はきれいにfccの結晶構造に配置されたAl原子ですが、計算が進むにつれ徐々に構造が乱れ、段々とシミュレーションセルの外側に拡散していく様子がうかがえます。このように**MDシミュレーションでは実際に原子が時間発展とともにどのような軌道を描くか詳細に観察することが可能です**。"
   ]
  },
  {
   "cell_type": "markdown",
   "id": "b797ba9b-34ba-4082-8e8d-1acb750bd897",
   "metadata": {},
   "source": [
    "## アルミニウムの溶融シミュレーション\n",
    "\n",
    "それでは以下に、上記のfcc-Alの溶融過程を再現するのに用いたMDシミュレーションのサンプルコードを示します。今回は計算の高速化のためASAP3のEMT力場を用いています。（ユーザーのpython環境でこの力場を用いる際は始めにpip install asap3を実行してasap3のパッケージをインストールしてください。）以下の計算は100 psec実行しますが、数十秒ほどで計算が完了します。"
   ]
  },
  {
   "cell_type": "code",
   "execution_count": 2,
   "id": "e9eb0870-f7a5-4b9f-aadc-79c80273171b",
   "metadata": {
    "tags": []
   },
   "outputs": [
    {
     "name": "stdout",
     "output_type": "stream",
     "text": [
      "atoms =  Atoms(symbols='Al108', pbc=True, cell=[12.899999999999999, 12.899999999999999, 12.899999999999999])\n",
      "log_filename =  ./output/ch6/liquid-Al_NVE_1.0fs_test.log\n",
      "traj_filename =  ./output/ch6/liquid-Al_NVE_1.0fs_test.traj\n",
      "\n",
      "    imd     Etot(eV)    Ekin(eV)    Epot(eV)    T(K)\n",
      "     0     32.139701294     22.336120234    9.803581060   1600.00\n",
      "   1000     32.144793451     9.903780152    22.241013299   709.44\n",
      "   2000     32.144764672     10.546256825    21.598507848   755.46\n",
      "   3000     32.144867637     10.109807312    22.035060324   724.19\n",
      "   4000     32.144645667     10.543812518    21.600833149   755.28\n",
      "   5000     32.144443105     10.312279470    21.832163634   738.70\n",
      "   6000     32.144497181     9.417444466    22.727052715   674.60\n",
      "   7000     32.144457488     10.959556049    21.184901439   785.06\n",
      "   8000     32.145039326     9.433070479    22.711968847   675.72\n",
      "   9000     32.143922028     11.323434777    20.820487251   811.13\n",
      "   10000     32.144882176     9.544276952    22.600605224   683.68\n",
      "   11000     32.144591161     9.937703871    22.206887290   711.87\n",
      "   12000     32.144932318     9.601516613    22.543415705   687.78\n",
      "   13000     32.144701787     11.054486506    21.090215281   791.86\n",
      "   14000     32.144909999     10.977858687    21.167051311   786.38\n",
      "   15000     32.144847685     11.171057160    20.973790525   800.21\n",
      "   16000     32.144553270     11.314802213    20.829751057   810.51\n",
      "   17000     32.144980382     10.123496922    22.021483461   725.17\n",
      "   18000     32.144789172     10.761609811    21.383179361   770.88\n",
      "   19000     32.145070169     9.847006031    22.298064138   705.37\n",
      "   20000     32.144708723     10.873151756    21.271556967   778.87\n",
      "   21000     32.145023884     10.852787143    21.292236742   777.42\n",
      "   22000     32.144798417     11.249125401    20.895673016   805.81\n",
      "   23000     32.144922167     10.665882836    21.479039331   764.03\n",
      "   24000     32.144953925     11.321504979    20.823448946   810.99\n",
      "   25000     32.144876692     10.437322077    21.707554615   747.66\n",
      "   26000     32.144860287     11.214214365    20.930645922   803.31\n",
      "   27000     32.144988874     9.903499972    22.241488902   709.42\n",
      "   28000     32.144567898     11.162195482    20.982372416   799.58\n",
      "   29000     32.144950853     10.467074302    21.677876551   749.79\n",
      "   30000     32.144810993     10.129326037    22.015484956   725.59\n",
      "   31000     32.144901094     11.111003764    21.033897330   795.91\n",
      "   32000     32.145147379     9.864779138    22.280368241   706.64\n",
      "   33000     32.144600143     10.903166254    21.241433889   781.02\n",
      "   34000     32.144690550     10.323143457    21.821547093   739.48\n",
      "   35000     32.144215947     11.259387152    20.884828795   806.54\n",
      "   36000     32.144635027     10.348080119    21.796554909   741.26\n",
      "   37000     32.144383890     11.230029472    20.914354418   804.44\n",
      "   38000     32.144514372     9.873501354    22.271013018   707.27\n",
      "   39000     32.144916235     9.838826194    22.306090041   704.78\n",
      "   40000     32.143913171     11.333113330    20.810799840   811.82\n",
      "   41000     32.144736083     10.276406379    21.868329703   736.13\n",
      "   42000     32.144964061     9.935678556    22.209285505   711.72\n",
      "   43000     32.144542448     10.438796940    21.705745508   747.76\n",
      "   44000     32.144592706     10.108646852    22.035945854   724.11\n",
      "   45000     32.144481553     10.470107946    21.674373607   750.00\n",
      "   46000     32.144730433     9.666495236    22.478235196   692.44\n",
      "   47000     32.144682913     9.712261054    22.432421859   695.72\n",
      "   48000     32.144453876     10.742086386    21.402367490   769.49\n",
      "   49000     32.144554151     10.713254164    21.431299987   767.42\n",
      "   50000     32.144329051     11.239410078    20.904918974   805.11\n",
      "   51000     32.144429225     11.288184861    20.856244364   808.60\n",
      "   52000     32.145224948     8.778720855    23.366504093   628.84\n",
      "   53000     32.144614587     10.501525437    21.643089150   752.25\n",
      "   54000     32.144418541     10.524598142    21.619820398   753.91\n",
      "   55000     32.144779098     9.395902869    22.748876228   673.06\n",
      "   56000     32.144993868     9.782989373    22.362004496   700.78\n",
      "   57000     32.144483351     10.816126376    21.328356975   774.79\n",
      "   58000     32.144461360     10.604935190    21.539526171   759.66\n",
      "   59000     32.144854648     10.415600698    21.729253950   746.10\n",
      "   60000     32.144891833     10.017992893    22.126898940   717.62\n",
      "   61000     32.144958097     9.133856272    23.011101825   654.28\n",
      "   62000     32.144421350     10.766637275    21.377784075   771.24\n",
      "   63000     32.144465950     10.782599846    21.361866104   772.39\n",
      "   64000     32.144623349     10.550047470    21.594575880   755.73\n",
      "   65000     32.144403703     11.645927140    20.498476563   834.23\n",
      "   66000     32.144899328     9.691451215    22.453448113   694.23\n",
      "   67000     32.144581908     10.835192100    21.309389808   776.16\n",
      "   68000     32.144547841     10.768151422    21.376396419   771.35\n",
      "   69000     32.144460214     10.462639511    21.681820703   749.47\n",
      "   70000     32.144529656     11.411724469    20.732805187   817.45\n",
      "   71000     32.144477631     10.251514296    21.892963335   734.35\n",
      "   72000     32.144656191     10.308748313    21.835907877   738.45\n",
      "   73000     32.144412256     10.806266335    21.338145921   774.08\n",
      "   74000     32.144466192     9.935125552    22.209340640   711.68\n",
      "   75000     32.144764457     10.017962886    22.126801571   717.62\n",
      "   76000     32.144640462     9.948834451    22.195806011   712.66\n",
      "   77000     32.144453967     11.364823781    20.779630187   814.09\n",
      "   78000     32.144368908     11.279473584    20.864895324   807.98\n",
      "   79000     32.144443684     10.625944395    21.518499289   761.17\n",
      "   80000     32.144568968     10.499764978    21.644803990   752.13\n",
      "   81000     32.144638196     10.525205090    21.619433106   753.95\n",
      "   82000     32.144436923     10.390240669    21.754196255   744.28\n",
      "   83000     32.145092501     9.503412285    22.641680216   680.76\n",
      "   84000     32.144589372     10.774842456    21.369746916   771.83\n",
      "   85000     32.144038956     10.758851360    21.385187596   770.69\n",
      "   86000     32.144723310     10.316487021    21.828236289   739.00\n",
      "   87000     32.144474804     10.487274182    21.657200622   751.23\n",
      "   88000     32.144274423     11.640315443    20.503958980   833.83\n",
      "   89000     32.144262634     9.822770509    22.321492125   703.63\n",
      "   90000     32.144498229     11.026088736    21.118409493   789.83\n",
      "   91000     32.144517504     11.447687463    20.696830040   820.03\n",
      "   92000     32.144678219     10.431989437    21.712688783   747.27\n",
      "   93000     32.144860071     9.658802628    22.486057443   691.89\n",
      "   94000     32.144272074     11.636928121    20.507343954   833.59\n",
      "   95000     32.144993413     9.768201023    22.376792390   699.72\n",
      "   96000     32.144504114     10.765947874    21.378556240   771.20\n",
      "   97000     32.144865933     9.631324617    22.513541316   689.92\n",
      "   98000     32.144523351     10.487577272    21.656946078   751.26\n",
      "   99000     32.144783955     10.825804832    21.318979123   775.48\n",
      "   100000     32.144994341     10.397709066    21.747285274   744.82\n",
      "\n",
      "Normal termination of the MD run!\n",
      "CPU times: user 19.1 s, sys: 166 ms, total: 19.3 s\n",
      "Wall time: 19.5 s\n"
     ]
    }
   ],
   "source": [
    "%%time\n",
    "import os\n",
    "from asap3 import EMT\n",
    "calculator = EMT()\n",
    "\n",
    "from ase.build import bulk\n",
    "from ase.md.velocitydistribution import MaxwellBoltzmannDistribution,Stationary\n",
    "from ase.md.verlet import VelocityVerlet\n",
    "from ase.md import MDLogger\n",
    "from ase import units\n",
    "from time import perf_counter\n",
    "import numpy as np\n",
    "\n",
    "# Set up a fcc-Al crystal\n",
    "atoms = bulk(\"Al\",\"fcc\",a=4.3,cubic=True)\n",
    "atoms.pbc = True\n",
    "atoms *= 3\n",
    "print(\"atoms = \",atoms)\n",
    "\n",
    "# Set calculator (EMT in this case)\n",
    "atoms.calc = calculator\n",
    "\n",
    "# input parameters\n",
    "time_step    = 1.0      # MD step size in fsec\n",
    "temperature  = 1600     # Temperature in Kelvin\n",
    "num_md_steps = 100000   # Total number of MD steps\n",
    "num_interval = 1000     # Print out interval for .log and .traj\n",
    "\n",
    "# Set the momenta corresponding to the given \"temperature\"\n",
    "MaxwellBoltzmannDistribution(atoms, temperature_K=temperature,force_temp=True)\n",
    "Stationary(atoms)  # Set zero total momentum to avoid drifting\n",
    "\n",
    "# Set output filenames\n",
    "output_filename = \"./output/ch6/liquid-Al_NVE_1.0fs_test\"\n",
    "log_filename = output_filename + \".log\"\n",
    "print(\"log_filename = \",log_filename)\n",
    "traj_filename = output_filename + \".traj\"\n",
    "print(\"traj_filename = \",traj_filename)\n",
    "\n",
    "# Remove old files if they exist\n",
    "if os.path.exists(log_filename): os.remove(log_filename)\n",
    "if os.path.exists(traj_filename): os.remove(traj_filename)\n",
    "\n",
    "# Define the MD dynamics class object\n",
    "dyn = VelocityVerlet(atoms, \n",
    "                     time_step * units.fs,\n",
    "                     trajectory = traj_filename,\n",
    "                     loginterval=num_interval\n",
    "                    )  \n",
    "\n",
    "# Print statements\n",
    "def print_dyn():\n",
    "    imd = dyn.get_number_of_steps()\n",
    "    time_md = time_step*imd\n",
    "    etot  = atoms.get_total_energy()\n",
    "    ekin  = atoms.get_kinetic_energy()\n",
    "    epot  = atoms.get_potential_energy()\n",
    "    temp_K = atoms.get_temperature()\n",
    "    print(f\"   {imd: >3}     {etot:.9f}     {ekin:.9f}    {epot:.9f}   {temp_K:.2f}\")\n",
    "\n",
    "dyn.attach(print_dyn, interval=num_interval)\n",
    "\n",
    "# Set MD logger\n",
    "dyn.attach(MDLogger(dyn, atoms, log_filename, header=True, stress=False,peratom=False, mode=\"w\"), interval=num_interval)\n",
    "\n",
    "# Now run MD simulation\n",
    "print(f\"\\n    imd     Etot(eV)    Ekin(eV)    Epot(eV)    T(K)\")\n",
    "dyn.run(num_md_steps)\n",
    "\n",
    "print(\"\\nNormal termination of the MD run!\")"
   ]
  },
  {
   "cell_type": "markdown",
   "id": "4f64a063-f911-4afb-a575-faefd580b9ef",
   "metadata": {},
   "source": [
    "プログラムの流れはスクリプト内のコメントを見ながら流れを追っていけばだいたい理解できるとは思いますが重要なポイントのみについて解説します。\n",
    "\n",
    "\n",
    "（１）初速度分布\n",
    "\n",
    "構造作成、計算パラメーターの設定が終わったのち、各原子の初速度は指定の温度に対応した<a href=\"https://ja.wikipedia.org/wiki/%E3%83%9E%E3%82%AF%E3%82%B9%E3%82%A6%E3%82%A7%E3%83%AB%E5%88%86%E5%B8%83\">Maxwell-Boltzmann分布</a>に従う速度分布を与えます。上記コードでは、 `MaxwellBoltzmannDistribution` を用いて行っています。この方法で与えた初速度には系全体の運動量の任意性があるため、このままでは系全体がドリフトする可能性があります。なのでMaxwell-BoltzmannDistributionで初速度を与えた後に`Stationary`という関数で系全体の運動量をゼロとし、質量中心の座標を固定します。NVEの事例だけでなく、この後出てくる温度制御や圧力制御を伴うシミュレーションでも重要になります。\n",
    "\n",
    "（２）MDの実行\n",
    "\n",
    "今回は、`VelocityVerlet`というクラスを用いることで、[速度ベルレ法](https://ja.wikipedia.org/wiki/%E3%83%99%E3%83%AC%E3%81%AE%E6%96%B9%E6%B3%95)によるMDを実行しています。\n",
    "`dyn.run(num_md_steps)` の箇所で実際にMDの実行が行われています。\n",
    "今回の設定では、`time_step=1.0`として、1stepあたり1fs = $1 \\times 10^{-15}$ secの時間幅で、`num_md_steps=100000` step実行しています。\n",
    "\n",
    "（3）計算結果の記録\n",
    "\n",
    "このスクリプトには`print_dyn`という標準出力（notebook上へのデータの出力）にエネルギーや温度の値を出力する関数があります。その他にも`MDLogger`という関数があり、これは指定したLogファイルの中にエネルギー、温度、応力情報を出力します。独自に計算結果をファイル出力する機構を作っても良いですが、デフォルトで備わっているLoggerで大抵のアプリケーションに必要な情報は得られるので活用をお薦めします。"
   ]
  },
  {
   "cell_type": "markdown",
   "id": "1260200c-868d-4d49-b5c6-77fd62eab4d9",
   "metadata": {},
   "source": [
    "MD実行後、軌跡の可視化は以下のように行なえます。"
   ]
  },
  {
   "cell_type": "code",
   "execution_count": 3,
   "id": "7237c8b8-3495-42dc-b73d-6f8df053541f",
   "metadata": {},
   "outputs": [
    {
     "data": {
      "application/vnd.jupyter.widget-view+json": {
       "model_id": "7d03999c0034409491f660ce7cd6abcb",
       "version_major": 2,
       "version_minor": 0
      },
      "text/plain": []
     },
     "metadata": {},
     "output_type": "display_data"
    },
    {
     "data": {
      "application/vnd.jupyter.widget-view+json": {
       "model_id": "fb5d5135cc3b4fdc83fcf7cc9200584b",
       "version_major": 2,
       "version_minor": 0
      },
      "text/plain": [
       "HBox(children=(NGLWidget(max_frame=100), VBox(children=(Dropdown(description='Show', options=('All', 'Al'), va…"
      ]
     },
     "metadata": {},
     "output_type": "display_data"
    }
   ],
   "source": [
    "from ase.io import Trajectory\n",
    "from pfcc_extras.visualize.view import view_ngl\n",
    "\n",
    "\n",
    "traj = Trajectory(traj_filename)\n",
    "view_ngl(traj)"
   ]
  },
  {
   "cell_type": "code",
   "execution_count": 4,
   "id": "472cb3a7-09dd-4e26-ad96-96e49e770386",
   "metadata": {},
   "outputs": [
    {
     "name": "stderr",
     "output_type": "stream",
     "text": [
      "[Parallel(n_jobs=16)]: Using backend ThreadingBackend with 16 concurrent workers.\n",
      "[Parallel(n_jobs=16)]: Done  18 tasks      | elapsed:   20.9s\n",
      "[Parallel(n_jobs=16)]: Done 101 out of 101 | elapsed:  1.2min finished\n"
     ]
    }
   ],
   "source": [
    "from pfcc_extras.visualize.povray import traj_to_apng\n",
    "from IPython.display import Image\n",
    "\n",
    "\n",
    "traj_to_apng(traj, f\"output/Fig6-1_fcc-Al_NVE_1600Kstart.png\", rotation=\"0x,0y,0z\", clean=True, n_jobs=16)\n",
    "\n",
    "# See Fig6-1a\n",
    "#Image(url=\"output/Fig6-1_fcc-Al_NVE_1600Kstart.png\")"
   ]
  },
  {
   "cell_type": "markdown",
   "id": "dad1d756-2fb2-4097-ae39-50ddf6b22afa",
   "metadata": {},
   "source": [
    "## NVEアンサンブルにおける物性値のヒストリー\n",
    "\n",
    "また、各原子の速度（すなわち運動量）も分かるため各種エネルギーの履歴を追うことも出来ます。例えば、以下は上のfcc-Alの溶融の際の全エネルギー（Tot.E.）、ポテンシャルエネルギー（P.E.）、運動エネルギー（K.E.）、そして温度（Temp.）の時間プロファイルです。\n"
   ]
  },
  {
   "cell_type": "code",
   "execution_count": 5,
   "id": "8c8124da-be6a-4a46-b9e7-3bc5c581ef6e",
   "metadata": {},
   "outputs": [
    {
     "data": {
      "text/html": [
       "<div>\n",
       "<style scoped>\n",
       "    .dataframe tbody tr th:only-of-type {\n",
       "        vertical-align: middle;\n",
       "    }\n",
       "\n",
       "    .dataframe tbody tr th {\n",
       "        vertical-align: top;\n",
       "    }\n",
       "\n",
       "    .dataframe thead th {\n",
       "        text-align: right;\n",
       "    }\n",
       "</style>\n",
       "<table border=\"1\" class=\"dataframe\">\n",
       "  <thead>\n",
       "    <tr style=\"text-align: right;\">\n",
       "      <th></th>\n",
       "      <th>Time[ps]</th>\n",
       "      <th>Etot[eV]</th>\n",
       "      <th>Epot[eV]</th>\n",
       "      <th>Ekin[eV]</th>\n",
       "      <th>T[K]</th>\n",
       "    </tr>\n",
       "  </thead>\n",
       "  <tbody>\n",
       "    <tr>\n",
       "      <th>0</th>\n",
       "      <td>0.0</td>\n",
       "      <td>32.140</td>\n",
       "      <td>9.804</td>\n",
       "      <td>22.336</td>\n",
       "      <td>1600.0</td>\n",
       "    </tr>\n",
       "    <tr>\n",
       "      <th>1</th>\n",
       "      <td>1.0</td>\n",
       "      <td>32.145</td>\n",
       "      <td>22.241</td>\n",
       "      <td>9.904</td>\n",
       "      <td>709.4</td>\n",
       "    </tr>\n",
       "    <tr>\n",
       "      <th>2</th>\n",
       "      <td>2.0</td>\n",
       "      <td>32.145</td>\n",
       "      <td>21.599</td>\n",
       "      <td>10.546</td>\n",
       "      <td>755.5</td>\n",
       "    </tr>\n",
       "    <tr>\n",
       "      <th>3</th>\n",
       "      <td>3.0</td>\n",
       "      <td>32.145</td>\n",
       "      <td>22.035</td>\n",
       "      <td>10.110</td>\n",
       "      <td>724.2</td>\n",
       "    </tr>\n",
       "    <tr>\n",
       "      <th>4</th>\n",
       "      <td>4.0</td>\n",
       "      <td>32.145</td>\n",
       "      <td>21.601</td>\n",
       "      <td>10.544</td>\n",
       "      <td>755.3</td>\n",
       "    </tr>\n",
       "    <tr>\n",
       "      <th>...</th>\n",
       "      <td>...</td>\n",
       "      <td>...</td>\n",
       "      <td>...</td>\n",
       "      <td>...</td>\n",
       "      <td>...</td>\n",
       "    </tr>\n",
       "    <tr>\n",
       "      <th>96</th>\n",
       "      <td>96.0</td>\n",
       "      <td>32.145</td>\n",
       "      <td>21.379</td>\n",
       "      <td>10.766</td>\n",
       "      <td>771.2</td>\n",
       "    </tr>\n",
       "    <tr>\n",
       "      <th>97</th>\n",
       "      <td>97.0</td>\n",
       "      <td>32.145</td>\n",
       "      <td>22.514</td>\n",
       "      <td>9.631</td>\n",
       "      <td>689.9</td>\n",
       "    </tr>\n",
       "    <tr>\n",
       "      <th>98</th>\n",
       "      <td>98.0</td>\n",
       "      <td>32.145</td>\n",
       "      <td>21.657</td>\n",
       "      <td>10.488</td>\n",
       "      <td>751.3</td>\n",
       "    </tr>\n",
       "    <tr>\n",
       "      <th>99</th>\n",
       "      <td>99.0</td>\n",
       "      <td>32.145</td>\n",
       "      <td>21.319</td>\n",
       "      <td>10.826</td>\n",
       "      <td>775.5</td>\n",
       "    </tr>\n",
       "    <tr>\n",
       "      <th>100</th>\n",
       "      <td>100.0</td>\n",
       "      <td>32.145</td>\n",
       "      <td>21.747</td>\n",
       "      <td>10.398</td>\n",
       "      <td>744.8</td>\n",
       "    </tr>\n",
       "  </tbody>\n",
       "</table>\n",
       "<p>101 rows × 5 columns</p>\n",
       "</div>"
      ],
      "text/plain": [
       "     Time[ps]  Etot[eV]  Epot[eV]  Ekin[eV]    T[K]\n",
       "0         0.0    32.140     9.804    22.336  1600.0\n",
       "1         1.0    32.145    22.241     9.904   709.4\n",
       "2         2.0    32.145    21.599    10.546   755.5\n",
       "3         3.0    32.145    22.035    10.110   724.2\n",
       "4         4.0    32.145    21.601    10.544   755.3\n",
       "..        ...       ...       ...       ...     ...\n",
       "96       96.0    32.145    21.379    10.766   771.2\n",
       "97       97.0    32.145    22.514     9.631   689.9\n",
       "98       98.0    32.145    21.657    10.488   751.3\n",
       "99       99.0    32.145    21.319    10.826   775.5\n",
       "100     100.0    32.145    21.747    10.398   744.8\n",
       "\n",
       "[101 rows x 5 columns]"
      ]
     },
     "execution_count": 5,
     "metadata": {},
     "output_type": "execute_result"
    }
   ],
   "source": [
    "import pandas as pd\n",
    "\n",
    "df = pd.read_csv(log_filename, delim_whitespace=True)\n",
    "df"
   ]
  },
  {
   "cell_type": "code",
   "execution_count": 6,
   "id": "4ba63de9-9ebb-49fd-85e2-88a95fe83e29",
   "metadata": {},
   "outputs": [
    {
     "data": {
      "image/png": "[encoded data removed]",
      "text/plain": [
       "<Figure size 720x360 with 4 Axes>"
      ]
     },
     "metadata": {
      "needs_background": "light"
     },
     "output_type": "display_data"
    }
   ],
   "source": [
    "import numpy as np\n",
    "import matplotlib.pyplot as plt\n",
    "\n",
    "\n",
    "fig = plt.figure(figsize=(10, 5))\n",
    "\n",
    "#color = 'tab:grey'\n",
    "ax1 = fig.add_subplot(4, 1, 1)\n",
    "ax1.set_xticklabels([])  # x軸ラベル\n",
    "ax1.set_ylabel('Tot E (eV)')  # y軸ラベル\n",
    "ax1.set_ylim([31.,33.])\n",
    "ax1.plot(df[\"Time[ps]\"], df[\"Etot[eV]\"], color=\"blue\",alpha=0.5)\n",
    "\n",
    "ax2 = fig.add_subplot(4, 1, 2)\n",
    "ax2.set_xticklabels([])  # x軸ラベル\n",
    "ax2.set_ylabel('P.E. (eV)')  # y軸ラベル\n",
    "ax2.plot(df[\"Time[ps]\"], df[\"Epot[eV]\"], color=\"green\",alpha=0.5)\n",
    "\n",
    "ax3 = fig.add_subplot(4, 1, 3)\n",
    "ax3.set_xticklabels([])  # x軸ラベル\n",
    "ax3.set_ylabel('K.E. (eV)')  # y軸ラベル\n",
    "ax3.plot(df[\"Time[ps]\"], df[\"Ekin[eV]\"], color=\"orange\",alpha=0.5)\n",
    "\n",
    "ax4 = fig.add_subplot(4, 1, 4)\n",
    "ax4.set_xlabel('time (ps)')  # x軸ラベル\n",
    "ax4.set_ylabel('Temp. (K)')  # y軸ラベル\n",
    "ax4.plot(df[\"Time[ps]\"], df[\"T[K]\"], color=\"red\",alpha=0.5)\n",
    "ax4.set_ylim([500., 1700])\n",
    "\n",
    "fig.suptitle(\"Fig.6-1b. Time evolution of total, potential, and kinetic energies, and temperature.\", y=0)\n",
    "\n",
    "#plt.savefig(\"6-1_liquid-Al_NVE_1.0fs_test_E_vs_t.png\")  # <- Use if saving to an image file is desired\n",
    "plt.show()"
   ]
  },
  {
   "cell_type": "markdown",
   "id": "11487639-ae77-4f6f-bd00-37d9cc70d8b0",
   "metadata": {},
   "source": [
    "1-4章 でも出てきましたが、系の全エネルギー $E$ (Total energy) は、運動エネルギー $K$ (Kinetic energy)と、ポテンシャルエネルギー $V$ (Potential energy)で表されます。\n",
    "\n",
    "$$ E = K + V $$\n",
    "\n",
    "このうち、原子の運動エネルギー$K$は古典力学の表式を用い以下のように計算できます。\n",
    "\n",
    "$$ K = \\sum_{i=1}^{N} \\frac{1}{2} m_i {\\mathbf{v}}_i^2 = \\sum_{i=1}^{N} \\frac{{\\mathbf{p}}_i^2}{2 m_i}  $$\n",
    "\n",
    "ここで $m_i, \\mathbf{v}_i, \\mathbf{p}_i$ はそれぞれ各原子の質量 (mass) 、速度 (velocity)および運動量 (momenta, $\\mathbf{p}=m\\mathbf{v}$)です。ここで系の温度と運動エネルギーはほぼ同義で、以下のような関係で定義されます。\n",
    "\n",
    "\\$$ K = \\frac{3}{2} k_B T$$\n",
    "\n",
    "\n",
    "今回のケースでは初期温度を1600 Kと設定し、あとは古典力学の運動方程式に則って自然に系を時間発展させています。従って特に外力もないのでエネルギー保存則が守られ全エネルギーが数値誤差の範囲で一定に保たれます。そしてかなり早い段階で温度が低下し、運動エネルギーとポテンシャルエネルギーのそれぞれに<a href=\"https://ja.wikipedia.org/wiki/%E3%82%A8%E3%83%8D%E3%83%AB%E3%82%AE%E3%83%BC%E7%AD%89%E9%85%8D%E5%88%86%E3%81%AE%E6%B3%95%E5%89%87\">エネルギー分配則</a>が働き、最終的に温度は初期温度の半分程度に落ち着きます。自然界では実際に物質はそのようにふるまい、今回のような最もシンプルなMDシミュレーションではそういった状況を再現します。このような計算対象である系の状態分布を<a href=\"https://ja.wikipedia.org/wiki/%E3%83%9F%E3%82%AF%E3%83%AD%E3%82%AB%E3%83%8E%E3%83%8B%E3%82%AB%E3%83%AB%E3%82%A2%E3%83%B3%E3%82%B5%E3%83%B3%E3%83%96%E3%83%AB\">**NVEアンサンブル**</a>と言います。（または>小正準集団アンサンブル。NVEのNは原子数、Vは体積、Eは全エネルギーが一定であることを表します。）ちなみに、ここでいう<a href=\"https://ja.wikipedia.org/wiki/%E7%B5%B1%E8%A8%88%E9%9B%86%E5%9B%A3\">アンサンブル</a>とは統計力学の考え方で物質の状態分布のことを指します。"
   ]
  },
  {
   "cell_type": "markdown",
   "id": "adfb8668-de68-4778-90a5-c73763b1e9ab",
   "metadata": {},
   "source": [
    "## NVEアンサンブルにおけるMDシミュレーションの設定\n",
    "\n",
    "さて、上記のNVEアンサンブルのMDシミュレーションでは初期温度や計算時間のような計算条件を設定する必要があります。それ以外にも比較的自明ではないパラメーターとしてMDのタイムステップを設定する必要があります。このMDのタイムステップはどのように設定したらよいでしょうか？\n",
    "\n",
    "答えは求めている計算精度に依存します。NVEアンサンブルでは2階の常微分方程式である古典の運動方程式解くわけですが、この積分プロセスの精度がタイムステップの大きさで決まります。（積分手法の詳細についてはこのセクションの最後に記載します。）タイムステップサイズを変えた時の全エネルギーがどのように変化するか見てみましょう。計算時間は仮に1 nsecとします。（古典MDなどで良く用いられる時間スケールです。）\n",
    "\n",
    "<p>\n",
    "<figure style=\"text-align: center\">\n",
    "    <img src=\"../assets/ch6/Fig6-1_Etot_vs_dt.png\">\n",
    "    <figcaption align = \"center\">Fig.6-1c. Time evolution of the total energy with respect to time step size.</figcaption>\n",
    "</figure>\n",
    "</p>\n",
    "</br>\n",
    "\n",
    "上記はタイムステップを0.5から5.0 fsecまで変化させたときの計算結果です。本来一定であるはずの全エネルギーが、タイムステップが大きいときに時間の経過とともに大きくぶれてしまっていることが確認できます。"
   ]
  },
  {
   "cell_type": "markdown",
   "id": "67e2c0f7-615c-48e9-bf21-a66c918f168b",
   "metadata": {},
   "source": [
    "全エネルギーの時間依存性確認のため、上記のMDシミュレーションスクリプトの`time_step` 引数を変えて実行し、そのエネルギープロファイルを比較してみてください。\n",
    "可視化にあたっては、上記Fig.6-1b の可視化コードを参考にしてください。"
   ]
  },
  {
   "cell_type": "markdown",
   "id": "44d1b21f-a5e6-4d0f-a75f-72a615356de8",
   "metadata": {},
   "source": [
    "上記の計算結果からMDのタイムステップサイズを変化し、横軸をステップサイズ、縦軸を全エネルギーの揺らぎから得られたRMSEをプロットすると以下のようになります。\n",
    "\n",
    "<p class=\"aligncenter\">\n",
    "<figure style=\"text-align: center\">\n",
    "    <img src=\"../assets/ch6/Fig6-1_Etot-RMSE_vs_dt.png\">\n",
    "    <figcaption align = \"center\">Fig.6-1d. Total energy ERMSE as a function of MD step size.</figcaption>\n",
    "</figure>\n",
    "</p>\n",
    "</br>\n",
    "\n",
    "縦軸は原子ひとつ辺りのエネルギーです。Log-logプロットで概ね直線上にのることが見て取れます。単位原子当たりの値にして、0.25 fsで1.2e-6 eVから5.0 fsで6e-5 fsまで変化することが分かります。この場合原子数は108原子なので、系全体で1e-4 eVから1e-3 eV変化しうることが確認できます。\n",
    "\n",
    "エネルギーの観点では時間ステップを1 fsecとすると、1 nsecのシミュレーションを100原子系で0.5 meV程度、1000原子系だと約5 meV程度の誤差が予想されます。もちろん計算したい物性などによりますが、たいていの計算では十分な精度ではないでしょうか？これが例えば計算時間を稼ぎたいからとタイムステップを5 fsecとするとほぼ一桁誤差が大きくなります。今後MD計算を活用するうえで、この計算精度がどの程度かというのは頭の片隅に止めておく必要があります。"
   ]
  },
  {
   "cell_type": "markdown",
   "id": "7bc5c90d-14d0-4c46-8f9c-98efb8717f21",
   "metadata": {},
   "source": [
    "## その他のアンサンブルとMDシミュレーション\n",
    "\n",
    "このセクションの最後にNVEアンサンブル以外のMDシミュレーション法について触れておきます。\n",
    "\n",
    "NVEアンサンブルのMDシミュレーションはシンプルかつパワフルな計算手法ですが、我々が一般に観察したい現象を再現するには不都合な点が多く存在します。\n",
    "NVEのシミュレーションは計算対象のセルそれそのものが全てであり、外界というものが存在しません。しかし我々が実際に観察したいミクロな世界にはそれを取り巻く環境が存在します。外部環境の温度や圧力の影響により、計算対象の状態が変化しますが、これはNVEアンサンブルの範疇では再現が出来ません。\n",
    "\n",
    "このため統計力学の世界ではcanonicalアンサンブル（NVT）、isothermal-isobaricアンサンブル（NPT）、等をはじめ様々な状態分布があり、それらを活用することで特定の条件下での計算が可能になります。以降のSectionではこれらの統計力学アンサンブル下での計算方法について学びます。"
   ]
  },
  {
   "cell_type": "markdown",
   "id": "f5f6ec4c-8d39-4674-850f-a8c67e291df4",
   "metadata": {},
   "source": [
    "## 参考文献：\n",
    "\n",
    "[1] M.P. Allen and D.J. Tildesley, \"Computer simulaiton of liquid\", 2nd Ed., Oxford University Press (2017) ISBN 978-0-19-880319-5. [DOI:10.1093/oso/9780198803195.001.0001](https://doi.org/10.1093/oso/9780198803195.001.0001)\n",
    "\n",
    "[2] D. Frenkel and B. Smit \"Understanding molecular simulation - from algorithms to applications\", 2nd Ed., Academic Press (2002) ISBN 978-0-12-267351-1. [DOI:10.1016/B978-0-12-267351-1.X5000-7](https://doi.org/10.1016/B978-0-12-267351-1.X5000-7)\n",
    "\n",
    "[3] M.E. Tuckerman, \"Statistical mechanics: Theory and molecular simulation\", Oxford University Press (2010) ISBN 978-0-19-852526-4. https://global.oup.com/academic/product/statistical-mechanics-9780198525264?q=Statistical%20mechanics:%20Theory%20and%20molecular%20simulation&cc=gb&lang=en#\n"
   ]
  }
 ],
 "metadata": {
  "kernelspec": {
   "display_name": "Python 3.7",
   "language": "python",
   "name": "python37"
  },
  "language_info": {
   "codemirror_mode": {
    "name": "ipython",
    "version": 3
   },
   "file_extension": ".py",
   "mimetype": "text/x-python",
   "name": "python",
   "nbconvert_exporter": "python",
   "pygments_lexer": "ipython3",
   "version": "3.7.13"
  },
  "toc-autonumbering": false,
  "toc-showcode": false,
  "widgets": {
   "application/vnd.jupyter.widget-state+json": {
    "state": {
     "01cf4b51f87340eca13133164d290a88": {
      "model_module": "@jupyter-widgets/controls",
      "model_module_version": "1.5.0",
      "model_name": "HBoxModel",
      "state": {
       "children": [
        "IPY_MODEL_21960d217ee444079ad1f6c4e5197d57",
        "IPY_MODEL_6dc1ce1701d24db5bbeb1ff5a65f076d"
       ],
       "layout": "IPY_MODEL_3bd0756602ec4ab09db1fe9f698d1d1b"
      }
     },
     "127ab7845b4c4ee59d163eee67dd5a4c": {
      "model_module": "@jupyter-widgets/controls",
      "model_module_version": "1.5.0",
      "model_name": "FloatSliderModel",
      "state": {
       "description": "Force scale",
       "layout": "IPY_MODEL_2aea68d6edd240f79445d383091d4eff",
       "step": 0.1,
       "style": "IPY_MODEL_a75748d2e45d4438ad18de7324ce984b",
       "value": 0.5
      }
     },
     "13be25c014e84b5f9aebb5f246c1a4fd": {
      "model_module": "@jupyter-widgets/controls",
      "model_module_version": "1.5.0",
      "model_name": "FloatSliderModel",
      "state": {
       "description": "Charge scale",
       "layout": "IPY_MODEL_31489016473046569d74fc1d2b0fe8de",
       "step": 0.1,
       "style": "IPY_MODEL_bc2dc2760d5c40f79d803f03aeb0b92b",
       "value": 1
      }
     },
     "175dbb51f26a475d979fdc79d6842755": {
      "model_module": "@jupyter-widgets/base",
      "model_module_version": "1.2.0",
      "model_name": "LayoutModel",
      "state": {}
     },
     "1e499dece9a9428c90b63cb3adf83491": {
      "model_module": "@jupyter-widgets/controls",
      "model_module_version": "1.5.0",
      "model_name": "ButtonStyleModel",
      "state": {}
     },
     "1ef1f74d1a804c0a9178e986f8455a7b": {
      "model_module": "@jupyter-widgets/base",
      "model_module_version": "1.2.0",
      "model_name": "LayoutModel",
      "state": {}
     },
     "21960d217ee444079ad1f6c4e5197d57": {
      "model_module": "@jupyter-widgets/controls",
      "model_module_version": "1.5.0",
      "model_name": "ButtonModel",
      "state": {
       "description": "Download image",
       "layout": "IPY_MODEL_8c2213033be14bd38575ebd8ba83dd40",
       "style": "IPY_MODEL_1e499dece9a9428c90b63cb3adf83491",
       "tooltip": "Download current frame to your local PC"
      }
     },
     "2493538c7ce0478b9219a8177e38e984": {
      "model_module": "@jupyter-widgets/controls",
      "model_module_version": "1.5.0",
      "model_name": "LinkModel",
      "state": {
       "source": [
        "IPY_MODEL_405577079968490ba93bb758c9b611c7",
        "max"
       ],
       "target": [
        "IPY_MODEL_80e27406b9044f6bb737678e3222366a",
        "max_frame"
       ]
      }
     },
     "2790810ed8d549ba9d4ffaf30ffc4a09": {
      "model_module": "@jupyter-widgets/base",
      "model_module_version": "1.2.0",
      "model_name": "LayoutModel",
      "state": {}
     },
     "2aea68d6edd240f79445d383091d4eff": {
      "model_module": "@jupyter-widgets/base",
      "model_module_version": "1.2.0",
      "model_name": "LayoutModel",
      "state": {}
     },
     "2baf50f721164e3886cf611ab2435b6d": {
      "model_module": "@jupyter-widgets/controls",
      "model_module_version": "1.5.0",
      "model_name": "ButtonStyleModel",
      "state": {}
     },
     "2e2e538a29554e468d0c351681dcb5ae": {
      "model_module": "@jupyter-widgets/base",
      "model_module_version": "1.2.0",
      "model_name": "LayoutModel",
      "state": {
       "width": "34px"
      }
     },
     "31489016473046569d74fc1d2b0fe8de": {
      "model_module": "@jupyter-widgets/base",
      "model_module_version": "1.2.0",
      "model_name": "LayoutModel",
      "state": {}
     },
     "3304f2a4ebc5479fa2e323a22b79f47d": {
      "model_module": "@jupyter-widgets/controls",
      "model_module_version": "1.5.0",
      "model_name": "LinkModel",
      "state": {
       "source": [
        "IPY_MODEL_8c8b4a701f6645a0b57ade53a7919f19",
        "max"
       ],
       "target": [
        "IPY_MODEL_80e27406b9044f6bb737678e3222366a",
        "max_frame"
       ]
      }
     },
     "33b834fc873042a29ef88f7220c03bad": {
      "model_module": "@jupyter-widgets/controls",
      "model_module_version": "1.5.0",
      "model_name": "CheckboxModel",
      "state": {
       "description": "Show force",
       "disabled": false,
       "layout": "IPY_MODEL_d82232b1dcd44327ad2c9fb3ac0296b2",
       "style": "IPY_MODEL_e649238f12dd49d28c101d825626ea65",
       "value": false
      }
     },
     "3562fc0b7f4f47fc84f0a39c249e55a6": {
      "model_module": "@jupyter-widgets/base",
      "model_module_version": "1.2.0",
      "model_name": "LayoutModel",
      "state": {}
     },
     "39133571047f4db7bd53a26e32c88f02": {
      "model_module": "@jupyter-widgets/base",
      "model_module_version": "1.2.0",
      "model_name": "LayoutModel",
      "state": {
       "border": "0px solid black"
      }
     },
     "3a18b220df284a44bd8d8c753610c016": {
      "model_module": "@jupyter-widgets/controls",
      "model_module_version": "1.5.0",
      "model_name": "SliderStyleModel",
      "state": {
       "description_width": ""
      }
     },
     "3bd0756602ec4ab09db1fe9f698d1d1b": {
      "model_module": "@jupyter-widgets/base",
      "model_module_version": "1.2.0",
      "model_name": "LayoutModel",
      "state": {}
     },
     "3de9b4a3c58a4623a7bbf3990d7c300e": {
      "model_module": "@jupyter-widgets/base",
      "model_module_version": "1.2.0",
      "model_name": "LayoutModel",
      "state": {}
     },
     "403d16703d5e48998c07ced6448ec9d4": {
      "model_module": "@jupyter-widgets/base",
      "model_module_version": "1.2.0",
      "model_name": "LayoutModel",
      "state": {}
     },
     "405577079968490ba93bb758c9b611c7": {
      "model_module": "@jupyter-widgets/controls",
      "model_module_version": "1.5.0",
      "model_name": "IntSliderModel",
      "state": {
       "layout": "IPY_MODEL_fb8039d710e147dabc86a312bc9b1a60",
       "style": "IPY_MODEL_f4851c68a40e4b1db86fc2b92122120b"
      }
     },
     "422735cc6e434c24a5f925343b10cc52": {
      "model_module": "@jupyter-widgets/controls",
      "model_module_version": "1.5.0",
      "model_name": "DescriptionStyleModel",
      "state": {
       "description_width": ""
      }
     },
     "42972bdab0944dd09667954a121042fb": {
      "model_module": "@jupyter-widgets/output",
      "model_module_version": "1.0.0",
      "model_name": "OutputModel",
      "state": {
       "layout": "IPY_MODEL_39133571047f4db7bd53a26e32c88f02"
      }
     },
     "4307f6f5445a4e21a57b9fc26835abbd": {
      "model_module": "@jupyter-widgets/controls",
      "model_module_version": "1.5.0",
      "model_name": "DropdownModel",
      "state": {
       "_options_labels": [
        " ",
        "picking",
        "random",
        "uniform",
        "atomindex",
        "residueindex",
        "chainindex",
        "modelindex",
        "sstruc",
        "element",
        "resname",
        "bfactor",
        "hydrophobicity",
        "value",
        "volume",
        "occupancy"
       ],
       "description": "Color scheme",
       "index": 9,
       "layout": "IPY_MODEL_f6fe7d0792984e18ae5517284aae0dbd",
       "style": "IPY_MODEL_422735cc6e434c24a5f925343b10cc52"
      }
     },
     "4ab2181c7d3541e3ba6c1777aff412b7": {
      "model_module": "@jupyter-widgets/controls",
      "model_module_version": "1.5.0",
      "model_name": "DescriptionStyleModel",
      "state": {
       "description_width": ""
      }
     },
     "4b53daf60ac14244b2cd0becd8013105": {
      "model_module": "@jupyter-widgets/base",
      "model_module_version": "1.2.0",
      "model_name": "LayoutModel",
      "state": {}
     },
     "5208b2fc9d7e47a0ba7057ffc4099880": {
      "model_module": "@jupyter-widgets/controls",
      "model_module_version": "1.5.0",
      "model_name": "ButtonStyleModel",
      "state": {}
     },
     "68353eaca33f4b14b013d59d29850cae": {
      "model_module": "@jupyter-widgets/controls",
      "model_module_version": "1.5.0",
      "model_name": "HBoxModel",
      "state": {
       "children": [
        "IPY_MODEL_8c8b4a701f6645a0b57ade53a7919f19",
        "IPY_MODEL_405577079968490ba93bb758c9b611c7"
       ],
       "layout": "IPY_MODEL_fbe2bc5ca09647f091d8f72686a4db56"
      }
     },
     "6dc1ce1701d24db5bbeb1ff5a65f076d": {
      "model_module": "@jupyter-widgets/controls",
      "model_module_version": "1.5.0",
      "model_name": "ButtonModel",
      "state": {
       "description": "Save image",
       "layout": "IPY_MODEL_3562fc0b7f4f47fc84f0a39c249e55a6",
       "style": "IPY_MODEL_5208b2fc9d7e47a0ba7057ffc4099880",
       "tooltip": "Save current frame to file.\nCurrently .png and .html are supported.\nIt takes a bit time, please be patient."
      }
     },
     "73e8bd39ad5640c9a3070e0826c872d1": {
      "model_module": "@jupyter-widgets/base",
      "model_module_version": "1.2.0",
      "model_name": "LayoutModel",
      "state": {}
     },
     "78f68c64ccc4419dbb92486260d9983a": {
      "model_module": "@jupyter-widgets/controls",
      "model_module_version": "1.5.0",
      "model_name": "ButtonModel",
      "state": {
       "icon": "compress",
       "layout": "IPY_MODEL_2e2e538a29554e468d0c351681dcb5ae",
       "style": "IPY_MODEL_2baf50f721164e3886cf611ab2435b6d"
      }
     },
     "7d03999c0034409491f660ce7cd6abcb": {
      "model_module": "nglview-js-widgets",
      "model_module_version": "3.0.1",
      "model_name": "ColormakerRegistryModel",
      "state": {
       "_msg_ar": [],
       "_msg_q": [],
       "_ready": true,
       "layout": "IPY_MODEL_403d16703d5e48998c07ced6448ec9d4"
      }
     },
     "7e1ef46d61f542449f401fa94a6654dd": {
      "model_module": "@jupyter-widgets/controls",
      "model_module_version": "1.5.0",
      "model_name": "ImageModel",
      "state": {
       "layout": "IPY_MODEL_ca8b91cbde4f4249815dae2e55fae95e",
       "width": "900.0"
      }
     },
     "80e27406b9044f6bb737678e3222366a": {
      "model_module": "nglview-js-widgets",
      "model_module_version": "3.0.1",
      "model_name": "NGLModel",
      "state": {
       "_camera_orientation": [
        23.566082924859067,
        0,
        0,
        0,
        0,
        23.566082924859067,
        0,
        0,
        0,
        0,
        23.566082924859067,
        0,
        -5.375,
        -5.375,
        -5.375,
        1
       ],
       "_camera_str": "orthographic",
       "_gui_theme": null,
       "_ibtn_fullscreen": "IPY_MODEL_78f68c64ccc4419dbb92486260d9983a",
       "_igui": null,
       "_iplayer": "IPY_MODEL_68353eaca33f4b14b013d59d29850cae",
       "_ngl_color_dict": {},
       "_ngl_coordinate_resource": {},
       "_ngl_full_stage_parameters": {
        "ambientColor": 14540253,
        "ambientIntensity": 0.2,
        "backgroundColor": "white",
        "cameraEyeSep": 0.3,
        "cameraFov": 40,
        "cameraType": "orthographic",
        "clipDist": 0,
        "clipFar": 100,
        "clipNear": 0,
        "fogFar": 100,
        "fogNear": 50,
        "hoverTimeout": 0,
        "impostor": true,
        "lightColor": 14540253,
        "lightIntensity": 1,
        "mousePreset": "default",
        "panSpeed": 1,
        "quality": "medium",
        "rotateSpeed": 2,
        "sampleLevel": 0,
        "tooltip": true,
        "workerDefault": true,
        "zoomSpeed": 1.2
       },
       "_ngl_msg_archive": [
        {
         "args": [
          {
           "binary": false,
           "data": "CRYST1   12.900   12.900   12.900  90.00  90.00  90.00 P 1\nMODEL     1\nATOM      1   Al MOL     1       0.000   0.000   0.000  1.00  0.00          AL  \nATOM      2   Al MOL     1       0.000   2.150   2.150  1.00  0.00          AL  \nATOM      3   Al MOL     1       2.150   0.000   2.150  1.00  0.00          AL  \nATOM      4   Al MOL     1       2.150   2.150   0.000  1.00  0.00          AL  \nATOM      5   Al MOL     1       0.000   0.000   4.300  1.00  0.00          AL  \nATOM      6   Al MOL     1       0.000   2.150   6.450  1.00  0.00          AL  \nATOM      7   Al MOL     1       2.150   0.000   6.450  1.00  0.00          AL  \nATOM      8   Al MOL     1       2.150   2.150   4.300  1.00  0.00          AL  \nATOM      9   Al MOL     1       0.000   0.000   8.600  1.00  0.00          AL  \nATOM     10   Al MOL     1       0.000   2.150  10.750  1.00  0.00          AL  \nATOM     11   Al MOL     1       2.150   0.000  10.750  1.00  0.00          AL  \nATOM     12   Al MOL     1       2.150   2.150   8.600  1.00  0.00          AL  \nATOM     13   Al MOL     1       0.000   4.300   0.000  1.00  0.00          AL  \nATOM     14   Al MOL     1       0.000   6.450   2.150  1.00  0.00          AL  \nATOM     15   Al MOL     1       2.150   4.300   2.150  1.00  0.00          AL  \nATOM     16   Al MOL     1       2.150   6.450   0.000  1.00  0.00          AL  \nATOM     17   Al MOL     1       0.000   4.300   4.300  1.00  0.00          AL  \nATOM     18   Al MOL     1       0.000   6.450   6.450  1.00  0.00          AL  \nATOM     19   Al MOL     1       2.150   4.300   6.450  1.00  0.00          AL  \nATOM     20   Al MOL     1       2.150   6.450   4.300  1.00  0.00          AL  \nATOM     21   Al MOL     1       0.000   4.300   8.600  1.00  0.00          AL  \nATOM     22   Al MOL     1       0.000   6.450  10.750  1.00  0.00          AL  \nATOM     23   Al MOL     1       2.150   4.300  10.750  1.00  0.00          AL  \nATOM     24   Al MOL     1       2.150   6.450   8.600  1.00  0.00          AL  \nATOM     25   Al MOL     1       0.000   8.600   0.000  1.00  0.00          AL  \nATOM     26   Al MOL     1       0.000  10.750   2.150  1.00  0.00          AL  \nATOM     27   Al MOL     1       2.150   8.600   2.150  1.00  0.00          AL  \nATOM     28   Al MOL     1       2.150  10.750   0.000  1.00  0.00          AL  \nATOM     29   Al MOL     1       0.000   8.600   4.300  1.00  0.00          AL  \nATOM     30   Al MOL     1       0.000  10.750   6.450  1.00  0.00          AL  \nATOM     31   Al MOL     1       2.150   8.600   6.450  1.00  0.00          AL  \nATOM     32   Al MOL     1       2.150  10.750   4.300  1.00  0.00          AL  \nATOM     33   Al MOL     1       0.000   8.600   8.600  1.00  0.00          AL  \nATOM     34   Al MOL     1       0.000  10.750  10.750  1.00  0.00          AL  \nATOM     35   Al MOL     1       2.150   8.600  10.750  1.00  0.00          AL  \nATOM     36   Al MOL     1       2.150  10.750   8.600  1.00  0.00          AL  \nATOM     37   Al MOL     1       4.300   0.000   0.000  1.00  0.00          AL  \nATOM     38   Al MOL     1       4.300   2.150   2.150  1.00  0.00          AL  \nATOM     39   Al MOL     1       6.450   0.000   2.150  1.00  0.00          AL  \nATOM     40   Al MOL     1       6.450   2.150   0.000  1.00  0.00          AL  \nATOM     41   Al MOL     1       4.300   0.000   4.300  1.00  0.00          AL  \nATOM     42   Al MOL     1       4.300   2.150   6.450  1.00  0.00          AL  \nATOM     43   Al MOL     1       6.450   0.000   6.450  1.00  0.00          AL  \nATOM     44   Al MOL     1       6.450   2.150   4.300  1.00  0.00          AL  \nATOM     45   Al MOL     1       4.300   0.000   8.600  1.00  0.00          AL  \nATOM     46   Al MOL     1       4.300   2.150  10.750  1.00  0.00          AL  \nATOM     47   Al MOL     1       6.450   0.000  10.750  1.00  0.00          AL  \nATOM     48   Al MOL     1       6.450   2.150   8.600  1.00  0.00          AL  \nATOM     49   Al MOL     1       4.300   4.300   0.000  1.00  0.00          AL  \nATOM     50   Al MOL     1       4.300   6.450   2.150  1.00  0.00          AL  \nATOM     51   Al MOL     1       6.450   4.300   2.150  1.00  0.00          AL  \nATOM     52   Al MOL     1       6.450   6.450   0.000  1.00  0.00          AL  \nATOM     53   Al MOL     1       4.300   4.300   4.300  1.00  0.00          AL  \nATOM     54   Al MOL     1       4.300   6.450   6.450  1.00  0.00          AL  \nATOM     55   Al MOL     1       6.450   4.300   6.450  1.00  0.00          AL  \nATOM     56   Al MOL     1       6.450   6.450   4.300  1.00  0.00          AL  \nATOM     57   Al MOL     1       4.300   4.300   8.600  1.00  0.00          AL  \nATOM     58   Al MOL     1       4.300   6.450  10.750  1.00  0.00          AL  \nATOM     59   Al MOL     1       6.450   4.300  10.750  1.00  0.00          AL  \nATOM     60   Al MOL     1       6.450   6.450   8.600  1.00  0.00          AL  \nATOM     61   Al MOL     1       4.300   8.600   0.000  1.00  0.00          AL  \nATOM     62   Al MOL     1       4.300  10.750   2.150  1.00  0.00          AL  \nATOM     63   Al MOL     1       6.450   8.600   2.150  1.00  0.00          AL  \nATOM     64   Al MOL     1       6.450  10.750   0.000  1.00  0.00          AL  \nATOM     65   Al MOL     1       4.300   8.600   4.300  1.00  0.00          AL  \nATOM     66   Al MOL     1       4.300  10.750   6.450  1.00  0.00          AL  \nATOM     67   Al MOL     1       6.450   8.600   6.450  1.00  0.00          AL  \nATOM     68   Al MOL     1       6.450  10.750   4.300  1.00  0.00          AL  \nATOM     69   Al MOL     1       4.300   8.600   8.600  1.00  0.00          AL  \nATOM     70   Al MOL     1       4.300  10.750  10.750  1.00  0.00          AL  \nATOM     71   Al MOL     1       6.450   8.600  10.750  1.00  0.00          AL  \nATOM     72   Al MOL     1       6.450  10.750   8.600  1.00  0.00          AL  \nATOM     73   Al MOL     1       8.600   0.000   0.000  1.00  0.00          AL  \nATOM     74   Al MOL     1       8.600   2.150   2.150  1.00  0.00          AL  \nATOM     75   Al MOL     1      10.750   0.000   2.150  1.00  0.00          AL  \nATOM     76   Al MOL     1      10.750   2.150   0.000  1.00  0.00          AL  \nATOM     77   Al MOL     1       8.600   0.000   4.300  1.00  0.00          AL  \nATOM     78   Al MOL     1       8.600   2.150   6.450  1.00  0.00          AL  \nATOM     79   Al MOL     1      10.750   0.000   6.450  1.00  0.00          AL  \nATOM     80   Al MOL     1      10.750   2.150   4.300  1.00  0.00          AL  \nATOM     81   Al MOL     1       8.600   0.000   8.600  1.00  0.00          AL  \nATOM     82   Al MOL     1       8.600   2.150  10.750  1.00  0.00          AL  \nATOM     83   Al MOL     1      10.750   0.000  10.750  1.00  0.00          AL  \nATOM     84   Al MOL     1      10.750   2.150   8.600  1.00  0.00          AL  \nATOM     85   Al MOL     1       8.600   4.300   0.000  1.00  0.00          AL  \nATOM     86   Al MOL     1       8.600   6.450   2.150  1.00  0.00          AL  \nATOM     87   Al MOL     1      10.750   4.300   2.150  1.00  0.00          AL  \nATOM     88   Al MOL     1      10.750   6.450   0.000  1.00  0.00          AL  \nATOM     89   Al MOL     1       8.600   4.300   4.300  1.00  0.00          AL  \nATOM     90   Al MOL     1       8.600   6.450   6.450  1.00  0.00          AL  \nATOM     91   Al MOL     1      10.750   4.300   6.450  1.00  0.00          AL  \nATOM     92   Al MOL     1      10.750   6.450   4.300  1.00  0.00          AL  \nATOM     93   Al MOL     1       8.600   4.300   8.600  1.00  0.00          AL  \nATOM     94   Al MOL     1       8.600   6.450  10.750  1.00  0.00          AL  \nATOM     95   Al MOL     1      10.750   4.300  10.750  1.00  0.00          AL  \nATOM     96   Al MOL     1      10.750   6.450   8.600  1.00  0.00          AL  \nATOM     97   Al MOL     1       8.600   8.600   0.000  1.00  0.00          AL  \nATOM     98   Al MOL     1       8.600  10.750   2.150  1.00  0.00          AL  \nATOM     99   Al MOL     1      10.750   8.600   2.150  1.00  0.00          AL  \nATOM    100   Al MOL     1      10.750  10.750   0.000  1.00  0.00          AL  \nATOM    101   Al MOL     1       8.600   8.600   4.300  1.00  0.00          AL  \nATOM    102   Al MOL     1       8.600  10.750   6.450  1.00  0.00          AL  \nATOM    103   Al MOL     1      10.750   8.600   6.450  1.00  0.00          AL  \nATOM    104   Al MOL     1      10.750  10.750   4.300  1.00  0.00          AL  \nATOM    105   Al MOL     1       8.600   8.600   8.600  1.00  0.00          AL  \nATOM    106   Al MOL     1       8.600  10.750  10.750  1.00  0.00          AL  \nATOM    107   Al MOL     1      10.750   8.600  10.750  1.00  0.00          AL  \nATOM    108   Al MOL     1      10.750  10.750   8.600  1.00  0.00          AL  \nENDMDL\n",
           "type": "blob"
          }
         ],
         "kwargs": {
          "defaultRepresentation": false,
          "ext": "pdb"
         },
         "methodName": "loadFile",
         "reconstruc_color_scheme": false,
         "target": "Stage",
         "type": "call_method"
        },
        {
         "args": [
          "500px",
          "500px"
         ],
         "kwargs": {},
         "methodName": "setSize",
         "reconstruc_color_scheme": false,
         "target": "Widget",
         "type": "call_method"
        },
        {
         "args": [
          "unitcell"
         ],
         "component_index": 0,
         "kwargs": {
          "sele": "all"
         },
         "methodName": "addRepresentation",
         "reconstruc_color_scheme": false,
         "target": "compList",
         "type": "call_method"
        },
        {
         "args": [
          "spacefill"
         ],
         "component_index": 0,
         "kwargs": {
          "sele": "all"
         },
         "methodName": "addRepresentation",
         "reconstruc_color_scheme": false,
         "target": "compList",
         "type": "call_method"
        },
        {
         "args": [],
         "kwargs": {
          "cameraType": "orthographic"
         },
         "methodName": "setParameters",
         "reconstruc_color_scheme": false,
         "target": "Stage",
         "type": "call_method"
        },
        {
         "args": [
          {
           "clipDist": 0
          }
         ],
         "kwargs": {},
         "methodName": "setParameters",
         "reconstruc_color_scheme": false,
         "target": "Widget",
         "type": "call_method"
        },
        {
         "args": [
          "spacefill",
          0
         ],
         "kwargs": {
          "colorScale": "rainbow",
          "colorScheme": "element",
          "radiusScale": 0.5,
          "radiusType": "covalent"
         },
         "methodName": "updateRepresentationsByName",
         "reconstruc_color_scheme": false,
         "target": "Widget",
         "type": "call_method"
        },
        {
         "args": [
          "this._Q = [[1.0, 0.0, 0.0], [0.0, 1.0, 0.0], [0.0, 0.0, 1.0]]\n    var tooltip = document.createElement('div')\n    Object.assign(tooltip.style, {\n      display: 'none',\n      position: 'fixed',\n      zIndex: 10,\n      pointerEvents: 'none',\n      backgroundColor: 'rgba( 0, 0, 0, 0.6 )',\n      color: 'lightgrey',\n      padding: '8px',\n      fontFamily: 'sans-serif'\n    })\n    document.body.appendChild(tooltip)\n\n    var that = this\n    this.stage.mouseControls.remove('hoverPick')\n    this.stage.signals.hovered.add(function (pickingProxy) {\n      if (pickingProxy && (pickingProxy.atom || pickingProxy.bond)) {\n        var atom = pickingProxy.atom || pickingProxy.closestBondAtom\n        var mp = pickingProxy.mouse.position\n        //tooltip.innerText = atom.element + ' i=' + atom.index + ' (' + atom.x.toFixed(2) +  ', ' + atom.y.toFixed(2) +  ', ' + atom.z.toFixed(2) + ')'\n        //var pos = that._atoms_pos[atom.index]\n        var Q = that._Q\n        var pos_x = Q[0][0] * atom.x + Q[0][1] * atom.y + Q[0][2] * atom.z \n        var pos_y = Q[1][0] * atom.x + Q[1][1] * atom.y + Q[1][2] * atom.z\n        var pos_z = Q[2][0] * atom.x + Q[2][1] * atom.y + Q[2][2] * atom.z\n        tooltip.innerText = 'i=' + atom.index + ' ' + atom.element + ' (' + pos_x.toFixed(2) +  ', ' + pos_y.toFixed(2) +  ', ' + pos_z.toFixed(2) + ')'\n        tooltip.style.bottom = window.innerHeight - mp.y + 3 + 'px'\n        tooltip.style.left = mp.x + 3 + 'px'\n        tooltip.style.display = 'block'\n      } else {\n        tooltip.style.display = 'none'\n      }\n    })\n    "
         ],
         "kwargs": {},
         "methodName": "executeCode",
         "reconstruc_color_scheme": false,
         "target": "Widget",
         "type": "call_method"
        }
       ],
       "_ngl_original_stage_parameters": {
        "ambientColor": 14540253,
        "ambientIntensity": 0.2,
        "backgroundColor": "white",
        "cameraEyeSep": 0.3,
        "cameraFov": 40,
        "cameraType": "perspective",
        "clipDist": 10,
        "clipFar": 100,
        "clipNear": 0,
        "fogFar": 100,
        "fogNear": 50,
        "hoverTimeout": 0,
        "impostor": true,
        "lightColor": 14540253,
        "lightIntensity": 1,
        "mousePreset": "default",
        "panSpeed": 1,
        "quality": "medium",
        "rotateSpeed": 2,
        "sampleLevel": 0,
        "tooltip": true,
        "workerDefault": true,
        "zoomSpeed": 1.2
       },
       "_ngl_repr_dict": {
        "0": {
         "0": {
          "params": {
           "clipCenter": {
            "x": 0,
            "y": 0,
            "z": 0
           },
           "clipNear": 0,
           "clipRadius": 0,
           "colorMode": "hcl",
           "colorReverse": false,
           "colorScale": "",
           "colorScheme": "element",
           "colorValue": "orange",
           "defaultAssembly": "",
           "depthWrite": true,
           "diffuse": 16777215,
           "diffuseInterior": false,
           "disableImpostor": false,
           "disablePicking": false,
           "flatShaded": false,
           "interiorColor": 2236962,
           "interiorDarkening": 0,
           "lazy": false,
           "matrix": {
            "elements": [
             1,
             0,
             0,
             0,
             0,
             1,
             0,
             0,
             0,
             0,
             1,
             0,
             0,
             0,
             0,
             1
            ]
           },
           "metalness": 0,
           "opacity": 1,
           "quality": "medium",
           "radialSegments": 10,
           "radiusData": {},
           "radiusScale": 1,
           "radiusSize": 0.0644999971687006,
           "radiusType": "vdw",
           "roughness": 0.4,
           "sele": "all",
           "side": "double",
           "sphereDetail": 1,
           "useInteriorColor": true,
           "visible": true,
           "wireframe": false
          },
          "type": "unitcell"
         },
         "1": {
          "params": {
           "assembly": "default",
           "clipCenter": {
            "x": 0,
            "y": 0,
            "z": 0
           },
           "clipNear": 0,
           "clipRadius": 0,
           "colorMode": "hcl",
           "colorReverse": false,
           "colorScale": "rainbow",
           "colorScheme": "element",
           "colorValue": 9474192,
           "defaultAssembly": "",
           "depthWrite": true,
           "diffuse": 16777215,
           "diffuseInterior": false,
           "disableImpostor": false,
           "disablePicking": false,
           "flatShaded": false,
           "interiorColor": 2236962,
           "interiorDarkening": 0,
           "lazy": false,
           "matrix": {
            "elements": [
             1,
             0,
             0,
             0,
             0,
             1,
             0,
             0,
             0,
             0,
             1,
             0,
             0,
             0,
             0,
             1
            ]
           },
           "metalness": 0,
           "opacity": 1,
           "quality": "medium",
           "radiusData": {},
           "radiusScale": 0.5,
           "radiusSize": 1,
           "radiusType": "covalent",
           "roughness": 0.4,
           "sele": "all",
           "side": "double",
           "sphereDetail": 1,
           "useInteriorColor": true,
           "visible": true,
           "wireframe": false
          },
          "type": "spacefill"
         }
        }
       },
       "_ngl_serialize": false,
       "_ngl_version": "2.0.0-dev.36",
       "_ngl_view_id": [
        "3B483A89-F06F-4E0D-A82E-AB08A65E5B8E"
       ],
       "_player_dict": {},
       "_scene_position": {},
       "_scene_rotation": {},
       "_synced_model_ids": [],
       "_synced_repr_model_ids": [],
       "_view_height": "",
       "_view_width": "",
       "background": "white",
       "frame": 0,
       "gui_style": null,
       "layout": "IPY_MODEL_175dbb51f26a475d979fdc79d6842755",
       "max_frame": 100,
       "n_components": 1,
       "picked": {}
      }
     },
     "8c2213033be14bd38575ebd8ba83dd40": {
      "model_module": "@jupyter-widgets/base",
      "model_module_version": "1.2.0",
      "model_name": "LayoutModel",
      "state": {}
     },
     "8c8b4a701f6645a0b57ade53a7919f19": {
      "model_module": "@jupyter-widgets/controls",
      "model_module_version": "1.5.0",
      "model_name": "PlayModel",
      "state": {
       "layout": "IPY_MODEL_b9ba63eab33343678238e1651379071f",
       "style": "IPY_MODEL_f8d3e344b3e14ceebab43b7d0b877859"
      }
     },
     "92ed8ee0d20b4d77a73b13b7161fd192": {
      "model_module": "@jupyter-widgets/controls",
      "model_module_version": "1.5.0",
      "model_name": "IntSliderModel",
      "state": {
       "layout": "IPY_MODEL_73e8bd39ad5640c9a3070e0826c872d1",
       "style": "IPY_MODEL_d6a2fc4adb88498c828cedb1f7e21d83"
      }
     },
     "9b59893119dd41639889e7f0851a9378": {
      "model_module": "@jupyter-widgets/controls",
      "model_module_version": "1.5.0",
      "model_name": "CheckboxModel",
      "state": {
       "description": "Show charge",
       "disabled": false,
       "layout": "IPY_MODEL_b1b56bd07aa0489dbc3293c66f33c997",
       "style": "IPY_MODEL_e927fe1a6fb540dead2a5f043f00dcdc",
       "value": false
      }
     },
     "a75748d2e45d4438ad18de7324ce984b": {
      "model_module": "@jupyter-widgets/controls",
      "model_module_version": "1.5.0",
      "model_name": "SliderStyleModel",
      "state": {
       "description_width": ""
      }
     },
     "a78220b37f00461d9d2c915246f972db": {
      "model_module": "@jupyter-widgets/controls",
      "model_module_version": "1.5.0",
      "model_name": "VBoxModel",
      "state": {
       "children": [
        "IPY_MODEL_f2bc5df3804c42408e4bf6e95ae3ee4b",
        "IPY_MODEL_4307f6f5445a4e21a57b9fc26835abbd",
        "IPY_MODEL_bfe410071da7499d88fc570a36991bc8",
        "IPY_MODEL_92ed8ee0d20b4d77a73b13b7161fd192",
        "IPY_MODEL_cb5ad7207efb496a9807b38386dd0496",
        "IPY_MODEL_01cf4b51f87340eca13133164d290a88",
        "IPY_MODEL_33b834fc873042a29ef88f7220c03bad",
        "IPY_MODEL_127ab7845b4c4ee59d163eee67dd5a4c",
        "IPY_MODEL_9b59893119dd41639889e7f0851a9378",
        "IPY_MODEL_13be25c014e84b5f9aebb5f246c1a4fd",
        "IPY_MODEL_42972bdab0944dd09667954a121042fb"
       ],
       "layout": "IPY_MODEL_1ef1f74d1a804c0a9178e986f8455a7b"
      }
     },
     "ae4279a571e3462697dccc31fa936058": {
      "model_module": "@jupyter-widgets/controls",
      "model_module_version": "1.5.0",
      "model_name": "LinkModel",
      "state": {
       "source": [
        "IPY_MODEL_8c8b4a701f6645a0b57ade53a7919f19",
        "value"
       ],
       "target": [
        "IPY_MODEL_405577079968490ba93bb758c9b611c7",
        "value"
       ]
      }
     },
     "b1b56bd07aa0489dbc3293c66f33c997": {
      "model_module": "@jupyter-widgets/base",
      "model_module_version": "1.2.0",
      "model_name": "LayoutModel",
      "state": {}
     },
     "b81f221a85034cd8b6ca6cdfcb29e0ec": {
      "model_module": "@jupyter-widgets/controls",
      "model_module_version": "1.5.0",
      "model_name": "DescriptionStyleModel",
      "state": {
       "description_width": ""
      }
     },
     "b9ba63eab33343678238e1651379071f": {
      "model_module": "@jupyter-widgets/base",
      "model_module_version": "1.2.0",
      "model_name": "LayoutModel",
      "state": {}
     },
     "bc2dc2760d5c40f79d803f03aeb0b92b": {
      "model_module": "@jupyter-widgets/controls",
      "model_module_version": "1.5.0",
      "model_name": "SliderStyleModel",
      "state": {
       "description_width": ""
      }
     },
     "bfe410071da7499d88fc570a36991bc8": {
      "model_module": "@jupyter-widgets/controls",
      "model_module_version": "1.5.0",
      "model_name": "FloatSliderModel",
      "state": {
       "description": "Ball size",
       "layout": "IPY_MODEL_2790810ed8d549ba9d4ffaf30ffc4a09",
       "max": 1.5,
       "step": 0.01,
       "style": "IPY_MODEL_3a18b220df284a44bd8d8c753610c016",
       "value": 0.5
      }
     },
     "c796a0150fda4ddcbad5fe29ce8b9ace": {
      "model_module": "@jupyter-widgets/controls",
      "model_module_version": "1.5.0",
      "model_name": "LinkModel",
      "state": {
       "source": [
        "IPY_MODEL_8c8b4a701f6645a0b57ade53a7919f19",
        "value"
       ],
       "target": [
        "IPY_MODEL_80e27406b9044f6bb737678e3222366a",
        "frame"
       ]
      }
     },
     "c8cad9cc788c40faae6b3bbc0753fe3a": {
      "model_module": "@jupyter-widgets/base",
      "model_module_version": "1.2.0",
      "model_name": "LayoutModel",
      "state": {}
     },
     "ca8b91cbde4f4249815dae2e55fae95e": {
      "model_module": "@jupyter-widgets/base",
      "model_module_version": "1.2.0",
      "model_name": "LayoutModel",
      "state": {}
     },
     "cb5ad7207efb496a9807b38386dd0496": {
      "model_module": "@jupyter-widgets/controls",
      "model_module_version": "1.5.0",
      "model_name": "TextModel",
      "state": {
       "description": "Filename: ",
       "layout": "IPY_MODEL_c8cad9cc788c40faae6b3bbc0753fe3a",
       "style": "IPY_MODEL_b81f221a85034cd8b6ca6cdfcb29e0ec",
       "value": "screenshot.png"
      }
     },
     "d6a2fc4adb88498c828cedb1f7e21d83": {
      "model_module": "@jupyter-widgets/controls",
      "model_module_version": "1.5.0",
      "model_name": "SliderStyleModel",
      "state": {
       "description_width": ""
      }
     },
     "d82232b1dcd44327ad2c9fb3ac0296b2": {
      "model_module": "@jupyter-widgets/base",
      "model_module_version": "1.2.0",
      "model_name": "LayoutModel",
      "state": {}
     },
     "e649238f12dd49d28c101d825626ea65": {
      "model_module": "@jupyter-widgets/controls",
      "model_module_version": "1.5.0",
      "model_name": "DescriptionStyleModel",
      "state": {
       "description_width": ""
      }
     },
     "e927fe1a6fb540dead2a5f043f00dcdc": {
      "model_module": "@jupyter-widgets/controls",
      "model_module_version": "1.5.0",
      "model_name": "DescriptionStyleModel",
      "state": {
       "description_width": ""
      }
     },
     "f2bc5df3804c42408e4bf6e95ae3ee4b": {
      "model_module": "@jupyter-widgets/controls",
      "model_module_version": "1.5.0",
      "model_name": "DropdownModel",
      "state": {
       "_options_labels": [
        "All",
        "Al"
       ],
       "description": "Show",
       "index": 0,
       "layout": "IPY_MODEL_4b53daf60ac14244b2cd0becd8013105",
       "style": "IPY_MODEL_4ab2181c7d3541e3ba6c1777aff412b7"
      }
     },
     "f4851c68a40e4b1db86fc2b92122120b": {
      "model_module": "@jupyter-widgets/controls",
      "model_module_version": "1.5.0",
      "model_name": "SliderStyleModel",
      "state": {
       "description_width": ""
      }
     },
     "f6fe7d0792984e18ae5517284aae0dbd": {
      "model_module": "@jupyter-widgets/base",
      "model_module_version": "1.2.0",
      "model_name": "LayoutModel",
      "state": {}
     },
     "f8d3e344b3e14ceebab43b7d0b877859": {
      "model_module": "@jupyter-widgets/controls",
      "model_module_version": "1.5.0",
      "model_name": "DescriptionStyleModel",
      "state": {
       "description_width": ""
      }
     },
     "fb5d5135cc3b4fdc83fcf7cc9200584b": {
      "model_module": "@jupyter-widgets/controls",
      "model_module_version": "1.5.0",
      "model_name": "HBoxModel",
      "state": {
       "children": [
        "IPY_MODEL_80e27406b9044f6bb737678e3222366a",
        "IPY_MODEL_a78220b37f00461d9d2c915246f972db"
       ],
       "layout": "IPY_MODEL_3de9b4a3c58a4623a7bbf3990d7c300e"
      }
     },
     "fb8039d710e147dabc86a312bc9b1a60": {
      "model_module": "@jupyter-widgets/base",
      "model_module_version": "1.2.0",
      "model_name": "LayoutModel",
      "state": {}
     },
     "fbe2bc5ca09647f091d8f72686a4db56": {
      "model_module": "@jupyter-widgets/base",
      "model_module_version": "1.2.0",
      "model_name": "LayoutModel",
      "state": {}
     }
    },
    "version_major": 2,
    "version_minor": 0
   }
  }
 },
 "nbformat": 4,
 "nbformat_minor": 5
}
