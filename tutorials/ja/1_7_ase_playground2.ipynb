{
 "cells": [
  {
   "cell_type": "markdown",
   "id": "06017496-5e5c-4e0b-8e8f-996fa364b282",
   "metadata": {},
   "source": [
    "# Atomsの操作2\n",
    "\n",
    "前章に引き続き、Atomsを操作していく実例を通してその扱いにより深く慣れていきましょう。"
   ]
  },
  {
   "cell_type": "code",
   "execution_count": 2,
   "id": "0e8e56e2-c42f-4267-a255-f2282fb1dbf0",
   "metadata": {},
   "outputs": [
    {
     "data": {
      "application/vnd.jupyter.widget-view+json": {
       "model_id": "55eeacf3d58b4a42b39d0fe95c816eff",
       "version_major": 2,
       "version_minor": 0
      },
      "text/plain": []
     },
     "metadata": {},
     "output_type": "display_data"
    }
   ],
   "source": [
    "from ase import Atoms\n",
    "from ase.build import molecule, bulk\n",
    "\n",
    "from pfcc_extras.visualize.view import view_ngl"
   ]
  },
  {
   "cell_type": "markdown",
   "id": "f31836f1-e3a3-46c4-95e0-02238f8d905f",
   "metadata": {},
   "source": [
    "## Super cellの作成\n",
    "\n",
    "前章でもすでに説明したように、周期系の構造は`repeat`または、掛け算 \"*\" の記法を用いる用いることでCellサイズを大きくすることができます。"
   ]
  },
  {
   "cell_type": "code",
   "execution_count": 3,
   "id": "5555d047-0694-4328-a77f-1e87e9907fca",
   "metadata": {},
   "outputs": [
    {
     "data": {
      "application/vnd.jupyter.widget-view+json": {
       "model_id": "5ad6e20545f24b6b888143f15846996d",
       "version_major": 2,
       "version_minor": 0
      },
      "text/plain": [
       "HBox(children=(NGLWidget(), VBox(children=(Dropdown(description='Show', options=('All', 'Si'), value='All'), D…"
      ]
     },
     "metadata": {},
     "output_type": "display_data"
    }
   ],
   "source": [
    "atoms = bulk(\"Si\") * (2, 3, 4)\n",
    "atoms222 = atoms * (2, 2, 2)\n",
    "view_ngl(atoms222, w=400, h=300)"
   ]
  },
  {
   "cell_type": "markdown",
   "id": "eed63c11-48fe-4016-9e0e-3688d939b74b",
   "metadata": {},
   "source": [
    "## Cell の取り扱い\n",
    "\n",
    "周期構造を持つ `atoms`は `cell` propertyを持ちますが、これは `Cell` クラスという特別なクラスで定義されており、いくつか追加の関数を持っています。"
   ]
  },
  {
   "cell_type": "code",
   "execution_count": 4,
   "id": "734eaab0-0ad5-45c4-aab0-3565fa9700c6",
   "metadata": {},
   "outputs": [
    {
     "data": {
      "application/vnd.jupyter.widget-view+json": {
       "model_id": "3ce2fb7237344135952298cb2fd771d7",
       "version_major": 2,
       "version_minor": 0
      },
      "text/plain": [
       "HBox(children=(NGLWidget(), VBox(children=(Dropdown(description='Show', options=('All', 'Fe'), value='All'), D…"
      ]
     },
     "metadata": {},
     "output_type": "display_data"
    }
   ],
   "source": [
    "# atoms = bulk(\"Fe\", cubic=True)\n",
    "atoms = bulk(\"Fe\") * (2, 2, 2)\n",
    "view_ngl(atoms, w=400, h=300)"
   ]
  },
  {
   "cell_type": "code",
   "execution_count": 5,
   "id": "f25e0e29-a611-47dd-a49d-4276d931d0e9",
   "metadata": {},
   "outputs": [
    {
     "data": {
      "text/plain": [
       "Cell([[-2.87, 2.87, 2.87], [2.87, -2.87, 2.87], [2.87, 2.87, -2.87]])"
      ]
     },
     "execution_count": 5,
     "metadata": {},
     "output_type": "execute_result"
    }
   ],
   "source": [
    "atoms.cell"
   ]
  },
  {
   "cell_type": "markdown",
   "id": "b737797e-6f40-4a05-9371-a92846f3fe70",
   "metadata": {},
   "source": [
    "<img src=https://upload.wikimedia.org/wikipedia/commons/5/5e/UnitCell.png width=\"400\">\n",
    "<cite><a href=\"https://ja.wikipedia.org/wiki/%E5%88%86%E7%8E%87%E5%BA%A7%E6%A8%99\">分率座標</a>より</cite>\n",
    "\n",
    "結晶のCellはa軸, b軸, c軸のベクトルをそれぞれ示した3x3 の配列でも表せますが、分率座標を用いると、軸の長さ a, b, cと、軸の角度 α, β, γ で表すこともできます。<br/>\n",
    "以下の関数はそれぞれ次の値を返します。\n",
    "\n",
    " - `cellpar()`: (a, b, c, α, β, γ)\n",
    " - `lengths()`: (a, b, c)\n",
    " - `angles()`: (α, β, γ)"
   ]
  },
  {
   "cell_type": "code",
   "execution_count": 6,
   "id": "e9fd7e79-73ad-4d52-9f28-288972a13e2b",
   "metadata": {},
   "outputs": [
    {
     "name": "stdout",
     "output_type": "stream",
     "text": [
      "cellpar():  [  4.97098582   4.97098582   4.97098582 109.47122063 109.47122063\n",
      " 109.47122063]\n",
      "lengths():  [4.97098582 4.97098582 4.97098582]\n",
      "angles() :  [109.47122063 109.47122063 109.47122063]\n"
     ]
    }
   ],
   "source": [
    "print(\"cellpar(): \", atoms.cell.cellpar())\n",
    "print(\"lengths(): \", atoms.cell.lengths())\n",
    "print(\"angles() : \", atoms.cell.angles())"
   ]
  },
  {
   "cell_type": "markdown",
   "id": "9d1c0bf7-8413-4b15-9895-bf375dd58b81",
   "metadata": {},
   "source": [
    "3x3 配列にアクセスするには `array`で numpy array が取得できます。"
   ]
  },
  {
   "cell_type": "code",
   "execution_count": 7,
   "id": "2ebb1786-c7a2-40a0-a942-3ee79527b9c1",
   "metadata": {},
   "outputs": [
    {
     "data": {
      "text/plain": [
       "array([[-2.87,  2.87,  2.87],\n",
       "       [ 2.87, -2.87,  2.87],\n",
       "       [ 2.87,  2.87, -2.87]])"
      ]
     },
     "execution_count": 7,
     "metadata": {},
     "output_type": "execute_result"
    }
   ],
   "source": [
    "atoms.cell.array"
   ]
  },
  {
   "cell_type": "markdown",
   "id": "0cd30542-0e93-471d-9ae3-652aa26c3010",
   "metadata": {},
   "source": [
    "`cell` はnumpy の関数を使用することもできます。例えば以下はnumpyの`diagonal`関数で対角成分のみを取得しています。"
   ]
  },
  {
   "cell_type": "code",
   "execution_count": 8,
   "id": "9c74378a-9db3-495f-a920-8fe8638d67af",
   "metadata": {},
   "outputs": [
    {
     "data": {
      "text/plain": [
       "array([-2.87, -2.87, -2.87])"
      ]
     },
     "execution_count": 8,
     "metadata": {},
     "output_type": "execute_result"
    }
   ],
   "source": [
    "atoms.cell.diagonal()"
   ]
  },
  {
   "cell_type": "markdown",
   "id": "ea503dd4-e187-450c-ade2-928b1419d5de",
   "metadata": {},
   "source": [
    "`get_bravais_lattice` でブラベ格子や、`bandpath` でバンドパスを得ることもできます。"
   ]
  },
  {
   "cell_type": "code",
   "execution_count": 9,
   "id": "18ed40ec-5923-4e83-8748-32ecbea4828a",
   "metadata": {},
   "outputs": [
    {
     "data": {
      "text/plain": [
       "BCC(a=5.7400000000000002132)"
      ]
     },
     "execution_count": 9,
     "metadata": {},
     "output_type": "execute_result"
    }
   ],
   "source": [
    "atoms.cell.get_bravais_lattice()"
   ]
  },
  {
   "cell_type": "code",
   "execution_count": 10,
   "id": "924b711e-5517-4cfa-bb60-388ae82a9ee5",
   "metadata": {},
   "outputs": [
    {
     "data": {
      "text/plain": [
       "BandPath(path='GHNGPH,PN', cell=[3x3], special_points={GHNP}, kpts=[25x3])"
      ]
     },
     "execution_count": 10,
     "metadata": {},
     "output_type": "execute_result"
    }
   ],
   "source": [
    "atoms.cell.bandpath()"
   ]
  },
  {
   "cell_type": "markdown",
   "id": "294728b6-f59f-4129-9429-7fd09334a512",
   "metadata": {},
   "source": [
    "`standard_form()` methodはCellの形を下三角行列に標準化した場合のCellの形 `rcell` と、そのようにするための回転行列`Q` を計算します。"
   ]
  },
  {
   "cell_type": "code",
   "execution_count": 11,
   "id": "3003144b-9ccc-41cc-82c9-b80c6b4847b9",
   "metadata": {},
   "outputs": [
    {
     "data": {
      "text/plain": [
       "Cell([[4.970985817722678, 0.0, 0.0], [-1.6569952725742265, 4.686690374525147, 0.0], [-1.6569952725742256, -2.3433451872625737, 4.058792924010784]])"
      ]
     },
     "execution_count": 11,
     "metadata": {},
     "output_type": "execute_result"
    }
   ],
   "source": [
    "rcell, Q = atoms.cell.standard_form()\n",
    "rcell"
   ]
  },
  {
   "cell_type": "markdown",
   "id": "b3eb9c49-7ad9-4ee3-aba1-90f2a3118eda",
   "metadata": {},
   "source": [
    "## 元素置換\n",
    "\n",
    "ある結晶に対して、少量の添加物を加えた場合の構造を作りたい場合、ベースとなる結晶を作成した後に原子を置換する形でモデリングすることができます。\n",
    "\n",
    "以下の例は、Fe の金属中にVを添加する例です。\n",
    "\n",
    "※表面構造を生成する関数 `bcc111` では、 `vacuum` を指定することでz軸方向の真空層の長さを指定することができます。<br/>\n",
    "また、`periodic=True`とすることで、z軸方向に対しても周期境界条件を適用します。<br/>\n",
    "これを指定しないとCellサイズが定まらず、nglviewerの可視化でエラーが起こるので注意してください。"
   ]
  },
  {
   "cell_type": "code",
   "execution_count": 12,
   "id": "e29333f6-081f-4208-90aa-2e76ff5a2ccf",
   "metadata": {},
   "outputs": [
    {
     "data": {
      "application/vnd.jupyter.widget-view+json": {
       "model_id": "94c87357f3c041a598ffea5ba0493d29",
       "version_major": 2,
       "version_minor": 0
      },
      "text/plain": [
       "HBox(children=(NGLWidget(), VBox(children=(Dropdown(description='Show', options=('All', 'Fe'), value='All'), D…"
      ]
     },
     "metadata": {},
     "output_type": "display_data"
    }
   ],
   "source": [
    "from ase.build import bcc111\n",
    "from ase.visualize import view\n",
    "\n",
    "atoms = bcc111(\"Fe\", size=(4, 4, 6), periodic=True)\n",
    "view_ngl(atoms, w=400, h=300)"
   ]
  },
  {
   "cell_type": "markdown",
   "id": "0d202067-af54-4e2f-adb9-25e59554d136",
   "metadata": {},
   "source": [
    "はじめはすべてFe (原子番号26)となっています。"
   ]
  },
  {
   "cell_type": "code",
   "execution_count": 13,
   "id": "8dd9d3f2-e0ad-4956-9561-3f82eb76928a",
   "metadata": {},
   "outputs": [
    {
     "data": {
      "text/plain": [
       "array([26, 26, 26, 26, 26, 26, 26, 26, 26, 26, 26, 26, 26, 26, 26, 26, 26,\n",
       "       26, 26, 26, 26, 26, 26, 26, 26, 26, 26, 26, 26, 26, 26, 26, 26, 26,\n",
       "       26, 26, 26, 26, 26, 26, 26, 26, 26, 26, 26, 26, 26, 26, 26, 26, 26,\n",
       "       26, 26, 26, 26, 26, 26, 26, 26, 26, 26, 26, 26, 26, 26, 26, 26, 26,\n",
       "       26, 26, 26, 26, 26, 26, 26, 26, 26, 26, 26, 26, 26, 26, 26, 26, 26,\n",
       "       26, 26, 26, 26, 26, 26, 26, 26, 26, 26, 26])"
      ]
     },
     "execution_count": 13,
     "metadata": {},
     "output_type": "execute_result"
    }
   ],
   "source": [
    "numbers = atoms.get_atomic_numbers()\n",
    "numbers"
   ]
  },
  {
   "cell_type": "markdown",
   "id": "c3164879-97d1-4d0e-a459-e445c9a616a1",
   "metadata": {},
   "source": [
    "今回はランダムに5つの原子をV (原子番号23) に変えてみます。"
   ]
  },
  {
   "cell_type": "code",
   "execution_count": 14,
   "id": "3a1cafa3-f91f-4af4-a9f6-50f4cf3895fa",
   "metadata": {},
   "outputs": [
    {
     "name": "stdout",
     "output_type": "stream",
     "text": [
      "Replace [54 84 32 91 24] atom\n"
     ]
    }
   ],
   "source": [
    "import numpy as np\n",
    "\n",
    "replace_index = np.random.choice(np.arange(len(numbers)), size=5, replace=False)\n",
    "print(f\"Replace {replace_index} atom\")\n",
    "numbers[replace_index] = 23\n",
    "atoms.set_atomic_numbers(numbers)"
   ]
  },
  {
   "cell_type": "code",
   "execution_count": 15,
   "id": "87096072-1ef0-436f-a528-438f4a9e6886",
   "metadata": {},
   "outputs": [
    {
     "data": {
      "application/vnd.jupyter.widget-view+json": {
       "model_id": "fb70e9c1be0d47d08ea1a2b55bb701fb",
       "version_major": 2,
       "version_minor": 0
      },
      "text/plain": [
       "HBox(children=(NGLWidget(), VBox(children=(Dropdown(description='Show', options=('All', 'Fe', 'V'), value='All…"
      ]
     },
     "metadata": {},
     "output_type": "display_data"
    }
   ],
   "source": [
    "view_ngl(atoms, w=400, h=300)"
   ]
  },
  {
   "cell_type": "markdown",
   "id": "5af66588-67ac-4f92-9739-496e0f0cd8b9",
   "metadata": {},
   "source": [
    "ちなみに、それぞれの元素の原子番号を知りたい場合は、 `ase.data.atomic_numbers` を参照することができます。"
   ]
  },
  {
   "cell_type": "code",
   "execution_count": 16,
   "id": "ab99077e-8939-48b6-a40a-9e59f2d6921a",
   "metadata": {},
   "outputs": [
    {
     "name": "stdout",
     "output_type": "stream",
     "text": [
      "atomic_numbers:  {'X': 0, 'H': 1, 'He': 2, 'Li': 3, 'Be': 4, 'B': 5, 'C': 6, 'N': 7, 'O': 8, 'F': 9, 'Ne': 10, 'Na': 11, 'Mg': 12, 'Al': 13, 'Si': 14, 'P': 15, 'S': 16, 'Cl': 17, 'Ar': 18, 'K': 19, 'Ca': 20, 'Sc': 21, 'Ti': 22, 'V': 23, 'Cr': 24, 'Mn': 25, 'Fe': 26, 'Co': 27, 'Ni': 28, 'Cu': 29, 'Zn': 30, 'Ga': 31, 'Ge': 32, 'As': 33, 'Se': 34, 'Br': 35, 'Kr': 36, 'Rb': 37, 'Sr': 38, 'Y': 39, 'Zr': 40, 'Nb': 41, 'Mo': 42, 'Tc': 43, 'Ru': 44, 'Rh': 45, 'Pd': 46, 'Ag': 47, 'Cd': 48, 'In': 49, 'Sn': 50, 'Sb': 51, 'Te': 52, 'I': 53, 'Xe': 54, 'Cs': 55, 'Ba': 56, 'La': 57, 'Ce': 58, 'Pr': 59, 'Nd': 60, 'Pm': 61, 'Sm': 62, 'Eu': 63, 'Gd': 64, 'Tb': 65, 'Dy': 66, 'Ho': 67, 'Er': 68, 'Tm': 69, 'Yb': 70, 'Lu': 71, 'Hf': 72, 'Ta': 73, 'W': 74, 'Re': 75, 'Os': 76, 'Ir': 77, 'Pt': 78, 'Au': 79, 'Hg': 80, 'Tl': 81, 'Pb': 82, 'Bi': 83, 'Po': 84, 'At': 85, 'Rn': 86, 'Fr': 87, 'Ra': 88, 'Ac': 89, 'Th': 90, 'Pa': 91, 'U': 92, 'Np': 93, 'Pu': 94, 'Am': 95, 'Cm': 96, 'Bk': 97, 'Cf': 98, 'Es': 99, 'Fm': 100, 'Md': 101, 'No': 102, 'Lr': 103, 'Rf': 104, 'Db': 105, 'Sg': 106, 'Bh': 107, 'Hs': 108, 'Mt': 109, 'Ds': 110, 'Rg': 111, 'Cn': 112, 'Nh': 113, 'Fl': 114, 'Mc': 115, 'Lv': 116, 'Ts': 117, 'Og': 118}\n",
      "V's atomic number is 23\n"
     ]
    }
   ],
   "source": [
    "from ase.data import atomic_numbers\n",
    "print(\"atomic_numbers: \", atomic_numbers)\n",
    "\n",
    "print(f\"V's atomic number is\", atomic_numbers['V'])"
   ]
  },
  {
   "cell_type": "markdown",
   "id": "ff00e87e-965c-4f68-b84c-5b87d1935b80",
   "metadata": {},
   "source": [
    "逆に、元素番号から元素記号・名前を知りたい場合は、 `chemical_symbols`, `atomic_names` を使用できます。"
   ]
  },
  {
   "cell_type": "code",
   "execution_count": 17,
   "id": "019717ec-1b00-4974-af08-d9ab1ed44086",
   "metadata": {},
   "outputs": [
    {
     "name": "stdout",
     "output_type": "stream",
     "text": [
      "chemical_symbols:  ['X', 'H', 'He', 'Li', 'Be', 'B', 'C', 'N', 'O', 'F', 'Ne', 'Na', 'Mg', 'Al', 'Si', 'P', 'S', 'Cl', 'Ar', 'K', 'Ca', 'Sc', 'Ti', 'V', 'Cr', 'Mn', 'Fe', 'Co', 'Ni', 'Cu', 'Zn', 'Ga', 'Ge', 'As', 'Se', 'Br', 'Kr', 'Rb', 'Sr', 'Y', 'Zr', 'Nb', 'Mo', 'Tc', 'Ru', 'Rh', 'Pd', 'Ag', 'Cd', 'In', 'Sn', 'Sb', 'Te', 'I', 'Xe', 'Cs', 'Ba', 'La', 'Ce', 'Pr', 'Nd', 'Pm', 'Sm', 'Eu', 'Gd', 'Tb', 'Dy', 'Ho', 'Er', 'Tm', 'Yb', 'Lu', 'Hf', 'Ta', 'W', 'Re', 'Os', 'Ir', 'Pt', 'Au', 'Hg', 'Tl', 'Pb', 'Bi', 'Po', 'At', 'Rn', 'Fr', 'Ra', 'Ac', 'Th', 'Pa', 'U', 'Np', 'Pu', 'Am', 'Cm', 'Bk', 'Cf', 'Es', 'Fm', 'Md', 'No', 'Lr', 'Rf', 'Db', 'Sg', 'Bh', 'Hs', 'Mt', 'Ds', 'Rg', 'Cn', 'Nh', 'Fl', 'Mc', 'Lv', 'Ts', 'Og']\n",
      "atomic_names    :  ['', 'Hydrogen', 'Helium', 'Lithium', 'Beryllium', 'Boron', 'Carbon', 'Nitrogen', 'Oxygen', 'Fluorine', 'Neon', 'Sodium', 'Magnesium', 'Aluminium', 'Silicon', 'Phosphorus', 'Sulfur', 'Chlorine', 'Argon', 'Potassium', 'Calcium', 'Scandium', 'Titanium', 'Vanadium', 'Chromium', 'Manganese', 'Iron', 'Cobalt', 'Nickel', 'Copper', 'Zinc', 'Gallium', 'Germanium', 'Arsenic', 'Selenium', 'Bromine', 'Krypton', 'Rubidium', 'Strontium', 'Yttrium', 'Zirconium', 'Niobium', 'Molybdenum', 'Technetium', 'Ruthenium', 'Rhodium', 'Palladium', 'Silver', 'Cadmium', 'Indium', 'Tin', 'Antimony', 'Tellurium', 'Iodine', 'Xenon', 'Caesium', 'Barium', 'Lanthanum', 'Cerium', 'Praseodymium', 'Neodymium', 'Promethium', 'Samarium', 'Europium', 'Gadolinium', 'Terbium', 'Dysprosium', 'Holmium', 'Erbium', 'Thulium', 'Ytterbium', 'Lutetium', 'Hafnium', 'Tantalum', 'Tungsten', 'Rhenium', 'Osmium', 'Iridium', 'Platinum', 'Gold', 'Mercury', 'Thallium', 'Lead', 'Bismuth', 'Polonium', 'Astatine', 'Radon', 'Francium', 'Radium', 'Actinium', 'Thorium', 'Protactinium', 'Uranium', 'Neptunium', 'Plutonium', 'Americium', 'Curium', 'Berkelium', 'Californium', 'Einsteinium', 'Fermium', 'Mendelevium', 'Nobelium', 'Lawrencium', 'Rutherfordium', 'Dubnium', 'Seaborgium', 'Bohrium', 'Hassium', 'Meitnerium', 'Darmastadtium', 'Roentgenium', 'Copernicium', 'Nihonium', 'Flerovium', 'Moscovium', 'Livermorium', 'Tennessine', 'Oganesson']\n",
      "atomic number 23 is V Vanadium\n"
     ]
    }
   ],
   "source": [
    "from ase.data import atomic_names, chemical_symbols\n",
    "print(\"chemical_symbols: \", chemical_symbols)\n",
    "print(\"atomic_names    : \", atomic_names)\n",
    "\n",
    "print(f\"atomic number 23 is\", chemical_symbols[23], atomic_names[23])"
   ]
  },
  {
   "cell_type": "markdown",
   "id": "28cb4a42-29bf-44e3-bf80-2a7e233080a5",
   "metadata": {},
   "source": [
    "## 空孔の作成\n",
    "\n",
    "結晶構造に欠陥がある場合の挙動を調べることは産業上重要です。\n",
    "\n",
    "ASEでは `pop` という関数を使うことにより、特定のindexの原子の削除ができます。\n",
    "(または、`del`関数も使用可能です。)\n",
    "\n",
    "Si結晶から、以下は13番目のSi原子を除いた欠陥構造を作る例です。"
   ]
  },
  {
   "cell_type": "code",
   "execution_count": 18,
   "id": "99b01421-9524-429c-8b7a-ad722f03ff0e",
   "metadata": {},
   "outputs": [
    {
     "data": {
      "application/vnd.jupyter.widget-view+json": {
       "model_id": "a05b4ca1640341cd9b6277627b1dc4a8",
       "version_major": 2,
       "version_minor": 0
      },
      "text/plain": [
       "HBox(children=(NGLWidget(), VBox(children=(Dropdown(description='Show', options=('All', 'Si'), value='All'), D…"
      ]
     },
     "metadata": {},
     "output_type": "display_data"
    }
   ],
   "source": [
    "atoms = bulk(\"Si\") * (2, 2, 2)\n",
    "# `del atoms[13]` also works\n",
    "atoms.pop(13)\n",
    "view_ngl(atoms, representations=[\"ball+stick\"], w=400, h=300)"
   ]
  },
  {
   "cell_type": "markdown",
   "id": "b320d623-8d7e-4ba9-b353-c6d5288adba0",
   "metadata": {},
   "source": [
    "以上、ASEに実装されているいろいろな機能をみて、原子をどのように取り扱うかを学びました。\n",
    "\n",
    "ここから先は実践で、計算手法・事例とともに学習をしていきましょう。"
   ]
  }
 ],
 "metadata": {
  "kernelspec": {
   "display_name": "Python 3.7",
   "language": "python",
   "name": "python37"
  },
  "language_info": {
   "codemirror_mode": {
    "name": "ipython",
    "version": 3
   },
   "file_extension": ".py",
   "mimetype": "text/x-python",
   "name": "python",
   "nbconvert_exporter": "python",
   "pygments_lexer": "ipython3",
   "version": "3.7.13"
  },
  "widgets": {
   "application/vnd.jupyter.widget-state+json": {
    "state": {
     "0156322f9222427caee1e108bee6b073": {
      "model_module": "@jupyter-widgets/controls",
      "model_module_version": "1.5.0",
      "model_name": "FloatSliderModel",
      "state": {
       "description": "Force scale",
       "layout": "IPY_MODEL_81313185512c403c8bf29bdf464f2d23",
       "step": 0.1,
       "style": "IPY_MODEL_7fb40b98562d4a81a33a66c239c8cee4",
       "value": 0.5
      }
     },
     "0192fe37d3764165a1cb47ca85d87402": {
      "model_module": "@jupyter-widgets/controls",
      "model_module_version": "1.5.0",
      "model_name": "PlayModel",
      "state": {
       "layout": "IPY_MODEL_353467a193d7486d84605acd084a2309",
       "max": 0,
       "style": "IPY_MODEL_22917de842e043e8a4c6e58644438cbd"
      }
     },
     "01ba6d530c854098a25453abc4d47b5f": {
      "model_module": "nglview-js-widgets",
      "model_module_version": "3.0.1",
      "model_name": "NGLModel",
      "state": {
       "_camera_orientation": [
        32.64900057953009,
        0,
        0,
        0,
        0,
        32.64900057953009,
        0,
        0,
        0,
        0,
        32.64900057953009,
        0,
        -10.147000312805176,
        -6.443999767303467,
        -2.071000099182129,
        1
       ],
       "_camera_str": "orthographic",
       "_gui_theme": null,
       "_ibtn_fullscreen": "IPY_MODEL_967a40a4dbee468fb84c225147244c0b",
       "_igui": null,
       "_iplayer": "IPY_MODEL_19afd59bf1e745609ccffa74158f9cea",
       "_ngl_color_dict": {},
       "_ngl_coordinate_resource": {},
       "_ngl_full_stage_parameters": {
        "ambientColor": 14540253,
        "ambientIntensity": 0.2,
        "backgroundColor": "white",
        "cameraEyeSep": 0.3,
        "cameraFov": 40,
        "cameraType": "orthographic",
        "clipDist": 0,
        "clipFar": 100,
        "clipNear": 0,
        "fogFar": 100,
        "fogNear": 50,
        "hoverTimeout": 0,
        "impostor": true,
        "lightColor": 14540253,
        "lightIntensity": 1,
        "mousePreset": "default",
        "panSpeed": 1,
        "quality": "medium",
        "rotateSpeed": 2,
        "sampleLevel": 0,
        "tooltip": true,
        "workerDefault": true,
        "zoomSpeed": 1.2
       },
       "_ngl_msg_archive": [
        {
         "args": [
          {
           "binary": false,
           "data": "CRYST1   16.235   16.235    4.971  90.00  90.00  60.00 P 1\nMODEL     1\nATOM      1   Fe MOL     1       2.029   1.172   0.000  1.00  0.00          FE  \nATOM      2   Fe MOL     1       6.088   1.172   0.000  1.00  0.00          FE  \nATOM      3   Fe MOL     1      10.147   1.172   0.000  1.00  0.00          FE  \nATOM      4   Fe MOL     1      14.206   1.172   0.000  1.00  0.00          FE  \nATOM      5   Fe MOL     1       4.059   4.687   0.000  1.00  0.00          FE  \nATOM      6   Fe MOL     1       8.118   4.687   0.000  1.00  0.00          FE  \nATOM      7   Fe MOL     1      12.176   4.687   0.000  1.00  0.00          FE  \nATOM      8   Fe MOL     1      16.235   4.687   0.000  1.00  0.00          FE  \nATOM      9   Fe MOL     1       6.088   8.202   0.000  1.00  0.00          FE  \nATOM     10   Fe MOL     1      10.147   8.202   0.000  1.00  0.00          FE  \nATOM     11   Fe MOL     1      14.206   8.202   0.000  1.00  0.00          FE  \nATOM     12   Fe MOL     1      18.265   8.202   0.000  1.00  0.00          FE  \nATOM     13   Fe MOL     1       8.118  11.717   0.000  1.00  0.00          FE  \nATOM     14   Fe MOL     1      12.176  11.717   0.000  1.00  0.00          FE  \nATOM     15   Fe MOL     1      16.235  11.717   0.000  1.00  0.00          FE  \nATOM     16   Fe MOL     1      20.294  11.717   0.000  1.00  0.00          FE  \nATOM     17   Fe MOL     1      -0.000   2.343   0.828  1.00  0.00          FE  \nATOM     18   Fe MOL     1       4.059   2.343   0.828  1.00  0.00          FE  \nATOM     19   Fe MOL     1       8.118   2.343   0.828  1.00  0.00          FE  \nATOM     20   Fe MOL     1      12.176   2.343   0.828  1.00  0.00          FE  \nATOM     21   Fe MOL     1       2.029   5.858   0.828  1.00  0.00          FE  \nATOM     22   Fe MOL     1       6.088   5.858   0.828  1.00  0.00          FE  \nATOM     23   Fe MOL     1      10.147   5.858   0.828  1.00  0.00          FE  \nATOM     24   Fe MOL     1      14.206   5.858   0.828  1.00  0.00          FE  \nATOM     25    V MOL     1       4.059   9.373   0.828  1.00  0.00           V  \nATOM     26   Fe MOL     1       8.118   9.373   0.828  1.00  0.00          FE  \nATOM     27   Fe MOL     1      12.176   9.373   0.828  1.00  0.00          FE  \nATOM     28   Fe MOL     1      16.235   9.373   0.828  1.00  0.00          FE  \nATOM     29   Fe MOL     1       6.088  12.888   0.828  1.00  0.00          FE  \nATOM     30   Fe MOL     1      10.147  12.888   0.828  1.00  0.00          FE  \nATOM     31   Fe MOL     1      14.206  12.888   0.828  1.00  0.00          FE  \nATOM     32   Fe MOL     1      18.265  12.888   0.828  1.00  0.00          FE  \nATOM     33    V MOL     1       0.000   0.000   1.657  1.00  0.00           V  \nATOM     34   Fe MOL     1       4.059   0.000   1.657  1.00  0.00          FE  \nATOM     35   Fe MOL     1       8.118   0.000   1.657  1.00  0.00          FE  \nATOM     36   Fe MOL     1      12.176   0.000   1.657  1.00  0.00          FE  \nATOM     37   Fe MOL     1       2.029   3.515   1.657  1.00  0.00          FE  \nATOM     38   Fe MOL     1       6.088   3.515   1.657  1.00  0.00          FE  \nATOM     39   Fe MOL     1      10.147   3.515   1.657  1.00  0.00          FE  \nATOM     40   Fe MOL     1      14.206   3.515   1.657  1.00  0.00          FE  \nATOM     41   Fe MOL     1       4.059   7.030   1.657  1.00  0.00          FE  \nATOM     42   Fe MOL     1       8.118   7.030   1.657  1.00  0.00          FE  \nATOM     43   Fe MOL     1      12.176   7.030   1.657  1.00  0.00          FE  \nATOM     44   Fe MOL     1      16.235   7.030   1.657  1.00  0.00          FE  \nATOM     45   Fe MOL     1       6.088  10.545   1.657  1.00  0.00          FE  \nATOM     46   Fe MOL     1      10.147  10.545   1.657  1.00  0.00          FE  \nATOM     47   Fe MOL     1      14.206  10.545   1.657  1.00  0.00          FE  \nATOM     48   Fe MOL     1      18.265  10.545   1.657  1.00  0.00          FE  \nATOM     49   Fe MOL     1       2.029   1.172   2.485  1.00  0.00          FE  \nATOM     50   Fe MOL     1       6.088   1.172   2.485  1.00  0.00          FE  \nATOM     51   Fe MOL     1      10.147   1.172   2.485  1.00  0.00          FE  \nATOM     52   Fe MOL     1      14.206   1.172   2.485  1.00  0.00          FE  \nATOM     53   Fe MOL     1       4.059   4.687   2.485  1.00  0.00          FE  \nATOM     54   Fe MOL     1       8.118   4.687   2.485  1.00  0.00          FE  \nATOM     55    V MOL     1      12.176   4.687   2.485  1.00  0.00           V  \nATOM     56   Fe MOL     1      16.235   4.687   2.485  1.00  0.00          FE  \nATOM     57   Fe MOL     1       6.088   8.202   2.485  1.00  0.00          FE  \nATOM     58   Fe MOL     1      10.147   8.202   2.485  1.00  0.00          FE  \nATOM     59   Fe MOL     1      14.206   8.202   2.485  1.00  0.00          FE  \nATOM     60   Fe MOL     1      18.265   8.202   2.485  1.00  0.00          FE  \nATOM     61   Fe MOL     1       8.118  11.717   2.485  1.00  0.00          FE  \nATOM     62   Fe MOL     1      12.176  11.717   2.485  1.00  0.00          FE  \nATOM     63   Fe MOL     1      16.235  11.717   2.485  1.00  0.00          FE  \nATOM     64   Fe MOL     1      20.294  11.717   2.485  1.00  0.00          FE  \nATOM     65   Fe MOL     1      -0.000   2.343   3.314  1.00  0.00          FE  \nATOM     66   Fe MOL     1       4.059   2.343   3.314  1.00  0.00          FE  \nATOM     67   Fe MOL     1       8.118   2.343   3.314  1.00  0.00          FE  \nATOM     68   Fe MOL     1      12.176   2.343   3.314  1.00  0.00          FE  \nATOM     69   Fe MOL     1       2.029   5.858   3.314  1.00  0.00          FE  \nATOM     70   Fe MOL     1       6.088   5.858   3.314  1.00  0.00          FE  \nATOM     71   Fe MOL     1      10.147   5.858   3.314  1.00  0.00          FE  \nATOM     72   Fe MOL     1      14.206   5.858   3.314  1.00  0.00          FE  \nATOM     73   Fe MOL     1       4.059   9.373   3.314  1.00  0.00          FE  \nATOM     74   Fe MOL     1       8.118   9.373   3.314  1.00  0.00          FE  \nATOM     75   Fe MOL     1      12.176   9.373   3.314  1.00  0.00          FE  \nATOM     76   Fe MOL     1      16.235   9.373   3.314  1.00  0.00          FE  \nATOM     77   Fe MOL     1       6.088  12.888   3.314  1.00  0.00          FE  \nATOM     78   Fe MOL     1      10.147  12.888   3.314  1.00  0.00          FE  \nATOM     79   Fe MOL     1      14.206  12.888   3.314  1.00  0.00          FE  \nATOM     80   Fe MOL     1      18.265  12.888   3.314  1.00  0.00          FE  \nATOM     81   Fe MOL     1       0.000   0.000   4.142  1.00  0.00          FE  \nATOM     82   Fe MOL     1       4.059   0.000   4.142  1.00  0.00          FE  \nATOM     83   Fe MOL     1       8.118   0.000   4.142  1.00  0.00          FE  \nATOM     84   Fe MOL     1      12.176   0.000   4.142  1.00  0.00          FE  \nATOM     85    V MOL     1       2.029   3.515   4.142  1.00  0.00           V  \nATOM     86   Fe MOL     1       6.088   3.515   4.142  1.00  0.00          FE  \nATOM     87   Fe MOL     1      10.147   3.515   4.142  1.00  0.00          FE  \nATOM     88   Fe MOL     1      14.206   3.515   4.142  1.00  0.00          FE  \nATOM     89   Fe MOL     1       4.059   7.030   4.142  1.00  0.00          FE  \nATOM     90   Fe MOL     1       8.118   7.030   4.142  1.00  0.00          FE  \nATOM     91   Fe MOL     1      12.176   7.030   4.142  1.00  0.00          FE  \nATOM     92    V MOL     1      16.235   7.030   4.142  1.00  0.00           V  \nATOM     93   Fe MOL     1       6.088  10.545   4.142  1.00  0.00          FE  \nATOM     94   Fe MOL     1      10.147  10.545   4.142  1.00  0.00          FE  \nATOM     95   Fe MOL     1      14.206  10.545   4.142  1.00  0.00          FE  \nATOM     96   Fe MOL     1      18.265  10.545   4.142  1.00  0.00          FE  \nENDMDL\n",
           "type": "blob"
          }
         ],
         "kwargs": {
          "defaultRepresentation": false,
          "ext": "pdb"
         },
         "methodName": "loadFile",
         "reconstruc_color_scheme": false,
         "target": "Stage",
         "type": "call_method"
        },
        {
         "args": [
          "400px",
          "300px"
         ],
         "kwargs": {},
         "methodName": "setSize",
         "reconstruc_color_scheme": false,
         "target": "Widget",
         "type": "call_method"
        },
        {
         "args": [
          "unitcell"
         ],
         "component_index": 0,
         "kwargs": {
          "sele": "all"
         },
         "methodName": "addRepresentation",
         "reconstruc_color_scheme": false,
         "target": "compList",
         "type": "call_method"
        },
        {
         "args": [
          "spacefill"
         ],
         "component_index": 0,
         "kwargs": {
          "sele": "all"
         },
         "methodName": "addRepresentation",
         "reconstruc_color_scheme": false,
         "target": "compList",
         "type": "call_method"
        },
        {
         "args": [],
         "kwargs": {
          "cameraType": "orthographic"
         },
         "methodName": "setParameters",
         "reconstruc_color_scheme": false,
         "target": "Stage",
         "type": "call_method"
        },
        {
         "args": [
          {
           "clipDist": 0
          }
         ],
         "kwargs": {},
         "methodName": "setParameters",
         "reconstruc_color_scheme": false,
         "target": "Widget",
         "type": "call_method"
        },
        {
         "args": [
          "spacefill",
          0
         ],
         "kwargs": {
          "colorScale": "rainbow",
          "colorScheme": "element",
          "radiusScale": 0.5,
          "radiusType": "covalent"
         },
         "methodName": "updateRepresentationsByName",
         "reconstruc_color_scheme": false,
         "target": "Widget",
         "type": "call_method"
        },
        {
         "args": [
          "this._Q = [[1.0, 0.0, 0.0], [0.0, 1.0, 0.0], [0.0, 0.0, 1.0]]\n    var tooltip = document.createElement('div')\n    Object.assign(tooltip.style, {\n      display: 'none',\n      position: 'fixed',\n      zIndex: 10,\n      pointerEvents: 'none',\n      backgroundColor: 'rgba( 0, 0, 0, 0.6 )',\n      color: 'lightgrey',\n      padding: '8px',\n      fontFamily: 'sans-serif'\n    })\n    document.body.appendChild(tooltip)\n\n    var that = this\n    this.stage.mouseControls.remove('hoverPick')\n    this.stage.signals.hovered.add(function (pickingProxy) {\n      if (pickingProxy && (pickingProxy.atom || pickingProxy.bond)) {\n        var atom = pickingProxy.atom || pickingProxy.closestBondAtom\n        var mp = pickingProxy.mouse.position\n        //tooltip.innerText = atom.element + ' i=' + atom.index + ' (' + atom.x.toFixed(2) +  ', ' + atom.y.toFixed(2) +  ', ' + atom.z.toFixed(2) + ')'\n        //var pos = that._atoms_pos[atom.index]\n        var Q = that._Q\n        var pos_x = Q[0][0] * atom.x + Q[0][1] * atom.y + Q[0][2] * atom.z \n        var pos_y = Q[1][0] * atom.x + Q[1][1] * atom.y + Q[1][2] * atom.z\n        var pos_z = Q[2][0] * atom.x + Q[2][1] * atom.y + Q[2][2] * atom.z\n        tooltip.innerText = 'i=' + atom.index + ' ' + atom.element + ' (' + pos_x.toFixed(2) +  ', ' + pos_y.toFixed(2) +  ', ' + pos_z.toFixed(2) + ')'\n        tooltip.style.bottom = window.innerHeight - mp.y + 3 + 'px'\n        tooltip.style.left = mp.x + 3 + 'px'\n        tooltip.style.display = 'block'\n      } else {\n        tooltip.style.display = 'none'\n      }\n    })\n    "
         ],
         "kwargs": {},
         "methodName": "executeCode",
         "reconstruc_color_scheme": false,
         "target": "Widget",
         "type": "call_method"
        }
       ],
       "_ngl_original_stage_parameters": {
        "ambientColor": 14540253,
        "ambientIntensity": 0.2,
        "backgroundColor": "white",
        "cameraEyeSep": 0.3,
        "cameraFov": 40,
        "cameraType": "perspective",
        "clipDist": 10,
        "clipFar": 100,
        "clipNear": 0,
        "fogFar": 100,
        "fogNear": 50,
        "hoverTimeout": 0,
        "impostor": true,
        "lightColor": 14540253,
        "lightIntensity": 1,
        "mousePreset": "default",
        "panSpeed": 1,
        "quality": "medium",
        "rotateSpeed": 2,
        "sampleLevel": 0,
        "tooltip": true,
        "workerDefault": true,
        "zoomSpeed": 1.2
       },
       "_ngl_repr_dict": {
        "0": {
         "0": {
          "params": {
           "clipCenter": {
            "x": 0,
            "y": 0,
            "z": 0
           },
           "clipNear": 0,
           "clipRadius": 0,
           "colorMode": "hcl",
           "colorReverse": false,
           "colorScale": "",
           "colorScheme": "element",
           "colorValue": "orange",
           "defaultAssembly": "",
           "depthWrite": true,
           "diffuse": 16777215,
           "diffuseInterior": false,
           "disableImpostor": false,
           "disablePicking": false,
           "flatShaded": false,
           "interiorColor": 2236962,
           "interiorDarkening": 0,
           "lazy": false,
           "matrix": {
            "elements": [
             1,
             0,
             0,
             0,
             0,
             1,
             0,
             0,
             0,
             0,
             1,
             0,
             0,
             0,
             0,
             1
            ]
           },
           "metalness": 0,
           "opacity": 1,
           "quality": "medium",
           "radialSegments": 10,
           "radiusData": {},
           "radiusScale": 1,
           "radiusSize": 0.05214905877346537,
           "radiusType": "vdw",
           "roughness": 0.4,
           "sele": "all",
           "side": "double",
           "sphereDetail": 1,
           "useInteriorColor": true,
           "visible": true,
           "wireframe": false
          },
          "type": "unitcell"
         },
         "1": {
          "params": {
           "assembly": "default",
           "clipCenter": {
            "x": 0,
            "y": 0,
            "z": 0
           },
           "clipNear": 0,
           "clipRadius": 0,
           "colorMode": "hcl",
           "colorReverse": false,
           "colorScale": "rainbow",
           "colorScheme": "element",
           "colorValue": 9474192,
           "defaultAssembly": "",
           "depthWrite": true,
           "diffuse": 16777215,
           "diffuseInterior": false,
           "disableImpostor": false,
           "disablePicking": false,
           "flatShaded": false,
           "interiorColor": 2236962,
           "interiorDarkening": 0,
           "lazy": false,
           "matrix": {
            "elements": [
             1,
             0,
             0,
             0,
             0,
             1,
             0,
             0,
             0,
             0,
             1,
             0,
             0,
             0,
             0,
             1
            ]
           },
           "metalness": 0,
           "opacity": 1,
           "quality": "medium",
           "radiusData": {},
           "radiusScale": 0.5,
           "radiusSize": 1,
           "radiusType": "covalent",
           "roughness": 0.4,
           "sele": "all",
           "side": "double",
           "sphereDetail": 1,
           "useInteriorColor": true,
           "visible": true,
           "wireframe": false
          },
          "type": "spacefill"
         }
        }
       },
       "_ngl_serialize": false,
       "_ngl_version": "2.0.0-dev.36",
       "_ngl_view_id": [
        "92EB316B-3E4A-4E60-B78E-B8DF27DF8F3B"
       ],
       "_player_dict": {},
       "_scene_position": {},
       "_scene_rotation": {},
       "_synced_model_ids": [],
       "_synced_repr_model_ids": [],
       "_view_height": "",
       "_view_width": "",
       "background": "white",
       "frame": 0,
       "gui_style": null,
       "layout": "IPY_MODEL_10e283cb6a71418384ebfeb948f4fea3",
       "max_frame": 0,
       "n_components": 1,
       "picked": {}
      }
     },
     "01e1f6a733ed4c1e96d48cbf6720de1b": {
      "model_module": "@jupyter-widgets/controls",
      "model_module_version": "1.5.0",
      "model_name": "SliderStyleModel",
      "state": {
       "description_width": ""
      }
     },
     "01f7e57a6b0d4b9b93d52500fa9fdb8c": {
      "model_module": "@jupyter-widgets/controls",
      "model_module_version": "1.5.0",
      "model_name": "DescriptionStyleModel",
      "state": {
       "description_width": ""
      }
     },
     "043023c377c84a31a4a3087ca1a820a5": {
      "model_module": "@jupyter-widgets/controls",
      "model_module_version": "1.5.0",
      "model_name": "SliderStyleModel",
      "state": {
       "description_width": ""
      }
     },
     "049ab03d1daf440a9638a40fe71ac3a3": {
      "model_module": "@jupyter-widgets/base",
      "model_module_version": "1.2.0",
      "model_name": "LayoutModel",
      "state": {}
     },
     "04b682070f10448f8f9145327f85a36b": {
      "model_module": "@jupyter-widgets/controls",
      "model_module_version": "1.5.0",
      "model_name": "DropdownModel",
      "state": {
       "_options_labels": [
        " ",
        "picking",
        "random",
        "uniform",
        "atomindex",
        "residueindex",
        "chainindex",
        "modelindex",
        "sstruc",
        "element",
        "resname",
        "bfactor",
        "hydrophobicity",
        "value",
        "volume",
        "occupancy"
       ],
       "description": "Color scheme",
       "index": 9,
       "layout": "IPY_MODEL_557f9cf901564c4c83127a06805074c7",
       "style": "IPY_MODEL_c57f306fbe04427daa5a5c71f2a0c4cb"
      }
     },
     "0566c80940f344d186417a37cf104805": {
      "model_module": "@jupyter-widgets/controls",
      "model_module_version": "1.5.0",
      "model_name": "HBoxModel",
      "state": {
       "children": [
        "IPY_MODEL_d3af1ef7d6984e379e873c3926c320d1",
        "IPY_MODEL_a76ef0038be04f8588f84493dfe5af03"
       ],
       "layout": "IPY_MODEL_82f4234b03994fdfb1bd235cfbbda6f0"
      }
     },
     "06237fc79c3d40a2847b427aa3440a29": {
      "model_module": "@jupyter-widgets/controls",
      "model_module_version": "1.5.0",
      "model_name": "DescriptionStyleModel",
      "state": {
       "description_width": ""
      }
     },
     "0985ba26d58d489e80498e2bef4f7a3a": {
      "model_module": "@jupyter-widgets/base",
      "model_module_version": "1.2.0",
      "model_name": "LayoutModel",
      "state": {}
     },
     "0f40c0e99b9048969f4d65d461355f4e": {
      "model_module": "@jupyter-widgets/base",
      "model_module_version": "1.2.0",
      "model_name": "LayoutModel",
      "state": {}
     },
     "0f434753a0a64e20aeaef9d8486cd02d": {
      "model_module": "@jupyter-widgets/base",
      "model_module_version": "1.2.0",
      "model_name": "LayoutModel",
      "state": {}
     },
     "0f9546d4cf3d45b4b9d8836eb29ea664": {
      "model_module": "@jupyter-widgets/controls",
      "model_module_version": "1.5.0",
      "model_name": "SliderStyleModel",
      "state": {
       "description_width": ""
      }
     },
     "10da0958e7ca442196a43640e82d5466": {
      "model_module": "@jupyter-widgets/controls",
      "model_module_version": "1.5.0",
      "model_name": "LinkModel",
      "state": {
       "source": [
        "IPY_MODEL_6355ea2b24e8467a9a011c9cd3d51447",
        "value"
       ],
       "target": [
        "IPY_MODEL_8dabee9f591c4688891fe02a06b89520",
        "value"
       ]
      }
     },
     "10e283cb6a71418384ebfeb948f4fea3": {
      "model_module": "@jupyter-widgets/base",
      "model_module_version": "1.2.0",
      "model_name": "LayoutModel",
      "state": {}
     },
     "11301299e4cf44528a5f4ba55acd9d0a": {
      "model_module": "@jupyter-widgets/controls",
      "model_module_version": "1.5.0",
      "model_name": "SliderStyleModel",
      "state": {
       "description_width": ""
      }
     },
     "11a6fc2c6a624a15b3be8f4a6ac78a70": {
      "model_module": "@jupyter-widgets/base",
      "model_module_version": "1.2.0",
      "model_name": "LayoutModel",
      "state": {}
     },
     "143d76385de843dc80527d3876f8f235": {
      "model_module": "@jupyter-widgets/controls",
      "model_module_version": "1.5.0",
      "model_name": "DescriptionStyleModel",
      "state": {
       "description_width": ""
      }
     },
     "14a4fa9cfb8343179fa3685a6deca17d": {
      "model_module": "@jupyter-widgets/controls",
      "model_module_version": "1.5.0",
      "model_name": "DescriptionStyleModel",
      "state": {
       "description_width": ""
      }
     },
     "1633f7a67d014b28845350fb213a48b3": {
      "model_module": "@jupyter-widgets/controls",
      "model_module_version": "1.5.0",
      "model_name": "DescriptionStyleModel",
      "state": {
       "description_width": ""
      }
     },
     "1636c56e290d449483ae16dfc73d15ac": {
      "model_module": "@jupyter-widgets/controls",
      "model_module_version": "1.5.0",
      "model_name": "ButtonStyleModel",
      "state": {}
     },
     "1645bbc6ec9543d796c5b3abb418e098": {
      "model_module": "nglview-js-widgets",
      "model_module_version": "3.0.1",
      "model_name": "NGLModel",
      "state": {
       "_camera_orientation": [
        32.64900057953009,
        0,
        0,
        0,
        0,
        32.64900057953009,
        0,
        0,
        0,
        0,
        32.64900057953009,
        0,
        -10.147000312805176,
        -6.443999767303467,
        -2.071000099182129,
        1
       ],
       "_camera_str": "orthographic",
       "_gui_theme": null,
       "_ibtn_fullscreen": "IPY_MODEL_2b302a85df23453f8fdb76baaae51980",
       "_igui": null,
       "_iplayer": "IPY_MODEL_7e7c7d6421ef4f7e8df5db5925443b64",
       "_ngl_color_dict": {},
       "_ngl_coordinate_resource": {},
       "_ngl_full_stage_parameters": {
        "ambientColor": 14540253,
        "ambientIntensity": 0.2,
        "backgroundColor": "white",
        "cameraEyeSep": 0.3,
        "cameraFov": 40,
        "cameraType": "orthographic",
        "clipDist": 0,
        "clipFar": 100,
        "clipNear": 0,
        "fogFar": 100,
        "fogNear": 50,
        "hoverTimeout": 0,
        "impostor": true,
        "lightColor": 14540253,
        "lightIntensity": 1,
        "mousePreset": "default",
        "panSpeed": 1,
        "quality": "medium",
        "rotateSpeed": 2,
        "sampleLevel": 0,
        "tooltip": true,
        "workerDefault": true,
        "zoomSpeed": 1.2
       },
       "_ngl_msg_archive": [
        {
         "args": [
          {
           "binary": false,
           "data": "CRYST1   16.235   16.235    4.971  90.00  90.00  60.00 P 1\nMODEL     1\nATOM      1   Fe MOL     1       2.029   1.172   0.000  1.00  0.00          FE  \nATOM      2   Fe MOL     1       6.088   1.172   0.000  1.00  0.00          FE  \nATOM      3   Fe MOL     1      10.147   1.172   0.000  1.00  0.00          FE  \nATOM      4   Fe MOL     1      14.206   1.172   0.000  1.00  0.00          FE  \nATOM      5   Fe MOL     1       4.059   4.687   0.000  1.00  0.00          FE  \nATOM      6   Fe MOL     1       8.118   4.687   0.000  1.00  0.00          FE  \nATOM      7   Fe MOL     1      12.176   4.687   0.000  1.00  0.00          FE  \nATOM      8   Fe MOL     1      16.235   4.687   0.000  1.00  0.00          FE  \nATOM      9   Fe MOL     1       6.088   8.202   0.000  1.00  0.00          FE  \nATOM     10   Fe MOL     1      10.147   8.202   0.000  1.00  0.00          FE  \nATOM     11   Fe MOL     1      14.206   8.202   0.000  1.00  0.00          FE  \nATOM     12   Fe MOL     1      18.265   8.202   0.000  1.00  0.00          FE  \nATOM     13   Fe MOL     1       8.118  11.717   0.000  1.00  0.00          FE  \nATOM     14   Fe MOL     1      12.176  11.717   0.000  1.00  0.00          FE  \nATOM     15   Fe MOL     1      16.235  11.717   0.000  1.00  0.00          FE  \nATOM     16   Fe MOL     1      20.294  11.717   0.000  1.00  0.00          FE  \nATOM     17   Fe MOL     1      -0.000   2.343   0.828  1.00  0.00          FE  \nATOM     18   Fe MOL     1       4.059   2.343   0.828  1.00  0.00          FE  \nATOM     19   Fe MOL     1       8.118   2.343   0.828  1.00  0.00          FE  \nATOM     20   Fe MOL     1      12.176   2.343   0.828  1.00  0.00          FE  \nATOM     21   Fe MOL     1       2.029   5.858   0.828  1.00  0.00          FE  \nATOM     22   Fe MOL     1       6.088   5.858   0.828  1.00  0.00          FE  \nATOM     23   Fe MOL     1      10.147   5.858   0.828  1.00  0.00          FE  \nATOM     24   Fe MOL     1      14.206   5.858   0.828  1.00  0.00          FE  \nATOM     25   Fe MOL     1       4.059   9.373   0.828  1.00  0.00          FE  \nATOM     26   Fe MOL     1       8.118   9.373   0.828  1.00  0.00          FE  \nATOM     27   Fe MOL     1      12.176   9.373   0.828  1.00  0.00          FE  \nATOM     28   Fe MOL     1      16.235   9.373   0.828  1.00  0.00          FE  \nATOM     29   Fe MOL     1       6.088  12.888   0.828  1.00  0.00          FE  \nATOM     30   Fe MOL     1      10.147  12.888   0.828  1.00  0.00          FE  \nATOM     31   Fe MOL     1      14.206  12.888   0.828  1.00  0.00          FE  \nATOM     32   Fe MOL     1      18.265  12.888   0.828  1.00  0.00          FE  \nATOM     33   Fe MOL     1       0.000   0.000   1.657  1.00  0.00          FE  \nATOM     34   Fe MOL     1       4.059   0.000   1.657  1.00  0.00          FE  \nATOM     35   Fe MOL     1       8.118   0.000   1.657  1.00  0.00          FE  \nATOM     36   Fe MOL     1      12.176   0.000   1.657  1.00  0.00          FE  \nATOM     37   Fe MOL     1       2.029   3.515   1.657  1.00  0.00          FE  \nATOM     38   Fe MOL     1       6.088   3.515   1.657  1.00  0.00          FE  \nATOM     39   Fe MOL     1      10.147   3.515   1.657  1.00  0.00          FE  \nATOM     40   Fe MOL     1      14.206   3.515   1.657  1.00  0.00          FE  \nATOM     41   Fe MOL     1       4.059   7.030   1.657  1.00  0.00          FE  \nATOM     42   Fe MOL     1       8.118   7.030   1.657  1.00  0.00          FE  \nATOM     43   Fe MOL     1      12.176   7.030   1.657  1.00  0.00          FE  \nATOM     44   Fe MOL     1      16.235   7.030   1.657  1.00  0.00          FE  \nATOM     45   Fe MOL     1       6.088  10.545   1.657  1.00  0.00          FE  \nATOM     46   Fe MOL     1      10.147  10.545   1.657  1.00  0.00          FE  \nATOM     47   Fe MOL     1      14.206  10.545   1.657  1.00  0.00          FE  \nATOM     48   Fe MOL     1      18.265  10.545   1.657  1.00  0.00          FE  \nATOM     49   Fe MOL     1       2.029   1.172   2.485  1.00  0.00          FE  \nATOM     50   Fe MOL     1       6.088   1.172   2.485  1.00  0.00          FE  \nATOM     51   Fe MOL     1      10.147   1.172   2.485  1.00  0.00          FE  \nATOM     52   Fe MOL     1      14.206   1.172   2.485  1.00  0.00          FE  \nATOM     53   Fe MOL     1       4.059   4.687   2.485  1.00  0.00          FE  \nATOM     54   Fe MOL     1       8.118   4.687   2.485  1.00  0.00          FE  \nATOM     55   Fe MOL     1      12.176   4.687   2.485  1.00  0.00          FE  \nATOM     56   Fe MOL     1      16.235   4.687   2.485  1.00  0.00          FE  \nATOM     57   Fe MOL     1       6.088   8.202   2.485  1.00  0.00          FE  \nATOM     58   Fe MOL     1      10.147   8.202   2.485  1.00  0.00          FE  \nATOM     59   Fe MOL     1      14.206   8.202   2.485  1.00  0.00          FE  \nATOM     60   Fe MOL     1      18.265   8.202   2.485  1.00  0.00          FE  \nATOM     61   Fe MOL     1       8.118  11.717   2.485  1.00  0.00          FE  \nATOM     62   Fe MOL     1      12.176  11.717   2.485  1.00  0.00          FE  \nATOM     63   Fe MOL     1      16.235  11.717   2.485  1.00  0.00          FE  \nATOM     64   Fe MOL     1      20.294  11.717   2.485  1.00  0.00          FE  \nATOM     65   Fe MOL     1      -0.000   2.343   3.314  1.00  0.00          FE  \nATOM     66   Fe MOL     1       4.059   2.343   3.314  1.00  0.00          FE  \nATOM     67   Fe MOL     1       8.118   2.343   3.314  1.00  0.00          FE  \nATOM     68   Fe MOL     1      12.176   2.343   3.314  1.00  0.00          FE  \nATOM     69   Fe MOL     1       2.029   5.858   3.314  1.00  0.00          FE  \nATOM     70   Fe MOL     1       6.088   5.858   3.314  1.00  0.00          FE  \nATOM     71   Fe MOL     1      10.147   5.858   3.314  1.00  0.00          FE  \nATOM     72   Fe MOL     1      14.206   5.858   3.314  1.00  0.00          FE  \nATOM     73   Fe MOL     1       4.059   9.373   3.314  1.00  0.00          FE  \nATOM     74   Fe MOL     1       8.118   9.373   3.314  1.00  0.00          FE  \nATOM     75   Fe MOL     1      12.176   9.373   3.314  1.00  0.00          FE  \nATOM     76   Fe MOL     1      16.235   9.373   3.314  1.00  0.00          FE  \nATOM     77   Fe MOL     1       6.088  12.888   3.314  1.00  0.00          FE  \nATOM     78   Fe MOL     1      10.147  12.888   3.314  1.00  0.00          FE  \nATOM     79   Fe MOL     1      14.206  12.888   3.314  1.00  0.00          FE  \nATOM     80   Fe MOL     1      18.265  12.888   3.314  1.00  0.00          FE  \nATOM     81   Fe MOL     1       0.000   0.000   4.142  1.00  0.00          FE  \nATOM     82   Fe MOL     1       4.059   0.000   4.142  1.00  0.00          FE  \nATOM     83   Fe MOL     1       8.118   0.000   4.142  1.00  0.00          FE  \nATOM     84   Fe MOL     1      12.176   0.000   4.142  1.00  0.00          FE  \nATOM     85   Fe MOL     1       2.029   3.515   4.142  1.00  0.00          FE  \nATOM     86   Fe MOL     1       6.088   3.515   4.142  1.00  0.00          FE  \nATOM     87   Fe MOL     1      10.147   3.515   4.142  1.00  0.00          FE  \nATOM     88   Fe MOL     1      14.206   3.515   4.142  1.00  0.00          FE  \nATOM     89   Fe MOL     1       4.059   7.030   4.142  1.00  0.00          FE  \nATOM     90   Fe MOL     1       8.118   7.030   4.142  1.00  0.00          FE  \nATOM     91   Fe MOL     1      12.176   7.030   4.142  1.00  0.00          FE  \nATOM     92   Fe MOL     1      16.235   7.030   4.142  1.00  0.00          FE  \nATOM     93   Fe MOL     1       6.088  10.545   4.142  1.00  0.00          FE  \nATOM     94   Fe MOL     1      10.147  10.545   4.142  1.00  0.00          FE  \nATOM     95   Fe MOL     1      14.206  10.545   4.142  1.00  0.00          FE  \nATOM     96   Fe MOL     1      18.265  10.545   4.142  1.00  0.00          FE  \nENDMDL\n",
           "type": "blob"
          }
         ],
         "kwargs": {
          "defaultRepresentation": false,
          "ext": "pdb"
         },
         "methodName": "loadFile",
         "reconstruc_color_scheme": false,
         "target": "Stage",
         "type": "call_method"
        },
        {
         "args": [
          "400px",
          "300px"
         ],
         "kwargs": {},
         "methodName": "setSize",
         "reconstruc_color_scheme": false,
         "target": "Widget",
         "type": "call_method"
        },
        {
         "args": [
          "unitcell"
         ],
         "component_index": 0,
         "kwargs": {
          "sele": "all"
         },
         "methodName": "addRepresentation",
         "reconstruc_color_scheme": false,
         "target": "compList",
         "type": "call_method"
        },
        {
         "args": [
          "spacefill"
         ],
         "component_index": 0,
         "kwargs": {
          "sele": "all"
         },
         "methodName": "addRepresentation",
         "reconstruc_color_scheme": false,
         "target": "compList",
         "type": "call_method"
        },
        {
         "args": [],
         "kwargs": {
          "cameraType": "orthographic"
         },
         "methodName": "setParameters",
         "reconstruc_color_scheme": false,
         "target": "Stage",
         "type": "call_method"
        },
        {
         "args": [
          {
           "clipDist": 0
          }
         ],
         "kwargs": {},
         "methodName": "setParameters",
         "reconstruc_color_scheme": false,
         "target": "Widget",
         "type": "call_method"
        },
        {
         "args": [
          "spacefill",
          0
         ],
         "kwargs": {
          "colorScale": "rainbow",
          "colorScheme": "element",
          "radiusScale": 0.5,
          "radiusType": "covalent"
         },
         "methodName": "updateRepresentationsByName",
         "reconstruc_color_scheme": false,
         "target": "Widget",
         "type": "call_method"
        },
        {
         "args": [
          "this._Q = [[1.0, 0.0, 0.0], [0.0, 1.0, 0.0], [0.0, 0.0, 1.0]]\n    var tooltip = document.createElement('div')\n    Object.assign(tooltip.style, {\n      display: 'none',\n      position: 'fixed',\n      zIndex: 10,\n      pointerEvents: 'none',\n      backgroundColor: 'rgba( 0, 0, 0, 0.6 )',\n      color: 'lightgrey',\n      padding: '8px',\n      fontFamily: 'sans-serif'\n    })\n    document.body.appendChild(tooltip)\n\n    var that = this\n    this.stage.mouseControls.remove('hoverPick')\n    this.stage.signals.hovered.add(function (pickingProxy) {\n      if (pickingProxy && (pickingProxy.atom || pickingProxy.bond)) {\n        var atom = pickingProxy.atom || pickingProxy.closestBondAtom\n        var mp = pickingProxy.mouse.position\n        //tooltip.innerText = atom.element + ' i=' + atom.index + ' (' + atom.x.toFixed(2) +  ', ' + atom.y.toFixed(2) +  ', ' + atom.z.toFixed(2) + ')'\n        //var pos = that._atoms_pos[atom.index]\n        var Q = that._Q\n        var pos_x = Q[0][0] * atom.x + Q[0][1] * atom.y + Q[0][2] * atom.z \n        var pos_y = Q[1][0] * atom.x + Q[1][1] * atom.y + Q[1][2] * atom.z\n        var pos_z = Q[2][0] * atom.x + Q[2][1] * atom.y + Q[2][2] * atom.z\n        tooltip.innerText = 'i=' + atom.index + ' ' + atom.element + ' (' + pos_x.toFixed(2) +  ', ' + pos_y.toFixed(2) +  ', ' + pos_z.toFixed(2) + ')'\n        tooltip.style.bottom = window.innerHeight - mp.y + 3 + 'px'\n        tooltip.style.left = mp.x + 3 + 'px'\n        tooltip.style.display = 'block'\n      } else {\n        tooltip.style.display = 'none'\n      }\n    })\n    "
         ],
         "kwargs": {},
         "methodName": "executeCode",
         "reconstruc_color_scheme": false,
         "target": "Widget",
         "type": "call_method"
        }
       ],
       "_ngl_original_stage_parameters": {
        "ambientColor": 14540253,
        "ambientIntensity": 0.2,
        "backgroundColor": "white",
        "cameraEyeSep": 0.3,
        "cameraFov": 40,
        "cameraType": "perspective",
        "clipDist": 10,
        "clipFar": 100,
        "clipNear": 0,
        "fogFar": 100,
        "fogNear": 50,
        "hoverTimeout": 0,
        "impostor": true,
        "lightColor": 14540253,
        "lightIntensity": 1,
        "mousePreset": "default",
        "panSpeed": 1,
        "quality": "medium",
        "rotateSpeed": 2,
        "sampleLevel": 0,
        "tooltip": true,
        "workerDefault": true,
        "zoomSpeed": 1.2
       },
       "_ngl_repr_dict": {
        "0": {
         "0": {
          "params": {
           "clipCenter": {
            "x": 0,
            "y": 0,
            "z": 0
           },
           "clipNear": 0,
           "clipRadius": 0,
           "colorMode": "hcl",
           "colorReverse": false,
           "colorScale": "",
           "colorScheme": "element",
           "colorValue": "orange",
           "defaultAssembly": "",
           "depthWrite": true,
           "diffuse": 16777215,
           "diffuseInterior": false,
           "disableImpostor": false,
           "disablePicking": false,
           "flatShaded": false,
           "interiorColor": 2236962,
           "interiorDarkening": 0,
           "lazy": false,
           "matrix": {
            "elements": [
             1,
             0,
             0,
             0,
             0,
             1,
             0,
             0,
             0,
             0,
             1,
             0,
             0,
             0,
             0,
             1
            ]
           },
           "metalness": 0,
           "opacity": 1,
           "quality": "medium",
           "radialSegments": 10,
           "radiusData": {},
           "radiusScale": 1,
           "radiusSize": 0.05214905877346537,
           "radiusType": "vdw",
           "roughness": 0.4,
           "sele": "all",
           "side": "double",
           "sphereDetail": 1,
           "useInteriorColor": true,
           "visible": true,
           "wireframe": false
          },
          "type": "unitcell"
         },
         "1": {
          "params": {
           "assembly": "default",
           "clipCenter": {
            "x": 0,
            "y": 0,
            "z": 0
           },
           "clipNear": 0,
           "clipRadius": 0,
           "colorMode": "hcl",
           "colorReverse": false,
           "colorScale": "rainbow",
           "colorScheme": "element",
           "colorValue": 9474192,
           "defaultAssembly": "",
           "depthWrite": true,
           "diffuse": 16777215,
           "diffuseInterior": false,
           "disableImpostor": false,
           "disablePicking": false,
           "flatShaded": false,
           "interiorColor": 2236962,
           "interiorDarkening": 0,
           "lazy": false,
           "matrix": {
            "elements": [
             1,
             0,
             0,
             0,
             0,
             1,
             0,
             0,
             0,
             0,
             1,
             0,
             0,
             0,
             0,
             1
            ]
           },
           "metalness": 0,
           "opacity": 1,
           "quality": "medium",
           "radiusData": {},
           "radiusScale": 0.5,
           "radiusSize": 1,
           "radiusType": "covalent",
           "roughness": 0.4,
           "sele": "all",
           "side": "double",
           "sphereDetail": 1,
           "useInteriorColor": true,
           "visible": true,
           "wireframe": false
          },
          "type": "spacefill"
         }
        }
       },
       "_ngl_serialize": false,
       "_ngl_version": "2.0.0-dev.36",
       "_ngl_view_id": [
        "89BC4C9F-4A53-4359-AB25-6C0183CD6D6E"
       ],
       "_player_dict": {},
       "_scene_position": {},
       "_scene_rotation": {},
       "_synced_model_ids": [],
       "_synced_repr_model_ids": [],
       "_view_height": "",
       "_view_width": "",
       "background": "white",
       "frame": 0,
       "gui_style": null,
       "layout": "IPY_MODEL_5baf3e54a33b4f3e8cc5adb0b11a3768",
       "max_frame": 0,
       "n_components": 1,
       "picked": {}
      }
     },
     "173ad80e6236481db95f3228d4669ccc": {
      "model_module": "@jupyter-widgets/base",
      "model_module_version": "1.2.0",
      "model_name": "LayoutModel",
      "state": {
       "border": "0px solid black"
      }
     },
     "179d5ef4121143b5a3cd59ea95274df4": {
      "model_module": "@jupyter-widgets/controls",
      "model_module_version": "1.5.0",
      "model_name": "SliderStyleModel",
      "state": {
       "description_width": ""
      }
     },
     "17e7d24d36024ea9bb3c81919194ec70": {
      "model_module": "@jupyter-widgets/base",
      "model_module_version": "1.2.0",
      "model_name": "LayoutModel",
      "state": {}
     },
     "18546a0c54e64c28bac195316b2c866d": {
      "model_module": "@jupyter-widgets/controls",
      "model_module_version": "1.5.0",
      "model_name": "ButtonModel",
      "state": {
       "icon": "compress",
       "layout": "IPY_MODEL_a7f4722857a2409eb2443c6a6d9ccffa",
       "style": "IPY_MODEL_32ab406bd08b434b9a8d694fd34d0a71"
      }
     },
     "18634d23ad82469e85977dc3711e895c": {
      "model_module": "@jupyter-widgets/base",
      "model_module_version": "1.2.0",
      "model_name": "LayoutModel",
      "state": {}
     },
     "187c31a3b65a4e358075bdeff0e8d99c": {
      "model_module": "@jupyter-widgets/base",
      "model_module_version": "1.2.0",
      "model_name": "LayoutModel",
      "state": {}
     },
     "19afd59bf1e745609ccffa74158f9cea": {
      "model_module": "@jupyter-widgets/controls",
      "model_module_version": "1.5.0",
      "model_name": "HBoxModel",
      "state": {
       "children": [
        "IPY_MODEL_4a3c4f2707554968af9587f8768a66c4",
        "IPY_MODEL_554d5220c1ce45b6920a217d0ec283f1"
       ],
       "layout": "IPY_MODEL_0985ba26d58d489e80498e2bef4f7a3a"
      }
     },
     "19e0072f1dda45a7a609a9ceb40f9e0b": {
      "model_module": "@jupyter-widgets/controls",
      "model_module_version": "1.5.0",
      "model_name": "DescriptionStyleModel",
      "state": {
       "description_width": ""
      }
     },
     "1a7afff9472f45d6ba565e03c2335238": {
      "model_module": "@jupyter-widgets/base",
      "model_module_version": "1.2.0",
      "model_name": "LayoutModel",
      "state": {
       "width": "34px"
      }
     },
     "1aaa3add9de34a9dbc79ad1531911c14": {
      "model_module": "@jupyter-widgets/base",
      "model_module_version": "1.2.0",
      "model_name": "LayoutModel",
      "state": {}
     },
     "1e40f47a805149b2a785bbcb35e12db4": {
      "model_module": "@jupyter-widgets/base",
      "model_module_version": "1.2.0",
      "model_name": "LayoutModel",
      "state": {}
     },
     "1e5ea7903bf24c1f9a3db9dd8753c13b": {
      "model_module": "@jupyter-widgets/base",
      "model_module_version": "1.2.0",
      "model_name": "LayoutModel",
      "state": {}
     },
     "1f630eea0ad04bc1831ff3d62bd9fe6d": {
      "model_module": "@jupyter-widgets/controls",
      "model_module_version": "1.5.0",
      "model_name": "DescriptionStyleModel",
      "state": {
       "description_width": ""
      }
     },
     "20ff67abf9b5405c8feab04d28b461ea": {
      "model_module": "@jupyter-widgets/controls",
      "model_module_version": "1.5.0",
      "model_name": "SliderStyleModel",
      "state": {
       "description_width": ""
      }
     },
     "214677463eb443f289aa85cfcd38fdf7": {
      "model_module": "@jupyter-widgets/controls",
      "model_module_version": "1.5.0",
      "model_name": "FloatSliderModel",
      "state": {
       "description": "Force scale",
       "layout": "IPY_MODEL_0f434753a0a64e20aeaef9d8486cd02d",
       "step": 0.1,
       "style": "IPY_MODEL_01e1f6a733ed4c1e96d48cbf6720de1b",
       "value": 0.5
      }
     },
     "21dc410261da4c2ebe7b4dab785805c2": {
      "model_module": "@jupyter-widgets/base",
      "model_module_version": "1.2.0",
      "model_name": "LayoutModel",
      "state": {}
     },
     "22917de842e043e8a4c6e58644438cbd": {
      "model_module": "@jupyter-widgets/controls",
      "model_module_version": "1.5.0",
      "model_name": "DescriptionStyleModel",
      "state": {
       "description_width": ""
      }
     },
     "24ba1811222b4964bf6363de551105b9": {
      "model_module": "@jupyter-widgets/base",
      "model_module_version": "1.2.0",
      "model_name": "LayoutModel",
      "state": {}
     },
     "25e9d722df6b45999bd6f131fced989c": {
      "model_module": "@jupyter-widgets/base",
      "model_module_version": "1.2.0",
      "model_name": "LayoutModel",
      "state": {
       "border": "0px solid black"
      }
     },
     "279ec58247c340f49ab63030d5c5236d": {
      "model_module": "@jupyter-widgets/controls",
      "model_module_version": "1.5.0",
      "model_name": "CheckboxModel",
      "state": {
       "description": "Show force",
       "disabled": false,
       "layout": "IPY_MODEL_ab4b5192ab5f4275b2558fd9781d1582",
       "style": "IPY_MODEL_2a953274465e4b1b89034a7024d4ca14",
       "value": false
      }
     },
     "281ec27be28744ae81ca86643216a1e5": {
      "model_module": "@jupyter-widgets/base",
      "model_module_version": "1.2.0",
      "model_name": "LayoutModel",
      "state": {}
     },
     "28f0b4c87101411196a80b708b3b0cdc": {
      "model_module": "@jupyter-widgets/controls",
      "model_module_version": "1.5.0",
      "model_name": "HBoxModel",
      "state": {
       "children": [
        "IPY_MODEL_9fc98f96b82546da9be2315206ec8c41",
        "IPY_MODEL_8e0600b0ffae4626b6ea8d4bf6bb442b"
       ],
       "layout": "IPY_MODEL_f8c917cdc2fe4cc09268a663f67f7307"
      }
     },
     "29928f2cc453473db1d2182568e3a3b4": {
      "model_module": "@jupyter-widgets/controls",
      "model_module_version": "1.5.0",
      "model_name": "DropdownModel",
      "state": {
       "_options_labels": [
        "All",
        "Fe"
       ],
       "description": "Show",
       "index": 0,
       "layout": "IPY_MODEL_21dc410261da4c2ebe7b4dab785805c2",
       "style": "IPY_MODEL_7deecd45d57c4af28ff6e45ed02f1c6f"
      }
     },
     "29976376897b4f7a9b5d947ae43eefc5": {
      "model_module": "@jupyter-widgets/controls",
      "model_module_version": "1.5.0",
      "model_name": "HBoxModel",
      "state": {
       "children": [
        "IPY_MODEL_f631bf32df7d4a05abd0a1d606ad7ede",
        "IPY_MODEL_4dc89ecd43c44c9c83f69b468b50e59b"
       ],
       "layout": "IPY_MODEL_24ba1811222b4964bf6363de551105b9"
      }
     },
     "2a953274465e4b1b89034a7024d4ca14": {
      "model_module": "@jupyter-widgets/controls",
      "model_module_version": "1.5.0",
      "model_name": "DescriptionStyleModel",
      "state": {
       "description_width": ""
      }
     },
     "2a9601cc3e8e47f6b21c223514e04cb9": {
      "model_module": "@jupyter-widgets/base",
      "model_module_version": "1.2.0",
      "model_name": "LayoutModel",
      "state": {}
     },
     "2b15d60d16a042cdabdf38454d28e37c": {
      "model_module": "@jupyter-widgets/base",
      "model_module_version": "1.2.0",
      "model_name": "LayoutModel",
      "state": {}
     },
     "2b302a85df23453f8fdb76baaae51980": {
      "model_module": "@jupyter-widgets/controls",
      "model_module_version": "1.5.0",
      "model_name": "ButtonModel",
      "state": {
       "icon": "compress",
       "layout": "IPY_MODEL_60dea2a6f09440c38fae159ce26a81c7",
       "style": "IPY_MODEL_bc829d385a8d4fb7b1489ea8a3ad3064"
      }
     },
     "2d39c8fcff874e25977f971d703bbf65": {
      "model_module": "@jupyter-widgets/controls",
      "model_module_version": "1.5.0",
      "model_name": "DropdownModel",
      "state": {
       "_options_labels": [
        "All",
        "Si"
       ],
       "description": "Show",
       "index": 0,
       "layout": "IPY_MODEL_67133b12aaa54f78a2a741e03cc1ae3f",
       "style": "IPY_MODEL_143d76385de843dc80527d3876f8f235"
      }
     },
     "306981b255f74281859e50eb6f4c1d6a": {
      "model_module": "@jupyter-widgets/controls",
      "model_module_version": "1.5.0",
      "model_name": "DropdownModel",
      "state": {
       "_options_labels": [
        "All",
        "Fe"
       ],
       "description": "Show",
       "index": 0,
       "layout": "IPY_MODEL_1e5ea7903bf24c1f9a3db9dd8753c13b",
       "style": "IPY_MODEL_06237fc79c3d40a2847b427aa3440a29"
      }
     },
     "308b5b7b765f42ae9f5f83cda1f1c231": {
      "model_module": "@jupyter-widgets/base",
      "model_module_version": "1.2.0",
      "model_name": "LayoutModel",
      "state": {
       "border": "0px solid black"
      }
     },
     "30ec70d8aed343b0853dd202711174f1": {
      "model_module": "@jupyter-widgets/base",
      "model_module_version": "1.2.0",
      "model_name": "LayoutModel",
      "state": {}
     },
     "312dd6cee08d4105aa3685aa56d5aa19": {
      "model_module": "@jupyter-widgets/controls",
      "model_module_version": "1.5.0",
      "model_name": "DropdownModel",
      "state": {
       "_options_labels": [
        "All",
        "Si"
       ],
       "description": "Show",
       "index": 0,
       "layout": "IPY_MODEL_e7bbfd4b852c467ab7bb8c28f51493ff",
       "style": "IPY_MODEL_1633f7a67d014b28845350fb213a48b3"
      }
     },
     "3184b25e268f44608c0ec80ea1b3fcfc": {
      "model_module": "@jupyter-widgets/controls",
      "model_module_version": "1.5.0",
      "model_name": "DescriptionStyleModel",
      "state": {
       "description_width": ""
      }
     },
     "32ab406bd08b434b9a8d694fd34d0a71": {
      "model_module": "@jupyter-widgets/controls",
      "model_module_version": "1.5.0",
      "model_name": "ButtonStyleModel",
      "state": {}
     },
     "32fef9df975e41019c3c516667e64c97": {
      "model_module": "@jupyter-widgets/output",
      "model_module_version": "1.0.0",
      "model_name": "OutputModel",
      "state": {
       "layout": "IPY_MODEL_25e9d722df6b45999bd6f131fced989c"
      }
     },
     "346d293a326b4309b02cbffaa7715092": {
      "model_module": "@jupyter-widgets/controls",
      "model_module_version": "1.5.0",
      "model_name": "LinkModel",
      "state": {
       "source": [
        "IPY_MODEL_b380d1f22c914355a7b7ee6b3e3cad56",
        "value"
       ],
       "target": [
        "IPY_MODEL_ce5f91eb8a43407ab8b48b0dd5a97f20",
        "value"
       ]
      }
     },
     "34aeecd6a2d34712b9f9150bc9934cb7": {
      "model_module": "@jupyter-widgets/base",
      "model_module_version": "1.2.0",
      "model_name": "LayoutModel",
      "state": {}
     },
     "353467a193d7486d84605acd084a2309": {
      "model_module": "@jupyter-widgets/base",
      "model_module_version": "1.2.0",
      "model_name": "LayoutModel",
      "state": {}
     },
     "35852449cf6c43a0a031deb1f6ee738c": {
      "model_module": "@jupyter-widgets/base",
      "model_module_version": "1.2.0",
      "model_name": "LayoutModel",
      "state": {}
     },
     "360b345069714bd399539d30acfc00e1": {
      "model_module": "@jupyter-widgets/controls",
      "model_module_version": "1.5.0",
      "model_name": "ButtonStyleModel",
      "state": {}
     },
     "363119a5d10648ffb64c570dd4af2915": {
      "model_module": "@jupyter-widgets/base",
      "model_module_version": "1.2.0",
      "model_name": "LayoutModel",
      "state": {
       "width": "34px"
      }
     },
     "3648f4aa3a13479cb0096ff9ece235c8": {
      "model_module": "@jupyter-widgets/controls",
      "model_module_version": "1.5.0",
      "model_name": "CheckboxModel",
      "state": {
       "description": "Show force",
       "disabled": false,
       "layout": "IPY_MODEL_83b5d29811794c2eb8735f295f997b1c",
       "style": "IPY_MODEL_a16737e0f1c440768f8675567bf870a5",
       "value": false
      }
     },
     "366643813b9041e4a5f678e8ebf04f48": {
      "model_module": "@jupyter-widgets/controls",
      "model_module_version": "1.5.0",
      "model_name": "DropdownModel",
      "state": {
       "_options_labels": [
        " ",
        "picking",
        "random",
        "uniform",
        "atomindex",
        "residueindex",
        "chainindex",
        "modelindex",
        "sstruc",
        "element",
        "resname",
        "bfactor",
        "hydrophobicity",
        "value",
        "volume",
        "occupancy"
       ],
       "description": "Color scheme",
       "index": 9,
       "layout": "IPY_MODEL_db961634cb5848b69d044371334b35c3",
       "style": "IPY_MODEL_5bd45de5eb1641e6aaa8cca32920e89d"
      }
     },
     "381d8a7660794267bb795686fe2d4f80": {
      "model_module": "@jupyter-widgets/controls",
      "model_module_version": "1.5.0",
      "model_name": "ButtonStyleModel",
      "state": {}
     },
     "382d7132739a4e848ad8c631a81932da": {
      "model_module": "@jupyter-widgets/base",
      "model_module_version": "1.2.0",
      "model_name": "LayoutModel",
      "state": {}
     },
     "3a8cfd61250c4347b7e6358b3c4d85d1": {
      "model_module": "@jupyter-widgets/base",
      "model_module_version": "1.2.0",
      "model_name": "LayoutModel",
      "state": {}
     },
     "3ac39d890f24485ea3b91550266ec81e": {
      "model_module": "@jupyter-widgets/controls",
      "model_module_version": "1.5.0",
      "model_name": "ButtonStyleModel",
      "state": {}
     },
     "3ce2fb7237344135952298cb2fd771d7": {
      "model_module": "@jupyter-widgets/controls",
      "model_module_version": "1.5.0",
      "model_name": "HBoxModel",
      "state": {
       "children": [
        "IPY_MODEL_af1f32a8dcc846ee895c9dfd949c76db",
        "IPY_MODEL_ccf7a6f322f1448197966be286c292be"
       ],
       "layout": "IPY_MODEL_990e81ec6ac34f5c92e89b01b5fea276"
      }
     },
     "3dcd93dc072a4a3490b5965e0f114e7c": {
      "model_module": "@jupyter-widgets/controls",
      "model_module_version": "1.5.0",
      "model_name": "TextModel",
      "state": {
       "description": "Filename: ",
       "layout": "IPY_MODEL_34aeecd6a2d34712b9f9150bc9934cb7",
       "style": "IPY_MODEL_4bd54d82f91e46a299ad7f7b3baae9bf",
       "value": "screenshot.png"
      }
     },
     "3ff4a9a801514527bb817f49ec301fd0": {
      "model_module": "@jupyter-widgets/base",
      "model_module_version": "1.2.0",
      "model_name": "LayoutModel",
      "state": {}
     },
     "41c33c226c304423a99050837ea1e866": {
      "model_module": "@jupyter-widgets/base",
      "model_module_version": "1.2.0",
      "model_name": "LayoutModel",
      "state": {}
     },
     "42470a1605db4223962a36922a528ba8": {
      "model_module": "@jupyter-widgets/controls",
      "model_module_version": "1.5.0",
      "model_name": "LinkModel",
      "state": {
       "source": [
        "IPY_MODEL_5724a5b84f1d41f5855d7ffaa82d9b19",
        "max"
       ],
       "target": [
        "IPY_MODEL_1645bbc6ec9543d796c5b3abb418e098",
        "max_frame"
       ]
      }
     },
     "42ece0fb8bed43ad98533fae3e8bcb32": {
      "model_module": "@jupyter-widgets/base",
      "model_module_version": "1.2.0",
      "model_name": "LayoutModel",
      "state": {}
     },
     "438562320b784f3e97523be853233879": {
      "model_module": "@jupyter-widgets/controls",
      "model_module_version": "1.5.0",
      "model_name": "SliderStyleModel",
      "state": {
       "description_width": ""
      }
     },
     "44a64016281644a6b63dcec7f783d5e3": {
      "model_module": "@jupyter-widgets/base",
      "model_module_version": "1.2.0",
      "model_name": "LayoutModel",
      "state": {}
     },
     "44ad15b9c1e74de3b2658a20656a4d7b": {
      "model_module": "@jupyter-widgets/base",
      "model_module_version": "1.2.0",
      "model_name": "LayoutModel",
      "state": {}
     },
     "44cb3cd13ea546dc892b86c2b93f7b6f": {
      "model_module": "@jupyter-widgets/output",
      "model_module_version": "1.0.0",
      "model_name": "OutputModel",
      "state": {
       "layout": "IPY_MODEL_308b5b7b765f42ae9f5f83cda1f1c231"
      }
     },
     "468a6b6fd50947a6928acc739269a9a6": {
      "model_module": "@jupyter-widgets/controls",
      "model_module_version": "1.5.0",
      "model_name": "ButtonStyleModel",
      "state": {}
     },
     "4761053dc7024ca0aa62cf297c5c8977": {
      "model_module": "@jupyter-widgets/controls",
      "model_module_version": "1.5.0",
      "model_name": "HBoxModel",
      "state": {
       "children": [
        "IPY_MODEL_968776330df14b0589dcd82515e056a8",
        "IPY_MODEL_4ff172c93118443d8c5eb815b21fcb08"
       ],
       "layout": "IPY_MODEL_833e618c46f946b3a145266c742a1ef8"
      }
     },
     "47afa9ee098348258c04b063087f90f0": {
      "model_module": "@jupyter-widgets/controls",
      "model_module_version": "1.5.0",
      "model_name": "DescriptionStyleModel",
      "state": {
       "description_width": ""
      }
     },
     "47cfea87f4e74a0d92375c2e7462a15b": {
      "model_module": "@jupyter-widgets/controls",
      "model_module_version": "1.5.0",
      "model_name": "FloatSliderModel",
      "state": {
       "description": "Force scale",
       "layout": "IPY_MODEL_5f1a1385caaf4fbc879a696b38c9a32c",
       "step": 0.1,
       "style": "IPY_MODEL_e672e49cbb28403c8ce47ba06862e2e9",
       "value": 0.5
      }
     },
     "47d16e5347974ed18817d8447968ea6c": {
      "model_module": "@jupyter-widgets/controls",
      "model_module_version": "1.5.0",
      "model_name": "FloatSliderModel",
      "state": {
       "description": "Charge scale",
       "layout": "IPY_MODEL_9e2912b90a2e4ec7918c4c0ce4f58788",
       "step": 0.1,
       "style": "IPY_MODEL_8d56f7d3801d44b8aa2c8781e4a09f16",
       "value": 1
      }
     },
     "47f03566fbc743fa9b15a70b65c09008": {
      "model_module": "@jupyter-widgets/controls",
      "model_module_version": "1.5.0",
      "model_name": "LinkModel",
      "state": {
       "source": [
        "IPY_MODEL_0192fe37d3764165a1cb47ca85d87402",
        "value"
       ],
       "target": [
        "IPY_MODEL_1645bbc6ec9543d796c5b3abb418e098",
        "frame"
       ]
      }
     },
     "489cc5240a254598a9f8ac141374dde7": {
      "model_module": "@jupyter-widgets/controls",
      "model_module_version": "1.5.0",
      "model_name": "ImageModel",
      "state": {
       "layout": "IPY_MODEL_db930ab2c0624f8fad45e30ba72f4d73",
       "width": "900.0"
      }
     },
     "4a3c4f2707554968af9587f8768a66c4": {
      "model_module": "@jupyter-widgets/controls",
      "model_module_version": "1.5.0",
      "model_name": "PlayModel",
      "state": {
       "layout": "IPY_MODEL_7af9770a06be48b9a0b173217a39de6b",
       "max": 0,
       "style": "IPY_MODEL_6a1e3e7fcb7c4776922ed5e6be17aeb7"
      }
     },
     "4a66079edae643a6a0923d72789520c2": {
      "model_module": "@jupyter-widgets/controls",
      "model_module_version": "1.5.0",
      "model_name": "DropdownModel",
      "state": {
       "_options_labels": [
        " ",
        "picking",
        "random",
        "uniform",
        "atomindex",
        "residueindex",
        "chainindex",
        "modelindex",
        "sstruc",
        "element",
        "resname",
        "bfactor",
        "hydrophobicity",
        "value",
        "volume",
        "occupancy"
       ],
       "description": "Color scheme",
       "index": 9,
       "layout": "IPY_MODEL_c55b77e61ae844a292e7dc798048e875",
       "style": "IPY_MODEL_79f3a1db53594216a24103888e2ba26a"
      }
     },
     "4bd54d82f91e46a299ad7f7b3baae9bf": {
      "model_module": "@jupyter-widgets/controls",
      "model_module_version": "1.5.0",
      "model_name": "DescriptionStyleModel",
      "state": {
       "description_width": ""
      }
     },
     "4c198266a2c64d14b83c913edfa9574c": {
      "model_module": "@jupyter-widgets/base",
      "model_module_version": "1.2.0",
      "model_name": "LayoutModel",
      "state": {}
     },
     "4d63a2e0f6bc4d72985dfef9465213fc": {
      "model_module": "@jupyter-widgets/controls",
      "model_module_version": "1.5.0",
      "model_name": "VBoxModel",
      "state": {
       "children": [
        "IPY_MODEL_312dd6cee08d4105aa3685aa56d5aa19",
        "IPY_MODEL_a2326af304094d46a71d12e3a29dee66",
        "IPY_MODEL_8be06b50bd78414eadc70845e4244c11",
        "IPY_MODEL_3dcd93dc072a4a3490b5965e0f114e7c",
        "IPY_MODEL_0566c80940f344d186417a37cf104805",
        "IPY_MODEL_7f74cbd34a444260b54496e888559b89",
        "IPY_MODEL_f7cae15e2a2c49eeb829669f95c69501",
        "IPY_MODEL_6425c3309375495a9bece9640a881d2e",
        "IPY_MODEL_bcb4ac3b5e2843fa9a1f9b13d0dd0a29",
        "IPY_MODEL_bb06ff4180b7408b8754b7326c69aac9"
       ],
       "layout": "IPY_MODEL_5ae097aa2cfc49ed9e137f12b54d98ed"
      }
     },
     "4d95230420c94f7a9f1dfd9603062d56": {
      "model_module": "@jupyter-widgets/base",
      "model_module_version": "1.2.0",
      "model_name": "LayoutModel",
      "state": {}
     },
     "4dc89ecd43c44c9c83f69b468b50e59b": {
      "model_module": "@jupyter-widgets/controls",
      "model_module_version": "1.5.0",
      "model_name": "IntSliderModel",
      "state": {
       "layout": "IPY_MODEL_a47b772e1d1a491d9a7c6311d94c6baa",
       "max": 0,
       "style": "IPY_MODEL_438562320b784f3e97523be853233879"
      }
     },
     "4ff172c93118443d8c5eb815b21fcb08": {
      "model_module": "@jupyter-widgets/controls",
      "model_module_version": "1.5.0",
      "model_name": "ButtonModel",
      "state": {
       "description": "Save image",
       "layout": "IPY_MODEL_382d7132739a4e848ad8c631a81932da",
       "style": "IPY_MODEL_360b345069714bd399539d30acfc00e1",
       "tooltip": "Save current frame to file.\nCurrently .png and .html are supported.\nIt takes a bit time, please be patient."
      }
     },
     "50b087ebe8ce474fb186634060951cc7": {
      "model_module": "nglview-js-widgets",
      "model_module_version": "3.0.1",
      "model_name": "NGLModel",
      "state": {
       "_camera_orientation": [
        16.929911666299105,
        0,
        0,
        0,
        0,
        16.929911666299105,
        0,
        0,
        0,
        0,
        16.929911666299105,
        0,
        -4.799499988555908,
        -2.7709999084472656,
        -1.9594999551773071,
        1
       ],
       "_camera_str": "orthographic",
       "_gui_theme": null,
       "_ibtn_fullscreen": "IPY_MODEL_c400dbce5d5c4d09a7ecd3fb80aeaac2",
       "_igui": null,
       "_iplayer": "IPY_MODEL_29976376897b4f7a9b5d947ae43eefc5",
       "_ngl_color_dict": {},
       "_ngl_coordinate_resource": {},
       "_ngl_full_stage_parameters": {
        "ambientColor": 14540253,
        "ambientIntensity": 0.2,
        "backgroundColor": "white",
        "cameraEyeSep": 0.3,
        "cameraFov": 40,
        "cameraType": "orthographic",
        "clipDist": 0,
        "clipFar": 100,
        "clipNear": 0,
        "fogFar": 100,
        "fogNear": 50,
        "hoverTimeout": 0,
        "impostor": true,
        "lightColor": 14540253,
        "lightIntensity": 1,
        "mousePreset": "default",
        "panSpeed": 1,
        "quality": "medium",
        "rotateSpeed": 2,
        "sampleLevel": 0,
        "tooltip": true,
        "workerDefault": true,
        "zoomSpeed": 1.2
       },
       "_ngl_msg_archive": [
        {
         "args": [
          {
           "binary": false,
           "data": "CRYST1    7.679    7.679    7.679  60.00  60.00  60.00 P 1\nMODEL     1\nATOM      1   Si MOL     1       0.000   0.000   0.000  1.00  0.00          SI  \nATOM      2   Si MOL     1       1.920   1.108   0.784  1.00  0.00          SI  \nATOM      3   Si MOL     1       1.920   1.108   3.135  1.00  0.00          SI  \nATOM      4   Si MOL     1       3.840   2.217   3.919  1.00  0.00          SI  \nATOM      5   Si MOL     1       1.920   3.325  -0.000  1.00  0.00          SI  \nATOM      6   Si MOL     1       3.840   4.434   0.784  1.00  0.00          SI  \nATOM      7   Si MOL     1       3.840   4.434   3.135  1.00  0.00          SI  \nATOM      8   Si MOL     1       5.759   5.542   3.919  1.00  0.00          SI  \nATOM      9   Si MOL     1       3.840  -0.000  -0.000  1.00  0.00          SI  \nATOM     10   Si MOL     1       5.759   1.108   0.784  1.00  0.00          SI  \nATOM     11   Si MOL     1       5.759   1.108   3.135  1.00  0.00          SI  \nATOM     12   Si MOL     1       7.679   2.217   3.919  1.00  0.00          SI  \nATOM     13   Si MOL     1       5.759   3.325  -0.000  1.00  0.00          SI  \nATOM     14   Si MOL     1       7.679   4.434   3.135  1.00  0.00          SI  \nATOM     15   Si MOL     1       9.599   5.542   3.919  1.00  0.00          SI  \nENDMDL\n",
           "type": "blob"
          }
         ],
         "kwargs": {
          "defaultRepresentation": false,
          "ext": "pdb"
         },
         "methodName": "loadFile",
         "reconstruc_color_scheme": false,
         "target": "Stage",
         "type": "call_method"
        },
        {
         "args": [
          "400px",
          "300px"
         ],
         "kwargs": {},
         "methodName": "setSize",
         "reconstruc_color_scheme": false,
         "target": "Widget",
         "type": "call_method"
        },
        {
         "args": [
          "unitcell"
         ],
         "component_index": 0,
         "kwargs": {
          "sele": "all"
         },
         "methodName": "addRepresentation",
         "reconstruc_color_scheme": false,
         "target": "compList",
         "type": "call_method"
        },
        {
         "args": [
          "spacefill"
         ],
         "component_index": 0,
         "kwargs": {
          "sele": "all"
         },
         "methodName": "addRepresentation",
         "reconstruc_color_scheme": false,
         "target": "compList",
         "type": "call_method"
        },
        {
         "args": [],
         "kwargs": {
          "cameraType": "orthographic"
         },
         "methodName": "setParameters",
         "reconstruc_color_scheme": false,
         "target": "Stage",
         "type": "call_method"
        },
        {
         "args": [
          {
           "clipDist": 0
          }
         ],
         "kwargs": {},
         "methodName": "setParameters",
         "reconstruc_color_scheme": false,
         "target": "Widget",
         "type": "call_method"
        },
        {
         "args": [
          "spacefill",
          0
         ],
         "kwargs": {
          "colorScale": "rainbow",
          "colorScheme": "element",
          "radiusScale": 0.5,
          "radiusType": "covalent"
         },
         "methodName": "updateRepresentationsByName",
         "reconstruc_color_scheme": false,
         "target": "Widget",
         "type": "call_method"
        },
        {
         "args": [
          "this._Q = [[-0.0, 0.7071067811865476, 0.7071067811865476], [0.816496580927726, -0.40824829046386285, 0.40824829046386296], [0.5773502691896257, 0.5773502691896258, -0.5773502691896257]]\n    var tooltip = document.createElement('div')\n    Object.assign(tooltip.style, {\n      display: 'none',\n      position: 'fixed',\n      zIndex: 10,\n      pointerEvents: 'none',\n      backgroundColor: 'rgba( 0, 0, 0, 0.6 )',\n      color: 'lightgrey',\n      padding: '8px',\n      fontFamily: 'sans-serif'\n    })\n    document.body.appendChild(tooltip)\n\n    var that = this\n    this.stage.mouseControls.remove('hoverPick')\n    this.stage.signals.hovered.add(function (pickingProxy) {\n      if (pickingProxy && (pickingProxy.atom || pickingProxy.bond)) {\n        var atom = pickingProxy.atom || pickingProxy.closestBondAtom\n        var mp = pickingProxy.mouse.position\n        //tooltip.innerText = atom.element + ' i=' + atom.index + ' (' + atom.x.toFixed(2) +  ', ' + atom.y.toFixed(2) +  ', ' + atom.z.toFixed(2) + ')'\n        //var pos = that._atoms_pos[atom.index]\n        var Q = that._Q\n        var pos_x = Q[0][0] * atom.x + Q[0][1] * atom.y + Q[0][2] * atom.z \n        var pos_y = Q[1][0] * atom.x + Q[1][1] * atom.y + Q[1][2] * atom.z\n        var pos_z = Q[2][0] * atom.x + Q[2][1] * atom.y + Q[2][2] * atom.z\n        tooltip.innerText = 'i=' + atom.index + ' ' + atom.element + ' (' + pos_x.toFixed(2) +  ', ' + pos_y.toFixed(2) +  ', ' + pos_z.toFixed(2) + ')'\n        tooltip.style.bottom = window.innerHeight - mp.y + 3 + 'px'\n        tooltip.style.left = mp.x + 3 + 'px'\n        tooltip.style.display = 'block'\n      } else {\n        tooltip.style.display = 'none'\n      }\n    })\n    "
         ],
         "kwargs": {},
         "methodName": "executeCode",
         "reconstruc_color_scheme": false,
         "target": "Widget",
         "type": "call_method"
        },
        {
         "args": [
          "ball+stick"
         ],
         "component_index": 0,
         "kwargs": {
          "sele": "all"
         },
         "methodName": "addRepresentation",
         "reconstruc_color_scheme": false,
         "target": "compList",
         "type": "call_method"
        }
       ],
       "_ngl_original_stage_parameters": {
        "ambientColor": 14540253,
        "ambientIntensity": 0.2,
        "backgroundColor": "white",
        "cameraEyeSep": 0.3,
        "cameraFov": 40,
        "cameraType": "perspective",
        "clipDist": 10,
        "clipFar": 100,
        "clipNear": 0,
        "fogFar": 100,
        "fogNear": 50,
        "hoverTimeout": 0,
        "impostor": true,
        "lightColor": 14540253,
        "lightIntensity": 1,
        "mousePreset": "default",
        "panSpeed": 1,
        "quality": "medium",
        "rotateSpeed": 2,
        "sampleLevel": 0,
        "tooltip": true,
        "workerDefault": true,
        "zoomSpeed": 1.2
       },
       "_ngl_repr_dict": {
        "0": {
         "0": {
          "params": {
           "clipCenter": {
            "x": 0,
            "y": 0,
            "z": 0
           },
           "clipNear": 0,
           "clipRadius": 0,
           "colorMode": "hcl",
           "colorReverse": false,
           "colorScale": "",
           "colorScheme": "element",
           "colorValue": "orange",
           "defaultAssembly": "",
           "depthWrite": true,
           "diffuse": 16777215,
           "diffuseInterior": false,
           "disableImpostor": false,
           "disablePicking": false,
           "flatShaded": false,
           "interiorColor": 2236962,
           "interiorDarkening": 0,
           "lazy": false,
           "matrix": {
            "elements": [
             1,
             0,
             0,
             0,
             0,
             1,
             0,
             0,
             0,
             0,
             1,
             0,
             0,
             0,
             0,
             1
            ]
           },
           "metalness": 0,
           "opacity": 1,
           "quality": "medium",
           "radialSegments": 10,
           "radiusData": {},
           "radiusScale": 1,
           "radiusSize": 0.03420312976358566,
           "radiusType": "vdw",
           "roughness": 0.4,
           "sele": "all",
           "side": "double",
           "sphereDetail": 1,
           "useInteriorColor": true,
           "visible": true,
           "wireframe": false
          },
          "type": "unitcell"
         },
         "1": {
          "params": {
           "assembly": "default",
           "clipCenter": {
            "x": 0,
            "y": 0,
            "z": 0
           },
           "clipNear": 0,
           "clipRadius": 0,
           "colorMode": "hcl",
           "colorReverse": false,
           "colorScale": "rainbow",
           "colorScheme": "element",
           "colorValue": 9474192,
           "defaultAssembly": "",
           "depthWrite": true,
           "diffuse": 16777215,
           "diffuseInterior": false,
           "disableImpostor": false,
           "disablePicking": false,
           "flatShaded": false,
           "interiorColor": 2236962,
           "interiorDarkening": 0,
           "lazy": false,
           "matrix": {
            "elements": [
             1,
             0,
             0,
             0,
             0,
             1,
             0,
             0,
             0,
             0,
             1,
             0,
             0,
             0,
             0,
             1
            ]
           },
           "metalness": 0,
           "opacity": 1,
           "quality": "medium",
           "radiusData": {},
           "radiusScale": 0.5,
           "radiusSize": 1,
           "radiusType": "covalent",
           "roughness": 0.4,
           "sele": "all",
           "side": "double",
           "sphereDetail": 1,
           "useInteriorColor": true,
           "visible": true,
           "wireframe": false
          },
          "type": "spacefill"
         },
         "2": {
          "params": {
           "aspectRatio": 2,
           "assembly": "default",
           "bondScale": 0.4,
           "bondSpacing": 1,
           "clipCenter": {
            "x": 0,
            "y": 0,
            "z": 0
           },
           "clipNear": 0,
           "clipRadius": 0,
           "colorMode": "hcl",
           "colorReverse": false,
           "colorScale": "",
           "colorScheme": "element",
           "colorValue": 9474192,
           "cylinderOnly": false,
           "defaultAssembly": "",
           "depthWrite": true,
           "diffuse": 16777215,
           "diffuseInterior": false,
           "disableImpostor": false,
           "disablePicking": false,
           "flatShaded": false,
           "interiorColor": 2236962,
           "interiorDarkening": 0,
           "lazy": false,
           "lineOnly": false,
           "linewidth": 2,
           "matrix": {
            "elements": [
             1,
             0,
             0,
             0,
             0,
             1,
             0,
             0,
             0,
             0,
             1,
             0,
             0,
             0,
             0,
             1
            ]
           },
           "metalness": 0,
           "multipleBond": "off",
           "opacity": 1,
           "openEnded": true,
           "quality": "medium",
           "radialSegments": 10,
           "radiusData": {},
           "radiusScale": 1,
           "radiusSize": 0.15,
           "radiusType": "size",
           "roughness": 0.4,
           "sele": "all",
           "side": "double",
           "sphereDetail": 1,
           "useInteriorColor": true,
           "visible": true,
           "wireframe": false
          },
          "type": "ball+stick"
         }
        }
       },
       "_ngl_serialize": false,
       "_ngl_version": "2.0.0-dev.36",
       "_ngl_view_id": [
        "917B9170-F1EB-4AAE-8BF9-80A8DACA3662"
       ],
       "_player_dict": {},
       "_scene_position": {},
       "_scene_rotation": {},
       "_synced_model_ids": [],
       "_synced_repr_model_ids": [],
       "_view_height": "",
       "_view_width": "",
       "background": "white",
       "frame": 0,
       "gui_style": null,
       "layout": "IPY_MODEL_d47d22fa86ce4d608accac4d9ea8b41f",
       "max_frame": 0,
       "n_components": 1,
       "picked": {}
      }
     },
     "50c4b19c3a274344a1c3ce2e4aa5fb5b": {
      "model_module": "@jupyter-widgets/base",
      "model_module_version": "1.2.0",
      "model_name": "LayoutModel",
      "state": {}
     },
     "50feed6ff2304ee79a48e00cb200e19d": {
      "model_module": "@jupyter-widgets/controls",
      "model_module_version": "1.5.0",
      "model_name": "ButtonModel",
      "state": {
       "description": "Download image",
       "layout": "IPY_MODEL_bb2b634dbc3c4063be0059f620111092",
       "style": "IPY_MODEL_1636c56e290d449483ae16dfc73d15ac",
       "tooltip": "Download current frame to your local PC"
      }
     },
     "5487a96bbe2748acb901993347894a27": {
      "model_module": "@jupyter-widgets/controls",
      "model_module_version": "1.5.0",
      "model_name": "VBoxModel",
      "state": {
       "children": [
        "IPY_MODEL_29928f2cc453473db1d2182568e3a3b4",
        "IPY_MODEL_366643813b9041e4a5f678e8ebf04f48",
        "IPY_MODEL_e715632ca5844954b25e9c3433bc2b5a",
        "IPY_MODEL_e40a08fabea341f49f33dc859b09700a",
        "IPY_MODEL_4761053dc7024ca0aa62cf297c5c8977",
        "IPY_MODEL_3648f4aa3a13479cb0096ff9ece235c8",
        "IPY_MODEL_214677463eb443f289aa85cfcd38fdf7",
        "IPY_MODEL_768fae23f34b454d8c531a36d7025823",
        "IPY_MODEL_7e2b479c8dfa4c1d8410b24168088e99",
        "IPY_MODEL_c24579ebf56a4d15b7b33687732d9ba0"
       ],
       "layout": "IPY_MODEL_b5c5ee4b84a946ffa12645272f1f169d"
      }
     },
     "5549f2dbea004f54a50b2ba74db51ee8": {
      "model_module": "@jupyter-widgets/controls",
      "model_module_version": "1.5.0",
      "model_name": "LinkModel",
      "state": {
       "source": [
        "IPY_MODEL_b380d1f22c914355a7b7ee6b3e3cad56",
        "max"
       ],
       "target": [
        "IPY_MODEL_af1f32a8dcc846ee895c9dfd949c76db",
        "max_frame"
       ]
      }
     },
     "554d5220c1ce45b6920a217d0ec283f1": {
      "model_module": "@jupyter-widgets/controls",
      "model_module_version": "1.5.0",
      "model_name": "IntSliderModel",
      "state": {
       "layout": "IPY_MODEL_bd8c756aa93148268dae254fdf53d820",
       "max": 0,
       "style": "IPY_MODEL_dc5c3b5bf22f43c4904fd4b246142139"
      }
     },
     "557f9cf901564c4c83127a06805074c7": {
      "model_module": "@jupyter-widgets/base",
      "model_module_version": "1.2.0",
      "model_name": "LayoutModel",
      "state": {}
     },
     "55eeacf3d58b4a42b39d0fe95c816eff": {
      "model_module": "nglview-js-widgets",
      "model_module_version": "3.0.1",
      "model_name": "ColormakerRegistryModel",
      "state": {
       "_msg_ar": [],
       "_msg_q": [],
       "_ready": true,
       "layout": "IPY_MODEL_41c33c226c304423a99050837ea1e866"
      }
     },
     "5724a5b84f1d41f5855d7ffaa82d9b19": {
      "model_module": "@jupyter-widgets/controls",
      "model_module_version": "1.5.0",
      "model_name": "IntSliderModel",
      "state": {
       "layout": "IPY_MODEL_587092d28de4440b925ac8de1d1a8618",
       "max": 0,
       "style": "IPY_MODEL_eafa7c6cea4e4a31a42a6dafbca61673"
      }
     },
     "587092d28de4440b925ac8de1d1a8618": {
      "model_module": "@jupyter-widgets/base",
      "model_module_version": "1.2.0",
      "model_name": "LayoutModel",
      "state": {}
     },
     "5919e027f486466192cad9a6d3e2d92b": {
      "model_module": "@jupyter-widgets/base",
      "model_module_version": "1.2.0",
      "model_name": "LayoutModel",
      "state": {}
     },
     "597de1b867714d2a9996211edc2aaed8": {
      "model_module": "@jupyter-widgets/base",
      "model_module_version": "1.2.0",
      "model_name": "LayoutModel",
      "state": {}
     },
     "5ad6e20545f24b6b888143f15846996d": {
      "model_module": "@jupyter-widgets/controls",
      "model_module_version": "1.5.0",
      "model_name": "HBoxModel",
      "state": {
       "children": [
        "IPY_MODEL_9660b2e82c1c49c2a314e0e06ab0ef41",
        "IPY_MODEL_4d63a2e0f6bc4d72985dfef9465213fc"
       ],
       "layout": "IPY_MODEL_c379f2b87358463698346c479c06fba8"
      }
     },
     "5ae097aa2cfc49ed9e137f12b54d98ed": {
      "model_module": "@jupyter-widgets/base",
      "model_module_version": "1.2.0",
      "model_name": "LayoutModel",
      "state": {}
     },
     "5baf3e54a33b4f3e8cc5adb0b11a3768": {
      "model_module": "@jupyter-widgets/base",
      "model_module_version": "1.2.0",
      "model_name": "LayoutModel",
      "state": {}
     },
     "5bd45de5eb1641e6aaa8cca32920e89d": {
      "model_module": "@jupyter-widgets/controls",
      "model_module_version": "1.5.0",
      "model_name": "DescriptionStyleModel",
      "state": {
       "description_width": ""
      }
     },
     "5cbb5438f83e493d97731d0f34a4125e": {
      "model_module": "@jupyter-widgets/controls",
      "model_module_version": "1.5.0",
      "model_name": "ButtonStyleModel",
      "state": {}
     },
     "5f1a1385caaf4fbc879a696b38c9a32c": {
      "model_module": "@jupyter-widgets/base",
      "model_module_version": "1.2.0",
      "model_name": "LayoutModel",
      "state": {}
     },
     "60dea2a6f09440c38fae159ce26a81c7": {
      "model_module": "@jupyter-widgets/base",
      "model_module_version": "1.2.0",
      "model_name": "LayoutModel",
      "state": {
       "width": "34px"
      }
     },
     "6355ea2b24e8467a9a011c9cd3d51447": {
      "model_module": "@jupyter-widgets/controls",
      "model_module_version": "1.5.0",
      "model_name": "PlayModel",
      "state": {
       "layout": "IPY_MODEL_44ad15b9c1e74de3b2658a20656a4d7b",
       "max": 0,
       "style": "IPY_MODEL_19e0072f1dda45a7a609a9ceb40f9e0b"
      }
     },
     "6425c3309375495a9bece9640a881d2e": {
      "model_module": "@jupyter-widgets/controls",
      "model_module_version": "1.5.0",
      "model_name": "CheckboxModel",
      "state": {
       "description": "Show charge",
       "disabled": false,
       "layout": "IPY_MODEL_4d95230420c94f7a9f1dfd9603062d56",
       "style": "IPY_MODEL_9c7efe9ae7174eef8de655f0e25f39e0",
       "value": false
      }
     },
     "648e04687a6c4398a7deab8d107865bc": {
      "model_module": "@jupyter-widgets/controls",
      "model_module_version": "1.5.0",
      "model_name": "FloatSliderModel",
      "state": {
       "description": "Charge scale",
       "layout": "IPY_MODEL_1aaa3add9de34a9dbc79ad1531911c14",
       "step": 0.1,
       "style": "IPY_MODEL_825e6524996a4f02932bad63349a4d67",
       "value": 1
      }
     },
     "64ae5fa2b87a4a2384e1896291156706": {
      "model_module": "@jupyter-widgets/controls",
      "model_module_version": "1.5.0",
      "model_name": "DescriptionStyleModel",
      "state": {
       "description_width": ""
      }
     },
     "65e7047ebd5a419080a9c3bf809c4567": {
      "model_module": "@jupyter-widgets/controls",
      "model_module_version": "1.5.0",
      "model_name": "LinkModel",
      "state": {
       "source": [
        "IPY_MODEL_f631bf32df7d4a05abd0a1d606ad7ede",
        "value"
       ],
       "target": [
        "IPY_MODEL_50b087ebe8ce474fb186634060951cc7",
        "frame"
       ]
      }
     },
     "66c15e7cd8834cff9e336c415828f16a": {
      "model_module": "@jupyter-widgets/controls",
      "model_module_version": "1.5.0",
      "model_name": "FloatSliderModel",
      "state": {
       "description": "Force scale",
       "layout": "IPY_MODEL_11a6fc2c6a624a15b3be8f4a6ac78a70",
       "step": 0.1,
       "style": "IPY_MODEL_179d5ef4121143b5a3cd59ea95274df4",
       "value": 0.5
      }
     },
     "67133b12aaa54f78a2a741e03cc1ae3f": {
      "model_module": "@jupyter-widgets/base",
      "model_module_version": "1.2.0",
      "model_name": "LayoutModel",
      "state": {}
     },
     "6a1e3e7fcb7c4776922ed5e6be17aeb7": {
      "model_module": "@jupyter-widgets/controls",
      "model_module_version": "1.5.0",
      "model_name": "DescriptionStyleModel",
      "state": {
       "description_width": ""
      }
     },
     "6ad6d1334118449caa12a627b932951c": {
      "model_module": "@jupyter-widgets/controls",
      "model_module_version": "1.5.0",
      "model_name": "ButtonModel",
      "state": {
       "icon": "compress",
       "layout": "IPY_MODEL_1a7afff9472f45d6ba565e03c2335238",
       "style": "IPY_MODEL_db22b667cc394f7ca5f0882d37c629d7"
      }
     },
     "6de9d19dff0a479595a637ae602aca8b": {
      "model_module": "@jupyter-widgets/controls",
      "model_module_version": "1.5.0",
      "model_name": "SliderStyleModel",
      "state": {
       "description_width": ""
      }
     },
     "6e4339cf42024582a69d16a0c9a0671d": {
      "model_module": "@jupyter-widgets/controls",
      "model_module_version": "1.5.0",
      "model_name": "LinkModel",
      "state": {
       "source": [
        "IPY_MODEL_ce5f91eb8a43407ab8b48b0dd5a97f20",
        "max"
       ],
       "target": [
        "IPY_MODEL_af1f32a8dcc846ee895c9dfd949c76db",
        "max_frame"
       ]
      }
     },
     "73024f55624d46b8b61024c269cb7902": {
      "model_module": "@jupyter-widgets/controls",
      "model_module_version": "1.5.0",
      "model_name": "ImageModel",
      "state": {
       "layout": "IPY_MODEL_2a9601cc3e8e47f6b21c223514e04cb9",
       "width": "900.0"
      }
     },
     "7486b1bbeeb04eefa963b56cd83aee10": {
      "model_module": "@jupyter-widgets/base",
      "model_module_version": "1.2.0",
      "model_name": "LayoutModel",
      "state": {}
     },
     "74ff2c4f46cb4f72a9b7e59ea231259a": {
      "model_module": "@jupyter-widgets/controls",
      "model_module_version": "1.5.0",
      "model_name": "DescriptionStyleModel",
      "state": {
       "description_width": ""
      }
     },
     "750eb59776b84581a857567ad8f4b007": {
      "model_module": "@jupyter-widgets/controls",
      "model_module_version": "1.5.0",
      "model_name": "SliderStyleModel",
      "state": {
       "description_width": ""
      }
     },
     "768fae23f34b454d8c531a36d7025823": {
      "model_module": "@jupyter-widgets/controls",
      "model_module_version": "1.5.0",
      "model_name": "CheckboxModel",
      "state": {
       "description": "Show charge",
       "disabled": false,
       "layout": "IPY_MODEL_fe7cfc01f24f4670b45f8ae27b2a57c1",
       "style": "IPY_MODEL_3184b25e268f44608c0ec80ea1b3fcfc",
       "value": false
      }
     },
     "779d6f3e3fc04016a09de205d34db4c1": {
      "model_module": "@jupyter-widgets/base",
      "model_module_version": "1.2.0",
      "model_name": "LayoutModel",
      "state": {}
     },
     "78dbdc08461b45e288252fe80ff1c741": {
      "model_module": "@jupyter-widgets/controls",
      "model_module_version": "1.5.0",
      "model_name": "LinkModel",
      "state": {
       "source": [
        "IPY_MODEL_554d5220c1ce45b6920a217d0ec283f1",
        "max"
       ],
       "target": [
        "IPY_MODEL_01ba6d530c854098a25453abc4d47b5f",
        "max_frame"
       ]
      }
     },
     "79099c8cf28b4c239c1df2fb3046a285": {
      "model_module": "@jupyter-widgets/base",
      "model_module_version": "1.2.0",
      "model_name": "LayoutModel",
      "state": {}
     },
     "79f3a1db53594216a24103888e2ba26a": {
      "model_module": "@jupyter-widgets/controls",
      "model_module_version": "1.5.0",
      "model_name": "DescriptionStyleModel",
      "state": {
       "description_width": ""
      }
     },
     "7abd79210ae7411ab7529149fa8ab291": {
      "model_module": "@jupyter-widgets/base",
      "model_module_version": "1.2.0",
      "model_name": "LayoutModel",
      "state": {}
     },
     "7af9770a06be48b9a0b173217a39de6b": {
      "model_module": "@jupyter-widgets/base",
      "model_module_version": "1.2.0",
      "model_name": "LayoutModel",
      "state": {}
     },
     "7bdddd5d48844bcc9efba3bf59136f4d": {
      "model_module": "@jupyter-widgets/controls",
      "model_module_version": "1.5.0",
      "model_name": "HBoxModel",
      "state": {
       "children": [
        "IPY_MODEL_50feed6ff2304ee79a48e00cb200e19d",
        "IPY_MODEL_f7e8c12c47f7438f8eb9928623653435"
       ],
       "layout": "IPY_MODEL_e719d9917ac84661be7625d19598a7bb"
      }
     },
     "7deecd45d57c4af28ff6e45ed02f1c6f": {
      "model_module": "@jupyter-widgets/controls",
      "model_module_version": "1.5.0",
      "model_name": "DescriptionStyleModel",
      "state": {
       "description_width": ""
      }
     },
     "7e2b479c8dfa4c1d8410b24168088e99": {
      "model_module": "@jupyter-widgets/controls",
      "model_module_version": "1.5.0",
      "model_name": "FloatSliderModel",
      "state": {
       "description": "Charge scale",
       "layout": "IPY_MODEL_18634d23ad82469e85977dc3711e895c",
       "step": 0.1,
       "style": "IPY_MODEL_20ff67abf9b5405c8feab04d28b461ea",
       "value": 1
      }
     },
     "7e7c7d6421ef4f7e8df5db5925443b64": {
      "model_module": "@jupyter-widgets/controls",
      "model_module_version": "1.5.0",
      "model_name": "HBoxModel",
      "state": {
       "children": [
        "IPY_MODEL_0192fe37d3764165a1cb47ca85d87402",
        "IPY_MODEL_5724a5b84f1d41f5855d7ffaa82d9b19"
       ],
       "layout": "IPY_MODEL_a57054635425414b8dc2ef77af61e9d8"
      }
     },
     "7ee94c35f11b419d82c22159380f0ecd": {
      "model_module": "@jupyter-widgets/base",
      "model_module_version": "1.2.0",
      "model_name": "LayoutModel",
      "state": {}
     },
     "7f74cbd34a444260b54496e888559b89": {
      "model_module": "@jupyter-widgets/controls",
      "model_module_version": "1.5.0",
      "model_name": "CheckboxModel",
      "state": {
       "description": "Show force",
       "disabled": false,
       "layout": "IPY_MODEL_de1fa072410040299eec4847991734e1",
       "style": "IPY_MODEL_9c4b333777e9453188c8fd7b6dcb9d3c",
       "value": false
      }
     },
     "7fb40b98562d4a81a33a66c239c8cee4": {
      "model_module": "@jupyter-widgets/controls",
      "model_module_version": "1.5.0",
      "model_name": "SliderStyleModel",
      "state": {
       "description_width": ""
      }
     },
     "81313185512c403c8bf29bdf464f2d23": {
      "model_module": "@jupyter-widgets/base",
      "model_module_version": "1.2.0",
      "model_name": "LayoutModel",
      "state": {}
     },
     "825e6524996a4f02932bad63349a4d67": {
      "model_module": "@jupyter-widgets/controls",
      "model_module_version": "1.5.0",
      "model_name": "SliderStyleModel",
      "state": {
       "description_width": ""
      }
     },
     "82f4234b03994fdfb1bd235cfbbda6f0": {
      "model_module": "@jupyter-widgets/base",
      "model_module_version": "1.2.0",
      "model_name": "LayoutModel",
      "state": {}
     },
     "83092602c60f4539ab657255ae0205f8": {
      "model_module": "@jupyter-widgets/controls",
      "model_module_version": "1.5.0",
      "model_name": "ImageModel",
      "state": {
       "layout": "IPY_MODEL_44a64016281644a6b63dcec7f783d5e3",
       "width": "900.0"
      }
     },
     "833e618c46f946b3a145266c742a1ef8": {
      "model_module": "@jupyter-widgets/base",
      "model_module_version": "1.2.0",
      "model_name": "LayoutModel",
      "state": {}
     },
     "83957815b9804ebeb20d9df9540357d7": {
      "model_module": "@jupyter-widgets/controls",
      "model_module_version": "1.5.0",
      "model_name": "SliderStyleModel",
      "state": {
       "description_width": ""
      }
     },
     "83b5d29811794c2eb8735f295f997b1c": {
      "model_module": "@jupyter-widgets/base",
      "model_module_version": "1.2.0",
      "model_name": "LayoutModel",
      "state": {}
     },
     "83c12f6cc2024d54a5f1109a4b5137cd": {
      "model_module": "@jupyter-widgets/base",
      "model_module_version": "1.2.0",
      "model_name": "LayoutModel",
      "state": {}
     },
     "84034b5a716d43dca15a0208edc65fa9": {
      "model_module": "@jupyter-widgets/controls",
      "model_module_version": "1.5.0",
      "model_name": "SliderStyleModel",
      "state": {
       "description_width": ""
      }
     },
     "86bc46515cbc42cc918ca58010300e94": {
      "model_module": "@jupyter-widgets/controls",
      "model_module_version": "1.5.0",
      "model_name": "LinkModel",
      "state": {
       "source": [
        "IPY_MODEL_6355ea2b24e8467a9a011c9cd3d51447",
        "max"
       ],
       "target": [
        "IPY_MODEL_9660b2e82c1c49c2a314e0e06ab0ef41",
        "max_frame"
       ]
      }
     },
     "87d58db2872b49468766065d00d1c746": {
      "model_module": "@jupyter-widgets/controls",
      "model_module_version": "1.5.0",
      "model_name": "DescriptionStyleModel",
      "state": {
       "description_width": ""
      }
     },
     "883dd1eb93e24fa0a0a942e81601f58f": {
      "model_module": "@jupyter-widgets/controls",
      "model_module_version": "1.5.0",
      "model_name": "HBoxModel",
      "state": {
       "children": [
        "IPY_MODEL_d65ae1dc6d3948a182b28af05d2bf1fc",
        "IPY_MODEL_a59bb179717244f9aeddc9b68f97502b"
       ],
       "layout": "IPY_MODEL_f36d8da5906b4151bbdd50e0be884242"
      }
     },
     "897303e2fedb491ab5f8d1fbdff585ec": {
      "model_module": "@jupyter-widgets/controls",
      "model_module_version": "1.5.0",
      "model_name": "SliderStyleModel",
      "state": {
       "description_width": ""
      }
     },
     "8be06b50bd78414eadc70845e4244c11": {
      "model_module": "@jupyter-widgets/controls",
      "model_module_version": "1.5.0",
      "model_name": "FloatSliderModel",
      "state": {
       "description": "Ball size",
       "layout": "IPY_MODEL_2b15d60d16a042cdabdf38454d28e37c",
       "max": 1.5,
       "step": 0.01,
       "style": "IPY_MODEL_bc74a73785c948dd8cc53a519d1bb45c",
       "value": 0.5
      }
     },
     "8c4e0ce943214bb58d5416352726cb55": {
      "model_module": "@jupyter-widgets/base",
      "model_module_version": "1.2.0",
      "model_name": "LayoutModel",
      "state": {}
     },
     "8d3bce7fd6dd4a1a9f8cef564853f8b7": {
      "model_module": "@jupyter-widgets/controls",
      "model_module_version": "1.5.0",
      "model_name": "ButtonStyleModel",
      "state": {}
     },
     "8d56f7d3801d44b8aa2c8781e4a09f16": {
      "model_module": "@jupyter-widgets/controls",
      "model_module_version": "1.5.0",
      "model_name": "SliderStyleModel",
      "state": {
       "description_width": ""
      }
     },
     "8dabee9f591c4688891fe02a06b89520": {
      "model_module": "@jupyter-widgets/controls",
      "model_module_version": "1.5.0",
      "model_name": "IntSliderModel",
      "state": {
       "layout": "IPY_MODEL_f3a9a3341e5d46f9a8569cad75a6a8dd",
       "max": 0,
       "style": "IPY_MODEL_0f9546d4cf3d45b4b9d8836eb29ea664"
      }
     },
     "8e0600b0ffae4626b6ea8d4bf6bb442b": {
      "model_module": "@jupyter-widgets/controls",
      "model_module_version": "1.5.0",
      "model_name": "ButtonModel",
      "state": {
       "description": "Save image",
       "layout": "IPY_MODEL_3ff4a9a801514527bb817f49ec301fd0",
       "style": "IPY_MODEL_5cbb5438f83e493d97731d0f34a4125e",
       "tooltip": "Save current frame to file.\nCurrently .png and .html are supported.\nIt takes a bit time, please be patient."
      }
     },
     "8e61d4de2c9f489397254cec6648292e": {
      "model_module": "@jupyter-widgets/base",
      "model_module_version": "1.2.0",
      "model_name": "LayoutModel",
      "state": {
       "width": "34px"
      }
     },
     "8f2e4acd1d0c47caba772c8031ebabd1": {
      "model_module": "@jupyter-widgets/controls",
      "model_module_version": "1.5.0",
      "model_name": "LinkModel",
      "state": {
       "source": [
        "IPY_MODEL_4a3c4f2707554968af9587f8768a66c4",
        "max"
       ],
       "target": [
        "IPY_MODEL_01ba6d530c854098a25453abc4d47b5f",
        "max_frame"
       ]
      }
     },
     "8fa8878e1a6f4d81916ed67801d4764d": {
      "model_module": "@jupyter-widgets/controls",
      "model_module_version": "1.5.0",
      "model_name": "LinkModel",
      "state": {
       "source": [
        "IPY_MODEL_4a3c4f2707554968af9587f8768a66c4",
        "value"
       ],
       "target": [
        "IPY_MODEL_554d5220c1ce45b6920a217d0ec283f1",
        "value"
       ]
      }
     },
     "90a3aebeb5c44c5d93e4f3b269cec929": {
      "model_module": "@jupyter-widgets/controls",
      "model_module_version": "1.5.0",
      "model_name": "ButtonStyleModel",
      "state": {}
     },
     "91352a17122843148c83d4c9c5c50180": {
      "model_module": "@jupyter-widgets/base",
      "model_module_version": "1.2.0",
      "model_name": "LayoutModel",
      "state": {}
     },
     "91e0a130d3304e7fadbe36b1ebf289bf": {
      "model_module": "@jupyter-widgets/base",
      "model_module_version": "1.2.0",
      "model_name": "LayoutModel",
      "state": {}
     },
     "94c87357f3c041a598ffea5ba0493d29": {
      "model_module": "@jupyter-widgets/controls",
      "model_module_version": "1.5.0",
      "model_name": "HBoxModel",
      "state": {
       "children": [
        "IPY_MODEL_1645bbc6ec9543d796c5b3abb418e098",
        "IPY_MODEL_5487a96bbe2748acb901993347894a27"
       ],
       "layout": "IPY_MODEL_bf4a99e162e44744a1353f47a0861bf8"
      }
     },
     "95a322e386764d61b7879a2c69afcc71": {
      "model_module": "@jupyter-widgets/base",
      "model_module_version": "1.2.0",
      "model_name": "LayoutModel",
      "state": {}
     },
     "9660b2e82c1c49c2a314e0e06ab0ef41": {
      "model_module": "nglview-js-widgets",
      "model_module_version": "3.0.1",
      "model_name": "NGLModel",
      "state": {
       "_camera_orientation": [
        60.30486795909655,
        0,
        0,
        0,
        0,
        60.30486795909655,
        0,
        0,
        0,
        0,
        60.30486795909655,
        0,
        -18.238000869750977,
        -12.746500015258789,
        -11.364500045776367,
        1
       ],
       "_camera_str": "orthographic",
       "_gui_theme": null,
       "_ibtn_fullscreen": "IPY_MODEL_18546a0c54e64c28bac195316b2c866d",
       "_igui": null,
       "_iplayer": "IPY_MODEL_a5cdfadf1f0b4d329ee244f29d531b90",
       "_ngl_color_dict": {},
       "_ngl_coordinate_resource": {},
       "_ngl_full_stage_parameters": {
        "ambientColor": 14540253,
        "ambientIntensity": 0.2,
        "backgroundColor": "white",
        "cameraEyeSep": 0.3,
        "cameraFov": 40,
        "cameraType": "orthographic",
        "clipDist": 0,
        "clipFar": 100,
        "clipNear": 0,
        "fogFar": 100,
        "fogNear": 50,
        "hoverTimeout": 0,
        "impostor": true,
        "lightColor": 14540253,
        "lightIntensity": 1,
        "mousePreset": "default",
        "panSpeed": 1,
        "quality": "medium",
        "rotateSpeed": 2,
        "sampleLevel": 0,
        "tooltip": true,
        "workerDefault": true,
        "zoomSpeed": 1.2
       },
       "_ngl_msg_archive": [
        {
         "args": [
          {
           "binary": false,
           "data": "CRYST1   15.358   23.038   30.717  60.00  60.00  60.00 P 1\nMODEL     1\nATOM      1   Si MOL     1       0.000   0.000   0.000  1.00  0.00          SI  \nATOM      2   Si MOL     1       1.920   1.108   0.784  1.00  0.00          SI  \nATOM      3   Si MOL     1       1.920   1.108   3.135  1.00  0.00          SI  \nATOM      4   Si MOL     1       3.840   2.217   3.919  1.00  0.00          SI  \nATOM      5   Si MOL     1       3.840   2.217   6.270  1.00  0.00          SI  \nATOM      6   Si MOL     1       5.759   3.325   7.054  1.00  0.00          SI  \nATOM      7   Si MOL     1       5.759   3.325   9.405  1.00  0.00          SI  \nATOM      8   Si MOL     1       7.679   4.434  10.189  1.00  0.00          SI  \nATOM      9   Si MOL     1       1.920   3.325  -0.000  1.00  0.00          SI  \nATOM     10   Si MOL     1       3.840   4.434   0.784  1.00  0.00          SI  \nATOM     11   Si MOL     1       3.840   4.434   3.135  1.00  0.00          SI  \nATOM     12   Si MOL     1       5.759   5.542   3.919  1.00  0.00          SI  \nATOM     13   Si MOL     1       5.759   5.542   6.270  1.00  0.00          SI  \nATOM     14   Si MOL     1       7.679   6.650   7.054  1.00  0.00          SI  \nATOM     15   Si MOL     1       7.679   6.650   9.405  1.00  0.00          SI  \nATOM     16   Si MOL     1       9.599   7.759  10.189  1.00  0.00          SI  \nATOM     17   Si MOL     1       3.840   6.650  -0.000  1.00  0.00          SI  \nATOM     18   Si MOL     1       5.759   7.759   0.784  1.00  0.00          SI  \nATOM     19   Si MOL     1       5.759   7.759   3.135  1.00  0.00          SI  \nATOM     20   Si MOL     1       7.679   8.867   3.919  1.00  0.00          SI  \nATOM     21   Si MOL     1       7.679   8.867   6.270  1.00  0.00          SI  \nATOM     22   Si MOL     1       9.599   9.976   7.054  1.00  0.00          SI  \nATOM     23   Si MOL     1       9.599   9.976   9.405  1.00  0.00          SI  \nATOM     24   Si MOL     1      11.519  11.084  10.189  1.00  0.00          SI  \nATOM     25   Si MOL     1       3.840   0.000   0.000  1.00  0.00          SI  \nATOM     26   Si MOL     1       5.759   1.108   0.784  1.00  0.00          SI  \nATOM     27   Si MOL     1       5.759   1.108   3.135  1.00  0.00          SI  \nATOM     28   Si MOL     1       7.679   2.217   3.919  1.00  0.00          SI  \nATOM     29   Si MOL     1       7.679   2.217   6.270  1.00  0.00          SI  \nATOM     30   Si MOL     1       9.599   3.325   7.054  1.00  0.00          SI  \nATOM     31   Si MOL     1       9.599   3.325   9.405  1.00  0.00          SI  \nATOM     32   Si MOL     1      11.519   4.434  10.189  1.00  0.00          SI  \nATOM     33   Si MOL     1       5.759   3.325   0.000  1.00  0.00          SI  \nATOM     34   Si MOL     1       7.679   4.434   0.784  1.00  0.00          SI  \nATOM     35   Si MOL     1       7.679   4.434   3.135  1.00  0.00          SI  \nATOM     36   Si MOL     1       9.599   5.542   3.919  1.00  0.00          SI  \nATOM     37   Si MOL     1       9.599   5.542   6.270  1.00  0.00          SI  \nATOM     38   Si MOL     1      11.519   6.650   7.054  1.00  0.00          SI  \nATOM     39   Si MOL     1      11.519   6.650   9.405  1.00  0.00          SI  \nATOM     40   Si MOL     1      13.439   7.759  10.189  1.00  0.00          SI  \nATOM     41   Si MOL     1       7.679   6.650  -0.000  1.00  0.00          SI  \nATOM     42   Si MOL     1       9.599   7.759   0.784  1.00  0.00          SI  \nATOM     43   Si MOL     1       9.599   7.759   3.135  1.00  0.00          SI  \nATOM     44   Si MOL     1      11.519   8.867   3.919  1.00  0.00          SI  \nATOM     45   Si MOL     1      11.519   8.867   6.270  1.00  0.00          SI  \nATOM     46   Si MOL     1      13.439   9.976   7.054  1.00  0.00          SI  \nATOM     47   Si MOL     1      13.439   9.976   9.405  1.00  0.00          SI  \nATOM     48   Si MOL     1      15.358  11.084  10.189  1.00  0.00          SI  \nATOM     49   Si MOL     1       7.679   4.434  12.540  1.00  0.00          SI  \nATOM     50   Si MOL     1       9.599   5.542  13.324  1.00  0.00          SI  \nATOM     51   Si MOL     1       9.599   5.542  15.675  1.00  0.00          SI  \nATOM     52   Si MOL     1      11.519   6.650  16.459  1.00  0.00          SI  \nATOM     53   Si MOL     1      11.519   6.650  18.810  1.00  0.00          SI  \nATOM     54   Si MOL     1      13.439   7.759  19.594  1.00  0.00          SI  \nATOM     55   Si MOL     1      13.439   7.759  21.945  1.00  0.00          SI  \nATOM     56   Si MOL     1      15.358   8.867  22.729  1.00  0.00          SI  \nATOM     57   Si MOL     1       9.599   7.759  12.540  1.00  0.00          SI  \nATOM     58   Si MOL     1      11.519   8.867  13.324  1.00  0.00          SI  \nATOM     59   Si MOL     1      11.519   8.867  15.675  1.00  0.00          SI  \nATOM     60   Si MOL     1      13.439   9.976  16.459  1.00  0.00          SI  \nATOM     61   Si MOL     1      13.439   9.976  18.810  1.00  0.00          SI  \nATOM     62   Si MOL     1      15.358  11.084  19.594  1.00  0.00          SI  \nATOM     63   Si MOL     1      15.358  11.084  21.945  1.00  0.00          SI  \nATOM     64   Si MOL     1      17.278  12.192  22.729  1.00  0.00          SI  \nATOM     65   Si MOL     1      11.519  11.084  12.540  1.00  0.00          SI  \nATOM     66   Si MOL     1      13.439  12.192  13.324  1.00  0.00          SI  \nATOM     67   Si MOL     1      13.439  12.192  15.675  1.00  0.00          SI  \nATOM     68   Si MOL     1      15.358  13.301  16.459  1.00  0.00          SI  \nATOM     69   Si MOL     1      15.358  13.301  18.810  1.00  0.00          SI  \nATOM     70   Si MOL     1      17.278  14.409  19.594  1.00  0.00          SI  \nATOM     71   Si MOL     1      17.278  14.409  21.945  1.00  0.00          SI  \nATOM     72   Si MOL     1      19.198  15.518  22.729  1.00  0.00          SI  \nATOM     73   Si MOL     1      11.519   4.434  12.540  1.00  0.00          SI  \nATOM     74   Si MOL     1      13.439   5.542  13.324  1.00  0.00          SI  \nATOM     75   Si MOL     1      13.439   5.542  15.675  1.00  0.00          SI  \nATOM     76   Si MOL     1      15.358   6.650  16.459  1.00  0.00          SI  \nATOM     77   Si MOL     1      15.358   6.650  18.810  1.00  0.00          SI  \nATOM     78   Si MOL     1      17.278   7.759  19.594  1.00  0.00          SI  \nATOM     79   Si MOL     1      17.278   7.759  21.945  1.00  0.00          SI  \nATOM     80   Si MOL     1      19.198   8.867  22.729  1.00  0.00          SI  \nATOM     81   Si MOL     1      13.439   7.759  12.540  1.00  0.00          SI  \nATOM     82   Si MOL     1      15.358   8.867  13.324  1.00  0.00          SI  \nATOM     83   Si MOL     1      15.358   8.867  15.675  1.00  0.00          SI  \nATOM     84   Si MOL     1      17.278   9.976  16.459  1.00  0.00          SI  \nATOM     85   Si MOL     1      17.278   9.976  18.810  1.00  0.00          SI  \nATOM     86   Si MOL     1      19.198  11.084  19.594  1.00  0.00          SI  \nATOM     87   Si MOL     1      19.198  11.084  21.945  1.00  0.00          SI  \nATOM     88   Si MOL     1      21.118  12.192  22.729  1.00  0.00          SI  \nATOM     89   Si MOL     1      15.358  11.084  12.540  1.00  0.00          SI  \nATOM     90   Si MOL     1      17.278  12.192  13.324  1.00  0.00          SI  \nATOM     91   Si MOL     1      17.278  12.192  15.675  1.00  0.00          SI  \nATOM     92   Si MOL     1      19.198  13.301  16.459  1.00  0.00          SI  \nATOM     93   Si MOL     1      19.198  13.301  18.810  1.00  0.00          SI  \nATOM     94   Si MOL     1      21.118  14.409  19.594  1.00  0.00          SI  \nATOM     95   Si MOL     1      21.118  14.409  21.945  1.00  0.00          SI  \nATOM     96   Si MOL     1      23.038  15.518  22.729  1.00  0.00          SI  \nATOM     97   Si MOL     1       5.759   9.976  -0.000  1.00  0.00          SI  \nATOM     98   Si MOL     1       7.679  11.084   0.784  1.00  0.00          SI  \nATOM     99   Si MOL     1       7.679  11.084   3.135  1.00  0.00          SI  \nATOM    100   Si MOL     1       9.599  12.192   3.919  1.00  0.00          SI  \nATOM    101   Si MOL     1       9.599  12.192   6.270  1.00  0.00          SI  \nATOM    102   Si MOL     1      11.519  13.301   7.054  1.00  0.00          SI  \nATOM    103   Si MOL     1      11.519  13.301   9.405  1.00  0.00          SI  \nATOM    104   Si MOL     1      13.439  14.409  10.189  1.00  0.00          SI  \nATOM    105   Si MOL     1       7.679  13.301  -0.000  1.00  0.00          SI  \nATOM    106   Si MOL     1       9.599  14.409   0.784  1.00  0.00          SI  \nATOM    107   Si MOL     1       9.599  14.409   3.135  1.00  0.00          SI  \nATOM    108   Si MOL     1      11.519  15.518   3.919  1.00  0.00          SI  \nATOM    109   Si MOL     1      11.519  15.518   6.270  1.00  0.00          SI  \nATOM    110   Si MOL     1      13.439  16.626   7.054  1.00  0.00          SI  \nATOM    111   Si MOL     1      13.439  16.626   9.405  1.00  0.00          SI  \nATOM    112   Si MOL     1      15.358  17.734  10.189  1.00  0.00          SI  \nATOM    113   Si MOL     1       9.599  16.626  -0.000  1.00  0.00          SI  \nATOM    114   Si MOL     1      11.519  17.734   0.784  1.00  0.00          SI  \nATOM    115   Si MOL     1      11.519  17.734   3.135  1.00  0.00          SI  \nATOM    116   Si MOL     1      13.439  18.843   3.919  1.00  0.00          SI  \nATOM    117   Si MOL     1      13.439  18.843   6.270  1.00  0.00          SI  \nATOM    118   Si MOL     1      15.358  19.951   7.054  1.00  0.00          SI  \nATOM    119   Si MOL     1      15.358  19.951   9.405  1.00  0.00          SI  \nATOM    120   Si MOL     1      17.278  21.059  10.189  1.00  0.00          SI  \nATOM    121   Si MOL     1       9.599   9.976  -0.000  1.00  0.00          SI  \nATOM    122   Si MOL     1      11.519  11.084   0.784  1.00  0.00          SI  \nATOM    123   Si MOL     1      11.519  11.084   3.135  1.00  0.00          SI  \nATOM    124   Si MOL     1      13.439  12.192   3.919  1.00  0.00          SI  \nATOM    125   Si MOL     1      13.439  12.192   6.270  1.00  0.00          SI  \nATOM    126   Si MOL     1      15.358  13.301   7.054  1.00  0.00          SI  \nATOM    127   Si MOL     1      15.358  13.301   9.405  1.00  0.00          SI  \nATOM    128   Si MOL     1      17.278  14.409  10.189  1.00  0.00          SI  \nATOM    129   Si MOL     1      11.519  13.301  -0.000  1.00  0.00          SI  \nATOM    130   Si MOL     1      13.439  14.409   0.784  1.00  0.00          SI  \nATOM    131   Si MOL     1      13.439  14.409   3.135  1.00  0.00          SI  \nATOM    132   Si MOL     1      15.358  15.518   3.919  1.00  0.00          SI  \nATOM    133   Si MOL     1      15.358  15.518   6.270  1.00  0.00          SI  \nATOM    134   Si MOL     1      17.278  16.626   7.054  1.00  0.00          SI  \nATOM    135   Si MOL     1      17.278  16.626   9.405  1.00  0.00          SI  \nATOM    136   Si MOL     1      19.198  17.734  10.189  1.00  0.00          SI  \nATOM    137   Si MOL     1      13.439  16.626  -0.000  1.00  0.00          SI  \nATOM    138   Si MOL     1      15.358  17.734   0.784  1.00  0.00          SI  \nATOM    139   Si MOL     1      15.358  17.734   3.135  1.00  0.00          SI  \nATOM    140   Si MOL     1      17.278  18.843   3.919  1.00  0.00          SI  \nATOM    141   Si MOL     1      17.278  18.843   6.270  1.00  0.00          SI  \nATOM    142   Si MOL     1      19.198  19.951   7.054  1.00  0.00          SI  \nATOM    143   Si MOL     1      19.198  19.951   9.405  1.00  0.00          SI  \nATOM    144   Si MOL     1      21.118  21.059  10.189  1.00  0.00          SI  \nATOM    145   Si MOL     1      13.439  14.409  12.540  1.00  0.00          SI  \nATOM    146   Si MOL     1      15.358  15.518  13.324  1.00  0.00          SI  \nATOM    147   Si MOL     1      15.358  15.518  15.675  1.00  0.00          SI  \nATOM    148   Si MOL     1      17.278  16.626  16.459  1.00  0.00          SI  \nATOM    149   Si MOL     1      17.278  16.626  18.810  1.00  0.00          SI  \nATOM    150   Si MOL     1      19.198  17.734  19.594  1.00  0.00          SI  \nATOM    151   Si MOL     1      19.198  17.734  21.945  1.00  0.00          SI  \nATOM    152   Si MOL     1      21.118  18.843  22.729  1.00  0.00          SI  \nATOM    153   Si MOL     1      15.358  17.734  12.540  1.00  0.00          SI  \nATOM    154   Si MOL     1      17.278  18.843  13.324  1.00  0.00          SI  \nATOM    155   Si MOL     1      17.278  18.843  15.675  1.00  0.00          SI  \nATOM    156   Si MOL     1      19.198  19.951  16.459  1.00  0.00          SI  \nATOM    157   Si MOL     1      19.198  19.951  18.810  1.00  0.00          SI  \nATOM    158   Si MOL     1      21.118  21.059  19.594  1.00  0.00          SI  \nATOM    159   Si MOL     1      21.118  21.059  21.945  1.00  0.00          SI  \nATOM    160   Si MOL     1      23.038  22.168  22.729  1.00  0.00          SI  \nATOM    161   Si MOL     1      17.278  21.059  12.540  1.00  0.00          SI  \nATOM    162   Si MOL     1      19.198  22.168  13.324  1.00  0.00          SI  \nATOM    163   Si MOL     1      19.198  22.168  15.675  1.00  0.00          SI  \nATOM    164   Si MOL     1      21.118  23.276  16.459  1.00  0.00          SI  \nATOM    165   Si MOL     1      21.118  23.276  18.810  1.00  0.00          SI  \nATOM    166   Si MOL     1      23.038  24.385  19.594  1.00  0.00          SI  \nATOM    167   Si MOL     1      23.038  24.385  21.945  1.00  0.00          SI  \nATOM    168   Si MOL     1      24.957  25.493  22.729  1.00  0.00          SI  \nATOM    169   Si MOL     1      17.278  14.409  12.540  1.00  0.00          SI  \nATOM    170   Si MOL     1      19.198  15.518  13.324  1.00  0.00          SI  \nATOM    171   Si MOL     1      19.198  15.518  15.675  1.00  0.00          SI  \nATOM    172   Si MOL     1      21.118  16.626  16.459  1.00  0.00          SI  \nATOM    173   Si MOL     1      21.118  16.626  18.810  1.00  0.00          SI  \nATOM    174   Si MOL     1      23.038  17.734  19.594  1.00  0.00          SI  \nATOM    175   Si MOL     1      23.038  17.734  21.945  1.00  0.00          SI  \nATOM    176   Si MOL     1      24.957  18.843  22.729  1.00  0.00          SI  \nATOM    177   Si MOL     1      19.198  17.734  12.540  1.00  0.00          SI  \nATOM    178   Si MOL     1      21.118  18.843  13.324  1.00  0.00          SI  \nATOM    179   Si MOL     1      21.118  18.843  15.675  1.00  0.00          SI  \nATOM    180   Si MOL     1      23.038  19.951  16.459  1.00  0.00          SI  \nATOM    181   Si MOL     1      23.038  19.951  18.810  1.00  0.00          SI  \nATOM    182   Si MOL     1      24.957  21.059  19.594  1.00  0.00          SI  \nATOM    183   Si MOL     1      24.957  21.059  21.945  1.00  0.00          SI  \nATOM    184   Si MOL     1      26.877  22.168  22.729  1.00  0.00          SI  \nATOM    185   Si MOL     1      21.118  21.059  12.540  1.00  0.00          SI  \nATOM    186   Si MOL     1      23.038  22.168  13.324  1.00  0.00          SI  \nATOM    187   Si MOL     1      23.038  22.168  15.675  1.00  0.00          SI  \nATOM    188   Si MOL     1      24.957  23.276  16.459  1.00  0.00          SI  \nATOM    189   Si MOL     1      24.957  23.276  18.810  1.00  0.00          SI  \nATOM    190   Si MOL     1      26.877  24.385  19.594  1.00  0.00          SI  \nATOM    191   Si MOL     1      26.877  24.385  21.945  1.00  0.00          SI  \nATOM    192   Si MOL     1      28.797  25.493  22.729  1.00  0.00          SI  \nATOM    193   Si MOL     1       7.679   0.000   0.000  1.00  0.00          SI  \nATOM    194   Si MOL     1       9.599   1.108   0.784  1.00  0.00          SI  \nATOM    195   Si MOL     1       9.599   1.108   3.135  1.00  0.00          SI  \nATOM    196   Si MOL     1      11.519   2.217   3.919  1.00  0.00          SI  \nATOM    197   Si MOL     1      11.519   2.217   6.270  1.00  0.00          SI  \nATOM    198   Si MOL     1      13.439   3.325   7.054  1.00  0.00          SI  \nATOM    199   Si MOL     1      13.439   3.325   9.405  1.00  0.00          SI  \nATOM    200   Si MOL     1      15.358   4.434  10.189  1.00  0.00          SI  \nATOM    201   Si MOL     1       9.599   3.325   0.000  1.00  0.00          SI  \nATOM    202   Si MOL     1      11.519   4.434   0.784  1.00  0.00          SI  \nATOM    203   Si MOL     1      11.519   4.434   3.135  1.00  0.00          SI  \nATOM    204   Si MOL     1      13.439   5.542   3.919  1.00  0.00          SI  \nATOM    205   Si MOL     1      13.439   5.542   6.270  1.00  0.00          SI  \nATOM    206   Si MOL     1      15.358   6.650   7.054  1.00  0.00          SI  \nATOM    207   Si MOL     1      15.358   6.650   9.405  1.00  0.00          SI  \nATOM    208   Si MOL     1      17.278   7.759  10.189  1.00  0.00          SI  \nATOM    209   Si MOL     1      11.519   6.650   0.000  1.00  0.00          SI  \nATOM    210   Si MOL     1      13.439   7.759   0.784  1.00  0.00          SI  \nATOM    211   Si MOL     1      13.439   7.759   3.135  1.00  0.00          SI  \nATOM    212   Si MOL     1      15.358   8.867   3.919  1.00  0.00          SI  \nATOM    213   Si MOL     1      15.358   8.867   6.270  1.00  0.00          SI  \nATOM    214   Si MOL     1      17.278   9.976   7.054  1.00  0.00          SI  \nATOM    215   Si MOL     1      17.278   9.976   9.405  1.00  0.00          SI  \nATOM    216   Si MOL     1      19.198  11.084  10.189  1.00  0.00          SI  \nATOM    217   Si MOL     1      11.519  -0.000   0.000  1.00  0.00          SI  \nATOM    218   Si MOL     1      13.439   1.108   0.784  1.00  0.00          SI  \nATOM    219   Si MOL     1      13.439   1.108   3.135  1.00  0.00          SI  \nATOM    220   Si MOL     1      15.358   2.217   3.919  1.00  0.00          SI  \nATOM    221   Si MOL     1      15.358   2.217   6.270  1.00  0.00          SI  \nATOM    222   Si MOL     1      17.278   3.325   7.054  1.00  0.00          SI  \nATOM    223   Si MOL     1      17.278   3.325   9.405  1.00  0.00          SI  \nATOM    224   Si MOL     1      19.198   4.434  10.189  1.00  0.00          SI  \nATOM    225   Si MOL     1      13.439   3.325   0.000  1.00  0.00          SI  \nATOM    226   Si MOL     1      15.358   4.434   0.784  1.00  0.00          SI  \nATOM    227   Si MOL     1      15.358   4.434   3.135  1.00  0.00          SI  \nATOM    228   Si MOL     1      17.278   5.542   3.919  1.00  0.00          SI  \nATOM    229   Si MOL     1      17.278   5.542   6.270  1.00  0.00          SI  \nATOM    230   Si MOL     1      19.198   6.650   7.054  1.00  0.00          SI  \nATOM    231   Si MOL     1      19.198   6.650   9.405  1.00  0.00          SI  \nATOM    232   Si MOL     1      21.118   7.759  10.189  1.00  0.00          SI  \nATOM    233   Si MOL     1      15.358   6.650   0.000  1.00  0.00          SI  \nATOM    234   Si MOL     1      17.278   7.759   0.784  1.00  0.00          SI  \nATOM    235   Si MOL     1      17.278   7.759   3.135  1.00  0.00          SI  \nATOM    236   Si MOL     1      19.198   8.867   3.919  1.00  0.00          SI  \nATOM    237   Si MOL     1      19.198   8.867   6.270  1.00  0.00          SI  \nATOM    238   Si MOL     1      21.118   9.976   7.054  1.00  0.00          SI  \nATOM    239   Si MOL     1      21.118   9.976   9.405  1.00  0.00          SI  \nATOM    240   Si MOL     1      23.038  11.084  10.189  1.00  0.00          SI  \nATOM    241   Si MOL     1      15.358   4.434  12.540  1.00  0.00          SI  \nATOM    242   Si MOL     1      17.278   5.542  13.324  1.00  0.00          SI  \nATOM    243   Si MOL     1      17.278   5.542  15.675  1.00  0.00          SI  \nATOM    244   Si MOL     1      19.198   6.650  16.459  1.00  0.00          SI  \nATOM    245   Si MOL     1      19.198   6.650  18.810  1.00  0.00          SI  \nATOM    246   Si MOL     1      21.118   7.759  19.594  1.00  0.00          SI  \nATOM    247   Si MOL     1      21.118   7.759  21.945  1.00  0.00          SI  \nATOM    248   Si MOL     1      23.038   8.867  22.729  1.00  0.00          SI  \nATOM    249   Si MOL     1      17.278   7.759  12.540  1.00  0.00          SI  \nATOM    250   Si MOL     1      19.198   8.867  13.324  1.00  0.00          SI  \nATOM    251   Si MOL     1      19.198   8.867  15.675  1.00  0.00          SI  \nATOM    252   Si MOL     1      21.118   9.976  16.459  1.00  0.00          SI  \nATOM    253   Si MOL     1      21.118   9.976  18.810  1.00  0.00          SI  \nATOM    254   Si MOL     1      23.038  11.084  19.594  1.00  0.00          SI  \nATOM    255   Si MOL     1      23.038  11.084  21.945  1.00  0.00          SI  \nATOM    256   Si MOL     1      24.957  12.192  22.729  1.00  0.00          SI  \nATOM    257   Si MOL     1      19.198  11.084  12.540  1.00  0.00          SI  \nATOM    258   Si MOL     1      21.118  12.192  13.324  1.00  0.00          SI  \nATOM    259   Si MOL     1      21.118  12.192  15.675  1.00  0.00          SI  \nATOM    260   Si MOL     1      23.038  13.301  16.459  1.00  0.00          SI  \nATOM    261   Si MOL     1      23.038  13.301  18.810  1.00  0.00          SI  \nATOM    262   Si MOL     1      24.957  14.409  19.594  1.00  0.00          SI  \nATOM    263   Si MOL     1      24.957  14.409  21.945  1.00  0.00          SI  \nATOM    264   Si MOL     1      26.877  15.518  22.729  1.00  0.00          SI  \nATOM    265   Si MOL     1      19.198   4.434  12.540  1.00  0.00          SI  \nATOM    266   Si MOL     1      21.118   5.542  13.324  1.00  0.00          SI  \nATOM    267   Si MOL     1      21.118   5.542  15.675  1.00  0.00          SI  \nATOM    268   Si MOL     1      23.038   6.650  16.459  1.00  0.00          SI  \nATOM    269   Si MOL     1      23.038   6.650  18.810  1.00  0.00          SI  \nATOM    270   Si MOL     1      24.957   7.759  19.594  1.00  0.00          SI  \nATOM    271   Si MOL     1      24.957   7.759  21.945  1.00  0.00          SI  \nATOM    272   Si MOL     1      26.877   8.867  22.729  1.00  0.00          SI  \nATOM    273   Si MOL     1      21.118   7.759  12.540  1.00  0.00          SI  \nATOM    274   Si MOL     1      23.038   8.867  13.324  1.00  0.00          SI  \nATOM    275   Si MOL     1      23.038   8.867  15.675  1.00  0.00          SI  \nATOM    276   Si MOL     1      24.957   9.976  16.459  1.00  0.00          SI  \nATOM    277   Si MOL     1      24.957   9.976  18.810  1.00  0.00          SI  \nATOM    278   Si MOL     1      26.877  11.084  19.594  1.00  0.00          SI  \nATOM    279   Si MOL     1      26.877  11.084  21.945  1.00  0.00          SI  \nATOM    280   Si MOL     1      28.797  12.192  22.729  1.00  0.00          SI  \nATOM    281   Si MOL     1      23.038  11.084  12.540  1.00  0.00          SI  \nATOM    282   Si MOL     1      24.957  12.192  13.324  1.00  0.00          SI  \nATOM    283   Si MOL     1      24.957  12.192  15.675  1.00  0.00          SI  \nATOM    284   Si MOL     1      26.877  13.301  16.459  1.00  0.00          SI  \nATOM    285   Si MOL     1      26.877  13.301  18.810  1.00  0.00          SI  \nATOM    286   Si MOL     1      28.797  14.409  19.594  1.00  0.00          SI  \nATOM    287   Si MOL     1      28.797  14.409  21.945  1.00  0.00          SI  \nATOM    288   Si MOL     1      30.717  15.518  22.729  1.00  0.00          SI  \nATOM    289   Si MOL     1      13.439   9.976  -0.000  1.00  0.00          SI  \nATOM    290   Si MOL     1      15.358  11.084   0.784  1.00  0.00          SI  \nATOM    291   Si MOL     1      15.358  11.084   3.135  1.00  0.00          SI  \nATOM    292   Si MOL     1      17.278  12.192   3.919  1.00  0.00          SI  \nATOM    293   Si MOL     1      17.278  12.192   6.270  1.00  0.00          SI  \nATOM    294   Si MOL     1      19.198  13.301   7.054  1.00  0.00          SI  \nATOM    295   Si MOL     1      19.198  13.301   9.405  1.00  0.00          SI  \nATOM    296   Si MOL     1      21.118  14.409  10.189  1.00  0.00          SI  \nATOM    297   Si MOL     1      15.358  13.301  -0.000  1.00  0.00          SI  \nATOM    298   Si MOL     1      17.278  14.409   0.784  1.00  0.00          SI  \nATOM    299   Si MOL     1      17.278  14.409   3.135  1.00  0.00          SI  \nATOM    300   Si MOL     1      19.198  15.518   3.919  1.00  0.00          SI  \nATOM    301   Si MOL     1      19.198  15.518   6.270  1.00  0.00          SI  \nATOM    302   Si MOL     1      21.118  16.626   7.054  1.00  0.00          SI  \nATOM    303   Si MOL     1      21.118  16.626   9.405  1.00  0.00          SI  \nATOM    304   Si MOL     1      23.038  17.734  10.189  1.00  0.00          SI  \nATOM    305   Si MOL     1      17.278  16.626  -0.000  1.00  0.00          SI  \nATOM    306   Si MOL     1      19.198  17.734   0.784  1.00  0.00          SI  \nATOM    307   Si MOL     1      19.198  17.734   3.135  1.00  0.00          SI  \nATOM    308   Si MOL     1      21.118  18.843   3.919  1.00  0.00          SI  \nATOM    309   Si MOL     1      21.118  18.843   6.270  1.00  0.00          SI  \nATOM    310   Si MOL     1      23.038  19.951   7.054  1.00  0.00          SI  \nATOM    311   Si MOL     1      23.038  19.951   9.405  1.00  0.00          SI  \nATOM    312   Si MOL     1      24.957  21.059  10.189  1.00  0.00          SI  \nATOM    313   Si MOL     1      17.278   9.976   0.000  1.00  0.00          SI  \nATOM    314   Si MOL     1      19.198  11.084   0.784  1.00  0.00          SI  \nATOM    315   Si MOL     1      19.198  11.084   3.135  1.00  0.00          SI  \nATOM    316   Si MOL     1      21.118  12.192   3.919  1.00  0.00          SI  \nATOM    317   Si MOL     1      21.118  12.192   6.270  1.00  0.00          SI  \nATOM    318   Si MOL     1      23.038  13.301   7.054  1.00  0.00          SI  \nATOM    319   Si MOL     1      23.038  13.301   9.405  1.00  0.00          SI  \nATOM    320   Si MOL     1      24.957  14.409  10.189  1.00  0.00          SI  \nATOM    321   Si MOL     1      19.198  13.301   0.000  1.00  0.00          SI  \nATOM    322   Si MOL     1      21.118  14.409   0.784  1.00  0.00          SI  \nATOM    323   Si MOL     1      21.118  14.409   3.135  1.00  0.00          SI  \nATOM    324   Si MOL     1      23.038  15.518   3.919  1.00  0.00          SI  \nATOM    325   Si MOL     1      23.038  15.518   6.270  1.00  0.00          SI  \nATOM    326   Si MOL     1      24.957  16.626   7.054  1.00  0.00          SI  \nATOM    327   Si MOL     1      24.957  16.626   9.405  1.00  0.00          SI  \nATOM    328   Si MOL     1      26.877  17.734  10.189  1.00  0.00          SI  \nATOM    329   Si MOL     1      21.118  16.626  -0.000  1.00  0.00          SI  \nATOM    330   Si MOL     1      23.038  17.734   0.784  1.00  0.00          SI  \nATOM    331   Si MOL     1      23.038  17.734   3.135  1.00  0.00          SI  \nATOM    332   Si MOL     1      24.957  18.843   3.919  1.00  0.00          SI  \nATOM    333   Si MOL     1      24.957  18.843   6.270  1.00  0.00          SI  \nATOM    334   Si MOL     1      26.877  19.951   7.054  1.00  0.00          SI  \nATOM    335   Si MOL     1      26.877  19.951   9.405  1.00  0.00          SI  \nATOM    336   Si MOL     1      28.797  21.059  10.189  1.00  0.00          SI  \nATOM    337   Si MOL     1      21.118  14.409  12.540  1.00  0.00          SI  \nATOM    338   Si MOL     1      23.038  15.518  13.324  1.00  0.00          SI  \nATOM    339   Si MOL     1      23.038  15.518  15.675  1.00  0.00          SI  \nATOM    340   Si MOL     1      24.957  16.626  16.459  1.00  0.00          SI  \nATOM    341   Si MOL     1      24.957  16.626  18.810  1.00  0.00          SI  \nATOM    342   Si MOL     1      26.877  17.734  19.594  1.00  0.00          SI  \nATOM    343   Si MOL     1      26.877  17.734  21.945  1.00  0.00          SI  \nATOM    344   Si MOL     1      28.797  18.843  22.729  1.00  0.00          SI  \nATOM    345   Si MOL     1      23.038  17.734  12.540  1.00  0.00          SI  \nATOM    346   Si MOL     1      24.957  18.843  13.324  1.00  0.00          SI  \nATOM    347   Si MOL     1      24.957  18.843  15.675  1.00  0.00          SI  \nATOM    348   Si MOL     1      26.877  19.951  16.459  1.00  0.00          SI  \nATOM    349   Si MOL     1      26.877  19.951  18.810  1.00  0.00          SI  \nATOM    350   Si MOL     1      28.797  21.059  19.594  1.00  0.00          SI  \nATOM    351   Si MOL     1      28.797  21.059  21.945  1.00  0.00          SI  \nATOM    352   Si MOL     1      30.717  22.168  22.729  1.00  0.00          SI  \nATOM    353   Si MOL     1      24.957  21.059  12.540  1.00  0.00          SI  \nATOM    354   Si MOL     1      26.877  22.168  13.324  1.00  0.00          SI  \nATOM    355   Si MOL     1      26.877  22.168  15.675  1.00  0.00          SI  \nATOM    356   Si MOL     1      28.797  23.276  16.459  1.00  0.00          SI  \nATOM    357   Si MOL     1      28.797  23.276  18.810  1.00  0.00          SI  \nATOM    358   Si MOL     1      30.717  24.385  19.594  1.00  0.00          SI  \nATOM    359   Si MOL     1      30.717  24.385  21.945  1.00  0.00          SI  \nATOM    360   Si MOL     1      32.637  25.493  22.729  1.00  0.00          SI  \nATOM    361   Si MOL     1      24.957  14.409  12.540  1.00  0.00          SI  \nATOM    362   Si MOL     1      26.877  15.518  13.324  1.00  0.00          SI  \nATOM    363   Si MOL     1      26.877  15.518  15.675  1.00  0.00          SI  \nATOM    364   Si MOL     1      28.797  16.626  16.459  1.00  0.00          SI  \nATOM    365   Si MOL     1      28.797  16.626  18.810  1.00  0.00          SI  \nATOM    366   Si MOL     1      30.717  17.734  19.594  1.00  0.00          SI  \nATOM    367   Si MOL     1      30.717  17.734  21.945  1.00  0.00          SI  \nATOM    368   Si MOL     1      32.637  18.843  22.729  1.00  0.00          SI  \nATOM    369   Si MOL     1      26.877  17.734  12.540  1.00  0.00          SI  \nATOM    370   Si MOL     1      28.797  18.843  13.324  1.00  0.00          SI  \nATOM    371   Si MOL     1      28.797  18.843  15.675  1.00  0.00          SI  \nATOM    372   Si MOL     1      30.717  19.951  16.459  1.00  0.00          SI  \nATOM    373   Si MOL     1      30.717  19.951  18.810  1.00  0.00          SI  \nATOM    374   Si MOL     1      32.637  21.059  19.594  1.00  0.00          SI  \nATOM    375   Si MOL     1      32.637  21.059  21.945  1.00  0.00          SI  \nATOM    376   Si MOL     1      34.556  22.168  22.729  1.00  0.00          SI  \nATOM    377   Si MOL     1      28.797  21.059  12.540  1.00  0.00          SI  \nATOM    378   Si MOL     1      30.717  22.168  13.324  1.00  0.00          SI  \nATOM    379   Si MOL     1      30.717  22.168  15.675  1.00  0.00          SI  \nATOM    380   Si MOL     1      32.637  23.276  16.459  1.00  0.00          SI  \nATOM    381   Si MOL     1      32.637  23.276  18.810  1.00  0.00          SI  \nATOM    382   Si MOL     1      34.556  24.385  19.594  1.00  0.00          SI  \nATOM    383   Si MOL     1      34.556  24.385  21.945  1.00  0.00          SI  \nATOM    384   Si MOL     1      36.476  25.493  22.729  1.00  0.00          SI  \nENDMDL\n",
           "type": "blob"
          }
         ],
         "kwargs": {
          "defaultRepresentation": false,
          "ext": "pdb"
         },
         "methodName": "loadFile",
         "reconstruc_color_scheme": false,
         "target": "Stage",
         "type": "call_method"
        },
        {
         "args": [
          "400px",
          "300px"
         ],
         "kwargs": {},
         "methodName": "setSize",
         "reconstruc_color_scheme": false,
         "target": "Widget",
         "type": "call_method"
        },
        {
         "args": [
          "unitcell"
         ],
         "component_index": 0,
         "kwargs": {
          "sele": "all"
         },
         "methodName": "addRepresentation",
         "reconstruc_color_scheme": false,
         "target": "compList",
         "type": "call_method"
        },
        {
         "args": [
          "spacefill"
         ],
         "component_index": 0,
         "kwargs": {
          "sele": "all"
         },
         "methodName": "addRepresentation",
         "reconstruc_color_scheme": false,
         "target": "compList",
         "type": "call_method"
        },
        {
         "args": [],
         "kwargs": {
          "cameraType": "orthographic"
         },
         "methodName": "setParameters",
         "reconstruc_color_scheme": false,
         "target": "Stage",
         "type": "call_method"
        },
        {
         "args": [
          {
           "clipDist": 0
          }
         ],
         "kwargs": {},
         "methodName": "setParameters",
         "reconstruc_color_scheme": false,
         "target": "Widget",
         "type": "call_method"
        },
        {
         "args": [
          "spacefill",
          0
         ],
         "kwargs": {
          "colorScale": "rainbow",
          "colorScheme": "element",
          "radiusScale": 0.5,
          "radiusType": "covalent"
         },
         "methodName": "updateRepresentationsByName",
         "reconstruc_color_scheme": false,
         "target": "Widget",
         "type": "call_method"
        },
        {
         "args": [
          "this._Q = [[-0.0, 0.7071067811865476, 0.7071067811865476], [0.816496580927726, -0.40824829046386285, 0.40824829046386296], [0.5773502691896257, 0.5773502691896258, -0.5773502691896257]]\n    var tooltip = document.createElement('div')\n    Object.assign(tooltip.style, {\n      display: 'none',\n      position: 'fixed',\n      zIndex: 10,\n      pointerEvents: 'none',\n      backgroundColor: 'rgba( 0, 0, 0, 0.6 )',\n      color: 'lightgrey',\n      padding: '8px',\n      fontFamily: 'sans-serif'\n    })\n    document.body.appendChild(tooltip)\n\n    var that = this\n    this.stage.mouseControls.remove('hoverPick')\n    this.stage.signals.hovered.add(function (pickingProxy) {\n      if (pickingProxy && (pickingProxy.atom || pickingProxy.bond)) {\n        var atom = pickingProxy.atom || pickingProxy.closestBondAtom\n        var mp = pickingProxy.mouse.position\n        //tooltip.innerText = atom.element + ' i=' + atom.index + ' (' + atom.x.toFixed(2) +  ', ' + atom.y.toFixed(2) +  ', ' + atom.z.toFixed(2) + ')'\n        //var pos = that._atoms_pos[atom.index]\n        var Q = that._Q\n        var pos_x = Q[0][0] * atom.x + Q[0][1] * atom.y + Q[0][2] * atom.z \n        var pos_y = Q[1][0] * atom.x + Q[1][1] * atom.y + Q[1][2] * atom.z\n        var pos_z = Q[2][0] * atom.x + Q[2][1] * atom.y + Q[2][2] * atom.z\n        tooltip.innerText = 'i=' + atom.index + ' ' + atom.element + ' (' + pos_x.toFixed(2) +  ', ' + pos_y.toFixed(2) +  ', ' + pos_z.toFixed(2) + ')'\n        tooltip.style.bottom = window.innerHeight - mp.y + 3 + 'px'\n        tooltip.style.left = mp.x + 3 + 'px'\n        tooltip.style.display = 'block'\n      } else {\n        tooltip.style.display = 'none'\n      }\n    })\n    "
         ],
         "kwargs": {},
         "methodName": "executeCode",
         "reconstruc_color_scheme": false,
         "target": "Widget",
         "type": "call_method"
        }
       ],
       "_ngl_original_stage_parameters": {
        "ambientColor": 14540253,
        "ambientIntensity": 0.2,
        "backgroundColor": "white",
        "cameraEyeSep": 0.3,
        "cameraFov": 40,
        "cameraType": "perspective",
        "clipDist": 10,
        "clipFar": 100,
        "clipNear": 0,
        "fogFar": 100,
        "fogNear": 50,
        "hoverTimeout": 0,
        "impostor": true,
        "lightColor": 14540253,
        "lightIntensity": 1,
        "mousePreset": "default",
        "panSpeed": 1,
        "quality": "medium",
        "rotateSpeed": 2,
        "sampleLevel": 0,
        "tooltip": true,
        "workerDefault": true,
        "zoomSpeed": 1.2
       },
       "_ngl_repr_dict": {
        "0": {
         "0": {
          "params": {
           "clipCenter": {
            "x": 0,
            "y": 0,
            "z": 0
           },
           "clipNear": 0,
           "clipRadius": 0,
           "colorMode": "hcl",
           "colorReverse": false,
           "colorScale": "",
           "colorScheme": "element",
           "colorValue": "orange",
           "defaultAssembly": "",
           "depthWrite": true,
           "diffuse": 16777215,
           "diffuseInterior": false,
           "disableImpostor": false,
           "disablePicking": false,
           "flatShaded": false,
           "interiorColor": 2236962,
           "interiorDarkening": 0,
           "lazy": false,
           "matrix": {
            "elements": [
             1,
             0,
             0,
             0,
             0,
             1,
             0,
             0,
             0,
             0,
             1,
             0,
             0,
             0,
             0,
             1
            ]
           },
           "metalness": 0,
           "opacity": 1,
           "quality": "medium",
           "radialSegments": 10,
           "radiusData": {},
           "radiusScale": 1,
           "radiusSize": 0.09866139659221249,
           "radiusType": "vdw",
           "roughness": 0.4,
           "sele": "all",
           "side": "double",
           "sphereDetail": 1,
           "useInteriorColor": true,
           "visible": true,
           "wireframe": false
          },
          "type": "unitcell"
         },
         "1": {
          "params": {
           "assembly": "default",
           "clipCenter": {
            "x": 0,
            "y": 0,
            "z": 0
           },
           "clipNear": 0,
           "clipRadius": 0,
           "colorMode": "hcl",
           "colorReverse": false,
           "colorScale": "rainbow",
           "colorScheme": "element",
           "colorValue": 9474192,
           "defaultAssembly": "",
           "depthWrite": true,
           "diffuse": 16777215,
           "diffuseInterior": false,
           "disableImpostor": false,
           "disablePicking": false,
           "flatShaded": false,
           "interiorColor": 2236962,
           "interiorDarkening": 0,
           "lazy": false,
           "matrix": {
            "elements": [
             1,
             0,
             0,
             0,
             0,
             1,
             0,
             0,
             0,
             0,
             1,
             0,
             0,
             0,
             0,
             1
            ]
           },
           "metalness": 0,
           "opacity": 1,
           "quality": "medium",
           "radiusData": {},
           "radiusScale": 0.5,
           "radiusSize": 1,
           "radiusType": "covalent",
           "roughness": 0.4,
           "sele": "all",
           "side": "double",
           "sphereDetail": 1,
           "useInteriorColor": true,
           "visible": true,
           "wireframe": false
          },
          "type": "spacefill"
         }
        }
       },
       "_ngl_serialize": false,
       "_ngl_version": "2.0.0-dev.36",
       "_ngl_view_id": [
        "8F673949-723B-48B2-BC06-B803BA6C60FC"
       ],
       "_player_dict": {},
       "_scene_position": {},
       "_scene_rotation": {},
       "_synced_model_ids": [],
       "_synced_repr_model_ids": [],
       "_view_height": "",
       "_view_width": "",
       "background": "white",
       "frame": 0,
       "gui_style": null,
       "layout": "IPY_MODEL_187c31a3b65a4e358075bdeff0e8d99c",
       "max_frame": 0,
       "n_components": 1,
       "picked": {}
      }
     },
     "967a40a4dbee468fb84c225147244c0b": {
      "model_module": "@jupyter-widgets/controls",
      "model_module_version": "1.5.0",
      "model_name": "ButtonModel",
      "state": {
       "icon": "compress",
       "layout": "IPY_MODEL_363119a5d10648ffb64c570dd4af2915",
       "style": "IPY_MODEL_daf052f6c14841ce8c278f250c9935d6"
      }
     },
     "968776330df14b0589dcd82515e056a8": {
      "model_module": "@jupyter-widgets/controls",
      "model_module_version": "1.5.0",
      "model_name": "ButtonModel",
      "state": {
       "description": "Download image",
       "layout": "IPY_MODEL_7486b1bbeeb04eefa963b56cd83aee10",
       "style": "IPY_MODEL_381d8a7660794267bb795686fe2d4f80",
       "tooltip": "Download current frame to your local PC"
      }
     },
     "9887f9d92def4e52b7cdc91ed6655b0b": {
      "model_module": "@jupyter-widgets/base",
      "model_module_version": "1.2.0",
      "model_name": "LayoutModel",
      "state": {
       "border": "0px solid black"
      }
     },
     "98cb6d1db3894eacb5c3a2f77c76562a": {
      "model_module": "@jupyter-widgets/controls",
      "model_module_version": "1.5.0",
      "model_name": "LinkModel",
      "state": {
       "source": [
        "IPY_MODEL_4a3c4f2707554968af9587f8768a66c4",
        "value"
       ],
       "target": [
        "IPY_MODEL_01ba6d530c854098a25453abc4d47b5f",
        "frame"
       ]
      }
     },
     "990e81ec6ac34f5c92e89b01b5fea276": {
      "model_module": "@jupyter-widgets/base",
      "model_module_version": "1.2.0",
      "model_name": "LayoutModel",
      "state": {}
     },
     "99e76cf39e0b4626b2635f0ee616985c": {
      "model_module": "@jupyter-widgets/controls",
      "model_module_version": "1.5.0",
      "model_name": "DescriptionStyleModel",
      "state": {
       "description_width": ""
      }
     },
     "9aa8f9284de84bcf95e15b6a8b4fd818": {
      "model_module": "@jupyter-widgets/base",
      "model_module_version": "1.2.0",
      "model_name": "LayoutModel",
      "state": {}
     },
     "9c30b3b36c7b4cd79dd716ccd97cf28f": {
      "model_module": "@jupyter-widgets/base",
      "model_module_version": "1.2.0",
      "model_name": "LayoutModel",
      "state": {}
     },
     "9c4b333777e9453188c8fd7b6dcb9d3c": {
      "model_module": "@jupyter-widgets/controls",
      "model_module_version": "1.5.0",
      "model_name": "DescriptionStyleModel",
      "state": {
       "description_width": ""
      }
     },
     "9c7efe9ae7174eef8de655f0e25f39e0": {
      "model_module": "@jupyter-widgets/controls",
      "model_module_version": "1.5.0",
      "model_name": "DescriptionStyleModel",
      "state": {
       "description_width": ""
      }
     },
     "9c8bf0e769e64dfca646d4790544ad3c": {
      "model_module": "@jupyter-widgets/controls",
      "model_module_version": "1.5.0",
      "model_name": "CheckboxModel",
      "state": {
       "description": "Show force",
       "disabled": false,
       "layout": "IPY_MODEL_79099c8cf28b4c239c1df2fb3046a285",
       "style": "IPY_MODEL_01f7e57a6b0d4b9b93d52500fa9fdb8c",
       "value": false
      }
     },
     "9d13eb49af754e3c9417b924ffd46e69": {
      "model_module": "@jupyter-widgets/controls",
      "model_module_version": "1.5.0",
      "model_name": "DescriptionStyleModel",
      "state": {
       "description_width": ""
      }
     },
     "9e15bb59e88d4bdab9299b3713f5ce7e": {
      "model_module": "@jupyter-widgets/controls",
      "model_module_version": "1.5.0",
      "model_name": "ButtonStyleModel",
      "state": {}
     },
     "9e2912b90a2e4ec7918c4c0ce4f58788": {
      "model_module": "@jupyter-widgets/base",
      "model_module_version": "1.2.0",
      "model_name": "LayoutModel",
      "state": {}
     },
     "9e983ab1029442318cdcaa9276cf89b8": {
      "model_module": "@jupyter-widgets/controls",
      "model_module_version": "1.5.0",
      "model_name": "VBoxModel",
      "state": {
       "children": [
        "IPY_MODEL_ab5c8e655d8a4d6bb85011f3d617584c",
        "IPY_MODEL_04b682070f10448f8f9145327f85a36b",
        "IPY_MODEL_f39b629fd6854930893a11af31ffd4b6",
        "IPY_MODEL_bc90db3a2eb6492db069e7fce97744e2",
        "IPY_MODEL_7bdddd5d48844bcc9efba3bf59136f4d",
        "IPY_MODEL_279ec58247c340f49ab63030d5c5236d",
        "IPY_MODEL_66c15e7cd8834cff9e336c415828f16a",
        "IPY_MODEL_c7b230c7767b4d8db29b72d1c9107f1c",
        "IPY_MODEL_648e04687a6c4398a7deab8d107865bc",
        "IPY_MODEL_ce43781c3cb342c78f9fcc018c9f941c"
       ],
       "layout": "IPY_MODEL_b0e3f097d417487ebc1e68523fe5d4fb"
      }
     },
     "9fc98f96b82546da9be2315206ec8c41": {
      "model_module": "@jupyter-widgets/controls",
      "model_module_version": "1.5.0",
      "model_name": "ButtonModel",
      "state": {
       "description": "Download image",
       "layout": "IPY_MODEL_fba5bbd5c47b4a20a99e6561bcfcf000",
       "style": "IPY_MODEL_3ac39d890f24485ea3b91550266ec81e",
       "tooltip": "Download current frame to your local PC"
      }
     },
     "a05b4ca1640341cd9b6277627b1dc4a8": {
      "model_module": "@jupyter-widgets/controls",
      "model_module_version": "1.5.0",
      "model_name": "HBoxModel",
      "state": {
       "children": [
        "IPY_MODEL_50b087ebe8ce474fb186634060951cc7",
        "IPY_MODEL_ac565601fa864ab2bc85cde297de4088"
       ],
       "layout": "IPY_MODEL_f5d4452ec5ea492a8df37e33ce141718"
      }
     },
     "a16737e0f1c440768f8675567bf870a5": {
      "model_module": "@jupyter-widgets/controls",
      "model_module_version": "1.5.0",
      "model_name": "DescriptionStyleModel",
      "state": {
       "description_width": ""
      }
     },
     "a1ea9c47ee094160b12ad750cdf4f10f": {
      "model_module": "@jupyter-widgets/controls",
      "model_module_version": "1.5.0",
      "model_name": "LinkModel",
      "state": {
       "source": [
        "IPY_MODEL_8dabee9f591c4688891fe02a06b89520",
        "max"
       ],
       "target": [
        "IPY_MODEL_9660b2e82c1c49c2a314e0e06ab0ef41",
        "max_frame"
       ]
      }
     },
     "a1ff2b9db9a0477ab83d1c712b5c0d4c": {
      "model_module": "@jupyter-widgets/controls",
      "model_module_version": "1.5.0",
      "model_name": "CheckboxModel",
      "state": {
       "description": "Show charge",
       "disabled": false,
       "layout": "IPY_MODEL_e7b3d220846448b49ce2eef482f46c31",
       "style": "IPY_MODEL_47afa9ee098348258c04b063087f90f0",
       "value": false
      }
     },
     "a2326af304094d46a71d12e3a29dee66": {
      "model_module": "@jupyter-widgets/controls",
      "model_module_version": "1.5.0",
      "model_name": "DropdownModel",
      "state": {
       "_options_labels": [
        " ",
        "picking",
        "random",
        "uniform",
        "atomindex",
        "residueindex",
        "chainindex",
        "modelindex",
        "sstruc",
        "element",
        "resname",
        "bfactor",
        "hydrophobicity",
        "value",
        "volume",
        "occupancy"
       ],
       "description": "Color scheme",
       "index": 9,
       "layout": "IPY_MODEL_8c4e0ce943214bb58d5416352726cb55",
       "style": "IPY_MODEL_74ff2c4f46cb4f72a9b7e59ea231259a"
      }
     },
     "a405af094eaf4c0d8f50ba9fbcc4c36b": {
      "model_module": "@jupyter-widgets/controls",
      "model_module_version": "1.5.0",
      "model_name": "LinkModel",
      "state": {
       "source": [
        "IPY_MODEL_0192fe37d3764165a1cb47ca85d87402",
        "max"
       ],
       "target": [
        "IPY_MODEL_1645bbc6ec9543d796c5b3abb418e098",
        "max_frame"
       ]
      }
     },
     "a47b772e1d1a491d9a7c6311d94c6baa": {
      "model_module": "@jupyter-widgets/base",
      "model_module_version": "1.2.0",
      "model_name": "LayoutModel",
      "state": {}
     },
     "a4ade5f45c5c4686a4a816b50d271628": {
      "model_module": "@jupyter-widgets/controls",
      "model_module_version": "1.5.0",
      "model_name": "DescriptionStyleModel",
      "state": {
       "description_width": ""
      }
     },
     "a57054635425414b8dc2ef77af61e9d8": {
      "model_module": "@jupyter-widgets/base",
      "model_module_version": "1.2.0",
      "model_name": "LayoutModel",
      "state": {}
     },
     "a59bb179717244f9aeddc9b68f97502b": {
      "model_module": "@jupyter-widgets/controls",
      "model_module_version": "1.5.0",
      "model_name": "ButtonModel",
      "state": {
       "description": "Save image",
       "layout": "IPY_MODEL_f5c95bd544a1457a96ea23963b701d7e",
       "style": "IPY_MODEL_8d3bce7fd6dd4a1a9f8cef564853f8b7",
       "tooltip": "Save current frame to file.\nCurrently .png and .html are supported.\nIt takes a bit time, please be patient."
      }
     },
     "a5cdfadf1f0b4d329ee244f29d531b90": {
      "model_module": "@jupyter-widgets/controls",
      "model_module_version": "1.5.0",
      "model_name": "HBoxModel",
      "state": {
       "children": [
        "IPY_MODEL_6355ea2b24e8467a9a011c9cd3d51447",
        "IPY_MODEL_8dabee9f591c4688891fe02a06b89520"
       ],
       "layout": "IPY_MODEL_e9a3011bb2ac457091538cef9eaee6f7"
      }
     },
     "a749bb8d2fdb4f7f853c669aaf7bf997": {
      "model_module": "@jupyter-widgets/base",
      "model_module_version": "1.2.0",
      "model_name": "LayoutModel",
      "state": {}
     },
     "a76ef0038be04f8588f84493dfe5af03": {
      "model_module": "@jupyter-widgets/controls",
      "model_module_version": "1.5.0",
      "model_name": "ButtonModel",
      "state": {
       "description": "Save image",
       "layout": "IPY_MODEL_91e0a130d3304e7fadbe36b1ebf289bf",
       "style": "IPY_MODEL_cc023f24a0c44f3d9e736e4a6451e692",
       "tooltip": "Save current frame to file.\nCurrently .png and .html are supported.\nIt takes a bit time, please be patient."
      }
     },
     "a7d736bd656a49dbaf5093371318844f": {
      "model_module": "@jupyter-widgets/controls",
      "model_module_version": "1.5.0",
      "model_name": "LinkModel",
      "state": {
       "source": [
        "IPY_MODEL_f631bf32df7d4a05abd0a1d606ad7ede",
        "value"
       ],
       "target": [
        "IPY_MODEL_4dc89ecd43c44c9c83f69b468b50e59b",
        "value"
       ]
      }
     },
     "a7f4722857a2409eb2443c6a6d9ccffa": {
      "model_module": "@jupyter-widgets/base",
      "model_module_version": "1.2.0",
      "model_name": "LayoutModel",
      "state": {
       "width": "34px"
      }
     },
     "a9aee425f89a414f8af850ac6e180e46": {
      "model_module": "@jupyter-widgets/controls",
      "model_module_version": "1.5.0",
      "model_name": "ImageModel",
      "state": {
       "layout": "IPY_MODEL_9aa8f9284de84bcf95e15b6a8b4fd818",
       "width": "900.0"
      }
     },
     "ab4b5192ab5f4275b2558fd9781d1582": {
      "model_module": "@jupyter-widgets/base",
      "model_module_version": "1.2.0",
      "model_name": "LayoutModel",
      "state": {}
     },
     "ab5c8e655d8a4d6bb85011f3d617584c": {
      "model_module": "@jupyter-widgets/controls",
      "model_module_version": "1.5.0",
      "model_name": "DropdownModel",
      "state": {
       "_options_labels": [
        "All",
        "Fe",
        "V"
       ],
       "description": "Show",
       "index": 0,
       "layout": "IPY_MODEL_0f40c0e99b9048969f4d65d461355f4e",
       "style": "IPY_MODEL_1f630eea0ad04bc1831ff3d62bd9fe6d"
      }
     },
     "ac565601fa864ab2bc85cde297de4088": {
      "model_module": "@jupyter-widgets/controls",
      "model_module_version": "1.5.0",
      "model_name": "VBoxModel",
      "state": {
       "children": [
        "IPY_MODEL_2d39c8fcff874e25977f971d703bbf65",
        "IPY_MODEL_ba54bd9127c04e6fb43c8b8b844f23f2",
        "IPY_MODEL_b5ce229b5dc244c4b02dfacff7172a66",
        "IPY_MODEL_ba6d72ece77e4cf8887554dab1a26293",
        "IPY_MODEL_883dd1eb93e24fa0a0a942e81601f58f",
        "IPY_MODEL_cb45b61aa0a94c4f8cefa59b56506f72",
        "IPY_MODEL_47cfea87f4e74a0d92375c2e7462a15b",
        "IPY_MODEL_bea409a73d2e42fc854907e9bf809bd9",
        "IPY_MODEL_47d16e5347974ed18817d8447968ea6c",
        "IPY_MODEL_44cb3cd13ea546dc892b86c2b93f7b6f"
       ],
       "layout": "IPY_MODEL_42ece0fb8bed43ad98533fae3e8bcb32"
      }
     },
     "af1f32a8dcc846ee895c9dfd949c76db": {
      "model_module": "nglview-js-widgets",
      "model_module_version": "3.0.1",
      "model_name": "NGLModel",
      "state": {
       "_camera_orientation": [
        8.13904818444334,
        0,
        0,
        0,
        0,
        8.13904818444334,
        0,
        0,
        0,
        0,
        8.13904818444334,
        0,
        -0.4139999747276306,
        -0.5854999423027039,
        -1.0145000219345093,
        1
       ],
       "_camera_str": "orthographic",
       "_gui_theme": null,
       "_ibtn_fullscreen": "IPY_MODEL_6ad6d1334118449caa12a627b932951c",
       "_igui": null,
       "_iplayer": "IPY_MODEL_b99a11c0874549f89760dc3a52aec717",
       "_ngl_color_dict": {},
       "_ngl_coordinate_resource": {},
       "_ngl_full_stage_parameters": {
        "ambientColor": 14540253,
        "ambientIntensity": 0.2,
        "backgroundColor": "white",
        "cameraEyeSep": 0.3,
        "cameraFov": 40,
        "cameraType": "orthographic",
        "clipDist": 0,
        "clipFar": 100,
        "clipNear": 0,
        "fogFar": 100,
        "fogNear": 50,
        "hoverTimeout": 0,
        "impostor": true,
        "lightColor": 14540253,
        "lightIntensity": 1,
        "mousePreset": "default",
        "panSpeed": 1,
        "quality": "medium",
        "rotateSpeed": 2,
        "sampleLevel": 0,
        "tooltip": true,
        "workerDefault": true,
        "zoomSpeed": 1.2
       },
       "_ngl_msg_archive": [
        {
         "args": [
          {
           "binary": false,
           "data": "CRYST1    4.971    4.971    4.971 109.47 109.47 109.47 P 1\nMODEL     1\nATOM      1   Fe MOL     1       0.000   0.000   0.000  1.00  0.00          FE  \nATOM      2   Fe MOL     1      -0.828  -1.172   2.029  1.00  0.00          FE  \nATOM      3   Fe MOL     1      -0.828   2.343   0.000  1.00  0.00          FE  \nATOM      4   Fe MOL     1      -1.657   1.172   2.029  1.00  0.00          FE  \nATOM      5   Fe MOL     1       2.485  -0.000  -0.000  1.00  0.00          FE  \nATOM      6   Fe MOL     1       1.657  -1.172   2.029  1.00  0.00          FE  \nATOM      7   Fe MOL     1       1.657   2.343   0.000  1.00  0.00          FE  \nATOM      8   Fe MOL     1       0.828   1.172   2.029  1.00  0.00          FE  \nENDMDL\n",
           "type": "blob"
          }
         ],
         "kwargs": {
          "defaultRepresentation": false,
          "ext": "pdb"
         },
         "methodName": "loadFile",
         "reconstruc_color_scheme": false,
         "target": "Stage",
         "type": "call_method"
        },
        {
         "args": [
          "400px",
          "300px"
         ],
         "kwargs": {},
         "methodName": "setSize",
         "reconstruc_color_scheme": false,
         "target": "Widget",
         "type": "call_method"
        },
        {
         "args": [
          "unitcell"
         ],
         "component_index": 0,
         "kwargs": {
          "sele": "all"
         },
         "methodName": "addRepresentation",
         "reconstruc_color_scheme": false,
         "target": "compList",
         "type": "call_method"
        },
        {
         "args": [
          "spacefill"
         ],
         "component_index": 0,
         "kwargs": {
          "sele": "all"
         },
         "methodName": "addRepresentation",
         "reconstruc_color_scheme": false,
         "target": "compList",
         "type": "call_method"
        },
        {
         "args": [],
         "kwargs": {
          "cameraType": "orthographic"
         },
         "methodName": "setParameters",
         "reconstruc_color_scheme": false,
         "target": "Stage",
         "type": "call_method"
        },
        {
         "args": [
          {
           "clipDist": 0
          }
         ],
         "kwargs": {},
         "methodName": "setParameters",
         "reconstruc_color_scheme": false,
         "target": "Widget",
         "type": "call_method"
        },
        {
         "args": [
          "spacefill",
          0
         ],
         "kwargs": {
          "colorScale": "rainbow",
          "colorScheme": "element",
          "radiusScale": 0.5,
          "radiusType": "covalent"
         },
         "methodName": "updateRepresentationsByName",
         "reconstruc_color_scheme": false,
         "target": "Widget",
         "type": "call_method"
        },
        {
         "args": [
          "this._Q = [[-0.5773502691896257, 0.5773502691896257, 0.5773502691896257], [0.40824829046386313, -0.408248290463863, 0.8164965809277263], [0.7071067811865474, 0.7071067811865478, -3.5164189309272113e-16]]\n    var tooltip = document.createElement('div')\n    Object.assign(tooltip.style, {\n      display: 'none',\n      position: 'fixed',\n      zIndex: 10,\n      pointerEvents: 'none',\n      backgroundColor: 'rgba( 0, 0, 0, 0.6 )',\n      color: 'lightgrey',\n      padding: '8px',\n      fontFamily: 'sans-serif'\n    })\n    document.body.appendChild(tooltip)\n\n    var that = this\n    this.stage.mouseControls.remove('hoverPick')\n    this.stage.signals.hovered.add(function (pickingProxy) {\n      if (pickingProxy && (pickingProxy.atom || pickingProxy.bond)) {\n        var atom = pickingProxy.atom || pickingProxy.closestBondAtom\n        var mp = pickingProxy.mouse.position\n        //tooltip.innerText = atom.element + ' i=' + atom.index + ' (' + atom.x.toFixed(2) +  ', ' + atom.y.toFixed(2) +  ', ' + atom.z.toFixed(2) + ')'\n        //var pos = that._atoms_pos[atom.index]\n        var Q = that._Q\n        var pos_x = Q[0][0] * atom.x + Q[0][1] * atom.y + Q[0][2] * atom.z \n        var pos_y = Q[1][0] * atom.x + Q[1][1] * atom.y + Q[1][2] * atom.z\n        var pos_z = Q[2][0] * atom.x + Q[2][1] * atom.y + Q[2][2] * atom.z\n        tooltip.innerText = 'i=' + atom.index + ' ' + atom.element + ' (' + pos_x.toFixed(2) +  ', ' + pos_y.toFixed(2) +  ', ' + pos_z.toFixed(2) + ')'\n        tooltip.style.bottom = window.innerHeight - mp.y + 3 + 'px'\n        tooltip.style.left = mp.x + 3 + 'px'\n        tooltip.style.display = 'block'\n      } else {\n        tooltip.style.display = 'none'\n      }\n    })\n    "
         ],
         "kwargs": {},
         "methodName": "executeCode",
         "reconstruc_color_scheme": false,
         "target": "Widget",
         "type": "call_method"
        }
       ],
       "_ngl_original_stage_parameters": {
        "ambientColor": 14540253,
        "ambientIntensity": 0.2,
        "backgroundColor": "white",
        "cameraEyeSep": 0.3,
        "cameraFov": 40,
        "cameraType": "perspective",
        "clipDist": 10,
        "clipFar": 100,
        "clipNear": 0,
        "fogFar": 100,
        "fogNear": 50,
        "hoverTimeout": 0,
        "impostor": true,
        "lightColor": 14540253,
        "lightIntensity": 1,
        "mousePreset": "default",
        "panSpeed": 1,
        "quality": "medium",
        "rotateSpeed": 2,
        "sampleLevel": 0,
        "tooltip": true,
        "workerDefault": true,
        "zoomSpeed": 1.2
       },
       "_ngl_repr_dict": {
        "0": {
         "0": {
          "params": {
           "clipCenter": {
            "x": 0,
            "y": 0,
            "z": 0
           },
           "clipNear": 0,
           "clipRadius": 0,
           "colorMode": "hcl",
           "colorReverse": false,
           "colorScale": "",
           "colorScheme": "element",
           "colorValue": "orange",
           "defaultAssembly": "",
           "depthWrite": true,
           "diffuse": 16777215,
           "diffuseInterior": false,
           "disableImpostor": false,
           "disablePicking": false,
           "flatShaded": false,
           "interiorColor": 2236962,
           "interiorDarkening": 0,
           "lazy": false,
           "matrix": {
            "elements": [
             1,
             0,
             0,
             0,
             0,
             1,
             0,
             0,
             0,
             0,
             1,
             0,
             0,
             0,
             0,
             1
            ]
           },
           "metalness": 0,
           "opacity": 1,
           "quality": "medium",
           "radialSegments": 10,
           "radiusData": {},
           "radiusScale": 1,
           "radiusSize": 0.02278541097981449,
           "radiusType": "vdw",
           "roughness": 0.4,
           "sele": "all",
           "side": "double",
           "sphereDetail": 1,
           "useInteriorColor": true,
           "visible": true,
           "wireframe": false
          },
          "type": "unitcell"
         },
         "1": {
          "params": {
           "assembly": "default",
           "clipCenter": {
            "x": 0,
            "y": 0,
            "z": 0
           },
           "clipNear": 0,
           "clipRadius": 0,
           "colorMode": "hcl",
           "colorReverse": false,
           "colorScale": "rainbow",
           "colorScheme": "element",
           "colorValue": 9474192,
           "defaultAssembly": "",
           "depthWrite": true,
           "diffuse": 16777215,
           "diffuseInterior": false,
           "disableImpostor": false,
           "disablePicking": false,
           "flatShaded": false,
           "interiorColor": 2236962,
           "interiorDarkening": 0,
           "lazy": false,
           "matrix": {
            "elements": [
             1,
             0,
             0,
             0,
             0,
             1,
             0,
             0,
             0,
             0,
             1,
             0,
             0,
             0,
             0,
             1
            ]
           },
           "metalness": 0,
           "opacity": 1,
           "quality": "medium",
           "radiusData": {},
           "radiusScale": 0.5,
           "radiusSize": 1,
           "radiusType": "covalent",
           "roughness": 0.4,
           "sele": "all",
           "side": "double",
           "sphereDetail": 1,
           "useInteriorColor": true,
           "visible": true,
           "wireframe": false
          },
          "type": "spacefill"
         }
        }
       },
       "_ngl_serialize": false,
       "_ngl_version": "2.0.0-dev.36",
       "_ngl_view_id": [
        "5EBA79B0-F523-4D21-943A-79BB6C842947"
       ],
       "_player_dict": {},
       "_scene_position": {},
       "_scene_rotation": {},
       "_synced_model_ids": [],
       "_synced_repr_model_ids": [],
       "_view_height": "",
       "_view_width": "",
       "background": "white",
       "frame": 0,
       "gui_style": null,
       "layout": "IPY_MODEL_9c30b3b36c7b4cd79dd716ccd97cf28f",
       "max_frame": 0,
       "n_components": 1,
       "picked": {}
      }
     },
     "b0db8e11c50946188b97d836d2232925": {
      "model_module": "@jupyter-widgets/controls",
      "model_module_version": "1.5.0",
      "model_name": "DescriptionStyleModel",
      "state": {
       "description_width": ""
      }
     },
     "b0e3f097d417487ebc1e68523fe5d4fb": {
      "model_module": "@jupyter-widgets/base",
      "model_module_version": "1.2.0",
      "model_name": "LayoutModel",
      "state": {}
     },
     "b10d4d172a9747caadd3939e05f38618": {
      "model_module": "@jupyter-widgets/controls",
      "model_module_version": "1.5.0",
      "model_name": "FloatSliderModel",
      "state": {
       "description": "Ball size",
       "layout": "IPY_MODEL_049ab03d1daf440a9638a40fe71ac3a3",
       "max": 1.5,
       "step": 0.01,
       "style": "IPY_MODEL_6de9d19dff0a479595a637ae602aca8b",
       "value": 0.5
      }
     },
     "b380d1f22c914355a7b7ee6b3e3cad56": {
      "model_module": "@jupyter-widgets/controls",
      "model_module_version": "1.5.0",
      "model_name": "PlayModel",
      "state": {
       "layout": "IPY_MODEL_fe06b9645f1d4c00981e351b4dd31c5e",
       "max": 0,
       "style": "IPY_MODEL_f5dee8e892004542a338143727cb1183"
      }
     },
     "b45a707b08a44ca594b231a2f31761f6": {
      "model_module": "@jupyter-widgets/controls",
      "model_module_version": "1.5.0",
      "model_name": "LinkModel",
      "state": {
       "source": [
        "IPY_MODEL_4dc89ecd43c44c9c83f69b468b50e59b",
        "max"
       ],
       "target": [
        "IPY_MODEL_50b087ebe8ce474fb186634060951cc7",
        "max_frame"
       ]
      }
     },
     "b5c5ee4b84a946ffa12645272f1f169d": {
      "model_module": "@jupyter-widgets/base",
      "model_module_version": "1.2.0",
      "model_name": "LayoutModel",
      "state": {}
     },
     "b5ce229b5dc244c4b02dfacff7172a66": {
      "model_module": "@jupyter-widgets/controls",
      "model_module_version": "1.5.0",
      "model_name": "FloatSliderModel",
      "state": {
       "description": "Ball size",
       "layout": "IPY_MODEL_5919e027f486466192cad9a6d3e2d92b",
       "max": 1.5,
       "step": 0.01,
       "style": "IPY_MODEL_11301299e4cf44528a5f4ba55acd9d0a",
       "value": 0.5
      }
     },
     "b99a11c0874549f89760dc3a52aec717": {
      "model_module": "@jupyter-widgets/controls",
      "model_module_version": "1.5.0",
      "model_name": "HBoxModel",
      "state": {
       "children": [
        "IPY_MODEL_b380d1f22c914355a7b7ee6b3e3cad56",
        "IPY_MODEL_ce5f91eb8a43407ab8b48b0dd5a97f20"
       ],
       "layout": "IPY_MODEL_e306f196edab43d39e2232892fae203c"
      }
     },
     "ba54bd9127c04e6fb43c8b8b844f23f2": {
      "model_module": "@jupyter-widgets/controls",
      "model_module_version": "1.5.0",
      "model_name": "DropdownModel",
      "state": {
       "_options_labels": [
        " ",
        "picking",
        "random",
        "uniform",
        "atomindex",
        "residueindex",
        "chainindex",
        "modelindex",
        "sstruc",
        "element",
        "resname",
        "bfactor",
        "hydrophobicity",
        "value",
        "volume",
        "occupancy"
       ],
       "description": "Color scheme",
       "index": 9,
       "layout": "IPY_MODEL_17e7d24d36024ea9bb3c81919194ec70",
       "style": "IPY_MODEL_a4ade5f45c5c4686a4a816b50d271628"
      }
     },
     "ba6d72ece77e4cf8887554dab1a26293": {
      "model_module": "@jupyter-widgets/controls",
      "model_module_version": "1.5.0",
      "model_name": "TextModel",
      "state": {
       "description": "Filename: ",
       "layout": "IPY_MODEL_30ec70d8aed343b0853dd202711174f1",
       "style": "IPY_MODEL_14a4fa9cfb8343179fa3685a6deca17d",
       "value": "screenshot.png"
      }
     },
     "bb06ff4180b7408b8754b7326c69aac9": {
      "model_module": "@jupyter-widgets/output",
      "model_module_version": "1.0.0",
      "model_name": "OutputModel",
      "state": {
       "layout": "IPY_MODEL_173ad80e6236481db95f3228d4669ccc"
      }
     },
     "bb2b634dbc3c4063be0059f620111092": {
      "model_module": "@jupyter-widgets/base",
      "model_module_version": "1.2.0",
      "model_name": "LayoutModel",
      "state": {}
     },
     "bc74a73785c948dd8cc53a519d1bb45c": {
      "model_module": "@jupyter-widgets/controls",
      "model_module_version": "1.5.0",
      "model_name": "SliderStyleModel",
      "state": {
       "description_width": ""
      }
     },
     "bc829d385a8d4fb7b1489ea8a3ad3064": {
      "model_module": "@jupyter-widgets/controls",
      "model_module_version": "1.5.0",
      "model_name": "ButtonStyleModel",
      "state": {}
     },
     "bc90db3a2eb6492db069e7fce97744e2": {
      "model_module": "@jupyter-widgets/controls",
      "model_module_version": "1.5.0",
      "model_name": "TextModel",
      "state": {
       "description": "Filename: ",
       "layout": "IPY_MODEL_f9906450c36f4b548da0d0de87591cf4",
       "style": "IPY_MODEL_9d13eb49af754e3c9417b924ffd46e69",
       "value": "screenshot.png"
      }
     },
     "bcb4ac3b5e2843fa9a1f9b13d0dd0a29": {
      "model_module": "@jupyter-widgets/controls",
      "model_module_version": "1.5.0",
      "model_name": "FloatSliderModel",
      "state": {
       "description": "Charge scale",
       "layout": "IPY_MODEL_597de1b867714d2a9996211edc2aaed8",
       "step": 0.1,
       "style": "IPY_MODEL_83957815b9804ebeb20d9df9540357d7",
       "value": 1
      }
     },
     "bd4d2639273d40d8a84649fae67d393e": {
      "model_module": "@jupyter-widgets/base",
      "model_module_version": "1.2.0",
      "model_name": "LayoutModel",
      "state": {
       "border": "0px solid black"
      }
     },
     "bd8c756aa93148268dae254fdf53d820": {
      "model_module": "@jupyter-widgets/base",
      "model_module_version": "1.2.0",
      "model_name": "LayoutModel",
      "state": {}
     },
     "bea409a73d2e42fc854907e9bf809bd9": {
      "model_module": "@jupyter-widgets/controls",
      "model_module_version": "1.5.0",
      "model_name": "CheckboxModel",
      "state": {
       "description": "Show charge",
       "disabled": false,
       "layout": "IPY_MODEL_95a322e386764d61b7879a2c69afcc71",
       "style": "IPY_MODEL_b0db8e11c50946188b97d836d2232925",
       "value": false
      }
     },
     "bf12c93a90654b219f2180be8f3957df": {
      "model_module": "@jupyter-widgets/controls",
      "model_module_version": "1.5.0",
      "model_name": "LinkModel",
      "state": {
       "source": [
        "IPY_MODEL_0192fe37d3764165a1cb47ca85d87402",
        "value"
       ],
       "target": [
        "IPY_MODEL_5724a5b84f1d41f5855d7ffaa82d9b19",
        "value"
       ]
      }
     },
     "bf4a99e162e44744a1353f47a0861bf8": {
      "model_module": "@jupyter-widgets/base",
      "model_module_version": "1.2.0",
      "model_name": "LayoutModel",
      "state": {}
     },
     "c24579ebf56a4d15b7b33687732d9ba0": {
      "model_module": "@jupyter-widgets/output",
      "model_module_version": "1.0.0",
      "model_name": "OutputModel",
      "state": {
       "layout": "IPY_MODEL_9887f9d92def4e52b7cdc91ed6655b0b"
      }
     },
     "c379f2b87358463698346c479c06fba8": {
      "model_module": "@jupyter-widgets/base",
      "model_module_version": "1.2.0",
      "model_name": "LayoutModel",
      "state": {}
     },
     "c400dbce5d5c4d09a7ecd3fb80aeaac2": {
      "model_module": "@jupyter-widgets/controls",
      "model_module_version": "1.5.0",
      "model_name": "ButtonModel",
      "state": {
       "icon": "compress",
       "layout": "IPY_MODEL_8e61d4de2c9f489397254cec6648292e",
       "style": "IPY_MODEL_468a6b6fd50947a6928acc739269a9a6"
      }
     },
     "c55b77e61ae844a292e7dc798048e875": {
      "model_module": "@jupyter-widgets/base",
      "model_module_version": "1.2.0",
      "model_name": "LayoutModel",
      "state": {}
     },
     "c57f306fbe04427daa5a5c71f2a0c4cb": {
      "model_module": "@jupyter-widgets/controls",
      "model_module_version": "1.5.0",
      "model_name": "DescriptionStyleModel",
      "state": {
       "description_width": ""
      }
     },
     "c7b230c7767b4d8db29b72d1c9107f1c": {
      "model_module": "@jupyter-widgets/controls",
      "model_module_version": "1.5.0",
      "model_name": "CheckboxModel",
      "state": {
       "description": "Show charge",
       "disabled": false,
       "layout": "IPY_MODEL_a749bb8d2fdb4f7f853c669aaf7bf997",
       "style": "IPY_MODEL_d9327264ed8344ffa4607838f8c68973",
       "value": false
      }
     },
     "cb45b61aa0a94c4f8cefa59b56506f72": {
      "model_module": "@jupyter-widgets/controls",
      "model_module_version": "1.5.0",
      "model_name": "CheckboxModel",
      "state": {
       "description": "Show force",
       "disabled": false,
       "layout": "IPY_MODEL_3a8cfd61250c4347b7e6358b3c4d85d1",
       "style": "IPY_MODEL_64ae5fa2b87a4a2384e1896291156706",
       "value": false
      }
     },
     "cc023f24a0c44f3d9e736e4a6451e692": {
      "model_module": "@jupyter-widgets/controls",
      "model_module_version": "1.5.0",
      "model_name": "ButtonStyleModel",
      "state": {}
     },
     "ccf7a6f322f1448197966be286c292be": {
      "model_module": "@jupyter-widgets/controls",
      "model_module_version": "1.5.0",
      "model_name": "VBoxModel",
      "state": {
       "children": [
        "IPY_MODEL_306981b255f74281859e50eb6f4c1d6a",
        "IPY_MODEL_4a66079edae643a6a0923d72789520c2",
        "IPY_MODEL_b10d4d172a9747caadd3939e05f38618",
        "IPY_MODEL_f3425cf5cf294297b7adaf3c8717696e",
        "IPY_MODEL_28f0b4c87101411196a80b708b3b0cdc",
        "IPY_MODEL_9c8bf0e769e64dfca646d4790544ad3c",
        "IPY_MODEL_0156322f9222427caee1e108bee6b073",
        "IPY_MODEL_a1ff2b9db9a0477ab83d1c712b5c0d4c",
        "IPY_MODEL_e6559e07aae64a41add88ef684169e8c",
        "IPY_MODEL_32fef9df975e41019c3c516667e64c97"
       ],
       "layout": "IPY_MODEL_db97d27066a943e9a8875ef482d4e1d8"
      }
     },
     "ce43781c3cb342c78f9fcc018c9f941c": {
      "model_module": "@jupyter-widgets/output",
      "model_module_version": "1.0.0",
      "model_name": "OutputModel",
      "state": {
       "layout": "IPY_MODEL_bd4d2639273d40d8a84649fae67d393e"
      }
     },
     "ce5f91eb8a43407ab8b48b0dd5a97f20": {
      "model_module": "@jupyter-widgets/controls",
      "model_module_version": "1.5.0",
      "model_name": "IntSliderModel",
      "state": {
       "layout": "IPY_MODEL_7ee94c35f11b419d82c22159380f0ecd",
       "max": 0,
       "style": "IPY_MODEL_d47ca68e940f4e3e9d695472c594fb44"
      }
     },
     "d35d037673684639ba6a8bcb85a3c326": {
      "model_module": "@jupyter-widgets/controls",
      "model_module_version": "1.5.0",
      "model_name": "LinkModel",
      "state": {
       "source": [
        "IPY_MODEL_f631bf32df7d4a05abd0a1d606ad7ede",
        "max"
       ],
       "target": [
        "IPY_MODEL_50b087ebe8ce474fb186634060951cc7",
        "max_frame"
       ]
      }
     },
     "d3af1ef7d6984e379e873c3926c320d1": {
      "model_module": "@jupyter-widgets/controls",
      "model_module_version": "1.5.0",
      "model_name": "ButtonModel",
      "state": {
       "description": "Download image",
       "layout": "IPY_MODEL_4c198266a2c64d14b83c913edfa9574c",
       "style": "IPY_MODEL_90a3aebeb5c44c5d93e4f3b269cec929",
       "tooltip": "Download current frame to your local PC"
      }
     },
     "d47ca68e940f4e3e9d695472c594fb44": {
      "model_module": "@jupyter-widgets/controls",
      "model_module_version": "1.5.0",
      "model_name": "SliderStyleModel",
      "state": {
       "description_width": ""
      }
     },
     "d47d22fa86ce4d608accac4d9ea8b41f": {
      "model_module": "@jupyter-widgets/base",
      "model_module_version": "1.2.0",
      "model_name": "LayoutModel",
      "state": {}
     },
     "d65ae1dc6d3948a182b28af05d2bf1fc": {
      "model_module": "@jupyter-widgets/controls",
      "model_module_version": "1.5.0",
      "model_name": "ButtonModel",
      "state": {
       "description": "Download image",
       "layout": "IPY_MODEL_50c4b19c3a274344a1c3ce2e4aa5fb5b",
       "style": "IPY_MODEL_9e15bb59e88d4bdab9299b3713f5ce7e",
       "tooltip": "Download current frame to your local PC"
      }
     },
     "d9327264ed8344ffa4607838f8c68973": {
      "model_module": "@jupyter-widgets/controls",
      "model_module_version": "1.5.0",
      "model_name": "DescriptionStyleModel",
      "state": {
       "description_width": ""
      }
     },
     "dad5ab6ff38642668f44c52ba13c8e94": {
      "model_module": "@jupyter-widgets/controls",
      "model_module_version": "1.5.0",
      "model_name": "LinkModel",
      "state": {
       "source": [
        "IPY_MODEL_6355ea2b24e8467a9a011c9cd3d51447",
        "value"
       ],
       "target": [
        "IPY_MODEL_9660b2e82c1c49c2a314e0e06ab0ef41",
        "frame"
       ]
      }
     },
     "daf052f6c14841ce8c278f250c9935d6": {
      "model_module": "@jupyter-widgets/controls",
      "model_module_version": "1.5.0",
      "model_name": "ButtonStyleModel",
      "state": {}
     },
     "db22b667cc394f7ca5f0882d37c629d7": {
      "model_module": "@jupyter-widgets/controls",
      "model_module_version": "1.5.0",
      "model_name": "ButtonStyleModel",
      "state": {}
     },
     "db930ab2c0624f8fad45e30ba72f4d73": {
      "model_module": "@jupyter-widgets/base",
      "model_module_version": "1.2.0",
      "model_name": "LayoutModel",
      "state": {}
     },
     "db961634cb5848b69d044371334b35c3": {
      "model_module": "@jupyter-widgets/base",
      "model_module_version": "1.2.0",
      "model_name": "LayoutModel",
      "state": {}
     },
     "db97d27066a943e9a8875ef482d4e1d8": {
      "model_module": "@jupyter-widgets/base",
      "model_module_version": "1.2.0",
      "model_name": "LayoutModel",
      "state": {}
     },
     "dc5c3b5bf22f43c4904fd4b246142139": {
      "model_module": "@jupyter-widgets/controls",
      "model_module_version": "1.5.0",
      "model_name": "SliderStyleModel",
      "state": {
       "description_width": ""
      }
     },
     "de1fa072410040299eec4847991734e1": {
      "model_module": "@jupyter-widgets/base",
      "model_module_version": "1.2.0",
      "model_name": "LayoutModel",
      "state": {}
     },
     "e306f196edab43d39e2232892fae203c": {
      "model_module": "@jupyter-widgets/base",
      "model_module_version": "1.2.0",
      "model_name": "LayoutModel",
      "state": {}
     },
     "e40a08fabea341f49f33dc859b09700a": {
      "model_module": "@jupyter-widgets/controls",
      "model_module_version": "1.5.0",
      "model_name": "TextModel",
      "state": {
       "description": "Filename: ",
       "layout": "IPY_MODEL_91352a17122843148c83d4c9c5c50180",
       "style": "IPY_MODEL_f4c9bf0fc3214da3afcc9c19e778d22d",
       "value": "screenshot.png"
      }
     },
     "e6559e07aae64a41add88ef684169e8c": {
      "model_module": "@jupyter-widgets/controls",
      "model_module_version": "1.5.0",
      "model_name": "FloatSliderModel",
      "state": {
       "description": "Charge scale",
       "layout": "IPY_MODEL_7abd79210ae7411ab7529149fa8ab291",
       "step": 0.1,
       "style": "IPY_MODEL_750eb59776b84581a857567ad8f4b007",
       "value": 1
      }
     },
     "e672e49cbb28403c8ce47ba06862e2e9": {
      "model_module": "@jupyter-widgets/controls",
      "model_module_version": "1.5.0",
      "model_name": "SliderStyleModel",
      "state": {
       "description_width": ""
      }
     },
     "e71133bec08e4afc8617ee7b1a3aec75": {
      "model_module": "@jupyter-widgets/base",
      "model_module_version": "1.2.0",
      "model_name": "LayoutModel",
      "state": {}
     },
     "e715632ca5844954b25e9c3433bc2b5a": {
      "model_module": "@jupyter-widgets/controls",
      "model_module_version": "1.5.0",
      "model_name": "FloatSliderModel",
      "state": {
       "description": "Ball size",
       "layout": "IPY_MODEL_83c12f6cc2024d54a5f1109a4b5137cd",
       "max": 1.5,
       "step": 0.01,
       "style": "IPY_MODEL_84034b5a716d43dca15a0208edc65fa9",
       "value": 0.5
      }
     },
     "e719d9917ac84661be7625d19598a7bb": {
      "model_module": "@jupyter-widgets/base",
      "model_module_version": "1.2.0",
      "model_name": "LayoutModel",
      "state": {}
     },
     "e7b3d220846448b49ce2eef482f46c31": {
      "model_module": "@jupyter-widgets/base",
      "model_module_version": "1.2.0",
      "model_name": "LayoutModel",
      "state": {}
     },
     "e7bbfd4b852c467ab7bb8c28f51493ff": {
      "model_module": "@jupyter-widgets/base",
      "model_module_version": "1.2.0",
      "model_name": "LayoutModel",
      "state": {}
     },
     "e9a3011bb2ac457091538cef9eaee6f7": {
      "model_module": "@jupyter-widgets/base",
      "model_module_version": "1.2.0",
      "model_name": "LayoutModel",
      "state": {}
     },
     "eafa7c6cea4e4a31a42a6dafbca61673": {
      "model_module": "@jupyter-widgets/controls",
      "model_module_version": "1.5.0",
      "model_name": "SliderStyleModel",
      "state": {
       "description_width": ""
      }
     },
     "ef836f6259fe4432acfd8daaaf5fa701": {
      "model_module": "@jupyter-widgets/base",
      "model_module_version": "1.2.0",
      "model_name": "LayoutModel",
      "state": {}
     },
     "f1eb0da03a9b4cfeb22e917ee6cb6c23": {
      "model_module": "@jupyter-widgets/base",
      "model_module_version": "1.2.0",
      "model_name": "LayoutModel",
      "state": {}
     },
     "f3425cf5cf294297b7adaf3c8717696e": {
      "model_module": "@jupyter-widgets/controls",
      "model_module_version": "1.5.0",
      "model_name": "TextModel",
      "state": {
       "description": "Filename: ",
       "layout": "IPY_MODEL_ef836f6259fe4432acfd8daaaf5fa701",
       "style": "IPY_MODEL_87d58db2872b49468766065d00d1c746",
       "value": "screenshot.png"
      }
     },
     "f36d8da5906b4151bbdd50e0be884242": {
      "model_module": "@jupyter-widgets/base",
      "model_module_version": "1.2.0",
      "model_name": "LayoutModel",
      "state": {}
     },
     "f39b629fd6854930893a11af31ffd4b6": {
      "model_module": "@jupyter-widgets/controls",
      "model_module_version": "1.5.0",
      "model_name": "FloatSliderModel",
      "state": {
       "description": "Ball size",
       "layout": "IPY_MODEL_35852449cf6c43a0a031deb1f6ee738c",
       "max": 1.5,
       "step": 0.01,
       "style": "IPY_MODEL_043023c377c84a31a4a3087ca1a820a5",
       "value": 0.5
      }
     },
     "f3a9a3341e5d46f9a8569cad75a6a8dd": {
      "model_module": "@jupyter-widgets/base",
      "model_module_version": "1.2.0",
      "model_name": "LayoutModel",
      "state": {}
     },
     "f4c9bf0fc3214da3afcc9c19e778d22d": {
      "model_module": "@jupyter-widgets/controls",
      "model_module_version": "1.5.0",
      "model_name": "DescriptionStyleModel",
      "state": {
       "description_width": ""
      }
     },
     "f4de720eee494ee39da6a562a8d2bb30": {
      "model_module": "@jupyter-widgets/controls",
      "model_module_version": "1.5.0",
      "model_name": "ButtonStyleModel",
      "state": {}
     },
     "f5c95bd544a1457a96ea23963b701d7e": {
      "model_module": "@jupyter-widgets/base",
      "model_module_version": "1.2.0",
      "model_name": "LayoutModel",
      "state": {}
     },
     "f5d4452ec5ea492a8df37e33ce141718": {
      "model_module": "@jupyter-widgets/base",
      "model_module_version": "1.2.0",
      "model_name": "LayoutModel",
      "state": {}
     },
     "f5dee8e892004542a338143727cb1183": {
      "model_module": "@jupyter-widgets/controls",
      "model_module_version": "1.5.0",
      "model_name": "DescriptionStyleModel",
      "state": {
       "description_width": ""
      }
     },
     "f631bf32df7d4a05abd0a1d606ad7ede": {
      "model_module": "@jupyter-widgets/controls",
      "model_module_version": "1.5.0",
      "model_name": "PlayModel",
      "state": {
       "layout": "IPY_MODEL_1e40f47a805149b2a785bbcb35e12db4",
       "max": 0,
       "style": "IPY_MODEL_99e76cf39e0b4626b2635f0ee616985c"
      }
     },
     "f7cae15e2a2c49eeb829669f95c69501": {
      "model_module": "@jupyter-widgets/controls",
      "model_module_version": "1.5.0",
      "model_name": "FloatSliderModel",
      "state": {
       "description": "Force scale",
       "layout": "IPY_MODEL_f1eb0da03a9b4cfeb22e917ee6cb6c23",
       "step": 0.1,
       "style": "IPY_MODEL_897303e2fedb491ab5f8d1fbdff585ec",
       "value": 0.5
      }
     },
     "f7e8c12c47f7438f8eb9928623653435": {
      "model_module": "@jupyter-widgets/controls",
      "model_module_version": "1.5.0",
      "model_name": "ButtonModel",
      "state": {
       "description": "Save image",
       "layout": "IPY_MODEL_779d6f3e3fc04016a09de205d34db4c1",
       "style": "IPY_MODEL_f4de720eee494ee39da6a562a8d2bb30",
       "tooltip": "Save current frame to file.\nCurrently .png and .html are supported.\nIt takes a bit time, please be patient."
      }
     },
     "f8c917cdc2fe4cc09268a663f67f7307": {
      "model_module": "@jupyter-widgets/base",
      "model_module_version": "1.2.0",
      "model_name": "LayoutModel",
      "state": {}
     },
     "f9906450c36f4b548da0d0de87591cf4": {
      "model_module": "@jupyter-widgets/base",
      "model_module_version": "1.2.0",
      "model_name": "LayoutModel",
      "state": {}
     },
     "fa9c7a95db584c1fb222d69ed06f1572": {
      "model_module": "@jupyter-widgets/controls",
      "model_module_version": "1.5.0",
      "model_name": "LinkModel",
      "state": {
       "source": [
        "IPY_MODEL_b380d1f22c914355a7b7ee6b3e3cad56",
        "value"
       ],
       "target": [
        "IPY_MODEL_af1f32a8dcc846ee895c9dfd949c76db",
        "frame"
       ]
      }
     },
     "fb70e9c1be0d47d08ea1a2b55bb701fb": {
      "model_module": "@jupyter-widgets/controls",
      "model_module_version": "1.5.0",
      "model_name": "HBoxModel",
      "state": {
       "children": [
        "IPY_MODEL_01ba6d530c854098a25453abc4d47b5f",
        "IPY_MODEL_9e983ab1029442318cdcaa9276cf89b8"
       ],
       "layout": "IPY_MODEL_e71133bec08e4afc8617ee7b1a3aec75"
      }
     },
     "fba5bbd5c47b4a20a99e6561bcfcf000": {
      "model_module": "@jupyter-widgets/base",
      "model_module_version": "1.2.0",
      "model_name": "LayoutModel",
      "state": {}
     },
     "fbdcc3f7bcff4e54bb7c52339622108c": {
      "model_module": "@jupyter-widgets/controls",
      "model_module_version": "1.5.0",
      "model_name": "ImageModel",
      "state": {
       "layout": "IPY_MODEL_281ec27be28744ae81ca86643216a1e5",
       "width": "900.0"
      }
     },
     "fe06b9645f1d4c00981e351b4dd31c5e": {
      "model_module": "@jupyter-widgets/base",
      "model_module_version": "1.2.0",
      "model_name": "LayoutModel",
      "state": {}
     },
     "fe7cfc01f24f4670b45f8ae27b2a57c1": {
      "model_module": "@jupyter-widgets/base",
      "model_module_version": "1.2.0",
      "model_name": "LayoutModel",
      "state": {}
     }
    },
    "version_major": 2,
    "version_minor": 0
   }
  }
 },
 "nbformat": 4,
 "nbformat_minor": 5
}
