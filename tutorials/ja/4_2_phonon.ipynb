{
 "cells": [
  {
   "cell_type": "markdown",
   "id": "8d33b76b-0e85-4fdd-949b-ccc932486d82",
   "metadata": {},
   "source": [
    "# Phonon"
   ]
  },
  {
   "cell_type": "markdown",
   "id": "fe928b69-32e2-4cb9-b2cb-f669002bb6e2",
   "metadata": {},
   "source": [
    "<a id='section_1'></a>\n",
    "\n",
    "## 1. Introduction\n",
    "\n",
    "### 1.1 フォノン (phonon)とは\n",
    "\n",
    "フォノンは、一言で表すと**周期境界条件をもつ結晶における振動モード**です。\n",
    "\n",
    "詳細の説明に入る前に、Phononを目で見て感覚を掴むため[こちらのサイト](http://henriquemiranda.github.io/phononwebsite/phonon.html)を見てましょう。\n",
    "\n",
    "<figure style=\"width:600px\">\n",
    "    <img src=\"../assets/phonon-0-play-with-phonon.gif\"/>\n",
    "    <figcaption>フォノンのアニメーション表示。<a href=\"http://henriquemiranda.github.io/phononwebsite/phonon.html\">http://henriquemiranda.github.io/phononwebsite/phonon.html</a> より。</figcaption>\n",
    "</figure>\n",
    "\n",
    "上記Websiteへ行く -> 左上の`materials` という表から `Si` を選択 -> 右図の\"フォノン分散図\"から適当に点をクリックしてみましょう。\n",
    "すると、真ん中のシリコン結晶におけるシリコン原子それぞれが周期的な動きをしていることが確認できます。そして、全体として片側から反対側に波が伝わるような動きとなっていることが見て取れます。\n",
    "\n",
    "このような結晶における振動を格子振動と呼びます。格子振動は振動数が非常に大きくなるため、通常は量子力学的な効果を考慮して取り扱われます。格子振動に量子効果を含めたものにはフォノンという名前がついています。ただし、以下の説明では複雑さを避けるため、格子振動とフォノンは特別に用語を区別せずに解説しています。より詳しくは末尾のAppendixや固体物理学の教科書を参考にしてください。\n",
    "\n",
    "波の伝播する方向は**波数ベクトル** $\\vec q$ で表されます。\n",
    "フォノンの解析を行う際に重要な問題は、ある波数ベクトル $\\vec q$ に対し、どのような振動モードが許されているのか、その振動モードにおける原子の振動数がどうなるかを求めることです。\n",
    "\n",
    "フォノンは[準粒子](https://ja.wikipedia.org/wiki/%E6%BA%96%E7%B2%92%E5%AD%90)であり、エネルギー $E$と運動量 $\\mathbf{p}$をもちます。\n",
    "固体中のフォノンは熱物性や音波特性に深い関わりがあります。例えば、フォノンの励起は内部エネルギー $U$の増加に寄与したり、フォノンの輸送は音や熱の伝導を引き起こします。このように、フォノン解析は固体の性質を探る上で重要なシミュレーションツールとなります。"
   ]
  },
  {
   "cell_type": "markdown",
   "id": "afcde4ca-c6fb-43ca-94fb-2b4dca603b44",
   "metadata": {},
   "source": [
    "### 1.2 フォノン振動数の計算方法\n",
    "\n",
    "前章で紹介した振動解析と同様、フォノンも調和振動子近似を用いて計算されます。\n",
    "ただし違いとして、各原子はUnit cellをまたいで向こうにいる原子とも相互作用をします。\n",
    "周期境界条件を考慮して、結晶構造から微小変位をさせた系のポテンシャルエネルギーは以下のように表されます。\n",
    "\n",
    "$$ V(\\mathbf{r}) \\approx V(\\mathbf{r_0}) +　\\frac{1}{2} \\sum_{ij} \\frac{\\partial^2 V(\\mathbf{r_0})}{\\partial r_i^a \\partial r_j^b} \\Delta \\mathbf{r}_i^a \\Delta \\mathbf{r}_j^b $$\n",
    "\n",
    "ここで、$r_i^a$ $a$番目のスーパーセルに属する、$i$番目の原子の座標です。結晶における力定数マトリクス (前章で紹介) は$3NM \\times 3NM$ 行列となります。 $N$ はユニットセルの原子数、 $M$ はユニットセルの数です。 このため、力定数マトリクスはとても大きな行列となります。\n",
    "\n",
    "特定の振動モードにおける、各原子の平衡点からの変位 $u$は次の平面波のような形を持つと仮定します。\n",
    "\n",
    "$$ u(\\vec R, t) = A e^{ \\vec{q} \\vec{R} -i\\omega_{m} t} $$\n",
    "\n",
    "詳細は省きますが、この仮定のもとで実空間における離散フーリエ変換を適用することで、　大きな力定数マトリクスを$3N \\times 3N$のdynamical matrixに変換することができます。\n",
    "Dynamical matrixは波数ベクトル$\\vec q$に依存しており、その固有値と固有ベクトルがフォノンの振動数と振動モードに相当します。\n",
    "詳細な導出については、末尾の[appendix](#section_5.1)を参照ください。\n",
    "\n",
    "次章では、フォノンの計算をMatlantis上で提供しているライブラリである`matlantis-features`を用いて行いながら、フォノンの重要なコンセプトを説明します。"
   ]
  },
  {
   "cell_type": "markdown",
   "id": "c15895c4-065e-40ae-8b5c-f248cd491470",
   "metadata": {},
   "source": [
    "<a id='section_2'></a>\n",
    "\n",
    "## 2. Siでのフォノン計算"
   ]
  },
  {
   "cell_type": "markdown",
   "id": "dfd7305b-8449-44cd-b59e-5013d8ed914b",
   "metadata": {},
   "source": [
    "### 2.1 構造準備\n",
    "\n",
    "ここでは、フォノン計算の例としてシリコン結晶を用います。\n",
    "まずは構造緩和を行います。\n",
    "フォノン分散を計算する時は、その結晶構造の基本単位胞 (primitive cell)を用いることが多いです。セル内を最小原子で構成できるためです。"
   ]
  },
  {
   "cell_type": "code",
   "execution_count": 1,
   "id": "3596c1d9-c563-4515-a67d-527f670dcf98",
   "metadata": {},
   "outputs": [
    {
     "name": "stdout",
     "output_type": "stream",
     "text": [
      "      Step     Time          Energy         fmax\n",
      "BFGS:    0 04:21:16       -9.092463        0.4849\n",
      "BFGS:    1 04:21:16       -9.097616        0.0140\n",
      "BFGS:    2 04:21:16       -9.097620        0.0002\n"
     ]
    },
    {
     "data": {
      "text/plain": [
       "True"
      ]
     },
     "execution_count": 1,
     "metadata": {},
     "output_type": "execute_result"
    }
   ],
   "source": [
    "import numpy as np\n",
    "np.set_printoptions(precision=3)\n",
    "\n",
    "from ase.build import bulk\n",
    "from ase.optimize import BFGS\n",
    "from ase.constraints import ExpCellFilter\n",
    "\n",
    "import pfp_api_client\n",
    "from pfp_api_client.pfp.calculators.ase_calculator import ASECalculator\n",
    "from pfp_api_client.pfp.estimator import Estimator, EstimatorCalcMode\n",
    "\n",
    "estimator = Estimator(calc_mode=EstimatorCalcMode.CRYSTAL, model_version=\"v2.0.0\")\n",
    "calculator = ASECalculator(estimator)\n",
    "atoms = bulk(\"Si\")\n",
    "atoms.calc = calculator\n",
    "\n",
    "exp = ExpCellFilter(atoms)\n",
    "BFGS(exp).run(fmax=0.01)"
   ]
  },
  {
   "cell_type": "markdown",
   "id": "cace8f5d-4b8b-45b5-8418-c7f308054a50",
   "metadata": {},
   "source": [
    "### 2.2 力定数マトリクスの計算\n",
    "\n",
    "振動解析同様、フォノンの振動数計算には力定数マトリクスが必要です。\n",
    "この力定数マトリクスは、`ForceConstantFeature`で計算されます。\n",
    "\n",
    "Siの基本単位胞は2原子が含まれています。\n",
    "この基本単位胞をたくさん繰り返したスーパーセル構造を作成することが精度の良い結果を得るために必要です。\n",
    "力定数マトリクスの各成分 $\\frac{\\partial^2 V(\\mathbf{r_0})}{\\partial r_i^a \\partial r_j^b} $ は、$a$番目のユニットセルの$i$番目の原子と $b$番目のユニットセルの$j$番目の原子との距離で減衰していきますが、スーパーセルが十分大きい場合にのみ力定数マトリクスで無視できないような要素は含まれているとみなせます。\n",
    "\n",
    "本チュートリアルでは、 Si結晶を 10x10x10 に拡張して計算を行います。\n",
    "\n",
    "`matlantis-features`の`ForceConstantFeature`を用いて計算します。"
   ]
  },
  {
   "cell_type": "code",
   "execution_count": 2,
   "id": "cbbccc27-163f-4e46-a35c-9e7dd1769317",
   "metadata": {},
   "outputs": [
    {
     "name": "stdout",
     "output_type": "stream",
     "text": [
      "(1000, 6, 6)\n"
     ]
    }
   ],
   "source": [
    "from matlantis_features.features.phonon import ForceConstantFeature\n",
    "\n",
    "fc = ForceConstantFeature(\n",
    "    supercell = (10,10,10),\n",
    "    delta = 0.1,\n",
    ")\n",
    "force_constant = fc(atoms)\n",
    "print(force_constant.force_constant.shape)"
   ]
  },
  {
   "cell_type": "markdown",
   "id": "fa6c652d-8c6e-4099-b8fc-88ef5d4c7698",
   "metadata": {},
   "source": [
    "計算結果として得られる力定数マトリクス $C$ は 1000x6x6 のshapeを持つtensorとなります。"
   ]
  },
  {
   "cell_type": "code",
   "execution_count": 3,
   "id": "1dda15b5-a7b0-4388-9460-90593111bfd0",
   "metadata": {},
   "outputs": [
    {
     "name": "stdout",
     "output_type": "stream",
     "text": [
      "[[-0.221 -0.215 -0.054  0.005 -0.01   0.051]\n",
      " [-0.215 -0.221 -0.054 -0.01   0.005  0.051]\n",
      " [ 0.054  0.054  0.396  0.051  0.051 -0.2  ]\n",
      " [-3.086 -2.142  2.142 -0.221 -0.215  0.054]\n",
      " [-2.142 -3.086  2.142 -0.215 -0.221  0.054]\n",
      " [ 2.142  2.142 -3.086 -0.054 -0.054  0.396]]\n"
     ]
    }
   ],
   "source": [
    "print(force_constant.force_constant[1])"
   ]
  },
  {
   "cell_type": "markdown",
   "id": "f21f3f5b-bc43-4986-bc30-070f343c7841",
   "metadata": {},
   "source": [
    "`force_constant.force_constant[1]` は 6x6 のtensorです。<br/>\n",
    "これは、1つめと2つめのユニットセルにおける力定数 $C^{1,2}$、すなわち $\\frac{\\partial^2 V(\\mathbf{r_0})}{\\partial r_i^1 \\partial r_j^2} $です。<br/>\n",
    "前章の振動解析同様、力定数 $C^{1,2}$は有限差分法で近似計算されています。\n",
    "\n",
    "$$C^{1,2}[i,j]=\\frac{\\partial^2 V(\\mathbf{r_0})}{\\partial r_i^1 \\partial r_j^2} \\approx \\frac{F(\\mathbf{r_0} + \\Delta r_i^1)_j^2 - F(\\mathbf{r_0})_j^2}{|\\Delta{r_i^1}|} $$\n",
    "\n",
    "今回は、10x10x10 のスーパーセルを用いているため、ユニットセルの組み合わせである1000x1000 の数だけ 6x6 matrix が得られるべきです。\n",
    "しかし、結晶の並進対称性を考慮し、$C^{a,b} = C^{0, b-a}$ となることを利用することで、力定数マトリクスを 1000x6x6 tensorで表すことができます。"
   ]
  },
  {
   "cell_type": "markdown",
   "id": "6ee9de8a-b70a-43ae-835e-50ffff37b4e7",
   "metadata": {},
   "source": [
    "### 2.3 Dynamical matrixの計算\n",
    "\n",
    "分子の振動数は力定数マトリクス$C$の対角化で得られましたが、結晶の振動数は実空間の力定数マトリクスを離散フーリエ変換したdynamical matrix $D_{\\vec q}$ の固有値として得られます。\n",
    "Dynamical matrixへの変換の際に、波数ベクトル $\\vec q$ というパラメータが追加で導入されます。\n",
    "\n",
    "ここでは、`matlantis-features`の`PhononFreqency`を用いて、シリコン結晶の波数ベクトル $\\vec q = [0.1, 0.0, 0.0]$ に対応するdynamical matrix を計算してみます。"
   ]
  },
  {
   "cell_type": "code",
   "execution_count": 4,
   "id": "fcb51a2f-5b69-468c-9f08-924f18d25987",
   "metadata": {},
   "outputs": [
    {
     "name": "stdout",
     "output_type": "stream",
     "text": [
      "Dynamical matrix of q=[0.1, 0.0, 0.0]:\n",
      "[[ 0.437 -0.003 -0.003 -0.413 -0.012 -0.012]\n",
      " [-0.003  0.437  0.003 -0.012 -0.413  0.012]\n",
      " [-0.003  0.003  0.437 -0.012  0.012 -0.413]\n",
      " [-0.413 -0.012 -0.012  0.437 -0.003 -0.003]\n",
      " [-0.012 -0.413  0.012 -0.003  0.437  0.003]\n",
      " [-0.012  0.012 -0.413 -0.003  0.003  0.437]]\n"
     ]
    }
   ],
   "source": [
    "from matlantis_features.features.phonon.utils import PhononFrequency\n",
    "\n",
    "phonon_frequency = PhononFrequency(\n",
    "    force_constant.force_constant, force_constant.supercell, force_constant.unit_cell_atoms\n",
    ")\n",
    "dynamic_matrix = phonon_frequency._dynamic_matrix_q(np.array([0.1, 0.0, 0.0])).real\n",
    "print(\"Dynamical matrix of q=[0.1, 0.0, 0.0]:\")\n",
    "print(dynamic_matrix)"
   ]
  },
  {
   "cell_type": "markdown",
   "id": "6830071f-2148-4af2-9f8d-b7f7cbc0b54e",
   "metadata": {},
   "source": [
    "Dynamical matrixは 6x6 の対称行列となっています。これは、力定数マトリクス $C$ から以下の式の計算により得られています。\n",
    "\n",
    "$$\n",
    "\\tilde{D}_{\\vec{q}}[k\\alpha, k'\\beta] = \\frac{1}{\\sqrt{M_k M_{k'}}} \\tilde{C}(\\vec{q})[k\\alpha, k'\\beta] \n",
    "$$\n",
    "$$ \\tilde{C}_{\\vec{q}}[k\\alpha, k'\\beta] = \\sum_{b} {\\left( \\frac{\\partial ^{2} E}{\\partial{u_{k}^{a\\alpha}} \\partial{u_{k'}^{b\\beta}}} \\right) e^{i\\vec{q}(\\vec{R_b} - \\vec{R_a})}} = \\sum_{b} {C^{0,b}[k\\alpha, k'\\beta] e^{i\\vec{q}(\\vec{R_b} - \\vec{R_a})}}$$\n",
    "\n",
    "その後、この行列を対角化することで固有値・固有ベクトルを得ます。\n",
    "分子の振動解析と似たように、固有値が振動数に対応し、固有ベクトルはそのフォノンモードにおける原子の変位と関連付けられます。\n",
    "式の導出など、詳細は[appendix](#section_5.1)を参照ください。\n",
    "\n",
    "それでは、シリコン結晶の $\\vec q = [0.1, 0.0, 0.0]$ におけるフォノンの振動数を計算してみましょう。"
   ]
  },
  {
   "cell_type": "code",
   "execution_count": 5,
   "id": "ff166964-c536-400c-bc6a-b0f12d6676a3",
   "metadata": {},
   "outputs": [
    {
     "name": "stdout",
     "output_type": "stream",
     "text": [
      "Band 0\n",
      "    Frequency: 5.646 meV\n",
      "    Eigenvector:\n",
      "[[-0.068  0.04  -0.107]\n",
      " [-0.068  0.04  -0.108]]\n",
      "Band 1\n",
      "    Frequency: 5.648 meV\n",
      "    Eigenvector:\n",
      "[[-0.082 -0.099  0.017]\n",
      " [-0.081 -0.098  0.017]]\n",
      "Band 2\n",
      "    Frequency: 10.978 meV\n",
      "    Eigenvector:\n",
      "[[ 0.073 -0.073 -0.073]\n",
      " [ 0.077 -0.077 -0.077]]\n",
      "Band 3\n",
      "    Frequency: 59.794 meV\n",
      "    Eigenvector:\n",
      "[[-0.073  0.072  0.073]\n",
      " [ 0.077 -0.077 -0.077]]\n",
      "Band 4\n",
      "    Frequency: 59.954 meV\n",
      "    Eigenvector:\n",
      "[[-0.005 -0.044  0.039]\n",
      " [ 0.009  0.049 -0.039]]\n",
      "Band 5\n",
      "    Frequency: 59.955 meV\n",
      "    Eigenvector:\n",
      "[[-0.06   0.041 -0.102]\n",
      " [ 0.062 -0.04   0.102]]\n"
     ]
    }
   ],
   "source": [
    "frequency, eigenvector = phonon_frequency._frequency_mode_q(np.array([0.1, 0.0, 0.0]), return_mode=True)\n",
    "for i in range(6):\n",
    "    print(f\"Band {i}\")\n",
    "    print(f\"    Frequency: {frequency[i]:.3f} meV\")\n",
    "    print(f\"    Eigenvector:\")\n",
    "    print(eigenvector[i].real)"
   ]
  },
  {
   "cell_type": "markdown",
   "id": "3540cfb8-7246-407c-a890-f4dde99d05b9",
   "metadata": {},
   "source": [
    "<b>波数ベクトル $\\vec q$</b>\n",
    "\n",
    "フォノンの計算では、波数ベクトル $\\vec q$ が導入されました。\n",
    "この波数ベクトルの物理的な意味は、その振動モードの伝播する方向と関連します。\n",
    "また、理論的に波数ベクトル $\\vec q$ は第一[ブリルアンゾーン](https://ja.wikipedia.org/wiki/%E3%83%96%E3%83%AA%E3%83%A5%E3%82%A2%E3%83%B3%E3%82%BE%E3%83%BC%E3%83%B3) (first Brillouin zone)の中に制限できることが示せます (詳細はappendixを参照)。\n",
    "\n",
    "ここでは、`get_brillouin_zone_3d`関数を使い、シリコン結晶における第一ブリルアンゾーンを可視化してみます。<br/>\n",
    "Wikipedia上の以下の画像と比較してみてください\n",
    "\n",
    "<figure style=\"width:300px\">\n",
    "    <img src=\"https://upload.wikimedia.org/wikipedia/commons/c/c1/Brillouin_Zone_%281st%2C_FCC%29.svg\"/>\n",
    "    <figcaption>対称性ラベルを付した面心立方格子構造(FCC構造)の第一ブリルアンゾーン。<br/>\n",
    "        <a href=\"https://en.wikipedia.org/wiki/Brillouin_zone\">https://en.wikipedia.org/wiki/Brillouin_zone</a> より。\n",
    "    </figcaption>\n",
    "</figure>\n",
    "\n"
   ]
  },
  {
   "cell_type": "code",
   "execution_count": 7,
   "id": "4050f28e-f386-49b5-b737-85351e5753ec",
   "metadata": {},
   "outputs": [
    {
     "data": {
      "application/vnd.plotly.v1+json": {
       "config": {
        "plotlyServerURL": "https://plot.ly"
       },
       "data": [
        {
         "line": {
          "color": "black",
          "width": 2
         },
         "mode": "lines",
         "showlegend": false,
         "type": "scatter3d",
         "x": [
          0.09142663535741598,
          6.34317821522818e-09,
          -0.09142664458004036,
          -1.55658026532304e-08,
          0.09142663535741598
         ],
         "y": [
          -0.1828533125532546,
          -0.18285331088909398,
          -0.182853307941943,
          -0.1828533096061036,
          -0.1828533125532546
         ],
         "z": [
          7.907026291615947e-09,
          0.0914266423150014,
          -1.0473006129904502e-08,
          -0.09142664488098122,
          7.907026291615947e-09
         ]
        },
        {
         "line": {
          "color": "black",
          "width": 2
         },
         "mode": "lines",
         "showlegend": false,
         "type": "scatter3d",
         "x": [
          -0.18285330227833202,
          -0.1828533025080559,
          -0.18285330768814037,
          -0.18285330745841655,
          -0.18285330227833202
         ],
         "y": [
          -0.09142665327508065,
          -1.1661739661253755e-08,
          0.09142664245546397,
          8.421229824584486e-10,
          -0.09142665327508065
         ],
         "z": [
          -9.038568947361249e-09,
          -0.09142665907707742,
          -8.621513780671108e-10,
          0.0914266491763571,
          -9.038568947361249e-09
         ]
        },
        {
         "line": {
          "color": "black",
          "width": 2
         },
         "mode": "lines",
         "showlegend": false,
         "type": "scatter3d",
         "x": [
          -1.579552652878174e-08,
          -1.55658026532304e-08,
          -0.09142664458004036,
          -0.18285330227833202,
          -0.1828533025080559,
          -0.09142667349381822,
          -1.579552652878174e-08
         ],
         "y": [
          -0.09142666799276261,
          -0.1828533096061036,
          -0.182853307941943,
          -0.09142665327508065,
          -1.1661739661253755e-08,
          -1.3325900315307633e-08,
          -0.09142666799276261
         ],
         "z": [
          -0.18285329491948968,
          -0.09142664488098122,
          -1.0473006129904502e-08,
          -9.038568947361249e-09,
          -0.09142665907707742,
          -0.18285329348505247,
          -0.18285329491948968
         ]
        },
        {
         "line": {
          "color": "black",
          "width": 2
         },
         "mode": "lines",
         "showlegend": false,
         "type": "scatter3d",
         "x": [
          -0.18285330227833202,
          -0.09142664458004036,
          6.34317821522818e-09,
          1.1630937698929769e-09,
          -0.09142665653519795,
          -0.18285330745841655,
          -0.18285330227833202
         ],
         "y": [
          -0.09142665327508065,
          -0.182853307941943,
          -0.18285331088909398,
          -0.09142665677189028,
          -2.1050279637417525e-09,
          8.421229824584486e-10,
          -0.09142665327508065
         ],
         "z": [
          -9.038568947361249e-09,
          -1.0473006129904502e-08,
          0.0914266423150014,
          0.18285330052992738,
          0.18285330196436458,
          0.0914266491763571,
          -9.038568947361249e-09
         ]
        },
        {
         "line": {
          "color": "black",
          "width": 2
         },
         "mode": "lines",
         "showlegend": false,
         "type": "scatter3d",
         "x": [
          -1.579552652878174e-08,
          -0.09142667349381822,
          -1.1630937879480996e-09,
          0.09142665653519794,
          -1.579552652878174e-08
         ],
         "y": [
          -0.09142666799276261,
          -1.3325900315307633e-08,
          0.09142665677189031,
          2.1050280130108234e-09,
          -0.09142666799276261
         ],
         "z": [
          -0.18285329491948968,
          -0.18285329348505247,
          -0.18285330052992738,
          -0.18285330196436456,
          -0.18285329491948968
         ]
        },
        {
         "line": {
          "color": "black",
          "width": 2
         },
         "mode": "lines",
         "showlegend": false,
         "type": "scatter3d",
         "x": [
          -1.579552652878174e-08,
          -1.55658026532304e-08,
          0.09142663535741598,
          0.18285330768814034,
          0.18285330745841652,
          0.09142665653519794,
          -1.579552652878174e-08
         ],
         "y": [
          -0.09142666799276261,
          -0.1828533096061036,
          -0.1828533125532546,
          -0.09142664245546397,
          -8.421229616473951e-10,
          2.1050280130108234e-09,
          -0.09142666799276261
         ],
         "z": [
          -0.18285329491948968,
          -0.09142664488098122,
          7.907026291615947e-09,
          8.621513999214228e-10,
          -0.09142664917635707,
          -0.18285330196436456,
          -0.18285329491948968
         ]
        },
        {
         "line": {
          "color": "black",
          "width": 2
         },
         "mode": "lines",
         "showlegend": false,
         "type": "scatter3d",
         "x": [
          -0.1828533025080559,
          -0.09142667349381822,
          -1.1630937879480996e-09,
          -6.34317821522818e-09,
          -0.09142663535741598,
          -0.18285330768814037,
          -0.1828533025080559
         ],
         "y": [
          -1.1661739661253755e-08,
          -1.3325900315307633e-08,
          0.09142665677189031,
          0.18285331088909398,
          0.1828533125532546,
          0.09142664245546397,
          -1.1661739661253755e-08
         ],
         "z": [
          -0.09142665907707742,
          -0.18285329348505247,
          -0.18285330052992738,
          -0.0914266423150014,
          -7.907026291615947e-09,
          -8.621513780671108e-10,
          -0.09142665907707742
         ]
        },
        {
         "line": {
          "color": "black",
          "width": 2
         },
         "mode": "lines",
         "showlegend": false,
         "type": "scatter3d",
         "x": [
          0.18285330227833207,
          0.09142664458004039,
          1.556580264683305e-08,
          1.579552649788596e-08,
          0.09142667349381822,
          0.18285330250805593,
          0.18285330227833207
         ],
         "y": [
          0.0914266532750807,
          0.18285330794194296,
          0.18285330960610358,
          0.09142666799276263,
          1.3325900327654239e-08,
          1.1661739657276016e-08,
          0.0914266532750807
         ],
         "z": [
          9.038568948849246e-09,
          1.0473006128997042e-08,
          0.09142664488098128,
          0.1828532949194897,
          0.1828532934850525,
          0.09142665907707745,
          9.038568948849246e-09
         ]
        },
        {
         "line": {
          "color": "black",
          "width": 2
         },
         "mode": "lines",
         "showlegend": false,
         "type": "scatter3d",
         "x": [
          -6.34317821522818e-09,
          -0.09142663535741598,
          1.556580264683305e-08,
          0.09142664458004039,
          -6.34317821522818e-09
         ],
         "y": [
          0.18285331088909398,
          0.1828533125532546,
          0.18285330960610358,
          0.18285330794194296,
          0.18285331088909398
         ],
         "z": [
          -0.0914266423150014,
          -7.907026291615947e-09,
          0.09142664488098128,
          1.0473006128997042e-08,
          -0.0914266423150014
         ]
        },
        {
         "line": {
          "color": "black",
          "width": 2
         },
         "mode": "lines",
         "showlegend": false,
         "type": "scatter3d",
         "x": [
          0.18285330745841652,
          0.18285330768814034,
          0.18285330250805593,
          0.18285330227833207,
          0.18285330745841652
         ],
         "y": [
          -8.421229616473951e-10,
          -0.09142664245546397,
          1.1661739657276016e-08,
          0.0914266532750807,
          -8.421229616473951e-10
         ],
         "z": [
          -0.09142664917635707,
          8.621513999214228e-10,
          0.09142665907707745,
          9.038568948849246e-09,
          -0.09142664917635707
         ]
        },
        {
         "line": {
          "color": "black",
          "width": 2
         },
         "mode": "lines",
         "showlegend": false,
         "type": "scatter3d",
         "x": [
          0.09142665653519794,
          0.18285330745841652,
          0.18285330227833207,
          0.09142664458004039,
          -6.34317821522818e-09,
          -1.1630937879480996e-09,
          0.09142665653519794
         ],
         "y": [
          2.1050280130108234e-09,
          -8.421229616473951e-10,
          0.0914266532750807,
          0.18285330794194296,
          0.18285331088909398,
          0.09142665677189031,
          2.1050280130108234e-09
         ],
         "z": [
          -0.18285330196436456,
          -0.09142664917635707,
          9.038568948849246e-09,
          1.0473006128997042e-08,
          -0.0914266423150014,
          -0.18285330052992738,
          -0.18285330196436456
         ]
        },
        {
         "line": {
          "color": "black",
          "width": 2
         },
         "mode": "lines",
         "showlegend": false,
         "type": "scatter3d",
         "x": [
          0.09142663535741598,
          0.18285330768814034,
          0.18285330250805593,
          0.09142667349381822,
          1.1630937698929769e-09,
          6.34317821522818e-09,
          0.09142663535741598
         ],
         "y": [
          -0.1828533125532546,
          -0.09142664245546397,
          1.1661739657276016e-08,
          1.3325900327654239e-08,
          -0.09142665677189028,
          -0.18285331088909398,
          -0.1828533125532546
         ],
         "z": [
          7.907026291615947e-09,
          8.621513999214228e-10,
          0.09142665907707745,
          0.1828532934850525,
          0.18285330052992738,
          0.0914266423150014,
          7.907026291615947e-09
         ]
        },
        {
         "line": {
          "color": "black",
          "width": 2
         },
         "mode": "lines",
         "showlegend": false,
         "type": "scatter3d",
         "x": [
          -0.09142665653519795,
          1.1630937698929769e-09,
          0.09142667349381822,
          1.579552649788596e-08,
          -0.09142665653519795
         ],
         "y": [
          -2.1050279637417525e-09,
          -0.09142665677189028,
          1.3325900327654239e-08,
          0.09142666799276263,
          -2.1050279637417525e-09
         ],
         "z": [
          0.18285330196436458,
          0.18285330052992738,
          0.1828532934850525,
          0.1828532949194897,
          0.18285330196436458
         ]
        },
        {
         "line": {
          "color": "black",
          "width": 2
         },
         "mode": "lines",
         "showlegend": false,
         "type": "scatter3d",
         "x": [
          -0.09142665653519795,
          -0.18285330745841655,
          -0.18285330768814037,
          -0.09142663535741598,
          1.556580264683305e-08,
          1.579552649788596e-08,
          -0.09142665653519795
         ],
         "y": [
          -2.1050279637417525e-09,
          8.421229824584486e-10,
          0.09142664245546397,
          0.1828533125532546,
          0.18285330960610358,
          0.09142666799276263,
          -2.1050279637417525e-09
         ],
         "z": [
          0.18285330196436458,
          0.0914266491763571,
          -8.621513780671108e-10,
          -7.907026291615947e-09,
          0.09142664488098128,
          0.1828532949194897,
          0.18285330196436458
         ]
        },
        {
         "line": {
          "color": "red",
          "width": 2
         },
         "mode": "lines",
         "showlegend": false,
         "type": "scatter3d",
         "x": [
          0,
          -0.12799730432482967
         ],
         "y": [
          0,
          0.12799731619586385
         ],
         "z": [
          0,
          0.1279973107806668
         ]
        },
        {
         "line": {
          "color": "red",
          "width": 2
         },
         "mode": "lines",
         "showlegend": false,
         "type": "scatter3d",
         "x": [
          0,
          0.1279973173137586
         ],
         "y": [
          0,
          -0.12799730945914797
         ],
         "z": [
          0,
          0.12799731703287967
         ]
        },
        {
         "line": {
          "color": "red",
          "width": 2
         },
         "mode": "lines",
         "showlegend": false,
         "type": "scatter3d",
         "x": [
          0,
          0.12799730584013683
         ],
         "y": [
          0,
          0.12799731097445513
         ],
         "z": [
          0,
          -0.1279973040439509
         ]
        },
        {
         "marker": {
          "color": "green",
          "size": 5
         },
         "mode": "markers",
         "showlegend": false,
         "text": [
          "G [0 0 0]",
          "K [0.375 0.375 0.75 ]",
          "L [0.5 0.5 0.5]",
          "U [0.625 0.25  0.625]",
          "W [0.5  0.25 0.75]",
          "X [0.5 0.  0.5]"
         ],
         "type": "scatter3d",
         "x": [
          0,
          0.13713997750135853,
          0.09142665630647555,
          0.04571332896500946,
          0.09142665220875348,
          1.0823622553779444e-09
         ],
         "y": [
          0,
          0.137139979653014,
          0.0914266555079793,
          0.18285330659523197,
          0.18285330566283756,
          0.18285330512165643
         ],
         "z": [
          0,
          1.0567309666198454e-08,
          0.09142665983542542,
          0.04571333352666766,
          9.450843080349713e-09,
          4.811939943727417e-09
         ]
        }
       ],
       "layout": {
        "height": 500,
        "scene": {
         "aspectmode": "auto",
         "aspectratio": {
          "x": 1.0000000015653014,
          "y": 1.0000000281719532,
          "z": 0.9999999702627461
         },
         "xaxis": {
          "type": "linear",
          "visible": false
         },
         "yaxis": {
          "type": "linear",
          "visible": false
         },
         "zaxis": {
          "type": "linear",
          "visible": false
         }
        },
        "template": {
         "data": {
          "bar": [
           {
            "error_x": {
             "color": "#2a3f5f"
            },
            "error_y": {
             "color": "#2a3f5f"
            },
            "marker": {
             "line": {
              "color": "#E5ECF6",
              "width": 0.5
             },
             "pattern": {
              "fillmode": "overlay",
              "size": 10,
              "solidity": 0.2
             }
            },
            "type": "bar"
           }
          ],
          "barpolar": [
           {
            "marker": {
             "line": {
              "color": "#E5ECF6",
              "width": 0.5
             },
             "pattern": {
              "fillmode": "overlay",
              "size": 10,
              "solidity": 0.2
             }
            },
            "type": "barpolar"
           }
          ],
          "carpet": [
           {
            "aaxis": {
             "endlinecolor": "#2a3f5f",
             "gridcolor": "white",
             "linecolor": "white",
             "minorgridcolor": "white",
             "startlinecolor": "#2a3f5f"
            },
            "baxis": {
             "endlinecolor": "#2a3f5f",
             "gridcolor": "white",
             "linecolor": "white",
             "minorgridcolor": "white",
             "startlinecolor": "#2a3f5f"
            },
            "type": "carpet"
           }
          ],
          "choropleth": [
           {
            "colorbar": {
             "outlinewidth": 0,
             "ticks": ""
            },
            "type": "choropleth"
           }
          ],
          "contour": [
           {
            "colorbar": {
             "outlinewidth": 0,
             "ticks": ""
            },
            "colorscale": [
             [
              0,
              "#0d0887"
             ],
             [
              0.1111111111111111,
              "#46039f"
             ],
             [
              0.2222222222222222,
              "#7201a8"
             ],
             [
              0.3333333333333333,
              "#9c179e"
             ],
             [
              0.4444444444444444,
              "#bd3786"
             ],
             [
              0.5555555555555556,
              "#d8576b"
             ],
             [
              0.6666666666666666,
              "#ed7953"
             ],
             [
              0.7777777777777778,
              "#fb9f3a"
             ],
             [
              0.8888888888888888,
              "#fdca26"
             ],
             [
              1,
              "#f0f921"
             ]
            ],
            "type": "contour"
           }
          ],
          "contourcarpet": [
           {
            "colorbar": {
             "outlinewidth": 0,
             "ticks": ""
            },
            "type": "contourcarpet"
           }
          ],
          "heatmap": [
           {
            "colorbar": {
             "outlinewidth": 0,
             "ticks": ""
            },
            "colorscale": [
             [
              0,
              "#0d0887"
             ],
             [
              0.1111111111111111,
              "#46039f"
             ],
             [
              0.2222222222222222,
              "#7201a8"
             ],
             [
              0.3333333333333333,
              "#9c179e"
             ],
             [
              0.4444444444444444,
              "#bd3786"
             ],
             [
              0.5555555555555556,
              "#d8576b"
             ],
             [
              0.6666666666666666,
              "#ed7953"
             ],
             [
              0.7777777777777778,
              "#fb9f3a"
             ],
             [
              0.8888888888888888,
              "#fdca26"
             ],
             [
              1,
              "#f0f921"
             ]
            ],
            "type": "heatmap"
           }
          ],
          "heatmapgl": [
           {
            "colorbar": {
             "outlinewidth": 0,
             "ticks": ""
            },
            "colorscale": [
             [
              0,
              "#0d0887"
             ],
             [
              0.1111111111111111,
              "#46039f"
             ],
             [
              0.2222222222222222,
              "#7201a8"
             ],
             [
              0.3333333333333333,
              "#9c179e"
             ],
             [
              0.4444444444444444,
              "#bd3786"
             ],
             [
              0.5555555555555556,
              "#d8576b"
             ],
             [
              0.6666666666666666,
              "#ed7953"
             ],
             [
              0.7777777777777778,
              "#fb9f3a"
             ],
             [
              0.8888888888888888,
              "#fdca26"
             ],
             [
              1,
              "#f0f921"
             ]
            ],
            "type": "heatmapgl"
           }
          ],
          "histogram": [
           {
            "marker": {
             "pattern": {
              "fillmode": "overlay",
              "size": 10,
              "solidity": 0.2
             }
            },
            "type": "histogram"
           }
          ],
          "histogram2d": [
           {
            "colorbar": {
             "outlinewidth": 0,
             "ticks": ""
            },
            "colorscale": [
             [
              0,
              "#0d0887"
             ],
             [
              0.1111111111111111,
              "#46039f"
             ],
             [
              0.2222222222222222,
              "#7201a8"
             ],
             [
              0.3333333333333333,
              "#9c179e"
             ],
             [
              0.4444444444444444,
              "#bd3786"
             ],
             [
              0.5555555555555556,
              "#d8576b"
             ],
             [
              0.6666666666666666,
              "#ed7953"
             ],
             [
              0.7777777777777778,
              "#fb9f3a"
             ],
             [
              0.8888888888888888,
              "#fdca26"
             ],
             [
              1,
              "#f0f921"
             ]
            ],
            "type": "histogram2d"
           }
          ],
          "histogram2dcontour": [
           {
            "colorbar": {
             "outlinewidth": 0,
             "ticks": ""
            },
            "colorscale": [
             [
              0,
              "#0d0887"
             ],
             [
              0.1111111111111111,
              "#46039f"
             ],
             [
              0.2222222222222222,
              "#7201a8"
             ],
             [
              0.3333333333333333,
              "#9c179e"
             ],
             [
              0.4444444444444444,
              "#bd3786"
             ],
             [
              0.5555555555555556,
              "#d8576b"
             ],
             [
              0.6666666666666666,
              "#ed7953"
             ],
             [
              0.7777777777777778,
              "#fb9f3a"
             ],
             [
              0.8888888888888888,
              "#fdca26"
             ],
             [
              1,
              "#f0f921"
             ]
            ],
            "type": "histogram2dcontour"
           }
          ],
          "mesh3d": [
           {
            "colorbar": {
             "outlinewidth": 0,
             "ticks": ""
            },
            "type": "mesh3d"
           }
          ],
          "parcoords": [
           {
            "line": {
             "colorbar": {
              "outlinewidth": 0,
              "ticks": ""
             }
            },
            "type": "parcoords"
           }
          ],
          "pie": [
           {
            "automargin": true,
            "type": "pie"
           }
          ],
          "scatter": [
           {
            "marker": {
             "colorbar": {
              "outlinewidth": 0,
              "ticks": ""
             }
            },
            "type": "scatter"
           }
          ],
          "scatter3d": [
           {
            "line": {
             "colorbar": {
              "outlinewidth": 0,
              "ticks": ""
             }
            },
            "marker": {
             "colorbar": {
              "outlinewidth": 0,
              "ticks": ""
             }
            },
            "type": "scatter3d"
           }
          ],
          "scattercarpet": [
           {
            "marker": {
             "colorbar": {
              "outlinewidth": 0,
              "ticks": ""
             }
            },
            "type": "scattercarpet"
           }
          ],
          "scattergeo": [
           {
            "marker": {
             "colorbar": {
              "outlinewidth": 0,
              "ticks": ""
             }
            },
            "type": "scattergeo"
           }
          ],
          "scattergl": [
           {
            "marker": {
             "colorbar": {
              "outlinewidth": 0,
              "ticks": ""
             }
            },
            "type": "scattergl"
           }
          ],
          "scattermapbox": [
           {
            "marker": {
             "colorbar": {
              "outlinewidth": 0,
              "ticks": ""
             }
            },
            "type": "scattermapbox"
           }
          ],
          "scatterpolar": [
           {
            "marker": {
             "colorbar": {
              "outlinewidth": 0,
              "ticks": ""
             }
            },
            "type": "scatterpolar"
           }
          ],
          "scatterpolargl": [
           {
            "marker": {
             "colorbar": {
              "outlinewidth": 0,
              "ticks": ""
             }
            },
            "type": "scatterpolargl"
           }
          ],
          "scatterternary": [
           {
            "marker": {
             "colorbar": {
              "outlinewidth": 0,
              "ticks": ""
             }
            },
            "type": "scatterternary"
           }
          ],
          "surface": [
           {
            "colorbar": {
             "outlinewidth": 0,
             "ticks": ""
            },
            "colorscale": [
             [
              0,
              "#0d0887"
             ],
             [
              0.1111111111111111,
              "#46039f"
             ],
             [
              0.2222222222222222,
              "#7201a8"
             ],
             [
              0.3333333333333333,
              "#9c179e"
             ],
             [
              0.4444444444444444,
              "#bd3786"
             ],
             [
              0.5555555555555556,
              "#d8576b"
             ],
             [
              0.6666666666666666,
              "#ed7953"
             ],
             [
              0.7777777777777778,
              "#fb9f3a"
             ],
             [
              0.8888888888888888,
              "#fdca26"
             ],
             [
              1,
              "#f0f921"
             ]
            ],
            "type": "surface"
           }
          ],
          "table": [
           {
            "cells": {
             "fill": {
              "color": "#EBF0F8"
             },
             "line": {
              "color": "white"
             }
            },
            "header": {
             "fill": {
              "color": "#C8D4E3"
             },
             "line": {
              "color": "white"
             }
            },
            "type": "table"
           }
          ]
         },
         "layout": {
          "annotationdefaults": {
           "arrowcolor": "#2a3f5f",
           "arrowhead": 0,
           "arrowwidth": 1
          },
          "autotypenumbers": "strict",
          "coloraxis": {
           "colorbar": {
            "outlinewidth": 0,
            "ticks": ""
           }
          },
          "colorscale": {
           "diverging": [
            [
             0,
             "#8e0152"
            ],
            [
             0.1,
             "#c51b7d"
            ],
            [
             0.2,
             "#de77ae"
            ],
            [
             0.3,
             "#f1b6da"
            ],
            [
             0.4,
             "#fde0ef"
            ],
            [
             0.5,
             "#f7f7f7"
            ],
            [
             0.6,
             "#e6f5d0"
            ],
            [
             0.7,
             "#b8e186"
            ],
            [
             0.8,
             "#7fbc41"
            ],
            [
             0.9,
             "#4d9221"
            ],
            [
             1,
             "#276419"
            ]
           ],
           "sequential": [
            [
             0,
             "#0d0887"
            ],
            [
             0.1111111111111111,
             "#46039f"
            ],
            [
             0.2222222222222222,
             "#7201a8"
            ],
            [
             0.3333333333333333,
             "#9c179e"
            ],
            [
             0.4444444444444444,
             "#bd3786"
            ],
            [
             0.5555555555555556,
             "#d8576b"
            ],
            [
             0.6666666666666666,
             "#ed7953"
            ],
            [
             0.7777777777777778,
             "#fb9f3a"
            ],
            [
             0.8888888888888888,
             "#fdca26"
            ],
            [
             1,
             "#f0f921"
            ]
           ],
           "sequentialminus": [
            [
             0,
             "#0d0887"
            ],
            [
             0.1111111111111111,
             "#46039f"
            ],
            [
             0.2222222222222222,
             "#7201a8"
            ],
            [
             0.3333333333333333,
             "#9c179e"
            ],
            [
             0.4444444444444444,
             "#bd3786"
            ],
            [
             0.5555555555555556,
             "#d8576b"
            ],
            [
             0.6666666666666666,
             "#ed7953"
            ],
            [
             0.7777777777777778,
             "#fb9f3a"
            ],
            [
             0.8888888888888888,
             "#fdca26"
            ],
            [
             1,
             "#f0f921"
            ]
           ]
          },
          "colorway": [
           "#636efa",
           "#EF553B",
           "#00cc96",
           "#ab63fa",
           "#FFA15A",
           "#19d3f3",
           "#FF6692",
           "#B6E880",
           "#FF97FF",
           "#FECB52"
          ],
          "font": {
           "color": "#2a3f5f"
          },
          "geo": {
           "bgcolor": "white",
           "lakecolor": "white",
           "landcolor": "#E5ECF6",
           "showlakes": true,
           "showland": true,
           "subunitcolor": "white"
          },
          "hoverlabel": {
           "align": "left"
          },
          "hovermode": "closest",
          "mapbox": {
           "style": "light"
          },
          "paper_bgcolor": "white",
          "plot_bgcolor": "#E5ECF6",
          "polar": {
           "angularaxis": {
            "gridcolor": "white",
            "linecolor": "white",
            "ticks": ""
           },
           "bgcolor": "#E5ECF6",
           "radialaxis": {
            "gridcolor": "white",
            "linecolor": "white",
            "ticks": ""
           }
          },
          "scene": {
           "xaxis": {
            "backgroundcolor": "#E5ECF6",
            "gridcolor": "white",
            "gridwidth": 2,
            "linecolor": "white",
            "showbackground": true,
            "ticks": "",
            "zerolinecolor": "white"
           },
           "yaxis": {
            "backgroundcolor": "#E5ECF6",
            "gridcolor": "white",
            "gridwidth": 2,
            "linecolor": "white",
            "showbackground": true,
            "ticks": "",
            "zerolinecolor": "white"
           },
           "zaxis": {
            "backgroundcolor": "#E5ECF6",
            "gridcolor": "white",
            "gridwidth": 2,
            "linecolor": "white",
            "showbackground": true,
            "ticks": "",
            "zerolinecolor": "white"
           }
          },
          "shapedefaults": {
           "line": {
            "color": "#2a3f5f"
           }
          },
          "ternary": {
           "aaxis": {
            "gridcolor": "white",
            "linecolor": "white",
            "ticks": ""
           },
           "baxis": {
            "gridcolor": "white",
            "linecolor": "white",
            "ticks": ""
           },
           "bgcolor": "#E5ECF6",
           "caxis": {
            "gridcolor": "white",
            "linecolor": "white",
            "ticks": ""
           }
          },
          "title": {
           "x": 0.05
          },
          "xaxis": {
           "automargin": true,
           "gridcolor": "white",
           "linecolor": "white",
           "ticks": "",
           "title": {
            "standoff": 15
           },
           "zerolinecolor": "white",
           "zerolinewidth": 2
          },
          "yaxis": {
           "automargin": true,
           "gridcolor": "white",
           "linecolor": "white",
           "ticks": "",
           "title": {
            "standoff": 15
           },
           "zerolinecolor": "white",
           "zerolinewidth": 2
          }
         }
        },
        "width": 600
       }
      },
      "image/png": "[encoded data removed]",
      "text/html": [
       "<div>                            <div id=\"331416c8-8733-4203-89c2-7a4cef337ce4\" class=\"plotly-graph-div\" style=\"height:500px; width:600px;\"></div>            <script type=\"text/javascript\">                require([\"plotly\"], function(Plotly) {                    window.PLOTLYENV=window.PLOTLYENV || {};                                    if (document.getElementById(\"331416c8-8733-4203-89c2-7a4cef337ce4\")) {                    Plotly.newPlot(                        \"331416c8-8733-4203-89c2-7a4cef337ce4\",                        [{\"line\":{\"color\":\"black\",\"width\":2},\"mode\":\"lines\",\"showlegend\":false,\"type\":\"scatter3d\",\"x\":[0.09142663535741598,6.34317821522818e-9,-0.09142664458004036,-1.55658026532304e-8,0.09142663535741598],\"y\":[-0.1828533125532546,-0.18285331088909398,-0.182853307941943,-0.1828533096061036,-0.1828533125532546],\"z\":[7.907026291615947e-9,0.0914266423150014,-1.0473006129904502e-8,-0.09142664488098122,7.907026291615947e-9]},{\"line\":{\"color\":\"black\",\"width\":2},\"mode\":\"lines\",\"showlegend\":false,\"type\":\"scatter3d\",\"x\":[-0.18285330227833202,-0.1828533025080559,-0.18285330768814037,-0.18285330745841655,-0.18285330227833202],\"y\":[-0.09142665327508065,-1.1661739661253755e-8,0.09142664245546397,8.421229824584486e-10,-0.09142665327508065],\"z\":[-9.038568947361249e-9,-0.09142665907707742,-8.621513780671108e-10,0.0914266491763571,-9.038568947361249e-9]},{\"line\":{\"color\":\"black\",\"width\":2},\"mode\":\"lines\",\"showlegend\":false,\"type\":\"scatter3d\",\"x\":[-1.579552652878174e-8,-1.55658026532304e-8,-0.09142664458004036,-0.18285330227833202,-0.1828533025080559,-0.09142667349381822,-1.579552652878174e-8],\"y\":[-0.09142666799276261,-0.1828533096061036,-0.182853307941943,-0.09142665327508065,-1.1661739661253755e-8,-1.3325900315307633e-8,-0.09142666799276261],\"z\":[-0.18285329491948968,-0.09142664488098122,-1.0473006129904502e-8,-9.038568947361249e-9,-0.09142665907707742,-0.18285329348505247,-0.18285329491948968]},{\"line\":{\"color\":\"black\",\"width\":2},\"mode\":\"lines\",\"showlegend\":false,\"type\":\"scatter3d\",\"x\":[-0.18285330227833202,-0.09142664458004036,6.34317821522818e-9,1.1630937698929769e-9,-0.09142665653519795,-0.18285330745841655,-0.18285330227833202],\"y\":[-0.09142665327508065,-0.182853307941943,-0.18285331088909398,-0.09142665677189028,-2.1050279637417525e-9,8.421229824584486e-10,-0.09142665327508065],\"z\":[-9.038568947361249e-9,-1.0473006129904502e-8,0.0914266423150014,0.18285330052992738,0.18285330196436458,0.0914266491763571,-9.038568947361249e-9]},{\"line\":{\"color\":\"black\",\"width\":2},\"mode\":\"lines\",\"showlegend\":false,\"type\":\"scatter3d\",\"x\":[-1.579552652878174e-8,-0.09142667349381822,-1.1630937879480996e-9,0.09142665653519794,-1.579552652878174e-8],\"y\":[-0.09142666799276261,-1.3325900315307633e-8,0.09142665677189031,2.1050280130108234e-9,-0.09142666799276261],\"z\":[-0.18285329491948968,-0.18285329348505247,-0.18285330052992738,-0.18285330196436456,-0.18285329491948968]},{\"line\":{\"color\":\"black\",\"width\":2},\"mode\":\"lines\",\"showlegend\":false,\"type\":\"scatter3d\",\"x\":[-1.579552652878174e-8,-1.55658026532304e-8,0.09142663535741598,0.18285330768814034,0.18285330745841652,0.09142665653519794,-1.579552652878174e-8],\"y\":[-0.09142666799276261,-0.1828533096061036,-0.1828533125532546,-0.09142664245546397,-8.421229616473951e-10,2.1050280130108234e-9,-0.09142666799276261],\"z\":[-0.18285329491948968,-0.09142664488098122,7.907026291615947e-9,8.621513999214228e-10,-0.09142664917635707,-0.18285330196436456,-0.18285329491948968]},{\"line\":{\"color\":\"black\",\"width\":2},\"mode\":\"lines\",\"showlegend\":false,\"type\":\"scatter3d\",\"x\":[-0.1828533025080559,-0.09142667349381822,-1.1630937879480996e-9,-6.34317821522818e-9,-0.09142663535741598,-0.18285330768814037,-0.1828533025080559],\"y\":[-1.1661739661253755e-8,-1.3325900315307633e-8,0.09142665677189031,0.18285331088909398,0.1828533125532546,0.09142664245546397,-1.1661739661253755e-8],\"z\":[-0.09142665907707742,-0.18285329348505247,-0.18285330052992738,-0.0914266423150014,-7.907026291615947e-9,-8.621513780671108e-10,-0.09142665907707742]},{\"line\":{\"color\":\"black\",\"width\":2},\"mode\":\"lines\",\"showlegend\":false,\"type\":\"scatter3d\",\"x\":[0.18285330227833207,0.09142664458004039,1.556580264683305e-8,1.579552649788596e-8,0.09142667349381822,0.18285330250805593,0.18285330227833207],\"y\":[0.0914266532750807,0.18285330794194296,0.18285330960610358,0.09142666799276263,1.3325900327654239e-8,1.1661739657276016e-8,0.0914266532750807],\"z\":[9.038568948849246e-9,1.0473006128997042e-8,0.09142664488098128,0.1828532949194897,0.1828532934850525,0.09142665907707745,9.038568948849246e-9]},{\"line\":{\"color\":\"black\",\"width\":2},\"mode\":\"lines\",\"showlegend\":false,\"type\":\"scatter3d\",\"x\":[-6.34317821522818e-9,-0.09142663535741598,1.556580264683305e-8,0.09142664458004039,-6.34317821522818e-9],\"y\":[0.18285331088909398,0.1828533125532546,0.18285330960610358,0.18285330794194296,0.18285331088909398],\"z\":[-0.0914266423150014,-7.907026291615947e-9,0.09142664488098128,1.0473006128997042e-8,-0.0914266423150014]},{\"line\":{\"color\":\"black\",\"width\":2},\"mode\":\"lines\",\"showlegend\":false,\"type\":\"scatter3d\",\"x\":[0.18285330745841652,0.18285330768814034,0.18285330250805593,0.18285330227833207,0.18285330745841652],\"y\":[-8.421229616473951e-10,-0.09142664245546397,1.1661739657276016e-8,0.0914266532750807,-8.421229616473951e-10],\"z\":[-0.09142664917635707,8.621513999214228e-10,0.09142665907707745,9.038568948849246e-9,-0.09142664917635707]},{\"line\":{\"color\":\"black\",\"width\":2},\"mode\":\"lines\",\"showlegend\":false,\"type\":\"scatter3d\",\"x\":[0.09142665653519794,0.18285330745841652,0.18285330227833207,0.09142664458004039,-6.34317821522818e-9,-1.1630937879480996e-9,0.09142665653519794],\"y\":[2.1050280130108234e-9,-8.421229616473951e-10,0.0914266532750807,0.18285330794194296,0.18285331088909398,0.09142665677189031,2.1050280130108234e-9],\"z\":[-0.18285330196436456,-0.09142664917635707,9.038568948849246e-9,1.0473006128997042e-8,-0.0914266423150014,-0.18285330052992738,-0.18285330196436456]},{\"line\":{\"color\":\"black\",\"width\":2},\"mode\":\"lines\",\"showlegend\":false,\"type\":\"scatter3d\",\"x\":[0.09142663535741598,0.18285330768814034,0.18285330250805593,0.09142667349381822,1.1630937698929769e-9,6.34317821522818e-9,0.09142663535741598],\"y\":[-0.1828533125532546,-0.09142664245546397,1.1661739657276016e-8,1.3325900327654239e-8,-0.09142665677189028,-0.18285331088909398,-0.1828533125532546],\"z\":[7.907026291615947e-9,8.621513999214228e-10,0.09142665907707745,0.1828532934850525,0.18285330052992738,0.0914266423150014,7.907026291615947e-9]},{\"line\":{\"color\":\"black\",\"width\":2},\"mode\":\"lines\",\"showlegend\":false,\"type\":\"scatter3d\",\"x\":[-0.09142665653519795,1.1630937698929769e-9,0.09142667349381822,1.579552649788596e-8,-0.09142665653519795],\"y\":[-2.1050279637417525e-9,-0.09142665677189028,1.3325900327654239e-8,0.09142666799276263,-2.1050279637417525e-9],\"z\":[0.18285330196436458,0.18285330052992738,0.1828532934850525,0.1828532949194897,0.18285330196436458]},{\"line\":{\"color\":\"black\",\"width\":2},\"mode\":\"lines\",\"showlegend\":false,\"type\":\"scatter3d\",\"x\":[-0.09142665653519795,-0.18285330745841655,-0.18285330768814037,-0.09142663535741598,1.556580264683305e-8,1.579552649788596e-8,-0.09142665653519795],\"y\":[-2.1050279637417525e-9,8.421229824584486e-10,0.09142664245546397,0.1828533125532546,0.18285330960610358,0.09142666799276263,-2.1050279637417525e-9],\"z\":[0.18285330196436458,0.0914266491763571,-8.621513780671108e-10,-7.907026291615947e-9,0.09142664488098128,0.1828532949194897,0.18285330196436458]},{\"line\":{\"color\":\"red\",\"width\":2},\"mode\":\"lines\",\"showlegend\":false,\"type\":\"scatter3d\",\"x\":[0,-0.12799730432482967],\"y\":[0,0.12799731619586385],\"z\":[0,0.1279973107806668]},{\"line\":{\"color\":\"red\",\"width\":2},\"mode\":\"lines\",\"showlegend\":false,\"type\":\"scatter3d\",\"x\":[0,0.1279973173137586],\"y\":[0,-0.12799730945914797],\"z\":[0,0.12799731703287967]},{\"line\":{\"color\":\"red\",\"width\":2},\"mode\":\"lines\",\"showlegend\":false,\"type\":\"scatter3d\",\"x\":[0,0.12799730584013683],\"y\":[0,0.12799731097445513],\"z\":[0,-0.1279973040439509]},{\"marker\":{\"color\":\"green\",\"size\":5},\"mode\":\"markers\",\"showlegend\":false,\"text\":[\"G [0 0 0]\",\"K [0.375 0.375 0.75 ]\",\"L [0.5 0.5 0.5]\",\"U [0.625 0.25  0.625]\",\"W [0.5  0.25 0.75]\",\"X [0.5 0.  0.5]\"],\"type\":\"scatter3d\",\"x\":[0.0,0.13713997750135853,0.09142665630647555,0.04571332896500946,0.09142665220875348,1.0823622553779444e-9],\"y\":[0.0,0.137139979653014,0.0914266555079793,0.18285330659523197,0.18285330566283756,0.18285330512165643],\"z\":[0.0,1.0567309666198454e-8,0.09142665983542542,0.04571333352666766,9.450843080349713e-9,4.811939943727417e-9]}],                        {\"height\":500,\"scene\":{\"xaxis\":{\"visible\":false},\"yaxis\":{\"visible\":false},\"zaxis\":{\"visible\":false}},\"template\":{\"data\":{\"bar\":[{\"error_x\":{\"color\":\"#2a3f5f\"},\"error_y\":{\"color\":\"#2a3f5f\"},\"marker\":{\"line\":{\"color\":\"#E5ECF6\",\"width\":0.5},\"pattern\":{\"fillmode\":\"overlay\",\"size\":10,\"solidity\":0.2}},\"type\":\"bar\"}],\"barpolar\":[{\"marker\":{\"line\":{\"color\":\"#E5ECF6\",\"width\":0.5},\"pattern\":{\"fillmode\":\"overlay\",\"size\":10,\"solidity\":0.2}},\"type\":\"barpolar\"}],\"carpet\":[{\"aaxis\":{\"endlinecolor\":\"#2a3f5f\",\"gridcolor\":\"white\",\"linecolor\":\"white\",\"minorgridcolor\":\"white\",\"startlinecolor\":\"#2a3f5f\"},\"baxis\":{\"endlinecolor\":\"#2a3f5f\",\"gridcolor\":\"white\",\"linecolor\":\"white\",\"minorgridcolor\":\"white\",\"startlinecolor\":\"#2a3f5f\"},\"type\":\"carpet\"}],\"choropleth\":[{\"colorbar\":{\"outlinewidth\":0,\"ticks\":\"\"},\"type\":\"choropleth\"}],\"contour\":[{\"colorbar\":{\"outlinewidth\":0,\"ticks\":\"\"},\"colorscale\":[[0.0,\"#0d0887\"],[0.1111111111111111,\"#46039f\"],[0.2222222222222222,\"#7201a8\"],[0.3333333333333333,\"#9c179e\"],[0.4444444444444444,\"#bd3786\"],[0.5555555555555556,\"#d8576b\"],[0.6666666666666666,\"#ed7953\"],[0.7777777777777778,\"#fb9f3a\"],[0.8888888888888888,\"#fdca26\"],[1.0,\"#f0f921\"]],\"type\":\"contour\"}],\"contourcarpet\":[{\"colorbar\":{\"outlinewidth\":0,\"ticks\":\"\"},\"type\":\"contourcarpet\"}],\"heatmap\":[{\"colorbar\":{\"outlinewidth\":0,\"ticks\":\"\"},\"colorscale\":[[0.0,\"#0d0887\"],[0.1111111111111111,\"#46039f\"],[0.2222222222222222,\"#7201a8\"],[0.3333333333333333,\"#9c179e\"],[0.4444444444444444,\"#bd3786\"],[0.5555555555555556,\"#d8576b\"],[0.6666666666666666,\"#ed7953\"],[0.7777777777777778,\"#fb9f3a\"],[0.8888888888888888,\"#fdca26\"],[1.0,\"#f0f921\"]],\"type\":\"heatmap\"}],\"heatmapgl\":[{\"colorbar\":{\"outlinewidth\":0,\"ticks\":\"\"},\"colorscale\":[[0.0,\"#0d0887\"],[0.1111111111111111,\"#46039f\"],[0.2222222222222222,\"#7201a8\"],[0.3333333333333333,\"#9c179e\"],[0.4444444444444444,\"#bd3786\"],[0.5555555555555556,\"#d8576b\"],[0.6666666666666666,\"#ed7953\"],[0.7777777777777778,\"#fb9f3a\"],[0.8888888888888888,\"#fdca26\"],[1.0,\"#f0f921\"]],\"type\":\"heatmapgl\"}],\"histogram\":[{\"marker\":{\"pattern\":{\"fillmode\":\"overlay\",\"size\":10,\"solidity\":0.2}},\"type\":\"histogram\"}],\"histogram2d\":[{\"colorbar\":{\"outlinewidth\":0,\"ticks\":\"\"},\"colorscale\":[[0.0,\"#0d0887\"],[0.1111111111111111,\"#46039f\"],[0.2222222222222222,\"#7201a8\"],[0.3333333333333333,\"#9c179e\"],[0.4444444444444444,\"#bd3786\"],[0.5555555555555556,\"#d8576b\"],[0.6666666666666666,\"#ed7953\"],[0.7777777777777778,\"#fb9f3a\"],[0.8888888888888888,\"#fdca26\"],[1.0,\"#f0f921\"]],\"type\":\"histogram2d\"}],\"histogram2dcontour\":[{\"colorbar\":{\"outlinewidth\":0,\"ticks\":\"\"},\"colorscale\":[[0.0,\"#0d0887\"],[0.1111111111111111,\"#46039f\"],[0.2222222222222222,\"#7201a8\"],[0.3333333333333333,\"#9c179e\"],[0.4444444444444444,\"#bd3786\"],[0.5555555555555556,\"#d8576b\"],[0.6666666666666666,\"#ed7953\"],[0.7777777777777778,\"#fb9f3a\"],[0.8888888888888888,\"#fdca26\"],[1.0,\"#f0f921\"]],\"type\":\"histogram2dcontour\"}],\"mesh3d\":[{\"colorbar\":{\"outlinewidth\":0,\"ticks\":\"\"},\"type\":\"mesh3d\"}],\"parcoords\":[{\"line\":{\"colorbar\":{\"outlinewidth\":0,\"ticks\":\"\"}},\"type\":\"parcoords\"}],\"pie\":[{\"automargin\":true,\"type\":\"pie\"}],\"scatter\":[{\"marker\":{\"colorbar\":{\"outlinewidth\":0,\"ticks\":\"\"}},\"type\":\"scatter\"}],\"scatter3d\":[{\"line\":{\"colorbar\":{\"outlinewidth\":0,\"ticks\":\"\"}},\"marker\":{\"colorbar\":{\"outlinewidth\":0,\"ticks\":\"\"}},\"type\":\"scatter3d\"}],\"scattercarpet\":[{\"marker\":{\"colorbar\":{\"outlinewidth\":0,\"ticks\":\"\"}},\"type\":\"scattercarpet\"}],\"scattergeo\":[{\"marker\":{\"colorbar\":{\"outlinewidth\":0,\"ticks\":\"\"}},\"type\":\"scattergeo\"}],\"scattergl\":[{\"marker\":{\"colorbar\":{\"outlinewidth\":0,\"ticks\":\"\"}},\"type\":\"scattergl\"}],\"scattermapbox\":[{\"marker\":{\"colorbar\":{\"outlinewidth\":0,\"ticks\":\"\"}},\"type\":\"scattermapbox\"}],\"scatterpolar\":[{\"marker\":{\"colorbar\":{\"outlinewidth\":0,\"ticks\":\"\"}},\"type\":\"scatterpolar\"}],\"scatterpolargl\":[{\"marker\":{\"colorbar\":{\"outlinewidth\":0,\"ticks\":\"\"}},\"type\":\"scatterpolargl\"}],\"scatterternary\":[{\"marker\":{\"colorbar\":{\"outlinewidth\":0,\"ticks\":\"\"}},\"type\":\"scatterternary\"}],\"surface\":[{\"colorbar\":{\"outlinewidth\":0,\"ticks\":\"\"},\"colorscale\":[[0.0,\"#0d0887\"],[0.1111111111111111,\"#46039f\"],[0.2222222222222222,\"#7201a8\"],[0.3333333333333333,\"#9c179e\"],[0.4444444444444444,\"#bd3786\"],[0.5555555555555556,\"#d8576b\"],[0.6666666666666666,\"#ed7953\"],[0.7777777777777778,\"#fb9f3a\"],[0.8888888888888888,\"#fdca26\"],[1.0,\"#f0f921\"]],\"type\":\"surface\"}],\"table\":[{\"cells\":{\"fill\":{\"color\":\"#EBF0F8\"},\"line\":{\"color\":\"white\"}},\"header\":{\"fill\":{\"color\":\"#C8D4E3\"},\"line\":{\"color\":\"white\"}},\"type\":\"table\"}]},\"layout\":{\"annotationdefaults\":{\"arrowcolor\":\"#2a3f5f\",\"arrowhead\":0,\"arrowwidth\":1},\"autotypenumbers\":\"strict\",\"coloraxis\":{\"colorbar\":{\"outlinewidth\":0,\"ticks\":\"\"}},\"colorscale\":{\"diverging\":[[0,\"#8e0152\"],[0.1,\"#c51b7d\"],[0.2,\"#de77ae\"],[0.3,\"#f1b6da\"],[0.4,\"#fde0ef\"],[0.5,\"#f7f7f7\"],[0.6,\"#e6f5d0\"],[0.7,\"#b8e186\"],[0.8,\"#7fbc41\"],[0.9,\"#4d9221\"],[1,\"#276419\"]],\"sequential\":[[0.0,\"#0d0887\"],[0.1111111111111111,\"#46039f\"],[0.2222222222222222,\"#7201a8\"],[0.3333333333333333,\"#9c179e\"],[0.4444444444444444,\"#bd3786\"],[0.5555555555555556,\"#d8576b\"],[0.6666666666666666,\"#ed7953\"],[0.7777777777777778,\"#fb9f3a\"],[0.8888888888888888,\"#fdca26\"],[1.0,\"#f0f921\"]],\"sequentialminus\":[[0.0,\"#0d0887\"],[0.1111111111111111,\"#46039f\"],[0.2222222222222222,\"#7201a8\"],[0.3333333333333333,\"#9c179e\"],[0.4444444444444444,\"#bd3786\"],[0.5555555555555556,\"#d8576b\"],[0.6666666666666666,\"#ed7953\"],[0.7777777777777778,\"#fb9f3a\"],[0.8888888888888888,\"#fdca26\"],[1.0,\"#f0f921\"]]},\"colorway\":[\"#636efa\",\"#EF553B\",\"#00cc96\",\"#ab63fa\",\"#FFA15A\",\"#19d3f3\",\"#FF6692\",\"#B6E880\",\"#FF97FF\",\"#FECB52\"],\"font\":{\"color\":\"#2a3f5f\"},\"geo\":{\"bgcolor\":\"white\",\"lakecolor\":\"white\",\"landcolor\":\"#E5ECF6\",\"showlakes\":true,\"showland\":true,\"subunitcolor\":\"white\"},\"hoverlabel\":{\"align\":\"left\"},\"hovermode\":\"closest\",\"mapbox\":{\"style\":\"light\"},\"paper_bgcolor\":\"white\",\"plot_bgcolor\":\"#E5ECF6\",\"polar\":{\"angularaxis\":{\"gridcolor\":\"white\",\"linecolor\":\"white\",\"ticks\":\"\"},\"bgcolor\":\"#E5ECF6\",\"radialaxis\":{\"gridcolor\":\"white\",\"linecolor\":\"white\",\"ticks\":\"\"}},\"scene\":{\"xaxis\":{\"backgroundcolor\":\"#E5ECF6\",\"gridcolor\":\"white\",\"gridwidth\":2,\"linecolor\":\"white\",\"showbackground\":true,\"ticks\":\"\",\"zerolinecolor\":\"white\"},\"yaxis\":{\"backgroundcolor\":\"#E5ECF6\",\"gridcolor\":\"white\",\"gridwidth\":2,\"linecolor\":\"white\",\"showbackground\":true,\"ticks\":\"\",\"zerolinecolor\":\"white\"},\"zaxis\":{\"backgroundcolor\":\"#E5ECF6\",\"gridcolor\":\"white\",\"gridwidth\":2,\"linecolor\":\"white\",\"showbackground\":true,\"ticks\":\"\",\"zerolinecolor\":\"white\"}},\"shapedefaults\":{\"line\":{\"color\":\"#2a3f5f\"}},\"ternary\":{\"aaxis\":{\"gridcolor\":\"white\",\"linecolor\":\"white\",\"ticks\":\"\"},\"baxis\":{\"gridcolor\":\"white\",\"linecolor\":\"white\",\"ticks\":\"\"},\"bgcolor\":\"#E5ECF6\",\"caxis\":{\"gridcolor\":\"white\",\"linecolor\":\"white\",\"ticks\":\"\"}},\"title\":{\"x\":0.05},\"xaxis\":{\"automargin\":true,\"gridcolor\":\"white\",\"linecolor\":\"white\",\"ticks\":\"\",\"title\":{\"standoff\":15},\"zerolinecolor\":\"white\",\"zerolinewidth\":2},\"yaxis\":{\"automargin\":true,\"gridcolor\":\"white\",\"linecolor\":\"white\",\"ticks\":\"\",\"title\":{\"standoff\":15},\"zerolinecolor\":\"white\",\"zerolinewidth\":2}}},\"width\":600},                        {\"responsive\": true}                    ).then(function(){\n",
       "                            \n",
       "var gd = document.getElementById('331416c8-8733-4203-89c2-7a4cef337ce4');\n",
       "var x = new MutationObserver(function (mutations, observer) {{\n",
       "        var display = window.getComputedStyle(gd).display;\n",
       "        if (!display || display === 'none') {{\n",
       "            console.log([gd, 'removed!']);\n",
       "            Plotly.purge(gd);\n",
       "            observer.disconnect();\n",
       "        }}\n",
       "}});\n",
       "\n",
       "// Listen for the removal of the full notebook cells\n",
       "var notebookContainer = gd.closest('#notebook-container');\n",
       "if (notebookContainer) {{\n",
       "    x.observe(notebookContainer, {childList: true});\n",
       "}}\n",
       "\n",
       "// Listen for the clearing of the current output cell\n",
       "var outputEl = gd.closest('.output');\n",
       "if (outputEl) {{\n",
       "    x.observe(outputEl, {childList: true});\n",
       "}}\n",
       "\n",
       "                        })                };                });            </script>        </div>"
      ]
     },
     "metadata": {},
     "output_type": "display_data"
    }
   ],
   "source": [
    "from matlantis_features.utils.visual_utils.brillouin_zone import get_brillouin_zone_3d\n",
    "\n",
    "fig = get_brillouin_zone_3d(atoms.cell, show_reciprocal_basis=True, show_special_k_points=True)\n",
    "fig.update_layout(width=600, height=500)"
   ]
  },
  {
   "cell_type": "markdown",
   "id": "08fb9bc1-8eaf-4cac-bda5-e4db441c4702",
   "metadata": {},
   "source": [
    "シリコン結晶はFCC構造となっており、その第一ブリルアンゾーンは[切頂八面体](https://ja.wikipedia.org/wiki/%E5%88%87%E9%A0%82%E5%85%AB%E9%9D%A2%E4%BD%93) (truncated octahedron)となります。\n",
    "緑の点で示されているのが対称性の高い点で、例えば [0.375, 0.375, 0.75]の点は\"K\" というラベルが付与されています。上記図をマウスオーバーするとラベルが表示されるので確認してみてください。\n",
    "第一ブリルアンゾーンの中心は特に$\\Gamma$ (or G)点 (ガンマ点)と名付けられています。\n",
    "\n",
    "許されるすべてのフォノンの振動数を求めるには、第一ブリルアンゾーン内のすべての$\\vec q$点にて計算を行う必要があります。\n",
    "しかし実際には、第一ブリルアンゾーン内の代表的な対象性の高い点をつなぐパス(例えば$\\Gamma$点とK点を結ぶ直線など)上でのみ計算を行って可視化をして確認するということが慣例的に行われています。\n",
    "対象性の高い点をつないだパス上のフォノンの振動数のプロットは、フォノン分散曲線 (フォノン分散関係・フォノンバンド)と呼ばれます。\n",
    "\n",
    "ここでは、`matlantis-features`の`PostPhononBandFeature`を用いて、シリコン結晶のフォノン分散を計算します。"
   ]
  },
  {
   "cell_type": "markdown",
   "id": "65b37d84-052b-426f-b196-a2387bb0fa8a",
   "metadata": {},
   "source": [
    "### 2.4 フォノン分散の計算\n",
    "\n",
    "`PostPhononBandFeature`は、`ForceConstantFeature`の計算結果を利用します。\n",
    "対象性の高い点のパスを指定する際はラベルの列を指定します。\n",
    "ここでは、G -> X -> W -> K -> G -> L -> U -> W -> L -> K と U -> X というパスでのフォノン振動数を計算してフォノン分散を得ています。"
   ]
  },
  {
   "cell_type": "code",
   "execution_count": 8,
   "id": "5894ec8d-874d-4d81-a5a7-1d1970a1bfb4",
   "metadata": {},
   "outputs": [
    {
     "data": {
      "application/vnd.plotly.v1+json": {
       "config": {
        "plotlyServerURL": "https://plot.ly"
       },
       "data": [
        {
         "marker": {
          "color": "#636EFA"
         },
         "mode": "lines",
         "showlegend": false,
         "type": "scatter",
         "x": [
          0,
          0.04419417382415922,
          0.08838834764831845,
          0.13258252147247768,
          0.1767766952966369,
          0.2209708691207961,
          0.26516504294495535,
          0.3093592167691146,
          0.35355339059327384,
          0.3977475644174331,
          0.44194173824159233,
          0.4861359120657516,
          0.5303300858899108,
          0.5745242597140701,
          0.6187184335382293,
          0.6629126073623886,
          0.7071067811865478,
          0.751300955010707,
          0.7954951288348663,
          0.8396893026590255,
          0.8838834764831848,
          0.928077650307344,
          0.9722718241315033,
          1.0164659979556625,
          1.0606601717798216,
          1.1048543456039808,
          1.14904851942814,
          1.193242693252299,
          1.2374368670764582,
          1.2811777553404435,
          1.3249186436044287,
          1.368659531868414,
          1.4124004201323994,
          1.4561413083963848,
          1.4998821966603701,
          1.5436230849243555,
          1.5873639731883409,
          1.6311048614523262,
          1.6748457497163114,
          1.7185866379802968,
          1.7623275262442821,
          1.8060684145082675,
          1.8498093027722529,
          1.893550191036238,
          1.9372910793002234,
          1.9810319675642087,
          2.024772855828194,
          2.0685137440921793,
          2.112254632356165,
          2.1559955206201504,
          2.201575805029858,
          2.2471560894395655,
          2.292736373849273,
          2.3383166582589805,
          2.383896942668688,
          2.4294772270783955,
          2.475057511488103,
          2.5206377958978106,
          2.566218080307518,
          2.6117983647172256,
          2.657378649126933,
          2.70295893353664,
          2.7485392179463473,
          2.7941195023560548,
          2.8396997867657623,
          2.8852800711754694,
          2.9308603555851764,
          2.976440639994884,
          3.0220209244045915,
          3.0657618126685766,
          3.1095027009325618,
          3.1532435891965473,
          3.1969844774605325,
          3.2407253657245176,
          3.2844662539885032,
          3.3282071422524884,
          3.3724013160766475,
          3.4165954899008066,
          3.4607896637249658,
          3.504983837549125,
          3.549178011373284,
          3.593372185197443,
          3.6375663590216023,
          3.6817605328457614,
          3.7259547066699206,
          3.7701488804940797,
          3.814343054318239,
          3.858537228142398,
          3.902278116406383,
          3.9460190046703683,
          3.9897598929343534,
          4.033500781198339,
          4.077241669462325,
          4.12098255772631,
          4.164723445990296,
          4.164723445990296,
          4.208464334254281,
          4.252205222518266,
          4.295946110782252,
          4.339686999046237,
          4.383427887310222,
          4.4271687755742075,
          4.470909663838193
         ],
         "y": [
          -0.1667438005545818,
          2.3591349299423627,
          4.669606278507968,
          6.85882658554211,
          8.863617875093908,
          10.637183953641479,
          12.14120966548392,
          13.351784869936937,
          14.27251925161431,
          14.92696694822229,
          15.353646938403177,
          15.61072110402032,
          15.751962778583465,
          15.820854667430087,
          15.85065862359473,
          15.862507431148996,
          15.865569788816957,
          16.14427632629621,
          16.93051383641666,
          18.097531744069556,
          19.475551702825364,
          20.875517466749542,
          22.09967620220456,
          22.949215492838903,
          23.256092223644135,
          22.195877256980452,
          20.335623694042972,
          18.620962605175258,
          17.926052042266445,
          18.187080655839537,
          18.343715151427688,
          18.377322968608784,
          18.275150118889112,
          18.03299783339796,
          17.65142401303352,
          17.13398076245529,
          16.490149439634507,
          15.731024222668122,
          14.865419513899235,
          13.902603726395263,
          12.8503351187603,
          11.71208370738958,
          10.49062690801115,
          9.188894989345547,
          7.807609528349375,
          6.349250485573412,
          4.82447448131272,
          3.248260217350018,
          1.6304091051619336,
          -0.1667438005545818,
          1.549378387277593,
          3.075330538421674,
          4.541383601135733,
          5.905083413608191,
          7.135047619842204,
          8.216122161099182,
          9.142691214602692,
          9.912219445109566,
          10.527524658645575,
          11.003743692333966,
          11.365829924669661,
          11.6353137439182,
          11.835080108150313,
          11.979659708984707,
          12.084648871200242,
          12.16119522180769,
          12.213783699268218,
          12.24546367045586,
          12.256269211044152,
          12.73600782595626,
          13.95657790650934,
          15.450945776589645,
          16.784465496748496,
          17.680539649126825,
          18.042619846469755,
          17.92831082886049,
          18.621535113518977,
          20.335434112985038,
          22.19638940264588,
          23.256092223644135,
          22.424912324482616,
          21.19270468540016,
          19.61616419653593,
          17.789624056080424,
          15.862426570858023,
          14.071188711671006,
          12.75110139357484,
          12.256269211044152,
          12.73594656821114,
          13.956144982778758,
          15.450738287560615,
          16.784648939301526,
          17.680800891185584,
          18.041765372712327,
          17.926052042266445,
          17.92831082886049,
          17.586060349562025,
          17.196043241270342,
          16.79654666946343,
          16.427046603405323,
          16.128073419578428,
          15.933629443601484,
          15.865569788816957
         ]
        },
        {
         "marker": {
          "color": "#636EFA"
         },
         "mode": "lines",
         "showlegend": false,
         "type": "scatter",
         "x": [
          0,
          0.04419417382415922,
          0.08838834764831845,
          0.13258252147247768,
          0.1767766952966369,
          0.2209708691207961,
          0.26516504294495535,
          0.3093592167691146,
          0.35355339059327384,
          0.3977475644174331,
          0.44194173824159233,
          0.4861359120657516,
          0.5303300858899108,
          0.5745242597140701,
          0.6187184335382293,
          0.6629126073623886,
          0.7071067811865478,
          0.751300955010707,
          0.7954951288348663,
          0.8396893026590255,
          0.8838834764831848,
          0.928077650307344,
          0.9722718241315033,
          1.0164659979556625,
          1.0606601717798216,
          1.1048543456039808,
          1.14904851942814,
          1.193242693252299,
          1.2374368670764582,
          1.2811777553404435,
          1.3249186436044287,
          1.368659531868414,
          1.4124004201323994,
          1.4561413083963848,
          1.4998821966603701,
          1.5436230849243555,
          1.5873639731883409,
          1.6311048614523262,
          1.6748457497163114,
          1.7185866379802968,
          1.7623275262442821,
          1.8060684145082675,
          1.8498093027722529,
          1.893550191036238,
          1.9372910793002234,
          1.9810319675642087,
          2.024772855828194,
          2.0685137440921793,
          2.112254632356165,
          2.1559955206201504,
          2.201575805029858,
          2.2471560894395655,
          2.292736373849273,
          2.3383166582589805,
          2.383896942668688,
          2.4294772270783955,
          2.475057511488103,
          2.5206377958978106,
          2.566218080307518,
          2.6117983647172256,
          2.657378649126933,
          2.70295893353664,
          2.7485392179463473,
          2.7941195023560548,
          2.8396997867657623,
          2.8852800711754694,
          2.9308603555851764,
          2.976440639994884,
          3.0220209244045915,
          3.0657618126685766,
          3.1095027009325618,
          3.1532435891965473,
          3.1969844774605325,
          3.2407253657245176,
          3.2844662539885032,
          3.3282071422524884,
          3.3724013160766475,
          3.4165954899008066,
          3.4607896637249658,
          3.504983837549125,
          3.549178011373284,
          3.593372185197443,
          3.6375663590216023,
          3.6817605328457614,
          3.7259547066699206,
          3.7701488804940797,
          3.814343054318239,
          3.858537228142398,
          3.902278116406383,
          3.9460190046703683,
          3.9897598929343534,
          4.033500781198339,
          4.077241669462325,
          4.12098255772631,
          4.164723445990296,
          4.164723445990296,
          4.208464334254281,
          4.252205222518266,
          4.295946110782252,
          4.339686999046237,
          4.383427887310222,
          4.4271687755742075,
          4.470909663838193
         ],
         "y": [
          0.04867865603234367,
          2.3737138374639013,
          4.678032814976582,
          6.861138270528691,
          8.865426574721912,
          10.639383346731476,
          12.142342745934954,
          13.35365522368296,
          14.27433184923734,
          14.927489665773898,
          15.35741416436594,
          15.614798946643036,
          15.754037662726851,
          15.821702258575945,
          15.851883377513806,
          15.86380200103299,
          15.866828179532101,
          16.145799125207244,
          16.933372765383215,
          18.10030406103054,
          19.477386249753106,
          20.87690195751452,
          22.10092704328146,
          22.950913194572685,
          23.25807098354858,
          23.537598199935815,
          23.578755575058644,
          23.522770986122094,
          23.489009287916573,
          24.080318892869876,
          24.247464783719124,
          24.066629083711756,
          23.64626882321783,
          23.072482283848984,
          22.389193600008856,
          21.60645664621807,
          20.715379670578713,
          19.70351580327421,
          18.5634823314966,
          17.294903659785575,
          15.906014706854794,
          14.408241843076866,
          12.811872112978204,
          11.130846674524205,
          9.380334302638634,
          7.571058544621764,
          5.713518129205644,
          3.82243234403066,
          1.9165157445659418,
          0.04867865603234367,
          1.5588651943765879,
          3.0878660413585983,
          4.546040096653378,
          5.908328759712122,
          7.1383580608736885,
          8.217288297262632,
          9.143967218033712,
          9.913597529538702,
          10.528786809584071,
          11.006907236719254,
          11.368770149416656,
          11.638762617369617,
          11.836126288666549,
          11.980646303173348,
          12.08555780726731,
          12.16231533439293,
          12.215580498794658,
          12.24681098031962,
          12.25762749810969,
          13.307332332098335,
          15.903913301582646,
          19.03711116893513,
          21.823806240860804,
          23.557244219046243,
          23.99209852116195,
          23.489136503948618,
          23.5235892267885,
          23.579373075081143,
          23.537557887974632,
          23.25807098354858,
          23.667287987727814,
          23.623476987143768,
          22.955616289689505,
          21.376969065479106,
          18.866172135051627,
          15.894527005392112,
          13.322774203351862,
          12.25762749810969,
          13.307554715411065,
          15.904360914908347,
          19.037000951284472,
          21.823631589826917,
          23.557236178295764,
          23.991835647332895,
          23.489009287916573,
          23.489136503948618,
          22.482443907437858,
          21.160828486868574,
          19.682601237926583,
          18.23156065572946,
          16.997923057937705,
          16.16281391169618,
          15.866828179532101
         ]
        },
        {
         "marker": {
          "color": "#636EFA"
         },
         "mode": "lines",
         "showlegend": false,
         "type": "scatter",
         "x": [
          0,
          0.04419417382415922,
          0.08838834764831845,
          0.13258252147247768,
          0.1767766952966369,
          0.2209708691207961,
          0.26516504294495535,
          0.3093592167691146,
          0.35355339059327384,
          0.3977475644174331,
          0.44194173824159233,
          0.4861359120657516,
          0.5303300858899108,
          0.5745242597140701,
          0.6187184335382293,
          0.6629126073623886,
          0.7071067811865478,
          0.751300955010707,
          0.7954951288348663,
          0.8396893026590255,
          0.8838834764831848,
          0.928077650307344,
          0.9722718241315033,
          1.0164659979556625,
          1.0606601717798216,
          1.1048543456039808,
          1.14904851942814,
          1.193242693252299,
          1.2374368670764582,
          1.2811777553404435,
          1.3249186436044287,
          1.368659531868414,
          1.4124004201323994,
          1.4561413083963848,
          1.4998821966603701,
          1.5436230849243555,
          1.5873639731883409,
          1.6311048614523262,
          1.6748457497163114,
          1.7185866379802968,
          1.7623275262442821,
          1.8060684145082675,
          1.8498093027722529,
          1.893550191036238,
          1.9372910793002234,
          1.9810319675642087,
          2.024772855828194,
          2.0685137440921793,
          2.112254632356165,
          2.1559955206201504,
          2.201575805029858,
          2.2471560894395655,
          2.292736373849273,
          2.3383166582589805,
          2.383896942668688,
          2.4294772270783955,
          2.475057511488103,
          2.5206377958978106,
          2.566218080307518,
          2.6117983647172256,
          2.657378649126933,
          2.70295893353664,
          2.7485392179463473,
          2.7941195023560548,
          2.8396997867657623,
          2.8852800711754694,
          2.9308603555851764,
          2.976440639994884,
          3.0220209244045915,
          3.0657618126685766,
          3.1095027009325618,
          3.1532435891965473,
          3.1969844774605325,
          3.2407253657245176,
          3.2844662539885032,
          3.3282071422524884,
          3.3724013160766475,
          3.4165954899008066,
          3.4607896637249658,
          3.504983837549125,
          3.549178011373284,
          3.593372185197443,
          3.6375663590216023,
          3.6817605328457614,
          3.7259547066699206,
          3.7701488804940797,
          3.814343054318239,
          3.858537228142398,
          3.902278116406383,
          3.9460190046703683,
          3.9897598929343534,
          4.033500781198339,
          4.077241669462325,
          4.12098255772631,
          4.164723445990296,
          4.164723445990296,
          4.208464334254281,
          4.252205222518266,
          4.295946110782252,
          4.339686999046237,
          4.383427887310222,
          4.4271687755742075,
          4.470909663838193
         ],
         "y": [
          0.20002956552078038,
          3.671380573183907,
          7.342507123066141,
          11.012305840041481,
          14.672149241623822,
          18.304627605053415,
          21.884346275074282,
          25.38096011562979,
          28.761001238145344,
          31.99125129627236,
          35.04587464832048,
          37.91134954191566,
          40.585731351189075,
          43.076059731949115,
          45.39464768436606,
          47.55291315012536,
          49.55547096746693,
          49.28973833437771,
          48.55620802640955,
          47.49550901632442,
          46.26045262888404,
          45.00522404380109,
          43.90006397613529,
          43.127450639685534,
          42.84711920166097,
          42.64294009032832,
          43.19311521378786,
          43.802467961631336,
          44.0463180925347,
          42.8672236663429,
          41.66109273926204,
          40.43221375103236,
          39.176866903637205,
          37.88160794138488,
          36.52265598314742,
          35.07075714083762,
          33.49575455091372,
          31.77097198265525,
          29.878890249499612,
          27.812772596978174,
          25.575634285162867,
          23.177758698824316,
          20.632873576516282,
          17.956224240007227,
          15.162735149124497,
          12.266419853972788,
          9.282137421393443,
          6.227601136542807,
          3.1270907358538182,
          0.20002956552078038,
          2.8761436562298264,
          5.754268340206105,
          8.650510118204378,
          11.563817580989491,
          14.491868147278488,
          17.429570398052213,
          20.36800753617553,
          23.28987658603906,
          26.170629309369385,
          28.9799223348545,
          31.685522325673862,
          34.25787271860301,
          36.67073145054369,
          38.903460300651,
          40.94295702519195,
          42.78185887647983,
          44.40228732413115,
          45.71118784054101,
          46.31121394320045,
          45.79058815866763,
          44.39050446320348,
          42.59451626604182,
          41.157827118304965,
          40.8805242917269,
          42.062693110979275,
          44.046948686376915,
          43.80256173882062,
          43.192648136655336,
          42.642641279525236,
          42.84711920166097,
          41.782024731372225,
          40.90803098140738,
          40.54268922709916,
          41.09312478301548,
          42.5545909212169,
          44.358209540767604,
          45.780040638201314,
          46.31121394320045,
          45.79048493293493,
          44.39044921980399,
          42.59485493569498,
          41.158183130537346,
          40.88033380846179,
          42.062291152145,
          44.0463180925347,
          44.046948686376915,
          45.18696548739112,
          46.20896735730475,
          47.17430648354216,
          48.11035616589359,
          48.87987728933895,
          49.380767132032226,
          49.55547096746693
         ]
        },
        {
         "marker": {
          "color": "#636EFA"
         },
         "mode": "lines",
         "showlegend": false,
         "type": "scatter",
         "x": [
          0,
          0.04419417382415922,
          0.08838834764831845,
          0.13258252147247768,
          0.1767766952966369,
          0.2209708691207961,
          0.26516504294495535,
          0.3093592167691146,
          0.35355339059327384,
          0.3977475644174331,
          0.44194173824159233,
          0.4861359120657516,
          0.5303300858899108,
          0.5745242597140701,
          0.6187184335382293,
          0.6629126073623886,
          0.7071067811865478,
          0.751300955010707,
          0.7954951288348663,
          0.8396893026590255,
          0.8838834764831848,
          0.928077650307344,
          0.9722718241315033,
          1.0164659979556625,
          1.0606601717798216,
          1.1048543456039808,
          1.14904851942814,
          1.193242693252299,
          1.2374368670764582,
          1.2811777553404435,
          1.3249186436044287,
          1.368659531868414,
          1.4124004201323994,
          1.4561413083963848,
          1.4998821966603701,
          1.5436230849243555,
          1.5873639731883409,
          1.6311048614523262,
          1.6748457497163114,
          1.7185866379802968,
          1.7623275262442821,
          1.8060684145082675,
          1.8498093027722529,
          1.893550191036238,
          1.9372910793002234,
          1.9810319675642087,
          2.024772855828194,
          2.0685137440921793,
          2.112254632356165,
          2.1559955206201504,
          2.201575805029858,
          2.2471560894395655,
          2.292736373849273,
          2.3383166582589805,
          2.383896942668688,
          2.4294772270783955,
          2.475057511488103,
          2.5206377958978106,
          2.566218080307518,
          2.6117983647172256,
          2.657378649126933,
          2.70295893353664,
          2.7485392179463473,
          2.7941195023560548,
          2.8396997867657623,
          2.8852800711754694,
          2.9308603555851764,
          2.976440639994884,
          3.0220209244045915,
          3.0657618126685766,
          3.1095027009325618,
          3.1532435891965473,
          3.1969844774605325,
          3.2407253657245176,
          3.2844662539885032,
          3.3282071422524884,
          3.3724013160766475,
          3.4165954899008066,
          3.4607896637249658,
          3.504983837549125,
          3.549178011373284,
          3.593372185197443,
          3.6375663590216023,
          3.6817605328457614,
          3.7259547066699206,
          3.7701488804940797,
          3.814343054318239,
          3.858537228142398,
          3.902278116406383,
          3.9460190046703683,
          3.9897598929343534,
          4.033500781198339,
          4.077241669462325,
          4.12098255772631,
          4.164723445990296,
          4.164723445990296,
          4.208464334254281,
          4.252205222518266,
          4.295946110782252,
          4.339686999046237,
          4.383427887310222,
          4.4271687755742075,
          4.470909663838193
         ],
         "y": [
          60.418338817947635,
          60.304610979706986,
          59.97423257384993,
          59.46742668066894,
          58.8443552172148,
          58.175196747593354,
          57.52696895859361,
          56.953579802690655,
          56.48845608540389,
          56.140974673834286,
          55.897194015758885,
          55.733517306866595,
          55.62443292682345,
          54.59785705741787,
          53.088015082419645,
          51.40392034021285,
          49.55741965116719,
          49.291072769713494,
          48.557430688448086,
          47.497296318146766,
          46.26161267711923,
          45.0061494443156,
          43.900744142073314,
          43.128016184013255,
          42.84788324626563,
          43.6076865111315,
          44.25477240618261,
          44.696537078244624,
          44.85440729977184,
          44.76401133367596,
          45.143405700892046,
          45.93418512971934,
          47.02357070227379,
          48.29500549336611,
          49.654150183238755,
          51.02969929318582,
          52.36911668028999,
          53.63391563542188,
          54.796858142577946,
          55.842134099052,
          56.76359702726828,
          57.56306617905509,
          58.24800810208782,
          58.82762957560359,
          59.18550438256714,
          59.50052273654817,
          59.83672998913547,
          60.13752856219063,
          60.3456495460177,
          60.418338817947635,
          60.37053058045357,
          60.22959491948756,
          60.01055288825235,
          59.734660245206136,
          59.42345463012019,
          59.09133879462022,
          58.74098029103278,
          58.36379302238123,
          57.94108946189391,
          57.4482817325035,
          56.86192600801726,
          56.16435630386483,
          55.34726481128682,
          54.4148687907587,
          53.38427786515619,
          52.28329564603137,
          51.15897717176479,
          50.133466482122145,
          49.62531822752919,
          49.52432836615399,
          49.20087485428087,
          48.618791139523594,
          47.78016261003499,
          46.75950425971203,
          45.67929821524459,
          44.855433608692536,
          44.69728969776568,
          44.25497117876244,
          43.607619138347076,
          42.84788324626563,
          44.01055468734539,
          45.25387220878577,
          46.51297863592092,
          47.662891044233206,
          48.575670868948805,
          49.18912071691773,
          49.52225215181301,
          49.62531822752919,
          49.52418448137366,
          49.200296754379,
          48.617689981930724,
          47.77896300751476,
          46.75864852788633,
          45.67840982977381,
          44.85440729977184,
          44.855433608692536,
          45.379455512388155,
          46.27036453621401,
          47.274149969987214,
          48.164214666867345,
          48.89017892106306,
          49.38195183670339,
          49.55741965116719
         ]
        },
        {
         "marker": {
          "color": "#636EFA"
         },
         "mode": "lines",
         "showlegend": false,
         "type": "scatter",
         "x": [
          0,
          0.04419417382415922,
          0.08838834764831845,
          0.13258252147247768,
          0.1767766952966369,
          0.2209708691207961,
          0.26516504294495535,
          0.3093592167691146,
          0.35355339059327384,
          0.3977475644174331,
          0.44194173824159233,
          0.4861359120657516,
          0.5303300858899108,
          0.5745242597140701,
          0.6187184335382293,
          0.6629126073623886,
          0.7071067811865478,
          0.751300955010707,
          0.7954951288348663,
          0.8396893026590255,
          0.8838834764831848,
          0.928077650307344,
          0.9722718241315033,
          1.0164659979556625,
          1.0606601717798216,
          1.1048543456039808,
          1.14904851942814,
          1.193242693252299,
          1.2374368670764582,
          1.2811777553404435,
          1.3249186436044287,
          1.368659531868414,
          1.4124004201323994,
          1.4561413083963848,
          1.4998821966603701,
          1.5436230849243555,
          1.5873639731883409,
          1.6311048614523262,
          1.6748457497163114,
          1.7185866379802968,
          1.7623275262442821,
          1.8060684145082675,
          1.8498093027722529,
          1.893550191036238,
          1.9372910793002234,
          1.9810319675642087,
          2.024772855828194,
          2.0685137440921793,
          2.112254632356165,
          2.1559955206201504,
          2.201575805029858,
          2.2471560894395655,
          2.292736373849273,
          2.3383166582589805,
          2.383896942668688,
          2.4294772270783955,
          2.475057511488103,
          2.5206377958978106,
          2.566218080307518,
          2.6117983647172256,
          2.657378649126933,
          2.70295893353664,
          2.7485392179463473,
          2.7941195023560548,
          2.8396997867657623,
          2.8852800711754694,
          2.9308603555851764,
          2.976440639994884,
          3.0220209244045915,
          3.0657618126685766,
          3.1095027009325618,
          3.1532435891965473,
          3.1969844774605325,
          3.2407253657245176,
          3.2844662539885032,
          3.3282071422524884,
          3.3724013160766475,
          3.4165954899008066,
          3.4607896637249658,
          3.504983837549125,
          3.549178011373284,
          3.593372185197443,
          3.6375663590216023,
          3.6817605328457614,
          3.7259547066699206,
          3.7701488804940797,
          3.814343054318239,
          3.858537228142398,
          3.902278116406383,
          3.9460190046703683,
          3.9897598929343534,
          4.033500781198339,
          4.077241669462325,
          4.12098255772631,
          4.164723445990296,
          4.164723445990296,
          4.208464334254281,
          4.252205222518266,
          4.295946110782252,
          4.339686999046237,
          4.383427887310222,
          4.4271687755742075,
          4.470909663838193
         ],
         "y": [
          60.41966127409764,
          60.305455578003404,
          59.975244030309064,
          59.468652991564475,
          58.84602789956427,
          58.17662359538606,
          57.52788792931063,
          56.95466678533109,
          56.489926355314694,
          56.141540452562865,
          55.89800417812212,
          55.73408290373065,
          55.62491251417235,
          55.549897034070575,
          55.4989044504133,
          55.46788276202111,
          55.45701101819761,
          55.53298313744052,
          55.715487002986364,
          55.92152355285653,
          56.09627399630045,
          56.22013668193206,
          56.2946019541275,
          56.331839788040064,
          56.343105133340124,
          56.10555208806711,
          55.84451593539901,
          55.639121318020074,
          55.56128618923185,
          55.645307252172834,
          55.761503356688756,
          55.91270573060851,
          56.099892108661976,
          56.32136309164921,
          56.57451414874665,
          56.85606416070103,
          57.16118763935414,
          57.484832432870974,
          57.82157584448719,
          58.16446623582654,
          58.506799214151414,
          58.662673293800005,
          58.76003227405114,
          58.932620676053304,
          59.311277725063505,
          59.706407344248184,
          60.01598211936021,
          60.239101097344964,
          60.37357835662686,
          60.41966127409764,
          60.38310246368289,
          60.27827986069783,
          60.11532021351977,
          59.910865670445205,
          59.685326605847706,
          59.45833896904099,
          59.24831938415972,
          59.070440107137635,
          58.93383715129213,
          58.84088075524273,
          58.789112136406246,
          58.77135395941585,
          58.779303784210725,
          58.80210990630468,
          58.83108386396391,
          58.85990199518008,
          58.88413336053854,
          58.89987586418955,
          58.904793994088124,
          58.72154551731822,
          58.21370800021584,
          57.503542674294124,
          56.75748767729765,
          56.13417817869785,
          55.731454201435234,
          55.56176022904164,
          55.640263790209346,
          55.84478185379744,
          56.10491742453727,
          56.343105133340124,
          56.13104542759868,
          56.14262175459846,
          56.426651416686816,
          56.94280332984754,
          57.58853876431565,
          58.23176475672875,
          58.72046694539487,
          58.904793994088124,
          58.72169431915732,
          58.213470285273324,
          57.50326022503668,
          56.75762368250896,
          56.13461153812719,
          55.73157244047937,
          55.56128618923185,
          55.56176022904164,
          55.506658297809544,
          55.4744419899505,
          55.45893306039998,
          55.4541037927445,
          55.4544083069325,
          55.45687742091881,
          55.45701101819761
         ]
        },
        {
         "marker": {
          "color": "#636EFA"
         },
         "mode": "lines",
         "showlegend": false,
         "type": "scatter",
         "x": [
          0,
          0.04419417382415922,
          0.08838834764831845,
          0.13258252147247768,
          0.1767766952966369,
          0.2209708691207961,
          0.26516504294495535,
          0.3093592167691146,
          0.35355339059327384,
          0.3977475644174331,
          0.44194173824159233,
          0.4861359120657516,
          0.5303300858899108,
          0.5745242597140701,
          0.6187184335382293,
          0.6629126073623886,
          0.7071067811865478,
          0.751300955010707,
          0.7954951288348663,
          0.8396893026590255,
          0.8838834764831848,
          0.928077650307344,
          0.9722718241315033,
          1.0164659979556625,
          1.0606601717798216,
          1.1048543456039808,
          1.14904851942814,
          1.193242693252299,
          1.2374368670764582,
          1.2811777553404435,
          1.3249186436044287,
          1.368659531868414,
          1.4124004201323994,
          1.4561413083963848,
          1.4998821966603701,
          1.5436230849243555,
          1.5873639731883409,
          1.6311048614523262,
          1.6748457497163114,
          1.7185866379802968,
          1.7623275262442821,
          1.8060684145082675,
          1.8498093027722529,
          1.893550191036238,
          1.9372910793002234,
          1.9810319675642087,
          2.024772855828194,
          2.0685137440921793,
          2.112254632356165,
          2.1559955206201504,
          2.201575805029858,
          2.2471560894395655,
          2.292736373849273,
          2.3383166582589805,
          2.383896942668688,
          2.4294772270783955,
          2.475057511488103,
          2.5206377958978106,
          2.566218080307518,
          2.6117983647172256,
          2.657378649126933,
          2.70295893353664,
          2.7485392179463473,
          2.7941195023560548,
          2.8396997867657623,
          2.8852800711754694,
          2.9308603555851764,
          2.976440639994884,
          3.0220209244045915,
          3.0657618126685766,
          3.1095027009325618,
          3.1532435891965473,
          3.1969844774605325,
          3.2407253657245176,
          3.2844662539885032,
          3.3282071422524884,
          3.3724013160766475,
          3.4165954899008066,
          3.4607896637249658,
          3.504983837549125,
          3.549178011373284,
          3.593372185197443,
          3.6375663590216023,
          3.6817605328457614,
          3.7259547066699206,
          3.7701488804940797,
          3.814343054318239,
          3.858537228142398,
          3.902278116406383,
          3.9460190046703683,
          3.9897598929343534,
          4.033500781198339,
          4.077241669462325,
          4.12098255772631,
          4.164723445990296,
          4.164723445990296,
          4.208464334254281,
          4.252205222518266,
          4.295946110782252,
          4.339686999046237,
          4.383427887310222,
          4.4271687755742075,
          4.470909663838193
         ],
         "y": [
          60.42014301528241,
          60.42050927819483,
          60.42068917181317,
          60.407288940830256,
          60.361221854409756,
          60.258725880552554,
          60.07354123600067,
          59.778475171905086,
          59.347833258298984,
          58.760571557565235,
          58.0009551425336,
          57.057370385218896,
          55.92305632802697,
          55.55091056755865,
          55.49989390344281,
          55.46883181728138,
          55.458700662154,
          55.533972085495975,
          55.715967140028916,
          55.92279872578931,
          56.09741178983889,
          56.22042684725194,
          56.29544168135038,
          56.33282814366023,
          56.34368943341683,
          56.62210793294622,
          57.006939075009335,
          57.36045501552925,
          57.50617191689317,
          57.71345942997474,
          57.87634603754239,
          58.00606878688833,
          58.11415752979908,
          58.21072221503661,
          58.30241931370213,
          58.38983993886606,
          58.46782469964591,
          58.529533425659636,
          58.57087990410542,
          58.59536163420402,
          58.61762311414871,
          58.84269175437679,
          59.16513378088855,
          59.466141800711505,
          59.73780451163082,
          59.97237825497937,
          60.16297991859013,
          60.30395469809211,
          60.3906120938606,
          60.42014301528241,
          60.38375449821107,
          60.279031060108416,
          60.11653046138331,
          59.9124407549224,
          59.685974554807,
          59.4585553149744,
          59.24877992529635,
          59.07101717802618,
          58.934452726820645,
          58.841774968655784,
          58.7898018638817,
          58.77240120693036,
          58.77950324397961,
          58.80249147408213,
          58.83214513774407,
          58.86117042360596,
          58.88519965286726,
          58.90058281195242,
          58.90596876400698,
          58.79215725546473,
          58.51699146335551,
          58.21453795596793,
          57.983667670152386,
          57.83204475975051,
          57.697052346950045,
          57.50607418692259,
          57.360716881038854,
          57.00756730621284,
          56.62283970962566,
          56.34368943341683,
          56.67008533762975,
          57.014306359783525,
          57.34473757816635,
          57.68901770043406,
          58.07682258726983,
          58.476006231020506,
          58.786880485592526,
          58.90596876400698,
          58.791478025464436,
          58.51586180148213,
          58.21342313283838,
          57.98281395693206,
          57.831385075690065,
          57.69669035299189,
          57.50617191689317,
          57.50607418692259,
          57.24578752621001,
          56.93169444054976,
          56.572592554703775,
          56.1911681176354,
          55.830789302394635,
          55.56007516936505,
          55.458700662154
         ]
        }
       ],
       "layout": {
        "height": 500,
        "shapes": [
         {
          "line": {
           "color": "gray",
           "dash": "dash",
           "width": 1
          },
          "type": "line",
          "x0": 4.164723445990296,
          "x1": 4.164723445990296,
          "xref": "x",
          "y0": 0,
          "y1": 1,
          "yref": "y domain"
         }
        ],
        "template": {
         "data": {
          "bar": [
           {
            "error_x": {
             "color": "#2a3f5f"
            },
            "error_y": {
             "color": "#2a3f5f"
            },
            "marker": {
             "line": {
              "color": "#E5ECF6",
              "width": 0.5
             },
             "pattern": {
              "fillmode": "overlay",
              "size": 10,
              "solidity": 0.2
             }
            },
            "type": "bar"
           }
          ],
          "barpolar": [
           {
            "marker": {
             "line": {
              "color": "#E5ECF6",
              "width": 0.5
             },
             "pattern": {
              "fillmode": "overlay",
              "size": 10,
              "solidity": 0.2
             }
            },
            "type": "barpolar"
           }
          ],
          "carpet": [
           {
            "aaxis": {
             "endlinecolor": "#2a3f5f",
             "gridcolor": "white",
             "linecolor": "white",
             "minorgridcolor": "white",
             "startlinecolor": "#2a3f5f"
            },
            "baxis": {
             "endlinecolor": "#2a3f5f",
             "gridcolor": "white",
             "linecolor": "white",
             "minorgridcolor": "white",
             "startlinecolor": "#2a3f5f"
            },
            "type": "carpet"
           }
          ],
          "choropleth": [
           {
            "colorbar": {
             "outlinewidth": 0,
             "ticks": ""
            },
            "type": "choropleth"
           }
          ],
          "contour": [
           {
            "colorbar": {
             "outlinewidth": 0,
             "ticks": ""
            },
            "colorscale": [
             [
              0,
              "#0d0887"
             ],
             [
              0.1111111111111111,
              "#46039f"
             ],
             [
              0.2222222222222222,
              "#7201a8"
             ],
             [
              0.3333333333333333,
              "#9c179e"
             ],
             [
              0.4444444444444444,
              "#bd3786"
             ],
             [
              0.5555555555555556,
              "#d8576b"
             ],
             [
              0.6666666666666666,
              "#ed7953"
             ],
             [
              0.7777777777777778,
              "#fb9f3a"
             ],
             [
              0.8888888888888888,
              "#fdca26"
             ],
             [
              1,
              "#f0f921"
             ]
            ],
            "type": "contour"
           }
          ],
          "contourcarpet": [
           {
            "colorbar": {
             "outlinewidth": 0,
             "ticks": ""
            },
            "type": "contourcarpet"
           }
          ],
          "heatmap": [
           {
            "colorbar": {
             "outlinewidth": 0,
             "ticks": ""
            },
            "colorscale": [
             [
              0,
              "#0d0887"
             ],
             [
              0.1111111111111111,
              "#46039f"
             ],
             [
              0.2222222222222222,
              "#7201a8"
             ],
             [
              0.3333333333333333,
              "#9c179e"
             ],
             [
              0.4444444444444444,
              "#bd3786"
             ],
             [
              0.5555555555555556,
              "#d8576b"
             ],
             [
              0.6666666666666666,
              "#ed7953"
             ],
             [
              0.7777777777777778,
              "#fb9f3a"
             ],
             [
              0.8888888888888888,
              "#fdca26"
             ],
             [
              1,
              "#f0f921"
             ]
            ],
            "type": "heatmap"
           }
          ],
          "heatmapgl": [
           {
            "colorbar": {
             "outlinewidth": 0,
             "ticks": ""
            },
            "colorscale": [
             [
              0,
              "#0d0887"
             ],
             [
              0.1111111111111111,
              "#46039f"
             ],
             [
              0.2222222222222222,
              "#7201a8"
             ],
             [
              0.3333333333333333,
              "#9c179e"
             ],
             [
              0.4444444444444444,
              "#bd3786"
             ],
             [
              0.5555555555555556,
              "#d8576b"
             ],
             [
              0.6666666666666666,
              "#ed7953"
             ],
             [
              0.7777777777777778,
              "#fb9f3a"
             ],
             [
              0.8888888888888888,
              "#fdca26"
             ],
             [
              1,
              "#f0f921"
             ]
            ],
            "type": "heatmapgl"
           }
          ],
          "histogram": [
           {
            "marker": {
             "pattern": {
              "fillmode": "overlay",
              "size": 10,
              "solidity": 0.2
             }
            },
            "type": "histogram"
           }
          ],
          "histogram2d": [
           {
            "colorbar": {
             "outlinewidth": 0,
             "ticks": ""
            },
            "colorscale": [
             [
              0,
              "#0d0887"
             ],
             [
              0.1111111111111111,
              "#46039f"
             ],
             [
              0.2222222222222222,
              "#7201a8"
             ],
             [
              0.3333333333333333,
              "#9c179e"
             ],
             [
              0.4444444444444444,
              "#bd3786"
             ],
             [
              0.5555555555555556,
              "#d8576b"
             ],
             [
              0.6666666666666666,
              "#ed7953"
             ],
             [
              0.7777777777777778,
              "#fb9f3a"
             ],
             [
              0.8888888888888888,
              "#fdca26"
             ],
             [
              1,
              "#f0f921"
             ]
            ],
            "type": "histogram2d"
           }
          ],
          "histogram2dcontour": [
           {
            "colorbar": {
             "outlinewidth": 0,
             "ticks": ""
            },
            "colorscale": [
             [
              0,
              "#0d0887"
             ],
             [
              0.1111111111111111,
              "#46039f"
             ],
             [
              0.2222222222222222,
              "#7201a8"
             ],
             [
              0.3333333333333333,
              "#9c179e"
             ],
             [
              0.4444444444444444,
              "#bd3786"
             ],
             [
              0.5555555555555556,
              "#d8576b"
             ],
             [
              0.6666666666666666,
              "#ed7953"
             ],
             [
              0.7777777777777778,
              "#fb9f3a"
             ],
             [
              0.8888888888888888,
              "#fdca26"
             ],
             [
              1,
              "#f0f921"
             ]
            ],
            "type": "histogram2dcontour"
           }
          ],
          "mesh3d": [
           {
            "colorbar": {
             "outlinewidth": 0,
             "ticks": ""
            },
            "type": "mesh3d"
           }
          ],
          "parcoords": [
           {
            "line": {
             "colorbar": {
              "outlinewidth": 0,
              "ticks": ""
             }
            },
            "type": "parcoords"
           }
          ],
          "pie": [
           {
            "automargin": true,
            "type": "pie"
           }
          ],
          "scatter": [
           {
            "marker": {
             "colorbar": {
              "outlinewidth": 0,
              "ticks": ""
             }
            },
            "type": "scatter"
           }
          ],
          "scatter3d": [
           {
            "line": {
             "colorbar": {
              "outlinewidth": 0,
              "ticks": ""
             }
            },
            "marker": {
             "colorbar": {
              "outlinewidth": 0,
              "ticks": ""
             }
            },
            "type": "scatter3d"
           }
          ],
          "scattercarpet": [
           {
            "marker": {
             "colorbar": {
              "outlinewidth": 0,
              "ticks": ""
             }
            },
            "type": "scattercarpet"
           }
          ],
          "scattergeo": [
           {
            "marker": {
             "colorbar": {
              "outlinewidth": 0,
              "ticks": ""
             }
            },
            "type": "scattergeo"
           }
          ],
          "scattergl": [
           {
            "marker": {
             "colorbar": {
              "outlinewidth": 0,
              "ticks": ""
             }
            },
            "type": "scattergl"
           }
          ],
          "scattermapbox": [
           {
            "marker": {
             "colorbar": {
              "outlinewidth": 0,
              "ticks": ""
             }
            },
            "type": "scattermapbox"
           }
          ],
          "scatterpolar": [
           {
            "marker": {
             "colorbar": {
              "outlinewidth": 0,
              "ticks": ""
             }
            },
            "type": "scatterpolar"
           }
          ],
          "scatterpolargl": [
           {
            "marker": {
             "colorbar": {
              "outlinewidth": 0,
              "ticks": ""
             }
            },
            "type": "scatterpolargl"
           }
          ],
          "scatterternary": [
           {
            "marker": {
             "colorbar": {
              "outlinewidth": 0,
              "ticks": ""
             }
            },
            "type": "scatterternary"
           }
          ],
          "surface": [
           {
            "colorbar": {
             "outlinewidth": 0,
             "ticks": ""
            },
            "colorscale": [
             [
              0,
              "#0d0887"
             ],
             [
              0.1111111111111111,
              "#46039f"
             ],
             [
              0.2222222222222222,
              "#7201a8"
             ],
             [
              0.3333333333333333,
              "#9c179e"
             ],
             [
              0.4444444444444444,
              "#bd3786"
             ],
             [
              0.5555555555555556,
              "#d8576b"
             ],
             [
              0.6666666666666666,
              "#ed7953"
             ],
             [
              0.7777777777777778,
              "#fb9f3a"
             ],
             [
              0.8888888888888888,
              "#fdca26"
             ],
             [
              1,
              "#f0f921"
             ]
            ],
            "type": "surface"
           }
          ],
          "table": [
           {
            "cells": {
             "fill": {
              "color": "#EBF0F8"
             },
             "line": {
              "color": "white"
             }
            },
            "header": {
             "fill": {
              "color": "#C8D4E3"
             },
             "line": {
              "color": "white"
             }
            },
            "type": "table"
           }
          ]
         },
         "layout": {
          "annotationdefaults": {
           "arrowcolor": "#2a3f5f",
           "arrowhead": 0,
           "arrowwidth": 1
          },
          "autotypenumbers": "strict",
          "coloraxis": {
           "colorbar": {
            "outlinewidth": 0,
            "ticks": ""
           }
          },
          "colorscale": {
           "diverging": [
            [
             0,
             "#8e0152"
            ],
            [
             0.1,
             "#c51b7d"
            ],
            [
             0.2,
             "#de77ae"
            ],
            [
             0.3,
             "#f1b6da"
            ],
            [
             0.4,
             "#fde0ef"
            ],
            [
             0.5,
             "#f7f7f7"
            ],
            [
             0.6,
             "#e6f5d0"
            ],
            [
             0.7,
             "#b8e186"
            ],
            [
             0.8,
             "#7fbc41"
            ],
            [
             0.9,
             "#4d9221"
            ],
            [
             1,
             "#276419"
            ]
           ],
           "sequential": [
            [
             0,
             "#0d0887"
            ],
            [
             0.1111111111111111,
             "#46039f"
            ],
            [
             0.2222222222222222,
             "#7201a8"
            ],
            [
             0.3333333333333333,
             "#9c179e"
            ],
            [
             0.4444444444444444,
             "#bd3786"
            ],
            [
             0.5555555555555556,
             "#d8576b"
            ],
            [
             0.6666666666666666,
             "#ed7953"
            ],
            [
             0.7777777777777778,
             "#fb9f3a"
            ],
            [
             0.8888888888888888,
             "#fdca26"
            ],
            [
             1,
             "#f0f921"
            ]
           ],
           "sequentialminus": [
            [
             0,
             "#0d0887"
            ],
            [
             0.1111111111111111,
             "#46039f"
            ],
            [
             0.2222222222222222,
             "#7201a8"
            ],
            [
             0.3333333333333333,
             "#9c179e"
            ],
            [
             0.4444444444444444,
             "#bd3786"
            ],
            [
             0.5555555555555556,
             "#d8576b"
            ],
            [
             0.6666666666666666,
             "#ed7953"
            ],
            [
             0.7777777777777778,
             "#fb9f3a"
            ],
            [
             0.8888888888888888,
             "#fdca26"
            ],
            [
             1,
             "#f0f921"
            ]
           ]
          },
          "colorway": [
           "#636efa",
           "#EF553B",
           "#00cc96",
           "#ab63fa",
           "#FFA15A",
           "#19d3f3",
           "#FF6692",
           "#B6E880",
           "#FF97FF",
           "#FECB52"
          ],
          "font": {
           "color": "#2a3f5f"
          },
          "geo": {
           "bgcolor": "white",
           "lakecolor": "white",
           "landcolor": "#E5ECF6",
           "showlakes": true,
           "showland": true,
           "subunitcolor": "white"
          },
          "hoverlabel": {
           "align": "left"
          },
          "hovermode": "closest",
          "mapbox": {
           "style": "light"
          },
          "paper_bgcolor": "white",
          "plot_bgcolor": "#E5ECF6",
          "polar": {
           "angularaxis": {
            "gridcolor": "white",
            "linecolor": "white",
            "ticks": ""
           },
           "bgcolor": "#E5ECF6",
           "radialaxis": {
            "gridcolor": "white",
            "linecolor": "white",
            "ticks": ""
           }
          },
          "scene": {
           "xaxis": {
            "backgroundcolor": "#E5ECF6",
            "gridcolor": "white",
            "gridwidth": 2,
            "linecolor": "white",
            "showbackground": true,
            "ticks": "",
            "zerolinecolor": "white"
           },
           "yaxis": {
            "backgroundcolor": "#E5ECF6",
            "gridcolor": "white",
            "gridwidth": 2,
            "linecolor": "white",
            "showbackground": true,
            "ticks": "",
            "zerolinecolor": "white"
           },
           "zaxis": {
            "backgroundcolor": "#E5ECF6",
            "gridcolor": "white",
            "gridwidth": 2,
            "linecolor": "white",
            "showbackground": true,
            "ticks": "",
            "zerolinecolor": "white"
           }
          },
          "shapedefaults": {
           "line": {
            "color": "#2a3f5f"
           }
          },
          "ternary": {
           "aaxis": {
            "gridcolor": "white",
            "linecolor": "white",
            "ticks": ""
           },
           "baxis": {
            "gridcolor": "white",
            "linecolor": "white",
            "ticks": ""
           },
           "bgcolor": "#E5ECF6",
           "caxis": {
            "gridcolor": "white",
            "linecolor": "white",
            "ticks": ""
           }
          },
          "title": {
           "x": 0.05
          },
          "xaxis": {
           "automargin": true,
           "gridcolor": "white",
           "linecolor": "white",
           "ticks": "",
           "title": {
            "standoff": 15
           },
           "zerolinecolor": "white",
           "zerolinewidth": 2
          },
          "yaxis": {
           "automargin": true,
           "gridcolor": "white",
           "linecolor": "white",
           "ticks": "",
           "title": {
            "standoff": 15
           },
           "zerolinecolor": "white",
           "zerolinewidth": 2
          }
         }
        },
        "width": 700,
        "xaxis": {
         "autorange": true,
         "range": [
          0,
          4.470909663838193
         ],
         "ticktext": [
          "G",
          "X",
          "W",
          "K",
          "G",
          "L",
          "U",
          "W",
          "L",
          "K|U",
          "X"
         ],
         "tickvals": [
          0,
          0.7071067811865478,
          1.0606601717798216,
          1.2374368670764582,
          2.1559955206201504,
          3.0220209244045915,
          3.3282071422524884,
          3.504983837549125,
          3.858537228142398,
          4.164723445990296,
          4.470909663838193
         ],
         "type": "linear"
        },
        "yaxis": {
         "autorange": true,
         "range": [
          -3.532712299019457,
          63.786657670278046
         ],
         "title": {
          "text": "Frequency (meV)"
         },
         "type": "linear"
        }
       }
      },
      "image/png": "[encoded data removed]",
      "text/html": [
       "<div>                            <div id=\"c3033470-726a-4a7b-9163-aec634e6abf8\" class=\"plotly-graph-div\" style=\"height:500px; width:700px;\"></div>            <script type=\"text/javascript\">                require([\"plotly\"], function(Plotly) {                    window.PLOTLYENV=window.PLOTLYENV || {};                                    if (document.getElementById(\"c3033470-726a-4a7b-9163-aec634e6abf8\")) {                    Plotly.newPlot(                        \"c3033470-726a-4a7b-9163-aec634e6abf8\",                        [{\"marker\":{\"color\":\"#636EFA\"},\"mode\":\"lines\",\"showlegend\":false,\"type\":\"scatter\",\"x\":[0.0,0.04419417382415922,0.08838834764831845,0.13258252147247768,0.1767766952966369,0.2209708691207961,0.26516504294495535,0.3093592167691146,0.35355339059327384,0.3977475644174331,0.44194173824159233,0.4861359120657516,0.5303300858899108,0.5745242597140701,0.6187184335382293,0.6629126073623886,0.7071067811865478,0.751300955010707,0.7954951288348663,0.8396893026590255,0.8838834764831848,0.928077650307344,0.9722718241315033,1.0164659979556625,1.0606601717798216,1.1048543456039808,1.14904851942814,1.193242693252299,1.2374368670764582,1.2811777553404435,1.3249186436044287,1.368659531868414,1.4124004201323994,1.4561413083963848,1.4998821966603701,1.5436230849243555,1.5873639731883409,1.6311048614523262,1.6748457497163114,1.7185866379802968,1.7623275262442821,1.8060684145082675,1.8498093027722529,1.893550191036238,1.9372910793002234,1.9810319675642087,2.024772855828194,2.0685137440921793,2.112254632356165,2.1559955206201504,2.201575805029858,2.2471560894395655,2.292736373849273,2.3383166582589805,2.383896942668688,2.4294772270783955,2.475057511488103,2.5206377958978106,2.566218080307518,2.6117983647172256,2.657378649126933,2.70295893353664,2.7485392179463473,2.7941195023560548,2.8396997867657623,2.8852800711754694,2.9308603555851764,2.976440639994884,3.0220209244045915,3.0657618126685766,3.1095027009325618,3.1532435891965473,3.1969844774605325,3.2407253657245176,3.2844662539885032,3.3282071422524884,3.3724013160766475,3.4165954899008066,3.4607896637249658,3.504983837549125,3.549178011373284,3.593372185197443,3.6375663590216023,3.6817605328457614,3.7259547066699206,3.7701488804940797,3.814343054318239,3.858537228142398,3.902278116406383,3.9460190046703683,3.9897598929343534,4.033500781198339,4.077241669462325,4.12098255772631,4.164723445990296,4.164723445990296,4.208464334254281,4.252205222518266,4.295946110782252,4.339686999046237,4.383427887310222,4.4271687755742075,4.470909663838193],\"y\":[-0.1667438005545818,2.3591349299423627,4.669606278507968,6.85882658554211,8.863617875093908,10.637183953641479,12.14120966548392,13.351784869936937,14.27251925161431,14.92696694822229,15.353646938403177,15.61072110402032,15.751962778583465,15.820854667430087,15.85065862359473,15.862507431148996,15.865569788816957,16.14427632629621,16.93051383641666,18.097531744069556,19.475551702825364,20.875517466749542,22.09967620220456,22.949215492838903,23.256092223644135,22.195877256980452,20.335623694042972,18.620962605175258,17.926052042266445,18.187080655839537,18.343715151427688,18.377322968608784,18.275150118889112,18.03299783339796,17.65142401303352,17.13398076245529,16.490149439634507,15.731024222668122,14.865419513899235,13.902603726395263,12.8503351187603,11.71208370738958,10.49062690801115,9.188894989345547,7.807609528349375,6.349250485573412,4.82447448131272,3.248260217350018,1.6304091051619336,-0.1667438005545818,1.549378387277593,3.075330538421674,4.541383601135733,5.905083413608191,7.135047619842204,8.216122161099182,9.142691214602692,9.912219445109566,10.527524658645575,11.003743692333966,11.365829924669661,11.6353137439182,11.835080108150313,11.979659708984707,12.084648871200242,12.16119522180769,12.213783699268218,12.24546367045586,12.256269211044152,12.73600782595626,13.95657790650934,15.450945776589645,16.784465496748496,17.680539649126825,18.042619846469755,17.92831082886049,18.621535113518977,20.335434112985038,22.19638940264588,23.256092223644135,22.424912324482616,21.19270468540016,19.61616419653593,17.789624056080424,15.862426570858023,14.071188711671006,12.75110139357484,12.256269211044152,12.73594656821114,13.956144982778758,15.450738287560615,16.784648939301526,17.680800891185584,18.041765372712327,17.926052042266445,17.92831082886049,17.586060349562025,17.196043241270342,16.79654666946343,16.427046603405323,16.128073419578428,15.933629443601484,15.865569788816957]},{\"marker\":{\"color\":\"#636EFA\"},\"mode\":\"lines\",\"showlegend\":false,\"type\":\"scatter\",\"x\":[0.0,0.04419417382415922,0.08838834764831845,0.13258252147247768,0.1767766952966369,0.2209708691207961,0.26516504294495535,0.3093592167691146,0.35355339059327384,0.3977475644174331,0.44194173824159233,0.4861359120657516,0.5303300858899108,0.5745242597140701,0.6187184335382293,0.6629126073623886,0.7071067811865478,0.751300955010707,0.7954951288348663,0.8396893026590255,0.8838834764831848,0.928077650307344,0.9722718241315033,1.0164659979556625,1.0606601717798216,1.1048543456039808,1.14904851942814,1.193242693252299,1.2374368670764582,1.2811777553404435,1.3249186436044287,1.368659531868414,1.4124004201323994,1.4561413083963848,1.4998821966603701,1.5436230849243555,1.5873639731883409,1.6311048614523262,1.6748457497163114,1.7185866379802968,1.7623275262442821,1.8060684145082675,1.8498093027722529,1.893550191036238,1.9372910793002234,1.9810319675642087,2.024772855828194,2.0685137440921793,2.112254632356165,2.1559955206201504,2.201575805029858,2.2471560894395655,2.292736373849273,2.3383166582589805,2.383896942668688,2.4294772270783955,2.475057511488103,2.5206377958978106,2.566218080307518,2.6117983647172256,2.657378649126933,2.70295893353664,2.7485392179463473,2.7941195023560548,2.8396997867657623,2.8852800711754694,2.9308603555851764,2.976440639994884,3.0220209244045915,3.0657618126685766,3.1095027009325618,3.1532435891965473,3.1969844774605325,3.2407253657245176,3.2844662539885032,3.3282071422524884,3.3724013160766475,3.4165954899008066,3.4607896637249658,3.504983837549125,3.549178011373284,3.593372185197443,3.6375663590216023,3.6817605328457614,3.7259547066699206,3.7701488804940797,3.814343054318239,3.858537228142398,3.902278116406383,3.9460190046703683,3.9897598929343534,4.033500781198339,4.077241669462325,4.12098255772631,4.164723445990296,4.164723445990296,4.208464334254281,4.252205222518266,4.295946110782252,4.339686999046237,4.383427887310222,4.4271687755742075,4.470909663838193],\"y\":[0.04867865603234367,2.3737138374639013,4.678032814976582,6.861138270528691,8.865426574721912,10.639383346731476,12.142342745934954,13.35365522368296,14.27433184923734,14.927489665773898,15.35741416436594,15.614798946643036,15.754037662726851,15.821702258575945,15.851883377513806,15.86380200103299,15.866828179532101,16.145799125207244,16.933372765383215,18.10030406103054,19.477386249753106,20.87690195751452,22.10092704328146,22.950913194572685,23.25807098354858,23.537598199935815,23.578755575058644,23.522770986122094,23.489009287916573,24.080318892869876,24.247464783719124,24.066629083711756,23.64626882321783,23.072482283848984,22.389193600008856,21.60645664621807,20.715379670578713,19.70351580327421,18.5634823314966,17.294903659785575,15.906014706854794,14.408241843076866,12.811872112978204,11.130846674524205,9.380334302638634,7.571058544621764,5.713518129205644,3.82243234403066,1.9165157445659418,0.04867865603234367,1.5588651943765879,3.0878660413585983,4.546040096653378,5.908328759712122,7.1383580608736885,8.217288297262632,9.143967218033712,9.913597529538702,10.528786809584071,11.006907236719254,11.368770149416656,11.638762617369617,11.836126288666549,11.980646303173348,12.08555780726731,12.16231533439293,12.215580498794658,12.24681098031962,12.25762749810969,13.307332332098335,15.903913301582646,19.03711116893513,21.823806240860804,23.557244219046243,23.99209852116195,23.489136503948618,23.5235892267885,23.579373075081143,23.537557887974632,23.25807098354858,23.667287987727814,23.623476987143768,22.955616289689505,21.376969065479106,18.866172135051627,15.894527005392112,13.322774203351862,12.25762749810969,13.307554715411065,15.904360914908347,19.037000951284472,21.823631589826917,23.557236178295764,23.991835647332895,23.489009287916573,23.489136503948618,22.482443907437858,21.160828486868574,19.682601237926583,18.23156065572946,16.997923057937705,16.16281391169618,15.866828179532101]},{\"marker\":{\"color\":\"#636EFA\"},\"mode\":\"lines\",\"showlegend\":false,\"type\":\"scatter\",\"x\":[0.0,0.04419417382415922,0.08838834764831845,0.13258252147247768,0.1767766952966369,0.2209708691207961,0.26516504294495535,0.3093592167691146,0.35355339059327384,0.3977475644174331,0.44194173824159233,0.4861359120657516,0.5303300858899108,0.5745242597140701,0.6187184335382293,0.6629126073623886,0.7071067811865478,0.751300955010707,0.7954951288348663,0.8396893026590255,0.8838834764831848,0.928077650307344,0.9722718241315033,1.0164659979556625,1.0606601717798216,1.1048543456039808,1.14904851942814,1.193242693252299,1.2374368670764582,1.2811777553404435,1.3249186436044287,1.368659531868414,1.4124004201323994,1.4561413083963848,1.4998821966603701,1.5436230849243555,1.5873639731883409,1.6311048614523262,1.6748457497163114,1.7185866379802968,1.7623275262442821,1.8060684145082675,1.8498093027722529,1.893550191036238,1.9372910793002234,1.9810319675642087,2.024772855828194,2.0685137440921793,2.112254632356165,2.1559955206201504,2.201575805029858,2.2471560894395655,2.292736373849273,2.3383166582589805,2.383896942668688,2.4294772270783955,2.475057511488103,2.5206377958978106,2.566218080307518,2.6117983647172256,2.657378649126933,2.70295893353664,2.7485392179463473,2.7941195023560548,2.8396997867657623,2.8852800711754694,2.9308603555851764,2.976440639994884,3.0220209244045915,3.0657618126685766,3.1095027009325618,3.1532435891965473,3.1969844774605325,3.2407253657245176,3.2844662539885032,3.3282071422524884,3.3724013160766475,3.4165954899008066,3.4607896637249658,3.504983837549125,3.549178011373284,3.593372185197443,3.6375663590216023,3.6817605328457614,3.7259547066699206,3.7701488804940797,3.814343054318239,3.858537228142398,3.902278116406383,3.9460190046703683,3.9897598929343534,4.033500781198339,4.077241669462325,4.12098255772631,4.164723445990296,4.164723445990296,4.208464334254281,4.252205222518266,4.295946110782252,4.339686999046237,4.383427887310222,4.4271687755742075,4.470909663838193],\"y\":[0.20002956552078038,3.671380573183907,7.342507123066141,11.012305840041481,14.672149241623822,18.304627605053415,21.884346275074282,25.38096011562979,28.761001238145344,31.99125129627236,35.04587464832048,37.91134954191566,40.585731351189075,43.076059731949115,45.39464768436606,47.55291315012536,49.55547096746693,49.28973833437771,48.55620802640955,47.49550901632442,46.26045262888404,45.00522404380109,43.90006397613529,43.127450639685534,42.84711920166097,42.64294009032832,43.19311521378786,43.802467961631336,44.0463180925347,42.8672236663429,41.66109273926204,40.43221375103236,39.176866903637205,37.88160794138488,36.52265598314742,35.07075714083762,33.49575455091372,31.77097198265525,29.878890249499612,27.812772596978174,25.575634285162867,23.177758698824316,20.632873576516282,17.956224240007227,15.162735149124497,12.266419853972788,9.282137421393443,6.227601136542807,3.1270907358538182,0.20002956552078038,2.8761436562298264,5.754268340206105,8.650510118204378,11.563817580989491,14.491868147278488,17.429570398052213,20.36800753617553,23.28987658603906,26.170629309369385,28.9799223348545,31.685522325673862,34.25787271860301,36.67073145054369,38.903460300651,40.94295702519195,42.78185887647983,44.40228732413115,45.71118784054101,46.31121394320045,45.79058815866763,44.39050446320348,42.59451626604182,41.157827118304965,40.8805242917269,42.062693110979275,44.046948686376915,43.80256173882062,43.192648136655336,42.642641279525236,42.84711920166097,41.782024731372225,40.90803098140738,40.54268922709916,41.09312478301548,42.5545909212169,44.358209540767604,45.780040638201314,46.31121394320045,45.79048493293493,44.39044921980399,42.59485493569498,41.158183130537346,40.88033380846179,42.062291152145,44.0463180925347,44.046948686376915,45.18696548739112,46.20896735730475,47.17430648354216,48.11035616589359,48.87987728933895,49.380767132032226,49.55547096746693]},{\"marker\":{\"color\":\"#636EFA\"},\"mode\":\"lines\",\"showlegend\":false,\"type\":\"scatter\",\"x\":[0.0,0.04419417382415922,0.08838834764831845,0.13258252147247768,0.1767766952966369,0.2209708691207961,0.26516504294495535,0.3093592167691146,0.35355339059327384,0.3977475644174331,0.44194173824159233,0.4861359120657516,0.5303300858899108,0.5745242597140701,0.6187184335382293,0.6629126073623886,0.7071067811865478,0.751300955010707,0.7954951288348663,0.8396893026590255,0.8838834764831848,0.928077650307344,0.9722718241315033,1.0164659979556625,1.0606601717798216,1.1048543456039808,1.14904851942814,1.193242693252299,1.2374368670764582,1.2811777553404435,1.3249186436044287,1.368659531868414,1.4124004201323994,1.4561413083963848,1.4998821966603701,1.5436230849243555,1.5873639731883409,1.6311048614523262,1.6748457497163114,1.7185866379802968,1.7623275262442821,1.8060684145082675,1.8498093027722529,1.893550191036238,1.9372910793002234,1.9810319675642087,2.024772855828194,2.0685137440921793,2.112254632356165,2.1559955206201504,2.201575805029858,2.2471560894395655,2.292736373849273,2.3383166582589805,2.383896942668688,2.4294772270783955,2.475057511488103,2.5206377958978106,2.566218080307518,2.6117983647172256,2.657378649126933,2.70295893353664,2.7485392179463473,2.7941195023560548,2.8396997867657623,2.8852800711754694,2.9308603555851764,2.976440639994884,3.0220209244045915,3.0657618126685766,3.1095027009325618,3.1532435891965473,3.1969844774605325,3.2407253657245176,3.2844662539885032,3.3282071422524884,3.3724013160766475,3.4165954899008066,3.4607896637249658,3.504983837549125,3.549178011373284,3.593372185197443,3.6375663590216023,3.6817605328457614,3.7259547066699206,3.7701488804940797,3.814343054318239,3.858537228142398,3.902278116406383,3.9460190046703683,3.9897598929343534,4.033500781198339,4.077241669462325,4.12098255772631,4.164723445990296,4.164723445990296,4.208464334254281,4.252205222518266,4.295946110782252,4.339686999046237,4.383427887310222,4.4271687755742075,4.470909663838193],\"y\":[60.418338817947635,60.304610979706986,59.97423257384993,59.46742668066894,58.8443552172148,58.175196747593354,57.52696895859361,56.953579802690655,56.48845608540389,56.140974673834286,55.897194015758885,55.733517306866595,55.62443292682345,54.59785705741787,53.088015082419645,51.40392034021285,49.55741965116719,49.291072769713494,48.557430688448086,47.497296318146766,46.26161267711923,45.0061494443156,43.900744142073314,43.128016184013255,42.84788324626563,43.6076865111315,44.25477240618261,44.696537078244624,44.85440729977184,44.76401133367596,45.143405700892046,45.93418512971934,47.02357070227379,48.29500549336611,49.654150183238755,51.02969929318582,52.36911668028999,53.63391563542188,54.796858142577946,55.842134099052,56.76359702726828,57.56306617905509,58.24800810208782,58.82762957560359,59.18550438256714,59.50052273654817,59.83672998913547,60.13752856219063,60.3456495460177,60.418338817947635,60.37053058045357,60.22959491948756,60.01055288825235,59.734660245206136,59.42345463012019,59.09133879462022,58.74098029103278,58.36379302238123,57.94108946189391,57.4482817325035,56.86192600801726,56.16435630386483,55.34726481128682,54.4148687907587,53.38427786515619,52.28329564603137,51.15897717176479,50.133466482122145,49.62531822752919,49.52432836615399,49.20087485428087,48.618791139523594,47.78016261003499,46.75950425971203,45.67929821524459,44.855433608692536,44.69728969776568,44.25497117876244,43.607619138347076,42.84788324626563,44.01055468734539,45.25387220878577,46.51297863592092,47.662891044233206,48.575670868948805,49.18912071691773,49.52225215181301,49.62531822752919,49.52418448137366,49.200296754379,48.617689981930724,47.77896300751476,46.75864852788633,45.67840982977381,44.85440729977184,44.855433608692536,45.379455512388155,46.27036453621401,47.274149969987214,48.164214666867345,48.89017892106306,49.38195183670339,49.55741965116719]},{\"marker\":{\"color\":\"#636EFA\"},\"mode\":\"lines\",\"showlegend\":false,\"type\":\"scatter\",\"x\":[0.0,0.04419417382415922,0.08838834764831845,0.13258252147247768,0.1767766952966369,0.2209708691207961,0.26516504294495535,0.3093592167691146,0.35355339059327384,0.3977475644174331,0.44194173824159233,0.4861359120657516,0.5303300858899108,0.5745242597140701,0.6187184335382293,0.6629126073623886,0.7071067811865478,0.751300955010707,0.7954951288348663,0.8396893026590255,0.8838834764831848,0.928077650307344,0.9722718241315033,1.0164659979556625,1.0606601717798216,1.1048543456039808,1.14904851942814,1.193242693252299,1.2374368670764582,1.2811777553404435,1.3249186436044287,1.368659531868414,1.4124004201323994,1.4561413083963848,1.4998821966603701,1.5436230849243555,1.5873639731883409,1.6311048614523262,1.6748457497163114,1.7185866379802968,1.7623275262442821,1.8060684145082675,1.8498093027722529,1.893550191036238,1.9372910793002234,1.9810319675642087,2.024772855828194,2.0685137440921793,2.112254632356165,2.1559955206201504,2.201575805029858,2.2471560894395655,2.292736373849273,2.3383166582589805,2.383896942668688,2.4294772270783955,2.475057511488103,2.5206377958978106,2.566218080307518,2.6117983647172256,2.657378649126933,2.70295893353664,2.7485392179463473,2.7941195023560548,2.8396997867657623,2.8852800711754694,2.9308603555851764,2.976440639994884,3.0220209244045915,3.0657618126685766,3.1095027009325618,3.1532435891965473,3.1969844774605325,3.2407253657245176,3.2844662539885032,3.3282071422524884,3.3724013160766475,3.4165954899008066,3.4607896637249658,3.504983837549125,3.549178011373284,3.593372185197443,3.6375663590216023,3.6817605328457614,3.7259547066699206,3.7701488804940797,3.814343054318239,3.858537228142398,3.902278116406383,3.9460190046703683,3.9897598929343534,4.033500781198339,4.077241669462325,4.12098255772631,4.164723445990296,4.164723445990296,4.208464334254281,4.252205222518266,4.295946110782252,4.339686999046237,4.383427887310222,4.4271687755742075,4.470909663838193],\"y\":[60.41966127409764,60.305455578003404,59.975244030309064,59.468652991564475,58.84602789956427,58.17662359538606,57.52788792931063,56.95466678533109,56.489926355314694,56.141540452562865,55.89800417812212,55.73408290373065,55.62491251417235,55.549897034070575,55.4989044504133,55.46788276202111,55.45701101819761,55.53298313744052,55.715487002986364,55.92152355285653,56.09627399630045,56.22013668193206,56.2946019541275,56.331839788040064,56.343105133340124,56.10555208806711,55.84451593539901,55.639121318020074,55.56128618923185,55.645307252172834,55.761503356688756,55.91270573060851,56.099892108661976,56.32136309164921,56.57451414874665,56.85606416070103,57.16118763935414,57.484832432870974,57.82157584448719,58.16446623582654,58.506799214151414,58.662673293800005,58.76003227405114,58.932620676053304,59.311277725063505,59.706407344248184,60.01598211936021,60.239101097344964,60.37357835662686,60.41966127409764,60.38310246368289,60.27827986069783,60.11532021351977,59.910865670445205,59.685326605847706,59.45833896904099,59.24831938415972,59.070440107137635,58.93383715129213,58.84088075524273,58.789112136406246,58.77135395941585,58.779303784210725,58.80210990630468,58.83108386396391,58.85990199518008,58.88413336053854,58.89987586418955,58.904793994088124,58.72154551731822,58.21370800021584,57.503542674294124,56.75748767729765,56.13417817869785,55.731454201435234,55.56176022904164,55.640263790209346,55.84478185379744,56.10491742453727,56.343105133340124,56.13104542759868,56.14262175459846,56.426651416686816,56.94280332984754,57.58853876431565,58.23176475672875,58.72046694539487,58.904793994088124,58.72169431915732,58.213470285273324,57.50326022503668,56.75762368250896,56.13461153812719,55.73157244047937,55.56128618923185,55.56176022904164,55.506658297809544,55.4744419899505,55.45893306039998,55.4541037927445,55.4544083069325,55.45687742091881,55.45701101819761]},{\"marker\":{\"color\":\"#636EFA\"},\"mode\":\"lines\",\"showlegend\":false,\"type\":\"scatter\",\"x\":[0.0,0.04419417382415922,0.08838834764831845,0.13258252147247768,0.1767766952966369,0.2209708691207961,0.26516504294495535,0.3093592167691146,0.35355339059327384,0.3977475644174331,0.44194173824159233,0.4861359120657516,0.5303300858899108,0.5745242597140701,0.6187184335382293,0.6629126073623886,0.7071067811865478,0.751300955010707,0.7954951288348663,0.8396893026590255,0.8838834764831848,0.928077650307344,0.9722718241315033,1.0164659979556625,1.0606601717798216,1.1048543456039808,1.14904851942814,1.193242693252299,1.2374368670764582,1.2811777553404435,1.3249186436044287,1.368659531868414,1.4124004201323994,1.4561413083963848,1.4998821966603701,1.5436230849243555,1.5873639731883409,1.6311048614523262,1.6748457497163114,1.7185866379802968,1.7623275262442821,1.8060684145082675,1.8498093027722529,1.893550191036238,1.9372910793002234,1.9810319675642087,2.024772855828194,2.0685137440921793,2.112254632356165,2.1559955206201504,2.201575805029858,2.2471560894395655,2.292736373849273,2.3383166582589805,2.383896942668688,2.4294772270783955,2.475057511488103,2.5206377958978106,2.566218080307518,2.6117983647172256,2.657378649126933,2.70295893353664,2.7485392179463473,2.7941195023560548,2.8396997867657623,2.8852800711754694,2.9308603555851764,2.976440639994884,3.0220209244045915,3.0657618126685766,3.1095027009325618,3.1532435891965473,3.1969844774605325,3.2407253657245176,3.2844662539885032,3.3282071422524884,3.3724013160766475,3.4165954899008066,3.4607896637249658,3.504983837549125,3.549178011373284,3.593372185197443,3.6375663590216023,3.6817605328457614,3.7259547066699206,3.7701488804940797,3.814343054318239,3.858537228142398,3.902278116406383,3.9460190046703683,3.9897598929343534,4.033500781198339,4.077241669462325,4.12098255772631,4.164723445990296,4.164723445990296,4.208464334254281,4.252205222518266,4.295946110782252,4.339686999046237,4.383427887310222,4.4271687755742075,4.470909663838193],\"y\":[60.42014301528241,60.42050927819483,60.42068917181317,60.407288940830256,60.361221854409756,60.258725880552554,60.07354123600067,59.778475171905086,59.347833258298984,58.760571557565235,58.0009551425336,57.057370385218896,55.92305632802697,55.55091056755865,55.49989390344281,55.46883181728138,55.458700662154,55.533972085495975,55.715967140028916,55.92279872578931,56.09741178983889,56.22042684725194,56.29544168135038,56.33282814366023,56.34368943341683,56.62210793294622,57.006939075009335,57.36045501552925,57.50617191689317,57.71345942997474,57.87634603754239,58.00606878688833,58.11415752979908,58.21072221503661,58.30241931370213,58.38983993886606,58.46782469964591,58.529533425659636,58.57087990410542,58.59536163420402,58.61762311414871,58.84269175437679,59.16513378088855,59.466141800711505,59.73780451163082,59.97237825497937,60.16297991859013,60.30395469809211,60.3906120938606,60.42014301528241,60.38375449821107,60.279031060108416,60.11653046138331,59.9124407549224,59.685974554807,59.4585553149744,59.24877992529635,59.07101717802618,58.934452726820645,58.841774968655784,58.7898018638817,58.77240120693036,58.77950324397961,58.80249147408213,58.83214513774407,58.86117042360596,58.88519965286726,58.90058281195242,58.90596876400698,58.79215725546473,58.51699146335551,58.21453795596793,57.983667670152386,57.83204475975051,57.697052346950045,57.50607418692259,57.360716881038854,57.00756730621284,56.62283970962566,56.34368943341683,56.67008533762975,57.014306359783525,57.34473757816635,57.68901770043406,58.07682258726983,58.476006231020506,58.786880485592526,58.90596876400698,58.791478025464436,58.51586180148213,58.21342313283838,57.98281395693206,57.831385075690065,57.69669035299189,57.50617191689317,57.50607418692259,57.24578752621001,56.93169444054976,56.572592554703775,56.1911681176354,55.830789302394635,55.56007516936505,55.458700662154]}],                        {\"height\":500,\"shapes\":[{\"line\":{\"color\":\"gray\",\"dash\":\"dash\",\"width\":1},\"type\":\"line\",\"x0\":4.164723445990296,\"x1\":4.164723445990296,\"xref\":\"x\",\"y0\":0,\"y1\":1,\"yref\":\"y domain\"}],\"template\":{\"data\":{\"bar\":[{\"error_x\":{\"color\":\"#2a3f5f\"},\"error_y\":{\"color\":\"#2a3f5f\"},\"marker\":{\"line\":{\"color\":\"#E5ECF6\",\"width\":0.5},\"pattern\":{\"fillmode\":\"overlay\",\"size\":10,\"solidity\":0.2}},\"type\":\"bar\"}],\"barpolar\":[{\"marker\":{\"line\":{\"color\":\"#E5ECF6\",\"width\":0.5},\"pattern\":{\"fillmode\":\"overlay\",\"size\":10,\"solidity\":0.2}},\"type\":\"barpolar\"}],\"carpet\":[{\"aaxis\":{\"endlinecolor\":\"#2a3f5f\",\"gridcolor\":\"white\",\"linecolor\":\"white\",\"minorgridcolor\":\"white\",\"startlinecolor\":\"#2a3f5f\"},\"baxis\":{\"endlinecolor\":\"#2a3f5f\",\"gridcolor\":\"white\",\"linecolor\":\"white\",\"minorgridcolor\":\"white\",\"startlinecolor\":\"#2a3f5f\"},\"type\":\"carpet\"}],\"choropleth\":[{\"colorbar\":{\"outlinewidth\":0,\"ticks\":\"\"},\"type\":\"choropleth\"}],\"contour\":[{\"colorbar\":{\"outlinewidth\":0,\"ticks\":\"\"},\"colorscale\":[[0.0,\"#0d0887\"],[0.1111111111111111,\"#46039f\"],[0.2222222222222222,\"#7201a8\"],[0.3333333333333333,\"#9c179e\"],[0.4444444444444444,\"#bd3786\"],[0.5555555555555556,\"#d8576b\"],[0.6666666666666666,\"#ed7953\"],[0.7777777777777778,\"#fb9f3a\"],[0.8888888888888888,\"#fdca26\"],[1.0,\"#f0f921\"]],\"type\":\"contour\"}],\"contourcarpet\":[{\"colorbar\":{\"outlinewidth\":0,\"ticks\":\"\"},\"type\":\"contourcarpet\"}],\"heatmap\":[{\"colorbar\":{\"outlinewidth\":0,\"ticks\":\"\"},\"colorscale\":[[0.0,\"#0d0887\"],[0.1111111111111111,\"#46039f\"],[0.2222222222222222,\"#7201a8\"],[0.3333333333333333,\"#9c179e\"],[0.4444444444444444,\"#bd3786\"],[0.5555555555555556,\"#d8576b\"],[0.6666666666666666,\"#ed7953\"],[0.7777777777777778,\"#fb9f3a\"],[0.8888888888888888,\"#fdca26\"],[1.0,\"#f0f921\"]],\"type\":\"heatmap\"}],\"heatmapgl\":[{\"colorbar\":{\"outlinewidth\":0,\"ticks\":\"\"},\"colorscale\":[[0.0,\"#0d0887\"],[0.1111111111111111,\"#46039f\"],[0.2222222222222222,\"#7201a8\"],[0.3333333333333333,\"#9c179e\"],[0.4444444444444444,\"#bd3786\"],[0.5555555555555556,\"#d8576b\"],[0.6666666666666666,\"#ed7953\"],[0.7777777777777778,\"#fb9f3a\"],[0.8888888888888888,\"#fdca26\"],[1.0,\"#f0f921\"]],\"type\":\"heatmapgl\"}],\"histogram\":[{\"marker\":{\"pattern\":{\"fillmode\":\"overlay\",\"size\":10,\"solidity\":0.2}},\"type\":\"histogram\"}],\"histogram2d\":[{\"colorbar\":{\"outlinewidth\":0,\"ticks\":\"\"},\"colorscale\":[[0.0,\"#0d0887\"],[0.1111111111111111,\"#46039f\"],[0.2222222222222222,\"#7201a8\"],[0.3333333333333333,\"#9c179e\"],[0.4444444444444444,\"#bd3786\"],[0.5555555555555556,\"#d8576b\"],[0.6666666666666666,\"#ed7953\"],[0.7777777777777778,\"#fb9f3a\"],[0.8888888888888888,\"#fdca26\"],[1.0,\"#f0f921\"]],\"type\":\"histogram2d\"}],\"histogram2dcontour\":[{\"colorbar\":{\"outlinewidth\":0,\"ticks\":\"\"},\"colorscale\":[[0.0,\"#0d0887\"],[0.1111111111111111,\"#46039f\"],[0.2222222222222222,\"#7201a8\"],[0.3333333333333333,\"#9c179e\"],[0.4444444444444444,\"#bd3786\"],[0.5555555555555556,\"#d8576b\"],[0.6666666666666666,\"#ed7953\"],[0.7777777777777778,\"#fb9f3a\"],[0.8888888888888888,\"#fdca26\"],[1.0,\"#f0f921\"]],\"type\":\"histogram2dcontour\"}],\"mesh3d\":[{\"colorbar\":{\"outlinewidth\":0,\"ticks\":\"\"},\"type\":\"mesh3d\"}],\"parcoords\":[{\"line\":{\"colorbar\":{\"outlinewidth\":0,\"ticks\":\"\"}},\"type\":\"parcoords\"}],\"pie\":[{\"automargin\":true,\"type\":\"pie\"}],\"scatter\":[{\"marker\":{\"colorbar\":{\"outlinewidth\":0,\"ticks\":\"\"}},\"type\":\"scatter\"}],\"scatter3d\":[{\"line\":{\"colorbar\":{\"outlinewidth\":0,\"ticks\":\"\"}},\"marker\":{\"colorbar\":{\"outlinewidth\":0,\"ticks\":\"\"}},\"type\":\"scatter3d\"}],\"scattercarpet\":[{\"marker\":{\"colorbar\":{\"outlinewidth\":0,\"ticks\":\"\"}},\"type\":\"scattercarpet\"}],\"scattergeo\":[{\"marker\":{\"colorbar\":{\"outlinewidth\":0,\"ticks\":\"\"}},\"type\":\"scattergeo\"}],\"scattergl\":[{\"marker\":{\"colorbar\":{\"outlinewidth\":0,\"ticks\":\"\"}},\"type\":\"scattergl\"}],\"scattermapbox\":[{\"marker\":{\"colorbar\":{\"outlinewidth\":0,\"ticks\":\"\"}},\"type\":\"scattermapbox\"}],\"scatterpolar\":[{\"marker\":{\"colorbar\":{\"outlinewidth\":0,\"ticks\":\"\"}},\"type\":\"scatterpolar\"}],\"scatterpolargl\":[{\"marker\":{\"colorbar\":{\"outlinewidth\":0,\"ticks\":\"\"}},\"type\":\"scatterpolargl\"}],\"scatterternary\":[{\"marker\":{\"colorbar\":{\"outlinewidth\":0,\"ticks\":\"\"}},\"type\":\"scatterternary\"}],\"surface\":[{\"colorbar\":{\"outlinewidth\":0,\"ticks\":\"\"},\"colorscale\":[[0.0,\"#0d0887\"],[0.1111111111111111,\"#46039f\"],[0.2222222222222222,\"#7201a8\"],[0.3333333333333333,\"#9c179e\"],[0.4444444444444444,\"#bd3786\"],[0.5555555555555556,\"#d8576b\"],[0.6666666666666666,\"#ed7953\"],[0.7777777777777778,\"#fb9f3a\"],[0.8888888888888888,\"#fdca26\"],[1.0,\"#f0f921\"]],\"type\":\"surface\"}],\"table\":[{\"cells\":{\"fill\":{\"color\":\"#EBF0F8\"},\"line\":{\"color\":\"white\"}},\"header\":{\"fill\":{\"color\":\"#C8D4E3\"},\"line\":{\"color\":\"white\"}},\"type\":\"table\"}]},\"layout\":{\"annotationdefaults\":{\"arrowcolor\":\"#2a3f5f\",\"arrowhead\":0,\"arrowwidth\":1},\"autotypenumbers\":\"strict\",\"coloraxis\":{\"colorbar\":{\"outlinewidth\":0,\"ticks\":\"\"}},\"colorscale\":{\"diverging\":[[0,\"#8e0152\"],[0.1,\"#c51b7d\"],[0.2,\"#de77ae\"],[0.3,\"#f1b6da\"],[0.4,\"#fde0ef\"],[0.5,\"#f7f7f7\"],[0.6,\"#e6f5d0\"],[0.7,\"#b8e186\"],[0.8,\"#7fbc41\"],[0.9,\"#4d9221\"],[1,\"#276419\"]],\"sequential\":[[0.0,\"#0d0887\"],[0.1111111111111111,\"#46039f\"],[0.2222222222222222,\"#7201a8\"],[0.3333333333333333,\"#9c179e\"],[0.4444444444444444,\"#bd3786\"],[0.5555555555555556,\"#d8576b\"],[0.6666666666666666,\"#ed7953\"],[0.7777777777777778,\"#fb9f3a\"],[0.8888888888888888,\"#fdca26\"],[1.0,\"#f0f921\"]],\"sequentialminus\":[[0.0,\"#0d0887\"],[0.1111111111111111,\"#46039f\"],[0.2222222222222222,\"#7201a8\"],[0.3333333333333333,\"#9c179e\"],[0.4444444444444444,\"#bd3786\"],[0.5555555555555556,\"#d8576b\"],[0.6666666666666666,\"#ed7953\"],[0.7777777777777778,\"#fb9f3a\"],[0.8888888888888888,\"#fdca26\"],[1.0,\"#f0f921\"]]},\"colorway\":[\"#636efa\",\"#EF553B\",\"#00cc96\",\"#ab63fa\",\"#FFA15A\",\"#19d3f3\",\"#FF6692\",\"#B6E880\",\"#FF97FF\",\"#FECB52\"],\"font\":{\"color\":\"#2a3f5f\"},\"geo\":{\"bgcolor\":\"white\",\"lakecolor\":\"white\",\"landcolor\":\"#E5ECF6\",\"showlakes\":true,\"showland\":true,\"subunitcolor\":\"white\"},\"hoverlabel\":{\"align\":\"left\"},\"hovermode\":\"closest\",\"mapbox\":{\"style\":\"light\"},\"paper_bgcolor\":\"white\",\"plot_bgcolor\":\"#E5ECF6\",\"polar\":{\"angularaxis\":{\"gridcolor\":\"white\",\"linecolor\":\"white\",\"ticks\":\"\"},\"bgcolor\":\"#E5ECF6\",\"radialaxis\":{\"gridcolor\":\"white\",\"linecolor\":\"white\",\"ticks\":\"\"}},\"scene\":{\"xaxis\":{\"backgroundcolor\":\"#E5ECF6\",\"gridcolor\":\"white\",\"gridwidth\":2,\"linecolor\":\"white\",\"showbackground\":true,\"ticks\":\"\",\"zerolinecolor\":\"white\"},\"yaxis\":{\"backgroundcolor\":\"#E5ECF6\",\"gridcolor\":\"white\",\"gridwidth\":2,\"linecolor\":\"white\",\"showbackground\":true,\"ticks\":\"\",\"zerolinecolor\":\"white\"},\"zaxis\":{\"backgroundcolor\":\"#E5ECF6\",\"gridcolor\":\"white\",\"gridwidth\":2,\"linecolor\":\"white\",\"showbackground\":true,\"ticks\":\"\",\"zerolinecolor\":\"white\"}},\"shapedefaults\":{\"line\":{\"color\":\"#2a3f5f\"}},\"ternary\":{\"aaxis\":{\"gridcolor\":\"white\",\"linecolor\":\"white\",\"ticks\":\"\"},\"baxis\":{\"gridcolor\":\"white\",\"linecolor\":\"white\",\"ticks\":\"\"},\"bgcolor\":\"#E5ECF6\",\"caxis\":{\"gridcolor\":\"white\",\"linecolor\":\"white\",\"ticks\":\"\"}},\"title\":{\"x\":0.05},\"xaxis\":{\"automargin\":true,\"gridcolor\":\"white\",\"linecolor\":\"white\",\"ticks\":\"\",\"title\":{\"standoff\":15},\"zerolinecolor\":\"white\",\"zerolinewidth\":2},\"yaxis\":{\"automargin\":true,\"gridcolor\":\"white\",\"linecolor\":\"white\",\"ticks\":\"\",\"title\":{\"standoff\":15},\"zerolinecolor\":\"white\",\"zerolinewidth\":2}}},\"width\":700,\"xaxis\":{\"ticktext\":[\"G\",\"X\",\"W\",\"K\",\"G\",\"L\",\"U\",\"W\",\"L\",\"K|U\",\"X\"],\"tickvals\":[0.0,0.7071067811865478,1.0606601717798216,1.2374368670764582,2.1559955206201504,3.0220209244045915,3.3282071422524884,3.504983837549125,3.858537228142398,4.164723445990296,4.470909663838193]},\"yaxis\":{\"title\":{\"text\":\"Frequency (meV)\"}}},                        {\"responsive\": true}                    ).then(function(){\n",
       "                            \n",
       "var gd = document.getElementById('c3033470-726a-4a7b-9163-aec634e6abf8');\n",
       "var x = new MutationObserver(function (mutations, observer) {{\n",
       "        var display = window.getComputedStyle(gd).display;\n",
       "        if (!display || display === 'none') {{\n",
       "            console.log([gd, 'removed!']);\n",
       "            Plotly.purge(gd);\n",
       "            observer.disconnect();\n",
       "        }}\n",
       "}});\n",
       "\n",
       "// Listen for the removal of the full notebook cells\n",
       "var notebookContainer = gd.closest('#notebook-container');\n",
       "if (notebookContainer) {{\n",
       "    x.observe(notebookContainer, {childList: true});\n",
       "}}\n",
       "\n",
       "// Listen for the clearing of the current output cell\n",
       "var outputEl = gd.closest('.output');\n",
       "if (outputEl) {{\n",
       "    x.observe(outputEl, {childList: true});\n",
       "}}\n",
       "\n",
       "                        })                };                });            </script>        </div>"
      ]
     },
     "metadata": {},
     "output_type": "display_data"
    }
   ],
   "source": [
    "from matlantis_features.features.phonon import PostPhononBandFeature\n",
    "\n",
    "band = PostPhononBandFeature()\n",
    "band_results = band(\n",
    "    force_constant, \n",
    "    labels = ['G', 'X', 'W', 'K', 'G', 'L', 'U', 'W', 'L', 'K', '|', 'U', 'X'], \n",
    "    total_n_kpts = 100,\n",
    ")\n",
    "fig = band_results.plot()\n",
    "fig.update_layout(width=700, height=500)"
   ]
  },
  {
   "cell_type": "markdown",
   "id": "54f5c0e6-5cdc-4b30-ac15-777b3d5b2586",
   "metadata": {},
   "source": [
    "上記の図をみると、シリコンのフォノン分散では６つの線が存在している事がわかります(場所によっては2本の線が縮退して1本に見える箇所もあります)。\n",
    "つまり、各波数ベクトルに対して６つの振動モードがあるということを表しています。\n",
    "\n",
    "これらの振動モードは、光学モード(optical)と音響モード(acoustic)に分類できます。\n",
    "さらに、その振動モードの伝播方向により、縦方向(longitudinal)と横方向(transverse)にも分類されます。\n",
    "\n",
    "次は実際にこの分類を行っていきます。"
   ]
  },
  {
   "cell_type": "markdown",
   "id": "5c10fc1e-fb7b-4a2a-8200-ec1d5b1e0f7f",
   "metadata": {},
   "source": [
    "### 2.5 フォノンモード\n",
    "\n",
    "**光学モード・音響モード**\n",
    "\n",
    "上記で説明したように、各波数ベクトル $\\vec q$ に対して $3N$ 個の振動数を得ることができます。\n",
    "分散曲線には$3N$個の線が存在します。\n",
    "これは、$3$つの音響モードと、$3N-3$つの光学モードに分けられます。\n",
    "\n",
    "音響モードは以下のような特徴を持ちます。\n",
    " - 音響モードは低い振動数を持つ。\n",
    " - 音響モードの振動数 $\\omega$ は、ガンマ点で0となる。$\\frac{\\partial \\omega} {\\partial q}$は音速を与える。\n",
    " - 音響モードの$q=0$における格子振動を確認すると、格子全体が動いていることが見て取れます。これは弾性波と類似しています。\n",
    "\n",
    "光学モードは以下のような特徴を持ちます。\n",
    " - 光学モードは高い振動数を持つ。\n",
    " - 近接する原子同士は逆方向に動きあう。\n",
    " - 複数の元素を含む結晶、例えばNaClなどでは、カチオンとアニオン ([イオン](https://ja.wikipedia.org/wiki/%E3%82%A4%E3%82%AA%E3%83%B3#%E3%82%A4%E3%82%AA%E3%83%B3%E3%81%AE%E7%A8%AE%E9%A1%9E)参照)の間でおこる振動により[ダイポールモーメント](https://ja.wikipedia.org/wiki/%E5%8F%8C%E6%A5%B5%E5%AD%90)が変化します。このダイポールモーメントが外場の電磁波と相互作用します。そのため、光学モードと呼ばれます。"
   ]
  },
  {
   "cell_type": "code",
   "execution_count": 9,
   "id": "2a2ddf07-5e41-4bdf-a487-a928259bc579",
   "metadata": {},
   "outputs": [
    {
     "name": "stderr",
     "output_type": "stream",
     "text": [
      "[Parallel(n_jobs=16)]: Using backend ThreadingBackend with 16 concurrent workers.\n",
      "[Parallel(n_jobs=16)]: Done  30 out of  30 | elapsed:   22.8s remaining:    0.0s\n",
      "[Parallel(n_jobs=16)]: Done  30 out of  30 | elapsed:   22.8s finished\n",
      "[Parallel(n_jobs=16)]: Using backend ThreadingBackend with 16 concurrent workers.\n",
      "[Parallel(n_jobs=16)]: Done  30 out of  30 | elapsed:   22.3s remaining:    0.0s\n",
      "[Parallel(n_jobs=16)]: Done  30 out of  30 | elapsed:   22.3s finished\n",
      "[Parallel(n_jobs=16)]: Using backend ThreadingBackend with 16 concurrent workers.\n",
      "[Parallel(n_jobs=16)]: Done  30 out of  30 | elapsed:   22.3s remaining:    0.0s\n",
      "[Parallel(n_jobs=16)]: Done  30 out of  30 | elapsed:   22.3s finished\n",
      "[Parallel(n_jobs=16)]: Using backend ThreadingBackend with 16 concurrent workers.\n",
      "[Parallel(n_jobs=16)]: Done  30 out of  30 | elapsed:   22.0s remaining:    0.0s\n",
      "[Parallel(n_jobs=16)]: Done  30 out of  30 | elapsed:   22.0s finished\n",
      "[Parallel(n_jobs=16)]: Using backend ThreadingBackend with 16 concurrent workers.\n",
      "[Parallel(n_jobs=16)]: Done  30 out of  30 | elapsed:   22.4s remaining:    0.0s\n",
      "[Parallel(n_jobs=16)]: Done  30 out of  30 | elapsed:   22.4s finished\n",
      "[Parallel(n_jobs=16)]: Using backend ThreadingBackend with 16 concurrent workers.\n",
      "[Parallel(n_jobs=16)]: Done  30 out of  30 | elapsed:   22.5s remaining:    0.0s\n",
      "[Parallel(n_jobs=16)]: Done  30 out of  30 | elapsed:   22.5s finished\n"
     ]
    }
   ],
   "source": [
    "from ipywidgets import HBox\n",
    "from ase.visualize import view\n",
    "from matlantis_features.features.phonon import PostPhononModeFeature\n",
    "from pfcc_extras.visualize.povray import traj_to_apng\n",
    "\n",
    "mode = PostPhononModeFeature()\n",
    "mode_results = mode(\n",
    "    force_constant,\n",
    "    k_point=(0.1, 0.0, 0.0),\n",
    "    repeat_of_cell=(4, 4, 4),\n",
    "    n_images=30,\n",
    "    amplitude=5.0\n",
    ")\n",
    "\n",
    "for i in range(6):\n",
    "    traj_to_apng(mode_results.trajectories[i], f\"output/vib.{i}.png\", rotation=\"0x,0y,0z\", clean=True, n_jobs=16)\n"
   ]
  },
  {
   "cell_type": "markdown",
   "id": "09359a40-df31-4187-a47e-7ba640ccf3ef",
   "metadata": {},
   "source": [
    "**Acoustic vibration modes**\n",
    "<div style=\"clear:both;display:table\">\n",
    "<figure style=\"width:30%;float:left;margin:1px\">\n",
    "  <img src=\"./output/vib.0.png\" alt=\"mode0\">\n",
    "  <figcaption>Mode #0</figcaption>\n",
    "</figure>\n",
    "<figure style=\"width:30%;float:left;margin:1px\">\n",
    "  <img src=\"./output/vib.1.png\" alt=\"mode1\">\n",
    "  <figcaption>Mode #1</figcaption>\n",
    "</figure>\n",
    "<figure style=\"width:30%;float:left;margin:1px\">\n",
    "  <img src=\"./output/vib.2.png\" alt=\"mode2\">\n",
    "  <figcaption>Mode #2</figcaption>\n",
    "</figure>\n",
    "</div>"
   ]
  },
  {
   "cell_type": "markdown",
   "id": "26e31236-b3a2-4c1c-9df5-0f0a1b2fab07",
   "metadata": {},
   "source": [
    "**Optical vibration modes**\n",
    "<div style=\"clear:both;display:table\">\n",
    "<figure style=\"width:30%;float:left;margin:1px\">\n",
    "  <img src=\"./output/vib.3.png\" alt=\"mode3\">\n",
    "  <figcaption>Mode #3</figcaption>\n",
    "</figure>\n",
    "<figure style=\"width:30%;float:left;margin:1px\">\n",
    "  <img src=\"./output/vib.4.png\" alt=\"mode4\">\n",
    "  <figcaption>Mode #4</figcaption>\n",
    "</figure>\n",
    "<figure style=\"width:30%;float:left;margin:1px\">\n",
    "  <img src=\"./output/vib.5.png\" alt=\"mode5\">\n",
    "  <figcaption>Mode #5</figcaption>\n",
    "</figure>\n",
    "</div>"
   ]
  },
  {
   "cell_type": "markdown",
   "id": "e2d4b124-877f-4e51-9926-8bf3c08d7189",
   "metadata": {},
   "source": [
    "可視化してみると、Mode 0, 1, 2の原子は全体が同じ方向に動いている一方、Mode 3, 4, 5では原子同士が相互に振動していることが見て取れます。\n",
    "低い周波数の3つのモードが音響モード、残りが光学モードに対応していることがわかります。"
   ]
  },
  {
   "cell_type": "markdown",
   "id": "fbcd6052-6bf3-4599-b5c5-f519533e5f0d",
   "metadata": {},
   "source": [
    "**横(Transverse)モードと縦(Longitudinal)モード**\n",
    "\n",
    "フォノン分岐は原子の振動の向きと波数ベクトルの向きとの関係により横モードと縦モードに分けられます。\n",
    "横モードでは原子の変位は波数ベクトル $\\vec q$ に対して垂直なります。\n",
    "縦モードでは、原子の変位が波数ベクトル $\\vec q$ の方向に対して並行になります。\n",
    "\n",
    "以下のように計算で横モード・縦モードを確認することもできます。"
   ]
  },
  {
   "cell_type": "code",
   "execution_count": 10,
   "id": "3a20e5d5-da8c-4797-8b4a-2851983c4155",
   "metadata": {},
   "outputs": [
    {
     "name": "stdout",
     "output_type": "stream",
     "text": [
      "Band 0:\n",
      "    Angles between q and eigenvectors: [1.571 1.571]\n",
      "Band 1:\n",
      "    Angles between q and eigenvectors: [1.571 1.571]\n",
      "Band 2:\n",
      "    Angles between q and eigenvectors: [3.141 3.141]\n",
      "Band 3:\n",
      "    Angles between q and eigenvectors: [2.376e-03 3.139e+00]\n",
      "Band 4:\n",
      "    Angles between q and eigenvectors: [1.581 1.56 ]\n",
      "Band 5:\n",
      "    Angles between q and eigenvectors: [1.572 1.569]\n"
     ]
    }
   ],
   "source": [
    "reciprocal_basis = atoms.cell.reciprocal()\n",
    "q_real = reciprocal_basis.dot(np.array([0.1, 0, 0]))\n",
    "\n",
    "def get_angles(eigenvector, q_real):\n",
    "    return np.arccos(eigenvector.dot(q_real) / np.linalg.norm(eigenvector, axis=1) / np.linalg.norm(q_real))\n",
    "\n",
    "for i in range(6):\n",
    "    angles = get_angles(eigenvector[i].real, q_real)\n",
    "    print(f\"Band {i}:\")\n",
    "    print(f\"    Angles between q and eigenvectors:\", angles)"
   ]
  },
  {
   "cell_type": "markdown",
   "id": "9d13911a-d3df-48b2-a82f-41bdf0458d18",
   "metadata": {},
   "source": [
    "波数ベクトル$\\vec{q}$と固有ベクトルが並行となっているBand 2, 3は縦モード<br/>\n",
    "波数ベクトル$\\vec{q}$と固有ベクトルが垂直となっているBand 0, 1, 4, 5は横モードであることが確認できます。"
   ]
  },
  {
   "cell_type": "markdown",
   "id": "d2a7a555-1611-4a2d-ad6e-78d632971a7e",
   "metadata": {},
   "source": [
    "まとめると、シリコン結晶におけるフォノンの6分岐は以下のように分類できます。\n",
    "\n",
    "- Transverse acoustic branch   (TA): branch 0 and 1\n",
    "- Longitudinal acoustic branch (LA): branch 2\n",
    "- Transverse optic branch      (TO): branch 4 and 5\n",
    "- Longitudinal optic branch    (LO): branch 3"
   ]
  },
  {
   "cell_type": "markdown",
   "id": "685d517a-d25f-4469-aff7-f8c1135920e4",
   "metadata": {},
   "source": [
    "### 2.6 フォノンの状態密度 (Phonon DOS)\n",
    "\n",
    "フォノンの分散関係は物性値に関する情報を与えてくれますが、3次元の波数空間上の非自明な関数です。\n",
    "\n",
    "代わりに、それぞれの振動モードにおけるエネルギーごとに集約をして、その物質中にどのようなモードが存在するかを簡易に表す方法があります。\n",
    "これをフォノンの状態密度(Phonon DOS: density of states)と呼び、$\\omega$ から $\\omega+d\\omega$の間に存在する振動モードの数として以下のように定義されます。\n",
    "\n",
    "$$D(\\omega) = \\frac{1} {N} \\sum_{m, \\vec q} \\delta (\\omega - \\omega_{m, \\vec q})$$\n",
    "\n",
    "ここでは、`PostPhononDOSFeature` を用いて、シリコン結晶のフォノンの状態密度を計算します。"
   ]
  },
  {
   "cell_type": "code",
   "execution_count": 11,
   "id": "9a8ed50a-83e1-42f3-bd07-a4c43075fe34",
   "metadata": {},
   "outputs": [],
   "source": [
    "from matlantis_features.features.phonon import PostPhononDOSFeature, plot_band_dos\n",
    "\n",
    "dos = PostPhononDOSFeature()\n",
    "dos_results = dos(\n",
    "    force_constant,\n",
    "    kpts = [20,20,20],\n",
    "    freq_min = -5.0,\n",
    "    freq_max = 70.0,\n",
    "    freq_bin =  1.0,\n",
    "    scheme = \"mp\",\n",
    "    unit = \"meV\"\n",
    ")"
   ]
  },
  {
   "cell_type": "code",
   "execution_count": 12,
   "id": "495686c1-ae8f-48fd-88c4-94976606f964",
   "metadata": {},
   "outputs": [
    {
     "data": {
      "application/vnd.plotly.v1+json": {
       "config": {
        "linkText": "Export to plot.ly",
        "plotlyServerURL": "https://plot.ly",
        "showLink": false
       },
       "data": [
        {
         "marker": {
          "color": "#636EFA"
         },
         "mode": "lines",
         "showlegend": false,
         "type": "scatter",
         "x": [
          0,
          0.04419417382415922,
          0.08838834764831845,
          0.13258252147247768,
          0.1767766952966369,
          0.2209708691207961,
          0.26516504294495535,
          0.3093592167691146,
          0.35355339059327384,
          0.3977475644174331,
          0.44194173824159233,
          0.4861359120657516,
          0.5303300858899108,
          0.5745242597140701,
          0.6187184335382293,
          0.6629126073623886,
          0.7071067811865478,
          0.751300955010707,
          0.7954951288348663,
          0.8396893026590255,
          0.8838834764831848,
          0.928077650307344,
          0.9722718241315033,
          1.0164659979556625,
          1.0606601717798216,
          1.1048543456039808,
          1.14904851942814,
          1.193242693252299,
          1.2374368670764582,
          1.2811777553404435,
          1.3249186436044287,
          1.368659531868414,
          1.4124004201323994,
          1.4561413083963848,
          1.4998821966603701,
          1.5436230849243555,
          1.5873639731883409,
          1.6311048614523262,
          1.6748457497163114,
          1.7185866379802968,
          1.7623275262442821,
          1.8060684145082675,
          1.8498093027722529,
          1.893550191036238,
          1.9372910793002234,
          1.9810319675642087,
          2.024772855828194,
          2.0685137440921793,
          2.112254632356165,
          2.1559955206201504,
          2.201575805029858,
          2.2471560894395655,
          2.292736373849273,
          2.3383166582589805,
          2.383896942668688,
          2.4294772270783955,
          2.475057511488103,
          2.5206377958978106,
          2.566218080307518,
          2.6117983647172256,
          2.657378649126933,
          2.70295893353664,
          2.7485392179463473,
          2.7941195023560548,
          2.8396997867657623,
          2.8852800711754694,
          2.9308603555851764,
          2.976440639994884,
          3.0220209244045915,
          3.0657618126685766,
          3.1095027009325618,
          3.1532435891965473,
          3.1969844774605325,
          3.2407253657245176,
          3.2844662539885032,
          3.3282071422524884,
          3.3724013160766475,
          3.4165954899008066,
          3.4607896637249658,
          3.504983837549125,
          3.549178011373284,
          3.593372185197443,
          3.6375663590216023,
          3.6817605328457614,
          3.7259547066699206,
          3.7701488804940797,
          3.814343054318239,
          3.858537228142398,
          3.902278116406383,
          3.9460190046703683,
          3.9897598929343534,
          4.033500781198339,
          4.077241669462325,
          4.12098255772631,
          4.164723445990296,
          4.164723445990296,
          4.208464334254281,
          4.252205222518266,
          4.295946110782252,
          4.339686999046237,
          4.383427887310222,
          4.4271687755742075,
          4.470909663838193
         ],
         "xaxis": "x",
         "y": [
          -0.1667438005545818,
          2.3591349299423627,
          4.669606278507968,
          6.85882658554211,
          8.863617875093908,
          10.637183953641479,
          12.14120966548392,
          13.351784869936937,
          14.27251925161431,
          14.92696694822229,
          15.353646938403177,
          15.61072110402032,
          15.751962778583465,
          15.820854667430087,
          15.85065862359473,
          15.862507431148996,
          15.865569788816957,
          16.14427632629621,
          16.93051383641666,
          18.097531744069556,
          19.475551702825364,
          20.875517466749542,
          22.09967620220456,
          22.949215492838903,
          23.256092223644135,
          22.195877256980452,
          20.335623694042972,
          18.620962605175258,
          17.926052042266445,
          18.187080655839537,
          18.343715151427688,
          18.377322968608784,
          18.275150118889112,
          18.03299783339796,
          17.65142401303352,
          17.13398076245529,
          16.490149439634507,
          15.731024222668122,
          14.865419513899235,
          13.902603726395263,
          12.8503351187603,
          11.71208370738958,
          10.49062690801115,
          9.188894989345547,
          7.807609528349375,
          6.349250485573412,
          4.82447448131272,
          3.248260217350018,
          1.6304091051619336,
          -0.1667438005545818,
          1.549378387277593,
          3.075330538421674,
          4.541383601135733,
          5.905083413608191,
          7.135047619842204,
          8.216122161099182,
          9.142691214602692,
          9.912219445109566,
          10.527524658645575,
          11.003743692333966,
          11.365829924669661,
          11.6353137439182,
          11.835080108150313,
          11.979659708984707,
          12.084648871200242,
          12.16119522180769,
          12.213783699268218,
          12.24546367045586,
          12.256269211044152,
          12.73600782595626,
          13.95657790650934,
          15.450945776589645,
          16.784465496748496,
          17.680539649126825,
          18.042619846469755,
          17.92831082886049,
          18.621535113518977,
          20.335434112985038,
          22.19638940264588,
          23.256092223644135,
          22.424912324482616,
          21.19270468540016,
          19.61616419653593,
          17.789624056080424,
          15.862426570858023,
          14.071188711671006,
          12.75110139357484,
          12.256269211044152,
          12.73594656821114,
          13.956144982778758,
          15.450738287560615,
          16.784648939301526,
          17.680800891185584,
          18.041765372712327,
          17.926052042266445,
          17.92831082886049,
          17.586060349562025,
          17.196043241270342,
          16.79654666946343,
          16.427046603405323,
          16.128073419578428,
          15.933629443601484,
          15.865569788816957
         ],
         "yaxis": "y"
        },
        {
         "marker": {
          "color": "#636EFA"
         },
         "mode": "lines",
         "showlegend": false,
         "type": "scatter",
         "x": [
          0,
          0.04419417382415922,
          0.08838834764831845,
          0.13258252147247768,
          0.1767766952966369,
          0.2209708691207961,
          0.26516504294495535,
          0.3093592167691146,
          0.35355339059327384,
          0.3977475644174331,
          0.44194173824159233,
          0.4861359120657516,
          0.5303300858899108,
          0.5745242597140701,
          0.6187184335382293,
          0.6629126073623886,
          0.7071067811865478,
          0.751300955010707,
          0.7954951288348663,
          0.8396893026590255,
          0.8838834764831848,
          0.928077650307344,
          0.9722718241315033,
          1.0164659979556625,
          1.0606601717798216,
          1.1048543456039808,
          1.14904851942814,
          1.193242693252299,
          1.2374368670764582,
          1.2811777553404435,
          1.3249186436044287,
          1.368659531868414,
          1.4124004201323994,
          1.4561413083963848,
          1.4998821966603701,
          1.5436230849243555,
          1.5873639731883409,
          1.6311048614523262,
          1.6748457497163114,
          1.7185866379802968,
          1.7623275262442821,
          1.8060684145082675,
          1.8498093027722529,
          1.893550191036238,
          1.9372910793002234,
          1.9810319675642087,
          2.024772855828194,
          2.0685137440921793,
          2.112254632356165,
          2.1559955206201504,
          2.201575805029858,
          2.2471560894395655,
          2.292736373849273,
          2.3383166582589805,
          2.383896942668688,
          2.4294772270783955,
          2.475057511488103,
          2.5206377958978106,
          2.566218080307518,
          2.6117983647172256,
          2.657378649126933,
          2.70295893353664,
          2.7485392179463473,
          2.7941195023560548,
          2.8396997867657623,
          2.8852800711754694,
          2.9308603555851764,
          2.976440639994884,
          3.0220209244045915,
          3.0657618126685766,
          3.1095027009325618,
          3.1532435891965473,
          3.1969844774605325,
          3.2407253657245176,
          3.2844662539885032,
          3.3282071422524884,
          3.3724013160766475,
          3.4165954899008066,
          3.4607896637249658,
          3.504983837549125,
          3.549178011373284,
          3.593372185197443,
          3.6375663590216023,
          3.6817605328457614,
          3.7259547066699206,
          3.7701488804940797,
          3.814343054318239,
          3.858537228142398,
          3.902278116406383,
          3.9460190046703683,
          3.9897598929343534,
          4.033500781198339,
          4.077241669462325,
          4.12098255772631,
          4.164723445990296,
          4.164723445990296,
          4.208464334254281,
          4.252205222518266,
          4.295946110782252,
          4.339686999046237,
          4.383427887310222,
          4.4271687755742075,
          4.470909663838193
         ],
         "xaxis": "x",
         "y": [
          0.04867865603234367,
          2.3737138374639013,
          4.678032814976582,
          6.861138270528691,
          8.865426574721912,
          10.639383346731476,
          12.142342745934954,
          13.35365522368296,
          14.27433184923734,
          14.927489665773898,
          15.35741416436594,
          15.614798946643036,
          15.754037662726851,
          15.821702258575945,
          15.851883377513806,
          15.86380200103299,
          15.866828179532101,
          16.145799125207244,
          16.933372765383215,
          18.10030406103054,
          19.477386249753106,
          20.87690195751452,
          22.10092704328146,
          22.950913194572685,
          23.25807098354858,
          23.537598199935815,
          23.578755575058644,
          23.522770986122094,
          23.489009287916573,
          24.080318892869876,
          24.247464783719124,
          24.066629083711756,
          23.64626882321783,
          23.072482283848984,
          22.389193600008856,
          21.60645664621807,
          20.715379670578713,
          19.70351580327421,
          18.5634823314966,
          17.294903659785575,
          15.906014706854794,
          14.408241843076866,
          12.811872112978204,
          11.130846674524205,
          9.380334302638634,
          7.571058544621764,
          5.713518129205644,
          3.82243234403066,
          1.9165157445659418,
          0.04867865603234367,
          1.5588651943765879,
          3.0878660413585983,
          4.546040096653378,
          5.908328759712122,
          7.1383580608736885,
          8.217288297262632,
          9.143967218033712,
          9.913597529538702,
          10.528786809584071,
          11.006907236719254,
          11.368770149416656,
          11.638762617369617,
          11.836126288666549,
          11.980646303173348,
          12.08555780726731,
          12.16231533439293,
          12.215580498794658,
          12.24681098031962,
          12.25762749810969,
          13.307332332098335,
          15.903913301582646,
          19.03711116893513,
          21.823806240860804,
          23.557244219046243,
          23.99209852116195,
          23.489136503948618,
          23.5235892267885,
          23.579373075081143,
          23.537557887974632,
          23.25807098354858,
          23.667287987727814,
          23.623476987143768,
          22.955616289689505,
          21.376969065479106,
          18.866172135051627,
          15.894527005392112,
          13.322774203351862,
          12.25762749810969,
          13.307554715411065,
          15.904360914908347,
          19.037000951284472,
          21.823631589826917,
          23.557236178295764,
          23.991835647332895,
          23.489009287916573,
          23.489136503948618,
          22.482443907437858,
          21.160828486868574,
          19.682601237926583,
          18.23156065572946,
          16.997923057937705,
          16.16281391169618,
          15.866828179532101
         ],
         "yaxis": "y"
        },
        {
         "marker": {
          "color": "#636EFA"
         },
         "mode": "lines",
         "showlegend": false,
         "type": "scatter",
         "x": [
          0,
          0.04419417382415922,
          0.08838834764831845,
          0.13258252147247768,
          0.1767766952966369,
          0.2209708691207961,
          0.26516504294495535,
          0.3093592167691146,
          0.35355339059327384,
          0.3977475644174331,
          0.44194173824159233,
          0.4861359120657516,
          0.5303300858899108,
          0.5745242597140701,
          0.6187184335382293,
          0.6629126073623886,
          0.7071067811865478,
          0.751300955010707,
          0.7954951288348663,
          0.8396893026590255,
          0.8838834764831848,
          0.928077650307344,
          0.9722718241315033,
          1.0164659979556625,
          1.0606601717798216,
          1.1048543456039808,
          1.14904851942814,
          1.193242693252299,
          1.2374368670764582,
          1.2811777553404435,
          1.3249186436044287,
          1.368659531868414,
          1.4124004201323994,
          1.4561413083963848,
          1.4998821966603701,
          1.5436230849243555,
          1.5873639731883409,
          1.6311048614523262,
          1.6748457497163114,
          1.7185866379802968,
          1.7623275262442821,
          1.8060684145082675,
          1.8498093027722529,
          1.893550191036238,
          1.9372910793002234,
          1.9810319675642087,
          2.024772855828194,
          2.0685137440921793,
          2.112254632356165,
          2.1559955206201504,
          2.201575805029858,
          2.2471560894395655,
          2.292736373849273,
          2.3383166582589805,
          2.383896942668688,
          2.4294772270783955,
          2.475057511488103,
          2.5206377958978106,
          2.566218080307518,
          2.6117983647172256,
          2.657378649126933,
          2.70295893353664,
          2.7485392179463473,
          2.7941195023560548,
          2.8396997867657623,
          2.8852800711754694,
          2.9308603555851764,
          2.976440639994884,
          3.0220209244045915,
          3.0657618126685766,
          3.1095027009325618,
          3.1532435891965473,
          3.1969844774605325,
          3.2407253657245176,
          3.2844662539885032,
          3.3282071422524884,
          3.3724013160766475,
          3.4165954899008066,
          3.4607896637249658,
          3.504983837549125,
          3.549178011373284,
          3.593372185197443,
          3.6375663590216023,
          3.6817605328457614,
          3.7259547066699206,
          3.7701488804940797,
          3.814343054318239,
          3.858537228142398,
          3.902278116406383,
          3.9460190046703683,
          3.9897598929343534,
          4.033500781198339,
          4.077241669462325,
          4.12098255772631,
          4.164723445990296,
          4.164723445990296,
          4.208464334254281,
          4.252205222518266,
          4.295946110782252,
          4.339686999046237,
          4.383427887310222,
          4.4271687755742075,
          4.470909663838193
         ],
         "xaxis": "x",
         "y": [
          0.20002956552078038,
          3.671380573183907,
          7.342507123066141,
          11.012305840041481,
          14.672149241623822,
          18.304627605053415,
          21.884346275074282,
          25.38096011562979,
          28.761001238145344,
          31.99125129627236,
          35.04587464832048,
          37.91134954191566,
          40.585731351189075,
          43.076059731949115,
          45.39464768436606,
          47.55291315012536,
          49.55547096746693,
          49.28973833437771,
          48.55620802640955,
          47.49550901632442,
          46.26045262888404,
          45.00522404380109,
          43.90006397613529,
          43.127450639685534,
          42.84711920166097,
          42.64294009032832,
          43.19311521378786,
          43.802467961631336,
          44.0463180925347,
          42.8672236663429,
          41.66109273926204,
          40.43221375103236,
          39.176866903637205,
          37.88160794138488,
          36.52265598314742,
          35.07075714083762,
          33.49575455091372,
          31.77097198265525,
          29.878890249499612,
          27.812772596978174,
          25.575634285162867,
          23.177758698824316,
          20.632873576516282,
          17.956224240007227,
          15.162735149124497,
          12.266419853972788,
          9.282137421393443,
          6.227601136542807,
          3.1270907358538182,
          0.20002956552078038,
          2.8761436562298264,
          5.754268340206105,
          8.650510118204378,
          11.563817580989491,
          14.491868147278488,
          17.429570398052213,
          20.36800753617553,
          23.28987658603906,
          26.170629309369385,
          28.9799223348545,
          31.685522325673862,
          34.25787271860301,
          36.67073145054369,
          38.903460300651,
          40.94295702519195,
          42.78185887647983,
          44.40228732413115,
          45.71118784054101,
          46.31121394320045,
          45.79058815866763,
          44.39050446320348,
          42.59451626604182,
          41.157827118304965,
          40.8805242917269,
          42.062693110979275,
          44.046948686376915,
          43.80256173882062,
          43.192648136655336,
          42.642641279525236,
          42.84711920166097,
          41.782024731372225,
          40.90803098140738,
          40.54268922709916,
          41.09312478301548,
          42.5545909212169,
          44.358209540767604,
          45.780040638201314,
          46.31121394320045,
          45.79048493293493,
          44.39044921980399,
          42.59485493569498,
          41.158183130537346,
          40.88033380846179,
          42.062291152145,
          44.0463180925347,
          44.046948686376915,
          45.18696548739112,
          46.20896735730475,
          47.17430648354216,
          48.11035616589359,
          48.87987728933895,
          49.380767132032226,
          49.55547096746693
         ],
         "yaxis": "y"
        },
        {
         "marker": {
          "color": "#636EFA"
         },
         "mode": "lines",
         "showlegend": false,
         "type": "scatter",
         "x": [
          0,
          0.04419417382415922,
          0.08838834764831845,
          0.13258252147247768,
          0.1767766952966369,
          0.2209708691207961,
          0.26516504294495535,
          0.3093592167691146,
          0.35355339059327384,
          0.3977475644174331,
          0.44194173824159233,
          0.4861359120657516,
          0.5303300858899108,
          0.5745242597140701,
          0.6187184335382293,
          0.6629126073623886,
          0.7071067811865478,
          0.751300955010707,
          0.7954951288348663,
          0.8396893026590255,
          0.8838834764831848,
          0.928077650307344,
          0.9722718241315033,
          1.0164659979556625,
          1.0606601717798216,
          1.1048543456039808,
          1.14904851942814,
          1.193242693252299,
          1.2374368670764582,
          1.2811777553404435,
          1.3249186436044287,
          1.368659531868414,
          1.4124004201323994,
          1.4561413083963848,
          1.4998821966603701,
          1.5436230849243555,
          1.5873639731883409,
          1.6311048614523262,
          1.6748457497163114,
          1.7185866379802968,
          1.7623275262442821,
          1.8060684145082675,
          1.8498093027722529,
          1.893550191036238,
          1.9372910793002234,
          1.9810319675642087,
          2.024772855828194,
          2.0685137440921793,
          2.112254632356165,
          2.1559955206201504,
          2.201575805029858,
          2.2471560894395655,
          2.292736373849273,
          2.3383166582589805,
          2.383896942668688,
          2.4294772270783955,
          2.475057511488103,
          2.5206377958978106,
          2.566218080307518,
          2.6117983647172256,
          2.657378649126933,
          2.70295893353664,
          2.7485392179463473,
          2.7941195023560548,
          2.8396997867657623,
          2.8852800711754694,
          2.9308603555851764,
          2.976440639994884,
          3.0220209244045915,
          3.0657618126685766,
          3.1095027009325618,
          3.1532435891965473,
          3.1969844774605325,
          3.2407253657245176,
          3.2844662539885032,
          3.3282071422524884,
          3.3724013160766475,
          3.4165954899008066,
          3.4607896637249658,
          3.504983837549125,
          3.549178011373284,
          3.593372185197443,
          3.6375663590216023,
          3.6817605328457614,
          3.7259547066699206,
          3.7701488804940797,
          3.814343054318239,
          3.858537228142398,
          3.902278116406383,
          3.9460190046703683,
          3.9897598929343534,
          4.033500781198339,
          4.077241669462325,
          4.12098255772631,
          4.164723445990296,
          4.164723445990296,
          4.208464334254281,
          4.252205222518266,
          4.295946110782252,
          4.339686999046237,
          4.383427887310222,
          4.4271687755742075,
          4.470909663838193
         ],
         "xaxis": "x",
         "y": [
          60.418338817947635,
          60.304610979706986,
          59.97423257384993,
          59.46742668066894,
          58.8443552172148,
          58.175196747593354,
          57.52696895859361,
          56.953579802690655,
          56.48845608540389,
          56.140974673834286,
          55.897194015758885,
          55.733517306866595,
          55.62443292682345,
          54.59785705741787,
          53.088015082419645,
          51.40392034021285,
          49.55741965116719,
          49.291072769713494,
          48.557430688448086,
          47.497296318146766,
          46.26161267711923,
          45.0061494443156,
          43.900744142073314,
          43.128016184013255,
          42.84788324626563,
          43.6076865111315,
          44.25477240618261,
          44.696537078244624,
          44.85440729977184,
          44.76401133367596,
          45.143405700892046,
          45.93418512971934,
          47.02357070227379,
          48.29500549336611,
          49.654150183238755,
          51.02969929318582,
          52.36911668028999,
          53.63391563542188,
          54.796858142577946,
          55.842134099052,
          56.76359702726828,
          57.56306617905509,
          58.24800810208782,
          58.82762957560359,
          59.18550438256714,
          59.50052273654817,
          59.83672998913547,
          60.13752856219063,
          60.3456495460177,
          60.418338817947635,
          60.37053058045357,
          60.22959491948756,
          60.01055288825235,
          59.734660245206136,
          59.42345463012019,
          59.09133879462022,
          58.74098029103278,
          58.36379302238123,
          57.94108946189391,
          57.4482817325035,
          56.86192600801726,
          56.16435630386483,
          55.34726481128682,
          54.4148687907587,
          53.38427786515619,
          52.28329564603137,
          51.15897717176479,
          50.133466482122145,
          49.62531822752919,
          49.52432836615399,
          49.20087485428087,
          48.618791139523594,
          47.78016261003499,
          46.75950425971203,
          45.67929821524459,
          44.855433608692536,
          44.69728969776568,
          44.25497117876244,
          43.607619138347076,
          42.84788324626563,
          44.01055468734539,
          45.25387220878577,
          46.51297863592092,
          47.662891044233206,
          48.575670868948805,
          49.18912071691773,
          49.52225215181301,
          49.62531822752919,
          49.52418448137366,
          49.200296754379,
          48.617689981930724,
          47.77896300751476,
          46.75864852788633,
          45.67840982977381,
          44.85440729977184,
          44.855433608692536,
          45.379455512388155,
          46.27036453621401,
          47.274149969987214,
          48.164214666867345,
          48.89017892106306,
          49.38195183670339,
          49.55741965116719
         ],
         "yaxis": "y"
        },
        {
         "marker": {
          "color": "#636EFA"
         },
         "mode": "lines",
         "showlegend": false,
         "type": "scatter",
         "x": [
          0,
          0.04419417382415922,
          0.08838834764831845,
          0.13258252147247768,
          0.1767766952966369,
          0.2209708691207961,
          0.26516504294495535,
          0.3093592167691146,
          0.35355339059327384,
          0.3977475644174331,
          0.44194173824159233,
          0.4861359120657516,
          0.5303300858899108,
          0.5745242597140701,
          0.6187184335382293,
          0.6629126073623886,
          0.7071067811865478,
          0.751300955010707,
          0.7954951288348663,
          0.8396893026590255,
          0.8838834764831848,
          0.928077650307344,
          0.9722718241315033,
          1.0164659979556625,
          1.0606601717798216,
          1.1048543456039808,
          1.14904851942814,
          1.193242693252299,
          1.2374368670764582,
          1.2811777553404435,
          1.3249186436044287,
          1.368659531868414,
          1.4124004201323994,
          1.4561413083963848,
          1.4998821966603701,
          1.5436230849243555,
          1.5873639731883409,
          1.6311048614523262,
          1.6748457497163114,
          1.7185866379802968,
          1.7623275262442821,
          1.8060684145082675,
          1.8498093027722529,
          1.893550191036238,
          1.9372910793002234,
          1.9810319675642087,
          2.024772855828194,
          2.0685137440921793,
          2.112254632356165,
          2.1559955206201504,
          2.201575805029858,
          2.2471560894395655,
          2.292736373849273,
          2.3383166582589805,
          2.383896942668688,
          2.4294772270783955,
          2.475057511488103,
          2.5206377958978106,
          2.566218080307518,
          2.6117983647172256,
          2.657378649126933,
          2.70295893353664,
          2.7485392179463473,
          2.7941195023560548,
          2.8396997867657623,
          2.8852800711754694,
          2.9308603555851764,
          2.976440639994884,
          3.0220209244045915,
          3.0657618126685766,
          3.1095027009325618,
          3.1532435891965473,
          3.1969844774605325,
          3.2407253657245176,
          3.2844662539885032,
          3.3282071422524884,
          3.3724013160766475,
          3.4165954899008066,
          3.4607896637249658,
          3.504983837549125,
          3.549178011373284,
          3.593372185197443,
          3.6375663590216023,
          3.6817605328457614,
          3.7259547066699206,
          3.7701488804940797,
          3.814343054318239,
          3.858537228142398,
          3.902278116406383,
          3.9460190046703683,
          3.9897598929343534,
          4.033500781198339,
          4.077241669462325,
          4.12098255772631,
          4.164723445990296,
          4.164723445990296,
          4.208464334254281,
          4.252205222518266,
          4.295946110782252,
          4.339686999046237,
          4.383427887310222,
          4.4271687755742075,
          4.470909663838193
         ],
         "xaxis": "x",
         "y": [
          60.41966127409764,
          60.305455578003404,
          59.975244030309064,
          59.468652991564475,
          58.84602789956427,
          58.17662359538606,
          57.52788792931063,
          56.95466678533109,
          56.489926355314694,
          56.141540452562865,
          55.89800417812212,
          55.73408290373065,
          55.62491251417235,
          55.549897034070575,
          55.4989044504133,
          55.46788276202111,
          55.45701101819761,
          55.53298313744052,
          55.715487002986364,
          55.92152355285653,
          56.09627399630045,
          56.22013668193206,
          56.2946019541275,
          56.331839788040064,
          56.343105133340124,
          56.10555208806711,
          55.84451593539901,
          55.639121318020074,
          55.56128618923185,
          55.645307252172834,
          55.761503356688756,
          55.91270573060851,
          56.099892108661976,
          56.32136309164921,
          56.57451414874665,
          56.85606416070103,
          57.16118763935414,
          57.484832432870974,
          57.82157584448719,
          58.16446623582654,
          58.506799214151414,
          58.662673293800005,
          58.76003227405114,
          58.932620676053304,
          59.311277725063505,
          59.706407344248184,
          60.01598211936021,
          60.239101097344964,
          60.37357835662686,
          60.41966127409764,
          60.38310246368289,
          60.27827986069783,
          60.11532021351977,
          59.910865670445205,
          59.685326605847706,
          59.45833896904099,
          59.24831938415972,
          59.070440107137635,
          58.93383715129213,
          58.84088075524273,
          58.789112136406246,
          58.77135395941585,
          58.779303784210725,
          58.80210990630468,
          58.83108386396391,
          58.85990199518008,
          58.88413336053854,
          58.89987586418955,
          58.904793994088124,
          58.72154551731822,
          58.21370800021584,
          57.503542674294124,
          56.75748767729765,
          56.13417817869785,
          55.731454201435234,
          55.56176022904164,
          55.640263790209346,
          55.84478185379744,
          56.10491742453727,
          56.343105133340124,
          56.13104542759868,
          56.14262175459846,
          56.426651416686816,
          56.94280332984754,
          57.58853876431565,
          58.23176475672875,
          58.72046694539487,
          58.904793994088124,
          58.72169431915732,
          58.213470285273324,
          57.50326022503668,
          56.75762368250896,
          56.13461153812719,
          55.73157244047937,
          55.56128618923185,
          55.56176022904164,
          55.506658297809544,
          55.4744419899505,
          55.45893306039998,
          55.4541037927445,
          55.4544083069325,
          55.45687742091881,
          55.45701101819761
         ],
         "yaxis": "y"
        },
        {
         "marker": {
          "color": "#636EFA"
         },
         "mode": "lines",
         "showlegend": false,
         "type": "scatter",
         "x": [
          0,
          0.04419417382415922,
          0.08838834764831845,
          0.13258252147247768,
          0.1767766952966369,
          0.2209708691207961,
          0.26516504294495535,
          0.3093592167691146,
          0.35355339059327384,
          0.3977475644174331,
          0.44194173824159233,
          0.4861359120657516,
          0.5303300858899108,
          0.5745242597140701,
          0.6187184335382293,
          0.6629126073623886,
          0.7071067811865478,
          0.751300955010707,
          0.7954951288348663,
          0.8396893026590255,
          0.8838834764831848,
          0.928077650307344,
          0.9722718241315033,
          1.0164659979556625,
          1.0606601717798216,
          1.1048543456039808,
          1.14904851942814,
          1.193242693252299,
          1.2374368670764582,
          1.2811777553404435,
          1.3249186436044287,
          1.368659531868414,
          1.4124004201323994,
          1.4561413083963848,
          1.4998821966603701,
          1.5436230849243555,
          1.5873639731883409,
          1.6311048614523262,
          1.6748457497163114,
          1.7185866379802968,
          1.7623275262442821,
          1.8060684145082675,
          1.8498093027722529,
          1.893550191036238,
          1.9372910793002234,
          1.9810319675642087,
          2.024772855828194,
          2.0685137440921793,
          2.112254632356165,
          2.1559955206201504,
          2.201575805029858,
          2.2471560894395655,
          2.292736373849273,
          2.3383166582589805,
          2.383896942668688,
          2.4294772270783955,
          2.475057511488103,
          2.5206377958978106,
          2.566218080307518,
          2.6117983647172256,
          2.657378649126933,
          2.70295893353664,
          2.7485392179463473,
          2.7941195023560548,
          2.8396997867657623,
          2.8852800711754694,
          2.9308603555851764,
          2.976440639994884,
          3.0220209244045915,
          3.0657618126685766,
          3.1095027009325618,
          3.1532435891965473,
          3.1969844774605325,
          3.2407253657245176,
          3.2844662539885032,
          3.3282071422524884,
          3.3724013160766475,
          3.4165954899008066,
          3.4607896637249658,
          3.504983837549125,
          3.549178011373284,
          3.593372185197443,
          3.6375663590216023,
          3.6817605328457614,
          3.7259547066699206,
          3.7701488804940797,
          3.814343054318239,
          3.858537228142398,
          3.902278116406383,
          3.9460190046703683,
          3.9897598929343534,
          4.033500781198339,
          4.077241669462325,
          4.12098255772631,
          4.164723445990296,
          4.164723445990296,
          4.208464334254281,
          4.252205222518266,
          4.295946110782252,
          4.339686999046237,
          4.383427887310222,
          4.4271687755742075,
          4.470909663838193
         ],
         "xaxis": "x",
         "y": [
          60.42014301528241,
          60.42050927819483,
          60.42068917181317,
          60.407288940830256,
          60.361221854409756,
          60.258725880552554,
          60.07354123600067,
          59.778475171905086,
          59.347833258298984,
          58.760571557565235,
          58.0009551425336,
          57.057370385218896,
          55.92305632802697,
          55.55091056755865,
          55.49989390344281,
          55.46883181728138,
          55.458700662154,
          55.533972085495975,
          55.715967140028916,
          55.92279872578931,
          56.09741178983889,
          56.22042684725194,
          56.29544168135038,
          56.33282814366023,
          56.34368943341683,
          56.62210793294622,
          57.006939075009335,
          57.36045501552925,
          57.50617191689317,
          57.71345942997474,
          57.87634603754239,
          58.00606878688833,
          58.11415752979908,
          58.21072221503661,
          58.30241931370213,
          58.38983993886606,
          58.46782469964591,
          58.529533425659636,
          58.57087990410542,
          58.59536163420402,
          58.61762311414871,
          58.84269175437679,
          59.16513378088855,
          59.466141800711505,
          59.73780451163082,
          59.97237825497937,
          60.16297991859013,
          60.30395469809211,
          60.3906120938606,
          60.42014301528241,
          60.38375449821107,
          60.279031060108416,
          60.11653046138331,
          59.9124407549224,
          59.685974554807,
          59.4585553149744,
          59.24877992529635,
          59.07101717802618,
          58.934452726820645,
          58.841774968655784,
          58.7898018638817,
          58.77240120693036,
          58.77950324397961,
          58.80249147408213,
          58.83214513774407,
          58.86117042360596,
          58.88519965286726,
          58.90058281195242,
          58.90596876400698,
          58.79215725546473,
          58.51699146335551,
          58.21453795596793,
          57.983667670152386,
          57.83204475975051,
          57.697052346950045,
          57.50607418692259,
          57.360716881038854,
          57.00756730621284,
          56.62283970962566,
          56.34368943341683,
          56.67008533762975,
          57.014306359783525,
          57.34473757816635,
          57.68901770043406,
          58.07682258726983,
          58.476006231020506,
          58.786880485592526,
          58.90596876400698,
          58.791478025464436,
          58.51586180148213,
          58.21342313283838,
          57.98281395693206,
          57.831385075690065,
          57.69669035299189,
          57.50617191689317,
          57.50607418692259,
          57.24578752621001,
          56.93169444054976,
          56.572592554703775,
          56.1911681176354,
          55.830789302394635,
          55.56007516936505,
          55.458700662154
         ],
         "yaxis": "y"
        },
        {
         "mode": "lines+markers",
         "showlegend": false,
         "type": "scatter",
         "x": [
          0,
          0,
          0,
          0,
          0,
          0,
          8.333333333333333e-05,
          0.00016666666666666666,
          0.00025,
          0.0007083333333333334,
          0.00075,
          0.0015833333333333333,
          0.001625,
          0.002625,
          0.00375,
          0.005125,
          0.008625,
          0.01775,
          0.020416666666666666,
          0.021791666666666668,
          0.029208333333333333,
          0.0365,
          0.03866666666666666,
          0.03220833333333334,
          0.02741666666666667,
          0.025291666666666667,
          0.022708333333333334,
          0.022875,
          0.0225,
          0.004166666666666667,
          0.001875,
          0.002625,
          0.00175,
          0.00325,
          0.0019166666666666668,
          0.004,
          0.003625,
          0.005125,
          0.004,
          0.006375,
          0.005916666666666667,
          0.008875,
          0.00825,
          0.0115,
          0.015791666666666666,
          0.023375,
          0.015875,
          0.011375,
          0.007916666666666667,
          0.009625,
          0.011791666666666666,
          0.012833333333333334,
          0.013166666666666667,
          0.01525,
          0.015625,
          0.013166666666666667,
          0.011875,
          0.013041666666666667,
          0.0115,
          0.009791666666666666,
          0.043541666666666666,
          0.10091666666666667,
          0.11,
          0.09483333333333333,
          0.01920833333333333,
          0.003625,
          0,
          0,
          0,
          0,
          0,
          0,
          0,
          0,
          0
         ],
         "xaxis": "x2",
         "y": [
          -4.5,
          -3.5,
          -2.5,
          -1.5,
          -0.5,
          0.5,
          1.5,
          2.5,
          3.5,
          4.5,
          5.5,
          6.5,
          7.5,
          8.5,
          9.5,
          10.5,
          11.5,
          12.5,
          13.5,
          14.5,
          15.5,
          16.5,
          17.5,
          18.5,
          19.5,
          20.5,
          21.5,
          22.5,
          23.5,
          24.5,
          25.5,
          26.5,
          27.5,
          28.5,
          29.5,
          30.5,
          31.5,
          32.5,
          33.5,
          34.5,
          35.5,
          36.5,
          37.5,
          38.5,
          39.5,
          40.5,
          41.5,
          42.5,
          43.5,
          44.5,
          45.5,
          46.5,
          47.5,
          48.5,
          49.5,
          50.5,
          51.5,
          52.5,
          53.5,
          54.5,
          55.5,
          56.5,
          57.5,
          58.5,
          59.5,
          60.5,
          61.5,
          62.5,
          63.5,
          64.5,
          65.5,
          66.5,
          67.5,
          68.5,
          69.5
         ],
         "yaxis": "y2"
        }
       ],
       "layout": {
        "height": 500,
        "shapes": [
         {
          "line": {
           "color": "gray",
           "dash": "dash",
           "width": 1
          },
          "type": "line",
          "x0": 4.164723445990296,
          "x1": 4.164723445990296,
          "xref": "x",
          "y0": 0,
          "y1": 1,
          "yref": "y domain"
         }
        ],
        "template": {
         "data": {
          "bar": [
           {
            "error_x": {
             "color": "#2a3f5f"
            },
            "error_y": {
             "color": "#2a3f5f"
            },
            "marker": {
             "line": {
              "color": "#E5ECF6",
              "width": 0.5
             },
             "pattern": {
              "fillmode": "overlay",
              "size": 10,
              "solidity": 0.2
             }
            },
            "type": "bar"
           }
          ],
          "barpolar": [
           {
            "marker": {
             "line": {
              "color": "#E5ECF6",
              "width": 0.5
             },
             "pattern": {
              "fillmode": "overlay",
              "size": 10,
              "solidity": 0.2
             }
            },
            "type": "barpolar"
           }
          ],
          "carpet": [
           {
            "aaxis": {
             "endlinecolor": "#2a3f5f",
             "gridcolor": "white",
             "linecolor": "white",
             "minorgridcolor": "white",
             "startlinecolor": "#2a3f5f"
            },
            "baxis": {
             "endlinecolor": "#2a3f5f",
             "gridcolor": "white",
             "linecolor": "white",
             "minorgridcolor": "white",
             "startlinecolor": "#2a3f5f"
            },
            "type": "carpet"
           }
          ],
          "choropleth": [
           {
            "colorbar": {
             "outlinewidth": 0,
             "ticks": ""
            },
            "type": "choropleth"
           }
          ],
          "contour": [
           {
            "colorbar": {
             "outlinewidth": 0,
             "ticks": ""
            },
            "colorscale": [
             [
              0,
              "#0d0887"
             ],
             [
              0.1111111111111111,
              "#46039f"
             ],
             [
              0.2222222222222222,
              "#7201a8"
             ],
             [
              0.3333333333333333,
              "#9c179e"
             ],
             [
              0.4444444444444444,
              "#bd3786"
             ],
             [
              0.5555555555555556,
              "#d8576b"
             ],
             [
              0.6666666666666666,
              "#ed7953"
             ],
             [
              0.7777777777777778,
              "#fb9f3a"
             ],
             [
              0.8888888888888888,
              "#fdca26"
             ],
             [
              1,
              "#f0f921"
             ]
            ],
            "type": "contour"
           }
          ],
          "contourcarpet": [
           {
            "colorbar": {
             "outlinewidth": 0,
             "ticks": ""
            },
            "type": "contourcarpet"
           }
          ],
          "heatmap": [
           {
            "colorbar": {
             "outlinewidth": 0,
             "ticks": ""
            },
            "colorscale": [
             [
              0,
              "#0d0887"
             ],
             [
              0.1111111111111111,
              "#46039f"
             ],
             [
              0.2222222222222222,
              "#7201a8"
             ],
             [
              0.3333333333333333,
              "#9c179e"
             ],
             [
              0.4444444444444444,
              "#bd3786"
             ],
             [
              0.5555555555555556,
              "#d8576b"
             ],
             [
              0.6666666666666666,
              "#ed7953"
             ],
             [
              0.7777777777777778,
              "#fb9f3a"
             ],
             [
              0.8888888888888888,
              "#fdca26"
             ],
             [
              1,
              "#f0f921"
             ]
            ],
            "type": "heatmap"
           }
          ],
          "heatmapgl": [
           {
            "colorbar": {
             "outlinewidth": 0,
             "ticks": ""
            },
            "colorscale": [
             [
              0,
              "#0d0887"
             ],
             [
              0.1111111111111111,
              "#46039f"
             ],
             [
              0.2222222222222222,
              "#7201a8"
             ],
             [
              0.3333333333333333,
              "#9c179e"
             ],
             [
              0.4444444444444444,
              "#bd3786"
             ],
             [
              0.5555555555555556,
              "#d8576b"
             ],
             [
              0.6666666666666666,
              "#ed7953"
             ],
             [
              0.7777777777777778,
              "#fb9f3a"
             ],
             [
              0.8888888888888888,
              "#fdca26"
             ],
             [
              1,
              "#f0f921"
             ]
            ],
            "type": "heatmapgl"
           }
          ],
          "histogram": [
           {
            "marker": {
             "pattern": {
              "fillmode": "overlay",
              "size": 10,
              "solidity": 0.2
             }
            },
            "type": "histogram"
           }
          ],
          "histogram2d": [
           {
            "colorbar": {
             "outlinewidth": 0,
             "ticks": ""
            },
            "colorscale": [
             [
              0,
              "#0d0887"
             ],
             [
              0.1111111111111111,
              "#46039f"
             ],
             [
              0.2222222222222222,
              "#7201a8"
             ],
             [
              0.3333333333333333,
              "#9c179e"
             ],
             [
              0.4444444444444444,
              "#bd3786"
             ],
             [
              0.5555555555555556,
              "#d8576b"
             ],
             [
              0.6666666666666666,
              "#ed7953"
             ],
             [
              0.7777777777777778,
              "#fb9f3a"
             ],
             [
              0.8888888888888888,
              "#fdca26"
             ],
             [
              1,
              "#f0f921"
             ]
            ],
            "type": "histogram2d"
           }
          ],
          "histogram2dcontour": [
           {
            "colorbar": {
             "outlinewidth": 0,
             "ticks": ""
            },
            "colorscale": [
             [
              0,
              "#0d0887"
             ],
             [
              0.1111111111111111,
              "#46039f"
             ],
             [
              0.2222222222222222,
              "#7201a8"
             ],
             [
              0.3333333333333333,
              "#9c179e"
             ],
             [
              0.4444444444444444,
              "#bd3786"
             ],
             [
              0.5555555555555556,
              "#d8576b"
             ],
             [
              0.6666666666666666,
              "#ed7953"
             ],
             [
              0.7777777777777778,
              "#fb9f3a"
             ],
             [
              0.8888888888888888,
              "#fdca26"
             ],
             [
              1,
              "#f0f921"
             ]
            ],
            "type": "histogram2dcontour"
           }
          ],
          "mesh3d": [
           {
            "colorbar": {
             "outlinewidth": 0,
             "ticks": ""
            },
            "type": "mesh3d"
           }
          ],
          "parcoords": [
           {
            "line": {
             "colorbar": {
              "outlinewidth": 0,
              "ticks": ""
             }
            },
            "type": "parcoords"
           }
          ],
          "pie": [
           {
            "automargin": true,
            "type": "pie"
           }
          ],
          "scatter": [
           {
            "marker": {
             "colorbar": {
              "outlinewidth": 0,
              "ticks": ""
             }
            },
            "type": "scatter"
           }
          ],
          "scatter3d": [
           {
            "line": {
             "colorbar": {
              "outlinewidth": 0,
              "ticks": ""
             }
            },
            "marker": {
             "colorbar": {
              "outlinewidth": 0,
              "ticks": ""
             }
            },
            "type": "scatter3d"
           }
          ],
          "scattercarpet": [
           {
            "marker": {
             "colorbar": {
              "outlinewidth": 0,
              "ticks": ""
             }
            },
            "type": "scattercarpet"
           }
          ],
          "scattergeo": [
           {
            "marker": {
             "colorbar": {
              "outlinewidth": 0,
              "ticks": ""
             }
            },
            "type": "scattergeo"
           }
          ],
          "scattergl": [
           {
            "marker": {
             "colorbar": {
              "outlinewidth": 0,
              "ticks": ""
             }
            },
            "type": "scattergl"
           }
          ],
          "scattermapbox": [
           {
            "marker": {
             "colorbar": {
              "outlinewidth": 0,
              "ticks": ""
             }
            },
            "type": "scattermapbox"
           }
          ],
          "scatterpolar": [
           {
            "marker": {
             "colorbar": {
              "outlinewidth": 0,
              "ticks": ""
             }
            },
            "type": "scatterpolar"
           }
          ],
          "scatterpolargl": [
           {
            "marker": {
             "colorbar": {
              "outlinewidth": 0,
              "ticks": ""
             }
            },
            "type": "scatterpolargl"
           }
          ],
          "scatterternary": [
           {
            "marker": {
             "colorbar": {
              "outlinewidth": 0,
              "ticks": ""
             }
            },
            "type": "scatterternary"
           }
          ],
          "surface": [
           {
            "colorbar": {
             "outlinewidth": 0,
             "ticks": ""
            },
            "colorscale": [
             [
              0,
              "#0d0887"
             ],
             [
              0.1111111111111111,
              "#46039f"
             ],
             [
              0.2222222222222222,
              "#7201a8"
             ],
             [
              0.3333333333333333,
              "#9c179e"
             ],
             [
              0.4444444444444444,
              "#bd3786"
             ],
             [
              0.5555555555555556,
              "#d8576b"
             ],
             [
              0.6666666666666666,
              "#ed7953"
             ],
             [
              0.7777777777777778,
              "#fb9f3a"
             ],
             [
              0.8888888888888888,
              "#fdca26"
             ],
             [
              1,
              "#f0f921"
             ]
            ],
            "type": "surface"
           }
          ],
          "table": [
           {
            "cells": {
             "fill": {
              "color": "#EBF0F8"
             },
             "line": {
              "color": "white"
             }
            },
            "header": {
             "fill": {
              "color": "#C8D4E3"
             },
             "line": {
              "color": "white"
             }
            },
            "type": "table"
           }
          ]
         },
         "layout": {
          "annotationdefaults": {
           "arrowcolor": "#2a3f5f",
           "arrowhead": 0,
           "arrowwidth": 1
          },
          "autotypenumbers": "strict",
          "coloraxis": {
           "colorbar": {
            "outlinewidth": 0,
            "ticks": ""
           }
          },
          "colorscale": {
           "diverging": [
            [
             0,
             "#8e0152"
            ],
            [
             0.1,
             "#c51b7d"
            ],
            [
             0.2,
             "#de77ae"
            ],
            [
             0.3,
             "#f1b6da"
            ],
            [
             0.4,
             "#fde0ef"
            ],
            [
             0.5,
             "#f7f7f7"
            ],
            [
             0.6,
             "#e6f5d0"
            ],
            [
             0.7,
             "#b8e186"
            ],
            [
             0.8,
             "#7fbc41"
            ],
            [
             0.9,
             "#4d9221"
            ],
            [
             1,
             "#276419"
            ]
           ],
           "sequential": [
            [
             0,
             "#0d0887"
            ],
            [
             0.1111111111111111,
             "#46039f"
            ],
            [
             0.2222222222222222,
             "#7201a8"
            ],
            [
             0.3333333333333333,
             "#9c179e"
            ],
            [
             0.4444444444444444,
             "#bd3786"
            ],
            [
             0.5555555555555556,
             "#d8576b"
            ],
            [
             0.6666666666666666,
             "#ed7953"
            ],
            [
             0.7777777777777778,
             "#fb9f3a"
            ],
            [
             0.8888888888888888,
             "#fdca26"
            ],
            [
             1,
             "#f0f921"
            ]
           ],
           "sequentialminus": [
            [
             0,
             "#0d0887"
            ],
            [
             0.1111111111111111,
             "#46039f"
            ],
            [
             0.2222222222222222,
             "#7201a8"
            ],
            [
             0.3333333333333333,
             "#9c179e"
            ],
            [
             0.4444444444444444,
             "#bd3786"
            ],
            [
             0.5555555555555556,
             "#d8576b"
            ],
            [
             0.6666666666666666,
             "#ed7953"
            ],
            [
             0.7777777777777778,
             "#fb9f3a"
            ],
            [
             0.8888888888888888,
             "#fdca26"
            ],
            [
             1,
             "#f0f921"
            ]
           ]
          },
          "colorway": [
           "#636efa",
           "#EF553B",
           "#00cc96",
           "#ab63fa",
           "#FFA15A",
           "#19d3f3",
           "#FF6692",
           "#B6E880",
           "#FF97FF",
           "#FECB52"
          ],
          "font": {
           "color": "#2a3f5f"
          },
          "geo": {
           "bgcolor": "white",
           "lakecolor": "white",
           "landcolor": "#E5ECF6",
           "showlakes": true,
           "showland": true,
           "subunitcolor": "white"
          },
          "hoverlabel": {
           "align": "left"
          },
          "hovermode": "closest",
          "mapbox": {
           "style": "light"
          },
          "paper_bgcolor": "white",
          "plot_bgcolor": "#E5ECF6",
          "polar": {
           "angularaxis": {
            "gridcolor": "white",
            "linecolor": "white",
            "ticks": ""
           },
           "bgcolor": "#E5ECF6",
           "radialaxis": {
            "gridcolor": "white",
            "linecolor": "white",
            "ticks": ""
           }
          },
          "scene": {
           "xaxis": {
            "backgroundcolor": "#E5ECF6",
            "gridcolor": "white",
            "gridwidth": 2,
            "linecolor": "white",
            "showbackground": true,
            "ticks": "",
            "zerolinecolor": "white"
           },
           "yaxis": {
            "backgroundcolor": "#E5ECF6",
            "gridcolor": "white",
            "gridwidth": 2,
            "linecolor": "white",
            "showbackground": true,
            "ticks": "",
            "zerolinecolor": "white"
           },
           "zaxis": {
            "backgroundcolor": "#E5ECF6",
            "gridcolor": "white",
            "gridwidth": 2,
            "linecolor": "white",
            "showbackground": true,
            "ticks": "",
            "zerolinecolor": "white"
           }
          },
          "shapedefaults": {
           "line": {
            "color": "#2a3f5f"
           }
          },
          "ternary": {
           "aaxis": {
            "gridcolor": "white",
            "linecolor": "white",
            "ticks": ""
           },
           "baxis": {
            "gridcolor": "white",
            "linecolor": "white",
            "ticks": ""
           },
           "bgcolor": "#E5ECF6",
           "caxis": {
            "gridcolor": "white",
            "linecolor": "white",
            "ticks": ""
           }
          },
          "title": {
           "x": 0.05
          },
          "xaxis": {
           "automargin": true,
           "gridcolor": "white",
           "linecolor": "white",
           "ticks": "",
           "title": {
            "standoff": 15
           },
           "zerolinecolor": "white",
           "zerolinewidth": 2
          },
          "yaxis": {
           "automargin": true,
           "gridcolor": "white",
           "linecolor": "white",
           "ticks": "",
           "title": {
            "standoff": 15
           },
           "zerolinecolor": "white",
           "zerolinewidth": 2
          }
         }
        },
        "width": 1000,
        "xaxis": {
         "anchor": "y",
         "autorange": true,
         "domain": [
          0,
          0.63
         ],
         "range": [
          0,
          4.470909663838193
         ],
         "ticktext": [
          "G",
          "X",
          "W",
          "K",
          "G",
          "L",
          "U",
          "W",
          "L",
          "K|U",
          "X"
         ],
         "tickvals": [
          0,
          0.7071067811865478,
          1.0606601717798216,
          1.2374368670764582,
          2.1559955206201504,
          3.0220209244045915,
          3.3282071422524884,
          3.504983837549125,
          3.858537228142398,
          4.164723445990296,
          4.470909663838193
         ],
         "type": "linear"
        },
        "xaxis2": {
         "anchor": "y2",
         "autorange": true,
         "domain": [
          0.73,
          1
         ],
         "range": [
          -0.00844217271895026,
          0.11844217271895026
         ],
         "showticklabels": false,
         "title": {
          "text": "DOS"
         },
         "type": "linear"
        },
        "yaxis": {
         "anchor": "x",
         "domain": [
          0,
          1
         ],
         "range": [
          -4.5,
          69.5
         ],
         "title": {
          "text": "Frequency (meV)"
         },
         "type": "linear"
        },
        "yaxis2": {
         "anchor": "x2",
         "domain": [
          0,
          1
         ],
         "range": [
          -4.5,
          69.5
         ],
         "showticklabels": false,
         "title": {
          "text": ""
         },
         "type": "linear"
        }
       }
      },
      "image/png": "[encoded data removed]",
      "text/html": [
       "<div>                            <div id=\"f1e0fc3d-b25e-4052-bae5-45cd698ea2d3\" class=\"plotly-graph-div\" style=\"height:500px; width:1000px;\"></div>            <script type=\"text/javascript\">                require([\"plotly\"], function(Plotly) {                    window.PLOTLYENV=window.PLOTLYENV || {};                                    if (document.getElementById(\"f1e0fc3d-b25e-4052-bae5-45cd698ea2d3\")) {                    Plotly.newPlot(                        \"f1e0fc3d-b25e-4052-bae5-45cd698ea2d3\",                        [{\"marker\":{\"color\":\"#636EFA\"},\"mode\":\"lines\",\"showlegend\":false,\"type\":\"scatter\",\"x\":[0.0,0.04419417382415922,0.08838834764831845,0.13258252147247768,0.1767766952966369,0.2209708691207961,0.26516504294495535,0.3093592167691146,0.35355339059327384,0.3977475644174331,0.44194173824159233,0.4861359120657516,0.5303300858899108,0.5745242597140701,0.6187184335382293,0.6629126073623886,0.7071067811865478,0.751300955010707,0.7954951288348663,0.8396893026590255,0.8838834764831848,0.928077650307344,0.9722718241315033,1.0164659979556625,1.0606601717798216,1.1048543456039808,1.14904851942814,1.193242693252299,1.2374368670764582,1.2811777553404435,1.3249186436044287,1.368659531868414,1.4124004201323994,1.4561413083963848,1.4998821966603701,1.5436230849243555,1.5873639731883409,1.6311048614523262,1.6748457497163114,1.7185866379802968,1.7623275262442821,1.8060684145082675,1.8498093027722529,1.893550191036238,1.9372910793002234,1.9810319675642087,2.024772855828194,2.0685137440921793,2.112254632356165,2.1559955206201504,2.201575805029858,2.2471560894395655,2.292736373849273,2.3383166582589805,2.383896942668688,2.4294772270783955,2.475057511488103,2.5206377958978106,2.566218080307518,2.6117983647172256,2.657378649126933,2.70295893353664,2.7485392179463473,2.7941195023560548,2.8396997867657623,2.8852800711754694,2.9308603555851764,2.976440639994884,3.0220209244045915,3.0657618126685766,3.1095027009325618,3.1532435891965473,3.1969844774605325,3.2407253657245176,3.2844662539885032,3.3282071422524884,3.3724013160766475,3.4165954899008066,3.4607896637249658,3.504983837549125,3.549178011373284,3.593372185197443,3.6375663590216023,3.6817605328457614,3.7259547066699206,3.7701488804940797,3.814343054318239,3.858537228142398,3.902278116406383,3.9460190046703683,3.9897598929343534,4.033500781198339,4.077241669462325,4.12098255772631,4.164723445990296,4.164723445990296,4.208464334254281,4.252205222518266,4.295946110782252,4.339686999046237,4.383427887310222,4.4271687755742075,4.470909663838193],\"xaxis\":\"x\",\"y\":[-0.1667438005545818,2.3591349299423627,4.669606278507968,6.85882658554211,8.863617875093908,10.637183953641479,12.14120966548392,13.351784869936937,14.27251925161431,14.92696694822229,15.353646938403177,15.61072110402032,15.751962778583465,15.820854667430087,15.85065862359473,15.862507431148996,15.865569788816957,16.14427632629621,16.93051383641666,18.097531744069556,19.475551702825364,20.875517466749542,22.09967620220456,22.949215492838903,23.256092223644135,22.195877256980452,20.335623694042972,18.620962605175258,17.926052042266445,18.187080655839537,18.343715151427688,18.377322968608784,18.275150118889112,18.03299783339796,17.65142401303352,17.13398076245529,16.490149439634507,15.731024222668122,14.865419513899235,13.902603726395263,12.8503351187603,11.71208370738958,10.49062690801115,9.188894989345547,7.807609528349375,6.349250485573412,4.82447448131272,3.248260217350018,1.6304091051619336,-0.1667438005545818,1.549378387277593,3.075330538421674,4.541383601135733,5.905083413608191,7.135047619842204,8.216122161099182,9.142691214602692,9.912219445109566,10.527524658645575,11.003743692333966,11.365829924669661,11.6353137439182,11.835080108150313,11.979659708984707,12.084648871200242,12.16119522180769,12.213783699268218,12.24546367045586,12.256269211044152,12.73600782595626,13.95657790650934,15.450945776589645,16.784465496748496,17.680539649126825,18.042619846469755,17.92831082886049,18.621535113518977,20.335434112985038,22.19638940264588,23.256092223644135,22.424912324482616,21.19270468540016,19.61616419653593,17.789624056080424,15.862426570858023,14.071188711671006,12.75110139357484,12.256269211044152,12.73594656821114,13.956144982778758,15.450738287560615,16.784648939301526,17.680800891185584,18.041765372712327,17.926052042266445,17.92831082886049,17.586060349562025,17.196043241270342,16.79654666946343,16.427046603405323,16.128073419578428,15.933629443601484,15.865569788816957],\"yaxis\":\"y\"},{\"marker\":{\"color\":\"#636EFA\"},\"mode\":\"lines\",\"showlegend\":false,\"type\":\"scatter\",\"x\":[0.0,0.04419417382415922,0.08838834764831845,0.13258252147247768,0.1767766952966369,0.2209708691207961,0.26516504294495535,0.3093592167691146,0.35355339059327384,0.3977475644174331,0.44194173824159233,0.4861359120657516,0.5303300858899108,0.5745242597140701,0.6187184335382293,0.6629126073623886,0.7071067811865478,0.751300955010707,0.7954951288348663,0.8396893026590255,0.8838834764831848,0.928077650307344,0.9722718241315033,1.0164659979556625,1.0606601717798216,1.1048543456039808,1.14904851942814,1.193242693252299,1.2374368670764582,1.2811777553404435,1.3249186436044287,1.368659531868414,1.4124004201323994,1.4561413083963848,1.4998821966603701,1.5436230849243555,1.5873639731883409,1.6311048614523262,1.6748457497163114,1.7185866379802968,1.7623275262442821,1.8060684145082675,1.8498093027722529,1.893550191036238,1.9372910793002234,1.9810319675642087,2.024772855828194,2.0685137440921793,2.112254632356165,2.1559955206201504,2.201575805029858,2.2471560894395655,2.292736373849273,2.3383166582589805,2.383896942668688,2.4294772270783955,2.475057511488103,2.5206377958978106,2.566218080307518,2.6117983647172256,2.657378649126933,2.70295893353664,2.7485392179463473,2.7941195023560548,2.8396997867657623,2.8852800711754694,2.9308603555851764,2.976440639994884,3.0220209244045915,3.0657618126685766,3.1095027009325618,3.1532435891965473,3.1969844774605325,3.2407253657245176,3.2844662539885032,3.3282071422524884,3.3724013160766475,3.4165954899008066,3.4607896637249658,3.504983837549125,3.549178011373284,3.593372185197443,3.6375663590216023,3.6817605328457614,3.7259547066699206,3.7701488804940797,3.814343054318239,3.858537228142398,3.902278116406383,3.9460190046703683,3.9897598929343534,4.033500781198339,4.077241669462325,4.12098255772631,4.164723445990296,4.164723445990296,4.208464334254281,4.252205222518266,4.295946110782252,4.339686999046237,4.383427887310222,4.4271687755742075,4.470909663838193],\"xaxis\":\"x\",\"y\":[0.04867865603234367,2.3737138374639013,4.678032814976582,6.861138270528691,8.865426574721912,10.639383346731476,12.142342745934954,13.35365522368296,14.27433184923734,14.927489665773898,15.35741416436594,15.614798946643036,15.754037662726851,15.821702258575945,15.851883377513806,15.86380200103299,15.866828179532101,16.145799125207244,16.933372765383215,18.10030406103054,19.477386249753106,20.87690195751452,22.10092704328146,22.950913194572685,23.25807098354858,23.537598199935815,23.578755575058644,23.522770986122094,23.489009287916573,24.080318892869876,24.247464783719124,24.066629083711756,23.64626882321783,23.072482283848984,22.389193600008856,21.60645664621807,20.715379670578713,19.70351580327421,18.5634823314966,17.294903659785575,15.906014706854794,14.408241843076866,12.811872112978204,11.130846674524205,9.380334302638634,7.571058544621764,5.713518129205644,3.82243234403066,1.9165157445659418,0.04867865603234367,1.5588651943765879,3.0878660413585983,4.546040096653378,5.908328759712122,7.1383580608736885,8.217288297262632,9.143967218033712,9.913597529538702,10.528786809584071,11.006907236719254,11.368770149416656,11.638762617369617,11.836126288666549,11.980646303173348,12.08555780726731,12.16231533439293,12.215580498794658,12.24681098031962,12.25762749810969,13.307332332098335,15.903913301582646,19.03711116893513,21.823806240860804,23.557244219046243,23.99209852116195,23.489136503948618,23.5235892267885,23.579373075081143,23.537557887974632,23.25807098354858,23.667287987727814,23.623476987143768,22.955616289689505,21.376969065479106,18.866172135051627,15.894527005392112,13.322774203351862,12.25762749810969,13.307554715411065,15.904360914908347,19.037000951284472,21.823631589826917,23.557236178295764,23.991835647332895,23.489009287916573,23.489136503948618,22.482443907437858,21.160828486868574,19.682601237926583,18.23156065572946,16.997923057937705,16.16281391169618,15.866828179532101],\"yaxis\":\"y\"},{\"marker\":{\"color\":\"#636EFA\"},\"mode\":\"lines\",\"showlegend\":false,\"type\":\"scatter\",\"x\":[0.0,0.04419417382415922,0.08838834764831845,0.13258252147247768,0.1767766952966369,0.2209708691207961,0.26516504294495535,0.3093592167691146,0.35355339059327384,0.3977475644174331,0.44194173824159233,0.4861359120657516,0.5303300858899108,0.5745242597140701,0.6187184335382293,0.6629126073623886,0.7071067811865478,0.751300955010707,0.7954951288348663,0.8396893026590255,0.8838834764831848,0.928077650307344,0.9722718241315033,1.0164659979556625,1.0606601717798216,1.1048543456039808,1.14904851942814,1.193242693252299,1.2374368670764582,1.2811777553404435,1.3249186436044287,1.368659531868414,1.4124004201323994,1.4561413083963848,1.4998821966603701,1.5436230849243555,1.5873639731883409,1.6311048614523262,1.6748457497163114,1.7185866379802968,1.7623275262442821,1.8060684145082675,1.8498093027722529,1.893550191036238,1.9372910793002234,1.9810319675642087,2.024772855828194,2.0685137440921793,2.112254632356165,2.1559955206201504,2.201575805029858,2.2471560894395655,2.292736373849273,2.3383166582589805,2.383896942668688,2.4294772270783955,2.475057511488103,2.5206377958978106,2.566218080307518,2.6117983647172256,2.657378649126933,2.70295893353664,2.7485392179463473,2.7941195023560548,2.8396997867657623,2.8852800711754694,2.9308603555851764,2.976440639994884,3.0220209244045915,3.0657618126685766,3.1095027009325618,3.1532435891965473,3.1969844774605325,3.2407253657245176,3.2844662539885032,3.3282071422524884,3.3724013160766475,3.4165954899008066,3.4607896637249658,3.504983837549125,3.549178011373284,3.593372185197443,3.6375663590216023,3.6817605328457614,3.7259547066699206,3.7701488804940797,3.814343054318239,3.858537228142398,3.902278116406383,3.9460190046703683,3.9897598929343534,4.033500781198339,4.077241669462325,4.12098255772631,4.164723445990296,4.164723445990296,4.208464334254281,4.252205222518266,4.295946110782252,4.339686999046237,4.383427887310222,4.4271687755742075,4.470909663838193],\"xaxis\":\"x\",\"y\":[0.20002956552078038,3.671380573183907,7.342507123066141,11.012305840041481,14.672149241623822,18.304627605053415,21.884346275074282,25.38096011562979,28.761001238145344,31.99125129627236,35.04587464832048,37.91134954191566,40.585731351189075,43.076059731949115,45.39464768436606,47.55291315012536,49.55547096746693,49.28973833437771,48.55620802640955,47.49550901632442,46.26045262888404,45.00522404380109,43.90006397613529,43.127450639685534,42.84711920166097,42.64294009032832,43.19311521378786,43.802467961631336,44.0463180925347,42.8672236663429,41.66109273926204,40.43221375103236,39.176866903637205,37.88160794138488,36.52265598314742,35.07075714083762,33.49575455091372,31.77097198265525,29.878890249499612,27.812772596978174,25.575634285162867,23.177758698824316,20.632873576516282,17.956224240007227,15.162735149124497,12.266419853972788,9.282137421393443,6.227601136542807,3.1270907358538182,0.20002956552078038,2.8761436562298264,5.754268340206105,8.650510118204378,11.563817580989491,14.491868147278488,17.429570398052213,20.36800753617553,23.28987658603906,26.170629309369385,28.9799223348545,31.685522325673862,34.25787271860301,36.67073145054369,38.903460300651,40.94295702519195,42.78185887647983,44.40228732413115,45.71118784054101,46.31121394320045,45.79058815866763,44.39050446320348,42.59451626604182,41.157827118304965,40.8805242917269,42.062693110979275,44.046948686376915,43.80256173882062,43.192648136655336,42.642641279525236,42.84711920166097,41.782024731372225,40.90803098140738,40.54268922709916,41.09312478301548,42.5545909212169,44.358209540767604,45.780040638201314,46.31121394320045,45.79048493293493,44.39044921980399,42.59485493569498,41.158183130537346,40.88033380846179,42.062291152145,44.0463180925347,44.046948686376915,45.18696548739112,46.20896735730475,47.17430648354216,48.11035616589359,48.87987728933895,49.380767132032226,49.55547096746693],\"yaxis\":\"y\"},{\"marker\":{\"color\":\"#636EFA\"},\"mode\":\"lines\",\"showlegend\":false,\"type\":\"scatter\",\"x\":[0.0,0.04419417382415922,0.08838834764831845,0.13258252147247768,0.1767766952966369,0.2209708691207961,0.26516504294495535,0.3093592167691146,0.35355339059327384,0.3977475644174331,0.44194173824159233,0.4861359120657516,0.5303300858899108,0.5745242597140701,0.6187184335382293,0.6629126073623886,0.7071067811865478,0.751300955010707,0.7954951288348663,0.8396893026590255,0.8838834764831848,0.928077650307344,0.9722718241315033,1.0164659979556625,1.0606601717798216,1.1048543456039808,1.14904851942814,1.193242693252299,1.2374368670764582,1.2811777553404435,1.3249186436044287,1.368659531868414,1.4124004201323994,1.4561413083963848,1.4998821966603701,1.5436230849243555,1.5873639731883409,1.6311048614523262,1.6748457497163114,1.7185866379802968,1.7623275262442821,1.8060684145082675,1.8498093027722529,1.893550191036238,1.9372910793002234,1.9810319675642087,2.024772855828194,2.0685137440921793,2.112254632356165,2.1559955206201504,2.201575805029858,2.2471560894395655,2.292736373849273,2.3383166582589805,2.383896942668688,2.4294772270783955,2.475057511488103,2.5206377958978106,2.566218080307518,2.6117983647172256,2.657378649126933,2.70295893353664,2.7485392179463473,2.7941195023560548,2.8396997867657623,2.8852800711754694,2.9308603555851764,2.976440639994884,3.0220209244045915,3.0657618126685766,3.1095027009325618,3.1532435891965473,3.1969844774605325,3.2407253657245176,3.2844662539885032,3.3282071422524884,3.3724013160766475,3.4165954899008066,3.4607896637249658,3.504983837549125,3.549178011373284,3.593372185197443,3.6375663590216023,3.6817605328457614,3.7259547066699206,3.7701488804940797,3.814343054318239,3.858537228142398,3.902278116406383,3.9460190046703683,3.9897598929343534,4.033500781198339,4.077241669462325,4.12098255772631,4.164723445990296,4.164723445990296,4.208464334254281,4.252205222518266,4.295946110782252,4.339686999046237,4.383427887310222,4.4271687755742075,4.470909663838193],\"xaxis\":\"x\",\"y\":[60.418338817947635,60.304610979706986,59.97423257384993,59.46742668066894,58.8443552172148,58.175196747593354,57.52696895859361,56.953579802690655,56.48845608540389,56.140974673834286,55.897194015758885,55.733517306866595,55.62443292682345,54.59785705741787,53.088015082419645,51.40392034021285,49.55741965116719,49.291072769713494,48.557430688448086,47.497296318146766,46.26161267711923,45.0061494443156,43.900744142073314,43.128016184013255,42.84788324626563,43.6076865111315,44.25477240618261,44.696537078244624,44.85440729977184,44.76401133367596,45.143405700892046,45.93418512971934,47.02357070227379,48.29500549336611,49.654150183238755,51.02969929318582,52.36911668028999,53.63391563542188,54.796858142577946,55.842134099052,56.76359702726828,57.56306617905509,58.24800810208782,58.82762957560359,59.18550438256714,59.50052273654817,59.83672998913547,60.13752856219063,60.3456495460177,60.418338817947635,60.37053058045357,60.22959491948756,60.01055288825235,59.734660245206136,59.42345463012019,59.09133879462022,58.74098029103278,58.36379302238123,57.94108946189391,57.4482817325035,56.86192600801726,56.16435630386483,55.34726481128682,54.4148687907587,53.38427786515619,52.28329564603137,51.15897717176479,50.133466482122145,49.62531822752919,49.52432836615399,49.20087485428087,48.618791139523594,47.78016261003499,46.75950425971203,45.67929821524459,44.855433608692536,44.69728969776568,44.25497117876244,43.607619138347076,42.84788324626563,44.01055468734539,45.25387220878577,46.51297863592092,47.662891044233206,48.575670868948805,49.18912071691773,49.52225215181301,49.62531822752919,49.52418448137366,49.200296754379,48.617689981930724,47.77896300751476,46.75864852788633,45.67840982977381,44.85440729977184,44.855433608692536,45.379455512388155,46.27036453621401,47.274149969987214,48.164214666867345,48.89017892106306,49.38195183670339,49.55741965116719],\"yaxis\":\"y\"},{\"marker\":{\"color\":\"#636EFA\"},\"mode\":\"lines\",\"showlegend\":false,\"type\":\"scatter\",\"x\":[0.0,0.04419417382415922,0.08838834764831845,0.13258252147247768,0.1767766952966369,0.2209708691207961,0.26516504294495535,0.3093592167691146,0.35355339059327384,0.3977475644174331,0.44194173824159233,0.4861359120657516,0.5303300858899108,0.5745242597140701,0.6187184335382293,0.6629126073623886,0.7071067811865478,0.751300955010707,0.7954951288348663,0.8396893026590255,0.8838834764831848,0.928077650307344,0.9722718241315033,1.0164659979556625,1.0606601717798216,1.1048543456039808,1.14904851942814,1.193242693252299,1.2374368670764582,1.2811777553404435,1.3249186436044287,1.368659531868414,1.4124004201323994,1.4561413083963848,1.4998821966603701,1.5436230849243555,1.5873639731883409,1.6311048614523262,1.6748457497163114,1.7185866379802968,1.7623275262442821,1.8060684145082675,1.8498093027722529,1.893550191036238,1.9372910793002234,1.9810319675642087,2.024772855828194,2.0685137440921793,2.112254632356165,2.1559955206201504,2.201575805029858,2.2471560894395655,2.292736373849273,2.3383166582589805,2.383896942668688,2.4294772270783955,2.475057511488103,2.5206377958978106,2.566218080307518,2.6117983647172256,2.657378649126933,2.70295893353664,2.7485392179463473,2.7941195023560548,2.8396997867657623,2.8852800711754694,2.9308603555851764,2.976440639994884,3.0220209244045915,3.0657618126685766,3.1095027009325618,3.1532435891965473,3.1969844774605325,3.2407253657245176,3.2844662539885032,3.3282071422524884,3.3724013160766475,3.4165954899008066,3.4607896637249658,3.504983837549125,3.549178011373284,3.593372185197443,3.6375663590216023,3.6817605328457614,3.7259547066699206,3.7701488804940797,3.814343054318239,3.858537228142398,3.902278116406383,3.9460190046703683,3.9897598929343534,4.033500781198339,4.077241669462325,4.12098255772631,4.164723445990296,4.164723445990296,4.208464334254281,4.252205222518266,4.295946110782252,4.339686999046237,4.383427887310222,4.4271687755742075,4.470909663838193],\"xaxis\":\"x\",\"y\":[60.41966127409764,60.305455578003404,59.975244030309064,59.468652991564475,58.84602789956427,58.17662359538606,57.52788792931063,56.95466678533109,56.489926355314694,56.141540452562865,55.89800417812212,55.73408290373065,55.62491251417235,55.549897034070575,55.4989044504133,55.46788276202111,55.45701101819761,55.53298313744052,55.715487002986364,55.92152355285653,56.09627399630045,56.22013668193206,56.2946019541275,56.331839788040064,56.343105133340124,56.10555208806711,55.84451593539901,55.639121318020074,55.56128618923185,55.645307252172834,55.761503356688756,55.91270573060851,56.099892108661976,56.32136309164921,56.57451414874665,56.85606416070103,57.16118763935414,57.484832432870974,57.82157584448719,58.16446623582654,58.506799214151414,58.662673293800005,58.76003227405114,58.932620676053304,59.311277725063505,59.706407344248184,60.01598211936021,60.239101097344964,60.37357835662686,60.41966127409764,60.38310246368289,60.27827986069783,60.11532021351977,59.910865670445205,59.685326605847706,59.45833896904099,59.24831938415972,59.070440107137635,58.93383715129213,58.84088075524273,58.789112136406246,58.77135395941585,58.779303784210725,58.80210990630468,58.83108386396391,58.85990199518008,58.88413336053854,58.89987586418955,58.904793994088124,58.72154551731822,58.21370800021584,57.503542674294124,56.75748767729765,56.13417817869785,55.731454201435234,55.56176022904164,55.640263790209346,55.84478185379744,56.10491742453727,56.343105133340124,56.13104542759868,56.14262175459846,56.426651416686816,56.94280332984754,57.58853876431565,58.23176475672875,58.72046694539487,58.904793994088124,58.72169431915732,58.213470285273324,57.50326022503668,56.75762368250896,56.13461153812719,55.73157244047937,55.56128618923185,55.56176022904164,55.506658297809544,55.4744419899505,55.45893306039998,55.4541037927445,55.4544083069325,55.45687742091881,55.45701101819761],\"yaxis\":\"y\"},{\"marker\":{\"color\":\"#636EFA\"},\"mode\":\"lines\",\"showlegend\":false,\"type\":\"scatter\",\"x\":[0.0,0.04419417382415922,0.08838834764831845,0.13258252147247768,0.1767766952966369,0.2209708691207961,0.26516504294495535,0.3093592167691146,0.35355339059327384,0.3977475644174331,0.44194173824159233,0.4861359120657516,0.5303300858899108,0.5745242597140701,0.6187184335382293,0.6629126073623886,0.7071067811865478,0.751300955010707,0.7954951288348663,0.8396893026590255,0.8838834764831848,0.928077650307344,0.9722718241315033,1.0164659979556625,1.0606601717798216,1.1048543456039808,1.14904851942814,1.193242693252299,1.2374368670764582,1.2811777553404435,1.3249186436044287,1.368659531868414,1.4124004201323994,1.4561413083963848,1.4998821966603701,1.5436230849243555,1.5873639731883409,1.6311048614523262,1.6748457497163114,1.7185866379802968,1.7623275262442821,1.8060684145082675,1.8498093027722529,1.893550191036238,1.9372910793002234,1.9810319675642087,2.024772855828194,2.0685137440921793,2.112254632356165,2.1559955206201504,2.201575805029858,2.2471560894395655,2.292736373849273,2.3383166582589805,2.383896942668688,2.4294772270783955,2.475057511488103,2.5206377958978106,2.566218080307518,2.6117983647172256,2.657378649126933,2.70295893353664,2.7485392179463473,2.7941195023560548,2.8396997867657623,2.8852800711754694,2.9308603555851764,2.976440639994884,3.0220209244045915,3.0657618126685766,3.1095027009325618,3.1532435891965473,3.1969844774605325,3.2407253657245176,3.2844662539885032,3.3282071422524884,3.3724013160766475,3.4165954899008066,3.4607896637249658,3.504983837549125,3.549178011373284,3.593372185197443,3.6375663590216023,3.6817605328457614,3.7259547066699206,3.7701488804940797,3.814343054318239,3.858537228142398,3.902278116406383,3.9460190046703683,3.9897598929343534,4.033500781198339,4.077241669462325,4.12098255772631,4.164723445990296,4.164723445990296,4.208464334254281,4.252205222518266,4.295946110782252,4.339686999046237,4.383427887310222,4.4271687755742075,4.470909663838193],\"xaxis\":\"x\",\"y\":[60.42014301528241,60.42050927819483,60.42068917181317,60.407288940830256,60.361221854409756,60.258725880552554,60.07354123600067,59.778475171905086,59.347833258298984,58.760571557565235,58.0009551425336,57.057370385218896,55.92305632802697,55.55091056755865,55.49989390344281,55.46883181728138,55.458700662154,55.533972085495975,55.715967140028916,55.92279872578931,56.09741178983889,56.22042684725194,56.29544168135038,56.33282814366023,56.34368943341683,56.62210793294622,57.006939075009335,57.36045501552925,57.50617191689317,57.71345942997474,57.87634603754239,58.00606878688833,58.11415752979908,58.21072221503661,58.30241931370213,58.38983993886606,58.46782469964591,58.529533425659636,58.57087990410542,58.59536163420402,58.61762311414871,58.84269175437679,59.16513378088855,59.466141800711505,59.73780451163082,59.97237825497937,60.16297991859013,60.30395469809211,60.3906120938606,60.42014301528241,60.38375449821107,60.279031060108416,60.11653046138331,59.9124407549224,59.685974554807,59.4585553149744,59.24877992529635,59.07101717802618,58.934452726820645,58.841774968655784,58.7898018638817,58.77240120693036,58.77950324397961,58.80249147408213,58.83214513774407,58.86117042360596,58.88519965286726,58.90058281195242,58.90596876400698,58.79215725546473,58.51699146335551,58.21453795596793,57.983667670152386,57.83204475975051,57.697052346950045,57.50607418692259,57.360716881038854,57.00756730621284,56.62283970962566,56.34368943341683,56.67008533762975,57.014306359783525,57.34473757816635,57.68901770043406,58.07682258726983,58.476006231020506,58.786880485592526,58.90596876400698,58.791478025464436,58.51586180148213,58.21342313283838,57.98281395693206,57.831385075690065,57.69669035299189,57.50617191689317,57.50607418692259,57.24578752621001,56.93169444054976,56.572592554703775,56.1911681176354,55.830789302394635,55.56007516936505,55.458700662154],\"yaxis\":\"y\"},{\"mode\":\"lines+markers\",\"showlegend\":false,\"type\":\"scatter\",\"x\":[0.0,0.0,0.0,0.0,0.0,0.0,0.00008333333333333333,0.00016666666666666666,0.00025,0.0007083333333333334,0.00075,0.0015833333333333333,0.001625,0.002625,0.00375,0.005125,0.008625,0.01775,0.020416666666666666,0.021791666666666668,0.029208333333333333,0.0365,0.03866666666666666,0.03220833333333334,0.02741666666666667,0.025291666666666667,0.022708333333333334,0.022875,0.0225,0.004166666666666667,0.001875,0.002625,0.00175,0.00325,0.0019166666666666668,0.004,0.003625,0.005125,0.004,0.006375,0.005916666666666667,0.008875,0.00825,0.0115,0.015791666666666666,0.023375,0.015875,0.011375,0.007916666666666667,0.009625,0.011791666666666666,0.012833333333333334,0.013166666666666667,0.01525,0.015625,0.013166666666666667,0.011875,0.013041666666666667,0.0115,0.009791666666666666,0.043541666666666666,0.10091666666666667,0.11,0.09483333333333333,0.01920833333333333,0.003625,0.0,0.0,0.0,0.0,0.0,0.0,0.0,0.0,0.0],\"xaxis\":\"x2\",\"y\":[-4.5,-3.5,-2.5,-1.5,-0.5,0.5,1.5,2.5,3.5,4.5,5.5,6.5,7.5,8.5,9.5,10.5,11.5,12.5,13.5,14.5,15.5,16.5,17.5,18.5,19.5,20.5,21.5,22.5,23.5,24.5,25.5,26.5,27.5,28.5,29.5,30.5,31.5,32.5,33.5,34.5,35.5,36.5,37.5,38.5,39.5,40.5,41.5,42.5,43.5,44.5,45.5,46.5,47.5,48.5,49.5,50.5,51.5,52.5,53.5,54.5,55.5,56.5,57.5,58.5,59.5,60.5,61.5,62.5,63.5,64.5,65.5,66.5,67.5,68.5,69.5],\"yaxis\":\"y2\"}],                        {\"height\":500,\"shapes\":[{\"line\":{\"color\":\"gray\",\"dash\":\"dash\",\"width\":1},\"type\":\"line\",\"x0\":4.164723445990296,\"x1\":4.164723445990296,\"xref\":\"x\",\"y0\":0,\"y1\":1,\"yref\":\"y domain\"}],\"template\":{\"data\":{\"bar\":[{\"error_x\":{\"color\":\"#2a3f5f\"},\"error_y\":{\"color\":\"#2a3f5f\"},\"marker\":{\"line\":{\"color\":\"#E5ECF6\",\"width\":0.5},\"pattern\":{\"fillmode\":\"overlay\",\"size\":10,\"solidity\":0.2}},\"type\":\"bar\"}],\"barpolar\":[{\"marker\":{\"line\":{\"color\":\"#E5ECF6\",\"width\":0.5},\"pattern\":{\"fillmode\":\"overlay\",\"size\":10,\"solidity\":0.2}},\"type\":\"barpolar\"}],\"carpet\":[{\"aaxis\":{\"endlinecolor\":\"#2a3f5f\",\"gridcolor\":\"white\",\"linecolor\":\"white\",\"minorgridcolor\":\"white\",\"startlinecolor\":\"#2a3f5f\"},\"baxis\":{\"endlinecolor\":\"#2a3f5f\",\"gridcolor\":\"white\",\"linecolor\":\"white\",\"minorgridcolor\":\"white\",\"startlinecolor\":\"#2a3f5f\"},\"type\":\"carpet\"}],\"choropleth\":[{\"colorbar\":{\"outlinewidth\":0,\"ticks\":\"\"},\"type\":\"choropleth\"}],\"contour\":[{\"colorbar\":{\"outlinewidth\":0,\"ticks\":\"\"},\"colorscale\":[[0.0,\"#0d0887\"],[0.1111111111111111,\"#46039f\"],[0.2222222222222222,\"#7201a8\"],[0.3333333333333333,\"#9c179e\"],[0.4444444444444444,\"#bd3786\"],[0.5555555555555556,\"#d8576b\"],[0.6666666666666666,\"#ed7953\"],[0.7777777777777778,\"#fb9f3a\"],[0.8888888888888888,\"#fdca26\"],[1.0,\"#f0f921\"]],\"type\":\"contour\"}],\"contourcarpet\":[{\"colorbar\":{\"outlinewidth\":0,\"ticks\":\"\"},\"type\":\"contourcarpet\"}],\"heatmap\":[{\"colorbar\":{\"outlinewidth\":0,\"ticks\":\"\"},\"colorscale\":[[0.0,\"#0d0887\"],[0.1111111111111111,\"#46039f\"],[0.2222222222222222,\"#7201a8\"],[0.3333333333333333,\"#9c179e\"],[0.4444444444444444,\"#bd3786\"],[0.5555555555555556,\"#d8576b\"],[0.6666666666666666,\"#ed7953\"],[0.7777777777777778,\"#fb9f3a\"],[0.8888888888888888,\"#fdca26\"],[1.0,\"#f0f921\"]],\"type\":\"heatmap\"}],\"heatmapgl\":[{\"colorbar\":{\"outlinewidth\":0,\"ticks\":\"\"},\"colorscale\":[[0.0,\"#0d0887\"],[0.1111111111111111,\"#46039f\"],[0.2222222222222222,\"#7201a8\"],[0.3333333333333333,\"#9c179e\"],[0.4444444444444444,\"#bd3786\"],[0.5555555555555556,\"#d8576b\"],[0.6666666666666666,\"#ed7953\"],[0.7777777777777778,\"#fb9f3a\"],[0.8888888888888888,\"#fdca26\"],[1.0,\"#f0f921\"]],\"type\":\"heatmapgl\"}],\"histogram\":[{\"marker\":{\"pattern\":{\"fillmode\":\"overlay\",\"size\":10,\"solidity\":0.2}},\"type\":\"histogram\"}],\"histogram2d\":[{\"colorbar\":{\"outlinewidth\":0,\"ticks\":\"\"},\"colorscale\":[[0.0,\"#0d0887\"],[0.1111111111111111,\"#46039f\"],[0.2222222222222222,\"#7201a8\"],[0.3333333333333333,\"#9c179e\"],[0.4444444444444444,\"#bd3786\"],[0.5555555555555556,\"#d8576b\"],[0.6666666666666666,\"#ed7953\"],[0.7777777777777778,\"#fb9f3a\"],[0.8888888888888888,\"#fdca26\"],[1.0,\"#f0f921\"]],\"type\":\"histogram2d\"}],\"histogram2dcontour\":[{\"colorbar\":{\"outlinewidth\":0,\"ticks\":\"\"},\"colorscale\":[[0.0,\"#0d0887\"],[0.1111111111111111,\"#46039f\"],[0.2222222222222222,\"#7201a8\"],[0.3333333333333333,\"#9c179e\"],[0.4444444444444444,\"#bd3786\"],[0.5555555555555556,\"#d8576b\"],[0.6666666666666666,\"#ed7953\"],[0.7777777777777778,\"#fb9f3a\"],[0.8888888888888888,\"#fdca26\"],[1.0,\"#f0f921\"]],\"type\":\"histogram2dcontour\"}],\"mesh3d\":[{\"colorbar\":{\"outlinewidth\":0,\"ticks\":\"\"},\"type\":\"mesh3d\"}],\"parcoords\":[{\"line\":{\"colorbar\":{\"outlinewidth\":0,\"ticks\":\"\"}},\"type\":\"parcoords\"}],\"pie\":[{\"automargin\":true,\"type\":\"pie\"}],\"scatter\":[{\"marker\":{\"colorbar\":{\"outlinewidth\":0,\"ticks\":\"\"}},\"type\":\"scatter\"}],\"scatter3d\":[{\"line\":{\"colorbar\":{\"outlinewidth\":0,\"ticks\":\"\"}},\"marker\":{\"colorbar\":{\"outlinewidth\":0,\"ticks\":\"\"}},\"type\":\"scatter3d\"}],\"scattercarpet\":[{\"marker\":{\"colorbar\":{\"outlinewidth\":0,\"ticks\":\"\"}},\"type\":\"scattercarpet\"}],\"scattergeo\":[{\"marker\":{\"colorbar\":{\"outlinewidth\":0,\"ticks\":\"\"}},\"type\":\"scattergeo\"}],\"scattergl\":[{\"marker\":{\"colorbar\":{\"outlinewidth\":0,\"ticks\":\"\"}},\"type\":\"scattergl\"}],\"scattermapbox\":[{\"marker\":{\"colorbar\":{\"outlinewidth\":0,\"ticks\":\"\"}},\"type\":\"scattermapbox\"}],\"scatterpolar\":[{\"marker\":{\"colorbar\":{\"outlinewidth\":0,\"ticks\":\"\"}},\"type\":\"scatterpolar\"}],\"scatterpolargl\":[{\"marker\":{\"colorbar\":{\"outlinewidth\":0,\"ticks\":\"\"}},\"type\":\"scatterpolargl\"}],\"scatterternary\":[{\"marker\":{\"colorbar\":{\"outlinewidth\":0,\"ticks\":\"\"}},\"type\":\"scatterternary\"}],\"surface\":[{\"colorbar\":{\"outlinewidth\":0,\"ticks\":\"\"},\"colorscale\":[[0.0,\"#0d0887\"],[0.1111111111111111,\"#46039f\"],[0.2222222222222222,\"#7201a8\"],[0.3333333333333333,\"#9c179e\"],[0.4444444444444444,\"#bd3786\"],[0.5555555555555556,\"#d8576b\"],[0.6666666666666666,\"#ed7953\"],[0.7777777777777778,\"#fb9f3a\"],[0.8888888888888888,\"#fdca26\"],[1.0,\"#f0f921\"]],\"type\":\"surface\"}],\"table\":[{\"cells\":{\"fill\":{\"color\":\"#EBF0F8\"},\"line\":{\"color\":\"white\"}},\"header\":{\"fill\":{\"color\":\"#C8D4E3\"},\"line\":{\"color\":\"white\"}},\"type\":\"table\"}]},\"layout\":{\"annotationdefaults\":{\"arrowcolor\":\"#2a3f5f\",\"arrowhead\":0,\"arrowwidth\":1},\"autotypenumbers\":\"strict\",\"coloraxis\":{\"colorbar\":{\"outlinewidth\":0,\"ticks\":\"\"}},\"colorscale\":{\"diverging\":[[0,\"#8e0152\"],[0.1,\"#c51b7d\"],[0.2,\"#de77ae\"],[0.3,\"#f1b6da\"],[0.4,\"#fde0ef\"],[0.5,\"#f7f7f7\"],[0.6,\"#e6f5d0\"],[0.7,\"#b8e186\"],[0.8,\"#7fbc41\"],[0.9,\"#4d9221\"],[1,\"#276419\"]],\"sequential\":[[0.0,\"#0d0887\"],[0.1111111111111111,\"#46039f\"],[0.2222222222222222,\"#7201a8\"],[0.3333333333333333,\"#9c179e\"],[0.4444444444444444,\"#bd3786\"],[0.5555555555555556,\"#d8576b\"],[0.6666666666666666,\"#ed7953\"],[0.7777777777777778,\"#fb9f3a\"],[0.8888888888888888,\"#fdca26\"],[1.0,\"#f0f921\"]],\"sequentialminus\":[[0.0,\"#0d0887\"],[0.1111111111111111,\"#46039f\"],[0.2222222222222222,\"#7201a8\"],[0.3333333333333333,\"#9c179e\"],[0.4444444444444444,\"#bd3786\"],[0.5555555555555556,\"#d8576b\"],[0.6666666666666666,\"#ed7953\"],[0.7777777777777778,\"#fb9f3a\"],[0.8888888888888888,\"#fdca26\"],[1.0,\"#f0f921\"]]},\"colorway\":[\"#636efa\",\"#EF553B\",\"#00cc96\",\"#ab63fa\",\"#FFA15A\",\"#19d3f3\",\"#FF6692\",\"#B6E880\",\"#FF97FF\",\"#FECB52\"],\"font\":{\"color\":\"#2a3f5f\"},\"geo\":{\"bgcolor\":\"white\",\"lakecolor\":\"white\",\"landcolor\":\"#E5ECF6\",\"showlakes\":true,\"showland\":true,\"subunitcolor\":\"white\"},\"hoverlabel\":{\"align\":\"left\"},\"hovermode\":\"closest\",\"mapbox\":{\"style\":\"light\"},\"paper_bgcolor\":\"white\",\"plot_bgcolor\":\"#E5ECF6\",\"polar\":{\"angularaxis\":{\"gridcolor\":\"white\",\"linecolor\":\"white\",\"ticks\":\"\"},\"bgcolor\":\"#E5ECF6\",\"radialaxis\":{\"gridcolor\":\"white\",\"linecolor\":\"white\",\"ticks\":\"\"}},\"scene\":{\"xaxis\":{\"backgroundcolor\":\"#E5ECF6\",\"gridcolor\":\"white\",\"gridwidth\":2,\"linecolor\":\"white\",\"showbackground\":true,\"ticks\":\"\",\"zerolinecolor\":\"white\"},\"yaxis\":{\"backgroundcolor\":\"#E5ECF6\",\"gridcolor\":\"white\",\"gridwidth\":2,\"linecolor\":\"white\",\"showbackground\":true,\"ticks\":\"\",\"zerolinecolor\":\"white\"},\"zaxis\":{\"backgroundcolor\":\"#E5ECF6\",\"gridcolor\":\"white\",\"gridwidth\":2,\"linecolor\":\"white\",\"showbackground\":true,\"ticks\":\"\",\"zerolinecolor\":\"white\"}},\"shapedefaults\":{\"line\":{\"color\":\"#2a3f5f\"}},\"ternary\":{\"aaxis\":{\"gridcolor\":\"white\",\"linecolor\":\"white\",\"ticks\":\"\"},\"baxis\":{\"gridcolor\":\"white\",\"linecolor\":\"white\",\"ticks\":\"\"},\"bgcolor\":\"#E5ECF6\",\"caxis\":{\"gridcolor\":\"white\",\"linecolor\":\"white\",\"ticks\":\"\"}},\"title\":{\"x\":0.05},\"xaxis\":{\"automargin\":true,\"gridcolor\":\"white\",\"linecolor\":\"white\",\"ticks\":\"\",\"title\":{\"standoff\":15},\"zerolinecolor\":\"white\",\"zerolinewidth\":2},\"yaxis\":{\"automargin\":true,\"gridcolor\":\"white\",\"linecolor\":\"white\",\"ticks\":\"\",\"title\":{\"standoff\":15},\"zerolinecolor\":\"white\",\"zerolinewidth\":2}}},\"width\":1000,\"xaxis\":{\"anchor\":\"y\",\"domain\":[0.0,0.63],\"ticktext\":[\"G\",\"X\",\"W\",\"K\",\"G\",\"L\",\"U\",\"W\",\"L\",\"K|U\",\"X\"],\"tickvals\":[0.0,0.7071067811865478,1.0606601717798216,1.2374368670764582,2.1559955206201504,3.0220209244045915,3.3282071422524884,3.504983837549125,3.858537228142398,4.164723445990296,4.470909663838193]},\"xaxis2\":{\"anchor\":\"y2\",\"domain\":[0.73,1.0],\"showticklabels\":false,\"title\":{\"text\":\"DOS\"}},\"yaxis\":{\"anchor\":\"x\",\"domain\":[0.0,1.0],\"range\":[-4.5,69.5],\"title\":{\"text\":\"Frequency (meV)\"}},\"yaxis2\":{\"anchor\":\"x2\",\"domain\":[0.0,1.0],\"range\":[-4.5,69.5],\"showticklabels\":false,\"title\":{\"text\":\"\"}}},                        {\"responsive\": true}                    ).then(function(){\n",
       "                            \n",
       "var gd = document.getElementById('f1e0fc3d-b25e-4052-bae5-45cd698ea2d3');\n",
       "var x = new MutationObserver(function (mutations, observer) {{\n",
       "        var display = window.getComputedStyle(gd).display;\n",
       "        if (!display || display === 'none') {{\n",
       "            console.log([gd, 'removed!']);\n",
       "            Plotly.purge(gd);\n",
       "            observer.disconnect();\n",
       "        }}\n",
       "}});\n",
       "\n",
       "// Listen for the removal of the full notebook cells\n",
       "var notebookContainer = gd.closest('#notebook-container');\n",
       "if (notebookContainer) {{\n",
       "    x.observe(notebookContainer, {childList: true});\n",
       "}}\n",
       "\n",
       "// Listen for the clearing of the current output cell\n",
       "var outputEl = gd.closest('.output');\n",
       "if (outputEl) {{\n",
       "    x.observe(outputEl, {childList: true});\n",
       "}}\n",
       "\n",
       "                        })                };                });            </script>        </div>"
      ]
     },
     "metadata": {},
     "output_type": "display_data"
    }
   ],
   "source": [
    "from plotly.offline import iplot\n",
    "\n",
    "fig = plot_band_dos(band_results, dos_results)\n",
    "fig.update_layout(width=1000, height=500)\n",
    "iplot(fig)"
   ]
  },
  {
   "cell_type": "markdown",
   "id": "384060f4-82a8-45ec-b794-022bab3b3dcb",
   "metadata": {},
   "source": [
    "上図では、フォノン分散とフォノンの状態密度の図が同時に表示されています。\n",
    "\n",
    "\n",
    "`PostPhononDOSFeature`では、フォノンの振動数を第一ブリルアンゾーン内の等間隔メッシュ $\\vec q$ 上で計算しています。\n",
    "メッシュのとり方は、Monkhorst-Pack法とGamma-centered法がよく使われます。\n",
    "上図では、$20 \\times 20 \\times 20$ Monkhorst-Pack style gridが使用されています。\n",
    "フォノンの状態密度に関する詳細はappendixをご参照ください。"
   ]
  },
  {
   "cell_type": "markdown",
   "id": "65eceaaf-7b65-409c-9b07-617b11ef6445",
   "metadata": {},
   "source": [
    "### 2.7 熱物性値\n",
    "\n",
    "固体の熱物性値はフォノン分散と密接な関係にあります。\n",
    "フォノンの状態密度がわかれば、以下の式により、比熱 $C_V$・エントロピー $S$・内部エネルギー $U$・ヘルムホルツ自由エネルギー $A$は計算が可能です。"
   ]
  },
  {
   "cell_type": "markdown",
   "id": "ec2fbdc0-dba1-4155-8cd6-b59cf37019ee",
   "metadata": {},
   "source": [
    "$$C_V = \\int_{0}^{\\infty} d {\\omega} D(\\omega) \\; k_B\\left( \\frac{\\hbar \\omega}{k_B T} \\right)^2 \\frac{e^{\\frac{\\hbar \\omega}{k_B T}}}{\\left( e^{\\frac{\\hbar \\omega}{k_B T}} - 1 \\right)^2}$$"
   ]
  },
  {
   "cell_type": "markdown",
   "id": "09f38012-4b34-455c-ab4e-b5a3994bb80e",
   "metadata": {},
   "source": [
    "$$\n",
    "S = \\int_{0}^{\\infty} d {\\omega} D(\\omega) \\; \\left[ ln \\left( \\frac {1}{e^{\\frac{\\hbar \\omega}{k_B T}}-1} + 1  \\right ) \\left( \\frac {1}{e^{\\frac{\\hbar \\omega}{k_B T}}-1} + 1  \\right ) - ln \\left( \\frac {1}{e^{\\frac{\\hbar \\omega}{k_B T}}-1}  \\right ) \\left( \\frac {1}{e^{\\frac{\\hbar \\omega}{k_B T}}-1} \\right ) \\right]\n",
    "$$"
   ]
  },
  {
   "cell_type": "markdown",
   "id": "cc37ed27-4e24-4f67-9269-b76c6ecc639f",
   "metadata": {},
   "source": [
    "$$ U = \\int_{0}^{\\infty} d {\\omega} D(\\omega) \\; \\left[ \\frac{\\hbar \\omega}{2} + \\frac {\\hbar \\omega}{e^{\\frac{\\hbar \\omega}{k_B T}} -1} \\right] $$"
   ]
  },
  {
   "cell_type": "markdown",
   "id": "fd6a2e33-840b-4d97-836c-8687d687091e",
   "metadata": {},
   "source": [
    "$$A = \\int_{0}^{\\infty} d {\\omega} D(\\omega) \\; \\left[ \\frac{\\hbar \\omega}{2} + k_BT ln \\left( 1-e^{-\\frac{\\hbar \\omega}{k_BT}} \\right) \\right]$$"
   ]
  },
  {
   "cell_type": "markdown",
   "id": "7445f3c5-9099-461d-a766-9dc644ba11d7",
   "metadata": {},
   "source": [
    "[Note]\n",
    "\n",
    "量子効果を含めたフォノンは離散的なエネルギーしかとらないため、温度の依存性が古典的な格子振動と変わることが知られています。そのため上記の式に量子効果と関わる物理定数である[ディラック定数](https://ja.wikipedia.org/wiki/%E3%83%87%E3%82%A3%E3%83%A9%E3%83%83%E3%82%AF%E5%AE%9A%E6%95%B0)$\\hbar$が登場しています。"
   ]
  },
  {
   "cell_type": "markdown",
   "id": "85b066a2-7684-44d7-b669-7e514691e8f6",
   "metadata": {},
   "source": [
    "Matlantis上では `PostPhononThermochemistryFeature` を用いることで上記の計算が可能です。\n",
    "`PostPhononDOSFeature`同様、波数ベクトル$\\vec q$のメッシュの切り方を定義する必要があります。\n",
    "\n",
    "`PostPhononThermochemistryFeature`は力定数マトリクスからフォノンの状態密度を計算し、上記式を用いて熱物性値を計算します。"
   ]
  },
  {
   "cell_type": "code",
   "execution_count": 13,
   "id": "7de76799-9bef-41e7-8ae0-3458f3045d76",
   "metadata": {},
   "outputs": [],
   "source": [
    "from matlantis_features.features.phonon import PostPhononThermochemistryFeature\n",
    "\n",
    "thermo = PostPhononThermochemistryFeature()\n",
    "thermo_results = thermo(\n",
    "    force_constant,\n",
    "    kpts = [20, 20, 20],\n",
    "    tmin = 0.0,\n",
    "    tmax = 1000.0,\n",
    "    tstep = 10.0,\n",
    "    scheme = \"mp\",\n",
    ")"
   ]
  },
  {
   "cell_type": "code",
   "execution_count": 14,
   "id": "4934290a-6895-4999-ad35-b073f0700b77",
   "metadata": {},
   "outputs": [
    {
     "data": {
      "application/vnd.plotly.v1+json": {
       "config": {
        "plotlyServerURL": "https://plot.ly"
       },
       "data": [
        {
         "name": "S (J/K/g)",
         "type": "scatter",
         "x": [
          0,
          10,
          20,
          30,
          40,
          50,
          60,
          70,
          80,
          90,
          100,
          110,
          120,
          130,
          140,
          150,
          160,
          170,
          180,
          190,
          200,
          210,
          220,
          230,
          240,
          250,
          260,
          270,
          280,
          290,
          300,
          310,
          320,
          330,
          340,
          350,
          360,
          370,
          380,
          390,
          400,
          410,
          420,
          430,
          440,
          450,
          460,
          470,
          480,
          490,
          500,
          510,
          520,
          530,
          540,
          550,
          560,
          570,
          580,
          590,
          600,
          610,
          620,
          630,
          640,
          650,
          660,
          670,
          680,
          690,
          700,
          710,
          720,
          730,
          740,
          750,
          760,
          770,
          780,
          790,
          800,
          810,
          820,
          830,
          840,
          850,
          860,
          870,
          880,
          890,
          900,
          910,
          920,
          930,
          940,
          950,
          960,
          970,
          980,
          990,
          1000
         ],
         "y": [
          1.3709826992306614e-05,
          0.0001303460709366076,
          0.0014437400591715752,
          0.0069392893512086155,
          0.018859730763673144,
          0.03652186137689179,
          0.05819937458358292,
          0.08247056895904113,
          0.10844811811831889,
          0.1356250639138519,
          0.16369910629458767,
          0.19246073510301165,
          0.22173816057796686,
          0.2513760168383527,
          0.28123013566920724,
          0.31116829685387165,
          0.34107218707884657,
          0.37083875293840557,
          0.40038053191206624,
          0.42962509814940397,
          0.4585139106809273,
          0.48700083753998047,
          0.5150505636435143,
          0.5426370210712098,
          0.5697419241058588,
          0.5963534509488675,
          0.6224650872728857,
          0.6480746303495566,
          0.6731833432589804,
          0.6977952441836583,
          0.721916514235308,
          0.7455550074443923,
          0.7687198476653857,
          0.7914210987156775,
          0.8136694957705818,
          0.8354762277082116,
          0.8568527616449017,
          0.877810702283484,
          0.8983616799018419,
          0.9185172618431942,
          0.9382888832464764,
          0.9576877934924994,
          0.9767250154576979,
          0.9954113151797376,
          1.0137571799640401,
          1.0317728033115479,
          1.0494680753379748,
          1.0668525775937825,
          1.0839355813909675,
          1.100726048904756,
          1.1172326364516345,
          1.1334636994547795,
          1.1494272986981677,
          1.1651312075448075,
          1.1805829198555273,
          1.195789658394898,
          1.2107583835520894,
          1.2254958022383209,
          1.240008376850391,
          1.2543023342125896,
          1.268383674428027,
          1.2822581795857475,
          1.2959314222825284,
          1.3094087739285116,
          1.3226954128141548,
          1.3357963319227486,
          1.3487163464782408,
          1.3614601012225125,
          1.3740320774197856,
          1.3864365995886596,
          1.3986778419644956,
          1.4107598346965733,
          1.4226864697858135,
          1.434461506769812,
          1.4460885781627018,
          1.4575711946578462,
          1.4689127501017183,
          1.4801165262475018,
          1.4911856972970379,
          1.5021233342397184,
          1.5129324089968486,
          1.5236157983798484,
          1.534176287870491,
          1.5446165752311403,
          1.5549392739527241,
          1.5651469165478997,
          1.5752419576966243,
          1.5852267772510296,
          1.5951036831062597,
          1.6048749139436198,
          1.6145426418521274,
          1.624108974834271,
          1.6335759592015298,
          1.6429455818649386,
          1.6522197725257377,
          1.6614004057709013,
          1.6704893030781172,
          1.67948823473454,
          1.6883989216734674,
          1.6972230372328443,
          1.7059622088393227
         ]
        },
        {
         "name": "Cv (J/K/g)",
         "type": "scatter",
         "x": [
          0,
          10,
          20,
          30,
          40,
          50,
          60,
          70,
          80,
          90,
          100,
          110,
          120,
          130,
          140,
          150,
          160,
          170,
          180,
          190,
          200,
          210,
          220,
          230,
          240,
          250,
          260,
          270,
          280,
          290,
          300,
          310,
          320,
          330,
          340,
          350,
          360,
          370,
          380,
          390,
          400,
          410,
          420,
          430,
          440,
          450,
          460,
          470,
          480,
          490,
          500,
          510,
          520,
          530,
          540,
          550,
          560,
          570,
          580,
          590,
          600,
          610,
          620,
          630,
          640,
          650,
          660,
          670,
          680,
          690,
          700,
          710,
          720,
          730,
          740,
          750,
          760,
          770,
          780,
          790,
          800,
          810,
          820,
          830,
          840,
          850,
          860,
          870,
          880,
          890,
          900,
          910,
          920,
          930,
          940,
          950,
          960,
          970,
          980,
          990,
          1000
         ],
         "y": [
          4.778401312319194e-05,
          0.0004157581600540624,
          0.005570719838338535,
          0.025850989805774795,
          0.060252200507425545,
          0.09976176763798404,
          0.13898367260261776,
          0.17663704755422344,
          0.21311841026541106,
          0.24898976363573322,
          0.28448494060694696,
          0.31951089150197715,
          0.35379091409971325,
          0.3869981105799335,
          0.41883910825801735,
          0.4490925164370999,
          0.4776175798527995,
          0.5043469197938079,
          0.5292727373831291,
          0.5524318356852859,
          0.5738920697689831,
          0.5937412054143523,
          0.6120783092590576,
          0.6290074019147894,
          0.6446329710842585,
          0.6590569351835769,
          0.6723766966532814,
          0.6846839899043307,
          0.6960642934952467,
          0.7065966322369144,
          0.7163536404714395,
          0.7254017932689656,
          0.7338017391924145,
          0.7416086882656252,
          0.7488728233921085,
          0.7556397140125463,
          0.761950718300158,
          0.7678433654789399,
          0.7733517135190262,
          0.77850667996901,
          0.7833363453602395,
          0.7878662297058888,
          0.7921195432939048,
          0.7961174133641559,
          0.7998790884567325,
          0.8034221222844807,
          0.8067625389638274,
          0.8099149813654329,
          0.8128928442421064,
          0.8157083936708106,
          0.8183728742184783,
          0.820896605114453,
          0.823289066589798,
          0.82555897742806,
          0.8277143646646127,
          0.82976262627311,
          0.8317105875878419,
          0.8335645521297023,
          0.835330347430565,
          0.8370133663855487,
          0.8386186046043389,
          0.8401506941807746,
          0.841613934253691,
          0.8430123186909544,
          0.844349561192194,
          0.8456291180734021,
          0.8468542089679322,
          0.8480278356529891,
          0.849152799188192,
          0.8502317155327924,
          0.8512670297904112,
          0.8522610292144139,
          0.8532158550930713,
          0.8541335136212465,
          0.8550158858542978,
          0.8558647368300754,
          0.8566817239361416,
          0.8574684045915586,
          0.8582262433056329,
          0.8589566181698162,
          0.859660826833409,
          0.860340092008785,
          0.8609955665474035,
          0.8616283381239185,
          0.8622394335621495,
          0.8628298228334701,
          0.8634004227553235,
          0.8639521004149894,
          0.8644856763414246,
          0.8650019274459082,
          0.8655015897503415,
          0.8659853609203747,
          0.866453902618993,
          0.8669078426948119,
          0.8673477772181024,
          0.8677742723764142,
          0.8681878662406615,
          0.868589070411597,
          0.8689783715557732,
          0.8693562328393072,
          0.8697230952670931
         ]
        },
        {
         "name": "U (kJ/g)",
         "type": "scatter",
         "x": [
          0,
          10,
          20,
          30,
          40,
          50,
          60,
          70,
          80,
          90,
          100,
          110,
          120,
          130,
          140,
          150,
          160,
          170,
          180,
          190,
          200,
          210,
          220,
          230,
          240,
          250,
          260,
          270,
          280,
          290,
          300,
          310,
          320,
          330,
          340,
          350,
          360,
          370,
          380,
          390,
          400,
          410,
          420,
          430,
          440,
          450,
          460,
          470,
          480,
          490,
          500,
          510,
          520,
          530,
          540,
          550,
          560,
          570,
          580,
          590,
          600,
          610,
          620,
          630,
          640,
          650,
          660,
          670,
          680,
          690,
          700,
          710,
          720,
          730,
          740,
          750,
          760,
          770,
          780,
          790,
          800,
          810,
          820,
          830,
          840,
          850,
          860,
          870,
          880,
          890,
          900,
          910,
          920,
          930,
          940,
          950,
          960,
          970,
          980,
          990,
          1000
         ],
         "y": [
          0.20430628845293902,
          0.20430722932102333,
          0.2043288617012131,
          0.20447116598713544,
          0.20489378293985588,
          0.2056926523427199,
          0.20688758351601433,
          0.2084669293342595,
          0.21041641329510677,
          0.21272730665723183,
          0.2153949924181847,
          0.21841546144617496,
          0.2217827286625793,
          0.22548769930209414,
          0.22951812849213496,
          0.23385918034243447,
          0.23849420944055216,
          0.24340553956444813,
          0.24857513116154098,
          0.2539851018310892,
          0.25961810281642306,
          0.2654575716728531,
          0.2714878862928586,
          0.27769444445458075,
          0.2840636895526178,
          0.29058309903818486,
          0.2972411482179874,
          0.30402725877734854,
          0.31093173877100655,
          0.31794571880997524,
          0.325061087666388,
          0.3322704294160381,
          0.33956696344675835,
          0.3469444881023025,
          0.3543973283446934,
          0.3619202875561062,
          0.36950860342894304,
          0.37715790778374964,
          0.38486419008996364,
          0.3926237644303634,
          0.4004332396366425,
          0.40828949232373296,
          0.41618964255938923,
          0.4241310319196922,
          0.43211120369814776,
          0.44012788505434275,
          0.44817897090661335,
          0.45626250939119256,
          0.46437668872741855,
          0.4725198253445641,
          0.4806903531405834,
          0.488886813756534,
          0.4971078477626387,
          0.5053521866629745,
          0.5136186456356738,
          0.5219061169343928,
          0.5302135638847368,
          0.5385400154164021,
          0.5468845610781009,
          0.5552463464879558,
          0.5636245691770397,
          0.5720184747881919,
          0.580427353596195,
          0.5888505373189128,
          0.5972873961921313,
          0.6057373362836297,
          0.6141997970244945,
          0.6226742489379056,
          0.6311601915476033,
          0.6396571514500016,
          0.6481646805354931,
          0.6566823543459027,
          0.6652097705562952,
          0.6737465475704892,
          0.6822923232206173,
          0.6908467535620033,
          0.6994095117554193,
          0.7079802870295393,
          0.7165587837170412,
          0.7251447203584177,
          0.7337378288680894,
          0.7423378537578822,
          0.7509445514133796,
          0.7595576894190469,
          0.7681770459283769,
          0.7768024090756358,
          0.7854335764260701,
          0.7940703544617049,
          0.8027125581001029,
          0.8113600102436678,
          0.8200125413572801,
          0.8286699890722246,
          0.8373321978145383,
          0.8459990184560576,
          0.854670307986578,
          0.8633459292056589,
          0.8720257504327324,
          0.8807096452342634,
          0.8893974921668182,
          0.8980891745349713,
          0.9067845801630743
         ]
        },
        {
         "name": "F (kJ/g)",
         "type": "scatter",
         "x": [
          0,
          10,
          20,
          30,
          40,
          50,
          60,
          70,
          80,
          90,
          100,
          110,
          120,
          130,
          140,
          150,
          160,
          170,
          180,
          190,
          200,
          210,
          220,
          230,
          240,
          250,
          260,
          270,
          280,
          290,
          300,
          310,
          320,
          330,
          340,
          350,
          360,
          370,
          380,
          390,
          400,
          410,
          420,
          430,
          440,
          450,
          460,
          470,
          480,
          490,
          500,
          510,
          520,
          530,
          540,
          550,
          560,
          570,
          580,
          590,
          600,
          610,
          620,
          630,
          640,
          650,
          660,
          670,
          680,
          690,
          700,
          710,
          720,
          730,
          740,
          750,
          760,
          770,
          780,
          790,
          800,
          810,
          820,
          830,
          840,
          850,
          860,
          870,
          880,
          890,
          900,
          910,
          920,
          930,
          940,
          950,
          960,
          970,
          980,
          990,
          1000
         ],
         "y": [
          0.2043062199038041,
          0.20430592586031396,
          0.20429998690002968,
          0.20426298730659923,
          0.20413939370930895,
          0.2038665592738753,
          0.20339562104099937,
          0.20269398950712664,
          0.2017405638456413,
          0.2005210509049852,
          0.19902508178872588,
          0.1972447805848436,
          0.19517414939322336,
          0.19280881711310824,
          0.19014590949844598,
          0.1871839358143537,
          0.1839226595079367,
          0.1803629515649191,
          0.17650663541736902,
          0.17235633318270246,
          0.16791532068023757,
          0.1631873957894572,
          0.1581767622912854,
          0.1528879296082025,
          0.14732562776721161,
          0.1414947363009679,
          0.13540022552703712,
          0.12904710858296828,
          0.122440402658492,
          0.11558509799671438,
          0.10848613339579576,
          0.10114837710827648,
          0.09357661219383502,
          0.08577552552612898,
          0.07774969978269557,
          0.0695036078582322,
          0.06104160923677844,
          0.05236794793886044,
          0.04348675172726375,
          0.03440203231151765,
          0.025117686338051948,
          0.015637496991808286,
          0.005965136067156125,
          -0.0038958336075950333,
          -0.013941955486029934,
          -0.02416987643585381,
          -0.03457634374885506,
          -0.04515820207788528,
          -0.05591239034024573,
          -0.06683593861876641,
          -0.07792596508523397,
          -0.08917967296540363,
          -0.10059434756040854,
          -0.11216735333577334,
          -0.12389613108631081,
          -0.13577819518280113,
          -0.1478111309044333,
          -0.15999259185944104,
          -0.17232029749512595,
          -0.18479203069747197,
          -0.19740563547977655,
          -0.2101590147591141,
          -0.22305012821897263,
          -0.23607699025604967,
          -0.2492376680089279,
          -0.2625302794661568,
          -0.2759529916511447,
          -0.28950401888117805,
          -0.3031816210978509,
          -0.3169841022661738,
          -0.3309098088396534,
          -0.3449571282886642,
          -0.35912448768949023,
          -0.3734103523714736,
          -0.38781322461978207,
          -0.4023316424313819,
          -0.41696417832188687,
          -0.43170943818103674,
          -0.4465660601746482,
          -0.46153271369095994,
          -0.47660809832938955,
          -0.4917909429297951,
          -0.5070800046404231,
          -0.5224740680227997,
          -0.5379719441919112,
          -0.5535724699900791,
          -0.5692745071930271,
          -0.5850769417466907,
          -0.6009786830334057,
          -0.6169786631661539,
          -0.6330758363096344,
          -0.6492691780269618,
          -0.665557684650869,
          -0.681940372678335,
          -0.6984162781876149,
          -0.7149844562766975,
          -0.7316439805222599,
          -0.74839394245824,
          -0.7652334510731799,
          -0.7821616323255446,
          -0.7991776286762481
         ]
        },
        {
         "name": "S DFT(J/K/g)",
         "type": "scatter",
         "x": [
          0,
          10,
          20,
          30,
          40,
          50,
          60,
          70,
          80,
          90,
          100,
          110,
          120,
          130,
          140,
          150,
          160,
          170,
          180,
          190,
          200,
          210,
          220,
          230,
          240,
          250,
          260,
          270,
          280,
          290,
          300,
          310,
          320,
          330,
          340,
          350,
          360,
          370,
          380,
          390,
          400,
          410,
          420,
          430,
          440,
          450,
          460,
          470,
          480,
          490,
          500,
          510,
          520,
          530,
          540,
          550,
          560,
          570,
          580,
          590,
          600,
          610,
          620,
          630,
          640,
          650,
          660,
          670,
          680,
          690,
          700,
          710,
          720,
          730,
          740,
          750,
          760,
          770,
          780,
          790,
          800,
          810,
          820,
          830,
          840,
          850,
          860,
          870,
          880,
          890,
          900,
          910,
          920,
          930,
          940,
          950,
          960,
          970,
          980,
          990,
          1000
         ],
         "y": [
          0,
          0.00010591886078712176,
          0.0011437966748325046,
          0.005723024757453726,
          0.0161587215103639,
          0.03216031302903681,
          0.0522775379026563,
          0.07518375168012033,
          0.09998438648585418,
          0.12613201247071612,
          0.15328449470154953,
          0.18120355709884303,
          0.20969967128215325,
          0.23860761152410004,
          0.26777806098200063,
          0.29707606778287093,
          0.3263815971608748,
          0.355590130235443,
          0.38461265209531487,
          0.4133749864963869,
          0.4418166492192826,
          0.4698894260426864,
          0.4975558470504172,
          0.5247876785891614,
          0.5515645084062302,
          0.5778724644679911,
          0.6037030837228069,
          0.629052331592305,
          0.653919763895508,
          0.6783078182006504,
          0.7022212197108676,
          0.7256664866222331,
          0.7486515207020042,
          0.7711852701385256,
          0.793277453211209,
          0.8149383328406058,
          0.8361785335055862,
          0.8570088933080792,
          0.8774403451072498,
          0.8974838216339383,
          0.9171501803418297,
          0.9364501444680502,
          0.9553942573783012,
          0.9739928477756237,
          0.9922560037719618,
          1.0101935541707752,
          1.0278150555984522,
          1.0451297843620149,
          1.0621467321088767,
          1.0788746045283253,
          1.095321822469801,
          1.111496524964857,
          1.1274065737320367,
          1.143059558820128,
          1.1584628051081944,
          1.1736233794327333,
          1.1885480981551935,
          1.2032435350184718,
          1.217716029170184,
          1.2319716932545997,
          1.2460164214949465,
          1.2598558977041319,
          1.2734956031753653,
          1.2869408244151948,
          1.3001966606905304,
          1.313268031368616,
          1.3261596830349753,
          1.3388761963792468,
          1.351421992842836,
          1.3638013410254874,
          1.3760183628504778,
          1.3880770394901654,
          1.3999812170552295,
          1.4117346120521976,
          1.4233408166148018,
          1.4348033035154182,
          1.4461254309633573,
          1.4573104471971219,
          1.4683614948779675,
          1.4792816152922197,
          1.4900737523698098,
          1.5007407565264745,
          1.5112853883369533,
          1.5217103220463692,
          1.532018148926846,
          1.5422113804861737,
          1.5522924515351562,
          1.5622637231200318,
          1.5721274853261418,
          1.581885959958764,
          1.5915413031068095,
          1.6010956075948395,
          1.6105509053286124,
          1.619909169539163,
          1.6291723169301728,
          1.6383422097331848,
          1.6474206576749906,
          1.6564094198613333,
          1.6653102065808567,
          1.6741246810330432,
          1.682854460983712
         ]
        },
        {
         "name": "Cv DFT(J/K/g)",
         "type": "scatter",
         "x": [
          0,
          10,
          20,
          30,
          40,
          50,
          60,
          70,
          80,
          90,
          100,
          110,
          120,
          130,
          140,
          150,
          160,
          170,
          180,
          190,
          200,
          210,
          220,
          230,
          240,
          250,
          260,
          270,
          280,
          290,
          300,
          310,
          320,
          330,
          340,
          350,
          360,
          370,
          380,
          390,
          400,
          410,
          420,
          430,
          440,
          450,
          460,
          470,
          480,
          490,
          500,
          510,
          520,
          530,
          540,
          550,
          560,
          570,
          580,
          590,
          600,
          610,
          620,
          630,
          640,
          650,
          660,
          670,
          680,
          690,
          700,
          710,
          720,
          730,
          740,
          750,
          760,
          770,
          780,
          790,
          800,
          810,
          820,
          830,
          840,
          850,
          860,
          870,
          880,
          890,
          900,
          910,
          920,
          930,
          940,
          950,
          960,
          970,
          980,
          990,
          1000
         ],
         "y": [
          0,
          0.00032617689737190456,
          0.0044685327275268355,
          0.02206942309050097,
          0.053709976241273445,
          0.09156517252783002,
          0.1301814278294435,
          0.16777993814825298,
          0.20435202783962184,
          0.24026315951263805,
          0.2757021942969593,
          0.31060357893740587,
          0.3447374446349766,
          0.3778175585911912,
          0.409577059519734,
          0.4398073845864336,
          0.4683703500900838,
          0.49519461520809116,
          0.5202649012346063,
          0.5436091251797567,
          0.5652861773623301,
          0.5853755271394447,
          0.6039689695107786,
          0.6211643912551478,
          0.6370612568631091,
          0.651757472482918,
          0.6653473090281189,
          0.6779201139103972,
          0.6895595942592478,
          0.7003435036419943,
          0.7103436057476832,
          0.7196258217118578,
          0.7282504935002776,
          0.736272715255408,
          0.7437426989997677,
          0.7507061517112457,
          0.7572046484725061,
          0.7632759918934233,
          0.7689545518870438,
          0.7742715825818668,
          0.7792555150021916,
          0.7839322253849761,
          0.7883252798029898,
          0.7924561562587291,
          0.7963444456949116,
          0.8000080335023388,
          0.803463263142499,
          0.8067250834744765,
          0.8098071813074763,
          0.8127221006082997,
          0.8154813496888418,
          0.8180954975899566,
          0.8205742607699225,
          0.8229265811015304,
          0.8251606960834632,
          0.8272842020802177,
          0.829304111320766,
          0.8312269033095545,
          0.8330585712340364,
          0.8348046638903989,
          0.8364703235929917,
          0.8380603204826873,
          0.8395790836045022,
          0.8410307290847525,
          0.8424190857023752,
          0.843747718117278,
          0.8450199479903966,
          0.8462388732050123,
          0.8474073853766161,
          0.8485281858187533,
          0.8496038001146877,
          0.8506365914290337,
          0.8516287726795778,
          0.852582417677099,
          0.8534994713299483,
          0.8543817590003125,
          0.8552309950902998,
          0.8560487909281638,
          0.8568366620179915,
          0.8575960347099256,
          0.8583282523424229,
          0.8590345809030348,
          0.859716214249731,
          0.8603742789307771,
          0.8610098386375659,
          0.8616238983215831,
          0.8622174080037792,
          0.8627912663020079,
          0.8633463236998372,
          0.8638833855779401,
          0.864403215027329,
          0.8649065354620157,
          0.8653940330470872,
          0.8658663589568101,
          0.8663241314760812,
          0.8667679379574075,
          0.8671983366445476,
          0.867615858373,
          0.8680210081566693,
          0.8684142666692558,
          0.8687960916282126
         ]
        },
        {
         "name": "U DFT (kJ/g)",
         "type": "scatter",
         "x": [
          0,
          10,
          20,
          30,
          40,
          50,
          60,
          70,
          80,
          90,
          100,
          110,
          120,
          130,
          140,
          150,
          160,
          170,
          180,
          190,
          200,
          210,
          220,
          230,
          240,
          250,
          260,
          270,
          280,
          290,
          300,
          310,
          320,
          330,
          340,
          350,
          360,
          370,
          380,
          390,
          400,
          410,
          420,
          430,
          440,
          450,
          460,
          470,
          480,
          490,
          500,
          510,
          520,
          530,
          540,
          550,
          560,
          570,
          580,
          590,
          600,
          610,
          620,
          630,
          640,
          650,
          660,
          670,
          680,
          690,
          700,
          710,
          720,
          730,
          740,
          750,
          760,
          770,
          780,
          790,
          800,
          810,
          820,
          830,
          840,
          850,
          860,
          870,
          880,
          890,
          900,
          910,
          920,
          930,
          940,
          950,
          960,
          970,
          980,
          990,
          1000
         ],
         "y": [
          0.20881531708393644,
          0.20881610919233787,
          0.2088332235018342,
          0.2089520185831476,
          0.20932235736660773,
          0.21004650246805034,
          0.21115576339426598,
          0.21264655438268837,
          0.21450791112662734,
          0.21673141730985968,
          0.2193116308053602,
          0.22224368732445784,
          0.22552114974048104,
          0.22913492104760266,
          0.23307309203535442,
          0.23732135696427376,
          0.24186367434447723,
          0.24668296204483572,
          0.2517617152621266,
          0.25708250311197917,
          0.26262833826735316,
          0.2683829329735881,
          0.2743308617961994,
          0.2804576521359856,
          0.2867498212859191,
          0.2931948755188218,
          0.299781283357762,
          0.3064984322236676,
          0.31333657521713054,
          0.32028677287134966,
          0.32734083324747915,
          0.33449125265100765,
          0.34173115844902374,
          0.3490542548945028,
          0.35645477245890894,
          0.3639274208942567,
          0.3714673460564674,
          0.3790700903979255,
          0.38673155695968253,
          0.39444797664890224,
          0.40221587856481633,
          0.4100320631293853,
          0.41789357778185826,
          0.4257976950058017,
          0.43374189247037254,
          0.4417238350828375,
          0.4497413587654006,
          0.4577924557854787,
          0.4658752614841406,
          0.4739880422621981,
          0.4821291846972121,
          0.49029718567738895,
          0.49849064344995675,
          0.5067082494921771,
          0.5149487811226815,
          0.5232110947794237,
          0.5314941198982486,
          0.539796853332994,
          0.5481183542642275,
          0.5564577395492373,
          0.5648141794708332,
          0.5731868938469105,
          0.5815751484666517,
          0.5899782518227435,
          0.5983955521121038,
          0.6068264344803995,
          0.6152703184881235,
          0.6237266557782118,
          0.6321949279271704,
          0.6406746444634482,
          0.6491653410383795,
          0.657666577736437,
          0.666177937512808,
          0.674699024747443,
          0.6832294639057506,
          0.6917688982970273,
          0.7003169889225377,
          0.7088734134059009,
          0.7174378649991059,
          0.7260100516580814,
          0.7345896951822891,
          0.7431765304132913,
          0.7517703044877003,
          0.7603707761403009,
          0.7689777150535096,
          0.777590901249659,
          0.7862101245228911,
          0.7948351839077127,
          0.8034658871815162,
          0.8121020503985825,
          0.820743497453293,
          0.8293900596704558,
          0.8380415754208246,
          0.846697889760035,
          0.8553588540893288,
          0.8640243258365623,
          0.8726941681561051,
          0.8813682496463554,
          0.890046444083681,
          0.8987286301716956,
          0.9074146913048531
         ]
        },
        {
         "name": "F DFT(kJ/g)",
         "type": "scatter",
         "x": [
          0,
          10,
          20,
          30,
          40,
          50,
          60,
          70,
          80,
          90,
          100,
          110,
          120,
          130,
          140,
          150,
          160,
          170,
          180,
          190,
          200,
          210,
          220,
          230,
          240,
          250,
          260,
          270,
          280,
          290,
          300,
          310,
          320,
          330,
          340,
          350,
          360,
          370,
          380,
          390,
          400,
          410,
          420,
          430,
          440,
          450,
          460,
          470,
          480,
          490,
          500,
          510,
          520,
          530,
          540,
          550,
          560,
          570,
          580,
          590,
          600,
          610,
          620,
          630,
          640,
          650,
          660,
          670,
          680,
          690,
          700,
          710,
          720,
          730,
          740,
          750,
          760,
          770,
          780,
          790,
          800,
          810,
          820,
          830,
          840,
          850,
          860,
          870,
          880,
          890,
          900,
          910,
          920,
          930,
          940,
          950,
          960,
          970,
          980,
          990,
          1000
         ],
         "y": [
          0.20881531708393644,
          0.20881505003707757,
          0.2088103476016879,
          0.2087803278737933,
          0.20867600853962162,
          0.20843848685014255,
          0.20801911115382782,
          0.20738369179903926,
          0.2065091602420156,
          0.20537953622210686,
          0.20398318137022892,
          0.20231129607907708,
          0.20035718922263795,
          0.19811593158606203,
          0.19558416353509578,
          0.19275994683474296,
          0.1896426188373625,
          0.18623263994420536,
          0.18253143792517587,
          0.1785412557187212,
          0.17426500846543785,
          0.16970615354748428,
          0.16486857548891792,
          0.1597564861052671,
          0.15437433931421732,
          0.14872675944864674,
          0.1428184816377068,
          0.1366543027426926,
          0.13023904137642764,
          0.12357750564431033,
          0.1166744673864947,
          0.10953464185153307,
          0.10216267187895627,
          0.09456311580453268,
          0.0867404384240231,
          0.07869900445816341,
          0.07044307405377909,
          0.06197679993447305,
          0.05330422588068802,
          0.044429286274659016,
          0.03535580649231759,
          0.026087503962966035,
          0.01662798974970856,
          0.006980770530282678,
          -0.0028507491200228698,
          -0.01286326422346886,
          -0.023053566738064517,
          -0.03341854279155965,
          -0.043955169853720645,
          -0.05466051388098629,
          -0.0655317264606932,
          -0.07656604197638847,
          -0.08776077481109412,
          -0.09911331660157038,
          -0.11062113355350706,
          -0.12228176382502355,
          -0.1340928149837813,
          -0.14605196154133046,
          -0.15815694256694568,
          -0.1704055593821112,
          -0.18279567333593472,
          -0.19532520366107303,
          -0.2079921254091981,
          -0.22079446746461062,
          -0.23373031063427288,
          -0.24679778581229195,
          -0.2599950722167025,
          -0.27332039569627564,
          -0.28677202710499766,
          -0.3003482807418233,
          -0.31404751285328447,
          -0.3278681201965525,
          -0.34180853866056976,
          -0.3558672419429129,
          -0.37004274028009204,
          -0.38433357922906214,
          -0.39873833849777457,
          -0.4132556308226771,
          -0.4278841008911352,
          -0.44262242430682947,
          -0.4574693065962458,
          -0.47242348225446945,
          -0.48748371382854483,
          -0.5026487910367554,
          -0.5179175299222366,
          -0.5332887720394085,
          -0.5487613836717866,
          -0.5643342550797809,
          -0.5800062997771765,
          -0.595776453835026,
          -0.6116436752117645,
          -0.6276069431083963,
          -0.6436652573476652,
          -0.6598176377761708,
          -0.6760631236884347,
          -0.6924007732719801,
          -0.7088296630725176,
          -0.7253488874783848,
          -0.7419575582234195,
          -0.7586548039074916,
          -0.7754397695339466
         ]
        },
        {
         "mode": "markers",
         "name": "Cp expt(J/k/g)",
         "type": "scatter",
         "x": [
          298,
          300,
          400,
          500,
          600,
          700,
          800,
          900,
          1000
         ],
         "y": [
          0.711641153,
          0.713777145,
          0.788536846,
          0.830900676,
          0.859736561,
          0.882876468,
          0.90245639,
          0.920256319,
          0.936988252
         ]
        },
        {
         "mode": "markers",
         "name": "S expt(J/k/g)",
         "type": "scatter",
         "x": [
          298,
          300,
          400,
          500,
          600,
          700,
          800,
          900,
          1000
         ],
         "y": [
          0.669633321,
          0.674261303,
          0.891064436,
          1.071911712,
          1.226059096,
          1.360626557,
          1.479530082,
          1.587041652,
          1.68494126
         ]
        }
       ],
       "layout": {
        "height": 500,
        "legend": {
         "orientation": "h",
         "x": 1,
         "xanchor": "right",
         "y": 1,
         "yanchor": "bottom"
        },
        "template": {
         "data": {
          "bar": [
           {
            "error_x": {
             "color": "#2a3f5f"
            },
            "error_y": {
             "color": "#2a3f5f"
            },
            "marker": {
             "line": {
              "color": "#E5ECF6",
              "width": 0.5
             },
             "pattern": {
              "fillmode": "overlay",
              "size": 10,
              "solidity": 0.2
             }
            },
            "type": "bar"
           }
          ],
          "barpolar": [
           {
            "marker": {
             "line": {
              "color": "#E5ECF6",
              "width": 0.5
             },
             "pattern": {
              "fillmode": "overlay",
              "size": 10,
              "solidity": 0.2
             }
            },
            "type": "barpolar"
           }
          ],
          "carpet": [
           {
            "aaxis": {
             "endlinecolor": "#2a3f5f",
             "gridcolor": "white",
             "linecolor": "white",
             "minorgridcolor": "white",
             "startlinecolor": "#2a3f5f"
            },
            "baxis": {
             "endlinecolor": "#2a3f5f",
             "gridcolor": "white",
             "linecolor": "white",
             "minorgridcolor": "white",
             "startlinecolor": "#2a3f5f"
            },
            "type": "carpet"
           }
          ],
          "choropleth": [
           {
            "colorbar": {
             "outlinewidth": 0,
             "ticks": ""
            },
            "type": "choropleth"
           }
          ],
          "contour": [
           {
            "colorbar": {
             "outlinewidth": 0,
             "ticks": ""
            },
            "colorscale": [
             [
              0,
              "#0d0887"
             ],
             [
              0.1111111111111111,
              "#46039f"
             ],
             [
              0.2222222222222222,
              "#7201a8"
             ],
             [
              0.3333333333333333,
              "#9c179e"
             ],
             [
              0.4444444444444444,
              "#bd3786"
             ],
             [
              0.5555555555555556,
              "#d8576b"
             ],
             [
              0.6666666666666666,
              "#ed7953"
             ],
             [
              0.7777777777777778,
              "#fb9f3a"
             ],
             [
              0.8888888888888888,
              "#fdca26"
             ],
             [
              1,
              "#f0f921"
             ]
            ],
            "type": "contour"
           }
          ],
          "contourcarpet": [
           {
            "colorbar": {
             "outlinewidth": 0,
             "ticks": ""
            },
            "type": "contourcarpet"
           }
          ],
          "heatmap": [
           {
            "colorbar": {
             "outlinewidth": 0,
             "ticks": ""
            },
            "colorscale": [
             [
              0,
              "#0d0887"
             ],
             [
              0.1111111111111111,
              "#46039f"
             ],
             [
              0.2222222222222222,
              "#7201a8"
             ],
             [
              0.3333333333333333,
              "#9c179e"
             ],
             [
              0.4444444444444444,
              "#bd3786"
             ],
             [
              0.5555555555555556,
              "#d8576b"
             ],
             [
              0.6666666666666666,
              "#ed7953"
             ],
             [
              0.7777777777777778,
              "#fb9f3a"
             ],
             [
              0.8888888888888888,
              "#fdca26"
             ],
             [
              1,
              "#f0f921"
             ]
            ],
            "type": "heatmap"
           }
          ],
          "heatmapgl": [
           {
            "colorbar": {
             "outlinewidth": 0,
             "ticks": ""
            },
            "colorscale": [
             [
              0,
              "#0d0887"
             ],
             [
              0.1111111111111111,
              "#46039f"
             ],
             [
              0.2222222222222222,
              "#7201a8"
             ],
             [
              0.3333333333333333,
              "#9c179e"
             ],
             [
              0.4444444444444444,
              "#bd3786"
             ],
             [
              0.5555555555555556,
              "#d8576b"
             ],
             [
              0.6666666666666666,
              "#ed7953"
             ],
             [
              0.7777777777777778,
              "#fb9f3a"
             ],
             [
              0.8888888888888888,
              "#fdca26"
             ],
             [
              1,
              "#f0f921"
             ]
            ],
            "type": "heatmapgl"
           }
          ],
          "histogram": [
           {
            "marker": {
             "pattern": {
              "fillmode": "overlay",
              "size": 10,
              "solidity": 0.2
             }
            },
            "type": "histogram"
           }
          ],
          "histogram2d": [
           {
            "colorbar": {
             "outlinewidth": 0,
             "ticks": ""
            },
            "colorscale": [
             [
              0,
              "#0d0887"
             ],
             [
              0.1111111111111111,
              "#46039f"
             ],
             [
              0.2222222222222222,
              "#7201a8"
             ],
             [
              0.3333333333333333,
              "#9c179e"
             ],
             [
              0.4444444444444444,
              "#bd3786"
             ],
             [
              0.5555555555555556,
              "#d8576b"
             ],
             [
              0.6666666666666666,
              "#ed7953"
             ],
             [
              0.7777777777777778,
              "#fb9f3a"
             ],
             [
              0.8888888888888888,
              "#fdca26"
             ],
             [
              1,
              "#f0f921"
             ]
            ],
            "type": "histogram2d"
           }
          ],
          "histogram2dcontour": [
           {
            "colorbar": {
             "outlinewidth": 0,
             "ticks": ""
            },
            "colorscale": [
             [
              0,
              "#0d0887"
             ],
             [
              0.1111111111111111,
              "#46039f"
             ],
             [
              0.2222222222222222,
              "#7201a8"
             ],
             [
              0.3333333333333333,
              "#9c179e"
             ],
             [
              0.4444444444444444,
              "#bd3786"
             ],
             [
              0.5555555555555556,
              "#d8576b"
             ],
             [
              0.6666666666666666,
              "#ed7953"
             ],
             [
              0.7777777777777778,
              "#fb9f3a"
             ],
             [
              0.8888888888888888,
              "#fdca26"
             ],
             [
              1,
              "#f0f921"
             ]
            ],
            "type": "histogram2dcontour"
           }
          ],
          "mesh3d": [
           {
            "colorbar": {
             "outlinewidth": 0,
             "ticks": ""
            },
            "type": "mesh3d"
           }
          ],
          "parcoords": [
           {
            "line": {
             "colorbar": {
              "outlinewidth": 0,
              "ticks": ""
             }
            },
            "type": "parcoords"
           }
          ],
          "pie": [
           {
            "automargin": true,
            "type": "pie"
           }
          ],
          "scatter": [
           {
            "marker": {
             "colorbar": {
              "outlinewidth": 0,
              "ticks": ""
             }
            },
            "type": "scatter"
           }
          ],
          "scatter3d": [
           {
            "line": {
             "colorbar": {
              "outlinewidth": 0,
              "ticks": ""
             }
            },
            "marker": {
             "colorbar": {
              "outlinewidth": 0,
              "ticks": ""
             }
            },
            "type": "scatter3d"
           }
          ],
          "scattercarpet": [
           {
            "marker": {
             "colorbar": {
              "outlinewidth": 0,
              "ticks": ""
             }
            },
            "type": "scattercarpet"
           }
          ],
          "scattergeo": [
           {
            "marker": {
             "colorbar": {
              "outlinewidth": 0,
              "ticks": ""
             }
            },
            "type": "scattergeo"
           }
          ],
          "scattergl": [
           {
            "marker": {
             "colorbar": {
              "outlinewidth": 0,
              "ticks": ""
             }
            },
            "type": "scattergl"
           }
          ],
          "scattermapbox": [
           {
            "marker": {
             "colorbar": {
              "outlinewidth": 0,
              "ticks": ""
             }
            },
            "type": "scattermapbox"
           }
          ],
          "scatterpolar": [
           {
            "marker": {
             "colorbar": {
              "outlinewidth": 0,
              "ticks": ""
             }
            },
            "type": "scatterpolar"
           }
          ],
          "scatterpolargl": [
           {
            "marker": {
             "colorbar": {
              "outlinewidth": 0,
              "ticks": ""
             }
            },
            "type": "scatterpolargl"
           }
          ],
          "scatterternary": [
           {
            "marker": {
             "colorbar": {
              "outlinewidth": 0,
              "ticks": ""
             }
            },
            "type": "scatterternary"
           }
          ],
          "surface": [
           {
            "colorbar": {
             "outlinewidth": 0,
             "ticks": ""
            },
            "colorscale": [
             [
              0,
              "#0d0887"
             ],
             [
              0.1111111111111111,
              "#46039f"
             ],
             [
              0.2222222222222222,
              "#7201a8"
             ],
             [
              0.3333333333333333,
              "#9c179e"
             ],
             [
              0.4444444444444444,
              "#bd3786"
             ],
             [
              0.5555555555555556,
              "#d8576b"
             ],
             [
              0.6666666666666666,
              "#ed7953"
             ],
             [
              0.7777777777777778,
              "#fb9f3a"
             ],
             [
              0.8888888888888888,
              "#fdca26"
             ],
             [
              1,
              "#f0f921"
             ]
            ],
            "type": "surface"
           }
          ],
          "table": [
           {
            "cells": {
             "fill": {
              "color": "#EBF0F8"
             },
             "line": {
              "color": "white"
             }
            },
            "header": {
             "fill": {
              "color": "#C8D4E3"
             },
             "line": {
              "color": "white"
             }
            },
            "type": "table"
           }
          ]
         },
         "layout": {
          "annotationdefaults": {
           "arrowcolor": "#2a3f5f",
           "arrowhead": 0,
           "arrowwidth": 1
          },
          "autotypenumbers": "strict",
          "coloraxis": {
           "colorbar": {
            "outlinewidth": 0,
            "ticks": ""
           }
          },
          "colorscale": {
           "diverging": [
            [
             0,
             "#8e0152"
            ],
            [
             0.1,
             "#c51b7d"
            ],
            [
             0.2,
             "#de77ae"
            ],
            [
             0.3,
             "#f1b6da"
            ],
            [
             0.4,
             "#fde0ef"
            ],
            [
             0.5,
             "#f7f7f7"
            ],
            [
             0.6,
             "#e6f5d0"
            ],
            [
             0.7,
             "#b8e186"
            ],
            [
             0.8,
             "#7fbc41"
            ],
            [
             0.9,
             "#4d9221"
            ],
            [
             1,
             "#276419"
            ]
           ],
           "sequential": [
            [
             0,
             "#0d0887"
            ],
            [
             0.1111111111111111,
             "#46039f"
            ],
            [
             0.2222222222222222,
             "#7201a8"
            ],
            [
             0.3333333333333333,
             "#9c179e"
            ],
            [
             0.4444444444444444,
             "#bd3786"
            ],
            [
             0.5555555555555556,
             "#d8576b"
            ],
            [
             0.6666666666666666,
             "#ed7953"
            ],
            [
             0.7777777777777778,
             "#fb9f3a"
            ],
            [
             0.8888888888888888,
             "#fdca26"
            ],
            [
             1,
             "#f0f921"
            ]
           ],
           "sequentialminus": [
            [
             0,
             "#0d0887"
            ],
            [
             0.1111111111111111,
             "#46039f"
            ],
            [
             0.2222222222222222,
             "#7201a8"
            ],
            [
             0.3333333333333333,
             "#9c179e"
            ],
            [
             0.4444444444444444,
             "#bd3786"
            ],
            [
             0.5555555555555556,
             "#d8576b"
            ],
            [
             0.6666666666666666,
             "#ed7953"
            ],
            [
             0.7777777777777778,
             "#fb9f3a"
            ],
            [
             0.8888888888888888,
             "#fdca26"
            ],
            [
             1,
             "#f0f921"
            ]
           ]
          },
          "colorway": [
           "#636efa",
           "#EF553B",
           "#00cc96",
           "#ab63fa",
           "#FFA15A",
           "#19d3f3",
           "#FF6692",
           "#B6E880",
           "#FF97FF",
           "#FECB52"
          ],
          "font": {
           "color": "#2a3f5f"
          },
          "geo": {
           "bgcolor": "white",
           "lakecolor": "white",
           "landcolor": "#E5ECF6",
           "showlakes": true,
           "showland": true,
           "subunitcolor": "white"
          },
          "hoverlabel": {
           "align": "left"
          },
          "hovermode": "closest",
          "mapbox": {
           "style": "light"
          },
          "paper_bgcolor": "white",
          "plot_bgcolor": "#E5ECF6",
          "polar": {
           "angularaxis": {
            "gridcolor": "white",
            "linecolor": "white",
            "ticks": ""
           },
           "bgcolor": "#E5ECF6",
           "radialaxis": {
            "gridcolor": "white",
            "linecolor": "white",
            "ticks": ""
           }
          },
          "scene": {
           "xaxis": {
            "backgroundcolor": "#E5ECF6",
            "gridcolor": "white",
            "gridwidth": 2,
            "linecolor": "white",
            "showbackground": true,
            "ticks": "",
            "zerolinecolor": "white"
           },
           "yaxis": {
            "backgroundcolor": "#E5ECF6",
            "gridcolor": "white",
            "gridwidth": 2,
            "linecolor": "white",
            "showbackground": true,
            "ticks": "",
            "zerolinecolor": "white"
           },
           "zaxis": {
            "backgroundcolor": "#E5ECF6",
            "gridcolor": "white",
            "gridwidth": 2,
            "linecolor": "white",
            "showbackground": true,
            "ticks": "",
            "zerolinecolor": "white"
           }
          },
          "shapedefaults": {
           "line": {
            "color": "#2a3f5f"
           }
          },
          "ternary": {
           "aaxis": {
            "gridcolor": "white",
            "linecolor": "white",
            "ticks": ""
           },
           "baxis": {
            "gridcolor": "white",
            "linecolor": "white",
            "ticks": ""
           },
           "bgcolor": "#E5ECF6",
           "caxis": {
            "gridcolor": "white",
            "linecolor": "white",
            "ticks": ""
           }
          },
          "title": {
           "x": 0.05
          },
          "xaxis": {
           "automargin": true,
           "gridcolor": "white",
           "linecolor": "white",
           "ticks": "",
           "title": {
            "standoff": 15
           },
           "zerolinecolor": "white",
           "zerolinewidth": 2
          },
          "yaxis": {
           "automargin": true,
           "gridcolor": "white",
           "linecolor": "white",
           "ticks": "",
           "title": {
            "standoff": 15
           },
           "zerolinecolor": "white",
           "zerolinewidth": 2
          }
         }
        },
        "width": 800,
        "xaxis": {
         "autorange": true,
         "range": [
          0,
          1059.1642532064543
         ],
         "title": {
          "text": "temperature [K]"
         },
         "type": "linear"
        },
        "yaxis": {
         "autorange": true,
         "range": [
          -0.9390049012138733,
          1.8575405495386312
         ],
         "title": {
          "text": "themochemistry"
         },
         "type": "linear"
        }
       }
      },
      "image/png": "[encoded data removed]",
      "text/html": [
       "<div>                            <div id=\"0df43bd7-1eba-456a-8c91-fa0f6002aa69\" class=\"plotly-graph-div\" style=\"height:500px; width:800px;\"></div>            <script type=\"text/javascript\">                require([\"plotly\"], function(Plotly) {                    window.PLOTLYENV=window.PLOTLYENV || {};                                    if (document.getElementById(\"0df43bd7-1eba-456a-8c91-fa0f6002aa69\")) {                    Plotly.newPlot(                        \"0df43bd7-1eba-456a-8c91-fa0f6002aa69\",                        [{\"name\":\"S (J/K/g)\",\"type\":\"scatter\",\"x\":[0.0,10.0,20.0,30.0,40.0,50.0,60.0,70.0,80.0,90.0,100.0,110.0,120.0,130.0,140.0,150.0,160.0,170.0,180.0,190.0,200.0,210.0,220.0,230.0,240.0,250.0,260.0,270.0,280.0,290.0,300.0,310.0,320.0,330.0,340.0,350.0,360.0,370.0,380.0,390.0,400.0,410.0,420.0,430.0,440.0,450.0,460.0,470.0,480.0,490.0,500.0,510.0,520.0,530.0,540.0,550.0,560.0,570.0,580.0,590.0,600.0,610.0,620.0,630.0,640.0,650.0,660.0,670.0,680.0,690.0,700.0,710.0,720.0,730.0,740.0,750.0,760.0,770.0,780.0,790.0,800.0,810.0,820.0,830.0,840.0,850.0,860.0,870.0,880.0,890.0,900.0,910.0,920.0,930.0,940.0,950.0,960.0,970.0,980.0,990.0,1000.0],\"y\":[0.000013709826992306614,0.0001303460709366076,0.0014437400591715752,0.0069392893512086155,0.018859730763673144,0.03652186137689179,0.05819937458358292,0.08247056895904113,0.10844811811831889,0.1356250639138519,0.16369910629458767,0.19246073510301165,0.22173816057796686,0.2513760168383527,0.28123013566920724,0.31116829685387165,0.34107218707884657,0.37083875293840557,0.40038053191206624,0.42962509814940397,0.4585139106809273,0.48700083753998047,0.5150505636435143,0.5426370210712098,0.5697419241058588,0.5963534509488675,0.6224650872728857,0.6480746303495566,0.6731833432589804,0.6977952441836583,0.721916514235308,0.7455550074443923,0.7687198476653857,0.7914210987156775,0.8136694957705818,0.8354762277082116,0.8568527616449017,0.877810702283484,0.8983616799018419,0.9185172618431942,0.9382888832464764,0.9576877934924994,0.9767250154576979,0.9954113151797376,1.0137571799640401,1.0317728033115479,1.0494680753379748,1.0668525775937825,1.0839355813909675,1.100726048904756,1.1172326364516345,1.1334636994547795,1.1494272986981677,1.1651312075448075,1.1805829198555273,1.195789658394898,1.2107583835520894,1.2254958022383209,1.240008376850391,1.2543023342125896,1.268383674428027,1.2822581795857475,1.2959314222825284,1.3094087739285116,1.3226954128141548,1.3357963319227486,1.3487163464782408,1.3614601012225125,1.3740320774197856,1.3864365995886596,1.3986778419644956,1.4107598346965733,1.4226864697858135,1.434461506769812,1.4460885781627018,1.4575711946578462,1.4689127501017183,1.4801165262475018,1.4911856972970379,1.5021233342397184,1.5129324089968486,1.5236157983798484,1.534176287870491,1.5446165752311403,1.5549392739527241,1.5651469165478997,1.5752419576966243,1.5852267772510296,1.5951036831062597,1.6048749139436198,1.6145426418521274,1.624108974834271,1.6335759592015298,1.6429455818649386,1.6522197725257377,1.6614004057709013,1.6704893030781172,1.67948823473454,1.6883989216734674,1.6972230372328443,1.7059622088393227]},{\"name\":\"Cv (J/K/g)\",\"type\":\"scatter\",\"x\":[0.0,10.0,20.0,30.0,40.0,50.0,60.0,70.0,80.0,90.0,100.0,110.0,120.0,130.0,140.0,150.0,160.0,170.0,180.0,190.0,200.0,210.0,220.0,230.0,240.0,250.0,260.0,270.0,280.0,290.0,300.0,310.0,320.0,330.0,340.0,350.0,360.0,370.0,380.0,390.0,400.0,410.0,420.0,430.0,440.0,450.0,460.0,470.0,480.0,490.0,500.0,510.0,520.0,530.0,540.0,550.0,560.0,570.0,580.0,590.0,600.0,610.0,620.0,630.0,640.0,650.0,660.0,670.0,680.0,690.0,700.0,710.0,720.0,730.0,740.0,750.0,760.0,770.0,780.0,790.0,800.0,810.0,820.0,830.0,840.0,850.0,860.0,870.0,880.0,890.0,900.0,910.0,920.0,930.0,940.0,950.0,960.0,970.0,980.0,990.0,1000.0],\"y\":[0.00004778401312319194,0.0004157581600540624,0.005570719838338535,0.025850989805774795,0.060252200507425545,0.09976176763798404,0.13898367260261776,0.17663704755422344,0.21311841026541106,0.24898976363573322,0.28448494060694696,0.31951089150197715,0.35379091409971325,0.3869981105799335,0.41883910825801735,0.4490925164370999,0.4776175798527995,0.5043469197938079,0.5292727373831291,0.5524318356852859,0.5738920697689831,0.5937412054143523,0.6120783092590576,0.6290074019147894,0.6446329710842585,0.6590569351835769,0.6723766966532814,0.6846839899043307,0.6960642934952467,0.7065966322369144,0.7163536404714395,0.7254017932689656,0.7338017391924145,0.7416086882656252,0.7488728233921085,0.7556397140125463,0.761950718300158,0.7678433654789399,0.7733517135190262,0.77850667996901,0.7833363453602395,0.7878662297058888,0.7921195432939048,0.7961174133641559,0.7998790884567325,0.8034221222844807,0.8067625389638274,0.8099149813654329,0.8128928442421064,0.8157083936708106,0.8183728742184783,0.820896605114453,0.823289066589798,0.82555897742806,0.8277143646646127,0.82976262627311,0.8317105875878419,0.8335645521297023,0.835330347430565,0.8370133663855487,0.8386186046043389,0.8401506941807746,0.841613934253691,0.8430123186909544,0.844349561192194,0.8456291180734021,0.8468542089679322,0.8480278356529891,0.849152799188192,0.8502317155327924,0.8512670297904112,0.8522610292144139,0.8532158550930713,0.8541335136212465,0.8550158858542978,0.8558647368300754,0.8566817239361416,0.8574684045915586,0.8582262433056329,0.8589566181698162,0.859660826833409,0.860340092008785,0.8609955665474035,0.8616283381239185,0.8622394335621495,0.8628298228334701,0.8634004227553235,0.8639521004149894,0.8644856763414246,0.8650019274459082,0.8655015897503415,0.8659853609203747,0.866453902618993,0.8669078426948119,0.8673477772181024,0.8677742723764142,0.8681878662406615,0.868589070411597,0.8689783715557732,0.8693562328393072,0.8697230952670931]},{\"name\":\"U (kJ/g)\",\"type\":\"scatter\",\"x\":[0.0,10.0,20.0,30.0,40.0,50.0,60.0,70.0,80.0,90.0,100.0,110.0,120.0,130.0,140.0,150.0,160.0,170.0,180.0,190.0,200.0,210.0,220.0,230.0,240.0,250.0,260.0,270.0,280.0,290.0,300.0,310.0,320.0,330.0,340.0,350.0,360.0,370.0,380.0,390.0,400.0,410.0,420.0,430.0,440.0,450.0,460.0,470.0,480.0,490.0,500.0,510.0,520.0,530.0,540.0,550.0,560.0,570.0,580.0,590.0,600.0,610.0,620.0,630.0,640.0,650.0,660.0,670.0,680.0,690.0,700.0,710.0,720.0,730.0,740.0,750.0,760.0,770.0,780.0,790.0,800.0,810.0,820.0,830.0,840.0,850.0,860.0,870.0,880.0,890.0,900.0,910.0,920.0,930.0,940.0,950.0,960.0,970.0,980.0,990.0,1000.0],\"y\":[0.20430628845293902,0.20430722932102333,0.2043288617012131,0.20447116598713544,0.20489378293985588,0.2056926523427199,0.20688758351601433,0.2084669293342595,0.21041641329510677,0.21272730665723183,0.2153949924181847,0.21841546144617496,0.2217827286625793,0.22548769930209414,0.22951812849213496,0.23385918034243447,0.23849420944055216,0.24340553956444813,0.24857513116154098,0.2539851018310892,0.25961810281642306,0.2654575716728531,0.2714878862928586,0.27769444445458075,0.2840636895526178,0.29058309903818486,0.2972411482179874,0.30402725877734854,0.31093173877100655,0.31794571880997524,0.325061087666388,0.3322704294160381,0.33956696344675835,0.3469444881023025,0.3543973283446934,0.3619202875561062,0.36950860342894304,0.37715790778374964,0.38486419008996364,0.3926237644303634,0.4004332396366425,0.40828949232373296,0.41618964255938923,0.4241310319196922,0.43211120369814776,0.44012788505434275,0.44817897090661335,0.45626250939119256,0.46437668872741855,0.4725198253445641,0.4806903531405834,0.488886813756534,0.4971078477626387,0.5053521866629745,0.5136186456356738,0.5219061169343928,0.5302135638847368,0.5385400154164021,0.5468845610781009,0.5552463464879558,0.5636245691770397,0.5720184747881919,0.580427353596195,0.5888505373189128,0.5972873961921313,0.6057373362836297,0.6141997970244945,0.6226742489379056,0.6311601915476033,0.6396571514500016,0.6481646805354931,0.6566823543459027,0.6652097705562952,0.6737465475704892,0.6822923232206173,0.6908467535620033,0.6994095117554193,0.7079802870295393,0.7165587837170412,0.7251447203584177,0.7337378288680894,0.7423378537578822,0.7509445514133796,0.7595576894190469,0.7681770459283769,0.7768024090756358,0.7854335764260701,0.7940703544617049,0.8027125581001029,0.8113600102436678,0.8200125413572801,0.8286699890722246,0.8373321978145383,0.8459990184560576,0.854670307986578,0.8633459292056589,0.8720257504327324,0.8807096452342634,0.8893974921668182,0.8980891745349713,0.9067845801630743]},{\"name\":\"F (kJ/g)\",\"type\":\"scatter\",\"x\":[0.0,10.0,20.0,30.0,40.0,50.0,60.0,70.0,80.0,90.0,100.0,110.0,120.0,130.0,140.0,150.0,160.0,170.0,180.0,190.0,200.0,210.0,220.0,230.0,240.0,250.0,260.0,270.0,280.0,290.0,300.0,310.0,320.0,330.0,340.0,350.0,360.0,370.0,380.0,390.0,400.0,410.0,420.0,430.0,440.0,450.0,460.0,470.0,480.0,490.0,500.0,510.0,520.0,530.0,540.0,550.0,560.0,570.0,580.0,590.0,600.0,610.0,620.0,630.0,640.0,650.0,660.0,670.0,680.0,690.0,700.0,710.0,720.0,730.0,740.0,750.0,760.0,770.0,780.0,790.0,800.0,810.0,820.0,830.0,840.0,850.0,860.0,870.0,880.0,890.0,900.0,910.0,920.0,930.0,940.0,950.0,960.0,970.0,980.0,990.0,1000.0],\"y\":[0.2043062199038041,0.20430592586031396,0.20429998690002968,0.20426298730659923,0.20413939370930895,0.2038665592738753,0.20339562104099937,0.20269398950712664,0.2017405638456413,0.2005210509049852,0.19902508178872588,0.1972447805848436,0.19517414939322336,0.19280881711310824,0.19014590949844598,0.1871839358143537,0.1839226595079367,0.1803629515649191,0.17650663541736902,0.17235633318270246,0.16791532068023757,0.1631873957894572,0.1581767622912854,0.1528879296082025,0.14732562776721161,0.1414947363009679,0.13540022552703712,0.12904710858296828,0.122440402658492,0.11558509799671438,0.10848613339579576,0.10114837710827648,0.09357661219383502,0.08577552552612898,0.07774969978269557,0.0695036078582322,0.06104160923677844,0.05236794793886044,0.04348675172726375,0.03440203231151765,0.025117686338051948,0.015637496991808286,0.005965136067156125,-0.0038958336075950333,-0.013941955486029934,-0.02416987643585381,-0.03457634374885506,-0.04515820207788528,-0.05591239034024573,-0.06683593861876641,-0.07792596508523397,-0.08917967296540363,-0.10059434756040854,-0.11216735333577334,-0.12389613108631081,-0.13577819518280113,-0.1478111309044333,-0.15999259185944104,-0.17232029749512595,-0.18479203069747197,-0.19740563547977655,-0.2101590147591141,-0.22305012821897263,-0.23607699025604967,-0.2492376680089279,-0.2625302794661568,-0.2759529916511447,-0.28950401888117805,-0.3031816210978509,-0.3169841022661738,-0.3309098088396534,-0.3449571282886642,-0.35912448768949023,-0.3734103523714736,-0.38781322461978207,-0.4023316424313819,-0.41696417832188687,-0.43170943818103674,-0.4465660601746482,-0.46153271369095994,-0.47660809832938955,-0.4917909429297951,-0.5070800046404231,-0.5224740680227997,-0.5379719441919112,-0.5535724699900791,-0.5692745071930271,-0.5850769417466907,-0.6009786830334057,-0.6169786631661539,-0.6330758363096344,-0.6492691780269618,-0.665557684650869,-0.681940372678335,-0.6984162781876149,-0.7149844562766975,-0.7316439805222599,-0.74839394245824,-0.7652334510731799,-0.7821616323255446,-0.7991776286762481]},{\"name\":\"S DFT(J/K/g)\",\"type\":\"scatter\",\"x\":[0.0,10.0,20.0,30.0,40.0,50.0,60.0,70.0,80.0,90.0,100.0,110.0,120.0,130.0,140.0,150.0,160.0,170.0,180.0,190.0,200.0,210.0,220.0,230.0,240.0,250.0,260.0,270.0,280.0,290.0,300.0,310.0,320.0,330.0,340.0,350.0,360.0,370.0,380.0,390.0,400.0,410.0,420.0,430.0,440.0,450.0,460.0,470.0,480.0,490.0,500.0,510.0,520.0,530.0,540.0,550.0,560.0,570.0,580.0,590.0,600.0,610.0,620.0,630.0,640.0,650.0,660.0,670.0,680.0,690.0,700.0,710.0,720.0,730.0,740.0,750.0,760.0,770.0,780.0,790.0,800.0,810.0,820.0,830.0,840.0,850.0,860.0,870.0,880.0,890.0,900.0,910.0,920.0,930.0,940.0,950.0,960.0,970.0,980.0,990.0,1000.0],\"y\":[0.0,0.00010591886078712176,0.0011437966748325046,0.005723024757453726,0.0161587215103639,0.03216031302903681,0.0522775379026563,0.07518375168012033,0.09998438648585418,0.12613201247071612,0.15328449470154953,0.18120355709884303,0.20969967128215325,0.23860761152410004,0.26777806098200063,0.29707606778287093,0.3263815971608748,0.355590130235443,0.38461265209531487,0.4133749864963869,0.4418166492192826,0.4698894260426864,0.4975558470504172,0.5247876785891614,0.5515645084062302,0.5778724644679911,0.6037030837228069,0.629052331592305,0.653919763895508,0.6783078182006504,0.7022212197108676,0.7256664866222331,0.7486515207020042,0.7711852701385256,0.793277453211209,0.8149383328406058,0.8361785335055862,0.8570088933080792,0.8774403451072498,0.8974838216339383,0.9171501803418297,0.9364501444680502,0.9553942573783012,0.9739928477756237,0.9922560037719618,1.0101935541707752,1.0278150555984522,1.0451297843620149,1.0621467321088767,1.0788746045283253,1.095321822469801,1.111496524964857,1.1274065737320367,1.143059558820128,1.1584628051081944,1.1736233794327333,1.1885480981551935,1.2032435350184718,1.217716029170184,1.2319716932545997,1.2460164214949465,1.2598558977041319,1.2734956031753653,1.2869408244151948,1.3001966606905304,1.313268031368616,1.3261596830349753,1.3388761963792468,1.351421992842836,1.3638013410254874,1.3760183628504778,1.3880770394901654,1.3999812170552295,1.4117346120521976,1.4233408166148018,1.4348033035154182,1.4461254309633573,1.4573104471971219,1.4683614948779675,1.4792816152922197,1.4900737523698098,1.5007407565264745,1.5112853883369533,1.5217103220463692,1.532018148926846,1.5422113804861737,1.5522924515351562,1.5622637231200318,1.5721274853261418,1.581885959958764,1.5915413031068095,1.6010956075948395,1.6105509053286124,1.619909169539163,1.6291723169301728,1.6383422097331848,1.6474206576749906,1.6564094198613333,1.6653102065808567,1.6741246810330432,1.682854460983712]},{\"name\":\"Cv DFT(J/K/g)\",\"type\":\"scatter\",\"x\":[0.0,10.0,20.0,30.0,40.0,50.0,60.0,70.0,80.0,90.0,100.0,110.0,120.0,130.0,140.0,150.0,160.0,170.0,180.0,190.0,200.0,210.0,220.0,230.0,240.0,250.0,260.0,270.0,280.0,290.0,300.0,310.0,320.0,330.0,340.0,350.0,360.0,370.0,380.0,390.0,400.0,410.0,420.0,430.0,440.0,450.0,460.0,470.0,480.0,490.0,500.0,510.0,520.0,530.0,540.0,550.0,560.0,570.0,580.0,590.0,600.0,610.0,620.0,630.0,640.0,650.0,660.0,670.0,680.0,690.0,700.0,710.0,720.0,730.0,740.0,750.0,760.0,770.0,780.0,790.0,800.0,810.0,820.0,830.0,840.0,850.0,860.0,870.0,880.0,890.0,900.0,910.0,920.0,930.0,940.0,950.0,960.0,970.0,980.0,990.0,1000.0],\"y\":[0.0,0.00032617689737190456,0.0044685327275268355,0.02206942309050097,0.053709976241273445,0.09156517252783002,0.1301814278294435,0.16777993814825298,0.20435202783962184,0.24026315951263805,0.2757021942969593,0.31060357893740587,0.3447374446349766,0.3778175585911912,0.409577059519734,0.4398073845864336,0.4683703500900838,0.49519461520809116,0.5202649012346063,0.5436091251797567,0.5652861773623301,0.5853755271394447,0.6039689695107786,0.6211643912551478,0.6370612568631091,0.651757472482918,0.6653473090281189,0.6779201139103972,0.6895595942592478,0.7003435036419943,0.7103436057476832,0.7196258217118578,0.7282504935002776,0.736272715255408,0.7437426989997677,0.7507061517112457,0.7572046484725061,0.7632759918934233,0.7689545518870438,0.7742715825818668,0.7792555150021916,0.7839322253849761,0.7883252798029898,0.7924561562587291,0.7963444456949116,0.8000080335023388,0.803463263142499,0.8067250834744765,0.8098071813074763,0.8127221006082997,0.8154813496888418,0.8180954975899566,0.8205742607699225,0.8229265811015304,0.8251606960834632,0.8272842020802177,0.829304111320766,0.8312269033095545,0.8330585712340364,0.8348046638903989,0.8364703235929917,0.8380603204826873,0.8395790836045022,0.8410307290847525,0.8424190857023752,0.843747718117278,0.8450199479903966,0.8462388732050123,0.8474073853766161,0.8485281858187533,0.8496038001146877,0.8506365914290337,0.8516287726795778,0.852582417677099,0.8534994713299483,0.8543817590003125,0.8552309950902998,0.8560487909281638,0.8568366620179915,0.8575960347099256,0.8583282523424229,0.8590345809030348,0.859716214249731,0.8603742789307771,0.8610098386375659,0.8616238983215831,0.8622174080037792,0.8627912663020079,0.8633463236998372,0.8638833855779401,0.864403215027329,0.8649065354620157,0.8653940330470872,0.8658663589568101,0.8663241314760812,0.8667679379574075,0.8671983366445476,0.867615858373,0.8680210081566693,0.8684142666692558,0.8687960916282126]},{\"name\":\"U DFT (kJ/g)\",\"type\":\"scatter\",\"x\":[0.0,10.0,20.0,30.0,40.0,50.0,60.0,70.0,80.0,90.0,100.0,110.0,120.0,130.0,140.0,150.0,160.0,170.0,180.0,190.0,200.0,210.0,220.0,230.0,240.0,250.0,260.0,270.0,280.0,290.0,300.0,310.0,320.0,330.0,340.0,350.0,360.0,370.0,380.0,390.0,400.0,410.0,420.0,430.0,440.0,450.0,460.0,470.0,480.0,490.0,500.0,510.0,520.0,530.0,540.0,550.0,560.0,570.0,580.0,590.0,600.0,610.0,620.0,630.0,640.0,650.0,660.0,670.0,680.0,690.0,700.0,710.0,720.0,730.0,740.0,750.0,760.0,770.0,780.0,790.0,800.0,810.0,820.0,830.0,840.0,850.0,860.0,870.0,880.0,890.0,900.0,910.0,920.0,930.0,940.0,950.0,960.0,970.0,980.0,990.0,1000.0],\"y\":[0.20881531708393644,0.20881610919233787,0.2088332235018342,0.2089520185831476,0.20932235736660773,0.21004650246805034,0.21115576339426598,0.21264655438268837,0.21450791112662734,0.21673141730985968,0.2193116308053602,0.22224368732445784,0.22552114974048104,0.22913492104760266,0.23307309203535442,0.23732135696427376,0.24186367434447723,0.24668296204483572,0.2517617152621266,0.25708250311197917,0.26262833826735316,0.2683829329735881,0.2743308617961994,0.2804576521359856,0.2867498212859191,0.2931948755188218,0.299781283357762,0.3064984322236676,0.31333657521713054,0.32028677287134966,0.32734083324747915,0.33449125265100765,0.34173115844902374,0.3490542548945028,0.35645477245890894,0.3639274208942567,0.3714673460564674,0.3790700903979255,0.38673155695968253,0.39444797664890224,0.40221587856481633,0.4100320631293853,0.41789357778185826,0.4257976950058017,0.43374189247037254,0.4417238350828375,0.4497413587654006,0.4577924557854787,0.4658752614841406,0.4739880422621981,0.4821291846972121,0.49029718567738895,0.49849064344995675,0.5067082494921771,0.5149487811226815,0.5232110947794237,0.5314941198982486,0.539796853332994,0.5481183542642275,0.5564577395492373,0.5648141794708332,0.5731868938469105,0.5815751484666517,0.5899782518227435,0.5983955521121038,0.6068264344803995,0.6152703184881235,0.6237266557782118,0.6321949279271704,0.6406746444634482,0.6491653410383795,0.657666577736437,0.666177937512808,0.674699024747443,0.6832294639057506,0.6917688982970273,0.7003169889225377,0.7088734134059009,0.7174378649991059,0.7260100516580814,0.7345896951822891,0.7431765304132913,0.7517703044877003,0.7603707761403009,0.7689777150535096,0.777590901249659,0.7862101245228911,0.7948351839077127,0.8034658871815162,0.8121020503985825,0.820743497453293,0.8293900596704558,0.8380415754208246,0.846697889760035,0.8553588540893288,0.8640243258365623,0.8726941681561051,0.8813682496463554,0.890046444083681,0.8987286301716956,0.9074146913048531]},{\"name\":\"F DFT(kJ/g)\",\"type\":\"scatter\",\"x\":[0.0,10.0,20.0,30.0,40.0,50.0,60.0,70.0,80.0,90.0,100.0,110.0,120.0,130.0,140.0,150.0,160.0,170.0,180.0,190.0,200.0,210.0,220.0,230.0,240.0,250.0,260.0,270.0,280.0,290.0,300.0,310.0,320.0,330.0,340.0,350.0,360.0,370.0,380.0,390.0,400.0,410.0,420.0,430.0,440.0,450.0,460.0,470.0,480.0,490.0,500.0,510.0,520.0,530.0,540.0,550.0,560.0,570.0,580.0,590.0,600.0,610.0,620.0,630.0,640.0,650.0,660.0,670.0,680.0,690.0,700.0,710.0,720.0,730.0,740.0,750.0,760.0,770.0,780.0,790.0,800.0,810.0,820.0,830.0,840.0,850.0,860.0,870.0,880.0,890.0,900.0,910.0,920.0,930.0,940.0,950.0,960.0,970.0,980.0,990.0,1000.0],\"y\":[0.20881531708393644,0.20881505003707757,0.2088103476016879,0.2087803278737933,0.20867600853962162,0.20843848685014255,0.20801911115382782,0.20738369179903926,0.2065091602420156,0.20537953622210686,0.20398318137022892,0.20231129607907708,0.20035718922263795,0.19811593158606203,0.19558416353509578,0.19275994683474296,0.1896426188373625,0.18623263994420536,0.18253143792517587,0.1785412557187212,0.17426500846543785,0.16970615354748428,0.16486857548891792,0.1597564861052671,0.15437433931421732,0.14872675944864674,0.1428184816377068,0.1366543027426926,0.13023904137642764,0.12357750564431033,0.1166744673864947,0.10953464185153307,0.10216267187895627,0.09456311580453268,0.0867404384240231,0.07869900445816341,0.07044307405377909,0.06197679993447305,0.05330422588068802,0.044429286274659016,0.03535580649231759,0.026087503962966035,0.01662798974970856,0.006980770530282678,-0.0028507491200228698,-0.01286326422346886,-0.023053566738064517,-0.03341854279155965,-0.043955169853720645,-0.05466051388098629,-0.0655317264606932,-0.07656604197638847,-0.08776077481109412,-0.09911331660157038,-0.11062113355350706,-0.12228176382502355,-0.1340928149837813,-0.14605196154133046,-0.15815694256694568,-0.1704055593821112,-0.18279567333593472,-0.19532520366107303,-0.2079921254091981,-0.22079446746461062,-0.23373031063427288,-0.24679778581229195,-0.2599950722167025,-0.27332039569627564,-0.28677202710499766,-0.3003482807418233,-0.31404751285328447,-0.3278681201965525,-0.34180853866056976,-0.3558672419429129,-0.37004274028009204,-0.38433357922906214,-0.39873833849777457,-0.4132556308226771,-0.4278841008911352,-0.44262242430682947,-0.4574693065962458,-0.47242348225446945,-0.48748371382854483,-0.5026487910367554,-0.5179175299222366,-0.5332887720394085,-0.5487613836717866,-0.5643342550797809,-0.5800062997771765,-0.595776453835026,-0.6116436752117645,-0.6276069431083963,-0.6436652573476652,-0.6598176377761708,-0.6760631236884347,-0.6924007732719801,-0.7088296630725176,-0.7253488874783848,-0.7419575582234195,-0.7586548039074916,-0.7754397695339466]},{\"mode\":\"markers\",\"name\":\"Cp expt(J/k/g)\",\"type\":\"scatter\",\"x\":[298,300,400,500,600,700,800,900,1000],\"y\":[0.711641153,0.713777145,0.788536846,0.830900676,0.859736561,0.882876468,0.90245639,0.920256319,0.936988252]},{\"mode\":\"markers\",\"name\":\"S expt(J/k/g)\",\"type\":\"scatter\",\"x\":[298,300,400,500,600,700,800,900,1000],\"y\":[0.669633321,0.674261303,0.891064436,1.071911712,1.226059096,1.360626557,1.479530082,1.587041652,1.68494126]}],                        {\"height\":500,\"legend\":{\"orientation\":\"h\",\"x\":1.0,\"xanchor\":\"right\",\"y\":1.0,\"yanchor\":\"bottom\"},\"template\":{\"data\":{\"bar\":[{\"error_x\":{\"color\":\"#2a3f5f\"},\"error_y\":{\"color\":\"#2a3f5f\"},\"marker\":{\"line\":{\"color\":\"#E5ECF6\",\"width\":0.5},\"pattern\":{\"fillmode\":\"overlay\",\"size\":10,\"solidity\":0.2}},\"type\":\"bar\"}],\"barpolar\":[{\"marker\":{\"line\":{\"color\":\"#E5ECF6\",\"width\":0.5},\"pattern\":{\"fillmode\":\"overlay\",\"size\":10,\"solidity\":0.2}},\"type\":\"barpolar\"}],\"carpet\":[{\"aaxis\":{\"endlinecolor\":\"#2a3f5f\",\"gridcolor\":\"white\",\"linecolor\":\"white\",\"minorgridcolor\":\"white\",\"startlinecolor\":\"#2a3f5f\"},\"baxis\":{\"endlinecolor\":\"#2a3f5f\",\"gridcolor\":\"white\",\"linecolor\":\"white\",\"minorgridcolor\":\"white\",\"startlinecolor\":\"#2a3f5f\"},\"type\":\"carpet\"}],\"choropleth\":[{\"colorbar\":{\"outlinewidth\":0,\"ticks\":\"\"},\"type\":\"choropleth\"}],\"contour\":[{\"colorbar\":{\"outlinewidth\":0,\"ticks\":\"\"},\"colorscale\":[[0.0,\"#0d0887\"],[0.1111111111111111,\"#46039f\"],[0.2222222222222222,\"#7201a8\"],[0.3333333333333333,\"#9c179e\"],[0.4444444444444444,\"#bd3786\"],[0.5555555555555556,\"#d8576b\"],[0.6666666666666666,\"#ed7953\"],[0.7777777777777778,\"#fb9f3a\"],[0.8888888888888888,\"#fdca26\"],[1.0,\"#f0f921\"]],\"type\":\"contour\"}],\"contourcarpet\":[{\"colorbar\":{\"outlinewidth\":0,\"ticks\":\"\"},\"type\":\"contourcarpet\"}],\"heatmap\":[{\"colorbar\":{\"outlinewidth\":0,\"ticks\":\"\"},\"colorscale\":[[0.0,\"#0d0887\"],[0.1111111111111111,\"#46039f\"],[0.2222222222222222,\"#7201a8\"],[0.3333333333333333,\"#9c179e\"],[0.4444444444444444,\"#bd3786\"],[0.5555555555555556,\"#d8576b\"],[0.6666666666666666,\"#ed7953\"],[0.7777777777777778,\"#fb9f3a\"],[0.8888888888888888,\"#fdca26\"],[1.0,\"#f0f921\"]],\"type\":\"heatmap\"}],\"heatmapgl\":[{\"colorbar\":{\"outlinewidth\":0,\"ticks\":\"\"},\"colorscale\":[[0.0,\"#0d0887\"],[0.1111111111111111,\"#46039f\"],[0.2222222222222222,\"#7201a8\"],[0.3333333333333333,\"#9c179e\"],[0.4444444444444444,\"#bd3786\"],[0.5555555555555556,\"#d8576b\"],[0.6666666666666666,\"#ed7953\"],[0.7777777777777778,\"#fb9f3a\"],[0.8888888888888888,\"#fdca26\"],[1.0,\"#f0f921\"]],\"type\":\"heatmapgl\"}],\"histogram\":[{\"marker\":{\"pattern\":{\"fillmode\":\"overlay\",\"size\":10,\"solidity\":0.2}},\"type\":\"histogram\"}],\"histogram2d\":[{\"colorbar\":{\"outlinewidth\":0,\"ticks\":\"\"},\"colorscale\":[[0.0,\"#0d0887\"],[0.1111111111111111,\"#46039f\"],[0.2222222222222222,\"#7201a8\"],[0.3333333333333333,\"#9c179e\"],[0.4444444444444444,\"#bd3786\"],[0.5555555555555556,\"#d8576b\"],[0.6666666666666666,\"#ed7953\"],[0.7777777777777778,\"#fb9f3a\"],[0.8888888888888888,\"#fdca26\"],[1.0,\"#f0f921\"]],\"type\":\"histogram2d\"}],\"histogram2dcontour\":[{\"colorbar\":{\"outlinewidth\":0,\"ticks\":\"\"},\"colorscale\":[[0.0,\"#0d0887\"],[0.1111111111111111,\"#46039f\"],[0.2222222222222222,\"#7201a8\"],[0.3333333333333333,\"#9c179e\"],[0.4444444444444444,\"#bd3786\"],[0.5555555555555556,\"#d8576b\"],[0.6666666666666666,\"#ed7953\"],[0.7777777777777778,\"#fb9f3a\"],[0.8888888888888888,\"#fdca26\"],[1.0,\"#f0f921\"]],\"type\":\"histogram2dcontour\"}],\"mesh3d\":[{\"colorbar\":{\"outlinewidth\":0,\"ticks\":\"\"},\"type\":\"mesh3d\"}],\"parcoords\":[{\"line\":{\"colorbar\":{\"outlinewidth\":0,\"ticks\":\"\"}},\"type\":\"parcoords\"}],\"pie\":[{\"automargin\":true,\"type\":\"pie\"}],\"scatter\":[{\"marker\":{\"colorbar\":{\"outlinewidth\":0,\"ticks\":\"\"}},\"type\":\"scatter\"}],\"scatter3d\":[{\"line\":{\"colorbar\":{\"outlinewidth\":0,\"ticks\":\"\"}},\"marker\":{\"colorbar\":{\"outlinewidth\":0,\"ticks\":\"\"}},\"type\":\"scatter3d\"}],\"scattercarpet\":[{\"marker\":{\"colorbar\":{\"outlinewidth\":0,\"ticks\":\"\"}},\"type\":\"scattercarpet\"}],\"scattergeo\":[{\"marker\":{\"colorbar\":{\"outlinewidth\":0,\"ticks\":\"\"}},\"type\":\"scattergeo\"}],\"scattergl\":[{\"marker\":{\"colorbar\":{\"outlinewidth\":0,\"ticks\":\"\"}},\"type\":\"scattergl\"}],\"scattermapbox\":[{\"marker\":{\"colorbar\":{\"outlinewidth\":0,\"ticks\":\"\"}},\"type\":\"scattermapbox\"}],\"scatterpolar\":[{\"marker\":{\"colorbar\":{\"outlinewidth\":0,\"ticks\":\"\"}},\"type\":\"scatterpolar\"}],\"scatterpolargl\":[{\"marker\":{\"colorbar\":{\"outlinewidth\":0,\"ticks\":\"\"}},\"type\":\"scatterpolargl\"}],\"scatterternary\":[{\"marker\":{\"colorbar\":{\"outlinewidth\":0,\"ticks\":\"\"}},\"type\":\"scatterternary\"}],\"surface\":[{\"colorbar\":{\"outlinewidth\":0,\"ticks\":\"\"},\"colorscale\":[[0.0,\"#0d0887\"],[0.1111111111111111,\"#46039f\"],[0.2222222222222222,\"#7201a8\"],[0.3333333333333333,\"#9c179e\"],[0.4444444444444444,\"#bd3786\"],[0.5555555555555556,\"#d8576b\"],[0.6666666666666666,\"#ed7953\"],[0.7777777777777778,\"#fb9f3a\"],[0.8888888888888888,\"#fdca26\"],[1.0,\"#f0f921\"]],\"type\":\"surface\"}],\"table\":[{\"cells\":{\"fill\":{\"color\":\"#EBF0F8\"},\"line\":{\"color\":\"white\"}},\"header\":{\"fill\":{\"color\":\"#C8D4E3\"},\"line\":{\"color\":\"white\"}},\"type\":\"table\"}]},\"layout\":{\"annotationdefaults\":{\"arrowcolor\":\"#2a3f5f\",\"arrowhead\":0,\"arrowwidth\":1},\"autotypenumbers\":\"strict\",\"coloraxis\":{\"colorbar\":{\"outlinewidth\":0,\"ticks\":\"\"}},\"colorscale\":{\"diverging\":[[0,\"#8e0152\"],[0.1,\"#c51b7d\"],[0.2,\"#de77ae\"],[0.3,\"#f1b6da\"],[0.4,\"#fde0ef\"],[0.5,\"#f7f7f7\"],[0.6,\"#e6f5d0\"],[0.7,\"#b8e186\"],[0.8,\"#7fbc41\"],[0.9,\"#4d9221\"],[1,\"#276419\"]],\"sequential\":[[0.0,\"#0d0887\"],[0.1111111111111111,\"#46039f\"],[0.2222222222222222,\"#7201a8\"],[0.3333333333333333,\"#9c179e\"],[0.4444444444444444,\"#bd3786\"],[0.5555555555555556,\"#d8576b\"],[0.6666666666666666,\"#ed7953\"],[0.7777777777777778,\"#fb9f3a\"],[0.8888888888888888,\"#fdca26\"],[1.0,\"#f0f921\"]],\"sequentialminus\":[[0.0,\"#0d0887\"],[0.1111111111111111,\"#46039f\"],[0.2222222222222222,\"#7201a8\"],[0.3333333333333333,\"#9c179e\"],[0.4444444444444444,\"#bd3786\"],[0.5555555555555556,\"#d8576b\"],[0.6666666666666666,\"#ed7953\"],[0.7777777777777778,\"#fb9f3a\"],[0.8888888888888888,\"#fdca26\"],[1.0,\"#f0f921\"]]},\"colorway\":[\"#636efa\",\"#EF553B\",\"#00cc96\",\"#ab63fa\",\"#FFA15A\",\"#19d3f3\",\"#FF6692\",\"#B6E880\",\"#FF97FF\",\"#FECB52\"],\"font\":{\"color\":\"#2a3f5f\"},\"geo\":{\"bgcolor\":\"white\",\"lakecolor\":\"white\",\"landcolor\":\"#E5ECF6\",\"showlakes\":true,\"showland\":true,\"subunitcolor\":\"white\"},\"hoverlabel\":{\"align\":\"left\"},\"hovermode\":\"closest\",\"mapbox\":{\"style\":\"light\"},\"paper_bgcolor\":\"white\",\"plot_bgcolor\":\"#E5ECF6\",\"polar\":{\"angularaxis\":{\"gridcolor\":\"white\",\"linecolor\":\"white\",\"ticks\":\"\"},\"bgcolor\":\"#E5ECF6\",\"radialaxis\":{\"gridcolor\":\"white\",\"linecolor\":\"white\",\"ticks\":\"\"}},\"scene\":{\"xaxis\":{\"backgroundcolor\":\"#E5ECF6\",\"gridcolor\":\"white\",\"gridwidth\":2,\"linecolor\":\"white\",\"showbackground\":true,\"ticks\":\"\",\"zerolinecolor\":\"white\"},\"yaxis\":{\"backgroundcolor\":\"#E5ECF6\",\"gridcolor\":\"white\",\"gridwidth\":2,\"linecolor\":\"white\",\"showbackground\":true,\"ticks\":\"\",\"zerolinecolor\":\"white\"},\"zaxis\":{\"backgroundcolor\":\"#E5ECF6\",\"gridcolor\":\"white\",\"gridwidth\":2,\"linecolor\":\"white\",\"showbackground\":true,\"ticks\":\"\",\"zerolinecolor\":\"white\"}},\"shapedefaults\":{\"line\":{\"color\":\"#2a3f5f\"}},\"ternary\":{\"aaxis\":{\"gridcolor\":\"white\",\"linecolor\":\"white\",\"ticks\":\"\"},\"baxis\":{\"gridcolor\":\"white\",\"linecolor\":\"white\",\"ticks\":\"\"},\"bgcolor\":\"#E5ECF6\",\"caxis\":{\"gridcolor\":\"white\",\"linecolor\":\"white\",\"ticks\":\"\"}},\"title\":{\"x\":0.05},\"xaxis\":{\"automargin\":true,\"gridcolor\":\"white\",\"linecolor\":\"white\",\"ticks\":\"\",\"title\":{\"standoff\":15},\"zerolinecolor\":\"white\",\"zerolinewidth\":2},\"yaxis\":{\"automargin\":true,\"gridcolor\":\"white\",\"linecolor\":\"white\",\"ticks\":\"\",\"title\":{\"standoff\":15},\"zerolinecolor\":\"white\",\"zerolinewidth\":2}}},\"width\":800,\"xaxis\":{\"title\":{\"text\":\"temperature [K]\"}},\"yaxis\":{\"title\":{\"text\":\"themochemistry\"}}},                        {\"responsive\": true}                    ).then(function(){\n",
       "                            \n",
       "var gd = document.getElementById('0df43bd7-1eba-456a-8c91-fa0f6002aa69');\n",
       "var x = new MutationObserver(function (mutations, observer) {{\n",
       "        var display = window.getComputedStyle(gd).display;\n",
       "        if (!display || display === 'none') {{\n",
       "            console.log([gd, 'removed!']);\n",
       "            Plotly.purge(gd);\n",
       "            observer.disconnect();\n",
       "        }}\n",
       "}});\n",
       "\n",
       "// Listen for the removal of the full notebook cells\n",
       "var notebookContainer = gd.closest('#notebook-container');\n",
       "if (notebookContainer) {{\n",
       "    x.observe(notebookContainer, {childList: true});\n",
       "}}\n",
       "\n",
       "// Listen for the clearing of the current output cell\n",
       "var outputEl = gd.closest('.output');\n",
       "if (outputEl) {{\n",
       "    x.observe(outputEl, {childList: true});\n",
       "}}\n",
       "\n",
       "                        })                };                });            </script>        </div>"
      ]
     },
     "metadata": {},
     "output_type": "display_data"
    }
   ],
   "source": [
    "import pandas as pd\n",
    "import plotly.graph_objects as go\n",
    "\n",
    "thermo_dft = pd.read_csv(\"../assets/Si_thermo_dft.csv\")\n",
    "thermo_expt = pd.read_csv(\"../assets/Si_thermo_expt.csv\")\n",
    "\n",
    "fig = thermo_results.plot()\n",
    "fig.add_trace(\n",
    "    go.Scatter(\n",
    "        x = thermo_dft[\"T\"].loc[:100],\n",
    "        y = thermo_dft[\"entropy\"].loc[:100] / 28.09 / 2.,\n",
    "        name = \"S DFT(J/K/g)\"\n",
    "    )\n",
    ")\n",
    "fig.add_trace(\n",
    "    go.Scatter(\n",
    "        x = thermo_dft[\"T\"].loc[:100],\n",
    "        y = thermo_dft[\"cv\"].loc[:100] / 28.09 / 2.,\n",
    "        name = \"Cv DFT(J/K/g)\"\n",
    "    )\n",
    ")\n",
    "fig.add_trace(\n",
    "    go.Scatter(\n",
    "        x = thermo_dft[\"T\"].loc[:100],\n",
    "        y = thermo_dft[\"internal_energy\"].loc[:100] / 28.09 / 2./1000.,\n",
    "        name = \"U DFT (kJ/g)\"\n",
    "    )\n",
    ")\n",
    "fig.add_trace(\n",
    "    go.Scatter(\n",
    "        x = thermo_dft[\"T\"].loc[:100],\n",
    "        y = thermo_dft[\"helmholtz_free_energy\"].loc[:100] / 28.09 / 2./1000.,\n",
    "        name = \"F DFT(kJ/g)\"\n",
    "    )\n",
    ")\n",
    "fig.add_trace(\n",
    "    go.Scatter(\n",
    "        x = thermo_expt[\"T\"],\n",
    "        y = thermo_expt[\"cp\"],\n",
    "        mode = \"markers\",\n",
    "        name = \"Cp expt(J/k/g)\"\n",
    "    )\n",
    ")\n",
    "fig.add_trace(\n",
    "    go.Scatter(\n",
    "        x = thermo_expt[\"T\"],\n",
    "        y = thermo_expt[\"entropy\"],\n",
    "        mode = \"markers\",\n",
    "        name = \"S expt(J/k/g)\"\n",
    "    )\n",
    ")\n",
    "fig.update_layout(width=800, height=500)"
   ]
  },
  {
   "cell_type": "markdown",
   "id": "a8f5b75e-4e4c-4068-a941-3a45e8b6180b",
   "metadata": {},
   "source": [
    "上図は計算結果のプロットです。計算結果が、[DFTの計算結果](https://materialsproject.org/materials/mp-149/)や、[実験値](https://webbook.nist.gov/cgi/cbook.cgi?ID=C7440213&Units=SI&Mask=2#Thermo-Condensed)と比べてもよく一致していることが確認できます。\n",
    "\n",
    "DFT calculation results from\n",
    "\n",
    "A. Jain*, S.P. Ong*, G. Hautier, W. Chen, W.D. Richards, S. Dacek, S. Cholia, D. Gunter, D. Skinner, G. Ceder, K.A. Persson (*=equal contributions)  \n",
    "The Materials Project: A materials genome approach to accelerating materials innovation\n",
    "APL Materials, 2013, 1(1), 011002.  \n",
    "[doi:10.1063/1.4812323](http://dx.doi.org/10.1063/1.4812323)  \n",
    "[[bibtex]](https://materialsproject.org/static/docs/jain_ong2013.349ca3156250.bib)  \n",
    "Licensed under [CC BY 4.0](https://creativecommons.org/licenses/by/4.0/)  \n",
    "\n",
    "Experiment results from\n",
    "\n",
    "\"Condensed Phase Heat Capacity Data\" by Eugene S. Domalski and Elizabeth D. Hearing in NIST Chemistry WebBook, NIST Standard Reference Database Number 69, Eds. P.J. Linstrom and W.G. Mallard, National Institute of Standards and Technology, Gaithersburg MD, 20899, https://doi.org/10.18434/T4D303, (retrieved May, 2022)."
   ]
  },
  {
   "cell_type": "markdown",
   "id": "ce58ba98-1778-4c01-85a6-4eb3621f1c07",
   "metadata": {},
   "source": [
    "<a id='section_3'></a>\n",
    "\n",
    "## 3. 調和振動子近似の限界\n",
    "\n",
    "これまでに見てきたように、結晶のフォノン分散・フォノンの状態密度・熱物性値が調和振動子近似から計算できることがわかりました。\n",
    "しかし、ポテンシャルエネルギー局面の２次以降の項を無視してしまっていることによりうまく扱うことができない物性値も存在します。\n",
    "代表的なものとして、熱膨張率と熱伝導率が挙げられます。"
   ]
  },
  {
   "cell_type": "markdown",
   "id": "c45556a6-0f62-4b9c-be61-7606a925a4fc",
   "metadata": {},
   "source": [
    "### 3.1 熱膨張率\n",
    "\n",
    "熱膨張率はフォノン解析から直接得ることができません。調和振動子近似を用いるということは、近接原子がバネでつながっているモデルを仮定しており、エネルギー局面を局所的に２次関数として扱っています。\n",
    "現実のポテンシャルエネルギー局面はもちろん２次関数ではありません(前章の図1参照)。\n",
    "近接原子がバネでつながっている調和振動子近似では、温度を上げても結合長が増えません。結果として、固体の体積も温度により増加するという現象を扱えず、熱膨張率は0となってしまいます。\n",
    "\n",
    "しかし、熱膨張率は[quasi-harmonic approximation](https://en.wikipedia.org/wiki/Quasi-harmonic_approximation)と呼ばれる、調和振動子近似の拡張系で扱うことが可能です。Quasi-harmonic approximationでは、密度の高い・低い系それぞれでフォノン計算を行っていきます。\n",
    "体積依存するような物性値である、比熱 (Cp)・ギブス自由エネルギー (G)なども同様に計算することができます。"
   ]
  },
  {
   "cell_type": "markdown",
   "id": "cf97b828-b04f-4e8e-911e-bd6fcf764e91",
   "metadata": {},
   "source": [
    "### 3.2 熱伝導率\n",
    "\n",
    "フォノンはエネルギーや運動量を持ちます。熱の輸送は結晶内でのフォノンの移動として説明することができます。しかし、フォノン解析は調和振動子近似をもとに行われていることから、フォノンの散乱が無視されてしまいます。つまり、フォノンは別のフォノンと衝突せずに無限に離れた場所まで移動することになり、熱伝導率も無限に大きくなってしまいます。\n",
    "そのため、単純なフォノン解析では熱伝導率を得ることができません。\n",
    "\n",
    "熱伝導率を扱うためには、非調和性とフォノン散乱を扱うために、テイラー展開の3次の後まで考慮する必要があります。\n",
    "\n",
    "$$E(\\{\\vec{R_{k}^{a}}\\}) = E(\\{\\vec{R_{k,0}^{a}}\\}) + \\sum_{ak\\alpha}{\\sum_{bk'\\beta}{\\frac{1}{2} \\left (\\frac{\\partial^2{E}}{\\partial{u_{k}^{a\\alpha}} \\partial{u_{k'}^{b\\beta}}} \\right ) }} u_{k}^{a\\alpha} u_{k'}^{b\\beta} + \\sum_{ak\\alpha}{\\sum_{bk'\\beta} \\sum_{ck''\\gamma} {\\frac{1}{3!} \\left (\\frac{\\partial^3{E}}{\\partial{u_{k}^{a\\alpha}} \\partial{u_{k'}^{b\\beta}} \\partial{u_{k''}^{c\\gamma}}} \\right ) }} u_{k}^{a\\alpha} u_{k'}^{b\\beta} u_{k''}^{c\\gamma} $$\n",
    "\n",
    "つまり、3次の力定数である $\\frac{\\partial^3{E}}{\\partial{u_{k}^{a\\alpha}} \\partial{u_{k'}^{b\\beta}} \\partial{u_{k''}^{c\\gamma}}}$　を計算する必要があります。\n",
    "格子の熱伝導率を計算する方法としては、real-time approximationなどいくつかの手法が開発されています。"
   ]
  },
  {
   "cell_type": "markdown",
   "id": "4e0755dc-edd6-47ed-873d-b40cf6be1e1a",
   "metadata": {},
   "source": [
    "<a id='section_4'></a>\n",
    "\n",
    "## 4. 参考文献\n",
    "\n",
    "[1] https://personales.unican.es/junqueraj/JavierJunquera_files/Metodos/Latticedynamics/Lattice-dynamics.pdf\n",
    "\n",
    "[2] http://www-personal.umich.edu/~sunkai/teaching/Winter_2013/chapter5.pdf\n",
    "\n",
    "[3] http://staff.ustc.edu.cn/~zqj/posts/LinearTetrahedronMethod/\n",
    "\n",
    "[4] Otero-De-La-Roza, et. al.  Comput. Phys. Commun. 182, 2232–2248 (2011).\n",
    "\n",
    "[5] 「固体物理学入門 上・下」 キッテル\n",
    "\n",
    "[6] 「初歩から学ぶ 固体物理学」 矢口裕之"
   ]
  },
  {
   "cell_type": "markdown",
   "id": "c7cd6169-69f8-4922-ae62-9144f5db75d3",
   "metadata": {},
   "source": [
    "<a id='section_5'></a>\n",
    "\n",
    "## 5. Appendix"
   ]
  },
  {
   "cell_type": "markdown",
   "id": "128c2e72-0097-4b6a-a9f8-b7ecdef4e498",
   "metadata": {},
   "source": [
    "<a id='section_5.1'></a>\n",
    "\n",
    "### 5.1 フォノン計算の導出\n",
    "\n",
    "**Illustration**\n",
    "\n",
    "<figure style=\"width:400px\">\n",
    "<img src=\"../assets/phonon-1-illustration.png\"/>\n",
    "</figure>\n",
    "\n",
    "\n",
    "式の導出の前に、結晶構造の2次元模式図を示します。各ベクトルの意味は図で示されています。\n",
    "\n",
    "* $\\vec{R^{a}}$: 基準セルの原点からユニットセル$\\mathit{a}$の原点へのベクトル\n",
    "* $\\vec{R_{k}^{a}}$: 基準セルの原点からユニットセル$\\mathit{a}$の原子$\\mathit{k}$へのベクトル\n",
    "* $\\vec{R_{k}}$: 原点から同じセル内の原子$\\mathit{k}$へのベクトル"
   ]
  },
  {
   "cell_type": "markdown",
   "id": "9004ef9c-1bbc-466c-8401-a3ae4bd9ad70",
   "metadata": {},
   "source": [
    "**調和振動子近似 (Harmonic approximation)**\n",
    "\n",
    "* 前章の振動解析同様、原子が平衡点から微小変位した際のポテンシャルエネルギーは以下のように表されます。\n",
    "\n",
    "$$E(\\{\\vec{R_{k}^{a}}\\}) = E(\\{\\vec{R_{k,0}^{a}}\\}) + \\sum_{ak\\alpha}{\\sum_{bk'\\beta}{\\frac{1}{2} \\left (\\frac{\\partial^2{E}}{\\partial{u_{k}^{a\\alpha}} \\partial{u_{k'}^{b\\beta}}} \\right ) }} u_{k}^{a\\alpha} u_{k'}^{b\\beta} $$\n",
    "\n",
    "$\\vec {u^a}$ は原子の変位 $\\vec {R^a} - \\vec {R_0^a}$で、 $\\alpha$ と $\\beta$ は座標軸x, y, zを表します。\n",
    "\n",
    "* [Note] 調和振動子近似は平衡点からの微小変位でのみ成り立つ近似です。そのため、フォノン解析で得られる熱物性は低温領域に限られます。"
   ]
  },
  {
   "cell_type": "markdown",
   "id": "f9d4b08c-fb20-48a1-80c0-69665e16dc4f",
   "metadata": {},
   "source": [
    "**運動方程式**\n",
    "\n",
    "* 原子$\\mathit{k}$に作用する力はポテンシャルエネルギーの微分として以下のように得られます。\n",
    "\n",
    "$$\\vec{F_{k}^{a\\alpha}} = -\\frac{E \\left( \\{R_{k}^{a} \\} \\right)}{\\partial R_{k}^{a\\alpha}} = -\\frac{E \\left( \\{R_{k}^{a} \\} \\right)}{\\partial u_{k}^{a\\alpha}} = -\\sum_{bk'\\beta} \\left ( \\frac{\\partial ^{2} E}{\\partial{u_{k}^{a\\alpha}} \\partial{u_{k'}^{b\\beta}}} \\right ) u_{k'}^{b\\beta}$$\n",
    "\n"
   ]
  },
  {
   "cell_type": "markdown",
   "id": "c9211566-9b7f-4625-853e-66ff81eddeb3",
   "metadata": {},
   "source": [
    "* 原子$\\mathit{k}$の加速度\n",
    "\n",
    "$$\\vec{a_{k}^{a\\alpha}} = \\frac{\\partial^2 u_{k}^{a\\alpha}}{\\partial t^2}$$"
   ]
  },
  {
   "cell_type": "markdown",
   "id": "30883506-244b-4f4f-9301-02f05969cd74",
   "metadata": {},
   "source": [
    "* よって、運動方程式は以下となります。\n",
    "\n",
    "$$ M_k \\frac{\\partial^2 u_{k}^{a\\alpha}}{\\partial t^2} = -\\sum_{bk'\\beta} \\left ( \\frac{\\partial ^{2} E}{\\partial{u_{k}^{a\\alpha}} \\partial{u_{k'}^{b\\beta}}} \\right ) u_{k'}^{b\\beta} $$"
   ]
  },
  {
   "cell_type": "markdown",
   "id": "fa4e7d7f-bc48-4800-9cfd-adb4d1e7cadd",
   "metadata": {},
   "source": [
    "* 各原子に対して、3 つの運動方程式が得られます(x, y, z軸方向)。 結果、全体では $3N \\times M$ 個の方程式となります ($N$ はユニットセル内の原子数、$M$ はユニットセル数)。\n",
    "* これらは連立方程式として結合しています。ユニットセル$a$ の原子$k$の変位$u_{k}^{a\\alpha}(t)$は、他の全ての原子変位$u_{k'}^{b\\beta}$に依存します。"
   ]
  },
  {
   "cell_type": "markdown",
   "id": "c2d30f92-b6e7-4c82-b378-9acbaf903c1b",
   "metadata": {},
   "source": [
    "**仮定**\n",
    "\n",
    "* 上記式の解を得るため２つの仮定を導入します。\n",
    "* 1. $u_{k}^{a\\alpha}(t)$ は以下の形式(平面波)で書けるとします。\n",
    "$$ u_{k}^{a\\alpha}(t) = A_{k}^{\\alpha} e^{-i\\omega t} $$\n",
    "\n",
    "方程式の解が複数ある可能性を考慮し、添字 $\\mathit{m}$でそれぞれの解を表します。\n",
    "\n",
    "$$ u_{k}^{a\\alpha}(t) = A_{k, m}^{\\alpha} e^{-i\\omega_{m} t} \\;\\;\\;  m={1, 2, ..., 3N} $$\n",
    "\n",
    "* 2. 周期境界条件を考慮し、解は平面波に似た形式になるとします。\n",
    "\n",
    "$$ u_{k}^{a\\alpha}(t) = A_{k, m \\vec{q}}^{\\alpha} e^{i \\vec{q} \\vec{R_a}} e^{-i\\omega_{m} t} $$"
   ]
  },
  {
   "cell_type": "markdown",
   "id": "fafdc36f-b19e-4cd5-90b5-a9dab895e13f",
   "metadata": {},
   "source": [
    "* 上記の仮定から、方程式の解が新たなパラメータ$\\vec{q}$ に依存することになります。これが波数ベクトルとなります。"
   ]
  },
  {
   "cell_type": "markdown",
   "id": "d6282eac-70b2-47cb-bc64-fd718e7569d2",
   "metadata": {},
   "source": [
    "**方程式を解く**\n",
    "\n",
    "* 上記仮定から運動方程は以下のように書き換えられます。\n",
    "\n",
    "$$ M_{k} \\omega_{m\\vec{q}}^{2} A_{m\\vec{q}}^{k\\alpha} = \\sum_{k'\\beta} {\\left[ \\sum_{b} {\\left( \\frac{\\partial ^{2} E}{\\partial{u_{k}^{a\\alpha}} \\partial{u_{k'}^{b\\beta}}} \\right) e^{i\\vec{q}(\\vec{R_b} - \\vec{R_a})}} \\right] A_{m\\vec{q}}^{k'\\beta}}$$\n"
   ]
  },
  {
   "cell_type": "markdown",
   "id": "86d84af8-4436-4c4e-a80a-353e6d181f78",
   "metadata": {},
   "source": [
    "* ここで、前章の振動解析同様、$3N \\times 3N$行列となる力定数マトリクスを定義します。\n",
    "しかし、周期境界条件を考慮して、ユニットセル $a$ とユニットセル $b$の間の力定数マトリクスは以下のようになります。\n",
    "\n",
    "$$\n",
    "C^{a,b} = \\begin{bmatrix}\n",
    " & \\frac{\\partial ^2 E}{\\partial u_{0}^{a x} \\partial u_{0}^{bx}} & \\frac{\\partial ^2 E}{\\partial u_{0}^{a x} \\partial u_{0}^{by}} & ... & \\frac{\\partial ^2 E}{\\partial u_{0}^{a x} \\partial u_{N}^{bz}} \\\\ \n",
    " & \\frac{\\partial ^2 E}{\\partial u_{0}^{a y} \\partial u_{0}^{bx}} & \\frac{\\partial ^2 E}{\\partial u_{0}^{a y} \\partial u_{0}^{by}} & ... & \\frac{\\partial ^2 E}{\\partial u_{0}^{a y} \\partial u_{N}^{bz}} \\\\\n",
    " & ... & ... &  & ...\\\\ \n",
    " & \\frac{\\partial ^2 E}{\\partial u_{N}^{a z} \\partial u_{N}^{bx}} & \\frac{\\partial ^2 E}{\\partial u_{N}^{a z} \\partial u_{0}^{by}} & ... & \\frac{\\partial ^2 E}{\\partial u_{N}^{a z} \\partial u_{N}^{bz}}\n",
    "\\end{bmatrix}\n",
    "$$\n",
    "\n",
    "* 結晶格子の並進移動対称性により、 $C^{a,b} = C^{0, b-a}$ となります。"
   ]
  },
  {
   "cell_type": "markdown",
   "id": "3ec3f8e6-fae0-479c-bc03-d8192ecc528e",
   "metadata": {},
   "source": [
    "* ここまでの式を代入すると、運動方程式の [...] 内の部分は、力定数マトリクスの離散フーリエ変換の形になっていることがわかります。\n",
    "\n",
    "$$ \\tilde{C}_{\\vec{q}}[k\\alpha, k'\\beta] = \\sum_{b} {\\left( \\frac{\\partial ^{2} E}{\\partial{u_{k}^{a\\alpha}} \\partial{u_{k'}^{b\\beta}}} \\right) e^{i\\vec{q}(\\vec{R_b} - \\vec{R_a})}} = \\sum_{b} {C^{0,b}[k\\alpha, k'\\beta] e^{i\\vec{q}(\\vec{R_b} - \\vec{R_a})}}$$\n",
    "\n",
    "* さらに運動方程式を単純化するため、 $3N \\times 3N$ 行列である dynamics matrix を新たに定義します。\n",
    "\n",
    "$$ \\tilde{D}_{\\vec{q}}[k\\alpha, k'\\beta] = \\frac{1}{\\sqrt{M_k M_{k'}}} \\tilde{C}(\\vec{q})[k\\alpha, k'\\beta] $$\n"
   ]
  },
  {
   "cell_type": "markdown",
   "id": "cd4b424f-9ee7-410c-92cd-7e703835f720",
   "metadata": {},
   "source": [
    "* すると、波数ベクトル $q$ に対する運動方程式は、同次線形方程式の形になります。\n",
    "\n",
    "$$ \\boldsymbol{\\tilde{D}_{\\vec{q}}} \\cdot \\vec{\\gamma}_{\\vec{q}} = \\omega^2_{\\vec{q}} \\vec{\\gamma}_{\\vec{q}}  $$\n",
    "\n",
    "ここで、 $\\vec{\\gamma}_{\\vec{q}}$ は固有ベクトルで、各原子の振動に対し、以下のように関連付けられます。\n",
    "\n",
    "$$ A_{k, m \\vec{q}}^{\\alpha} = \\frac{1}{\\sqrt{M_k}} \\gamma_{k, m\\vec{q}}^{\\alpha} $$"
   ]
  },
  {
   "cell_type": "markdown",
   "id": "f8e6a7c2-4e32-48d9-aa9b-333168c7f726",
   "metadata": {},
   "source": [
    "* Dynamical matrix $\\boldsymbol{\\tilde{D}_{\\vec{q}}}$の対角化を行うことで、波数ベクトル$\\vec{q}$に対応する $3N$ 個の振動数 $\\omega$ を得ることができます。"
   ]
  },
  {
   "cell_type": "markdown",
   "id": "31a95a51-5d8b-48f5-84e6-10c62df0fe3c",
   "metadata": {},
   "source": [
    "<a id='section_5.2'></a>\n",
    "\n",
    "### 5.2 波数ベクトル $\\vec{q}$ が第一ブリルアンゾーンに制限される理由\n",
    "\n",
    "波数ベクトル $\\vec{q}$ が第一ブリルアンゾーンに制限される理由を簡単な１次元の場合で説明します。\n",
    "本質的には、結晶上で格子点が離散的に配置されていることから来ています。\n",
    "\n",
    "1次元格子中の原子$a$の変位は以下で表されます。\n",
    "\n",
    "$$ u_{q}^{a}(t) = A e^{i q x_a} e^{-i\\omega_{m} t} $$\n",
    "\n",
    "原子$a$ の座標が $x=0.0$で、格子定数が1.0 としたときは、逆格子空間は$G \\in (... -2\\pi, 0, 2\\pi, 4\\pi, ...)$であり、第一ブリルアンゾーンは$[-\\pi, \\pi]$となります。\n",
    "\n",
    "次の図は、$u_{q}^{a}(t)$が$q=-\\pi/3$ (青線), $q=-\\pi/3+2\\pi$ (緑線), $q=-\\pi/3+4\\pi$ (黄色線)の場合を表しています。\n",
    "赤点で示される原子$a$ の変位は3つの波で全く同じになっていることがわかります。\n",
    "\n",
    "<figure style=\"width:400px\">\n",
    "  <img src=\"../assets/phonon-2-why-first-brillouin-zone.gif\"/>\n",
    "</figure>\n",
    "\n",
    "$u_{q}^{a}(t) = u_{q+G}^{a}(t)$\n",
    "\n",
    "つまり、任意の波数ベクトル$\\vec{q}$に対して、第一ブリルアンゾーン内に等価な原子変位$u_{q}^{a}(t)$を表す波数ベクトル $\\vec{q}'$ が存在します。"
   ]
  },
  {
   "cell_type": "markdown",
   "id": "d2fc5e30-b9d3-49b8-a774-178fe4dff9a2",
   "metadata": {},
   "source": [
    "<a id='section_5.3'></a>\n",
    "\n",
    "### 5.3 フォノンの状態密度と熱物性値\n",
    "\n",
    "**プランク分布 (Planck distribution)**\n",
    "\n",
    "固体中では、たくさんのフォノンが同時に励起しています。\n",
    "フォノン解析を用いて熱物性を得る際は、フォノンの分布を知る必要があります。\n",
    "フォノンのエネルギーは$E=\\hbar\\omega$で与えられます。\n",
    "フォノンのモード ($\\vec q$ と $\\omega$固定)が与えられたとき、そのフォノンが $n$ 個存在する確率は$P(n)=\\frac{1}{Z}e^{-\\frac{n\\hbar\\omega}{k_B T}}$で表されます、ここで $Z$ は規格化定数です。\n",
    "\n",
    "よって、温度$T$におけるフォノンの個数の平均値は、\n",
    "\n",
    "$$<n> = \\sum_{0}^{\\infty} {n P(n)} = \\frac{1}{e^{\\frac{\\hbar\\omega}{k_BT}}-1}$$\n",
    "\n",
    "と表されます。これはプランク分布として知られています。以下にプランク分布のプロットを示します。"
   ]
  },
  {
   "cell_type": "markdown",
   "id": "a4e94336-a39b-4e1d-8194-cb532dc83735",
   "metadata": {},
   "source": [
    "<img src=\"../assets/phonon-3-planck_distribution.png\" style=\"width:600px\"/>\n",
    "\n",
    "* 左図から、低振動数となるフォノンは高振動数となるフォノンよりも多く存在している事がわかり、その傾向は低温で特に顕著になることもわかります。\n",
    "* 右図から、フォノンの数は温度とともに増加することがわかります。"
   ]
  },
  {
   "cell_type": "markdown",
   "id": "bea27960-4d5e-4250-be96-a5164e93c261",
   "metadata": {},
   "source": [
    "* 振動数$\\omega$のフォノンにより運ばれるエネルギーは、以下のように計算されます。\n",
    "\n",
    "$$<E_{\\omega}> = <n> \\hbar \\omega = \\frac{\\hbar \\omega}{e^{\\frac{\\hbar \\omega}{k_B T}}-1}$$"
   ]
  },
  {
   "cell_type": "markdown",
   "id": "be247b42-c782-47e0-aa0e-e43a54950f78",
   "metadata": {},
   "source": [
    "**フォノンの状態密度　(Phonon DOS)**\n",
    "\n",
    "* フォノンの状態密度は結晶の物性のなかでも重要な要素で、以下のように定義されます。\n",
    "$$D(\\omega) = \\frac{1} {N} \\sum_{m, \\vec q} \\delta (\\omega - \\omega_{m, \\vec q})$$\n",
    "$m$ はバンド (モード)の添字で、波数ベクトル $\\vec q$ は第一ブリルアンゾーン内で足される必要があります。\n",
    "DOS $D(\\omega)$ は、次の制約に従います。\n",
    "$$ N =\\int_{0}^{\\infty} D(\\omega) d \\omega $$\n",
    " $N$ はフォノンの総数です。\n",
    "\n",
    "* もしフォノンの状態密度 $D(\\omega)$がわかっていれば、フォノンが寄与するエネルギーは以下のように計算できます。\n",
    "$$ U' = \\int_{0}^{\\infty} d {\\omega} D(\\omega) E_{\\omega} = \\int_{0}^{\\infty} d {\\omega} D(\\omega) \\frac{\\hbar \\omega}{e^{\\frac{\\hbar \\omega}{k_B T}}-1} $$\n",
    "フォノンの[零点エネルギー](https://ja.wikipedia.org/wiki/%E9%9B%B6%E7%82%B9%E3%82%A8%E3%83%8D%E3%83%AB%E3%82%AE%E3%83%BC) ([zero-point energy](https://en.wikipedia.org/wiki/Zero-point_energy))は量子系の調和振動子と同様 $\\frac {\\hbar \\omega}{2}$となります。\n",
    "この零点エネルギーを含めると、結晶の内部エネルギーは、\n",
    "$$ U = \\int_{0}^{\\infty} d {\\omega} D(\\omega) \\; \\left[ \\frac{\\hbar \\omega}{2} + \\frac {\\hbar \\omega}{e^{\\frac{\\hbar \\omega}{k_B T}} -1} \\right] $$\n",
    "\n",
    "* 結晶の多くの物性値は内部エネルギー$U$と関連付けられます。例えば、熱容量 $C_V$ は、\n",
    "\n",
    "$$C_V = \\left( \\frac{\\partial U}{\\partial T} \\right)_V = \\int_{0}^{\\infty} d {\\omega} D(\\omega) Nk_B\\left( \\frac{\\hbar \\omega}{k_B T} \\right)^2 \\frac{e^{\\frac{\\hbar \\omega}{k_B T}}}{\\left( e^{\\frac{\\hbar \\omega}{k_B T}} - 1 \\right)^2}$$\n",
    "\n",
    "* 本チュートリアルでは、比熱 $C_V$・エントロピー $S$・内部エネルギー $U$・ヘルムホルツ自由エネルギー $A$もフォノンの状態密度から計算できることを紹介しました。"
   ]
  },
  {
   "cell_type": "markdown",
   "id": "fa198132-71a1-45f9-866f-c06cabcba397",
   "metadata": {},
   "source": [
    "**フォノン状態密度の計算**\n",
    "\n",
    "* フォノンの状態密度はどのように計算できるのでしょうか？\n",
    "* まず、フォノンの振動数を第一ブリルアンゾーン内の等間隔メッシュ $\\vec q$ 上で計算します。メッシュのとり方は、Monkhorst-Pack法とGamma-centered法がよく使われます。\n",
    "* 次に、フォノンの振動数を第一ブリルアンゾーン上で積分します。ここでは、smearing methodかtetrahedral integral methodが代表的に使われています。\n",
    "    * Tetrahedron methodでは、メッシュのが四面体で区切られます。それぞれの四面体で、フォノンの振動数が線形補間され、解析的にphonon DOSを得られます。 [3]\n",
    "    * Smearing methodでは、メッシュグリッド$\\vec q$ 上で計算された全てのフォノン振動数に対して、gaussian smearing function が適用されます。"
   ]
  }
 ],
 "metadata": {
  "kernelspec": {
   "display_name": "Python 3.7",
   "language": "python",
   "name": "python37"
  },
  "language_info": {
   "codemirror_mode": {
    "name": "ipython",
    "version": 3
   },
   "file_extension": ".py",
   "mimetype": "text/x-python",
   "name": "python",
   "nbconvert_exporter": "python",
   "pygments_lexer": "ipython3",
   "version": "3.7.13"
  },
  "widgets": {
   "application/vnd.jupyter.widget-state+json": {
    "state": {},
    "version_major": 2,
    "version_minor": 0
   }
  }
 },
 "nbformat": 4,
 "nbformat_minor": 5
}
