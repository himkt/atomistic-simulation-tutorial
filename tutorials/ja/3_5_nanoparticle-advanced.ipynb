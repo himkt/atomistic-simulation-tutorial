{
 "cells": [
  {
   "cell_type": "markdown",
   "id": "44215a41-f755-4df9-aee9-aab8d5fc929d",
   "metadata": {},
   "source": [
    "# [Advanced] Nano particle energy\n",
    "\n",
    "本章は発展編の位置付けとします。次章へ急ぎたい方はスキップし、後から読んでいただいても構いません。\n",
    "\n",
    "本章では、Nano particle (クラスター構造) の過剰エネルギー(excess energy)計算と、担体上の吸着構造作成を行ってみます。"
   ]
  },
  {
   "cell_type": "code",
   "execution_count": 1,
   "id": "a3a40265-83ea-475a-a8f2-774af042f1f2",
   "metadata": {},
   "outputs": [
    {
     "data": {
      "application/vnd.jupyter.widget-view+json": {
       "model_id": "a0ba355659e3403b810536e7639b5758",
       "version_major": 2,
       "version_minor": 0
      },
      "text/plain": []
     },
     "metadata": {},
     "output_type": "display_data"
    },
    {
     "name": "stdout",
     "output_type": "stream",
     "text": [
      "pfp_api_client: 1.3.1\n"
     ]
    }
   ],
   "source": [
    "import pfp_api_client\n",
    "from pfp_api_client.pfp.calculators.ase_calculator import ASECalculator\n",
    "from pfp_api_client.pfp.estimator import Estimator, EstimatorCalcMode\n",
    "from pfcc_extras.visualize.view import view_ngl\n",
    "\n",
    "\n",
    "print(f\"pfp_api_client: {pfp_api_client.__version__}\")\n",
    "\n",
    "# estimator = Estimator(calc_mode=EstimatorCalcMode.CRYSTAL, model_version=\"latest\")\n",
    "estimator = Estimator(calc_mode=EstimatorCalcMode.CRYSTAL_U0, model_version=\"v2.0.0\")\n",
    "calculator = ASECalculator(estimator)"
   ]
  },
  {
   "cell_type": "code",
   "execution_count": 4,
   "id": "db071de7-fa97-487c-9ac4-ecc06e97290c",
   "metadata": {},
   "outputs": [],
   "source": [
    "from ase.cluster import Decahedron, Icosahedron, Octahedron, wulff_construction\n",
    "from ase import Atoms \n",
    "from ase.build import bulk\n",
    "from ase.constraints import ExpCellFilter, StrainFilter\n",
    "from ase.optimize import LBFGS\n",
    "from ase.io import Trajectory\n",
    "import numpy as np\n",
    "import pandas as pd"
   ]
  },
  {
   "cell_type": "markdown",
   "id": "2b29b53c-f8e9-413d-9695-434f42f780f4",
   "metadata": {},
   "source": [
    "## 過剰エネルギー - Excess energy\n",
    "\n",
    "純金属に1種類以上他の元素を混ぜた材料を<b>合金 (alloy)</b>と呼びますが、\n",
    "金属は2種類以上の元素を組み合わせることで、その性質を大きく変化させるようなものがあります。\n",
    "\n",
    "例えば、アルミニウムと銅やマグネシウムを混ぜた、[ジュラルミン](https://ja.wikipedia.org/wiki/%E3%82%B8%E3%83%A5%E3%83%A9%E3%83%AB%E3%83%9F%E3%83%B3)はその軽くて硬い性質から航空宇宙機器などに使われています。\n",
    "\n",
    "2種類の元素が混ざったものを2元系合金、3種類以上の元素が混ざったものは多元系合金と呼ばれます。\n",
    "\n",
    "多元系合金は、新たな性質を持つような材料の発見も期待されていますが、\n",
    "元素の種類が増えるほどその組成比の組み合わせが大きくなり、まだまだ解析が進んでいない領域です。<br/>\n",
    "このような系も[Matlantis](https://matlantis.com)ではその汎用性を活かし、扱うことができます。\n",
    "\n",
    "\n",
    "こういった合金の原子構造を考える際には、現実ではどのように混ざるのか、そもそもきれいに混ざることができる組み合わせなのかを知る必要があります。\n",
    "\n",
    "このような合金の安定度合いを測る指標として、過剰エネルギー(excess energy)があります。<br/>\n",
    "元素Aと元素Bを混ぜた2元系合金 (alloy)の過剰エネルギー(excess energy)は以下のように計算され、その合金のエネルギーが、元素A, Bがそれぞれ混ざっていなかった場合と比べてどのくらい安定かを示します。\n",
    "\n",
    "$$ E_{\\rm{excess}} = \\frac{1}{N_{\\rm{alloy}}} \\left( E_{\\rm{alloy}} - \\frac{N_{\\rm{alloyA}}}{N_{\\rm{alloy}}} E_{\\rm{A}} - \\frac{N_{\\rm{alloyB}}}{N_{\\rm{alloy}}} E_{\\rm{B}} \\right) $$\n",
    "\n",
    "$E_{\\rm{alloy}}$が合金のエネルギー、$E_\\rm{A}, E_\\rm{B}$ は単原子AまたはBで構成された時のエネルギーで、$N_{\\rm{alloy}}, N_{\\rm{alloyA}}, N_{\\rm{alloyB}}$はそれぞれ合金のすべての原子数、元素Aの原子数、元素Bの原子数です。\n",
    "\n",
    "多元系の場合も同様に定義できます。"
   ]
  },
  {
   "cell_type": "markdown",
   "id": "dcdabc7a-6168-4df2-a92e-87abca1dc987",
   "metadata": {},
   "source": [
    "ここでは、PtとPdを混ぜた構造に対して、excess energyを評価することでその安定性を評価してみましょう。\n",
    "\n",
    "参考文献:\n",
    "\n",
    " - [Electronic Structure and Phase Stability of PdPt Nanoparticles](https://pubs.acs.org/doi/10.1021/acs.jpclett.5b02753)\n",
    " - [Electronic structure and phase stability of Pt3M (M = Co, Ni, and Cu) bimetallic nanoparticles](https://www.sciencedirect.com/science/article/abs/pii/S0927025620303657)\n",
    " - [Calculations of Real-System Nanoparticles Using Universal Neural Network Potential PFP](https://arxiv.org/abs/2107.00963)\n",
    "\n",
    "Pt711 Nano particleに対して、Pdを混ぜた構造に対して、\n",
    "2元系のNano particleを考えた場合にもその混ざり方は様々な可能性が考えられます。\n",
    "\n",
    "今回は以下のような構造を作成し、そのexcess energyを評価してみます。\n",
    " - PtとPdが均等に混ざる形で存在する構造\n",
    " - Ptが内殻に、Pdが外殻に存在する構造\n",
    " - Pdが内殻に、Ptが外殻に存在する構造"
   ]
  },
  {
   "cell_type": "markdown",
   "id": "f46f4a9e-1c1a-43e6-a9c8-9b8e93858227",
   "metadata": {},
   "source": [
    "Core shell構造を作成する関数定義です。読み飛ばしていただいて構いません。"
   ]
  },
  {
   "cell_type": "code",
   "execution_count": 2,
   "id": "b35b0343-99e1-49b2-b8aa-af9354d81f70",
   "metadata": {},
   "outputs": [],
   "source": [
    "from typing import List, Tuple\n",
    "\n",
    "from ase import Atoms, neighborlist\n",
    "from ase.cluster import Cluster\n",
    "import numpy as np\n",
    "from ase.data import atomic_numbers\n",
    "\n",
    "\n",
    "def cluster2atoms(cluster: Cluster) -> Atoms:\n",
    "    \"\"\"Convert ASE Cluster to ASE Atoms\n",
    "\n",
    "    Args:\n",
    "        cluster (Cluster): input cluster instance\n",
    "\n",
    "    Returns:\n",
    "        atoms (Atoms): converted output, atoms instance\n",
    "    \"\"\"\n",
    "    return Atoms(cluster.symbols, cluster.positions, cell=cluster.cell)\n",
    "\n",
    "\n",
    "def calc_coordination_numbers(atoms: Atoms) -> Tuple[List[int], List[np.ndarray]]:\n",
    "    \"\"\"Calculates coordination number\n",
    "\n",
    "    Args:\n",
    "        atoms: input atoms\n",
    "\n",
    "    Returns:\n",
    "        cns (list): coordination number for each atom\n",
    "        bonds (list): bond destination indices for each atom\n",
    "    \"\"\"\n",
    "    nl = neighborlist.NeighborList(\n",
    "        neighborlist.natural_cutoffs(atoms), self_interaction=False, bothways=True\n",
    "    )\n",
    "    nl.update(atoms)\n",
    "    bonds = []\n",
    "    cns = []\n",
    "    for i, _ in enumerate(atoms):\n",
    "        indices, offsets = nl.get_neighbors(i)\n",
    "        bonds.append(indices)\n",
    "        cns.append(len(indices))\n",
    "    return cns, bonds\n",
    "\n",
    "\n",
    "def substitute(scaffold: Atoms, sites: np.ndarray, elements: List[str]) -> Atoms:\n",
    "    \"\"\"Substibute `elements` to `sites` indices of `scaffold` atoms\n",
    "\n",
    "    Args:\n",
    "        scaffold (Atoms): Original input atoms\n",
    "        sites (np.ndarray): site indices to substitute `elements`\n",
    "        elements (list): elements to be substituted\n",
    "\n",
    "    Returns:\n",
    "        substituted (Atoms): substituted ase atoms\n",
    "    \"\"\"\n",
    "    substituted = scaffold.copy()\n",
    "    for site, element in zip(sites, elements):\n",
    "        substituted.numbers[site] = atomic_numbers[element]\n",
    "    return substituted\n",
    "\n",
    "\n",
    "def make_core_shell(scaffold: Atoms, element: str) -> Atoms:\n",
    "    \"\"\"Make core shell structure\n",
    "\n",
    "    Input `scaffold` element is kept inside core shell,\n",
    "    and outside surface is replaced by `element`.\n",
    "\n",
    "    Note that it is not fully tested.\n",
    "    It was not guaranteed to work on all the cases.\n",
    "\n",
    "    Args:\n",
    "        scaffold (Atoms): input cluster structure\n",
    "        element (str): outside surface element to be replaced\n",
    "\n",
    "    Returns:\n",
    "        coreshell (Atoms): core shell structure\n",
    "    \"\"\"\n",
    "    # CN : vertex < edge < surface < core\n",
    "    cn = np.array(calc_coordination_numbers(scaffold)[0])\n",
    "    cn_set = np.unique(cn)\n",
    "    vertexes = None\n",
    "    surfaces = None\n",
    "    cores = None\n",
    "    if len(cn_set) == 1:\n",
    "        pass\n",
    "    elif len(cn_set) == 2:\n",
    "        cores = np.where(cn == cn_set[1])[0]\n",
    "        surfaces = np.where(cn == cn_set[0])[0]\n",
    "    elif len(cn_set) == 3 or len(cn_set) == 4:\n",
    "        cores = np.where(cn == cn_set[-1])[0]\n",
    "        surfaces = np.where(cn != cn_set[-1])[0]\n",
    "        vertexes = np.where(cn == cn_set[0])[0]\n",
    "    else:\n",
    "        cores = np.where(cn == cn_set[-1])[0]\n",
    "        surfaces = np.where(cn != cn_set[-1])[0]\n",
    "        vertexes = np.where(np.isin(cn, cn_set[:-3]))[0]\n",
    "\n",
    "    if surfaces is None:\n",
    "        core_shell = scaffold.copy()\n",
    "    else:\n",
    "        core_shell = substitute(scaffold, surfaces, [element] * len(surfaces))\n",
    "    return core_shell\n"
   ]
  },
  {
   "cell_type": "markdown",
   "id": "5ea4d38d-a005-4502-bbf9-4d4124b2f35e",
   "metadata": {},
   "source": [
    "まず今回ベースとなるNano particle 骨格構造(scaffold)を作成します。"
   ]
  },
  {
   "cell_type": "code",
   "execution_count": 5,
   "id": "55c88c08-3fe9-40b6-9043-78f92b012ad3",
   "metadata": {},
   "outputs": [
    {
     "data": {
      "application/vnd.jupyter.widget-view+json": {
       "model_id": "17c555ab764d4b409e6ce83b8746d765",
       "version_major": 2,
       "version_minor": 0
      },
      "text/plain": [
       "HBox(children=(NGLWidget(), VBox(children=(Dropdown(description='Show', options=('All', 'Pt'), value='All'), D…"
      ]
     },
     "metadata": {},
     "output_type": "display_data"
    }
   ],
   "source": [
    "Pt711 = cluster2atoms(Octahedron(\"Pt\", 11, cutoff=4))\n",
    "view_ngl(Pt711)"
   ]
  },
  {
   "cell_type": "markdown",
   "id": "82550e45-027c-41cb-95ca-b5e0d08846e3",
   "metadata": {},
   "source": [
    "`make_core_shell` 関数を用いて、ベース骨格の内殻のみ \"Pd\" 元素に置き換えた構造 Pd306Pt405構造を作成します。"
   ]
  },
  {
   "cell_type": "code",
   "execution_count": 6,
   "id": "330171a2-0833-494f-9b02-8f003d04fc59",
   "metadata": {},
   "outputs": [
    {
     "data": {
      "application/vnd.jupyter.widget-view+json": {
       "model_id": "8bc14fbb457646f88cef8fd20161a1d0",
       "version_major": 2,
       "version_minor": 0
      },
      "text/plain": [
       "HBox(children=(NGLWidget(), VBox(children=(Dropdown(description='Show', options=('All', 'Pt', 'Pd'), value='Al…"
      ]
     },
     "metadata": {},
     "output_type": "display_data"
    }
   ],
   "source": [
    "Pd306Pt405 = make_core_shell(Pt711, \"Pd\")\n",
    "view_ngl(Pd306Pt405)"
   ]
  },
  {
   "cell_type": "markdown",
   "id": "e21f4997-d6bf-4191-ae10-c99a81e75cda",
   "metadata": {},
   "source": [
    "同様にして、外殻がPd, 内殻がPtとなる構造Pd405Pt306を作成します。"
   ]
  },
  {
   "cell_type": "code",
   "execution_count": 7,
   "id": "f40ffc29-c04c-4311-b72f-07866d4b19a1",
   "metadata": {},
   "outputs": [
    {
     "data": {
      "application/vnd.jupyter.widget-view+json": {
       "model_id": "6b7825516068412988fe767a0ec3e433",
       "version_major": 2,
       "version_minor": 0
      },
      "text/plain": [
       "HBox(children=(NGLWidget(), VBox(children=(Dropdown(description='Show', options=('All', 'Pd', 'Pt'), value='Al…"
      ]
     },
     "metadata": {},
     "output_type": "display_data"
    }
   ],
   "source": [
    "Pd711 = Octahedron(\"Pd\", 11, cutoff=4)\n",
    "Pd405Pt306 = make_core_shell(Pd711, \"Pt\")\n",
    "view_ngl(Pd405Pt306)"
   ]
  },
  {
   "cell_type": "code",
   "execution_count": 8,
   "id": "7ef9ddca-7fa1-484f-bddb-426ecff2d6b6",
   "metadata": {},
   "outputs": [
    {
     "name": "stdout",
     "output_type": "stream",
     "text": [
      "Pd405Pt306 structure contains ['Pd' 'Pt'] with counts [405 306]\n",
      "Pd306Pt405 structure contains ['Pd' 'Pt'] with counts [306 405]\n"
     ]
    }
   ],
   "source": [
    "symbols, counts = np.unique(Pd405Pt306.symbols, return_counts=True)\n",
    "print(f\"Pd405Pt306 structure contains {symbols} with counts {counts}\", )\n",
    "\n",
    "symbols, counts = np.unique(Pd306Pt405.symbols, return_counts=True)\n",
    "print(f\"Pd306Pt405 structure contains {symbols} with counts {counts}\", )"
   ]
  },
  {
   "cell_type": "markdown",
   "id": "9d05d6f8-25a7-473c-a4b4-129d47adfadf",
   "metadata": {},
   "source": [
    "ここで得られたそれぞれの構造を構造緩和し、エネルギーを求めます。"
   ]
  },
  {
   "cell_type": "code",
   "execution_count": 9,
   "id": "b9492e73-a2e2-4f2b-bdde-068377671d25",
   "metadata": {},
   "outputs": [],
   "source": [
    "from ase.optimize import FIRE\n",
    "\n",
    "def get_opt_energy(atoms, fmax=0.001):    \n",
    "    opt = FIRE(atoms)\n",
    "    opt.run(fmax=fmax)\n",
    "    return atoms.get_total_energy()"
   ]
  },
  {
   "cell_type": "code",
   "execution_count": 10,
   "id": "76e73a50-242e-4b7b-8961-e6d27286a096",
   "metadata": {},
   "outputs": [
    {
     "name": "stdout",
     "output_type": "stream",
     "text": [
      "Optimizing Pt711\n",
      "      Step     Time          Energy         fmax\n",
      "*Force-consistent energies used in optimization.\n",
      "FIRE:    0 21:48:32    -3606.102285*       0.9110\n",
      "FIRE:    1 21:48:33    -3606.865790*       0.8629\n",
      "FIRE:    2 21:48:33    -3608.121073*       0.7681\n",
      "FIRE:    3 21:48:33    -3609.316469*       0.6533\n",
      "FIRE:    4 21:48:33    -3610.297430*       0.5368\n",
      "FIRE:    5 21:48:33    -3611.136663*       0.4232\n",
      "FIRE:    6 21:48:33    -3611.885560*       0.3152\n",
      "FIRE:    7 21:48:34    -3612.556241*       0.3143\n",
      "FIRE:    8 21:48:34    -3613.147630*       0.2875\n",
      "FIRE:    9 21:48:34    -3613.654483*       0.2383\n",
      "FIRE:   10 21:48:34    -3614.078352*       0.1688\n",
      "FIRE:   11 21:48:34    -3614.431057*       0.1769\n",
      "FIRE:   12 21:48:35    -3614.728201*       0.1871\n",
      "FIRE:   13 21:48:35    -3614.981377*       0.1713\n",
      "FIRE:   14 21:48:35    -3615.192996*       0.1451\n",
      "FIRE:   15 21:48:35    -3615.360896*       0.1064\n",
      "FIRE:   16 21:48:35    -3615.482822*       0.0878\n",
      "FIRE:   17 21:48:35    -3615.564295*       0.1415\n",
      "FIRE:   18 21:48:36    -3615.615075*       0.1596\n",
      "FIRE:   19 21:48:36    -3615.645287*       0.1342\n",
      "FIRE:   20 21:48:36    -3615.688821*       0.1127\n",
      "FIRE:   21 21:48:36    -3615.743192*       0.0854\n",
      "FIRE:   22 21:48:36    -3615.786360*       0.0565\n",
      "FIRE:   23 21:48:37    -3615.821958*       0.0671\n",
      "FIRE:   24 21:48:37    -3615.851361*       0.0760\n",
      "FIRE:   25 21:48:37    -3615.873768*       0.0706\n",
      "FIRE:   26 21:48:37    -3615.889397*       0.0439\n",
      "FIRE:   27 21:48:37    -3615.895890*       0.0383\n",
      "FIRE:   28 21:48:37    -3615.898193*       0.0322\n",
      "FIRE:   29 21:48:38    -3615.901821*       0.0267\n",
      "FIRE:   30 21:48:38    -3615.906060*       0.0280\n",
      "FIRE:   31 21:48:38    -3615.909755*       0.0310\n",
      "FIRE:   32 21:48:38    -3615.913501*       0.0307\n",
      "FIRE:   33 21:48:38    -3615.916549*       0.0257\n",
      "FIRE:   34 21:48:39    -3615.919200*       0.0204\n",
      "FIRE:   35 21:48:39    -3615.922066*       0.0193\n",
      "FIRE:   36 21:48:39    -3615.923937*       0.0169\n",
      "FIRE:   37 21:48:39    -3615.926056*       0.0167\n",
      "FIRE:   38 21:48:39    -3615.927368*       0.0160\n",
      "FIRE:   39 21:48:39    -3615.928106*       0.0181\n",
      "FIRE:   40 21:48:40    -3615.928264*       0.0175\n",
      "FIRE:   41 21:48:40    -3615.928773*       0.0164\n",
      "FIRE:   42 21:48:40    -3615.929193*       0.0147\n",
      "FIRE:   43 21:48:40    -3615.929548*       0.0125\n",
      "FIRE:   44 21:48:40    -3615.930267*       0.0104\n",
      "FIRE:   45 21:48:41    -3615.930679*       0.0094\n",
      "FIRE:   46 21:48:41    -3615.931037*       0.0085\n",
      "FIRE:   47 21:48:41    -3615.931532*       0.0080\n",
      "FIRE:   48 21:48:41    -3615.932174*       0.0081\n",
      "FIRE:   49 21:48:41    -3615.932627*       0.0069\n",
      "FIRE:   50 21:48:41    -3615.932846*       0.0071\n",
      "FIRE:   51 21:48:42    -3615.933285*       0.0055\n",
      "FIRE:   52 21:48:42    -3615.933377*       0.0055\n",
      "FIRE:   53 21:48:42    -3615.933719*       0.0054\n",
      "FIRE:   54 21:48:42    -3615.933961*       0.0053\n",
      "FIRE:   55 21:48:42    -3615.934046*       0.0051\n",
      "FIRE:   56 21:48:42    -3615.934434*       0.0065\n",
      "FIRE:   57 21:48:43    -3615.934331*       0.0059\n",
      "FIRE:   58 21:48:43    -3615.934507*       0.0055\n",
      "FIRE:   59 21:48:43    -3615.934571*       0.0048\n",
      "FIRE:   60 21:48:43    -3615.934475*       0.0038\n",
      "FIRE:   61 21:48:43    -3615.934728*       0.0026\n",
      "FIRE:   62 21:48:44    -3615.934612*       0.0020\n",
      "FIRE:   63 21:48:44    -3615.934632*       0.0020\n",
      "FIRE:   64 21:48:44    -3615.934679*       0.0017\n",
      "FIRE:   65 21:48:44    -3615.934824*       0.0016\n",
      "FIRE:   66 21:48:44    -3615.934575*       0.0015\n",
      "FIRE:   67 21:48:44    -3615.934770*       0.0014\n",
      "FIRE:   68 21:48:45    -3615.934592*       0.0013\n",
      "FIRE:   69 21:48:45    -3615.934573*       0.0011\n",
      "FIRE:   70 21:48:45    -3615.934787*       0.0010\n",
      "Optimizing Pd306Pt405\n",
      "      Step     Time          Energy         fmax\n",
      "*Force-consistent energies used in optimization.\n",
      "FIRE:    0 21:48:45    -3129.256882*       0.5529\n",
      "FIRE:    1 21:48:45    -3129.540038*       0.5226\n",
      "FIRE:    2 21:48:46    -3130.039576*       0.4626\n",
      "FIRE:    3 21:48:46    -3130.646179*       0.3756\n",
      "FIRE:    4 21:48:46    -3131.249648*       0.2685\n",
      "FIRE:    5 21:48:46    -3131.749327*       0.2084\n",
      "FIRE:    6 21:48:46    -3132.137401*       0.2225\n",
      "FIRE:    7 21:48:46    -3132.444877*       0.1856\n",
      "FIRE:    8 21:48:47    -3132.688267*       0.1450\n",
      "FIRE:    9 21:48:47    -3132.876233*       0.1887\n",
      "FIRE:   10 21:48:47    -3133.017478*       0.1821\n",
      "FIRE:   11 21:48:47    -3133.119091*       0.1220\n",
      "FIRE:   12 21:48:47    -3133.178467*       0.1022\n",
      "FIRE:   13 21:48:48    -3133.197631*       0.1040\n",
      "FIRE:   14 21:48:48    -3133.213625*       0.0953\n",
      "FIRE:   15 21:48:48    -3133.240602*       0.0805\n",
      "FIRE:   16 21:48:48    -3133.273090*       0.0800\n",
      "FIRE:   17 21:48:48    -3133.304438*       0.0784\n",
      "FIRE:   18 21:48:48    -3133.332504*       0.0749\n",
      "FIRE:   19 21:48:49    -3133.356972*       0.0678\n",
      "FIRE:   20 21:48:49    -3133.377414*       0.0583\n",
      "FIRE:   21 21:48:49    -3133.393917*       0.0479\n",
      "FIRE:   22 21:48:49    -3133.405465*       0.0427\n",
      "FIRE:   23 21:48:49    -3133.411904*       0.0387\n",
      "FIRE:   24 21:48:50    -3133.413364*       0.0366\n",
      "FIRE:   25 21:48:50    -3133.414590*       0.0352\n",
      "FIRE:   26 21:48:50    -3133.416271*       0.0323\n",
      "FIRE:   27 21:48:50    -3133.418627*       0.0283\n",
      "FIRE:   28 21:48:50    -3133.421736*       0.0237\n",
      "FIRE:   29 21:48:50    -3133.424655*       0.0205\n",
      "FIRE:   30 21:48:51    -3133.427570*       0.0214\n",
      "FIRE:   31 21:48:51    -3133.430259*       0.0223\n",
      "FIRE:   32 21:48:51    -3133.433280*       0.0217\n",
      "FIRE:   33 21:48:51    -3133.436028*       0.0188\n",
      "FIRE:   34 21:48:51    -3133.438228*       0.0126\n",
      "FIRE:   35 21:48:51    -3133.440354*       0.0121\n",
      "FIRE:   36 21:48:52    -3133.441556*       0.0136\n",
      "FIRE:   37 21:48:52    -3133.442592*       0.0161\n",
      "FIRE:   38 21:48:52    -3133.444071*       0.0186\n",
      "FIRE:   39 21:48:52    -3133.445544*       0.0174\n",
      "FIRE:   40 21:48:52    -3133.447511*       0.0168\n",
      "FIRE:   41 21:48:53    -3133.449744*       0.0153\n",
      "FIRE:   42 21:48:53    -3133.450873*       0.0115\n",
      "FIRE:   43 21:48:53    -3133.450548*       0.0084\n",
      "FIRE:   44 21:48:53    -3133.450765*       0.0085\n",
      "FIRE:   45 21:48:53    -3133.450940*       0.0084\n",
      "FIRE:   46 21:48:53    -3133.451218*       0.0080\n",
      "FIRE:   47 21:48:54    -3133.451200*       0.0070\n",
      "FIRE:   48 21:48:54    -3133.451389*       0.0050\n",
      "FIRE:   49 21:48:54    -3133.451746*       0.0032\n",
      "FIRE:   50 21:48:54    -3133.451478*       0.0029\n",
      "FIRE:   51 21:48:54    -3133.451563*       0.0043\n",
      "FIRE:   52 21:48:55    -3133.451595*       0.0042\n",
      "FIRE:   53 21:48:55    -3133.451723*       0.0039\n",
      "FIRE:   54 21:48:55    -3133.451979*       0.0036\n",
      "FIRE:   55 21:48:55    -3133.451773*       0.0031\n",
      "FIRE:   56 21:48:55    -3133.451699*       0.0026\n",
      "FIRE:   57 21:48:55    -3133.451761*       0.0021\n",
      "FIRE:   58 21:48:56    -3133.451747*       0.0018\n",
      "FIRE:   59 21:48:56    -3133.451690*       0.0013\n",
      "FIRE:   60 21:48:56    -3133.451987*       0.0013\n",
      "FIRE:   61 21:48:56    -3133.452160*       0.0011\n",
      "FIRE:   62 21:48:56    -3133.451976*       0.0010\n",
      "FIRE:   63 21:48:57    -3133.452066*       0.0012\n",
      "FIRE:   64 21:48:57    -3133.451938*       0.0013\n",
      "FIRE:   65 21:48:57    -3133.451833*       0.0014\n",
      "FIRE:   66 21:48:57    -3133.451761*       0.0013\n",
      "FIRE:   67 21:48:57    -3133.451927*       0.0011\n",
      "FIRE:   68 21:48:57    -3133.451864*       0.0011\n",
      "FIRE:   69 21:48:58    -3133.452190*       0.0007\n",
      "Optimizing Pd405Pt306\n",
      "      Step     Time          Energy         fmax\n",
      "*Force-consistent energies used in optimization.\n",
      "FIRE:    0 21:48:58    -2923.729963*       0.7553\n",
      "FIRE:    1 21:48:58    -2924.458021*       0.7206\n",
      "FIRE:    2 21:48:58    -2925.645575*       0.6523\n",
      "FIRE:    3 21:48:58    -2926.770537*       0.5661\n",
      "FIRE:    4 21:48:59    -2927.639800*       0.4759\n",
      "FIRE:    5 21:48:59    -2928.334402*       0.3806\n",
      "FIRE:    6 21:48:59    -2928.915426*       0.2871\n",
      "FIRE:    7 21:48:59    -2929.420336*       0.2379\n",
      "FIRE:    8 21:48:59    -2929.863715*       0.2103\n",
      "FIRE:    9 21:48:59    -2930.240778*       0.1907\n",
      "FIRE:   10 21:49:00    -2930.546910*       0.1608\n",
      "FIRE:   11 21:49:00    -2930.786023*       0.1449\n",
      "FIRE:   12 21:49:00    -2930.970292*       0.1379\n",
      "FIRE:   13 21:49:00    -2931.108844*       0.0998\n",
      "FIRE:   14 21:49:00    -2931.207400*       0.1226\n",
      "FIRE:   15 21:49:01    -2931.268405*       0.1388\n",
      "FIRE:   16 21:49:01    -2931.298966*       0.1161\n",
      "FIRE:   17 21:49:01    -2931.329073*       0.0979\n",
      "FIRE:   18 21:49:01    -2931.376457*       0.0700\n",
      "FIRE:   19 21:49:01    -2931.423449*       0.0642\n",
      "FIRE:   20 21:49:02    -2931.460030*       0.0628\n",
      "FIRE:   21 21:49:02    -2931.487701*       0.0792\n",
      "FIRE:   22 21:49:02    -2931.512654*       0.0829\n",
      "FIRE:   23 21:49:02    -2931.534522*       0.0717\n",
      "FIRE:   24 21:49:02    -2931.554489*       0.0613\n",
      "FIRE:   25 21:49:02    -2931.569518*       0.0537\n",
      "FIRE:   26 21:49:03    -2931.577213*       0.0438\n",
      "FIRE:   27 21:49:03    -2931.578945*       0.0415\n",
      "FIRE:   28 21:49:03    -2931.582006*       0.0393\n",
      "FIRE:   29 21:49:03    -2931.585958*       0.0359\n",
      "FIRE:   30 21:49:03    -2931.590067*       0.0317\n",
      "FIRE:   31 21:49:04    -2931.594016*       0.0266\n",
      "FIRE:   32 21:49:04    -2931.598335*       0.0228\n",
      "FIRE:   33 21:49:04    -2931.601550*       0.0197\n",
      "FIRE:   34 21:49:04    -2931.605272*       0.0163\n",
      "FIRE:   35 21:49:04    -2931.609177*       0.0159\n",
      "FIRE:   36 21:49:04    -2931.612387*       0.0145\n",
      "FIRE:   37 21:49:05    -2931.614434*       0.0116\n",
      "FIRE:   38 21:49:05    -2931.616266*       0.0124\n",
      "FIRE:   39 21:49:05    -2931.617887*       0.0138\n",
      "FIRE:   40 21:49:05    -2931.620032*       0.0136\n",
      "FIRE:   41 21:49:05    -2931.622556*       0.0154\n",
      "FIRE:   42 21:49:06    -2931.625321*       0.0136\n",
      "FIRE:   43 21:49:06    -2931.626969*       0.0118\n",
      "FIRE:   44 21:49:06    -2931.626782*       0.0095\n",
      "FIRE:   45 21:49:06    -2931.627044*       0.0082\n",
      "FIRE:   46 21:49:06    -2931.627141*       0.0069\n",
      "FIRE:   47 21:49:06    -2931.627421*       0.0053\n",
      "FIRE:   48 21:49:07    -2931.628001*       0.0040\n",
      "FIRE:   49 21:49:07    -2931.627804*       0.0048\n",
      "FIRE:   50 21:49:07    -2931.628147*       0.0048\n",
      "FIRE:   51 21:49:07    -2931.628086*       0.0035\n",
      "FIRE:   52 21:49:07    -2931.628428*       0.0032\n",
      "FIRE:   53 21:49:08    -2931.628214*       0.0034\n",
      "FIRE:   54 21:49:08    -2931.628309*       0.0033\n",
      "FIRE:   55 21:49:08    -2931.628382*       0.0030\n",
      "FIRE:   56 21:49:08    -2931.628437*       0.0026\n",
      "FIRE:   57 21:49:08    -2931.628520*       0.0022\n",
      "FIRE:   58 21:49:08    -2931.628452*       0.0018\n",
      "FIRE:   59 21:49:09    -2931.628500*       0.0015\n",
      "FIRE:   60 21:49:09    -2931.628633*       0.0017\n",
      "FIRE:   61 21:49:09    -2931.628568*       0.0019\n",
      "FIRE:   62 21:49:09    -2931.628528*       0.0017\n",
      "FIRE:   63 21:49:09    -2931.628448*       0.0012\n",
      "FIRE:   64 21:49:10    -2931.628540*       0.0011\n",
      "FIRE:   65 21:49:10    -2931.628469*       0.0014\n",
      "FIRE:   66 21:49:10    -2931.628475*       0.0018\n",
      "FIRE:   67 21:49:10    -2931.628412*       0.0018\n",
      "FIRE:   68 21:49:10    -2931.628461*       0.0018\n",
      "FIRE:   69 21:49:10    -2931.628468*       0.0014\n",
      "FIRE:   70 21:49:11    -2931.628606*       0.0014\n",
      "FIRE:   71 21:49:11    -2931.628600*       0.0008\n",
      "Optimizing Pd711\n",
      "      Step     Time          Energy         fmax\n",
      "*Force-consistent energies used in optimization.\n",
      "FIRE:    0 21:49:11    -2419.284212*       0.3462\n",
      "FIRE:    1 21:49:11    -2419.479431*       0.3300\n",
      "FIRE:    2 21:49:11    -2419.814431*       0.2982\n",
      "FIRE:    3 21:49:12    -2420.206508*       0.2524\n",
      "FIRE:    4 21:49:12    -2420.584330*       0.1957\n",
      "FIRE:    5 21:49:12    -2420.914096*       0.1598\n",
      "FIRE:    6 21:49:12    -2421.193660*       0.1694\n",
      "FIRE:    7 21:49:12    -2421.427845*       0.1549\n",
      "FIRE:    8 21:49:12    -2421.621911*       0.1176\n",
      "FIRE:    9 21:49:13    -2421.765457*       0.1128\n",
      "FIRE:   10 21:49:13    -2421.865331*       0.1198\n",
      "FIRE:   11 21:49:13    -2421.932288*       0.0930\n",
      "FIRE:   12 21:49:13    -2421.972913*       0.1085\n",
      "FIRE:   13 21:49:13    -2421.982875*       0.1032\n",
      "FIRE:   14 21:49:14    -2422.001294*       0.0929\n",
      "FIRE:   15 21:49:14    -2422.024974*       0.0786\n",
      "FIRE:   16 21:49:14    -2422.051029*       0.0609\n",
      "FIRE:   17 21:49:14    -2422.075750*       0.0571\n",
      "FIRE:   18 21:49:14    -2422.097763*       0.0535\n",
      "FIRE:   19 21:49:14    -2422.116184*       0.0479\n",
      "FIRE:   20 21:49:15    -2422.132889*       0.0511\n",
      "FIRE:   21 21:49:15    -2422.146876*       0.0474\n",
      "FIRE:   22 21:49:15    -2422.157237*       0.0368\n",
      "FIRE:   23 21:49:15    -2422.162165*       0.0335\n",
      "FIRE:   24 21:49:15    -2422.162498*       0.0326\n",
      "FIRE:   25 21:49:16    -2422.163642*       0.0310\n",
      "FIRE:   26 21:49:16    -2422.165300*       0.0286\n",
      "FIRE:   27 21:49:16    -2422.167102*       0.0263\n",
      "FIRE:   28 21:49:16    -2422.169365*       0.0244\n",
      "FIRE:   29 21:49:16    -2422.171507*       0.0223\n",
      "FIRE:   30 21:49:16    -2422.173683*       0.0199\n",
      "FIRE:   31 21:49:17    -2422.176315*       0.0172\n",
      "FIRE:   32 21:49:17    -2422.178887*       0.0167\n",
      "FIRE:   33 21:49:17    -2422.181684*       0.0164\n",
      "FIRE:   34 21:49:17    -2422.184027*       0.0156\n",
      "FIRE:   35 21:49:17    -2422.186449*       0.0141\n",
      "FIRE:   36 21:49:18    -2422.188820*       0.0142\n",
      "FIRE:   37 21:49:18    -2422.191079*       0.0177\n",
      "FIRE:   38 21:49:18    -2422.193962*       0.0184\n",
      "FIRE:   39 21:49:18    -2422.197159*       0.0158\n",
      "FIRE:   40 21:49:18    -2422.199955*       0.0125\n",
      "FIRE:   41 21:49:18    -2422.202646*       0.0088\n",
      "FIRE:   42 21:49:19    -2422.204217*       0.0060\n",
      "FIRE:   43 21:49:19    -2422.204043*       0.0098\n",
      "FIRE:   44 21:49:19    -2422.204159*       0.0092\n",
      "FIRE:   45 21:49:19    -2422.204314*       0.0081\n",
      "FIRE:   46 21:49:19    -2422.204425*       0.0065\n",
      "FIRE:   47 21:49:20    -2422.204527*       0.0048\n",
      "FIRE:   48 21:49:20    -2422.204623*       0.0034\n",
      "FIRE:   49 21:49:20    -2422.204616*       0.0025\n",
      "FIRE:   50 21:49:20    -2422.204806*       0.0022\n",
      "FIRE:   51 21:49:20    -2422.204972*       0.0023\n",
      "FIRE:   52 21:49:20    -2422.204910*       0.0023\n",
      "FIRE:   53 21:49:21    -2422.204980*       0.0022\n",
      "FIRE:   54 21:49:21    -2422.204930*       0.0021\n",
      "FIRE:   55 21:49:21    -2422.204918*       0.0019\n",
      "FIRE:   56 21:49:21    -2422.204988*       0.0017\n",
      "FIRE:   57 21:49:21    -2422.204910*       0.0015\n",
      "FIRE:   58 21:49:22    -2422.204962*       0.0014\n",
      "FIRE:   59 21:49:22    -2422.204995*       0.0012\n",
      "FIRE:   60 21:49:22    -2422.205019*       0.0010\n",
      "FIRE:   61 21:49:22    -2422.204886*       0.0008\n"
     ]
    }
   ],
   "source": [
    "print(\"Optimizing Pt711\")\n",
    "Pt711.calc = calculator\n",
    "E_pt711 = get_opt_energy(Pt711)\n",
    "\n",
    "print(\"Optimizing Pd306Pt405\")\n",
    "Pd306Pt405.calc = calculator\n",
    "E_pd306pt405 = get_opt_energy(Pd306Pt405)\n",
    "\n",
    "print(\"Optimizing Pd405Pt306\")\n",
    "Pd405Pt306.calc = calculator\n",
    "E_pd405pt306 = get_opt_energy(Pd405Pt306)\n",
    "\n",
    "print(\"Optimizing Pd711\")\n",
    "Pd711.calc = calculator\n",
    "E_pd711 = get_opt_energy(Pd711)"
   ]
  },
  {
   "cell_type": "markdown",
   "id": "5a229955-8e3d-4f7d-992a-cb21c48e1a2e",
   "metadata": {},
   "source": [
    "それぞれのエネルギーが得られたので、ここからexcess energyを計算することができます。"
   ]
  },
  {
   "cell_type": "code",
   "execution_count": 11,
   "id": "15595dfe-28cd-4a43-8467-858ebb9af9ff",
   "metadata": {},
   "outputs": [
    {
     "name": "stdout",
     "output_type": "stream",
     "text": [
      "Excess energy of Pd306Pt405 = -43.99 meV\n",
      "Excess energy of Pd405Pt306 = 6.09 meV\n"
     ]
    }
   ],
   "source": [
    "E_exess_pd306pt405 = (E_pd306pt405 - 306 / 711 * E_pd711 - 405 / 711 * E_pt711) / 711\n",
    "E_exess_pd405pt306 = (E_pd405pt306 - 405 / 711 * E_pd711 - 306 / 711 * E_pt711) / 711\n",
    "\n",
    "print(f\"Excess energy of Pd306Pt405 = {E_exess_pd306pt405 * 1000:.2f} meV\")\n",
    "print(f\"Excess energy of Pd405Pt306 = {E_exess_pd405pt306 * 1000:.2f} meV\")"
   ]
  },
  {
   "cell_type": "markdown",
   "id": "845dfff3-975e-4769-bec6-730e1713686e",
   "metadata": {},
   "source": [
    "Excess energyが負となっているPd306Pt405は単独でPd, Pt nano particleが存在するよりも混合したほうが安定であるということを示唆しています。<br/>\n",
    "一方で正となっているPd405Pt306の構造はPd306Pt405と比べると不安定であることになります。\n",
    "\n",
    "この結果から、**PdとPtの合金微粒子では、Pdが外殻に来るような構造が自然界では安定して存在しそう**だという考察ができます。"
   ]
  },
  {
   "cell_type": "markdown",
   "id": "6da053a0-71ba-4150-b58e-9f9c83f9481b",
   "metadata": {},
   "source": [
    "最後に、Pt306個、Pd405個がランダムに配置されたような構造のexcess energyを求めてみましょう。"
   ]
  },
  {
   "cell_type": "code",
   "execution_count": 12,
   "id": "3316d745-4a53-4a8d-b3c7-2715c09f7476",
   "metadata": {},
   "outputs": [
    {
     "name": "stdout",
     "output_type": "stream",
     "text": [
      "Replaced to Pd with indices [652 657 363 485 309 188   9 333 704 122 600 710 642 294 685 571 470 278\n",
      " 402 166 537 298 421  29  83 367 591 607 695  65 500 193 106 560 280 207\n",
      " 303 644  24 461 471 214 674  78  28  79 551 307 117 409 290 589 524 450\n",
      " 434 486 590 203  93 419  53  35 563  43 382 137 445 475 632  16 250 483\n",
      " 541 319 584 572 324  44 634 476 221  30 348 408 631 709 379 366 533 233\n",
      "  50 526 390 480 599 128 257 301 677 243 597 416 261 136  11 187 413  85\n",
      " 239 621 364 354 102 352 116 399  27 418 329  10 115 263 435 543  76 655\n",
      " 545 215 336 698 238 430  63 218 463 103 316 624   2 135 613  97 146 225\n",
      " 235 283 469 694 598 232 267 561  32 312 433 164 105  98 183 466 335 481\n",
      " 345 330  60 665 568 299 282 148 190 596 237 443  89 328 498  14 227 623\n",
      " 369 111  25 100 455 630 265 423  37 605 706 251 268 373 609  17 636 109\n",
      " 699 691 260 611 398 242 275 557 649 184 244 446 191 515 458  41  18 121\n",
      " 502 675  86   4 507 236 570 223 229 610 180 161 606 532 130 284 647 264\n",
      " 241 410 546 479 403  21 438 125  15 663 114 641 629 679 576 406 342 562\n",
      "  46 511 658  22 701 153 660 139  73   1 305 518 368 343 669 300  61 247\n",
      " 295 201 165 525 339 357  90 217 491 412  94 313 255 194 603 289 506 169\n",
      " 186 185 219 394 127   5 558 351  34 158 380 259 683 149 252 123 646 495\n",
      " 464 285 473 517 592 337 208 620  47  68 107 323 258 377  82  96  52 168\n",
      " 197  75 580 365 452 457 353 539 411 625 513 662 179 154 616 447 374 206\n",
      " 666  12  88 519 384 273 432 638 392 465 622 359 129 529 628 414 449 703\n",
      " 604 548  92  20 349 350 230   6   7 108 656  81 249 147 320 306 279 276\n",
      " 577 322 151  67 195 173  19 564 220 370 428  77  58 456 167 417 226 503\n",
      " 181 270 360 286 388  87 231  51 204]\n"
     ]
    },
    {
     "data": {
      "application/vnd.jupyter.widget-view+json": {
       "model_id": "fe739c754b224cb68e27e2c5473439c3",
       "version_major": 2,
       "version_minor": 0
      },
      "text/plain": [
       "HBox(children=(NGLWidget(), VBox(children=(Dropdown(description='Show', options=('All', 'Pd', 'Pt'), value='Al…"
      ]
     },
     "metadata": {},
     "output_type": "display_data"
    }
   ],
   "source": [
    "Pd405Pt306_random = Pt711.copy()\n",
    "# randomly choose 405 atoms to be replaced to Pd\n",
    "pd_indices = np.random.choice(np.arange(711), 405, replace=False)\n",
    "Pd405Pt306_random.numbers[pd_indices] = atomic_numbers[\"Pd\"]\n",
    "\n",
    "print(f\"Replaced to Pd with indices {pd_indices}\")\n",
    "view_ngl(Pd405Pt306_random)"
   ]
  },
  {
   "cell_type": "code",
   "execution_count": 13,
   "id": "633e53d9-ebe4-4c5a-8451-e0071228fda7",
   "metadata": {},
   "outputs": [
    {
     "name": "stdout",
     "output_type": "stream",
     "text": [
      "Optimizing Pd405Pt306_random\n",
      "      Step     Time          Energy         fmax\n",
      "*Force-consistent energies used in optimization.\n",
      "FIRE:    0 21:49:23    -2950.187405*       0.8687\n",
      "FIRE:    1 21:49:23    -2950.643686*       0.8310\n",
      "FIRE:    2 21:49:23    -2951.433609*       0.7527\n",
      "FIRE:    3 21:49:23    -2952.356431*       0.6270\n",
      "FIRE:    4 21:49:23    -2953.113809*       0.4732\n",
      "FIRE:    5 21:49:24    -2953.679682*       0.3261\n",
      "FIRE:    6 21:49:24    -2954.101570*       0.3327\n",
      "FIRE:    7 21:49:24    -2954.420094*       0.2938\n",
      "FIRE:    8 21:49:24    -2954.662627*       0.2436\n",
      "FIRE:    9 21:49:24    -2954.840300*       0.2691\n",
      "FIRE:   10 21:49:24    -2954.961254*       0.2784\n",
      "FIRE:   11 21:49:25    -2955.044162*       0.2627\n",
      "FIRE:   12 21:49:25    -2955.114441*       0.2009\n",
      "FIRE:   13 21:49:25    -2955.186543*       0.2072\n",
      "FIRE:   14 21:49:25    -2955.257837*       0.2118\n",
      "FIRE:   15 21:49:25    -2955.321873*       0.1743\n",
      "FIRE:   16 21:49:26    -2955.374468*       0.1670\n",
      "FIRE:   17 21:49:26    -2955.414345*       0.1489\n",
      "FIRE:   18 21:49:26    -2955.477416*       0.1168\n",
      "FIRE:   19 21:49:26    -2955.541047*       0.0912\n",
      "FIRE:   20 21:49:26    -2955.590719*       0.1014\n",
      "FIRE:   21 21:49:26    -2955.625367*       0.0913\n",
      "FIRE:   22 21:49:27    -2955.649511*       0.0807\n",
      "FIRE:   23 21:49:27    -2955.665071*       0.0759\n",
      "FIRE:   24 21:49:27    -2955.672088*       0.0610\n",
      "FIRE:   25 21:49:27    -2955.673800*       0.0578\n",
      "FIRE:   26 21:49:27    -2955.676997*       0.0518\n",
      "FIRE:   27 21:49:28    -2955.681163*       0.0463\n",
      "FIRE:   28 21:49:28    -2955.685855*       0.0395\n",
      "FIRE:   29 21:49:28    -2955.690401*       0.0316\n",
      "FIRE:   30 21:49:28    -2955.694349*       0.0279\n",
      "FIRE:   31 21:49:28    -2955.697531*       0.0245\n",
      "FIRE:   32 21:49:28    -2955.699909*       0.0202\n",
      "FIRE:   33 21:49:29    -2955.701521*       0.0208\n",
      "FIRE:   34 21:49:29    -2955.702388*       0.0248\n",
      "FIRE:   35 21:49:29    -2955.702900*       0.0253\n",
      "FIRE:   36 21:49:29    -2955.703104*       0.0249\n",
      "FIRE:   37 21:49:29    -2955.703379*       0.0241\n",
      "FIRE:   38 21:49:30    -2955.703803*       0.0229\n",
      "FIRE:   39 21:49:30    -2955.704337*       0.0213\n",
      "FIRE:   40 21:49:30    -2955.704894*       0.0194\n",
      "FIRE:   41 21:49:30    -2955.705531*       0.0172\n",
      "FIRE:   42 21:49:30    -2955.706094*       0.0154\n",
      "FIRE:   43 21:49:30    -2955.706740*       0.0132\n",
      "FIRE:   44 21:49:31    -2955.707390*       0.0107\n",
      "FIRE:   45 21:49:31    -2955.707942*       0.0093\n",
      "FIRE:   46 21:49:31    -2955.708503*       0.0086\n",
      "FIRE:   47 21:49:31    -2955.708925*       0.0104\n",
      "FIRE:   48 21:49:31    -2955.709337*       0.0125\n",
      "FIRE:   49 21:49:32    -2955.709990*       0.0135\n",
      "FIRE:   50 21:49:32    -2955.710725*       0.0131\n",
      "FIRE:   51 21:49:32    -2955.711770*       0.0110\n",
      "FIRE:   52 21:49:32    -2955.712807*       0.0083\n",
      "FIRE:   53 21:49:32    -2955.713777*       0.0055\n",
      "FIRE:   54 21:49:32    -2955.714436*       0.0074\n",
      "FIRE:   55 21:49:33    -2955.714916*       0.0091\n",
      "FIRE:   56 21:49:33    -2955.715407*       0.0073\n",
      "FIRE:   57 21:49:33    -2955.715683*       0.0052\n",
      "FIRE:   58 21:49:33    -2955.715665*       0.0059\n",
      "FIRE:   59 21:49:33    -2955.715751*       0.0054\n",
      "FIRE:   60 21:49:34    -2955.715807*       0.0046\n",
      "FIRE:   61 21:49:34    -2955.715923*       0.0034\n",
      "FIRE:   62 21:49:34    -2955.715957*       0.0029\n",
      "FIRE:   63 21:49:34    -2955.716050*       0.0025\n",
      "FIRE:   64 21:49:34    -2955.716072*       0.0032\n",
      "FIRE:   65 21:49:34    -2955.716156*       0.0037\n",
      "FIRE:   66 21:49:35    -2955.716260*       0.0036\n",
      "FIRE:   67 21:49:35    -2955.716307*       0.0029\n",
      "FIRE:   68 21:49:35    -2955.716405*       0.0021\n",
      "FIRE:   69 21:49:35    -2955.716467*       0.0023\n",
      "FIRE:   70 21:49:35    -2955.716559*       0.0027\n",
      "FIRE:   71 21:49:36    -2955.716662*       0.0020\n",
      "FIRE:   72 21:49:36    -2955.716708*       0.0015\n",
      "FIRE:   73 21:49:36    -2955.716782*       0.0021\n",
      "FIRE:   74 21:49:36    -2955.716789*       0.0020\n",
      "FIRE:   75 21:49:36    -2955.716830*       0.0015\n",
      "FIRE:   76 21:49:37    -2955.716893*       0.0019\n",
      "FIRE:   77 21:49:37    -2955.716900*       0.0016\n",
      "FIRE:   78 21:49:37    -2955.716932*       0.0012\n",
      "FIRE:   79 21:49:37    -2955.716934*       0.0011\n",
      "FIRE:   80 21:49:37    -2955.716918*       0.0011\n",
      "FIRE:   81 21:49:37    -2955.716992*       0.0013\n",
      "FIRE:   82 21:49:38    -2955.716956*       0.0013\n",
      "FIRE:   83 21:49:38    -2955.716964*       0.0009\n"
     ]
    }
   ],
   "source": [
    "print(\"Optimizing Pd405Pt306_random\")\n",
    "Pd405Pt306_random.calc = calculator\n",
    "E_pd405pt306_random = get_opt_energy(Pd405Pt306_random)"
   ]
  },
  {
   "cell_type": "code",
   "execution_count": 14,
   "id": "4096ccbe-c1fc-4bcb-90dc-ac91d8f0b43d",
   "metadata": {},
   "outputs": [
    {
     "data": {
      "application/vnd.jupyter.widget-view+json": {
       "model_id": "fd4b0f51a89d48ffb032994af77924b5",
       "version_major": 2,
       "version_minor": 0
      },
      "text/plain": [
       "HBox(children=(NGLWidget(), VBox(children=(Dropdown(description='Show', options=('All', 'Pd', 'Pt'), value='Al…"
      ]
     },
     "metadata": {},
     "output_type": "display_data"
    }
   ],
   "source": [
    "view_ngl(Pd405Pt306_random)"
   ]
  },
  {
   "cell_type": "code",
   "execution_count": 15,
   "id": "a4baf5cc-348d-4a36-8e98-65e867ed9a0a",
   "metadata": {},
   "outputs": [
    {
     "name": "stdout",
     "output_type": "stream",
     "text": [
      "Excess energy of Pd306Pt405 random = -27.78 meV\n"
     ]
    }
   ],
   "source": [
    "E_exess_pd405pt306_random = (E_pd405pt306_random - 405 / 711 * E_pd711 - 306 / 711 * E_pt711) / 711\n",
    "\n",
    "print(f\"Excess energy of Pd306Pt405 random = {E_exess_pd405pt306_random * 1000:.2f} meV\")"
   ]
  },
  {
   "cell_type": "markdown",
   "id": "6931969b-fe0a-4336-9575-7122a1dbded9",
   "metadata": {},
   "source": [
    "この場合も負のexcess energyが得られ、この構造が安定になりうるという結果が得られました。\n",
    "\n",
    "今回は完全にランダムな配置を行って構造を作成しましたが、実際は物質が混ざる場合には局所的にパターンを取ることでより安定な構造となる可能性もあります。\n",
    "こういった分析を進める場合はモンテカルロ法を用いて配置パターンを最適化するということがよく行われますがここでは省略します。<br/>\n",
    "（モンテカルロ法の説明及びその実例については将来後述されるかもしれません。）"
   ]
  },
  {
   "cell_type": "markdown",
   "id": "d8df60c7-bc5f-4cb5-9b54-98ab62ccf327",
   "metadata": {},
   "source": [
    "このように、様々な構造を作成し、そのexcess energyを計算することで合金の安定構造がどのようになるかを解析する事ができます。"
   ]
  },
  {
   "cell_type": "markdown",
   "id": "64c47deb-47bf-401f-8327-bfa276d1018a",
   "metadata": {},
   "source": [
    "## 担体上への微粒子吸着構造作成\n",
    "\n"
   ]
  },
  {
   "cell_type": "markdown",
   "id": "da926498-63c1-4240-9501-1875edfcc571",
   "metadata": {},
   "source": [
    "本チュートリアルでは、担体上に微粒子をおいたモデリングの簡単な計算事例を紹介するにとどめ、この構造の現実での妥当性検証までは行いません。"
   ]
  },
  {
   "cell_type": "markdown",
   "id": "af1c9499-1204-4f7a-8c4e-22ab155fa8dd",
   "metadata": {},
   "source": [
    "ここでは、担持貴金属担体としてSnO2を、Nano particleとしてはPt を用いて、担体上へPt Nano particleを乗せた構造を作成してみます。\n",
    "\n",
    " - [The effect of SnO2(110) supports on the geometrical and electronic properties of platinum nanoparticles](https://link.springer.com/article/10.1007/s42452-019-1478-0)\n",
    " - [Calculations of Real-System Nanoparticles Using Universal Neural Network Potential PFP](https://arxiv.org/abs/2107.00963)"
   ]
  },
  {
   "cell_type": "code",
   "execution_count": 16,
   "id": "dfc34985-2994-4efb-ab5f-3a0f97682942",
   "metadata": {},
   "outputs": [
    {
     "data": {
      "application/vnd.jupyter.widget-view+json": {
       "model_id": "6d8c99825b844c34b61fd123e2e65e5d",
       "version_major": 2,
       "version_minor": 0
      },
      "text/plain": [
       "HBox(children=(NGLWidget(), VBox(children=(Dropdown(description='Show', options=('All', 'O', 'Sn'), value='All…"
      ]
     },
     "metadata": {},
     "output_type": "display_data"
    }
   ],
   "source": [
    "# bulk, support material\n",
    "from ase.io import read\n",
    "SnO2 = read(\"../input/SnO2_mp-856_conventional_standard.cif\")\n",
    "view_ngl(SnO2, representations=[\"ball+stick\"])"
   ]
  },
  {
   "cell_type": "markdown",
   "id": "5fed9ca8-33bb-4470-91be-39df03040848",
   "metadata": {},
   "source": [
    "ここではSlab構造の作成(Bulkからの特定ミラー面の切り出し)にpymatgenの `SlabGenerator` を用いています。<br/>\n",
    "これは`SlabGenerator` のinstance化をする際の初期化パラメータとして作りたいSlab構造のパラメータを指定し、<br/>\n",
    "`get_slabs` 関数を呼ぶことで指定された初期化パラメータにマッチするSlab構造が列挙されて得られます。\n",
    "\n",
    " - [pymatgen document](https://pymatgen.org/pymatgen.core.surface.html#pymatgen.core.surface.SlabGenerator)\n",
    "\n",
    "詳しくは、以下のMaterials Project Workshopでも紹介されています。\n",
    "\n",
    " - [Working with Surfaces and Interfaces - The Materials Project Workshop](https://workshop.materialsproject.org/lessons/03_heterointerfaces/Main%20Lesson/)"
   ]
  },
  {
   "cell_type": "code",
   "execution_count": 17,
   "id": "0f189743-4631-482c-b73d-c64fa1cf5e56",
   "metadata": {},
   "outputs": [],
   "source": [
    "# Generate slab\n",
    "from ase.build import make_supercell\n",
    "import numpy as np\n",
    "from pymatgen.core.surface import SlabGenerator\n",
    "from pymatgen.io.ase import AseAtomsAdaptor\n",
    "\n",
    "\n",
    "slab_gen = SlabGenerator(\n",
    "    initial_structure=AseAtomsAdaptor.get_structure(SnO2),\n",
    "    miller_index=[1,1,0],\n",
    "    min_slab_size=5.0, # ここで層の出方が変わる\n",
    "    min_vacuum_size=15.0, # nanoparticleを載せるので大きめに\n",
    "    lll_reduce=False,\n",
    "    center_slab=True,\n",
    "    primitive=True,\n",
    "    max_normal_search=1,\n",
    ")\n",
    "slabs = slab_gen.get_slabs(tol=0.3, bonds=None, max_broken_bonds=0, symmetrize=False)"
   ]
  },
  {
   "cell_type": "markdown",
   "id": "e7275df7-abc6-4907-9b54-3ab9da6fc75a",
   "metadata": {},
   "source": [
    "得られた `slabs` はpymatgenのinstanceです。これは、`AseAtomsAdaptor` を用いてASEのAtoms instanceに変換することができます。\n",
    "\n",
    "得られた構造をASE Atomsに変換して、可視化してみます。"
   ]
  },
  {
   "cell_type": "code",
   "execution_count": 18,
   "id": "8bf054c8-b66e-4c77-b9d7-4405ef45340b",
   "metadata": {},
   "outputs": [
    {
     "data": {
      "application/vnd.jupyter.widget-view+json": {
       "model_id": "a63fcb8c72fb47b4bdfb3354ff6f2a8d",
       "version_major": 2,
       "version_minor": 0
      },
      "text/plain": [
       "HBox(children=(NGLWidget(max_frame=1), VBox(children=(Dropdown(description='Show', options=('All', 'O', 'Sn'),…"
      ]
     },
     "metadata": {},
     "output_type": "display_data"
    }
   ],
   "source": [
    "slab_atoms_list = [AseAtomsAdaptor.get_atoms(slab) for slab in slabs]\n",
    "view_ngl(slab_atoms_list, representations=[\"ball+stick\"])"
   ]
  },
  {
   "cell_type": "markdown",
   "id": "3516d39a-1179-4659-9e36-d10bc44fe3f8",
   "metadata": {},
   "source": [
    "２つの構造が得られました。\n",
    "\n",
    "以降では2つ目の構造を使用して、Slabを作成していきます。\n",
    "\n",
    "ASEでsupercellを作成した後、"
   ]
  },
  {
   "cell_type": "code",
   "execution_count": 19,
   "id": "cfa67e8e-ed2b-42d6-b4e5-030e52ed792f",
   "metadata": {},
   "outputs": [],
   "source": [
    "slab = slab_atoms_list[1].copy()\n",
    "\n",
    "# make supercell: expand to xy-plane\n",
    "#slab = make_supercell(slab, [[4, 0, 0], [0, 2, 0], [0, 0, 1]])  # this is same with below.\n",
    "slab = slab * (4, 2, 1)\n",
    "\n",
    "# shift `slab` to bottom of cell\n",
    "min_pos_z = np.min(slab.positions, axis=0)[2]\n",
    "slab.set_positions(slab.positions - [0, 0, min_pos_z])"
   ]
  },
  {
   "cell_type": "code",
   "execution_count": 20,
   "id": "d3dd9896-3695-4a8c-b708-715ff818f596",
   "metadata": {},
   "outputs": [
    {
     "data": {
      "application/vnd.jupyter.widget-view+json": {
       "model_id": "2bdde644b75c4db098d9102311cd7a83",
       "version_major": 2,
       "version_minor": 0
      },
      "text/plain": [
       "HBox(children=(NGLWidget(), VBox(children=(Dropdown(description='Show', options=('All', 'O', 'Sn'), value='All…"
      ]
     },
     "metadata": {},
     "output_type": "display_data"
    }
   ],
   "source": [
    "view_ngl(slab, representations=[\"ball+stick\"], replace_structure=True)"
   ]
  },
  {
   "cell_type": "markdown",
   "id": "6ed3aa7a-a612-46df-a688-5735c737144f",
   "metadata": {},
   "source": [
    "担体のSlab構造を作成することができました。\n",
    "\n",
    "次にこの担体上に乗せるNano particle clusterを作成します。"
   ]
  },
  {
   "cell_type": "code",
   "execution_count": 21,
   "id": "6d592569-6e1d-4596-a80e-d5470a3efce7",
   "metadata": {},
   "outputs": [],
   "source": [
    "Pt55 = Octahedron(\"Pt\", 5, cutoff=2)\n",
    "\n",
    "# cut cluster to make half-sphere\n",
    "cluster = Pt55.copy()\n",
    "# Rotate cluster to make triangle surface comes to top.\n",
    "cluster.rotate([0, 0, 1], [1, 1, 1], center=cluster.get_center_of_mass())\n",
    "# Cut bottom 2 layers\n",
    "for _ in range(2):\n",
    "    target = np.round(cluster.positions, decimals=0)\n",
    "    del cluster[np.where(target[:,2]==np.min(target[:,2]))[0]]"
   ]
  },
  {
   "cell_type": "code",
   "execution_count": 22,
   "id": "ba2f0a1b-25a9-48f4-a229-da44488c9326",
   "metadata": {},
   "outputs": [
    {
     "data": {
      "application/vnd.jupyter.widget-view+json": {
       "model_id": "3f976bc304a04ee4964168b148d08589",
       "version_major": 2,
       "version_minor": 0
      },
      "text/plain": [
       "HBox(children=(NGLWidget(), VBox(children=(Dropdown(description='Show', options=('All', 'Pt'), value='All'), D…"
      ]
     },
     "metadata": {},
     "output_type": "display_data"
    }
   ],
   "source": [
    "view_ngl(cluster, representations=[\"ball+stick\"])"
   ]
  },
  {
   "cell_type": "markdown",
   "id": "5431cd57-eeb1-43ae-98f8-3b258ef1ced1",
   "metadata": {},
   "source": [
    "Nano particle clusterを担体の上に乗せましょう。\n",
    "\n",
    "ここでは、プログラムを書いて担体真ん中の上にNano particleを乗せていますが、\n",
    "5章で紹介する`SurfaceEditor`を用いると、InteractiveにNano particleを移動させて初期構造を作成することも可能です。"
   ]
  },
  {
   "cell_type": "code",
   "execution_count": 23,
   "id": "f527ccdd-55d6-4ce6-95df-6ecfb72d52a0",
   "metadata": {},
   "outputs": [
    {
     "name": "stdout",
     "output_type": "stream",
     "text": [
      "i=1\n",
      "i=2\n"
     ]
    }
   ],
   "source": [
    "from ase.data import atomic_numbers, chemical_symbols, covalent_radii\n",
    "\n",
    "\n",
    "# Put Pt37 on top of SnO2. Both perpendincular lines goes z-axis.\n",
    "slab_xy_size = np.min(slab.cell.cellpar()[0:2])\n",
    "cluster_xy_size = np.max(\n",
    "    (np.max(cluster.positions, axis=0) - np.min(cluster.positions, axis=0))[0:2]\n",
    ")\n",
    "# Vacuum size\n",
    "min_slab_xy_size = cluster_xy_size + 15\n",
    "for i in range(1, 5):\n",
    "    print(f\"i={i}\")\n",
    "    if slab_xy_size * i < min_slab_xy_size:\n",
    "        pass\n",
    "    else:\n",
    "        slab_sc = make_supercell(slab, [[i, 0, 0], [0, i, 0], [0, 0, 1]])\n",
    "        break\n",
    "slab_surface_xy_center = np.append(\n",
    "    slab_sc.cell.cellpar()[0:2] / 2, np.max(slab_sc.positions, axis=0)[2]\n",
    ")\n",
    "cluster_surface_xy_center = np.append(\n",
    "    np.mean(cluster.positions, axis=0)[0:2], np.min(cluster.positions, axis=0)[2]\n",
    ")\n",
    "cluster = Atoms(cluster.get_chemical_symbols(), cluster.positions - cluster_surface_xy_center)\n",
    "slab_surface_covalent_radii = covalent_radii[\n",
    "    slab_sc.get_atomic_numbers()[np.argmax(slab_sc.positions, axis=0)[2]]\n",
    "]\n",
    "cluster_surface_covalent_radii = covalent_radii[\n",
    "    cluster.get_atomic_numbers()[np.argmin(cluster.positions, axis=0)[2]]\n",
    "]\n",
    "cluster.translate(\n",
    "    slab_surface_xy_center + [0, 0, slab_surface_covalent_radii + cluster_surface_covalent_radii]\n",
    ")\n",
    "supported = slab_sc.copy()\n",
    "supported += cluster"
   ]
  },
  {
   "cell_type": "code",
   "execution_count": 24,
   "id": "0697fe68-b34a-4d65-86f2-be7b615d170c",
   "metadata": {},
   "outputs": [
    {
     "data": {
      "application/vnd.jupyter.widget-view+json": {
       "model_id": "20ac12297dad43cda84eb76cbe35afb8",
       "version_major": 2,
       "version_minor": 0
      },
      "text/plain": [
       "HBox(children=(NGLWidget(), VBox(children=(Dropdown(description='Show', options=('All', 'O', 'Pt', 'Sn'), valu…"
      ]
     },
     "metadata": {},
     "output_type": "display_data"
    }
   ],
   "source": [
    "view_ngl(supported, representations=[\"ball+stick\"])"
   ]
  },
  {
   "cell_type": "code",
   "execution_count": 25,
   "id": "93d56f53-ae22-42ba-82d2-9945e39f77c3",
   "metadata": {},
   "outputs": [
    {
     "name": "stdout",
     "output_type": "stream",
     "text": [
      "pfp_api_client: 1.3.1\n",
      "      Step     Time          Energy         fmax\n",
      "*Force-consistent energies used in optimization.\n",
      "FIRE:    0 21:49:55    -1855.847009*       2.8403\n",
      "FIRE:    1 21:49:55    -1862.111119*       2.4214\n",
      "FIRE:    2 21:49:55    -1867.469367*       2.0034\n",
      "FIRE:    3 21:49:55    -1871.902342*       1.9501\n",
      "FIRE:    4 21:49:56    -1875.412249*       1.8872\n",
      "FIRE:    5 21:49:56    -1878.078114*       1.8113\n",
      "FIRE:    6 21:49:56    -1880.058562*       1.7186\n",
      "FIRE:    7 21:49:56    -1881.576496*       1.6046\n",
      "FIRE:    8 21:49:56    -1882.918589*       1.4662\n",
      "FIRE:    9 21:49:56    -1884.337971*       1.3873\n",
      "FIRE:   10 21:49:56    -1885.949107*       1.2718\n",
      "FIRE:   11 21:49:56    -1887.699174*       1.0725\n",
      "FIRE:   12 21:49:57    -1889.416201*       0.9923\n",
      "FIRE:   13 21:49:57    -1890.921991*       0.9958\n",
      "FIRE:   14 21:49:57    -1892.131598*       0.9771\n",
      "FIRE:   15 21:49:57    -1893.088740*       0.9342\n",
      "FIRE:   16 21:49:57    -1893.931135*       0.8694\n",
      "FIRE:   17 21:49:57    -1894.795616*       0.9299\n",
      "FIRE:   18 21:49:57    -1895.736499*       1.0287\n",
      "FIRE:   19 21:49:58    -1896.701934*       1.1065\n",
      "FIRE:   20 21:49:58    -1897.584114*       1.1560\n",
      "FIRE:   21 21:49:58    -1898.298314*       1.1691\n",
      "FIRE:   22 21:49:58    -1898.833776*       1.1353\n",
      "FIRE:   23 21:49:58    -1899.256278*       1.1191\n",
      "FIRE:   24 21:49:58    -1899.643358*       1.0237\n",
      "FIRE:   25 21:49:58    -1900.016195*       0.7790\n",
      "FIRE:   26 21:49:58    -1900.336761*       0.4355\n",
      "FIRE:   27 21:49:59    -1900.559692*       0.5000\n",
      "FIRE:   28 21:49:59    -1900.693329*       0.7309\n",
      "FIRE:   29 21:49:59    -1900.802382*       0.8491\n",
      "FIRE:   30 21:49:59    -1900.935413*       0.8318\n",
      "FIRE:   31 21:49:59    -1901.069573*       0.7962\n",
      "FIRE:   32 21:49:59    -1901.159928*       0.5996\n",
      "FIRE:   33 21:49:59    -1901.235114*       0.5705\n",
      "FIRE:   34 21:49:59    -1901.349701*       0.6961\n",
      "FIRE:   35 21:50:00    -1901.476647*       0.5497\n",
      "FIRE:   36 21:50:00    -1901.547830*       0.6872\n",
      "FIRE:   37 21:50:00    -1901.665296*       0.8524\n",
      "FIRE:   38 21:50:00    -1901.695731*       0.7285\n",
      "FIRE:   39 21:50:00    -1901.799342*       0.3744\n",
      "FIRE:   40 21:50:00    -1901.828174*       0.2257\n",
      "FIRE:   41 21:50:00    -1901.834565*       0.1847\n",
      "FIRE:   42 21:50:01    -1901.844486*       0.1186\n",
      "FIRE:   43 21:50:01    -1901.854512*       0.1150\n",
      "FIRE:   44 21:50:01    -1901.862380*       0.1133\n",
      "FIRE:   45 21:50:01    -1901.868923*       0.1608\n",
      "FIRE:   46 21:50:01    -1901.876781*       0.1721\n",
      "FIRE:   47 21:50:01    -1901.887486*       0.1413\n",
      "FIRE:   48 21:50:01    -1901.901811*       0.1065\n",
      "FIRE:   49 21:50:02    -1901.917147*       0.1051\n",
      "FIRE:   50 21:50:02    -1901.930872*       0.1038\n",
      "FIRE:   51 21:50:02    -1901.943919*       0.1029\n",
      "FIRE:   52 21:50:02    -1901.958832*       0.1024\n",
      "FIRE:   53 21:50:02    -1901.973661*       0.1026\n",
      "FIRE:   54 21:50:02    -1901.986095*       0.1039\n",
      "FIRE:   55 21:50:02    -1901.998772*       0.1071\n",
      "FIRE:   56 21:50:03    -1902.014190*       0.1129\n",
      "FIRE:   57 21:50:03    -1902.032188*       0.1230\n",
      "FIRE:   58 21:50:03    -1902.056771*       0.1387\n",
      "FIRE:   59 21:50:03    -1902.089103*       0.1595\n",
      "FIRE:   60 21:50:03    -1902.132562*       0.1872\n",
      "FIRE:   61 21:50:03    -1902.187067*       0.2278\n",
      "FIRE:   62 21:50:03    -1902.262989*       0.2574\n",
      "FIRE:   63 21:50:04    -1902.341229*       0.3464\n",
      "FIRE:   64 21:50:04    -1902.404037*       0.5151\n",
      "FIRE:   65 21:50:04    -1902.437543*       0.2282\n",
      "FIRE:   66 21:50:04    -1902.439864*       0.2268\n",
      "FIRE:   67 21:50:04    -1902.443836*       0.2236\n",
      "FIRE:   68 21:50:04    -1902.448727*       0.2185\n",
      "FIRE:   69 21:50:04    -1902.454673*       0.2112\n",
      "FIRE:   70 21:50:04    -1902.462029*       0.2015\n",
      "FIRE:   71 21:50:05    -1902.470580*       0.1900\n",
      "FIRE:   72 21:50:05    -1902.479634*       0.1775\n",
      "FIRE:   73 21:50:05    -1902.490043*       0.1703\n",
      "FIRE:   74 21:50:05    -1902.502452*       0.1750\n",
      "FIRE:   75 21:50:05    -1902.517031*       0.1773\n",
      "FIRE:   76 21:50:05    -1902.532800*       0.1727\n",
      "FIRE:   77 21:50:05    -1902.550585*       0.1724\n",
      "FIRE:   78 21:50:06    -1902.569927*       0.1720\n",
      "FIRE:   79 21:50:06    -1902.591361*       0.1614\n",
      "FIRE:   80 21:50:06    -1902.614742*       0.1542\n",
      "FIRE:   81 21:50:06    -1902.639980*       0.1328\n",
      "FIRE:   82 21:50:06    -1902.664999*       0.1561\n",
      "FIRE:   83 21:50:06    -1902.687441*       0.1571\n",
      "FIRE:   84 21:50:06    -1902.706000*       0.1307\n",
      "FIRE:   85 21:50:06    -1902.715332*       0.3181\n",
      "FIRE:   86 21:50:07    -1902.724515*       0.1226\n",
      "FIRE:   87 21:50:07    -1902.724167*       0.2586\n",
      "FIRE:   88 21:50:07    -1902.726286*       0.2027\n",
      "FIRE:   89 21:50:07    -1902.729230*       0.1091\n",
      "FIRE:   90 21:50:07    -1902.731098*       0.1062\n",
      "FIRE:   91 21:50:07    -1902.731750*       0.1208\n",
      "FIRE:   92 21:50:07    -1902.731914*       0.1141\n",
      "FIRE:   93 21:50:07    -1902.732266*       0.1017\n",
      "FIRE:   94 21:50:08    -1902.732756*       0.1010\n",
      "FIRE:   95 21:50:08    -1902.733277*       0.1001\n",
      "FIRE:   96 21:50:08    -1902.733887*       0.0990\n",
      "FIRE:   97 21:50:08    -1902.734455*       0.0977\n",
      "FIRE:   98 21:50:08    -1902.735025*       0.0962\n",
      "FIRE:   99 21:50:08    -1902.735648*       0.0942\n",
      "FIRE:  100 21:50:08    -1902.736491*       0.0918\n",
      "FIRE:  101 21:50:09    -1902.737449*       0.0888\n",
      "FIRE:  102 21:50:09    -1902.738807*       0.0853\n",
      "FIRE:  103 21:50:09    -1902.740406*       0.0811\n",
      "FIRE:  104 21:50:09    -1902.742267*       0.0761\n",
      "FIRE:  105 21:50:09    -1902.744271*       0.0708\n",
      "FIRE:  106 21:50:09    -1902.746475*       0.0652\n",
      "FIRE:  107 21:50:09    -1902.749058*       0.0586\n",
      "FIRE:  108 21:50:09    -1902.752035*       0.0486\n",
      "FIRE:  109 21:50:10    -1902.755064*       0.0457\n",
      "FIRE:  110 21:50:10    -1902.758327*       0.0458\n",
      "FIRE:  111 21:50:10    -1902.761924*       0.0461\n",
      "FIRE:  112 21:50:10    -1902.765609*       0.0469\n",
      "FIRE:  113 21:50:10    -1902.770171*       0.0490\n",
      "FIRE:  114 21:50:10    -1902.775356*       0.0533\n",
      "FIRE:  115 21:50:10    -1902.781972*       0.0607\n",
      "FIRE:  116 21:50:11    -1902.790439*       0.0724\n",
      "FIRE:  117 21:50:11    -1902.802128*       0.0899\n",
      "FIRE:  118 21:50:11    -1902.818989*       0.1068\n",
      "FIRE:  119 21:50:11    -1902.843159*       0.1151\n",
      "FIRE:  120 21:50:11    -1902.876003*       0.1730\n",
      "FIRE:  121 21:50:11    -1902.901757*       0.5517\n",
      "FIRE:  122 21:50:11    -1902.921784*       0.0942\n",
      "FIRE:  123 21:50:11    -1902.922424*       0.0934\n",
      "FIRE:  124 21:50:12    -1902.923499*       0.0917\n",
      "FIRE:  125 21:50:12    -1902.924834*       0.0894\n",
      "FIRE:  126 21:50:12    -1902.926479*       0.0866\n",
      "FIRE:  127 21:50:12    -1902.928558*       0.0835\n",
      "FIRE:  128 21:50:12    -1902.931135*       0.0804\n",
      "FIRE:  129 21:50:12    -1902.934011*       0.0792\n",
      "FIRE:  130 21:50:12    -1902.937437*       0.0797\n",
      "FIRE:  131 21:50:13    -1902.941633*       0.0769\n",
      "FIRE:  132 21:50:13    -1902.946867*       0.0699\n",
      "FIRE:  133 21:50:13    -1902.953036*       0.0640\n",
      "FIRE:  134 21:50:13    -1902.960401*       0.0655\n",
      "FIRE:  135 21:50:13    -1902.969343*       0.0696\n",
      "FIRE:  136 21:50:13    -1902.979908*       0.0737\n",
      "FIRE:  137 21:50:13    -1902.992782*       0.0787\n",
      "FIRE:  138 21:50:13    -1903.008298*       0.0866\n",
      "FIRE:  139 21:50:14    -1903.027763*       0.0997\n",
      "FIRE:  140 21:50:14    -1903.052650*       0.1184\n",
      "FIRE:  141 21:50:14    -1903.085942*       0.1403\n",
      "FIRE:  142 21:50:14    -1903.129983*       0.2147\n",
      "FIRE:  143 21:50:14    -1903.166150*       0.5741\n",
      "FIRE:  144 21:50:14    -1903.203033*       0.1801\n",
      "FIRE:  145 21:50:14    -1903.183343*       0.5157\n",
      "FIRE:  146 21:50:15    -1903.197022*       0.3864\n",
      "FIRE:  147 21:50:15    -1903.211885*       0.1809\n",
      "FIRE:  148 21:50:15    -1903.215597*       0.1800\n",
      "FIRE:  149 21:50:15    -1903.216005*       0.1800\n",
      "FIRE:  150 21:50:15    -1903.216796*       0.1800\n",
      "FIRE:  151 21:50:15    -1903.217903*       0.1800\n",
      "FIRE:  152 21:50:15    -1903.219167*       0.1800\n",
      "FIRE:  153 21:50:15    -1903.220545*       0.1800\n",
      "FIRE:  154 21:50:16    -1903.221959*       0.1799\n",
      "FIRE:  155 21:50:16    -1903.223528*       0.1798\n",
      "FIRE:  156 21:50:16    -1903.225455*       0.1796\n",
      "FIRE:  157 21:50:16    -1903.227952*       0.1792\n",
      "FIRE:  158 21:50:16    -1903.231160*       0.1786\n",
      "FIRE:  159 21:50:16    -1903.235422*       0.1777\n",
      "FIRE:  160 21:50:16    -1903.240650*       0.1763\n",
      "FIRE:  161 21:50:16    -1903.246915*       0.1742\n",
      "FIRE:  162 21:50:17    -1903.254456*       0.1711\n",
      "FIRE:  163 21:50:17    -1903.263819*       0.1663\n",
      "FIRE:  164 21:50:17    -1903.275503*       0.1590\n",
      "FIRE:  165 21:50:17    -1903.289555*       0.1481\n",
      "FIRE:  166 21:50:17    -1903.306395*       0.1323\n",
      "FIRE:  167 21:50:17    -1903.326817*       0.1220\n",
      "FIRE:  168 21:50:17    -1903.350885*       0.1301\n",
      "FIRE:  169 21:50:18    -1903.379501*       0.1281\n",
      "FIRE:  170 21:50:18    -1903.412528*       0.1212\n",
      "FIRE:  171 21:50:18    -1903.449455*       0.1186\n",
      "FIRE:  172 21:50:18    -1903.488554*       0.1148\n",
      "FIRE:  173 21:50:18    -1903.526173*       0.1080\n",
      "FIRE:  174 21:50:18    -1903.556380*       0.1054\n",
      "FIRE:  175 21:50:18    -1903.573048*       0.1229\n",
      "FIRE:  176 21:50:18    -1903.578476*       0.1167\n",
      "FIRE:  177 21:50:19    -1903.582796*       0.1078\n",
      "FIRE:  178 21:50:19    -1903.588744*       0.1024\n",
      "FIRE:  179 21:50:19    -1903.598142*       0.0968\n",
      "FIRE:  180 21:50:19    -1903.605594*       0.0936\n",
      "FIRE:  181 21:50:19    -1903.613186*       0.0916\n",
      "FIRE:  182 21:50:19    -1903.622551*       0.0909\n",
      "FIRE:  183 21:50:19    -1903.630796*       0.0909\n",
      "FIRE:  184 21:50:20    -1903.642586*       0.1026\n",
      "FIRE:  185 21:50:20    -1903.655046*       0.1102\n",
      "FIRE:  186 21:50:20    -1903.672680*       0.1130\n",
      "FIRE:  187 21:50:20    -1903.692200*       0.1251\n",
      "FIRE:  188 21:50:20    -1903.718718*       0.1369\n",
      "FIRE:  189 21:50:20    -1903.750211*       0.1417\n",
      "FIRE:  190 21:50:20    -1903.780027*       0.1459\n",
      "FIRE:  191 21:50:20    -1903.784285*       0.2838\n",
      "FIRE:  192 21:50:21    -1903.814250*       0.1459\n",
      "FIRE:  193 21:50:21    -1903.814995*       0.1415\n",
      "FIRE:  194 21:50:21    -1903.816236*       0.1360\n",
      "FIRE:  195 21:50:21    -1903.818238*       0.1364\n",
      "FIRE:  196 21:50:21    -1903.820483*       0.1368\n",
      "FIRE:  197 21:50:21    -1903.823206*       0.1372\n",
      "FIRE:  198 21:50:21    -1903.826218*       0.1376\n",
      "FIRE:  199 21:50:22    -1903.829516*       0.1380\n",
      "FIRE:  200 21:50:22    -1903.833269*       0.1384\n",
      "FIRE:  201 21:50:22    -1903.837626*       0.1390\n",
      "FIRE:  202 21:50:22    -1903.842708*       0.1395\n",
      "FIRE:  203 21:50:22    -1903.848558*       0.1392\n",
      "FIRE:  204 21:50:22    -1903.855444*       0.1368\n",
      "FIRE:  205 21:50:22    -1903.863586*       0.1295\n",
      "FIRE:  206 21:50:22    -1903.872721*       0.1125\n",
      "FIRE:  207 21:50:23    -1903.882720*       0.0859\n",
      "FIRE:  208 21:50:23    -1903.892736*       0.0709\n",
      "FIRE:  209 21:50:23    -1903.902133*       0.0699\n",
      "FIRE:  210 21:50:23    -1903.909895*       0.0590\n",
      "FIRE:  211 21:50:23    -1903.914927*       0.0573\n",
      "FIRE:  212 21:50:23    -1903.915707*       0.0725\n",
      "FIRE:  213 21:50:23    -1903.918702*       0.0684\n",
      "FIRE:  214 21:50:23    -1903.918567*       0.0607\n",
      "FIRE:  215 21:50:24    -1903.919168*       0.0602\n",
      "FIRE:  216 21:50:24    -1903.919944*       0.0592\n",
      "FIRE:  217 21:50:24    -1903.920539*       0.0577\n",
      "FIRE:  218 21:50:24    -1903.920786*       0.0556\n",
      "FIRE:  219 21:50:24    -1903.921002*       0.0532\n",
      "FIRE:  220 21:50:24    -1903.921516*       0.0506\n",
      "FIRE:  221 21:50:24    -1903.922304*       0.0479\n",
      "FIRE:  222 21:50:25    -1903.923336*       0.0448\n",
      "FIRE:  223 21:50:25    -1903.924214*       0.0413\n",
      "FIRE:  224 21:50:25    -1903.924810*       0.0373\n",
      "FIRE:  225 21:50:25    -1903.925837*       0.0330\n",
      "FIRE:  226 21:50:25    -1903.927249*       0.0283\n",
      "FIRE:  227 21:50:25    -1903.928222*       0.0295\n",
      "FIRE:  228 21:50:25    -1903.929472*       0.0306\n",
      "FIRE:  229 21:50:25    -1903.931022*       0.0313\n",
      "FIRE:  230 21:50:26    -1903.932189*       0.0313\n",
      "FIRE:  231 21:50:26    -1903.933984*       0.0309\n",
      "FIRE:  232 21:50:26    -1903.935518*       0.0303\n",
      "FIRE:  233 21:50:26    -1903.937506*       0.0299\n",
      "FIRE:  234 21:50:26    -1903.939913*       0.0300\n",
      "FIRE:  235 21:50:26    -1903.942562*       0.0304\n",
      "FIRE:  236 21:50:26    -1903.945499*       0.0341\n",
      "FIRE:  237 21:50:27    -1903.946349*       0.0968\n",
      "FIRE:  238 21:50:27    -1903.949939*       0.0339\n",
      "FIRE:  239 21:50:27    -1903.949956*       0.0338\n",
      "FIRE:  240 21:50:27    -1903.950035*       0.0338\n",
      "FIRE:  241 21:50:27    -1903.950099*       0.0337\n",
      "FIRE:  242 21:50:27    -1903.950244*       0.0336\n",
      "FIRE:  243 21:50:27    -1903.950505*       0.0334\n",
      "FIRE:  244 21:50:27    -1903.950672*       0.0333\n",
      "FIRE:  245 21:50:28    -1903.950940*       0.0332\n",
      "FIRE:  246 21:50:28    -1903.951216*       0.0331\n",
      "FIRE:  247 21:50:28    -1903.951585*       0.0331\n",
      "FIRE:  248 21:50:28    -1903.952045*       0.0331\n",
      "FIRE:  249 21:50:28    -1903.952618*       0.0331\n",
      "FIRE:  250 21:50:28    -1903.953246*       0.0332\n",
      "FIRE:  251 21:50:28    -1903.954098*       0.0334\n",
      "FIRE:  252 21:50:29    -1903.955092*       0.0335\n",
      "FIRE:  253 21:50:29    -1903.956342*       0.0337\n",
      "FIRE:  254 21:50:29    -1903.957727*       0.0338\n",
      "FIRE:  255 21:50:29    -1903.959486*       0.0338\n",
      "FIRE:  256 21:50:29    -1903.961620*       0.0333\n",
      "FIRE:  257 21:50:29    -1903.964062*       0.0318\n",
      "FIRE:  258 21:50:29    -1903.967017*       0.0226\n",
      "FIRE:  259 21:50:29    -1903.969826*       0.0253\n",
      "FIRE:  260 21:50:30    -1903.968698*       0.0896\n",
      "FIRE:  261 21:50:30    -1903.973187*       0.0153\n",
      "FIRE:  262 21:50:30    -1903.973256*       0.0153\n",
      "FIRE:  263 21:50:30    -1903.973365*       0.0153\n",
      "FIRE:  264 21:50:30    -1903.973434*       0.0153\n",
      "FIRE:  265 21:50:30    -1903.973475*       0.0151\n",
      "FIRE:  266 21:50:30    -1903.973551*       0.0150\n",
      "FIRE:  267 21:50:31    -1903.973715*       0.0147\n",
      "FIRE:  268 21:50:31    -1903.973826*       0.0144\n",
      "FIRE:  269 21:50:31    -1903.973988*       0.0139\n",
      "FIRE:  270 21:50:31    -1903.974162*       0.0134\n",
      "FIRE:  271 21:50:31    -1903.974393*       0.0129\n",
      "FIRE:  272 21:50:31    -1903.974719*       0.0123\n",
      "FIRE:  273 21:50:31    -1903.974990*       0.0117\n",
      "FIRE:  274 21:50:31    -1903.975394*       0.0117\n",
      "FIRE:  275 21:50:32    -1903.975806*       0.0122\n",
      "FIRE:  276 21:50:32    -1903.976374*       0.0122\n",
      "FIRE:  277 21:50:32    -1903.976892*       0.0114\n",
      "FIRE:  278 21:50:32    -1903.977619*       0.0101\n",
      "FIRE:  279 21:50:32    -1903.978300*       0.0089\n",
      "FIRE:  280 21:50:32    -1903.979072*       0.0084\n",
      "FIRE:  281 21:50:32    -1903.979732*       0.0125\n",
      "FIRE:  282 21:50:32    -1903.979888*       0.0383\n",
      "FIRE:  283 21:50:33    -1903.980670*       0.0074\n",
      "FIRE:  284 21:50:33    -1903.980689*       0.0074\n",
      "FIRE:  285 21:50:33    -1903.980736*       0.0074\n",
      "FIRE:  286 21:50:33    -1903.980728*       0.0074\n",
      "FIRE:  287 21:50:33    -1903.980720*       0.0073\n",
      "FIRE:  288 21:50:33    -1903.980754*       0.0073\n",
      "FIRE:  289 21:50:33    -1903.980798*       0.0073\n",
      "FIRE:  290 21:50:34    -1903.980790*       0.0072\n",
      "FIRE:  291 21:50:34    -1903.980876*       0.0072\n",
      "FIRE:  292 21:50:34    -1903.980885*       0.0071\n",
      "FIRE:  293 21:50:34    -1903.980983*       0.0070\n",
      "FIRE:  294 21:50:34    -1903.980972*       0.0070\n",
      "FIRE:  295 21:50:34    -1903.981140*       0.0069\n",
      "FIRE:  296 21:50:34    -1903.981180*       0.0068\n",
      "FIRE:  297 21:50:34    -1903.981324*       0.0067\n",
      "FIRE:  298 21:50:35    -1903.981457*       0.0065\n",
      "FIRE:  299 21:50:35    -1903.981630*       0.0063\n",
      "FIRE:  300 21:50:35    -1903.981855*       0.0061\n",
      "FIRE:  301 21:50:35    -1903.982098*       0.0059\n",
      "FIRE:  302 21:50:35    -1903.982421*       0.0056\n",
      "FIRE:  303 21:50:35    -1903.982762*       0.0054\n",
      "FIRE:  304 21:50:35    -1903.983107*       0.0083\n",
      "FIRE:  305 21:50:36    -1903.983226*       0.0297\n",
      "FIRE:  306 21:50:36    -1903.983589*       0.0050\n"
     ]
    }
   ],
   "source": [
    "import pfp_api_client\n",
    "from pfp_api_client.pfp.calculators.ase_calculator import ASECalculator\n",
    "from pfp_api_client.pfp.estimator import Estimator, EstimatorCalcMode\n",
    "from ase.optimize import BFGS, LBFGS, FIRE\n",
    "from ase.io import Trajectory\n",
    "print(f\"pfp_api_client: {pfp_api_client.__version__}\")\n",
    "\n",
    "estimator = Estimator(model_version=\"v2.0.0\")\n",
    "calculator = ASECalculator(estimator)\n",
    "supported.calc = calculator\n",
    "traj = Trajectory(\"./SnO2_Pt119.traj\", \"w\", supported)\n",
    "opt = FIRE(supported)\n",
    "opt.attach(traj.write, interval=1)\n",
    "opt.run(fmax=0.005)\n",
    "traj.close()"
   ]
  },
  {
   "cell_type": "code",
   "execution_count": 26,
   "id": "cb7ac753-4acf-480e-b2c8-d41e03f5906a",
   "metadata": {},
   "outputs": [
    {
     "data": {
      "application/vnd.jupyter.widget-view+json": {
       "model_id": "494e1460919c4c12b92fcb68295a9071",
       "version_major": 2,
       "version_minor": 0
      },
      "text/plain": [
       "HBox(children=(NGLWidget(max_frame=306), VBox(children=(Dropdown(description='Show', options=('All', 'O', 'Pt'…"
      ]
     },
     "metadata": {},
     "output_type": "display_data"
    }
   ],
   "source": [
    "SnO2_Pt119 = Trajectory(\"./SnO2_Pt119.traj\")\n",
    "view_ngl(SnO2_Pt119, representations=[\"ball+stick\"])"
   ]
  },
  {
   "cell_type": "code",
   "execution_count": 27,
   "id": "13e1bbd9-bca8-4a1c-a204-a0ecef611871",
   "metadata": {},
   "outputs": [
    {
     "data": {
      "image/png": "[encoded data removed]",
      "text/plain": [
       "<Figure size 360x360 with 1 Axes>"
      ]
     },
     "metadata": {
      "needs_background": "light"
     },
     "output_type": "display_data"
    }
   ],
   "source": [
    "from ase.io import write\n",
    "from IPython.display import Image\n",
    "import matplotlib.pyplot as plt\n",
    "import matplotlib.image as mpimg\n",
    "\n",
    "\n",
    "write(\"output/sno2_pt119_opt.png\", SnO2_Pt119[-1], rotation=\"-90x,0y,0z\")\n",
    "\n",
    "fig, ax = plt.subplots(1, 1, figsize=(5, 5))\n",
    "ax.imshow(mpimg.imread(\"output/sno2_pt119_opt.png\"))\n",
    "ax.set_axis_off()\n",
    "ax.set_title(\"SnO2 - Pt119 optimized structure\")\n",
    "fig.show()"
   ]
  },
  {
   "cell_type": "markdown",
   "id": "f3f74b9a-2cc5-4d1d-9940-9a6226b9f492",
   "metadata": {},
   "source": [
    "論文で示されているようなchargeの可視化も可能です。\n",
    "\n",
    "Nano particleの吸着面に近いところでのみ電荷が０からずれていて、核の外側がプラスに、内側がマイナスになっていることが確認できます。"
   ]
  },
  {
   "cell_type": "code",
   "execution_count": 28,
   "id": "3c047057-c293-40a1-9b88-f8086b9b4006",
   "metadata": {},
   "outputs": [
    {
     "data": {
      "application/vnd.jupyter.widget-view+json": {
       "model_id": "e68e623d9c0644e4a8df521d33d0ce5f",
       "version_major": 2,
       "version_minor": 0
      },
      "text/plain": [
       "HBox(children=(NGLWidget(), VBox(children=(Dropdown(description='Show', options=('All', 'O', 'Pt', 'Sn'), valu…"
      ]
     },
     "metadata": {},
     "output_type": "display_data"
    }
   ],
   "source": [
    "v = view_ngl(SnO2_Pt119[-1], show_charge=True)\n",
    "v.show_charge_label()\n",
    "v"
   ]
  },
  {
   "cell_type": "markdown",
   "id": "5b69e949-ae40-4ac8-889a-3f537b13dbf4",
   "metadata": {},
   "source": [
    "このように、SnO2担体上にPt Nano particleが吸着している構造を作成することができました。\n",
    "\n",
    "実際には、本当にこの構造で正しいのか（微粒子の状態で吸着するのか、それとも全体に均質に伸びて吸着するような形のほうが安定なのかなど)の検証が必要となりますが、このTutorialでは省略します。\n",
    "\n",
    "こういった構造が作成できる事により、ここから更に後述する反応探索やMDなどを組み合わせることで、\n",
    "\n",
    " - 様々な面が露出している触媒下での反応\n",
    " - 触媒と担体の境界面での反応\n",
    "\n",
    "なども扱えるようになる可能性があり、より現実に近い状態での触媒反応シミュレーションができる可能性があります。"
   ]
  },
  {
   "cell_type": "markdown",
   "id": "bad2439c-4f23-46f8-bff5-f462c6dea2aa",
   "metadata": {},
   "source": [
    "参考文献\n",
    "\n",
    " - [Calculations of Real-System Nanoparticles Using Universal Neural Network Potential PFP](https://arxiv.org/abs/2107.00963)\n",
    " - [Structural Stability of Ruthenium Nanoparticles: A Density Functional Theory Study](https://pubs.acs.org/doi/10.1021/acs.jpcc.7b08672)\n",
    " - [Electronic Structure and Phase Stability of PdPt Nanoparticles](https://pubs.acs.org/doi/10.1021/acs.jpclett.5b02753)\n",
    " - [Electronic structure and phase stability of Pt3M (M = Co, Ni, and Cu) bimetallic nanoparticles](https://www.sciencedirect.com/science/article/abs/pii/S0927025620303657)\n",
    " - [The effect of SnO2(110) supports on the geometrical and electronic properties of platinum nanoparticles](https://link.springer.com/article/10.1007/s42452-019-1478-0)"
   ]
  }
 ],
 "metadata": {
  "kernelspec": {
   "display_name": "Python 3.7",
   "language": "python",
   "name": "python37"
  },
  "language_info": {
   "codemirror_mode": {
    "name": "ipython",
    "version": 3
   },
   "file_extension": ".py",
   "mimetype": "text/x-python",
   "name": "python",
   "nbconvert_exporter": "python",
   "pygments_lexer": "ipython3",
   "version": "3.7.13"
  },
  "widgets": {
   "application/vnd.jupyter.widget-state+json": {
    "state": {
     "00145fa090be42ccb5c1c5b499f5391e": {
      "model_module": "@jupyter-widgets/controls",
      "model_module_version": "1.5.0",
      "model_name": "DropdownModel",
      "state": {
       "_options_labels": [
        "All",
        "Pt"
       ],
       "description": "Show",
       "index": 0,
       "layout": "IPY_MODEL_fd25217204e4488ca6ce7e56a6f73950",
       "style": "IPY_MODEL_eeca7e45565745ceb60bd7014b75a2d6"
      }
     },
     "00824bf1e4674e5c80c64026327830d0": {
      "model_module": "@jupyter-widgets/controls",
      "model_module_version": "1.5.0",
      "model_name": "FloatSliderModel",
      "state": {
       "description": "Force scale",
       "layout": "IPY_MODEL_5099f59d92b44783b04bc5788a2567b6",
       "step": 0.1,
       "style": "IPY_MODEL_ad47380c1b804ae186c0634509574c8b",
       "value": 0.5
      }
     },
     "0120f337aac04b65b1ae4278d2bdce85": {
      "model_module": "@jupyter-widgets/controls",
      "model_module_version": "1.5.0",
      "model_name": "TextModel",
      "state": {
       "description": "Filename: ",
       "layout": "IPY_MODEL_4af617fcfa4d482aa10acc035335b6f9",
       "style": "IPY_MODEL_08a9479658cd4a0f8d80629a35c6433e",
       "value": "screenshot.png"
      }
     },
     "0171ed3495234813a7df6b864dcd8090": {
      "model_module": "@jupyter-widgets/controls",
      "model_module_version": "1.5.0",
      "model_name": "ButtonStyleModel",
      "state": {}
     },
     "01a25b14762f404cb69b69e92ac9a4d4": {
      "model_module": "@jupyter-widgets/base",
      "model_module_version": "1.2.0",
      "model_name": "LayoutModel",
      "state": {}
     },
     "027bd805256148a4a8abf66441bb7ef7": {
      "model_module": "@jupyter-widgets/controls",
      "model_module_version": "1.5.0",
      "model_name": "HBoxModel",
      "state": {
       "children": [
        "IPY_MODEL_1b65cd88e0374b9db02f038cf7cf2f21",
        "IPY_MODEL_f439d4f20f8c4498ae0b93d1511a66bb"
       ],
       "layout": "IPY_MODEL_d668bb720dd7499cabc2175066153055"
      }
     },
     "029e4bd3cfe8459a9cedb1e6ba8b5fde": {
      "model_module": "@jupyter-widgets/controls",
      "model_module_version": "1.5.0",
      "model_name": "CheckboxModel",
      "state": {
       "description": "Show charge",
       "disabled": false,
       "layout": "IPY_MODEL_7c8054a3439c4230add3556c2b290eaf",
       "style": "IPY_MODEL_9b9d8b3a093a4c0389298f1d7b01b3c2",
       "value": false
      }
     },
     "03d886d51e014d2aada588833848b978": {
      "model_module": "@jupyter-widgets/controls",
      "model_module_version": "1.5.0",
      "model_name": "LinkModel",
      "state": {
       "source": [
        "IPY_MODEL_991bd65355c7440ea81b8cd7b25435ad",
        "max"
       ],
       "target": [
        "IPY_MODEL_e69d508233f24e4a9cda0447b957871c",
        "max_frame"
       ]
      }
     },
     "05531a2b216b42fbaae8af5ddfbb5455": {
      "model_module": "@jupyter-widgets/controls",
      "model_module_version": "1.5.0",
      "model_name": "VBoxModel",
      "state": {
       "children": [
        "IPY_MODEL_3903bf3263d8468d82df3caf356374ec",
        "IPY_MODEL_834007efd5054b839e4fe93760450628",
        "IPY_MODEL_784620bbfb894f5e8cfa9089c7766569",
        "IPY_MODEL_cc2a215682344e29984dfaa41cf2f778",
        "IPY_MODEL_124248174ac941e0ba8947fafc6bafbf",
        "IPY_MODEL_344f546a41034c7e9d9a0bec204eea27",
        "IPY_MODEL_2cdea2c68f0643c58e3764e3ffbfa301",
        "IPY_MODEL_ab31418d9aa04ab6accaa7cb5ae2ce33",
        "IPY_MODEL_61890fe052b4438992a8864d74d0e49f",
        "IPY_MODEL_60919846a5384a568eb58004a3d955d6"
       ],
       "layout": "IPY_MODEL_fd0f4d6b9ab4429c83f864e999906ce9"
      }
     },
     "058d7a8f39654474bdec63e4fe42f73f": {
      "model_module": "@jupyter-widgets/controls",
      "model_module_version": "1.5.0",
      "model_name": "TextModel",
      "state": {
       "description": "Filename: ",
       "layout": "IPY_MODEL_a2aa35b2950b4ed08fce60b75207c935",
       "style": "IPY_MODEL_5fa3111895bd4b1d8599d5f2cd9233c7",
       "value": "screenshot.png"
      }
     },
     "059d30155d244e0182d280865cdb6575": {
      "model_module": "@jupyter-widgets/controls",
      "model_module_version": "1.5.0",
      "model_name": "LinkModel",
      "state": {
       "source": [
        "IPY_MODEL_2b1fa73e41594a7b8e347c19497188dc",
        "value"
       ],
       "target": [
        "IPY_MODEL_d170065937924c9eb37c0c3e4464b9a3",
        "value"
       ]
      }
     },
     "05e3ae945a954a85844e91494f5de4e8": {
      "model_module": "@jupyter-widgets/base",
      "model_module_version": "1.2.0",
      "model_name": "LayoutModel",
      "state": {}
     },
     "05ef116a9282409c996abf3e03a27c3e": {
      "model_module": "@jupyter-widgets/controls",
      "model_module_version": "1.5.0",
      "model_name": "FloatSliderModel",
      "state": {
       "description": "Ball size",
       "layout": "IPY_MODEL_61a83faa1b9849089498c410f28c52a6",
       "max": 1.5,
       "step": 0.01,
       "style": "IPY_MODEL_a2b6cd80761f42348fda9d47b5ad79d4",
       "value": 0.5
      }
     },
     "0671c0ded62e4ecbacce8199e61a484a": {
      "model_module": "@jupyter-widgets/controls",
      "model_module_version": "1.5.0",
      "model_name": "DropdownModel",
      "state": {
       "_options_labels": [
        " ",
        "picking",
        "random",
        "uniform",
        "atomindex",
        "residueindex",
        "chainindex",
        "modelindex",
        "sstruc",
        "element",
        "resname",
        "bfactor",
        "hydrophobicity",
        "value",
        "volume",
        "occupancy"
       ],
       "description": "Color scheme",
       "index": 9,
       "layout": "IPY_MODEL_0ce5ae718551491495bb400155e955fc",
       "style": "IPY_MODEL_1e567ea9f6474a948ce5a17f68c410eb"
      }
     },
     "07038b92cfeb4d7fb7dc87eeb66e9b9a": {
      "model_module": "@jupyter-widgets/base",
      "model_module_version": "1.2.0",
      "model_name": "LayoutModel",
      "state": {}
     },
     "074b6dbfdf2e42bb80d014ba1eb11ff4": {
      "model_module": "@jupyter-widgets/base",
      "model_module_version": "1.2.0",
      "model_name": "LayoutModel",
      "state": {}
     },
     "074bfba7d1904beda13d254b377211e9": {
      "model_module": "@jupyter-widgets/controls",
      "model_module_version": "1.5.0",
      "model_name": "ButtonStyleModel",
      "state": {}
     },
     "07803ece834046aea1070c5c9490a4ba": {
      "model_module": "@jupyter-widgets/controls",
      "model_module_version": "1.5.0",
      "model_name": "ButtonStyleModel",
      "state": {}
     },
     "0787e19866cf46ffad39fe50c040bcac": {
      "model_module": "@jupyter-widgets/controls",
      "model_module_version": "1.5.0",
      "model_name": "ButtonStyleModel",
      "state": {}
     },
     "07b17a1c39a8481bb9b7df5bc331b1c3": {
      "model_module": "@jupyter-widgets/base",
      "model_module_version": "1.2.0",
      "model_name": "LayoutModel",
      "state": {}
     },
     "087c64703b8d4220ad083568c5cc33a4": {
      "model_module": "@jupyter-widgets/base",
      "model_module_version": "1.2.0",
      "model_name": "LayoutModel",
      "state": {}
     },
     "08a9479658cd4a0f8d80629a35c6433e": {
      "model_module": "@jupyter-widgets/controls",
      "model_module_version": "1.5.0",
      "model_name": "DescriptionStyleModel",
      "state": {
       "description_width": ""
      }
     },
     "093678393e764b04a1a4cc9c44121e8f": {
      "model_module": "@jupyter-widgets/controls",
      "model_module_version": "1.5.0",
      "model_name": "FloatSliderModel",
      "state": {
       "description": "Ball size",
       "layout": "IPY_MODEL_2ba509b7a2c946da83319ee08a0cef3d",
       "max": 1.5,
       "step": 0.01,
       "style": "IPY_MODEL_2467a9c6a1d74e418811396cf417fcff",
       "value": 0.5
      }
     },
     "0996d5e9b42349079772d8be5350e8e9": {
      "model_module": "@jupyter-widgets/controls",
      "model_module_version": "1.5.0",
      "model_name": "ButtonStyleModel",
      "state": {}
     },
     "0a1816d71c424ff39bbaf6abdebba698": {
      "model_module": "@jupyter-widgets/base",
      "model_module_version": "1.2.0",
      "model_name": "LayoutModel",
      "state": {}
     },
     "0a6981fa837a42209e0e46d43bc2cd56": {
      "model_module": "@jupyter-widgets/controls",
      "model_module_version": "1.5.0",
      "model_name": "HBoxModel",
      "state": {
       "children": [
        "IPY_MODEL_2b1fa73e41594a7b8e347c19497188dc",
        "IPY_MODEL_d170065937924c9eb37c0c3e4464b9a3"
       ],
       "layout": "IPY_MODEL_b5b86005549b452681804117a37ef011"
      }
     },
     "0a7ebe449fc24c40a92d97e65f7b5bdc": {
      "model_module": "@jupyter-widgets/output",
      "model_module_version": "1.0.0",
      "model_name": "OutputModel",
      "state": {
       "layout": "IPY_MODEL_2564126dc3cd4738b34e0800cacdea89"
      }
     },
     "0a9cd9c9413b46b2a41182bb2310db87": {
      "model_module": "@jupyter-widgets/base",
      "model_module_version": "1.2.0",
      "model_name": "LayoutModel",
      "state": {}
     },
     "0aaa4a7e7d3b40f1b06492eb59363618": {
      "model_module": "@jupyter-widgets/controls",
      "model_module_version": "1.5.0",
      "model_name": "ImageModel",
      "state": {
       "layout": "IPY_MODEL_732bd29236424a2cbd66683075b62acb",
       "width": "900.0"
      }
     },
     "0af040c9342841cbb1a10445d3538932": {
      "model_module": "@jupyter-widgets/controls",
      "model_module_version": "1.5.0",
      "model_name": "ButtonModel",
      "state": {
       "description": "Download image",
       "layout": "IPY_MODEL_67055bd312d7417381752502f95fd388",
       "style": "IPY_MODEL_298b3fa8d7c74f66a6031e026e40fa01",
       "tooltip": "Download current frame to your local PC"
      }
     },
     "0b3836fef83e4be5abd5ffa264e32c24": {
      "model_module": "@jupyter-widgets/controls",
      "model_module_version": "1.5.0",
      "model_name": "CheckboxModel",
      "state": {
       "description": "Show charge",
       "disabled": false,
       "layout": "IPY_MODEL_7e288e80dbb9405c8b0758dd7ea4c26c",
       "style": "IPY_MODEL_de90dee331904dfe98222283a3ad69d8",
       "value": false
      }
     },
     "0b4bcc6d32fc4fe0805a99a99faf3670": {
      "model_module": "@jupyter-widgets/controls",
      "model_module_version": "1.5.0",
      "model_name": "ButtonModel",
      "state": {
       "icon": "compress",
       "layout": "IPY_MODEL_84a26f4a671f4d79bf6bc2083ca7d6fe",
       "style": "IPY_MODEL_da8de3e46d504a748a912b802532f57d"
      }
     },
     "0bb00fc413bf46c48e1cb681cd777a75": {
      "model_module": "@jupyter-widgets/base",
      "model_module_version": "1.2.0",
      "model_name": "LayoutModel",
      "state": {
       "border": "0px solid black"
      }
     },
     "0c4f73998c5742d486aca2970d3df61b": {
      "model_module": "@jupyter-widgets/base",
      "model_module_version": "1.2.0",
      "model_name": "LayoutModel",
      "state": {}
     },
     "0c7ef14dcbcc4e6facd210c4fb917b98": {
      "model_module": "@jupyter-widgets/controls",
      "model_module_version": "1.5.0",
      "model_name": "HBoxModel",
      "state": {
       "children": [
        "IPY_MODEL_201c912b004f41bea7c265465d4d53d1",
        "IPY_MODEL_ef03020fef034cc4b13ddfa16d98e721"
       ],
       "layout": "IPY_MODEL_13241e2d47ed408ea126a5ae8eb6aa9d"
      }
     },
     "0ce5ae718551491495bb400155e955fc": {
      "model_module": "@jupyter-widgets/base",
      "model_module_version": "1.2.0",
      "model_name": "LayoutModel",
      "state": {}
     },
     "0d6e13fd6ffa47f298abbeb2035aceb9": {
      "model_module": "@jupyter-widgets/base",
      "model_module_version": "1.2.0",
      "model_name": "LayoutModel",
      "state": {}
     },
     "0e0ab3f606094f078ac0dae6ab195d36": {
      "model_module": "@jupyter-widgets/controls",
      "model_module_version": "1.5.0",
      "model_name": "ButtonStyleModel",
      "state": {}
     },
     "0e7bcc73b9184e5586fe193a07139fb5": {
      "model_module": "@jupyter-widgets/base",
      "model_module_version": "1.2.0",
      "model_name": "LayoutModel",
      "state": {}
     },
     "0e8a4e14af1f42afb41c7d386b4859b7": {
      "model_module": "@jupyter-widgets/controls",
      "model_module_version": "1.5.0",
      "model_name": "SliderStyleModel",
      "state": {
       "description_width": ""
      }
     },
     "0ed9dcf6cbea4a9da320bf3347d3238b": {
      "model_module": "@jupyter-widgets/controls",
      "model_module_version": "1.5.0",
      "model_name": "ButtonModel",
      "state": {
       "icon": "compress",
       "layout": "IPY_MODEL_339a643697c84485b7b5a887f941224e",
       "style": "IPY_MODEL_4bd1d22f0b78442cb651a6bbfdd8d6c9"
      }
     },
     "0f1b22230250403991767ae911b46216": {
      "model_module": "@jupyter-widgets/controls",
      "model_module_version": "1.5.0",
      "model_name": "ButtonStyleModel",
      "state": {}
     },
     "0fcf31a4cfcf4f1b90f5a4ecf6b0226b": {
      "model_module": "@jupyter-widgets/controls",
      "model_module_version": "1.5.0",
      "model_name": "LinkModel",
      "state": {
       "source": [
        "IPY_MODEL_961cc5359c7147299fef92e04f87eb98",
        "max"
       ],
       "target": [
        "IPY_MODEL_84ec754fa1d541c0bd4515d85a671338",
        "max_frame"
       ]
      }
     },
     "109309f7a2e14ea0a7fd787018fb0438": {
      "model_module": "@jupyter-widgets/controls",
      "model_module_version": "1.5.0",
      "model_name": "VBoxModel",
      "state": {
       "children": [
        "IPY_MODEL_7ffe7125820e41eabcf544c79226b707",
        "IPY_MODEL_cb925fa9df2b41e2b216e8376a4275d9",
        "IPY_MODEL_9139f6a63edd4de285ddadb23adacfc8",
        "IPY_MODEL_af87cb3439b044f8a8fad31bf790a362",
        "IPY_MODEL_1a0725102b7e4d5081360f8bfaca3ba5",
        "IPY_MODEL_9f499e77697641f3a8f73ae006b6e005",
        "IPY_MODEL_fd0fbfb7fded4d19aae7f3385024f0cb",
        "IPY_MODEL_0b3836fef83e4be5abd5ffa264e32c24",
        "IPY_MODEL_c407676e3f22487f86832818b938b3f3",
        "IPY_MODEL_9b3301663a0149458fa6c3fdcd9eab37"
       ],
       "layout": "IPY_MODEL_35363ddcd3314f169568e5d63427a35b"
      }
     },
     "115906f5873e448eb3ddc7c2ee8443ec": {
      "model_module": "@jupyter-widgets/controls",
      "model_module_version": "1.5.0",
      "model_name": "CheckboxModel",
      "state": {
       "description": "Show force",
       "disabled": false,
       "layout": "IPY_MODEL_434d92082ac444b49970ae189c2848bd",
       "style": "IPY_MODEL_4d1ab3174b744ec8b94141d4ac169ce1",
       "value": false
      }
     },
     "124248174ac941e0ba8947fafc6bafbf": {
      "model_module": "@jupyter-widgets/controls",
      "model_module_version": "1.5.0",
      "model_name": "HBoxModel",
      "state": {
       "children": [
        "IPY_MODEL_894a167b1aae4d869658120de3bcba5a",
        "IPY_MODEL_5319f12249ce416a92af78bd0fd05814"
       ],
       "layout": "IPY_MODEL_f90529c7870d45fbb61b6de7ed35654c"
      }
     },
     "12bd9cfcee3643e9b3ca28e1be4c10cd": {
      "model_module": "@jupyter-widgets/controls",
      "model_module_version": "1.5.0",
      "model_name": "TextModel",
      "state": {
       "description": "Filename: ",
       "layout": "IPY_MODEL_cc340f67337d4e6fa753c9042458684c",
       "style": "IPY_MODEL_ab9a1eedf9644ab9b4db430b89b0407a",
       "value": "screenshot.png"
      }
     },
     "12d4f59d552d4f66a098e8a409ee5f43": {
      "model_module": "@jupyter-widgets/base",
      "model_module_version": "1.2.0",
      "model_name": "LayoutModel",
      "state": {
       "border": "0px solid black"
      }
     },
     "12f6f40a07dc408ea95751f0fb38e0b0": {
      "model_module": "@jupyter-widgets/base",
      "model_module_version": "1.2.0",
      "model_name": "LayoutModel",
      "state": {}
     },
     "13241e2d47ed408ea126a5ae8eb6aa9d": {
      "model_module": "@jupyter-widgets/base",
      "model_module_version": "1.2.0",
      "model_name": "LayoutModel",
      "state": {}
     },
     "135ff7924a0c4c689a40d99808acfb62": {
      "model_module": "@jupyter-widgets/base",
      "model_module_version": "1.2.0",
      "model_name": "LayoutModel",
      "state": {}
     },
     "1365bf7ff6194640bbe83172cc671a3b": {
      "model_module": "@jupyter-widgets/base",
      "model_module_version": "1.2.0",
      "model_name": "LayoutModel",
      "state": {}
     },
     "138579c1307b48f185d2800485fa986f": {
      "model_module": "@jupyter-widgets/base",
      "model_module_version": "1.2.0",
      "model_name": "LayoutModel",
      "state": {}
     },
     "138e8b439ada4895b9e384f73aec1121": {
      "model_module": "@jupyter-widgets/base",
      "model_module_version": "1.2.0",
      "model_name": "LayoutModel",
      "state": {}
     },
     "1446abb86b314418b1c7a234f722332c": {
      "model_module": "@jupyter-widgets/controls",
      "model_module_version": "1.5.0",
      "model_name": "CheckboxModel",
      "state": {
       "description": "Show charge",
       "disabled": false,
       "layout": "IPY_MODEL_5355e11de7d5484dbc7d8b32c530352c",
       "style": "IPY_MODEL_3412d836790245caaf819c22eabb557f",
       "value": false
      }
     },
     "147c9ccbdf05409fb37f0457315e5bd7": {
      "model_module": "@jupyter-widgets/controls",
      "model_module_version": "1.5.0",
      "model_name": "SliderStyleModel",
      "state": {
       "description_width": ""
      }
     },
     "148f29b0eab847f281584d120230aa88": {
      "model_module": "@jupyter-widgets/controls",
      "model_module_version": "1.5.0",
      "model_name": "SliderStyleModel",
      "state": {
       "description_width": ""
      }
     },
     "14d30c1a9ea942559bc3049d77f96687": {
      "model_module": "@jupyter-widgets/base",
      "model_module_version": "1.2.0",
      "model_name": "LayoutModel",
      "state": {}
     },
     "1500b9c68bb74c5586b8f4527a2b6261": {
      "model_module": "@jupyter-widgets/controls",
      "model_module_version": "1.5.0",
      "model_name": "IntSliderModel",
      "state": {
       "layout": "IPY_MODEL_0d6e13fd6ffa47f298abbeb2035aceb9",
       "max": 0,
       "style": "IPY_MODEL_b74cbc6f5d634b8594054ccef016173c"
      }
     },
     "15ad1d0118194cb398cfc9d0cea093dc": {
      "model_module": "@jupyter-widgets/controls",
      "model_module_version": "1.5.0",
      "model_name": "ButtonModel",
      "state": {
       "description": "Download image",
       "layout": "IPY_MODEL_70289decc16d4534bbe056aa0b08ef47",
       "style": "IPY_MODEL_074bfba7d1904beda13d254b377211e9",
       "tooltip": "Download current frame to your local PC"
      }
     },
     "15c7fbbd3f8f4942a04030b849bdd9e3": {
      "model_module": "@jupyter-widgets/controls",
      "model_module_version": "1.5.0",
      "model_name": "FloatSliderModel",
      "state": {
       "description": "Force scale",
       "layout": "IPY_MODEL_a6518336af2447a6a594061912a4fbec",
       "step": 0.1,
       "style": "IPY_MODEL_795e945d233048a4a22912d23afd93fa",
       "value": 0.5
      }
     },
     "15fc858a31e0491a8fdb613f48d15f4f": {
      "model_module": "@jupyter-widgets/controls",
      "model_module_version": "1.5.0",
      "model_name": "SliderStyleModel",
      "state": {
       "description_width": ""
      }
     },
     "16a08f1706284022943cddbc8264daef": {
      "model_module": "@jupyter-widgets/controls",
      "model_module_version": "1.5.0",
      "model_name": "ButtonStyleModel",
      "state": {}
     },
     "16a3b2cca1aa408da9b2b632007f6a36": {
      "model_module": "@jupyter-widgets/controls",
      "model_module_version": "1.5.0",
      "model_name": "ButtonStyleModel",
      "state": {}
     },
     "16dad078e5114ae98eb182838d510e05": {
      "model_module": "@jupyter-widgets/base",
      "model_module_version": "1.2.0",
      "model_name": "LayoutModel",
      "state": {}
     },
     "174ce9e7f83743f2b588d4414fa69bf7": {
      "model_module": "@jupyter-widgets/controls",
      "model_module_version": "1.5.0",
      "model_name": "ButtonModel",
      "state": {
       "description": "Save image",
       "layout": "IPY_MODEL_dcab6ef043ac48058681551d856c80f6",
       "style": "IPY_MODEL_c48dbff025f6414092fac5abb12c09f6",
       "tooltip": "Save current frame to file.\nCurrently .png and .html are supported.\nIt takes a bit time, please be patient."
      }
     },
     "17c555ab764d4b409e6ce83b8746d765": {
      "model_module": "@jupyter-widgets/controls",
      "model_module_version": "1.5.0",
      "model_name": "HBoxModel",
      "state": {
       "children": [
        "IPY_MODEL_fe4cbd1211f94da29c1fdbcb5a9b7142",
        "IPY_MODEL_8f817ffe856c41f7963dfe588db2a39b"
       ],
       "layout": "IPY_MODEL_70165f18e4b948ffb69b2feabfd9779f"
      }
     },
     "17db24e371bb4b7282e84ecf8e38c4e7": {
      "model_module": "@jupyter-widgets/base",
      "model_module_version": "1.2.0",
      "model_name": "LayoutModel",
      "state": {}
     },
     "180815282f634deabc7b5c88126a9f7b": {
      "model_module": "@jupyter-widgets/base",
      "model_module_version": "1.2.0",
      "model_name": "LayoutModel",
      "state": {}
     },
     "18c4b82812374cb9bdb6d2a1a3e70ea9": {
      "model_module": "@jupyter-widgets/controls",
      "model_module_version": "1.5.0",
      "model_name": "DescriptionStyleModel",
      "state": {
       "description_width": ""
      }
     },
     "195e789c28ff4257a2d0d3f5bbc34681": {
      "model_module": "@jupyter-widgets/base",
      "model_module_version": "1.2.0",
      "model_name": "LayoutModel",
      "state": {}
     },
     "19852ceac8e1440c8af9be75f92dd394": {
      "model_module": "@jupyter-widgets/controls",
      "model_module_version": "1.5.0",
      "model_name": "CheckboxModel",
      "state": {
       "description": "Show force",
       "disabled": false,
       "layout": "IPY_MODEL_489ee786097a4b728842bc5bbc27ddd9",
       "style": "IPY_MODEL_31c01676d4c64df0b3e2daa13f9a9e07",
       "value": false
      }
     },
     "1a0725102b7e4d5081360f8bfaca3ba5": {
      "model_module": "@jupyter-widgets/controls",
      "model_module_version": "1.5.0",
      "model_name": "HBoxModel",
      "state": {
       "children": [
        "IPY_MODEL_aa9214756f9b4191af50cdc3f8deff70",
        "IPY_MODEL_2066d4689d2f4004acecc9900615360d"
       ],
       "layout": "IPY_MODEL_5950fb1ee99747de95fc93ac3c2ad6d7"
      }
     },
     "1a23dcedb34f433c8359e44b3697a987": {
      "model_module": "@jupyter-widgets/base",
      "model_module_version": "1.2.0",
      "model_name": "LayoutModel",
      "state": {}
     },
     "1ad45c01ef63497da2c14ed7e1e48a31": {
      "model_module": "@jupyter-widgets/controls",
      "model_module_version": "1.5.0",
      "model_name": "SliderStyleModel",
      "state": {
       "description_width": ""
      }
     },
     "1b65cd88e0374b9db02f038cf7cf2f21": {
      "model_module": "@jupyter-widgets/controls",
      "model_module_version": "1.5.0",
      "model_name": "ButtonModel",
      "state": {
       "description": "Download image",
       "layout": "IPY_MODEL_23aefcfb95ad43089bda59239d2bee53",
       "style": "IPY_MODEL_59fe36189ac64ccd9105054d1386941e",
       "tooltip": "Download current frame to your local PC"
      }
     },
     "1b943da35a314d91a904c9760d0fa0d6": {
      "model_module": "@jupyter-widgets/controls",
      "model_module_version": "1.5.0",
      "model_name": "LinkModel",
      "state": {
       "source": [
        "IPY_MODEL_8f8e08d4787f4fdeba83ad894b4a7bf2",
        "max"
       ],
       "target": [
        "IPY_MODEL_b059168a3f2b4134bbb761bc058392a6",
        "max_frame"
       ]
      }
     },
     "1bb5c4787449462eb13a5f56214ea56b": {
      "model_module": "@jupyter-widgets/controls",
      "model_module_version": "1.5.0",
      "model_name": "FloatSliderModel",
      "state": {
       "description": "Force scale",
       "layout": "IPY_MODEL_7252ef7475e54fde87a0d1f98d9f9dab",
       "step": 0.1,
       "style": "IPY_MODEL_4c1956c3a63c475bbd51715c0942e818",
       "value": 0.5
      }
     },
     "1c3ee71ae42b40faa6c225c58610ce35": {
      "model_module": "@jupyter-widgets/controls",
      "model_module_version": "1.5.0",
      "model_name": "LinkModel",
      "state": {
       "source": [
        "IPY_MODEL_eef75624fd364555b25f61885be6b10a",
        "max"
       ],
       "target": [
        "IPY_MODEL_9a56513c04c04b2895e6481153583d3f",
        "max_frame"
       ]
      }
     },
     "1c6bc81173454e44930c2a33dc12ad6c": {
      "model_module": "@jupyter-widgets/controls",
      "model_module_version": "1.5.0",
      "model_name": "HBoxModel",
      "state": {
       "children": [
        "IPY_MODEL_7be398478347491aa67c826562e5a6d9",
        "IPY_MODEL_cd404c5e3fe7483dadebbc5a8520a67e"
       ],
       "layout": "IPY_MODEL_48ffd1976055449d93773d80514a27b6"
      }
     },
     "1d24c6fdf7fc40698a615d996e806c44": {
      "model_module": "@jupyter-widgets/controls",
      "model_module_version": "1.5.0",
      "model_name": "ButtonModel",
      "state": {
       "description": "Save image",
       "layout": "IPY_MODEL_5c99f0d76ca547f8a2236d0eb86a494e",
       "style": "IPY_MODEL_2780f2f522a7488886e3599069ee4a5a",
       "tooltip": "Save current frame to file.\nCurrently .png and .html are supported.\nIt takes a bit time, please be patient."
      }
     },
     "1de4bf79c76e49109df75b508247a6bd": {
      "model_module": "@jupyter-widgets/controls",
      "model_module_version": "1.5.0",
      "model_name": "DropdownModel",
      "state": {
       "_options_labels": [
        "All",
        "Pd",
        "Pt"
       ],
       "description": "Show",
       "index": 0,
       "layout": "IPY_MODEL_df050c9e7ecb4ff6a6f6eecb0e75a56c",
       "style": "IPY_MODEL_ecceecc64f844d55872ac57763237f7d"
      }
     },
     "1deb50335cc14daa85d54c62a7ab22ea": {
      "model_module": "@jupyter-widgets/controls",
      "model_module_version": "1.5.0",
      "model_name": "SliderStyleModel",
      "state": {
       "description_width": ""
      }
     },
     "1df88db889cc460e97d072603c3e9cbb": {
      "model_module": "@jupyter-widgets/base",
      "model_module_version": "1.2.0",
      "model_name": "LayoutModel",
      "state": {}
     },
     "1e567ea9f6474a948ce5a17f68c410eb": {
      "model_module": "@jupyter-widgets/controls",
      "model_module_version": "1.5.0",
      "model_name": "DescriptionStyleModel",
      "state": {
       "description_width": ""
      }
     },
     "1ecaa66e181b464eb48f99221fb57328": {
      "model_module": "@jupyter-widgets/controls",
      "model_module_version": "1.5.0",
      "model_name": "LinkModel",
      "state": {
       "source": [
        "IPY_MODEL_6ee3aeae2a5b44de864928532c0277a7",
        "max"
       ],
       "target": [
        "IPY_MODEL_9a56513c04c04b2895e6481153583d3f",
        "max_frame"
       ]
      }
     },
     "1f16e6fb5af34118b6c9c27fe3d04eb6": {
      "model_module": "@jupyter-widgets/controls",
      "model_module_version": "1.5.0",
      "model_name": "LinkModel",
      "state": {
       "source": [
        "IPY_MODEL_f0a8c4da6a31400b89ec3b473068a06e",
        "value"
       ],
       "target": [
        "IPY_MODEL_28f16f8e5a1444e2b701df0cc09969d3",
        "frame"
       ]
      }
     },
     "1f88236fb8044bc88bcab76fe76c850e": {
      "model_module": "@jupyter-widgets/base",
      "model_module_version": "1.2.0",
      "model_name": "LayoutModel",
      "state": {}
     },
     "1fd7565548f3446297b3be1ad25315fd": {
      "model_module": "@jupyter-widgets/base",
      "model_module_version": "1.2.0",
      "model_name": "LayoutModel",
      "state": {}
     },
     "1fdd4835d05f469e97d70f53261caa18": {
      "model_module": "@jupyter-widgets/controls",
      "model_module_version": "1.5.0",
      "model_name": "HBoxModel",
      "state": {
       "children": [
        "IPY_MODEL_9be23abc3f52490193b8f300301a741e",
        "IPY_MODEL_c2977b6fd3b540e48bad25346c869ee7"
       ],
       "layout": "IPY_MODEL_ca7bf4e292c94f818834907489f84f91"
      }
     },
     "201c912b004f41bea7c265465d4d53d1": {
      "model_module": "@jupyter-widgets/controls",
      "model_module_version": "1.5.0",
      "model_name": "ButtonModel",
      "state": {
       "description": "Download image",
       "layout": "IPY_MODEL_ee350a40a62f471c9047aa73b62b6628",
       "style": "IPY_MODEL_55c25fa0a7c34f7aa82e529e042c2458",
       "tooltip": "Download current frame to your local PC"
      }
     },
     "2066d4689d2f4004acecc9900615360d": {
      "model_module": "@jupyter-widgets/controls",
      "model_module_version": "1.5.0",
      "model_name": "ButtonModel",
      "state": {
       "description": "Save image",
       "layout": "IPY_MODEL_ada5968620484910b65d59e9769e4842",
       "style": "IPY_MODEL_97eb4c60718d4d1c9aa9410bea631a0c",
       "tooltip": "Save current frame to file.\nCurrently .png and .html are supported.\nIt takes a bit time, please be patient."
      }
     },
     "20ac12297dad43cda84eb76cbe35afb8": {
      "model_module": "@jupyter-widgets/controls",
      "model_module_version": "1.5.0",
      "model_name": "HBoxModel",
      "state": {
       "children": [
        "IPY_MODEL_84ec754fa1d541c0bd4515d85a671338",
        "IPY_MODEL_84dfef29df8f4f0aa21b144ff11c7028"
       ],
       "layout": "IPY_MODEL_95893d4faa734583b3e3f946ac3d612c"
      }
     },
     "213995cfba83439c87e5039fc7e78658": {
      "model_module": "@jupyter-widgets/base",
      "model_module_version": "1.2.0",
      "model_name": "LayoutModel",
      "state": {}
     },
     "221ede0a2c0d4dd19715f88f56d1df01": {
      "model_module": "@jupyter-widgets/controls",
      "model_module_version": "1.5.0",
      "model_name": "ButtonModel",
      "state": {
       "icon": "compress",
       "layout": "IPY_MODEL_ee03771ddd6c4ceb97efc9a1ef4e40a4",
       "style": "IPY_MODEL_2ea7e1f656d24438afc717b68832a69f"
      }
     },
     "22a7172ce5814fffabdd88091474b59e": {
      "model_module": "@jupyter-widgets/base",
      "model_module_version": "1.2.0",
      "model_name": "LayoutModel",
      "state": {}
     },
     "22cae82870634c198476ad6ce077307f": {
      "model_module": "@jupyter-widgets/base",
      "model_module_version": "1.2.0",
      "model_name": "LayoutModel",
      "state": {
       "border": "0px solid black"
      }
     },
     "2322cc9e94dd40f28c8e3f59b86a2953": {
      "model_module": "@jupyter-widgets/controls",
      "model_module_version": "1.5.0",
      "model_name": "ButtonStyleModel",
      "state": {}
     },
     "23aefcfb95ad43089bda59239d2bee53": {
      "model_module": "@jupyter-widgets/base",
      "model_module_version": "1.2.0",
      "model_name": "LayoutModel",
      "state": {}
     },
     "242cd3440814403b90f2055074ea2ce7": {
      "model_module": "@jupyter-widgets/controls",
      "model_module_version": "1.5.0",
      "model_name": "SliderStyleModel",
      "state": {
       "description_width": ""
      }
     },
     "2467a9c6a1d74e418811396cf417fcff": {
      "model_module": "@jupyter-widgets/controls",
      "model_module_version": "1.5.0",
      "model_name": "SliderStyleModel",
      "state": {
       "description_width": ""
      }
     },
     "2510ea66e362414589c08aa64e948f6c": {
      "model_module": "@jupyter-widgets/controls",
      "model_module_version": "1.5.0",
      "model_name": "ButtonStyleModel",
      "state": {}
     },
     "253044a9b32146fa8be892aefe98e30b": {
      "model_module": "@jupyter-widgets/controls",
      "model_module_version": "1.5.0",
      "model_name": "HBoxModel",
      "state": {
       "children": [
        "IPY_MODEL_f0a8c4da6a31400b89ec3b473068a06e",
        "IPY_MODEL_46249d082f9a49ef8b2d0cedf4f43f17"
       ],
       "layout": "IPY_MODEL_7cdf85367dbd4728a76eb8c03da6ff65"
      }
     },
     "2564126dc3cd4738b34e0800cacdea89": {
      "model_module": "@jupyter-widgets/base",
      "model_module_version": "1.2.0",
      "model_name": "LayoutModel",
      "state": {
       "border": "0px solid black"
      }
     },
     "25f4fc2add4f4529beff020670d06191": {
      "model_module": "@jupyter-widgets/controls",
      "model_module_version": "1.5.0",
      "model_name": "LinkModel",
      "state": {
       "source": [
        "IPY_MODEL_a4cab0cca1c5443ba1fd863554e2262f",
        "max"
       ],
       "target": [
        "IPY_MODEL_fe4cbd1211f94da29c1fdbcb5a9b7142",
        "max_frame"
       ]
      }
     },
     "260b1824adba45949b7dccfed31e5181": {
      "model_module": "@jupyter-widgets/controls",
      "model_module_version": "1.5.0",
      "model_name": "DescriptionStyleModel",
      "state": {
       "description_width": ""
      }
     },
     "2673e6fa81474a4598d30862190e7c4f": {
      "model_module": "@jupyter-widgets/controls",
      "model_module_version": "1.5.0",
      "model_name": "SliderStyleModel",
      "state": {
       "description_width": ""
      }
     },
     "2726cd5d9a844671be3ce29e4a5ce306": {
      "model_module": "@jupyter-widgets/controls",
      "model_module_version": "1.5.0",
      "model_name": "LinkModel",
      "state": {
       "source": [
        "IPY_MODEL_46d2127c9c7a4c668a654df09e5f4784",
        "value"
       ],
       "target": [
        "IPY_MODEL_991bd65355c7440ea81b8cd7b25435ad",
        "value"
       ]
      }
     },
     "274a137b2f5a4e3fb4b4ad00205def4f": {
      "model_module": "@jupyter-widgets/controls",
      "model_module_version": "1.5.0",
      "model_name": "DescriptionStyleModel",
      "state": {
       "description_width": ""
      }
     },
     "2750ab9135f54f33b53e53ff1c6b98b0": {
      "model_module": "@jupyter-widgets/base",
      "model_module_version": "1.2.0",
      "model_name": "LayoutModel",
      "state": {}
     },
     "2780f2f522a7488886e3599069ee4a5a": {
      "model_module": "@jupyter-widgets/controls",
      "model_module_version": "1.5.0",
      "model_name": "ButtonStyleModel",
      "state": {}
     },
     "27e2ce82f22e407ab2c3492d28c4ebe8": {
      "model_module": "@jupyter-widgets/controls",
      "model_module_version": "1.5.0",
      "model_name": "DescriptionStyleModel",
      "state": {
       "description_width": ""
      }
     },
     "281fba68b30c485abc67c70ea2a48d18": {
      "model_module": "@jupyter-widgets/output",
      "model_module_version": "1.0.0",
      "model_name": "OutputModel",
      "state": {
       "layout": "IPY_MODEL_af97b5d8d9c44f2fa8ad1a24a868c22d"
      }
     },
     "289ae8809b404f2bad9170bb0d1f3cff": {
      "model_module": "@jupyter-widgets/base",
      "model_module_version": "1.2.0",
      "model_name": "LayoutModel",
      "state": {}
     },
     "28f16f8e5a1444e2b701df0cc09969d3": {
      "model_module": "nglview-js-widgets",
      "model_module_version": "3.0.1",
      "model_name": "NGLModel",
      "state": {
       "_camera_orientation": [
        41.6584599356036,
        0,
        0,
        0,
        0,
        41.6584599356036,
        0,
        0,
        0,
        0,
        41.6584599356036,
        0,
        -0.004499912261962891,
        0.008500099182128906,
        -0.01900005340576172,
        1
       ],
       "_camera_str": "orthographic",
       "_gui_theme": null,
       "_ibtn_fullscreen": "IPY_MODEL_b7d2b1d0a3874f76abbd5c36fbc3f85e",
       "_igui": null,
       "_iplayer": "IPY_MODEL_253044a9b32146fa8be892aefe98e30b",
       "_ngl_color_dict": {},
       "_ngl_coordinate_resource": {},
       "_ngl_full_stage_parameters": {
        "ambientColor": 14540253,
        "ambientIntensity": 0.2,
        "backgroundColor": "white",
        "cameraEyeSep": 0.3,
        "cameraFov": 40,
        "cameraType": "orthographic",
        "clipDist": 0,
        "clipFar": 100,
        "clipNear": 0,
        "fogFar": 100,
        "fogNear": 50,
        "hoverTimeout": 0,
        "impostor": true,
        "lightColor": 14540253,
        "lightIntensity": 1,
        "mousePreset": "default",
        "panSpeed": 1,
        "quality": "medium",
        "rotateSpeed": 2,
        "sampleLevel": 0,
        "tooltip": true,
        "workerDefault": true,
        "zoomSpeed": 1.2
       },
       "_ngl_msg_archive": [
        {
         "args": [
          {
           "binary": false,
           "data": "MODEL     1\nATOM      1   Pt MOL     1      -9.591  -9.707  -0.019  1.00  0.00          PT  \nATOM      2   Pd MOL     1     -11.615  -5.879  -2.000  1.00  0.00          PD  \nATOM      3   Pd MOL     1      -9.763  -7.886  -2.118  1.00  0.00          PD  \nATOM      4   Pt MOL     1      -9.721  -5.902  -3.985  1.00  0.00          PT  \nATOM      5   Pd MOL     1     -11.499  -7.875  -0.024  1.00  0.00          PD  \nATOM      6   Pd MOL     1     -11.633  -5.863   1.942  1.00  0.00          PD  \nATOM      7   Pd MOL     1      -9.764  -7.886   2.065  1.00  0.00          PD  \nATOM      8   Pd MOL     1      -9.747  -5.862  -0.013  1.00  0.00          PD  \nATOM      9   Pt MOL     1      -9.745  -5.919   3.942  1.00  0.00          PT  \nATOM     10   Pd MOL     1     -11.650  -1.918  -5.864  1.00  0.00          PD  \nATOM     11   Pd MOL     1      -9.785  -4.013  -5.931  1.00  0.00          PD  \nATOM     12   Pd MOL     1      -9.764  -2.040  -7.879  1.00  0.00          PD  \nATOM     13   Pd MOL     1     -11.660  -3.905  -3.902  1.00  0.00          PD  \nATOM     14   Pt MOL     1     -11.654  -1.989  -1.977  1.00  0.00          PT  \nATOM     15   Pd MOL     1      -9.733  -3.924  -1.969  1.00  0.00          PD  \nATOM     16   Pd MOL     1      -9.751  -1.971  -3.928  1.00  0.00          PD  \nATOM     17   Pd MOL     1     -11.733  -3.890  -0.043  1.00  0.00          PD  \nATOM     18   Pd MOL     1     -11.769  -1.928   2.004  1.00  0.00          PD  \nATOM     19   Pd MOL     1      -9.776  -3.901   1.945  1.00  0.00          PD  \nATOM     20   Pd MOL     1      -9.807  -1.955   0.000  1.00  0.00          PD  \nATOM     21   Pd MOL     1     -11.633  -3.947   3.919  1.00  0.00          PD  \nATOM     22   Pd MOL     1     -11.691  -1.890   5.820  1.00  0.00          PD  \nATOM     23   Pd MOL     1      -9.799  -3.999   5.928  1.00  0.00          PD  \nATOM     24   Pt MOL     1      -9.747  -1.977   3.900  1.00  0.00          PT  \nATOM     25   Pd MOL     1      -9.781  -2.059   7.867  1.00  0.00          PD  \nATOM     26   Pd MOL     1      -9.699   0.052  -9.760  1.00  0.00          PD  \nATOM     27   Pt MOL     1     -11.496   0.009  -7.737  1.00  0.00          PT  \nATOM     28   Pd MOL     1     -11.640   1.941  -5.862  1.00  0.00          PD  \nATOM     29   Pd MOL     1      -9.703   0.006  -5.824  1.00  0.00          PD  \nATOM     30   Pd MOL     1      -9.767   2.085  -7.894  1.00  0.00          PD  \nATOM     31   Pd MOL     1     -11.752   0.002  -3.836  1.00  0.00          PD  \nATOM     32   Pt MOL     1     -11.669   1.971  -1.959  1.00  0.00          PT  \nATOM     33   Pd MOL     1      -9.768  -0.015  -1.965  1.00  0.00          PD  \nATOM     34   Pt MOL     1      -9.748   1.947  -3.906  1.00  0.00          PT  \nATOM     35   Pd MOL     1     -11.802  -0.011  -0.084  1.00  0.00          PD  \nATOM     36   Pd MOL     1     -11.761   1.945   2.013  1.00  0.00          PD  \nATOM     37   Pt MOL     1      -9.801  -0.026   1.910  1.00  0.00          PT  \nATOM     38   Pd MOL     1      -9.805   1.921   0.032  1.00  0.00          PD  \nATOM     39   Pt MOL     1     -11.629   0.010   3.912  1.00  0.00          PT  \nATOM     40   Pt MOL     1     -11.567   1.937   5.779  1.00  0.00          PT  \nATOM     41   Pt MOL     1      -9.648  -0.026   5.856  1.00  0.00          PT  \nATOM     42   Pd MOL     1      -9.653   1.927   3.856  1.00  0.00          PD  \nATOM     43   Pt MOL     1     -11.508   0.060   7.702  1.00  0.00          PT  \nATOM     44   Pd MOL     1      -9.742   0.021   9.757  1.00  0.00          PD  \nATOM     45   Pd MOL     1      -9.800   2.122   7.872  1.00  0.00          PD  \nATOM     46   Pt MOL     1      -9.784   3.959  -5.859  1.00  0.00          PT  \nATOM     47   Pd MOL     1     -11.696   3.883  -3.890  1.00  0.00          PD  \nATOM     48   Pd MOL     1     -11.648   5.861  -1.976  1.00  0.00          PD  \nATOM     49   Pt MOL     1      -9.751   3.894  -1.944  1.00  0.00          PT  \nATOM     50   Pt MOL     1      -9.779   5.902  -3.949  1.00  0.00          PT  \nATOM     51   Pd MOL     1     -11.755   3.880  -0.036  1.00  0.00          PD  \nATOM     52   Pd MOL     1     -11.689   5.774   2.011  1.00  0.00          PD  \nATOM     53   Pd MOL     1      -9.744   3.890   1.940  1.00  0.00          PD  \nATOM     54   Pd MOL     1      -9.730   5.837   0.005  1.00  0.00          PD  \nATOM     55   Pt MOL     1     -11.556   3.871   3.953  1.00  0.00          PT  \nATOM     56   Pt MOL     1      -9.752   4.013   5.916  1.00  0.00          PT  \nATOM     57   Pt MOL     1      -9.756   5.896   3.953  1.00  0.00          PT  \nATOM     58   Pt MOL     1      -9.738   7.825  -2.019  1.00  0.00          PT  \nATOM     59   Pd MOL     1     -11.603   7.728   0.020  1.00  0.00          PD  \nATOM     60   Pt MOL     1      -9.766   7.776   2.018  1.00  0.00          PT  \nATOM     61   Pd MOL     1      -9.744   9.687  -0.010  1.00  0.00          PD  \nATOM     62   Pd MOL     1      -7.859  -9.810  -2.127  1.00  0.00          PD  \nATOM     63   Pt MOL     1      -5.805 -11.612  -1.931  1.00  0.00          PT  \nATOM     64   Pd MOL     1      -5.936  -9.813  -4.047  1.00  0.00          PD  \nATOM     65   Pt MOL     1      -7.666 -11.522  -0.014  1.00  0.00          PT  \nATOM     66   Pd MOL     1      -7.862  -9.814   2.095  1.00  0.00          PD  \nATOM     67   Pt MOL     1      -5.788 -11.604   1.890  1.00  0.00          PT  \nATOM     68   Pd MOL     1      -5.836  -9.628  -0.009  1.00  0.00          PD  \nATOM     69   Pd MOL     1      -5.933  -9.797   4.011  1.00  0.00          PD  \nATOM     70   Pt MOL     1      -7.847  -5.944  -5.940  1.00  0.00          PT  \nATOM     71   Pt MOL     1      -5.919  -7.878  -5.964  1.00  0.00          PT  \nATOM     72   Pt MOL     1      -5.927  -5.948  -7.851  1.00  0.00          PT  \nATOM     73   Pt MOL     1      -7.828  -7.837  -4.018  1.00  0.00          PT  \nATOM     74   Pd MOL     1      -7.816  -5.880  -1.978  1.00  0.00          PD  \nATOM     75   Pt MOL     1      -5.895  -7.824  -2.012  1.00  0.00          PT  \nATOM     76   Pd MOL     1      -5.881  -5.880  -3.945  1.00  0.00          PD  \nATOM     77   Pd MOL     1      -7.809  -7.775  -0.014  1.00  0.00          PD  \nATOM     78   Pd MOL     1      -7.834  -5.868   1.968  1.00  0.00          PD  \nATOM     79   Pd MOL     1      -5.890  -7.814   2.018  1.00  0.00          PD  \nATOM     80   Pd MOL     1      -5.891  -5.899  -0.001  1.00  0.00          PD  \nATOM     81   Pt MOL     1      -7.846  -7.822   3.966  1.00  0.00          PT  \nATOM     82   Pd MOL     1      -7.935  -5.994   5.978  1.00  0.00          PD  \nATOM     83   Pd MOL     1      -5.953  -7.904   5.956  1.00  0.00          PD  \nATOM     84   Pd MOL     1      -5.892  -5.885   3.956  1.00  0.00          PD  \nATOM     85   Pt MOL     1      -5.931  -5.918   7.838  1.00  0.00          PT  \nATOM     86   Pd MOL     1      -7.846  -2.009  -9.817  1.00  0.00          PD  \nATOM     87   Pd MOL     1      -5.930  -3.996  -9.805  1.00  0.00          PD  \nATOM     88   Pd MOL     1      -5.796  -1.983 -11.703  1.00  0.00          PD  \nATOM     89   Pd MOL     1      -7.868  -4.034  -7.901  1.00  0.00          PD  \nATOM     90   Pd MOL     1      -7.835  -1.983  -5.919  1.00  0.00          PD  \nATOM     91   Pd MOL     1      -5.916  -3.926  -5.916  1.00  0.00          PD  \nATOM     92   Pt MOL     1      -5.912  -1.984  -7.859  1.00  0.00          PT  \nATOM     93   Pd MOL     1      -7.812  -3.917  -3.951  1.00  0.00          PD  \nATOM     94   Pd MOL     1      -7.809  -1.981  -1.957  1.00  0.00          PD  \nATOM     95   Pd MOL     1      -5.874  -3.926  -1.962  1.00  0.00          PD  \nATOM     96   Pt MOL     1      -5.896  -1.985  -3.938  1.00  0.00          PT  \nATOM     97   Pd MOL     1      -7.824  -3.925   0.002  1.00  0.00          PD  \nATOM     98   Pd MOL     1      -7.818  -1.969   1.940  1.00  0.00          PD  \nATOM     99   Pd MOL     1      -5.878  -3.937   1.969  1.00  0.00          PD  \nATOM    100   Pt MOL     1      -5.865  -1.987   0.009  1.00  0.00          PT  \nATOM    101   Pd MOL     1      -7.841  -3.933   3.933  1.00  0.00          PD  \nATOM    102   Pt MOL     1      -7.832  -2.009   5.892  1.00  0.00          PT  \nATOM    103   Pd MOL     1      -5.909  -3.952   5.882  1.00  0.00          PD  \nATOM    104   Pd MOL     1      -5.872  -1.991   3.942  1.00  0.00          PD  \nATOM    105   Pt MOL     1      -7.831  -3.968   7.845  1.00  0.00          PT  \nATOM    106   Pd MOL     1      -7.848  -2.046   9.802  1.00  0.00          PD  \nATOM    107   Pd MOL     1      -5.959  -4.030   9.804  1.00  0.00          PD  \nATOM    108   Pd MOL     1      -5.889  -1.988   7.836  1.00  0.00          PD  \nATOM    109   Pd MOL     1      -5.789  -1.964  11.666  1.00  0.00          PD  \nATOM    110   Pd MOL     1      -7.665   0.098 -11.664  1.00  0.00          PD  \nATOM    111   Pt MOL     1      -7.791   2.010  -9.750  1.00  0.00          PT  \nATOM    112   Pd MOL     1      -5.848  -0.013  -9.724  1.00  0.00          PD  \nATOM    113   Pt MOL     1      -5.774   2.001 -11.574  1.00  0.00          PT  \nATOM    114   Pt MOL     1      -7.834   0.003  -7.829  1.00  0.00          PT  \nATOM    115   Pd MOL     1      -7.829   1.986  -5.896  1.00  0.00          PD  \nATOM    116   Pd MOL     1      -5.901  -0.017  -5.909  1.00  0.00          PD  \nATOM    117   Pd MOL     1      -5.882   2.013  -7.816  1.00  0.00          PD  \nATOM    118   Pd MOL     1      -7.800  -0.015  -3.917  1.00  0.00          PD  \nATOM    119   Pt MOL     1      -7.827   1.946  -1.955  1.00  0.00          PT  \nATOM    120   Pt MOL     1      -5.886  -0.018  -1.964  1.00  0.00          PT  \nATOM    121   Pt MOL     1      -5.876   1.969  -3.952  1.00  0.00          PT  \nATOM    122   Pd MOL     1      -7.818  -0.029  -0.004  1.00  0.00          PD  \nATOM    123   Pd MOL     1      -7.790   1.918   1.932  1.00  0.00          PD  \nATOM    124   Pd MOL     1      -5.845  -0.020   1.960  1.00  0.00          PD  \nATOM    125   Pt MOL     1      -5.864   1.958  -0.015  1.00  0.00          PT  \nATOM    126   Pd MOL     1      -7.801  -0.042   3.911  1.00  0.00          PD  \nATOM    127   Pt MOL     1      -7.815   1.979   5.891  1.00  0.00          PT  \nATOM    128   Pd MOL     1      -5.905  -0.018   5.898  1.00  0.00          PD  \nATOM    129   Pd MOL     1      -5.887   1.955   3.943  1.00  0.00          PD  \nATOM    130   Pd MOL     1      -7.832   0.016   7.854  1.00  0.00          PD  \nATOM    131   Pd MOL     1      -7.856   2.096   9.799  1.00  0.00          PD  \nATOM    132   Pt MOL     1      -5.813  -0.006   9.694  1.00  0.00          PT  \nATOM    133   Pt MOL     1      -5.878   1.992   7.843  1.00  0.00          PT  \nATOM    134   Pt MOL     1      -7.669   0.031  11.527  1.00  0.00          PT  \nATOM    135   Pt MOL     1      -5.809   1.940  11.610  1.00  0.00          PT  \nATOM    136   Pd MOL     1      -5.957   4.036  -9.796  1.00  0.00          PD  \nATOM    137   Pd MOL     1      -7.928   4.029  -7.892  1.00  0.00          PD  \nATOM    138   Pd MOL     1      -7.932   5.978  -5.940  1.00  0.00          PD  \nATOM    139   Pt MOL     1      -5.915   3.969  -5.922  1.00  0.00          PT  \nATOM    140   Pd MOL     1      -5.981   5.994  -7.868  1.00  0.00          PD  \nATOM    141   Pt MOL     1      -7.807   3.927  -3.944  1.00  0.00          PT  \nATOM    142   Pt MOL     1      -7.811   5.853  -1.964  1.00  0.00          PT  \nATOM    143   Pt MOL     1      -5.873   3.930  -1.965  1.00  0.00          PT  \nATOM    144   Pt MOL     1      -5.887   5.881  -3.943  1.00  0.00          PT  \nATOM    145   Pt MOL     1      -7.825   3.889   0.017  1.00  0.00          PT  \nATOM    146   Pt MOL     1      -7.795   5.856   1.987  1.00  0.00          PT  \nATOM    147   Pd MOL     1      -5.875   3.907   1.969  1.00  0.00          PD  \nATOM    148   Pd MOL     1      -5.880   5.873   0.031  1.00  0.00          PD  \nATOM    149   Pd MOL     1      -7.785   3.936   3.941  1.00  0.00          PD  \nATOM    150   Pd MOL     1      -7.896   5.984   5.990  1.00  0.00          PD  \nATOM    151   Pt MOL     1      -5.884   3.956   5.909  1.00  0.00          PT  \nATOM    152   Pd MOL     1      -5.917   5.928   3.981  1.00  0.00          PD  \nATOM    153   Pt MOL     1      -7.833   3.968   7.831  1.00  0.00          PT  \nATOM    154   Pd MOL     1      -5.922   4.011   9.825  1.00  0.00          PD  \nATOM    155   Pd MOL     1      -5.942   5.956   7.896  1.00  0.00          PD  \nATOM    156   Pt MOL     1      -5.956   7.882  -5.875  1.00  0.00          PT  \nATOM    157   Pt MOL     1      -7.885   7.881  -3.968  1.00  0.00          PT  \nATOM    158   Pt MOL     1      -7.816   9.734  -2.003  1.00  0.00          PT  \nATOM    159   Pd MOL     1      -5.856   7.789  -1.964  1.00  0.00          PD  \nATOM    160   Pt MOL     1      -5.930   9.774  -3.951  1.00  0.00          PT  \nATOM    161   Pt MOL     1      -7.811   7.807   0.030  1.00  0.00          PT  \nATOM    162   Pd MOL     1      -7.861   9.791   2.031  1.00  0.00          PD  \nATOM    163   Pt MOL     1      -5.892   7.836   2.004  1.00  0.00          PT  \nATOM    164   Pt MOL     1      -5.858   9.713   0.020  1.00  0.00          PT  \nATOM    165   Pd MOL     1      -7.901   7.881   3.985  1.00  0.00          PD  \nATOM    166   Pd MOL     1      -5.933   7.964   5.956  1.00  0.00          PD  \nATOM    167   Pd MOL     1      -5.908   9.834   3.971  1.00  0.00          PD  \nATOM    168   Pd MOL     1      -5.844  11.647  -1.972  1.00  0.00          PD  \nATOM    169   Pd MOL     1      -7.765  11.584  -0.039  1.00  0.00          PD  \nATOM    170   Pd MOL     1      -5.769  11.724   1.881  1.00  0.00          PD  \nATOM    171   Pt MOL     1      -3.973  -9.744  -5.947  1.00  0.00          PT  \nATOM    172   Pt MOL     1      -1.997 -11.541  -5.884  1.00  0.00          PT  \nATOM    173   Pt MOL     1      -2.035  -9.725  -7.877  1.00  0.00          PT  \nATOM    174   Pd MOL     1      -3.893 -11.694  -3.904  1.00  0.00          PD  \nATOM    175   Pt MOL     1      -3.917  -9.705  -1.994  1.00  0.00          PT  \nATOM    176   Pt MOL     1      -1.985 -11.679  -1.920  1.00  0.00          PT  \nATOM    177   Pt MOL     1      -1.954  -9.751  -3.883  1.00  0.00          PT  \nATOM    178   Pt MOL     1      -3.908 -11.647  -0.036  1.00  0.00          PT  \nATOM    179   Pt MOL     1      -3.902  -9.740   1.981  1.00  0.00          PT  \nATOM    180   Pd MOL     1      -2.009 -11.787   1.936  1.00  0.00          PD  \nATOM    181   Pd MOL     1      -1.944  -9.777   0.021  1.00  0.00          PD  \nATOM    182   Pd MOL     1      -3.956 -11.678   3.914  1.00  0.00          PD  \nATOM    183   Pt MOL     1      -3.932  -9.764   5.895  1.00  0.00          PT  \nATOM    184   Pd MOL     1      -1.926 -11.638   5.863  1.00  0.00          PD  \nATOM    185   Pd MOL     1      -1.968  -9.789   3.891  1.00  0.00          PD  \nATOM    186   Pd MOL     1      -2.083  -9.757   7.883  1.00  0.00          PD  \nATOM    187   Pd MOL     1      -3.989  -5.933  -9.812  1.00  0.00          PD  \nATOM    188   Pd MOL     1      -2.061  -7.855  -9.812  1.00  0.00          PD  \nATOM    189   Pd MOL     1      -1.971  -5.754 -11.731  1.00  0.00          PD  \nATOM    190   Pt MOL     1      -3.974  -7.825  -7.859  1.00  0.00          PT  \nATOM    191   Pd MOL     1      -3.938  -5.867  -5.884  1.00  0.00          PD  \nATOM    192   Pd MOL     1      -1.969  -7.803  -5.858  1.00  0.00          PD  \nATOM    193   Pt MOL     1      -1.992  -5.876  -7.832  1.00  0.00          PT  \nATOM    194   Pd MOL     1      -3.937  -7.819  -3.936  1.00  0.00          PD  \nATOM    195   Pd MOL     1      -3.937  -5.877  -1.977  1.00  0.00          PD  \nATOM    196   Pd MOL     1      -1.950  -7.804  -1.970  1.00  0.00          PD  \nATOM    197   Pt MOL     1      -1.985  -5.852  -3.925  1.00  0.00          PT  \nATOM    198   Pd MOL     1      -3.916  -7.798   0.001  1.00  0.00          PD  \nATOM    199   Pt MOL     1      -3.927  -5.879   1.967  1.00  0.00          PT  \nATOM    200   Pt MOL     1      -1.973  -7.830   1.967  1.00  0.00          PT  \nATOM    201   Pt MOL     1      -1.959  -5.866   0.014  1.00  0.00          PT  \nATOM    202   Pd MOL     1      -3.928  -7.817   3.937  1.00  0.00          PD  \nATOM    203   Pt MOL     1      -3.944  -5.881   5.896  1.00  0.00          PT  \nATOM    204   Pd MOL     1      -1.975  -7.822   5.888  1.00  0.00          PD  \nATOM    205   Pd MOL     1      -1.982  -5.870   3.933  1.00  0.00          PD  \nATOM    206   Pt MOL     1      -3.998  -7.845   7.829  1.00  0.00          PT  \nATOM    207   Pd MOL     1      -4.054  -5.998   9.821  1.00  0.00          PD  \nATOM    208   Pd MOL     1      -2.041  -7.826   9.797  1.00  0.00          PD  \nATOM    209   Pd MOL     1      -1.991  -5.900   7.842  1.00  0.00          PD  \nATOM    210   Pt MOL     1      -1.944  -5.726  11.595  1.00  0.00          PT  \nATOM    211   Pt MOL     1      -3.864  -3.834 -11.625  1.00  0.00          PT  \nATOM    212   Pt MOL     1      -3.922  -1.937  -9.730  1.00  0.00          PT  \nATOM    213   Pt MOL     1      -1.960  -3.908  -9.717  1.00  0.00          PT  \nATOM    214   Pt MOL     1      -1.927  -1.963 -11.678  1.00  0.00          PT  \nATOM    215   Pd MOL     1      -3.953  -3.932  -7.836  1.00  0.00          PD  \nATOM    216   Pd MOL     1      -3.946  -1.973  -5.878  1.00  0.00          PD  \nATOM    217   Pt MOL     1      -1.976  -3.928  -5.864  1.00  0.00          PT  \nATOM    218   Pd MOL     1      -1.964  -1.953  -7.787  1.00  0.00          PD  \nATOM    219   Pd MOL     1      -3.946  -3.917  -3.945  1.00  0.00          PD  \nATOM    220   Pd MOL     1      -3.934  -1.976  -1.967  1.00  0.00          PD  \nATOM    221   Pd MOL     1      -1.983  -3.926  -1.955  1.00  0.00          PD  \nATOM    222   Pd MOL     1      -1.978  -1.956  -3.921  1.00  0.00          PD  \nATOM    223   Pt MOL     1      -3.931  -3.943   0.005  1.00  0.00          PT  \nATOM    224   Pd MOL     1      -3.927  -1.963   1.970  1.00  0.00          PD  \nATOM    225   Pt MOL     1      -1.989  -3.904   1.950  1.00  0.00          PT  \nATOM    226   Pd MOL     1      -1.984  -1.953  -0.007  1.00  0.00          PD  \nATOM    227   Pd MOL     1      -3.928  -3.943   3.951  1.00  0.00          PD  \nATOM    228   Pd MOL     1      -3.927  -1.975   5.895  1.00  0.00          PD  \nATOM    229   Pt MOL     1      -1.972  -3.949   5.916  1.00  0.00          PT  \nATOM    230   Pd MOL     1      -1.981  -1.975   3.926  1.00  0.00          PD  \nATOM    231   Pd MOL     1      -3.952  -3.953   7.846  1.00  0.00          PD  \nATOM    232   Pd MOL     1      -3.888  -1.937   9.743  1.00  0.00          PD  \nATOM    233   Pd MOL     1      -1.940  -3.865   9.691  1.00  0.00          PD  \nATOM    234   Pd MOL     1      -1.960  -1.936   7.800  1.00  0.00          PD  \nATOM    235   Pt MOL     1      -3.881  -3.914  11.557  1.00  0.00          PT  \nATOM    236   Pd MOL     1      -1.960  -1.991  11.771  1.00  0.00          PD  \nATOM    237   Pd MOL     1      -3.897  -0.003 -11.750  1.00  0.00          PD  \nATOM    238   Pd MOL     1      -3.877   1.948  -9.698  1.00  0.00          PD  \nATOM    239   Pd MOL     1      -1.963   0.012  -9.759  1.00  0.00          PD  \nATOM    240   Pd MOL     1      -1.939   1.959 -11.765  1.00  0.00          PD  \nATOM    241   Pt MOL     1      -3.931  -0.025  -7.813  1.00  0.00          PT  \nATOM    242   Pd MOL     1      -3.951   1.971  -5.908  1.00  0.00          PD  \nATOM    243   Pd MOL     1      -1.980   0.012  -5.869  1.00  0.00          PD  \nATOM    244   Pd MOL     1      -1.967   1.950  -7.797  1.00  0.00          PD  \nATOM    245   Pd MOL     1      -3.957   0.001  -3.930  1.00  0.00          PD  \nATOM    246   Pt MOL     1      -3.920   1.953  -1.970  1.00  0.00          PT  \nATOM    247   Pt MOL     1      -1.968  -0.016  -1.967  1.00  0.00          PT  \nATOM    248   Pd MOL     1      -1.968   1.963  -3.922  1.00  0.00          PD  \nATOM    249   Pt MOL     1      -3.925  -0.002  -0.016  1.00  0.00          PT  \nATOM    250   Pd MOL     1      -3.940   1.965   1.964  1.00  0.00          PD  \nATOM    251   Pd MOL     1      -1.980   0.004   1.963  1.00  0.00          PD  \nATOM    252   Pd MOL     1      -1.958   1.940  -0.001  1.00  0.00          PD  \nATOM    253   Pd MOL     1      -3.935  -0.003   3.940  1.00  0.00          PD  \nATOM    254   Pt MOL     1      -3.945   1.966   5.893  1.00  0.00          PT  \nATOM    255   Pt MOL     1      -1.987   0.016   5.865  1.00  0.00          PT  \nATOM    256   Pd MOL     1      -1.987   1.958   3.929  1.00  0.00          PD  \nATOM    257   Pt MOL     1      -3.931   0.004   7.824  1.00  0.00          PT  \nATOM    258   Pd MOL     1      -3.871   1.962   9.761  1.00  0.00          PD  \nATOM    259   Pd MOL     1      -1.925   0.004   9.827  1.00  0.00          PD  \nATOM    260   Pd MOL     1      -1.963   1.954   7.811  1.00  0.00          PD  \nATOM    261   Pd MOL     1      -3.886   0.040  11.760  1.00  0.00          PD  \nATOM    262   Pd MOL     1      -1.879   1.966  11.784  1.00  0.00          PD  \nATOM    263   Pt MOL     1      -3.888   3.848 -11.609  1.00  0.00          PT  \nATOM    264   Pd MOL     1      -3.972   5.938  -9.814  1.00  0.00          PD  \nATOM    265   Pd MOL     1      -1.969   3.899  -9.727  1.00  0.00          PD  \nATOM    266   Pd MOL     1      -1.956   5.824 -11.677  1.00  0.00          PD  \nATOM    267   Pt MOL     1      -3.971   3.981  -7.831  1.00  0.00          PT  \nATOM    268   Pd MOL     1      -3.979   5.911  -5.910  1.00  0.00          PD  \nATOM    269   Pd MOL     1      -1.980   3.920  -5.900  1.00  0.00          PD  \nATOM    270   Pt MOL     1      -2.022   5.876  -7.797  1.00  0.00          PT  \nATOM    271   Pd MOL     1      -3.926   3.913  -3.934  1.00  0.00          PD  \nATOM    272   Pt MOL     1      -3.922   5.876  -1.957  1.00  0.00          PT  \nATOM    273   Pt MOL     1      -1.951   3.918  -1.965  1.00  0.00          PT  \nATOM    274   Pd MOL     1      -1.983   5.862  -3.940  1.00  0.00          PD  \nATOM    275   Pt MOL     1      -3.914   3.918  -0.002  1.00  0.00          PT  \nATOM    276   Pd MOL     1      -3.932   5.868   1.996  1.00  0.00          PD  \nATOM    277   Pd MOL     1      -1.986   3.909   1.990  1.00  0.00          PD  \nATOM    278   Pt MOL     1      -1.971   5.871   0.000  1.00  0.00          PT  \nATOM    279   Pd MOL     1      -3.962   3.937   3.963  1.00  0.00          PD  \nATOM    280   Pd MOL     1      -3.971   5.924   5.902  1.00  0.00          PD  \nATOM    281   Pd MOL     1      -1.991   3.936   5.888  1.00  0.00          PD  \nATOM    282   Pt MOL     1      -1.979   5.866   3.955  1.00  0.00          PT  \nATOM    283   Pd MOL     1      -3.947   3.954   7.842  1.00  0.00          PD  \nATOM    284   Pd MOL     1      -3.956   5.920   9.837  1.00  0.00          PD  \nATOM    285   Pd MOL     1      -1.966   3.882   9.728  1.00  0.00          PD  \nATOM    286   Pd MOL     1      -2.026   5.905   7.831  1.00  0.00          PD  \nATOM    287   Pd MOL     1      -3.869   3.875  11.712  1.00  0.00          PD  \nATOM    288   Pt MOL     1      -1.853   5.797  11.605  1.00  0.00          PT  \nATOM    289   Pt MOL     1      -2.029   7.824  -9.726  1.00  0.00          PT  \nATOM    290   Pd MOL     1      -4.047   7.924  -7.905  1.00  0.00          PD  \nATOM    291   Pd MOL     1      -4.044   9.817  -5.920  1.00  0.00          PD  \nATOM    292   Pt MOL     1      -2.001   7.820  -5.865  1.00  0.00          PT  \nATOM    293   Pt MOL     1      -2.022   9.737  -7.847  1.00  0.00          PT  \nATOM    294   Pt MOL     1      -3.925   7.820  -3.946  1.00  0.00          PT  \nATOM    295   Pd MOL     1      -3.914   9.727  -1.977  1.00  0.00          PD  \nATOM    296   Pd MOL     1      -1.975   7.808  -1.958  1.00  0.00          PD  \nATOM    297   Pt MOL     1      -1.958   9.723  -3.893  1.00  0.00          PT  \nATOM    298   Pt MOL     1      -3.916   7.812   0.038  1.00  0.00          PT  \nATOM    299   Pd MOL     1      -3.913   9.764   1.970  1.00  0.00          PD  \nATOM    300   Pd MOL     1      -1.947   7.799   1.981  1.00  0.00          PD  \nATOM    301   Pd MOL     1      -1.947   9.744   0.026  1.00  0.00          PD  \nATOM    302   Pd MOL     1      -3.946   7.831   3.930  1.00  0.00          PD  \nATOM    303   Pt MOL     1      -3.922   9.773   5.872  1.00  0.00          PT  \nATOM    304   Pd MOL     1      -1.982   7.834   5.866  1.00  0.00          PD  \nATOM    305   Pt MOL     1      -1.935   9.773   3.854  1.00  0.00          PT  \nATOM    306   Pd MOL     1      -3.999   7.897   7.874  1.00  0.00          PD  \nATOM    307   Pd MOL     1      -2.065   7.871   9.816  1.00  0.00          PD  \nATOM    308   Pd MOL     1      -2.058   9.781   7.893  1.00  0.00          PD  \nATOM    309   Pt MOL     1      -1.967  11.550  -5.875  1.00  0.00          PT  \nATOM    310   Pd MOL     1      -3.824  11.702  -3.898  1.00  0.00          PD  \nATOM    311   Pt MOL     1      -1.943  11.663  -1.890  1.00  0.00          PT  \nATOM    312   Pt MOL     1      -3.906  11.644  -0.060  1.00  0.00          PT  \nATOM    313   Pd MOL     1      -1.975  11.796   1.873  1.00  0.00          PD  \nATOM    314   Pd MOL     1      -3.835  11.698   3.944  1.00  0.00          PD  \nATOM    315   Pt MOL     1      -1.921  11.567   5.844  1.00  0.00          PT  \nATOM    316   Pt MOL     1      -0.016  -9.621  -9.677  1.00  0.00          PT  \nATOM    317   Pd MOL     1      -0.020 -11.573  -7.759  1.00  0.00          PD  \nATOM    318   Pt MOL     1       0.002  -9.709  -5.846  1.00  0.00          PT  \nATOM    319   Pt MOL     1       1.961 -11.563  -5.846  1.00  0.00          PT  \nATOM    320   Pd MOL     1       2.057  -9.767  -7.884  1.00  0.00          PD  \nATOM    321   Pd MOL     1      -0.046 -11.759  -3.940  1.00  0.00          PD  \nATOM    322   Pt MOL     1      -0.008  -9.829  -1.946  1.00  0.00          PT  \nATOM    323   Pd MOL     1       1.976 -11.792  -1.936  1.00  0.00          PD  \nATOM    324   Pd MOL     1       1.935  -9.759  -3.868  1.00  0.00          PD  \nATOM    325   Pd MOL     1      -0.003 -11.813   0.016  1.00  0.00          PD  \nATOM    326   Pt MOL     1      -0.022  -9.795   1.956  1.00  0.00          PT  \nATOM    327   Pt MOL     1       1.972 -11.668   1.924  1.00  0.00          PT  \nATOM    328   Pt MOL     1       1.912  -9.757  -0.035  1.00  0.00          PT  \nATOM    329   Pd MOL     1       0.052 -11.743   3.859  1.00  0.00          PD  \nATOM    330   Pd MOL     1      -0.004  -9.693   5.816  1.00  0.00          PD  \nATOM    331   Pd MOL     1       1.967 -11.641   5.894  1.00  0.00          PD  \nATOM    332   Pt MOL     1       1.955  -9.757   3.912  1.00  0.00          PT  \nATOM    333   Pt MOL     1       0.026 -11.464   7.751  1.00  0.00          PT  \nATOM    334   Pd MOL     1       0.026  -9.708   9.754  1.00  0.00          PD  \nATOM    335   Pt MOL     1       2.049  -9.726   7.847  1.00  0.00          PT  \nATOM    336   Pd MOL     1       0.043  -7.722 -11.640  1.00  0.00          PD  \nATOM    337   Pd MOL     1      -0.040  -5.878  -9.731  1.00  0.00          PD  \nATOM    338   Pd MOL     1       2.065  -7.855  -9.833  1.00  0.00          PD  \nATOM    339   Pt MOL     1       1.954  -5.750 -11.594  1.00  0.00          PT  \nATOM    340   Pd MOL     1       0.014  -7.780  -7.787  1.00  0.00          PD  \nATOM    341   Pt MOL     1       0.005  -5.874  -5.888  1.00  0.00          PT  \nATOM    342   Pt MOL     1       1.969  -7.822  -5.873  1.00  0.00          PT  \nATOM    343   Pd MOL     1       1.997  -5.904  -7.822  1.00  0.00          PD  \nATOM    344   Pd MOL     1      -0.013  -7.800  -3.908  1.00  0.00          PD  \nATOM    345   Pt MOL     1      -0.018  -5.859  -1.935  1.00  0.00          PT  \nATOM    346   Pd MOL     1       1.944  -7.818  -1.942  1.00  0.00          PD  \nATOM    347   Pt MOL     1       1.959  -5.892  -3.921  1.00  0.00          PT  \nATOM    348   Pt MOL     1      -0.024  -7.822   0.010  1.00  0.00          PT  \nATOM    349   Pd MOL     1      -0.016  -5.854   1.966  1.00  0.00          PD  \nATOM    350   Pd MOL     1       1.959  -7.831   1.957  1.00  0.00          PD  \nATOM    351   Pd MOL     1       1.962  -5.874   0.010  1.00  0.00          PD  \nATOM    352   Pd MOL     1      -0.018  -7.817   3.892  1.00  0.00          PD  \nATOM    353   Pd MOL     1      -0.004  -5.897   5.876  1.00  0.00          PD  \nATOM    354   Pd MOL     1       1.946  -7.785   5.848  1.00  0.00          PD  \nATOM    355   Pd MOL     1       1.970  -5.857   3.901  1.00  0.00          PD  \nATOM    356   Pt MOL     1      -0.002  -7.832   7.831  1.00  0.00          PT  \nATOM    357   Pt MOL     1       0.024  -5.871   9.717  1.00  0.00          PT  \nATOM    358   Pd MOL     1       2.046  -7.846   9.820  1.00  0.00          PD  \nATOM    359   Pt MOL     1       1.983  -5.900   7.838  1.00  0.00          PT  \nATOM    360   Pd MOL     1      -0.053  -7.655  11.665  1.00  0.00          PD  \nATOM    361   Pd MOL     1       1.959  -5.752  11.724  1.00  0.00          PD  \nATOM    362   Pt MOL     1       0.006  -3.892 -11.638  1.00  0.00          PT  \nATOM    363   Pt MOL     1       0.005  -1.940  -9.738  1.00  0.00          PT  \nATOM    364   Pd MOL     1       1.935  -3.876  -9.680  1.00  0.00          PD  \nATOM    365   Pd MOL     1       1.944  -1.947 -11.797  1.00  0.00          PD  \nATOM    366   Pd MOL     1      -0.032  -3.927  -7.794  1.00  0.00          PD  \nATOM    367   Pd MOL     1      -0.017  -1.942  -5.843  1.00  0.00          PD  \nATOM    368   Pd MOL     1       1.968  -3.934  -5.878  1.00  0.00          PD  \nATOM    369   Pd MOL     1       1.951  -1.950  -7.791  1.00  0.00          PD  \nATOM    370   Pd MOL     1      -0.007  -3.934  -3.919  1.00  0.00          PD  \nATOM    371   Pd MOL     1       0.001  -1.963  -1.965  1.00  0.00          PD  \nATOM    372   Pt MOL     1       1.956  -3.930  -1.984  1.00  0.00          PT  \nATOM    373   Pt MOL     1       1.966  -1.956  -3.921  1.00  0.00          PT  \nATOM    374   Pd MOL     1       0.008  -3.902   0.006  1.00  0.00          PD  \nATOM    375   Pd MOL     1      -0.008  -1.986   1.960  1.00  0.00          PD  \nATOM    376   Pt MOL     1       1.982  -3.924   1.981  1.00  0.00          PT  \nATOM    377   Pt MOL     1       1.967  -1.979   0.005  1.00  0.00          PT  \nATOM    378   Pd MOL     1      -0.029  -3.924   3.919  1.00  0.00          PD  \nATOM    379   Pt MOL     1      -0.033  -1.973   5.868  1.00  0.00          PT  \nATOM    380   Pd MOL     1       1.963  -3.946   5.890  1.00  0.00          PD  \nATOM    381   Pd MOL     1       1.954  -1.978   3.948  1.00  0.00          PD  \nATOM    382   Pt MOL     1       0.004  -3.931   7.807  1.00  0.00          PT  \nATOM    383   Pd MOL     1      -0.001  -1.907   9.765  1.00  0.00          PD  \nATOM    384   Pt MOL     1       1.953  -3.915   9.689  1.00  0.00          PT  \nATOM    385   Pd MOL     1       1.945  -1.949   7.779  1.00  0.00          PD  \nATOM    386   Pt MOL     1       0.022  -3.869  11.651  1.00  0.00          PT  \nATOM    387   Pt MOL     1       1.984  -1.978  11.660  1.00  0.00          PT  \nATOM    388   Pt MOL     1      -0.047  -0.011 -11.696  1.00  0.00          PT  \nATOM    389   Pd MOL     1      -0.000   1.962  -9.784  1.00  0.00          PD  \nATOM    390   Pt MOL     1       1.927  -0.017  -9.782  1.00  0.00          PT  \nATOM    391   Pd MOL     1       1.957   1.913 -11.782  1.00  0.00          PD  \nATOM    392   Pt MOL     1       0.005   0.008  -7.821  1.00  0.00          PT  \nATOM    393   Pd MOL     1      -0.003   1.951  -5.867  1.00  0.00          PD  \nATOM    394   Pt MOL     1       1.955   0.003  -5.850  1.00  0.00          PT  \nATOM    395   Pd MOL     1       1.961   1.957  -7.799  1.00  0.00          PD  \nATOM    396   Pt MOL     1      -0.011   0.003  -3.894  1.00  0.00          PT  \nATOM    397   Pt MOL     1       0.001   1.952  -1.969  1.00  0.00          PT  \nATOM    398   Pt MOL     1       1.968   0.009  -1.948  1.00  0.00          PT  \nATOM    399   Pd MOL     1       1.969   1.963  -3.923  1.00  0.00          PD  \nATOM    400   Pd MOL     1       0.002  -0.015   0.010  1.00  0.00          PD  \nATOM    401   Pt MOL     1      -0.015   1.951   1.966  1.00  0.00          PT  \nATOM    402   Pt MOL     1       1.936  -0.007   1.963  1.00  0.00          PT  \nATOM    403   Pd MOL     1       1.946   1.973   0.006  1.00  0.00          PD  \nATOM    404   Pd MOL     1      -0.009  -0.016   3.912  1.00  0.00          PD  \nATOM    405   Pt MOL     1      -0.013   1.960   5.861  1.00  0.00          PT  \nATOM    406   Pt MOL     1       1.973  -0.023   5.863  1.00  0.00          PT  \nATOM    407   Pd MOL     1       1.943   1.960   3.923  1.00  0.00          PD  \nATOM    408   Pt MOL     1      -0.013   0.020   7.804  1.00  0.00          PT  \nATOM    409   Pd MOL     1       0.005   1.925   9.794  1.00  0.00          PD  \nATOM    410   Pd MOL     1       1.918   0.024   9.772  1.00  0.00          PD  \nATOM    411   Pd MOL     1       1.948   1.945   7.781  1.00  0.00          PD  \nATOM    412   Pd MOL     1       0.054  -0.056  11.835  1.00  0.00          PD  \nATOM    413   Pd MOL     1       1.965   2.006  11.778  1.00  0.00          PD  \nATOM    414   Pd MOL     1       0.013   3.896 -11.722  1.00  0.00          PD  \nATOM    415   Pd MOL     1      -0.012   5.801  -9.691  1.00  0.00          PD  \nATOM    416   Pt MOL     1       1.945   3.903  -9.749  1.00  0.00          PT  \nATOM    417   Pd MOL     1       1.943   5.843 -11.676  1.00  0.00          PD  \nATOM    418   Pd MOL     1       0.011   3.911  -7.806  1.00  0.00          PD  \nATOM    419   Pd MOL     1       0.009   5.864  -5.880  1.00  0.00          PD  \nATOM    420   Pd MOL     1       1.991   3.939  -5.865  1.00  0.00          PD  \nATOM    421   Pt MOL     1       2.021   5.880  -7.831  1.00  0.00          PT  \nATOM    422   Pd MOL     1      -0.000   3.928  -3.932  1.00  0.00          PD  \nATOM    423   Pt MOL     1       0.002   5.870  -1.959  1.00  0.00          PT  \nATOM    424   Pd MOL     1       1.959   3.916  -1.971  1.00  0.00          PD  \nATOM    425   Pt MOL     1       1.960   5.883  -3.911  1.00  0.00          PT  \nATOM    426   Pt MOL     1      -0.020   3.914  -0.006  1.00  0.00          PT  \nATOM    427   Pt MOL     1      -0.020   5.853   1.978  1.00  0.00          PT  \nATOM    428   Pt MOL     1       1.935   3.917   1.954  1.00  0.00          PT  \nATOM    429   Pd MOL     1       1.963   5.856   0.018  1.00  0.00          PD  \nATOM    430   Pt MOL     1      -0.011   3.906   3.942  1.00  0.00          PT  \nATOM    431   Pd MOL     1      -0.014   5.893   5.878  1.00  0.00          PD  \nATOM    432   Pt MOL     1       1.955   3.936   5.877  1.00  0.00          PT  \nATOM    433   Pd MOL     1       1.945   5.883   3.915  1.00  0.00          PD  \nATOM    434   Pd MOL     1      -0.013   3.914   7.796  1.00  0.00          PD  \nATOM    435   Pd MOL     1       0.032   5.823   9.650  1.00  0.00          PD  \nATOM    436   Pd MOL     1       1.980   3.895   9.719  1.00  0.00          PD  \nATOM    437   Pt MOL     1       1.998   5.862   7.779  1.00  0.00          PT  \nATOM    438   Pt MOL     1       0.011   3.901  11.627  1.00  0.00          PT  \nATOM    439   Pd MOL     1       1.970   5.785  11.695  1.00  0.00          PD  \nATOM    440   Pt MOL     1      -0.009   7.731 -11.502  1.00  0.00          PT  \nATOM    441   Pt MOL     1      -0.001   9.648  -9.662  1.00  0.00          PT  \nATOM    442   Pt MOL     1       2.016   7.842  -9.743  1.00  0.00          PT  \nATOM    443   Pt MOL     1       0.015   7.760  -7.746  1.00  0.00          PT  \nATOM    444   Pd MOL     1       0.029   9.714  -5.838  1.00  0.00          PD  \nATOM    445   Pt MOL     1       2.004   7.817  -5.889  1.00  0.00          PT  \nATOM    446   Pd MOL     1       2.070   9.803  -7.849  1.00  0.00          PD  \nATOM    447   Pd MOL     1       0.006   7.799  -3.909  1.00  0.00          PD  \nATOM    448   Pd MOL     1       0.017   9.775  -1.974  1.00  0.00          PD  \nATOM    449   Pt MOL     1       1.952   7.813  -1.949  1.00  0.00          PT  \nATOM    450   Pd MOL     1       1.965   9.773  -3.902  1.00  0.00          PD  \nATOM    451   Pd MOL     1       0.001   7.802   0.003  1.00  0.00          PD  \nATOM    452   Pt MOL     1      -0.022   9.786   1.962  1.00  0.00          PT  \nATOM    453   Pd MOL     1       1.955   7.824   1.973  1.00  0.00          PD  \nATOM    454   Pt MOL     1       1.949   9.760  -0.016  1.00  0.00          PT  \nATOM    455   Pt MOL     1      -0.002   7.835   3.917  1.00  0.00          PT  \nATOM    456   Pd MOL     1       0.032   9.727   5.855  1.00  0.00          PD  \nATOM    457   Pd MOL     1       1.993   7.847   5.867  1.00  0.00          PD  \nATOM    458   Pd MOL     1       1.966   9.768   3.912  1.00  0.00          PD  \nATOM    459   Pd MOL     1      -0.012   7.786   7.771  1.00  0.00          PD  \nATOM    460   Pt MOL     1       0.045   9.629   9.674  1.00  0.00          PT  \nATOM    461   Pt MOL     1       2.050   7.805   9.711  1.00  0.00          PT  \nATOM    462   Pd MOL     1       2.096   9.793   7.870  1.00  0.00          PD  \nATOM    463   Pt MOL     1       0.040   7.710  11.499  1.00  0.00          PT  \nATOM    464   Pd MOL     1      -0.051  11.587  -7.783  1.00  0.00          PD  \nATOM    465   Pd MOL     1       1.977  11.652  -5.830  1.00  0.00          PD  \nATOM    466   Pd MOL     1      -0.087  11.746  -3.917  1.00  0.00          PD  \nATOM    467   Pd MOL     1       1.944  11.777  -1.955  1.00  0.00          PD  \nATOM    468   Pt MOL     1       0.021  11.684  -0.009  1.00  0.00          PT  \nATOM    469   Pt MOL     1       1.930  11.675   1.923  1.00  0.00          PT  \nATOM    470   Pd MOL     1      -0.001  11.771   3.892  1.00  0.00          PD  \nATOM    471   Pd MOL     1       1.972  11.652   5.847  1.00  0.00          PD  \nATOM    472   Pd MOL     1      -0.016  11.556   7.799  1.00  0.00          PD  \nATOM    473   Pt MOL     1       3.961  -9.748  -5.905  1.00  0.00          PT  \nATOM    474   Pd MOL     1       3.880 -11.688  -3.951  1.00  0.00          PD  \nATOM    475   Pt MOL     1       3.897  -9.787  -1.977  1.00  0.00          PT  \nATOM    476   Pd MOL     1       5.859 -11.660  -1.897  1.00  0.00          PD  \nATOM    477   Pd MOL     1       5.938  -9.829  -3.979  1.00  0.00          PD  \nATOM    478   Pt MOL     1       3.866 -11.649   0.017  1.00  0.00          PT  \nATOM    479   Pt MOL     1       3.928  -9.752   1.974  1.00  0.00          PT  \nATOM    480   Pd MOL     1       5.867 -11.669   1.879  1.00  0.00          PD  \nATOM    481   Pd MOL     1       5.847  -9.702   0.001  1.00  0.00          PD  \nATOM    482   Pd MOL     1       3.882 -11.682   3.899  1.00  0.00          PD  \nATOM    483   Pt MOL     1       3.949  -9.741   5.915  1.00  0.00          PT  \nATOM    484   Pd MOL     1       5.936  -9.815   4.002  1.00  0.00          PD  \nATOM    485   Pt MOL     1       3.965  -5.905  -9.762  1.00  0.00          PT  \nATOM    486   Pd MOL     1       4.059  -7.905  -7.925  1.00  0.00          PD  \nATOM    487   Pd MOL     1       3.940  -5.920  -5.894  1.00  0.00          PD  \nATOM    488   Pt MOL     1       5.907  -7.891  -5.915  1.00  0.00          PT  \nATOM    489   Pt MOL     1       5.908  -5.927  -7.881  1.00  0.00          PT  \nATOM    490   Pt MOL     1       3.925  -7.851  -3.921  1.00  0.00          PT  \nATOM    491   Pt MOL     1       3.935  -5.891  -1.987  1.00  0.00          PT  \nATOM    492   Pd MOL     1       5.868  -7.841  -2.006  1.00  0.00          PD  \nATOM    493   Pt MOL     1       5.915  -5.923  -3.976  1.00  0.00          PT  \nATOM    494   Pt MOL     1       3.931  -7.827  -0.001  1.00  0.00          PT  \nATOM    495   Pt MOL     1       3.931  -5.883   1.986  1.00  0.00          PT  \nATOM    496   Pd MOL     1       5.879  -7.839   2.002  1.00  0.00          PD  \nATOM    497   Pt MOL     1       5.868  -5.901   0.010  1.00  0.00          PT  \nATOM    498   Pt MOL     1       3.915  -7.844   3.924  1.00  0.00          PT  \nATOM    499   Pd MOL     1       3.941  -5.904   5.906  1.00  0.00          PD  \nATOM    500   Pt MOL     1       5.934  -7.889   5.911  1.00  0.00          PT  \nATOM    501   Pd MOL     1       5.866  -5.899   3.963  1.00  0.00          PD  \nATOM    502   Pt MOL     1       3.968  -7.859   7.855  1.00  0.00          PT  \nATOM    503   Pd MOL     1       4.011  -5.940   9.799  1.00  0.00          PD  \nATOM    504   Pd MOL     1       5.992  -6.011   7.879  1.00  0.00          PD  \nATOM    505   Pt MOL     1       3.872  -3.907 -11.603  1.00  0.00          PT  \nATOM    506   Pt MOL     1       3.901  -1.966  -9.755  1.00  0.00          PT  \nATOM    507   Pd MOL     1       5.961  -4.002  -9.843  1.00  0.00          PD  \nATOM    508   Pd MOL     1       5.822  -1.935 -11.688  1.00  0.00          PD  \nATOM    509   Pt MOL     1       3.935  -3.928  -7.825  1.00  0.00          PT  \nATOM    510   Pt MOL     1       3.916  -1.977  -5.866  1.00  0.00          PT  \nATOM    511   Pt MOL     1       5.882  -3.963  -5.889  1.00  0.00          PT  \nATOM    512   Pd MOL     1       5.855  -1.995  -7.808  1.00  0.00          PD  \nATOM    513   Pt MOL     1       3.933  -3.943  -3.931  1.00  0.00          PT  \nATOM    514   Pd MOL     1       3.921  -1.957  -1.958  1.00  0.00          PD  \nATOM    515   Pt MOL     1       5.882  -3.959  -1.975  1.00  0.00          PT  \nATOM    516   Pd MOL     1       5.873  -1.981  -3.926  1.00  0.00          PD  \nATOM    517   Pt MOL     1       3.910  -3.939  -0.009  1.00  0.00          PT  \nATOM    518   Pd MOL     1       3.899  -1.962   1.968  1.00  0.00          PD  \nATOM    519   Pd MOL     1       5.869  -3.930   1.972  1.00  0.00          PD  \nATOM    520   Pd MOL     1       5.860  -1.954   0.008  1.00  0.00          PD  \nATOM    521   Pt MOL     1       3.934  -3.930   3.952  1.00  0.00          PT  \nATOM    522   Pt MOL     1       3.953  -2.004   5.892  1.00  0.00          PT  \nATOM    523   Pt MOL     1       5.901  -3.947   5.909  1.00  0.00          PT  \nATOM    524   Pt MOL     1       5.866  -1.991   3.930  1.00  0.00          PT  \nATOM    525   Pd MOL     1       3.977  -3.977   7.852  1.00  0.00          PD  \nATOM    526   Pd MOL     1       3.901  -1.949   9.694  1.00  0.00          PD  \nATOM    527   Pd MOL     1       5.983  -3.983   9.846  1.00  0.00          PD  \nATOM    528   Pt MOL     1       5.892  -2.002   7.819  1.00  0.00          PT  \nATOM    529   Pt MOL     1       3.876  -3.874  11.581  1.00  0.00          PT  \nATOM    530   Pd MOL     1       5.776  -1.941  11.687  1.00  0.00          PD  \nATOM    531   Pt MOL     1       3.887  -0.021 -11.647  1.00  0.00          PT  \nATOM    532   Pt MOL     1       3.887   1.951  -9.747  1.00  0.00          PT  \nATOM    533   Pd MOL     1       5.852   0.002  -9.704  1.00  0.00          PD  \nATOM    534   Pd MOL     1       5.808   1.891 -11.693  1.00  0.00          PD  \nATOM    535   Pt MOL     1       3.912   0.001  -7.831  1.00  0.00          PT  \nATOM    536   Pt MOL     1       3.936   1.983  -5.877  1.00  0.00          PT  \nATOM    537   Pt MOL     1       5.877   0.007  -5.893  1.00  0.00          PT  \nATOM    538   Pd MOL     1       5.869   2.009  -7.835  1.00  0.00          PD  \nATOM    539   Pt MOL     1       3.944   0.015  -3.924  1.00  0.00          PT  \nATOM    540   Pd MOL     1       3.917   1.970  -1.950  1.00  0.00          PD  \nATOM    541   Pt MOL     1       5.852   0.007  -1.940  1.00  0.00          PT  \nATOM    542   Pd MOL     1       5.876   1.979  -3.925  1.00  0.00          PD  \nATOM    543   Pt MOL     1       3.893  -0.004   0.019  1.00  0.00          PT  \nATOM    544   Pd MOL     1       3.917   1.966   1.961  1.00  0.00          PD  \nATOM    545   Pt MOL     1       5.860  -0.010   1.984  1.00  0.00          PT  \nATOM    546   Pd MOL     1       5.855   1.968   0.011  1.00  0.00          PD  \nATOM    547   Pd MOL     1       3.909   0.006   3.923  1.00  0.00          PD  \nATOM    548   Pt MOL     1       3.925   1.982   5.871  1.00  0.00          PT  \nATOM    549   Pd MOL     1       5.877  -0.003   5.862  1.00  0.00          PD  \nATOM    550   Pt MOL     1       5.882   1.970   3.915  1.00  0.00          PT  \nATOM    551   Pt MOL     1       3.932  -0.010   7.785  1.00  0.00          PT  \nATOM    552   Pd MOL     1       3.881   1.947   9.685  1.00  0.00          PD  \nATOM    553   Pt MOL     1       5.851   0.005   9.691  1.00  0.00          PT  \nATOM    554   Pt MOL     1       5.889   2.004   7.819  1.00  0.00          PT  \nATOM    555   Pt MOL     1       3.864  -0.003  11.645  1.00  0.00          PT  \nATOM    556   Pt MOL     1       5.731   1.943  11.615  1.00  0.00          PT  \nATOM    557   Pt MOL     1       3.872   3.870 -11.614  1.00  0.00          PT  \nATOM    558   Pd MOL     1       3.975   5.954  -9.824  1.00  0.00          PD  \nATOM    559   Pd MOL     1       5.929   3.971  -9.810  1.00  0.00          PD  \nATOM    560   Pt MOL     1       3.933   3.956  -7.848  1.00  0.00          PT  \nATOM    561   Pd MOL     1       3.960   5.907  -5.913  1.00  0.00          PD  \nATOM    562   Pd MOL     1       5.889   3.974  -5.914  1.00  0.00          PD  \nATOM    563   Pd MOL     1       5.991   5.951  -7.901  1.00  0.00          PD  \nATOM    564   Pd MOL     1       3.935   3.947  -3.929  1.00  0.00          PD  \nATOM    565   Pd MOL     1       3.926   5.869  -1.955  1.00  0.00          PD  \nATOM    566   Pt MOL     1       5.880   3.934  -1.972  1.00  0.00          PT  \nATOM    567   Pt MOL     1       5.915   5.904  -3.951  1.00  0.00          PT  \nATOM    568   Pt MOL     1       3.925   3.919   0.002  1.00  0.00          PT  \nATOM    569   Pd MOL     1       3.918   5.857   1.966  1.00  0.00          PD  \nATOM    570   Pt MOL     1       5.885   3.940   1.969  1.00  0.00          PT  \nATOM    571   Pd MOL     1       5.870   5.877  -0.010  1.00  0.00          PD  \nATOM    572   Pd MOL     1       3.910   3.924   3.914  1.00  0.00          PD  \nATOM    573   Pd MOL     1       3.943   5.887   5.855  1.00  0.00          PD  \nATOM    574   Pt MOL     1       5.902   3.926   5.867  1.00  0.00          PT  \nATOM    575   Pt MOL     1       5.890   5.880   3.924  1.00  0.00          PT  \nATOM    576   Pt MOL     1       3.948   3.956   7.810  1.00  0.00          PT  \nATOM    577   Pd MOL     1       4.001   5.954   9.790  1.00  0.00          PD  \nATOM    578   Pd MOL     1       5.954   4.043   9.799  1.00  0.00          PD  \nATOM    579   Pt MOL     1       5.957   5.945   7.831  1.00  0.00          PT  \nATOM    580   Pt MOL     1       3.928   3.879  11.595  1.00  0.00          PT  \nATOM    581   Pd MOL     1       4.038   7.921  -7.918  1.00  0.00          PD  \nATOM    582   Pt MOL     1       3.970   9.753  -5.859  1.00  0.00          PT  \nATOM    583   Pt MOL     1       5.908   7.869  -5.903  1.00  0.00          PT  \nATOM    584   Pt MOL     1       3.913   7.792  -3.908  1.00  0.00          PT  \nATOM    585   Pd MOL     1       3.887   9.770  -1.951  1.00  0.00          PD  \nATOM    586   Pt MOL     1       5.862   7.811  -1.972  1.00  0.00          PT  \nATOM    587   Pt MOL     1       5.904   9.747  -3.949  1.00  0.00          PT  \nATOM    588   Pt MOL     1       3.895   7.837   0.010  1.00  0.00          PT  \nATOM    589   Pt MOL     1       3.914   9.758   1.948  1.00  0.00          PT  \nATOM    590   Pd MOL     1       5.853   7.800   1.952  1.00  0.00          PD  \nATOM    591   Pd MOL     1       5.863   9.724  -0.002  1.00  0.00          PD  \nATOM    592   Pd MOL     1       3.937   7.828   3.923  1.00  0.00          PD  \nATOM    593   Pd MOL     1       4.042   9.813   5.929  1.00  0.00          PD  \nATOM    594   Pt MOL     1       5.935   7.885   5.914  1.00  0.00          PT  \nATOM    595   Pt MOL     1       5.910   9.766   3.936  1.00  0.00          PT  \nATOM    596   Pt MOL     1       3.995   7.842   7.833  1.00  0.00          PT  \nATOM    597   Pd MOL     1       3.936  11.680  -3.911  1.00  0.00          PD  \nATOM    598   Pd MOL     1       5.867  11.636  -1.977  1.00  0.00          PD  \nATOM    599   Pd MOL     1       3.905  11.740   0.029  1.00  0.00          PD  \nATOM    600   Pd MOL     1       5.903  11.631   1.976  1.00  0.00          PD  \nATOM    601   Pd MOL     1       3.896  11.674   3.849  1.00  0.00          PD  \nATOM    602   Pt MOL     1       7.883  -9.707  -2.015  1.00  0.00          PT  \nATOM    603   Pt MOL     1       7.811 -11.440  -0.016  1.00  0.00          PT  \nATOM    604   Pd MOL     1       7.924  -9.763   2.095  1.00  0.00          PD  \nATOM    605   Pd MOL     1       9.818  -9.671  -0.006  1.00  0.00          PD  \nATOM    606   Pd MOL     1       7.867  -5.997  -6.007  1.00  0.00          PD  \nATOM    607   Pd MOL     1       7.912  -7.911  -4.004  1.00  0.00          PD  \nATOM    608   Pd MOL     1       7.806  -5.887  -2.003  1.00  0.00          PD  \nATOM    609   Pt MOL     1       9.773  -7.803  -2.025  1.00  0.00          PT  \nATOM    610   Pd MOL     1       9.835  -5.951  -3.995  1.00  0.00          PD  \nATOM    611   Pd MOL     1       7.811  -7.820   0.016  1.00  0.00          PD  \nATOM    612   Pd MOL     1       7.796  -5.878   1.997  1.00  0.00          PD  \nATOM    613   Pt MOL     1       9.763  -7.805   2.037  1.00  0.00          PT  \nATOM    614   Pd MOL     1       9.642  -5.798  -0.004  1.00  0.00          PD  \nATOM    615   Pt MOL     1       7.869  -7.845   3.980  1.00  0.00          PT  \nATOM    616   Pt MOL     1       7.844  -5.918   5.895  1.00  0.00          PT  \nATOM    617   Pd MOL     1       9.827  -5.952   4.018  1.00  0.00          PD  \nATOM    618   Pt MOL     1       7.842  -2.047  -9.722  1.00  0.00          PT  \nATOM    619   Pt MOL     1       7.830  -3.975  -7.858  1.00  0.00          PT  \nATOM    620   Pt MOL     1       7.825  -2.007  -5.875  1.00  0.00          PT  \nATOM    621   Pd MOL     1       9.803  -4.024  -5.941  1.00  0.00          PD  \nATOM    622   Pd MOL     1       9.827  -2.121  -7.865  1.00  0.00          PD  \nATOM    623   Pd MOL     1       7.832  -3.972  -3.977  1.00  0.00          PD  \nATOM    624   Pd MOL     1       7.771  -1.970  -1.954  1.00  0.00          PD  \nATOM    625   Pd MOL     1       9.708  -3.867  -1.950  1.00  0.00          PD  \nATOM    626   Pd MOL     1       9.724  -1.948  -3.856  1.00  0.00          PD  \nATOM    627   Pt MOL     1       7.767  -3.920   0.006  1.00  0.00          PT  \nATOM    628   Pt MOL     1       7.793  -1.963   1.977  1.00  0.00          PT  \nATOM    629   Pd MOL     1       9.704  -3.882   1.982  1.00  0.00          PD  \nATOM    630   Pd MOL     1       9.734  -1.958  -0.015  1.00  0.00          PD  \nATOM    631   Pd MOL     1       7.841  -3.936   3.963  1.00  0.00          PD  \nATOM    632   Pd MOL     1       7.855  -2.000   5.900  1.00  0.00          PD  \nATOM    633   Pd MOL     1       9.841  -3.985   5.906  1.00  0.00          PD  \nATOM    634   Pt MOL     1       9.763  -1.970   3.916  1.00  0.00          PT  \nATOM    635   Pd MOL     1       7.884  -4.004   7.878  1.00  0.00          PD  \nATOM    636   Pt MOL     1       7.793  -1.962   9.746  1.00  0.00          PT  \nATOM    637   Pd MOL     1       9.788  -2.030   7.894  1.00  0.00          PD  \nATOM    638   Pt MOL     1       7.812  -0.040 -11.461  1.00  0.00          PT  \nATOM    639   Pd MOL     1       7.902   2.068  -9.784  1.00  0.00          PD  \nATOM    640   Pt MOL     1       9.708  -0.019  -9.607  1.00  0.00          PT  \nATOM    641   Pt MOL     1       7.780  -0.007  -7.751  1.00  0.00          PT  \nATOM    642   Pd MOL     1       7.809   2.003  -5.864  1.00  0.00          PD  \nATOM    643   Pd MOL     1       9.667  -0.032  -5.782  1.00  0.00          PD  \nATOM    644   Pt MOL     1       9.749   2.029  -7.814  1.00  0.00          PT  \nATOM    645   Pd MOL     1       7.779  -0.011  -3.895  1.00  0.00          PD  \nATOM    646   Pt MOL     1       7.798   1.953  -1.951  1.00  0.00          PT  \nATOM    647   Pd MOL     1       9.801   0.002  -1.948  1.00  0.00          PD  \nATOM    648   Pd MOL     1       9.718   1.936  -3.860  1.00  0.00          PD  \nATOM    649   Pt MOL     1       7.806   0.010   0.000  1.00  0.00          PT  \nATOM    650   Pd MOL     1       7.807   1.966   1.973  1.00  0.00          PD  \nATOM    651   Pt MOL     1       9.746  -0.002   1.933  1.00  0.00          PT  \nATOM    652   Pt MOL     1       9.776   1.930   0.000  1.00  0.00          PT  \nATOM    653   Pd MOL     1       7.820  -0.026   3.926  1.00  0.00          PD  \nATOM    654   Pt MOL     1       7.833   1.969   5.844  1.00  0.00          PT  \nATOM    655   Pt MOL     1       9.730  -0.005   5.872  1.00  0.00          PT  \nATOM    656   Pd MOL     1       9.781   1.973   3.907  1.00  0.00          PD  \nATOM    657   Pd MOL     1       7.812   0.013   7.797  1.00  0.00          PD  \nATOM    658   Pd MOL     1       7.842   2.077   9.809  1.00  0.00          PD  \nATOM    659   Pd MOL     1       9.669   0.023   9.766  1.00  0.00          PD  \nATOM    660   Pt MOL     1       9.722   2.014   7.821  1.00  0.00          PT  \nATOM    661   Pd MOL     1       7.654   0.042  11.647  1.00  0.00          PD  \nATOM    662   Pt MOL     1       7.861   3.956  -7.873  1.00  0.00          PT  \nATOM    663   Pd MOL     1       7.890   5.962  -5.956  1.00  0.00          PD  \nATOM    664   Pd MOL     1       9.792   4.037  -5.972  1.00  0.00          PD  \nATOM    665   Pt MOL     1       7.811   3.940  -3.939  1.00  0.00          PT  \nATOM    666   Pd MOL     1       7.826   5.900  -2.000  1.00  0.00          PD  \nATOM    667   Pd MOL     1       9.739   3.884  -1.950  1.00  0.00          PD  \nATOM    668   Pt MOL     1       9.795   5.855  -3.945  1.00  0.00          PT  \nATOM    669   Pt MOL     1       7.823   3.919  -0.005  1.00  0.00          PT  \nATOM    670   Pd MOL     1       7.824   5.875   1.972  1.00  0.00          PD  \nATOM    671   Pt MOL     1       9.731   3.885   1.974  1.00  0.00          PT  \nATOM    672   Pt MOL     1       9.706   5.885  -0.036  1.00  0.00          PT  \nATOM    673   Pt MOL     1       7.866   3.946   3.947  1.00  0.00          PT  \nATOM    674   Pt MOL     1       7.858   5.946   5.914  1.00  0.00          PT  \nATOM    675   Pd MOL     1       9.838   4.006   5.962  1.00  0.00          PD  \nATOM    676   Pd MOL     1       9.814   5.976   4.036  1.00  0.00          PD  \nATOM    677   Pt MOL     1       7.868   3.980   7.842  1.00  0.00          PT  \nATOM    678   Pd MOL     1       7.943   7.901  -4.038  1.00  0.00          PD  \nATOM    679   Pt MOL     1       7.822   9.726  -2.028  1.00  0.00          PT  \nATOM    680   Pd MOL     1       9.831   7.838  -2.073  1.00  0.00          PD  \nATOM    681   Pt MOL     1       7.814   7.811  -0.037  1.00  0.00          PT  \nATOM    682   Pt MOL     1       7.855   9.718   2.027  1.00  0.00          PT  \nATOM    683   Pt MOL     1       9.739   7.840   2.018  1.00  0.00          PT  \nATOM    684   Pd MOL     1       9.736   9.692  -0.013  1.00  0.00          PD  \nATOM    685   Pt MOL     1       7.856   7.879   3.995  1.00  0.00          PT  \nATOM    686   Pd MOL     1       7.793  11.564  -0.006  1.00  0.00          PD  \nATOM    687   Pt MOL     1      11.611  -5.748  -1.937  1.00  0.00          PT  \nATOM    688   Pt MOL     1      11.562  -7.621  -0.008  1.00  0.00          PT  \nATOM    689   Pt MOL     1      11.590  -5.822   1.931  1.00  0.00          PT  \nATOM    690   Pt MOL     1      11.605  -1.969  -5.774  1.00  0.00          PT  \nATOM    691   Pt MOL     1      11.610  -3.869  -3.881  1.00  0.00          PT  \nATOM    692   Pd MOL     1      11.794  -1.979  -1.895  1.00  0.00          PD  \nATOM    693   Pt MOL     1      11.664  -3.896   0.063  1.00  0.00          PT  \nATOM    694   Pt MOL     1      11.702  -1.913   1.908  1.00  0.00          PT  \nATOM    695   Pd MOL     1      11.733  -3.884   3.794  1.00  0.00          PD  \nATOM    696   Pd MOL     1      11.672  -1.904   5.825  1.00  0.00          PD  \nATOM    697   Pt MOL     1      11.544  -0.001  -7.637  1.00  0.00          PT  \nATOM    698   Pt MOL     1      11.564   1.960  -5.816  1.00  0.00          PT  \nATOM    699   Pd MOL     1      11.756   0.016  -3.908  1.00  0.00          PD  \nATOM    700   Pd MOL     1      11.811   1.997  -1.880  1.00  0.00          PD  \nATOM    701   Pt MOL     1      11.711  -0.022  -0.006  1.00  0.00          PT  \nATOM    702   Pd MOL     1      11.781   1.918   1.923  1.00  0.00          PD  \nATOM    703   Pt MOL     1      11.656  -0.017   3.870  1.00  0.00          PT  \nATOM    704   Pd MOL     1      11.688   1.915   5.809  1.00  0.00          PD  \nATOM    705   Pd MOL     1      11.563   0.056   7.813  1.00  0.00          PD  \nATOM    706   Pt MOL     1      11.606   3.825  -3.943  1.00  0.00          PT  \nATOM    707   Pd MOL     1      11.704   5.741  -1.985  1.00  0.00          PD  \nATOM    708   Pt MOL     1      11.642   3.938   0.056  1.00  0.00          PT  \nATOM    709   Pt MOL     1      11.574   5.839   1.957  1.00  0.00          PT  \nATOM    710   Pd MOL     1      11.691   3.943   3.851  1.00  0.00          PD  \nATOM    711   Pd MOL     1      11.644   7.698   0.048  1.00  0.00          PD  \nENDMDL\n",
           "type": "blob"
          }
         ],
         "kwargs": {
          "defaultRepresentation": false,
          "ext": "pdb"
         },
         "methodName": "loadFile",
         "reconstruc_color_scheme": false,
         "target": "Stage",
         "type": "call_method"
        },
        {
         "args": [
          "500px",
          "500px"
         ],
         "kwargs": {},
         "methodName": "setSize",
         "reconstruc_color_scheme": false,
         "target": "Widget",
         "type": "call_method"
        },
        {
         "args": [
          "unitcell"
         ],
         "component_index": 0,
         "kwargs": {
          "sele": "all"
         },
         "methodName": "addRepresentation",
         "reconstruc_color_scheme": false,
         "target": "compList",
         "type": "call_method"
        },
        {
         "args": [
          "spacefill"
         ],
         "component_index": 0,
         "kwargs": {
          "sele": "all"
         },
         "methodName": "addRepresentation",
         "reconstruc_color_scheme": false,
         "target": "compList",
         "type": "call_method"
        },
        {
         "args": [],
         "kwargs": {
          "cameraType": "orthographic"
         },
         "methodName": "setParameters",
         "reconstruc_color_scheme": false,
         "target": "Stage",
         "type": "call_method"
        },
        {
         "args": [
          {
           "clipDist": 0
          }
         ],
         "kwargs": {},
         "methodName": "setParameters",
         "reconstruc_color_scheme": false,
         "target": "Widget",
         "type": "call_method"
        },
        {
         "args": [
          "spacefill",
          0
         ],
         "kwargs": {
          "colorScale": "rainbow",
          "colorScheme": "element",
          "radiusScale": 0.5,
          "radiusType": "covalent"
         },
         "methodName": "updateRepresentationsByName",
         "reconstruc_color_scheme": false,
         "target": "Widget",
         "type": "call_method"
        },
        {
         "args": [
          "this._Q = [[1.0, 0.0, 0.0], [0.0, 1.0, 0.0], [0.0, 0.0, 1.0]]\n    var tooltip = document.createElement('div')\n    Object.assign(tooltip.style, {\n      display: 'none',\n      position: 'fixed',\n      zIndex: 10,\n      pointerEvents: 'none',\n      backgroundColor: 'rgba( 0, 0, 0, 0.6 )',\n      color: 'lightgrey',\n      padding: '8px',\n      fontFamily: 'sans-serif'\n    })\n    document.body.appendChild(tooltip)\n\n    var that = this\n    this.stage.mouseControls.remove('hoverPick')\n    this.stage.signals.hovered.add(function (pickingProxy) {\n      if (pickingProxy && (pickingProxy.atom || pickingProxy.bond)) {\n        var atom = pickingProxy.atom || pickingProxy.closestBondAtom\n        var mp = pickingProxy.mouse.position\n        //tooltip.innerText = atom.element + ' i=' + atom.index + ' (' + atom.x.toFixed(2) +  ', ' + atom.y.toFixed(2) +  ', ' + atom.z.toFixed(2) + ')'\n        //var pos = that._atoms_pos[atom.index]\n        var Q = that._Q\n        var pos_x = Q[0][0] * atom.x + Q[0][1] * atom.y + Q[0][2] * atom.z \n        var pos_y = Q[1][0] * atom.x + Q[1][1] * atom.y + Q[1][2] * atom.z\n        var pos_z = Q[2][0] * atom.x + Q[2][1] * atom.y + Q[2][2] * atom.z\n        tooltip.innerText = 'i=' + atom.index + ' ' + atom.element + ' (' + pos_x.toFixed(2) +  ', ' + pos_y.toFixed(2) +  ', ' + pos_z.toFixed(2) + ')'\n        tooltip.style.bottom = window.innerHeight - mp.y + 3 + 'px'\n        tooltip.style.left = mp.x + 3 + 'px'\n        tooltip.style.display = 'block'\n      } else {\n        tooltip.style.display = 'none'\n      }\n    })\n    "
         ],
         "kwargs": {},
         "methodName": "executeCode",
         "reconstruc_color_scheme": false,
         "target": "Widget",
         "type": "call_method"
        }
       ],
       "_ngl_original_stage_parameters": {
        "ambientColor": 14540253,
        "ambientIntensity": 0.2,
        "backgroundColor": "white",
        "cameraEyeSep": 0.3,
        "cameraFov": 40,
        "cameraType": "perspective",
        "clipDist": 10,
        "clipFar": 100,
        "clipNear": 0,
        "fogFar": 100,
        "fogNear": 50,
        "hoverTimeout": 0,
        "impostor": true,
        "lightColor": 14540253,
        "lightIntensity": 1,
        "mousePreset": "default",
        "panSpeed": 1,
        "quality": "medium",
        "rotateSpeed": 2,
        "sampleLevel": 0,
        "tooltip": true,
        "workerDefault": true,
        "zoomSpeed": 1.2
       },
       "_ngl_repr_dict": {
        "0": {
         "0": {
          "params": {
           "clipCenter": {
            "x": 0,
            "y": 0,
            "z": 0
           },
           "clipNear": 0,
           "clipRadius": 0,
           "colorMode": "hcl",
           "colorReverse": false,
           "colorScale": "",
           "colorScheme": "element",
           "colorValue": "orange",
           "defaultAssembly": "",
           "depthWrite": true,
           "diffuse": 16777215,
           "diffuseInterior": false,
           "disableImpostor": false,
           "disablePicking": false,
           "flatShaded": false,
           "interiorColor": 2236962,
           "interiorDarkening": 0,
           "lazy": false,
           "matrix": {
            "elements": [
             1,
             0,
             0,
             0,
             0,
             1,
             0,
             0,
             0,
             0,
             1,
             0,
             0,
             0,
             0,
             1
            ]
           },
           "metalness": 0,
           "opacity": 1,
           "quality": "medium",
           "radialSegments": 10,
           "radiusData": {},
           "radiusScale": 1,
           "radiusSize": 0.5,
           "radiusType": "vdw",
           "roughness": 0.4,
           "sele": "all",
           "side": "double",
           "sphereDetail": 1,
           "useInteriorColor": true,
           "visible": true,
           "wireframe": false
          },
          "type": "unitcell"
         },
         "1": {
          "params": {
           "assembly": "default",
           "clipCenter": {
            "x": 0,
            "y": 0,
            "z": 0
           },
           "clipNear": 0,
           "clipRadius": 0,
           "colorMode": "hcl",
           "colorReverse": false,
           "colorScale": "rainbow",
           "colorScheme": "element",
           "colorValue": 9474192,
           "defaultAssembly": "",
           "depthWrite": true,
           "diffuse": 16777215,
           "diffuseInterior": false,
           "disableImpostor": false,
           "disablePicking": false,
           "flatShaded": false,
           "interiorColor": 2236962,
           "interiorDarkening": 0,
           "lazy": false,
           "matrix": {
            "elements": [
             1,
             0,
             0,
             0,
             0,
             1,
             0,
             0,
             0,
             0,
             1,
             0,
             0,
             0,
             0,
             1
            ]
           },
           "metalness": 0,
           "opacity": 1,
           "quality": "medium",
           "radiusData": {},
           "radiusScale": 0.5,
           "radiusSize": 1,
           "radiusType": "covalent",
           "roughness": 0.4,
           "sele": "all",
           "side": "double",
           "sphereDetail": 1,
           "useInteriorColor": true,
           "visible": true,
           "wireframe": false
          },
          "type": "spacefill"
         }
        }
       },
       "_ngl_serialize": false,
       "_ngl_version": "2.0.0-dev.36",
       "_ngl_view_id": [
        "98BCCD0A-F803-4077-9EAA-617BEE6BD146"
       ],
       "_player_dict": {},
       "_scene_position": {},
       "_scene_rotation": {},
       "_synced_model_ids": [],
       "_synced_repr_model_ids": [],
       "_view_height": "",
       "_view_width": "",
       "background": "white",
       "frame": 0,
       "gui_style": null,
       "layout": "IPY_MODEL_e3eb079323264dc795f333ae98091fb0",
       "max_frame": 0,
       "n_components": 1,
       "picked": {}
      }
     },
     "298b3fa8d7c74f66a6031e026e40fa01": {
      "model_module": "@jupyter-widgets/controls",
      "model_module_version": "1.5.0",
      "model_name": "ButtonStyleModel",
      "state": {}
     },
     "29adf43c654845b5812a84f28144887d": {
      "model_module": "@jupyter-widgets/controls",
      "model_module_version": "1.5.0",
      "model_name": "DropdownModel",
      "state": {
       "_options_labels": [
        "All",
        "O",
        "Sn"
       ],
       "description": "Show",
       "index": 0,
       "layout": "IPY_MODEL_213995cfba83439c87e5039fc7e78658",
       "style": "IPY_MODEL_3a126451fd264fb4940f3339be5b3ff8"
      }
     },
     "2a1c62780eba42c6bd7a3f2ab5ebdd00": {
      "model_module": "@jupyter-widgets/controls",
      "model_module_version": "1.5.0",
      "model_name": "SliderStyleModel",
      "state": {
       "description_width": ""
      }
     },
     "2a4b97b1dea8457cad5316610ac94b24": {
      "model_module": "@jupyter-widgets/controls",
      "model_module_version": "1.5.0",
      "model_name": "PlayModel",
      "state": {
       "layout": "IPY_MODEL_b5b450418c2b4f1092bab19fd8e20d50",
       "max": 0,
       "style": "IPY_MODEL_b77f8b278cc9434fa68c158546b58640"
      }
     },
     "2a89ee22c06345fe96e4e58ecb436ba7": {
      "model_module": "@jupyter-widgets/base",
      "model_module_version": "1.2.0",
      "model_name": "LayoutModel",
      "state": {}
     },
     "2aeb857e66514afab2494ccb79e7af51": {
      "model_module": "@jupyter-widgets/controls",
      "model_module_version": "1.5.0",
      "model_name": "FloatSliderModel",
      "state": {
       "description": "Force scale",
       "layout": "IPY_MODEL_799ef51a23444908b717173e3bb210a8",
       "step": 0.1,
       "style": "IPY_MODEL_3093a05ae46f4894ad9510aed7a5c4ed",
       "value": 0.5
      }
     },
     "2b1fa73e41594a7b8e347c19497188dc": {
      "model_module": "@jupyter-widgets/controls",
      "model_module_version": "1.5.0",
      "model_name": "PlayModel",
      "state": {
       "layout": "IPY_MODEL_1df88db889cc460e97d072603c3e9cbb",
       "max": 0,
       "style": "IPY_MODEL_43b70087ecc848f187256b8fa66cfcf1"
      }
     },
     "2ba509b7a2c946da83319ee08a0cef3d": {
      "model_module": "@jupyter-widgets/base",
      "model_module_version": "1.2.0",
      "model_name": "LayoutModel",
      "state": {}
     },
     "2bdde644b75c4db098d9102311cd7a83": {
      "model_module": "@jupyter-widgets/controls",
      "model_module_version": "1.5.0",
      "model_name": "HBoxModel",
      "state": {
       "children": [
        "IPY_MODEL_9d00314c4ab84727aed7c69e1682d52f",
        "IPY_MODEL_385a0bba1b604c6b91b63e09e5e6f8cc"
       ],
       "layout": "IPY_MODEL_58b842985dee4a62a32bcfdca24d3217"
      }
     },
     "2c39d87d4232494bafb0f162d1b4b227": {
      "model_module": "@jupyter-widgets/controls",
      "model_module_version": "1.5.0",
      "model_name": "DropdownModel",
      "state": {
       "_options_labels": [
        " ",
        "picking",
        "random",
        "uniform",
        "atomindex",
        "residueindex",
        "chainindex",
        "modelindex",
        "sstruc",
        "element",
        "resname",
        "bfactor",
        "hydrophobicity",
        "value",
        "volume",
        "occupancy"
       ],
       "description": "Color scheme",
       "index": 9,
       "layout": "IPY_MODEL_c61cc87df76e43ccaf27943a5bfc02fe",
       "style": "IPY_MODEL_767816afeb904ffc82dc8df6b271f45a"
      }
     },
     "2c8e81e044a6496cb1f1bf61a42db2cf": {
      "model_module": "@jupyter-widgets/controls",
      "model_module_version": "1.5.0",
      "model_name": "CheckboxModel",
      "state": {
       "description": "Show charge",
       "disabled": false,
       "layout": "IPY_MODEL_07038b92cfeb4d7fb7dc87eeb66e9b9a",
       "style": "IPY_MODEL_a2cc2e5f979248ada207cc8ee7cdbfb8",
       "value": false
      }
     },
     "2cdea2c68f0643c58e3764e3ffbfa301": {
      "model_module": "@jupyter-widgets/controls",
      "model_module_version": "1.5.0",
      "model_name": "FloatSliderModel",
      "state": {
       "description": "Force scale",
       "layout": "IPY_MODEL_6a995d305dbd448b82442b0879d89044",
       "step": 0.1,
       "style": "IPY_MODEL_3e159311ab9940f59bfc1c62d27e0fe3",
       "value": 0.5
      }
     },
     "2d756c4f4d0b4b8d988d9ccb24f9fda3": {
      "model_module": "@jupyter-widgets/controls",
      "model_module_version": "1.5.0",
      "model_name": "CheckboxModel",
      "state": {
       "description": "Show force",
       "disabled": false,
       "layout": "IPY_MODEL_5dfe8007b8a44e719dc34f29052dff23",
       "style": "IPY_MODEL_fe48ff5c091e4a9cba40f970b9d89398",
       "value": false
      }
     },
     "2dec97a7fc374b13a925bf31098ccfea": {
      "model_module": "@jupyter-widgets/controls",
      "model_module_version": "1.5.0",
      "model_name": "HBoxModel",
      "state": {
       "children": [
        "IPY_MODEL_8f8e08d4787f4fdeba83ad894b4a7bf2",
        "IPY_MODEL_1500b9c68bb74c5586b8f4527a2b6261"
       ],
       "layout": "IPY_MODEL_ad40905edbe641d1a614f2b16dcab430"
      }
     },
     "2e3840440d9f4556b38db8983e81731a": {
      "model_module": "@jupyter-widgets/base",
      "model_module_version": "1.2.0",
      "model_name": "LayoutModel",
      "state": {}
     },
     "2ea7e1f656d24438afc717b68832a69f": {
      "model_module": "@jupyter-widgets/controls",
      "model_module_version": "1.5.0",
      "model_name": "ButtonStyleModel",
      "state": {}
     },
     "2fdbce9059b24aa2aa2da5f21eed5311": {
      "model_module": "@jupyter-widgets/base",
      "model_module_version": "1.2.0",
      "model_name": "LayoutModel",
      "state": {}
     },
     "3032f16012574088b4410e882b8b6c4c": {
      "model_module": "@jupyter-widgets/base",
      "model_module_version": "1.2.0",
      "model_name": "LayoutModel",
      "state": {}
     },
     "3053ec0f4c464c5c8c4ded4c55ecfd4d": {
      "model_module": "@jupyter-widgets/controls",
      "model_module_version": "1.5.0",
      "model_name": "DescriptionStyleModel",
      "state": {
       "description_width": ""
      }
     },
     "3093a05ae46f4894ad9510aed7a5c4ed": {
      "model_module": "@jupyter-widgets/controls",
      "model_module_version": "1.5.0",
      "model_name": "SliderStyleModel",
      "state": {
       "description_width": ""
      }
     },
     "30b046b37e0c42d7abf3d20f13d485a4": {
      "model_module": "@jupyter-widgets/controls",
      "model_module_version": "1.5.0",
      "model_name": "DescriptionStyleModel",
      "state": {
       "description_width": ""
      }
     },
     "31b84c0bc93345039e67b3087990e78a": {
      "model_module": "@jupyter-widgets/controls",
      "model_module_version": "1.5.0",
      "model_name": "SliderStyleModel",
      "state": {
       "description_width": ""
      }
     },
     "31c01676d4c64df0b3e2daa13f9a9e07": {
      "model_module": "@jupyter-widgets/controls",
      "model_module_version": "1.5.0",
      "model_name": "DescriptionStyleModel",
      "state": {
       "description_width": ""
      }
     },
     "3245c5f72f64454ea00601a4423e18ce": {
      "model_module": "@jupyter-widgets/controls",
      "model_module_version": "1.5.0",
      "model_name": "ImageModel",
      "state": {
       "layout": "IPY_MODEL_138e8b439ada4895b9e384f73aec1121",
       "width": "900.0"
      }
     },
     "324fc6d3318347a5818f112f5da42a4d": {
      "model_module": "@jupyter-widgets/base",
      "model_module_version": "1.2.0",
      "model_name": "LayoutModel",
      "state": {}
     },
     "32d329d64b3d4bd6b45d1e3c588f9f6a": {
      "model_module": "@jupyter-widgets/controls",
      "model_module_version": "1.5.0",
      "model_name": "HBoxModel",
      "state": {
       "children": [
        "IPY_MODEL_4a2f6a17a165485d81cc02df3535ed55",
        "IPY_MODEL_ebb8dbecf36c445497d2528a8cfc98de"
       ],
       "layout": "IPY_MODEL_4932afe835704338a392fd13004942ee"
      }
     },
     "335f8e63588747b5aaa49f229f1bf35e": {
      "model_module": "@jupyter-widgets/controls",
      "model_module_version": "1.5.0",
      "model_name": "DescriptionStyleModel",
      "state": {
       "description_width": ""
      }
     },
     "3368f3eb5dcf4e6dba9ebfb21c52422d": {
      "model_module": "@jupyter-widgets/base",
      "model_module_version": "1.2.0",
      "model_name": "LayoutModel",
      "state": {}
     },
     "3386f652a8d64025b566c4e44ef7de10": {
      "model_module": "@jupyter-widgets/controls",
      "model_module_version": "1.5.0",
      "model_name": "LinkModel",
      "state": {
       "source": [
        "IPY_MODEL_7be398478347491aa67c826562e5a6d9",
        "max"
       ],
       "target": [
        "IPY_MODEL_b5b4363a64e64cc8b6ce0a1f89127ae1",
        "max_frame"
       ]
      }
     },
     "339a643697c84485b7b5a887f941224e": {
      "model_module": "@jupyter-widgets/base",
      "model_module_version": "1.2.0",
      "model_name": "LayoutModel",
      "state": {
       "width": "34px"
      }
     },
     "3412d836790245caaf819c22eabb557f": {
      "model_module": "@jupyter-widgets/controls",
      "model_module_version": "1.5.0",
      "model_name": "DescriptionStyleModel",
      "state": {
       "description_width": ""
      }
     },
     "344f546a41034c7e9d9a0bec204eea27": {
      "model_module": "@jupyter-widgets/controls",
      "model_module_version": "1.5.0",
      "model_name": "CheckboxModel",
      "state": {
       "description": "Show force",
       "disabled": false,
       "layout": "IPY_MODEL_d026e5a875534677b296f68ece31c999",
       "style": "IPY_MODEL_335f8e63588747b5aaa49f229f1bf35e",
       "value": false
      }
     },
     "34b77618f6c8446eb3d61efb36d30cab": {
      "model_module": "@jupyter-widgets/controls",
      "model_module_version": "1.5.0",
      "model_name": "DescriptionStyleModel",
      "state": {
       "description_width": ""
      }
     },
     "34bbaaf3af82474a929eba7a6fa90aa7": {
      "model_module": "@jupyter-widgets/controls",
      "model_module_version": "1.5.0",
      "model_name": "DescriptionStyleModel",
      "state": {
       "description_width": ""
      }
     },
     "34d5fab4810c4dceb930936627233ec8": {
      "model_module": "@jupyter-widgets/controls",
      "model_module_version": "1.5.0",
      "model_name": "ButtonModel",
      "state": {
       "description": "Save image",
       "layout": "IPY_MODEL_8eaf492af8ec4b55b0962596ef53070a",
       "style": "IPY_MODEL_16a3b2cca1aa408da9b2b632007f6a36",
       "tooltip": "Save current frame to file.\nCurrently .png and .html are supported.\nIt takes a bit time, please be patient."
      }
     },
     "35363ddcd3314f169568e5d63427a35b": {
      "model_module": "@jupyter-widgets/base",
      "model_module_version": "1.2.0",
      "model_name": "LayoutModel",
      "state": {}
     },
     "35a4d5772b594fb9ac4775c9584d4aa4": {
      "model_module": "@jupyter-widgets/controls",
      "model_module_version": "1.5.0",
      "model_name": "SliderStyleModel",
      "state": {
       "description_width": ""
      }
     },
     "35f070afed114593815e5bbe6854fe36": {
      "model_module": "@jupyter-widgets/controls",
      "model_module_version": "1.5.0",
      "model_name": "VBoxModel",
      "state": {
       "children": [
        "IPY_MODEL_1de4bf79c76e49109df75b508247a6bd",
        "IPY_MODEL_f5b5fde0eccb4f33bbb08a21c4c77088",
        "IPY_MODEL_eeb8a08f9d9b4ff1b6e40f00eaefa11a",
        "IPY_MODEL_ed4fb8df0be94660b82c18eaaad9b566",
        "IPY_MODEL_a67e7bcbc4ce4406b3cad534b35ac360",
        "IPY_MODEL_115906f5873e448eb3ddc7c2ee8443ec",
        "IPY_MODEL_b5fac53a90c1479aa155fb4aaf511f83",
        "IPY_MODEL_3fe2f747f93545b59dcea9a271425c61",
        "IPY_MODEL_cd49a31bb97844458dde33a26f9b8cf8",
        "IPY_MODEL_5fd505233b904095b368104d69e91edc"
       ],
       "layout": "IPY_MODEL_0a9cd9c9413b46b2a41182bb2310db87"
      }
     },
     "3609d6625efd4235acd5ac316ac67ddd": {
      "model_module": "@jupyter-widgets/controls",
      "model_module_version": "1.5.0",
      "model_name": "CheckboxModel",
      "state": {
       "description": "Show force",
       "disabled": false,
       "layout": "IPY_MODEL_f4dfa0a2de3a4cb18fc99e598751b4ed",
       "style": "IPY_MODEL_83f8bff32b8e44c585674b71b1c8b262",
       "value": false
      }
     },
     "36437725f5274f52b75d668f6bd03353": {
      "model_module": "@jupyter-widgets/controls",
      "model_module_version": "1.5.0",
      "model_name": "DescriptionStyleModel",
      "state": {
       "description_width": ""
      }
     },
     "36f047e83f31442d98063bd1925c2c7d": {
      "model_module": "@jupyter-widgets/controls",
      "model_module_version": "1.5.0",
      "model_name": "ButtonStyleModel",
      "state": {}
     },
     "385a0bba1b604c6b91b63e09e5e6f8cc": {
      "model_module": "@jupyter-widgets/controls",
      "model_module_version": "1.5.0",
      "model_name": "VBoxModel",
      "state": {
       "children": [
        "IPY_MODEL_9752a8cee2174d4cbce1241b86a4be1b",
        "IPY_MODEL_e5ebe47feb77430092be93595a213006",
        "IPY_MODEL_6cf0525d84634f8f82343bfabe510908",
        "IPY_MODEL_058d7a8f39654474bdec63e4fe42f73f",
        "IPY_MODEL_635879d9943841ef95e7cd21fc095d4d",
        "IPY_MODEL_3609d6625efd4235acd5ac316ac67ddd",
        "IPY_MODEL_e8aba4b6574e4dd6ac09378793b548fe",
        "IPY_MODEL_2c8e81e044a6496cb1f1bf61a42db2cf",
        "IPY_MODEL_ab04b5e8a81d4bbbbb580312f9c70aea",
        "IPY_MODEL_0a7ebe449fc24c40a92d97e65f7b5bdc"
       ],
       "layout": "IPY_MODEL_924441544223453496dd6830ed614a30"
      }
     },
     "38e62469faa8467c94789c77c0dc011c": {
      "model_module": "@jupyter-widgets/controls",
      "model_module_version": "1.5.0",
      "model_name": "ButtonModel",
      "state": {
       "description": "Save image",
       "layout": "IPY_MODEL_a458c1a9c1344aa0b786b3e3cfe05c5a",
       "style": "IPY_MODEL_ad0736d744224902bb11dd29d1272689",
       "tooltip": "Save current frame to file.\nCurrently .png and .html are supported.\nIt takes a bit time, please be patient."
      }
     },
     "3903bf3263d8468d82df3caf356374ec": {
      "model_module": "@jupyter-widgets/controls",
      "model_module_version": "1.5.0",
      "model_name": "DropdownModel",
      "state": {
       "_options_labels": [
        "All",
        "Pd",
        "Pt"
       ],
       "description": "Show",
       "index": 0,
       "layout": "IPY_MODEL_9aa5c8ab49034cca9d19828566da6a4f",
       "style": "IPY_MODEL_34bbaaf3af82474a929eba7a6fa90aa7"
      }
     },
     "395beeeaaa184c55901707124f6017f7": {
      "model_module": "@jupyter-widgets/base",
      "model_module_version": "1.2.0",
      "model_name": "LayoutModel",
      "state": {}
     },
     "39759caf396749ccbf68e4a242c011f4": {
      "model_module": "@jupyter-widgets/controls",
      "model_module_version": "1.5.0",
      "model_name": "ButtonStyleModel",
      "state": {}
     },
     "3a126451fd264fb4940f3339be5b3ff8": {
      "model_module": "@jupyter-widgets/controls",
      "model_module_version": "1.5.0",
      "model_name": "DescriptionStyleModel",
      "state": {
       "description_width": ""
      }
     },
     "3ad48a15a0e04679916ff76048f0b531": {
      "model_module": "@jupyter-widgets/controls",
      "model_module_version": "1.5.0",
      "model_name": "ButtonModel",
      "state": {
       "icon": "compress",
       "layout": "IPY_MODEL_f6cb08a5d62b4233a7b4fd07a8619160",
       "style": "IPY_MODEL_638d06b91d3b48e082ab22aab5a538d2"
      }
     },
     "3aface778756437b924fa9a0c4e583ac": {
      "model_module": "@jupyter-widgets/controls",
      "model_module_version": "1.5.0",
      "model_name": "DescriptionStyleModel",
      "state": {
       "description_width": ""
      }
     },
     "3c14ee777e8840419da981553556acea": {
      "model_module": "@jupyter-widgets/controls",
      "model_module_version": "1.5.0",
      "model_name": "DescriptionStyleModel",
      "state": {
       "description_width": ""
      }
     },
     "3ca7904451ae45cca56fb430ddfa9cb2": {
      "model_module": "@jupyter-widgets/base",
      "model_module_version": "1.2.0",
      "model_name": "LayoutModel",
      "state": {}
     },
     "3cf1e6b11ebb4461af87d8e159543de4": {
      "model_module": "@jupyter-widgets/controls",
      "model_module_version": "1.5.0",
      "model_name": "SliderStyleModel",
      "state": {
       "description_width": ""
      }
     },
     "3d950a083dad4b0c94c09a3b6f3efa6c": {
      "model_module": "@jupyter-widgets/controls",
      "model_module_version": "1.5.0",
      "model_name": "FloatSliderModel",
      "state": {
       "description": "Charge scale",
       "layout": "IPY_MODEL_a3970cbe81254e06bab5d46d6ff6abda",
       "step": 0.1,
       "style": "IPY_MODEL_31b84c0bc93345039e67b3087990e78a",
       "value": 1
      }
     },
     "3d97aacd9c214688beedb6af84c3192d": {
      "model_module": "@jupyter-widgets/base",
      "model_module_version": "1.2.0",
      "model_name": "LayoutModel",
      "state": {}
     },
     "3d9c628ea5ab44e883bf1f3a8a21c190": {
      "model_module": "@jupyter-widgets/base",
      "model_module_version": "1.2.0",
      "model_name": "LayoutModel",
      "state": {
       "border": "0px solid black"
      }
     },
     "3e159311ab9940f59bfc1c62d27e0fe3": {
      "model_module": "@jupyter-widgets/controls",
      "model_module_version": "1.5.0",
      "model_name": "SliderStyleModel",
      "state": {
       "description_width": ""
      }
     },
     "3eb2aeb7359043ca9fa908de888a1472": {
      "model_module": "@jupyter-widgets/controls",
      "model_module_version": "1.5.0",
      "model_name": "DropdownModel",
      "state": {
       "_options_labels": [
        "All",
        "Pt"
       ],
       "description": "Show",
       "index": 0,
       "layout": "IPY_MODEL_3d97aacd9c214688beedb6af84c3192d",
       "style": "IPY_MODEL_36437725f5274f52b75d668f6bd03353"
      }
     },
     "3edaac6086af42d1bd0e93cc0067b35f": {
      "model_module": "@jupyter-widgets/controls",
      "model_module_version": "1.5.0",
      "model_name": "ButtonStyleModel",
      "state": {}
     },
     "3f79d6e1aa664ea097e018b4dab1374a": {
      "model_module": "@jupyter-widgets/controls",
      "model_module_version": "1.5.0",
      "model_name": "HBoxModel",
      "state": {
       "children": [
        "IPY_MODEL_2a4b97b1dea8457cad5316610ac94b24",
        "IPY_MODEL_961cc5359c7147299fef92e04f87eb98"
       ],
       "layout": "IPY_MODEL_0e7bcc73b9184e5586fe193a07139fb5"
      }
     },
     "3f945444c5ba4c2ba867d5234a62ba0f": {
      "model_module": "@jupyter-widgets/base",
      "model_module_version": "1.2.0",
      "model_name": "LayoutModel",
      "state": {
       "border": "0px solid black"
      }
     },
     "3f976bc304a04ee4964168b148d08589": {
      "model_module": "@jupyter-widgets/controls",
      "model_module_version": "1.5.0",
      "model_name": "HBoxModel",
      "state": {
       "children": [
        "IPY_MODEL_656057a30fa04e1c949439a1bff4cfb5",
        "IPY_MODEL_a2e95f78b0624a80bc4af66db9553f0d"
       ],
       "layout": "IPY_MODEL_aa0e8190e0f74b0b82dd2e13d03b9811"
      }
     },
     "3fe2f747f93545b59dcea9a271425c61": {
      "model_module": "@jupyter-widgets/controls",
      "model_module_version": "1.5.0",
      "model_name": "CheckboxModel",
      "state": {
       "description": "Show charge",
       "disabled": false,
       "layout": "IPY_MODEL_a09596d920964cbd805616a25854a092",
       "style": "IPY_MODEL_260b1824adba45949b7dccfed31e5181",
       "value": false
      }
     },
     "402b2967935f4a95b7fcf118a8613f61": {
      "model_module": "@jupyter-widgets/controls",
      "model_module_version": "1.5.0",
      "model_name": "LinkModel",
      "state": {
       "source": [
        "IPY_MODEL_cd404c5e3fe7483dadebbc5a8520a67e",
        "max"
       ],
       "target": [
        "IPY_MODEL_b5b4363a64e64cc8b6ce0a1f89127ae1",
        "max_frame"
       ]
      }
     },
     "4045e6db0f6d48c0a0941b44bb488ff0": {
      "model_module": "@jupyter-widgets/controls",
      "model_module_version": "1.5.0",
      "model_name": "LinkModel",
      "state": {
       "source": [
        "IPY_MODEL_2a4b97b1dea8457cad5316610ac94b24",
        "max"
       ],
       "target": [
        "IPY_MODEL_84ec754fa1d541c0bd4515d85a671338",
        "max_frame"
       ]
      }
     },
     "407d2e52454b4ce493e7bfdb70ec29d2": {
      "model_module": "@jupyter-widgets/controls",
      "model_module_version": "1.5.0",
      "model_name": "DescriptionStyleModel",
      "state": {
       "description_width": ""
      }
     },
     "40f2551986a74a31ae2c14a882b834ac": {
      "model_module": "@jupyter-widgets/controls",
      "model_module_version": "1.5.0",
      "model_name": "CheckboxModel",
      "state": {
       "description": "Show force",
       "disabled": false,
       "layout": "IPY_MODEL_3368f3eb5dcf4e6dba9ebfb21c52422d",
       "style": "IPY_MODEL_34b77618f6c8446eb3d61efb36d30cab",
       "value": false
      }
     },
     "41d8fe7edb1744f69ebe831fcf46007d": {
      "model_module": "@jupyter-widgets/controls",
      "model_module_version": "1.5.0",
      "model_name": "LinkModel",
      "state": {
       "source": [
        "IPY_MODEL_7be398478347491aa67c826562e5a6d9",
        "value"
       ],
       "target": [
        "IPY_MODEL_b5b4363a64e64cc8b6ce0a1f89127ae1",
        "frame"
       ]
      }
     },
     "428bd505ecc44a8c8c91b780a81b9d4d": {
      "model_module": "@jupyter-widgets/controls",
      "model_module_version": "1.5.0",
      "model_name": "HBoxModel",
      "state": {
       "children": [
        "IPY_MODEL_4d34e3a713dd40e8b6d43e5988a72ae0",
        "IPY_MODEL_38e62469faa8467c94789c77c0dc011c"
       ],
       "layout": "IPY_MODEL_8ab94d60980f401b9ed595ed9f58a2c1"
      }
     },
     "42c38cf7599c4cc6b7bf7b52e92b3e96": {
      "model_module": "@jupyter-widgets/controls",
      "model_module_version": "1.5.0",
      "model_name": "ImageModel",
      "state": {
       "layout": "IPY_MODEL_0c4f73998c5742d486aca2970d3df61b",
       "width": "900.0"
      }
     },
     "42d41c8ac5e44ecdb254c4d5752d3c38": {
      "model_module": "@jupyter-widgets/controls",
      "model_module_version": "1.5.0",
      "model_name": "SliderStyleModel",
      "state": {
       "description_width": ""
      }
     },
     "434d92082ac444b49970ae189c2848bd": {
      "model_module": "@jupyter-widgets/base",
      "model_module_version": "1.2.0",
      "model_name": "LayoutModel",
      "state": {}
     },
     "43b70087ecc848f187256b8fa66cfcf1": {
      "model_module": "@jupyter-widgets/controls",
      "model_module_version": "1.5.0",
      "model_name": "DescriptionStyleModel",
      "state": {
       "description_width": ""
      }
     },
     "4452ea79a8b840dab1144e9e3973bc6f": {
      "model_module": "@jupyter-widgets/controls",
      "model_module_version": "1.5.0",
      "model_name": "LinkModel",
      "state": {
       "source": [
        "IPY_MODEL_2a4b97b1dea8457cad5316610ac94b24",
        "value"
       ],
       "target": [
        "IPY_MODEL_961cc5359c7147299fef92e04f87eb98",
        "value"
       ]
      }
     },
     "4504e863693743d3816e53c99afaf922": {
      "model_module": "@jupyter-widgets/controls",
      "model_module_version": "1.5.0",
      "model_name": "LinkModel",
      "state": {
       "source": [
        "IPY_MODEL_d8109a8ad1354310be74c2d5230a8c66",
        "max"
       ],
       "target": [
        "IPY_MODEL_fe4cbd1211f94da29c1fdbcb5a9b7142",
        "max_frame"
       ]
      }
     },
     "45a4b1bf822547eea2c2a218bdd38610": {
      "model_module": "@jupyter-widgets/base",
      "model_module_version": "1.2.0",
      "model_name": "LayoutModel",
      "state": {}
     },
     "46249d082f9a49ef8b2d0cedf4f43f17": {
      "model_module": "@jupyter-widgets/controls",
      "model_module_version": "1.5.0",
      "model_name": "IntSliderModel",
      "state": {
       "layout": "IPY_MODEL_822682660b224f4e982b68cafb67d25c",
       "max": 0,
       "style": "IPY_MODEL_42d41c8ac5e44ecdb254c4d5752d3c38"
      }
     },
     "4630d99e08454ebd810a8d9483f15f20": {
      "model_module": "@jupyter-widgets/controls",
      "model_module_version": "1.5.0",
      "model_name": "LinkModel",
      "state": {
       "source": [
        "IPY_MODEL_e8994d2c9da944f3990f11008f34d848",
        "max"
       ],
       "target": [
        "IPY_MODEL_9d00314c4ab84727aed7c69e1682d52f",
        "max_frame"
       ]
      }
     },
     "463a89785cd84fc7bb6f34e62609cd53": {
      "model_module": "@jupyter-widgets/base",
      "model_module_version": "1.2.0",
      "model_name": "LayoutModel",
      "state": {}
     },
     "4642cae5d228426f83bf83e4b4eff509": {
      "model_module": "@jupyter-widgets/base",
      "model_module_version": "1.2.0",
      "model_name": "LayoutModel",
      "state": {}
     },
     "464684fd38674e6c9bee3e6657e265c0": {
      "model_module": "@jupyter-widgets/controls",
      "model_module_version": "1.5.0",
      "model_name": "FloatSliderModel",
      "state": {
       "description": "Charge scale",
       "layout": "IPY_MODEL_4c393c3f9c5c44ebace3d9ce637c6dea",
       "step": 0.1,
       "style": "IPY_MODEL_f6acc2d05fa345d186167480d07e78f4",
       "value": 1
      }
     },
     "4662d7d7365a46d88864b90c2cc2dd31": {
      "model_module": "@jupyter-widgets/controls",
      "model_module_version": "1.5.0",
      "model_name": "TextModel",
      "state": {
       "description": "Filename: ",
       "layout": "IPY_MODEL_4fa6c5fbcb6f43d6877ac0c927406c38",
       "style": "IPY_MODEL_ec1c63e4e327438d823bb65c3c5fe239",
       "value": "screenshot.png"
      }
     },
     "46bb6f26f6ac476c84b97b043d5dfb94": {
      "model_module": "@jupyter-widgets/controls",
      "model_module_version": "1.5.0",
      "model_name": "DescriptionStyleModel",
      "state": {
       "description_width": ""
      }
     },
     "46c08de8444047b6adecaaa80d2816fd": {
      "model_module": "@jupyter-widgets/controls",
      "model_module_version": "1.5.0",
      "model_name": "TextModel",
      "state": {
       "description": "Filename: ",
       "layout": "IPY_MODEL_5596769de8b04c32964d67109f9f79ae",
       "style": "IPY_MODEL_eee95a857b364a158caf1625c251d320",
       "value": "screenshot.png"
      }
     },
     "46d2127c9c7a4c668a654df09e5f4784": {
      "model_module": "@jupyter-widgets/controls",
      "model_module_version": "1.5.0",
      "model_name": "PlayModel",
      "state": {
       "layout": "IPY_MODEL_654deaca1563430b8b41c55223db0733",
       "max": 1,
       "style": "IPY_MODEL_882f65f2aeaa4b8f87e827b81b494f6b"
      }
     },
     "470fa34f8c2346888d49cb1f3d02adbf": {
      "model_module": "@jupyter-widgets/base",
      "model_module_version": "1.2.0",
      "model_name": "LayoutModel",
      "state": {}
     },
     "471306de344b47a7bac96379674e95f5": {
      "model_module": "@jupyter-widgets/controls",
      "model_module_version": "1.5.0",
      "model_name": "SliderStyleModel",
      "state": {
       "description_width": ""
      }
     },
     "471385de483445e39a8001545426e032": {
      "model_module": "@jupyter-widgets/controls",
      "model_module_version": "1.5.0",
      "model_name": "HBoxModel",
      "state": {
       "children": [
        "IPY_MODEL_15ad1d0118194cb398cfc9d0cea093dc",
        "IPY_MODEL_34d5fab4810c4dceb930936627233ec8"
       ],
       "layout": "IPY_MODEL_76271e2d0afa4fa999da777d1fb06350"
      }
     },
     "482d5e5f33504932bc5c203ad795e699": {
      "model_module": "@jupyter-widgets/controls",
      "model_module_version": "1.5.0",
      "model_name": "DescriptionStyleModel",
      "state": {
       "description_width": ""
      }
     },
     "483274c110924e4b985069023cc9305e": {
      "model_module": "@jupyter-widgets/controls",
      "model_module_version": "1.5.0",
      "model_name": "ButtonModel",
      "state": {
       "icon": "compress",
       "layout": "IPY_MODEL_b4ef17a12c2947c7ad4b87ad6e177252",
       "style": "IPY_MODEL_0787e19866cf46ffad39fe50c040bcac"
      }
     },
     "483a3fe9bc2046ba90c218475f8cddc2": {
      "model_module": "@jupyter-widgets/base",
      "model_module_version": "1.2.0",
      "model_name": "LayoutModel",
      "state": {}
     },
     "48504d078791453ba69999f7e7567b42": {
      "model_module": "@jupyter-widgets/base",
      "model_module_version": "1.2.0",
      "model_name": "LayoutModel",
      "state": {}
     },
     "48762f050d81410ab61490217a1f9224": {
      "model_module": "@jupyter-widgets/base",
      "model_module_version": "1.2.0",
      "model_name": "LayoutModel",
      "state": {}
     },
     "489ee786097a4b728842bc5bbc27ddd9": {
      "model_module": "@jupyter-widgets/base",
      "model_module_version": "1.2.0",
      "model_name": "LayoutModel",
      "state": {}
     },
     "48b4231a3d99454eba8320fdd0002526": {
      "model_module": "@jupyter-widgets/base",
      "model_module_version": "1.2.0",
      "model_name": "LayoutModel",
      "state": {}
     },
     "48d4a5c0a39644b1aabdd2f05fd6bed6": {
      "model_module": "@jupyter-widgets/controls",
      "model_module_version": "1.5.0",
      "model_name": "DescriptionStyleModel",
      "state": {
       "description_width": ""
      }
     },
     "48ffd1976055449d93773d80514a27b6": {
      "model_module": "@jupyter-widgets/base",
      "model_module_version": "1.2.0",
      "model_name": "LayoutModel",
      "state": {}
     },
     "492b74efab3e4bab9187813c9e2e9fa3": {
      "model_module": "@jupyter-widgets/controls",
      "model_module_version": "1.5.0",
      "model_name": "DescriptionStyleModel",
      "state": {
       "description_width": ""
      }
     },
     "4932afe835704338a392fd13004942ee": {
      "model_module": "@jupyter-widgets/base",
      "model_module_version": "1.2.0",
      "model_name": "LayoutModel",
      "state": {}
     },
     "494e1460919c4c12b92fcb68295a9071": {
      "model_module": "@jupyter-widgets/controls",
      "model_module_version": "1.5.0",
      "model_name": "HBoxModel",
      "state": {
       "children": [
        "IPY_MODEL_7cd11d49d3854670b213209e38262f2d",
        "IPY_MODEL_d5141ada0da4443687a4ba1488130b69"
       ],
       "layout": "IPY_MODEL_1365bf7ff6194640bbe83172cc671a3b"
      }
     },
     "49981eacd47746cb96080100a6258aab": {
      "model_module": "@jupyter-widgets/controls",
      "model_module_version": "1.5.0",
      "model_name": "FloatSliderModel",
      "state": {
       "description": "Force scale",
       "layout": "IPY_MODEL_1f88236fb8044bc88bcab76fe76c850e",
       "step": 0.1,
       "style": "IPY_MODEL_9902fcb51a9046b0a5af02b07d4f6a47",
       "value": 0.5
      }
     },
     "49c59734a7ad4c4aa70177d0bc98f207": {
      "model_module": "@jupyter-widgets/controls",
      "model_module_version": "1.5.0",
      "model_name": "VBoxModel",
      "state": {
       "children": [
        "IPY_MODEL_29adf43c654845b5812a84f28144887d",
        "IPY_MODEL_54cc19d9ad374bf9b3b1b3d0e85bff3b",
        "IPY_MODEL_9cfa7f20f83944dca17b02c7a8513734",
        "IPY_MODEL_79a3ee33ff134535af2afc8e287d07ec",
        "IPY_MODEL_4662d7d7365a46d88864b90c2cc2dd31",
        "IPY_MODEL_471385de483445e39a8001545426e032",
        "IPY_MODEL_4f3bdf05656549e98119421bd4596ebb",
        "IPY_MODEL_2aeb857e66514afab2494ccb79e7af51",
        "IPY_MODEL_1446abb86b314418b1c7a234f722332c",
        "IPY_MODEL_788f95df169442158e636e49544a90c5",
        "IPY_MODEL_71e6ea6b080046369dbd2b0531d30a87"
       ],
       "layout": "IPY_MODEL_cf7a3f5117ca4e14a55292b5d6651231"
      }
     },
     "4a1d066b2f5541f7ab35cdbf8efdb8b8": {
      "model_module": "@jupyter-widgets/base",
      "model_module_version": "1.2.0",
      "model_name": "LayoutModel",
      "state": {}
     },
     "4a2f6a17a165485d81cc02df3535ed55": {
      "model_module": "@jupyter-widgets/controls",
      "model_module_version": "1.5.0",
      "model_name": "ButtonModel",
      "state": {
       "description": "Download image",
       "layout": "IPY_MODEL_5dcbf708ce0a4e3b96fd3d346aed1c20",
       "style": "IPY_MODEL_0171ed3495234813a7df6b864dcd8090",
       "tooltip": "Download current frame to your local PC"
      }
     },
     "4a73c5981d9245508369a275a6943861": {
      "model_module": "@jupyter-widgets/controls",
      "model_module_version": "1.5.0",
      "model_name": "ButtonModel",
      "state": {
       "description": "Save image",
       "layout": "IPY_MODEL_f7a2179998ce486590f92ab35a4d8417",
       "style": "IPY_MODEL_a0f98d8280fd4a32bf92332dc4a7e387",
       "tooltip": "Save current frame to file.\nCurrently .png and .html are supported.\nIt takes a bit time, please be patient."
      }
     },
     "4af617fcfa4d482aa10acc035335b6f9": {
      "model_module": "@jupyter-widgets/base",
      "model_module_version": "1.2.0",
      "model_name": "LayoutModel",
      "state": {}
     },
     "4ba9ed4797904dbb85ee60bc4672f441": {
      "model_module": "@jupyter-widgets/base",
      "model_module_version": "1.2.0",
      "model_name": "LayoutModel",
      "state": {}
     },
     "4bd1d22f0b78442cb651a6bbfdd8d6c9": {
      "model_module": "@jupyter-widgets/controls",
      "model_module_version": "1.5.0",
      "model_name": "ButtonStyleModel",
      "state": {}
     },
     "4c1956c3a63c475bbd51715c0942e818": {
      "model_module": "@jupyter-widgets/controls",
      "model_module_version": "1.5.0",
      "model_name": "SliderStyleModel",
      "state": {
       "description_width": ""
      }
     },
     "4c393c3f9c5c44ebace3d9ce637c6dea": {
      "model_module": "@jupyter-widgets/base",
      "model_module_version": "1.2.0",
      "model_name": "LayoutModel",
      "state": {}
     },
     "4caa353cf2224fcc91147ece47793d97": {
      "model_module": "@jupyter-widgets/controls",
      "model_module_version": "1.5.0",
      "model_name": "DescriptionStyleModel",
      "state": {
       "description_width": ""
      }
     },
     "4cd73e4ae27b4e71ab81aebc02c4c000": {
      "model_module": "@jupyter-widgets/controls",
      "model_module_version": "1.5.0",
      "model_name": "DescriptionStyleModel",
      "state": {
       "description_width": ""
      }
     },
     "4cf9e88e43444535a6db25570eeae4b6": {
      "model_module": "@jupyter-widgets/base",
      "model_module_version": "1.2.0",
      "model_name": "LayoutModel",
      "state": {
       "width": "34px"
      }
     },
     "4d0db5edf9e24d1abc02e95e00163de9": {
      "model_module": "@jupyter-widgets/controls",
      "model_module_version": "1.5.0",
      "model_name": "DescriptionStyleModel",
      "state": {
       "description_width": ""
      }
     },
     "4d13813b6ff74a00850c07b43ba26fa2": {
      "model_module": "@jupyter-widgets/controls",
      "model_module_version": "1.5.0",
      "model_name": "DropdownModel",
      "state": {
       "_options_labels": [
        "All",
        "O",
        "Sn"
       ],
       "description": "Show",
       "index": 0,
       "layout": "IPY_MODEL_fd8a3958704a4d2294c30437d3cc3ca5",
       "style": "IPY_MODEL_9d417f0c22a246b493367a4b3f6a1c58"
      }
     },
     "4d1ab3174b744ec8b94141d4ac169ce1": {
      "model_module": "@jupyter-widgets/controls",
      "model_module_version": "1.5.0",
      "model_name": "DescriptionStyleModel",
      "state": {
       "description_width": ""
      }
     },
     "4d34e3a713dd40e8b6d43e5988a72ae0": {
      "model_module": "@jupyter-widgets/controls",
      "model_module_version": "1.5.0",
      "model_name": "ButtonModel",
      "state": {
       "description": "Download image",
       "layout": "IPY_MODEL_12f6f40a07dc408ea95751f0fb38e0b0",
       "style": "IPY_MODEL_6ea0f05a16674242b8d591f4f2ac69ec",
       "tooltip": "Download current frame to your local PC"
      }
     },
     "4d51b2666d1c49f5a5acf57f69f4990a": {
      "model_module": "@jupyter-widgets/controls",
      "model_module_version": "1.5.0",
      "model_name": "LinkModel",
      "state": {
       "source": [
        "IPY_MODEL_8f8e08d4787f4fdeba83ad894b4a7bf2",
        "value"
       ],
       "target": [
        "IPY_MODEL_1500b9c68bb74c5586b8f4527a2b6261",
        "value"
       ]
      }
     },
     "4d6f31f22dbb4911bff1df1e341c196d": {
      "model_module": "@jupyter-widgets/controls",
      "model_module_version": "1.5.0",
      "model_name": "ButtonStyleModel",
      "state": {}
     },
     "4d95d95f16944a9bbae150f6d241aec7": {
      "model_module": "@jupyter-widgets/base",
      "model_module_version": "1.2.0",
      "model_name": "LayoutModel",
      "state": {}
     },
     "4dc0c1fa7ae04cc2bf85e97ac1bf8834": {
      "model_module": "@jupyter-widgets/controls",
      "model_module_version": "1.5.0",
      "model_name": "ButtonStyleModel",
      "state": {}
     },
     "4f2cf8abd3e14b08921cf156a787fb8f": {
      "model_module": "@jupyter-widgets/base",
      "model_module_version": "1.2.0",
      "model_name": "LayoutModel",
      "state": {}
     },
     "4f3bdf05656549e98119421bd4596ebb": {
      "model_module": "@jupyter-widgets/controls",
      "model_module_version": "1.5.0",
      "model_name": "CheckboxModel",
      "state": {
       "description": "Show force",
       "disabled": false,
       "layout": "IPY_MODEL_937b2683dec541a8a34ee35e902f0f1f",
       "style": "IPY_MODEL_27e2ce82f22e407ab2c3492d28c4ebe8",
       "value": false
      }
     },
     "4f94b81984a442c7bb76e3eae12296db": {
      "model_module": "@jupyter-widgets/base",
      "model_module_version": "1.2.0",
      "model_name": "LayoutModel",
      "state": {}
     },
     "4f989e914d084f678ebc83cb248e805a": {
      "model_module": "@jupyter-widgets/base",
      "model_module_version": "1.2.0",
      "model_name": "LayoutModel",
      "state": {}
     },
     "4fa6c5fbcb6f43d6877ac0c927406c38": {
      "model_module": "@jupyter-widgets/base",
      "model_module_version": "1.2.0",
      "model_name": "LayoutModel",
      "state": {}
     },
     "503a4a147b6b496d9ec3af5d740b3707": {
      "model_module": "@jupyter-widgets/controls",
      "model_module_version": "1.5.0",
      "model_name": "ImageModel",
      "state": {
       "layout": "IPY_MODEL_4642cae5d228426f83bf83e4b4eff509",
       "width": "900.0"
      }
     },
     "5099f59d92b44783b04bc5788a2567b6": {
      "model_module": "@jupyter-widgets/base",
      "model_module_version": "1.2.0",
      "model_name": "LayoutModel",
      "state": {}
     },
     "509bd4fc7af54c489404c7d3b55a5b05": {
      "model_module": "@jupyter-widgets/base",
      "model_module_version": "1.2.0",
      "model_name": "LayoutModel",
      "state": {}
     },
     "50be4ef49e3147ac9b3ed1c98b73ca7c": {
      "model_module": "@jupyter-widgets/base",
      "model_module_version": "1.2.0",
      "model_name": "LayoutModel",
      "state": {}
     },
     "50d60a2b546c461cb64dfeee4deb6c8e": {
      "model_module": "@jupyter-widgets/base",
      "model_module_version": "1.2.0",
      "model_name": "LayoutModel",
      "state": {}
     },
     "5158a8ffcc514f1cad3422f08c3361d6": {
      "model_module": "@jupyter-widgets/base",
      "model_module_version": "1.2.0",
      "model_name": "LayoutModel",
      "state": {}
     },
     "51dd5bb667284624a72bf40b74a4c13d": {
      "model_module": "@jupyter-widgets/controls",
      "model_module_version": "1.5.0",
      "model_name": "HBoxModel",
      "state": {
       "children": [
        "IPY_MODEL_d92eb0e13ec64895a5c32dbdc1797c80",
        "IPY_MODEL_7eebd59e66cf4a2d93ab9d4ef47daeac"
       ],
       "layout": "IPY_MODEL_b27b32018a724fc7823b4a1455668d9b"
      }
     },
     "52a66ad1bd0743dc93535dfb27afceb9": {
      "model_module": "@jupyter-widgets/controls",
      "model_module_version": "1.5.0",
      "model_name": "LinkModel",
      "state": {
       "source": [
        "IPY_MODEL_9be23abc3f52490193b8f300301a741e",
        "max"
       ],
       "target": [
        "IPY_MODEL_7cd11d49d3854670b213209e38262f2d",
        "max_frame"
       ]
      }
     },
     "53020d10c1aa468d88ac77f57341e158": {
      "model_module": "@jupyter-widgets/controls",
      "model_module_version": "1.5.0",
      "model_name": "LinkModel",
      "state": {
       "source": [
        "IPY_MODEL_d92eb0e13ec64895a5c32dbdc1797c80",
        "max"
       ],
       "target": [
        "IPY_MODEL_82df02aaaa7248198d71030e3decb0d2",
        "max_frame"
       ]
      }
     },
     "5319f12249ce416a92af78bd0fd05814": {
      "model_module": "@jupyter-widgets/controls",
      "model_module_version": "1.5.0",
      "model_name": "ButtonModel",
      "state": {
       "description": "Save image",
       "layout": "IPY_MODEL_c07734698f1e45e3aa5dfcc387646e80",
       "style": "IPY_MODEL_3edaac6086af42d1bd0e93cc0067b35f",
       "tooltip": "Save current frame to file.\nCurrently .png and .html are supported.\nIt takes a bit time, please be patient."
      }
     },
     "534107c101284c119bbcfb39d6e4d802": {
      "model_module": "@jupyter-widgets/controls",
      "model_module_version": "1.5.0",
      "model_name": "ButtonStyleModel",
      "state": {}
     },
     "5355e11de7d5484dbc7d8b32c530352c": {
      "model_module": "@jupyter-widgets/base",
      "model_module_version": "1.2.0",
      "model_name": "LayoutModel",
      "state": {}
     },
     "54cc19d9ad374bf9b3b1b3d0e85bff3b": {
      "model_module": "@jupyter-widgets/controls",
      "model_module_version": "1.5.0",
      "model_name": "DropdownModel",
      "state": {
       "_options_labels": [
        " ",
        "picking",
        "random",
        "uniform",
        "atomindex",
        "residueindex",
        "chainindex",
        "modelindex",
        "sstruc",
        "element",
        "resname",
        "bfactor",
        "hydrophobicity",
        "value",
        "volume",
        "occupancy"
       ],
       "description": "Color scheme",
       "index": 9,
       "layout": "IPY_MODEL_17db24e371bb4b7282e84ecf8e38c4e7",
       "style": "IPY_MODEL_94039c7515904093b0dfd0dc10a82d9d"
      }
     },
     "5596769de8b04c32964d67109f9f79ae": {
      "model_module": "@jupyter-widgets/base",
      "model_module_version": "1.2.0",
      "model_name": "LayoutModel",
      "state": {}
     },
     "55bc2eb638a8448a80bd6630735918fa": {
      "model_module": "@jupyter-widgets/controls",
      "model_module_version": "1.5.0",
      "model_name": "SliderStyleModel",
      "state": {
       "description_width": ""
      }
     },
     "55c25fa0a7c34f7aa82e529e042c2458": {
      "model_module": "@jupyter-widgets/controls",
      "model_module_version": "1.5.0",
      "model_name": "ButtonStyleModel",
      "state": {}
     },
     "56458bd6fe3c4e33a1df5ea05f71c574": {
      "model_module": "@jupyter-widgets/controls",
      "model_module_version": "1.5.0",
      "model_name": "LinkModel",
      "state": {
       "source": [
        "IPY_MODEL_a401b573e3b34a4d92d3b4aa8054ea0e",
        "value"
       ],
       "target": [
        "IPY_MODEL_e8994d2c9da944f3990f11008f34d848",
        "value"
       ]
      }
     },
     "566e810ad06849f29615869429b5d691": {
      "model_module": "@jupyter-widgets/base",
      "model_module_version": "1.2.0",
      "model_name": "LayoutModel",
      "state": {}
     },
     "579d6b3b09994e29a49cc400cc247d04": {
      "model_module": "@jupyter-widgets/base",
      "model_module_version": "1.2.0",
      "model_name": "LayoutModel",
      "state": {}
     },
     "58b842985dee4a62a32bcfdca24d3217": {
      "model_module": "@jupyter-widgets/base",
      "model_module_version": "1.2.0",
      "model_name": "LayoutModel",
      "state": {}
     },
     "5950fb1ee99747de95fc93ac3c2ad6d7": {
      "model_module": "@jupyter-widgets/base",
      "model_module_version": "1.2.0",
      "model_name": "LayoutModel",
      "state": {}
     },
     "59fe36189ac64ccd9105054d1386941e": {
      "model_module": "@jupyter-widgets/controls",
      "model_module_version": "1.5.0",
      "model_name": "ButtonStyleModel",
      "state": {}
     },
     "5a220eef39114cb2af46f667f41ff4e1": {
      "model_module": "@jupyter-widgets/controls",
      "model_module_version": "1.5.0",
      "model_name": "SliderStyleModel",
      "state": {
       "description_width": ""
      }
     },
     "5b0976c561f3497585f4f1240fee30af": {
      "model_module": "@jupyter-widgets/base",
      "model_module_version": "1.2.0",
      "model_name": "LayoutModel",
      "state": {}
     },
     "5b63681aaabc43feabc1ca90f66e3ca0": {
      "model_module": "@jupyter-widgets/controls",
      "model_module_version": "1.5.0",
      "model_name": "FloatSliderModel",
      "state": {
       "description": "Force scale",
       "layout": "IPY_MODEL_138579c1307b48f185d2800485fa986f",
       "step": 0.1,
       "style": "IPY_MODEL_8052a4f17bb94eadbfbc2705e2b34818",
       "value": 0.5
      }
     },
     "5c8317c8d0244f0882598a31c68d585e": {
      "model_module": "@jupyter-widgets/controls",
      "model_module_version": "1.5.0",
      "model_name": "FloatSliderModel",
      "state": {
       "description": "Charge scale",
       "layout": "IPY_MODEL_6278b32e528543f09f9531f9e95942fd",
       "step": 0.1,
       "style": "IPY_MODEL_a8521e85c5f34a4baec081cb6badaedc",
       "value": 1
      }
     },
     "5c99f0d76ca547f8a2236d0eb86a494e": {
      "model_module": "@jupyter-widgets/base",
      "model_module_version": "1.2.0",
      "model_name": "LayoutModel",
      "state": {}
     },
     "5cf2e76626584760a82dfea487670af4": {
      "model_module": "@jupyter-widgets/controls",
      "model_module_version": "1.5.0",
      "model_name": "DescriptionStyleModel",
      "state": {
       "description_width": ""
      }
     },
     "5dcbf708ce0a4e3b96fd3d346aed1c20": {
      "model_module": "@jupyter-widgets/base",
      "model_module_version": "1.2.0",
      "model_name": "LayoutModel",
      "state": {}
     },
     "5df016faf1cb4805b7cbef48d9d5f956": {
      "model_module": "@jupyter-widgets/base",
      "model_module_version": "1.2.0",
      "model_name": "LayoutModel",
      "state": {}
     },
     "5dfe8007b8a44e719dc34f29052dff23": {
      "model_module": "@jupyter-widgets/base",
      "model_module_version": "1.2.0",
      "model_name": "LayoutModel",
      "state": {}
     },
     "5e41f0189d264e538173216bef381f91": {
      "model_module": "@jupyter-widgets/output",
      "model_module_version": "1.0.0",
      "model_name": "OutputModel",
      "state": {
       "layout": "IPY_MODEL_22cae82870634c198476ad6ce077307f"
      }
     },
     "5e462cfb159b48ff81029d45ab486e01": {
      "model_module": "@jupyter-widgets/controls",
      "model_module_version": "1.5.0",
      "model_name": "FloatSliderModel",
      "state": {
       "description": "Charge scale",
       "layout": "IPY_MODEL_074b6dbfdf2e42bb80d014ba1eb11ff4",
       "step": 0.1,
       "style": "IPY_MODEL_6aea684de8c34885bac61d61e062fa34",
       "value": 1
      }
     },
     "5e8c8452e56d4ffea9ef9baa2448b26e": {
      "model_module": "@jupyter-widgets/controls",
      "model_module_version": "1.5.0",
      "model_name": "HBoxModel",
      "state": {
       "children": [
        "IPY_MODEL_8215b37720164e899a1b3a26e856b29b",
        "IPY_MODEL_fb3fcc7f6b1048ecbaa8f916fc474db9"
       ],
       "layout": "IPY_MODEL_50d60a2b546c461cb64dfeee4deb6c8e"
      }
     },
     "5eb36a320e08408f88400a92f704fa4c": {
      "model_module": "@jupyter-widgets/controls",
      "model_module_version": "1.5.0",
      "model_name": "ButtonStyleModel",
      "state": {}
     },
     "5fa3111895bd4b1d8599d5f2cd9233c7": {
      "model_module": "@jupyter-widgets/controls",
      "model_module_version": "1.5.0",
      "model_name": "DescriptionStyleModel",
      "state": {
       "description_width": ""
      }
     },
     "5fd505233b904095b368104d69e91edc": {
      "model_module": "@jupyter-widgets/output",
      "model_module_version": "1.0.0",
      "model_name": "OutputModel",
      "state": {
       "layout": "IPY_MODEL_12d4f59d552d4f66a098e8a409ee5f43"
      }
     },
     "602d7cbee62d4a058cd43ed499fb1717": {
      "model_module": "@jupyter-widgets/controls",
      "model_module_version": "1.5.0",
      "model_name": "CheckboxModel",
      "state": {
       "description": "Show charge",
       "disabled": false,
       "layout": "IPY_MODEL_fa45fe92f39c4f3db7d9740acb0cfde2",
       "style": "IPY_MODEL_d77e59d1224d4bf6b8dd709d0b51aebb",
       "value": false
      }
     },
     "60919846a5384a568eb58004a3d955d6": {
      "model_module": "@jupyter-widgets/output",
      "model_module_version": "1.0.0",
      "model_name": "OutputModel",
      "state": {
       "layout": "IPY_MODEL_3f945444c5ba4c2ba867d5234a62ba0f"
      }
     },
     "613620bd26944f72bc7d9852a7a69baa": {
      "model_module": "@jupyter-widgets/controls",
      "model_module_version": "1.5.0",
      "model_name": "CheckboxModel",
      "state": {
       "description": "Show force",
       "disabled": false,
       "layout": "IPY_MODEL_63c906ba7a3e42a981f7b9a5fbead835",
       "style": "IPY_MODEL_99d6be565e3541cdb777e220043007f1",
       "value": false
      }
     },
     "61890fe052b4438992a8864d74d0e49f": {
      "model_module": "@jupyter-widgets/controls",
      "model_module_version": "1.5.0",
      "model_name": "FloatSliderModel",
      "state": {
       "description": "Charge scale",
       "layout": "IPY_MODEL_c006835df6d54de1a3f4609c549da51c",
       "step": 0.1,
       "style": "IPY_MODEL_147c9ccbdf05409fb37f0457315e5bd7",
       "value": 1
      }
     },
     "61a83faa1b9849089498c410f28c52a6": {
      "model_module": "@jupyter-widgets/base",
      "model_module_version": "1.2.0",
      "model_name": "LayoutModel",
      "state": {}
     },
     "62070c2db544416e8062f7d1c3a110a1": {
      "model_module": "@jupyter-widgets/base",
      "model_module_version": "1.2.0",
      "model_name": "LayoutModel",
      "state": {}
     },
     "6278b32e528543f09f9531f9e95942fd": {
      "model_module": "@jupyter-widgets/base",
      "model_module_version": "1.2.0",
      "model_name": "LayoutModel",
      "state": {}
     },
     "62d851a6c16443a9bd530910ebfc32fa": {
      "model_module": "@jupyter-widgets/controls",
      "model_module_version": "1.5.0",
      "model_name": "DescriptionStyleModel",
      "state": {
       "description_width": ""
      }
     },
     "631a5973dace4a5b890498ccc955440e": {
      "model_module": "@jupyter-widgets/controls",
      "model_module_version": "1.5.0",
      "model_name": "DescriptionStyleModel",
      "state": {
       "description_width": ""
      }
     },
     "635879d9943841ef95e7cd21fc095d4d": {
      "model_module": "@jupyter-widgets/controls",
      "model_module_version": "1.5.0",
      "model_name": "HBoxModel",
      "state": {
       "children": [
        "IPY_MODEL_0af040c9342841cbb1a10445d3538932",
        "IPY_MODEL_a4692950382145f09c91c3466dbbfb52"
       ],
       "layout": "IPY_MODEL_87e00d3db9c94838a1e964cb26ec85c2"
      }
     },
     "638d06b91d3b48e082ab22aab5a538d2": {
      "model_module": "@jupyter-widgets/controls",
      "model_module_version": "1.5.0",
      "model_name": "ButtonStyleModel",
      "state": {}
     },
     "63c906ba7a3e42a981f7b9a5fbead835": {
      "model_module": "@jupyter-widgets/base",
      "model_module_version": "1.2.0",
      "model_name": "LayoutModel",
      "state": {}
     },
     "63cc7eac3e6e4235bd961c367877891f": {
      "model_module": "@jupyter-widgets/controls",
      "model_module_version": "1.5.0",
      "model_name": "DescriptionStyleModel",
      "state": {
       "description_width": ""
      }
     },
     "64a96e2f1c1d491497716e47d7e1fa55": {
      "model_module": "@jupyter-widgets/base",
      "model_module_version": "1.2.0",
      "model_name": "LayoutModel",
      "state": {}
     },
     "654deaca1563430b8b41c55223db0733": {
      "model_module": "@jupyter-widgets/base",
      "model_module_version": "1.2.0",
      "model_name": "LayoutModel",
      "state": {}
     },
     "656057a30fa04e1c949439a1bff4cfb5": {
      "model_module": "nglview-js-widgets",
      "model_module_version": "3.0.1",
      "model_name": "NGLModel",
      "state": {
       "_camera_orientation": [
        18.770477557524757,
        0,
        0,
        0,
        0,
        18.770477557524757,
        0,
        0,
        0,
        0,
        18.770477557524757,
        0,
        0,
        0,
        -2.263000011444092,
        1
       ],
       "_camera_str": "orthographic",
       "_gui_theme": null,
       "_ibtn_fullscreen": "IPY_MODEL_3ad48a15a0e04679916ff76048f0b531",
       "_igui": null,
       "_iplayer": "IPY_MODEL_5e8c8452e56d4ffea9ef9baa2448b26e",
       "_ngl_color_dict": {},
       "_ngl_coordinate_resource": {},
       "_ngl_full_stage_parameters": {
        "ambientColor": 14540253,
        "ambientIntensity": 0.2,
        "backgroundColor": "white",
        "cameraEyeSep": 0.3,
        "cameraFov": 40,
        "cameraType": "orthographic",
        "clipDist": 0,
        "clipFar": 100,
        "clipNear": 0,
        "fogFar": 100,
        "fogNear": 50,
        "hoverTimeout": 0,
        "impostor": true,
        "lightColor": 14540253,
        "lightIntensity": 1,
        "mousePreset": "default",
        "panSpeed": 1,
        "quality": "medium",
        "rotateSpeed": 2,
        "sampleLevel": 0,
        "tooltip": true,
        "workerDefault": true,
        "zoomSpeed": 1.2
       },
       "_ngl_msg_archive": [
        {
         "args": [
          {
           "binary": false,
           "data": "MODEL     1\nATOM      1   Pt MOL     1      -3.809  -1.849   2.263  1.00  0.00          PT  \nATOM      2   Pt MOL     1      -1.849  -3.809   2.263  1.00  0.00          PT  \nATOM      3   Pt MOL     1      -3.395  -3.395  -0.000  1.00  0.00          PT  \nATOM      4   Pt MOL     1      -2.263  -2.263   4.526  1.00  0.00          PT  \nATOM      5   Pt MOL     1      -1.546   0.414   4.526  1.00  0.00          PT  \nATOM      6   Pt MOL     1       0.414  -1.546   4.526  1.00  0.00          PT  \nATOM      7   Pt MOL     1      -1.132  -1.132   2.263  1.00  0.00          PT  \nATOM      8   Pt MOL     1       1.132   1.132   4.526  1.00  0.00          PT  \nATOM      9   Pt MOL     1      -5.355  -1.435  -0.000  1.00  0.00          PT  \nATOM     10   Pt MOL     1      -4.637   1.243  -0.000  1.00  0.00          PT  \nATOM     11   Pt MOL     1      -2.677  -0.717  -0.000  1.00  0.00          PT  \nATOM     12   Pt MOL     1      -3.092   0.828   2.263  1.00  0.00          PT  \nATOM     13   Pt MOL     1      -2.374   3.506   2.263  1.00  0.00          PT  \nATOM     14   Pt MOL     1      -0.414   1.546   2.263  1.00  0.00          PT  \nATOM     15   Pt MOL     1      -1.960   1.960  -0.000  1.00  0.00          PT  \nATOM     16   Pt MOL     1      -0.828   3.092   4.526  1.00  0.00          PT  \nATOM     17   Pt MOL     1       0.303   4.223   2.263  1.00  0.00          PT  \nATOM     18   Pt MOL     1      -3.920   3.920  -0.000  1.00  0.00          PT  \nATOM     19   Pt MOL     1      -1.243   4.637  -0.000  1.00  0.00          PT  \nATOM     20   Pt MOL     1      -1.435  -5.355  -0.000  1.00  0.00          PT  \nATOM     21   Pt MOL     1      -0.717  -2.677  -0.000  1.00  0.00          PT  \nATOM     22   Pt MOL     1       1.243  -4.637  -0.000  1.00  0.00          PT  \nATOM     23   Pt MOL     1       0.828  -3.092   2.263  1.00  0.00          PT  \nATOM     24   Pt MOL     1       1.546  -0.414   2.263  1.00  0.00          PT  \nATOM     25   Pt MOL     1       3.506  -2.374   2.263  1.00  0.00          PT  \nATOM     26   Pt MOL     1       1.960  -1.960  -0.000  1.00  0.00          PT  \nATOM     27   Pt MOL     1       3.092  -0.828   4.526  1.00  0.00          PT  \nATOM     28   Pt MOL     1       4.223   0.303   2.263  1.00  0.00          PT  \nATOM     29   Pt MOL     1      -0.000  -0.000  -0.000  1.00  0.00          PT  \nATOM     30   Pt MOL     1       0.717   2.677  -0.000  1.00  0.00          PT  \nATOM     31   Pt MOL     1       2.677   0.717  -0.000  1.00  0.00          PT  \nATOM     32   Pt MOL     1       2.263   2.263   2.263  1.00  0.00          PT  \nATOM     33   Pt MOL     1       3.395   3.395  -0.000  1.00  0.00          PT  \nATOM     34   Pt MOL     1       1.435   5.355  -0.000  1.00  0.00          PT  \nATOM     35   Pt MOL     1       3.920  -3.920  -0.000  1.00  0.00          PT  \nATOM     36   Pt MOL     1       4.637  -1.243  -0.000  1.00  0.00          PT  \nATOM     37   Pt MOL     1       5.355   1.435  -0.000  1.00  0.00          PT  \nENDMDL\n",
           "type": "blob"
          }
         ],
         "kwargs": {
          "defaultRepresentation": false,
          "ext": "pdb"
         },
         "methodName": "loadFile",
         "reconstruc_color_scheme": false,
         "target": "Stage",
         "type": "call_method"
        },
        {
         "args": [
          "500px",
          "500px"
         ],
         "kwargs": {},
         "methodName": "setSize",
         "reconstruc_color_scheme": false,
         "target": "Widget",
         "type": "call_method"
        },
        {
         "args": [
          "unitcell"
         ],
         "component_index": 0,
         "kwargs": {
          "sele": "all"
         },
         "methodName": "addRepresentation",
         "reconstruc_color_scheme": false,
         "target": "compList",
         "type": "call_method"
        },
        {
         "args": [
          "spacefill"
         ],
         "component_index": 0,
         "kwargs": {
          "sele": "all"
         },
         "methodName": "addRepresentation",
         "reconstruc_color_scheme": false,
         "target": "compList",
         "type": "call_method"
        },
        {
         "args": [],
         "kwargs": {
          "cameraType": "orthographic"
         },
         "methodName": "setParameters",
         "reconstruc_color_scheme": false,
         "target": "Stage",
         "type": "call_method"
        },
        {
         "args": [
          {
           "clipDist": 0
          }
         ],
         "kwargs": {},
         "methodName": "setParameters",
         "reconstruc_color_scheme": false,
         "target": "Widget",
         "type": "call_method"
        },
        {
         "args": [
          "spacefill",
          0
         ],
         "kwargs": {
          "colorScale": "rainbow",
          "colorScheme": "element",
          "radiusScale": 0.5,
          "radiusType": "covalent"
         },
         "methodName": "updateRepresentationsByName",
         "reconstruc_color_scheme": false,
         "target": "Widget",
         "type": "call_method"
        },
        {
         "args": [
          "this._Q = [[1.0, 0.0, 0.0], [0.0, 1.0, 0.0], [0.0, 0.0, 1.0]]\n    var tooltip = document.createElement('div')\n    Object.assign(tooltip.style, {\n      display: 'none',\n      position: 'fixed',\n      zIndex: 10,\n      pointerEvents: 'none',\n      backgroundColor: 'rgba( 0, 0, 0, 0.6 )',\n      color: 'lightgrey',\n      padding: '8px',\n      fontFamily: 'sans-serif'\n    })\n    document.body.appendChild(tooltip)\n\n    var that = this\n    this.stage.mouseControls.remove('hoverPick')\n    this.stage.signals.hovered.add(function (pickingProxy) {\n      if (pickingProxy && (pickingProxy.atom || pickingProxy.bond)) {\n        var atom = pickingProxy.atom || pickingProxy.closestBondAtom\n        var mp = pickingProxy.mouse.position\n        //tooltip.innerText = atom.element + ' i=' + atom.index + ' (' + atom.x.toFixed(2) +  ', ' + atom.y.toFixed(2) +  ', ' + atom.z.toFixed(2) + ')'\n        //var pos = that._atoms_pos[atom.index]\n        var Q = that._Q\n        var pos_x = Q[0][0] * atom.x + Q[0][1] * atom.y + Q[0][2] * atom.z \n        var pos_y = Q[1][0] * atom.x + Q[1][1] * atom.y + Q[1][2] * atom.z\n        var pos_z = Q[2][0] * atom.x + Q[2][1] * atom.y + Q[2][2] * atom.z\n        tooltip.innerText = 'i=' + atom.index + ' ' + atom.element + ' (' + pos_x.toFixed(2) +  ', ' + pos_y.toFixed(2) +  ', ' + pos_z.toFixed(2) + ')'\n        tooltip.style.bottom = window.innerHeight - mp.y + 3 + 'px'\n        tooltip.style.left = mp.x + 3 + 'px'\n        tooltip.style.display = 'block'\n      } else {\n        tooltip.style.display = 'none'\n      }\n    })\n    "
         ],
         "kwargs": {},
         "methodName": "executeCode",
         "reconstruc_color_scheme": false,
         "target": "Widget",
         "type": "call_method"
        },
        {
         "args": [
          "ball+stick"
         ],
         "component_index": 0,
         "kwargs": {
          "sele": "all"
         },
         "methodName": "addRepresentation",
         "reconstruc_color_scheme": false,
         "target": "compList",
         "type": "call_method"
        }
       ],
       "_ngl_original_stage_parameters": {
        "ambientColor": 14540253,
        "ambientIntensity": 0.2,
        "backgroundColor": "white",
        "cameraEyeSep": 0.3,
        "cameraFov": 40,
        "cameraType": "perspective",
        "clipDist": 10,
        "clipFar": 100,
        "clipNear": 0,
        "fogFar": 100,
        "fogNear": 50,
        "hoverTimeout": 0,
        "impostor": true,
        "lightColor": 14540253,
        "lightIntensity": 1,
        "mousePreset": "default",
        "panSpeed": 1,
        "quality": "medium",
        "rotateSpeed": 2,
        "sampleLevel": 0,
        "tooltip": true,
        "workerDefault": true,
        "zoomSpeed": 1.2
       },
       "_ngl_repr_dict": {
        "0": {
         "0": {
          "params": {
           "clipCenter": {
            "x": 0,
            "y": 0,
            "z": 0
           },
           "clipNear": 0,
           "clipRadius": 0,
           "colorMode": "hcl",
           "colorReverse": false,
           "colorScale": "",
           "colorScheme": "element",
           "colorValue": "orange",
           "defaultAssembly": "",
           "depthWrite": true,
           "diffuse": 16777215,
           "diffuseInterior": false,
           "disableImpostor": false,
           "disablePicking": false,
           "flatShaded": false,
           "interiorColor": 2236962,
           "interiorDarkening": 0,
           "lazy": false,
           "matrix": {
            "elements": [
             1,
             0,
             0,
             0,
             0,
             1,
             0,
             0,
             0,
             0,
             1,
             0,
             0,
             0,
             0,
             1
            ]
           },
           "metalness": 0,
           "opacity": 1,
           "quality": "medium",
           "radialSegments": 10,
           "radiusData": {},
           "radiusScale": 1,
           "radiusSize": 0.5,
           "radiusType": "vdw",
           "roughness": 0.4,
           "sele": "all",
           "side": "double",
           "sphereDetail": 1,
           "useInteriorColor": true,
           "visible": true,
           "wireframe": false
          },
          "type": "unitcell"
         },
         "1": {
          "params": {
           "assembly": "default",
           "clipCenter": {
            "x": 0,
            "y": 0,
            "z": 0
           },
           "clipNear": 0,
           "clipRadius": 0,
           "colorMode": "hcl",
           "colorReverse": false,
           "colorScale": "rainbow",
           "colorScheme": "element",
           "colorValue": 9474192,
           "defaultAssembly": "",
           "depthWrite": true,
           "diffuse": 16777215,
           "diffuseInterior": false,
           "disableImpostor": false,
           "disablePicking": false,
           "flatShaded": false,
           "interiorColor": 2236962,
           "interiorDarkening": 0,
           "lazy": false,
           "matrix": {
            "elements": [
             1,
             0,
             0,
             0,
             0,
             1,
             0,
             0,
             0,
             0,
             1,
             0,
             0,
             0,
             0,
             1
            ]
           },
           "metalness": 0,
           "opacity": 1,
           "quality": "medium",
           "radiusData": {},
           "radiusScale": 0.5,
           "radiusSize": 1,
           "radiusType": "covalent",
           "roughness": 0.4,
           "sele": "all",
           "side": "double",
           "sphereDetail": 1,
           "useInteriorColor": true,
           "visible": true,
           "wireframe": false
          },
          "type": "spacefill"
         },
         "2": {
          "params": {
           "aspectRatio": 2,
           "assembly": "default",
           "bondScale": 0.4,
           "bondSpacing": 1,
           "clipCenter": {
            "x": 0,
            "y": 0,
            "z": 0
           },
           "clipNear": 0,
           "clipRadius": 0,
           "colorMode": "hcl",
           "colorReverse": false,
           "colorScale": "",
           "colorScheme": "element",
           "colorValue": 9474192,
           "cylinderOnly": false,
           "defaultAssembly": "",
           "depthWrite": true,
           "diffuse": 16777215,
           "diffuseInterior": false,
           "disableImpostor": false,
           "disablePicking": false,
           "flatShaded": false,
           "interiorColor": 2236962,
           "interiorDarkening": 0,
           "lazy": false,
           "lineOnly": false,
           "linewidth": 2,
           "matrix": {
            "elements": [
             1,
             0,
             0,
             0,
             0,
             1,
             0,
             0,
             0,
             0,
             1,
             0,
             0,
             0,
             0,
             1
            ]
           },
           "metalness": 0,
           "multipleBond": "off",
           "opacity": 1,
           "openEnded": true,
           "quality": "medium",
           "radialSegments": 10,
           "radiusData": {},
           "radiusScale": 1,
           "radiusSize": 0.15,
           "radiusType": "size",
           "roughness": 0.4,
           "sele": "all",
           "side": "double",
           "sphereDetail": 1,
           "useInteriorColor": true,
           "visible": true,
           "wireframe": false
          },
          "type": "ball+stick"
         }
        }
       },
       "_ngl_serialize": false,
       "_ngl_version": "2.0.0-dev.36",
       "_ngl_view_id": [
        "C1119827-39C3-45A7-AD30-DC8568737A46"
       ],
       "_player_dict": {},
       "_scene_position": {},
       "_scene_rotation": {},
       "_synced_model_ids": [],
       "_synced_repr_model_ids": [],
       "_view_height": "",
       "_view_width": "",
       "background": "white",
       "frame": 0,
       "gui_style": null,
       "layout": "IPY_MODEL_395beeeaaa184c55901707124f6017f7",
       "max_frame": 0,
       "n_components": 1,
       "picked": {}
      }
     },
     "65cccf7f8c5b449c9c254353443fd40a": {
      "model_module": "@jupyter-widgets/base",
      "model_module_version": "1.2.0",
      "model_name": "LayoutModel",
      "state": {}
     },
     "6692020078d14c3a89978a4ca5982ffc": {
      "model_module": "@jupyter-widgets/controls",
      "model_module_version": "1.5.0",
      "model_name": "DescriptionStyleModel",
      "state": {
       "description_width": ""
      }
     },
     "669cf36ccb5845c7971504cad8981005": {
      "model_module": "@jupyter-widgets/base",
      "model_module_version": "1.2.0",
      "model_name": "LayoutModel",
      "state": {}
     },
     "66b85c99b5044989a1aff87e7946ed20": {
      "model_module": "@jupyter-widgets/base",
      "model_module_version": "1.2.0",
      "model_name": "LayoutModel",
      "state": {}
     },
     "66fcc96f45ae45bd9fdb0e8a6f7ed9d8": {
      "model_module": "@jupyter-widgets/controls",
      "model_module_version": "1.5.0",
      "model_name": "FloatSliderModel",
      "state": {
       "description": "Force scale",
       "layout": "IPY_MODEL_470fa34f8c2346888d49cb1f3d02adbf",
       "step": 0.1,
       "style": "IPY_MODEL_d4b6b84ee96943c08a9e4360eeb90fd3",
       "value": 0.5
      }
     },
     "67055bd312d7417381752502f95fd388": {
      "model_module": "@jupyter-widgets/base",
      "model_module_version": "1.2.0",
      "model_name": "LayoutModel",
      "state": {}
     },
     "6716bb33d2a041798a7fdf6f05caed29": {
      "model_module": "@jupyter-widgets/controls",
      "model_module_version": "1.5.0",
      "model_name": "SliderStyleModel",
      "state": {
       "description_width": ""
      }
     },
     "6785a7921c784b92b48e12b6c9d808e9": {
      "model_module": "@jupyter-widgets/controls",
      "model_module_version": "1.5.0",
      "model_name": "LinkModel",
      "state": {
       "source": [
        "IPY_MODEL_d92eb0e13ec64895a5c32dbdc1797c80",
        "value"
       ],
       "target": [
        "IPY_MODEL_7eebd59e66cf4a2d93ab9d4ef47daeac",
        "value"
       ]
      }
     },
     "67afab4028b64ce2918f2e4a5e552dd6": {
      "model_module": "@jupyter-widgets/controls",
      "model_module_version": "1.5.0",
      "model_name": "LinkModel",
      "state": {
       "source": [
        "IPY_MODEL_f0a8c4da6a31400b89ec3b473068a06e",
        "max"
       ],
       "target": [
        "IPY_MODEL_28f16f8e5a1444e2b701df0cc09969d3",
        "max_frame"
       ]
      }
     },
     "68af8277f19f47049376ee25a8e20d08": {
      "model_module": "@jupyter-widgets/controls",
      "model_module_version": "1.5.0",
      "model_name": "FloatSliderModel",
      "state": {
       "description": "Charge scale",
       "layout": "IPY_MODEL_8b5ebed85a934ce0a6af2d7d4160eccf",
       "step": 0.1,
       "style": "IPY_MODEL_d5fc5b02c23c4c5d98c4798fd90a9afb",
       "value": 1
      }
     },
     "694e3c7cf2b54c9cad1666626043fd20": {
      "model_module": "@jupyter-widgets/base",
      "model_module_version": "1.2.0",
      "model_name": "LayoutModel",
      "state": {}
     },
     "6a55f02b9fa9412b9e0f6464acd01cb1": {
      "model_module": "@jupyter-widgets/base",
      "model_module_version": "1.2.0",
      "model_name": "LayoutModel",
      "state": {}
     },
     "6a995d305dbd448b82442b0879d89044": {
      "model_module": "@jupyter-widgets/base",
      "model_module_version": "1.2.0",
      "model_name": "LayoutModel",
      "state": {}
     },
     "6aea684de8c34885bac61d61e062fa34": {
      "model_module": "@jupyter-widgets/controls",
      "model_module_version": "1.5.0",
      "model_name": "SliderStyleModel",
      "state": {
       "description_width": ""
      }
     },
     "6b7825516068412988fe767a0ec3e433": {
      "model_module": "@jupyter-widgets/controls",
      "model_module_version": "1.5.0",
      "model_name": "HBoxModel",
      "state": {
       "children": [
        "IPY_MODEL_82df02aaaa7248198d71030e3decb0d2",
        "IPY_MODEL_d6e1e883801a42c58ca170ecace3a949"
       ],
       "layout": "IPY_MODEL_d1cf974f04ec4b90867d233913b9d0cc"
      }
     },
     "6c6d5226a9504079beef79055bb72bc9": {
      "model_module": "@jupyter-widgets/base",
      "model_module_version": "1.2.0",
      "model_name": "LayoutModel",
      "state": {}
     },
     "6cf0525d84634f8f82343bfabe510908": {
      "model_module": "@jupyter-widgets/controls",
      "model_module_version": "1.5.0",
      "model_name": "FloatSliderModel",
      "state": {
       "description": "Ball size",
       "layout": "IPY_MODEL_918739ddc41e497bad1dbc8f67a0636f",
       "max": 1.5,
       "step": 0.01,
       "style": "IPY_MODEL_1deb50335cc14daa85d54c62a7ab22ea",
       "value": 0.5
      }
     },
     "6cfa09289bee40d3a4f1e28c214111e6": {
      "model_module": "@jupyter-widgets/controls",
      "model_module_version": "1.5.0",
      "model_name": "SliderStyleModel",
      "state": {
       "description_width": ""
      }
     },
     "6d3d32eeac664d8fa03abe12d0d6d10b": {
      "model_module": "@jupyter-widgets/base",
      "model_module_version": "1.2.0",
      "model_name": "LayoutModel",
      "state": {}
     },
     "6d7705379feb4d77b1d9ce4e600e0bf1": {
      "model_module": "@jupyter-widgets/controls",
      "model_module_version": "1.5.0",
      "model_name": "ImageModel",
      "state": {
       "layout": "IPY_MODEL_a7412809bfdf426693fa93a339342e12",
       "width": "900.0"
      }
     },
     "6d8c99825b844c34b61fd123e2e65e5d": {
      "model_module": "@jupyter-widgets/controls",
      "model_module_version": "1.5.0",
      "model_name": "HBoxModel",
      "state": {
       "children": [
        "IPY_MODEL_b5b4363a64e64cc8b6ce0a1f89127ae1",
        "IPY_MODEL_cd4d4709c4694e0bb121aef0155580b9"
       ],
       "layout": "IPY_MODEL_66b85c99b5044989a1aff87e7946ed20"
      }
     },
     "6ea0f05a16674242b8d591f4f2ac69ec": {
      "model_module": "@jupyter-widgets/controls",
      "model_module_version": "1.5.0",
      "model_name": "ButtonStyleModel",
      "state": {}
     },
     "6ee3aeae2a5b44de864928532c0277a7": {
      "model_module": "@jupyter-widgets/controls",
      "model_module_version": "1.5.0",
      "model_name": "PlayModel",
      "state": {
       "layout": "IPY_MODEL_2fdbce9059b24aa2aa2da5f21eed5311",
       "max": 0,
       "style": "IPY_MODEL_63cc7eac3e6e4235bd961c367877891f"
      }
     },
     "7007a5bfaefa44dabdabc0f79eb910f6": {
      "model_module": "@jupyter-widgets/controls",
      "model_module_version": "1.5.0",
      "model_name": "CheckboxModel",
      "state": {
       "description": "Show force",
       "disabled": false,
       "layout": "IPY_MODEL_50be4ef49e3147ac9b3ed1c98b73ca7c",
       "style": "IPY_MODEL_c6a27bf55ca2465d9af1796d67561765",
       "value": false
      }
     },
     "70165f18e4b948ffb69b2feabfd9779f": {
      "model_module": "@jupyter-widgets/base",
      "model_module_version": "1.2.0",
      "model_name": "LayoutModel",
      "state": {}
     },
     "70289decc16d4534bbe056aa0b08ef47": {
      "model_module": "@jupyter-widgets/base",
      "model_module_version": "1.2.0",
      "model_name": "LayoutModel",
      "state": {}
     },
     "71e6ea6b080046369dbd2b0531d30a87": {
      "model_module": "@jupyter-widgets/output",
      "model_module_version": "1.0.0",
      "model_name": "OutputModel",
      "state": {
       "layout": "IPY_MODEL_f2a60dd970fc43099a81b91d67057a44"
      }
     },
     "72396420cf2c46068b3585dc3e190e9b": {
      "model_module": "@jupyter-widgets/controls",
      "model_module_version": "1.5.0",
      "model_name": "LinkModel",
      "state": {
       "source": [
        "IPY_MODEL_a401b573e3b34a4d92d3b4aa8054ea0e",
        "max"
       ],
       "target": [
        "IPY_MODEL_9d00314c4ab84727aed7c69e1682d52f",
        "max_frame"
       ]
      }
     },
     "7252ef7475e54fde87a0d1f98d9f9dab": {
      "model_module": "@jupyter-widgets/base",
      "model_module_version": "1.2.0",
      "model_name": "LayoutModel",
      "state": {}
     },
     "732bd29236424a2cbd66683075b62acb": {
      "model_module": "@jupyter-widgets/base",
      "model_module_version": "1.2.0",
      "model_name": "LayoutModel",
      "state": {}
     },
     "7366aa936fbe4b4ca38c13aad1e06ece": {
      "model_module": "@jupyter-widgets/controls",
      "model_module_version": "1.5.0",
      "model_name": "DropdownModel",
      "state": {
       "_options_labels": [
        " ",
        "picking",
        "random",
        "uniform",
        "atomindex",
        "residueindex",
        "chainindex",
        "modelindex",
        "sstruc",
        "element",
        "resname",
        "bfactor",
        "hydrophobicity",
        "value",
        "volume",
        "occupancy"
       ],
       "description": "Color scheme",
       "index": 9,
       "layout": "IPY_MODEL_3ca7904451ae45cca56fb430ddfa9cb2",
       "style": "IPY_MODEL_4cd73e4ae27b4e71ab81aebc02c4c000"
      }
     },
     "749ec0b6252f4fc89d97c487c657a32a": {
      "model_module": "@jupyter-widgets/controls",
      "model_module_version": "1.5.0",
      "model_name": "DescriptionStyleModel",
      "state": {
       "description_width": ""
      }
     },
     "74ca7618b91d400cae31545d6edb9c44": {
      "model_module": "@jupyter-widgets/controls",
      "model_module_version": "1.5.0",
      "model_name": "HBoxModel",
      "state": {
       "children": [
        "IPY_MODEL_6ee3aeae2a5b44de864928532c0277a7",
        "IPY_MODEL_eef75624fd364555b25f61885be6b10a"
       ],
       "layout": "IPY_MODEL_cf2da2cc78bd4304888a50d376129061"
      }
     },
     "754a7ed583f94c2089e30e2b62960119": {
      "model_module": "@jupyter-widgets/controls",
      "model_module_version": "1.5.0",
      "model_name": "SliderStyleModel",
      "state": {
       "description_width": ""
      }
     },
     "76271e2d0afa4fa999da777d1fb06350": {
      "model_module": "@jupyter-widgets/base",
      "model_module_version": "1.2.0",
      "model_name": "LayoutModel",
      "state": {}
     },
     "767816afeb904ffc82dc8df6b271f45a": {
      "model_module": "@jupyter-widgets/controls",
      "model_module_version": "1.5.0",
      "model_name": "DescriptionStyleModel",
      "state": {
       "description_width": ""
      }
     },
     "76a1e4b6be7043e29266bbc12d1c6d5e": {
      "model_module": "@jupyter-widgets/controls",
      "model_module_version": "1.5.0",
      "model_name": "FloatSliderModel",
      "state": {
       "description": "Force scale",
       "layout": "IPY_MODEL_ebaa7325e3eb4cd9bfd3072aaad17cad",
       "step": 0.1,
       "style": "IPY_MODEL_35a4d5772b594fb9ac4775c9584d4aa4",
       "value": 0.5
      }
     },
     "784620bbfb894f5e8cfa9089c7766569": {
      "model_module": "@jupyter-widgets/controls",
      "model_module_version": "1.5.0",
      "model_name": "FloatSliderModel",
      "state": {
       "description": "Ball size",
       "layout": "IPY_MODEL_6c6d5226a9504079beef79055bb72bc9",
       "max": 1.5,
       "step": 0.01,
       "style": "IPY_MODEL_da9c19b772bd48088ca31baad8ec08ea",
       "value": 0.5
      }
     },
     "786063abf9114205b8bc9a5cb11c0efd": {
      "model_module": "@jupyter-widgets/controls",
      "model_module_version": "1.5.0",
      "model_name": "DescriptionStyleModel",
      "state": {
       "description_width": ""
      }
     },
     "788f95df169442158e636e49544a90c5": {
      "model_module": "@jupyter-widgets/controls",
      "model_module_version": "1.5.0",
      "model_name": "FloatSliderModel",
      "state": {
       "description": "Charge scale",
       "layout": "IPY_MODEL_135ff7924a0c4c689a40d99808acfb62",
       "step": 0.1,
       "style": "IPY_MODEL_a2dff0ffb8c6491ab4f81619245c9ee2",
       "value": 1
      }
     },
     "78d8076bf6854742a86e0015c0ca050f": {
      "model_module": "@jupyter-widgets/controls",
      "model_module_version": "1.5.0",
      "model_name": "DropdownModel",
      "state": {
       "_options_labels": [
        " ",
        "picking",
        "random",
        "uniform",
        "atomindex",
        "residueindex",
        "chainindex",
        "modelindex",
        "sstruc",
        "element",
        "resname",
        "bfactor",
        "hydrophobicity",
        "value",
        "volume",
        "occupancy"
       ],
       "description": "Color scheme",
       "index": 9,
       "layout": "IPY_MODEL_45a4b1bf822547eea2c2a218bdd38610",
       "style": "IPY_MODEL_90d92ea54b574cfaa8897da62aaa555b"
      }
     },
     "79596c5bc262460c807c499bf3594cf6": {
      "model_module": "@jupyter-widgets/base",
      "model_module_version": "1.2.0",
      "model_name": "LayoutModel",
      "state": {
       "width": "34px"
      }
     },
     "795e945d233048a4a22912d23afd93fa": {
      "model_module": "@jupyter-widgets/controls",
      "model_module_version": "1.5.0",
      "model_name": "SliderStyleModel",
      "state": {
       "description_width": ""
      }
     },
     "796c8bf8c6f14017bf870fa0f64ba8c1": {
      "model_module": "@jupyter-widgets/base",
      "model_module_version": "1.2.0",
      "model_name": "LayoutModel",
      "state": {}
     },
     "799ef51a23444908b717173e3bb210a8": {
      "model_module": "@jupyter-widgets/base",
      "model_module_version": "1.2.0",
      "model_name": "LayoutModel",
      "state": {}
     },
     "79a3ee33ff134535af2afc8e287d07ec": {
      "model_module": "@jupyter-widgets/controls",
      "model_module_version": "1.5.0",
      "model_name": "IntSliderModel",
      "state": {
       "layout": "IPY_MODEL_db5d914bbb3d4382a73cb0b7222d8481",
       "max": 1,
       "style": "IPY_MODEL_c5b0aabf0244458ebb8bf9df1dc80da8"
      }
     },
     "7a97951cadf645be9cbb6df486b7c9af": {
      "model_module": "@jupyter-widgets/controls",
      "model_module_version": "1.5.0",
      "model_name": "ImageModel",
      "state": {
       "layout": "IPY_MODEL_b261ced3e9aa4a029e81ca089a57f6e1",
       "width": "900.0"
      }
     },
     "7be398478347491aa67c826562e5a6d9": {
      "model_module": "@jupyter-widgets/controls",
      "model_module_version": "1.5.0",
      "model_name": "PlayModel",
      "state": {
       "layout": "IPY_MODEL_3032f16012574088b4410e882b8b6c4c",
       "max": 0,
       "style": "IPY_MODEL_749ec0b6252f4fc89d97c487c657a32a"
      }
     },
     "7c8054a3439c4230add3556c2b290eaf": {
      "model_module": "@jupyter-widgets/base",
      "model_module_version": "1.2.0",
      "model_name": "LayoutModel",
      "state": {}
     },
     "7c9a0856c8c24b9e822fe9f66fd1d78c": {
      "model_module": "@jupyter-widgets/controls",
      "model_module_version": "1.5.0",
      "model_name": "SliderStyleModel",
      "state": {
       "description_width": ""
      }
     },
     "7cd11d49d3854670b213209e38262f2d": {
      "model_module": "nglview-js-widgets",
      "model_module_version": "3.0.1",
      "model_name": "NGLModel",
      "state": {
       "_camera_orientation": [
        43.228424188868175,
        0,
        0,
        0,
        0,
        43.228424188868175,
        0,
        0,
        0,
        0,
        43.228424188868175,
        0,
        -12.161999702453613,
        -13.006999969482422,
        -6.303500175476074,
        1
       ],
       "_camera_str": "orthographic",
       "_gui_theme": null,
       "_ibtn_fullscreen": "IPY_MODEL_93c3eb6fd7a44600be9eae9031947fea",
       "_igui": null,
       "_iplayer": "IPY_MODEL_1fdd4835d05f469e97d70f53261caa18",
       "_ngl_color_dict": {},
       "_ngl_coordinate_resource": {},
       "_ngl_full_stage_parameters": {
        "ambientColor": 14540253,
        "ambientIntensity": 0.2,
        "backgroundColor": "white",
        "cameraEyeSep": 0.3,
        "cameraFov": 40,
        "cameraType": "orthographic",
        "clipDist": 0,
        "clipFar": 100,
        "clipNear": 0,
        "fogFar": 100,
        "fogNear": 50,
        "hoverTimeout": 0,
        "impostor": true,
        "lightColor": 14540253,
        "lightIntensity": 1,
        "mousePreset": "default",
        "panSpeed": 1,
        "quality": "medium",
        "rotateSpeed": 2,
        "sampleLevel": 0,
        "tooltip": true,
        "workerDefault": true,
        "zoomSpeed": 1.2
       },
       "_ngl_msg_archive": [
        {
         "args": [
          {
           "binary": false,
           "data": "CRYST1   25.946   27.336   27.336  90.00  90.00  90.00 P 1\nMODEL     1\nATOM      1   Sn MOL     1       1.622   3.417   4.739  1.00  0.00          SN  \nATOM      2   Sn MOL     1       1.622   0.000   1.322  1.00  0.00          SN  \nATOM      3   Sn MOL     1       0.000   3.417   1.322  1.00  0.00          SN  \nATOM      4   Sn MOL     1       0.000   0.000   4.739  1.00  0.00          SN  \nATOM      5    O MOL     1       1.622   1.322   4.739  1.00  0.00           O  \nATOM      6    O MOL     1       1.622   4.739   1.322  1.00  0.00           O  \nATOM      7    O MOL     1       1.622   5.512   4.739  1.00  0.00           O  \nATOM      8    O MOL     1       1.622   2.095   1.322  1.00  0.00           O  \nATOM      9    O MOL     1       0.000   3.417   6.061  1.00  0.00           O  \nATOM     10    O MOL     1       0.000   0.000   2.644  1.00  0.00           O  \nATOM     11    O MOL     1       0.000   3.417   3.417  1.00  0.00           O  \nATOM     12    O MOL     1       0.000   0.000   0.000  1.00  0.00           O  \nATOM     13   Sn MOL     1       1.622  10.251   4.739  1.00  0.00          SN  \nATOM     14   Sn MOL     1       1.622   6.834   1.322  1.00  0.00          SN  \nATOM     15   Sn MOL     1       0.000  10.251   1.322  1.00  0.00          SN  \nATOM     16   Sn MOL     1       0.000   6.834   4.739  1.00  0.00          SN  \nATOM     17    O MOL     1       1.622   8.156   4.739  1.00  0.00           O  \nATOM     18    O MOL     1       1.622  11.573   1.322  1.00  0.00           O  \nATOM     19    O MOL     1       1.622  12.346   4.739  1.00  0.00           O  \nATOM     20    O MOL     1       1.622   8.929   1.322  1.00  0.00           O  \nATOM     21    O MOL     1       0.000  10.251   6.061  1.00  0.00           O  \nATOM     22    O MOL     1       0.000   6.834   2.644  1.00  0.00           O  \nATOM     23    O MOL     1       0.000  10.251   3.417  1.00  0.00           O  \nATOM     24    O MOL     1       0.000   6.834   0.000  1.00  0.00           O  \nATOM     25   Sn MOL     1       4.865   3.417   4.739  1.00  0.00          SN  \nATOM     26   Sn MOL     1       4.865   0.000   1.322  1.00  0.00          SN  \nATOM     27   Sn MOL     1       3.243   3.417   1.322  1.00  0.00          SN  \nATOM     28   Sn MOL     1       3.243   0.000   4.739  1.00  0.00          SN  \nATOM     29    O MOL     1       4.865   1.322   4.739  1.00  0.00           O  \nATOM     30    O MOL     1       4.865   4.739   1.322  1.00  0.00           O  \nATOM     31    O MOL     1       4.865   5.512   4.739  1.00  0.00           O  \nATOM     32    O MOL     1       4.865   2.095   1.322  1.00  0.00           O  \nATOM     33    O MOL     1       3.243   3.417   6.061  1.00  0.00           O  \nATOM     34    O MOL     1       3.243   0.000   2.644  1.00  0.00           O  \nATOM     35    O MOL     1       3.243   3.417   3.417  1.00  0.00           O  \nATOM     36    O MOL     1       3.243   0.000   0.000  1.00  0.00           O  \nATOM     37   Sn MOL     1       4.865  10.251   4.739  1.00  0.00          SN  \nATOM     38   Sn MOL     1       4.865   6.834   1.322  1.00  0.00          SN  \nATOM     39   Sn MOL     1       3.243  10.251   1.322  1.00  0.00          SN  \nATOM     40   Sn MOL     1       3.243   6.834   4.739  1.00  0.00          SN  \nATOM     41    O MOL     1       4.865   8.156   4.739  1.00  0.00           O  \nATOM     42    O MOL     1       4.865  11.573   1.322  1.00  0.00           O  \nATOM     43    O MOL     1       4.865  12.346   4.739  1.00  0.00           O  \nATOM     44    O MOL     1       4.865   8.929   1.322  1.00  0.00           O  \nATOM     45    O MOL     1       3.243  10.251   6.061  1.00  0.00           O  \nATOM     46    O MOL     1       3.243   6.834   2.644  1.00  0.00           O  \nATOM     47    O MOL     1       3.243  10.251   3.417  1.00  0.00           O  \nATOM     48    O MOL     1       3.243   6.834   0.000  1.00  0.00           O  \nATOM     49   Sn MOL     1       8.108   3.417   4.739  1.00  0.00          SN  \nATOM     50   Sn MOL     1       8.108   0.000   1.322  1.00  0.00          SN  \nATOM     51   Sn MOL     1       6.486   3.417   1.322  1.00  0.00          SN  \nATOM     52   Sn MOL     1       6.486   0.000   4.739  1.00  0.00          SN  \nATOM     53    O MOL     1       8.108   1.322   4.739  1.00  0.00           O  \nATOM     54    O MOL     1       8.108   4.739   1.322  1.00  0.00           O  \nATOM     55    O MOL     1       8.108   5.512   4.739  1.00  0.00           O  \nATOM     56    O MOL     1       8.108   2.095   1.322  1.00  0.00           O  \nATOM     57    O MOL     1       6.486   3.417   6.061  1.00  0.00           O  \nATOM     58    O MOL     1       6.486   0.000   2.644  1.00  0.00           O  \nATOM     59    O MOL     1       6.486   3.417   3.417  1.00  0.00           O  \nATOM     60    O MOL     1       6.486   0.000   0.000  1.00  0.00           O  \nATOM     61   Sn MOL     1       8.108  10.251   4.739  1.00  0.00          SN  \nATOM     62   Sn MOL     1       8.108   6.834   1.322  1.00  0.00          SN  \nATOM     63   Sn MOL     1       6.486  10.251   1.322  1.00  0.00          SN  \nATOM     64   Sn MOL     1       6.486   6.834   4.739  1.00  0.00          SN  \nATOM     65    O MOL     1       8.108   8.156   4.739  1.00  0.00           O  \nATOM     66    O MOL     1       8.108  11.573   1.322  1.00  0.00           O  \nATOM     67    O MOL     1       8.108  12.346   4.739  1.00  0.00           O  \nATOM     68    O MOL     1       8.108   8.929   1.322  1.00  0.00           O  \nATOM     69    O MOL     1       6.486  10.251   6.061  1.00  0.00           O  \nATOM     70    O MOL     1       6.486   6.834   2.644  1.00  0.00           O  \nATOM     71    O MOL     1       6.486  10.251   3.417  1.00  0.00           O  \nATOM     72    O MOL     1       6.486   6.834   0.000  1.00  0.00           O  \nATOM     73   Sn MOL     1      11.351   3.417   4.739  1.00  0.00          SN  \nATOM     74   Sn MOL     1      11.351   0.000   1.322  1.00  0.00          SN  \nATOM     75   Sn MOL     1       9.730   3.417   1.322  1.00  0.00          SN  \nATOM     76   Sn MOL     1       9.730   0.000   4.739  1.00  0.00          SN  \nATOM     77    O MOL     1      11.351   1.322   4.739  1.00  0.00           O  \nATOM     78    O MOL     1      11.351   4.739   1.322  1.00  0.00           O  \nATOM     79    O MOL     1      11.351   5.512   4.739  1.00  0.00           O  \nATOM     80    O MOL     1      11.351   2.095   1.322  1.00  0.00           O  \nATOM     81    O MOL     1       9.730   3.417   6.061  1.00  0.00           O  \nATOM     82    O MOL     1       9.730   0.000   2.644  1.00  0.00           O  \nATOM     83    O MOL     1       9.730   3.417   3.417  1.00  0.00           O  \nATOM     84    O MOL     1       9.730   0.000   0.000  1.00  0.00           O  \nATOM     85   Sn MOL     1      11.351  10.251   4.739  1.00  0.00          SN  \nATOM     86   Sn MOL     1      11.351   6.834   1.322  1.00  0.00          SN  \nATOM     87   Sn MOL     1       9.730  10.251   1.322  1.00  0.00          SN  \nATOM     88   Sn MOL     1       9.730   6.834   4.739  1.00  0.00          SN  \nATOM     89    O MOL     1      11.351   8.156   4.739  1.00  0.00           O  \nATOM     90    O MOL     1      11.351  11.573   1.322  1.00  0.00           O  \nATOM     91    O MOL     1      11.351  12.346   4.739  1.00  0.00           O  \nATOM     92    O MOL     1      11.351   8.929   1.322  1.00  0.00           O  \nATOM     93    O MOL     1       9.730  10.251   6.061  1.00  0.00           O  \nATOM     94    O MOL     1       9.730   6.834   2.644  1.00  0.00           O  \nATOM     95    O MOL     1       9.730  10.251   3.417  1.00  0.00           O  \nATOM     96    O MOL     1       9.730   6.834   0.000  1.00  0.00           O  \nATOM     97   Sn MOL     1       1.622  17.085   4.739  1.00  0.00          SN  \nATOM     98   Sn MOL     1       1.622  13.668   1.322  1.00  0.00          SN  \nATOM     99   Sn MOL     1       0.000  17.085   1.322  1.00  0.00          SN  \nATOM    100   Sn MOL     1       0.000  13.668   4.739  1.00  0.00          SN  \nATOM    101    O MOL     1       1.622  14.990   4.739  1.00  0.00           O  \nATOM    102    O MOL     1       1.622  18.407   1.322  1.00  0.00           O  \nATOM    103    O MOL     1       1.622  19.180   4.739  1.00  0.00           O  \nATOM    104    O MOL     1       1.622  15.763   1.322  1.00  0.00           O  \nATOM    105    O MOL     1       0.000  17.085   6.061  1.00  0.00           O  \nATOM    106    O MOL     1       0.000  13.668   2.644  1.00  0.00           O  \nATOM    107    O MOL     1       0.000  17.085   3.417  1.00  0.00           O  \nATOM    108    O MOL     1       0.000  13.668   0.000  1.00  0.00           O  \nATOM    109   Sn MOL     1       1.622  23.919   4.739  1.00  0.00          SN  \nATOM    110   Sn MOL     1       1.622  20.502   1.322  1.00  0.00          SN  \nATOM    111   Sn MOL     1       0.000  23.919   1.322  1.00  0.00          SN  \nATOM    112   Sn MOL     1       0.000  20.502   4.739  1.00  0.00          SN  \nATOM    113    O MOL     1       1.622  21.824   4.739  1.00  0.00           O  \nATOM    114    O MOL     1       1.622  25.241   1.322  1.00  0.00           O  \nATOM    115    O MOL     1       1.622  26.014   4.739  1.00  0.00           O  \nATOM    116    O MOL     1       1.622  22.597   1.322  1.00  0.00           O  \nATOM    117    O MOL     1       0.000  23.919   6.061  1.00  0.00           O  \nATOM    118    O MOL     1       0.000  20.502   2.644  1.00  0.00           O  \nATOM    119    O MOL     1       0.000  23.919   3.417  1.00  0.00           O  \nATOM    120    O MOL     1       0.000  20.502   0.000  1.00  0.00           O  \nATOM    121   Sn MOL     1       4.865  17.085   4.739  1.00  0.00          SN  \nATOM    122   Sn MOL     1       4.865  13.668   1.322  1.00  0.00          SN  \nATOM    123   Sn MOL     1       3.243  17.085   1.322  1.00  0.00          SN  \nATOM    124   Sn MOL     1       3.243  13.668   4.739  1.00  0.00          SN  \nATOM    125    O MOL     1       4.865  14.990   4.739  1.00  0.00           O  \nATOM    126    O MOL     1       4.865  18.407   1.322  1.00  0.00           O  \nATOM    127    O MOL     1       4.865  19.180   4.739  1.00  0.00           O  \nATOM    128    O MOL     1       4.865  15.763   1.322  1.00  0.00           O  \nATOM    129    O MOL     1       3.243  17.085   6.061  1.00  0.00           O  \nATOM    130    O MOL     1       3.243  13.668   2.644  1.00  0.00           O  \nATOM    131    O MOL     1       3.243  17.085   3.417  1.00  0.00           O  \nATOM    132    O MOL     1       3.243  13.668   0.000  1.00  0.00           O  \nATOM    133   Sn MOL     1       4.865  23.919   4.739  1.00  0.00          SN  \nATOM    134   Sn MOL     1       4.865  20.502   1.322  1.00  0.00          SN  \nATOM    135   Sn MOL     1       3.243  23.919   1.322  1.00  0.00          SN  \nATOM    136   Sn MOL     1       3.243  20.502   4.739  1.00  0.00          SN  \nATOM    137    O MOL     1       4.865  21.824   4.739  1.00  0.00           O  \nATOM    138    O MOL     1       4.865  25.241   1.322  1.00  0.00           O  \nATOM    139    O MOL     1       4.865  26.014   4.739  1.00  0.00           O  \nATOM    140    O MOL     1       4.865  22.597   1.322  1.00  0.00           O  \nATOM    141    O MOL     1       3.243  23.919   6.061  1.00  0.00           O  \nATOM    142    O MOL     1       3.243  20.502   2.644  1.00  0.00           O  \nATOM    143    O MOL     1       3.243  23.919   3.417  1.00  0.00           O  \nATOM    144    O MOL     1       3.243  20.502   0.000  1.00  0.00           O  \nATOM    145   Sn MOL     1       8.108  17.085   4.739  1.00  0.00          SN  \nATOM    146   Sn MOL     1       8.108  13.668   1.322  1.00  0.00          SN  \nATOM    147   Sn MOL     1       6.486  17.085   1.322  1.00  0.00          SN  \nATOM    148   Sn MOL     1       6.486  13.668   4.739  1.00  0.00          SN  \nATOM    149    O MOL     1       8.108  14.990   4.739  1.00  0.00           O  \nATOM    150    O MOL     1       8.108  18.407   1.322  1.00  0.00           O  \nATOM    151    O MOL     1       8.108  19.180   4.739  1.00  0.00           O  \nATOM    152    O MOL     1       8.108  15.763   1.322  1.00  0.00           O  \nATOM    153    O MOL     1       6.486  17.085   6.061  1.00  0.00           O  \nATOM    154    O MOL     1       6.486  13.668   2.644  1.00  0.00           O  \nATOM    155    O MOL     1       6.486  17.085   3.417  1.00  0.00           O  \nATOM    156    O MOL     1       6.486  13.668   0.000  1.00  0.00           O  \nATOM    157   Sn MOL     1       8.108  23.919   4.739  1.00  0.00          SN  \nATOM    158   Sn MOL     1       8.108  20.502   1.322  1.00  0.00          SN  \nATOM    159   Sn MOL     1       6.486  23.919   1.322  1.00  0.00          SN  \nATOM    160   Sn MOL     1       6.486  20.502   4.739  1.00  0.00          SN  \nATOM    161    O MOL     1       8.108  21.824   4.739  1.00  0.00           O  \nATOM    162    O MOL     1       8.108  25.241   1.322  1.00  0.00           O  \nATOM    163    O MOL     1       8.108  26.014   4.739  1.00  0.00           O  \nATOM    164    O MOL     1       8.108  22.597   1.322  1.00  0.00           O  \nATOM    165    O MOL     1       6.486  23.919   6.061  1.00  0.00           O  \nATOM    166    O MOL     1       6.486  20.502   2.644  1.00  0.00           O  \nATOM    167    O MOL     1       6.486  23.919   3.417  1.00  0.00           O  \nATOM    168    O MOL     1       6.486  20.502   0.000  1.00  0.00           O  \nATOM    169   Sn MOL     1      11.351  17.085   4.739  1.00  0.00          SN  \nATOM    170   Sn MOL     1      11.351  13.668   1.322  1.00  0.00          SN  \nATOM    171   Sn MOL     1       9.730  17.085   1.322  1.00  0.00          SN  \nATOM    172   Sn MOL     1       9.730  13.668   4.739  1.00  0.00          SN  \nATOM    173    O MOL     1      11.351  14.990   4.739  1.00  0.00           O  \nATOM    174    O MOL     1      11.351  18.407   1.322  1.00  0.00           O  \nATOM    175    O MOL     1      11.351  19.180   4.739  1.00  0.00           O  \nATOM    176    O MOL     1      11.351  15.763   1.322  1.00  0.00           O  \nATOM    177    O MOL     1       9.730  17.085   6.061  1.00  0.00           O  \nATOM    178    O MOL     1       9.730  13.668   2.644  1.00  0.00           O  \nATOM    179    O MOL     1       9.730  17.085   3.417  1.00  0.00           O  \nATOM    180    O MOL     1       9.730  13.668   0.000  1.00  0.00           O  \nATOM    181   Sn MOL     1      11.351  23.919   4.739  1.00  0.00          SN  \nATOM    182   Sn MOL     1      11.351  20.502   1.322  1.00  0.00          SN  \nATOM    183   Sn MOL     1       9.730  23.919   1.322  1.00  0.00          SN  \nATOM    184   Sn MOL     1       9.730  20.502   4.739  1.00  0.00          SN  \nATOM    185    O MOL     1      11.351  21.824   4.739  1.00  0.00           O  \nATOM    186    O MOL     1      11.351  25.241   1.322  1.00  0.00           O  \nATOM    187    O MOL     1      11.351  26.014   4.739  1.00  0.00           O  \nATOM    188    O MOL     1      11.351  22.597   1.322  1.00  0.00           O  \nATOM    189    O MOL     1       9.730  23.919   6.061  1.00  0.00           O  \nATOM    190    O MOL     1       9.730  20.502   2.644  1.00  0.00           O  \nATOM    191    O MOL     1       9.730  23.919   3.417  1.00  0.00           O  \nATOM    192    O MOL     1       9.730  20.502   0.000  1.00  0.00           O  \nATOM    193   Sn MOL     1      14.594   3.417   4.739  1.00  0.00          SN  \nATOM    194   Sn MOL     1      14.594   0.000   1.322  1.00  0.00          SN  \nATOM    195   Sn MOL     1      12.973   3.417   1.322  1.00  0.00          SN  \nATOM    196   Sn MOL     1      12.973   0.000   4.739  1.00  0.00          SN  \nATOM    197    O MOL     1      14.594   1.322   4.739  1.00  0.00           O  \nATOM    198    O MOL     1      14.594   4.739   1.322  1.00  0.00           O  \nATOM    199    O MOL     1      14.594   5.512   4.739  1.00  0.00           O  \nATOM    200    O MOL     1      14.594   2.095   1.322  1.00  0.00           O  \nATOM    201    O MOL     1      12.973   3.417   6.061  1.00  0.00           O  \nATOM    202    O MOL     1      12.973   0.000   2.644  1.00  0.00           O  \nATOM    203    O MOL     1      12.973   3.417   3.417  1.00  0.00           O  \nATOM    204    O MOL     1      12.973   0.000   0.000  1.00  0.00           O  \nATOM    205   Sn MOL     1      14.594  10.251   4.739  1.00  0.00          SN  \nATOM    206   Sn MOL     1      14.594   6.834   1.322  1.00  0.00          SN  \nATOM    207   Sn MOL     1      12.973  10.251   1.322  1.00  0.00          SN  \nATOM    208   Sn MOL     1      12.973   6.834   4.739  1.00  0.00          SN  \nATOM    209    O MOL     1      14.594   8.156   4.739  1.00  0.00           O  \nATOM    210    O MOL     1      14.594  11.573   1.322  1.00  0.00           O  \nATOM    211    O MOL     1      14.594  12.346   4.739  1.00  0.00           O  \nATOM    212    O MOL     1      14.594   8.929   1.322  1.00  0.00           O  \nATOM    213    O MOL     1      12.973  10.251   6.061  1.00  0.00           O  \nATOM    214    O MOL     1      12.973   6.834   2.644  1.00  0.00           O  \nATOM    215    O MOL     1      12.973  10.251   3.417  1.00  0.00           O  \nATOM    216    O MOL     1      12.973   6.834   0.000  1.00  0.00           O  \nATOM    217   Sn MOL     1      17.838   3.417   4.739  1.00  0.00          SN  \nATOM    218   Sn MOL     1      17.838   0.000   1.322  1.00  0.00          SN  \nATOM    219   Sn MOL     1      16.216   3.417   1.322  1.00  0.00          SN  \nATOM    220   Sn MOL     1      16.216   0.000   4.739  1.00  0.00          SN  \nATOM    221    O MOL     1      17.838   1.322   4.739  1.00  0.00           O  \nATOM    222    O MOL     1      17.838   4.739   1.322  1.00  0.00           O  \nATOM    223    O MOL     1      17.838   5.512   4.739  1.00  0.00           O  \nATOM    224    O MOL     1      17.838   2.095   1.322  1.00  0.00           O  \nATOM    225    O MOL     1      16.216   3.417   6.061  1.00  0.00           O  \nATOM    226    O MOL     1      16.216   0.000   2.644  1.00  0.00           O  \nATOM    227    O MOL     1      16.216   3.417   3.417  1.00  0.00           O  \nATOM    228    O MOL     1      16.216   0.000   0.000  1.00  0.00           O  \nATOM    229   Sn MOL     1      17.838  10.251   4.739  1.00  0.00          SN  \nATOM    230   Sn MOL     1      17.838   6.834   1.322  1.00  0.00          SN  \nATOM    231   Sn MOL     1      16.216  10.251   1.322  1.00  0.00          SN  \nATOM    232   Sn MOL     1      16.216   6.834   4.739  1.00  0.00          SN  \nATOM    233    O MOL     1      17.838   8.156   4.739  1.00  0.00           O  \nATOM    234    O MOL     1      17.838  11.573   1.322  1.00  0.00           O  \nATOM    235    O MOL     1      17.838  12.346   4.739  1.00  0.00           O  \nATOM    236    O MOL     1      17.838   8.929   1.322  1.00  0.00           O  \nATOM    237    O MOL     1      16.216  10.251   6.061  1.00  0.00           O  \nATOM    238    O MOL     1      16.216   6.834   2.644  1.00  0.00           O  \nATOM    239    O MOL     1      16.216  10.251   3.417  1.00  0.00           O  \nATOM    240    O MOL     1      16.216   6.834   0.000  1.00  0.00           O  \nATOM    241   Sn MOL     1      21.081   3.417   4.739  1.00  0.00          SN  \nATOM    242   Sn MOL     1      21.081   0.000   1.322  1.00  0.00          SN  \nATOM    243   Sn MOL     1      19.459   3.417   1.322  1.00  0.00          SN  \nATOM    244   Sn MOL     1      19.459   0.000   4.739  1.00  0.00          SN  \nATOM    245    O MOL     1      21.081   1.322   4.739  1.00  0.00           O  \nATOM    246    O MOL     1      21.081   4.739   1.322  1.00  0.00           O  \nATOM    247    O MOL     1      21.081   5.512   4.739  1.00  0.00           O  \nATOM    248    O MOL     1      21.081   2.095   1.322  1.00  0.00           O  \nATOM    249    O MOL     1      19.459   3.417   6.061  1.00  0.00           O  \nATOM    250    O MOL     1      19.459   0.000   2.644  1.00  0.00           O  \nATOM    251    O MOL     1      19.459   3.417   3.417  1.00  0.00           O  \nATOM    252    O MOL     1      19.459   0.000   0.000  1.00  0.00           O  \nATOM    253   Sn MOL     1      21.081  10.251   4.739  1.00  0.00          SN  \nATOM    254   Sn MOL     1      21.081   6.834   1.322  1.00  0.00          SN  \nATOM    255   Sn MOL     1      19.459  10.251   1.322  1.00  0.00          SN  \nATOM    256   Sn MOL     1      19.459   6.834   4.739  1.00  0.00          SN  \nATOM    257    O MOL     1      21.081   8.156   4.739  1.00  0.00           O  \nATOM    258    O MOL     1      21.081  11.573   1.322  1.00  0.00           O  \nATOM    259    O MOL     1      21.081  12.346   4.739  1.00  0.00           O  \nATOM    260    O MOL     1      21.081   8.929   1.322  1.00  0.00           O  \nATOM    261    O MOL     1      19.459  10.251   6.061  1.00  0.00           O  \nATOM    262    O MOL     1      19.459   6.834   2.644  1.00  0.00           O  \nATOM    263    O MOL     1      19.459  10.251   3.417  1.00  0.00           O  \nATOM    264    O MOL     1      19.459   6.834   0.000  1.00  0.00           O  \nATOM    265   Sn MOL     1      24.324   3.417   4.739  1.00  0.00          SN  \nATOM    266   Sn MOL     1      24.324   0.000   1.322  1.00  0.00          SN  \nATOM    267   Sn MOL     1      22.703   3.417   1.322  1.00  0.00          SN  \nATOM    268   Sn MOL     1      22.703   0.000   4.739  1.00  0.00          SN  \nATOM    269    O MOL     1      24.324   1.322   4.739  1.00  0.00           O  \nATOM    270    O MOL     1      24.324   4.739   1.322  1.00  0.00           O  \nATOM    271    O MOL     1      24.324   5.512   4.739  1.00  0.00           O  \nATOM    272    O MOL     1      24.324   2.095   1.322  1.00  0.00           O  \nATOM    273    O MOL     1      22.703   3.417   6.061  1.00  0.00           O  \nATOM    274    O MOL     1      22.703   0.000   2.644  1.00  0.00           O  \nATOM    275    O MOL     1      22.703   3.417   3.417  1.00  0.00           O  \nATOM    276    O MOL     1      22.703   0.000   0.000  1.00  0.00           O  \nATOM    277   Sn MOL     1      24.324  10.251   4.739  1.00  0.00          SN  \nATOM    278   Sn MOL     1      24.324   6.834   1.322  1.00  0.00          SN  \nATOM    279   Sn MOL     1      22.703  10.251   1.322  1.00  0.00          SN  \nATOM    280   Sn MOL     1      22.703   6.834   4.739  1.00  0.00          SN  \nATOM    281    O MOL     1      24.324   8.156   4.739  1.00  0.00           O  \nATOM    282    O MOL     1      24.324  11.573   1.322  1.00  0.00           O  \nATOM    283    O MOL     1      24.324  12.346   4.739  1.00  0.00           O  \nATOM    284    O MOL     1      24.324   8.929   1.322  1.00  0.00           O  \nATOM    285    O MOL     1      22.703  10.251   6.061  1.00  0.00           O  \nATOM    286    O MOL     1      22.703   6.834   2.644  1.00  0.00           O  \nATOM    287    O MOL     1      22.703  10.251   3.417  1.00  0.00           O  \nATOM    288    O MOL     1      22.703   6.834   0.000  1.00  0.00           O  \nATOM    289   Sn MOL     1      14.594  17.085   4.739  1.00  0.00          SN  \nATOM    290   Sn MOL     1      14.594  13.668   1.322  1.00  0.00          SN  \nATOM    291   Sn MOL     1      12.973  17.085   1.322  1.00  0.00          SN  \nATOM    292   Sn MOL     1      12.973  13.668   4.739  1.00  0.00          SN  \nATOM    293    O MOL     1      14.594  14.990   4.739  1.00  0.00           O  \nATOM    294    O MOL     1      14.594  18.407   1.322  1.00  0.00           O  \nATOM    295    O MOL     1      14.594  19.180   4.739  1.00  0.00           O  \nATOM    296    O MOL     1      14.594  15.763   1.322  1.00  0.00           O  \nATOM    297    O MOL     1      12.973  17.085   6.061  1.00  0.00           O  \nATOM    298    O MOL     1      12.973  13.668   2.644  1.00  0.00           O  \nATOM    299    O MOL     1      12.973  17.085   3.417  1.00  0.00           O  \nATOM    300    O MOL     1      12.973  13.668   0.000  1.00  0.00           O  \nATOM    301   Sn MOL     1      14.594  23.919   4.739  1.00  0.00          SN  \nATOM    302   Sn MOL     1      14.594  20.502   1.322  1.00  0.00          SN  \nATOM    303   Sn MOL     1      12.973  23.919   1.322  1.00  0.00          SN  \nATOM    304   Sn MOL     1      12.973  20.502   4.739  1.00  0.00          SN  \nATOM    305    O MOL     1      14.594  21.824   4.739  1.00  0.00           O  \nATOM    306    O MOL     1      14.594  25.241   1.322  1.00  0.00           O  \nATOM    307    O MOL     1      14.594  26.014   4.739  1.00  0.00           O  \nATOM    308    O MOL     1      14.594  22.597   1.322  1.00  0.00           O  \nATOM    309    O MOL     1      12.973  23.919   6.061  1.00  0.00           O  \nATOM    310    O MOL     1      12.973  20.502   2.644  1.00  0.00           O  \nATOM    311    O MOL     1      12.973  23.919   3.417  1.00  0.00           O  \nATOM    312    O MOL     1      12.973  20.502   0.000  1.00  0.00           O  \nATOM    313   Sn MOL     1      17.838  17.085   4.739  1.00  0.00          SN  \nATOM    314   Sn MOL     1      17.838  13.668   1.322  1.00  0.00          SN  \nATOM    315   Sn MOL     1      16.216  17.085   1.322  1.00  0.00          SN  \nATOM    316   Sn MOL     1      16.216  13.668   4.739  1.00  0.00          SN  \nATOM    317    O MOL     1      17.838  14.990   4.739  1.00  0.00           O  \nATOM    318    O MOL     1      17.838  18.407   1.322  1.00  0.00           O  \nATOM    319    O MOL     1      17.838  19.180   4.739  1.00  0.00           O  \nATOM    320    O MOL     1      17.838  15.763   1.322  1.00  0.00           O  \nATOM    321    O MOL     1      16.216  17.085   6.061  1.00  0.00           O  \nATOM    322    O MOL     1      16.216  13.668   2.644  1.00  0.00           O  \nATOM    323    O MOL     1      16.216  17.085   3.417  1.00  0.00           O  \nATOM    324    O MOL     1      16.216  13.668   0.000  1.00  0.00           O  \nATOM    325   Sn MOL     1      17.838  23.919   4.739  1.00  0.00          SN  \nATOM    326   Sn MOL     1      17.838  20.502   1.322  1.00  0.00          SN  \nATOM    327   Sn MOL     1      16.216  23.919   1.322  1.00  0.00          SN  \nATOM    328   Sn MOL     1      16.216  20.502   4.739  1.00  0.00          SN  \nATOM    329    O MOL     1      17.838  21.824   4.739  1.00  0.00           O  \nATOM    330    O MOL     1      17.838  25.241   1.322  1.00  0.00           O  \nATOM    331    O MOL     1      17.838  26.014   4.739  1.00  0.00           O  \nATOM    332    O MOL     1      17.838  22.597   1.322  1.00  0.00           O  \nATOM    333    O MOL     1      16.216  23.919   6.061  1.00  0.00           O  \nATOM    334    O MOL     1      16.216  20.502   2.644  1.00  0.00           O  \nATOM    335    O MOL     1      16.216  23.919   3.417  1.00  0.00           O  \nATOM    336    O MOL     1      16.216  20.502   0.000  1.00  0.00           O  \nATOM    337   Sn MOL     1      21.081  17.085   4.739  1.00  0.00          SN  \nATOM    338   Sn MOL     1      21.081  13.668   1.322  1.00  0.00          SN  \nATOM    339   Sn MOL     1      19.459  17.085   1.322  1.00  0.00          SN  \nATOM    340   Sn MOL     1      19.459  13.668   4.739  1.00  0.00          SN  \nATOM    341    O MOL     1      21.081  14.990   4.739  1.00  0.00           O  \nATOM    342    O MOL     1      21.081  18.407   1.322  1.00  0.00           O  \nATOM    343    O MOL     1      21.081  19.180   4.739  1.00  0.00           O  \nATOM    344    O MOL     1      21.081  15.763   1.322  1.00  0.00           O  \nATOM    345    O MOL     1      19.459  17.085   6.061  1.00  0.00           O  \nATOM    346    O MOL     1      19.459  13.668   2.644  1.00  0.00           O  \nATOM    347    O MOL     1      19.459  17.085   3.417  1.00  0.00           O  \nATOM    348    O MOL     1      19.459  13.668   0.000  1.00  0.00           O  \nATOM    349   Sn MOL     1      21.081  23.919   4.739  1.00  0.00          SN  \nATOM    350   Sn MOL     1      21.081  20.502   1.322  1.00  0.00          SN  \nATOM    351   Sn MOL     1      19.459  23.919   1.322  1.00  0.00          SN  \nATOM    352   Sn MOL     1      19.459  20.502   4.739  1.00  0.00          SN  \nATOM    353    O MOL     1      21.081  21.824   4.739  1.00  0.00           O  \nATOM    354    O MOL     1      21.081  25.241   1.322  1.00  0.00           O  \nATOM    355    O MOL     1      21.081  26.014   4.739  1.00  0.00           O  \nATOM    356    O MOL     1      21.081  22.597   1.322  1.00  0.00           O  \nATOM    357    O MOL     1      19.459  23.919   6.061  1.00  0.00           O  \nATOM    358    O MOL     1      19.459  20.502   2.644  1.00  0.00           O  \nATOM    359    O MOL     1      19.459  23.919   3.417  1.00  0.00           O  \nATOM    360    O MOL     1      19.459  20.502   0.000  1.00  0.00           O  \nATOM    361   Sn MOL     1      24.324  17.085   4.739  1.00  0.00          SN  \nATOM    362   Sn MOL     1      24.324  13.668   1.322  1.00  0.00          SN  \nATOM    363   Sn MOL     1      22.703  17.085   1.322  1.00  0.00          SN  \nATOM    364   Sn MOL     1      22.703  13.668   4.739  1.00  0.00          SN  \nATOM    365    O MOL     1      24.324  14.990   4.739  1.00  0.00           O  \nATOM    366    O MOL     1      24.324  18.407   1.322  1.00  0.00           O  \nATOM    367    O MOL     1      24.324  19.180   4.739  1.00  0.00           O  \nATOM    368    O MOL     1      24.324  15.763   1.322  1.00  0.00           O  \nATOM    369    O MOL     1      22.703  17.085   6.061  1.00  0.00           O  \nATOM    370    O MOL     1      22.703  13.668   2.644  1.00  0.00           O  \nATOM    371    O MOL     1      22.703  17.085   3.417  1.00  0.00           O  \nATOM    372    O MOL     1      22.703  13.668   0.000  1.00  0.00           O  \nATOM    373   Sn MOL     1      24.324  23.919   4.739  1.00  0.00          SN  \nATOM    374   Sn MOL     1      24.324  20.502   1.322  1.00  0.00          SN  \nATOM    375   Sn MOL     1      22.703  23.919   1.322  1.00  0.00          SN  \nATOM    376   Sn MOL     1      22.703  20.502   4.739  1.00  0.00          SN  \nATOM    377    O MOL     1      24.324  21.824   4.739  1.00  0.00           O  \nATOM    378    O MOL     1      24.324  25.241   1.322  1.00  0.00           O  \nATOM    379    O MOL     1      24.324  26.014   4.739  1.00  0.00           O  \nATOM    380    O MOL     1      24.324  22.597   1.322  1.00  0.00           O  \nATOM    381    O MOL     1      22.703  23.919   6.061  1.00  0.00           O  \nATOM    382    O MOL     1      22.703  20.502   2.644  1.00  0.00           O  \nATOM    383    O MOL     1      22.703  23.919   3.417  1.00  0.00           O  \nATOM    384    O MOL     1      22.703  20.502   0.000  1.00  0.00           O  \nATOM    385   Pt MOL     1       9.164  11.819  10.344  1.00  0.00          PT  \nATOM    386   Pt MOL     1      11.124   9.859  10.344  1.00  0.00          PT  \nATOM    387   Pt MOL     1       9.578  10.273   8.081  1.00  0.00          PT  \nATOM    388   Pt MOL     1      10.710  11.405  12.607  1.00  0.00          PT  \nATOM    389   Pt MOL     1      11.427  14.082  12.607  1.00  0.00          PT  \nATOM    390   Pt MOL     1      13.387  12.122  12.607  1.00  0.00          PT  \nATOM    391   Pt MOL     1      11.841  12.536  10.344  1.00  0.00          PT  \nATOM    392   Pt MOL     1      14.104  14.800  12.607  1.00  0.00          PT  \nATOM    393   Pt MOL     1       7.618  12.233   8.081  1.00  0.00          PT  \nATOM    394   Pt MOL     1       8.335  14.911   8.081  1.00  0.00          PT  \nATOM    395   Pt MOL     1      10.295  12.951   8.081  1.00  0.00          PT  \nATOM    396   Pt MOL     1       9.881  14.496  10.344  1.00  0.00          PT  \nATOM    397   Pt MOL     1      10.599  17.174  10.344  1.00  0.00          PT  \nATOM    398   Pt MOL     1      12.559  15.214  10.344  1.00  0.00          PT  \nATOM    399   Pt MOL     1      11.013  15.628   8.081  1.00  0.00          PT  \nATOM    400   Pt MOL     1      12.144  16.760  12.607  1.00  0.00          PT  \nATOM    401   Pt MOL     1      13.276  17.891  10.344  1.00  0.00          PT  \nATOM    402   Pt MOL     1       9.053  17.588   8.081  1.00  0.00          PT  \nATOM    403   Pt MOL     1      11.730  18.305   8.081  1.00  0.00          PT  \nATOM    404   Pt MOL     1      11.538   8.313   8.081  1.00  0.00          PT  \nATOM    405   Pt MOL     1      12.255  10.991   8.081  1.00  0.00          PT  \nATOM    406   Pt MOL     1      14.215   9.031   8.081  1.00  0.00          PT  \nATOM    407   Pt MOL     1      13.801  10.576  10.344  1.00  0.00          PT  \nATOM    408   Pt MOL     1      14.519  13.254  10.344  1.00  0.00          PT  \nATOM    409   Pt MOL     1      16.479  11.294  10.344  1.00  0.00          PT  \nATOM    410   Pt MOL     1      14.933  11.708   8.081  1.00  0.00          PT  \nATOM    411   Pt MOL     1      16.064  12.840  12.607  1.00  0.00          PT  \nATOM    412   Pt MOL     1      17.196  13.971  10.344  1.00  0.00          PT  \nATOM    413   Pt MOL     1      12.973  13.668   8.081  1.00  0.00          PT  \nATOM    414   Pt MOL     1      13.690  16.345   8.081  1.00  0.00          PT  \nATOM    415   Pt MOL     1      15.650  14.385   8.081  1.00  0.00          PT  \nATOM    416   Pt MOL     1      15.236  15.931  10.344  1.00  0.00          PT  \nATOM    417   Pt MOL     1      16.368  17.063   8.081  1.00  0.00          PT  \nATOM    418   Pt MOL     1      14.408  19.023   8.081  1.00  0.00          PT  \nATOM    419   Pt MOL     1      16.893   9.748   8.081  1.00  0.00          PT  \nATOM    420   Pt MOL     1      17.610  12.425   8.081  1.00  0.00          PT  \nATOM    421   Pt MOL     1      18.328  15.103   8.081  1.00  0.00          PT  \nENDMDL\n",
           "type": "blob"
          }
         ],
         "kwargs": {
          "defaultRepresentation": false,
          "ext": "pdb"
         },
         "methodName": "loadFile",
         "reconstruc_color_scheme": false,
         "target": "Stage",
         "type": "call_method"
        },
        {
         "args": [
          "500px",
          "500px"
         ],
         "kwargs": {},
         "methodName": "setSize",
         "reconstruc_color_scheme": false,
         "target": "Widget",
         "type": "call_method"
        },
        {
         "args": [
          "unitcell"
         ],
         "component_index": 0,
         "kwargs": {
          "sele": "all"
         },
         "methodName": "addRepresentation",
         "reconstruc_color_scheme": false,
         "target": "compList",
         "type": "call_method"
        },
        {
         "args": [
          "spacefill"
         ],
         "component_index": 0,
         "kwargs": {
          "sele": "all"
         },
         "methodName": "addRepresentation",
         "reconstruc_color_scheme": false,
         "target": "compList",
         "type": "call_method"
        },
        {
         "args": [],
         "kwargs": {
          "cameraType": "orthographic"
         },
         "methodName": "setParameters",
         "reconstruc_color_scheme": false,
         "target": "Stage",
         "type": "call_method"
        },
        {
         "args": [
          {
           "clipDist": 0
          }
         ],
         "kwargs": {},
         "methodName": "setParameters",
         "reconstruc_color_scheme": false,
         "target": "Widget",
         "type": "call_method"
        },
        {
         "args": [
          "spacefill",
          0
         ],
         "kwargs": {
          "colorScale": "rainbow",
          "colorScheme": "element",
          "radiusScale": 0.5,
          "radiusType": "covalent"
         },
         "methodName": "updateRepresentationsByName",
         "reconstruc_color_scheme": false,
         "target": "Widget",
         "type": "call_method"
        },
        {
         "args": [
          "this._Q = [[1.0, 0.0, 0.0], [0.0, 1.0, 0.0], [0.0, 0.0, 1.0]]\n    var tooltip = document.createElement('div')\n    Object.assign(tooltip.style, {\n      display: 'none',\n      position: 'fixed',\n      zIndex: 10,\n      pointerEvents: 'none',\n      backgroundColor: 'rgba( 0, 0, 0, 0.6 )',\n      color: 'lightgrey',\n      padding: '8px',\n      fontFamily: 'sans-serif'\n    })\n    document.body.appendChild(tooltip)\n\n    var that = this\n    this.stage.mouseControls.remove('hoverPick')\n    this.stage.signals.hovered.add(function (pickingProxy) {\n      if (pickingProxy && (pickingProxy.atom || pickingProxy.bond)) {\n        var atom = pickingProxy.atom || pickingProxy.closestBondAtom\n        var mp = pickingProxy.mouse.position\n        //tooltip.innerText = atom.element + ' i=' + atom.index + ' (' + atom.x.toFixed(2) +  ', ' + atom.y.toFixed(2) +  ', ' + atom.z.toFixed(2) + ')'\n        //var pos = that._atoms_pos[atom.index]\n        var Q = that._Q\n        var pos_x = Q[0][0] * atom.x + Q[0][1] * atom.y + Q[0][2] * atom.z \n        var pos_y = Q[1][0] * atom.x + Q[1][1] * atom.y + Q[1][2] * atom.z\n        var pos_z = Q[2][0] * atom.x + Q[2][1] * atom.y + Q[2][2] * atom.z\n        tooltip.innerText = 'i=' + atom.index + ' ' + atom.element + ' (' + pos_x.toFixed(2) +  ', ' + pos_y.toFixed(2) +  ', ' + pos_z.toFixed(2) + ')'\n        tooltip.style.bottom = window.innerHeight - mp.y + 3 + 'px'\n        tooltip.style.left = mp.x + 3 + 'px'\n        tooltip.style.display = 'block'\n      } else {\n        tooltip.style.display = 'none'\n      }\n    })\n    "
         ],
         "kwargs": {},
         "methodName": "executeCode",
         "reconstruc_color_scheme": false,
         "target": "Widget",
         "type": "call_method"
        },
        {
         "args": [
          "ball+stick"
         ],
         "component_index": 0,
         "kwargs": {
          "sele": "all"
         },
         "methodName": "addRepresentation",
         "reconstruc_color_scheme": false,
         "target": "compList",
         "type": "call_method"
        }
       ],
       "_ngl_original_stage_parameters": {
        "ambientColor": 14540253,
        "ambientIntensity": 0.2,
        "backgroundColor": "white",
        "cameraEyeSep": 0.3,
        "cameraFov": 40,
        "cameraType": "perspective",
        "clipDist": 10,
        "clipFar": 100,
        "clipNear": 0,
        "fogFar": 100,
        "fogNear": 50,
        "hoverTimeout": 0,
        "impostor": true,
        "lightColor": 14540253,
        "lightIntensity": 1,
        "mousePreset": "default",
        "panSpeed": 1,
        "quality": "medium",
        "rotateSpeed": 2,
        "sampleLevel": 0,
        "tooltip": true,
        "workerDefault": true,
        "zoomSpeed": 1.2
       },
       "_ngl_repr_dict": {
        "0": {
         "0": {
          "params": {
           "clipCenter": {
            "x": 0,
            "y": 0,
            "z": 0
           },
           "clipNear": 0,
           "clipRadius": 0,
           "colorMode": "hcl",
           "colorReverse": false,
           "colorScale": "",
           "colorScheme": "element",
           "colorValue": "orange",
           "defaultAssembly": "",
           "depthWrite": true,
           "diffuse": 16777215,
           "diffuseInterior": false,
           "disableImpostor": false,
           "disablePicking": false,
           "flatShaded": false,
           "interiorColor": 2236962,
           "interiorDarkening": 0,
           "lazy": false,
           "matrix": {
            "elements": [
             1,
             0,
             0,
             0,
             0,
             1,
             0,
             0,
             0,
             0,
             1,
             0,
             0,
             0,
             0,
             1
            ]
           },
           "metalness": 0,
           "opacity": 1,
           "quality": "medium",
           "radialSegments": 10,
           "radiusData": {},
           "radiusScale": 1,
           "radiusSize": 0.1343229126300808,
           "radiusType": "vdw",
           "roughness": 0.4,
           "sele": "all",
           "side": "double",
           "sphereDetail": 1,
           "useInteriorColor": true,
           "visible": true,
           "wireframe": false
          },
          "type": "unitcell"
         },
         "1": {
          "params": {
           "assembly": "default",
           "clipCenter": {
            "x": 0,
            "y": 0,
            "z": 0
           },
           "clipNear": 0,
           "clipRadius": 0,
           "colorMode": "hcl",
           "colorReverse": false,
           "colorScale": "rainbow",
           "colorScheme": "element",
           "colorValue": 9474192,
           "defaultAssembly": "",
           "depthWrite": true,
           "diffuse": 16777215,
           "diffuseInterior": false,
           "disableImpostor": false,
           "disablePicking": false,
           "flatShaded": false,
           "interiorColor": 2236962,
           "interiorDarkening": 0,
           "lazy": false,
           "matrix": {
            "elements": [
             1,
             0,
             0,
             0,
             0,
             1,
             0,
             0,
             0,
             0,
             1,
             0,
             0,
             0,
             0,
             1
            ]
           },
           "metalness": 0,
           "opacity": 1,
           "quality": "medium",
           "radiusData": {},
           "radiusScale": 0.5,
           "radiusSize": 1,
           "radiusType": "covalent",
           "roughness": 0.4,
           "sele": "all",
           "side": "double",
           "sphereDetail": 1,
           "useInteriorColor": true,
           "visible": true,
           "wireframe": false
          },
          "type": "spacefill"
         },
         "2": {
          "params": {
           "aspectRatio": 2,
           "assembly": "default",
           "bondScale": 0.4,
           "bondSpacing": 1,
           "clipCenter": {
            "x": 0,
            "y": 0,
            "z": 0
           },
           "clipNear": 0,
           "clipRadius": 0,
           "colorMode": "hcl",
           "colorReverse": false,
           "colorScale": "",
           "colorScheme": "element",
           "colorValue": 9474192,
           "cylinderOnly": false,
           "defaultAssembly": "",
           "depthWrite": true,
           "diffuse": 16777215,
           "diffuseInterior": false,
           "disableImpostor": false,
           "disablePicking": false,
           "flatShaded": false,
           "interiorColor": 2236962,
           "interiorDarkening": 0,
           "lazy": false,
           "lineOnly": false,
           "linewidth": 2,
           "matrix": {
            "elements": [
             1,
             0,
             0,
             0,
             0,
             1,
             0,
             0,
             0,
             0,
             1,
             0,
             0,
             0,
             0,
             1
            ]
           },
           "metalness": 0,
           "multipleBond": "off",
           "opacity": 1,
           "openEnded": true,
           "quality": "medium",
           "radialSegments": 10,
           "radiusData": {},
           "radiusScale": 1,
           "radiusSize": 0.15,
           "radiusType": "size",
           "roughness": 0.4,
           "sele": "all",
           "side": "double",
           "sphereDetail": 1,
           "useInteriorColor": true,
           "visible": true,
           "wireframe": false
          },
          "type": "ball+stick"
         }
        }
       },
       "_ngl_serialize": false,
       "_ngl_version": "2.0.0-dev.36",
       "_ngl_view_id": [
        "CDCDEB92-206E-444A-B774-0B5BA6A1BDC8"
       ],
       "_player_dict": {},
       "_scene_position": {},
       "_scene_rotation": {},
       "_synced_model_ids": [],
       "_synced_repr_model_ids": [],
       "_view_height": "",
       "_view_width": "",
       "background": "white",
       "frame": 0,
       "gui_style": null,
       "layout": "IPY_MODEL_c6b040d89561430d8f91ae3fe5a3e9aa",
       "max_frame": 306,
       "n_components": 1,
       "picked": {}
      }
     },
     "7cdf85367dbd4728a76eb8c03da6ff65": {
      "model_module": "@jupyter-widgets/base",
      "model_module_version": "1.2.0",
      "model_name": "LayoutModel",
      "state": {}
     },
     "7e288e80dbb9405c8b0758dd7ea4c26c": {
      "model_module": "@jupyter-widgets/base",
      "model_module_version": "1.2.0",
      "model_name": "LayoutModel",
      "state": {}
     },
     "7e643b5f85014006be4c14e21b403e2e": {
      "model_module": "@jupyter-widgets/controls",
      "model_module_version": "1.5.0",
      "model_name": "LinkModel",
      "state": {
       "source": [
        "IPY_MODEL_9be23abc3f52490193b8f300301a741e",
        "value"
       ],
       "target": [
        "IPY_MODEL_7cd11d49d3854670b213209e38262f2d",
        "frame"
       ]
      }
     },
     "7e840202732b454ebd98c0f360f5dc0c": {
      "model_module": "@jupyter-widgets/controls",
      "model_module_version": "1.5.0",
      "model_name": "ButtonModel",
      "state": {
       "icon": "compress",
       "layout": "IPY_MODEL_79596c5bc262460c807c499bf3594cf6",
       "style": "IPY_MODEL_39759caf396749ccbf68e4a242c011f4"
      }
     },
     "7eebd59e66cf4a2d93ab9d4ef47daeac": {
      "model_module": "@jupyter-widgets/controls",
      "model_module_version": "1.5.0",
      "model_name": "IntSliderModel",
      "state": {
       "layout": "IPY_MODEL_d1e154e6be4442c7885d406793770ff7",
       "max": 0,
       "style": "IPY_MODEL_471306de344b47a7bac96379674e95f5"
      }
     },
     "7ffe7125820e41eabcf544c79226b707": {
      "model_module": "@jupyter-widgets/controls",
      "model_module_version": "1.5.0",
      "model_name": "DropdownModel",
      "state": {
       "_options_labels": [
        "All",
        "Pt",
        "Pd"
       ],
       "description": "Show",
       "index": 0,
       "layout": "IPY_MODEL_22a7172ce5814fffabdd88091474b59e",
       "style": "IPY_MODEL_bb384d4d32d241feb0b8ceb0e7d725bb"
      }
     },
     "8027836f2d3a45688bcd2de09f565cb7": {
      "model_module": "@jupyter-widgets/base",
      "model_module_version": "1.2.0",
      "model_name": "LayoutModel",
      "state": {
       "width": "34px"
      }
     },
     "8052a4f17bb94eadbfbc2705e2b34818": {
      "model_module": "@jupyter-widgets/controls",
      "model_module_version": "1.5.0",
      "model_name": "SliderStyleModel",
      "state": {
       "description_width": ""
      }
     },
     "80ef0ba186544d699a25514904159c47": {
      "model_module": "@jupyter-widgets/base",
      "model_module_version": "1.2.0",
      "model_name": "LayoutModel",
      "state": {
       "border": "0px solid black"
      }
     },
     "8215b37720164e899a1b3a26e856b29b": {
      "model_module": "@jupyter-widgets/controls",
      "model_module_version": "1.5.0",
      "model_name": "PlayModel",
      "state": {
       "layout": "IPY_MODEL_e9b12650b9f848e382f7f6dc221e8dbe",
       "max": 0,
       "style": "IPY_MODEL_46bb6f26f6ac476c84b97b043d5dfb94"
      }
     },
     "822682660b224f4e982b68cafb67d25c": {
      "model_module": "@jupyter-widgets/base",
      "model_module_version": "1.2.0",
      "model_name": "LayoutModel",
      "state": {}
     },
     "8233714df09844ae8f1bf56f3c8d06b7": {
      "model_module": "@jupyter-widgets/controls",
      "model_module_version": "1.5.0",
      "model_name": "FloatSliderModel",
      "state": {
       "description": "Ball size",
       "layout": "IPY_MODEL_fa81758e872f4622b7b0cd6c36672372",
       "max": 1.5,
       "step": 0.01,
       "style": "IPY_MODEL_754a7ed583f94c2089e30e2b62960119",
       "value": 0.5
      }
     },
     "82df02aaaa7248198d71030e3decb0d2": {
      "model_module": "nglview-js-widgets",
      "model_module_version": "3.0.1",
      "model_name": "NGLModel",
      "state": {
       "_camera_orientation": [
        41.190917300568096,
        0,
        0,
        0,
        0,
        41.190917300568096,
        0,
        0,
        0,
        0,
        41.190917300568096,
        0,
        0,
        0,
        0,
        1
       ],
       "_camera_str": "orthographic",
       "_gui_theme": null,
       "_ibtn_fullscreen": "IPY_MODEL_f9e97f26e2a740bc928f057a522cd8b3",
       "_igui": null,
       "_iplayer": "IPY_MODEL_51dd5bb667284624a72bf40b74a4c13d",
       "_ngl_color_dict": {},
       "_ngl_coordinate_resource": {},
       "_ngl_full_stage_parameters": {
        "ambientColor": 14540253,
        "ambientIntensity": 0.2,
        "backgroundColor": "white",
        "cameraEyeSep": 0.3,
        "cameraFov": 40,
        "cameraType": "orthographic",
        "clipDist": 0,
        "clipFar": 100,
        "clipNear": 0,
        "fogFar": 100,
        "fogNear": 50,
        "hoverTimeout": 0,
        "impostor": true,
        "lightColor": 14540253,
        "lightIntensity": 1,
        "mousePreset": "default",
        "panSpeed": 1,
        "quality": "medium",
        "rotateSpeed": 2,
        "sampleLevel": 0,
        "tooltip": true,
        "workerDefault": true,
        "zoomSpeed": 1.2
       },
       "_ngl_msg_archive": [
        {
         "args": [
          {
           "binary": false,
           "data": "MODEL     1\nATOM      1   Pt MOL     1      -9.725  -9.725   0.000  1.00  0.00          PT  \nATOM      2   Pt MOL     1     -11.670  -5.835  -1.945  1.00  0.00          PT  \nATOM      3   Pt MOL     1      -9.725  -7.780  -1.945  1.00  0.00          PT  \nATOM      4   Pt MOL     1      -9.725  -5.835  -3.890  1.00  0.00          PT  \nATOM      5   Pt MOL     1     -11.670  -7.780   0.000  1.00  0.00          PT  \nATOM      6   Pt MOL     1     -11.670  -5.835   1.945  1.00  0.00          PT  \nATOM      7   Pt MOL     1      -9.725  -7.780   1.945  1.00  0.00          PT  \nATOM      8   Pd MOL     1      -9.725  -5.835   0.000  1.00  0.00          PD  \nATOM      9   Pt MOL     1      -9.725  -5.835   3.890  1.00  0.00          PT  \nATOM     10   Pt MOL     1     -11.670  -1.945  -5.835  1.00  0.00          PT  \nATOM     11   Pt MOL     1      -9.725  -3.890  -5.835  1.00  0.00          PT  \nATOM     12   Pt MOL     1      -9.725  -1.945  -7.780  1.00  0.00          PT  \nATOM     13   Pt MOL     1     -11.670  -3.890  -3.890  1.00  0.00          PT  \nATOM     14   Pt MOL     1     -11.670  -1.945  -1.945  1.00  0.00          PT  \nATOM     15   Pd MOL     1      -9.725  -3.890  -1.945  1.00  0.00          PD  \nATOM     16   Pd MOL     1      -9.725  -1.945  -3.890  1.00  0.00          PD  \nATOM     17   Pt MOL     1     -11.670  -3.890   0.000  1.00  0.00          PT  \nATOM     18   Pt MOL     1     -11.670  -1.945   1.945  1.00  0.00          PT  \nATOM     19   Pd MOL     1      -9.725  -3.890   1.945  1.00  0.00          PD  \nATOM     20   Pd MOL     1      -9.725  -1.945   0.000  1.00  0.00          PD  \nATOM     21   Pt MOL     1     -11.670  -3.890   3.890  1.00  0.00          PT  \nATOM     22   Pt MOL     1     -11.670  -1.945   5.835  1.00  0.00          PT  \nATOM     23   Pt MOL     1      -9.725  -3.890   5.835  1.00  0.00          PT  \nATOM     24   Pd MOL     1      -9.725  -1.945   3.890  1.00  0.00          PD  \nATOM     25   Pt MOL     1      -9.725  -1.945   7.780  1.00  0.00          PT  \nATOM     26   Pt MOL     1      -9.725   0.000  -9.725  1.00  0.00          PT  \nATOM     27   Pt MOL     1     -11.670   0.000  -7.780  1.00  0.00          PT  \nATOM     28   Pt MOL     1     -11.670   1.945  -5.835  1.00  0.00          PT  \nATOM     29   Pd MOL     1      -9.725   0.000  -5.835  1.00  0.00          PD  \nATOM     30   Pt MOL     1      -9.725   1.945  -7.780  1.00  0.00          PT  \nATOM     31   Pt MOL     1     -11.670   0.000  -3.890  1.00  0.00          PT  \nATOM     32   Pt MOL     1     -11.670   1.945  -1.945  1.00  0.00          PT  \nATOM     33   Pd MOL     1      -9.725   0.000  -1.945  1.00  0.00          PD  \nATOM     34   Pd MOL     1      -9.725   1.945  -3.890  1.00  0.00          PD  \nATOM     35   Pt MOL     1     -11.670   0.000   0.000  1.00  0.00          PT  \nATOM     36   Pt MOL     1     -11.670   1.945   1.945  1.00  0.00          PT  \nATOM     37   Pd MOL     1      -9.725   0.000   1.945  1.00  0.00          PD  \nATOM     38   Pd MOL     1      -9.725   1.945   0.000  1.00  0.00          PD  \nATOM     39   Pt MOL     1     -11.670   0.000   3.890  1.00  0.00          PT  \nATOM     40   Pt MOL     1     -11.670   1.945   5.835  1.00  0.00          PT  \nATOM     41   Pd MOL     1      -9.725   0.000   5.835  1.00  0.00          PD  \nATOM     42   Pd MOL     1      -9.725   1.945   3.890  1.00  0.00          PD  \nATOM     43   Pt MOL     1     -11.670   0.000   7.780  1.00  0.00          PT  \nATOM     44   Pt MOL     1      -9.725   0.000   9.725  1.00  0.00          PT  \nATOM     45   Pt MOL     1      -9.725   1.945   7.780  1.00  0.00          PT  \nATOM     46   Pt MOL     1      -9.725   3.890  -5.835  1.00  0.00          PT  \nATOM     47   Pt MOL     1     -11.670   3.890  -3.890  1.00  0.00          PT  \nATOM     48   Pt MOL     1     -11.670   5.835  -1.945  1.00  0.00          PT  \nATOM     49   Pd MOL     1      -9.725   3.890  -1.945  1.00  0.00          PD  \nATOM     50   Pt MOL     1      -9.725   5.835  -3.890  1.00  0.00          PT  \nATOM     51   Pt MOL     1     -11.670   3.890   0.000  1.00  0.00          PT  \nATOM     52   Pt MOL     1     -11.670   5.835   1.945  1.00  0.00          PT  \nATOM     53   Pd MOL     1      -9.725   3.890   1.945  1.00  0.00          PD  \nATOM     54   Pd MOL     1      -9.725   5.835   0.000  1.00  0.00          PD  \nATOM     55   Pt MOL     1     -11.670   3.890   3.890  1.00  0.00          PT  \nATOM     56   Pt MOL     1      -9.725   3.890   5.835  1.00  0.00          PT  \nATOM     57   Pt MOL     1      -9.725   5.835   3.890  1.00  0.00          PT  \nATOM     58   Pt MOL     1      -9.725   7.780  -1.945  1.00  0.00          PT  \nATOM     59   Pt MOL     1     -11.670   7.780   0.000  1.00  0.00          PT  \nATOM     60   Pt MOL     1      -9.725   7.780   1.945  1.00  0.00          PT  \nATOM     61   Pt MOL     1      -9.725   9.725   0.000  1.00  0.00          PT  \nATOM     62   Pt MOL     1      -7.780  -9.725  -1.945  1.00  0.00          PT  \nATOM     63   Pt MOL     1      -5.835 -11.670  -1.945  1.00  0.00          PT  \nATOM     64   Pt MOL     1      -5.835  -9.725  -3.890  1.00  0.00          PT  \nATOM     65   Pt MOL     1      -7.780 -11.670   0.000  1.00  0.00          PT  \nATOM     66   Pt MOL     1      -7.780  -9.725   1.945  1.00  0.00          PT  \nATOM     67   Pt MOL     1      -5.835 -11.670   1.945  1.00  0.00          PT  \nATOM     68   Pd MOL     1      -5.835  -9.725   0.000  1.00  0.00          PD  \nATOM     69   Pt MOL     1      -5.835  -9.725   3.890  1.00  0.00          PT  \nATOM     70   Pt MOL     1      -7.780  -5.835  -5.835  1.00  0.00          PT  \nATOM     71   Pt MOL     1      -5.835  -7.780  -5.835  1.00  0.00          PT  \nATOM     72   Pt MOL     1      -5.835  -5.835  -7.780  1.00  0.00          PT  \nATOM     73   Pt MOL     1      -7.780  -7.780  -3.890  1.00  0.00          PT  \nATOM     74   Pd MOL     1      -7.780  -5.835  -1.945  1.00  0.00          PD  \nATOM     75   Pd MOL     1      -5.835  -7.780  -1.945  1.00  0.00          PD  \nATOM     76   Pd MOL     1      -5.835  -5.835  -3.890  1.00  0.00          PD  \nATOM     77   Pd MOL     1      -7.780  -7.780   0.000  1.00  0.00          PD  \nATOM     78   Pd MOL     1      -7.780  -5.835   1.945  1.00  0.00          PD  \nATOM     79   Pd MOL     1      -5.835  -7.780   1.945  1.00  0.00          PD  \nATOM     80   Pd MOL     1      -5.835  -5.835   0.000  1.00  0.00          PD  \nATOM     81   Pt MOL     1      -7.780  -7.780   3.890  1.00  0.00          PT  \nATOM     82   Pt MOL     1      -7.780  -5.835   5.835  1.00  0.00          PT  \nATOM     83   Pt MOL     1      -5.835  -7.780   5.835  1.00  0.00          PT  \nATOM     84   Pd MOL     1      -5.835  -5.835   3.890  1.00  0.00          PD  \nATOM     85   Pt MOL     1      -5.835  -5.835   7.780  1.00  0.00          PT  \nATOM     86   Pt MOL     1      -7.780  -1.945  -9.725  1.00  0.00          PT  \nATOM     87   Pt MOL     1      -5.835  -3.890  -9.725  1.00  0.00          PT  \nATOM     88   Pt MOL     1      -5.835  -1.945 -11.670  1.00  0.00          PT  \nATOM     89   Pt MOL     1      -7.780  -3.890  -7.780  1.00  0.00          PT  \nATOM     90   Pd MOL     1      -7.780  -1.945  -5.835  1.00  0.00          PD  \nATOM     91   Pd MOL     1      -5.835  -3.890  -5.835  1.00  0.00          PD  \nATOM     92   Pd MOL     1      -5.835  -1.945  -7.780  1.00  0.00          PD  \nATOM     93   Pd MOL     1      -7.780  -3.890  -3.890  1.00  0.00          PD  \nATOM     94   Pd MOL     1      -7.780  -1.945  -1.945  1.00  0.00          PD  \nATOM     95   Pd MOL     1      -5.835  -3.890  -1.945  1.00  0.00          PD  \nATOM     96   Pd MOL     1      -5.835  -1.945  -3.890  1.00  0.00          PD  \nATOM     97   Pd MOL     1      -7.780  -3.890   0.000  1.00  0.00          PD  \nATOM     98   Pd MOL     1      -7.780  -1.945   1.945  1.00  0.00          PD  \nATOM     99   Pd MOL     1      -5.835  -3.890   1.945  1.00  0.00          PD  \nATOM    100   Pd MOL     1      -5.835  -1.945   0.000  1.00  0.00          PD  \nATOM    101   Pd MOL     1      -7.780  -3.890   3.890  1.00  0.00          PD  \nATOM    102   Pd MOL     1      -7.780  -1.945   5.835  1.00  0.00          PD  \nATOM    103   Pd MOL     1      -5.835  -3.890   5.835  1.00  0.00          PD  \nATOM    104   Pd MOL     1      -5.835  -1.945   3.890  1.00  0.00          PD  \nATOM    105   Pt MOL     1      -7.780  -3.890   7.780  1.00  0.00          PT  \nATOM    106   Pt MOL     1      -7.780  -1.945   9.725  1.00  0.00          PT  \nATOM    107   Pt MOL     1      -5.835  -3.890   9.725  1.00  0.00          PT  \nATOM    108   Pd MOL     1      -5.835  -1.945   7.780  1.00  0.00          PD  \nATOM    109   Pt MOL     1      -5.835  -1.945  11.670  1.00  0.00          PT  \nATOM    110   Pt MOL     1      -7.780   0.000 -11.670  1.00  0.00          PT  \nATOM    111   Pt MOL     1      -7.780   1.945  -9.725  1.00  0.00          PT  \nATOM    112   Pd MOL     1      -5.835   0.000  -9.725  1.00  0.00          PD  \nATOM    113   Pt MOL     1      -5.835   1.945 -11.670  1.00  0.00          PT  \nATOM    114   Pd MOL     1      -7.780   0.000  -7.780  1.00  0.00          PD  \nATOM    115   Pd MOL     1      -7.780   1.945  -5.835  1.00  0.00          PD  \nATOM    116   Pd MOL     1      -5.835   0.000  -5.835  1.00  0.00          PD  \nATOM    117   Pd MOL     1      -5.835   1.945  -7.780  1.00  0.00          PD  \nATOM    118   Pd MOL     1      -7.780   0.000  -3.890  1.00  0.00          PD  \nATOM    119   Pd MOL     1      -7.780   1.945  -1.945  1.00  0.00          PD  \nATOM    120   Pd MOL     1      -5.835   0.000  -1.945  1.00  0.00          PD  \nATOM    121   Pd MOL     1      -5.835   1.945  -3.890  1.00  0.00          PD  \nATOM    122   Pd MOL     1      -7.780   0.000   0.000  1.00  0.00          PD  \nATOM    123   Pd MOL     1      -7.780   1.945   1.945  1.00  0.00          PD  \nATOM    124   Pd MOL     1      -5.835   0.000   1.945  1.00  0.00          PD  \nATOM    125   Pd MOL     1      -5.835   1.945   0.000  1.00  0.00          PD  \nATOM    126   Pd MOL     1      -7.780   0.000   3.890  1.00  0.00          PD  \nATOM    127   Pd MOL     1      -7.780   1.945   5.835  1.00  0.00          PD  \nATOM    128   Pd MOL     1      -5.835   0.000   5.835  1.00  0.00          PD  \nATOM    129   Pd MOL     1      -5.835   1.945   3.890  1.00  0.00          PD  \nATOM    130   Pd MOL     1      -7.780   0.000   7.780  1.00  0.00          PD  \nATOM    131   Pt MOL     1      -7.780   1.945   9.725  1.00  0.00          PT  \nATOM    132   Pd MOL     1      -5.835   0.000   9.725  1.00  0.00          PD  \nATOM    133   Pd MOL     1      -5.835   1.945   7.780  1.00  0.00          PD  \nATOM    134   Pt MOL     1      -7.780   0.000  11.670  1.00  0.00          PT  \nATOM    135   Pt MOL     1      -5.835   1.945  11.670  1.00  0.00          PT  \nATOM    136   Pt MOL     1      -5.835   3.890  -9.725  1.00  0.00          PT  \nATOM    137   Pt MOL     1      -7.780   3.890  -7.780  1.00  0.00          PT  \nATOM    138   Pt MOL     1      -7.780   5.835  -5.835  1.00  0.00          PT  \nATOM    139   Pd MOL     1      -5.835   3.890  -5.835  1.00  0.00          PD  \nATOM    140   Pt MOL     1      -5.835   5.835  -7.780  1.00  0.00          PT  \nATOM    141   Pd MOL     1      -7.780   3.890  -3.890  1.00  0.00          PD  \nATOM    142   Pd MOL     1      -7.780   5.835  -1.945  1.00  0.00          PD  \nATOM    143   Pd MOL     1      -5.835   3.890  -1.945  1.00  0.00          PD  \nATOM    144   Pd MOL     1      -5.835   5.835  -3.890  1.00  0.00          PD  \nATOM    145   Pd MOL     1      -7.780   3.890   0.000  1.00  0.00          PD  \nATOM    146   Pd MOL     1      -7.780   5.835   1.945  1.00  0.00          PD  \nATOM    147   Pd MOL     1      -5.835   3.890   1.945  1.00  0.00          PD  \nATOM    148   Pd MOL     1      -5.835   5.835   0.000  1.00  0.00          PD  \nATOM    149   Pd MOL     1      -7.780   3.890   3.890  1.00  0.00          PD  \nATOM    150   Pt MOL     1      -7.780   5.835   5.835  1.00  0.00          PT  \nATOM    151   Pd MOL     1      -5.835   3.890   5.835  1.00  0.00          PD  \nATOM    152   Pd MOL     1      -5.835   5.835   3.890  1.00  0.00          PD  \nATOM    153   Pt MOL     1      -7.780   3.890   7.780  1.00  0.00          PT  \nATOM    154   Pt MOL     1      -5.835   3.890   9.725  1.00  0.00          PT  \nATOM    155   Pt MOL     1      -5.835   5.835   7.780  1.00  0.00          PT  \nATOM    156   Pt MOL     1      -5.835   7.780  -5.835  1.00  0.00          PT  \nATOM    157   Pt MOL     1      -7.780   7.780  -3.890  1.00  0.00          PT  \nATOM    158   Pt MOL     1      -7.780   9.725  -1.945  1.00  0.00          PT  \nATOM    159   Pd MOL     1      -5.835   7.780  -1.945  1.00  0.00          PD  \nATOM    160   Pt MOL     1      -5.835   9.725  -3.890  1.00  0.00          PT  \nATOM    161   Pd MOL     1      -7.780   7.780   0.000  1.00  0.00          PD  \nATOM    162   Pt MOL     1      -7.780   9.725   1.945  1.00  0.00          PT  \nATOM    163   Pd MOL     1      -5.835   7.780   1.945  1.00  0.00          PD  \nATOM    164   Pd MOL     1      -5.835   9.725   0.000  1.00  0.00          PD  \nATOM    165   Pt MOL     1      -7.780   7.780   3.890  1.00  0.00          PT  \nATOM    166   Pt MOL     1      -5.835   7.780   5.835  1.00  0.00          PT  \nATOM    167   Pt MOL     1      -5.835   9.725   3.890  1.00  0.00          PT  \nATOM    168   Pt MOL     1      -5.835  11.670  -1.945  1.00  0.00          PT  \nATOM    169   Pt MOL     1      -7.780  11.670   0.000  1.00  0.00          PT  \nATOM    170   Pt MOL     1      -5.835  11.670   1.945  1.00  0.00          PT  \nATOM    171   Pt MOL     1      -3.890  -9.725  -5.835  1.00  0.00          PT  \nATOM    172   Pt MOL     1      -1.945 -11.670  -5.835  1.00  0.00          PT  \nATOM    173   Pt MOL     1      -1.945  -9.725  -7.780  1.00  0.00          PT  \nATOM    174   Pt MOL     1      -3.890 -11.670  -3.890  1.00  0.00          PT  \nATOM    175   Pd MOL     1      -3.890  -9.725  -1.945  1.00  0.00          PD  \nATOM    176   Pt MOL     1      -1.945 -11.670  -1.945  1.00  0.00          PT  \nATOM    177   Pd MOL     1      -1.945  -9.725  -3.890  1.00  0.00          PD  \nATOM    178   Pt MOL     1      -3.890 -11.670   0.000  1.00  0.00          PT  \nATOM    179   Pd MOL     1      -3.890  -9.725   1.945  1.00  0.00          PD  \nATOM    180   Pt MOL     1      -1.945 -11.670   1.945  1.00  0.00          PT  \nATOM    181   Pd MOL     1      -1.945  -9.725   0.000  1.00  0.00          PD  \nATOM    182   Pt MOL     1      -3.890 -11.670   3.890  1.00  0.00          PT  \nATOM    183   Pt MOL     1      -3.890  -9.725   5.835  1.00  0.00          PT  \nATOM    184   Pt MOL     1      -1.945 -11.670   5.835  1.00  0.00          PT  \nATOM    185   Pd MOL     1      -1.945  -9.725   3.890  1.00  0.00          PD  \nATOM    186   Pt MOL     1      -1.945  -9.725   7.780  1.00  0.00          PT  \nATOM    187   Pt MOL     1      -3.890  -5.835  -9.725  1.00  0.00          PT  \nATOM    188   Pt MOL     1      -1.945  -7.780  -9.725  1.00  0.00          PT  \nATOM    189   Pt MOL     1      -1.945  -5.835 -11.670  1.00  0.00          PT  \nATOM    190   Pt MOL     1      -3.890  -7.780  -7.780  1.00  0.00          PT  \nATOM    191   Pd MOL     1      -3.890  -5.835  -5.835  1.00  0.00          PD  \nATOM    192   Pd MOL     1      -1.945  -7.780  -5.835  1.00  0.00          PD  \nATOM    193   Pd MOL     1      -1.945  -5.835  -7.780  1.00  0.00          PD  \nATOM    194   Pd MOL     1      -3.890  -7.780  -3.890  1.00  0.00          PD  \nATOM    195   Pd MOL     1      -3.890  -5.835  -1.945  1.00  0.00          PD  \nATOM    196   Pd MOL     1      -1.945  -7.780  -1.945  1.00  0.00          PD  \nATOM    197   Pd MOL     1      -1.945  -5.835  -3.890  1.00  0.00          PD  \nATOM    198   Pd MOL     1      -3.890  -7.780   0.000  1.00  0.00          PD  \nATOM    199   Pd MOL     1      -3.890  -5.835   1.945  1.00  0.00          PD  \nATOM    200   Pd MOL     1      -1.945  -7.780   1.945  1.00  0.00          PD  \nATOM    201   Pd MOL     1      -1.945  -5.835   0.000  1.00  0.00          PD  \nATOM    202   Pd MOL     1      -3.890  -7.780   3.890  1.00  0.00          PD  \nATOM    203   Pd MOL     1      -3.890  -5.835   5.835  1.00  0.00          PD  \nATOM    204   Pd MOL     1      -1.945  -7.780   5.835  1.00  0.00          PD  \nATOM    205   Pd MOL     1      -1.945  -5.835   3.890  1.00  0.00          PD  \nATOM    206   Pt MOL     1      -3.890  -7.780   7.780  1.00  0.00          PT  \nATOM    207   Pt MOL     1      -3.890  -5.835   9.725  1.00  0.00          PT  \nATOM    208   Pt MOL     1      -1.945  -7.780   9.725  1.00  0.00          PT  \nATOM    209   Pd MOL     1      -1.945  -5.835   7.780  1.00  0.00          PD  \nATOM    210   Pt MOL     1      -1.945  -5.835  11.670  1.00  0.00          PT  \nATOM    211   Pt MOL     1      -3.890  -3.890 -11.670  1.00  0.00          PT  \nATOM    212   Pd MOL     1      -3.890  -1.945  -9.725  1.00  0.00          PD  \nATOM    213   Pd MOL     1      -1.945  -3.890  -9.725  1.00  0.00          PD  \nATOM    214   Pt MOL     1      -1.945  -1.945 -11.670  1.00  0.00          PT  \nATOM    215   Pd MOL     1      -3.890  -3.890  -7.780  1.00  0.00          PD  \nATOM    216   Pd MOL     1      -3.890  -1.945  -5.835  1.00  0.00          PD  \nATOM    217   Pd MOL     1      -1.945  -3.890  -5.835  1.00  0.00          PD  \nATOM    218   Pd MOL     1      -1.945  -1.945  -7.780  1.00  0.00          PD  \nATOM    219   Pd MOL     1      -3.890  -3.890  -3.890  1.00  0.00          PD  \nATOM    220   Pd MOL     1      -3.890  -1.945  -1.945  1.00  0.00          PD  \nATOM    221   Pd MOL     1      -1.945  -3.890  -1.945  1.00  0.00          PD  \nATOM    222   Pd MOL     1      -1.945  -1.945  -3.890  1.00  0.00          PD  \nATOM    223   Pd MOL     1      -3.890  -3.890   0.000  1.00  0.00          PD  \nATOM    224   Pd MOL     1      -3.890  -1.945   1.945  1.00  0.00          PD  \nATOM    225   Pd MOL     1      -1.945  -3.890   1.945  1.00  0.00          PD  \nATOM    226   Pd MOL     1      -1.945  -1.945   0.000  1.00  0.00          PD  \nATOM    227   Pd MOL     1      -3.890  -3.890   3.890  1.00  0.00          PD  \nATOM    228   Pd MOL     1      -3.890  -1.945   5.835  1.00  0.00          PD  \nATOM    229   Pd MOL     1      -1.945  -3.890   5.835  1.00  0.00          PD  \nATOM    230   Pd MOL     1      -1.945  -1.945   3.890  1.00  0.00          PD  \nATOM    231   Pd MOL     1      -3.890  -3.890   7.780  1.00  0.00          PD  \nATOM    232   Pd MOL     1      -3.890  -1.945   9.725  1.00  0.00          PD  \nATOM    233   Pd MOL     1      -1.945  -3.890   9.725  1.00  0.00          PD  \nATOM    234   Pd MOL     1      -1.945  -1.945   7.780  1.00  0.00          PD  \nATOM    235   Pt MOL     1      -3.890  -3.890  11.670  1.00  0.00          PT  \nATOM    236   Pt MOL     1      -1.945  -1.945  11.670  1.00  0.00          PT  \nATOM    237   Pt MOL     1      -3.890   0.000 -11.670  1.00  0.00          PT  \nATOM    238   Pd MOL     1      -3.890   1.945  -9.725  1.00  0.00          PD  \nATOM    239   Pd MOL     1      -1.945   0.000  -9.725  1.00  0.00          PD  \nATOM    240   Pt MOL     1      -1.945   1.945 -11.670  1.00  0.00          PT  \nATOM    241   Pd MOL     1      -3.890   0.000  -7.780  1.00  0.00          PD  \nATOM    242   Pd MOL     1      -3.890   1.945  -5.835  1.00  0.00          PD  \nATOM    243   Pd MOL     1      -1.945   0.000  -5.835  1.00  0.00          PD  \nATOM    244   Pd MOL     1      -1.945   1.945  -7.780  1.00  0.00          PD  \nATOM    245   Pd MOL     1      -3.890   0.000  -3.890  1.00  0.00          PD  \nATOM    246   Pd MOL     1      -3.890   1.945  -1.945  1.00  0.00          PD  \nATOM    247   Pd MOL     1      -1.945   0.000  -1.945  1.00  0.00          PD  \nATOM    248   Pd MOL     1      -1.945   1.945  -3.890  1.00  0.00          PD  \nATOM    249   Pd MOL     1      -3.890   0.000   0.000  1.00  0.00          PD  \nATOM    250   Pd MOL     1      -3.890   1.945   1.945  1.00  0.00          PD  \nATOM    251   Pd MOL     1      -1.945   0.000   1.945  1.00  0.00          PD  \nATOM    252   Pd MOL     1      -1.945   1.945   0.000  1.00  0.00          PD  \nATOM    253   Pd MOL     1      -3.890   0.000   3.890  1.00  0.00          PD  \nATOM    254   Pd MOL     1      -3.890   1.945   5.835  1.00  0.00          PD  \nATOM    255   Pd MOL     1      -1.945   0.000   5.835  1.00  0.00          PD  \nATOM    256   Pd MOL     1      -1.945   1.945   3.890  1.00  0.00          PD  \nATOM    257   Pd MOL     1      -3.890   0.000   7.780  1.00  0.00          PD  \nATOM    258   Pd MOL     1      -3.890   1.945   9.725  1.00  0.00          PD  \nATOM    259   Pd MOL     1      -1.945   0.000   9.725  1.00  0.00          PD  \nATOM    260   Pd MOL     1      -1.945   1.945   7.780  1.00  0.00          PD  \nATOM    261   Pt MOL     1      -3.890   0.000  11.670  1.00  0.00          PT  \nATOM    262   Pt MOL     1      -1.945   1.945  11.670  1.00  0.00          PT  \nATOM    263   Pt MOL     1      -3.890   3.890 -11.670  1.00  0.00          PT  \nATOM    264   Pt MOL     1      -3.890   5.835  -9.725  1.00  0.00          PT  \nATOM    265   Pd MOL     1      -1.945   3.890  -9.725  1.00  0.00          PD  \nATOM    266   Pt MOL     1      -1.945   5.835 -11.670  1.00  0.00          PT  \nATOM    267   Pd MOL     1      -3.890   3.890  -7.780  1.00  0.00          PD  \nATOM    268   Pd MOL     1      -3.890   5.835  -5.835  1.00  0.00          PD  \nATOM    269   Pd MOL     1      -1.945   3.890  -5.835  1.00  0.00          PD  \nATOM    270   Pd MOL     1      -1.945   5.835  -7.780  1.00  0.00          PD  \nATOM    271   Pd MOL     1      -3.890   3.890  -3.890  1.00  0.00          PD  \nATOM    272   Pd MOL     1      -3.890   5.835  -1.945  1.00  0.00          PD  \nATOM    273   Pd MOL     1      -1.945   3.890  -1.945  1.00  0.00          PD  \nATOM    274   Pd MOL     1      -1.945   5.835  -3.890  1.00  0.00          PD  \nATOM    275   Pd MOL     1      -3.890   3.890   0.000  1.00  0.00          PD  \nATOM    276   Pd MOL     1      -3.890   5.835   1.945  1.00  0.00          PD  \nATOM    277   Pd MOL     1      -1.945   3.890   1.945  1.00  0.00          PD  \nATOM    278   Pd MOL     1      -1.945   5.835   0.000  1.00  0.00          PD  \nATOM    279   Pd MOL     1      -3.890   3.890   3.890  1.00  0.00          PD  \nATOM    280   Pd MOL     1      -3.890   5.835   5.835  1.00  0.00          PD  \nATOM    281   Pd MOL     1      -1.945   3.890   5.835  1.00  0.00          PD  \nATOM    282   Pd MOL     1      -1.945   5.835   3.890  1.00  0.00          PD  \nATOM    283   Pd MOL     1      -3.890   3.890   7.780  1.00  0.00          PD  \nATOM    284   Pt MOL     1      -3.890   5.835   9.725  1.00  0.00          PT  \nATOM    285   Pd MOL     1      -1.945   3.890   9.725  1.00  0.00          PD  \nATOM    286   Pd MOL     1      -1.945   5.835   7.780  1.00  0.00          PD  \nATOM    287   Pt MOL     1      -3.890   3.890  11.670  1.00  0.00          PT  \nATOM    288   Pt MOL     1      -1.945   5.835  11.670  1.00  0.00          PT  \nATOM    289   Pt MOL     1      -1.945   7.780  -9.725  1.00  0.00          PT  \nATOM    290   Pt MOL     1      -3.890   7.780  -7.780  1.00  0.00          PT  \nATOM    291   Pt MOL     1      -3.890   9.725  -5.835  1.00  0.00          PT  \nATOM    292   Pd MOL     1      -1.945   7.780  -5.835  1.00  0.00          PD  \nATOM    293   Pt MOL     1      -1.945   9.725  -7.780  1.00  0.00          PT  \nATOM    294   Pd MOL     1      -3.890   7.780  -3.890  1.00  0.00          PD  \nATOM    295   Pd MOL     1      -3.890   9.725  -1.945  1.00  0.00          PD  \nATOM    296   Pd MOL     1      -1.945   7.780  -1.945  1.00  0.00          PD  \nATOM    297   Pd MOL     1      -1.945   9.725  -3.890  1.00  0.00          PD  \nATOM    298   Pd MOL     1      -3.890   7.780   0.000  1.00  0.00          PD  \nATOM    299   Pd MOL     1      -3.890   9.725   1.945  1.00  0.00          PD  \nATOM    300   Pd MOL     1      -1.945   7.780   1.945  1.00  0.00          PD  \nATOM    301   Pd MOL     1      -1.945   9.725   0.000  1.00  0.00          PD  \nATOM    302   Pd MOL     1      -3.890   7.780   3.890  1.00  0.00          PD  \nATOM    303   Pt MOL     1      -3.890   9.725   5.835  1.00  0.00          PT  \nATOM    304   Pd MOL     1      -1.945   7.780   5.835  1.00  0.00          PD  \nATOM    305   Pd MOL     1      -1.945   9.725   3.890  1.00  0.00          PD  \nATOM    306   Pt MOL     1      -3.890   7.780   7.780  1.00  0.00          PT  \nATOM    307   Pt MOL     1      -1.945   7.780   9.725  1.00  0.00          PT  \nATOM    308   Pt MOL     1      -1.945   9.725   7.780  1.00  0.00          PT  \nATOM    309   Pt MOL     1      -1.945  11.670  -5.835  1.00  0.00          PT  \nATOM    310   Pt MOL     1      -3.890  11.670  -3.890  1.00  0.00          PT  \nATOM    311   Pt MOL     1      -1.945  11.670  -1.945  1.00  0.00          PT  \nATOM    312   Pt MOL     1      -3.890  11.670   0.000  1.00  0.00          PT  \nATOM    313   Pt MOL     1      -1.945  11.670   1.945  1.00  0.00          PT  \nATOM    314   Pt MOL     1      -3.890  11.670   3.890  1.00  0.00          PT  \nATOM    315   Pt MOL     1      -1.945  11.670   5.835  1.00  0.00          PT  \nATOM    316   Pt MOL     1       0.000  -9.725  -9.725  1.00  0.00          PT  \nATOM    317   Pt MOL     1       0.000 -11.670  -7.780  1.00  0.00          PT  \nATOM    318   Pd MOL     1       0.000  -9.725  -5.835  1.00  0.00          PD  \nATOM    319   Pt MOL     1       1.945 -11.670  -5.835  1.00  0.00          PT  \nATOM    320   Pt MOL     1       1.945  -9.725  -7.780  1.00  0.00          PT  \nATOM    321   Pt MOL     1       0.000 -11.670  -3.890  1.00  0.00          PT  \nATOM    322   Pd MOL     1       0.000  -9.725  -1.945  1.00  0.00          PD  \nATOM    323   Pt MOL     1       1.945 -11.670  -1.945  1.00  0.00          PT  \nATOM    324   Pd MOL     1       1.945  -9.725  -3.890  1.00  0.00          PD  \nATOM    325   Pt MOL     1       0.000 -11.670   0.000  1.00  0.00          PT  \nATOM    326   Pd MOL     1       0.000  -9.725   1.945  1.00  0.00          PD  \nATOM    327   Pt MOL     1       1.945 -11.670   1.945  1.00  0.00          PT  \nATOM    328   Pd MOL     1       1.945  -9.725   0.000  1.00  0.00          PD  \nATOM    329   Pt MOL     1       0.000 -11.670   3.890  1.00  0.00          PT  \nATOM    330   Pd MOL     1       0.000  -9.725   5.835  1.00  0.00          PD  \nATOM    331   Pt MOL     1       1.945 -11.670   5.835  1.00  0.00          PT  \nATOM    332   Pd MOL     1       1.945  -9.725   3.890  1.00  0.00          PD  \nATOM    333   Pt MOL     1       0.000 -11.670   7.780  1.00  0.00          PT  \nATOM    334   Pt MOL     1       0.000  -9.725   9.725  1.00  0.00          PT  \nATOM    335   Pt MOL     1       1.945  -9.725   7.780  1.00  0.00          PT  \nATOM    336   Pt MOL     1       0.000  -7.780 -11.670  1.00  0.00          PT  \nATOM    337   Pd MOL     1       0.000  -5.835  -9.725  1.00  0.00          PD  \nATOM    338   Pt MOL     1       1.945  -7.780  -9.725  1.00  0.00          PT  \nATOM    339   Pt MOL     1       1.945  -5.835 -11.670  1.00  0.00          PT  \nATOM    340   Pd MOL     1       0.000  -7.780  -7.780  1.00  0.00          PD  \nATOM    341   Pd MOL     1       0.000  -5.835  -5.835  1.00  0.00          PD  \nATOM    342   Pd MOL     1       1.945  -7.780  -5.835  1.00  0.00          PD  \nATOM    343   Pd MOL     1       1.945  -5.835  -7.780  1.00  0.00          PD  \nATOM    344   Pd MOL     1       0.000  -7.780  -3.890  1.00  0.00          PD  \nATOM    345   Pd MOL     1       0.000  -5.835  -1.945  1.00  0.00          PD  \nATOM    346   Pd MOL     1       1.945  -7.780  -1.945  1.00  0.00          PD  \nATOM    347   Pd MOL     1       1.945  -5.835  -3.890  1.00  0.00          PD  \nATOM    348   Pd MOL     1       0.000  -7.780   0.000  1.00  0.00          PD  \nATOM    349   Pd MOL     1       0.000  -5.835   1.945  1.00  0.00          PD  \nATOM    350   Pd MOL     1       1.945  -7.780   1.945  1.00  0.00          PD  \nATOM    351   Pd MOL     1       1.945  -5.835   0.000  1.00  0.00          PD  \nATOM    352   Pd MOL     1       0.000  -7.780   3.890  1.00  0.00          PD  \nATOM    353   Pd MOL     1       0.000  -5.835   5.835  1.00  0.00          PD  \nATOM    354   Pd MOL     1       1.945  -7.780   5.835  1.00  0.00          PD  \nATOM    355   Pd MOL     1       1.945  -5.835   3.890  1.00  0.00          PD  \nATOM    356   Pd MOL     1       0.000  -7.780   7.780  1.00  0.00          PD  \nATOM    357   Pd MOL     1       0.000  -5.835   9.725  1.00  0.00          PD  \nATOM    358   Pt MOL     1       1.945  -7.780   9.725  1.00  0.00          PT  \nATOM    359   Pd MOL     1       1.945  -5.835   7.780  1.00  0.00          PD  \nATOM    360   Pt MOL     1       0.000  -7.780  11.670  1.00  0.00          PT  \nATOM    361   Pt MOL     1       1.945  -5.835  11.670  1.00  0.00          PT  \nATOM    362   Pt MOL     1       0.000  -3.890 -11.670  1.00  0.00          PT  \nATOM    363   Pd MOL     1       0.000  -1.945  -9.725  1.00  0.00          PD  \nATOM    364   Pd MOL     1       1.945  -3.890  -9.725  1.00  0.00          PD  \nATOM    365   Pt MOL     1       1.945  -1.945 -11.670  1.00  0.00          PT  \nATOM    366   Pd MOL     1       0.000  -3.890  -7.780  1.00  0.00          PD  \nATOM    367   Pd MOL     1       0.000  -1.945  -5.835  1.00  0.00          PD  \nATOM    368   Pd MOL     1       1.945  -3.890  -5.835  1.00  0.00          PD  \nATOM    369   Pd MOL     1       1.945  -1.945  -7.780  1.00  0.00          PD  \nATOM    370   Pd MOL     1       0.000  -3.890  -3.890  1.00  0.00          PD  \nATOM    371   Pd MOL     1       0.000  -1.945  -1.945  1.00  0.00          PD  \nATOM    372   Pd MOL     1       1.945  -3.890  -1.945  1.00  0.00          PD  \nATOM    373   Pd MOL     1       1.945  -1.945  -3.890  1.00  0.00          PD  \nATOM    374   Pd MOL     1       0.000  -3.890   0.000  1.00  0.00          PD  \nATOM    375   Pd MOL     1       0.000  -1.945   1.945  1.00  0.00          PD  \nATOM    376   Pd MOL     1       1.945  -3.890   1.945  1.00  0.00          PD  \nATOM    377   Pd MOL     1       1.945  -1.945   0.000  1.00  0.00          PD  \nATOM    378   Pd MOL     1       0.000  -3.890   3.890  1.00  0.00          PD  \nATOM    379   Pd MOL     1       0.000  -1.945   5.835  1.00  0.00          PD  \nATOM    380   Pd MOL     1       1.945  -3.890   5.835  1.00  0.00          PD  \nATOM    381   Pd MOL     1       1.945  -1.945   3.890  1.00  0.00          PD  \nATOM    382   Pd MOL     1       0.000  -3.890   7.780  1.00  0.00          PD  \nATOM    383   Pd MOL     1       0.000  -1.945   9.725  1.00  0.00          PD  \nATOM    384   Pd MOL     1       1.945  -3.890   9.725  1.00  0.00          PD  \nATOM    385   Pd MOL     1       1.945  -1.945   7.780  1.00  0.00          PD  \nATOM    386   Pt MOL     1       0.000  -3.890  11.670  1.00  0.00          PT  \nATOM    387   Pt MOL     1       1.945  -1.945  11.670  1.00  0.00          PT  \nATOM    388   Pt MOL     1       0.000   0.000 -11.670  1.00  0.00          PT  \nATOM    389   Pd MOL     1       0.000   1.945  -9.725  1.00  0.00          PD  \nATOM    390   Pd MOL     1       1.945   0.000  -9.725  1.00  0.00          PD  \nATOM    391   Pt MOL     1       1.945   1.945 -11.670  1.00  0.00          PT  \nATOM    392   Pd MOL     1       0.000   0.000  -7.780  1.00  0.00          PD  \nATOM    393   Pd MOL     1       0.000   1.945  -5.835  1.00  0.00          PD  \nATOM    394   Pd MOL     1       1.945   0.000  -5.835  1.00  0.00          PD  \nATOM    395   Pd MOL     1       1.945   1.945  -7.780  1.00  0.00          PD  \nATOM    396   Pd MOL     1       0.000   0.000  -3.890  1.00  0.00          PD  \nATOM    397   Pd MOL     1       0.000   1.945  -1.945  1.00  0.00          PD  \nATOM    398   Pd MOL     1       1.945   0.000  -1.945  1.00  0.00          PD  \nATOM    399   Pd MOL     1       1.945   1.945  -3.890  1.00  0.00          PD  \nATOM    400   Pd MOL     1       0.000   0.000   0.000  1.00  0.00          PD  \nATOM    401   Pd MOL     1       0.000   1.945   1.945  1.00  0.00          PD  \nATOM    402   Pd MOL     1       1.945   0.000   1.945  1.00  0.00          PD  \nATOM    403   Pd MOL     1       1.945   1.945   0.000  1.00  0.00          PD  \nATOM    404   Pd MOL     1       0.000   0.000   3.890  1.00  0.00          PD  \nATOM    405   Pd MOL     1       0.000   1.945   5.835  1.00  0.00          PD  \nATOM    406   Pd MOL     1       1.945   0.000   5.835  1.00  0.00          PD  \nATOM    407   Pd MOL     1       1.945   1.945   3.890  1.00  0.00          PD  \nATOM    408   Pd MOL     1       0.000   0.000   7.780  1.00  0.00          PD  \nATOM    409   Pd MOL     1       0.000   1.945   9.725  1.00  0.00          PD  \nATOM    410   Pd MOL     1       1.945   0.000   9.725  1.00  0.00          PD  \nATOM    411   Pd MOL     1       1.945   1.945   7.780  1.00  0.00          PD  \nATOM    412   Pt MOL     1       0.000   0.000  11.670  1.00  0.00          PT  \nATOM    413   Pt MOL     1       1.945   1.945  11.670  1.00  0.00          PT  \nATOM    414   Pt MOL     1       0.000   3.890 -11.670  1.00  0.00          PT  \nATOM    415   Pd MOL     1       0.000   5.835  -9.725  1.00  0.00          PD  \nATOM    416   Pd MOL     1       1.945   3.890  -9.725  1.00  0.00          PD  \nATOM    417   Pt MOL     1       1.945   5.835 -11.670  1.00  0.00          PT  \nATOM    418   Pd MOL     1       0.000   3.890  -7.780  1.00  0.00          PD  \nATOM    419   Pd MOL     1       0.000   5.835  -5.835  1.00  0.00          PD  \nATOM    420   Pd MOL     1       1.945   3.890  -5.835  1.00  0.00          PD  \nATOM    421   Pd MOL     1       1.945   5.835  -7.780  1.00  0.00          PD  \nATOM    422   Pd MOL     1       0.000   3.890  -3.890  1.00  0.00          PD  \nATOM    423   Pd MOL     1       0.000   5.835  -1.945  1.00  0.00          PD  \nATOM    424   Pd MOL     1       1.945   3.890  -1.945  1.00  0.00          PD  \nATOM    425   Pd MOL     1       1.945   5.835  -3.890  1.00  0.00          PD  \nATOM    426   Pd MOL     1       0.000   3.890   0.000  1.00  0.00          PD  \nATOM    427   Pd MOL     1       0.000   5.835   1.945  1.00  0.00          PD  \nATOM    428   Pd MOL     1       1.945   3.890   1.945  1.00  0.00          PD  \nATOM    429   Pd MOL     1       1.945   5.835   0.000  1.00  0.00          PD  \nATOM    430   Pd MOL     1       0.000   3.890   3.890  1.00  0.00          PD  \nATOM    431   Pd MOL     1       0.000   5.835   5.835  1.00  0.00          PD  \nATOM    432   Pd MOL     1       1.945   3.890   5.835  1.00  0.00          PD  \nATOM    433   Pd MOL     1       1.945   5.835   3.890  1.00  0.00          PD  \nATOM    434   Pd MOL     1       0.000   3.890   7.780  1.00  0.00          PD  \nATOM    435   Pd MOL     1       0.000   5.835   9.725  1.00  0.00          PD  \nATOM    436   Pd MOL     1       1.945   3.890   9.725  1.00  0.00          PD  \nATOM    437   Pd MOL     1       1.945   5.835   7.780  1.00  0.00          PD  \nATOM    438   Pt MOL     1       0.000   3.890  11.670  1.00  0.00          PT  \nATOM    439   Pt MOL     1       1.945   5.835  11.670  1.00  0.00          PT  \nATOM    440   Pt MOL     1       0.000   7.780 -11.670  1.00  0.00          PT  \nATOM    441   Pt MOL     1       0.000   9.725  -9.725  1.00  0.00          PT  \nATOM    442   Pt MOL     1       1.945   7.780  -9.725  1.00  0.00          PT  \nATOM    443   Pd MOL     1       0.000   7.780  -7.780  1.00  0.00          PD  \nATOM    444   Pd MOL     1       0.000   9.725  -5.835  1.00  0.00          PD  \nATOM    445   Pd MOL     1       1.945   7.780  -5.835  1.00  0.00          PD  \nATOM    446   Pt MOL     1       1.945   9.725  -7.780  1.00  0.00          PT  \nATOM    447   Pd MOL     1       0.000   7.780  -3.890  1.00  0.00          PD  \nATOM    448   Pd MOL     1       0.000   9.725  -1.945  1.00  0.00          PD  \nATOM    449   Pd MOL     1       1.945   7.780  -1.945  1.00  0.00          PD  \nATOM    450   Pd MOL     1       1.945   9.725  -3.890  1.00  0.00          PD  \nATOM    451   Pd MOL     1       0.000   7.780   0.000  1.00  0.00          PD  \nATOM    452   Pd MOL     1       0.000   9.725   1.945  1.00  0.00          PD  \nATOM    453   Pd MOL     1       1.945   7.780   1.945  1.00  0.00          PD  \nATOM    454   Pd MOL     1       1.945   9.725   0.000  1.00  0.00          PD  \nATOM    455   Pd MOL     1       0.000   7.780   3.890  1.00  0.00          PD  \nATOM    456   Pd MOL     1       0.000   9.725   5.835  1.00  0.00          PD  \nATOM    457   Pd MOL     1       1.945   7.780   5.835  1.00  0.00          PD  \nATOM    458   Pd MOL     1       1.945   9.725   3.890  1.00  0.00          PD  \nATOM    459   Pd MOL     1       0.000   7.780   7.780  1.00  0.00          PD  \nATOM    460   Pt MOL     1       0.000   9.725   9.725  1.00  0.00          PT  \nATOM    461   Pt MOL     1       1.945   7.780   9.725  1.00  0.00          PT  \nATOM    462   Pt MOL     1       1.945   9.725   7.780  1.00  0.00          PT  \nATOM    463   Pt MOL     1       0.000   7.780  11.670  1.00  0.00          PT  \nATOM    464   Pt MOL     1       0.000  11.670  -7.780  1.00  0.00          PT  \nATOM    465   Pt MOL     1       1.945  11.670  -5.835  1.00  0.00          PT  \nATOM    466   Pt MOL     1       0.000  11.670  -3.890  1.00  0.00          PT  \nATOM    467   Pt MOL     1       1.945  11.670  -1.945  1.00  0.00          PT  \nATOM    468   Pt MOL     1       0.000  11.670   0.000  1.00  0.00          PT  \nATOM    469   Pt MOL     1       1.945  11.670   1.945  1.00  0.00          PT  \nATOM    470   Pt MOL     1       0.000  11.670   3.890  1.00  0.00          PT  \nATOM    471   Pt MOL     1       1.945  11.670   5.835  1.00  0.00          PT  \nATOM    472   Pt MOL     1       0.000  11.670   7.780  1.00  0.00          PT  \nATOM    473   Pt MOL     1       3.890  -9.725  -5.835  1.00  0.00          PT  \nATOM    474   Pt MOL     1       3.890 -11.670  -3.890  1.00  0.00          PT  \nATOM    475   Pd MOL     1       3.890  -9.725  -1.945  1.00  0.00          PD  \nATOM    476   Pt MOL     1       5.835 -11.670  -1.945  1.00  0.00          PT  \nATOM    477   Pt MOL     1       5.835  -9.725  -3.890  1.00  0.00          PT  \nATOM    478   Pt MOL     1       3.890 -11.670   0.000  1.00  0.00          PT  \nATOM    479   Pd MOL     1       3.890  -9.725   1.945  1.00  0.00          PD  \nATOM    480   Pt MOL     1       5.835 -11.670   1.945  1.00  0.00          PT  \nATOM    481   Pd MOL     1       5.835  -9.725   0.000  1.00  0.00          PD  \nATOM    482   Pt MOL     1       3.890 -11.670   3.890  1.00  0.00          PT  \nATOM    483   Pt MOL     1       3.890  -9.725   5.835  1.00  0.00          PT  \nATOM    484   Pt MOL     1       5.835  -9.725   3.890  1.00  0.00          PT  \nATOM    485   Pt MOL     1       3.890  -5.835  -9.725  1.00  0.00          PT  \nATOM    486   Pt MOL     1       3.890  -7.780  -7.780  1.00  0.00          PT  \nATOM    487   Pd MOL     1       3.890  -5.835  -5.835  1.00  0.00          PD  \nATOM    488   Pt MOL     1       5.835  -7.780  -5.835  1.00  0.00          PT  \nATOM    489   Pt MOL     1       5.835  -5.835  -7.780  1.00  0.00          PT  \nATOM    490   Pd MOL     1       3.890  -7.780  -3.890  1.00  0.00          PD  \nATOM    491   Pd MOL     1       3.890  -5.835  -1.945  1.00  0.00          PD  \nATOM    492   Pd MOL     1       5.835  -7.780  -1.945  1.00  0.00          PD  \nATOM    493   Pd MOL     1       5.835  -5.835  -3.890  1.00  0.00          PD  \nATOM    494   Pd MOL     1       3.890  -7.780   0.000  1.00  0.00          PD  \nATOM    495   Pd MOL     1       3.890  -5.835   1.945  1.00  0.00          PD  \nATOM    496   Pd MOL     1       5.835  -7.780   1.945  1.00  0.00          PD  \nATOM    497   Pd MOL     1       5.835  -5.835   0.000  1.00  0.00          PD  \nATOM    498   Pd MOL     1       3.890  -7.780   3.890  1.00  0.00          PD  \nATOM    499   Pd MOL     1       3.890  -5.835   5.835  1.00  0.00          PD  \nATOM    500   Pt MOL     1       5.835  -7.780   5.835  1.00  0.00          PT  \nATOM    501   Pd MOL     1       5.835  -5.835   3.890  1.00  0.00          PD  \nATOM    502   Pt MOL     1       3.890  -7.780   7.780  1.00  0.00          PT  \nATOM    503   Pt MOL     1       3.890  -5.835   9.725  1.00  0.00          PT  \nATOM    504   Pt MOL     1       5.835  -5.835   7.780  1.00  0.00          PT  \nATOM    505   Pt MOL     1       3.890  -3.890 -11.670  1.00  0.00          PT  \nATOM    506   Pd MOL     1       3.890  -1.945  -9.725  1.00  0.00          PD  \nATOM    507   Pt MOL     1       5.835  -3.890  -9.725  1.00  0.00          PT  \nATOM    508   Pt MOL     1       5.835  -1.945 -11.670  1.00  0.00          PT  \nATOM    509   Pd MOL     1       3.890  -3.890  -7.780  1.00  0.00          PD  \nATOM    510   Pd MOL     1       3.890  -1.945  -5.835  1.00  0.00          PD  \nATOM    511   Pd MOL     1       5.835  -3.890  -5.835  1.00  0.00          PD  \nATOM    512   Pd MOL     1       5.835  -1.945  -7.780  1.00  0.00          PD  \nATOM    513   Pd MOL     1       3.890  -3.890  -3.890  1.00  0.00          PD  \nATOM    514   Pd MOL     1       3.890  -1.945  -1.945  1.00  0.00          PD  \nATOM    515   Pd MOL     1       5.835  -3.890  -1.945  1.00  0.00          PD  \nATOM    516   Pd MOL     1       5.835  -1.945  -3.890  1.00  0.00          PD  \nATOM    517   Pd MOL     1       3.890  -3.890   0.000  1.00  0.00          PD  \nATOM    518   Pd MOL     1       3.890  -1.945   1.945  1.00  0.00          PD  \nATOM    519   Pd MOL     1       5.835  -3.890   1.945  1.00  0.00          PD  \nATOM    520   Pd MOL     1       5.835  -1.945   0.000  1.00  0.00          PD  \nATOM    521   Pd MOL     1       3.890  -3.890   3.890  1.00  0.00          PD  \nATOM    522   Pd MOL     1       3.890  -1.945   5.835  1.00  0.00          PD  \nATOM    523   Pd MOL     1       5.835  -3.890   5.835  1.00  0.00          PD  \nATOM    524   Pd MOL     1       5.835  -1.945   3.890  1.00  0.00          PD  \nATOM    525   Pd MOL     1       3.890  -3.890   7.780  1.00  0.00          PD  \nATOM    526   Pd MOL     1       3.890  -1.945   9.725  1.00  0.00          PD  \nATOM    527   Pt MOL     1       5.835  -3.890   9.725  1.00  0.00          PT  \nATOM    528   Pd MOL     1       5.835  -1.945   7.780  1.00  0.00          PD  \nATOM    529   Pt MOL     1       3.890  -3.890  11.670  1.00  0.00          PT  \nATOM    530   Pt MOL     1       5.835  -1.945  11.670  1.00  0.00          PT  \nATOM    531   Pt MOL     1       3.890   0.000 -11.670  1.00  0.00          PT  \nATOM    532   Pd MOL     1       3.890   1.945  -9.725  1.00  0.00          PD  \nATOM    533   Pd MOL     1       5.835   0.000  -9.725  1.00  0.00          PD  \nATOM    534   Pt MOL     1       5.835   1.945 -11.670  1.00  0.00          PT  \nATOM    535   Pd MOL     1       3.890   0.000  -7.780  1.00  0.00          PD  \nATOM    536   Pd MOL     1       3.890   1.945  -5.835  1.00  0.00          PD  \nATOM    537   Pd MOL     1       5.835   0.000  -5.835  1.00  0.00          PD  \nATOM    538   Pd MOL     1       5.835   1.945  -7.780  1.00  0.00          PD  \nATOM    539   Pd MOL     1       3.890   0.000  -3.890  1.00  0.00          PD  \nATOM    540   Pd MOL     1       3.890   1.945  -1.945  1.00  0.00          PD  \nATOM    541   Pd MOL     1       5.835   0.000  -1.945  1.00  0.00          PD  \nATOM    542   Pd MOL     1       5.835   1.945  -3.890  1.00  0.00          PD  \nATOM    543   Pd MOL     1       3.890   0.000   0.000  1.00  0.00          PD  \nATOM    544   Pd MOL     1       3.890   1.945   1.945  1.00  0.00          PD  \nATOM    545   Pd MOL     1       5.835   0.000   1.945  1.00  0.00          PD  \nATOM    546   Pd MOL     1       5.835   1.945   0.000  1.00  0.00          PD  \nATOM    547   Pd MOL     1       3.890   0.000   3.890  1.00  0.00          PD  \nATOM    548   Pd MOL     1       3.890   1.945   5.835  1.00  0.00          PD  \nATOM    549   Pd MOL     1       5.835   0.000   5.835  1.00  0.00          PD  \nATOM    550   Pd MOL     1       5.835   1.945   3.890  1.00  0.00          PD  \nATOM    551   Pd MOL     1       3.890   0.000   7.780  1.00  0.00          PD  \nATOM    552   Pd MOL     1       3.890   1.945   9.725  1.00  0.00          PD  \nATOM    553   Pd MOL     1       5.835   0.000   9.725  1.00  0.00          PD  \nATOM    554   Pd MOL     1       5.835   1.945   7.780  1.00  0.00          PD  \nATOM    555   Pt MOL     1       3.890   0.000  11.670  1.00  0.00          PT  \nATOM    556   Pt MOL     1       5.835   1.945  11.670  1.00  0.00          PT  \nATOM    557   Pt MOL     1       3.890   3.890 -11.670  1.00  0.00          PT  \nATOM    558   Pt MOL     1       3.890   5.835  -9.725  1.00  0.00          PT  \nATOM    559   Pt MOL     1       5.835   3.890  -9.725  1.00  0.00          PT  \nATOM    560   Pd MOL     1       3.890   3.890  -7.780  1.00  0.00          PD  \nATOM    561   Pd MOL     1       3.890   5.835  -5.835  1.00  0.00          PD  \nATOM    562   Pd MOL     1       5.835   3.890  -5.835  1.00  0.00          PD  \nATOM    563   Pt MOL     1       5.835   5.835  -7.780  1.00  0.00          PT  \nATOM    564   Pd MOL     1       3.890   3.890  -3.890  1.00  0.00          PD  \nATOM    565   Pd MOL     1       3.890   5.835  -1.945  1.00  0.00          PD  \nATOM    566   Pd MOL     1       5.835   3.890  -1.945  1.00  0.00          PD  \nATOM    567   Pd MOL     1       5.835   5.835  -3.890  1.00  0.00          PD  \nATOM    568   Pd MOL     1       3.890   3.890   0.000  1.00  0.00          PD  \nATOM    569   Pd MOL     1       3.890   5.835   1.945  1.00  0.00          PD  \nATOM    570   Pd MOL     1       5.835   3.890   1.945  1.00  0.00          PD  \nATOM    571   Pd MOL     1       5.835   5.835   0.000  1.00  0.00          PD  \nATOM    572   Pd MOL     1       3.890   3.890   3.890  1.00  0.00          PD  \nATOM    573   Pd MOL     1       3.890   5.835   5.835  1.00  0.00          PD  \nATOM    574   Pd MOL     1       5.835   3.890   5.835  1.00  0.00          PD  \nATOM    575   Pd MOL     1       5.835   5.835   3.890  1.00  0.00          PD  \nATOM    576   Pd MOL     1       3.890   3.890   7.780  1.00  0.00          PD  \nATOM    577   Pt MOL     1       3.890   5.835   9.725  1.00  0.00          PT  \nATOM    578   Pt MOL     1       5.835   3.890   9.725  1.00  0.00          PT  \nATOM    579   Pt MOL     1       5.835   5.835   7.780  1.00  0.00          PT  \nATOM    580   Pt MOL     1       3.890   3.890  11.670  1.00  0.00          PT  \nATOM    581   Pt MOL     1       3.890   7.780  -7.780  1.00  0.00          PT  \nATOM    582   Pt MOL     1       3.890   9.725  -5.835  1.00  0.00          PT  \nATOM    583   Pt MOL     1       5.835   7.780  -5.835  1.00  0.00          PT  \nATOM    584   Pd MOL     1       3.890   7.780  -3.890  1.00  0.00          PD  \nATOM    585   Pd MOL     1       3.890   9.725  -1.945  1.00  0.00          PD  \nATOM    586   Pd MOL     1       5.835   7.780  -1.945  1.00  0.00          PD  \nATOM    587   Pt MOL     1       5.835   9.725  -3.890  1.00  0.00          PT  \nATOM    588   Pd MOL     1       3.890   7.780   0.000  1.00  0.00          PD  \nATOM    589   Pd MOL     1       3.890   9.725   1.945  1.00  0.00          PD  \nATOM    590   Pd MOL     1       5.835   7.780   1.945  1.00  0.00          PD  \nATOM    591   Pd MOL     1       5.835   9.725   0.000  1.00  0.00          PD  \nATOM    592   Pd MOL     1       3.890   7.780   3.890  1.00  0.00          PD  \nATOM    593   Pt MOL     1       3.890   9.725   5.835  1.00  0.00          PT  \nATOM    594   Pt MOL     1       5.835   7.780   5.835  1.00  0.00          PT  \nATOM    595   Pt MOL     1       5.835   9.725   3.890  1.00  0.00          PT  \nATOM    596   Pt MOL     1       3.890   7.780   7.780  1.00  0.00          PT  \nATOM    597   Pt MOL     1       3.890  11.670  -3.890  1.00  0.00          PT  \nATOM    598   Pt MOL     1       5.835  11.670  -1.945  1.00  0.00          PT  \nATOM    599   Pt MOL     1       3.890  11.670   0.000  1.00  0.00          PT  \nATOM    600   Pt MOL     1       5.835  11.670   1.945  1.00  0.00          PT  \nATOM    601   Pt MOL     1       3.890  11.670   3.890  1.00  0.00          PT  \nATOM    602   Pt MOL     1       7.780  -9.725  -1.945  1.00  0.00          PT  \nATOM    603   Pt MOL     1       7.780 -11.670   0.000  1.00  0.00          PT  \nATOM    604   Pt MOL     1       7.780  -9.725   1.945  1.00  0.00          PT  \nATOM    605   Pt MOL     1       9.725  -9.725   0.000  1.00  0.00          PT  \nATOM    606   Pt MOL     1       7.780  -5.835  -5.835  1.00  0.00          PT  \nATOM    607   Pt MOL     1       7.780  -7.780  -3.890  1.00  0.00          PT  \nATOM    608   Pd MOL     1       7.780  -5.835  -1.945  1.00  0.00          PD  \nATOM    609   Pt MOL     1       9.725  -7.780  -1.945  1.00  0.00          PT  \nATOM    610   Pt MOL     1       9.725  -5.835  -3.890  1.00  0.00          PT  \nATOM    611   Pd MOL     1       7.780  -7.780   0.000  1.00  0.00          PD  \nATOM    612   Pd MOL     1       7.780  -5.835   1.945  1.00  0.00          PD  \nATOM    613   Pt MOL     1       9.725  -7.780   1.945  1.00  0.00          PT  \nATOM    614   Pd MOL     1       9.725  -5.835   0.000  1.00  0.00          PD  \nATOM    615   Pt MOL     1       7.780  -7.780   3.890  1.00  0.00          PT  \nATOM    616   Pt MOL     1       7.780  -5.835   5.835  1.00  0.00          PT  \nATOM    617   Pt MOL     1       9.725  -5.835   3.890  1.00  0.00          PT  \nATOM    618   Pt MOL     1       7.780  -1.945  -9.725  1.00  0.00          PT  \nATOM    619   Pt MOL     1       7.780  -3.890  -7.780  1.00  0.00          PT  \nATOM    620   Pd MOL     1       7.780  -1.945  -5.835  1.00  0.00          PD  \nATOM    621   Pt MOL     1       9.725  -3.890  -5.835  1.00  0.00          PT  \nATOM    622   Pt MOL     1       9.725  -1.945  -7.780  1.00  0.00          PT  \nATOM    623   Pd MOL     1       7.780  -3.890  -3.890  1.00  0.00          PD  \nATOM    624   Pd MOL     1       7.780  -1.945  -1.945  1.00  0.00          PD  \nATOM    625   Pd MOL     1       9.725  -3.890  -1.945  1.00  0.00          PD  \nATOM    626   Pd MOL     1       9.725  -1.945  -3.890  1.00  0.00          PD  \nATOM    627   Pd MOL     1       7.780  -3.890   0.000  1.00  0.00          PD  \nATOM    628   Pd MOL     1       7.780  -1.945   1.945  1.00  0.00          PD  \nATOM    629   Pd MOL     1       9.725  -3.890   1.945  1.00  0.00          PD  \nATOM    630   Pd MOL     1       9.725  -1.945   0.000  1.00  0.00          PD  \nATOM    631   Pd MOL     1       7.780  -3.890   3.890  1.00  0.00          PD  \nATOM    632   Pd MOL     1       7.780  -1.945   5.835  1.00  0.00          PD  \nATOM    633   Pt MOL     1       9.725  -3.890   5.835  1.00  0.00          PT  \nATOM    634   Pd MOL     1       9.725  -1.945   3.890  1.00  0.00          PD  \nATOM    635   Pt MOL     1       7.780  -3.890   7.780  1.00  0.00          PT  \nATOM    636   Pt MOL     1       7.780  -1.945   9.725  1.00  0.00          PT  \nATOM    637   Pt MOL     1       9.725  -1.945   7.780  1.00  0.00          PT  \nATOM    638   Pt MOL     1       7.780   0.000 -11.670  1.00  0.00          PT  \nATOM    639   Pt MOL     1       7.780   1.945  -9.725  1.00  0.00          PT  \nATOM    640   Pt MOL     1       9.725   0.000  -9.725  1.00  0.00          PT  \nATOM    641   Pd MOL     1       7.780   0.000  -7.780  1.00  0.00          PD  \nATOM    642   Pd MOL     1       7.780   1.945  -5.835  1.00  0.00          PD  \nATOM    643   Pd MOL     1       9.725   0.000  -5.835  1.00  0.00          PD  \nATOM    644   Pt MOL     1       9.725   1.945  -7.780  1.00  0.00          PT  \nATOM    645   Pd MOL     1       7.780   0.000  -3.890  1.00  0.00          PD  \nATOM    646   Pd MOL     1       7.780   1.945  -1.945  1.00  0.00          PD  \nATOM    647   Pd MOL     1       9.725   0.000  -1.945  1.00  0.00          PD  \nATOM    648   Pd MOL     1       9.725   1.945  -3.890  1.00  0.00          PD  \nATOM    649   Pd MOL     1       7.780   0.000   0.000  1.00  0.00          PD  \nATOM    650   Pd MOL     1       7.780   1.945   1.945  1.00  0.00          PD  \nATOM    651   Pd MOL     1       9.725   0.000   1.945  1.00  0.00          PD  \nATOM    652   Pd MOL     1       9.725   1.945   0.000  1.00  0.00          PD  \nATOM    653   Pd MOL     1       7.780   0.000   3.890  1.00  0.00          PD  \nATOM    654   Pd MOL     1       7.780   1.945   5.835  1.00  0.00          PD  \nATOM    655   Pd MOL     1       9.725   0.000   5.835  1.00  0.00          PD  \nATOM    656   Pd MOL     1       9.725   1.945   3.890  1.00  0.00          PD  \nATOM    657   Pd MOL     1       7.780   0.000   7.780  1.00  0.00          PD  \nATOM    658   Pt MOL     1       7.780   1.945   9.725  1.00  0.00          PT  \nATOM    659   Pt MOL     1       9.725   0.000   9.725  1.00  0.00          PT  \nATOM    660   Pt MOL     1       9.725   1.945   7.780  1.00  0.00          PT  \nATOM    661   Pt MOL     1       7.780   0.000  11.670  1.00  0.00          PT  \nATOM    662   Pt MOL     1       7.780   3.890  -7.780  1.00  0.00          PT  \nATOM    663   Pt MOL     1       7.780   5.835  -5.835  1.00  0.00          PT  \nATOM    664   Pt MOL     1       9.725   3.890  -5.835  1.00  0.00          PT  \nATOM    665   Pd MOL     1       7.780   3.890  -3.890  1.00  0.00          PD  \nATOM    666   Pd MOL     1       7.780   5.835  -1.945  1.00  0.00          PD  \nATOM    667   Pd MOL     1       9.725   3.890  -1.945  1.00  0.00          PD  \nATOM    668   Pt MOL     1       9.725   5.835  -3.890  1.00  0.00          PT  \nATOM    669   Pd MOL     1       7.780   3.890   0.000  1.00  0.00          PD  \nATOM    670   Pd MOL     1       7.780   5.835   1.945  1.00  0.00          PD  \nATOM    671   Pd MOL     1       9.725   3.890   1.945  1.00  0.00          PD  \nATOM    672   Pd MOL     1       9.725   5.835   0.000  1.00  0.00          PD  \nATOM    673   Pd MOL     1       7.780   3.890   3.890  1.00  0.00          PD  \nATOM    674   Pt MOL     1       7.780   5.835   5.835  1.00  0.00          PT  \nATOM    675   Pt MOL     1       9.725   3.890   5.835  1.00  0.00          PT  \nATOM    676   Pt MOL     1       9.725   5.835   3.890  1.00  0.00          PT  \nATOM    677   Pt MOL     1       7.780   3.890   7.780  1.00  0.00          PT  \nATOM    678   Pt MOL     1       7.780   7.780  -3.890  1.00  0.00          PT  \nATOM    679   Pt MOL     1       7.780   9.725  -1.945  1.00  0.00          PT  \nATOM    680   Pt MOL     1       9.725   7.780  -1.945  1.00  0.00          PT  \nATOM    681   Pd MOL     1       7.780   7.780   0.000  1.00  0.00          PD  \nATOM    682   Pt MOL     1       7.780   9.725   1.945  1.00  0.00          PT  \nATOM    683   Pt MOL     1       9.725   7.780   1.945  1.00  0.00          PT  \nATOM    684   Pt MOL     1       9.725   9.725   0.000  1.00  0.00          PT  \nATOM    685   Pt MOL     1       7.780   7.780   3.890  1.00  0.00          PT  \nATOM    686   Pt MOL     1       7.780  11.670   0.000  1.00  0.00          PT  \nATOM    687   Pt MOL     1      11.670  -5.835  -1.945  1.00  0.00          PT  \nATOM    688   Pt MOL     1      11.670  -7.780   0.000  1.00  0.00          PT  \nATOM    689   Pt MOL     1      11.670  -5.835   1.945  1.00  0.00          PT  \nATOM    690   Pt MOL     1      11.670  -1.945  -5.835  1.00  0.00          PT  \nATOM    691   Pt MOL     1      11.670  -3.890  -3.890  1.00  0.00          PT  \nATOM    692   Pt MOL     1      11.670  -1.945  -1.945  1.00  0.00          PT  \nATOM    693   Pt MOL     1      11.670  -3.890   0.000  1.00  0.00          PT  \nATOM    694   Pt MOL     1      11.670  -1.945   1.945  1.00  0.00          PT  \nATOM    695   Pt MOL     1      11.670  -3.890   3.890  1.00  0.00          PT  \nATOM    696   Pt MOL     1      11.670  -1.945   5.835  1.00  0.00          PT  \nATOM    697   Pt MOL     1      11.670   0.000  -7.780  1.00  0.00          PT  \nATOM    698   Pt MOL     1      11.670   1.945  -5.835  1.00  0.00          PT  \nATOM    699   Pt MOL     1      11.670   0.000  -3.890  1.00  0.00          PT  \nATOM    700   Pt MOL     1      11.670   1.945  -1.945  1.00  0.00          PT  \nATOM    701   Pt MOL     1      11.670   0.000   0.000  1.00  0.00          PT  \nATOM    702   Pt MOL     1      11.670   1.945   1.945  1.00  0.00          PT  \nATOM    703   Pt MOL     1      11.670   0.000   3.890  1.00  0.00          PT  \nATOM    704   Pt MOL     1      11.670   1.945   5.835  1.00  0.00          PT  \nATOM    705   Pt MOL     1      11.670   0.000   7.780  1.00  0.00          PT  \nATOM    706   Pt MOL     1      11.670   3.890  -3.890  1.00  0.00          PT  \nATOM    707   Pt MOL     1      11.670   5.835  -1.945  1.00  0.00          PT  \nATOM    708   Pt MOL     1      11.670   3.890   0.000  1.00  0.00          PT  \nATOM    709   Pt MOL     1      11.670   5.835   1.945  1.00  0.00          PT  \nATOM    710   Pt MOL     1      11.670   3.890   3.890  1.00  0.00          PT  \nATOM    711   Pt MOL     1      11.670   7.780   0.000  1.00  0.00          PT  \nENDMDL\n",
           "type": "blob"
          }
         ],
         "kwargs": {
          "defaultRepresentation": false,
          "ext": "pdb"
         },
         "methodName": "loadFile",
         "reconstruc_color_scheme": false,
         "target": "Stage",
         "type": "call_method"
        },
        {
         "args": [
          "500px",
          "500px"
         ],
         "kwargs": {},
         "methodName": "setSize",
         "reconstruc_color_scheme": false,
         "target": "Widget",
         "type": "call_method"
        },
        {
         "args": [
          "unitcell"
         ],
         "component_index": 0,
         "kwargs": {
          "sele": "all"
         },
         "methodName": "addRepresentation",
         "reconstruc_color_scheme": false,
         "target": "compList",
         "type": "call_method"
        },
        {
         "args": [
          "spacefill"
         ],
         "component_index": 0,
         "kwargs": {
          "sele": "all"
         },
         "methodName": "addRepresentation",
         "reconstruc_color_scheme": false,
         "target": "compList",
         "type": "call_method"
        },
        {
         "args": [],
         "kwargs": {
          "cameraType": "orthographic"
         },
         "methodName": "setParameters",
         "reconstruc_color_scheme": false,
         "target": "Stage",
         "type": "call_method"
        },
        {
         "args": [
          {
           "clipDist": 0
          }
         ],
         "kwargs": {},
         "methodName": "setParameters",
         "reconstruc_color_scheme": false,
         "target": "Widget",
         "type": "call_method"
        },
        {
         "args": [
          "spacefill",
          0
         ],
         "kwargs": {
          "colorScale": "rainbow",
          "colorScheme": "element",
          "radiusScale": 0.5,
          "radiusType": "covalent"
         },
         "methodName": "updateRepresentationsByName",
         "reconstruc_color_scheme": false,
         "target": "Widget",
         "type": "call_method"
        },
        {
         "args": [
          "this._Q = [[1.0, 0.0, 0.0], [0.0, 1.0, 0.0], [0.0, 0.0, 1.0]]\n    var tooltip = document.createElement('div')\n    Object.assign(tooltip.style, {\n      display: 'none',\n      position: 'fixed',\n      zIndex: 10,\n      pointerEvents: 'none',\n      backgroundColor: 'rgba( 0, 0, 0, 0.6 )',\n      color: 'lightgrey',\n      padding: '8px',\n      fontFamily: 'sans-serif'\n    })\n    document.body.appendChild(tooltip)\n\n    var that = this\n    this.stage.mouseControls.remove('hoverPick')\n    this.stage.signals.hovered.add(function (pickingProxy) {\n      if (pickingProxy && (pickingProxy.atom || pickingProxy.bond)) {\n        var atom = pickingProxy.atom || pickingProxy.closestBondAtom\n        var mp = pickingProxy.mouse.position\n        //tooltip.innerText = atom.element + ' i=' + atom.index + ' (' + atom.x.toFixed(2) +  ', ' + atom.y.toFixed(2) +  ', ' + atom.z.toFixed(2) + ')'\n        //var pos = that._atoms_pos[atom.index]\n        var Q = that._Q\n        var pos_x = Q[0][0] * atom.x + Q[0][1] * atom.y + Q[0][2] * atom.z \n        var pos_y = Q[1][0] * atom.x + Q[1][1] * atom.y + Q[1][2] * atom.z\n        var pos_z = Q[2][0] * atom.x + Q[2][1] * atom.y + Q[2][2] * atom.z\n        tooltip.innerText = 'i=' + atom.index + ' ' + atom.element + ' (' + pos_x.toFixed(2) +  ', ' + pos_y.toFixed(2) +  ', ' + pos_z.toFixed(2) + ')'\n        tooltip.style.bottom = window.innerHeight - mp.y + 3 + 'px'\n        tooltip.style.left = mp.x + 3 + 'px'\n        tooltip.style.display = 'block'\n      } else {\n        tooltip.style.display = 'none'\n      }\n    })\n    "
         ],
         "kwargs": {},
         "methodName": "executeCode",
         "reconstruc_color_scheme": false,
         "target": "Widget",
         "type": "call_method"
        }
       ],
       "_ngl_original_stage_parameters": {
        "ambientColor": 14540253,
        "ambientIntensity": 0.2,
        "backgroundColor": "white",
        "cameraEyeSep": 0.3,
        "cameraFov": 40,
        "cameraType": "perspective",
        "clipDist": 10,
        "clipFar": 100,
        "clipNear": 0,
        "fogFar": 100,
        "fogNear": 50,
        "hoverTimeout": 0,
        "impostor": true,
        "lightColor": 14540253,
        "lightIntensity": 1,
        "mousePreset": "default",
        "panSpeed": 1,
        "quality": "medium",
        "rotateSpeed": 2,
        "sampleLevel": 0,
        "tooltip": true,
        "workerDefault": true,
        "zoomSpeed": 1.2
       },
       "_ngl_repr_dict": {
        "0": {
         "0": {
          "params": {
           "clipCenter": {
            "x": 0,
            "y": 0,
            "z": 0
           },
           "clipNear": 0,
           "clipRadius": 0,
           "colorMode": "hcl",
           "colorReverse": false,
           "colorScale": "",
           "colorScheme": "element",
           "colorValue": "orange",
           "defaultAssembly": "",
           "depthWrite": true,
           "diffuse": 16777215,
           "diffuseInterior": false,
           "disableImpostor": false,
           "disablePicking": false,
           "flatShaded": false,
           "interiorColor": 2236962,
           "interiorDarkening": 0,
           "lazy": false,
           "matrix": {
            "elements": [
             1,
             0,
             0,
             0,
             0,
             1,
             0,
             0,
             0,
             0,
             1,
             0,
             0,
             0,
             0,
             1
            ]
           },
           "metalness": 0,
           "opacity": 1,
           "quality": "medium",
           "radialSegments": 10,
           "radiusData": {},
           "radiusScale": 1,
           "radiusSize": 0.5,
           "radiusType": "vdw",
           "roughness": 0.4,
           "sele": "all",
           "side": "double",
           "sphereDetail": 1,
           "useInteriorColor": true,
           "visible": true,
           "wireframe": false
          },
          "type": "unitcell"
         },
         "1": {
          "params": {
           "assembly": "default",
           "clipCenter": {
            "x": 0,
            "y": 0,
            "z": 0
           },
           "clipNear": 0,
           "clipRadius": 0,
           "colorMode": "hcl",
           "colorReverse": false,
           "colorScale": "rainbow",
           "colorScheme": "element",
           "colorValue": 9474192,
           "defaultAssembly": "",
           "depthWrite": true,
           "diffuse": 16777215,
           "diffuseInterior": false,
           "disableImpostor": false,
           "disablePicking": false,
           "flatShaded": false,
           "interiorColor": 2236962,
           "interiorDarkening": 0,
           "lazy": false,
           "matrix": {
            "elements": [
             1,
             0,
             0,
             0,
             0,
             1,
             0,
             0,
             0,
             0,
             1,
             0,
             0,
             0,
             0,
             1
            ]
           },
           "metalness": 0,
           "opacity": 1,
           "quality": "medium",
           "radiusData": {},
           "radiusScale": 0.5,
           "radiusSize": 1,
           "radiusType": "covalent",
           "roughness": 0.4,
           "sele": "all",
           "side": "double",
           "sphereDetail": 1,
           "useInteriorColor": true,
           "visible": true,
           "wireframe": false
          },
          "type": "spacefill"
         }
        }
       },
       "_ngl_serialize": false,
       "_ngl_version": "2.0.0-dev.36",
       "_ngl_view_id": [
        "BBC2B744-B2DF-4F69-A858-535C91B99603"
       ],
       "_player_dict": {},
       "_scene_position": {},
       "_scene_rotation": {},
       "_synced_model_ids": [],
       "_synced_repr_model_ids": [],
       "_view_height": "",
       "_view_width": "",
       "background": "white",
       "frame": 0,
       "gui_style": null,
       "layout": "IPY_MODEL_c01d703daed74910a99b01f9c65cf0e0",
       "max_frame": 0,
       "n_components": 1,
       "picked": {}
      }
     },
     "834007efd5054b839e4fe93760450628": {
      "model_module": "@jupyter-widgets/controls",
      "model_module_version": "1.5.0",
      "model_name": "DropdownModel",
      "state": {
       "_options_labels": [
        " ",
        "picking",
        "random",
        "uniform",
        "atomindex",
        "residueindex",
        "chainindex",
        "modelindex",
        "sstruc",
        "element",
        "resname",
        "bfactor",
        "hydrophobicity",
        "value",
        "volume",
        "occupancy"
       ],
       "description": "Color scheme",
       "index": 9,
       "layout": "IPY_MODEL_ba0d4dde21e34c74ac17c130908bf4e0",
       "style": "IPY_MODEL_274a137b2f5a4e3fb4b4ad00205def4f"
      }
     },
     "8363b9aac493416ab26558bc08509459": {
      "model_module": "@jupyter-widgets/controls",
      "model_module_version": "1.5.0",
      "model_name": "SliderStyleModel",
      "state": {
       "description_width": ""
      }
     },
     "8374f4ec18c54c59bb95789a369e7ad1": {
      "model_module": "@jupyter-widgets/controls",
      "model_module_version": "1.5.0",
      "model_name": "LinkModel",
      "state": {
       "source": [
        "IPY_MODEL_fb3fcc7f6b1048ecbaa8f916fc474db9",
        "max"
       ],
       "target": [
        "IPY_MODEL_656057a30fa04e1c949439a1bff4cfb5",
        "max_frame"
       ]
      }
     },
     "83de84689e6b4a2d931b04f530e5dbab": {
      "model_module": "@jupyter-widgets/controls",
      "model_module_version": "1.5.0",
      "model_name": "DescriptionStyleModel",
      "state": {
       "description_width": ""
      }
     },
     "83f8bff32b8e44c585674b71b1c8b262": {
      "model_module": "@jupyter-widgets/controls",
      "model_module_version": "1.5.0",
      "model_name": "DescriptionStyleModel",
      "state": {
       "description_width": ""
      }
     },
     "8418cf4e9e5b45f3b620ad0cdecead1c": {
      "model_module": "@jupyter-widgets/base",
      "model_module_version": "1.2.0",
      "model_name": "LayoutModel",
      "state": {}
     },
     "84a26f4a671f4d79bf6bc2083ca7d6fe": {
      "model_module": "@jupyter-widgets/base",
      "model_module_version": "1.2.0",
      "model_name": "LayoutModel",
      "state": {
       "width": "34px"
      }
     },
     "84c1678ed2f3465caa661d5cce95205b": {
      "model_module": "@jupyter-widgets/base",
      "model_module_version": "1.2.0",
      "model_name": "LayoutModel",
      "state": {}
     },
     "84dfef29df8f4f0aa21b144ff11c7028": {
      "model_module": "@jupyter-widgets/controls",
      "model_module_version": "1.5.0",
      "model_name": "VBoxModel",
      "state": {
       "children": [
        "IPY_MODEL_d354001100b146128ab17e245786695b",
        "IPY_MODEL_900c6c4c1d974fd89c159a349b9034ae",
        "IPY_MODEL_e5d3ee436ac446879e9bafa25a790b97",
        "IPY_MODEL_d072eb9202fb4841ac88668e432d90b6",
        "IPY_MODEL_32d329d64b3d4bd6b45d1e3c588f9f6a",
        "IPY_MODEL_40f2551986a74a31ae2c14a882b834ac",
        "IPY_MODEL_76a1e4b6be7043e29266bbc12d1c6d5e",
        "IPY_MODEL_602d7cbee62d4a058cd43ed499fb1717",
        "IPY_MODEL_5c8317c8d0244f0882598a31c68d585e",
        "IPY_MODEL_8cb3d697d9d44ca7b63d3b223fe196fc"
       ],
       "layout": "IPY_MODEL_c3732f395a0347fca75ce9886b2e5be6"
      }
     },
     "84ec754fa1d541c0bd4515d85a671338": {
      "model_module": "nglview-js-widgets",
      "model_module_version": "3.0.1",
      "model_name": "NGLModel",
      "state": {
       "_camera_orientation": [
        43.228424188868175,
        0,
        0,
        0,
        0,
        43.228424188868175,
        0,
        0,
        0,
        0,
        43.228424188868175,
        0,
        -12.161999702453613,
        -13.006999969482422,
        -6.303500175476074,
        1
       ],
       "_camera_str": "orthographic",
       "_gui_theme": null,
       "_ibtn_fullscreen": "IPY_MODEL_483274c110924e4b985069023cc9305e",
       "_igui": null,
       "_iplayer": "IPY_MODEL_3f79d6e1aa664ea097e018b4dab1374a",
       "_ngl_color_dict": {},
       "_ngl_coordinate_resource": {},
       "_ngl_full_stage_parameters": {
        "ambientColor": 14540253,
        "ambientIntensity": 0.2,
        "backgroundColor": "white",
        "cameraEyeSep": 0.3,
        "cameraFov": 40,
        "cameraType": "orthographic",
        "clipDist": 0,
        "clipFar": 100,
        "clipNear": 0,
        "fogFar": 100,
        "fogNear": 50,
        "hoverTimeout": 0,
        "impostor": true,
        "lightColor": 14540253,
        "lightIntensity": 1,
        "mousePreset": "default",
        "panSpeed": 1,
        "quality": "medium",
        "rotateSpeed": 2,
        "sampleLevel": 0,
        "tooltip": true,
        "workerDefault": true,
        "zoomSpeed": 1.2
       },
       "_ngl_msg_archive": [
        {
         "args": [
          {
           "binary": false,
           "data": "CRYST1   25.946   27.336   27.336  90.00  90.00  90.00 P 1\nMODEL     1\nATOM      1   Sn MOL     1       1.622   3.417   4.739  1.00  0.00          SN  \nATOM      2   Sn MOL     1       1.622   0.000   1.322  1.00  0.00          SN  \nATOM      3   Sn MOL     1       0.000   3.417   1.322  1.00  0.00          SN  \nATOM      4   Sn MOL     1       0.000   0.000   4.739  1.00  0.00          SN  \nATOM      5    O MOL     1       1.622   1.322   4.739  1.00  0.00           O  \nATOM      6    O MOL     1       1.622   4.739   1.322  1.00  0.00           O  \nATOM      7    O MOL     1       1.622   5.512   4.739  1.00  0.00           O  \nATOM      8    O MOL     1       1.622   2.095   1.322  1.00  0.00           O  \nATOM      9    O MOL     1       0.000   3.417   6.061  1.00  0.00           O  \nATOM     10    O MOL     1       0.000   0.000   2.644  1.00  0.00           O  \nATOM     11    O MOL     1       0.000   3.417   3.417  1.00  0.00           O  \nATOM     12    O MOL     1       0.000   0.000   0.000  1.00  0.00           O  \nATOM     13   Sn MOL     1       1.622  10.251   4.739  1.00  0.00          SN  \nATOM     14   Sn MOL     1       1.622   6.834   1.322  1.00  0.00          SN  \nATOM     15   Sn MOL     1       0.000  10.251   1.322  1.00  0.00          SN  \nATOM     16   Sn MOL     1       0.000   6.834   4.739  1.00  0.00          SN  \nATOM     17    O MOL     1       1.622   8.156   4.739  1.00  0.00           O  \nATOM     18    O MOL     1       1.622  11.573   1.322  1.00  0.00           O  \nATOM     19    O MOL     1       1.622  12.346   4.739  1.00  0.00           O  \nATOM     20    O MOL     1       1.622   8.929   1.322  1.00  0.00           O  \nATOM     21    O MOL     1       0.000  10.251   6.061  1.00  0.00           O  \nATOM     22    O MOL     1       0.000   6.834   2.644  1.00  0.00           O  \nATOM     23    O MOL     1       0.000  10.251   3.417  1.00  0.00           O  \nATOM     24    O MOL     1       0.000   6.834   0.000  1.00  0.00           O  \nATOM     25   Sn MOL     1       4.865   3.417   4.739  1.00  0.00          SN  \nATOM     26   Sn MOL     1       4.865   0.000   1.322  1.00  0.00          SN  \nATOM     27   Sn MOL     1       3.243   3.417   1.322  1.00  0.00          SN  \nATOM     28   Sn MOL     1       3.243   0.000   4.739  1.00  0.00          SN  \nATOM     29    O MOL     1       4.865   1.322   4.739  1.00  0.00           O  \nATOM     30    O MOL     1       4.865   4.739   1.322  1.00  0.00           O  \nATOM     31    O MOL     1       4.865   5.512   4.739  1.00  0.00           O  \nATOM     32    O MOL     1       4.865   2.095   1.322  1.00  0.00           O  \nATOM     33    O MOL     1       3.243   3.417   6.061  1.00  0.00           O  \nATOM     34    O MOL     1       3.243   0.000   2.644  1.00  0.00           O  \nATOM     35    O MOL     1       3.243   3.417   3.417  1.00  0.00           O  \nATOM     36    O MOL     1       3.243   0.000   0.000  1.00  0.00           O  \nATOM     37   Sn MOL     1       4.865  10.251   4.739  1.00  0.00          SN  \nATOM     38   Sn MOL     1       4.865   6.834   1.322  1.00  0.00          SN  \nATOM     39   Sn MOL     1       3.243  10.251   1.322  1.00  0.00          SN  \nATOM     40   Sn MOL     1       3.243   6.834   4.739  1.00  0.00          SN  \nATOM     41    O MOL     1       4.865   8.156   4.739  1.00  0.00           O  \nATOM     42    O MOL     1       4.865  11.573   1.322  1.00  0.00           O  \nATOM     43    O MOL     1       4.865  12.346   4.739  1.00  0.00           O  \nATOM     44    O MOL     1       4.865   8.929   1.322  1.00  0.00           O  \nATOM     45    O MOL     1       3.243  10.251   6.061  1.00  0.00           O  \nATOM     46    O MOL     1       3.243   6.834   2.644  1.00  0.00           O  \nATOM     47    O MOL     1       3.243  10.251   3.417  1.00  0.00           O  \nATOM     48    O MOL     1       3.243   6.834   0.000  1.00  0.00           O  \nATOM     49   Sn MOL     1       8.108   3.417   4.739  1.00  0.00          SN  \nATOM     50   Sn MOL     1       8.108   0.000   1.322  1.00  0.00          SN  \nATOM     51   Sn MOL     1       6.486   3.417   1.322  1.00  0.00          SN  \nATOM     52   Sn MOL     1       6.486   0.000   4.739  1.00  0.00          SN  \nATOM     53    O MOL     1       8.108   1.322   4.739  1.00  0.00           O  \nATOM     54    O MOL     1       8.108   4.739   1.322  1.00  0.00           O  \nATOM     55    O MOL     1       8.108   5.512   4.739  1.00  0.00           O  \nATOM     56    O MOL     1       8.108   2.095   1.322  1.00  0.00           O  \nATOM     57    O MOL     1       6.486   3.417   6.061  1.00  0.00           O  \nATOM     58    O MOL     1       6.486   0.000   2.644  1.00  0.00           O  \nATOM     59    O MOL     1       6.486   3.417   3.417  1.00  0.00           O  \nATOM     60    O MOL     1       6.486   0.000   0.000  1.00  0.00           O  \nATOM     61   Sn MOL     1       8.108  10.251   4.739  1.00  0.00          SN  \nATOM     62   Sn MOL     1       8.108   6.834   1.322  1.00  0.00          SN  \nATOM     63   Sn MOL     1       6.486  10.251   1.322  1.00  0.00          SN  \nATOM     64   Sn MOL     1       6.486   6.834   4.739  1.00  0.00          SN  \nATOM     65    O MOL     1       8.108   8.156   4.739  1.00  0.00           O  \nATOM     66    O MOL     1       8.108  11.573   1.322  1.00  0.00           O  \nATOM     67    O MOL     1       8.108  12.346   4.739  1.00  0.00           O  \nATOM     68    O MOL     1       8.108   8.929   1.322  1.00  0.00           O  \nATOM     69    O MOL     1       6.486  10.251   6.061  1.00  0.00           O  \nATOM     70    O MOL     1       6.486   6.834   2.644  1.00  0.00           O  \nATOM     71    O MOL     1       6.486  10.251   3.417  1.00  0.00           O  \nATOM     72    O MOL     1       6.486   6.834   0.000  1.00  0.00           O  \nATOM     73   Sn MOL     1      11.351   3.417   4.739  1.00  0.00          SN  \nATOM     74   Sn MOL     1      11.351   0.000   1.322  1.00  0.00          SN  \nATOM     75   Sn MOL     1       9.730   3.417   1.322  1.00  0.00          SN  \nATOM     76   Sn MOL     1       9.730   0.000   4.739  1.00  0.00          SN  \nATOM     77    O MOL     1      11.351   1.322   4.739  1.00  0.00           O  \nATOM     78    O MOL     1      11.351   4.739   1.322  1.00  0.00           O  \nATOM     79    O MOL     1      11.351   5.512   4.739  1.00  0.00           O  \nATOM     80    O MOL     1      11.351   2.095   1.322  1.00  0.00           O  \nATOM     81    O MOL     1       9.730   3.417   6.061  1.00  0.00           O  \nATOM     82    O MOL     1       9.730   0.000   2.644  1.00  0.00           O  \nATOM     83    O MOL     1       9.730   3.417   3.417  1.00  0.00           O  \nATOM     84    O MOL     1       9.730   0.000   0.000  1.00  0.00           O  \nATOM     85   Sn MOL     1      11.351  10.251   4.739  1.00  0.00          SN  \nATOM     86   Sn MOL     1      11.351   6.834   1.322  1.00  0.00          SN  \nATOM     87   Sn MOL     1       9.730  10.251   1.322  1.00  0.00          SN  \nATOM     88   Sn MOL     1       9.730   6.834   4.739  1.00  0.00          SN  \nATOM     89    O MOL     1      11.351   8.156   4.739  1.00  0.00           O  \nATOM     90    O MOL     1      11.351  11.573   1.322  1.00  0.00           O  \nATOM     91    O MOL     1      11.351  12.346   4.739  1.00  0.00           O  \nATOM     92    O MOL     1      11.351   8.929   1.322  1.00  0.00           O  \nATOM     93    O MOL     1       9.730  10.251   6.061  1.00  0.00           O  \nATOM     94    O MOL     1       9.730   6.834   2.644  1.00  0.00           O  \nATOM     95    O MOL     1       9.730  10.251   3.417  1.00  0.00           O  \nATOM     96    O MOL     1       9.730   6.834   0.000  1.00  0.00           O  \nATOM     97   Sn MOL     1       1.622  17.085   4.739  1.00  0.00          SN  \nATOM     98   Sn MOL     1       1.622  13.668   1.322  1.00  0.00          SN  \nATOM     99   Sn MOL     1       0.000  17.085   1.322  1.00  0.00          SN  \nATOM    100   Sn MOL     1       0.000  13.668   4.739  1.00  0.00          SN  \nATOM    101    O MOL     1       1.622  14.990   4.739  1.00  0.00           O  \nATOM    102    O MOL     1       1.622  18.407   1.322  1.00  0.00           O  \nATOM    103    O MOL     1       1.622  19.180   4.739  1.00  0.00           O  \nATOM    104    O MOL     1       1.622  15.763   1.322  1.00  0.00           O  \nATOM    105    O MOL     1       0.000  17.085   6.061  1.00  0.00           O  \nATOM    106    O MOL     1       0.000  13.668   2.644  1.00  0.00           O  \nATOM    107    O MOL     1       0.000  17.085   3.417  1.00  0.00           O  \nATOM    108    O MOL     1       0.000  13.668   0.000  1.00  0.00           O  \nATOM    109   Sn MOL     1       1.622  23.919   4.739  1.00  0.00          SN  \nATOM    110   Sn MOL     1       1.622  20.502   1.322  1.00  0.00          SN  \nATOM    111   Sn MOL     1       0.000  23.919   1.322  1.00  0.00          SN  \nATOM    112   Sn MOL     1       0.000  20.502   4.739  1.00  0.00          SN  \nATOM    113    O MOL     1       1.622  21.824   4.739  1.00  0.00           O  \nATOM    114    O MOL     1       1.622  25.241   1.322  1.00  0.00           O  \nATOM    115    O MOL     1       1.622  26.014   4.739  1.00  0.00           O  \nATOM    116    O MOL     1       1.622  22.597   1.322  1.00  0.00           O  \nATOM    117    O MOL     1       0.000  23.919   6.061  1.00  0.00           O  \nATOM    118    O MOL     1       0.000  20.502   2.644  1.00  0.00           O  \nATOM    119    O MOL     1       0.000  23.919   3.417  1.00  0.00           O  \nATOM    120    O MOL     1       0.000  20.502   0.000  1.00  0.00           O  \nATOM    121   Sn MOL     1       4.865  17.085   4.739  1.00  0.00          SN  \nATOM    122   Sn MOL     1       4.865  13.668   1.322  1.00  0.00          SN  \nATOM    123   Sn MOL     1       3.243  17.085   1.322  1.00  0.00          SN  \nATOM    124   Sn MOL     1       3.243  13.668   4.739  1.00  0.00          SN  \nATOM    125    O MOL     1       4.865  14.990   4.739  1.00  0.00           O  \nATOM    126    O MOL     1       4.865  18.407   1.322  1.00  0.00           O  \nATOM    127    O MOL     1       4.865  19.180   4.739  1.00  0.00           O  \nATOM    128    O MOL     1       4.865  15.763   1.322  1.00  0.00           O  \nATOM    129    O MOL     1       3.243  17.085   6.061  1.00  0.00           O  \nATOM    130    O MOL     1       3.243  13.668   2.644  1.00  0.00           O  \nATOM    131    O MOL     1       3.243  17.085   3.417  1.00  0.00           O  \nATOM    132    O MOL     1       3.243  13.668   0.000  1.00  0.00           O  \nATOM    133   Sn MOL     1       4.865  23.919   4.739  1.00  0.00          SN  \nATOM    134   Sn MOL     1       4.865  20.502   1.322  1.00  0.00          SN  \nATOM    135   Sn MOL     1       3.243  23.919   1.322  1.00  0.00          SN  \nATOM    136   Sn MOL     1       3.243  20.502   4.739  1.00  0.00          SN  \nATOM    137    O MOL     1       4.865  21.824   4.739  1.00  0.00           O  \nATOM    138    O MOL     1       4.865  25.241   1.322  1.00  0.00           O  \nATOM    139    O MOL     1       4.865  26.014   4.739  1.00  0.00           O  \nATOM    140    O MOL     1       4.865  22.597   1.322  1.00  0.00           O  \nATOM    141    O MOL     1       3.243  23.919   6.061  1.00  0.00           O  \nATOM    142    O MOL     1       3.243  20.502   2.644  1.00  0.00           O  \nATOM    143    O MOL     1       3.243  23.919   3.417  1.00  0.00           O  \nATOM    144    O MOL     1       3.243  20.502   0.000  1.00  0.00           O  \nATOM    145   Sn MOL     1       8.108  17.085   4.739  1.00  0.00          SN  \nATOM    146   Sn MOL     1       8.108  13.668   1.322  1.00  0.00          SN  \nATOM    147   Sn MOL     1       6.486  17.085   1.322  1.00  0.00          SN  \nATOM    148   Sn MOL     1       6.486  13.668   4.739  1.00  0.00          SN  \nATOM    149    O MOL     1       8.108  14.990   4.739  1.00  0.00           O  \nATOM    150    O MOL     1       8.108  18.407   1.322  1.00  0.00           O  \nATOM    151    O MOL     1       8.108  19.180   4.739  1.00  0.00           O  \nATOM    152    O MOL     1       8.108  15.763   1.322  1.00  0.00           O  \nATOM    153    O MOL     1       6.486  17.085   6.061  1.00  0.00           O  \nATOM    154    O MOL     1       6.486  13.668   2.644  1.00  0.00           O  \nATOM    155    O MOL     1       6.486  17.085   3.417  1.00  0.00           O  \nATOM    156    O MOL     1       6.486  13.668   0.000  1.00  0.00           O  \nATOM    157   Sn MOL     1       8.108  23.919   4.739  1.00  0.00          SN  \nATOM    158   Sn MOL     1       8.108  20.502   1.322  1.00  0.00          SN  \nATOM    159   Sn MOL     1       6.486  23.919   1.322  1.00  0.00          SN  \nATOM    160   Sn MOL     1       6.486  20.502   4.739  1.00  0.00          SN  \nATOM    161    O MOL     1       8.108  21.824   4.739  1.00  0.00           O  \nATOM    162    O MOL     1       8.108  25.241   1.322  1.00  0.00           O  \nATOM    163    O MOL     1       8.108  26.014   4.739  1.00  0.00           O  \nATOM    164    O MOL     1       8.108  22.597   1.322  1.00  0.00           O  \nATOM    165    O MOL     1       6.486  23.919   6.061  1.00  0.00           O  \nATOM    166    O MOL     1       6.486  20.502   2.644  1.00  0.00           O  \nATOM    167    O MOL     1       6.486  23.919   3.417  1.00  0.00           O  \nATOM    168    O MOL     1       6.486  20.502   0.000  1.00  0.00           O  \nATOM    169   Sn MOL     1      11.351  17.085   4.739  1.00  0.00          SN  \nATOM    170   Sn MOL     1      11.351  13.668   1.322  1.00  0.00          SN  \nATOM    171   Sn MOL     1       9.730  17.085   1.322  1.00  0.00          SN  \nATOM    172   Sn MOL     1       9.730  13.668   4.739  1.00  0.00          SN  \nATOM    173    O MOL     1      11.351  14.990   4.739  1.00  0.00           O  \nATOM    174    O MOL     1      11.351  18.407   1.322  1.00  0.00           O  \nATOM    175    O MOL     1      11.351  19.180   4.739  1.00  0.00           O  \nATOM    176    O MOL     1      11.351  15.763   1.322  1.00  0.00           O  \nATOM    177    O MOL     1       9.730  17.085   6.061  1.00  0.00           O  \nATOM    178    O MOL     1       9.730  13.668   2.644  1.00  0.00           O  \nATOM    179    O MOL     1       9.730  17.085   3.417  1.00  0.00           O  \nATOM    180    O MOL     1       9.730  13.668   0.000  1.00  0.00           O  \nATOM    181   Sn MOL     1      11.351  23.919   4.739  1.00  0.00          SN  \nATOM    182   Sn MOL     1      11.351  20.502   1.322  1.00  0.00          SN  \nATOM    183   Sn MOL     1       9.730  23.919   1.322  1.00  0.00          SN  \nATOM    184   Sn MOL     1       9.730  20.502   4.739  1.00  0.00          SN  \nATOM    185    O MOL     1      11.351  21.824   4.739  1.00  0.00           O  \nATOM    186    O MOL     1      11.351  25.241   1.322  1.00  0.00           O  \nATOM    187    O MOL     1      11.351  26.014   4.739  1.00  0.00           O  \nATOM    188    O MOL     1      11.351  22.597   1.322  1.00  0.00           O  \nATOM    189    O MOL     1       9.730  23.919   6.061  1.00  0.00           O  \nATOM    190    O MOL     1       9.730  20.502   2.644  1.00  0.00           O  \nATOM    191    O MOL     1       9.730  23.919   3.417  1.00  0.00           O  \nATOM    192    O MOL     1       9.730  20.502   0.000  1.00  0.00           O  \nATOM    193   Sn MOL     1      14.594   3.417   4.739  1.00  0.00          SN  \nATOM    194   Sn MOL     1      14.594   0.000   1.322  1.00  0.00          SN  \nATOM    195   Sn MOL     1      12.973   3.417   1.322  1.00  0.00          SN  \nATOM    196   Sn MOL     1      12.973   0.000   4.739  1.00  0.00          SN  \nATOM    197    O MOL     1      14.594   1.322   4.739  1.00  0.00           O  \nATOM    198    O MOL     1      14.594   4.739   1.322  1.00  0.00           O  \nATOM    199    O MOL     1      14.594   5.512   4.739  1.00  0.00           O  \nATOM    200    O MOL     1      14.594   2.095   1.322  1.00  0.00           O  \nATOM    201    O MOL     1      12.973   3.417   6.061  1.00  0.00           O  \nATOM    202    O MOL     1      12.973   0.000   2.644  1.00  0.00           O  \nATOM    203    O MOL     1      12.973   3.417   3.417  1.00  0.00           O  \nATOM    204    O MOL     1      12.973   0.000   0.000  1.00  0.00           O  \nATOM    205   Sn MOL     1      14.594  10.251   4.739  1.00  0.00          SN  \nATOM    206   Sn MOL     1      14.594   6.834   1.322  1.00  0.00          SN  \nATOM    207   Sn MOL     1      12.973  10.251   1.322  1.00  0.00          SN  \nATOM    208   Sn MOL     1      12.973   6.834   4.739  1.00  0.00          SN  \nATOM    209    O MOL     1      14.594   8.156   4.739  1.00  0.00           O  \nATOM    210    O MOL     1      14.594  11.573   1.322  1.00  0.00           O  \nATOM    211    O MOL     1      14.594  12.346   4.739  1.00  0.00           O  \nATOM    212    O MOL     1      14.594   8.929   1.322  1.00  0.00           O  \nATOM    213    O MOL     1      12.973  10.251   6.061  1.00  0.00           O  \nATOM    214    O MOL     1      12.973   6.834   2.644  1.00  0.00           O  \nATOM    215    O MOL     1      12.973  10.251   3.417  1.00  0.00           O  \nATOM    216    O MOL     1      12.973   6.834   0.000  1.00  0.00           O  \nATOM    217   Sn MOL     1      17.838   3.417   4.739  1.00  0.00          SN  \nATOM    218   Sn MOL     1      17.838   0.000   1.322  1.00  0.00          SN  \nATOM    219   Sn MOL     1      16.216   3.417   1.322  1.00  0.00          SN  \nATOM    220   Sn MOL     1      16.216   0.000   4.739  1.00  0.00          SN  \nATOM    221    O MOL     1      17.838   1.322   4.739  1.00  0.00           O  \nATOM    222    O MOL     1      17.838   4.739   1.322  1.00  0.00           O  \nATOM    223    O MOL     1      17.838   5.512   4.739  1.00  0.00           O  \nATOM    224    O MOL     1      17.838   2.095   1.322  1.00  0.00           O  \nATOM    225    O MOL     1      16.216   3.417   6.061  1.00  0.00           O  \nATOM    226    O MOL     1      16.216   0.000   2.644  1.00  0.00           O  \nATOM    227    O MOL     1      16.216   3.417   3.417  1.00  0.00           O  \nATOM    228    O MOL     1      16.216   0.000   0.000  1.00  0.00           O  \nATOM    229   Sn MOL     1      17.838  10.251   4.739  1.00  0.00          SN  \nATOM    230   Sn MOL     1      17.838   6.834   1.322  1.00  0.00          SN  \nATOM    231   Sn MOL     1      16.216  10.251   1.322  1.00  0.00          SN  \nATOM    232   Sn MOL     1      16.216   6.834   4.739  1.00  0.00          SN  \nATOM    233    O MOL     1      17.838   8.156   4.739  1.00  0.00           O  \nATOM    234    O MOL     1      17.838  11.573   1.322  1.00  0.00           O  \nATOM    235    O MOL     1      17.838  12.346   4.739  1.00  0.00           O  \nATOM    236    O MOL     1      17.838   8.929   1.322  1.00  0.00           O  \nATOM    237    O MOL     1      16.216  10.251   6.061  1.00  0.00           O  \nATOM    238    O MOL     1      16.216   6.834   2.644  1.00  0.00           O  \nATOM    239    O MOL     1      16.216  10.251   3.417  1.00  0.00           O  \nATOM    240    O MOL     1      16.216   6.834   0.000  1.00  0.00           O  \nATOM    241   Sn MOL     1      21.081   3.417   4.739  1.00  0.00          SN  \nATOM    242   Sn MOL     1      21.081   0.000   1.322  1.00  0.00          SN  \nATOM    243   Sn MOL     1      19.459   3.417   1.322  1.00  0.00          SN  \nATOM    244   Sn MOL     1      19.459   0.000   4.739  1.00  0.00          SN  \nATOM    245    O MOL     1      21.081   1.322   4.739  1.00  0.00           O  \nATOM    246    O MOL     1      21.081   4.739   1.322  1.00  0.00           O  \nATOM    247    O MOL     1      21.081   5.512   4.739  1.00  0.00           O  \nATOM    248    O MOL     1      21.081   2.095   1.322  1.00  0.00           O  \nATOM    249    O MOL     1      19.459   3.417   6.061  1.00  0.00           O  \nATOM    250    O MOL     1      19.459   0.000   2.644  1.00  0.00           O  \nATOM    251    O MOL     1      19.459   3.417   3.417  1.00  0.00           O  \nATOM    252    O MOL     1      19.459   0.000   0.000  1.00  0.00           O  \nATOM    253   Sn MOL     1      21.081  10.251   4.739  1.00  0.00          SN  \nATOM    254   Sn MOL     1      21.081   6.834   1.322  1.00  0.00          SN  \nATOM    255   Sn MOL     1      19.459  10.251   1.322  1.00  0.00          SN  \nATOM    256   Sn MOL     1      19.459   6.834   4.739  1.00  0.00          SN  \nATOM    257    O MOL     1      21.081   8.156   4.739  1.00  0.00           O  \nATOM    258    O MOL     1      21.081  11.573   1.322  1.00  0.00           O  \nATOM    259    O MOL     1      21.081  12.346   4.739  1.00  0.00           O  \nATOM    260    O MOL     1      21.081   8.929   1.322  1.00  0.00           O  \nATOM    261    O MOL     1      19.459  10.251   6.061  1.00  0.00           O  \nATOM    262    O MOL     1      19.459   6.834   2.644  1.00  0.00           O  \nATOM    263    O MOL     1      19.459  10.251   3.417  1.00  0.00           O  \nATOM    264    O MOL     1      19.459   6.834   0.000  1.00  0.00           O  \nATOM    265   Sn MOL     1      24.324   3.417   4.739  1.00  0.00          SN  \nATOM    266   Sn MOL     1      24.324   0.000   1.322  1.00  0.00          SN  \nATOM    267   Sn MOL     1      22.703   3.417   1.322  1.00  0.00          SN  \nATOM    268   Sn MOL     1      22.703   0.000   4.739  1.00  0.00          SN  \nATOM    269    O MOL     1      24.324   1.322   4.739  1.00  0.00           O  \nATOM    270    O MOL     1      24.324   4.739   1.322  1.00  0.00           O  \nATOM    271    O MOL     1      24.324   5.512   4.739  1.00  0.00           O  \nATOM    272    O MOL     1      24.324   2.095   1.322  1.00  0.00           O  \nATOM    273    O MOL     1      22.703   3.417   6.061  1.00  0.00           O  \nATOM    274    O MOL     1      22.703   0.000   2.644  1.00  0.00           O  \nATOM    275    O MOL     1      22.703   3.417   3.417  1.00  0.00           O  \nATOM    276    O MOL     1      22.703   0.000   0.000  1.00  0.00           O  \nATOM    277   Sn MOL     1      24.324  10.251   4.739  1.00  0.00          SN  \nATOM    278   Sn MOL     1      24.324   6.834   1.322  1.00  0.00          SN  \nATOM    279   Sn MOL     1      22.703  10.251   1.322  1.00  0.00          SN  \nATOM    280   Sn MOL     1      22.703   6.834   4.739  1.00  0.00          SN  \nATOM    281    O MOL     1      24.324   8.156   4.739  1.00  0.00           O  \nATOM    282    O MOL     1      24.324  11.573   1.322  1.00  0.00           O  \nATOM    283    O MOL     1      24.324  12.346   4.739  1.00  0.00           O  \nATOM    284    O MOL     1      24.324   8.929   1.322  1.00  0.00           O  \nATOM    285    O MOL     1      22.703  10.251   6.061  1.00  0.00           O  \nATOM    286    O MOL     1      22.703   6.834   2.644  1.00  0.00           O  \nATOM    287    O MOL     1      22.703  10.251   3.417  1.00  0.00           O  \nATOM    288    O MOL     1      22.703   6.834   0.000  1.00  0.00           O  \nATOM    289   Sn MOL     1      14.594  17.085   4.739  1.00  0.00          SN  \nATOM    290   Sn MOL     1      14.594  13.668   1.322  1.00  0.00          SN  \nATOM    291   Sn MOL     1      12.973  17.085   1.322  1.00  0.00          SN  \nATOM    292   Sn MOL     1      12.973  13.668   4.739  1.00  0.00          SN  \nATOM    293    O MOL     1      14.594  14.990   4.739  1.00  0.00           O  \nATOM    294    O MOL     1      14.594  18.407   1.322  1.00  0.00           O  \nATOM    295    O MOL     1      14.594  19.180   4.739  1.00  0.00           O  \nATOM    296    O MOL     1      14.594  15.763   1.322  1.00  0.00           O  \nATOM    297    O MOL     1      12.973  17.085   6.061  1.00  0.00           O  \nATOM    298    O MOL     1      12.973  13.668   2.644  1.00  0.00           O  \nATOM    299    O MOL     1      12.973  17.085   3.417  1.00  0.00           O  \nATOM    300    O MOL     1      12.973  13.668   0.000  1.00  0.00           O  \nATOM    301   Sn MOL     1      14.594  23.919   4.739  1.00  0.00          SN  \nATOM    302   Sn MOL     1      14.594  20.502   1.322  1.00  0.00          SN  \nATOM    303   Sn MOL     1      12.973  23.919   1.322  1.00  0.00          SN  \nATOM    304   Sn MOL     1      12.973  20.502   4.739  1.00  0.00          SN  \nATOM    305    O MOL     1      14.594  21.824   4.739  1.00  0.00           O  \nATOM    306    O MOL     1      14.594  25.241   1.322  1.00  0.00           O  \nATOM    307    O MOL     1      14.594  26.014   4.739  1.00  0.00           O  \nATOM    308    O MOL     1      14.594  22.597   1.322  1.00  0.00           O  \nATOM    309    O MOL     1      12.973  23.919   6.061  1.00  0.00           O  \nATOM    310    O MOL     1      12.973  20.502   2.644  1.00  0.00           O  \nATOM    311    O MOL     1      12.973  23.919   3.417  1.00  0.00           O  \nATOM    312    O MOL     1      12.973  20.502   0.000  1.00  0.00           O  \nATOM    313   Sn MOL     1      17.838  17.085   4.739  1.00  0.00          SN  \nATOM    314   Sn MOL     1      17.838  13.668   1.322  1.00  0.00          SN  \nATOM    315   Sn MOL     1      16.216  17.085   1.322  1.00  0.00          SN  \nATOM    316   Sn MOL     1      16.216  13.668   4.739  1.00  0.00          SN  \nATOM    317    O MOL     1      17.838  14.990   4.739  1.00  0.00           O  \nATOM    318    O MOL     1      17.838  18.407   1.322  1.00  0.00           O  \nATOM    319    O MOL     1      17.838  19.180   4.739  1.00  0.00           O  \nATOM    320    O MOL     1      17.838  15.763   1.322  1.00  0.00           O  \nATOM    321    O MOL     1      16.216  17.085   6.061  1.00  0.00           O  \nATOM    322    O MOL     1      16.216  13.668   2.644  1.00  0.00           O  \nATOM    323    O MOL     1      16.216  17.085   3.417  1.00  0.00           O  \nATOM    324    O MOL     1      16.216  13.668   0.000  1.00  0.00           O  \nATOM    325   Sn MOL     1      17.838  23.919   4.739  1.00  0.00          SN  \nATOM    326   Sn MOL     1      17.838  20.502   1.322  1.00  0.00          SN  \nATOM    327   Sn MOL     1      16.216  23.919   1.322  1.00  0.00          SN  \nATOM    328   Sn MOL     1      16.216  20.502   4.739  1.00  0.00          SN  \nATOM    329    O MOL     1      17.838  21.824   4.739  1.00  0.00           O  \nATOM    330    O MOL     1      17.838  25.241   1.322  1.00  0.00           O  \nATOM    331    O MOL     1      17.838  26.014   4.739  1.00  0.00           O  \nATOM    332    O MOL     1      17.838  22.597   1.322  1.00  0.00           O  \nATOM    333    O MOL     1      16.216  23.919   6.061  1.00  0.00           O  \nATOM    334    O MOL     1      16.216  20.502   2.644  1.00  0.00           O  \nATOM    335    O MOL     1      16.216  23.919   3.417  1.00  0.00           O  \nATOM    336    O MOL     1      16.216  20.502   0.000  1.00  0.00           O  \nATOM    337   Sn MOL     1      21.081  17.085   4.739  1.00  0.00          SN  \nATOM    338   Sn MOL     1      21.081  13.668   1.322  1.00  0.00          SN  \nATOM    339   Sn MOL     1      19.459  17.085   1.322  1.00  0.00          SN  \nATOM    340   Sn MOL     1      19.459  13.668   4.739  1.00  0.00          SN  \nATOM    341    O MOL     1      21.081  14.990   4.739  1.00  0.00           O  \nATOM    342    O MOL     1      21.081  18.407   1.322  1.00  0.00           O  \nATOM    343    O MOL     1      21.081  19.180   4.739  1.00  0.00           O  \nATOM    344    O MOL     1      21.081  15.763   1.322  1.00  0.00           O  \nATOM    345    O MOL     1      19.459  17.085   6.061  1.00  0.00           O  \nATOM    346    O MOL     1      19.459  13.668   2.644  1.00  0.00           O  \nATOM    347    O MOL     1      19.459  17.085   3.417  1.00  0.00           O  \nATOM    348    O MOL     1      19.459  13.668   0.000  1.00  0.00           O  \nATOM    349   Sn MOL     1      21.081  23.919   4.739  1.00  0.00          SN  \nATOM    350   Sn MOL     1      21.081  20.502   1.322  1.00  0.00          SN  \nATOM    351   Sn MOL     1      19.459  23.919   1.322  1.00  0.00          SN  \nATOM    352   Sn MOL     1      19.459  20.502   4.739  1.00  0.00          SN  \nATOM    353    O MOL     1      21.081  21.824   4.739  1.00  0.00           O  \nATOM    354    O MOL     1      21.081  25.241   1.322  1.00  0.00           O  \nATOM    355    O MOL     1      21.081  26.014   4.739  1.00  0.00           O  \nATOM    356    O MOL     1      21.081  22.597   1.322  1.00  0.00           O  \nATOM    357    O MOL     1      19.459  23.919   6.061  1.00  0.00           O  \nATOM    358    O MOL     1      19.459  20.502   2.644  1.00  0.00           O  \nATOM    359    O MOL     1      19.459  23.919   3.417  1.00  0.00           O  \nATOM    360    O MOL     1      19.459  20.502   0.000  1.00  0.00           O  \nATOM    361   Sn MOL     1      24.324  17.085   4.739  1.00  0.00          SN  \nATOM    362   Sn MOL     1      24.324  13.668   1.322  1.00  0.00          SN  \nATOM    363   Sn MOL     1      22.703  17.085   1.322  1.00  0.00          SN  \nATOM    364   Sn MOL     1      22.703  13.668   4.739  1.00  0.00          SN  \nATOM    365    O MOL     1      24.324  14.990   4.739  1.00  0.00           O  \nATOM    366    O MOL     1      24.324  18.407   1.322  1.00  0.00           O  \nATOM    367    O MOL     1      24.324  19.180   4.739  1.00  0.00           O  \nATOM    368    O MOL     1      24.324  15.763   1.322  1.00  0.00           O  \nATOM    369    O MOL     1      22.703  17.085   6.061  1.00  0.00           O  \nATOM    370    O MOL     1      22.703  13.668   2.644  1.00  0.00           O  \nATOM    371    O MOL     1      22.703  17.085   3.417  1.00  0.00           O  \nATOM    372    O MOL     1      22.703  13.668   0.000  1.00  0.00           O  \nATOM    373   Sn MOL     1      24.324  23.919   4.739  1.00  0.00          SN  \nATOM    374   Sn MOL     1      24.324  20.502   1.322  1.00  0.00          SN  \nATOM    375   Sn MOL     1      22.703  23.919   1.322  1.00  0.00          SN  \nATOM    376   Sn MOL     1      22.703  20.502   4.739  1.00  0.00          SN  \nATOM    377    O MOL     1      24.324  21.824   4.739  1.00  0.00           O  \nATOM    378    O MOL     1      24.324  25.241   1.322  1.00  0.00           O  \nATOM    379    O MOL     1      24.324  26.014   4.739  1.00  0.00           O  \nATOM    380    O MOL     1      24.324  22.597   1.322  1.00  0.00           O  \nATOM    381    O MOL     1      22.703  23.919   6.061  1.00  0.00           O  \nATOM    382    O MOL     1      22.703  20.502   2.644  1.00  0.00           O  \nATOM    383    O MOL     1      22.703  23.919   3.417  1.00  0.00           O  \nATOM    384    O MOL     1      22.703  20.502   0.000  1.00  0.00           O  \nATOM    385   Pt MOL     1       9.164  11.819  10.344  1.00  0.00          PT  \nATOM    386   Pt MOL     1      11.124   9.859  10.344  1.00  0.00          PT  \nATOM    387   Pt MOL     1       9.578  10.273   8.081  1.00  0.00          PT  \nATOM    388   Pt MOL     1      10.710  11.405  12.607  1.00  0.00          PT  \nATOM    389   Pt MOL     1      11.427  14.082  12.607  1.00  0.00          PT  \nATOM    390   Pt MOL     1      13.387  12.122  12.607  1.00  0.00          PT  \nATOM    391   Pt MOL     1      11.841  12.536  10.344  1.00  0.00          PT  \nATOM    392   Pt MOL     1      14.104  14.800  12.607  1.00  0.00          PT  \nATOM    393   Pt MOL     1       7.618  12.233   8.081  1.00  0.00          PT  \nATOM    394   Pt MOL     1       8.335  14.911   8.081  1.00  0.00          PT  \nATOM    395   Pt MOL     1      10.295  12.951   8.081  1.00  0.00          PT  \nATOM    396   Pt MOL     1       9.881  14.496  10.344  1.00  0.00          PT  \nATOM    397   Pt MOL     1      10.599  17.174  10.344  1.00  0.00          PT  \nATOM    398   Pt MOL     1      12.559  15.214  10.344  1.00  0.00          PT  \nATOM    399   Pt MOL     1      11.013  15.628   8.081  1.00  0.00          PT  \nATOM    400   Pt MOL     1      12.144  16.760  12.607  1.00  0.00          PT  \nATOM    401   Pt MOL     1      13.276  17.891  10.344  1.00  0.00          PT  \nATOM    402   Pt MOL     1       9.053  17.588   8.081  1.00  0.00          PT  \nATOM    403   Pt MOL     1      11.730  18.305   8.081  1.00  0.00          PT  \nATOM    404   Pt MOL     1      11.538   8.313   8.081  1.00  0.00          PT  \nATOM    405   Pt MOL     1      12.255  10.991   8.081  1.00  0.00          PT  \nATOM    406   Pt MOL     1      14.215   9.031   8.081  1.00  0.00          PT  \nATOM    407   Pt MOL     1      13.801  10.576  10.344  1.00  0.00          PT  \nATOM    408   Pt MOL     1      14.519  13.254  10.344  1.00  0.00          PT  \nATOM    409   Pt MOL     1      16.479  11.294  10.344  1.00  0.00          PT  \nATOM    410   Pt MOL     1      14.933  11.708   8.081  1.00  0.00          PT  \nATOM    411   Pt MOL     1      16.064  12.840  12.607  1.00  0.00          PT  \nATOM    412   Pt MOL     1      17.196  13.971  10.344  1.00  0.00          PT  \nATOM    413   Pt MOL     1      12.973  13.668   8.081  1.00  0.00          PT  \nATOM    414   Pt MOL     1      13.690  16.345   8.081  1.00  0.00          PT  \nATOM    415   Pt MOL     1      15.650  14.385   8.081  1.00  0.00          PT  \nATOM    416   Pt MOL     1      15.236  15.931  10.344  1.00  0.00          PT  \nATOM    417   Pt MOL     1      16.368  17.063   8.081  1.00  0.00          PT  \nATOM    418   Pt MOL     1      14.408  19.023   8.081  1.00  0.00          PT  \nATOM    419   Pt MOL     1      16.893   9.748   8.081  1.00  0.00          PT  \nATOM    420   Pt MOL     1      17.610  12.425   8.081  1.00  0.00          PT  \nATOM    421   Pt MOL     1      18.328  15.103   8.081  1.00  0.00          PT  \nENDMDL\n",
           "type": "blob"
          }
         ],
         "kwargs": {
          "defaultRepresentation": false,
          "ext": "pdb"
         },
         "methodName": "loadFile",
         "reconstruc_color_scheme": false,
         "target": "Stage",
         "type": "call_method"
        },
        {
         "args": [
          "500px",
          "500px"
         ],
         "kwargs": {},
         "methodName": "setSize",
         "reconstruc_color_scheme": false,
         "target": "Widget",
         "type": "call_method"
        },
        {
         "args": [
          "unitcell"
         ],
         "component_index": 0,
         "kwargs": {
          "sele": "all"
         },
         "methodName": "addRepresentation",
         "reconstruc_color_scheme": false,
         "target": "compList",
         "type": "call_method"
        },
        {
         "args": [
          "spacefill"
         ],
         "component_index": 0,
         "kwargs": {
          "sele": "all"
         },
         "methodName": "addRepresentation",
         "reconstruc_color_scheme": false,
         "target": "compList",
         "type": "call_method"
        },
        {
         "args": [],
         "kwargs": {
          "cameraType": "orthographic"
         },
         "methodName": "setParameters",
         "reconstruc_color_scheme": false,
         "target": "Stage",
         "type": "call_method"
        },
        {
         "args": [
          {
           "clipDist": 0
          }
         ],
         "kwargs": {},
         "methodName": "setParameters",
         "reconstruc_color_scheme": false,
         "target": "Widget",
         "type": "call_method"
        },
        {
         "args": [
          "spacefill",
          0
         ],
         "kwargs": {
          "colorScale": "rainbow",
          "colorScheme": "element",
          "radiusScale": 0.5,
          "radiusType": "covalent"
         },
         "methodName": "updateRepresentationsByName",
         "reconstruc_color_scheme": false,
         "target": "Widget",
         "type": "call_method"
        },
        {
         "args": [
          "this._Q = [[1.0, 0.0, 0.0], [0.0, 1.0, 0.0], [0.0, 0.0, 1.0]]\n    var tooltip = document.createElement('div')\n    Object.assign(tooltip.style, {\n      display: 'none',\n      position: 'fixed',\n      zIndex: 10,\n      pointerEvents: 'none',\n      backgroundColor: 'rgba( 0, 0, 0, 0.6 )',\n      color: 'lightgrey',\n      padding: '8px',\n      fontFamily: 'sans-serif'\n    })\n    document.body.appendChild(tooltip)\n\n    var that = this\n    this.stage.mouseControls.remove('hoverPick')\n    this.stage.signals.hovered.add(function (pickingProxy) {\n      if (pickingProxy && (pickingProxy.atom || pickingProxy.bond)) {\n        var atom = pickingProxy.atom || pickingProxy.closestBondAtom\n        var mp = pickingProxy.mouse.position\n        //tooltip.innerText = atom.element + ' i=' + atom.index + ' (' + atom.x.toFixed(2) +  ', ' + atom.y.toFixed(2) +  ', ' + atom.z.toFixed(2) + ')'\n        //var pos = that._atoms_pos[atom.index]\n        var Q = that._Q\n        var pos_x = Q[0][0] * atom.x + Q[0][1] * atom.y + Q[0][2] * atom.z \n        var pos_y = Q[1][0] * atom.x + Q[1][1] * atom.y + Q[1][2] * atom.z\n        var pos_z = Q[2][0] * atom.x + Q[2][1] * atom.y + Q[2][2] * atom.z\n        tooltip.innerText = 'i=' + atom.index + ' ' + atom.element + ' (' + pos_x.toFixed(2) +  ', ' + pos_y.toFixed(2) +  ', ' + pos_z.toFixed(2) + ')'\n        tooltip.style.bottom = window.innerHeight - mp.y + 3 + 'px'\n        tooltip.style.left = mp.x + 3 + 'px'\n        tooltip.style.display = 'block'\n      } else {\n        tooltip.style.display = 'none'\n      }\n    })\n    "
         ],
         "kwargs": {},
         "methodName": "executeCode",
         "reconstruc_color_scheme": false,
         "target": "Widget",
         "type": "call_method"
        },
        {
         "args": [
          "ball+stick"
         ],
         "component_index": 0,
         "kwargs": {
          "sele": "all"
         },
         "methodName": "addRepresentation",
         "reconstruc_color_scheme": false,
         "target": "compList",
         "type": "call_method"
        }
       ],
       "_ngl_original_stage_parameters": {
        "ambientColor": 14540253,
        "ambientIntensity": 0.2,
        "backgroundColor": "white",
        "cameraEyeSep": 0.3,
        "cameraFov": 40,
        "cameraType": "perspective",
        "clipDist": 10,
        "clipFar": 100,
        "clipNear": 0,
        "fogFar": 100,
        "fogNear": 50,
        "hoverTimeout": 0,
        "impostor": true,
        "lightColor": 14540253,
        "lightIntensity": 1,
        "mousePreset": "default",
        "panSpeed": 1,
        "quality": "medium",
        "rotateSpeed": 2,
        "sampleLevel": 0,
        "tooltip": true,
        "workerDefault": true,
        "zoomSpeed": 1.2
       },
       "_ngl_repr_dict": {
        "0": {
         "0": {
          "params": {
           "clipCenter": {
            "x": 0,
            "y": 0,
            "z": 0
           },
           "clipNear": 0,
           "clipRadius": 0,
           "colorMode": "hcl",
           "colorReverse": false,
           "colorScale": "",
           "colorScheme": "element",
           "colorValue": "orange",
           "defaultAssembly": "",
           "depthWrite": true,
           "diffuse": 16777215,
           "diffuseInterior": false,
           "disableImpostor": false,
           "disablePicking": false,
           "flatShaded": false,
           "interiorColor": 2236962,
           "interiorDarkening": 0,
           "lazy": false,
           "matrix": {
            "elements": [
             1,
             0,
             0,
             0,
             0,
             1,
             0,
             0,
             0,
             0,
             1,
             0,
             0,
             0,
             0,
             1
            ]
           },
           "metalness": 0,
           "opacity": 1,
           "quality": "medium",
           "radialSegments": 10,
           "radiusData": {},
           "radiusScale": 1,
           "radiusSize": 0.1343229126300808,
           "radiusType": "vdw",
           "roughness": 0.4,
           "sele": "all",
           "side": "double",
           "sphereDetail": 1,
           "useInteriorColor": true,
           "visible": true,
           "wireframe": false
          },
          "type": "unitcell"
         },
         "1": {
          "params": {
           "assembly": "default",
           "clipCenter": {
            "x": 0,
            "y": 0,
            "z": 0
           },
           "clipNear": 0,
           "clipRadius": 0,
           "colorMode": "hcl",
           "colorReverse": false,
           "colorScale": "rainbow",
           "colorScheme": "element",
           "colorValue": 9474192,
           "defaultAssembly": "",
           "depthWrite": true,
           "diffuse": 16777215,
           "diffuseInterior": false,
           "disableImpostor": false,
           "disablePicking": false,
           "flatShaded": false,
           "interiorColor": 2236962,
           "interiorDarkening": 0,
           "lazy": false,
           "matrix": {
            "elements": [
             1,
             0,
             0,
             0,
             0,
             1,
             0,
             0,
             0,
             0,
             1,
             0,
             0,
             0,
             0,
             1
            ]
           },
           "metalness": 0,
           "opacity": 1,
           "quality": "medium",
           "radiusData": {},
           "radiusScale": 0.5,
           "radiusSize": 1,
           "radiusType": "covalent",
           "roughness": 0.4,
           "sele": "all",
           "side": "double",
           "sphereDetail": 1,
           "useInteriorColor": true,
           "visible": true,
           "wireframe": false
          },
          "type": "spacefill"
         },
         "2": {
          "params": {
           "aspectRatio": 2,
           "assembly": "default",
           "bondScale": 0.4,
           "bondSpacing": 1,
           "clipCenter": {
            "x": 0,
            "y": 0,
            "z": 0
           },
           "clipNear": 0,
           "clipRadius": 0,
           "colorMode": "hcl",
           "colorReverse": false,
           "colorScale": "",
           "colorScheme": "element",
           "colorValue": 9474192,
           "cylinderOnly": false,
           "defaultAssembly": "",
           "depthWrite": true,
           "diffuse": 16777215,
           "diffuseInterior": false,
           "disableImpostor": false,
           "disablePicking": false,
           "flatShaded": false,
           "interiorColor": 2236962,
           "interiorDarkening": 0,
           "lazy": false,
           "lineOnly": false,
           "linewidth": 2,
           "matrix": {
            "elements": [
             1,
             0,
             0,
             0,
             0,
             1,
             0,
             0,
             0,
             0,
             1,
             0,
             0,
             0,
             0,
             1
            ]
           },
           "metalness": 0,
           "multipleBond": "off",
           "opacity": 1,
           "openEnded": true,
           "quality": "medium",
           "radialSegments": 10,
           "radiusData": {},
           "radiusScale": 1,
           "radiusSize": 0.15,
           "radiusType": "size",
           "roughness": 0.4,
           "sele": "all",
           "side": "double",
           "sphereDetail": 1,
           "useInteriorColor": true,
           "visible": true,
           "wireframe": false
          },
          "type": "ball+stick"
         }
        }
       },
       "_ngl_serialize": false,
       "_ngl_version": "2.0.0-dev.36",
       "_ngl_view_id": [
        "1C62D585-08E4-4D8A-B6CF-72FF397F664F"
       ],
       "_player_dict": {},
       "_scene_position": {},
       "_scene_rotation": {},
       "_synced_model_ids": [],
       "_synced_repr_model_ids": [],
       "_view_height": "",
       "_view_width": "",
       "background": "white",
       "frame": 0,
       "gui_style": null,
       "layout": "IPY_MODEL_65cccf7f8c5b449c9c254353443fd40a",
       "max_frame": 0,
       "n_components": 1,
       "picked": {}
      }
     },
     "860b386bb53c499fb9c43d1e74d4115c": {
      "model_module": "@jupyter-widgets/base",
      "model_module_version": "1.2.0",
      "model_name": "LayoutModel",
      "state": {}
     },
     "87ba6e38b8b74f11bdd40a45ee75353e": {
      "model_module": "@jupyter-widgets/controls",
      "model_module_version": "1.5.0",
      "model_name": "SliderStyleModel",
      "state": {
       "description_width": ""
      }
     },
     "87d05f15c0964a6481aa6fb77948b18e": {
      "model_module": "@jupyter-widgets/controls",
      "model_module_version": "1.5.0",
      "model_name": "LinkModel",
      "state": {
       "source": [
        "IPY_MODEL_8215b37720164e899a1b3a26e856b29b",
        "value"
       ],
       "target": [
        "IPY_MODEL_656057a30fa04e1c949439a1bff4cfb5",
        "frame"
       ]
      }
     },
     "87e00d3db9c94838a1e964cb26ec85c2": {
      "model_module": "@jupyter-widgets/base",
      "model_module_version": "1.2.0",
      "model_name": "LayoutModel",
      "state": {}
     },
     "882f65f2aeaa4b8f87e827b81b494f6b": {
      "model_module": "@jupyter-widgets/controls",
      "model_module_version": "1.5.0",
      "model_name": "DescriptionStyleModel",
      "state": {
       "description_width": ""
      }
     },
     "887dee48aa6a451dac21470e136142ad": {
      "model_module": "@jupyter-widgets/base",
      "model_module_version": "1.2.0",
      "model_name": "LayoutModel",
      "state": {}
     },
     "894a167b1aae4d869658120de3bcba5a": {
      "model_module": "@jupyter-widgets/controls",
      "model_module_version": "1.5.0",
      "model_name": "ButtonModel",
      "state": {
       "description": "Download image",
       "layout": "IPY_MODEL_5df016faf1cb4805b7cbef48d9d5f956",
       "style": "IPY_MODEL_2510ea66e362414589c08aa64e948f6c",
       "tooltip": "Download current frame to your local PC"
      }
     },
     "89b745434c0341468e875f3a76b54f9e": {
      "model_module": "@jupyter-widgets/controls",
      "model_module_version": "1.5.0",
      "model_name": "SliderStyleModel",
      "state": {
       "description_width": ""
      }
     },
     "8a890847d32c4d30ac860ba6ae93d0b6": {
      "model_module": "@jupyter-widgets/controls",
      "model_module_version": "1.5.0",
      "model_name": "DescriptionStyleModel",
      "state": {
       "description_width": ""
      }
     },
     "8ab94d60980f401b9ed595ed9f58a2c1": {
      "model_module": "@jupyter-widgets/base",
      "model_module_version": "1.2.0",
      "model_name": "LayoutModel",
      "state": {}
     },
     "8ade2f952e2a4e71983e0e0f7ddcce8d": {
      "model_module": "@jupyter-widgets/base",
      "model_module_version": "1.2.0",
      "model_name": "LayoutModel",
      "state": {}
     },
     "8b5ebed85a934ce0a6af2d7d4160eccf": {
      "model_module": "@jupyter-widgets/base",
      "model_module_version": "1.2.0",
      "model_name": "LayoutModel",
      "state": {}
     },
     "8bc14fbb457646f88cef8fd20161a1d0": {
      "model_module": "@jupyter-widgets/controls",
      "model_module_version": "1.5.0",
      "model_name": "HBoxModel",
      "state": {
       "children": [
        "IPY_MODEL_9a56513c04c04b2895e6481153583d3f",
        "IPY_MODEL_109309f7a2e14ea0a7fd787018fb0438"
       ],
       "layout": "IPY_MODEL_16dad078e5114ae98eb182838d510e05"
      }
     },
     "8cb3d697d9d44ca7b63d3b223fe196fc": {
      "model_module": "@jupyter-widgets/output",
      "model_module_version": "1.0.0",
      "model_name": "OutputModel",
      "state": {
       "layout": "IPY_MODEL_80ef0ba186544d699a25514904159c47"
      }
     },
     "8d66e1c4fddc4151b5ca15883ba177f3": {
      "model_module": "@jupyter-widgets/controls",
      "model_module_version": "1.5.0",
      "model_name": "ImageModel",
      "state": {
       "layout": "IPY_MODEL_9c66facc8f90467ca3c09a488f40284e",
       "width": "900.0"
      }
     },
     "8d8d52915ffb49309bc8d26afcc9621b": {
      "model_module": "@jupyter-widgets/controls",
      "model_module_version": "1.5.0",
      "model_name": "LinkModel",
      "state": {
       "source": [
        "IPY_MODEL_7eebd59e66cf4a2d93ab9d4ef47daeac",
        "max"
       ],
       "target": [
        "IPY_MODEL_82df02aaaa7248198d71030e3decb0d2",
        "max_frame"
       ]
      }
     },
     "8de17b053c78491996dde2301b5d3f81": {
      "model_module": "@jupyter-widgets/output",
      "model_module_version": "1.0.0",
      "model_name": "OutputModel",
      "state": {
       "layout": "IPY_MODEL_bdb8229096c246a0a189aef1727c5713"
      }
     },
     "8ea330f408ee448cb14e9b00c791ad93": {
      "model_module": "@jupyter-widgets/base",
      "model_module_version": "1.2.0",
      "model_name": "LayoutModel",
      "state": {}
     },
     "8eaf492af8ec4b55b0962596ef53070a": {
      "model_module": "@jupyter-widgets/base",
      "model_module_version": "1.2.0",
      "model_name": "LayoutModel",
      "state": {}
     },
     "8eb3df230b1d4f64bd10b6bbae335a82": {
      "model_module": "@jupyter-widgets/base",
      "model_module_version": "1.2.0",
      "model_name": "LayoutModel",
      "state": {}
     },
     "8f78eda21213485f819b7af280064e62": {
      "model_module": "@jupyter-widgets/controls",
      "model_module_version": "1.5.0",
      "model_name": "DropdownModel",
      "state": {
       "_options_labels": [
        "All",
        "O",
        "Pt",
        "Sn"
       ],
       "description": "Show",
       "index": 0,
       "layout": "IPY_MODEL_9a13e535186e452abc5ca78aa7e7fb4a",
       "style": "IPY_MODEL_a9fd2625452b442eaeaa53c6f6fdbb3c"
      }
     },
     "8f817ffe856c41f7963dfe588db2a39b": {
      "model_module": "@jupyter-widgets/controls",
      "model_module_version": "1.5.0",
      "model_name": "VBoxModel",
      "state": {
       "children": [
        "IPY_MODEL_00145fa090be42ccb5c1c5b499f5391e",
        "IPY_MODEL_b50eed72ab4546ab9ca270e95d0059f2",
        "IPY_MODEL_a91f44703c4a4563ad7d54a6e5af74b8",
        "IPY_MODEL_46c08de8444047b6adecaaa80d2816fd",
        "IPY_MODEL_027bd805256148a4a8abf66441bb7ef7",
        "IPY_MODEL_613620bd26944f72bc7d9852a7a69baa",
        "IPY_MODEL_00824bf1e4674e5c80c64026327830d0",
        "IPY_MODEL_f1d7190c9ed3413f8a086dcb9e9444f4",
        "IPY_MODEL_68af8277f19f47049376ee25a8e20d08",
        "IPY_MODEL_281fba68b30c485abc67c70ea2a48d18"
       ],
       "layout": "IPY_MODEL_ddb7c80198fc4c789b3f187b1127d82e"
      }
     },
     "8f8e08d4787f4fdeba83ad894b4a7bf2": {
      "model_module": "@jupyter-widgets/controls",
      "model_module_version": "1.5.0",
      "model_name": "PlayModel",
      "state": {
       "layout": "IPY_MODEL_fea6176bfa644bb3b2da2a01010278fa",
       "max": 0,
       "style": "IPY_MODEL_d3488d119f324da3aaefb0ac9983986c"
      }
     },
     "8fce7c3662c54258a7e46e08493de26e": {
      "model_module": "@jupyter-widgets/base",
      "model_module_version": "1.2.0",
      "model_name": "LayoutModel",
      "state": {}
     },
     "900c6c4c1d974fd89c159a349b9034ae": {
      "model_module": "@jupyter-widgets/controls",
      "model_module_version": "1.5.0",
      "model_name": "DropdownModel",
      "state": {
       "_options_labels": [
        " ",
        "picking",
        "random",
        "uniform",
        "atomindex",
        "residueindex",
        "chainindex",
        "modelindex",
        "sstruc",
        "element",
        "resname",
        "bfactor",
        "hydrophobicity",
        "value",
        "volume",
        "occupancy"
       ],
       "description": "Color scheme",
       "index": 9,
       "layout": "IPY_MODEL_483a3fe9bc2046ba90c218475f8cddc2",
       "style": "IPY_MODEL_3053ec0f4c464c5c8c4ded4c55ecfd4d"
      }
     },
     "906586d3b60c411ba2384f039c406787": {
      "model_module": "@jupyter-widgets/controls",
      "model_module_version": "1.5.0",
      "model_name": "ButtonStyleModel",
      "state": {}
     },
     "90a236d102fa463daf670dd94731d4e2": {
      "model_module": "@jupyter-widgets/controls",
      "model_module_version": "1.5.0",
      "model_name": "ButtonModel",
      "state": {
       "icon": "compress",
       "layout": "IPY_MODEL_b2918d79f8d947a38225b54b6dc88345",
       "style": "IPY_MODEL_4d6f31f22dbb4911bff1df1e341c196d"
      }
     },
     "90a30f93c1f045b3b2a76ee311386f94": {
      "model_module": "@jupyter-widgets/controls",
      "model_module_version": "1.5.0",
      "model_name": "ButtonModel",
      "state": {
       "description": "Download image",
       "layout": "IPY_MODEL_e76b3bbd849c44d0977689ef5d6a007c",
       "style": "IPY_MODEL_97adf9baf1b04414a5b16e82163d3218",
       "tooltip": "Download current frame to your local PC"
      }
     },
     "90d92ea54b574cfaa8897da62aaa555b": {
      "model_module": "@jupyter-widgets/controls",
      "model_module_version": "1.5.0",
      "model_name": "DescriptionStyleModel",
      "state": {
       "description_width": ""
      }
     },
     "9139f6a63edd4de285ddadb23adacfc8": {
      "model_module": "@jupyter-widgets/controls",
      "model_module_version": "1.5.0",
      "model_name": "FloatSliderModel",
      "state": {
       "description": "Ball size",
       "layout": "IPY_MODEL_324fc6d3318347a5818f112f5da42a4d",
       "max": 1.5,
       "step": 0.01,
       "style": "IPY_MODEL_2a1c62780eba42c6bd7a3f2ab5ebdd00",
       "value": 0.5
      }
     },
     "918739ddc41e497bad1dbc8f67a0636f": {
      "model_module": "@jupyter-widgets/base",
      "model_module_version": "1.2.0",
      "model_name": "LayoutModel",
      "state": {}
     },
     "924441544223453496dd6830ed614a30": {
      "model_module": "@jupyter-widgets/base",
      "model_module_version": "1.2.0",
      "model_name": "LayoutModel",
      "state": {}
     },
     "9252cd79410c4e1fac12025207e6bc9e": {
      "model_module": "@jupyter-widgets/controls",
      "model_module_version": "1.5.0",
      "model_name": "FloatSliderModel",
      "state": {
       "description": "Ball size",
       "layout": "IPY_MODEL_48504d078791453ba69999f7e7567b42",
       "max": 1.5,
       "step": 0.01,
       "style": "IPY_MODEL_a8ab704624f847a2ad70b5641accfb34",
       "value": 0.5
      }
     },
     "9297c5057dc64ea6ab9b9831d86e7e61": {
      "model_module": "@jupyter-widgets/base",
      "model_module_version": "1.2.0",
      "model_name": "LayoutModel",
      "state": {}
     },
     "92b4597a0f0042d09245c6161b5824dc": {
      "model_module": "@jupyter-widgets/controls",
      "model_module_version": "1.5.0",
      "model_name": "ButtonModel",
      "state": {
       "icon": "compress",
       "layout": "IPY_MODEL_eb465a3806f54468a556df143a80d12b",
       "style": "IPY_MODEL_16a08f1706284022943cddbc8264daef"
      }
     },
     "936f7ffee03e4a09afb6a04bc59212d0": {
      "model_module": "@jupyter-widgets/base",
      "model_module_version": "1.2.0",
      "model_name": "LayoutModel",
      "state": {}
     },
     "937b2683dec541a8a34ee35e902f0f1f": {
      "model_module": "@jupyter-widgets/base",
      "model_module_version": "1.2.0",
      "model_name": "LayoutModel",
      "state": {}
     },
     "93c3eb6fd7a44600be9eae9031947fea": {
      "model_module": "@jupyter-widgets/controls",
      "model_module_version": "1.5.0",
      "model_name": "ButtonModel",
      "state": {
       "icon": "compress",
       "layout": "IPY_MODEL_98473f603969437b9dbf732b60813214",
       "style": "IPY_MODEL_0996d5e9b42349079772d8be5350e8e9"
      }
     },
     "94039c7515904093b0dfd0dc10a82d9d": {
      "model_module": "@jupyter-widgets/controls",
      "model_module_version": "1.5.0",
      "model_name": "DescriptionStyleModel",
      "state": {
       "description_width": ""
      }
     },
     "94dfe8878b26419590990ff206935ee4": {
      "model_module": "@jupyter-widgets/base",
      "model_module_version": "1.2.0",
      "model_name": "LayoutModel",
      "state": {}
     },
     "95893d4faa734583b3e3f946ac3d612c": {
      "model_module": "@jupyter-widgets/base",
      "model_module_version": "1.2.0",
      "model_name": "LayoutModel",
      "state": {}
     },
     "961cc5359c7147299fef92e04f87eb98": {
      "model_module": "@jupyter-widgets/controls",
      "model_module_version": "1.5.0",
      "model_name": "IntSliderModel",
      "state": {
       "layout": "IPY_MODEL_48b4231a3d99454eba8320fdd0002526",
       "max": 0,
       "style": "IPY_MODEL_b4f24e2f1dad4a678739149444eb1e35"
      }
     },
     "964deb847681464db2b3fdb616994692": {
      "model_module": "@jupyter-widgets/controls",
      "model_module_version": "1.5.0",
      "model_name": "ButtonModel",
      "state": {
       "description": "Save image",
       "layout": "IPY_MODEL_e324875549bb421c8c34bdf5c311d2a9",
       "style": "IPY_MODEL_97eee7b3ad7d49fc97ea45d60f869c3d",
       "tooltip": "Save current frame to file.\nCurrently .png and .html are supported.\nIt takes a bit time, please be patient."
      }
     },
     "968e9d4733574049ab3159e5d4c5ddf4": {
      "model_module": "@jupyter-widgets/base",
      "model_module_version": "1.2.0",
      "model_name": "LayoutModel",
      "state": {}
     },
     "972e8e772c1341efafdf1cc036fdfa3e": {
      "model_module": "@jupyter-widgets/base",
      "model_module_version": "1.2.0",
      "model_name": "LayoutModel",
      "state": {}
     },
     "973b12df11674229887b231252a62b6a": {
      "model_module": "@jupyter-widgets/controls",
      "model_module_version": "1.5.0",
      "model_name": "HBoxModel",
      "state": {
       "children": [
        "IPY_MODEL_a4cab0cca1c5443ba1fd863554e2262f",
        "IPY_MODEL_d8109a8ad1354310be74c2d5230a8c66"
       ],
       "layout": "IPY_MODEL_bef16a4694c04249a4bde8573b806185"
      }
     },
     "9752a8cee2174d4cbce1241b86a4be1b": {
      "model_module": "@jupyter-widgets/controls",
      "model_module_version": "1.5.0",
      "model_name": "DropdownModel",
      "state": {
       "_options_labels": [
        "All",
        "O",
        "Sn"
       ],
       "description": "Show",
       "index": 0,
       "layout": "IPY_MODEL_efc9c05a0c154509a9ad90e400e14260",
       "style": "IPY_MODEL_d31643a72ea94c44ba116a4217a758d4"
      }
     },
     "97adf9baf1b04414a5b16e82163d3218": {
      "model_module": "@jupyter-widgets/controls",
      "model_module_version": "1.5.0",
      "model_name": "ButtonStyleModel",
      "state": {}
     },
     "97eb4c60718d4d1c9aa9410bea631a0c": {
      "model_module": "@jupyter-widgets/controls",
      "model_module_version": "1.5.0",
      "model_name": "ButtonStyleModel",
      "state": {}
     },
     "97eee7b3ad7d49fc97ea45d60f869c3d": {
      "model_module": "@jupyter-widgets/controls",
      "model_module_version": "1.5.0",
      "model_name": "ButtonStyleModel",
      "state": {}
     },
     "98473f603969437b9dbf732b60813214": {
      "model_module": "@jupyter-widgets/base",
      "model_module_version": "1.2.0",
      "model_name": "LayoutModel",
      "state": {
       "width": "34px"
      }
     },
     "9902fcb51a9046b0a5af02b07d4f6a47": {
      "model_module": "@jupyter-widgets/controls",
      "model_module_version": "1.5.0",
      "model_name": "SliderStyleModel",
      "state": {
       "description_width": ""
      }
     },
     "991bd65355c7440ea81b8cd7b25435ad": {
      "model_module": "@jupyter-widgets/controls",
      "model_module_version": "1.5.0",
      "model_name": "IntSliderModel",
      "state": {
       "layout": "IPY_MODEL_c8477109186141ffa6d07581330e0f06",
       "max": 1,
       "style": "IPY_MODEL_6716bb33d2a041798a7fdf6f05caed29"
      }
     },
     "99d6be565e3541cdb777e220043007f1": {
      "model_module": "@jupyter-widgets/controls",
      "model_module_version": "1.5.0",
      "model_name": "DescriptionStyleModel",
      "state": {
       "description_width": ""
      }
     },
     "9a13e535186e452abc5ca78aa7e7fb4a": {
      "model_module": "@jupyter-widgets/base",
      "model_module_version": "1.2.0",
      "model_name": "LayoutModel",
      "state": {}
     },
     "9a56513c04c04b2895e6481153583d3f": {
      "model_module": "nglview-js-widgets",
      "model_module_version": "3.0.1",
      "model_name": "NGLModel",
      "state": {
       "_camera_orientation": [
        41.48129435432746,
        0,
        0,
        0,
        0,
        41.48129435432746,
        0,
        0,
        0,
        0,
        41.48129435432746,
        0,
        0,
        0,
        0,
        1
       ],
       "_camera_str": "orthographic",
       "_gui_theme": null,
       "_ibtn_fullscreen": "IPY_MODEL_0ed9dcf6cbea4a9da320bf3347d3238b",
       "_igui": null,
       "_iplayer": "IPY_MODEL_74ca7618b91d400cae31545d6edb9c44",
       "_ngl_color_dict": {},
       "_ngl_coordinate_resource": {},
       "_ngl_full_stage_parameters": {
        "ambientColor": 14540253,
        "ambientIntensity": 0.2,
        "backgroundColor": "white",
        "cameraEyeSep": 0.3,
        "cameraFov": 40,
        "cameraType": "orthographic",
        "clipDist": 0,
        "clipFar": 100,
        "clipNear": 0,
        "fogFar": 100,
        "fogNear": 50,
        "hoverTimeout": 0,
        "impostor": true,
        "lightColor": 14540253,
        "lightIntensity": 1,
        "mousePreset": "default",
        "panSpeed": 1,
        "quality": "medium",
        "rotateSpeed": 2,
        "sampleLevel": 0,
        "tooltip": true,
        "workerDefault": true,
        "zoomSpeed": 1.2
       },
       "_ngl_msg_archive": [
        {
         "args": [
          {
           "binary": false,
           "data": "MODEL     1\nATOM      1   Pd MOL     1      -9.800  -9.800   0.000  1.00  0.00          PD  \nATOM      2   Pd MOL     1     -11.760  -5.880  -1.960  1.00  0.00          PD  \nATOM      3   Pd MOL     1      -9.800  -7.840  -1.960  1.00  0.00          PD  \nATOM      4   Pd MOL     1      -9.800  -5.880  -3.920  1.00  0.00          PD  \nATOM      5   Pd MOL     1     -11.760  -7.840   0.000  1.00  0.00          PD  \nATOM      6   Pd MOL     1     -11.760  -5.880   1.960  1.00  0.00          PD  \nATOM      7   Pd MOL     1      -9.800  -7.840   1.960  1.00  0.00          PD  \nATOM      8   Pt MOL     1      -9.800  -5.880   0.000  1.00  0.00          PT  \nATOM      9   Pd MOL     1      -9.800  -5.880   3.920  1.00  0.00          PD  \nATOM     10   Pd MOL     1     -11.760  -1.960  -5.880  1.00  0.00          PD  \nATOM     11   Pd MOL     1      -9.800  -3.920  -5.880  1.00  0.00          PD  \nATOM     12   Pd MOL     1      -9.800  -1.960  -7.840  1.00  0.00          PD  \nATOM     13   Pd MOL     1     -11.760  -3.920  -3.920  1.00  0.00          PD  \nATOM     14   Pd MOL     1     -11.760  -1.960  -1.960  1.00  0.00          PD  \nATOM     15   Pt MOL     1      -9.800  -3.920  -1.960  1.00  0.00          PT  \nATOM     16   Pt MOL     1      -9.800  -1.960  -3.920  1.00  0.00          PT  \nATOM     17   Pd MOL     1     -11.760  -3.920   0.000  1.00  0.00          PD  \nATOM     18   Pd MOL     1     -11.760  -1.960   1.960  1.00  0.00          PD  \nATOM     19   Pt MOL     1      -9.800  -3.920   1.960  1.00  0.00          PT  \nATOM     20   Pt MOL     1      -9.800  -1.960   0.000  1.00  0.00          PT  \nATOM     21   Pd MOL     1     -11.760  -3.920   3.920  1.00  0.00          PD  \nATOM     22   Pd MOL     1     -11.760  -1.960   5.880  1.00  0.00          PD  \nATOM     23   Pd MOL     1      -9.800  -3.920   5.880  1.00  0.00          PD  \nATOM     24   Pt MOL     1      -9.800  -1.960   3.920  1.00  0.00          PT  \nATOM     25   Pd MOL     1      -9.800  -1.960   7.840  1.00  0.00          PD  \nATOM     26   Pd MOL     1      -9.800   0.000  -9.800  1.00  0.00          PD  \nATOM     27   Pd MOL     1     -11.760   0.000  -7.840  1.00  0.00          PD  \nATOM     28   Pd MOL     1     -11.760   1.960  -5.880  1.00  0.00          PD  \nATOM     29   Pt MOL     1      -9.800   0.000  -5.880  1.00  0.00          PT  \nATOM     30   Pd MOL     1      -9.800   1.960  -7.840  1.00  0.00          PD  \nATOM     31   Pd MOL     1     -11.760   0.000  -3.920  1.00  0.00          PD  \nATOM     32   Pd MOL     1     -11.760   1.960  -1.960  1.00  0.00          PD  \nATOM     33   Pt MOL     1      -9.800   0.000  -1.960  1.00  0.00          PT  \nATOM     34   Pt MOL     1      -9.800   1.960  -3.920  1.00  0.00          PT  \nATOM     35   Pd MOL     1     -11.760   0.000   0.000  1.00  0.00          PD  \nATOM     36   Pd MOL     1     -11.760   1.960   1.960  1.00  0.00          PD  \nATOM     37   Pt MOL     1      -9.800   0.000   1.960  1.00  0.00          PT  \nATOM     38   Pt MOL     1      -9.800   1.960   0.000  1.00  0.00          PT  \nATOM     39   Pd MOL     1     -11.760   0.000   3.920  1.00  0.00          PD  \nATOM     40   Pd MOL     1     -11.760   1.960   5.880  1.00  0.00          PD  \nATOM     41   Pt MOL     1      -9.800   0.000   5.880  1.00  0.00          PT  \nATOM     42   Pt MOL     1      -9.800   1.960   3.920  1.00  0.00          PT  \nATOM     43   Pd MOL     1     -11.760   0.000   7.840  1.00  0.00          PD  \nATOM     44   Pd MOL     1      -9.800   0.000   9.800  1.00  0.00          PD  \nATOM     45   Pd MOL     1      -9.800   1.960   7.840  1.00  0.00          PD  \nATOM     46   Pd MOL     1      -9.800   3.920  -5.880  1.00  0.00          PD  \nATOM     47   Pd MOL     1     -11.760   3.920  -3.920  1.00  0.00          PD  \nATOM     48   Pd MOL     1     -11.760   5.880  -1.960  1.00  0.00          PD  \nATOM     49   Pt MOL     1      -9.800   3.920  -1.960  1.00  0.00          PT  \nATOM     50   Pd MOL     1      -9.800   5.880  -3.920  1.00  0.00          PD  \nATOM     51   Pd MOL     1     -11.760   3.920   0.000  1.00  0.00          PD  \nATOM     52   Pd MOL     1     -11.760   5.880   1.960  1.00  0.00          PD  \nATOM     53   Pt MOL     1      -9.800   3.920   1.960  1.00  0.00          PT  \nATOM     54   Pt MOL     1      -9.800   5.880   0.000  1.00  0.00          PT  \nATOM     55   Pd MOL     1     -11.760   3.920   3.920  1.00  0.00          PD  \nATOM     56   Pd MOL     1      -9.800   3.920   5.880  1.00  0.00          PD  \nATOM     57   Pd MOL     1      -9.800   5.880   3.920  1.00  0.00          PD  \nATOM     58   Pd MOL     1      -9.800   7.840  -1.960  1.00  0.00          PD  \nATOM     59   Pd MOL     1     -11.760   7.840   0.000  1.00  0.00          PD  \nATOM     60   Pd MOL     1      -9.800   7.840   1.960  1.00  0.00          PD  \nATOM     61   Pd MOL     1      -9.800   9.800   0.000  1.00  0.00          PD  \nATOM     62   Pd MOL     1      -7.840  -9.800  -1.960  1.00  0.00          PD  \nATOM     63   Pd MOL     1      -5.880 -11.760  -1.960  1.00  0.00          PD  \nATOM     64   Pd MOL     1      -5.880  -9.800  -3.920  1.00  0.00          PD  \nATOM     65   Pd MOL     1      -7.840 -11.760   0.000  1.00  0.00          PD  \nATOM     66   Pd MOL     1      -7.840  -9.800   1.960  1.00  0.00          PD  \nATOM     67   Pd MOL     1      -5.880 -11.760   1.960  1.00  0.00          PD  \nATOM     68   Pt MOL     1      -5.880  -9.800   0.000  1.00  0.00          PT  \nATOM     69   Pd MOL     1      -5.880  -9.800   3.920  1.00  0.00          PD  \nATOM     70   Pd MOL     1      -7.840  -5.880  -5.880  1.00  0.00          PD  \nATOM     71   Pd MOL     1      -5.880  -7.840  -5.880  1.00  0.00          PD  \nATOM     72   Pd MOL     1      -5.880  -5.880  -7.840  1.00  0.00          PD  \nATOM     73   Pd MOL     1      -7.840  -7.840  -3.920  1.00  0.00          PD  \nATOM     74   Pt MOL     1      -7.840  -5.880  -1.960  1.00  0.00          PT  \nATOM     75   Pt MOL     1      -5.880  -7.840  -1.960  1.00  0.00          PT  \nATOM     76   Pt MOL     1      -5.880  -5.880  -3.920  1.00  0.00          PT  \nATOM     77   Pt MOL     1      -7.840  -7.840   0.000  1.00  0.00          PT  \nATOM     78   Pt MOL     1      -7.840  -5.880   1.960  1.00  0.00          PT  \nATOM     79   Pt MOL     1      -5.880  -7.840   1.960  1.00  0.00          PT  \nATOM     80   Pt MOL     1      -5.880  -5.880   0.000  1.00  0.00          PT  \nATOM     81   Pd MOL     1      -7.840  -7.840   3.920  1.00  0.00          PD  \nATOM     82   Pd MOL     1      -7.840  -5.880   5.880  1.00  0.00          PD  \nATOM     83   Pd MOL     1      -5.880  -7.840   5.880  1.00  0.00          PD  \nATOM     84   Pt MOL     1      -5.880  -5.880   3.920  1.00  0.00          PT  \nATOM     85   Pd MOL     1      -5.880  -5.880   7.840  1.00  0.00          PD  \nATOM     86   Pd MOL     1      -7.840  -1.960  -9.800  1.00  0.00          PD  \nATOM     87   Pd MOL     1      -5.880  -3.920  -9.800  1.00  0.00          PD  \nATOM     88   Pd MOL     1      -5.880  -1.960 -11.760  1.00  0.00          PD  \nATOM     89   Pd MOL     1      -7.840  -3.920  -7.840  1.00  0.00          PD  \nATOM     90   Pt MOL     1      -7.840  -1.960  -5.880  1.00  0.00          PT  \nATOM     91   Pt MOL     1      -5.880  -3.920  -5.880  1.00  0.00          PT  \nATOM     92   Pt MOL     1      -5.880  -1.960  -7.840  1.00  0.00          PT  \nATOM     93   Pt MOL     1      -7.840  -3.920  -3.920  1.00  0.00          PT  \nATOM     94   Pt MOL     1      -7.840  -1.960  -1.960  1.00  0.00          PT  \nATOM     95   Pt MOL     1      -5.880  -3.920  -1.960  1.00  0.00          PT  \nATOM     96   Pt MOL     1      -5.880  -1.960  -3.920  1.00  0.00          PT  \nATOM     97   Pt MOL     1      -7.840  -3.920   0.000  1.00  0.00          PT  \nATOM     98   Pt MOL     1      -7.840  -1.960   1.960  1.00  0.00          PT  \nATOM     99   Pt MOL     1      -5.880  -3.920   1.960  1.00  0.00          PT  \nATOM    100   Pt MOL     1      -5.880  -1.960   0.000  1.00  0.00          PT  \nATOM    101   Pt MOL     1      -7.840  -3.920   3.920  1.00  0.00          PT  \nATOM    102   Pt MOL     1      -7.840  -1.960   5.880  1.00  0.00          PT  \nATOM    103   Pt MOL     1      -5.880  -3.920   5.880  1.00  0.00          PT  \nATOM    104   Pt MOL     1      -5.880  -1.960   3.920  1.00  0.00          PT  \nATOM    105   Pd MOL     1      -7.840  -3.920   7.840  1.00  0.00          PD  \nATOM    106   Pd MOL     1      -7.840  -1.960   9.800  1.00  0.00          PD  \nATOM    107   Pd MOL     1      -5.880  -3.920   9.800  1.00  0.00          PD  \nATOM    108   Pt MOL     1      -5.880  -1.960   7.840  1.00  0.00          PT  \nATOM    109   Pd MOL     1      -5.880  -1.960  11.760  1.00  0.00          PD  \nATOM    110   Pd MOL     1      -7.840   0.000 -11.760  1.00  0.00          PD  \nATOM    111   Pd MOL     1      -7.840   1.960  -9.800  1.00  0.00          PD  \nATOM    112   Pt MOL     1      -5.880   0.000  -9.800  1.00  0.00          PT  \nATOM    113   Pd MOL     1      -5.880   1.960 -11.760  1.00  0.00          PD  \nATOM    114   Pt MOL     1      -7.840   0.000  -7.840  1.00  0.00          PT  \nATOM    115   Pt MOL     1      -7.840   1.960  -5.880  1.00  0.00          PT  \nATOM    116   Pt MOL     1      -5.880   0.000  -5.880  1.00  0.00          PT  \nATOM    117   Pt MOL     1      -5.880   1.960  -7.840  1.00  0.00          PT  \nATOM    118   Pt MOL     1      -7.840   0.000  -3.920  1.00  0.00          PT  \nATOM    119   Pt MOL     1      -7.840   1.960  -1.960  1.00  0.00          PT  \nATOM    120   Pt MOL     1      -5.880   0.000  -1.960  1.00  0.00          PT  \nATOM    121   Pt MOL     1      -5.880   1.960  -3.920  1.00  0.00          PT  \nATOM    122   Pt MOL     1      -7.840   0.000   0.000  1.00  0.00          PT  \nATOM    123   Pt MOL     1      -7.840   1.960   1.960  1.00  0.00          PT  \nATOM    124   Pt MOL     1      -5.880   0.000   1.960  1.00  0.00          PT  \nATOM    125   Pt MOL     1      -5.880   1.960   0.000  1.00  0.00          PT  \nATOM    126   Pt MOL     1      -7.840   0.000   3.920  1.00  0.00          PT  \nATOM    127   Pt MOL     1      -7.840   1.960   5.880  1.00  0.00          PT  \nATOM    128   Pt MOL     1      -5.880   0.000   5.880  1.00  0.00          PT  \nATOM    129   Pt MOL     1      -5.880   1.960   3.920  1.00  0.00          PT  \nATOM    130   Pt MOL     1      -7.840   0.000   7.840  1.00  0.00          PT  \nATOM    131   Pd MOL     1      -7.840   1.960   9.800  1.00  0.00          PD  \nATOM    132   Pt MOL     1      -5.880   0.000   9.800  1.00  0.00          PT  \nATOM    133   Pt MOL     1      -5.880   1.960   7.840  1.00  0.00          PT  \nATOM    134   Pd MOL     1      -7.840   0.000  11.760  1.00  0.00          PD  \nATOM    135   Pd MOL     1      -5.880   1.960  11.760  1.00  0.00          PD  \nATOM    136   Pd MOL     1      -5.880   3.920  -9.800  1.00  0.00          PD  \nATOM    137   Pd MOL     1      -7.840   3.920  -7.840  1.00  0.00          PD  \nATOM    138   Pd MOL     1      -7.840   5.880  -5.880  1.00  0.00          PD  \nATOM    139   Pt MOL     1      -5.880   3.920  -5.880  1.00  0.00          PT  \nATOM    140   Pd MOL     1      -5.880   5.880  -7.840  1.00  0.00          PD  \nATOM    141   Pt MOL     1      -7.840   3.920  -3.920  1.00  0.00          PT  \nATOM    142   Pt MOL     1      -7.840   5.880  -1.960  1.00  0.00          PT  \nATOM    143   Pt MOL     1      -5.880   3.920  -1.960  1.00  0.00          PT  \nATOM    144   Pt MOL     1      -5.880   5.880  -3.920  1.00  0.00          PT  \nATOM    145   Pt MOL     1      -7.840   3.920   0.000  1.00  0.00          PT  \nATOM    146   Pt MOL     1      -7.840   5.880   1.960  1.00  0.00          PT  \nATOM    147   Pt MOL     1      -5.880   3.920   1.960  1.00  0.00          PT  \nATOM    148   Pt MOL     1      -5.880   5.880   0.000  1.00  0.00          PT  \nATOM    149   Pt MOL     1      -7.840   3.920   3.920  1.00  0.00          PT  \nATOM    150   Pd MOL     1      -7.840   5.880   5.880  1.00  0.00          PD  \nATOM    151   Pt MOL     1      -5.880   3.920   5.880  1.00  0.00          PT  \nATOM    152   Pt MOL     1      -5.880   5.880   3.920  1.00  0.00          PT  \nATOM    153   Pd MOL     1      -7.840   3.920   7.840  1.00  0.00          PD  \nATOM    154   Pd MOL     1      -5.880   3.920   9.800  1.00  0.00          PD  \nATOM    155   Pd MOL     1      -5.880   5.880   7.840  1.00  0.00          PD  \nATOM    156   Pd MOL     1      -5.880   7.840  -5.880  1.00  0.00          PD  \nATOM    157   Pd MOL     1      -7.840   7.840  -3.920  1.00  0.00          PD  \nATOM    158   Pd MOL     1      -7.840   9.800  -1.960  1.00  0.00          PD  \nATOM    159   Pt MOL     1      -5.880   7.840  -1.960  1.00  0.00          PT  \nATOM    160   Pd MOL     1      -5.880   9.800  -3.920  1.00  0.00          PD  \nATOM    161   Pt MOL     1      -7.840   7.840   0.000  1.00  0.00          PT  \nATOM    162   Pd MOL     1      -7.840   9.800   1.960  1.00  0.00          PD  \nATOM    163   Pt MOL     1      -5.880   7.840   1.960  1.00  0.00          PT  \nATOM    164   Pt MOL     1      -5.880   9.800   0.000  1.00  0.00          PT  \nATOM    165   Pd MOL     1      -7.840   7.840   3.920  1.00  0.00          PD  \nATOM    166   Pd MOL     1      -5.880   7.840   5.880  1.00  0.00          PD  \nATOM    167   Pd MOL     1      -5.880   9.800   3.920  1.00  0.00          PD  \nATOM    168   Pd MOL     1      -5.880  11.760  -1.960  1.00  0.00          PD  \nATOM    169   Pd MOL     1      -7.840  11.760   0.000  1.00  0.00          PD  \nATOM    170   Pd MOL     1      -5.880  11.760   1.960  1.00  0.00          PD  \nATOM    171   Pd MOL     1      -3.920  -9.800  -5.880  1.00  0.00          PD  \nATOM    172   Pd MOL     1      -1.960 -11.760  -5.880  1.00  0.00          PD  \nATOM    173   Pd MOL     1      -1.960  -9.800  -7.840  1.00  0.00          PD  \nATOM    174   Pd MOL     1      -3.920 -11.760  -3.920  1.00  0.00          PD  \nATOM    175   Pt MOL     1      -3.920  -9.800  -1.960  1.00  0.00          PT  \nATOM    176   Pd MOL     1      -1.960 -11.760  -1.960  1.00  0.00          PD  \nATOM    177   Pt MOL     1      -1.960  -9.800  -3.920  1.00  0.00          PT  \nATOM    178   Pd MOL     1      -3.920 -11.760   0.000  1.00  0.00          PD  \nATOM    179   Pt MOL     1      -3.920  -9.800   1.960  1.00  0.00          PT  \nATOM    180   Pd MOL     1      -1.960 -11.760   1.960  1.00  0.00          PD  \nATOM    181   Pt MOL     1      -1.960  -9.800   0.000  1.00  0.00          PT  \nATOM    182   Pd MOL     1      -3.920 -11.760   3.920  1.00  0.00          PD  \nATOM    183   Pd MOL     1      -3.920  -9.800   5.880  1.00  0.00          PD  \nATOM    184   Pd MOL     1      -1.960 -11.760   5.880  1.00  0.00          PD  \nATOM    185   Pt MOL     1      -1.960  -9.800   3.920  1.00  0.00          PT  \nATOM    186   Pd MOL     1      -1.960  -9.800   7.840  1.00  0.00          PD  \nATOM    187   Pd MOL     1      -3.920  -5.880  -9.800  1.00  0.00          PD  \nATOM    188   Pd MOL     1      -1.960  -7.840  -9.800  1.00  0.00          PD  \nATOM    189   Pd MOL     1      -1.960  -5.880 -11.760  1.00  0.00          PD  \nATOM    190   Pd MOL     1      -3.920  -7.840  -7.840  1.00  0.00          PD  \nATOM    191   Pt MOL     1      -3.920  -5.880  -5.880  1.00  0.00          PT  \nATOM    192   Pt MOL     1      -1.960  -7.840  -5.880  1.00  0.00          PT  \nATOM    193   Pt MOL     1      -1.960  -5.880  -7.840  1.00  0.00          PT  \nATOM    194   Pt MOL     1      -3.920  -7.840  -3.920  1.00  0.00          PT  \nATOM    195   Pt MOL     1      -3.920  -5.880  -1.960  1.00  0.00          PT  \nATOM    196   Pt MOL     1      -1.960  -7.840  -1.960  1.00  0.00          PT  \nATOM    197   Pt MOL     1      -1.960  -5.880  -3.920  1.00  0.00          PT  \nATOM    198   Pt MOL     1      -3.920  -7.840   0.000  1.00  0.00          PT  \nATOM    199   Pt MOL     1      -3.920  -5.880   1.960  1.00  0.00          PT  \nATOM    200   Pt MOL     1      -1.960  -7.840   1.960  1.00  0.00          PT  \nATOM    201   Pt MOL     1      -1.960  -5.880   0.000  1.00  0.00          PT  \nATOM    202   Pt MOL     1      -3.920  -7.840   3.920  1.00  0.00          PT  \nATOM    203   Pt MOL     1      -3.920  -5.880   5.880  1.00  0.00          PT  \nATOM    204   Pt MOL     1      -1.960  -7.840   5.880  1.00  0.00          PT  \nATOM    205   Pt MOL     1      -1.960  -5.880   3.920  1.00  0.00          PT  \nATOM    206   Pd MOL     1      -3.920  -7.840   7.840  1.00  0.00          PD  \nATOM    207   Pd MOL     1      -3.920  -5.880   9.800  1.00  0.00          PD  \nATOM    208   Pd MOL     1      -1.960  -7.840   9.800  1.00  0.00          PD  \nATOM    209   Pt MOL     1      -1.960  -5.880   7.840  1.00  0.00          PT  \nATOM    210   Pd MOL     1      -1.960  -5.880  11.760  1.00  0.00          PD  \nATOM    211   Pd MOL     1      -3.920  -3.920 -11.760  1.00  0.00          PD  \nATOM    212   Pt MOL     1      -3.920  -1.960  -9.800  1.00  0.00          PT  \nATOM    213   Pt MOL     1      -1.960  -3.920  -9.800  1.00  0.00          PT  \nATOM    214   Pd MOL     1      -1.960  -1.960 -11.760  1.00  0.00          PD  \nATOM    215   Pt MOL     1      -3.920  -3.920  -7.840  1.00  0.00          PT  \nATOM    216   Pt MOL     1      -3.920  -1.960  -5.880  1.00  0.00          PT  \nATOM    217   Pt MOL     1      -1.960  -3.920  -5.880  1.00  0.00          PT  \nATOM    218   Pt MOL     1      -1.960  -1.960  -7.840  1.00  0.00          PT  \nATOM    219   Pt MOL     1      -3.920  -3.920  -3.920  1.00  0.00          PT  \nATOM    220   Pt MOL     1      -3.920  -1.960  -1.960  1.00  0.00          PT  \nATOM    221   Pt MOL     1      -1.960  -3.920  -1.960  1.00  0.00          PT  \nATOM    222   Pt MOL     1      -1.960  -1.960  -3.920  1.00  0.00          PT  \nATOM    223   Pt MOL     1      -3.920  -3.920   0.000  1.00  0.00          PT  \nATOM    224   Pt MOL     1      -3.920  -1.960   1.960  1.00  0.00          PT  \nATOM    225   Pt MOL     1      -1.960  -3.920   1.960  1.00  0.00          PT  \nATOM    226   Pt MOL     1      -1.960  -1.960   0.000  1.00  0.00          PT  \nATOM    227   Pt MOL     1      -3.920  -3.920   3.920  1.00  0.00          PT  \nATOM    228   Pt MOL     1      -3.920  -1.960   5.880  1.00  0.00          PT  \nATOM    229   Pt MOL     1      -1.960  -3.920   5.880  1.00  0.00          PT  \nATOM    230   Pt MOL     1      -1.960  -1.960   3.920  1.00  0.00          PT  \nATOM    231   Pt MOL     1      -3.920  -3.920   7.840  1.00  0.00          PT  \nATOM    232   Pt MOL     1      -3.920  -1.960   9.800  1.00  0.00          PT  \nATOM    233   Pt MOL     1      -1.960  -3.920   9.800  1.00  0.00          PT  \nATOM    234   Pt MOL     1      -1.960  -1.960   7.840  1.00  0.00          PT  \nATOM    235   Pd MOL     1      -3.920  -3.920  11.760  1.00  0.00          PD  \nATOM    236   Pd MOL     1      -1.960  -1.960  11.760  1.00  0.00          PD  \nATOM    237   Pd MOL     1      -3.920   0.000 -11.760  1.00  0.00          PD  \nATOM    238   Pt MOL     1      -3.920   1.960  -9.800  1.00  0.00          PT  \nATOM    239   Pt MOL     1      -1.960   0.000  -9.800  1.00  0.00          PT  \nATOM    240   Pd MOL     1      -1.960   1.960 -11.760  1.00  0.00          PD  \nATOM    241   Pt MOL     1      -3.920   0.000  -7.840  1.00  0.00          PT  \nATOM    242   Pt MOL     1      -3.920   1.960  -5.880  1.00  0.00          PT  \nATOM    243   Pt MOL     1      -1.960   0.000  -5.880  1.00  0.00          PT  \nATOM    244   Pt MOL     1      -1.960   1.960  -7.840  1.00  0.00          PT  \nATOM    245   Pt MOL     1      -3.920   0.000  -3.920  1.00  0.00          PT  \nATOM    246   Pt MOL     1      -3.920   1.960  -1.960  1.00  0.00          PT  \nATOM    247   Pt MOL     1      -1.960   0.000  -1.960  1.00  0.00          PT  \nATOM    248   Pt MOL     1      -1.960   1.960  -3.920  1.00  0.00          PT  \nATOM    249   Pt MOL     1      -3.920   0.000   0.000  1.00  0.00          PT  \nATOM    250   Pt MOL     1      -3.920   1.960   1.960  1.00  0.00          PT  \nATOM    251   Pt MOL     1      -1.960   0.000   1.960  1.00  0.00          PT  \nATOM    252   Pt MOL     1      -1.960   1.960   0.000  1.00  0.00          PT  \nATOM    253   Pt MOL     1      -3.920   0.000   3.920  1.00  0.00          PT  \nATOM    254   Pt MOL     1      -3.920   1.960   5.880  1.00  0.00          PT  \nATOM    255   Pt MOL     1      -1.960   0.000   5.880  1.00  0.00          PT  \nATOM    256   Pt MOL     1      -1.960   1.960   3.920  1.00  0.00          PT  \nATOM    257   Pt MOL     1      -3.920   0.000   7.840  1.00  0.00          PT  \nATOM    258   Pt MOL     1      -3.920   1.960   9.800  1.00  0.00          PT  \nATOM    259   Pt MOL     1      -1.960   0.000   9.800  1.00  0.00          PT  \nATOM    260   Pt MOL     1      -1.960   1.960   7.840  1.00  0.00          PT  \nATOM    261   Pd MOL     1      -3.920   0.000  11.760  1.00  0.00          PD  \nATOM    262   Pd MOL     1      -1.960   1.960  11.760  1.00  0.00          PD  \nATOM    263   Pd MOL     1      -3.920   3.920 -11.760  1.00  0.00          PD  \nATOM    264   Pd MOL     1      -3.920   5.880  -9.800  1.00  0.00          PD  \nATOM    265   Pt MOL     1      -1.960   3.920  -9.800  1.00  0.00          PT  \nATOM    266   Pd MOL     1      -1.960   5.880 -11.760  1.00  0.00          PD  \nATOM    267   Pt MOL     1      -3.920   3.920  -7.840  1.00  0.00          PT  \nATOM    268   Pt MOL     1      -3.920   5.880  -5.880  1.00  0.00          PT  \nATOM    269   Pt MOL     1      -1.960   3.920  -5.880  1.00  0.00          PT  \nATOM    270   Pt MOL     1      -1.960   5.880  -7.840  1.00  0.00          PT  \nATOM    271   Pt MOL     1      -3.920   3.920  -3.920  1.00  0.00          PT  \nATOM    272   Pt MOL     1      -3.920   5.880  -1.960  1.00  0.00          PT  \nATOM    273   Pt MOL     1      -1.960   3.920  -1.960  1.00  0.00          PT  \nATOM    274   Pt MOL     1      -1.960   5.880  -3.920  1.00  0.00          PT  \nATOM    275   Pt MOL     1      -3.920   3.920   0.000  1.00  0.00          PT  \nATOM    276   Pt MOL     1      -3.920   5.880   1.960  1.00  0.00          PT  \nATOM    277   Pt MOL     1      -1.960   3.920   1.960  1.00  0.00          PT  \nATOM    278   Pt MOL     1      -1.960   5.880   0.000  1.00  0.00          PT  \nATOM    279   Pt MOL     1      -3.920   3.920   3.920  1.00  0.00          PT  \nATOM    280   Pt MOL     1      -3.920   5.880   5.880  1.00  0.00          PT  \nATOM    281   Pt MOL     1      -1.960   3.920   5.880  1.00  0.00          PT  \nATOM    282   Pt MOL     1      -1.960   5.880   3.920  1.00  0.00          PT  \nATOM    283   Pt MOL     1      -3.920   3.920   7.840  1.00  0.00          PT  \nATOM    284   Pd MOL     1      -3.920   5.880   9.800  1.00  0.00          PD  \nATOM    285   Pt MOL     1      -1.960   3.920   9.800  1.00  0.00          PT  \nATOM    286   Pt MOL     1      -1.960   5.880   7.840  1.00  0.00          PT  \nATOM    287   Pd MOL     1      -3.920   3.920  11.760  1.00  0.00          PD  \nATOM    288   Pd MOL     1      -1.960   5.880  11.760  1.00  0.00          PD  \nATOM    289   Pd MOL     1      -1.960   7.840  -9.800  1.00  0.00          PD  \nATOM    290   Pd MOL     1      -3.920   7.840  -7.840  1.00  0.00          PD  \nATOM    291   Pd MOL     1      -3.920   9.800  -5.880  1.00  0.00          PD  \nATOM    292   Pt MOL     1      -1.960   7.840  -5.880  1.00  0.00          PT  \nATOM    293   Pd MOL     1      -1.960   9.800  -7.840  1.00  0.00          PD  \nATOM    294   Pt MOL     1      -3.920   7.840  -3.920  1.00  0.00          PT  \nATOM    295   Pt MOL     1      -3.920   9.800  -1.960  1.00  0.00          PT  \nATOM    296   Pt MOL     1      -1.960   7.840  -1.960  1.00  0.00          PT  \nATOM    297   Pt MOL     1      -1.960   9.800  -3.920  1.00  0.00          PT  \nATOM    298   Pt MOL     1      -3.920   7.840   0.000  1.00  0.00          PT  \nATOM    299   Pt MOL     1      -3.920   9.800   1.960  1.00  0.00          PT  \nATOM    300   Pt MOL     1      -1.960   7.840   1.960  1.00  0.00          PT  \nATOM    301   Pt MOL     1      -1.960   9.800   0.000  1.00  0.00          PT  \nATOM    302   Pt MOL     1      -3.920   7.840   3.920  1.00  0.00          PT  \nATOM    303   Pd MOL     1      -3.920   9.800   5.880  1.00  0.00          PD  \nATOM    304   Pt MOL     1      -1.960   7.840   5.880  1.00  0.00          PT  \nATOM    305   Pt MOL     1      -1.960   9.800   3.920  1.00  0.00          PT  \nATOM    306   Pd MOL     1      -3.920   7.840   7.840  1.00  0.00          PD  \nATOM    307   Pd MOL     1      -1.960   7.840   9.800  1.00  0.00          PD  \nATOM    308   Pd MOL     1      -1.960   9.800   7.840  1.00  0.00          PD  \nATOM    309   Pd MOL     1      -1.960  11.760  -5.880  1.00  0.00          PD  \nATOM    310   Pd MOL     1      -3.920  11.760  -3.920  1.00  0.00          PD  \nATOM    311   Pd MOL     1      -1.960  11.760  -1.960  1.00  0.00          PD  \nATOM    312   Pd MOL     1      -3.920  11.760   0.000  1.00  0.00          PD  \nATOM    313   Pd MOL     1      -1.960  11.760   1.960  1.00  0.00          PD  \nATOM    314   Pd MOL     1      -3.920  11.760   3.920  1.00  0.00          PD  \nATOM    315   Pd MOL     1      -1.960  11.760   5.880  1.00  0.00          PD  \nATOM    316   Pd MOL     1       0.000  -9.800  -9.800  1.00  0.00          PD  \nATOM    317   Pd MOL     1       0.000 -11.760  -7.840  1.00  0.00          PD  \nATOM    318   Pt MOL     1       0.000  -9.800  -5.880  1.00  0.00          PT  \nATOM    319   Pd MOL     1       1.960 -11.760  -5.880  1.00  0.00          PD  \nATOM    320   Pd MOL     1       1.960  -9.800  -7.840  1.00  0.00          PD  \nATOM    321   Pd MOL     1       0.000 -11.760  -3.920  1.00  0.00          PD  \nATOM    322   Pt MOL     1       0.000  -9.800  -1.960  1.00  0.00          PT  \nATOM    323   Pd MOL     1       1.960 -11.760  -1.960  1.00  0.00          PD  \nATOM    324   Pt MOL     1       1.960  -9.800  -3.920  1.00  0.00          PT  \nATOM    325   Pd MOL     1       0.000 -11.760   0.000  1.00  0.00          PD  \nATOM    326   Pt MOL     1       0.000  -9.800   1.960  1.00  0.00          PT  \nATOM    327   Pd MOL     1       1.960 -11.760   1.960  1.00  0.00          PD  \nATOM    328   Pt MOL     1       1.960  -9.800   0.000  1.00  0.00          PT  \nATOM    329   Pd MOL     1       0.000 -11.760   3.920  1.00  0.00          PD  \nATOM    330   Pt MOL     1       0.000  -9.800   5.880  1.00  0.00          PT  \nATOM    331   Pd MOL     1       1.960 -11.760   5.880  1.00  0.00          PD  \nATOM    332   Pt MOL     1       1.960  -9.800   3.920  1.00  0.00          PT  \nATOM    333   Pd MOL     1       0.000 -11.760   7.840  1.00  0.00          PD  \nATOM    334   Pd MOL     1       0.000  -9.800   9.800  1.00  0.00          PD  \nATOM    335   Pd MOL     1       1.960  -9.800   7.840  1.00  0.00          PD  \nATOM    336   Pd MOL     1       0.000  -7.840 -11.760  1.00  0.00          PD  \nATOM    337   Pt MOL     1       0.000  -5.880  -9.800  1.00  0.00          PT  \nATOM    338   Pd MOL     1       1.960  -7.840  -9.800  1.00  0.00          PD  \nATOM    339   Pd MOL     1       1.960  -5.880 -11.760  1.00  0.00          PD  \nATOM    340   Pt MOL     1       0.000  -7.840  -7.840  1.00  0.00          PT  \nATOM    341   Pt MOL     1       0.000  -5.880  -5.880  1.00  0.00          PT  \nATOM    342   Pt MOL     1       1.960  -7.840  -5.880  1.00  0.00          PT  \nATOM    343   Pt MOL     1       1.960  -5.880  -7.840  1.00  0.00          PT  \nATOM    344   Pt MOL     1       0.000  -7.840  -3.920  1.00  0.00          PT  \nATOM    345   Pt MOL     1       0.000  -5.880  -1.960  1.00  0.00          PT  \nATOM    346   Pt MOL     1       1.960  -7.840  -1.960  1.00  0.00          PT  \nATOM    347   Pt MOL     1       1.960  -5.880  -3.920  1.00  0.00          PT  \nATOM    348   Pt MOL     1       0.000  -7.840   0.000  1.00  0.00          PT  \nATOM    349   Pt MOL     1       0.000  -5.880   1.960  1.00  0.00          PT  \nATOM    350   Pt MOL     1       1.960  -7.840   1.960  1.00  0.00          PT  \nATOM    351   Pt MOL     1       1.960  -5.880   0.000  1.00  0.00          PT  \nATOM    352   Pt MOL     1       0.000  -7.840   3.920  1.00  0.00          PT  \nATOM    353   Pt MOL     1       0.000  -5.880   5.880  1.00  0.00          PT  \nATOM    354   Pt MOL     1       1.960  -7.840   5.880  1.00  0.00          PT  \nATOM    355   Pt MOL     1       1.960  -5.880   3.920  1.00  0.00          PT  \nATOM    356   Pt MOL     1       0.000  -7.840   7.840  1.00  0.00          PT  \nATOM    357   Pt MOL     1       0.000  -5.880   9.800  1.00  0.00          PT  \nATOM    358   Pd MOL     1       1.960  -7.840   9.800  1.00  0.00          PD  \nATOM    359   Pt MOL     1       1.960  -5.880   7.840  1.00  0.00          PT  \nATOM    360   Pd MOL     1       0.000  -7.840  11.760  1.00  0.00          PD  \nATOM    361   Pd MOL     1       1.960  -5.880  11.760  1.00  0.00          PD  \nATOM    362   Pd MOL     1       0.000  -3.920 -11.760  1.00  0.00          PD  \nATOM    363   Pt MOL     1       0.000  -1.960  -9.800  1.00  0.00          PT  \nATOM    364   Pt MOL     1       1.960  -3.920  -9.800  1.00  0.00          PT  \nATOM    365   Pd MOL     1       1.960  -1.960 -11.760  1.00  0.00          PD  \nATOM    366   Pt MOL     1       0.000  -3.920  -7.840  1.00  0.00          PT  \nATOM    367   Pt MOL     1       0.000  -1.960  -5.880  1.00  0.00          PT  \nATOM    368   Pt MOL     1       1.960  -3.920  -5.880  1.00  0.00          PT  \nATOM    369   Pt MOL     1       1.960  -1.960  -7.840  1.00  0.00          PT  \nATOM    370   Pt MOL     1       0.000  -3.920  -3.920  1.00  0.00          PT  \nATOM    371   Pt MOL     1       0.000  -1.960  -1.960  1.00  0.00          PT  \nATOM    372   Pt MOL     1       1.960  -3.920  -1.960  1.00  0.00          PT  \nATOM    373   Pt MOL     1       1.960  -1.960  -3.920  1.00  0.00          PT  \nATOM    374   Pt MOL     1       0.000  -3.920   0.000  1.00  0.00          PT  \nATOM    375   Pt MOL     1       0.000  -1.960   1.960  1.00  0.00          PT  \nATOM    376   Pt MOL     1       1.960  -3.920   1.960  1.00  0.00          PT  \nATOM    377   Pt MOL     1       1.960  -1.960   0.000  1.00  0.00          PT  \nATOM    378   Pt MOL     1       0.000  -3.920   3.920  1.00  0.00          PT  \nATOM    379   Pt MOL     1       0.000  -1.960   5.880  1.00  0.00          PT  \nATOM    380   Pt MOL     1       1.960  -3.920   5.880  1.00  0.00          PT  \nATOM    381   Pt MOL     1       1.960  -1.960   3.920  1.00  0.00          PT  \nATOM    382   Pt MOL     1       0.000  -3.920   7.840  1.00  0.00          PT  \nATOM    383   Pt MOL     1       0.000  -1.960   9.800  1.00  0.00          PT  \nATOM    384   Pt MOL     1       1.960  -3.920   9.800  1.00  0.00          PT  \nATOM    385   Pt MOL     1       1.960  -1.960   7.840  1.00  0.00          PT  \nATOM    386   Pd MOL     1       0.000  -3.920  11.760  1.00  0.00          PD  \nATOM    387   Pd MOL     1       1.960  -1.960  11.760  1.00  0.00          PD  \nATOM    388   Pd MOL     1       0.000   0.000 -11.760  1.00  0.00          PD  \nATOM    389   Pt MOL     1       0.000   1.960  -9.800  1.00  0.00          PT  \nATOM    390   Pt MOL     1       1.960   0.000  -9.800  1.00  0.00          PT  \nATOM    391   Pd MOL     1       1.960   1.960 -11.760  1.00  0.00          PD  \nATOM    392   Pt MOL     1       0.000   0.000  -7.840  1.00  0.00          PT  \nATOM    393   Pt MOL     1       0.000   1.960  -5.880  1.00  0.00          PT  \nATOM    394   Pt MOL     1       1.960   0.000  -5.880  1.00  0.00          PT  \nATOM    395   Pt MOL     1       1.960   1.960  -7.840  1.00  0.00          PT  \nATOM    396   Pt MOL     1       0.000   0.000  -3.920  1.00  0.00          PT  \nATOM    397   Pt MOL     1       0.000   1.960  -1.960  1.00  0.00          PT  \nATOM    398   Pt MOL     1       1.960   0.000  -1.960  1.00  0.00          PT  \nATOM    399   Pt MOL     1       1.960   1.960  -3.920  1.00  0.00          PT  \nATOM    400   Pt MOL     1       0.000   0.000   0.000  1.00  0.00          PT  \nATOM    401   Pt MOL     1       0.000   1.960   1.960  1.00  0.00          PT  \nATOM    402   Pt MOL     1       1.960   0.000   1.960  1.00  0.00          PT  \nATOM    403   Pt MOL     1       1.960   1.960   0.000  1.00  0.00          PT  \nATOM    404   Pt MOL     1       0.000   0.000   3.920  1.00  0.00          PT  \nATOM    405   Pt MOL     1       0.000   1.960   5.880  1.00  0.00          PT  \nATOM    406   Pt MOL     1       1.960   0.000   5.880  1.00  0.00          PT  \nATOM    407   Pt MOL     1       1.960   1.960   3.920  1.00  0.00          PT  \nATOM    408   Pt MOL     1       0.000   0.000   7.840  1.00  0.00          PT  \nATOM    409   Pt MOL     1       0.000   1.960   9.800  1.00  0.00          PT  \nATOM    410   Pt MOL     1       1.960   0.000   9.800  1.00  0.00          PT  \nATOM    411   Pt MOL     1       1.960   1.960   7.840  1.00  0.00          PT  \nATOM    412   Pd MOL     1       0.000   0.000  11.760  1.00  0.00          PD  \nATOM    413   Pd MOL     1       1.960   1.960  11.760  1.00  0.00          PD  \nATOM    414   Pd MOL     1       0.000   3.920 -11.760  1.00  0.00          PD  \nATOM    415   Pt MOL     1       0.000   5.880  -9.800  1.00  0.00          PT  \nATOM    416   Pt MOL     1       1.960   3.920  -9.800  1.00  0.00          PT  \nATOM    417   Pd MOL     1       1.960   5.880 -11.760  1.00  0.00          PD  \nATOM    418   Pt MOL     1       0.000   3.920  -7.840  1.00  0.00          PT  \nATOM    419   Pt MOL     1       0.000   5.880  -5.880  1.00  0.00          PT  \nATOM    420   Pt MOL     1       1.960   3.920  -5.880  1.00  0.00          PT  \nATOM    421   Pt MOL     1       1.960   5.880  -7.840  1.00  0.00          PT  \nATOM    422   Pt MOL     1       0.000   3.920  -3.920  1.00  0.00          PT  \nATOM    423   Pt MOL     1       0.000   5.880  -1.960  1.00  0.00          PT  \nATOM    424   Pt MOL     1       1.960   3.920  -1.960  1.00  0.00          PT  \nATOM    425   Pt MOL     1       1.960   5.880  -3.920  1.00  0.00          PT  \nATOM    426   Pt MOL     1       0.000   3.920   0.000  1.00  0.00          PT  \nATOM    427   Pt MOL     1       0.000   5.880   1.960  1.00  0.00          PT  \nATOM    428   Pt MOL     1       1.960   3.920   1.960  1.00  0.00          PT  \nATOM    429   Pt MOL     1       1.960   5.880   0.000  1.00  0.00          PT  \nATOM    430   Pt MOL     1       0.000   3.920   3.920  1.00  0.00          PT  \nATOM    431   Pt MOL     1       0.000   5.880   5.880  1.00  0.00          PT  \nATOM    432   Pt MOL     1       1.960   3.920   5.880  1.00  0.00          PT  \nATOM    433   Pt MOL     1       1.960   5.880   3.920  1.00  0.00          PT  \nATOM    434   Pt MOL     1       0.000   3.920   7.840  1.00  0.00          PT  \nATOM    435   Pt MOL     1       0.000   5.880   9.800  1.00  0.00          PT  \nATOM    436   Pt MOL     1       1.960   3.920   9.800  1.00  0.00          PT  \nATOM    437   Pt MOL     1       1.960   5.880   7.840  1.00  0.00          PT  \nATOM    438   Pd MOL     1       0.000   3.920  11.760  1.00  0.00          PD  \nATOM    439   Pd MOL     1       1.960   5.880  11.760  1.00  0.00          PD  \nATOM    440   Pd MOL     1       0.000   7.840 -11.760  1.00  0.00          PD  \nATOM    441   Pd MOL     1       0.000   9.800  -9.800  1.00  0.00          PD  \nATOM    442   Pd MOL     1       1.960   7.840  -9.800  1.00  0.00          PD  \nATOM    443   Pt MOL     1       0.000   7.840  -7.840  1.00  0.00          PT  \nATOM    444   Pt MOL     1       0.000   9.800  -5.880  1.00  0.00          PT  \nATOM    445   Pt MOL     1       1.960   7.840  -5.880  1.00  0.00          PT  \nATOM    446   Pd MOL     1       1.960   9.800  -7.840  1.00  0.00          PD  \nATOM    447   Pt MOL     1       0.000   7.840  -3.920  1.00  0.00          PT  \nATOM    448   Pt MOL     1       0.000   9.800  -1.960  1.00  0.00          PT  \nATOM    449   Pt MOL     1       1.960   7.840  -1.960  1.00  0.00          PT  \nATOM    450   Pt MOL     1       1.960   9.800  -3.920  1.00  0.00          PT  \nATOM    451   Pt MOL     1       0.000   7.840   0.000  1.00  0.00          PT  \nATOM    452   Pt MOL     1       0.000   9.800   1.960  1.00  0.00          PT  \nATOM    453   Pt MOL     1       1.960   7.840   1.960  1.00  0.00          PT  \nATOM    454   Pt MOL     1       1.960   9.800   0.000  1.00  0.00          PT  \nATOM    455   Pt MOL     1       0.000   7.840   3.920  1.00  0.00          PT  \nATOM    456   Pt MOL     1       0.000   9.800   5.880  1.00  0.00          PT  \nATOM    457   Pt MOL     1       1.960   7.840   5.880  1.00  0.00          PT  \nATOM    458   Pt MOL     1       1.960   9.800   3.920  1.00  0.00          PT  \nATOM    459   Pt MOL     1       0.000   7.840   7.840  1.00  0.00          PT  \nATOM    460   Pd MOL     1       0.000   9.800   9.800  1.00  0.00          PD  \nATOM    461   Pd MOL     1       1.960   7.840   9.800  1.00  0.00          PD  \nATOM    462   Pd MOL     1       1.960   9.800   7.840  1.00  0.00          PD  \nATOM    463   Pd MOL     1       0.000   7.840  11.760  1.00  0.00          PD  \nATOM    464   Pd MOL     1       0.000  11.760  -7.840  1.00  0.00          PD  \nATOM    465   Pd MOL     1       1.960  11.760  -5.880  1.00  0.00          PD  \nATOM    466   Pd MOL     1       0.000  11.760  -3.920  1.00  0.00          PD  \nATOM    467   Pd MOL     1       1.960  11.760  -1.960  1.00  0.00          PD  \nATOM    468   Pd MOL     1       0.000  11.760   0.000  1.00  0.00          PD  \nATOM    469   Pd MOL     1       1.960  11.760   1.960  1.00  0.00          PD  \nATOM    470   Pd MOL     1       0.000  11.760   3.920  1.00  0.00          PD  \nATOM    471   Pd MOL     1       1.960  11.760   5.880  1.00  0.00          PD  \nATOM    472   Pd MOL     1       0.000  11.760   7.840  1.00  0.00          PD  \nATOM    473   Pd MOL     1       3.920  -9.800  -5.880  1.00  0.00          PD  \nATOM    474   Pd MOL     1       3.920 -11.760  -3.920  1.00  0.00          PD  \nATOM    475   Pt MOL     1       3.920  -9.800  -1.960  1.00  0.00          PT  \nATOM    476   Pd MOL     1       5.880 -11.760  -1.960  1.00  0.00          PD  \nATOM    477   Pd MOL     1       5.880  -9.800  -3.920  1.00  0.00          PD  \nATOM    478   Pd MOL     1       3.920 -11.760   0.000  1.00  0.00          PD  \nATOM    479   Pt MOL     1       3.920  -9.800   1.960  1.00  0.00          PT  \nATOM    480   Pd MOL     1       5.880 -11.760   1.960  1.00  0.00          PD  \nATOM    481   Pt MOL     1       5.880  -9.800   0.000  1.00  0.00          PT  \nATOM    482   Pd MOL     1       3.920 -11.760   3.920  1.00  0.00          PD  \nATOM    483   Pd MOL     1       3.920  -9.800   5.880  1.00  0.00          PD  \nATOM    484   Pd MOL     1       5.880  -9.800   3.920  1.00  0.00          PD  \nATOM    485   Pd MOL     1       3.920  -5.880  -9.800  1.00  0.00          PD  \nATOM    486   Pd MOL     1       3.920  -7.840  -7.840  1.00  0.00          PD  \nATOM    487   Pt MOL     1       3.920  -5.880  -5.880  1.00  0.00          PT  \nATOM    488   Pd MOL     1       5.880  -7.840  -5.880  1.00  0.00          PD  \nATOM    489   Pd MOL     1       5.880  -5.880  -7.840  1.00  0.00          PD  \nATOM    490   Pt MOL     1       3.920  -7.840  -3.920  1.00  0.00          PT  \nATOM    491   Pt MOL     1       3.920  -5.880  -1.960  1.00  0.00          PT  \nATOM    492   Pt MOL     1       5.880  -7.840  -1.960  1.00  0.00          PT  \nATOM    493   Pt MOL     1       5.880  -5.880  -3.920  1.00  0.00          PT  \nATOM    494   Pt MOL     1       3.920  -7.840   0.000  1.00  0.00          PT  \nATOM    495   Pt MOL     1       3.920  -5.880   1.960  1.00  0.00          PT  \nATOM    496   Pt MOL     1       5.880  -7.840   1.960  1.00  0.00          PT  \nATOM    497   Pt MOL     1       5.880  -5.880   0.000  1.00  0.00          PT  \nATOM    498   Pt MOL     1       3.920  -7.840   3.920  1.00  0.00          PT  \nATOM    499   Pt MOL     1       3.920  -5.880   5.880  1.00  0.00          PT  \nATOM    500   Pd MOL     1       5.880  -7.840   5.880  1.00  0.00          PD  \nATOM    501   Pt MOL     1       5.880  -5.880   3.920  1.00  0.00          PT  \nATOM    502   Pd MOL     1       3.920  -7.840   7.840  1.00  0.00          PD  \nATOM    503   Pd MOL     1       3.920  -5.880   9.800  1.00  0.00          PD  \nATOM    504   Pd MOL     1       5.880  -5.880   7.840  1.00  0.00          PD  \nATOM    505   Pd MOL     1       3.920  -3.920 -11.760  1.00  0.00          PD  \nATOM    506   Pt MOL     1       3.920  -1.960  -9.800  1.00  0.00          PT  \nATOM    507   Pd MOL     1       5.880  -3.920  -9.800  1.00  0.00          PD  \nATOM    508   Pd MOL     1       5.880  -1.960 -11.760  1.00  0.00          PD  \nATOM    509   Pt MOL     1       3.920  -3.920  -7.840  1.00  0.00          PT  \nATOM    510   Pt MOL     1       3.920  -1.960  -5.880  1.00  0.00          PT  \nATOM    511   Pt MOL     1       5.880  -3.920  -5.880  1.00  0.00          PT  \nATOM    512   Pt MOL     1       5.880  -1.960  -7.840  1.00  0.00          PT  \nATOM    513   Pt MOL     1       3.920  -3.920  -3.920  1.00  0.00          PT  \nATOM    514   Pt MOL     1       3.920  -1.960  -1.960  1.00  0.00          PT  \nATOM    515   Pt MOL     1       5.880  -3.920  -1.960  1.00  0.00          PT  \nATOM    516   Pt MOL     1       5.880  -1.960  -3.920  1.00  0.00          PT  \nATOM    517   Pt MOL     1       3.920  -3.920   0.000  1.00  0.00          PT  \nATOM    518   Pt MOL     1       3.920  -1.960   1.960  1.00  0.00          PT  \nATOM    519   Pt MOL     1       5.880  -3.920   1.960  1.00  0.00          PT  \nATOM    520   Pt MOL     1       5.880  -1.960   0.000  1.00  0.00          PT  \nATOM    521   Pt MOL     1       3.920  -3.920   3.920  1.00  0.00          PT  \nATOM    522   Pt MOL     1       3.920  -1.960   5.880  1.00  0.00          PT  \nATOM    523   Pt MOL     1       5.880  -3.920   5.880  1.00  0.00          PT  \nATOM    524   Pt MOL     1       5.880  -1.960   3.920  1.00  0.00          PT  \nATOM    525   Pt MOL     1       3.920  -3.920   7.840  1.00  0.00          PT  \nATOM    526   Pt MOL     1       3.920  -1.960   9.800  1.00  0.00          PT  \nATOM    527   Pd MOL     1       5.880  -3.920   9.800  1.00  0.00          PD  \nATOM    528   Pt MOL     1       5.880  -1.960   7.840  1.00  0.00          PT  \nATOM    529   Pd MOL     1       3.920  -3.920  11.760  1.00  0.00          PD  \nATOM    530   Pd MOL     1       5.880  -1.960  11.760  1.00  0.00          PD  \nATOM    531   Pd MOL     1       3.920   0.000 -11.760  1.00  0.00          PD  \nATOM    532   Pt MOL     1       3.920   1.960  -9.800  1.00  0.00          PT  \nATOM    533   Pt MOL     1       5.880   0.000  -9.800  1.00  0.00          PT  \nATOM    534   Pd MOL     1       5.880   1.960 -11.760  1.00  0.00          PD  \nATOM    535   Pt MOL     1       3.920   0.000  -7.840  1.00  0.00          PT  \nATOM    536   Pt MOL     1       3.920   1.960  -5.880  1.00  0.00          PT  \nATOM    537   Pt MOL     1       5.880   0.000  -5.880  1.00  0.00          PT  \nATOM    538   Pt MOL     1       5.880   1.960  -7.840  1.00  0.00          PT  \nATOM    539   Pt MOL     1       3.920   0.000  -3.920  1.00  0.00          PT  \nATOM    540   Pt MOL     1       3.920   1.960  -1.960  1.00  0.00          PT  \nATOM    541   Pt MOL     1       5.880   0.000  -1.960  1.00  0.00          PT  \nATOM    542   Pt MOL     1       5.880   1.960  -3.920  1.00  0.00          PT  \nATOM    543   Pt MOL     1       3.920   0.000   0.000  1.00  0.00          PT  \nATOM    544   Pt MOL     1       3.920   1.960   1.960  1.00  0.00          PT  \nATOM    545   Pt MOL     1       5.880   0.000   1.960  1.00  0.00          PT  \nATOM    546   Pt MOL     1       5.880   1.960   0.000  1.00  0.00          PT  \nATOM    547   Pt MOL     1       3.920   0.000   3.920  1.00  0.00          PT  \nATOM    548   Pt MOL     1       3.920   1.960   5.880  1.00  0.00          PT  \nATOM    549   Pt MOL     1       5.880   0.000   5.880  1.00  0.00          PT  \nATOM    550   Pt MOL     1       5.880   1.960   3.920  1.00  0.00          PT  \nATOM    551   Pt MOL     1       3.920   0.000   7.840  1.00  0.00          PT  \nATOM    552   Pt MOL     1       3.920   1.960   9.800  1.00  0.00          PT  \nATOM    553   Pt MOL     1       5.880   0.000   9.800  1.00  0.00          PT  \nATOM    554   Pt MOL     1       5.880   1.960   7.840  1.00  0.00          PT  \nATOM    555   Pd MOL     1       3.920   0.000  11.760  1.00  0.00          PD  \nATOM    556   Pd MOL     1       5.880   1.960  11.760  1.00  0.00          PD  \nATOM    557   Pd MOL     1       3.920   3.920 -11.760  1.00  0.00          PD  \nATOM    558   Pd MOL     1       3.920   5.880  -9.800  1.00  0.00          PD  \nATOM    559   Pd MOL     1       5.880   3.920  -9.800  1.00  0.00          PD  \nATOM    560   Pt MOL     1       3.920   3.920  -7.840  1.00  0.00          PT  \nATOM    561   Pt MOL     1       3.920   5.880  -5.880  1.00  0.00          PT  \nATOM    562   Pt MOL     1       5.880   3.920  -5.880  1.00  0.00          PT  \nATOM    563   Pd MOL     1       5.880   5.880  -7.840  1.00  0.00          PD  \nATOM    564   Pt MOL     1       3.920   3.920  -3.920  1.00  0.00          PT  \nATOM    565   Pt MOL     1       3.920   5.880  -1.960  1.00  0.00          PT  \nATOM    566   Pt MOL     1       5.880   3.920  -1.960  1.00  0.00          PT  \nATOM    567   Pt MOL     1       5.880   5.880  -3.920  1.00  0.00          PT  \nATOM    568   Pt MOL     1       3.920   3.920   0.000  1.00  0.00          PT  \nATOM    569   Pt MOL     1       3.920   5.880   1.960  1.00  0.00          PT  \nATOM    570   Pt MOL     1       5.880   3.920   1.960  1.00  0.00          PT  \nATOM    571   Pt MOL     1       5.880   5.880   0.000  1.00  0.00          PT  \nATOM    572   Pt MOL     1       3.920   3.920   3.920  1.00  0.00          PT  \nATOM    573   Pt MOL     1       3.920   5.880   5.880  1.00  0.00          PT  \nATOM    574   Pt MOL     1       5.880   3.920   5.880  1.00  0.00          PT  \nATOM    575   Pt MOL     1       5.880   5.880   3.920  1.00  0.00          PT  \nATOM    576   Pt MOL     1       3.920   3.920   7.840  1.00  0.00          PT  \nATOM    577   Pd MOL     1       3.920   5.880   9.800  1.00  0.00          PD  \nATOM    578   Pd MOL     1       5.880   3.920   9.800  1.00  0.00          PD  \nATOM    579   Pd MOL     1       5.880   5.880   7.840  1.00  0.00          PD  \nATOM    580   Pd MOL     1       3.920   3.920  11.760  1.00  0.00          PD  \nATOM    581   Pd MOL     1       3.920   7.840  -7.840  1.00  0.00          PD  \nATOM    582   Pd MOL     1       3.920   9.800  -5.880  1.00  0.00          PD  \nATOM    583   Pd MOL     1       5.880   7.840  -5.880  1.00  0.00          PD  \nATOM    584   Pt MOL     1       3.920   7.840  -3.920  1.00  0.00          PT  \nATOM    585   Pt MOL     1       3.920   9.800  -1.960  1.00  0.00          PT  \nATOM    586   Pt MOL     1       5.880   7.840  -1.960  1.00  0.00          PT  \nATOM    587   Pd MOL     1       5.880   9.800  -3.920  1.00  0.00          PD  \nATOM    588   Pt MOL     1       3.920   7.840   0.000  1.00  0.00          PT  \nATOM    589   Pt MOL     1       3.920   9.800   1.960  1.00  0.00          PT  \nATOM    590   Pt MOL     1       5.880   7.840   1.960  1.00  0.00          PT  \nATOM    591   Pt MOL     1       5.880   9.800   0.000  1.00  0.00          PT  \nATOM    592   Pt MOL     1       3.920   7.840   3.920  1.00  0.00          PT  \nATOM    593   Pd MOL     1       3.920   9.800   5.880  1.00  0.00          PD  \nATOM    594   Pd MOL     1       5.880   7.840   5.880  1.00  0.00          PD  \nATOM    595   Pd MOL     1       5.880   9.800   3.920  1.00  0.00          PD  \nATOM    596   Pd MOL     1       3.920   7.840   7.840  1.00  0.00          PD  \nATOM    597   Pd MOL     1       3.920  11.760  -3.920  1.00  0.00          PD  \nATOM    598   Pd MOL     1       5.880  11.760  -1.960  1.00  0.00          PD  \nATOM    599   Pd MOL     1       3.920  11.760   0.000  1.00  0.00          PD  \nATOM    600   Pd MOL     1       5.880  11.760   1.960  1.00  0.00          PD  \nATOM    601   Pd MOL     1       3.920  11.760   3.920  1.00  0.00          PD  \nATOM    602   Pd MOL     1       7.840  -9.800  -1.960  1.00  0.00          PD  \nATOM    603   Pd MOL     1       7.840 -11.760   0.000  1.00  0.00          PD  \nATOM    604   Pd MOL     1       7.840  -9.800   1.960  1.00  0.00          PD  \nATOM    605   Pd MOL     1       9.800  -9.800   0.000  1.00  0.00          PD  \nATOM    606   Pd MOL     1       7.840  -5.880  -5.880  1.00  0.00          PD  \nATOM    607   Pd MOL     1       7.840  -7.840  -3.920  1.00  0.00          PD  \nATOM    608   Pt MOL     1       7.840  -5.880  -1.960  1.00  0.00          PT  \nATOM    609   Pd MOL     1       9.800  -7.840  -1.960  1.00  0.00          PD  \nATOM    610   Pd MOL     1       9.800  -5.880  -3.920  1.00  0.00          PD  \nATOM    611   Pt MOL     1       7.840  -7.840   0.000  1.00  0.00          PT  \nATOM    612   Pt MOL     1       7.840  -5.880   1.960  1.00  0.00          PT  \nATOM    613   Pd MOL     1       9.800  -7.840   1.960  1.00  0.00          PD  \nATOM    614   Pt MOL     1       9.800  -5.880   0.000  1.00  0.00          PT  \nATOM    615   Pd MOL     1       7.840  -7.840   3.920  1.00  0.00          PD  \nATOM    616   Pd MOL     1       7.840  -5.880   5.880  1.00  0.00          PD  \nATOM    617   Pd MOL     1       9.800  -5.880   3.920  1.00  0.00          PD  \nATOM    618   Pd MOL     1       7.840  -1.960  -9.800  1.00  0.00          PD  \nATOM    619   Pd MOL     1       7.840  -3.920  -7.840  1.00  0.00          PD  \nATOM    620   Pt MOL     1       7.840  -1.960  -5.880  1.00  0.00          PT  \nATOM    621   Pd MOL     1       9.800  -3.920  -5.880  1.00  0.00          PD  \nATOM    622   Pd MOL     1       9.800  -1.960  -7.840  1.00  0.00          PD  \nATOM    623   Pt MOL     1       7.840  -3.920  -3.920  1.00  0.00          PT  \nATOM    624   Pt MOL     1       7.840  -1.960  -1.960  1.00  0.00          PT  \nATOM    625   Pt MOL     1       9.800  -3.920  -1.960  1.00  0.00          PT  \nATOM    626   Pt MOL     1       9.800  -1.960  -3.920  1.00  0.00          PT  \nATOM    627   Pt MOL     1       7.840  -3.920   0.000  1.00  0.00          PT  \nATOM    628   Pt MOL     1       7.840  -1.960   1.960  1.00  0.00          PT  \nATOM    629   Pt MOL     1       9.800  -3.920   1.960  1.00  0.00          PT  \nATOM    630   Pt MOL     1       9.800  -1.960   0.000  1.00  0.00          PT  \nATOM    631   Pt MOL     1       7.840  -3.920   3.920  1.00  0.00          PT  \nATOM    632   Pt MOL     1       7.840  -1.960   5.880  1.00  0.00          PT  \nATOM    633   Pd MOL     1       9.800  -3.920   5.880  1.00  0.00          PD  \nATOM    634   Pt MOL     1       9.800  -1.960   3.920  1.00  0.00          PT  \nATOM    635   Pd MOL     1       7.840  -3.920   7.840  1.00  0.00          PD  \nATOM    636   Pd MOL     1       7.840  -1.960   9.800  1.00  0.00          PD  \nATOM    637   Pd MOL     1       9.800  -1.960   7.840  1.00  0.00          PD  \nATOM    638   Pd MOL     1       7.840   0.000 -11.760  1.00  0.00          PD  \nATOM    639   Pd MOL     1       7.840   1.960  -9.800  1.00  0.00          PD  \nATOM    640   Pd MOL     1       9.800   0.000  -9.800  1.00  0.00          PD  \nATOM    641   Pt MOL     1       7.840   0.000  -7.840  1.00  0.00          PT  \nATOM    642   Pt MOL     1       7.840   1.960  -5.880  1.00  0.00          PT  \nATOM    643   Pt MOL     1       9.800   0.000  -5.880  1.00  0.00          PT  \nATOM    644   Pd MOL     1       9.800   1.960  -7.840  1.00  0.00          PD  \nATOM    645   Pt MOL     1       7.840   0.000  -3.920  1.00  0.00          PT  \nATOM    646   Pt MOL     1       7.840   1.960  -1.960  1.00  0.00          PT  \nATOM    647   Pt MOL     1       9.800   0.000  -1.960  1.00  0.00          PT  \nATOM    648   Pt MOL     1       9.800   1.960  -3.920  1.00  0.00          PT  \nATOM    649   Pt MOL     1       7.840   0.000   0.000  1.00  0.00          PT  \nATOM    650   Pt MOL     1       7.840   1.960   1.960  1.00  0.00          PT  \nATOM    651   Pt MOL     1       9.800   0.000   1.960  1.00  0.00          PT  \nATOM    652   Pt MOL     1       9.800   1.960   0.000  1.00  0.00          PT  \nATOM    653   Pt MOL     1       7.840   0.000   3.920  1.00  0.00          PT  \nATOM    654   Pt MOL     1       7.840   1.960   5.880  1.00  0.00          PT  \nATOM    655   Pt MOL     1       9.800   0.000   5.880  1.00  0.00          PT  \nATOM    656   Pt MOL     1       9.800   1.960   3.920  1.00  0.00          PT  \nATOM    657   Pt MOL     1       7.840   0.000   7.840  1.00  0.00          PT  \nATOM    658   Pd MOL     1       7.840   1.960   9.800  1.00  0.00          PD  \nATOM    659   Pd MOL     1       9.800   0.000   9.800  1.00  0.00          PD  \nATOM    660   Pd MOL     1       9.800   1.960   7.840  1.00  0.00          PD  \nATOM    661   Pd MOL     1       7.840   0.000  11.760  1.00  0.00          PD  \nATOM    662   Pd MOL     1       7.840   3.920  -7.840  1.00  0.00          PD  \nATOM    663   Pd MOL     1       7.840   5.880  -5.880  1.00  0.00          PD  \nATOM    664   Pd MOL     1       9.800   3.920  -5.880  1.00  0.00          PD  \nATOM    665   Pt MOL     1       7.840   3.920  -3.920  1.00  0.00          PT  \nATOM    666   Pt MOL     1       7.840   5.880  -1.960  1.00  0.00          PT  \nATOM    667   Pt MOL     1       9.800   3.920  -1.960  1.00  0.00          PT  \nATOM    668   Pd MOL     1       9.800   5.880  -3.920  1.00  0.00          PD  \nATOM    669   Pt MOL     1       7.840   3.920   0.000  1.00  0.00          PT  \nATOM    670   Pt MOL     1       7.840   5.880   1.960  1.00  0.00          PT  \nATOM    671   Pt MOL     1       9.800   3.920   1.960  1.00  0.00          PT  \nATOM    672   Pt MOL     1       9.800   5.880   0.000  1.00  0.00          PT  \nATOM    673   Pt MOL     1       7.840   3.920   3.920  1.00  0.00          PT  \nATOM    674   Pd MOL     1       7.840   5.880   5.880  1.00  0.00          PD  \nATOM    675   Pd MOL     1       9.800   3.920   5.880  1.00  0.00          PD  \nATOM    676   Pd MOL     1       9.800   5.880   3.920  1.00  0.00          PD  \nATOM    677   Pd MOL     1       7.840   3.920   7.840  1.00  0.00          PD  \nATOM    678   Pd MOL     1       7.840   7.840  -3.920  1.00  0.00          PD  \nATOM    679   Pd MOL     1       7.840   9.800  -1.960  1.00  0.00          PD  \nATOM    680   Pd MOL     1       9.800   7.840  -1.960  1.00  0.00          PD  \nATOM    681   Pt MOL     1       7.840   7.840   0.000  1.00  0.00          PT  \nATOM    682   Pd MOL     1       7.840   9.800   1.960  1.00  0.00          PD  \nATOM    683   Pd MOL     1       9.800   7.840   1.960  1.00  0.00          PD  \nATOM    684   Pd MOL     1       9.800   9.800   0.000  1.00  0.00          PD  \nATOM    685   Pd MOL     1       7.840   7.840   3.920  1.00  0.00          PD  \nATOM    686   Pd MOL     1       7.840  11.760   0.000  1.00  0.00          PD  \nATOM    687   Pd MOL     1      11.760  -5.880  -1.960  1.00  0.00          PD  \nATOM    688   Pd MOL     1      11.760  -7.840   0.000  1.00  0.00          PD  \nATOM    689   Pd MOL     1      11.760  -5.880   1.960  1.00  0.00          PD  \nATOM    690   Pd MOL     1      11.760  -1.960  -5.880  1.00  0.00          PD  \nATOM    691   Pd MOL     1      11.760  -3.920  -3.920  1.00  0.00          PD  \nATOM    692   Pd MOL     1      11.760  -1.960  -1.960  1.00  0.00          PD  \nATOM    693   Pd MOL     1      11.760  -3.920   0.000  1.00  0.00          PD  \nATOM    694   Pd MOL     1      11.760  -1.960   1.960  1.00  0.00          PD  \nATOM    695   Pd MOL     1      11.760  -3.920   3.920  1.00  0.00          PD  \nATOM    696   Pd MOL     1      11.760  -1.960   5.880  1.00  0.00          PD  \nATOM    697   Pd MOL     1      11.760   0.000  -7.840  1.00  0.00          PD  \nATOM    698   Pd MOL     1      11.760   1.960  -5.880  1.00  0.00          PD  \nATOM    699   Pd MOL     1      11.760   0.000  -3.920  1.00  0.00          PD  \nATOM    700   Pd MOL     1      11.760   1.960  -1.960  1.00  0.00          PD  \nATOM    701   Pd MOL     1      11.760   0.000   0.000  1.00  0.00          PD  \nATOM    702   Pd MOL     1      11.760   1.960   1.960  1.00  0.00          PD  \nATOM    703   Pd MOL     1      11.760   0.000   3.920  1.00  0.00          PD  \nATOM    704   Pd MOL     1      11.760   1.960   5.880  1.00  0.00          PD  \nATOM    705   Pd MOL     1      11.760   0.000   7.840  1.00  0.00          PD  \nATOM    706   Pd MOL     1      11.760   3.920  -3.920  1.00  0.00          PD  \nATOM    707   Pd MOL     1      11.760   5.880  -1.960  1.00  0.00          PD  \nATOM    708   Pd MOL     1      11.760   3.920   0.000  1.00  0.00          PD  \nATOM    709   Pd MOL     1      11.760   5.880   1.960  1.00  0.00          PD  \nATOM    710   Pd MOL     1      11.760   3.920   3.920  1.00  0.00          PD  \nATOM    711   Pd MOL     1      11.760   7.840   0.000  1.00  0.00          PD  \nENDMDL\n",
           "type": "blob"
          }
         ],
         "kwargs": {
          "defaultRepresentation": false,
          "ext": "pdb"
         },
         "methodName": "loadFile",
         "reconstruc_color_scheme": false,
         "target": "Stage",
         "type": "call_method"
        },
        {
         "args": [
          "500px",
          "500px"
         ],
         "kwargs": {},
         "methodName": "setSize",
         "reconstruc_color_scheme": false,
         "target": "Widget",
         "type": "call_method"
        },
        {
         "args": [
          "unitcell"
         ],
         "component_index": 0,
         "kwargs": {
          "sele": "all"
         },
         "methodName": "addRepresentation",
         "reconstruc_color_scheme": false,
         "target": "compList",
         "type": "call_method"
        },
        {
         "args": [
          "spacefill"
         ],
         "component_index": 0,
         "kwargs": {
          "sele": "all"
         },
         "methodName": "addRepresentation",
         "reconstruc_color_scheme": false,
         "target": "compList",
         "type": "call_method"
        },
        {
         "args": [],
         "kwargs": {
          "cameraType": "orthographic"
         },
         "methodName": "setParameters",
         "reconstruc_color_scheme": false,
         "target": "Stage",
         "type": "call_method"
        },
        {
         "args": [
          {
           "clipDist": 0
          }
         ],
         "kwargs": {},
         "methodName": "setParameters",
         "reconstruc_color_scheme": false,
         "target": "Widget",
         "type": "call_method"
        },
        {
         "args": [
          "spacefill",
          0
         ],
         "kwargs": {
          "colorScale": "rainbow",
          "colorScheme": "element",
          "radiusScale": 0.5,
          "radiusType": "covalent"
         },
         "methodName": "updateRepresentationsByName",
         "reconstruc_color_scheme": false,
         "target": "Widget",
         "type": "call_method"
        },
        {
         "args": [
          "this._Q = [[1.0, 0.0, 0.0], [0.0, 1.0, 0.0], [0.0, 0.0, 1.0]]\n    var tooltip = document.createElement('div')\n    Object.assign(tooltip.style, {\n      display: 'none',\n      position: 'fixed',\n      zIndex: 10,\n      pointerEvents: 'none',\n      backgroundColor: 'rgba( 0, 0, 0, 0.6 )',\n      color: 'lightgrey',\n      padding: '8px',\n      fontFamily: 'sans-serif'\n    })\n    document.body.appendChild(tooltip)\n\n    var that = this\n    this.stage.mouseControls.remove('hoverPick')\n    this.stage.signals.hovered.add(function (pickingProxy) {\n      if (pickingProxy && (pickingProxy.atom || pickingProxy.bond)) {\n        var atom = pickingProxy.atom || pickingProxy.closestBondAtom\n        var mp = pickingProxy.mouse.position\n        //tooltip.innerText = atom.element + ' i=' + atom.index + ' (' + atom.x.toFixed(2) +  ', ' + atom.y.toFixed(2) +  ', ' + atom.z.toFixed(2) + ')'\n        //var pos = that._atoms_pos[atom.index]\n        var Q = that._Q\n        var pos_x = Q[0][0] * atom.x + Q[0][1] * atom.y + Q[0][2] * atom.z \n        var pos_y = Q[1][0] * atom.x + Q[1][1] * atom.y + Q[1][2] * atom.z\n        var pos_z = Q[2][0] * atom.x + Q[2][1] * atom.y + Q[2][2] * atom.z\n        tooltip.innerText = 'i=' + atom.index + ' ' + atom.element + ' (' + pos_x.toFixed(2) +  ', ' + pos_y.toFixed(2) +  ', ' + pos_z.toFixed(2) + ')'\n        tooltip.style.bottom = window.innerHeight - mp.y + 3 + 'px'\n        tooltip.style.left = mp.x + 3 + 'px'\n        tooltip.style.display = 'block'\n      } else {\n        tooltip.style.display = 'none'\n      }\n    })\n    "
         ],
         "kwargs": {},
         "methodName": "executeCode",
         "reconstruc_color_scheme": false,
         "target": "Widget",
         "type": "call_method"
        }
       ],
       "_ngl_original_stage_parameters": {
        "ambientColor": 14540253,
        "ambientIntensity": 0.2,
        "backgroundColor": "white",
        "cameraEyeSep": 0.3,
        "cameraFov": 40,
        "cameraType": "perspective",
        "clipDist": 10,
        "clipFar": 100,
        "clipNear": 0,
        "fogFar": 100,
        "fogNear": 50,
        "hoverTimeout": 0,
        "impostor": true,
        "lightColor": 14540253,
        "lightIntensity": 1,
        "mousePreset": "default",
        "panSpeed": 1,
        "quality": "medium",
        "rotateSpeed": 2,
        "sampleLevel": 0,
        "tooltip": true,
        "workerDefault": true,
        "zoomSpeed": 1.2
       },
       "_ngl_repr_dict": {
        "0": {
         "0": {
          "params": {
           "clipCenter": {
            "x": 0,
            "y": 0,
            "z": 0
           },
           "clipNear": 0,
           "clipRadius": 0,
           "colorMode": "hcl",
           "colorReverse": false,
           "colorScale": "",
           "colorScheme": "element",
           "colorValue": "orange",
           "defaultAssembly": "",
           "depthWrite": true,
           "diffuse": 16777215,
           "diffuseInterior": false,
           "disableImpostor": false,
           "disablePicking": false,
           "flatShaded": false,
           "interiorColor": 2236962,
           "interiorDarkening": 0,
           "lazy": false,
           "matrix": {
            "elements": [
             1,
             0,
             0,
             0,
             0,
             1,
             0,
             0,
             0,
             0,
             1,
             0,
             0,
             0,
             0,
             1
            ]
           },
           "metalness": 0,
           "opacity": 1,
           "quality": "medium",
           "radialSegments": 10,
           "radiusData": {},
           "radiusScale": 1,
           "radiusSize": 0.5,
           "radiusType": "vdw",
           "roughness": 0.4,
           "sele": "all",
           "side": "double",
           "sphereDetail": 1,
           "useInteriorColor": true,
           "visible": true,
           "wireframe": false
          },
          "type": "unitcell"
         },
         "1": {
          "params": {
           "assembly": "default",
           "clipCenter": {
            "x": 0,
            "y": 0,
            "z": 0
           },
           "clipNear": 0,
           "clipRadius": 0,
           "colorMode": "hcl",
           "colorReverse": false,
           "colorScale": "rainbow",
           "colorScheme": "element",
           "colorValue": 9474192,
           "defaultAssembly": "",
           "depthWrite": true,
           "diffuse": 16777215,
           "diffuseInterior": false,
           "disableImpostor": false,
           "disablePicking": false,
           "flatShaded": false,
           "interiorColor": 2236962,
           "interiorDarkening": 0,
           "lazy": false,
           "matrix": {
            "elements": [
             1,
             0,
             0,
             0,
             0,
             1,
             0,
             0,
             0,
             0,
             1,
             0,
             0,
             0,
             0,
             1
            ]
           },
           "metalness": 0,
           "opacity": 1,
           "quality": "medium",
           "radiusData": {},
           "radiusScale": 0.5,
           "radiusSize": 1,
           "radiusType": "covalent",
           "roughness": 0.4,
           "sele": "all",
           "side": "double",
           "sphereDetail": 1,
           "useInteriorColor": true,
           "visible": true,
           "wireframe": false
          },
          "type": "spacefill"
         }
        }
       },
       "_ngl_serialize": false,
       "_ngl_version": "2.0.0-dev.36",
       "_ngl_view_id": [
        "F29B07AD-D922-4B47-BBA2-2ADDE323C8B4"
       ],
       "_player_dict": {},
       "_scene_position": {},
       "_scene_rotation": {},
       "_synced_model_ids": [],
       "_synced_repr_model_ids": [],
       "_view_height": "",
       "_view_width": "",
       "background": "white",
       "frame": 0,
       "gui_style": null,
       "layout": "IPY_MODEL_f6f2b8e5e57641fba2d1d30ac99a5728",
       "max_frame": 0,
       "n_components": 1,
       "picked": {}
      }
     },
     "9a846d9449cd4ffa921d251322b29217": {
      "model_module": "@jupyter-widgets/base",
      "model_module_version": "1.2.0",
      "model_name": "LayoutModel",
      "state": {}
     },
     "9aa5c8ab49034cca9d19828566da6a4f": {
      "model_module": "@jupyter-widgets/base",
      "model_module_version": "1.2.0",
      "model_name": "LayoutModel",
      "state": {}
     },
     "9ad31dd5733649139e5ad0e8ffd0d291": {
      "model_module": "@jupyter-widgets/controls",
      "model_module_version": "1.5.0",
      "model_name": "DropdownModel",
      "state": {
       "_options_labels": [
        "All",
        "Pd",
        "Pt"
       ],
       "description": "Show",
       "index": 0,
       "layout": "IPY_MODEL_9db43c7a489b4471a0601504325b7f0f",
       "style": "IPY_MODEL_407d2e52454b4ce493e7bfdb70ec29d2"
      }
     },
     "9aeff2a46996428d95edf47109b5daed": {
      "model_module": "@jupyter-widgets/controls",
      "model_module_version": "1.5.0",
      "model_name": "LinkModel",
      "state": {
       "source": [
        "IPY_MODEL_8215b37720164e899a1b3a26e856b29b",
        "max"
       ],
       "target": [
        "IPY_MODEL_656057a30fa04e1c949439a1bff4cfb5",
        "max_frame"
       ]
      }
     },
     "9b3301663a0149458fa6c3fdcd9eab37": {
      "model_module": "@jupyter-widgets/output",
      "model_module_version": "1.0.0",
      "model_name": "OutputModel",
      "state": {
       "layout": "IPY_MODEL_d7ae4ebf6d3f4227aa3544cdd917a4f1"
      }
     },
     "9b9d8b3a093a4c0389298f1d7b01b3c2": {
      "model_module": "@jupyter-widgets/controls",
      "model_module_version": "1.5.0",
      "model_name": "DescriptionStyleModel",
      "state": {
       "description_width": ""
      }
     },
     "9ba39fc45ff041b680dc8fa8483fc3bd": {
      "model_module": "@jupyter-widgets/controls",
      "model_module_version": "1.5.0",
      "model_name": "ImageModel",
      "state": {
       "layout": "IPY_MODEL_64a96e2f1c1d491497716e47d7e1fa55",
       "width": "900.0"
      }
     },
     "9be23abc3f52490193b8f300301a741e": {
      "model_module": "@jupyter-widgets/controls",
      "model_module_version": "1.5.0",
      "model_name": "PlayModel",
      "state": {
       "layout": "IPY_MODEL_fa624fcd96ea478fb8ce34637d002fb9",
       "max": 306,
       "style": "IPY_MODEL_dfc20868a27547939ec331b6a28c2574"
      }
     },
     "9c6070728e854ddd90ef791a0ab6258a": {
      "model_module": "@jupyter-widgets/controls",
      "model_module_version": "1.5.0",
      "model_name": "TextModel",
      "state": {
       "description": "Filename: ",
       "layout": "IPY_MODEL_d477e0f74a8c4a19985ebb4ef933a412",
       "style": "IPY_MODEL_18c4b82812374cb9bdb6d2a1a3e70ea9",
       "value": "screenshot.png"
      }
     },
     "9c66facc8f90467ca3c09a488f40284e": {
      "model_module": "@jupyter-widgets/base",
      "model_module_version": "1.2.0",
      "model_name": "LayoutModel",
      "state": {}
     },
     "9cfa7f20f83944dca17b02c7a8513734": {
      "model_module": "@jupyter-widgets/controls",
      "model_module_version": "1.5.0",
      "model_name": "FloatSliderModel",
      "state": {
       "description": "Ball size",
       "layout": "IPY_MODEL_a50b87af03c74147851d8eb60373fdad",
       "max": 1.5,
       "step": 0.01,
       "style": "IPY_MODEL_87ba6e38b8b74f11bdd40a45ee75353e",
       "value": 0.5
      }
     },
     "9d00314c4ab84727aed7c69e1682d52f": {
      "model_module": "nglview-js-widgets",
      "model_module_version": "3.0.1",
      "model_name": "NGLModel",
      "state": {
       "_camera_orientation": [
        21.65163281875185,
        0,
        0,
        0,
        0,
        21.65163281875185,
        0,
        0,
        0,
        0,
        21.65163281875185,
        0,
        -5.67549991607666,
        -6.172999858856201,
        -3.0304999351501465,
        1
       ],
       "_camera_str": "orthographic",
       "_gui_theme": null,
       "_ibtn_fullscreen": "IPY_MODEL_0b4bcc6d32fc4fe0805a99a99faf3670",
       "_igui": null,
       "_iplayer": "IPY_MODEL_bfe65a5e738a46e6b3a21ef8ce2e374d",
       "_ngl_color_dict": {},
       "_ngl_coordinate_resource": {},
       "_ngl_full_stage_parameters": {
        "ambientColor": 14540253,
        "ambientIntensity": 0.2,
        "backgroundColor": "white",
        "cameraEyeSep": 0.3,
        "cameraFov": 40,
        "cameraType": "orthographic",
        "clipDist": 0,
        "clipFar": 100,
        "clipNear": 0,
        "fogFar": 100,
        "fogNear": 50,
        "hoverTimeout": 0,
        "impostor": true,
        "lightColor": 14540253,
        "lightIntensity": 1,
        "mousePreset": "default",
        "panSpeed": 1,
        "quality": "medium",
        "rotateSpeed": 2,
        "sampleLevel": 0,
        "tooltip": true,
        "workerDefault": true,
        "zoomSpeed": 1.2
       },
       "_ngl_msg_archive": [
        {
         "args": [
          {
           "binary": false,
           "data": "CRYST1   12.973   13.668   27.336  90.00  90.00  90.00 P 1\nMODEL     1\nATOM      1   Sn MOL     1       1.622   3.417   4.739  1.00  0.00          SN  \nATOM      2   Sn MOL     1       1.622   0.000   1.322  1.00  0.00          SN  \nATOM      3   Sn MOL     1       0.000   3.417   1.322  1.00  0.00          SN  \nATOM      4   Sn MOL     1       0.000   0.000   4.739  1.00  0.00          SN  \nATOM      5    O MOL     1       1.622   1.322   4.739  1.00  0.00           O  \nATOM      6    O MOL     1       1.622   4.739   1.322  1.00  0.00           O  \nATOM      7    O MOL     1       1.622   5.512   4.739  1.00  0.00           O  \nATOM      8    O MOL     1       1.622   2.095   1.322  1.00  0.00           O  \nATOM      9    O MOL     1       0.000   3.417   6.061  1.00  0.00           O  \nATOM     10    O MOL     1       0.000   0.000   2.644  1.00  0.00           O  \nATOM     11    O MOL     1       0.000   3.417   3.417  1.00  0.00           O  \nATOM     12    O MOL     1       0.000   0.000  -0.000  1.00  0.00           O  \nATOM     13   Sn MOL     1       1.622  10.251   4.739  1.00  0.00          SN  \nATOM     14   Sn MOL     1       1.622   6.834   1.322  1.00  0.00          SN  \nATOM     15   Sn MOL     1       0.000  10.251   1.322  1.00  0.00          SN  \nATOM     16   Sn MOL     1       0.000   6.834   4.739  1.00  0.00          SN  \nATOM     17    O MOL     1       1.622   8.156   4.739  1.00  0.00           O  \nATOM     18    O MOL     1       1.622  11.573   1.322  1.00  0.00           O  \nATOM     19    O MOL     1       1.622  12.346   4.739  1.00  0.00           O  \nATOM     20    O MOL     1       1.622   8.929   1.322  1.00  0.00           O  \nATOM     21    O MOL     1       0.000  10.251   6.061  1.00  0.00           O  \nATOM     22    O MOL     1       0.000   6.834   2.644  1.00  0.00           O  \nATOM     23    O MOL     1       0.000  10.251   3.417  1.00  0.00           O  \nATOM     24    O MOL     1       0.000   6.834  -0.000  1.00  0.00           O  \nATOM     25   Sn MOL     1       4.865   3.417   4.739  1.00  0.00          SN  \nATOM     26   Sn MOL     1       4.865   0.000   1.322  1.00  0.00          SN  \nATOM     27   Sn MOL     1       3.243   3.417   1.322  1.00  0.00          SN  \nATOM     28   Sn MOL     1       3.243   0.000   4.739  1.00  0.00          SN  \nATOM     29    O MOL     1       4.865   1.322   4.739  1.00  0.00           O  \nATOM     30    O MOL     1       4.865   4.739   1.322  1.00  0.00           O  \nATOM     31    O MOL     1       4.865   5.512   4.739  1.00  0.00           O  \nATOM     32    O MOL     1       4.865   2.095   1.322  1.00  0.00           O  \nATOM     33    O MOL     1       3.243   3.417   6.061  1.00  0.00           O  \nATOM     34    O MOL     1       3.243   0.000   2.644  1.00  0.00           O  \nATOM     35    O MOL     1       3.243   3.417   3.417  1.00  0.00           O  \nATOM     36    O MOL     1       3.243   0.000  -0.000  1.00  0.00           O  \nATOM     37   Sn MOL     1       4.865  10.251   4.739  1.00  0.00          SN  \nATOM     38   Sn MOL     1       4.865   6.834   1.322  1.00  0.00          SN  \nATOM     39   Sn MOL     1       3.243  10.251   1.322  1.00  0.00          SN  \nATOM     40   Sn MOL     1       3.243   6.834   4.739  1.00  0.00          SN  \nATOM     41    O MOL     1       4.865   8.156   4.739  1.00  0.00           O  \nATOM     42    O MOL     1       4.865  11.573   1.322  1.00  0.00           O  \nATOM     43    O MOL     1       4.865  12.346   4.739  1.00  0.00           O  \nATOM     44    O MOL     1       4.865   8.929   1.322  1.00  0.00           O  \nATOM     45    O MOL     1       3.243  10.251   6.061  1.00  0.00           O  \nATOM     46    O MOL     1       3.243   6.834   2.644  1.00  0.00           O  \nATOM     47    O MOL     1       3.243  10.251   3.417  1.00  0.00           O  \nATOM     48    O MOL     1       3.243   6.834  -0.000  1.00  0.00           O  \nATOM     49   Sn MOL     1       8.108   3.417   4.739  1.00  0.00          SN  \nATOM     50   Sn MOL     1       8.108   0.000   1.322  1.00  0.00          SN  \nATOM     51   Sn MOL     1       6.486   3.417   1.322  1.00  0.00          SN  \nATOM     52   Sn MOL     1       6.486   0.000   4.739  1.00  0.00          SN  \nATOM     53    O MOL     1       8.108   1.322   4.739  1.00  0.00           O  \nATOM     54    O MOL     1       8.108   4.739   1.322  1.00  0.00           O  \nATOM     55    O MOL     1       8.108   5.512   4.739  1.00  0.00           O  \nATOM     56    O MOL     1       8.108   2.095   1.322  1.00  0.00           O  \nATOM     57    O MOL     1       6.486   3.417   6.061  1.00  0.00           O  \nATOM     58    O MOL     1       6.486   0.000   2.644  1.00  0.00           O  \nATOM     59    O MOL     1       6.486   3.417   3.417  1.00  0.00           O  \nATOM     60    O MOL     1       6.486   0.000  -0.000  1.00  0.00           O  \nATOM     61   Sn MOL     1       8.108  10.251   4.739  1.00  0.00          SN  \nATOM     62   Sn MOL     1       8.108   6.834   1.322  1.00  0.00          SN  \nATOM     63   Sn MOL     1       6.486  10.251   1.322  1.00  0.00          SN  \nATOM     64   Sn MOL     1       6.486   6.834   4.739  1.00  0.00          SN  \nATOM     65    O MOL     1       8.108   8.156   4.739  1.00  0.00           O  \nATOM     66    O MOL     1       8.108  11.573   1.322  1.00  0.00           O  \nATOM     67    O MOL     1       8.108  12.346   4.739  1.00  0.00           O  \nATOM     68    O MOL     1       8.108   8.929   1.322  1.00  0.00           O  \nATOM     69    O MOL     1       6.486  10.251   6.061  1.00  0.00           O  \nATOM     70    O MOL     1       6.486   6.834   2.644  1.00  0.00           O  \nATOM     71    O MOL     1       6.486  10.251   3.417  1.00  0.00           O  \nATOM     72    O MOL     1       6.486   6.834  -0.000  1.00  0.00           O  \nATOM     73   Sn MOL     1      11.351   3.417   4.739  1.00  0.00          SN  \nATOM     74   Sn MOL     1      11.351   0.000   1.322  1.00  0.00          SN  \nATOM     75   Sn MOL     1       9.730   3.417   1.322  1.00  0.00          SN  \nATOM     76   Sn MOL     1       9.730   0.000   4.739  1.00  0.00          SN  \nATOM     77    O MOL     1      11.351   1.322   4.739  1.00  0.00           O  \nATOM     78    O MOL     1      11.351   4.739   1.322  1.00  0.00           O  \nATOM     79    O MOL     1      11.351   5.512   4.739  1.00  0.00           O  \nATOM     80    O MOL     1      11.351   2.095   1.322  1.00  0.00           O  \nATOM     81    O MOL     1       9.730   3.417   6.061  1.00  0.00           O  \nATOM     82    O MOL     1       9.730   0.000   2.644  1.00  0.00           O  \nATOM     83    O MOL     1       9.730   3.417   3.417  1.00  0.00           O  \nATOM     84    O MOL     1       9.730   0.000  -0.000  1.00  0.00           O  \nATOM     85   Sn MOL     1      11.351  10.251   4.739  1.00  0.00          SN  \nATOM     86   Sn MOL     1      11.351   6.834   1.322  1.00  0.00          SN  \nATOM     87   Sn MOL     1       9.730  10.251   1.322  1.00  0.00          SN  \nATOM     88   Sn MOL     1       9.730   6.834   4.739  1.00  0.00          SN  \nATOM     89    O MOL     1      11.351   8.156   4.739  1.00  0.00           O  \nATOM     90    O MOL     1      11.351  11.573   1.322  1.00  0.00           O  \nATOM     91    O MOL     1      11.351  12.346   4.739  1.00  0.00           O  \nATOM     92    O MOL     1      11.351   8.929   1.322  1.00  0.00           O  \nATOM     93    O MOL     1       9.730  10.251   6.061  1.00  0.00           O  \nATOM     94    O MOL     1       9.730   6.834   2.644  1.00  0.00           O  \nATOM     95    O MOL     1       9.730  10.251   3.417  1.00  0.00           O  \nATOM     96    O MOL     1       9.730   6.834   0.000  1.00  0.00           O  \nENDMDL\n",
           "type": "blob"
          }
         ],
         "kwargs": {
          "defaultRepresentation": false,
          "ext": "pdb"
         },
         "methodName": "loadFile",
         "reconstruc_color_scheme": false,
         "target": "Stage",
         "type": "call_method"
        },
        {
         "args": [
          "500px",
          "500px"
         ],
         "kwargs": {},
         "methodName": "setSize",
         "reconstruc_color_scheme": false,
         "target": "Widget",
         "type": "call_method"
        },
        {
         "args": [
          "unitcell"
         ],
         "component_index": 0,
         "kwargs": {
          "sele": "all"
         },
         "methodName": "addRepresentation",
         "reconstruc_color_scheme": false,
         "target": "compList",
         "type": "call_method"
        },
        {
         "args": [
          "spacefill"
         ],
         "component_index": 0,
         "kwargs": {
          "sele": "all"
         },
         "methodName": "addRepresentation",
         "reconstruc_color_scheme": false,
         "target": "compList",
         "type": "call_method"
        },
        {
         "args": [],
         "kwargs": {
          "cameraType": "orthographic"
         },
         "methodName": "setParameters",
         "reconstruc_color_scheme": false,
         "target": "Stage",
         "type": "call_method"
        },
        {
         "args": [
          {
           "clipDist": 0
          }
         ],
         "kwargs": {},
         "methodName": "setParameters",
         "reconstruc_color_scheme": false,
         "target": "Widget",
         "type": "call_method"
        },
        {
         "args": [
          "spacefill",
          0
         ],
         "kwargs": {
          "colorScale": "rainbow",
          "colorScheme": "element",
          "radiusScale": 0.5,
          "radiusType": "covalent"
         },
         "methodName": "updateRepresentationsByName",
         "reconstruc_color_scheme": false,
         "target": "Widget",
         "type": "call_method"
        },
        {
         "args": [
          "this._Q = [[1.0, 0.0, 6.123233995736766e-17], [-3.749399456654643e-33, 1.0, 6.123233995736765e-17], [-6.123233995736766e-17, -6.123233995736765e-17, 1.0]]\n    var tooltip = document.createElement('div')\n    Object.assign(tooltip.style, {\n      display: 'none',\n      position: 'fixed',\n      zIndex: 10,\n      pointerEvents: 'none',\n      backgroundColor: 'rgba( 0, 0, 0, 0.6 )',\n      color: 'lightgrey',\n      padding: '8px',\n      fontFamily: 'sans-serif'\n    })\n    document.body.appendChild(tooltip)\n\n    var that = this\n    this.stage.mouseControls.remove('hoverPick')\n    this.stage.signals.hovered.add(function (pickingProxy) {\n      if (pickingProxy && (pickingProxy.atom || pickingProxy.bond)) {\n        var atom = pickingProxy.atom || pickingProxy.closestBondAtom\n        var mp = pickingProxy.mouse.position\n        //tooltip.innerText = atom.element + ' i=' + atom.index + ' (' + atom.x.toFixed(2) +  ', ' + atom.y.toFixed(2) +  ', ' + atom.z.toFixed(2) + ')'\n        //var pos = that._atoms_pos[atom.index]\n        var Q = that._Q\n        var pos_x = Q[0][0] * atom.x + Q[0][1] * atom.y + Q[0][2] * atom.z \n        var pos_y = Q[1][0] * atom.x + Q[1][1] * atom.y + Q[1][2] * atom.z\n        var pos_z = Q[2][0] * atom.x + Q[2][1] * atom.y + Q[2][2] * atom.z\n        tooltip.innerText = 'i=' + atom.index + ' ' + atom.element + ' (' + pos_x.toFixed(2) +  ', ' + pos_y.toFixed(2) +  ', ' + pos_z.toFixed(2) + ')'\n        tooltip.style.bottom = window.innerHeight - mp.y + 3 + 'px'\n        tooltip.style.left = mp.x + 3 + 'px'\n        tooltip.style.display = 'block'\n      } else {\n        tooltip.style.display = 'none'\n      }\n    })\n    "
         ],
         "kwargs": {},
         "methodName": "executeCode",
         "reconstruc_color_scheme": false,
         "target": "Widget",
         "type": "call_method"
        },
        {
         "args": [
          "ball+stick"
         ],
         "component_index": 0,
         "kwargs": {
          "sele": "all"
         },
         "methodName": "addRepresentation",
         "reconstruc_color_scheme": false,
         "target": "compList",
         "type": "call_method"
        }
       ],
       "_ngl_original_stage_parameters": {
        "ambientColor": 14540253,
        "ambientIntensity": 0.2,
        "backgroundColor": "white",
        "cameraEyeSep": 0.3,
        "cameraFov": 40,
        "cameraType": "perspective",
        "clipDist": 10,
        "clipFar": 100,
        "clipNear": 0,
        "fogFar": 100,
        "fogNear": 50,
        "hoverTimeout": 0,
        "impostor": true,
        "lightColor": 14540253,
        "lightIntensity": 1,
        "mousePreset": "default",
        "panSpeed": 1,
        "quality": "medium",
        "rotateSpeed": 2,
        "sampleLevel": 0,
        "tooltip": true,
        "workerDefault": true,
        "zoomSpeed": 1.2
       },
       "_ngl_repr_dict": {
        "0": {
         "0": {
          "params": {
           "clipCenter": {
            "x": 0,
            "y": 0,
            "z": 0
           },
           "clipNear": 0,
           "clipRadius": 0,
           "colorMode": "hcl",
           "colorReverse": false,
           "colorScale": "",
           "colorScheme": "element",
           "colorValue": "orange",
           "defaultAssembly": "",
           "depthWrite": true,
           "diffuse": 16777215,
           "diffuseInterior": false,
           "disableImpostor": false,
           "disablePicking": false,
           "flatShaded": false,
           "interiorColor": 2236962,
           "interiorDarkening": 0,
           "lazy": false,
           "matrix": {
            "elements": [
             1,
             0,
             0,
             0,
             0,
             1,
             0,
             0,
             0,
             0,
             1,
             0,
             0,
             0,
             0,
             1
            ]
           },
           "metalness": 0,
           "opacity": 1,
           "quality": "medium",
           "radialSegments": 10,
           "radiusData": {},
           "radiusScale": 1,
           "radiusSize": 0.08461813255291437,
           "radiusType": "vdw",
           "roughness": 0.4,
           "sele": "all",
           "side": "double",
           "sphereDetail": 1,
           "useInteriorColor": true,
           "visible": true,
           "wireframe": false
          },
          "type": "unitcell"
         },
         "1": {
          "params": {
           "assembly": "default",
           "clipCenter": {
            "x": 0,
            "y": 0,
            "z": 0
           },
           "clipNear": 0,
           "clipRadius": 0,
           "colorMode": "hcl",
           "colorReverse": false,
           "colorScale": "rainbow",
           "colorScheme": "element",
           "colorValue": 9474192,
           "defaultAssembly": "",
           "depthWrite": true,
           "diffuse": 16777215,
           "diffuseInterior": false,
           "disableImpostor": false,
           "disablePicking": false,
           "flatShaded": false,
           "interiorColor": 2236962,
           "interiorDarkening": 0,
           "lazy": false,
           "matrix": {
            "elements": [
             1,
             0,
             0,
             0,
             0,
             1,
             0,
             0,
             0,
             0,
             1,
             0,
             0,
             0,
             0,
             1
            ]
           },
           "metalness": 0,
           "opacity": 1,
           "quality": "medium",
           "radiusData": {},
           "radiusScale": 0.5,
           "radiusSize": 1,
           "radiusType": "covalent",
           "roughness": 0.4,
           "sele": "all",
           "side": "double",
           "sphereDetail": 1,
           "useInteriorColor": true,
           "visible": true,
           "wireframe": false
          },
          "type": "spacefill"
         },
         "2": {
          "params": {
           "aspectRatio": 2,
           "assembly": "default",
           "bondScale": 0.4,
           "bondSpacing": 1,
           "clipCenter": {
            "x": 0,
            "y": 0,
            "z": 0
           },
           "clipNear": 0,
           "clipRadius": 0,
           "colorMode": "hcl",
           "colorReverse": false,
           "colorScale": "",
           "colorScheme": "element",
           "colorValue": 9474192,
           "cylinderOnly": false,
           "defaultAssembly": "",
           "depthWrite": true,
           "diffuse": 16777215,
           "diffuseInterior": false,
           "disableImpostor": false,
           "disablePicking": false,
           "flatShaded": false,
           "interiorColor": 2236962,
           "interiorDarkening": 0,
           "lazy": false,
           "lineOnly": false,
           "linewidth": 2,
           "matrix": {
            "elements": [
             1,
             0,
             0,
             0,
             0,
             1,
             0,
             0,
             0,
             0,
             1,
             0,
             0,
             0,
             0,
             1
            ]
           },
           "metalness": 0,
           "multipleBond": "off",
           "opacity": 1,
           "openEnded": true,
           "quality": "medium",
           "radialSegments": 10,
           "radiusData": {},
           "radiusScale": 1,
           "radiusSize": 0.15,
           "radiusType": "size",
           "roughness": 0.4,
           "sele": "all",
           "side": "double",
           "sphereDetail": 1,
           "useInteriorColor": true,
           "visible": true,
           "wireframe": false
          },
          "type": "ball+stick"
         }
        }
       },
       "_ngl_serialize": false,
       "_ngl_version": "2.0.0-dev.36",
       "_ngl_view_id": [
        "B3FCF44C-FEDB-445B-BED4-1E9F7E9B8EDC"
       ],
       "_player_dict": {},
       "_scene_position": {},
       "_scene_rotation": {},
       "_synced_model_ids": [],
       "_synced_repr_model_ids": [],
       "_view_height": "",
       "_view_width": "",
       "background": "white",
       "frame": 0,
       "gui_style": null,
       "layout": "IPY_MODEL_84c1678ed2f3465caa661d5cce95205b",
       "max_frame": 0,
       "n_components": 1,
       "picked": {}
      }
     },
     "9d417f0c22a246b493367a4b3f6a1c58": {
      "model_module": "@jupyter-widgets/controls",
      "model_module_version": "1.5.0",
      "model_name": "DescriptionStyleModel",
      "state": {
       "description_width": ""
      }
     },
     "9d58854397c64d81bcffde9114c70f57": {
      "model_module": "@jupyter-widgets/base",
      "model_module_version": "1.2.0",
      "model_name": "LayoutModel",
      "state": {}
     },
     "9db43c7a489b4471a0601504325b7f0f": {
      "model_module": "@jupyter-widgets/base",
      "model_module_version": "1.2.0",
      "model_name": "LayoutModel",
      "state": {}
     },
     "9e9b7338272e42ffa9eb1ab929e7b052": {
      "model_module": "@jupyter-widgets/output",
      "model_module_version": "1.0.0",
      "model_name": "OutputModel",
      "state": {
       "layout": "IPY_MODEL_0bb00fc413bf46c48e1cb681cd777a75"
      }
     },
     "9f05ca70ad2444cb80bb894c78dd5b6e": {
      "model_module": "@jupyter-widgets/controls",
      "model_module_version": "1.5.0",
      "model_name": "VBoxModel",
      "state": {
       "children": [
        "IPY_MODEL_8f78eda21213485f819b7af280064e62",
        "IPY_MODEL_2c39d87d4232494bafb0f162d1b4b227",
        "IPY_MODEL_c9ea3dd28fb34bc3be6c2dd31e9a5ebf",
        "IPY_MODEL_9c6070728e854ddd90ef791a0ab6258a",
        "IPY_MODEL_428bd505ecc44a8c8c91b780a81b9d4d",
        "IPY_MODEL_b9d0daf26426499091523ec2c17cc6d4",
        "IPY_MODEL_1bb5c4787449462eb13a5f56214ea56b",
        "IPY_MODEL_d2ad008421d04f32af214513acc9ab6c",
        "IPY_MODEL_b5c4aef7b3ae4441bd5ac076ae261077",
        "IPY_MODEL_a66b874e8465422f96d87f7eb236ce5d"
       ],
       "layout": "IPY_MODEL_694e3c7cf2b54c9cad1666626043fd20"
      }
     },
     "9f4881d486c946cb93838d5f28de2b30": {
      "model_module": "@jupyter-widgets/controls",
      "model_module_version": "1.5.0",
      "model_name": "HBoxModel",
      "state": {
       "children": [
        "IPY_MODEL_fc985c567f754ba3994b0a7d82931351",
        "IPY_MODEL_1d24c6fdf7fc40698a615d996e806c44"
       ],
       "layout": "IPY_MODEL_566e810ad06849f29615869429b5d691"
      }
     },
     "9f499e77697641f3a8f73ae006b6e005": {
      "model_module": "@jupyter-widgets/controls",
      "model_module_version": "1.5.0",
      "model_name": "CheckboxModel",
      "state": {
       "description": "Show force",
       "disabled": false,
       "layout": "IPY_MODEL_f4f72805338e4d5588891d934e27d2e6",
       "style": "IPY_MODEL_e7af028e7acb4b38a715eb8f48c58ea9",
       "value": false
      }
     },
     "9f9ed4a7acb44198900ceb76982890fd": {
      "model_module": "@jupyter-widgets/controls",
      "model_module_version": "1.5.0",
      "model_name": "CheckboxModel",
      "state": {
       "description": "Show force",
       "disabled": false,
       "layout": "IPY_MODEL_936f7ffee03e4a09afb6a04bc59212d0",
       "style": "IPY_MODEL_4d0db5edf9e24d1abc02e95e00163de9",
       "value": false
      }
     },
     "a0044e815564446dbb5589aa96d76158": {
      "model_module": "@jupyter-widgets/base",
      "model_module_version": "1.2.0",
      "model_name": "LayoutModel",
      "state": {}
     },
     "a09596d920964cbd805616a25854a092": {
      "model_module": "@jupyter-widgets/base",
      "model_module_version": "1.2.0",
      "model_name": "LayoutModel",
      "state": {}
     },
     "a0ba355659e3403b810536e7639b5758": {
      "model_module": "nglview-js-widgets",
      "model_module_version": "3.0.1",
      "model_name": "ColormakerRegistryModel",
      "state": {
       "_msg_ar": [],
       "_msg_q": [],
       "_ready": true,
       "layout": "IPY_MODEL_972e8e772c1341efafdf1cc036fdfa3e"
      }
     },
     "a0dba45baccb40018cab58f64a2a7253": {
      "model_module": "@jupyter-widgets/controls",
      "model_module_version": "1.5.0",
      "model_name": "LinkModel",
      "state": {
       "source": [
        "IPY_MODEL_d92eb0e13ec64895a5c32dbdc1797c80",
        "value"
       ],
       "target": [
        "IPY_MODEL_82df02aaaa7248198d71030e3decb0d2",
        "frame"
       ]
      }
     },
     "a0f98d8280fd4a32bf92332dc4a7e387": {
      "model_module": "@jupyter-widgets/controls",
      "model_module_version": "1.5.0",
      "model_name": "ButtonStyleModel",
      "state": {}
     },
     "a14828cb13204ecfb0c68bf2fd0c2206": {
      "model_module": "@jupyter-widgets/controls",
      "model_module_version": "1.5.0",
      "model_name": "LinkModel",
      "state": {
       "source": [
        "IPY_MODEL_a4cab0cca1c5443ba1fd863554e2262f",
        "value"
       ],
       "target": [
        "IPY_MODEL_d8109a8ad1354310be74c2d5230a8c66",
        "value"
       ]
      }
     },
     "a1d758e87fd046498c0d700e33b06d19": {
      "model_module": "@jupyter-widgets/controls",
      "model_module_version": "1.5.0",
      "model_name": "ImageModel",
      "state": {
       "layout": "IPY_MODEL_509bd4fc7af54c489404c7d3b55a5b05",
       "width": "900.0"
      }
     },
     "a23982903c4e4aa084bf488f8f9a3f81": {
      "model_module": "@jupyter-widgets/controls",
      "model_module_version": "1.5.0",
      "model_name": "SliderStyleModel",
      "state": {
       "description_width": ""
      }
     },
     "a2aa35b2950b4ed08fce60b75207c935": {
      "model_module": "@jupyter-widgets/base",
      "model_module_version": "1.2.0",
      "model_name": "LayoutModel",
      "state": {}
     },
     "a2b6cd80761f42348fda9d47b5ad79d4": {
      "model_module": "@jupyter-widgets/controls",
      "model_module_version": "1.5.0",
      "model_name": "SliderStyleModel",
      "state": {
       "description_width": ""
      }
     },
     "a2bafb6e2d35439488f3ec81e5908557": {
      "model_module": "@jupyter-widgets/controls",
      "model_module_version": "1.5.0",
      "model_name": "FloatSliderModel",
      "state": {
       "description": "Charge scale",
       "layout": "IPY_MODEL_b164c0f02d594fdf90cbad6fff07bb2b",
       "step": 0.1,
       "style": "IPY_MODEL_bb0b06b9419f47d8b1ed67d5e98fc8c0",
       "value": 1
      }
     },
     "a2cc2e5f979248ada207cc8ee7cdbfb8": {
      "model_module": "@jupyter-widgets/controls",
      "model_module_version": "1.5.0",
      "model_name": "DescriptionStyleModel",
      "state": {
       "description_width": ""
      }
     },
     "a2dff0ffb8c6491ab4f81619245c9ee2": {
      "model_module": "@jupyter-widgets/controls",
      "model_module_version": "1.5.0",
      "model_name": "SliderStyleModel",
      "state": {
       "description_width": ""
      }
     },
     "a2e95f78b0624a80bc4af66db9553f0d": {
      "model_module": "@jupyter-widgets/controls",
      "model_module_version": "1.5.0",
      "model_name": "VBoxModel",
      "state": {
       "children": [
        "IPY_MODEL_3eb2aeb7359043ca9fa908de888a1472",
        "IPY_MODEL_dddab1a5567b4188a17b9caaa843ce43",
        "IPY_MODEL_093678393e764b04a1a4cc9c44121e8f",
        "IPY_MODEL_0120f337aac04b65b1ae4278d2bdce85",
        "IPY_MODEL_d2feead1071041a69029cdfc14b66f82",
        "IPY_MODEL_19852ceac8e1440c8af9be75f92dd394",
        "IPY_MODEL_66fcc96f45ae45bd9fdb0e8a6f7ed9d8",
        "IPY_MODEL_a4802171a055476083cf4b848adda280",
        "IPY_MODEL_a2bafb6e2d35439488f3ec81e5908557",
        "IPY_MODEL_9e9b7338272e42ffa9eb1ab929e7b052"
       ],
       "layout": "IPY_MODEL_8eb3df230b1d4f64bd10b6bbae335a82"
      }
     },
     "a3970cbe81254e06bab5d46d6ff6abda": {
      "model_module": "@jupyter-widgets/base",
      "model_module_version": "1.2.0",
      "model_name": "LayoutModel",
      "state": {}
     },
     "a401b573e3b34a4d92d3b4aa8054ea0e": {
      "model_module": "@jupyter-widgets/controls",
      "model_module_version": "1.5.0",
      "model_name": "PlayModel",
      "state": {
       "layout": "IPY_MODEL_c18b39d3037945b48fec889e8620ab59",
       "max": 0,
       "style": "IPY_MODEL_5cf2e76626584760a82dfea487670af4"
      }
     },
     "a458c1a9c1344aa0b786b3e3cfe05c5a": {
      "model_module": "@jupyter-widgets/base",
      "model_module_version": "1.2.0",
      "model_name": "LayoutModel",
      "state": {}
     },
     "a4692950382145f09c91c3466dbbfb52": {
      "model_module": "@jupyter-widgets/controls",
      "model_module_version": "1.5.0",
      "model_name": "ButtonModel",
      "state": {
       "description": "Save image",
       "layout": "IPY_MODEL_8fce7c3662c54258a7e46e08493de26e",
       "style": "IPY_MODEL_2322cc9e94dd40f28c8e3f59b86a2953",
       "tooltip": "Save current frame to file.\nCurrently .png and .html are supported.\nIt takes a bit time, please be patient."
      }
     },
     "a4802171a055476083cf4b848adda280": {
      "model_module": "@jupyter-widgets/controls",
      "model_module_version": "1.5.0",
      "model_name": "CheckboxModel",
      "state": {
       "description": "Show charge",
       "disabled": false,
       "layout": "IPY_MODEL_c95ecd4ad99f4589a581ea6009a2c53f",
       "style": "IPY_MODEL_482d5e5f33504932bc5c203ad795e699",
       "value": false
      }
     },
     "a4cab0cca1c5443ba1fd863554e2262f": {
      "model_module": "@jupyter-widgets/controls",
      "model_module_version": "1.5.0",
      "model_name": "PlayModel",
      "state": {
       "layout": "IPY_MODEL_1fd7565548f3446297b3be1ad25315fd",
       "max": 0,
       "style": "IPY_MODEL_b1010a0f16bf4e7880036660490cf5ac"
      }
     },
     "a50b87af03c74147851d8eb60373fdad": {
      "model_module": "@jupyter-widgets/base",
      "model_module_version": "1.2.0",
      "model_name": "LayoutModel",
      "state": {}
     },
     "a63fcb8c72fb47b4bdfb3354ff6f2a8d": {
      "model_module": "@jupyter-widgets/controls",
      "model_module_version": "1.5.0",
      "model_name": "HBoxModel",
      "state": {
       "children": [
        "IPY_MODEL_e69d508233f24e4a9cda0447b957871c",
        "IPY_MODEL_49c59734a7ad4c4aa70177d0bc98f207"
       ],
       "layout": "IPY_MODEL_bd488011ac11426ba945594a11c39f69"
      }
     },
     "a6518336af2447a6a594061912a4fbec": {
      "model_module": "@jupyter-widgets/base",
      "model_module_version": "1.2.0",
      "model_name": "LayoutModel",
      "state": {}
     },
     "a66b874e8465422f96d87f7eb236ce5d": {
      "model_module": "@jupyter-widgets/output",
      "model_module_version": "1.0.0",
      "model_name": "OutputModel",
      "state": {
       "layout": "IPY_MODEL_ff5ac657982e423c9b128850d13858b8"
      }
     },
     "a67e7bcbc4ce4406b3cad534b35ac360": {
      "model_module": "@jupyter-widgets/controls",
      "model_module_version": "1.5.0",
      "model_name": "HBoxModel",
      "state": {
       "children": [
        "IPY_MODEL_b2b67bef295347b6812cb931213c8abd",
        "IPY_MODEL_964deb847681464db2b3fdb616994692"
       ],
       "layout": "IPY_MODEL_48762f050d81410ab61490217a1f9224"
      }
     },
     "a73b0ab4e6ec4b6c919e0eef86241325": {
      "model_module": "@jupyter-widgets/controls",
      "model_module_version": "1.5.0",
      "model_name": "DescriptionStyleModel",
      "state": {
       "description_width": ""
      }
     },
     "a7412809bfdf426693fa93a339342e12": {
      "model_module": "@jupyter-widgets/base",
      "model_module_version": "1.2.0",
      "model_name": "LayoutModel",
      "state": {}
     },
     "a8521e85c5f34a4baec081cb6badaedc": {
      "model_module": "@jupyter-widgets/controls",
      "model_module_version": "1.5.0",
      "model_name": "SliderStyleModel",
      "state": {
       "description_width": ""
      }
     },
     "a89f119b2ebc4893a88276d065754162": {
      "model_module": "@jupyter-widgets/controls",
      "model_module_version": "1.5.0",
      "model_name": "DropdownModel",
      "state": {
       "_options_labels": [
        "All",
        "O",
        "Pt",
        "Sn"
       ],
       "description": "Show",
       "index": 0,
       "layout": "IPY_MODEL_bf08e72bc7744f379ce49a0fa4bd0722",
       "style": "IPY_MODEL_bbc7b02bd2be44de9383f51b68d15060"
      }
     },
     "a8ab704624f847a2ad70b5641accfb34": {
      "model_module": "@jupyter-widgets/controls",
      "model_module_version": "1.5.0",
      "model_name": "SliderStyleModel",
      "state": {
       "description_width": ""
      }
     },
     "a915750bf0b6410b8ad918549cab3997": {
      "model_module": "@jupyter-widgets/base",
      "model_module_version": "1.2.0",
      "model_name": "LayoutModel",
      "state": {}
     },
     "a91f44703c4a4563ad7d54a6e5af74b8": {
      "model_module": "@jupyter-widgets/controls",
      "model_module_version": "1.5.0",
      "model_name": "FloatSliderModel",
      "state": {
       "description": "Ball size",
       "layout": "IPY_MODEL_c1e06d65355a447599f336cff1671cb6",
       "max": 1.5,
       "step": 0.01,
       "style": "IPY_MODEL_7c9a0856c8c24b9e822fe9f66fd1d78c",
       "value": 0.5
      }
     },
     "a9fd2625452b442eaeaa53c6f6fdbb3c": {
      "model_module": "@jupyter-widgets/controls",
      "model_module_version": "1.5.0",
      "model_name": "DescriptionStyleModel",
      "state": {
       "description_width": ""
      }
     },
     "aa0e8190e0f74b0b82dd2e13d03b9811": {
      "model_module": "@jupyter-widgets/base",
      "model_module_version": "1.2.0",
      "model_name": "LayoutModel",
      "state": {}
     },
     "aa9214756f9b4191af50cdc3f8deff70": {
      "model_module": "@jupyter-widgets/controls",
      "model_module_version": "1.5.0",
      "model_name": "ButtonModel",
      "state": {
       "description": "Download image",
       "layout": "IPY_MODEL_195e789c28ff4257a2d0d3f5bbc34681",
       "style": "IPY_MODEL_0e0ab3f606094f078ac0dae6ab195d36",
       "tooltip": "Download current frame to your local PC"
      }
     },
     "aaa3cd598fcc459f8d83fe55becbff40": {
      "model_module": "@jupyter-widgets/controls",
      "model_module_version": "1.5.0",
      "model_name": "SliderStyleModel",
      "state": {
       "description_width": ""
      }
     },
     "ab04b5e8a81d4bbbbb580312f9c70aea": {
      "model_module": "@jupyter-widgets/controls",
      "model_module_version": "1.5.0",
      "model_name": "FloatSliderModel",
      "state": {
       "description": "Charge scale",
       "layout": "IPY_MODEL_add67c2cc3cc453fbf3026f00036470d",
       "step": 0.1,
       "style": "IPY_MODEL_aaa3cd598fcc459f8d83fe55becbff40",
       "value": 1
      }
     },
     "ab31418d9aa04ab6accaa7cb5ae2ce33": {
      "model_module": "@jupyter-widgets/controls",
      "model_module_version": "1.5.0",
      "model_name": "CheckboxModel",
      "state": {
       "description": "Show charge",
       "disabled": false,
       "layout": "IPY_MODEL_8418cf4e9e5b45f3b620ad0cdecead1c",
       "style": "IPY_MODEL_4caa353cf2224fcc91147ece47793d97",
       "value": false
      }
     },
     "ab9a1eedf9644ab9b4db430b89b0407a": {
      "model_module": "@jupyter-widgets/controls",
      "model_module_version": "1.5.0",
      "model_name": "DescriptionStyleModel",
      "state": {
       "description_width": ""
      }
     },
     "abc799227c3547a2810cdaebbcef3a25": {
      "model_module": "@jupyter-widgets/controls",
      "model_module_version": "1.5.0",
      "model_name": "DescriptionStyleModel",
      "state": {
       "description_width": ""
      }
     },
     "ad0736d744224902bb11dd29d1272689": {
      "model_module": "@jupyter-widgets/controls",
      "model_module_version": "1.5.0",
      "model_name": "ButtonStyleModel",
      "state": {}
     },
     "ad40905edbe641d1a614f2b16dcab430": {
      "model_module": "@jupyter-widgets/base",
      "model_module_version": "1.2.0",
      "model_name": "LayoutModel",
      "state": {}
     },
     "ad47380c1b804ae186c0634509574c8b": {
      "model_module": "@jupyter-widgets/controls",
      "model_module_version": "1.5.0",
      "model_name": "SliderStyleModel",
      "state": {
       "description_width": ""
      }
     },
     "ad48adf5e64d49d7ba55498b2e6ec356": {
      "model_module": "@jupyter-widgets/base",
      "model_module_version": "1.2.0",
      "model_name": "LayoutModel",
      "state": {}
     },
     "ada5968620484910b65d59e9769e4842": {
      "model_module": "@jupyter-widgets/base",
      "model_module_version": "1.2.0",
      "model_name": "LayoutModel",
      "state": {}
     },
     "add67c2cc3cc453fbf3026f00036470d": {
      "model_module": "@jupyter-widgets/base",
      "model_module_version": "1.2.0",
      "model_name": "LayoutModel",
      "state": {}
     },
     "ae39dd3deb8e4103ba4d55cf0f984f14": {
      "model_module": "@jupyter-widgets/controls",
      "model_module_version": "1.5.0",
      "model_name": "ImageModel",
      "state": {
       "layout": "IPY_MODEL_07b17a1c39a8481bb9b7df5bc331b1c3",
       "width": "900.0"
      }
     },
     "ae46bcd73bb74af1b5311f8b0ac66333": {
      "model_module": "@jupyter-widgets/controls",
      "model_module_version": "1.5.0",
      "model_name": "IntSliderModel",
      "state": {
       "layout": "IPY_MODEL_c500b7b2931e4a4dbf12569ff20734eb",
       "max": 306,
       "style": "IPY_MODEL_242cd3440814403b90f2055074ea2ce7"
      }
     },
     "af87cb3439b044f8a8fad31bf790a362": {
      "model_module": "@jupyter-widgets/controls",
      "model_module_version": "1.5.0",
      "model_name": "TextModel",
      "state": {
       "description": "Filename: ",
       "layout": "IPY_MODEL_a0044e815564446dbb5589aa96d76158",
       "style": "IPY_MODEL_c16a6908d42a4c819be32e17e9bc2aa6",
       "value": "screenshot.png"
      }
     },
     "af97b5d8d9c44f2fa8ad1a24a868c22d": {
      "model_module": "@jupyter-widgets/base",
      "model_module_version": "1.2.0",
      "model_name": "LayoutModel",
      "state": {
       "border": "0px solid black"
      }
     },
     "b059168a3f2b4134bbb761bc058392a6": {
      "model_module": "nglview-js-widgets",
      "model_module_version": "3.0.1",
      "model_name": "NGLModel",
      "state": {
       "_camera_orientation": [
        22.991326355132824,
        -1.0632530988771873,
        0.43146117183152083,
        0,
        0.40063837393755,
        -0.6727062245650958,
        -23.006623148390503,
        0,
        1.0752463849736273,
        22.985532681372824,
        -0.6533651570459778,
        0,
        -12.17600001487881,
        -12.995500458404422,
        -6.376500099897385,
        1
       ],
       "_camera_str": "orthographic",
       "_gui_theme": null,
       "_ibtn_fullscreen": "IPY_MODEL_221ede0a2c0d4dd19715f88f56d1df01",
       "_igui": null,
       "_iplayer": "IPY_MODEL_2dec97a7fc374b13a925bf31098ccfea",
       "_ngl_color_dict": {},
       "_ngl_coordinate_resource": {},
       "_ngl_full_stage_parameters": {
        "ambientColor": 14540253,
        "ambientIntensity": 0.2,
        "backgroundColor": "white",
        "cameraEyeSep": 0.3,
        "cameraFov": 40,
        "cameraType": "orthographic",
        "clipDist": 0,
        "clipFar": 100,
        "clipNear": 0,
        "fogFar": 100,
        "fogNear": 50,
        "hoverTimeout": 0,
        "impostor": true,
        "lightColor": 14540253,
        "lightIntensity": 1,
        "mousePreset": "default",
        "panSpeed": 1,
        "quality": "medium",
        "rotateSpeed": 2,
        "sampleLevel": 0,
        "tooltip": true,
        "workerDefault": true,
        "zoomSpeed": 1.2
       },
       "_ngl_msg_archive": [
        {
         "args": [
          {
           "binary": false,
           "data": "CRYST1   25.946   27.336   27.336  90.00  90.00  90.00 P 1\nMODEL     1\nATOM      1   Sn MOL     1       1.637   3.388   5.093  1.00  0.00          SN  \nATOM      2   Sn MOL     1       1.627  -0.034   0.993  1.00  0.00          SN  \nATOM      3   Sn MOL     1       0.016   3.380   1.602  1.00  0.00          SN  \nATOM      4   Sn MOL     1       0.007  -0.032   4.485  1.00  0.00          SN  \nATOM      5    O MOL     1       1.631   1.239   4.885  1.00  0.00           O  \nATOM      6    O MOL     1       1.641   4.656   1.230  1.00  0.00           O  \nATOM      7    O MOL     1       1.648   5.540   4.864  1.00  0.00           O  \nATOM      8    O MOL     1       1.632   2.116   1.197  1.00  0.00           O  \nATOM      9    O MOL     1       0.015   3.399   6.262  1.00  0.00           O  \nATOM     10    O MOL     1       0.007  -0.029   2.479  1.00  0.00           O  \nATOM     11    O MOL     1       0.018   3.378   3.608  1.00  0.00           O  \nATOM     12    O MOL     1       0.008  -0.044  -0.180  1.00  0.00           O  \nATOM     13   Sn MOL     1       1.643  10.221   5.099  1.00  0.00          SN  \nATOM     14   Sn MOL     1       1.638   6.800   0.996  1.00  0.00          SN  \nATOM     15   Sn MOL     1       0.016  10.218   1.590  1.00  0.00          SN  \nATOM     16   Sn MOL     1       0.026   6.795   4.472  1.00  0.00          SN  \nATOM     17    O MOL     1       1.641   8.080   4.898  1.00  0.00           O  \nATOM     18    O MOL     1       1.635  11.491   1.220  1.00  0.00           O  \nATOM     19    O MOL     1       1.635  12.362   4.866  1.00  0.00           O  \nATOM     20    O MOL     1       1.638   8.952   1.204  1.00  0.00           O  \nATOM     21    O MOL     1       0.026  10.222   6.267  1.00  0.00           O  \nATOM     22    O MOL     1       0.024   6.808   2.466  1.00  0.00           O  \nATOM     23    O MOL     1       0.026  10.214   3.599  1.00  0.00           O  \nATOM     24    O MOL     1       0.032   6.793  -0.194  1.00  0.00           O  \nATOM     25   Sn MOL     1       4.878   3.387   5.086  1.00  0.00          SN  \nATOM     26   Sn MOL     1       4.869  -0.031   0.987  1.00  0.00          SN  \nATOM     27   Sn MOL     1       3.254   3.379   1.604  1.00  0.00          SN  \nATOM     28   Sn MOL     1       3.250  -0.025   4.482  1.00  0.00          SN  \nATOM     29    O MOL     1       4.879   1.241   4.884  1.00  0.00           O  \nATOM     30    O MOL     1       4.875   4.656   1.229  1.00  0.00           O  \nATOM     31    O MOL     1       4.874   5.550   4.849  1.00  0.00           O  \nATOM     32    O MOL     1       4.873   2.119   1.191  1.00  0.00           O  \nATOM     33    O MOL     1       3.262   3.408   6.264  1.00  0.00           O  \nATOM     34    O MOL     1       3.250  -0.016   2.476  1.00  0.00           O  \nATOM     35    O MOL     1       3.259   3.369   3.610  1.00  0.00           O  \nATOM     36    O MOL     1       3.247  -0.041  -0.182  1.00  0.00           O  \nATOM     37   Sn MOL     1       4.862  10.247   5.119  1.00  0.00          SN  \nATOM     38   Sn MOL     1       4.872   6.795   0.989  1.00  0.00          SN  \nATOM     39   Sn MOL     1       3.245  10.219   1.616  1.00  0.00          SN  \nATOM     40   Sn MOL     1       3.263   6.829   4.499  1.00  0.00          SN  \nATOM     41    O MOL     1       4.915   8.099   4.994  1.00  0.00           O  \nATOM     42    O MOL     1       4.869  11.491   1.258  1.00  0.00           O  \nATOM     43    O MOL     1       4.856  12.358   4.858  1.00  0.00           O  \nATOM     44    O MOL     1       4.860   8.950   1.187  1.00  0.00           O  \nATOM     45    O MOL     1       3.265  10.237   6.303  1.00  0.00           O  \nATOM     46    O MOL     1       3.270   6.846   2.491  1.00  0.00           O  \nATOM     47    O MOL     1       3.258  10.197   3.631  1.00  0.00           O  \nATOM     48    O MOL     1       3.254   6.786  -0.178  1.00  0.00           O  \nATOM     49   Sn MOL     1       8.124   3.389   5.076  1.00  0.00          SN  \nATOM     50   Sn MOL     1       8.113  -0.030   0.981  1.00  0.00          SN  \nATOM     51   Sn MOL     1       6.495   3.380   1.593  1.00  0.00          SN  \nATOM     52   Sn MOL     1       6.494  -0.027   4.475  1.00  0.00          SN  \nATOM     53    O MOL     1       8.119   1.243   4.874  1.00  0.00           O  \nATOM     54    O MOL     1       8.116   4.655   1.206  1.00  0.00           O  \nATOM     55    O MOL     1       8.128   5.550   4.841  1.00  0.00           O  \nATOM     56    O MOL     1       8.116   2.119   1.187  1.00  0.00           O  \nATOM     57    O MOL     1       6.505   3.429   6.251  1.00  0.00           O  \nATOM     58    O MOL     1       6.493  -0.015   2.469  1.00  0.00           O  \nATOM     59    O MOL     1       6.501   3.388   3.601  1.00  0.00           O  \nATOM     60    O MOL     1       6.489  -0.038  -0.187  1.00  0.00           O  \nATOM     61   Sn MOL     1       8.104  10.207   4.929  1.00  0.00          SN  \nATOM     62   Sn MOL     1       8.113   6.788   0.953  1.00  0.00          SN  \nATOM     63   Sn MOL     1       6.470  10.200   1.592  1.00  0.00          SN  \nATOM     64   Sn MOL     1       6.493   6.797   4.467  1.00  0.00          SN  \nATOM     65    O MOL     1       8.103   8.085   4.887  1.00  0.00           O  \nATOM     66    O MOL     1       8.086  11.477   1.264  1.00  0.00           O  \nATOM     67    O MOL     1       8.038  12.285   4.574  1.00  0.00           O  \nATOM     68    O MOL     1       8.093   8.945   1.143  1.00  0.00           O  \nATOM     69    O MOL     1       6.627  10.488   6.355  1.00  0.00           O  \nATOM     70    O MOL     1       6.497   6.842   2.464  1.00  0.00           O  \nATOM     71    O MOL     1       6.431  10.103   3.641  1.00  0.00           O  \nATOM     72    O MOL     1       6.482   6.783  -0.197  1.00  0.00           O  \nATOM     73   Sn MOL     1      11.369   3.391   5.065  1.00  0.00          SN  \nATOM     74   Sn MOL     1      11.358  -0.033   0.977  1.00  0.00          SN  \nATOM     75   Sn MOL     1       9.740   3.380   1.580  1.00  0.00          SN  \nATOM     76   Sn MOL     1       9.738  -0.025   4.469  1.00  0.00          SN  \nATOM     77    O MOL     1      11.365   1.243   4.864  1.00  0.00           O  \nATOM     78    O MOL     1      11.362   4.653   1.180  1.00  0.00           O  \nATOM     79    O MOL     1      11.373   5.547   4.829  1.00  0.00           O  \nATOM     80    O MOL     1      11.362   2.116   1.184  1.00  0.00           O  \nATOM     81    O MOL     1       9.750   3.418   6.241  1.00  0.00           O  \nATOM     82    O MOL     1       9.737  -0.018   2.464  1.00  0.00           O  \nATOM     83    O MOL     1       9.744   3.391   3.588  1.00  0.00           O  \nATOM     84    O MOL     1       9.734  -0.039  -0.191  1.00  0.00           O  \nATOM     85   Sn MOL     1      11.389  10.177   4.759  1.00  0.00          SN  \nATOM     86   Sn MOL     1      11.366   6.784   0.914  1.00  0.00          SN  \nATOM     87   Sn MOL     1       9.725  10.205   1.476  1.00  0.00          SN  \nATOM     88   Sn MOL     1       9.745   6.799   4.429  1.00  0.00          SN  \nATOM     89    O MOL     1      11.400   8.069   4.774  1.00  0.00           O  \nATOM     90    O MOL     1      11.360  11.465   1.219  1.00  0.00           O  \nATOM     91    O MOL     1      11.369  12.240   4.473  1.00  0.00           O  \nATOM     92    O MOL     1      11.356   8.938   1.086  1.00  0.00           O  \nATOM     93    O MOL     1       9.806   9.956   6.133  1.00  0.00           O  \nATOM     94    O MOL     1       9.741   6.830   2.426  1.00  0.00           O  \nATOM     95    O MOL     1       9.701  10.087   3.508  1.00  0.00           O  \nATOM     96    O MOL     1       9.727   6.787  -0.232  1.00  0.00           O  \nATOM     97   Sn MOL     1       1.592  17.056   5.099  1.00  0.00          SN  \nATOM     98   Sn MOL     1       1.627  13.639   0.980  1.00  0.00          SN  \nATOM     99   Sn MOL     1      -0.001  17.054   1.620  1.00  0.00          SN  \nATOM    100   Sn MOL     1       0.007  13.632   4.471  1.00  0.00          SN  \nATOM    101    O MOL     1       1.608  14.907   4.873  1.00  0.00           O  \nATOM    102    O MOL     1       1.608  18.328   1.219  1.00  0.00           O  \nATOM    103    O MOL     1       1.608  19.201   4.889  1.00  0.00           O  \nATOM    104    O MOL     1       1.613  15.787   1.204  1.00  0.00           O  \nATOM    105    O MOL     1      -0.013  17.033   6.296  1.00  0.00           O  \nATOM    106    O MOL     1       0.007  13.632   2.467  1.00  0.00           O  \nATOM    107    O MOL     1      -0.012  17.058   3.630  1.00  0.00           O  \nATOM    108    O MOL     1       0.008  13.645  -0.193  1.00  0.00           O  \nATOM    109   Sn MOL     1       1.620  23.893   5.113  1.00  0.00          SN  \nATOM    110   Sn MOL     1       1.610  20.478   1.004  1.00  0.00          SN  \nATOM    111   Sn MOL     1      -0.001  23.887   1.629  1.00  0.00          SN  \nATOM    112   Sn MOL     1      -0.011  20.473   4.512  1.00  0.00          SN  \nATOM    113    O MOL     1       1.613  21.741   4.897  1.00  0.00           O  \nATOM    114    O MOL     1       1.621  25.158   1.231  1.00  0.00           O  \nATOM    115    O MOL     1       1.628  26.038   4.877  1.00  0.00           O  \nATOM    116    O MOL     1       1.614  22.621   1.231  1.00  0.00           O  \nATOM    117    O MOL     1      -0.000  23.887   6.289  1.00  0.00           O  \nATOM    118    O MOL     1      -0.009  20.464   2.507  1.00  0.00           O  \nATOM    119    O MOL     1      -0.003  23.883   3.635  1.00  0.00           O  \nATOM    120    O MOL     1      -0.016  20.473  -0.154  1.00  0.00           O  \nATOM    121   Sn MOL     1       4.805  17.060   5.074  1.00  0.00          SN  \nATOM    122   Sn MOL     1       4.871  13.642   0.953  1.00  0.00          SN  \nATOM    123   Sn MOL     1       3.227  17.061   1.588  1.00  0.00          SN  \nATOM    124   Sn MOL     1       3.226  13.647   4.459  1.00  0.00          SN  \nATOM    125    O MOL     1       4.832  14.904   4.882  1.00  0.00           O  \nATOM    126    O MOL     1       4.836  18.339   1.183  1.00  0.00           O  \nATOM    127    O MOL     1       4.843  19.203   4.861  1.00  0.00           O  \nATOM    128    O MOL     1       4.837  15.799   1.133  1.00  0.00           O  \nATOM    129    O MOL     1       3.211  17.055   6.273  1.00  0.00           O  \nATOM    130    O MOL     1       3.244  13.656   2.455  1.00  0.00           O  \nATOM    131    O MOL     1       3.216  17.045   3.599  1.00  0.00           O  \nATOM    132    O MOL     1       3.242  13.611  -0.203  1.00  0.00           O  \nATOM    133   Sn MOL     1       4.861  23.895   5.100  1.00  0.00          SN  \nATOM    134   Sn MOL     1       4.846  20.488   0.977  1.00  0.00          SN  \nATOM    135   Sn MOL     1       3.238  23.893   1.618  1.00  0.00          SN  \nATOM    136   Sn MOL     1       3.224  20.479   4.483  1.00  0.00          SN  \nATOM    137    O MOL     1       4.850  21.744   4.878  1.00  0.00           O  \nATOM    138    O MOL     1       4.861  25.163   1.226  1.00  0.00           O  \nATOM    139    O MOL     1       4.871  26.040   4.867  1.00  0.00           O  \nATOM    140    O MOL     1       4.855  22.628   1.210  1.00  0.00           O  \nATOM    141    O MOL     1       3.245  23.896   6.279  1.00  0.00           O  \nATOM    142    O MOL     1       3.230  20.475   2.477  1.00  0.00           O  \nATOM    143    O MOL     1       3.240  23.885   3.623  1.00  0.00           O  \nATOM    144    O MOL     1       3.220  20.486  -0.183  1.00  0.00           O  \nATOM    145   Sn MOL     1       7.984  17.056   4.948  1.00  0.00          SN  \nATOM    146   Sn MOL     1       8.120  13.640   1.054  1.00  0.00          SN  \nATOM    147   Sn MOL     1       6.452  17.064   1.522  1.00  0.00          SN  \nATOM    148   Sn MOL     1       6.454  13.645   4.451  1.00  0.00          SN  \nATOM    149    O MOL     1       8.037  14.918   4.852  1.00  0.00           O  \nATOM    150    O MOL     1       8.076  18.341   1.154  1.00  0.00           O  \nATOM    151    O MOL     1       8.071  19.195   4.832  1.00  0.00           O  \nATOM    152    O MOL     1       8.086  15.804   1.161  1.00  0.00           O  \nATOM    153    O MOL     1       6.450  17.061   6.225  1.00  0.00           O  \nATOM    154    O MOL     1       6.440  13.705   2.454  1.00  0.00           O  \nATOM    155    O MOL     1       6.408  17.052   3.536  1.00  0.00           O  \nATOM    156    O MOL     1       6.522  13.607  -0.172  1.00  0.00           O  \nATOM    157   Sn MOL     1       8.104  23.893   5.088  1.00  0.00          SN  \nATOM    158   Sn MOL     1       8.087  20.493   0.953  1.00  0.00          SN  \nATOM    159   Sn MOL     1       6.480  23.896   1.605  1.00  0.00          SN  \nATOM    160   Sn MOL     1       6.457  20.484   4.457  1.00  0.00          SN  \nATOM    161    O MOL     1       8.089  21.736   4.866  1.00  0.00           O  \nATOM    162    O MOL     1       8.106  25.163   1.217  1.00  0.00           O  \nATOM    163    O MOL     1       8.116  26.040   4.862  1.00  0.00           O  \nATOM    164    O MOL     1       8.099  22.629   1.198  1.00  0.00           O  \nATOM    165    O MOL     1       6.488  23.890   6.266  1.00  0.00           O  \nATOM    166    O MOL     1       6.470  20.481   2.452  1.00  0.00           O  \nATOM    167    O MOL     1       6.484  23.882   3.611  1.00  0.00           O  \nATOM    168    O MOL     1       6.460  20.487  -0.207  1.00  0.00           O  \nATOM    169   Sn MOL     1      11.280  17.067   4.870  1.00  0.00          SN  \nATOM    170   Sn MOL     1      11.355  13.638   1.102  1.00  0.00          SN  \nATOM    171   Sn MOL     1       9.696  17.072   1.517  1.00  0.00          SN  \nATOM    172   Sn MOL     1       9.718  13.607   4.635  1.00  0.00          SN  \nATOM    173    O MOL     1      11.310  15.002   4.632  1.00  0.00           O  \nATOM    174    O MOL     1      11.319  18.341   1.122  1.00  0.00           O  \nATOM    175    O MOL     1      11.311  19.189   4.831  1.00  0.00           O  \nATOM    176    O MOL     1      11.327  15.809   1.195  1.00  0.00           O  \nATOM    177    O MOL     1       9.654  17.129   6.187  1.00  0.00           O  \nATOM    178    O MOL     1       9.695  13.684   2.567  1.00  0.00           O  \nATOM    179    O MOL     1       9.632  17.122   3.552  1.00  0.00           O  \nATOM    180    O MOL     1       9.749  13.583  -0.101  1.00  0.00           O  \nATOM    181   Sn MOL     1      11.347  23.888   5.083  1.00  0.00          SN  \nATOM    182   Sn MOL     1      11.337  20.493   0.938  1.00  0.00          SN  \nATOM    183   Sn MOL     1       9.725  23.895   1.595  1.00  0.00          SN  \nATOM    184   Sn MOL     1       9.696  20.483   4.436  1.00  0.00          SN  \nATOM    185    O MOL     1      11.333  21.726   4.856  1.00  0.00           O  \nATOM    186    O MOL     1      11.352  25.159   1.215  1.00  0.00           O  \nATOM    187    O MOL     1      11.356  26.036   4.861  1.00  0.00           O  \nATOM    188    O MOL     1      11.347  22.625   1.192  1.00  0.00           O  \nATOM    189    O MOL     1       9.728  23.877   6.257  1.00  0.00           O  \nATOM    190    O MOL     1       9.713  20.466   2.433  1.00  0.00           O  \nATOM    191    O MOL     1       9.727  23.873   3.602  1.00  0.00           O  \nATOM    192    O MOL     1       9.709  20.500  -0.223  1.00  0.00           O  \nATOM    193   Sn MOL     1      14.616   3.385   5.054  1.00  0.00          SN  \nATOM    194   Sn MOL     1      14.603  -0.039   0.977  1.00  0.00          SN  \nATOM    195   Sn MOL     1      12.988   3.378   1.568  1.00  0.00          SN  \nATOM    196   Sn MOL     1      12.981  -0.033   4.467  1.00  0.00          SN  \nATOM    197    O MOL     1      14.604   1.237   4.859  1.00  0.00           O  \nATOM    198    O MOL     1      14.614   4.644   1.163  1.00  0.00           O  \nATOM    199    O MOL     1      14.635   5.548   4.803  1.00  0.00           O  \nATOM    200    O MOL     1      14.608   2.109   1.185  1.00  0.00           O  \nATOM    201    O MOL     1      12.996   3.426   6.228  1.00  0.00           O  \nATOM    202    O MOL     1      12.981  -0.028   2.461  1.00  0.00           O  \nATOM    203    O MOL     1      12.990   3.402   3.576  1.00  0.00           O  \nATOM    204    O MOL     1      12.980  -0.044  -0.193  1.00  0.00           O  \nATOM    205   Sn MOL     1      14.673  10.211   4.865  1.00  0.00          SN  \nATOM    206   Sn MOL     1      14.623   6.776   0.894  1.00  0.00          SN  \nATOM    207   Sn MOL     1      13.004  10.191   1.438  1.00  0.00          SN  \nATOM    208   Sn MOL     1      13.011   6.777   4.391  1.00  0.00          SN  \nATOM    209    O MOL     1      14.632   8.088   4.845  1.00  0.00           O  \nATOM    210    O MOL     1      14.628  11.467   1.173  1.00  0.00           O  \nATOM    211    O MOL     1      14.650  12.259   4.575  1.00  0.00           O  \nATOM    212    O MOL     1      14.638   8.933   1.059  1.00  0.00           O  \nATOM    213    O MOL     1      12.971  10.248   6.089  1.00  0.00           O  \nATOM    214    O MOL     1      13.005   6.815   2.390  1.00  0.00           O  \nATOM    215    O MOL     1      13.049  10.042   3.461  1.00  0.00           O  \nATOM    216    O MOL     1      12.987   6.781  -0.261  1.00  0.00           O  \nATOM    217   Sn MOL     1      17.856   3.383   5.061  1.00  0.00          SN  \nATOM    218   Sn MOL     1      17.848  -0.041   0.980  1.00  0.00          SN  \nATOM    219   Sn MOL     1      16.236   3.372   1.567  1.00  0.00          SN  \nATOM    220   Sn MOL     1      16.224  -0.036   4.469  1.00  0.00          SN  \nATOM    221    O MOL     1      17.847   1.234   4.860  1.00  0.00           O  \nATOM    222    O MOL     1      17.860   4.642   1.173  1.00  0.00           O  \nATOM    223    O MOL     1      17.865   5.536   4.823  1.00  0.00           O  \nATOM    224    O MOL     1      17.856   2.106   1.186  1.00  0.00           O  \nATOM    225    O MOL     1      16.232   3.408   6.230  1.00  0.00           O  \nATOM    226    O MOL     1      16.225  -0.037   2.463  1.00  0.00           O  \nATOM    227    O MOL     1      16.234   3.384   3.574  1.00  0.00           O  \nATOM    228    O MOL     1      16.227  -0.047  -0.192  1.00  0.00           O  \nATOM    229   Sn MOL     1      17.983  10.201   4.852  1.00  0.00          SN  \nATOM    230   Sn MOL     1      17.873   6.778   0.912  1.00  0.00          SN  \nATOM    231   Sn MOL     1      16.259  10.199   1.474  1.00  0.00          SN  \nATOM    232   Sn MOL     1      16.262   6.802   4.398  1.00  0.00          SN  \nATOM    233    O MOL     1      17.900   8.069   4.760  1.00  0.00           O  \nATOM    234    O MOL     1      17.873  11.469   1.137  1.00  0.00           O  \nATOM    235    O MOL     1      17.921  12.329   4.775  1.00  0.00           O  \nATOM    236    O MOL     1      17.883   8.932   1.101  1.00  0.00           O  \nATOM    237    O MOL     1      16.353  10.061   6.133  1.00  0.00           O  \nATOM    238    O MOL     1      16.240   6.824   2.394  1.00  0.00           O  \nATOM    239    O MOL     1      16.306  10.127   3.506  1.00  0.00           O  \nATOM    240    O MOL     1      16.253   6.759  -0.264  1.00  0.00           O  \nATOM    241   Sn MOL     1      21.100   3.376   5.073  1.00  0.00          SN  \nATOM    242   Sn MOL     1      21.092  -0.042   0.987  1.00  0.00          SN  \nATOM    243   Sn MOL     1      19.481   3.373   1.577  1.00  0.00          SN  \nATOM    244   Sn MOL     1      19.467  -0.038   4.475  1.00  0.00          SN  \nATOM    245    O MOL     1      21.089   1.232   4.864  1.00  0.00           O  \nATOM    246    O MOL     1      21.107   4.639   1.177  1.00  0.00           O  \nATOM    247    O MOL     1      21.115   5.522   4.828  1.00  0.00           O  \nATOM    248    O MOL     1      21.099   2.104   1.200  1.00  0.00           O  \nATOM    249    O MOL     1      19.473   3.400   6.238  1.00  0.00           O  \nATOM    250    O MOL     1      19.467  -0.044   2.469  1.00  0.00           O  \nATOM    251    O MOL     1      19.477   3.385   3.583  1.00  0.00           O  \nATOM    252    O MOL     1      19.472  -0.049  -0.188  1.00  0.00           O  \nATOM    253   Sn MOL     1      21.156  10.202   5.042  1.00  0.00          SN  \nATOM    254   Sn MOL     1      21.116   6.780   0.929  1.00  0.00          SN  \nATOM    255   Sn MOL     1      19.512  10.206   1.464  1.00  0.00          SN  \nATOM    256   Sn MOL     1      19.506   6.773   4.408  1.00  0.00          SN  \nATOM    257    O MOL     1      21.113   8.061   4.826  1.00  0.00           O  \nATOM    258    O MOL     1      21.127  11.476   1.098  1.00  0.00           O  \nATOM    259    O MOL     1      21.127  12.356   4.871  1.00  0.00           O  \nATOM    260    O MOL     1      21.129   8.933   1.125  1.00  0.00           O  \nATOM    261    O MOL     1      19.489  10.206   6.171  1.00  0.00           O  \nATOM    262    O MOL     1      19.495   6.788   2.404  1.00  0.00           O  \nATOM    263    O MOL     1      19.570  10.203   3.478  1.00  0.00           O  \nATOM    264    O MOL     1      19.499   6.780  -0.251  1.00  0.00           O  \nATOM    265   Sn MOL     1      24.341   3.380   5.087  1.00  0.00          SN  \nATOM    266   Sn MOL     1      24.334  -0.039   0.992  1.00  0.00          SN  \nATOM    267   Sn MOL     1      22.723   3.374   1.590  1.00  0.00          SN  \nATOM    268   Sn MOL     1      22.711  -0.039   4.482  1.00  0.00          SN  \nATOM    269    O MOL     1      24.333   1.234   4.875  1.00  0.00           O  \nATOM    270    O MOL     1      24.347   4.647   1.204  1.00  0.00           O  \nATOM    271    O MOL     1      24.347   5.528   4.852  1.00  0.00           O  \nATOM    272    O MOL     1      24.341   2.109   1.203  1.00  0.00           O  \nATOM    273    O MOL     1      22.715   3.388   6.253  1.00  0.00           O  \nATOM    274    O MOL     1      22.711  -0.043   2.476  1.00  0.00           O  \nATOM    275    O MOL     1      22.721   3.375   3.595  1.00  0.00           O  \nATOM    276    O MOL     1      22.714  -0.045  -0.182  1.00  0.00           O  \nATOM    277   Sn MOL     1      24.368  10.208   5.069  1.00  0.00          SN  \nATOM    278   Sn MOL     1      24.352   6.791   0.965  1.00  0.00          SN  \nATOM    279   Sn MOL     1      22.734  10.211   1.554  1.00  0.00          SN  \nATOM    280   Sn MOL     1      22.737   6.792   4.440  1.00  0.00          SN  \nATOM    281    O MOL     1      24.353   8.066   4.849  1.00  0.00           O  \nATOM    282    O MOL     1      24.348  11.487   1.177  1.00  0.00           O  \nATOM    283    O MOL     1      24.351  12.356   4.864  1.00  0.00           O  \nATOM    284    O MOL     1      24.354   8.944   1.180  1.00  0.00           O  \nATOM    285    O MOL     1      22.748  10.198   6.242  1.00  0.00           O  \nATOM    286    O MOL     1      22.729   6.802   2.434  1.00  0.00           O  \nATOM    287    O MOL     1      22.744  10.221   3.567  1.00  0.00           O  \nATOM    288    O MOL     1      22.745   6.775  -0.227  1.00  0.00           O  \nATOM    289   Sn MOL     1      14.575  17.080   4.799  1.00  0.00          SN  \nATOM    290   Sn MOL     1      14.611  13.642   1.100  1.00  0.00          SN  \nATOM    291   Sn MOL     1      12.958  17.078   1.467  1.00  0.00          SN  \nATOM    292   Sn MOL     1      12.983  13.633   4.556  1.00  0.00          SN  \nATOM    293    O MOL     1      14.609  15.042   4.457  1.00  0.00           O  \nATOM    294    O MOL     1      14.602  18.338   1.130  1.00  0.00           O  \nATOM    295    O MOL     1      14.582  19.195   4.815  1.00  0.00           O  \nATOM    296    O MOL     1      14.605  15.813   1.227  1.00  0.00           O  \nATOM    297    O MOL     1      12.960  17.219   6.094  1.00  0.00           O  \nATOM    298    O MOL     1      12.980  13.647   2.533  1.00  0.00           O  \nATOM    299    O MOL     1      12.915  17.205   3.490  1.00  0.00           O  \nATOM    300    O MOL     1      12.982  13.645  -0.081  1.00  0.00           O  \nATOM    301   Sn MOL     1      14.592  23.882   5.091  1.00  0.00          SN  \nATOM    302   Sn MOL     1      14.594  20.487   0.955  1.00  0.00          SN  \nATOM    303   Sn MOL     1      12.973  23.890   1.597  1.00  0.00          SN  \nATOM    304   Sn MOL     1      12.953  20.485   4.436  1.00  0.00          SN  \nATOM    305    O MOL     1      14.587  21.721   4.871  1.00  0.00           O  \nATOM    306    O MOL     1      14.599  25.152   1.213  1.00  0.00           O  \nATOM    307    O MOL     1      14.599  26.030   4.866  1.00  0.00           O  \nATOM    308    O MOL     1      14.598  22.617   1.207  1.00  0.00           O  \nATOM    309    O MOL     1      12.967  23.868   6.257  1.00  0.00           O  \nATOM    310    O MOL     1      12.961  20.464   2.434  1.00  0.00           O  \nATOM    311    O MOL     1      12.972  23.865   3.604  1.00  0.00           O  \nATOM    312    O MOL     1      12.971  20.481  -0.219  1.00  0.00           O  \nATOM    313   Sn MOL     1      17.851  17.045   4.959  1.00  0.00          SN  \nATOM    314   Sn MOL     1      17.840  13.639   1.054  1.00  0.00          SN  \nATOM    315   Sn MOL     1      16.237  17.072   1.510  1.00  0.00          SN  \nATOM    316   Sn MOL     1      16.238  13.657   4.636  1.00  0.00          SN  \nATOM    317    O MOL     1      17.917  14.971   4.593  1.00  0.00           O  \nATOM    318    O MOL     1      17.870  18.329   1.175  1.00  0.00           O  \nATOM    319    O MOL     1      17.850  19.173   4.953  1.00  0.00           O  \nATOM    320    O MOL     1      17.874  15.798   1.291  1.00  0.00           O  \nATOM    321    O MOL     1      16.150  17.152   6.171  1.00  0.00           O  \nATOM    322    O MOL     1      16.266  13.595   2.561  1.00  0.00           O  \nATOM    323    O MOL     1      16.264  17.211   3.539  1.00  0.00           O  \nATOM    324    O MOL     1      16.214  13.697  -0.106  1.00  0.00           O  \nATOM    325   Sn MOL     1      17.838  23.884   5.101  1.00  0.00          SN  \nATOM    326   Sn MOL     1      17.847  20.482   0.992  1.00  0.00          SN  \nATOM    327   Sn MOL     1      16.221  23.888   1.607  1.00  0.00          SN  \nATOM    328   Sn MOL     1      16.219  20.472   4.468  1.00  0.00          SN  \nATOM    329    O MOL     1      17.836  21.716   4.884  1.00  0.00           O  \nATOM    330    O MOL     1      17.844  25.149   1.214  1.00  0.00           O  \nATOM    331    O MOL     1      17.841  26.029   4.877  1.00  0.00           O  \nATOM    332    O MOL     1      17.846  22.614   1.235  1.00  0.00           O  \nATOM    333    O MOL     1      16.212  23.862   6.267  1.00  0.00           O  \nATOM    334    O MOL     1      16.224  20.447   2.465  1.00  0.00           O  \nATOM    335    O MOL     1      16.218  23.868   3.614  1.00  0.00           O  \nATOM    336    O MOL     1      16.232  20.481  -0.192  1.00  0.00           O  \nATOM    337   Sn MOL     1      21.098  17.011   5.146  1.00  0.00          SN  \nATOM    338   Sn MOL     1      21.089  13.638   0.949  1.00  0.00          SN  \nATOM    339   Sn MOL     1      19.490  17.072   1.624  1.00  0.00          SN  \nATOM    340   Sn MOL     1      19.502  13.617   4.448  1.00  0.00          SN  \nATOM    341    O MOL     1      21.103  14.903   4.864  1.00  0.00           O  \nATOM    342    O MOL     1      21.100  18.323   1.229  1.00  0.00           O  \nATOM    343    O MOL     1      21.046  19.162   5.035  1.00  0.00           O  \nATOM    344    O MOL     1      21.092  15.785   1.278  1.00  0.00           O  \nATOM    345    O MOL     1      19.332  16.756   6.388  1.00  0.00           O  \nATOM    346    O MOL     1      19.525  13.571   2.449  1.00  0.00           O  \nATOM    347    O MOL     1      19.527  17.161   3.675  1.00  0.00           O  \nATOM    348    O MOL     1      19.438  13.680  -0.176  1.00  0.00           O  \nATOM    349   Sn MOL     1      21.083  23.884   5.112  1.00  0.00          SN  \nATOM    350   Sn MOL     1      21.089  20.474   1.033  1.00  0.00          SN  \nATOM    351   Sn MOL     1      19.466  23.889   1.620  1.00  0.00          SN  \nATOM    352   Sn MOL     1      19.465  20.460   4.514  1.00  0.00          SN  \nATOM    353    O MOL     1      21.083  21.714   4.896  1.00  0.00           O  \nATOM    354    O MOL     1      21.088  25.148   1.216  1.00  0.00           O  \nATOM    355    O MOL     1      21.083  26.030   4.887  1.00  0.00           O  \nATOM    356    O MOL     1      21.085  22.611   1.262  1.00  0.00           O  \nATOM    357    O MOL     1      19.455  23.855   6.278  1.00  0.00           O  \nATOM    358    O MOL     1      19.461  20.423   2.509  1.00  0.00           O  \nATOM    359    O MOL     1      19.460  23.878   3.627  1.00  0.00           O  \nATOM    360    O MOL     1      19.480  20.489  -0.155  1.00  0.00           O  \nATOM    361   Sn MOL     1      24.316  17.041   5.127  1.00  0.00          SN  \nATOM    362   Sn MOL     1      24.334  13.639   0.979  1.00  0.00          SN  \nATOM    363   Sn MOL     1      22.716  17.053   1.644  1.00  0.00          SN  \nATOM    364   Sn MOL     1      22.733  13.618   4.456  1.00  0.00          SN  \nATOM    365    O MOL     1      24.325  14.900   4.873  1.00  0.00           O  \nATOM    366    O MOL     1      24.323  18.321   1.241  1.00  0.00           O  \nATOM    367    O MOL     1      24.318  19.186   4.938  1.00  0.00           O  \nATOM    368    O MOL     1      24.327  15.783   1.246  1.00  0.00           O  \nATOM    369    O MOL     1      22.694  17.013   6.331  1.00  0.00           O  \nATOM    370    O MOL     1      22.716  13.609   2.453  1.00  0.00           O  \nATOM    371    O MOL     1      22.702  17.071   3.659  1.00  0.00           O  \nATOM    372    O MOL     1      22.719  13.683  -0.205  1.00  0.00           O  \nATOM    373   Sn MOL     1      24.323  23.884   5.119  1.00  0.00          SN  \nATOM    374   Sn MOL     1      24.323  20.470   1.035  1.00  0.00          SN  \nATOM    375   Sn MOL     1      22.707  23.888   1.631  1.00  0.00          SN  \nATOM    376   Sn MOL     1      22.696  20.439   4.541  1.00  0.00          SN  \nATOM    377    O MOL     1      24.313  21.728   4.908  1.00  0.00           O  \nATOM    378    O MOL     1      24.329  25.150   1.224  1.00  0.00           O  \nATOM    379    O MOL     1      24.329  26.032   4.887  1.00  0.00           O  \nATOM    380    O MOL     1      24.320  22.612   1.259  1.00  0.00           O  \nATOM    381    O MOL     1      22.698  23.873   6.290  1.00  0.00           O  \nATOM    382    O MOL     1      22.691  20.426   2.533  1.00  0.00           O  \nATOM    383    O MOL     1      22.701  23.891   3.637  1.00  0.00           O  \nATOM    384    O MOL     1      22.706  20.482  -0.136  1.00  0.00           O  \nATOM    385   Pt MOL     1       9.194  12.244   9.838  1.00  0.00          PT  \nATOM    386   Pt MOL     1      11.236  10.686  10.573  1.00  0.00          PT  \nATOM    387   Pt MOL     1      10.058  10.262   8.184  1.00  0.00          PT  \nATOM    388   Pt MOL     1      10.341  12.433  12.258  1.00  0.00          PT  \nATOM    389   Pt MOL     1      10.930  14.870  13.017  1.00  0.00          PT  \nATOM    390   Pt MOL     1      12.813  13.116  12.741  1.00  0.00          PT  \nATOM    391   Pt MOL     1      11.977  13.076   9.769  1.00  0.00          PT  \nATOM    392   Pt MOL     1      13.517  15.642  12.656  1.00  0.00          PT  \nATOM    393   Pt MOL     1       7.702  11.768   7.778  1.00  0.00          PT  \nATOM    394   Pt MOL     1       8.460  14.510   8.512  1.00  0.00          PT  \nATOM    395   Pt MOL     1      10.022  12.832   7.185  1.00  0.00          PT  \nATOM    396   Pt MOL     1       9.501  14.596  10.900  1.00  0.00          PT  \nATOM    397   Pt MOL     1       9.788  17.169  10.820  1.00  0.00          PT  \nATOM    398   Pt MOL     1      11.978  15.713  10.491  1.00  0.00          PT  \nATOM    399   Pt MOL     1      11.073  14.967   8.088  1.00  0.00          PT  \nATOM    400   Pt MOL     1      11.283  17.393  13.008  1.00  0.00          PT  \nATOM    401   Pt MOL     1      13.237  17.976  11.489  1.00  0.00          PT  \nATOM    402   Pt MOL     1       9.636  17.085   8.260  1.00  0.00          PT  \nATOM    403   Pt MOL     1      11.763  18.159   9.326  1.00  0.00          PT  \nATOM    404   Pt MOL     1      12.457   9.201   8.973  1.00  0.00          PT  \nATOM    405   Pt MOL     1      12.363  11.491   7.668  1.00  0.00          PT  \nATOM    406   Pt MOL     1      14.870   9.741   9.604  1.00  0.00          PT  \nATOM    407   Pt MOL     1      13.829  11.548  11.078  1.00  0.00          PT  \nATOM    408   Pt MOL     1      14.184  14.574   9.593  1.00  0.00          PT  \nATOM    409   Pt MOL     1      16.496  11.931  10.377  1.00  0.00          PT  \nATOM    410   Pt MOL     1      14.718  12.146   8.475  1.00  0.00          PT  \nATOM    411   Pt MOL     1      15.233  13.803  11.863  1.00  0.00          PT  \nATOM    412   Pt MOL     1      16.943  14.625   9.915  1.00  0.00          PT  \nATOM    413   Pt MOL     1      13.283  13.891   7.139  1.00  0.00          PT  \nATOM    414   Pt MOL     1      13.247  16.401   7.947  1.00  0.00          PT  \nATOM    415   Pt MOL     1      15.995  14.095   7.274  1.00  0.00          PT  \nATOM    416   Pt MOL     1      15.411  16.521  10.832  1.00  0.00          PT  \nATOM    417   Pt MOL     1      15.986  16.639   8.192  1.00  0.00          PT  \nATOM    418   Pt MOL     1      14.427  18.473   9.263  1.00  0.00          PT  \nATOM    419   Pt MOL     1      16.759  10.679   8.045  1.00  0.00          PT  \nATOM    420   Pt MOL     1      18.053  12.877   8.333  1.00  0.00          PT  \nATOM    421   Pt MOL     1      18.358  15.426   7.815  1.00  0.00          PT  \nENDMDL\n",
           "type": "blob"
          }
         ],
         "kwargs": {
          "defaultRepresentation": false,
          "ext": "pdb"
         },
         "methodName": "loadFile",
         "reconstruc_color_scheme": false,
         "target": "Stage",
         "type": "call_method"
        },
        {
         "args": [
          "500px",
          "500px"
         ],
         "kwargs": {},
         "methodName": "setSize",
         "reconstruc_color_scheme": false,
         "target": "Widget",
         "type": "call_method"
        },
        {
         "args": [
          "unitcell"
         ],
         "component_index": 0,
         "kwargs": {
          "sele": "all"
         },
         "methodName": "addRepresentation",
         "reconstruc_color_scheme": false,
         "target": "compList",
         "type": "call_method"
        },
        {
         "args": [
          "spacefill"
         ],
         "component_index": 0,
         "kwargs": {
          "sele": "all"
         },
         "methodName": "addRepresentation",
         "reconstruc_color_scheme": false,
         "target": "compList",
         "type": "call_method"
        },
        {
         "args": [],
         "kwargs": {
          "cameraType": "orthographic"
         },
         "methodName": "setParameters",
         "reconstruc_color_scheme": false,
         "target": "Stage",
         "type": "call_method"
        },
        {
         "args": [
          {
           "clipDist": 0
          }
         ],
         "kwargs": {},
         "methodName": "setParameters",
         "reconstruc_color_scheme": false,
         "target": "Widget",
         "type": "call_method"
        },
        {
         "args": [
          "spacefill",
          0
         ],
         "kwargs": {
          "colorScale": "rainbow",
          "colorScheme": "element",
          "radiusScale": 0.5,
          "radiusType": "covalent"
         },
         "methodName": "updateRepresentationsByName",
         "reconstruc_color_scheme": false,
         "target": "Widget",
         "type": "call_method"
        },
        {
         "args": [
          "this._Q = [[1.0, 0.0, 0.0], [0.0, 1.0, 0.0], [0.0, 0.0, 1.0]]\n    var tooltip = document.createElement('div')\n    Object.assign(tooltip.style, {\n      display: 'none',\n      position: 'fixed',\n      zIndex: 10,\n      pointerEvents: 'none',\n      backgroundColor: 'rgba( 0, 0, 0, 0.6 )',\n      color: 'lightgrey',\n      padding: '8px',\n      fontFamily: 'sans-serif'\n    })\n    document.body.appendChild(tooltip)\n\n    var that = this\n    this.stage.mouseControls.remove('hoverPick')\n    this.stage.signals.hovered.add(function (pickingProxy) {\n      if (pickingProxy && (pickingProxy.atom || pickingProxy.bond)) {\n        var atom = pickingProxy.atom || pickingProxy.closestBondAtom\n        var mp = pickingProxy.mouse.position\n        //tooltip.innerText = atom.element + ' i=' + atom.index + ' (' + atom.x.toFixed(2) +  ', ' + atom.y.toFixed(2) +  ', ' + atom.z.toFixed(2) + ')'\n        //var pos = that._atoms_pos[atom.index]\n        var Q = that._Q\n        var pos_x = Q[0][0] * atom.x + Q[0][1] * atom.y + Q[0][2] * atom.z \n        var pos_y = Q[1][0] * atom.x + Q[1][1] * atom.y + Q[1][2] * atom.z\n        var pos_z = Q[2][0] * atom.x + Q[2][1] * atom.y + Q[2][2] * atom.z\n        tooltip.innerText = 'i=' + atom.index + ' ' + atom.element + ' (' + pos_x.toFixed(2) +  ', ' + pos_y.toFixed(2) +  ', ' + pos_z.toFixed(2) + ')'\n        tooltip.style.bottom = window.innerHeight - mp.y + 3 + 'px'\n        tooltip.style.left = mp.x + 3 + 'px'\n        tooltip.style.display = 'block'\n      } else {\n        tooltip.style.display = 'none'\n      }\n    })\n    "
         ],
         "kwargs": {},
         "methodName": "executeCode",
         "reconstruc_color_scheme": false,
         "target": "Widget",
         "type": "call_method"
        },
        {
         "args": [
          "var chargeArray = [2.3338823318481445, 2.335686206817627, 2.317591428756714, 2.314859390258789, -1.1554125547409058, -1.1583075523376465, -1.1570786237716675, -1.1555055379867554, -1.133957862854004, -1.2116804122924805, -1.211860179901123, -1.133683204650879, 2.3338966369628906, 2.335700511932373, 2.318065881729126, 2.3153462409973145, -1.1571643352508545, -1.1570770740509033, -1.1608388423919678, -1.1557517051696777, -1.1384737491607666, -1.2122716903686523, -1.2142255306243896, -1.1342222690582275, 2.3331074714660645, 2.3355274200439453, 2.3180923461914062, 2.3149948120117188, -1.1563345193862915, -1.1595343351364136, -1.1539123058319092, -1.1554147005081177, -1.1342579126358032, -1.2114427089691162, -1.2117159366607666, -1.1340441703796387, 2.315262794494629, 2.3358755111694336, 2.3158249855041504, 2.303175449371338, -1.1583553552627563, -1.1564853191375732, -1.1683059930801392, -1.153958797454834, -1.121846318244934, -1.2115819454193115, -1.2173640727996826, -1.1355743408203125, 2.3323302268981934, 2.3349947929382324, 2.316243886947632, 2.3147196769714355, -1.156748652458191, -1.159645438194275, -1.1538070440292358, -1.1554449796676636, -1.1351613998413086, -1.2116901874542236, -1.2121210098266602, -1.1345858573913574, 2.339427947998047, 2.331550121307373, 2.31367826461792, 2.2949750423431396, -1.169489860534668, -1.1507258415222168, -1.1862199306488037, -1.1532206535339355, -1.0878674983978271, -1.2123733758926392, -1.217400312423706, -1.1377665996551514, 2.331815242767334, 2.33445143699646, 2.3138086795806885, 2.3139796257019043, -1.1567113399505615, -1.1588025093078613, -1.1547026634216309, -1.1556510925292969, -1.1358389854431152, -1.211594820022583, -1.2125329971313477, -1.1350092887878418, 2.3575754165649414, 2.3281781673431396, 2.318220853805542, 2.2956738471984863, -1.1728228330612183, -1.1472482681274414, -1.1816895008087158, -1.1538054943084717, -1.0524331331253052, -1.2084708213806152, -1.2281675338745117, -1.139581322669983, 2.33571720123291, 2.337031364440918, 2.3191330432891846, 2.315886974334717, -1.1581497192382812, -1.1566462516784668, -1.1576812267303467, -1.1567355394363403, -1.1372050046920776, -1.213518738746643, -1.2141332626342773, -1.134066104888916, 2.3348309993743896, 2.335644006729126, 2.3184657096862793, 2.313734531402588, -1.1558396816253662, -1.1566410064697266, -1.156133770942688, -1.1572511196136475, -1.133405089378357, -1.212160587310791, -1.2118022441864014, -1.1350167989730835, 2.3287315368652344, 2.333038806915283, 2.3177051544189453, 2.3107337951660156, -1.1591432094573975, -1.1558902263641357, -1.1633775234222412, -1.1531046628952026, -1.1396551132202148, -1.2122000455856323, -1.2143141031265259, -1.1340887546539307, 2.334991931915283, 2.3355870246887207, 2.318087339401245, 2.314635753631592, -1.1561132669448853, -1.157133936882019, -1.1563313007354736, -1.1569724082946777, -1.1337047815322876, -1.212170958518982, -1.211890697479248, -1.1350617408752441, 2.3456454277038574, 2.3293354511260986, 2.3206124305725098, 2.3166444301605225, -1.179544448852539, -1.1551342010498047, -1.1708662509918213, -1.1507939100265503, -1.1384689807891846, -1.2109295129776, -1.2234299182891846, -1.1372730731964111, 2.3336949348449707, 2.3331680297851562, 2.316892385482788, 2.3081588745117188, -1.1545368432998657, -1.1571693420410156, -1.1566052436828613, -1.157456874847412, -1.1340982913970947, -1.212557315826416, -1.2121210098266602, -1.136860966682434, 2.361374616622925, 2.3255438804626465, 2.316704750061035, 2.164613723754883, -1.1929984092712402, -1.1539572477340698, -1.1711630821228027, -1.1466064453125, -1.0711692571640015, -1.1972782611846924, -1.2207462787628174, -1.144577980041504, 2.331881046295166, 2.3306307792663574, 2.315223217010498, 2.2992453575134277, -1.1521450281143188, -1.1568474769592285, -1.1567866802215576, -1.1578991413116455, -1.1346931457519531, -1.2105789184570312, -1.212364912033081, -1.1384632587432861, 2.3320751190185547, 2.3345046043395996, 2.312812566757202, 2.3136463165283203, -1.1571153402328491, -1.1579660177230835, -1.1512603759765625, -1.1564804315567017, -1.1357014179229736, -1.21184504032135, -1.2126436233520508, -1.135178804397583, 2.3546934127807617, 2.330674171447754, 2.316775321960449, 2.293536901473999, -1.166902780532837, -1.1460256576538086, -1.1897728443145752, -1.152748942375183, -1.056020975112915, -1.2086902856826782, -1.229161262512207, -1.1392595767974854, 2.333742618560791, 2.3349192142486572, 2.3144712448120117, 2.313840866088867, -1.1564527750015259, -1.1576039791107178, -1.1558020114898682, -1.1566091775894165, -1.1351900100708008, -1.2116200923919678, -1.2123961448669434, -1.1349763870239258, 2.353342056274414, 2.3315069675445557, 2.3152737617492676, 2.2990164756774902, -1.1713073253631592, -1.1507067680358887, -1.1860976219177246, -1.1549499034881592, -1.0555801391601562, -1.2095015048980713, -1.220205545425415, -1.1377174854278564, 2.3356900215148926, 2.3355441093444824, 2.315612316131592, 2.3145036697387695, -1.1567132472991943, -1.1565115451812744, -1.156620740890503, -1.156925916671753, -1.1347540616989136, -1.2117815017700195, -1.2122890949249268, -1.134537935256958, 2.328169584274292, 2.3345892429351807, 2.3203179836273193, 2.3099212646484375, -1.1640281677246094, -1.1525969505310059, -1.1588292121887207, -1.1547596454620361, -1.1344496011734009, -1.2126245498657227, -1.224791169166565, -1.1364188194274902, 2.335174560546875, 2.3356781005859375, 2.317220687866211, 2.3149099349975586, -1.1561272144317627, -1.1570236682891846, -1.1565337181091309, -1.1563405990600586, -1.1343748569488525, -1.2114622592926025, -1.211940884590149, -1.134061336517334, 2.336308240890503, 2.335193157196045, 2.3157849311828613, 2.315357208251953, -1.1584084033966064, -1.1564997434616089, -1.15871262550354, -1.1559770107269287, -1.1390458345413208, -1.2121186256408691, -1.214155673980713, -1.1341400146484375, 2.3595833778381348, 2.3259010314941406, 2.3186774253845215, 2.143954038619995, -1.1830904483795166, -1.1546134948730469, -1.1715927124023438, -1.1452090740203857, -1.0456478595733643, -1.193284273147583, -1.2295143604278564, -1.1460922956466675, 2.3312864303588867, 2.329275608062744, 2.313807487487793, 2.2955026626586914, -1.1538417339324951, -1.1561309099197388, -1.1564114093780518, -1.1588056087493896, -1.1352832317352295, -1.208047866821289, -1.2125364542007446, -1.1405479907989502, 2.3423664569854736, 2.3286173343658447, 2.3200745582580566, 2.151982069015503, -1.1865969896316528, -1.1537282466888428, -1.1705234050750732, -1.1504082679748535, -1.0520728826522827, -1.1952458620071411, -1.2285912036895752, -1.1445324420928955, 2.3317413330078125, 2.332723617553711, 2.3149313926696777, 2.293407440185547, -1.1522732973098755, -1.1558640003204346, -1.1567139625549316, -1.159857153892517, -1.1349505186080933, -1.2086856365203857, -1.2123751640319824, -1.1404509544372559, 2.3154830932617188, 2.333153486251831, 2.31490421295166, 2.317249059677124, -1.1665202379226685, -1.1546880006790161, -1.1578785181045532, -1.156217336654663, -1.0875338315963745, -1.2106633186340332, -1.2170186042785645, -1.1375839710235596, 2.3321471214294434, 2.336625576019287, 2.3175487518310547, 2.29335880279541, -1.1532766819000244, -1.1556224822998047, -1.1560088396072388, -1.1601283550262451, -1.1341180801391602, -1.2121871709823608, -1.2119450569152832, -1.1387473344802856, 2.3333873748779297, 2.3370442390441895, 2.3172507286071777, 2.3097429275512695, -1.1605658531188965, -1.1563630104064941, -1.1566145420074463, -1.157262921333313, -1.1209497451782227, -1.2120636701583862, -1.2176759243011475, -1.1340019702911377, 2.3334174156188965, 2.336083173751831, 2.319079637527466, 2.3013107776641846, -1.1564571857452393, -1.1557892560958862, -1.1553754806518555, -1.1586453914642334, -1.133523941040039, -1.2115647792816162, -1.211660385131836, -1.1366918087005615, -0.007396074943244457, -0.0037009352818131447, 0.18058408796787262, -0.04948054626584053, -0.005625246092677116, 0.017642728984355927, 0.046760089695453644, -0.01086936891078949, 0.13073110580444336, -0.008272236213088036, -0.11160708218812943, 0.048757053911685944, -0.030907228589057922, 0.10534144937992096, 0.03615772724151611, -0.07942131161689758, 0.0005843564867973328, 0.20168790221214294, 0.007088908925652504, -0.027954131364822388, 0.23291724920272827, -0.04462523013353348, 0.024345625191926956, 0.06566934287548065, -0.038945943117141724, 0.04143744707107544, -0.05007866770029068, -0.00917599257081747, -0.19197478890419006, 0.25582894682884216, -0.1234237402677536, -0.02305852808058262, 0.21933646500110626, -0.06108803674578667, 0.2458668053150177, -0.010647991672158241, 0.14779479801654816]\n            var component = this.stage.compList[0]\n            var atomStore = component.structure.atomStore\n            if (atomStore.partialCharge === undefined) {\n                atomStore.addField('partialCharge', 1, 'float32')\n            }\n\n            for (let i = 0; i < chargeArray.length; ++i) {\n              atomStore.partialCharge[i] = chargeArray[i];\n            }\n            "
         ],
         "kwargs": {},
         "methodName": "executeCode",
         "reconstruc_color_scheme": false,
         "target": "Widget",
         "type": "call_method"
        },
        {
         "args": [
          "spacefill",
          0
         ],
         "kwargs": {
          "colorScale": "rwb",
          "colorScheme": "element",
          "radiusScale": 0.5,
          "radiusType": "covalent"
         },
         "methodName": "updateRepresentationsByName",
         "reconstruc_color_scheme": false,
         "target": "Widget",
         "type": "call_method"
        },
        {
         "args": [
          "spacefill",
          0
         ],
         "kwargs": {
          "colorScale": "rwb",
          "colorScheme": "partialcharge",
          "radiusScale": 0.5,
          "radiusType": "covalent"
         },
         "methodName": "updateRepresentationsByName",
         "reconstruc_color_scheme": false,
         "target": "Widget",
         "type": "call_method"
        },
        {
         "args": [
          "label"
         ],
         "component_index": 0,
         "kwargs": {
          "attachment": "middle_center",
          "color": "black",
          "labelText": [
           "2.334",
           "2.336",
           "2.318",
           "2.315",
           "-1.155",
           "-1.158",
           "-1.157",
           "-1.156",
           "-1.134",
           "-1.212",
           "-1.212",
           "-1.134",
           "2.334",
           "2.336",
           "2.318",
           "2.315",
           "-1.157",
           "-1.157",
           "-1.161",
           "-1.156",
           "-1.138",
           "-1.212",
           "-1.214",
           "-1.134",
           "2.333",
           "2.336",
           "2.318",
           "2.315",
           "-1.156",
           "-1.16",
           "-1.154",
           "-1.155",
           "-1.134",
           "-1.211",
           "-1.212",
           "-1.134",
           "2.315",
           "2.336",
           "2.316",
           "2.303",
           "-1.158",
           "-1.156",
           "-1.168",
           "-1.154",
           "-1.122",
           "-1.212",
           "-1.217",
           "-1.136",
           "2.332",
           "2.335",
           "2.316",
           "2.315",
           "-1.157",
           "-1.16",
           "-1.154",
           "-1.155",
           "-1.135",
           "-1.212",
           "-1.212",
           "-1.135",
           "2.339",
           "2.332",
           "2.314",
           "2.295",
           "-1.169",
           "-1.151",
           "-1.186",
           "-1.153",
           "-1.088",
           "-1.212",
           "-1.217",
           "-1.138",
           "2.332",
           "2.334",
           "2.314",
           "2.314",
           "-1.157",
           "-1.159",
           "-1.155",
           "-1.156",
           "-1.136",
           "-1.212",
           "-1.213",
           "-1.135",
           "2.358",
           "2.328",
           "2.318",
           "2.296",
           "-1.173",
           "-1.147",
           "-1.182",
           "-1.154",
           "-1.052",
           "-1.208",
           "-1.228",
           "-1.14",
           "2.336",
           "2.337",
           "2.319",
           "2.316",
           "-1.158",
           "-1.157",
           "-1.158",
           "-1.157",
           "-1.137",
           "-1.214",
           "-1.214",
           "-1.134",
           "2.335",
           "2.336",
           "2.318",
           "2.314",
           "-1.156",
           "-1.157",
           "-1.156",
           "-1.157",
           "-1.133",
           "-1.212",
           "-1.212",
           "-1.135",
           "2.329",
           "2.333",
           "2.318",
           "2.311",
           "-1.159",
           "-1.156",
           "-1.163",
           "-1.153",
           "-1.14",
           "-1.212",
           "-1.214",
           "-1.134",
           "2.335",
           "2.336",
           "2.318",
           "2.315",
           "-1.156",
           "-1.157",
           "-1.156",
           "-1.157",
           "-1.134",
           "-1.212",
           "-1.212",
           "-1.135",
           "2.346",
           "2.329",
           "2.321",
           "2.317",
           "-1.18",
           "-1.155",
           "-1.171",
           "-1.151",
           "-1.138",
           "-1.211",
           "-1.223",
           "-1.137",
           "2.334",
           "2.333",
           "2.317",
           "2.308",
           "-1.155",
           "-1.157",
           "-1.157",
           "-1.157",
           "-1.134",
           "-1.213",
           "-1.212",
           "-1.137",
           "2.361",
           "2.326",
           "2.317",
           "2.165",
           "-1.193",
           "-1.154",
           "-1.171",
           "-1.147",
           "-1.071",
           "-1.197",
           "-1.221",
           "-1.145",
           "2.332",
           "2.331",
           "2.315",
           "2.299",
           "-1.152",
           "-1.157",
           "-1.157",
           "-1.158",
           "-1.135",
           "-1.211",
           "-1.212",
           "-1.138",
           "2.332",
           "2.335",
           "2.313",
           "2.314",
           "-1.157",
           "-1.158",
           "-1.151",
           "-1.156",
           "-1.136",
           "-1.212",
           "-1.213",
           "-1.135",
           "2.355",
           "2.331",
           "2.317",
           "2.294",
           "-1.167",
           "-1.146",
           "-1.19",
           "-1.153",
           "-1.056",
           "-1.209",
           "-1.229",
           "-1.139",
           "2.334",
           "2.335",
           "2.314",
           "2.314",
           "-1.156",
           "-1.158",
           "-1.156",
           "-1.157",
           "-1.135",
           "-1.212",
           "-1.212",
           "-1.135",
           "2.353",
           "2.332",
           "2.315",
           "2.299",
           "-1.171",
           "-1.151",
           "-1.186",
           "-1.155",
           "-1.056",
           "-1.21",
           "-1.22",
           "-1.138",
           "2.336",
           "2.336",
           "2.316",
           "2.315",
           "-1.157",
           "-1.157",
           "-1.157",
           "-1.157",
           "-1.135",
           "-1.212",
           "-1.212",
           "-1.135",
           "2.328",
           "2.335",
           "2.32",
           "2.31",
           "-1.164",
           "-1.153",
           "-1.159",
           "-1.155",
           "-1.134",
           "-1.213",
           "-1.225",
           "-1.136",
           "2.335",
           "2.336",
           "2.317",
           "2.315",
           "-1.156",
           "-1.157",
           "-1.157",
           "-1.156",
           "-1.134",
           "-1.211",
           "-1.212",
           "-1.134",
           "2.336",
           "2.335",
           "2.316",
           "2.315",
           "-1.158",
           "-1.156",
           "-1.159",
           "-1.156",
           "-1.139",
           "-1.212",
           "-1.214",
           "-1.134",
           "2.36",
           "2.326",
           "2.319",
           "2.144",
           "-1.183",
           "-1.155",
           "-1.172",
           "-1.145",
           "-1.046",
           "-1.193",
           "-1.23",
           "-1.146",
           "2.331",
           "2.329",
           "2.314",
           "2.296",
           "-1.154",
           "-1.156",
           "-1.156",
           "-1.159",
           "-1.135",
           "-1.208",
           "-1.213",
           "-1.141",
           "2.342",
           "2.329",
           "2.32",
           "2.152",
           "-1.187",
           "-1.154",
           "-1.171",
           "-1.15",
           "-1.052",
           "-1.195",
           "-1.229",
           "-1.145",
           "2.332",
           "2.333",
           "2.315",
           "2.293",
           "-1.152",
           "-1.156",
           "-1.157",
           "-1.16",
           "-1.135",
           "-1.209",
           "-1.212",
           "-1.14",
           "2.315",
           "2.333",
           "2.315",
           "2.317",
           "-1.167",
           "-1.155",
           "-1.158",
           "-1.156",
           "-1.088",
           "-1.211",
           "-1.217",
           "-1.138",
           "2.332",
           "2.337",
           "2.318",
           "2.293",
           "-1.153",
           "-1.156",
           "-1.156",
           "-1.16",
           "-1.134",
           "-1.212",
           "-1.212",
           "-1.139",
           "2.333",
           "2.337",
           "2.317",
           "2.31",
           "-1.161",
           "-1.156",
           "-1.157",
           "-1.157",
           "-1.121",
           "-1.212",
           "-1.218",
           "-1.134",
           "2.333",
           "2.336",
           "2.319",
           "2.301",
           "-1.156",
           "-1.156",
           "-1.155",
           "-1.159",
           "-1.134",
           "-1.212",
           "-1.212",
           "-1.137",
           "-0.007",
           "-0.004",
           "0.181",
           "-0.049",
           "-0.006",
           "0.018",
           "0.047",
           "-0.011",
           "0.131",
           "-0.008",
           "-0.112",
           "0.049",
           "-0.031",
           "0.105",
           "0.036",
           "-0.079",
           "0.001",
           "0.202",
           "0.007",
           "-0.028",
           "0.233",
           "-0.045",
           "0.024",
           "0.066",
           "-0.039",
           "0.041",
           "-0.05",
           "-0.009",
           "-0.192",
           "0.256",
           "-0.123",
           "-0.023",
           "0.219",
           "-0.061",
           "0.246",
           "-0.011",
           "0.148"
          ],
          "labelType": "text",
          "radius": 0.8,
          "sele": "all",
          "zOffset": 2
         },
         "methodName": "addRepresentation",
         "reconstruc_color_scheme": false,
         "target": "compList",
         "type": "call_method"
        }
       ],
       "_ngl_original_stage_parameters": {
        "ambientColor": 14540253,
        "ambientIntensity": 0.2,
        "backgroundColor": "white",
        "cameraEyeSep": 0.3,
        "cameraFov": 40,
        "cameraType": "perspective",
        "clipDist": 10,
        "clipFar": 100,
        "clipNear": 0,
        "fogFar": 100,
        "fogNear": 50,
        "hoverTimeout": 0,
        "impostor": true,
        "lightColor": 14540253,
        "lightIntensity": 1,
        "mousePreset": "default",
        "panSpeed": 1,
        "quality": "medium",
        "rotateSpeed": 2,
        "sampleLevel": 0,
        "tooltip": true,
        "workerDefault": true,
        "zoomSpeed": 1.2
       },
       "_ngl_repr_dict": {
        "0": {
         "0": {
          "params": {
           "clipCenter": {
            "x": 0,
            "y": 0,
            "z": 0
           },
           "clipNear": 0,
           "clipRadius": 0,
           "colorMode": "hcl",
           "colorReverse": false,
           "colorScale": "",
           "colorScheme": "element",
           "colorValue": "orange",
           "defaultAssembly": "",
           "depthWrite": true,
           "diffuse": 16777215,
           "diffuseInterior": false,
           "disableImpostor": false,
           "disablePicking": false,
           "flatShaded": false,
           "interiorColor": 2236962,
           "interiorDarkening": 0,
           "lazy": false,
           "matrix": {
            "elements": [
             1,
             0,
             0,
             0,
             0,
             1,
             0,
             0,
             0,
             0,
             1,
             0,
             0,
             0,
             0,
             1
            ]
           },
           "metalness": 0,
           "opacity": 1,
           "quality": "medium",
           "radialSegments": 10,
           "radiusData": {},
           "radiusScale": 1,
           "radiusSize": 0.1343229126300808,
           "radiusType": "vdw",
           "roughness": 0.4,
           "sele": "all",
           "side": "double",
           "sphereDetail": 1,
           "useInteriorColor": true,
           "visible": true,
           "wireframe": false
          },
          "type": "unitcell"
         },
         "1": {
          "params": {
           "assembly": "default",
           "clipCenter": {
            "x": 0,
            "y": 0,
            "z": 0
           },
           "clipNear": 0,
           "clipRadius": 0,
           "colorMode": "hcl",
           "colorReverse": false,
           "colorScale": "rwb",
           "colorScheme": "partialcharge",
           "colorValue": 9474192,
           "defaultAssembly": "",
           "depthWrite": true,
           "diffuse": 16777215,
           "diffuseInterior": false,
           "disableImpostor": false,
           "disablePicking": false,
           "flatShaded": false,
           "interiorColor": 2236962,
           "interiorDarkening": 0,
           "lazy": false,
           "matrix": {
            "elements": [
             1,
             0,
             0,
             0,
             0,
             1,
             0,
             0,
             0,
             0,
             1,
             0,
             0,
             0,
             0,
             1
            ]
           },
           "metalness": 0,
           "opacity": 1,
           "quality": "medium",
           "radiusData": {},
           "radiusScale": 0.5,
           "radiusSize": 1,
           "radiusType": "covalent",
           "roughness": 0.4,
           "sele": "all",
           "side": "double",
           "sphereDetail": 1,
           "useInteriorColor": true,
           "visible": true,
           "wireframe": false
          },
          "type": "spacefill"
         },
         "2": {
          "params": {
           "assembly": "default",
           "attachment": "middle_center",
           "backgroundColor": "lightgrey",
           "backgroundMargin": 0.5,
           "backgroundOpacity": 1,
           "borderColor": "lightgrey",
           "borderWidth": 0.15,
           "clipCenter": {
            "x": 0,
            "y": 0,
            "z": 0
           },
           "clipNear": 0,
           "clipRadius": 0,
           "colorMode": "hcl",
           "colorReverse": false,
           "colorScale": "",
           "colorScheme": "uniform",
           "colorValue": 0,
           "defaultAssembly": "",
           "depthWrite": true,
           "diffuseInterior": false,
           "disablePicking": false,
           "fixedSize": false,
           "fontFamily": "sans-serif",
           "fontStyle": "normal",
           "fontWeight": "bold",
           "interiorColor": 2236962,
           "interiorDarkening": 0,
           "labelFormat": "",
           "labelGrouping": "atom",
           "labelText": [
            "2.334",
            "2.336",
            "2.318",
            "2.315",
            "-1.155",
            "-1.158",
            "-1.157",
            "-1.156",
            "-1.134",
            "-1.212",
            "-1.212",
            "-1.134",
            "2.334",
            "2.336",
            "2.318",
            "2.315",
            "-1.157",
            "-1.157",
            "-1.161",
            "-1.156",
            "-1.138",
            "-1.212",
            "-1.214",
            "-1.134",
            "2.333",
            "2.336",
            "2.318",
            "2.315",
            "-1.156",
            "-1.16",
            "-1.154",
            "-1.155",
            "-1.134",
            "-1.211",
            "-1.212",
            "-1.134",
            "2.315",
            "2.336",
            "2.316",
            "2.303",
            "-1.158",
            "-1.156",
            "-1.168",
            "-1.154",
            "-1.122",
            "-1.212",
            "-1.217",
            "-1.136",
            "2.332",
            "2.335",
            "2.316",
            "2.315",
            "-1.157",
            "-1.16",
            "-1.154",
            "-1.155",
            "-1.135",
            "-1.212",
            "-1.212",
            "-1.135",
            "2.339",
            "2.332",
            "2.314",
            "2.295",
            "-1.169",
            "-1.151",
            "-1.186",
            "-1.153",
            "-1.088",
            "-1.212",
            "-1.217",
            "-1.138",
            "2.332",
            "2.334",
            "2.314",
            "2.314",
            "-1.157",
            "-1.159",
            "-1.155",
            "-1.156",
            "-1.136",
            "-1.212",
            "-1.213",
            "-1.135",
            "2.358",
            "2.328",
            "2.318",
            "2.296",
            "-1.173",
            "-1.147",
            "-1.182",
            "-1.154",
            "-1.052",
            "-1.208",
            "-1.228",
            "-1.14",
            "2.336",
            "2.337",
            "2.319",
            "2.316",
            "-1.158",
            "-1.157",
            "-1.158",
            "-1.157",
            "-1.137",
            "-1.214",
            "-1.214",
            "-1.134",
            "2.335",
            "2.336",
            "2.318",
            "2.314",
            "-1.156",
            "-1.157",
            "-1.156",
            "-1.157",
            "-1.133",
            "-1.212",
            "-1.212",
            "-1.135",
            "2.329",
            "2.333",
            "2.318",
            "2.311",
            "-1.159",
            "-1.156",
            "-1.163",
            "-1.153",
            "-1.14",
            "-1.212",
            "-1.214",
            "-1.134",
            "2.335",
            "2.336",
            "2.318",
            "2.315",
            "-1.156",
            "-1.157",
            "-1.156",
            "-1.157",
            "-1.134",
            "-1.212",
            "-1.212",
            "-1.135",
            "2.346",
            "2.329",
            "2.321",
            "2.317",
            "-1.18",
            "-1.155",
            "-1.171",
            "-1.151",
            "-1.138",
            "-1.211",
            "-1.223",
            "-1.137",
            "2.334",
            "2.333",
            "2.317",
            "2.308",
            "-1.155",
            "-1.157",
            "-1.157",
            "-1.157",
            "-1.134",
            "-1.213",
            "-1.212",
            "-1.137",
            "2.361",
            "2.326",
            "2.317",
            "2.165",
            "-1.193",
            "-1.154",
            "-1.171",
            "-1.147",
            "-1.071",
            "-1.197",
            "-1.221",
            "-1.145",
            "2.332",
            "2.331",
            "2.315",
            "2.299",
            "-1.152",
            "-1.157",
            "-1.157",
            "-1.158",
            "-1.135",
            "-1.211",
            "-1.212",
            "-1.138",
            "2.332",
            "2.335",
            "2.313",
            "2.314",
            "-1.157",
            "-1.158",
            "-1.151",
            "-1.156",
            "-1.136",
            "-1.212",
            "-1.213",
            "-1.135",
            "2.355",
            "2.331",
            "2.317",
            "2.294",
            "-1.167",
            "-1.146",
            "-1.19",
            "-1.153",
            "-1.056",
            "-1.209",
            "-1.229",
            "-1.139",
            "2.334",
            "2.335",
            "2.314",
            "2.314",
            "-1.156",
            "-1.158",
            "-1.156",
            "-1.157",
            "-1.135",
            "-1.212",
            "-1.212",
            "-1.135",
            "2.353",
            "2.332",
            "2.315",
            "2.299",
            "-1.171",
            "-1.151",
            "-1.186",
            "-1.155",
            "-1.056",
            "-1.21",
            "-1.22",
            "-1.138",
            "2.336",
            "2.336",
            "2.316",
            "2.315",
            "-1.157",
            "-1.157",
            "-1.157",
            "-1.157",
            "-1.135",
            "-1.212",
            "-1.212",
            "-1.135",
            "2.328",
            "2.335",
            "2.32",
            "2.31",
            "-1.164",
            "-1.153",
            "-1.159",
            "-1.155",
            "-1.134",
            "-1.213",
            "-1.225",
            "-1.136",
            "2.335",
            "2.336",
            "2.317",
            "2.315",
            "-1.156",
            "-1.157",
            "-1.157",
            "-1.156",
            "-1.134",
            "-1.211",
            "-1.212",
            "-1.134",
            "2.336",
            "2.335",
            "2.316",
            "2.315",
            "-1.158",
            "-1.156",
            "-1.159",
            "-1.156",
            "-1.139",
            "-1.212",
            "-1.214",
            "-1.134",
            "2.36",
            "2.326",
            "2.319",
            "2.144",
            "-1.183",
            "-1.155",
            "-1.172",
            "-1.145",
            "-1.046",
            "-1.193",
            "-1.23",
            "-1.146",
            "2.331",
            "2.329",
            "2.314",
            "2.296",
            "-1.154",
            "-1.156",
            "-1.156",
            "-1.159",
            "-1.135",
            "-1.208",
            "-1.213",
            "-1.141",
            "2.342",
            "2.329",
            "2.32",
            "2.152",
            "-1.187",
            "-1.154",
            "-1.171",
            "-1.15",
            "-1.052",
            "-1.195",
            "-1.229",
            "-1.145",
            "2.332",
            "2.333",
            "2.315",
            "2.293",
            "-1.152",
            "-1.156",
            "-1.157",
            "-1.16",
            "-1.135",
            "-1.209",
            "-1.212",
            "-1.14",
            "2.315",
            "2.333",
            "2.315",
            "2.317",
            "-1.167",
            "-1.155",
            "-1.158",
            "-1.156",
            "-1.088",
            "-1.211",
            "-1.217",
            "-1.138",
            "2.332",
            "2.337",
            "2.318",
            "2.293",
            "-1.153",
            "-1.156",
            "-1.156",
            "-1.16",
            "-1.134",
            "-1.212",
            "-1.212",
            "-1.139",
            "2.333",
            "2.337",
            "2.317",
            "2.31",
            "-1.161",
            "-1.156",
            "-1.157",
            "-1.157",
            "-1.121",
            "-1.212",
            "-1.218",
            "-1.134",
            "2.333",
            "2.336",
            "2.319",
            "2.301",
            "-1.156",
            "-1.156",
            "-1.155",
            "-1.159",
            "-1.134",
            "-1.212",
            "-1.212",
            "-1.137",
            "-0.007",
            "-0.004",
            "0.181",
            "-0.049",
            "-0.006",
            "0.018",
            "0.047",
            "-0.011",
            "0.131",
            "-0.008",
            "-0.112",
            "0.049",
            "-0.031",
            "0.105",
            "0.036",
            "-0.079",
            "0.001",
            "0.202",
            "0.007",
            "-0.028",
            "0.233",
            "-0.045",
            "0.024",
            "0.066",
            "-0.039",
            "0.041",
            "-0.05",
            "-0.009",
            "-0.192",
            "0.256",
            "-0.123",
            "-0.023",
            "0.219",
            "-0.061",
            "0.246",
            "-0.011",
            "0.148"
           ],
           "labelType": "text",
           "lazy": false,
           "matrix": {
            "elements": [
             1,
             0,
             0,
             0,
             0,
             1,
             0,
             0,
             0,
             0,
             1,
             0,
             0,
             0,
             0,
             1
            ]
           },
           "opacity": 1,
           "quality": "medium",
           "radiusData": {},
           "radiusScale": 1,
           "radiusSize": 0.8,
           "radiusType": "size",
           "sele": "all",
           "showBackground": false,
           "showBorder": false,
           "useInteriorColor": false,
           "visible": true,
           "xOffset": 0,
           "yOffset": 0,
           "zOffset": 2
          },
          "type": "label"
         }
        }
       },
       "_ngl_serialize": false,
       "_ngl_version": "2.0.0-dev.36",
       "_ngl_view_id": [
        "6DD7F47F-B333-4183-B785-07017E734E8D"
       ],
       "_player_dict": {},
       "_scene_position": {},
       "_scene_rotation": {},
       "_synced_model_ids": [],
       "_synced_repr_model_ids": [],
       "_view_height": "",
       "_view_width": "",
       "background": "white",
       "frame": 0,
       "gui_style": null,
       "layout": "IPY_MODEL_669cf36ccb5845c7971504cad8981005",
       "max_frame": 0,
       "n_components": 1,
       "picked": {}
      }
     },
     "b1010a0f16bf4e7880036660490cf5ac": {
      "model_module": "@jupyter-widgets/controls",
      "model_module_version": "1.5.0",
      "model_name": "DescriptionStyleModel",
      "state": {
       "description_width": ""
      }
     },
     "b1420af55be1409dae8100be5302c0dd": {
      "model_module": "@jupyter-widgets/controls",
      "model_module_version": "1.5.0",
      "model_name": "ButtonStyleModel",
      "state": {}
     },
     "b164c0f02d594fdf90cbad6fff07bb2b": {
      "model_module": "@jupyter-widgets/base",
      "model_module_version": "1.2.0",
      "model_name": "LayoutModel",
      "state": {}
     },
     "b194f4b33bbe4e8fb8fddb8ec4f38e82": {
      "model_module": "@jupyter-widgets/output",
      "model_module_version": "1.0.0",
      "model_name": "OutputModel",
      "state": {
       "layout": "IPY_MODEL_3d9c628ea5ab44e883bf1f3a8a21c190"
      }
     },
     "b1dff026abe44e23a9fac027f2d27338": {
      "model_module": "@jupyter-widgets/controls",
      "model_module_version": "1.5.0",
      "model_name": "DescriptionStyleModel",
      "state": {
       "description_width": ""
      }
     },
     "b21df66472684527bd34a065995e1377": {
      "model_module": "@jupyter-widgets/controls",
      "model_module_version": "1.5.0",
      "model_name": "LinkModel",
      "state": {
       "source": [
        "IPY_MODEL_9be23abc3f52490193b8f300301a741e",
        "value"
       ],
       "target": [
        "IPY_MODEL_c2977b6fd3b540e48bad25346c869ee7",
        "value"
       ]
      }
     },
     "b261ced3e9aa4a029e81ca089a57f6e1": {
      "model_module": "@jupyter-widgets/base",
      "model_module_version": "1.2.0",
      "model_name": "LayoutModel",
      "state": {}
     },
     "b27b32018a724fc7823b4a1455668d9b": {
      "model_module": "@jupyter-widgets/base",
      "model_module_version": "1.2.0",
      "model_name": "LayoutModel",
      "state": {}
     },
     "b2918d79f8d947a38225b54b6dc88345": {
      "model_module": "@jupyter-widgets/base",
      "model_module_version": "1.2.0",
      "model_name": "LayoutModel",
      "state": {
       "width": "34px"
      }
     },
     "b2b67bef295347b6812cb931213c8abd": {
      "model_module": "@jupyter-widgets/controls",
      "model_module_version": "1.5.0",
      "model_name": "ButtonModel",
      "state": {
       "description": "Download image",
       "layout": "IPY_MODEL_62070c2db544416e8062f7d1c3a110a1",
       "style": "IPY_MODEL_36f047e83f31442d98063bd1925c2c7d",
       "tooltip": "Download current frame to your local PC"
      }
     },
     "b2f7bf8bfc554bd4b9039b2c58757d5e": {
      "model_module": "@jupyter-widgets/controls",
      "model_module_version": "1.5.0",
      "model_name": "SliderStyleModel",
      "state": {
       "description_width": ""
      }
     },
     "b310f124b87341549639e982675f7944": {
      "model_module": "@jupyter-widgets/base",
      "model_module_version": "1.2.0",
      "model_name": "LayoutModel",
      "state": {}
     },
     "b43fd2e187ca4149a06a21baa035a92e": {
      "model_module": "@jupyter-widgets/controls",
      "model_module_version": "1.5.0",
      "model_name": "HBoxModel",
      "state": {
       "children": [
        "IPY_MODEL_46d2127c9c7a4c668a654df09e5f4784",
        "IPY_MODEL_991bd65355c7440ea81b8cd7b25435ad"
       ],
       "layout": "IPY_MODEL_d60d95e00bab483796d1b40f5f39d47d"
      }
     },
     "b4ef17a12c2947c7ad4b87ad6e177252": {
      "model_module": "@jupyter-widgets/base",
      "model_module_version": "1.2.0",
      "model_name": "LayoutModel",
      "state": {
       "width": "34px"
      }
     },
     "b4f24e2f1dad4a678739149444eb1e35": {
      "model_module": "@jupyter-widgets/controls",
      "model_module_version": "1.5.0",
      "model_name": "SliderStyleModel",
      "state": {
       "description_width": ""
      }
     },
     "b50eed72ab4546ab9ca270e95d0059f2": {
      "model_module": "@jupyter-widgets/controls",
      "model_module_version": "1.5.0",
      "model_name": "DropdownModel",
      "state": {
       "_options_labels": [
        " ",
        "picking",
        "random",
        "uniform",
        "atomindex",
        "residueindex",
        "chainindex",
        "modelindex",
        "sstruc",
        "element",
        "resname",
        "bfactor",
        "hydrophobicity",
        "value",
        "volume",
        "occupancy"
       ],
       "description": "Color scheme",
       "index": 9,
       "layout": "IPY_MODEL_5b0976c561f3497585f4f1240fee30af",
       "style": "IPY_MODEL_492b74efab3e4bab9187813c9e2e9fa3"
      }
     },
     "b59b88d2920f49809028381435011d15": {
      "model_module": "@jupyter-widgets/controls",
      "model_module_version": "1.5.0",
      "model_name": "TextModel",
      "state": {
       "description": "Filename: ",
       "layout": "IPY_MODEL_5158a8ffcc514f1cad3422f08c3361d6",
       "style": "IPY_MODEL_6692020078d14c3a89978a4ca5982ffc",
       "value": "screenshot.png"
      }
     },
     "b5b4363a64e64cc8b6ce0a1f89127ae1": {
      "model_module": "nglview-js-widgets",
      "model_module_version": "3.0.1",
      "model_name": "NGLModel",
      "state": {
       "_camera_orientation": [
        7.561708817159499,
        0,
        0,
        0,
        0,
        7.561708817159499,
        0,
        0,
        0,
        0,
        7.561708817159499,
        0,
        -1.9490000009536743,
        -1.9490000009536743,
        -0.8109999895095825,
        1
       ],
       "_camera_str": "orthographic",
       "_gui_theme": null,
       "_ibtn_fullscreen": "IPY_MODEL_92b4597a0f0042d09245c6161b5824dc",
       "_igui": null,
       "_iplayer": "IPY_MODEL_1c6bc81173454e44930c2a33dc12ad6c",
       "_ngl_color_dict": {},
       "_ngl_coordinate_resource": {},
       "_ngl_full_stage_parameters": {
        "ambientColor": 14540253,
        "ambientIntensity": 0.2,
        "backgroundColor": "white",
        "cameraEyeSep": 0.3,
        "cameraFov": 40,
        "cameraType": "orthographic",
        "clipDist": 0,
        "clipFar": 100,
        "clipNear": 0,
        "fogFar": 100,
        "fogNear": 50,
        "hoverTimeout": 0,
        "impostor": true,
        "lightColor": 14540253,
        "lightIntensity": 1,
        "mousePreset": "default",
        "panSpeed": 1,
        "quality": "medium",
        "rotateSpeed": 2,
        "sampleLevel": 0,
        "tooltip": true,
        "workerDefault": true,
        "zoomSpeed": 1.2
       },
       "_ngl_msg_archive": [
        {
         "args": [
          {
           "binary": false,
           "data": "CRYST1    4.832    4.832    3.243  90.00  90.00  90.00 P 1\nMODEL     1\nATOM      1   Sn MOL     1       2.416   2.416   1.622  1.00  0.00          SN  \nATOM      2   Sn MOL     1       0.000   0.000   0.000  1.00  0.00          SN  \nATOM      3    O MOL     1       0.935   3.898   1.622  1.00  0.00           O  \nATOM      4    O MOL     1       3.898   0.935   1.622  1.00  0.00           O  \nATOM      5    O MOL     1       1.481   1.481   0.000  1.00  0.00           O  \nATOM      6    O MOL     1       3.351   3.351   0.000  1.00  0.00           O  \nENDMDL\n",
           "type": "blob"
          }
         ],
         "kwargs": {
          "defaultRepresentation": false,
          "ext": "pdb"
         },
         "methodName": "loadFile",
         "reconstruc_color_scheme": false,
         "target": "Stage",
         "type": "call_method"
        },
        {
         "args": [
          "500px",
          "500px"
         ],
         "kwargs": {},
         "methodName": "setSize",
         "reconstruc_color_scheme": false,
         "target": "Widget",
         "type": "call_method"
        },
        {
         "args": [
          "unitcell"
         ],
         "component_index": 0,
         "kwargs": {
          "sele": "all"
         },
         "methodName": "addRepresentation",
         "reconstruc_color_scheme": false,
         "target": "compList",
         "type": "call_method"
        },
        {
         "args": [
          "spacefill"
         ],
         "component_index": 0,
         "kwargs": {
          "sele": "all"
         },
         "methodName": "addRepresentation",
         "reconstruc_color_scheme": false,
         "target": "compList",
         "type": "call_method"
        },
        {
         "args": [],
         "kwargs": {
          "cameraType": "orthographic"
         },
         "methodName": "setParameters",
         "reconstruc_color_scheme": false,
         "target": "Stage",
         "type": "call_method"
        },
        {
         "args": [
          {
           "clipDist": 0
          }
         ],
         "kwargs": {},
         "methodName": "setParameters",
         "reconstruc_color_scheme": false,
         "target": "Widget",
         "type": "call_method"
        },
        {
         "args": [
          "spacefill",
          0
         ],
         "kwargs": {
          "colorScale": "rainbow",
          "colorScheme": "element",
          "radiusScale": 0.5,
          "radiusType": "covalent"
         },
         "methodName": "updateRepresentationsByName",
         "reconstruc_color_scheme": false,
         "target": "Widget",
         "type": "call_method"
        },
        {
         "args": [
          "this._Q = [[1.0, 0.0, 0.0], [0.0, 1.0, 0.0], [0.0, 0.0, 1.0]]\n    var tooltip = document.createElement('div')\n    Object.assign(tooltip.style, {\n      display: 'none',\n      position: 'fixed',\n      zIndex: 10,\n      pointerEvents: 'none',\n      backgroundColor: 'rgba( 0, 0, 0, 0.6 )',\n      color: 'lightgrey',\n      padding: '8px',\n      fontFamily: 'sans-serif'\n    })\n    document.body.appendChild(tooltip)\n\n    var that = this\n    this.stage.mouseControls.remove('hoverPick')\n    this.stage.signals.hovered.add(function (pickingProxy) {\n      if (pickingProxy && (pickingProxy.atom || pickingProxy.bond)) {\n        var atom = pickingProxy.atom || pickingProxy.closestBondAtom\n        var mp = pickingProxy.mouse.position\n        //tooltip.innerText = atom.element + ' i=' + atom.index + ' (' + atom.x.toFixed(2) +  ', ' + atom.y.toFixed(2) +  ', ' + atom.z.toFixed(2) + ')'\n        //var pos = that._atoms_pos[atom.index]\n        var Q = that._Q\n        var pos_x = Q[0][0] * atom.x + Q[0][1] * atom.y + Q[0][2] * atom.z \n        var pos_y = Q[1][0] * atom.x + Q[1][1] * atom.y + Q[1][2] * atom.z\n        var pos_z = Q[2][0] * atom.x + Q[2][1] * atom.y + Q[2][2] * atom.z\n        tooltip.innerText = 'i=' + atom.index + ' ' + atom.element + ' (' + pos_x.toFixed(2) +  ', ' + pos_y.toFixed(2) +  ', ' + pos_z.toFixed(2) + ')'\n        tooltip.style.bottom = window.innerHeight - mp.y + 3 + 'px'\n        tooltip.style.left = mp.x + 3 + 'px'\n        tooltip.style.display = 'block'\n      } else {\n        tooltip.style.display = 'none'\n      }\n    })\n    "
         ],
         "kwargs": {},
         "methodName": "executeCode",
         "reconstruc_color_scheme": false,
         "target": "Widget",
         "type": "call_method"
        },
        {
         "args": [
          "ball+stick"
         ],
         "component_index": 0,
         "kwargs": {
          "sele": "all"
         },
         "methodName": "addRepresentation",
         "reconstruc_color_scheme": false,
         "target": "compList",
         "type": "call_method"
        }
       ],
       "_ngl_original_stage_parameters": {
        "ambientColor": 14540253,
        "ambientIntensity": 0.2,
        "backgroundColor": "white",
        "cameraEyeSep": 0.3,
        "cameraFov": 40,
        "cameraType": "perspective",
        "clipDist": 10,
        "clipFar": 100,
        "clipNear": 0,
        "fogFar": 100,
        "fogNear": 50,
        "hoverTimeout": 0,
        "impostor": true,
        "lightColor": 14540253,
        "lightIntensity": 1,
        "mousePreset": "default",
        "panSpeed": 1,
        "quality": "medium",
        "rotateSpeed": 2,
        "sampleLevel": 0,
        "tooltip": true,
        "workerDefault": true,
        "zoomSpeed": 1.2
       },
       "_ngl_repr_dict": {
        "0": {
         "0": {
          "params": {
           "clipCenter": {
            "x": 0,
            "y": 0,
            "z": 0
           },
           "clipNear": 0,
           "clipRadius": 0,
           "colorMode": "hcl",
           "colorReverse": false,
           "colorScale": "",
           "colorScheme": "element",
           "colorValue": "orange",
           "defaultAssembly": "",
           "depthWrite": true,
           "diffuse": 16777215,
           "diffuseInterior": false,
           "disableImpostor": false,
           "disablePicking": false,
           "flatShaded": false,
           "interiorColor": 2236962,
           "interiorDarkening": 0,
           "lazy": false,
           "matrix": {
            "elements": [
             1,
             0,
             0,
             0,
             0,
             1,
             0,
             0,
             0,
             0,
             1,
             0,
             0,
             0,
             0,
             1
            ]
           },
           "metalness": 0,
           "opacity": 1,
           "quality": "medium",
           "radialSegments": 10,
           "radiusData": {},
           "radiusScale": 1,
           "radiusSize": 0.021152916347024715,
           "radiusType": "vdw",
           "roughness": 0.4,
           "sele": "all",
           "side": "double",
           "sphereDetail": 1,
           "useInteriorColor": true,
           "visible": true,
           "wireframe": false
          },
          "type": "unitcell"
         },
         "1": {
          "params": {
           "assembly": "default",
           "clipCenter": {
            "x": 0,
            "y": 0,
            "z": 0
           },
           "clipNear": 0,
           "clipRadius": 0,
           "colorMode": "hcl",
           "colorReverse": false,
           "colorScale": "rainbow",
           "colorScheme": "element",
           "colorValue": 9474192,
           "defaultAssembly": "",
           "depthWrite": true,
           "diffuse": 16777215,
           "diffuseInterior": false,
           "disableImpostor": false,
           "disablePicking": false,
           "flatShaded": false,
           "interiorColor": 2236962,
           "interiorDarkening": 0,
           "lazy": false,
           "matrix": {
            "elements": [
             1,
             0,
             0,
             0,
             0,
             1,
             0,
             0,
             0,
             0,
             1,
             0,
             0,
             0,
             0,
             1
            ]
           },
           "metalness": 0,
           "opacity": 1,
           "quality": "medium",
           "radiusData": {},
           "radiusScale": 0.5,
           "radiusSize": 1,
           "radiusType": "covalent",
           "roughness": 0.4,
           "sele": "all",
           "side": "double",
           "sphereDetail": 1,
           "useInteriorColor": true,
           "visible": true,
           "wireframe": false
          },
          "type": "spacefill"
         },
         "2": {
          "params": {
           "aspectRatio": 2,
           "assembly": "default",
           "bondScale": 0.4,
           "bondSpacing": 1,
           "clipCenter": {
            "x": 0,
            "y": 0,
            "z": 0
           },
           "clipNear": 0,
           "clipRadius": 0,
           "colorMode": "hcl",
           "colorReverse": false,
           "colorScale": "",
           "colorScheme": "element",
           "colorValue": 9474192,
           "cylinderOnly": false,
           "defaultAssembly": "",
           "depthWrite": true,
           "diffuse": 16777215,
           "diffuseInterior": false,
           "disableImpostor": false,
           "disablePicking": false,
           "flatShaded": false,
           "interiorColor": 2236962,
           "interiorDarkening": 0,
           "lazy": false,
           "lineOnly": false,
           "linewidth": 2,
           "matrix": {
            "elements": [
             1,
             0,
             0,
             0,
             0,
             1,
             0,
             0,
             0,
             0,
             1,
             0,
             0,
             0,
             0,
             1
            ]
           },
           "metalness": 0,
           "multipleBond": "off",
           "opacity": 1,
           "openEnded": true,
           "quality": "medium",
           "radialSegments": 10,
           "radiusData": {},
           "radiusScale": 1,
           "radiusSize": 0.15,
           "radiusType": "size",
           "roughness": 0.4,
           "sele": "all",
           "side": "double",
           "sphereDetail": 1,
           "useInteriorColor": true,
           "visible": true,
           "wireframe": false
          },
          "type": "ball+stick"
         }
        }
       },
       "_ngl_serialize": false,
       "_ngl_version": "2.0.0-dev.36",
       "_ngl_view_id": [
        "C3135C37-C161-47CD-9679-3304E106FB62"
       ],
       "_player_dict": {},
       "_scene_position": {},
       "_scene_rotation": {},
       "_synced_model_ids": [],
       "_synced_repr_model_ids": [],
       "_view_height": "",
       "_view_width": "",
       "background": "white",
       "frame": 0,
       "gui_style": null,
       "layout": "IPY_MODEL_9297c5057dc64ea6ab9b9831d86e7e61",
       "max_frame": 0,
       "n_components": 1,
       "picked": {}
      }
     },
     "b5b450418c2b4f1092bab19fd8e20d50": {
      "model_module": "@jupyter-widgets/base",
      "model_module_version": "1.2.0",
      "model_name": "LayoutModel",
      "state": {}
     },
     "b5b86005549b452681804117a37ef011": {
      "model_module": "@jupyter-widgets/base",
      "model_module_version": "1.2.0",
      "model_name": "LayoutModel",
      "state": {}
     },
     "b5c4aef7b3ae4441bd5ac076ae261077": {
      "model_module": "@jupyter-widgets/controls",
      "model_module_version": "1.5.0",
      "model_name": "FloatSliderModel",
      "state": {
       "description": "Charge scale",
       "layout": "IPY_MODEL_4f989e914d084f678ebc83cb248e805a",
       "step": 0.1,
       "style": "IPY_MODEL_c4598762d2dc410b9bc8051e156262f8",
       "value": 1
      }
     },
     "b5c8f112025b4e3b91c2e6ecf72b2628": {
      "model_module": "@jupyter-widgets/base",
      "model_module_version": "1.2.0",
      "model_name": "LayoutModel",
      "state": {}
     },
     "b5fac53a90c1479aa155fb4aaf511f83": {
      "model_module": "@jupyter-widgets/controls",
      "model_module_version": "1.5.0",
      "model_name": "FloatSliderModel",
      "state": {
       "description": "Force scale",
       "layout": "IPY_MODEL_bfc9180c248c41c4adac65a201518bfc",
       "step": 0.1,
       "style": "IPY_MODEL_b2f7bf8bfc554bd4b9039b2c58757d5e",
       "value": 0.5
      }
     },
     "b74cbc6f5d634b8594054ccef016173c": {
      "model_module": "@jupyter-widgets/controls",
      "model_module_version": "1.5.0",
      "model_name": "SliderStyleModel",
      "state": {
       "description_width": ""
      }
     },
     "b77f8b278cc9434fa68c158546b58640": {
      "model_module": "@jupyter-widgets/controls",
      "model_module_version": "1.5.0",
      "model_name": "DescriptionStyleModel",
      "state": {
       "description_width": ""
      }
     },
     "b7d2b1d0a3874f76abbd5c36fbc3f85e": {
      "model_module": "@jupyter-widgets/controls",
      "model_module_version": "1.5.0",
      "model_name": "ButtonModel",
      "state": {
       "icon": "compress",
       "layout": "IPY_MODEL_8027836f2d3a45688bcd2de09f565cb7",
       "style": "IPY_MODEL_5eb36a320e08408f88400a92f704fa4c"
      }
     },
     "b910bc026f9a45d0a726bf1b87dc4c41": {
      "model_module": "@jupyter-widgets/controls",
      "model_module_version": "1.5.0",
      "model_name": "CheckboxModel",
      "state": {
       "description": "Show charge",
       "disabled": false,
       "layout": "IPY_MODEL_6a55f02b9fa9412b9e0f6464acd01cb1",
       "style": "IPY_MODEL_3aface778756437b924fa9a0c4e583ac",
       "value": false
      }
     },
     "b9d0daf26426499091523ec2c17cc6d4": {
      "model_module": "@jupyter-widgets/controls",
      "model_module_version": "1.5.0",
      "model_name": "CheckboxModel",
      "state": {
       "description": "Show force",
       "disabled": false,
       "layout": "IPY_MODEL_dfc9bc7082d1479283735efcfc045dfb",
       "style": "IPY_MODEL_631a5973dace4a5b890498ccc955440e",
       "value": false
      }
     },
     "b9ee2a8cf64444a592c44206ff1424a6": {
      "model_module": "@jupyter-widgets/base",
      "model_module_version": "1.2.0",
      "model_name": "LayoutModel",
      "state": {}
     },
     "ba0d4dde21e34c74ac17c130908bf4e0": {
      "model_module": "@jupyter-widgets/base",
      "model_module_version": "1.2.0",
      "model_name": "LayoutModel",
      "state": {}
     },
     "bab707626ee141d58563eed98f1bd0ab": {
      "model_module": "@jupyter-widgets/controls",
      "model_module_version": "1.5.0",
      "model_name": "LinkModel",
      "state": {
       "source": [
        "IPY_MODEL_46d2127c9c7a4c668a654df09e5f4784",
        "value"
       ],
       "target": [
        "IPY_MODEL_e69d508233f24e4a9cda0447b957871c",
        "frame"
       ]
      }
     },
     "bb0b06b9419f47d8b1ed67d5e98fc8c0": {
      "model_module": "@jupyter-widgets/controls",
      "model_module_version": "1.5.0",
      "model_name": "SliderStyleModel",
      "state": {
       "description_width": ""
      }
     },
     "bb384d4d32d241feb0b8ceb0e7d725bb": {
      "model_module": "@jupyter-widgets/controls",
      "model_module_version": "1.5.0",
      "model_name": "DescriptionStyleModel",
      "state": {
       "description_width": ""
      }
     },
     "bb6d581b1aa8459aa06f4a2a86ba7e10": {
      "model_module": "@jupyter-widgets/controls",
      "model_module_version": "1.5.0",
      "model_name": "LinkModel",
      "state": {
       "source": [
        "IPY_MODEL_c2977b6fd3b540e48bad25346c869ee7",
        "max"
       ],
       "target": [
        "IPY_MODEL_7cd11d49d3854670b213209e38262f2d",
        "max_frame"
       ]
      }
     },
     "bbc7b02bd2be44de9383f51b68d15060": {
      "model_module": "@jupyter-widgets/controls",
      "model_module_version": "1.5.0",
      "model_name": "DescriptionStyleModel",
      "state": {
       "description_width": ""
      }
     },
     "bcb402215b034e599e59062017687818": {
      "model_module": "@jupyter-widgets/controls",
      "model_module_version": "1.5.0",
      "model_name": "LinkModel",
      "state": {
       "source": [
        "IPY_MODEL_2b1fa73e41594a7b8e347c19497188dc",
        "value"
       ],
       "target": [
        "IPY_MODEL_e3553c742c81457b84a3a2df197f6642",
        "frame"
       ]
      }
     },
     "bd0bc889e2c74c52a86f433da42a8f21": {
      "model_module": "@jupyter-widgets/base",
      "model_module_version": "1.2.0",
      "model_name": "LayoutModel",
      "state": {}
     },
     "bd1dee24203249f1b51f58e1b3e14c72": {
      "model_module": "@jupyter-widgets/controls",
      "model_module_version": "1.5.0",
      "model_name": "DescriptionStyleModel",
      "state": {
       "description_width": ""
      }
     },
     "bd488011ac11426ba945594a11c39f69": {
      "model_module": "@jupyter-widgets/base",
      "model_module_version": "1.2.0",
      "model_name": "LayoutModel",
      "state": {}
     },
     "bdb8229096c246a0a189aef1727c5713": {
      "model_module": "@jupyter-widgets/base",
      "model_module_version": "1.2.0",
      "model_name": "LayoutModel",
      "state": {
       "border": "0px solid black"
      }
     },
     "bef16a4694c04249a4bde8573b806185": {
      "model_module": "@jupyter-widgets/base",
      "model_module_version": "1.2.0",
      "model_name": "LayoutModel",
      "state": {}
     },
     "bf08e72bc7744f379ce49a0fa4bd0722": {
      "model_module": "@jupyter-widgets/base",
      "model_module_version": "1.2.0",
      "model_name": "LayoutModel",
      "state": {}
     },
     "bfc59c10269140c1a57e850914af12ed": {
      "model_module": "@jupyter-widgets/controls",
      "model_module_version": "1.5.0",
      "model_name": "LinkModel",
      "state": {
       "source": [
        "IPY_MODEL_1500b9c68bb74c5586b8f4527a2b6261",
        "max"
       ],
       "target": [
        "IPY_MODEL_b059168a3f2b4134bbb761bc058392a6",
        "max_frame"
       ]
      }
     },
     "bfc9180c248c41c4adac65a201518bfc": {
      "model_module": "@jupyter-widgets/base",
      "model_module_version": "1.2.0",
      "model_name": "LayoutModel",
      "state": {}
     },
     "bfe65a5e738a46e6b3a21ef8ce2e374d": {
      "model_module": "@jupyter-widgets/controls",
      "model_module_version": "1.5.0",
      "model_name": "HBoxModel",
      "state": {
       "children": [
        "IPY_MODEL_a401b573e3b34a4d92d3b4aa8054ea0e",
        "IPY_MODEL_e8994d2c9da944f3990f11008f34d848"
       ],
       "layout": "IPY_MODEL_d43dcddaa6254801b27d25e50789bcca"
      }
     },
     "c006835df6d54de1a3f4609c549da51c": {
      "model_module": "@jupyter-widgets/base",
      "model_module_version": "1.2.0",
      "model_name": "LayoutModel",
      "state": {}
     },
     "c01d703daed74910a99b01f9c65cf0e0": {
      "model_module": "@jupyter-widgets/base",
      "model_module_version": "1.2.0",
      "model_name": "LayoutModel",
      "state": {}
     },
     "c07734698f1e45e3aa5dfcc387646e80": {
      "model_module": "@jupyter-widgets/base",
      "model_module_version": "1.2.0",
      "model_name": "LayoutModel",
      "state": {}
     },
     "c08e7300304b4bc4a144118c8359109c": {
      "model_module": "@jupyter-widgets/controls",
      "model_module_version": "1.5.0",
      "model_name": "LinkModel",
      "state": {
       "source": [
        "IPY_MODEL_a401b573e3b34a4d92d3b4aa8054ea0e",
        "value"
       ],
       "target": [
        "IPY_MODEL_9d00314c4ab84727aed7c69e1682d52f",
        "frame"
       ]
      }
     },
     "c0f621f39249459ab6031059fcf119d5": {
      "model_module": "@jupyter-widgets/controls",
      "model_module_version": "1.5.0",
      "model_name": "ImageModel",
      "state": {
       "layout": "IPY_MODEL_c13697c4cb9c49e19bcdd91ce9c1f4b8",
       "width": "900.0"
      }
     },
     "c13697c4cb9c49e19bcdd91ce9c1f4b8": {
      "model_module": "@jupyter-widgets/base",
      "model_module_version": "1.2.0",
      "model_name": "LayoutModel",
      "state": {}
     },
     "c1563a814eb6485ba897d170e5f56704": {
      "model_module": "@jupyter-widgets/controls",
      "model_module_version": "1.5.0",
      "model_name": "CheckboxModel",
      "state": {
       "description": "Show charge",
       "disabled": false,
       "layout": "IPY_MODEL_180815282f634deabc7b5c88126a9f7b",
       "style": "IPY_MODEL_786063abf9114205b8bc9a5cb11c0efd",
       "value": false
      }
     },
     "c16a6908d42a4c819be32e17e9bc2aa6": {
      "model_module": "@jupyter-widgets/controls",
      "model_module_version": "1.5.0",
      "model_name": "DescriptionStyleModel",
      "state": {
       "description_width": ""
      }
     },
     "c18b39d3037945b48fec889e8620ab59": {
      "model_module": "@jupyter-widgets/base",
      "model_module_version": "1.2.0",
      "model_name": "LayoutModel",
      "state": {}
     },
     "c1e06d65355a447599f336cff1671cb6": {
      "model_module": "@jupyter-widgets/base",
      "model_module_version": "1.2.0",
      "model_name": "LayoutModel",
      "state": {}
     },
     "c202e6a48e414e2c923851ac42e8c45b": {
      "model_module": "@jupyter-widgets/controls",
      "model_module_version": "1.5.0",
      "model_name": "DescriptionStyleModel",
      "state": {
       "description_width": ""
      }
     },
     "c20f023dc6fe42e1ae137e27f63f77fc": {
      "model_module": "@jupyter-widgets/controls",
      "model_module_version": "1.5.0",
      "model_name": "LinkModel",
      "state": {
       "source": [
        "IPY_MODEL_8215b37720164e899a1b3a26e856b29b",
        "value"
       ],
       "target": [
        "IPY_MODEL_fb3fcc7f6b1048ecbaa8f916fc474db9",
        "value"
       ]
      }
     },
     "c2977b6fd3b540e48bad25346c869ee7": {
      "model_module": "@jupyter-widgets/controls",
      "model_module_version": "1.5.0",
      "model_name": "IntSliderModel",
      "state": {
       "layout": "IPY_MODEL_796c8bf8c6f14017bf870fa0f64ba8c1",
       "max": 306,
       "style": "IPY_MODEL_55bc2eb638a8448a80bd6630735918fa"
      }
     },
     "c3732f395a0347fca75ce9886b2e5be6": {
      "model_module": "@jupyter-widgets/base",
      "model_module_version": "1.2.0",
      "model_name": "LayoutModel",
      "state": {}
     },
     "c407676e3f22487f86832818b938b3f3": {
      "model_module": "@jupyter-widgets/controls",
      "model_module_version": "1.5.0",
      "model_name": "FloatSliderModel",
      "state": {
       "description": "Charge scale",
       "layout": "IPY_MODEL_a915750bf0b6410b8ad918549cab3997",
       "step": 0.1,
       "style": "IPY_MODEL_0e8a4e14af1f42afb41c7d386b4859b7",
       "value": 1
      }
     },
     "c4598762d2dc410b9bc8051e156262f8": {
      "model_module": "@jupyter-widgets/controls",
      "model_module_version": "1.5.0",
      "model_name": "SliderStyleModel",
      "state": {
       "description_width": ""
      }
     },
     "c48dbff025f6414092fac5abb12c09f6": {
      "model_module": "@jupyter-widgets/controls",
      "model_module_version": "1.5.0",
      "model_name": "ButtonStyleModel",
      "state": {}
     },
     "c500b7b2931e4a4dbf12569ff20734eb": {
      "model_module": "@jupyter-widgets/base",
      "model_module_version": "1.2.0",
      "model_name": "LayoutModel",
      "state": {}
     },
     "c571e7a8769742209decc41e7cacc186": {
      "model_module": "@jupyter-widgets/controls",
      "model_module_version": "1.5.0",
      "model_name": "TextModel",
      "state": {
       "description": "Filename: ",
       "layout": "IPY_MODEL_4ba9ed4797904dbb85ee60bc4672f441",
       "style": "IPY_MODEL_b1dff026abe44e23a9fac027f2d27338",
       "value": "screenshot.png"
      }
     },
     "c5b0aabf0244458ebb8bf9df1dc80da8": {
      "model_module": "@jupyter-widgets/controls",
      "model_module_version": "1.5.0",
      "model_name": "SliderStyleModel",
      "state": {
       "description_width": ""
      }
     },
     "c61cc87df76e43ccaf27943a5bfc02fe": {
      "model_module": "@jupyter-widgets/base",
      "model_module_version": "1.2.0",
      "model_name": "LayoutModel",
      "state": {}
     },
     "c6a27bf55ca2465d9af1796d67561765": {
      "model_module": "@jupyter-widgets/controls",
      "model_module_version": "1.5.0",
      "model_name": "DescriptionStyleModel",
      "state": {
       "description_width": ""
      }
     },
     "c6b040d89561430d8f91ae3fe5a3e9aa": {
      "model_module": "@jupyter-widgets/base",
      "model_module_version": "1.2.0",
      "model_name": "LayoutModel",
      "state": {}
     },
     "c8477109186141ffa6d07581330e0f06": {
      "model_module": "@jupyter-widgets/base",
      "model_module_version": "1.2.0",
      "model_name": "LayoutModel",
      "state": {}
     },
     "c91774ef091146438e9b50ebb95b5305": {
      "model_module": "@jupyter-widgets/base",
      "model_module_version": "1.2.0",
      "model_name": "LayoutModel",
      "state": {}
     },
     "c95ecd4ad99f4589a581ea6009a2c53f": {
      "model_module": "@jupyter-widgets/base",
      "model_module_version": "1.2.0",
      "model_name": "LayoutModel",
      "state": {}
     },
     "c9ea3dd28fb34bc3be6c2dd31e9a5ebf": {
      "model_module": "@jupyter-widgets/controls",
      "model_module_version": "1.5.0",
      "model_name": "FloatSliderModel",
      "state": {
       "description": "Ball size",
       "layout": "IPY_MODEL_087c64703b8d4220ad083568c5cc33a4",
       "max": 1.5,
       "step": 0.01,
       "style": "IPY_MODEL_3cf1e6b11ebb4461af87d8e159543de4",
       "value": 0.5
      }
     },
     "c9ed34a7189e4d999f006a96d000b7f7": {
      "model_module": "@jupyter-widgets/base",
      "model_module_version": "1.2.0",
      "model_name": "LayoutModel",
      "state": {}
     },
     "ca7bf4e292c94f818834907489f84f91": {
      "model_module": "@jupyter-widgets/base",
      "model_module_version": "1.2.0",
      "model_name": "LayoutModel",
      "state": {}
     },
     "cb2c79fcd07148968aec581e139fc763": {
      "model_module": "@jupyter-widgets/controls",
      "model_module_version": "1.5.0",
      "model_name": "ImageModel",
      "state": {
       "layout": "IPY_MODEL_2750ab9135f54f33b53e53ff1c6b98b0",
       "width": "900.0"
      }
     },
     "cb925fa9df2b41e2b216e8376a4275d9": {
      "model_module": "@jupyter-widgets/controls",
      "model_module_version": "1.5.0",
      "model_name": "DropdownModel",
      "state": {
       "_options_labels": [
        " ",
        "picking",
        "random",
        "uniform",
        "atomindex",
        "residueindex",
        "chainindex",
        "modelindex",
        "sstruc",
        "element",
        "resname",
        "bfactor",
        "hydrophobicity",
        "value",
        "volume",
        "occupancy"
       ],
       "description": "Color scheme",
       "index": 9,
       "layout": "IPY_MODEL_1a23dcedb34f433c8359e44b3697a987",
       "style": "IPY_MODEL_48d4a5c0a39644b1aabdd2f05fd6bed6"
      }
     },
     "cbd20b8584134ce5852b2f75dfb0cf8d": {
      "model_module": "@jupyter-widgets/base",
      "model_module_version": "1.2.0",
      "model_name": "LayoutModel",
      "state": {}
     },
     "cc2a215682344e29984dfaa41cf2f778": {
      "model_module": "@jupyter-widgets/controls",
      "model_module_version": "1.5.0",
      "model_name": "TextModel",
      "state": {
       "description": "Filename: ",
       "layout": "IPY_MODEL_01a25b14762f404cb69b69e92ac9a4d4",
       "style": "IPY_MODEL_3c14ee777e8840419da981553556acea",
       "value": "screenshot.png"
      }
     },
     "cc340f67337d4e6fa753c9042458684c": {
      "model_module": "@jupyter-widgets/base",
      "model_module_version": "1.2.0",
      "model_name": "LayoutModel",
      "state": {}
     },
     "cd404c5e3fe7483dadebbc5a8520a67e": {
      "model_module": "@jupyter-widgets/controls",
      "model_module_version": "1.5.0",
      "model_name": "IntSliderModel",
      "state": {
       "layout": "IPY_MODEL_9d58854397c64d81bcffde9114c70f57",
       "max": 0,
       "style": "IPY_MODEL_8363b9aac493416ab26558bc08509459"
      }
     },
     "cd49a31bb97844458dde33a26f9b8cf8": {
      "model_module": "@jupyter-widgets/controls",
      "model_module_version": "1.5.0",
      "model_name": "FloatSliderModel",
      "state": {
       "description": "Charge scale",
       "layout": "IPY_MODEL_bd0bc889e2c74c52a86f433da42a8f21",
       "step": 0.1,
       "style": "IPY_MODEL_5a220eef39114cb2af46f667f41ff4e1",
       "value": 1
      }
     },
     "cd4d4709c4694e0bb121aef0155580b9": {
      "model_module": "@jupyter-widgets/controls",
      "model_module_version": "1.5.0",
      "model_name": "VBoxModel",
      "state": {
       "children": [
        "IPY_MODEL_4d13813b6ff74a00850c07b43ba26fa2",
        "IPY_MODEL_7366aa936fbe4b4ca38c13aad1e06ece",
        "IPY_MODEL_8233714df09844ae8f1bf56f3c8d06b7",
        "IPY_MODEL_12bd9cfcee3643e9b3ca28e1be4c10cd",
        "IPY_MODEL_9f4881d486c946cb93838d5f28de2b30",
        "IPY_MODEL_7007a5bfaefa44dabdabc0f79eb910f6",
        "IPY_MODEL_49981eacd47746cb96080100a6258aab",
        "IPY_MODEL_b910bc026f9a45d0a726bf1b87dc4c41",
        "IPY_MODEL_464684fd38674e6c9bee3e6657e265c0",
        "IPY_MODEL_b194f4b33bbe4e8fb8fddb8ec4f38e82"
       ],
       "layout": "IPY_MODEL_2e3840440d9f4556b38db8983e81731a"
      }
     },
     "cf0b68d7bddd4ab9a724f15706dcd0a9": {
      "model_module": "@jupyter-widgets/base",
      "model_module_version": "1.2.0",
      "model_name": "LayoutModel",
      "state": {}
     },
     "cf1c17d9afca4a389d1113b6e09152e8": {
      "model_module": "@jupyter-widgets/controls",
      "model_module_version": "1.5.0",
      "model_name": "LinkModel",
      "state": {
       "source": [
        "IPY_MODEL_7be398478347491aa67c826562e5a6d9",
        "value"
       ],
       "target": [
        "IPY_MODEL_cd404c5e3fe7483dadebbc5a8520a67e",
        "value"
       ]
      }
     },
     "cf2da2cc78bd4304888a50d376129061": {
      "model_module": "@jupyter-widgets/base",
      "model_module_version": "1.2.0",
      "model_name": "LayoutModel",
      "state": {}
     },
     "cf7a3f5117ca4e14a55292b5d6651231": {
      "model_module": "@jupyter-widgets/base",
      "model_module_version": "1.2.0",
      "model_name": "LayoutModel",
      "state": {}
     },
     "d026e5a875534677b296f68ece31c999": {
      "model_module": "@jupyter-widgets/base",
      "model_module_version": "1.2.0",
      "model_name": "LayoutModel",
      "state": {}
     },
     "d072eb9202fb4841ac88668e432d90b6": {
      "model_module": "@jupyter-widgets/controls",
      "model_module_version": "1.5.0",
      "model_name": "TextModel",
      "state": {
       "description": "Filename: ",
       "layout": "IPY_MODEL_579d6b3b09994e29a49cc400cc247d04",
       "style": "IPY_MODEL_62d851a6c16443a9bd530910ebfc32fa",
       "value": "screenshot.png"
      }
     },
     "d170065937924c9eb37c0c3e4464b9a3": {
      "model_module": "@jupyter-widgets/controls",
      "model_module_version": "1.5.0",
      "model_name": "IntSliderModel",
      "state": {
       "layout": "IPY_MODEL_0a1816d71c424ff39bbaf6abdebba698",
       "max": 0,
       "style": "IPY_MODEL_fb17eb6db0d04abbad04db544cbcdab7"
      }
     },
     "d18825fb6ebe41efa67a38212e95aee1": {
      "model_module": "@jupyter-widgets/controls",
      "model_module_version": "1.5.0",
      "model_name": "LinkModel",
      "state": {
       "source": [
        "IPY_MODEL_d170065937924c9eb37c0c3e4464b9a3",
        "max"
       ],
       "target": [
        "IPY_MODEL_e3553c742c81457b84a3a2df197f6642",
        "max_frame"
       ]
      }
     },
     "d1cf974f04ec4b90867d233913b9d0cc": {
      "model_module": "@jupyter-widgets/base",
      "model_module_version": "1.2.0",
      "model_name": "LayoutModel",
      "state": {}
     },
     "d1e154e6be4442c7885d406793770ff7": {
      "model_module": "@jupyter-widgets/base",
      "model_module_version": "1.2.0",
      "model_name": "LayoutModel",
      "state": {}
     },
     "d2ad008421d04f32af214513acc9ab6c": {
      "model_module": "@jupyter-widgets/controls",
      "model_module_version": "1.5.0",
      "model_name": "CheckboxModel",
      "state": {
       "description": "Show charge",
       "disabled": false,
       "layout": "IPY_MODEL_edfee2dab73b484c85898170dfc02c71",
       "style": "IPY_MODEL_c202e6a48e414e2c923851ac42e8c45b",
       "value": true
      }
     },
     "d2feead1071041a69029cdfc14b66f82": {
      "model_module": "@jupyter-widgets/controls",
      "model_module_version": "1.5.0",
      "model_name": "HBoxModel",
      "state": {
       "children": [
        "IPY_MODEL_90a30f93c1f045b3b2a76ee311386f94",
        "IPY_MODEL_174ce9e7f83743f2b588d4414fa69bf7"
       ],
       "layout": "IPY_MODEL_05e3ae945a954a85844e91494f5de4e8"
      }
     },
     "d31643a72ea94c44ba116a4217a758d4": {
      "model_module": "@jupyter-widgets/controls",
      "model_module_version": "1.5.0",
      "model_name": "DescriptionStyleModel",
      "state": {
       "description_width": ""
      }
     },
     "d3488d119f324da3aaefb0ac9983986c": {
      "model_module": "@jupyter-widgets/controls",
      "model_module_version": "1.5.0",
      "model_name": "DescriptionStyleModel",
      "state": {
       "description_width": ""
      }
     },
     "d354001100b146128ab17e245786695b": {
      "model_module": "@jupyter-widgets/controls",
      "model_module_version": "1.5.0",
      "model_name": "DropdownModel",
      "state": {
       "_options_labels": [
        "All",
        "O",
        "Pt",
        "Sn"
       ],
       "description": "Show",
       "index": 0,
       "layout": "IPY_MODEL_2a89ee22c06345fe96e4e58ecb436ba7",
       "style": "IPY_MODEL_a73b0ab4e6ec4b6c919e0eef86241325"
      }
     },
     "d3896f2e58e64b78aa639d801e250e08": {
      "model_module": "@jupyter-widgets/controls",
      "model_module_version": "1.5.0",
      "model_name": "LinkModel",
      "state": {
       "source": [
        "IPY_MODEL_2b1fa73e41594a7b8e347c19497188dc",
        "max"
       ],
       "target": [
        "IPY_MODEL_e3553c742c81457b84a3a2df197f6642",
        "max_frame"
       ]
      }
     },
     "d43dcddaa6254801b27d25e50789bcca": {
      "model_module": "@jupyter-widgets/base",
      "model_module_version": "1.2.0",
      "model_name": "LayoutModel",
      "state": {}
     },
     "d477e0f74a8c4a19985ebb4ef933a412": {
      "model_module": "@jupyter-widgets/base",
      "model_module_version": "1.2.0",
      "model_name": "LayoutModel",
      "state": {}
     },
     "d4b6b84ee96943c08a9e4360eeb90fd3": {
      "model_module": "@jupyter-widgets/controls",
      "model_module_version": "1.5.0",
      "model_name": "SliderStyleModel",
      "state": {
       "description_width": ""
      }
     },
     "d5141ada0da4443687a4ba1488130b69": {
      "model_module": "@jupyter-widgets/controls",
      "model_module_version": "1.5.0",
      "model_name": "VBoxModel",
      "state": {
       "children": [
        "IPY_MODEL_a89f119b2ebc4893a88276d065754162",
        "IPY_MODEL_0671c0ded62e4ecbacce8199e61a484a",
        "IPY_MODEL_05ef116a9282409c996abf3e03a27c3e",
        "IPY_MODEL_ae46bcd73bb74af1b5311f8b0ac66333",
        "IPY_MODEL_b59b88d2920f49809028381435011d15",
        "IPY_MODEL_0c7ef14dcbcc4e6facd210c4fb917b98",
        "IPY_MODEL_2d756c4f4d0b4b8d988d9ccb24f9fda3",
        "IPY_MODEL_15c7fbbd3f8f4942a04030b849bdd9e3",
        "IPY_MODEL_c1563a814eb6485ba897d170e5f56704",
        "IPY_MODEL_3d950a083dad4b0c94c09a3b6f3efa6c",
        "IPY_MODEL_8de17b053c78491996dde2301b5d3f81"
       ],
       "layout": "IPY_MODEL_94dfe8878b26419590990ff206935ee4"
      }
     },
     "d5fc5b02c23c4c5d98c4798fd90a9afb": {
      "model_module": "@jupyter-widgets/controls",
      "model_module_version": "1.5.0",
      "model_name": "SliderStyleModel",
      "state": {
       "description_width": ""
      }
     },
     "d60d95e00bab483796d1b40f5f39d47d": {
      "model_module": "@jupyter-widgets/base",
      "model_module_version": "1.2.0",
      "model_name": "LayoutModel",
      "state": {}
     },
     "d668bb720dd7499cabc2175066153055": {
      "model_module": "@jupyter-widgets/base",
      "model_module_version": "1.2.0",
      "model_name": "LayoutModel",
      "state": {}
     },
     "d6e1e883801a42c58ca170ecace3a949": {
      "model_module": "@jupyter-widgets/controls",
      "model_module_version": "1.5.0",
      "model_name": "VBoxModel",
      "state": {
       "children": [
        "IPY_MODEL_9ad31dd5733649139e5ad0e8ffd0d291",
        "IPY_MODEL_78d8076bf6854742a86e0015c0ca050f",
        "IPY_MODEL_9252cd79410c4e1fac12025207e6bc9e",
        "IPY_MODEL_c571e7a8769742209decc41e7cacc186",
        "IPY_MODEL_d78f908275d14a2a8764c2bbefd02bf0",
        "IPY_MODEL_9f9ed4a7acb44198900ceb76982890fd",
        "IPY_MODEL_5b63681aaabc43feabc1ca90f66e3ca0",
        "IPY_MODEL_029e4bd3cfe8459a9cedb1e6ba8b5fde",
        "IPY_MODEL_5e462cfb159b48ff81029d45ab486e01",
        "IPY_MODEL_5e41f0189d264e538173216bef381f91"
       ],
       "layout": "IPY_MODEL_289ae8809b404f2bad9170bb0d1f3cff"
      }
     },
     "d6f1ea5553f247a2bb7e5cf3b9622656": {
      "model_module": "@jupyter-widgets/controls",
      "model_module_version": "1.5.0",
      "model_name": "LinkModel",
      "state": {
       "source": [
        "IPY_MODEL_8f8e08d4787f4fdeba83ad894b4a7bf2",
        "value"
       ],
       "target": [
        "IPY_MODEL_b059168a3f2b4134bbb761bc058392a6",
        "frame"
       ]
      }
     },
     "d72213057da94684b44b736d1001ef5c": {
      "model_module": "@jupyter-widgets/controls",
      "model_module_version": "1.5.0",
      "model_name": "LinkModel",
      "state": {
       "source": [
        "IPY_MODEL_a4cab0cca1c5443ba1fd863554e2262f",
        "value"
       ],
       "target": [
        "IPY_MODEL_fe4cbd1211f94da29c1fdbcb5a9b7142",
        "frame"
       ]
      }
     },
     "d77e59d1224d4bf6b8dd709d0b51aebb": {
      "model_module": "@jupyter-widgets/controls",
      "model_module_version": "1.5.0",
      "model_name": "DescriptionStyleModel",
      "state": {
       "description_width": ""
      }
     },
     "d78f908275d14a2a8764c2bbefd02bf0": {
      "model_module": "@jupyter-widgets/controls",
      "model_module_version": "1.5.0",
      "model_name": "HBoxModel",
      "state": {
       "children": [
        "IPY_MODEL_d854e61fbd1b4af6aeac0eb7a8c86803",
        "IPY_MODEL_4a73c5981d9245508369a275a6943861"
       ],
       "layout": "IPY_MODEL_c9ed34a7189e4d999f006a96d000b7f7"
      }
     },
     "d7ae4ebf6d3f4227aa3544cdd917a4f1": {
      "model_module": "@jupyter-widgets/base",
      "model_module_version": "1.2.0",
      "model_name": "LayoutModel",
      "state": {
       "border": "0px solid black"
      }
     },
     "d8109a8ad1354310be74c2d5230a8c66": {
      "model_module": "@jupyter-widgets/controls",
      "model_module_version": "1.5.0",
      "model_name": "IntSliderModel",
      "state": {
       "layout": "IPY_MODEL_8ea330f408ee448cb14e9b00c791ad93",
       "max": 0,
       "style": "IPY_MODEL_148f29b0eab847f281584d120230aa88"
      }
     },
     "d854e61fbd1b4af6aeac0eb7a8c86803": {
      "model_module": "@jupyter-widgets/controls",
      "model_module_version": "1.5.0",
      "model_name": "ButtonModel",
      "state": {
       "description": "Download image",
       "layout": "IPY_MODEL_b310f124b87341549639e982675f7944",
       "style": "IPY_MODEL_906586d3b60c411ba2384f039c406787",
       "tooltip": "Download current frame to your local PC"
      }
     },
     "d879332098ce40d5826eddf774b5b4f3": {
      "model_module": "@jupyter-widgets/base",
      "model_module_version": "1.2.0",
      "model_name": "LayoutModel",
      "state": {
       "width": "34px"
      }
     },
     "d92eb0e13ec64895a5c32dbdc1797c80": {
      "model_module": "@jupyter-widgets/controls",
      "model_module_version": "1.5.0",
      "model_name": "PlayModel",
      "state": {
       "layout": "IPY_MODEL_4d95d95f16944a9bbae150f6d241aec7",
       "max": 0,
       "style": "IPY_MODEL_bd1dee24203249f1b51f58e1b3e14c72"
      }
     },
     "d97dda77ce264b65b9a8b1cdc0ee068a": {
      "model_module": "@jupyter-widgets/controls",
      "model_module_version": "1.5.0",
      "model_name": "LinkModel",
      "state": {
       "source": [
        "IPY_MODEL_6ee3aeae2a5b44de864928532c0277a7",
        "value"
       ],
       "target": [
        "IPY_MODEL_eef75624fd364555b25f61885be6b10a",
        "value"
       ]
      }
     },
     "da8de3e46d504a748a912b802532f57d": {
      "model_module": "@jupyter-widgets/controls",
      "model_module_version": "1.5.0",
      "model_name": "ButtonStyleModel",
      "state": {}
     },
     "da9c19b772bd48088ca31baad8ec08ea": {
      "model_module": "@jupyter-widgets/controls",
      "model_module_version": "1.5.0",
      "model_name": "SliderStyleModel",
      "state": {
       "description_width": ""
      }
     },
     "daa11c8cbf4c4302b9d43a9870172fdb": {
      "model_module": "@jupyter-widgets/controls",
      "model_module_version": "1.5.0",
      "model_name": "LinkModel",
      "state": {
       "source": [
        "IPY_MODEL_f0a8c4da6a31400b89ec3b473068a06e",
        "value"
       ],
       "target": [
        "IPY_MODEL_46249d082f9a49ef8b2d0cedf4f43f17",
        "value"
       ]
      }
     },
     "db0e050802bc46a09c972698ea4a9671": {
      "model_module": "@jupyter-widgets/controls",
      "model_module_version": "1.5.0",
      "model_name": "SliderStyleModel",
      "state": {
       "description_width": ""
      }
     },
     "db5d914bbb3d4382a73cb0b7222d8481": {
      "model_module": "@jupyter-widgets/base",
      "model_module_version": "1.2.0",
      "model_name": "LayoutModel",
      "state": {}
     },
     "dcab6ef043ac48058681551d856c80f6": {
      "model_module": "@jupyter-widgets/base",
      "model_module_version": "1.2.0",
      "model_name": "LayoutModel",
      "state": {}
     },
     "ddb7c80198fc4c789b3f187b1127d82e": {
      "model_module": "@jupyter-widgets/base",
      "model_module_version": "1.2.0",
      "model_name": "LayoutModel",
      "state": {}
     },
     "dddab1a5567b4188a17b9caaa843ce43": {
      "model_module": "@jupyter-widgets/controls",
      "model_module_version": "1.5.0",
      "model_name": "DropdownModel",
      "state": {
       "_options_labels": [
        " ",
        "picking",
        "random",
        "uniform",
        "atomindex",
        "residueindex",
        "chainindex",
        "modelindex",
        "sstruc",
        "element",
        "resname",
        "bfactor",
        "hydrophobicity",
        "value",
        "volume",
        "occupancy"
       ],
       "description": "Color scheme",
       "index": 9,
       "layout": "IPY_MODEL_968e9d4733574049ab3159e5d4c5ddf4",
       "style": "IPY_MODEL_8a890847d32c4d30ac860ba6ae93d0b6"
      }
     },
     "de90dee331904dfe98222283a3ad69d8": {
      "model_module": "@jupyter-widgets/controls",
      "model_module_version": "1.5.0",
      "model_name": "DescriptionStyleModel",
      "state": {
       "description_width": ""
      }
     },
     "df050c9e7ecb4ff6a6f6eecb0e75a56c": {
      "model_module": "@jupyter-widgets/base",
      "model_module_version": "1.2.0",
      "model_name": "LayoutModel",
      "state": {}
     },
     "dfc20868a27547939ec331b6a28c2574": {
      "model_module": "@jupyter-widgets/controls",
      "model_module_version": "1.5.0",
      "model_name": "DescriptionStyleModel",
      "state": {
       "description_width": ""
      }
     },
     "dfc9bc7082d1479283735efcfc045dfb": {
      "model_module": "@jupyter-widgets/base",
      "model_module_version": "1.2.0",
      "model_name": "LayoutModel",
      "state": {}
     },
     "dfedbe5a866840ccba1b9ead84265752": {
      "model_module": "@jupyter-widgets/controls",
      "model_module_version": "1.5.0",
      "model_name": "LinkModel",
      "state": {
       "source": [
        "IPY_MODEL_2a4b97b1dea8457cad5316610ac94b24",
        "value"
       ],
       "target": [
        "IPY_MODEL_84ec754fa1d541c0bd4515d85a671338",
        "frame"
       ]
      }
     },
     "e20a3df83be34b23872ee6f49ac5907f": {
      "model_module": "@jupyter-widgets/controls",
      "model_module_version": "1.5.0",
      "model_name": "ButtonStyleModel",
      "state": {}
     },
     "e324875549bb421c8c34bdf5c311d2a9": {
      "model_module": "@jupyter-widgets/base",
      "model_module_version": "1.2.0",
      "model_name": "LayoutModel",
      "state": {}
     },
     "e3553c742c81457b84a3a2df197f6642": {
      "model_module": "nglview-js-widgets",
      "model_module_version": "3.0.1",
      "model_name": "NGLModel",
      "state": {
       "_camera_orientation": [
        41.61354061874191,
        0,
        0,
        0,
        0,
        41.61354061874191,
        0,
        0,
        0,
        0,
        41.61354061874191,
        0,
        0,
        0,
        0,
        1
       ],
       "_camera_str": "orthographic",
       "_gui_theme": null,
       "_ibtn_fullscreen": "IPY_MODEL_90a236d102fa463daf670dd94731d4e2",
       "_igui": null,
       "_iplayer": "IPY_MODEL_0a6981fa837a42209e0e46d43bc2cd56",
       "_ngl_color_dict": {},
       "_ngl_coordinate_resource": {},
       "_ngl_full_stage_parameters": {
        "ambientColor": 14540253,
        "ambientIntensity": 0.2,
        "backgroundColor": "white",
        "cameraEyeSep": 0.3,
        "cameraFov": 40,
        "cameraType": "orthographic",
        "clipDist": 0,
        "clipFar": 100,
        "clipNear": 0,
        "fogFar": 100,
        "fogNear": 50,
        "hoverTimeout": 0,
        "impostor": true,
        "lightColor": 14540253,
        "lightIntensity": 1,
        "mousePreset": "default",
        "panSpeed": 1,
        "quality": "medium",
        "rotateSpeed": 2,
        "sampleLevel": 0,
        "tooltip": true,
        "workerDefault": true,
        "zoomSpeed": 1.2
       },
       "_ngl_msg_archive": [
        {
         "args": [
          {
           "binary": false,
           "data": "MODEL     1\nATOM      1   Pt MOL     1      -9.689  -9.689  -0.000  1.00  0.00          PT  \nATOM      2   Pd MOL     1     -11.626  -5.839  -1.964  1.00  0.00          PD  \nATOM      3   Pd MOL     1      -9.817  -7.904  -2.107  1.00  0.00          PD  \nATOM      4   Pt MOL     1      -9.855  -5.991  -4.058  1.00  0.00          PT  \nATOM      5   Pd MOL     1     -11.517  -7.720   0.000  1.00  0.00          PD  \nATOM      6   Pd MOL     1     -11.626  -5.839   1.964  1.00  0.00          PD  \nATOM      7   Pd MOL     1      -9.817  -7.904   2.107  1.00  0.00          PD  \nATOM      8   Pd MOL     1      -9.684  -5.839  -0.000  1.00  0.00          PD  \nATOM      9   Pt MOL     1      -9.855  -5.991   4.058  1.00  0.00          PT  \nATOM     10   Pd MOL     1     -11.626  -1.964  -5.839  1.00  0.00          PD  \nATOM     11   Pd MOL     1      -9.855  -4.058  -5.991  1.00  0.00          PD  \nATOM     12   Pd MOL     1      -9.817  -2.107  -7.904  1.00  0.00          PD  \nATOM     13   Pd MOL     1     -11.651  -3.912  -3.912  1.00  0.00          PD  \nATOM     14   Pt MOL     1     -11.758  -1.960  -1.960  1.00  0.00          PT  \nATOM     15   Pd MOL     1      -9.747  -3.899  -1.969  1.00  0.00          PD  \nATOM     16   Pd MOL     1      -9.747  -1.969  -3.899  1.00  0.00          PD  \nATOM     17   Pd MOL     1     -11.716  -3.913   0.000  1.00  0.00          PD  \nATOM     18   Pd MOL     1     -11.758  -1.960   1.960  1.00  0.00          PD  \nATOM     19   Pd MOL     1      -9.747  -3.899   1.969  1.00  0.00          PD  \nATOM     20   Pd MOL     1      -9.807  -1.939  -0.000  1.00  0.00          PD  \nATOM     21   Pd MOL     1     -11.651  -3.912   3.912  1.00  0.00          PD  \nATOM     22   Pd MOL     1     -11.626  -1.964   5.839  1.00  0.00          PD  \nATOM     23   Pd MOL     1      -9.855  -4.058   5.991  1.00  0.00          PD  \nATOM     24   Pt MOL     1      -9.747  -1.969   3.899  1.00  0.00          PT  \nATOM     25   Pd MOL     1      -9.817  -2.107   7.904  1.00  0.00          PD  \nATOM     26   Pd MOL     1      -9.689   0.000  -9.689  1.00  0.00          PD  \nATOM     27   Pt MOL     1     -11.517  -0.000  -7.720  1.00  0.00          PT  \nATOM     28   Pd MOL     1     -11.626   1.964  -5.839  1.00  0.00          PD  \nATOM     29   Pd MOL     1      -9.684   0.000  -5.839  1.00  0.00          PD  \nATOM     30   Pd MOL     1      -9.817   2.107  -7.904  1.00  0.00          PD  \nATOM     31   Pd MOL     1     -11.716  -0.000  -3.913  1.00  0.00          PD  \nATOM     32   Pt MOL     1     -11.758   1.960  -1.960  1.00  0.00          PT  \nATOM     33   Pd MOL     1      -9.807   0.000  -1.939  1.00  0.00          PD  \nATOM     34   Pt MOL     1      -9.747   1.969  -3.899  1.00  0.00          PT  \nATOM     35   Pd MOL     1     -11.801   0.000  -0.000  1.00  0.00          PD  \nATOM     36   Pd MOL     1     -11.758   1.960   1.960  1.00  0.00          PD  \nATOM     37   Pt MOL     1      -9.807  -0.000   1.939  1.00  0.00          PT  \nATOM     38   Pd MOL     1      -9.807   1.939   0.000  1.00  0.00          PD  \nATOM     39   Pt MOL     1     -11.716   0.000   3.913  1.00  0.00          PT  \nATOM     40   Pt MOL     1     -11.626   1.964   5.839  1.00  0.00          PT  \nATOM     41   Pt MOL     1      -9.684   0.000   5.839  1.00  0.00          PT  \nATOM     42   Pd MOL     1      -9.747   1.969   3.899  1.00  0.00          PD  \nATOM     43   Pt MOL     1     -11.517  -0.000   7.720  1.00  0.00          PT  \nATOM     44   Pd MOL     1      -9.689   0.000   9.689  1.00  0.00          PD  \nATOM     45   Pd MOL     1      -9.817   2.107   7.904  1.00  0.00          PD  \nATOM     46   Pt MOL     1      -9.855   4.058  -5.991  1.00  0.00          PT  \nATOM     47   Pd MOL     1     -11.651   3.912  -3.912  1.00  0.00          PD  \nATOM     48   Pd MOL     1     -11.626   5.839  -1.964  1.00  0.00          PD  \nATOM     49   Pt MOL     1      -9.747   3.899  -1.969  1.00  0.00          PT  \nATOM     50   Pt MOL     1      -9.855   5.991  -4.058  1.00  0.00          PT  \nATOM     51   Pd MOL     1     -11.716   3.913   0.000  1.00  0.00          PD  \nATOM     52   Pd MOL     1     -11.626   5.839   1.964  1.00  0.00          PD  \nATOM     53   Pd MOL     1      -9.747   3.899   1.969  1.00  0.00          PD  \nATOM     54   Pd MOL     1      -9.684   5.839   0.000  1.00  0.00          PD  \nATOM     55   Pt MOL     1     -11.651   3.912   3.912  1.00  0.00          PT  \nATOM     56   Pt MOL     1      -9.855   4.058   5.991  1.00  0.00          PT  \nATOM     57   Pt MOL     1      -9.855   5.991   4.058  1.00  0.00          PT  \nATOM     58   Pt MOL     1      -9.817   7.904  -2.107  1.00  0.00          PT  \nATOM     59   Pd MOL     1     -11.517   7.720   0.000  1.00  0.00          PD  \nATOM     60   Pt MOL     1      -9.817   7.904   2.107  1.00  0.00          PT  \nATOM     61   Pd MOL     1      -9.689   9.689  -0.000  1.00  0.00          PD  \nATOM     62   Pd MOL     1      -7.904  -9.817  -2.107  1.00  0.00          PD  \nATOM     63   Pt MOL     1      -5.839 -11.626  -1.964  1.00  0.00          PT  \nATOM     64   Pd MOL     1      -5.991  -9.855  -4.058  1.00  0.00          PD  \nATOM     65   Pt MOL     1      -7.720 -11.517  -0.000  1.00  0.00          PT  \nATOM     66   Pd MOL     1      -7.904  -9.817   2.107  1.00  0.00          PD  \nATOM     67   Pt MOL     1      -5.839 -11.626   1.964  1.00  0.00          PT  \nATOM     68   Pd MOL     1      -5.839  -9.684  -0.000  1.00  0.00          PD  \nATOM     69   Pd MOL     1      -5.991  -9.855   4.058  1.00  0.00          PD  \nATOM     70   Pt MOL     1      -7.967  -6.034  -6.034  1.00  0.00          PT  \nATOM     71   Pt MOL     1      -6.034  -7.967  -6.034  1.00  0.00          PT  \nATOM     72   Pt MOL     1      -6.034  -6.034  -7.967  1.00  0.00          PT  \nATOM     73   Pt MOL     1      -7.948  -7.948  -4.083  1.00  0.00          PT  \nATOM     74   Pd MOL     1      -7.849  -5.911  -2.045  1.00  0.00          PD  \nATOM     75   Pt MOL     1      -5.911  -7.849  -2.045  1.00  0.00          PT  \nATOM     76   Pd MOL     1      -5.953  -5.953  -4.016  1.00  0.00          PD  \nATOM     77   Pd MOL     1      -7.794  -7.794   0.000  1.00  0.00          PD  \nATOM     78   Pd MOL     1      -7.849  -5.911   2.045  1.00  0.00          PD  \nATOM     79   Pd MOL     1      -5.911  -7.849   2.045  1.00  0.00          PD  \nATOM     80   Pd MOL     1      -5.894  -5.894  -0.000  1.00  0.00          PD  \nATOM     81   Pt MOL     1      -7.948  -7.948   4.083  1.00  0.00          PT  \nATOM     82   Pd MOL     1      -7.967  -6.034   6.034  1.00  0.00          PD  \nATOM     83   Pd MOL     1      -6.034  -7.967   6.034  1.00  0.00          PD  \nATOM     84   Pd MOL     1      -5.953  -5.953   4.016  1.00  0.00          PD  \nATOM     85   Pt MOL     1      -6.034  -6.034   7.967  1.00  0.00          PT  \nATOM     86   Pd MOL     1      -7.904  -2.107  -9.817  1.00  0.00          PD  \nATOM     87   Pd MOL     1      -5.991  -4.058  -9.855  1.00  0.00          PD  \nATOM     88   Pd MOL     1      -5.839  -1.964 -11.626  1.00  0.00          PD  \nATOM     89   Pd MOL     1      -7.948  -4.083  -7.948  1.00  0.00          PD  \nATOM     90   Pd MOL     1      -7.849  -2.045  -5.911  1.00  0.00          PD  \nATOM     91   Pd MOL     1      -5.953  -4.016  -5.953  1.00  0.00          PD  \nATOM     92   Pt MOL     1      -5.911  -2.045  -7.849  1.00  0.00          PT  \nATOM     93   Pd MOL     1      -7.868  -3.991  -3.991  1.00  0.00          PD  \nATOM     94   Pd MOL     1      -7.819  -1.968  -1.968  1.00  0.00          PD  \nATOM     95   Pd MOL     1      -5.898  -3.952  -1.995  1.00  0.00          PD  \nATOM     96   Pt MOL     1      -5.898  -1.995  -3.952  1.00  0.00          PT  \nATOM     97   Pd MOL     1      -7.816  -3.928   0.000  1.00  0.00          PD  \nATOM     98   Pd MOL     1      -7.819  -1.968   1.968  1.00  0.00          PD  \nATOM     99   Pd MOL     1      -5.898  -3.952   1.995  1.00  0.00          PD  \nATOM    100   Pt MOL     1      -5.872  -1.973  -0.000  1.00  0.00          PT  \nATOM    101   Pd MOL     1      -7.868  -3.991   3.991  1.00  0.00          PD  \nATOM    102   Pt MOL     1      -7.849  -2.045   5.911  1.00  0.00          PT  \nATOM    103   Pd MOL     1      -5.953  -4.016   5.953  1.00  0.00          PD  \nATOM    104   Pd MOL     1      -5.898  -1.995   3.952  1.00  0.00          PD  \nATOM    105   Pt MOL     1      -7.948  -4.083   7.948  1.00  0.00          PT  \nATOM    106   Pd MOL     1      -7.904  -2.107   9.817  1.00  0.00          PD  \nATOM    107   Pd MOL     1      -5.991  -4.058   9.855  1.00  0.00          PD  \nATOM    108   Pd MOL     1      -5.911  -2.045   7.849  1.00  0.00          PD  \nATOM    109   Pd MOL     1      -5.839  -1.964  11.626  1.00  0.00          PD  \nATOM    110   Pd MOL     1      -7.720   0.000 -11.517  1.00  0.00          PD  \nATOM    111   Pt MOL     1      -7.904   2.107  -9.817  1.00  0.00          PT  \nATOM    112   Pd MOL     1      -5.839  -0.000  -9.684  1.00  0.00          PD  \nATOM    113   Pt MOL     1      -5.839   1.964 -11.626  1.00  0.00          PT  \nATOM    114   Pt MOL     1      -7.794   0.000  -7.794  1.00  0.00          PT  \nATOM    115   Pd MOL     1      -7.849   2.045  -5.911  1.00  0.00          PD  \nATOM    116   Pd MOL     1      -5.894   0.000  -5.894  1.00  0.00          PD  \nATOM    117   Pd MOL     1      -5.911   2.045  -7.849  1.00  0.00          PD  \nATOM    118   Pd MOL     1      -7.816   0.000  -3.928  1.00  0.00          PD  \nATOM    119   Pt MOL     1      -7.819   1.968  -1.968  1.00  0.00          PT  \nATOM    120   Pt MOL     1      -5.872  -0.000  -1.973  1.00  0.00          PT  \nATOM    121   Pt MOL     1      -5.898   1.995  -3.952  1.00  0.00          PT  \nATOM    122   Pd MOL     1      -7.822  -0.000  -0.000  1.00  0.00          PD  \nATOM    123   Pd MOL     1      -7.819   1.968   1.968  1.00  0.00          PD  \nATOM    124   Pd MOL     1      -5.872  -0.000   1.973  1.00  0.00          PD  \nATOM    125   Pt MOL     1      -5.872   1.973  -0.000  1.00  0.00          PT  \nATOM    126   Pd MOL     1      -7.816  -0.000   3.928  1.00  0.00          PD  \nATOM    127   Pt MOL     1      -7.849   2.045   5.911  1.00  0.00          PT  \nATOM    128   Pd MOL     1      -5.894   0.000   5.894  1.00  0.00          PD  \nATOM    129   Pd MOL     1      -5.898   1.995   3.952  1.00  0.00          PD  \nATOM    130   Pd MOL     1      -7.794  -0.000   7.794  1.00  0.00          PD  \nATOM    131   Pd MOL     1      -7.904   2.107   9.817  1.00  0.00          PD  \nATOM    132   Pt MOL     1      -5.839  -0.000   9.684  1.00  0.00          PT  \nATOM    133   Pt MOL     1      -5.911   2.045   7.849  1.00  0.00          PT  \nATOM    134   Pt MOL     1      -7.720   0.000  11.517  1.00  0.00          PT  \nATOM    135   Pt MOL     1      -5.839   1.964  11.626  1.00  0.00          PT  \nATOM    136   Pd MOL     1      -5.991   4.058  -9.855  1.00  0.00          PD  \nATOM    137   Pd MOL     1      -7.948   4.083  -7.948  1.00  0.00          PD  \nATOM    138   Pd MOL     1      -7.967   6.034  -6.034  1.00  0.00          PD  \nATOM    139   Pt MOL     1      -5.953   4.016  -5.953  1.00  0.00          PT  \nATOM    140   Pd MOL     1      -6.034   6.034  -7.967  1.00  0.00          PD  \nATOM    141   Pt MOL     1      -7.868   3.991  -3.991  1.00  0.00          PT  \nATOM    142   Pt MOL     1      -7.849   5.911  -2.045  1.00  0.00          PT  \nATOM    143   Pt MOL     1      -5.898   3.952  -1.995  1.00  0.00          PT  \nATOM    144   Pt MOL     1      -5.953   5.953  -4.016  1.00  0.00          PT  \nATOM    145   Pt MOL     1      -7.816   3.928   0.000  1.00  0.00          PT  \nATOM    146   Pt MOL     1      -7.849   5.911   2.045  1.00  0.00          PT  \nATOM    147   Pd MOL     1      -5.898   3.952   1.995  1.00  0.00          PD  \nATOM    148   Pd MOL     1      -5.894   5.894  -0.000  1.00  0.00          PD  \nATOM    149   Pd MOL     1      -7.868   3.991   3.991  1.00  0.00          PD  \nATOM    150   Pd MOL     1      -7.967   6.034   6.034  1.00  0.00          PD  \nATOM    151   Pt MOL     1      -5.953   4.016   5.953  1.00  0.00          PT  \nATOM    152   Pd MOL     1      -5.953   5.953   4.016  1.00  0.00          PD  \nATOM    153   Pt MOL     1      -7.948   4.083   7.948  1.00  0.00          PT  \nATOM    154   Pd MOL     1      -5.991   4.058   9.855  1.00  0.00          PD  \nATOM    155   Pd MOL     1      -6.034   6.034   7.967  1.00  0.00          PD  \nATOM    156   Pt MOL     1      -6.034   7.967  -6.034  1.00  0.00          PT  \nATOM    157   Pt MOL     1      -7.948   7.948  -4.083  1.00  0.00          PT  \nATOM    158   Pt MOL     1      -7.904   9.817  -2.107  1.00  0.00          PT  \nATOM    159   Pd MOL     1      -5.911   7.849  -2.045  1.00  0.00          PD  \nATOM    160   Pt MOL     1      -5.991   9.855  -4.058  1.00  0.00          PT  \nATOM    161   Pt MOL     1      -7.794   7.794  -0.000  1.00  0.00          PT  \nATOM    162   Pd MOL     1      -7.904   9.817   2.107  1.00  0.00          PD  \nATOM    163   Pt MOL     1      -5.911   7.849   2.045  1.00  0.00          PT  \nATOM    164   Pt MOL     1      -5.839   9.684  -0.000  1.00  0.00          PT  \nATOM    165   Pd MOL     1      -7.948   7.948   4.083  1.00  0.00          PD  \nATOM    166   Pd MOL     1      -6.034   7.967   6.034  1.00  0.00          PD  \nATOM    167   Pd MOL     1      -5.991   9.855   4.058  1.00  0.00          PD  \nATOM    168   Pd MOL     1      -5.839  11.626  -1.964  1.00  0.00          PD  \nATOM    169   Pd MOL     1      -7.720  11.517   0.000  1.00  0.00          PD  \nATOM    170   Pd MOL     1      -5.839  11.626   1.964  1.00  0.00          PD  \nATOM    171   Pt MOL     1      -4.058  -9.855  -5.991  1.00  0.00          PT  \nATOM    172   Pt MOL     1      -1.964 -11.626  -5.839  1.00  0.00          PT  \nATOM    173   Pt MOL     1      -2.107  -9.817  -7.904  1.00  0.00          PT  \nATOM    174   Pd MOL     1      -3.912 -11.651  -3.912  1.00  0.00          PD  \nATOM    175   Pt MOL     1      -3.899  -9.747  -1.969  1.00  0.00          PT  \nATOM    176   Pt MOL     1      -1.960 -11.758  -1.960  1.00  0.00          PT  \nATOM    177   Pt MOL     1      -1.969  -9.747  -3.899  1.00  0.00          PT  \nATOM    178   Pt MOL     1      -3.913 -11.716   0.000  1.00  0.00          PT  \nATOM    179   Pt MOL     1      -3.899  -9.747   1.969  1.00  0.00          PT  \nATOM    180   Pd MOL     1      -1.960 -11.758   1.960  1.00  0.00          PD  \nATOM    181   Pd MOL     1      -1.939  -9.807  -0.000  1.00  0.00          PD  \nATOM    182   Pd MOL     1      -3.912 -11.651   3.912  1.00  0.00          PD  \nATOM    183   Pt MOL     1      -4.058  -9.855   5.991  1.00  0.00          PT  \nATOM    184   Pd MOL     1      -1.964 -11.626   5.839  1.00  0.00          PD  \nATOM    185   Pd MOL     1      -1.969  -9.747   3.899  1.00  0.00          PD  \nATOM    186   Pd MOL     1      -2.107  -9.817   7.904  1.00  0.00          PD  \nATOM    187   Pd MOL     1      -4.058  -5.991  -9.855  1.00  0.00          PD  \nATOM    188   Pd MOL     1      -2.107  -7.904  -9.817  1.00  0.00          PD  \nATOM    189   Pd MOL     1      -1.964  -5.839 -11.626  1.00  0.00          PD  \nATOM    190   Pt MOL     1      -4.083  -7.948  -7.948  1.00  0.00          PT  \nATOM    191   Pd MOL     1      -4.016  -5.953  -5.953  1.00  0.00          PD  \nATOM    192   Pd MOL     1      -2.045  -7.849  -5.911  1.00  0.00          PD  \nATOM    193   Pt MOL     1      -2.045  -5.911  -7.849  1.00  0.00          PT  \nATOM    194   Pd MOL     1      -3.991  -7.868  -3.991  1.00  0.00          PD  \nATOM    195   Pd MOL     1      -3.952  -5.898  -1.995  1.00  0.00          PD  \nATOM    196   Pd MOL     1      -1.968  -7.819  -1.968  1.00  0.00          PD  \nATOM    197   Pt MOL     1      -1.995  -5.898  -3.952  1.00  0.00          PT  \nATOM    198   Pd MOL     1      -3.928  -7.816   0.000  1.00  0.00          PD  \nATOM    199   Pt MOL     1      -3.952  -5.898   1.995  1.00  0.00          PT  \nATOM    200   Pt MOL     1      -1.968  -7.819   1.968  1.00  0.00          PT  \nATOM    201   Pt MOL     1      -1.973  -5.872  -0.000  1.00  0.00          PT  \nATOM    202   Pd MOL     1      -3.991  -7.868   3.991  1.00  0.00          PD  \nATOM    203   Pt MOL     1      -4.016  -5.953   5.953  1.00  0.00          PT  \nATOM    204   Pd MOL     1      -2.045  -7.849   5.911  1.00  0.00          PD  \nATOM    205   Pd MOL     1      -1.995  -5.898   3.952  1.00  0.00          PD  \nATOM    206   Pt MOL     1      -4.083  -7.948   7.948  1.00  0.00          PT  \nATOM    207   Pd MOL     1      -4.058  -5.991   9.855  1.00  0.00          PD  \nATOM    208   Pd MOL     1      -2.107  -7.904   9.817  1.00  0.00          PD  \nATOM    209   Pd MOL     1      -2.045  -5.911   7.849  1.00  0.00          PD  \nATOM    210   Pt MOL     1      -1.964  -5.839  11.626  1.00  0.00          PT  \nATOM    211   Pt MOL     1      -3.912  -3.912 -11.651  1.00  0.00          PT  \nATOM    212   Pt MOL     1      -3.899  -1.969  -9.747  1.00  0.00          PT  \nATOM    213   Pt MOL     1      -1.969  -3.899  -9.747  1.00  0.00          PT  \nATOM    214   Pt MOL     1      -1.960  -1.960 -11.758  1.00  0.00          PT  \nATOM    215   Pd MOL     1      -3.991  -3.991  -7.868  1.00  0.00          PD  \nATOM    216   Pd MOL     1      -3.952  -1.995  -5.898  1.00  0.00          PD  \nATOM    217   Pt MOL     1      -1.995  -3.952  -5.898  1.00  0.00          PT  \nATOM    218   Pd MOL     1      -1.968  -1.968  -7.819  1.00  0.00          PD  \nATOM    219   Pd MOL     1      -3.969  -3.969  -3.969  1.00  0.00          PD  \nATOM    220   Pd MOL     1      -3.931  -1.977  -1.977  1.00  0.00          PD  \nATOM    221   Pd MOL     1      -1.977  -3.931  -1.977  1.00  0.00          PD  \nATOM    222   Pd MOL     1      -1.977  -1.977  -3.931  1.00  0.00          PD  \nATOM    223   Pt MOL     1      -3.933  -3.933   0.000  1.00  0.00          PT  \nATOM    224   Pd MOL     1      -3.931  -1.977   1.977  1.00  0.00          PD  \nATOM    225   Pt MOL     1      -1.977  -3.931   1.977  1.00  0.00          PT  \nATOM    226   Pd MOL     1      -1.967  -1.967   0.000  1.00  0.00          PD  \nATOM    227   Pd MOL     1      -3.969  -3.969   3.969  1.00  0.00          PD  \nATOM    228   Pd MOL     1      -3.952  -1.995   5.898  1.00  0.00          PD  \nATOM    229   Pt MOL     1      -1.995  -3.952   5.898  1.00  0.00          PT  \nATOM    230   Pd MOL     1      -1.977  -1.977   3.931  1.00  0.00          PD  \nATOM    231   Pd MOL     1      -3.991  -3.991   7.868  1.00  0.00          PD  \nATOM    232   Pd MOL     1      -3.899  -1.969   9.747  1.00  0.00          PD  \nATOM    233   Pd MOL     1      -1.969  -3.899   9.747  1.00  0.00          PD  \nATOM    234   Pd MOL     1      -1.968  -1.968   7.819  1.00  0.00          PD  \nATOM    235   Pt MOL     1      -3.912  -3.912  11.651  1.00  0.00          PT  \nATOM    236   Pd MOL     1      -1.960  -1.960  11.758  1.00  0.00          PD  \nATOM    237   Pd MOL     1      -3.913  -0.000 -11.716  1.00  0.00          PD  \nATOM    238   Pd MOL     1      -3.899   1.969  -9.747  1.00  0.00          PD  \nATOM    239   Pd MOL     1      -1.939   0.000  -9.807  1.00  0.00          PD  \nATOM    240   Pd MOL     1      -1.960   1.960 -11.758  1.00  0.00          PD  \nATOM    241   Pt MOL     1      -3.928  -0.000  -7.816  1.00  0.00          PT  \nATOM    242   Pd MOL     1      -3.952   1.995  -5.898  1.00  0.00          PD  \nATOM    243   Pd MOL     1      -1.973  -0.000  -5.872  1.00  0.00          PD  \nATOM    244   Pd MOL     1      -1.968   1.968  -7.819  1.00  0.00          PD  \nATOM    245   Pd MOL     1      -3.933  -0.000  -3.933  1.00  0.00          PD  \nATOM    246   Pt MOL     1      -3.931   1.977  -1.977  1.00  0.00          PT  \nATOM    247   Pt MOL     1      -1.967   0.000  -1.967  1.00  0.00          PT  \nATOM    248   Pd MOL     1      -1.977   1.977  -3.931  1.00  0.00          PD  \nATOM    249   Pt MOL     1      -3.918   0.000  -0.000  1.00  0.00          PT  \nATOM    250   Pd MOL     1      -3.931   1.977   1.977  1.00  0.00          PD  \nATOM    251   Pd MOL     1      -1.967  -0.000   1.967  1.00  0.00          PD  \nATOM    252   Pd MOL     1      -1.967   1.967  -0.000  1.00  0.00          PD  \nATOM    253   Pd MOL     1      -3.933   0.000   3.933  1.00  0.00          PD  \nATOM    254   Pt MOL     1      -3.952   1.995   5.898  1.00  0.00          PT  \nATOM    255   Pt MOL     1      -1.973   0.000   5.872  1.00  0.00          PT  \nATOM    256   Pd MOL     1      -1.977   1.977   3.931  1.00  0.00          PD  \nATOM    257   Pt MOL     1      -3.928  -0.000   7.816  1.00  0.00          PT  \nATOM    258   Pd MOL     1      -3.899   1.969   9.747  1.00  0.00          PD  \nATOM    259   Pd MOL     1      -1.939   0.000   9.807  1.00  0.00          PD  \nATOM    260   Pd MOL     1      -1.968   1.968   7.819  1.00  0.00          PD  \nATOM    261   Pd MOL     1      -3.913  -0.000  11.716  1.00  0.00          PD  \nATOM    262   Pd MOL     1      -1.960   1.960  11.758  1.00  0.00          PD  \nATOM    263   Pt MOL     1      -3.912   3.912 -11.651  1.00  0.00          PT  \nATOM    264   Pd MOL     1      -4.058   5.991  -9.855  1.00  0.00          PD  \nATOM    265   Pd MOL     1      -1.969   3.899  -9.747  1.00  0.00          PD  \nATOM    266   Pd MOL     1      -1.964   5.839 -11.626  1.00  0.00          PD  \nATOM    267   Pt MOL     1      -3.991   3.991  -7.868  1.00  0.00          PT  \nATOM    268   Pd MOL     1      -4.016   5.953  -5.953  1.00  0.00          PD  \nATOM    269   Pd MOL     1      -1.995   3.952  -5.898  1.00  0.00          PD  \nATOM    270   Pt MOL     1      -2.045   5.911  -7.849  1.00  0.00          PT  \nATOM    271   Pd MOL     1      -3.969   3.969  -3.969  1.00  0.00          PD  \nATOM    272   Pt MOL     1      -3.952   5.898  -1.995  1.00  0.00          PT  \nATOM    273   Pt MOL     1      -1.977   3.931  -1.977  1.00  0.00          PT  \nATOM    274   Pd MOL     1      -1.995   5.898  -3.952  1.00  0.00          PD  \nATOM    275   Pt MOL     1      -3.933   3.933  -0.000  1.00  0.00          PT  \nATOM    276   Pd MOL     1      -3.952   5.898   1.995  1.00  0.00          PD  \nATOM    277   Pd MOL     1      -1.977   3.931   1.977  1.00  0.00          PD  \nATOM    278   Pt MOL     1      -1.973   5.872  -0.000  1.00  0.00          PT  \nATOM    279   Pd MOL     1      -3.969   3.969   3.969  1.00  0.00          PD  \nATOM    280   Pd MOL     1      -4.016   5.953   5.953  1.00  0.00          PD  \nATOM    281   Pd MOL     1      -1.995   3.952   5.898  1.00  0.00          PD  \nATOM    282   Pt MOL     1      -1.995   5.898   3.952  1.00  0.00          PT  \nATOM    283   Pd MOL     1      -3.991   3.991   7.868  1.00  0.00          PD  \nATOM    284   Pd MOL     1      -4.058   5.991   9.855  1.00  0.00          PD  \nATOM    285   Pd MOL     1      -1.969   3.899   9.747  1.00  0.00          PD  \nATOM    286   Pd MOL     1      -2.045   5.911   7.849  1.00  0.00          PD  \nATOM    287   Pd MOL     1      -3.912   3.912  11.651  1.00  0.00          PD  \nATOM    288   Pt MOL     1      -1.964   5.839  11.626  1.00  0.00          PT  \nATOM    289   Pt MOL     1      -2.107   7.904  -9.817  1.00  0.00          PT  \nATOM    290   Pd MOL     1      -4.083   7.948  -7.948  1.00  0.00          PD  \nATOM    291   Pd MOL     1      -4.058   9.855  -5.991  1.00  0.00          PD  \nATOM    292   Pt MOL     1      -2.045   7.849  -5.911  1.00  0.00          PT  \nATOM    293   Pt MOL     1      -2.107   9.817  -7.904  1.00  0.00          PT  \nATOM    294   Pt MOL     1      -3.991   7.868  -3.991  1.00  0.00          PT  \nATOM    295   Pd MOL     1      -3.899   9.747  -1.969  1.00  0.00          PD  \nATOM    296   Pd MOL     1      -1.968   7.819  -1.968  1.00  0.00          PD  \nATOM    297   Pt MOL     1      -1.969   9.747  -3.899  1.00  0.00          PT  \nATOM    298   Pt MOL     1      -3.928   7.816   0.000  1.00  0.00          PT  \nATOM    299   Pd MOL     1      -3.899   9.747   1.969  1.00  0.00          PD  \nATOM    300   Pd MOL     1      -1.968   7.819   1.968  1.00  0.00          PD  \nATOM    301   Pd MOL     1      -1.939   9.807   0.000  1.00  0.00          PD  \nATOM    302   Pd MOL     1      -3.991   7.868   3.991  1.00  0.00          PD  \nATOM    303   Pt MOL     1      -4.058   9.855   5.991  1.00  0.00          PT  \nATOM    304   Pd MOL     1      -2.045   7.849   5.911  1.00  0.00          PD  \nATOM    305   Pt MOL     1      -1.969   9.747   3.899  1.00  0.00          PT  \nATOM    306   Pd MOL     1      -4.083   7.948   7.948  1.00  0.00          PD  \nATOM    307   Pd MOL     1      -2.107   7.904   9.817  1.00  0.00          PD  \nATOM    308   Pd MOL     1      -2.107   9.817   7.904  1.00  0.00          PD  \nATOM    309   Pt MOL     1      -1.964  11.626  -5.839  1.00  0.00          PT  \nATOM    310   Pd MOL     1      -3.912  11.651  -3.912  1.00  0.00          PD  \nATOM    311   Pt MOL     1      -1.960  11.758  -1.960  1.00  0.00          PT  \nATOM    312   Pt MOL     1      -3.913  11.716   0.000  1.00  0.00          PT  \nATOM    313   Pd MOL     1      -1.960  11.758   1.960  1.00  0.00          PD  \nATOM    314   Pd MOL     1      -3.912  11.651   3.912  1.00  0.00          PD  \nATOM    315   Pt MOL     1      -1.964  11.626   5.839  1.00  0.00          PT  \nATOM    316   Pt MOL     1       0.000  -9.689  -9.689  1.00  0.00          PT  \nATOM    317   Pd MOL     1      -0.000 -11.517  -7.720  1.00  0.00          PD  \nATOM    318   Pt MOL     1       0.000  -9.684  -5.839  1.00  0.00          PT  \nATOM    319   Pt MOL     1       1.964 -11.626  -5.839  1.00  0.00          PT  \nATOM    320   Pd MOL     1       2.107  -9.817  -7.904  1.00  0.00          PD  \nATOM    321   Pd MOL     1      -0.000 -11.716  -3.913  1.00  0.00          PD  \nATOM    322   Pt MOL     1       0.000  -9.807  -1.939  1.00  0.00          PT  \nATOM    323   Pd MOL     1       1.960 -11.758  -1.960  1.00  0.00          PD  \nATOM    324   Pd MOL     1       1.969  -9.747  -3.899  1.00  0.00          PD  \nATOM    325   Pd MOL     1      -0.000 -11.801  -0.000  1.00  0.00          PD  \nATOM    326   Pt MOL     1      -0.000  -9.807   1.939  1.00  0.00          PT  \nATOM    327   Pt MOL     1       1.960 -11.758   1.960  1.00  0.00          PT  \nATOM    328   Pt MOL     1       1.939  -9.807   0.000  1.00  0.00          PT  \nATOM    329   Pd MOL     1      -0.000 -11.716   3.913  1.00  0.00          PD  \nATOM    330   Pd MOL     1       0.000  -9.684   5.839  1.00  0.00          PD  \nATOM    331   Pd MOL     1       1.964 -11.626   5.839  1.00  0.00          PD  \nATOM    332   Pt MOL     1       1.969  -9.747   3.899  1.00  0.00          PT  \nATOM    333   Pt MOL     1      -0.000 -11.517   7.720  1.00  0.00          PT  \nATOM    334   Pd MOL     1       0.000  -9.689   9.689  1.00  0.00          PD  \nATOM    335   Pt MOL     1       2.107  -9.817   7.904  1.00  0.00          PT  \nATOM    336   Pd MOL     1      -0.000  -7.720 -11.517  1.00  0.00          PD  \nATOM    337   Pd MOL     1       0.000  -5.839  -9.684  1.00  0.00          PD  \nATOM    338   Pd MOL     1       2.107  -7.904  -9.817  1.00  0.00          PD  \nATOM    339   Pt MOL     1       1.964  -5.839 -11.626  1.00  0.00          PT  \nATOM    340   Pd MOL     1      -0.000  -7.794  -7.794  1.00  0.00          PD  \nATOM    341   Pt MOL     1      -0.000  -5.894  -5.894  1.00  0.00          PT  \nATOM    342   Pt MOL     1       2.045  -7.849  -5.911  1.00  0.00          PT  \nATOM    343   Pd MOL     1       2.045  -5.911  -7.849  1.00  0.00          PD  \nATOM    344   Pd MOL     1      -0.000  -7.816  -3.928  1.00  0.00          PD  \nATOM    345   Pt MOL     1      -0.000  -5.872  -1.973  1.00  0.00          PT  \nATOM    346   Pd MOL     1       1.968  -7.819  -1.968  1.00  0.00          PD  \nATOM    347   Pt MOL     1       1.995  -5.898  -3.952  1.00  0.00          PT  \nATOM    348   Pt MOL     1      -0.000  -7.822   0.000  1.00  0.00          PT  \nATOM    349   Pd MOL     1      -0.000  -5.872   1.973  1.00  0.00          PD  \nATOM    350   Pd MOL     1       1.968  -7.819   1.968  1.00  0.00          PD  \nATOM    351   Pd MOL     1       1.973  -5.872  -0.000  1.00  0.00          PD  \nATOM    352   Pd MOL     1       0.000  -7.816   3.928  1.00  0.00          PD  \nATOM    353   Pd MOL     1       0.000  -5.894   5.894  1.00  0.00          PD  \nATOM    354   Pd MOL     1       2.045  -7.849   5.911  1.00  0.00          PD  \nATOM    355   Pd MOL     1       1.995  -5.898   3.952  1.00  0.00          PD  \nATOM    356   Pt MOL     1       0.000  -7.794   7.794  1.00  0.00          PT  \nATOM    357   Pt MOL     1       0.000  -5.839   9.684  1.00  0.00          PT  \nATOM    358   Pd MOL     1       2.107  -7.904   9.817  1.00  0.00          PD  \nATOM    359   Pt MOL     1       2.045  -5.911   7.849  1.00  0.00          PT  \nATOM    360   Pd MOL     1       0.000  -7.720  11.517  1.00  0.00          PD  \nATOM    361   Pd MOL     1       1.964  -5.839  11.626  1.00  0.00          PD  \nATOM    362   Pt MOL     1       0.000  -3.913 -11.716  1.00  0.00          PT  \nATOM    363   Pt MOL     1      -0.000  -1.939  -9.807  1.00  0.00          PT  \nATOM    364   Pd MOL     1       1.969  -3.899  -9.747  1.00  0.00          PD  \nATOM    365   Pd MOL     1       1.960  -1.960 -11.758  1.00  0.00          PD  \nATOM    366   Pd MOL     1       0.000  -3.928  -7.816  1.00  0.00          PD  \nATOM    367   Pd MOL     1      -0.000  -1.973  -5.872  1.00  0.00          PD  \nATOM    368   Pd MOL     1       1.995  -3.952  -5.898  1.00  0.00          PD  \nATOM    369   Pd MOL     1       1.968  -1.968  -7.819  1.00  0.00          PD  \nATOM    370   Pd MOL     1       0.000  -3.933  -3.933  1.00  0.00          PD  \nATOM    371   Pd MOL     1      -0.000  -1.967  -1.967  1.00  0.00          PD  \nATOM    372   Pt MOL     1       1.977  -3.931  -1.977  1.00  0.00          PT  \nATOM    373   Pt MOL     1       1.977  -1.977  -3.931  1.00  0.00          PT  \nATOM    374   Pd MOL     1       0.000  -3.918   0.000  1.00  0.00          PD  \nATOM    375   Pd MOL     1       0.000  -1.967   1.967  1.00  0.00          PD  \nATOM    376   Pt MOL     1       1.977  -3.931   1.977  1.00  0.00          PT  \nATOM    377   Pt MOL     1       1.967  -1.967  -0.000  1.00  0.00          PT  \nATOM    378   Pd MOL     1      -0.000  -3.933   3.933  1.00  0.00          PD  \nATOM    379   Pt MOL     1      -0.000  -1.973   5.872  1.00  0.00          PT  \nATOM    380   Pd MOL     1       1.995  -3.952   5.898  1.00  0.00          PD  \nATOM    381   Pd MOL     1       1.977  -1.977   3.931  1.00  0.00          PD  \nATOM    382   Pt MOL     1       0.000  -3.928   7.816  1.00  0.00          PT  \nATOM    383   Pd MOL     1      -0.000  -1.939   9.807  1.00  0.00          PD  \nATOM    384   Pt MOL     1       1.969  -3.899   9.747  1.00  0.00          PT  \nATOM    385   Pd MOL     1       1.968  -1.968   7.819  1.00  0.00          PD  \nATOM    386   Pt MOL     1       0.000  -3.913  11.716  1.00  0.00          PT  \nATOM    387   Pt MOL     1       1.960  -1.960  11.758  1.00  0.00          PT  \nATOM    388   Pt MOL     1      -0.000   0.000 -11.801  1.00  0.00          PT  \nATOM    389   Pd MOL     1      -0.000   1.939  -9.807  1.00  0.00          PD  \nATOM    390   Pt MOL     1       1.939  -0.000  -9.807  1.00  0.00          PT  \nATOM    391   Pd MOL     1       1.960   1.960 -11.758  1.00  0.00          PD  \nATOM    392   Pt MOL     1       0.000  -0.000  -7.822  1.00  0.00          PT  \nATOM    393   Pd MOL     1       0.000   1.973  -5.872  1.00  0.00          PD  \nATOM    394   Pt MOL     1       1.973  -0.000  -5.872  1.00  0.00          PT  \nATOM    395   Pd MOL     1       1.968   1.968  -7.819  1.00  0.00          PD  \nATOM    396   Pt MOL     1       0.000  -0.000  -3.918  1.00  0.00          PT  \nATOM    397   Pt MOL     1       0.000   1.967  -1.967  1.00  0.00          PT  \nATOM    398   Pt MOL     1       1.967   0.000  -1.967  1.00  0.00          PT  \nATOM    399   Pd MOL     1       1.977   1.977  -3.931  1.00  0.00          PD  \nATOM    400   Pd MOL     1      -0.000   0.000  -0.000  1.00  0.00          PD  \nATOM    401   Pt MOL     1       0.000   1.967   1.967  1.00  0.00          PT  \nATOM    402   Pt MOL     1       1.967   0.000   1.967  1.00  0.00          PT  \nATOM    403   Pd MOL     1       1.967   1.967   0.000  1.00  0.00          PD  \nATOM    404   Pd MOL     1      -0.000   0.000   3.918  1.00  0.00          PD  \nATOM    405   Pt MOL     1       0.000   1.973   5.872  1.00  0.00          PT  \nATOM    406   Pt MOL     1       1.973  -0.000   5.872  1.00  0.00          PT  \nATOM    407   Pd MOL     1       1.977   1.977   3.931  1.00  0.00          PD  \nATOM    408   Pt MOL     1       0.000   0.000   7.822  1.00  0.00          PT  \nATOM    409   Pd MOL     1      -0.000   1.939   9.807  1.00  0.00          PD  \nATOM    410   Pd MOL     1       1.939   0.000   9.807  1.00  0.00          PD  \nATOM    411   Pd MOL     1       1.968   1.968   7.819  1.00  0.00          PD  \nATOM    412   Pd MOL     1       0.000  -0.000  11.801  1.00  0.00          PD  \nATOM    413   Pd MOL     1       1.960   1.960  11.758  1.00  0.00          PD  \nATOM    414   Pd MOL     1      -0.000   3.913 -11.716  1.00  0.00          PD  \nATOM    415   Pd MOL     1      -0.000   5.839  -9.684  1.00  0.00          PD  \nATOM    416   Pt MOL     1       1.969   3.899  -9.747  1.00  0.00          PT  \nATOM    417   Pd MOL     1       1.964   5.839 -11.626  1.00  0.00          PD  \nATOM    418   Pd MOL     1       0.000   3.928  -7.816  1.00  0.00          PD  \nATOM    419   Pd MOL     1       0.000   5.894  -5.894  1.00  0.00          PD  \nATOM    420   Pd MOL     1       1.995   3.952  -5.898  1.00  0.00          PD  \nATOM    421   Pt MOL     1       2.045   5.911  -7.849  1.00  0.00          PT  \nATOM    422   Pd MOL     1      -0.000   3.933  -3.933  1.00  0.00          PD  \nATOM    423   Pt MOL     1      -0.000   5.872  -1.973  1.00  0.00          PT  \nATOM    424   Pd MOL     1       1.977   3.931  -1.977  1.00  0.00          PD  \nATOM    425   Pt MOL     1       1.995   5.898  -3.952  1.00  0.00          PT  \nATOM    426   Pt MOL     1       0.000   3.918   0.000  1.00  0.00          PT  \nATOM    427   Pt MOL     1      -0.000   5.872   1.973  1.00  0.00          PT  \nATOM    428   Pt MOL     1       1.977   3.931   1.977  1.00  0.00          PT  \nATOM    429   Pd MOL     1       1.973   5.872   0.000  1.00  0.00          PD  \nATOM    430   Pt MOL     1      -0.000   3.933   3.933  1.00  0.00          PT  \nATOM    431   Pd MOL     1      -0.000   5.894   5.894  1.00  0.00          PD  \nATOM    432   Pt MOL     1       1.995   3.952   5.898  1.00  0.00          PT  \nATOM    433   Pd MOL     1       1.995   5.898   3.952  1.00  0.00          PD  \nATOM    434   Pd MOL     1      -0.000   3.928   7.816  1.00  0.00          PD  \nATOM    435   Pd MOL     1      -0.000   5.839   9.684  1.00  0.00          PD  \nATOM    436   Pd MOL     1       1.969   3.899   9.747  1.00  0.00          PD  \nATOM    437   Pt MOL     1       2.045   5.911   7.849  1.00  0.00          PT  \nATOM    438   Pt MOL     1       0.000   3.913  11.716  1.00  0.00          PT  \nATOM    439   Pd MOL     1       1.964   5.839  11.626  1.00  0.00          PD  \nATOM    440   Pt MOL     1       0.000   7.720 -11.517  1.00  0.00          PT  \nATOM    441   Pt MOL     1       0.000   9.689  -9.689  1.00  0.00          PT  \nATOM    442   Pt MOL     1       2.107   7.904  -9.817  1.00  0.00          PT  \nATOM    443   Pt MOL     1       0.000   7.794  -7.794  1.00  0.00          PT  \nATOM    444   Pd MOL     1       0.000   9.684  -5.839  1.00  0.00          PD  \nATOM    445   Pt MOL     1       2.045   7.849  -5.911  1.00  0.00          PT  \nATOM    446   Pd MOL     1       2.107   9.817  -7.904  1.00  0.00          PD  \nATOM    447   Pd MOL     1       0.000   7.816  -3.928  1.00  0.00          PD  \nATOM    448   Pd MOL     1      -0.000   9.807  -1.939  1.00  0.00          PD  \nATOM    449   Pt MOL     1       1.968   7.819  -1.968  1.00  0.00          PT  \nATOM    450   Pd MOL     1       1.969   9.747  -3.899  1.00  0.00          PD  \nATOM    451   Pd MOL     1       0.000   7.822  -0.000  1.00  0.00          PD  \nATOM    452   Pt MOL     1      -0.000   9.807   1.939  1.00  0.00          PT  \nATOM    453   Pd MOL     1       1.968   7.819   1.968  1.00  0.00          PD  \nATOM    454   Pt MOL     1       1.939   9.807   0.000  1.00  0.00          PT  \nATOM    455   Pt MOL     1       0.000   7.816   3.928  1.00  0.00          PT  \nATOM    456   Pd MOL     1      -0.000   9.684   5.839  1.00  0.00          PD  \nATOM    457   Pd MOL     1       2.045   7.849   5.911  1.00  0.00          PD  \nATOM    458   Pd MOL     1       1.969   9.747   3.899  1.00  0.00          PD  \nATOM    459   Pd MOL     1      -0.000   7.794   7.794  1.00  0.00          PD  \nATOM    460   Pt MOL     1      -0.000   9.689   9.689  1.00  0.00          PT  \nATOM    461   Pt MOL     1       2.107   7.904   9.817  1.00  0.00          PT  \nATOM    462   Pd MOL     1       2.107   9.817   7.904  1.00  0.00          PD  \nATOM    463   Pt MOL     1       0.000   7.720  11.517  1.00  0.00          PT  \nATOM    464   Pd MOL     1      -0.000  11.517  -7.720  1.00  0.00          PD  \nATOM    465   Pd MOL     1       1.964  11.626  -5.839  1.00  0.00          PD  \nATOM    466   Pd MOL     1       0.000  11.716  -3.913  1.00  0.00          PD  \nATOM    467   Pd MOL     1       1.960  11.758  -1.960  1.00  0.00          PD  \nATOM    468   Pt MOL     1       0.000  11.801   0.000  1.00  0.00          PT  \nATOM    469   Pt MOL     1       1.960  11.758   1.960  1.00  0.00          PT  \nATOM    470   Pd MOL     1       0.000  11.716   3.913  1.00  0.00          PD  \nATOM    471   Pd MOL     1       1.964  11.626   5.839  1.00  0.00          PD  \nATOM    472   Pd MOL     1      -0.000  11.517   7.720  1.00  0.00          PD  \nATOM    473   Pt MOL     1       4.058  -9.855  -5.991  1.00  0.00          PT  \nATOM    474   Pd MOL     1       3.912 -11.651  -3.912  1.00  0.00          PD  \nATOM    475   Pt MOL     1       3.899  -9.747  -1.969  1.00  0.00          PT  \nATOM    476   Pd MOL     1       5.839 -11.626  -1.964  1.00  0.00          PD  \nATOM    477   Pd MOL     1       5.991  -9.855  -4.058  1.00  0.00          PD  \nATOM    478   Pt MOL     1       3.913 -11.716  -0.000  1.00  0.00          PT  \nATOM    479   Pt MOL     1       3.899  -9.747   1.969  1.00  0.00          PT  \nATOM    480   Pd MOL     1       5.839 -11.626   1.964  1.00  0.00          PD  \nATOM    481   Pd MOL     1       5.839  -9.684  -0.000  1.00  0.00          PD  \nATOM    482   Pd MOL     1       3.912 -11.651   3.912  1.00  0.00          PD  \nATOM    483   Pt MOL     1       4.058  -9.855   5.991  1.00  0.00          PT  \nATOM    484   Pd MOL     1       5.991  -9.855   4.058  1.00  0.00          PD  \nATOM    485   Pt MOL     1       4.058  -5.991  -9.855  1.00  0.00          PT  \nATOM    486   Pd MOL     1       4.083  -7.948  -7.948  1.00  0.00          PD  \nATOM    487   Pd MOL     1       4.016  -5.953  -5.953  1.00  0.00          PD  \nATOM    488   Pt MOL     1       6.034  -7.967  -6.034  1.00  0.00          PT  \nATOM    489   Pt MOL     1       6.034  -6.034  -7.967  1.00  0.00          PT  \nATOM    490   Pt MOL     1       3.991  -7.868  -3.991  1.00  0.00          PT  \nATOM    491   Pt MOL     1       3.952  -5.898  -1.995  1.00  0.00          PT  \nATOM    492   Pd MOL     1       5.911  -7.849  -2.045  1.00  0.00          PD  \nATOM    493   Pt MOL     1       5.953  -5.953  -4.016  1.00  0.00          PT  \nATOM    494   Pt MOL     1       3.928  -7.816  -0.000  1.00  0.00          PT  \nATOM    495   Pt MOL     1       3.952  -5.898   1.995  1.00  0.00          PT  \nATOM    496   Pd MOL     1       5.911  -7.849   2.045  1.00  0.00          PD  \nATOM    497   Pt MOL     1       5.894  -5.894  -0.000  1.00  0.00          PT  \nATOM    498   Pt MOL     1       3.991  -7.868   3.991  1.00  0.00          PT  \nATOM    499   Pd MOL     1       4.016  -5.953   5.953  1.00  0.00          PD  \nATOM    500   Pt MOL     1       6.034  -7.967   6.034  1.00  0.00          PT  \nATOM    501   Pd MOL     1       5.953  -5.953   4.016  1.00  0.00          PD  \nATOM    502   Pt MOL     1       4.083  -7.948   7.948  1.00  0.00          PT  \nATOM    503   Pd MOL     1       4.058  -5.991   9.855  1.00  0.00          PD  \nATOM    504   Pd MOL     1       6.034  -6.034   7.967  1.00  0.00          PD  \nATOM    505   Pt MOL     1       3.912  -3.912 -11.651  1.00  0.00          PT  \nATOM    506   Pt MOL     1       3.899  -1.969  -9.747  1.00  0.00          PT  \nATOM    507   Pd MOL     1       5.991  -4.058  -9.855  1.00  0.00          PD  \nATOM    508   Pd MOL     1       5.839  -1.964 -11.626  1.00  0.00          PD  \nATOM    509   Pt MOL     1       3.991  -3.991  -7.868  1.00  0.00          PT  \nATOM    510   Pt MOL     1       3.952  -1.995  -5.898  1.00  0.00          PT  \nATOM    511   Pt MOL     1       5.953  -4.016  -5.953  1.00  0.00          PT  \nATOM    512   Pd MOL     1       5.911  -2.045  -7.849  1.00  0.00          PD  \nATOM    513   Pt MOL     1       3.969  -3.969  -3.969  1.00  0.00          PT  \nATOM    514   Pd MOL     1       3.931  -1.977  -1.977  1.00  0.00          PD  \nATOM    515   Pt MOL     1       5.898  -3.952  -1.995  1.00  0.00          PT  \nATOM    516   Pd MOL     1       5.898  -1.995  -3.952  1.00  0.00          PD  \nATOM    517   Pt MOL     1       3.933  -3.933  -0.000  1.00  0.00          PT  \nATOM    518   Pd MOL     1       3.931  -1.977   1.977  1.00  0.00          PD  \nATOM    519   Pd MOL     1       5.898  -3.952   1.995  1.00  0.00          PD  \nATOM    520   Pd MOL     1       5.872  -1.973   0.000  1.00  0.00          PD  \nATOM    521   Pt MOL     1       3.969  -3.969   3.969  1.00  0.00          PT  \nATOM    522   Pt MOL     1       3.952  -1.995   5.898  1.00  0.00          PT  \nATOM    523   Pt MOL     1       5.953  -4.016   5.953  1.00  0.00          PT  \nATOM    524   Pt MOL     1       5.898  -1.995   3.952  1.00  0.00          PT  \nATOM    525   Pd MOL     1       3.991  -3.991   7.868  1.00  0.00          PD  \nATOM    526   Pd MOL     1       3.899  -1.969   9.747  1.00  0.00          PD  \nATOM    527   Pd MOL     1       5.991  -4.058   9.855  1.00  0.00          PD  \nATOM    528   Pt MOL     1       5.911  -2.045   7.849  1.00  0.00          PT  \nATOM    529   Pt MOL     1       3.912  -3.912  11.651  1.00  0.00          PT  \nATOM    530   Pd MOL     1       5.839  -1.964  11.626  1.00  0.00          PD  \nATOM    531   Pt MOL     1       3.913   0.000 -11.716  1.00  0.00          PT  \nATOM    532   Pt MOL     1       3.899   1.969  -9.747  1.00  0.00          PT  \nATOM    533   Pd MOL     1       5.839   0.000  -9.684  1.00  0.00          PD  \nATOM    534   Pd MOL     1       5.839   1.964 -11.626  1.00  0.00          PD  \nATOM    535   Pt MOL     1       3.928   0.000  -7.816  1.00  0.00          PT  \nATOM    536   Pt MOL     1       3.952   1.995  -5.898  1.00  0.00          PT  \nATOM    537   Pt MOL     1       5.894  -0.000  -5.894  1.00  0.00          PT  \nATOM    538   Pd MOL     1       5.911   2.045  -7.849  1.00  0.00          PD  \nATOM    539   Pt MOL     1       3.933  -0.000  -3.933  1.00  0.00          PT  \nATOM    540   Pd MOL     1       3.931   1.977  -1.977  1.00  0.00          PD  \nATOM    541   Pt MOL     1       5.872   0.000  -1.973  1.00  0.00          PT  \nATOM    542   Pd MOL     1       5.898   1.995  -3.952  1.00  0.00          PD  \nATOM    543   Pt MOL     1       3.918  -0.000   0.000  1.00  0.00          PT  \nATOM    544   Pd MOL     1       3.931   1.977   1.977  1.00  0.00          PD  \nATOM    545   Pt MOL     1       5.872   0.000   1.973  1.00  0.00          PT  \nATOM    546   Pd MOL     1       5.872   1.973   0.000  1.00  0.00          PD  \nATOM    547   Pd MOL     1       3.933   0.000   3.933  1.00  0.00          PD  \nATOM    548   Pt MOL     1       3.952   1.995   5.898  1.00  0.00          PT  \nATOM    549   Pd MOL     1       5.894  -0.000   5.894  1.00  0.00          PD  \nATOM    550   Pt MOL     1       5.898   1.995   3.952  1.00  0.00          PT  \nATOM    551   Pt MOL     1       3.928   0.000   7.816  1.00  0.00          PT  \nATOM    552   Pd MOL     1       3.899   1.969   9.747  1.00  0.00          PD  \nATOM    553   Pt MOL     1       5.839   0.000   9.684  1.00  0.00          PT  \nATOM    554   Pt MOL     1       5.911   2.045   7.849  1.00  0.00          PT  \nATOM    555   Pt MOL     1       3.913  -0.000  11.716  1.00  0.00          PT  \nATOM    556   Pt MOL     1       5.839   1.964  11.626  1.00  0.00          PT  \nATOM    557   Pt MOL     1       3.912   3.912 -11.651  1.00  0.00          PT  \nATOM    558   Pd MOL     1       4.058   5.991  -9.855  1.00  0.00          PD  \nATOM    559   Pd MOL     1       5.991   4.058  -9.855  1.00  0.00          PD  \nATOM    560   Pt MOL     1       3.991   3.991  -7.868  1.00  0.00          PT  \nATOM    561   Pd MOL     1       4.016   5.953  -5.953  1.00  0.00          PD  \nATOM    562   Pd MOL     1       5.953   4.016  -5.953  1.00  0.00          PD  \nATOM    563   Pd MOL     1       6.034   6.034  -7.967  1.00  0.00          PD  \nATOM    564   Pd MOL     1       3.969   3.969  -3.969  1.00  0.00          PD  \nATOM    565   Pd MOL     1       3.952   5.898  -1.995  1.00  0.00          PD  \nATOM    566   Pt MOL     1       5.898   3.952  -1.995  1.00  0.00          PT  \nATOM    567   Pt MOL     1       5.953   5.953  -4.016  1.00  0.00          PT  \nATOM    568   Pt MOL     1       3.933   3.933   0.000  1.00  0.00          PT  \nATOM    569   Pd MOL     1       3.952   5.898   1.995  1.00  0.00          PD  \nATOM    570   Pt MOL     1       5.898   3.952   1.995  1.00  0.00          PT  \nATOM    571   Pd MOL     1       5.894   5.894   0.000  1.00  0.00          PD  \nATOM    572   Pd MOL     1       3.969   3.969   3.969  1.00  0.00          PD  \nATOM    573   Pd MOL     1       4.016   5.953   5.953  1.00  0.00          PD  \nATOM    574   Pt MOL     1       5.953   4.016   5.953  1.00  0.00          PT  \nATOM    575   Pt MOL     1       5.953   5.953   4.016  1.00  0.00          PT  \nATOM    576   Pt MOL     1       3.991   3.991   7.868  1.00  0.00          PT  \nATOM    577   Pd MOL     1       4.058   5.991   9.855  1.00  0.00          PD  \nATOM    578   Pd MOL     1       5.991   4.058   9.855  1.00  0.00          PD  \nATOM    579   Pt MOL     1       6.034   6.034   7.967  1.00  0.00          PT  \nATOM    580   Pt MOL     1       3.912   3.912  11.651  1.00  0.00          PT  \nATOM    581   Pd MOL     1       4.083   7.948  -7.948  1.00  0.00          PD  \nATOM    582   Pt MOL     1       4.058   9.855  -5.991  1.00  0.00          PT  \nATOM    583   Pt MOL     1       6.034   7.967  -6.034  1.00  0.00          PT  \nATOM    584   Pt MOL     1       3.991   7.868  -3.991  1.00  0.00          PT  \nATOM    585   Pd MOL     1       3.899   9.747  -1.969  1.00  0.00          PD  \nATOM    586   Pt MOL     1       5.911   7.849  -2.045  1.00  0.00          PT  \nATOM    587   Pt MOL     1       5.991   9.855  -4.058  1.00  0.00          PT  \nATOM    588   Pt MOL     1       3.928   7.816   0.000  1.00  0.00          PT  \nATOM    589   Pt MOL     1       3.899   9.747   1.969  1.00  0.00          PT  \nATOM    590   Pd MOL     1       5.911   7.849   2.045  1.00  0.00          PD  \nATOM    591   Pd MOL     1       5.839   9.684  -0.000  1.00  0.00          PD  \nATOM    592   Pd MOL     1       3.991   7.868   3.991  1.00  0.00          PD  \nATOM    593   Pd MOL     1       4.058   9.855   5.991  1.00  0.00          PD  \nATOM    594   Pt MOL     1       6.034   7.967   6.034  1.00  0.00          PT  \nATOM    595   Pt MOL     1       5.991   9.855   4.058  1.00  0.00          PT  \nATOM    596   Pt MOL     1       4.083   7.948   7.948  1.00  0.00          PT  \nATOM    597   Pd MOL     1       3.912  11.651  -3.912  1.00  0.00          PD  \nATOM    598   Pd MOL     1       5.839  11.626  -1.964  1.00  0.00          PD  \nATOM    599   Pd MOL     1       3.913  11.716   0.000  1.00  0.00          PD  \nATOM    600   Pd MOL     1       5.839  11.626   1.964  1.00  0.00          PD  \nATOM    601   Pd MOL     1       3.912  11.651   3.912  1.00  0.00          PD  \nATOM    602   Pt MOL     1       7.904  -9.817  -2.107  1.00  0.00          PT  \nATOM    603   Pt MOL     1       7.720 -11.517   0.000  1.00  0.00          PT  \nATOM    604   Pd MOL     1       7.904  -9.817   2.107  1.00  0.00          PD  \nATOM    605   Pd MOL     1       9.689  -9.689  -0.000  1.00  0.00          PD  \nATOM    606   Pd MOL     1       7.967  -6.034  -6.034  1.00  0.00          PD  \nATOM    607   Pd MOL     1       7.948  -7.948  -4.083  1.00  0.00          PD  \nATOM    608   Pd MOL     1       7.849  -5.911  -2.045  1.00  0.00          PD  \nATOM    609   Pt MOL     1       9.817  -7.904  -2.107  1.00  0.00          PT  \nATOM    610   Pd MOL     1       9.855  -5.991  -4.058  1.00  0.00          PD  \nATOM    611   Pd MOL     1       7.794  -7.794  -0.000  1.00  0.00          PD  \nATOM    612   Pd MOL     1       7.849  -5.911   2.045  1.00  0.00          PD  \nATOM    613   Pt MOL     1       9.817  -7.904   2.107  1.00  0.00          PT  \nATOM    614   Pd MOL     1       9.684  -5.839   0.000  1.00  0.00          PD  \nATOM    615   Pt MOL     1       7.948  -7.948   4.083  1.00  0.00          PT  \nATOM    616   Pt MOL     1       7.967  -6.034   6.034  1.00  0.00          PT  \nATOM    617   Pd MOL     1       9.855  -5.991   4.058  1.00  0.00          PD  \nATOM    618   Pt MOL     1       7.904  -2.107  -9.817  1.00  0.00          PT  \nATOM    619   Pt MOL     1       7.948  -4.083  -7.948  1.00  0.00          PT  \nATOM    620   Pt MOL     1       7.849  -2.045  -5.911  1.00  0.00          PT  \nATOM    621   Pd MOL     1       9.855  -4.058  -5.991  1.00  0.00          PD  \nATOM    622   Pd MOL     1       9.817  -2.107  -7.904  1.00  0.00          PD  \nATOM    623   Pd MOL     1       7.868  -3.991  -3.991  1.00  0.00          PD  \nATOM    624   Pd MOL     1       7.819  -1.968  -1.968  1.00  0.00          PD  \nATOM    625   Pd MOL     1       9.747  -3.899  -1.969  1.00  0.00          PD  \nATOM    626   Pd MOL     1       9.747  -1.969  -3.899  1.00  0.00          PD  \nATOM    627   Pt MOL     1       7.816  -3.928  -0.000  1.00  0.00          PT  \nATOM    628   Pt MOL     1       7.819  -1.968   1.968  1.00  0.00          PT  \nATOM    629   Pd MOL     1       9.747  -3.899   1.969  1.00  0.00          PD  \nATOM    630   Pd MOL     1       9.807  -1.939  -0.000  1.00  0.00          PD  \nATOM    631   Pd MOL     1       7.868  -3.991   3.991  1.00  0.00          PD  \nATOM    632   Pd MOL     1       7.849  -2.045   5.911  1.00  0.00          PD  \nATOM    633   Pd MOL     1       9.855  -4.058   5.991  1.00  0.00          PD  \nATOM    634   Pt MOL     1       9.747  -1.969   3.899  1.00  0.00          PT  \nATOM    635   Pd MOL     1       7.948  -4.083   7.948  1.00  0.00          PD  \nATOM    636   Pt MOL     1       7.904  -2.107   9.817  1.00  0.00          PT  \nATOM    637   Pd MOL     1       9.817  -2.107   7.904  1.00  0.00          PD  \nATOM    638   Pt MOL     1       7.720   0.000 -11.517  1.00  0.00          PT  \nATOM    639   Pd MOL     1       7.904   2.107  -9.817  1.00  0.00          PD  \nATOM    640   Pt MOL     1       9.689  -0.000  -9.689  1.00  0.00          PT  \nATOM    641   Pt MOL     1       7.794  -0.000  -7.794  1.00  0.00          PT  \nATOM    642   Pd MOL     1       7.849   2.045  -5.911  1.00  0.00          PD  \nATOM    643   Pd MOL     1       9.684  -0.000  -5.839  1.00  0.00          PD  \nATOM    644   Pt MOL     1       9.817   2.107  -7.904  1.00  0.00          PT  \nATOM    645   Pd MOL     1       7.816   0.000  -3.928  1.00  0.00          PD  \nATOM    646   Pt MOL     1       7.819   1.968  -1.968  1.00  0.00          PT  \nATOM    647   Pd MOL     1       9.807  -0.000  -1.939  1.00  0.00          PD  \nATOM    648   Pd MOL     1       9.747   1.969  -3.899  1.00  0.00          PD  \nATOM    649   Pt MOL     1       7.822   0.000   0.000  1.00  0.00          PT  \nATOM    650   Pd MOL     1       7.819   1.968   1.968  1.00  0.00          PD  \nATOM    651   Pt MOL     1       9.807   0.000   1.939  1.00  0.00          PT  \nATOM    652   Pt MOL     1       9.807   1.939  -0.000  1.00  0.00          PT  \nATOM    653   Pd MOL     1       7.816   0.000   3.928  1.00  0.00          PD  \nATOM    654   Pt MOL     1       7.849   2.045   5.911  1.00  0.00          PT  \nATOM    655   Pt MOL     1       9.684   0.000   5.839  1.00  0.00          PT  \nATOM    656   Pd MOL     1       9.747   1.969   3.899  1.00  0.00          PD  \nATOM    657   Pd MOL     1       7.794  -0.000   7.794  1.00  0.00          PD  \nATOM    658   Pd MOL     1       7.904   2.107   9.817  1.00  0.00          PD  \nATOM    659   Pd MOL     1       9.689  -0.000   9.689  1.00  0.00          PD  \nATOM    660   Pt MOL     1       9.817   2.107   7.904  1.00  0.00          PT  \nATOM    661   Pd MOL     1       7.720  -0.000  11.517  1.00  0.00          PD  \nATOM    662   Pt MOL     1       7.948   4.083  -7.948  1.00  0.00          PT  \nATOM    663   Pd MOL     1       7.967   6.034  -6.034  1.00  0.00          PD  \nATOM    664   Pd MOL     1       9.855   4.058  -5.991  1.00  0.00          PD  \nATOM    665   Pt MOL     1       7.868   3.991  -3.991  1.00  0.00          PT  \nATOM    666   Pd MOL     1       7.849   5.911  -2.045  1.00  0.00          PD  \nATOM    667   Pd MOL     1       9.747   3.899  -1.969  1.00  0.00          PD  \nATOM    668   Pt MOL     1       9.855   5.991  -4.058  1.00  0.00          PT  \nATOM    669   Pt MOL     1       7.816   3.928   0.000  1.00  0.00          PT  \nATOM    670   Pd MOL     1       7.849   5.911   2.045  1.00  0.00          PD  \nATOM    671   Pt MOL     1       9.747   3.899   1.969  1.00  0.00          PT  \nATOM    672   Pt MOL     1       9.684   5.839  -0.000  1.00  0.00          PT  \nATOM    673   Pt MOL     1       7.868   3.991   3.991  1.00  0.00          PT  \nATOM    674   Pt MOL     1       7.967   6.034   6.034  1.00  0.00          PT  \nATOM    675   Pd MOL     1       9.855   4.058   5.991  1.00  0.00          PD  \nATOM    676   Pd MOL     1       9.855   5.991   4.058  1.00  0.00          PD  \nATOM    677   Pt MOL     1       7.948   4.083   7.948  1.00  0.00          PT  \nATOM    678   Pd MOL     1       7.948   7.948  -4.083  1.00  0.00          PD  \nATOM    679   Pt MOL     1       7.904   9.817  -2.107  1.00  0.00          PT  \nATOM    680   Pd MOL     1       9.817   7.904  -2.107  1.00  0.00          PD  \nATOM    681   Pt MOL     1       7.794   7.794   0.000  1.00  0.00          PT  \nATOM    682   Pt MOL     1       7.904   9.817   2.107  1.00  0.00          PT  \nATOM    683   Pt MOL     1       9.817   7.904   2.107  1.00  0.00          PT  \nATOM    684   Pd MOL     1       9.689   9.689   0.000  1.00  0.00          PD  \nATOM    685   Pt MOL     1       7.948   7.948   4.083  1.00  0.00          PT  \nATOM    686   Pd MOL     1       7.720  11.517  -0.000  1.00  0.00          PD  \nATOM    687   Pt MOL     1      11.626  -5.839  -1.964  1.00  0.00          PT  \nATOM    688   Pt MOL     1      11.517  -7.720  -0.000  1.00  0.00          PT  \nATOM    689   Pt MOL     1      11.626  -5.839   1.964  1.00  0.00          PT  \nATOM    690   Pt MOL     1      11.626  -1.964  -5.839  1.00  0.00          PT  \nATOM    691   Pt MOL     1      11.651  -3.912  -3.912  1.00  0.00          PT  \nATOM    692   Pd MOL     1      11.758  -1.960  -1.960  1.00  0.00          PD  \nATOM    693   Pt MOL     1      11.716  -3.913   0.000  1.00  0.00          PT  \nATOM    694   Pt MOL     1      11.758  -1.960   1.960  1.00  0.00          PT  \nATOM    695   Pd MOL     1      11.651  -3.912   3.912  1.00  0.00          PD  \nATOM    696   Pd MOL     1      11.626  -1.964   5.839  1.00  0.00          PD  \nATOM    697   Pt MOL     1      11.517  -0.000  -7.720  1.00  0.00          PT  \nATOM    698   Pt MOL     1      11.626   1.964  -5.839  1.00  0.00          PT  \nATOM    699   Pd MOL     1      11.716  -0.000  -3.913  1.00  0.00          PD  \nATOM    700   Pd MOL     1      11.758   1.960  -1.960  1.00  0.00          PD  \nATOM    701   Pt MOL     1      11.801  -0.000   0.000  1.00  0.00          PT  \nATOM    702   Pd MOL     1      11.758   1.960   1.960  1.00  0.00          PD  \nATOM    703   Pt MOL     1      11.716  -0.000   3.913  1.00  0.00          PT  \nATOM    704   Pd MOL     1      11.626   1.964   5.839  1.00  0.00          PD  \nATOM    705   Pd MOL     1      11.517  -0.000   7.720  1.00  0.00          PD  \nATOM    706   Pt MOL     1      11.651   3.912  -3.912  1.00  0.00          PT  \nATOM    707   Pd MOL     1      11.626   5.839  -1.964  1.00  0.00          PD  \nATOM    708   Pt MOL     1      11.716   3.913   0.000  1.00  0.00          PT  \nATOM    709   Pt MOL     1      11.626   5.839   1.964  1.00  0.00          PT  \nATOM    710   Pd MOL     1      11.651   3.912   3.912  1.00  0.00          PD  \nATOM    711   Pd MOL     1      11.517   7.720  -0.000  1.00  0.00          PD  \nENDMDL\n",
           "type": "blob"
          }
         ],
         "kwargs": {
          "defaultRepresentation": false,
          "ext": "pdb"
         },
         "methodName": "loadFile",
         "reconstruc_color_scheme": false,
         "target": "Stage",
         "type": "call_method"
        },
        {
         "args": [
          "500px",
          "500px"
         ],
         "kwargs": {},
         "methodName": "setSize",
         "reconstruc_color_scheme": false,
         "target": "Widget",
         "type": "call_method"
        },
        {
         "args": [
          "unitcell"
         ],
         "component_index": 0,
         "kwargs": {
          "sele": "all"
         },
         "methodName": "addRepresentation",
         "reconstruc_color_scheme": false,
         "target": "compList",
         "type": "call_method"
        },
        {
         "args": [
          "spacefill"
         ],
         "component_index": 0,
         "kwargs": {
          "sele": "all"
         },
         "methodName": "addRepresentation",
         "reconstruc_color_scheme": false,
         "target": "compList",
         "type": "call_method"
        },
        {
         "args": [],
         "kwargs": {
          "cameraType": "orthographic"
         },
         "methodName": "setParameters",
         "reconstruc_color_scheme": false,
         "target": "Stage",
         "type": "call_method"
        },
        {
         "args": [
          {
           "clipDist": 0
          }
         ],
         "kwargs": {},
         "methodName": "setParameters",
         "reconstruc_color_scheme": false,
         "target": "Widget",
         "type": "call_method"
        },
        {
         "args": [
          "spacefill",
          0
         ],
         "kwargs": {
          "colorScale": "rainbow",
          "colorScheme": "element",
          "radiusScale": 0.5,
          "radiusType": "covalent"
         },
         "methodName": "updateRepresentationsByName",
         "reconstruc_color_scheme": false,
         "target": "Widget",
         "type": "call_method"
        },
        {
         "args": [
          "this._Q = [[1.0, 0.0, 0.0], [0.0, 1.0, 0.0], [0.0, 0.0, 1.0]]\n    var tooltip = document.createElement('div')\n    Object.assign(tooltip.style, {\n      display: 'none',\n      position: 'fixed',\n      zIndex: 10,\n      pointerEvents: 'none',\n      backgroundColor: 'rgba( 0, 0, 0, 0.6 )',\n      color: 'lightgrey',\n      padding: '8px',\n      fontFamily: 'sans-serif'\n    })\n    document.body.appendChild(tooltip)\n\n    var that = this\n    this.stage.mouseControls.remove('hoverPick')\n    this.stage.signals.hovered.add(function (pickingProxy) {\n      if (pickingProxy && (pickingProxy.atom || pickingProxy.bond)) {\n        var atom = pickingProxy.atom || pickingProxy.closestBondAtom\n        var mp = pickingProxy.mouse.position\n        //tooltip.innerText = atom.element + ' i=' + atom.index + ' (' + atom.x.toFixed(2) +  ', ' + atom.y.toFixed(2) +  ', ' + atom.z.toFixed(2) + ')'\n        //var pos = that._atoms_pos[atom.index]\n        var Q = that._Q\n        var pos_x = Q[0][0] * atom.x + Q[0][1] * atom.y + Q[0][2] * atom.z \n        var pos_y = Q[1][0] * atom.x + Q[1][1] * atom.y + Q[1][2] * atom.z\n        var pos_z = Q[2][0] * atom.x + Q[2][1] * atom.y + Q[2][2] * atom.z\n        tooltip.innerText = 'i=' + atom.index + ' ' + atom.element + ' (' + pos_x.toFixed(2) +  ', ' + pos_y.toFixed(2) +  ', ' + pos_z.toFixed(2) + ')'\n        tooltip.style.bottom = window.innerHeight - mp.y + 3 + 'px'\n        tooltip.style.left = mp.x + 3 + 'px'\n        tooltip.style.display = 'block'\n      } else {\n        tooltip.style.display = 'none'\n      }\n    })\n    "
         ],
         "kwargs": {},
         "methodName": "executeCode",
         "reconstruc_color_scheme": false,
         "target": "Widget",
         "type": "call_method"
        }
       ],
       "_ngl_original_stage_parameters": {
        "ambientColor": 14540253,
        "ambientIntensity": 0.2,
        "backgroundColor": "white",
        "cameraEyeSep": 0.3,
        "cameraFov": 40,
        "cameraType": "perspective",
        "clipDist": 10,
        "clipFar": 100,
        "clipNear": 0,
        "fogFar": 100,
        "fogNear": 50,
        "hoverTimeout": 0,
        "impostor": true,
        "lightColor": 14540253,
        "lightIntensity": 1,
        "mousePreset": "default",
        "panSpeed": 1,
        "quality": "medium",
        "rotateSpeed": 2,
        "sampleLevel": 0,
        "tooltip": true,
        "workerDefault": true,
        "zoomSpeed": 1.2
       },
       "_ngl_repr_dict": {
        "0": {
         "0": {
          "params": {
           "clipCenter": {
            "x": 0,
            "y": 0,
            "z": 0
           },
           "clipNear": 0,
           "clipRadius": 0,
           "colorMode": "hcl",
           "colorReverse": false,
           "colorScale": "",
           "colorScheme": "element",
           "colorValue": "orange",
           "defaultAssembly": "",
           "depthWrite": true,
           "diffuse": 16777215,
           "diffuseInterior": false,
           "disableImpostor": false,
           "disablePicking": false,
           "flatShaded": false,
           "interiorColor": 2236962,
           "interiorDarkening": 0,
           "lazy": false,
           "matrix": {
            "elements": [
             1,
             0,
             0,
             0,
             0,
             1,
             0,
             0,
             0,
             0,
             1,
             0,
             0,
             0,
             0,
             1
            ]
           },
           "metalness": 0,
           "opacity": 1,
           "quality": "medium",
           "radialSegments": 10,
           "radiusData": {},
           "radiusScale": 1,
           "radiusSize": 0.5,
           "radiusType": "vdw",
           "roughness": 0.4,
           "sele": "all",
           "side": "double",
           "sphereDetail": 1,
           "useInteriorColor": true,
           "visible": true,
           "wireframe": false
          },
          "type": "unitcell"
         },
         "1": {
          "params": {
           "assembly": "default",
           "clipCenter": {
            "x": 0,
            "y": 0,
            "z": 0
           },
           "clipNear": 0,
           "clipRadius": 0,
           "colorMode": "hcl",
           "colorReverse": false,
           "colorScale": "rainbow",
           "colorScheme": "element",
           "colorValue": 9474192,
           "defaultAssembly": "",
           "depthWrite": true,
           "diffuse": 16777215,
           "diffuseInterior": false,
           "disableImpostor": false,
           "disablePicking": false,
           "flatShaded": false,
           "interiorColor": 2236962,
           "interiorDarkening": 0,
           "lazy": false,
           "matrix": {
            "elements": [
             1,
             0,
             0,
             0,
             0,
             1,
             0,
             0,
             0,
             0,
             1,
             0,
             0,
             0,
             0,
             1
            ]
           },
           "metalness": 0,
           "opacity": 1,
           "quality": "medium",
           "radiusData": {},
           "radiusScale": 0.5,
           "radiusSize": 1,
           "radiusType": "covalent",
           "roughness": 0.4,
           "sele": "all",
           "side": "double",
           "sphereDetail": 1,
           "useInteriorColor": true,
           "visible": true,
           "wireframe": false
          },
          "type": "spacefill"
         }
        }
       },
       "_ngl_serialize": false,
       "_ngl_version": "2.0.0-dev.36",
       "_ngl_view_id": [
        "E4CEF6C7-913B-4F4B-9957-340D7B4E71E3"
       ],
       "_player_dict": {},
       "_scene_position": {},
       "_scene_rotation": {},
       "_synced_model_ids": [],
       "_synced_repr_model_ids": [],
       "_view_height": "",
       "_view_width": "",
       "background": "white",
       "frame": 0,
       "gui_style": null,
       "layout": "IPY_MODEL_8ade2f952e2a4e71983e0e0f7ddcce8d",
       "max_frame": 0,
       "n_components": 1,
       "picked": {}
      }
     },
     "e3eb079323264dc795f333ae98091fb0": {
      "model_module": "@jupyter-widgets/base",
      "model_module_version": "1.2.0",
      "model_name": "LayoutModel",
      "state": {}
     },
     "e56da08f357b429686dd808f46324fdc": {
      "model_module": "@jupyter-widgets/base",
      "model_module_version": "1.2.0",
      "model_name": "LayoutModel",
      "state": {}
     },
     "e5d3ee436ac446879e9bafa25a790b97": {
      "model_module": "@jupyter-widgets/controls",
      "model_module_version": "1.5.0",
      "model_name": "FloatSliderModel",
      "state": {
       "description": "Ball size",
       "layout": "IPY_MODEL_887dee48aa6a451dac21470e136142ad",
       "max": 1.5,
       "step": 0.01,
       "style": "IPY_MODEL_6cfa09289bee40d3a4f1e28c214111e6",
       "value": 0.5
      }
     },
     "e5ebe47feb77430092be93595a213006": {
      "model_module": "@jupyter-widgets/controls",
      "model_module_version": "1.5.0",
      "model_name": "DropdownModel",
      "state": {
       "_options_labels": [
        " ",
        "picking",
        "random",
        "uniform",
        "atomindex",
        "residueindex",
        "chainindex",
        "modelindex",
        "sstruc",
        "element",
        "resname",
        "bfactor",
        "hydrophobicity",
        "value",
        "volume",
        "occupancy"
       ],
       "description": "Color scheme",
       "index": 9,
       "layout": "IPY_MODEL_e821bfcc08614cb1959411da77045fb5",
       "style": "IPY_MODEL_e782891d20854eb88db979fcc35c22d1"
      }
     },
     "e61cef20b8054451a330650f7a722953": {
      "model_module": "@jupyter-widgets/base",
      "model_module_version": "1.2.0",
      "model_name": "LayoutModel",
      "state": {}
     },
     "e68e623d9c0644e4a8df521d33d0ce5f": {
      "model_module": "@jupyter-widgets/controls",
      "model_module_version": "1.5.0",
      "model_name": "HBoxModel",
      "state": {
       "children": [
        "IPY_MODEL_b059168a3f2b4134bbb761bc058392a6",
        "IPY_MODEL_9f05ca70ad2444cb80bb894c78dd5b6e"
       ],
       "layout": "IPY_MODEL_14d30c1a9ea942559bc3049d77f96687"
      }
     },
     "e69d508233f24e4a9cda0447b957871c": {
      "model_module": "nglview-js-widgets",
      "model_module_version": "3.0.1",
      "model_name": "NGLModel",
      "state": {
       "_camera_orientation": [
        9.921646058814545,
        0,
        0,
        0,
        0,
        9.921646058814545,
        0,
        0,
        0,
        0,
        9.921646058814545,
        0,
        -0.8109999895095825,
        -2.75600004196167,
        -13.190000057220459,
        1
       ],
       "_camera_str": "orthographic",
       "_gui_theme": null,
       "_ibtn_fullscreen": "IPY_MODEL_7e840202732b454ebd98c0f360f5dc0c",
       "_igui": null,
       "_iplayer": "IPY_MODEL_b43fd2e187ca4149a06a21baa035a92e",
       "_ngl_color_dict": {},
       "_ngl_coordinate_resource": {},
       "_ngl_full_stage_parameters": {
        "ambientColor": 14540253,
        "ambientIntensity": 0.2,
        "backgroundColor": "white",
        "cameraEyeSep": 0.3,
        "cameraFov": 40,
        "cameraType": "orthographic",
        "clipDist": 0,
        "clipFar": 100,
        "clipNear": 0,
        "fogFar": 100,
        "fogNear": 50,
        "hoverTimeout": 0,
        "impostor": true,
        "lightColor": 14540253,
        "lightIntensity": 1,
        "mousePreset": "default",
        "panSpeed": 1,
        "quality": "medium",
        "rotateSpeed": 2,
        "sampleLevel": 0,
        "tooltip": true,
        "workerDefault": true,
        "zoomSpeed": 1.2
       },
       "_ngl_msg_archive": [
        {
         "args": [
          {
           "binary": false,
           "data": "CRYST1    3.243    6.834   27.336  90.00  90.00  90.00 P 1\nMODEL     1\nATOM      1   Sn MOL     1       1.622   3.417  15.946  1.00  0.00          SN  \nATOM      2   Sn MOL     1       1.622   0.000  12.529  1.00  0.00          SN  \nATOM      3   Sn MOL     1       0.000   3.417  12.529  1.00  0.00          SN  \nATOM      4   Sn MOL     1       0.000   0.000  15.946  1.00  0.00          SN  \nATOM      5    O MOL     1       1.622   1.322  15.946  1.00  0.00           O  \nATOM      6    O MOL     1       1.622   4.739  12.529  1.00  0.00           O  \nATOM      7    O MOL     1       1.622   5.512  15.946  1.00  0.00           O  \nATOM      8    O MOL     1       1.622   2.095  12.529  1.00  0.00           O  \nATOM      9    O MOL     1       0.000   3.417  10.434  1.00  0.00           O  \nATOM     10    O MOL     1       0.000   0.000  13.851  1.00  0.00           O  \nATOM     11    O MOL     1       0.000   3.417  14.624  1.00  0.00           O  \nATOM     12    O MOL     1       0.000   0.000  11.207  1.00  0.00           O  \nENDMDL\n",
           "type": "blob"
          }
         ],
         "kwargs": {
          "defaultRepresentation": false,
          "ext": "pdb"
         },
         "methodName": "loadFile",
         "reconstruc_color_scheme": false,
         "target": "Stage",
         "type": "call_method"
        },
        {
         "args": [
          "500px",
          "500px"
         ],
         "kwargs": {},
         "methodName": "setSize",
         "reconstruc_color_scheme": false,
         "target": "Widget",
         "type": "call_method"
        },
        {
         "args": [
          "unitcell"
         ],
         "component_index": 0,
         "kwargs": {
          "sele": "all"
         },
         "methodName": "addRepresentation",
         "reconstruc_color_scheme": false,
         "target": "compList",
         "type": "call_method"
        },
        {
         "args": [
          "spacefill"
         ],
         "component_index": 0,
         "kwargs": {
          "sele": "all"
         },
         "methodName": "addRepresentation",
         "reconstruc_color_scheme": false,
         "target": "compList",
         "type": "call_method"
        },
        {
         "args": [],
         "kwargs": {
          "cameraType": "orthographic"
         },
         "methodName": "setParameters",
         "reconstruc_color_scheme": false,
         "target": "Stage",
         "type": "call_method"
        },
        {
         "args": [
          {
           "clipDist": 0
          }
         ],
         "kwargs": {},
         "methodName": "setParameters",
         "reconstruc_color_scheme": false,
         "target": "Widget",
         "type": "call_method"
        },
        {
         "args": [
          "spacefill",
          0
         ],
         "kwargs": {
          "colorScale": "rainbow",
          "colorScheme": "element",
          "radiusScale": 0.5,
          "radiusType": "covalent"
         },
         "methodName": "updateRepresentationsByName",
         "reconstruc_color_scheme": false,
         "target": "Widget",
         "type": "call_method"
        },
        {
         "args": [
          "this._Q = [[1.0, 0.0, 6.123233995736766e-17], [-3.749399456654643e-33, 1.0, 6.123233995736765e-17], [-6.123233995736766e-17, -6.123233995736765e-17, 1.0]]\n    var tooltip = document.createElement('div')\n    Object.assign(tooltip.style, {\n      display: 'none',\n      position: 'fixed',\n      zIndex: 10,\n      pointerEvents: 'none',\n      backgroundColor: 'rgba( 0, 0, 0, 0.6 )',\n      color: 'lightgrey',\n      padding: '8px',\n      fontFamily: 'sans-serif'\n    })\n    document.body.appendChild(tooltip)\n\n    var that = this\n    this.stage.mouseControls.remove('hoverPick')\n    this.stage.signals.hovered.add(function (pickingProxy) {\n      if (pickingProxy && (pickingProxy.atom || pickingProxy.bond)) {\n        var atom = pickingProxy.atom || pickingProxy.closestBondAtom\n        var mp = pickingProxy.mouse.position\n        //tooltip.innerText = atom.element + ' i=' + atom.index + ' (' + atom.x.toFixed(2) +  ', ' + atom.y.toFixed(2) +  ', ' + atom.z.toFixed(2) + ')'\n        //var pos = that._atoms_pos[atom.index]\n        var Q = that._Q\n        var pos_x = Q[0][0] * atom.x + Q[0][1] * atom.y + Q[0][2] * atom.z \n        var pos_y = Q[1][0] * atom.x + Q[1][1] * atom.y + Q[1][2] * atom.z\n        var pos_z = Q[2][0] * atom.x + Q[2][1] * atom.y + Q[2][2] * atom.z\n        tooltip.innerText = 'i=' + atom.index + ' ' + atom.element + ' (' + pos_x.toFixed(2) +  ', ' + pos_y.toFixed(2) +  ', ' + pos_z.toFixed(2) + ')'\n        tooltip.style.bottom = window.innerHeight - mp.y + 3 + 'px'\n        tooltip.style.left = mp.x + 3 + 'px'\n        tooltip.style.display = 'block'\n      } else {\n        tooltip.style.display = 'none'\n      }\n    })\n    "
         ],
         "kwargs": {},
         "methodName": "executeCode",
         "reconstruc_color_scheme": false,
         "target": "Widget",
         "type": "call_method"
        },
        {
         "args": [
          "ball+stick"
         ],
         "component_index": 0,
         "kwargs": {
          "sele": "all"
         },
         "methodName": "addRepresentation",
         "reconstruc_color_scheme": false,
         "target": "compList",
         "type": "call_method"
        }
       ],
       "_ngl_original_stage_parameters": {
        "ambientColor": 14540253,
        "ambientIntensity": 0.2,
        "backgroundColor": "white",
        "cameraEyeSep": 0.3,
        "cameraFov": 40,
        "cameraType": "perspective",
        "clipDist": 10,
        "clipFar": 100,
        "clipNear": 0,
        "fogFar": 100,
        "fogNear": 50,
        "hoverTimeout": 0,
        "impostor": true,
        "lightColor": 14540253,
        "lightIntensity": 1,
        "mousePreset": "default",
        "panSpeed": 1,
        "quality": "medium",
        "rotateSpeed": 2,
        "sampleLevel": 0,
        "tooltip": true,
        "workerDefault": true,
        "zoomSpeed": 1.2
       },
       "_ngl_repr_dict": {
        "0": {
         "0": {
          "params": {
           "clipCenter": {
            "x": 0,
            "y": 0,
            "z": 0
           },
           "clipNear": 0,
           "clipRadius": 0,
           "colorMode": "hcl",
           "colorReverse": false,
           "colorScale": "",
           "colorScheme": "element",
           "colorValue": "orange",
           "defaultAssembly": "",
           "depthWrite": true,
           "diffuse": 16777215,
           "diffuseInterior": false,
           "disableImpostor": false,
           "disablePicking": false,
           "flatShaded": false,
           "interiorColor": 2236962,
           "interiorDarkening": 0,
           "lazy": false,
           "matrix": {
            "elements": [
             1,
             0,
             0,
             0,
             0,
             1,
             0,
             0,
             0,
             0,
             1,
             0,
             0,
             0,
             0,
             1
            ]
           },
           "metalness": 0,
           "opacity": 1,
           "quality": "medium",
           "radialSegments": 10,
           "radiusData": {},
           "radiusScale": 1,
           "radiusSize": 0.04230797914283533,
           "radiusType": "vdw",
           "roughness": 0.4,
           "sele": "all",
           "side": "double",
           "sphereDetail": 1,
           "useInteriorColor": true,
           "visible": true,
           "wireframe": false
          },
          "type": "unitcell"
         },
         "1": {
          "params": {
           "assembly": "default",
           "clipCenter": {
            "x": 0,
            "y": 0,
            "z": 0
           },
           "clipNear": 0,
           "clipRadius": 0,
           "colorMode": "hcl",
           "colorReverse": false,
           "colorScale": "rainbow",
           "colorScheme": "element",
           "colorValue": 9474192,
           "defaultAssembly": "",
           "depthWrite": true,
           "diffuse": 16777215,
           "diffuseInterior": false,
           "disableImpostor": false,
           "disablePicking": false,
           "flatShaded": false,
           "interiorColor": 2236962,
           "interiorDarkening": 0,
           "lazy": false,
           "matrix": {
            "elements": [
             1,
             0,
             0,
             0,
             0,
             1,
             0,
             0,
             0,
             0,
             1,
             0,
             0,
             0,
             0,
             1
            ]
           },
           "metalness": 0,
           "opacity": 1,
           "quality": "medium",
           "radiusData": {},
           "radiusScale": 0.5,
           "radiusSize": 1,
           "radiusType": "covalent",
           "roughness": 0.4,
           "sele": "all",
           "side": "double",
           "sphereDetail": 1,
           "useInteriorColor": true,
           "visible": true,
           "wireframe": false
          },
          "type": "spacefill"
         },
         "2": {
          "params": {
           "aspectRatio": 2,
           "assembly": "default",
           "bondScale": 0.4,
           "bondSpacing": 1,
           "clipCenter": {
            "x": 0,
            "y": 0,
            "z": 0
           },
           "clipNear": 0,
           "clipRadius": 0,
           "colorMode": "hcl",
           "colorReverse": false,
           "colorScale": "",
           "colorScheme": "element",
           "colorValue": 9474192,
           "cylinderOnly": false,
           "defaultAssembly": "",
           "depthWrite": true,
           "diffuse": 16777215,
           "diffuseInterior": false,
           "disableImpostor": false,
           "disablePicking": false,
           "flatShaded": false,
           "interiorColor": 2236962,
           "interiorDarkening": 0,
           "lazy": false,
           "lineOnly": false,
           "linewidth": 2,
           "matrix": {
            "elements": [
             1,
             0,
             0,
             0,
             0,
             1,
             0,
             0,
             0,
             0,
             1,
             0,
             0,
             0,
             0,
             1
            ]
           },
           "metalness": 0,
           "multipleBond": "off",
           "opacity": 1,
           "openEnded": true,
           "quality": "medium",
           "radialSegments": 10,
           "radiusData": {},
           "radiusScale": 1,
           "radiusSize": 0.15,
           "radiusType": "size",
           "roughness": 0.4,
           "sele": "all",
           "side": "double",
           "sphereDetail": 1,
           "useInteriorColor": true,
           "visible": true,
           "wireframe": false
          },
          "type": "ball+stick"
         }
        }
       },
       "_ngl_serialize": false,
       "_ngl_version": "2.0.0-dev.36",
       "_ngl_view_id": [
        "F239BD25-BAE8-408D-A54B-4DEB3D9626A9"
       ],
       "_player_dict": {},
       "_scene_position": {},
       "_scene_rotation": {},
       "_synced_model_ids": [],
       "_synced_repr_model_ids": [],
       "_view_height": "",
       "_view_width": "",
       "background": "white",
       "frame": 0,
       "gui_style": null,
       "layout": "IPY_MODEL_ef25b862125d47ba83dd3f8bfb720852",
       "max_frame": 1,
       "n_components": 1,
       "picked": {}
      }
     },
     "e6b58fdb09a84f25872f1ac88c1ce763": {
      "model_module": "@jupyter-widgets/controls",
      "model_module_version": "1.5.0",
      "model_name": "ButtonModel",
      "state": {
       "icon": "compress",
       "layout": "IPY_MODEL_4cf9e88e43444535a6db25570eeae4b6",
       "style": "IPY_MODEL_0f1b22230250403991767ae911b46216"
      }
     },
     "e6f450531f7647d6ba392a7040cc7a3f": {
      "model_module": "@jupyter-widgets/base",
      "model_module_version": "1.2.0",
      "model_name": "LayoutModel",
      "state": {}
     },
     "e76b3bbd849c44d0977689ef5d6a007c": {
      "model_module": "@jupyter-widgets/base",
      "model_module_version": "1.2.0",
      "model_name": "LayoutModel",
      "state": {}
     },
     "e782891d20854eb88db979fcc35c22d1": {
      "model_module": "@jupyter-widgets/controls",
      "model_module_version": "1.5.0",
      "model_name": "DescriptionStyleModel",
      "state": {
       "description_width": ""
      }
     },
     "e7af028e7acb4b38a715eb8f48c58ea9": {
      "model_module": "@jupyter-widgets/controls",
      "model_module_version": "1.5.0",
      "model_name": "DescriptionStyleModel",
      "state": {
       "description_width": ""
      }
     },
     "e821bfcc08614cb1959411da77045fb5": {
      "model_module": "@jupyter-widgets/base",
      "model_module_version": "1.2.0",
      "model_name": "LayoutModel",
      "state": {}
     },
     "e8994d2c9da944f3990f11008f34d848": {
      "model_module": "@jupyter-widgets/controls",
      "model_module_version": "1.5.0",
      "model_name": "IntSliderModel",
      "state": {
       "layout": "IPY_MODEL_4a1d066b2f5541f7ab35cdbf8efdb8b8",
       "max": 0,
       "style": "IPY_MODEL_a23982903c4e4aa084bf488f8f9a3f81"
      }
     },
     "e8aba4b6574e4dd6ac09378793b548fe": {
      "model_module": "@jupyter-widgets/controls",
      "model_module_version": "1.5.0",
      "model_name": "FloatSliderModel",
      "state": {
       "description": "Force scale",
       "layout": "IPY_MODEL_4f2cf8abd3e14b08921cf156a787fb8f",
       "step": 0.1,
       "style": "IPY_MODEL_1ad45c01ef63497da2c14ed7e1e48a31",
       "value": 0.5
      }
     },
     "e98c05541c66432aac8e312c3dbcfdc0": {
      "model_module": "@jupyter-widgets/base",
      "model_module_version": "1.2.0",
      "model_name": "LayoutModel",
      "state": {}
     },
     "e9b12650b9f848e382f7f6dc221e8dbe": {
      "model_module": "@jupyter-widgets/base",
      "model_module_version": "1.2.0",
      "model_name": "LayoutModel",
      "state": {}
     },
     "eb465a3806f54468a556df143a80d12b": {
      "model_module": "@jupyter-widgets/base",
      "model_module_version": "1.2.0",
      "model_name": "LayoutModel",
      "state": {
       "width": "34px"
      }
     },
     "ebaa7325e3eb4cd9bfd3072aaad17cad": {
      "model_module": "@jupyter-widgets/base",
      "model_module_version": "1.2.0",
      "model_name": "LayoutModel",
      "state": {}
     },
     "ebb8dbecf36c445497d2528a8cfc98de": {
      "model_module": "@jupyter-widgets/controls",
      "model_module_version": "1.5.0",
      "model_name": "ButtonModel",
      "state": {
       "description": "Save image",
       "layout": "IPY_MODEL_860b386bb53c499fb9c43d1e74d4115c",
       "style": "IPY_MODEL_b1420af55be1409dae8100be5302c0dd",
       "tooltip": "Save current frame to file.\nCurrently .png and .html are supported.\nIt takes a bit time, please be patient."
      }
     },
     "ebffdca5c2904086ad017680d933d0ba": {
      "model_module": "@jupyter-widgets/controls",
      "model_module_version": "1.5.0",
      "model_name": "LinkModel",
      "state": {
       "source": [
        "IPY_MODEL_6ee3aeae2a5b44de864928532c0277a7",
        "value"
       ],
       "target": [
        "IPY_MODEL_9a56513c04c04b2895e6481153583d3f",
        "frame"
       ]
      }
     },
     "ec1c63e4e327438d823bb65c3c5fe239": {
      "model_module": "@jupyter-widgets/controls",
      "model_module_version": "1.5.0",
      "model_name": "DescriptionStyleModel",
      "state": {
       "description_width": ""
      }
     },
     "ecceecc64f844d55872ac57763237f7d": {
      "model_module": "@jupyter-widgets/controls",
      "model_module_version": "1.5.0",
      "model_name": "DescriptionStyleModel",
      "state": {
       "description_width": ""
      }
     },
     "ed4fb8df0be94660b82c18eaaad9b566": {
      "model_module": "@jupyter-widgets/controls",
      "model_module_version": "1.5.0",
      "model_name": "TextModel",
      "state": {
       "description": "Filename: ",
       "layout": "IPY_MODEL_463a89785cd84fc7bb6f34e62609cd53",
       "style": "IPY_MODEL_fe5c3b4a873e4b3ba3fbfb24232a7ecc",
       "value": "screenshot.png"
      }
     },
     "edfee2dab73b484c85898170dfc02c71": {
      "model_module": "@jupyter-widgets/base",
      "model_module_version": "1.2.0",
      "model_name": "LayoutModel",
      "state": {}
     },
     "ee03771ddd6c4ceb97efc9a1ef4e40a4": {
      "model_module": "@jupyter-widgets/base",
      "model_module_version": "1.2.0",
      "model_name": "LayoutModel",
      "state": {
       "width": "34px"
      }
     },
     "ee350a40a62f471c9047aa73b62b6628": {
      "model_module": "@jupyter-widgets/base",
      "model_module_version": "1.2.0",
      "model_name": "LayoutModel",
      "state": {}
     },
     "eea46df267474caeaba1de1cd9b51b47": {
      "model_module": "@jupyter-widgets/controls",
      "model_module_version": "1.5.0",
      "model_name": "LinkModel",
      "state": {
       "source": [
        "IPY_MODEL_46d2127c9c7a4c668a654df09e5f4784",
        "max"
       ],
       "target": [
        "IPY_MODEL_e69d508233f24e4a9cda0447b957871c",
        "max_frame"
       ]
      }
     },
     "eeb8a08f9d9b4ff1b6e40f00eaefa11a": {
      "model_module": "@jupyter-widgets/controls",
      "model_module_version": "1.5.0",
      "model_name": "FloatSliderModel",
      "state": {
       "description": "Ball size",
       "layout": "IPY_MODEL_ad48adf5e64d49d7ba55498b2e6ec356",
       "max": 1.5,
       "step": 0.01,
       "style": "IPY_MODEL_2673e6fa81474a4598d30862190e7c4f",
       "value": 0.5
      }
     },
     "eeca7e45565745ceb60bd7014b75a2d6": {
      "model_module": "@jupyter-widgets/controls",
      "model_module_version": "1.5.0",
      "model_name": "DescriptionStyleModel",
      "state": {
       "description_width": ""
      }
     },
     "eee95a857b364a158caf1625c251d320": {
      "model_module": "@jupyter-widgets/controls",
      "model_module_version": "1.5.0",
      "model_name": "DescriptionStyleModel",
      "state": {
       "description_width": ""
      }
     },
     "eef75624fd364555b25f61885be6b10a": {
      "model_module": "@jupyter-widgets/controls",
      "model_module_version": "1.5.0",
      "model_name": "IntSliderModel",
      "state": {
       "layout": "IPY_MODEL_c91774ef091146438e9b50ebb95b5305",
       "max": 0,
       "style": "IPY_MODEL_89b745434c0341468e875f3a76b54f9e"
      }
     },
     "ef03020fef034cc4b13ddfa16d98e721": {
      "model_module": "@jupyter-widgets/controls",
      "model_module_version": "1.5.0",
      "model_name": "ButtonModel",
      "state": {
       "description": "Save image",
       "layout": "IPY_MODEL_e98c05541c66432aac8e312c3dbcfdc0",
       "style": "IPY_MODEL_07803ece834046aea1070c5c9490a4ba",
       "tooltip": "Save current frame to file.\nCurrently .png and .html are supported.\nIt takes a bit time, please be patient."
      }
     },
     "ef25b862125d47ba83dd3f8bfb720852": {
      "model_module": "@jupyter-widgets/base",
      "model_module_version": "1.2.0",
      "model_name": "LayoutModel",
      "state": {}
     },
     "efc9c05a0c154509a9ad90e400e14260": {
      "model_module": "@jupyter-widgets/base",
      "model_module_version": "1.2.0",
      "model_name": "LayoutModel",
      "state": {}
     },
     "f0a8c4da6a31400b89ec3b473068a06e": {
      "model_module": "@jupyter-widgets/controls",
      "model_module_version": "1.5.0",
      "model_name": "PlayModel",
      "state": {
       "layout": "IPY_MODEL_4f94b81984a442c7bb76e3eae12296db",
       "max": 0,
       "style": "IPY_MODEL_83de84689e6b4a2d931b04f530e5dbab"
      }
     },
     "f1d7190c9ed3413f8a086dcb9e9444f4": {
      "model_module": "@jupyter-widgets/controls",
      "model_module_version": "1.5.0",
      "model_name": "CheckboxModel",
      "state": {
       "description": "Show charge",
       "disabled": false,
       "layout": "IPY_MODEL_b9ee2a8cf64444a592c44206ff1424a6",
       "style": "IPY_MODEL_30b046b37e0c42d7abf3d20f13d485a4",
       "value": false
      }
     },
     "f2a60dd970fc43099a81b91d67057a44": {
      "model_module": "@jupyter-widgets/base",
      "model_module_version": "1.2.0",
      "model_name": "LayoutModel",
      "state": {
       "border": "0px solid black"
      }
     },
     "f439d4f20f8c4498ae0b93d1511a66bb": {
      "model_module": "@jupyter-widgets/controls",
      "model_module_version": "1.5.0",
      "model_name": "ButtonModel",
      "state": {
       "description": "Save image",
       "layout": "IPY_MODEL_cbd20b8584134ce5852b2f75dfb0cf8d",
       "style": "IPY_MODEL_534107c101284c119bbcfb39d6e4d802",
       "tooltip": "Save current frame to file.\nCurrently .png and .html are supported.\nIt takes a bit time, please be patient."
      }
     },
     "f4dfa0a2de3a4cb18fc99e598751b4ed": {
      "model_module": "@jupyter-widgets/base",
      "model_module_version": "1.2.0",
      "model_name": "LayoutModel",
      "state": {}
     },
     "f4f72805338e4d5588891d934e27d2e6": {
      "model_module": "@jupyter-widgets/base",
      "model_module_version": "1.2.0",
      "model_name": "LayoutModel",
      "state": {}
     },
     "f5b5fde0eccb4f33bbb08a21c4c77088": {
      "model_module": "@jupyter-widgets/controls",
      "model_module_version": "1.5.0",
      "model_name": "DropdownModel",
      "state": {
       "_options_labels": [
        " ",
        "picking",
        "random",
        "uniform",
        "atomindex",
        "residueindex",
        "chainindex",
        "modelindex",
        "sstruc",
        "element",
        "resname",
        "bfactor",
        "hydrophobicity",
        "value",
        "volume",
        "occupancy"
       ],
       "description": "Color scheme",
       "index": 9,
       "layout": "IPY_MODEL_e6f450531f7647d6ba392a7040cc7a3f",
       "style": "IPY_MODEL_abc799227c3547a2810cdaebbcef3a25"
      }
     },
     "f6acc2d05fa345d186167480d07e78f4": {
      "model_module": "@jupyter-widgets/controls",
      "model_module_version": "1.5.0",
      "model_name": "SliderStyleModel",
      "state": {
       "description_width": ""
      }
     },
     "f6cb08a5d62b4233a7b4fd07a8619160": {
      "model_module": "@jupyter-widgets/base",
      "model_module_version": "1.2.0",
      "model_name": "LayoutModel",
      "state": {
       "width": "34px"
      }
     },
     "f6f2b8e5e57641fba2d1d30ac99a5728": {
      "model_module": "@jupyter-widgets/base",
      "model_module_version": "1.2.0",
      "model_name": "LayoutModel",
      "state": {}
     },
     "f7a2179998ce486590f92ab35a4d8417": {
      "model_module": "@jupyter-widgets/base",
      "model_module_version": "1.2.0",
      "model_name": "LayoutModel",
      "state": {}
     },
     "f90529c7870d45fbb61b6de7ed35654c": {
      "model_module": "@jupyter-widgets/base",
      "model_module_version": "1.2.0",
      "model_name": "LayoutModel",
      "state": {}
     },
     "f9e97f26e2a740bc928f057a522cd8b3": {
      "model_module": "@jupyter-widgets/controls",
      "model_module_version": "1.5.0",
      "model_name": "ButtonModel",
      "state": {
       "icon": "compress",
       "layout": "IPY_MODEL_d879332098ce40d5826eddf774b5b4f3",
       "style": "IPY_MODEL_e20a3df83be34b23872ee6f49ac5907f"
      }
     },
     "fa45fe92f39c4f3db7d9740acb0cfde2": {
      "model_module": "@jupyter-widgets/base",
      "model_module_version": "1.2.0",
      "model_name": "LayoutModel",
      "state": {}
     },
     "fa624fcd96ea478fb8ce34637d002fb9": {
      "model_module": "@jupyter-widgets/base",
      "model_module_version": "1.2.0",
      "model_name": "LayoutModel",
      "state": {}
     },
     "fa81758e872f4622b7b0cd6c36672372": {
      "model_module": "@jupyter-widgets/base",
      "model_module_version": "1.2.0",
      "model_name": "LayoutModel",
      "state": {}
     },
     "fb17eb6db0d04abbad04db544cbcdab7": {
      "model_module": "@jupyter-widgets/controls",
      "model_module_version": "1.5.0",
      "model_name": "SliderStyleModel",
      "state": {
       "description_width": ""
      }
     },
     "fb3fcc7f6b1048ecbaa8f916fc474db9": {
      "model_module": "@jupyter-widgets/controls",
      "model_module_version": "1.5.0",
      "model_name": "IntSliderModel",
      "state": {
       "layout": "IPY_MODEL_9a846d9449cd4ffa921d251322b29217",
       "max": 0,
       "style": "IPY_MODEL_15fc858a31e0491a8fdb613f48d15f4f"
      }
     },
     "fc985c567f754ba3994b0a7d82931351": {
      "model_module": "@jupyter-widgets/controls",
      "model_module_version": "1.5.0",
      "model_name": "ButtonModel",
      "state": {
       "description": "Download image",
       "layout": "IPY_MODEL_cf0b68d7bddd4ab9a724f15706dcd0a9",
       "style": "IPY_MODEL_4dc0c1fa7ae04cc2bf85e97ac1bf8834",
       "tooltip": "Download current frame to your local PC"
      }
     },
     "fd0f4d6b9ab4429c83f864e999906ce9": {
      "model_module": "@jupyter-widgets/base",
      "model_module_version": "1.2.0",
      "model_name": "LayoutModel",
      "state": {}
     },
     "fd0fbfb7fded4d19aae7f3385024f0cb": {
      "model_module": "@jupyter-widgets/controls",
      "model_module_version": "1.5.0",
      "model_name": "FloatSliderModel",
      "state": {
       "description": "Force scale",
       "layout": "IPY_MODEL_e61cef20b8054451a330650f7a722953",
       "step": 0.1,
       "style": "IPY_MODEL_db0e050802bc46a09c972698ea4a9671",
       "value": 0.5
      }
     },
     "fd25217204e4488ca6ce7e56a6f73950": {
      "model_module": "@jupyter-widgets/base",
      "model_module_version": "1.2.0",
      "model_name": "LayoutModel",
      "state": {}
     },
     "fd4b0f51a89d48ffb032994af77924b5": {
      "model_module": "@jupyter-widgets/controls",
      "model_module_version": "1.5.0",
      "model_name": "HBoxModel",
      "state": {
       "children": [
        "IPY_MODEL_28f16f8e5a1444e2b701df0cc09969d3",
        "IPY_MODEL_05531a2b216b42fbaae8af5ddfbb5455"
       ],
       "layout": "IPY_MODEL_6d3d32eeac664d8fa03abe12d0d6d10b"
      }
     },
     "fd8a3958704a4d2294c30437d3cc3ca5": {
      "model_module": "@jupyter-widgets/base",
      "model_module_version": "1.2.0",
      "model_name": "LayoutModel",
      "state": {}
     },
     "fe48ff5c091e4a9cba40f970b9d89398": {
      "model_module": "@jupyter-widgets/controls",
      "model_module_version": "1.5.0",
      "model_name": "DescriptionStyleModel",
      "state": {
       "description_width": ""
      }
     },
     "fe4cbd1211f94da29c1fdbcb5a9b7142": {
      "model_module": "nglview-js-widgets",
      "model_module_version": "3.0.1",
      "model_name": "NGLModel",
      "state": {
       "_camera_orientation": [
        41.48129435432746,
        0,
        0,
        0,
        0,
        41.48129435432746,
        0,
        0,
        0,
        0,
        41.48129435432746,
        0,
        0,
        0,
        0,
        1
       ],
       "_camera_str": "orthographic",
       "_gui_theme": null,
       "_ibtn_fullscreen": "IPY_MODEL_e6b58fdb09a84f25872f1ac88c1ce763",
       "_igui": null,
       "_iplayer": "IPY_MODEL_973b12df11674229887b231252a62b6a",
       "_ngl_color_dict": {},
       "_ngl_coordinate_resource": {},
       "_ngl_full_stage_parameters": {
        "ambientColor": 14540253,
        "ambientIntensity": 0.2,
        "backgroundColor": "white",
        "cameraEyeSep": 0.3,
        "cameraFov": 40,
        "cameraType": "orthographic",
        "clipDist": 0,
        "clipFar": 100,
        "clipNear": 0,
        "fogFar": 100,
        "fogNear": 50,
        "hoverTimeout": 0,
        "impostor": true,
        "lightColor": 14540253,
        "lightIntensity": 1,
        "mousePreset": "default",
        "panSpeed": 1,
        "quality": "medium",
        "rotateSpeed": 2,
        "sampleLevel": 0,
        "tooltip": true,
        "workerDefault": true,
        "zoomSpeed": 1.2
       },
       "_ngl_msg_archive": [
        {
         "args": [
          {
           "binary": false,
           "data": "MODEL     1\nATOM      1   Pt MOL     1      -9.800  -9.800   0.000  1.00  0.00          PT  \nATOM      2   Pt MOL     1     -11.760  -5.880  -1.960  1.00  0.00          PT  \nATOM      3   Pt MOL     1      -9.800  -7.840  -1.960  1.00  0.00          PT  \nATOM      4   Pt MOL     1      -9.800  -5.880  -3.920  1.00  0.00          PT  \nATOM      5   Pt MOL     1     -11.760  -7.840   0.000  1.00  0.00          PT  \nATOM      6   Pt MOL     1     -11.760  -5.880   1.960  1.00  0.00          PT  \nATOM      7   Pt MOL     1      -9.800  -7.840   1.960  1.00  0.00          PT  \nATOM      8   Pt MOL     1      -9.800  -5.880   0.000  1.00  0.00          PT  \nATOM      9   Pt MOL     1      -9.800  -5.880   3.920  1.00  0.00          PT  \nATOM     10   Pt MOL     1     -11.760  -1.960  -5.880  1.00  0.00          PT  \nATOM     11   Pt MOL     1      -9.800  -3.920  -5.880  1.00  0.00          PT  \nATOM     12   Pt MOL     1      -9.800  -1.960  -7.840  1.00  0.00          PT  \nATOM     13   Pt MOL     1     -11.760  -3.920  -3.920  1.00  0.00          PT  \nATOM     14   Pt MOL     1     -11.760  -1.960  -1.960  1.00  0.00          PT  \nATOM     15   Pt MOL     1      -9.800  -3.920  -1.960  1.00  0.00          PT  \nATOM     16   Pt MOL     1      -9.800  -1.960  -3.920  1.00  0.00          PT  \nATOM     17   Pt MOL     1     -11.760  -3.920   0.000  1.00  0.00          PT  \nATOM     18   Pt MOL     1     -11.760  -1.960   1.960  1.00  0.00          PT  \nATOM     19   Pt MOL     1      -9.800  -3.920   1.960  1.00  0.00          PT  \nATOM     20   Pt MOL     1      -9.800  -1.960   0.000  1.00  0.00          PT  \nATOM     21   Pt MOL     1     -11.760  -3.920   3.920  1.00  0.00          PT  \nATOM     22   Pt MOL     1     -11.760  -1.960   5.880  1.00  0.00          PT  \nATOM     23   Pt MOL     1      -9.800  -3.920   5.880  1.00  0.00          PT  \nATOM     24   Pt MOL     1      -9.800  -1.960   3.920  1.00  0.00          PT  \nATOM     25   Pt MOL     1      -9.800  -1.960   7.840  1.00  0.00          PT  \nATOM     26   Pt MOL     1      -9.800   0.000  -9.800  1.00  0.00          PT  \nATOM     27   Pt MOL     1     -11.760   0.000  -7.840  1.00  0.00          PT  \nATOM     28   Pt MOL     1     -11.760   1.960  -5.880  1.00  0.00          PT  \nATOM     29   Pt MOL     1      -9.800   0.000  -5.880  1.00  0.00          PT  \nATOM     30   Pt MOL     1      -9.800   1.960  -7.840  1.00  0.00          PT  \nATOM     31   Pt MOL     1     -11.760   0.000  -3.920  1.00  0.00          PT  \nATOM     32   Pt MOL     1     -11.760   1.960  -1.960  1.00  0.00          PT  \nATOM     33   Pt MOL     1      -9.800   0.000  -1.960  1.00  0.00          PT  \nATOM     34   Pt MOL     1      -9.800   1.960  -3.920  1.00  0.00          PT  \nATOM     35   Pt MOL     1     -11.760   0.000   0.000  1.00  0.00          PT  \nATOM     36   Pt MOL     1     -11.760   1.960   1.960  1.00  0.00          PT  \nATOM     37   Pt MOL     1      -9.800   0.000   1.960  1.00  0.00          PT  \nATOM     38   Pt MOL     1      -9.800   1.960   0.000  1.00  0.00          PT  \nATOM     39   Pt MOL     1     -11.760   0.000   3.920  1.00  0.00          PT  \nATOM     40   Pt MOL     1     -11.760   1.960   5.880  1.00  0.00          PT  \nATOM     41   Pt MOL     1      -9.800   0.000   5.880  1.00  0.00          PT  \nATOM     42   Pt MOL     1      -9.800   1.960   3.920  1.00  0.00          PT  \nATOM     43   Pt MOL     1     -11.760   0.000   7.840  1.00  0.00          PT  \nATOM     44   Pt MOL     1      -9.800   0.000   9.800  1.00  0.00          PT  \nATOM     45   Pt MOL     1      -9.800   1.960   7.840  1.00  0.00          PT  \nATOM     46   Pt MOL     1      -9.800   3.920  -5.880  1.00  0.00          PT  \nATOM     47   Pt MOL     1     -11.760   3.920  -3.920  1.00  0.00          PT  \nATOM     48   Pt MOL     1     -11.760   5.880  -1.960  1.00  0.00          PT  \nATOM     49   Pt MOL     1      -9.800   3.920  -1.960  1.00  0.00          PT  \nATOM     50   Pt MOL     1      -9.800   5.880  -3.920  1.00  0.00          PT  \nATOM     51   Pt MOL     1     -11.760   3.920   0.000  1.00  0.00          PT  \nATOM     52   Pt MOL     1     -11.760   5.880   1.960  1.00  0.00          PT  \nATOM     53   Pt MOL     1      -9.800   3.920   1.960  1.00  0.00          PT  \nATOM     54   Pt MOL     1      -9.800   5.880   0.000  1.00  0.00          PT  \nATOM     55   Pt MOL     1     -11.760   3.920   3.920  1.00  0.00          PT  \nATOM     56   Pt MOL     1      -9.800   3.920   5.880  1.00  0.00          PT  \nATOM     57   Pt MOL     1      -9.800   5.880   3.920  1.00  0.00          PT  \nATOM     58   Pt MOL     1      -9.800   7.840  -1.960  1.00  0.00          PT  \nATOM     59   Pt MOL     1     -11.760   7.840   0.000  1.00  0.00          PT  \nATOM     60   Pt MOL     1      -9.800   7.840   1.960  1.00  0.00          PT  \nATOM     61   Pt MOL     1      -9.800   9.800   0.000  1.00  0.00          PT  \nATOM     62   Pt MOL     1      -7.840  -9.800  -1.960  1.00  0.00          PT  \nATOM     63   Pt MOL     1      -5.880 -11.760  -1.960  1.00  0.00          PT  \nATOM     64   Pt MOL     1      -5.880  -9.800  -3.920  1.00  0.00          PT  \nATOM     65   Pt MOL     1      -7.840 -11.760   0.000  1.00  0.00          PT  \nATOM     66   Pt MOL     1      -7.840  -9.800   1.960  1.00  0.00          PT  \nATOM     67   Pt MOL     1      -5.880 -11.760   1.960  1.00  0.00          PT  \nATOM     68   Pt MOL     1      -5.880  -9.800   0.000  1.00  0.00          PT  \nATOM     69   Pt MOL     1      -5.880  -9.800   3.920  1.00  0.00          PT  \nATOM     70   Pt MOL     1      -7.840  -5.880  -5.880  1.00  0.00          PT  \nATOM     71   Pt MOL     1      -5.880  -7.840  -5.880  1.00  0.00          PT  \nATOM     72   Pt MOL     1      -5.880  -5.880  -7.840  1.00  0.00          PT  \nATOM     73   Pt MOL     1      -7.840  -7.840  -3.920  1.00  0.00          PT  \nATOM     74   Pt MOL     1      -7.840  -5.880  -1.960  1.00  0.00          PT  \nATOM     75   Pt MOL     1      -5.880  -7.840  -1.960  1.00  0.00          PT  \nATOM     76   Pt MOL     1      -5.880  -5.880  -3.920  1.00  0.00          PT  \nATOM     77   Pt MOL     1      -7.840  -7.840   0.000  1.00  0.00          PT  \nATOM     78   Pt MOL     1      -7.840  -5.880   1.960  1.00  0.00          PT  \nATOM     79   Pt MOL     1      -5.880  -7.840   1.960  1.00  0.00          PT  \nATOM     80   Pt MOL     1      -5.880  -5.880   0.000  1.00  0.00          PT  \nATOM     81   Pt MOL     1      -7.840  -7.840   3.920  1.00  0.00          PT  \nATOM     82   Pt MOL     1      -7.840  -5.880   5.880  1.00  0.00          PT  \nATOM     83   Pt MOL     1      -5.880  -7.840   5.880  1.00  0.00          PT  \nATOM     84   Pt MOL     1      -5.880  -5.880   3.920  1.00  0.00          PT  \nATOM     85   Pt MOL     1      -5.880  -5.880   7.840  1.00  0.00          PT  \nATOM     86   Pt MOL     1      -7.840  -1.960  -9.800  1.00  0.00          PT  \nATOM     87   Pt MOL     1      -5.880  -3.920  -9.800  1.00  0.00          PT  \nATOM     88   Pt MOL     1      -5.880  -1.960 -11.760  1.00  0.00          PT  \nATOM     89   Pt MOL     1      -7.840  -3.920  -7.840  1.00  0.00          PT  \nATOM     90   Pt MOL     1      -7.840  -1.960  -5.880  1.00  0.00          PT  \nATOM     91   Pt MOL     1      -5.880  -3.920  -5.880  1.00  0.00          PT  \nATOM     92   Pt MOL     1      -5.880  -1.960  -7.840  1.00  0.00          PT  \nATOM     93   Pt MOL     1      -7.840  -3.920  -3.920  1.00  0.00          PT  \nATOM     94   Pt MOL     1      -7.840  -1.960  -1.960  1.00  0.00          PT  \nATOM     95   Pt MOL     1      -5.880  -3.920  -1.960  1.00  0.00          PT  \nATOM     96   Pt MOL     1      -5.880  -1.960  -3.920  1.00  0.00          PT  \nATOM     97   Pt MOL     1      -7.840  -3.920   0.000  1.00  0.00          PT  \nATOM     98   Pt MOL     1      -7.840  -1.960   1.960  1.00  0.00          PT  \nATOM     99   Pt MOL     1      -5.880  -3.920   1.960  1.00  0.00          PT  \nATOM    100   Pt MOL     1      -5.880  -1.960   0.000  1.00  0.00          PT  \nATOM    101   Pt MOL     1      -7.840  -3.920   3.920  1.00  0.00          PT  \nATOM    102   Pt MOL     1      -7.840  -1.960   5.880  1.00  0.00          PT  \nATOM    103   Pt MOL     1      -5.880  -3.920   5.880  1.00  0.00          PT  \nATOM    104   Pt MOL     1      -5.880  -1.960   3.920  1.00  0.00          PT  \nATOM    105   Pt MOL     1      -7.840  -3.920   7.840  1.00  0.00          PT  \nATOM    106   Pt MOL     1      -7.840  -1.960   9.800  1.00  0.00          PT  \nATOM    107   Pt MOL     1      -5.880  -3.920   9.800  1.00  0.00          PT  \nATOM    108   Pt MOL     1      -5.880  -1.960   7.840  1.00  0.00          PT  \nATOM    109   Pt MOL     1      -5.880  -1.960  11.760  1.00  0.00          PT  \nATOM    110   Pt MOL     1      -7.840   0.000 -11.760  1.00  0.00          PT  \nATOM    111   Pt MOL     1      -7.840   1.960  -9.800  1.00  0.00          PT  \nATOM    112   Pt MOL     1      -5.880   0.000  -9.800  1.00  0.00          PT  \nATOM    113   Pt MOL     1      -5.880   1.960 -11.760  1.00  0.00          PT  \nATOM    114   Pt MOL     1      -7.840   0.000  -7.840  1.00  0.00          PT  \nATOM    115   Pt MOL     1      -7.840   1.960  -5.880  1.00  0.00          PT  \nATOM    116   Pt MOL     1      -5.880   0.000  -5.880  1.00  0.00          PT  \nATOM    117   Pt MOL     1      -5.880   1.960  -7.840  1.00  0.00          PT  \nATOM    118   Pt MOL     1      -7.840   0.000  -3.920  1.00  0.00          PT  \nATOM    119   Pt MOL     1      -7.840   1.960  -1.960  1.00  0.00          PT  \nATOM    120   Pt MOL     1      -5.880   0.000  -1.960  1.00  0.00          PT  \nATOM    121   Pt MOL     1      -5.880   1.960  -3.920  1.00  0.00          PT  \nATOM    122   Pt MOL     1      -7.840   0.000   0.000  1.00  0.00          PT  \nATOM    123   Pt MOL     1      -7.840   1.960   1.960  1.00  0.00          PT  \nATOM    124   Pt MOL     1      -5.880   0.000   1.960  1.00  0.00          PT  \nATOM    125   Pt MOL     1      -5.880   1.960   0.000  1.00  0.00          PT  \nATOM    126   Pt MOL     1      -7.840   0.000   3.920  1.00  0.00          PT  \nATOM    127   Pt MOL     1      -7.840   1.960   5.880  1.00  0.00          PT  \nATOM    128   Pt MOL     1      -5.880   0.000   5.880  1.00  0.00          PT  \nATOM    129   Pt MOL     1      -5.880   1.960   3.920  1.00  0.00          PT  \nATOM    130   Pt MOL     1      -7.840   0.000   7.840  1.00  0.00          PT  \nATOM    131   Pt MOL     1      -7.840   1.960   9.800  1.00  0.00          PT  \nATOM    132   Pt MOL     1      -5.880   0.000   9.800  1.00  0.00          PT  \nATOM    133   Pt MOL     1      -5.880   1.960   7.840  1.00  0.00          PT  \nATOM    134   Pt MOL     1      -7.840   0.000  11.760  1.00  0.00          PT  \nATOM    135   Pt MOL     1      -5.880   1.960  11.760  1.00  0.00          PT  \nATOM    136   Pt MOL     1      -5.880   3.920  -9.800  1.00  0.00          PT  \nATOM    137   Pt MOL     1      -7.840   3.920  -7.840  1.00  0.00          PT  \nATOM    138   Pt MOL     1      -7.840   5.880  -5.880  1.00  0.00          PT  \nATOM    139   Pt MOL     1      -5.880   3.920  -5.880  1.00  0.00          PT  \nATOM    140   Pt MOL     1      -5.880   5.880  -7.840  1.00  0.00          PT  \nATOM    141   Pt MOL     1      -7.840   3.920  -3.920  1.00  0.00          PT  \nATOM    142   Pt MOL     1      -7.840   5.880  -1.960  1.00  0.00          PT  \nATOM    143   Pt MOL     1      -5.880   3.920  -1.960  1.00  0.00          PT  \nATOM    144   Pt MOL     1      -5.880   5.880  -3.920  1.00  0.00          PT  \nATOM    145   Pt MOL     1      -7.840   3.920   0.000  1.00  0.00          PT  \nATOM    146   Pt MOL     1      -7.840   5.880   1.960  1.00  0.00          PT  \nATOM    147   Pt MOL     1      -5.880   3.920   1.960  1.00  0.00          PT  \nATOM    148   Pt MOL     1      -5.880   5.880   0.000  1.00  0.00          PT  \nATOM    149   Pt MOL     1      -7.840   3.920   3.920  1.00  0.00          PT  \nATOM    150   Pt MOL     1      -7.840   5.880   5.880  1.00  0.00          PT  \nATOM    151   Pt MOL     1      -5.880   3.920   5.880  1.00  0.00          PT  \nATOM    152   Pt MOL     1      -5.880   5.880   3.920  1.00  0.00          PT  \nATOM    153   Pt MOL     1      -7.840   3.920   7.840  1.00  0.00          PT  \nATOM    154   Pt MOL     1      -5.880   3.920   9.800  1.00  0.00          PT  \nATOM    155   Pt MOL     1      -5.880   5.880   7.840  1.00  0.00          PT  \nATOM    156   Pt MOL     1      -5.880   7.840  -5.880  1.00  0.00          PT  \nATOM    157   Pt MOL     1      -7.840   7.840  -3.920  1.00  0.00          PT  \nATOM    158   Pt MOL     1      -7.840   9.800  -1.960  1.00  0.00          PT  \nATOM    159   Pt MOL     1      -5.880   7.840  -1.960  1.00  0.00          PT  \nATOM    160   Pt MOL     1      -5.880   9.800  -3.920  1.00  0.00          PT  \nATOM    161   Pt MOL     1      -7.840   7.840   0.000  1.00  0.00          PT  \nATOM    162   Pt MOL     1      -7.840   9.800   1.960  1.00  0.00          PT  \nATOM    163   Pt MOL     1      -5.880   7.840   1.960  1.00  0.00          PT  \nATOM    164   Pt MOL     1      -5.880   9.800   0.000  1.00  0.00          PT  \nATOM    165   Pt MOL     1      -7.840   7.840   3.920  1.00  0.00          PT  \nATOM    166   Pt MOL     1      -5.880   7.840   5.880  1.00  0.00          PT  \nATOM    167   Pt MOL     1      -5.880   9.800   3.920  1.00  0.00          PT  \nATOM    168   Pt MOL     1      -5.880  11.760  -1.960  1.00  0.00          PT  \nATOM    169   Pt MOL     1      -7.840  11.760   0.000  1.00  0.00          PT  \nATOM    170   Pt MOL     1      -5.880  11.760   1.960  1.00  0.00          PT  \nATOM    171   Pt MOL     1      -3.920  -9.800  -5.880  1.00  0.00          PT  \nATOM    172   Pt MOL     1      -1.960 -11.760  -5.880  1.00  0.00          PT  \nATOM    173   Pt MOL     1      -1.960  -9.800  -7.840  1.00  0.00          PT  \nATOM    174   Pt MOL     1      -3.920 -11.760  -3.920  1.00  0.00          PT  \nATOM    175   Pt MOL     1      -3.920  -9.800  -1.960  1.00  0.00          PT  \nATOM    176   Pt MOL     1      -1.960 -11.760  -1.960  1.00  0.00          PT  \nATOM    177   Pt MOL     1      -1.960  -9.800  -3.920  1.00  0.00          PT  \nATOM    178   Pt MOL     1      -3.920 -11.760   0.000  1.00  0.00          PT  \nATOM    179   Pt MOL     1      -3.920  -9.800   1.960  1.00  0.00          PT  \nATOM    180   Pt MOL     1      -1.960 -11.760   1.960  1.00  0.00          PT  \nATOM    181   Pt MOL     1      -1.960  -9.800   0.000  1.00  0.00          PT  \nATOM    182   Pt MOL     1      -3.920 -11.760   3.920  1.00  0.00          PT  \nATOM    183   Pt MOL     1      -3.920  -9.800   5.880  1.00  0.00          PT  \nATOM    184   Pt MOL     1      -1.960 -11.760   5.880  1.00  0.00          PT  \nATOM    185   Pt MOL     1      -1.960  -9.800   3.920  1.00  0.00          PT  \nATOM    186   Pt MOL     1      -1.960  -9.800   7.840  1.00  0.00          PT  \nATOM    187   Pt MOL     1      -3.920  -5.880  -9.800  1.00  0.00          PT  \nATOM    188   Pt MOL     1      -1.960  -7.840  -9.800  1.00  0.00          PT  \nATOM    189   Pt MOL     1      -1.960  -5.880 -11.760  1.00  0.00          PT  \nATOM    190   Pt MOL     1      -3.920  -7.840  -7.840  1.00  0.00          PT  \nATOM    191   Pt MOL     1      -3.920  -5.880  -5.880  1.00  0.00          PT  \nATOM    192   Pt MOL     1      -1.960  -7.840  -5.880  1.00  0.00          PT  \nATOM    193   Pt MOL     1      -1.960  -5.880  -7.840  1.00  0.00          PT  \nATOM    194   Pt MOL     1      -3.920  -7.840  -3.920  1.00  0.00          PT  \nATOM    195   Pt MOL     1      -3.920  -5.880  -1.960  1.00  0.00          PT  \nATOM    196   Pt MOL     1      -1.960  -7.840  -1.960  1.00  0.00          PT  \nATOM    197   Pt MOL     1      -1.960  -5.880  -3.920  1.00  0.00          PT  \nATOM    198   Pt MOL     1      -3.920  -7.840   0.000  1.00  0.00          PT  \nATOM    199   Pt MOL     1      -3.920  -5.880   1.960  1.00  0.00          PT  \nATOM    200   Pt MOL     1      -1.960  -7.840   1.960  1.00  0.00          PT  \nATOM    201   Pt MOL     1      -1.960  -5.880   0.000  1.00  0.00          PT  \nATOM    202   Pt MOL     1      -3.920  -7.840   3.920  1.00  0.00          PT  \nATOM    203   Pt MOL     1      -3.920  -5.880   5.880  1.00  0.00          PT  \nATOM    204   Pt MOL     1      -1.960  -7.840   5.880  1.00  0.00          PT  \nATOM    205   Pt MOL     1      -1.960  -5.880   3.920  1.00  0.00          PT  \nATOM    206   Pt MOL     1      -3.920  -7.840   7.840  1.00  0.00          PT  \nATOM    207   Pt MOL     1      -3.920  -5.880   9.800  1.00  0.00          PT  \nATOM    208   Pt MOL     1      -1.960  -7.840   9.800  1.00  0.00          PT  \nATOM    209   Pt MOL     1      -1.960  -5.880   7.840  1.00  0.00          PT  \nATOM    210   Pt MOL     1      -1.960  -5.880  11.760  1.00  0.00          PT  \nATOM    211   Pt MOL     1      -3.920  -3.920 -11.760  1.00  0.00          PT  \nATOM    212   Pt MOL     1      -3.920  -1.960  -9.800  1.00  0.00          PT  \nATOM    213   Pt MOL     1      -1.960  -3.920  -9.800  1.00  0.00          PT  \nATOM    214   Pt MOL     1      -1.960  -1.960 -11.760  1.00  0.00          PT  \nATOM    215   Pt MOL     1      -3.920  -3.920  -7.840  1.00  0.00          PT  \nATOM    216   Pt MOL     1      -3.920  -1.960  -5.880  1.00  0.00          PT  \nATOM    217   Pt MOL     1      -1.960  -3.920  -5.880  1.00  0.00          PT  \nATOM    218   Pt MOL     1      -1.960  -1.960  -7.840  1.00  0.00          PT  \nATOM    219   Pt MOL     1      -3.920  -3.920  -3.920  1.00  0.00          PT  \nATOM    220   Pt MOL     1      -3.920  -1.960  -1.960  1.00  0.00          PT  \nATOM    221   Pt MOL     1      -1.960  -3.920  -1.960  1.00  0.00          PT  \nATOM    222   Pt MOL     1      -1.960  -1.960  -3.920  1.00  0.00          PT  \nATOM    223   Pt MOL     1      -3.920  -3.920   0.000  1.00  0.00          PT  \nATOM    224   Pt MOL     1      -3.920  -1.960   1.960  1.00  0.00          PT  \nATOM    225   Pt MOL     1      -1.960  -3.920   1.960  1.00  0.00          PT  \nATOM    226   Pt MOL     1      -1.960  -1.960   0.000  1.00  0.00          PT  \nATOM    227   Pt MOL     1      -3.920  -3.920   3.920  1.00  0.00          PT  \nATOM    228   Pt MOL     1      -3.920  -1.960   5.880  1.00  0.00          PT  \nATOM    229   Pt MOL     1      -1.960  -3.920   5.880  1.00  0.00          PT  \nATOM    230   Pt MOL     1      -1.960  -1.960   3.920  1.00  0.00          PT  \nATOM    231   Pt MOL     1      -3.920  -3.920   7.840  1.00  0.00          PT  \nATOM    232   Pt MOL     1      -3.920  -1.960   9.800  1.00  0.00          PT  \nATOM    233   Pt MOL     1      -1.960  -3.920   9.800  1.00  0.00          PT  \nATOM    234   Pt MOL     1      -1.960  -1.960   7.840  1.00  0.00          PT  \nATOM    235   Pt MOL     1      -3.920  -3.920  11.760  1.00  0.00          PT  \nATOM    236   Pt MOL     1      -1.960  -1.960  11.760  1.00  0.00          PT  \nATOM    237   Pt MOL     1      -3.920   0.000 -11.760  1.00  0.00          PT  \nATOM    238   Pt MOL     1      -3.920   1.960  -9.800  1.00  0.00          PT  \nATOM    239   Pt MOL     1      -1.960   0.000  -9.800  1.00  0.00          PT  \nATOM    240   Pt MOL     1      -1.960   1.960 -11.760  1.00  0.00          PT  \nATOM    241   Pt MOL     1      -3.920   0.000  -7.840  1.00  0.00          PT  \nATOM    242   Pt MOL     1      -3.920   1.960  -5.880  1.00  0.00          PT  \nATOM    243   Pt MOL     1      -1.960   0.000  -5.880  1.00  0.00          PT  \nATOM    244   Pt MOL     1      -1.960   1.960  -7.840  1.00  0.00          PT  \nATOM    245   Pt MOL     1      -3.920   0.000  -3.920  1.00  0.00          PT  \nATOM    246   Pt MOL     1      -3.920   1.960  -1.960  1.00  0.00          PT  \nATOM    247   Pt MOL     1      -1.960   0.000  -1.960  1.00  0.00          PT  \nATOM    248   Pt MOL     1      -1.960   1.960  -3.920  1.00  0.00          PT  \nATOM    249   Pt MOL     1      -3.920   0.000   0.000  1.00  0.00          PT  \nATOM    250   Pt MOL     1      -3.920   1.960   1.960  1.00  0.00          PT  \nATOM    251   Pt MOL     1      -1.960   0.000   1.960  1.00  0.00          PT  \nATOM    252   Pt MOL     1      -1.960   1.960   0.000  1.00  0.00          PT  \nATOM    253   Pt MOL     1      -3.920   0.000   3.920  1.00  0.00          PT  \nATOM    254   Pt MOL     1      -3.920   1.960   5.880  1.00  0.00          PT  \nATOM    255   Pt MOL     1      -1.960   0.000   5.880  1.00  0.00          PT  \nATOM    256   Pt MOL     1      -1.960   1.960   3.920  1.00  0.00          PT  \nATOM    257   Pt MOL     1      -3.920   0.000   7.840  1.00  0.00          PT  \nATOM    258   Pt MOL     1      -3.920   1.960   9.800  1.00  0.00          PT  \nATOM    259   Pt MOL     1      -1.960   0.000   9.800  1.00  0.00          PT  \nATOM    260   Pt MOL     1      -1.960   1.960   7.840  1.00  0.00          PT  \nATOM    261   Pt MOL     1      -3.920   0.000  11.760  1.00  0.00          PT  \nATOM    262   Pt MOL     1      -1.960   1.960  11.760  1.00  0.00          PT  \nATOM    263   Pt MOL     1      -3.920   3.920 -11.760  1.00  0.00          PT  \nATOM    264   Pt MOL     1      -3.920   5.880  -9.800  1.00  0.00          PT  \nATOM    265   Pt MOL     1      -1.960   3.920  -9.800  1.00  0.00          PT  \nATOM    266   Pt MOL     1      -1.960   5.880 -11.760  1.00  0.00          PT  \nATOM    267   Pt MOL     1      -3.920   3.920  -7.840  1.00  0.00          PT  \nATOM    268   Pt MOL     1      -3.920   5.880  -5.880  1.00  0.00          PT  \nATOM    269   Pt MOL     1      -1.960   3.920  -5.880  1.00  0.00          PT  \nATOM    270   Pt MOL     1      -1.960   5.880  -7.840  1.00  0.00          PT  \nATOM    271   Pt MOL     1      -3.920   3.920  -3.920  1.00  0.00          PT  \nATOM    272   Pt MOL     1      -3.920   5.880  -1.960  1.00  0.00          PT  \nATOM    273   Pt MOL     1      -1.960   3.920  -1.960  1.00  0.00          PT  \nATOM    274   Pt MOL     1      -1.960   5.880  -3.920  1.00  0.00          PT  \nATOM    275   Pt MOL     1      -3.920   3.920   0.000  1.00  0.00          PT  \nATOM    276   Pt MOL     1      -3.920   5.880   1.960  1.00  0.00          PT  \nATOM    277   Pt MOL     1      -1.960   3.920   1.960  1.00  0.00          PT  \nATOM    278   Pt MOL     1      -1.960   5.880   0.000  1.00  0.00          PT  \nATOM    279   Pt MOL     1      -3.920   3.920   3.920  1.00  0.00          PT  \nATOM    280   Pt MOL     1      -3.920   5.880   5.880  1.00  0.00          PT  \nATOM    281   Pt MOL     1      -1.960   3.920   5.880  1.00  0.00          PT  \nATOM    282   Pt MOL     1      -1.960   5.880   3.920  1.00  0.00          PT  \nATOM    283   Pt MOL     1      -3.920   3.920   7.840  1.00  0.00          PT  \nATOM    284   Pt MOL     1      -3.920   5.880   9.800  1.00  0.00          PT  \nATOM    285   Pt MOL     1      -1.960   3.920   9.800  1.00  0.00          PT  \nATOM    286   Pt MOL     1      -1.960   5.880   7.840  1.00  0.00          PT  \nATOM    287   Pt MOL     1      -3.920   3.920  11.760  1.00  0.00          PT  \nATOM    288   Pt MOL     1      -1.960   5.880  11.760  1.00  0.00          PT  \nATOM    289   Pt MOL     1      -1.960   7.840  -9.800  1.00  0.00          PT  \nATOM    290   Pt MOL     1      -3.920   7.840  -7.840  1.00  0.00          PT  \nATOM    291   Pt MOL     1      -3.920   9.800  -5.880  1.00  0.00          PT  \nATOM    292   Pt MOL     1      -1.960   7.840  -5.880  1.00  0.00          PT  \nATOM    293   Pt MOL     1      -1.960   9.800  -7.840  1.00  0.00          PT  \nATOM    294   Pt MOL     1      -3.920   7.840  -3.920  1.00  0.00          PT  \nATOM    295   Pt MOL     1      -3.920   9.800  -1.960  1.00  0.00          PT  \nATOM    296   Pt MOL     1      -1.960   7.840  -1.960  1.00  0.00          PT  \nATOM    297   Pt MOL     1      -1.960   9.800  -3.920  1.00  0.00          PT  \nATOM    298   Pt MOL     1      -3.920   7.840   0.000  1.00  0.00          PT  \nATOM    299   Pt MOL     1      -3.920   9.800   1.960  1.00  0.00          PT  \nATOM    300   Pt MOL     1      -1.960   7.840   1.960  1.00  0.00          PT  \nATOM    301   Pt MOL     1      -1.960   9.800   0.000  1.00  0.00          PT  \nATOM    302   Pt MOL     1      -3.920   7.840   3.920  1.00  0.00          PT  \nATOM    303   Pt MOL     1      -3.920   9.800   5.880  1.00  0.00          PT  \nATOM    304   Pt MOL     1      -1.960   7.840   5.880  1.00  0.00          PT  \nATOM    305   Pt MOL     1      -1.960   9.800   3.920  1.00  0.00          PT  \nATOM    306   Pt MOL     1      -3.920   7.840   7.840  1.00  0.00          PT  \nATOM    307   Pt MOL     1      -1.960   7.840   9.800  1.00  0.00          PT  \nATOM    308   Pt MOL     1      -1.960   9.800   7.840  1.00  0.00          PT  \nATOM    309   Pt MOL     1      -1.960  11.760  -5.880  1.00  0.00          PT  \nATOM    310   Pt MOL     1      -3.920  11.760  -3.920  1.00  0.00          PT  \nATOM    311   Pt MOL     1      -1.960  11.760  -1.960  1.00  0.00          PT  \nATOM    312   Pt MOL     1      -3.920  11.760   0.000  1.00  0.00          PT  \nATOM    313   Pt MOL     1      -1.960  11.760   1.960  1.00  0.00          PT  \nATOM    314   Pt MOL     1      -3.920  11.760   3.920  1.00  0.00          PT  \nATOM    315   Pt MOL     1      -1.960  11.760   5.880  1.00  0.00          PT  \nATOM    316   Pt MOL     1       0.000  -9.800  -9.800  1.00  0.00          PT  \nATOM    317   Pt MOL     1       0.000 -11.760  -7.840  1.00  0.00          PT  \nATOM    318   Pt MOL     1       0.000  -9.800  -5.880  1.00  0.00          PT  \nATOM    319   Pt MOL     1       1.960 -11.760  -5.880  1.00  0.00          PT  \nATOM    320   Pt MOL     1       1.960  -9.800  -7.840  1.00  0.00          PT  \nATOM    321   Pt MOL     1       0.000 -11.760  -3.920  1.00  0.00          PT  \nATOM    322   Pt MOL     1       0.000  -9.800  -1.960  1.00  0.00          PT  \nATOM    323   Pt MOL     1       1.960 -11.760  -1.960  1.00  0.00          PT  \nATOM    324   Pt MOL     1       1.960  -9.800  -3.920  1.00  0.00          PT  \nATOM    325   Pt MOL     1       0.000 -11.760   0.000  1.00  0.00          PT  \nATOM    326   Pt MOL     1       0.000  -9.800   1.960  1.00  0.00          PT  \nATOM    327   Pt MOL     1       1.960 -11.760   1.960  1.00  0.00          PT  \nATOM    328   Pt MOL     1       1.960  -9.800   0.000  1.00  0.00          PT  \nATOM    329   Pt MOL     1       0.000 -11.760   3.920  1.00  0.00          PT  \nATOM    330   Pt MOL     1       0.000  -9.800   5.880  1.00  0.00          PT  \nATOM    331   Pt MOL     1       1.960 -11.760   5.880  1.00  0.00          PT  \nATOM    332   Pt MOL     1       1.960  -9.800   3.920  1.00  0.00          PT  \nATOM    333   Pt MOL     1       0.000 -11.760   7.840  1.00  0.00          PT  \nATOM    334   Pt MOL     1       0.000  -9.800   9.800  1.00  0.00          PT  \nATOM    335   Pt MOL     1       1.960  -9.800   7.840  1.00  0.00          PT  \nATOM    336   Pt MOL     1       0.000  -7.840 -11.760  1.00  0.00          PT  \nATOM    337   Pt MOL     1       0.000  -5.880  -9.800  1.00  0.00          PT  \nATOM    338   Pt MOL     1       1.960  -7.840  -9.800  1.00  0.00          PT  \nATOM    339   Pt MOL     1       1.960  -5.880 -11.760  1.00  0.00          PT  \nATOM    340   Pt MOL     1       0.000  -7.840  -7.840  1.00  0.00          PT  \nATOM    341   Pt MOL     1       0.000  -5.880  -5.880  1.00  0.00          PT  \nATOM    342   Pt MOL     1       1.960  -7.840  -5.880  1.00  0.00          PT  \nATOM    343   Pt MOL     1       1.960  -5.880  -7.840  1.00  0.00          PT  \nATOM    344   Pt MOL     1       0.000  -7.840  -3.920  1.00  0.00          PT  \nATOM    345   Pt MOL     1       0.000  -5.880  -1.960  1.00  0.00          PT  \nATOM    346   Pt MOL     1       1.960  -7.840  -1.960  1.00  0.00          PT  \nATOM    347   Pt MOL     1       1.960  -5.880  -3.920  1.00  0.00          PT  \nATOM    348   Pt MOL     1       0.000  -7.840   0.000  1.00  0.00          PT  \nATOM    349   Pt MOL     1       0.000  -5.880   1.960  1.00  0.00          PT  \nATOM    350   Pt MOL     1       1.960  -7.840   1.960  1.00  0.00          PT  \nATOM    351   Pt MOL     1       1.960  -5.880   0.000  1.00  0.00          PT  \nATOM    352   Pt MOL     1       0.000  -7.840   3.920  1.00  0.00          PT  \nATOM    353   Pt MOL     1       0.000  -5.880   5.880  1.00  0.00          PT  \nATOM    354   Pt MOL     1       1.960  -7.840   5.880  1.00  0.00          PT  \nATOM    355   Pt MOL     1       1.960  -5.880   3.920  1.00  0.00          PT  \nATOM    356   Pt MOL     1       0.000  -7.840   7.840  1.00  0.00          PT  \nATOM    357   Pt MOL     1       0.000  -5.880   9.800  1.00  0.00          PT  \nATOM    358   Pt MOL     1       1.960  -7.840   9.800  1.00  0.00          PT  \nATOM    359   Pt MOL     1       1.960  -5.880   7.840  1.00  0.00          PT  \nATOM    360   Pt MOL     1       0.000  -7.840  11.760  1.00  0.00          PT  \nATOM    361   Pt MOL     1       1.960  -5.880  11.760  1.00  0.00          PT  \nATOM    362   Pt MOL     1       0.000  -3.920 -11.760  1.00  0.00          PT  \nATOM    363   Pt MOL     1       0.000  -1.960  -9.800  1.00  0.00          PT  \nATOM    364   Pt MOL     1       1.960  -3.920  -9.800  1.00  0.00          PT  \nATOM    365   Pt MOL     1       1.960  -1.960 -11.760  1.00  0.00          PT  \nATOM    366   Pt MOL     1       0.000  -3.920  -7.840  1.00  0.00          PT  \nATOM    367   Pt MOL     1       0.000  -1.960  -5.880  1.00  0.00          PT  \nATOM    368   Pt MOL     1       1.960  -3.920  -5.880  1.00  0.00          PT  \nATOM    369   Pt MOL     1       1.960  -1.960  -7.840  1.00  0.00          PT  \nATOM    370   Pt MOL     1       0.000  -3.920  -3.920  1.00  0.00          PT  \nATOM    371   Pt MOL     1       0.000  -1.960  -1.960  1.00  0.00          PT  \nATOM    372   Pt MOL     1       1.960  -3.920  -1.960  1.00  0.00          PT  \nATOM    373   Pt MOL     1       1.960  -1.960  -3.920  1.00  0.00          PT  \nATOM    374   Pt MOL     1       0.000  -3.920   0.000  1.00  0.00          PT  \nATOM    375   Pt MOL     1       0.000  -1.960   1.960  1.00  0.00          PT  \nATOM    376   Pt MOL     1       1.960  -3.920   1.960  1.00  0.00          PT  \nATOM    377   Pt MOL     1       1.960  -1.960   0.000  1.00  0.00          PT  \nATOM    378   Pt MOL     1       0.000  -3.920   3.920  1.00  0.00          PT  \nATOM    379   Pt MOL     1       0.000  -1.960   5.880  1.00  0.00          PT  \nATOM    380   Pt MOL     1       1.960  -3.920   5.880  1.00  0.00          PT  \nATOM    381   Pt MOL     1       1.960  -1.960   3.920  1.00  0.00          PT  \nATOM    382   Pt MOL     1       0.000  -3.920   7.840  1.00  0.00          PT  \nATOM    383   Pt MOL     1       0.000  -1.960   9.800  1.00  0.00          PT  \nATOM    384   Pt MOL     1       1.960  -3.920   9.800  1.00  0.00          PT  \nATOM    385   Pt MOL     1       1.960  -1.960   7.840  1.00  0.00          PT  \nATOM    386   Pt MOL     1       0.000  -3.920  11.760  1.00  0.00          PT  \nATOM    387   Pt MOL     1       1.960  -1.960  11.760  1.00  0.00          PT  \nATOM    388   Pt MOL     1       0.000   0.000 -11.760  1.00  0.00          PT  \nATOM    389   Pt MOL     1       0.000   1.960  -9.800  1.00  0.00          PT  \nATOM    390   Pt MOL     1       1.960   0.000  -9.800  1.00  0.00          PT  \nATOM    391   Pt MOL     1       1.960   1.960 -11.760  1.00  0.00          PT  \nATOM    392   Pt MOL     1       0.000   0.000  -7.840  1.00  0.00          PT  \nATOM    393   Pt MOL     1       0.000   1.960  -5.880  1.00  0.00          PT  \nATOM    394   Pt MOL     1       1.960   0.000  -5.880  1.00  0.00          PT  \nATOM    395   Pt MOL     1       1.960   1.960  -7.840  1.00  0.00          PT  \nATOM    396   Pt MOL     1       0.000   0.000  -3.920  1.00  0.00          PT  \nATOM    397   Pt MOL     1       0.000   1.960  -1.960  1.00  0.00          PT  \nATOM    398   Pt MOL     1       1.960   0.000  -1.960  1.00  0.00          PT  \nATOM    399   Pt MOL     1       1.960   1.960  -3.920  1.00  0.00          PT  \nATOM    400   Pt MOL     1       0.000   0.000   0.000  1.00  0.00          PT  \nATOM    401   Pt MOL     1       0.000   1.960   1.960  1.00  0.00          PT  \nATOM    402   Pt MOL     1       1.960   0.000   1.960  1.00  0.00          PT  \nATOM    403   Pt MOL     1       1.960   1.960   0.000  1.00  0.00          PT  \nATOM    404   Pt MOL     1       0.000   0.000   3.920  1.00  0.00          PT  \nATOM    405   Pt MOL     1       0.000   1.960   5.880  1.00  0.00          PT  \nATOM    406   Pt MOL     1       1.960   0.000   5.880  1.00  0.00          PT  \nATOM    407   Pt MOL     1       1.960   1.960   3.920  1.00  0.00          PT  \nATOM    408   Pt MOL     1       0.000   0.000   7.840  1.00  0.00          PT  \nATOM    409   Pt MOL     1       0.000   1.960   9.800  1.00  0.00          PT  \nATOM    410   Pt MOL     1       1.960   0.000   9.800  1.00  0.00          PT  \nATOM    411   Pt MOL     1       1.960   1.960   7.840  1.00  0.00          PT  \nATOM    412   Pt MOL     1       0.000   0.000  11.760  1.00  0.00          PT  \nATOM    413   Pt MOL     1       1.960   1.960  11.760  1.00  0.00          PT  \nATOM    414   Pt MOL     1       0.000   3.920 -11.760  1.00  0.00          PT  \nATOM    415   Pt MOL     1       0.000   5.880  -9.800  1.00  0.00          PT  \nATOM    416   Pt MOL     1       1.960   3.920  -9.800  1.00  0.00          PT  \nATOM    417   Pt MOL     1       1.960   5.880 -11.760  1.00  0.00          PT  \nATOM    418   Pt MOL     1       0.000   3.920  -7.840  1.00  0.00          PT  \nATOM    419   Pt MOL     1       0.000   5.880  -5.880  1.00  0.00          PT  \nATOM    420   Pt MOL     1       1.960   3.920  -5.880  1.00  0.00          PT  \nATOM    421   Pt MOL     1       1.960   5.880  -7.840  1.00  0.00          PT  \nATOM    422   Pt MOL     1       0.000   3.920  -3.920  1.00  0.00          PT  \nATOM    423   Pt MOL     1       0.000   5.880  -1.960  1.00  0.00          PT  \nATOM    424   Pt MOL     1       1.960   3.920  -1.960  1.00  0.00          PT  \nATOM    425   Pt MOL     1       1.960   5.880  -3.920  1.00  0.00          PT  \nATOM    426   Pt MOL     1       0.000   3.920   0.000  1.00  0.00          PT  \nATOM    427   Pt MOL     1       0.000   5.880   1.960  1.00  0.00          PT  \nATOM    428   Pt MOL     1       1.960   3.920   1.960  1.00  0.00          PT  \nATOM    429   Pt MOL     1       1.960   5.880   0.000  1.00  0.00          PT  \nATOM    430   Pt MOL     1       0.000   3.920   3.920  1.00  0.00          PT  \nATOM    431   Pt MOL     1       0.000   5.880   5.880  1.00  0.00          PT  \nATOM    432   Pt MOL     1       1.960   3.920   5.880  1.00  0.00          PT  \nATOM    433   Pt MOL     1       1.960   5.880   3.920  1.00  0.00          PT  \nATOM    434   Pt MOL     1       0.000   3.920   7.840  1.00  0.00          PT  \nATOM    435   Pt MOL     1       0.000   5.880   9.800  1.00  0.00          PT  \nATOM    436   Pt MOL     1       1.960   3.920   9.800  1.00  0.00          PT  \nATOM    437   Pt MOL     1       1.960   5.880   7.840  1.00  0.00          PT  \nATOM    438   Pt MOL     1       0.000   3.920  11.760  1.00  0.00          PT  \nATOM    439   Pt MOL     1       1.960   5.880  11.760  1.00  0.00          PT  \nATOM    440   Pt MOL     1       0.000   7.840 -11.760  1.00  0.00          PT  \nATOM    441   Pt MOL     1       0.000   9.800  -9.800  1.00  0.00          PT  \nATOM    442   Pt MOL     1       1.960   7.840  -9.800  1.00  0.00          PT  \nATOM    443   Pt MOL     1       0.000   7.840  -7.840  1.00  0.00          PT  \nATOM    444   Pt MOL     1       0.000   9.800  -5.880  1.00  0.00          PT  \nATOM    445   Pt MOL     1       1.960   7.840  -5.880  1.00  0.00          PT  \nATOM    446   Pt MOL     1       1.960   9.800  -7.840  1.00  0.00          PT  \nATOM    447   Pt MOL     1       0.000   7.840  -3.920  1.00  0.00          PT  \nATOM    448   Pt MOL     1       0.000   9.800  -1.960  1.00  0.00          PT  \nATOM    449   Pt MOL     1       1.960   7.840  -1.960  1.00  0.00          PT  \nATOM    450   Pt MOL     1       1.960   9.800  -3.920  1.00  0.00          PT  \nATOM    451   Pt MOL     1       0.000   7.840   0.000  1.00  0.00          PT  \nATOM    452   Pt MOL     1       0.000   9.800   1.960  1.00  0.00          PT  \nATOM    453   Pt MOL     1       1.960   7.840   1.960  1.00  0.00          PT  \nATOM    454   Pt MOL     1       1.960   9.800   0.000  1.00  0.00          PT  \nATOM    455   Pt MOL     1       0.000   7.840   3.920  1.00  0.00          PT  \nATOM    456   Pt MOL     1       0.000   9.800   5.880  1.00  0.00          PT  \nATOM    457   Pt MOL     1       1.960   7.840   5.880  1.00  0.00          PT  \nATOM    458   Pt MOL     1       1.960   9.800   3.920  1.00  0.00          PT  \nATOM    459   Pt MOL     1       0.000   7.840   7.840  1.00  0.00          PT  \nATOM    460   Pt MOL     1       0.000   9.800   9.800  1.00  0.00          PT  \nATOM    461   Pt MOL     1       1.960   7.840   9.800  1.00  0.00          PT  \nATOM    462   Pt MOL     1       1.960   9.800   7.840  1.00  0.00          PT  \nATOM    463   Pt MOL     1       0.000   7.840  11.760  1.00  0.00          PT  \nATOM    464   Pt MOL     1       0.000  11.760  -7.840  1.00  0.00          PT  \nATOM    465   Pt MOL     1       1.960  11.760  -5.880  1.00  0.00          PT  \nATOM    466   Pt MOL     1       0.000  11.760  -3.920  1.00  0.00          PT  \nATOM    467   Pt MOL     1       1.960  11.760  -1.960  1.00  0.00          PT  \nATOM    468   Pt MOL     1       0.000  11.760   0.000  1.00  0.00          PT  \nATOM    469   Pt MOL     1       1.960  11.760   1.960  1.00  0.00          PT  \nATOM    470   Pt MOL     1       0.000  11.760   3.920  1.00  0.00          PT  \nATOM    471   Pt MOL     1       1.960  11.760   5.880  1.00  0.00          PT  \nATOM    472   Pt MOL     1       0.000  11.760   7.840  1.00  0.00          PT  \nATOM    473   Pt MOL     1       3.920  -9.800  -5.880  1.00  0.00          PT  \nATOM    474   Pt MOL     1       3.920 -11.760  -3.920  1.00  0.00          PT  \nATOM    475   Pt MOL     1       3.920  -9.800  -1.960  1.00  0.00          PT  \nATOM    476   Pt MOL     1       5.880 -11.760  -1.960  1.00  0.00          PT  \nATOM    477   Pt MOL     1       5.880  -9.800  -3.920  1.00  0.00          PT  \nATOM    478   Pt MOL     1       3.920 -11.760   0.000  1.00  0.00          PT  \nATOM    479   Pt MOL     1       3.920  -9.800   1.960  1.00  0.00          PT  \nATOM    480   Pt MOL     1       5.880 -11.760   1.960  1.00  0.00          PT  \nATOM    481   Pt MOL     1       5.880  -9.800   0.000  1.00  0.00          PT  \nATOM    482   Pt MOL     1       3.920 -11.760   3.920  1.00  0.00          PT  \nATOM    483   Pt MOL     1       3.920  -9.800   5.880  1.00  0.00          PT  \nATOM    484   Pt MOL     1       5.880  -9.800   3.920  1.00  0.00          PT  \nATOM    485   Pt MOL     1       3.920  -5.880  -9.800  1.00  0.00          PT  \nATOM    486   Pt MOL     1       3.920  -7.840  -7.840  1.00  0.00          PT  \nATOM    487   Pt MOL     1       3.920  -5.880  -5.880  1.00  0.00          PT  \nATOM    488   Pt MOL     1       5.880  -7.840  -5.880  1.00  0.00          PT  \nATOM    489   Pt MOL     1       5.880  -5.880  -7.840  1.00  0.00          PT  \nATOM    490   Pt MOL     1       3.920  -7.840  -3.920  1.00  0.00          PT  \nATOM    491   Pt MOL     1       3.920  -5.880  -1.960  1.00  0.00          PT  \nATOM    492   Pt MOL     1       5.880  -7.840  -1.960  1.00  0.00          PT  \nATOM    493   Pt MOL     1       5.880  -5.880  -3.920  1.00  0.00          PT  \nATOM    494   Pt MOL     1       3.920  -7.840   0.000  1.00  0.00          PT  \nATOM    495   Pt MOL     1       3.920  -5.880   1.960  1.00  0.00          PT  \nATOM    496   Pt MOL     1       5.880  -7.840   1.960  1.00  0.00          PT  \nATOM    497   Pt MOL     1       5.880  -5.880   0.000  1.00  0.00          PT  \nATOM    498   Pt MOL     1       3.920  -7.840   3.920  1.00  0.00          PT  \nATOM    499   Pt MOL     1       3.920  -5.880   5.880  1.00  0.00          PT  \nATOM    500   Pt MOL     1       5.880  -7.840   5.880  1.00  0.00          PT  \nATOM    501   Pt MOL     1       5.880  -5.880   3.920  1.00  0.00          PT  \nATOM    502   Pt MOL     1       3.920  -7.840   7.840  1.00  0.00          PT  \nATOM    503   Pt MOL     1       3.920  -5.880   9.800  1.00  0.00          PT  \nATOM    504   Pt MOL     1       5.880  -5.880   7.840  1.00  0.00          PT  \nATOM    505   Pt MOL     1       3.920  -3.920 -11.760  1.00  0.00          PT  \nATOM    506   Pt MOL     1       3.920  -1.960  -9.800  1.00  0.00          PT  \nATOM    507   Pt MOL     1       5.880  -3.920  -9.800  1.00  0.00          PT  \nATOM    508   Pt MOL     1       5.880  -1.960 -11.760  1.00  0.00          PT  \nATOM    509   Pt MOL     1       3.920  -3.920  -7.840  1.00  0.00          PT  \nATOM    510   Pt MOL     1       3.920  -1.960  -5.880  1.00  0.00          PT  \nATOM    511   Pt MOL     1       5.880  -3.920  -5.880  1.00  0.00          PT  \nATOM    512   Pt MOL     1       5.880  -1.960  -7.840  1.00  0.00          PT  \nATOM    513   Pt MOL     1       3.920  -3.920  -3.920  1.00  0.00          PT  \nATOM    514   Pt MOL     1       3.920  -1.960  -1.960  1.00  0.00          PT  \nATOM    515   Pt MOL     1       5.880  -3.920  -1.960  1.00  0.00          PT  \nATOM    516   Pt MOL     1       5.880  -1.960  -3.920  1.00  0.00          PT  \nATOM    517   Pt MOL     1       3.920  -3.920   0.000  1.00  0.00          PT  \nATOM    518   Pt MOL     1       3.920  -1.960   1.960  1.00  0.00          PT  \nATOM    519   Pt MOL     1       5.880  -3.920   1.960  1.00  0.00          PT  \nATOM    520   Pt MOL     1       5.880  -1.960   0.000  1.00  0.00          PT  \nATOM    521   Pt MOL     1       3.920  -3.920   3.920  1.00  0.00          PT  \nATOM    522   Pt MOL     1       3.920  -1.960   5.880  1.00  0.00          PT  \nATOM    523   Pt MOL     1       5.880  -3.920   5.880  1.00  0.00          PT  \nATOM    524   Pt MOL     1       5.880  -1.960   3.920  1.00  0.00          PT  \nATOM    525   Pt MOL     1       3.920  -3.920   7.840  1.00  0.00          PT  \nATOM    526   Pt MOL     1       3.920  -1.960   9.800  1.00  0.00          PT  \nATOM    527   Pt MOL     1       5.880  -3.920   9.800  1.00  0.00          PT  \nATOM    528   Pt MOL     1       5.880  -1.960   7.840  1.00  0.00          PT  \nATOM    529   Pt MOL     1       3.920  -3.920  11.760  1.00  0.00          PT  \nATOM    530   Pt MOL     1       5.880  -1.960  11.760  1.00  0.00          PT  \nATOM    531   Pt MOL     1       3.920   0.000 -11.760  1.00  0.00          PT  \nATOM    532   Pt MOL     1       3.920   1.960  -9.800  1.00  0.00          PT  \nATOM    533   Pt MOL     1       5.880   0.000  -9.800  1.00  0.00          PT  \nATOM    534   Pt MOL     1       5.880   1.960 -11.760  1.00  0.00          PT  \nATOM    535   Pt MOL     1       3.920   0.000  -7.840  1.00  0.00          PT  \nATOM    536   Pt MOL     1       3.920   1.960  -5.880  1.00  0.00          PT  \nATOM    537   Pt MOL     1       5.880   0.000  -5.880  1.00  0.00          PT  \nATOM    538   Pt MOL     1       5.880   1.960  -7.840  1.00  0.00          PT  \nATOM    539   Pt MOL     1       3.920   0.000  -3.920  1.00  0.00          PT  \nATOM    540   Pt MOL     1       3.920   1.960  -1.960  1.00  0.00          PT  \nATOM    541   Pt MOL     1       5.880   0.000  -1.960  1.00  0.00          PT  \nATOM    542   Pt MOL     1       5.880   1.960  -3.920  1.00  0.00          PT  \nATOM    543   Pt MOL     1       3.920   0.000   0.000  1.00  0.00          PT  \nATOM    544   Pt MOL     1       3.920   1.960   1.960  1.00  0.00          PT  \nATOM    545   Pt MOL     1       5.880   0.000   1.960  1.00  0.00          PT  \nATOM    546   Pt MOL     1       5.880   1.960   0.000  1.00  0.00          PT  \nATOM    547   Pt MOL     1       3.920   0.000   3.920  1.00  0.00          PT  \nATOM    548   Pt MOL     1       3.920   1.960   5.880  1.00  0.00          PT  \nATOM    549   Pt MOL     1       5.880   0.000   5.880  1.00  0.00          PT  \nATOM    550   Pt MOL     1       5.880   1.960   3.920  1.00  0.00          PT  \nATOM    551   Pt MOL     1       3.920   0.000   7.840  1.00  0.00          PT  \nATOM    552   Pt MOL     1       3.920   1.960   9.800  1.00  0.00          PT  \nATOM    553   Pt MOL     1       5.880   0.000   9.800  1.00  0.00          PT  \nATOM    554   Pt MOL     1       5.880   1.960   7.840  1.00  0.00          PT  \nATOM    555   Pt MOL     1       3.920   0.000  11.760  1.00  0.00          PT  \nATOM    556   Pt MOL     1       5.880   1.960  11.760  1.00  0.00          PT  \nATOM    557   Pt MOL     1       3.920   3.920 -11.760  1.00  0.00          PT  \nATOM    558   Pt MOL     1       3.920   5.880  -9.800  1.00  0.00          PT  \nATOM    559   Pt MOL     1       5.880   3.920  -9.800  1.00  0.00          PT  \nATOM    560   Pt MOL     1       3.920   3.920  -7.840  1.00  0.00          PT  \nATOM    561   Pt MOL     1       3.920   5.880  -5.880  1.00  0.00          PT  \nATOM    562   Pt MOL     1       5.880   3.920  -5.880  1.00  0.00          PT  \nATOM    563   Pt MOL     1       5.880   5.880  -7.840  1.00  0.00          PT  \nATOM    564   Pt MOL     1       3.920   3.920  -3.920  1.00  0.00          PT  \nATOM    565   Pt MOL     1       3.920   5.880  -1.960  1.00  0.00          PT  \nATOM    566   Pt MOL     1       5.880   3.920  -1.960  1.00  0.00          PT  \nATOM    567   Pt MOL     1       5.880   5.880  -3.920  1.00  0.00          PT  \nATOM    568   Pt MOL     1       3.920   3.920   0.000  1.00  0.00          PT  \nATOM    569   Pt MOL     1       3.920   5.880   1.960  1.00  0.00          PT  \nATOM    570   Pt MOL     1       5.880   3.920   1.960  1.00  0.00          PT  \nATOM    571   Pt MOL     1       5.880   5.880   0.000  1.00  0.00          PT  \nATOM    572   Pt MOL     1       3.920   3.920   3.920  1.00  0.00          PT  \nATOM    573   Pt MOL     1       3.920   5.880   5.880  1.00  0.00          PT  \nATOM    574   Pt MOL     1       5.880   3.920   5.880  1.00  0.00          PT  \nATOM    575   Pt MOL     1       5.880   5.880   3.920  1.00  0.00          PT  \nATOM    576   Pt MOL     1       3.920   3.920   7.840  1.00  0.00          PT  \nATOM    577   Pt MOL     1       3.920   5.880   9.800  1.00  0.00          PT  \nATOM    578   Pt MOL     1       5.880   3.920   9.800  1.00  0.00          PT  \nATOM    579   Pt MOL     1       5.880   5.880   7.840  1.00  0.00          PT  \nATOM    580   Pt MOL     1       3.920   3.920  11.760  1.00  0.00          PT  \nATOM    581   Pt MOL     1       3.920   7.840  -7.840  1.00  0.00          PT  \nATOM    582   Pt MOL     1       3.920   9.800  -5.880  1.00  0.00          PT  \nATOM    583   Pt MOL     1       5.880   7.840  -5.880  1.00  0.00          PT  \nATOM    584   Pt MOL     1       3.920   7.840  -3.920  1.00  0.00          PT  \nATOM    585   Pt MOL     1       3.920   9.800  -1.960  1.00  0.00          PT  \nATOM    586   Pt MOL     1       5.880   7.840  -1.960  1.00  0.00          PT  \nATOM    587   Pt MOL     1       5.880   9.800  -3.920  1.00  0.00          PT  \nATOM    588   Pt MOL     1       3.920   7.840   0.000  1.00  0.00          PT  \nATOM    589   Pt MOL     1       3.920   9.800   1.960  1.00  0.00          PT  \nATOM    590   Pt MOL     1       5.880   7.840   1.960  1.00  0.00          PT  \nATOM    591   Pt MOL     1       5.880   9.800   0.000  1.00  0.00          PT  \nATOM    592   Pt MOL     1       3.920   7.840   3.920  1.00  0.00          PT  \nATOM    593   Pt MOL     1       3.920   9.800   5.880  1.00  0.00          PT  \nATOM    594   Pt MOL     1       5.880   7.840   5.880  1.00  0.00          PT  \nATOM    595   Pt MOL     1       5.880   9.800   3.920  1.00  0.00          PT  \nATOM    596   Pt MOL     1       3.920   7.840   7.840  1.00  0.00          PT  \nATOM    597   Pt MOL     1       3.920  11.760  -3.920  1.00  0.00          PT  \nATOM    598   Pt MOL     1       5.880  11.760  -1.960  1.00  0.00          PT  \nATOM    599   Pt MOL     1       3.920  11.760   0.000  1.00  0.00          PT  \nATOM    600   Pt MOL     1       5.880  11.760   1.960  1.00  0.00          PT  \nATOM    601   Pt MOL     1       3.920  11.760   3.920  1.00  0.00          PT  \nATOM    602   Pt MOL     1       7.840  -9.800  -1.960  1.00  0.00          PT  \nATOM    603   Pt MOL     1       7.840 -11.760   0.000  1.00  0.00          PT  \nATOM    604   Pt MOL     1       7.840  -9.800   1.960  1.00  0.00          PT  \nATOM    605   Pt MOL     1       9.800  -9.800   0.000  1.00  0.00          PT  \nATOM    606   Pt MOL     1       7.840  -5.880  -5.880  1.00  0.00          PT  \nATOM    607   Pt MOL     1       7.840  -7.840  -3.920  1.00  0.00          PT  \nATOM    608   Pt MOL     1       7.840  -5.880  -1.960  1.00  0.00          PT  \nATOM    609   Pt MOL     1       9.800  -7.840  -1.960  1.00  0.00          PT  \nATOM    610   Pt MOL     1       9.800  -5.880  -3.920  1.00  0.00          PT  \nATOM    611   Pt MOL     1       7.840  -7.840   0.000  1.00  0.00          PT  \nATOM    612   Pt MOL     1       7.840  -5.880   1.960  1.00  0.00          PT  \nATOM    613   Pt MOL     1       9.800  -7.840   1.960  1.00  0.00          PT  \nATOM    614   Pt MOL     1       9.800  -5.880   0.000  1.00  0.00          PT  \nATOM    615   Pt MOL     1       7.840  -7.840   3.920  1.00  0.00          PT  \nATOM    616   Pt MOL     1       7.840  -5.880   5.880  1.00  0.00          PT  \nATOM    617   Pt MOL     1       9.800  -5.880   3.920  1.00  0.00          PT  \nATOM    618   Pt MOL     1       7.840  -1.960  -9.800  1.00  0.00          PT  \nATOM    619   Pt MOL     1       7.840  -3.920  -7.840  1.00  0.00          PT  \nATOM    620   Pt MOL     1       7.840  -1.960  -5.880  1.00  0.00          PT  \nATOM    621   Pt MOL     1       9.800  -3.920  -5.880  1.00  0.00          PT  \nATOM    622   Pt MOL     1       9.800  -1.960  -7.840  1.00  0.00          PT  \nATOM    623   Pt MOL     1       7.840  -3.920  -3.920  1.00  0.00          PT  \nATOM    624   Pt MOL     1       7.840  -1.960  -1.960  1.00  0.00          PT  \nATOM    625   Pt MOL     1       9.800  -3.920  -1.960  1.00  0.00          PT  \nATOM    626   Pt MOL     1       9.800  -1.960  -3.920  1.00  0.00          PT  \nATOM    627   Pt MOL     1       7.840  -3.920   0.000  1.00  0.00          PT  \nATOM    628   Pt MOL     1       7.840  -1.960   1.960  1.00  0.00          PT  \nATOM    629   Pt MOL     1       9.800  -3.920   1.960  1.00  0.00          PT  \nATOM    630   Pt MOL     1       9.800  -1.960   0.000  1.00  0.00          PT  \nATOM    631   Pt MOL     1       7.840  -3.920   3.920  1.00  0.00          PT  \nATOM    632   Pt MOL     1       7.840  -1.960   5.880  1.00  0.00          PT  \nATOM    633   Pt MOL     1       9.800  -3.920   5.880  1.00  0.00          PT  \nATOM    634   Pt MOL     1       9.800  -1.960   3.920  1.00  0.00          PT  \nATOM    635   Pt MOL     1       7.840  -3.920   7.840  1.00  0.00          PT  \nATOM    636   Pt MOL     1       7.840  -1.960   9.800  1.00  0.00          PT  \nATOM    637   Pt MOL     1       9.800  -1.960   7.840  1.00  0.00          PT  \nATOM    638   Pt MOL     1       7.840   0.000 -11.760  1.00  0.00          PT  \nATOM    639   Pt MOL     1       7.840   1.960  -9.800  1.00  0.00          PT  \nATOM    640   Pt MOL     1       9.800   0.000  -9.800  1.00  0.00          PT  \nATOM    641   Pt MOL     1       7.840   0.000  -7.840  1.00  0.00          PT  \nATOM    642   Pt MOL     1       7.840   1.960  -5.880  1.00  0.00          PT  \nATOM    643   Pt MOL     1       9.800   0.000  -5.880  1.00  0.00          PT  \nATOM    644   Pt MOL     1       9.800   1.960  -7.840  1.00  0.00          PT  \nATOM    645   Pt MOL     1       7.840   0.000  -3.920  1.00  0.00          PT  \nATOM    646   Pt MOL     1       7.840   1.960  -1.960  1.00  0.00          PT  \nATOM    647   Pt MOL     1       9.800   0.000  -1.960  1.00  0.00          PT  \nATOM    648   Pt MOL     1       9.800   1.960  -3.920  1.00  0.00          PT  \nATOM    649   Pt MOL     1       7.840   0.000   0.000  1.00  0.00          PT  \nATOM    650   Pt MOL     1       7.840   1.960   1.960  1.00  0.00          PT  \nATOM    651   Pt MOL     1       9.800   0.000   1.960  1.00  0.00          PT  \nATOM    652   Pt MOL     1       9.800   1.960   0.000  1.00  0.00          PT  \nATOM    653   Pt MOL     1       7.840   0.000   3.920  1.00  0.00          PT  \nATOM    654   Pt MOL     1       7.840   1.960   5.880  1.00  0.00          PT  \nATOM    655   Pt MOL     1       9.800   0.000   5.880  1.00  0.00          PT  \nATOM    656   Pt MOL     1       9.800   1.960   3.920  1.00  0.00          PT  \nATOM    657   Pt MOL     1       7.840   0.000   7.840  1.00  0.00          PT  \nATOM    658   Pt MOL     1       7.840   1.960   9.800  1.00  0.00          PT  \nATOM    659   Pt MOL     1       9.800   0.000   9.800  1.00  0.00          PT  \nATOM    660   Pt MOL     1       9.800   1.960   7.840  1.00  0.00          PT  \nATOM    661   Pt MOL     1       7.840   0.000  11.760  1.00  0.00          PT  \nATOM    662   Pt MOL     1       7.840   3.920  -7.840  1.00  0.00          PT  \nATOM    663   Pt MOL     1       7.840   5.880  -5.880  1.00  0.00          PT  \nATOM    664   Pt MOL     1       9.800   3.920  -5.880  1.00  0.00          PT  \nATOM    665   Pt MOL     1       7.840   3.920  -3.920  1.00  0.00          PT  \nATOM    666   Pt MOL     1       7.840   5.880  -1.960  1.00  0.00          PT  \nATOM    667   Pt MOL     1       9.800   3.920  -1.960  1.00  0.00          PT  \nATOM    668   Pt MOL     1       9.800   5.880  -3.920  1.00  0.00          PT  \nATOM    669   Pt MOL     1       7.840   3.920   0.000  1.00  0.00          PT  \nATOM    670   Pt MOL     1       7.840   5.880   1.960  1.00  0.00          PT  \nATOM    671   Pt MOL     1       9.800   3.920   1.960  1.00  0.00          PT  \nATOM    672   Pt MOL     1       9.800   5.880   0.000  1.00  0.00          PT  \nATOM    673   Pt MOL     1       7.840   3.920   3.920  1.00  0.00          PT  \nATOM    674   Pt MOL     1       7.840   5.880   5.880  1.00  0.00          PT  \nATOM    675   Pt MOL     1       9.800   3.920   5.880  1.00  0.00          PT  \nATOM    676   Pt MOL     1       9.800   5.880   3.920  1.00  0.00          PT  \nATOM    677   Pt MOL     1       7.840   3.920   7.840  1.00  0.00          PT  \nATOM    678   Pt MOL     1       7.840   7.840  -3.920  1.00  0.00          PT  \nATOM    679   Pt MOL     1       7.840   9.800  -1.960  1.00  0.00          PT  \nATOM    680   Pt MOL     1       9.800   7.840  -1.960  1.00  0.00          PT  \nATOM    681   Pt MOL     1       7.840   7.840   0.000  1.00  0.00          PT  \nATOM    682   Pt MOL     1       7.840   9.800   1.960  1.00  0.00          PT  \nATOM    683   Pt MOL     1       9.800   7.840   1.960  1.00  0.00          PT  \nATOM    684   Pt MOL     1       9.800   9.800   0.000  1.00  0.00          PT  \nATOM    685   Pt MOL     1       7.840   7.840   3.920  1.00  0.00          PT  \nATOM    686   Pt MOL     1       7.840  11.760   0.000  1.00  0.00          PT  \nATOM    687   Pt MOL     1      11.760  -5.880  -1.960  1.00  0.00          PT  \nATOM    688   Pt MOL     1      11.760  -7.840   0.000  1.00  0.00          PT  \nATOM    689   Pt MOL     1      11.760  -5.880   1.960  1.00  0.00          PT  \nATOM    690   Pt MOL     1      11.760  -1.960  -5.880  1.00  0.00          PT  \nATOM    691   Pt MOL     1      11.760  -3.920  -3.920  1.00  0.00          PT  \nATOM    692   Pt MOL     1      11.760  -1.960  -1.960  1.00  0.00          PT  \nATOM    693   Pt MOL     1      11.760  -3.920   0.000  1.00  0.00          PT  \nATOM    694   Pt MOL     1      11.760  -1.960   1.960  1.00  0.00          PT  \nATOM    695   Pt MOL     1      11.760  -3.920   3.920  1.00  0.00          PT  \nATOM    696   Pt MOL     1      11.760  -1.960   5.880  1.00  0.00          PT  \nATOM    697   Pt MOL     1      11.760   0.000  -7.840  1.00  0.00          PT  \nATOM    698   Pt MOL     1      11.760   1.960  -5.880  1.00  0.00          PT  \nATOM    699   Pt MOL     1      11.760   0.000  -3.920  1.00  0.00          PT  \nATOM    700   Pt MOL     1      11.760   1.960  -1.960  1.00  0.00          PT  \nATOM    701   Pt MOL     1      11.760   0.000   0.000  1.00  0.00          PT  \nATOM    702   Pt MOL     1      11.760   1.960   1.960  1.00  0.00          PT  \nATOM    703   Pt MOL     1      11.760   0.000   3.920  1.00  0.00          PT  \nATOM    704   Pt MOL     1      11.760   1.960   5.880  1.00  0.00          PT  \nATOM    705   Pt MOL     1      11.760   0.000   7.840  1.00  0.00          PT  \nATOM    706   Pt MOL     1      11.760   3.920  -3.920  1.00  0.00          PT  \nATOM    707   Pt MOL     1      11.760   5.880  -1.960  1.00  0.00          PT  \nATOM    708   Pt MOL     1      11.760   3.920   0.000  1.00  0.00          PT  \nATOM    709   Pt MOL     1      11.760   5.880   1.960  1.00  0.00          PT  \nATOM    710   Pt MOL     1      11.760   3.920   3.920  1.00  0.00          PT  \nATOM    711   Pt MOL     1      11.760   7.840   0.000  1.00  0.00          PT  \nENDMDL\n",
           "type": "blob"
          }
         ],
         "kwargs": {
          "defaultRepresentation": false,
          "ext": "pdb"
         },
         "methodName": "loadFile",
         "reconstruc_color_scheme": false,
         "target": "Stage",
         "type": "call_method"
        },
        {
         "args": [
          "500px",
          "500px"
         ],
         "kwargs": {},
         "methodName": "setSize",
         "reconstruc_color_scheme": false,
         "target": "Widget",
         "type": "call_method"
        },
        {
         "args": [
          "unitcell"
         ],
         "component_index": 0,
         "kwargs": {
          "sele": "all"
         },
         "methodName": "addRepresentation",
         "reconstruc_color_scheme": false,
         "target": "compList",
         "type": "call_method"
        },
        {
         "args": [
          "spacefill"
         ],
         "component_index": 0,
         "kwargs": {
          "sele": "all"
         },
         "methodName": "addRepresentation",
         "reconstruc_color_scheme": false,
         "target": "compList",
         "type": "call_method"
        },
        {
         "args": [],
         "kwargs": {
          "cameraType": "orthographic"
         },
         "methodName": "setParameters",
         "reconstruc_color_scheme": false,
         "target": "Stage",
         "type": "call_method"
        },
        {
         "args": [
          {
           "clipDist": 0
          }
         ],
         "kwargs": {},
         "methodName": "setParameters",
         "reconstruc_color_scheme": false,
         "target": "Widget",
         "type": "call_method"
        },
        {
         "args": [
          "spacefill",
          0
         ],
         "kwargs": {
          "colorScale": "rainbow",
          "colorScheme": "element",
          "radiusScale": 0.5,
          "radiusType": "covalent"
         },
         "methodName": "updateRepresentationsByName",
         "reconstruc_color_scheme": false,
         "target": "Widget",
         "type": "call_method"
        },
        {
         "args": [
          "this._Q = [[1.0, 0.0, 0.0], [0.0, 1.0, 0.0], [0.0, 0.0, 1.0]]\n    var tooltip = document.createElement('div')\n    Object.assign(tooltip.style, {\n      display: 'none',\n      position: 'fixed',\n      zIndex: 10,\n      pointerEvents: 'none',\n      backgroundColor: 'rgba( 0, 0, 0, 0.6 )',\n      color: 'lightgrey',\n      padding: '8px',\n      fontFamily: 'sans-serif'\n    })\n    document.body.appendChild(tooltip)\n\n    var that = this\n    this.stage.mouseControls.remove('hoverPick')\n    this.stage.signals.hovered.add(function (pickingProxy) {\n      if (pickingProxy && (pickingProxy.atom || pickingProxy.bond)) {\n        var atom = pickingProxy.atom || pickingProxy.closestBondAtom\n        var mp = pickingProxy.mouse.position\n        //tooltip.innerText = atom.element + ' i=' + atom.index + ' (' + atom.x.toFixed(2) +  ', ' + atom.y.toFixed(2) +  ', ' + atom.z.toFixed(2) + ')'\n        //var pos = that._atoms_pos[atom.index]\n        var Q = that._Q\n        var pos_x = Q[0][0] * atom.x + Q[0][1] * atom.y + Q[0][2] * atom.z \n        var pos_y = Q[1][0] * atom.x + Q[1][1] * atom.y + Q[1][2] * atom.z\n        var pos_z = Q[2][0] * atom.x + Q[2][1] * atom.y + Q[2][2] * atom.z\n        tooltip.innerText = 'i=' + atom.index + ' ' + atom.element + ' (' + pos_x.toFixed(2) +  ', ' + pos_y.toFixed(2) +  ', ' + pos_z.toFixed(2) + ')'\n        tooltip.style.bottom = window.innerHeight - mp.y + 3 + 'px'\n        tooltip.style.left = mp.x + 3 + 'px'\n        tooltip.style.display = 'block'\n      } else {\n        tooltip.style.display = 'none'\n      }\n    })\n    "
         ],
         "kwargs": {},
         "methodName": "executeCode",
         "reconstruc_color_scheme": false,
         "target": "Widget",
         "type": "call_method"
        }
       ],
       "_ngl_original_stage_parameters": {
        "ambientColor": 14540253,
        "ambientIntensity": 0.2,
        "backgroundColor": "white",
        "cameraEyeSep": 0.3,
        "cameraFov": 40,
        "cameraType": "perspective",
        "clipDist": 10,
        "clipFar": 100,
        "clipNear": 0,
        "fogFar": 100,
        "fogNear": 50,
        "hoverTimeout": 0,
        "impostor": true,
        "lightColor": 14540253,
        "lightIntensity": 1,
        "mousePreset": "default",
        "panSpeed": 1,
        "quality": "medium",
        "rotateSpeed": 2,
        "sampleLevel": 0,
        "tooltip": true,
        "workerDefault": true,
        "zoomSpeed": 1.2
       },
       "_ngl_repr_dict": {
        "0": {
         "0": {
          "params": {
           "clipCenter": {
            "x": 0,
            "y": 0,
            "z": 0
           },
           "clipNear": 0,
           "clipRadius": 0,
           "colorMode": "hcl",
           "colorReverse": false,
           "colorScale": "",
           "colorScheme": "element",
           "colorValue": "orange",
           "defaultAssembly": "",
           "depthWrite": true,
           "diffuse": 16777215,
           "diffuseInterior": false,
           "disableImpostor": false,
           "disablePicking": false,
           "flatShaded": false,
           "interiorColor": 2236962,
           "interiorDarkening": 0,
           "lazy": false,
           "matrix": {
            "elements": [
             1,
             0,
             0,
             0,
             0,
             1,
             0,
             0,
             0,
             0,
             1,
             0,
             0,
             0,
             0,
             1
            ]
           },
           "metalness": 0,
           "opacity": 1,
           "quality": "medium",
           "radialSegments": 10,
           "radiusData": {},
           "radiusScale": 1,
           "radiusSize": 0.5,
           "radiusType": "vdw",
           "roughness": 0.4,
           "sele": "all",
           "side": "double",
           "sphereDetail": 1,
           "useInteriorColor": true,
           "visible": true,
           "wireframe": false
          },
          "type": "unitcell"
         },
         "1": {
          "params": {
           "assembly": "default",
           "clipCenter": {
            "x": 0,
            "y": 0,
            "z": 0
           },
           "clipNear": 0,
           "clipRadius": 0,
           "colorMode": "hcl",
           "colorReverse": false,
           "colorScale": "rainbow",
           "colorScheme": "element",
           "colorValue": 9474192,
           "defaultAssembly": "",
           "depthWrite": true,
           "diffuse": 16777215,
           "diffuseInterior": false,
           "disableImpostor": false,
           "disablePicking": false,
           "flatShaded": false,
           "interiorColor": 2236962,
           "interiorDarkening": 0,
           "lazy": false,
           "matrix": {
            "elements": [
             1,
             0,
             0,
             0,
             0,
             1,
             0,
             0,
             0,
             0,
             1,
             0,
             0,
             0,
             0,
             1
            ]
           },
           "metalness": 0,
           "opacity": 1,
           "quality": "medium",
           "radiusData": {},
           "radiusScale": 0.5,
           "radiusSize": 1,
           "radiusType": "covalent",
           "roughness": 0.4,
           "sele": "all",
           "side": "double",
           "sphereDetail": 1,
           "useInteriorColor": true,
           "visible": true,
           "wireframe": false
          },
          "type": "spacefill"
         }
        }
       },
       "_ngl_serialize": false,
       "_ngl_version": "2.0.0-dev.36",
       "_ngl_view_id": [
        "E0A8B379-CE6E-447E-A681-ADFFC8E61124"
       ],
       "_player_dict": {},
       "_scene_position": {},
       "_scene_rotation": {},
       "_synced_model_ids": [],
       "_synced_repr_model_ids": [],
       "_view_height": "",
       "_view_width": "",
       "background": "white",
       "frame": 0,
       "gui_style": null,
       "layout": "IPY_MODEL_b5c8f112025b4e3b91c2e6ecf72b2628",
       "max_frame": 0,
       "n_components": 1,
       "picked": {}
      }
     },
     "fe5c3b4a873e4b3ba3fbfb24232a7ecc": {
      "model_module": "@jupyter-widgets/controls",
      "model_module_version": "1.5.0",
      "model_name": "DescriptionStyleModel",
      "state": {
       "description_width": ""
      }
     },
     "fe739c754b224cb68e27e2c5473439c3": {
      "model_module": "@jupyter-widgets/controls",
      "model_module_version": "1.5.0",
      "model_name": "HBoxModel",
      "state": {
       "children": [
        "IPY_MODEL_e3553c742c81457b84a3a2df197f6642",
        "IPY_MODEL_35f070afed114593815e5bbe6854fe36"
       ],
       "layout": "IPY_MODEL_e56da08f357b429686dd808f46324fdc"
      }
     },
     "fea6176bfa644bb3b2da2a01010278fa": {
      "model_module": "@jupyter-widgets/base",
      "model_module_version": "1.2.0",
      "model_name": "LayoutModel",
      "state": {}
     },
     "feea5dd1ed5444989463f33379ed7036": {
      "model_module": "@jupyter-widgets/controls",
      "model_module_version": "1.5.0",
      "model_name": "LinkModel",
      "state": {
       "source": [
        "IPY_MODEL_46249d082f9a49ef8b2d0cedf4f43f17",
        "max"
       ],
       "target": [
        "IPY_MODEL_28f16f8e5a1444e2b701df0cc09969d3",
        "max_frame"
       ]
      }
     },
     "ff5ac657982e423c9b128850d13858b8": {
      "model_module": "@jupyter-widgets/base",
      "model_module_version": "1.2.0",
      "model_name": "LayoutModel",
      "state": {
       "border": "0px solid black"
      }
     }
    },
    "version_major": 2,
    "version_minor": 0
   }
  }
 },
 "nbformat": 4,
 "nbformat_minor": 5
}
