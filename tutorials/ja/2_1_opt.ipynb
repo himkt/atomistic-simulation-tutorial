{
 "cells": [
  {
   "cell_type": "markdown",
   "id": "2dadfc18-5201-40ea-9c56-89354dc29a90",
   "metadata": {},
   "source": [
    "# Opt\n",
    "\n",
    "この章では系の局所安定座標とそのエネルギーを計算する、 **構造最適化** (構造緩和などとも呼びます) について学びます。\n",
    "\n",
    "最適化アルゴリズムには大域的最適化 (Global optimization)と、局所最適化(Local optimization)がありますが、構造最適化では局所最適化アルゴリズムを用います。\n",
    "\n",
    "\n",
    "<figure>\n",
    "    <img src=\"../assets/local-global-minimum.png\" width=\"720px\">\n",
    "    <figcaption>ここでは横軸は系の様々な配座(Conformation) を表し、縦軸はエネルギーを表します。</figcaption>\n",
    "</figure>\n",
    "\n",
    "N個の原子からなる系の座標値は 3*N 次元の自由度があり、例えば100原子からなる系では300次元もの高次元空間での最適化問題となります。<br/>\n",
    "大域最適解を見つけることは一般に難しい問題です。\n",
    "\n",
    "構造最適化は、系の初期座標を定めて、そこから局所安定点を見つけることにより、その安定構造を見つけます。<br/>\n",
    "\n",
    "ある物質の組成(元素の組み合わせとその割合、例えばNaCl など)がわかっている場合でも、その構造がどの様になっているかは自明ではありませんが、<br/>\n",
    "物質の多くの性質が安定構造付近の状態から決まるため、安定構造を求めることは重要です。\n",
    "\n",
    "\n",
    "実験的に構造を決定する場合は以下のような分析機器・計測装置を使う事が考えられます。\n",
    "しかし、その場合でも\n",
    "\n",
    " - スペクトル情報から物質の部分的な情報が得られるのみで、3次元構造の情報が直接観測できるわけではない (1~6)\n",
    " - 単結晶や、薄膜といった構造を作成する必要があり、現実ではそういった試料の準備が難しいことがある (3, 8)\n",
    " - 原子レベルのスケールで見るには解像度が足りない (7)\n",
    " - 表面の形状は観察できるものの、その原子・分子の種類を区別することができない (9)\n",
    "\n",
    "など、課題があり、今扱っている物質の各原子がどのように配置されているか、3次元構造の特定は容易ではありません。\n",
    "\n",
    "分析機器の例：\n",
    "\n",
    "| 名前 | 特徴 |\n",
    "|:---|:---|\n",
    "|1. 赤外分光法 |分子の振動による赤外線吸収を測定することで、分子構造の情報を得る |\n",
    "|2. Raman分光法 |ラマン散乱光を用いて物質の評価を行う |\n",
    "|3. X線回折法 (XRD: X-ray Diffraction) |結晶構造を持つ物質にX線を照射することで得られる回折線を解析することで物質の同定や定量を行う |\n",
    "|4. X線光電子分光法 (XPS: X-ray Photoelectron Spectroscopy) |軟X線を物質に照射し、物質のイオン化に伴い放出される光電子e-を補足しエネルギー分析を行う |\n",
    "|5. 質量分析計 (MS: Mass Spectroscopy) |物質を構成している個々の化合物の質量を正確に測定 |\n",
    "|6. 核磁気共鳴装置 (NMR: Nuclear Magnetic Resonance) | 原子核の共鳴現象を利用して、有機化合物の分析を行う |\n",
    "|7. 走査電子顕微鏡 (SEM: Scanning Electron Microscope) | 波長の短い電子線を利用して0.4~4nmの解像度で表面を観察 |\n",
    "|8. 透過電子顕微鏡 (TEM: Transmission Electron Microscope) |電子線を当て透過した電子線の強弱により微小な物質を観察 |\n",
    "|9. 原子間力顕微鏡 (AFM: Atomic Force Microscope) | 探針と試料に作用する原子間力を検出する顕微鏡 |\n",
    "\n",
    "\n",
    "分析機器の参考文献\n",
    "\n",
    " - [やさしい科学 | JEOL 日本電子株式会社](https://www.jeol.co.jp/science/)\n",
    " - [分析の原理 | JAIMA 一般社団法人 日本分析機器工業会](https://www.jaima.or.jp/jp/analytical/basic/)\n",
    " - [分析装置 | 環境リサーチ株式会社](https://www.kankyo-research.co.jp/equipment/)\n",
    " - [MST｜分析手法](https://www.mst.or.jp/method/tabid/64/Default.aspx)\n",
    "\n",
    "\n",
    "そのため、シミュレーション上でどの構造になっていそうかを推定し、実験で検証する（またはその逆）を行うことが重要となります。\n"
   ]
  },
  {
   "cell_type": "markdown",
   "id": "123471d5-cf9b-461a-9772-7c8bc78d6078",
   "metadata": {},
   "source": [
    "## Opt molecules\n",
    "まずは簡単な例として、周期境界条件のない単体の有機分子の構造最適化を行ってみます。\n",
    "\n",
    "\n",
    "### 1. 水素分子\n",
    "\n",
    "まずは、前章でも行った水素分子の最安定構造の結合距離を、構造最適化を用いて求めてみます。\n",
    "\n",
    "以下のような流れとなります。\n",
    "\n",
    " - Step 1: ポテンシャルエネルギーを計算するCalculatorを用意\n",
    " - Step 2: 構造最適化を行いたい分子を用意\n",
    " - Step 3: 構造最適化アルゴリズムの手法を選択し、実行\n",
    "\n",
    "\n",
    "Step 1: ポテンシャルエネルギーを計算するCalculatorを用意"
   ]
  },
  {
   "cell_type": "code",
   "execution_count": 1,
   "id": "5e2d3f45-5626-41a0-88a1-baaaea6c8b61",
   "metadata": {},
   "outputs": [
    {
     "name": "stdout",
     "output_type": "stream",
     "text": [
      "pfp_api_client: 1.3.1\n"
     ]
    }
   ],
   "source": [
    "import pfp_api_client\n",
    "from pfp_api_client.pfp.calculators.ase_calculator import ASECalculator\n",
    "from pfp_api_client.pfp.estimator import Estimator, EstimatorCalcMode\n",
    "\n",
    "\n",
    "print(f\"pfp_api_client: {pfp_api_client.__version__}\")\n",
    "\n",
    "estimator = Estimator(calc_mode=EstimatorCalcMode.MOLECULE, model_version=\"v2.0.0\")\n",
    "#estimator = Estimator(calc_mode=EstimatorCalcMode.CRYSTAL, model_version=\"v2.0.0\")\n",
    "calculator = ASECalculator(estimator)"
   ]
  },
  {
   "cell_type": "markdown",
   "id": "f7e0ed58-5cca-4985-8afb-31ec5dbfd6d7",
   "metadata": {},
   "source": [
    "※PFP `Estimator` の `calc_mode` は以下のように用います。\n",
    "\n",
    " - 一般の系： `EstimatorCalcMode.CRYSTAL_U0` Uなしモード\n",
    " - 酸化物など： `EstimatorCalcMode.CRYSTAL`　Uありモード\n",
    " - 単体有機分子： `EstimatorCalcMode.MOLECULE` 分子モード"
   ]
  },
  {
   "cell_type": "markdown",
   "id": "9e5f4170-9518-4e01-9e53-a748daee2239",
   "metadata": {},
   "source": [
    "Step 2: 構造最適化を行いたい分子を用意\n",
    "\n",
    "ここでは水素分子を作成します。座標値は人手で、1.0A 離れたところで初期座標を設定してみます。"
   ]
  },
  {
   "cell_type": "code",
   "execution_count": 2,
   "id": "7b4afeca-4f4c-422e-bb7a-56c084c772ad",
   "metadata": {},
   "outputs": [],
   "source": [
    "from ase import Atoms\n",
    "\n",
    "\n",
    "atoms = Atoms(\"H2\", [[0, 0, 0], [0, 0, 1.0]])\n",
    "atoms.calc = calculator"
   ]
  },
  {
   "cell_type": "markdown",
   "id": "ad5a29f8-b762-4b80-8955-46e29ecad5e4",
   "metadata": {},
   "source": [
    "Step 3: 構造最適化アルゴリズムの手法を選択し、実行\n",
    "\n",
    "局所最適化アルゴリズムとして、ASEではNewton法に似た振る舞いで最適化を行う `FIRE`, `MDMin` や、2次関数近似をおこなって最適化を行う `BFGS`, `LBFGS`, `BFGSLineSearch`=`QuasiNewton`, `LBFGSLineSearch`法などが提供されています。これらのアルゴリズムの違いや性質については次章で説明をします。\n",
    "\n",
    " - https://wiki.fysik.dtu.dk/ase/ase/optimize.html\n",
    "\n",
    "\n",
    "今回は、`LBFGS` を用いて構造最適化を行ってみます。<br/>\n",
    "基本的には `atoms` を局所最適化アルゴリズムに設定し、 `run`関数を呼ぶと構造最適化が行われます。<br/>\n",
    "`trajectory` 引数を指定しておくと、構造最適化の過程を保存できます。"
   ]
  },
  {
   "cell_type": "code",
   "execution_count": 3,
   "id": "e186514f-2167-4c77-b21b-02bb698b1a5b",
   "metadata": {},
   "outputs": [
    {
     "name": "stdout",
     "output_type": "stream",
     "text": [
      "       Step     Time          Energy         fmax\n",
      "*Force-consistent energies used in optimization.\n",
      "LBFGS:    0 04:12:58       -3.901997*       4.3815\n",
      "LBFGS:    1 04:12:58       -4.379254*       2.9801\n",
      "LBFGS:    2 04:12:58       -4.203410*       8.1743\n",
      "LBFGS:    3 04:12:58       -4.556839*       2.0679\n",
      "LBFGS:    4 04:12:58       -4.621649*       1.1575\n",
      "LBFGS:    5 04:12:58       -4.633657*       0.8236\n",
      "LBFGS:    6 04:12:58       -4.641413*       0.0730\n",
      "LBFGS:    7 04:12:58       -4.641474*       0.0016\n"
     ]
    },
    {
     "data": {
      "text/plain": [
       "True"
      ]
     },
     "execution_count": 3,
     "metadata": {},
     "output_type": "execute_result"
    }
   ],
   "source": [
    "import os\n",
    "from ase.optimize import LBFGS, BFGS, FIRE\n",
    "\n",
    "os.makedirs(\"output\", exist_ok=True)\n",
    "\n",
    "opt = LBFGS(atoms, trajectory=\"output/bfgs_h2.traj\")\n",
    "opt.run(fmax=0.01)"
   ]
  },
  {
   "cell_type": "markdown",
   "id": "a83340ef-bd0d-4650-9f0a-660be92f92c1",
   "metadata": {},
   "source": [
    "今回の簡単な例では 7step、Matlantis では約2秒で構造最適化が終了しました。\n",
    "\n",
    "構造最適化途中の系の可視化を行ってみます。"
   ]
  },
  {
   "cell_type": "code",
   "execution_count": 4,
   "id": "c2618e31-d49b-401c-bfa5-3db1ae6beb4d",
   "metadata": {},
   "outputs": [
    {
     "data": {
      "application/vnd.jupyter.widget-view+json": {
       "model_id": "bd4e5f79ea334153a0df081b23e8c7a8",
       "version_major": 2,
       "version_minor": 0
      },
      "text/plain": []
     },
     "metadata": {},
     "output_type": "display_data"
    },
    {
     "data": {
      "application/vnd.jupyter.widget-view+json": {
       "model_id": "fa6a7652d1c24dcaa6bd459cc93631f4",
       "version_major": 2,
       "version_minor": 0
      },
      "text/plain": [
       "HBox(children=(NGLWidget(max_frame=7), VBox(children=(Dropdown(description='Show', options=('All', 'H'), value…"
      ]
     },
     "metadata": {},
     "output_type": "display_data"
    }
   ],
   "source": [
    "from ase.visualize import view\n",
    "from ase.io import Trajectory\n",
    "from pfcc_extras.visualize.view import view_ngl\n",
    "\n",
    "traj = Trajectory(\"output/bfgs_h2.traj\")\n",
    "view_ngl(traj, representations=[\"ball+stick\"], w=400, h=300)"
   ]
  },
  {
   "cell_type": "markdown",
   "id": "bb12ab10-ef59-42af-a7d8-26c55a36db1c",
   "metadata": {},
   "source": [
    "構造最適化により、原子距離がどのように推移したかをプロットしてみます。"
   ]
  },
  {
   "cell_type": "code",
   "execution_count": 5,
   "id": "20d5625f-b8a7-4467-aac4-03b15746e18c",
   "metadata": {},
   "outputs": [
    {
     "name": "stdout",
     "output_type": "stream",
     "text": [
      "Distance trajectory [1.0, 0.87481564113072, 0.6086009335795225, 0.8036915804734652, 0.7643025335702752, 0.7142209165568315, 0.7350406565664916, 0.7333450580696154]\n"
     ]
    }
   ],
   "source": [
    "import numpy as np\n",
    "\n",
    "# np.linalg.norm?\n",
    "distance_list = []\n",
    "E_pot_list = []\n",
    "for atoms in traj:\n",
    "    p1, p2 = atoms.get_positions()\n",
    "    distance = np.linalg.norm(p1 - p2)\n",
    "    distance_list.append(distance)\n",
    "    E_pot_list.append(atoms.get_potential_energy())\n",
    "\n",
    "print(\"Distance trajectory\", distance_list)"
   ]
  },
  {
   "cell_type": "code",
   "execution_count": 6,
   "id": "6c8d9bff-43c5-4fb1-903a-cdec07ec4b00",
   "metadata": {},
   "outputs": [
    {
     "data": {
      "image/png": "[encoded data removed]",
      "text/plain": [
       "<Figure size 432x288 with 1 Axes>"
      ]
     },
     "metadata": {
      "needs_background": "light"
     },
     "output_type": "display_data"
    }
   ],
   "source": [
    "import matplotlib.pyplot as plt\n",
    "plt.plot(distance_list)\n",
    "plt.xlabel(\"step\")\n",
    "plt.ylabel(\"Distance [A]\")\n",
    "plt.title(\"H2 opt trajectory\")\n",
    "plt.show()"
   ]
  },
  {
   "cell_type": "markdown",
   "id": "d99173fc-b1dc-4bfe-8d54-ee0dd2506afc",
   "metadata": {},
   "source": [
    "最終的に、 `0.73` A あたりで落ち着くことが確認できました。\n",
    "\n",
    "前章ではすべての結合距離に対するエネルギーを計算し、最低エネルギーになる値を求めましたが、構造最適化を用いることで効率よく安定構造を見つけることができます。"
   ]
  },
  {
   "cell_type": "markdown",
   "id": "76d1e7c0-0c4a-4d10-9c6c-3bacb601a68c",
   "metadata": {},
   "source": [
    "### 2. シクロヘキサン\n",
    "\n",
    "次の例として、シクロヘキサンの安定構造を考えてみます。<br/>\n",
    "\n",
    "シクロヘキサンはC6H12で表される構造ですが、いくつかの立体配座(Conformation) を取ることが知られています。<br/>\n",
    "代表的な配座異性体としては、以下の図のいす形 (A)、ねじれ舟形 (B)、舟形 (C)、半いす形 (D)などがあります。\n",
    "\n",
    "一番安定な（エネルギーの低い）形はいす形で、25℃ではシクロヘキサン溶液中の全分子の99.99%がいす形になります。<br/>\n",
    "ここでは、いす形 (A)および、舟形 (C)の初期構造を用意して、構造最適化を行い、その形やポテンシャルエネルギーを比較してみます。\n",
    "\n",
    "<figure style=\"width:600px\">\n",
    "  <img src=\"https://upload.wikimedia.org/wikipedia/commons/7/7a/Cyclohexane_ring_flip_and_relative_conformation_energies.svg\"/>\n",
    "</figure>\n",
    "\n",
    "<cite><a href=\"https://ja.wikipedia.org/wiki/%E3%82%B7%E3%82%AF%E3%83%AD%E3%83%98%E3%82%AD%E3%82%B5%E3%83%B3%E3%81%AE%E7%AB%8B%E4%BD%93%E9%85%8D%E5%BA%A7\">\n",
    "シクロヘキサンの立体配座</a> より</cite>\n",
    "\n"
   ]
  },
  {
   "cell_type": "markdown",
   "id": "003422d9-6408-4574-9a5b-73564716dc6c",
   "metadata": {},
   "source": [
    "**初期座標の構造用意**\n",
    "\n",
    "いす形はPubChemで公開されている構造を使用します。\n",
    "\n",
    "3D structure image of CID 8078 Cyclohexane (Compound)\n",
    "\n",
    "PubChem Identifier: CID 8078<br/>\n",
    "URL: https://pubchem.ncbi.nlm.nih.gov/compound/8078#section=3D-Conformer\n"
   ]
  },
  {
   "cell_type": "code",
   "execution_count": 7,
   "id": "78ade7c1-9d27-44bf-b1c9-bad3ff9eeb26",
   "metadata": {},
   "outputs": [
    {
     "data": {
      "application/vnd.jupyter.widget-view+json": {
       "model_id": "fb7187197f1142cd9c98dcba0ea08526",
       "version_major": 2,
       "version_minor": 0
      },
      "text/plain": [
       "HBox(children=(NGLWidget(), VBox(children=(Dropdown(description='Show', options=('All', 'C', 'H'), value='All'…"
      ]
     },
     "metadata": {},
     "output_type": "display_data"
    }
   ],
   "source": [
    "from ase.io import read\n",
    "\n",
    "chair_atoms = read(\"../input/Conformer3D_CID_8078.sdf\")\n",
    "view_ngl(chair_atoms, representations=[\"ball+stick\"], w=400, h=300)"
   ]
  },
  {
   "cell_type": "markdown",
   "id": "b7c562bb-4ca3-4764-a3b5-d8838841ddc7",
   "metadata": {},
   "source": [
    "舟形は今回は、いす形から座標値を手動で変更して生成してみましょう。<br/>\n",
    "※: コードの意味はわからなくてもスキップしていただいて構いません。(原子を180度回転させたものをつくり、原子2, 10, 11のみ回転させた座標のものに上書きしています。)"
   ]
  },
  {
   "cell_type": "code",
   "execution_count": 8,
   "id": "adad24da-bc58-411a-85cc-97c61d0b6623",
   "metadata": {},
   "outputs": [],
   "source": [
    "boat_atoms = chair_atoms.copy()\n",
    "axis = boat_atoms.positions[[1, 5]].mean(axis=0) - boat_atoms.positions[[0, 4]].mean(axis=0)\n",
    "boat_atoms.rotate(180, axis)\n",
    "# inds = [1, 3, 5, 8, 9, 12, 13, 16, 17]\n",
    "inds = [2, 10, 11]\n",
    "boat_atoms.positions[inds] = chair_atoms.positions[inds]"
   ]
  },
  {
   "cell_type": "code",
   "execution_count": 9,
   "id": "47d5b4eb-5147-4f6c-a2a1-70281d036e08",
   "metadata": {},
   "outputs": [
    {
     "data": {
      "application/vnd.jupyter.widget-view+json": {
       "model_id": "b6c7f595621541bd890bd882e4258b7c",
       "version_major": 2,
       "version_minor": 0
      },
      "text/plain": [
       "HBox(children=(NGLWidget(), VBox(children=(Dropdown(description='Show', options=('All', 'C', 'H'), value='All'…"
      ]
     },
     "metadata": {},
     "output_type": "display_data"
    }
   ],
   "source": [
    "view_ngl(boat_atoms, representations=[\"ball+stick\"], w=400, h=300)"
   ]
  },
  {
   "cell_type": "code",
   "execution_count": 10,
   "id": "b2c0e2e4-c3d9-4e96-8640-91168a98e474",
   "metadata": {},
   "outputs": [
    {
     "name": "stdout",
     "output_type": "stream",
     "text": [
      "       Step     Time          Energy         fmax\n",
      "*Force-consistent energies used in optimization.\n",
      "LBFGS:    0 04:13:37      -76.902433*       0.1633\n",
      "LBFGS:    1 04:13:37      -76.904415*       0.1067\n",
      "LBFGS:    2 04:13:37      -76.906113*       0.0945\n",
      "LBFGS:    3 04:13:37      -76.908255*       0.0431\n"
     ]
    },
    {
     "data": {
      "text/plain": [
       "True"
      ]
     },
     "execution_count": 10,
     "metadata": {},
     "output_type": "execute_result"
    }
   ],
   "source": [
    "chair_atoms.calc = calculator\n",
    "opt = LBFGS(chair_atoms, trajectory=\"output/lbfgs_cyclohexane_chair.traj\")\n",
    "opt.run()"
   ]
  },
  {
   "cell_type": "code",
   "execution_count": 11,
   "id": "2c11d629-e02e-416c-aefb-68965b6b2fdd",
   "metadata": {},
   "outputs": [
    {
     "name": "stdout",
     "output_type": "stream",
     "text": [
      "       Step     Time          Energy         fmax\n",
      "*Force-consistent energies used in optimization.\n",
      "LBFGS:    0 04:13:38      -70.864456*       6.1915\n",
      "LBFGS:    1 04:13:38      -72.338200*       4.7000\n",
      "LBFGS:    2 04:13:38      -74.264803*       3.1249\n",
      "LBFGS:    3 04:13:38      -75.165260*       4.2943\n",
      "LBFGS:    4 04:13:38      -75.636212*       2.8085\n",
      "LBFGS:    5 04:13:38      -75.792037*       2.3032\n",
      "LBFGS:    6 04:13:38      -75.910488*       2.0220\n",
      "LBFGS:    7 04:13:38      -76.152622*       0.8425\n",
      "LBFGS:    8 04:13:38      -76.226800*       0.6651\n",
      "LBFGS:    9 04:13:38      -76.319684*       0.7879\n",
      "LBFGS:   10 04:13:38      -76.369102*       0.7891\n",
      "LBFGS:   11 04:13:38      -76.442902*       0.5855\n",
      "LBFGS:   12 04:13:38      -76.483407*       0.5161\n",
      "LBFGS:   13 04:13:38      -76.503122*       0.2676\n",
      "LBFGS:   14 04:13:38      -76.512001*       0.2615\n",
      "LBFGS:   15 04:13:39      -76.521395*       0.2402\n",
      "LBFGS:   16 04:13:39      -76.528727*       0.1844\n",
      "LBFGS:   17 04:13:39      -76.533438*       0.2066\n",
      "LBFGS:   18 04:13:39      -76.537377*       0.2038\n",
      "LBFGS:   19 04:13:39      -76.542948*       0.2359\n",
      "LBFGS:   20 04:13:39      -76.550756*       0.2795\n",
      "LBFGS:   21 04:13:39      -76.559042*       0.2556\n",
      "LBFGS:   22 04:13:39      -76.565708*       0.2010\n",
      "LBFGS:   23 04:13:39      -76.570704*       0.2231\n",
      "LBFGS:   24 04:13:39      -76.575514*       0.2090\n",
      "LBFGS:   25 04:13:39      -76.580747*       0.2005\n",
      "LBFGS:   26 04:13:39      -76.585188*       0.2131\n",
      "LBFGS:   27 04:13:39      -76.589332*       0.2121\n",
      "LBFGS:   28 04:13:39      -76.594938*       0.2228\n",
      "LBFGS:   29 04:13:39      -76.602596*       0.2955\n",
      "LBFGS:   30 04:13:39      -76.610878*       0.2560\n",
      "LBFGS:   31 04:13:39      -76.617454*       0.2210\n",
      "LBFGS:   32 04:13:40      -76.622645*       0.2198\n",
      "LBFGS:   33 04:13:40      -76.627786*       0.2684\n",
      "LBFGS:   34 04:13:40      -76.633474*       0.2439\n",
      "LBFGS:   35 04:13:40      -76.637347*       0.1095\n",
      "LBFGS:   36 04:13:40      -76.638605*       0.0808\n",
      "LBFGS:   37 04:13:40      -76.639254*       0.0680\n",
      "LBFGS:   38 04:13:40      -76.639910*       0.0645\n",
      "LBFGS:   39 04:13:40      -76.640685*       0.0456\n"
     ]
    },
    {
     "data": {
      "text/plain": [
       "True"
      ]
     },
     "execution_count": 11,
     "metadata": {},
     "output_type": "execute_result"
    }
   ],
   "source": [
    "boat_atoms.calc = calculator\n",
    "opt = LBFGS(boat_atoms, trajectory=\"output/lbfgs_cyclohexane_boat.traj\")\n",
    "opt.run()"
   ]
  },
  {
   "cell_type": "markdown",
   "id": "98d1ad62-7844-40c1-8b15-122811711759",
   "metadata": {},
   "source": [
    "構造最適化後の構造を可視化して確認してみましょう。"
   ]
  },
  {
   "cell_type": "code",
   "execution_count": 12,
   "id": "ecb059eb-474b-47b8-943d-e68016a95173",
   "metadata": {},
   "outputs": [
    {
     "data": {
      "application/vnd.jupyter.widget-view+json": {
       "model_id": "2bbe34f417c94c3c97cfb1e15a78de36",
       "version_major": 2,
       "version_minor": 0
      },
      "text/plain": [
       "HBox(children=(NGLWidget(max_frame=1), VBox(children=(Dropdown(description='Show', options=('All', 'C', 'H'), …"
      ]
     },
     "metadata": {},
     "output_type": "display_data"
    }
   ],
   "source": [
    "view_ngl([chair_atoms, boat_atoms], representations=[\"ball+stick\"], w=400, h=300, replace_structure=True)"
   ]
  },
  {
   "cell_type": "markdown",
   "id": "1bb3030b-ff19-46d6-a8d4-682702540469",
   "metadata": {},
   "source": [
    "また、それぞれのエネルギー差を比較してみます。\n",
    "\n",
    "エネルギーの単位はeVですが、単位の変換する場合、`units` module を用いることができます。\n",
    "\n",
    " - https://wiki.fysik.dtu.dk/ase/ase/units.html\n"
   ]
  },
  {
   "cell_type": "code",
   "execution_count": 13,
   "id": "25aafa11-bef1-4795-8257-49b8ee0ec02f",
   "metadata": {},
   "outputs": [
    {
     "name": "stdout",
     "output_type": "stream",
     "text": [
      "E_chair -76.91 eV\n",
      "E_boat  -76.64 eV\n",
      "E_diff  0.27 eV = 25.82 kJ/mol\n"
     ]
    }
   ],
   "source": [
    "from ase.units import Bohr,Rydberg,kJ,kB,fs,Hartree,mol,kcal\n",
    "\n",
    "E_chair = chair_atoms.get_potential_energy()\n",
    "E_boat = boat_atoms.get_potential_energy()\n",
    "\n",
    "E_diff = E_boat - E_chair\n",
    "\n",
    "print(f\"E_chair {E_chair:.2f} eV\")\n",
    "print(f\"E_boat  {E_boat:.2f} eV\")\n",
    "print(f\"E_diff  {E_diff:.2f} eV = {E_diff / (kJ/mol):.2f} kJ/mol\")"
   ]
  },
  {
   "cell_type": "markdown",
   "id": "07cea9b6-a74e-4d15-91a8-e01a6f61fe78",
   "metadata": {},
   "source": [
    "いす形の方が舟形よりもエネルギーが低く、安定であることがわかりました。<br/>\n",
    "また、そのエネルギー差も上図で示されていた25kJ/mol に近い値を得ることができました。\n",
    "\n",
    "\n",
    "このように構造最適化では、局所安定点を求めるため、初期構造が重要となってきます。<br/>\n",
    "(おなじシクロヘキサンでも初期構造の用意の仕方によって構造最適化後の結果が異なります。)"
   ]
  },
  {
   "cell_type": "markdown",
   "id": "beeffb39-5684-4692-b867-1197f109e0e1",
   "metadata": {},
   "source": [
    "## Opt Crystals\n",
    "\n",
    "次に周期構造のある系に対する構造最適化を行ってみます。<br/>\n",
    "上記の周期構造がない有機分子では各原子の座標のみが最適化対象でしたが、周期系では**セルサイズ** も最適化対象に加わります。\n",
    "\n",
    "また、周期構造を持つ結晶系 (Bulk)では、その結晶構造によりエネルギーが異なります。\n",
    "\n",
    "\n",
    "### 1. Si結晶\n",
    "\n",
    "ここではSiの結晶構造として、どのような構造がエネルギー安定となるのかを調べてみましょう。<br/>\n",
    "結晶構造の候補として、以下のような構造を試してみます。\n",
    "\n",
    " - sc: 単純立方格子 (Simple Cubic)\n",
    " - bcc: 体心立方格子 (Body Centered Cubic)\n",
    " - fcc: 面心立方格子 (Face Centered Cubic)\n",
    " - hcp: 六方最密充填構造 （Hexagonal Close Packed)\n",
    " - diamond: ダイヤモンド構造\n",
    "\n",
    "エネルギーは１原子あたりのエネルギーを算出します。"
   ]
  },
  {
   "cell_type": "markdown",
   "id": "a8cfca16-bce5-44c6-b72d-cb8dbe5f8d0c",
   "metadata": {},
   "source": [
    "まず、Si のBCC構造に対し、その格子定数 `a` を様々な値に変えた場合のポテンシャルエネルギー及びその時の密度 (density) を計算するコードは以下のようになります。"
   ]
  },
  {
   "cell_type": "markdown",
   "id": "16c36331-8f00-4fa5-9c23-39172361af58",
   "metadata": {},
   "source": [
    "ここでは、`np.linspace` 関数を用いて格子定数 `a` を 2.5A から7.0A の間で5つ生成し、それぞれの格子定数におけるエネルギーを求めています。"
   ]
  },
  {
   "cell_type": "code",
   "execution_count": 14,
   "id": "17975de5-70c2-4721-946c-f1e0fa74e700",
   "metadata": {},
   "outputs": [],
   "source": [
    "estimator = Estimator(calc_mode=EstimatorCalcMode.CRYSTAL_U0, model_version=\"v2.0.0\")\n",
    "calculator = ASECalculator(estimator)"
   ]
  },
  {
   "cell_type": "code",
   "execution_count": 15,
   "id": "8ed5e817-946d-434d-b287-f09638980a79",
   "metadata": {},
   "outputs": [
    {
     "name": "stdout",
     "output_type": "stream",
     "text": [
      "lattice a:  [2.5, 3.625, 4.75, 5.875, 7.0]\n",
      "Density  :  [7.8125, 23.817382812499996, 53.58593750000001, 101.38964843749996, 171.50000000000006]\n",
      "Energy   :  [-1.0654683418833883, -3.367653043475002, -1.242994012311101, -0.19300098989333492, -0.0252915620803833]\n"
     ]
    }
   ],
   "source": [
    "from ase.build import bulk\n",
    "\n",
    "\n",
    "a_array = np.linspace(2.5, 7.0, 5)\n",
    "\n",
    "bcc_energy_list = []\n",
    "bcc_density_list = []\n",
    "for a in a_array:\n",
    "    atoms = bulk(\"Si\", \"bcc\", a=a)\n",
    "    atoms.calc = calculator\n",
    "    # calculate potential energy for 1 atom (eV/atom)\n",
    "    E_pot = atoms.get_potential_energy() / len(atoms)\n",
    "    density = len(atoms) / atoms.get_volume()\n",
    "    bcc_energy_list.append(E_pot)\n",
    "    bcc_density_list.append(atoms.get_volume())\n",
    "    \n",
    "print(\"lattice a: \", list(a_array))\n",
    "print(\"Density  : \", bcc_density_list)\n",
    "print(\"Energy   : \", bcc_energy_list)"
   ]
  },
  {
   "cell_type": "markdown",
   "id": "5ece40c5-01d7-4d57-bcea-ff05ac0d5467",
   "metadata": {},
   "source": [
    "今回は、様々な構造に対して計算を行うため、これを関数化してみましょう。"
   ]
  },
  {
   "cell_type": "code",
   "execution_count": 16,
   "id": "84495962-2669-40db-9108-3f3056d43780",
   "metadata": {},
   "outputs": [],
   "source": [
    "from ase.build import bulk\n",
    "\n",
    "def calc_density_energy(calculator, symbol: str = \"Fe\", crystalstructure: str = \"bcc\"):\n",
    "    a_array = np.linspace(2.0, 8.0, 30)\n",
    "\n",
    "    energy_list = []\n",
    "    density_list = []\n",
    "    for a in a_array:\n",
    "        atoms = bulk(symbol, crystalstructure, a=a)\n",
    "        atoms.calc = calculator\n",
    "        E_pot = atoms.get_potential_energy() / len(atoms)\n",
    "        density = len(atoms) / atoms.get_volume()\n",
    "        energy_list.append(E_pot)\n",
    "        density_list.append(density)\n",
    "    return np.array(energy_list), np.array(density_list)"
   ]
  },
  {
   "cell_type": "markdown",
   "id": "2a1e6291-9624-4c72-a7af-1d7ea99452ad",
   "metadata": {},
   "source": [
    "この `calc_density_energy` 関数を用いることで、様々な構造に対するエネルギーと密度のリストを得ることができます。"
   ]
  },
  {
   "cell_type": "code",
   "execution_count": 17,
   "id": "fa9aca91-b654-4350-9f16-f37b3287c940",
   "metadata": {},
   "outputs": [],
   "source": [
    "bcc_energy, bcc_density = calc_density_energy(calculator, \"Si\", \"bcc\")\n",
    "fcc_energy, fcc_density = calc_density_energy(calculator, \"Si\", \"fcc\")\n",
    "sc_energy, sc_density = calc_density_energy(calculator, \"Si\", \"sc\")\n",
    "hcp_energy, hcp_density = calc_density_energy(calculator, \"Si\", \"hcp\")\n",
    "diamond_energy, diamond_density = calc_density_energy(calculator, \"Si\", \"diamond\")"
   ]
  },
  {
   "cell_type": "markdown",
   "id": "1a1325bc-859c-475a-bda2-dba633b3e8e0",
   "metadata": {},
   "source": [
    "計算されたエネルギー値を見てみると、`a`の値が小さすぎる場合 (現実的でないほど密度を大きくしてしまった場合)にはエネルギーの値が不安定に出力されてしまっていることがわかります。"
   ]
  },
  {
   "cell_type": "code",
   "execution_count": 18,
   "id": "1b3a7862-8b03-4882-995d-d477e3ba33a8",
   "metadata": {},
   "outputs": [
    {
     "data": {
      "text/plain": [
       "array([ 1.79088160e+13,  2.10909171e+01,  1.40880359e+00, -2.60080929e+00,\n",
       "       -3.72749183e+00, -4.02926029e+00, -3.91744089e+00, -3.64932736e+00,\n",
       "       -3.31192013e+00, -2.92009913e+00, -2.53565391e+00, -2.11843024e+00,\n",
       "       -1.69025610e+00, -1.32619862e+00, -1.05229570e+00, -7.91154718e-01,\n",
       "       -5.65129866e-01, -3.96760291e-01, -2.68894639e-01, -1.71354900e-01,\n",
       "       -1.15107699e-01, -7.68998740e-02, -4.47715558e-02, -2.66301780e-02,\n",
       "       -2.52915621e-02, -2.52915621e-02, -2.52915621e-02, -2.52915621e-02,\n",
       "       -2.52915621e-02, -2.52915621e-02])"
      ]
     },
     "execution_count": 18,
     "metadata": {},
     "output_type": "execute_result"
    }
   ],
   "source": [
    "bcc_energy"
   ]
  },
  {
   "cell_type": "markdown",
   "id": "56d90add-84fd-442b-ba47-c7710ad80e8d",
   "metadata": {},
   "source": [
    "以下はこのような値は避けて、プロットを行っています。\n",
    "\n",
    "`np.where`関数を使って、絶対値が5以下になっているエネルギーをとっているindex を`inds` としてとりだし、`a_array[inds]`でハズレ値を除いたプロットを行っています。"
   ]
  },
  {
   "cell_type": "code",
   "execution_count": 19,
   "id": "bc988f76-41e6-425e-81ac-e4b3e7759749",
   "metadata": {},
   "outputs": [
    {
     "data": {
      "image/png": "[encoded data removed]",
      "text/plain": [
       "<Figure size 432x288 with 1 Axes>"
      ]
     },
     "metadata": {
      "needs_background": "light"
     },
     "output_type": "display_data"
    }
   ],
   "source": [
    "a_array = np.linspace(2.0, 8.0, 30)\n",
    "inds = np.where(np.abs(sc_energy) < 5.0)[0]\n",
    "plt.plot(a_array[inds], sc_energy[inds], label=\"sc\")\n",
    "inds = np.where(np.abs(bcc_energy) < 5.0)[0]\n",
    "plt.plot(a_array[inds], bcc_energy[inds], label=\"bcc\")\n",
    "inds = np.where(np.abs(fcc_energy) < 5.0)[0]\n",
    "plt.plot(a_array[inds], fcc_energy[inds], label=\"fcc\")\n",
    "inds = np.where(np.abs(hcp_energy) < 5.0)[0]\n",
    "plt.plot(a_array[inds], hcp_energy[inds], label=\"hcp\")\n",
    "inds = np.where(np.abs(diamond_energy) < 5.0)[0]\n",
    "plt.plot(a_array[inds], diamond_energy[inds], label=\"diamond\")\n",
    "\n",
    "plt.xlabel(\"a [A]\")\n",
    "plt.ylabel(\"Energy per atom [eV]\")\n",
    "plt.legend()\n",
    "plt.title(\"Si bulk energy for various structure\")\n",
    "\n",
    "plt.ylim(-6.0, 0)\n",
    "#plt.yscale(\"log\")\n",
    "plt.show()"
   ]
  },
  {
   "cell_type": "markdown",
   "id": "900304f3-a2a0-4bb8-ad7c-205c2e0cfb83",
   "metadata": {},
   "source": [
    "上図は格子定数`a`を横軸にとっていますが、この場合は構造ごとにエネルギーが小さくなる位置が異なり比較しづらい事がわかります。\n",
    "\n",
    "下図では、密度を横軸にとって、エネルギーをプロットしてみます。"
   ]
  },
  {
   "cell_type": "code",
   "execution_count": 20,
   "id": "5ae0f343-1a91-40bd-a58c-51541aed7491",
   "metadata": {},
   "outputs": [
    {
     "data": {
      "image/png": "[encoded data removed]",
      "text/plain": [
       "<Figure size 432x288 with 1 Axes>"
      ]
     },
     "metadata": {
      "needs_background": "light"
     },
     "output_type": "display_data"
    }
   ],
   "source": [
    "inds = np.where(np.abs(sc_energy) < 5.0)[0]\n",
    "plt.plot(sc_density[inds], sc_energy[inds], label=\"sc\")\n",
    "inds = np.where(np.abs(bcc_energy) < 5.0)[0]\n",
    "plt.plot(bcc_density[inds], bcc_energy[inds], label=\"bcc\")\n",
    "inds = np.where(np.abs(fcc_energy) < 5.0)[0]\n",
    "plt.plot(fcc_density[inds], fcc_energy[inds], label=\"fcc\")\n",
    "inds = np.where(np.abs(hcp_energy) < 5.0)[0]\n",
    "plt.plot(hcp_density[inds], hcp_energy[inds], label=\"hcp\")\n",
    "inds = np.where(np.abs(diamond_energy) < 5.0)[0]\n",
    "plt.plot(diamond_density[inds], diamond_energy[inds], label=\"diamond\")\n",
    "\n",
    "plt.xlabel(\"Density [1/A^3]\")\n",
    "plt.ylabel(\"Energy per atom [eV]\")\n",
    "plt.legend()\n",
    "plt.title(\"Si bulk energy for various structure\")\n",
    "\n",
    "plt.ylim(-6.0, 0)\n",
    "#plt.yscale(\"log\")\n",
    "plt.show()"
   ]
  },
  {
   "cell_type": "markdown",
   "id": "6d1ba9f3-7934-442f-9151-0b87d603166d",
   "metadata": {},
   "source": [
    "密度を横軸に取ることで見やすい図になりました。\n",
    "\n",
    "このように、格子定数を変えながら計算をすることで、SC, BCC, FCC, HCP, Diamondそれぞれの構造でエネルギーが最小になりそうな格子定数を求めることができます。<br/>\n",
    "今回の計算結果で、それぞれの構造に対する最低エネルギーを比較することで、**Si はDiamondが安定である**ということが分析できました。"
   ]
  },
  {
   "cell_type": "markdown",
   "id": "38129764-c88f-411d-8b69-79652129757d",
   "metadata": {},
   "source": [
    "### 2. Fe結晶の格子定数最適化\n",
    "\n",
    "次は、この格子定数を構造最適化アルゴリズムを用いることにより、効率よく求めてみましょう。\n",
    "\n",
    "周期構造のある系の最適化を行う際には、原子座標のみを最適化するのか、**Cell sizeも含めて**最適化するのかによりその方法が異なります。<br/>\n",
    "Cell も最適化の対象としたい場合、ASE のatomsに対して、以下に示すような Filter クラスを適用する必要があります。\n",
    "\n",
    "\n",
    "**Table: 最適化対象と、使用するFilter**\n",
    "\n",
    "|  Position  | Cell | Filter |\n",
    "| ---- | ---- | ---- |\n",
    "|  ✓  |    | 不要 (Default挙動) |\n",
    "|    |  ✓  | `StrainFilter` |\n",
    "|  ✓  |  ✓  | `ExpCellFilter` or `UnitCellFilter` |\n",
    "\n",
    "1. 座標は固定して、CellのみをOpt --> `StrainFilter`\n",
    "2. Cell固定して+座標のみをOpt --> Filter未使用\n",
    "3. Cell+座標両方をOpt --> `ExpCellFilter`\n"
   ]
  },
  {
   "cell_type": "markdown",
   "id": "a2fdac71-5357-4fc1-acf2-7f3bcfcd2964",
   "metadata": {},
   "source": [
    "まずはじめに`StrainFilter`を使う例を紹介します。\n",
    "\n",
    "ここではFe原子のBCC構造・FCC構造の格子定数を最適化してみます。<br/>\n",
    "BCC構造・FCC構造はprimitive cellに原子が１つしか含まれないため、原子座標を最適化する必要はなく、格子定数のみの最適化を行えば十分なため、`StrainFilter`を用いています。"
   ]
  },
  {
   "cell_type": "code",
   "execution_count": 21,
   "id": "5092254f-f680-441f-8a55-356a51c71951",
   "metadata": {},
   "outputs": [
    {
     "name": "stdout",
     "output_type": "stream",
     "text": [
      "Before opt: Cell([[-1.5, 1.5, 1.5], [1.5, -1.5, 1.5], [1.5, 1.5, -1.5]])\n",
      "       Step     Time          Energy         fmax\n",
      "*Force-consistent energies used in optimization.\n",
      "LBFGS:    0 04:14:05       -4.892960*       2.5421\n",
      "LBFGS:    1 04:14:05       -4.961273*       1.3053\n",
      "LBFGS:    2 04:14:05       -4.992595*       0.2788\n",
      "LBFGS:    3 04:14:05       -4.993966*       0.0337\n"
     ]
    },
    {
     "data": {
      "text/plain": [
       "True"
      ]
     },
     "execution_count": 21,
     "metadata": {},
     "output_type": "execute_result"
    }
   ],
   "source": [
    "from ase.constraints import ExpCellFilter, StrainFilter\n",
    "\n",
    "fe_bcc_atoms = bulk(\"Fe\", \"bcc\", a=3.0)\n",
    "print(\"Before opt:\", fe_bcc_atoms.cell)\n",
    "fe_bcc_atoms.calc = calculator\n",
    "\n",
    "fe_bcc_atoms = StrainFilter(fe_bcc_atoms)\n",
    "opt = LBFGS(fe_bcc_atoms, trajectory=\"output/lbfgs_fe_bcc.traj\")\n",
    "opt.run()"
   ]
  },
  {
   "cell_type": "code",
   "execution_count": 22,
   "id": "6b17892b-221c-4160-b885-1fb9147f555b",
   "metadata": {},
   "outputs": [
    {
     "name": "stdout",
     "output_type": "stream",
     "text": [
      "Before opt: Cell([[0.0, 1.5, 1.5], [1.5, 0.0, 1.5], [1.5, 1.5, 0.0]])\n",
      "       Step     Time          Energy         fmax\n",
      "*Force-consistent energies used in optimization.\n",
      "LBFGS:    0 04:14:05       -2.629525*      29.6136\n",
      "LBFGS:    1 04:14:06       -4.778833*       3.5812\n",
      "LBFGS:    2 04:14:06       -4.847243*       2.0166\n",
      "LBFGS:    3 04:14:06       -4.883184*       0.4186\n",
      "LBFGS:    4 04:14:06       -4.885321*       0.1172\n",
      "LBFGS:    5 04:14:06       -4.885510*       0.0044\n"
     ]
    },
    {
     "data": {
      "text/plain": [
       "True"
      ]
     },
     "execution_count": 22,
     "metadata": {},
     "output_type": "execute_result"
    }
   ],
   "source": [
    "from ase.constraints import ExpCellFilter, StrainFilter\n",
    "\n",
    "fe_fcc_atoms = bulk(\"Fe\", \"fcc\", a=3.0)\n",
    "print(\"Before opt:\", fe_fcc_atoms.cell)\n",
    "fe_fcc_atoms.calc = calculator\n",
    "\n",
    "fe_fcc_atoms = StrainFilter(fe_fcc_atoms)\n",
    "opt = LBFGS(fe_fcc_atoms, trajectory=\"output/lbfgs_si_fcc.traj\")\n",
    "opt.run()"
   ]
  },
  {
   "cell_type": "code",
   "execution_count": 23,
   "id": "9ba49ef6-0edf-4c18-a951-8199ea5fbd06",
   "metadata": {},
   "outputs": [
    {
     "data": {
      "text/plain": [
       "Cell([[-1.426341413219274, 1.4263413699752452, 1.426341410873824], [1.426341383155157, -1.426341375930719, 1.4263413867651806], [1.4263414132520593, 1.4263413759635044, -1.4263414168292976]])"
      ]
     },
     "execution_count": 23,
     "metadata": {},
     "output_type": "execute_result"
    }
   ],
   "source": [
    "fe_bcc_atoms.atoms.cell"
   ]
  },
  {
   "cell_type": "code",
   "execution_count": 24,
   "id": "fa16c6a9-6067-4d80-8cd4-cb2d20573ac6",
   "metadata": {},
   "outputs": [
    {
     "data": {
      "text/plain": [
       "Cell([[-8.797872643650706e-09, 1.7389138170758964, 1.738913832253837], [1.7389138462808902, 5.4777854905078855e-09, 1.738913817978179], [1.738913848567748, 1.7389138050870963, 3.1909274670322165e-09]])"
      ]
     },
     "execution_count": 24,
     "metadata": {},
     "output_type": "execute_result"
    }
   ],
   "source": [
    "fe_fcc_atoms.atoms.cell"
   ]
  },
  {
   "cell_type": "markdown",
   "id": "ee27f828-d4ec-48a5-8332-4da01acbaa34",
   "metadata": {},
   "source": [
    "`StrainFilter`を用いて格子定数の最適化を行った場合、結晶のa, b, c軸の対称性を保つ考慮がされないためそれぞれ値が少し違った値となってしまっています。<br/>\n",
    "実際は後述する`ExpCellFilter` や、`FixSymmetry` を活用することで、対称性を保ったままの最適化も可能です。\n",
    "\n",
    "ここでは、最終的な格子定数を計算するために平均値をとることにします。<br/>\n",
    "ASEの`bulk` methodに指定する引数 `a` に対して、BCC構造のセルは\n",
    "\n",
    "```\n",
    "[[-a/2, a/2, a/2],\n",
    " [a/2, -a/2, a/2],\n",
    " [a/2, a/2, -a/2]]\n",
    "```\n",
    "\n",
    "FCC構造のセルは\n",
    "```\n",
    "[[0, a/2, a/2],\n",
    " [a/2, 0, a/2],\n",
    " [a/2, a/2, 0]]\n",
    "```\n",
    "となっていることを用いて、下記の計算を行っています。"
   ]
  },
  {
   "cell_type": "code",
   "execution_count": 25,
   "id": "0cdc653b-5b0a-4908-ab59-571344d82afd",
   "metadata": {},
   "outputs": [
    {
     "name": "stdout",
     "output_type": "stream",
     "text": [
      "BCC opt: a = 2.85 A, E = -4.99 eV\n",
      "FCC opt: a = 3.48 A, E = -4.89 eV\n"
     ]
    }
   ],
   "source": [
    "a = np.abs(fe_bcc_atoms.atoms.cell).mean() * 2\n",
    "E_pot = fe_bcc_atoms.get_potential_energy()\n",
    "print(f\"BCC opt: a = {a:.2f} A, E = {E_pot:.2f} eV\")\n",
    "\n",
    "a = fe_fcc_atoms.atoms.cell.sum() / 3\n",
    "E_pot = fe_fcc_atoms.get_potential_energy()\n",
    "print(f\"FCC opt: a = {a:.2f} A, E = {E_pot:.2f} eV\")"
   ]
  },
  {
   "cell_type": "markdown",
   "id": "874ec7e8-6e6a-4895-beaf-a38aee4eaff9",
   "metadata": {},
   "source": [
    "構造最適化の結果として、BCC構造では `a=2.85` A のときにエネルギーが最小となる事がわかりました。\n",
    "\n",
    "また、**FeはBCC構造のほうがFCC構造よりも安定である**という、実験結果と整合する結果を得ることができました。"
   ]
  },
  {
   "cell_type": "markdown",
   "id": "9fe44e5b-d2d4-43c7-8ca9-17aa6739c700",
   "metadata": {},
   "source": [
    "構造最適化の途中経過を可視化してみると、原子座標は変わらずに、格子定数のみが最適化されていることが確認できます。"
   ]
  },
  {
   "cell_type": "code",
   "execution_count": 26,
   "id": "7ddefbf8-db76-43dd-b018-43551dca092c",
   "metadata": {},
   "outputs": [
    {
     "data": {
      "application/vnd.jupyter.widget-view+json": {
       "model_id": "e4145aa9d3cb44d3b0ba9d53ec0db1ed",
       "version_major": 2,
       "version_minor": 0
      },
      "text/plain": [
       "HBox(children=(NGLWidget(max_frame=3), VBox(children=(Dropdown(description='Show', options=('All', 'Fe'), valu…"
      ]
     },
     "metadata": {},
     "output_type": "display_data"
    }
   ],
   "source": [
    "view_ngl(Trajectory(\"output/lbfgs_fe_bcc.traj\"), w=400, h=300, replace_structure=True)"
   ]
  },
  {
   "cell_type": "markdown",
   "id": "49a96afe-3891-44cd-b12f-6df179d5f54f",
   "metadata": {},
   "source": [
    "`StrainFilter`を使う場合の注意点として、セルのa, b, c軸が独立して最適化されてしまうため、その比率を保ちたい場合にも保たれない可能性があります。"
   ]
  },
  {
   "cell_type": "markdown",
   "id": "32969ec6-7466-4d1d-a3e1-54043b117efc",
   "metadata": {},
   "source": [
    "### 3. Si結晶diamond 構造の格子定数最適化\n",
    "\n",
    "次に、Si結晶のdiamond構造に対して、最適化を行ってみます。<br/>\n",
    "ここでは、原子座標及びセルサイズ双方を最適化する`ExpCellFilter` を使用してみます。\n",
    "\n",
    "`ExpCellFilter`では、`hydrostatic_strain=True`というOptionをつけることによって、セルのa, b, c軸長さの比率を保ったまま最適化が行なえます。"
   ]
  },
  {
   "cell_type": "code",
   "execution_count": 27,
   "id": "a2efc864-d6a0-40a6-8590-47def5d31f1e",
   "metadata": {},
   "outputs": [
    {
     "name": "stdout",
     "output_type": "stream",
     "text": [
      "cell size before:  Cell([[0.0, 2.715, 2.715], [2.715, 0.0, 2.715], [2.715, 2.715, 0.0]])\n",
      "       Step     Time          Energy         fmax\n",
      "*Force-consistent energies used in optimization.\n",
      "LBFGS:    0 04:14:25       -9.092463*       0.4849\n",
      "LBFGS:    1 04:14:25       -9.097615*       0.0140\n",
      "cell size after :  Cell([[0.0, 2.733871091154804, 2.733871091154804], [2.733871091154804, 0.0, 2.733871091154804], [2.733871091154804, 2.733871091154804, 0.0]])\n"
     ]
    }
   ],
   "source": [
    "from ase.constraints import ExpCellFilter, StrainFilter\n",
    "\n",
    "si_diamond_atoms = bulk(\"Si\", \"diamond\")\n",
    "si_diamond_atoms.calc = calculator\n",
    "\n",
    "print(\"cell size before: \", si_diamond_atoms.cell)\n",
    "si_diamond_atoms = ExpCellFilter(si_diamond_atoms, hydrostatic_strain=True)\n",
    "opt = LBFGS(si_diamond_atoms, trajectory=\"output/lbfgs_si_diamond.traj\")\n",
    "opt.run()\n",
    "\n",
    "print(\"cell size after : \", si_diamond_atoms.atoms.cell)"
   ]
  },
  {
   "cell_type": "markdown",
   "id": "22303b79-e2f5-4234-a3dc-f3c1a0aa7db3",
   "metadata": {},
   "source": [
    "cell sizeのbefore, after を見比べると、セルサイズの比率が保たれたまま、構造緩和を行えたことがわかります。"
   ]
  },
  {
   "cell_type": "code",
   "execution_count": 28,
   "id": "022a5e04-f63e-4782-8b17-2218e70294f5",
   "metadata": {},
   "outputs": [
    {
     "data": {
      "application/vnd.jupyter.widget-view+json": {
       "model_id": "5f3f280d4317430e8d2f92138d81d6fa",
       "version_major": 2,
       "version_minor": 0
      },
      "text/plain": [
       "HBox(children=(NGLWidget(max_frame=1), VBox(children=(Dropdown(description='Show', options=('All', 'Si'), valu…"
      ]
     },
     "metadata": {},
     "output_type": "display_data"
    }
   ],
   "source": [
    "view_ngl(Trajectory(\"output/lbfgs_si_diamond.traj\"), w=400, h=300, replace_structure=True)"
   ]
  },
  {
   "cell_type": "markdown",
   "id": "32cc8bda-3472-4e5d-b82e-54e884251e44",
   "metadata": {},
   "source": [
    "### 4. SiO2 結晶\n",
    "\n",
    "これまでは1元素のみを含む結晶を扱ってみました。最後に実用的な例として、SiO2結晶についての最適化を行ってみます。\n",
    "\n",
    "SiO2は、現実でも[Quartz (石英)](https://ja.wikipedia.org/wiki/%E7%9F%B3%E8%8B%B1), [Cristobalite](https://ja.wikipedia.org/wiki/%E3%82%AF%E3%83%AA%E3%82%B9%E3%83%88%E3%83%90%E3%83%A9%E3%82%A4%E3%83%88), [Tridymite (鱗珪石)](https://ja.wikipedia.org/wiki/%E9%B1%97%E7%8F%AA%E7%9F%B3)といった、様々な構造を取ることが知られています。<br/>\n",
    "このように同じ組成で多くの結晶系が存在することを[多形](https://ja.wikipedia.org/wiki/%E5%A4%9A%E5%BD%A2)と呼びます。\n",
    "\n",
    "今回は、Quartz構造をMaterials projectから用意し、構造最適化を行っています。<br/>\n",
    "座標値・セルサイズ双方を同時に最適化するため、`ExpCellFilter` を用いています。\n",
    "\n",
    "Input cif file is from  \n",
    "A. Jain*, S.P. Ong*, G. Hautier, W. Chen, W.D. Richards, S. Dacek, S. Cholia, D. Gunter, D. Skinner, G. Ceder, K.A. Persson (*=equal contributions)  \n",
    "The Materials Project: A materials genome approach to accelerating materials innovation\n",
    "APL Materials, 2013, 1(1), 011002.  \n",
    "[doi:10.1063/1.4812323](http://dx.doi.org/10.1063/1.4812323)  \n",
    "[[bibtex]](https://materialsproject.org/static/docs/jain_ong2013.349ca3156250.bib)  \n",
    "Licensed under [CC BY 4.0](https://creativecommons.org/licenses/by/4.0/)  "
   ]
  },
  {
   "cell_type": "code",
   "execution_count": 29,
   "id": "96e7a527-e7bc-49b5-8b07-5cba79045cf7",
   "metadata": {},
   "outputs": [
    {
     "data": {
      "application/vnd.jupyter.widget-view+json": {
       "model_id": "974ff80a99e14a408f46523be8426617",
       "version_major": 2,
       "version_minor": 0
      },
      "text/plain": [
       "HBox(children=(NGLWidget(), VBox(children=(Dropdown(description='Show', options=('All', 'O', 'Si'), value='All…"
      ]
     },
     "metadata": {},
     "output_type": "display_data"
    }
   ],
   "source": [
    "atoms = read(\"../input/SiO2_mp-6930_conventional_standard.cif\")\n",
    "atoms.calc = calculator\n",
    "\n",
    "view_ngl(atoms, representations=[\"ball+stick\"])"
   ]
  },
  {
   "cell_type": "code",
   "execution_count": 30,
   "id": "8b110541-588d-4415-9dbd-a42cc1188558",
   "metadata": {},
   "outputs": [
    {
     "name": "stdout",
     "output_type": "stream",
     "text": [
      "       Step     Time          Energy         fmax\n",
      "*Force-consistent energies used in optimization.\n",
      "LBFGS:    0 04:14:52      -57.053849*       0.2183\n",
      "LBFGS:    1 04:14:52      -57.050798*       0.9588\n",
      "LBFGS:    2 04:14:52      -57.054328*       0.0523\n",
      "LBFGS:    3 04:14:52      -57.054585*       0.0470\n"
     ]
    },
    {
     "data": {
      "text/plain": [
       "True"
      ]
     },
     "execution_count": 30,
     "metadata": {},
     "output_type": "execute_result"
    }
   ],
   "source": [
    "opt = LBFGS(ExpCellFilter(atoms), trajectory=\"output/lbfgs_sio2.traj\")\n",
    "opt.run()"
   ]
  },
  {
   "cell_type": "code",
   "execution_count": 31,
   "id": "f6c050e9-3af0-46b1-b752-3e65ba731ec7",
   "metadata": {},
   "outputs": [
    {
     "data": {
      "application/vnd.jupyter.widget-view+json": {
       "model_id": "9c70b43adf644f16bdbf554f207e8bd5",
       "version_major": 2,
       "version_minor": 0
      },
      "text/plain": [
       "HBox(children=(NGLWidget(max_frame=3), VBox(children=(Dropdown(description='Show', options=('All', 'O', 'Si'),…"
      ]
     },
     "metadata": {},
     "output_type": "display_data"
    }
   ],
   "source": [
    "view_ngl(Trajectory(\"output/lbfgs_sio2.traj\"), representations=[\"ball+stick\"])"
   ]
  },
  {
   "cell_type": "markdown",
   "id": "7e24624e-60c6-4022-b7e2-b7afd2220916",
   "metadata": {},
   "source": [
    "**[Note] 構造最適化はCalculator (Potential energyの関数系)が変わる度に必要**\n",
    "\n",
    "Materials projectの構造も、構造最適化を行った構造であるため、すでに完全な安定構造かと思うかもしれません。\n",
    "しかし、厳密な局所点(極小のエネルギーを取る構造)は、ポテンシャルエネルギーが変わると異なります。"
   ]
  },
  {
   "cell_type": "markdown",
   "id": "270348f7-cba8-4564-8310-1c13b30b40d4",
   "metadata": {},
   "source": [
    "## [コラム] 構造最適化計算と現実世界\n",
    "\n",
    "この章で紹介した構造最適化計算は、今後紹介するほぼすべての原子シミュレーションにとって土台となる計算となります。しかし、構造最適化計算の内部で使われている計算手法はいくらか技巧的なものであり、このチュートリアルではじめて原子シミュレーションに触れた人にとっては直感的には必要性がわかりにくいかもしれません。そこでこのコラムでは、現実世界との対応関係という観点から構造最適化計算を見直してみます。\n",
    "\n",
    "### 構造最適化の必要性\n",
    "\n",
    "現実世界の物質の原子配置がどのように決まっているかについて考えてみますと、一つ一つの原子は特に拘束もなく自由に動き回っているので、余計なエネルギーは散逸し、エネルギーの低い安定な構造へと変化していきます。一旦温度の影響を無視して十分に温度が低い場合を考えてみると、その場合は原子の運動エネルギーは0になり、ポテンシャルエネルギーは極小値をとることが考えられます。その意味では構造最適化計算は現実世界における絶対零度の状態を考えていることに対応しています。\n",
    "\n",
    "有限温度の場合にはどうでしょうか。統計力学の理論から、平衡状態にある系では温度と運動エネルギーは一定の関係にあることが知られており、大雑把な計算では1 Kの上昇はおおまかに1/10000 eV/atomの運動エネルギーの上昇に相当します。逆にいうと、1 eV/atomのエネルギーの上昇は温度に換算して10000 K程度の構造に相当するということです。このように有限温度の場合でもしばしばエネルギーを最適化した構造が十分に良い近似となることが多いため、シミュレーションのはじめにまずは構造最適化計算をしよう(有限温度の場合にはその後で温度を上昇させよう)という手順をとることが一般に行われています。\n",
    "\n",
    "構造最適化計算を行わずにシミュレーションをしてしまうと、前提条件の違いにより非現実的な結果をもたらしてしまう可能性があります。例えば鉄の結晶構造を1%小さくとった場合、原子構造を可視化しただけであれば特段の変化は見えないかもしれません。しかし現実世界で鉄を1%縮める操作を考えてみればわかるように、これは非常に強い圧縮力(具体的には1 GPaを超える圧力)のかかった鉄に相当するので、シミュレーションの結果を変えてしまうことが想定されます。\n",
    "\n",
    "### 構造最適化手法と現実世界の構造緩和\n",
    "\n",
    "構造最適化計算の種類がたくさんあることについて、現実世界との対応から考えてみます。適当な温度の高い材料、例えば溶けた鉄について、ここから熱を取り除いて少し冷えていくときに起きる現象を考えてみましょう。鉄原子は熱によって常に振動しており、様々な原子配置をとりながら、少しずつポテンシャルエネルギーの低い構造へと遷移していきます。最終的にはエネルギーの低い、原子がきれいに整列した結晶構造へと遷移していきます。この意味では現実世界における構造最適化は[焼きなまし法](https://ja.wikipedia.org/wiki/%E7%84%BC%E3%81%8D%E3%81%AA%E3%81%BE%E3%81%97%E6%B3%95)(SA: Simulated Annealing)と呼ばれる最適化手法の一種とみなすことができます。(歴史的には、こちらが焼きなまし法のアイデア元に相当します。)\n",
    "\n",
    "これは原子が長時間運動した結果として得られるものです。つまり、原理的には原子シミュレーションでも、十分に長い分子動力学計算が行えれば現実世界と同じように安定な構造が得られることを意味しています。\n",
    "\n",
    "しかし、ここで問題になるのが時間スケールのギャップです。原子の動きは典型的にはフェムト秒($10^{-15}$ s)オーダーの現象ですが、現実世界の材料を考えるときは一般にはるかに長い時間スケールが登場します。このため、現実世界の構造を原子スケールシミュレーションの言葉で書き直すと、$10^{15}$やそれ以上のスケールでの極めて長い時間をかけた構造最適化計算の結果とみなすことができます。また、焼きなまし法はロバスト性の高い最適化手法であり、十分に長い時間をかけることでより大域的な最適解へとたどり着くことが知られています。このため、現実に存在する物質は実質的に大域最適化問題が解かれた原子構造が得られていると考えることができます。\n",
    "\n",
    "このようなことから、原子シミュレーションでも短時間でより大域的な最適解を探すことができる手法が開発されてきました。これは一般に計算時間とのトレードオフとなるため、ケースによって使い分けられます。結晶構造のように目的の構造が既にわかっていて十分に近い構造を初期構造としてとれる場合には、上の例にあるBFGS法のように局所最適解を求める手法が好まれます。逆にアモルファス構造のようによくわからない構造を対象とする場合には、より大域的な最適解を求めるためにより注意が向けられます。(より現実的になるよう、ゆっくりと温度を下げていくメルトクエンチ法などが使われます。)ASEを含む原子シミュレーションのライブラリに様々な最適解手法が搭載されているのはこのためです。\n",
    "\n",
    "余談ですが、実は現実世界でも大域最適解になりきらないケースは存在します。例えば炭素の高圧相であるダイヤモンドは地上では安定ではなく、黒鉛(グラファイト)のほうがより安定なのですが、構造変化に必要なエネルギーが高いため構造が変化する速度が極めて遅く、人間の時間スケールでは実質的に安定な構造(準安定状態)として扱われます。製造時に積極的に利用している有名な例としては鉄の焼入れがあります。日本刀を作るときに熱した鉄を水に漬けることで硬くする技術が有名ですが、温度を急冷させることで構造緩和にかかる時間を短縮し、安定構造に遷移することを防いでいます。これによってより都合の良い準安定状態を得ています。\n",
    "このように、相変態や化学変化を伴う現象には日常スケールでも緩慢に起きる場合が多いです。これは原子シミュレーションでも同様で、相変態や化学反応を見たい場合には単純に長時間の動力学計算を行うよりも効率的な計算手法が使われることがあります。ひとつの具体例として、5章で説明があるNEB法があります。"
   ]
  }
 ],
 "metadata": {
  "kernelspec": {
   "display_name": "Python 3.7",
   "language": "python",
   "name": "python37"
  },
  "language_info": {
   "codemirror_mode": {
    "name": "ipython",
    "version": 3
   },
   "file_extension": ".py",
   "mimetype": "text/x-python",
   "name": "python",
   "nbconvert_exporter": "python",
   "pygments_lexer": "ipython3",
   "version": "3.7.13"
  },
  "widgets": {
   "application/vnd.jupyter.widget-state+json": {
    "state": {
     "019c1a6aad4a45d1b143cc148cb271cc": {
      "model_module": "@jupyter-widgets/base",
      "model_module_version": "1.2.0",
      "model_name": "LayoutModel",
      "state": {}
     },
     "01aac8cc355d40389665e0117b9bb9dd": {
      "model_module": "@jupyter-widgets/controls",
      "model_module_version": "1.5.0",
      "model_name": "ButtonStyleModel",
      "state": {}
     },
     "01ec6759b2b1427b8a35c684b4b57a81": {
      "model_module": "@jupyter-widgets/base",
      "model_module_version": "1.2.0",
      "model_name": "LayoutModel",
      "state": {}
     },
     "02e9768299b647f48163f46a10ad1a44": {
      "model_module": "@jupyter-widgets/controls",
      "model_module_version": "1.5.0",
      "model_name": "DropdownModel",
      "state": {
       "_options_labels": [
        "All",
        "C",
        "H"
       ],
       "description": "Show",
       "index": 0,
       "layout": "IPY_MODEL_5d68c57537ce4fce82fd57eb18e028f3",
       "style": "IPY_MODEL_adcf9ce5432747dcb8ede0eb805d3281"
      }
     },
     "03a59aff0c68494b9a24cdea0a45b663": {
      "model_module": "@jupyter-widgets/controls",
      "model_module_version": "1.5.0",
      "model_name": "SliderStyleModel",
      "state": {
       "description_width": ""
      }
     },
     "04fd61af4653420e8b3ed4b6df9e01fa": {
      "model_module": "@jupyter-widgets/controls",
      "model_module_version": "1.5.0",
      "model_name": "IntSliderModel",
      "state": {
       "layout": "IPY_MODEL_7baac3ba8d3042d39800f8c617f2ad6c",
       "max": 3,
       "style": "IPY_MODEL_6a79bbc7b17a45db810736755bba9a96"
      }
     },
     "05746f4b95d64351a4e83f006b086e3c": {
      "model_module": "@jupyter-widgets/controls",
      "model_module_version": "1.5.0",
      "model_name": "SliderStyleModel",
      "state": {
       "description_width": ""
      }
     },
     "0576458c7a924a738dc75c45652242fd": {
      "model_module": "@jupyter-widgets/base",
      "model_module_version": "1.2.0",
      "model_name": "LayoutModel",
      "state": {}
     },
     "079c5bcd82b84f6b9d2d88091dc0ce96": {
      "model_module": "@jupyter-widgets/base",
      "model_module_version": "1.2.0",
      "model_name": "LayoutModel",
      "state": {}
     },
     "084dd3c2b960442face80cf908439fda": {
      "model_module": "@jupyter-widgets/controls",
      "model_module_version": "1.5.0",
      "model_name": "DescriptionStyleModel",
      "state": {
       "description_width": ""
      }
     },
     "092fb36838d745aea368610d87f90a23": {
      "model_module": "@jupyter-widgets/controls",
      "model_module_version": "1.5.0",
      "model_name": "DescriptionStyleModel",
      "state": {
       "description_width": ""
      }
     },
     "09d04684be4a4308badce0d531a88d42": {
      "model_module": "@jupyter-widgets/base",
      "model_module_version": "1.2.0",
      "model_name": "LayoutModel",
      "state": {
       "border": "0px solid black"
      }
     },
     "0a107dfe52e347acb938ba3882a579e6": {
      "model_module": "@jupyter-widgets/controls",
      "model_module_version": "1.5.0",
      "model_name": "LinkModel",
      "state": {
       "source": [
        "IPY_MODEL_04fd61af4653420e8b3ed4b6df9e01fa",
        "max"
       ],
       "target": [
        "IPY_MODEL_ac3c8f2d7eb642c7b1ec427a6f245384",
        "max_frame"
       ]
      }
     },
     "0ab7486942204a1ebda6da95ddce6f84": {
      "model_module": "@jupyter-widgets/controls",
      "model_module_version": "1.5.0",
      "model_name": "ButtonModel",
      "state": {
       "description": "Download image",
       "layout": "IPY_MODEL_9396733fee5241db84e442341802162b",
       "style": "IPY_MODEL_01aac8cc355d40389665e0117b9bb9dd",
       "tooltip": "Download current frame to your local PC"
      }
     },
     "0b6c922b996a482782838e4071685af1": {
      "model_module": "@jupyter-widgets/base",
      "model_module_version": "1.2.0",
      "model_name": "LayoutModel",
      "state": {}
     },
     "0be1419911b04764b113a309172f098d": {
      "model_module": "@jupyter-widgets/controls",
      "model_module_version": "1.5.0",
      "model_name": "CheckboxModel",
      "state": {
       "description": "Show force",
       "disabled": false,
       "layout": "IPY_MODEL_5f590d5dadf14eccacdd47f6c00e80b9",
       "style": "IPY_MODEL_67c11a5e1e7c4cff82427dd117229d5c",
       "value": false
      }
     },
     "0c82ddcd21ec4889a25c1c536614a623": {
      "model_module": "@jupyter-widgets/controls",
      "model_module_version": "1.5.0",
      "model_name": "LinkModel",
      "state": {
       "source": [
        "IPY_MODEL_40eaaca8606c4199baef7ab620d92ea4",
        "value"
       ],
       "target": [
        "IPY_MODEL_04fd61af4653420e8b3ed4b6df9e01fa",
        "value"
       ]
      }
     },
     "0ce938cdf7be4cdba337bba530cfc69f": {
      "model_module": "@jupyter-widgets/controls",
      "model_module_version": "1.5.0",
      "model_name": "ButtonModel",
      "state": {
       "description": "Save image",
       "layout": "IPY_MODEL_198f5e0a34204f1782fd3a2de4f47a73",
       "style": "IPY_MODEL_4b37e679fe854f548bcd031951a8735a",
       "tooltip": "Save current frame to file.\nCurrently .png and .html are supported.\nIt takes a bit time, please be patient."
      }
     },
     "0ceb589bd0284066851592a73b695472": {
      "model_module": "@jupyter-widgets/base",
      "model_module_version": "1.2.0",
      "model_name": "LayoutModel",
      "state": {}
     },
     "0d9c6a845d0d42f2ad3b0bd9ef2bc58b": {
      "model_module": "@jupyter-widgets/base",
      "model_module_version": "1.2.0",
      "model_name": "LayoutModel",
      "state": {}
     },
     "0e5cdfb9c26d4c9cbeae40dd31cd33b3": {
      "model_module": "@jupyter-widgets/controls",
      "model_module_version": "1.5.0",
      "model_name": "DropdownModel",
      "state": {
       "_options_labels": [
        "All",
        "O",
        "Si"
       ],
       "description": "Show",
       "index": 0,
       "layout": "IPY_MODEL_db597cbae123466ea1e72a01a82dfc3a",
       "style": "IPY_MODEL_548723512f6144cfb4ccfef07b1dab94"
      }
     },
     "0eb3cdc99a834555a3c1cb4a44d0a87f": {
      "model_module": "@jupyter-widgets/controls",
      "model_module_version": "1.5.0",
      "model_name": "SliderStyleModel",
      "state": {
       "description_width": ""
      }
     },
     "0fc5e697b20a48a39242d1b2d75b66a9": {
      "model_module": "nglview-js-widgets",
      "model_module_version": "3.0.1",
      "model_name": "NGLModel",
      "state": {
       "_camera_orientation": [
        9.61841372131228,
        0,
        0,
        0,
        0,
        9.61841372131228,
        0,
        0,
        0,
        0,
        9.61841372131228,
        0,
        0,
        0,
        0,
        1
       ],
       "_camera_str": "orthographic",
       "_gui_theme": null,
       "_ibtn_fullscreen": "IPY_MODEL_3089e27b811c4345b97a304db830146b",
       "_igui": null,
       "_iplayer": "IPY_MODEL_583a6d6d977548e28f81f032994e3179",
       "_ngl_color_dict": {},
       "_ngl_coordinate_resource": {},
       "_ngl_full_stage_parameters": {
        "ambientColor": 14540253,
        "ambientIntensity": 0.2,
        "backgroundColor": "white",
        "cameraEyeSep": 0.3,
        "cameraFov": 40,
        "cameraType": "orthographic",
        "clipDist": 0,
        "clipFar": 100,
        "clipNear": 0,
        "fogFar": 100,
        "fogNear": 50,
        "hoverTimeout": 0,
        "impostor": true,
        "lightColor": 14540253,
        "lightIntensity": 1,
        "mousePreset": "default",
        "panSpeed": 1,
        "quality": "medium",
        "rotateSpeed": 2,
        "sampleLevel": 0,
        "tooltip": true,
        "workerDefault": true,
        "zoomSpeed": 1.2
       },
       "_ngl_msg_archive": [
        {
         "args": [
          {
           "binary": false,
           "data": "MODEL     1\nATOM      1    C MOL     1      -1.284  -0.691   0.226  1.00  0.00           C  \nATOM      2    C MOL     1      -1.240   0.766  -0.226  1.00  0.00           C  \nATOM      3    C MOL     1      -0.043  -1.457  -0.226  1.00  0.00           C  \nATOM      4    C MOL     1       0.043   1.457   0.226  1.00  0.00           C  \nATOM      5    C MOL     1       1.240  -0.766   0.226  1.00  0.00           C  \nATOM      6    C MOL     1       1.284   0.691  -0.226  1.00  0.00           C  \nATOM      7    H MOL     1      -2.182  -1.175  -0.174  1.00  0.00           H  \nATOM      8    H MOL     1      -1.359  -0.731   1.319  1.00  0.00           H  \nATOM      9    H MOL     1      -1.313   0.811  -1.319  1.00  0.00           H  \nATOM     10    H MOL     1      -2.108   1.302   0.174  1.00  0.00           H  \nATOM     11    H MOL     1      -0.046  -1.542  -1.319  1.00  0.00           H  \nATOM     12    H MOL     1      -0.074  -2.477   0.174  1.00  0.00           H  \nATOM     13    H MOL     1       0.046   1.542   1.319  1.00  0.00           H  \nATOM     14    H MOL     1       0.074   2.477  -0.174  1.00  0.00           H  \nATOM     15    H MOL     1       1.313  -0.811   1.319  1.00  0.00           H  \nATOM     16    H MOL     1       2.108  -1.303  -0.174  1.00  0.00           H  \nATOM     17    H MOL     1       2.182   1.175   0.174  1.00  0.00           H  \nATOM     18    H MOL     1       1.359   0.732  -1.319  1.00  0.00           H  \nENDMDL\n",
           "type": "blob"
          }
         ],
         "kwargs": {
          "defaultRepresentation": false,
          "ext": "pdb"
         },
         "methodName": "loadFile",
         "reconstruc_color_scheme": false,
         "target": "Stage",
         "type": "call_method"
        },
        {
         "args": [
          "400px",
          "300px"
         ],
         "kwargs": {},
         "methodName": "setSize",
         "reconstruc_color_scheme": false,
         "target": "Widget",
         "type": "call_method"
        },
        {
         "args": [
          "unitcell"
         ],
         "component_index": 0,
         "kwargs": {
          "sele": "all"
         },
         "methodName": "addRepresentation",
         "reconstruc_color_scheme": false,
         "target": "compList",
         "type": "call_method"
        },
        {
         "args": [
          "spacefill"
         ],
         "component_index": 0,
         "kwargs": {
          "sele": "all"
         },
         "methodName": "addRepresentation",
         "reconstruc_color_scheme": false,
         "target": "compList",
         "type": "call_method"
        },
        {
         "args": [],
         "kwargs": {
          "cameraType": "orthographic"
         },
         "methodName": "setParameters",
         "reconstruc_color_scheme": false,
         "target": "Stage",
         "type": "call_method"
        },
        {
         "args": [
          {
           "clipDist": 0
          }
         ],
         "kwargs": {},
         "methodName": "setParameters",
         "reconstruc_color_scheme": false,
         "target": "Widget",
         "type": "call_method"
        },
        {
         "args": [
          "spacefill",
          0
         ],
         "kwargs": {
          "colorScale": "rainbow",
          "colorScheme": "element",
          "radiusScale": 0.5,
          "radiusType": "covalent"
         },
         "methodName": "updateRepresentationsByName",
         "reconstruc_color_scheme": false,
         "target": "Widget",
         "type": "call_method"
        },
        {
         "args": [
          "this._Q = [[1.0, 0.0, 0.0], [0.0, 1.0, 0.0], [0.0, 0.0, 1.0]]\n    var tooltip = document.createElement('div')\n    Object.assign(tooltip.style, {\n      display: 'none',\n      position: 'fixed',\n      zIndex: 10,\n      pointerEvents: 'none',\n      backgroundColor: 'rgba( 0, 0, 0, 0.6 )',\n      color: 'lightgrey',\n      padding: '8px',\n      fontFamily: 'sans-serif'\n    })\n    document.body.appendChild(tooltip)\n\n    var that = this\n    this.stage.mouseControls.remove('hoverPick')\n    this.stage.signals.hovered.add(function (pickingProxy) {\n      if (pickingProxy && (pickingProxy.atom || pickingProxy.bond)) {\n        var atom = pickingProxy.atom || pickingProxy.closestBondAtom\n        var mp = pickingProxy.mouse.position\n        //tooltip.innerText = atom.element + ' i=' + atom.index + ' (' + atom.x.toFixed(2) +  ', ' + atom.y.toFixed(2) +  ', ' + atom.z.toFixed(2) + ')'\n        //var pos = that._atoms_pos[atom.index]\n        var Q = that._Q\n        var pos_x = Q[0][0] * atom.x + Q[0][1] * atom.y + Q[0][2] * atom.z \n        var pos_y = Q[1][0] * atom.x + Q[1][1] * atom.y + Q[1][2] * atom.z\n        var pos_z = Q[2][0] * atom.x + Q[2][1] * atom.y + Q[2][2] * atom.z\n        tooltip.innerText = 'i=' + atom.index + ' ' + atom.element + ' (' + pos_x.toFixed(2) +  ', ' + pos_y.toFixed(2) +  ', ' + pos_z.toFixed(2) + ')'\n        tooltip.style.bottom = window.innerHeight - mp.y + 3 + 'px'\n        tooltip.style.left = mp.x + 3 + 'px'\n        tooltip.style.display = 'block'\n      } else {\n        tooltip.style.display = 'none'\n      }\n    })\n    "
         ],
         "kwargs": {},
         "methodName": "executeCode",
         "reconstruc_color_scheme": false,
         "target": "Widget",
         "type": "call_method"
        },
        {
         "args": [
          "ball+stick"
         ],
         "component_index": 0,
         "kwargs": {
          "sele": "all"
         },
         "methodName": "addRepresentation",
         "reconstruc_color_scheme": false,
         "target": "compList",
         "type": "call_method"
        }
       ],
       "_ngl_original_stage_parameters": {
        "ambientColor": 14540253,
        "ambientIntensity": 0.2,
        "backgroundColor": "white",
        "cameraEyeSep": 0.3,
        "cameraFov": 40,
        "cameraType": "perspective",
        "clipDist": 10,
        "clipFar": 100,
        "clipNear": 0,
        "fogFar": 100,
        "fogNear": 50,
        "hoverTimeout": 0,
        "impostor": true,
        "lightColor": 14540253,
        "lightIntensity": 1,
        "mousePreset": "default",
        "panSpeed": 1,
        "quality": "medium",
        "rotateSpeed": 2,
        "sampleLevel": 0,
        "tooltip": true,
        "workerDefault": true,
        "zoomSpeed": 1.2
       },
       "_ngl_repr_dict": {
        "0": {
         "0": {
          "params": {
           "clipCenter": {
            "x": 0,
            "y": 0,
            "z": 0
           },
           "clipNear": 0,
           "clipRadius": 0,
           "colorMode": "hcl",
           "colorReverse": false,
           "colorScale": "",
           "colorScheme": "element",
           "colorValue": "orange",
           "defaultAssembly": "",
           "depthWrite": true,
           "diffuse": 16777215,
           "diffuseInterior": false,
           "disableImpostor": false,
           "disablePicking": false,
           "flatShaded": false,
           "interiorColor": 2236962,
           "interiorDarkening": 0,
           "lazy": false,
           "matrix": {
            "elements": [
             1,
             0,
             0,
             0,
             0,
             1,
             0,
             0,
             0,
             0,
             1,
             0,
             0,
             0,
             0,
             1
            ]
           },
           "metalness": 0,
           "opacity": 1,
           "quality": "medium",
           "radialSegments": 10,
           "radiusData": {},
           "radiusScale": 1,
           "radiusSize": 0.5,
           "radiusType": "vdw",
           "roughness": 0.4,
           "sele": "all",
           "side": "double",
           "sphereDetail": 1,
           "useInteriorColor": true,
           "visible": true,
           "wireframe": false
          },
          "type": "unitcell"
         },
         "1": {
          "params": {
           "assembly": "default",
           "clipCenter": {
            "x": 0,
            "y": 0,
            "z": 0
           },
           "clipNear": 0,
           "clipRadius": 0,
           "colorMode": "hcl",
           "colorReverse": false,
           "colorScale": "rainbow",
           "colorScheme": "element",
           "colorValue": 9474192,
           "defaultAssembly": "",
           "depthWrite": true,
           "diffuse": 16777215,
           "diffuseInterior": false,
           "disableImpostor": false,
           "disablePicking": false,
           "flatShaded": false,
           "interiorColor": 2236962,
           "interiorDarkening": 0,
           "lazy": false,
           "matrix": {
            "elements": [
             1,
             0,
             0,
             0,
             0,
             1,
             0,
             0,
             0,
             0,
             1,
             0,
             0,
             0,
             0,
             1
            ]
           },
           "metalness": 0,
           "opacity": 1,
           "quality": "medium",
           "radiusData": {},
           "radiusScale": 0.5,
           "radiusSize": 1,
           "radiusType": "covalent",
           "roughness": 0.4,
           "sele": "all",
           "side": "double",
           "sphereDetail": 1,
           "useInteriorColor": true,
           "visible": true,
           "wireframe": false
          },
          "type": "spacefill"
         },
         "2": {
          "params": {
           "aspectRatio": 2,
           "assembly": "default",
           "bondScale": 0.4,
           "bondSpacing": 1,
           "clipCenter": {
            "x": 0,
            "y": 0,
            "z": 0
           },
           "clipNear": 0,
           "clipRadius": 0,
           "colorMode": "hcl",
           "colorReverse": false,
           "colorScale": "",
           "colorScheme": "element",
           "colorValue": 9474192,
           "cylinderOnly": false,
           "defaultAssembly": "",
           "depthWrite": true,
           "diffuse": 16777215,
           "diffuseInterior": false,
           "disableImpostor": false,
           "disablePicking": false,
           "flatShaded": false,
           "interiorColor": 2236962,
           "interiorDarkening": 0,
           "lazy": false,
           "lineOnly": false,
           "linewidth": 2,
           "matrix": {
            "elements": [
             1,
             0,
             0,
             0,
             0,
             1,
             0,
             0,
             0,
             0,
             1,
             0,
             0,
             0,
             0,
             1
            ]
           },
           "metalness": 0,
           "multipleBond": "off",
           "opacity": 1,
           "openEnded": true,
           "quality": "medium",
           "radialSegments": 10,
           "radiusData": {},
           "radiusScale": 1,
           "radiusSize": 0.15,
           "radiusType": "size",
           "roughness": 0.4,
           "sele": "all",
           "side": "double",
           "sphereDetail": 1,
           "useInteriorColor": true,
           "visible": true,
           "wireframe": false
          },
          "type": "ball+stick"
         }
        }
       },
       "_ngl_serialize": false,
       "_ngl_version": "2.0.0-dev.36",
       "_ngl_view_id": [
        "BDDBA3FE-ABA5-44E1-B716-99BC48A70C5E"
       ],
       "_player_dict": {},
       "_scene_position": {},
       "_scene_rotation": {},
       "_synced_model_ids": [],
       "_synced_repr_model_ids": [],
       "_view_height": "",
       "_view_width": "",
       "background": "white",
       "frame": 0,
       "gui_style": null,
       "layout": "IPY_MODEL_912822ef159e4e6dabee625e383d13ff",
       "max_frame": 0,
       "n_components": 1,
       "picked": {}
      }
     },
     "105d4602d48644a691d512b446754737": {
      "model_module": "@jupyter-widgets/controls",
      "model_module_version": "1.5.0",
      "model_name": "ImageModel",
      "state": {
       "layout": "IPY_MODEL_e2f28900ad1d472f9616e4a73b9acc69",
       "width": "900.0"
      }
     },
     "10f2b55526ef42d1abd701df30fc28ff": {
      "model_module": "@jupyter-widgets/controls",
      "model_module_version": "1.5.0",
      "model_name": "ImageModel",
      "state": {
       "layout": "IPY_MODEL_fca8057339f148f6a827b4754781b065",
       "width": "900.0"
      }
     },
     "11fefdd40abb491aa1d740c64d8c99c6": {
      "model_module": "@jupyter-widgets/controls",
      "model_module_version": "1.5.0",
      "model_name": "ImageModel",
      "state": {
       "layout": "IPY_MODEL_43cbd82ba0954838957ce6ba3f499a83",
       "width": "900.0"
      }
     },
     "12d1d2f6630b4f2482cb920c5ad68348": {
      "model_module": "@jupyter-widgets/controls",
      "model_module_version": "1.5.0",
      "model_name": "ButtonStyleModel",
      "state": {}
     },
     "13732636ef5e440a8639ca2c8e12c85b": {
      "model_module": "@jupyter-widgets/controls",
      "model_module_version": "1.5.0",
      "model_name": "ButtonModel",
      "state": {
       "icon": "compress",
       "layout": "IPY_MODEL_71b9ed3baf684cf5ae0c1eeeba85182f",
       "style": "IPY_MODEL_9f8b05f60f6b42548a7222d894e5bd56"
      }
     },
     "13afe2013028410092cc34585965b648": {
      "model_module": "@jupyter-widgets/base",
      "model_module_version": "1.2.0",
      "model_name": "LayoutModel",
      "state": {
       "border": "0px solid black"
      }
     },
     "13e707fa8835422ca654a8c1806089c0": {
      "model_module": "@jupyter-widgets/base",
      "model_module_version": "1.2.0",
      "model_name": "LayoutModel",
      "state": {}
     },
     "1415bd0f71d7492991cdbe5bebf701bb": {
      "model_module": "@jupyter-widgets/base",
      "model_module_version": "1.2.0",
      "model_name": "LayoutModel",
      "state": {}
     },
     "143f4bd6760d408eaae6803c7d54c81f": {
      "model_module": "@jupyter-widgets/controls",
      "model_module_version": "1.5.0",
      "model_name": "CheckboxModel",
      "state": {
       "description": "Show charge",
       "disabled": false,
       "layout": "IPY_MODEL_af44e4a906cb4ff580451e6e731f5a0d",
       "style": "IPY_MODEL_52138370e9ee47b799d39babd3f11b89",
       "value": false
      }
     },
     "14492b7381ef4ddeb6d9dbbd9c7f55f7": {
      "model_module": "@jupyter-widgets/base",
      "model_module_version": "1.2.0",
      "model_name": "LayoutModel",
      "state": {}
     },
     "14f9115ca7144d2380f3c5b820d598c9": {
      "model_module": "@jupyter-widgets/base",
      "model_module_version": "1.2.0",
      "model_name": "LayoutModel",
      "state": {}
     },
     "1551241028d441b7a8711ffee043dc7a": {
      "model_module": "@jupyter-widgets/controls",
      "model_module_version": "1.5.0",
      "model_name": "LinkModel",
      "state": {
       "source": [
        "IPY_MODEL_cc0242dacc804f61bc456b77e93e6a3e",
        "value"
       ],
       "target": [
        "IPY_MODEL_f4c636fdd352491498d284203d16dd54",
        "frame"
       ]
      }
     },
     "15b96505e95c41df96861b0b48c38204": {
      "model_module": "@jupyter-widgets/base",
      "model_module_version": "1.2.0",
      "model_name": "LayoutModel",
      "state": {}
     },
     "160022d5fb7443a4a5a51adec8563293": {
      "model_module": "@jupyter-widgets/output",
      "model_module_version": "1.0.0",
      "model_name": "OutputModel",
      "state": {
       "layout": "IPY_MODEL_642b2e5690654544b4ff18879d8d6df3"
      }
     },
     "170d810be87f4e7f9c14b18b8c56f6f3": {
      "model_module": "@jupyter-widgets/controls",
      "model_module_version": "1.5.0",
      "model_name": "IntSliderModel",
      "state": {
       "layout": "IPY_MODEL_15b96505e95c41df96861b0b48c38204",
       "max": 0,
       "style": "IPY_MODEL_2cb728448aff4c66bd99620be25cf2ca"
      }
     },
     "184c564ce08a459bb5582ecfa3574718": {
      "model_module": "@jupyter-widgets/controls",
      "model_module_version": "1.5.0",
      "model_name": "SliderStyleModel",
      "state": {
       "description_width": ""
      }
     },
     "1944a8879e34477594317a5e9e2096ff": {
      "model_module": "@jupyter-widgets/controls",
      "model_module_version": "1.5.0",
      "model_name": "SliderStyleModel",
      "state": {
       "description_width": ""
      }
     },
     "195f2ceaaf1343609cd572536e41729c": {
      "model_module": "@jupyter-widgets/controls",
      "model_module_version": "1.5.0",
      "model_name": "CheckboxModel",
      "state": {
       "description": "Show force",
       "disabled": false,
       "layout": "IPY_MODEL_ea48db686011497d81a979de94d875ed",
       "style": "IPY_MODEL_b4a5c6659e3342d9a1845e3d2c094031",
       "value": false
      }
     },
     "198f5e0a34204f1782fd3a2de4f47a73": {
      "model_module": "@jupyter-widgets/base",
      "model_module_version": "1.2.0",
      "model_name": "LayoutModel",
      "state": {}
     },
     "19ca7c14eecc473cbe3297d25b493f3f": {
      "model_module": "@jupyter-widgets/controls",
      "model_module_version": "1.5.0",
      "model_name": "DescriptionStyleModel",
      "state": {
       "description_width": ""
      }
     },
     "1a5401537a754143a71e86457ccb7e97": {
      "model_module": "@jupyter-widgets/controls",
      "model_module_version": "1.5.0",
      "model_name": "HBoxModel",
      "state": {
       "children": [
        "IPY_MODEL_b1268382839d43edb1560c596ad2ce8f",
        "IPY_MODEL_ca5414936d124b2186c2d07aa73dd94c"
       ],
       "layout": "IPY_MODEL_79622c71106e4c76bf3ebe1fac56846a"
      }
     },
     "1aaa99de21b3424fac6fd0f7c611cbd4": {
      "model_module": "@jupyter-widgets/base",
      "model_module_version": "1.2.0",
      "model_name": "LayoutModel",
      "state": {}
     },
     "1adaa87b4b2d4941ae1f0d090b95e5cf": {
      "model_module": "@jupyter-widgets/controls",
      "model_module_version": "1.5.0",
      "model_name": "HBoxModel",
      "state": {
       "children": [
        "IPY_MODEL_37ed082670994f5faefaa62dec77c7ef",
        "IPY_MODEL_617ba89c8ad2437fab4f5fee825e5c11"
       ],
       "layout": "IPY_MODEL_bdc90605abcc484d89f15194fc7694e9"
      }
     },
     "1af13bcdc89744d6adcaff49e829c92b": {
      "model_module": "@jupyter-widgets/controls",
      "model_module_version": "1.5.0",
      "model_name": "SliderStyleModel",
      "state": {
       "description_width": ""
      }
     },
     "1bdedd62e5c14045ab99eec3be3529cc": {
      "model_module": "@jupyter-widgets/base",
      "model_module_version": "1.2.0",
      "model_name": "LayoutModel",
      "state": {}
     },
     "1c71af1c638b45a89f189c37b0cf304f": {
      "model_module": "@jupyter-widgets/controls",
      "model_module_version": "1.5.0",
      "model_name": "DropdownModel",
      "state": {
       "_options_labels": [
        " ",
        "picking",
        "random",
        "uniform",
        "atomindex",
        "residueindex",
        "chainindex",
        "modelindex",
        "sstruc",
        "element",
        "resname",
        "bfactor",
        "hydrophobicity",
        "value",
        "volume",
        "occupancy"
       ],
       "description": "Color scheme",
       "index": 9,
       "layout": "IPY_MODEL_a200878366444c4d9a5d4cf58935015f",
       "style": "IPY_MODEL_ea8d7bd3773a45069e5af3c4992f3137"
      }
     },
     "1cc43a58474e45098cf1d2d7272c6283": {
      "model_module": "@jupyter-widgets/base",
      "model_module_version": "1.2.0",
      "model_name": "LayoutModel",
      "state": {}
     },
     "1d66e351780244fea3afc91857752caa": {
      "model_module": "@jupyter-widgets/controls",
      "model_module_version": "1.5.0",
      "model_name": "DropdownModel",
      "state": {
       "_options_labels": [
        " ",
        "picking",
        "random",
        "uniform",
        "atomindex",
        "residueindex",
        "chainindex",
        "modelindex",
        "sstruc",
        "element",
        "resname",
        "bfactor",
        "hydrophobicity",
        "value",
        "volume",
        "occupancy"
       ],
       "description": "Color scheme",
       "index": 9,
       "layout": "IPY_MODEL_a55b6acfb89e4380b8c0cf3ad3fb3e16",
       "style": "IPY_MODEL_99530c8eebb84b528b8aff1f44c2c995"
      }
     },
     "1e04ceafa75444039d91d072c749b0b8": {
      "model_module": "@jupyter-widgets/base",
      "model_module_version": "1.2.0",
      "model_name": "LayoutModel",
      "state": {}
     },
     "1e08f0df7a14499facc8617d1623d4ba": {
      "model_module": "@jupyter-widgets/base",
      "model_module_version": "1.2.0",
      "model_name": "LayoutModel",
      "state": {}
     },
     "1f09b254d42c4b08a29ab5e9310522a7": {
      "model_module": "@jupyter-widgets/controls",
      "model_module_version": "1.5.0",
      "model_name": "SliderStyleModel",
      "state": {
       "description_width": ""
      }
     },
     "1f72fff8a8734449812e93872b0b17df": {
      "model_module": "@jupyter-widgets/output",
      "model_module_version": "1.0.0",
      "model_name": "OutputModel",
      "state": {
       "layout": "IPY_MODEL_09d04684be4a4308badce0d531a88d42"
      }
     },
     "1fbec7e9bd744a53a0df35176df1c8f1": {
      "model_module": "@jupyter-widgets/controls",
      "model_module_version": "1.5.0",
      "model_name": "FloatSliderModel",
      "state": {
       "description": "Charge scale",
       "layout": "IPY_MODEL_c84b2a9489a346b78b32046ff85358c4",
       "step": 0.1,
       "style": "IPY_MODEL_e959cc2dec3546bba85a075812496e22",
       "value": 1
      }
     },
     "1ff904ffbfe34cb4b23c4177acd719e8": {
      "model_module": "@jupyter-widgets/controls",
      "model_module_version": "1.5.0",
      "model_name": "DescriptionStyleModel",
      "state": {
       "description_width": ""
      }
     },
     "212c9faa38584b7e885efe7858aa10f0": {
      "model_module": "@jupyter-widgets/controls",
      "model_module_version": "1.5.0",
      "model_name": "HBoxModel",
      "state": {
       "children": [
        "IPY_MODEL_7464adb67f8c47369ca8d5492bd2a638",
        "IPY_MODEL_b4d28bf15caa46419dcd56907f9f82a8"
       ],
       "layout": "IPY_MODEL_e155ed6ea24e4a6db39130ded9a1789d"
      }
     },
     "224c28738d6f45e283a38fb01a5ff0c5": {
      "model_module": "@jupyter-widgets/controls",
      "model_module_version": "1.5.0",
      "model_name": "LinkModel",
      "state": {
       "source": [
        "IPY_MODEL_cc0242dacc804f61bc456b77e93e6a3e",
        "value"
       ],
       "target": [
        "IPY_MODEL_b1037fd5c345450bab0ae4c4f9278d57",
        "value"
       ]
      }
     },
     "23c7b4bb04d94038bd2739aa1452c43d": {
      "model_module": "@jupyter-widgets/base",
      "model_module_version": "1.2.0",
      "model_name": "LayoutModel",
      "state": {
       "width": "34px"
      }
     },
     "23cf07b98d4f4cf482e0fd4fe2504ec3": {
      "model_module": "@jupyter-widgets/controls",
      "model_module_version": "1.5.0",
      "model_name": "ButtonModel",
      "state": {
       "icon": "compress",
       "layout": "IPY_MODEL_5661c3e0a0c642f4a767aedc64e0ee3b",
       "style": "IPY_MODEL_f8fa34ee75a94337af9b4caae55cd015"
      }
     },
     "23de4e972fef41008b964cb4610d7aeb": {
      "model_module": "@jupyter-widgets/base",
      "model_module_version": "1.2.0",
      "model_name": "LayoutModel",
      "state": {}
     },
     "23ec37efeb694790883f04312e267efb": {
      "model_module": "@jupyter-widgets/controls",
      "model_module_version": "1.5.0",
      "model_name": "DropdownModel",
      "state": {
       "_options_labels": [
        " ",
        "picking",
        "random",
        "uniform",
        "atomindex",
        "residueindex",
        "chainindex",
        "modelindex",
        "sstruc",
        "element",
        "resname",
        "bfactor",
        "hydrophobicity",
        "value",
        "volume",
        "occupancy"
       ],
       "description": "Color scheme",
       "index": 9,
       "layout": "IPY_MODEL_ef0b360bf2e74d5b91f8e8a9879459b2",
       "style": "IPY_MODEL_85bbfa18ff3744e9ab37602225fe3423"
      }
     },
     "244492fda0454999a3eff5eb373dcce4": {
      "model_module": "@jupyter-widgets/base",
      "model_module_version": "1.2.0",
      "model_name": "LayoutModel",
      "state": {
       "width": "34px"
      }
     },
     "254ef4c0ccb7419aa4b0079ebca4cf29": {
      "model_module": "@jupyter-widgets/base",
      "model_module_version": "1.2.0",
      "model_name": "LayoutModel",
      "state": {}
     },
     "2568de6b2f154636940d9bf845b9d9b3": {
      "model_module": "@jupyter-widgets/base",
      "model_module_version": "1.2.0",
      "model_name": "LayoutModel",
      "state": {}
     },
     "25962df21e114c60a2f6164213726700": {
      "model_module": "@jupyter-widgets/controls",
      "model_module_version": "1.5.0",
      "model_name": "FloatSliderModel",
      "state": {
       "description": "Charge scale",
       "layout": "IPY_MODEL_4a94b8d7e88d4d7db54494789b7ec692",
       "step": 0.1,
       "style": "IPY_MODEL_184c564ce08a459bb5582ecfa3574718",
       "value": 1
      }
     },
     "259dcd64b3724cc99d4ad9b3586ab439": {
      "model_module": "@jupyter-widgets/base",
      "model_module_version": "1.2.0",
      "model_name": "LayoutModel",
      "state": {}
     },
     "25a8c1b67900454cbeb4aae66d98c3e2": {
      "model_module": "@jupyter-widgets/base",
      "model_module_version": "1.2.0",
      "model_name": "LayoutModel",
      "state": {
       "width": "34px"
      }
     },
     "2607274457324d43b37659e41932f70c": {
      "model_module": "@jupyter-widgets/base",
      "model_module_version": "1.2.0",
      "model_name": "LayoutModel",
      "state": {}
     },
     "2655c0f8dbb84dcab7f74b320fc13873": {
      "model_module": "@jupyter-widgets/base",
      "model_module_version": "1.2.0",
      "model_name": "LayoutModel",
      "state": {}
     },
     "265c5c1cf6bc431b9c95087a1a180d87": {
      "model_module": "@jupyter-widgets/base",
      "model_module_version": "1.2.0",
      "model_name": "LayoutModel",
      "state": {
       "border": "0px solid black"
      }
     },
     "26de8741242548ac84e127692a77886a": {
      "model_module": "@jupyter-widgets/base",
      "model_module_version": "1.2.0",
      "model_name": "LayoutModel",
      "state": {}
     },
     "27856403cd9b4bb5b3f0409d1230e31c": {
      "model_module": "@jupyter-widgets/base",
      "model_module_version": "1.2.0",
      "model_name": "LayoutModel",
      "state": {}
     },
     "28799d2931cc457d81f5f041e6e845ca": {
      "model_module": "@jupyter-widgets/controls",
      "model_module_version": "1.5.0",
      "model_name": "TextModel",
      "state": {
       "description": "Filename: ",
       "layout": "IPY_MODEL_254ef4c0ccb7419aa4b0079ebca4cf29",
       "style": "IPY_MODEL_89f89da6e2b7472c93ce169766754d10",
       "value": "screenshot.png"
      }
     },
     "28dd283149c142eab71ca0bf0914a76f": {
      "model_module": "@jupyter-widgets/controls",
      "model_module_version": "1.5.0",
      "model_name": "DropdownModel",
      "state": {
       "_options_labels": [
        "All",
        "C",
        "H"
       ],
       "description": "Show",
       "index": 0,
       "layout": "IPY_MODEL_5a38f0109e214728a62669fd493cb868",
       "style": "IPY_MODEL_d55093d677dd44cf8bd236989b1064ac"
      }
     },
     "29b8e07644a94a70b8047179b63df484": {
      "model_module": "@jupyter-widgets/base",
      "model_module_version": "1.2.0",
      "model_name": "LayoutModel",
      "state": {}
     },
     "2a1f6508108b40b98a01ed7257741e59": {
      "model_module": "@jupyter-widgets/controls",
      "model_module_version": "1.5.0",
      "model_name": "TextModel",
      "state": {
       "description": "Filename: ",
       "layout": "IPY_MODEL_9938199c52b94e01bc4dd0fb0a7eb702",
       "style": "IPY_MODEL_87344e73c40c45f5b4530feb670b8f7c",
       "value": "screenshot.png"
      }
     },
     "2a6047c4bc564924934f70d694ba7246": {
      "model_module": "@jupyter-widgets/base",
      "model_module_version": "1.2.0",
      "model_name": "LayoutModel",
      "state": {}
     },
     "2af26be9af2141e8a82ebd51adac6c09": {
      "model_module": "@jupyter-widgets/controls",
      "model_module_version": "1.5.0",
      "model_name": "ButtonModel",
      "state": {
       "description": "Download image",
       "layout": "IPY_MODEL_1415bd0f71d7492991cdbe5bebf701bb",
       "style": "IPY_MODEL_9609610eb01a4bacbee0616b6e307a9a",
       "tooltip": "Download current frame to your local PC"
      }
     },
     "2bbe34f417c94c3c97cfb1e15a78de36": {
      "model_module": "@jupyter-widgets/controls",
      "model_module_version": "1.5.0",
      "model_name": "HBoxModel",
      "state": {
       "children": [
        "IPY_MODEL_d67547d0f6ee4959a0a446a7c2785674",
        "IPY_MODEL_85ef0d8203854785bbd9fa017836214a"
       ],
       "layout": "IPY_MODEL_d47cb32e4824426391d1085babe33666"
      }
     },
     "2c2d3f0a77b642fdbbd7f081a546a373": {
      "model_module": "@jupyter-widgets/controls",
      "model_module_version": "1.5.0",
      "model_name": "FloatSliderModel",
      "state": {
       "description": "Charge scale",
       "layout": "IPY_MODEL_a39e22fd4fef44cb959e9c2e1e9bb8d0",
       "step": 0.1,
       "style": "IPY_MODEL_fa86894d5b8646e8a72f94010c870c41",
       "value": 1
      }
     },
     "2cb728448aff4c66bd99620be25cf2ca": {
      "model_module": "@jupyter-widgets/controls",
      "model_module_version": "1.5.0",
      "model_name": "SliderStyleModel",
      "state": {
       "description_width": ""
      }
     },
     "2d7fe966e03b4c06b999bd70f9c6314b": {
      "model_module": "@jupyter-widgets/controls",
      "model_module_version": "1.5.0",
      "model_name": "PlayModel",
      "state": {
       "layout": "IPY_MODEL_cd2f183ab9054718802390b614a7166b",
       "max": 0,
       "style": "IPY_MODEL_b7e41eb42f4c4773bd68065a920851f2"
      }
     },
     "2e1280a4edb443e3b953a065b42db848": {
      "model_module": "@jupyter-widgets/controls",
      "model_module_version": "1.5.0",
      "model_name": "LinkModel",
      "state": {
       "source": [
        "IPY_MODEL_905346e30ad0470fa1463ef100dcdcdd",
        "max"
       ],
       "target": [
        "IPY_MODEL_0fc5e697b20a48a39242d1b2d75b66a9",
        "max_frame"
       ]
      }
     },
     "307b63a745d24f67b62fdad31af37fd8": {
      "model_module": "@jupyter-widgets/controls",
      "model_module_version": "1.5.0",
      "model_name": "FloatSliderModel",
      "state": {
       "description": "Force scale",
       "layout": "IPY_MODEL_d058693cd02a4edd9845ec4d8abbca7b",
       "step": 0.1,
       "style": "IPY_MODEL_703f35abc71d4895988fb2f73a77e857",
       "value": 0.5
      }
     },
     "3089e27b811c4345b97a304db830146b": {
      "model_module": "@jupyter-widgets/controls",
      "model_module_version": "1.5.0",
      "model_name": "ButtonModel",
      "state": {
       "icon": "compress",
       "layout": "IPY_MODEL_25a8c1b67900454cbeb4aae66d98c3e2",
       "style": "IPY_MODEL_73ef29870a78419696516b73075134a4"
      }
     },
     "30e6a74142a94f52897d96ca4983eaf0": {
      "model_module": "@jupyter-widgets/controls",
      "model_module_version": "1.5.0",
      "model_name": "SliderStyleModel",
      "state": {
       "description_width": ""
      }
     },
     "31080081f2eb4843a06550c3fb379248": {
      "model_module": "@jupyter-widgets/controls",
      "model_module_version": "1.5.0",
      "model_name": "DropdownModel",
      "state": {
       "_options_labels": [
        "All",
        "H"
       ],
       "description": "Show",
       "index": 0,
       "layout": "IPY_MODEL_d92a8269cfa44e008abf23b13a48c8eb",
       "style": "IPY_MODEL_084dd3c2b960442face80cf908439fda"
      }
     },
     "31729fa97b414ab5b1fee703c0ffa7cd": {
      "model_module": "@jupyter-widgets/controls",
      "model_module_version": "1.5.0",
      "model_name": "DescriptionStyleModel",
      "state": {
       "description_width": ""
      }
     },
     "32b6e776f32844b28dcc52c190a41be0": {
      "model_module": "@jupyter-widgets/controls",
      "model_module_version": "1.5.0",
      "model_name": "LinkModel",
      "state": {
       "source": [
        "IPY_MODEL_bf2919950ae44420a1db0f8c6caabd66",
        "max"
       ],
       "target": [
        "IPY_MODEL_f02321af4e4c4632a01c52a69f34dd18",
        "max_frame"
       ]
      }
     },
     "32d3beb72f3c4845bcb0835a20e4eccb": {
      "model_module": "@jupyter-widgets/base",
      "model_module_version": "1.2.0",
      "model_name": "LayoutModel",
      "state": {}
     },
     "332296c652e74892a0c81857aa947041": {
      "model_module": "@jupyter-widgets/base",
      "model_module_version": "1.2.0",
      "model_name": "LayoutModel",
      "state": {}
     },
     "3355b60f77994c538bba75427d6d643a": {
      "model_module": "@jupyter-widgets/controls",
      "model_module_version": "1.5.0",
      "model_name": "ButtonStyleModel",
      "state": {}
     },
     "33563c2d798347ee9975871b9e5d786a": {
      "model_module": "@jupyter-widgets/controls",
      "model_module_version": "1.5.0",
      "model_name": "ButtonStyleModel",
      "state": {}
     },
     "34587ad09cac4d9588eb207f6a8be5f6": {
      "model_module": "@jupyter-widgets/controls",
      "model_module_version": "1.5.0",
      "model_name": "HBoxModel",
      "state": {
       "children": [
        "IPY_MODEL_efe36c13564c44dabcd156c2f55ac111",
        "IPY_MODEL_170d810be87f4e7f9c14b18b8c56f6f3"
       ],
       "layout": "IPY_MODEL_b71cc0da8be44c9990f4c3ca30d26d80"
      }
     },
     "346a6e81afff46f28e4b6fe0c873e2d9": {
      "model_module": "@jupyter-widgets/controls",
      "model_module_version": "1.5.0",
      "model_name": "CheckboxModel",
      "state": {
       "description": "Show force",
       "disabled": false,
       "layout": "IPY_MODEL_c2a0e4388d7a43dc8bb5b5e5fe25423b",
       "style": "IPY_MODEL_e0a33a6a09fc4df7a6902e4934056ddf",
       "value": false
      }
     },
     "37ed082670994f5faefaa62dec77c7ef": {
      "model_module": "@jupyter-widgets/controls",
      "model_module_version": "1.5.0",
      "model_name": "ButtonModel",
      "state": {
       "description": "Download image",
       "layout": "IPY_MODEL_e93f1c93335247269e25cbcebbb676de",
       "style": "IPY_MODEL_8699b4a62a7d493fb5d0942d1b602fe7",
       "tooltip": "Download current frame to your local PC"
      }
     },
     "381e5d9be233495fa5bd66fdf044f534": {
      "model_module": "@jupyter-widgets/base",
      "model_module_version": "1.2.0",
      "model_name": "LayoutModel",
      "state": {}
     },
     "38979d0e55c247a0b60623bac412e5ce": {
      "model_module": "@jupyter-widgets/controls",
      "model_module_version": "1.5.0",
      "model_name": "ButtonStyleModel",
      "state": {}
     },
     "38d0cc20ea4c4469a4605f886940db6c": {
      "model_module": "@jupyter-widgets/base",
      "model_module_version": "1.2.0",
      "model_name": "LayoutModel",
      "state": {}
     },
     "39826674efc94eda9f340c002d4e0724": {
      "model_module": "@jupyter-widgets/controls",
      "model_module_version": "1.5.0",
      "model_name": "CheckboxModel",
      "state": {
       "description": "Show charge",
       "disabled": false,
       "layout": "IPY_MODEL_99f4f539719e4f9b811556e5a74c36bd",
       "style": "IPY_MODEL_3fdeaf527ab44a7f97cd594a8cb52739",
       "value": false
      }
     },
     "3a1d8a0d55d642ddbffe946e65c5e430": {
      "model_module": "@jupyter-widgets/base",
      "model_module_version": "1.2.0",
      "model_name": "LayoutModel",
      "state": {}
     },
     "3b67e06e1de1460d8a7da99a35d1c7f6": {
      "model_module": "@jupyter-widgets/base",
      "model_module_version": "1.2.0",
      "model_name": "LayoutModel",
      "state": {}
     },
     "3e7e307500f14b478362baef358fb923": {
      "model_module": "@jupyter-widgets/base",
      "model_module_version": "1.2.0",
      "model_name": "LayoutModel",
      "state": {}
     },
     "3f03ac22d7f84afd8f87fffe2c1d1190": {
      "model_module": "@jupyter-widgets/controls",
      "model_module_version": "1.5.0",
      "model_name": "SliderStyleModel",
      "state": {
       "description_width": ""
      }
     },
     "3f4e622bdf534a35904dd5f8624ed01c": {
      "model_module": "@jupyter-widgets/base",
      "model_module_version": "1.2.0",
      "model_name": "LayoutModel",
      "state": {}
     },
     "3fdeaf527ab44a7f97cd594a8cb52739": {
      "model_module": "@jupyter-widgets/controls",
      "model_module_version": "1.5.0",
      "model_name": "DescriptionStyleModel",
      "state": {
       "description_width": ""
      }
     },
     "406048582aa34a4ab8f333e67e3ef757": {
      "model_module": "@jupyter-widgets/base",
      "model_module_version": "1.2.0",
      "model_name": "LayoutModel",
      "state": {}
     },
     "40eaaca8606c4199baef7ab620d92ea4": {
      "model_module": "@jupyter-widgets/controls",
      "model_module_version": "1.5.0",
      "model_name": "PlayModel",
      "state": {
       "layout": "IPY_MODEL_3e7e307500f14b478362baef358fb923",
       "max": 3,
       "style": "IPY_MODEL_785ed4b78a9a4330a8056e4c4e8a0dc9"
      }
     },
     "413a2f35c9674e91b34382cb9fcc9602": {
      "model_module": "@jupyter-widgets/base",
      "model_module_version": "1.2.0",
      "model_name": "LayoutModel",
      "state": {}
     },
     "416fa6e2d6b84b71a2e7599098ff241b": {
      "model_module": "@jupyter-widgets/controls",
      "model_module_version": "1.5.0",
      "model_name": "DescriptionStyleModel",
      "state": {
       "description_width": ""
      }
     },
     "41beae1177714f8aad7b66e13ebcc1dc": {
      "model_module": "@jupyter-widgets/controls",
      "model_module_version": "1.5.0",
      "model_name": "SliderStyleModel",
      "state": {
       "description_width": ""
      }
     },
     "421485bbb6bd40a6b9544491efb40959": {
      "model_module": "@jupyter-widgets/controls",
      "model_module_version": "1.5.0",
      "model_name": "ButtonModel",
      "state": {
       "description": "Download image",
       "layout": "IPY_MODEL_1e08f0df7a14499facc8617d1623d4ba",
       "style": "IPY_MODEL_da2feadf89ac4f139837723bd0c25df1",
       "tooltip": "Download current frame to your local PC"
      }
     },
     "4226783c460b4e0182c10e5bf15555e0": {
      "model_module": "@jupyter-widgets/base",
      "model_module_version": "1.2.0",
      "model_name": "LayoutModel",
      "state": {}
     },
     "42bf7ceaf4ae4214b2936fa400302e0e": {
      "model_module": "@jupyter-widgets/controls",
      "model_module_version": "1.5.0",
      "model_name": "ButtonModel",
      "state": {
       "icon": "compress",
       "layout": "IPY_MODEL_244492fda0454999a3eff5eb373dcce4",
       "style": "IPY_MODEL_d905ef5432504a68969f1df4325acf1a"
      }
     },
     "433ad1b3d3c64513acce98ef9618ee31": {
      "model_module": "nglview-js-widgets",
      "model_module_version": "3.0.1",
      "model_name": "NGLModel",
      "state": {
       "_camera_orientation": [
        12.700080064570994,
        0,
        0,
        0,
        0,
        12.700080064570994,
        0,
        0,
        0,
        0,
        12.700080064570994,
        0,
        -0.9599999785423279,
        -0.5540000200271606,
        -0.3919999897480011,
        1
       ],
       "_camera_str": "orthographic",
       "_gui_theme": null,
       "_ibtn_fullscreen": "IPY_MODEL_23cf07b98d4f4cf482e0fd4fe2504ec3",
       "_igui": null,
       "_iplayer": "IPY_MODEL_4659f58a58b9477d800874f52eea18c4",
       "_ngl_color_dict": {},
       "_ngl_coordinate_resource": {},
       "_ngl_full_stage_parameters": {
        "ambientColor": 14540253,
        "ambientIntensity": 0.2,
        "backgroundColor": "white",
        "cameraEyeSep": 0.3,
        "cameraFov": 40,
        "cameraType": "orthographic",
        "clipDist": 0,
        "clipFar": 100,
        "clipNear": 0,
        "fogFar": 100,
        "fogNear": 50,
        "hoverTimeout": 0,
        "impostor": true,
        "lightColor": 14540253,
        "lightIntensity": 1,
        "mousePreset": "default",
        "panSpeed": 1,
        "quality": "medium",
        "rotateSpeed": 2,
        "sampleLevel": 0,
        "tooltip": true,
        "workerDefault": true,
        "zoomSpeed": 1.2
       },
       "_ngl_msg_archive": [
        {
         "args": [
          {
           "binary": false,
           "data": "CRYST1    3.840    3.840    3.840  60.00  60.00  60.00 P 1\nMODEL     1\nATOM      1   Si MOL     1       0.000   0.000   0.000  1.00  0.00          SI  \nATOM      2   Si MOL     1       1.920   1.108   0.784  1.00  0.00          SI  \nENDMDL\n",
           "type": "blob"
          }
         ],
         "kwargs": {
          "defaultRepresentation": false,
          "ext": "pdb"
         },
         "methodName": "loadFile",
         "reconstruc_color_scheme": false,
         "target": "Stage",
         "type": "call_method"
        },
        {
         "args": [
          "400px",
          "300px"
         ],
         "kwargs": {},
         "methodName": "setSize",
         "reconstruc_color_scheme": false,
         "target": "Widget",
         "type": "call_method"
        },
        {
         "args": [
          "unitcell"
         ],
         "component_index": 0,
         "kwargs": {
          "sele": "all"
         },
         "methodName": "addRepresentation",
         "reconstruc_color_scheme": false,
         "target": "compList",
         "type": "call_method"
        },
        {
         "args": [
          "spacefill"
         ],
         "component_index": 0,
         "kwargs": {
          "sele": "all"
         },
         "methodName": "addRepresentation",
         "reconstruc_color_scheme": false,
         "target": "compList",
         "type": "call_method"
        },
        {
         "args": [],
         "kwargs": {
          "cameraType": "orthographic"
         },
         "methodName": "setParameters",
         "reconstruc_color_scheme": false,
         "target": "Stage",
         "type": "call_method"
        },
        {
         "args": [
          {
           "clipDist": 0
          }
         ],
         "kwargs": {},
         "methodName": "setParameters",
         "reconstruc_color_scheme": false,
         "target": "Widget",
         "type": "call_method"
        },
        {
         "args": [
          "spacefill",
          0
         ],
         "kwargs": {
          "colorScale": "rainbow",
          "colorScheme": "element",
          "radiusScale": 0.5,
          "radiusType": "covalent"
         },
         "methodName": "updateRepresentationsByName",
         "reconstruc_color_scheme": false,
         "target": "Widget",
         "type": "call_method"
        },
        {
         "args": [
          "this._Q = [[-0.0, 0.7071067811865476, 0.7071067811865476], [0.816496580927726, -0.40824829046386285, 0.40824829046386296], [0.5773502691896257, 0.5773502691896258, -0.5773502691896257]]\n    var tooltip = document.createElement('div')\n    Object.assign(tooltip.style, {\n      display: 'none',\n      position: 'fixed',\n      zIndex: 10,\n      pointerEvents: 'none',\n      backgroundColor: 'rgba( 0, 0, 0, 0.6 )',\n      color: 'lightgrey',\n      padding: '8px',\n      fontFamily: 'sans-serif'\n    })\n    document.body.appendChild(tooltip)\n\n    var that = this\n    this.stage.mouseControls.remove('hoverPick')\n    this.stage.signals.hovered.add(function (pickingProxy) {\n      if (pickingProxy && (pickingProxy.atom || pickingProxy.bond)) {\n        var atom = pickingProxy.atom || pickingProxy.closestBondAtom\n        var mp = pickingProxy.mouse.position\n        //tooltip.innerText = atom.element + ' i=' + atom.index + ' (' + atom.x.toFixed(2) +  ', ' + atom.y.toFixed(2) +  ', ' + atom.z.toFixed(2) + ')'\n        //var pos = that._atoms_pos[atom.index]\n        var Q = that._Q\n        var pos_x = Q[0][0] * atom.x + Q[0][1] * atom.y + Q[0][2] * atom.z \n        var pos_y = Q[1][0] * atom.x + Q[1][1] * atom.y + Q[1][2] * atom.z\n        var pos_z = Q[2][0] * atom.x + Q[2][1] * atom.y + Q[2][2] * atom.z\n        tooltip.innerText = 'i=' + atom.index + ' ' + atom.element + ' (' + pos_x.toFixed(2) +  ', ' + pos_y.toFixed(2) +  ', ' + pos_z.toFixed(2) + ')'\n        tooltip.style.bottom = window.innerHeight - mp.y + 3 + 'px'\n        tooltip.style.left = mp.x + 3 + 'px'\n        tooltip.style.display = 'block'\n      } else {\n        tooltip.style.display = 'none'\n      }\n    })\n    "
         ],
         "kwargs": {},
         "methodName": "executeCode",
         "reconstruc_color_scheme": false,
         "target": "Widget",
         "type": "call_method"
        },
        {
         "args": [
          {
           "data": "CRYST1    3.866    3.866    3.866  60.00  60.00  60.00 P 1\nMODEL     1\nATOM      1   Si MOL     1      -0.000   0.000   0.000  1.00  0.00          SI  \nATOM      2   Si MOL     1       1.933   1.116   0.789  1.00  0.00          SI  \nENDMDL\n",
           "ext": "pdb"
          }
         ],
         "kwargs": {},
         "methodName": "replaceStructure",
         "reconstruc_color_scheme": false,
         "target": "Widget",
         "type": "call_method"
        },
        {
         "args": [
          "this._Q = [[-0.0, 0.7071067811865476, 0.7071067811865476], [0.8164965809277261, -0.40824829046386274, 0.408248290463863], [0.5773502691896257, 0.5773502691896258, -0.5773502691896257]]"
         ],
         "kwargs": {},
         "methodName": "executeCode",
         "reconstruc_color_scheme": false,
         "target": "Widget",
         "type": "call_method"
        },
        {
         "args": [
          {
           "data": "CRYST1    3.840    3.840    3.840  60.00  60.00  60.00 P 1\nMODEL     1\nATOM      1   Si MOL     1       0.000   0.000   0.000  1.00  0.00          SI  \nATOM      2   Si MOL     1       1.920   1.108   0.784  1.00  0.00          SI  \nENDMDL\n",
           "ext": "pdb"
          }
         ],
         "kwargs": {},
         "methodName": "replaceStructure",
         "reconstruc_color_scheme": false,
         "target": "Widget",
         "type": "call_method"
        },
        {
         "args": [
          "this._Q = [[-0.0, 0.7071067811865476, 0.7071067811865476], [0.816496580927726, -0.40824829046386285, 0.40824829046386296], [0.5773502691896257, 0.5773502691896258, -0.5773502691896257]]"
         ],
         "kwargs": {},
         "methodName": "executeCode",
         "reconstruc_color_scheme": false,
         "target": "Widget",
         "type": "call_method"
        },
        {
         "args": [
          {
           "data": "CRYST1    3.866    3.866    3.866  60.00  60.00  60.00 P 1\nMODEL     1\nATOM      1   Si MOL     1      -0.000   0.000   0.000  1.00  0.00          SI  \nATOM      2   Si MOL     1       1.933   1.116   0.789  1.00  0.00          SI  \nENDMDL\n",
           "ext": "pdb"
          }
         ],
         "kwargs": {},
         "methodName": "replaceStructure",
         "reconstruc_color_scheme": false,
         "target": "Widget",
         "type": "call_method"
        },
        {
         "args": [
          "this._Q = [[-0.0, 0.7071067811865476, 0.7071067811865476], [0.8164965809277261, -0.40824829046386274, 0.408248290463863], [0.5773502691896257, 0.5773502691896258, -0.5773502691896257]]"
         ],
         "kwargs": {},
         "methodName": "executeCode",
         "reconstruc_color_scheme": false,
         "target": "Widget",
         "type": "call_method"
        }
       ],
       "_ngl_original_stage_parameters": {
        "ambientColor": 14540253,
        "ambientIntensity": 0.2,
        "backgroundColor": "white",
        "cameraEyeSep": 0.3,
        "cameraFov": 40,
        "cameraType": "perspective",
        "clipDist": 10,
        "clipFar": 100,
        "clipNear": 0,
        "fogFar": 100,
        "fogNear": 50,
        "hoverTimeout": 0,
        "impostor": true,
        "lightColor": 14540253,
        "lightIntensity": 1,
        "mousePreset": "default",
        "panSpeed": 1,
        "quality": "medium",
        "rotateSpeed": 2,
        "sampleLevel": 0,
        "tooltip": true,
        "workerDefault": true,
        "zoomSpeed": 1.2
       },
       "_ngl_repr_dict": {
        "0": {
         "0": {
          "params": {
           "clipCenter": {
            "x": 0,
            "y": 0,
            "z": 0
           },
           "clipNear": 0,
           "clipRadius": 0,
           "colorMode": "hcl",
           "colorReverse": false,
           "colorScale": "",
           "colorScheme": "element",
           "colorValue": "orange",
           "defaultAssembly": "",
           "depthWrite": true,
           "diffuse": 16777215,
           "diffuseInterior": false,
           "disableImpostor": false,
           "disablePicking": false,
           "flatShaded": false,
           "interiorColor": 2236962,
           "interiorDarkening": 0,
           "lazy": false,
           "matrix": {
            "elements": [
             1,
             0,
             0,
             0,
             0,
             1,
             0,
             0,
             0,
             0,
             1,
             0,
             0,
             0,
             0,
             1
            ]
           },
           "metalness": 0,
           "opacity": 1,
           "quality": "medium",
           "radialSegments": 10,
           "radiusData": {},
           "radiusScale": 1,
           "radiusSize": 0.01710379193803476,
           "radiusType": "vdw",
           "roughness": 0.4,
           "sele": "all",
           "side": "double",
           "sphereDetail": 1,
           "useInteriorColor": true,
           "visible": true,
           "wireframe": false
          },
          "type": "unitcell"
         },
         "1": {
          "params": {
           "assembly": "default",
           "clipCenter": {
            "x": 0,
            "y": 0,
            "z": 0
           },
           "clipNear": 0,
           "clipRadius": 0,
           "colorMode": "hcl",
           "colorReverse": false,
           "colorScale": "rainbow",
           "colorScheme": "element",
           "colorValue": 9474192,
           "defaultAssembly": "",
           "depthWrite": true,
           "diffuse": 16777215,
           "diffuseInterior": false,
           "disableImpostor": false,
           "disablePicking": false,
           "flatShaded": false,
           "interiorColor": 2236962,
           "interiorDarkening": 0,
           "lazy": false,
           "matrix": {
            "elements": [
             1,
             0,
             0,
             0,
             0,
             1,
             0,
             0,
             0,
             0,
             1,
             0,
             0,
             0,
             0,
             1
            ]
           },
           "metalness": 0,
           "opacity": 1,
           "quality": "medium",
           "radiusData": {},
           "radiusScale": 0.5,
           "radiusSize": 1,
           "radiusType": "covalent",
           "roughness": 0.4,
           "sele": "all",
           "side": "double",
           "sphereDetail": 1,
           "useInteriorColor": true,
           "visible": true,
           "wireframe": false
          },
          "type": "spacefill"
         }
        }
       },
       "_ngl_serialize": false,
       "_ngl_version": "2.0.0-dev.36",
       "_ngl_view_id": [
        "524150C3-8083-44D0-A32B-3657B372D62B"
       ],
       "_player_dict": {},
       "_scene_position": {},
       "_scene_rotation": {},
       "_synced_model_ids": [],
       "_synced_repr_model_ids": [],
       "_view_height": "",
       "_view_width": "",
       "background": "white",
       "frame": 1,
       "gui_style": null,
       "layout": "IPY_MODEL_57b7d8867a16416282d7f87e5b4ecd2f",
       "max_frame": 1,
       "n_components": 1,
       "picked": {}
      }
     },
     "43cbd82ba0954838957ce6ba3f499a83": {
      "model_module": "@jupyter-widgets/base",
      "model_module_version": "1.2.0",
      "model_name": "LayoutModel",
      "state": {}
     },
     "4419949157e04418996e5bed44cbae69": {
      "model_module": "@jupyter-widgets/controls",
      "model_module_version": "1.5.0",
      "model_name": "ButtonStyleModel",
      "state": {}
     },
     "4659f58a58b9477d800874f52eea18c4": {
      "model_module": "@jupyter-widgets/controls",
      "model_module_version": "1.5.0",
      "model_name": "HBoxModel",
      "state": {
       "children": [
        "IPY_MODEL_ddeab72b841d42598785aab45aa12c65",
        "IPY_MODEL_ffa6ab1e573844609dffb12e118799d9"
       ],
       "layout": "IPY_MODEL_1cc43a58474e45098cf1d2d7272c6283"
      }
     },
     "465a2e545e234711b86f4a8835cdc7a9": {
      "model_module": "@jupyter-widgets/controls",
      "model_module_version": "1.5.0",
      "model_name": "FloatSliderModel",
      "state": {
       "description": "Charge scale",
       "layout": "IPY_MODEL_14492b7381ef4ddeb6d9dbbd9c7f55f7",
       "step": 0.1,
       "style": "IPY_MODEL_a5d437a7b22549e18c8521bf413cfe07",
       "value": 1
      }
     },
     "46ef533c935649fc927f0bfb907bcce0": {
      "model_module": "@jupyter-widgets/base",
      "model_module_version": "1.2.0",
      "model_name": "LayoutModel",
      "state": {}
     },
     "47110491060049a9bc4cb0b5b80e0183": {
      "model_module": "@jupyter-widgets/controls",
      "model_module_version": "1.5.0",
      "model_name": "HBoxModel",
      "state": {
       "children": [
        "IPY_MODEL_8625bed0875e4d56a119e976f57c2bce",
        "IPY_MODEL_4d8b461eb31948adb1581f54c4563c95"
       ],
       "layout": "IPY_MODEL_5e38fd0d33884a72ac6a749d97cb9fde"
      }
     },
     "4731be9343434a2c922338958e4a2574": {
      "model_module": "@jupyter-widgets/controls",
      "model_module_version": "1.5.0",
      "model_name": "FloatSliderModel",
      "state": {
       "description": "Ball size",
       "layout": "IPY_MODEL_8309cb2dd00d4ca295a5b7249c8b391f",
       "max": 1.5,
       "step": 0.01,
       "style": "IPY_MODEL_609981590be64011b6f7cccdad80cae3",
       "value": 0.5
      }
     },
     "4831b64504d0463da97503e4421e2e5a": {
      "model_module": "@jupyter-widgets/controls",
      "model_module_version": "1.5.0",
      "model_name": "ButtonStyleModel",
      "state": {}
     },
     "48d293e01da347c08f977fdc5a0d324e": {
      "model_module": "@jupyter-widgets/controls",
      "model_module_version": "1.5.0",
      "model_name": "FloatSliderModel",
      "state": {
       "description": "Charge scale",
       "layout": "IPY_MODEL_fbb7a73f446c4ca98a9beb8a740e646d",
       "step": 0.1,
       "style": "IPY_MODEL_cd5de0f400484fd29a8c050ebd45cdea",
       "value": 1
      }
     },
     "491ef30db05d450b9ac489f1eda23da8": {
      "model_module": "@jupyter-widgets/controls",
      "model_module_version": "1.5.0",
      "model_name": "ButtonStyleModel",
      "state": {}
     },
     "4a94b8d7e88d4d7db54494789b7ec692": {
      "model_module": "@jupyter-widgets/base",
      "model_module_version": "1.2.0",
      "model_name": "LayoutModel",
      "state": {}
     },
     "4b37e679fe854f548bcd031951a8735a": {
      "model_module": "@jupyter-widgets/controls",
      "model_module_version": "1.5.0",
      "model_name": "ButtonStyleModel",
      "state": {}
     },
     "4d8b461eb31948adb1581f54c4563c95": {
      "model_module": "@jupyter-widgets/controls",
      "model_module_version": "1.5.0",
      "model_name": "ButtonModel",
      "state": {
       "description": "Save image",
       "layout": "IPY_MODEL_b4e5d295abd448118921e755740ca450",
       "style": "IPY_MODEL_6c2794c7756e4154a28db0e2f15f3ec1",
       "tooltip": "Save current frame to file.\nCurrently .png and .html are supported.\nIt takes a bit time, please be patient."
      }
     },
     "4e74e5129dbe494a8a99bee55f8c4b9d": {
      "model_module": "@jupyter-widgets/output",
      "model_module_version": "1.0.0",
      "model_name": "OutputModel",
      "state": {
       "layout": "IPY_MODEL_b4c76db32e1f442da8099dc59486741d"
      }
     },
     "50e8965e460c4f098cddf230049936c2": {
      "model_module": "@jupyter-widgets/controls",
      "model_module_version": "1.5.0",
      "model_name": "DescriptionStyleModel",
      "state": {
       "description_width": ""
      }
     },
     "51830957ac844db8a45329099b51c31c": {
      "model_module": "@jupyter-widgets/controls",
      "model_module_version": "1.5.0",
      "model_name": "ImageModel",
      "state": {
       "layout": "IPY_MODEL_079c5bcd82b84f6b9d2d88091dc0ce96",
       "width": "900.0"
      }
     },
     "5210ddc47e9248fd8a9ddc03749e0b82": {
      "model_module": "@jupyter-widgets/base",
      "model_module_version": "1.2.0",
      "model_name": "LayoutModel",
      "state": {}
     },
     "52138370e9ee47b799d39babd3f11b89": {
      "model_module": "@jupyter-widgets/controls",
      "model_module_version": "1.5.0",
      "model_name": "DescriptionStyleModel",
      "state": {
       "description_width": ""
      }
     },
     "534d8e8bc7eb488f888b57d291614a6f": {
      "model_module": "@jupyter-widgets/base",
      "model_module_version": "1.2.0",
      "model_name": "LayoutModel",
      "state": {}
     },
     "548510f7d8644b9085224e1e409021b2": {
      "model_module": "@jupyter-widgets/base",
      "model_module_version": "1.2.0",
      "model_name": "LayoutModel",
      "state": {}
     },
     "548723512f6144cfb4ccfef07b1dab94": {
      "model_module": "@jupyter-widgets/controls",
      "model_module_version": "1.5.0",
      "model_name": "DescriptionStyleModel",
      "state": {
       "description_width": ""
      }
     },
     "5487aca5609440eb81b2dd4b840b60b1": {
      "model_module": "@jupyter-widgets/controls",
      "model_module_version": "1.5.0",
      "model_name": "LinkModel",
      "state": {
       "source": [
        "IPY_MODEL_b4d28bf15caa46419dcd56907f9f82a8",
        "max"
       ],
       "target": [
        "IPY_MODEL_d67547d0f6ee4959a0a446a7c2785674",
        "max_frame"
       ]
      }
     },
     "54efb35747ae4082985a2f149cf203ff": {
      "model_module": "@jupyter-widgets/controls",
      "model_module_version": "1.5.0",
      "model_name": "LinkModel",
      "state": {
       "source": [
        "IPY_MODEL_efe36c13564c44dabcd156c2f55ac111",
        "value"
       ],
       "target": [
        "IPY_MODEL_170d810be87f4e7f9c14b18b8c56f6f3",
        "value"
       ]
      }
     },
     "5589dded4a874c6a82df65d8e0e4b7ac": {
      "model_module": "@jupyter-widgets/controls",
      "model_module_version": "1.5.0",
      "model_name": "IntSliderModel",
      "state": {
       "layout": "IPY_MODEL_2568de6b2f154636940d9bf845b9d9b3",
       "max": 1,
       "style": "IPY_MODEL_894f65c445f44b66acb1fe24de652a86"
      }
     },
     "5661c3e0a0c642f4a767aedc64e0ee3b": {
      "model_module": "@jupyter-widgets/base",
      "model_module_version": "1.2.0",
      "model_name": "LayoutModel",
      "state": {
       "width": "34px"
      }
     },
     "573081db6a524e3b8aa931030ea78fbe": {
      "model_module": "@jupyter-widgets/base",
      "model_module_version": "1.2.0",
      "model_name": "LayoutModel",
      "state": {}
     },
     "57b7d8867a16416282d7f87e5b4ecd2f": {
      "model_module": "@jupyter-widgets/base",
      "model_module_version": "1.2.0",
      "model_name": "LayoutModel",
      "state": {}
     },
     "583a6d6d977548e28f81f032994e3179": {
      "model_module": "@jupyter-widgets/controls",
      "model_module_version": "1.5.0",
      "model_name": "HBoxModel",
      "state": {
       "children": [
        "IPY_MODEL_2d7fe966e03b4c06b999bd70f9c6314b",
        "IPY_MODEL_905346e30ad0470fa1463ef100dcdcdd"
       ],
       "layout": "IPY_MODEL_60bca2ba4f294da6a3402775c5d653a3"
      }
     },
     "5906e20e8f3f44d5829c35780f8a8d8d": {
      "model_module": "@jupyter-widgets/controls",
      "model_module_version": "1.5.0",
      "model_name": "ButtonModel",
      "state": {
       "description": "Download image",
       "layout": "IPY_MODEL_29b8e07644a94a70b8047179b63df484",
       "style": "IPY_MODEL_491ef30db05d450b9ac489f1eda23da8",
       "tooltip": "Download current frame to your local PC"
      }
     },
     "59241132a8e1409e8eea7ee86a65833f": {
      "model_module": "@jupyter-widgets/controls",
      "model_module_version": "1.5.0",
      "model_name": "CheckboxModel",
      "state": {
       "description": "Show charge",
       "disabled": false,
       "layout": "IPY_MODEL_14f9115ca7144d2380f3c5b820d598c9",
       "style": "IPY_MODEL_64ff04f9714c438594f7a28b4e3375e8",
       "value": false
      }
     },
     "5972e9134bda4ed0b62d98f8003f7a45": {
      "model_module": "@jupyter-widgets/base",
      "model_module_version": "1.2.0",
      "model_name": "LayoutModel",
      "state": {}
     },
     "5a38f0109e214728a62669fd493cb868": {
      "model_module": "@jupyter-widgets/base",
      "model_module_version": "1.2.0",
      "model_name": "LayoutModel",
      "state": {}
     },
     "5a8b93caba96434f90b9116d44d56dce": {
      "model_module": "@jupyter-widgets/controls",
      "model_module_version": "1.5.0",
      "model_name": "ImageModel",
      "state": {
       "layout": "IPY_MODEL_46ef533c935649fc927f0bfb907bcce0",
       "width": "900.0"
      }
     },
     "5aaea5e13ade42dc9ead4d8346c1c33b": {
      "model_module": "@jupyter-widgets/base",
      "model_module_version": "1.2.0",
      "model_name": "LayoutModel",
      "state": {}
     },
     "5ae5e7a3c24e4ec7a06963c2aefa450c": {
      "model_module": "@jupyter-widgets/controls",
      "model_module_version": "1.5.0",
      "model_name": "HBoxModel",
      "state": {
       "children": [
        "IPY_MODEL_d63b12be2e464516956c85d01132c82d",
        "IPY_MODEL_a7081883b0ea499ab39a9a4a812a9201"
       ],
       "layout": "IPY_MODEL_c294d38e766244fd927e328cd0e4abbb"
      }
     },
     "5bae8aadb8f74673b873289d72a366e2": {
      "model_module": "@jupyter-widgets/controls",
      "model_module_version": "1.5.0",
      "model_name": "FloatSliderModel",
      "state": {
       "description": "Ball size",
       "layout": "IPY_MODEL_cf7adaba84924491a21d29fe4551e086",
       "max": 1.5,
       "step": 0.01,
       "style": "IPY_MODEL_c1d366da44d6485bbf0fc9cc49a6f65e",
       "value": 0.5
      }
     },
     "5c8c940833f149319416800179839cda": {
      "model_module": "@jupyter-widgets/controls",
      "model_module_version": "1.5.0",
      "model_name": "SliderStyleModel",
      "state": {
       "description_width": ""
      }
     },
     "5d68c57537ce4fce82fd57eb18e028f3": {
      "model_module": "@jupyter-widgets/base",
      "model_module_version": "1.2.0",
      "model_name": "LayoutModel",
      "state": {}
     },
     "5e38fd0d33884a72ac6a749d97cb9fde": {
      "model_module": "@jupyter-widgets/base",
      "model_module_version": "1.2.0",
      "model_name": "LayoutModel",
      "state": {}
     },
     "5eb41bf3a5304188b2ed66f9b5a4a6e4": {
      "model_module": "@jupyter-widgets/base",
      "model_module_version": "1.2.0",
      "model_name": "LayoutModel",
      "state": {}
     },
     "5f3f280d4317430e8d2f92138d81d6fa": {
      "model_module": "@jupyter-widgets/controls",
      "model_module_version": "1.5.0",
      "model_name": "HBoxModel",
      "state": {
       "children": [
        "IPY_MODEL_433ad1b3d3c64513acce98ef9618ee31",
        "IPY_MODEL_82bfadc47aa9489d9b1039212ec3039c"
       ],
       "layout": "IPY_MODEL_ea16b34245c942d9a57f356b65d875d3"
      }
     },
     "5f590d5dadf14eccacdd47f6c00e80b9": {
      "model_module": "@jupyter-widgets/base",
      "model_module_version": "1.2.0",
      "model_name": "LayoutModel",
      "state": {}
     },
     "609981590be64011b6f7cccdad80cae3": {
      "model_module": "@jupyter-widgets/controls",
      "model_module_version": "1.5.0",
      "model_name": "SliderStyleModel",
      "state": {
       "description_width": ""
      }
     },
     "60bca2ba4f294da6a3402775c5d653a3": {
      "model_module": "@jupyter-widgets/base",
      "model_module_version": "1.2.0",
      "model_name": "LayoutModel",
      "state": {}
     },
     "60dcde9537ba44bd876798cfd1686852": {
      "model_module": "@jupyter-widgets/controls",
      "model_module_version": "1.5.0",
      "model_name": "ButtonModel",
      "state": {
       "icon": "compress",
       "layout": "IPY_MODEL_c40896e25e4b4265a3fa7dec4985e9dc",
       "style": "IPY_MODEL_33563c2d798347ee9975871b9e5d786a"
      }
     },
     "6115fac28f094d0caa1e8aa17073060b": {
      "model_module": "@jupyter-widgets/output",
      "model_module_version": "1.0.0",
      "model_name": "OutputModel",
      "state": {
       "layout": "IPY_MODEL_13afe2013028410092cc34585965b648"
      }
     },
     "617ba89c8ad2437fab4f5fee825e5c11": {
      "model_module": "@jupyter-widgets/controls",
      "model_module_version": "1.5.0",
      "model_name": "ButtonModel",
      "state": {
       "description": "Save image",
       "layout": "IPY_MODEL_68d4efe63c1d42ff981c2bba40143e94",
       "style": "IPY_MODEL_8941b3c3e95a4fb184729a0bcee38e5a",
       "tooltip": "Save current frame to file.\nCurrently .png and .html are supported.\nIt takes a bit time, please be patient."
      }
     },
     "631ed3f9f52c4ac690e9eced5018859b": {
      "model_module": "@jupyter-widgets/base",
      "model_module_version": "1.2.0",
      "model_name": "LayoutModel",
      "state": {}
     },
     "6327f294219043c5bddbb83839c3eaf9": {
      "model_module": "@jupyter-widgets/controls",
      "model_module_version": "1.5.0",
      "model_name": "DescriptionStyleModel",
      "state": {
       "description_width": ""
      }
     },
     "636292c1f15d4e51ab54e69e19f492b3": {
      "model_module": "@jupyter-widgets/controls",
      "model_module_version": "1.5.0",
      "model_name": "HBoxModel",
      "state": {
       "children": [
        "IPY_MODEL_cc0242dacc804f61bc456b77e93e6a3e",
        "IPY_MODEL_b1037fd5c345450bab0ae4c4f9278d57"
       ],
       "layout": "IPY_MODEL_b96c697fcc364ceb8bbf183a442d9e0c"
      }
     },
     "642b2e5690654544b4ff18879d8d6df3": {
      "model_module": "@jupyter-widgets/base",
      "model_module_version": "1.2.0",
      "model_name": "LayoutModel",
      "state": {
       "border": "0px solid black"
      }
     },
     "6492d219675440c8a9063cd1fe1c884d": {
      "model_module": "@jupyter-widgets/controls",
      "model_module_version": "1.5.0",
      "model_name": "HBoxModel",
      "state": {
       "children": [
        "IPY_MODEL_5906e20e8f3f44d5829c35780f8a8d8d",
        "IPY_MODEL_0ce938cdf7be4cdba337bba530cfc69f"
       ],
       "layout": "IPY_MODEL_e93d82c9c1104ae6989de1d3e57308ab"
      }
     },
     "64ff04f9714c438594f7a28b4e3375e8": {
      "model_module": "@jupyter-widgets/controls",
      "model_module_version": "1.5.0",
      "model_name": "DescriptionStyleModel",
      "state": {
       "description_width": ""
      }
     },
     "6555c537bc4448cca9820cbd7bd5bb8e": {
      "model_module": "@jupyter-widgets/controls",
      "model_module_version": "1.5.0",
      "model_name": "ButtonModel",
      "state": {
       "icon": "compress",
       "layout": "IPY_MODEL_e4ce3fac93a14a9db5ab0b2fb45b768d",
       "style": "IPY_MODEL_fe307212510d4683a01d1e28c55735ba"
      }
     },
     "671ab032c4324f8a9bb47f4f16de07a2": {
      "model_module": "@jupyter-widgets/controls",
      "model_module_version": "1.5.0",
      "model_name": "CheckboxModel",
      "state": {
       "description": "Show force",
       "disabled": false,
       "layout": "IPY_MODEL_728e0e7fa0be424a970c4bfa1182226f",
       "style": "IPY_MODEL_416fa6e2d6b84b71a2e7599098ff241b",
       "value": false
      }
     },
     "67c11a5e1e7c4cff82427dd117229d5c": {
      "model_module": "@jupyter-widgets/controls",
      "model_module_version": "1.5.0",
      "model_name": "DescriptionStyleModel",
      "state": {
       "description_width": ""
      }
     },
     "67e130d8c7fc4ea28fdc5a2380ee4a32": {
      "model_module": "@jupyter-widgets/base",
      "model_module_version": "1.2.0",
      "model_name": "LayoutModel",
      "state": {}
     },
     "68c3b6776e1e4842b8726c7a9933d8a2": {
      "model_module": "@jupyter-widgets/controls",
      "model_module_version": "1.5.0",
      "model_name": "VBoxModel",
      "state": {
       "children": [
        "IPY_MODEL_02e9768299b647f48163f46a10ad1a44",
        "IPY_MODEL_846f60041b90485e9477f0b63878ed31",
        "IPY_MODEL_9580e7b11ee14461b1c98a76f3583c58",
        "IPY_MODEL_893344c078ab47438308576b53af47bc",
        "IPY_MODEL_9a9926ee55af495c88f9c9dbefea0079",
        "IPY_MODEL_c593f46b3b6f4559bcceec5b20faaa2c",
        "IPY_MODEL_307b63a745d24f67b62fdad31af37fd8",
        "IPY_MODEL_39826674efc94eda9f340c002d4e0724",
        "IPY_MODEL_2c2d3f0a77b642fdbbd7f081a546a373",
        "IPY_MODEL_4e74e5129dbe494a8a99bee55f8c4b9d"
       ],
       "layout": "IPY_MODEL_beb24acd2ee342bdb6b04bcc8e470665"
      }
     },
     "68d4efe63c1d42ff981c2bba40143e94": {
      "model_module": "@jupyter-widgets/base",
      "model_module_version": "1.2.0",
      "model_name": "LayoutModel",
      "state": {}
     },
     "68f3169f7da649a08b4aa8bb939aa42e": {
      "model_module": "@jupyter-widgets/controls",
      "model_module_version": "1.5.0",
      "model_name": "ImageModel",
      "state": {
       "layout": "IPY_MODEL_ec1a5e1c36404d98adcd9cd856fa68b2",
       "width": "900.0"
      }
     },
     "6999d51f8e3749428bcb74292f273802": {
      "model_module": "@jupyter-widgets/base",
      "model_module_version": "1.2.0",
      "model_name": "LayoutModel",
      "state": {}
     },
     "6a404ec28ea7420d9bd3c3cf1df6dfba": {
      "model_module": "@jupyter-widgets/controls",
      "model_module_version": "1.5.0",
      "model_name": "FloatSliderModel",
      "state": {
       "description": "Ball size",
       "layout": "IPY_MODEL_ee29e2dc9f6b495e9ee9210cd0ef0def",
       "max": 1.5,
       "step": 0.01,
       "style": "IPY_MODEL_dda61d69aa704133af76004fc89f6aac",
       "value": 0.5
      }
     },
     "6a79bbc7b17a45db810736755bba9a96": {
      "model_module": "@jupyter-widgets/controls",
      "model_module_version": "1.5.0",
      "model_name": "SliderStyleModel",
      "state": {
       "description_width": ""
      }
     },
     "6a8fb87179a44780b6a11bcdc882b3a0": {
      "model_module": "@jupyter-widgets/controls",
      "model_module_version": "1.5.0",
      "model_name": "IntSliderModel",
      "state": {
       "layout": "IPY_MODEL_67e130d8c7fc4ea28fdc5a2380ee4a32",
       "max": 3,
       "style": "IPY_MODEL_1944a8879e34477594317a5e9e2096ff"
      }
     },
     "6ae5c720ebcf43a3a2c647437f551183": {
      "model_module": "@jupyter-widgets/base",
      "model_module_version": "1.2.0",
      "model_name": "LayoutModel",
      "state": {}
     },
     "6ae5fb43886849a6b7e059a604e938c8": {
      "model_module": "@jupyter-widgets/controls",
      "model_module_version": "1.5.0",
      "model_name": "DescriptionStyleModel",
      "state": {
       "description_width": ""
      }
     },
     "6b49542acc8149d8bd2e08c0054ba01e": {
      "model_module": "@jupyter-widgets/controls",
      "model_module_version": "1.5.0",
      "model_name": "DescriptionStyleModel",
      "state": {
       "description_width": ""
      }
     },
     "6b9c8389391e4796bef75e35eeddbb1f": {
      "model_module": "@jupyter-widgets/controls",
      "model_module_version": "1.5.0",
      "model_name": "FloatSliderModel",
      "state": {
       "description": "Force scale",
       "layout": "IPY_MODEL_7a096fde8bb549c4a672e621fb89af78",
       "step": 0.1,
       "style": "IPY_MODEL_cb1e8687d5e64abeb0d15c5b7e127ad9",
       "value": 0.5
      }
     },
     "6c2794c7756e4154a28db0e2f15f3ec1": {
      "model_module": "@jupyter-widgets/controls",
      "model_module_version": "1.5.0",
      "model_name": "ButtonStyleModel",
      "state": {}
     },
     "6d97b77b79e841668f204198157a9849": {
      "model_module": "@jupyter-widgets/base",
      "model_module_version": "1.2.0",
      "model_name": "LayoutModel",
      "state": {}
     },
     "6e08dfa7b81f4f1a829f7c6af5807f32": {
      "model_module": "@jupyter-widgets/controls",
      "model_module_version": "1.5.0",
      "model_name": "ButtonStyleModel",
      "state": {}
     },
     "6e3aea11be1d466c81884ac3c9a2e2cf": {
      "model_module": "@jupyter-widgets/controls",
      "model_module_version": "1.5.0",
      "model_name": "DescriptionStyleModel",
      "state": {
       "description_width": ""
      }
     },
     "6f79f0c5ab114bd2bd7a75fe5b8e9791": {
      "model_module": "@jupyter-widgets/controls",
      "model_module_version": "1.5.0",
      "model_name": "DescriptionStyleModel",
      "state": {
       "description_width": ""
      }
     },
     "6f8b3d7e222140f1a42e6bf626b635f2": {
      "model_module": "@jupyter-widgets/controls",
      "model_module_version": "1.5.0",
      "model_name": "SliderStyleModel",
      "state": {
       "description_width": ""
      }
     },
     "6f900d115f7e42c197271e4a03aca761": {
      "model_module": "@jupyter-widgets/controls",
      "model_module_version": "1.5.0",
      "model_name": "DescriptionStyleModel",
      "state": {
       "description_width": ""
      }
     },
     "703f35abc71d4895988fb2f73a77e857": {
      "model_module": "@jupyter-widgets/controls",
      "model_module_version": "1.5.0",
      "model_name": "SliderStyleModel",
      "state": {
       "description_width": ""
      }
     },
     "7085fca45f324f69845dfb274cd249fe": {
      "model_module": "@jupyter-widgets/controls",
      "model_module_version": "1.5.0",
      "model_name": "DescriptionStyleModel",
      "state": {
       "description_width": ""
      }
     },
     "710540c5302c4529a7c7d5e30b1a3a0e": {
      "model_module": "@jupyter-widgets/controls",
      "model_module_version": "1.5.0",
      "model_name": "DropdownModel",
      "state": {
       "_options_labels": [
        "All",
        "O",
        "Si"
       ],
       "description": "Show",
       "index": 0,
       "layout": "IPY_MODEL_2655c0f8dbb84dcab7f74b320fc13873",
       "style": "IPY_MODEL_a1420540a04145f497675bd328506764"
      }
     },
     "71b9ed3baf684cf5ae0c1eeeba85182f": {
      "model_module": "@jupyter-widgets/base",
      "model_module_version": "1.2.0",
      "model_name": "LayoutModel",
      "state": {
       "width": "34px"
      }
     },
     "728e0e7fa0be424a970c4bfa1182226f": {
      "model_module": "@jupyter-widgets/base",
      "model_module_version": "1.2.0",
      "model_name": "LayoutModel",
      "state": {}
     },
     "72b277a5a13c43948d60c57870db1b80": {
      "model_module": "@jupyter-widgets/controls",
      "model_module_version": "1.5.0",
      "model_name": "SliderStyleModel",
      "state": {
       "description_width": ""
      }
     },
     "7338ae1e1b904551b4b5cc5b61fac64f": {
      "model_module": "@jupyter-widgets/controls",
      "model_module_version": "1.5.0",
      "model_name": "LinkModel",
      "state": {
       "source": [
        "IPY_MODEL_b1037fd5c345450bab0ae4c4f9278d57",
        "max"
       ],
       "target": [
        "IPY_MODEL_f4c636fdd352491498d284203d16dd54",
        "max_frame"
       ]
      }
     },
     "7340782f69094d12bc59cd736675b7a7": {
      "model_module": "@jupyter-widgets/controls",
      "model_module_version": "1.5.0",
      "model_name": "FloatSliderModel",
      "state": {
       "description": "Force scale",
       "layout": "IPY_MODEL_ccab55adf42640eb97e1250281470e54",
       "step": 0.1,
       "style": "IPY_MODEL_3f03ac22d7f84afd8f87fffe2c1d1190",
       "value": 0.5
      }
     },
     "739e9b41f977491f98235102732454f2": {
      "model_module": "@jupyter-widgets/base",
      "model_module_version": "1.2.0",
      "model_name": "LayoutModel",
      "state": {}
     },
     "73ef29870a78419696516b73075134a4": {
      "model_module": "@jupyter-widgets/controls",
      "model_module_version": "1.5.0",
      "model_name": "ButtonStyleModel",
      "state": {}
     },
     "73fbc1983b0342578f4aa5321532e481": {
      "model_module": "@jupyter-widgets/controls",
      "model_module_version": "1.5.0",
      "model_name": "ButtonStyleModel",
      "state": {}
     },
     "7464adb67f8c47369ca8d5492bd2a638": {
      "model_module": "@jupyter-widgets/controls",
      "model_module_version": "1.5.0",
      "model_name": "PlayModel",
      "state": {
       "layout": "IPY_MODEL_b1ce69da7d524483bd86c65d8601488c",
       "max": 1,
       "style": "IPY_MODEL_bfe83f3cf70d456db4abcf579ebf61eb"
      }
     },
     "74b2bd84c1424dacb77f6d72b46b1d22": {
      "model_module": "@jupyter-widgets/controls",
      "model_module_version": "1.5.0",
      "model_name": "DescriptionStyleModel",
      "state": {
       "description_width": ""
      }
     },
     "74c54b05fa2a418d92edf11e231311c6": {
      "model_module": "@jupyter-widgets/controls",
      "model_module_version": "1.5.0",
      "model_name": "TextModel",
      "state": {
       "description": "Filename: ",
       "layout": "IPY_MODEL_85258d4afe44471baced52cf2dc61175",
       "style": "IPY_MODEL_6f900d115f7e42c197271e4a03aca761",
       "value": "screenshot.png"
      }
     },
     "75fa5ab893ab4a5db39e7e035d045f18": {
      "model_module": "@jupyter-widgets/controls",
      "model_module_version": "1.5.0",
      "model_name": "VBoxModel",
      "state": {
       "children": [
        "IPY_MODEL_31080081f2eb4843a06550c3fb379248",
        "IPY_MODEL_23ec37efeb694790883f04312e267efb",
        "IPY_MODEL_ca5c3822dd2b494ca79ad0e18078eafa",
        "IPY_MODEL_d4d0f7d4dc3341dda48f14467a776c53",
        "IPY_MODEL_a35ed3a2aa9d473294bf9a0200c1f1fd",
        "IPY_MODEL_87ca6b7e85f948699ec385b3415e2e14",
        "IPY_MODEL_0be1419911b04764b113a309172f098d",
        "IPY_MODEL_e0c1907a7b034f629e60df62fcfec3d4",
        "IPY_MODEL_7f3ef4107c804b249ca1866bab61a88b",
        "IPY_MODEL_48d293e01da347c08f977fdc5a0d324e",
        "IPY_MODEL_87649c0b08d64375a2c82407c261ae0d"
       ],
       "layout": "IPY_MODEL_cb1a801f6f044399b8e6d26e331bda8d"
      }
     },
     "76c598cd7c98459a95c83c6eb23e37cb": {
      "model_module": "@jupyter-widgets/controls",
      "model_module_version": "1.5.0",
      "model_name": "LinkModel",
      "state": {
       "source": [
        "IPY_MODEL_b1268382839d43edb1560c596ad2ce8f",
        "value"
       ],
       "target": [
        "IPY_MODEL_c983a77fe51b4e788e9ac25063210baa",
        "frame"
       ]
      }
     },
     "771e6b0fd300468096db3f90142b820c": {
      "model_module": "@jupyter-widgets/base",
      "model_module_version": "1.2.0",
      "model_name": "LayoutModel",
      "state": {}
     },
     "77478254522948a0b4c68d7b1569e5ba": {
      "model_module": "@jupyter-widgets/controls",
      "model_module_version": "1.5.0",
      "model_name": "SliderStyleModel",
      "state": {
       "description_width": ""
      }
     },
     "77e14175c6794b98a805275e726f4bd5": {
      "model_module": "@jupyter-widgets/controls",
      "model_module_version": "1.5.0",
      "model_name": "CheckboxModel",
      "state": {
       "description": "Show force",
       "disabled": false,
       "layout": "IPY_MODEL_38d0cc20ea4c4469a4605f886940db6c",
       "style": "IPY_MODEL_87fa9071b75b4f1b88a55644a3de7a35",
       "value": false
      }
     },
     "785ed4b78a9a4330a8056e4c4e8a0dc9": {
      "model_module": "@jupyter-widgets/controls",
      "model_module_version": "1.5.0",
      "model_name": "DescriptionStyleModel",
      "state": {
       "description_width": ""
      }
     },
     "7917cff40d894a99a86dbb8ab67e81fc": {
      "model_module": "@jupyter-widgets/base",
      "model_module_version": "1.2.0",
      "model_name": "LayoutModel",
      "state": {
       "border": "0px solid black"
      }
     },
     "795d4c3dacf34fd3912531e17720b451": {
      "model_module": "@jupyter-widgets/base",
      "model_module_version": "1.2.0",
      "model_name": "LayoutModel",
      "state": {
       "border": "0px solid black"
      }
     },
     "79622c71106e4c76bf3ebe1fac56846a": {
      "model_module": "@jupyter-widgets/base",
      "model_module_version": "1.2.0",
      "model_name": "LayoutModel",
      "state": {}
     },
     "7a096fde8bb549c4a672e621fb89af78": {
      "model_module": "@jupyter-widgets/base",
      "model_module_version": "1.2.0",
      "model_name": "LayoutModel",
      "state": {}
     },
     "7baac3ba8d3042d39800f8c617f2ad6c": {
      "model_module": "@jupyter-widgets/base",
      "model_module_version": "1.2.0",
      "model_name": "LayoutModel",
      "state": {}
     },
     "7cec00697b15450c80376edf30749694": {
      "model_module": "@jupyter-widgets/controls",
      "model_module_version": "1.5.0",
      "model_name": "DropdownModel",
      "state": {
       "_options_labels": [
        " ",
        "picking",
        "random",
        "uniform",
        "atomindex",
        "residueindex",
        "chainindex",
        "modelindex",
        "sstruc",
        "element",
        "resname",
        "bfactor",
        "hydrophobicity",
        "value",
        "volume",
        "occupancy"
       ],
       "description": "Color scheme",
       "index": 9,
       "layout": "IPY_MODEL_891190d0530845ee9b2123215f920316",
       "style": "IPY_MODEL_95479a00f7234de0a3578e674ee73559"
      }
     },
     "7db4f27971504e8891be2fdef9fdc10e": {
      "model_module": "@jupyter-widgets/controls",
      "model_module_version": "1.5.0",
      "model_name": "DropdownModel",
      "state": {
       "_options_labels": [
        " ",
        "picking",
        "random",
        "uniform",
        "atomindex",
        "residueindex",
        "chainindex",
        "modelindex",
        "sstruc",
        "element",
        "resname",
        "bfactor",
        "hydrophobicity",
        "value",
        "volume",
        "occupancy"
       ],
       "description": "Color scheme",
       "index": 9,
       "layout": "IPY_MODEL_ba5f542aed9c404eb423856ea65fc9af",
       "style": "IPY_MODEL_6ae5fb43886849a6b7e059a604e938c8"
      }
     },
     "7ea1092513464866b635ee4dfdf9df9d": {
      "model_module": "@jupyter-widgets/controls",
      "model_module_version": "1.5.0",
      "model_name": "VBoxModel",
      "state": {
       "children": [
        "IPY_MODEL_98e115644990424f80f9cbae35002114",
        "IPY_MODEL_1c71af1c638b45a89f189c37b0cf304f",
        "IPY_MODEL_ad7cf244c3894cc98778987b992a2265",
        "IPY_MODEL_6a8fb87179a44780b6a11bcdc882b3a0",
        "IPY_MODEL_a9797fd1102246d887c2f86a7ece7ac0",
        "IPY_MODEL_47110491060049a9bc4cb0b5b80e0183",
        "IPY_MODEL_195f2ceaaf1343609cd572536e41729c",
        "IPY_MODEL_d3fee9f354314e669a6e4dc1c41f08ef",
        "IPY_MODEL_a3731b6121524d2e8ca03305bdda9a09",
        "IPY_MODEL_25962df21e114c60a2f6164213726700",
        "IPY_MODEL_e84c31d538624e3582496e5e4547f800"
       ],
       "layout": "IPY_MODEL_9823b3a4464049fc81e059fdfa1a9928"
      }
     },
     "7f3ef4107c804b249ca1866bab61a88b": {
      "model_module": "@jupyter-widgets/controls",
      "model_module_version": "1.5.0",
      "model_name": "CheckboxModel",
      "state": {
       "description": "Show charge",
       "disabled": false,
       "layout": "IPY_MODEL_dbc09fac196f4cb69029d5a4e2a36e58",
       "style": "IPY_MODEL_80e4650cb242450ab2edab91606c40e5",
       "value": false
      }
     },
     "80e4650cb242450ab2edab91606c40e5": {
      "model_module": "@jupyter-widgets/controls",
      "model_module_version": "1.5.0",
      "model_name": "DescriptionStyleModel",
      "state": {
       "description_width": ""
      }
     },
     "815137ff3a3749abbe785f038545687b": {
      "model_module": "@jupyter-widgets/controls",
      "model_module_version": "1.5.0",
      "model_name": "LinkModel",
      "state": {
       "source": [
        "IPY_MODEL_efe36c13564c44dabcd156c2f55ac111",
        "max"
       ],
       "target": [
        "IPY_MODEL_f6d1e15c1d724d87b74f462a628b368b",
        "max_frame"
       ]
      }
     },
     "81a7c0ee420a4f85b34ed76fb1afc31d": {
      "model_module": "@jupyter-widgets/controls",
      "model_module_version": "1.5.0",
      "model_name": "DescriptionStyleModel",
      "state": {
       "description_width": ""
      }
     },
     "822d3511791647999fda314e4e278441": {
      "model_module": "@jupyter-widgets/base",
      "model_module_version": "1.2.0",
      "model_name": "LayoutModel",
      "state": {}
     },
     "82bfadc47aa9489d9b1039212ec3039c": {
      "model_module": "@jupyter-widgets/controls",
      "model_module_version": "1.5.0",
      "model_name": "VBoxModel",
      "state": {
       "children": [
        "IPY_MODEL_e720ead3174047418704258c50b21847",
        "IPY_MODEL_fc168f908515465082a40239411878db",
        "IPY_MODEL_6a404ec28ea7420d9bd3c3cf1df6dfba",
        "IPY_MODEL_5589dded4a874c6a82df65d8e0e4b7ac",
        "IPY_MODEL_8d07925eb2fb45a0ae4bced4649d2c09",
        "IPY_MODEL_1adaa87b4b2d4941ae1f0d090b95e5cf",
        "IPY_MODEL_b39a429795094e27badd21c43ae75646",
        "IPY_MODEL_6b9c8389391e4796bef75e35eeddbb1f",
        "IPY_MODEL_143f4bd6760d408eaae6803c7d54c81f",
        "IPY_MODEL_b0afa9cec1a740cd9d63fcc1bd04297a",
        "IPY_MODEL_c891952829684f499c12b49be0f3a1bd"
       ],
       "layout": "IPY_MODEL_3f4e622bdf534a35904dd5f8624ed01c"
      }
     },
     "8309cb2dd00d4ca295a5b7249c8b391f": {
      "model_module": "@jupyter-widgets/base",
      "model_module_version": "1.2.0",
      "model_name": "LayoutModel",
      "state": {}
     },
     "846f60041b90485e9477f0b63878ed31": {
      "model_module": "@jupyter-widgets/controls",
      "model_module_version": "1.5.0",
      "model_name": "DropdownModel",
      "state": {
       "_options_labels": [
        " ",
        "picking",
        "random",
        "uniform",
        "atomindex",
        "residueindex",
        "chainindex",
        "modelindex",
        "sstruc",
        "element",
        "resname",
        "bfactor",
        "hydrophobicity",
        "value",
        "volume",
        "occupancy"
       ],
       "description": "Color scheme",
       "index": 9,
       "layout": "IPY_MODEL_9c743425ede24704a242cb4074b72954",
       "style": "IPY_MODEL_fc25a8e60fb64f45b3245dec413e3beb"
      }
     },
     "85258d4afe44471baced52cf2dc61175": {
      "model_module": "@jupyter-widgets/base",
      "model_module_version": "1.2.0",
      "model_name": "LayoutModel",
      "state": {}
     },
     "852d2ab39d3d4a0aafe3ab25ed9a96ac": {
      "model_module": "@jupyter-widgets/controls",
      "model_module_version": "1.5.0",
      "model_name": "HBoxModel",
      "state": {
       "children": [
        "IPY_MODEL_efb3b56178824e8a956c3652c3096ba5",
        "IPY_MODEL_b84f7b2eca8749e98d98259f18a00ce7"
       ],
       "layout": "IPY_MODEL_d10b443a9c334f21ab1bf0ff0956080f"
      }
     },
     "85bb46fc535a41078614ea4a3715ddd2": {
      "model_module": "@jupyter-widgets/controls",
      "model_module_version": "1.5.0",
      "model_name": "LinkModel",
      "state": {
       "source": [
        "IPY_MODEL_c95f5aff8974404699e8b90df451aa69",
        "value"
       ],
       "target": [
        "IPY_MODEL_bf2919950ae44420a1db0f8c6caabd66",
        "value"
       ]
      }
     },
     "85bbfa18ff3744e9ab37602225fe3423": {
      "model_module": "@jupyter-widgets/controls",
      "model_module_version": "1.5.0",
      "model_name": "DescriptionStyleModel",
      "state": {
       "description_width": ""
      }
     },
     "85ef0d8203854785bbd9fa017836214a": {
      "model_module": "@jupyter-widgets/controls",
      "model_module_version": "1.5.0",
      "model_name": "VBoxModel",
      "state": {
       "children": [
        "IPY_MODEL_28dd283149c142eab71ca0bf0914a76f",
        "IPY_MODEL_1d66e351780244fea3afc91857752caa",
        "IPY_MODEL_5bae8aadb8f74673b873289d72a366e2",
        "IPY_MODEL_8a558bcbe24c42da9cfb76ead739c41a",
        "IPY_MODEL_a2f543b494fb4ae49b5ca77cf515ea8e",
        "IPY_MODEL_ee72f4a5bc2645c08236d2b8a05f441e",
        "IPY_MODEL_77e14175c6794b98a805275e726f4bd5",
        "IPY_MODEL_c240a2dbe72c4b5a982aea119c034da1",
        "IPY_MODEL_fda2322dda1b4d428e5bb3dd6a4e2eec",
        "IPY_MODEL_465a2e545e234711b86f4a8835cdc7a9",
        "IPY_MODEL_fa2f1284191d424db31faa939ad0a707"
       ],
       "layout": "IPY_MODEL_fb098a26e05f4b35a5a7c2e7507d5b74"
      }
     },
     "8625bed0875e4d56a119e976f57c2bce": {
      "model_module": "@jupyter-widgets/controls",
      "model_module_version": "1.5.0",
      "model_name": "ButtonModel",
      "state": {
       "description": "Download image",
       "layout": "IPY_MODEL_d709d31ce26544e5a797f8fbc93d55f8",
       "style": "IPY_MODEL_dddfc4435a284a92905c9629baffe4a8",
       "tooltip": "Download current frame to your local PC"
      }
     },
     "8699b4a62a7d493fb5d0942d1b602fe7": {
      "model_module": "@jupyter-widgets/controls",
      "model_module_version": "1.5.0",
      "model_name": "ButtonStyleModel",
      "state": {}
     },
     "87344e73c40c45f5b4530feb670b8f7c": {
      "model_module": "@jupyter-widgets/controls",
      "model_module_version": "1.5.0",
      "model_name": "DescriptionStyleModel",
      "state": {
       "description_width": ""
      }
     },
     "87649c0b08d64375a2c82407c261ae0d": {
      "model_module": "@jupyter-widgets/output",
      "model_module_version": "1.0.0",
      "model_name": "OutputModel",
      "state": {
       "layout": "IPY_MODEL_795d4c3dacf34fd3912531e17720b451"
      }
     },
     "87ca6b7e85f948699ec385b3415e2e14": {
      "model_module": "@jupyter-widgets/controls",
      "model_module_version": "1.5.0",
      "model_name": "HBoxModel",
      "state": {
       "children": [
        "IPY_MODEL_0ab7486942204a1ebda6da95ddce6f84",
        "IPY_MODEL_c6ad720175b44ebface63baf2c64b2fd"
       ],
       "layout": "IPY_MODEL_dc3c2dea63dc45788e1ddb9cb0de2f9b"
      }
     },
     "87fa9071b75b4f1b88a55644a3de7a35": {
      "model_module": "@jupyter-widgets/controls",
      "model_module_version": "1.5.0",
      "model_name": "DescriptionStyleModel",
      "state": {
       "description_width": ""
      }
     },
     "891190d0530845ee9b2123215f920316": {
      "model_module": "@jupyter-widgets/base",
      "model_module_version": "1.2.0",
      "model_name": "LayoutModel",
      "state": {}
     },
     "893344c078ab47438308576b53af47bc": {
      "model_module": "@jupyter-widgets/controls",
      "model_module_version": "1.5.0",
      "model_name": "TextModel",
      "state": {
       "description": "Filename: ",
       "layout": "IPY_MODEL_c0daffce7919458b95d77ac27dbdf30b",
       "style": "IPY_MODEL_ebb213e3fc7f422d8d3b44cf9d2938a8",
       "value": "screenshot.png"
      }
     },
     "8941b3c3e95a4fb184729a0bcee38e5a": {
      "model_module": "@jupyter-widgets/controls",
      "model_module_version": "1.5.0",
      "model_name": "ButtonStyleModel",
      "state": {}
     },
     "894343830a5841a3bdd15afebe887ef7": {
      "model_module": "@jupyter-widgets/base",
      "model_module_version": "1.2.0",
      "model_name": "LayoutModel",
      "state": {}
     },
     "894f65c445f44b66acb1fe24de652a86": {
      "model_module": "@jupyter-widgets/controls",
      "model_module_version": "1.5.0",
      "model_name": "SliderStyleModel",
      "state": {
       "description_width": ""
      }
     },
     "89f89da6e2b7472c93ce169766754d10": {
      "model_module": "@jupyter-widgets/controls",
      "model_module_version": "1.5.0",
      "model_name": "DescriptionStyleModel",
      "state": {
       "description_width": ""
      }
     },
     "8a558bcbe24c42da9cfb76ead739c41a": {
      "model_module": "@jupyter-widgets/controls",
      "model_module_version": "1.5.0",
      "model_name": "IntSliderModel",
      "state": {
       "layout": "IPY_MODEL_c717c7cd4e0d4aa093db333cf54c5a72",
       "max": 1,
       "style": "IPY_MODEL_f17285035dd949b691acae3a240d1b24"
      }
     },
     "8c7417f8d2824d518da989a2a7efaa14": {
      "model_module": "@jupyter-widgets/controls",
      "model_module_version": "1.5.0",
      "model_name": "ButtonModel",
      "state": {
       "description": "Save image",
       "layout": "IPY_MODEL_d2fb42b066c545e98632150db9fba32f",
       "style": "IPY_MODEL_4831b64504d0463da97503e4421e2e5a",
       "tooltip": "Save current frame to file.\nCurrently .png and .html are supported.\nIt takes a bit time, please be patient."
      }
     },
     "8d07925eb2fb45a0ae4bced4649d2c09": {
      "model_module": "@jupyter-widgets/controls",
      "model_module_version": "1.5.0",
      "model_name": "TextModel",
      "state": {
       "description": "Filename: ",
       "layout": "IPY_MODEL_0ceb589bd0284066851592a73b695472",
       "style": "IPY_MODEL_092fb36838d745aea368610d87f90a23",
       "value": "screenshot.png"
      }
     },
     "8d584705373e4ca683f0e1021c4df9f6": {
      "model_module": "@jupyter-widgets/controls",
      "model_module_version": "1.5.0",
      "model_name": "SliderStyleModel",
      "state": {
       "description_width": ""
      }
     },
     "8e33fb2687084a08a9941f6137a57916": {
      "model_module": "@jupyter-widgets/base",
      "model_module_version": "1.2.0",
      "model_name": "LayoutModel",
      "state": {}
     },
     "8e6aa776dc7246509f09d2e27c3925a1": {
      "model_module": "@jupyter-widgets/base",
      "model_module_version": "1.2.0",
      "model_name": "LayoutModel",
      "state": {
       "width": "34px"
      }
     },
     "8f2803d4660146aa9f9211b55c2ed14d": {
      "model_module": "@jupyter-widgets/base",
      "model_module_version": "1.2.0",
      "model_name": "LayoutModel",
      "state": {}
     },
     "8fb34413796049d09fed019751e60725": {
      "model_module": "@jupyter-widgets/controls",
      "model_module_version": "1.5.0",
      "model_name": "HBoxModel",
      "state": {
       "children": [
        "IPY_MODEL_40eaaca8606c4199baef7ab620d92ea4",
        "IPY_MODEL_04fd61af4653420e8b3ed4b6df9e01fa"
       ],
       "layout": "IPY_MODEL_5210ddc47e9248fd8a9ddc03749e0b82"
      }
     },
     "905346e30ad0470fa1463ef100dcdcdd": {
      "model_module": "@jupyter-widgets/controls",
      "model_module_version": "1.5.0",
      "model_name": "IntSliderModel",
      "state": {
       "layout": "IPY_MODEL_6999d51f8e3749428bcb74292f273802",
       "max": 0,
       "style": "IPY_MODEL_b7499bf592b846d9851746778b20cdb9"
      }
     },
     "90f0a2e6c4834fc5bb7217f393cbb2a1": {
      "model_module": "@jupyter-widgets/base",
      "model_module_version": "1.2.0",
      "model_name": "LayoutModel",
      "state": {}
     },
     "912822ef159e4e6dabee625e383d13ff": {
      "model_module": "@jupyter-widgets/base",
      "model_module_version": "1.2.0",
      "model_name": "LayoutModel",
      "state": {}
     },
     "912a83005d42445a8bdd9d3b605bfd58": {
      "model_module": "@jupyter-widgets/controls",
      "model_module_version": "1.5.0",
      "model_name": "CheckboxModel",
      "state": {
       "description": "Show force",
       "disabled": false,
       "layout": "IPY_MODEL_26de8741242548ac84e127692a77886a",
       "style": "IPY_MODEL_6b49542acc8149d8bd2e08c0054ba01e",
       "value": false
      }
     },
     "922afc962d184a77b86d3028f7565fd1": {
      "model_module": "@jupyter-widgets/controls",
      "model_module_version": "1.5.0",
      "model_name": "DescriptionStyleModel",
      "state": {
       "description_width": ""
      }
     },
     "9396733fee5241db84e442341802162b": {
      "model_module": "@jupyter-widgets/base",
      "model_module_version": "1.2.0",
      "model_name": "LayoutModel",
      "state": {}
     },
     "93e3861980be4c9c885e8d92f99b8502": {
      "model_module": "@jupyter-widgets/controls",
      "model_module_version": "1.5.0",
      "model_name": "FloatSliderModel",
      "state": {
       "description": "Force scale",
       "layout": "IPY_MODEL_6d97b77b79e841668f204198157a9849",
       "step": 0.1,
       "style": "IPY_MODEL_d656ab049b71490fb3c4724594b1ef94",
       "value": 0.5
      }
     },
     "95479a00f7234de0a3578e674ee73559": {
      "model_module": "@jupyter-widgets/controls",
      "model_module_version": "1.5.0",
      "model_name": "DescriptionStyleModel",
      "state": {
       "description_width": ""
      }
     },
     "9570abf354a44500bde57aedab5d10e8": {
      "model_module": "@jupyter-widgets/base",
      "model_module_version": "1.2.0",
      "model_name": "LayoutModel",
      "state": {}
     },
     "9580e7b11ee14461b1c98a76f3583c58": {
      "model_module": "@jupyter-widgets/controls",
      "model_module_version": "1.5.0",
      "model_name": "FloatSliderModel",
      "state": {
       "description": "Ball size",
       "layout": "IPY_MODEL_d55daa8674014e53bb6b671543bd63a9",
       "max": 1.5,
       "step": 0.01,
       "style": "IPY_MODEL_1af13bcdc89744d6adcaff49e829c92b",
       "value": 0.5
      }
     },
     "95a9dc1d66fa4ac394c0bbaf130d792c": {
      "model_module": "@jupyter-widgets/controls",
      "model_module_version": "1.5.0",
      "model_name": "LinkModel",
      "state": {
       "source": [
        "IPY_MODEL_ddeab72b841d42598785aab45aa12c65",
        "value"
       ],
       "target": [
        "IPY_MODEL_ffa6ab1e573844609dffb12e118799d9",
        "value"
       ]
      }
     },
     "9609610eb01a4bacbee0616b6e307a9a": {
      "model_module": "@jupyter-widgets/controls",
      "model_module_version": "1.5.0",
      "model_name": "ButtonStyleModel",
      "state": {}
     },
     "967991f6d3534c6bb5c13d7e258016e3": {
      "model_module": "@jupyter-widgets/controls",
      "model_module_version": "1.5.0",
      "model_name": "DescriptionStyleModel",
      "state": {
       "description_width": ""
      }
     },
     "970ff3564a014f6487c01cb82535aa1a": {
      "model_module": "@jupyter-widgets/controls",
      "model_module_version": "1.5.0",
      "model_name": "VBoxModel",
      "state": {
       "children": [
        "IPY_MODEL_0e5cdfb9c26d4c9cbeae40dd31cd33b3",
        "IPY_MODEL_bd1e81718f284180ae34f4f559a71036",
        "IPY_MODEL_4731be9343434a2c922338958e4a2574",
        "IPY_MODEL_74c54b05fa2a418d92edf11e231311c6",
        "IPY_MODEL_6492d219675440c8a9063cd1fe1c884d",
        "IPY_MODEL_912a83005d42445a8bdd9d3b605bfd58",
        "IPY_MODEL_b238436873a44747a7f31da8d20d37c5",
        "IPY_MODEL_d42f95f7dc724f66a41f837d7f35de18",
        "IPY_MODEL_c990c3243112489ca05fe09cd954da2f",
        "IPY_MODEL_1f72fff8a8734449812e93872b0b17df"
       ],
       "layout": "IPY_MODEL_13e707fa8835422ca654a8c1806089c0"
      }
     },
     "974ff80a99e14a408f46523be8426617": {
      "model_module": "@jupyter-widgets/controls",
      "model_module_version": "1.5.0",
      "model_name": "HBoxModel",
      "state": {
       "children": [
        "IPY_MODEL_f6d1e15c1d724d87b74f462a628b368b",
        "IPY_MODEL_970ff3564a014f6487c01cb82535aa1a"
       ],
       "layout": "IPY_MODEL_2a6047c4bc564924934f70d694ba7246"
      }
     },
     "9823b3a4464049fc81e059fdfa1a9928": {
      "model_module": "@jupyter-widgets/base",
      "model_module_version": "1.2.0",
      "model_name": "LayoutModel",
      "state": {}
     },
     "98e115644990424f80f9cbae35002114": {
      "model_module": "@jupyter-widgets/controls",
      "model_module_version": "1.5.0",
      "model_name": "DropdownModel",
      "state": {
       "_options_labels": [
        "All",
        "Fe"
       ],
       "description": "Show",
       "index": 0,
       "layout": "IPY_MODEL_fbb224afeeb14b108957a64b8be73e12",
       "style": "IPY_MODEL_9f05b1eefad24e2d9e855382cb9f0b8a"
      }
     },
     "9938199c52b94e01bc4dd0fb0a7eb702": {
      "model_module": "@jupyter-widgets/base",
      "model_module_version": "1.2.0",
      "model_name": "LayoutModel",
      "state": {}
     },
     "99530c8eebb84b528b8aff1f44c2c995": {
      "model_module": "@jupyter-widgets/controls",
      "model_module_version": "1.5.0",
      "model_name": "DescriptionStyleModel",
      "state": {
       "description_width": ""
      }
     },
     "99f0341705b74afb8c3d77457b45ceb5": {
      "model_module": "@jupyter-widgets/base",
      "model_module_version": "1.2.0",
      "model_name": "LayoutModel",
      "state": {}
     },
     "99f4f539719e4f9b811556e5a74c36bd": {
      "model_module": "@jupyter-widgets/base",
      "model_module_version": "1.2.0",
      "model_name": "LayoutModel",
      "state": {}
     },
     "9a9926ee55af495c88f9c9dbefea0079": {
      "model_module": "@jupyter-widgets/controls",
      "model_module_version": "1.5.0",
      "model_name": "HBoxModel",
      "state": {
       "children": [
        "IPY_MODEL_2af26be9af2141e8a82ebd51adac6c09",
        "IPY_MODEL_d73515437acf4d16a50303509bfa3fff"
       ],
       "layout": "IPY_MODEL_1aaa99de21b3424fac6fd0f7c611cbd4"
      }
     },
     "9c70b43adf644f16bdbf554f207e8bd5": {
      "model_module": "@jupyter-widgets/controls",
      "model_module_version": "1.5.0",
      "model_name": "HBoxModel",
      "state": {
       "children": [
        "IPY_MODEL_ac3c8f2d7eb642c7b1ec427a6f245384",
        "IPY_MODEL_de2841a275ff443aafe49c29ef8de543"
       ],
       "layout": "IPY_MODEL_cd0af8a4e44f4ef592fa191cd119c787"
      }
     },
     "9c743425ede24704a242cb4074b72954": {
      "model_module": "@jupyter-widgets/base",
      "model_module_version": "1.2.0",
      "model_name": "LayoutModel",
      "state": {}
     },
     "9f05b1eefad24e2d9e855382cb9f0b8a": {
      "model_module": "@jupyter-widgets/controls",
      "model_module_version": "1.5.0",
      "model_name": "DescriptionStyleModel",
      "state": {
       "description_width": ""
      }
     },
     "9f8b05f60f6b42548a7222d894e5bd56": {
      "model_module": "@jupyter-widgets/controls",
      "model_module_version": "1.5.0",
      "model_name": "ButtonStyleModel",
      "state": {}
     },
     "a1420540a04145f497675bd328506764": {
      "model_module": "@jupyter-widgets/controls",
      "model_module_version": "1.5.0",
      "model_name": "DescriptionStyleModel",
      "state": {
       "description_width": ""
      }
     },
     "a200878366444c4d9a5d4cf58935015f": {
      "model_module": "@jupyter-widgets/base",
      "model_module_version": "1.2.0",
      "model_name": "LayoutModel",
      "state": {}
     },
     "a2250f8467ae47d997ade879b72b6650": {
      "model_module": "@jupyter-widgets/controls",
      "model_module_version": "1.5.0",
      "model_name": "ButtonStyleModel",
      "state": {}
     },
     "a265a06fa8c646998c8262807480a991": {
      "model_module": "@jupyter-widgets/controls",
      "model_module_version": "1.5.0",
      "model_name": "DescriptionStyleModel",
      "state": {
       "description_width": ""
      }
     },
     "a2f543b494fb4ae49b5ca77cf515ea8e": {
      "model_module": "@jupyter-widgets/controls",
      "model_module_version": "1.5.0",
      "model_name": "TextModel",
      "state": {
       "description": "Filename: ",
       "layout": "IPY_MODEL_4226783c460b4e0182c10e5bf15555e0",
       "style": "IPY_MODEL_c145cc4694f5479da820457b1fe8ab9f",
       "value": "screenshot.png"
      }
     },
     "a35ed3a2aa9d473294bf9a0200c1f1fd": {
      "model_module": "@jupyter-widgets/controls",
      "model_module_version": "1.5.0",
      "model_name": "TextModel",
      "state": {
       "description": "Filename: ",
       "layout": "IPY_MODEL_822d3511791647999fda314e4e278441",
       "style": "IPY_MODEL_6f79f0c5ab114bd2bd7a75fe5b8e9791",
       "value": "screenshot.png"
      }
     },
     "a3731b6121524d2e8ca03305bdda9a09": {
      "model_module": "@jupyter-widgets/controls",
      "model_module_version": "1.5.0",
      "model_name": "CheckboxModel",
      "state": {
       "description": "Show charge",
       "disabled": false,
       "layout": "IPY_MODEL_573081db6a524e3b8aa931030ea78fbe",
       "style": "IPY_MODEL_a265a06fa8c646998c8262807480a991",
       "value": false
      }
     },
     "a39d5024ed0f48a3a5fd261e4ff8df8c": {
      "model_module": "@jupyter-widgets/controls",
      "model_module_version": "1.5.0",
      "model_name": "LinkModel",
      "state": {
       "source": [
        "IPY_MODEL_ca5414936d124b2186c2d07aa73dd94c",
        "max"
       ],
       "target": [
        "IPY_MODEL_c983a77fe51b4e788e9ac25063210baa",
        "max_frame"
       ]
      }
     },
     "a39e22fd4fef44cb959e9c2e1e9bb8d0": {
      "model_module": "@jupyter-widgets/base",
      "model_module_version": "1.2.0",
      "model_name": "LayoutModel",
      "state": {}
     },
     "a446bd0b118947959d1dc852269e6194": {
      "model_module": "@jupyter-widgets/controls",
      "model_module_version": "1.5.0",
      "model_name": "LinkModel",
      "state": {
       "source": [
        "IPY_MODEL_c95f5aff8974404699e8b90df451aa69",
        "max"
       ],
       "target": [
        "IPY_MODEL_f02321af4e4c4632a01c52a69f34dd18",
        "max_frame"
       ]
      }
     },
     "a55b6acfb89e4380b8c0cf3ad3fb3e16": {
      "model_module": "@jupyter-widgets/base",
      "model_module_version": "1.2.0",
      "model_name": "LayoutModel",
      "state": {}
     },
     "a5d437a7b22549e18c8521bf413cfe07": {
      "model_module": "@jupyter-widgets/controls",
      "model_module_version": "1.5.0",
      "model_name": "SliderStyleModel",
      "state": {
       "description_width": ""
      }
     },
     "a7081883b0ea499ab39a9a4a812a9201": {
      "model_module": "@jupyter-widgets/controls",
      "model_module_version": "1.5.0",
      "model_name": "ButtonModel",
      "state": {
       "description": "Save image",
       "layout": "IPY_MODEL_d988712ae8c7437ba22a56a7a943b8c5",
       "style": "IPY_MODEL_4419949157e04418996e5bed44cbae69",
       "tooltip": "Save current frame to file.\nCurrently .png and .html are supported.\nIt takes a bit time, please be patient."
      }
     },
     "a709f5e58de5489b83ad242aea6e5e08": {
      "model_module": "@jupyter-widgets/base",
      "model_module_version": "1.2.0",
      "model_name": "LayoutModel",
      "state": {}
     },
     "a937d481f5fe432b8cd17f880783e767": {
      "model_module": "@jupyter-widgets/base",
      "model_module_version": "1.2.0",
      "model_name": "LayoutModel",
      "state": {}
     },
     "a9797fd1102246d887c2f86a7ece7ac0": {
      "model_module": "@jupyter-widgets/controls",
      "model_module_version": "1.5.0",
      "model_name": "TextModel",
      "state": {
       "description": "Filename: ",
       "layout": "IPY_MODEL_8f2803d4660146aa9f9211b55c2ed14d",
       "style": "IPY_MODEL_50e8965e460c4f098cddf230049936c2",
       "value": "screenshot.png"
      }
     },
     "ab873cd2871e4bdab3f3f3ed27442a5f": {
      "model_module": "@jupyter-widgets/controls",
      "model_module_version": "1.5.0",
      "model_name": "FloatSliderModel",
      "state": {
       "description": "Charge scale",
       "layout": "IPY_MODEL_f0242905c8414accbecbe7f2e5f03278",
       "step": 0.1,
       "style": "IPY_MODEL_30e6a74142a94f52897d96ca4983eaf0",
       "value": 1
      }
     },
     "abaea12ce8274cb39c05cd383e01eda3": {
      "model_module": "@jupyter-widgets/controls",
      "model_module_version": "1.5.0",
      "model_name": "DescriptionStyleModel",
      "state": {
       "description_width": ""
      }
     },
     "ac3c8f2d7eb642c7b1ec427a6f245384": {
      "model_module": "nglview-js-widgets",
      "model_module_version": "3.0.1",
      "model_name": "NGLModel",
      "state": {
       "_camera_orientation": [
        9.894854482418447,
        -0.5143364975461105,
        0.9200705214014173,
        0,
        1.0540426138498609,
        4.8949878021158115,
        -8.599261922433966,
        0,
        -0.008121899311965934,
        8.648339112784958,
        4.921928651486339,
        0,
        -1.38100004196167,
        -1.8270000219345093,
        -2.4024999141693115,
        1
       ],
       "_camera_str": "orthographic",
       "_gui_theme": null,
       "_ibtn_fullscreen": "IPY_MODEL_13732636ef5e440a8639ca2c8e12c85b",
       "_igui": null,
       "_iplayer": "IPY_MODEL_8fb34413796049d09fed019751e60725",
       "_ngl_color_dict": {},
       "_ngl_coordinate_resource": {},
       "_ngl_full_stage_parameters": {
        "ambientColor": 14540253,
        "ambientIntensity": 0.2,
        "backgroundColor": "white",
        "cameraEyeSep": 0.3,
        "cameraFov": 40,
        "cameraType": "orthographic",
        "clipDist": 0,
        "clipFar": 100,
        "clipNear": 0,
        "fogFar": 100,
        "fogNear": 50,
        "hoverTimeout": 0,
        "impostor": true,
        "lightColor": 14540253,
        "lightIntensity": 1,
        "mousePreset": "default",
        "panSpeed": 1,
        "quality": "medium",
        "rotateSpeed": 2,
        "sampleLevel": 0,
        "tooltip": true,
        "workerDefault": true,
        "zoomSpeed": 1.2
       },
       "_ngl_msg_archive": [
        {
         "args": [
          {
           "binary": false,
           "data": "CRYST1    5.028    5.028    5.519  90.00  90.00 120.00 P 1\nMODEL     1\nATOM      1   Si MOL     1       1.314   2.276   0.000  1.00  0.00          SI  \nATOM      2   Si MOL     1       2.400   0.000   3.679  1.00  0.00          SI  \nATOM      3   Si MOL     1       3.828   2.078   1.840  1.00  0.00          SI  \nATOM      4    O MOL     1       0.831   3.654   4.805  1.00  0.00           O  \nATOM      5    O MOL     1      -1.066   3.247   2.966  1.00  0.00           O  \nATOM      6    O MOL     1       0.235   1.807   1.126  1.00  0.00           O  \nATOM      7    O MOL     1       2.749   2.547   0.714  1.00  0.00           O  \nATOM      8    O MOL     1       3.345   0.700   2.553  1.00  0.00           O  \nATOM      9    O MOL     1       1.447   1.107   4.393  1.00  0.00           O  \nENDMDL\n",
           "type": "blob"
          }
         ],
         "kwargs": {
          "defaultRepresentation": false,
          "ext": "pdb"
         },
         "methodName": "loadFile",
         "reconstruc_color_scheme": false,
         "target": "Stage",
         "type": "call_method"
        },
        {
         "args": [
          "500px",
          "500px"
         ],
         "kwargs": {},
         "methodName": "setSize",
         "reconstruc_color_scheme": false,
         "target": "Widget",
         "type": "call_method"
        },
        {
         "args": [
          "unitcell"
         ],
         "component_index": 0,
         "kwargs": {
          "sele": "all"
         },
         "methodName": "addRepresentation",
         "reconstruc_color_scheme": false,
         "target": "compList",
         "type": "call_method"
        },
        {
         "args": [
          "spacefill"
         ],
         "component_index": 0,
         "kwargs": {
          "sele": "all"
         },
         "methodName": "addRepresentation",
         "reconstruc_color_scheme": false,
         "target": "compList",
         "type": "call_method"
        },
        {
         "args": [],
         "kwargs": {
          "cameraType": "orthographic"
         },
         "methodName": "setParameters",
         "reconstruc_color_scheme": false,
         "target": "Stage",
         "type": "call_method"
        },
        {
         "args": [
          {
           "clipDist": 0
          }
         ],
         "kwargs": {},
         "methodName": "setParameters",
         "reconstruc_color_scheme": false,
         "target": "Widget",
         "type": "call_method"
        },
        {
         "args": [
          "spacefill",
          0
         ],
         "kwargs": {
          "colorScale": "rainbow",
          "colorScheme": "element",
          "radiusScale": 0.5,
          "radiusType": "covalent"
         },
         "methodName": "updateRepresentationsByName",
         "reconstruc_color_scheme": false,
         "target": "Widget",
         "type": "call_method"
        },
        {
         "args": [
          "this._Q = [[1.0, 0.0, 0.0], [0.0, 1.0, 0.0], [0.0, 0.0, 1.0]]\n    var tooltip = document.createElement('div')\n    Object.assign(tooltip.style, {\n      display: 'none',\n      position: 'fixed',\n      zIndex: 10,\n      pointerEvents: 'none',\n      backgroundColor: 'rgba( 0, 0, 0, 0.6 )',\n      color: 'lightgrey',\n      padding: '8px',\n      fontFamily: 'sans-serif'\n    })\n    document.body.appendChild(tooltip)\n\n    var that = this\n    this.stage.mouseControls.remove('hoverPick')\n    this.stage.signals.hovered.add(function (pickingProxy) {\n      if (pickingProxy && (pickingProxy.atom || pickingProxy.bond)) {\n        var atom = pickingProxy.atom || pickingProxy.closestBondAtom\n        var mp = pickingProxy.mouse.position\n        //tooltip.innerText = atom.element + ' i=' + atom.index + ' (' + atom.x.toFixed(2) +  ', ' + atom.y.toFixed(2) +  ', ' + atom.z.toFixed(2) + ')'\n        //var pos = that._atoms_pos[atom.index]\n        var Q = that._Q\n        var pos_x = Q[0][0] * atom.x + Q[0][1] * atom.y + Q[0][2] * atom.z \n        var pos_y = Q[1][0] * atom.x + Q[1][1] * atom.y + Q[1][2] * atom.z\n        var pos_z = Q[2][0] * atom.x + Q[2][1] * atom.y + Q[2][2] * atom.z\n        tooltip.innerText = 'i=' + atom.index + ' ' + atom.element + ' (' + pos_x.toFixed(2) +  ', ' + pos_y.toFixed(2) +  ', ' + pos_z.toFixed(2) + ')'\n        tooltip.style.bottom = window.innerHeight - mp.y + 3 + 'px'\n        tooltip.style.left = mp.x + 3 + 'px'\n        tooltip.style.display = 'block'\n      } else {\n        tooltip.style.display = 'none'\n      }\n    })\n    "
         ],
         "kwargs": {},
         "methodName": "executeCode",
         "reconstruc_color_scheme": false,
         "target": "Widget",
         "type": "call_method"
        },
        {
         "args": [
          "ball+stick"
         ],
         "component_index": 0,
         "kwargs": {
          "sele": "all"
         },
         "methodName": "addRepresentation",
         "reconstruc_color_scheme": false,
         "target": "compList",
         "type": "call_method"
        }
       ],
       "_ngl_original_stage_parameters": {
        "ambientColor": 14540253,
        "ambientIntensity": 0.2,
        "backgroundColor": "white",
        "cameraEyeSep": 0.3,
        "cameraFov": 40,
        "cameraType": "perspective",
        "clipDist": 10,
        "clipFar": 100,
        "clipNear": 0,
        "fogFar": 100,
        "fogNear": 50,
        "hoverTimeout": 0,
        "impostor": true,
        "lightColor": 14540253,
        "lightIntensity": 1,
        "mousePreset": "default",
        "panSpeed": 1,
        "quality": "medium",
        "rotateSpeed": 2,
        "sampleLevel": 0,
        "tooltip": true,
        "workerDefault": true,
        "zoomSpeed": 1.2
       },
       "_ngl_repr_dict": {
        "0": {
         "0": {
          "params": {
           "clipCenter": {
            "x": 0,
            "y": 0,
            "z": 0
           },
           "clipNear": 0,
           "clipRadius": 0,
           "colorMode": "hcl",
           "colorReverse": false,
           "colorScale": "",
           "colorScheme": "element",
           "colorValue": "orange",
           "defaultAssembly": "",
           "depthWrite": true,
           "diffuse": 16777215,
           "diffuseInterior": false,
           "disableImpostor": false,
           "disablePicking": false,
           "flatShaded": false,
           "interiorColor": 2236962,
           "interiorDarkening": 0,
           "lazy": false,
           "matrix": {
            "elements": [
             1,
             0,
             0,
             0,
             0,
             1,
             0,
             0,
             0,
             0,
             1,
             0,
             0,
             0,
             0,
             1
            ]
           },
           "metalness": 0,
           "opacity": 1,
           "quality": "medium",
           "radialSegments": 10,
           "radiusData": {},
           "radiusScale": 1,
           "radiusSize": 0.0247208561684643,
           "radiusType": "vdw",
           "roughness": 0.4,
           "sele": "all",
           "side": "double",
           "sphereDetail": 1,
           "useInteriorColor": true,
           "visible": true,
           "wireframe": false
          },
          "type": "unitcell"
         },
         "1": {
          "params": {
           "assembly": "default",
           "clipCenter": {
            "x": 0,
            "y": 0,
            "z": 0
           },
           "clipNear": 0,
           "clipRadius": 0,
           "colorMode": "hcl",
           "colorReverse": false,
           "colorScale": "rainbow",
           "colorScheme": "element",
           "colorValue": 9474192,
           "defaultAssembly": "",
           "depthWrite": true,
           "diffuse": 16777215,
           "diffuseInterior": false,
           "disableImpostor": false,
           "disablePicking": false,
           "flatShaded": false,
           "interiorColor": 2236962,
           "interiorDarkening": 0,
           "lazy": false,
           "matrix": {
            "elements": [
             1,
             0,
             0,
             0,
             0,
             1,
             0,
             0,
             0,
             0,
             1,
             0,
             0,
             0,
             0,
             1
            ]
           },
           "metalness": 0,
           "opacity": 1,
           "quality": "medium",
           "radiusData": {},
           "radiusScale": 0.5,
           "radiusSize": 1,
           "radiusType": "covalent",
           "roughness": 0.4,
           "sele": "all",
           "side": "double",
           "sphereDetail": 1,
           "useInteriorColor": true,
           "visible": true,
           "wireframe": false
          },
          "type": "spacefill"
         },
         "2": {
          "params": {
           "aspectRatio": 2,
           "assembly": "default",
           "bondScale": 0.4,
           "bondSpacing": 1,
           "clipCenter": {
            "x": 0,
            "y": 0,
            "z": 0
           },
           "clipNear": 0,
           "clipRadius": 0,
           "colorMode": "hcl",
           "colorReverse": false,
           "colorScale": "",
           "colorScheme": "element",
           "colorValue": 9474192,
           "cylinderOnly": false,
           "defaultAssembly": "",
           "depthWrite": true,
           "diffuse": 16777215,
           "diffuseInterior": false,
           "disableImpostor": false,
           "disablePicking": false,
           "flatShaded": false,
           "interiorColor": 2236962,
           "interiorDarkening": 0,
           "lazy": false,
           "lineOnly": false,
           "linewidth": 2,
           "matrix": {
            "elements": [
             1,
             0,
             0,
             0,
             0,
             1,
             0,
             0,
             0,
             0,
             1,
             0,
             0,
             0,
             0,
             1
            ]
           },
           "metalness": 0,
           "multipleBond": "off",
           "opacity": 1,
           "openEnded": true,
           "quality": "medium",
           "radialSegments": 10,
           "radiusData": {},
           "radiusScale": 1,
           "radiusSize": 0.15,
           "radiusType": "size",
           "roughness": 0.4,
           "sele": "all",
           "side": "double",
           "sphereDetail": 1,
           "useInteriorColor": true,
           "visible": true,
           "wireframe": false
          },
          "type": "ball+stick"
         }
        }
       },
       "_ngl_serialize": false,
       "_ngl_version": "2.0.0-dev.36",
       "_ngl_view_id": [
        "5A13362A-7E9B-40D2-B8CD-4F4992707124"
       ],
       "_player_dict": {},
       "_scene_position": {},
       "_scene_rotation": {},
       "_synced_model_ids": [],
       "_synced_repr_model_ids": [],
       "_view_height": "",
       "_view_width": "",
       "background": "white",
       "frame": 0,
       "gui_style": null,
       "layout": "IPY_MODEL_90f0a2e6c4834fc5bb7217f393cbb2a1",
       "max_frame": 3,
       "n_components": 1,
       "picked": {}
      }
     },
     "ad7cf244c3894cc98778987b992a2265": {
      "model_module": "@jupyter-widgets/controls",
      "model_module_version": "1.5.0",
      "model_name": "FloatSliderModel",
      "state": {
       "description": "Ball size",
       "layout": "IPY_MODEL_406048582aa34a4ab8f333e67e3ef757",
       "max": 1.5,
       "step": 0.01,
       "style": "IPY_MODEL_f5220fd21fbf4afba16622cd72a77bf9",
       "value": 0.5
      }
     },
     "adcf9ce5432747dcb8ede0eb805d3281": {
      "model_module": "@jupyter-widgets/controls",
      "model_module_version": "1.5.0",
      "model_name": "DescriptionStyleModel",
      "state": {
       "description_width": ""
      }
     },
     "af44e4a906cb4ff580451e6e731f5a0d": {
      "model_module": "@jupyter-widgets/base",
      "model_module_version": "1.2.0",
      "model_name": "LayoutModel",
      "state": {}
     },
     "b0afa9cec1a740cd9d63fcc1bd04297a": {
      "model_module": "@jupyter-widgets/controls",
      "model_module_version": "1.5.0",
      "model_name": "FloatSliderModel",
      "state": {
       "description": "Charge scale",
       "layout": "IPY_MODEL_c6a4af611be94a7ab3a840c101287cdc",
       "step": 0.1,
       "style": "IPY_MODEL_dcec50be658e49a68748d85eba960b64",
       "value": 1
      }
     },
     "b1037fd5c345450bab0ae4c4f9278d57": {
      "model_module": "@jupyter-widgets/controls",
      "model_module_version": "1.5.0",
      "model_name": "IntSliderModel",
      "state": {
       "layout": "IPY_MODEL_3a1d8a0d55d642ddbffe946e65c5e430",
       "max": 0,
       "style": "IPY_MODEL_ef8604d14b5e48d4a831c011b836c645"
      }
     },
     "b1268382839d43edb1560c596ad2ce8f": {
      "model_module": "@jupyter-widgets/controls",
      "model_module_version": "1.5.0",
      "model_name": "PlayModel",
      "state": {
       "layout": "IPY_MODEL_a937d481f5fe432b8cd17f880783e767",
       "max": 7,
       "style": "IPY_MODEL_967991f6d3534c6bb5c13d7e258016e3"
      }
     },
     "b156f1c013e54fe48e97e63f89be2db9": {
      "model_module": "@jupyter-widgets/controls",
      "model_module_version": "1.5.0",
      "model_name": "LinkModel",
      "state": {
       "source": [
        "IPY_MODEL_ddeab72b841d42598785aab45aa12c65",
        "max"
       ],
       "target": [
        "IPY_MODEL_433ad1b3d3c64513acce98ef9618ee31",
        "max_frame"
       ]
      }
     },
     "b1ce69da7d524483bd86c65d8601488c": {
      "model_module": "@jupyter-widgets/base",
      "model_module_version": "1.2.0",
      "model_name": "LayoutModel",
      "state": {}
     },
     "b219187cfc2942dbaaeac98c5566dbad": {
      "model_module": "@jupyter-widgets/base",
      "model_module_version": "1.2.0",
      "model_name": "LayoutModel",
      "state": {}
     },
     "b238436873a44747a7f31da8d20d37c5": {
      "model_module": "@jupyter-widgets/controls",
      "model_module_version": "1.5.0",
      "model_name": "FloatSliderModel",
      "state": {
       "description": "Force scale",
       "layout": "IPY_MODEL_0b6c922b996a482782838e4071685af1",
       "step": 0.1,
       "style": "IPY_MODEL_ce575186ceb74423992058cc8a9fbc76",
       "value": 0.5
      }
     },
     "b2e9725027524f088011079b2184328d": {
      "model_module": "@jupyter-widgets/base",
      "model_module_version": "1.2.0",
      "model_name": "LayoutModel",
      "state": {}
     },
     "b39a429795094e27badd21c43ae75646": {
      "model_module": "@jupyter-widgets/controls",
      "model_module_version": "1.5.0",
      "model_name": "CheckboxModel",
      "state": {
       "description": "Show force",
       "disabled": false,
       "layout": "IPY_MODEL_381e5d9be233495fa5bd66fdf044f534",
       "style": "IPY_MODEL_31729fa97b414ab5b1fee703c0ffa7cd",
       "value": false
      }
     },
     "b4a5c6659e3342d9a1845e3d2c094031": {
      "model_module": "@jupyter-widgets/controls",
      "model_module_version": "1.5.0",
      "model_name": "DescriptionStyleModel",
      "state": {
       "description_width": ""
      }
     },
     "b4c76db32e1f442da8099dc59486741d": {
      "model_module": "@jupyter-widgets/base",
      "model_module_version": "1.2.0",
      "model_name": "LayoutModel",
      "state": {
       "border": "0px solid black"
      }
     },
     "b4d28bf15caa46419dcd56907f9f82a8": {
      "model_module": "@jupyter-widgets/controls",
      "model_module_version": "1.5.0",
      "model_name": "IntSliderModel",
      "state": {
       "layout": "IPY_MODEL_8e33fb2687084a08a9941f6137a57916",
       "max": 1,
       "style": "IPY_MODEL_d7ec5cadc6e048589c6bfa4f93da9d5d"
      }
     },
     "b4e5d295abd448118921e755740ca450": {
      "model_module": "@jupyter-widgets/base",
      "model_module_version": "1.2.0",
      "model_name": "LayoutModel",
      "state": {}
     },
     "b5c521d8ce194e50ae41753368d00c81": {
      "model_module": "@jupyter-widgets/controls",
      "model_module_version": "1.5.0",
      "model_name": "VBoxModel",
      "state": {
       "children": [
        "IPY_MODEL_c054892602184b5a84398f849abeb44d",
        "IPY_MODEL_7cec00697b15450c80376edf30749694",
        "IPY_MODEL_ce6bdeda77594051a00d4f8a68466452",
        "IPY_MODEL_28799d2931cc457d81f5f041e6e845ca",
        "IPY_MODEL_852d2ab39d3d4a0aafe3ab25ed9a96ac",
        "IPY_MODEL_346a6e81afff46f28e4b6fe0c873e2d9",
        "IPY_MODEL_7340782f69094d12bc59cd736675b7a7",
        "IPY_MODEL_59241132a8e1409e8eea7ee86a65833f",
        "IPY_MODEL_1fbec7e9bd744a53a0df35176df1c8f1",
        "IPY_MODEL_160022d5fb7443a4a5a51adec8563293"
       ],
       "layout": "IPY_MODEL_b2e9725027524f088011079b2184328d"
      }
     },
     "b6c7f595621541bd890bd882e4258b7c": {
      "model_module": "@jupyter-widgets/controls",
      "model_module_version": "1.5.0",
      "model_name": "HBoxModel",
      "state": {
       "children": [
        "IPY_MODEL_f4c636fdd352491498d284203d16dd54",
        "IPY_MODEL_b5c521d8ce194e50ae41753368d00c81"
       ],
       "layout": "IPY_MODEL_0d9c6a845d0d42f2ad3b0bd9ef2bc58b"
      }
     },
     "b71cc0da8be44c9990f4c3ca30d26d80": {
      "model_module": "@jupyter-widgets/base",
      "model_module_version": "1.2.0",
      "model_name": "LayoutModel",
      "state": {}
     },
     "b7499bf592b846d9851746778b20cdb9": {
      "model_module": "@jupyter-widgets/controls",
      "model_module_version": "1.5.0",
      "model_name": "SliderStyleModel",
      "state": {
       "description_width": ""
      }
     },
     "b7e41eb42f4c4773bd68065a920851f2": {
      "model_module": "@jupyter-widgets/controls",
      "model_module_version": "1.5.0",
      "model_name": "DescriptionStyleModel",
      "state": {
       "description_width": ""
      }
     },
     "b84f7b2eca8749e98d98259f18a00ce7": {
      "model_module": "@jupyter-widgets/controls",
      "model_module_version": "1.5.0",
      "model_name": "ButtonModel",
      "state": {
       "description": "Save image",
       "layout": "IPY_MODEL_efe810b4ec044e3f9413908e0a98d41d",
       "style": "IPY_MODEL_12d1d2f6630b4f2482cb920c5ad68348",
       "tooltip": "Save current frame to file.\nCurrently .png and .html are supported.\nIt takes a bit time, please be patient."
      }
     },
     "b86a114319f646b4b980f4b2ecb2c3bc": {
      "model_module": "@jupyter-widgets/controls",
      "model_module_version": "1.5.0",
      "model_name": "LinkModel",
      "state": {
       "source": [
        "IPY_MODEL_7464adb67f8c47369ca8d5492bd2a638",
        "max"
       ],
       "target": [
        "IPY_MODEL_d67547d0f6ee4959a0a446a7c2785674",
        "max_frame"
       ]
      }
     },
     "b96c697fcc364ceb8bbf183a442d9e0c": {
      "model_module": "@jupyter-widgets/base",
      "model_module_version": "1.2.0",
      "model_name": "LayoutModel",
      "state": {}
     },
     "ba5f542aed9c404eb423856ea65fc9af": {
      "model_module": "@jupyter-widgets/base",
      "model_module_version": "1.2.0",
      "model_name": "LayoutModel",
      "state": {}
     },
     "baccd935369841d2bef8680f93d6c2b0": {
      "model_module": "@jupyter-widgets/controls",
      "model_module_version": "1.5.0",
      "model_name": "SliderStyleModel",
      "state": {
       "description_width": ""
      }
     },
     "bcf48404bfd84b57b3def9a51a064e18": {
      "model_module": "@jupyter-widgets/controls",
      "model_module_version": "1.5.0",
      "model_name": "ButtonModel",
      "state": {
       "icon": "compress",
       "layout": "IPY_MODEL_8e6aa776dc7246509f09d2e27c3925a1",
       "style": "IPY_MODEL_73fbc1983b0342578f4aa5321532e481"
      }
     },
     "bd1e81718f284180ae34f4f559a71036": {
      "model_module": "@jupyter-widgets/controls",
      "model_module_version": "1.5.0",
      "model_name": "DropdownModel",
      "state": {
       "_options_labels": [
        " ",
        "picking",
        "random",
        "uniform",
        "atomindex",
        "residueindex",
        "chainindex",
        "modelindex",
        "sstruc",
        "element",
        "resname",
        "bfactor",
        "hydrophobicity",
        "value",
        "volume",
        "occupancy"
       ],
       "description": "Color scheme",
       "index": 9,
       "layout": "IPY_MODEL_27856403cd9b4bb5b3f0409d1230e31c",
       "style": "IPY_MODEL_7085fca45f324f69845dfb274cd249fe"
      }
     },
     "bd4e5f79ea334153a0df081b23e8c7a8": {
      "model_module": "nglview-js-widgets",
      "model_module_version": "3.0.1",
      "model_name": "ColormakerRegistryModel",
      "state": {
       "_msg_ar": [],
       "_msg_q": [],
       "_ready": true,
       "layout": "IPY_MODEL_c9305459291948cb9f937ee0ab043c54"
      }
     },
     "bdc90605abcc484d89f15194fc7694e9": {
      "model_module": "@jupyter-widgets/base",
      "model_module_version": "1.2.0",
      "model_name": "LayoutModel",
      "state": {}
     },
     "beb24acd2ee342bdb6b04bcc8e470665": {
      "model_module": "@jupyter-widgets/base",
      "model_module_version": "1.2.0",
      "model_name": "LayoutModel",
      "state": {}
     },
     "bf2919950ae44420a1db0f8c6caabd66": {
      "model_module": "@jupyter-widgets/controls",
      "model_module_version": "1.5.0",
      "model_name": "IntSliderModel",
      "state": {
       "layout": "IPY_MODEL_631ed3f9f52c4ac690e9eced5018859b",
       "max": 3,
       "style": "IPY_MODEL_0eb3cdc99a834555a3c1cb4a44d0a87f"
      }
     },
     "bf5f55e51cd144cd889e19472322a6f6": {
      "model_module": "@jupyter-widgets/base",
      "model_module_version": "1.2.0",
      "model_name": "LayoutModel",
      "state": {}
     },
     "bfe83f3cf70d456db4abcf579ebf61eb": {
      "model_module": "@jupyter-widgets/controls",
      "model_module_version": "1.5.0",
      "model_name": "DescriptionStyleModel",
      "state": {
       "description_width": ""
      }
     },
     "c054892602184b5a84398f849abeb44d": {
      "model_module": "@jupyter-widgets/controls",
      "model_module_version": "1.5.0",
      "model_name": "DropdownModel",
      "state": {
       "_options_labels": [
        "All",
        "C",
        "H"
       ],
       "description": "Show",
       "index": 0,
       "layout": "IPY_MODEL_fe4a61a91b8340019dbe8735ee421b87",
       "style": "IPY_MODEL_74b2bd84c1424dacb77f6d72b46b1d22"
      }
     },
     "c0daffce7919458b95d77ac27dbdf30b": {
      "model_module": "@jupyter-widgets/base",
      "model_module_version": "1.2.0",
      "model_name": "LayoutModel",
      "state": {}
     },
     "c145cc4694f5479da820457b1fe8ab9f": {
      "model_module": "@jupyter-widgets/controls",
      "model_module_version": "1.5.0",
      "model_name": "DescriptionStyleModel",
      "state": {
       "description_width": ""
      }
     },
     "c14c67581834419286c6e9c85f3a293c": {
      "model_module": "@jupyter-widgets/controls",
      "model_module_version": "1.5.0",
      "model_name": "LinkModel",
      "state": {
       "source": [
        "IPY_MODEL_b1268382839d43edb1560c596ad2ce8f",
        "max"
       ],
       "target": [
        "IPY_MODEL_c983a77fe51b4e788e9ac25063210baa",
        "max_frame"
       ]
      }
     },
     "c1d366da44d6485bbf0fc9cc49a6f65e": {
      "model_module": "@jupyter-widgets/controls",
      "model_module_version": "1.5.0",
      "model_name": "SliderStyleModel",
      "state": {
       "description_width": ""
      }
     },
     "c240a2dbe72c4b5a982aea119c034da1": {
      "model_module": "@jupyter-widgets/controls",
      "model_module_version": "1.5.0",
      "model_name": "FloatSliderModel",
      "state": {
       "description": "Force scale",
       "layout": "IPY_MODEL_5aaea5e13ade42dc9ead4d8346c1c33b",
       "step": 0.1,
       "style": "IPY_MODEL_1f09b254d42c4b08a29ab5e9310522a7",
       "value": 0.5
      }
     },
     "c25b66e995564132ab39b3996c115259": {
      "model_module": "@jupyter-widgets/controls",
      "model_module_version": "1.5.0",
      "model_name": "DescriptionStyleModel",
      "state": {
       "description_width": ""
      }
     },
     "c294d38e766244fd927e328cd0e4abbb": {
      "model_module": "@jupyter-widgets/base",
      "model_module_version": "1.2.0",
      "model_name": "LayoutModel",
      "state": {}
     },
     "c2a0e4388d7a43dc8bb5b5e5fe25423b": {
      "model_module": "@jupyter-widgets/base",
      "model_module_version": "1.2.0",
      "model_name": "LayoutModel",
      "state": {}
     },
     "c358a022d6214f16a6d782098dcd7c43": {
      "model_module": "@jupyter-widgets/base",
      "model_module_version": "1.2.0",
      "model_name": "LayoutModel",
      "state": {}
     },
     "c3d8e4c9c2854af6b09cd9384b09d33f": {
      "model_module": "@jupyter-widgets/controls",
      "model_module_version": "1.5.0",
      "model_name": "LinkModel",
      "state": {
       "source": [
        "IPY_MODEL_b1268382839d43edb1560c596ad2ce8f",
        "value"
       ],
       "target": [
        "IPY_MODEL_ca5414936d124b2186c2d07aa73dd94c",
        "value"
       ]
      }
     },
     "c40896e25e4b4265a3fa7dec4985e9dc": {
      "model_module": "@jupyter-widgets/base",
      "model_module_version": "1.2.0",
      "model_name": "LayoutModel",
      "state": {
       "width": "34px"
      }
     },
     "c593f46b3b6f4559bcceec5b20faaa2c": {
      "model_module": "@jupyter-widgets/controls",
      "model_module_version": "1.5.0",
      "model_name": "CheckboxModel",
      "state": {
       "description": "Show force",
       "disabled": false,
       "layout": "IPY_MODEL_739e9b41f977491f98235102732454f2",
       "style": "IPY_MODEL_19ca7c14eecc473cbe3297d25b493f3f",
       "value": false
      }
     },
     "c6a4af611be94a7ab3a840c101287cdc": {
      "model_module": "@jupyter-widgets/base",
      "model_module_version": "1.2.0",
      "model_name": "LayoutModel",
      "state": {}
     },
     "c6ad720175b44ebface63baf2c64b2fd": {
      "model_module": "@jupyter-widgets/controls",
      "model_module_version": "1.5.0",
      "model_name": "ButtonModel",
      "state": {
       "description": "Save image",
       "layout": "IPY_MODEL_a709f5e58de5489b83ad242aea6e5e08",
       "style": "IPY_MODEL_38979d0e55c247a0b60623bac412e5ce",
       "tooltip": "Save current frame to file.\nCurrently .png and .html are supported.\nIt takes a bit time, please be patient."
      }
     },
     "c717c7cd4e0d4aa093db333cf54c5a72": {
      "model_module": "@jupyter-widgets/base",
      "model_module_version": "1.2.0",
      "model_name": "LayoutModel",
      "state": {}
     },
     "c836a9e5b2784799985597016761de5c": {
      "model_module": "@jupyter-widgets/controls",
      "model_module_version": "1.5.0",
      "model_name": "LinkModel",
      "state": {
       "source": [
        "IPY_MODEL_efe36c13564c44dabcd156c2f55ac111",
        "value"
       ],
       "target": [
        "IPY_MODEL_f6d1e15c1d724d87b74f462a628b368b",
        "frame"
       ]
      }
     },
     "c84b2a9489a346b78b32046ff85358c4": {
      "model_module": "@jupyter-widgets/base",
      "model_module_version": "1.2.0",
      "model_name": "LayoutModel",
      "state": {}
     },
     "c891952829684f499c12b49be0f3a1bd": {
      "model_module": "@jupyter-widgets/output",
      "model_module_version": "1.0.0",
      "model_name": "OutputModel",
      "state": {
       "layout": "IPY_MODEL_265c5c1cf6bc431b9c95087a1a180d87"
      }
     },
     "c8b6478150ec45179debc897e8920a38": {
      "model_module": "@jupyter-widgets/controls",
      "model_module_version": "1.5.0",
      "model_name": "LinkModel",
      "state": {
       "source": [
        "IPY_MODEL_7464adb67f8c47369ca8d5492bd2a638",
        "value"
       ],
       "target": [
        "IPY_MODEL_d67547d0f6ee4959a0a446a7c2785674",
        "frame"
       ]
      }
     },
     "c9305459291948cb9f937ee0ab043c54": {
      "model_module": "@jupyter-widgets/base",
      "model_module_version": "1.2.0",
      "model_name": "LayoutModel",
      "state": {}
     },
     "c95f5aff8974404699e8b90df451aa69": {
      "model_module": "@jupyter-widgets/controls",
      "model_module_version": "1.5.0",
      "model_name": "PlayModel",
      "state": {
       "layout": "IPY_MODEL_f42ee511ca7b49dba59dcbd426adb018",
       "max": 3,
       "style": "IPY_MODEL_de197f3714494f65ab968f4ed4b7512a"
      }
     },
     "c983a77fe51b4e788e9ac25063210baa": {
      "model_module": "nglview-js-widgets",
      "model_module_version": "3.0.1",
      "model_name": "NGLModel",
      "state": {
       "_camera_orientation": [
        -0.1006022045906352,
        -0.05417138460680579,
        -1.457695523487918,
        0,
        -0.02955766118088913,
        1.4609338361944912,
        -0.05225181913572556,
        0,
        1.4584022499888183,
        0.02587216703831248,
        -0.10161244941306097,
        0,
        -0.00013141821247997066,
        0.003544183238027582,
        -0.4999372348709593,
        1
       ],
       "_camera_str": "orthographic",
       "_gui_theme": null,
       "_ibtn_fullscreen": "IPY_MODEL_6555c537bc4448cca9820cbd7bd5bb8e",
       "_igui": null,
       "_iplayer": "IPY_MODEL_1a5401537a754143a71e86457ccb7e97",
       "_ngl_color_dict": {},
       "_ngl_coordinate_resource": {},
       "_ngl_full_stage_parameters": {
        "ambientColor": 14540253,
        "ambientIntensity": 0.2,
        "backgroundColor": "white",
        "cameraEyeSep": 0.3,
        "cameraFov": 40,
        "cameraType": "orthographic",
        "clipDist": 0,
        "clipFar": 100,
        "clipNear": 0,
        "fogFar": 100,
        "fogNear": 50,
        "hoverTimeout": 0,
        "impostor": true,
        "lightColor": 14540253,
        "lightIntensity": 1,
        "mousePreset": "default",
        "panSpeed": 1,
        "quality": "medium",
        "rotateSpeed": 2,
        "sampleLevel": 0,
        "tooltip": true,
        "workerDefault": true,
        "zoomSpeed": 1.2
       },
       "_ngl_msg_archive": [
        {
         "args": [
          {
           "binary": false,
           "data": "MODEL     1\nATOM      1    H MOL     1       0.000   0.000   0.000  1.00  0.00           H  \nATOM      2    H MOL     1       0.000   0.000   1.000  1.00  0.00           H  \nENDMDL\n",
           "type": "blob"
          }
         ],
         "kwargs": {
          "defaultRepresentation": false,
          "ext": "pdb"
         },
         "methodName": "loadFile",
         "reconstruc_color_scheme": false,
         "target": "Stage",
         "type": "call_method"
        },
        {
         "args": [
          "400px",
          "300px"
         ],
         "kwargs": {},
         "methodName": "setSize",
         "reconstruc_color_scheme": false,
         "target": "Widget",
         "type": "call_method"
        },
        {
         "args": [
          "unitcell"
         ],
         "component_index": 0,
         "kwargs": {
          "sele": "all"
         },
         "methodName": "addRepresentation",
         "reconstruc_color_scheme": false,
         "target": "compList",
         "type": "call_method"
        },
        {
         "args": [
          "spacefill"
         ],
         "component_index": 0,
         "kwargs": {
          "sele": "all"
         },
         "methodName": "addRepresentation",
         "reconstruc_color_scheme": false,
         "target": "compList",
         "type": "call_method"
        },
        {
         "args": [],
         "kwargs": {
          "cameraType": "orthographic"
         },
         "methodName": "setParameters",
         "reconstruc_color_scheme": false,
         "target": "Stage",
         "type": "call_method"
        },
        {
         "args": [
          {
           "clipDist": 0
          }
         ],
         "kwargs": {},
         "methodName": "setParameters",
         "reconstruc_color_scheme": false,
         "target": "Widget",
         "type": "call_method"
        },
        {
         "args": [
          "spacefill",
          0
         ],
         "kwargs": {
          "colorScale": "rainbow",
          "colorScheme": "element",
          "radiusScale": 0.5,
          "radiusType": "covalent"
         },
         "methodName": "updateRepresentationsByName",
         "reconstruc_color_scheme": false,
         "target": "Widget",
         "type": "call_method"
        },
        {
         "args": [
          "this._Q = [[1.0, 0.0, 0.0], [0.0, 1.0, 0.0], [0.0, 0.0, 1.0]]\n    var tooltip = document.createElement('div')\n    Object.assign(tooltip.style, {\n      display: 'none',\n      position: 'fixed',\n      zIndex: 10,\n      pointerEvents: 'none',\n      backgroundColor: 'rgba( 0, 0, 0, 0.6 )',\n      color: 'lightgrey',\n      padding: '8px',\n      fontFamily: 'sans-serif'\n    })\n    document.body.appendChild(tooltip)\n\n    var that = this\n    this.stage.mouseControls.remove('hoverPick')\n    this.stage.signals.hovered.add(function (pickingProxy) {\n      if (pickingProxy && (pickingProxy.atom || pickingProxy.bond)) {\n        var atom = pickingProxy.atom || pickingProxy.closestBondAtom\n        var mp = pickingProxy.mouse.position\n        //tooltip.innerText = atom.element + ' i=' + atom.index + ' (' + atom.x.toFixed(2) +  ', ' + atom.y.toFixed(2) +  ', ' + atom.z.toFixed(2) + ')'\n        //var pos = that._atoms_pos[atom.index]\n        var Q = that._Q\n        var pos_x = Q[0][0] * atom.x + Q[0][1] * atom.y + Q[0][2] * atom.z \n        var pos_y = Q[1][0] * atom.x + Q[1][1] * atom.y + Q[1][2] * atom.z\n        var pos_z = Q[2][0] * atom.x + Q[2][1] * atom.y + Q[2][2] * atom.z\n        tooltip.innerText = 'i=' + atom.index + ' ' + atom.element + ' (' + pos_x.toFixed(2) +  ', ' + pos_y.toFixed(2) +  ', ' + pos_z.toFixed(2) + ')'\n        tooltip.style.bottom = window.innerHeight - mp.y + 3 + 'px'\n        tooltip.style.left = mp.x + 3 + 'px'\n        tooltip.style.display = 'block'\n      } else {\n        tooltip.style.display = 'none'\n      }\n    })\n    "
         ],
         "kwargs": {},
         "methodName": "executeCode",
         "reconstruc_color_scheme": false,
         "target": "Widget",
         "type": "call_method"
        },
        {
         "args": [
          "ball+stick"
         ],
         "component_index": 0,
         "kwargs": {
          "sele": "all"
         },
         "methodName": "addRepresentation",
         "reconstruc_color_scheme": false,
         "target": "compList",
         "type": "call_method"
        }
       ],
       "_ngl_original_stage_parameters": {
        "ambientColor": 14540253,
        "ambientIntensity": 0.2,
        "backgroundColor": "white",
        "cameraEyeSep": 0.3,
        "cameraFov": 40,
        "cameraType": "perspective",
        "clipDist": 10,
        "clipFar": 100,
        "clipNear": 0,
        "fogFar": 100,
        "fogNear": 50,
        "hoverTimeout": 0,
        "impostor": true,
        "lightColor": 14540253,
        "lightIntensity": 1,
        "mousePreset": "default",
        "panSpeed": 1,
        "quality": "medium",
        "rotateSpeed": 2,
        "sampleLevel": 0,
        "tooltip": true,
        "workerDefault": true,
        "zoomSpeed": 1.2
       },
       "_ngl_repr_dict": {
        "0": {
         "0": {
          "params": {
           "clipCenter": {
            "x": 0,
            "y": 0,
            "z": 0
           },
           "clipNear": 0,
           "clipRadius": 0,
           "colorMode": "hcl",
           "colorReverse": false,
           "colorScale": "",
           "colorScheme": "element",
           "colorValue": "orange",
           "defaultAssembly": "",
           "depthWrite": true,
           "diffuse": 16777215,
           "diffuseInterior": false,
           "disableImpostor": false,
           "disablePicking": false,
           "flatShaded": false,
           "interiorColor": 2236962,
           "interiorDarkening": 0,
           "lazy": false,
           "matrix": {
            "elements": [
             1,
             0,
             0,
             0,
             0,
             1,
             0,
             0,
             0,
             0,
             1,
             0,
             0,
             0,
             0,
             1
            ]
           },
           "metalness": 0,
           "opacity": 1,
           "quality": "medium",
           "radialSegments": 10,
           "radiusData": {},
           "radiusScale": 1,
           "radiusSize": 0.5,
           "radiusType": "vdw",
           "roughness": 0.4,
           "sele": "all",
           "side": "double",
           "sphereDetail": 1,
           "useInteriorColor": true,
           "visible": true,
           "wireframe": false
          },
          "type": "unitcell"
         },
         "1": {
          "params": {
           "assembly": "default",
           "clipCenter": {
            "x": 0,
            "y": 0,
            "z": 0
           },
           "clipNear": 0,
           "clipRadius": 0,
           "colorMode": "hcl",
           "colorReverse": false,
           "colorScale": "rainbow",
           "colorScheme": "element",
           "colorValue": 9474192,
           "defaultAssembly": "",
           "depthWrite": true,
           "diffuse": 16777215,
           "diffuseInterior": false,
           "disableImpostor": false,
           "disablePicking": false,
           "flatShaded": false,
           "interiorColor": 2236962,
           "interiorDarkening": 0,
           "lazy": false,
           "matrix": {
            "elements": [
             1,
             0,
             0,
             0,
             0,
             1,
             0,
             0,
             0,
             0,
             1,
             0,
             0,
             0,
             0,
             1
            ]
           },
           "metalness": 0,
           "opacity": 1,
           "quality": "medium",
           "radiusData": {},
           "radiusScale": 0.5,
           "radiusSize": 1,
           "radiusType": "covalent",
           "roughness": 0.4,
           "sele": "all",
           "side": "double",
           "sphereDetail": 1,
           "useInteriorColor": true,
           "visible": true,
           "wireframe": false
          },
          "type": "spacefill"
         },
         "2": {
          "params": {
           "aspectRatio": 2,
           "assembly": "default",
           "bondScale": 0.4,
           "bondSpacing": 1,
           "clipCenter": {
            "x": 0,
            "y": 0,
            "z": 0
           },
           "clipNear": 0,
           "clipRadius": 0,
           "colorMode": "hcl",
           "colorReverse": false,
           "colorScale": "",
           "colorScheme": "element",
           "colorValue": 9474192,
           "cylinderOnly": false,
           "defaultAssembly": "",
           "depthWrite": true,
           "diffuse": 16777215,
           "diffuseInterior": false,
           "disableImpostor": false,
           "disablePicking": false,
           "flatShaded": false,
           "interiorColor": 2236962,
           "interiorDarkening": 0,
           "lazy": false,
           "lineOnly": false,
           "linewidth": 2,
           "matrix": {
            "elements": [
             1,
             0,
             0,
             0,
             0,
             1,
             0,
             0,
             0,
             0,
             1,
             0,
             0,
             0,
             0,
             1
            ]
           },
           "metalness": 0,
           "multipleBond": "off",
           "opacity": 1,
           "openEnded": true,
           "quality": "medium",
           "radialSegments": 10,
           "radiusData": {},
           "radiusScale": 1,
           "radiusSize": 0.15,
           "radiusType": "size",
           "roughness": 0.4,
           "sele": "all",
           "side": "double",
           "sphereDetail": 1,
           "useInteriorColor": true,
           "visible": true,
           "wireframe": false
          },
          "type": "ball+stick"
         }
        }
       },
       "_ngl_serialize": false,
       "_ngl_version": "2.0.0-dev.36",
       "_ngl_view_id": [
        "73DCB96A-2694-4C71-B3AD-F6D23B6E295C"
       ],
       "_player_dict": {},
       "_scene_position": {},
       "_scene_rotation": {},
       "_synced_model_ids": [],
       "_synced_repr_model_ids": [],
       "_view_height": "",
       "_view_width": "",
       "background": "white",
       "frame": 0,
       "gui_style": null,
       "layout": "IPY_MODEL_894343830a5841a3bdd15afebe887ef7",
       "max_frame": 7,
       "n_components": 1,
       "picked": {
        "atom1": {
         "altloc": "",
         "atomname": "H",
         "bfactor": 0,
         "chainname": "A",
         "covalent": 0.31,
         "element": "H",
         "hetero": 0,
         "index": 0,
         "modelIndex": 0,
         "name": "[MOL]1:A.H",
         "residueIndex": 0,
         "resname": "MOL",
         "resno": 1,
         "serial": 1,
         "vdw": 1.1,
         "x": 0,
         "y": 0,
         "z": 0
        },
        "component": 0
       }
      }
     },
     "c990c3243112489ca05fe09cd954da2f": {
      "model_module": "@jupyter-widgets/controls",
      "model_module_version": "1.5.0",
      "model_name": "FloatSliderModel",
      "state": {
       "description": "Charge scale",
       "layout": "IPY_MODEL_01ec6759b2b1427b8a35c684b4b57a81",
       "step": 0.1,
       "style": "IPY_MODEL_41beae1177714f8aad7b66e13ebcc1dc",
       "value": 1
      }
     },
     "ca5414936d124b2186c2d07aa73dd94c": {
      "model_module": "@jupyter-widgets/controls",
      "model_module_version": "1.5.0",
      "model_name": "IntSliderModel",
      "state": {
       "layout": "IPY_MODEL_5972e9134bda4ed0b62d98f8003f7a45",
       "max": 7,
       "style": "IPY_MODEL_5c8c940833f149319416800179839cda"
      }
     },
     "ca5c3822dd2b494ca79ad0e18078eafa": {
      "model_module": "@jupyter-widgets/controls",
      "model_module_version": "1.5.0",
      "model_name": "FloatSliderModel",
      "state": {
       "description": "Ball size",
       "layout": "IPY_MODEL_d3e5708cc0a6483b84decc944a0ac9dd",
       "max": 1.5,
       "step": 0.01,
       "style": "IPY_MODEL_baccd935369841d2bef8680f93d6c2b0",
       "value": 0.5
      }
     },
     "cb1a801f6f044399b8e6d26e331bda8d": {
      "model_module": "@jupyter-widgets/base",
      "model_module_version": "1.2.0",
      "model_name": "LayoutModel",
      "state": {}
     },
     "cb1e8687d5e64abeb0d15c5b7e127ad9": {
      "model_module": "@jupyter-widgets/controls",
      "model_module_version": "1.5.0",
      "model_name": "SliderStyleModel",
      "state": {
       "description_width": ""
      }
     },
     "cb2eac3621a94c77827caee343b7c502": {
      "model_module": "@jupyter-widgets/controls",
      "model_module_version": "1.5.0",
      "model_name": "SliderStyleModel",
      "state": {
       "description_width": ""
      }
     },
     "cba38696a5ad48b4967093ba2fa33f96": {
      "model_module": "@jupyter-widgets/base",
      "model_module_version": "1.2.0",
      "model_name": "LayoutModel",
      "state": {}
     },
     "cc0242dacc804f61bc456b77e93e6a3e": {
      "model_module": "@jupyter-widgets/controls",
      "model_module_version": "1.5.0",
      "model_name": "PlayModel",
      "state": {
       "layout": "IPY_MODEL_c358a022d6214f16a6d782098dcd7c43",
       "max": 0,
       "style": "IPY_MODEL_abaea12ce8274cb39c05cd383e01eda3"
      }
     },
     "ccab55adf42640eb97e1250281470e54": {
      "model_module": "@jupyter-widgets/base",
      "model_module_version": "1.2.0",
      "model_name": "LayoutModel",
      "state": {}
     },
     "ccbc5d79d23f48cb8e5d9a35b22aad6e": {
      "model_module": "@jupyter-widgets/controls",
      "model_module_version": "1.5.0",
      "model_name": "LinkModel",
      "state": {
       "source": [
        "IPY_MODEL_2d7fe966e03b4c06b999bd70f9c6314b",
        "max"
       ],
       "target": [
        "IPY_MODEL_0fc5e697b20a48a39242d1b2d75b66a9",
        "max_frame"
       ]
      }
     },
     "cd0af8a4e44f4ef592fa191cd119c787": {
      "model_module": "@jupyter-widgets/base",
      "model_module_version": "1.2.0",
      "model_name": "LayoutModel",
      "state": {}
     },
     "cd2f183ab9054718802390b614a7166b": {
      "model_module": "@jupyter-widgets/base",
      "model_module_version": "1.2.0",
      "model_name": "LayoutModel",
      "state": {}
     },
     "cd5de0f400484fd29a8c050ebd45cdea": {
      "model_module": "@jupyter-widgets/controls",
      "model_module_version": "1.5.0",
      "model_name": "SliderStyleModel",
      "state": {
       "description_width": ""
      }
     },
     "ce575186ceb74423992058cc8a9fbc76": {
      "model_module": "@jupyter-widgets/controls",
      "model_module_version": "1.5.0",
      "model_name": "SliderStyleModel",
      "state": {
       "description_width": ""
      }
     },
     "ce6bdeda77594051a00d4f8a68466452": {
      "model_module": "@jupyter-widgets/controls",
      "model_module_version": "1.5.0",
      "model_name": "FloatSliderModel",
      "state": {
       "description": "Ball size",
       "layout": "IPY_MODEL_1e04ceafa75444039d91d072c749b0b8",
       "max": 1.5,
       "step": 0.01,
       "style": "IPY_MODEL_72b277a5a13c43948d60c57870db1b80",
       "value": 0.5
      }
     },
     "cecaca3fb14b4b268a1f15d22957d182": {
      "model_module": "@jupyter-widgets/controls",
      "model_module_version": "1.5.0",
      "model_name": "ImageModel",
      "state": {
       "layout": "IPY_MODEL_3b67e06e1de1460d8a7da99a35d1c7f6",
       "width": "900.0"
      }
     },
     "cf7adaba84924491a21d29fe4551e086": {
      "model_module": "@jupyter-widgets/base",
      "model_module_version": "1.2.0",
      "model_name": "LayoutModel",
      "state": {}
     },
     "d0392d6ef1dc4358ba7221baea9f91e5": {
      "model_module": "@jupyter-widgets/base",
      "model_module_version": "1.2.0",
      "model_name": "LayoutModel",
      "state": {}
     },
     "d058693cd02a4edd9845ec4d8abbca7b": {
      "model_module": "@jupyter-widgets/base",
      "model_module_version": "1.2.0",
      "model_name": "LayoutModel",
      "state": {}
     },
     "d0edd487954741718dba99a085f58785": {
      "model_module": "@jupyter-widgets/controls",
      "model_module_version": "1.5.0",
      "model_name": "LinkModel",
      "state": {
       "source": [
        "IPY_MODEL_cc0242dacc804f61bc456b77e93e6a3e",
        "max"
       ],
       "target": [
        "IPY_MODEL_f4c636fdd352491498d284203d16dd54",
        "max_frame"
       ]
      }
     },
     "d10b443a9c334f21ab1bf0ff0956080f": {
      "model_module": "@jupyter-widgets/base",
      "model_module_version": "1.2.0",
      "model_name": "LayoutModel",
      "state": {}
     },
     "d1963884ffbc4d728d6f04487de3535e": {
      "model_module": "@jupyter-widgets/base",
      "model_module_version": "1.2.0",
      "model_name": "LayoutModel",
      "state": {}
     },
     "d2fb42b066c545e98632150db9fba32f": {
      "model_module": "@jupyter-widgets/base",
      "model_module_version": "1.2.0",
      "model_name": "LayoutModel",
      "state": {}
     },
     "d315c0badf554c0b9bf7384c9b9c7ee1": {
      "model_module": "@jupyter-widgets/controls",
      "model_module_version": "1.5.0",
      "model_name": "CheckboxModel",
      "state": {
       "description": "Show charge",
       "disabled": false,
       "layout": "IPY_MODEL_548510f7d8644b9085224e1e409021b2",
       "style": "IPY_MODEL_81a7c0ee420a4f85b34ed76fb1afc31d",
       "value": false
      }
     },
     "d3e4c78b2b3947f2bfe05fddc900de99": {
      "model_module": "@jupyter-widgets/base",
      "model_module_version": "1.2.0",
      "model_name": "LayoutModel",
      "state": {}
     },
     "d3e5708cc0a6483b84decc944a0ac9dd": {
      "model_module": "@jupyter-widgets/base",
      "model_module_version": "1.2.0",
      "model_name": "LayoutModel",
      "state": {}
     },
     "d3fee9f354314e669a6e4dc1c41f08ef": {
      "model_module": "@jupyter-widgets/controls",
      "model_module_version": "1.5.0",
      "model_name": "FloatSliderModel",
      "state": {
       "description": "Force scale",
       "layout": "IPY_MODEL_f1615ee5c1574a2db2a883e1384dc166",
       "step": 0.1,
       "style": "IPY_MODEL_6f8b3d7e222140f1a42e6bf626b635f2",
       "value": 0.5
      }
     },
     "d42f95f7dc724f66a41f837d7f35de18": {
      "model_module": "@jupyter-widgets/controls",
      "model_module_version": "1.5.0",
      "model_name": "CheckboxModel",
      "state": {
       "description": "Show charge",
       "disabled": false,
       "layout": "IPY_MODEL_99f0341705b74afb8c3d77457b45ceb5",
       "style": "IPY_MODEL_6327f294219043c5bddbb83839c3eaf9",
       "value": false
      }
     },
     "d47cb32e4824426391d1085babe33666": {
      "model_module": "@jupyter-widgets/base",
      "model_module_version": "1.2.0",
      "model_name": "LayoutModel",
      "state": {}
     },
     "d4c04a39eb87491593e373dbe4f59dad": {
      "model_module": "@jupyter-widgets/base",
      "model_module_version": "1.2.0",
      "model_name": "LayoutModel",
      "state": {
       "border": "0px solid black"
      }
     },
     "d4d0f7d4dc3341dda48f14467a776c53": {
      "model_module": "@jupyter-widgets/controls",
      "model_module_version": "1.5.0",
      "model_name": "IntSliderModel",
      "state": {
       "layout": "IPY_MODEL_b219187cfc2942dbaaeac98c5566dbad",
       "max": 7,
       "style": "IPY_MODEL_8d584705373e4ca683f0e1021c4df9f6"
      }
     },
     "d55093d677dd44cf8bd236989b1064ac": {
      "model_module": "@jupyter-widgets/controls",
      "model_module_version": "1.5.0",
      "model_name": "DescriptionStyleModel",
      "state": {
       "description_width": ""
      }
     },
     "d55daa8674014e53bb6b671543bd63a9": {
      "model_module": "@jupyter-widgets/base",
      "model_module_version": "1.2.0",
      "model_name": "LayoutModel",
      "state": {}
     },
     "d63b12be2e464516956c85d01132c82d": {
      "model_module": "@jupyter-widgets/controls",
      "model_module_version": "1.5.0",
      "model_name": "ButtonModel",
      "state": {
       "description": "Download image",
       "layout": "IPY_MODEL_019c1a6aad4a45d1b143cc148cb271cc",
       "style": "IPY_MODEL_a2250f8467ae47d997ade879b72b6650",
       "tooltip": "Download current frame to your local PC"
      }
     },
     "d656ab049b71490fb3c4724594b1ef94": {
      "model_module": "@jupyter-widgets/controls",
      "model_module_version": "1.5.0",
      "model_name": "SliderStyleModel",
      "state": {
       "description_width": ""
      }
     },
     "d67547d0f6ee4959a0a446a7c2785674": {
      "model_module": "nglview-js-widgets",
      "model_module_version": "3.0.1",
      "model_name": "NGLModel",
      "state": {
       "_camera_orientation": [
        9.64833110444117,
        0,
        0,
        0,
        0,
        9.64833110444117,
        0,
        0,
        0,
        0,
        9.64833110444117,
        0,
        0,
        0,
        0,
        1
       ],
       "_camera_str": "orthographic",
       "_gui_theme": null,
       "_ibtn_fullscreen": "IPY_MODEL_60dcde9537ba44bd876798cfd1686852",
       "_igui": null,
       "_iplayer": "IPY_MODEL_212c9faa38584b7e885efe7858aa10f0",
       "_ngl_color_dict": {},
       "_ngl_coordinate_resource": {},
       "_ngl_full_stage_parameters": {
        "ambientColor": 14540253,
        "ambientIntensity": 0.2,
        "backgroundColor": "white",
        "cameraEyeSep": 0.3,
        "cameraFov": 40,
        "cameraType": "orthographic",
        "clipDist": 0,
        "clipFar": 100,
        "clipNear": 0,
        "fogFar": 100,
        "fogNear": 50,
        "hoverTimeout": 0,
        "impostor": true,
        "lightColor": 14540253,
        "lightIntensity": 1,
        "mousePreset": "default",
        "panSpeed": 1,
        "quality": "medium",
        "rotateSpeed": 2,
        "sampleLevel": 0,
        "tooltip": true,
        "workerDefault": true,
        "zoomSpeed": 1.2
       },
       "_ngl_msg_archive": [
        {
         "args": [
          {
           "binary": false,
           "data": "MODEL     1\nATOM      1    C MOL     1      -1.290  -0.694   0.225  1.00  0.00           C  \nATOM      2    C MOL     1      -1.246   0.770  -0.225  1.00  0.00           C  \nATOM      3    C MOL     1      -0.044  -1.464  -0.225  1.00  0.00           C  \nATOM      4    C MOL     1       0.044   1.464   0.225  1.00  0.00           C  \nATOM      5    C MOL     1       1.246  -0.770   0.225  1.00  0.00           C  \nATOM      6    C MOL     1       1.290   0.694  -0.225  1.00  0.00           C  \nATOM      7    H MOL     1      -2.190  -1.179  -0.170  1.00  0.00           H  \nATOM      8    H MOL     1      -1.360  -0.732   1.323  1.00  0.00           H  \nATOM      9    H MOL     1      -1.314   0.812  -1.322  1.00  0.00           H  \nATOM     10    H MOL     1      -2.116   1.307   0.170  1.00  0.00           H  \nATOM     11    H MOL     1      -0.046  -1.544  -1.323  1.00  0.00           H  \nATOM     12    H MOL     1      -0.074  -2.486   0.170  1.00  0.00           H  \nATOM     13    H MOL     1       0.046   1.544   1.322  1.00  0.00           H  \nATOM     14    H MOL     1       0.074   2.486  -0.170  1.00  0.00           H  \nATOM     15    H MOL     1       1.314  -0.812   1.322  1.00  0.00           H  \nATOM     16    H MOL     1       2.116  -1.307  -0.170  1.00  0.00           H  \nATOM     17    H MOL     1       2.190   1.179   0.170  1.00  0.00           H  \nATOM     18    H MOL     1       1.360   0.732  -1.322  1.00  0.00           H  \nENDMDL\n",
           "type": "blob"
          }
         ],
         "kwargs": {
          "defaultRepresentation": false,
          "ext": "pdb"
         },
         "methodName": "loadFile",
         "reconstruc_color_scheme": false,
         "target": "Stage",
         "type": "call_method"
        },
        {
         "args": [
          "400px",
          "300px"
         ],
         "kwargs": {},
         "methodName": "setSize",
         "reconstruc_color_scheme": false,
         "target": "Widget",
         "type": "call_method"
        },
        {
         "args": [
          "unitcell"
         ],
         "component_index": 0,
         "kwargs": {
          "sele": "all"
         },
         "methodName": "addRepresentation",
         "reconstruc_color_scheme": false,
         "target": "compList",
         "type": "call_method"
        },
        {
         "args": [
          "spacefill"
         ],
         "component_index": 0,
         "kwargs": {
          "sele": "all"
         },
         "methodName": "addRepresentation",
         "reconstruc_color_scheme": false,
         "target": "compList",
         "type": "call_method"
        },
        {
         "args": [],
         "kwargs": {
          "cameraType": "orthographic"
         },
         "methodName": "setParameters",
         "reconstruc_color_scheme": false,
         "target": "Stage",
         "type": "call_method"
        },
        {
         "args": [
          {
           "clipDist": 0
          }
         ],
         "kwargs": {},
         "methodName": "setParameters",
         "reconstruc_color_scheme": false,
         "target": "Widget",
         "type": "call_method"
        },
        {
         "args": [
          "spacefill",
          0
         ],
         "kwargs": {
          "colorScale": "rainbow",
          "colorScheme": "element",
          "radiusScale": 0.5,
          "radiusType": "covalent"
         },
         "methodName": "updateRepresentationsByName",
         "reconstruc_color_scheme": false,
         "target": "Widget",
         "type": "call_method"
        },
        {
         "args": [
          "this._Q = [[1.0, 0.0, 0.0], [0.0, 1.0, 0.0], [0.0, 0.0, 1.0]]\n    var tooltip = document.createElement('div')\n    Object.assign(tooltip.style, {\n      display: 'none',\n      position: 'fixed',\n      zIndex: 10,\n      pointerEvents: 'none',\n      backgroundColor: 'rgba( 0, 0, 0, 0.6 )',\n      color: 'lightgrey',\n      padding: '8px',\n      fontFamily: 'sans-serif'\n    })\n    document.body.appendChild(tooltip)\n\n    var that = this\n    this.stage.mouseControls.remove('hoverPick')\n    this.stage.signals.hovered.add(function (pickingProxy) {\n      if (pickingProxy && (pickingProxy.atom || pickingProxy.bond)) {\n        var atom = pickingProxy.atom || pickingProxy.closestBondAtom\n        var mp = pickingProxy.mouse.position\n        //tooltip.innerText = atom.element + ' i=' + atom.index + ' (' + atom.x.toFixed(2) +  ', ' + atom.y.toFixed(2) +  ', ' + atom.z.toFixed(2) + ')'\n        //var pos = that._atoms_pos[atom.index]\n        var Q = that._Q\n        var pos_x = Q[0][0] * atom.x + Q[0][1] * atom.y + Q[0][2] * atom.z \n        var pos_y = Q[1][0] * atom.x + Q[1][1] * atom.y + Q[1][2] * atom.z\n        var pos_z = Q[2][0] * atom.x + Q[2][1] * atom.y + Q[2][2] * atom.z\n        tooltip.innerText = 'i=' + atom.index + ' ' + atom.element + ' (' + pos_x.toFixed(2) +  ', ' + pos_y.toFixed(2) +  ', ' + pos_z.toFixed(2) + ')'\n        tooltip.style.bottom = window.innerHeight - mp.y + 3 + 'px'\n        tooltip.style.left = mp.x + 3 + 'px'\n        tooltip.style.display = 'block'\n      } else {\n        tooltip.style.display = 'none'\n      }\n    })\n    "
         ],
         "kwargs": {},
         "methodName": "executeCode",
         "reconstruc_color_scheme": false,
         "target": "Widget",
         "type": "call_method"
        },
        {
         "args": [
          "ball+stick"
         ],
         "component_index": 0,
         "kwargs": {
          "sele": "all"
         },
         "methodName": "addRepresentation",
         "reconstruc_color_scheme": false,
         "target": "compList",
         "type": "call_method"
        }
       ],
       "_ngl_original_stage_parameters": {
        "ambientColor": 14540253,
        "ambientIntensity": 0.2,
        "backgroundColor": "white",
        "cameraEyeSep": 0.3,
        "cameraFov": 40,
        "cameraType": "perspective",
        "clipDist": 10,
        "clipFar": 100,
        "clipNear": 0,
        "fogFar": 100,
        "fogNear": 50,
        "hoverTimeout": 0,
        "impostor": true,
        "lightColor": 14540253,
        "lightIntensity": 1,
        "mousePreset": "default",
        "panSpeed": 1,
        "quality": "medium",
        "rotateSpeed": 2,
        "sampleLevel": 0,
        "tooltip": true,
        "workerDefault": true,
        "zoomSpeed": 1.2
       },
       "_ngl_repr_dict": {
        "0": {
         "0": {
          "params": {
           "clipCenter": {
            "x": 0,
            "y": 0,
            "z": 0
           },
           "clipNear": 0,
           "clipRadius": 0,
           "colorMode": "hcl",
           "colorReverse": false,
           "colorScale": "",
           "colorScheme": "element",
           "colorValue": "orange",
           "defaultAssembly": "",
           "depthWrite": true,
           "diffuse": 16777215,
           "diffuseInterior": false,
           "disableImpostor": false,
           "disablePicking": false,
           "flatShaded": false,
           "interiorColor": 2236962,
           "interiorDarkening": 0,
           "lazy": false,
           "matrix": {
            "elements": [
             1,
             0,
             0,
             0,
             0,
             1,
             0,
             0,
             0,
             0,
             1,
             0,
             0,
             0,
             0,
             1
            ]
           },
           "metalness": 0,
           "opacity": 1,
           "quality": "medium",
           "radialSegments": 10,
           "radiusData": {},
           "radiusScale": 1,
           "radiusSize": 0.5,
           "radiusType": "vdw",
           "roughness": 0.4,
           "sele": "all",
           "side": "double",
           "sphereDetail": 1,
           "useInteriorColor": true,
           "visible": true,
           "wireframe": false
          },
          "type": "unitcell"
         },
         "1": {
          "params": {
           "assembly": "default",
           "clipCenter": {
            "x": 0,
            "y": 0,
            "z": 0
           },
           "clipNear": 0,
           "clipRadius": 0,
           "colorMode": "hcl",
           "colorReverse": false,
           "colorScale": "rainbow",
           "colorScheme": "element",
           "colorValue": 9474192,
           "defaultAssembly": "",
           "depthWrite": true,
           "diffuse": 16777215,
           "diffuseInterior": false,
           "disableImpostor": false,
           "disablePicking": false,
           "flatShaded": false,
           "interiorColor": 2236962,
           "interiorDarkening": 0,
           "lazy": false,
           "matrix": {
            "elements": [
             1,
             0,
             0,
             0,
             0,
             1,
             0,
             0,
             0,
             0,
             1,
             0,
             0,
             0,
             0,
             1
            ]
           },
           "metalness": 0,
           "opacity": 1,
           "quality": "medium",
           "radiusData": {},
           "radiusScale": 0.5,
           "radiusSize": 1,
           "radiusType": "covalent",
           "roughness": 0.4,
           "sele": "all",
           "side": "double",
           "sphereDetail": 1,
           "useInteriorColor": true,
           "visible": true,
           "wireframe": false
          },
          "type": "spacefill"
         },
         "2": {
          "params": {
           "aspectRatio": 2,
           "assembly": "default",
           "bondScale": 0.4,
           "bondSpacing": 1,
           "clipCenter": {
            "x": 0,
            "y": 0,
            "z": 0
           },
           "clipNear": 0,
           "clipRadius": 0,
           "colorMode": "hcl",
           "colorReverse": false,
           "colorScale": "",
           "colorScheme": "element",
           "colorValue": 9474192,
           "cylinderOnly": false,
           "defaultAssembly": "",
           "depthWrite": true,
           "diffuse": 16777215,
           "diffuseInterior": false,
           "disableImpostor": false,
           "disablePicking": false,
           "flatShaded": false,
           "interiorColor": 2236962,
           "interiorDarkening": 0,
           "lazy": false,
           "lineOnly": false,
           "linewidth": 2,
           "matrix": {
            "elements": [
             1,
             0,
             0,
             0,
             0,
             1,
             0,
             0,
             0,
             0,
             1,
             0,
             0,
             0,
             0,
             1
            ]
           },
           "metalness": 0,
           "multipleBond": "off",
           "opacity": 1,
           "openEnded": true,
           "quality": "medium",
           "radialSegments": 10,
           "radiusData": {},
           "radiusScale": 1,
           "radiusSize": 0.15,
           "radiusType": "size",
           "roughness": 0.4,
           "sele": "all",
           "side": "double",
           "sphereDetail": 1,
           "useInteriorColor": true,
           "visible": true,
           "wireframe": false
          },
          "type": "ball+stick"
         }
        }
       },
       "_ngl_serialize": false,
       "_ngl_version": "2.0.0-dev.36",
       "_ngl_view_id": [
        "E21AA4BE-B1AE-4471-AB86-61AD2C36D1BF"
       ],
       "_player_dict": {},
       "_scene_position": {},
       "_scene_rotation": {},
       "_synced_model_ids": [],
       "_synced_repr_model_ids": [],
       "_view_height": "",
       "_view_width": "",
       "background": "white",
       "frame": 0,
       "gui_style": null,
       "layout": "IPY_MODEL_534d8e8bc7eb488f888b57d291614a6f",
       "max_frame": 1,
       "n_components": 1,
       "picked": {}
      }
     },
     "d709d31ce26544e5a797f8fbc93d55f8": {
      "model_module": "@jupyter-widgets/base",
      "model_module_version": "1.2.0",
      "model_name": "LayoutModel",
      "state": {}
     },
     "d73515437acf4d16a50303509bfa3fff": {
      "model_module": "@jupyter-widgets/controls",
      "model_module_version": "1.5.0",
      "model_name": "ButtonModel",
      "state": {
       "description": "Save image",
       "layout": "IPY_MODEL_cba38696a5ad48b4967093ba2fa33f96",
       "style": "IPY_MODEL_3355b60f77994c538bba75427d6d643a",
       "tooltip": "Save current frame to file.\nCurrently .png and .html are supported.\nIt takes a bit time, please be patient."
      }
     },
     "d7ec5cadc6e048589c6bfa4f93da9d5d": {
      "model_module": "@jupyter-widgets/controls",
      "model_module_version": "1.5.0",
      "model_name": "SliderStyleModel",
      "state": {
       "description_width": ""
      }
     },
     "d905ef5432504a68969f1df4325acf1a": {
      "model_module": "@jupyter-widgets/controls",
      "model_module_version": "1.5.0",
      "model_name": "ButtonStyleModel",
      "state": {}
     },
     "d92a8269cfa44e008abf23b13a48c8eb": {
      "model_module": "@jupyter-widgets/base",
      "model_module_version": "1.2.0",
      "model_name": "LayoutModel",
      "state": {}
     },
     "d988712ae8c7437ba22a56a7a943b8c5": {
      "model_module": "@jupyter-widgets/base",
      "model_module_version": "1.2.0",
      "model_name": "LayoutModel",
      "state": {}
     },
     "da2feadf89ac4f139837723bd0c25df1": {
      "model_module": "@jupyter-widgets/controls",
      "model_module_version": "1.5.0",
      "model_name": "ButtonStyleModel",
      "state": {}
     },
     "db5551b2e1d04437b43177549303bf4d": {
      "model_module": "@jupyter-widgets/controls",
      "model_module_version": "1.5.0",
      "model_name": "DescriptionStyleModel",
      "state": {
       "description_width": ""
      }
     },
     "db597cbae123466ea1e72a01a82dfc3a": {
      "model_module": "@jupyter-widgets/base",
      "model_module_version": "1.2.0",
      "model_name": "LayoutModel",
      "state": {}
     },
     "dbc09fac196f4cb69029d5a4e2a36e58": {
      "model_module": "@jupyter-widgets/base",
      "model_module_version": "1.2.0",
      "model_name": "LayoutModel",
      "state": {}
     },
     "dc1895d6f32641e09285ae0028841b61": {
      "model_module": "@jupyter-widgets/controls",
      "model_module_version": "1.5.0",
      "model_name": "LinkModel",
      "state": {
       "source": [
        "IPY_MODEL_2d7fe966e03b4c06b999bd70f9c6314b",
        "value"
       ],
       "target": [
        "IPY_MODEL_0fc5e697b20a48a39242d1b2d75b66a9",
        "frame"
       ]
      }
     },
     "dc3c2dea63dc45788e1ddb9cb0de2f9b": {
      "model_module": "@jupyter-widgets/base",
      "model_module_version": "1.2.0",
      "model_name": "LayoutModel",
      "state": {}
     },
     "dcec50be658e49a68748d85eba960b64": {
      "model_module": "@jupyter-widgets/controls",
      "model_module_version": "1.5.0",
      "model_name": "SliderStyleModel",
      "state": {
       "description_width": ""
      }
     },
     "dda61d69aa704133af76004fc89f6aac": {
      "model_module": "@jupyter-widgets/controls",
      "model_module_version": "1.5.0",
      "model_name": "SliderStyleModel",
      "state": {
       "description_width": ""
      }
     },
     "dddfc4435a284a92905c9629baffe4a8": {
      "model_module": "@jupyter-widgets/controls",
      "model_module_version": "1.5.0",
      "model_name": "ButtonStyleModel",
      "state": {}
     },
     "ddeab72b841d42598785aab45aa12c65": {
      "model_module": "@jupyter-widgets/controls",
      "model_module_version": "1.5.0",
      "model_name": "PlayModel",
      "state": {
       "layout": "IPY_MODEL_771e6b0fd300468096db3f90142b820c",
       "max": 1,
       "style": "IPY_MODEL_922afc962d184a77b86d3028f7565fd1",
       "value": 1
      }
     },
     "de197f3714494f65ab968f4ed4b7512a": {
      "model_module": "@jupyter-widgets/controls",
      "model_module_version": "1.5.0",
      "model_name": "DescriptionStyleModel",
      "state": {
       "description_width": ""
      }
     },
     "de2841a275ff443aafe49c29ef8de543": {
      "model_module": "@jupyter-widgets/controls",
      "model_module_version": "1.5.0",
      "model_name": "VBoxModel",
      "state": {
       "children": [
        "IPY_MODEL_710540c5302c4529a7c7d5e30b1a3a0e",
        "IPY_MODEL_7db4f27971504e8891be2fdef9fdc10e",
        "IPY_MODEL_e870950e6ed64f099f7f5385b1abef3d",
        "IPY_MODEL_e6d30467b15c4084b42b9e9ac508a0d9",
        "IPY_MODEL_2a1f6508108b40b98a01ed7257741e59",
        "IPY_MODEL_5ae5e7a3c24e4ec7a06963c2aefa450c",
        "IPY_MODEL_671ab032c4324f8a9bb47f4f16de07a2",
        "IPY_MODEL_93e3861980be4c9c885e8d92f99b8502",
        "IPY_MODEL_d315c0badf554c0b9bf7384c9b9c7ee1",
        "IPY_MODEL_ab873cd2871e4bdab3f3f3ed27442a5f",
        "IPY_MODEL_6115fac28f094d0caa1e8aa17073060b"
       ],
       "layout": "IPY_MODEL_0576458c7a924a738dc75c45652242fd"
      }
     },
     "df6d4c4ee6714f2aaf641dec9c7a2062": {
      "model_module": "@jupyter-widgets/controls",
      "model_module_version": "1.5.0",
      "model_name": "LinkModel",
      "state": {
       "source": [
        "IPY_MODEL_40eaaca8606c4199baef7ab620d92ea4",
        "value"
       ],
       "target": [
        "IPY_MODEL_ac3c8f2d7eb642c7b1ec427a6f245384",
        "frame"
       ]
      }
     },
     "dfea42b7778d4e008751e6b2274d191e": {
      "model_module": "@jupyter-widgets/controls",
      "model_module_version": "1.5.0",
      "model_name": "LinkModel",
      "state": {
       "source": [
        "IPY_MODEL_c95f5aff8974404699e8b90df451aa69",
        "value"
       ],
       "target": [
        "IPY_MODEL_f02321af4e4c4632a01c52a69f34dd18",
        "frame"
       ]
      }
     },
     "e06c12f176be463d9cf15c0ba6c89873": {
      "model_module": "@jupyter-widgets/controls",
      "model_module_version": "1.5.0",
      "model_name": "LinkModel",
      "state": {
       "source": [
        "IPY_MODEL_170d810be87f4e7f9c14b18b8c56f6f3",
        "max"
       ],
       "target": [
        "IPY_MODEL_f6d1e15c1d724d87b74f462a628b368b",
        "max_frame"
       ]
      }
     },
     "e0a33a6a09fc4df7a6902e4934056ddf": {
      "model_module": "@jupyter-widgets/controls",
      "model_module_version": "1.5.0",
      "model_name": "DescriptionStyleModel",
      "state": {
       "description_width": ""
      }
     },
     "e0c1907a7b034f629e60df62fcfec3d4": {
      "model_module": "@jupyter-widgets/controls",
      "model_module_version": "1.5.0",
      "model_name": "FloatSliderModel",
      "state": {
       "description": "Force scale",
       "layout": "IPY_MODEL_9570abf354a44500bde57aedab5d10e8",
       "step": 0.1,
       "style": "IPY_MODEL_05746f4b95d64351a4e83f006b086e3c",
       "value": 0.5
      }
     },
     "e155ed6ea24e4a6db39130ded9a1789d": {
      "model_module": "@jupyter-widgets/base",
      "model_module_version": "1.2.0",
      "model_name": "LayoutModel",
      "state": {}
     },
     "e2f28900ad1d472f9616e4a73b9acc69": {
      "model_module": "@jupyter-widgets/base",
      "model_module_version": "1.2.0",
      "model_name": "LayoutModel",
      "state": {}
     },
     "e4145aa9d3cb44d3b0ba9d53ec0db1ed": {
      "model_module": "@jupyter-widgets/controls",
      "model_module_version": "1.5.0",
      "model_name": "HBoxModel",
      "state": {
       "children": [
        "IPY_MODEL_f02321af4e4c4632a01c52a69f34dd18",
        "IPY_MODEL_7ea1092513464866b635ee4dfdf9df9d"
       ],
       "layout": "IPY_MODEL_ebb226d675d04404b96ea84aac5214ce"
      }
     },
     "e4ce3fac93a14a9db5ab0b2fb45b768d": {
      "model_module": "@jupyter-widgets/base",
      "model_module_version": "1.2.0",
      "model_name": "LayoutModel",
      "state": {
       "width": "34px"
      }
     },
     "e6089c9abca64c6a8fdead41dcb9965c": {
      "model_module": "@jupyter-widgets/base",
      "model_module_version": "1.2.0",
      "model_name": "LayoutModel",
      "state": {}
     },
     "e6d30467b15c4084b42b9e9ac508a0d9": {
      "model_module": "@jupyter-widgets/controls",
      "model_module_version": "1.5.0",
      "model_name": "IntSliderModel",
      "state": {
       "layout": "IPY_MODEL_bf5f55e51cd144cd889e19472322a6f6",
       "max": 3,
       "style": "IPY_MODEL_03a59aff0c68494b9a24cdea0a45b663"
      }
     },
     "e720ead3174047418704258c50b21847": {
      "model_module": "@jupyter-widgets/controls",
      "model_module_version": "1.5.0",
      "model_name": "DropdownModel",
      "state": {
       "_options_labels": [
        "All",
        "Si"
       ],
       "description": "Show",
       "index": 0,
       "layout": "IPY_MODEL_d3e4c78b2b3947f2bfe05fddc900de99",
       "style": "IPY_MODEL_1ff904ffbfe34cb4b23c4177acd719e8"
      }
     },
     "e7b3f42ffd724f76b4af599720f7b4d6": {
      "model_module": "@jupyter-widgets/controls",
      "model_module_version": "1.5.0",
      "model_name": "HBoxModel",
      "state": {
       "children": [
        "IPY_MODEL_c95f5aff8974404699e8b90df451aa69",
        "IPY_MODEL_bf2919950ae44420a1db0f8c6caabd66"
       ],
       "layout": "IPY_MODEL_23de4e972fef41008b964cb4610d7aeb"
      }
     },
     "e84c31d538624e3582496e5e4547f800": {
      "model_module": "@jupyter-widgets/output",
      "model_module_version": "1.0.0",
      "model_name": "OutputModel",
      "state": {
       "layout": "IPY_MODEL_7917cff40d894a99a86dbb8ab67e81fc"
      }
     },
     "e870950e6ed64f099f7f5385b1abef3d": {
      "model_module": "@jupyter-widgets/controls",
      "model_module_version": "1.5.0",
      "model_name": "FloatSliderModel",
      "state": {
       "description": "Ball size",
       "layout": "IPY_MODEL_32d3beb72f3c4845bcb0835a20e4eccb",
       "max": 1.5,
       "step": 0.01,
       "style": "IPY_MODEL_cb2eac3621a94c77827caee343b7c502",
       "value": 0.5
      }
     },
     "e93d82c9c1104ae6989de1d3e57308ab": {
      "model_module": "@jupyter-widgets/base",
      "model_module_version": "1.2.0",
      "model_name": "LayoutModel",
      "state": {}
     },
     "e93f1c93335247269e25cbcebbb676de": {
      "model_module": "@jupyter-widgets/base",
      "model_module_version": "1.2.0",
      "model_name": "LayoutModel",
      "state": {}
     },
     "e959cc2dec3546bba85a075812496e22": {
      "model_module": "@jupyter-widgets/controls",
      "model_module_version": "1.5.0",
      "model_name": "SliderStyleModel",
      "state": {
       "description_width": ""
      }
     },
     "ea16b34245c942d9a57f356b65d875d3": {
      "model_module": "@jupyter-widgets/base",
      "model_module_version": "1.2.0",
      "model_name": "LayoutModel",
      "state": {}
     },
     "ea48db686011497d81a979de94d875ed": {
      "model_module": "@jupyter-widgets/base",
      "model_module_version": "1.2.0",
      "model_name": "LayoutModel",
      "state": {}
     },
     "ea8d7bd3773a45069e5af3c4992f3137": {
      "model_module": "@jupyter-widgets/controls",
      "model_module_version": "1.5.0",
      "model_name": "DescriptionStyleModel",
      "state": {
       "description_width": ""
      }
     },
     "ebb213e3fc7f422d8d3b44cf9d2938a8": {
      "model_module": "@jupyter-widgets/controls",
      "model_module_version": "1.5.0",
      "model_name": "DescriptionStyleModel",
      "state": {
       "description_width": ""
      }
     },
     "ebb226d675d04404b96ea84aac5214ce": {
      "model_module": "@jupyter-widgets/base",
      "model_module_version": "1.2.0",
      "model_name": "LayoutModel",
      "state": {}
     },
     "ec1a5e1c36404d98adcd9cd856fa68b2": {
      "model_module": "@jupyter-widgets/base",
      "model_module_version": "1.2.0",
      "model_name": "LayoutModel",
      "state": {}
     },
     "ee29e2dc9f6b495e9ee9210cd0ef0def": {
      "model_module": "@jupyter-widgets/base",
      "model_module_version": "1.2.0",
      "model_name": "LayoutModel",
      "state": {}
     },
     "ee72f4a5bc2645c08236d2b8a05f441e": {
      "model_module": "@jupyter-widgets/controls",
      "model_module_version": "1.5.0",
      "model_name": "HBoxModel",
      "state": {
       "children": [
        "IPY_MODEL_421485bbb6bd40a6b9544491efb40959",
        "IPY_MODEL_8c7417f8d2824d518da989a2a7efaa14"
       ],
       "layout": "IPY_MODEL_2607274457324d43b37659e41932f70c"
      }
     },
     "ef0b360bf2e74d5b91f8e8a9879459b2": {
      "model_module": "@jupyter-widgets/base",
      "model_module_version": "1.2.0",
      "model_name": "LayoutModel",
      "state": {}
     },
     "ef8604d14b5e48d4a831c011b836c645": {
      "model_module": "@jupyter-widgets/controls",
      "model_module_version": "1.5.0",
      "model_name": "SliderStyleModel",
      "state": {
       "description_width": ""
      }
     },
     "efb3b56178824e8a956c3652c3096ba5": {
      "model_module": "@jupyter-widgets/controls",
      "model_module_version": "1.5.0",
      "model_name": "ButtonModel",
      "state": {
       "description": "Download image",
       "layout": "IPY_MODEL_fd56c66fd6ee4c71b7437344e9222873",
       "style": "IPY_MODEL_f35dba4e55614cb581c461d2c5aa9f4b",
       "tooltip": "Download current frame to your local PC"
      }
     },
     "efe36c13564c44dabcd156c2f55ac111": {
      "model_module": "@jupyter-widgets/controls",
      "model_module_version": "1.5.0",
      "model_name": "PlayModel",
      "state": {
       "layout": "IPY_MODEL_332296c652e74892a0c81857aa947041",
       "max": 0,
       "style": "IPY_MODEL_c25b66e995564132ab39b3996c115259"
      }
     },
     "efe810b4ec044e3f9413908e0a98d41d": {
      "model_module": "@jupyter-widgets/base",
      "model_module_version": "1.2.0",
      "model_name": "LayoutModel",
      "state": {}
     },
     "f02321af4e4c4632a01c52a69f34dd18": {
      "model_module": "nglview-js-widgets",
      "model_module_version": "3.0.1",
      "model_name": "NGLModel",
      "state": {
       "_camera_orientation": [
        5.813264155144946,
        -0.7975242583500488,
        -3.0289326832294625,
        0,
        -1.3847151668916091,
        5.073407797171167,
        -3.9934465703034867,
        0,
        2.809455827873571,
        4.150783860987166,
        4.299124279464506,
        0,
        0,
        0,
        0,
        1
       ],
       "_camera_str": "orthographic",
       "_gui_theme": null,
       "_ibtn_fullscreen": "IPY_MODEL_f071aa722e424e1e92a9e858584ba251",
       "_igui": null,
       "_iplayer": "IPY_MODEL_e7b3f42ffd724f76b4af599720f7b4d6",
       "_ngl_color_dict": {},
       "_ngl_coordinate_resource": {},
       "_ngl_full_stage_parameters": {
        "ambientColor": 14540253,
        "ambientIntensity": 0.2,
        "backgroundColor": "white",
        "cameraEyeSep": 0.3,
        "cameraFov": 40,
        "cameraType": "orthographic",
        "clipDist": 0,
        "clipFar": 100,
        "clipNear": 0,
        "fogFar": 100,
        "fogNear": 50,
        "hoverTimeout": 0,
        "impostor": true,
        "lightColor": 14540253,
        "lightIntensity": 1,
        "mousePreset": "default",
        "panSpeed": 1,
        "quality": "medium",
        "rotateSpeed": 2,
        "sampleLevel": 0,
        "tooltip": true,
        "workerDefault": true,
        "zoomSpeed": 1.2
       },
       "_ngl_msg_archive": [
        {
         "args": [
          {
           "binary": false,
           "data": "CRYST1    2.598    2.598    2.598 109.47 109.47 109.47 P 1\nMODEL     1\nATOM      1   Fe MOL     1       0.000   0.000   0.000  1.00  0.00          FE  \nENDMDL\n",
           "type": "blob"
          }
         ],
         "kwargs": {
          "defaultRepresentation": false,
          "ext": "pdb"
         },
         "methodName": "loadFile",
         "reconstruc_color_scheme": false,
         "target": "Stage",
         "type": "call_method"
        },
        {
         "args": [
          "400px",
          "300px"
         ],
         "kwargs": {},
         "methodName": "setSize",
         "reconstruc_color_scheme": false,
         "target": "Widget",
         "type": "call_method"
        },
        {
         "args": [
          "unitcell"
         ],
         "component_index": 0,
         "kwargs": {
          "sele": "all"
         },
         "methodName": "addRepresentation",
         "reconstruc_color_scheme": false,
         "target": "compList",
         "type": "call_method"
        },
        {
         "args": [
          "spacefill"
         ],
         "component_index": 0,
         "kwargs": {
          "sele": "all"
         },
         "methodName": "addRepresentation",
         "reconstruc_color_scheme": false,
         "target": "compList",
         "type": "call_method"
        },
        {
         "args": [],
         "kwargs": {
          "cameraType": "orthographic"
         },
         "methodName": "setParameters",
         "reconstruc_color_scheme": false,
         "target": "Stage",
         "type": "call_method"
        },
        {
         "args": [
          {
           "clipDist": 0
          }
         ],
         "kwargs": {},
         "methodName": "setParameters",
         "reconstruc_color_scheme": false,
         "target": "Widget",
         "type": "call_method"
        },
        {
         "args": [
          "spacefill",
          0
         ],
         "kwargs": {
          "colorScale": "rainbow",
          "colorScheme": "element",
          "radiusScale": 0.5,
          "radiusType": "covalent"
         },
         "methodName": "updateRepresentationsByName",
         "reconstruc_color_scheme": false,
         "target": "Widget",
         "type": "call_method"
        },
        {
         "args": [
          "this._Q = [[-0.577350269189626, 0.5773502691896257, 0.5773502691896257], [0.40824829046386313, -0.408248290463863, 0.8164965809277261], [0.7071067811865475, 0.7071067811865477, -1.8649311101977364e-16]]\n    var tooltip = document.createElement('div')\n    Object.assign(tooltip.style, {\n      display: 'none',\n      position: 'fixed',\n      zIndex: 10,\n      pointerEvents: 'none',\n      backgroundColor: 'rgba( 0, 0, 0, 0.6 )',\n      color: 'lightgrey',\n      padding: '8px',\n      fontFamily: 'sans-serif'\n    })\n    document.body.appendChild(tooltip)\n\n    var that = this\n    this.stage.mouseControls.remove('hoverPick')\n    this.stage.signals.hovered.add(function (pickingProxy) {\n      if (pickingProxy && (pickingProxy.atom || pickingProxy.bond)) {\n        var atom = pickingProxy.atom || pickingProxy.closestBondAtom\n        var mp = pickingProxy.mouse.position\n        //tooltip.innerText = atom.element + ' i=' + atom.index + ' (' + atom.x.toFixed(2) +  ', ' + atom.y.toFixed(2) +  ', ' + atom.z.toFixed(2) + ')'\n        //var pos = that._atoms_pos[atom.index]\n        var Q = that._Q\n        var pos_x = Q[0][0] * atom.x + Q[0][1] * atom.y + Q[0][2] * atom.z \n        var pos_y = Q[1][0] * atom.x + Q[1][1] * atom.y + Q[1][2] * atom.z\n        var pos_z = Q[2][0] * atom.x + Q[2][1] * atom.y + Q[2][2] * atom.z\n        tooltip.innerText = 'i=' + atom.index + ' ' + atom.element + ' (' + pos_x.toFixed(2) +  ', ' + pos_y.toFixed(2) +  ', ' + pos_z.toFixed(2) + ')'\n        tooltip.style.bottom = window.innerHeight - mp.y + 3 + 'px'\n        tooltip.style.left = mp.x + 3 + 'px'\n        tooltip.style.display = 'block'\n      } else {\n        tooltip.style.display = 'none'\n      }\n    })\n    "
         ],
         "kwargs": {},
         "methodName": "executeCode",
         "reconstruc_color_scheme": false,
         "target": "Widget",
         "type": "call_method"
        }
       ],
       "_ngl_original_stage_parameters": {
        "ambientColor": 14540253,
        "ambientIntensity": 0.2,
        "backgroundColor": "white",
        "cameraEyeSep": 0.3,
        "cameraFov": 40,
        "cameraType": "perspective",
        "clipDist": 10,
        "clipFar": 100,
        "clipNear": 0,
        "fogFar": 100,
        "fogNear": 50,
        "hoverTimeout": 0,
        "impostor": true,
        "lightColor": 14540253,
        "lightIntensity": 1,
        "mousePreset": "default",
        "panSpeed": 1,
        "quality": "medium",
        "rotateSpeed": 2,
        "sampleLevel": 0,
        "tooltip": true,
        "workerDefault": true,
        "zoomSpeed": 1.2
       },
       "_ngl_repr_dict": {
        "0": {
         "0": {
          "params": {
           "clipCenter": {
            "x": 0,
            "y": 0,
            "z": 0
           },
           "clipNear": 0,
           "clipRadius": 0,
           "colorMode": "hcl",
           "colorReverse": false,
           "colorScale": "",
           "colorScheme": "element",
           "colorValue": "orange",
           "defaultAssembly": "",
           "depthWrite": true,
           "diffuse": 16777215,
           "diffuseInterior": false,
           "disableImpostor": false,
           "disablePicking": false,
           "flatShaded": false,
           "interiorColor": 2236962,
           "interiorDarkening": 0,
           "lazy": false,
           "matrix": {
            "elements": [
             1,
             0,
             0,
             0,
             0,
             1,
             0,
             0,
             0,
             0,
             1,
             0,
             0,
             0,
             0,
             1
            ]
           },
           "metalness": 0,
           "opacity": 1,
           "quality": "medium",
           "radialSegments": 10,
           "radiusData": {},
           "radiusScale": 1,
           "radiusSize": 0.011908368079975465,
           "radiusType": "vdw",
           "roughness": 0.4,
           "sele": "all",
           "side": "double",
           "sphereDetail": 1,
           "useInteriorColor": true,
           "visible": true,
           "wireframe": false
          },
          "type": "unitcell"
         },
         "1": {
          "params": {
           "assembly": "default",
           "clipCenter": {
            "x": 0,
            "y": 0,
            "z": 0
           },
           "clipNear": 0,
           "clipRadius": 0,
           "colorMode": "hcl",
           "colorReverse": false,
           "colorScale": "rainbow",
           "colorScheme": "element",
           "colorValue": 9474192,
           "defaultAssembly": "",
           "depthWrite": true,
           "diffuse": 16777215,
           "diffuseInterior": false,
           "disableImpostor": false,
           "disablePicking": false,
           "flatShaded": false,
           "interiorColor": 2236962,
           "interiorDarkening": 0,
           "lazy": false,
           "matrix": {
            "elements": [
             1,
             0,
             0,
             0,
             0,
             1,
             0,
             0,
             0,
             0,
             1,
             0,
             0,
             0,
             0,
             1
            ]
           },
           "metalness": 0,
           "opacity": 1,
           "quality": "medium",
           "radiusData": {},
           "radiusScale": 0.5,
           "radiusSize": 1,
           "radiusType": "covalent",
           "roughness": 0.4,
           "sele": "all",
           "side": "double",
           "sphereDetail": 1,
           "useInteriorColor": true,
           "visible": true,
           "wireframe": false
          },
          "type": "spacefill"
         }
        }
       },
       "_ngl_serialize": false,
       "_ngl_version": "2.0.0-dev.36",
       "_ngl_view_id": [
        "6B43157D-DD3D-45ED-8D38-244FBC8225A8"
       ],
       "_player_dict": {},
       "_scene_position": {},
       "_scene_rotation": {},
       "_synced_model_ids": [],
       "_synced_repr_model_ids": [],
       "_view_height": "",
       "_view_width": "",
       "background": "white",
       "frame": 0,
       "gui_style": null,
       "layout": "IPY_MODEL_6ae5c720ebcf43a3a2c647437f551183",
       "max_frame": 3,
       "n_components": 1,
       "picked": {}
      }
     },
     "f0242905c8414accbecbe7f2e5f03278": {
      "model_module": "@jupyter-widgets/base",
      "model_module_version": "1.2.0",
      "model_name": "LayoutModel",
      "state": {}
     },
     "f071aa722e424e1e92a9e858584ba251": {
      "model_module": "@jupyter-widgets/controls",
      "model_module_version": "1.5.0",
      "model_name": "ButtonModel",
      "state": {
       "icon": "compress",
       "layout": "IPY_MODEL_23c7b4bb04d94038bd2739aa1452c43d",
       "style": "IPY_MODEL_6e08dfa7b81f4f1a829f7c6af5807f32"
      }
     },
     "f09c90edd7e4485fb1fcb03853dcdde8": {
      "model_module": "@jupyter-widgets/controls",
      "model_module_version": "1.5.0",
      "model_name": "LinkModel",
      "state": {
       "source": [
        "IPY_MODEL_2d7fe966e03b4c06b999bd70f9c6314b",
        "value"
       ],
       "target": [
        "IPY_MODEL_905346e30ad0470fa1463ef100dcdcdd",
        "value"
       ]
      }
     },
     "f0c88802ebc34475b801b32b5bc01135": {
      "model_module": "@jupyter-widgets/controls",
      "model_module_version": "1.5.0",
      "model_name": "LinkModel",
      "state": {
       "source": [
        "IPY_MODEL_ffa6ab1e573844609dffb12e118799d9",
        "max"
       ],
       "target": [
        "IPY_MODEL_433ad1b3d3c64513acce98ef9618ee31",
        "max_frame"
       ]
      }
     },
     "f1615ee5c1574a2db2a883e1384dc166": {
      "model_module": "@jupyter-widgets/base",
      "model_module_version": "1.2.0",
      "model_name": "LayoutModel",
      "state": {}
     },
     "f17285035dd949b691acae3a240d1b24": {
      "model_module": "@jupyter-widgets/controls",
      "model_module_version": "1.5.0",
      "model_name": "SliderStyleModel",
      "state": {
       "description_width": ""
      }
     },
     "f35dba4e55614cb581c461d2c5aa9f4b": {
      "model_module": "@jupyter-widgets/controls",
      "model_module_version": "1.5.0",
      "model_name": "ButtonStyleModel",
      "state": {}
     },
     "f41209e68bf24e649b29507b7f04283b": {
      "model_module": "@jupyter-widgets/controls",
      "model_module_version": "1.5.0",
      "model_name": "LinkModel",
      "state": {
       "source": [
        "IPY_MODEL_40eaaca8606c4199baef7ab620d92ea4",
        "max"
       ],
       "target": [
        "IPY_MODEL_ac3c8f2d7eb642c7b1ec427a6f245384",
        "max_frame"
       ]
      }
     },
     "f42ee511ca7b49dba59dcbd426adb018": {
      "model_module": "@jupyter-widgets/base",
      "model_module_version": "1.2.0",
      "model_name": "LayoutModel",
      "state": {}
     },
     "f4c636fdd352491498d284203d16dd54": {
      "model_module": "nglview-js-widgets",
      "model_module_version": "3.0.1",
      "model_name": "NGLModel",
      "state": {
       "_camera_orientation": [
        -2.783008111493161,
        4.081799369084931,
        7.764129756282817,
        0,
        -8.754759231720842,
        -1.7985984622217022,
        -2.1925249090459653,
        0,
        0.5449658305404229,
        -8.049340879396652,
        4.427081969120475,
        0,
        0,
        0.16750001907348633,
        0.5584999918937683,
        1
       ],
       "_camera_str": "orthographic",
       "_gui_theme": null,
       "_ibtn_fullscreen": "IPY_MODEL_bcf48404bfd84b57b3def9a51a064e18",
       "_igui": null,
       "_iplayer": "IPY_MODEL_636292c1f15d4e51ab54e69e19f492b3",
       "_ngl_color_dict": {},
       "_ngl_coordinate_resource": {},
       "_ngl_full_stage_parameters": {
        "ambientColor": 14540253,
        "ambientIntensity": 0.2,
        "backgroundColor": "white",
        "cameraEyeSep": 0.3,
        "cameraFov": 40,
        "cameraType": "orthographic",
        "clipDist": 0,
        "clipFar": 100,
        "clipNear": 0,
        "fogFar": 100,
        "fogNear": 50,
        "hoverTimeout": 0,
        "impostor": true,
        "lightColor": 14540253,
        "lightIntensity": 1,
        "mousePreset": "default",
        "panSpeed": 1,
        "quality": "medium",
        "rotateSpeed": 2,
        "sampleLevel": 0,
        "tooltip": true,
        "workerDefault": true,
        "zoomSpeed": 1.2
       },
       "_ngl_msg_archive": [
        {
         "args": [
          {
           "binary": false,
           "data": "MODEL     1\nATOM      1    C MOL     1       1.240  -0.766   0.226  1.00  0.00           C  \nATOM      2    C MOL     1       1.284   0.691  -0.226  1.00  0.00           C  \nATOM      3    C MOL     1      -0.043  -1.457  -0.226  1.00  0.00           C  \nATOM      4    C MOL     1       0.032   1.075  -1.010  1.00  0.00           C  \nATOM      5    C MOL     1      -1.284  -0.691   0.226  1.00  0.00           C  \nATOM      6    C MOL     1      -1.240   0.766  -0.226  1.00  0.00           C  \nATOM      7    H MOL     1       2.118  -0.987   0.844  1.00  0.00           H  \nATOM      8    H MOL     1       1.295  -1.421  -0.652  1.00  0.00           H  \nATOM      9    H MOL     1       1.377   1.342   0.652  1.00  0.00           H  \nATOM     10    H MOL     1       2.173   0.860  -0.844  1.00  0.00           H  \nATOM     11    H MOL     1      -0.046  -1.542  -1.319  1.00  0.00           H  \nATOM     12    H MOL     1      -0.074  -2.477   0.174  1.00  0.00           H  \nATOM     13    H MOL     1       0.016   0.527  -1.961  1.00  0.00           H  \nATOM     14    H MOL     1       0.064   2.142  -1.257  1.00  0.00           H  \nATOM     15    H MOL     1      -1.377  -1.342  -0.652  1.00  0.00           H  \nATOM     16    H MOL     1      -2.173  -0.860   0.844  1.00  0.00           H  \nATOM     17    H MOL     1      -2.118   0.987  -0.844  1.00  0.00           H  \nATOM     18    H MOL     1      -1.295   1.421   0.652  1.00  0.00           H  \nENDMDL\n",
           "type": "blob"
          }
         ],
         "kwargs": {
          "defaultRepresentation": false,
          "ext": "pdb"
         },
         "methodName": "loadFile",
         "reconstruc_color_scheme": false,
         "target": "Stage",
         "type": "call_method"
        },
        {
         "args": [
          "400px",
          "300px"
         ],
         "kwargs": {},
         "methodName": "setSize",
         "reconstruc_color_scheme": false,
         "target": "Widget",
         "type": "call_method"
        },
        {
         "args": [
          "unitcell"
         ],
         "component_index": 0,
         "kwargs": {
          "sele": "all"
         },
         "methodName": "addRepresentation",
         "reconstruc_color_scheme": false,
         "target": "compList",
         "type": "call_method"
        },
        {
         "args": [
          "spacefill"
         ],
         "component_index": 0,
         "kwargs": {
          "sele": "all"
         },
         "methodName": "addRepresentation",
         "reconstruc_color_scheme": false,
         "target": "compList",
         "type": "call_method"
        },
        {
         "args": [],
         "kwargs": {
          "cameraType": "orthographic"
         },
         "methodName": "setParameters",
         "reconstruc_color_scheme": false,
         "target": "Stage",
         "type": "call_method"
        },
        {
         "args": [
          {
           "clipDist": 0
          }
         ],
         "kwargs": {},
         "methodName": "setParameters",
         "reconstruc_color_scheme": false,
         "target": "Widget",
         "type": "call_method"
        },
        {
         "args": [
          "spacefill",
          0
         ],
         "kwargs": {
          "colorScale": "rainbow",
          "colorScheme": "element",
          "radiusScale": 0.5,
          "radiusType": "covalent"
         },
         "methodName": "updateRepresentationsByName",
         "reconstruc_color_scheme": false,
         "target": "Widget",
         "type": "call_method"
        },
        {
         "args": [
          "this._Q = [[1.0, 0.0, 0.0], [0.0, 1.0, 0.0], [0.0, 0.0, 1.0]]\n    var tooltip = document.createElement('div')\n    Object.assign(tooltip.style, {\n      display: 'none',\n      position: 'fixed',\n      zIndex: 10,\n      pointerEvents: 'none',\n      backgroundColor: 'rgba( 0, 0, 0, 0.6 )',\n      color: 'lightgrey',\n      padding: '8px',\n      fontFamily: 'sans-serif'\n    })\n    document.body.appendChild(tooltip)\n\n    var that = this\n    this.stage.mouseControls.remove('hoverPick')\n    this.stage.signals.hovered.add(function (pickingProxy) {\n      if (pickingProxy && (pickingProxy.atom || pickingProxy.bond)) {\n        var atom = pickingProxy.atom || pickingProxy.closestBondAtom\n        var mp = pickingProxy.mouse.position\n        //tooltip.innerText = atom.element + ' i=' + atom.index + ' (' + atom.x.toFixed(2) +  ', ' + atom.y.toFixed(2) +  ', ' + atom.z.toFixed(2) + ')'\n        //var pos = that._atoms_pos[atom.index]\n        var Q = that._Q\n        var pos_x = Q[0][0] * atom.x + Q[0][1] * atom.y + Q[0][2] * atom.z \n        var pos_y = Q[1][0] * atom.x + Q[1][1] * atom.y + Q[1][2] * atom.z\n        var pos_z = Q[2][0] * atom.x + Q[2][1] * atom.y + Q[2][2] * atom.z\n        tooltip.innerText = 'i=' + atom.index + ' ' + atom.element + ' (' + pos_x.toFixed(2) +  ', ' + pos_y.toFixed(2) +  ', ' + pos_z.toFixed(2) + ')'\n        tooltip.style.bottom = window.innerHeight - mp.y + 3 + 'px'\n        tooltip.style.left = mp.x + 3 + 'px'\n        tooltip.style.display = 'block'\n      } else {\n        tooltip.style.display = 'none'\n      }\n    })\n    "
         ],
         "kwargs": {},
         "methodName": "executeCode",
         "reconstruc_color_scheme": false,
         "target": "Widget",
         "type": "call_method"
        },
        {
         "args": [
          "ball+stick"
         ],
         "component_index": 0,
         "kwargs": {
          "sele": "all"
         },
         "methodName": "addRepresentation",
         "reconstruc_color_scheme": false,
         "target": "compList",
         "type": "call_method"
        }
       ],
       "_ngl_original_stage_parameters": {
        "ambientColor": 14540253,
        "ambientIntensity": 0.2,
        "backgroundColor": "white",
        "cameraEyeSep": 0.3,
        "cameraFov": 40,
        "cameraType": "perspective",
        "clipDist": 10,
        "clipFar": 100,
        "clipNear": 0,
        "fogFar": 100,
        "fogNear": 50,
        "hoverTimeout": 0,
        "impostor": true,
        "lightColor": 14540253,
        "lightIntensity": 1,
        "mousePreset": "default",
        "panSpeed": 1,
        "quality": "medium",
        "rotateSpeed": 2,
        "sampleLevel": 0,
        "tooltip": true,
        "workerDefault": true,
        "zoomSpeed": 1.2
       },
       "_ngl_repr_dict": {
        "0": {
         "0": {
          "params": {
           "clipCenter": {
            "x": 0,
            "y": 0,
            "z": 0
           },
           "clipNear": 0,
           "clipRadius": 0,
           "colorMode": "hcl",
           "colorReverse": false,
           "colorScale": "",
           "colorScheme": "element",
           "colorValue": "orange",
           "defaultAssembly": "",
           "depthWrite": true,
           "diffuse": 16777215,
           "diffuseInterior": false,
           "disableImpostor": false,
           "disablePicking": false,
           "flatShaded": false,
           "interiorColor": 2236962,
           "interiorDarkening": 0,
           "lazy": false,
           "matrix": {
            "elements": [
             1,
             0,
             0,
             0,
             0,
             1,
             0,
             0,
             0,
             0,
             1,
             0,
             0,
             0,
             0,
             1
            ]
           },
           "metalness": 0,
           "opacity": 1,
           "quality": "medium",
           "radialSegments": 10,
           "radiusData": {},
           "radiusScale": 1,
           "radiusSize": 0.5,
           "radiusType": "vdw",
           "roughness": 0.4,
           "sele": "all",
           "side": "double",
           "sphereDetail": 1,
           "useInteriorColor": true,
           "visible": true,
           "wireframe": false
          },
          "type": "unitcell"
         },
         "1": {
          "params": {
           "assembly": "default",
           "clipCenter": {
            "x": 0,
            "y": 0,
            "z": 0
           },
           "clipNear": 0,
           "clipRadius": 0,
           "colorMode": "hcl",
           "colorReverse": false,
           "colorScale": "rainbow",
           "colorScheme": "element",
           "colorValue": 9474192,
           "defaultAssembly": "",
           "depthWrite": true,
           "diffuse": 16777215,
           "diffuseInterior": false,
           "disableImpostor": false,
           "disablePicking": false,
           "flatShaded": false,
           "interiorColor": 2236962,
           "interiorDarkening": 0,
           "lazy": false,
           "matrix": {
            "elements": [
             1,
             0,
             0,
             0,
             0,
             1,
             0,
             0,
             0,
             0,
             1,
             0,
             0,
             0,
             0,
             1
            ]
           },
           "metalness": 0,
           "opacity": 1,
           "quality": "medium",
           "radiusData": {},
           "radiusScale": 0.5,
           "radiusSize": 1,
           "radiusType": "covalent",
           "roughness": 0.4,
           "sele": "all",
           "side": "double",
           "sphereDetail": 1,
           "useInteriorColor": true,
           "visible": true,
           "wireframe": false
          },
          "type": "spacefill"
         },
         "2": {
          "params": {
           "aspectRatio": 2,
           "assembly": "default",
           "bondScale": 0.4,
           "bondSpacing": 1,
           "clipCenter": {
            "x": 0,
            "y": 0,
            "z": 0
           },
           "clipNear": 0,
           "clipRadius": 0,
           "colorMode": "hcl",
           "colorReverse": false,
           "colorScale": "",
           "colorScheme": "element",
           "colorValue": 9474192,
           "cylinderOnly": false,
           "defaultAssembly": "",
           "depthWrite": true,
           "diffuse": 16777215,
           "diffuseInterior": false,
           "disableImpostor": false,
           "disablePicking": false,
           "flatShaded": false,
           "interiorColor": 2236962,
           "interiorDarkening": 0,
           "lazy": false,
           "lineOnly": false,
           "linewidth": 2,
           "matrix": {
            "elements": [
             1,
             0,
             0,
             0,
             0,
             1,
             0,
             0,
             0,
             0,
             1,
             0,
             0,
             0,
             0,
             1
            ]
           },
           "metalness": 0,
           "multipleBond": "off",
           "opacity": 1,
           "openEnded": true,
           "quality": "medium",
           "radialSegments": 10,
           "radiusData": {},
           "radiusScale": 1,
           "radiusSize": 0.15,
           "radiusType": "size",
           "roughness": 0.4,
           "sele": "all",
           "side": "double",
           "sphereDetail": 1,
           "useInteriorColor": true,
           "visible": true,
           "wireframe": false
          },
          "type": "ball+stick"
         }
        }
       },
       "_ngl_serialize": false,
       "_ngl_version": "2.0.0-dev.36",
       "_ngl_view_id": [
        "159D7AF4-1B53-49EB-AC1A-CFAB76AFB756"
       ],
       "_player_dict": {},
       "_scene_position": {},
       "_scene_rotation": {},
       "_synced_model_ids": [],
       "_synced_repr_model_ids": [],
       "_view_height": "",
       "_view_width": "",
       "background": "white",
       "frame": 0,
       "gui_style": null,
       "layout": "IPY_MODEL_d1963884ffbc4d728d6f04487de3535e",
       "max_frame": 0,
       "n_components": 1,
       "picked": {}
      }
     },
     "f5220fd21fbf4afba16622cd72a77bf9": {
      "model_module": "@jupyter-widgets/controls",
      "model_module_version": "1.5.0",
      "model_name": "SliderStyleModel",
      "state": {
       "description_width": ""
      }
     },
     "f635984a409c4ee59506555ae7828327": {
      "model_module": "@jupyter-widgets/controls",
      "model_module_version": "1.5.0",
      "model_name": "ImageModel",
      "state": {
       "layout": "IPY_MODEL_413a2f35c9674e91b34382cb9fcc9602",
       "width": "900.0"
      }
     },
     "f6d1e15c1d724d87b74f462a628b368b": {
      "model_module": "nglview-js-widgets",
      "model_module_version": "3.0.1",
      "model_name": "NGLModel",
      "state": {
       "_camera_orientation": [
        12.644463020910447,
        -2.4354980632452885,
        -2.862260705056189,
        0,
        3.6181112999888287,
        5.1711876946669415,
        11.583381228914615,
        0,
        -1.01659125545793,
        -11.88838926252864,
        5.624888906358308,
        0,
        -1.38100004196167,
        -1.8270000219345093,
        -2.4024999141693115,
        1
       ],
       "_camera_str": "orthographic",
       "_gui_theme": null,
       "_ibtn_fullscreen": "IPY_MODEL_42bf7ceaf4ae4214b2936fa400302e0e",
       "_igui": null,
       "_iplayer": "IPY_MODEL_34587ad09cac4d9588eb207f6a8be5f6",
       "_ngl_color_dict": {},
       "_ngl_coordinate_resource": {},
       "_ngl_full_stage_parameters": {
        "ambientColor": 14540253,
        "ambientIntensity": 0.2,
        "backgroundColor": "white",
        "cameraEyeSep": 0.3,
        "cameraFov": 40,
        "cameraType": "orthographic",
        "clipDist": 0,
        "clipFar": 100,
        "clipNear": 0,
        "fogFar": 100,
        "fogNear": 50,
        "hoverTimeout": 0,
        "impostor": true,
        "lightColor": 14540253,
        "lightIntensity": 1,
        "mousePreset": "default",
        "panSpeed": 1,
        "quality": "medium",
        "rotateSpeed": 2,
        "sampleLevel": 0,
        "tooltip": true,
        "workerDefault": true,
        "zoomSpeed": 1.2
       },
       "_ngl_msg_archive": [
        {
         "args": [
          {
           "binary": false,
           "data": "CRYST1    5.028    5.028    5.519  90.00  90.00 120.00 P 1\nMODEL     1\nATOM      1   Si MOL     1       1.314   2.276   0.000  1.00  0.00          SI  \nATOM      2   Si MOL     1       2.400   0.000   3.679  1.00  0.00          SI  \nATOM      3   Si MOL     1       3.828   2.078   1.840  1.00  0.00          SI  \nATOM      4    O MOL     1       0.831   3.654   4.805  1.00  0.00           O  \nATOM      5    O MOL     1      -1.066   3.247   2.966  1.00  0.00           O  \nATOM      6    O MOL     1       0.235   1.807   1.126  1.00  0.00           O  \nATOM      7    O MOL     1       2.749   2.547   0.714  1.00  0.00           O  \nATOM      8    O MOL     1       3.345   0.700   2.553  1.00  0.00           O  \nATOM      9    O MOL     1       1.447   1.107   4.393  1.00  0.00           O  \nENDMDL\n",
           "type": "blob"
          }
         ],
         "kwargs": {
          "defaultRepresentation": false,
          "ext": "pdb"
         },
         "methodName": "loadFile",
         "reconstruc_color_scheme": false,
         "target": "Stage",
         "type": "call_method"
        },
        {
         "args": [
          "500px",
          "500px"
         ],
         "kwargs": {},
         "methodName": "setSize",
         "reconstruc_color_scheme": false,
         "target": "Widget",
         "type": "call_method"
        },
        {
         "args": [
          "unitcell"
         ],
         "component_index": 0,
         "kwargs": {
          "sele": "all"
         },
         "methodName": "addRepresentation",
         "reconstruc_color_scheme": false,
         "target": "compList",
         "type": "call_method"
        },
        {
         "args": [
          "spacefill"
         ],
         "component_index": 0,
         "kwargs": {
          "sele": "all"
         },
         "methodName": "addRepresentation",
         "reconstruc_color_scheme": false,
         "target": "compList",
         "type": "call_method"
        },
        {
         "args": [],
         "kwargs": {
          "cameraType": "orthographic"
         },
         "methodName": "setParameters",
         "reconstruc_color_scheme": false,
         "target": "Stage",
         "type": "call_method"
        },
        {
         "args": [
          {
           "clipDist": 0
          }
         ],
         "kwargs": {},
         "methodName": "setParameters",
         "reconstruc_color_scheme": false,
         "target": "Widget",
         "type": "call_method"
        },
        {
         "args": [
          "spacefill",
          0
         ],
         "kwargs": {
          "colorScale": "rainbow",
          "colorScheme": "element",
          "radiusScale": 0.5,
          "radiusType": "covalent"
         },
         "methodName": "updateRepresentationsByName",
         "reconstruc_color_scheme": false,
         "target": "Widget",
         "type": "call_method"
        },
        {
         "args": [
          "this._Q = [[1.0, 0.0, 0.0], [0.0, 1.0, 0.0], [0.0, 0.0, 1.0]]\n    var tooltip = document.createElement('div')\n    Object.assign(tooltip.style, {\n      display: 'none',\n      position: 'fixed',\n      zIndex: 10,\n      pointerEvents: 'none',\n      backgroundColor: 'rgba( 0, 0, 0, 0.6 )',\n      color: 'lightgrey',\n      padding: '8px',\n      fontFamily: 'sans-serif'\n    })\n    document.body.appendChild(tooltip)\n\n    var that = this\n    this.stage.mouseControls.remove('hoverPick')\n    this.stage.signals.hovered.add(function (pickingProxy) {\n      if (pickingProxy && (pickingProxy.atom || pickingProxy.bond)) {\n        var atom = pickingProxy.atom || pickingProxy.closestBondAtom\n        var mp = pickingProxy.mouse.position\n        //tooltip.innerText = atom.element + ' i=' + atom.index + ' (' + atom.x.toFixed(2) +  ', ' + atom.y.toFixed(2) +  ', ' + atom.z.toFixed(2) + ')'\n        //var pos = that._atoms_pos[atom.index]\n        var Q = that._Q\n        var pos_x = Q[0][0] * atom.x + Q[0][1] * atom.y + Q[0][2] * atom.z \n        var pos_y = Q[1][0] * atom.x + Q[1][1] * atom.y + Q[1][2] * atom.z\n        var pos_z = Q[2][0] * atom.x + Q[2][1] * atom.y + Q[2][2] * atom.z\n        tooltip.innerText = 'i=' + atom.index + ' ' + atom.element + ' (' + pos_x.toFixed(2) +  ', ' + pos_y.toFixed(2) +  ', ' + pos_z.toFixed(2) + ')'\n        tooltip.style.bottom = window.innerHeight - mp.y + 3 + 'px'\n        tooltip.style.left = mp.x + 3 + 'px'\n        tooltip.style.display = 'block'\n      } else {\n        tooltip.style.display = 'none'\n      }\n    })\n    "
         ],
         "kwargs": {},
         "methodName": "executeCode",
         "reconstruc_color_scheme": false,
         "target": "Widget",
         "type": "call_method"
        },
        {
         "args": [
          "ball+stick"
         ],
         "component_index": 0,
         "kwargs": {
          "sele": "all"
         },
         "methodName": "addRepresentation",
         "reconstruc_color_scheme": false,
         "target": "compList",
         "type": "call_method"
        }
       ],
       "_ngl_original_stage_parameters": {
        "ambientColor": 14540253,
        "ambientIntensity": 0.2,
        "backgroundColor": "white",
        "cameraEyeSep": 0.3,
        "cameraFov": 40,
        "cameraType": "perspective",
        "clipDist": 10,
        "clipFar": 100,
        "clipNear": 0,
        "fogFar": 100,
        "fogNear": 50,
        "hoverTimeout": 0,
        "impostor": true,
        "lightColor": 14540253,
        "lightIntensity": 1,
        "mousePreset": "default",
        "panSpeed": 1,
        "quality": "medium",
        "rotateSpeed": 2,
        "sampleLevel": 0,
        "tooltip": true,
        "workerDefault": true,
        "zoomSpeed": 1.2
       },
       "_ngl_repr_dict": {
        "0": {
         "0": {
          "params": {
           "clipCenter": {
            "x": 0,
            "y": 0,
            "z": 0
           },
           "clipNear": 0,
           "clipRadius": 0,
           "colorMode": "hcl",
           "colorReverse": false,
           "colorScale": "",
           "colorScheme": "element",
           "colorValue": "orange",
           "defaultAssembly": "",
           "depthWrite": true,
           "diffuse": 16777215,
           "diffuseInterior": false,
           "disableImpostor": false,
           "disablePicking": false,
           "flatShaded": false,
           "interiorColor": 2236962,
           "interiorDarkening": 0,
           "lazy": false,
           "matrix": {
            "elements": [
             1,
             0,
             0,
             0,
             0,
             1,
             0,
             0,
             0,
             0,
             1,
             0,
             0,
             0,
             0,
             1
            ]
           },
           "metalness": 0,
           "opacity": 1,
           "quality": "medium",
           "radialSegments": 10,
           "radiusData": {},
           "radiusScale": 1,
           "radiusSize": 0.0247208561684643,
           "radiusType": "vdw",
           "roughness": 0.4,
           "sele": "all",
           "side": "double",
           "sphereDetail": 1,
           "useInteriorColor": true,
           "visible": true,
           "wireframe": false
          },
          "type": "unitcell"
         },
         "1": {
          "params": {
           "assembly": "default",
           "clipCenter": {
            "x": 0,
            "y": 0,
            "z": 0
           },
           "clipNear": 0,
           "clipRadius": 0,
           "colorMode": "hcl",
           "colorReverse": false,
           "colorScale": "rainbow",
           "colorScheme": "element",
           "colorValue": 9474192,
           "defaultAssembly": "",
           "depthWrite": true,
           "diffuse": 16777215,
           "diffuseInterior": false,
           "disableImpostor": false,
           "disablePicking": false,
           "flatShaded": false,
           "interiorColor": 2236962,
           "interiorDarkening": 0,
           "lazy": false,
           "matrix": {
            "elements": [
             1,
             0,
             0,
             0,
             0,
             1,
             0,
             0,
             0,
             0,
             1,
             0,
             0,
             0,
             0,
             1
            ]
           },
           "metalness": 0,
           "opacity": 1,
           "quality": "medium",
           "radiusData": {},
           "radiusScale": 0.5,
           "radiusSize": 1,
           "radiusType": "covalent",
           "roughness": 0.4,
           "sele": "all",
           "side": "double",
           "sphereDetail": 1,
           "useInteriorColor": true,
           "visible": true,
           "wireframe": false
          },
          "type": "spacefill"
         },
         "2": {
          "params": {
           "aspectRatio": 2,
           "assembly": "default",
           "bondScale": 0.4,
           "bondSpacing": 1,
           "clipCenter": {
            "x": 0,
            "y": 0,
            "z": 0
           },
           "clipNear": 0,
           "clipRadius": 0,
           "colorMode": "hcl",
           "colorReverse": false,
           "colorScale": "",
           "colorScheme": "element",
           "colorValue": 9474192,
           "cylinderOnly": false,
           "defaultAssembly": "",
           "depthWrite": true,
           "diffuse": 16777215,
           "diffuseInterior": false,
           "disableImpostor": false,
           "disablePicking": false,
           "flatShaded": false,
           "interiorColor": 2236962,
           "interiorDarkening": 0,
           "lazy": false,
           "lineOnly": false,
           "linewidth": 2,
           "matrix": {
            "elements": [
             1,
             0,
             0,
             0,
             0,
             1,
             0,
             0,
             0,
             0,
             1,
             0,
             0,
             0,
             0,
             1
            ]
           },
           "metalness": 0,
           "multipleBond": "off",
           "opacity": 1,
           "openEnded": true,
           "quality": "medium",
           "radialSegments": 10,
           "radiusData": {},
           "radiusScale": 1,
           "radiusSize": 0.15,
           "radiusType": "size",
           "roughness": 0.4,
           "sele": "all",
           "side": "double",
           "sphereDetail": 1,
           "useInteriorColor": true,
           "visible": true,
           "wireframe": false
          },
          "type": "ball+stick"
         }
        }
       },
       "_ngl_serialize": false,
       "_ngl_version": "2.0.0-dev.36",
       "_ngl_view_id": [
        "67405062-4FED-4068-8FCF-87D5EA259873"
       ],
       "_player_dict": {},
       "_scene_position": {},
       "_scene_rotation": {},
       "_synced_model_ids": [],
       "_synced_repr_model_ids": [],
       "_view_height": "",
       "_view_width": "",
       "background": "white",
       "frame": 0,
       "gui_style": null,
       "layout": "IPY_MODEL_259dcd64b3724cc99d4ad9b3586ab439",
       "max_frame": 0,
       "n_components": 1,
       "picked": {}
      }
     },
     "f7a06788757044de9c6531111751ac62": {
      "model_module": "@jupyter-widgets/base",
      "model_module_version": "1.2.0",
      "model_name": "LayoutModel",
      "state": {}
     },
     "f8fa34ee75a94337af9b4caae55cd015": {
      "model_module": "@jupyter-widgets/controls",
      "model_module_version": "1.5.0",
      "model_name": "ButtonStyleModel",
      "state": {}
     },
     "fa2f1284191d424db31faa939ad0a707": {
      "model_module": "@jupyter-widgets/output",
      "model_module_version": "1.0.0",
      "model_name": "OutputModel",
      "state": {
       "layout": "IPY_MODEL_d4c04a39eb87491593e373dbe4f59dad"
      }
     },
     "fa6a7652d1c24dcaa6bd459cc93631f4": {
      "model_module": "@jupyter-widgets/controls",
      "model_module_version": "1.5.0",
      "model_name": "HBoxModel",
      "state": {
       "children": [
        "IPY_MODEL_c983a77fe51b4e788e9ac25063210baa",
        "IPY_MODEL_75fa5ab893ab4a5db39e7e035d045f18"
       ],
       "layout": "IPY_MODEL_1bdedd62e5c14045ab99eec3be3529cc"
      }
     },
     "fa86894d5b8646e8a72f94010c870c41": {
      "model_module": "@jupyter-widgets/controls",
      "model_module_version": "1.5.0",
      "model_name": "SliderStyleModel",
      "state": {
       "description_width": ""
      }
     },
     "fb098a26e05f4b35a5a7c2e7507d5b74": {
      "model_module": "@jupyter-widgets/base",
      "model_module_version": "1.2.0",
      "model_name": "LayoutModel",
      "state": {}
     },
     "fb7187197f1142cd9c98dcba0ea08526": {
      "model_module": "@jupyter-widgets/controls",
      "model_module_version": "1.5.0",
      "model_name": "HBoxModel",
      "state": {
       "children": [
        "IPY_MODEL_0fc5e697b20a48a39242d1b2d75b66a9",
        "IPY_MODEL_68c3b6776e1e4842b8726c7a9933d8a2"
       ],
       "layout": "IPY_MODEL_5eb41bf3a5304188b2ed66f9b5a4a6e4"
      }
     },
     "fbb224afeeb14b108957a64b8be73e12": {
      "model_module": "@jupyter-widgets/base",
      "model_module_version": "1.2.0",
      "model_name": "LayoutModel",
      "state": {}
     },
     "fbb7a73f446c4ca98a9beb8a740e646d": {
      "model_module": "@jupyter-widgets/base",
      "model_module_version": "1.2.0",
      "model_name": "LayoutModel",
      "state": {}
     },
     "fc168f908515465082a40239411878db": {
      "model_module": "@jupyter-widgets/controls",
      "model_module_version": "1.5.0",
      "model_name": "DropdownModel",
      "state": {
       "_options_labels": [
        " ",
        "picking",
        "random",
        "uniform",
        "atomindex",
        "residueindex",
        "chainindex",
        "modelindex",
        "sstruc",
        "element",
        "resname",
        "bfactor",
        "hydrophobicity",
        "value",
        "volume",
        "occupancy"
       ],
       "description": "Color scheme",
       "index": 9,
       "layout": "IPY_MODEL_d0392d6ef1dc4358ba7221baea9f91e5",
       "style": "IPY_MODEL_db5551b2e1d04437b43177549303bf4d"
      }
     },
     "fc25a8e60fb64f45b3245dec413e3beb": {
      "model_module": "@jupyter-widgets/controls",
      "model_module_version": "1.5.0",
      "model_name": "DescriptionStyleModel",
      "state": {
       "description_width": ""
      }
     },
     "fc729fa8a0b44e498553d8a1cbbdabdd": {
      "model_module": "@jupyter-widgets/controls",
      "model_module_version": "1.5.0",
      "model_name": "LinkModel",
      "state": {
       "source": [
        "IPY_MODEL_ddeab72b841d42598785aab45aa12c65",
        "value"
       ],
       "target": [
        "IPY_MODEL_433ad1b3d3c64513acce98ef9618ee31",
        "frame"
       ]
      }
     },
     "fca8057339f148f6a827b4754781b065": {
      "model_module": "@jupyter-widgets/base",
      "model_module_version": "1.2.0",
      "model_name": "LayoutModel",
      "state": {}
     },
     "fd56c66fd6ee4c71b7437344e9222873": {
      "model_module": "@jupyter-widgets/base",
      "model_module_version": "1.2.0",
      "model_name": "LayoutModel",
      "state": {}
     },
     "fda2322dda1b4d428e5bb3dd6a4e2eec": {
      "model_module": "@jupyter-widgets/controls",
      "model_module_version": "1.5.0",
      "model_name": "CheckboxModel",
      "state": {
       "description": "Show charge",
       "disabled": false,
       "layout": "IPY_MODEL_f7a06788757044de9c6531111751ac62",
       "style": "IPY_MODEL_6e3aea11be1d466c81884ac3c9a2e2cf",
       "value": false
      }
     },
     "fdcf32cfcc6c4de5b90f2f84fe7bddaa": {
      "model_module": "@jupyter-widgets/controls",
      "model_module_version": "1.5.0",
      "model_name": "LinkModel",
      "state": {
       "source": [
        "IPY_MODEL_7464adb67f8c47369ca8d5492bd2a638",
        "value"
       ],
       "target": [
        "IPY_MODEL_b4d28bf15caa46419dcd56907f9f82a8",
        "value"
       ]
      }
     },
     "fe307212510d4683a01d1e28c55735ba": {
      "model_module": "@jupyter-widgets/controls",
      "model_module_version": "1.5.0",
      "model_name": "ButtonStyleModel",
      "state": {}
     },
     "fe4a61a91b8340019dbe8735ee421b87": {
      "model_module": "@jupyter-widgets/base",
      "model_module_version": "1.2.0",
      "model_name": "LayoutModel",
      "state": {}
     },
     "ffa6ab1e573844609dffb12e118799d9": {
      "model_module": "@jupyter-widgets/controls",
      "model_module_version": "1.5.0",
      "model_name": "IntSliderModel",
      "state": {
       "layout": "IPY_MODEL_e6089c9abca64c6a8fdead41dcb9965c",
       "max": 1,
       "style": "IPY_MODEL_77478254522948a0b4c68d7b1569e5ba",
       "value": 1
      }
     }
    },
    "version_major": 2,
    "version_minor": 0
   }
  }
 },
 "nbformat": 4,
 "nbformat_minor": 5
}
